{
 "cells": [
  {
   "cell_type": "code",
   "execution_count": 1,
   "metadata": {},
   "outputs": [
    {
     "name": "stdout",
     "output_type": "stream",
     "text": [
      "Using device: cpu\n"
     ]
    }
   ],
   "source": [
    "import torch\n",
    "\n",
    "# Local imports\n",
    "from train import train_model"
   ]
  },
  {
   "cell_type": "code",
   "execution_count": 2,
   "metadata": {},
   "outputs": [
    {
     "name": "stdout",
     "output_type": "stream",
     "text": [
      "Using device: cuda:0\n"
     ]
    }
   ],
   "source": [
    "if torch.backends.mps.is_available():\n",
    "    device = torch.device(\"mps\")\n",
    "elif torch.cuda.is_available():\n",
    "    device = torch.device(\"cuda:0\")\n",
    "else:\n",
    "    device = torch.device(\"cpu\")\n",
    "\n",
    "print(f\"Using device: {device}\")"
   ]
  },
  {
   "cell_type": "code",
   "execution_count": 3,
   "metadata": {},
   "outputs": [],
   "source": [
    "args = {\n",
    "    \"use_small_dataset\": False,\n",
    "    \"batch_size\": 64,\n",
    "    \"stoppage_epochs\": 42,\n",
    "    \"max_epochs\": 512,\n",
    "    \"seed\": 42,\n",
    "    \"data_path\": \"../data\",\n",
    "    \"frac_train\": 0.8,\n",
    "    \"frac_validation\": 0.1,\n",
    "    \"frac_test\": 0.1,\n",
    "    \"huber_beta\": 2.0,\n",
    "    \"weight_decay\": 1e-3,\n",
    "    \"lr\": 3e-4,\n",
    "    \"scheduler_patience\": 10,\n",
    "    \"scheduler_factor\": 0.5,\n",
    "    \"hidden_size\": 96,\n",
    "    \"num_layers\": 7,\n",
    "    \"num_attn_heads\": 6,\n",
    "    \"dropout\": 0.2,\n",
    "    \"leaky_relu_slope\": 0.2,\n",
    "    \"pooling_dim\": 96,\n",
    "}"
   ]
  },
  {
   "cell_type": "code",
   "execution_count": null,
   "metadata": {},
   "outputs": [
    {
     "name": "stdout",
     "output_type": "stream",
     "text": [
      "Model parameters: 182714\n"
     ]
    },
    {
     "name": "stderr",
     "output_type": "stream",
     "text": [
      "Epoch 1/512: 100%|██████████████████████████████████████████████████████████████████████| 910/910 [02:34<00:00,  5.88it/s]\n"
     ]
    },
    {
     "name": "stdout",
     "output_type": "stream",
     "text": [
      "Epoch 1/512: \n",
      "Train Loss = 0.33041, Train MSE = 1.34469, Train MAE = 0.94143, Train Acc = 0.59252\n",
      "Val Loss = 0.32178, Val MSE = 1.30850, Val MAE = 0.93125, Val Acc = 0.60077\n"
     ]
    },
    {
     "name": "stderr",
     "output_type": "stream",
     "text": [
      "Epoch 2/512: 100%|██████████████████████████████████████████████████████████████████████| 910/910 [00:44<00:00, 20.62it/s]\n"
     ]
    },
    {
     "name": "stdout",
     "output_type": "stream",
     "text": [
      "Epoch 2/512: \n",
      "Train Loss = 0.31951, Train MSE = 1.29772, Train MAE = 0.92555, Train Acc = 0.60144\n",
      "Val Loss = 0.30840, Val MSE = 1.25575, Val MAE = 0.90588, Val Acc = 0.61493\n"
     ]
    },
    {
     "name": "stderr",
     "output_type": "stream",
     "text": [
      "Epoch 3/512: 100%|██████████████████████████████████████████████████████████████████████| 910/910 [00:44<00:00, 20.38it/s]\n"
     ]
    },
    {
     "name": "stdout",
     "output_type": "stream",
     "text": [
      "Epoch 3/512: \n",
      "Train Loss = 0.30748, Train MSE = 1.24822, Train MAE = 0.90529, Train Acc = 0.61302\n",
      "Val Loss = 0.30442, Val MSE = 1.23355, Val MAE = 0.90061, Val Acc = 0.60998\n"
     ]
    },
    {
     "name": "stderr",
     "output_type": "stream",
     "text": [
      "Epoch 4/512: 100%|██████████████████████████████████████████████████████████████████████| 910/910 [00:44<00:00, 20.48it/s]\n"
     ]
    },
    {
     "name": "stdout",
     "output_type": "stream",
     "text": [
      "Epoch 4/512: \n",
      "Train Loss = 0.29875, Train MSE = 1.21234, Train MAE = 0.88946, Train Acc = 0.62361\n",
      "Val Loss = 0.28973, Val MSE = 1.17701, Val MAE = 0.87304, Val Acc = 0.63294\n"
     ]
    },
    {
     "name": "stderr",
     "output_type": "stream",
     "text": [
      "Epoch 5/512: 100%|██████████████████████████████████████████████████████████████████████| 910/910 [00:44<00:00, 20.50it/s]\n"
     ]
    },
    {
     "name": "stdout",
     "output_type": "stream",
     "text": [
      "Epoch 5/512: \n",
      "Train Loss = 0.29232, Train MSE = 1.18586, Train MAE = 0.87931, Train Acc = 0.62833\n",
      "Val Loss = 0.28382, Val MSE = 1.15320, Val MAE = 0.85898, Val Acc = 0.64119\n"
     ]
    },
    {
     "name": "stderr",
     "output_type": "stream",
     "text": [
      "Epoch 6/512: 100%|██████████████████████████████████████████████████████████████████████| 910/910 [00:44<00:00, 20.48it/s]\n"
     ]
    },
    {
     "name": "stdout",
     "output_type": "stream",
     "text": [
      "Epoch 6/512: \n",
      "Train Loss = 0.28404, Train MSE = 1.15190, Train MAE = 0.86341, Train Acc = 0.64038\n",
      "Val Loss = 0.27539, Val MSE = 1.11691, Val MAE = 0.84836, Val Acc = 0.64476\n"
     ]
    },
    {
     "name": "stderr",
     "output_type": "stream",
     "text": [
      "Epoch 7/512: 100%|██████████████████████████████████████████████████████████████████████| 910/910 [00:44<00:00, 20.41it/s]\n"
     ]
    },
    {
     "name": "stdout",
     "output_type": "stream",
     "text": [
      "Epoch 7/512: \n",
      "Train Loss = 0.27772, Train MSE = 1.12594, Train MAE = 0.85256, Train Acc = 0.64706\n",
      "Val Loss = 0.26354, Val MSE = 1.07064, Val MAE = 0.82267, Val Acc = 0.66525\n"
     ]
    },
    {
     "name": "stderr",
     "output_type": "stream",
     "text": [
      "Epoch 8/512: 100%|██████████████████████████████████████████████████████████████████████| 910/910 [00:44<00:00, 20.42it/s]\n"
     ]
    },
    {
     "name": "stdout",
     "output_type": "stream",
     "text": [
      "Epoch 8/512: \n",
      "Train Loss = 0.27009, Train MSE = 1.09531, Train MAE = 0.83838, Train Acc = 0.65782\n",
      "Val Loss = 0.26258, Val MSE = 1.06678, Val MAE = 0.81891, Val Acc = 0.67404\n"
     ]
    },
    {
     "name": "stderr",
     "output_type": "stream",
     "text": [
      "Epoch 9/512: 100%|██████████████████████████████████████████████████████████████████████| 910/910 [00:44<00:00, 20.37it/s]\n"
     ]
    },
    {
     "name": "stdout",
     "output_type": "stream",
     "text": [
      "Epoch 9/512: \n",
      "Train Loss = 0.26454, Train MSE = 1.07211, Train MAE = 0.82814, Train Acc = 0.66318\n",
      "Val Loss = 0.26432, Val MSE = 1.07471, Val MAE = 0.82296, Val Acc = 0.66662\n"
     ]
    },
    {
     "name": "stderr",
     "output_type": "stream",
     "text": [
      "Epoch 10/512: 100%|█████████████████████████████████████████████████████████████████████| 910/910 [00:44<00:00, 20.36it/s]\n"
     ]
    },
    {
     "name": "stdout",
     "output_type": "stream",
     "text": [
      "Epoch 10/512: \n",
      "Train Loss = 0.26065, Train MSE = 1.05633, Train MAE = 0.82115, Train Acc = 0.66772\n",
      "Val Loss = 0.27660, Val MSE = 1.12705, Val MAE = 0.84460, Val Acc = 0.65604\n"
     ]
    },
    {
     "name": "stderr",
     "output_type": "stream",
     "text": [
      "Epoch 11/512: 100%|█████████████████████████████████████████████████████████████████████| 910/910 [00:44<00:00, 20.51it/s]\n"
     ]
    },
    {
     "name": "stdout",
     "output_type": "stream",
     "text": [
      "Epoch 11/512: \n",
      "Train Loss = 0.25695, Train MSE = 1.04101, Train MAE = 0.81457, Train Acc = 0.67190\n",
      "Val Loss = 0.25266, Val MSE = 1.02616, Val MAE = 0.80127, Val Acc = 0.67982\n"
     ]
    },
    {
     "name": "stderr",
     "output_type": "stream",
     "text": [
      "Epoch 12/512: 100%|█████████████████████████████████████████████████████████████████████| 910/910 [00:44<00:00, 20.49it/s]\n"
     ]
    },
    {
     "name": "stdout",
     "output_type": "stream",
     "text": [
      "Epoch 12/512: \n",
      "Train Loss = 0.25177, Train MSE = 1.02023, Train MAE = 0.80546, Train Acc = 0.67807\n",
      "Val Loss = 0.24447, Val MSE = 0.99131, Val MAE = 0.79008, Val Acc = 0.68738\n"
     ]
    },
    {
     "name": "stderr",
     "output_type": "stream",
     "text": [
      "Epoch 13/512: 100%|█████████████████████████████████████████████████████████████████████| 910/910 [00:44<00:00, 20.49it/s]\n"
     ]
    },
    {
     "name": "stdout",
     "output_type": "stream",
     "text": [
      "Epoch 13/512: \n",
      "Train Loss = 0.24856, Train MSE = 1.00682, Train MAE = 0.79910, Train Acc = 0.68293\n",
      "Val Loss = 0.24620, Val MSE = 1.00029, Val MAE = 0.79019, Val Acc = 0.69412\n"
     ]
    },
    {
     "name": "stderr",
     "output_type": "stream",
     "text": [
      "Epoch 14/512: 100%|█████████████████████████████████████████████████████████████████████| 910/910 [00:44<00:00, 20.38it/s]\n"
     ]
    },
    {
     "name": "stdout",
     "output_type": "stream",
     "text": [
      "Epoch 14/512: \n",
      "Train Loss = 0.24621, Train MSE = 0.99755, Train MAE = 0.79454, Train Acc = 0.68551\n",
      "Val Loss = 0.24084, Val MSE = 0.97689, Val MAE = 0.78203, Val Acc = 0.69425\n"
     ]
    },
    {
     "name": "stderr",
     "output_type": "stream",
     "text": [
      "Epoch 15/512: 100%|█████████████████████████████████████████████████████████████████████| 910/910 [00:44<00:00, 20.32it/s]\n"
     ]
    },
    {
     "name": "stdout",
     "output_type": "stream",
     "text": [
      "Epoch 15/512: \n",
      "Train Loss = 0.24345, Train MSE = 0.98550, Train MAE = 0.78967, Train Acc = 0.69063\n",
      "Val Loss = 0.24988, Val MSE = 1.01459, Val MAE = 0.79927, Val Acc = 0.68518\n"
     ]
    },
    {
     "name": "stderr",
     "output_type": "stream",
     "text": [
      "Epoch 16/512: 100%|█████████████████████████████████████████████████████████████████████| 910/910 [00:44<00:00, 20.45it/s]\n"
     ]
    },
    {
     "name": "stdout",
     "output_type": "stream",
     "text": [
      "Epoch 16/512: \n",
      "Train Loss = 0.23989, Train MSE = 0.97071, Train MAE = 0.78429, Train Acc = 0.69286\n",
      "Val Loss = 0.23201, Val MSE = 0.94089, Val MAE = 0.76302, Val Acc = 0.70828\n"
     ]
    },
    {
     "name": "stderr",
     "output_type": "stream",
     "text": [
      "Epoch 17/512: 100%|█████████████████████████████████████████████████████████████████████| 910/910 [00:44<00:00, 20.49it/s]\n"
     ]
    },
    {
     "name": "stdout",
     "output_type": "stream",
     "text": [
      "Epoch 17/512: \n",
      "Train Loss = 0.23785, Train MSE = 0.96266, Train MAE = 0.77908, Train Acc = 0.69688\n",
      "Val Loss = 0.24626, Val MSE = 1.00095, Val MAE = 0.79110, Val Acc = 0.69343\n"
     ]
    },
    {
     "name": "stderr",
     "output_type": "stream",
     "text": [
      "Epoch 18/512: 100%|█████████████████████████████████████████████████████████████████████| 910/910 [00:44<00:00, 20.47it/s]\n"
     ]
    },
    {
     "name": "stdout",
     "output_type": "stream",
     "text": [
      "Epoch 18/512: \n",
      "Train Loss = 0.23385, Train MSE = 0.94639, Train MAE = 0.77227, Train Acc = 0.70158\n",
      "Val Loss = 0.23481, Val MSE = 0.95186, Val MAE = 0.76978, Val Acc = 0.70965\n"
     ]
    },
    {
     "name": "stderr",
     "output_type": "stream",
     "text": [
      "Epoch 19/512: 100%|█████████████████████████████████████████████████████████████████████| 910/910 [00:44<00:00, 20.50it/s]\n"
     ]
    },
    {
     "name": "stdout",
     "output_type": "stream",
     "text": [
      "Epoch 19/512: \n",
      "Train Loss = 0.23266, Train MSE = 0.94150, Train MAE = 0.77042, Train Acc = 0.70189\n",
      "Val Loss = 0.23160, Val MSE = 0.93925, Val MAE = 0.76602, Val Acc = 0.70786\n"
     ]
    },
    {
     "name": "stderr",
     "output_type": "stream",
     "text": [
      "Epoch 20/512: 100%|█████████████████████████████████████████████████████████████████████| 910/910 [00:44<00:00, 20.40it/s]\n"
     ]
    },
    {
     "name": "stdout",
     "output_type": "stream",
     "text": [
      "Epoch 20/512: \n",
      "Train Loss = 0.23106, Train MSE = 0.93482, Train MAE = 0.76685, Train Acc = 0.70424\n",
      "Val Loss = 0.24038, Val MSE = 0.97578, Val MAE = 0.78689, Val Acc = 0.69109\n"
     ]
    },
    {
     "name": "stderr",
     "output_type": "stream",
     "text": [
      "Epoch 21/512: 100%|█████████████████████████████████████████████████████████████████████| 910/910 [00:44<00:00, 20.47it/s]\n"
     ]
    },
    {
     "name": "stdout",
     "output_type": "stream",
     "text": [
      "Epoch 21/512: \n",
      "Train Loss = 0.22711, Train MSE = 0.91834, Train MAE = 0.75996, Train Acc = 0.70771\n",
      "Val Loss = 0.23142, Val MSE = 0.93804, Val MAE = 0.76704, Val Acc = 0.70663\n"
     ]
    },
    {
     "name": "stderr",
     "output_type": "stream",
     "text": [
      "Epoch 22/512: 100%|█████████████████████████████████████████████████████████████████████| 910/910 [00:44<00:00, 20.38it/s]\n"
     ]
    },
    {
     "name": "stdout",
     "output_type": "stream",
     "text": [
      "Epoch 22/512: \n",
      "Train Loss = 0.22617, Train MSE = 0.91492, Train MAE = 0.75889, Train Acc = 0.71013\n",
      "Val Loss = 0.22493, Val MSE = 0.91092, Val MAE = 0.75648, Val Acc = 0.71199\n"
     ]
    },
    {
     "name": "stderr",
     "output_type": "stream",
     "text": [
      "Epoch 23/512: 100%|█████████████████████████████████████████████████████████████████████| 910/910 [00:44<00:00, 20.40it/s]\n"
     ]
    },
    {
     "name": "stdout",
     "output_type": "stream",
     "text": [
      "Epoch 23/512: \n",
      "Train Loss = 0.22511, Train MSE = 0.91028, Train MAE = 0.75623, Train Acc = 0.71254\n",
      "Val Loss = 0.22127, Val MSE = 0.89722, Val MAE = 0.74602, Val Acc = 0.71845\n"
     ]
    },
    {
     "name": "stderr",
     "output_type": "stream",
     "text": [
      "Epoch 24/512: 100%|█████████████████████████████████████████████████████████████████████| 910/910 [00:44<00:00, 20.45it/s]\n"
     ]
    },
    {
     "name": "stdout",
     "output_type": "stream",
     "text": [
      "Epoch 24/512: \n",
      "Train Loss = 0.22302, Train MSE = 0.90198, Train MAE = 0.75236, Train Acc = 0.71589\n",
      "Val Loss = 0.25819, Val MSE = 1.05279, Val MAE = 0.81408, Val Acc = 0.66786\n"
     ]
    },
    {
     "name": "stderr",
     "output_type": "stream",
     "text": [
      "Epoch 25/512: 100%|█████████████████████████████████████████████████████████████████████| 910/910 [00:44<00:00, 20.56it/s]\n"
     ]
    },
    {
     "name": "stdout",
     "output_type": "stream",
     "text": [
      "Epoch 25/512: \n",
      "Train Loss = 0.22058, Train MSE = 0.89178, Train MAE = 0.74805, Train Acc = 0.71794\n",
      "Val Loss = 0.22546, Val MSE = 0.91498, Val MAE = 0.75685, Val Acc = 0.71378\n"
     ]
    },
    {
     "name": "stderr",
     "output_type": "stream",
     "text": [
      "Epoch 26/512: 100%|█████████████████████████████████████████████████████████████████████| 910/910 [00:44<00:00, 20.44it/s]\n"
     ]
    },
    {
     "name": "stdout",
     "output_type": "stream",
     "text": [
      "Epoch 26/512: \n",
      "Train Loss = 0.21980, Train MSE = 0.88877, Train MAE = 0.74596, Train Acc = 0.71878\n",
      "Val Loss = 0.22900, Val MSE = 0.92931, Val MAE = 0.76290, Val Acc = 0.70993\n"
     ]
    },
    {
     "name": "stderr",
     "output_type": "stream",
     "text": [
      "Epoch 27/512: 100%|█████████████████████████████████████████████████████████████████████| 910/910 [00:44<00:00, 20.44it/s]\n"
     ]
    },
    {
     "name": "stdout",
     "output_type": "stream",
     "text": [
      "Epoch 27/512: \n",
      "Train Loss = 0.21772, Train MSE = 0.87978, Train MAE = 0.74264, Train Acc = 0.72148\n",
      "Val Loss = 0.22464, Val MSE = 0.91151, Val MAE = 0.75430, Val Acc = 0.71474\n"
     ]
    },
    {
     "name": "stderr",
     "output_type": "stream",
     "text": [
      "Epoch 28/512: 100%|█████████████████████████████████████████████████████████████████████| 910/910 [00:44<00:00, 20.38it/s]\n"
     ]
    },
    {
     "name": "stdout",
     "output_type": "stream",
     "text": [
      "Epoch 28/512: \n",
      "Train Loss = 0.21550, Train MSE = 0.87122, Train MAE = 0.73868, Train Acc = 0.72476\n",
      "Val Loss = 0.22905, Val MSE = 0.92989, Val MAE = 0.76405, Val Acc = 0.70580\n"
     ]
    },
    {
     "name": "stderr",
     "output_type": "stream",
     "text": [
      "Epoch 29/512: 100%|█████████████████████████████████████████████████████████████████████| 910/910 [00:44<00:00, 20.55it/s]\n"
     ]
    },
    {
     "name": "stdout",
     "output_type": "stream",
     "text": [
      "Epoch 29/512: \n",
      "Train Loss = 0.21471, Train MSE = 0.86802, Train MAE = 0.73633, Train Acc = 0.72560\n",
      "Val Loss = 0.23801, Val MSE = 0.96814, Val MAE = 0.77976, Val Acc = 0.69907\n"
     ]
    },
    {
     "name": "stderr",
     "output_type": "stream",
     "text": [
      "Epoch 30/512: 100%|█████████████████████████████████████████████████████████████████████| 910/910 [00:45<00:00, 20.19it/s]\n"
     ]
    },
    {
     "name": "stdout",
     "output_type": "stream",
     "text": [
      "Epoch 30/512: \n",
      "Train Loss = 0.21350, Train MSE = 0.86263, Train MAE = 0.73523, Train Acc = 0.72655\n",
      "Val Loss = 0.21084, Val MSE = 0.85424, Val MAE = 0.72646, Val Acc = 0.73508\n"
     ]
    },
    {
     "name": "stderr",
     "output_type": "stream",
     "text": [
      "Epoch 31/512: 100%|█████████████████████████████████████████████████████████████████████| 910/910 [00:44<00:00, 20.29it/s]\n"
     ]
    },
    {
     "name": "stdout",
     "output_type": "stream",
     "text": [
      "Epoch 31/512: \n",
      "Train Loss = 0.21125, Train MSE = 0.85360, Train MAE = 0.73026, Train Acc = 0.72928\n",
      "Val Loss = 0.22543, Val MSE = 0.91606, Val MAE = 0.75472, Val Acc = 0.71378\n"
     ]
    },
    {
     "name": "stderr",
     "output_type": "stream",
     "text": [
      "Epoch 32/512: 100%|█████████████████████████████████████████████████████████████████████| 910/910 [00:45<00:00, 20.19it/s]\n"
     ]
    },
    {
     "name": "stdout",
     "output_type": "stream",
     "text": [
      "Epoch 32/512: \n",
      "Train Loss = 0.21003, Train MSE = 0.84872, Train MAE = 0.72744, Train Acc = 0.73180\n",
      "Val Loss = 0.20970, Val MSE = 0.84962, Val MAE = 0.72511, Val Acc = 0.73123\n"
     ]
    },
    {
     "name": "stderr",
     "output_type": "stream",
     "text": [
      "Epoch 33/512: 100%|█████████████████████████████████████████████████████████████████████| 910/910 [00:43<00:00, 20.72it/s]\n"
     ]
    },
    {
     "name": "stdout",
     "output_type": "stream",
     "text": [
      "Epoch 33/512: \n",
      "Train Loss = 0.20888, Train MSE = 0.84381, Train MAE = 0.72575, Train Acc = 0.73347\n",
      "Val Loss = 0.20731, Val MSE = 0.83998, Val MAE = 0.71736, Val Acc = 0.73838\n"
     ]
    },
    {
     "name": "stderr",
     "output_type": "stream",
     "text": [
      "Epoch 34/512: 100%|█████████████████████████████████████████████████████████████████████| 910/910 [00:44<00:00, 20.40it/s]\n"
     ]
    },
    {
     "name": "stdout",
     "output_type": "stream",
     "text": [
      "Epoch 34/512: \n",
      "Train Loss = 0.20723, Train MSE = 0.83702, Train MAE = 0.72250, Train Acc = 0.73461\n",
      "Val Loss = 0.21331, Val MSE = 0.86623, Val MAE = 0.72828, Val Acc = 0.72958\n"
     ]
    },
    {
     "name": "stderr",
     "output_type": "stream",
     "text": [
      "Epoch 35/512: 100%|█████████████████████████████████████████████████████████████████████| 910/910 [00:44<00:00, 20.45it/s]\n"
     ]
    },
    {
     "name": "stdout",
     "output_type": "stream",
     "text": [
      "Epoch 35/512: \n",
      "Train Loss = 0.20601, Train MSE = 0.83202, Train MAE = 0.72022, Train Acc = 0.73548\n",
      "Val Loss = 0.20964, Val MSE = 0.84980, Val MAE = 0.72169, Val Acc = 0.73852\n"
     ]
    },
    {
     "name": "stderr",
     "output_type": "stream",
     "text": [
      "Epoch 36/512: 100%|█████████████████████████████████████████████████████████████████████| 910/910 [00:44<00:00, 20.35it/s]\n"
     ]
    },
    {
     "name": "stdout",
     "output_type": "stream",
     "text": [
      "Epoch 36/512: \n",
      "Train Loss = 0.20614, Train MSE = 0.83251, Train MAE = 0.72084, Train Acc = 0.73651\n",
      "Val Loss = 0.20181, Val MSE = 0.81680, Val MAE = 0.70458, Val Acc = 0.74718\n"
     ]
    },
    {
     "name": "stderr",
     "output_type": "stream",
     "text": [
      "Epoch 37/512: 100%|█████████████████████████████████████████████████████████████████████| 910/910 [00:44<00:00, 20.44it/s]\n"
     ]
    },
    {
     "name": "stdout",
     "output_type": "stream",
     "text": [
      "Epoch 37/512: \n",
      "Train Loss = 0.20488, Train MSE = 0.82761, Train MAE = 0.71697, Train Acc = 0.73784\n",
      "Val Loss = 0.20156, Val MSE = 0.81530, Val MAE = 0.70623, Val Acc = 0.74416\n"
     ]
    },
    {
     "name": "stderr",
     "output_type": "stream",
     "text": [
      "Epoch 38/512: 100%|█████████████████████████████████████████████████████████████████████| 910/910 [00:44<00:00, 20.43it/s]\n"
     ]
    },
    {
     "name": "stdout",
     "output_type": "stream",
     "text": [
      "Epoch 38/512: \n",
      "Train Loss = 0.20410, Train MSE = 0.82422, Train MAE = 0.71647, Train Acc = 0.74126\n",
      "Val Loss = 0.20682, Val MSE = 0.83746, Val MAE = 0.71940, Val Acc = 0.73701\n"
     ]
    },
    {
     "name": "stderr",
     "output_type": "stream",
     "text": [
      "Epoch 39/512: 100%|█████████████████████████████████████████████████████████████████████| 910/910 [00:44<00:00, 20.33it/s]\n"
     ]
    },
    {
     "name": "stdout",
     "output_type": "stream",
     "text": [
      "Epoch 39/512: \n",
      "Train Loss = 0.20098, Train MSE = 0.81148, Train MAE = 0.71032, Train Acc = 0.74358\n",
      "Val Loss = 0.19683, Val MSE = 0.79593, Val MAE = 0.69671, Val Acc = 0.75144\n"
     ]
    },
    {
     "name": "stderr",
     "output_type": "stream",
     "text": [
      "Epoch 40/512: 100%|█████████████████████████████████████████████████████████████████████| 910/910 [00:44<00:00, 20.49it/s]\n"
     ]
    },
    {
     "name": "stdout",
     "output_type": "stream",
     "text": [
      "Epoch 40/512: \n",
      "Train Loss = 0.20093, Train MSE = 0.81118, Train MAE = 0.71023, Train Acc = 0.74308\n",
      "Val Loss = 0.20352, Val MSE = 0.82429, Val MAE = 0.70535, Val Acc = 0.74814\n"
     ]
    },
    {
     "name": "stderr",
     "output_type": "stream",
     "text": [
      "Epoch 41/512: 100%|█████████████████████████████████████████████████████████████████████| 910/910 [00:44<00:00, 20.43it/s]\n"
     ]
    },
    {
     "name": "stdout",
     "output_type": "stream",
     "text": [
      "Epoch 41/512: \n",
      "Train Loss = 0.19988, Train MSE = 0.80732, Train MAE = 0.70914, Train Acc = 0.74418\n",
      "Val Loss = 0.19944, Val MSE = 0.80698, Val MAE = 0.70514, Val Acc = 0.75103\n"
     ]
    },
    {
     "name": "stderr",
     "output_type": "stream",
     "text": [
      "Epoch 42/512: 100%|█████████████████████████████████████████████████████████████████████| 910/910 [00:44<00:00, 20.51it/s]\n"
     ]
    },
    {
     "name": "stdout",
     "output_type": "stream",
     "text": [
      "Epoch 42/512: \n",
      "Train Loss = 0.19868, Train MSE = 0.80185, Train MAE = 0.70600, Train Acc = 0.74478\n",
      "Val Loss = 0.20745, Val MSE = 0.84113, Val MAE = 0.71193, Val Acc = 0.74457\n"
     ]
    },
    {
     "name": "stderr",
     "output_type": "stream",
     "text": [
      "Epoch 43/512: 100%|█████████████████████████████████████████████████████████████████████| 910/910 [00:44<00:00, 20.45it/s]\n"
     ]
    },
    {
     "name": "stdout",
     "output_type": "stream",
     "text": [
      "Epoch 43/512: \n",
      "Train Loss = 0.19761, Train MSE = 0.79804, Train MAE = 0.70362, Train Acc = 0.74872\n",
      "Val Loss = 0.21498, Val MSE = 0.87052, Val MAE = 0.73670, Val Acc = 0.72615\n"
     ]
    },
    {
     "name": "stderr",
     "output_type": "stream",
     "text": [
      "Epoch 44/512: 100%|█████████████████████████████████████████████████████████████████████| 910/910 [00:44<00:00, 20.37it/s]\n"
     ]
    },
    {
     "name": "stdout",
     "output_type": "stream",
     "text": [
      "Epoch 44/512: \n",
      "Train Loss = 0.19688, Train MSE = 0.79484, Train MAE = 0.70108, Train Acc = 0.74999\n",
      "Val Loss = 0.19674, Val MSE = 0.79569, Val MAE = 0.69379, Val Acc = 0.75598\n"
     ]
    },
    {
     "name": "stderr",
     "output_type": "stream",
     "text": [
      "Epoch 45/512: 100%|█████████████████████████████████████████████████████████████████████| 910/910 [00:44<00:00, 20.44it/s]\n"
     ]
    },
    {
     "name": "stdout",
     "output_type": "stream",
     "text": [
      "Epoch 45/512: \n",
      "Train Loss = 0.19593, Train MSE = 0.79116, Train MAE = 0.69965, Train Acc = 0.75035\n",
      "Val Loss = 0.19975, Val MSE = 0.80854, Val MAE = 0.69739, Val Acc = 0.74553\n"
     ]
    },
    {
     "name": "stderr",
     "output_type": "stream",
     "text": [
      "Epoch 46/512: 100%|█████████████████████████████████████████████████████████████████████| 910/910 [00:44<00:00, 20.46it/s]\n"
     ]
    },
    {
     "name": "stdout",
     "output_type": "stream",
     "text": [
      "Epoch 46/512: \n",
      "Train Loss = 0.19581, Train MSE = 0.79017, Train MAE = 0.70076, Train Acc = 0.74875\n",
      "Val Loss = 0.20106, Val MSE = 0.81413, Val MAE = 0.70377, Val Acc = 0.74636\n"
     ]
    },
    {
     "name": "stderr",
     "output_type": "stream",
     "text": [
      "Epoch 47/512: 100%|█████████████████████████████████████████████████████████████████████| 910/910 [00:44<00:00, 20.47it/s]\n"
     ]
    },
    {
     "name": "stdout",
     "output_type": "stream",
     "text": [
      "Epoch 47/512: \n",
      "Train Loss = 0.19329, Train MSE = 0.78020, Train MAE = 0.69618, Train Acc = 0.75311\n",
      "Val Loss = 0.19775, Val MSE = 0.80123, Val MAE = 0.69825, Val Acc = 0.74952\n"
     ]
    },
    {
     "name": "stderr",
     "output_type": "stream",
     "text": [
      "Epoch 48/512: 100%|█████████████████████████████████████████████████████████████████████| 910/910 [00:44<00:00, 20.43it/s]\n"
     ]
    },
    {
     "name": "stdout",
     "output_type": "stream",
     "text": [
      "Epoch 48/512: \n",
      "Train Loss = 0.19387, Train MSE = 0.78258, Train MAE = 0.69562, Train Acc = 0.75396\n",
      "Val Loss = 0.19492, Val MSE = 0.78897, Val MAE = 0.69153, Val Acc = 0.76079\n"
     ]
    },
    {
     "name": "stderr",
     "output_type": "stream",
     "text": [
      "Epoch 49/512: 100%|█████████████████████████████████████████████████████████████████████| 910/910 [00:44<00:00, 20.49it/s]\n"
     ]
    },
    {
     "name": "stdout",
     "output_type": "stream",
     "text": [
      "Epoch 49/512: \n",
      "Train Loss = 0.19275, Train MSE = 0.77827, Train MAE = 0.69397, Train Acc = 0.75514\n",
      "Val Loss = 0.20375, Val MSE = 0.82575, Val MAE = 0.70581, Val Acc = 0.74608\n"
     ]
    },
    {
     "name": "stderr",
     "output_type": "stream",
     "text": [
      "Epoch 50/512: 100%|█████████████████████████████████████████████████████████████████████| 910/910 [00:44<00:00, 20.38it/s]\n"
     ]
    },
    {
     "name": "stdout",
     "output_type": "stream",
     "text": [
      "Epoch 50/512: \n",
      "Train Loss = 0.19195, Train MSE = 0.77484, Train MAE = 0.69246, Train Acc = 0.75595\n",
      "Val Loss = 0.19127, Val MSE = 0.77399, Val MAE = 0.68017, Val Acc = 0.76038\n"
     ]
    },
    {
     "name": "stderr",
     "output_type": "stream",
     "text": [
      "Epoch 51/512: 100%|█████████████████████████████████████████████████████████████████████| 910/910 [00:44<00:00, 20.49it/s]\n"
     ]
    },
    {
     "name": "stdout",
     "output_type": "stream",
     "text": [
      "Epoch 51/512: \n",
      "Train Loss = 0.19117, Train MSE = 0.77147, Train MAE = 0.69131, Train Acc = 0.75621\n",
      "Val Loss = 0.19493, Val MSE = 0.78840, Val MAE = 0.69429, Val Acc = 0.75584\n"
     ]
    },
    {
     "name": "stderr",
     "output_type": "stream",
     "text": [
      "Epoch 52/512: 100%|█████████████████████████████████████████████████████████████████████| 910/910 [00:44<00:00, 20.44it/s]\n"
     ]
    },
    {
     "name": "stdout",
     "output_type": "stream",
     "text": [
      "Epoch 52/512: \n",
      "Train Loss = 0.19140, Train MSE = 0.77234, Train MAE = 0.69176, Train Acc = 0.75645\n",
      "Val Loss = 0.19696, Val MSE = 0.79741, Val MAE = 0.69342, Val Acc = 0.75103\n"
     ]
    },
    {
     "name": "stderr",
     "output_type": "stream",
     "text": [
      "Epoch 53/512: 100%|█████████████████████████████████████████████████████████████████████| 910/910 [00:44<00:00, 20.44it/s]\n"
     ]
    },
    {
     "name": "stdout",
     "output_type": "stream",
     "text": [
      "Epoch 53/512: \n",
      "Train Loss = 0.18935, Train MSE = 0.76391, Train MAE = 0.68836, Train Acc = 0.75853\n",
      "Val Loss = 0.19484, Val MSE = 0.78876, Val MAE = 0.69192, Val Acc = 0.75406\n"
     ]
    },
    {
     "name": "stderr",
     "output_type": "stream",
     "text": [
      "Epoch 54/512:  10%|███████                                                               | 92/910 [00:04<00:41, 19.81it/s]"
     ]
    }
   ],
   "source": [
    "import argparse\n",
    "\n",
    "training_args = argparse.Namespace(**args)\n",
    "train_model(training_args, device)"
   ]
  },
  {
   "cell_type": "code",
   "execution_count": null,
   "metadata": {},
   "outputs": [],
   "source": []
  }
 ],
 "metadata": {
  "kernelspec": {
   "display_name": "Python (myenv)",
   "language": "python",
   "name": "myenv"
  },
  "language_info": {
   "codemirror_mode": {
    "name": "ipython",
    "version": 3
   },
   "file_extension": ".py",
   "mimetype": "text/x-python",
   "name": "python",
   "nbconvert_exporter": "python",
   "pygments_lexer": "ipython3",
   "version": "3.12.7"
  }
 },
 "nbformat": 4,
 "nbformat_minor": 4
}
