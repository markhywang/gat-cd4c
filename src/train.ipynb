{
 "cells": [
  {
   "cell_type": "code",
   "execution_count": 1,
   "metadata": {},
   "outputs": [],
   "source": [
    "import torch\n",
    "\n",
    "# Local imports\n",
    "from train import train_model"
   ]
  },
  {
   "cell_type": "code",
   "execution_count": 2,
   "metadata": {},
   "outputs": [
    {
     "name": "stdout",
     "output_type": "stream",
     "text": [
      "/opt/miniconda3/bin/python\n",
      "3.12.2 | packaged by conda-forge | (main, Feb 16 2024, 20:50:58) [GCC 12.3.0]\n"
     ]
    }
   ],
   "source": [
    "import sys\n",
    "print(sys.executable)\n",
    "print(sys.version)"
   ]
  },
  {
   "cell_type": "code",
   "execution_count": 3,
   "metadata": {},
   "outputs": [
    {
     "name": "stdout",
     "output_type": "stream",
     "text": [
      "Using device: cuda:0\n"
     ]
    }
   ],
   "source": [
    "if torch.backends.mps.is_available():\n",
    "    device = torch.device(\"mps\")\n",
    "elif torch.cuda.is_available():\n",
    "    device = torch.device(\"cuda:0\")\n",
    "else:\n",
    "    device = torch.device(\"cpu\")\n",
    "\n",
    "print(f\"Using device: {device}\")"
   ]
  },
  {
   "cell_type": "code",
   "execution_count": 4,
   "metadata": {},
   "outputs": [],
   "source": [
    "# In your train.ipynb cell where `args` is defined:\n",
    "\n",
    "args = {\n",
    "    \"dataset\": \"DAVIS\",  # Or \"KIBA\", \"CD4C\"\n",
    "    \"data_path\": \"../data\",\n",
    "    \"protein_graph_dir\": \"../data/protein_graphs\",  # <--- ADD THIS LINE (or update existing)\n",
    "    \"model_path\": '../models/gat_cd4c_davis_graphs.pth', # Example model path\n",
    "    \"seed\": 42,\n",
    "    \"device\": \"cuda\" if torch.cuda.is_available() else \"cpu\",\n",
    "    \"batch_size\": 128, # 128\n",
    "    \"max_epochs\": 500, # 500\n",
    "    \"lr\": 5e-5,      # ছিল 1e-4\n",
    "    \"weight_decay\": 1e-5, # ছিল 2e-4\n",
    "    \"stoppage_epochs\": 32, # ছিল 32\n",
    "    \"scheduler_patience\": 10,\n",
    "    \"scheduler_factor\": 0.5,\n",
    "    \"huber_beta\": 0.5,\n",
    "    \"clip_grad_norm\": 1.0,\n",
    "    \"use_small_dataset\": False, # True for quick testing\n",
    "    \"frac_train\": 0.8,\n",
    "    \"frac_validation\": 0.1,\n",
    "    \"frac_test\": 0.1,\n",
    "    \"max_nodes\": 72, # Max nodes for padding\n",
    "    \"num_workers\": 4, # Or based on your CPU cores\n",
    "    \n",
    "    # Model architecture (these should match defaults in get_parser or be set explicitly)\n",
    "    \"hidden_size\": 256,\n",
    "    \"emb_size\": 192, \n",
    "    \"num_layers\": 8,\n",
    "    \"num_attn_heads\": 12,\n",
    "    \"dropout\": 0.1, # ছিল 0.1\n",
    "    \"mlp_dropout\": 0.2, # ছিল 0.2\n",
    "    \"pooling_dim\": 192,\n",
    "    \"mlp_hidden\": 256,\n",
    "    \"use_cross\": True, # Or False\n",
    "    # \"include_3d_drug\": False, # This is handled by getattr in train.py if not present\n",
    "}\n",
    "\n",
    "# Then this line converts it to a namespace\n",
    "# training_args = argparse.Namespace(**args) \n",
    "# train_model(training_args, device)"
   ]
  },
  {
   "cell_type": "code",
   "execution_count": 5,
   "metadata": {},
   "outputs": [
    {
     "name": "stderr",
     "output_type": "stream",
     "text": [
      "Found local copy...\n",
      "Loading...\n",
      "Done!\n"
     ]
    },
    {
     "name": "stdout",
     "output_type": "stream",
     "text": [
      "Model parameters: 1,302,757\n",
      "DEBUG load_data: Received dataset_name = 'DAVIS' (type: <class 'str'>)\n",
      "Attempting to load main interaction data from: ../data/DAVIS_dataset.csv\n",
      "Cache file ../data/DAVIS_dataset.csv not found. Attempting to load DAVIS via TDC...\n",
      "INFO: Applying DAVIS-specific Kd transformation to labels.\n",
      "Loaded and cached DAVIS from TDC to ../data/DAVIS_dataset.csv\n",
      "Dataset split: Train 20617, Validation 2577, Test 2578\n"
     ]
    },
    {
     "name": "stderr",
     "output_type": "stream",
     "text": [
      "Processing drugs: 100%|██████████| 68/68 [00:00<00:00, 633.85it/s]\n"
     ]
    },
    {
     "name": "stdout",
     "output_type": "stream",
     "text": [
      "INFO: Validating protein graph paths...\n",
      "INFO: Checking 379 unique Target_IDs from the DataFrame.\n",
      "  Processed ID 1/379: original='PLK4', sanitized='PLK4' -> FOUND (using sanitized): 'PLK4.pt'\n",
      "  Processed ID 2/379: original='CDC2L5', sanitized='CDC2L5' -> FOUND (using sanitized): 'CDC2L5.pt'\n",
      "  Processed ID 3/379: original='AKT2', sanitized='AKT2' -> FOUND (using sanitized): 'AKT2.pt'\n",
      "  Processed ID 4/379: original='ACVRL1', sanitized='ACVRL1' -> FOUND (using sanitized): 'ACVRL1.pt'\n",
      "  Processed ID 5/379: original='VRK2', sanitized='VRK2' -> FOUND (using sanitized): 'VRK2.pt'\n",
      "  Processed ID 6/379: original='PRKX', sanitized='PRKX' -> FOUND (using sanitized): 'PRKX.pt'\n",
      "  Processed ID 7/379: original='DAPK1', sanitized='DAPK1' -> FOUND (using sanitized): 'DAPK1.pt'\n",
      "  Processed ID 8/379: original='EPHB6', sanitized='EPHB6' -> FOUND (using sanitized): 'EPHB6.pt'\n",
      "  Processed ID 9/379: original='EPHA4', sanitized='EPHA4' -> FOUND (using sanitized): 'EPHA4.pt'\n",
      "  Processed ID 10/379: original='MYO3A', sanitized='MYO3A' -> FOUND (using sanitized): 'MYO3A.pt'\n",
      "  Processed ID 11/379: original='PRKCI', sanitized='PRKCI' -> FOUND (using sanitized): 'PRKCI.pt'\n",
      "  Processed ID 12/379: original='PIK3CD', sanitized='PIK3CD' -> FOUND (using sanitized): 'PIK3CD.pt'\n",
      "  Processed ID 13/379: original='NEK3', sanitized='NEK3' -> FOUND (using sanitized): 'NEK3.pt'\n",
      "  Processed ID 14/379: original='ACVR2B', sanitized='ACVR2B' -> FOUND (using sanitized): 'ACVR2B.pt'\n",
      "  Processed ID 15/379: original='PFTAIRE2', sanitized='PFTAIRE2' -> FOUND (using sanitized): 'PFTAIRE2.pt'\n",
      "  Processed ID 16/379: original='FES', sanitized='FES' -> FOUND (using sanitized): 'FES.pt'\n",
      "  Processed ID 17/379: original='CDK2', sanitized='CDK2' -> FOUND (using sanitized): 'CDK2.pt'\n",
      "  Processed ID 18/379: original='EPHB4', sanitized='EPHB4' -> FOUND (using sanitized): 'EPHB4.pt'\n",
      "  Processed ID 19/379: original='PIM3', sanitized='PIM3' -> FOUND (using sanitized): 'PIM3.pt'\n",
      "  Processed ID 20/379: original='CSNK1G2', sanitized='CSNK1G2' -> FOUND (using sanitized): 'CSNK1G2.pt'\n",
      "  Processed ID 21/379: original='STK16', sanitized='STK16' -> FOUND (using sanitized): 'STK16.pt'\n",
      "  Processed ID 22/379: original='ERN1', sanitized='ERN1' -> FOUND (using sanitized): 'ERN1.pt'\n",
      "  Processed ID 23/379: original='MLK1', sanitized='MLK1' -> FOUND (using sanitized): 'MLK1.pt'\n",
      "  Processed ID 24/379: original='CDK5', sanitized='CDK5' -> FOUND (using sanitized): 'CDK5.pt'\n",
      "  Processed ID 25/379: original='FLT1', sanitized='FLT1' -> FOUND (using sanitized): 'FLT1.pt'\n",
      "  Processed ID 26/379: original='EPHA2', sanitized='EPHA2' -> FOUND (using sanitized): 'EPHA2.pt'\n",
      "  Processed ID 27/379: original='ASK1', sanitized='ASK1' -> FOUND (using sanitized): 'ASK1.pt'\n",
      "  Processed ID 28/379: original='BIKE', sanitized='BIKE' -> FOUND (using sanitized): 'BIKE.pt'\n",
      "  Processed ID 29/379: original='FAK', sanitized='FAK' -> FOUND (using sanitized): 'FAK.pt'\n",
      "  Processed ID 30/379: original='TAOK2', sanitized='TAOK2' -> FOUND (using sanitized): 'TAOK2.pt'\n",
      "  Processed ID 31/379: original='AKT3', sanitized='AKT3' -> FOUND (using sanitized): 'AKT3.pt'\n",
      "  Processed ID 32/379: original='RIPK2', sanitized='RIPK2' -> FOUND (using sanitized): 'RIPK2.pt'\n",
      "  Processed ID 33/379: original='CDK4-cyclinD3', sanitized='CDK4-cyclinD3' -> FOUND (using sanitized): 'CDK4-cyclinD3.pt'\n",
      "  Processed ID 34/379: original='MAP4K3', sanitized='MAP4K3' -> FOUND (using sanitized): 'MAP4K3.pt'\n",
      "  Processed ID 35/379: original='PLK1', sanitized='PLK1' -> FOUND (using sanitized): 'PLK1.pt'\n",
      "  Processed ID 36/379: original='OSR1', sanitized='OSR1' -> FOUND (using sanitized): 'OSR1.pt'\n",
      "  Processed ID 37/379: original='CSNK1A1', sanitized='CSNK1A1' -> FOUND (using sanitized): 'CSNK1A1.pt'\n",
      "  Processed ID 38/379: original='BMPR1B', sanitized='BMPR1B' -> FOUND (using sanitized): 'BMPR1B.pt'\n",
      "  Processed ID 39/379: original='DYRK2', sanitized='DYRK2' -> FOUND (using sanitized): 'DYRK2.pt'\n",
      "  Processed ID 40/379: original='RIOK1', sanitized='RIOK1' -> FOUND (using sanitized): 'RIOK1.pt'\n",
      "  Processed ID 41/379: original='JNK2', sanitized='JNK2' -> FOUND (using sanitized): 'JNK2.pt'\n",
      "  Processed ID 42/379: original='PKAC-beta', sanitized='PKAC-beta' -> FOUND (using sanitized): 'PKAC-beta.pt'\n",
      "  Processed ID 43/379: original='CAMK2A', sanitized='CAMK2A' -> FOUND (using sanitized): 'CAMK2A.pt'\n",
      "  Processed ID 44/379: original='PIK3CB', sanitized='PIK3CB' -> FOUND (using sanitized): 'PIK3CB.pt'\n",
      "  Processed ID 45/379: original='CSF1R', sanitized='CSF1R' -> FOUND (using sanitized): 'CSF1R.pt'\n",
      "  Processed ID 46/379: original='TRKA', sanitized='TRKA' -> FOUND (using sanitized): 'TRKA.pt'\n",
      "  Processed ID 47/379: original='MKK7', sanitized='MKK7' -> FOUND (using sanitized): 'MKK7.pt'\n",
      "  Processed ID 48/379: original='RIOK3', sanitized='RIOK3' -> FOUND (using sanitized): 'RIOK3.pt'\n",
      "  Processed ID 49/379: original='FER', sanitized='FER' -> FOUND (using sanitized): 'FER.pt'\n",
      "  Processed ID 50/379: original='ICK', sanitized='ICK' -> FOUND (using sanitized): 'ICK.pt'\n",
      "  Processed ID 51/379: original='DAPK3', sanitized='DAPK3' -> FOUND (using sanitized): 'DAPK3.pt'\n",
      "  Processed ID 52/379: original='CAMK4', sanitized='CAMK4' -> FOUND (using sanitized): 'CAMK4.pt'\n",
      "  Processed ID 53/379: original='AURKB', sanitized='AURKB' -> FOUND (using sanitized): 'AURKB.pt'\n",
      "  Processed ID 54/379: original='CDKL1', sanitized='CDKL1' -> FOUND (using sanitized): 'CDKL1.pt'\n",
      "  Processed ID 55/379: original='PDPK1', sanitized='PDPK1' -> FOUND (using sanitized): 'PDPK1.pt'\n",
      "  Processed ID 56/379: original='TYK2(JH2domain-pseudokinase)', sanitized='TYK2(JH2domain-pseudokinase)' -> FOUND (using sanitized): 'TYK2.pt'\n",
      "  Processed ID 57/379: original='TNK1', sanitized='TNK1' -> FOUND (using sanitized): 'TNK1.pt'\n",
      "  Processed ID 58/379: original='KIT(V559D-V654A)', sanitized='KIT(V559D-V654A)' -> FOUND (using sanitized): 'KIT.pt'\n",
      "  Processed ID 59/379: original='STK35', sanitized='STK35' -> FOUND (using sanitized): 'STK35.pt'\n",
      "  Processed ID 60/379: original='ARK5', sanitized='ARK5' -> FOUND (using sanitized): 'ARK5.pt'\n",
      "  Processed ID 61/379: original='EPHA5', sanitized='EPHA5' -> FOUND (using sanitized): 'EPHA5.pt'\n",
      "  Processed ID 62/379: original='CTK', sanitized='CTK' -> FOUND (using sanitized): 'CTK.pt'\n",
      "  Processed ID 63/379: original='ERBB2', sanitized='ERBB2' -> FOUND (using sanitized): 'ERBB2.pt'\n",
      "  Processed ID 64/379: original='DRAK2', sanitized='DRAK2' -> FOUND (using sanitized): 'DRAK2.pt'\n",
      "  Processed ID 65/379: original='ERK4', sanitized='ERK4' -> FOUND (using sanitized): 'ERK4.pt'\n",
      "  Processed ID 66/379: original='CLK2', sanitized='CLK2' -> FOUND (using sanitized): 'CLK2.pt'\n",
      "  Processed ID 67/379: original='AURKC', sanitized='AURKC' -> FOUND (using sanitized): 'AURKC.pt'\n",
      "  Processed ID 68/379: original='RIPK4', sanitized='RIPK4' -> FOUND (using sanitized): 'RIPK4.pt'\n",
      "  Processed ID 69/379: original='BRK', sanitized='BRK' -> FOUND (using sanitized): 'BRK.pt'\n",
      "  Processed ID 70/379: original='IKK-epsilon', sanitized='IKK-epsilon' -> FOUND (using sanitized): 'IKK-epsilon.pt'\n",
      "  Processed ID 71/379: original='CSNK1G1', sanitized='CSNK1G1' -> FOUND (using sanitized): 'CSNK1G1.pt'\n",
      "  Processed ID 72/379: original='PHKG1', sanitized='PHKG1' -> FOUND (using sanitized): 'PHKG1.pt'\n",
      "  Processed ID 73/379: original='RAF1', sanitized='RAF1' -> FOUND (using sanitized): 'RAF1.pt'\n",
      "  Processed ID 74/379: original='RIOK2', sanitized='RIOK2' -> FOUND (using sanitized): 'RIOK2.pt'\n",
      "  Processed ID 75/379: original='MEK1', sanitized='MEK1' -> FOUND (using sanitized): 'MEK1.pt'\n",
      "  Processed ID 76/379: original='IRAK1', sanitized='IRAK1' -> FOUND (using sanitized): 'IRAK1.pt'\n",
      "  Processed ID 77/379: original='PRKG1', sanitized='PRKG1' -> FOUND (using sanitized): 'PRKG1.pt'\n",
      "  Processed ID 78/379: original='MAST1', sanitized='MAST1' -> FOUND (using sanitized): 'MAST1.pt'\n",
      "  Processed ID 79/379: original='HUNK', sanitized='HUNK' -> FOUND (using sanitized): 'HUNK.pt'\n",
      "  Processed ID 80/379: original='GRK1', sanitized='GRK1' -> FOUND (using sanitized): 'GRK1.pt'\n",
      "  Processed ID 81/379: original='EPHA3', sanitized='EPHA3' -> FOUND (using sanitized): 'EPHA3.pt'\n",
      "  Processed ID 82/379: original='TGFBR1', sanitized='TGFBR1' -> FOUND (using sanitized): 'TGFBR1.pt'\n",
      "  Processed ID 83/379: original='MKNK1', sanitized='MKNK1' -> FOUND (using sanitized): 'MKNK1.pt'\n",
      "  Processed ID 84/379: original='CAMK1D', sanitized='CAMK1D' -> FOUND (using sanitized): 'CAMK1D.pt'\n",
      "  Processed ID 85/379: original='PLK3', sanitized='PLK3' -> FOUND (using sanitized): 'PLK3.pt'\n",
      "  Processed ID 86/379: original='SIK2', sanitized='SIK2' -> FOUND (using sanitized): 'SIK2.pt'\n",
      "  Processed ID 87/379: original='TGFBR2', sanitized='TGFBR2' -> FOUND (using sanitized): 'TGFBR2.pt'\n",
      "  Processed ID 88/379: original='p38-beta', sanitized='p38-beta' -> FOUND (using sanitized): 'p38-beta.pt'\n",
      "  Processed ID 89/379: original='FGFR2', sanitized='FGFR2' -> FOUND (using sanitized): 'FGFR2.pt'\n",
      "  Processed ID 90/379: original='ZAK', sanitized='ZAK' -> FOUND (using sanitized): 'ZAK.pt'\n",
      "  Processed ID 91/379: original='GSK3A', sanitized='GSK3A' -> FOUND (using sanitized): 'GSK3A.pt'\n",
      "  Processed ID 92/379: original='PIK3CG', sanitized='PIK3CG' -> FOUND (using sanitized): 'PIK3CG.pt'\n",
      "  Processed ID 93/379: original='MTOR', sanitized='MTOR' -> FOUND (using sanitized): 'MTOR.pt'\n",
      "  Processed ID 94/379: original='ZAP70', sanitized='ZAP70' -> FOUND (using sanitized): 'ZAP70.pt'\n",
      "  Processed ID 95/379: original='SgK110', sanitized='SgK110' -> FOUND (using sanitized): 'SgK110.pt'\n",
      "  Processed ID 96/379: original='RPS6KA5(KinDom.2-C-terminal)', sanitized='RPS6KA5(KinDom.2-C-terminal)' -> FOUND (using sanitized): 'RPS6KA5.pt'\n",
      "  Processed ID 97/379: original='SIK', sanitized='SIK' -> FOUND (using sanitized): 'SIK.pt'\n",
      "  Processed ID 98/379: original='PRKG2', sanitized='PRKG2' -> FOUND (using sanitized): 'PRKG2.pt'\n",
      "  Processed ID 99/379: original='LZK', sanitized='LZK' -> FOUND (using sanitized): 'LZK.pt'\n",
      "  Processed ID 100/379: original='MLK2', sanitized='MLK2' -> FOUND (using sanitized): 'MLK2.pt'\n",
      "  Processed ID 101/379: original='ALK', sanitized='ALK' -> FOUND (using sanitized): 'ALK.pt'\n",
      "  Processed ID 102/379: original='PRKCD', sanitized='PRKCD' -> FOUND (using sanitized): 'PRKCD.pt'\n",
      "  Processed ID 103/379: original='TRKB', sanitized='TRKB' -> FOUND (using sanitized): 'TRKB.pt'\n",
      "  Processed ID 104/379: original='FGFR1', sanitized='FGFR1' -> FOUND (using sanitized): 'FGFR1.pt'\n",
      "  Processed ID 105/379: original='ULK1', sanitized='ULK1' -> FOUND (using sanitized): 'ULK1.pt'\n",
      "  Processed ID 106/379: original='DCAMKL1', sanitized='DCAMKL1' -> FOUND (using sanitized): 'DCAMKL1.pt'\n",
      "  Processed ID 107/379: original='EIF2AK1', sanitized='EIF2AK1' -> FOUND (using sanitized): 'EIF2AK1.pt'\n",
      "  Processed ID 108/379: original='SRPK3', sanitized='SRPK3' -> FOUND (using sanitized): 'SRPK3.pt'\n",
      "  Processed ID 109/379: original='WEE2', sanitized='WEE2' -> FOUND (using sanitized): 'WEE2.pt'\n",
      "  Processed ID 110/379: original='TNK2', sanitized='TNK2' -> FOUND (using sanitized): 'TNK2.pt'\n",
      "  Processed ID 111/379: original='IKK-beta', sanitized='IKK-beta' -> FOUND (using sanitized): 'IKK-beta.pt'\n",
      "  Processed ID 112/379: original='RSK3(KinDom.2-C-terminal)', sanitized='RSK3(KinDom.2-C-terminal)' -> FOUND (using sanitized): 'RSK3.pt'\n",
      "  Processed ID 113/379: original='CSNK2A2', sanitized='CSNK2A2' -> FOUND (using sanitized): 'CSNK2A2.pt'\n",
      "  Processed ID 114/379: original='DLK', sanitized='DLK' -> FOUND (using sanitized): 'DLK.pt'\n",
      "  Processed ID 115/379: original='PLK2', sanitized='PLK2' -> FOUND (using sanitized): 'PLK2.pt'\n",
      "  Processed ID 116/379: original='TNNI3K', sanitized='TNNI3K' -> FOUND (using sanitized): 'TNNI3K.pt'\n",
      "  Processed ID 117/379: original='MST1', sanitized='MST1' -> FOUND (using sanitized): 'MST1.pt'\n",
      "  Processed ID 118/379: original='YSK4', sanitized='YSK4' -> FOUND (using sanitized): 'YSK4.pt'\n",
      "  Processed ID 119/379: original='FGFR3(G697C)', sanitized='FGFR3(G697C)' -> FOUND (using sanitized): 'FGFR3.pt'\n",
      "  Processed ID 120/379: original='ITK', sanitized='ITK' -> FOUND (using sanitized): 'ITK.pt'\n",
      "  Processed ID 121/379: original='PRKD1', sanitized='PRKD1' -> FOUND (using sanitized): 'PRKD1.pt'\n",
      "  Processed ID 122/379: original='SGK3', sanitized='SGK3' -> FOUND (using sanitized): 'SGK3.pt'\n",
      "  Processed ID 123/379: original='BRSK1', sanitized='BRSK1' -> FOUND (using sanitized): 'BRSK1.pt'\n",
      "  Processed ID 124/379: original='SRC', sanitized='SRC' -> FOUND (using sanitized): 'SRC.pt'\n",
      "  Processed ID 125/379: original='ADCK4', sanitized='ADCK4' -> FOUND (using sanitized): 'ADCK4.pt'\n",
      "  Processed ID 126/379: original='WEE1', sanitized='WEE1' -> FOUND (using sanitized): 'WEE1.pt'\n",
      "  Processed ID 127/379: original='CHEK2', sanitized='CHEK2' -> FOUND (using sanitized): 'CHEK2.pt'\n",
      "  Processed ID 128/379: original='YSK1', sanitized='YSK1' -> FOUND (using sanitized): 'YSK1.pt'\n",
      "  Processed ID 129/379: original='MARK4', sanitized='MARK4' -> FOUND (using sanitized): 'MARK4.pt'\n",
      "  Processed ID 130/379: original='LOK', sanitized='LOK' -> FOUND (using sanitized): 'LOK.pt'\n",
      "  Processed ID 131/379: original='EPHB2', sanitized='EPHB2' -> FOUND (using sanitized): 'EPHB2.pt'\n",
      "  Processed ID 132/379: original='MAP4K5', sanitized='MAP4K5' -> FOUND (using sanitized): 'MAP4K5.pt'\n",
      "  Processed ID 133/379: original='SLK', sanitized='SLK' -> FOUND (using sanitized): 'SLK.pt'\n",
      "  Processed ID 134/379: original='EPHA7', sanitized='EPHA7' -> FOUND (using sanitized): 'EPHA7.pt'\n",
      "  Processed ID 135/379: original='ERK3', sanitized='ERK3' -> FOUND (using sanitized): 'ERK3.pt'\n",
      "  Processed ID 136/379: original='p38-alpha', sanitized='p38-alpha' -> FOUND (using sanitized): 'p38-alpha.pt'\n",
      "  Processed ID 137/379: original='CAMK1', sanitized='CAMK1' -> FOUND (using sanitized): 'CAMK1.pt'\n",
      "  Processed ID 138/379: original='BLK', sanitized='BLK' -> FOUND (using sanitized): 'BLK.pt'\n",
      "  Processed ID 139/379: original='CDKL2', sanitized='CDKL2' -> FOUND (using sanitized): 'CDKL2.pt'\n",
      "  Processed ID 140/379: original='MAP4K2', sanitized='MAP4K2' -> FOUND (using sanitized): 'MAP4K2.pt'\n",
      "  Processed ID 141/379: original='PIK3C2B', sanitized='PIK3C2B' -> FOUND (using sanitized): 'PIK3C2B.pt'\n",
      "  Processed ID 142/379: original='HIPK4', sanitized='HIPK4' -> FOUND (using sanitized): 'HIPK4.pt'\n",
      "  Processed ID 143/379: original='JAK2(JH1domain-catalytic)', sanitized='JAK2(JH1domain-catalytic)' -> FOUND (using sanitized): 'JAK2.pt'\n",
      "  Processed ID 144/379: original='CDK3', sanitized='CDK3' -> FOUND (using sanitized): 'CDK3.pt'\n",
      "  Processed ID 145/379: original='FGFR4', sanitized='FGFR4' -> FOUND (using sanitized): 'FGFR4.pt'\n",
      "  Processed ID 146/379: original='NIM1', sanitized='NIM1' -> FOUND (using sanitized): 'NIM1.pt'\n",
      "  Processed ID 147/379: original='PIK3CA(Q546K)', sanitized='PIK3CA(Q546K)' -> FOUND (using sanitized): 'PIK3CA.pt'\n",
      "  Processed ID 148/379: original='NEK5', sanitized='NEK5' -> FOUND (using sanitized): 'NEK5.pt'\n",
      "  Processed ID 149/379: original='PHKG2', sanitized='PHKG2' -> FOUND (using sanitized): 'PHKG2.pt'\n",
      "  Processed ID 150/379: original='PIK3C2G', sanitized='PIK3C2G' -> FOUND (using sanitized): 'PIK3C2G.pt'\n",
      "  Processed ID 151/379: original='LKB1', sanitized='LKB1' -> FOUND (using sanitized): 'LKB1.pt'\n",
      "  Processed ID 152/379: original='MST1R', sanitized='MST1R' -> FOUND (using sanitized): 'MST1R.pt'\n",
      "  Processed ID 153/379: original='CAMK2G', sanitized='CAMK2G' -> FOUND (using sanitized): 'CAMK2G.pt'\n",
      "  Processed ID 154/379: original='PCTK2', sanitized='PCTK2' -> FOUND (using sanitized): 'PCTK2.pt'\n",
      "  Processed ID 155/379: original='LIMK1', sanitized='LIMK1' -> FOUND (using sanitized): 'LIMK1.pt'\n",
      "  Processed ID 156/379: original='PKN1', sanitized='PKN1' -> FOUND (using sanitized): 'PKN1.pt'\n",
      "  Processed ID 157/379: original='CAMK2B', sanitized='CAMK2B' -> FOUND (using sanitized): 'CAMK2B.pt'\n",
      "  Processed ID 158/379: original='NEK7', sanitized='NEK7' -> FOUND (using sanitized): 'NEK7.pt'\n",
      "  Processed ID 159/379: original='DMPK2', sanitized='DMPK2' -> FOUND (using sanitized): 'DMPK2.pt'\n",
      "  Processed ID 160/379: original='TSSK1B', sanitized='TSSK1B' -> FOUND (using sanitized): 'TSSK1B.pt'\n",
      "  Processed ID 161/379: original='ULK2', sanitized='ULK2' -> FOUND (using sanitized): 'ULK2.pt'\n",
      "  Processed ID 162/379: original='PIM2', sanitized='PIM2' -> FOUND (using sanitized): 'PIM2.pt'\n",
      "  Processed ID 163/379: original='EPHB1', sanitized='EPHB1' -> FOUND (using sanitized): 'EPHB1.pt'\n",
      "  Processed ID 164/379: original='CAMK1G', sanitized='CAMK1G' -> FOUND (using sanitized): 'CAMK1G.pt'\n",
      "  Processed ID 165/379: original='PAK1', sanitized='PAK1' -> FOUND (using sanitized): 'PAK1.pt'\n",
      "  Processed ID 166/379: original='MYLK4', sanitized='MYLK4' -> FOUND (using sanitized): 'MYLK4.pt'\n",
      "  Processed ID 167/379: original='AKT1', sanitized='AKT1' -> FOUND (using sanitized): 'AKT1.pt'\n",
      "  Processed ID 168/379: original='CDKL5', sanitized='CDKL5' -> FOUND (using sanitized): 'CDKL5.pt'\n",
      "  Processed ID 169/379: original='PAK7', sanitized='PAK7' -> FOUND (using sanitized): 'PAK7.pt'\n",
      "  Processed ID 170/379: original='MINK', sanitized='MINK' -> FOUND (using sanitized): 'MINK.pt'\n",
      "  Processed ID 171/379: original='p38-delta', sanitized='p38-delta' -> FOUND (using sanitized): 'p38-delta.pt'\n",
      "  Processed ID 172/379: original='MEK5', sanitized='MEK5' -> FOUND (using sanitized): 'MEK5.pt'\n",
      "  Processed ID 173/379: original='MLCK', sanitized='MLCK' -> FOUND (using sanitized): 'MLCK.pt'\n",
      "  Processed ID 174/379: original='HIPK2', sanitized='HIPK2' -> FOUND (using sanitized): 'HIPK2.pt'\n",
      "  Processed ID 175/379: original='SRPK2', sanitized='SRPK2' -> FOUND (using sanitized): 'SRPK2.pt'\n",
      "  Processed ID 176/379: original='IGF1R', sanitized='IGF1R' -> FOUND (using sanitized): 'IGF1R.pt'\n",
      "  Processed ID 177/379: original='CASK', sanitized='CASK' -> FOUND (using sanitized): 'CASK.pt'\n",
      "  Processed ID 178/379: original='PRP4', sanitized='PRP4' -> FOUND (using sanitized): 'PRP4.pt'\n",
      "  Processed ID 179/379: original='BRAF(V600E)', sanitized='BRAF(V600E)' -> FOUND (using sanitized): 'BRAF.pt'\n",
      "  Processed ID 180/379: original='YES', sanitized='YES' -> FOUND (using sanitized): 'YES.pt'\n",
      "  Processed ID 181/379: original='AMPK-alpha2', sanitized='AMPK-alpha2' -> FOUND (using sanitized): 'AMPK-alpha2.pt'\n",
      "  Processed ID 182/379: original='SYK', sanitized='SYK' -> FOUND (using sanitized): 'SYK.pt'\n",
      "  Processed ID 183/379: original='EPHA6', sanitized='EPHA6' -> FOUND (using sanitized): 'EPHA6.pt'\n",
      "  Processed ID 184/379: original='DDR2', sanitized='DDR2' -> FOUND (using sanitized): 'DDR2.pt'\n",
      "  Processed ID 185/379: original='PAK6', sanitized='PAK6' -> FOUND (using sanitized): 'PAK6.pt'\n",
      "  Processed ID 186/379: original='MYLK2', sanitized='MYLK2' -> FOUND (using sanitized): 'MYLK2.pt'\n",
      "  Processed ID 187/379: original='MST3', sanitized='MST3' -> FOUND (using sanitized): 'MST3.pt'\n",
      "  Processed ID 188/379: original='LATS1', sanitized='LATS1' -> FOUND (using sanitized): 'LATS1.pt'\n",
      "  Processed ID 189/379: original='BMPR1A', sanitized='BMPR1A' -> FOUND (using sanitized): 'BMPR1A.pt'\n",
      "  Processed ID 190/379: original='PIP5K1C', sanitized='PIP5K1C' -> FOUND (using sanitized): 'PIP5K1C.pt'\n",
      "  Processed ID 191/379: original='CDK7', sanitized='CDK7' -> FOUND (using sanitized): 'CDK7.pt'\n",
      "  Processed ID 192/379: original='IRAK4', sanitized='IRAK4' -> FOUND (using sanitized): 'IRAK4.pt'\n",
      "  Processed ID 193/379: original='TYRO3', sanitized='TYRO3' -> FOUND (using sanitized): 'TYRO3.pt'\n",
      "  Processed ID 194/379: original='ASK2', sanitized='ASK2' -> FOUND (using sanitized): 'ASK2.pt'\n",
      "  Processed ID 195/379: original='PDGFRA', sanitized='PDGFRA' -> FOUND (using sanitized): 'PDGFRA.pt'\n",
      "  Processed ID 196/379: original='TIE2', sanitized='TIE2' -> FOUND (using sanitized): 'TIE2.pt'\n",
      "  Processed ID 197/379: original='NEK6', sanitized='NEK6' -> FOUND (using sanitized): 'NEK6.pt'\n",
      "  Processed ID 198/379: original='TESK1', sanitized='TESK1' -> FOUND (using sanitized): 'TESK1.pt'\n",
      "  Processed ID 199/379: original='ERK8', sanitized='ERK8' -> FOUND (using sanitized): 'ERK8.pt'\n",
      "  Processed ID 200/379: original='CDKL3', sanitized='CDKL3' -> FOUND (using sanitized): 'CDKL3.pt'\n",
      "  Processed ID 201/379: original='IRAK3', sanitized='IRAK3' -> FOUND (using sanitized): 'IRAK3.pt'\n",
      "  Processed ID 202/379: original='MUSK', sanitized='MUSK' -> FOUND (using sanitized): 'MUSK.pt'\n",
      "  Processed ID 203/379: original='HIPK1', sanitized='HIPK1' -> FOUND (using sanitized): 'HIPK1.pt'\n",
      "  Processed ID 204/379: original='PCTK1', sanitized='PCTK1' -> FOUND (using sanitized): 'PCTK1.pt'\n",
      "  Processed ID 205/379: original='JAK1(JH2domain-pseudokinase)', sanitized='JAK1(JH2domain-pseudokinase)' -> FOUND (using sanitized): 'JAK1.pt'\n",
      "  Processed ID 206/379: original='DAPK2', sanitized='DAPK2' -> FOUND (using sanitized): 'DAPK2.pt'\n",
      "  Processed ID 207/379: original='CLK3', sanitized='CLK3' -> FOUND (using sanitized): 'CLK3.pt'\n",
      "  Processed ID 208/379: original='TXK', sanitized='TXK' -> FOUND (using sanitized): 'TXK.pt'\n",
      "  Processed ID 209/379: original='PRKD3', sanitized='PRKD3' -> FOUND (using sanitized): 'PRKD3.pt'\n",
      "  Processed ID 210/379: original='DCAMKL2', sanitized='DCAMKL2' -> FOUND (using sanitized): 'DCAMKL2.pt'\n",
      "  Processed ID 211/379: original='MYO3B', sanitized='MYO3B' -> FOUND (using sanitized): 'MYO3B.pt'\n",
      "  Processed ID 212/379: original='PRKR', sanitized='PRKR' -> FOUND (using sanitized): 'PRKR.pt'\n",
      "  Processed ID 213/379: original='CHEK1', sanitized='CHEK1' -> FOUND (using sanitized): 'CHEK1.pt'\n",
      "  Processed ID 214/379: original='TEC', sanitized='TEC' -> FOUND (using sanitized): 'TEC.pt'\n",
      "  Processed ID 215/379: original='TLK1', sanitized='TLK1' -> FOUND (using sanitized): 'TLK1.pt'\n",
      "  Processed ID 216/379: original='MELK', sanitized='MELK' -> FOUND (using sanitized): 'MELK.pt'\n",
      "  Processed ID 217/379: original='PCTK3', sanitized='PCTK3' -> FOUND (using sanitized): 'PCTK3.pt'\n",
      "  Processed ID 218/379: original='PKN2', sanitized='PKN2' -> FOUND (using sanitized): 'PKN2.pt'\n",
      "  Processed ID 219/379: original='SNRK', sanitized='SNRK' -> FOUND (using sanitized): 'SNRK.pt'\n",
      "  Processed ID 220/379: original='MEK2', sanitized='MEK2' -> FOUND (using sanitized): 'MEK2.pt'\n",
      "  Processed ID 221/379: original='MEK3', sanitized='MEK3' -> FOUND (using sanitized): 'MEK3.pt'\n",
      "  Processed ID 222/379: original='NEK4', sanitized='NEK4' -> FOUND (using sanitized): 'NEK4.pt'\n",
      "  Processed ID 223/379: original='ERK1', sanitized='ERK1' -> FOUND (using sanitized): 'ERK1.pt'\n",
      "  Processed ID 224/379: original='ADCK3', sanitized='ADCK3' -> FOUND (using sanitized): 'ADCK3.pt'\n",
      "  Processed ID 225/379: original='EGFR(T790M)', sanitized='EGFR(T790M)' -> FOUND (using sanitized): 'EGFR.pt'\n",
      "  Processed ID 226/379: original='ERBB4', sanitized='ERBB4' -> FOUND (using sanitized): 'ERBB4.pt'\n",
      "  Processed ID 227/379: original='LRRK2(G2019S)', sanitized='LRRK2(G2019S)' -> FOUND (using sanitized): 'LRRK2.pt'\n",
      "  Processed ID 228/379: original='LYN', sanitized='LYN' -> FOUND (using sanitized): 'LYN.pt'\n",
      "  Processed ID 229/379: original='ROCK2', sanitized='ROCK2' -> FOUND (using sanitized): 'ROCK2.pt'\n",
      "  Processed ID 230/379: original='TTK', sanitized='TTK' -> FOUND (using sanitized): 'TTK.pt'\n",
      "  Processed ID 231/379: original='PIP5K1A', sanitized='PIP5K1A' -> FOUND (using sanitized): 'PIP5K1A.pt'\n",
      "  Processed ID 232/379: original='DYRK1B', sanitized='DYRK1B' -> FOUND (using sanitized): 'DYRK1B.pt'\n",
      "  Processed ID 233/379: original='AURKA', sanitized='AURKA' -> FOUND (using sanitized): 'AURKA.pt'\n",
      "  Processed ID 234/379: original='NEK9', sanitized='NEK9' -> FOUND (using sanitized): 'NEK9.pt'\n",
      "  Processed ID 235/379: original='NEK1', sanitized='NEK1' -> FOUND (using sanitized): 'NEK1.pt'\n",
      "  Processed ID 236/379: original='PRKCQ', sanitized='PRKCQ' -> FOUND (using sanitized): 'PRKCQ.pt'\n",
      "  Processed ID 237/379: original='PFCDPK1(Pfalciparum)', sanitized='PFCDPK1(Pfalciparum)' -> FOUND (using sanitized): 'PFCDPK1.pt'\n",
      "  Processed ID 238/379: original='PRKCH', sanitized='PRKCH' -> FOUND (using sanitized): 'PRKCH.pt'\n",
      "  Processed ID 239/379: original='DCAMKL3', sanitized='DCAMKL3' -> FOUND (using sanitized): 'DCAMKL3.pt'\n",
      "  Processed ID 240/379: original='CLK1', sanitized='CLK1' -> FOUND (using sanitized): 'CLK1.pt'\n",
      "  Processed ID 241/379: original='GSK3B', sanitized='GSK3B' -> FOUND (using sanitized): 'GSK3B.pt'\n",
      "  Processed ID 242/379: original='LTK', sanitized='LTK' -> FOUND (using sanitized): 'LTK.pt'\n",
      "  Processed ID 243/379: original='ACVR1', sanitized='ACVR1' -> FOUND (using sanitized): 'ACVR1.pt'\n",
      "  Processed ID 244/379: original='JNK1', sanitized='JNK1' -> FOUND (using sanitized): 'JNK1.pt'\n",
      "  Processed ID 245/379: original='CAMK2D', sanitized='CAMK2D' -> FOUND (using sanitized): 'CAMK2D.pt'\n",
      "  Processed ID 246/379: original='CSNK1D', sanitized='CSNK1D' -> FOUND (using sanitized): 'CSNK1D.pt'\n",
      "  Processed ID 247/379: original='MRCKB', sanitized='MRCKB' -> FOUND (using sanitized): 'MRCKB.pt'\n",
      "  Processed ID 248/379: original='NLK', sanitized='NLK' -> FOUND (using sanitized): 'NLK.pt'\n",
      "  Processed ID 249/379: original='BTK', sanitized='BTK' -> FOUND (using sanitized): 'BTK.pt'\n",
      "  Processed ID 250/379: original='CDK9', sanitized='CDK9' -> FOUND (using sanitized): 'CDK9.pt'\n",
      "  Processed ID 251/379: original='FRK', sanitized='FRK' -> FOUND (using sanitized): 'FRK.pt'\n",
      "  Processed ID 252/379: original='PKNB(Mtuberculosis)', sanitized='PKNB(Mtuberculosis)' -> FOUND (using sanitized): 'PKNB.pt'\n",
      "  Processed ID 253/379: original='CSNK1E', sanitized='CSNK1E' -> FOUND (using sanitized): 'CSNK1E.pt'\n",
      "  Processed ID 254/379: original='PDGFRB', sanitized='PDGFRB' -> FOUND (using sanitized): 'PDGFRB.pt'\n",
      "  Processed ID 255/379: original='ABL2', sanitized='ABL2' -> FOUND (using sanitized): 'ABL2.pt'\n",
      "  Processed ID 256/379: original='MAPKAPK2', sanitized='MAPKAPK2' -> FOUND (using sanitized): 'MAPKAPK2.pt'\n",
      "  Processed ID 257/379: original='ROCK1', sanitized='ROCK1' -> FOUND (using sanitized): 'ROCK1.pt'\n",
      "  Processed ID 258/379: original='TNIK', sanitized='TNIK' -> FOUND (using sanitized): 'TNIK.pt'\n",
      "  Processed ID 259/379: original='TIE1', sanitized='TIE1' -> FOUND (using sanitized): 'TIE1.pt'\n",
      "  Processed ID 260/379: original='MAPKAPK5', sanitized='MAPKAPK5' -> FOUND (using sanitized): 'MAPKAPK5.pt'\n",
      "  Processed ID 261/379: original='DYRK1A', sanitized='DYRK1A' -> FOUND (using sanitized): 'DYRK1A.pt'\n",
      "  Processed ID 262/379: original='RSK2(KinDom.1-N-terminal)', sanitized='RSK2(KinDom.1-N-terminal)' -> FOUND (using sanitized): 'RSK2.pt'\n",
      "  Processed ID 263/379: original='LATS2', sanitized='LATS2' -> FOUND (using sanitized): 'LATS2.pt'\n",
      "  Processed ID 264/379: original='INSRR', sanitized='INSRR' -> FOUND (using sanitized): 'INSRR.pt'\n",
      "  Processed ID 265/379: original='STK39', sanitized='STK39' -> FOUND (using sanitized): 'STK39.pt'\n",
      "  Processed ID 266/379: original='ACVR2A', sanitized='ACVR2A' -> FOUND (using sanitized): 'ACVR2A.pt'\n",
      "  Processed ID 267/379: original='CDK11', sanitized='CDK11' -> FOUND (using sanitized): 'CDK11.pt'\n",
      "  Processed ID 268/379: original='HPK1', sanitized='HPK1' -> FOUND (using sanitized): 'HPK1.pt'\n",
      "  Processed ID 269/379: original='PIM1', sanitized='PIM1' -> FOUND (using sanitized): 'PIM1.pt'\n",
      "  Processed ID 270/379: original='GRK4', sanitized='GRK4' -> FOUND (using sanitized): 'GRK4.pt'\n",
      "  Processed ID 271/379: original='JAK3(JH1domain-catalytic)', sanitized='JAK3(JH1domain-catalytic)' -> FOUND (using sanitized): 'JAK3.pt'\n",
      "  Processed ID 272/379: original='MAP3K4', sanitized='MAP3K4' -> FOUND (using sanitized): 'MAP3K4.pt'\n",
      "  Processed ID 273/379: original='AAK1', sanitized='AAK1' -> FOUND (using sanitized): 'AAK1.pt'\n",
      "  Processed ID 274/379: original='PAK3', sanitized='PAK3' -> FOUND (using sanitized): 'PAK3.pt'\n",
      "  Processed ID 275/379: original='TAOK1', sanitized='TAOK1' -> FOUND (using sanitized): 'TAOK1.pt'\n",
      "  Processed ID 276/379: original='MAP3K1', sanitized='MAP3K1' -> FOUND (using sanitized): 'MAP3K1.pt'\n",
      "  Processed ID 277/379: original='MAP3K15', sanitized='MAP3K15' -> FOUND (using sanitized): 'MAP3K15.pt'\n",
      "  Processed ID 278/379: original='MAP4K4', sanitized='MAP4K4' -> FOUND (using sanitized): 'MAP4K4.pt'\n",
      "  Processed ID 279/379: original='TAOK3', sanitized='TAOK3' -> FOUND (using sanitized): 'TAOK3.pt'\n",
      "  Processed ID 280/379: original='JNK3', sanitized='JNK3' -> FOUND (using sanitized): 'JNK3.pt'\n",
      "  Processed ID 281/379: original='STK33', sanitized='STK33' -> FOUND (using sanitized): 'STK33.pt'\n",
      "  Processed ID 282/379: original='GRK7', sanitized='GRK7' -> FOUND (using sanitized): 'GRK7.pt'\n",
      "  Processed ID 283/379: original='MERTK', sanitized='MERTK' -> FOUND (using sanitized): 'MERTK.pt'\n",
      "  Processed ID 284/379: original='SRMS', sanitized='SRMS' -> FOUND (using sanitized): 'SRMS.pt'\n",
      "  Processed ID 285/379: original='VEGFR2', sanitized='VEGFR2' -> FOUND (using sanitized): 'VEGFR2.pt'\n",
      "  Processed ID 286/379: original='SBK1', sanitized='SBK1' -> FOUND (using sanitized): 'SBK1.pt'\n",
      "  Processed ID 287/379: original='DRAK1', sanitized='DRAK1' -> FOUND (using sanitized): 'DRAK1.pt'\n",
      "  Processed ID 288/379: original='EPHB3', sanitized='EPHB3' -> FOUND (using sanitized): 'EPHB3.pt'\n",
      "  Processed ID 289/379: original='NDR2', sanitized='NDR2' -> FOUND (using sanitized): 'NDR2.pt'\n",
      "  Processed ID 290/379: original='ERK2', sanitized='ERK2' -> FOUND (using sanitized): 'ERK2.pt'\n",
      "  Processed ID 291/379: original='PIP5K2C', sanitized='PIP5K2C' -> FOUND (using sanitized): 'PIP5K2C.pt'\n",
      "  Processed ID 292/379: original='NEK11', sanitized='NEK11' -> FOUND (using sanitized): 'NEK11.pt'\n",
      "  Processed ID 293/379: original='STK36', sanitized='STK36' -> FOUND (using sanitized): 'STK36.pt'\n",
      "  Processed ID 294/379: original='EPHA8', sanitized='EPHA8' -> FOUND (using sanitized): 'EPHA8.pt'\n",
      "  Processed ID 295/379: original='MST4', sanitized='MST4' -> FOUND (using sanitized): 'MST4.pt'\n",
      "  Processed ID 296/379: original='MAP3K3', sanitized='MAP3K3' -> FOUND (using sanitized): 'MAP3K3.pt'\n",
      "  Processed ID 297/379: original='AXL', sanitized='AXL' -> FOUND (using sanitized): 'AXL.pt'\n",
      "  Processed ID 298/379: original='MET(Y1235D)', sanitized='MET(Y1235D)' -> FOUND (using sanitized): 'MET.pt'\n",
      "  Processed ID 299/379: original='RIPK1', sanitized='RIPK1' -> FOUND (using sanitized): 'RIPK1.pt'\n",
      "  Processed ID 300/379: original='GCN2(KinDom2S808G)', sanitized='GCN2(KinDom2S808G)' -> FOUND (using sanitized): 'GCN2.pt'\n",
      "  Processed ID 301/379: original='S6K1', sanitized='S6K1' -> FOUND (using sanitized): 'S6K1.pt'\n",
      "  Processed ID 302/379: original='ERBB3', sanitized='ERBB3' -> FOUND (using sanitized): 'ERBB3.pt'\n",
      "  Processed ID 303/379: original='MARK1', sanitized='MARK1' -> FOUND (using sanitized): 'MARK1.pt'\n",
      "  Processed ID 304/379: original='CSNK1G3', sanitized='CSNK1G3' -> FOUND (using sanitized): 'CSNK1G3.pt'\n",
      "  Processed ID 305/379: original='SNARK', sanitized='SNARK' -> FOUND (using sanitized): 'SNARK.pt'\n",
      "  Processed ID 306/379: original='HIPK3', sanitized='HIPK3' -> FOUND (using sanitized): 'HIPK3.pt'\n",
      "  Processed ID 307/379: original='SRPK1', sanitized='SRPK1' -> FOUND (using sanitized): 'SRPK1.pt'\n",
      "  Processed ID 308/379: original='PKAC-alpha', sanitized='PKAC-alpha' -> FOUND (using sanitized): 'PKAC-alpha.pt'\n",
      "  Processed ID 309/379: original='PIP5K2B', sanitized='PIP5K2B' -> FOUND (using sanitized): 'PIP5K2B.pt'\n",
      "  Processed ID 310/379: original='PYK2', sanitized='PYK2' -> FOUND (using sanitized): 'PYK2.pt'\n",
      "  Processed ID 311/379: original='MYLK', sanitized='MYLK' -> FOUND (using sanitized): 'MYLK.pt'\n",
      "  Processed ID 312/379: original='PIK4CB', sanitized='PIK4CB' -> FOUND (using sanitized): 'PIK4CB.pt'\n",
      "  Processed ID 313/379: original='TLK2', sanitized='TLK2' -> FOUND (using sanitized): 'TLK2.pt'\n",
      "  Processed ID 314/379: original='MLK3', sanitized='MLK3' -> FOUND (using sanitized): 'MLK3.pt'\n",
      "  Processed ID 315/379: original='PKMYT1', sanitized='PKMYT1' -> FOUND (using sanitized): 'PKMYT1.pt'\n",
      "  Processed ID 316/379: original='CDK8', sanitized='CDK8' -> FOUND (using sanitized): 'CDK8.pt'\n",
      "  Processed ID 317/379: original='FLT3(R834Q)', sanitized='FLT3(R834Q)' -> FOUND (using sanitized): 'FLT3.pt'\n",
      "  Processed ID 318/379: original='MKNK2', sanitized='MKNK2' -> FOUND (using sanitized): 'MKNK2.pt'\n",
      "  Processed ID 319/379: original='YANK3', sanitized='YANK3' -> FOUND (using sanitized): 'YANK3.pt'\n",
      "  Processed ID 320/379: original='MRCKA', sanitized='MRCKA' -> FOUND (using sanitized): 'MRCKA.pt'\n",
      "  Processed ID 321/379: original='NDR1', sanitized='NDR1' -> FOUND (using sanitized): 'NDR1.pt'\n",
      "  Processed ID 322/379: original='TRKC', sanitized='TRKC' -> FOUND (using sanitized): 'TRKC.pt'\n",
      "  Processed ID 323/379: original='ANKK1', sanitized='ANKK1' -> FOUND (using sanitized): 'ANKK1.pt'\n",
      "  Processed ID 324/379: original='CSNK1A1L', sanitized='CSNK1A1L' -> FOUND (using sanitized): 'CSNK1A1L.pt'\n",
      "  Processed ID 325/379: original='LIMK2', sanitized='LIMK2' -> FOUND (using sanitized): 'LIMK2.pt'\n",
      "  Processed ID 326/379: original='NEK2', sanitized='NEK2' -> FOUND (using sanitized): 'NEK2.pt'\n",
      "  Processed ID 327/379: original='AMPK-alpha1', sanitized='AMPK-alpha1' -> FOUND (using sanitized): 'AMPK-alpha1.pt'\n",
      "  Processed ID 328/379: original='FLT4', sanitized='FLT4' -> FOUND (using sanitized): 'FLT4.pt'\n",
      "  Processed ID 329/379: original='LCK', sanitized='LCK' -> FOUND (using sanitized): 'LCK.pt'\n",
      "  Processed ID 330/379: original='FYN', sanitized='FYN' -> FOUND (using sanitized): 'FYN.pt'\n",
      "  Processed ID 331/379: original='RSK1(KinDom.2-C-terminal)', sanitized='RSK1(KinDom.2-C-terminal)' -> FOUND (using sanitized): 'RSK1.pt'\n",
      "  Processed ID 332/379: original='RPS6KA4(KinDom.2-C-terminal)', sanitized='RPS6KA4(KinDom.2-C-terminal)' -> FOUND (using sanitized): 'RPS6KA4.pt'\n",
      "  Processed ID 333/379: original='ACVR1B', sanitized='ACVR1B' -> FOUND (using sanitized): 'ACVR1B.pt'\n",
      "  Processed ID 334/379: original='IKK-alpha', sanitized='IKK-alpha' -> FOUND (using sanitized): 'IKK-alpha.pt'\n",
      "  Processed ID 335/379: original='QSK', sanitized='QSK' -> FOUND (using sanitized): 'QSK.pt'\n",
      "  Processed ID 336/379: original='ULK3', sanitized='ULK3' -> FOUND (using sanitized): 'ULK3.pt'\n",
      "  Processed ID 337/379: original='TRPM6', sanitized='TRPM6' -> FOUND (using sanitized): 'TRPM6.pt'\n",
      "  Processed ID 338/379: original='BMX', sanitized='BMX' -> FOUND (using sanitized): 'BMX.pt'\n",
      "  Processed ID 339/379: original='MARK3', sanitized='MARK3' -> FOUND (using sanitized): 'MARK3.pt'\n",
      "  Processed ID 340/379: original='RSK4(KinDom.2-C-terminal)', sanitized='RSK4(KinDom.2-C-terminal)' -> FOUND (using sanitized): 'RSK4.pt'\n",
      "  Processed ID 341/379: original='YANK2', sanitized='YANK2' -> FOUND (using sanitized): 'YANK2.pt'\n",
      "  Processed ID 342/379: original='CSNK2A1', sanitized='CSNK2A1' -> FOUND (using sanitized): 'CSNK2A1.pt'\n",
      "  Processed ID 343/379: original='INSR', sanitized='INSR' -> FOUND (using sanitized): 'INSR.pt'\n",
      "  Processed ID 344/379: original='MAK', sanitized='MAK' -> FOUND (using sanitized): 'MAK.pt'\n",
      "  Processed ID 345/379: original='FGR', sanitized='FGR' -> FOUND (using sanitized): 'FGR.pt'\n",
      "  Processed ID 346/379: original='BRSK2', sanitized='BRSK2' -> FOUND (using sanitized): 'BRSK2.pt'\n",
      "  Processed ID 347/379: original='CDC2L1', sanitized='CDC2L1' -> FOUND (using sanitized): 'CDC2L1.pt'\n",
      "  Processed ID 348/379: original='CAMKK2', sanitized='CAMKK2' -> FOUND (using sanitized): 'CAMKK2.pt'\n",
      "  Processed ID 349/379: original='PRKD2', sanitized='PRKD2' -> FOUND (using sanitized): 'PRKD2.pt'\n",
      "  Processed ID 350/379: original='TAK1', sanitized='TAK1' -> FOUND (using sanitized): 'TAK1.pt'\n",
      "  Processed ID 351/379: original='RIPK5', sanitized='RIPK5' -> FOUND (using sanitized): 'RIPK5.pt'\n",
      "  Processed ID 352/379: original='MEK4', sanitized='MEK4' -> FOUND (using sanitized): 'MEK4.pt'\n",
      "  Processed ID 353/379: original='CAMKK1', sanitized='CAMKK1' -> FOUND (using sanitized): 'CAMKK1.pt'\n",
      "  Processed ID 354/379: original='CSK', sanitized='CSK' -> FOUND (using sanitized): 'CSK.pt'\n",
      "  Processed ID 355/379: original='PRKCE', sanitized='PRKCE' -> FOUND (using sanitized): 'PRKCE.pt'\n",
      "  Processed ID 356/379: original='MAP3K2', sanitized='MAP3K2' -> FOUND (using sanitized): 'MAP3K2.pt'\n",
      "  Processed ID 357/379: original='CDC2L2', sanitized='CDC2L2' -> FOUND (using sanitized): 'CDC2L2.pt'\n",
      "  Processed ID 358/379: original='MEK6', sanitized='MEK6' -> FOUND (using sanitized): 'MEK6.pt'\n",
      "  Processed ID 359/379: original='PAK4', sanitized='PAK4' -> FOUND (using sanitized): 'PAK4.pt'\n",
      "  Processed ID 360/379: original='CIT', sanitized='CIT' -> FOUND (using sanitized): 'CIT.pt'\n",
      "  Processed ID 361/379: original='DDR1', sanitized='DDR1' -> FOUND (using sanitized): 'DDR1.pt'\n",
      "  Processed ID 362/379: original='PAK2', sanitized='PAK2' -> FOUND (using sanitized): 'PAK2.pt'\n",
      "  Processed ID 363/379: original='YANK1', sanitized='YANK1' -> FOUND (using sanitized): 'YANK1.pt'\n",
      "  Processed ID 364/379: original='ABL1p', sanitized='ABL1p' -> FOUND (using sanitized): 'ABL1p.pt'\n",
      "  Processed ID 365/379: original='p38-gamma', sanitized='p38-gamma' -> FOUND (using sanitized): 'p38-gamma.pt'\n",
      "  Processed ID 366/379: original='ROS1', sanitized='ROS1' -> FOUND (using sanitized): 'ROS1.pt'\n",
      "  Processed ID 367/379: original='EPHA1', sanitized='EPHA1' -> FOUND (using sanitized): 'EPHA1.pt'\n",
      "  Processed ID 368/379: original='MST2', sanitized='MST2' -> FOUND (using sanitized): 'MST2.pt'\n",
      "  Processed ID 369/379: original='DMPK', sanitized='DMPK' -> FOUND (using sanitized): 'DMPK.pt'\n",
      "  Processed ID 370/379: original='GAK', sanitized='GAK' -> FOUND (using sanitized): 'GAK.pt'\n",
      "  Processed ID 371/379: original='ERK5', sanitized='ERK5' -> FOUND (using sanitized): 'ERK5.pt'\n",
      "  Processed ID 372/379: original='TBK1', sanitized='TBK1' -> FOUND (using sanitized): 'TBK1.pt'\n",
      "  Processed ID 373/379: original='PFPK5(Pfalciparum)', sanitized='PFPK5(Pfalciparum)' -> FOUND (using sanitized): 'PFPK5.pt'\n",
      "  Processed ID 374/379: original='BMPR2', sanitized='BMPR2' -> FOUND (using sanitized): 'BMPR2.pt'\n",
      "  Processed ID 375/379: original='RET(V804M)', sanitized='RET(V804M)' -> FOUND (using sanitized): 'RET.pt'\n",
      "  Processed ID 376/379: original='CLK4', sanitized='CLK4' -> FOUND (using sanitized): 'CLK4.pt'\n",
      "  Processed ID 377/379: original='MARK2', sanitized='MARK2' -> FOUND (using sanitized): 'MARK2.pt'\n",
      "  Processed ID 378/379: original='PFTK1', sanitized='PFTK1' -> FOUND (using sanitized): 'PFTK1.pt'\n",
      "  Processed ID 379/379: original='HCK', sanitized='HCK' -> FOUND (using sanitized): 'HCK.pt'\n"
     ]
    },
    {
     "name": "stderr",
     "output_type": "stream",
     "text": [
      "Processing drugs: 100%|██████████| 68/68 [00:00<00:00, 621.09it/s]\n"
     ]
    },
    {
     "name": "stdout",
     "output_type": "stream",
     "text": [
      "INFO: Validating protein graph paths...\n",
      "INFO: Checking 379 unique Target_IDs from the DataFrame.\n",
      "  Processed ID 1/379: original='YANK2', sanitized='YANK2' -> FOUND (using sanitized): 'YANK2.pt'\n",
      "  Processed ID 2/379: original='PIK3CD', sanitized='PIK3CD' -> FOUND (using sanitized): 'PIK3CD.pt'\n",
      "  Processed ID 3/379: original='ERK2', sanitized='ERK2' -> FOUND (using sanitized): 'ERK2.pt'\n",
      "  Processed ID 4/379: original='TSSK1B', sanitized='TSSK1B' -> FOUND (using sanitized): 'TSSK1B.pt'\n",
      "  Processed ID 5/379: original='MKK7', sanitized='MKK7' -> FOUND (using sanitized): 'MKK7.pt'\n",
      "  Processed ID 6/379: original='MAP3K1', sanitized='MAP3K1' -> FOUND (using sanitized): 'MAP3K1.pt'\n",
      "  Processed ID 7/379: original='MET(Y1235D)', sanitized='MET(Y1235D)' -> FOUND (using sanitized): 'MET.pt'\n",
      "  Processed ID 8/379: original='MTOR', sanitized='MTOR' -> FOUND (using sanitized): 'MTOR.pt'\n",
      "  Processed ID 9/379: original='EPHA1', sanitized='EPHA1' -> FOUND (using sanitized): 'EPHA1.pt'\n",
      "  Processed ID 10/379: original='TNNI3K', sanitized='TNNI3K' -> FOUND (using sanitized): 'TNNI3K.pt'\n",
      "  Processed ID 11/379: original='SgK110', sanitized='SgK110' -> FOUND (using sanitized): 'SgK110.pt'\n",
      "  Processed ID 12/379: original='QSK', sanitized='QSK' -> FOUND (using sanitized): 'QSK.pt'\n",
      "  Processed ID 13/379: original='HIPK1', sanitized='HIPK1' -> FOUND (using sanitized): 'HIPK1.pt'\n",
      "  Processed ID 14/379: original='PIM2', sanitized='PIM2' -> FOUND (using sanitized): 'PIM2.pt'\n",
      "  Processed ID 15/379: original='DAPK2', sanitized='DAPK2' -> FOUND (using sanitized): 'DAPK2.pt'\n",
      "  Processed ID 16/379: original='CLK1', sanitized='CLK1' -> FOUND (using sanitized): 'CLK1.pt'\n",
      "  Processed ID 17/379: original='DRAK2', sanitized='DRAK2' -> FOUND (using sanitized): 'DRAK2.pt'\n",
      "  Processed ID 18/379: original='p38-delta', sanitized='p38-delta' -> FOUND (using sanitized): 'p38-delta.pt'\n",
      "  Processed ID 19/379: original='ABL2', sanitized='ABL2' -> FOUND (using sanitized): 'ABL2.pt'\n",
      "  Processed ID 20/379: original='CAMK2D', sanitized='CAMK2D' -> FOUND (using sanitized): 'CAMK2D.pt'\n",
      "  Processed ID 21/379: original='MAP3K4', sanitized='MAP3K4' -> FOUND (using sanitized): 'MAP3K4.pt'\n",
      "  Processed ID 22/379: original='JNK3', sanitized='JNK3' -> FOUND (using sanitized): 'JNK3.pt'\n",
      "  Processed ID 23/379: original='GSK3B', sanitized='GSK3B' -> FOUND (using sanitized): 'GSK3B.pt'\n",
      "  Processed ID 24/379: original='CLK2', sanitized='CLK2' -> FOUND (using sanitized): 'CLK2.pt'\n",
      "  Processed ID 25/379: original='STK33', sanitized='STK33' -> FOUND (using sanitized): 'STK33.pt'\n",
      "  Processed ID 26/379: original='RET(V804M)', sanitized='RET(V804M)' -> FOUND (using sanitized): 'RET.pt'\n",
      "  Processed ID 27/379: original='MAK', sanitized='MAK' -> FOUND (using sanitized): 'MAK.pt'\n",
      "  Processed ID 28/379: original='GAK', sanitized='GAK' -> FOUND (using sanitized): 'GAK.pt'\n",
      "  Processed ID 29/379: original='RSK4(KinDom.2-C-terminal)', sanitized='RSK4(KinDom.2-C-terminal)' -> FOUND (using sanitized): 'RSK4.pt'\n",
      "  Processed ID 30/379: original='YSK1', sanitized='YSK1' -> FOUND (using sanitized): 'YSK1.pt'\n",
      "  Processed ID 31/379: original='FGFR4', sanitized='FGFR4' -> FOUND (using sanitized): 'FGFR4.pt'\n",
      "  Processed ID 32/379: original='CAMK1G', sanitized='CAMK1G' -> FOUND (using sanitized): 'CAMK1G.pt'\n",
      "  Processed ID 33/379: original='PDPK1', sanitized='PDPK1' -> FOUND (using sanitized): 'PDPK1.pt'\n",
      "  Processed ID 34/379: original='TXK', sanitized='TXK' -> FOUND (using sanitized): 'TXK.pt'\n",
      "  Processed ID 35/379: original='PAK3', sanitized='PAK3' -> FOUND (using sanitized): 'PAK3.pt'\n",
      "  Processed ID 36/379: original='YSK4', sanitized='YSK4' -> FOUND (using sanitized): 'YSK4.pt'\n",
      "  Processed ID 37/379: original='VRK2', sanitized='VRK2' -> FOUND (using sanitized): 'VRK2.pt'\n",
      "  Processed ID 38/379: original='HPK1', sanitized='HPK1' -> FOUND (using sanitized): 'HPK1.pt'\n",
      "  Processed ID 39/379: original='IRAK3', sanitized='IRAK3' -> FOUND (using sanitized): 'IRAK3.pt'\n",
      "  Processed ID 40/379: original='PDGFRA', sanitized='PDGFRA' -> FOUND (using sanitized): 'PDGFRA.pt'\n",
      "  Processed ID 41/379: original='DAPK1', sanitized='DAPK1' -> FOUND (using sanitized): 'DAPK1.pt'\n",
      "  Processed ID 42/379: original='MST2', sanitized='MST2' -> FOUND (using sanitized): 'MST2.pt'\n",
      "  Processed ID 43/379: original='TAK1', sanitized='TAK1' -> FOUND (using sanitized): 'TAK1.pt'\n",
      "  Processed ID 44/379: original='PIK4CB', sanitized='PIK4CB' -> FOUND (using sanitized): 'PIK4CB.pt'\n",
      "  Processed ID 45/379: original='ARK5', sanitized='ARK5' -> FOUND (using sanitized): 'ARK5.pt'\n",
      "  Processed ID 46/379: original='TLK1', sanitized='TLK1' -> FOUND (using sanitized): 'TLK1.pt'\n",
      "  Processed ID 47/379: original='FYN', sanitized='FYN' -> FOUND (using sanitized): 'FYN.pt'\n",
      "  Processed ID 48/379: original='MAP3K15', sanitized='MAP3K15' -> FOUND (using sanitized): 'MAP3K15.pt'\n",
      "  Processed ID 49/379: original='CAMK2B', sanitized='CAMK2B' -> FOUND (using sanitized): 'CAMK2B.pt'\n",
      "  Processed ID 50/379: original='TIE2', sanitized='TIE2' -> FOUND (using sanitized): 'TIE2.pt'\n",
      "  Processed ID 51/379: original='MST1R', sanitized='MST1R' -> FOUND (using sanitized): 'MST1R.pt'\n",
      "  Processed ID 52/379: original='FRK', sanitized='FRK' -> FOUND (using sanitized): 'FRK.pt'\n",
      "  Processed ID 53/379: original='TRPM6', sanitized='TRPM6' -> FOUND (using sanitized): 'TRPM6.pt'\n",
      "  Processed ID 54/379: original='S6K1', sanitized='S6K1' -> FOUND (using sanitized): 'S6K1.pt'\n",
      "  Processed ID 55/379: original='BIKE', sanitized='BIKE' -> FOUND (using sanitized): 'BIKE.pt'\n",
      "  Processed ID 56/379: original='HIPK2', sanitized='HIPK2' -> FOUND (using sanitized): 'HIPK2.pt'\n",
      "  Processed ID 57/379: original='PRKG2', sanitized='PRKG2' -> FOUND (using sanitized): 'PRKG2.pt'\n",
      "  Processed ID 58/379: original='CSNK1G3', sanitized='CSNK1G3' -> FOUND (using sanitized): 'CSNK1G3.pt'\n",
      "  Processed ID 59/379: original='PDGFRB', sanitized='PDGFRB' -> FOUND (using sanitized): 'PDGFRB.pt'\n",
      "  Processed ID 60/379: original='PKNB(Mtuberculosis)', sanitized='PKNB(Mtuberculosis)' -> FOUND (using sanitized): 'PKNB.pt'\n",
      "  Processed ID 61/379: original='ACVR1', sanitized='ACVR1' -> FOUND (using sanitized): 'ACVR1.pt'\n",
      "  Processed ID 62/379: original='PRKG1', sanitized='PRKG1' -> FOUND (using sanitized): 'PRKG1.pt'\n",
      "  Processed ID 63/379: original='FGR', sanitized='FGR' -> FOUND (using sanitized): 'FGR.pt'\n",
      "  Processed ID 64/379: original='PRKD1', sanitized='PRKD1' -> FOUND (using sanitized): 'PRKD1.pt'\n",
      "  Processed ID 65/379: original='NEK7', sanitized='NEK7' -> FOUND (using sanitized): 'NEK7.pt'\n",
      "  Processed ID 66/379: original='CDC2L5', sanitized='CDC2L5' -> FOUND (using sanitized): 'CDC2L5.pt'\n",
      "  Processed ID 67/379: original='MLK1', sanitized='MLK1' -> FOUND (using sanitized): 'MLK1.pt'\n",
      "  Processed ID 68/379: original='BMPR1B', sanitized='BMPR1B' -> FOUND (using sanitized): 'BMPR1B.pt'\n",
      "  Processed ID 69/379: original='RIPK2', sanitized='RIPK2' -> FOUND (using sanitized): 'RIPK2.pt'\n",
      "  Processed ID 70/379: original='DMPK', sanitized='DMPK' -> FOUND (using sanitized): 'DMPK.pt'\n",
      "  Processed ID 71/379: original='SNRK', sanitized='SNRK' -> FOUND (using sanitized): 'SNRK.pt'\n",
      "  Processed ID 72/379: original='PRKCD', sanitized='PRKCD' -> FOUND (using sanitized): 'PRKCD.pt'\n",
      "  Processed ID 73/379: original='EPHA5', sanitized='EPHA5' -> FOUND (using sanitized): 'EPHA5.pt'\n",
      "  Processed ID 74/379: original='TAOK2', sanitized='TAOK2' -> FOUND (using sanitized): 'TAOK2.pt'\n",
      "  Processed ID 75/379: original='MEK1', sanitized='MEK1' -> FOUND (using sanitized): 'MEK1.pt'\n",
      "  Processed ID 76/379: original='AXL', sanitized='AXL' -> FOUND (using sanitized): 'AXL.pt'\n",
      "  Processed ID 77/379: original='MAP4K5', sanitized='MAP4K5' -> FOUND (using sanitized): 'MAP4K5.pt'\n",
      "  Processed ID 78/379: original='BRK', sanitized='BRK' -> FOUND (using sanitized): 'BRK.pt'\n",
      "  Processed ID 79/379: original='TNK2', sanitized='TNK2' -> FOUND (using sanitized): 'TNK2.pt'\n",
      "  Processed ID 80/379: original='TTK', sanitized='TTK' -> FOUND (using sanitized): 'TTK.pt'\n",
      "  Processed ID 81/379: original='CSK', sanitized='CSK' -> FOUND (using sanitized): 'CSK.pt'\n",
      "  Processed ID 82/379: original='MAP4K4', sanitized='MAP4K4' -> FOUND (using sanitized): 'MAP4K4.pt'\n",
      "  Processed ID 83/379: original='NEK1', sanitized='NEK1' -> FOUND (using sanitized): 'NEK1.pt'\n",
      "  Processed ID 84/379: original='AURKB', sanitized='AURKB' -> FOUND (using sanitized): 'AURKB.pt'\n",
      "  Processed ID 85/379: original='MAP4K3', sanitized='MAP4K3' -> FOUND (using sanitized): 'MAP4K3.pt'\n",
      "  Processed ID 86/379: original='MUSK', sanitized='MUSK' -> FOUND (using sanitized): 'MUSK.pt'\n",
      "  Processed ID 87/379: original='STK16', sanitized='STK16' -> FOUND (using sanitized): 'STK16.pt'\n",
      "  Processed ID 88/379: original='NEK9', sanitized='NEK9' -> FOUND (using sanitized): 'NEK9.pt'\n",
      "  Processed ID 89/379: original='PFPK5(Pfalciparum)', sanitized='PFPK5(Pfalciparum)' -> FOUND (using sanitized): 'PFPK5.pt'\n",
      "  Processed ID 90/379: original='RIOK2', sanitized='RIOK2' -> FOUND (using sanitized): 'RIOK2.pt'\n",
      "  Processed ID 91/379: original='WEE2', sanitized='WEE2' -> FOUND (using sanitized): 'WEE2.pt'\n",
      "  Processed ID 92/379: original='TAOK3', sanitized='TAOK3' -> FOUND (using sanitized): 'TAOK3.pt'\n",
      "  Processed ID 93/379: original='SNARK', sanitized='SNARK' -> FOUND (using sanitized): 'SNARK.pt'\n",
      "  Processed ID 94/379: original='PIM3', sanitized='PIM3' -> FOUND (using sanitized): 'PIM3.pt'\n",
      "  Processed ID 95/379: original='DRAK1', sanitized='DRAK1' -> FOUND (using sanitized): 'DRAK1.pt'\n",
      "  Processed ID 96/379: original='CDK8', sanitized='CDK8' -> FOUND (using sanitized): 'CDK8.pt'\n",
      "  Processed ID 97/379: original='MAST1', sanitized='MAST1' -> FOUND (using sanitized): 'MAST1.pt'\n",
      "  Processed ID 98/379: original='DLK', sanitized='DLK' -> FOUND (using sanitized): 'DLK.pt'\n",
      "  Processed ID 99/379: original='PAK2', sanitized='PAK2' -> FOUND (using sanitized): 'PAK2.pt'\n",
      "  Processed ID 100/379: original='MST4', sanitized='MST4' -> FOUND (using sanitized): 'MST4.pt'\n",
      "  Processed ID 101/379: original='PRKCH', sanitized='PRKCH' -> FOUND (using sanitized): 'PRKCH.pt'\n",
      "  Processed ID 102/379: original='GSK3A', sanitized='GSK3A' -> FOUND (using sanitized): 'GSK3A.pt'\n",
      "  Processed ID 103/379: original='TIE1', sanitized='TIE1' -> FOUND (using sanitized): 'TIE1.pt'\n",
      "  Processed ID 104/379: original='NEK2', sanitized='NEK2' -> FOUND (using sanitized): 'NEK2.pt'\n",
      "  Processed ID 105/379: original='MLK3', sanitized='MLK3' -> FOUND (using sanitized): 'MLK3.pt'\n",
      "  Processed ID 106/379: original='MELK', sanitized='MELK' -> FOUND (using sanitized): 'MELK.pt'\n",
      "  Processed ID 107/379: original='ABL1p', sanitized='ABL1p' -> FOUND (using sanitized): 'ABL1p.pt'\n",
      "  Processed ID 108/379: original='MEK6', sanitized='MEK6' -> FOUND (using sanitized): 'MEK6.pt'\n",
      "  Processed ID 109/379: original='KIT(V559D-V654A)', sanitized='KIT(V559D-V654A)' -> FOUND (using sanitized): 'KIT.pt'\n",
      "  Processed ID 110/379: original='ROS1', sanitized='ROS1' -> FOUND (using sanitized): 'ROS1.pt'\n",
      "  Processed ID 111/379: original='PAK1', sanitized='PAK1' -> FOUND (using sanitized): 'PAK1.pt'\n",
      "  Processed ID 112/379: original='ANKK1', sanitized='ANKK1' -> FOUND (using sanitized): 'ANKK1.pt'\n",
      "  Processed ID 113/379: original='ULK3', sanitized='ULK3' -> FOUND (using sanitized): 'ULK3.pt'\n",
      "  Processed ID 114/379: original='FGFR1', sanitized='FGFR1' -> FOUND (using sanitized): 'FGFR1.pt'\n",
      "  Processed ID 115/379: original='JAK2(JH1domain-catalytic)', sanitized='JAK2(JH1domain-catalytic)' -> FOUND (using sanitized): 'JAK2.pt'\n",
      "  Processed ID 116/379: original='PLK2', sanitized='PLK2' -> FOUND (using sanitized): 'PLK2.pt'\n",
      "  Processed ID 117/379: original='LKB1', sanitized='LKB1' -> FOUND (using sanitized): 'LKB1.pt'\n",
      "  Processed ID 118/379: original='PIP5K2C', sanitized='PIP5K2C' -> FOUND (using sanitized): 'PIP5K2C.pt'\n",
      "  Processed ID 119/379: original='CSNK1G2', sanitized='CSNK1G2' -> FOUND (using sanitized): 'CSNK1G2.pt'\n",
      "  Processed ID 120/379: original='NEK6', sanitized='NEK6' -> FOUND (using sanitized): 'NEK6.pt'\n",
      "  Processed ID 121/379: original='SRPK2', sanitized='SRPK2' -> FOUND (using sanitized): 'SRPK2.pt'\n",
      "  Processed ID 122/379: original='ERK1', sanitized='ERK1' -> FOUND (using sanitized): 'ERK1.pt'\n",
      "  Processed ID 123/379: original='ASK2', sanitized='ASK2' -> FOUND (using sanitized): 'ASK2.pt'\n",
      "  Processed ID 124/379: original='MARK3', sanitized='MARK3' -> FOUND (using sanitized): 'MARK3.pt'\n",
      "  Processed ID 125/379: original='PIK3C2B', sanitized='PIK3C2B' -> FOUND (using sanitized): 'PIK3C2B.pt'\n",
      "  Processed ID 126/379: original='FGFR2', sanitized='FGFR2' -> FOUND (using sanitized): 'FGFR2.pt'\n",
      "  Processed ID 127/379: original='TEC', sanitized='TEC' -> FOUND (using sanitized): 'TEC.pt'\n",
      "  Processed ID 128/379: original='FLT3(R834Q)', sanitized='FLT3(R834Q)' -> FOUND (using sanitized): 'FLT3.pt'\n",
      "  Processed ID 129/379: original='RSK2(KinDom.1-N-terminal)', sanitized='RSK2(KinDom.1-N-terminal)' -> FOUND (using sanitized): 'RSK2.pt'\n",
      "  Processed ID 130/379: original='AKT2', sanitized='AKT2' -> FOUND (using sanitized): 'AKT2.pt'\n",
      "  Processed ID 131/379: original='LZK', sanitized='LZK' -> FOUND (using sanitized): 'LZK.pt'\n",
      "  Processed ID 132/379: original='CDKL5', sanitized='CDKL5' -> FOUND (using sanitized): 'CDKL5.pt'\n",
      "  Processed ID 133/379: original='CTK', sanitized='CTK' -> FOUND (using sanitized): 'CTK.pt'\n",
      "  Processed ID 134/379: original='ADCK4', sanitized='ADCK4' -> FOUND (using sanitized): 'ADCK4.pt'\n",
      "  Processed ID 135/379: original='EGFR(T790M)', sanitized='EGFR(T790M)' -> FOUND (using sanitized): 'EGFR.pt'\n",
      "  Processed ID 136/379: original='MEK3', sanitized='MEK3' -> FOUND (using sanitized): 'MEK3.pt'\n",
      "  Processed ID 137/379: original='PRKCE', sanitized='PRKCE' -> FOUND (using sanitized): 'PRKCE.pt'\n",
      "  Processed ID 138/379: original='MERTK', sanitized='MERTK' -> FOUND (using sanitized): 'MERTK.pt'\n",
      "  Processed ID 139/379: original='TGFBR1', sanitized='TGFBR1' -> FOUND (using sanitized): 'TGFBR1.pt'\n",
      "  Processed ID 140/379: original='GRK7', sanitized='GRK7' -> FOUND (using sanitized): 'GRK7.pt'\n",
      "  Processed ID 141/379: original='HUNK', sanitized='HUNK' -> FOUND (using sanitized): 'HUNK.pt'\n",
      "  Processed ID 142/379: original='PIK3C2G', sanitized='PIK3C2G' -> FOUND (using sanitized): 'PIK3C2G.pt'\n",
      "  Processed ID 143/379: original='MINK', sanitized='MINK' -> FOUND (using sanitized): 'MINK.pt'\n",
      "  Processed ID 144/379: original='ERK3', sanitized='ERK3' -> FOUND (using sanitized): 'ERK3.pt'\n",
      "  Processed ID 145/379: original='IKK-epsilon', sanitized='IKK-epsilon' -> FOUND (using sanitized): 'IKK-epsilon.pt'\n",
      "  Processed ID 146/379: original='LRRK2(G2019S)', sanitized='LRRK2(G2019S)' -> FOUND (using sanitized): 'LRRK2.pt'\n",
      "  Processed ID 147/379: original='ERBB4', sanitized='ERBB4' -> FOUND (using sanitized): 'ERBB4.pt'\n",
      "  Processed ID 148/379: original='EPHA8', sanitized='EPHA8' -> FOUND (using sanitized): 'EPHA8.pt'\n",
      "  Processed ID 149/379: original='PRKR', sanitized='PRKR' -> FOUND (using sanitized): 'PRKR.pt'\n",
      "  Processed ID 150/379: original='EPHB6', sanitized='EPHB6' -> FOUND (using sanitized): 'EPHB6.pt'\n",
      "  Processed ID 151/379: original='PIK3CG', sanitized='PIK3CG' -> FOUND (using sanitized): 'PIK3CG.pt'\n",
      "  Processed ID 152/379: original='RPS6KA5(KinDom.2-C-terminal)', sanitized='RPS6KA5(KinDom.2-C-terminal)' -> FOUND (using sanitized): 'RPS6KA5.pt'\n",
      "  Processed ID 153/379: original='MKNK1', sanitized='MKNK1' -> FOUND (using sanitized): 'MKNK1.pt'\n",
      "  Processed ID 154/379: original='RPS6KA4(KinDom.2-C-terminal)', sanitized='RPS6KA4(KinDom.2-C-terminal)' -> FOUND (using sanitized): 'RPS6KA4.pt'\n",
      "  Processed ID 155/379: original='PYK2', sanitized='PYK2' -> FOUND (using sanitized): 'PYK2.pt'\n",
      "  Processed ID 156/379: original='BRSK1', sanitized='BRSK1' -> FOUND (using sanitized): 'BRSK1.pt'\n",
      "  Processed ID 157/379: original='GRK1', sanitized='GRK1' -> FOUND (using sanitized): 'GRK1.pt'\n",
      "  Processed ID 158/379: original='FGFR3(G697C)', sanitized='FGFR3(G697C)' -> FOUND (using sanitized): 'FGFR3.pt'\n",
      "  Processed ID 159/379: original='AKT1', sanitized='AKT1' -> FOUND (using sanitized): 'AKT1.pt'\n",
      "  Processed ID 160/379: original='ERK4', sanitized='ERK4' -> FOUND (using sanitized): 'ERK4.pt'\n",
      "  Processed ID 161/379: original='CDK7', sanitized='CDK7' -> FOUND (using sanitized): 'CDK7.pt'\n",
      "  Processed ID 162/379: original='CDKL1', sanitized='CDKL1' -> FOUND (using sanitized): 'CDKL1.pt'\n",
      "  Processed ID 163/379: original='BTK', sanitized='BTK' -> FOUND (using sanitized): 'BTK.pt'\n",
      "  Processed ID 164/379: original='MLCK', sanitized='MLCK' -> FOUND (using sanitized): 'MLCK.pt'\n",
      "  Processed ID 165/379: original='DDR1', sanitized='DDR1' -> FOUND (using sanitized): 'DDR1.pt'\n",
      "  Processed ID 166/379: original='IKK-alpha', sanitized='IKK-alpha' -> FOUND (using sanitized): 'IKK-alpha.pt'\n",
      "  Processed ID 167/379: original='CAMK1', sanitized='CAMK1' -> FOUND (using sanitized): 'CAMK1.pt'\n",
      "  Processed ID 168/379: original='ULK1', sanitized='ULK1' -> FOUND (using sanitized): 'ULK1.pt'\n",
      "  Processed ID 169/379: original='ASK1', sanitized='ASK1' -> FOUND (using sanitized): 'ASK1.pt'\n",
      "  Processed ID 170/379: original='PRP4', sanitized='PRP4' -> FOUND (using sanitized): 'PRP4.pt'\n",
      "  Processed ID 171/379: original='PAK6', sanitized='PAK6' -> FOUND (using sanitized): 'PAK6.pt'\n",
      "  Processed ID 172/379: original='MYLK4', sanitized='MYLK4' -> FOUND (using sanitized): 'MYLK4.pt'\n",
      "  Processed ID 173/379: original='IGF1R', sanitized='IGF1R' -> FOUND (using sanitized): 'IGF1R.pt'\n",
      "  Processed ID 174/379: original='EPHA7', sanitized='EPHA7' -> FOUND (using sanitized): 'EPHA7.pt'\n",
      "  Processed ID 175/379: original='CAMKK2', sanitized='CAMKK2' -> FOUND (using sanitized): 'CAMKK2.pt'\n",
      "  Processed ID 176/379: original='LYN', sanitized='LYN' -> FOUND (using sanitized): 'LYN.pt'\n",
      "  Processed ID 177/379: original='PIK3CB', sanitized='PIK3CB' -> FOUND (using sanitized): 'PIK3CB.pt'\n",
      "  Processed ID 178/379: original='INSRR', sanitized='INSRR' -> FOUND (using sanitized): 'INSRR.pt'\n",
      "  Processed ID 179/379: original='NEK11', sanitized='NEK11' -> FOUND (using sanitized): 'NEK11.pt'\n",
      "  Processed ID 180/379: original='CSNK1A1', sanitized='CSNK1A1' -> FOUND (using sanitized): 'CSNK1A1.pt'\n",
      "  Processed ID 181/379: original='CLK4', sanitized='CLK4' -> FOUND (using sanitized): 'CLK4.pt'\n",
      "  Processed ID 182/379: original='YES', sanitized='YES' -> FOUND (using sanitized): 'YES.pt'\n",
      "  Processed ID 183/379: original='EPHB1', sanitized='EPHB1' -> FOUND (using sanitized): 'EPHB1.pt'\n",
      "  Processed ID 184/379: original='MKNK2', sanitized='MKNK2' -> FOUND (using sanitized): 'MKNK2.pt'\n",
      "  Processed ID 185/379: original='ACVR1B', sanitized='ACVR1B' -> FOUND (using sanitized): 'ACVR1B.pt'\n",
      "  Processed ID 186/379: original='ALK', sanitized='ALK' -> FOUND (using sanitized): 'ALK.pt'\n",
      "  Processed ID 187/379: original='SYK', sanitized='SYK' -> FOUND (using sanitized): 'SYK.pt'\n",
      "  Processed ID 188/379: original='CIT', sanitized='CIT' -> FOUND (using sanitized): 'CIT.pt'\n",
      "  Processed ID 189/379: original='CSNK1D', sanitized='CSNK1D' -> FOUND (using sanitized): 'CSNK1D.pt'\n",
      "  Processed ID 190/379: original='AURKC', sanitized='AURKC' -> FOUND (using sanitized): 'AURKC.pt'\n",
      "  Processed ID 191/379: original='PKMYT1', sanitized='PKMYT1' -> FOUND (using sanitized): 'PKMYT1.pt'\n",
      "  Processed ID 192/379: original='DYRK1A', sanitized='DYRK1A' -> FOUND (using sanitized): 'DYRK1A.pt'\n",
      "  Processed ID 193/379: original='SIK2', sanitized='SIK2' -> FOUND (using sanitized): 'SIK2.pt'\n",
      "  Processed ID 194/379: original='MST3', sanitized='MST3' -> FOUND (using sanitized): 'MST3.pt'\n",
      "  Processed ID 195/379: original='WEE1', sanitized='WEE1' -> FOUND (using sanitized): 'WEE1.pt'\n",
      "  Processed ID 196/379: original='PIM1', sanitized='PIM1' -> FOUND (using sanitized): 'PIM1.pt'\n",
      "  Processed ID 197/379: original='ACVR2B', sanitized='ACVR2B' -> FOUND (using sanitized): 'ACVR2B.pt'\n",
      "  Processed ID 198/379: original='RIPK4', sanitized='RIPK4' -> FOUND (using sanitized): 'RIPK4.pt'\n",
      "  Processed ID 199/379: original='PRKX', sanitized='PRKX' -> FOUND (using sanitized): 'PRKX.pt'\n",
      "  Processed ID 200/379: original='BMPR2', sanitized='BMPR2' -> FOUND (using sanitized): 'BMPR2.pt'\n",
      "  Processed ID 201/379: original='ZAP70', sanitized='ZAP70' -> FOUND (using sanitized): 'ZAP70.pt'\n",
      "  Processed ID 202/379: original='AURKA', sanitized='AURKA' -> FOUND (using sanitized): 'AURKA.pt'\n",
      "  Processed ID 203/379: original='PHKG1', sanitized='PHKG1' -> FOUND (using sanitized): 'PHKG1.pt'\n",
      "  Processed ID 204/379: original='HIPK3', sanitized='HIPK3' -> FOUND (using sanitized): 'HIPK3.pt'\n",
      "  Processed ID 205/379: original='RIPK1', sanitized='RIPK1' -> FOUND (using sanitized): 'RIPK1.pt'\n",
      "  Processed ID 206/379: original='MAP3K2', sanitized='MAP3K2' -> FOUND (using sanitized): 'MAP3K2.pt'\n",
      "  Processed ID 207/379: original='PIP5K1A', sanitized='PIP5K1A' -> FOUND (using sanitized): 'PIP5K1A.pt'\n",
      "  Processed ID 208/379: original='FER', sanitized='FER' -> FOUND (using sanitized): 'FER.pt'\n",
      "  Processed ID 209/379: original='CSNK2A1', sanitized='CSNK2A1' -> FOUND (using sanitized): 'CSNK2A1.pt'\n",
      "  Processed ID 210/379: original='MAPKAPK5', sanitized='MAPKAPK5' -> FOUND (using sanitized): 'MAPKAPK5.pt'\n",
      "  Processed ID 211/379: original='CDK2', sanitized='CDK2' -> FOUND (using sanitized): 'CDK2.pt'\n",
      "  Processed ID 212/379: original='BMX', sanitized='BMX' -> FOUND (using sanitized): 'BMX.pt'\n",
      "  Processed ID 213/379: original='PFCDPK1(Pfalciparum)', sanitized='PFCDPK1(Pfalciparum)' -> FOUND (using sanitized): 'PFCDPK1.pt'\n",
      "  Processed ID 214/379: original='ITK', sanitized='ITK' -> FOUND (using sanitized): 'ITK.pt'\n",
      "  Processed ID 215/379: original='ROCK1', sanitized='ROCK1' -> FOUND (using sanitized): 'ROCK1.pt'\n",
      "  Processed ID 216/379: original='STK36', sanitized='STK36' -> FOUND (using sanitized): 'STK36.pt'\n",
      "  Processed ID 217/379: original='SRPK1', sanitized='SRPK1' -> FOUND (using sanitized): 'SRPK1.pt'\n",
      "  Processed ID 218/379: original='DDR2', sanitized='DDR2' -> FOUND (using sanitized): 'DDR2.pt'\n",
      "  Processed ID 219/379: original='ZAK', sanitized='ZAK' -> FOUND (using sanitized): 'ZAK.pt'\n",
      "  Processed ID 220/379: original='CAMKK1', sanitized='CAMKK1' -> FOUND (using sanitized): 'CAMKK1.pt'\n",
      "  Processed ID 221/379: original='HCK', sanitized='HCK' -> FOUND (using sanitized): 'HCK.pt'\n",
      "  Processed ID 222/379: original='NLK', sanitized='NLK' -> FOUND (using sanitized): 'NLK.pt'\n",
      "  Processed ID 223/379: original='PRKD2', sanitized='PRKD2' -> FOUND (using sanitized): 'PRKD2.pt'\n",
      "  Processed ID 224/379: original='CAMK1D', sanitized='CAMK1D' -> FOUND (using sanitized): 'CAMK1D.pt'\n",
      "  Processed ID 225/379: original='IRAK1', sanitized='IRAK1' -> FOUND (using sanitized): 'IRAK1.pt'\n",
      "  Processed ID 226/379: original='EPHA3', sanitized='EPHA3' -> FOUND (using sanitized): 'EPHA3.pt'\n",
      "  Processed ID 227/379: original='PRKCI', sanitized='PRKCI' -> FOUND (using sanitized): 'PRKCI.pt'\n",
      "  Processed ID 228/379: original='TRKB', sanitized='TRKB' -> FOUND (using sanitized): 'TRKB.pt'\n",
      "  Processed ID 229/379: original='EPHB2', sanitized='EPHB2' -> FOUND (using sanitized): 'EPHB2.pt'\n",
      "  Processed ID 230/379: original='PLK3', sanitized='PLK3' -> FOUND (using sanitized): 'PLK3.pt'\n",
      "  Processed ID 231/379: original='DYRK2', sanitized='DYRK2' -> FOUND (using sanitized): 'DYRK2.pt'\n",
      "  Processed ID 232/379: original='DYRK1B', sanitized='DYRK1B' -> FOUND (using sanitized): 'DYRK1B.pt'\n",
      "  Processed ID 233/379: original='CDKL3', sanitized='CDKL3' -> FOUND (using sanitized): 'CDKL3.pt'\n",
      "  Processed ID 234/379: original='ERK8', sanitized='ERK8' -> FOUND (using sanitized): 'ERK8.pt'\n",
      "  Processed ID 235/379: original='JAK3(JH1domain-catalytic)', sanitized='JAK3(JH1domain-catalytic)' -> FOUND (using sanitized): 'JAK3.pt'\n",
      "  Processed ID 236/379: original='PLK4', sanitized='PLK4' -> FOUND (using sanitized): 'PLK4.pt'\n",
      "  Processed ID 237/379: original='TRKC', sanitized='TRKC' -> FOUND (using sanitized): 'TRKC.pt'\n",
      "  Processed ID 238/379: original='PCTK2', sanitized='PCTK2' -> FOUND (using sanitized): 'PCTK2.pt'\n",
      "  Processed ID 239/379: original='SIK', sanitized='SIK' -> FOUND (using sanitized): 'SIK.pt'\n",
      "  Processed ID 240/379: original='FAK', sanitized='FAK' -> FOUND (using sanitized): 'FAK.pt'\n",
      "  Processed ID 241/379: original='STK35', sanitized='STK35' -> FOUND (using sanitized): 'STK35.pt'\n",
      "  Processed ID 242/379: original='RIOK1', sanitized='RIOK1' -> FOUND (using sanitized): 'RIOK1.pt'\n",
      "  Processed ID 243/379: original='DCAMKL1', sanitized='DCAMKL1' -> FOUND (using sanitized): 'DCAMKL1.pt'\n",
      "  Processed ID 244/379: original='LIMK1', sanitized='LIMK1' -> FOUND (using sanitized): 'LIMK1.pt'\n",
      "  Processed ID 245/379: original='CDK4-cyclinD3', sanitized='CDK4-cyclinD3' -> FOUND (using sanitized): 'CDK4-cyclinD3.pt'\n",
      "  Processed ID 246/379: original='IRAK4', sanitized='IRAK4' -> FOUND (using sanitized): 'IRAK4.pt'\n",
      "  Processed ID 247/379: original='CSNK1E', sanitized='CSNK1E' -> FOUND (using sanitized): 'CSNK1E.pt'\n",
      "  Processed ID 248/379: original='YANK1', sanitized='YANK1' -> FOUND (using sanitized): 'YANK1.pt'\n",
      "  Processed ID 249/379: original='NEK4', sanitized='NEK4' -> FOUND (using sanitized): 'NEK4.pt'\n",
      "  Processed ID 250/379: original='MAPKAPK2', sanitized='MAPKAPK2' -> FOUND (using sanitized): 'MAPKAPK2.pt'\n",
      "  Processed ID 251/379: original='LOK', sanitized='LOK' -> FOUND (using sanitized): 'LOK.pt'\n",
      "  Processed ID 252/379: original='EPHA2', sanitized='EPHA2' -> FOUND (using sanitized): 'EPHA2.pt'\n",
      "  Processed ID 253/379: original='BRAF(V600E)', sanitized='BRAF(V600E)' -> FOUND (using sanitized): 'BRAF.pt'\n",
      "  Processed ID 254/379: original='NIM1', sanitized='NIM1' -> FOUND (using sanitized): 'NIM1.pt'\n",
      "  Processed ID 255/379: original='CDC2L2', sanitized='CDC2L2' -> FOUND (using sanitized): 'CDC2L2.pt'\n",
      "  Processed ID 256/379: original='RSK3(KinDom.2-C-terminal)', sanitized='RSK3(KinDom.2-C-terminal)' -> FOUND (using sanitized): 'RSK3.pt'\n",
      "  Processed ID 257/379: original='MAP4K2', sanitized='MAP4K2' -> FOUND (using sanitized): 'MAP4K2.pt'\n",
      "  Processed ID 258/379: original='AKT3', sanitized='AKT3' -> FOUND (using sanitized): 'AKT3.pt'\n",
      "  Processed ID 259/379: original='RSK1(KinDom.2-C-terminal)', sanitized='RSK1(KinDom.2-C-terminal)' -> FOUND (using sanitized): 'RSK1.pt'\n",
      "  Processed ID 260/379: original='JAK1(JH2domain-pseudokinase)', sanitized='JAK1(JH2domain-pseudokinase)' -> FOUND (using sanitized): 'JAK1.pt'\n",
      "  Processed ID 261/379: original='CASK', sanitized='CASK' -> FOUND (using sanitized): 'CASK.pt'\n",
      "  Processed ID 262/379: original='SGK3', sanitized='SGK3' -> FOUND (using sanitized): 'SGK3.pt'\n",
      "  Processed ID 263/379: original='ERK5', sanitized='ERK5' -> FOUND (using sanitized): 'ERK5.pt'\n",
      "  Processed ID 264/379: original='PAK4', sanitized='PAK4' -> FOUND (using sanitized): 'PAK4.pt'\n",
      "  Processed ID 265/379: original='BMPR1A', sanitized='BMPR1A' -> FOUND (using sanitized): 'BMPR1A.pt'\n",
      "  Processed ID 266/379: original='PKN2', sanitized='PKN2' -> FOUND (using sanitized): 'PKN2.pt'\n",
      "  Processed ID 267/379: original='INSR', sanitized='INSR' -> FOUND (using sanitized): 'INSR.pt'\n",
      "  Processed ID 268/379: original='ACVR2A', sanitized='ACVR2A' -> FOUND (using sanitized): 'ACVR2A.pt'\n",
      "  Processed ID 269/379: original='p38-beta', sanitized='p38-beta' -> FOUND (using sanitized): 'p38-beta.pt'\n",
      "  Processed ID 270/379: original='STK39', sanitized='STK39' -> FOUND (using sanitized): 'STK39.pt'\n",
      "  Processed ID 271/379: original='PCTK1', sanitized='PCTK1' -> FOUND (using sanitized): 'PCTK1.pt'\n",
      "  Processed ID 272/379: original='SBK1', sanitized='SBK1' -> FOUND (using sanitized): 'SBK1.pt'\n",
      "  Processed ID 273/379: original='CDK3', sanitized='CDK3' -> FOUND (using sanitized): 'CDK3.pt'\n",
      "  Processed ID 274/379: original='MEK5', sanitized='MEK5' -> FOUND (using sanitized): 'MEK5.pt'\n",
      "  Processed ID 275/379: original='FES', sanitized='FES' -> FOUND (using sanitized): 'FES.pt'\n",
      "  Processed ID 276/379: original='LCK', sanitized='LCK' -> FOUND (using sanitized): 'LCK.pt'\n",
      "  Processed ID 277/379: original='SRPK3', sanitized='SRPK3' -> FOUND (using sanitized): 'SRPK3.pt'\n",
      "  Processed ID 278/379: original='IKK-beta', sanitized='IKK-beta' -> FOUND (using sanitized): 'IKK-beta.pt'\n",
      "  Processed ID 279/379: original='CAMK4', sanitized='CAMK4' -> FOUND (using sanitized): 'CAMK4.pt'\n",
      "  Processed ID 280/379: original='CLK3', sanitized='CLK3' -> FOUND (using sanitized): 'CLK3.pt'\n",
      "  Processed ID 281/379: original='PIP5K1C', sanitized='PIP5K1C' -> FOUND (using sanitized): 'PIP5K1C.pt'\n",
      "  Processed ID 282/379: original='ERBB3', sanitized='ERBB3' -> FOUND (using sanitized): 'ERBB3.pt'\n",
      "  Processed ID 283/379: original='TYRO3', sanitized='TYRO3' -> FOUND (using sanitized): 'TYRO3.pt'\n",
      "  Processed ID 284/379: original='CSNK1G1', sanitized='CSNK1G1' -> FOUND (using sanitized): 'CSNK1G1.pt'\n",
      "  Processed ID 285/379: original='CDKL2', sanitized='CDKL2' -> FOUND (using sanitized): 'CDKL2.pt'\n",
      "  Processed ID 286/379: original='DCAMKL3', sanitized='DCAMKL3' -> FOUND (using sanitized): 'DCAMKL3.pt'\n",
      "  Processed ID 287/379: original='CAMK2G', sanitized='CAMK2G' -> FOUND (using sanitized): 'CAMK2G.pt'\n",
      "  Processed ID 288/379: original='CSNK2A2', sanitized='CSNK2A2' -> FOUND (using sanitized): 'CSNK2A2.pt'\n",
      "  Processed ID 289/379: original='MARK2', sanitized='MARK2' -> FOUND (using sanitized): 'MARK2.pt'\n",
      "  Processed ID 290/379: original='EPHB3', sanitized='EPHB3' -> FOUND (using sanitized): 'EPHB3.pt'\n",
      "  Processed ID 291/379: original='RIPK5', sanitized='RIPK5' -> FOUND (using sanitized): 'RIPK5.pt'\n",
      "  Processed ID 292/379: original='PKN1', sanitized='PKN1' -> FOUND (using sanitized): 'PKN1.pt'\n",
      "  Processed ID 293/379: original='SRMS', sanitized='SRMS' -> FOUND (using sanitized): 'SRMS.pt'\n",
      "  Processed ID 294/379: original='ERBB2', sanitized='ERBB2' -> FOUND (using sanitized): 'ERBB2.pt'\n",
      "  Processed ID 295/379: original='LATS2', sanitized='LATS2' -> FOUND (using sanitized): 'LATS2.pt'\n",
      "  Processed ID 296/379: original='OSR1', sanitized='OSR1' -> FOUND (using sanitized): 'OSR1.pt'\n",
      "  Processed ID 297/379: original='CDK5', sanitized='CDK5' -> FOUND (using sanitized): 'CDK5.pt'\n",
      "  Processed ID 298/379: original='TESK1', sanitized='TESK1' -> FOUND (using sanitized): 'TESK1.pt'\n",
      "  Processed ID 299/379: original='JNK2', sanitized='JNK2' -> FOUND (using sanitized): 'JNK2.pt'\n",
      "  Processed ID 300/379: original='JNK1', sanitized='JNK1' -> FOUND (using sanitized): 'JNK1.pt'\n",
      "  Processed ID 301/379: original='PKAC-alpha', sanitized='PKAC-alpha' -> FOUND (using sanitized): 'PKAC-alpha.pt'\n",
      "  Processed ID 302/379: original='MYO3A', sanitized='MYO3A' -> FOUND (using sanitized): 'MYO3A.pt'\n",
      "  Processed ID 303/379: original='MEK2', sanitized='MEK2' -> FOUND (using sanitized): 'MEK2.pt'\n",
      "  Processed ID 304/379: original='BRSK2', sanitized='BRSK2' -> FOUND (using sanitized): 'BRSK2.pt'\n",
      "  Processed ID 305/379: original='EIF2AK1', sanitized='EIF2AK1' -> FOUND (using sanitized): 'EIF2AK1.pt'\n",
      "  Processed ID 306/379: original='AMPK-alpha2', sanitized='AMPK-alpha2' -> FOUND (using sanitized): 'AMPK-alpha2.pt'\n",
      "  Processed ID 307/379: original='MYLK2', sanitized='MYLK2' -> FOUND (using sanitized): 'MYLK2.pt'\n",
      "  Processed ID 308/379: original='CSF1R', sanitized='CSF1R' -> FOUND (using sanitized): 'CSF1R.pt'\n",
      "  Processed ID 309/379: original='MEK4', sanitized='MEK4' -> FOUND (using sanitized): 'MEK4.pt'\n",
      "  Processed ID 310/379: original='EPHA6', sanitized='EPHA6' -> FOUND (using sanitized): 'EPHA6.pt'\n",
      "  Processed ID 311/379: original='NDR2', sanitized='NDR2' -> FOUND (using sanitized): 'NDR2.pt'\n",
      "  Processed ID 312/379: original='MST1', sanitized='MST1' -> FOUND (using sanitized): 'MST1.pt'\n",
      "  Processed ID 313/379: original='PFTAIRE2', sanitized='PFTAIRE2' -> FOUND (using sanitized): 'PFTAIRE2.pt'\n",
      "  Processed ID 314/379: original='ICK', sanitized='ICK' -> FOUND (using sanitized): 'ICK.pt'\n",
      "  Processed ID 315/379: original='TBK1', sanitized='TBK1' -> FOUND (using sanitized): 'TBK1.pt'\n",
      "  Processed ID 316/379: original='HIPK4', sanitized='HIPK4' -> FOUND (using sanitized): 'HIPK4.pt'\n",
      "  Processed ID 317/379: original='GCN2(KinDom2S808G)', sanitized='GCN2(KinDom2S808G)' -> FOUND (using sanitized): 'GCN2.pt'\n",
      "  Processed ID 318/379: original='MLK2', sanitized='MLK2' -> FOUND (using sanitized): 'MLK2.pt'\n",
      "  Processed ID 319/379: original='ADCK3', sanitized='ADCK3' -> FOUND (using sanitized): 'ADCK3.pt'\n",
      "  Processed ID 320/379: original='FLT4', sanitized='FLT4' -> FOUND (using sanitized): 'FLT4.pt'\n",
      "  Processed ID 321/379: original='LTK', sanitized='LTK' -> FOUND (using sanitized): 'LTK.pt'\n",
      "  Processed ID 322/379: original='MRCKA', sanitized='MRCKA' -> FOUND (using sanitized): 'MRCKA.pt'\n",
      "  Processed ID 323/379: original='DMPK2', sanitized='DMPK2' -> FOUND (using sanitized): 'DMPK2.pt'\n",
      "  Processed ID 324/379: original='PRKCQ', sanitized='PRKCQ' -> FOUND (using sanitized): 'PRKCQ.pt'\n",
      "  Processed ID 325/379: original='PRKD3', sanitized='PRKD3' -> FOUND (using sanitized): 'PRKD3.pt'\n",
      "  Processed ID 326/379: original='LATS1', sanitized='LATS1' -> FOUND (using sanitized): 'LATS1.pt'\n",
      "  Processed ID 327/379: original='EPHA4', sanitized='EPHA4' -> FOUND (using sanitized): 'EPHA4.pt'\n",
      "  Processed ID 328/379: original='MYLK', sanitized='MYLK' -> FOUND (using sanitized): 'MYLK.pt'\n",
      "  Processed ID 329/379: original='TNK1', sanitized='TNK1' -> FOUND (using sanitized): 'TNK1.pt'\n",
      "  Processed ID 330/379: original='p38-alpha', sanitized='p38-alpha' -> FOUND (using sanitized): 'p38-alpha.pt'\n",
      "  Processed ID 331/379: original='CAMK2A', sanitized='CAMK2A' -> FOUND (using sanitized): 'CAMK2A.pt'\n",
      "  Processed ID 332/379: original='CHEK1', sanitized='CHEK1' -> FOUND (using sanitized): 'CHEK1.pt'\n",
      "  Processed ID 333/379: original='PKAC-beta', sanitized='PKAC-beta' -> FOUND (using sanitized): 'PKAC-beta.pt'\n",
      "  Processed ID 334/379: original='DAPK3', sanitized='DAPK3' -> FOUND (using sanitized): 'DAPK3.pt'\n",
      "  Processed ID 335/379: original='PFTK1', sanitized='PFTK1' -> FOUND (using sanitized): 'PFTK1.pt'\n",
      "  Processed ID 336/379: original='ROCK2', sanitized='ROCK2' -> FOUND (using sanitized): 'ROCK2.pt'\n",
      "  Processed ID 337/379: original='LIMK2', sanitized='LIMK2' -> FOUND (using sanitized): 'LIMK2.pt'\n",
      "  Processed ID 338/379: original='CDK11', sanitized='CDK11' -> FOUND (using sanitized): 'CDK11.pt'\n",
      "  Processed ID 339/379: original='SRC', sanitized='SRC' -> FOUND (using sanitized): 'SRC.pt'\n",
      "  Processed ID 340/379: original='TNIK', sanitized='TNIK' -> FOUND (using sanitized): 'TNIK.pt'\n",
      "  Processed ID 341/379: original='ULK2', sanitized='ULK2' -> FOUND (using sanitized): 'ULK2.pt'\n",
      "  Processed ID 342/379: original='YANK3', sanitized='YANK3' -> FOUND (using sanitized): 'YANK3.pt'\n",
      "  Processed ID 343/379: original='EPHB4', sanitized='EPHB4' -> FOUND (using sanitized): 'EPHB4.pt'\n",
      "  Processed ID 344/379: original='CHEK2', sanitized='CHEK2' -> FOUND (using sanitized): 'CHEK2.pt'\n",
      "  Processed ID 345/379: original='AMPK-alpha1', sanitized='AMPK-alpha1' -> FOUND (using sanitized): 'AMPK-alpha1.pt'\n",
      "  Processed ID 346/379: original='PAK7', sanitized='PAK7' -> FOUND (using sanitized): 'PAK7.pt'\n",
      "  Processed ID 347/379: original='DCAMKL2', sanitized='DCAMKL2' -> FOUND (using sanitized): 'DCAMKL2.pt'\n",
      "  Processed ID 348/379: original='TGFBR2', sanitized='TGFBR2' -> FOUND (using sanitized): 'TGFBR2.pt'\n",
      "  Processed ID 349/379: original='RIOK3', sanitized='RIOK3' -> FOUND (using sanitized): 'RIOK3.pt'\n",
      "  Processed ID 350/379: original='TRKA', sanitized='TRKA' -> FOUND (using sanitized): 'TRKA.pt'\n",
      "  Processed ID 351/379: original='TAOK1', sanitized='TAOK1' -> FOUND (using sanitized): 'TAOK1.pt'\n",
      "  Processed ID 352/379: original='MYO3B', sanitized='MYO3B' -> FOUND (using sanitized): 'MYO3B.pt'\n",
      "  Processed ID 353/379: original='TYK2(JH2domain-pseudokinase)', sanitized='TYK2(JH2domain-pseudokinase)' -> FOUND (using sanitized): 'TYK2.pt'\n",
      "  Processed ID 354/379: original='MARK4', sanitized='MARK4' -> FOUND (using sanitized): 'MARK4.pt'\n",
      "  Processed ID 355/379: original='NEK5', sanitized='NEK5' -> FOUND (using sanitized): 'NEK5.pt'\n",
      "  Processed ID 356/379: original='p38-gamma', sanitized='p38-gamma' -> FOUND (using sanitized): 'p38-gamma.pt'\n",
      "  Processed ID 357/379: original='PHKG2', sanitized='PHKG2' -> FOUND (using sanitized): 'PHKG2.pt'\n",
      "  Processed ID 358/379: original='PCTK3', sanitized='PCTK3' -> FOUND (using sanitized): 'PCTK3.pt'\n",
      "  Processed ID 359/379: original='PIP5K2B', sanitized='PIP5K2B' -> FOUND (using sanitized): 'PIP5K2B.pt'\n",
      "  Processed ID 360/379: original='VEGFR2', sanitized='VEGFR2' -> FOUND (using sanitized): 'VEGFR2.pt'\n",
      "  Processed ID 361/379: original='MARK1', sanitized='MARK1' -> FOUND (using sanitized): 'MARK1.pt'\n",
      "  Processed ID 362/379: original='CDK9', sanitized='CDK9' -> FOUND (using sanitized): 'CDK9.pt'\n",
      "  Processed ID 363/379: original='TLK2', sanitized='TLK2' -> FOUND (using sanitized): 'TLK2.pt'\n",
      "  Processed ID 364/379: original='CSNK1A1L', sanitized='CSNK1A1L' -> FOUND (using sanitized): 'CSNK1A1L.pt'\n",
      "  Processed ID 365/379: original='NEK3', sanitized='NEK3' -> FOUND (using sanitized): 'NEK3.pt'\n",
      "  Processed ID 366/379: original='GRK4', sanitized='GRK4' -> FOUND (using sanitized): 'GRK4.pt'\n",
      "  Processed ID 367/379: original='ERN1', sanitized='ERN1' -> FOUND (using sanitized): 'ERN1.pt'\n",
      "  Processed ID 368/379: original='PLK1', sanitized='PLK1' -> FOUND (using sanitized): 'PLK1.pt'\n",
      "  Processed ID 369/379: original='CDC2L1', sanitized='CDC2L1' -> FOUND (using sanitized): 'CDC2L1.pt'\n",
      "  Processed ID 370/379: original='NDR1', sanitized='NDR1' -> FOUND (using sanitized): 'NDR1.pt'\n",
      "  Processed ID 371/379: original='RAF1', sanitized='RAF1' -> FOUND (using sanitized): 'RAF1.pt'\n",
      "  Processed ID 372/379: original='PIK3CA(Q546K)', sanitized='PIK3CA(Q546K)' -> FOUND (using sanitized): 'PIK3CA.pt'\n",
      "  Processed ID 373/379: original='BLK', sanitized='BLK' -> FOUND (using sanitized): 'BLK.pt'\n",
      "  Processed ID 374/379: original='FLT1', sanitized='FLT1' -> FOUND (using sanitized): 'FLT1.pt'\n",
      "  Processed ID 375/379: original='MAP3K3', sanitized='MAP3K3' -> FOUND (using sanitized): 'MAP3K3.pt'\n",
      "  Processed ID 376/379: original='MRCKB', sanitized='MRCKB' -> FOUND (using sanitized): 'MRCKB.pt'\n",
      "  Processed ID 377/379: original='ACVRL1', sanitized='ACVRL1' -> FOUND (using sanitized): 'ACVRL1.pt'\n",
      "  Processed ID 378/379: original='AAK1', sanitized='AAK1' -> FOUND (using sanitized): 'AAK1.pt'\n",
      "  Processed ID 379/379: original='SLK', sanitized='SLK' -> FOUND (using sanitized): 'SLK.pt'\n"
     ]
    },
    {
     "name": "stderr",
     "output_type": "stream",
     "text": [
      "Processing drugs: 100%|██████████| 68/68 [00:00<00:00, 634.84it/s]\n"
     ]
    },
    {
     "name": "stdout",
     "output_type": "stream",
     "text": [
      "INFO: Validating protein graph paths...\n",
      "INFO: Checking 379 unique Target_IDs from the DataFrame.\n",
      "  Processed ID 1/379: original='PIM2', sanitized='PIM2' -> FOUND (using sanitized): 'PIM2.pt'\n",
      "  Processed ID 2/379: original='CSNK2A1', sanitized='CSNK2A1' -> FOUND (using sanitized): 'CSNK2A1.pt'\n",
      "  Processed ID 3/379: original='YSK4', sanitized='YSK4' -> FOUND (using sanitized): 'YSK4.pt'\n",
      "  Processed ID 4/379: original='p38-beta', sanitized='p38-beta' -> FOUND (using sanitized): 'p38-beta.pt'\n",
      "  Processed ID 5/379: original='CTK', sanitized='CTK' -> FOUND (using sanitized): 'CTK.pt'\n",
      "  Processed ID 6/379: original='TNK2', sanitized='TNK2' -> FOUND (using sanitized): 'TNK2.pt'\n",
      "  Processed ID 7/379: original='JAK1(JH2domain-pseudokinase)', sanitized='JAK1(JH2domain-pseudokinase)' -> FOUND (using sanitized): 'JAK1.pt'\n",
      "  Processed ID 8/379: original='DCAMKL3', sanitized='DCAMKL3' -> FOUND (using sanitized): 'DCAMKL3.pt'\n",
      "  Processed ID 9/379: original='ZAP70', sanitized='ZAP70' -> FOUND (using sanitized): 'ZAP70.pt'\n",
      "  Processed ID 10/379: original='CLK2', sanitized='CLK2' -> FOUND (using sanitized): 'CLK2.pt'\n",
      "  Processed ID 11/379: original='ADCK3', sanitized='ADCK3' -> FOUND (using sanitized): 'ADCK3.pt'\n",
      "  Processed ID 12/379: original='BTK', sanitized='BTK' -> FOUND (using sanitized): 'BTK.pt'\n",
      "  Processed ID 13/379: original='STK16', sanitized='STK16' -> FOUND (using sanitized): 'STK16.pt'\n",
      "  Processed ID 14/379: original='HPK1', sanitized='HPK1' -> FOUND (using sanitized): 'HPK1.pt'\n",
      "  Processed ID 15/379: original='PRKCH', sanitized='PRKCH' -> FOUND (using sanitized): 'PRKCH.pt'\n",
      "  Processed ID 16/379: original='PCTK1', sanitized='PCTK1' -> FOUND (using sanitized): 'PCTK1.pt'\n",
      "  Processed ID 17/379: original='MAP4K5', sanitized='MAP4K5' -> FOUND (using sanitized): 'MAP4K5.pt'\n",
      "  Processed ID 18/379: original='EPHB4', sanitized='EPHB4' -> FOUND (using sanitized): 'EPHB4.pt'\n",
      "  Processed ID 19/379: original='SYK', sanitized='SYK' -> FOUND (using sanitized): 'SYK.pt'\n",
      "  Processed ID 20/379: original='PRKCQ', sanitized='PRKCQ' -> FOUND (using sanitized): 'PRKCQ.pt'\n",
      "  Processed ID 21/379: original='TEC', sanitized='TEC' -> FOUND (using sanitized): 'TEC.pt'\n",
      "  Processed ID 22/379: original='MKNK2', sanitized='MKNK2' -> FOUND (using sanitized): 'MKNK2.pt'\n",
      "  Processed ID 23/379: original='MST4', sanitized='MST4' -> FOUND (using sanitized): 'MST4.pt'\n",
      "  Processed ID 24/379: original='RAF1', sanitized='RAF1' -> FOUND (using sanitized): 'RAF1.pt'\n",
      "  Processed ID 25/379: original='AKT1', sanitized='AKT1' -> FOUND (using sanitized): 'AKT1.pt'\n",
      "  Processed ID 26/379: original='TGFBR1', sanitized='TGFBR1' -> FOUND (using sanitized): 'TGFBR1.pt'\n",
      "  Processed ID 27/379: original='INSRR', sanitized='INSRR' -> FOUND (using sanitized): 'INSRR.pt'\n",
      "  Processed ID 28/379: original='SNRK', sanitized='SNRK' -> FOUND (using sanitized): 'SNRK.pt'\n",
      "  Processed ID 29/379: original='TAK1', sanitized='TAK1' -> FOUND (using sanitized): 'TAK1.pt'\n",
      "  Processed ID 30/379: original='NDR2', sanitized='NDR2' -> FOUND (using sanitized): 'NDR2.pt'\n",
      "  Processed ID 31/379: original='CDC2L5', sanitized='CDC2L5' -> FOUND (using sanitized): 'CDC2L5.pt'\n",
      "  Processed ID 32/379: original='ASK2', sanitized='ASK2' -> FOUND (using sanitized): 'ASK2.pt'\n",
      "  Processed ID 33/379: original='INSR', sanitized='INSR' -> FOUND (using sanitized): 'INSR.pt'\n",
      "  Processed ID 34/379: original='MAP4K2', sanitized='MAP4K2' -> FOUND (using sanitized): 'MAP4K2.pt'\n",
      "  Processed ID 35/379: original='YSK1', sanitized='YSK1' -> FOUND (using sanitized): 'YSK1.pt'\n",
      "  Processed ID 36/379: original='TTK', sanitized='TTK' -> FOUND (using sanitized): 'TTK.pt'\n",
      "  Processed ID 37/379: original='RPS6KA5(KinDom.2-C-terminal)', sanitized='RPS6KA5(KinDom.2-C-terminal)' -> FOUND (using sanitized): 'RPS6KA5.pt'\n",
      "  Processed ID 38/379: original='PFCDPK1(Pfalciparum)', sanitized='PFCDPK1(Pfalciparum)' -> FOUND (using sanitized): 'PFCDPK1.pt'\n",
      "  Processed ID 39/379: original='TRPM6', sanitized='TRPM6' -> FOUND (using sanitized): 'TRPM6.pt'\n",
      "  Processed ID 40/379: original='MYLK4', sanitized='MYLK4' -> FOUND (using sanitized): 'MYLK4.pt'\n",
      "  Processed ID 41/379: original='DYRK2', sanitized='DYRK2' -> FOUND (using sanitized): 'DYRK2.pt'\n",
      "  Processed ID 42/379: original='ACVR2B', sanitized='ACVR2B' -> FOUND (using sanitized): 'ACVR2B.pt'\n",
      "  Processed ID 43/379: original='IRAK4', sanitized='IRAK4' -> FOUND (using sanitized): 'IRAK4.pt'\n",
      "  Processed ID 44/379: original='AURKB', sanitized='AURKB' -> FOUND (using sanitized): 'AURKB.pt'\n",
      "  Processed ID 45/379: original='GRK4', sanitized='GRK4' -> FOUND (using sanitized): 'GRK4.pt'\n",
      "  Processed ID 46/379: original='ERK5', sanitized='ERK5' -> FOUND (using sanitized): 'ERK5.pt'\n",
      "  Processed ID 47/379: original='NDR1', sanitized='NDR1' -> FOUND (using sanitized): 'NDR1.pt'\n",
      "  Processed ID 48/379: original='YES', sanitized='YES' -> FOUND (using sanitized): 'YES.pt'\n",
      "  Processed ID 49/379: original='GSK3A', sanitized='GSK3A' -> FOUND (using sanitized): 'GSK3A.pt'\n",
      "  Processed ID 50/379: original='CAMK2D', sanitized='CAMK2D' -> FOUND (using sanitized): 'CAMK2D.pt'\n",
      "  Processed ID 51/379: original='SIK', sanitized='SIK' -> FOUND (using sanitized): 'SIK.pt'\n",
      "  Processed ID 52/379: original='PAK3', sanitized='PAK3' -> FOUND (using sanitized): 'PAK3.pt'\n",
      "  Processed ID 53/379: original='YANK2', sanitized='YANK2' -> FOUND (using sanitized): 'YANK2.pt'\n",
      "  Processed ID 54/379: original='TLK2', sanitized='TLK2' -> FOUND (using sanitized): 'TLK2.pt'\n",
      "  Processed ID 55/379: original='NEK2', sanitized='NEK2' -> FOUND (using sanitized): 'NEK2.pt'\n",
      "  Processed ID 56/379: original='STK35', sanitized='STK35' -> FOUND (using sanitized): 'STK35.pt'\n",
      "  Processed ID 57/379: original='FLT4', sanitized='FLT4' -> FOUND (using sanitized): 'FLT4.pt'\n",
      "  Processed ID 58/379: original='TAOK1', sanitized='TAOK1' -> FOUND (using sanitized): 'TAOK1.pt'\n",
      "  Processed ID 59/379: original='VEGFR2', sanitized='VEGFR2' -> FOUND (using sanitized): 'VEGFR2.pt'\n",
      "  Processed ID 60/379: original='RIOK2', sanitized='RIOK2' -> FOUND (using sanitized): 'RIOK2.pt'\n",
      "  Processed ID 61/379: original='LATS2', sanitized='LATS2' -> FOUND (using sanitized): 'LATS2.pt'\n",
      "  Processed ID 62/379: original='IKK-beta', sanitized='IKK-beta' -> FOUND (using sanitized): 'IKK-beta.pt'\n",
      "  Processed ID 63/379: original='TNK1', sanitized='TNK1' -> FOUND (using sanitized): 'TNK1.pt'\n",
      "  Processed ID 64/379: original='PIP5K1C', sanitized='PIP5K1C' -> FOUND (using sanitized): 'PIP5K1C.pt'\n",
      "  Processed ID 65/379: original='EPHA2', sanitized='EPHA2' -> FOUND (using sanitized): 'EPHA2.pt'\n",
      "  Processed ID 66/379: original='BRK', sanitized='BRK' -> FOUND (using sanitized): 'BRK.pt'\n",
      "  Processed ID 67/379: original='IGF1R', sanitized='IGF1R' -> FOUND (using sanitized): 'IGF1R.pt'\n",
      "  Processed ID 68/379: original='ABL2', sanitized='ABL2' -> FOUND (using sanitized): 'ABL2.pt'\n",
      "  Processed ID 69/379: original='LCK', sanitized='LCK' -> FOUND (using sanitized): 'LCK.pt'\n",
      "  Processed ID 70/379: original='CDK5', sanitized='CDK5' -> FOUND (using sanitized): 'CDK5.pt'\n",
      "  Processed ID 71/379: original='JNK1', sanitized='JNK1' -> FOUND (using sanitized): 'JNK1.pt'\n",
      "  Processed ID 72/379: original='LOK', sanitized='LOK' -> FOUND (using sanitized): 'LOK.pt'\n",
      "  Processed ID 73/379: original='PRKCE', sanitized='PRKCE' -> FOUND (using sanitized): 'PRKCE.pt'\n",
      "  Processed ID 74/379: original='MAST1', sanitized='MAST1' -> FOUND (using sanitized): 'MAST1.pt'\n",
      "  Processed ID 75/379: original='EPHA8', sanitized='EPHA8' -> FOUND (using sanitized): 'EPHA8.pt'\n",
      "  Processed ID 76/379: original='PIP5K2B', sanitized='PIP5K2B' -> FOUND (using sanitized): 'PIP5K2B.pt'\n",
      "  Processed ID 77/379: original='SLK', sanitized='SLK' -> FOUND (using sanitized): 'SLK.pt'\n",
      "  Processed ID 78/379: original='TBK1', sanitized='TBK1' -> FOUND (using sanitized): 'TBK1.pt'\n",
      "  Processed ID 79/379: original='TRKC', sanitized='TRKC' -> FOUND (using sanitized): 'TRKC.pt'\n",
      "  Processed ID 80/379: original='MEK1', sanitized='MEK1' -> FOUND (using sanitized): 'MEK1.pt'\n",
      "  Processed ID 81/379: original='NLK', sanitized='NLK' -> FOUND (using sanitized): 'NLK.pt'\n",
      "  Processed ID 82/379: original='MINK', sanitized='MINK' -> FOUND (using sanitized): 'MINK.pt'\n",
      "  Processed ID 83/379: original='CLK4', sanitized='CLK4' -> FOUND (using sanitized): 'CLK4.pt'\n",
      "  Processed ID 84/379: original='PIK3CB', sanitized='PIK3CB' -> FOUND (using sanitized): 'PIK3CB.pt'\n",
      "  Processed ID 85/379: original='ERBB2', sanitized='ERBB2' -> FOUND (using sanitized): 'ERBB2.pt'\n",
      "  Processed ID 86/379: original='STK39', sanitized='STK39' -> FOUND (using sanitized): 'STK39.pt'\n",
      "  Processed ID 87/379: original='MEK3', sanitized='MEK3' -> FOUND (using sanitized): 'MEK3.pt'\n",
      "  Processed ID 88/379: original='CSNK1D', sanitized='CSNK1D' -> FOUND (using sanitized): 'CSNK1D.pt'\n",
      "  Processed ID 89/379: original='CDK9', sanitized='CDK9' -> FOUND (using sanitized): 'CDK9.pt'\n",
      "  Processed ID 90/379: original='PKAC-beta', sanitized='PKAC-beta' -> FOUND (using sanitized): 'PKAC-beta.pt'\n",
      "  Processed ID 91/379: original='RSK1(KinDom.2-C-terminal)', sanitized='RSK1(KinDom.2-C-terminal)' -> FOUND (using sanitized): 'RSK1.pt'\n",
      "  Processed ID 92/379: original='PLK1', sanitized='PLK1' -> FOUND (using sanitized): 'PLK1.pt'\n",
      "  Processed ID 93/379: original='PRKR', sanitized='PRKR' -> FOUND (using sanitized): 'PRKR.pt'\n",
      "  Processed ID 94/379: original='CDC2L1', sanitized='CDC2L1' -> FOUND (using sanitized): 'CDC2L1.pt'\n",
      "  Processed ID 95/379: original='BLK', sanitized='BLK' -> FOUND (using sanitized): 'BLK.pt'\n",
      "  Processed ID 96/379: original='CAMK4', sanitized='CAMK4' -> FOUND (using sanitized): 'CAMK4.pt'\n",
      "  Processed ID 97/379: original='PFTAIRE2', sanitized='PFTAIRE2' -> FOUND (using sanitized): 'PFTAIRE2.pt'\n",
      "  Processed ID 98/379: original='ERK1', sanitized='ERK1' -> FOUND (using sanitized): 'ERK1.pt'\n",
      "  Processed ID 99/379: original='MYO3B', sanitized='MYO3B' -> FOUND (using sanitized): 'MYO3B.pt'\n",
      "  Processed ID 100/379: original='PIP5K2C', sanitized='PIP5K2C' -> FOUND (using sanitized): 'PIP5K2C.pt'\n",
      "  Processed ID 101/379: original='PKN1', sanitized='PKN1' -> FOUND (using sanitized): 'PKN1.pt'\n",
      "  Processed ID 102/379: original='CIT', sanitized='CIT' -> FOUND (using sanitized): 'CIT.pt'\n",
      "  Processed ID 103/379: original='RIOK3', sanitized='RIOK3' -> FOUND (using sanitized): 'RIOK3.pt'\n",
      "  Processed ID 104/379: original='PRKG2', sanitized='PRKG2' -> FOUND (using sanitized): 'PRKG2.pt'\n",
      "  Processed ID 105/379: original='CLK1', sanitized='CLK1' -> FOUND (using sanitized): 'CLK1.pt'\n",
      "  Processed ID 106/379: original='MKNK1', sanitized='MKNK1' -> FOUND (using sanitized): 'MKNK1.pt'\n",
      "  Processed ID 107/379: original='PAK1', sanitized='PAK1' -> FOUND (using sanitized): 'PAK1.pt'\n",
      "  Processed ID 108/379: original='CDKL2', sanitized='CDKL2' -> FOUND (using sanitized): 'CDKL2.pt'\n",
      "  Processed ID 109/379: original='TYRO3', sanitized='TYRO3' -> FOUND (using sanitized): 'TYRO3.pt'\n",
      "  Processed ID 110/379: original='HIPK4', sanitized='HIPK4' -> FOUND (using sanitized): 'HIPK4.pt'\n",
      "  Processed ID 111/379: original='CDK4-cyclinD3', sanitized='CDK4-cyclinD3' -> FOUND (using sanitized): 'CDK4-cyclinD3.pt'\n",
      "  Processed ID 112/379: original='KIT(V559D-V654A)', sanitized='KIT(V559D-V654A)' -> FOUND (using sanitized): 'KIT.pt'\n",
      "  Processed ID 113/379: original='CHEK2', sanitized='CHEK2' -> FOUND (using sanitized): 'CHEK2.pt'\n",
      "  Processed ID 114/379: original='ACVRL1', sanitized='ACVRL1' -> FOUND (using sanitized): 'ACVRL1.pt'\n",
      "  Processed ID 115/379: original='DMPK2', sanitized='DMPK2' -> FOUND (using sanitized): 'DMPK2.pt'\n",
      "  Processed ID 116/379: original='CAMK2G', sanitized='CAMK2G' -> FOUND (using sanitized): 'CAMK2G.pt'\n",
      "  Processed ID 117/379: original='PRKX', sanitized='PRKX' -> FOUND (using sanitized): 'PRKX.pt'\n",
      "  Processed ID 118/379: original='TAOK3', sanitized='TAOK3' -> FOUND (using sanitized): 'TAOK3.pt'\n",
      "  Processed ID 119/379: original='SRC', sanitized='SRC' -> FOUND (using sanitized): 'SRC.pt'\n",
      "  Processed ID 120/379: original='RIPK1', sanitized='RIPK1' -> FOUND (using sanitized): 'RIPK1.pt'\n",
      "  Processed ID 121/379: original='DAPK1', sanitized='DAPK1' -> FOUND (using sanitized): 'DAPK1.pt'\n",
      "  Processed ID 122/379: original='IKK-alpha', sanitized='IKK-alpha' -> FOUND (using sanitized): 'IKK-alpha.pt'\n",
      "  Processed ID 123/379: original='MST1', sanitized='MST1' -> FOUND (using sanitized): 'MST1.pt'\n",
      "  Processed ID 124/379: original='JNK2', sanitized='JNK2' -> FOUND (using sanitized): 'JNK2.pt'\n",
      "  Processed ID 125/379: original='DAPK3', sanitized='DAPK3' -> FOUND (using sanitized): 'DAPK3.pt'\n",
      "  Processed ID 126/379: original='RIOK1', sanitized='RIOK1' -> FOUND (using sanitized): 'RIOK1.pt'\n",
      "  Processed ID 127/379: original='PIM1', sanitized='PIM1' -> FOUND (using sanitized): 'PIM1.pt'\n",
      "  Processed ID 128/379: original='CSNK1E', sanitized='CSNK1E' -> FOUND (using sanitized): 'CSNK1E.pt'\n",
      "  Processed ID 129/379: original='CAMKK1', sanitized='CAMKK1' -> FOUND (using sanitized): 'CAMKK1.pt'\n",
      "  Processed ID 130/379: original='FLT3(R834Q)', sanitized='FLT3(R834Q)' -> FOUND (using sanitized): 'FLT3.pt'\n",
      "  Processed ID 131/379: original='TESK1', sanitized='TESK1' -> FOUND (using sanitized): 'TESK1.pt'\n",
      "  Processed ID 132/379: original='TIE2', sanitized='TIE2' -> FOUND (using sanitized): 'TIE2.pt'\n",
      "  Processed ID 133/379: original='NEK9', sanitized='NEK9' -> FOUND (using sanitized): 'NEK9.pt'\n",
      "  Processed ID 134/379: original='DDR1', sanitized='DDR1' -> FOUND (using sanitized): 'DDR1.pt'\n",
      "  Processed ID 135/379: original='EPHA7', sanitized='EPHA7' -> FOUND (using sanitized): 'EPHA7.pt'\n",
      "  Processed ID 136/379: original='PRKG1', sanitized='PRKG1' -> FOUND (using sanitized): 'PRKG1.pt'\n",
      "  Processed ID 137/379: original='SNARK', sanitized='SNARK' -> FOUND (using sanitized): 'SNARK.pt'\n",
      "  Processed ID 138/379: original='MAK', sanitized='MAK' -> FOUND (using sanitized): 'MAK.pt'\n",
      "  Processed ID 139/379: original='JNK3', sanitized='JNK3' -> FOUND (using sanitized): 'JNK3.pt'\n",
      "  Processed ID 140/379: original='NIM1', sanitized='NIM1' -> FOUND (using sanitized): 'NIM1.pt'\n",
      "  Processed ID 141/379: original='GCN2(KinDom2S808G)', sanitized='GCN2(KinDom2S808G)' -> FOUND (using sanitized): 'GCN2.pt'\n",
      "  Processed ID 142/379: original='MUSK', sanitized='MUSK' -> FOUND (using sanitized): 'MUSK.pt'\n",
      "  Processed ID 143/379: original='EPHA5', sanitized='EPHA5' -> FOUND (using sanitized): 'EPHA5.pt'\n",
      "  Processed ID 144/379: original='NEK3', sanitized='NEK3' -> FOUND (using sanitized): 'NEK3.pt'\n",
      "  Processed ID 145/379: original='ACVR1', sanitized='ACVR1' -> FOUND (using sanitized): 'ACVR1.pt'\n",
      "  Processed ID 146/379: original='MET(Y1235D)', sanitized='MET(Y1235D)' -> FOUND (using sanitized): 'MET.pt'\n",
      "  Processed ID 147/379: original='ROCK1', sanitized='ROCK1' -> FOUND (using sanitized): 'ROCK1.pt'\n",
      "  Processed ID 148/379: original='EPHB3', sanitized='EPHB3' -> FOUND (using sanitized): 'EPHB3.pt'\n",
      "  Processed ID 149/379: original='FLT1', sanitized='FLT1' -> FOUND (using sanitized): 'FLT1.pt'\n",
      "  Processed ID 150/379: original='PHKG2', sanitized='PHKG2' -> FOUND (using sanitized): 'PHKG2.pt'\n",
      "  Processed ID 151/379: original='LIMK2', sanitized='LIMK2' -> FOUND (using sanitized): 'LIMK2.pt'\n",
      "  Processed ID 152/379: original='YANK1', sanitized='YANK1' -> FOUND (using sanitized): 'YANK1.pt'\n",
      "  Processed ID 153/379: original='JAK2(JH1domain-catalytic)', sanitized='JAK2(JH1domain-catalytic)' -> FOUND (using sanitized): 'JAK2.pt'\n",
      "  Processed ID 154/379: original='ERK8', sanitized='ERK8' -> FOUND (using sanitized): 'ERK8.pt'\n",
      "  Processed ID 155/379: original='FER', sanitized='FER' -> FOUND (using sanitized): 'FER.pt'\n",
      "  Processed ID 156/379: original='CASK', sanitized='CASK' -> FOUND (using sanitized): 'CASK.pt'\n",
      "  Processed ID 157/379: original='SGK3', sanitized='SGK3' -> FOUND (using sanitized): 'SGK3.pt'\n",
      "  Processed ID 158/379: original='ERK2', sanitized='ERK2' -> FOUND (using sanitized): 'ERK2.pt'\n",
      "  Processed ID 159/379: original='ABL1p', sanitized='ABL1p' -> FOUND (using sanitized): 'ABL1p.pt'\n",
      "  Processed ID 160/379: original='FAK', sanitized='FAK' -> FOUND (using sanitized): 'FAK.pt'\n",
      "  Processed ID 161/379: original='RSK3(KinDom.2-C-terminal)', sanitized='RSK3(KinDom.2-C-terminal)' -> FOUND (using sanitized): 'RSK3.pt'\n",
      "  Processed ID 162/379: original='CSNK1A1L', sanitized='CSNK1A1L' -> FOUND (using sanitized): 'CSNK1A1L.pt'\n",
      "  Processed ID 163/379: original='NEK6', sanitized='NEK6' -> FOUND (using sanitized): 'NEK6.pt'\n",
      "  Processed ID 164/379: original='FGFR3(G697C)', sanitized='FGFR3(G697C)' -> FOUND (using sanitized): 'FGFR3.pt'\n",
      "  Processed ID 165/379: original='EPHB2', sanitized='EPHB2' -> FOUND (using sanitized): 'EPHB2.pt'\n",
      "  Processed ID 166/379: original='MAP3K3', sanitized='MAP3K3' -> FOUND (using sanitized): 'MAP3K3.pt'\n",
      "  Processed ID 167/379: original='LZK', sanitized='LZK' -> FOUND (using sanitized): 'LZK.pt'\n",
      "  Processed ID 168/379: original='TNNI3K', sanitized='TNNI3K' -> FOUND (using sanitized): 'TNNI3K.pt'\n",
      "  Processed ID 169/379: original='PHKG1', sanitized='PHKG1' -> FOUND (using sanitized): 'PHKG1.pt'\n",
      "  Processed ID 170/379: original='CLK3', sanitized='CLK3' -> FOUND (using sanitized): 'CLK3.pt'\n",
      "  Processed ID 171/379: original='SRPK1', sanitized='SRPK1' -> FOUND (using sanitized): 'SRPK1.pt'\n",
      "  Processed ID 172/379: original='YANK3', sanitized='YANK3' -> FOUND (using sanitized): 'YANK3.pt'\n",
      "  Processed ID 173/379: original='BMX', sanitized='BMX' -> FOUND (using sanitized): 'BMX.pt'\n",
      "  Processed ID 174/379: original='BRAF(V600E)', sanitized='BRAF(V600E)' -> FOUND (using sanitized): 'BRAF.pt'\n",
      "  Processed ID 175/379: original='PAK2', sanitized='PAK2' -> FOUND (using sanitized): 'PAK2.pt'\n",
      "  Processed ID 176/379: original='EGFR(T790M)', sanitized='EGFR(T790M)' -> FOUND (using sanitized): 'EGFR.pt'\n",
      "  Processed ID 177/379: original='MST1R', sanitized='MST1R' -> FOUND (using sanitized): 'MST1R.pt'\n",
      "  Processed ID 178/379: original='ROCK2', sanitized='ROCK2' -> FOUND (using sanitized): 'ROCK2.pt'\n",
      "  Processed ID 179/379: original='ICK', sanitized='ICK' -> FOUND (using sanitized): 'ICK.pt'\n",
      "  Processed ID 180/379: original='MRCKA', sanitized='MRCKA' -> FOUND (using sanitized): 'MRCKA.pt'\n",
      "  Processed ID 181/379: original='ERK4', sanitized='ERK4' -> FOUND (using sanitized): 'ERK4.pt'\n",
      "  Processed ID 182/379: original='IRAK1', sanitized='IRAK1' -> FOUND (using sanitized): 'IRAK1.pt'\n",
      "  Processed ID 183/379: original='PFPK5(Pfalciparum)', sanitized='PFPK5(Pfalciparum)' -> FOUND (using sanitized): 'PFPK5.pt'\n",
      "  Processed ID 184/379: original='HIPK2', sanitized='HIPK2' -> FOUND (using sanitized): 'HIPK2.pt'\n",
      "  Processed ID 185/379: original='PLK3', sanitized='PLK3' -> FOUND (using sanitized): 'PLK3.pt'\n",
      "  Processed ID 186/379: original='PKN2', sanitized='PKN2' -> FOUND (using sanitized): 'PKN2.pt'\n",
      "  Processed ID 187/379: original='BRSK2', sanitized='BRSK2' -> FOUND (using sanitized): 'BRSK2.pt'\n",
      "  Processed ID 188/379: original='CSNK1G1', sanitized='CSNK1G1' -> FOUND (using sanitized): 'CSNK1G1.pt'\n",
      "  Processed ID 189/379: original='DCAMKL2', sanitized='DCAMKL2' -> FOUND (using sanitized): 'DCAMKL2.pt'\n",
      "  Processed ID 190/379: original='CDKL1', sanitized='CDKL1' -> FOUND (using sanitized): 'CDKL1.pt'\n",
      "  Processed ID 191/379: original='DAPK2', sanitized='DAPK2' -> FOUND (using sanitized): 'DAPK2.pt'\n",
      "  Processed ID 192/379: original='FGR', sanitized='FGR' -> FOUND (using sanitized): 'FGR.pt'\n",
      "  Processed ID 193/379: original='ERBB3', sanitized='ERBB3' -> FOUND (using sanitized): 'ERBB3.pt'\n",
      "  Processed ID 194/379: original='PIK3CG', sanitized='PIK3CG' -> FOUND (using sanitized): 'PIK3CG.pt'\n",
      "  Processed ID 195/379: original='NEK4', sanitized='NEK4' -> FOUND (using sanitized): 'NEK4.pt'\n",
      "  Processed ID 196/379: original='GSK3B', sanitized='GSK3B' -> FOUND (using sanitized): 'GSK3B.pt'\n",
      "  Processed ID 197/379: original='MAPKAPK2', sanitized='MAPKAPK2' -> FOUND (using sanitized): 'MAPKAPK2.pt'\n",
      "  Processed ID 198/379: original='TRKA', sanitized='TRKA' -> FOUND (using sanitized): 'TRKA.pt'\n",
      "  Processed ID 199/379: original='p38-delta', sanitized='p38-delta' -> FOUND (using sanitized): 'p38-delta.pt'\n",
      "  Processed ID 200/379: original='PKNB(Mtuberculosis)', sanitized='PKNB(Mtuberculosis)' -> FOUND (using sanitized): 'PKNB.pt'\n",
      "  Processed ID 201/379: original='GRK1', sanitized='GRK1' -> FOUND (using sanitized): 'GRK1.pt'\n",
      "  Processed ID 202/379: original='CSF1R', sanitized='CSF1R' -> FOUND (using sanitized): 'CSF1R.pt'\n",
      "  Processed ID 203/379: original='MEK6', sanitized='MEK6' -> FOUND (using sanitized): 'MEK6.pt'\n",
      "  Processed ID 204/379: original='MST2', sanitized='MST2' -> FOUND (using sanitized): 'MST2.pt'\n",
      "  Processed ID 205/379: original='ACVR2A', sanitized='ACVR2A' -> FOUND (using sanitized): 'ACVR2A.pt'\n",
      "  Processed ID 206/379: original='HIPK3', sanitized='HIPK3' -> FOUND (using sanitized): 'HIPK3.pt'\n",
      "  Processed ID 207/379: original='TAOK2', sanitized='TAOK2' -> FOUND (using sanitized): 'TAOK2.pt'\n",
      "  Processed ID 208/379: original='p38-gamma', sanitized='p38-gamma' -> FOUND (using sanitized): 'p38-gamma.pt'\n",
      "  Processed ID 209/379: original='ITK', sanitized='ITK' -> FOUND (using sanitized): 'ITK.pt'\n",
      "  Processed ID 210/379: original='IKK-epsilon', sanitized='IKK-epsilon' -> FOUND (using sanitized): 'IKK-epsilon.pt'\n",
      "  Processed ID 211/379: original='AAK1', sanitized='AAK1' -> FOUND (using sanitized): 'AAK1.pt'\n",
      "  Processed ID 212/379: original='STK36', sanitized='STK36' -> FOUND (using sanitized): 'STK36.pt'\n",
      "  Processed ID 213/379: original='CSNK1G2', sanitized='CSNK1G2' -> FOUND (using sanitized): 'CSNK1G2.pt'\n",
      "  Processed ID 214/379: original='PRKD1', sanitized='PRKD1' -> FOUND (using sanitized): 'PRKD1.pt'\n",
      "  Processed ID 215/379: original='GAK', sanitized='GAK' -> FOUND (using sanitized): 'GAK.pt'\n",
      "  Processed ID 216/379: original='GRK7', sanitized='GRK7' -> FOUND (using sanitized): 'GRK7.pt'\n",
      "  Processed ID 217/379: original='MAP3K15', sanitized='MAP3K15' -> FOUND (using sanitized): 'MAP3K15.pt'\n",
      "  Processed ID 218/379: original='HCK', sanitized='HCK' -> FOUND (using sanitized): 'HCK.pt'\n",
      "  Processed ID 219/379: original='ERK3', sanitized='ERK3' -> FOUND (using sanitized): 'ERK3.pt'\n",
      "  Processed ID 220/379: original='DCAMKL1', sanitized='DCAMKL1' -> FOUND (using sanitized): 'DCAMKL1.pt'\n",
      "  Processed ID 221/379: original='DYRK1B', sanitized='DYRK1B' -> FOUND (using sanitized): 'DYRK1B.pt'\n",
      "  Processed ID 222/379: original='CAMKK2', sanitized='CAMKK2' -> FOUND (using sanitized): 'CAMKK2.pt'\n",
      "  Processed ID 223/379: original='CDK8', sanitized='CDK8' -> FOUND (using sanitized): 'CDK8.pt'\n",
      "  Processed ID 224/379: original='VRK2', sanitized='VRK2' -> FOUND (using sanitized): 'VRK2.pt'\n",
      "  Processed ID 225/379: original='LATS1', sanitized='LATS1' -> FOUND (using sanitized): 'LATS1.pt'\n",
      "  Processed ID 226/379: original='DDR2', sanitized='DDR2' -> FOUND (using sanitized): 'DDR2.pt'\n",
      "  Processed ID 227/379: original='RET(V804M)', sanitized='RET(V804M)' -> FOUND (using sanitized): 'RET.pt'\n",
      "  Processed ID 228/379: original='TLK1', sanitized='TLK1' -> FOUND (using sanitized): 'TLK1.pt'\n",
      "  Processed ID 229/379: original='EPHA1', sanitized='EPHA1' -> FOUND (using sanitized): 'EPHA1.pt'\n",
      "  Processed ID 230/379: original='MAP4K3', sanitized='MAP4K3' -> FOUND (using sanitized): 'MAP4K3.pt'\n",
      "  Processed ID 231/379: original='PKAC-alpha', sanitized='PKAC-alpha' -> FOUND (using sanitized): 'PKAC-alpha.pt'\n",
      "  Processed ID 232/379: original='EPHA3', sanitized='EPHA3' -> FOUND (using sanitized): 'EPHA3.pt'\n",
      "  Processed ID 233/379: original='CAMK2A', sanitized='CAMK2A' -> FOUND (using sanitized): 'CAMK2A.pt'\n",
      "  Processed ID 234/379: original='ACVR1B', sanitized='ACVR1B' -> FOUND (using sanitized): 'ACVR1B.pt'\n",
      "  Processed ID 235/379: original='IRAK3', sanitized='IRAK3' -> FOUND (using sanitized): 'IRAK3.pt'\n",
      "  Processed ID 236/379: original='CAMK1', sanitized='CAMK1' -> FOUND (using sanitized): 'CAMK1.pt'\n",
      "  Processed ID 237/379: original='CDK2', sanitized='CDK2' -> FOUND (using sanitized): 'CDK2.pt'\n",
      "  Processed ID 238/379: original='DRAK2', sanitized='DRAK2' -> FOUND (using sanitized): 'DRAK2.pt'\n",
      "  Processed ID 239/379: original='SRPK3', sanitized='SRPK3' -> FOUND (using sanitized): 'SRPK3.pt'\n",
      "  Processed ID 240/379: original='PCTK3', sanitized='PCTK3' -> FOUND (using sanitized): 'PCTK3.pt'\n",
      "  Processed ID 241/379: original='FYN', sanitized='FYN' -> FOUND (using sanitized): 'FYN.pt'\n",
      "  Processed ID 242/379: original='CDC2L2', sanitized='CDC2L2' -> FOUND (using sanitized): 'CDC2L2.pt'\n",
      "  Processed ID 243/379: original='NEK1', sanitized='NEK1' -> FOUND (using sanitized): 'NEK1.pt'\n",
      "  Processed ID 244/379: original='MAP3K1', sanitized='MAP3K1' -> FOUND (using sanitized): 'MAP3K1.pt'\n",
      "  Processed ID 245/379: original='MARK2', sanitized='MARK2' -> FOUND (using sanitized): 'MARK2.pt'\n",
      "  Processed ID 246/379: original='BIKE', sanitized='BIKE' -> FOUND (using sanitized): 'BIKE.pt'\n",
      "  Processed ID 247/379: original='AKT3', sanitized='AKT3' -> FOUND (using sanitized): 'AKT3.pt'\n",
      "  Processed ID 248/379: original='WEE1', sanitized='WEE1' -> FOUND (using sanitized): 'WEE1.pt'\n",
      "  Processed ID 249/379: original='SRMS', sanitized='SRMS' -> FOUND (using sanitized): 'SRMS.pt'\n",
      "  Processed ID 250/379: original='PIK3C2G', sanitized='PIK3C2G' -> FOUND (using sanitized): 'PIK3C2G.pt'\n",
      "  Processed ID 251/379: original='LKB1', sanitized='LKB1' -> FOUND (using sanitized): 'LKB1.pt'\n",
      "  Processed ID 252/379: original='WEE2', sanitized='WEE2' -> FOUND (using sanitized): 'WEE2.pt'\n",
      "  Processed ID 253/379: original='ZAK', sanitized='ZAK' -> FOUND (using sanitized): 'ZAK.pt'\n",
      "  Processed ID 254/379: original='HIPK1', sanitized='HIPK1' -> FOUND (using sanitized): 'HIPK1.pt'\n",
      "  Processed ID 255/379: original='TNIK', sanitized='TNIK' -> FOUND (using sanitized): 'TNIK.pt'\n",
      "  Processed ID 256/379: original='EPHA4', sanitized='EPHA4' -> FOUND (using sanitized): 'EPHA4.pt'\n",
      "  Processed ID 257/379: original='ADCK4', sanitized='ADCK4' -> FOUND (using sanitized): 'ADCK4.pt'\n",
      "  Processed ID 258/379: original='PCTK2', sanitized='PCTK2' -> FOUND (using sanitized): 'PCTK2.pt'\n",
      "  Processed ID 259/379: original='CSNK1A1', sanitized='CSNK1A1' -> FOUND (using sanitized): 'CSNK1A1.pt'\n",
      "  Processed ID 260/379: original='SRPK2', sanitized='SRPK2' -> FOUND (using sanitized): 'SRPK2.pt'\n",
      "  Processed ID 261/379: original='TIE1', sanitized='TIE1' -> FOUND (using sanitized): 'TIE1.pt'\n",
      "  Processed ID 262/379: original='MAP3K2', sanitized='MAP3K2' -> FOUND (using sanitized): 'MAP3K2.pt'\n",
      "  Processed ID 263/379: original='PIK4CB', sanitized='PIK4CB' -> FOUND (using sanitized): 'PIK4CB.pt'\n",
      "  Processed ID 264/379: original='BMPR2', sanitized='BMPR2' -> FOUND (using sanitized): 'BMPR2.pt'\n",
      "  Processed ID 265/379: original='PLK4', sanitized='PLK4' -> FOUND (using sanitized): 'PLK4.pt'\n",
      "  Processed ID 266/379: original='ANKK1', sanitized='ANKK1' -> FOUND (using sanitized): 'ANKK1.pt'\n",
      "  Processed ID 267/379: original='MRCKB', sanitized='MRCKB' -> FOUND (using sanitized): 'MRCKB.pt'\n",
      "  Processed ID 268/379: original='RIPK2', sanitized='RIPK2' -> FOUND (using sanitized): 'RIPK2.pt'\n",
      "  Processed ID 269/379: original='JAK3(JH1domain-catalytic)', sanitized='JAK3(JH1domain-catalytic)' -> FOUND (using sanitized): 'JAK3.pt'\n",
      "  Processed ID 270/379: original='ARK5', sanitized='ARK5' -> FOUND (using sanitized): 'ARK5.pt'\n",
      "  Processed ID 271/379: original='PRKD2', sanitized='PRKD2' -> FOUND (using sanitized): 'PRKD2.pt'\n",
      "  Processed ID 272/379: original='PIK3CD', sanitized='PIK3CD' -> FOUND (using sanitized): 'PIK3CD.pt'\n",
      "  Processed ID 273/379: original='EPHB6', sanitized='EPHB6' -> FOUND (using sanitized): 'EPHB6.pt'\n",
      "  Processed ID 274/379: original='AXL', sanitized='AXL' -> FOUND (using sanitized): 'AXL.pt'\n",
      "  Processed ID 275/379: original='AURKA', sanitized='AURKA' -> FOUND (using sanitized): 'AURKA.pt'\n",
      "  Processed ID 276/379: original='RSK2(KinDom.1-N-terminal)', sanitized='RSK2(KinDom.1-N-terminal)' -> FOUND (using sanitized): 'RSK2.pt'\n",
      "  Processed ID 277/379: original='PRP4', sanitized='PRP4' -> FOUND (using sanitized): 'PRP4.pt'\n",
      "  Processed ID 278/379: original='FGFR1', sanitized='FGFR1' -> FOUND (using sanitized): 'FGFR1.pt'\n",
      "  Processed ID 279/379: original='MARK4', sanitized='MARK4' -> FOUND (using sanitized): 'MARK4.pt'\n",
      "  Processed ID 280/379: original='ALK', sanitized='ALK' -> FOUND (using sanitized): 'ALK.pt'\n",
      "  Processed ID 281/379: original='MEK5', sanitized='MEK5' -> FOUND (using sanitized): 'MEK5.pt'\n",
      "  Processed ID 282/379: original='CDK7', sanitized='CDK7' -> FOUND (using sanitized): 'CDK7.pt'\n",
      "  Processed ID 283/379: original='CSNK1G3', sanitized='CSNK1G3' -> FOUND (using sanitized): 'CSNK1G3.pt'\n",
      "  Processed ID 284/379: original='NEK5', sanitized='NEK5' -> FOUND (using sanitized): 'NEK5.pt'\n",
      "  Processed ID 285/379: original='CAMK2B', sanitized='CAMK2B' -> FOUND (using sanitized): 'CAMK2B.pt'\n",
      "  Processed ID 286/379: original='LRRK2(G2019S)', sanitized='LRRK2(G2019S)' -> FOUND (using sanitized): 'LRRK2.pt'\n",
      "  Processed ID 287/379: original='LYN', sanitized='LYN' -> FOUND (using sanitized): 'LYN.pt'\n",
      "  Processed ID 288/379: original='NEK11', sanitized='NEK11' -> FOUND (using sanitized): 'NEK11.pt'\n",
      "  Processed ID 289/379: original='MLK2', sanitized='MLK2' -> FOUND (using sanitized): 'MLK2.pt'\n",
      "  Processed ID 290/379: original='MELK', sanitized='MELK' -> FOUND (using sanitized): 'MELK.pt'\n",
      "  Processed ID 291/379: original='ULK2', sanitized='ULK2' -> FOUND (using sanitized): 'ULK2.pt'\n",
      "  Processed ID 292/379: original='AMPK-alpha2', sanitized='AMPK-alpha2' -> FOUND (using sanitized): 'AMPK-alpha2.pt'\n",
      "  Processed ID 293/379: original='BMPR1B', sanitized='BMPR1B' -> FOUND (using sanitized): 'BMPR1B.pt'\n",
      "  Processed ID 294/379: original='ERN1', sanitized='ERN1' -> FOUND (using sanitized): 'ERN1.pt'\n",
      "  Processed ID 295/379: original='HUNK', sanitized='HUNK' -> FOUND (using sanitized): 'HUNK.pt'\n",
      "  Processed ID 296/379: original='PDGFRA', sanitized='PDGFRA' -> FOUND (using sanitized): 'PDGFRA.pt'\n",
      "  Processed ID 297/379: original='QSK', sanitized='QSK' -> FOUND (using sanitized): 'QSK.pt'\n",
      "  Processed ID 298/379: original='SBK1', sanitized='SBK1' -> FOUND (using sanitized): 'SBK1.pt'\n",
      "  Processed ID 299/379: original='TGFBR2', sanitized='TGFBR2' -> FOUND (using sanitized): 'TGFBR2.pt'\n",
      "  Processed ID 300/379: original='CSK', sanitized='CSK' -> FOUND (using sanitized): 'CSK.pt'\n",
      "  Processed ID 301/379: original='MYLK2', sanitized='MYLK2' -> FOUND (using sanitized): 'MYLK2.pt'\n",
      "  Processed ID 302/379: original='MERTK', sanitized='MERTK' -> FOUND (using sanitized): 'MERTK.pt'\n",
      "  Processed ID 303/379: original='PDPK1', sanitized='PDPK1' -> FOUND (using sanitized): 'PDPK1.pt'\n",
      "  Processed ID 304/379: original='ASK1', sanitized='ASK1' -> FOUND (using sanitized): 'ASK1.pt'\n",
      "  Processed ID 305/379: original='CAMK1G', sanitized='CAMK1G' -> FOUND (using sanitized): 'CAMK1G.pt'\n",
      "  Processed ID 306/379: original='BMPR1A', sanitized='BMPR1A' -> FOUND (using sanitized): 'BMPR1A.pt'\n",
      "  Processed ID 307/379: original='p38-alpha', sanitized='p38-alpha' -> FOUND (using sanitized): 'p38-alpha.pt'\n",
      "  Processed ID 308/379: original='LIMK1', sanitized='LIMK1' -> FOUND (using sanitized): 'LIMK1.pt'\n",
      "  Processed ID 309/379: original='OSR1', sanitized='OSR1' -> FOUND (using sanitized): 'OSR1.pt'\n",
      "  Processed ID 310/379: original='MKK7', sanitized='MKK7' -> FOUND (using sanitized): 'MKK7.pt'\n",
      "  Processed ID 311/379: original='ERBB4', sanitized='ERBB4' -> FOUND (using sanitized): 'ERBB4.pt'\n",
      "  Processed ID 312/379: original='S6K1', sanitized='S6K1' -> FOUND (using sanitized): 'S6K1.pt'\n",
      "  Processed ID 313/379: original='PAK4', sanitized='PAK4' -> FOUND (using sanitized): 'PAK4.pt'\n",
      "  Processed ID 314/379: original='SgK110', sanitized='SgK110' -> FOUND (using sanitized): 'SgK110.pt'\n",
      "  Processed ID 315/379: original='MLK1', sanitized='MLK1' -> FOUND (using sanitized): 'MLK1.pt'\n",
      "  Processed ID 316/379: original='MEK2', sanitized='MEK2' -> FOUND (using sanitized): 'MEK2.pt'\n",
      "  Processed ID 317/379: original='MAP4K4', sanitized='MAP4K4' -> FOUND (using sanitized): 'MAP4K4.pt'\n",
      "  Processed ID 318/379: original='PIM3', sanitized='PIM3' -> FOUND (using sanitized): 'PIM3.pt'\n",
      "  Processed ID 319/379: original='PIK3C2B', sanitized='PIK3C2B' -> FOUND (using sanitized): 'PIK3C2B.pt'\n",
      "  Processed ID 320/379: original='PRKCI', sanitized='PRKCI' -> FOUND (using sanitized): 'PRKCI.pt'\n",
      "  Processed ID 321/379: original='DRAK1', sanitized='DRAK1' -> FOUND (using sanitized): 'DRAK1.pt'\n",
      "  Processed ID 322/379: original='MEK4', sanitized='MEK4' -> FOUND (using sanitized): 'MEK4.pt'\n",
      "  Processed ID 323/379: original='PDGFRB', sanitized='PDGFRB' -> FOUND (using sanitized): 'PDGFRB.pt'\n",
      "  Processed ID 324/379: original='CDK11', sanitized='CDK11' -> FOUND (using sanitized): 'CDK11.pt'\n",
      "  Processed ID 325/379: original='TSSK1B', sanitized='TSSK1B' -> FOUND (using sanitized): 'TSSK1B.pt'\n",
      "  Processed ID 326/379: original='CHEK1', sanitized='CHEK1' -> FOUND (using sanitized): 'CHEK1.pt'\n",
      "  Processed ID 327/379: original='CDK3', sanitized='CDK3' -> FOUND (using sanitized): 'CDK3.pt'\n",
      "  Processed ID 328/379: original='ULK1', sanitized='ULK1' -> FOUND (using sanitized): 'ULK1.pt'\n",
      "  Processed ID 329/379: original='RIPK4', sanitized='RIPK4' -> FOUND (using sanitized): 'RIPK4.pt'\n",
      "  Processed ID 330/379: original='DLK', sanitized='DLK' -> FOUND (using sanitized): 'DLK.pt'\n",
      "  Processed ID 331/379: original='PRKD3', sanitized='PRKD3' -> FOUND (using sanitized): 'PRKD3.pt'\n",
      "  Processed ID 332/379: original='MTOR', sanitized='MTOR' -> FOUND (using sanitized): 'MTOR.pt'\n",
      "  Processed ID 333/379: original='PAK6', sanitized='PAK6' -> FOUND (using sanitized): 'PAK6.pt'\n",
      "  Processed ID 334/379: original='TRKB', sanitized='TRKB' -> FOUND (using sanitized): 'TRKB.pt'\n",
      "  Processed ID 335/379: original='FGFR2', sanitized='FGFR2' -> FOUND (using sanitized): 'FGFR2.pt'\n",
      "  Processed ID 336/379: original='PIP5K1A', sanitized='PIP5K1A' -> FOUND (using sanitized): 'PIP5K1A.pt'\n",
      "  Processed ID 337/379: original='EIF2AK1', sanitized='EIF2AK1' -> FOUND (using sanitized): 'EIF2AK1.pt'\n",
      "  Processed ID 338/379: original='FES', sanitized='FES' -> FOUND (using sanitized): 'FES.pt'\n",
      "  Processed ID 339/379: original='MARK1', sanitized='MARK1' -> FOUND (using sanitized): 'MARK1.pt'\n",
      "  Processed ID 340/379: original='RSK4(KinDom.2-C-terminal)', sanitized='RSK4(KinDom.2-C-terminal)' -> FOUND (using sanitized): 'RSK4.pt'\n",
      "  Processed ID 341/379: original='PRKCD', sanitized='PRKCD' -> FOUND (using sanitized): 'PRKCD.pt'\n",
      "  Processed ID 342/379: original='ROS1', sanitized='ROS1' -> FOUND (using sanitized): 'ROS1.pt'\n",
      "  Processed ID 343/379: original='CDKL5', sanitized='CDKL5' -> FOUND (using sanitized): 'CDKL5.pt'\n",
      "  Processed ID 344/379: original='MYLK', sanitized='MYLK' -> FOUND (using sanitized): 'MYLK.pt'\n",
      "  Processed ID 345/379: original='PFTK1', sanitized='PFTK1' -> FOUND (using sanitized): 'PFTK1.pt'\n",
      "  Processed ID 346/379: original='PAK7', sanitized='PAK7' -> FOUND (using sanitized): 'PAK7.pt'\n",
      "  Processed ID 347/379: original='MLK3', sanitized='MLK3' -> FOUND (using sanitized): 'MLK3.pt'\n",
      "  Processed ID 348/379: original='EPHA6', sanitized='EPHA6' -> FOUND (using sanitized): 'EPHA6.pt'\n",
      "  Processed ID 349/379: original='DMPK', sanitized='DMPK' -> FOUND (using sanitized): 'DMPK.pt'\n",
      "  Processed ID 350/379: original='MAP3K4', sanitized='MAP3K4' -> FOUND (using sanitized): 'MAP3K4.pt'\n",
      "  Processed ID 351/379: original='RPS6KA4(KinDom.2-C-terminal)', sanitized='RPS6KA4(KinDom.2-C-terminal)' -> FOUND (using sanitized): 'RPS6KA4.pt'\n",
      "  Processed ID 352/379: original='MYO3A', sanitized='MYO3A' -> FOUND (using sanitized): 'MYO3A.pt'\n",
      "  Processed ID 353/379: original='AKT2', sanitized='AKT2' -> FOUND (using sanitized): 'AKT2.pt'\n",
      "  Processed ID 354/379: original='PLK2', sanitized='PLK2' -> FOUND (using sanitized): 'PLK2.pt'\n",
      "  Processed ID 355/379: original='MARK3', sanitized='MARK3' -> FOUND (using sanitized): 'MARK3.pt'\n",
      "  Processed ID 356/379: original='EPHB1', sanitized='EPHB1' -> FOUND (using sanitized): 'EPHB1.pt'\n",
      "  Processed ID 357/379: original='RIPK5', sanitized='RIPK5' -> FOUND (using sanitized): 'RIPK5.pt'\n",
      "  Processed ID 358/379: original='SIK2', sanitized='SIK2' -> FOUND (using sanitized): 'SIK2.pt'\n",
      "  Processed ID 359/379: original='CDKL3', sanitized='CDKL3' -> FOUND (using sanitized): 'CDKL3.pt'\n",
      "  Processed ID 360/379: original='FRK', sanitized='FRK' -> FOUND (using sanitized): 'FRK.pt'\n",
      "  Processed ID 361/379: original='STK33', sanitized='STK33' -> FOUND (using sanitized): 'STK33.pt'\n",
      "  Processed ID 362/379: original='MST3', sanitized='MST3' -> FOUND (using sanitized): 'MST3.pt'\n",
      "  Processed ID 363/379: original='BRSK1', sanitized='BRSK1' -> FOUND (using sanitized): 'BRSK1.pt'\n",
      "  Processed ID 364/379: original='PYK2', sanitized='PYK2' -> FOUND (using sanitized): 'PYK2.pt'\n",
      "  Processed ID 365/379: original='FGFR4', sanitized='FGFR4' -> FOUND (using sanitized): 'FGFR4.pt'\n",
      "  Processed ID 366/379: original='LTK', sanitized='LTK' -> FOUND (using sanitized): 'LTK.pt'\n",
      "  Processed ID 367/379: original='TYK2(JH2domain-pseudokinase)', sanitized='TYK2(JH2domain-pseudokinase)' -> FOUND (using sanitized): 'TYK2.pt'\n",
      "  Processed ID 368/379: original='NEK7', sanitized='NEK7' -> FOUND (using sanitized): 'NEK7.pt'\n",
      "  Processed ID 369/379: original='PKMYT1', sanitized='PKMYT1' -> FOUND (using sanitized): 'PKMYT1.pt'\n",
      "  Processed ID 370/379: original='PIK3CA(Q546K)', sanitized='PIK3CA(Q546K)' -> FOUND (using sanitized): 'PIK3CA.pt'\n",
      "  Processed ID 371/379: original='CSNK2A2', sanitized='CSNK2A2' -> FOUND (using sanitized): 'CSNK2A2.pt'\n",
      "  Processed ID 372/379: original='DYRK1A', sanitized='DYRK1A' -> FOUND (using sanitized): 'DYRK1A.pt'\n",
      "  Processed ID 373/379: original='ULK3', sanitized='ULK3' -> FOUND (using sanitized): 'ULK3.pt'\n",
      "  Processed ID 374/379: original='TXK', sanitized='TXK' -> FOUND (using sanitized): 'TXK.pt'\n",
      "  Processed ID 375/379: original='MAPKAPK5', sanitized='MAPKAPK5' -> FOUND (using sanitized): 'MAPKAPK5.pt'\n",
      "  Processed ID 376/379: original='CAMK1D', sanitized='CAMK1D' -> FOUND (using sanitized): 'CAMK1D.pt'\n",
      "  Processed ID 377/379: original='AMPK-alpha1', sanitized='AMPK-alpha1' -> FOUND (using sanitized): 'AMPK-alpha1.pt'\n",
      "  Processed ID 378/379: original='MLCK', sanitized='MLCK' -> FOUND (using sanitized): 'MLCK.pt'\n",
      "  Processed ID 379/379: original='AURKC', sanitized='AURKC' -> FOUND (using sanitized): 'AURKC.pt'\n",
      "Removing existing log file: ../models/gat_cd4c_davis_graphs.pth.csv\n",
      "Logging training progress to: ../models/gat_cd4c_davis_graphs.pth.csv\n"
     ]
    },
    {
     "name": "stderr",
     "output_type": "stream",
     "text": [
      "Epoch 1/500 [Train]: 100%|██████████| 162/162 [00:58<00:00,  2.77it/s]\n",
      "Evaluating\t: 100%|██████████| 21/21 [00:13<00:00,  1.60it/s]\n"
     ]
    },
    {
     "name": "stdout",
     "output_type": "stream",
     "text": [
      "Epoch 1/500 | LR: 5.00e-05 | Train L=1.5582 CI=0.5024 MSE=6.08 MAE=1.78 | Val L=0.2958 CI=0.5643 MSE=0.69 MAE=0.43\n",
      "  Best validation loss improved to 0.2958. Model saved to ../models/gat_cd4c_davis_graphs.pth\n"
     ]
    },
    {
     "name": "stderr",
     "output_type": "stream",
     "text": [
      "Epoch 2/500 [Train]: 100%|██████████| 162/162 [00:49<00:00,  3.27it/s]\n",
      "Evaluating\t: 100%|██████████| 21/21 [00:03<00:00,  5.44it/s]\n"
     ]
    },
    {
     "name": "stdout",
     "output_type": "stream",
     "text": [
      "Epoch 2/500 | LR: 5.00e-05 | Train L=0.4582 CI=0.5139 MSE=0.95 MAE=0.66 | Val L=0.2876 CI=0.6682 MSE=0.62 MAE=0.46\n",
      "  Best validation loss improved to 0.2876. Model saved to ../models/gat_cd4c_davis_graphs.pth\n"
     ]
    },
    {
     "name": "stderr",
     "output_type": "stream",
     "text": [
      "Epoch 3/500 [Train]: 100%|██████████| 162/162 [00:49<00:00,  3.29it/s]\n",
      "Evaluating\t: 100%|██████████| 21/21 [00:03<00:00,  5.91it/s]\n"
     ]
    },
    {
     "name": "stdout",
     "output_type": "stream",
     "text": [
      "Epoch 3/500 | LR: 5.00e-05 | Train L=0.4396 CI=0.5348 MSE=0.91 MAE=0.64 | Val L=0.2846 CI=0.6863 MSE=0.58 MAE=0.46\n",
      "  Best validation loss improved to 0.2846. Model saved to ../models/gat_cd4c_davis_graphs.pth\n"
     ]
    },
    {
     "name": "stderr",
     "output_type": "stream",
     "text": [
      "Epoch 4/500 [Train]: 100%|██████████| 162/162 [00:45<00:00,  3.56it/s]\n",
      "Evaluating\t: 100%|██████████| 21/21 [00:03<00:00,  5.91it/s]\n"
     ]
    },
    {
     "name": "stdout",
     "output_type": "stream",
     "text": [
      "Epoch 4/500 | LR: 5.00e-05 | Train L=0.4257 CI=0.5571 MSE=0.87 MAE=0.62 | Val L=0.2746 CI=0.7024 MSE=0.56 MAE=0.43\n",
      "  Best validation loss improved to 0.2746. Model saved to ../models/gat_cd4c_davis_graphs.pth\n"
     ]
    },
    {
     "name": "stderr",
     "output_type": "stream",
     "text": [
      "Epoch 5/500 [Train]: 100%|██████████| 162/162 [00:45<00:00,  3.57it/s]\n",
      "Evaluating\t: 100%|██████████| 21/21 [00:03<00:00,  5.89it/s]\n"
     ]
    },
    {
     "name": "stdout",
     "output_type": "stream",
     "text": [
      "Epoch 5/500 | LR: 5.00e-05 | Train L=0.4179 CI=0.5742 MSE=0.85 MAE=0.61 | Val L=0.2649 CI=0.7229 MSE=0.54 MAE=0.40\n",
      "  Best validation loss improved to 0.2649. Model saved to ../models/gat_cd4c_davis_graphs.pth\n"
     ]
    },
    {
     "name": "stderr",
     "output_type": "stream",
     "text": [
      "Epoch 6/500 [Train]: 100%|██████████| 162/162 [00:45<00:00,  3.59it/s]\n",
      "Evaluating\t: 100%|██████████| 21/21 [00:03<00:00,  5.90it/s]\n"
     ]
    },
    {
     "name": "stdout",
     "output_type": "stream",
     "text": [
      "Epoch 6/500 | LR: 5.00e-05 | Train L=0.4006 CI=0.6017 MSE=0.80 MAE=0.59 | Val L=0.2816 CI=0.7139 MSE=0.49 MAE=0.48\n"
     ]
    },
    {
     "name": "stderr",
     "output_type": "stream",
     "text": [
      "Epoch 7/500 [Train]: 100%|██████████| 162/162 [00:45<00:00,  3.54it/s]\n",
      "Evaluating\t: 100%|██████████| 21/21 [00:03<00:00,  5.73it/s]\n"
     ]
    },
    {
     "name": "stdout",
     "output_type": "stream",
     "text": [
      "Epoch 7/500 | LR: 5.00e-05 | Train L=0.3973 CI=0.6048 MSE=0.78 MAE=0.59 | Val L=0.2621 CI=0.7242 MSE=0.55 MAE=0.39\n",
      "  Best validation loss improved to 0.2621. Model saved to ../models/gat_cd4c_davis_graphs.pth\n"
     ]
    },
    {
     "name": "stderr",
     "output_type": "stream",
     "text": [
      "Epoch 8/500 [Train]: 100%|██████████| 162/162 [00:45<00:00,  3.58it/s]\n",
      "Evaluating\t: 100%|██████████| 21/21 [00:03<00:00,  5.28it/s]\n"
     ]
    },
    {
     "name": "stdout",
     "output_type": "stream",
     "text": [
      "Epoch 8/500 | LR: 5.00e-05 | Train L=0.3901 CI=0.6120 MSE=0.77 MAE=0.58 | Val L=0.2539 CI=0.7373 MSE=0.49 MAE=0.41\n",
      "  Best validation loss improved to 0.2539. Model saved to ../models/gat_cd4c_davis_graphs.pth\n"
     ]
    },
    {
     "name": "stderr",
     "output_type": "stream",
     "text": [
      "Epoch 9/500 [Train]: 100%|██████████| 162/162 [00:49<00:00,  3.26it/s]\n",
      "Evaluating\t: 100%|██████████| 21/21 [00:03<00:00,  5.25it/s]\n"
     ]
    },
    {
     "name": "stdout",
     "output_type": "stream",
     "text": [
      "Epoch 9/500 | LR: 5.00e-05 | Train L=0.3844 CI=0.6235 MSE=0.75 MAE=0.58 | Val L=0.2497 CI=0.7408 MSE=0.49 MAE=0.39\n",
      "  Best validation loss improved to 0.2497. Model saved to ../models/gat_cd4c_davis_graphs.pth\n"
     ]
    },
    {
     "name": "stderr",
     "output_type": "stream",
     "text": [
      "Epoch 10/500 [Train]: 100%|██████████| 162/162 [00:50<00:00,  3.21it/s]\n",
      "Evaluating\t: 100%|██████████| 21/21 [00:04<00:00,  5.24it/s]\n"
     ]
    },
    {
     "name": "stdout",
     "output_type": "stream",
     "text": [
      "Epoch 10/500 | LR: 5.00e-05 | Train L=0.3839 CI=0.6254 MSE=0.75 MAE=0.58 | Val L=0.2504 CI=0.7453 MSE=0.52 MAE=0.38\n"
     ]
    },
    {
     "name": "stderr",
     "output_type": "stream",
     "text": [
      "Epoch 11/500 [Train]: 100%|██████████| 162/162 [00:49<00:00,  3.28it/s]\n",
      "Evaluating\t: 100%|██████████| 21/21 [00:03<00:00,  5.79it/s]\n"
     ]
    },
    {
     "name": "stdout",
     "output_type": "stream",
     "text": [
      "Epoch 11/500 | LR: 5.00e-05 | Train L=0.3859 CI=0.6253 MSE=0.75 MAE=0.58 | Val L=0.2487 CI=0.7502 MSE=0.47 MAE=0.41\n",
      "  Best validation loss improved to 0.2487. Model saved to ../models/gat_cd4c_davis_graphs.pth\n"
     ]
    },
    {
     "name": "stderr",
     "output_type": "stream",
     "text": [
      "Epoch 12/500 [Train]: 100%|██████████| 162/162 [00:45<00:00,  3.57it/s]\n",
      "Evaluating\t: 100%|██████████| 21/21 [00:03<00:00,  5.85it/s]\n"
     ]
    },
    {
     "name": "stdout",
     "output_type": "stream",
     "text": [
      "Epoch 12/500 | LR: 5.00e-05 | Train L=0.3726 CI=0.6430 MSE=0.72 MAE=0.56 | Val L=0.2572 CI=0.7564 MSE=0.46 MAE=0.44\n"
     ]
    },
    {
     "name": "stderr",
     "output_type": "stream",
     "text": [
      "Epoch 13/500 [Train]: 100%|██████████| 162/162 [00:45<00:00,  3.54it/s]\n",
      "Evaluating\t: 100%|██████████| 21/21 [00:03<00:00,  5.86it/s]\n"
     ]
    },
    {
     "name": "stdout",
     "output_type": "stream",
     "text": [
      "Epoch 13/500 | LR: 5.00e-05 | Train L=0.3751 CI=0.6486 MSE=0.72 MAE=0.57 | Val L=0.2505 CI=0.7435 MSE=0.47 MAE=0.41\n"
     ]
    },
    {
     "name": "stderr",
     "output_type": "stream",
     "text": [
      "Epoch 14/500 [Train]: 100%|██████████| 162/162 [00:45<00:00,  3.58it/s]\n",
      "Evaluating\t: 100%|██████████| 21/21 [00:03<00:00,  5.66it/s]\n"
     ]
    },
    {
     "name": "stdout",
     "output_type": "stream",
     "text": [
      "Epoch 14/500 | LR: 5.00e-05 | Train L=0.3753 CI=0.6475 MSE=0.72 MAE=0.57 | Val L=0.2444 CI=0.7625 MSE=0.46 MAE=0.40\n",
      "  Best validation loss improved to 0.2444. Model saved to ../models/gat_cd4c_davis_graphs.pth\n"
     ]
    },
    {
     "name": "stderr",
     "output_type": "stream",
     "text": [
      "Epoch 15/500 [Train]: 100%|██████████| 162/162 [00:45<00:00,  3.57it/s]\n",
      "Evaluating\t: 100%|██████████| 21/21 [00:03<00:00,  5.80it/s]\n"
     ]
    },
    {
     "name": "stdout",
     "output_type": "stream",
     "text": [
      "Epoch 15/500 | LR: 5.00e-05 | Train L=0.3748 CI=0.6513 MSE=0.72 MAE=0.57 | Val L=0.2527 CI=0.7493 MSE=0.46 MAE=0.43\n"
     ]
    },
    {
     "name": "stderr",
     "output_type": "stream",
     "text": [
      "Epoch 16/500 [Train]: 100%|██████████| 162/162 [00:45<00:00,  3.55it/s]\n",
      "Evaluating\t: 100%|██████████| 21/21 [00:03<00:00,  5.91it/s]\n"
     ]
    },
    {
     "name": "stdout",
     "output_type": "stream",
     "text": [
      "Epoch 16/500 | LR: 5.00e-05 | Train L=0.3747 CI=0.6478 MSE=0.72 MAE=0.57 | Val L=0.2488 CI=0.7728 MSE=0.45 MAE=0.41\n"
     ]
    },
    {
     "name": "stderr",
     "output_type": "stream",
     "text": [
      "Epoch 17/500 [Train]: 100%|██████████| 162/162 [00:45<00:00,  3.58it/s]\n",
      "Evaluating\t: 100%|██████████| 21/21 [00:03<00:00,  5.79it/s]\n"
     ]
    },
    {
     "name": "stdout",
     "output_type": "stream",
     "text": [
      "Epoch 17/500 | LR: 5.00e-05 | Train L=0.3737 CI=0.6492 MSE=0.72 MAE=0.57 | Val L=0.2426 CI=0.7561 MSE=0.46 MAE=0.40\n",
      "  Best validation loss improved to 0.2426. Model saved to ../models/gat_cd4c_davis_graphs.pth\n"
     ]
    },
    {
     "name": "stderr",
     "output_type": "stream",
     "text": [
      "Epoch 18/500 [Train]: 100%|██████████| 162/162 [00:45<00:00,  3.57it/s]\n",
      "Evaluating\t: 100%|██████████| 21/21 [00:03<00:00,  5.71it/s]\n"
     ]
    },
    {
     "name": "stdout",
     "output_type": "stream",
     "text": [
      "Epoch 18/500 | LR: 5.00e-05 | Train L=0.3716 CI=0.6536 MSE=0.71 MAE=0.56 | Val L=0.2474 CI=0.7571 MSE=0.45 MAE=0.41\n"
     ]
    },
    {
     "name": "stderr",
     "output_type": "stream",
     "text": [
      "Epoch 19/500 [Train]: 100%|██████████| 162/162 [00:45<00:00,  3.56it/s]\n",
      "Evaluating\t: 100%|██████████| 21/21 [00:03<00:00,  5.65it/s]\n"
     ]
    },
    {
     "name": "stdout",
     "output_type": "stream",
     "text": [
      "Epoch 19/500 | LR: 5.00e-05 | Train L=0.3751 CI=0.6497 MSE=0.72 MAE=0.57 | Val L=0.2379 CI=0.7708 MSE=0.45 MAE=0.38\n",
      "  Best validation loss improved to 0.2379. Model saved to ../models/gat_cd4c_davis_graphs.pth\n"
     ]
    },
    {
     "name": "stderr",
     "output_type": "stream",
     "text": [
      "Epoch 20/500 [Train]: 100%|██████████| 162/162 [00:45<00:00,  3.57it/s]\n",
      "Evaluating\t: 100%|██████████| 21/21 [00:03<00:00,  5.89it/s]\n"
     ]
    },
    {
     "name": "stdout",
     "output_type": "stream",
     "text": [
      "Epoch 20/500 | LR: 5.00e-05 | Train L=0.3699 CI=0.6516 MSE=0.71 MAE=0.56 | Val L=0.2392 CI=0.7694 MSE=0.47 MAE=0.36\n"
     ]
    },
    {
     "name": "stderr",
     "output_type": "stream",
     "text": [
      "Epoch 21/500 [Train]: 100%|██████████| 162/162 [00:45<00:00,  3.56it/s]\n",
      "Evaluating\t: 100%|██████████| 21/21 [00:03<00:00,  5.89it/s]\n"
     ]
    },
    {
     "name": "stdout",
     "output_type": "stream",
     "text": [
      "Epoch 21/500 | LR: 5.00e-05 | Train L=0.3705 CI=0.6605 MSE=0.70 MAE=0.56 | Val L=0.2464 CI=0.7685 MSE=0.44 MAE=0.42\n"
     ]
    },
    {
     "name": "stderr",
     "output_type": "stream",
     "text": [
      "Epoch 22/500 [Train]: 100%|██████████| 162/162 [00:45<00:00,  3.58it/s]\n",
      "Evaluating\t: 100%|██████████| 21/21 [00:03<00:00,  5.77it/s]\n"
     ]
    },
    {
     "name": "stdout",
     "output_type": "stream",
     "text": [
      "Epoch 22/500 | LR: 5.00e-05 | Train L=0.3664 CI=0.6627 MSE=0.70 MAE=0.56 | Val L=0.2412 CI=0.7715 MSE=0.47 MAE=0.37\n"
     ]
    },
    {
     "name": "stderr",
     "output_type": "stream",
     "text": [
      "Epoch 23/500 [Train]: 100%|██████████| 162/162 [00:45<00:00,  3.56it/s]\n",
      "Evaluating\t: 100%|██████████| 21/21 [00:03<00:00,  5.74it/s]\n"
     ]
    },
    {
     "name": "stdout",
     "output_type": "stream",
     "text": [
      "Epoch 23/500 | LR: 5.00e-05 | Train L=0.3655 CI=0.6641 MSE=0.69 MAE=0.56 | Val L=0.2375 CI=0.7803 MSE=0.46 MAE=0.36\n",
      "  Best validation loss improved to 0.2375. Model saved to ../models/gat_cd4c_davis_graphs.pth\n"
     ]
    },
    {
     "name": "stderr",
     "output_type": "stream",
     "text": [
      "Epoch 24/500 [Train]: 100%|██████████| 162/162 [00:45<00:00,  3.55it/s]\n",
      "Evaluating\t: 100%|██████████| 21/21 [00:03<00:00,  5.89it/s]\n"
     ]
    },
    {
     "name": "stdout",
     "output_type": "stream",
     "text": [
      "Epoch 24/500 | LR: 5.00e-05 | Train L=0.3654 CI=0.6679 MSE=0.69 MAE=0.56 | Val L=0.2400 CI=0.7770 MSE=0.44 MAE=0.38\n"
     ]
    },
    {
     "name": "stderr",
     "output_type": "stream",
     "text": [
      "Epoch 25/500 [Train]: 100%|██████████| 162/162 [00:45<00:00,  3.58it/s]\n",
      "Evaluating\t: 100%|██████████| 21/21 [00:03<00:00,  5.66it/s]\n"
     ]
    },
    {
     "name": "stdout",
     "output_type": "stream",
     "text": [
      "Epoch 25/500 | LR: 5.00e-05 | Train L=0.3668 CI=0.6624 MSE=0.70 MAE=0.56 | Val L=0.2412 CI=0.7813 MSE=0.48 MAE=0.36\n"
     ]
    },
    {
     "name": "stderr",
     "output_type": "stream",
     "text": [
      "Epoch 26/500 [Train]: 100%|██████████| 162/162 [00:45<00:00,  3.57it/s]\n",
      "Evaluating\t: 100%|██████████| 21/21 [00:03<00:00,  5.88it/s]\n"
     ]
    },
    {
     "name": "stdout",
     "output_type": "stream",
     "text": [
      "Epoch 26/500 | LR: 5.00e-05 | Train L=0.3676 CI=0.6590 MSE=0.70 MAE=0.56 | Val L=0.2366 CI=0.7807 MSE=0.46 MAE=0.36\n",
      "  Best validation loss improved to 0.2366. Model saved to ../models/gat_cd4c_davis_graphs.pth\n"
     ]
    },
    {
     "name": "stderr",
     "output_type": "stream",
     "text": [
      "Epoch 27/500 [Train]: 100%|██████████| 162/162 [00:45<00:00,  3.55it/s]\n",
      "Evaluating\t: 100%|██████████| 21/21 [00:03<00:00,  5.90it/s]\n"
     ]
    },
    {
     "name": "stdout",
     "output_type": "stream",
     "text": [
      "Epoch 27/500 | LR: 5.00e-05 | Train L=0.3660 CI=0.6616 MSE=0.70 MAE=0.56 | Val L=0.2408 CI=0.7777 MSE=0.44 MAE=0.40\n"
     ]
    },
    {
     "name": "stderr",
     "output_type": "stream",
     "text": [
      "Epoch 28/500 [Train]: 100%|██████████| 162/162 [00:45<00:00,  3.57it/s]\n",
      "Evaluating\t: 100%|██████████| 21/21 [00:03<00:00,  5.72it/s]\n"
     ]
    },
    {
     "name": "stdout",
     "output_type": "stream",
     "text": [
      "Epoch 28/500 | LR: 5.00e-05 | Train L=0.3599 CI=0.6698 MSE=0.68 MAE=0.55 | Val L=0.2357 CI=0.7758 MSE=0.45 MAE=0.36\n",
      "  Best validation loss improved to 0.2357. Model saved to ../models/gat_cd4c_davis_graphs.pth\n"
     ]
    },
    {
     "name": "stderr",
     "output_type": "stream",
     "text": [
      "Epoch 29/500 [Train]: 100%|██████████| 162/162 [00:45<00:00,  3.56it/s]\n",
      "Evaluating\t: 100%|██████████| 21/21 [00:03<00:00,  5.88it/s]\n"
     ]
    },
    {
     "name": "stdout",
     "output_type": "stream",
     "text": [
      "Epoch 29/500 | LR: 5.00e-05 | Train L=0.3653 CI=0.6664 MSE=0.69 MAE=0.56 | Val L=0.2374 CI=0.7787 MSE=0.46 MAE=0.36\n"
     ]
    },
    {
     "name": "stderr",
     "output_type": "stream",
     "text": [
      "Epoch 30/500 [Train]: 100%|██████████| 162/162 [00:45<00:00,  3.54it/s]\n",
      "Evaluating\t: 100%|██████████| 21/21 [00:03<00:00,  5.88it/s]\n"
     ]
    },
    {
     "name": "stdout",
     "output_type": "stream",
     "text": [
      "Epoch 30/500 | LR: 5.00e-05 | Train L=0.3645 CI=0.6639 MSE=0.69 MAE=0.55 | Val L=0.2354 CI=0.7834 MSE=0.45 MAE=0.36\n",
      "  Best validation loss improved to 0.2354. Model saved to ../models/gat_cd4c_davis_graphs.pth\n"
     ]
    },
    {
     "name": "stderr",
     "output_type": "stream",
     "text": [
      "Epoch 31/500 [Train]: 100%|██████████| 162/162 [00:45<00:00,  3.57it/s]\n",
      "Evaluating\t: 100%|██████████| 21/21 [00:03<00:00,  5.87it/s]\n"
     ]
    },
    {
     "name": "stdout",
     "output_type": "stream",
     "text": [
      "Epoch 31/500 | LR: 5.00e-05 | Train L=0.3666 CI=0.6616 MSE=0.70 MAE=0.56 | Val L=0.2376 CI=0.7753 MSE=0.45 MAE=0.38\n"
     ]
    },
    {
     "name": "stderr",
     "output_type": "stream",
     "text": [
      "Epoch 32/500 [Train]: 100%|██████████| 162/162 [00:45<00:00,  3.56it/s]\n",
      "Evaluating\t: 100%|██████████| 21/21 [00:03<00:00,  5.66it/s]\n"
     ]
    },
    {
     "name": "stdout",
     "output_type": "stream",
     "text": [
      "Epoch 32/500 | LR: 5.00e-05 | Train L=0.3631 CI=0.6672 MSE=0.69 MAE=0.55 | Val L=0.2380 CI=0.7816 MSE=0.45 MAE=0.36\n"
     ]
    },
    {
     "name": "stderr",
     "output_type": "stream",
     "text": [
      "Epoch 33/500 [Train]: 100%|██████████| 162/162 [00:45<00:00,  3.52it/s]\n",
      "Evaluating\t: 100%|██████████| 21/21 [00:03<00:00,  5.89it/s]\n"
     ]
    },
    {
     "name": "stdout",
     "output_type": "stream",
     "text": [
      "Epoch 33/500 | LR: 5.00e-05 | Train L=0.3642 CI=0.6623 MSE=0.69 MAE=0.55 | Val L=0.2454 CI=0.7726 MSE=0.49 MAE=0.37\n"
     ]
    },
    {
     "name": "stderr",
     "output_type": "stream",
     "text": [
      "Epoch 34/500 [Train]: 100%|██████████| 162/162 [00:45<00:00,  3.56it/s]\n",
      "Evaluating\t: 100%|██████████| 21/21 [00:03<00:00,  5.86it/s]\n"
     ]
    },
    {
     "name": "stdout",
     "output_type": "stream",
     "text": [
      "Epoch 34/500 | LR: 5.00e-05 | Train L=0.3649 CI=0.6657 MSE=0.69 MAE=0.56 | Val L=0.2372 CI=0.7663 MSE=0.44 MAE=0.38\n"
     ]
    },
    {
     "name": "stderr",
     "output_type": "stream",
     "text": [
      "Epoch 35/500 [Train]: 100%|██████████| 162/162 [00:45<00:00,  3.57it/s]\n",
      "Evaluating\t: 100%|██████████| 21/21 [00:03<00:00,  5.89it/s]\n"
     ]
    },
    {
     "name": "stdout",
     "output_type": "stream",
     "text": [
      "Epoch 35/500 | LR: 5.00e-05 | Train L=0.3638 CI=0.6656 MSE=0.69 MAE=0.55 | Val L=0.2343 CI=0.7819 MSE=0.45 MAE=0.36\n",
      "  Best validation loss improved to 0.2343. Model saved to ../models/gat_cd4c_davis_graphs.pth\n"
     ]
    },
    {
     "name": "stderr",
     "output_type": "stream",
     "text": [
      "Epoch 36/500 [Train]: 100%|██████████| 162/162 [00:46<00:00,  3.52it/s]\n",
      "Evaluating\t: 100%|██████████| 21/21 [00:03<00:00,  5.88it/s]\n"
     ]
    },
    {
     "name": "stdout",
     "output_type": "stream",
     "text": [
      "Epoch 36/500 | LR: 5.00e-05 | Train L=0.3602 CI=0.6691 MSE=0.68 MAE=0.55 | Val L=0.2359 CI=0.7761 MSE=0.45 MAE=0.37\n"
     ]
    },
    {
     "name": "stderr",
     "output_type": "stream",
     "text": [
      "Epoch 37/500 [Train]: 100%|██████████| 162/162 [00:45<00:00,  3.57it/s]\n",
      "Evaluating\t: 100%|██████████| 21/21 [00:03<00:00,  5.85it/s]\n"
     ]
    },
    {
     "name": "stdout",
     "output_type": "stream",
     "text": [
      "Epoch 37/500 | LR: 5.00e-05 | Train L=0.3606 CI=0.6673 MSE=0.67 MAE=0.55 | Val L=0.2354 CI=0.7748 MSE=0.43 MAE=0.39\n"
     ]
    },
    {
     "name": "stderr",
     "output_type": "stream",
     "text": [
      "Epoch 38/500 [Train]: 100%|██████████| 162/162 [00:45<00:00,  3.57it/s]\n",
      "Evaluating\t: 100%|██████████| 21/21 [00:03<00:00,  5.79it/s]\n"
     ]
    },
    {
     "name": "stdout",
     "output_type": "stream",
     "text": [
      "Epoch 38/500 | LR: 5.00e-05 | Train L=0.3621 CI=0.6680 MSE=0.68 MAE=0.55 | Val L=0.2427 CI=0.7823 MSE=0.43 MAE=0.41\n"
     ]
    },
    {
     "name": "stderr",
     "output_type": "stream",
     "text": [
      "Epoch 39/500 [Train]: 100%|██████████| 162/162 [00:45<00:00,  3.53it/s]\n",
      "Evaluating\t: 100%|██████████| 21/21 [00:03<00:00,  5.74it/s]\n"
     ]
    },
    {
     "name": "stdout",
     "output_type": "stream",
     "text": [
      "Epoch 39/500 | LR: 5.00e-05 | Train L=0.3587 CI=0.6702 MSE=0.68 MAE=0.55 | Val L=0.2345 CI=0.7763 MSE=0.45 MAE=0.35\n"
     ]
    },
    {
     "name": "stderr",
     "output_type": "stream",
     "text": [
      "Epoch 40/500 [Train]: 100%|██████████| 162/162 [00:45<00:00,  3.56it/s]\n",
      "Evaluating\t: 100%|██████████| 21/21 [00:03<00:00,  5.91it/s]\n"
     ]
    },
    {
     "name": "stdout",
     "output_type": "stream",
     "text": [
      "Epoch 40/500 | LR: 5.00e-05 | Train L=0.3585 CI=0.6672 MSE=0.67 MAE=0.55 | Val L=0.2339 CI=0.7868 MSE=0.43 MAE=0.37\n",
      "  Best validation loss improved to 0.2339. Model saved to ../models/gat_cd4c_davis_graphs.pth\n"
     ]
    },
    {
     "name": "stderr",
     "output_type": "stream",
     "text": [
      "Epoch 41/500 [Train]: 100%|██████████| 162/162 [00:45<00:00,  3.57it/s]\n",
      "Evaluating\t: 100%|██████████| 21/21 [00:03<00:00,  5.76it/s]\n"
     ]
    },
    {
     "name": "stdout",
     "output_type": "stream",
     "text": [
      "Epoch 41/500 | LR: 5.00e-05 | Train L=0.3579 CI=0.6715 MSE=0.68 MAE=0.55 | Val L=0.2335 CI=0.7781 MSE=0.43 MAE=0.37\n",
      "  Best validation loss improved to 0.2335. Model saved to ../models/gat_cd4c_davis_graphs.pth\n"
     ]
    },
    {
     "name": "stderr",
     "output_type": "stream",
     "text": [
      "Epoch 42/500 [Train]: 100%|██████████| 162/162 [00:45<00:00,  3.53it/s]\n",
      "Evaluating\t: 100%|██████████| 21/21 [00:03<00:00,  5.64it/s]\n"
     ]
    },
    {
     "name": "stdout",
     "output_type": "stream",
     "text": [
      "Epoch 42/500 | LR: 5.00e-05 | Train L=0.3600 CI=0.6690 MSE=0.68 MAE=0.55 | Val L=0.2341 CI=0.7746 MSE=0.44 MAE=0.37\n"
     ]
    },
    {
     "name": "stderr",
     "output_type": "stream",
     "text": [
      "Epoch 43/500 [Train]: 100%|██████████| 162/162 [00:45<00:00,  3.57it/s]\n",
      "Evaluating\t: 100%|██████████| 21/21 [00:03<00:00,  5.91it/s]\n"
     ]
    },
    {
     "name": "stdout",
     "output_type": "stream",
     "text": [
      "Epoch 43/500 | LR: 5.00e-05 | Train L=0.3580 CI=0.6677 MSE=0.67 MAE=0.55 | Val L=0.2324 CI=0.7856 MSE=0.45 MAE=0.35\n",
      "  Best validation loss improved to 0.2324. Model saved to ../models/gat_cd4c_davis_graphs.pth\n"
     ]
    },
    {
     "name": "stderr",
     "output_type": "stream",
     "text": [
      "Epoch 44/500 [Train]: 100%|██████████| 162/162 [00:45<00:00,  3.56it/s]\n",
      "Evaluating\t: 100%|██████████| 21/21 [00:03<00:00,  5.88it/s]\n"
     ]
    },
    {
     "name": "stdout",
     "output_type": "stream",
     "text": [
      "Epoch 44/500 | LR: 5.00e-05 | Train L=0.3556 CI=0.6726 MSE=0.67 MAE=0.54 | Val L=0.2359 CI=0.7749 MSE=0.43 MAE=0.39\n"
     ]
    },
    {
     "name": "stderr",
     "output_type": "stream",
     "text": [
      "Epoch 45/500 [Train]: 100%|██████████| 162/162 [00:45<00:00,  3.55it/s]\n",
      "Evaluating\t: 100%|██████████| 21/21 [00:03<00:00,  5.89it/s]\n"
     ]
    },
    {
     "name": "stdout",
     "output_type": "stream",
     "text": [
      "Epoch 45/500 | LR: 5.00e-05 | Train L=0.3553 CI=0.6717 MSE=0.67 MAE=0.54 | Val L=0.2354 CI=0.7824 MSE=0.43 MAE=0.38\n"
     ]
    },
    {
     "name": "stderr",
     "output_type": "stream",
     "text": [
      "Epoch 46/500 [Train]: 100%|██████████| 162/162 [00:45<00:00,  3.57it/s]\n",
      "Evaluating\t: 100%|██████████| 21/21 [00:03<00:00,  5.86it/s]\n"
     ]
    },
    {
     "name": "stdout",
     "output_type": "stream",
     "text": [
      "Epoch 46/500 | LR: 5.00e-05 | Train L=0.3585 CI=0.6696 MSE=0.67 MAE=0.55 | Val L=0.2354 CI=0.7844 MSE=0.45 MAE=0.36\n"
     ]
    },
    {
     "name": "stderr",
     "output_type": "stream",
     "text": [
      "Epoch 47/500 [Train]: 100%|██████████| 162/162 [00:45<00:00,  3.56it/s]\n",
      "Evaluating\t: 100%|██████████| 21/21 [00:03<00:00,  5.85it/s]\n"
     ]
    },
    {
     "name": "stdout",
     "output_type": "stream",
     "text": [
      "Epoch 47/500 | LR: 5.00e-05 | Train L=0.3572 CI=0.6715 MSE=0.67 MAE=0.55 | Val L=0.2539 CI=0.7819 MSE=0.50 MAE=0.40\n"
     ]
    },
    {
     "name": "stderr",
     "output_type": "stream",
     "text": [
      "Epoch 48/500 [Train]: 100%|██████████| 162/162 [00:45<00:00,  3.57it/s]\n",
      "Evaluating\t: 100%|██████████| 21/21 [00:03<00:00,  5.85it/s]\n"
     ]
    },
    {
     "name": "stdout",
     "output_type": "stream",
     "text": [
      "Epoch 48/500 | LR: 5.00e-05 | Train L=0.3547 CI=0.6699 MSE=0.67 MAE=0.54 | Val L=0.2345 CI=0.7877 MSE=0.45 MAE=0.35\n"
     ]
    },
    {
     "name": "stderr",
     "output_type": "stream",
     "text": [
      "Epoch 49/500 [Train]: 100%|██████████| 162/162 [00:45<00:00,  3.58it/s]\n",
      "Evaluating\t: 100%|██████████| 21/21 [00:03<00:00,  5.73it/s]\n"
     ]
    },
    {
     "name": "stdout",
     "output_type": "stream",
     "text": [
      "Epoch 49/500 | LR: 5.00e-05 | Train L=0.3541 CI=0.6726 MSE=0.67 MAE=0.54 | Val L=0.2344 CI=0.7831 MSE=0.44 MAE=0.36\n"
     ]
    },
    {
     "name": "stderr",
     "output_type": "stream",
     "text": [
      "Epoch 50/500 [Train]: 100%|██████████| 162/162 [00:45<00:00,  3.57it/s]\n",
      "Evaluating\t: 100%|██████████| 21/21 [00:03<00:00,  5.89it/s]\n"
     ]
    },
    {
     "name": "stdout",
     "output_type": "stream",
     "text": [
      "Epoch 50/500 | LR: 5.00e-05 | Train L=0.3532 CI=0.6740 MSE=0.67 MAE=0.54 | Val L=0.2329 CI=0.7788 MSE=0.45 MAE=0.35\n"
     ]
    },
    {
     "name": "stderr",
     "output_type": "stream",
     "text": [
      "Epoch 51/500 [Train]: 100%|██████████| 162/162 [00:45<00:00,  3.57it/s]\n",
      "Evaluating\t: 100%|██████████| 21/21 [00:03<00:00,  5.64it/s]\n"
     ]
    },
    {
     "name": "stdout",
     "output_type": "stream",
     "text": [
      "Epoch 51/500 | LR: 5.00e-05 | Train L=0.3541 CI=0.6699 MSE=0.67 MAE=0.54 | Val L=0.2366 CI=0.7801 MSE=0.42 MAE=0.40\n"
     ]
    },
    {
     "name": "stderr",
     "output_type": "stream",
     "text": [
      "Epoch 52/500 [Train]: 100%|██████████| 162/162 [00:45<00:00,  3.56it/s]\n",
      "Evaluating\t: 100%|██████████| 21/21 [00:03<00:00,  5.91it/s]\n"
     ]
    },
    {
     "name": "stdout",
     "output_type": "stream",
     "text": [
      "Epoch 52/500 | LR: 5.00e-05 | Train L=0.3508 CI=0.6749 MSE=0.66 MAE=0.54 | Val L=0.2329 CI=0.7849 MSE=0.44 MAE=0.36\n"
     ]
    },
    {
     "name": "stderr",
     "output_type": "stream",
     "text": [
      "Epoch 53/500 [Train]: 100%|██████████| 162/162 [00:45<00:00,  3.56it/s]\n",
      "Evaluating\t: 100%|██████████| 21/21 [00:03<00:00,  5.81it/s]\n"
     ]
    },
    {
     "name": "stdout",
     "output_type": "stream",
     "text": [
      "Epoch 53/500 | LR: 5.00e-05 | Train L=0.3547 CI=0.6691 MSE=0.67 MAE=0.54 | Val L=0.2326 CI=0.7846 MSE=0.43 MAE=0.36\n"
     ]
    },
    {
     "name": "stderr",
     "output_type": "stream",
     "text": [
      "Epoch 54/500 [Train]: 100%|██████████| 162/162 [00:45<00:00,  3.57it/s]\n",
      "Evaluating\t: 100%|██████████| 21/21 [00:03<00:00,  5.91it/s]\n"
     ]
    },
    {
     "name": "stdout",
     "output_type": "stream",
     "text": [
      "Epoch 54/500 | LR: 2.50e-05 | Train L=0.3511 CI=0.6756 MSE=0.66 MAE=0.54 | Val L=0.2333 CI=0.7851 MSE=0.44 MAE=0.36\n"
     ]
    },
    {
     "name": "stderr",
     "output_type": "stream",
     "text": [
      "Epoch 55/500 [Train]: 100%|██████████| 162/162 [00:45<00:00,  3.56it/s]\n",
      "Evaluating\t: 100%|██████████| 21/21 [00:03<00:00,  5.65it/s]\n"
     ]
    },
    {
     "name": "stdout",
     "output_type": "stream",
     "text": [
      "Epoch 55/500 | LR: 2.50e-05 | Train L=0.3478 CI=0.6818 MSE=0.65 MAE=0.54 | Val L=0.2330 CI=0.7891 MSE=0.43 MAE=0.37\n"
     ]
    },
    {
     "name": "stderr",
     "output_type": "stream",
     "text": [
      "Epoch 56/500 [Train]: 100%|██████████| 162/162 [00:45<00:00,  3.55it/s]\n",
      "Evaluating\t: 100%|██████████| 21/21 [00:03<00:00,  5.81it/s]\n"
     ]
    },
    {
     "name": "stdout",
     "output_type": "stream",
     "text": [
      "Epoch 56/500 | LR: 2.50e-05 | Train L=0.3470 CI=0.6829 MSE=0.65 MAE=0.54 | Val L=0.2299 CI=0.7900 MSE=0.43 MAE=0.35\n",
      "  Best validation loss improved to 0.2299. Model saved to ../models/gat_cd4c_davis_graphs.pth\n"
     ]
    },
    {
     "name": "stderr",
     "output_type": "stream",
     "text": [
      "Epoch 57/500 [Train]: 100%|██████████| 162/162 [00:45<00:00,  3.57it/s]\n",
      "Evaluating\t: 100%|██████████| 21/21 [00:03<00:00,  5.88it/s]\n"
     ]
    },
    {
     "name": "stdout",
     "output_type": "stream",
     "text": [
      "Epoch 57/500 | LR: 2.50e-05 | Train L=0.3497 CI=0.6754 MSE=0.66 MAE=0.54 | Val L=0.2413 CI=0.7915 MSE=0.42 MAE=0.41\n"
     ]
    },
    {
     "name": "stderr",
     "output_type": "stream",
     "text": [
      "Epoch 58/500 [Train]: 100%|██████████| 162/162 [00:45<00:00,  3.56it/s]\n",
      "Evaluating\t: 100%|██████████| 21/21 [00:03<00:00,  5.89it/s]\n"
     ]
    },
    {
     "name": "stdout",
     "output_type": "stream",
     "text": [
      "Epoch 58/500 | LR: 2.50e-05 | Train L=0.3490 CI=0.6783 MSE=0.66 MAE=0.54 | Val L=0.2312 CI=0.7866 MSE=0.44 MAE=0.35\n"
     ]
    },
    {
     "name": "stderr",
     "output_type": "stream",
     "text": [
      "Epoch 59/500 [Train]: 100%|██████████| 162/162 [00:45<00:00,  3.55it/s]\n",
      "Evaluating\t: 100%|██████████| 21/21 [00:03<00:00,  5.90it/s]\n"
     ]
    },
    {
     "name": "stdout",
     "output_type": "stream",
     "text": [
      "Epoch 59/500 | LR: 2.50e-05 | Train L=0.3444 CI=0.6819 MSE=0.65 MAE=0.53 | Val L=0.2298 CI=0.7919 MSE=0.42 MAE=0.37\n",
      "  Best validation loss improved to 0.2298. Model saved to ../models/gat_cd4c_davis_graphs.pth\n"
     ]
    },
    {
     "name": "stderr",
     "output_type": "stream",
     "text": [
      "Epoch 60/500 [Train]: 100%|██████████| 162/162 [00:45<00:00,  3.56it/s]\n",
      "Evaluating\t: 100%|██████████| 21/21 [00:03<00:00,  5.79it/s]\n"
     ]
    },
    {
     "name": "stdout",
     "output_type": "stream",
     "text": [
      "Epoch 60/500 | LR: 2.50e-05 | Train L=0.3482 CI=0.6782 MSE=0.66 MAE=0.54 | Val L=0.2291 CI=0.7901 MSE=0.43 MAE=0.37\n",
      "  Best validation loss improved to 0.2291. Model saved to ../models/gat_cd4c_davis_graphs.pth\n"
     ]
    },
    {
     "name": "stderr",
     "output_type": "stream",
     "text": [
      "Epoch 61/500 [Train]: 100%|██████████| 162/162 [00:45<00:00,  3.56it/s]\n",
      "Evaluating\t: 100%|██████████| 21/21 [00:03<00:00,  5.90it/s]\n"
     ]
    },
    {
     "name": "stdout",
     "output_type": "stream",
     "text": [
      "Epoch 61/500 | LR: 2.50e-05 | Train L=0.3464 CI=0.6772 MSE=0.65 MAE=0.53 | Val L=0.2327 CI=0.7912 MSE=0.44 MAE=0.35\n"
     ]
    },
    {
     "name": "stderr",
     "output_type": "stream",
     "text": [
      "Epoch 62/500 [Train]: 100%|██████████| 162/162 [00:45<00:00,  3.53it/s]\n",
      "Evaluating\t: 100%|██████████| 21/21 [00:03<00:00,  5.87it/s]\n"
     ]
    },
    {
     "name": "stdout",
     "output_type": "stream",
     "text": [
      "Epoch 62/500 | LR: 2.50e-05 | Train L=0.3487 CI=0.6774 MSE=0.65 MAE=0.54 | Val L=0.2297 CI=0.7916 MSE=0.43 MAE=0.36\n"
     ]
    },
    {
     "name": "stderr",
     "output_type": "stream",
     "text": [
      "Epoch 63/500 [Train]: 100%|██████████| 162/162 [00:45<00:00,  3.56it/s]\n",
      "Evaluating\t: 100%|██████████| 21/21 [00:03<00:00,  5.70it/s]\n"
     ]
    },
    {
     "name": "stdout",
     "output_type": "stream",
     "text": [
      "Epoch 63/500 | LR: 2.50e-05 | Train L=0.3443 CI=0.6804 MSE=0.65 MAE=0.53 | Val L=0.2302 CI=0.7895 MSE=0.43 MAE=0.37\n"
     ]
    },
    {
     "name": "stderr",
     "output_type": "stream",
     "text": [
      "Epoch 64/500 [Train]: 100%|██████████| 162/162 [00:45<00:00,  3.56it/s]\n",
      "Evaluating\t: 100%|██████████| 21/21 [00:03<00:00,  5.89it/s]\n"
     ]
    },
    {
     "name": "stdout",
     "output_type": "stream",
     "text": [
      "Epoch 64/500 | LR: 2.50e-05 | Train L=0.3482 CI=0.6779 MSE=0.65 MAE=0.54 | Val L=0.2393 CI=0.7945 MSE=0.43 MAE=0.39\n"
     ]
    },
    {
     "name": "stderr",
     "output_type": "stream",
     "text": [
      "Epoch 65/500 [Train]: 100%|██████████| 162/162 [00:45<00:00,  3.53it/s]\n",
      "Evaluating\t: 100%|██████████| 21/21 [00:03<00:00,  5.89it/s]\n"
     ]
    },
    {
     "name": "stdout",
     "output_type": "stream",
     "text": [
      "Epoch 65/500 | LR: 2.50e-05 | Train L=0.3462 CI=0.6790 MSE=0.65 MAE=0.53 | Val L=0.2299 CI=0.7943 MSE=0.43 MAE=0.35\n"
     ]
    },
    {
     "name": "stderr",
     "output_type": "stream",
     "text": [
      "Epoch 66/500 [Train]: 100%|██████████| 162/162 [00:45<00:00,  3.58it/s]\n",
      "Evaluating\t: 100%|██████████| 21/21 [00:03<00:00,  5.40it/s]\n"
     ]
    },
    {
     "name": "stdout",
     "output_type": "stream",
     "text": [
      "Epoch 66/500 | LR: 2.50e-05 | Train L=0.3462 CI=0.6848 MSE=0.65 MAE=0.53 | Val L=0.2299 CI=0.7920 MSE=0.44 MAE=0.35\n"
     ]
    },
    {
     "name": "stderr",
     "output_type": "stream",
     "text": [
      "Epoch 67/500 [Train]: 100%|██████████| 162/162 [00:45<00:00,  3.56it/s]\n",
      "Evaluating\t: 100%|██████████| 21/21 [00:03<00:00,  5.87it/s]\n"
     ]
    },
    {
     "name": "stdout",
     "output_type": "stream",
     "text": [
      "Epoch 67/500 | LR: 2.50e-05 | Train L=0.3451 CI=0.6819 MSE=0.64 MAE=0.53 | Val L=0.2330 CI=0.7931 MSE=0.45 MAE=0.36\n"
     ]
    },
    {
     "name": "stderr",
     "output_type": "stream",
     "text": [
      "Epoch 68/500 [Train]: 100%|██████████| 162/162 [00:45<00:00,  3.53it/s]\n",
      "Evaluating\t: 100%|██████████| 21/21 [00:03<00:00,  5.87it/s]\n"
     ]
    },
    {
     "name": "stdout",
     "output_type": "stream",
     "text": [
      "Epoch 68/500 | LR: 2.50e-05 | Train L=0.3453 CI=0.6815 MSE=0.65 MAE=0.53 | Val L=0.2323 CI=0.7895 MSE=0.45 MAE=0.35\n"
     ]
    },
    {
     "name": "stderr",
     "output_type": "stream",
     "text": [
      "Epoch 69/500 [Train]: 100%|██████████| 162/162 [00:45<00:00,  3.57it/s]\n",
      "Evaluating\t: 100%|██████████| 21/21 [00:03<00:00,  5.73it/s]\n"
     ]
    },
    {
     "name": "stdout",
     "output_type": "stream",
     "text": [
      "Epoch 69/500 | LR: 2.50e-05 | Train L=0.3468 CI=0.6812 MSE=0.65 MAE=0.53 | Val L=0.2280 CI=0.7920 MSE=0.43 MAE=0.35\n",
      "  Best validation loss improved to 0.2280. Model saved to ../models/gat_cd4c_davis_graphs.pth\n"
     ]
    },
    {
     "name": "stderr",
     "output_type": "stream",
     "text": [
      "Epoch 70/500 [Train]: 100%|██████████| 162/162 [00:45<00:00,  3.58it/s]\n",
      "Evaluating\t: 100%|██████████| 21/21 [00:03<00:00,  5.57it/s]\n"
     ]
    },
    {
     "name": "stdout",
     "output_type": "stream",
     "text": [
      "Epoch 70/500 | LR: 2.50e-05 | Train L=0.3418 CI=0.6831 MSE=0.64 MAE=0.53 | Val L=0.2288 CI=0.7909 MSE=0.43 MAE=0.37\n"
     ]
    },
    {
     "name": "stderr",
     "output_type": "stream",
     "text": [
      "Epoch 71/500 [Train]: 100%|██████████| 162/162 [00:46<00:00,  3.52it/s]\n",
      "Evaluating\t: 100%|██████████| 21/21 [00:03<00:00,  5.92it/s]\n"
     ]
    },
    {
     "name": "stdout",
     "output_type": "stream",
     "text": [
      "Epoch 71/500 | LR: 2.50e-05 | Train L=0.3411 CI=0.6840 MSE=0.63 MAE=0.53 | Val L=0.2298 CI=0.7945 MSE=0.42 MAE=0.37\n"
     ]
    },
    {
     "name": "stderr",
     "output_type": "stream",
     "text": [
      "Epoch 72/500 [Train]: 100%|██████████| 162/162 [00:45<00:00,  3.56it/s]\n",
      "Evaluating\t: 100%|██████████| 21/21 [00:03<00:00,  5.81it/s]\n"
     ]
    },
    {
     "name": "stdout",
     "output_type": "stream",
     "text": [
      "Epoch 72/500 | LR: 2.50e-05 | Train L=0.3404 CI=0.6870 MSE=0.64 MAE=0.53 | Val L=0.2338 CI=0.7951 MSE=0.42 MAE=0.38\n"
     ]
    },
    {
     "name": "stderr",
     "output_type": "stream",
     "text": [
      "Epoch 73/500 [Train]: 100%|██████████| 162/162 [00:45<00:00,  3.58it/s]\n",
      "Evaluating\t: 100%|██████████| 21/21 [00:03<00:00,  5.84it/s]\n"
     ]
    },
    {
     "name": "stdout",
     "output_type": "stream",
     "text": [
      "Epoch 73/500 | LR: 2.50e-05 | Train L=0.3433 CI=0.6844 MSE=0.65 MAE=0.53 | Val L=0.2298 CI=0.7919 MSE=0.44 MAE=0.35\n"
     ]
    },
    {
     "name": "stderr",
     "output_type": "stream",
     "text": [
      "Epoch 74/500 [Train]: 100%|██████████| 162/162 [00:45<00:00,  3.54it/s]\n",
      "Evaluating\t: 100%|██████████| 21/21 [00:03<00:00,  5.81it/s]\n"
     ]
    },
    {
     "name": "stdout",
     "output_type": "stream",
     "text": [
      "Epoch 74/500 | LR: 2.50e-05 | Train L=0.3427 CI=0.6798 MSE=0.65 MAE=0.53 | Val L=0.2263 CI=0.7950 MSE=0.43 MAE=0.35\n",
      "  Best validation loss improved to 0.2263. Model saved to ../models/gat_cd4c_davis_graphs.pth\n"
     ]
    },
    {
     "name": "stderr",
     "output_type": "stream",
     "text": [
      "Epoch 75/500 [Train]: 100%|██████████| 162/162 [00:45<00:00,  3.57it/s]\n",
      "Evaluating\t: 100%|██████████| 21/21 [00:03<00:00,  5.66it/s]\n"
     ]
    },
    {
     "name": "stdout",
     "output_type": "stream",
     "text": [
      "Epoch 75/500 | LR: 2.50e-05 | Train L=0.3411 CI=0.6840 MSE=0.64 MAE=0.53 | Val L=0.2270 CI=0.7957 MSE=0.42 MAE=0.37\n"
     ]
    },
    {
     "name": "stderr",
     "output_type": "stream",
     "text": [
      "Epoch 76/500 [Train]: 100%|██████████| 162/162 [00:45<00:00,  3.57it/s]\n",
      "Evaluating\t: 100%|██████████| 21/21 [00:03<00:00,  5.70it/s]\n"
     ]
    },
    {
     "name": "stdout",
     "output_type": "stream",
     "text": [
      "Epoch 76/500 | LR: 2.50e-05 | Train L=0.3438 CI=0.6829 MSE=0.64 MAE=0.53 | Val L=0.2288 CI=0.7932 MSE=0.43 MAE=0.36\n"
     ]
    },
    {
     "name": "stderr",
     "output_type": "stream",
     "text": [
      "Epoch 77/500 [Train]: 100%|██████████| 162/162 [00:45<00:00,  3.56it/s]\n",
      "Evaluating\t: 100%|██████████| 21/21 [00:03<00:00,  5.63it/s]\n"
     ]
    },
    {
     "name": "stdout",
     "output_type": "stream",
     "text": [
      "Epoch 77/500 | LR: 2.50e-05 | Train L=0.3427 CI=0.6801 MSE=0.65 MAE=0.53 | Val L=0.2285 CI=0.7949 MSE=0.42 MAE=0.37\n"
     ]
    },
    {
     "name": "stderr",
     "output_type": "stream",
     "text": [
      "Epoch 78/500 [Train]: 100%|██████████| 162/162 [00:45<00:00,  3.57it/s]\n",
      "Evaluating\t: 100%|██████████| 21/21 [00:03<00:00,  5.88it/s]\n"
     ]
    },
    {
     "name": "stdout",
     "output_type": "stream",
     "text": [
      "Epoch 78/500 | LR: 2.50e-05 | Train L=0.3425 CI=0.6813 MSE=0.64 MAE=0.53 | Val L=0.2269 CI=0.7956 MSE=0.42 MAE=0.36\n"
     ]
    },
    {
     "name": "stderr",
     "output_type": "stream",
     "text": [
      "Epoch 79/500 [Train]: 100%|██████████| 162/162 [00:45<00:00,  3.56it/s]\n",
      "Evaluating\t: 100%|██████████| 21/21 [00:03<00:00,  5.77it/s]\n"
     ]
    },
    {
     "name": "stdout",
     "output_type": "stream",
     "text": [
      "Epoch 79/500 | LR: 2.50e-05 | Train L=0.3440 CI=0.6785 MSE=0.64 MAE=0.53 | Val L=0.2313 CI=0.7937 MSE=0.44 MAE=0.35\n"
     ]
    },
    {
     "name": "stderr",
     "output_type": "stream",
     "text": [
      "Epoch 80/500 [Train]: 100%|██████████| 162/162 [00:45<00:00,  3.58it/s]\n",
      "Evaluating\t: 100%|██████████| 21/21 [00:03<00:00,  5.88it/s]\n"
     ]
    },
    {
     "name": "stdout",
     "output_type": "stream",
     "text": [
      "Epoch 80/500 | LR: 2.50e-05 | Train L=0.3424 CI=0.6801 MSE=0.64 MAE=0.53 | Val L=0.2269 CI=0.7930 MSE=0.42 MAE=0.36\n"
     ]
    },
    {
     "name": "stderr",
     "output_type": "stream",
     "text": [
      "Epoch 81/500 [Train]: 100%|██████████| 162/162 [00:45<00:00,  3.56it/s]\n",
      "Evaluating\t: 100%|██████████| 21/21 [00:03<00:00,  5.80it/s]\n"
     ]
    },
    {
     "name": "stdout",
     "output_type": "stream",
     "text": [
      "Epoch 81/500 | LR: 2.50e-05 | Train L=0.3413 CI=0.6874 MSE=0.63 MAE=0.53 | Val L=0.2277 CI=0.7960 MSE=0.43 MAE=0.35\n"
     ]
    },
    {
     "name": "stderr",
     "output_type": "stream",
     "text": [
      "Epoch 82/500 [Train]: 100%|██████████| 162/162 [00:45<00:00,  3.55it/s]\n",
      "Evaluating\t: 100%|██████████| 21/21 [00:03<00:00,  5.65it/s]\n"
     ]
    },
    {
     "name": "stdout",
     "output_type": "stream",
     "text": [
      "Epoch 82/500 | LR: 2.50e-05 | Train L=0.3438 CI=0.6826 MSE=0.64 MAE=0.53 | Val L=0.2293 CI=0.7910 MSE=0.45 MAE=0.35\n"
     ]
    },
    {
     "name": "stderr",
     "output_type": "stream",
     "text": [
      "Epoch 83/500 [Train]: 100%|██████████| 162/162 [00:45<00:00,  3.57it/s]\n",
      "Evaluating\t: 100%|██████████| 21/21 [00:03<00:00,  5.82it/s]\n"
     ]
    },
    {
     "name": "stdout",
     "output_type": "stream",
     "text": [
      "Epoch 83/500 | LR: 2.50e-05 | Train L=0.3409 CI=0.6829 MSE=0.64 MAE=0.53 | Val L=0.2267 CI=0.7943 MSE=0.42 MAE=0.36\n"
     ]
    },
    {
     "name": "stderr",
     "output_type": "stream",
     "text": [
      "Epoch 84/500 [Train]: 100%|██████████| 162/162 [00:45<00:00,  3.56it/s]\n",
      "Evaluating\t: 100%|██████████| 21/21 [00:03<00:00,  5.81it/s]\n"
     ]
    },
    {
     "name": "stdout",
     "output_type": "stream",
     "text": [
      "Epoch 84/500 | LR: 2.50e-05 | Train L=0.3418 CI=0.6819 MSE=0.64 MAE=0.53 | Val L=0.2262 CI=0.7898 MSE=0.43 MAE=0.35\n",
      "  Best validation loss improved to 0.2262. Model saved to ../models/gat_cd4c_davis_graphs.pth\n"
     ]
    },
    {
     "name": "stderr",
     "output_type": "stream",
     "text": [
      "Epoch 85/500 [Train]: 100%|██████████| 162/162 [00:45<00:00,  3.57it/s]\n",
      "Evaluating\t: 100%|██████████| 21/21 [00:03<00:00,  5.84it/s]\n"
     ]
    },
    {
     "name": "stdout",
     "output_type": "stream",
     "text": [
      "Epoch 85/500 | LR: 2.50e-05 | Train L=0.3421 CI=0.6832 MSE=0.64 MAE=0.53 | Val L=0.2272 CI=0.7989 MSE=0.43 MAE=0.35\n"
     ]
    },
    {
     "name": "stderr",
     "output_type": "stream",
     "text": [
      "Epoch 86/500 [Train]: 100%|██████████| 162/162 [00:45<00:00,  3.58it/s]\n",
      "Evaluating\t: 100%|██████████| 21/21 [00:03<00:00,  5.86it/s]\n"
     ]
    },
    {
     "name": "stdout",
     "output_type": "stream",
     "text": [
      "Epoch 86/500 | LR: 2.50e-05 | Train L=0.3411 CI=0.6878 MSE=0.64 MAE=0.53 | Val L=0.2258 CI=0.7967 MSE=0.43 MAE=0.35\n",
      "  Best validation loss improved to 0.2258. Model saved to ../models/gat_cd4c_davis_graphs.pth\n"
     ]
    },
    {
     "name": "stderr",
     "output_type": "stream",
     "text": [
      "Epoch 87/500 [Train]: 100%|██████████| 162/162 [00:45<00:00,  3.57it/s]\n",
      "Evaluating\t: 100%|██████████| 21/21 [00:03<00:00,  5.78it/s]\n"
     ]
    },
    {
     "name": "stdout",
     "output_type": "stream",
     "text": [
      "Epoch 87/500 | LR: 2.50e-05 | Train L=0.3417 CI=0.6866 MSE=0.63 MAE=0.53 | Val L=0.2270 CI=0.7945 MSE=0.44 MAE=0.34\n"
     ]
    },
    {
     "name": "stderr",
     "output_type": "stream",
     "text": [
      "Epoch 88/500 [Train]: 100%|██████████| 162/162 [00:45<00:00,  3.56it/s]\n",
      "Evaluating\t: 100%|██████████| 21/21 [00:03<00:00,  5.90it/s]\n"
     ]
    },
    {
     "name": "stdout",
     "output_type": "stream",
     "text": [
      "Epoch 88/500 | LR: 2.50e-05 | Train L=0.3424 CI=0.6806 MSE=0.64 MAE=0.53 | Val L=0.2263 CI=0.8008 MSE=0.42 MAE=0.35\n"
     ]
    },
    {
     "name": "stderr",
     "output_type": "stream",
     "text": [
      "Epoch 89/500 [Train]: 100%|██████████| 162/162 [00:45<00:00,  3.56it/s]\n",
      "Evaluating\t: 100%|██████████| 21/21 [00:03<00:00,  5.65it/s]\n"
     ]
    },
    {
     "name": "stdout",
     "output_type": "stream",
     "text": [
      "Epoch 89/500 | LR: 2.50e-05 | Train L=0.3347 CI=0.6925 MSE=0.62 MAE=0.52 | Val L=0.2267 CI=0.7943 MSE=0.43 MAE=0.35\n"
     ]
    },
    {
     "name": "stderr",
     "output_type": "stream",
     "text": [
      "Epoch 90/500 [Train]: 100%|██████████| 162/162 [00:45<00:00,  3.56it/s]\n",
      "Evaluating\t: 100%|██████████| 21/21 [00:03<00:00,  5.65it/s]\n"
     ]
    },
    {
     "name": "stdout",
     "output_type": "stream",
     "text": [
      "Epoch 90/500 | LR: 2.50e-05 | Train L=0.3374 CI=0.6875 MSE=0.63 MAE=0.52 | Val L=0.2250 CI=0.7990 MSE=0.42 MAE=0.36\n",
      "  Best validation loss improved to 0.2250. Model saved to ../models/gat_cd4c_davis_graphs.pth\n"
     ]
    },
    {
     "name": "stderr",
     "output_type": "stream",
     "text": [
      "Epoch 91/500 [Train]: 100%|██████████| 162/162 [00:45<00:00,  3.56it/s]\n",
      "Evaluating\t: 100%|██████████| 21/21 [00:03<00:00,  5.91it/s]\n"
     ]
    },
    {
     "name": "stdout",
     "output_type": "stream",
     "text": [
      "Epoch 91/500 | LR: 2.50e-05 | Train L=0.3423 CI=0.6825 MSE=0.64 MAE=0.53 | Val L=0.2263 CI=0.7972 MSE=0.41 MAE=0.37\n"
     ]
    },
    {
     "name": "stderr",
     "output_type": "stream",
     "text": [
      "Epoch 92/500 [Train]: 100%|██████████| 162/162 [00:45<00:00,  3.56it/s]\n",
      "Evaluating\t: 100%|██████████| 21/21 [00:03<00:00,  5.78it/s]\n"
     ]
    },
    {
     "name": "stdout",
     "output_type": "stream",
     "text": [
      "Epoch 92/500 | LR: 2.50e-05 | Train L=0.3401 CI=0.6844 MSE=0.64 MAE=0.53 | Val L=0.2263 CI=0.8001 MSE=0.44 MAE=0.34\n"
     ]
    },
    {
     "name": "stderr",
     "output_type": "stream",
     "text": [
      "Epoch 93/500 [Train]: 100%|██████████| 162/162 [00:45<00:00,  3.57it/s]\n",
      "Evaluating\t: 100%|██████████| 21/21 [00:03<00:00,  5.67it/s]\n"
     ]
    },
    {
     "name": "stdout",
     "output_type": "stream",
     "text": [
      "Epoch 93/500 | LR: 2.50e-05 | Train L=0.3396 CI=0.6850 MSE=0.63 MAE=0.53 | Val L=0.2259 CI=0.7959 MSE=0.43 MAE=0.35\n"
     ]
    },
    {
     "name": "stderr",
     "output_type": "stream",
     "text": [
      "Epoch 94/500 [Train]: 100%|██████████| 162/162 [00:45<00:00,  3.54it/s]\n",
      "Evaluating\t: 100%|██████████| 21/21 [00:03<00:00,  5.88it/s]\n"
     ]
    },
    {
     "name": "stdout",
     "output_type": "stream",
     "text": [
      "Epoch 94/500 | LR: 2.50e-05 | Train L=0.3403 CI=0.6857 MSE=0.64 MAE=0.53 | Val L=0.2239 CI=0.7994 MSE=0.42 MAE=0.35\n",
      "  Best validation loss improved to 0.2239. Model saved to ../models/gat_cd4c_davis_graphs.pth\n"
     ]
    },
    {
     "name": "stderr",
     "output_type": "stream",
     "text": [
      "Epoch 95/500 [Train]: 100%|██████████| 162/162 [00:45<00:00,  3.56it/s]\n",
      "Evaluating\t: 100%|██████████| 21/21 [00:03<00:00,  5.65it/s]\n"
     ]
    },
    {
     "name": "stdout",
     "output_type": "stream",
     "text": [
      "Epoch 95/500 | LR: 2.50e-05 | Train L=0.3381 CI=0.6862 MSE=0.63 MAE=0.52 | Val L=0.2278 CI=0.8012 MSE=0.41 MAE=0.38\n"
     ]
    },
    {
     "name": "stderr",
     "output_type": "stream",
     "text": [
      "Epoch 96/500 [Train]: 100%|██████████| 162/162 [00:45<00:00,  3.58it/s]\n",
      "Evaluating\t: 100%|██████████| 21/21 [00:03<00:00,  5.88it/s]\n"
     ]
    },
    {
     "name": "stdout",
     "output_type": "stream",
     "text": [
      "Epoch 96/500 | LR: 2.50e-05 | Train L=0.3366 CI=0.6911 MSE=0.63 MAE=0.52 | Val L=0.2244 CI=0.8002 MSE=0.42 MAE=0.36\n"
     ]
    },
    {
     "name": "stderr",
     "output_type": "stream",
     "text": [
      "Epoch 97/500 [Train]: 100%|██████████| 162/162 [00:45<00:00,  3.52it/s]\n",
      "Evaluating\t: 100%|██████████| 21/21 [00:03<00:00,  5.75it/s]\n"
     ]
    },
    {
     "name": "stdout",
     "output_type": "stream",
     "text": [
      "Epoch 97/500 | LR: 2.50e-05 | Train L=0.3396 CI=0.6844 MSE=0.63 MAE=0.53 | Val L=0.2275 CI=0.8016 MSE=0.43 MAE=0.35\n"
     ]
    },
    {
     "name": "stderr",
     "output_type": "stream",
     "text": [
      "Epoch 98/500 [Train]: 100%|██████████| 162/162 [00:45<00:00,  3.57it/s]\n",
      "Evaluating\t: 100%|██████████| 21/21 [00:03<00:00,  5.67it/s]\n"
     ]
    },
    {
     "name": "stdout",
     "output_type": "stream",
     "text": [
      "Epoch 98/500 | LR: 2.50e-05 | Train L=0.3382 CI=0.6880 MSE=0.63 MAE=0.52 | Val L=0.2251 CI=0.8015 MSE=0.41 MAE=0.37\n"
     ]
    },
    {
     "name": "stderr",
     "output_type": "stream",
     "text": [
      "Epoch 99/500 [Train]: 100%|██████████| 162/162 [00:45<00:00,  3.57it/s]\n",
      "Evaluating\t: 100%|██████████| 21/21 [00:03<00:00,  5.84it/s]\n"
     ]
    },
    {
     "name": "stdout",
     "output_type": "stream",
     "text": [
      "Epoch 99/500 | LR: 2.50e-05 | Train L=0.3380 CI=0.6820 MSE=0.63 MAE=0.52 | Val L=0.2240 CI=0.7990 MSE=0.42 MAE=0.34\n"
     ]
    },
    {
     "name": "stderr",
     "output_type": "stream",
     "text": [
      "Epoch 100/500 [Train]: 100%|██████████| 162/162 [00:45<00:00,  3.52it/s]\n",
      "Evaluating\t: 100%|██████████| 21/21 [00:03<00:00,  5.89it/s]\n"
     ]
    },
    {
     "name": "stdout",
     "output_type": "stream",
     "text": [
      "Epoch 100/500 | LR: 2.50e-05 | Train L=0.3370 CI=0.6874 MSE=0.63 MAE=0.52 | Val L=0.2230 CI=0.7987 MSE=0.42 MAE=0.35\n",
      "  Best validation loss improved to 0.2230. Model saved to ../models/gat_cd4c_davis_graphs.pth\n"
     ]
    },
    {
     "name": "stderr",
     "output_type": "stream",
     "text": [
      "Epoch 101/500 [Train]: 100%|██████████| 162/162 [00:45<00:00,  3.58it/s]\n",
      "Evaluating\t: 100%|██████████| 21/21 [00:03<00:00,  5.72it/s]\n"
     ]
    },
    {
     "name": "stdout",
     "output_type": "stream",
     "text": [
      "Epoch 101/500 | LR: 2.50e-05 | Train L=0.3367 CI=0.6863 MSE=0.63 MAE=0.52 | Val L=0.2229 CI=0.8023 MSE=0.42 MAE=0.35\n",
      "  Best validation loss improved to 0.2229. Model saved to ../models/gat_cd4c_davis_graphs.pth\n"
     ]
    },
    {
     "name": "stderr",
     "output_type": "stream",
     "text": [
      "Epoch 102/500 [Train]: 100%|██████████| 162/162 [00:45<00:00,  3.57it/s]\n",
      "Evaluating\t: 100%|██████████| 21/21 [00:03<00:00,  5.72it/s]\n"
     ]
    },
    {
     "name": "stdout",
     "output_type": "stream",
     "text": [
      "Epoch 102/500 | LR: 2.50e-05 | Train L=0.3356 CI=0.6896 MSE=0.62 MAE=0.52 | Val L=0.2234 CI=0.7983 MSE=0.42 MAE=0.35\n"
     ]
    },
    {
     "name": "stderr",
     "output_type": "stream",
     "text": [
      "Epoch 103/500 [Train]: 100%|██████████| 162/162 [00:45<00:00,  3.55it/s]\n",
      "Evaluating\t: 100%|██████████| 21/21 [00:03<00:00,  5.73it/s]\n"
     ]
    },
    {
     "name": "stdout",
     "output_type": "stream",
     "text": [
      "Epoch 103/500 | LR: 2.50e-05 | Train L=0.3397 CI=0.6841 MSE=0.64 MAE=0.53 | Val L=0.2229 CI=0.8045 MSE=0.41 MAE=0.35\n",
      "  Best validation loss improved to 0.2229. Model saved to ../models/gat_cd4c_davis_graphs.pth\n"
     ]
    },
    {
     "name": "stderr",
     "output_type": "stream",
     "text": [
      "Epoch 104/500 [Train]: 100%|██████████| 162/162 [00:45<00:00,  3.57it/s]\n",
      "Evaluating\t: 100%|██████████| 21/21 [00:03<00:00,  5.85it/s]\n"
     ]
    },
    {
     "name": "stdout",
     "output_type": "stream",
     "text": [
      "Epoch 104/500 | LR: 2.50e-05 | Train L=0.3331 CI=0.6928 MSE=0.61 MAE=0.52 | Val L=0.2291 CI=0.8022 MSE=0.45 MAE=0.35\n"
     ]
    },
    {
     "name": "stderr",
     "output_type": "stream",
     "text": [
      "Epoch 105/500 [Train]: 100%|██████████| 162/162 [00:45<00:00,  3.56it/s]\n",
      "Evaluating\t: 100%|██████████| 21/21 [00:03<00:00,  5.81it/s]\n"
     ]
    },
    {
     "name": "stdout",
     "output_type": "stream",
     "text": [
      "Epoch 105/500 | LR: 2.50e-05 | Train L=0.3361 CI=0.6923 MSE=0.62 MAE=0.52 | Val L=0.2282 CI=0.7944 MSE=0.45 MAE=0.35\n"
     ]
    },
    {
     "name": "stderr",
     "output_type": "stream",
     "text": [
      "Epoch 106/500 [Train]: 100%|██████████| 162/162 [00:45<00:00,  3.55it/s]\n",
      "Evaluating\t: 100%|██████████| 21/21 [00:03<00:00,  5.70it/s]\n"
     ]
    },
    {
     "name": "stdout",
     "output_type": "stream",
     "text": [
      "Epoch 106/500 | LR: 2.50e-05 | Train L=0.3369 CI=0.6888 MSE=0.62 MAE=0.52 | Val L=0.2219 CI=0.8025 MSE=0.43 MAE=0.34\n",
      "  Best validation loss improved to 0.2219. Model saved to ../models/gat_cd4c_davis_graphs.pth\n"
     ]
    },
    {
     "name": "stderr",
     "output_type": "stream",
     "text": [
      "Epoch 107/500 [Train]: 100%|██████████| 162/162 [00:45<00:00,  3.57it/s]\n",
      "Evaluating\t: 100%|██████████| 21/21 [00:03<00:00,  5.81it/s]\n"
     ]
    },
    {
     "name": "stdout",
     "output_type": "stream",
     "text": [
      "Epoch 107/500 | LR: 2.50e-05 | Train L=0.3332 CI=0.6940 MSE=0.62 MAE=0.52 | Val L=0.2214 CI=0.7999 MSE=0.42 MAE=0.34\n",
      "  Best validation loss improved to 0.2214. Model saved to ../models/gat_cd4c_davis_graphs.pth\n"
     ]
    },
    {
     "name": "stderr",
     "output_type": "stream",
     "text": [
      "Epoch 108/500 [Train]: 100%|██████████| 162/162 [00:45<00:00,  3.57it/s]\n",
      "Evaluating\t: 100%|██████████| 21/21 [00:03<00:00,  5.83it/s]\n"
     ]
    },
    {
     "name": "stdout",
     "output_type": "stream",
     "text": [
      "Epoch 108/500 | LR: 2.50e-05 | Train L=0.3351 CI=0.6911 MSE=0.62 MAE=0.52 | Val L=0.2237 CI=0.8033 MSE=0.41 MAE=0.36\n"
     ]
    },
    {
     "name": "stderr",
     "output_type": "stream",
     "text": [
      "Epoch 109/500 [Train]: 100%|██████████| 162/162 [00:45<00:00,  3.57it/s]\n",
      "Evaluating\t: 100%|██████████| 21/21 [00:03<00:00,  5.82it/s]\n"
     ]
    },
    {
     "name": "stdout",
     "output_type": "stream",
     "text": [
      "Epoch 109/500 | LR: 2.50e-05 | Train L=0.3372 CI=0.6867 MSE=0.63 MAE=0.52 | Val L=0.2246 CI=0.8064 MSE=0.41 MAE=0.35\n"
     ]
    },
    {
     "name": "stderr",
     "output_type": "stream",
     "text": [
      "Epoch 110/500 [Train]: 100%|██████████| 162/162 [00:45<00:00,  3.56it/s]\n",
      "Evaluating\t: 100%|██████████| 21/21 [00:03<00:00,  5.84it/s]\n"
     ]
    },
    {
     "name": "stdout",
     "output_type": "stream",
     "text": [
      "Epoch 110/500 | LR: 2.50e-05 | Train L=0.3349 CI=0.6940 MSE=0.62 MAE=0.52 | Val L=0.2234 CI=0.8031 MSE=0.41 MAE=0.35\n"
     ]
    },
    {
     "name": "stderr",
     "output_type": "stream",
     "text": [
      "Epoch 111/500 [Train]: 100%|██████████| 162/162 [00:45<00:00,  3.57it/s]\n",
      "Evaluating\t: 100%|██████████| 21/21 [00:03<00:00,  5.66it/s]\n"
     ]
    },
    {
     "name": "stdout",
     "output_type": "stream",
     "text": [
      "Epoch 111/500 | LR: 2.50e-05 | Train L=0.3347 CI=0.6890 MSE=0.62 MAE=0.52 | Val L=0.2222 CI=0.8003 MSE=0.42 MAE=0.35\n"
     ]
    },
    {
     "name": "stderr",
     "output_type": "stream",
     "text": [
      "Epoch 112/500 [Train]: 100%|██████████| 162/162 [00:45<00:00,  3.57it/s]\n",
      "Evaluating\t: 100%|██████████| 21/21 [00:03<00:00,  5.80it/s]\n"
     ]
    },
    {
     "name": "stdout",
     "output_type": "stream",
     "text": [
      "Epoch 112/500 | LR: 2.50e-05 | Train L=0.3340 CI=0.6944 MSE=0.62 MAE=0.52 | Val L=0.2216 CI=0.8009 MSE=0.41 MAE=0.36\n"
     ]
    },
    {
     "name": "stderr",
     "output_type": "stream",
     "text": [
      "Epoch 113/500 [Train]: 100%|██████████| 162/162 [00:45<00:00,  3.57it/s]\n",
      "Evaluating\t: 100%|██████████| 21/21 [00:03<00:00,  5.78it/s]\n"
     ]
    },
    {
     "name": "stdout",
     "output_type": "stream",
     "text": [
      "Epoch 113/500 | LR: 2.50e-05 | Train L=0.3339 CI=0.6921 MSE=0.62 MAE=0.52 | Val L=0.2201 CI=0.8023 MSE=0.41 MAE=0.34\n",
      "  Best validation loss improved to 0.2201. Model saved to ../models/gat_cd4c_davis_graphs.pth\n"
     ]
    },
    {
     "name": "stderr",
     "output_type": "stream",
     "text": [
      "Epoch 114/500 [Train]: 100%|██████████| 162/162 [00:45<00:00,  3.57it/s]\n",
      "Evaluating\t: 100%|██████████| 21/21 [00:03<00:00,  5.90it/s]\n"
     ]
    },
    {
     "name": "stdout",
     "output_type": "stream",
     "text": [
      "Epoch 114/500 | LR: 2.50e-05 | Train L=0.3322 CI=0.6897 MSE=0.62 MAE=0.52 | Val L=0.2213 CI=0.8056 MSE=0.42 MAE=0.34\n"
     ]
    },
    {
     "name": "stderr",
     "output_type": "stream",
     "text": [
      "Epoch 115/500 [Train]: 100%|██████████| 162/162 [00:45<00:00,  3.57it/s]\n",
      "Evaluating\t: 100%|██████████| 21/21 [00:03<00:00,  5.90it/s]\n"
     ]
    },
    {
     "name": "stdout",
     "output_type": "stream",
     "text": [
      "Epoch 115/500 | LR: 2.50e-05 | Train L=0.3320 CI=0.6941 MSE=0.62 MAE=0.52 | Val L=0.2212 CI=0.7978 MSE=0.42 MAE=0.34\n"
     ]
    },
    {
     "name": "stderr",
     "output_type": "stream",
     "text": [
      "Epoch 116/500 [Train]: 100%|██████████| 162/162 [00:45<00:00,  3.56it/s]\n",
      "Evaluating\t: 100%|██████████| 21/21 [00:03<00:00,  5.80it/s]\n"
     ]
    },
    {
     "name": "stdout",
     "output_type": "stream",
     "text": [
      "Epoch 116/500 | LR: 2.50e-05 | Train L=0.3315 CI=0.6910 MSE=0.61 MAE=0.52 | Val L=0.2301 CI=0.7993 MSE=0.40 MAE=0.40\n"
     ]
    },
    {
     "name": "stderr",
     "output_type": "stream",
     "text": [
      "Epoch 117/500 [Train]: 100%|██████████| 162/162 [00:45<00:00,  3.56it/s]\n",
      "Evaluating\t: 100%|██████████| 21/21 [00:03<00:00,  5.87it/s]\n"
     ]
    },
    {
     "name": "stdout",
     "output_type": "stream",
     "text": [
      "Epoch 117/500 | LR: 2.50e-05 | Train L=0.3312 CI=0.6919 MSE=0.62 MAE=0.52 | Val L=0.2249 CI=0.8017 MSE=0.40 MAE=0.37\n"
     ]
    },
    {
     "name": "stderr",
     "output_type": "stream",
     "text": [
      "Epoch 118/500 [Train]: 100%|██████████| 162/162 [00:45<00:00,  3.57it/s]\n",
      "Evaluating\t: 100%|██████████| 21/21 [00:03<00:00,  5.88it/s]\n"
     ]
    },
    {
     "name": "stdout",
     "output_type": "stream",
     "text": [
      "Epoch 118/500 | LR: 2.50e-05 | Train L=0.3292 CI=0.6929 MSE=0.61 MAE=0.51 | Val L=0.2211 CI=0.7985 MSE=0.41 MAE=0.36\n"
     ]
    },
    {
     "name": "stderr",
     "output_type": "stream",
     "text": [
      "Epoch 119/500 [Train]: 100%|██████████| 162/162 [00:45<00:00,  3.57it/s]\n",
      "Evaluating\t: 100%|██████████| 21/21 [00:03<00:00,  5.65it/s]\n"
     ]
    },
    {
     "name": "stdout",
     "output_type": "stream",
     "text": [
      "Epoch 119/500 | LR: 2.50e-05 | Train L=0.3321 CI=0.6922 MSE=0.62 MAE=0.52 | Val L=0.2199 CI=0.8053 MSE=0.40 MAE=0.35\n",
      "  Best validation loss improved to 0.2199. Model saved to ../models/gat_cd4c_davis_graphs.pth\n"
     ]
    },
    {
     "name": "stderr",
     "output_type": "stream",
     "text": [
      "Epoch 120/500 [Train]: 100%|██████████| 162/162 [00:45<00:00,  3.57it/s]\n",
      "Evaluating\t: 100%|██████████| 21/21 [00:03<00:00,  5.73it/s]\n"
     ]
    },
    {
     "name": "stdout",
     "output_type": "stream",
     "text": [
      "Epoch 120/500 | LR: 2.50e-05 | Train L=0.3279 CI=0.7006 MSE=0.60 MAE=0.51 | Val L=0.2202 CI=0.8005 MSE=0.41 MAE=0.35\n"
     ]
    },
    {
     "name": "stderr",
     "output_type": "stream",
     "text": [
      "Epoch 121/500 [Train]: 100%|██████████| 162/162 [00:45<00:00,  3.57it/s]\n",
      "Evaluating\t: 100%|██████████| 21/21 [00:03<00:00,  5.71it/s]\n"
     ]
    },
    {
     "name": "stdout",
     "output_type": "stream",
     "text": [
      "Epoch 121/500 | LR: 2.50e-05 | Train L=0.3276 CI=0.6976 MSE=0.61 MAE=0.51 | Val L=0.2199 CI=0.8056 MSE=0.41 MAE=0.34\n",
      "  Best validation loss improved to 0.2199. Model saved to ../models/gat_cd4c_davis_graphs.pth\n"
     ]
    },
    {
     "name": "stderr",
     "output_type": "stream",
     "text": [
      "Epoch 122/500 [Train]: 100%|██████████| 162/162 [00:45<00:00,  3.57it/s]\n",
      "Evaluating\t: 100%|██████████| 21/21 [00:03<00:00,  5.86it/s]\n"
     ]
    },
    {
     "name": "stdout",
     "output_type": "stream",
     "text": [
      "Epoch 122/500 | LR: 2.50e-05 | Train L=0.3293 CI=0.6919 MSE=0.61 MAE=0.51 | Val L=0.2207 CI=0.8069 MSE=0.41 MAE=0.35\n"
     ]
    },
    {
     "name": "stderr",
     "output_type": "stream",
     "text": [
      "Epoch 123/500 [Train]: 100%|██████████| 162/162 [00:45<00:00,  3.56it/s]\n",
      "Evaluating\t: 100%|██████████| 21/21 [00:03<00:00,  5.82it/s]\n"
     ]
    },
    {
     "name": "stdout",
     "output_type": "stream",
     "text": [
      "Epoch 123/500 | LR: 2.50e-05 | Train L=0.3298 CI=0.6961 MSE=0.61 MAE=0.52 | Val L=0.2199 CI=0.8025 MSE=0.42 MAE=0.34\n",
      "  Best validation loss improved to 0.2199. Model saved to ../models/gat_cd4c_davis_graphs.pth\n"
     ]
    },
    {
     "name": "stderr",
     "output_type": "stream",
     "text": [
      "Epoch 124/500 [Train]: 100%|██████████| 162/162 [00:45<00:00,  3.57it/s]\n",
      "Evaluating\t: 100%|██████████| 21/21 [00:03<00:00,  5.67it/s]\n"
     ]
    },
    {
     "name": "stdout",
     "output_type": "stream",
     "text": [
      "Epoch 124/500 | LR: 2.50e-05 | Train L=0.3304 CI=0.6956 MSE=0.61 MAE=0.52 | Val L=0.2172 CI=0.8096 MSE=0.41 MAE=0.34\n",
      "  Best validation loss improved to 0.2172. Model saved to ../models/gat_cd4c_davis_graphs.pth\n"
     ]
    },
    {
     "name": "stderr",
     "output_type": "stream",
     "text": [
      "Epoch 125/500 [Train]: 100%|██████████| 162/162 [00:45<00:00,  3.57it/s]\n",
      "Evaluating\t: 100%|██████████| 21/21 [00:03<00:00,  5.76it/s]\n"
     ]
    },
    {
     "name": "stdout",
     "output_type": "stream",
     "text": [
      "Epoch 125/500 | LR: 2.50e-05 | Train L=0.3308 CI=0.6958 MSE=0.62 MAE=0.52 | Val L=0.2167 CI=0.8035 MSE=0.40 MAE=0.35\n",
      "  Best validation loss improved to 0.2167. Model saved to ../models/gat_cd4c_davis_graphs.pth\n"
     ]
    },
    {
     "name": "stderr",
     "output_type": "stream",
     "text": [
      "Epoch 126/500 [Train]: 100%|██████████| 162/162 [00:45<00:00,  3.57it/s]\n",
      "Evaluating\t: 100%|██████████| 21/21 [00:03<00:00,  5.65it/s]\n"
     ]
    },
    {
     "name": "stdout",
     "output_type": "stream",
     "text": [
      "Epoch 126/500 | LR: 2.50e-05 | Train L=0.3282 CI=0.6951 MSE=0.61 MAE=0.51 | Val L=0.2236 CI=0.7969 MSE=0.44 MAE=0.34\n"
     ]
    },
    {
     "name": "stderr",
     "output_type": "stream",
     "text": [
      "Epoch 127/500 [Train]: 100%|██████████| 162/162 [00:45<00:00,  3.57it/s]\n",
      "Evaluating\t: 100%|██████████| 21/21 [00:03<00:00,  5.76it/s]\n"
     ]
    },
    {
     "name": "stdout",
     "output_type": "stream",
     "text": [
      "Epoch 127/500 | LR: 2.50e-05 | Train L=0.3272 CI=0.6964 MSE=0.61 MAE=0.51 | Val L=0.2223 CI=0.8009 MSE=0.40 MAE=0.37\n"
     ]
    },
    {
     "name": "stderr",
     "output_type": "stream",
     "text": [
      "Epoch 128/500 [Train]: 100%|██████████| 162/162 [00:45<00:00,  3.57it/s]\n",
      "Evaluating\t: 100%|██████████| 21/21 [00:03<00:00,  5.89it/s]\n"
     ]
    },
    {
     "name": "stdout",
     "output_type": "stream",
     "text": [
      "Epoch 128/500 | LR: 2.50e-05 | Train L=0.3288 CI=0.6944 MSE=0.61 MAE=0.51 | Val L=0.2170 CI=0.8064 MSE=0.40 MAE=0.35\n"
     ]
    },
    {
     "name": "stderr",
     "output_type": "stream",
     "text": [
      "Epoch 129/500 [Train]: 100%|██████████| 162/162 [00:45<00:00,  3.54it/s]\n",
      "Evaluating\t: 100%|██████████| 21/21 [00:03<00:00,  5.88it/s]\n"
     ]
    },
    {
     "name": "stdout",
     "output_type": "stream",
     "text": [
      "Epoch 129/500 | LR: 2.50e-05 | Train L=0.3278 CI=0.6972 MSE=0.60 MAE=0.51 | Val L=0.2185 CI=0.8058 MSE=0.40 MAE=0.34\n"
     ]
    },
    {
     "name": "stderr",
     "output_type": "stream",
     "text": [
      "Epoch 130/500 [Train]: 100%|██████████| 162/162 [00:45<00:00,  3.56it/s]\n",
      "Evaluating\t: 100%|██████████| 21/21 [00:03<00:00,  5.88it/s]\n"
     ]
    },
    {
     "name": "stdout",
     "output_type": "stream",
     "text": [
      "Epoch 130/500 | LR: 2.50e-05 | Train L=0.3274 CI=0.6968 MSE=0.60 MAE=0.51 | Val L=0.2175 CI=0.8040 MSE=0.40 MAE=0.35\n"
     ]
    },
    {
     "name": "stderr",
     "output_type": "stream",
     "text": [
      "Epoch 131/500 [Train]: 100%|██████████| 162/162 [00:45<00:00,  3.58it/s]\n",
      "Evaluating\t: 100%|██████████| 21/21 [00:03<00:00,  5.89it/s]\n"
     ]
    },
    {
     "name": "stdout",
     "output_type": "stream",
     "text": [
      "Epoch 131/500 | LR: 2.50e-05 | Train L=0.3252 CI=0.6968 MSE=0.60 MAE=0.51 | Val L=0.2200 CI=0.8045 MSE=0.41 MAE=0.34\n"
     ]
    },
    {
     "name": "stderr",
     "output_type": "stream",
     "text": [
      "Epoch 132/500 [Train]: 100%|██████████| 162/162 [00:45<00:00,  3.53it/s]\n",
      "Evaluating\t: 100%|██████████| 21/21 [00:03<00:00,  5.66it/s]\n"
     ]
    },
    {
     "name": "stdout",
     "output_type": "stream",
     "text": [
      "Epoch 132/500 | LR: 2.50e-05 | Train L=0.3262 CI=0.7009 MSE=0.61 MAE=0.51 | Val L=0.2219 CI=0.8045 MSE=0.40 MAE=0.37\n"
     ]
    },
    {
     "name": "stderr",
     "output_type": "stream",
     "text": [
      "Epoch 133/500 [Train]: 100%|██████████| 162/162 [00:45<00:00,  3.58it/s]\n",
      "Evaluating\t: 100%|██████████| 21/21 [00:03<00:00,  5.88it/s]\n"
     ]
    },
    {
     "name": "stdout",
     "output_type": "stream",
     "text": [
      "Epoch 133/500 | LR: 2.50e-05 | Train L=0.3257 CI=0.7007 MSE=0.60 MAE=0.51 | Val L=0.2181 CI=0.8119 MSE=0.41 MAE=0.34\n"
     ]
    },
    {
     "name": "stderr",
     "output_type": "stream",
     "text": [
      "Epoch 134/500 [Train]: 100%|██████████| 162/162 [00:45<00:00,  3.57it/s]\n",
      "Evaluating\t: 100%|██████████| 21/21 [00:03<00:00,  5.88it/s]\n"
     ]
    },
    {
     "name": "stdout",
     "output_type": "stream",
     "text": [
      "Epoch 134/500 | LR: 2.50e-05 | Train L=0.3251 CI=0.6996 MSE=0.61 MAE=0.51 | Val L=0.2179 CI=0.8034 MSE=0.41 MAE=0.34\n"
     ]
    },
    {
     "name": "stderr",
     "output_type": "stream",
     "text": [
      "Epoch 135/500 [Train]: 100%|██████████| 162/162 [00:45<00:00,  3.55it/s]\n",
      "Evaluating\t: 100%|██████████| 21/21 [00:03<00:00,  5.87it/s]\n"
     ]
    },
    {
     "name": "stdout",
     "output_type": "stream",
     "text": [
      "Epoch 135/500 | LR: 2.50e-05 | Train L=0.3251 CI=0.6982 MSE=0.60 MAE=0.51 | Val L=0.2202 CI=0.8058 MSE=0.41 MAE=0.34\n"
     ]
    },
    {
     "name": "stderr",
     "output_type": "stream",
     "text": [
      "Epoch 136/500 [Train]: 100%|██████████| 162/162 [00:45<00:00,  3.56it/s]\n",
      "Evaluating\t: 100%|██████████| 21/21 [00:03<00:00,  5.88it/s]\n"
     ]
    },
    {
     "name": "stdout",
     "output_type": "stream",
     "text": [
      "Epoch 136/500 | LR: 1.25e-05 | Train L=0.3246 CI=0.7049 MSE=0.60 MAE=0.51 | Val L=0.2172 CI=0.8084 MSE=0.41 MAE=0.34\n"
     ]
    },
    {
     "name": "stderr",
     "output_type": "stream",
     "text": [
      "Epoch 137/500 [Train]: 100%|██████████| 162/162 [00:45<00:00,  3.57it/s]\n",
      "Evaluating\t: 100%|██████████| 21/21 [00:03<00:00,  5.71it/s]\n"
     ]
    },
    {
     "name": "stdout",
     "output_type": "stream",
     "text": [
      "Epoch 137/500 | LR: 1.25e-05 | Train L=0.3246 CI=0.6999 MSE=0.60 MAE=0.51 | Val L=0.2169 CI=0.8087 MSE=0.41 MAE=0.34\n"
     ]
    },
    {
     "name": "stderr",
     "output_type": "stream",
     "text": [
      "Epoch 138/500 [Train]: 100%|██████████| 162/162 [00:45<00:00,  3.56it/s]\n",
      "Evaluating\t: 100%|██████████| 21/21 [00:03<00:00,  5.75it/s]\n"
     ]
    },
    {
     "name": "stdout",
     "output_type": "stream",
     "text": [
      "Epoch 138/500 | LR: 1.25e-05 | Train L=0.3234 CI=0.7007 MSE=0.60 MAE=0.51 | Val L=0.2169 CI=0.8099 MSE=0.41 MAE=0.33\n"
     ]
    },
    {
     "name": "stderr",
     "output_type": "stream",
     "text": [
      "Epoch 139/500 [Train]: 100%|██████████| 162/162 [00:45<00:00,  3.58it/s]\n",
      "Evaluating\t: 100%|██████████| 21/21 [00:03<00:00,  5.64it/s]\n"
     ]
    },
    {
     "name": "stdout",
     "output_type": "stream",
     "text": [
      "Epoch 139/500 | LR: 1.25e-05 | Train L=0.3263 CI=0.6949 MSE=0.60 MAE=0.51 | Val L=0.2158 CI=0.8046 MSE=0.39 MAE=0.35\n",
      "  Best validation loss improved to 0.2158. Model saved to ../models/gat_cd4c_davis_graphs.pth\n"
     ]
    },
    {
     "name": "stderr",
     "output_type": "stream",
     "text": [
      "Epoch 140/500 [Train]: 100%|██████████| 162/162 [00:45<00:00,  3.58it/s]\n",
      "Evaluating\t: 100%|██████████| 21/21 [00:03<00:00,  5.81it/s]\n"
     ]
    },
    {
     "name": "stdout",
     "output_type": "stream",
     "text": [
      "Epoch 140/500 | LR: 1.25e-05 | Train L=0.3217 CI=0.7009 MSE=0.59 MAE=0.51 | Val L=0.2177 CI=0.8101 MSE=0.39 MAE=0.36\n"
     ]
    },
    {
     "name": "stderr",
     "output_type": "stream",
     "text": [
      "Epoch 141/500 [Train]: 100%|██████████| 162/162 [00:45<00:00,  3.56it/s]\n",
      "Evaluating\t: 100%|██████████| 21/21 [00:03<00:00,  5.65it/s]\n"
     ]
    },
    {
     "name": "stdout",
     "output_type": "stream",
     "text": [
      "Epoch 141/500 | LR: 1.25e-05 | Train L=0.3227 CI=0.7040 MSE=0.60 MAE=0.51 | Val L=0.2167 CI=0.8089 MSE=0.39 MAE=0.35\n"
     ]
    },
    {
     "name": "stderr",
     "output_type": "stream",
     "text": [
      "Epoch 142/500 [Train]: 100%|██████████| 162/162 [00:45<00:00,  3.57it/s]\n",
      "Evaluating\t: 100%|██████████| 21/21 [00:03<00:00,  5.64it/s]\n"
     ]
    },
    {
     "name": "stdout",
     "output_type": "stream",
     "text": [
      "Epoch 142/500 | LR: 1.25e-05 | Train L=0.3209 CI=0.7068 MSE=0.59 MAE=0.50 | Val L=0.2155 CI=0.8042 MSE=0.41 MAE=0.34\n",
      "  Best validation loss improved to 0.2155. Model saved to ../models/gat_cd4c_davis_graphs.pth\n"
     ]
    },
    {
     "name": "stderr",
     "output_type": "stream",
     "text": [
      "Epoch 143/500 [Train]: 100%|██████████| 162/162 [00:45<00:00,  3.57it/s]\n",
      "Evaluating\t: 100%|██████████| 21/21 [00:03<00:00,  5.65it/s]\n"
     ]
    },
    {
     "name": "stdout",
     "output_type": "stream",
     "text": [
      "Epoch 143/500 | LR: 1.25e-05 | Train L=0.3213 CI=0.7035 MSE=0.59 MAE=0.51 | Val L=0.2151 CI=0.8040 MSE=0.40 MAE=0.34\n",
      "  Best validation loss improved to 0.2151. Model saved to ../models/gat_cd4c_davis_graphs.pth\n"
     ]
    },
    {
     "name": "stderr",
     "output_type": "stream",
     "text": [
      "Epoch 144/500 [Train]: 100%|██████████| 162/162 [00:45<00:00,  3.57it/s]\n",
      "Evaluating\t: 100%|██████████| 21/21 [00:03<00:00,  5.91it/s]\n"
     ]
    },
    {
     "name": "stdout",
     "output_type": "stream",
     "text": [
      "Epoch 144/500 | LR: 1.25e-05 | Train L=0.3185 CI=0.7043 MSE=0.59 MAE=0.50 | Val L=0.2154 CI=0.8074 MSE=0.40 MAE=0.34\n"
     ]
    },
    {
     "name": "stderr",
     "output_type": "stream",
     "text": [
      "Epoch 145/500 [Train]: 100%|██████████| 162/162 [00:45<00:00,  3.57it/s]\n",
      "Evaluating\t: 100%|██████████| 21/21 [00:03<00:00,  5.87it/s]\n"
     ]
    },
    {
     "name": "stdout",
     "output_type": "stream",
     "text": [
      "Epoch 145/500 | LR: 1.25e-05 | Train L=0.3223 CI=0.7086 MSE=0.59 MAE=0.51 | Val L=0.2156 CI=0.8032 MSE=0.40 MAE=0.34\n"
     ]
    },
    {
     "name": "stderr",
     "output_type": "stream",
     "text": [
      "Epoch 146/500 [Train]: 100%|██████████| 162/162 [00:45<00:00,  3.56it/s]\n",
      "Evaluating\t: 100%|██████████| 21/21 [00:03<00:00,  5.89it/s]\n"
     ]
    },
    {
     "name": "stdout",
     "output_type": "stream",
     "text": [
      "Epoch 146/500 | LR: 1.25e-05 | Train L=0.3221 CI=0.7031 MSE=0.59 MAE=0.51 | Val L=0.2161 CI=0.8076 MSE=0.39 MAE=0.36\n"
     ]
    },
    {
     "name": "stderr",
     "output_type": "stream",
     "text": [
      "Epoch 147/500 [Train]: 100%|██████████| 162/162 [00:45<00:00,  3.57it/s]\n",
      "Evaluating\t: 100%|██████████| 21/21 [00:03<00:00,  5.68it/s]\n"
     ]
    },
    {
     "name": "stdout",
     "output_type": "stream",
     "text": [
      "Epoch 147/500 | LR: 1.25e-05 | Train L=0.3227 CI=0.6967 MSE=0.60 MAE=0.51 | Val L=0.2153 CI=0.8069 MSE=0.40 MAE=0.34\n"
     ]
    },
    {
     "name": "stderr",
     "output_type": "stream",
     "text": [
      "Epoch 148/500 [Train]: 100%|██████████| 162/162 [00:45<00:00,  3.56it/s]\n",
      "Evaluating\t: 100%|██████████| 21/21 [00:03<00:00,  5.87it/s]\n"
     ]
    },
    {
     "name": "stdout",
     "output_type": "stream",
     "text": [
      "Epoch 148/500 | LR: 1.25e-05 | Train L=0.3219 CI=0.7007 MSE=0.59 MAE=0.51 | Val L=0.2163 CI=0.8048 MSE=0.40 MAE=0.34\n"
     ]
    },
    {
     "name": "stderr",
     "output_type": "stream",
     "text": [
      "Epoch 149/500 [Train]: 100%|██████████| 162/162 [00:45<00:00,  3.56it/s]\n",
      "Evaluating\t: 100%|██████████| 21/21 [00:03<00:00,  5.91it/s]\n"
     ]
    },
    {
     "name": "stdout",
     "output_type": "stream",
     "text": [
      "Epoch 149/500 | LR: 1.25e-05 | Train L=0.3214 CI=0.7056 MSE=0.59 MAE=0.51 | Val L=0.2144 CI=0.8077 MSE=0.40 MAE=0.34\n",
      "  Best validation loss improved to 0.2144. Model saved to ../models/gat_cd4c_davis_graphs.pth\n"
     ]
    },
    {
     "name": "stderr",
     "output_type": "stream",
     "text": [
      "Epoch 150/500 [Train]: 100%|██████████| 162/162 [00:45<00:00,  3.57it/s]\n",
      "Evaluating\t: 100%|██████████| 21/21 [00:03<00:00,  5.80it/s]\n"
     ]
    },
    {
     "name": "stdout",
     "output_type": "stream",
     "text": [
      "Epoch 150/500 | LR: 1.25e-05 | Train L=0.3209 CI=0.7053 MSE=0.59 MAE=0.50 | Val L=0.2143 CI=0.8079 MSE=0.40 MAE=0.34\n",
      "  Best validation loss improved to 0.2143. Model saved to ../models/gat_cd4c_davis_graphs.pth\n"
     ]
    },
    {
     "name": "stderr",
     "output_type": "stream",
     "text": [
      "Epoch 151/500 [Train]: 100%|██████████| 162/162 [00:45<00:00,  3.56it/s]\n",
      "Evaluating\t: 100%|██████████| 21/21 [00:03<00:00,  5.88it/s]\n"
     ]
    },
    {
     "name": "stdout",
     "output_type": "stream",
     "text": [
      "Epoch 151/500 | LR: 1.25e-05 | Train L=0.3216 CI=0.7031 MSE=0.59 MAE=0.51 | Val L=0.2148 CI=0.8075 MSE=0.39 MAE=0.35\n"
     ]
    },
    {
     "name": "stderr",
     "output_type": "stream",
     "text": [
      "Epoch 152/500 [Train]: 100%|██████████| 162/162 [00:45<00:00,  3.56it/s]\n",
      "Evaluating\t: 100%|██████████| 21/21 [00:03<00:00,  5.88it/s]\n"
     ]
    },
    {
     "name": "stdout",
     "output_type": "stream",
     "text": [
      "Epoch 152/500 | LR: 1.25e-05 | Train L=0.3170 CI=0.7033 MSE=0.59 MAE=0.50 | Val L=0.2137 CI=0.8087 MSE=0.39 MAE=0.34\n",
      "  Best validation loss improved to 0.2137. Model saved to ../models/gat_cd4c_davis_graphs.pth\n"
     ]
    },
    {
     "name": "stderr",
     "output_type": "stream",
     "text": [
      "Epoch 153/500 [Train]: 100%|██████████| 162/162 [00:45<00:00,  3.57it/s]\n",
      "Evaluating\t: 100%|██████████| 21/21 [00:03<00:00,  5.90it/s]\n"
     ]
    },
    {
     "name": "stdout",
     "output_type": "stream",
     "text": [
      "Epoch 153/500 | LR: 1.25e-05 | Train L=0.3208 CI=0.7068 MSE=0.58 MAE=0.51 | Val L=0.2142 CI=0.8080 MSE=0.40 MAE=0.34\n"
     ]
    },
    {
     "name": "stderr",
     "output_type": "stream",
     "text": [
      "Epoch 154/500 [Train]: 100%|██████████| 162/162 [00:45<00:00,  3.57it/s]\n",
      "Evaluating\t: 100%|██████████| 21/21 [00:03<00:00,  5.87it/s]\n"
     ]
    },
    {
     "name": "stdout",
     "output_type": "stream",
     "text": [
      "Epoch 154/500 | LR: 1.25e-05 | Train L=0.3190 CI=0.7053 MSE=0.59 MAE=0.50 | Val L=0.2159 CI=0.8062 MSE=0.39 MAE=0.36\n"
     ]
    },
    {
     "name": "stderr",
     "output_type": "stream",
     "text": [
      "Epoch 155/500 [Train]: 100%|██████████| 162/162 [00:45<00:00,  3.55it/s]\n",
      "Evaluating\t: 100%|██████████| 21/21 [00:03<00:00,  5.91it/s]\n"
     ]
    },
    {
     "name": "stdout",
     "output_type": "stream",
     "text": [
      "Epoch 155/500 | LR: 1.25e-05 | Train L=0.3208 CI=0.7070 MSE=0.59 MAE=0.50 | Val L=0.2144 CI=0.8062 MSE=0.40 MAE=0.33\n"
     ]
    },
    {
     "name": "stderr",
     "output_type": "stream",
     "text": [
      "Epoch 156/500 [Train]: 100%|██████████| 162/162 [00:45<00:00,  3.57it/s]\n",
      "Evaluating\t: 100%|██████████| 21/21 [00:03<00:00,  5.66it/s]\n"
     ]
    },
    {
     "name": "stdout",
     "output_type": "stream",
     "text": [
      "Epoch 156/500 | LR: 1.25e-05 | Train L=0.3195 CI=0.7068 MSE=0.59 MAE=0.50 | Val L=0.2164 CI=0.8069 MSE=0.39 MAE=0.35\n"
     ]
    },
    {
     "name": "stderr",
     "output_type": "stream",
     "text": [
      "Epoch 157/500 [Train]: 100%|██████████| 162/162 [00:45<00:00,  3.57it/s]\n",
      "Evaluating\t: 100%|██████████| 21/21 [00:03<00:00,  5.89it/s]\n"
     ]
    },
    {
     "name": "stdout",
     "output_type": "stream",
     "text": [
      "Epoch 157/500 | LR: 1.25e-05 | Train L=0.3181 CI=0.7057 MSE=0.58 MAE=0.50 | Val L=0.2157 CI=0.8066 MSE=0.40 MAE=0.34\n"
     ]
    },
    {
     "name": "stderr",
     "output_type": "stream",
     "text": [
      "Epoch 158/500 [Train]: 100%|██████████| 162/162 [00:45<00:00,  3.54it/s]\n",
      "Evaluating\t: 100%|██████████| 21/21 [00:03<00:00,  5.73it/s]\n"
     ]
    },
    {
     "name": "stdout",
     "output_type": "stream",
     "text": [
      "Epoch 158/500 | LR: 1.25e-05 | Train L=0.3186 CI=0.7086 MSE=0.58 MAE=0.50 | Val L=0.2153 CI=0.8080 MSE=0.39 MAE=0.35\n"
     ]
    },
    {
     "name": "stderr",
     "output_type": "stream",
     "text": [
      "Epoch 159/500 [Train]: 100%|██████████| 162/162 [00:45<00:00,  3.57it/s]\n",
      "Evaluating\t: 100%|██████████| 21/21 [00:03<00:00,  5.72it/s]\n"
     ]
    },
    {
     "name": "stdout",
     "output_type": "stream",
     "text": [
      "Epoch 159/500 | LR: 1.25e-05 | Train L=0.3169 CI=0.7069 MSE=0.58 MAE=0.50 | Val L=0.2147 CI=0.8072 MSE=0.39 MAE=0.34\n"
     ]
    },
    {
     "name": "stderr",
     "output_type": "stream",
     "text": [
      "Epoch 160/500 [Train]: 100%|██████████| 162/162 [00:45<00:00,  3.58it/s]\n",
      "Evaluating\t: 100%|██████████| 21/21 [00:03<00:00,  5.87it/s]\n"
     ]
    },
    {
     "name": "stdout",
     "output_type": "stream",
     "text": [
      "Epoch 160/500 | LR: 1.25e-05 | Train L=0.3182 CI=0.7052 MSE=0.58 MAE=0.50 | Val L=0.2141 CI=0.8060 MSE=0.40 MAE=0.34\n"
     ]
    },
    {
     "name": "stderr",
     "output_type": "stream",
     "text": [
      "Epoch 161/500 [Train]: 100%|██████████| 162/162 [00:45<00:00,  3.53it/s]\n",
      "Evaluating\t: 100%|██████████| 21/21 [00:03<00:00,  5.76it/s]\n"
     ]
    },
    {
     "name": "stdout",
     "output_type": "stream",
     "text": [
      "Epoch 161/500 | LR: 1.25e-05 | Train L=0.3169 CI=0.7118 MSE=0.58 MAE=0.50 | Val L=0.2144 CI=0.8075 MSE=0.40 MAE=0.34\n"
     ]
    },
    {
     "name": "stderr",
     "output_type": "stream",
     "text": [
      "Epoch 162/500 [Train]: 100%|██████████| 162/162 [00:45<00:00,  3.57it/s]\n",
      "Evaluating\t: 100%|██████████| 21/21 [00:03<00:00,  5.79it/s]\n"
     ]
    },
    {
     "name": "stdout",
     "output_type": "stream",
     "text": [
      "Epoch 162/500 | LR: 1.25e-05 | Train L=0.3205 CI=0.7017 MSE=0.59 MAE=0.50 | Val L=0.2141 CI=0.8088 MSE=0.39 MAE=0.35\n"
     ]
    },
    {
     "name": "stderr",
     "output_type": "stream",
     "text": [
      "Epoch 163/500 [Train]: 100%|██████████| 162/162 [00:45<00:00,  3.58it/s]\n",
      "Evaluating\t: 100%|██████████| 21/21 [00:03<00:00,  5.86it/s]\n"
     ]
    },
    {
     "name": "stdout",
     "output_type": "stream",
     "text": [
      "Epoch 163/500 | LR: 6.25e-06 | Train L=0.3200 CI=0.7052 MSE=0.59 MAE=0.50 | Val L=0.2153 CI=0.8047 MSE=0.41 MAE=0.33\n"
     ]
    },
    {
     "name": "stderr",
     "output_type": "stream",
     "text": [
      "Epoch 164/500 [Train]: 100%|██████████| 162/162 [00:45<00:00,  3.53it/s]\n",
      "Evaluating\t: 100%|██████████| 21/21 [00:03<00:00,  5.89it/s]\n"
     ]
    },
    {
     "name": "stdout",
     "output_type": "stream",
     "text": [
      "Epoch 164/500 | LR: 6.25e-06 | Train L=0.3163 CI=0.7077 MSE=0.58 MAE=0.50 | Val L=0.2135 CI=0.8081 MSE=0.40 MAE=0.34\n",
      "  Best validation loss improved to 0.2135. Model saved to ../models/gat_cd4c_davis_graphs.pth\n"
     ]
    },
    {
     "name": "stderr",
     "output_type": "stream",
     "text": [
      "Epoch 165/500 [Train]: 100%|██████████| 162/162 [00:45<00:00,  3.58it/s]\n",
      "Evaluating\t: 100%|██████████| 21/21 [00:03<00:00,  5.73it/s]\n"
     ]
    },
    {
     "name": "stdout",
     "output_type": "stream",
     "text": [
      "Epoch 165/500 | LR: 6.25e-06 | Train L=0.3181 CI=0.7056 MSE=0.58 MAE=0.50 | Val L=0.2135 CI=0.8084 MSE=0.39 MAE=0.34\n",
      "  Best validation loss improved to 0.2135. Model saved to ../models/gat_cd4c_davis_graphs.pth\n"
     ]
    },
    {
     "name": "stderr",
     "output_type": "stream",
     "text": [
      "Epoch 166/500 [Train]: 100%|██████████| 162/162 [00:45<00:00,  3.57it/s]\n",
      "Evaluating\t: 100%|██████████| 21/21 [00:03<00:00,  5.89it/s]\n"
     ]
    },
    {
     "name": "stdout",
     "output_type": "stream",
     "text": [
      "Epoch 166/500 | LR: 6.25e-06 | Train L=0.3162 CI=0.7076 MSE=0.58 MAE=0.50 | Val L=0.2127 CI=0.8054 MSE=0.39 MAE=0.34\n",
      "  Best validation loss improved to 0.2127. Model saved to ../models/gat_cd4c_davis_graphs.pth\n"
     ]
    },
    {
     "name": "stderr",
     "output_type": "stream",
     "text": [
      "Epoch 167/500 [Train]: 100%|██████████| 162/162 [00:45<00:00,  3.53it/s]\n",
      "Evaluating\t: 100%|██████████| 21/21 [00:03<00:00,  5.89it/s]\n"
     ]
    },
    {
     "name": "stdout",
     "output_type": "stream",
     "text": [
      "Epoch 167/500 | LR: 6.25e-06 | Train L=0.3169 CI=0.7013 MSE=0.59 MAE=0.50 | Val L=0.2145 CI=0.8115 MSE=0.39 MAE=0.34\n"
     ]
    },
    {
     "name": "stderr",
     "output_type": "stream",
     "text": [
      "Epoch 168/500 [Train]: 100%|██████████| 162/162 [00:45<00:00,  3.57it/s]\n",
      "Evaluating\t: 100%|██████████| 21/21 [00:03<00:00,  5.89it/s]\n"
     ]
    },
    {
     "name": "stdout",
     "output_type": "stream",
     "text": [
      "Epoch 168/500 | LR: 6.25e-06 | Train L=0.3170 CI=0.7075 MSE=0.59 MAE=0.50 | Val L=0.2138 CI=0.8085 MSE=0.39 MAE=0.34\n"
     ]
    },
    {
     "name": "stderr",
     "output_type": "stream",
     "text": [
      "Epoch 169/500 [Train]: 100%|██████████| 162/162 [00:45<00:00,  3.58it/s]\n",
      "Evaluating\t: 100%|██████████| 21/21 [00:03<00:00,  5.67it/s]\n"
     ]
    },
    {
     "name": "stdout",
     "output_type": "stream",
     "text": [
      "Epoch 169/500 | LR: 6.25e-06 | Train L=0.3194 CI=0.7069 MSE=0.58 MAE=0.50 | Val L=0.2145 CI=0.8088 MSE=0.40 MAE=0.33\n"
     ]
    },
    {
     "name": "stderr",
     "output_type": "stream",
     "text": [
      "Epoch 170/500 [Train]: 100%|██████████| 162/162 [00:45<00:00,  3.56it/s]\n",
      "Evaluating\t: 100%|██████████| 21/21 [00:03<00:00,  5.71it/s]\n"
     ]
    },
    {
     "name": "stdout",
     "output_type": "stream",
     "text": [
      "Epoch 170/500 | LR: 6.25e-06 | Train L=0.3158 CI=0.7118 MSE=0.57 MAE=0.50 | Val L=0.2138 CI=0.8046 MSE=0.40 MAE=0.34\n"
     ]
    },
    {
     "name": "stderr",
     "output_type": "stream",
     "text": [
      "Epoch 171/500 [Train]: 100%|██████████| 162/162 [00:45<00:00,  3.57it/s]\n",
      "Evaluating\t: 100%|██████████| 21/21 [00:03<00:00,  5.74it/s]\n"
     ]
    },
    {
     "name": "stdout",
     "output_type": "stream",
     "text": [
      "Epoch 171/500 | LR: 6.25e-06 | Train L=0.3148 CI=0.7073 MSE=0.58 MAE=0.50 | Val L=0.2133 CI=0.8081 MSE=0.39 MAE=0.34\n"
     ]
    },
    {
     "name": "stderr",
     "output_type": "stream",
     "text": [
      "Epoch 172/500 [Train]: 100%|██████████| 162/162 [00:45<00:00,  3.56it/s]\n",
      "Evaluating\t: 100%|██████████| 21/21 [00:03<00:00,  5.88it/s]\n"
     ]
    },
    {
     "name": "stdout",
     "output_type": "stream",
     "text": [
      "Epoch 172/500 | LR: 6.25e-06 | Train L=0.3150 CI=0.7083 MSE=0.58 MAE=0.50 | Val L=0.2143 CI=0.8081 MSE=0.40 MAE=0.34\n"
     ]
    },
    {
     "name": "stderr",
     "output_type": "stream",
     "text": [
      "Epoch 173/500 [Train]: 100%|██████████| 162/162 [00:45<00:00,  3.56it/s]\n",
      "Evaluating\t: 100%|██████████| 21/21 [00:03<00:00,  5.89it/s]\n"
     ]
    },
    {
     "name": "stdout",
     "output_type": "stream",
     "text": [
      "Epoch 173/500 | LR: 6.25e-06 | Train L=0.3161 CI=0.7075 MSE=0.58 MAE=0.50 | Val L=0.2134 CI=0.8100 MSE=0.39 MAE=0.34\n"
     ]
    },
    {
     "name": "stderr",
     "output_type": "stream",
     "text": [
      "Epoch 174/500 [Train]: 100%|██████████| 162/162 [00:45<00:00,  3.57it/s]\n",
      "Evaluating\t: 100%|██████████| 21/21 [00:03<00:00,  5.67it/s]\n"
     ]
    },
    {
     "name": "stdout",
     "output_type": "stream",
     "text": [
      "Epoch 174/500 | LR: 6.25e-06 | Train L=0.3187 CI=0.7071 MSE=0.58 MAE=0.50 | Val L=0.2134 CI=0.8099 MSE=0.39 MAE=0.34\n"
     ]
    },
    {
     "name": "stderr",
     "output_type": "stream",
     "text": [
      "Epoch 175/500 [Train]: 100%|██████████| 162/162 [00:45<00:00,  3.56it/s]\n",
      "Evaluating\t: 100%|██████████| 21/21 [00:03<00:00,  5.68it/s]\n"
     ]
    },
    {
     "name": "stdout",
     "output_type": "stream",
     "text": [
      "Epoch 175/500 | LR: 6.25e-06 | Train L=0.3169 CI=0.7093 MSE=0.58 MAE=0.50 | Val L=0.2143 CI=0.8089 MSE=0.39 MAE=0.34\n"
     ]
    },
    {
     "name": "stderr",
     "output_type": "stream",
     "text": [
      "Epoch 176/500 [Train]: 100%|██████████| 162/162 [00:45<00:00,  3.57it/s]\n",
      "Evaluating\t: 100%|██████████| 21/21 [00:03<00:00,  5.88it/s]\n"
     ]
    },
    {
     "name": "stdout",
     "output_type": "stream",
     "text": [
      "Epoch 176/500 | LR: 6.25e-06 | Train L=0.3139 CI=0.7122 MSE=0.57 MAE=0.50 | Val L=0.2133 CI=0.8099 MSE=0.39 MAE=0.34\n"
     ]
    },
    {
     "name": "stderr",
     "output_type": "stream",
     "text": [
      "Epoch 177/500 [Train]: 100%|██████████| 162/162 [00:45<00:00,  3.57it/s]\n",
      "Evaluating\t: 100%|██████████| 21/21 [00:03<00:00,  5.91it/s]\n"
     ]
    },
    {
     "name": "stdout",
     "output_type": "stream",
     "text": [
      "Epoch 177/500 | LR: 3.13e-06 | Train L=0.3148 CI=0.7089 MSE=0.58 MAE=0.50 | Val L=0.2139 CI=0.8094 MSE=0.39 MAE=0.34\n"
     ]
    },
    {
     "name": "stderr",
     "output_type": "stream",
     "text": [
      "Epoch 178/500 [Train]: 100%|██████████| 162/162 [00:45<00:00,  3.57it/s]\n",
      "Evaluating\t: 100%|██████████| 21/21 [00:03<00:00,  5.89it/s]\n"
     ]
    },
    {
     "name": "stdout",
     "output_type": "stream",
     "text": [
      "Epoch 178/500 | LR: 3.13e-06 | Train L=0.3131 CI=0.7125 MSE=0.57 MAE=0.50 | Val L=0.2135 CI=0.8086 MSE=0.39 MAE=0.34\n"
     ]
    },
    {
     "name": "stderr",
     "output_type": "stream",
     "text": [
      "Epoch 179/500 [Train]: 100%|██████████| 162/162 [00:45<00:00,  3.58it/s]\n",
      "Evaluating\t: 100%|██████████| 21/21 [00:03<00:00,  5.80it/s]\n"
     ]
    },
    {
     "name": "stdout",
     "output_type": "stream",
     "text": [
      "Epoch 179/500 | LR: 3.13e-06 | Train L=0.3165 CI=0.7056 MSE=0.58 MAE=0.50 | Val L=0.2135 CI=0.8078 MSE=0.39 MAE=0.34\n"
     ]
    },
    {
     "name": "stderr",
     "output_type": "stream",
     "text": [
      "Epoch 180/500 [Train]: 100%|██████████| 162/162 [00:45<00:00,  3.57it/s]\n",
      "Evaluating\t: 100%|██████████| 21/21 [00:03<00:00,  5.78it/s]\n"
     ]
    },
    {
     "name": "stdout",
     "output_type": "stream",
     "text": [
      "Epoch 180/500 | LR: 3.13e-06 | Train L=0.3145 CI=0.7097 MSE=0.57 MAE=0.50 | Val L=0.2132 CI=0.8098 MSE=0.39 MAE=0.34\n"
     ]
    },
    {
     "name": "stderr",
     "output_type": "stream",
     "text": [
      "Epoch 181/500 [Train]: 100%|██████████| 162/162 [00:45<00:00,  3.57it/s]\n",
      "Evaluating\t: 100%|██████████| 21/21 [00:03<00:00,  5.65it/s]\n"
     ]
    },
    {
     "name": "stdout",
     "output_type": "stream",
     "text": [
      "Epoch 181/500 | LR: 3.13e-06 | Train L=0.3133 CI=0.7087 MSE=0.57 MAE=0.50 | Val L=0.2134 CI=0.8103 MSE=0.39 MAE=0.34\n"
     ]
    },
    {
     "name": "stderr",
     "output_type": "stream",
     "text": [
      "Epoch 182/500 [Train]: 100%|██████████| 162/162 [00:45<00:00,  3.57it/s]\n",
      "Evaluating\t: 100%|██████████| 21/21 [00:03<00:00,  5.82it/s]\n"
     ]
    },
    {
     "name": "stdout",
     "output_type": "stream",
     "text": [
      "Epoch 182/500 | LR: 3.13e-06 | Train L=0.3151 CI=0.7112 MSE=0.58 MAE=0.50 | Val L=0.2132 CI=0.8086 MSE=0.39 MAE=0.34\n"
     ]
    },
    {
     "name": "stderr",
     "output_type": "stream",
     "text": [
      "Epoch 183/500 [Train]: 100%|██████████| 162/162 [00:45<00:00,  3.58it/s]\n",
      "Evaluating\t: 100%|██████████| 21/21 [00:03<00:00,  5.87it/s]\n"
     ]
    },
    {
     "name": "stdout",
     "output_type": "stream",
     "text": [
      "Epoch 183/500 | LR: 3.13e-06 | Train L=0.3151 CI=0.7075 MSE=0.58 MAE=0.50 | Val L=0.2132 CI=0.8093 MSE=0.39 MAE=0.34\n"
     ]
    },
    {
     "name": "stderr",
     "output_type": "stream",
     "text": [
      "Epoch 184/500 [Train]: 100%|██████████| 162/162 [00:45<00:00,  3.58it/s]\n",
      "Evaluating\t: 100%|██████████| 21/21 [00:03<00:00,  5.68it/s]\n"
     ]
    },
    {
     "name": "stdout",
     "output_type": "stream",
     "text": [
      "Epoch 184/500 | LR: 3.13e-06 | Train L=0.3154 CI=0.7060 MSE=0.58 MAE=0.50 | Val L=0.2127 CI=0.8091 MSE=0.39 MAE=0.34\n"
     ]
    },
    {
     "name": "stderr",
     "output_type": "stream",
     "text": [
      "Epoch 185/500 [Train]: 100%|██████████| 162/162 [00:45<00:00,  3.58it/s]\n",
      "Evaluating\t: 100%|██████████| 21/21 [00:03<00:00,  5.86it/s]\n"
     ]
    },
    {
     "name": "stdout",
     "output_type": "stream",
     "text": [
      "Epoch 185/500 | LR: 3.13e-06 | Train L=0.3137 CI=0.7078 MSE=0.58 MAE=0.50 | Val L=0.2126 CI=0.8076 MSE=0.39 MAE=0.34\n",
      "  Best validation loss improved to 0.2126. Model saved to ../models/gat_cd4c_davis_graphs.pth\n"
     ]
    },
    {
     "name": "stderr",
     "output_type": "stream",
     "text": [
      "Epoch 186/500 [Train]: 100%|██████████| 162/162 [00:45<00:00,  3.60it/s]\n",
      "Evaluating\t: 100%|██████████| 21/21 [00:03<00:00,  5.89it/s]\n"
     ]
    },
    {
     "name": "stdout",
     "output_type": "stream",
     "text": [
      "Epoch 186/500 | LR: 3.13e-06 | Train L=0.3151 CI=0.7117 MSE=0.58 MAE=0.50 | Val L=0.2130 CI=0.8088 MSE=0.39 MAE=0.34\n"
     ]
    },
    {
     "name": "stderr",
     "output_type": "stream",
     "text": [
      "Epoch 187/500 [Train]: 100%|██████████| 162/162 [00:45<00:00,  3.57it/s]\n",
      "Evaluating\t: 100%|██████████| 21/21 [00:03<00:00,  5.86it/s]\n"
     ]
    },
    {
     "name": "stdout",
     "output_type": "stream",
     "text": [
      "Epoch 187/500 | LR: 3.13e-06 | Train L=0.3143 CI=0.7100 MSE=0.57 MAE=0.50 | Val L=0.2135 CI=0.8074 MSE=0.40 MAE=0.33\n"
     ]
    },
    {
     "name": "stderr",
     "output_type": "stream",
     "text": [
      "Epoch 188/500 [Train]: 100%|██████████| 162/162 [00:45<00:00,  3.57it/s]\n",
      "Evaluating\t: 100%|██████████| 21/21 [00:03<00:00,  5.66it/s]\n"
     ]
    },
    {
     "name": "stdout",
     "output_type": "stream",
     "text": [
      "Epoch 188/500 | LR: 3.13e-06 | Train L=0.3149 CI=0.7056 MSE=0.58 MAE=0.50 | Val L=0.2123 CI=0.8092 MSE=0.39 MAE=0.34\n",
      "  Best validation loss improved to 0.2123. Model saved to ../models/gat_cd4c_davis_graphs.pth\n"
     ]
    },
    {
     "name": "stderr",
     "output_type": "stream",
     "text": [
      "Epoch 189/500 [Train]: 100%|██████████| 162/162 [00:45<00:00,  3.58it/s]\n",
      "Evaluating\t: 100%|██████████| 21/21 [00:03<00:00,  5.71it/s]\n"
     ]
    },
    {
     "name": "stdout",
     "output_type": "stream",
     "text": [
      "Epoch 189/500 | LR: 3.13e-06 | Train L=0.3178 CI=0.7045 MSE=0.59 MAE=0.50 | Val L=0.2127 CI=0.8093 MSE=0.39 MAE=0.34\n"
     ]
    },
    {
     "name": "stderr",
     "output_type": "stream",
     "text": [
      "Epoch 190/500 [Train]: 100%|██████████| 162/162 [00:45<00:00,  3.55it/s]\n",
      "Evaluating\t: 100%|██████████| 21/21 [00:03<00:00,  5.88it/s]\n"
     ]
    },
    {
     "name": "stdout",
     "output_type": "stream",
     "text": [
      "Epoch 190/500 | LR: 3.13e-06 | Train L=0.3164 CI=0.7073 MSE=0.58 MAE=0.50 | Val L=0.2126 CI=0.8090 MSE=0.39 MAE=0.34\n"
     ]
    },
    {
     "name": "stderr",
     "output_type": "stream",
     "text": [
      "Epoch 191/500 [Train]: 100%|██████████| 162/162 [00:45<00:00,  3.59it/s]\n",
      "Evaluating\t: 100%|██████████| 21/21 [00:03<00:00,  5.74it/s]\n"
     ]
    },
    {
     "name": "stdout",
     "output_type": "stream",
     "text": [
      "Epoch 191/500 | LR: 3.13e-06 | Train L=0.3161 CI=0.7072 MSE=0.58 MAE=0.50 | Val L=0.2122 CI=0.8093 MSE=0.39 MAE=0.34\n",
      "  Best validation loss improved to 0.2122. Model saved to ../models/gat_cd4c_davis_graphs.pth\n"
     ]
    },
    {
     "name": "stderr",
     "output_type": "stream",
     "text": [
      "Epoch 192/500 [Train]: 100%|██████████| 162/162 [00:45<00:00,  3.58it/s]\n",
      "Evaluating\t: 100%|██████████| 21/21 [00:03<00:00,  5.86it/s]\n"
     ]
    },
    {
     "name": "stdout",
     "output_type": "stream",
     "text": [
      "Epoch 192/500 | LR: 3.13e-06 | Train L=0.3158 CI=0.7072 MSE=0.58 MAE=0.50 | Val L=0.2128 CI=0.8091 MSE=0.39 MAE=0.34\n"
     ]
    },
    {
     "name": "stderr",
     "output_type": "stream",
     "text": [
      "Epoch 193/500 [Train]: 100%|██████████| 162/162 [00:45<00:00,  3.55it/s]\n",
      "Evaluating\t: 100%|██████████| 21/21 [00:03<00:00,  5.62it/s]\n"
     ]
    },
    {
     "name": "stdout",
     "output_type": "stream",
     "text": [
      "Epoch 193/500 | LR: 3.13e-06 | Train L=0.3153 CI=0.7065 MSE=0.58 MAE=0.50 | Val L=0.2127 CI=0.8078 MSE=0.39 MAE=0.34\n"
     ]
    },
    {
     "name": "stderr",
     "output_type": "stream",
     "text": [
      "Epoch 194/500 [Train]: 100%|██████████| 162/162 [00:45<00:00,  3.59it/s]\n",
      "Evaluating\t: 100%|██████████| 21/21 [00:03<00:00,  5.87it/s]\n"
     ]
    },
    {
     "name": "stdout",
     "output_type": "stream",
     "text": [
      "Epoch 194/500 | LR: 3.13e-06 | Train L=0.3159 CI=0.7092 MSE=0.58 MAE=0.50 | Val L=0.2122 CI=0.8090 MSE=0.39 MAE=0.34\n",
      "  Best validation loss improved to 0.2122. Model saved to ../models/gat_cd4c_davis_graphs.pth\n"
     ]
    },
    {
     "name": "stderr",
     "output_type": "stream",
     "text": [
      "Epoch 195/500 [Train]: 100%|██████████| 162/162 [00:45<00:00,  3.59it/s]\n",
      "Evaluating\t: 100%|██████████| 21/21 [00:03<00:00,  5.86it/s]\n"
     ]
    },
    {
     "name": "stdout",
     "output_type": "stream",
     "text": [
      "Epoch 195/500 | LR: 3.13e-06 | Train L=0.3161 CI=0.7081 MSE=0.58 MAE=0.50 | Val L=0.2121 CI=0.8101 MSE=0.39 MAE=0.34\n",
      "  Best validation loss improved to 0.2121. Model saved to ../models/gat_cd4c_davis_graphs.pth\n"
     ]
    },
    {
     "name": "stderr",
     "output_type": "stream",
     "text": [
      "Epoch 196/500 [Train]: 100%|██████████| 162/162 [00:45<00:00,  3.55it/s]\n",
      "Evaluating\t: 100%|██████████| 21/21 [00:03<00:00,  5.88it/s]\n"
     ]
    },
    {
     "name": "stdout",
     "output_type": "stream",
     "text": [
      "Epoch 196/500 | LR: 3.13e-06 | Train L=0.3154 CI=0.7089 MSE=0.58 MAE=0.50 | Val L=0.2128 CI=0.8089 MSE=0.39 MAE=0.34\n"
     ]
    },
    {
     "name": "stderr",
     "output_type": "stream",
     "text": [
      "Epoch 197/500 [Train]: 100%|██████████| 162/162 [00:45<00:00,  3.59it/s]\n",
      "Evaluating\t: 100%|██████████| 21/21 [00:03<00:00,  5.81it/s]\n"
     ]
    },
    {
     "name": "stdout",
     "output_type": "stream",
     "text": [
      "Epoch 197/500 | LR: 3.13e-06 | Train L=0.3154 CI=0.7127 MSE=0.58 MAE=0.50 | Val L=0.2127 CI=0.8093 MSE=0.39 MAE=0.34\n"
     ]
    },
    {
     "name": "stderr",
     "output_type": "stream",
     "text": [
      "Epoch 198/500 [Train]: 100%|██████████| 162/162 [00:45<00:00,  3.58it/s]\n",
      "Evaluating\t: 100%|██████████| 21/21 [00:03<00:00,  5.85it/s]\n"
     ]
    },
    {
     "name": "stdout",
     "output_type": "stream",
     "text": [
      "Epoch 198/500 | LR: 3.13e-06 | Train L=0.3156 CI=0.7056 MSE=0.58 MAE=0.50 | Val L=0.2129 CI=0.8097 MSE=0.39 MAE=0.34\n"
     ]
    },
    {
     "name": "stderr",
     "output_type": "stream",
     "text": [
      "Epoch 199/500 [Train]: 100%|██████████| 162/162 [00:45<00:00,  3.55it/s]\n",
      "Evaluating\t: 100%|██████████| 21/21 [00:03<00:00,  5.87it/s]\n"
     ]
    },
    {
     "name": "stdout",
     "output_type": "stream",
     "text": [
      "Epoch 199/500 | LR: 3.13e-06 | Train L=0.3158 CI=0.7083 MSE=0.58 MAE=0.50 | Val L=0.2124 CI=0.8110 MSE=0.39 MAE=0.34\n"
     ]
    },
    {
     "name": "stderr",
     "output_type": "stream",
     "text": [
      "Epoch 200/500 [Train]: 100%|██████████| 162/162 [00:45<00:00,  3.58it/s]\n",
      "Evaluating\t: 100%|██████████| 21/21 [00:03<00:00,  5.91it/s]\n"
     ]
    },
    {
     "name": "stdout",
     "output_type": "stream",
     "text": [
      "Epoch 200/500 | LR: 3.13e-06 | Train L=0.3180 CI=0.7075 MSE=0.58 MAE=0.50 | Val L=0.2127 CI=0.8113 MSE=0.40 MAE=0.33\n"
     ]
    },
    {
     "name": "stderr",
     "output_type": "stream",
     "text": [
      "Epoch 201/500 [Train]: 100%|██████████| 162/162 [00:45<00:00,  3.59it/s]\n",
      "Evaluating\t: 100%|██████████| 21/21 [00:03<00:00,  5.78it/s]\n"
     ]
    },
    {
     "name": "stdout",
     "output_type": "stream",
     "text": [
      "Epoch 201/500 | LR: 3.13e-06 | Train L=0.3148 CI=0.7086 MSE=0.58 MAE=0.50 | Val L=0.2123 CI=0.8104 MSE=0.39 MAE=0.34\n"
     ]
    },
    {
     "name": "stderr",
     "output_type": "stream",
     "text": [
      "Epoch 202/500 [Train]: 100%|██████████| 162/162 [00:45<00:00,  3.54it/s]\n",
      "Evaluating\t: 100%|██████████| 21/21 [00:03<00:00,  5.76it/s]\n"
     ]
    },
    {
     "name": "stdout",
     "output_type": "stream",
     "text": [
      "Epoch 202/500 | LR: 3.13e-06 | Train L=0.3160 CI=0.7076 MSE=0.58 MAE=0.50 | Val L=0.2122 CI=0.8097 MSE=0.39 MAE=0.34\n"
     ]
    },
    {
     "name": "stderr",
     "output_type": "stream",
     "text": [
      "Epoch 203/500 [Train]: 100%|██████████| 162/162 [00:45<00:00,  3.58it/s]\n",
      "Evaluating\t: 100%|██████████| 21/21 [00:03<00:00,  5.85it/s]\n"
     ]
    },
    {
     "name": "stdout",
     "output_type": "stream",
     "text": [
      "Epoch 203/500 | LR: 3.13e-06 | Train L=0.3134 CI=0.7093 MSE=0.57 MAE=0.50 | Val L=0.2127 CI=0.8103 MSE=0.39 MAE=0.34\n"
     ]
    },
    {
     "name": "stderr",
     "output_type": "stream",
     "text": [
      "Epoch 204/500 [Train]: 100%|██████████| 162/162 [00:45<00:00,  3.59it/s]\n",
      "Evaluating\t: 100%|██████████| 21/21 [00:03<00:00,  5.86it/s]\n"
     ]
    },
    {
     "name": "stdout",
     "output_type": "stream",
     "text": [
      "Epoch 204/500 | LR: 3.13e-06 | Train L=0.3137 CI=0.7099 MSE=0.57 MAE=0.50 | Val L=0.2124 CI=0.8097 MSE=0.39 MAE=0.33\n"
     ]
    },
    {
     "name": "stderr",
     "output_type": "stream",
     "text": [
      "Epoch 205/500 [Train]: 100%|██████████| 162/162 [00:45<00:00,  3.56it/s]\n",
      "Evaluating\t: 100%|██████████| 21/21 [00:03<00:00,  5.86it/s]\n"
     ]
    },
    {
     "name": "stdout",
     "output_type": "stream",
     "text": [
      "Epoch 205/500 | LR: 3.13e-06 | Train L=0.3170 CI=0.7082 MSE=0.58 MAE=0.50 | Val L=0.2124 CI=0.8099 MSE=0.39 MAE=0.34\n"
     ]
    },
    {
     "name": "stderr",
     "output_type": "stream",
     "text": [
      "Epoch 206/500 [Train]: 100%|██████████| 162/162 [00:45<00:00,  3.59it/s]\n",
      "Evaluating\t: 100%|██████████| 21/21 [00:03<00:00,  5.63it/s]\n"
     ]
    },
    {
     "name": "stdout",
     "output_type": "stream",
     "text": [
      "Epoch 206/500 | LR: 1.56e-06 | Train L=0.3147 CI=0.7092 MSE=0.58 MAE=0.50 | Val L=0.2125 CI=0.8103 MSE=0.39 MAE=0.34\n"
     ]
    },
    {
     "name": "stderr",
     "output_type": "stream",
     "text": [
      "Epoch 207/500 [Train]: 100%|██████████| 162/162 [00:45<00:00,  3.59it/s]\n",
      "Evaluating\t: 100%|██████████| 21/21 [00:03<00:00,  5.88it/s]\n"
     ]
    },
    {
     "name": "stdout",
     "output_type": "stream",
     "text": [
      "Epoch 207/500 | LR: 1.56e-06 | Train L=0.3132 CI=0.7126 MSE=0.58 MAE=0.50 | Val L=0.2122 CI=0.8103 MSE=0.39 MAE=0.34\n"
     ]
    },
    {
     "name": "stderr",
     "output_type": "stream",
     "text": [
      "Epoch 208/500 [Train]: 100%|██████████| 162/162 [00:45<00:00,  3.55it/s]\n",
      "Evaluating\t: 100%|██████████| 21/21 [00:03<00:00,  5.72it/s]\n"
     ]
    },
    {
     "name": "stdout",
     "output_type": "stream",
     "text": [
      "Epoch 208/500 | LR: 1.56e-06 | Train L=0.3140 CI=0.7068 MSE=0.58 MAE=0.50 | Val L=0.2120 CI=0.8111 MSE=0.39 MAE=0.34\n",
      "  Best validation loss improved to 0.2120. Model saved to ../models/gat_cd4c_davis_graphs.pth\n"
     ]
    },
    {
     "name": "stderr",
     "output_type": "stream",
     "text": [
      "Epoch 209/500 [Train]: 100%|██████████| 162/162 [00:45<00:00,  3.59it/s]\n",
      "Evaluating\t: 100%|██████████| 21/21 [00:03<00:00,  5.90it/s]\n"
     ]
    },
    {
     "name": "stdout",
     "output_type": "stream",
     "text": [
      "Epoch 209/500 | LR: 1.56e-06 | Train L=0.3125 CI=0.7138 MSE=0.57 MAE=0.50 | Val L=0.2126 CI=0.8096 MSE=0.39 MAE=0.33\n"
     ]
    },
    {
     "name": "stderr",
     "output_type": "stream",
     "text": [
      "Epoch 210/500 [Train]: 100%|██████████| 162/162 [00:45<00:00,  3.59it/s]\n",
      "Evaluating\t: 100%|██████████| 21/21 [00:03<00:00,  5.77it/s]\n"
     ]
    },
    {
     "name": "stdout",
     "output_type": "stream",
     "text": [
      "Epoch 210/500 | LR: 1.56e-06 | Train L=0.3136 CI=0.7108 MSE=0.57 MAE=0.50 | Val L=0.2121 CI=0.8092 MSE=0.39 MAE=0.34\n"
     ]
    },
    {
     "name": "stderr",
     "output_type": "stream",
     "text": [
      "Epoch 211/500 [Train]: 100%|██████████| 162/162 [00:45<00:00,  3.57it/s]\n",
      "Evaluating\t: 100%|██████████| 21/21 [00:03<00:00,  5.87it/s]\n"
     ]
    },
    {
     "name": "stdout",
     "output_type": "stream",
     "text": [
      "Epoch 211/500 | LR: 1.56e-06 | Train L=0.3149 CI=0.7076 MSE=0.58 MAE=0.50 | Val L=0.2121 CI=0.8102 MSE=0.39 MAE=0.34\n"
     ]
    },
    {
     "name": "stderr",
     "output_type": "stream",
     "text": [
      "Epoch 212/500 [Train]: 100%|██████████| 162/162 [00:45<00:00,  3.60it/s]\n",
      "Evaluating\t: 100%|██████████| 21/21 [00:03<00:00,  5.79it/s]\n"
     ]
    },
    {
     "name": "stdout",
     "output_type": "stream",
     "text": [
      "Epoch 212/500 | LR: 1.56e-06 | Train L=0.3143 CI=0.7099 MSE=0.57 MAE=0.50 | Val L=0.2120 CI=0.8106 MSE=0.39 MAE=0.34\n",
      "  Best validation loss improved to 0.2120. Model saved to ../models/gat_cd4c_davis_graphs.pth\n"
     ]
    },
    {
     "name": "stderr",
     "output_type": "stream",
     "text": [
      "Epoch 213/500 [Train]: 100%|██████████| 162/162 [00:45<00:00,  3.58it/s]\n",
      "Evaluating\t: 100%|██████████| 21/21 [00:03<00:00,  5.62it/s]\n"
     ]
    },
    {
     "name": "stdout",
     "output_type": "stream",
     "text": [
      "Epoch 213/500 | LR: 1.56e-06 | Train L=0.3145 CI=0.7124 MSE=0.57 MAE=0.50 | Val L=0.2119 CI=0.8111 MSE=0.39 MAE=0.34\n",
      "  Best validation loss improved to 0.2119. Model saved to ../models/gat_cd4c_davis_graphs.pth\n"
     ]
    },
    {
     "name": "stderr",
     "output_type": "stream",
     "text": [
      "Epoch 214/500 [Train]: 100%|██████████| 162/162 [00:45<00:00,  3.58it/s]\n",
      "Evaluating\t: 100%|██████████| 21/21 [00:03<00:00,  5.88it/s]\n"
     ]
    },
    {
     "name": "stdout",
     "output_type": "stream",
     "text": [
      "Epoch 214/500 | LR: 1.56e-06 | Train L=0.3136 CI=0.7089 MSE=0.58 MAE=0.50 | Val L=0.2121 CI=0.8107 MSE=0.39 MAE=0.34\n"
     ]
    },
    {
     "name": "stderr",
     "output_type": "stream",
     "text": [
      "Epoch 215/500 [Train]: 100%|██████████| 162/162 [00:45<00:00,  3.58it/s]\n",
      "Evaluating\t: 100%|██████████| 21/21 [00:03<00:00,  5.66it/s]\n"
     ]
    },
    {
     "name": "stdout",
     "output_type": "stream",
     "text": [
      "Epoch 215/500 | LR: 1.56e-06 | Train L=0.3154 CI=0.7069 MSE=0.58 MAE=0.50 | Val L=0.2120 CI=0.8105 MSE=0.39 MAE=0.33\n"
     ]
    },
    {
     "name": "stderr",
     "output_type": "stream",
     "text": [
      "Epoch 216/500 [Train]: 100%|██████████| 162/162 [00:45<00:00,  3.58it/s]\n",
      "Evaluating\t: 100%|██████████| 21/21 [00:03<00:00,  5.67it/s]\n"
     ]
    },
    {
     "name": "stdout",
     "output_type": "stream",
     "text": [
      "Epoch 216/500 | LR: 1.56e-06 | Train L=0.3128 CI=0.7123 MSE=0.57 MAE=0.50 | Val L=0.2115 CI=0.8107 MSE=0.39 MAE=0.34\n",
      "  Best validation loss improved to 0.2115. Model saved to ../models/gat_cd4c_davis_graphs.pth\n"
     ]
    },
    {
     "name": "stderr",
     "output_type": "stream",
     "text": [
      "Epoch 217/500 [Train]: 100%|██████████| 162/162 [00:45<00:00,  3.58it/s]\n",
      "Evaluating\t: 100%|██████████| 21/21 [00:03<00:00,  5.88it/s]\n"
     ]
    },
    {
     "name": "stdout",
     "output_type": "stream",
     "text": [
      "Epoch 217/500 | LR: 1.56e-06 | Train L=0.3133 CI=0.7080 MSE=0.57 MAE=0.50 | Val L=0.2119 CI=0.8108 MSE=0.39 MAE=0.34\n"
     ]
    },
    {
     "name": "stderr",
     "output_type": "stream",
     "text": [
      "Epoch 218/500 [Train]: 100%|██████████| 162/162 [00:45<00:00,  3.58it/s]\n",
      "Evaluating\t: 100%|██████████| 21/21 [00:03<00:00,  5.88it/s]\n"
     ]
    },
    {
     "name": "stdout",
     "output_type": "stream",
     "text": [
      "Epoch 218/500 | LR: 1.56e-06 | Train L=0.3132 CI=0.7077 MSE=0.58 MAE=0.50 | Val L=0.2122 CI=0.8100 MSE=0.39 MAE=0.33\n"
     ]
    },
    {
     "name": "stderr",
     "output_type": "stream",
     "text": [
      "Epoch 219/500 [Train]: 100%|██████████| 162/162 [00:45<00:00,  3.57it/s]\n",
      "Evaluating\t: 100%|██████████| 21/21 [00:03<00:00,  5.78it/s]\n"
     ]
    },
    {
     "name": "stdout",
     "output_type": "stream",
     "text": [
      "Epoch 219/500 | LR: 1.56e-06 | Train L=0.3143 CI=0.7050 MSE=0.58 MAE=0.50 | Val L=0.2122 CI=0.8108 MSE=0.39 MAE=0.34\n"
     ]
    },
    {
     "name": "stderr",
     "output_type": "stream",
     "text": [
      "Epoch 220/500 [Train]: 100%|██████████| 162/162 [00:45<00:00,  3.58it/s]\n",
      "Evaluating\t: 100%|██████████| 21/21 [00:03<00:00,  5.91it/s]\n"
     ]
    },
    {
     "name": "stdout",
     "output_type": "stream",
     "text": [
      "Epoch 220/500 | LR: 1.56e-06 | Train L=0.3159 CI=0.7075 MSE=0.58 MAE=0.50 | Val L=0.2121 CI=0.8108 MSE=0.39 MAE=0.34\n"
     ]
    },
    {
     "name": "stderr",
     "output_type": "stream",
     "text": [
      "Epoch 221/500 [Train]: 100%|██████████| 162/162 [00:45<00:00,  3.58it/s]\n",
      "Evaluating\t: 100%|██████████| 21/21 [00:03<00:00,  5.90it/s]\n"
     ]
    },
    {
     "name": "stdout",
     "output_type": "stream",
     "text": [
      "Epoch 221/500 | LR: 1.56e-06 | Train L=0.3121 CI=0.7161 MSE=0.57 MAE=0.49 | Val L=0.2122 CI=0.8106 MSE=0.39 MAE=0.34\n"
     ]
    },
    {
     "name": "stderr",
     "output_type": "stream",
     "text": [
      "Epoch 222/500 [Train]: 100%|██████████| 162/162 [00:45<00:00,  3.58it/s]\n",
      "Evaluating\t: 100%|██████████| 21/21 [00:03<00:00,  5.89it/s]\n"
     ]
    },
    {
     "name": "stdout",
     "output_type": "stream",
     "text": [
      "Epoch 222/500 | LR: 1.56e-06 | Train L=0.3118 CI=0.7140 MSE=0.57 MAE=0.49 | Val L=0.2121 CI=0.8107 MSE=0.39 MAE=0.34\n"
     ]
    },
    {
     "name": "stderr",
     "output_type": "stream",
     "text": [
      "Epoch 223/500 [Train]: 100%|██████████| 162/162 [00:45<00:00,  3.58it/s]\n",
      "Evaluating\t: 100%|██████████| 21/21 [00:03<00:00,  5.86it/s]\n"
     ]
    },
    {
     "name": "stdout",
     "output_type": "stream",
     "text": [
      "Epoch 223/500 | LR: 1.56e-06 | Train L=0.3146 CI=0.7062 MSE=0.58 MAE=0.50 | Val L=0.2121 CI=0.8104 MSE=0.39 MAE=0.33\n"
     ]
    },
    {
     "name": "stderr",
     "output_type": "stream",
     "text": [
      "Epoch 224/500 [Train]: 100%|██████████| 162/162 [00:45<00:00,  3.58it/s]\n",
      "Evaluating\t: 100%|██████████| 21/21 [00:03<00:00,  5.92it/s]\n"
     ]
    },
    {
     "name": "stdout",
     "output_type": "stream",
     "text": [
      "Epoch 224/500 | LR: 1.56e-06 | Train L=0.3132 CI=0.7088 MSE=0.58 MAE=0.50 | Val L=0.2120 CI=0.8102 MSE=0.39 MAE=0.34\n"
     ]
    },
    {
     "name": "stderr",
     "output_type": "stream",
     "text": [
      "Epoch 225/500 [Train]: 100%|██████████| 162/162 [00:45<00:00,  3.57it/s]\n",
      "Evaluating\t: 100%|██████████| 21/21 [00:03<00:00,  5.65it/s]\n"
     ]
    },
    {
     "name": "stdout",
     "output_type": "stream",
     "text": [
      "Epoch 225/500 | LR: 1.56e-06 | Train L=0.3149 CI=0.7083 MSE=0.58 MAE=0.50 | Val L=0.2120 CI=0.8104 MSE=0.39 MAE=0.33\n"
     ]
    },
    {
     "name": "stderr",
     "output_type": "stream",
     "text": [
      "Epoch 226/500 [Train]: 100%|██████████| 162/162 [00:45<00:00,  3.58it/s]\n",
      "Evaluating\t: 100%|██████████| 21/21 [00:03<00:00,  5.88it/s]\n"
     ]
    },
    {
     "name": "stdout",
     "output_type": "stream",
     "text": [
      "Epoch 226/500 | LR: 1.56e-06 | Train L=0.3133 CI=0.7105 MSE=0.57 MAE=0.50 | Val L=0.2123 CI=0.8101 MSE=0.39 MAE=0.34\n"
     ]
    },
    {
     "name": "stderr",
     "output_type": "stream",
     "text": [
      "Epoch 227/500 [Train]: 100%|██████████| 162/162 [00:45<00:00,  3.59it/s]\n",
      "Evaluating\t: 100%|██████████| 21/21 [00:03<00:00,  5.92it/s]\n"
     ]
    },
    {
     "name": "stdout",
     "output_type": "stream",
     "text": [
      "Epoch 227/500 | LR: 7.81e-07 | Train L=0.3142 CI=0.7094 MSE=0.57 MAE=0.50 | Val L=0.2121 CI=0.8095 MSE=0.39 MAE=0.34\n"
     ]
    },
    {
     "name": "stderr",
     "output_type": "stream",
     "text": [
      "Epoch 228/500 [Train]: 100%|██████████| 162/162 [00:45<00:00,  3.58it/s]\n",
      "Evaluating\t: 100%|██████████| 21/21 [00:03<00:00,  5.70it/s]\n"
     ]
    },
    {
     "name": "stdout",
     "output_type": "stream",
     "text": [
      "Epoch 228/500 | LR: 7.81e-07 | Train L=0.3133 CI=0.7145 MSE=0.57 MAE=0.50 | Val L=0.2121 CI=0.8102 MSE=0.39 MAE=0.34\n"
     ]
    },
    {
     "name": "stderr",
     "output_type": "stream",
     "text": [
      "Epoch 229/500 [Train]: 100%|██████████| 162/162 [00:45<00:00,  3.59it/s]\n",
      "Evaluating\t: 100%|██████████| 21/21 [00:03<00:00,  5.89it/s]\n"
     ]
    },
    {
     "name": "stdout",
     "output_type": "stream",
     "text": [
      "Epoch 229/500 | LR: 7.81e-07 | Train L=0.3127 CI=0.7122 MSE=0.57 MAE=0.50 | Val L=0.2121 CI=0.8100 MSE=0.39 MAE=0.34\n"
     ]
    },
    {
     "name": "stderr",
     "output_type": "stream",
     "text": [
      "Epoch 230/500 [Train]: 100%|██████████| 162/162 [00:45<00:00,  3.58it/s]\n",
      "Evaluating\t: 100%|██████████| 21/21 [00:03<00:00,  5.86it/s]\n"
     ]
    },
    {
     "name": "stdout",
     "output_type": "stream",
     "text": [
      "Epoch 230/500 | LR: 7.81e-07 | Train L=0.3151 CI=0.7108 MSE=0.58 MAE=0.50 | Val L=0.2121 CI=0.8100 MSE=0.39 MAE=0.34\n"
     ]
    },
    {
     "name": "stderr",
     "output_type": "stream",
     "text": [
      "Epoch 231/500 [Train]: 100%|██████████| 162/162 [00:45<00:00,  3.57it/s]\n",
      "Evaluating\t: 100%|██████████| 21/21 [00:03<00:00,  5.67it/s]\n"
     ]
    },
    {
     "name": "stdout",
     "output_type": "stream",
     "text": [
      "Epoch 231/500 | LR: 7.81e-07 | Train L=0.3110 CI=0.7150 MSE=0.57 MAE=0.49 | Val L=0.2121 CI=0.8097 MSE=0.39 MAE=0.34\n"
     ]
    },
    {
     "name": "stderr",
     "output_type": "stream",
     "text": [
      "Epoch 232/500 [Train]: 100%|██████████| 162/162 [00:45<00:00,  3.58it/s]\n",
      "Evaluating\t: 100%|██████████| 21/21 [00:03<00:00,  5.88it/s]\n"
     ]
    },
    {
     "name": "stdout",
     "output_type": "stream",
     "text": [
      "Epoch 232/500 | LR: 7.81e-07 | Train L=0.3138 CI=0.7135 MSE=0.57 MAE=0.50 | Val L=0.2122 CI=0.8095 MSE=0.39 MAE=0.33\n"
     ]
    },
    {
     "name": "stderr",
     "output_type": "stream",
     "text": [
      "Epoch 233/500 [Train]: 100%|██████████| 162/162 [00:45<00:00,  3.58it/s]\n",
      "Evaluating\t: 100%|██████████| 21/21 [00:03<00:00,  5.91it/s]\n"
     ]
    },
    {
     "name": "stdout",
     "output_type": "stream",
     "text": [
      "Epoch 233/500 | LR: 7.81e-07 | Train L=0.3124 CI=0.7120 MSE=0.57 MAE=0.50 | Val L=0.2121 CI=0.8092 MSE=0.39 MAE=0.34\n"
     ]
    },
    {
     "name": "stderr",
     "output_type": "stream",
     "text": [
      "Epoch 234/500 [Train]: 100%|██████████| 162/162 [00:45<00:00,  3.54it/s]\n",
      "Evaluating\t: 100%|██████████| 21/21 [00:03<00:00,  5.56it/s]\n"
     ]
    },
    {
     "name": "stdout",
     "output_type": "stream",
     "text": [
      "Epoch 234/500 | LR: 7.81e-07 | Train L=0.3129 CI=0.7145 MSE=0.57 MAE=0.50 | Val L=0.2120 CI=0.8095 MSE=0.39 MAE=0.34\n"
     ]
    },
    {
     "name": "stderr",
     "output_type": "stream",
     "text": [
      "Epoch 235/500 [Train]: 100%|██████████| 162/162 [00:45<00:00,  3.57it/s]\n",
      "Evaluating\t: 100%|██████████| 21/21 [00:03<00:00,  5.88it/s]\n"
     ]
    },
    {
     "name": "stdout",
     "output_type": "stream",
     "text": [
      "Epoch 235/500 | LR: 7.81e-07 | Train L=0.3108 CI=0.7142 MSE=0.57 MAE=0.49 | Val L=0.2120 CI=0.8101 MSE=0.39 MAE=0.34\n"
     ]
    },
    {
     "name": "stderr",
     "output_type": "stream",
     "text": [
      "Epoch 236/500 [Train]: 100%|██████████| 162/162 [00:45<00:00,  3.58it/s]\n",
      "Evaluating\t: 100%|██████████| 21/21 [00:03<00:00,  5.78it/s]\n"
     ]
    },
    {
     "name": "stdout",
     "output_type": "stream",
     "text": [
      "Epoch 236/500 | LR: 7.81e-07 | Train L=0.3153 CI=0.7119 MSE=0.58 MAE=0.50 | Val L=0.2122 CI=0.8100 MSE=0.39 MAE=0.33\n"
     ]
    },
    {
     "name": "stderr",
     "output_type": "stream",
     "text": [
      "Epoch 237/500 [Train]: 100%|██████████| 162/162 [00:45<00:00,  3.55it/s]\n",
      "Evaluating\t: 100%|██████████| 21/21 [00:03<00:00,  5.89it/s]\n"
     ]
    },
    {
     "name": "stdout",
     "output_type": "stream",
     "text": [
      "Epoch 237/500 | LR: 7.81e-07 | Train L=0.3141 CI=0.7110 MSE=0.58 MAE=0.50 | Val L=0.2120 CI=0.8099 MSE=0.39 MAE=0.34\n"
     ]
    },
    {
     "name": "stderr",
     "output_type": "stream",
     "text": [
      "Epoch 238/500 [Train]: 100%|██████████| 162/162 [00:45<00:00,  3.58it/s]\n",
      "Evaluating\t: 100%|██████████| 21/21 [00:03<00:00,  5.85it/s]\n"
     ]
    },
    {
     "name": "stdout",
     "output_type": "stream",
     "text": [
      "Epoch 238/500 | LR: 3.91e-07 | Train L=0.3142 CI=0.7073 MSE=0.58 MAE=0.50 | Val L=0.2119 CI=0.8102 MSE=0.39 MAE=0.34\n"
     ]
    },
    {
     "name": "stderr",
     "output_type": "stream",
     "text": [
      "Epoch 239/500 [Train]: 100%|██████████| 162/162 [00:45<00:00,  3.58it/s]\n",
      "Evaluating\t: 100%|██████████| 21/21 [00:03<00:00,  5.67it/s]\n"
     ]
    },
    {
     "name": "stdout",
     "output_type": "stream",
     "text": [
      "Epoch 239/500 | LR: 3.91e-07 | Train L=0.3134 CI=0.7146 MSE=0.57 MAE=0.50 | Val L=0.2119 CI=0.8104 MSE=0.39 MAE=0.34\n"
     ]
    },
    {
     "name": "stderr",
     "output_type": "stream",
     "text": [
      "Epoch 240/500 [Train]: 100%|██████████| 162/162 [00:45<00:00,  3.56it/s]\n",
      "Evaluating\t: 100%|██████████| 21/21 [00:03<00:00,  5.91it/s]\n"
     ]
    },
    {
     "name": "stdout",
     "output_type": "stream",
     "text": [
      "Epoch 240/500 | LR: 3.91e-07 | Train L=0.3117 CI=0.7140 MSE=0.57 MAE=0.49 | Val L=0.2119 CI=0.8099 MSE=0.39 MAE=0.34\n"
     ]
    },
    {
     "name": "stderr",
     "output_type": "stream",
     "text": [
      "Epoch 241/500 [Train]: 100%|██████████| 162/162 [00:45<00:00,  3.59it/s]\n",
      "Evaluating\t: 100%|██████████| 21/21 [00:03<00:00,  5.87it/s]\n"
     ]
    },
    {
     "name": "stdout",
     "output_type": "stream",
     "text": [
      "Epoch 241/500 | LR: 3.91e-07 | Train L=0.3112 CI=0.7133 MSE=0.57 MAE=0.49 | Val L=0.2119 CI=0.8100 MSE=0.39 MAE=0.34\n"
     ]
    },
    {
     "name": "stderr",
     "output_type": "stream",
     "text": [
      "Epoch 242/500 [Train]: 100%|██████████| 162/162 [00:45<00:00,  3.57it/s]\n",
      "Evaluating\t: 100%|██████████| 21/21 [00:03<00:00,  5.88it/s]\n"
     ]
    },
    {
     "name": "stdout",
     "output_type": "stream",
     "text": [
      "Epoch 242/500 | LR: 3.91e-07 | Train L=0.3133 CI=0.7120 MSE=0.57 MAE=0.50 | Val L=0.2119 CI=0.8099 MSE=0.39 MAE=0.34\n"
     ]
    },
    {
     "name": "stderr",
     "output_type": "stream",
     "text": [
      "Epoch 243/500 [Train]: 100%|██████████| 162/162 [00:45<00:00,  3.58it/s]\n",
      "Evaluating\t: 100%|██████████| 21/21 [00:03<00:00,  5.65it/s]\n"
     ]
    },
    {
     "name": "stdout",
     "output_type": "stream",
     "text": [
      "Epoch 243/500 | LR: 3.91e-07 | Train L=0.3159 CI=0.7095 MSE=0.58 MAE=0.50 | Val L=0.2120 CI=0.8100 MSE=0.39 MAE=0.34\n"
     ]
    },
    {
     "name": "stderr",
     "output_type": "stream",
     "text": [
      "Epoch 244/500 [Train]: 100%|██████████| 162/162 [00:45<00:00,  3.59it/s]\n",
      "Evaluating\t: 100%|██████████| 21/21 [00:03<00:00,  5.87it/s]\n"
     ]
    },
    {
     "name": "stdout",
     "output_type": "stream",
     "text": [
      "Epoch 244/500 | LR: 3.91e-07 | Train L=0.3147 CI=0.7056 MSE=0.58 MAE=0.50 | Val L=0.2119 CI=0.8102 MSE=0.39 MAE=0.34\n"
     ]
    },
    {
     "name": "stderr",
     "output_type": "stream",
     "text": [
      "Epoch 245/500 [Train]: 100%|██████████| 162/162 [00:45<00:00,  3.58it/s]\n",
      "Evaluating\t: 100%|██████████| 21/21 [00:03<00:00,  5.79it/s]\n"
     ]
    },
    {
     "name": "stdout",
     "output_type": "stream",
     "text": [
      "Epoch 245/500 | LR: 3.91e-07 | Train L=0.3161 CI=0.7059 MSE=0.58 MAE=0.50 | Val L=0.2119 CI=0.8098 MSE=0.39 MAE=0.34\n"
     ]
    },
    {
     "name": "stderr",
     "output_type": "stream",
     "text": [
      "Epoch 246/500 [Train]: 100%|██████████| 162/162 [00:45<00:00,  3.55it/s]\n",
      "Evaluating\t: 100%|██████████| 21/21 [00:03<00:00,  5.81it/s]\n"
     ]
    },
    {
     "name": "stdout",
     "output_type": "stream",
     "text": [
      "Epoch 246/500 | LR: 3.91e-07 | Train L=0.3126 CI=0.7130 MSE=0.57 MAE=0.49 | Val L=0.2119 CI=0.8098 MSE=0.39 MAE=0.34\n"
     ]
    },
    {
     "name": "stderr",
     "output_type": "stream",
     "text": [
      "Epoch 247/500 [Train]: 100%|██████████| 162/162 [00:45<00:00,  3.58it/s]\n",
      "Evaluating\t: 100%|██████████| 21/21 [00:03<00:00,  5.89it/s]\n"
     ]
    },
    {
     "name": "stdout",
     "output_type": "stream",
     "text": [
      "Epoch 247/500 | LR: 3.91e-07 | Train L=0.3124 CI=0.7111 MSE=0.57 MAE=0.50 | Val L=0.2120 CI=0.8098 MSE=0.39 MAE=0.34\n"
     ]
    },
    {
     "name": "stderr",
     "output_type": "stream",
     "text": [
      "Epoch 248/500 [Train]: 100%|██████████| 162/162 [00:45<00:00,  3.58it/s]\n",
      "Evaluating\t: 100%|██████████| 21/21 [00:03<00:00,  5.44it/s]\n"
     ]
    },
    {
     "name": "stdout",
     "output_type": "stream",
     "text": [
      "Epoch 248/500 | LR: 3.91e-07 | Train L=0.3156 CI=0.7041 MSE=0.58 MAE=0.50 | Val L=0.2119 CI=0.8101 MSE=0.39 MAE=0.34\n",
      "\n",
      "Early stopping triggered after 32 epochs without improvement.\n"
     ]
    }
   ],
   "source": [
    "import argparse\n",
    "\n",
    "training_args = argparse.Namespace(**args)\n",
    "train_model(training_args, device)"
   ]
  },
  {
   "cell_type": "code",
   "execution_count": 6,
   "metadata": {},
   "outputs": [
    {
     "ename": "KeyError",
     "evalue": "'train_acc'",
     "output_type": "error",
     "traceback": [
      "\u001b[0;31m---------------------------------------------------------------------------\u001b[0m",
      "\u001b[0;31mKeyError\u001b[0m                                  Traceback (most recent call last)",
      "File \u001b[0;32m/opt/miniconda3/lib/python3.12/site-packages/pandas/core/indexes/base.py:3653\u001b[0m, in \u001b[0;36mIndex.get_loc\u001b[0;34m(self, key)\u001b[0m\n\u001b[1;32m   3652\u001b[0m \u001b[38;5;28;01mtry\u001b[39;00m:\n\u001b[0;32m-> 3653\u001b[0m     \u001b[38;5;28;01mreturn\u001b[39;00m \u001b[38;5;28;43mself\u001b[39;49m\u001b[38;5;241;43m.\u001b[39;49m\u001b[43m_engine\u001b[49m\u001b[38;5;241;43m.\u001b[39;49m\u001b[43mget_loc\u001b[49m\u001b[43m(\u001b[49m\u001b[43mcasted_key\u001b[49m\u001b[43m)\u001b[49m\n\u001b[1;32m   3654\u001b[0m \u001b[38;5;28;01mexcept\u001b[39;00m \u001b[38;5;167;01mKeyError\u001b[39;00m \u001b[38;5;28;01mas\u001b[39;00m err:\n",
      "File \u001b[0;32m/opt/miniconda3/lib/python3.12/site-packages/pandas/_libs/index.pyx:147\u001b[0m, in \u001b[0;36mpandas._libs.index.IndexEngine.get_loc\u001b[0;34m()\u001b[0m\n",
      "File \u001b[0;32m/opt/miniconda3/lib/python3.12/site-packages/pandas/_libs/index.pyx:176\u001b[0m, in \u001b[0;36mpandas._libs.index.IndexEngine.get_loc\u001b[0;34m()\u001b[0m\n",
      "File \u001b[0;32mpandas/_libs/hashtable_class_helper.pxi:7080\u001b[0m, in \u001b[0;36mpandas._libs.hashtable.PyObjectHashTable.get_item\u001b[0;34m()\u001b[0m\n",
      "File \u001b[0;32mpandas/_libs/hashtable_class_helper.pxi:7088\u001b[0m, in \u001b[0;36mpandas._libs.hashtable.PyObjectHashTable.get_item\u001b[0;34m()\u001b[0m\n",
      "\u001b[0;31mKeyError\u001b[0m: 'train_acc'",
      "\nThe above exception was the direct cause of the following exception:\n",
      "\u001b[0;31mKeyError\u001b[0m                                  Traceback (most recent call last)",
      "Cell \u001b[0;32mIn[6], line 8\u001b[0m\n\u001b[1;32m      5\u001b[0m csv_path \u001b[38;5;241m=\u001b[39m \u001b[38;5;124mf\u001b[39m\u001b[38;5;124m\"\u001b[39m\u001b[38;5;132;01m{\u001b[39;00mtraining_args\u001b[38;5;241m.\u001b[39mmodel_path\u001b[38;5;132;01m}\u001b[39;00m\u001b[38;5;124m.csv\u001b[39m\u001b[38;5;124m\"\u001b[39m\n\u001b[1;32m      6\u001b[0m metrics \u001b[38;5;241m=\u001b[39m pd\u001b[38;5;241m.\u001b[39mread_csv(csv_path) \n\u001b[0;32m----> 8\u001b[0m \u001b[43mplot_loss_curves\u001b[49m\u001b[43m(\u001b[49m\u001b[43mmetrics\u001b[49m\u001b[43m)\u001b[49m\n",
      "File \u001b[0;32m~/Documents/Projects/gat-cd4c/src/utils/helper_functions.py:250\u001b[0m, in \u001b[0;36mplot_loss_curves\u001b[0;34m(results)\u001b[0m\n\u001b[1;32m    247\u001b[0m loss \u001b[38;5;241m=\u001b[39m [to_cpu_scalar(x) \u001b[38;5;28;01mfor\u001b[39;00m x \u001b[38;5;129;01min\u001b[39;00m results[\u001b[38;5;124m\"\u001b[39m\u001b[38;5;124mtrain_loss\u001b[39m\u001b[38;5;124m\"\u001b[39m]\u001b[38;5;241m.\u001b[39mtolist()]\n\u001b[1;32m    248\u001b[0m validation_loss \u001b[38;5;241m=\u001b[39m [to_cpu_scalar(x) \u001b[38;5;28;01mfor\u001b[39;00m x \u001b[38;5;129;01min\u001b[39;00m results[\u001b[38;5;124m\"\u001b[39m\u001b[38;5;124mvalidation_loss\u001b[39m\u001b[38;5;124m\"\u001b[39m]\u001b[38;5;241m.\u001b[39mtolist()]\n\u001b[0;32m--> 250\u001b[0m accuracy \u001b[38;5;241m=\u001b[39m [to_cpu_scalar(x) \u001b[38;5;28;01mfor\u001b[39;00m x \u001b[38;5;129;01min\u001b[39;00m \u001b[43mresults\u001b[49m\u001b[43m[\u001b[49m\u001b[38;5;124;43m\"\u001b[39;49m\u001b[38;5;124;43mtrain_acc\u001b[39;49m\u001b[38;5;124;43m\"\u001b[39;49m\u001b[43m]\u001b[49m\u001b[38;5;241m.\u001b[39mtolist()]\n\u001b[1;32m    251\u001b[0m validation_accuracy \u001b[38;5;241m=\u001b[39m [to_cpu_scalar(x) \u001b[38;5;28;01mfor\u001b[39;00m x \u001b[38;5;129;01min\u001b[39;00m results[\u001b[38;5;124m\"\u001b[39m\u001b[38;5;124mvalidation_acc\u001b[39m\u001b[38;5;124m\"\u001b[39m]\u001b[38;5;241m.\u001b[39mtolist()]\n\u001b[1;32m    253\u001b[0m epochs \u001b[38;5;241m=\u001b[39m \u001b[38;5;28mrange\u001b[39m(results\u001b[38;5;241m.\u001b[39mshape[\u001b[38;5;241m0\u001b[39m])\n",
      "File \u001b[0;32m/opt/miniconda3/lib/python3.12/site-packages/pandas/core/frame.py:3761\u001b[0m, in \u001b[0;36mDataFrame.__getitem__\u001b[0;34m(self, key)\u001b[0m\n\u001b[1;32m   3759\u001b[0m \u001b[38;5;28;01mif\u001b[39;00m \u001b[38;5;28mself\u001b[39m\u001b[38;5;241m.\u001b[39mcolumns\u001b[38;5;241m.\u001b[39mnlevels \u001b[38;5;241m>\u001b[39m \u001b[38;5;241m1\u001b[39m:\n\u001b[1;32m   3760\u001b[0m     \u001b[38;5;28;01mreturn\u001b[39;00m \u001b[38;5;28mself\u001b[39m\u001b[38;5;241m.\u001b[39m_getitem_multilevel(key)\n\u001b[0;32m-> 3761\u001b[0m indexer \u001b[38;5;241m=\u001b[39m \u001b[38;5;28;43mself\u001b[39;49m\u001b[38;5;241;43m.\u001b[39;49m\u001b[43mcolumns\u001b[49m\u001b[38;5;241;43m.\u001b[39;49m\u001b[43mget_loc\u001b[49m\u001b[43m(\u001b[49m\u001b[43mkey\u001b[49m\u001b[43m)\u001b[49m\n\u001b[1;32m   3762\u001b[0m \u001b[38;5;28;01mif\u001b[39;00m is_integer(indexer):\n\u001b[1;32m   3763\u001b[0m     indexer \u001b[38;5;241m=\u001b[39m [indexer]\n",
      "File \u001b[0;32m/opt/miniconda3/lib/python3.12/site-packages/pandas/core/indexes/base.py:3655\u001b[0m, in \u001b[0;36mIndex.get_loc\u001b[0;34m(self, key)\u001b[0m\n\u001b[1;32m   3653\u001b[0m     \u001b[38;5;28;01mreturn\u001b[39;00m \u001b[38;5;28mself\u001b[39m\u001b[38;5;241m.\u001b[39m_engine\u001b[38;5;241m.\u001b[39mget_loc(casted_key)\n\u001b[1;32m   3654\u001b[0m \u001b[38;5;28;01mexcept\u001b[39;00m \u001b[38;5;167;01mKeyError\u001b[39;00m \u001b[38;5;28;01mas\u001b[39;00m err:\n\u001b[0;32m-> 3655\u001b[0m     \u001b[38;5;28;01mraise\u001b[39;00m \u001b[38;5;167;01mKeyError\u001b[39;00m(key) \u001b[38;5;28;01mfrom\u001b[39;00m \u001b[38;5;21;01merr\u001b[39;00m\n\u001b[1;32m   3656\u001b[0m \u001b[38;5;28;01mexcept\u001b[39;00m \u001b[38;5;167;01mTypeError\u001b[39;00m:\n\u001b[1;32m   3657\u001b[0m     \u001b[38;5;66;03m# If we have a listlike key, _check_indexing_error will raise\u001b[39;00m\n\u001b[1;32m   3658\u001b[0m     \u001b[38;5;66;03m#  InvalidIndexError. Otherwise we fall through and re-raise\u001b[39;00m\n\u001b[1;32m   3659\u001b[0m     \u001b[38;5;66;03m#  the TypeError.\u001b[39;00m\n\u001b[1;32m   3660\u001b[0m     \u001b[38;5;28mself\u001b[39m\u001b[38;5;241m.\u001b[39m_check_indexing_error(key)\n",
      "\u001b[0;31mKeyError\u001b[0m: 'train_acc'"
     ]
    }
   ],
   "source": [
    "import pandas as pd\n",
    "\n",
    "from utils.helper_functions import plot_loss_curves\n",
    "\n",
    "csv_path = f\"{training_args.model_path}.csv\"\n",
    "metrics = pd.read_csv(csv_path) \n",
    "\n",
    "plot_loss_curves(metrics)"
   ]
  },
  {
   "cell_type": "code",
   "execution_count": null,
   "metadata": {},
   "outputs": [],
   "source": []
  }
 ],
 "metadata": {
  "kernelspec": {
   "display_name": "base",
   "language": "python",
   "name": "python3"
  },
  "language_info": {
   "codemirror_mode": {
    "name": "ipython",
    "version": 3
   },
   "file_extension": ".py",
   "mimetype": "text/x-python",
   "name": "python",
   "nbconvert_exporter": "python",
   "pygments_lexer": "ipython3",
   "version": "3.12.2"
  }
 },
 "nbformat": 4,
 "nbformat_minor": 4
}
