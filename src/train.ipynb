{
 "cells": [
  {
   "cell_type": "code",
   "execution_count": 1,
   "metadata": {},
   "outputs": [
    {
     "name": "stdout",
     "output_type": "stream",
     "text": [
      "Using device: cpu\n"
     ]
    }
   ],
   "source": [
    "import torch\n",
    "\n",
    "# Local imports\n",
    "from train import train_model"
   ]
  },
  {
   "cell_type": "code",
   "execution_count": 2,
   "metadata": {},
   "outputs": [
    {
     "name": "stdout",
     "output_type": "stream",
     "text": [
      "Using device: cuda:0\n"
     ]
    }
   ],
   "source": [
    "if torch.backends.mps.is_available():\n",
    "    device = torch.device(\"mps\")\n",
    "elif torch.cuda.is_available():\n",
    "    device = torch.device(\"cuda:0\")\n",
    "else:\n",
    "    device = torch.device(\"cpu\")\n",
    "\n",
    "print(f\"Using device: {device}\")"
   ]
  },
  {
   "cell_type": "code",
   "execution_count": 3,
   "metadata": {},
   "outputs": [],
   "source": [
    "args = {\n",
    "    \"use_small_dataset\": False,\n",
    "    \"batch_size\": 64,\n",
    "    \"stoppage_epochs\": 64,\n",
    "    \"max_epochs\": 512,\n",
    "    \"seed\": 0,\n",
    "    \"data_path\": \"../data\",\n",
    "    \"frac_train\": 0.8,\n",
    "    \"frac_validation\": 0.1,\n",
    "    \"frac_test\": 0.1,\n",
    "    \"huber_beta\": 0.5,\n",
    "    \"weight_decay\": 1e-3,\n",
    "    \"lr\": 3e-4,\n",
    "    \"scheduler_patience\": 10,\n",
    "    \"scheduler_factor\": 0.5,\n",
    "    \"hidden_size\": 96,\n",
    "    \"num_layers\": 8,\n",
    "    \"num_attn_heads\": 6,\n",
    "    \"dropout\": 0.2,\n",
    "    \"pooling_dropout\": 0.1,\n",
    "    \"pooling_dim\": 96,\n",
    "}"
   ]
  },
  {
   "cell_type": "code",
   "execution_count": null,
   "metadata": {},
   "outputs": [
    {
     "name": "stdout",
     "output_type": "stream",
     "text": [
      "Model parameters: 201843\n"
     ]
    },
    {
     "name": "stderr",
     "output_type": "stream",
     "text": [
      "Epoch 1/512: 100%|██████████████████████████████████████████████████████████████████████| 906/906 [02:13<00:00,  6.76it/s]\n"
     ]
    },
    {
     "name": "stdout",
     "output_type": "stream",
     "text": [
      "Epoch 1/512: \n",
      "Train Loss = 0.78773, Train MSE = 1.54009, Train MAE = 1.01348, Train Acc = 0.55331\n",
      "Val Loss = 0.70925, Val MSE = 1.30583, Val MAE = 0.93279, Val Acc = 0.59216\n"
     ]
    },
    {
     "name": "stderr",
     "output_type": "stream",
     "text": [
      "Epoch 2/512: 100%|██████████████████████████████████████████████████████████████████████| 906/906 [00:44<00:00, 20.28it/s]\n"
     ]
    },
    {
     "name": "stdout",
     "output_type": "stream",
     "text": [
      "Epoch 2/512: \n",
      "Train Loss = 0.72789, Train MSE = 1.36793, Train MAE = 0.95133, Train Acc = 0.58714\n",
      "Val Loss = 0.70115, Val MSE = 1.28509, Val MAE = 0.92355, Val Acc = 0.59478\n"
     ]
    },
    {
     "name": "stderr",
     "output_type": "stream",
     "text": [
      "Epoch 3/512: 100%|██████████████████████████████████████████████████████████████████████| 906/906 [00:45<00:00, 20.10it/s]\n"
     ]
    },
    {
     "name": "stdout",
     "output_type": "stream",
     "text": [
      "Epoch 3/512: \n",
      "Train Loss = 0.71698, Train MSE = 1.33652, Train MAE = 0.94002, Train Acc = 0.59311\n",
      "Val Loss = 0.70397, Val MSE = 1.28961, Val MAE = 0.92631, Val Acc = 0.59699\n"
     ]
    },
    {
     "name": "stderr",
     "output_type": "stream",
     "text": [
      "Epoch 4/512: 100%|██████████████████████████████████████████████████████████████████████| 906/906 [00:45<00:00, 19.99it/s]\n"
     ]
    },
    {
     "name": "stdout",
     "output_type": "stream",
     "text": [
      "Epoch 4/512: \n",
      "Train Loss = 0.71010, Train MSE = 1.31565, Train MAE = 0.93320, Train Acc = 0.59587\n",
      "Val Loss = 0.69966, Val MSE = 1.27931, Val MAE = 0.92239, Val Acc = 0.59699\n"
     ]
    },
    {
     "name": "stderr",
     "output_type": "stream",
     "text": [
      "Epoch 5/512: 100%|██████████████████████████████████████████████████████████████████████| 906/906 [00:45<00:00, 20.03it/s]\n"
     ]
    },
    {
     "name": "stdout",
     "output_type": "stream",
     "text": [
      "Epoch 5/512: \n",
      "Train Loss = 0.69253, Train MSE = 1.27366, Train MAE = 0.91464, Train Acc = 0.60671\n",
      "Val Loss = 0.67522, Val MSE = 1.22210, Val MAE = 0.89628, Val Acc = 0.61963\n"
     ]
    },
    {
     "name": "stderr",
     "output_type": "stream",
     "text": [
      "Epoch 6/512: 100%|██████████████████████████████████████████████████████████████████████| 906/906 [00:45<00:00, 19.92it/s]\n"
     ]
    },
    {
     "name": "stdout",
     "output_type": "stream",
     "text": [
      "Epoch 6/512: \n",
      "Train Loss = 0.68750, Train MSE = 1.26053, Train MAE = 0.90969, Train Acc = 0.61011\n",
      "Val Loss = 0.67143, Val MSE = 1.21272, Val MAE = 0.89307, Val Acc = 0.61949\n"
     ]
    },
    {
     "name": "stderr",
     "output_type": "stream",
     "text": [
      "Epoch 7/512: 100%|██████████████████████████████████████████████████████████████████████| 906/906 [00:45<00:00, 20.04it/s]\n"
     ]
    },
    {
     "name": "stdout",
     "output_type": "stream",
     "text": [
      "Epoch 7/512: \n",
      "Train Loss = 0.67906, Train MSE = 1.24059, Train MAE = 0.90000, Train Acc = 0.61387\n",
      "Val Loss = 0.65964, Val MSE = 1.18051, Val MAE = 0.88073, Val Acc = 0.62847\n"
     ]
    },
    {
     "name": "stderr",
     "output_type": "stream",
     "text": [
      "Epoch 8/512: 100%|██████████████████████████████████████████████████████████████████████| 906/906 [00:45<00:00, 20.04it/s]\n"
     ]
    },
    {
     "name": "stdout",
     "output_type": "stream",
     "text": [
      "Epoch 8/512: \n",
      "Train Loss = 0.67262, Train MSE = 1.22302, Train MAE = 0.89365, Train Acc = 0.61984\n",
      "Val Loss = 0.65287, Val MSE = 1.16929, Val MAE = 0.87346, Val Acc = 0.63109\n"
     ]
    },
    {
     "name": "stderr",
     "output_type": "stream",
     "text": [
      "Epoch 9/512: 100%|██████████████████████████████████████████████████████████████████████| 906/906 [00:45<00:00, 20.08it/s]\n"
     ]
    },
    {
     "name": "stdout",
     "output_type": "stream",
     "text": [
      "Epoch 9/512: \n",
      "Train Loss = 0.66701, Train MSE = 1.21089, Train MAE = 0.88788, Train Acc = 0.62310\n",
      "Val Loss = 0.64975, Val MSE = 1.15989, Val MAE = 0.87071, Val Acc = 0.63565\n"
     ]
    },
    {
     "name": "stderr",
     "output_type": "stream",
     "text": [
      "Epoch 10/512: 100%|█████████████████████████████████████████████████████████████████████| 906/906 [00:45<00:00, 19.96it/s]\n"
     ]
    },
    {
     "name": "stdout",
     "output_type": "stream",
     "text": [
      "Epoch 10/512: \n",
      "Train Loss = 0.66167, Train MSE = 1.19824, Train MAE = 0.88229, Train Acc = 0.62679\n",
      "Val Loss = 0.63797, Val MSE = 1.13344, Val MAE = 0.85857, Val Acc = 0.64559\n"
     ]
    },
    {
     "name": "stderr",
     "output_type": "stream",
     "text": [
      "Epoch 11/512: 100%|█████████████████████████████████████████████████████████████████████| 906/906 [00:45<00:00, 20.06it/s]\n"
     ]
    },
    {
     "name": "stdout",
     "output_type": "stream",
     "text": [
      "Epoch 11/512: \n",
      "Train Loss = 0.65686, Train MSE = 1.18825, Train MAE = 0.87746, Train Acc = 0.63213\n",
      "Val Loss = 0.63356, Val MSE = 1.12623, Val MAE = 0.85394, Val Acc = 0.64656\n"
     ]
    },
    {
     "name": "stderr",
     "output_type": "stream",
     "text": [
      "Epoch 12/512: 100%|█████████████████████████████████████████████████████████████████████| 906/906 [00:45<00:00, 19.97it/s]\n"
     ]
    },
    {
     "name": "stdout",
     "output_type": "stream",
     "text": [
      "Epoch 12/512: \n",
      "Train Loss = 0.65116, Train MSE = 1.17517, Train MAE = 0.87107, Train Acc = 0.63368\n",
      "Val Loss = 0.63582, Val MSE = 1.12771, Val MAE = 0.85648, Val Acc = 0.64297\n"
     ]
    },
    {
     "name": "stderr",
     "output_type": "stream",
     "text": [
      "Epoch 13/512: 100%|█████████████████████████████████████████████████████████████████████| 906/906 [00:45<00:00, 19.96it/s]\n"
     ]
    },
    {
     "name": "stdout",
     "output_type": "stream",
     "text": [
      "Epoch 13/512: \n",
      "Train Loss = 0.64499, Train MSE = 1.15923, Train MAE = 0.86492, Train Acc = 0.63872\n",
      "Val Loss = 0.62653, Val MSE = 1.10832, Val MAE = 0.84702, Val Acc = 0.65042\n"
     ]
    },
    {
     "name": "stderr",
     "output_type": "stream",
     "text": [
      "Epoch 14/512: 100%|█████████████████████████████████████████████████████████████████████| 906/906 [00:45<00:00, 19.97it/s]\n"
     ]
    },
    {
     "name": "stdout",
     "output_type": "stream",
     "text": [
      "Epoch 14/512: \n",
      "Train Loss = 0.64252, Train MSE = 1.15533, Train MAE = 0.86192, Train Acc = 0.64091\n",
      "Val Loss = 0.61769, Val MSE = 1.08391, Val MAE = 0.83764, Val Acc = 0.66036\n"
     ]
    },
    {
     "name": "stderr",
     "output_type": "stream",
     "text": [
      "Epoch 15/512: 100%|█████████████████████████████████████████████████████████████████████| 906/906 [00:45<00:00, 19.96it/s]\n"
     ]
    },
    {
     "name": "stdout",
     "output_type": "stream",
     "text": [
      "Epoch 15/512: \n",
      "Train Loss = 0.63654, Train MSE = 1.14304, Train MAE = 0.85551, Train Acc = 0.64479\n",
      "Val Loss = 0.61048, Val MSE = 1.07291, Val MAE = 0.82962, Val Acc = 0.66050\n"
     ]
    },
    {
     "name": "stderr",
     "output_type": "stream",
     "text": [
      "Epoch 16/512: 100%|█████████████████████████████████████████████████████████████████████| 906/906 [00:45<00:00, 19.82it/s]\n"
     ]
    },
    {
     "name": "stdout",
     "output_type": "stream",
     "text": [
      "Epoch 16/512: \n",
      "Train Loss = 0.63337, Train MSE = 1.13431, Train MAE = 0.85203, Train Acc = 0.64618\n",
      "Val Loss = 0.60489, Val MSE = 1.05310, Val MAE = 0.82416, Val Acc = 0.66229\n"
     ]
    },
    {
     "name": "stderr",
     "output_type": "stream",
     "text": [
      "Epoch 17/512: 100%|█████████████████████████████████████████████████████████████████████| 906/906 [00:45<00:00, 19.90it/s]\n"
     ]
    },
    {
     "name": "stdout",
     "output_type": "stream",
     "text": [
      "Epoch 17/512: \n",
      "Train Loss = 0.62754, Train MSE = 1.12005, Train MAE = 0.84624, Train Acc = 0.65071\n",
      "Val Loss = 0.59459, Val MSE = 1.03378, Val MAE = 0.81251, Val Acc = 0.67444\n"
     ]
    },
    {
     "name": "stderr",
     "output_type": "stream",
     "text": [
      "Epoch 18/512: 100%|█████████████████████████████████████████████████████████████████████| 906/906 [00:45<00:00, 19.93it/s]\n"
     ]
    },
    {
     "name": "stdout",
     "output_type": "stream",
     "text": [
      "Epoch 18/512: \n",
      "Train Loss = 0.62272, Train MSE = 1.10975, Train MAE = 0.84072, Train Acc = 0.65486\n",
      "Val Loss = 0.59884, Val MSE = 1.04775, Val MAE = 0.81639, Val Acc = 0.67334\n"
     ]
    },
    {
     "name": "stderr",
     "output_type": "stream",
     "text": [
      "Epoch 19/512: 100%|█████████████████████████████████████████████████████████████████████| 906/906 [00:45<00:00, 19.93it/s]\n"
     ]
    },
    {
     "name": "stdout",
     "output_type": "stream",
     "text": [
      "Epoch 19/512: \n",
      "Train Loss = 0.61723, Train MSE = 1.09728, Train MAE = 0.83531, Train Acc = 0.65986\n",
      "Val Loss = 0.58617, Val MSE = 1.01598, Val MAE = 0.80333, Val Acc = 0.68287\n"
     ]
    },
    {
     "name": "stderr",
     "output_type": "stream",
     "text": [
      "Epoch 20/512: 100%|█████████████████████████████████████████████████████████████████████| 906/906 [00:45<00:00, 19.96it/s]\n"
     ]
    },
    {
     "name": "stdout",
     "output_type": "stream",
     "text": [
      "Epoch 20/512: \n",
      "Train Loss = 0.61498, Train MSE = 1.09156, Train MAE = 0.83274, Train Acc = 0.65976\n",
      "Val Loss = 0.57986, Val MSE = 0.99940, Val MAE = 0.79646, Val Acc = 0.68659\n"
     ]
    },
    {
     "name": "stderr",
     "output_type": "stream",
     "text": [
      "Epoch 21/512: 100%|█████████████████████████████████████████████████████████████████████| 906/906 [00:45<00:00, 20.06it/s]\n"
     ]
    },
    {
     "name": "stdout",
     "output_type": "stream",
     "text": [
      "Epoch 21/512: \n",
      "Train Loss = 0.61302, Train MSE = 1.08697, Train MAE = 0.83095, Train Acc = 0.66207\n",
      "Val Loss = 0.58106, Val MSE = 1.00933, Val MAE = 0.79763, Val Acc = 0.68204\n"
     ]
    },
    {
     "name": "stderr",
     "output_type": "stream",
     "text": [
      "Epoch 22/512: 100%|█████████████████████████████████████████████████████████████████████| 906/906 [00:45<00:00, 19.95it/s]\n"
     ]
    },
    {
     "name": "stdout",
     "output_type": "stream",
     "text": [
      "Epoch 22/512: \n",
      "Train Loss = 0.60775, Train MSE = 1.07516, Train MAE = 0.82516, Train Acc = 0.66628\n",
      "Val Loss = 0.58070, Val MSE = 1.00481, Val MAE = 0.79718, Val Acc = 0.68287\n"
     ]
    },
    {
     "name": "stderr",
     "output_type": "stream",
     "text": [
      "Epoch 23/512: 100%|█████████████████████████████████████████████████████████████████████| 906/906 [00:45<00:00, 20.02it/s]\n"
     ]
    },
    {
     "name": "stdout",
     "output_type": "stream",
     "text": [
      "Epoch 23/512: \n",
      "Train Loss = 0.60499, Train MSE = 1.06873, Train MAE = 0.82210, Train Acc = 0.66871\n",
      "Val Loss = 0.57016, Val MSE = 0.98392, Val MAE = 0.78625, Val Acc = 0.69488\n"
     ]
    },
    {
     "name": "stderr",
     "output_type": "stream",
     "text": [
      "Epoch 24/512: 100%|█████████████████████████████████████████████████████████████████████| 906/906 [00:45<00:00, 19.95it/s]\n"
     ]
    },
    {
     "name": "stdout",
     "output_type": "stream",
     "text": [
      "Epoch 24/512: \n",
      "Train Loss = 0.60063, Train MSE = 1.06129, Train MAE = 0.81729, Train Acc = 0.67187\n",
      "Val Loss = 0.56612, Val MSE = 0.97426, Val MAE = 0.78055, Val Acc = 0.69350\n"
     ]
    },
    {
     "name": "stderr",
     "output_type": "stream",
     "text": [
      "Epoch 25/512: 100%|█████████████████████████████████████████████████████████████████████| 906/906 [00:45<00:00, 19.97it/s]\n"
     ]
    },
    {
     "name": "stdout",
     "output_type": "stream",
     "text": [
      "Epoch 25/512: \n",
      "Train Loss = 0.59883, Train MSE = 1.05848, Train MAE = 0.81571, Train Acc = 0.67379\n",
      "Val Loss = 0.56162, Val MSE = 0.96549, Val MAE = 0.77616, Val Acc = 0.69281\n"
     ]
    },
    {
     "name": "stderr",
     "output_type": "stream",
     "text": [
      "Epoch 26/512: 100%|█████████████████████████████████████████████████████████████████████| 906/906 [00:45<00:00, 19.94it/s]\n"
     ]
    },
    {
     "name": "stdout",
     "output_type": "stream",
     "text": [
      "Epoch 26/512: \n",
      "Train Loss = 0.59292, Train MSE = 1.04333, Train MAE = 0.80932, Train Acc = 0.67721\n",
      "Val Loss = 0.56654, Val MSE = 0.97968, Val MAE = 0.78084, Val Acc = 0.69377\n"
     ]
    },
    {
     "name": "stderr",
     "output_type": "stream",
     "text": [
      "Epoch 27/512: 100%|█████████████████████████████████████████████████████████████████████| 906/906 [00:45<00:00, 19.99it/s]\n"
     ]
    },
    {
     "name": "stdout",
     "output_type": "stream",
     "text": [
      "Epoch 27/512: \n",
      "Train Loss = 0.59191, Train MSE = 1.04180, Train MAE = 0.80819, Train Acc = 0.67802\n",
      "Val Loss = 0.56323, Val MSE = 0.96945, Val MAE = 0.77820, Val Acc = 0.69778\n"
     ]
    },
    {
     "name": "stderr",
     "output_type": "stream",
     "text": [
      "Epoch 28/512: 100%|█████████████████████████████████████████████████████████████████████| 906/906 [00:45<00:00, 19.96it/s]\n"
     ]
    },
    {
     "name": "stdout",
     "output_type": "stream",
     "text": [
      "Epoch 28/512: \n",
      "Train Loss = 0.59074, Train MSE = 1.03707, Train MAE = 0.80719, Train Acc = 0.67898\n",
      "Val Loss = 0.55159, Val MSE = 0.93609, Val MAE = 0.76675, Val Acc = 0.70509\n"
     ]
    },
    {
     "name": "stderr",
     "output_type": "stream",
     "text": [
      "Epoch 29/512: 100%|█████████████████████████████████████████████████████████████████████| 906/906 [00:45<00:00, 20.00it/s]\n"
     ]
    },
    {
     "name": "stdout",
     "output_type": "stream",
     "text": [
      "Epoch 29/512: \n",
      "Train Loss = 0.58691, Train MSE = 1.02732, Train MAE = 0.80307, Train Acc = 0.68010\n",
      "Val Loss = 0.55917, Val MSE = 0.95561, Val MAE = 0.77474, Val Acc = 0.70026\n"
     ]
    },
    {
     "name": "stderr",
     "output_type": "stream",
     "text": [
      "Epoch 30/512: 100%|█████████████████████████████████████████████████████████████████████| 906/906 [00:45<00:00, 20.02it/s]\n"
     ]
    },
    {
     "name": "stdout",
     "output_type": "stream",
     "text": [
      "Epoch 30/512: \n",
      "Train Loss = 0.58293, Train MSE = 1.02217, Train MAE = 0.79856, Train Acc = 0.68268\n",
      "Val Loss = 0.54696, Val MSE = 0.92677, Val MAE = 0.76210, Val Acc = 0.70758\n"
     ]
    },
    {
     "name": "stderr",
     "output_type": "stream",
     "text": [
      "Epoch 31/512: 100%|█████████████████████████████████████████████████████████████████████| 906/906 [00:45<00:00, 19.93it/s]\n"
     ]
    },
    {
     "name": "stdout",
     "output_type": "stream",
     "text": [
      "Epoch 31/512: \n",
      "Train Loss = 0.58335, Train MSE = 1.02179, Train MAE = 0.79903, Train Acc = 0.68193\n",
      "Val Loss = 0.55760, Val MSE = 0.95156, Val MAE = 0.77258, Val Acc = 0.70026\n"
     ]
    },
    {
     "name": "stderr",
     "output_type": "stream",
     "text": [
      "Epoch 32/512: 100%|█████████████████████████████████████████████████████████████████████| 906/906 [00:45<00:00, 19.97it/s]\n"
     ]
    },
    {
     "name": "stdout",
     "output_type": "stream",
     "text": [
      "Epoch 32/512: \n",
      "Train Loss = 0.58070, Train MSE = 1.01591, Train MAE = 0.79626, Train Acc = 0.68578\n",
      "Val Loss = 0.54020, Val MSE = 0.91469, Val MAE = 0.75410, Val Acc = 0.71048\n"
     ]
    },
    {
     "name": "stderr",
     "output_type": "stream",
     "text": [
      "Epoch 33/512: 100%|█████████████████████████████████████████████████████████████████████| 906/906 [00:45<00:00, 19.89it/s]\n"
     ]
    },
    {
     "name": "stdout",
     "output_type": "stream",
     "text": [
      "Epoch 33/512: \n",
      "Train Loss = 0.57729, Train MSE = 1.00632, Train MAE = 0.79320, Train Acc = 0.68689\n",
      "Val Loss = 0.56243, Val MSE = 0.96112, Val MAE = 0.77777, Val Acc = 0.69460\n"
     ]
    },
    {
     "name": "stderr",
     "output_type": "stream",
     "text": [
      "Epoch 34/512: 100%|█████████████████████████████████████████████████████████████████████| 906/906 [00:45<00:00, 20.01it/s]\n"
     ]
    },
    {
     "name": "stdout",
     "output_type": "stream",
     "text": [
      "Epoch 34/512: \n",
      "Train Loss = 0.57795, Train MSE = 1.01239, Train MAE = 0.79330, Train Acc = 0.68742\n",
      "Val Loss = 0.54555, Val MSE = 0.92986, Val MAE = 0.75920, Val Acc = 0.70703\n"
     ]
    },
    {
     "name": "stderr",
     "output_type": "stream",
     "text": [
      "Epoch 35/512: 100%|█████████████████████████████████████████████████████████████████████| 906/906 [00:45<00:00, 19.85it/s]\n"
     ]
    },
    {
     "name": "stdout",
     "output_type": "stream",
     "text": [
      "Epoch 35/512: \n",
      "Train Loss = 0.57484, Train MSE = 1.00044, Train MAE = 0.79037, Train Acc = 0.68884\n",
      "Val Loss = 0.53904, Val MSE = 0.90979, Val MAE = 0.75249, Val Acc = 0.71338\n"
     ]
    },
    {
     "name": "stderr",
     "output_type": "stream",
     "text": [
      "Epoch 36/512: 100%|█████████████████████████████████████████████████████████████████████| 906/906 [00:45<00:00, 19.94it/s]\n"
     ]
    },
    {
     "name": "stdout",
     "output_type": "stream",
     "text": [
      "Epoch 36/512: \n",
      "Train Loss = 0.57344, Train MSE = 1.00041, Train MAE = 0.78905, Train Acc = 0.69232\n",
      "Val Loss = 0.52986, Val MSE = 0.89180, Val MAE = 0.74254, Val Acc = 0.71655\n"
     ]
    },
    {
     "name": "stderr",
     "output_type": "stream",
     "text": [
      "Epoch 37/512: 100%|█████████████████████████████████████████████████████████████████████| 906/906 [00:45<00:00, 19.87it/s]\n"
     ]
    },
    {
     "name": "stdout",
     "output_type": "stream",
     "text": [
      "Epoch 37/512: \n",
      "Train Loss = 0.57033, Train MSE = 0.99340, Train MAE = 0.78545, Train Acc = 0.69436\n",
      "Val Loss = 0.53421, Val MSE = 0.90312, Val MAE = 0.74769, Val Acc = 0.71255\n"
     ]
    },
    {
     "name": "stderr",
     "output_type": "stream",
     "text": [
      "Epoch 38/512: 100%|█████████████████████████████████████████████████████████████████████| 906/906 [00:45<00:00, 19.90it/s]\n"
     ]
    },
    {
     "name": "stdout",
     "output_type": "stream",
     "text": [
      "Epoch 38/512: \n",
      "Train Loss = 0.56888, Train MSE = 0.99033, Train MAE = 0.78386, Train Acc = 0.69358\n",
      "Val Loss = 0.53658, Val MSE = 0.90502, Val MAE = 0.74984, Val Acc = 0.71131\n"
     ]
    },
    {
     "name": "stderr",
     "output_type": "stream",
     "text": [
      "Epoch 39/512: 100%|█████████████████████████████████████████████████████████████████████| 906/906 [00:45<00:00, 19.95it/s]\n"
     ]
    },
    {
     "name": "stdout",
     "output_type": "stream",
     "text": [
      "Epoch 39/512: \n",
      "Train Loss = 0.56819, Train MSE = 0.98685, Train MAE = 0.78325, Train Acc = 0.69560\n",
      "Val Loss = 0.52854, Val MSE = 0.88404, Val MAE = 0.74216, Val Acc = 0.72208\n"
     ]
    },
    {
     "name": "stderr",
     "output_type": "stream",
     "text": [
      "Epoch 40/512: 100%|█████████████████████████████████████████████████████████████████████| 906/906 [00:45<00:00, 19.89it/s]\n"
     ]
    },
    {
     "name": "stdout",
     "output_type": "stream",
     "text": [
      "Epoch 40/512: \n",
      "Train Loss = 0.56639, Train MSE = 0.98547, Train MAE = 0.78099, Train Acc = 0.69564\n",
      "Val Loss = 0.52610, Val MSE = 0.88715, Val MAE = 0.73848, Val Acc = 0.72180\n"
     ]
    },
    {
     "name": "stderr",
     "output_type": "stream",
     "text": [
      "Epoch 41/512: 100%|█████████████████████████████████████████████████████████████████████| 906/906 [00:45<00:00, 20.00it/s]\n"
     ]
    },
    {
     "name": "stdout",
     "output_type": "stream",
     "text": [
      "Epoch 41/512: \n",
      "Train Loss = 0.56375, Train MSE = 0.97695, Train MAE = 0.77858, Train Acc = 0.69647\n",
      "Val Loss = 0.53283, Val MSE = 0.89516, Val MAE = 0.74634, Val Acc = 0.71586\n"
     ]
    },
    {
     "name": "stderr",
     "output_type": "stream",
     "text": [
      "Epoch 42/512: 100%|█████████████████████████████████████████████████████████████████████| 906/906 [00:45<00:00, 19.98it/s]\n"
     ]
    },
    {
     "name": "stdout",
     "output_type": "stream",
     "text": [
      "Epoch 42/512: \n",
      "Train Loss = 0.56501, Train MSE = 0.97955, Train MAE = 0.78003, Train Acc = 0.69634\n",
      "Val Loss = 0.52862, Val MSE = 0.88831, Val MAE = 0.74192, Val Acc = 0.72042\n"
     ]
    },
    {
     "name": "stderr",
     "output_type": "stream",
     "text": [
      "Epoch 43/512: 100%|█████████████████████████████████████████████████████████████████████| 906/906 [00:45<00:00, 20.01it/s]\n"
     ]
    },
    {
     "name": "stdout",
     "output_type": "stream",
     "text": [
      "Epoch 43/512: \n",
      "Train Loss = 0.56196, Train MSE = 0.97216, Train MAE = 0.77652, Train Acc = 0.69962\n",
      "Val Loss = 0.52356, Val MSE = 0.87715, Val MAE = 0.73581, Val Acc = 0.72622\n"
     ]
    },
    {
     "name": "stderr",
     "output_type": "stream",
     "text": [
      "Epoch 44/512: 100%|█████████████████████████████████████████████████████████████████████| 906/906 [00:45<00:00, 19.93it/s]\n"
     ]
    },
    {
     "name": "stdout",
     "output_type": "stream",
     "text": [
      "Epoch 44/512: \n",
      "Train Loss = 0.56016, Train MSE = 0.96951, Train MAE = 0.77431, Train Acc = 0.69812\n",
      "Val Loss = 0.53020, Val MSE = 0.89431, Val MAE = 0.74245, Val Acc = 0.71945\n"
     ]
    },
    {
     "name": "stderr",
     "output_type": "stream",
     "text": [
      "Epoch 45/512: 100%|█████████████████████████████████████████████████████████████████████| 906/906 [00:45<00:00, 19.93it/s]\n"
     ]
    },
    {
     "name": "stdout",
     "output_type": "stream",
     "text": [
      "Epoch 45/512: \n",
      "Train Loss = 0.55689, Train MSE = 0.96187, Train MAE = 0.77101, Train Acc = 0.70161\n",
      "Val Loss = 0.52826, Val MSE = 0.89509, Val MAE = 0.74062, Val Acc = 0.72373\n"
     ]
    },
    {
     "name": "stderr",
     "output_type": "stream",
     "text": [
      "Epoch 46/512: 100%|█████████████████████████████████████████████████████████████████████| 906/906 [00:45<00:00, 19.97it/s]\n"
     ]
    },
    {
     "name": "stdout",
     "output_type": "stream",
     "text": [
      "Epoch 46/512: \n",
      "Train Loss = 0.55690, Train MSE = 0.96197, Train MAE = 0.77112, Train Acc = 0.70133\n",
      "Val Loss = 0.53761, Val MSE = 0.90585, Val MAE = 0.75132, Val Acc = 0.70993\n"
     ]
    },
    {
     "name": "stderr",
     "output_type": "stream",
     "text": [
      "Epoch 47/512: 100%|█████████████████████████████████████████████████████████████████████| 906/906 [00:45<00:00, 19.88it/s]\n"
     ]
    },
    {
     "name": "stdout",
     "output_type": "stream",
     "text": [
      "Epoch 47/512: \n",
      "Train Loss = 0.55533, Train MSE = 0.95814, Train MAE = 0.76947, Train Acc = 0.70306\n",
      "Val Loss = 0.52139, Val MSE = 0.87172, Val MAE = 0.73342, Val Acc = 0.72401\n"
     ]
    },
    {
     "name": "stderr",
     "output_type": "stream",
     "text": [
      "Epoch 48/512: 100%|█████████████████████████████████████████████████████████████████████| 906/906 [00:45<00:00, 19.87it/s]\n"
     ]
    },
    {
     "name": "stdout",
     "output_type": "stream",
     "text": [
      "Epoch 48/512: \n",
      "Train Loss = 0.55203, Train MSE = 0.95219, Train MAE = 0.76576, Train Acc = 0.70663\n",
      "Val Loss = 0.51852, Val MSE = 0.86192, Val MAE = 0.73153, Val Acc = 0.72649\n"
     ]
    },
    {
     "name": "stderr",
     "output_type": "stream",
     "text": [
      "Epoch 49/512: 100%|█████████████████████████████████████████████████████████████████████| 906/906 [00:45<00:00, 19.94it/s]\n"
     ]
    },
    {
     "name": "stdout",
     "output_type": "stream",
     "text": [
      "Epoch 49/512: \n",
      "Train Loss = 0.55243, Train MSE = 0.95186, Train MAE = 0.76662, Train Acc = 0.70615\n",
      "Val Loss = 0.51350, Val MSE = 0.84845, Val MAE = 0.72668, Val Acc = 0.73478\n"
     ]
    },
    {
     "name": "stderr",
     "output_type": "stream",
     "text": [
      "Epoch 50/512: 100%|█████████████████████████████████████████████████████████████████████| 906/906 [00:45<00:00, 19.98it/s]\n"
     ]
    },
    {
     "name": "stdout",
     "output_type": "stream",
     "text": [
      "Epoch 50/512: \n",
      "Train Loss = 0.54676, Train MSE = 0.93971, Train MAE = 0.76002, Train Acc = 0.70965\n",
      "Val Loss = 0.51002, Val MSE = 0.85230, Val MAE = 0.72145, Val Acc = 0.73423\n"
     ]
    },
    {
     "name": "stderr",
     "output_type": "stream",
     "text": [
      "Epoch 51/512: 100%|█████████████████████████████████████████████████████████████████████| 906/906 [00:45<00:00, 19.94it/s]\n"
     ]
    },
    {
     "name": "stdout",
     "output_type": "stream",
     "text": [
      "Epoch 51/512: \n",
      "Train Loss = 0.55080, Train MSE = 0.94597, Train MAE = 0.76500, Train Acc = 0.70594\n",
      "Val Loss = 0.51141, Val MSE = 0.85417, Val MAE = 0.72330, Val Acc = 0.73257\n"
     ]
    },
    {
     "name": "stderr",
     "output_type": "stream",
     "text": [
      "Epoch 52/512: 100%|█████████████████████████████████████████████████████████████████████| 906/906 [00:45<00:00, 19.97it/s]\n"
     ]
    },
    {
     "name": "stdout",
     "output_type": "stream",
     "text": [
      "Epoch 52/512: \n",
      "Train Loss = 0.54853, Train MSE = 0.94186, Train MAE = 0.76270, Train Acc = 0.70934\n",
      "Val Loss = 0.51055, Val MSE = 0.84378, Val MAE = 0.72260, Val Acc = 0.73022\n"
     ]
    },
    {
     "name": "stderr",
     "output_type": "stream",
     "text": [
      "Epoch 53/512: 100%|█████████████████████████████████████████████████████████████████████| 906/906 [00:45<00:00, 19.91it/s]\n"
     ]
    },
    {
     "name": "stdout",
     "output_type": "stream",
     "text": [
      "Epoch 53/512: \n",
      "Train Loss = 0.54642, Train MSE = 0.93660, Train MAE = 0.76005, Train Acc = 0.70853\n",
      "Val Loss = 0.50262, Val MSE = 0.82739, Val MAE = 0.71430, Val Acc = 0.73519\n"
     ]
    },
    {
     "name": "stderr",
     "output_type": "stream",
     "text": [
      "Epoch 54/512: 100%|█████████████████████████████████████████████████████████████████████| 906/906 [00:45<00:00, 20.03it/s]\n"
     ]
    },
    {
     "name": "stdout",
     "output_type": "stream",
     "text": [
      "Epoch 54/512: \n",
      "Train Loss = 0.54632, Train MSE = 0.93809, Train MAE = 0.76008, Train Acc = 0.71193\n",
      "Val Loss = 0.50513, Val MSE = 0.83561, Val MAE = 0.71664, Val Acc = 0.73616\n"
     ]
    },
    {
     "name": "stderr",
     "output_type": "stream",
     "text": [
      "Epoch 55/512: 100%|█████████████████████████████████████████████████████████████████████| 906/906 [00:45<00:00, 19.88it/s]\n"
     ]
    },
    {
     "name": "stdout",
     "output_type": "stream",
     "text": [
      "Epoch 55/512: \n",
      "Train Loss = 0.54318, Train MSE = 0.92994, Train MAE = 0.75680, Train Acc = 0.71212\n",
      "Val Loss = 0.50381, Val MSE = 0.83495, Val MAE = 0.71565, Val Acc = 0.73671\n"
     ]
    },
    {
     "name": "stderr",
     "output_type": "stream",
     "text": [
      "Epoch 56/512: 100%|█████████████████████████████████████████████████████████████████████| 906/906 [00:45<00:00, 19.91it/s]\n"
     ]
    },
    {
     "name": "stdout",
     "output_type": "stream",
     "text": [
      "Epoch 56/512: \n",
      "Train Loss = 0.54221, Train MSE = 0.92743, Train MAE = 0.75580, Train Acc = 0.71447\n",
      "Val Loss = 0.50126, Val MSE = 0.82639, Val MAE = 0.71226, Val Acc = 0.73657\n"
     ]
    },
    {
     "name": "stderr",
     "output_type": "stream",
     "text": [
      "Epoch 57/512: 100%|█████████████████████████████████████████████████████████████████████| 906/906 [00:45<00:00, 19.96it/s]\n"
     ]
    },
    {
     "name": "stdout",
     "output_type": "stream",
     "text": [
      "Epoch 57/512: \n",
      "Train Loss = 0.54336, Train MSE = 0.93063, Train MAE = 0.75707, Train Acc = 0.71286\n",
      "Val Loss = 0.50725, Val MSE = 0.83571, Val MAE = 0.71909, Val Acc = 0.73588\n"
     ]
    },
    {
     "name": "stderr",
     "output_type": "stream",
     "text": [
      "Epoch 58/512: 100%|█████████████████████████████████████████████████████████████████████| 906/906 [00:45<00:00, 19.88it/s]\n"
     ]
    },
    {
     "name": "stdout",
     "output_type": "stream",
     "text": [
      "Epoch 58/512: \n",
      "Train Loss = 0.54167, Train MSE = 0.92769, Train MAE = 0.75523, Train Acc = 0.71405\n",
      "Val Loss = 0.50259, Val MSE = 0.83765, Val MAE = 0.71373, Val Acc = 0.74154\n"
     ]
    },
    {
     "name": "stderr",
     "output_type": "stream",
     "text": [
      "Epoch 59/512: 100%|█████████████████████████████████████████████████████████████████████| 906/906 [00:45<00:00, 19.90it/s]\n"
     ]
    },
    {
     "name": "stdout",
     "output_type": "stream",
     "text": [
      "Epoch 59/512: \n",
      "Train Loss = 0.54142, Train MSE = 0.92691, Train MAE = 0.75494, Train Acc = 0.71459\n",
      "Val Loss = 0.49925, Val MSE = 0.82771, Val MAE = 0.70914, Val Acc = 0.74361\n"
     ]
    },
    {
     "name": "stderr",
     "output_type": "stream",
     "text": [
      "Epoch 60/512: 100%|█████████████████████████████████████████████████████████████████████| 906/906 [00:45<00:00, 19.94it/s]\n"
     ]
    },
    {
     "name": "stdout",
     "output_type": "stream",
     "text": [
      "Epoch 60/512: \n",
      "Train Loss = 0.53983, Train MSE = 0.92070, Train MAE = 0.75327, Train Acc = 0.71464\n",
      "Val Loss = 0.50238, Val MSE = 0.82066, Val MAE = 0.71484, Val Acc = 0.73657\n"
     ]
    },
    {
     "name": "stderr",
     "output_type": "stream",
     "text": [
      "Epoch 61/512: 100%|█████████████████████████████████████████████████████████████████████| 906/906 [00:45<00:00, 19.96it/s]\n"
     ]
    },
    {
     "name": "stdout",
     "output_type": "stream",
     "text": [
      "Epoch 61/512: \n",
      "Train Loss = 0.53783, Train MSE = 0.91872, Train MAE = 0.75082, Train Acc = 0.71476\n",
      "Val Loss = 0.49895, Val MSE = 0.82485, Val MAE = 0.71070, Val Acc = 0.74500\n"
     ]
    },
    {
     "name": "stderr",
     "output_type": "stream",
     "text": [
      "Epoch 62/512: 100%|█████████████████████████████████████████████████████████████████████| 906/906 [00:45<00:00, 19.95it/s]\n"
     ]
    },
    {
     "name": "stdout",
     "output_type": "stream",
     "text": [
      "Epoch 62/512: \n",
      "Train Loss = 0.53700, Train MSE = 0.91839, Train MAE = 0.74981, Train Acc = 0.71638\n",
      "Val Loss = 0.51105, Val MSE = 0.84518, Val MAE = 0.72306, Val Acc = 0.73160\n"
     ]
    },
    {
     "name": "stderr",
     "output_type": "stream",
     "text": [
      "Epoch 63/512: 100%|█████████████████████████████████████████████████████████████████████| 906/906 [00:45<00:00, 19.94it/s]\n"
     ]
    },
    {
     "name": "stdout",
     "output_type": "stream",
     "text": [
      "Epoch 63/512: \n",
      "Train Loss = 0.53290, Train MSE = 0.90724, Train MAE = 0.74601, Train Acc = 0.71976\n",
      "Val Loss = 0.48830, Val MSE = 0.80649, Val MAE = 0.69805, Val Acc = 0.75162\n"
     ]
    },
    {
     "name": "stderr",
     "output_type": "stream",
     "text": [
      "Epoch 64/512: 100%|█████████████████████████████████████████████████████████████████████| 906/906 [00:45<00:00, 19.95it/s]\n"
     ]
    },
    {
     "name": "stdout",
     "output_type": "stream",
     "text": [
      "Epoch 64/512: \n",
      "Train Loss = 0.53411, Train MSE = 0.91180, Train MAE = 0.74706, Train Acc = 0.71921\n",
      "Val Loss = 0.49739, Val MSE = 0.81681, Val MAE = 0.70959, Val Acc = 0.74016\n"
     ]
    },
    {
     "name": "stderr",
     "output_type": "stream",
     "text": [
      "Epoch 65/512: 100%|█████████████████████████████████████████████████████████████████████| 906/906 [00:45<00:00, 19.95it/s]\n"
     ]
    },
    {
     "name": "stdout",
     "output_type": "stream",
     "text": [
      "Epoch 65/512: \n",
      "Train Loss = 0.53437, Train MSE = 0.90972, Train MAE = 0.74780, Train Acc = 0.72021\n",
      "Val Loss = 0.49469, Val MSE = 0.81885, Val MAE = 0.70471, Val Acc = 0.74941\n"
     ]
    },
    {
     "name": "stderr",
     "output_type": "stream",
     "text": [
      "Epoch 66/512: 100%|█████████████████████████████████████████████████████████████████████| 906/906 [00:45<00:00, 19.86it/s]\n"
     ]
    },
    {
     "name": "stdout",
     "output_type": "stream",
     "text": [
      "Epoch 66/512: \n",
      "Train Loss = 0.53293, Train MSE = 0.90898, Train MAE = 0.74602, Train Acc = 0.72137\n",
      "Val Loss = 0.48781, Val MSE = 0.80440, Val MAE = 0.69791, Val Acc = 0.74928\n"
     ]
    },
    {
     "name": "stderr",
     "output_type": "stream",
     "text": [
      "Epoch 67/512: 100%|█████████████████████████████████████████████████████████████████████| 906/906 [00:45<00:00, 19.96it/s]\n"
     ]
    },
    {
     "name": "stdout",
     "output_type": "stream",
     "text": [
      "Epoch 67/512: \n",
      "Train Loss = 0.53315, Train MSE = 0.90748, Train MAE = 0.74598, Train Acc = 0.71923\n",
      "Val Loss = 0.48849, Val MSE = 0.81379, Val MAE = 0.69834, Val Acc = 0.75632\n"
     ]
    },
    {
     "name": "stderr",
     "output_type": "stream",
     "text": [
      "Epoch 68/512: 100%|█████████████████████████████████████████████████████████████████████| 906/906 [00:45<00:00, 19.96it/s]\n"
     ]
    },
    {
     "name": "stdout",
     "output_type": "stream",
     "text": [
      "Epoch 68/512: \n",
      "Train Loss = 0.53060, Train MSE = 0.90184, Train MAE = 0.74338, Train Acc = 0.72282\n",
      "Val Loss = 0.49412, Val MSE = 0.81981, Val MAE = 0.70406, Val Acc = 0.74403\n"
     ]
    },
    {
     "name": "stderr",
     "output_type": "stream",
     "text": [
      "Epoch 69/512: 100%|█████████████████████████████████████████████████████████████████████| 906/906 [00:45<00:00, 19.96it/s]\n"
     ]
    },
    {
     "name": "stdout",
     "output_type": "stream",
     "text": [
      "Epoch 69/512: \n",
      "Train Loss = 0.52784, Train MSE = 0.89699, Train MAE = 0.74023, Train Acc = 0.72354\n",
      "Val Loss = 0.49259, Val MSE = 0.80969, Val MAE = 0.70305, Val Acc = 0.74334\n"
     ]
    },
    {
     "name": "stderr",
     "output_type": "stream",
     "text": [
      "Epoch 70/512: 100%|█████████████████████████████████████████████████████████████████████| 906/906 [00:45<00:00, 19.95it/s]\n"
     ]
    },
    {
     "name": "stdout",
     "output_type": "stream",
     "text": [
      "Epoch 70/512: \n",
      "Train Loss = 0.52794, Train MSE = 0.89740, Train MAE = 0.74047, Train Acc = 0.72427\n",
      "Val Loss = 0.50461, Val MSE = 0.83257, Val MAE = 0.71676, Val Acc = 0.73547\n"
     ]
    },
    {
     "name": "stderr",
     "output_type": "stream",
     "text": [
      "Epoch 71/512: 100%|█████████████████████████████████████████████████████████████████████| 906/906 [00:45<00:00, 19.94it/s]\n"
     ]
    },
    {
     "name": "stdout",
     "output_type": "stream",
     "text": [
      "Epoch 71/512: \n",
      "Train Loss = 0.52601, Train MSE = 0.89289, Train MAE = 0.73874, Train Acc = 0.72599\n",
      "Val Loss = 0.49062, Val MSE = 0.80522, Val MAE = 0.70168, Val Acc = 0.74803\n"
     ]
    },
    {
     "name": "stderr",
     "output_type": "stream",
     "text": [
      "Epoch 72/512: 100%|█████████████████████████████████████████████████████████████████████| 906/906 [00:45<00:00, 19.95it/s]\n"
     ]
    },
    {
     "name": "stdout",
     "output_type": "stream",
     "text": [
      "Epoch 72/512: \n",
      "Train Loss = 0.52453, Train MSE = 0.88960, Train MAE = 0.73672, Train Acc = 0.72744\n",
      "Val Loss = 0.49360, Val MSE = 0.81163, Val MAE = 0.70437, Val Acc = 0.74223\n"
     ]
    },
    {
     "name": "stderr",
     "output_type": "stream",
     "text": [
      "Epoch 73/512: 100%|█████████████████████████████████████████████████████████████████████| 906/906 [00:45<00:00, 19.96it/s]\n"
     ]
    },
    {
     "name": "stdout",
     "output_type": "stream",
     "text": [
      "Epoch 73/512: \n",
      "Train Loss = 0.52220, Train MSE = 0.88415, Train MAE = 0.73422, Train Acc = 0.72824\n",
      "Val Loss = 0.48748, Val MSE = 0.79986, Val MAE = 0.69847, Val Acc = 0.75148\n"
     ]
    },
    {
     "name": "stderr",
     "output_type": "stream",
     "text": [
      "Epoch 74/512: 100%|█████████████████████████████████████████████████████████████████████| 906/906 [00:45<00:00, 19.93it/s]\n"
     ]
    },
    {
     "name": "stdout",
     "output_type": "stream",
     "text": [
      "Epoch 74/512: \n",
      "Train Loss = 0.52215, Train MSE = 0.88369, Train MAE = 0.73435, Train Acc = 0.72696\n",
      "Val Loss = 0.47983, Val MSE = 0.78990, Val MAE = 0.68900, Val Acc = 0.75894\n"
     ]
    },
    {
     "name": "stderr",
     "output_type": "stream",
     "text": [
      "Epoch 75/512: 100%|█████████████████████████████████████████████████████████████████████| 906/906 [00:45<00:00, 19.94it/s]\n"
     ]
    },
    {
     "name": "stdout",
     "output_type": "stream",
     "text": [
      "Epoch 75/512: \n",
      "Train Loss = 0.52318, Train MSE = 0.88518, Train MAE = 0.73520, Train Acc = 0.72646\n",
      "Val Loss = 0.48373, Val MSE = 0.79758, Val MAE = 0.69341, Val Acc = 0.75425\n"
     ]
    },
    {
     "name": "stderr",
     "output_type": "stream",
     "text": [
      "Epoch 76/512: 100%|█████████████████████████████████████████████████████████████████████| 906/906 [00:45<00:00, 19.93it/s]\n"
     ]
    },
    {
     "name": "stdout",
     "output_type": "stream",
     "text": [
      "Epoch 76/512: \n",
      "Train Loss = 0.52189, Train MSE = 0.88335, Train MAE = 0.73401, Train Acc = 0.72525\n",
      "Val Loss = 0.48582, Val MSE = 0.80299, Val MAE = 0.69561, Val Acc = 0.75383\n"
     ]
    },
    {
     "name": "stderr",
     "output_type": "stream",
     "text": [
      "Epoch 77/512: 100%|█████████████████████████████████████████████████████████████████████| 906/906 [00:45<00:00, 19.97it/s]\n"
     ]
    },
    {
     "name": "stdout",
     "output_type": "stream",
     "text": [
      "Epoch 77/512: \n",
      "Train Loss = 0.52030, Train MSE = 0.87940, Train MAE = 0.73254, Train Acc = 0.73007\n",
      "Val Loss = 0.48301, Val MSE = 0.79511, Val MAE = 0.69177, Val Acc = 0.75259\n"
     ]
    },
    {
     "name": "stderr",
     "output_type": "stream",
     "text": [
      "Epoch 78/512: 100%|█████████████████████████████████████████████████████████████████████| 906/906 [00:45<00:00, 20.02it/s]\n"
     ]
    },
    {
     "name": "stdout",
     "output_type": "stream",
     "text": [
      "Epoch 78/512: \n",
      "Train Loss = 0.51969, Train MSE = 0.87882, Train MAE = 0.73184, Train Acc = 0.72939\n",
      "Val Loss = 0.47653, Val MSE = 0.78054, Val MAE = 0.68616, Val Acc = 0.76225\n"
     ]
    },
    {
     "name": "stderr",
     "output_type": "stream",
     "text": [
      "Epoch 79/512: 100%|█████████████████████████████████████████████████████████████████████| 906/906 [00:45<00:00, 19.87it/s]\n"
     ]
    },
    {
     "name": "stdout",
     "output_type": "stream",
     "text": [
      "Epoch 79/512: \n",
      "Train Loss = 0.51954, Train MSE = 0.87800, Train MAE = 0.73179, Train Acc = 0.72938\n",
      "Val Loss = 0.48184, Val MSE = 0.79440, Val MAE = 0.69172, Val Acc = 0.75535\n"
     ]
    },
    {
     "name": "stderr",
     "output_type": "stream",
     "text": [
      "Epoch 80/512: 100%|█████████████████████████████████████████████████████████████████████| 906/906 [00:45<00:00, 20.01it/s]\n"
     ]
    },
    {
     "name": "stdout",
     "output_type": "stream",
     "text": [
      "Epoch 80/512: \n",
      "Train Loss = 0.51933, Train MSE = 0.87852, Train MAE = 0.73151, Train Acc = 0.73015\n",
      "Val Loss = 0.47695, Val MSE = 0.78511, Val MAE = 0.68558, Val Acc = 0.75825\n"
     ]
    },
    {
     "name": "stderr",
     "output_type": "stream",
     "text": [
      "Epoch 81/512: 100%|█████████████████████████████████████████████████████████████████████| 906/906 [00:45<00:00, 19.86it/s]\n"
     ]
    },
    {
     "name": "stdout",
     "output_type": "stream",
     "text": [
      "Epoch 81/512: \n",
      "Train Loss = 0.51934, Train MSE = 0.87978, Train MAE = 0.73100, Train Acc = 0.72729\n",
      "Val Loss = 0.48000, Val MSE = 0.78611, Val MAE = 0.69048, Val Acc = 0.75632\n"
     ]
    },
    {
     "name": "stderr",
     "output_type": "stream",
     "text": [
      "Epoch 82/512: 100%|█████████████████████████████████████████████████████████████████████| 906/906 [00:45<00:00, 19.93it/s]\n"
     ]
    },
    {
     "name": "stdout",
     "output_type": "stream",
     "text": [
      "Epoch 82/512: \n",
      "Train Loss = 0.51579, Train MSE = 0.87058, Train MAE = 0.72732, Train Acc = 0.73115\n",
      "Val Loss = 0.48926, Val MSE = 0.81660, Val MAE = 0.69817, Val Acc = 0.75645\n"
     ]
    },
    {
     "name": "stderr",
     "output_type": "stream",
     "text": [
      "Epoch 83/512: 100%|█████████████████████████████████████████████████████████████████████| 906/906 [00:45<00:00, 19.86it/s]\n"
     ]
    },
    {
     "name": "stdout",
     "output_type": "stream",
     "text": [
      "Epoch 83/512: \n",
      "Train Loss = 0.51604, Train MSE = 0.87230, Train MAE = 0.72791, Train Acc = 0.73238\n",
      "Val Loss = 0.48560, Val MSE = 0.79963, Val MAE = 0.69552, Val Acc = 0.75259\n"
     ]
    },
    {
     "name": "stderr",
     "output_type": "stream",
     "text": [
      "Epoch 84/512: 100%|█████████████████████████████████████████████████████████████████████| 906/906 [00:45<00:00, 19.98it/s]\n"
     ]
    },
    {
     "name": "stdout",
     "output_type": "stream",
     "text": [
      "Epoch 84/512: \n",
      "Train Loss = 0.51586, Train MSE = 0.86951, Train MAE = 0.72737, Train Acc = 0.73250\n",
      "Val Loss = 0.48112, Val MSE = 0.78584, Val MAE = 0.69161, Val Acc = 0.75853\n"
     ]
    },
    {
     "name": "stderr",
     "output_type": "stream",
     "text": [
      "Epoch 85/512: 100%|█████████████████████████████████████████████████████████████████████| 906/906 [00:45<00:00, 20.01it/s]\n"
     ]
    },
    {
     "name": "stdout",
     "output_type": "stream",
     "text": [
      "Epoch 85/512: \n",
      "Train Loss = 0.51275, Train MSE = 0.86210, Train MAE = 0.72446, Train Acc = 0.73523\n",
      "Val Loss = 0.47729, Val MSE = 0.78247, Val MAE = 0.68787, Val Acc = 0.76198\n"
     ]
    },
    {
     "name": "stderr",
     "output_type": "stream",
     "text": [
      "Epoch 86/512: 100%|█████████████████████████████████████████████████████████████████████| 906/906 [00:45<00:00, 19.82it/s]\n"
     ]
    },
    {
     "name": "stdout",
     "output_type": "stream",
     "text": [
      "Epoch 86/512: \n",
      "Train Loss = 0.51220, Train MSE = 0.86309, Train MAE = 0.72339, Train Acc = 0.73488\n",
      "Val Loss = 0.47573, Val MSE = 0.77366, Val MAE = 0.68675, Val Acc = 0.76156\n"
     ]
    },
    {
     "name": "stderr",
     "output_type": "stream",
     "text": [
      "Epoch 87/512: 100%|█████████████████████████████████████████████████████████████████████| 906/906 [00:45<00:00, 19.91it/s]\n"
     ]
    },
    {
     "name": "stdout",
     "output_type": "stream",
     "text": [
      "Epoch 87/512: \n",
      "Train Loss = 0.51184, Train MSE = 0.86260, Train MAE = 0.72326, Train Acc = 0.73537\n",
      "Val Loss = 0.47429, Val MSE = 0.77509, Val MAE = 0.68461, Val Acc = 0.76032\n"
     ]
    },
    {
     "name": "stderr",
     "output_type": "stream",
     "text": [
      "Epoch 88/512: 100%|█████████████████████████████████████████████████████████████████████| 906/906 [00:45<00:00, 19.98it/s]\n"
     ]
    },
    {
     "name": "stdout",
     "output_type": "stream",
     "text": [
      "Epoch 88/512: \n",
      "Train Loss = 0.51274, Train MSE = 0.86206, Train MAE = 0.72437, Train Acc = 0.73464\n",
      "Val Loss = 0.48647, Val MSE = 0.80816, Val MAE = 0.69707, Val Acc = 0.75645\n"
     ]
    },
    {
     "name": "stderr",
     "output_type": "stream",
     "text": [
      "Epoch 89/512: 100%|█████████████████████████████████████████████████████████████████████| 906/906 [00:45<00:00, 19.94it/s]\n"
     ]
    },
    {
     "name": "stdout",
     "output_type": "stream",
     "text": [
      "Epoch 89/512: \n",
      "Train Loss = 0.51477, Train MSE = 0.86912, Train MAE = 0.72622, Train Acc = 0.73435\n",
      "Val Loss = 0.46836, Val MSE = 0.76481, Val MAE = 0.67739, Val Acc = 0.76529\n"
     ]
    },
    {
     "name": "stderr",
     "output_type": "stream",
     "text": [
      "Epoch 90/512: 100%|█████████████████████████████████████████████████████████████████████| 906/906 [00:45<00:00, 20.01it/s]\n"
     ]
    },
    {
     "name": "stdout",
     "output_type": "stream",
     "text": [
      "Epoch 90/512: \n",
      "Train Loss = 0.51365, Train MSE = 0.86490, Train MAE = 0.72535, Train Acc = 0.73431\n",
      "Val Loss = 0.47609, Val MSE = 0.77610, Val MAE = 0.68556, Val Acc = 0.75742\n"
     ]
    },
    {
     "name": "stderr",
     "output_type": "stream",
     "text": [
      "Epoch 91/512: 100%|█████████████████████████████████████████████████████████████████████| 906/906 [00:45<00:00, 20.04it/s]\n"
     ]
    },
    {
     "name": "stdout",
     "output_type": "stream",
     "text": [
      "Epoch 91/512: \n",
      "Train Loss = 0.51234, Train MSE = 0.86227, Train MAE = 0.72395, Train Acc = 0.73474\n",
      "Val Loss = 0.47727, Val MSE = 0.78398, Val MAE = 0.68694, Val Acc = 0.76004\n"
     ]
    },
    {
     "name": "stderr",
     "output_type": "stream",
     "text": [
      "Epoch 92/512: 100%|█████████████████████████████████████████████████████████████████████| 906/906 [00:45<00:00, 20.03it/s]\n"
     ]
    },
    {
     "name": "stdout",
     "output_type": "stream",
     "text": [
      "Epoch 92/512: \n",
      "Train Loss = 0.50898, Train MSE = 0.85693, Train MAE = 0.72036, Train Acc = 0.73657\n",
      "Val Loss = 0.48535, Val MSE = 0.80543, Val MAE = 0.69518, Val Acc = 0.75701\n"
     ]
    },
    {
     "name": "stderr",
     "output_type": "stream",
     "text": [
      "Epoch 93/512: 100%|█████████████████████████████████████████████████████████████████████| 906/906 [00:45<00:00, 19.97it/s]\n"
     ]
    },
    {
     "name": "stdout",
     "output_type": "stream",
     "text": [
      "Epoch 93/512: \n",
      "Train Loss = 0.50757, Train MSE = 0.85239, Train MAE = 0.71905, Train Acc = 0.73914\n",
      "Val Loss = 0.48469, Val MSE = 0.79944, Val MAE = 0.69520, Val Acc = 0.75121\n"
     ]
    },
    {
     "name": "stderr",
     "output_type": "stream",
     "text": [
      "Epoch 94/512: 100%|█████████████████████████████████████████████████████████████████████| 906/906 [00:45<00:00, 20.08it/s]\n"
     ]
    },
    {
     "name": "stdout",
     "output_type": "stream",
     "text": [
      "Epoch 94/512: \n",
      "Train Loss = 0.50938, Train MSE = 0.85914, Train MAE = 0.72056, Train Acc = 0.73790\n",
      "Val Loss = 0.47923, Val MSE = 0.78342, Val MAE = 0.68979, Val Acc = 0.75756\n"
     ]
    },
    {
     "name": "stderr",
     "output_type": "stream",
     "text": [
      "Epoch 95/512: 100%|█████████████████████████████████████████████████████████████████████| 906/906 [00:45<00:00, 20.09it/s]\n"
     ]
    },
    {
     "name": "stdout",
     "output_type": "stream",
     "text": [
      "Epoch 95/512: \n",
      "Train Loss = 0.50692, Train MSE = 0.85259, Train MAE = 0.71797, Train Acc = 0.73918\n",
      "Val Loss = 0.46266, Val MSE = 0.75634, Val MAE = 0.67111, Val Acc = 0.76695\n"
     ]
    },
    {
     "name": "stderr",
     "output_type": "stream",
     "text": [
      "Epoch 96/512: 100%|█████████████████████████████████████████████████████████████████████| 906/906 [00:45<00:00, 20.00it/s]\n"
     ]
    },
    {
     "name": "stdout",
     "output_type": "stream",
     "text": [
      "Epoch 96/512: \n",
      "Train Loss = 0.50667, Train MSE = 0.84969, Train MAE = 0.71763, Train Acc = 0.73799\n",
      "Val Loss = 0.46934, Val MSE = 0.76692, Val MAE = 0.67773, Val Acc = 0.76446\n"
     ]
    },
    {
     "name": "stderr",
     "output_type": "stream",
     "text": [
      "Epoch 97/512: 100%|█████████████████████████████████████████████████████████████████████| 906/906 [00:45<00:00, 19.89it/s]\n"
     ]
    },
    {
     "name": "stdout",
     "output_type": "stream",
     "text": [
      "Epoch 97/512: \n",
      "Train Loss = 0.50602, Train MSE = 0.84968, Train MAE = 0.71685, Train Acc = 0.74104\n",
      "Val Loss = 0.47220, Val MSE = 0.77366, Val MAE = 0.68051, Val Acc = 0.76281\n"
     ]
    },
    {
     "name": "stderr",
     "output_type": "stream",
     "text": [
      "Epoch 98/512: 100%|█████████████████████████████████████████████████████████████████████| 906/906 [00:45<00:00, 19.93it/s]\n"
     ]
    },
    {
     "name": "stdout",
     "output_type": "stream",
     "text": [
      "Epoch 98/512: \n",
      "Train Loss = 0.50491, Train MSE = 0.84576, Train MAE = 0.71573, Train Acc = 0.73956\n",
      "Val Loss = 0.46429, Val MSE = 0.76086, Val MAE = 0.67179, Val Acc = 0.76888\n"
     ]
    },
    {
     "name": "stderr",
     "output_type": "stream",
     "text": [
      "Epoch 99/512: 100%|█████████████████████████████████████████████████████████████████████| 906/906 [00:45<00:00, 19.84it/s]\n"
     ]
    },
    {
     "name": "stdout",
     "output_type": "stream",
     "text": [
      "Epoch 99/512: \n",
      "Train Loss = 0.50769, Train MSE = 0.85291, Train MAE = 0.71891, Train Acc = 0.73820\n",
      "Val Loss = 0.47162, Val MSE = 0.76963, Val MAE = 0.68038, Val Acc = 0.76142\n"
     ]
    },
    {
     "name": "stderr",
     "output_type": "stream",
     "text": [
      "Epoch 100/512: 100%|████████████████████████████████████████████████████████████████████| 906/906 [00:45<00:00, 19.96it/s]\n"
     ]
    },
    {
     "name": "stdout",
     "output_type": "stream",
     "text": [
      "Epoch 100/512: \n",
      "Train Loss = 0.50363, Train MSE = 0.84495, Train MAE = 0.71427, Train Acc = 0.73916\n",
      "Val Loss = 0.47007, Val MSE = 0.76740, Val MAE = 0.67854, Val Acc = 0.76170\n"
     ]
    },
    {
     "name": "stderr",
     "output_type": "stream",
     "text": [
      "Epoch 101/512: 100%|████████████████████████████████████████████████████████████████████| 906/906 [00:45<00:00, 19.94it/s]\n"
     ]
    },
    {
     "name": "stdout",
     "output_type": "stream",
     "text": [
      "Epoch 101/512: \n",
      "Train Loss = 0.50348, Train MSE = 0.84395, Train MAE = 0.71460, Train Acc = 0.74090\n",
      "Val Loss = 0.46992, Val MSE = 0.76860, Val MAE = 0.67876, Val Acc = 0.76184\n"
     ]
    },
    {
     "name": "stderr",
     "output_type": "stream",
     "text": [
      "Epoch 102/512: 100%|████████████████████████████████████████████████████████████████████| 906/906 [00:45<00:00, 19.85it/s]\n"
     ]
    },
    {
     "name": "stdout",
     "output_type": "stream",
     "text": [
      "Epoch 102/512: \n",
      "Train Loss = 0.50308, Train MSE = 0.83973, Train MAE = 0.71428, Train Acc = 0.74182\n",
      "Val Loss = 0.46374, Val MSE = 0.76095, Val MAE = 0.67207, Val Acc = 0.76902\n"
     ]
    },
    {
     "name": "stderr",
     "output_type": "stream",
     "text": [
      "Epoch 103/512: 100%|████████████████████████████████████████████████████████████████████| 906/906 [00:45<00:00, 19.95it/s]\n"
     ]
    },
    {
     "name": "stdout",
     "output_type": "stream",
     "text": [
      "Epoch 103/512: \n",
      "Train Loss = 0.50286, Train MSE = 0.84436, Train MAE = 0.71390, Train Acc = 0.74272\n",
      "Val Loss = 0.46626, Val MSE = 0.75911, Val MAE = 0.67557, Val Acc = 0.76294\n"
     ]
    },
    {
     "name": "stderr",
     "output_type": "stream",
     "text": [
      "Epoch 104/512: 100%|████████████████████████████████████████████████████████████████████| 906/906 [00:45<00:00, 19.94it/s]\n"
     ]
    },
    {
     "name": "stdout",
     "output_type": "stream",
     "text": [
      "Epoch 104/512: \n",
      "Train Loss = 0.50414, Train MSE = 0.84519, Train MAE = 0.71540, Train Acc = 0.74072\n",
      "Val Loss = 0.45935, Val MSE = 0.75385, Val MAE = 0.66699, Val Acc = 0.77661\n"
     ]
    },
    {
     "name": "stderr",
     "output_type": "stream",
     "text": [
      "Epoch 105/512: 100%|████████████████████████████████████████████████████████████████████| 906/906 [00:45<00:00, 20.00it/s]\n"
     ]
    },
    {
     "name": "stdout",
     "output_type": "stream",
     "text": [
      "Epoch 105/512: \n",
      "Train Loss = 0.49955, Train MSE = 0.83456, Train MAE = 0.71048, Train Acc = 0.74420\n",
      "Val Loss = 0.46224, Val MSE = 0.75349, Val MAE = 0.67086, Val Acc = 0.77164\n"
     ]
    },
    {
     "name": "stderr",
     "output_type": "stream",
     "text": [
      "Epoch 106/512: 100%|████████████████████████████████████████████████████████████████████| 906/906 [00:45<00:00, 19.95it/s]\n"
     ]
    },
    {
     "name": "stdout",
     "output_type": "stream",
     "text": [
      "Epoch 106/512: \n",
      "Train Loss = 0.50079, Train MSE = 0.84040, Train MAE = 0.71111, Train Acc = 0.74168\n",
      "Val Loss = 0.45923, Val MSE = 0.74843, Val MAE = 0.66707, Val Acc = 0.77371\n"
     ]
    },
    {
     "name": "stderr",
     "output_type": "stream",
     "text": [
      "Epoch 107/512: 100%|████████████████████████████████████████████████████████████████████| 906/906 [00:45<00:00, 19.89it/s]\n"
     ]
    },
    {
     "name": "stdout",
     "output_type": "stream",
     "text": [
      "Epoch 107/512: \n",
      "Train Loss = 0.50241, Train MSE = 0.84028, Train MAE = 0.71337, Train Acc = 0.74215\n",
      "Val Loss = 0.46000, Val MSE = 0.74600, Val MAE = 0.66790, Val Acc = 0.76902\n"
     ]
    },
    {
     "name": "stderr",
     "output_type": "stream",
     "text": [
      "Epoch 108/512: 100%|████████████████████████████████████████████████████████████████████| 906/906 [00:45<00:00, 19.93it/s]\n"
     ]
    },
    {
     "name": "stdout",
     "output_type": "stream",
     "text": [
      "Epoch 108/512: \n",
      "Train Loss = 0.49833, Train MSE = 0.83234, Train MAE = 0.70854, Train Acc = 0.74355\n",
      "Val Loss = 0.46166, Val MSE = 0.76255, Val MAE = 0.66838, Val Acc = 0.77247\n"
     ]
    },
    {
     "name": "stderr",
     "output_type": "stream",
     "text": [
      "Epoch 109/512: 100%|████████████████████████████████████████████████████████████████████| 906/906 [00:45<00:00, 20.00it/s]\n"
     ]
    },
    {
     "name": "stdout",
     "output_type": "stream",
     "text": [
      "Epoch 109/512: \n",
      "Train Loss = 0.49631, Train MSE = 0.82919, Train MAE = 0.70705, Train Acc = 0.74674\n",
      "Val Loss = 0.46574, Val MSE = 0.76920, Val MAE = 0.67338, Val Acc = 0.76681\n"
     ]
    },
    {
     "name": "stderr",
     "output_type": "stream",
     "text": [
      "Epoch 110/512: 100%|████████████████████████████████████████████████████████████████████| 906/906 [00:45<00:00, 19.86it/s]\n"
     ]
    },
    {
     "name": "stdout",
     "output_type": "stream",
     "text": [
      "Epoch 110/512: \n",
      "Train Loss = 0.49698, Train MSE = 0.82898, Train MAE = 0.70768, Train Acc = 0.74720\n",
      "Val Loss = 0.46040, Val MSE = 0.74740, Val MAE = 0.66914, Val Acc = 0.77054\n"
     ]
    },
    {
     "name": "stderr",
     "output_type": "stream",
     "text": [
      "Epoch 111/512: 100%|████████████████████████████████████████████████████████████████████| 906/906 [00:45<00:00, 19.94it/s]\n"
     ]
    },
    {
     "name": "stdout",
     "output_type": "stream",
     "text": [
      "Epoch 111/512: \n",
      "Train Loss = 0.49747, Train MSE = 0.82945, Train MAE = 0.70768, Train Acc = 0.74448\n",
      "Val Loss = 0.45986, Val MSE = 0.74995, Val MAE = 0.66811, Val Acc = 0.77813\n"
     ]
    },
    {
     "name": "stderr",
     "output_type": "stream",
     "text": [
      "Epoch 112/512: 100%|████████████████████████████████████████████████████████████████████| 906/906 [00:45<00:00, 19.93it/s]\n"
     ]
    },
    {
     "name": "stdout",
     "output_type": "stream",
     "text": [
      "Epoch 112/512: \n",
      "Train Loss = 0.49724, Train MSE = 0.82887, Train MAE = 0.70777, Train Acc = 0.74417\n",
      "Val Loss = 0.47043, Val MSE = 0.77113, Val MAE = 0.67921, Val Acc = 0.76543\n"
     ]
    },
    {
     "name": "stderr",
     "output_type": "stream",
     "text": [
      "Epoch 113/512: 100%|████████████████████████████████████████████████████████████████████| 906/906 [00:45<00:00, 19.94it/s]\n"
     ]
    },
    {
     "name": "stdout",
     "output_type": "stream",
     "text": [
      "Epoch 113/512: \n",
      "Train Loss = 0.49673, Train MSE = 0.83001, Train MAE = 0.70715, Train Acc = 0.74548\n",
      "Val Loss = 0.45933, Val MSE = 0.74810, Val MAE = 0.66672, Val Acc = 0.77026\n"
     ]
    },
    {
     "name": "stderr",
     "output_type": "stream",
     "text": [
      "Epoch 114/512: 100%|████████████████████████████████████████████████████████████████████| 906/906 [00:45<00:00, 19.96it/s]\n"
     ]
    },
    {
     "name": "stdout",
     "output_type": "stream",
     "text": [
      "Epoch 114/512: \n",
      "Train Loss = 0.49403, Train MSE = 0.82218, Train MAE = 0.70439, Train Acc = 0.74741\n",
      "Val Loss = 0.45611, Val MSE = 0.74290, Val MAE = 0.66353, Val Acc = 0.77606\n"
     ]
    },
    {
     "name": "stderr",
     "output_type": "stream",
     "text": [
      "Epoch 115/512: 100%|████████████████████████████████████████████████████████████████████| 906/906 [00:45<00:00, 19.97it/s]\n"
     ]
    },
    {
     "name": "stdout",
     "output_type": "stream",
     "text": [
      "Epoch 115/512: \n",
      "Train Loss = 0.49611, Train MSE = 0.82544, Train MAE = 0.70677, Train Acc = 0.74472\n",
      "Val Loss = 0.45389, Val MSE = 0.73481, Val MAE = 0.66147, Val Acc = 0.77675\n"
     ]
    },
    {
     "name": "stderr",
     "output_type": "stream",
     "text": [
      "Epoch 116/512: 100%|████████████████████████████████████████████████████████████████████| 906/906 [00:45<00:00, 19.93it/s]\n"
     ]
    },
    {
     "name": "stdout",
     "output_type": "stream",
     "text": [
      "Epoch 116/512: \n",
      "Train Loss = 0.49616, Train MSE = 0.82650, Train MAE = 0.70643, Train Acc = 0.74655\n",
      "Val Loss = 0.45859, Val MSE = 0.75274, Val MAE = 0.66595, Val Acc = 0.77482\n"
     ]
    },
    {
     "name": "stderr",
     "output_type": "stream",
     "text": [
      "Epoch 117/512: 100%|████████████████████████████████████████████████████████████████████| 906/906 [00:45<00:00, 19.91it/s]\n"
     ]
    },
    {
     "name": "stdout",
     "output_type": "stream",
     "text": [
      "Epoch 117/512: \n",
      "Train Loss = 0.49572, Train MSE = 0.82515, Train MAE = 0.70602, Train Acc = 0.74663\n",
      "Val Loss = 0.45393, Val MSE = 0.73394, Val MAE = 0.66153, Val Acc = 0.77523\n"
     ]
    },
    {
     "name": "stderr",
     "output_type": "stream",
     "text": [
      "Epoch 118/512: 100%|████████████████████████████████████████████████████████████████████| 906/906 [00:45<00:00, 19.95it/s]\n"
     ]
    },
    {
     "name": "stdout",
     "output_type": "stream",
     "text": [
      "Epoch 118/512: \n",
      "Train Loss = 0.49422, Train MSE = 0.82372, Train MAE = 0.70450, Train Acc = 0.74972\n",
      "Val Loss = 0.45555, Val MSE = 0.74481, Val MAE = 0.66262, Val Acc = 0.77910\n"
     ]
    },
    {
     "name": "stderr",
     "output_type": "stream",
     "text": [
      "Epoch 119/512: 100%|████████████████████████████████████████████████████████████████████| 906/906 [00:45<00:00, 20.05it/s]\n"
     ]
    },
    {
     "name": "stdout",
     "output_type": "stream",
     "text": [
      "Epoch 119/512: \n",
      "Train Loss = 0.49376, Train MSE = 0.82240, Train MAE = 0.70404, Train Acc = 0.74877\n",
      "Val Loss = 0.45593, Val MSE = 0.74510, Val MAE = 0.66332, Val Acc = 0.77744\n"
     ]
    },
    {
     "name": "stderr",
     "output_type": "stream",
     "text": [
      "Epoch 120/512: 100%|████████████████████████████████████████████████████████████████████| 906/906 [00:45<00:00, 19.97it/s]\n"
     ]
    },
    {
     "name": "stdout",
     "output_type": "stream",
     "text": [
      "Epoch 120/512: \n",
      "Train Loss = 0.49460, Train MSE = 0.82542, Train MAE = 0.70459, Train Acc = 0.74724\n",
      "Val Loss = 0.45684, Val MSE = 0.73909, Val MAE = 0.66494, Val Acc = 0.77399\n"
     ]
    },
    {
     "name": "stderr",
     "output_type": "stream",
     "text": [
      "Epoch 121/512: 100%|████████████████████████████████████████████████████████████████████| 906/906 [00:45<00:00, 19.95it/s]\n"
     ]
    },
    {
     "name": "stdout",
     "output_type": "stream",
     "text": [
      "Epoch 121/512: \n",
      "Train Loss = 0.49308, Train MSE = 0.82017, Train MAE = 0.70329, Train Acc = 0.74786\n",
      "Val Loss = 0.44866, Val MSE = 0.72795, Val MAE = 0.65514, Val Acc = 0.77841\n"
     ]
    },
    {
     "name": "stderr",
     "output_type": "stream",
     "text": [
      "Epoch 122/512: 100%|████████████████████████████████████████████████████████████████████| 906/906 [00:45<00:00, 20.00it/s]\n"
     ]
    },
    {
     "name": "stdout",
     "output_type": "stream",
     "text": [
      "Epoch 122/512: \n",
      "Train Loss = 0.49393, Train MSE = 0.82217, Train MAE = 0.70431, Train Acc = 0.74891\n",
      "Val Loss = 0.45000, Val MSE = 0.73005, Val MAE = 0.65744, Val Acc = 0.77716\n"
     ]
    },
    {
     "name": "stderr",
     "output_type": "stream",
     "text": [
      "Epoch 123/512: 100%|████████████████████████████████████████████████████████████████████| 906/906 [00:45<00:00, 19.92it/s]\n"
     ]
    },
    {
     "name": "stdout",
     "output_type": "stream",
     "text": [
      "Epoch 123/512: \n",
      "Train Loss = 0.49128, Train MSE = 0.81908, Train MAE = 0.70112, Train Acc = 0.75016\n",
      "Val Loss = 0.45662, Val MSE = 0.74024, Val MAE = 0.66455, Val Acc = 0.77744\n"
     ]
    },
    {
     "name": "stderr",
     "output_type": "stream",
     "text": [
      "Epoch 124/512: 100%|████████████████████████████████████████████████████████████████████| 906/906 [00:46<00:00, 19.49it/s]\n"
     ]
    },
    {
     "name": "stdout",
     "output_type": "stream",
     "text": [
      "Epoch 124/512: \n",
      "Train Loss = 0.49197, Train MSE = 0.81815, Train MAE = 0.70232, Train Acc = 0.75009\n",
      "Val Loss = 0.45437, Val MSE = 0.73689, Val MAE = 0.66172, Val Acc = 0.77454\n"
     ]
    },
    {
     "name": "stderr",
     "output_type": "stream",
     "text": [
      "Epoch 125/512: 100%|████████████████████████████████████████████████████████████████████| 906/906 [00:47<00:00, 19.16it/s]\n"
     ]
    },
    {
     "name": "stdout",
     "output_type": "stream",
     "text": [
      "Epoch 125/512: \n",
      "Train Loss = 0.49064, Train MSE = 0.81436, Train MAE = 0.70094, Train Acc = 0.75097\n",
      "Val Loss = 0.44801, Val MSE = 0.72096, Val MAE = 0.65579, Val Acc = 0.77799\n"
     ]
    },
    {
     "name": "stderr",
     "output_type": "stream",
     "text": [
      "Epoch 126/512: 100%|████████████████████████████████████████████████████████████████████| 906/906 [00:47<00:00, 19.18it/s]\n"
     ]
    },
    {
     "name": "stdout",
     "output_type": "stream",
     "text": [
      "Epoch 126/512: \n",
      "Train Loss = 0.48971, Train MSE = 0.81354, Train MAE = 0.69963, Train Acc = 0.75193\n",
      "Val Loss = 0.45895, Val MSE = 0.75487, Val MAE = 0.66635, Val Acc = 0.77606\n"
     ]
    },
    {
     "name": "stderr",
     "output_type": "stream",
     "text": [
      "Epoch 127/512: 100%|████████████████████████████████████████████████████████████████████| 906/906 [00:46<00:00, 19.42it/s]\n"
     ]
    },
    {
     "name": "stdout",
     "output_type": "stream",
     "text": [
      "Epoch 127/512: \n",
      "Train Loss = 0.48761, Train MSE = 0.80904, Train MAE = 0.69749, Train Acc = 0.75323\n",
      "Val Loss = 0.44463, Val MSE = 0.71566, Val MAE = 0.65171, Val Acc = 0.78034\n"
     ]
    },
    {
     "name": "stderr",
     "output_type": "stream",
     "text": [
      "Epoch 128/512: 100%|████████████████████████████████████████████████████████████████████| 906/906 [00:45<00:00, 19.96it/s]\n"
     ]
    },
    {
     "name": "stdout",
     "output_type": "stream",
     "text": [
      "Epoch 128/512: \n",
      "Train Loss = 0.48846, Train MSE = 0.80890, Train MAE = 0.69835, Train Acc = 0.75249\n",
      "Val Loss = 0.44876, Val MSE = 0.72405, Val MAE = 0.65675, Val Acc = 0.78241\n"
     ]
    },
    {
     "name": "stderr",
     "output_type": "stream",
     "text": [
      "Epoch 129/512: 100%|████████████████████████████████████████████████████████████████████| 906/906 [00:45<00:00, 20.04it/s]\n"
     ]
    },
    {
     "name": "stdout",
     "output_type": "stream",
     "text": [
      "Epoch 129/512: \n",
      "Train Loss = 0.48782, Train MSE = 0.80968, Train MAE = 0.69768, Train Acc = 0.75288\n",
      "Val Loss = 0.45085, Val MSE = 0.72894, Val MAE = 0.65869, Val Acc = 0.78034\n"
     ]
    },
    {
     "name": "stderr",
     "output_type": "stream",
     "text": [
      "Epoch 130/512: 100%|████████████████████████████████████████████████████████████████████| 906/906 [00:45<00:00, 20.00it/s]\n"
     ]
    },
    {
     "name": "stdout",
     "output_type": "stream",
     "text": [
      "Epoch 130/512: \n",
      "Train Loss = 0.48672, Train MSE = 0.80579, Train MAE = 0.69657, Train Acc = 0.75255\n",
      "Val Loss = 0.45037, Val MSE = 0.73089, Val MAE = 0.65792, Val Acc = 0.77261\n"
     ]
    },
    {
     "name": "stderr",
     "output_type": "stream",
     "text": [
      "Epoch 131/512: 100%|████████████████████████████████████████████████████████████████████| 906/906 [00:45<00:00, 19.95it/s]\n"
     ]
    },
    {
     "name": "stdout",
     "output_type": "stream",
     "text": [
      "Epoch 131/512: \n",
      "Train Loss = 0.48591, Train MSE = 0.80666, Train MAE = 0.69537, Train Acc = 0.75366\n",
      "Val Loss = 0.44803, Val MSE = 0.72399, Val MAE = 0.65518, Val Acc = 0.77716\n"
     ]
    },
    {
     "name": "stderr",
     "output_type": "stream",
     "text": [
      "Epoch 132/512: 100%|████████████████████████████████████████████████████████████████████| 906/906 [00:45<00:00, 20.02it/s]\n"
     ]
    },
    {
     "name": "stdout",
     "output_type": "stream",
     "text": [
      "Epoch 132/512: \n",
      "Train Loss = 0.48568, Train MSE = 0.80382, Train MAE = 0.69537, Train Acc = 0.75430\n",
      "Val Loss = 0.44774, Val MSE = 0.71957, Val MAE = 0.65583, Val Acc = 0.77827\n"
     ]
    },
    {
     "name": "stderr",
     "output_type": "stream",
     "text": [
      "Epoch 133/512: 100%|████████████████████████████████████████████████████████████████████| 906/906 [00:45<00:00, 20.01it/s]\n"
     ]
    },
    {
     "name": "stdout",
     "output_type": "stream",
     "text": [
      "Epoch 133/512: \n",
      "Train Loss = 0.48574, Train MSE = 0.80456, Train MAE = 0.69548, Train Acc = 0.75481\n",
      "Val Loss = 0.44582, Val MSE = 0.71764, Val MAE = 0.65307, Val Acc = 0.78241\n"
     ]
    },
    {
     "name": "stderr",
     "output_type": "stream",
     "text": [
      "Epoch 134/512: 100%|████████████████████████████████████████████████████████████████████| 906/906 [00:45<00:00, 19.92it/s]\n"
     ]
    },
    {
     "name": "stdout",
     "output_type": "stream",
     "text": [
      "Epoch 134/512: \n",
      "Train Loss = 0.48218, Train MSE = 0.79715, Train MAE = 0.69150, Train Acc = 0.75544\n",
      "Val Loss = 0.44755, Val MSE = 0.72004, Val MAE = 0.65543, Val Acc = 0.78034\n"
     ]
    },
    {
     "name": "stderr",
     "output_type": "stream",
     "text": [
      "Epoch 135/512: 100%|████████████████████████████████████████████████████████████████████| 906/906 [00:45<00:00, 19.99it/s]\n"
     ]
    },
    {
     "name": "stdout",
     "output_type": "stream",
     "text": [
      "Epoch 135/512: \n",
      "Train Loss = 0.48246, Train MSE = 0.80068, Train MAE = 0.69177, Train Acc = 0.75682\n",
      "Val Loss = 0.45284, Val MSE = 0.73150, Val MAE = 0.66096, Val Acc = 0.77578\n"
     ]
    },
    {
     "name": "stderr",
     "output_type": "stream",
     "text": [
      "Epoch 136/512: 100%|████████████████████████████████████████████████████████████████████| 906/906 [00:45<00:00, 19.98it/s]\n"
     ]
    },
    {
     "name": "stdout",
     "output_type": "stream",
     "text": [
      "Epoch 136/512: \n",
      "Train Loss = 0.48309, Train MSE = 0.79870, Train MAE = 0.69245, Train Acc = 0.75537\n",
      "Val Loss = 0.44470, Val MSE = 0.72503, Val MAE = 0.65066, Val Acc = 0.78144\n"
     ]
    },
    {
     "name": "stderr",
     "output_type": "stream",
     "text": [
      "Epoch 137/512: 100%|████████████████████████████████████████████████████████████████████| 906/906 [00:45<00:00, 19.98it/s]\n"
     ]
    },
    {
     "name": "stdout",
     "output_type": "stream",
     "text": [
      "Epoch 137/512: \n",
      "Train Loss = 0.48447, Train MSE = 0.80175, Train MAE = 0.69425, Train Acc = 0.75476\n",
      "Val Loss = 0.44844, Val MSE = 0.72162, Val MAE = 0.65665, Val Acc = 0.78075\n"
     ]
    },
    {
     "name": "stderr",
     "output_type": "stream",
     "text": [
      "Epoch 138/512: 100%|████████████████████████████████████████████████████████████████████| 906/906 [00:45<00:00, 20.01it/s]\n"
     ]
    },
    {
     "name": "stdout",
     "output_type": "stream",
     "text": [
      "Epoch 138/512: \n",
      "Train Loss = 0.48370, Train MSE = 0.79930, Train MAE = 0.69319, Train Acc = 0.75440\n",
      "Val Loss = 0.44569, Val MSE = 0.72492, Val MAE = 0.65149, Val Acc = 0.78352\n"
     ]
    },
    {
     "name": "stderr",
     "output_type": "stream",
     "text": [
      "Epoch 139/512: 100%|████████████████████████████████████████████████████████████████████| 906/906 [00:45<00:00, 19.96it/s]\n"
     ]
    },
    {
     "name": "stdout",
     "output_type": "stream",
     "text": [
      "Epoch 139/512: \n",
      "Train Loss = 0.48282, Train MSE = 0.79971, Train MAE = 0.69181, Train Acc = 0.75471\n",
      "Val Loss = 0.44051, Val MSE = 0.70982, Val MAE = 0.64727, Val Acc = 0.78669\n"
     ]
    },
    {
     "name": "stderr",
     "output_type": "stream",
     "text": [
      "Epoch 140/512: 100%|████████████████████████████████████████████████████████████████████| 906/906 [00:45<00:00, 19.93it/s]\n"
     ]
    },
    {
     "name": "stdout",
     "output_type": "stream",
     "text": [
      "Epoch 140/512: \n",
      "Train Loss = 0.48212, Train MSE = 0.79798, Train MAE = 0.69147, Train Acc = 0.75568\n",
      "Val Loss = 0.44808, Val MSE = 0.72334, Val MAE = 0.65590, Val Acc = 0.78131\n"
     ]
    },
    {
     "name": "stderr",
     "output_type": "stream",
     "text": [
      "Epoch 141/512: 100%|████████████████████████████████████████████████████████████████████| 906/906 [00:45<00:00, 19.97it/s]\n"
     ]
    },
    {
     "name": "stdout",
     "output_type": "stream",
     "text": [
      "Epoch 141/512: \n",
      "Train Loss = 0.48224, Train MSE = 0.79804, Train MAE = 0.69190, Train Acc = 0.75897\n",
      "Val Loss = 0.43951, Val MSE = 0.71094, Val MAE = 0.64533, Val Acc = 0.78904\n"
     ]
    },
    {
     "name": "stderr",
     "output_type": "stream",
     "text": [
      "Epoch 142/512: 100%|████████████████████████████████████████████████████████████████████| 906/906 [00:45<00:00, 19.94it/s]\n"
     ]
    },
    {
     "name": "stdout",
     "output_type": "stream",
     "text": [
      "Epoch 142/512: \n",
      "Train Loss = 0.48159, Train MSE = 0.79840, Train MAE = 0.69085, Train Acc = 0.75671\n",
      "Val Loss = 0.44497, Val MSE = 0.72455, Val MAE = 0.65170, Val Acc = 0.78255\n"
     ]
    },
    {
     "name": "stderr",
     "output_type": "stream",
     "text": [
      "Epoch 143/512: 100%|████████████████████████████████████████████████████████████████████| 906/906 [00:45<00:00, 19.98it/s]\n"
     ]
    },
    {
     "name": "stdout",
     "output_type": "stream",
     "text": [
      "Epoch 143/512: \n",
      "Train Loss = 0.47961, Train MSE = 0.79139, Train MAE = 0.68872, Train Acc = 0.75673\n",
      "Val Loss = 0.44494, Val MSE = 0.71748, Val MAE = 0.65277, Val Acc = 0.78200\n"
     ]
    },
    {
     "name": "stderr",
     "output_type": "stream",
     "text": [
      "Epoch 144/512: 100%|████████████████████████████████████████████████████████████████████| 906/906 [00:45<00:00, 19.95it/s]\n"
     ]
    },
    {
     "name": "stdout",
     "output_type": "stream",
     "text": [
      "Epoch 144/512: \n",
      "Train Loss = 0.48161, Train MSE = 0.79599, Train MAE = 0.69057, Train Acc = 0.75659\n",
      "Val Loss = 0.44194, Val MSE = 0.70856, Val MAE = 0.64892, Val Acc = 0.78352\n"
     ]
    },
    {
     "name": "stderr",
     "output_type": "stream",
     "text": [
      "Epoch 145/512: 100%|████████████████████████████████████████████████████████████████████| 906/906 [00:45<00:00, 19.94it/s]\n"
     ]
    },
    {
     "name": "stdout",
     "output_type": "stream",
     "text": [
      "Epoch 145/512: \n",
      "Train Loss = 0.47866, Train MSE = 0.78881, Train MAE = 0.68781, Train Acc = 0.75816\n",
      "Val Loss = 0.44019, Val MSE = 0.71098, Val MAE = 0.64624, Val Acc = 0.78628\n"
     ]
    },
    {
     "name": "stderr",
     "output_type": "stream",
     "text": [
      "Epoch 146/512: 100%|████████████████████████████████████████████████████████████████████| 906/906 [00:45<00:00, 19.90it/s]\n"
     ]
    },
    {
     "name": "stdout",
     "output_type": "stream",
     "text": [
      "Epoch 146/512: \n",
      "Train Loss = 0.47870, Train MSE = 0.79007, Train MAE = 0.68789, Train Acc = 0.76060\n",
      "Val Loss = 0.44529, Val MSE = 0.71665, Val MAE = 0.65240, Val Acc = 0.78586\n"
     ]
    },
    {
     "name": "stderr",
     "output_type": "stream",
     "text": [
      "Epoch 147/512: 100%|████████████████████████████████████████████████████████████████████| 906/906 [00:45<00:00, 20.00it/s]\n"
     ]
    },
    {
     "name": "stdout",
     "output_type": "stream",
     "text": [
      "Epoch 147/512: \n",
      "Train Loss = 0.47777, Train MSE = 0.78689, Train MAE = 0.68699, Train Acc = 0.75873\n",
      "Val Loss = 0.43891, Val MSE = 0.70446, Val MAE = 0.64553, Val Acc = 0.78904\n"
     ]
    },
    {
     "name": "stderr",
     "output_type": "stream",
     "text": [
      "Epoch 148/512: 100%|████████████████████████████████████████████████████████████████████| 906/906 [00:45<00:00, 19.95it/s]\n"
     ]
    },
    {
     "name": "stdout",
     "output_type": "stream",
     "text": [
      "Epoch 148/512: \n",
      "Train Loss = 0.48109, Train MSE = 0.79585, Train MAE = 0.69006, Train Acc = 0.75602\n",
      "Val Loss = 0.44113, Val MSE = 0.71410, Val MAE = 0.64737, Val Acc = 0.78669\n"
     ]
    },
    {
     "name": "stderr",
     "output_type": "stream",
     "text": [
      "Epoch 149/512: 100%|████████████████████████████████████████████████████████████████████| 906/906 [00:45<00:00, 19.97it/s]\n"
     ]
    },
    {
     "name": "stdout",
     "output_type": "stream",
     "text": [
      "Epoch 149/512: \n",
      "Train Loss = 0.48139, Train MSE = 0.79489, Train MAE = 0.69073, Train Acc = 0.75744\n",
      "Val Loss = 0.43990, Val MSE = 0.71260, Val MAE = 0.64591, Val Acc = 0.78752\n"
     ]
    },
    {
     "name": "stderr",
     "output_type": "stream",
     "text": [
      "Epoch 150/512: 100%|████████████████████████████████████████████████████████████████████| 906/906 [00:45<00:00, 20.03it/s]\n"
     ]
    },
    {
     "name": "stdout",
     "output_type": "stream",
     "text": [
      "Epoch 150/512: \n",
      "Train Loss = 0.47835, Train MSE = 0.78819, Train MAE = 0.68742, Train Acc = 0.75909\n",
      "Val Loss = 0.44206, Val MSE = 0.70927, Val MAE = 0.64855, Val Acc = 0.78241\n"
     ]
    },
    {
     "name": "stderr",
     "output_type": "stream",
     "text": [
      "Epoch 151/512: 100%|████████████████████████████████████████████████████████████████████| 906/906 [00:45<00:00, 19.93it/s]\n"
     ]
    },
    {
     "name": "stdout",
     "output_type": "stream",
     "text": [
      "Epoch 151/512: \n",
      "Train Loss = 0.48054, Train MSE = 0.79447, Train MAE = 0.69006, Train Acc = 0.75704\n",
      "Val Loss = 0.44038, Val MSE = 0.70950, Val MAE = 0.64747, Val Acc = 0.78724\n"
     ]
    },
    {
     "name": "stderr",
     "output_type": "stream",
     "text": [
      "Epoch 152/512: 100%|████████████████████████████████████████████████████████████████████| 906/906 [00:45<00:00, 20.01it/s]\n"
     ]
    },
    {
     "name": "stdout",
     "output_type": "stream",
     "text": [
      "Epoch 152/512: \n",
      "Train Loss = 0.47743, Train MSE = 0.78713, Train MAE = 0.68656, Train Acc = 0.76011\n",
      "Val Loss = 0.44170, Val MSE = 0.71477, Val MAE = 0.64812, Val Acc = 0.78462\n"
     ]
    },
    {
     "name": "stderr",
     "output_type": "stream",
     "text": [
      "Epoch 153/512: 100%|████████████████████████████████████████████████████████████████████| 906/906 [00:45<00:00, 19.98it/s]\n"
     ]
    },
    {
     "name": "stdout",
     "output_type": "stream",
     "text": [
      "Epoch 153/512: \n",
      "Train Loss = 0.47633, Train MSE = 0.78577, Train MAE = 0.68536, Train Acc = 0.76035\n",
      "Val Loss = 0.43523, Val MSE = 0.70698, Val MAE = 0.64015, Val Acc = 0.78890\n"
     ]
    },
    {
     "name": "stderr",
     "output_type": "stream",
     "text": [
      "Epoch 154/512: 100%|████████████████████████████████████████████████████████████████████| 906/906 [00:45<00:00, 19.89it/s]\n"
     ]
    },
    {
     "name": "stdout",
     "output_type": "stream",
     "text": [
      "Epoch 154/512: \n",
      "Train Loss = 0.47544, Train MSE = 0.78210, Train MAE = 0.68438, Train Acc = 0.76170\n",
      "Val Loss = 0.44068, Val MSE = 0.71542, Val MAE = 0.64698, Val Acc = 0.78586\n"
     ]
    },
    {
     "name": "stderr",
     "output_type": "stream",
     "text": [
      "Epoch 155/512: 100%|████████████████████████████████████████████████████████████████████| 906/906 [00:45<00:00, 19.94it/s]\n"
     ]
    },
    {
     "name": "stdout",
     "output_type": "stream",
     "text": [
      "Epoch 155/512: \n",
      "Train Loss = 0.47564, Train MSE = 0.78275, Train MAE = 0.68486, Train Acc = 0.76187\n",
      "Val Loss = 0.44207, Val MSE = 0.71342, Val MAE = 0.64893, Val Acc = 0.78641\n"
     ]
    },
    {
     "name": "stderr",
     "output_type": "stream",
     "text": [
      "Epoch 156/512: 100%|████████████████████████████████████████████████████████████████████| 906/906 [00:45<00:00, 19.91it/s]\n"
     ]
    },
    {
     "name": "stdout",
     "output_type": "stream",
     "text": [
      "Epoch 156/512: \n",
      "Train Loss = 0.47628, Train MSE = 0.78475, Train MAE = 0.68505, Train Acc = 0.76224\n",
      "Val Loss = 0.43523, Val MSE = 0.70174, Val MAE = 0.64159, Val Acc = 0.79194\n"
     ]
    },
    {
     "name": "stderr",
     "output_type": "stream",
     "text": [
      "Epoch 157/512: 100%|████████████████████████████████████████████████████████████████████| 906/906 [00:45<00:00, 20.01it/s]\n"
     ]
    },
    {
     "name": "stdout",
     "output_type": "stream",
     "text": [
      "Epoch 157/512: \n",
      "Train Loss = 0.47468, Train MSE = 0.78182, Train MAE = 0.68353, Train Acc = 0.76163\n",
      "Val Loss = 0.44072, Val MSE = 0.72060, Val MAE = 0.64646, Val Acc = 0.78959\n"
     ]
    },
    {
     "name": "stderr",
     "output_type": "stream",
     "text": [
      "Epoch 158/512: 100%|████████████████████████████████████████████████████████████████████| 906/906 [00:45<00:00, 19.90it/s]\n"
     ]
    },
    {
     "name": "stdout",
     "output_type": "stream",
     "text": [
      "Epoch 158/512: \n",
      "Train Loss = 0.47385, Train MSE = 0.77936, Train MAE = 0.68272, Train Acc = 0.76168\n",
      "Val Loss = 0.43537, Val MSE = 0.70730, Val MAE = 0.64136, Val Acc = 0.79497\n"
     ]
    },
    {
     "name": "stderr",
     "output_type": "stream",
     "text": [
      "Epoch 159/512: 100%|████████████████████████████████████████████████████████████████████| 906/906 [00:45<00:00, 19.93it/s]\n"
     ]
    },
    {
     "name": "stdout",
     "output_type": "stream",
     "text": [
      "Epoch 159/512: \n",
      "Train Loss = 0.47345, Train MSE = 0.78070, Train MAE = 0.68214, Train Acc = 0.76348\n",
      "Val Loss = 0.44134, Val MSE = 0.71369, Val MAE = 0.64776, Val Acc = 0.78987\n"
     ]
    },
    {
     "name": "stderr",
     "output_type": "stream",
     "text": [
      "Epoch 160/512: 100%|████████████████████████████████████████████████████████████████████| 906/906 [00:45<00:00, 19.94it/s]\n"
     ]
    },
    {
     "name": "stdout",
     "output_type": "stream",
     "text": [
      "Epoch 160/512: \n",
      "Train Loss = 0.47372, Train MSE = 0.77873, Train MAE = 0.68302, Train Acc = 0.76386\n",
      "Val Loss = 0.44153, Val MSE = 0.71651, Val MAE = 0.64840, Val Acc = 0.78766\n"
     ]
    },
    {
     "name": "stderr",
     "output_type": "stream",
     "text": [
      "Epoch 161/512: 100%|████████████████████████████████████████████████████████████████████| 906/906 [00:45<00:00, 19.99it/s]\n"
     ]
    },
    {
     "name": "stdout",
     "output_type": "stream",
     "text": [
      "Epoch 161/512: \n",
      "Train Loss = 0.47425, Train MSE = 0.77882, Train MAE = 0.68317, Train Acc = 0.76227\n",
      "Val Loss = 0.43773, Val MSE = 0.70976, Val MAE = 0.64381, Val Acc = 0.79318\n"
     ]
    },
    {
     "name": "stderr",
     "output_type": "stream",
     "text": [
      "Epoch 162/512: 100%|████████████████████████████████████████████████████████████████████| 906/906 [00:45<00:00, 20.00it/s]\n"
     ]
    },
    {
     "name": "stdout",
     "output_type": "stream",
     "text": [
      "Epoch 162/512: \n",
      "Train Loss = 0.47207, Train MSE = 0.77662, Train MAE = 0.68035, Train Acc = 0.76255\n",
      "Val Loss = 0.44056, Val MSE = 0.71571, Val MAE = 0.64519, Val Acc = 0.78421\n"
     ]
    },
    {
     "name": "stderr",
     "output_type": "stream",
     "text": [
      "Epoch 163/512: 100%|████████████████████████████████████████████████████████████████████| 906/906 [00:45<00:00, 19.92it/s]\n"
     ]
    },
    {
     "name": "stdout",
     "output_type": "stream",
     "text": [
      "Epoch 163/512: \n",
      "Train Loss = 0.47287, Train MSE = 0.77844, Train MAE = 0.68148, Train Acc = 0.76331\n",
      "Val Loss = 0.43551, Val MSE = 0.69515, Val MAE = 0.64168, Val Acc = 0.79000\n"
     ]
    },
    {
     "name": "stderr",
     "output_type": "stream",
     "text": [
      "Epoch 164/512: 100%|████████████████████████████████████████████████████████████████████| 906/906 [00:45<00:00, 19.95it/s]\n"
     ]
    },
    {
     "name": "stdout",
     "output_type": "stream",
     "text": [
      "Epoch 164/512: \n",
      "Train Loss = 0.47198, Train MSE = 0.77545, Train MAE = 0.68080, Train Acc = 0.76415\n",
      "Val Loss = 0.43823, Val MSE = 0.70483, Val MAE = 0.64464, Val Acc = 0.78959\n"
     ]
    },
    {
     "name": "stderr",
     "output_type": "stream",
     "text": [
      "Epoch 165/512: 100%|████████████████████████████████████████████████████████████████████| 906/906 [00:45<00:00, 19.95it/s]\n"
     ]
    },
    {
     "name": "stdout",
     "output_type": "stream",
     "text": [
      "Epoch 165/512: \n",
      "Train Loss = 0.47377, Train MSE = 0.77895, Train MAE = 0.68205, Train Acc = 0.76341\n",
      "Val Loss = 0.44773, Val MSE = 0.72954, Val MAE = 0.65439, Val Acc = 0.78269\n"
     ]
    },
    {
     "name": "stderr",
     "output_type": "stream",
     "text": [
      "Epoch 166/512: 100%|████████████████████████████████████████████████████████████████████| 906/906 [00:45<00:00, 19.98it/s]\n"
     ]
    },
    {
     "name": "stdout",
     "output_type": "stream",
     "text": [
      "Epoch 166/512: \n",
      "Train Loss = 0.47194, Train MSE = 0.77486, Train MAE = 0.68079, Train Acc = 0.76472\n",
      "Val Loss = 0.44069, Val MSE = 0.71465, Val MAE = 0.64688, Val Acc = 0.79166\n"
     ]
    },
    {
     "name": "stderr",
     "output_type": "stream",
     "text": [
      "Epoch 167/512: 100%|████████████████████████████████████████████████████████████████████| 906/906 [00:45<00:00, 19.95it/s]\n"
     ]
    },
    {
     "name": "stdout",
     "output_type": "stream",
     "text": [
      "Epoch 167/512: \n",
      "Train Loss = 0.47076, Train MSE = 0.77178, Train MAE = 0.67924, Train Acc = 0.76351\n",
      "Val Loss = 0.43645, Val MSE = 0.70789, Val MAE = 0.64244, Val Acc = 0.79083\n"
     ]
    },
    {
     "name": "stderr",
     "output_type": "stream",
     "text": [
      "Epoch 168/512: 100%|████████████████████████████████████████████████████████████████████| 906/906 [00:45<00:00, 19.97it/s]\n"
     ]
    },
    {
     "name": "stdout",
     "output_type": "stream",
     "text": [
      "Epoch 168/512: \n",
      "Train Loss = 0.47138, Train MSE = 0.77285, Train MAE = 0.68037, Train Acc = 0.76560\n",
      "Val Loss = 0.43535, Val MSE = 0.69776, Val MAE = 0.64176, Val Acc = 0.78931\n"
     ]
    },
    {
     "name": "stderr",
     "output_type": "stream",
     "text": [
      "Epoch 169/512: 100%|████████████████████████████████████████████████████████████████████| 906/906 [00:45<00:00, 19.93it/s]\n"
     ]
    },
    {
     "name": "stdout",
     "output_type": "stream",
     "text": [
      "Epoch 169/512: \n",
      "Train Loss = 0.47155, Train MSE = 0.77289, Train MAE = 0.68010, Train Acc = 0.76313\n",
      "Val Loss = 0.43640, Val MSE = 0.70184, Val MAE = 0.64226, Val Acc = 0.78821\n"
     ]
    },
    {
     "name": "stderr",
     "output_type": "stream",
     "text": [
      "Epoch 170/512: 100%|████████████████████████████████████████████████████████████████████| 906/906 [00:45<00:00, 19.99it/s]\n"
     ]
    },
    {
     "name": "stdout",
     "output_type": "stream",
     "text": [
      "Epoch 170/512: \n",
      "Train Loss = 0.47217, Train MSE = 0.77505, Train MAE = 0.68102, Train Acc = 0.76351\n",
      "Val Loss = 0.43582, Val MSE = 0.69655, Val MAE = 0.64271, Val Acc = 0.79069\n"
     ]
    },
    {
     "name": "stderr",
     "output_type": "stream",
     "text": [
      "Epoch 171/512: 100%|████████████████████████████████████████████████████████████████████| 906/906 [00:45<00:00, 19.99it/s]\n"
     ]
    },
    {
     "name": "stdout",
     "output_type": "stream",
     "text": [
      "Epoch 171/512: \n",
      "Train Loss = 0.47106, Train MSE = 0.77404, Train MAE = 0.67974, Train Acc = 0.76403\n",
      "Val Loss = 0.43483, Val MSE = 0.70185, Val MAE = 0.63970, Val Acc = 0.79290\n"
     ]
    },
    {
     "name": "stderr",
     "output_type": "stream",
     "text": [
      "Epoch 172/512: 100%|████████████████████████████████████████████████████████████████████| 906/906 [00:45<00:00, 19.95it/s]\n"
     ]
    },
    {
     "name": "stdout",
     "output_type": "stream",
     "text": [
      "Epoch 172/512: \n",
      "Train Loss = 0.46833, Train MSE = 0.76805, Train MAE = 0.67644, Train Acc = 0.76665\n",
      "Val Loss = 0.42733, Val MSE = 0.68417, Val MAE = 0.63256, Val Acc = 0.79525\n"
     ]
    },
    {
     "name": "stderr",
     "output_type": "stream",
     "text": [
      "Epoch 173/512: 100%|████████████████████████████████████████████████████████████████████| 906/906 [00:45<00:00, 19.97it/s]\n"
     ]
    },
    {
     "name": "stdout",
     "output_type": "stream",
     "text": [
      "Epoch 173/512: \n",
      "Train Loss = 0.46867, Train MSE = 0.77193, Train MAE = 0.67669, Train Acc = 0.76776\n",
      "Val Loss = 0.43502, Val MSE = 0.69382, Val MAE = 0.64172, Val Acc = 0.79125\n"
     ]
    },
    {
     "name": "stderr",
     "output_type": "stream",
     "text": [
      "Epoch 174/512: 100%|████████████████████████████████████████████████████████████████████| 906/906 [00:45<00:00, 19.94it/s]\n"
     ]
    },
    {
     "name": "stdout",
     "output_type": "stream",
     "text": [
      "Epoch 174/512: \n",
      "Train Loss = 0.47115, Train MSE = 0.77414, Train MAE = 0.67979, Train Acc = 0.76495\n",
      "Val Loss = 0.43099, Val MSE = 0.69670, Val MAE = 0.63563, Val Acc = 0.78835\n"
     ]
    },
    {
     "name": "stderr",
     "output_type": "stream",
     "text": [
      "Epoch 175/512: 100%|████████████████████████████████████████████████████████████████████| 906/906 [00:45<00:00, 19.91it/s]\n"
     ]
    },
    {
     "name": "stdout",
     "output_type": "stream",
     "text": [
      "Epoch 175/512: \n",
      "Train Loss = 0.46936, Train MSE = 0.76924, Train MAE = 0.67761, Train Acc = 0.76396\n",
      "Val Loss = 0.44243, Val MSE = 0.71358, Val MAE = 0.64858, Val Acc = 0.78683\n"
     ]
    },
    {
     "name": "stderr",
     "output_type": "stream",
     "text": [
      "Epoch 176/512: 100%|████████████████████████████████████████████████████████████████████| 906/906 [00:45<00:00, 20.01it/s]\n"
     ]
    },
    {
     "name": "stdout",
     "output_type": "stream",
     "text": [
      "Epoch 176/512: \n",
      "Train Loss = 0.46760, Train MSE = 0.76736, Train MAE = 0.67537, Train Acc = 0.76579\n",
      "Val Loss = 0.42934, Val MSE = 0.69228, Val MAE = 0.63379, Val Acc = 0.79622\n"
     ]
    },
    {
     "name": "stderr",
     "output_type": "stream",
     "text": [
      "Epoch 177/512: 100%|████████████████████████████████████████████████████████████████████| 906/906 [00:45<00:00, 19.94it/s]\n"
     ]
    },
    {
     "name": "stdout",
     "output_type": "stream",
     "text": [
      "Epoch 177/512: \n",
      "Train Loss = 0.46927, Train MSE = 0.76774, Train MAE = 0.67800, Train Acc = 0.76596\n",
      "Val Loss = 0.43344, Val MSE = 0.69879, Val MAE = 0.63910, Val Acc = 0.78890\n"
     ]
    },
    {
     "name": "stderr",
     "output_type": "stream",
     "text": [
      "Epoch 178/512: 100%|████████████████████████████████████████████████████████████████████| 906/906 [00:45<00:00, 19.96it/s]\n"
     ]
    },
    {
     "name": "stdout",
     "output_type": "stream",
     "text": [
      "Epoch 178/512: \n",
      "Train Loss = 0.46914, Train MSE = 0.76734, Train MAE = 0.67814, Train Acc = 0.76691\n",
      "Val Loss = 0.42734, Val MSE = 0.68688, Val MAE = 0.63200, Val Acc = 0.79594\n"
     ]
    },
    {
     "name": "stderr",
     "output_type": "stream",
     "text": [
      "Epoch 179/512: 100%|████████████████████████████████████████████████████████████████████| 906/906 [00:45<00:00, 19.89it/s]\n"
     ]
    },
    {
     "name": "stdout",
     "output_type": "stream",
     "text": [
      "Epoch 179/512: \n",
      "Train Loss = 0.46467, Train MSE = 0.75992, Train MAE = 0.67270, Train Acc = 0.76921\n",
      "Val Loss = 0.43056, Val MSE = 0.68270, Val MAE = 0.63699, Val Acc = 0.78945\n"
     ]
    },
    {
     "name": "stderr",
     "output_type": "stream",
     "text": [
      "Epoch 180/512: 100%|████████████████████████████████████████████████████████████████████| 906/906 [00:45<00:00, 19.97it/s]\n"
     ]
    },
    {
     "name": "stdout",
     "output_type": "stream",
     "text": [
      "Epoch 180/512: \n",
      "Train Loss = 0.46654, Train MSE = 0.76355, Train MAE = 0.67481, Train Acc = 0.76757\n",
      "Val Loss = 0.43454, Val MSE = 0.70593, Val MAE = 0.63865, Val Acc = 0.79152\n"
     ]
    },
    {
     "name": "stderr",
     "output_type": "stream",
     "text": [
      "Epoch 181/512: 100%|████████████████████████████████████████████████████████████████████| 906/906 [00:45<00:00, 19.92it/s]\n"
     ]
    },
    {
     "name": "stdout",
     "output_type": "stream",
     "text": [
      "Epoch 181/512: \n",
      "Train Loss = 0.46690, Train MSE = 0.76473, Train MAE = 0.67505, Train Acc = 0.76791\n",
      "Val Loss = 0.43169, Val MSE = 0.69358, Val MAE = 0.63701, Val Acc = 0.79138\n"
     ]
    },
    {
     "name": "stderr",
     "output_type": "stream",
     "text": [
      "Epoch 182/512: 100%|████████████████████████████████████████████████████████████████████| 906/906 [00:45<00:00, 19.93it/s]\n"
     ]
    },
    {
     "name": "stdout",
     "output_type": "stream",
     "text": [
      "Epoch 182/512: \n",
      "Train Loss = 0.46737, Train MSE = 0.76369, Train MAE = 0.67566, Train Acc = 0.76752\n",
      "Val Loss = 0.43320, Val MSE = 0.69984, Val MAE = 0.63843, Val Acc = 0.79415\n"
     ]
    },
    {
     "name": "stderr",
     "output_type": "stream",
     "text": [
      "Epoch 183/512: 100%|████████████████████████████████████████████████████████████████████| 906/906 [00:45<00:00, 19.93it/s]\n"
     ]
    },
    {
     "name": "stdout",
     "output_type": "stream",
     "text": [
      "Epoch 183/512: \n",
      "Train Loss = 0.46362, Train MSE = 0.75930, Train MAE = 0.67150, Train Acc = 0.76995\n",
      "Val Loss = 0.43196, Val MSE = 0.69157, Val MAE = 0.63815, Val Acc = 0.79332\n"
     ]
    },
    {
     "name": "stderr",
     "output_type": "stream",
     "text": [
      "Epoch 184/512: 100%|████████████████████████████████████████████████████████████████████| 906/906 [00:45<00:00, 19.95it/s]\n"
     ]
    },
    {
     "name": "stdout",
     "output_type": "stream",
     "text": [
      "Epoch 184/512: \n",
      "Train Loss = 0.46550, Train MSE = 0.75964, Train MAE = 0.67394, Train Acc = 0.76743\n",
      "Val Loss = 0.43440, Val MSE = 0.70040, Val MAE = 0.63990, Val Acc = 0.78918\n"
     ]
    },
    {
     "name": "stderr",
     "output_type": "stream",
     "text": [
      "Epoch 185/512: 100%|████████████████████████████████████████████████████████████████████| 906/906 [00:45<00:00, 19.97it/s]\n"
     ]
    },
    {
     "name": "stdout",
     "output_type": "stream",
     "text": [
      "Epoch 185/512: \n",
      "Train Loss = 0.46401, Train MSE = 0.75873, Train MAE = 0.67198, Train Acc = 0.77043\n",
      "Val Loss = 0.43069, Val MSE = 0.70059, Val MAE = 0.63541, Val Acc = 0.79332\n"
     ]
    },
    {
     "name": "stderr",
     "output_type": "stream",
     "text": [
      "Epoch 186/512:  42%|████████████████████████████▋                                       | 383/906 [00:19<00:26, 19.81it/s]"
     ]
    }
   ],
   "source": [
    "import argparse\n",
    "\n",
    "training_args = argparse.Namespace(**args)\n",
    "train_model(training_args, device)"
   ]
  },
  {
   "cell_type": "code",
   "execution_count": null,
   "metadata": {},
   "outputs": [],
   "source": []
  }
 ],
 "metadata": {
  "kernelspec": {
   "display_name": "Python (myenv)",
   "language": "python",
   "name": "myenv"
  },
  "language_info": {
   "codemirror_mode": {
    "name": "ipython",
    "version": 3
   },
   "file_extension": ".py",
   "mimetype": "text/x-python",
   "name": "python",
   "nbconvert_exporter": "python",
   "pygments_lexer": "ipython3",
   "version": "3.12.7"
  }
 },
 "nbformat": 4,
 "nbformat_minor": 4
}
