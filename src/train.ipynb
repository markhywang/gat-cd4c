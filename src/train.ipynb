{
 "cells": [
  {
   "cell_type": "code",
   "execution_count": 4,
   "metadata": {},
   "outputs": [],
   "source": [
    "import pandas as pd\n",
    "from sklearn.model_selection import train_test_split\n",
    "from tqdm import tqdm\n",
    "import math\n",
    "import torch\n",
    "from torch.utils.data import Dataset, DataLoader\n",
    "import torch.optim as optim\n",
    "import torch.nn as nn\n",
    "\n",
    "# Local imports\n",
    "from model import GraphAttentionNetwork\n",
    "from utils.dataset import DrugProteinDataset\n",
    "from utils.helper_functions import set_seeds, accuracy_func, plot_loss_curves"
   ]
  },
  {
   "cell_type": "code",
   "execution_count": 5,
   "metadata": {},
   "outputs": [
    {
     "name": "stdout",
     "output_type": "stream",
     "text": [
      "Using device: mps\n"
     ]
    }
   ],
   "source": [
    "if torch.backends.mps.is_available():\n",
    "    device = torch.device(\"mps\")\n",
    "elif torch.cuda.is_available():\n",
    "    device = torch.device(\"cuda\")\n",
    "else:\n",
    "    device = torch.device(\"cpu\")\n",
    "\n",
    "print(f\"Using device: {device}\")"
   ]
  },
  {
   "cell_type": "code",
   "execution_count": 6,
   "metadata": {},
   "outputs": [],
   "source": [
    "def train_model(args) -> None:\n",
    "    set_seeds()\n",
    "\n",
    "    model = GraphAttentionNetwork(\n",
    "        333, 1, 16,\n",
    "        args['hidden_size'],\n",
    "        args['num_layers'],\n",
    "        args['num_attn_heads']\n",
    "    ).to(device)\n",
    "\n",
    "    train_dataset, validation_dataset, test_dataset = load_data(\n",
    "        args['data_path'], args['seed'],\n",
    "        args['frac_train'], args['frac_validation'], args['frac_test'],\n",
    "        args['use_small_dataset']\n",
    "    )\n",
    "    \n",
    "    train_loader = DataLoader(train_dataset, batch_size=args['batch_size'], shuffle=True)\n",
    "    validation_loader = DataLoader(validation_dataset, batch_size=args['batch_size'], shuffle=False)\n",
    "\n",
    "    loss_func = nn.SmoothL1Loss(beta=args['huber_beta'])\n",
    "    optimizer = optim.AdamW(model.parameters(), lr=args['lr'], weight_decay=args['weight_decay'])\n",
    "    lr_scheduler = optim.lr_scheduler.ReduceLROnPlateau(optimizer, factor=args['scheduler_factor'], patience=args['scheduler_patience'])\n",
    "\n",
    "    best_validation_loss = float('inf')\n",
    "    no_validation_loss_improvement = 0\n",
    "    metrics_df = pd.DataFrame(columns=['train_loss', 'validation_loss'], index=range(args['max_epochs']))\n",
    "\n",
    "    for epoch in range(args['max_epochs']):\n",
    "        progress_bar = tqdm(train_loader, desc=f\"Epoch {epoch + 1}/{args['max_epochs']}\", leave=True)\n",
    "        avg_train_loss, avg_train_acc = run_training_epoch(progress_bar, optimizer, model, loss_func)\n",
    "        avg_validation_loss, avg_validation_acc = get_validation_metrics(validation_loader, model, loss_func)\n",
    "\n",
    "        lr_scheduler.step(avg_train_loss)\n",
    "\n",
    "        metrics_df.at[epoch, 'train_loss'] = avg_train_loss\n",
    "        metrics_df.at[epoch, 'validation_loss'] = avg_validation_loss\n",
    "        metrics_df.at[epoch, 'train_acc'] = avg_train_acc\n",
    "        metrics_df.at[epoch, 'validation_acc'] = avg_validation_acc\n",
    "\n",
    "        print(f\"Epoch {epoch + 1}: Train Loss = {avg_train_loss:.5f}, Validation Loss = {avg_validation_loss:.5f}, \"\n",
    "              f\"Train Acc = {avg_train_acc:.5f}, Validation Acc = {avg_validation_acc:.5f}\")\n",
    "\n",
    "        if avg_validation_loss < best_validation_loss:\n",
    "            best_validation_loss = avg_validation_loss\n",
    "            no_validation_loss_improvement = 0\n",
    "            torch.save(model.state_dict(), '../models/model.pth')\n",
    "        else:\n",
    "            no_validation_loss_improvement += 1\n",
    "            if no_validation_loss_improvement == args['stoppage_epochs']:\n",
    "                break\n",
    "\n",
    "    plot_loss_curves(metrics_df)\n"
   ]
  },
  {
   "cell_type": "code",
<<<<<<< HEAD
<<<<<<< HEAD
   "execution_count": 7,
=======
   "execution_count": null,
>>>>>>> 01073062798e2cbaa467871eddb4982878311cf3
=======
   "execution_count": null,
>>>>>>> 01073062798e2cbaa467871eddb4982878311cf3
   "metadata": {},
   "outputs": [],
   "source": [
    "def run_training_epoch(progress_bar, optimizer, model, loss_func):\n",
    "    model.train()\n",
    "    cum_samples = cum_loss = cum_acc = 0\n",
    "\n",
    "    for batch_data in progress_bar:\n",
    "        node_features, edge_features, adjacency_matrix, pchembl_score = [\n",
    "            x.to(torch.float32).to(device) for x in batch_data\n",
    "        ]\n",
    "\n",
    "        preds = model(node_features, edge_features, adjacency_matrix).squeeze(-1)\n",
    "        loss = loss_func(preds, pchembl_score)\n",
    "\n",
    "        cum_samples += preds.shape[0]\n",
    "        cum_loss += loss.item() * preds.shape[0]\n",
    "        cum_acc += accuracy_func(preds, pchembl_score, threshold=7.0)\n",
    "\n",
    "        optimizer.zero_grad()\n",
    "        loss.backward()\n",
    "        optimizer.step()\n",
    "\n",
    "    return cum_loss / cum_samples, cum_acc / cum_samples\n"
   ]
  },
  {
   "cell_type": "code",
   "execution_count": 8,
   "metadata": {},
   "outputs": [],
   "source": [
    "def get_validation_metrics(loader, model, loss_func):\n",
    "    model.eval()\n",
    "    cum_samples = cum_loss = cum_acc = 0\n",
    "\n",
    "    for batch in loader:\n",
    "        node_features, edge_features, adjacency_matrix, pchembl_scores = [\n",
    "            x.to(torch.float32).to(device) for x in batch\n",
    "        ]\n",
    "\n",
    "        preds = model(node_features, edge_features, adjacency_matrix).squeeze(-1)\n",
    "        loss = loss_func(preds, pchembl_scores).item()\n",
    "        acc = accuracy_func(preds, pchembl_scores, threshold=7.0)\n",
    "\n",
    "        cum_samples += preds.shape[0]\n",
    "        cum_loss += loss * preds.shape[0]\n",
    "        cum_acc += acc\n",
    "\n",
    "    return cum_loss / cum_samples, cum_acc / cum_samples\n"
   ]
  },
  {
   "cell_type": "code",
   "execution_count": 9,
   "metadata": {},
   "outputs": [],
   "source": [
    "def load_data(data_path, seed, frac_train, frac_val, frac_test, use_small):\n",
    "    assert math.isclose(frac_train + frac_val + frac_test, 1), \"Splits must sum to 1\"\n",
    "\n",
    "    file_name = 'filtered_cancer_small.csv' if use_small else 'filtered_cancer_all.csv'\n",
    "    data_df = pd.read_csv(f'{data_path}/{file_name}')\n",
    "    protein_df = pd.read_csv(f'{data_path}/protein_embeddings.csv', index_col=0)\n",
    "\n",
    "    data_df['stratify_col'] = data_df['Target_ID'] + '_' + data_df['label'].astype(str)\n",
    "\n",
    "    train_df, remain_df = train_test_split(data_df, test_size=frac_val + frac_test,\n",
    "                                           stratify=data_df['stratify_col'], random_state=seed)\n",
    "    val_df, test_df = train_test_split(remain_df, test_size=frac_test / (frac_val + frac_test),\n",
    "                                       stratify=remain_df['stratify_col'], random_state=seed)\n",
    "\n",
    "    train_df = train_df.drop(columns='stratify_col')\n",
    "    val_df = val_df.drop(columns='stratify_col')\n",
    "    test_df = test_df.drop(columns='stratify_col')\n",
    "\n",
    "    train_set = DrugProteinDataset(train_df, protein_df)\n",
    "    val_set = DrugProteinDataset(val_df, protein_df)\n",
    "    test_set = DrugProteinDataset(test_df, protein_df)\n",
    "\n",
    "    return train_set, val_set, test_set\n"
   ]
  },
  {
   "cell_type": "code",
   "execution_count": 10,
   "metadata": {},
   "outputs": [],
   "source": [
    "args = {\n",
    "    \"use_small_dataset\": True,\n",
    "    \"batch_size\": 64,\n",
    "    \"stoppage_epochs\": 128,\n",
    "    \"max_epochs\": 128,\n",
    "    \"seed\": 42,\n",
    "    \"data_path\": \"../data\",\n",
    "    \"frac_train\": 0.7,\n",
    "    \"frac_validation\": 0.15,\n",
    "    \"frac_test\": 0.15,\n",
    "    \"huber_beta\": 1.0,\n",
    "    \"weight_decay\": 1e-4,\n",
    "    \"lr\": 3e-3,\n",
    "    \"scheduler_patience\": 10,\n",
    "    \"scheduler_factor\": 0.5,\n",
    "    \"hidden_size\": 32,\n",
    "    \"num_layers\": 4,\n",
    "    \"num_attn_heads\": 8,\n",
    "    \"dropout\": 0.2,\n",
    "    \"leaky_relu_slope\": 0.2\n",
    "}\n"
   ]
  },
  {
   "cell_type": "code",
   "execution_count": 11,
   "metadata": {},
   "outputs": [
    {
     "name": "stderr",
     "output_type": "stream",
     "text": [
      "Epoch 1/128: 100%|██████████| 55/55 [00:06<00:00,  8.31it/s]\n"
     ]
    },
    {
     "name": "stdout",
     "output_type": "stream",
     "text": [
      "Epoch 1: Train Loss = 1.24790, Validation Loss = 0.73207, Train Acc = 0.63944, Validation Acc = 0.66534\n"
     ]
    },
    {
     "name": "stderr",
     "output_type": "stream",
     "text": [
      "Epoch 2/128: 100%|██████████| 55/55 [00:05<00:00,  9.97it/s]\n"
     ]
    },
    {
     "name": "stdout",
     "output_type": "stream",
     "text": [
      "Epoch 2: Train Loss = 0.59459, Validation Loss = 0.66261, Train Acc = 0.66278, Validation Acc = 0.66534\n"
     ]
    },
    {
     "name": "stderr",
     "output_type": "stream",
     "text": [
      "Epoch 3/128: 100%|██████████| 55/55 [00:05<00:00,  9.95it/s]\n"
     ]
    },
    {
     "name": "stdout",
     "output_type": "stream",
     "text": [
      "Epoch 3: Train Loss = 0.56527, Validation Loss = 0.57310, Train Acc = 0.67900, Validation Acc = 0.66799\n"
     ]
    },
    {
     "name": "stderr",
     "output_type": "stream",
     "text": [
      "Epoch 4/128: 100%|██████████| 55/55 [00:05<00:00,  9.95it/s]\n"
     ]
    },
    {
     "name": "stdout",
     "output_type": "stream",
     "text": [
      "Epoch 4: Train Loss = 0.56799, Validation Loss = 0.53938, Train Acc = 0.67245, Validation Acc = 0.68260\n"
     ]
    },
    {
     "name": "stderr",
     "output_type": "stream",
     "text": [
      "Epoch 5/128: 100%|██████████| 55/55 [00:05<00:00,  9.93it/s]\n"
     ]
    },
    {
     "name": "stdout",
     "output_type": "stream",
     "text": [
      "Epoch 5: Train Loss = 0.55570, Validation Loss = 0.56472, Train Acc = 0.68270, Validation Acc = 0.67331\n"
     ]
    },
    {
     "name": "stderr",
     "output_type": "stream",
     "text": [
      "Epoch 6/128: 100%|██████████| 55/55 [00:05<00:00,  9.91it/s]\n"
     ]
    },
    {
     "name": "stdout",
     "output_type": "stream",
     "text": [
      "Epoch 6: Train Loss = 0.56309, Validation Loss = 0.53755, Train Acc = 0.67843, Validation Acc = 0.68127\n"
     ]
    },
    {
     "name": "stderr",
     "output_type": "stream",
     "text": [
      "Epoch 7/128: 100%|██████████| 55/55 [00:05<00:00,  9.91it/s]\n"
     ]
    },
    {
     "name": "stdout",
     "output_type": "stream",
     "text": [
      "Epoch 7: Train Loss = 0.56079, Validation Loss = 0.52331, Train Acc = 0.67814, Validation Acc = 0.69456\n"
     ]
    },
    {
     "name": "stderr",
     "output_type": "stream",
     "text": [
      "Epoch 8/128: 100%|██████████| 55/55 [00:05<00:00,  9.91it/s]\n"
     ]
    },
    {
     "name": "stdout",
     "output_type": "stream",
     "text": [
      "Epoch 8: Train Loss = 0.53793, Validation Loss = 0.52629, Train Acc = 0.69124, Validation Acc = 0.67862\n"
     ]
    },
    {
     "name": "stderr",
     "output_type": "stream",
     "text": [
      "Epoch 9/128: 100%|██████████| 55/55 [00:05<00:00,  9.91it/s]\n"
     ]
    },
    {
     "name": "stdout",
     "output_type": "stream",
     "text": [
      "Epoch 9: Train Loss = 0.54566, Validation Loss = 0.52629, Train Acc = 0.68867, Validation Acc = 0.68924\n"
     ]
    },
    {
     "name": "stderr",
     "output_type": "stream",
     "text": [
      "Epoch 10/128: 100%|██████████| 55/55 [00:05<00:00,  9.89it/s]\n"
     ]
    },
    {
     "name": "stdout",
     "output_type": "stream",
     "text": [
      "Epoch 10: Train Loss = 0.53495, Validation Loss = 0.52517, Train Acc = 0.69380, Validation Acc = 0.68924\n"
     ]
    },
    {
     "name": "stderr",
     "output_type": "stream",
     "text": [
      "Epoch 11/128: 100%|██████████| 55/55 [00:05<00:00,  9.89it/s]\n"
     ]
    },
    {
     "name": "stdout",
     "output_type": "stream",
     "text": [
      "Epoch 11: Train Loss = 0.53411, Validation Loss = 0.54069, Train Acc = 0.69550, Validation Acc = 0.68260\n"
     ]
    },
    {
     "name": "stderr",
     "output_type": "stream",
     "text": [
      "Epoch 12/128: 100%|██████████| 55/55 [00:05<00:00,  9.89it/s]\n"
     ]
    },
    {
     "name": "stdout",
     "output_type": "stream",
     "text": [
      "Epoch 12: Train Loss = 0.53824, Validation Loss = 0.53145, Train Acc = 0.68697, Validation Acc = 0.69323\n"
     ]
    },
    {
     "name": "stderr",
     "output_type": "stream",
     "text": [
      "Epoch 13/128: 100%|██████████| 55/55 [00:05<00:00,  9.90it/s]\n"
     ]
    },
    {
     "name": "stdout",
     "output_type": "stream",
     "text": [
      "Epoch 13: Train Loss = 0.53509, Validation Loss = 0.52450, Train Acc = 0.69095, Validation Acc = 0.69588\n"
     ]
    },
    {
     "name": "stderr",
     "output_type": "stream",
     "text": [
      "Epoch 14/128: 100%|██████████| 55/55 [00:05<00:00,  9.90it/s]\n"
     ]
    },
    {
     "name": "stdout",
     "output_type": "stream",
     "text": [
      "Epoch 14: Train Loss = 0.53273, Validation Loss = 0.51574, Train Acc = 0.69323, Validation Acc = 0.68659\n"
     ]
    },
    {
     "name": "stderr",
     "output_type": "stream",
     "text": [
      "Epoch 15/128: 100%|██████████| 55/55 [00:05<00:00,  9.91it/s]\n"
     ]
    },
    {
     "name": "stdout",
     "output_type": "stream",
     "text": [
      "Epoch 15: Train Loss = 0.52717, Validation Loss = 0.51105, Train Acc = 0.70205, Validation Acc = 0.68924\n"
     ]
    },
    {
     "name": "stderr",
     "output_type": "stream",
     "text": [
      "Epoch 16/128: 100%|██████████| 55/55 [00:05<00:00,  9.90it/s]\n"
     ]
    },
    {
     "name": "stdout",
     "output_type": "stream",
     "text": [
      "Epoch 16: Train Loss = 0.53810, Validation Loss = 0.51225, Train Acc = 0.68754, Validation Acc = 0.69588\n"
     ]
    },
    {
     "name": "stderr",
     "output_type": "stream",
     "text": [
      "Epoch 17/128: 100%|██████████| 55/55 [00:05<00:00,  9.86it/s]\n"
     ]
    },
    {
     "name": "stdout",
     "output_type": "stream",
     "text": [
      "Epoch 17: Train Loss = 0.52626, Validation Loss = 0.50607, Train Acc = 0.69750, Validation Acc = 0.69854\n"
     ]
    },
    {
     "name": "stderr",
     "output_type": "stream",
     "text": [
      "Epoch 18/128: 100%|██████████| 55/55 [00:05<00:00,  9.91it/s]\n"
     ]
    },
    {
     "name": "stdout",
     "output_type": "stream",
     "text": [
      "Epoch 18: Train Loss = 0.51971, Validation Loss = 0.56978, Train Acc = 0.70717, Validation Acc = 0.68260\n"
     ]
    },
    {
     "name": "stderr",
     "output_type": "stream",
     "text": [
      "Epoch 19/128: 100%|██████████| 55/55 [00:05<00:00,  9.88it/s]\n"
     ]
    },
    {
     "name": "stdout",
     "output_type": "stream",
     "text": [
      "Epoch 19: Train Loss = 0.52309, Validation Loss = 0.51351, Train Acc = 0.68697, Validation Acc = 0.69456\n"
     ]
    },
    {
     "name": "stderr",
     "output_type": "stream",
     "text": [
      "Epoch 20/128: 100%|██████████| 55/55 [00:05<00:00,  9.91it/s]\n"
     ]
    },
    {
     "name": "stdout",
     "output_type": "stream",
     "text": [
      "Epoch 20: Train Loss = 0.52556, Validation Loss = 0.50845, Train Acc = 0.69863, Validation Acc = 0.69323\n"
     ]
    },
    {
     "name": "stderr",
     "output_type": "stream",
     "text": [
      "Epoch 21/128: 100%|██████████| 55/55 [00:05<00:00,  9.98it/s]\n"
     ]
    },
    {
     "name": "stdout",
     "output_type": "stream",
     "text": [
      "Epoch 21: Train Loss = 0.51665, Validation Loss = 0.49985, Train Acc = 0.70916, Validation Acc = 0.70252\n"
     ]
    },
    {
     "name": "stderr",
     "output_type": "stream",
     "text": [
      "Epoch 22/128: 100%|██████████| 55/55 [00:05<00:00,  9.97it/s]\n"
     ]
    },
    {
     "name": "stdout",
     "output_type": "stream",
     "text": [
      "Epoch 22: Train Loss = 0.52303, Validation Loss = 0.54343, Train Acc = 0.70632, Validation Acc = 0.69854\n"
     ]
    },
    {
     "name": "stderr",
     "output_type": "stream",
     "text": [
      "Epoch 23/128: 100%|██████████| 55/55 [00:05<00:00,  9.97it/s]\n"
     ]
    },
    {
     "name": "stdout",
     "output_type": "stream",
     "text": [
      "Epoch 23: Train Loss = 0.52128, Validation Loss = 0.51264, Train Acc = 0.70091, Validation Acc = 0.69323\n"
     ]
    },
    {
     "name": "stderr",
     "output_type": "stream",
     "text": [
      "Epoch 24/128: 100%|██████████| 55/55 [00:05<00:00,  9.85it/s]\n"
     ]
    },
    {
     "name": "stdout",
     "output_type": "stream",
     "text": [
      "Epoch 24: Train Loss = 0.51797, Validation Loss = 0.54815, Train Acc = 0.69863, Validation Acc = 0.69323\n"
     ]
    },
    {
     "name": "stderr",
     "output_type": "stream",
     "text": [
      "Epoch 25/128: 100%|██████████| 55/55 [00:05<00:00,  9.87it/s]\n"
     ]
    },
    {
     "name": "stdout",
     "output_type": "stream",
     "text": [
      "Epoch 25: Train Loss = 0.52198, Validation Loss = 0.51709, Train Acc = 0.70148, Validation Acc = 0.68393\n"
     ]
    },
    {
     "name": "stderr",
     "output_type": "stream",
     "text": [
      "Epoch 26/128: 100%|██████████| 55/55 [00:05<00:00,  9.91it/s]\n"
     ]
    },
    {
     "name": "stdout",
     "output_type": "stream",
     "text": [
      "Epoch 26: Train Loss = 0.51613, Validation Loss = 0.50269, Train Acc = 0.70091, Validation Acc = 0.70385\n"
     ]
    },
    {
     "name": "stderr",
     "output_type": "stream",
     "text": [
      "Epoch 27/128: 100%|██████████| 55/55 [00:05<00:00,  9.94it/s]\n"
     ]
    },
    {
     "name": "stdout",
     "output_type": "stream",
     "text": [
      "Epoch 27: Train Loss = 0.51377, Validation Loss = 0.50104, Train Acc = 0.69778, Validation Acc = 0.71713\n"
     ]
    },
    {
     "name": "stderr",
     "output_type": "stream",
     "text": [
      "Epoch 28/128: 100%|██████████| 55/55 [00:05<00:00,  9.96it/s]\n"
     ]
    },
    {
     "name": "stdout",
     "output_type": "stream",
     "text": [
      "Epoch 28: Train Loss = 0.52212, Validation Loss = 0.50975, Train Acc = 0.69067, Validation Acc = 0.69721\n"
     ]
    },
    {
     "name": "stderr",
     "output_type": "stream",
     "text": [
      "Epoch 29/128: 100%|██████████| 55/55 [00:05<00:00,  9.90it/s]\n"
     ]
    },
    {
     "name": "stdout",
     "output_type": "stream",
     "text": [
      "Epoch 29: Train Loss = 0.51444, Validation Loss = 0.49598, Train Acc = 0.70063, Validation Acc = 0.71182\n"
     ]
    },
    {
     "name": "stderr",
     "output_type": "stream",
     "text": [
      "Epoch 30/128: 100%|██████████| 55/55 [00:05<00:00,  9.90it/s]\n"
     ]
    },
    {
     "name": "stdout",
     "output_type": "stream",
     "text": [
      "Epoch 30: Train Loss = 0.50742, Validation Loss = 0.50111, Train Acc = 0.70433, Validation Acc = 0.69323\n"
     ]
    },
    {
     "name": "stderr",
     "output_type": "stream",
     "text": [
      "Epoch 31/128: 100%|██████████| 55/55 [00:05<00:00,  9.96it/s]\n"
     ]
    },
    {
     "name": "stdout",
     "output_type": "stream",
     "text": [
      "Epoch 31: Train Loss = 0.50837, Validation Loss = 0.48360, Train Acc = 0.70461, Validation Acc = 0.71182\n"
     ]
    },
    {
     "name": "stderr",
     "output_type": "stream",
     "text": [
      "Epoch 32/128: 100%|██████████| 55/55 [00:05<00:00,  9.96it/s]\n"
     ]
    },
    {
     "name": "stdout",
     "output_type": "stream",
     "text": [
      "Epoch 32: Train Loss = 0.50551, Validation Loss = 0.48338, Train Acc = 0.70518, Validation Acc = 0.71049\n"
     ]
    },
    {
     "name": "stderr",
     "output_type": "stream",
     "text": [
      "Epoch 33/128: 100%|██████████| 55/55 [00:05<00:00,  9.96it/s]\n"
     ]
    },
    {
     "name": "stdout",
     "output_type": "stream",
     "text": [
      "Epoch 33: Train Loss = 0.51052, Validation Loss = 0.48443, Train Acc = 0.70376, Validation Acc = 0.70252\n"
     ]
    },
    {
     "name": "stderr",
     "output_type": "stream",
     "text": [
      "Epoch 34/128: 100%|██████████| 55/55 [00:05<00:00,  9.95it/s]\n"
     ]
    },
    {
     "name": "stdout",
     "output_type": "stream",
     "text": [
      "Epoch 34: Train Loss = 0.51538, Validation Loss = 0.49310, Train Acc = 0.70034, Validation Acc = 0.71182\n"
     ]
    },
    {
     "name": "stderr",
     "output_type": "stream",
     "text": [
      "Epoch 35/128: 100%|██████████| 55/55 [00:05<00:00,  9.96it/s]\n"
     ]
    },
    {
     "name": "stdout",
     "output_type": "stream",
     "text": [
      "Epoch 35: Train Loss = 0.50202, Validation Loss = 0.48344, Train Acc = 0.70660, Validation Acc = 0.70651\n"
     ]
    },
    {
     "name": "stderr",
     "output_type": "stream",
     "text": [
      "Epoch 36/128: 100%|██████████| 55/55 [00:05<00:00,  9.95it/s]\n"
     ]
    },
    {
     "name": "stdout",
     "output_type": "stream",
     "text": [
      "Epoch 36: Train Loss = 0.51735, Validation Loss = 0.50851, Train Acc = 0.70347, Validation Acc = 0.69588\n"
     ]
    },
    {
     "name": "stderr",
     "output_type": "stream",
     "text": [
      "Epoch 37/128: 100%|██████████| 55/55 [00:05<00:00,  9.96it/s]\n"
     ]
    },
    {
     "name": "stdout",
     "output_type": "stream",
     "text": [
      "Epoch 37: Train Loss = 0.50710, Validation Loss = 0.49432, Train Acc = 0.69863, Validation Acc = 0.69456\n"
     ]
    },
    {
     "name": "stderr",
     "output_type": "stream",
     "text": [
      "Epoch 38/128: 100%|██████████| 55/55 [00:05<00:00,  9.95it/s]\n"
     ]
    },
    {
     "name": "stdout",
     "output_type": "stream",
     "text": [
      "Epoch 38: Train Loss = 0.50113, Validation Loss = 0.52943, Train Acc = 0.71201, Validation Acc = 0.68659\n"
     ]
    },
    {
     "name": "stderr",
     "output_type": "stream",
     "text": [
      "Epoch 39/128: 100%|██████████| 55/55 [00:05<00:00,  9.95it/s]\n"
     ]
    },
    {
     "name": "stdout",
     "output_type": "stream",
     "text": [
      "Epoch 39: Train Loss = 0.50801, Validation Loss = 0.50433, Train Acc = 0.70404, Validation Acc = 0.71182\n"
     ]
    },
    {
     "name": "stderr",
     "output_type": "stream",
     "text": [
      "Epoch 40/128: 100%|██████████| 55/55 [00:05<00:00,  9.95it/s]\n"
     ]
    },
    {
     "name": "stdout",
     "output_type": "stream",
     "text": [
      "Epoch 40: Train Loss = 0.50408, Validation Loss = 0.51493, Train Acc = 0.71343, Validation Acc = 0.70651\n"
     ]
    },
    {
     "name": "stderr",
     "output_type": "stream",
     "text": [
      "Epoch 41/128: 100%|██████████| 55/55 [00:05<00:00,  9.95it/s]\n"
     ]
    },
    {
     "name": "stdout",
     "output_type": "stream",
     "text": [
      "Epoch 41: Train Loss = 0.51188, Validation Loss = 0.52024, Train Acc = 0.70319, Validation Acc = 0.69854\n"
     ]
    },
    {
     "name": "stderr",
     "output_type": "stream",
     "text": [
      "Epoch 42/128: 100%|██████████| 55/55 [00:05<00:00,  9.95it/s]\n"
     ]
    },
    {
     "name": "stdout",
     "output_type": "stream",
     "text": [
      "Epoch 42: Train Loss = 0.51035, Validation Loss = 0.49861, Train Acc = 0.70603, Validation Acc = 0.70916\n"
     ]
    },
    {
     "name": "stderr",
     "output_type": "stream",
     "text": [
      "Epoch 43/128: 100%|██████████| 55/55 [00:05<00:00,  9.95it/s]\n"
     ]
    },
    {
     "name": "stdout",
     "output_type": "stream",
     "text": [
      "Epoch 43: Train Loss = 0.50954, Validation Loss = 0.48621, Train Acc = 0.70660, Validation Acc = 0.71580\n"
     ]
    },
    {
     "name": "stderr",
     "output_type": "stream",
     "text": [
      "Epoch 44/128: 100%|██████████| 55/55 [00:05<00:00,  9.94it/s]\n"
     ]
    },
    {
     "name": "stdout",
     "output_type": "stream",
     "text": [
      "Epoch 44: Train Loss = 0.49555, Validation Loss = 0.49207, Train Acc = 0.71742, Validation Acc = 0.71580\n"
     ]
    },
    {
     "name": "stderr",
     "output_type": "stream",
     "text": [
      "Epoch 45/128: 100%|██████████| 55/55 [00:05<00:00,  9.95it/s]\n"
     ]
    },
    {
     "name": "stdout",
     "output_type": "stream",
     "text": [
      "Epoch 45: Train Loss = 0.49741, Validation Loss = 0.50808, Train Acc = 0.71201, Validation Acc = 0.70518\n"
     ]
    },
    {
     "name": "stderr",
     "output_type": "stream",
     "text": [
      "Epoch 46/128: 100%|██████████| 55/55 [00:05<00:00,  9.95it/s]\n"
     ]
    },
    {
     "name": "stdout",
     "output_type": "stream",
     "text": [
      "Epoch 46: Train Loss = 0.50281, Validation Loss = 0.63140, Train Acc = 0.70945, Validation Acc = 0.68260\n"
     ]
    },
    {
     "name": "stderr",
     "output_type": "stream",
     "text": [
      "Epoch 47/128: 100%|██████████| 55/55 [00:05<00:00,  9.94it/s]\n"
     ]
    },
    {
     "name": "stdout",
     "output_type": "stream",
     "text": [
      "Epoch 47: Train Loss = 0.50869, Validation Loss = 0.51482, Train Acc = 0.70973, Validation Acc = 0.70120\n"
     ]
    },
    {
     "name": "stderr",
     "output_type": "stream",
     "text": [
      "Epoch 48/128: 100%|██████████| 55/55 [00:05<00:00,  9.95it/s]\n"
     ]
    },
    {
     "name": "stdout",
     "output_type": "stream",
     "text": [
      "Epoch 48: Train Loss = 0.49777, Validation Loss = 0.49834, Train Acc = 0.71542, Validation Acc = 0.71049\n"
     ]
    },
    {
     "name": "stderr",
     "output_type": "stream",
     "text": [
      "Epoch 49/128: 100%|██████████| 55/55 [00:05<00:00,  9.89it/s]\n"
     ]
    },
    {
     "name": "stdout",
     "output_type": "stream",
     "text": [
      "Epoch 49: Train Loss = 0.49893, Validation Loss = 0.48893, Train Acc = 0.70916, Validation Acc = 0.72244\n"
     ]
    },
    {
     "name": "stderr",
     "output_type": "stream",
     "text": [
      "Epoch 50/128: 100%|██████████| 55/55 [00:05<00:00,  9.89it/s]\n"
     ]
    },
    {
     "name": "stdout",
     "output_type": "stream",
     "text": [
      "Epoch 50: Train Loss = 0.50162, Validation Loss = 0.49389, Train Acc = 0.71116, Validation Acc = 0.71846\n"
     ]
    },
    {
     "name": "stderr",
     "output_type": "stream",
     "text": [
      "Epoch 51/128: 100%|██████████| 55/55 [00:05<00:00,  9.94it/s]\n"
     ]
    },
    {
     "name": "stdout",
     "output_type": "stream",
     "text": [
      "Epoch 51: Train Loss = 0.50096, Validation Loss = 0.47493, Train Acc = 0.71599, Validation Acc = 0.72510\n"
     ]
    },
    {
     "name": "stderr",
     "output_type": "stream",
     "text": [
      "Epoch 52/128: 100%|██████████| 55/55 [00:05<00:00,  9.95it/s]\n"
     ]
    },
    {
     "name": "stdout",
     "output_type": "stream",
     "text": [
      "Epoch 52: Train Loss = 0.50702, Validation Loss = 0.47325, Train Acc = 0.71229, Validation Acc = 0.73705\n"
     ]
    },
    {
     "name": "stderr",
     "output_type": "stream",
     "text": [
      "Epoch 53/128: 100%|██████████| 55/55 [00:05<00:00,  9.96it/s]\n"
     ]
    },
    {
     "name": "stdout",
     "output_type": "stream",
     "text": [
      "Epoch 53: Train Loss = 0.49524, Validation Loss = 0.48281, Train Acc = 0.71742, Validation Acc = 0.71846\n"
     ]
    },
    {
     "name": "stderr",
     "output_type": "stream",
     "text": [
      "Epoch 54/128: 100%|██████████| 55/55 [00:05<00:00,  9.96it/s]\n"
     ]
    },
    {
     "name": "stdout",
     "output_type": "stream",
     "text": [
      "Epoch 54: Train Loss = 0.50933, Validation Loss = 0.50552, Train Acc = 0.71087, Validation Acc = 0.70518\n"
     ]
    },
    {
     "name": "stderr",
     "output_type": "stream",
     "text": [
      "Epoch 55/128: 100%|██████████| 55/55 [00:05<00:00,  9.89it/s]\n"
     ]
    },
    {
     "name": "stdout",
     "output_type": "stream",
     "text": [
      "Epoch 55: Train Loss = 0.50186, Validation Loss = 0.48573, Train Acc = 0.71172, Validation Acc = 0.69987\n"
     ]
    },
    {
     "name": "stderr",
     "output_type": "stream",
     "text": [
      "Epoch 56/128: 100%|██████████| 55/55 [00:05<00:00,  9.86it/s]\n"
     ]
    },
    {
     "name": "stdout",
     "output_type": "stream",
     "text": [
      "Epoch 56: Train Loss = 0.49883, Validation Loss = 0.46824, Train Acc = 0.70831, Validation Acc = 0.74635\n"
     ]
    },
    {
     "name": "stderr",
     "output_type": "stream",
     "text": [
      "Epoch 57/128: 100%|██████████| 55/55 [00:05<00:00,  9.87it/s]\n"
     ]
    },
    {
     "name": "stdout",
     "output_type": "stream",
     "text": [
      "Epoch 57: Train Loss = 0.49676, Validation Loss = 0.49278, Train Acc = 0.71087, Validation Acc = 0.70252\n"
     ]
    },
    {
     "name": "stderr",
     "output_type": "stream",
     "text": [
      "Epoch 58/128: 100%|██████████| 55/55 [00:05<00:00,  9.89it/s]\n"
     ]
    },
    {
     "name": "stdout",
     "output_type": "stream",
     "text": [
      "Epoch 58: Train Loss = 0.50237, Validation Loss = 0.46623, Train Acc = 0.71002, Validation Acc = 0.73041\n"
     ]
    },
    {
     "name": "stderr",
     "output_type": "stream",
     "text": [
      "Epoch 59/128: 100%|██████████| 55/55 [00:05<00:00,  9.95it/s]\n"
     ]
    },
    {
     "name": "stdout",
     "output_type": "stream",
     "text": [
      "Epoch 59: Train Loss = 0.50817, Validation Loss = 0.47037, Train Acc = 0.70660, Validation Acc = 0.74236\n"
     ]
    },
    {
     "name": "stderr",
     "output_type": "stream",
     "text": [
      "Epoch 60/128: 100%|██████████| 55/55 [00:05<00:00,  9.94it/s]\n"
     ]
    },
    {
     "name": "stdout",
     "output_type": "stream",
     "text": [
      "Epoch 60: Train Loss = 0.49797, Validation Loss = 0.51167, Train Acc = 0.72453, Validation Acc = 0.70784\n"
     ]
    },
    {
     "name": "stderr",
     "output_type": "stream",
     "text": [
      "Epoch 61/128: 100%|██████████| 55/55 [00:05<00:00,  9.95it/s]\n"
     ]
    },
    {
     "name": "stdout",
     "output_type": "stream",
     "text": [
      "Epoch 61: Train Loss = 0.49594, Validation Loss = 0.54446, Train Acc = 0.72368, Validation Acc = 0.70916\n"
     ]
    },
    {
     "name": "stderr",
     "output_type": "stream",
     "text": [
      "Epoch 62/128: 100%|██████████| 55/55 [00:05<00:00,  9.96it/s]\n"
     ]
    },
    {
     "name": "stdout",
     "output_type": "stream",
     "text": [
      "Epoch 62: Train Loss = 0.49863, Validation Loss = 0.45996, Train Acc = 0.71827, Validation Acc = 0.74236\n"
     ]
    },
    {
     "name": "stderr",
     "output_type": "stream",
     "text": [
      "Epoch 63/128: 100%|██████████| 55/55 [00:05<00:00,  9.94it/s]\n"
     ]
    },
    {
     "name": "stdout",
     "output_type": "stream",
     "text": [
      "Epoch 63: Train Loss = 0.49898, Validation Loss = 0.46660, Train Acc = 0.72311, Validation Acc = 0.74104\n"
     ]
    },
    {
     "name": "stderr",
     "output_type": "stream",
     "text": [
      "Epoch 64/128: 100%|██████████| 55/55 [00:05<00:00,  9.94it/s]\n"
     ]
    },
    {
     "name": "stdout",
     "output_type": "stream",
     "text": [
      "Epoch 64: Train Loss = 0.50178, Validation Loss = 0.53070, Train Acc = 0.72225, Validation Acc = 0.70784\n"
     ]
    },
    {
     "name": "stderr",
     "output_type": "stream",
     "text": [
      "Epoch 65/128: 100%|██████████| 55/55 [00:05<00:00,  9.88it/s]\n"
     ]
    },
    {
     "name": "stdout",
     "output_type": "stream",
     "text": [
      "Epoch 65: Train Loss = 0.48678, Validation Loss = 0.46287, Train Acc = 0.72510, Validation Acc = 0.73174\n"
     ]
    },
    {
     "name": "stderr",
     "output_type": "stream",
     "text": [
      "Epoch 66/128: 100%|██████████| 55/55 [00:05<00:00,  9.90it/s]\n"
     ]
    },
    {
     "name": "stdout",
     "output_type": "stream",
     "text": [
      "Epoch 66: Train Loss = 0.48452, Validation Loss = 0.49036, Train Acc = 0.72425, Validation Acc = 0.72112\n"
     ]
    },
    {
     "name": "stderr",
     "output_type": "stream",
     "text": [
      "Epoch 67/128: 100%|██████████| 55/55 [00:05<00:00,  9.93it/s]\n"
     ]
    },
    {
     "name": "stdout",
     "output_type": "stream",
     "text": [
      "Epoch 67: Train Loss = 0.48444, Validation Loss = 0.47323, Train Acc = 0.73136, Validation Acc = 0.72510\n"
     ]
    },
    {
     "name": "stderr",
     "output_type": "stream",
     "text": [
      "Epoch 68/128: 100%|██████████| 55/55 [00:05<00:00,  9.94it/s]\n"
     ]
    },
    {
     "name": "stdout",
     "output_type": "stream",
     "text": [
      "Epoch 68: Train Loss = 0.48877, Validation Loss = 0.47094, Train Acc = 0.72880, Validation Acc = 0.72776\n"
     ]
    },
    {
     "name": "stderr",
     "output_type": "stream",
     "text": [
      "Epoch 69/128: 100%|██████████| 55/55 [00:05<00:00,  9.93it/s]\n"
     ]
    },
    {
     "name": "stdout",
     "output_type": "stream",
     "text": [
      "Epoch 69: Train Loss = 0.48304, Validation Loss = 0.48273, Train Acc = 0.73307, Validation Acc = 0.71448\n"
     ]
    },
    {
     "name": "stderr",
     "output_type": "stream",
     "text": [
      "Epoch 70/128: 100%|██████████| 55/55 [00:05<00:00,  9.94it/s]\n"
     ]
    },
    {
     "name": "stdout",
     "output_type": "stream",
     "text": [
      "Epoch 70: Train Loss = 0.49564, Validation Loss = 0.49003, Train Acc = 0.72225, Validation Acc = 0.71580\n"
     ]
    },
    {
     "name": "stderr",
     "output_type": "stream",
     "text": [
      "Epoch 71/128: 100%|██████████| 55/55 [00:05<00:00,  9.96it/s]\n"
     ]
    },
    {
     "name": "stdout",
     "output_type": "stream",
     "text": [
      "Epoch 71: Train Loss = 0.48969, Validation Loss = 0.45917, Train Acc = 0.72140, Validation Acc = 0.74104\n"
     ]
    },
    {
     "name": "stderr",
     "output_type": "stream",
     "text": [
      "Epoch 72/128: 100%|██████████| 55/55 [00:05<00:00,  9.95it/s]\n"
     ]
    },
    {
     "name": "stdout",
     "output_type": "stream",
     "text": [
      "Epoch 72: Train Loss = 0.47904, Validation Loss = 0.46874, Train Acc = 0.73421, Validation Acc = 0.73705\n"
     ]
    },
    {
     "name": "stderr",
     "output_type": "stream",
     "text": [
      "Epoch 73/128: 100%|██████████| 55/55 [00:05<00:00,  9.93it/s]\n"
     ]
    },
    {
     "name": "stdout",
     "output_type": "stream",
     "text": [
      "Epoch 73: Train Loss = 0.47365, Validation Loss = 0.46534, Train Acc = 0.73591, Validation Acc = 0.72643\n"
     ]
    },
    {
     "name": "stderr",
     "output_type": "stream",
     "text": [
      "Epoch 74/128: 100%|██████████| 55/55 [00:05<00:00,  9.96it/s]\n"
     ]
    },
    {
     "name": "stdout",
     "output_type": "stream",
     "text": [
      "Epoch 74: Train Loss = 0.48846, Validation Loss = 0.47317, Train Acc = 0.72567, Validation Acc = 0.72510\n"
     ]
    },
    {
     "name": "stderr",
     "output_type": "stream",
     "text": [
      "Epoch 75/128: 100%|██████████| 55/55 [00:05<00:00,  9.96it/s]\n"
     ]
    },
    {
     "name": "stdout",
     "output_type": "stream",
     "text": [
      "Epoch 75: Train Loss = 0.48925, Validation Loss = 0.47012, Train Acc = 0.72453, Validation Acc = 0.72643\n"
     ]
    },
    {
     "name": "stderr",
     "output_type": "stream",
     "text": [
      "Epoch 76/128: 100%|██████████| 55/55 [00:05<00:00,  9.94it/s]\n"
     ]
    },
    {
     "name": "stdout",
     "output_type": "stream",
     "text": [
      "Epoch 76: Train Loss = 0.49090, Validation Loss = 0.48121, Train Acc = 0.73193, Validation Acc = 0.72377\n"
     ]
    },
    {
     "name": "stderr",
     "output_type": "stream",
     "text": [
      "Epoch 77/128: 100%|██████████| 55/55 [00:05<00:00,  9.95it/s]\n"
     ]
    },
    {
     "name": "stdout",
     "output_type": "stream",
     "text": [
      "Epoch 77: Train Loss = 0.49156, Validation Loss = 0.45456, Train Acc = 0.73022, Validation Acc = 0.73971\n"
     ]
    },
    {
     "name": "stderr",
     "output_type": "stream",
     "text": [
      "Epoch 78/128: 100%|██████████| 55/55 [00:05<00:00,  9.95it/s]\n"
     ]
    },
    {
     "name": "stdout",
     "output_type": "stream",
     "text": [
      "Epoch 78: Train Loss = 0.47382, Validation Loss = 0.46494, Train Acc = 0.73734, Validation Acc = 0.73705\n"
     ]
    },
    {
     "name": "stderr",
     "output_type": "stream",
     "text": [
      "Epoch 79/128: 100%|██████████| 55/55 [00:05<00:00,  9.96it/s]\n"
     ]
    },
    {
     "name": "stdout",
     "output_type": "stream",
     "text": [
      "Epoch 79: Train Loss = 0.48683, Validation Loss = 0.45616, Train Acc = 0.72453, Validation Acc = 0.73838\n"
     ]
    },
    {
     "name": "stderr",
     "output_type": "stream",
     "text": [
      "Epoch 80/128: 100%|██████████| 55/55 [00:05<00:00,  9.95it/s]\n"
     ]
    },
    {
     "name": "stdout",
     "output_type": "stream",
     "text": [
      "Epoch 80: Train Loss = 0.47782, Validation Loss = 0.47745, Train Acc = 0.74047, Validation Acc = 0.73174\n"
     ]
    },
    {
     "name": "stderr",
     "output_type": "stream",
     "text": [
      "Epoch 81/128: 100%|██████████| 55/55 [00:05<00:00,  9.94it/s]\n"
     ]
    },
    {
     "name": "stdout",
     "output_type": "stream",
     "text": [
      "Epoch 81: Train Loss = 0.47580, Validation Loss = 0.47643, Train Acc = 0.73620, Validation Acc = 0.73174\n"
     ]
    },
    {
     "name": "stderr",
     "output_type": "stream",
     "text": [
      "Epoch 82/128: 100%|██████████| 55/55 [00:05<00:00,  9.95it/s]\n"
     ]
    },
    {
     "name": "stdout",
     "output_type": "stream",
     "text": [
      "Epoch 82: Train Loss = 0.48452, Validation Loss = 0.45135, Train Acc = 0.73591, Validation Acc = 0.74900\n"
     ]
    },
    {
     "name": "stderr",
     "output_type": "stream",
     "text": [
      "Epoch 83/128: 100%|██████████| 55/55 [00:05<00:00,  9.94it/s]\n"
     ]
    },
    {
     "name": "stdout",
     "output_type": "stream",
     "text": [
      "Epoch 83: Train Loss = 0.48076, Validation Loss = 0.48079, Train Acc = 0.73791, Validation Acc = 0.72112\n"
     ]
    },
    {
     "name": "stderr",
     "output_type": "stream",
     "text": [
      "Epoch 84/128: 100%|██████████| 55/55 [00:05<00:00,  9.95it/s]\n"
     ]
    },
    {
     "name": "stdout",
     "output_type": "stream",
     "text": [
      "Epoch 84: Train Loss = 0.47521, Validation Loss = 0.46132, Train Acc = 0.74217, Validation Acc = 0.73971\n"
     ]
    },
    {
     "name": "stderr",
     "output_type": "stream",
     "text": [
      "Epoch 85/128: 100%|██████████| 55/55 [00:05<00:00,  9.89it/s]\n"
     ]
    },
    {
     "name": "stdout",
     "output_type": "stream",
     "text": [
      "Epoch 85: Train Loss = 0.47441, Validation Loss = 0.45051, Train Acc = 0.73677, Validation Acc = 0.74369\n"
     ]
    },
    {
     "name": "stderr",
     "output_type": "stream",
     "text": [
      "Epoch 86/128: 100%|██████████| 55/55 [00:05<00:00,  9.89it/s]\n"
     ]
    },
    {
     "name": "stdout",
     "output_type": "stream",
     "text": [
      "Epoch 86: Train Loss = 0.47339, Validation Loss = 0.44775, Train Acc = 0.74587, Validation Acc = 0.74635\n"
     ]
    },
    {
     "name": "stderr",
     "output_type": "stream",
     "text": [
      "Epoch 87/128: 100%|██████████| 55/55 [00:05<00:00,  9.89it/s]\n"
     ]
    },
    {
     "name": "stdout",
     "output_type": "stream",
     "text": [
      "Epoch 87: Train Loss = 0.47408, Validation Loss = 0.45684, Train Acc = 0.74018, Validation Acc = 0.74236\n"
     ]
    },
    {
     "name": "stderr",
     "output_type": "stream",
     "text": [
      "Epoch 88/128: 100%|██████████| 55/55 [00:05<00:00,  9.94it/s]\n"
     ]
    },
    {
     "name": "stdout",
     "output_type": "stream",
     "text": [
      "Epoch 88: Train Loss = 0.47219, Validation Loss = 0.45665, Train Acc = 0.74673, Validation Acc = 0.74369\n"
     ]
    },
    {
     "name": "stderr",
     "output_type": "stream",
     "text": [
      "Epoch 89/128: 100%|██████████| 55/55 [00:05<00:00,  9.87it/s]\n"
     ]
    },
    {
     "name": "stdout",
     "output_type": "stream",
     "text": [
      "Epoch 89: Train Loss = 0.46479, Validation Loss = 0.46545, Train Acc = 0.74274, Validation Acc = 0.72643\n"
     ]
    },
    {
     "name": "stderr",
     "output_type": "stream",
     "text": [
      "Epoch 90/128: 100%|██████████| 55/55 [00:05<00:00,  9.87it/s]\n"
     ]
    },
    {
     "name": "stdout",
     "output_type": "stream",
     "text": [
      "Epoch 90: Train Loss = 0.46691, Validation Loss = 0.46042, Train Acc = 0.74644, Validation Acc = 0.73572\n"
     ]
    },
    {
     "name": "stderr",
     "output_type": "stream",
     "text": [
      "Epoch 91/128: 100%|██████████| 55/55 [00:05<00:00,  9.83it/s]\n"
     ]
    },
    {
     "name": "stdout",
     "output_type": "stream",
     "text": [
      "Epoch 91: Train Loss = 0.47390, Validation Loss = 0.47032, Train Acc = 0.73534, Validation Acc = 0.73041\n"
     ]
    },
    {
     "name": "stderr",
     "output_type": "stream",
     "text": [
      "Epoch 92/128: 100%|██████████| 55/55 [00:05<00:00,  9.82it/s]\n"
     ]
    },
    {
     "name": "stdout",
     "output_type": "stream",
     "text": [
      "Epoch 92: Train Loss = 0.47417, Validation Loss = 0.45310, Train Acc = 0.73449, Validation Acc = 0.73705\n"
     ]
    },
    {
     "name": "stderr",
     "output_type": "stream",
     "text": [
      "Epoch 93/128: 100%|██████████| 55/55 [00:05<00:00,  9.84it/s]\n"
     ]
    },
    {
     "name": "stdout",
     "output_type": "stream",
     "text": [
      "Epoch 93: Train Loss = 0.48195, Validation Loss = 0.46965, Train Acc = 0.73164, Validation Acc = 0.73307\n"
     ]
    },
    {
     "name": "stderr",
     "output_type": "stream",
     "text": [
      "Epoch 94/128: 100%|██████████| 55/55 [00:05<00:00,  9.91it/s]\n"
     ]
    },
    {
     "name": "stdout",
     "output_type": "stream",
     "text": [
      "Epoch 94: Train Loss = 0.46991, Validation Loss = 0.46175, Train Acc = 0.74274, Validation Acc = 0.73705\n"
     ]
    },
    {
     "name": "stderr",
     "output_type": "stream",
     "text": [
      "Epoch 95/128: 100%|██████████| 55/55 [00:05<00:00,  9.91it/s]\n"
     ]
    },
    {
     "name": "stdout",
     "output_type": "stream",
     "text": [
      "Epoch 95: Train Loss = 0.46800, Validation Loss = 0.45621, Train Acc = 0.74758, Validation Acc = 0.74369\n"
     ]
    },
    {
     "name": "stderr",
     "output_type": "stream",
     "text": [
      "Epoch 96/128: 100%|██████████| 55/55 [00:05<00:00,  9.88it/s]\n"
     ]
    },
    {
     "name": "stdout",
     "output_type": "stream",
     "text": [
      "Epoch 96: Train Loss = 0.46575, Validation Loss = 0.44864, Train Acc = 0.74843, Validation Acc = 0.75033\n"
     ]
    },
    {
     "name": "stderr",
     "output_type": "stream",
     "text": [
      "Epoch 97/128: 100%|██████████| 55/55 [00:05<00:00,  9.89it/s]\n"
     ]
    },
    {
     "name": "stdout",
     "output_type": "stream",
     "text": [
      "Epoch 97: Train Loss = 0.46756, Validation Loss = 0.44043, Train Acc = 0.74644, Validation Acc = 0.75564\n"
     ]
    },
    {
     "name": "stderr",
     "output_type": "stream",
     "text": [
      "Epoch 98/128: 100%|██████████| 55/55 [00:05<00:00,  9.94it/s]\n"
     ]
    },
    {
     "name": "stdout",
     "output_type": "stream",
     "text": [
      "Epoch 98: Train Loss = 0.47565, Validation Loss = 0.45459, Train Acc = 0.74246, Validation Acc = 0.74104\n"
     ]
    },
    {
     "name": "stderr",
     "output_type": "stream",
     "text": [
      "Epoch 99/128: 100%|██████████| 55/55 [00:05<00:00,  9.95it/s]\n"
     ]
    },
    {
     "name": "stdout",
     "output_type": "stream",
     "text": [
      "Epoch 99: Train Loss = 0.47299, Validation Loss = 0.45139, Train Acc = 0.73478, Validation Acc = 0.74369\n"
     ]
    },
    {
     "name": "stderr",
     "output_type": "stream",
     "text": [
      "Epoch 100/128: 100%|██████████| 55/55 [00:05<00:00,  9.95it/s]\n"
     ]
    },
    {
     "name": "stdout",
     "output_type": "stream",
     "text": [
      "Epoch 100: Train Loss = 0.47241, Validation Loss = 0.44279, Train Acc = 0.74161, Validation Acc = 0.74635\n"
     ]
    },
    {
     "name": "stderr",
     "output_type": "stream",
     "text": [
      "Epoch 101/128: 100%|██████████| 55/55 [00:05<00:00,  9.95it/s]\n"
     ]
    },
    {
     "name": "stdout",
     "output_type": "stream",
     "text": [
      "Epoch 101: Train Loss = 0.47181, Validation Loss = 0.45076, Train Acc = 0.74787, Validation Acc = 0.74502\n"
     ]
    },
    {
     "name": "stderr",
     "output_type": "stream",
     "text": [
      "Epoch 102/128: 100%|██████████| 55/55 [00:05<00:00,  9.93it/s]\n"
     ]
    },
    {
     "name": "stdout",
     "output_type": "stream",
     "text": [
      "Epoch 102: Train Loss = 0.46699, Validation Loss = 0.45307, Train Acc = 0.74047, Validation Acc = 0.74104\n"
     ]
    },
    {
     "name": "stderr",
     "output_type": "stream",
     "text": [
      "Epoch 103/128: 100%|██████████| 55/55 [00:05<00:00,  9.96it/s]\n"
     ]
    },
    {
     "name": "stdout",
     "output_type": "stream",
     "text": [
      "Epoch 103: Train Loss = 0.46400, Validation Loss = 0.45531, Train Acc = 0.74530, Validation Acc = 0.73838\n"
     ]
    },
    {
     "name": "stderr",
     "output_type": "stream",
     "text": [
      "Epoch 104/128: 100%|██████████| 55/55 [00:05<00:00,  9.94it/s]\n"
     ]
    },
    {
     "name": "stdout",
     "output_type": "stream",
     "text": [
      "Epoch 104: Train Loss = 0.46937, Validation Loss = 0.44419, Train Acc = 0.74246, Validation Acc = 0.74502\n"
     ]
    },
    {
     "name": "stderr",
     "output_type": "stream",
     "text": [
      "Epoch 105/128: 100%|██████████| 55/55 [00:05<00:00,  9.94it/s]\n"
     ]
    },
    {
     "name": "stdout",
     "output_type": "stream",
     "text": [
      "Epoch 105: Train Loss = 0.46307, Validation Loss = 0.44273, Train Acc = 0.74843, Validation Acc = 0.74900\n"
     ]
    },
    {
     "name": "stderr",
     "output_type": "stream",
     "text": [
      "Epoch 106/128: 100%|██████████| 55/55 [00:05<00:00,  9.96it/s]\n"
     ]
    },
    {
     "name": "stdout",
     "output_type": "stream",
     "text": [
      "Epoch 106: Train Loss = 0.46789, Validation Loss = 0.45705, Train Acc = 0.74701, Validation Acc = 0.74104\n"
     ]
    },
    {
     "name": "stderr",
     "output_type": "stream",
     "text": [
      "Epoch 107/128: 100%|██████████| 55/55 [00:05<00:00,  9.95it/s]\n"
     ]
    },
    {
     "name": "stdout",
     "output_type": "stream",
     "text": [
      "Epoch 107: Train Loss = 0.46551, Validation Loss = 0.45142, Train Acc = 0.73990, Validation Acc = 0.74369\n"
     ]
    },
    {
     "name": "stderr",
     "output_type": "stream",
     "text": [
      "Epoch 108/128: 100%|██████████| 55/55 [00:05<00:00,  9.94it/s]\n"
     ]
    },
    {
     "name": "stdout",
     "output_type": "stream",
     "text": [
      "Epoch 108: Train Loss = 0.45935, Validation Loss = 0.46666, Train Acc = 0.74246, Validation Acc = 0.73838\n"
     ]
    },
    {
     "name": "stderr",
     "output_type": "stream",
     "text": [
      "Epoch 109/128: 100%|██████████| 55/55 [00:05<00:00,  9.95it/s]\n"
     ]
    },
    {
     "name": "stdout",
     "output_type": "stream",
     "text": [
      "Epoch 109: Train Loss = 0.46580, Validation Loss = 0.45530, Train Acc = 0.75100, Validation Acc = 0.74369\n"
     ]
    },
    {
     "name": "stderr",
     "output_type": "stream",
     "text": [
      "Epoch 110/128: 100%|██████████| 55/55 [00:05<00:00,  9.94it/s]\n"
     ]
    },
    {
     "name": "stdout",
     "output_type": "stream",
     "text": [
      "Epoch 110: Train Loss = 0.46630, Validation Loss = 0.44249, Train Acc = 0.73819, Validation Acc = 0.74768\n"
     ]
    },
    {
     "name": "stderr",
     "output_type": "stream",
     "text": [
      "Epoch 111/128: 100%|██████████| 55/55 [00:05<00:00,  9.88it/s]\n"
     ]
    },
    {
     "name": "stdout",
     "output_type": "stream",
     "text": [
      "Epoch 111: Train Loss = 0.46342, Validation Loss = 0.44971, Train Acc = 0.74587, Validation Acc = 0.74104\n"
     ]
    },
    {
     "name": "stderr",
     "output_type": "stream",
     "text": [
      "Epoch 112/128: 100%|██████████| 55/55 [00:05<00:00,  9.89it/s]\n"
     ]
    },
    {
     "name": "stdout",
     "output_type": "stream",
     "text": [
      "Epoch 112: Train Loss = 0.46249, Validation Loss = 0.43635, Train Acc = 0.74701, Validation Acc = 0.75432\n"
     ]
    },
    {
     "name": "stderr",
     "output_type": "stream",
     "text": [
      "Epoch 113/128: 100%|██████████| 55/55 [00:05<00:00,  9.95it/s]\n"
     ]
    },
    {
     "name": "stdout",
     "output_type": "stream",
     "text": [
      "Epoch 113: Train Loss = 0.46609, Validation Loss = 0.45518, Train Acc = 0.74644, Validation Acc = 0.73971\n"
     ]
    },
    {
     "name": "stderr",
     "output_type": "stream",
     "text": [
      "Epoch 114/128: 100%|██████████| 55/55 [00:05<00:00,  9.95it/s]\n"
     ]
    },
    {
     "name": "stdout",
     "output_type": "stream",
     "text": [
      "Epoch 114: Train Loss = 0.46593, Validation Loss = 0.44063, Train Acc = 0.74787, Validation Acc = 0.75033\n"
     ]
    },
    {
     "name": "stderr",
     "output_type": "stream",
     "text": [
      "Epoch 115/128: 100%|██████████| 55/55 [00:05<00:00,  9.94it/s]\n"
     ]
    },
    {
     "name": "stdout",
     "output_type": "stream",
     "text": [
      "Epoch 115: Train Loss = 0.46388, Validation Loss = 0.44703, Train Acc = 0.74530, Validation Acc = 0.74900\n"
     ]
    },
    {
     "name": "stderr",
     "output_type": "stream",
     "text": [
      "Epoch 116/128: 100%|██████████| 55/55 [00:05<00:00,  9.94it/s]\n"
     ]
    },
    {
     "name": "stdout",
     "output_type": "stream",
     "text": [
      "Epoch 116: Train Loss = 0.46198, Validation Loss = 0.44006, Train Acc = 0.75299, Validation Acc = 0.74768\n"
     ]
    },
    {
     "name": "stderr",
     "output_type": "stream",
     "text": [
      "Epoch 117/128: 100%|██████████| 55/55 [00:05<00:00,  9.96it/s]\n"
     ]
    },
    {
     "name": "stdout",
     "output_type": "stream",
     "text": [
      "Epoch 117: Train Loss = 0.45393, Validation Loss = 0.45099, Train Acc = 0.75640, Validation Acc = 0.74502\n"
     ]
    },
    {
     "name": "stderr",
     "output_type": "stream",
     "text": [
      "Epoch 118/128: 100%|██████████| 55/55 [00:05<00:00,  9.94it/s]\n"
     ]
    },
    {
     "name": "stdout",
     "output_type": "stream",
     "text": [
      "Epoch 118: Train Loss = 0.46331, Validation Loss = 0.45158, Train Acc = 0.75157, Validation Acc = 0.74236\n"
     ]
    },
    {
     "name": "stderr",
     "output_type": "stream",
     "text": [
      "Epoch 119/128: 100%|██████████| 55/55 [00:05<00:00,  9.95it/s]\n"
     ]
    },
    {
     "name": "stdout",
     "output_type": "stream",
     "text": [
      "Epoch 119: Train Loss = 0.45359, Validation Loss = 0.44274, Train Acc = 0.74872, Validation Acc = 0.74502\n"
     ]
    },
    {
     "name": "stderr",
     "output_type": "stream",
     "text": [
      "Epoch 120/128: 100%|██████████| 55/55 [00:05<00:00,  9.94it/s]\n"
     ]
    },
    {
     "name": "stdout",
     "output_type": "stream",
     "text": [
      "Epoch 120: Train Loss = 0.45464, Validation Loss = 0.44439, Train Acc = 0.74701, Validation Acc = 0.75033\n"
     ]
    },
    {
     "name": "stderr",
     "output_type": "stream",
     "text": [
      "Epoch 121/128: 100%|██████████| 55/55 [00:05<00:00,  9.88it/s]\n"
     ]
    },
    {
     "name": "stdout",
     "output_type": "stream",
     "text": [
      "Epoch 121: Train Loss = 0.46124, Validation Loss = 0.44885, Train Acc = 0.74815, Validation Acc = 0.74236\n"
     ]
    },
    {
     "name": "stderr",
     "output_type": "stream",
     "text": [
      "Epoch 122/128: 100%|██████████| 55/55 [00:05<00:00,  9.88it/s]\n"
     ]
    },
    {
     "name": "stdout",
     "output_type": "stream",
     "text": [
      "Epoch 122: Train Loss = 0.45587, Validation Loss = 0.43508, Train Acc = 0.75242, Validation Acc = 0.76228\n"
     ]
    },
    {
     "name": "stderr",
     "output_type": "stream",
     "text": [
      "Epoch 123/128: 100%|██████████| 55/55 [00:05<00:00,  9.93it/s]\n"
     ]
    },
    {
     "name": "stdout",
     "output_type": "stream",
     "text": [
      "Epoch 123: Train Loss = 0.45486, Validation Loss = 0.43234, Train Acc = 0.74872, Validation Acc = 0.75564\n"
     ]
    },
    {
     "name": "stderr",
     "output_type": "stream",
     "text": [
      "Epoch 124/128: 100%|██████████| 55/55 [00:05<00:00,  9.93it/s]\n"
     ]
    },
    {
     "name": "stdout",
     "output_type": "stream",
     "text": [
      "Epoch 124: Train Loss = 0.46398, Validation Loss = 0.47020, Train Acc = 0.74900, Validation Acc = 0.73307\n"
     ]
    },
    {
     "name": "stderr",
     "output_type": "stream",
     "text": [
      "Epoch 125/128: 100%|██████████| 55/55 [00:05<00:00,  9.87it/s]\n"
     ]
    },
    {
     "name": "stdout",
     "output_type": "stream",
     "text": [
      "Epoch 125: Train Loss = 0.46102, Validation Loss = 0.44566, Train Acc = 0.74843, Validation Acc = 0.74635\n"
     ]
    },
    {
     "name": "stderr",
     "output_type": "stream",
     "text": [
      "Epoch 126/128: 100%|██████████| 55/55 [00:05<00:00,  9.89it/s]\n"
     ]
    },
    {
     "name": "stdout",
     "output_type": "stream",
     "text": [
      "Epoch 126: Train Loss = 0.46057, Validation Loss = 0.44432, Train Acc = 0.75270, Validation Acc = 0.74236\n"
     ]
    },
    {
     "name": "stderr",
     "output_type": "stream",
     "text": [
      "Epoch 127/128: 100%|██████████| 55/55 [00:05<00:00,  9.91it/s]\n"
     ]
    },
    {
     "name": "stdout",
     "output_type": "stream",
     "text": [
      "Epoch 127: Train Loss = 0.46218, Validation Loss = 0.45260, Train Acc = 0.75213, Validation Acc = 0.73572\n"
     ]
    },
    {
     "name": "stderr",
     "output_type": "stream",
     "text": [
      "Epoch 128/128: 100%|██████████| 55/55 [00:05<00:00,  9.92it/s]\n"
     ]
    },
    {
     "name": "stdout",
     "output_type": "stream",
     "text": [
      "Epoch 128: Train Loss = 0.45752, Validation Loss = 0.42735, Train Acc = 0.75242, Validation Acc = 0.77291\n"
     ]
    },
    {
     "data": {
      "image/png": "iVBORw0KGgoAAAANSUhEUgAABL4AAAJwCAYAAACH0KjyAAAAOnRFWHRTb2Z0d2FyZQBNYXRwbG90bGliIHZlcnNpb24zLjEwLjAsIGh0dHBzOi8vbWF0cGxvdGxpYi5vcmcvlHJYcgAAAAlwSFlzAAAPYQAAD2EBqD+naQABAABJREFUeJzs3QeYY2XZPvA7ZXovO2V7ryy71KUXaSIoRal/BEEQCzYUy6di+VTUT1EUFBsKiIIooIh0XIosLGxll+29TO99JuV/Pe973pOTTDKTTM3M3L/rGtNPTjJLzLnneZ7XFQwGgyAiIiIiIiIiIhpn3KO9A0RERERERERERMOBwRcREREREREREY1LDL6IiIiIiIiIiGhcYvBFRERERERERETjEoMvIiIiIiIiIiIalxh8ERERERERERHRuMTgi4iIiIiIiIiIxiUGX0RERERERERENC4x+CIiIiIiIiIionGJwRcREREREREREY1LDL6IaFT98Y9/hMvlwttvvz3au0JEREREll/+8pfqO9qKFStGe1eIiAaFwRcRERERERGFeeihhzBz5kysXr0aO3fuHO3dISIaMAZfREREREREZNuzZw9ef/113HnnnZg0aZIKwZJRW1vbaO8CEY0BDL6IKOmtW7cO559/PnJzc5GdnY2zzjoLb7zxRth9enp68O1vfxvz5s1Deno6ioqKcMopp+D555+371NZWYnrr78eU6dORVpaGsrLy3HRRRdh7969o/CqiIiIiJKTBF0FBQW44IIL8KEPfShq8NXY2IjPf/7zqipMvlfJ96trr70WtbW19n06OzvxrW99C/Pnz1ffz+S716WXXopdu3ap21euXKnaKeXUSb6byfUyEsP4yEc+or4HymPf9773IScnB//v//0/ddurr76Kyy67DNOnT1f7Mm3aNLVvHR0dvfZ769atuPzyy1Wgl5GRgQULFuBrX/uauu0///mPet7HH3+81+P+/Oc/q9tWrVo1qPeWiEaedxSek4gobps3b8app56qQq8vfelLSElJwa9//WucccYZePnll+25E/Kl6o477sCNN96I448/Hs3NzWpu2Nq1a3HOOeeo+3zwgx9U2/v0pz+tvqRVV1erYGz//v3qMhERERHp4EsCqtTUVFx11VX41a9+hbfeegvHHXecur21tVV9P9uyZQtuuOEGHH300Srw+uc//4mDBw+iuLgYfr8fF154IV588UVceeWV+OxnP4uWlhb13WvTpk2YM2dOwvvl8/lw3nnnqT9u/vjHP0ZmZqa6/tFHH0V7ezs+8YlPqD9+SnvmL37xC7UvcpuxceNGtd/yffJjH/uY+v4nQdqTTz6J733ve+r7pYRm8vovueSSXu+J7POJJ5446PeXiEZYkIhoFP3hD38IykfRW2+9FfX2iy++OJiamhrctWuXfd3hw4eDOTk5wdNOO82+btmyZcELLrgg5vM0NDSo5/m///u/IX4FREREROPH22+/rb4zPf/88+pyIBAITp06NfjZz37Wvs/tt9+u7vPYY4/1erzcX9x3333qPnfeeWfM+/znP/9R95FTpz179qjr5Xuicd1116nrvvKVr/TaXnt7e6/r7rjjjqDL5Qru27fPvk6+O8p3SOd1zv0RX/3qV4NpaWnBxsZG+7rq6uqg1+sNfvOb34zyjhFRsmOrIxElLflL4XPPPYeLL74Ys2fPtq+XMvmrr74ar732mqrsEvn5+aqaa8eOHVG3JaXs8ldLKaVvaGgYsddARERENJZIZVNpaSnOPPNMdVna+6644go8/PDD6ruZ+Pvf/45ly5b1qooy9zf3kcovqbSPdZ+BkKquaN/znHO/pPrspJNOkiIPNTJD1NTU4JVXXlEVatISGWt/pF2zq6sLf/vb3+zrHnnkEVVtds011wx4v4lo9DD4IqKkJV9QpGxdZi9EWrRoEQKBAA4cOKAuf+c731GzJmSGxNKlS3HbbbepcnZD5j388Ic/xNNPP62+zJ122mn40Y9+pOZ+EREREZH+o6MEXBJ6yYB7Wc1RfmS0RFVVlWpbFNIeeMQRR/S5LbmPfIfzeoduuo5sS2aJRZKxFTIDrLCwUM0Bk/ldp59+urqtqalJne7evVud9rffCxcuVC2dzrlmcv6EE07A3Llzh+y1ENHIYfBFROOCBFnyBeu+++5TX2h+97vfqXkTcmp87nOfw/bt29UsMBmw+o1vfEMFaOYvgUREREQT2UsvvYSKigoVfsmCQeZHhsGLoV7dMVbll6ksiyR/yHS73b3uK/Ncn3rqKXz5y1/GE088oeaImcH48ofSREnVl8ySlRlh8v1SFlVitRfR2MXh9kSUtOSvdTK0dNu2bVFX5JEvPjKA1JC/8smqjfIjQ1clDJOh9zLw3pChpF/4whfUj7RFLl++HD/5yU/wpz/9acReFxEREVEykmCrpKQE99xzT6/bHnvsMbXa4b333qu+T8mA+r7Ifd5880218rYMk49GVo4UUrXvtG/fvrj3+Z133lF/2Lz//vtVYGU4V/YWZmxGf/stZBj/rbfeir/85S9qZUjZf2n3JKKxiRVfRJS0PB4Pzj33XPzjH/9Qy1obUmovS0rLij6y2qOoq6sLe6yUuUs5usxoENIyKUtqR34hk6WwzX2IiIiIJioJeCTckpUYP/ShD/X6ueWWW9SqjLJyo6yUvWHDBhWERZK5WkLuI7O27r777pj3mTFjhvq+J7O3nH75y1/Gvd/yeOc2zfm77rqr1x9U5Y+i0h0grZHR9seQ2WTnn3+++sOohIHvfe971XVENDax4ouIkoJ8CXnmmWd6XS8VW/IXOwm5PvnJT6rZDr/+9a9VWCUzuozFixerJaiPOeYYVfn19ttvq6Gk8iVNyF8CzzrrLFWqL/eV7ciXNQnR5K96RERERBOZBFoSbH3gAx+IervMuJLwSIIg+QOkfM+67LLL1LB4+f5VX1+vtiEVYTL4XqqvHnjgAVU5tXr1apx66qlq8PwLL7ygvtNddNFFyMvLU9v4xS9+odoe5Y+S//rXv1BdXR33fstMLnncF7/4RRw6dEj9UVQG60dbzOjnP/+5+k4p4zA+9rGPYdasWeqPq9ImuX79+rD7yv5L4Cf+93//N+H3k4iSyGgvK0lEE5ssUy0fRbF+Dhw4EFy7dm3wvPPOC2ZnZwczMzODZ555ZvD1118P2853v/vd4PHHHx/Mz88PZmRkBBcuXBj83ve+F+zu7la319bWBj/1qU+p67OysoJ5eXnBFStWBP/617+O0isnIiIiSh7vf//7g+np6cG2traY9/nIRz4STElJUd+r6urqgrfccktwypQpwdTU1ODUqVOD1113nbrNaG9vD37ta18Lzpo1Sz2urKws+KEPfSi4a9cu+z41NTXBD37wg+o7XkFBQfDmm28Obtq0SX0PlO+JhmxbvsNF8+677wbPPvts9V2xuLg4eNNNNwU3bNjQaxtCtn3JJZeo74zyehcsWBD8xje+0WubXV1dan/kO2NHR0fC7ycRJQ+X/M9oh29EREREREREycLn82Hy5Ml4//vfj9///vejvTtENAic8UVERERERETkIKtD1tTUhA3MJ6KxiRVfRERERERERIBaiXLjxo1qrpcMtF+7du1o7xIRDRIrvoiIiIiIiIgA/OpXv8InPvEJlJSUqOH8RDT2seKLiIiIiIiIiIjGJVZ8ERERERERERHRuMTgi4iIiIiIiIiIxiUvxoBAIIDDhw8jJycHLpdrtHeHiIiIxgCZ5tDS0qKWo3e7+be+ZMXveURERDSc3/PGRPAlX4amTZs22rtBREREY9CBAwcwderU0d4NioHf84iIiGg4v+eNieBL/gJoXlBubu5o7w4RERGNAc3NzSpQMd8jKDnxex4REREN5/e8MRF8mbJ3+TLEL0RERESUCLbPJTd+zyMiIqLh/J7HgRdERERERERERDQuMfgiIiIiIiIiIqJxicEXERERERERERGNS2NixhcREY2PJYd9Ph/8fv9o7wqNEx6PB16vlzO8JgB+ftBEkJKSoj7XiIhoaDH4IiKiYdfd3Y2Kigq0t7eP9q7QOJOZmYny8nKkpqaO9q7QMOHnB00UEuJPnToV2dnZo70rRETjCoMvIiIaVoFAAHv27FF/xZ48ebIKKFihQ0NRASSBSE1Njfr3NW/ePLjdnOAw3vDzgybSZ5p8nh08eFB9nrHyi4ho6DD4IiKiYSXhhBy8Tps2TVXnEA2VjIwM1Rq0b98+9e8sPT19tHeJhhg/P2gimTRpEvbu3Yuenh4GX0REQ4h/GiUiohHBahwaDvx3NTHw90wTAasZiYiGB79FEBERERERERHRuMTgi4iIiIiIiIiIxiUGX0RERCNg5syZ+NnPfjYk21q5cqVqiWlsbByS7RHRxPn8ICIimmg43J6IiCiGM844A8uXLx+SA8633noLWVlZQ7JfRJT8+PlBRESUHBh8ERERDWL5eb/fD6/XG9dqXUREBj8/wlfvTE1NHe3dICKicYqtjkRENOIHe+3dvlH5keeO10c+8hG8/PLLuOuuu1Rbofz88Y9/VKdPP/00jjnmGKSlpeG1117Drl27cNFFF6G0tBTZ2dk47rjj8MILL/TZqiTb+d3vfodLLrkEmZmZmDdvHv75z38O+H39+9//jiVLlqh9kuf6yU9+Enb7L3/5S/Uc6enpaj8/9KEP2bf97W9/w9KlS5GRkYGioiKcffbZaGtrG/C+EA0Xfn4M/vNDwraPfvSjmDVrlvpvfsGCBWo/I9133332Z0p5eTluueUW+zZps7755pvVPstnyhFHHIF//etf6rZvfetbqtLNSfZdXoPz/bn44ovxve99D5MnT1b7IB588EEce+yxyMnJQVlZGa6++mpUV1eHbWvz5s248MILkZubq+536qmnqvfwlVdeQUpKCiorK8Pu/7nPfU7dh4iIJi5WfBER0Yjq6PFj8e3Pjspzv/ud85CZGt//9cmB4Pbt29UB3Xe+8x37gEt85StfwY9//GPMnj0bBQUFOHDgAN73vvepgzg5SHzggQfw/ve/H9u2bcP06dNjPse3v/1t/OhHP8L//d//4Re/+AX+3//7f9i3bx8KCwsTel1r1qzB5Zdfrg44r7jiCrz++uv45Cc/qUIsOcB8++238ZnPfEYdVJ500kmor6/Hq6++qh5bUVGBq666Su2HHES3tLSo2xI5yCcaKfz8GPznRyAQwNSpU/Hoo4+qzwj5vPjYxz6mwi35HBG/+tWvcOutt+IHP/gBzj//fDQ1NeG///2v/Xi5Tj4r/vSnP2HOnDl499134fF4kIgXX3xRhVfPP/+8fV1PTw/+93//VwVhEnjJPshn2L///W91+6FDh3DaaaepNtKXXnpJPV72y+fzqevlPZXPudtuu83e3kMPPaTeJyIimrgYfBEREUWRl5enWm+kmkIqD8TWrVvVqRzInnPOOfZ95UBz2bJl9mU5cHv88cdVBYazSiKSHNBJ6CS+//3v4+c//zlWr16N9773vQnt65133omzzjoL3/jGN9Tl+fPnqwNROSCW59i/f7+aDyRVElIhMWPGDBx11FF28CUHjZdeeqm6Xkj1FxGNz88PqYqS0MyQyq9Vq1bhr3/9qx18ffe738UXvvAFfPazn7XvJ5VoQqrR5Hm2bNmiPmuEBE6Jks8kqVpztjjecMMN9nnZprwmed7W1lZVDXfPPfeo9/bhhx9Wr0OYfRBSyfaHP/zBDr6efPJJdHZ22q+LiIgmJgZfREQ0ojJSPKpyYrSeeyhIK46THJRJtdVTTz1lB0kdHR0qcOrLkUceGXYQKNULkW098ZADUGmVcjr55JNVe5G0NclBtoRaciApB8XyY1qk5IBbQjMJu8477zyce+65qg1SKlGIkg0/P4bm80MCJGlllOeQ55IZW6Y9UbZx+PBh9bkQzfr161XFmDNwGgj5zImc6yXVq/JebNiwAQ0NDaq6TMh+Ll68WD23tC2a0CtaGPj1r38db7zxBk444QTVXiqhFxcGICKa2Bh8ERHRiJLZNPG2CyWryIOoL37xi6pdR9qX5s6dq+bmSHgkB5N9iTx4k/fGHOgNJanyWrt2LVauXInnnnsOt99+uzq4lJXi8vPz1b5Lu5PcJi1TX/va1/Dmm2+qShCiZMLPj8F/fki1lDynzAE88cQT1eeDVIfKf/NCnr8v/d3udrt7tUpLy2F/74PMFZTwXX6kPVEG+kvgJZfNe9Hfc5eUlKg2Uan6ks8vmacmn3tERDSxcbg9ERFRDFKNIBVT/ZEZM1JpIFVUUsUgrU179+7FSFm0aJE9f8e5T1KRYebuyMpxMrReZt1s3LhR7Z/MyDEHzFIhJu1P69atU69bWq2IaPx9fsjzyaw/mQMoLc8StslweEOCMBlELzO4YlWaHTx4UM0wi0YCKxkw7wy/pFKrP9IKWldXp+aKSVXXwoULe1WwyXPLDMJoQZpx44034pFHHsFvfvMbNX9MPtuIiGhiY/BFREQUgxz8SRWEHITW1tbGrKaQFdUee+wxdXAnLTqyEtlwVG7FIrN45CBVZgPJwej999+Pu+++W1V1CFltTWblyP7J8GsZni37JwOk5fXJfCAZgC/VFfI6ampqVJhGROPv80OeT/57f/bZZ9XnhcwGlOpPJ6kIlYow+dzYsWOHqhiValBx+umnq0HyH/zgB1Wl2p49e1Rl1TPPPKNul8Hz8hkiIbsEatJWKbf3Rwb5S1goz7N7924140w+05xk5llzczOuvPJK9Rpk32SYvSwEYEiFmLR9ypyy66+/fojeNSIiGssmfPD1+q5avPdnr+CzD68b7V0hIqIkI8GRVEzJbBnTdhNruLzMxJIqCmmzkQOvo48+esT2U55LBlNLC5OsIietjDJAW6pIhLQzyoH1e97zHhVo3XvvvfjLX/6CJUuWqAPEV155Ra0qJxViMh9HDnhl1TYiGn+fHzfffLNazEJWgF2xYoWqspLqL6frrrtOzQj85S9/qT4nZGEMCZmMv//972rovAzXl9f3pS99ya5uk88YeZwEXjJDUAbhmxC+L/IeyUwuWW1StimVX9L+6SSrUEqlqsxFkwDumGOOwW9/+9uwtk9ptZTPPtmfa6+9dgjeMSIiGpC/XAX86hTg4BqMNldwDKxXLn/ZkRVcZCll+YI+lF54two3PvA2lk3Lxz8+xVJoIqKhJitqSUWAzFtJT08f7d2hCfTvazi/P9DQ6ev3xM8PGghZ3VGqzqRqbCzhv3ciGld+fjRQvwu4/mlgxklDvvlEvueN7emgQ8Bt1bwFAkmf/xERERERUQxy8PPOO+/gz3/+85gLvYiIxh2/tUiLJ22094StjjLQVwSSv/CNiIgmiI9//OPIzs6O+iO3ERHFMpE/Py666CKce+656nWec845o707REQTm69Ln3pTR3tPWPHlsYOv0d4TIiIiTeZzxZqJw5Y9IurLRP78WLly5WjvAhERGf6upKn4mvDBl9sEX0y+iIgoSZSUlKgfIqJE8fODiIiSgs9qdfSOfvA14Vsd7RlfbHUkIiIiIiIiIhq6ii8GX8lT8eVn8EVERERERERENDh+HxAM6POe0Z/xNeGDL49bB1/MvYiIiIiIiIiIhqjaS7Dia/RZuRf8nPFFRERERERERDQ0KzomyXB7Bl/2qo4MvoiIiIiIiIiIBsVvDbZ3uQHP6K+pyOCLqzoSEdEwmTlzJn72s5/Zl10uF5544omY99+7d6+6z/r16wf1vEO1nUT099qIKDET6fODiIjGacWXZ/SrvcToR29JMuOLuRcREQ23iooKFBQUDOk2P/KRj6CxsTHsgHjatGnquYqLi4f0uYho9PDzg4iIxlzw5R39wfZiwgdfVsEXV3UkIqJhV1ZWNiLP4/F4Ruy5iGhk8PNj5Pj9flX15nZP+OYYIqLBDbdPkoqvCf9pHlrVkcEXEdGIkM/b7rbR+Ungs/43v/kNJk+ejEDAWorZctFFF+GGG27Arl271PnS0lJkZ2fjuOOOwwsvvNDnNiNblVavXo2jjjoK6enpOPbYY7Fu3bpeB18f/ehHMWvWLGRkZGDBggW466677Nu/9a1v4f7778c//vEPtW35WblyZdRWpZdffhnHH3880tLSUF5ejq985Svw+Xz27WeccQY+85nP4Etf+hIKCwvVga9sf6DeeecdvOc971H7XVRUhI997GNobW21b5f9lP3JyspCfn4+Tj75ZOzbt0/dtmHDBpx55pnIyclBbm4ujjnmGLz99tsD3hcaR/j5MS4/P+68804sXbpUfR5IxdknP/nJsM8L8d///lc9T2Zmpqp8O++889DQ0KBuk/f5Rz/6EebOnav2cfr06fje976nbpPXJK9HKtsMeW1ynbxW8cc//lF9Dv3zn//E4sWL1Tb279+Pt956C+ecc46qfsvLy8Ppp5+OtWvXhu2XbPfmm29Wv0v5XRxxxBH417/+hba2NvX59be//S3s/vI7lNfZ0tIS9/tDRDTm+LqTZkVHMeErvsyML67qSEQ0Qnrage9PHp3n/p/DQGpWXHe97LLL8OlPfxr/+c9/cNZZZ6nr6uvr8cwzz+Df//63Oih73/vepw6u5CDpgQcewPvf/35s27ZNHXT1Rx5/4YUXqoOqP/3pT9izZw8++9nPht1HDuamTp2KRx99VIVHr7/+ugqQ5MDz8ssvxxe/+EVs2bIFzc3N+MMf/qAeIwedhw8fDtvOoUOH1L5KW5Ps59atW3HTTTepgzTnwakcBN9666148803sWrVKnV/CaRkHxMhB3xyUHriiSeqA8fq6mrceOONuOWWW9QBphwwX3zxxWof/vKXv6C7u1sdxMuBqPh//+//qQP6X/3qV6r6RA5SU1JSEtoHGqf4+TEuPz+ksurnP/+5Cul2796tgi8J0X75y1+q2+UzQN5HCQ0lvPN6veq9lXBPfPWrX8Vvf/tb/PSnP8Upp5yiWjVlPxPR3t6OH/7wh/jd736n3q+SkhK1L9dddx1+8YtfqD+S/+QnP1HvxY4dO1QwL+/x+eefr0Is+T3MmTMH7777rvrcknDryiuvVO/thz70Ift5zGV5PBHRuK/48jL4SrJVHUd7T4iIKJlIRYEc0Pz5z3+2D1zlL/fyl3+pRpIDtWXLltn3/9///V88/vjjqmJAAp7+yHbloOn3v/+9OoBcsmQJDh48iE984hP2fSTs+fa3v21floNCOaD861//qg5cpVJEKjm6urr6bE2Sg0eporj77rtVuLRw4UJ1cPvlL38Zt99+u93Oc+SRR+Kb3/ymOj9v3jx1/xdffDHh4EteW2dnpzpIloM/IduSA3s5sJTX1dTUpA7c5UBRLFq0yH68VFrcdtttaj/NvhCNJfz8SOzz43Of+1zYUP/vfve7+PjHP24HX1LNJVVt5rKQ1ywkdJIwTJ5PQiohnysSgCWip6dHbd/5e5Gq1chKPqkMkwo4+fySKj0J7SVAnD9/vrrP7Nmz7ftL4H/SSSepIE4CR/kjgASf/VX3ERGNeb7kanVk8GXN+OKqjkREIyQlU1dOjNZzJ0Aqj6SyQQ6GpCrjoYceUn/BlwM9qbiQaoennnpKHdRIFVNHR4cKbeIhB0pyoCgHrYZUSEW65557cN9996ntyvalOmr58uUJvQ55Ltm2qagSUokhr0EOlk2FieyPkzlQS5Q8nxw8mtDLPJ8cqEtFy2mnnaaqQaQqTA6Kzz77bHUgLs8npGpEDhgffPBBdZtUz5iAjCY4fn6My88PCYLuuOMOVaUlFWjyfkh4LlVY0tooFV/yORBr/yS8MwHjQKWmpvZ6DVVVVfj617+u2iXltUiFmeyT+T3JfklVnQm9Ikl7qAR0Ug0n7aFSFTZjxgz1GUhENK75u5NquD1nfNmrOjL4IiIaEXLwJO1Co/HjOHCLh1QoSXuLHJweOHAAr776qjqYFdImJBUa3//+99X1cgAkM2rkwHKoPPzww+p5ZE7Pc889p57j+uuvH9LncIpsJ5QD3cgZRUNF2n2k+kSqIR555BF14PjGG2+o2yQQ2Lx5My644AK89NJLauaOvNdE/PwYf58fMmdLqqckdPr73/+ONWvWqMBOmH2VyrRY+rpNmIo05zxfqe6Kth1nuCekgkzeN6kok1ZROS9tkPHslyEhvrR4m889+R1EPg8R0bjjS66KrwkffNkzvhh8ERFRBKmmuPTSS1WlhsyikuHQRx99tD1oWaqWLrnkEnXAKq1CZlByPKS1b+PGjaqqwTDBjyHPIcGQzLuRmVcyuFmGYkdWKZg5N309l4RMzgM/2bbMmJFqhaEmzycD6mXWl/P55ABU3kNDXpPM5pEDShkILe1bhgRhn//859UBu/wOzAwiorGCnx/xkaBLAjKZn3XCCSeo//Yj54xJKCZtk9FIW6UEULFunzRpkjqVyjrDObi/L/I6ZWi/zPWSyi2p3KutrQ3bL6l62759e8xtXHPNNWrhDplhJvO/TDsmEdG45mfFV1Jx2xVfo70nRESUjKRCQyo2pF3IVGuYg63HHntMHUBJyHP11VcnVB0l95e/+ksrlBwMydyXH//4x2H3keeQ1QyfffZZdWD1jW98Qw2Ld5J5OHIALC2EckAWrZJBDnyl4kSGbUsrkaziJrN4pKXQVEMMJXmf5KBfDvA2bdqkhlDLc3/4wx9WK5/JIG4JvORgWg4IJdySYdFygC3tWDLjSFqL5DY58JTX7JwBRjRW8POjfxLIyfPKAHkZJi8tzvfee2/YfeTzQvZd9kX2V/ZDFr+QfZbPGpk3JsPwZa6ghHsSAsr8M7N9mVEmlaTyOSO/DwnZ4iHvoeyPtFPK0H75HTqrvGSVR2lb/OAHP4jnn39efbY9/fTTahED57w3CUBlbuG55547LH9sICJKOj5WfCUVzvgiIqK+yHBjWelMDgzlYNO488471QGNVFRIS5PMqzLVHPGQwdJPPvkk3nnnHVWN8bWvfU0Nfne6+eab1QHTFVdcgRUrVqCurk4d+DnJga9UksjgZ6lskKAo0pQpU9SBsQxhltlbMjRa2p9kds1wkJk8crAtq9gdd9xxagUzmb8jw6fN7XLgKgeLUt0hK8196lOfUq9XVkOT13nttdeq22T2lwwJdw7pJhor+PnRP9mmvB+y/1L5KRVyMu/LST4LJCCXkFDmZsnMMQngZHVHIaHeF77wBTVsX0Jyec1mvpi0YErFnXzmSIWWPI8Mz4+HhGcNDQ3qdyPBvVR/yWqPTtKeKZ9zV111lWrLlgAusopO3i9pj5RVKYmIJgR/cq3q6Ao665aTlAy5zMvLUytA5ebmDum2q5s7cfz3X1QB2O47LhjSbRMREVQrjvwVXFYUcw5iJhruf1/D+f2Bhk5fvyd+ftB4IFVj0rotLZzSXhoL/70T0bjxxq+AZ74CLLkUuGx4xlUk8j1vwq/qaIZLSsGXZIAcNklERERERIMlK0DKbLEf/OAHqgKvr9CLiGhctjp6k6Pia8K3OppVHUXy174RERGNPGk9ktaqaD8y8JmIKJaJ/Pnxox/9CAsXLlSLF8icMiKiCTfc3pMcgf+Er/hy5F5qZUc3WPFFRETk9IEPfEDNCIpG5ucQEcUykT8/ZKC+/BARTTi+5Kr4Sjj4euWVV/B///d/aulhKd19/PHHcfHFF8e8v6xYI6uuyKo1XV1d6i878n8AMsQzmVZ1FAGWfBEREfWSk5OjfoiIEsXPDyKiCcg/xlsd29ra1Oor99xzT9xB2TnnnKNWg5Gw7Mwzz1Sr16xbtw7JwO2Y6ZXAKtJERJSgMbCWCo1B/Hc1MfD3TBMB/50T0bjhM62OY7TiS5YUl594/exnPwu7/P3vf18tPyxLMMvyy6PN4wy++H82RERDzrSyyJDfjIyM0d4dGmfk39VEaJmaqPj5QRNJd7c+UPR4PKO9K0RE46ria8RnfAUCAbS0tKCwsDDmfaQlUn6cy1QOF+cijgy+iIiGnnyBz8/PR3V1tbqcmZnJFXRpSCojJAyRf1fy74sHiuMTPz9oopBjpJqaGvVv3Oud8GOYiWjcVHylIhmM+Kfqj3/8Y7S2tuLyyy+PeZ877rgD3/72t0dkf9jqSEQ0/GRFK2EOXomGioQi5t8XjU/8/KCJwu12Y/r06Qx3iWjs80/giq8///nPKtCSVseSkpKY95Plfm+99dawiq9p06YNyz55ONyeiGjYyZf48vJy9dnf09Mz2rtD46gNjpVe4x8/P2iiSE1NVeEXEdG4WdXRM8Eqvh5++GHceOONePTRR3H22Wf3ed+0tDT1MxIcuRf8DL6IiIaVhBQMKohoIPj5QURENEb4u5Oq4mtE/qTwl7/8Bddff706veCCC5Bsf0U01cSs+CIiIiIiIiIiGgRf59he1VHmc+3cudO+vGfPHqxfv14Nq5eedGlTPHToEB544AG7vfG6667DXXfdhRUrVqCyslJdLyvz5OXlIRnInC+p9uKMLyIiIiIiIiKiIRhu700dmxVfb7/9No466ij1I2QWl5y//fbb1eWKigrs37/fvv9vfvMb+Hw+fOpTn1LzGczPZz/7WSQLj1XyxYovIiIiIiIiIqIhGG4/Viu+zjjjDLWEeCx//OMfwy6vXLkSyc60OvoDDL6IiIiIiIiIiAZf8ZUcwReXDXGs7MiCLyIiIiIiIiKiIaj4YvCVPGTGl+CqjkREREREREREQ1DxlSStjgy+VPClTznji4iIiIiIiIgmhIqNwIOXAofXDVPF1xgdbj8eua3kK8AZX0REREREREQ0EbzzV2DXi8Db9w3tdn3JNdyewVfYqo6jvSdERERERERERCOgs1mf1u4Y2u36zXB7VnwlDZeZ8cXki4iIiIiIiIgmgq6W4Qm+WPGVfDzWu8AZX0REREREREQ0IXS36tP2WqC9fmi26fcBQb8+z1Udk29VRwZfRERERERERDQhdFnB11BWfZnB9sLDVsckDL5Ge0+IiIiIhs8999yDmTNnIj09HStWrMDq1atj3veMM85Q4yAify644IKw+23ZsgUf+MAHkJeXh6ysLBx33HHYv3//CLwaIiIiGpRuq9VR1O0Y2jZHwYqv5OG23gXO+CIiIqLx6pFHHsGtt96Kb37zm1i7di2WLVuG8847D9XV1VHv/9hjj6GiosL+2bRpEzweDy677DL7Prt27cIpp5yChQsXYuXKldi4cSO+8Y1vqGCNiIiIxsiML1G7HUM62B4uwO1FMkiOvUiSVR2DbHUkIiKicerOO+/ETTfdhOuvv15dvvfee/HUU0/hvvvuw1e+8pVe9y8sLAy7/PDDDyMzMzMs+Pra176G973vffjRj35kXzdnzpxhfR1ERESUxK2OPqviy5suKwkiGbDiy9HqyIovIiIiGo+6u7uxZs0anH322fZ1brdbXV61alVc2/j973+PK6+8UrUzikAgoIKz+fPnq8qxkpIS1T75xBNP9Lmdrq4uNDc3h/0QERHRKA63H46KL29yzPcSDL7UFz/O+CIiIqLxq7a2Fn6/H6WlpWHXy+XKysp+Hy+zwKTV8cYbb7SvkxbJ1tZW/OAHP8B73/tePPfcc7jkkktw6aWX4uWXX465rTvuuEPNAzM/06ZNG+SrIyIiooT5ewBfZ+hyw1593VBVfHmSY76XYPClKr70KVd1JCIiIope7bV06VIcf/zx9nVS8SUuuugifP7zn8fy5ctVy+SFF16o2ihj+epXv4qmpib758CBAyPyGoiIiCjGfC9vBhDwAfV7MGSrOibJYHvB4CtsVUcGX0RERDT+FBcXq8H0VVVVYdfL5bKysj4f29bWpuZ7ffSjH+21Ta/Xi8WLF4ddv2jRoj5XdUxLS0Nubm7YDxEREY1Sm6MnDZi0YOjaHX1Wq6OHrY5JhTO+iIiIaDxLTU3FMcccgxdffDGsYksun3jiiX0+9tFHH1Vzua655ppe2zzuuOOwbdu2sOu3b9+OGTNmDPErICIiomEZbJ+WDRTP0+frdozLii+u6ihBpNXryIIvIiIiGq9uvfVWXHfddTj22GNVy+LPfvYzVc1lVnm89tprMWXKFDWDK7LN8eKLL0ZRUVGvbd5222244oorcNppp+HMM8/EM888gyeffBIrV64csddFREREg6j4SssBiucP3cqO9oyv5Kn4YvDFGV9EREQ0AUhAVVNTg9tvv10NtJeZXBJUmYH30p4oKz06STXXa6+9pgbXRyPD7GWel4Rln/nMZ7BgwQL8/e9/xymnnDIir4mIiIgGqMtaVTk1J1TxNSStjqz4SupVHdnqSEREROPZLbfcon6iiValJUFWsJ8/DN5www3qh4iIiMZoq2ORCb526FY4axzUgPg54yvJh9uP9p4QEREREREREY1Qq2OqBF9zALiAzkagrXbcVXwx+JIgkqs6EhEREREREdGEq/jKAVIygPzpQ9PuaA+3T0eyYPAluSZnfBERERERERHRRNHVEmp1FPaA+0EGXz62OiZ1qyNnfBERERERERHRuNfdEhpuL8yA+7qdQ1TxxVbHpOKxhtuz4IuIiIiIiIiIktnhxg74/IGhG24vhmplR1Z8JXerIyu+iIiIiIiIiChZPbOpAif94CXc/Z+dQzPcPi1naFsdWfGV3BVfnPFFRERERERERMnqr28fVKfPba4amhlfqREzvhr3Az2dg1/VkRVfyTnji8EXERERERER0Qjb+1/g0NrR3ouk19Htx3931qrz26pa1OXBD7fP0adZk4C0PCAYAOp3D3y7fqvVkRVfyRp8jfaeEBEREREREU0grTXAAxcBD17Cwdv9eG1nLbp8AXtU06bDTYNvdUy1Kr4kFymeq8/X7xr4dn1WtZiHwVdSsTodOeOLiIiIiIiIaCQdXgcEeoDOxlAVEkX14pbw9sYNBxqHYLh9Tui6jEJ92tk8+OH2XrY6Jumqjgy+iIiIiIiIiEZMxYbQ+Y6G0dyTpBYIBPHi1mp1/oTZOqBaN5jgqztiVUeRmqlPe9oHP9yeFV/J2erIii8iIiIiIiKiEVTJ4CseGw81oaalC9lpXtx82pwhqPhqCW91dJ43odhghtuz4iu5uO1VHUd7T4iIiIiIiIgmkIlQ8SVh0H9/DlRvHXSb42nzi3HMzAI1kutgQwdqW62gKRGBgKPiy9HqmJqlT7vbhmC4fTqSBYMvx4wvrupIRERERERENEIk6GrcH355PNr2b+D5bwAvfGvAm3hhi25zPGthKXLTUzBnUvbAq756HMGWM/hKsVodu9sHX/HFVsfk4rFXdWTwRURERERERDQiKjaGXx6vwVfzYX3aUjGghx9q7MCWimZVtHPmwhJ13bKp+ep0/UCCry6r2svlCa/MGopWR7vii62OScVlz/ga7T0hIiIiIiIimoBtjuM5+GqvG9TrM22OR08vQGGWDpSWTx9M8NUSGmxv5SFD1urIiq/k5LHeBVZ8EREREREREY2QSqviy50yQYKvxkG1OZ69uNS+brlV8SWtjrLiY0K6zWB7R5vjkK3qyIqvpF7VMeF/LEREREREREQ0uIqvaccPKhgaM8FXVxPg9yX00NYuH97YpR9/9iLd5igWlucg1etGc6cPe+vaBtbqmBYZfA3hqo6s+EouXNWRiIiIiIiIaARJ+FK7Q5+fdfo4r/iqD53vbErooRsPNKLbH8CU/Ax7oL1I8bhxxOTcgbU7dpvgK7S9RFsdO7r9+Mlz2/Ds5koEnd1zJvjyMvhKylUd/Wx1JCIiIiIiIhp+VZsBBIGccmDS/HEefFkVX6LDEYLFYV+9bjucV5ptzyc3lk8rGNjKjl261bHHk4W7XtiButauhFd1fPCNvfjFSztx84NrcPmvV2Hdfv27C/r1th7bWIOP/GE12roSq3AbDgy+HKs6hqWURERERERERDS8bY7ly4CMwnEefDnCrgRf434r+JpeaIVSDsum5Q2s4qtLB187moCfvrAdP35ue0SrY/8VX2/sDr2mt/Y24JJfvo6rfvMGWlr1Y+959QBWbqvBG7sdod8oYfAVtqojgy8iIiIiIiKiEQu+yo4EMgoGVA01JkiBTVjF19AFX0dZFV/vVjSjy+dPuNXxYLtHnb68rVoXAtmtjn3P+JLs5K29+nf16w8fg8uOmaoWh1y1uw7eYI+6fvmsUnz9gkVYVK7bMUeTd7R3IBl4OOOLiIiIiIiIaORUOiu+TPDVoIOiiJa+MU1megX9Aw++6mIHX9MKM1CYlYr6tm68e7gZR0233sc4h9sfbteR0OGmTuyqacVcs6pjPxVf2ypb0NLpQ1aqB2ctLMF5S8pw/cmz8NrOGmT8x6c6WH9y5fFAbjmSASu+HDO+Amx1JCIiIiIiIhpeMgC9ekvv4MvfDfT0P19qTHFWew2m4qsoM2r32vJp+b1aD+NtdWxFun3Vy9trQ62OMqerj9UnV+/Rr+mYmYXwenSstHhyLj52yky4TMjH4fZJuqojS76IiIiIiIiIhpeEXgGfDrzypuoWO3fKmJrz1dTeg9d21PafIzjneyX4+uQ5mjp6YlZ8ibMXlarTf6w/FPd2YbUytgUzkJFitTturwm1Ooqe2FVfq602xxWzrNlskSs6Ck8qkgWDL1XxxVZHIiIiIiIiohEfbC/H4/LjbHccA7795GZc8/s38dLW6mGr+DLVXsXZachMjT6p6oKl5Uj1uLG1sgVbKpoTrvj6yMkz1fk3d9ehM+AB3N4+2x1lFtjqPfo1HDczIviyVnRUWPGVnKs6stWRiIiIiIiIaASDL2OMBV9bKnV4tKe2bdiDr+mFGTHvk5eZgvcsLFHnH18XX9WXr9MKvoIZ+H8rpqM8Lx1dvgBW720AUsyA++gtp/J6a1u7kOp148ipeREb7rbOuEIBWhJg8MUZX0REREREREQjp3JjaEXHMRp8HWrQwVB9uwl7YjArVbrcsV/f63cDvz4dqN0RNfiaUeRoQYzikqOn2O2OsuKiTeZ0PXgp8PjHw+7f3tKoTtOy8jC1IBOnzZvUu90xxsqOq/fo1yOzxdKtNsleFV9S7ZVECxQw+HLM+Ar7B0JEREREREREQ0sKTsxg+7KlYzL4aunsQXOnHv5e39odX8VX/vTYr2/t/UDFeuCRa+wVF8X+el1NNi3GfC/jzAUlyM9MQVVzF1btclSYVW0Cdr0IbPhL2Ha725rU6fRyXSl22nwdfL0SFny19Rl89Zrv5az48iRPm6Ng8MUZX0REREREREQjo6VCVxNJK1zh7DEZfB1q7LDP91vxZYKvwjmxX19LlT6t2Qo8+VkdDoa1OvYdfEnbocz6Eo+tO9i7pVQ07oMRtKq55kwtU6enzC1WnXA7qlvR7bHaKmOsrvmmFXwdHzX46tSn3uQZbC8YfEkYyVUdiYiIiIiIiIZf7XZ9WjAT8FgrOY614KvBEXy19Rd8Wa2ORXOjv76eDqCrKdQOuelvwOrfRLQ69h18iUutdsdnNlWivdsX3lIqGnTw1eXzI8Wnq7kWzZxizwmT1kXR6EuJ2eoogZ/8SIZy9HTr9xWt1ZEVX8nHtJ5yxhcRERERERElnYAf44aZY1U8P/z6sVrx1RZnxZcdfDVK1U3o9pZKfepNB879rj7/7P/At+8NHG7sjKviS0gQJQFZe7cfz79bFbPi650DjciG3v9ppbrF0dnuWN0ZWtVRVnB0esuq9jpici6y0ryxWx1Z8ZW8rY5+Bl9ERERERESUTJ76AvDj+UBrDcZX8DUv/PqM/JEPvuS9vXMJ0FY7jBVfJvgybZ3BUIWXaK3Wp9mlwAmfBBZfDAR8wF8/gvxAI9K8bkzK7r+CyuVy4eLluoLrsbWHdFhaualXxdfbuyrgdengzZWW0yv4OtSu85FHXt+K5d95Hsd97wXc//pe9PgDfbc5ClZ8JS+PFXwx9yIiIiIiIqKksuN5oL0WqHoH46rVMWbFl15xcNhJi+HaB4Dmg8C+1xN66EFHxVdTR48KhfptdcwpB1Kze4d7rVbFV06Zbke76G713njbKvCLlF9gZkGavSBffy4+Sgdfr+6oQdWedwBfaD9NxdemPYdC15n9AbBsaj7yMlLQ5NOh1d7DNeq11bR04Zv/3Ixzf/oKXtyiK8mOn1UUfQfsii8GX0nb6shVHYmIiIiIiCipdDXr0x5rcPgYF6jRwdeXX+5AXatVITQarY4H3gT8OqhpOGRVoQ2g4ks0tvdEv6O0NHZYwVdmUfTXaAbbZ+sVFiFVWJc/iB5PBk7yvIvPuB+Je79mFWfhhNmFauG+p59/Vl/ptloSG/apzGPXQR20+VOyAHcoEpK5XVcdPx0drnR1+YxZmfj7J07E/158BIqyUrGntg3VLfr3ddzMKPO91Eat3yeDryQebs+SLyIiIiIiIkoWcoza2dznKntjyZ7D1XC36IqjZytzcM9/do1a8BXc/Yp9ftWaNX1XbfUx46vPdsfORiBobTejMHo7p6n4ytYrLColC/HUzP9RZy9oehjY+lTc+/aNCxerFRp9B9fpK2adpk8b9+GtPXVwW0Pr3Y42R+Mr5y/EtactVudXTE3HMTMK8eETZmDlbWfgljPnIj3FjXMWlyI/M8YML59pdeSMr6Sd8cXgi4iIiIiIiJJGdxsQtAbb+8Z2xddrO2rx5d88ps7XIxeNyMGf3tyHiqaOQQVf33nyXdz84NsJd3D5dv7HPp/RdhB3Pm+1YPajs8ev2v9EYZYOeOraunRFXldr9DbHtFw98D1aO6dV8fWXLd2odVTAPes6Gff53qsvPP5xoM4REvZhyeQ8XHviTCxx6dbGnvkX6Bu6W/H1v7yCLGuwvSst1Obo5ErLsu9v5KSn4IvnLcCW77wXv77mmNhPblXQseIrCZl+WefCCkRERERERERJ0eZoZlKNUc9trsR1f1iNsu4D6nL2lEU4fmYhun0B3P3STn0nEwpJZVucbZ3t3T7c9989eHZzFXZUt8S/Q51N8Fatty9Oc9Xg3pd34fWd/Q+5r2jS+5aR4sGcSTokamjrAR68GLjryFDY5Rxsb15blHCvrmq/Ol3bkIYHXt9rX7+vrh3f912NxuKj9b+DJz4R98u79Zy5WOrR2/p79WQErGqyzLaDWFjo6jXfK4y5XkLXKAP0+5w3Zld8MfhKOub3xlUdiYiIiIiIKGmYNscxHnxJOCUVWe8t068ntXQBvnCuHm7/yFsHsL+uHUjPA1yeUItgHHZVt4UFRXHbtwquYAAtwQx1cYanFsFgEJ97ZH2/qzSa+V5TCjLsiq/uml3A/lU66KpY3zv4kvleUYKv6uZO1FTo4KsmmI9H3j4Anz+g9uVAfTt88KLhffcC7hQ9k8y5SmMfcjsOIRvt6Ap68d3Vfmzp0KswLstuwq2nT9Z3itLqqKRk6tPuAbTW2hVfbHVM4lUdGXwRERERERFRkhgHFV8SeL1zsEmdP6XQCrSK52PF7CKcOq8YvkAQd724Q686F20GVh+cVV776npXKMW0R8/3etp/PAJwIyXYjeOLe9Tw9q8+trHPhx625ntNyZfgS1c2ZVe8EbpDrWNQvjXYvjM1H597eB021FkRTEcDAoEgbv3rBhQF9WvtzpiEquYuvLi1Wg3Lb+nyqevLp80FFpyvH7fuwfheX4V+DQdSZqG1x41t3Tr4+twxKcj3dPUdfKX2bnWMm2nHZcVX8s744qqORERERERElDQ6dWCk+IY++Prlyp14Yp0eNj9cdla3oq3bj6xUD3Jadusri3W11xfPXaBOH193EDslxEpwzteO6lA4szeRii8r+HolcCQ6M3Ub4A/fk6dOpW2ysT121ddBK/iarIKvFHW+tM4ZfG3vVfH1ysEAnlh/GE/t0I89cOggfvPqbqzaWYUi6HDzxCOXqNM/v7kf++r1aynNTUN6igc4+jq9vQ0Px9cGWrFBnRTPOw6pXjcqXaXqclFPBdDVMuBWx375WPGV/DO+mHsRERERERFpNduBtv5nHtEIBV8DqfiSdjUrBIm0rbIFP3pmG2772wa0WdVFTjJ0/vv/3hI2cH0g1h/QIdayKblw1VnzvIrm6uum5atVAuVY/KfP74gv+JL2T+s17agKVXypdsl4yL/pqnfU2VWBxXAVzFDnZ3lrUZabrs7vqW3rt9Vxqmp1lMqmIGY0r4kafPW01Oh968xASU4aAum6om373gP4wdNbVejldgUBlxvvP3Gpuu2VHTV4fZf+725GoVV9NedMIHeqbgHd+q/+X6P1/uTPPhbPf/40XPPeU/X1DftCA/hjDLcPVXxFeQ+qtwKt1bGf188ZX0k/44urOhIREREREUEf3P7yBOBPl472nkxsg211fPIzwK9PA7Y9E7NNsMcfxFt7HQPZLT98eit+88puPLBKrw44UOsP6PDu1NJO3QrnSQXyddgkbj1HV389vakCPal5/Qdff79Rv6Y3fx1R8RVnhdLeV9XJlsA0tHgLkDZpjr6+YR9mFmf2u61Dje2OVscUzHEdRp7f8f7V6nCvxx/AG5t022O7Nx9/unEFbrv4BHW50K23f8k8a6ZZVglmluTilLnFkFji3pV6Bcdphda8LbcHWH51fO2OsgETdpYvx4yiLOSW66ARjftCLYwxWx0zQ4sMODUfBn51IvDARf0Pt+eqjsnHY1d8MfgiIiIiIiJSB7lBP9CoV+GjMVjx1VKF4KbH1Fnfu//sczD8ql3WEHaLzJ96ZYeuOqqwWvsGav0BPdfruGzrOQrnAB6vffui8lzMnpSlqr5qfJl9B18Ne4Edz6qzwWf/B8UN68Nmb8kqkfG2Oa4KLMHcSdlwF8zU1zfuxaxiXe20pzZ29dghM+PLqvg6yb1Z31C+TJ+2HFbthF97/B10NumKr4tOOgLzS3OQllOsLi8tDOAXVx2FL5xoBX05uhXx6hXT1Wlzp67Am26CL3HUNbKuIrB7pX4fYmmpANpr9UIBpYv1dVZVm/rv2SwckJrTT6tjxIyvul1AMABUvxv7+e3h9gy+ko4sySk444uIiIiIiEgOjnrCT2n0V3VMdMbXhj/DJeGlbGb7yl4376oJBRuvRwRfmw432asb1gyi1bG924dtlfo1zPdU6CuLreojh5Pm6FUP93dYgUl77wo0Zd1D+tTlgSvgwz0pd2F2RhsyUz0qODvY0B538PV6YAkWlOWEQiGp+CrSwdfeGK2OkhlUNHbaFV9FWamh4GvRB1TllqjY9Q7++vZBFLh0Vd2MqdP0faxWTm9XI96/bDJSO3Qwhmw9Z0zaPouzQ6HRjCJH8CX7Ofv08PchGlPtNWkBkKJXrUTuFMDtBQI9dkVawq2OZoVKx3sYs+KLrY7Ju6ojcy8iIiIiIiI5ODLBV+wh35TErY7SzbTuT/bF7I5Dvap0ZOi8M+hqag+FnK9stwIZCb5aBh58bTrUrI6zZUh7btuesMH2TifP0ZVQ25u9sSu+An5gvRX4vP9naMmZjTJXA36ecjdmFuigZV/EnC8Jqh5bezD0GpoOAXU71UqObwYWqSosu+1StTpm9dnqWN3SqVah9LpdKM1NR0GmFye631W3BWedJtPk9ab26zCs1GvtT6YO9sJmmMnvqLVKX87WgVmKx43Lj51qP5/d6mgc9WF9Ku+DvB99rOhoV6CZVsk8K3yr2tz3cPuUzNB/+87gO57gy6744nD75J3xxeSLiIiIiIgodAArpxwJkxwVX/Gs5mfsX6UCnrZgOjYHZvQKK+TYd3etDr5y0rzqV/zGnlCw8cr22iEJvsxg++XT8oHaHTGDrxNm62BoV2tq7OBr10tA8yEdHh15BR6d8wO0BtNxRPcGfMb1cNTA6u9rD+LWv27AFx/dEDbfa7tnLlqQiQVl2aGKr+aDmFWgn39PTRuCUf7dm8H2ZXnpamRSUcs25Lva0BLMQEvRUjv48lVtU6cF1oqNvYIvqcST1RVbKvXlHF3xJa46fjqkNkdyipnOii+x8EJABuTL+7DrP31XfJUdGX59gfU6u1v6mfHlCMScVV/OKjz5txTtc4EVX2NhVUd+oBMREREREYUqPYKxK0tohGd8xblqoVj7gDp50n8CXggcrc4Hd79s33y4qQOdPQGkeFy4cNlkdd3rO3XY1dzZg7X7Q8FTXVv3gItENliD7ZeFBV86HHIqyErF4vJcNAazYgdf1mvCkVeqGVJvthThSz0fU1ed1/gIpqCmV8XXm7t1WPPqjhpUNXcC+/6rLr/cvVCdqoqv7FLAm67mV83wNqjQqaXLp153zPle+bqFMP3Aa/p5AgvR0BGwQz1v4064EUBWoCU8+JLWQ29G6DXaFV96xpep8vrl1Ufjp1csR5Gj7VE/Ph1YdqX1ftzf+z3y+4CDq3tXfAnHggJ9tjpKtZY7JUrw5aj4kv2u0eFe1FUdWfGVfNxmxhdzLyIiIiIiovAWR7Y7Jkero6yIGG9YtvkJdfYR/5lqiLsISPBlFXuYNkeZaXXavOKwOV+v76xT7XzTCjPsdsGG9u5BDbY/ptQDtFrVTUW9gy8z56sJ2dGDr9YaYNu/9fmjdbvfjqpW/DtwApqLj4ILQZzk2Yx9ERVfGw7q55fc7p/rD9thzTv+GchK9egAS/KAfD1UPq31ACbnZcSc83WwITz4cg7KV0GZ9dpyW/ciD61qv8IqvZzn5TVGqfgS5y8tx0XLp0R/U02747angbZQZZ5+U54D2mqAzGJg6nHRK76MWMPtY63s6Ay+YrU7+qx/J6z4Sj4e612IVspIREREREQ04Thn+zD4SpJWxzgrvjb9XQ3Cb8udi3XBuVgbmIfOYAo87TV28LOrRoc6c0uyVZuhZD87qlvVDKtXduj5XmctLEVhVuqAB9zLtqRCSrZ9RFp1aIh7em7U+588txiNQRN8WSsPGhsfBgI+YPLRQOkSdPn8dluje84Z6lSGzO+rD71HUrnmHOAvs77s1x+cjPllOfZCd+FzvnTosydK8OVc0VH9N7LvdXtQfoMEX1Y1W0nPARS7rN9deh7gsSqoIoMvu+IrPPjqU9kRwOSj9By+DbrF07buQX0qVWGRVVf5cVZ8xVrZscNqdSyyFifYE6og7BXOclXH5GP+sbPVkYiIiIiIKDL44sqOydHqGGfFl9USuG3yxXK0i26k4K3AgrAqHRMIzZmUbbcZilW76uzB9qfNL8Ykq9VuIHO+TJvjvJJsZLWYwfbRq73EcbMK0eLSgUvAOU9KjtPXWoHO0dfql1Hbpqq4ctK9yFpwph18HahvUxVq4p2DTeqhskqitHRWVR4COhsRhAt7gmVYIG2OkdVQjY6VHaMMuD/krPg6tBboaUOzOw9bg9N0xVf+dAQ9aUiFD0tdu8PbHHsFX/W9htvHzXof1O/a5BhSPbb92fDbnQpmhl+ONeMr1sqOpuJrySX6dO9rvdugTUjuYatj0q7q6A+M9p4QERERERElAbY6JmGrYxyrOla+Axxep2Y0vZlzjrpKhrCbdkdTpbNLtToGcUbnCyoMkzZD8dAb+1U7X6rHrSrBJuXo4Kt2ABVfG6w2x2VTZb7X9piD7Y3sNC+mTNbzxtw9raHA9cBqoHabXm3wiA/abY4mVHNNW6HCplJXI6YHDuGwVZVl2ixPmF2IMxeUYI7rsLpc5y1BJ9L0fC/DUfE1y1rZcZ+Eg2//IbRKosxGc1Z8WSHi7qyjEIQb9RJ8uT3wF8xW1x/r2R4j+MrXp/V7Qv9tOWZ8xUXeB5kVJu/Lwbf0dev/rIfmT1sBTLKCzr4qvlL7qPgyKzt2R2l1nHOWbpPsbAQqQ+9N2HB7Vnwl74wvtjoSERERERFJyQ1bHUddIKBX/jN64gi+Nj2mTxecj13teg7VcTMLVCuevaphwK8qvq7zPIdj1/0P8LcbcNIcPedr9V5daXXcrAJkpnpRnJ064IovEzwtn+4MvmJXfIllcx3hjGl3XGcNtV98sd0mKW2ZYl5Jjhr47pq+Ql0+0f0u9lvtjvbzT8vHpUdPwWx3hbq8K6DDtYVl0Su+TPA1veJp4F+fA574pJ0XhA23twblHy7Qs7RUq6MUXmXryqoTvdYw/4zC6BVfNVv1qazSKEPrEyHtk0suDq/6Wven8BlgkbKKgRSrkqvfiq8orY6mCk+q02aeHH3OFyu+kpfbehdMSSQREREREdGExlbH0dctoVcwPFTob4VNE0QsOB8VTTqkec/CErwTnIXmYIZqnWzZuxbT2zbh614rKGmrwXEzcuF1W/OupM1x3iR1aiq+Eg2+ZBVIM1heV3zFXtHR6cS5JWgK6mqjoLQCSvC36fFe7Xs7q3UgOK/UCmhmna5OTnZvUi2KElI5g68zF5ZgcYoOvjZ36+oqmfHVqw1QzfjS4dBprU/r66o3q5a/xvYetHfr939yXjpQsUGdby3WqyeaVSCrUvWg/FnBA323OlZvjTrYPm4m4JKwU4ba1+/SgZVpRYzkcoUCPhk+75w71l+ro7TZmhBMXo/1fvcKvljxlfwVX5zxRURERERExFbH5Jrv5Yqv6kvuf3itPj/rNFQ06ZlgR0zJQ0F2Jt4MLFKX29b+Fb9MvQsprlCIlh1sx7JpVgsegNMXDC742l3bhpZOH9JT3FhQkgHU7+631VEcPaPAXtnxUMVhHer0tOnVEqefYN/PbnU07YpWECMVX/tqW3G4qVPts7R5yutP83qwIqfeHmxflJWqZn/1agNsq8a0rCBmuqpwgmuzvi4YAKo229Ve8rj09go9o8vtBSYtCqv42oOI1RgzY1R8mSq4RNscjRknAYVz9PtjVaXhiEv7HlqfP6P/aq9oqzqawfYuj642m3WavrxvVWglR+E3wVeCFWzDjMGX1fMsWPBFRERERETEVR2TakVHZ8WQWTUvGllhUEKawjkI5k5BRaO+7+S8DCwqz7HnfJVt+g3KXA045J2mK39EV7M956s0N80e/G4HXwnO+DLzvY6YnIeU5gP635DMpMqd2ufj0lM86EnVAdz2PftDqxQedY2uWJIiJF/AXnFRZnzpF3kUuj1ZyHe1IVCx0X5+aWeUbYqZ0DO+dgfLw+d7mblbEuhI5tN6EDdk6TZGW8UGNfvMnu9lVXtJ6JWXmx1W8bWlJyLIilXxZUKigQZf8n4cbVV9tdfq06OiDLV3MhVffYVjYRVfreHzveS1yPOWLNbnJXQ7tCb0OBOCsdUx+ZiKTlZ8ERERERERDSD42vE88OzXAL+v//s2VwD/vg2o3DS4fZwog+0llDEBlanAica0nc06DU0dPejo0RVdZXnpWFSeG5rzJe15wXQ8Pu+HoUHrnc249OipanbVR0+ZBZcVMpmqqNqWxMJPM2dLtSKaNseiuaE5Q33wZuugqGfP63pwu1RVLbvKvn1fXRt8gSCyUj0ol5ZD4fGiuVTP2iqpXR3W5qj4upDWul+d3RmYjAXONsfIaqj63bgw+B91tjF7riP40q9pSn56aKh7+TJVPaYeZgVf69r0vLR+gy8jZ4DBl1h2ta7CEpMWAlOP7fv++dZrlOH0fbFnfLWFz/cy1Wvye5x5au92R7vii62OSdvqyBlfREREREREA2h1fO7rwKq7gYOr+7/vxoeB1b8B/vRBoLV6cPs5EVod03KBlIzQrCUHWW3xvT97BT97YXtY8HXYqvaSUEYqnqTyaVtwKmrduoXxyz0fQ970JXaVk4RsMtT9v195Dz522hx7+wOt+DKrQE7KSY97sL2RmaeDo5Mb/6mvmP/esHDIDLafW5pjB3TCZbU7LuhYh/X7rfliJviq3w1XMIBubzbaUovwvqXlsauh3vo9Cv11qA9mY2XZdfq6ig14elOlOiutk3bFV/kyFFrBl2l13NYAVAQL4w++sgc440vI+7LoQn3+2BvsqriYyo7Qp3lT46z4au9d8WXMPEWfOv+bZ8XXWFjVcbT3hIiIiIiIaAyu6tiiB4ejy7EKXCxmpcLWSrWiYFxVYhO51THdGXyFV3w9s6kSWytb8M/XNwJVmxzzvXRbXrlUJ6mWv1wE4cZ1ga/j0+nfx1OBEzBnUrYO1cLmiYWbZFV8STVTjz8Q966bmWAqOKvbEdd8LyM9Vwdf2WjvNdQ+bL6XaXO05C4+S50egy3YsL9GnT/KBF9W+JZaMh/vfud8HD8rYu6Wsxpq14vq5DH/qVjdPVudD1ZvwcZ9NWoBgA8dPdURfB1pB18tXT5VaVfd0oVdgfIEKr4GEXyJ9/8cuOoR4Lib+r/vzFOBqx8F3n9X3/dLyYzR6uh436TdUZiKPsGKr+TFii8iIiIiIqIBruooVR4mODEHvn3e33Gfva8CL357oHs5MVodnRVfETO+Vu/RLWiLOq0gpvQIIKtYDXcX5Xn6cXNLslVos7lzEp5s1CsYzpHgSEI1Z8gWoSAz1Z6JXdcaf7ujqRBTwVmcKzoaWVbFl/BnlQFzdKBl7DArOkYEXynlS9GIHGS7OrEkuAvZaV7MlnBP1MYRvpmVHS2P+M/EmsYcID0frkAP5rsO4uxFpShxN1tBr0u937npKfZ79M5B/d/BQc+U/ofbGwOd8WVvLx9Y8N642kgh2cf8c/tvr4zZ6ugI8cx72bhfL7ogK44GrBDbtOYmCQZfVnuq4IwvIiIiIiKiBFsdzWDtyFArFhPelC/Tp6//HHjXamujEBMmSjuiDIaPqPgKBoN28HWS21qB0Fptr8JagXCyNQMr1etW4ZeRk+ZFiVRjmYovE7JFcLtd9gwr076YWMVXasKtjm5HUFQ5+1I1v8tpp2l1jAi+5MB+e8Zy+/04cmqeHUjFFb6Zii95O0qPxo7gVOytb4e/dKm6bol7D65eMR2o2BjaVlq2eo8KMlPUVesPNKjTxsxZI1fxNRxSsyKCryitjlnFKhQEgkDdrvD/9r1sdUzaii8GX0RERERERAlWfLXptrJ+Vx2MvM/ii4ATb9Hnn/gk0HgAI6p+D/DQZcDulUj64CvKjC9ZZbCyWV8+MTL4MhVf+dbjrBUOjdkl2Xo+lpnxFaPVMWzOlxVm9UcCOROSlXraQ6GJDLePhyMYWl9kza+yBAJB7K3TYYxdzeVQWXS8Oj3ZvTk030vY4VtfFV+h4Mt73HWqQq7LF8AGn64EOyHjEE6ZWwxUrNd3KjvSvr9pd1xnzRbrzjdz0uQ9duyHCZXcOihTskuQdFIzw4PWaMGX/PsxQaK0szqrPVnxlXxMCsxORyIiIhrP7rnnHsycORPp6elYsWIFVq+OPYT6jDPOUAdFkT8XXHBB1Pt//OMfV7f/7Gc/G8ZXQERJuapjWPCVQKujNx04+1u6Pa+7Bdj1EkbU1qeAHc8Br/wYY6bV0VHx9aZV7VWOOsx2VyIgh/czTlLXHbYqvuxVD6Udstyq7pI2x0lWRY/d6jh0wVdrlw+dPXoeWHG3XkkRuVNDVUT9sQawP+8/Blu6wldIrGjuVNuWUGpaQSjUMzqm6uDvOPdWHF9s/buVApd4Kr6k1VHaDrNK4Fn6QUwr1OHPwwd0cHVS5kFV3eVc0TEy+DKrSQbKluoqPQnaIirWVGBkwj25j6m6Syap2eEzvjqsVseMiLZNEyTK+2sG2wuPI9hLAgy+VMWXPuWMLyIiIhqvHnnkEdx666345je/ibVr12LZsmU477zzUF0dfUW1xx57DBUVFfbPpk2b4PF4cNlll/W67+OPP4433ngDkydPHoFXQkRJ1+rYNsBWRxmALQfIJoyIp1psKJk2rgNv6hlFo6SutQtf+tsGvLXXChf6Gm7veI9W79FVOFdO2qNOt7jm2hVcFREzvsTCsODLCjbSQqs6xmIG3Me7sqMJyGTGVnrjroTaHJWypXj4hCfw6Z5bsL8+fJj/nhr9O5telAmvp3ecUTBtIdYE5sHrCuDYxmf1la1VOlh1uYFCPaw+Kvn3+PHX9E9aDmYW6eBrTc90dVravlPPsXIMto8MvuqslR0nlU4BPvUGcMMz0Z/LBF8ya6u/lRiTtdXR+XuVijpT8SXVXkn2mhh8sdWRiIiIJoA777wTN910E66//nosXrwY9957LzIzM3HfffdFvX9hYSHKysrsn+eff17dPzL4OnToED796U/joYceQkpKcv2Fl4iGalXHBFod4xpu3x2q+HK2RY108NXTFgr29r+B0fLM5kr89e2D+NEzW/uY8WW9V46A7q29ep7UJfk6XFrZsxBN7T2qHbDSDr4cFV+OVkd7PlY/w+1FcYIVX+Z+xdnO+V7xreho5E9diE6kYV9E8LW7VlcgzS7u3eYoFk/Oxd8CZ6rzOe/+xar22h6q6OpvtUFpO7QGv88s1uHPnmA5ulzpcPnagUNrgIa9MVsdjRmFWfr5IgfbRwZf2Uk43ytsVcf22MPtRdG83hVf5t9qEmHw5Qy+WPFFRERE41B3dzfWrFmDs88+277O7Xary6tWrYprG7///e9x5ZVXIisr1KoSCATw4Q9/GLfddhuWLFkS13a6urrQ3Nwc9kNEE63VsTP8ANmEEfE8dig5q7z2vILR0tiu3+sNB5rQ2eOP0eqYGbbP1c2d2FPbBpcriKmNb6nrXg8sweaKJlV11O0PqKKbMkfwJS2LU/Iz1PWLTfVXPDO+Eqz4qrVWf1QtknU7E6/4koouCY6kGC8y+LIqvuxWzQhTCzJx7U23IpCSBdTvAva9Hgq+TEgTp9lW8CUtpF3Fi/WV6x7Up/nTw0Ktwszw4Gu61SYZk7PiKxmlRrQ62hVffbU6diblYHvB4IszvoiIiGicq62thd/vR2lp+BdsuVxZWdnv42UWmLQ63njjjWHX//CHP4TX68VnPvOZuPfljjvuQF5env0zbdq0BF4JESV/q2NnAjO+0sIDsBFvdWwfvuBr7QPAb98DNFozrvrQ1KGDLwmrNlgzonq3Ooa/R6uttsizJrXC3XIYPUjBmsB8vHu4GRVNHXZgleJoB5Q5jPffcDweunGFPb+qv1Ud1XYSrvjqDD0uwRUdjWmFukWzvq0bLZ2hEHZ3rQ6+ZlmhVDSLZpTDfcSloaAqnvleUSyerEPB2ZOykDPzGH3lpsd6VXtFVnxJvlCe30/Vk13xlazBV1ao1VH+OzGz5SIrvgpnAW6vrp5s3JeUg+0Fgy9rtpzws9WRiIiIKGq119KlS3H88Xq1LCEVZHfddRf++Mc/6pXB4vTVr34VTU1N9s+BAyO8ihsRDfOqjv2EZElV8eUIvg6v7bPqKWFrH9Rtcavu6feuzVbwJVZbA+tjV3y1h93vzEn6Pg1Zs1Vr4ObDzTjc2HtFR2eL40lzHAPj42h1NMFXbbzBl1UZVpbp1itnDqDVMSc9xQ6TnHO+dte0xlzRMczR1+nTzU/o38MA9uGYGQX43bXH4v7rj4dr8vLwCqhy67Kl0KqKE1JV5wwco5p6rD6dfgKSUmpmqOW51foDmaxEmRZql1VkRl/BLH2+cpM+ZcVXcld8ybKrRERERONNcXGxGkxfVVUVdr1clvldfWlra8PDDz+Mj370o2HXv/rqq2ow/vTp01XVl/zs27cPX/jCF9TKkbGkpaUhNzc37IeIxlOr4xiq+HIGX8EAsC++1u+4dFqVWxsfAXo646r4clZyxZ7x1RkWfC0p0sey3ixdQbT5cJNd8TXZ0eYYk2l1jKfiK8Hh9rO9NUDQr9vmcsqRKNMuaNodpQ30kLVaZV8VX3awNGkh4OsADr41oIovcfbiUl0dF1Hh5RxsH9nq2G+bozjuo8CX9wFHfBBJKcXx/jYeCFV7RftDl3lfq97Rp6z4Su4ZX1zVkYiIiMaj1NRUHHPMMXjxxRfD5nPJ5RNPPLHPxz766KNqLtc111wTdr3M9tq4cSPWr19v/8iqjjLv69lnrZW0iGjsGpFVHZOk4is9X5/ueXnotm1Cq44GYOu/4g6+1uxrgM8f0MGjvX95oVUde9rR2N6NbVUt6uLcPH0Mm5mjg69dNW3Ya7UDOld0jMm0OvZR7VZsVTO1dPrCZ5D1M+NrRvCQtYF5A1rlzwRIpuJrX127mlWfk+7Vg/P7Is939LURLySxiq8wEqJ5HM9Zvixmq6PdRtqfDOvfXTLypoZeb5MJvmIM6jfBFyu+xsqqjqO9J0RERETD49Zbb8Vvf/tb3H///diyZQs+8YlPqGouWeVRXHvttaoNMVqb48UXX4yiovC5HnL5iCOOCPuRVR2lgmzBggUj9rqIaJRXdZQkIuFVHWNVfHWNzoyveecM/ZyvDsesLjMQ3SkQsM82O2ZYtXf7VbsiunSwpUh7mQm+fJ14e2+DettlwHs2dAVUWnaeCl+kmGPldv37mNzfnClnq6OEkTHaVHPTvUj1uuOe82XuU+47MKCh8pHBlwRekW2OcbXYH3mlbs8zM7Ui51MlQsKcksWhuVw5ZTGDrxlFcQZfyS4ls3fFVzQmUGyw2lpZ8ZWcrE5HhSs7EhER0Xh0xRVX4Mc//jFuv/12LF++XFVoPfPMM/bA+/3796OioiLsMdu2bcNrr73Wq82RiCaAeFsdJaBxtijG1eoYq+Krc3RWdZx3nj6t2hRevTbg7XaGB4C7VwIN1uBvUbcLuOtI4G83hFV8FVnhiWpjNK2S0nImc5TsVsd2ux3y+FmF9mwuV1oulkzODQuKEqr46qPdUUKmRFZ2NMFXYce+QVVaTS8Kr/gyg+3Naov9yioCFr4vtA8DqDqL2t4Y2fYIoCArJbFWx7Eg1ZqjZhZoiFXxFRlsmv+ekwiDL8eMLxHgnC8iIiIap2655RY1h0taF998802sWLHCvm3lypVqUL2TVG7JDNRzzrGqIfqxd+9efO5znxvy/SaiJG51dFZ7xd3qaN3HtFKNVsWXaSUsmBGq5tn76uC3a0IruIBZp+uz6x8KVZn99VrdPvbuP1TA2NzhUzedtahEnb6pgi/Hio7CHm7fac/3UsGXqQxLy8ViK/gy+l1ZULg9QGpOv+2O8Q64l0KSWiscy27ZPeDZWtFmfO2uSTD4Eqd8XldoLb0Mg7bsal31dNT/63VTmteDvIyUcRZ8ZUUEX7EqviJ+v86W0CTB4MtKsA2u7EhERERERBNevKs6RlZIDWjG1ygPt5c2QhNQDUW7o2lzlNlcZs7Uuj8BAT/wr8/ryjIR8CFQt8dudTx7ka7AfXtfPQIdTeEVWSn6PerubMOmQ/q242Y6g68cLC4PD74mx1PxpfYz/jlf/VV8NXb0wKe6qIJIadw1JMHXwYYONfdsT22cKzo6TT4K+OJ24PibMGgzTgS+tBtYcknUm//nfQtx06mz7Mq7cRN8NfUTfEklWKZjpVBWfCV/xRdzLyIiIiIimvDibXVMtOLL79Mr/YXN+Bqt4fYdoWqqWacNXfDlXI1x4YV6eH7zIXQ9cgOw8WHA5bFDhM7KLfYx6Elzi5GR4kFjew8qqqujVnxV1zeqYOnYGQWYWpAZak9My8GSydYKjfKWul12lVa/TLgWz8qO/VR8mWqv2RntcKn3wQUUzsFAlOWmI9XjVq+3oqnTbnXsd0XHUXLFcdPxtQsWxzd/bEwFX4f0aV8z0pztrKz4GgMzvph8ERERERHReNFeHzZIfdhaHc0Q8f6qtpy3j2bFlxz3dbeFQqUZJwEuN1C3M3SgP9hWR1m1Tyq1jrxCXUzb9oS+/uxvAbPPVGe7q7br27xuZKd5ccwMvTrj3kOHQ+GZ4z1qa9MVXl8411pExNHqKIGQBGeiNDc9rMCjT+Y5THtlvMGXzDIz76HF3H5URk2ojdSqVkuU2+3C1EJdtbbhYKMKBJM5+Bp3Uq332QTVGTFmfIniuaHz5r/nJMLgy7Gqo5BVMIiIiIiIiMa86q3A/80F/vnp4VvV0bQ65k7uPySLrOoazYoveU3mgF5aHSWkKl+uL+99bYgqvvLVSfOiK+2bmmeeD5z0abv9L1ijg69caz6Ual8EUFFVFdHqqCu+0oLdOGVuMU6cY1XfOFodJehaVK7ndZXnJRA+xNHq2Cv4kjD1t2cCvzwhtDqm4/YlKYcHNdg+st1x5TZrpcq8dGSk6nCPRij4MuKt+JIVMJMMg6+I4Iu5FxERERERjQuH1+lwp2LD8Lc65k1LrOJLKsRksPpoVXz1tPU+wC87Qp827B26GV8Adnpm4SHfWXjZfyTePf4OvbqgFXx5GnaoUzMYXQ2sB1BfXxsWSh1s1QeqGa4u3HquI2Qw7YnW/Uy7Y3l+nPO94m11zE4Na2WU1k1Uv6sHn+9f1Sv4OjKwVV9RvgyDMcMKvl7eXpP4fC8anJSIIf2xVnXs1erIGV/Jv6ojky8iIiIiIhoPTCjVFbuSJ75Wx544gq8p8VVtRQ62H62KLzPfy+0FPFabZnaZPm2tHNy2TeWUVJFJAVltG77m+yiu6/kKqnvSwoKC9EZZ+TCI3HSvunzU9HykeFxw27O7dCj1h7d0BVi2x4ejp+t2yMiKL3HxUZMxoygT7z+yfAAVX3G0Oprgq1ZXqkXORdPBWBALOtfpK8zstAGaZgVfJlCbPYltjiMmNTv+iq8iZ6tj8gVf+r+uCY4zvoiIiIiIaPwGX1Y4Ei85Jkq44mtqnMFXV++D49Go+DLteSmOICVHr6qIFqvNcLAzvqyKLwm+jIY2671UA99dSO1pQiFakJdRoh+S4sGyqfnIOaSDuVcP9KB23UE8vaUR30gHMhDxu4gIvo6ZUYiXb9Pzw+Jmz/jqo9UxO90OoILBIFy1ulItMviS2+e4DiOnp07/Xqcej6FodTQ43ytJWx3zZ+ih9vJZweH2yUlWXTDdjn4GX0RERERENB6Y+VsSjiRynBOQ2VfBOIOv2sSCL39XklR8meDL0RLoqPiScOe2Rzfg3J++jNYu3wCDL13xtacuNAOrzgRfqZl2e6gERWbGl7j06KnIcenHPLe7A59/ZAM6oMMEd6Db+v1YK2Sa12HaFQciVqujhJ8H16jnKc7Rz9/ZE9DvR50j+KpYb7d3SkXYSe7N+vppKwY82N6YURQevrDVcQSlZoa3L0YGYU4eb2j1ziSs+GLwFTHni7kXERERERGNC6YaK+BLrJoqMuiKp9Uxd2p4sJXsFV8mMHIe3OdYwVdLFZ7ZVIlH1xzE9qpWbDxgBVkDnPEVteJLWHO+5rgP2zO+xNUrpuOsWfr9mTttMgoyU5CSntm7TbO7JXZbWiJiDbf/78+A370HePv3yEz1IssaKl/b2h3e6hgMAPv+a1d8nWyCr0G2OYpp1qqOxmxWfI2c1Ozwai/HbPSorH/PXNUxiXmsXyJXdSQiIiIionHBhFKJtjs6V3Tsq+JLKo/a68IrvuS+suLfQGZ8ySB+qWIa0YovR6CUrVsdg61V+M6TVngDoKqlc4AzvgpU5Zgz+KoPC770nK/Zroqw4Euk+VrV6XVnHok1Xz8Hq75xYe/30PxO5b0czEp6aXnRK74qN+nTva+GzfnaUtEMmFZHM7zeanesb2nHCe539XWzTsdgSeBWnK2fN9XrxuREhvbT4KRmxTfY3jjxFmDhhcDii5BsGHxZTHjJGV9ERERERDQumDbEfgaX9+KPM/hqr7daIl1ArmOYel9VX1ErvhznR6rqy1RNhbU66jlbrkAPOppD711Vc9eAWx2ltbHF0SpZ19bVu+JLWh3Tw4Mv+/eVnge32wWPxxNaLc/su7nPYNocreeIWvElKzcKa1XQo2foofpfe+R1oKVC33bcjfp0zyvw+QMo6diJfFcbAlItNPkoDAUZ1i9mFWWFLUxHwywlM7Hga/oK4MqHgMJZSDYMvizmP6C+/jhBREREREQ0Jsgf9MMqvpqHvtXRbF8Oip1D4vua1RWt4ssEOv09dliG2zsO7r1p8KfpuVwlrkYsLteBUnWiwVeHFSCl54VVe4mGtp6owVdkxZf9+3KGWmZelgm+IgbbD1isVR2bD+vTxv0q5Pzfi47AuYtLMdWvr29NKUJg/vv0farfRUP1QZzo0pVyrhkn67lPQ8AMuOdg+1FudRzDGHxFzPhixRcREREREY15Eoo4K68SaXWMt+LLBF9ZkwCPBDeuOIKvKBVfEpC4vSNc8dU7+JK2xMN+Xf303hnAh46ZOshWx3zstoKvwqzU8OH2jlbHaa5q5KUGom/DhFLOffUNcfAVbbi9tJyaqi5R+Q6y0ry495pj8PElerj+O52luOUf+xAsPUJd7tjxsj3Y3jV78G2OxvJpOow8xqo4o9FodSzCWMbgy2IqJrmqIxERERERjXnOaq+RCL6kkCCeIfXRKr6cl0c6+HIMt3/qnQrs7dIh0nVL01Gaq/epujmBfZK5Z129K76Onq5Dm4b2bhWwKdmlaEMmPK4gSnyHHPvWGXrPTRui8z2yK76ah6jiy9HqaPattUoPrTesdkdpu7ygXP9b2oPJ+Pc7laguXqEup+x5Cce7tw7ZfC/jwyfMwLOfOw03nJJ8LXTjWqqz1ZHB17gg/wEL+0OIiIiIiIhoPMz3Sjj4SrDVMatYn5oB67GCslgVX87LfT12WCq+QjO+ntpYgWro6qKiYANKc9MSn/HlrJqS4KvOCr5m5NuLqTV3WDO/XC7scU3Rz9exL8o2XEBqTu+Kr16tjoOd8ZUbWv3TbNu0OUYEX0qdHmyfOXmhOn22fYE6Ldn3JLJcXWh25wElizGUx+oLynI432ukpbLVcdy2Ovo544uIiIiIiCZyxZe9qqMr/oovMZYqvuwZX6F2rrrWbtQErXa61upQxVdLZ/wFEh3WYHtvhgrz9tTq51lQmoPsNN3OWd8eej93+svUaW7bnt5tjlLJ5Xb3P+PL2Q450IDD5Q4P3ZoP6lOXR59Wbgzd31rRce7io9XpvXtKEXR54LH+3ezOPjp8v2nstzpmxDHcPokl/K/xlVdewfvf/35MnjwZLpcLTzzxRL+PWblyJY4++mikpaVh7ty5+OMf/4hkwxlfREREREQ0foOviBX7+mIqvMyBr1QCRVsFrFfwlZbAcHurOsyI57HDvKqjrLhYE7Ta/loqMSlH71NnTwDNnaGVGeOd7yVh2T6r4mtmcRYKsvQA+3prZcfOHj+2+/VqmJnNzuArxmqNvWZ8DVGroxwLm22Y5zYVXzNOCoVdXa26lbNup7pq0dJjVFXc4c4UNBUstTdXWXj84PaHknDGVyEmVPDV1taGZcuW4Z577onr/nv27MEFF1yAM888E+vXr8fnPvc53HjjjXj22WeRlDO+Agy+iIiIiIhoIs/46u694qFdBRalndK0OprVGeMabj8yFV8vba3Ckxsi2vZET1uvg/uG9h5UB/PtGVfpKR57tcW453x1WhVf6XmobulCe7dfHWtOK8hEYVaaXVkmmjt7sCs4WZ1PadBhkuKYERam14yvIRpu73wuE9yZ4GvyciBHwrkgULUJaNyn/3140+HJn46LlutWzdcDS+xNNZefOPj9odGXMn6G2ye8vuj555+vfuJ17733YtasWfjJT36iLi9atAivvfYafvrTn+K8885DsjD9wiz4IiIiIiKi8RN8yXFOcGDD7SUUsvIhHXakDWGrY9qwV3y1dvnw8QfXwhcI4NR5xcjPTI1Z8SUFEDJ4vhpWq2NLpTqRiqamjh4152teaRwBk70aYz72WIPtpxZkItXrRmGmDtHkeURzRyj4cklFlRyMSvWVqbqKbGE01WnDEXyl5YWHbk1Wq2PuFKDsSL3Co8z5KrAGzBfNVe2Mlxw1Bb95ZTf+VDsX7/MCBwKTkFYyb/D7Q6PP4wUyCnT7bq7+dzpWDXvj7apVq3D22WeHXSeBl1wfS1dXF5qbm8N+RmzGF5MvIiIiIiIa60wolTdNnw40+Iq8rs/gKzWpKr7W7GtAtz8AaeqpaIrYbndbWJgk4ZYcCprh9mpVQxV8heZ8JTTjKyPfXtFR2hyFXfHVpoOvpg4f9gdL4ZfD8u4W+zlDM776C76GqNXRGbJFtjpK4FG+TJ+v2AjUbtfni3W4tag8FwvLcvC6bwE+0/0pfLzn85hkvWc0Dlx2P3DZH4DsEoxlwx58VVZWorS0NOw6uSxhVkeH9R9shDvuuAN5eXn2z7Rp1of1MDKz9zjji4iIiIiIxjzThlg4a+CtjhJGmeHm0Qbc262OERVf/q6kqPhavafOPl/TErFdu+IrK2zuVkea1bbZ3apmWpk5X3Gv7GhXfOVhjzXfa1aRbhktytbBYENbqOKrGymoclvHyyZU6uqn4su8h3bFV0RL5ECYkC2y1TF3qiP42uAIvubbD5WqL/HPwMnYHJyJEus9o3Fg9unAkksw1iXlUgtf/epX0dTUZP8cOHBg5Ibbc8YXERERERGNdaYaq3B2eCVPPMw8L08K4EmNHnzJqogSDiU83H7kKr5W76m3z8u8rTARrY5m7lZGdn5otlFrlV3xVdXPjK8unx+v7qiBv71BX5EeqviaZVV8FVitlqbiS2Z8icrU6foxJlSyWx0jZ3yZiq/24ZvxJaGbDLCX1ka74utIfb5mC1C1WZ8vCrUzypwv63BaKc5m8EUTLPgqKytDVZVVsmmRy7m5ucjICK2g4SSrP8rtzp/h5rFXdRz2pyIiIiIiIhqZ4KtozsBbHcOCr4hWx/ba0EB7E7zENdy+M0bw1cdjX/k/YMMj8e+/tWLihgNNfVR8hQ+3N3O3CmQOV05pKPiyqpf6a3V84PV9+PDvV+ONd3eHKr4iWh2LsvR7WW+3Our3tC59hn7MG/cCj1wDbPpbP62OnRGrPw5xq6O0XAb9gNurW9ykXVZmPcnqnofeDmt1FGV56Th5jq6US/G47AUBiCZM8HXiiSfixRdfDLvu+eefV9cnE5NQc1VHIiIiIiIa0/w+oL0+vOLLtM/F9XiruktCLwm/nNdFm+9lDqYSqvhKi6/iq2Ef8NJ3gX99PupKZD5/AFsrmxGMuG3DgUY136v/Vker4ssKo9Qcrmwr+GqpRImZ8dVPq+PGQzpkq62tVqeB9Dzsq2sPr/jK6t3qqPYte5HeSN0OYMuTQL0VnuVblWC9gq9hqPgyIZv8OzFtjrKao9ujf7+m3dGQ4fYOF1vtjiU56XA5y7+IxuKqjq2trdi5M7TU6p49e7B+/XoUFhZi+vTpqk3x0KFDeOCBB9TtH//4x3H33XfjS1/6Em644Qa89NJL+Otf/4qnnnoKySS0qiODLyIiIiIiGsM6JPSS4xoXkD9j4BVf7pRQQNUr+DLzvayZWHGv6hir1TEt+mPNzCmp0Ops1JVHDn/47158799b8LX3LcJNp83u1eYoGYwaWh9ZsSWtmiIlMyyMKsxKAQKOiq9ya8ZXPxVf+6x5XnnWMpgN/kx0+QLwul2Ykq8Dq0Ir+AoNt9fv877yc4ATZ4XCStN6uOj9Ee9RxPs7HK2O8n7bKzo6VvKT4Gv3Suv6KUBadtjD37+sHJsONeGYGeG/H6IxGXy9/fbbOPPMM+3Lt956qzq97rrr8Mc//hEVFRXYv3+/ffusWbNUyPX5z38ed911F6ZOnYrf/e53amXHZMJVHYmIiIiIaFww1ViZRaGgSEISOdaJpxrHrvhKcVR89fS9oqNzVUf/YCq+IiuzrIBKtFb3Cr7etAKuP/x3D244ZZZd0LB6r77+uBmF6nzviq/w4Cus4gtloYqv+WbGV5cqkohVzWTmeeW59Hb/8o5U2JViemEmvB53WPAVqvjyqdOcjPT4Bog7V3WUOVymXTOyJXKwrY7OFR2NMmvOV0Sbo5Hm9eBbH1gy+P0gSobg64wzzuizKkrCr2iPWbduHZKZPdyeuRcREREREY1lzlDKVAPJwHoJlVIiKq36nPGVGnu4fdTgK0Z4ldCMr8jKLCvcES2VwKQFYTfvtSqtDjd1YuW2apy1qBQ9/gDW7NND5i84srzv4Cs1M2zulprD5TIVX9UoydX71e0LqAqtfGtAvVNjezeaO3WINSu7B2gHXj3gC5vv5Qy+2rr9agaZqfiKeyaWM/hyVvANeavjoVBll1G+PHTesaIj0ViQlKs6jga39U4EWPFFRERERERjmbMNMVVa0lyJzfmKZ1XH1poorY4xwqshq/gKXzRN5jPvt+ZoiT+/qTuPNh9uRnu3XwVKJ88tUteFBV+BQGgfU8KDLzWHK8eq+GqtVJVM+TLwPtrKkJa91j6U5abbFV/N0NudWRQKvnLTvar10QzTN6s65iYafMm+m+BL3jdTaTdkFV9Rgi+ZFaf+LTH4orGHwVfkqo4s+SIiIiIiorHMWY0lf+E3FUHxzvmKp9WxQ1dUhbUe2qs6RoRkg6r4ag+v+HI43NihBthbWRL+s61aXfeW1f543MxCezh9S5cPHd3+3mGaFSaFVXzZw+110FaaY9odO/uc7zW9MAMumUOmgi8deM0q1gGYkDZJM+C+rrXbrviKO/jyOobbmxBzKKq9RHp+aMZXtFZH+Xc05z2Ayw1MP2FonpNohDD4sphebeZeREREREQ0pkW2IdrBV5wVX/G0OvqsVRFTswY43D6i4ssOzSIrvtpiVnyZNkdZNfGE2YXqWO7htw7Yc79WzCpETpoXaV53eNWXWdHRESaZuVsFzuCrVQdtpt1R5nxFY1ZvnFvotd+na888Us33es8ia1sWFaxZQdvAWx0dFV9DFXzZrY6O4Ctvavh9Lv4l8Ok1QNnSoXlOomSd8TVemSGIUi5LREREREQ0ZskQ+KjBV4IVX7KqY6zgy4RHzsotu2prIDO+0hOu+DID5SX4+sDyKXhjdz0eeWs/OnsC6vrjZhWqAgcJrg7Ud6CmtRPTizJDYZqEXm63mmFthturYCrNanVsr1PVa6W5fVd8mQBuXq5VUeZy4+ZzluPmc3sPwi+wZoSpVkdT8ZWeaPDVPvTBl2l1lO2auWrOii/zXEP1fEQjiBVfFlMe29fgfiIiIiIiojE142tAwVdP/62OJvgyYYwz+BrQqo4x2iT7mPG1p7bdnqN13pJSNTxeqrKkkioz1YMlk3WYMyk7LXrFlzXYvqPHjy5fIDSAPqMQcFs1Im3VKMmJeHyMii812F6k58VcPbMwO9XelrRfDqjiS834ah66FR3NPotgAAj4AJcnVPlGNMYx+IpY1dHP4IuIiIiIiMZjq6MMLh+qVse+gq8hrfiKo9VxUpYaQn/ZMaHWvGNmFCDFow93S6wZXfZwehOmWYPtZd6WSPW6VWCm5lnZ7Y5V/VZ8meBrekZ3+LysKEyr44H6dphDz9wM7wBmfLUMbfAl779U+Bk55YDbMzTbJhplDL4igi92OhIRERER0fgKvhxtbAMebh9jxpcJY9T9+1nVMeB3rBgZq+Krj1UdrWHzxh7T6mitnHjV8dPt22SwvTEpsmLLtE9GrOgooZSZ/ewccF9qz/jq/bpau3yobdXbLUvrCq+eisK0Ou6xwrL0FLcK7UZ9xpe8btPuGK3NkWgMY/AVMeOLqzoSEREREdH4bHWMs+LLDqecM74SaHWMtaqjM9Tq1eoYx4wvGbxuPa/PH1BVU2JmcZZ9+r6lZUjxuHDuklCbnmlVrDbD6SP2vb69O9TmaORYc75aK+2VIaMNtzcrOspjM/2t+sqMPiq+rFZHM58s7vlejv1VraQdevXIIZ255awey5sydNslGmUcbm8xwX6ArY5ERERERDRWSWugGd4+4IqveFodrYAqJT3+VR2d1/dqdYxjVUcz4L5wFg42dMAXCKoVG8usYEr89IrlaO30ocia6xVW8WVVZtnbtFakrG+NEnw5Kr5K5oQqxmQmtF0VBmC/Vbk1Q4bmd+7ut9XRVHwdbGhPbL5XZMjYVj30wZezUi2XwReNH6z4snBVRyIiIiIiGjfVXtJKaEKRQa3q2E+ro9UuqHhT+57xZa6Xwekeb+IVX445X3usSisZbO82K5XJS/V6wkKvqK2OERVfssJizOCrtdJ+fLc/gMb28Mq3vSb4KpTgq6nfVkcz48scduYmEnw520rNyp3O9sTBYqsjjVMMviJmfLHgi4iIiIiIxn6b46RQW8ugVnU0YVaM4fbOyi1zPtaqjrEG28c748sRfJlWwZnFjuBNPPd14McLgOYK+6rQcPvO8IH5VvBVZ834MtVYSk6o4kvCNBOKVZltRLQ6zpA5Y6b9sI9WR7Oqo5FQxZcM3Te/DxN8DVerIyu+aBxh8GXhqo5ERERERDRuBttnW22OA5nx1V+roxwz9USr+Oqv1bEr+nyvvh5rQiozDL8lMvjS7YpKaw3wxq9UlRb2r7KvNhVbta3deqazve/hrY6mGkvJNjO+qsLmhEXO+doX1urYf8VXYeYggi+1zxkRwddQVnyx1ZHGJwZfFlMdyxlfREREREQ0blZ0dLawDdWqjirACvae8RWrOmwoKr4KZ+lTCbUcqyKaFR2VjQ8DAZ8+314XNlBe6hxkrI0aZG+2GTncPjtKxZcJvuwB931UfHU29j/jyxmuqeH2CY7dNu2Owz7ji62ONH4w+LJwVUciIiIiIhqXwVfCqzr6+l7V0cz3SrTiy4RnCVV8meBrdt8VX1LAsPbB0OPa60O76HHblVZqzpcJvsxwe6vVMaway1nxFQigNHJOGIDOHj8qrCBsZpwVX7IvOY6wa8AVX+a9HI5WR5nBZla1JBoHGHxFtDoy9yIiIiIiorE/46s4dF3aQCu+YrQ6mlZBNaQ+pf+qrbgqvqzrAj1AwO94rrbw4Ku1Et2+gL0q4iwTfB18C6jdFnqco+Kr14B7E6aZ4fYm+AprdSyx9scHdNSjNErF1+HDB+EJ+pCd5tWPjWPGV2RLZULD7R37bBvSii/r34mEXm7P0G2XaJQx+LKYuY9c1ZGIiIiIiMZnxddgVnV0VHxFrIrYK/iS4fbRRsj0OePLcZ0zOItS8XWgoV0VLGSmeuzZW1h7vz41QV2M4KtaVXyFzyerixZ8yevOLNLnK9ajNDctPPja+m/MvP8Y/CTlXjXfyyUHlHbFVwH6UjCkwdcwzPhimyONMwy+IlsdOeOLiIiIiIjGKjP7KVrw1dkc3zL2/mitjt3xB1/BQKhdMtGKL+f9AoFQW6Vd8VVltznKXC0VOEmgt+lxffvyq/uv+LJnfGWixx9AU0dP7+BLzD9fn/7j05iS0hYabl+3C3j8ZrgDPbjQvQrL8qzt2TO+Yrc69qr4Sk8Z2Iyv4Qi+Zp8BlC8HjvnI0G2TKAkw+OrV6sjgi4iIiIiIxmGro7QRxmpDTKTV0Q6wMvoPr+Kt+PJ4deuk834moHIOt2+rwd5qXVk1q9iaL7b5cd0SWTQPWHCBvq4jNONLlOTofatu6XTM+MpEY7sOveRwMD9ixUWc/wOgeD7QchjHrfkiPPCjubkZ+Ou19rw0jyuI9/pe0u2ZZoZaP62OzoBtwDO+jLRsDJm8qcDNLwNHXTN02yRKAgy+LJzxRURERERE47LVMdURjsTT7hh1VUdnq2P4jCybx9mu2J1YxZfzenO/bmu+F1xA7lTAJYevQdRWH1LXzjQrOpqh9hLYmPZEx3D7viq+zGD7/IwUuwsorFLuij8BKVnIqXgdX/A+ilva7waqNqn39695H1V3O7r2yVCbYxwVX+Gtjgmu6hi2imZa9BCRiMIw+LKYzzjO+CIiIiIiojFJWgPtii9H8OV2A6kJrOwY6K/VsbN3CGOeR+aCxaz4MsFXjLAmcji+Ndg+4M1AVZsPyNID51tqDoZWdKzeChxcravFll0FZBYmNNzeXtExss3RfuAC4KK71dlPev+JSz2vwRd0Y++Z9+B3PeeiOZiB7I5DwJZ/WtvMCh/430+rY+IVX5nDM9ieaBxj8GUx6X6QrY5ERERERDQWdTQAQWtFxExHq2OiA+77XdUxVDHVb9VW1FbHeCu+9PPU96TgPT9eieYUXc3V1XA4tKLjhr/o+85/L5BTGqr4kn00AZdqdXRWfIWG2/cbfIkjLgVO+KR98Ue+K3DZsx7sbgzgn/6T9JWv3x1XtZcoyBzEcHvne2dWYSSiPjH4sqihiKria7T3hIiIiIiIaADqd+nTnMmANzVG8NWcYPAVpdWxzyH1+nlb2trR0ul4TFwVXxEhmxWwtQdT0dbtx1u1+nZve3Wo1XH3f/R9F18Uep2m6swx5yu81bHNEXx19R98iXO+o8KvzpO/hFeKr1Lb8QWCeBzv0bfX7YhrvpcoytbPJbUX2amJtjqy4osoUQy+LB7rneBweyIiIiIiGpNqrfCleF7v20x1UFwVX1aro9vbz6qOsSu+bnlgFU664yX8Z5u1yuQAKr6C1oyvdqRj6ZQ8VAd1qFSMRmSneVHsaQMqNurHzDpNn0pBgz3nq65XxVdLlw/Bbmv/UyX4Mis69jMrSwLA996B9HO+hvs/ugJT8vV8s+aCI4DSI0L3i6PiyzyXVHu5I+eK9cfZXjqUKzoSjWMMvixc1ZGIiIiIiMa02u36VFYijDTgVseUPoKvKAGWFZS1trWqkOmjf3wLv3t1tx4pk+CMr32Vel5ZpysNf75pBZbM14FeiasRM4sz4dr3XzXsHsULgNzy0HaiBF8SlKWnuMMCtfCKr/hbDktz0/HAR4/HilmF+Oips4Gjrw3dmN5/xdeSybk4c8EkXH+StVJlIljxRZSwBOsqxy8GX0RERERENG4rvgY948vZ6tgRfVVHR9VWqsunMilZO+y7T23BtsoW3JHZoQ9AYwZf4RVfa3YexEzpHszMQU56Co5cOB/YDczOaMXVx88A9vwzvNrLsAfc14eNtpF2xwP17XDZ+5+J+vbm+Cq+IsyZlI1Hbj7Rep7LgOe+Afi74mp1TPG48Yfrj8eAOKvlGHwRxYUVXxHBF2d8ERERERHRmFQXT/DVz4yvgAzHD/azqqMVHHmjBV86QEpDN8rz0nH7hYvVLKtH1xzEWzsq+ml1DFV8+fwBbNmn719YUKCvzylTJyeX+HD1iunAnlfiDr5ESU46UuGDyywAoFZ17Oq10mLC5PkWXajPZ0UsKjDUnGEjWx2J4sKKr4gZX1zVkYiIiIiIxhypyKrf3UerY5wzvpwBlwq+ogy376vV0Q6+fMhJ9+KGU2ahLC8dn3xoLaobm8Lu01fF16s7axHoagdSgKICq4oqWwdfaK0CWiqBmq1SywXMPCV8O1FaHcWk7DSkw5ozJlKz7BlfBYMJvsR53wdyyoHjb8bIBV+s+CKKByu+LGx1JCIiIiKiMathLxDw6RlQsqpjJBOSdDYnEHylDmC4vQm+elR7ojh7USlSPC54zDYiKr7uf30vTrzjRVS0Wcdivk48vvYQMqyQyp2apa/PKQ0FX6baq/zIUIVXP8FXSW4aMtDtGNyfMjQVX2rfyoDzvgfkT8OwYqsjUcIYfFnMahpsdSQiIiIiojE736torhzcDKLiy1rRUbhjtDraQ+qjVXzp69Jc3WqgvEj1ujG/NEeFYdEqvv6yej8qmjrx5gE9dL6zox3PvVuJTJf1PCb4yi4N7cu7/4je5thPxVemy6r4SslU3T71bd1DU/E1UjjcnihhDL4sZhVZVnwREREREVHSajoIrP4t4HMEUf2t6JjIcHsTcLk8OkCL2urYHrviywrKUq1WR+dKhql28BUKzNq6fNhepfepK6gf++Br29HZE0BZRiD8eSQwy7Dmfe14Tp/OOr33PvRZ8RUKvlq7fOjxB4em4mukONtLOeOLKC4MviwetjoSEREREVGy+88dwL+/CKz+dYwVHYco+DKVXlFbHTv7mPGV3qvVUSyZnIc0V++Kr3cONamVH2UQ/jFz9Ayv9nZd+bWw0KPvlOoI2MycL9kfaVecbq2sGMdwe1nV0QRfQTXYXr+mzFQP0lOs50p2rPgiShiDL8fytoLBFxERERERJa3Gffp010sxVnScG/1xdqtjf6s6Wq2OptLLGXyZY6W+Kr4cwVduRMVXqNUxFJhtONCoTpdNzcfcyXpFxPwUP9JT3JiVZ7XlpFitjiK7JHR+yrFAWnbsiq+O8OBrYVkucjw67NrfAuyqaVXnCzLHSLVXZHtpOiu+iOLB4Mvi4YwvIiIiIiJKdm01+nTfKsBnte1JIFWzLc6KrziH29vBl6naCgIBfxwzvkyrY48940ssLA8FX809ocPQ9VbwtXx6vl0JdtXRpXjpC2cg07QlOiu+ZIi8EW2+l8gwFV91obAOwOT8DNx6xlR1vq7bo1aaFEXZYyj4YsUXUcIYfEXM+JIBh0REREREREkdfPk6gINvhwKeTgmQXEDhnOiPM9VBA211dN4WT8WXS1odQ8GXhGDZHl1NtrvRH7Xiyzw2Fd0qpEJPW5SKL2vAfV/Bl6n4koDO7KvlyBIdrgW8mWqO2Jir+Aqb8cXgiygeDL56rerI4IuIiIiIiJKQrLjonFu155Xw+V5508KrowY048sXWtExZvDV14yvtKgzvkSWFXztrNen1c2dONzUqYoQjpyaF5r9ZSrZuttjV3xJSDb1uOivQVaB9KRFHXBvwrQjZ5VjxSxdGTar2BGsjamKL7Y6EsUjFMFPcG57xtdo7wkREREREVEUamZVMDz4OvOrjhUd58V+rAm+JLySYMkxYL7PVkcZIG/f1hPe6piS0fvxVuCkWh0dFV8iw6UDr+31PWFtjvNKcpAlbZGmddJsP1plWckifTrnPdGDNyHHdlL11XJYB1/500O39XTo/UvPwp+uXoFVu+pw9AxrpcixQH6PqdmAyw2k54323hCNCaz4snBVRyIiIhrv7rnnHsycORPp6elYsWIFVq9eHfO+Z5xxhlr8J/LnggsuULf39PTgy1/+MpYuXYqsrCxMnjwZ1157LQ4fPjyCr4hogrY5mjDq4FtAd5sj+Iox30tIWGL0VfUV2eoox0mRKzuaQMqb0U/FV3jwJS2MYktNV/h8r2n5YY8NVXy1hSq4jNlnAtc8BnzgbvTJtDtGVnzZ28xEiseN0+ZPCptFlvTkPbruSf1jz18jor4w+LJYuReDLyIiIhqXHnnkEdx666345je/ibVr12LZsmU477zzUF1dHfX+jz32GCoqKuyfTZs2wePx4LLLLlO3t7e3q+184xvfUKdy/23btuEDH/jACL8yogkYfMkcr7zpQKAH2L8q1OoYa0VH4faEwq++BtzLNoXHEQb1Cr76qPhyzPjKjWh19AT043fV+9DW5cOGg9Z8Lzv4iqPiSw7c5p4FZFnBViyZZsB9+MqOpuIr6nyysWLK0cDk5aO9F0RjxhiKtkdqVUcGX0RERDT+3Hnnnbjppptw/fXXq8v33nsvnnrqKdx33334yle+0uv+hYXWQaPl4YcfRmZmph185eXl4fnnnw+7z913343jjz8e+/fvx/TpjtYih66uLvVjNDf3s8IcEYW01erT7BIgfwaw/k+63bFuR/8VX6ZNrrsV6OzjvzvTzuic7WUqi+Q2KRSwA6mMuFd1lMe5/Pq//c5gCt6taMbGA039VHxFmfEVL7viaxwGX0SUEFZ8Rcz4YsEXERERjTfd3d1Ys2YNzj77bPs6t9utLq9atSqubfz+97/HlVdeqdoaY2lqalLtkPn51kFsFHfccYcKzczPtGnTEnw1RBOYqfjKKg6taLjjBaBhb5zBV27irY7O83Kbuj0YXqHlEPDEaHU0YZY8PVLw5IbDaOnyISPFg/ml2REVX10RAdsAhs/HanW0V4pk8EU0UTD4snBVRyIiIhqvamtr4ff7UVpaGna9XK6srOz38TILTFodb7zxxpj36ezsVDO/rrrqKuTmxl5p7Ktf/aoKyMzPgQMHEnw1RBOYHXxNAmadqs9XbwaCAR1qZYf/Nz6glR1NxZdzqL0z+DJhVIzwqDPgjb6qo2lflDAeKXh87SF1fumUPHg97vDnkeBLVWYFB1HxVRgj+OoY+DaJaExiq6PFyr0444uIiIgoSrWXDLGXNsZoZND95ZdfjmAwiF/96ld9bistLU39ENFggq8SIHcyUDQv1OZYNDc0uHgogq9YrY5mvpesKhhluHp70AuJlNLdPqR63b0qvoJwoQce9HTpFR6XTXOsTOic8dVPwNav/obbR2vTJKJxiRVfFq7qSERERONVcXGxGkxfVVUVdr1cLisr6/OxbW1tar7XRz/60T5Dr3379qmZX31VexHREM34klZHMfv00G39tTmGBV/NA291dA6cjxK0tQd0GJbhsgK0iIqvoJrjFXrc8mkFofs4Wx1NQCXXyWD+IWt17Bh4+yQRjUkMviJmfLHTkYiIiMab1NRUHHPMMXjxxRft6wKBgLp84okn9vnYRx99VA2jv+aaa2KGXjt27MALL7yAoqJ+VlkjoqFrdRRmzpcontf/4+0ZX4mu6mgqvrpDLYtR5nuJdr8OqdLd/vAbrIovlzcdOY6h9+EVX2m9K74GOosr5qqOfQzmJ6JxicGXxfyxgjO+iIiIaDy69dZb8dvf/hb3338/tmzZgk984hOqmsus8njttdeq+VvR2hwvvvjiXqGWhF4f+tCH8Pbbb+Ohhx5SM8RkXpj8yDB9IhoGrdXhwddMa85XvMFXeu4AWx1THa2Ofa+K2Oqzgi9Er/iS4GvRZL0fxdlpmJKfEaPiy6zoOMDKrJgVX4MM1IhozOGML4vHGvLFVkciIiIaj6644grU1NTg9ttvV+HU8uXL8cwzz9gD7/fv369WenTatm0bXnvtNTz33HO9tnfo0CH885//VOdlW07/+c9/cMYZZwzr6yGakCJbHaWqaf75wL7XgWkn9P/4dKu6qqNxEK2OJviKXvHVaobbuyICcLOqozcNSybnYvWeeiyflqdWgo1e8TXI1RedwZcc45nnsQM1Bl9EEwWDr16tjgy+iIiIaHy65ZZb1E80K1eu7HXdggUL1MD6aGbOnBnzNiIaBjLzyoRBpuJLXP4AEPTH17qXYbX/dUS0//W7qmOUVscYz9fSowP0lKAvYrsm+ErHNSfMwLuHm/Gx0+aE38dUfPkdM74GGlCZ1yqtm92toflmdnDHVkeiiYLBl8VtKr4Co70nREREREQ03nT7AuGrHA602suTFgpxhNdRmTXQuVcJtTpaFVPe6MFRU49udUxFZMWXmQ2WhjmTsvHIzVHmC5qKL9HRoE9TszEgEpjJPvo6dNWXHXyZSjIOtyeaKDjjy2LlXvDzL5dERERERENvAv+F+fF1B7Hkm8/g6XcqhqDNcVLU1RTjsa5OH/611FcOotWx74qvZrviK1arY/QWyV63mXBuMLO4os35YsUX0YTD4Mvisf7PgyX7RERERERD7J+fBn66JFTFM8H8d2cdevxBPLu5j8Ap7hUdrfleA/DsHt1+GGiLGPje76qOzuCr71URm6zgyyOtjs6w01HxFZNqqXSFt2MOZhZXZIWb7I/Zj4EOzSeiMYfBl8UMVeSqjkREREREQ2zb00DLYaDqXUxE1S262mnz4eYhCL4c870StKZaH/Nk+Zv0wPeBtDraAVb0yq3GLnfvuV7xVnzJMZm53a74yhq6ii8T2qntsuKLaKJg8NVrVcfR3hMiIiIionFEqmxMiCFDxiegGiv42lXTio5u/6gEX00dPdjYoKu4vPDD39E0wFZHU/EVvRKrodtxiGlCsngrvpy3D0nFV2Tw1eF4HgZfRBMFg6+IGV9sdSQiIiIiGkJdUl1khT1dLZiIalo67T+yb61sHuSMr4G1Om4+1IQupKI9qIOlqqqKfiq+rJUcnefVcHsz4ytWxVcQgaB1cOXrTqziy3n7cMz4MoPtJfRy81CYaKLgf+0RqzpyuD0RERER0RByriA4kYKv1mqgegt8FZtR2L4bk6GDq3crmoet4isQCOIrf9+I7z3Vu6X0nUO6wqseenXDwxUH+w6+3CkDmvHV0uVHF1L6qPhKj7Piy6zqOBStjta/QQ62J5qQHBMLJza3NeNrAi82Q0REREQ09Jwr6k2UVsdDa4DfniX9JOqA6zkrN/pc9yex+fD0YQu+tlW14OG3Dqjz1544E9MKQ9VSG63gqyGYjamuWtRWHU6g1dFUfHU7AqwYwVdnjwq+MiD3jTbjK20EK74Kw/8NNuzVpxxsTzShsOIrYlXHACu+iIiIiIiGqeJrggRfe15VoZeEOL70Iru98Bj39oQH3Ne2duGWP69Fe6O1ImR27OBr/YFG+/wrO6ygzLLJCr586ToMaq6v6if4ilbx1dNv1VRrlw/dpuIrbLj9QCu+hmhVx5Yq4MnP6ctz3jPwbRLRmMPgK2LGF4MvIiIiIqJhqviaKK2OtTv06Sm34tWL38D3fVeriyWuRmytaIbPH3+byZ/e2Id/baxAd1N1vxVfG5zB1/ZQ8NXU3oN9dbpFMa+oTJ12NFrbixTw9RF8dfcZfMm85JZOH7qCptVxEBVfPvM8Q9Dq2FoF/O0GoLUSmLQQOO/7A98mEY05DL4iZ3xxWUciIiIiomFqdZwgwVedFXwVz0V1SydqgnnqYpm7EV2+AHbXWkPW47C1ogUuBJDtb+w3+HJWfP13Zx16rIDNzPeaXpiJ3MJSdd7fag3LT7TVsY/gq6PHr46nus1EnbDgK8FVHY2hWNVRfh/7XgNSs4HLHwTSsge+TSIacxh8Rcz4YsEXEREREdFwVXxNgFZHOaCo2abPF89HTUsXaoL56mK5R7c5vptAu+OWymbkoh1eWCtjZkZf1bGty4ftVTpYzEr1qJbDdfsbw4KvpVPzkGtVfKX3NKK+zbHqYp+rOjpaHU0lVpQZX1LtJWT1yN7D7ROs+DKGYlVH46J7gEnzB749IhqTGHxZPNY7wVUdiYiIiIiG0EQbbi+vt1MCJxdQOEcFX9UoUDcVBmVuVRCbD+sgqj8SZkmLYrFL39+fmgt4HZVYDhJuSfNKeV46zlpUGtbu+M4hHYAtnZKH1GwdBhW4WrG7pnUAqzp2xqz4MsGXz22Cr0HM+DIGM4g+w5rxJU68BVhy8cC3RURjFoMvi4vD7YmIiIiIhnm4fcvEme+VN0216VWrii/d6ugN9iAPbXEPuJdVGkUx9P3bUxxBToz5Xsun5eP0+bod8mU7+NLB2ZFT8uwqqEJXC3ZWtw6g1bG9j+BLh2Z+V7Th9vFWfKUNXcVXSjpw5teB4z8GnP2tgW+HiMY0q/ma7FUd458zSURERERE/emYYKs61m7Xp8Xz1IlUfEnrX3dKHlJ7mtSA+82HC9QgePPH91i2VOjAq8iq+Gp05yGnn/ley6bl49T5xXbgJeHWgXrdnrhEgq8Kq+ILLXihr4qvmK2OsSu3TMVXwJMG+AZa8ZU+dBVf4vTbBvd4IhrzWPEVMeOLFV9ERERERENonAy3r2ruxOPrDtoD4/sPvvQsKan4Ev6sEnVa7m5EU0cPDjVas7L6GWwvpqTqgKranxtXxVdJTjoWlev7/mrlLnU6sygTeRkpdsVXgasFu2qiDNkP9BV8OYfb967EkrlidvA14BlfQ1jxRUTE4CvEbWZ8cVVHIiIiIqKhM06G23/vqS34/CMb8Mymyr7vWLdTnxbPU1VdUvGlZOu5W0vzOuMecL+1Ut/n+Ek6bDvYHb36qbq5E4ebOiEL1cscL2HaHf+x/pA6PcK63g6+0IpdVc2DWNUxWsWXCc3MjK/uKMFXohVfDL6IaHAYfPWq+BrtPSEiIiIiGicCfqBDBrqP/Rlfu6y2wL21UaqkYrQ6tnX70dGjV2NMydOrKS7M1sFRf3O+JDQzFV9H5OsAaV9nJjqt7UVrc5xfmoOsND3N5jSr3dFnHeAcOdUEX3pOmNcVQGNjbe/t9dnq6Ay+Yg+3D5rwKqziq3OAFV+DbHUkogmPwZfFI38eYasjEREREdHQ6WwCgo7WQBl2boKVMaaySQc3VS2OMCeSVDU17NXni+erSiyRneaFN69cnZ+V3hJX8HWwoQMtXT6keFwo9ejH1ARzsSdK8GbP95qab1937IxCZKZ67Mt2xZc3DcHUHHvO1966tvhXdZTX57OCL2/v4KvZCr5cKabVsWtwFV/yvB6OpSaiwWHwZbFyLwZfRERERERD3ebonNM0Bqu+pCqqrk1XXVU3O8KcSPW7ddCXlqtaG02bY0lOGpCtK77K3DqkevewHlgfy9ZK/T7NLcmBu71Wna8L5mJHlJUYNxy05ntNDwVfqV43Tpyt2xrDgi8JpjIL1Gkhoqzs2FerY3dbKMiMUvHVagVfbhNe+Qcy3N5R8cX5XkQ0BBh8RbQ6csYXEREREdEQB1/ZJaHAozt553zJwPlorYTOsKvKzOyKpnaHPi2aC7hcqGnV9y2W4CtHB1/5fr3KpczkarDCtL5WdFxUlgO01ajzdcE87KwKDw4DgSA2HmjqVfElTl+g53zNKs5Cbrqjgsua85XvasWu6rb4Wx27HFVqUVsd9WPdZv7XgIbbpw/dio5ERAy+egdfLPgiIiIiIhoi7fWhoCU1O3rFl8wBe/M3QNXm2GHS6t8CPX20GBoyf2rVPUCdXskwEdJCeMoPX8InH1qrr+hoBF6/G2g+jIqm0AqMpn0xrhUdrcBskqr40qs6eturMaMoM6xFsa/B9mp1Riv4qkUutle19po9Ji2RGSkezC+13mPLpUdPxQeWTcZt5y0I37gVfBWqlR1D22vv9iHY16qO0roqXO7wirCIGV+eVBN8seKLiEYfg6+IGV+s+CIiIiIiGuKKLwla0nKir+y452Xg6duAp78cfRvPfR349xeBf32+/79Sb34cePZ/gGe/lvCubqtsVptft98axr/+IeC5rwEr70ClI+yS9kWpsuqz4qt4nr5va+9WR7RU4bR5uhLrb2sOxtwfM9h+UUmaHTjVBvOwozo8ODThmazm6PWEH97JbLGfX3UU3rdUzxez2Ss7hlod1+xrwGk/WomACauitTra4VWGqmiL1Nqlgy9v1OBrIBVfDL6IaPAYfFnM5zZnfBERERERDUfwZVUjdUdUfDVX6NPWqujbaKnUpxv+DKz5Y9/PV79Hnx56O+FWjvo2XenU0N6jW/ba9FwtHFqLCmuwvVklsb49Roti3Y7YFV85pfq27hZcfZRecfHZzZX2HDAnqbzaYw2dX5Sr9yvo9qIZmdhb145uX6BX8OWc79UvR8XX7tpWFcBd9Zs3UN/aAQ+CUYKviOquKG2OzlZHrwmsTNglv4sBVXyx1ZGIBo/Bl4WrOhIRERERDWPwlRqj4qujoe+h987rn/6SCqJiaj6kT6U10ARmcWpwhFkH6jt026So3oLahvBB9FXR2h3lOCJGxdek7DQ98N5aCXFRTjuWT8tXIdqjaw702pS0M8rmirNTUeSynjuzGNlpqapDxazEGAwG8dbe+qjzvfqUWahOityt6OwJ4IuPbkC3P4CyLMfhods7gOBLV3ylplu3m7BLzQ2zjrNY8UVEI4zBV8SML3Y6EhEREREN9YyvwlDFV2TAFW/wVbJYrzj41+tC240VfInKjQntqnPQ/IGGdqDHGvoe9MNd827YfaOu7CgVazL8XeZfFc5WV9mrOuam6xYTU/XVUoWrV0xXZx9efaBX6+TWit7zvVxZkzDXmuG1w5rz9Z9t1SokS09x44TZOsyKS4a+75TUdvuqz7xnLn511VL7chc8ofs7533JMZMnetVWswm+0jLCV4h0DrnnjC8iGmEMviJaHTnji4iIiIhoOCq+TKtjjIovuV4G3ccKvi79jQ6UmvYDj90UvZWx+XDofMWGhHbV2b54oF6Cr9BA+7ymLerUa3WJRK34MtVeBTPt8KampTNU8SXMnK/WSlx4ZDly0rzYX9+O/+6y2iotWyv1a16oVnS0bssqxrwSK/iqblFh2U+e08P0rztpJorMcyTQ6jgrsxOFWalqDtit5y7A0rJQ0PTm3paYFV+7mwJhA/+N1i7d6pgWWfHlnPUVZSh+GK7qSERDjMGXxeMYziglw0RERERENEgd9aEKo1jD7U3wFS0UkxY5nxWw5E4BLn8QcKcAO1/ovXKjfIdvOjTg4MtZ8XWwwdHqCKC8XQdMC8v1a6iOMpfLXtGxSLc5+vwB1FnbLMk1wVeJXfGVmerFJUdPURf//Ob+sE29a1V8LSzLDc0+y5qEeSX6+XdUt+KZzZXYfLhZDbD/+GlzEnqtJvianNqBNV8/W638KNxBXbHlD7rw4rZQGFfdEZopJhp7PPjA3f8NLQQgC2r6A6ptUqRnmOArouLLkxZ1KH7M4IsVX0Q0BBh8RbQ6ClZ9EREREREN06qOkcPtncFXpw58bM72R3l82RH2/Cw0WIPs7cc2hdoTRUWCrY7tulrJrvjqDm1rtm9X2BytPiu+rP2T0EuyOJklXJBpVTnlmIovHWaZdsfn361CtVUdJn+ED2t1NFVsuZPtVsdtlS2483kdtN1wyiwUZPVTRRUj+JLfj8sZRFmtiT3w4oUt1XZBwGPrq8Me7k7NVG2cV/zmDbUapHO+l0hPz4xe8dVfm6O6j6NyjTO+iGgIMPiyuK2yZcHci4iIiIhomFod+6r4ipzzJTOzhAyFN3OmpJVQNOyNPt/LVAlJS2SsWWD9DbdXM75CFV+LXPuR6QlgoQRRKvjqo+LLWtHRzPcqykq1F9JCdmlY8CUVXUdP10Pu/7RqH17eXoNvP/mumpUlbZVzSrKApoP6MXlT7VbHndWt6icvIwU3njoLCTPBl7z3zvZSNYReB1+HGjtUy6UUBTy8JnyhgCNnluGUucVqdck/vbFPvyQr+MpI8cCTaiq+rPfJXtExjnbMsIovtjoS0eA5luqY2By5F1d2JCIiIiIaLL8P6Gh0VHz1M9w+2m3mcroOnJT8Gfq0UQcuNlMZVThHt0xKRZi0O845M67drXcOt6/vQDCjDeYQIc3Vg+NyalEmQ+pVq2OUiq+6HVGDL7vN0Vnx5Vhx8uoVM7B2fyN+/tLOsM0dO7MAaV5PWMXX5LwMZKZ60N6tw6qbT5+N3PTwwfOJrOqIYEBXypnLVvBlQsYXt1SpWV77m32AI4/ypmXi0yfNxWs7a9WAfWnrbO7Uj81J94YCLr8JvljxRUSjhxVfFvuvMAy+iIiIiGgCkva5mx98W1USDYlOCb2s79UZBY5Wx0QqvqzL5rGiwAq+GvZFr/jKnQyUH5nQyo4yn8rZqtfR44e/S6946HfrNsLj0g6i1Aqxeq3q2N0ONB4Ia3WsjhxsHzbc3prbBagh9yZQK89LxxXHTsM9Vx+N+z5yXK/XJV0qpuqrODsVHznJqn5LlARbaXnhVXnqxerwz5Oi91naHWX+WABuBJyrPKZk4JgZBarirLG9RwV35v3TwVd6RKtjR/wVXzIHzH4eBl9ENHis+Ioy44utjkREREQ00Tz4xl48u1kHMr/+8LGD36AJVNLzAY/X0eroCLekwsi0M6rbmvsPvmJVfJnB9nlTVFsg3v1H3APuJbwRckggQZUMrw906Rlf1TlLUN60Dke496DUCqhqWrtUC6D9x/MmCb2COkyy2gjtiq8cR5WTPdw+VPGVnuLBvz97Kpo6ejCzKDN85pYMh2+15mvlTlUnK2YXYcPBJnz27PlqQP6AZRYAXU3W72leWMVXWpre5/UHGkOdMd4Umdivz6dkwOtx48wFk/DE+sOqMuzYmbpqLEcq0EzAJZVe0kr56k9Cv5uEKr7Y6khEg8eKLwuH2xMRERHRRFbZpIOa/2ytQaNj3tWQzPcS0Sq+pM3OaVAVX6GWQJQv0+fjDL7MfC+pYJpZZIUt1oyvnRlH2gPuZV6XBEFyvFDX5qj6MkGWtDJaxxVm5cdJOVFaHdtrQ22F0p2ZlYpZxVnhoZdole3KhPxU+3289Zz5ePqzp+LDJ1jvw0A5BtzbAnqfPN5UHDlVV4TJodEJswvhdlZiWRVdZy3SM8ue31KFFmero8cRfK38AbDrJV29dd4d/e+Xsx2SwRcRDQEGX1FmfJnVS4iIiIiIJooaqzWv2x/AU+9UDH6DZrC8mR8VreLL2eYYreLLBGNpUWZ8SSulMzhrtobA504Byqzgq25X7zAtigZrvldhZiqmFurB7B6fbnXc6F6gTsvad8DrAoqyo7Q7mtbFHGt4vaPiKyz4yiwGXFbLYFtNv/tlV7HllMtqXHaFmFrtcbDs4Ku+V6ujtEKetbA0bA6ZvbiAowXx9AWT1BD+3TVt2HiwqfeML/n9vPIjff79dwGlixOr+OJweyIaAgy+osz4YsUXEREREU00pkJJPL7WClyGo+LLuapjr+ArVsWXI+iRIflmm86qL7viawqQPQnImayrpSo3xV3xlZ+ZgmkFmfDAD09QVzC93TUdncEUpPrb1MB8e86Xc8C9qfgyqzaGtTo6ghwJr6K0O8Zk5ntJ6+ZQi1bx5Qi+3ntEmW79zEnDeUtKddWZkaKrsmSw/orZOtj810b9/uekpTiqtqzjquNuAo68PL79kic1FWMcbk9EQ4DBl8VZVszci4iIiIgmkkAgaAc14u19Ddhfpyuehi74yu7d6hh38OVodYw250s6Nkx1lARfwrQ7xjHgvr6tx245nFaYiXSEWj33tHiwJWg9X8V6lFozu6qiVXw5gq+orY7O+zgG3MfkHNg/IsGXNeDfk4oFZTl4+KYT8PDHTtCrS0ap+BKmMqy2Vb9n2ariyxGSTTkWOO/7ie2bCc443J6IhgCDryhVX1zVkYiIiIgmEql48ll//V0xS1fwPLH+0BAFX6bV0THjKxCIr9UxVvAVOedLWup62sJDIrOyYxxzvkzFV0FmKqYVZCATOrQKwoUDrUFsDpjgayNKrAH3Vc1RKr6sGV4yOiXqcHtn8BVXxZejim2omd9LtFZHd4o9SH/OJCuwdFZ8OeZwnW3N+TJUq6NU6BXM0vt9+f3hQVg85HcnCwUUDHDVSiIiBwZfDqbbkcEXEREREY0Hmw414bnN/QcspjpJKp4uP3aaOv/4ukODm31rz/iKqPhyVn0NVcWXCYgyCkLtcQkMuDczvgpMxZfLCr5SMuAPAFswy96WaV2MXvGlg6/WLh86evQKiMU5EaFPzkAqvoYh+Moo7LPVsZewVkc9B01ML8rE/NLQ71at6uj2AJ98A7jl7YG1aX74ceDzm4CM/MQfS0QUgcFXlJUdOeOLiIiIiMaDTzy0Bh97cA0O1LfHFXxJqHPeEWVIT3FjT20bNlgDy4ek1VGqhNze6MGXGXzfGVnx1Ryj4mtmeMVXtIDIBF81W4EeR3VWFPWOiq/S3HTkuvXlHreubKrIXKjvWLEBpVbwZRYDiDbc3lR7Zad5kZlqvWbDCsfiqvhqGuFWx0Co1bGXsFbHUPDlXN3RrvhS90kf+Iwuea70IRjgT0TE4Ct68MWCLyIiIiIa67p9ARyo7+g1uD6aaqttT+ZRSVhz3hIdzjy+1lopcSiCL/muba/sGBF8mQquXhVfJvjKjd7q2NhH8JU7BUGpagr4EKh6N75VHbNS1PiTGbn6uKA9qEOutvx5OrTrqMf0lIbeFV8t4TO+og6271XxVd3nPoVVsuVNGfHh9r2EtTqGB1/OdsectIigj4holDH4ijLjixVfRERERDTWOVcdbOvy9XPf8HlUlxylg5YnN1agR3r9BqKjPrylzlm51d0SEXxN77vVMbL6xwRlUvElf7W2Z2E5KqNcLuxNmavO/vfVF/vc1Yb2HrviS0zL1scDzT4d4hTn5wKTFunbOneEz/jq6QC6dGVcMLsE/36nAl/6+8bog+2dFV+t/VR8+XtClWS5SRZ8RVR8LZ+Wj6KsVLtdlIgomTCOdzALO3LGFxERERGNdc7h6/0FX3aFUq4Oak6ZW4zi7DTUtnbhjd11OHXepMFXfAm74ivB4Cuy1TFP5pC5AF+HrpyKXNHRssVXrqZzVezdGt9weyu0mSy7WQM0+nQAVC4D7dMWAVXvoKhTqswWqfdG/mDusVoWA540fOi+zVh7QIdg8v594ow5vZ/MGoBvV4nF0lKhxuurwCmzGEPO/F5kYQBZzdHjDVvVMZFWRykg+Mnly7B6Tz2On+kIOomIkgArvhy4qiMRERERjReVTaFWPBm2Hk91mJlf5fW4cdIcHYxsHMicL6lWkkAlMvhKi9XqmGDwJasEmpBL2h1Nq6OjJVAG8+9oz1LnPe1V2FtrrfoYRb0Zbm9VfJVn6Cq3Duj3oywv3W6vzGw/pBbFkiaRutYuuyrrkC9PhV4ZKR585qx5WHnbGThjQUnvJ8u2rpPH9XXcYarYcsoB9zActslCAEoQ6GyMuqpjvBVfQl7rl967EG6zYhgRUZJg8BVlxhc7HYmIiIhoIlV8VVvzqkqkssmyeLJuL3z3cMTA+XjYqzW6wlfms1sdI4IvM7NLWiADgf6DL+djpN0xSqtjbWs3DvTox01CI/69SSqoepNWzpZOn72qpShJD4TN+CrPy7DbK92N++wWRjXnywq+qoL5WDI5VwVet54zX81Ki8qaA4ZAT2jly2iaDg5fm6OQCq/0/PDqvD5bHR3XyUIFRERjBIMvB67qSERERETjMvjq9vd9X6viyzmMXUIcsfnwACq+TJAiVUVuT+xWRxP8mJldzvlfUjXW095ruH2Xz68r2MxjGvdGHW6/o6oF1UEd7ExyNeLpd6LP1Gq05nvJoUBehg53itN0ENaB1F4VX1JhJis/mvc4aLU6ynNdd+JM+7aYvGmhaqu+5nwN52B7I7Mw/PfV56qOzoqvAa7WSEQ0Chh8OZiqXLY6EhEREdFYV+kIvvpqdZSWQLviyxpuL5ZMzlOne+va0dKpw6FBzfdyVm5J8BXwh9ohZe6VCVZMKOZse0zLUatU/v61PVjx/Rdxyg9fQn1qufVC3wlVkDkqvnZUt6I6qAOmElcj3jnUhAP1VpAWZb6XhF5m9Elhig4KO61Wx3IJvuygbT9Ks1PtRQFqKvar8/WufLx3qTW/qz9mwL0VmkUVbWD/UDO/n7aaBIfbs+KLiMYOBl/RZnwNcOEaIiIiIqJkUdkUX6tjc6cPXb5A2HB70/anAh8ZEl8RMXurP6aSKzL4MhVfElSp0Mv6g7O03DlDMcdp0JuBpzbX4pyfvoz//de7qkJLfv64xfrSvm9VaBupeqaX2FEdqvgqcrUgBT48HaXd0cz3KrTme4kMV5fd6iiHCKoSTqrJXB4VDs3JbLUrvg4d2KPO506ahtz0KIFRNKbiq6uPNtLmYW51FAUz9Wnt9sRaHVnxRURjCIOvqDO+WPFFREREROOn1bGviq8aq80xJ92L9BRHW+Jg2h3tiq+IFf7scKs1NN9LwjAZVu8IvhraurHynd3qYr0vDZ/681rsq2tXs7W+fsEi5GemYFWddf+26qgB0Y6qVjQgGwGXnrVVjCY8FaXdsTFiRUfhslosZbi9VMHJsH81EytfVpME5nhq1enhxg601+vKrLmzo6zgGEuqFRx1965A613xNYzBV/kyfVqxQZ/2uaqjuc4V/XYioiTF4MvBLJbiZ/BFRERERGOYtC86Wx37qvgKtTmGqr2MxVa7Y8ID7mMGX46Kr47G8OonK/h6e/s+HPe9F3D302vV5aZAOrJSPfjc2fOw8otn4MZTZ+NHHzwS+4MRKyZGzMLaWd2KINzwZxSry6XuBmw40IiDDeFhU32bbuMsyHRUNPV02MGXmu9lWO2O01w6bHtmcyUK/Lq6bf7cufG/P6YyrbttdFsdewVfcazqKCs6WgUDRERjAYOvKBVf8kWBiIiIiGisau7wobMnEFfFl8ypipzvZSwuNxVfzUPb6igtfqbiy6z6aA2wf3vrXvgCQczN1fs/qbgYa75xDj539nxkWSslnrukDOetWIauoCOgcQREda1dqLNaGN15ep7WiaV6btczmyqjzvgqcLQ6mkqsjmCo3VPfSQdfpQG9kqOsBjnJpV+HN9eaORYPZ8tnNDLY38z/ypuKYVO2VJ827te/j3haHSX4IiIaQxh8OXjsVR1He0+IiIiIiAbOrNJotHbFXtWx2qzo6JjvFdnqKPOyZLh84qs6xtHqaFd86ec6VKWrqT51cqk6zckr7NWCKf7nwiWo9jiqvnKnhlV7iWmFGfDk6EDqtDL9HjwdEXzZM74crY5mNckuVzpOnqsrxpwVX/lduhrLAz+KYM0ky9b7GxczIytWxZcKvYK68irT8fxDTd57M7S/YmN8qzp6GXwR0djC4MvBVOxyxhcRERERjZfB9oNpdZxakKFWO+zxB7G9KoEB92Zoe7pulewVfHVHC770ban+NhRnp2FKhi8sEIskYVjBlFB7YUtaSdiKjmJeSQ6QowOppXn6PVmzrwEVTbqVMaziK0rw9T8XH41rTrCCIccw+KyOQ+q0CM1wu4IIutxAVnHirY7W8/TSrLcPqSIz81hGot0xnlUdWfFFRGMMg69ow+0DDL6IiIiIaOwy871MFVPbAFsdXS6X3e6Y0JwvszKjCbp6tTrGDr5yXB04bV4x3N0xtuGQXRoaKL+mIaNXxde8kmwgW7c6ZvfUYtk03Vb5xu66UPBlVXxFm/GVkm7tr2FVR6U0H1ArwpdYbY6urBLA3bsqbcCtjnbwNYxtjkb5kfq0cmOcrY69/50QESUzBl8O8n9egrkXEREREY1lVVbF15xJWXHM+Ird6uhsd3y3IoHgywQ6kaGVGW4vwViM4CsbHTh9waTY4ZmTadMD8NLhUFgjrZlirgRfVsUXWqpw9HQdfG04EFqlsr69J8qMr7bwlsSIGV+u5kM4floWZqRa+2ieY6iG24/EYHujfLmj4quPVkdvWvT3hIgoyTH4iviLluCqjkREREQ0Hiq+5kzKtiu+Yi3gZCq+SjMCwLZn9GB1h8VW8LX5cCgs6pdUdDkrm4xU0+rYO/hqdWXYFV+nyFyteIIvK4gST+11obNHz/HaUWVVfJXmhGZvtVZiuVXxte6AtaKkzHVvjzbjqyN6yJM1ybouiPsuKccPzrPaK62qsrilmhlfMVodmw6NYPBltTrW7gj9Tvpa1dHLii8iGlsYfDl4rHeDM76IiIiIaCyrigi+pKPBucqjU40142vervuBv1wB/PdnYbcvmZxntzrGPRLEDq2y+xhuXx8WfO1o1F/Gp2T0oCg7Dehs7j/4KpytThqRg7qeFKzaXYem9h47zFMVXyaUaq22g68th5vR5fOHDbePNuOrV/AlfyjPn653u+0gcrqtlslsx5D9oWx1HM4VHQ3Zd7UAQFC3O8ZqdTRVaunRZ64RESUrBl9RZnzF+msYEREREdFo8vkDuOPfW7Bym175sL+Kr1nFVlgRo92xo9uPFuv63KZt+srtz4bdR9ol07xutHX7sa8+RoVSpO4YFV8mCAv6gZaKsOBrU53+Dm4PtTcD8mMMt1fKjgRO/wqenvFFdfHFLVV2m+PkvHRkp3lDbYitVZhekK5meXX7A9hS0YIefwAtnb7erY528JURu72yYZ/appJTNsStjiNY8WXeR+frjtbquOB9wIpPAKfcOjL7REQ0RBh8RQm+/Ams1ExERERENFKkounXr+zGD57e2uf9qqwqrrK8dGSlemIOuDfzvTJSPPC2WUHUobWhaivpbPO4sbAsJ/52x0DAMeMrIrRKCQVxaDygTzMKVCXZ2iq9f5NSuyOqxvoIvuT7+5lfRemJV6mLL26pxnZnm6OQwfNqv3xwdTTYA+43HGhEozXfSzYjq1f2anU0LYnR2isbHcGXaaeMl6kki7mqo5nxNQUjwrQ7GtEqvjLygfN/AEw5emT2iYhoiDD4crBm27PVkYiIiIiS0oF6HcjUtlrhUBRSxVTbas3tyk1HllQ9xaj4sld0zE2Dy4QtUo217/Ww+y12tDtGI5Vjv1q5C2/trQd6HFVMka2ObneoCqzTmrOVUYhNh5tQ2anDlqygFTrFM+PLctKcYhXeVTR14h/rD4VWdBTeVCCzSJ9vCc35Wn+gEQ3WfK/8jBR7oSvIsUCs4faiYKY+bdirtjewiq/s2BVfMmPNbDeZgi8iojGKwVe0VR25rCMRERERJaHDjR32QPZY4zlqWrpUdpPicaEoK1W3+8Wq+DKVYdneUOuh2PNKjAH30YOvX63ciR8+sxWX3bsKX3roNX2lyxN9EHpk+2NGAV7ZXoOWoG4rdMng+wSDr/QUD06ZV6zOv7lHzw6bV+p4HnvOV2VYxZc938vZ5uiT9yQYO/iK1uqYPdBWxygzvlToFdQD5mWY/kgot1odjWitjkREYxSDryirOjL3IiIiIqJkDr58gaCaudXXfK+SnHS43S674qut2xdzCP7cjHYgGIgZfC3pI/iSPxo/ts6aSQVgzQ7dwtjhzkS3P8oX68ggKyMfr2yvRQuskMm0WdozvvoPvsTZi8IHzM8tcTzODJ+XAfdTdfC1u7YNe2vbYg+2j1nxZYKvvY7gq2ToVnV0VpFJhdxIyJtmz1qLuaojEdEYNaBP0nvuuQczZ85Eeno6VqxYgdWrV/d5/5/97GdYsGABMjIyMG3aNHz+859HZ6f+P9lk4jEzvtjqSERERONQIt/hzjjjDPVHwcifCy64wL6PVBzdfvvtKC8vV9/zzj77bOzYsWOEXs3EdMgKvkzVVzRVTfp7dmlumjrNStMzvlq7/DFbHWelNugr0nVLI6reAdpq7fstKstV3RHSQrm1Mjz8entfAw42dKjKsn99+hScOUuHOnW+NNz33z29d9DZ/ujNQLPfizX7G9BqVXxBKr5kTpip+IpzFcEzF0YGX47nMa2ILZUq5JpRpPfx5e01sQfbS9WTR4eGUSu+ZFVKf/fAZnyZqjd/l25tdOqy5qil64BuRMhxkLPdkRVfRDSRg69HHnkEt956K775zW9i7dq1WLZsGc477zxUV0dfWebPf/4zvvKVr6j7b9myBb///e/VNv7nf/4Hycb8QYWrOhIREdF4k+h3uMceewwVFRX2z6ZNm+DxeHDZZZfZ9/nRj36En//857j33nvx5ptvIisrS20zGf/AOV7IDCvDDGaPVfElg+1Fn62O1nD7aV4r+Jq0CChZos/vfdW+X0aqB+ct0eHO718ND7Met6q9zj+iDEdMycPXz56mny+Yjn9ttOaGxWp1zCjAmn0N8AeCKCrSrYr2/C8TQPU13N5BKtzM/C4J/cKG1ZtgyqrQMvd7dYcO9wqzHPft7mNFRxPEOaujJKBKidLSGU+rY7Q5Xwm0eA7Lyo6CM76IaCIHX3feeSduuukmXH/99Vi8eLH6opOZmYn77rsv6v1ff/11nHzyybj66qvVXxjPPfdcXHXVVf1WiY3uqo4MvoiIiGh8SfQ7XGFhIcrKyuyf559/Xt3fBF/yh0Kp6v/617+Oiy66CEceeSQeeOABHD58GE888cQIv7qJQVoKK5pCFV9NHX0HXzLYvr/gS+aBiTLouVjInQzMOi1qu+ONp85Wp0+sP4Rq6zk6e/x4ygq3LjlqSlhw04YMbDrUjP11Ee18zkAnowCHGvRrmj6pINRi55w3FjkTrA/nLNYB13yzomOUii+xzGp3NAP/o1Z8OVegjFX15dx2IqSiSmagOZ/PSLDSbciw4ouIxqmEgq/u/9/efYBHVWZvAH8nk94bCaH33quADRWxCzZ0URAVFbv+rWtbu+vau7BiWRWxIirYQEQEpPfeEloSQkjvmfk/5/vunZZJSCCNzPt7nnFm7rSbC8LlnXPOV1KClStXqjJ2xxv4+an7S5Ys8fqa4cOHq9eYQdeuXbswZ84cnHfeeZV+TnFxMXJyctwu9Rl8MfciIiKipuRYzuE8SdX+lVdeqaq6xO7du5Gamur2nlFRUaqFsqr3bKjzvKZA2gxLXWZmmSsSVjqw3gi+zBlfuUWVD7ePK9ctf4hqWWnwNaBNDAa1jVH78OHiPWrb71vSkVNUhqSoYJzUIc5tYHtAiA6f5m5wCbG8BF9miNY8Otj5mLnCpAzHl1UZq+na4e1ww8nt8cA53dwf8Kz4auPeRuh1xldlFV/qBS7BV03bHIX8u6OylR0bquIrqZ/zNiu+iMhXg6+MjAyUl5cjMdH9D3e5Lyc+3kil15NPPomTTz4ZAQEB6Nixo5oZUVWr43PPPadOnMyLzAWrD1zVkYiIiJqiYzmHcyVfYEqr4w033ODYZr6upu/ZUOd5TW2+V5Wtjo4ZX9VvdYwsNYKvyJZA2+GAxQ84vAPIdg6tF5NP1VVfnyxNVu9ntjle3K+lGqTvGtxERet2wDnrD1bR6hiNNCN8S4xwCb6y9x1T+CMh3yMX9FAtl27McMqo+OqRFKlWvTTFeq348jLYvrYqvqpa2dEc7l/fwVdsB72KpFSiubZyEhGd4Op8mZAFCxbg2Wefxdtvv63mSci8iB9//BFPPfVUpa956KGHkJ2d7bjs3atXhqlr5t/VNs74IiIiInKr9urduzeGDBly3O/VUOd5TcGBLPfZaZW1OporNZrBV2WrOpaU2XDECM9CitKcwVdItLP6x6Pq66zuiWgfH6aqvN5buAu/b9Uz4i4Z0NLljXWQkxDfTBU2rd2XjX1HCrwPtw+JcW/NNNv7cvbXaL7XUZnhVJ7e3+AAK7onRVZS8VXovvLiUSu+arii49FWdmyoii8ZeDxhNjDxeyA0tn4/m4iosQRf8fHxaqhpWprxF6NB7svsB28effRRXHPNNeobQjlhGjt2rArC5Ns+m6zW4kVQUBAiIyPdLvU644vBFxERETUhx3IOZ8rPz8fnn3+O66+/3m27+bqavmdDnec1BQcqVHxVbHWU2Wuew+3N4MtzVcdDebrSSiqf/PMOOIMv0eE0r8GXdEhcf3J7dfuN+dtV26NUT7nN1DKCm+CwKAxppwOUnza4VAEGurc6OoI62V8z6DJbHWsr/DErvkrzHftnzvkSMaE1GG4votu5vPfxVnx5tjo2UMWXSOwBtBtR/59LRNRYgq/AwEAMHDgQ8+bNc2yT8EruDxs2zOtrCgoK1AwJV3Li1RhXT+SMLyIiImqKjuUczvTll1+quVxXX3212/b27durgMv1PWVel6zueLT3pONrdfQ32hS8tTrmFpehoKTcbcZXeJDVa6ujY7ZWmD8sRgugGm4vXOd8eZyzXzqglQqKzM1u1V6i2GjdCwrH+X2SKrY7esz4claoBbnM+Npfu+GPVJmZLZa57is7Vj7jK6x6FV/H3OoY7r3V0VHx5dGuSURE9dPqKMtgT5s2DR999BE2b96MKVOmqG8CZYUgMWHCBFXCbrrwwgvxzjvvqG8KZQiqrAgkVWCy3QzAGgvO+CIiIqKmqqbncK5tjmPGjEFcnDG43GCxWHDXXXfh6aefxuzZs7F+/Xr1Hi1atFDPp7qr+OqUoAOTLC+tjjkbf8NbAa+iVXARQgKtHhVfHsGXsaJj5/BCwF4O+Pk72/Zan6RXWMzZB2TucnudvO81w3TFk5w+X9TXCMtMZpATGI7RPZurdsdVKVnOFSldWh1Lg6Ic7ZYqqPMcbl9brY5uA+6NlR1dgy+vM76qqPiKktl0lmMfbq/eP7TqVR0bouKLiKgJ0n8L1sC4ceNw6NAhPPbYY2pwab9+/fDTTz85BpumpKS4VXjJEtdyYiTX+/fvR7NmzVTo9cwzz6CxMQq+OOOLiIiImpyansOJrVu3YtGiRfjll1+8vuf999+vwrMbb7wRWVlZajEjec/gYF1pRLXroDG0vkeLSGxJza3Y6mizIe73+3C+dS92BA+S2iz3GV8ewZesEik6BWXrDRFJgJ/VOX+q1SAgZQmQshSI61hh9cSF2w5hcLsYJBiVZd6CG5nbJStBLt9zBHPXp+I6aZN0GW6fbdfhTqC/H6JCAlyG29dyxZf6+ZoDmTsdA+47xIepmWUVWh3NIKqqGV8BwUBiL+DQZiC+cy23OjL4IiJq0OBL3HbbbepS2TB7tw/w98fjjz+uLo2dWfFVzoovIiIiaoJqcg4nunbtWuVoCvlyU1bvlgvVX8WXzNT6BvsrtjomL0JInl4sICnIOQ+sslUdM3J1cNY24Ih7m6OpRX8dfKWuAzDe7aHYsEDMurWSWVBmxZcR3JzbK0kHXxsO6uDLpeLrsC3UUe0lv58cFV4yi0uYw+5rg1nNlqdbHWUVyv9OHORl/6uxqqOYMAsoPFIHrY4NOOOLiKgJqvNVHU8k5owvFnwRERERUWNSVFqOw/kljoovr62Oq/7nuNnM37kCZFig9+H2h/N1xVcLv0z3wfam5n309UEJvmrArFgygp1ze+tgaEXyET1XzKV9MbU01Dnfy1vYU5vhjzmE3gi+KmWu6ni04Css/tirvdxWdWTFFxFRXWLw5YKrOhIRERFRY672Cgu0ok2sDkyyC0qdFXmFWcDm2Y7nx1kLjl7xZbQ6NrMd9l7xldRXX0vFVyWrsXvlMtxevU1UCLomRqgvlzccyHZrdTxYoudoSUukfo1HhVettjomug23r5RZbXa04Ot4OVodK5nxFczh9kREtYHBlwuj05EzvoiIiIioUTmQpSu4WkSHOAaxl5TbUFhqVHGt/xIoc1Z5RVmcYUqYsaqjPNd1pIfZ6hhbfsh7xVd8F8A/WLfieQy4r5JHq6Po0EyHPLszCtxaHfcWBnkEX/VR8WWsYHm0iq+qZnzVavDl0uooASMrvoiIahWDLxdc1ZGIiIiIGnPFlwRfoYFWBFj1eau5IiJWfayutvl3UdfhdmeYYg63F/klzqqvDKPVMaIkXW+I8gi+rP5AYk99O3XtMbQ6OoObdvFm8JWnV0GUQfrxXbHP2E21oqPX4Cuy/iu+SqqxqmNtcMz4yveoNjP+LcLgi4ioVjD4cqEGaqqKr4beEyIiIiIip/0uwZecs0YbVV9qZceDa3U7ojUQn9pHq+0hNmfwFeTvB3/jC17XdseMXB18BRemeq/4cm13lM+oDumccFQsOSu72sfp4GuPVHz5BwG3rQBuWojUHL0PCfUy4yuxmhVf1Rxuf7zM9zc/T5jHzs9fV9sREdFxY/DlwmocDa7qSERERESNseKrZbQOQ6JDAhxzvsyh9rau52NjYZy6HVSa4/blrln1ZQZfJWU25BSVwQ82+OeneZ/xdSzBl7Rb2o32S5dZXs6Kr3xnKBYQjHQjfHO0Onqu4libFV9mq6OsxFimP/e4htvXWqujS8VXkcuKjsaX8kREdHwYfHld1ZHBFxERERE1HgeynRVfIjpUB185ebnA+i/U7SPdxuGIXYcpfiXO4Mt1wL25sqO5omOSXzYsElRZrM6KqMpWdqzOObI52L5C8BXq+DlkhUrznDs1u8ij1bEOh9uHxgJ++rghz2jvbNDh9maro8sx43wvIqJax+DLBVd1JCIiIqIGN/cB4JXeQH6GY9NBY7i9rJAookJ0q2PE7l+Aomwgqg32Rg9Fjl2HNRbZ5rISozngPq+ozG2wfddQIyCTmVt++jluEnrotrvCTCB739H3vcSc7xUO+Dn/qdEsPEiFb3KavTdTt/blFpc5hvPXy3B7Odc3w73D2xvBcPvQiqs6FpsVX1zRkYiotjD48hJ8sdORiIiIiOpKTlEp/vPzFmw8kO3lwQPAsqlAdgqQ/JejMsqc8dXSo+IrImOVfl33C5CaU4IcGO1zdptbJZHZ6phntDqag+07BmVX3uYoAoKBZt2r3+7oGGzvrPYy2y3Nqi+z3THNqPaKDPZHSKC17ofbi7bD9fUP9wCFWQ083N5LqyMrvoiIah2DLxfGzE/YWPFFRERERHXkye834a3fd+KlX7ZVfHDNZzq0MkMwAJn5JSgus6mCpcQoPQQ+xgi+wvL26Oc264a0nCIUIxClFqOdryirQqujOePLHGzfLiDb+4qOrpKMdkcZoF/dVkeXwfamduaA+8NG8GUMtndUewkZ6C4VZqbaDoDO/beqjsOR3cCsKW5VcRWH2xvBVF1hqyMRUb1g8OXCaiRfNpZ8EREREVEdWLEnE1+t1C2DyUYA5CAhzGo9qF4xWgsPGG2O0i4Y5K8ro8xVHWMKjOArvgtSc/TziqxGlZS0O3oGXyU6+Dqcr1sdW/hlVr6i47EMuDdDHC/BTXvHgHsdLJn72zzKJfiSdM+s8pIQzF//nLU65+uKj9QKmNg6B/jr1SqCr5AGWNXRZbg9ERHVCgZfHiXYgrkXERERER2VrA5YA2XlNjwya4PjvrQvui2qlLwIOGIEWS4VX2aboznYXkSFBCAYxYgtTdUb4js7WgfLAo3QxKWVz2x1LCzIUysamhVficio3eCrklZHt4ovs9XRCL4SIlyCL9fQp67Cn5YDgPP+o2/PfwrYtcD5WHkZUF7i3opYV8z3l88rMz6TFV9ERLWOwZcLq3E0ypl8EREREVFV1n8F/LsdsOKDar/k4yXJ2JKaq0IrUVRqU22MDquMaq/w5m7B1wGP+V7mjK/2FiP0CokBQuMcFVS2oGivrY4hKMLVSy8A3j0ZBdmH1PbY8oyqZ3yJxF7yFTGQe7Dq1RCPEty0i/dsdTQrvnT7poNZ8VWX4c+AiUC/q3Vb6Tc36cDLs/qqzmd8hVdcSdI8fsG1PNuMiMiHMfjyMtze7Zs3IiIiIiJP+5br6/0rq/X09JwivPKrnun1wDnd0CwiyK2NUVWPbZ6tb598t77O2W88x6z4clZGRYcEoqPlgKPNUVoEzeDLLySqQqujrOrYzpKGsNIjQMY2XLH3aVhgQ2Rx2tErvmReV1wnffvguuq1Onqp+DJbHQ9mF6GwpNwRfLnN+KqPii8h5/3nvwhYg4C8VCB7r/uKjhL0SatlXZI2TnOemTlQn62ORES1jsGXl+CrnMEXEREREVWl4HCFqqqqPDtnM3KLy9C3VRTGDW7tqN7an1XgrCArKwISegLdL9TbpMLKVo4D2RVbHaXiyxF8xXVWV+nGsHj/sFivrY5xFiNUAdCvaBnu9P8GIcWHjj7c3q3dcc0xD7eXgfyygqNIzsx3DLevvNWxjquepKIruo2+nZXsMd8rVIdjdc1zZUdHxRwrvoiIaguDLy/BFzsdiYiIiKh6wZezqqoyMtNq1poDKkd5akwvtaBSyxgdYu07YlQYrfpYXw+4BohoDlisgK0MyD/kqApLivIIvvx08GWP74y84jJ1EcERMRX2TVod45DtFqrc5f8NLPZy/VnhiVX/ENVd2bGK4fYyT9es+pJj4mx19Ai+zDa/+gh/Ytrq6yOewVcdtzlWtrIjZ3wREdU6Bl9eZnxxVUciIiIiqlbw5VJVVZnVe/UQ/P6to9GnlZ6/1cpR8VWoh8ZLoCQrDfYZB/hZdfglsvdXMuMrEB0sB9XtkuhOSDUG20cE+SPArPhyqUYLC/RHvFHxZe98NmaUn+ncQfks+czqVHztWwls/01fdvxW8ec3W/XMAfuVzPnaeSgf6eaA/cig+m91NEW39aj4MoLIQGPFxbrmubJjEVsdiYhqm9FUTu6rOjL4IiIiIqIqFGRWu+Jr/T4dZpihlzArvvZLxdf6WXpjtwuA0FjnsPmc/cjPSMahvKAKM77CAiyO4Cs7vJ1zXpZUT4VEe5nx5Wx1LA6Kxb9KL0BPyy708dtd9XwvU3Oj4itnH/Dppc7trU8Crv+5Wq2Oris7rko+ohaUktPvZuEewVdwVP0NePes+DJbDs1Aqq6x1ZGIqM6x4suFlJ2LcltD7wkRERERNZUZX+v36+f0bmkEOi7VW6riK3O33th2uPNFRhi1av1GyHeyPZIiERsW6HjYknMAoZZilNqtOOyf5Kj4ai6D4s3gyKUaS1od441WxzxrDIoRiPut9+l5YiffdfSfVwK5U+/TlV9ykVlkQirVXL80rmK4vTBbHZft1sFhfHgQ/M22C1PvK4DOo4F+/0CDVXzVW/DFVkciorrGii8XRu7FVR2JiIiIqHISjri2ptlsgJ/375OlqmnjAbPiyxl8tXANvkJS9UazvdEl+Nq9S1aCHIDJp7Z3dCcoGXqFyGR7IrKK4VjRUa2QGOyt4svqqPjKsuj9KItoBYz7pPo/9xmP6It5DJ5pro+DhH8hMR4VX1W3Osqgf0dQ5ymxBzD+C9SLCjO+6rviK9RjVUdWfBER1TZWfLngqo5EREREVO02R8XunGvlxa5DeSgoKUdooBUdmoVXaHXMKiiFLS9Nbwx3Db5aqKvoskMqHLqgj77vcHiHutppb4GsghKXQfFBzoovl2o0NdzeooOww0bwFR/urCCrMRn+Hhqnb2fvd253BDeVVHwZrY6mCvO96ptZ8ZWfrsOn+p7x5drqaHf5vcSKLyKiWsPgywVXdSQiIiKiarc5mqqY87V+v36sZ4tIx1gNERkcgIhgab6wA7lG8BXhXFnRblR8JVkO47qT2yHAsx3QqPhSwVdhqXPGV2TlM77M4fbp5TpUifOcrVVTRjiHHL26pFKSW+Vw+6jQALeWTbW/DUkq1YKMoDArxVl5VW+rOprBV54x58v4hwiDLyKiWsPgy4V5MsJVHYmIiIio+sFX5XO+1u3T4VMvl/lernO+opAPP1uJ3hDuDL5WZeuKoxaWI7hySJuKb2wEX7vsSapqLDXHXCHR+4yvsEAr4qCDr+Qi/d4VhsrXlDkUXwbeV3O4vWgXF9p4gi/54jumjXPOl9nCGuBemVZnzM+R0Mus9rJY6y94IyLyAQy+XJhfwnFVRyIiIiKqdvDlEjB52mBUfLnO9zK1iglBgiXLWXnk7wyiPling6zmfpmIDLRWfOMMo9XRJhVfJUhzG25vVHyVFQJl+n3CLEUIseiAbUuuDpviXCqvji/4cq34qnrGl+ucL8f+NrRolzlfpQ1U8SWfa7aJymqWrvPciIjouDD4cuHnWNWRwRcRERERVWfGl24p/GRpMs5+5Q/szsj3OtjedUVH14qvBMuRCtVeEpbNTZa5sxZY7eV6/pQrCUhyddi0056EzLwSHMozgrKoYGMwusWt3dG/UId1hfZAbMssV7fjI2q51bG8FCgrqnJVR885XwkNPeNLxLTT10f2NFzwJYEhV3QkIqoTDL5ccMYXERERER1Lq+M3q/ZhW1oepi7c6di881AeCkvLVZth+/iKQZAMuE9AVoXg679/7kI5rMgNMIbH57gMjxcZ29VVYWAschCOHYfyVMgmYzvipX1RVpiUqiH1JOP98zPU1WFEIjlTD3BXz62Niq9so9XRDG5qUPHV4K2OrhVfqtXRHG5fT62OZkDo2urIFR2JiGoVgy8XVkfwxeSLiIiIiKo/3P5IQam6+d2aA8gtKnWb79WzRZTbYHtTy+hQNDNbHSP0io5l5Tb8tllXePnHtK7YSugSfBVEdFDX21JzHTO7HJ/jWNnRGHCff0i/1B6J4jKbuh13PKs6iiiPVkezzdEaBFgDKn1Z+8bW6hjj0upY78PtjXln8rms+CIiqhMMvlyYrfQMvoiIiIjoqMGXxTiVLsxCZr6en1VQUq7CL9f5Xr29zPdyVHxZ3Cu+ZBXIvOIyRIUEICzeGLqe7VHxdVgHXyUxndR1foluXUyUNkeTOefLHLzvCL6c+1J7w+33A3L+7BhsX3Vw07FZuJov1jYuFNGhlQdkDVPxlV+/w+0drY5S8cXgi4ioLsgaymQwvyHjjC8iIiIiqlShMeMrqrUKS2yFWcgu1FVe4rO/UzB+aBus25dV6Xwvc8ZXihF8lYUlqhPzxTt1qHZSh1hYHBVV+72u6GiP6+K2OdF1ZldItNeKr8MuwddxV3xFJOlrmYslAZsjuKl8vpfatUAr5t97ujr3tjSGIe7RRsAorYY5B+u54stsdcwDitjqSERUF1jx5WXGFwu+iIiIiOioFV+xutWwJN857D7I3w+bDuZgVUqWuq6q4is+PBCJfjr4yvKLVdeLd+pZXMM7xntfNdGl1TEg0T34UoPtTWarY+GRCjO+RGigFaGB/sffphcS69zHEiP4Cjx6xZJUtIUHNZLv4OXnCEvQtw9tcW6rDwGhFVd1ZMUXEVGtYvDlgqs6EhEREVG1V3WM66iuyvJ1eCVte+f31lVQT/2wCUWlNhXuuK5i6EqqnZL8dEVWqi0SRaXlWLFHB1UjOsW5rJroUvFlKwcO6wH6IS26ub2f26D44MoqviJrZ7B9hQH3+11aHauu+GqUzDlf5oB5M5Cq11ZHs+KLwRcRUW1qJF+zNA7mLFDO+CIiIiIir+Q80aPiy26snBgbGoh/DG2Db1bvR5v9c3B9wArEhQTB7+vP9fN7XAz0HOP2ds2MVR33lUUhNyVLDZ5vFhGk5mChyEurY1YKUF6sBsiHNWsPq992x5e2boPiHcPtzRlf6Y7h9rXS5miSdsy09XofzYH2J2JwE9MO2Lfceb/egi+XVkdHxRdbHYmIahODr11/APOfBuK7wNrxEbWJwRcREREReSUtaWVFbsGXxaiqigkLxMC2MeiSEIZns/+LcEsRIE/daLx25zwdfplzrUryEWLXqwjuLgxHoaPNMU7PvnLM+DoI2GzSngAk/6W3NesCi9Uf0SEBOGwM1ndrdaww48tsdYyq5YovsyrtABAa5x7mnEjMAff1HnxxVUciorrGVsfyEmDfMiB1rWO4JjsdiYiIiMgrs9rLGuho87OWGMFXaKA6n7x2QIwOvWSVxl4PAuc8r1eAlBAqL835XsbtAnsQdudaHIPtJfhyrPQor7OVOloVsep/+rrnWHUV5bIqotdWR6MarWKrYy1VfLm2Y1ZzuH2jbnU0BdZzq6P8Gpu/t4JZ8UVEVJsYfIU109d5hxyrOrLii4iIiIi8MsMJqW4yqqoCSnXgExemw6QLO1rVdZY9DFEj7wROmqJb6VxWZFRydfCVbo/GtvR8rNmb5RxsL6R1UMIvM1g6tBXYuxSwWIG+/1CbpeLL+3B7s+IrS88FM/bbbHWsvYqvVs79q8Fw+8Zf8VVPqzoGuMx/y03V16z4IiKqVQy+zJOJ/EPwg03dtLHki4iIiIiqGmwvwZcxR8vfVowglKhWRxFRqtsK/aOao02cUTkU36Vi8JWng450RKvQq8xmR+vYELSOdak2cqzsuB9YbVR7dT4biExyVJmJsECr+yqJjhlf2XplR7s+zz2CiLppdWwqw+3ru9XRPxDwM8JLBl9ERHWCwVeY8Y2avRxBpfpbNuZeRERERFR18BWrK5ukFVHyH+QjNizArZIrPM4IrURcJ32dscO5zXjeIbsRUkm1Vwfj3NQzWDqSDKw1huQPuMbxsNnqmOha7eU640taHY02x5KAKJQZI35rbbi9I5g7cGLPqJLKNamkq+/gy7XdsTj7xD1+RESNGIMvKSEPiVU3g4r1iYy5Mg4RERERUaWtjjJs3liBL9JS4Ki+cszxCm/ufJ3Xii8z+IpxbBreyZjvZYoyWglXfqgDrLAEXfFliA4JrLiio2fFlxF8lQY737vWK75K852rT56Iw+2t/s7FBOo9+PI4XlzVkYioVjH4cml3DC7SJwWc8UVERERERw2+XCqrolTFl0fwFWGM1HALvrY7txnPKwxyVnkNMwfbewZLh43X9fuH/uLWYFZutYj2mEnlmPElA/XT1c3yUOfn1NpwexkCH2IEdzKD7ESuWDLnfMnCBRKE1RfPQfon6vEjImqkGHyJcD3gPqhYn8gw+CIiIiKiKoMvo2PADJgiLfmOGV+OWU1uFV+d9XV2ClBS4PY8W5gOyDonhCMhIth78GXq72xzFJcOaIWrhrTBDae0917xBTuQuVvfcgu+aqniS+2jUZVWkHHiVny5zvmqr8H2nq2OJlZ8ERHVKgZfQkrG5e+cIv2XNTsdiYiIiKhaFV9GwKQqviq0OrpUfKlVII3KqMydbs+zRulB9cM9q71cQyXRZjgQb8wKc1nJ8blLeqNbc4+wJCAY8A92qxbzM77sDbT6IcplNcjj5hnOnagVS9HtKq60WB9cg0KZM1bfwRsRURNXjzW8jZhxUhJkBl9MvoiIiIioGsFXeVAUrMaMr9hwj4ov11ZHi0W3O+79W8/5at7b8bwzB/fBuuAA3Hhax6pDJZeh9tUi1WiycuRhPVA/PK4Frj6pDVrHhMIi+1NnwdeJWvFlBl/1HDy5zhOT0LA2f22IiIjBl2J8+xXgqPhi8EVEREREXhQeca7qKAvx+UdAYosYSz4igvwrH25vtjuq4Gs7UF7qaA3s3KEj3u6jz0criEgCYjuqFcjR4+Ka7atUo0nwZawkaQlrhqdP741a5zoU/kRudWw9GPAL0KFkQ7U6ss2RiKjWMfhyaXU0g69yBl9EREREVI2KrwK/cBV8JQQW6yoqmd9VnFOx4kvEGXO+pOLLWGkRfv7OtklvZMj6lMWAraziLKijMQbvozhbX4dVEq4dr8iWTaPVUSq+7t1W/+GTW/B1gh47IqJGjMGXS6tjYKHZ6tjA+0NEREREjY98OeoRfOVZwiAj4+Othe7VXv4hFQMU15UdzXZI+QLW7yhjd2Ve17FwDLhHHQdfTWTGl0slX71yrZALZsUXEVFt43B7l1ZH/0L9zRtbHYmIiIiogpI8oLzELfjKhg4tYqwFHm2OCRVnNZnBl8zc8jYHrLYZK07WffDVyn04uzlUn6on0GPGFxER1SoGXy6tjv5Fh+EHG4MvIiIiIqrIrPaSai4jrMgq14PQoy35+jFHoOUx30vEtNWtjaUFwP6V3ueA1aYKFV9Sm1bHFV8y2J7D2WuGrY5ERHWKwZfjJMACi92GGOSinK2OREREROTJ0ebobIc7bNMBWIQ936Piy0sllzUAiO2gb+9ZVPcVX+aMLyFD2z2DsNoiIWBIjHGbwc1xtToy+CIiqnUMvsyTEOMEJt6SDTsrvoiIiIjIU0FmheDrUKlu6wuz5x294su13dFR8VWXrY5R7m2OdVmJZQ64Z3BTcwFsdSQiqksMvjzaHZtZsrmqIxERERFV5DHYXqQawVdwea7ekJdedaAV10lf20qrfl5tz/iqqzZHz3ZHaXWk42h1rKOqPCIiH8bgyyQDSOVLOGTDZmPwRURERESVVXw5g68DhTr4CizL10uD56VWHWiZFV+myirD6qLiqy6ZFV+ubXtUPWx1JCKqUwy+PIMvSzaYexERERFRdSq+9hcFqGsL7EBxNpCbVr1WR1NdDrd3nfFVX8EXK75qjqs6EhHVKQZfFVods7iqIxERERFVK/hKL7CjwB6k7xRlV6Piy2h1NEU0kVbHbucDzboDvS6t289piriqIxFRnfKv27c/MSu+ylnyRURERERHCb5kQaQjBSXI8Q9FKIqB/MNAfkbVFV+y+qFUX+Ufcvvy9YRvdUzsAdy6tG4/o6liqyMRUZ1ixZdH8NUMsqpjQ+8MERERETXaGV8SXskc++IylJbbkW03KnYOb5c4DLBY3arCKm13DIkF/AObRqsj1dKqjpENuSdERE0Sgy8TV3UkIiIi8m3Sqnh4p+PuJ0uT8d2a/ZVWfB3J1ysz5lmM4OvQVmfI5Get/HPiO9f9YHsRKNVDFrcveamRtzoGM/giIqptbHX0OtyewRcRERGRz5lxFZCyBLhjNQ4HJOGRWRtg9bPg9K4JiAoJqBB8ZRaUqOtCawRgA5CxrXpzu8yKr7oOvvz8dNVX4ZG6n/FFtTTji8EXEVFtY/DlEXzFIgcWu03NbLBYjG/IiIiIiKjpO7QFsNuAtI04GKHbGWX268rkTJzRNQEozHQPvvKL1XWJfwRQ4lLxdbSVGnteAuxaAAyejDp36v3AwbVA8z51/1l0bKwBwGkP6ICyLhc7ICLyUQy+TKHxsMMCq8WOWORC5ttbmXsRERER+QabTQcPIucA0uxFjof+3p2JM9oFA7YyvSE0Vl1lGq2OZYGROvjK3KUfP1p4EZkEjP8S9WLYLfXzOXR8Rv6zofeAiKjJ4owvk9UfduPbO7Y7EhEREfmYklxd7SWy9yEtR1dzieW7M51tjgFhQECIunkkX7c62oKM1RPt5dWr+CIiIqJ6w+DLhd1Y7UaCLylrJyIiIiIfYVZ7iZwDSM91Vnyt25eNouxD+o7Lao3mjC8Eu6yeKDhInoiIqNFg8OXKCL6aIQss+CIiIiLy3eDLteKrzGbH7uQ9+k6onv3lWvFlDXNuq5eh9URERFRtDL5chSc6K76YfBEREVET89Zbb6Fdu3YIDg7G0KFDsWzZsiqfn5WVhVtvvRVJSUkICgpCly5dMGfOHMfj5eXlePTRR9G+fXuEhISgY8eOeOqpp9QiQSd28LUP6Tm64ivAGPp6MGW7fiyqteNpmUbwFeAZfLHVkYiIqNHgcHtXYbosnTO+iIiIqKmZOXMm7rnnHrz77rsq9Hr11VcxevRobN26FQkJFVvzSkpKMGrUKPXYV199hZYtWyI5ORnR0c62vn//+99455138NFHH6Fnz55YsWIFJk2ahKioKNxxxx04oRQYKzaaFV+WQnXz1M7NMG9LOgrTdurHots6nnbEaHUMjtDD7h24Mh8REVGjweDLVbjR6ijBF2d8ERERURPy8ssvY/LkySqYEhKA/fjjj5g+fToefPDBCs+X7ZmZmVi8eDECAgLUNqkWcyWPXXzxxTj//PMdj8+YMeOolWSNvuKrvASlOTLTKxgX9m2hgq+AvL2AFH/FOIOvw0bFV0iEc+6XaxcBERERNTy2OrqwmK2OkIqvht4bIiIiotoh1VsrV67EWWed5djm5+en7i9ZssTra2bPno1hw4apVsfExET06tULzz77rGpvNA0fPhzz5s3Dtm3b1P21a9di0aJFOPfccyvdl+LiYuTk5LhdGoXCLLe7gQUH1fXwjnGIDQtES3t6xYovI/gKj453vlAG3fsH1csuExER0dGx4suFX0SCo+KLqzoSERFRU5GRkaECKwmwXMn9LVu2eH3Nrl27MH/+fIwfP17N9dqxYwduueUWlJaW4vHHH1fPkUoxCa66desGq9WqPuOZZ55Rr6nMc889hyeeeAKNuuJLjg0yscmvA+LCgzC4XQxa7zBWdTQqvuRcMauwVN2OjHGp+OJgeyIiokaFFV9eZ3zJqo4MvoiIiMh32Ww2Nd9r6tSpGDhwIMaNG4eHH35YtUiavvjiC3z66af47LPPsGrVKjXr68UXX1TXlXnooYeQnZ3tuOzduxeNMfhKshxGfHggrH4WnNwqAJGWAv1AdBt1lV1Y6lgFPDo6FrAYp9VscyQiImpUWPHlyjhRiUUu0svLGnpviIiIiGpFfHy8qshKS0tz2y73mzf3XqEkKznKbC95nal79+5ITU1VrZOBgYG47777VNXXlVdeqR7v3bu3GoAvVV0TJ070+r6yOqRcGguZ6+rnZ3EGXwGhQGkBkiyZSIwMVpuGxeaq6wx7FGL8Q2F1WdExItgfAf5WIDhKvwcrvoiIiBoVVny5Co2DzW6B1WIHCg439N4QERER1QoJqaRqS+ZxuVZ0yX2Z4+XNiBEjVHujPM8ks7wkEJP3EwUFBWpWmCsJylxf05h9+ncy+jzxC1bsyXQGXwnd1VVzSyYSInTw1d4/Q12n2Jth88EctxUd48ICnbO9BCu+iIiIGhUGX66s/jiCCHXTkmcMMCUiIiJqAu655x5MmzZNtSFu3rwZU6ZMQX5+vmOVxwkTJqg2RJM8Lqs63nnnnSrwkhUgZbi9DLs3XXjhhWqmlzy2Z88efPvtt2r1yLFjx+JE8MfWQ8grLlOrNjqCr8Re6qqF5TASI3VlmjUrWV3vtSdguYRksqJjng6+YhzBV5S+ZvBFRETUqLDV0UMGohGHHFgKGHwRERFR0yEzug4dOoTHHntMtSv269cPP/30k2PgfUpKilv1VuvWrfHzzz/j7rvvRp8+fdCyZUsVgj3wwAOO57zxxht49NFH1dD79PR0tGjRAjfddJP6jBNBTpEeTr8jPa9C8NUczoovHDGDr2aY8edu1eYogZmIDQ10zv46uAaI71z/PwgRERFVisGXh0yL/raOFV9ERETU1Nx2223q4s2CBQsqbJM2yKVLl1b6fhEREXj11VfV5USUU6jDq53puS7BV091pWZ8RRihllHxdRCJ2J9ViDfm73C8h6Pi69wXgN6XAZ1G1e8PQURERFVi8OUhE3o+g1+BnuVARERERE2TrMwoMjKPAIH6NhJ7qKsgSylaBRW4VXzde+Uo9C3qjoXbDmHRjgxkFZRiYNsY/ZzIJKDHxQ3xYxAREVEVGHx5OGyJBuwSfB1q6F0hIiIionpodQy36VUbYQ1UQ+pl9EU8spDklymrAABZKerhmBadcUVsa1wxqDXKbXYVnMWEBjTkj0BERERHweH2HrItkerar0gPLiUiIiKipsdmszvmdEVb8vTGkBiU2ew4YNNVXPHlGUBeGlBeDFj8gKhWjtdb/SyIDQuExWJpmB+AiIiIqoXBl4dcS7i69ivKauhdISIiIqI6kltcBrtd346y5OsbITHIyCvBQXucuhtRku6Y74XIVoCV1V1EREQnGrY6esi1RKhrK4MvIiIioiYrx5jvJaLhrPhKyynCQXusuuuXux8I1t0AiGnbIPtJREREx4fBl4c8M/gqZvBFRERE1NQH27u3OsYawZeu+ELOASAg1HgSgy8iIqITEYMvD7l+DL6IiIiIfGWwfaDVDzFGxZc9JBrpucWOii8VfPkZ7Y0x7RpsX4mIiOjYMfjykO8IvrKhBj9wYCkRERFRk5NTqAfbd20egZh0PeOrwBqJ9JwipJrBV/Y+5wvY6khERHRCYvDlIc8IvvxsJUBJPhCkh90TERERUdOb8RUfHoiW2UVAGZBRHoq0nGIcgEuro00HZGx1JCIiOjFxVUcPJZZgFNuNPLDwSEPvDhERERHVYatjZEgAmgcWqtsHS4KRlluEdHuMflJ5MZC9V99mxRcREdEJicGXBz8/P2TDqPJi8EVERETUpCu+IoMDEG8tULeTC4KQnlOMEgSgJMio+hL+wUB4YkPtKhERER0HBl8erH4WZNnD9B0GX0RERERNUk6RbmGMCglApDHcfmdeANJzi9Tt8ogWzidHt+HcVyIiohMUgy8PFosFWaz4IiIiImrSss2KrxB/hJbnqNsbj1iRkVeiblujWzqfzPleREREJywGXx6sfkC2ncEXERERka+0OgaUZDtaHUWA1YKAmNbOJ3O+FxER0QmLwZcHP6n4YqsjERERkU8Mt48OLIelTLc3mueACRHBsESx4ouIiKgpYPDlLfhiqyMRERFRk5ZTqGd8xfnlq+ty+CEPIep2s4ggINIl+GLFFxER0QmLwZcHP4t828fgi4iIiMgXZnxFQQdfhf6RMu1V3U6M9Ay+2jXMThIREdFx8z/+t2h6qzpmg62ORERERL7Q6hiJXHVdFhjteCwxMhiIjHM+ma2OREREJywGX15WdTxij9B3GHwRERERNTml5TYUlJSr2+HlOviyhMYAmS7Bl4Rdnc8GgqOBEGcoRkRERCcWBl8erGrGFyu+qBFa/KY+8e5/dUPvCRER0Qktt0jP9xIh5TnqOjDcWeGlZnz5+QHjv2yQ/SMiIqLaw+DLg5zjcMYXNTr5GcAvDwN+AUDff+jfqERERHRc873Cg/xhLc5St4Mj4xASYEVhabmu+CIiIqImgf969rKqYzZXdaTGxvy9aCsFSvIaem+IiIhOaDlG8BUZ7A8U6P5GS0gszunVHPHhgejdMqqB95CIiIhqCyu+vARfWXaj1bGsCCgtBAL00tZEDaY4x+V2rnwt3ZB7Q0RE1DQG24cEOL9cConBK+f2Q1m5Df5WfjdMRETUVPBvdQ9+FiAPIbBZrHoDq76oMSjOcw++iIiI6JjlFJZ5Db4EQy8iIqKmhX+ze7BK8gULSgKMEncGX9QYuLY3MvgiIiKqlRlfkcEVgy8iIiJqWhh8ebBYJPgCigOMVjIGX9ToKr5c2h6JiIjoOFod/YFCPdyewRcREVHTxODLg9URfEXrDcbAU6IGVeJS5cWKLyIioloabu9S8RXK4IuIiKgpYvDlwc84Iqz4okZb8cVVHYmIiGql4ivKy4wvIiIialoYfHlZ1VEU+zP4okaEM76IiIhqTbYx3D46yA6U5uuNDL6IiIiaJAZflQRfRf4cbk+NiGvYxeCLiIioVlod4/wKjC0WIMg49yMiIqImhcGX11UdJfhixRc1IhxuT0REVOutjrFWs9or2jnvgoiIiJoU/g3vwSj4YvBFjQuH2xMREdV6xVcMjC+W2OZIRETUZDH4qmRVxwIGX9RoK74YfBEREdXGjK8IO4MvIiKipo7BV6UzvszgK6thd4hIcLg9ERFRrbc6htuNv1MZfBERETVZDL48+BkzvgqsrPiiRoQVX0RERLWiqLQcJWU2dTu03JibyeCLiIioyTqm4Outt95Cu3btEBwcjKFDh2LZsmVVPj8rKwu33norkpKSEBQUhC5dumDOnDlojIzcy6XVMbNB94dI4aqOREREtVrtJed8QSUMvoiIiJo6/5q+YObMmbjnnnvw7rvvqtDr1VdfxejRo7F161YkJCRUeH5JSQlGjRqlHvvqq6/QsmVLJCcnIzo6Go15VcdCPyP4Ki0ASouAgOCG3THybW7D7bmqIxER0fEOto8IDoClyKjsZ/BFRETUZNU4+Hr55ZcxefJkTJo0Sd2XAOzHH3/E9OnT8eCDD1Z4vmzPzMzE4sWLERAQoLZJtVhjn/FV6BcGWPwAuw0oygICmjf0rpEvY6sjERFRrQ62jwzxB9I26I3hFb+8JSIiIh9sdZTqrZUrV+Kss85yvoGfn7q/ZMkSr6+ZPXs2hg0bplodExMT0atXLzz77LMoLy+v9HOKi4uRk5Pjdqnv4MsGCxBsVKVxzhc1pLJiwKa/nXaEYHZ7Q+4RERHRCd/q2CMgFdj7t/6is+v5Db1bRERE1BiCr4yMDBVYSYDlSu6npqZ6fc2uXbtUi6O8TuZ6Pfroo3jppZfw9NNPV/o5zz33HKKiohyX1q1bo75nfJVLsGCWvTP4osZS7SUkBJMwjIiIiI651fGC8vl6Q+fRQGRSw+4UERERnbirOtpsNjXfa+rUqRg4cCDGjRuHhx9+WLVIVuahhx5Cdna247J3717U94wvVVDD4Isa03wva5BzG9sdiYiIjjn48kcZTiv8TW8YcE1D7xIRERE1lhlf8fHxsFqtSEtLc9su95s39z4DS1ZylNle8jpT9+7dVYWYtE4GBgZWeI2s/CiXhmAxWh3Lbaz4okZW8RUcqRdakCBMBtyHN2voPSMiIjrh5BSV4Uy/1YgsPwKEJQCdz27oXSIiIqLGUvElIZVUbc2bN8+tokvuyxwvb0aMGIEdO3ao55m2bdumAjFvoVdDCwnQAV1WQSmDL2oczOquwHAgKMJ9GxEREdW44usK6wJ9p99VgFUvvkRERERNU41bHe+55x5MmzYNH330ETZv3owpU6YgPz/fscrjhAkTVKuiSR6XVR3vvPNOFXjJCpAy3F6G3TdGvVpGquu1+7IYfFHjUGJUfEnoxeCLiIjo+OQewOl+a/Tt/hMaem+IiIioMbU6CpnRdejQITz22GOqXbFfv3746aefHAPvU1JS1EqPJhlM//PPP+Puu+9Gnz590LJlSxWCPfDAA2iM+rXWKznuSM9DUe8oBMsdBl/UkMyQS0Ivq1ElyeCLiIjomPRM/wFWix1p0QOQGN+poXeHiIiIGlvwJW677TZ18WbBAqN03IW0QS5duhQngrjwILSODcHezELsLw5GR9lYkNnQu0W+zKz4klZHsx2DwRcREVHN2WwYmjVX3dzX/lK4r1NORERETdExBV9NXf/WMSr42pEboIMvVnxRYxhuHxQOlJsVXzkNuktEREQnhINrgc/GOe/bypFYno4cewhyOpzfkHtGREREjXXGly8w2x03HTFWomTwRY2l4itIz6BjxRcREVE1lJcBuQedl/x0tXlm+UiER0Q19N4RERFRPWDFlxf92ujga3WGsaEwq0H3h3yc64wvW5n7NiIiIqpcQjfgpj/dNl06dTlWlSXg5xCu5khEROQLGHx50bNFJAKtfkgpDAKCWPFFDcwMuaTiy17uXgVGRERElQsMA5L6OO7a7XasKd4HO+yIDGbwRURE5AvY6uhFkL8V3VtEIsserjeU5ALlpQ29W+SrzJBLKr7kIljxRUREVGMFJeUot9nV7cgQfv9LRETkCxh8VaJ/62jkIMy5ge2O1BiG2zP4IiIiOmY5RfqLTH8/C0ICjFmuRERE1KQx+KpE/zbRsMEPeRaj6ovtjtSohttzVUciIqKayi7UwVdUSAAsFktD7w4RERHVAwZfR1nZ8bDNqPpi8EWNYbg9K76IiIiOWU6hXiQmkoPtiYiIfAaDr0q0iQ1FbFggjtjN4CuzoXeJfJVbxReDLyIiomOVY1R8RQZzvhcREZGvYPBVCSl/l6qvQ/YYvSErpaF3iXwVZ3wRERHV6owvVnwRERH5DgZfVZDga5O9jb6Tuh5N1o/3Al9dL2t8N/SekDdmyMWKLyIiolqq+GLwRURE5CsYfB0t+LK11XdS12N1yhH83xdr8eDX61BabkOTUFIALJ8GbPgKyEpu6L0hTzYbUJqvb8tg+0Aj+CotAMr1nBIiIiKqnvyScnUdGsgVHYmIiHwFBxxUoW/raDxs18FX6cENuPzthSgzDpk8dtUQoxrsRJaX6rydvR+IadeQe0OVzfcyWx0tLll1SS4QYrTiEhER0VEVGsFXWBBPgYmIiHwFK76qIEtdB8W1Q449BAEoQzdrKvq30as9vj5vO4qKCoGvJwOLXsEJK9cl+Mo50JB7QlUFXxYr4B8M+AcB1iC9je2ORERENZJfoqulQ1jxRURE5DMYfB3FTad3xt6ADur2jItCMWPySWgeGYyD2UX48+evgfVfAPOfUS2DG/Zn48I3FuHOz1djwdZ0lJ0I7ZBuwde+htwTOtpge4vFuG3O+XKpBiMiIqJqV3yFBjD4IiIi8hWs8z6Kywe1BtJPBpZtRETWFiDAitvO6IRHZm3AgbW/6ifZSpGxbQmu+86O9NxirN+fje/WHEB8eBDG9m+B28/s3HiHqOZ6tDpS4yLtjMKc7WUGXwUZrPgiIiKqoQIj+GLFFxERke9gxVd1NO+tr1PXqasrBrVGq5gQ9Cnb4HjK9z98q0KvrokRmDisLWLDApGRV4xpf+7G9EW7cULM+Mph8NXomOGWVHyZuLIjERHRMSkwWh0544uIiMh3MPiqUfC1HrDbEejvh/87rQV6W3Y5ntIufx2aRQRh+qTBeOLiXvj7n2fi7rO6qMcWbD2ERsut4outjo2O2c4Y6Bp8RRqP5TTMPhER0QnrrbfeQrt27RAcHIyhQ4di2bJlVT4/KysLt956K5KSkhAUFIQuXbpgzpw5bs/Zv38/rr76asTFxSEkJAS9e/fGihUr0JgrvriqIxERke9g8FUdzboBfv5A4RFHVdRFMSnwt9hQbNctjAP9tuP9CQPQMjpE3Q+w+uGKwa3U7XX7spBVUILGP+OLFV+Ndri9WeXlepsVX0REVAMzZ87EPffcg8cffxyrVq1C3759MXr0aKSnp3t9fklJCUaNGoU9e/bgq6++wtatWzFt2jS0bNnS8ZwjR45gxIgRCAgIwNy5c7Fp0ya89NJLiImJadytjpzxRURE5DNY510dAcFAfFcgfaOu+opqBWvKX+qhH2xDcY7fckRaCtAn8CCAWMfLkqJC0CUxHNvS8rBoRwYu6NMCjTr4KjgMlBbpn5caB7Y6EhFRLXn55ZcxefJkTJo0Sd1/99138eOPP2L69Ol48MEHKzxftmdmZmLx4sUq2BJSLebq3//+N1q3bo0PPvjAsa19+/ZorNjqSERE5HtY8VXTdseDes4X9ixSV7G9zkZh4kC9LWVJhZed2rmZul647VDjn/ElWPXVOCu+PIfbCwZfRERUTVK9tXLlSpx11lmObX5+fur+kiUVz1/E7NmzMWzYMNXqmJiYiF69euHZZ59FeXm523MGDRqEyy+/HAkJCejfv7+qCqtKcXExcnJy3C71hcPtiYiIfA+Dr2MZcC+Bw4HV6u7I0WMR3+M0/VjK0govO7WLGXxlwG63o1EpLQSKsvXtsAR9zeCrcc74YsUXEREdh4yMDBVYSYDlSu6npnp8CWbYtWuXanGU18lcr0cffVS1MT799NNuz3nnnXfQuXNn/Pzzz5gyZQruuOMOfPTRR5Xuy3PPPYeoqCjHRSrG6kshZ3wRERH5HAZfxzLgPuVvwF4ORLcFotsArYfqx2S7hyHtYxHk74fUnCJsTzdCjMbW5ugfAiR017ezGXw1zoovb8EXh9sTEVHdsdlsqopr6tSpGDhwIMaNG4eHH35YtUi6PmfAgAGqEkyqvW688UbVTun6HE8PPfQQsrOzHZe9e/fWe8VXWCBbHYmIiHwFg6+aBl9ZycCWH/Ttdqfo61aDAIsVyE6psDJicIAVQzvENc52RzP4imiu5pYpObW4smNeOvDuKcDiN2vvPX0NZ3wREVEtiI+Ph9VqRVpamtt2ud+8eXOvr5GVHGUVR3mdqXv37qpCTFonzef06NHD7XXynJSUlEr3RVaHjIyMdLvUB5vNjsJStjoSERH5GgZf1RUaC0Qa4dC6mfq63cnOIKJ5r8rbHTvHq+s/PIKvxTsysGTnYTT4fC8JviKNFZpyDtTe+2/5UbeGLn2n9t7T15jhFmd8ERHRcQgMDFRVW/PmzXOr1pL7MsfLG1mtcceOHep5pm3btqmwS97PfI6s9uhKntO2bVs0NmboJdjqSERE5DsYfB1L1VdpgXvwJdoYJ417K7Y7nmbM+Vq2OxNFxknXb5vSMP79vzH+v0ux6UADtazlGt/6hicCkS2OrdVRTobL9Le+FaRtdFaRSfUXHXuroxl2ud42H2sqCo8AX10P7PitofeEiKhJuueee9TgeZm/tXnzZjWPKz8/37HK44QJE1Qbokkel1Ud77zzThVmyQqQ0tIow+5Nd999N5YuXaq2S0j22WefqdZI1+c0Fmabo8UCBPsz+CIiIvIVDL5qIqmP83ZMOyDaZRhrm5MqXdmxU0I4kqKCUVxmw9+7M7E9LRd3zVwDmXVvswP/mr2xYQbf5x7U1xFJLq2ONQy+vroWeKmrM0Rzlb7JedtYDIBqyJeG26//CtjwFbDo1YbeEyKiJklmdL344ot47LHH0K9fP6xZswY//fSTY+C9tCcePGicGwBq6LwMrF++fDn69OmjhtZLCPbggw86njN48GB8++23mDFjhlr18amnnsKrr76K8ePHo7EpKClT1yEBVvj5WRp6d4iIiKiecLLnsVR8eVZ7idYnOaucinKAYOe8CovFglM7N8PMFXsxe80BrEjORF5xGfq1jsaW1Bws25OJ2WsP4OJ+RruhKCkA1nwK9BgDhOuKsVqXZ4RVEVLxZXy2x4yyo1Z7bfsZKCsCdv8B9LnC+ZgEeWkb3IOvLqNra899R5XD7ZtY8HVwrb4uaMD2XyKiJu62225TF28WLFhQYZu0QUpFV1UuuOACdWnszIovtjkSERH5FlZ8HXPwZQy2N0Um6VUe7TZg3/IKLz3VaHf8etU+JB8uQKuYELw/cRBuG9lJbX92zmYVhjkseA6Ycy8wYxxQXuYYylp3FV9G8FWUBZTkV+/1Uh0moZfYv6riY0XZzvus+DrOii/XVsfIprmqoyP4ymzoPSEioibIDL442J6IiMi3MPiqCQm2otoA/iFA+1MrPm7O+fIy4P7kTvEwq+rlm8ZpEwYhLjwIN5zSAW1iQ5GWU4w35m/XTygtAlZ/om/vX4nceS/gxo9XoPtjP+Gf367HviPGjLFq+nljKkY8P7/iqpKuM76Co5wD1Ks75ytzp/P2AY/gK81oc/QLMB5fravAqGZKcquu+Goqx1TmxKVv1rcLM5vOz0VERI2u1TEskA0PREREvoTBV03INNRrfwBu/N05DN5V2+H6evP3Ff7hHhUaoKq+rH4WvHxFP3RP0lU7wQFWPH6hXgZ8+qLd2HkoD9j0nfrHv10CNnnO4hexf/NSNSPss79TMPLFBdUOwHKKSvHwt+uxP6sQj363ASVlNu8VX8L8mao75+uwS/B1cJ2jMk0x2xw7nw1YrLqtsjZXjPQF8nvIbGf0NuNLqgvNhRZOdIc2A7ZSfbu8pPpVh0RERNXEii8iIiLfxOCrpmLaAgndvT/Wc4yuzJF/xO+cX+Hhd8YPxKIHRuKcXs3dtp/ZPREjuzZDabkdo19ZiPXfvay2zwi6HHPKhyAA5Xgn9D28dUUPDO8Yp54nAdipL/yOCdOXqflg5mqRnt6Ytx0ZeXrVRWmxnLk8xVlVJm2N5owvYbY7HkvwVVYIHNpScbB9q0HO48V2x5opKwZsZRUrvgJCAYtf05rzJcGpK6n6IiIiqkWFnPFFRETkkxh81SZpFxwwQd9e8laFh+UbxqQoXcXl6V8X9VQtj53syeht24JSuxWvHB6KJ+03oCAwDm3KU3B+xvv4bPJJ+OKmYap1UkZ+SfviHTNWY/Azv+E/P29BucscMKke++CvPer2eb112PbavB3Il1liean6SdYgIDha33YMuD+GVkfPdkcZ8i8SewIt+hmPM/g6psH2njO+pPKwqQ24N+d7mTjgnoiIalm+0eoYylZHIiIin8Lgq7YNvUlX4+yc55xZVA1t48Lw+72n4+vB+jWpLc7EDecOw+d3XYDQS40QbfGbwPbfMKR9LD65YSj+uO903HFmZ7SMDkFuURne+n0nbv5kpeMbzad/2IQymx1ndEvAq+P6q2AtI69YtVQ65ntFNNdBiohqpa9z9tWs4iupr/uAe5nXlLHNJfjqr28z+KoZM9SSCi8/j2+nm9qA+1SPiq/qDLjf/iuwaXad7RIRETUtrPgiIiLyTQy+altMO6CbsaT30rdr9FJraR7CtnytbrcedRtuOq0j2sWHAV3PNSrJ7MAXE4B9Kx1h2T2juuDP+0fitSv7IdDfD79uSsOV05biq5X78PvWQwiwWvDI+d3VY/93dhf1uvcW7kJuxl5n8GWqScWXzPM6oqvJ0Pty92BLQi9p0QuK0u/ZYoDx+KoTf2h5UQ7w9WRgx2/1V/Hl2uZoakoVX7ZyIHWDc6EFUXik6teUlwIzrwG+vPbozyUiInKZ8cXgi4iIyLcw+KoLw27T12tnAnkeKylWZf2XOuyI61Rx1cjzXgI6jARK84FPLwMObXP+IvpZcHG/lvjshqGIDg3A2r1ZuPdL3To2aUR7dGimg5ML+7RAzxaRyCsuw1+rN1YMvhwzvqoxhD57rx5GLq2SZtAn7Y0yl8q1zVGqyeRaVneUgCIrGSe09V/oy8+P1P1nFedVHGzfFIMvqRyU39dS2dZqcPUqvmSxBJkrZy/noglERFTD4IutjkRERL6EwVddaD0EaDkIKC8GVryvt+1fqStUXuwC/Kez8/LWUODLScDC/wBL39XPHXSds/3Q5B8IjPufrp6Swd+fXFKhMmtQu1h8PWU4WsfqOWLx4YG47YxObgHZ/ed0U7eT9xhtiuFeKr5chtvvzSzAjGUpOJRb7L3NMbaDrnILidVBmFTumCs6SuCl9j3IeftEb3c0Qz1ZwCA/o+EqvsxtZjjWFNocE3sBYfHVG25vtuqaIRgREdFRFDhmfLHii4iIyJfwK6+6IKHVsFuBryYBy6YCyX8Buxd6f25+ul4NceM3+r5/MND3Ku/PlSqf8V8C00cDh3cAn1wK3PCr2+Dzjs3C8c2UEZj+126c07M5IoMD3N7i1M7xOKVzPOL26PawI9ZYxHgGX8U5mLtiGz5bewSLdmSo7sT/JSXj21uHI8jf6j7YPq6j/nlbDtDtf9LOaK7omNjD+cEy5+vgGh189RyLEz74EnsW6ZU864o5v8t1sH1TrPiS3xciqY9eIKI6w+3NxRnU7RpUVRIREXy94ksWGyIiIiLfwYqvutL9IiCqtf4HvIRefv5A338A1/0M3PyXcVkE/ONL4KwngD7jdDXXWf8CQmMrf1+piLnmWyAiSVcdzbm/wlOaRQThgXO6oW9rY7VGFxaLBa9f2R/tg3Rg8ubyPFXVJYqtISj214HKy1//jj+369AryN8Pmw7m4KVftlWo+PotLRzDn5uHX7JaqPtFyStcWh17OZ8vwRiArJ3LUFymTzyPZsWeTKQc1vvWKNhsHsHXn3X7ecXVmfHVBIbbHzQqvpr30ZWD1Wl1zD3ovM2KLyIiqslw+wAGX0RERL6EFV91xeoPnP008OujQNfz9Nyv6NYVn9e8N9Dl7Jq9d3Qb4LIPgA/PA9Z+BnQ8A+hjDJivhpiwQPSNLgIygK0F4fjHf5fiplM74t0/dmJaSTS6++WiZ1gOzhnSCZcPbI2tabmY/PEKTF24C6d2boaTO8fDdniHSk1/Sw/HgfIifJHbDGcHAkc2/IIkixFaJHR3fOaa8vboJ0nrwTW4euoS/HfSUESFuFejufpuzX7c+fkahAVa8e2tI9Al0UvVU32T+WRm+6HYXY3gS9pRpQVU2kFryvwsrxVfkU2j4kuS1YNrnauDmtWCbHUkIqJalm+2Ogbx9JeIiMiXsOKrLkkb3F3rgXP/7T30Oh5thwGnGtVeP9wNZO6u0cv983VY4B/VHHszC/HIrA3Yd6QQh63N1PYXR8fj/87uijZxoRjVIxH/GNpGbf+/L9cgPbcIGck6oNhnaYFnxvZC36FnqPtm6JVia4aJn27Gkp2Hcf9Xa3HZ15kosgcg0lKIjL1bMO69Jep9vNmRnoeHvlmvbueXlOOGj1bgSH4JGpxZ7RXdVmrngIytQF565c/fOAt4YyDwzsnHtvKgLwy3l0USirJ0RaQEpdWt+HJrdazi14CIiMjAVR2JiIh8E4OvE9mp9wGtTwJKcoGvbwDKS6v3Oll50aioeW7CKLSLC0VEsD/uG90VJ/Xtrbb757m0kgF45Pzu6NAsDGk5xTjnpXmIK9XBw22Xjcb4oW1x+8UnAxG63VFsRVv8se0Qrpq2FF+s2Icy+CM9rIt6bEToXmxJzcXl7y5xtFm6tiHc8ulKdXI6pF2sGtSfklmAKZ+uRGm5DfVh8Y4MfL4sBXapRvIWfLU72dnG6a3dUV73x3+ALyfqlQfl12fHvJrviLzuqK2OJ3jwZVZ7SegliyCYbb5HrfhyDb5Y8UVERDVodWTwRURE5FMYfJ3o7ZSXTtMDwfevAH77lw5djsYMCqyBSGreAr/cfRpWPToKt47sBP8YozLNY8VIWfpbZoMFWC2ILj4Aq8WOcv9QnNTXWK3RHGBvGDz0ZFzSv6Wae985IRxf3TwMbXqdrB57sGuqCrSSDxdg7NuLVYtlWo6u/nr0uw3Ylpan5pS9Ob4/3p84WLU7Lt2ViSe+d5mvdRyKSstVKOdt1lhOUSlu+HgFHvxmPb5d7X4M3FarlPDLHHDvqrQI+GYy8PvTLtVhALb/chwVX014uL1jvldffR0aV80ZX6z4IiKiY2x1DGSrIxERkS9h8HWik3lfF76uby95E5h5dfVDg/DmakXGQH8/BFiN3wpRxsqOOfsqvKxXyyg8M7Y3To7NVvet5oqOppbO4Cu6XT+8PK4fVj0yCj/ddSoGtYt1rIAYvm0WvpnYFd2aRyAjrxjPz92CYc/Nw5i3/sJXK/fBzwIVsiVEBKvZXq9d2V99zCdLU/DR4j3HdbhkWP4lby/GxOnLHO2Urr5Zuc/RCvHMj5uRVVDiPfhqf0rFOV8SOn51HbD+S926d8ErwJi39WPbfwVs1Rvq71BcjYovaRM8kaWuc67oKEJinPPNyqpob3Wt8mLFFxERVQMrvoiIiHwTg6+mQAKl815UFVzY8gPw3qnA3mVAeRmQvhlYOxP48yUg75B78BXRvOJ7RbXS1/tXVaxmAnDFoNZ48uQQfSeug/uDsiqlyWgFlEH6VkmyRJtheoB5WRGabf0M39wyHM9f0huD2sbAZgfW7NUhjswWG9bRqPwBcFaPRNWGKf71/UbMXe/ehlld87ek4YI3/lQrVIpZq/e7rRoprY3/W5qsbgda/XA4vwT//mmrs/rKnKMmP1vb4XrO1+HtzuO5dfFBuJQAAE8DSURBVC6w9UfALwC4+htg0HXYH9EH5YGRunVv/8pjHG7vJfhqpo+Hes+jBZ2NmetgexEcDVj8qm53lN/X+cbvZfN5VYVkREREnPFFRETksxh8NRVDJgPX/wLEtNcDw6efAzzXEnj7JODbG4F5TwIfnAPkHHAJvhIrvo/MDJOWxeIc4KOLgKXvVmyfPLxDX8d2dN/ecqBuu4xsCcR6hGJCyrZOulXfXvZfhPrZcOWQNvhqynD8fu/puPPMzrj37C6YcprH+wJq21VD2qhdkdUel+46XO1DU26z4+VftuK6D1cgp6gM/dtEY3A7Hba9t3Cn43lLdh3GzkP56oT4vWsGqm0zlqVgZXImcGiLRGO6Si4sXlcmyYqcQgLC0kLgpwf0/eG3Ax1Ow/a0XIx+fQnmFvZQm2d9MR2v/bYdv2xMxeaDOcgr1i0XR2119FbxJVVnzfsA5SXAui9wQpIgNldCTItzZpqfnw6/RGWBnoRedpsOyKSyztxGRERUrYovtjoSERH5EgZfTYkEVjctBHpdCtjLVWWVCk0kzJLB8xJYfXCes/IoIqnie/gHAtfOAXpfrt9DwpxZU3SwYzpshEVxndxfGxIN3LhAB3B+lXyb2nOsDo9kVb6N3zo2t48Pw92juuC2MzrDTyrEslKAV/vo1k27HRaLBU+P6YWzeySipNyGyR+tUOGRWal1MLsQB7Jc9tEgq0Fe+8EyvD5fh3UThrXFzBuHqaoy8eXKfY7VJT9dmqKux/cOw8jEAlwxSFe/PfztBpQdXO8MnBw7fapzwP2iV/Q+R7YCTr0X2QWlmPzxChVuLbDrFtDO2Yvxym/bcOP/VuLc1/5Er8d/xsCnfsV3azxmiXkOt/cy48tms2NX60v0ndX/q95st2P0xYq9uPPz1bW2smaZuUiBChOlLLCte1WbOeersoovc0XHsAR9Efmc80VERJWTBXLk/EGw4ouIiMi3MPhqaoIjgUvfB25ZCty+CnhwL3D9z8B1P+lB60d2A+s+188N91LxJQJDgUumAaOfBSxWYO0MvWqkGa5k7tLXMuPLk1R6me2S3kiwNuQGfXvpW94DG2ll+3oykJUMbP4eSFmqNkvL5OtX9VerPeYWl2H8f//Gea/9iR6P/Yxhz83H8Ofn45r3/1aD6yUMW7cvCxe8sQh/bs9AcIAfXh3XD09e3EvNNBvaPhYD2kSjpMyG9xftVsP1f94ogYod/3fwXuCtofjnEH/EhAaoFSi3rFlSMfhqp+d8ZaychbKFr+hto59BmTUEt81YhT2HC9AyOgQP3XE77LCgp18yJvQMQO+WUep9hbRTPjdni9qPCopyvAZfcvJ+75drMfbPFihBgJ49dnANjieI+nP7IeR7qUDLzC/Bo7M24Ls1B3DzJyu972c1pWYX4eK3/sJp/1mgQ0ppExVxnd2faK7sWFBJVV9umrNiMdwIvjjgnoiIqtHmKEIYfBEREfkUBl9NkbQUJnTXwZS0jplVNZPmuLcgeqv4cn2PYbcC13zjnB22bJpetTB7n/dWx+oaeB3gH6znOyUvrvj4wheAvTrsUv56zXEzOMCKaRMHoWtihAplZF5XYWk5/P0saii+hFwyuH7UKwtx2TtLsD+rEO3iQvHtLSMwpn9Llx/PolaxFJ8sScZ7f+xCmc2OC1oWIThzi6qWi147FQ+d1109p2CvMYvKbMkDMDurLcrtFsQjC/72Eiz364t5lpPwws9b1X6EBFgxdcJAxCW0hEXaQAE82eMAvr/9ZKx+7GysfexstXplak4Rflh3wP0YZGzXIaW087n8msmKlFM+WYVvVu9HNsLxU/kg/cDqT47pl0JWtpzy6Spc8/4y3PDRChUYuvpkaTJal6fgfL+l+Ht3Jv757foKz6mOHem5uPSdxVi7N0v9mvxr9kYgw2iZje/i/uQQM/iqpOJLtUcav3/N8JYD7omIqBptjvIlmszxJCIiIt/Bv/l9iVRiSRujGTSYK+lVpcPpwKin9O1fHgY2z9azroIi9ayrYxEWB/QZp28vNVY9NMm8rIX/0bdHPqznP22bC6Rvcf4YIQGYceNJeGZsL7w/cZCaD7b5qXPwx30jMWlEO9XCsCM9T7U0jOqRiO9uOxndkyIr7MYZ3RLUypL5JeWY/pceXH99a5e2w7Wf4/JuwbikXwt0s+g2yDnpOpSZtzkNd3+3Gxvs7dX9MljxYOHVuP7jlZi6UFfEvXh5X/RsEaXfq8tofb3tF+fPERqAa4e3U7flNW6B0qqP9HXnsx2LEOQWlaq2zd82p6mqtUsHtMLM8tPVYzaZ8+XajlrNfwRM/nglft2U5phxtmDbIbeQ7eMle/BewCt4K/B1nOa3Vq26+c4fzrlo1bEy+Qgue1eHkG3jQlVI+cumNBzaY6ySGd/Je8VXpa2ORsgV7lrxxeCLiIgql1+iq5rlHEG+/CIiIiLfweDL10QmATf9Cdyx2jmc/WiG3gR0PU8PUv/OGE4vVUjHc+J40i36esuPwC+PADt+05Vk39yoB5f3uxo47X6g2/n6eUvecHt5bFggxg9tizO7J6r5YAFWP7SODcXjF/bEkgfPxKMX9MBzl/TGe1cPVEGZN3LiO+V0Z9VaXFgg+pSucz6hrAiWFdPx4ug4RFoKUGK34s55BXhk1nrc8ukqNTR/f+IZ6qn24bfjrFNOcaxgeevIjji/j0tFnQRYYtcCoKzYsXn80DaqMkzaKf/aYbT2yeNrPtO3B0xUV+k5Rbhq2lIs3ZWJ8CB/fDRpCF64rA+yEoZhnz0efrIYweYfKj3cMmtMVrCUMMu8P/GDZVi47ZD6/JFdm6nt/567Rf1c5qqXYfkp6OinK6weab9NXb/w01b8uK56K2tKQDj+v0uRVVCKfq2jVeXdDafoCraS1C3eWx1l4YAqK770jK+8gHjkBRghGVsdiYioWoPt2eZIRETkaxh8+aKAYO+rLlZGAq6L39KrNUr45W2wfU0ldAO6X6irxxa/AXxyKfBKTyBnv37vc/+tnzfiLn29diaQY4QtUhm1YjowdSRw0CWocqmkuv7k9moVSDUovwrn905Cm9hQdVuG2VuTF7kFTlg+DX4HVqmbWWHtUQp/fLI0BcVlNpzZLQGjJj8L3PgHAkb9S7VF/nzXKXj36oH4v1F6eL5DUl891L80H0j+y7E5OjQQ4wa3Vren/rnLGQbKfCtp5et8thriP+atv7Bhf44K/GZMPgnDOsapkO2xi3rhq3I9ZD/v7w8q/HxbU3Px0DfrMfjp33Dqf35Ht0d/Qt8nfsHp//kdy3ZnIiLIH/+7fgheGdcPkcH+KoCTYfsyPP+/i3arKi9T5yMLcd0wPb/t1s9WYdIHy7BiT2blQ/GX71WD/ItKbSpY+2zyULX/snpn+2h/NLcbYVW854wvc7j9kQrvKVVxmWm6+u7ZRVl4c5mxAAArvoiIqBozvriiIxERke9h8EXVI+1nMjRfZk5VNti+puT9xk7V1V1ROvxRs78um+5c5a/1YKDNcMBWCvz9jq6G+v4O4Ie7AQmkZDXF4+Bv9cNrV/ZTLYe39jVWDJSZZqOf0Ss05h8Cfn9GPTeh00DcN1oHWjIc/63xAxAQGAS06OeofuuUEIFzejWvGLjJ451HVWh3FNeNaK/mk0n1lVqp0mxz7Dcev2/PxGXvLMaB7CJ0iA/DN1OGo3cro31S9qNDHA53vhw2uwXh+/9C1v7tWLwjA//9cxeunLoEo19diBnLUtQctACr3qfswlJk5JUgOjQAn00+CYPaxaoAbsrpOsx86ZdtqhVR2kXP8DdWsxQFh/Fwr2wdKFqA37ceUi2MV7y3BHPWH3R8my7h1Jvzt+P+r9ep6rHLBrbC1AmDHP/YkKHCz48Mh9ViR649BBtzgr22OhbnpOPLFXvVz/LKr9vw1A+b1GIFe1N0W2q6PRopJcbvE1Z8ERFRNVsdiYiIyLfway+qvrbDgHNf0BVaqlrrOPkHAX3H6YtUcckwd78AINoIwUwj7gBSFgMrPtArPO792/nY1jl69UNZzfIY9W8Toy6qiky0GqJXUpQWz18fBTK2OVZ0vHVEJ1w+qBXiw4KOWk1Wgcz5Wv0/YNN3wKgn9M8PoE1cKM7tlYQf1x/EN/P+wsO7FqhVIN/OGY6XflsO6Twc1iFOVZJJNZunmy8eiSUv98IIy3p8+87DeKLMqFYzhvie3SMRE4e3U2FdTmEZ0nKLcCi3GD1bRKrAyyTz0T5avEfN4vq/L9YgEKUYbt0MyEKOSf3UypHWrT/guUtewE2ndsB7C3eqmV9SOSYX1TLZrRmC/K34dvV+R8vnvWd3rTBPZWiEbuvcaU/CTR+twJh+LVVg2LdVNPbkB0HqETfu2IP7NlWs6EsMylLXZw3ug6+X6Xlj9rw0mQZHRETkFVsdiYiIfBcrvqhmhkwG7lpX/flg1SXBiLRfeoZeovNoIL6rlADp0CsoChj/tR7SX1ZkDNyvBbv/1NftTtbXAycCgUZFkUjsqa4SIoJrHnqJTqN0+2LuAWDVx24P3XCKHpIfs/Vzdf1neS/85+8iFXpJC+ZH1w3xGnqJltEhONz3RnV7ovUXnB+1B6N7JqrqtD/vH4l3rh6IkzrEqfBJ3qNLYgRGdIp3C73MFTPvOku3HcrA/yHWbQi0FQJhCcBpD+gnbf4esNnQLj4Mz13SBwvvH4mbT+uIVjEhqqpszvpUFXrJL+e/LuyB+0Z38z5E2AgTD/q3RlpOMd5buAtj316Mvk/+gofm6tAsCnno0yoKY/q1wNUntVGf88QFXZHol60eH3PqQJSE6Nlk5Tl67ldtKCmzqSozGcpPRERNq9UxhK2OREREPod/+1Pj5+enB91/fb0Ou66coVcCPLgGmP8UsG4m0P/qmr1nWQng7xL8SMWZrCgp2p+ir4OjgAETnCtPJvY6/tlqp/wfMOde4M+X9D4HhKiHpOJsWNtIXJa6QN2f5TdKzR87T12aH3UFqgsvuQY5pYsQuWUm3gqdBoy7FggMcz5h02ygJA/o948q30faEqf9uQs7D+VjYuIuQEZ4dTxDXyQElNDuwGqg1UD1/KSoEDx4bjc8cE5XbDyQo1oeV+w5oqrHzu3tMtzf0+Ed6urMk0fgrfgB+GljKuZvTkNuURny/HX1XtuQIsy+zQghTdLS+Jv848WC4OgkjBzYE1gO+JcVACX57j/zMfrvol1qgL+sPvnqlf1wQZ8Wx/2eRETUsAqNVscwVnwRERH5HFZ80Ymh92XAbSuBmxfp0Ettu9xZqZWtq4SqRVZMfCbRfT6YVCDlp+sZYy0HObcPvVkHPs26AeGJx/9zSJAm88xyD+rWTRdvDE5HgiULpUGx+PfDD6gZYrIyZHWWXZfnRI75j16AQFpGf3tCP1BaBMy+HfjiGmDWFCDVZWZXpTPP+mNs/5Y43Rxs3+ksHdqZK1N6qbCTz+/VMgr39y/HF37/xLlhRntoZTK2q6vAxK7qZ3zjqv5Y+egofD1lGP53+zl6X0qyAZv+ht5zRUeExQNWf1w+vDsK7LpldHeynv11PGS1y2kL9SIDZTY7bp+xGp8v08P0a5vMP0vLKcKRfGPBCCIiqjNSyWzOmSQiIiLfwuCLThwSeBlzsZSYtkDbEXplyPVfVO890jfrwfh2GzD/aWcQtHuhvm41WIc8rp9x6zJg0lzHAPvjIvt/6r369qKXdZWSSNuI+AX/VDcDBl6NgECPge/VIRVqF72hby97D1gzA/jgHPe2yo3fHvVtJMB65bzmCMjYpCqr0HGkfsCc6ybBl1TIebP0Hb3ogMyBq4y89vD2Cis6SqvlwLaxiI1rbjzPBhTptsYKwVeEfk7LmFDkB+hh+L8ucwn1ysuA9V8BhXoeWHXJjLMjBaUYHpuLawYlql198Jv1jjDsWMmCAr9uSsO/Zm/E2Lf/wknPzkOXR+Zi6LPzMPS5edh5KO+43p+IiKq7qiODLyIiIl/D4ItObH3G6eu1MysPY0ylhcCXk/RcMFm50VYGfHerDkkcbY6nVnxdVEvHSoO1ot94IKadXjFy+X+BvcuAD87VK0om9ABG3HXs793pTGDgtfr2rJt1W2JIDDD4Br1t46yjHyexc76+lhUrpbpKyKqU1iAgc5cOEL0xA0SZxeZZrWWSn1sFWsZcN0/SghoYoW8XSK+lCzlGItwIxwAExeiWyg1btyGnqFRvXPmBbo39wfuxXL4nE9+s2gebDFEz5BaVqjbPq6zz8FnBTXjS/iZuOk3v3zNzNuPTv5NRHRv2Z+OTpcl4fu4W3PbZKlzwxp/o/+QvmPzxCny4eA9Wp2QhNadIVXyZM8W+WLG3Wu9NRETH2+rIKR9ERES+hsEXndh6XKzDmEObj9rGh5//qZ8nw9on/w4ERwMH1wKLX3MGX+2M+V51yRrgHBYvs74+vlgHQbKa5KQ5QFjc8b3/2U8DUW30bVmN8cY/gLNkFclgIHPn0Y+T2PGbvu54pnObrHRpVn9t+aHia47sAbKMcEgWIkjbWGWbI6LbOGacVRAao68LPYKv3DR9HeFsO42I0zO4IsuP4IvlRoC0S89Kw+Yf3MKzgpIyPDJrPS5/dwnu+WIt7pq5RgVPZrVXv6LleDpAt6Bads7HQ+d0w51n6qq05+dsUathVmVLag4uenMRHpm1Ae/+sRM/rDuIDftz1CIF7ePDMH5oG7x+VX98d+sI/P3PM/HmP/qr181ec8AthDOtTjmCw3lVfyYRER0dWx2JiIh8F4MvOrGFRANd9UwoNeS+Mpu+A1ZM17fHvgs07wWc87y+Ly2PBRmAfwjQckA97LTMJ7sCiOukA6/SAh0wTZilq7OOlwRUEqCNeQe47mfdrhkUriu2xKZZVb9eKrV2/u6sIHPl2u5Y2aqYpuTF3t/fS5tjBSGx3iu+ZDaakNUxDRZj9lozSxae/nEzxr61CIW7jM+2lQIbvlY3V+zJxLmv/YlPluqZXVY/C2avPYDrPlyO1OwiLFw4H28GvA4rdBCmfm0yd+GOMzujV8tI5BaX4YWftlS+zwA+/GuPCrk6NgvDtcPb4ZHzu+Pdqwdg8YNn4Pd7T8czY3vjor4t0Ld1NBIjg3FW90REBPvjYHYR/t7t/rP+se2QWuny0ncWI79YVyoQEdGxKWSrIxERkc9i8EVNp91x/Zd6rpXMsdo6F1j9CfDLI8AnlwHfTtHPGXGnM8zpeyXQaZSeJSXaDHWfIVaXrP7A6Gd1FZbs/1Wf18qKhA7RrfUKjq7zynqMqV6744E1utIqKFLPPHPV9TzAYtVVY4e2eW9zlFljImVx1RVfcVUEX6FG1VvBYffteUbFl+tCA8btgXEl8LMAmfu2IqTEGSKt+/Fd9H3iF1z+3hIkHy5Ai6hgfHrDUHxw7WD1D6BFOzJw9ctf43X7cwi3FMHe7lRdKaeOxWoVkD15sV7R88uV+7Ay+YjXXZYh9d+u1ossPH9pH/zrop644ZQOOKdXElpEe69sk7lm5/XSId53a5wLNNjtdrzyqz6+ew4X4KkfZN5a5aRt8o4Zq3HOqwvx04ZU9XoiIoJbxa8IYasjERGRz2HwRSc+Ca+kQkhCEZlr9eW1wIwr9fwuGbK+41egNB9oMxw441Hn62RY/YWvOudJ1Uebo6suo4EHU4BLpuq5VnX+eedUr91x20/OeWfSlulKZp2ZwaFrhZ0ELWbwddKt+jp5ifeAzQy+zNU5vTFnqlVodXQfbq+EJ6irkxNtWPrPM/Fkfz0ofoetBcrsfuhj2YH4oj1qVy4b2Ao/3X0qRnSKx6ldmmHG5JOQGGrBG/bn0dxyBDkRnWAZ9z+g9RD93vtXqasBbWJw+cBW6vbjszc45nO5mrliL4rLbOjZIhKD2la/cu/i/rpV88f1B1FUqisS/tpxGGv2ZiHQ6qd+m36+fC9+3mj87F5IW6VUr21JzcXNn6zExA+WN8qB+dLOKcHcgazCht4VIvLR4fZhrPgiIiLyOQy+6MQnodGYt4FuF+iWQVnpscUAHdwMuQm44BW9KuPE7ysGOVGtgMs/ALpf5BwKX6/7Xk8VZqI67Y6Zu4Elbzrnp1VZYfeFJBn6dsY2PXhegrWTbtaLB+Sn60H4lbY6dql5q6NZ8eXS6uio/spLQ0JEME4L3qnuthgyFqXtdUj35bBkLHnoDLx4eV9EBjt/D0jL4ZwRO9DdLwU5ftEIm/SNbp9toWdvqcUBDA+c2021JcrMrs+X63ZJU1m5Df9bouebTRzeDpbKVgBd8xnwUndg3wrHppPaxyEpKhi5RWVYsDVdbXt9vj5G/xjaBjeeqgfsP/j1OqTnFFV4y1UpR/CyUR02umeiCssWbkvH3Ndvx6//e8Hr7LCG8p9ftqpg7toPlnkND4mI6gpXdSQiIvJdDL6oaeh6LnDlp8A13+j5Vjf+roOu814ABl0HtB2u2wu9kTBIqnzM1QubMke747cVq7EkxJp9u545JtVvvS7z/h7dztdVclkpwN6leptZ7dV6qG51bDnQ+5yvsmLgSHI1Wh29VHzJ/poVX15aHdVqkeaKkvIWnUYgZPB4dTt2x7dIivBSVVeci7iVr6mbkec9DmtsW71dglMhix8Yq1PGhwfh/0bpsO4/P29Vc8FMv21Ox/6sQsSGBaoZXl7lpQNz7gdyDwCr/+fY7Odncbxm1uoD+HvXYSzbnakCLFlV8p5RXdAjKRJHCkpx31fr3NoYZRVLaXGUEEne492rB+KXu0/FpHZHcJv1G4zc8Rwe+nSBo5KsIUkr5zsLdCi5LS0Ps4y2UCKi+gy+2OpIRETkexh8EfkSR7vjrortjiunA3v+BAJCgYtel0TG+3vISoxmNdjaz/X17j/0tVTZiTbD9HXKkooVZfZyIDDcvV2x0hlfLsGX3JZh9RWCrwRnNZg859AWZwjX5VwdxOXs1z+bp8Vv6oUNYjsC/a9xbpfB+wFhukVWqtkMV5/UFt2aRyCroBRj3voLGw9kq+0fLt6trq8c3FrN7fJKFlEoyXW2gboY07+lfsqWdPzbGKB/2aBWSIoKQZC/Fa9d2Q8d/Q9h3O6H8fuLV2HVzKeRvX4unvviD+w7UojWsSF4emwvVWnWLj4Mj/fXrYT+FhvsW37EhOnLkFVQgoayYX82Hvh6nbrdOSFcXb/y2zbHippERHWt0JjxxVZHIiIi38Pgi8iXuLY7GqsdKlKF9ctj+vZZ/wJidXtdpfpc4RyUX1LgXNGx/Wn6WirsvFV8ua7oWFk7oDBXt3QNvqSVUj0W6z4TzQy+ykuA7b/q27JiplTwyXD/XpfqbbLwgWcFlsyAE2c+5t4G62cFWvRzm/Ml/K1+mDZhEDolhCM1pwiXv7sE7/2xE0t3Zaoh+BKMeXVwHbDqY+f9jK1AvnNwf/ekSHRNjEBJuQ2rUrLUe005raPj8c6JEXi3/SKcZ12GM/LnYsDm/yDq6yvx1M7LMdS6Fa9f2d+thRP7na2UF/qvUBVksjqkzNfadCAHuUVGgFgPMvKKcePHK1BUasPpXZvh21tHICEiSAV2ni2jNXEotxj/mr0Rny9LcazWRkRUmXxHxReDLyIiIl/Dem8iX9NzLLD5e+CvV/Xqlx1O1y195gIAgycf/T2kFTKypa6k+vMloChLtz+as7HUcHgLcGS3bk80q7uqs6JjZa2OuQcrzvcy56QFR+t92Dzb+PyTnI/3vQpYMV0/VvwiEGQsZrDwP/pnlrZGb/PM5GdJ/kvP+eqvWybVW8eG4uspw3HbZ6vw5/YMPDd3i2O+llq9UcI6qaoLDNUvkNbEn/8pN4CelwDpm3RVmlTDdb/ArerLrPYa27+l+hwHux2ds/5SN7ckno/DR7LQsXiTGsj/z/bb0beNxzD9fcsdN0+2bkDnyHJsP5Sv5muZokIC0LFZmArxOidEID4iEOk5xTiYXaTaOMOC/DGyWzO1CIBbqHYU87ek4Ye1B5FfUqZai3Zn5ONAdhE6xIfhtSv7IzzIH7ef2RmPztqA1+ftUAsOhNaw9ai03IYpn6zECmOFzWfnbMYVg1qrmWjt48Mqn7FGRD7LDMhr+ucNERERnfj4tz+Rr+l6HtBhpG5PlMojuQj/EODiNytvcXQlz+l9uQ7P/tIzstzmqEl7YfNeup1Sqr56XaK3H97hrPiqirfh9rnmYHuXNkeTtD5K8LXjN32/zVDnY60G61ZGWc3y7WF6v2UBBAnDxKgnvFefOQbcOyu+XEOj6dcOxmPfbcSMZbpqaeKwdsDeZcDHFwN+AcDQm4CTpujwTNosrUH6syQo9BJ8XdSvBV78Zaua4XXrSI8VL+U4ymywgFB0u2G6qmQ7/PcMYO7N6FOqWwgd5JiZiwpEtYElOwVfnpGNp/f2wba0XFVplZlfguzCUlVdJpfKfL1qH/z9LBjcLlbNGzu9q1FdV4k56w/i1s9WVRgfJ4sCTJ0wSB03MW5Qa0xduBN7Mwvx4eI9uOX0Klb49EKCLgm9IoL8ERMWiJTMAvx30W51CbBa1Dy2ZhFB+tq4LZdB7WLQs0VUjT6LiE588udqAVsdiYiIfBaDLyJfIzO6JswCCo8AexYBuxbodj4JaeKc7XVH1fdKHXyZc7fM+V4mqR6TwEYCHjP4OrTV2YpY3YovSVEkmDJbHcO9zAaTdkcJ8MqKKlZ8yWvPeQ74+gYgey+w6GV9EbIKqOd+m1oaA+5TNwBlJe7tlXIYrX54dmwvDGwbg7yiUgyJKwKmXa0XBxALXwCWvKWPtxh+OxDdRh+XlR9WaANtGR2CD64dDD+LRVUtudn2k76WwFLaN+UQ9jwTmAtY0jbosMs8ZvuNqi4J+6TNc+ELiN49Fy9e5Zxhll9cpsKiHel5jouEYYmRQWgeFYLmkUGqSmve5jTsPJSPJbsOY/meTHx83RAM7+R9EYjFOzNw1+dr0A3JGNu+FCF9xyA0wKpWUBvULlYFT0p5GQKtVjW0/+6Za/Hugp34x5A2iA71svhAJUPyP/hrj7r98rh+OLNbAv7YdggfL9mjrkvL7apqTS6e/CzA3Wd1UcGiLCpAtUT+H7H4AYk9GnpPiLwqLrPBXEiWrY5ERES+h8EXka+SOVrdL9SXY5HQHWje2zkk3zNAajsMWPaeDnjyM4A59zlnTyX2rPq9zeH2MrerJF/PJjNXdPQ2FN+c86V+rtiKFWVdRgP3btMB0tqZwI5fAYtVzzOrTEx7ZwultCeaM78kvJPKst5XwBLeTLXqobQI+PA8PWC/WXfg1Ht1JVzqOt1OKWHdyXc7j4uQ9tLiPP2zGaSt0Csz+JKfw/VnbtZNV49JVZn567jPOMatBukWTgngds5z+yxpY5S5YnKpyj/P6449GfmqBXPuhlTVKvnNLSNUe6Tn8PobP16J6PLD+Dr0aYQezAdGDwLajXB/w7RNwH/PArqdh4vGvId3F+zC1rRcDH9+Pk7uFI+zuidiZLcEZ0jmYUtqDh78Wv9+u21kJ4zqoav/5DVyKS4rx+G8EjVXTGaAOS55xarlUlpTX/p1G5YnH8Gr4/qpVTg92Wx2vDpvO37blIYnLu6pqt28VY+wndJQnAtMP0cHX/dscvv9TNTYVnQUbHUkIiLyPfzbn4iOXZ8rdfAlIVpiL/fHpLJJpG0E3hoCFBzWYdNpDwDNulb9vrKypLQGlhfr1x01+HJpf5TVHL2FElJ5JfPN5CIVUlIdFtmi8n2Q95B2x12/6zlfEnwVZulWRpk39vuzuopr2K3AnPt1pZUEZVd9phcHkGorCcjWfwUMnOgMBKTqK7IVkLNPz+LqOLLqYyFD+M0qrs5nuz/W7mQdfMniAmbwZYaLLQfpgFH2RVoft//irLyrAVkl8pVx/ZCe+zdWJh/BpA+XYdYtIxAXHqQCoFUpR3DT/1Yhr7gM70d/htCifP3CNZ9VDL4kCJUgcP2XsMZ1xvOX3ojbPluN/VmF+GVTmrrIYR/eMQ4X92uJc3o1R3igP9bvz8aCrYcwc3kKCkvLcUrneNw9qkuFfZUVMGXOmpq15sVXK/fhkVnrsXDbIZz/+p944bI+KnAzQyxphbp75hr8vFG31U6cvgwfThqCIe2d4deSnYdxzxdr4G+14JL+rXDpgFZoE+cyj628TIeaUjHo8ftQjpfsf6DVTy2U0CSkb3GuVpqyFOh8VkPvEVEFZptjoL+fWjyEiIiIfAuDLyI6dgOu0a2Mnc6qOBtMZnGZoYuEVxKMyQwxc3ZWVSQwkNY9CZik3TEwzLm64tEqvlzne1XGbAs8GkfwJZ89Cfj5Yb1Pfv5ASR6w4Dlg8Zv6H/5S8XL5h84VMeVnkBU0zVU0XUnV1/ov9bFzDb5yDuhFASJdBvhLYCWS+rlvNxcZWP5fPUNMSFuoGZK1Gqj3oftFuiVVhvsfQ/AlggOsmHrNQIx9ezGyMg/hx3ceQHH7s/DhjlAVWonr4zZgaL4ewK9smgWc9x/nkH9Z/XO9y0qiC55F/+a9seiBc7HxQA7mbU7HvC1pWLcvG3/tOKwuj8zaoOZ4Hc4vcbysVUyIWsXyWP7xKtV5vVpG4pZPVmFXRj6ueX8Z+raOxi2nd0SfVlGqak1CNgmmujQPx4b9Obj2g2WqBVUqv975Yyde+mWro2XqtXnb1WVo+1jcN7qraunE/Cd1tZ8EvCP/iU//TlZz4KQSTdpJpeVKZp1dfVIbTBzeDgkRunXVU1pOEV78eSt+3piqgjlprQ3y91PVcGd0S8DZPRPVSqANXnl2aLPztswNZPBFjbjii/O9iIiIfBODLyI6djLE/spPK3+833g9zF3a/EbcVWFOVpWkZVFCpszdwOzbdYWUrCTZ/rSjVHy5zPc6Xuacr/2rge2/Ams+0cHUxO91W+O8J52D5M9++ujVW6Y2LsGXKXsf8LZRJXfTAmeA5mhzPKfi+0jFl5BWTGknLcrWs9ukWi6xt36shxF8bfsFKC10zhyrIanwmj5xEA6+cyFOyV+NwvWfYn3pZBwJPBUXdQ3FPw+8r5948j3Ahq+BrGRgy49An8v1dgneJCCMbqvDQAnsvrkRlsnz0atlF/RqGYU7z+qMvZkFao7XrDUH1Oyxw2UlaiXIEZ3i1HD983olISq0+qtMeurWPBKzbz9ZhUoSSK3dm4Wb/rdSDfEvs9lV+6OEfLI/kz9eodojJ324XAVjS3fpxRakykuqzmT4/6IdGfh7dybG//dv/Peq7jhlxQf6g/56DZ+WnoaH51dcPEAWFnjr952YtnC3WsHzvD5JatVLqVSTFSunLdylQjbX9iyTBI1r9mbh5V+3oXVsCM7u0Rxn90hUs+aqqiKTijxpW5WfqzbZ0zfL/xFKyY4FCPQoSiRqDMz/l9jmSERE5Jt4BkBEdUdmXUkQUp2VIiurypp9hw5MwhKACbOBkOjKK76sgdWrKKsu870kWJL9EENv1itYim4XAOu+AGxlwIAJ1X9f8/Uyj6u8FLAGAD89CBRn6+0yiP+6nwG7Ddj5u97W1UvwFRYPJPTQ+ycLFZQV6+1JfZ0hY4sBQFRrPdh/xzy3lSRrqtPuT9EJq9XtEEsJXg98C2WDy+Fflg/kp+lFC6TSSX4d/ngeWDvDGXytltAQQP+rdRAq875SFgOf/wOYPE+HqJJbxobitjM6qwH0W1Jz1SD+Pq2iVYtSbZEg7V8X9cRtZ3TCB3/txsdLkpFbVIaOzcLwwbVDHK2L0yYMcoRfEnpJxdVTF/fCFYNbq8fH9G+JA1mFeHTWBszbko5fZryBU/xz9IeUFSH4z2cB3IIpp3fEOT2bq1AtOjRAVbPJqpayoubMFXvVRUilWXCAH3KKdFtW/zbRuH90N1XlVVJmQ0m5Ta3M+cvGNPy5/ZBaFfP9RbvVJSY0AGd2T8RNp3ZA58QIt5+3rNyGq//7tw7MruiLSwa0Ouoxklln1VkAIHXHGph1iP5p6/HIjEWYeEbfCvsg77fpYA6W7jqsfr6rh7ZBQqT3ajeiump15GB7IiIi38Tgi4jq1rGEXq7Bl4ReMkNMVqKMr2Q1yKT+OhiTlktj1cNaIRVm8r756UDuAT3w/sxHnY9LYNV/fM3fN76r/pmkOkvmQcnMsc3f6xloqq1zpW6jlIouaamU4fjN+3p/L2l3VMHXn7rd0hxsbzLbHZe+BaybeezBl6zc96vxs5/zb31M/nwJ/svfdT7nwtf08e87Tgdf0iaac1DPU1PtmBag71X6uF3xETD1dODwduCji4B/fKHbYx27bTnq8P3jFR8ehPtGd8NNp3VUs7tktlhEcIBbi6eEXw98vU6tgvnMmN7o0cJ9n6RK652rB+LOGavwD6MtdVXUKAzI/hWXWhehsP9kXH1ON7fXyOwyuaxMzlSh26YDOUg+XKCCLbm0iArGg+d1x4V9kiq0MvZrHY0rBrVW/5BfuC0Dv2xKVW2iRwpK1QyzBVvT8f3tJyMpylnZ9+4fO1XoJZ74fhNO7hxfaYulmLV6vwrzzu7ZHM+M7aWOgzfJh/MRJDPmLEAp/BFgKUP6+t8wam22WqVUQj5p65Q2Tfl8qXQzfbo0GS9d0VdV8RHVtUK2OhIREfk0Bl9E1DiFxuvroEjg6m+qXgkyLA74v63HHrJVRkIHaXc02w1lRpkEU8dL9lPaHbfO0RVdqoUSwLBb9FD6LycCf76sq7hEl7Mr/9nan6KHxstzZVEA0XKg+3P6XQUsfVu3G6b8Xb05aK5kPtfX1+tVNqXlcuhN+tjI3LFZU3Q4N/BaZ+ultGlKy+nepcD6L/SKkkJaQaNbO6v0rpoB/G8scHCNXu3x6q+OvvBBHYgMDsDonl5mxxnh12tXVl1FKNVob5xSCv+dKSiyB2BS2uV4PKAQl1gXYXz2VMB+sdcFFwa2jVUXUW6zq+qx9Nxi9GwRWWnYZJKWLTNAk4qu5XuO4InvN6oquVs+XYXPbzxJDfuXUE3mkIn48EBk5JXg8e82qrDOmznrD6rh/TLHTFo59xzOx3vXDFQhoSv5zIdnLMInFt3+6d/7EvVrfWWzPfg1fbBqyTTnv5kkdBjcPhap2UVqP6/9YLmqUPu/s7vWakUfkad8I/hixRcREZFv4pkmETVO0jrY9XwdepmztqpS26GXSarIxEm3OIOd2iDBl1j4AnBkDxDRAjjtQaDnGKD/NTI9Cdj7d+XzvUxtZeVEi17dMXVdxYov0by3bjEUc+8DbBVnR7nZuxxYNg1Y9TGwdqaesSbvL7PULn7LGeLI/LCbFupKL6kCc9X3SufqjnIR5j6YpCXz+l91UJadArw/yhn2NWbStrnVCEMN/iv1jLP1MWcjG+FIHXgf7P7BsCT/BWyde9S3lGH90uYps7qOFnp5ktlewzrGYeo1gxAZ7I/VKVl48vtNqj3y/75ci9Jyu5oD9vF1Q9Uss7kbUjF3/cEK7zN/SxrumLFahV4yQF/eS1byHPPWX9ieZqzcaHhv4S4U7N+kbpeFt4DFqCQ8I3Az/n7oTMy6dQQ+nDQYr13ZT1WNfXPLcKx5/Gy1SqY8NmFYW8f7XP7eEqQcLqjRz0xUE4VGqyNnfBEREfkmngEQUePUoh9wlRGYNKRB1+l2wtquRDLnfEkVlTj3eSAo3Lj9bz34/vAOPai+w+lVt4TKiplp6/WsMamUkwHyns58HNg0W7dWrv6frtDy5uA64INzAZuzLc1h7Lt6rpiruI764kkCvLkP6MBMBEfrINOTvPb634DPr9JBn1SAjf+y6p/ZZLMdf+ApK2HKqp0pS4HeVwDhzap+vgRz392qb498RM+xk4UFNs5SmwZfcR/WxvRSLX4IvwVY9LJuEZWB/tLiWRP5h4E9C3Wrqt/RwzCZTfbaVf1x3YfL8enfKdienofNB3PU/K9nxvZWs8Jk3tgb83fg0e82qrAsOlTPgpOZYTd/skoN+L+gT5Kqctudka/eS9o8ZUXPkzrEoWNCGJqFB+GVX7fhMr996rX+id30/yPi0BYkWLKR0NplwQkPEuw9eXEv1Vp6/1frsHF/NjILShyz1Yjqbrg9K76IiIh8ESu+iIiqIoFDQjevrWrHRQ2gD3FWlUm4YZJ2ysum6xBLqqSO1l7pWokm1V7e9lUCnZEP6duyGqXMF/NUWqRWWlShlwzNl0ozCaCkquzcF4COZ1T/55MZZl3Pdd7vc0Xl89ekVXXCd3qxAAkCv5gAZOyo+v33/AU80xz47yg9tF8CrJqQ1UL/eAF4cxAw7Qzg538CX1939PdZ8pbz9u9PAz/cBaz8QB8zaTFt0V+HXkKG+MuvoQSYa6pY/bQy8t5fXgssebPaLxnZNQF3n9VF3V62W7chPj1Gh15CBvp3TghHRl4xJn6wHFdNXYpBT/+Ka95fpirERvVIxCvj+qkKtE4J4ao6a0i7WLUq5G+b0/DeH7vw9I+bVUA2qpnxe6hZdx3ASmWhUPPcju6cXkmYc+cpeHlcPzW7jKiuMPgiIiLybQy+iIgaglT/DJqkB+af95+KYZUEY/duBy54+ejvJXO+TJ5tjq4G3wA06wYUHAYWPF/xcQnEDm3WA/0nfg/8Y6YOpCbN0XO9akoG2Zs82xw9BYQAl74PtBoCFGUDn13hPZwz/f4sUF4M7FsGfHIJMH20cwXMqiqopIVTwrLX+wG/P6NDKQkg/QKA3Qurbks8vNP5+Ig7dYvpyg/1+4jBk92fHxwJnPJ/+vafL+kVPKtLjoE5W+7v92r02ttGdsJZ3fXQ+LG9YnB+62Jg7zK1aILM/fr3ZX3Ub7e1e7OwZNdhNfdLnN87CW/+o78aRm+SlSg/mzxUXZ68uKdqURzRKQ6nd22GU6MO6ydJMCzan6avd/9R+c7J8X/vVCArRd1tFROKi/q2qP5xITqOVR3Z6khEROSbeAZARNRQznlOXypT3TY+1TYpwZldD8evKmw753ngf2N0ACGv63ah/pxdC/TKj+YQf8+WxmPR6Uyg16W6+kuCvKORirArP9UVWJk7gS8mAld/XbFF8MBqIHkR4OcPDJioq6lUm+QYYPRzepEAV+VlwPd3Aus+1+2gQlbAlGq2PuOAbufrYGrRK8Avj+gKPH/dAuhm6Tv6GHceDYx6Emg1GPj6Br1qpfyMPcdWfI20lMr7StCz9nNggMxvcyErekpFn7/78HgVsJltsDn79aqfvS45+jFUv20seHvwIWD/LQjckQW85vLgRW9gwIAJePOqAVi/P1tVdUkFmFyHBflXOkNseMd4dXHz0lZnxZcZfEl1mgSI3uycD8y5Tx/DNTOA0x+o1s9DVFsVXxxuT0RE5JtY8UVEdKKT0GX4bUCnUc6h+ZWRlRW7XwjYy3VL4ZsDgSVvA7OMsGjgJKDL6NrZLwmspGXz/Jeq/xq12uPnQECYrhyae3/l7YY9L9EVcXeu1fstZJ7W/pXuz//1Mb1ypoReEsCNfha4ZzNwzbd6CH9QBHDyPbrSTQK35dMqfqZUn5ntimawJsdRKuJaDADOesJ7K2dgKDDiDn37zxd1CGeSFs2XugGfXFqxxXLDN/pa9skRulVTST4C5/4fAkuy9H3/YCDcWLVS5q5lbMf5fZLw4LndcNnAVujbOto99JLKtp8fBtI2Vv4ZhVlArjEg35x/13YYYLHqxRqOJLs/P3u/Dgkl9KpBOyRRbSgoLnesLEpERES+h8EXEVFTcPbTwNVfVT5Hy9WYd4DhtwPBUUDmLuDnh3RVkayuONpo22tIzXsBl/5XV7GtmK5XlzRl7wM2fqtvDzOGzEc0By54BehxsQ63vrpOtwqKdV86K9ku+0CvQimvk9d4tiWe+ai+veDfui3S1cqPgNICvZCA2dIn2pwE3Pg7MHBi1QskyKwvCYTWf+FcRECCR2nXlBDItT1QQjapjlL7/L5uw5SWzn0ugZ4EZas/Bbb8WPHzpMIs9wAQ3Qa4fzfwcKoO+tqfqn+Gr68HyoxqMlfynvJzvnuKrtz66nq9gIA35qIFka30sRMSIMqcM89gS9o0v5qkW2xln8S+5XqmHFE9KCg1K77Y6EBEROSLGHwREfkaCSgkKLt7E3Dei0BcJyAoErhk2tEH6deXbucBZzysb/94r16N0px3JeGWrCIoK3+aZGjVha/rYEUCpu/v0uHS7Nv14zJr62itgv3G6wHtxdnAgmfdg5tlU/Xtk6bUfKEDOaYSNIqFL+r9kxlmJXnOBQ6k1dK0ZY5zgQEJq6RdVP3s7zgDqp8eAr67Bfj8H8Cq/zlfK5VWf72ub5/9jB46L/sr7axj39PVgXIs5z/lvo+yMuXn44Hv7wBK8/U2mfe241fvP1P6Zn3tudqp7K9Y+q5up92/SlfcSStqUJSukAtP1O2h+1fU7DgSHaNCx4wvVnwRERH5IgZfRES+KigcGDIZuG2FrgyqajB+Qzj5//Q8LamKkuooqfaSiiTXai9XIdHApdP17K+N3wAfng+UFQIdzwRGGiHa0VbwlBlhYsUHeoXL5e8DS9/WFXHSdtj78mP7WWRhgZBY3Ur53mm6TVBmY93wm95fmYu1zwiCzIo2c2bYSTc7t+cc0HPIzBBMSFglYZmQx+R4SQAlrZiuIlsAFxkrRC5+Xc/Z+nuqDrxe7w9s/VFXl416Chh2m37eX64DwrxUfCUY871MZpts2npgzr3AtJH6+Ikxb+uqQnMV0j2Lan4ciY4BV3UkIiLybQy+iIh8nVQEWRthC5BUKV3ynrOKa+pIXY0lFWoSiHnTejBwhtGyWJwDxLTTbZMSalWHrJDZ+wo9A23dTODHe3TFkhleeQ6hr0nIKHPYRFEWEJEEjP9St3XK54k/X9bD7ncZq1P2GKOvW/TXs9uk0u2jC3UbopD2zn5XA3abbiWUqrHNs/XgflnEwFtlWvcL9MB9MetmYO59wJYf9LGSIG7yfD2T7KRbdAiW/Bewd3kVFV/Gio6m1kOAa38ETntAB47B0Xq7zFCTzxYMvqie5TuCr0b45xwRERHVOZ4BEBFR4yWteVd8DLw/GshP19tUKFPF9zbD79DBTPJiYNynut2vJsa+q4feS3teylJdiSXz0AZff3w/y+DJuv2vJB/4xxdAdGu9/eS7gLUzdMXVn+11wCWzxJp1cb5WWixTlgCHd+j7smCAzA7rPwEoyAC2/QTMe1I/JtsTe1a+HzLcX1bGPLQVaD0U6HCanlsmAZsZEEa1BPpcoQf6L34NGPeJ+3vIa71VfJnBlhluSVumhHlhcS6Pn6Kv9y7Tc76qM5eO6Diw1ZGIiMi3MfgiIqLGTQKZ814Avr9TD4nve1X1KsUkdKnpPC71eivQ6Ux9ETapFjHmZB0PGQI/ZbHeL9cgSOZkSTXU5u+d1Vw9jWovU9fzdZugLEYgc9mk+kxIpZ4M7f/fGB3USYXV0do6ZebY5AW6UqyqSj+ZSybB1+YfgIwdQHwn5/D9vFTnvldFjr/rzyqkYk/mfOWl6TlfZkhGVEfY6khEROTb2OpIRESN34CJukpq4mwgMLR6rzmW0KuyIOx4Qy+TVJ95BkFmK6CrHsZ8L5MEVNfO0atSylw2V3I8rvocGDoFuPyD6lW4yc9ztPZWqebqco6UbTkDOZFuzPeKaq0XSqgp+XUxq77Y7kj1Gnzx+14iIiJfxOCLiIgaPwlLZHB6VS18J7KWA4AOI/VtWVnSrK5yFZkEJPX1/noJu859Huh4Ru3u14g79fWaz/SKkeZqj9Wp9qqKWeW1+8/j3UOqobfeegvt2rVDcHAwhg4dimXLllX5/KysLNx6661ISkpCUFAQunTpgjlzjMUUPDz//POwWCy466670JgUsNWRiIjIp/GrLyIiosbg7Kf1Co2n3odGQ4bqtxykWxLfHAT0vEQPwvc22L4mzIqvfcs556sezZw5E/fccw/effddFXq9+uqrGD16NLZu3YqEhIQKzy8pKcGoUaPUY1999RVatmyJ5ORkREcbixa4WL58Od577z306dMHjUm5zY6iUpu6HcLgi4iIyCex4ouIiKgxkBUeZVXFrueiUVXajXkbaDUYKC8B1n0ObJ1T+WD76orrCIQ3B8qLdfhF9eLll1/G5MmTMWnSJPTo0UMFYKGhoZg+fbrX58v2zMxMzJo1CyNGjFCVYqeddhr69nWvPMzLy8P48eMxbdo0xMTEoDEpLNVtjiKMrY5EREQ+icEXERERVU5aGm/4DbhhPtBnHOAXoC9SDXas1Jwvo92Rc77qhVRvrVy5EmeddZZjm5+fn7q/ZMkSr6+ZPXs2hg0bplodExMT0atXLzz77LMoL3eGSUIeP//8893euyrFxcXIyclxu9R1m6P8lgsO4GkvERGRL+JXX0RERHR0rQYCraYCZz8DlOYDMe2O7/3anwJs+IrBVz3JyMhQgZUEWK7k/pYtxoIFHnbt2oX58+erai6Z67Vjxw7ccsstKC0txeOPP66e8/nnn2PVqlWq1bG6nnvuOTzxxBOoD4XGYPuQAKuaP0ZERES+h199ERERUfWFNzv+0MttztcyoLTw+N+Pap3NZlPzvaZOnYqBAwdi3LhxePjhh1WLpNi7dy/uvPNOfPrpp2pYfnU99NBDyM7OdlzkfeoKV3QkIiIingUQERFR/YvtAEQkAbkH9Zyv9qc29B41afHx8bBarUhLS3PbLvebN2/u9TWykmNAQIB6nal79+5ITU11tE6mp6djwIABjselqmzhwoV48803VUuj62tNsjqkXOoDV3QkIiIiBl9ERERU/6Tt7MLXgPBEoHnvht6bJi8wMFBVbc2bNw9jxoxxVHTJ/dtuu83ra2Sg/WeffaaeJ/PAxLZt21QgJu935plnYv369W6vkcH53bp1wwMPPOA19KpvnRMjMGPySfBjlyMREZHPYvBFREREDaPL6IbeA59yzz33YOLEiRg0aBCGDBmCV199Ffn5+SqsEhMmTEDLli3VDC4xZcoUVbkl7Yy33347tm/frobb33HHHerxiIgINfDeVVhYGOLi4ipsbyiRwQEY1jGuoXeDiIiIGhCDLyIiIiIfIDO6Dh06hMcee0y1K/br1w8//fSTY+B9SkqKo7JLtG7dGj///DPuvvtu9OnTR4ViEoJJNRcRERHRicJit9vtaORkmeuoqCg1ADUyMrKhd4eIiIhOADx/ODHw14mIiIjq8vyBqzoSEREREREREVGTxOCLiIiIiIiIiIiaJAZfRERERERERETUJDH4IiIiIiIiIiKiJonBFxERERERERERNUkMvoiIiIiIiIiIqEli8EVERERERERERE0Sgy8iIiIiIiIiImqSjin4euutt9CuXTsEBwdj6NChWLZsWbVe9/nnn8NisWDMmDHH8rFERERERERERER1F3zNnDkT99xzDx5//HGsWrUKffv2xejRo5Genl7l6/bs2YN7770Xp5xySk0/koiIiIiIiIiIqO6Dr5dffhmTJ0/GpEmT0KNHD7z77rsIDQ3F9OnTK31NeXk5xo8fjyeeeAIdOnSo+V4SERERERERERHVZfBVUlKClStX4qyzznK+gZ+fur9kyZJKX/fkk08iISEB119/fbU+p7i4GDk5OW4XIiIiIiIiIiKiOgu+MjIyVPVWYmKi23a5n5qa6vU1ixYtwvvvv49p06ZV+3Oee+45REVFOS6tW7euyW4SERERERERERHV7aqOubm5uOaaa1ToFR8fX+3XPfTQQ8jOznZc9u7dW5e7SURERERERERETZB/TZ4s4ZXVakVaWprbdrnfvHnzCs/fuXOnGmp/4YUXOrbZbDb9wf7+2Lp1Kzp27FjhdUFBQepCRERERERERERULxVfgYGBGDhwIObNm+cWZMn9YcOGVXh+t27dsH79eqxZs8ZxueiiizBy5Eh1my2MRERERERERETUKCq+xD333IOJEydi0KBBGDJkCF599VXk5+erVR7FhAkT0LJlSzWnKzg4GL169XJ7fXR0tLr23E5ERERERERERNSgwde4ceNw6NAhPPbYY2qgfb9+/fDTTz85Bt6npKSolR6JiIiIiIiIiIgaksVut9vRyOXk5KjVHWXQfWRkZEPvDhEREZ0AeP5wYuCvExEREdXl+UONK74agpnNyQ9GREREVB3mecMJ8B2fT+N5HhEREdXled4JEXzl5uaqaw7DJyIiomM5j5BvBKlx4nkeERER1eV53gnR6igrRx44cAARERGwWCx1khTKydbevXtZYn8UPFY1w+NVMzxe1cdjVTM8Xr55vOQUR06GWrRowfmjjRjP8xoPHqua4fGqGR6v6uOxqhkeL988XvYanOedEBVf8kO0atWqzj9HftFP5F/4+sRjVTM8XjXD41V9PFY1w+Ple8eLlV6NH8/zGh8eq5rh8aoZHq/q47GqGR4v3zteUdU8z+PXn0RERERERERE1CQx+CIiIiIiIiIioiaJwReAoKAgPP744+qaqsZjVTM8XjXD41V9PFY1w+NVMzxe1JTw93P18VjVDI9XzfB4VR+PVc3weNVMkA8erxNiuD0REREREREREVFNseKLiIiIiIiIiIiaJAZfRERERERERETUJDH4IiIiIiIiIiKiJonBFxERERERERERNUk+H3y99dZbaNeuHYKDgzF06FAsW7asoXepUXjuuecwePBgREREICEhAWPGjMHWrVvdnlNUVIRbb70VcXFxCA8Px6WXXoq0tDT4uueffx4WiwV33XWXYxuPlbv9+/fj6quvVscjJCQEvXv3xooVKxyPy5objz32GJKSktTjZ511FrZv3w5fVF5ejkcffRTt27dXx6Jjx4546qmn1DHy9eO1cOFCXHjhhWjRooX6f27WrFluj1fnuGRmZmL8+PGIjIxEdHQ0rr/+euTl5cHXjldpaSkeeOAB9f9iWFiYes6ECRNw4MABnz1e1DTwPM87nucdO57nHR3P86qP53mV43lezfA8r2o+HXzNnDkT99xzj1rKc9WqVejbty9Gjx6N9PR0+Lo//vhD/QW+dOlS/Prrr+p/lrPPPhv5+fmO59x99934/vvv8eWXX6rny/84l1xyCXzZ8uXL8d5776FPnz5u23msnI4cOYIRI0YgICAAc+fOxaZNm/DSSy8hJibG8ZwXXngBr7/+Ot599138/fff6g9o+X9TTix9zb///W+88847ePPNN7F582Z1X47PG2+8AV8/XvLnkfy5Lf+w9aY6x0X+ct+4caP6c+6HH35QJw033ngjfO14FRQUqL8H5eRbrr/55hv1j+CLLrrI7Xm+dLzoxMfzvMrxPO/Y8Dzv6HieVzM8z6scz/Nqhud5R2H3YUOGDLHfeuutjvvl5eX2Fi1a2J977rkG3a/GKD09Xb52sP/xxx/qflZWlj0gIMD+5ZdfOp6zefNm9ZwlS5bYfVFubq69c+fO9l9//dV+2mmn2e+88061ncfK3QMPPGA/+eSTK33cZrPZmzdvbv/Pf/7j2CbHMCgoyD5jxgy7rzn//PPt1113ndu2Sy65xD5+/Hh1m8dLk/+fvv32W8f96hyXTZs2qdctX77c8Zy5c+faLRaLff/+/XZfOl7eLFu2TD0vOTnZ7uvHi05MPM+rPp7nHR3P86qH53k1w/O86uF5Xs3wPK8in634KikpwcqVK1VJpMnPz0/dX7JkSYPuW2OUnZ2trmNjY9W1HDv5dtD1+HXr1g1t2rTx2eMn35yef/75bsdE8Fi5mz17NgYNGoTLL79ctVf0798f06ZNczy+e/dupKamuh2vqKgo1aLii8dr+PDhmDdvHrZt26bur127FosWLcK5556r7vN4eVed4yLXUsYtvx9N8nz5u0C+OfR18ue+lMrLMRI8XnQi4XlezfA87+h4nlc9PM+rGZ7nHRue5x2/bB87z/OHj8rIyFA91YmJiW7b5f6WLVsabL8aI5vNpuYYSNlyr1691Db5gyYwMNDxP4rr8ZPHfM3nn3+uykalBN4Tj5W7Xbt2qZJuaT/55z//qY7ZHXfcoY7RxIkTHcfE2/+bvni8HnzwQeTk5KiTaKvVqv7ceuaZZ1QpsuDx8q46x0Wu5aTclb+/v/qHny8fOyFtAjIL4qqrrlJzHgSPF51IeJ5XfTzPOzqe51Ufz/Nqhud5x4bnecenyAfP83w2+KKafcO1YcMG9e0DVbR3717ceeedqhdahufS0U+w5ZuEZ599Vt2XbwLl95f058sJEbn74osv8Omnn+Kzzz5Dz549sWbNGvUPFBlKyeNFdUEqF6644go1NFb+8UJETRvP86rG87ya4XlezfA8j+pbqY+e5/lsq2N8fLxK1T1XXJH7zZs3b7D9amxuu+02Ndju999/R6tWrRzb5RhJG0FWVhZ8/fhJibsMyh0wYIBKxeUig01l2KLclm8eeKycZOWVHj16uG3r3r07UlJS1G3zmPD/Te2+++5T3wZeeeWVaiWWa665Rg3RlRW5BI+Xd9U5LnLtOeS6rKxMrWjjq8fOPBlKTk5W/8gzvwUUPF50IuF5XvXwPO/oeJ5XMzzPqxme5x0bnucdm1IfPs/z2eBLym0HDhyoeqpdv6GQ+8OGDYOvkwRYToa+/fZbzJ8/Xy2x60qOnazW4nr8ZGUI+UvN147fmWeeifXr16tvaMyLfNMlJcrmbR4rJ2ml8FwyXeYatG3bVt2W32vyh6vr8ZIScOkt98XjJauwSG+9K/nHnPx5JXi8vKvOcZFr+YeK/KPGJH/eybGVGRG+ejIkS4H/9ttvahl6VzxedCLheV7VeJ5XfTzPqxme59UMz/OODc/zaq7U18/z7D7s888/Vys/fPjhh2oVgxtvvNEeHR1tT01Ntfu6KVOm2KOiouwLFiywHzx40HEpKChwPOfmm2+2t2nTxj5//nz7ihUr7MOGDVMXsrut9iN4rNxXEPH397c/88wz9u3bt9s//fRTe2hoqP2TTz5xPOf5559X/y9+99139nXr1tkvvvhie/v27e2FhYV2XzNx4kR7y5Yt7T/88IN99+7d9m+++cYeHx9vv//+++2+frxkha3Vq1eri/x19vLLL6vb5uo01Tku55xzjr1///72v//+275o0SK1YtdVV11l97XjVVJSYr/ooovsrVq1sq9Zs8btz/3i4mKfPF504uN5XuV4nnd8eJ5XOZ7n1QzP8yrH87ya4Xle1Xw6+BJvvPGG+osqMDBQLXu9dOnSht6lRkH+Z/F2+eCDDxzPkT9UbrnlFntMTIz6C23s2LHqfx6qeELEY+Xu+++/t/fq1Uv9g6Rbt272qVOnuj0uSxQ/+uij9sTERPWcM888075161a7L8rJyVG/l+TPqeDgYHuHDh3sDz/8sNtfUr56vH7//Xevf07JSWR1j8vhw4fVX+jh4eH2yMhI+6RJk9SJg68dLznZruzPfXmdLx4vahp4nucdz/OOD8/zqsbzvOrjeV7leJ5XMzzPq5pF/tPQVWdERERERERERES1zWdnfBERERERERERUdPG4IuIiIiIiIiIiJokBl9ERERERERERNQkMfgiIiIiIiIiIqImicEXERERERERERE1SQy+iIiIiIiIiIioSWLwRURERERERERETRKDLyIiIiIiIiIiapIYfBGRT7BYLJg1a1ZD7wYRERER1QGe6xFRZRh8EVGdu/baa9XJiOflnHPOaehdIyIiIqLjxHM9ImrM/Bt6B4jIN8iJzwcffOC2LSgoqMH2h4iIiIhqD8/1iKixYsUXEdULOfFp3ry52yUmJkY9Jt8IvvPOOzj33HMREhKCDh064KuvvnJ7/fr163HGGWeox+Pi4nDjjTciLy/P7TnTp09Hz5491WclJSXhtttuc3s8IyMDY8eORWhoKDp37ozZs2c7Hjty5AjGjx+PZs2aqc+Qxz1P3oiIiIjIO57rEVFjxeCLiBqFRx99FJdeeinWrl2rTkquvPJKbN68WT2Wn5+P0aNHq5On5cuX48svv8Rvv/3mdrIjJ1O33nqrOkmSEyc50enUqZPbZzzxxBO44oorsG7dOpx33nnqczIzMx2fv2nTJsydO1d9rrxffHx8PR8FIiIioqaJ53pE1GDsRER1bOLEiXar1WoPCwtzuzzzzDPqcfmj6Oabb3Z7zdChQ+1TpkxRt6dOnWqPiYmx5+XlOR7/8ccf7X5+fvbU1FR1v0WLFvaHH3640n2Qz3jkkUcc9+W9ZNvcuXPV/QsvvNA+adKkWv7JiYiIiJo+nusRUWPGGV9EVC9GjhypvllzFRsb67g9bNgwt8fk/po1a9Rt+Vaub9++CAsLczw+YsQI2Gw2bN26VZXPHzhwAGeeeWaV+9CnTx/HbXmvyMhIpKenq/tTpkxR30KuWrUKZ599NsaMGYPhw4cf509NRERE5Bt4rkdEjRWDLyKqF3Ly4VmOXltkTkN1BAQEuN2Xkyg5oRIycyI5ORlz5szBr7/+qk6spJz+xRdfrJN9JiIiImpKeK5HRI0VZ3wRUaOwdOnSCve7d++ubsu1zIOQ+Q+mv/76C35+fujatSsiIiLQrl07zJs377j2QYadTpw4EZ988gleffVVTJ069bjej4iIiIg0nusRUUNhxRcR1Yvi4mKkpqa6bfP393cMFZUhpoMGDcLJJ5+MTz/9FMuWLcP777+vHpPBpI8//rg6UfnXv/6FQ4cO4fbbb8c111yDxMRE9RzZfvPNNyMhIUF9o5ebm6tOmOR51fHYY49h4MCBaqUg2dcffvjBcTJGRERERFXjuR4RNVYMvoioXvz0009q2WlX8g3eli1bHKvwfP7557jlllvU82bMmIEePXqox2RJ6p9//hl33nknBg8erO7LjIaXX37Z8V5yolRUVIRXXnkF9957rzrJuuyyy6q9f4GBgXjooYewZ88eVU5/yimnqP0hIiIioqPjuR4RNVYWmXDf0DtBRL5N5i98++23asgoERERETUtPNcjoobEGV9ERERERERERNQkMfgiIiIiIiIiIqImia2ORERERERERETUJLHii4iIiIiIiIiImiQGX0RERERERERE1CQx+CIiIiIiIiIioiaJwRcRERERERERETVJDL6IiIiIiIiIiKhJYvBFRERERERERERNEoMvIiIiIiIiIiJqkhh8ERERERERERERmqL/BylR5rUGhqtvAAAAAElFTkSuQmCC",
      "text/plain": [
       "<Figure size 1500x700 with 2 Axes>"
      ]
     },
     "metadata": {},
     "output_type": "display_data"
    }
   ],
   "source": [
    "train_model(args)\n"
   ]
  }
 ],
 "metadata": {
  "kernelspec": {
   "display_name": "Python 3",
   "language": "python",
   "name": "python3"
  },
  "language_info": {
   "codemirror_mode": {
    "name": "ipython",
    "version": 3
   },
   "file_extension": ".py",
   "mimetype": "text/x-python",
   "name": "python",
   "nbconvert_exporter": "python",
   "pygments_lexer": "ipython3",
   "version": "3.13.0"
  }
 },
 "nbformat": 4,
 "nbformat_minor": 2
}
