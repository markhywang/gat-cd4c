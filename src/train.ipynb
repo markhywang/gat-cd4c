{
 "cells": [
  {
   "cell_type": "code",
   "execution_count": 1,
   "metadata": {},
   "outputs": [
    {
     "name": "stdout",
     "output_type": "stream",
     "text": [
      "Using device: cpu\n"
     ]
    }
   ],
   "source": [
    "import torch\n",
    "\n",
    "# Local imports\n",
    "from train import train_model"
   ]
  },
  {
   "cell_type": "code",
   "execution_count": 2,
   "metadata": {},
   "outputs": [
    {
     "name": "stdout",
     "output_type": "stream",
     "text": [
      "Using device: cuda:0\n"
     ]
    }
   ],
   "source": [
    "if torch.backends.mps.is_available():\n",
    "    device = torch.device(\"mps\")\n",
    "elif torch.cuda.is_available():\n",
    "    device = torch.device(\"cuda:0\")\n",
    "else:\n",
    "    device = torch.device(\"cpu\")\n",
    "\n",
    "print(f\"Using device: {device}\")"
   ]
  },
  {
   "cell_type": "code",
   "execution_count": 3,
   "metadata": {},
   "outputs": [],
   "source": [
    "args = {\n",
    "    \"use_small_dataset\": False,\n",
    "    \"batch_size\": 64,\n",
    "    \"stoppage_epochs\": 42,\n",
    "    \"max_epochs\": 512,\n",
    "    \"seed\": 42,\n",
    "    \"data_path\": \"../data\",\n",
    "    \"frac_train\": 0.8,\n",
    "    \"frac_validation\": 0.1,\n",
    "    \"frac_test\": 0.1,\n",
    "    \"huber_beta\": 4.0,\n",
    "    \"weight_decay\": 1e-3,\n",
    "    \"lr\": 3e-4,\n",
    "    \"scheduler_patience\": 10,\n",
    "    \"scheduler_factor\": 0.5,\n",
    "    \"hidden_size\": 96,\n",
    "    \"num_layers\": 7,\n",
    "    \"num_attn_heads\": 6,\n",
    "    \"dropout\": 0.2,\n",
    "    \"leaky_relu_slope\": 0.2,\n",
    "    \"pooling_dim\": 96,\n",
    "}"
   ]
  },
  {
   "cell_type": "code",
   "execution_count": null,
   "metadata": {},
   "outputs": [
    {
     "name": "stdout",
     "output_type": "stream",
     "text": [
      "Model parameters: 182714\n"
     ]
    },
    {
     "name": "stderr",
     "output_type": "stream",
     "text": [
      "Epoch 1/512: 100%|██████████████████████████████████████████████████████████████████████| 910/910 [02:34<00:00,  5.90it/s]\n"
     ]
    },
    {
     "name": "stdout",
     "output_type": "stream",
     "text": [
      "Epoch 1/512: Train Loss = 0.16797, Validation Loss = 0.16351, Train Accuracy = 0.61156, Validation Accuracy = 0.60929\n"
     ]
    },
    {
     "name": "stderr",
     "output_type": "stream",
     "text": [
      "Epoch 2/512: 100%|██████████████████████████████████████████████████████████████████████| 910/910 [00:44<00:00, 20.66it/s]\n"
     ]
    },
    {
     "name": "stdout",
     "output_type": "stream",
     "text": [
      "Epoch 2/512: Train Loss = 0.16221, Validation Loss = 0.15790, Train Accuracy = 0.62361, Validation Accuracy = 0.62400\n"
     ]
    },
    {
     "name": "stderr",
     "output_type": "stream",
     "text": [
      "Epoch 3/512: 100%|██████████████████████████████████████████████████████████████████████| 910/910 [00:44<00:00, 20.52it/s]\n"
     ]
    },
    {
     "name": "stdout",
     "output_type": "stream",
     "text": [
      "Epoch 3/512: Train Loss = 0.15621, Validation Loss = 0.15263, Train Accuracy = 0.63677, Validation Accuracy = 0.65067\n"
     ]
    },
    {
     "name": "stderr",
     "output_type": "stream",
     "text": [
      "Epoch 4/512: 100%|██████████████████████████████████████████████████████████████████████| 910/910 [00:44<00:00, 20.44it/s]\n"
     ]
    },
    {
     "name": "stdout",
     "output_type": "stream",
     "text": [
      "Epoch 4/512: Train Loss = 0.15167, Validation Loss = 0.14881, Train Accuracy = 0.65231, Validation Accuracy = 0.64779\n"
     ]
    },
    {
     "name": "stderr",
     "output_type": "stream",
     "text": [
      "Epoch 5/512: 100%|██████████████████████████████████████████████████████████████████████| 910/910 [00:44<00:00, 20.44it/s]\n"
     ]
    },
    {
     "name": "stdout",
     "output_type": "stream",
     "text": [
      "Epoch 5/512: Train Loss = 0.14859, Validation Loss = 0.14303, Train Accuracy = 0.65679, Validation Accuracy = 0.67652\n"
     ]
    },
    {
     "name": "stderr",
     "output_type": "stream",
     "text": [
      "Epoch 6/512: 100%|██████████████████████████████████████████████████████████████████████| 910/910 [00:44<00:00, 20.48it/s]\n"
     ]
    },
    {
     "name": "stdout",
     "output_type": "stream",
     "text": [
      "Epoch 6/512: Train Loss = 0.14498, Validation Loss = 0.14025, Train Accuracy = 0.66468, Validation Accuracy = 0.67913\n"
     ]
    },
    {
     "name": "stderr",
     "output_type": "stream",
     "text": [
      "Epoch 7/512: 100%|██████████████████████████████████████████████████████████████████████| 910/910 [00:44<00:00, 20.45it/s]\n"
     ]
    },
    {
     "name": "stdout",
     "output_type": "stream",
     "text": [
      "Epoch 7/512: Train Loss = 0.14195, Validation Loss = 0.13603, Train Accuracy = 0.67325, Validation Accuracy = 0.68436\n"
     ]
    },
    {
     "name": "stderr",
     "output_type": "stream",
     "text": [
      "Epoch 8/512: 100%|██████████████████████████████████████████████████████████████████████| 910/910 [00:44<00:00, 20.45it/s]\n"
     ]
    },
    {
     "name": "stdout",
     "output_type": "stream",
     "text": [
      "Epoch 8/512: Train Loss = 0.13836, Validation Loss = 0.13515, Train Accuracy = 0.68068, Validation Accuracy = 0.68793\n"
     ]
    },
    {
     "name": "stderr",
     "output_type": "stream",
     "text": [
      "Epoch 9/512: 100%|██████████████████████████████████████████████████████████████████████| 910/910 [00:44<00:00, 20.43it/s]\n"
     ]
    },
    {
     "name": "stdout",
     "output_type": "stream",
     "text": [
      "Epoch 9/512: Train Loss = 0.13488, Validation Loss = 0.13252, Train Accuracy = 0.68628, Validation Accuracy = 0.69769\n"
     ]
    },
    {
     "name": "stderr",
     "output_type": "stream",
     "text": [
      "Epoch 10/512: 100%|█████████████████████████████████████████████████████████████████████| 910/910 [00:44<00:00, 20.44it/s]\n"
     ]
    },
    {
     "name": "stdout",
     "output_type": "stream",
     "text": [
      "Epoch 10/512: Train Loss = 0.13213, Validation Loss = 0.14025, Train Accuracy = 0.69511, Validation Accuracy = 0.68147\n"
     ]
    },
    {
     "name": "stderr",
     "output_type": "stream",
     "text": [
      "Epoch 11/512: 100%|█████████████████████████████████████████████████████████████████████| 910/910 [00:44<00:00, 20.45it/s]\n"
     ]
    },
    {
     "name": "stdout",
     "output_type": "stream",
     "text": [
      "Epoch 11/512: Train Loss = 0.12914, Validation Loss = 0.12862, Train Accuracy = 0.70082, Validation Accuracy = 0.70608\n"
     ]
    },
    {
     "name": "stderr",
     "output_type": "stream",
     "text": [
      "Epoch 12/512: 100%|█████████████████████████████████████████████████████████████████████| 910/910 [00:44<00:00, 20.39it/s]\n"
     ]
    },
    {
     "name": "stdout",
     "output_type": "stream",
     "text": [
      "Epoch 12/512: Train Loss = 0.12703, Validation Loss = 0.12201, Train Accuracy = 0.70359, Validation Accuracy = 0.70621\n"
     ]
    },
    {
     "name": "stderr",
     "output_type": "stream",
     "text": [
      "Epoch 13/512: 100%|█████████████████████████████████████████████████████████████████████| 910/910 [00:44<00:00, 20.51it/s]\n"
     ]
    },
    {
     "name": "stdout",
     "output_type": "stream",
     "text": [
      "Epoch 13/512: Train Loss = 0.12506, Validation Loss = 0.12082, Train Accuracy = 0.70738, Validation Accuracy = 0.71419\n"
     ]
    },
    {
     "name": "stderr",
     "output_type": "stream",
     "text": [
      "Epoch 14/512: 100%|█████████████████████████████████████████████████████████████████████| 910/910 [00:44<00:00, 20.40it/s]\n"
     ]
    },
    {
     "name": "stdout",
     "output_type": "stream",
     "text": [
      "Epoch 14/512: Train Loss = 0.12348, Validation Loss = 0.11622, Train Accuracy = 0.71239, Validation Accuracy = 0.71927\n"
     ]
    },
    {
     "name": "stderr",
     "output_type": "stream",
     "text": [
      "Epoch 15/512: 100%|█████████████████████████████████████████████████████████████████████| 910/910 [00:44<00:00, 20.34it/s]\n"
     ]
    },
    {
     "name": "stdout",
     "output_type": "stream",
     "text": [
      "Epoch 15/512: Train Loss = 0.12152, Validation Loss = 0.12059, Train Accuracy = 0.71247, Validation Accuracy = 0.71240\n"
     ]
    },
    {
     "name": "stderr",
     "output_type": "stream",
     "text": [
      "Epoch 16/512: 100%|█████████████████████████████████████████████████████████████████████| 910/910 [00:44<00:00, 20.52it/s]\n"
     ]
    },
    {
     "name": "stdout",
     "output_type": "stream",
     "text": [
      "Epoch 16/512: Train Loss = 0.12017, Validation Loss = 0.11546, Train Accuracy = 0.71629, Validation Accuracy = 0.72615\n"
     ]
    },
    {
     "name": "stderr",
     "output_type": "stream",
     "text": [
      "Epoch 17/512: 100%|█████████████████████████████████████████████████████████████████████| 910/910 [00:44<00:00, 20.46it/s]\n"
     ]
    },
    {
     "name": "stdout",
     "output_type": "stream",
     "text": [
      "Epoch 17/512: Train Loss = 0.11855, Validation Loss = 0.11661, Train Accuracy = 0.71826, Validation Accuracy = 0.72354\n"
     ]
    },
    {
     "name": "stderr",
     "output_type": "stream",
     "text": [
      "Epoch 18/512: 100%|█████████████████████████████████████████████████████████████████████| 910/910 [00:44<00:00, 20.47it/s]\n"
     ]
    },
    {
     "name": "stdout",
     "output_type": "stream",
     "text": [
      "Epoch 18/512: Train Loss = 0.11690, Validation Loss = 0.11121, Train Accuracy = 0.72172, Validation Accuracy = 0.72972\n"
     ]
    },
    {
     "name": "stderr",
     "output_type": "stream",
     "text": [
      "Epoch 19/512: 100%|█████████████████████████████████████████████████████████████████████| 910/910 [00:44<00:00, 20.55it/s]\n"
     ]
    },
    {
     "name": "stdout",
     "output_type": "stream",
     "text": [
      "Epoch 19/512: Train Loss = 0.11602, Validation Loss = 0.11180, Train Accuracy = 0.72222, Validation Accuracy = 0.72972\n"
     ]
    },
    {
     "name": "stderr",
     "output_type": "stream",
     "text": [
      "Epoch 20/512: 100%|█████████████████████████████████████████████████████████████████████| 910/910 [00:44<00:00, 20.52it/s]\n"
     ]
    },
    {
     "name": "stdout",
     "output_type": "stream",
     "text": [
      "Epoch 20/512: Train Loss = 0.11466, Validation Loss = 0.11306, Train Accuracy = 0.72711, Validation Accuracy = 0.72739\n"
     ]
    },
    {
     "name": "stderr",
     "output_type": "stream",
     "text": [
      "Epoch 21/512: 100%|█████████████████████████████████████████████████████████████████████| 910/910 [00:44<00:00, 20.37it/s]\n"
     ]
    },
    {
     "name": "stdout",
     "output_type": "stream",
     "text": [
      "Epoch 21/512: Train Loss = 0.11364, Validation Loss = 0.11423, Train Accuracy = 0.72703, Validation Accuracy = 0.72684\n"
     ]
    },
    {
     "name": "stderr",
     "output_type": "stream",
     "text": [
      "Epoch 22/512: 100%|█████████████████████████████████████████████████████████████████████| 910/910 [00:44<00:00, 20.47it/s]\n"
     ]
    },
    {
     "name": "stdout",
     "output_type": "stream",
     "text": [
      "Epoch 22/512: Train Loss = 0.11275, Validation Loss = 0.11136, Train Accuracy = 0.72966, Validation Accuracy = 0.73261\n"
     ]
    },
    {
     "name": "stderr",
     "output_type": "stream",
     "text": [
      "Epoch 23/512: 100%|█████████████████████████████████████████████████████████████████████| 910/910 [00:44<00:00, 20.48it/s]\n"
     ]
    },
    {
     "name": "stdout",
     "output_type": "stream",
     "text": [
      "Epoch 23/512: Train Loss = 0.11196, Validation Loss = 0.10901, Train Accuracy = 0.73083, Validation Accuracy = 0.73728\n"
     ]
    },
    {
     "name": "stderr",
     "output_type": "stream",
     "text": [
      "Epoch 24/512: 100%|█████████████████████████████████████████████████████████████████████| 910/910 [00:44<00:00, 20.38it/s]\n"
     ]
    },
    {
     "name": "stdout",
     "output_type": "stream",
     "text": [
      "Epoch 24/512: Train Loss = 0.11094, Validation Loss = 0.11954, Train Accuracy = 0.73265, Validation Accuracy = 0.73536\n"
     ]
    },
    {
     "name": "stderr",
     "output_type": "stream",
     "text": [
      "Epoch 25/512: 100%|█████████████████████████████████████████████████████████████████████| 910/910 [00:44<00:00, 20.46it/s]\n"
     ]
    },
    {
     "name": "stdout",
     "output_type": "stream",
     "text": [
      "Epoch 25/512: Train Loss = 0.11014, Validation Loss = 0.11526, Train Accuracy = 0.73289, Validation Accuracy = 0.73398\n"
     ]
    },
    {
     "name": "stderr",
     "output_type": "stream",
     "text": [
      "Epoch 26/512: 100%|█████████████████████████████████████████████████████████████████████| 910/910 [00:44<00:00, 20.44it/s]\n"
     ]
    },
    {
     "name": "stdout",
     "output_type": "stream",
     "text": [
      "Epoch 26/512: Train Loss = 0.10913, Validation Loss = 0.11094, Train Accuracy = 0.73406, Validation Accuracy = 0.73563\n"
     ]
    },
    {
     "name": "stderr",
     "output_type": "stream",
     "text": [
      "Epoch 27/512: 100%|█████████████████████████████████████████████████████████████████████| 910/910 [00:44<00:00, 20.43it/s]\n"
     ]
    },
    {
     "name": "stdout",
     "output_type": "stream",
     "text": [
      "Epoch 27/512: Train Loss = 0.10799, Validation Loss = 0.10730, Train Accuracy = 0.73851, Validation Accuracy = 0.74017\n"
     ]
    },
    {
     "name": "stderr",
     "output_type": "stream",
     "text": [
      "Epoch 28/512: 100%|█████████████████████████████████████████████████████████████████████| 910/910 [00:44<00:00, 20.48it/s]\n"
     ]
    },
    {
     "name": "stdout",
     "output_type": "stream",
     "text": [
      "Epoch 28/512: Train Loss = 0.10714, Validation Loss = 0.10681, Train Accuracy = 0.73813, Validation Accuracy = 0.74402\n"
     ]
    },
    {
     "name": "stderr",
     "output_type": "stream",
     "text": [
      "Epoch 29/512: 100%|█████████████████████████████████████████████████████████████████████| 910/910 [00:44<00:00, 20.37it/s]\n"
     ]
    },
    {
     "name": "stdout",
     "output_type": "stream",
     "text": [
      "Epoch 29/512: Train Loss = 0.10728, Validation Loss = 0.10514, Train Accuracy = 0.73961, Validation Accuracy = 0.73962\n"
     ]
    },
    {
     "name": "stderr",
     "output_type": "stream",
     "text": [
      "Epoch 30/512: 100%|█████████████████████████████████████████████████████████████████████| 910/910 [00:44<00:00, 20.53it/s]\n"
     ]
    },
    {
     "name": "stdout",
     "output_type": "stream",
     "text": [
      "Epoch 30/512: Train Loss = 0.10616, Validation Loss = 0.10256, Train Accuracy = 0.74033, Validation Accuracy = 0.74691\n"
     ]
    },
    {
     "name": "stderr",
     "output_type": "stream",
     "text": [
      "Epoch 31/512: 100%|█████████████████████████████████████████████████████████████████████| 910/910 [00:44<00:00, 20.48it/s]\n"
     ]
    },
    {
     "name": "stdout",
     "output_type": "stream",
     "text": [
      "Epoch 31/512: Train Loss = 0.10530, Validation Loss = 0.10812, Train Accuracy = 0.74354, Validation Accuracy = 0.73550\n"
     ]
    },
    {
     "name": "stderr",
     "output_type": "stream",
     "text": [
      "Epoch 32/512: 100%|█████████████████████████████████████████████████████████████████████| 910/910 [00:44<00:00, 20.52it/s]\n"
     ]
    },
    {
     "name": "stdout",
     "output_type": "stream",
     "text": [
      "Epoch 32/512: Train Loss = 0.10428, Validation Loss = 0.10312, Train Accuracy = 0.74323, Validation Accuracy = 0.74993\n"
     ]
    },
    {
     "name": "stderr",
     "output_type": "stream",
     "text": [
      "Epoch 33/512: 100%|█████████████████████████████████████████████████████████████████████| 910/910 [00:44<00:00, 20.61it/s]\n"
     ]
    },
    {
     "name": "stdout",
     "output_type": "stream",
     "text": [
      "Epoch 33/512: Train Loss = 0.10369, Validation Loss = 0.10058, Train Accuracy = 0.74373, Validation Accuracy = 0.75392\n"
     ]
    },
    {
     "name": "stderr",
     "output_type": "stream",
     "text": [
      "Epoch 34/512: 100%|█████████████████████████████████████████████████████████████████████| 910/910 [00:44<00:00, 20.44it/s]\n"
     ]
    },
    {
     "name": "stdout",
     "output_type": "stream",
     "text": [
      "Epoch 34/512: Train Loss = 0.10321, Validation Loss = 0.10525, Train Accuracy = 0.74509, Validation Accuracy = 0.74856\n"
     ]
    },
    {
     "name": "stderr",
     "output_type": "stream",
     "text": [
      "Epoch 35/512: 100%|█████████████████████████████████████████████████████████████████████| 910/910 [00:44<00:00, 20.36it/s]\n"
     ]
    },
    {
     "name": "stdout",
     "output_type": "stream",
     "text": [
      "Epoch 35/512: Train Loss = 0.10232, Validation Loss = 0.10075, Train Accuracy = 0.74791, Validation Accuracy = 0.74924\n"
     ]
    },
    {
     "name": "stderr",
     "output_type": "stream",
     "text": [
      "Epoch 36/512: 100%|█████████████████████████████████████████████████████████████████████| 910/910 [00:44<00:00, 20.48it/s]\n"
     ]
    },
    {
     "name": "stdout",
     "output_type": "stream",
     "text": [
      "Epoch 36/512: Train Loss = 0.10227, Validation Loss = 0.09859, Train Accuracy = 0.74670, Validation Accuracy = 0.75516\n"
     ]
    },
    {
     "name": "stderr",
     "output_type": "stream",
     "text": [
      "Epoch 37/512: 100%|█████████████████████████████████████████████████████████████████████| 910/910 [00:44<00:00, 20.47it/s]\n"
     ]
    },
    {
     "name": "stdout",
     "output_type": "stream",
     "text": [
      "Epoch 37/512: Train Loss = 0.10126, Validation Loss = 0.09942, Train Accuracy = 0.75162, Validation Accuracy = 0.74897\n"
     ]
    },
    {
     "name": "stderr",
     "output_type": "stream",
     "text": [
      "Epoch 38/512: 100%|█████████████████████████████████████████████████████████████████████| 910/910 [00:44<00:00, 20.43it/s]\n"
     ]
    },
    {
     "name": "stdout",
     "output_type": "stream",
     "text": [
      "Epoch 38/512: Train Loss = 0.10059, Validation Loss = 0.09934, Train Accuracy = 0.75050, Validation Accuracy = 0.75681\n"
     ]
    },
    {
     "name": "stderr",
     "output_type": "stream",
     "text": [
      "Epoch 39/512: 100%|█████████████████████████████████████████████████████████████████████| 910/910 [00:44<00:00, 20.42it/s]\n"
     ]
    },
    {
     "name": "stdout",
     "output_type": "stream",
     "text": [
      "Epoch 39/512: Train Loss = 0.09997, Validation Loss = 0.09765, Train Accuracy = 0.75183, Validation Accuracy = 0.75887\n"
     ]
    },
    {
     "name": "stderr",
     "output_type": "stream",
     "text": [
      "Epoch 40/512: 100%|█████████████████████████████████████████████████████████████████████| 910/910 [00:44<00:00, 20.44it/s]\n"
     ]
    },
    {
     "name": "stdout",
     "output_type": "stream",
     "text": [
      "Epoch 40/512: Train Loss = 0.09931, Validation Loss = 0.09697, Train Accuracy = 0.75415, Validation Accuracy = 0.75681\n"
     ]
    },
    {
     "name": "stderr",
     "output_type": "stream",
     "text": [
      "Epoch 41/512: 100%|█████████████████████████████████████████████████████████████████████| 910/910 [00:44<00:00, 20.50it/s]\n"
     ]
    },
    {
     "name": "stdout",
     "output_type": "stream",
     "text": [
      "Epoch 41/512: Train Loss = 0.09911, Validation Loss = 0.09677, Train Accuracy = 0.75411, Validation Accuracy = 0.75419\n"
     ]
    },
    {
     "name": "stderr",
     "output_type": "stream",
     "text": [
      "Epoch 42/512: 100%|█████████████████████████████████████████████████████████████████████| 910/910 [00:44<00:00, 20.36it/s]\n"
     ]
    },
    {
     "name": "stdout",
     "output_type": "stream",
     "text": [
      "Epoch 42/512: Train Loss = 0.09847, Validation Loss = 0.10706, Train Accuracy = 0.75571, Validation Accuracy = 0.75241\n"
     ]
    },
    {
     "name": "stderr",
     "output_type": "stream",
     "text": [
      "Epoch 43/512: 100%|█████████████████████████████████████████████████████████████████████| 910/910 [00:44<00:00, 20.48it/s]\n"
     ]
    },
    {
     "name": "stdout",
     "output_type": "stream",
     "text": [
      "Epoch 43/512: Train Loss = 0.09802, Validation Loss = 0.09751, Train Accuracy = 0.75531, Validation Accuracy = 0.75488\n"
     ]
    },
    {
     "name": "stderr",
     "output_type": "stream",
     "text": [
      "Epoch 44/512: 100%|█████████████████████████████████████████████████████████████████████| 910/910 [00:44<00:00, 20.41it/s]\n"
     ]
    },
    {
     "name": "stdout",
     "output_type": "stream",
     "text": [
      "Epoch 44/512: Train Loss = 0.09722, Validation Loss = 0.10234, Train Accuracy = 0.75490, Validation Accuracy = 0.75296\n"
     ]
    },
    {
     "name": "stderr",
     "output_type": "stream",
     "text": [
      "Epoch 45/512: 100%|█████████████████████████████████████████████████████████████████████| 910/910 [00:44<00:00, 20.44it/s]\n"
     ]
    },
    {
     "name": "stdout",
     "output_type": "stream",
     "text": [
      "Epoch 45/512: Train Loss = 0.09713, Validation Loss = 0.10004, Train Accuracy = 0.75753, Validation Accuracy = 0.75598\n"
     ]
    },
    {
     "name": "stderr",
     "output_type": "stream",
     "text": [
      "Epoch 46/512: 100%|█████████████████████████████████████████████████████████████████████| 910/910 [00:44<00:00, 20.40it/s]\n"
     ]
    },
    {
     "name": "stdout",
     "output_type": "stream",
     "text": [
      "Epoch 46/512: Train Loss = 0.09657, Validation Loss = 0.09782, Train Accuracy = 0.75757, Validation Accuracy = 0.76313\n"
     ]
    },
    {
     "name": "stderr",
     "output_type": "stream",
     "text": [
      "Epoch 47/512: 100%|█████████████████████████████████████████████████████████████████████| 910/910 [00:44<00:00, 20.51it/s]\n"
     ]
    },
    {
     "name": "stdout",
     "output_type": "stream",
     "text": [
      "Epoch 47/512: Train Loss = 0.09607, Validation Loss = 0.09682, Train Accuracy = 0.75858, Validation Accuracy = 0.75900\n"
     ]
    },
    {
     "name": "stderr",
     "output_type": "stream",
     "text": [
      "Epoch 48/512: 100%|█████████████████████████████████████████████████████████████████████| 910/910 [00:44<00:00, 20.36it/s]\n"
     ]
    },
    {
     "name": "stdout",
     "output_type": "stream",
     "text": [
      "Epoch 48/512: Train Loss = 0.09564, Validation Loss = 0.09500, Train Accuracy = 0.76078, Validation Accuracy = 0.76189\n"
     ]
    },
    {
     "name": "stderr",
     "output_type": "stream",
     "text": [
      "Epoch 49/512: 100%|█████████████████████████████████████████████████████████████████████| 910/910 [00:44<00:00, 20.40it/s]\n"
     ]
    },
    {
     "name": "stdout",
     "output_type": "stream",
     "text": [
      "Epoch 49/512: Train Loss = 0.09496, Validation Loss = 0.10227, Train Accuracy = 0.75889, Validation Accuracy = 0.75942\n"
     ]
    },
    {
     "name": "stderr",
     "output_type": "stream",
     "text": [
      "Epoch 50/512: 100%|█████████████████████████████████████████████████████████████████████| 910/910 [00:44<00:00, 20.45it/s]\n"
     ]
    },
    {
     "name": "stdout",
     "output_type": "stream",
     "text": [
      "Epoch 50/512: Train Loss = 0.09471, Validation Loss = 0.09383, Train Accuracy = 0.76102, Validation Accuracy = 0.76835\n"
     ]
    },
    {
     "name": "stderr",
     "output_type": "stream",
     "text": [
      "Epoch 51/512: 100%|█████████████████████████████████████████████████████████████████████| 910/910 [00:44<00:00, 20.31it/s]\n"
     ]
    },
    {
     "name": "stdout",
     "output_type": "stream",
     "text": [
      "Epoch 51/512: Train Loss = 0.09485, Validation Loss = 0.09485, Train Accuracy = 0.75963, Validation Accuracy = 0.76423\n"
     ]
    },
    {
     "name": "stderr",
     "output_type": "stream",
     "text": [
      "Epoch 52/512: 100%|█████████████████████████████████████████████████████████████████████| 910/910 [00:44<00:00, 20.44it/s]\n"
     ]
    },
    {
     "name": "stdout",
     "output_type": "stream",
     "text": [
      "Epoch 52/512: Train Loss = 0.09389, Validation Loss = 0.09511, Train Accuracy = 0.76303, Validation Accuracy = 0.76093\n"
     ]
    },
    {
     "name": "stderr",
     "output_type": "stream",
     "text": [
      "Epoch 53/512: 100%|█████████████████████████████████████████████████████████████████████| 910/910 [00:44<00:00, 20.49it/s]\n"
     ]
    },
    {
     "name": "stdout",
     "output_type": "stream",
     "text": [
      "Epoch 53/512: Train Loss = 0.09411, Validation Loss = 0.09644, Train Accuracy = 0.76076, Validation Accuracy = 0.76313\n"
     ]
    },
    {
     "name": "stderr",
     "output_type": "stream",
     "text": [
      "Epoch 54/512: 100%|█████████████████████████████████████████████████████████████████████| 910/910 [00:44<00:00, 20.47it/s]\n"
     ]
    },
    {
     "name": "stdout",
     "output_type": "stream",
     "text": [
      "Epoch 54/512: Train Loss = 0.09299, Validation Loss = 0.09834, Train Accuracy = 0.76396, Validation Accuracy = 0.76368\n"
     ]
    },
    {
     "name": "stderr",
     "output_type": "stream",
     "text": [
      "Epoch 55/512: 100%|█████████████████████████████████████████████████████████████████████| 910/910 [00:44<00:00, 20.43it/s]\n"
     ]
    },
    {
     "name": "stdout",
     "output_type": "stream",
     "text": [
      "Epoch 55/512: Train Loss = 0.09252, Validation Loss = 0.10046, Train Accuracy = 0.76307, Validation Accuracy = 0.75461\n"
     ]
    },
    {
     "name": "stderr",
     "output_type": "stream",
     "text": [
      "Epoch 56/512: 100%|█████████████████████████████████████████████████████████████████████| 910/910 [00:44<00:00, 20.46it/s]\n"
     ]
    },
    {
     "name": "stdout",
     "output_type": "stream",
     "text": [
      "Epoch 56/512: Train Loss = 0.09225, Validation Loss = 0.09579, Train Accuracy = 0.76623, Validation Accuracy = 0.76313\n"
     ]
    },
    {
     "name": "stderr",
     "output_type": "stream",
     "text": [
      "Epoch 57/512: 100%|█████████████████████████████████████████████████████████████████████| 910/910 [00:44<00:00, 20.36it/s]\n"
     ]
    },
    {
     "name": "stdout",
     "output_type": "stream",
     "text": [
      "Epoch 57/512: Train Loss = 0.09234, Validation Loss = 0.09506, Train Accuracy = 0.76449, Validation Accuracy = 0.75983\n"
     ]
    },
    {
     "name": "stderr",
     "output_type": "stream",
     "text": [
      "Epoch 58/512: 100%|█████████████████████████████████████████████████████████████████████| 910/910 [00:44<00:00, 20.46it/s]\n"
     ]
    },
    {
     "name": "stdout",
     "output_type": "stream",
     "text": [
      "Epoch 58/512: Train Loss = 0.09190, Validation Loss = 0.09227, Train Accuracy = 0.76791, Validation Accuracy = 0.76657\n"
     ]
    },
    {
     "name": "stderr",
     "output_type": "stream",
     "text": [
      "Epoch 59/512: 100%|█████████████████████████████████████████████████████████████████████| 910/910 [00:44<00:00, 20.38it/s]\n"
     ]
    },
    {
     "name": "stdout",
     "output_type": "stream",
     "text": [
      "Epoch 59/512: Train Loss = 0.09118, Validation Loss = 0.09789, Train Accuracy = 0.76784, Validation Accuracy = 0.76547\n"
     ]
    },
    {
     "name": "stderr",
     "output_type": "stream",
     "text": [
      "Epoch 60/512: 100%|█████████████████████████████████████████████████████████████████████| 910/910 [00:44<00:00, 20.38it/s]\n"
     ]
    },
    {
     "name": "stdout",
     "output_type": "stream",
     "text": [
      "Epoch 60/512: Train Loss = 0.09109, Validation Loss = 0.09539, Train Accuracy = 0.76951, Validation Accuracy = 0.76464\n"
     ]
    },
    {
     "name": "stderr",
     "output_type": "stream",
     "text": [
      "Epoch 61/512: 100%|█████████████████████████████████████████████████████████████████████| 910/910 [00:44<00:00, 20.41it/s]\n"
     ]
    },
    {
     "name": "stdout",
     "output_type": "stream",
     "text": [
      "Epoch 61/512: Train Loss = 0.09078, Validation Loss = 0.09425, Train Accuracy = 0.76805, Validation Accuracy = 0.76698\n"
     ]
    },
    {
     "name": "stderr",
     "output_type": "stream",
     "text": [
      "Epoch 62/512: 100%|█████████████████████████████████████████████████████████████████████| 910/910 [00:44<00:00, 20.43it/s]\n"
     ]
    },
    {
     "name": "stdout",
     "output_type": "stream",
     "text": [
      "Epoch 62/512: Train Loss = 0.09059, Validation Loss = 0.09091, Train Accuracy = 0.76903, Validation Accuracy = 0.76808\n"
     ]
    },
    {
     "name": "stderr",
     "output_type": "stream",
     "text": [
      "Epoch 63/512: 100%|█████████████████████████████████████████████████████████████████████| 910/910 [00:44<00:00, 20.41it/s]\n"
     ]
    },
    {
     "name": "stdout",
     "output_type": "stream",
     "text": [
      "Epoch 63/512: Train Loss = 0.09029, Validation Loss = 0.09646, Train Accuracy = 0.76851, Validation Accuracy = 0.76382\n"
     ]
    },
    {
     "name": "stderr",
     "output_type": "stream",
     "text": [
      "Epoch 64/512: 100%|█████████████████████████████████████████████████████████████████████| 910/910 [00:44<00:00, 20.45it/s]\n"
     ]
    },
    {
     "name": "stdout",
     "output_type": "stream",
     "text": [
      "Epoch 64/512: Train Loss = 0.08996, Validation Loss = 0.09676, Train Accuracy = 0.77056, Validation Accuracy = 0.77097\n"
     ]
    },
    {
     "name": "stderr",
     "output_type": "stream",
     "text": [
      "Epoch 65/512: 100%|█████████████████████████████████████████████████████████████████████| 910/910 [00:44<00:00, 20.36it/s]\n"
     ]
    },
    {
     "name": "stdout",
     "output_type": "stream",
     "text": [
      "Epoch 65/512: Train Loss = 0.08970, Validation Loss = 0.09201, Train Accuracy = 0.77159, Validation Accuracy = 0.76877\n"
     ]
    },
    {
     "name": "stderr",
     "output_type": "stream",
     "text": [
      "Epoch 66/512: 100%|█████████████████████████████████████████████████████████████████████| 910/910 [00:44<00:00, 20.50it/s]\n"
     ]
    },
    {
     "name": "stdout",
     "output_type": "stream",
     "text": [
      "Epoch 66/512: Train Loss = 0.08911, Validation Loss = 0.09284, Train Accuracy = 0.77061, Validation Accuracy = 0.77055\n"
     ]
    },
    {
     "name": "stderr",
     "output_type": "stream",
     "text": [
      "Epoch 67/512: 100%|█████████████████████████████████████████████████████████████████████| 910/910 [00:44<00:00, 20.45it/s]\n"
     ]
    },
    {
     "name": "stdout",
     "output_type": "stream",
     "text": [
      "Epoch 67/512: Train Loss = 0.08867, Validation Loss = 0.09515, Train Accuracy = 0.77229, Validation Accuracy = 0.76904\n"
     ]
    },
    {
     "name": "stderr",
     "output_type": "stream",
     "text": [
      "Epoch 68/512: 100%|█████████████████████████████████████████████████████████████████████| 910/910 [00:44<00:00, 20.36it/s]\n"
     ]
    },
    {
     "name": "stdout",
     "output_type": "stream",
     "text": [
      "Epoch 68/512: Train Loss = 0.08905, Validation Loss = 0.09223, Train Accuracy = 0.77159, Validation Accuracy = 0.76670\n"
     ]
    },
    {
     "name": "stderr",
     "output_type": "stream",
     "text": [
      "Epoch 69/512: 100%|█████████████████████████████████████████████████████████████████████| 910/910 [00:44<00:00, 20.46it/s]\n"
     ]
    },
    {
     "name": "stdout",
     "output_type": "stream",
     "text": [
      "Epoch 69/512: Train Loss = 0.08879, Validation Loss = 0.08928, Train Accuracy = 0.77137, Validation Accuracy = 0.77468\n"
     ]
    },
    {
     "name": "stderr",
     "output_type": "stream",
     "text": [
      "Epoch 70/512: 100%|█████████████████████████████████████████████████████████████████████| 910/910 [00:44<00:00, 20.56it/s]\n"
     ]
    },
    {
     "name": "stdout",
     "output_type": "stream",
     "text": [
      "Epoch 70/512: Train Loss = 0.08766, Validation Loss = 0.09130, Train Accuracy = 0.77264, Validation Accuracy = 0.77248\n"
     ]
    },
    {
     "name": "stderr",
     "output_type": "stream",
     "text": [
      "Epoch 71/512: 100%|█████████████████████████████████████████████████████████████████████| 910/910 [00:44<00:00, 20.35it/s]\n"
     ]
    },
    {
     "name": "stdout",
     "output_type": "stream",
     "text": [
      "Epoch 71/512: Train Loss = 0.08775, Validation Loss = 0.09427, Train Accuracy = 0.77283, Validation Accuracy = 0.77454\n"
     ]
    },
    {
     "name": "stderr",
     "output_type": "stream",
     "text": [
      "Epoch 72/512: 100%|█████████████████████████████████████████████████████████████████████| 910/910 [00:44<00:00, 20.42it/s]\n"
     ]
    },
    {
     "name": "stdout",
     "output_type": "stream",
     "text": [
      "Epoch 72/512: Train Loss = 0.08772, Validation Loss = 0.09187, Train Accuracy = 0.77370, Validation Accuracy = 0.77426\n"
     ]
    },
    {
     "name": "stderr",
     "output_type": "stream",
     "text": [
      "Epoch 73/512: 100%|█████████████████████████████████████████████████████████████████████| 910/910 [00:44<00:00, 20.49it/s]\n"
     ]
    },
    {
     "name": "stdout",
     "output_type": "stream",
     "text": [
      "Epoch 73/512: Train Loss = 0.08719, Validation Loss = 0.09784, Train Accuracy = 0.77362, Validation Accuracy = 0.76285\n"
     ]
    },
    {
     "name": "stderr",
     "output_type": "stream",
     "text": [
      "Epoch 74/512: 100%|█████████████████████████████████████████████████████████████████████| 910/910 [00:44<00:00, 20.37it/s]\n"
     ]
    },
    {
     "name": "stdout",
     "output_type": "stream",
     "text": [
      "Epoch 74/512: Train Loss = 0.08734, Validation Loss = 0.08866, Train Accuracy = 0.77393, Validation Accuracy = 0.77743\n"
     ]
    },
    {
     "name": "stderr",
     "output_type": "stream",
     "text": [
      "Epoch 75/512: 100%|█████████████████████████████████████████████████████████████████████| 910/910 [00:44<00:00, 20.30it/s]\n"
     ]
    },
    {
     "name": "stdout",
     "output_type": "stream",
     "text": [
      "Epoch 75/512: Train Loss = 0.08711, Validation Loss = 0.09138, Train Accuracy = 0.77400, Validation Accuracy = 0.77646\n"
     ]
    },
    {
     "name": "stderr",
     "output_type": "stream",
     "text": [
      "Epoch 76/512: 100%|█████████████████████████████████████████████████████████████████████| 910/910 [00:44<00:00, 20.40it/s]\n"
     ]
    },
    {
     "name": "stdout",
     "output_type": "stream",
     "text": [
      "Epoch 76/512: Train Loss = 0.08607, Validation Loss = 0.08876, Train Accuracy = 0.77274, Validation Accuracy = 0.77028\n"
     ]
    },
    {
     "name": "stderr",
     "output_type": "stream",
     "text": [
      "Epoch 77/512: 100%|█████████████████████████████████████████████████████████████████████| 910/910 [00:44<00:00, 20.50it/s]\n"
     ]
    },
    {
     "name": "stdout",
     "output_type": "stream",
     "text": [
      "Epoch 77/512: Train Loss = 0.08598, Validation Loss = 0.08941, Train Accuracy = 0.77728, Validation Accuracy = 0.77303\n"
     ]
    },
    {
     "name": "stderr",
     "output_type": "stream",
     "text": [
      "Epoch 78/512: 100%|█████████████████████████████████████████████████████████████████████| 910/910 [00:44<00:00, 20.43it/s]\n"
     ]
    },
    {
     "name": "stdout",
     "output_type": "stream",
     "text": [
      "Epoch 78/512: Train Loss = 0.08591, Validation Loss = 0.09441, Train Accuracy = 0.77637, Validation Accuracy = 0.77454\n"
     ]
    },
    {
     "name": "stderr",
     "output_type": "stream",
     "text": [
      "Epoch 79/512: 100%|█████████████████████████████████████████████████████████████████████| 910/910 [00:44<00:00, 20.42it/s]\n"
     ]
    },
    {
     "name": "stdout",
     "output_type": "stream",
     "text": [
      "Epoch 79/512: Train Loss = 0.08591, Validation Loss = 0.08853, Train Accuracy = 0.77731, Validation Accuracy = 0.78403\n"
     ]
    },
    {
     "name": "stderr",
     "output_type": "stream",
     "text": [
      "Epoch 80/512: 100%|█████████████████████████████████████████████████████████████████████| 910/910 [00:44<00:00, 20.41it/s]\n"
     ]
    },
    {
     "name": "stdout",
     "output_type": "stream",
     "text": [
      "Epoch 80/512: Train Loss = 0.08508, Validation Loss = 0.09153, Train Accuracy = 0.77809, Validation Accuracy = 0.77468\n"
     ]
    },
    {
     "name": "stderr",
     "output_type": "stream",
     "text": [
      "Epoch 81/512: 100%|█████████████████████████████████████████████████████████████████████| 910/910 [00:44<00:00, 20.48it/s]\n"
     ]
    },
    {
     "name": "stdout",
     "output_type": "stream",
     "text": [
      "Epoch 81/512: Train Loss = 0.08557, Validation Loss = 0.08994, Train Accuracy = 0.77860, Validation Accuracy = 0.77825\n"
     ]
    },
    {
     "name": "stderr",
     "output_type": "stream",
     "text": [
      "Epoch 82/512: 100%|█████████████████████████████████████████████████████████████████████| 910/910 [00:44<00:00, 20.44it/s]\n"
     ]
    },
    {
     "name": "stdout",
     "output_type": "stream",
     "text": [
      "Epoch 82/512: Train Loss = 0.08504, Validation Loss = 0.08679, Train Accuracy = 0.77781, Validation Accuracy = 0.77853\n"
     ]
    },
    {
     "name": "stderr",
     "output_type": "stream",
     "text": [
      "Epoch 83/512: 100%|█████████████████████████████████████████████████████████████████████| 910/910 [00:44<00:00, 20.36it/s]\n"
     ]
    },
    {
     "name": "stdout",
     "output_type": "stream",
     "text": [
      "Epoch 83/512: Train Loss = 0.08502, Validation Loss = 0.08824, Train Accuracy = 0.77934, Validation Accuracy = 0.77853\n"
     ]
    },
    {
     "name": "stderr",
     "output_type": "stream",
     "text": [
      "Epoch 84/512: 100%|█████████████████████████████████████████████████████████████████████| 910/910 [00:44<00:00, 20.49it/s]\n"
     ]
    },
    {
     "name": "stdout",
     "output_type": "stream",
     "text": [
      "Epoch 84/512: Train Loss = 0.08442, Validation Loss = 0.08942, Train Accuracy = 0.77791, Validation Accuracy = 0.78306\n"
     ]
    },
    {
     "name": "stderr",
     "output_type": "stream",
     "text": [
      "Epoch 85/512: 100%|█████████████████████████████████████████████████████████████████████| 910/910 [00:44<00:00, 20.52it/s]\n"
     ]
    },
    {
     "name": "stdout",
     "output_type": "stream",
     "text": [
      "Epoch 85/512: Train Loss = 0.08445, Validation Loss = 0.09360, Train Accuracy = 0.77867, Validation Accuracy = 0.77234\n"
     ]
    },
    {
     "name": "stderr",
     "output_type": "stream",
     "text": [
      "Epoch 86/512: 100%|█████████████████████████████████████████████████████████████████████| 910/910 [00:44<00:00, 20.44it/s]\n"
     ]
    },
    {
     "name": "stdout",
     "output_type": "stream",
     "text": [
      "Epoch 86/512: Train Loss = 0.08413, Validation Loss = 0.08982, Train Accuracy = 0.78022, Validation Accuracy = 0.77564\n"
     ]
    },
    {
     "name": "stderr",
     "output_type": "stream",
     "text": [
      "Epoch 87/512: 100%|█████████████████████████████████████████████████████████████████████| 910/910 [00:44<00:00, 20.48it/s]\n"
     ]
    },
    {
     "name": "stdout",
     "output_type": "stream",
     "text": [
      "Epoch 87/512: Train Loss = 0.08444, Validation Loss = 0.09008, Train Accuracy = 0.77881, Validation Accuracy = 0.77729\n"
     ]
    },
    {
     "name": "stderr",
     "output_type": "stream",
     "text": [
      "Epoch 88/512: 100%|█████████████████████████████████████████████████████████████████████| 910/910 [00:44<00:00, 20.35it/s]\n"
     ]
    },
    {
     "name": "stdout",
     "output_type": "stream",
     "text": [
      "Epoch 88/512: Train Loss = 0.08353, Validation Loss = 0.09085, Train Accuracy = 0.78044, Validation Accuracy = 0.78279\n"
     ]
    },
    {
     "name": "stderr",
     "output_type": "stream",
     "text": [
      "Epoch 89/512: 100%|█████████████████████████████████████████████████████████████████████| 910/910 [00:44<00:00, 20.39it/s]\n"
     ]
    },
    {
     "name": "stdout",
     "output_type": "stream",
     "text": [
      "Epoch 89/512: Train Loss = 0.08353, Validation Loss = 0.09086, Train Accuracy = 0.78175, Validation Accuracy = 0.78045\n"
     ]
    },
    {
     "name": "stderr",
     "output_type": "stream",
     "text": [
      "Epoch 90/512: 100%|█████████████████████████████████████████████████████████████████████| 910/910 [00:44<00:00, 20.32it/s]\n"
     ]
    },
    {
     "name": "stdout",
     "output_type": "stream",
     "text": [
      "Epoch 90/512: Train Loss = 0.08386, Validation Loss = 0.09169, Train Accuracy = 0.77955, Validation Accuracy = 0.77976\n"
     ]
    },
    {
     "name": "stderr",
     "output_type": "stream",
     "text": [
      "Epoch 91/512: 100%|█████████████████████████████████████████████████████████████████████| 910/910 [00:44<00:00, 20.38it/s]\n"
     ]
    },
    {
     "name": "stdout",
     "output_type": "stream",
     "text": [
      "Epoch 91/512: Train Loss = 0.08275, Validation Loss = 0.08893, Train Accuracy = 0.78175, Validation Accuracy = 0.77646\n"
     ]
    },
    {
     "name": "stderr",
     "output_type": "stream",
     "text": [
      "Epoch 92/512: 100%|█████████████████████████████████████████████████████████████████████| 910/910 [00:44<00:00, 20.39it/s]\n"
     ]
    },
    {
     "name": "stdout",
     "output_type": "stream",
     "text": [
      "Epoch 92/512: Train Loss = 0.08358, Validation Loss = 0.08855, Train Accuracy = 0.78037, Validation Accuracy = 0.77921\n"
     ]
    },
    {
     "name": "stderr",
     "output_type": "stream",
     "text": [
      "Epoch 93/512: 100%|█████████████████████████████████████████████████████████████████████| 910/910 [00:44<00:00, 20.42it/s]\n"
     ]
    },
    {
     "name": "stdout",
     "output_type": "stream",
     "text": [
      "Epoch 93/512: Train Loss = 0.08330, Validation Loss = 0.08954, Train Accuracy = 0.78164, Validation Accuracy = 0.78100\n"
     ]
    },
    {
     "name": "stderr",
     "output_type": "stream",
     "text": [
      "Epoch 94/512: 100%|█████████████████████████████████████████████████████████████████████| 910/910 [00:44<00:00, 20.41it/s]\n"
     ]
    },
    {
     "name": "stdout",
     "output_type": "stream",
     "text": [
      "Epoch 94/512: Train Loss = 0.08321, Validation Loss = 0.08731, Train Accuracy = 0.78071, Validation Accuracy = 0.78568\n"
     ]
    },
    {
     "name": "stderr",
     "output_type": "stream",
     "text": [
      "Epoch 95/512: 100%|█████████████████████████████████████████████████████████████████████| 910/910 [00:44<00:00, 20.42it/s]\n"
     ]
    },
    {
     "name": "stdout",
     "output_type": "stream",
     "text": [
      "Epoch 95/512: Train Loss = 0.08229, Validation Loss = 0.08823, Train Accuracy = 0.78365, Validation Accuracy = 0.78540\n"
     ]
    },
    {
     "name": "stderr",
     "output_type": "stream",
     "text": [
      "Epoch 96/512: 100%|█████████████████████████████████████████████████████████████████████| 910/910 [00:44<00:00, 20.34it/s]\n"
     ]
    },
    {
     "name": "stdout",
     "output_type": "stream",
     "text": [
      "Epoch 96/512: Train Loss = 0.08234, Validation Loss = 0.08766, Train Accuracy = 0.78369, Validation Accuracy = 0.78086\n"
     ]
    },
    {
     "name": "stderr",
     "output_type": "stream",
     "text": [
      "Epoch 97/512: 100%|█████████████████████████████████████████████████████████████████████| 910/910 [00:44<00:00, 20.39it/s]\n"
     ]
    },
    {
     "name": "stdout",
     "output_type": "stream",
     "text": [
      "Epoch 97/512: Train Loss = 0.08206, Validation Loss = 0.08924, Train Accuracy = 0.78422, Validation Accuracy = 0.77811\n"
     ]
    },
    {
     "name": "stderr",
     "output_type": "stream",
     "text": [
      "Epoch 98/512: 100%|█████████████████████████████████████████████████████████████████████| 910/910 [00:44<00:00, 20.34it/s]\n"
     ]
    },
    {
     "name": "stdout",
     "output_type": "stream",
     "text": [
      "Epoch 98/512: Train Loss = 0.08179, Validation Loss = 0.08836, Train Accuracy = 0.78482, Validation Accuracy = 0.77839\n"
     ]
    },
    {
     "name": "stderr",
     "output_type": "stream",
     "text": [
      "Epoch 99/512: 100%|█████████████████████████████████████████████████████████████████████| 910/910 [00:44<00:00, 20.48it/s]\n"
     ]
    },
    {
     "name": "stdout",
     "output_type": "stream",
     "text": [
      "Epoch 99/512: Train Loss = 0.08164, Validation Loss = 0.08678, Train Accuracy = 0.78580, Validation Accuracy = 0.78265\n"
     ]
    },
    {
     "name": "stderr",
     "output_type": "stream",
     "text": [
      "Epoch 100/512: 100%|████████████████████████████████████████████████████████████████████| 910/910 [00:44<00:00, 20.46it/s]\n"
     ]
    },
    {
     "name": "stdout",
     "output_type": "stream",
     "text": [
      "Epoch 100/512: Train Loss = 0.08148, Validation Loss = 0.08971, Train Accuracy = 0.78291, Validation Accuracy = 0.77798\n"
     ]
    },
    {
     "name": "stderr",
     "output_type": "stream",
     "text": [
      "Epoch 101/512: 100%|████████████████████████████████████████████████████████████████████| 910/910 [00:44<00:00, 20.42it/s]\n"
     ]
    },
    {
     "name": "stdout",
     "output_type": "stream",
     "text": [
      "Epoch 101/512: Train Loss = 0.08149, Validation Loss = 0.09101, Train Accuracy = 0.78620, Validation Accuracy = 0.78554\n"
     ]
    },
    {
     "name": "stderr",
     "output_type": "stream",
     "text": [
      "Epoch 102/512: 100%|████████████████████████████████████████████████████████████████████| 910/910 [00:44<00:00, 20.42it/s]\n"
     ]
    },
    {
     "name": "stdout",
     "output_type": "stream",
     "text": [
      "Epoch 102/512: Train Loss = 0.08078, Validation Loss = 0.08932, Train Accuracy = 0.78676, Validation Accuracy = 0.77756\n"
     ]
    },
    {
     "name": "stderr",
     "output_type": "stream",
     "text": [
      "Epoch 103/512: 100%|████████████████████████████████████████████████████████████████████| 910/910 [00:44<00:00, 20.44it/s]\n"
     ]
    },
    {
     "name": "stdout",
     "output_type": "stream",
     "text": [
      "Epoch 103/512: Train Loss = 0.08151, Validation Loss = 0.08485, Train Accuracy = 0.78496, Validation Accuracy = 0.78664\n"
     ]
    },
    {
     "name": "stderr",
     "output_type": "stream",
     "text": [
      "Epoch 104/512: 100%|████████████████████████████████████████████████████████████████████| 910/910 [00:44<00:00, 20.38it/s]\n"
     ]
    },
    {
     "name": "stdout",
     "output_type": "stream",
     "text": [
      "Epoch 104/512: Train Loss = 0.08084, Validation Loss = 0.08609, Train Accuracy = 0.78637, Validation Accuracy = 0.78416\n"
     ]
    },
    {
     "name": "stderr",
     "output_type": "stream",
     "text": [
      "Epoch 105/512: 100%|████████████████████████████████████████████████████████████████████| 910/910 [00:44<00:00, 20.49it/s]\n"
     ]
    },
    {
     "name": "stdout",
     "output_type": "stream",
     "text": [
      "Epoch 105/512: Train Loss = 0.08065, Validation Loss = 0.08546, Train Accuracy = 0.78517, Validation Accuracy = 0.78238\n"
     ]
    },
    {
     "name": "stderr",
     "output_type": "stream",
     "text": [
      "Epoch 106/512: 100%|████████████████████████████████████████████████████████████████████| 910/910 [00:44<00:00, 20.46it/s]\n"
     ]
    },
    {
     "name": "stdout",
     "output_type": "stream",
     "text": [
      "Epoch 106/512: Train Loss = 0.08040, Validation Loss = 0.08635, Train Accuracy = 0.78503, Validation Accuracy = 0.78334\n"
     ]
    },
    {
     "name": "stderr",
     "output_type": "stream",
     "text": [
      "Epoch 107/512: 100%|████████████████████████████████████████████████████████████████████| 910/910 [00:44<00:00, 20.38it/s]\n"
     ]
    },
    {
     "name": "stdout",
     "output_type": "stream",
     "text": [
      "Epoch 107/512: Train Loss = 0.08039, Validation Loss = 0.09335, Train Accuracy = 0.78602, Validation Accuracy = 0.78018\n"
     ]
    },
    {
     "name": "stderr",
     "output_type": "stream",
     "text": [
      "Epoch 108/512: 100%|████████████████████████████████████████████████████████████████████| 910/910 [00:44<00:00, 20.44it/s]\n"
     ]
    },
    {
     "name": "stdout",
     "output_type": "stream",
     "text": [
      "Epoch 108/512: Train Loss = 0.08043, Validation Loss = 0.08682, Train Accuracy = 0.78704, Validation Accuracy = 0.78416\n"
     ]
    },
    {
     "name": "stderr",
     "output_type": "stream",
     "text": [
      "Epoch 109/512: 100%|████████████████████████████████████████████████████████████████████| 910/910 [00:44<00:00, 20.52it/s]\n"
     ]
    },
    {
     "name": "stdout",
     "output_type": "stream",
     "text": [
      "Epoch 109/512: Train Loss = 0.08034, Validation Loss = 0.08961, Train Accuracy = 0.78608, Validation Accuracy = 0.77935\n"
     ]
    },
    {
     "name": "stderr",
     "output_type": "stream",
     "text": [
      "Epoch 110/512: 100%|████████████████████████████████████████████████████████████████████| 910/910 [00:44<00:00, 20.32it/s]\n"
     ]
    },
    {
     "name": "stdout",
     "output_type": "stream",
     "text": [
      "Epoch 110/512: Train Loss = 0.08027, Validation Loss = 0.08782, Train Accuracy = 0.78912, Validation Accuracy = 0.78059\n"
     ]
    },
    {
     "name": "stderr",
     "output_type": "stream",
     "text": [
      "Epoch 111/512: 100%|████████████████████████████████████████████████████████████████████| 910/910 [00:44<00:00, 20.35it/s]\n"
     ]
    },
    {
     "name": "stdout",
     "output_type": "stream",
     "text": [
      "Epoch 111/512: Train Loss = 0.08037, Validation Loss = 0.08454, Train Accuracy = 0.78661, Validation Accuracy = 0.78581\n"
     ]
    },
    {
     "name": "stderr",
     "output_type": "stream",
     "text": [
      "Epoch 112/512: 100%|████████████████████████████████████████████████████████████████████| 910/910 [00:44<00:00, 20.45it/s]\n"
     ]
    },
    {
     "name": "stdout",
     "output_type": "stream",
     "text": [
      "Epoch 112/512: Train Loss = 0.07901, Validation Loss = 0.08661, Train Accuracy = 0.78883, Validation Accuracy = 0.77894\n"
     ]
    },
    {
     "name": "stderr",
     "output_type": "stream",
     "text": [
      "Epoch 113/512: 100%|████████████████████████████████████████████████████████████████████| 910/910 [00:44<00:00, 20.44it/s]\n"
     ]
    },
    {
     "name": "stdout",
     "output_type": "stream",
     "text": [
      "Epoch 113/512: Train Loss = 0.07951, Validation Loss = 0.08623, Train Accuracy = 0.78807, Validation Accuracy = 0.78760\n"
     ]
    },
    {
     "name": "stderr",
     "output_type": "stream",
     "text": [
      "Epoch 114/512: 100%|████████████████████████████████████████████████████████████████████| 910/910 [00:44<00:00, 20.47it/s]\n"
     ]
    },
    {
     "name": "stdout",
     "output_type": "stream",
     "text": [
      "Epoch 114/512: Train Loss = 0.08006, Validation Loss = 0.08394, Train Accuracy = 0.78659, Validation Accuracy = 0.78210\n"
     ]
    },
    {
     "name": "stderr",
     "output_type": "stream",
     "text": [
      "Epoch 115/512: 100%|████████████████████████████████████████████████████████████████████| 910/910 [00:44<00:00, 20.27it/s]\n"
     ]
    },
    {
     "name": "stdout",
     "output_type": "stream",
     "text": [
      "Epoch 115/512: Train Loss = 0.07871, Validation Loss = 0.09147, Train Accuracy = 0.78998, Validation Accuracy = 0.78554\n"
     ]
    },
    {
     "name": "stderr",
     "output_type": "stream",
     "text": [
      "Epoch 116/512: 100%|████████████████████████████████████████████████████████████████████| 910/910 [00:44<00:00, 20.53it/s]\n"
     ]
    },
    {
     "name": "stdout",
     "output_type": "stream",
     "text": [
      "Epoch 116/512: Train Loss = 0.07849, Validation Loss = 0.08781, Train Accuracy = 0.78915, Validation Accuracy = 0.78471\n"
     ]
    },
    {
     "name": "stderr",
     "output_type": "stream",
     "text": [
      "Epoch 117/512: 100%|████████████████████████████████████████████████████████████████████| 910/910 [00:44<00:00, 20.45it/s]\n"
     ]
    },
    {
     "name": "stdout",
     "output_type": "stream",
     "text": [
      "Epoch 117/512: Train Loss = 0.07897, Validation Loss = 0.08457, Train Accuracy = 0.78869, Validation Accuracy = 0.78265\n"
     ]
    },
    {
     "name": "stderr",
     "output_type": "stream",
     "text": [
      "Epoch 118/512: 100%|████████████████████████████████████████████████████████████████████| 910/910 [00:44<00:00, 20.40it/s]\n"
     ]
    },
    {
     "name": "stdout",
     "output_type": "stream",
     "text": [
      "Epoch 118/512: Train Loss = 0.07851, Validation Loss = 0.08859, Train Accuracy = 0.78972, Validation Accuracy = 0.78513\n"
     ]
    },
    {
     "name": "stderr",
     "output_type": "stream",
     "text": [
      "Epoch 119/512: 100%|████████████████████████████████████████████████████████████████████| 910/910 [00:44<00:00, 20.40it/s]\n"
     ]
    },
    {
     "name": "stdout",
     "output_type": "stream",
     "text": [
      "Epoch 119/512: Train Loss = 0.07880, Validation Loss = 0.08718, Train Accuracy = 0.79017, Validation Accuracy = 0.78526\n"
     ]
    },
    {
     "name": "stderr",
     "output_type": "stream",
     "text": [
      "Epoch 120/512: 100%|████████████████████████████████████████████████████████████████████| 910/910 [00:44<00:00, 20.38it/s]\n"
     ]
    },
    {
     "name": "stdout",
     "output_type": "stream",
     "text": [
      "Epoch 120/512: Train Loss = 0.07820, Validation Loss = 0.08674, Train Accuracy = 0.79146, Validation Accuracy = 0.78444\n"
     ]
    },
    {
     "name": "stderr",
     "output_type": "stream",
     "text": [
      "Epoch 121/512: 100%|████████████████████████████████████████████████████████████████████| 910/910 [00:44<00:00, 20.43it/s]\n"
     ]
    },
    {
     "name": "stdout",
     "output_type": "stream",
     "text": [
      "Epoch 121/512: Train Loss = 0.07823, Validation Loss = 0.08978, Train Accuracy = 0.79065, Validation Accuracy = 0.77743\n"
     ]
    },
    {
     "name": "stderr",
     "output_type": "stream",
     "text": [
      "Epoch 122/512: 100%|████████████████████████████████████████████████████████████████████| 910/910 [00:44<00:00, 20.34it/s]\n"
     ]
    },
    {
     "name": "stdout",
     "output_type": "stream",
     "text": [
      "Epoch 122/512: Train Loss = 0.07804, Validation Loss = 0.08574, Train Accuracy = 0.79106, Validation Accuracy = 0.78636\n"
     ]
    },
    {
     "name": "stderr",
     "output_type": "stream",
     "text": [
      "Epoch 123/512: 100%|████████████████████████████████████████████████████████████████████| 910/910 [00:44<00:00, 20.40it/s]\n"
     ]
    },
    {
     "name": "stdout",
     "output_type": "stream",
     "text": [
      "Epoch 123/512: Train Loss = 0.07752, Validation Loss = 0.08428, Train Accuracy = 0.79326, Validation Accuracy = 0.78939\n"
     ]
    },
    {
     "name": "stderr",
     "output_type": "stream",
     "text": [
      "Epoch 124/512: 100%|████████████████████████████████████████████████████████████████████| 910/910 [00:44<00:00, 20.48it/s]\n"
     ]
    },
    {
     "name": "stdout",
     "output_type": "stream",
     "text": [
      "Epoch 124/512: Train Loss = 0.07785, Validation Loss = 0.08829, Train Accuracy = 0.79118, Validation Accuracy = 0.78458\n"
     ]
    },
    {
     "name": "stderr",
     "output_type": "stream",
     "text": [
      "Epoch 125/512: 100%|████████████████████████████████████████████████████████████████████| 910/910 [00:44<00:00, 20.46it/s]\n"
     ]
    },
    {
     "name": "stdout",
     "output_type": "stream",
     "text": [
      "Epoch 125/512: Train Loss = 0.07809, Validation Loss = 0.08755, Train Accuracy = 0.79036, Validation Accuracy = 0.78389\n"
     ]
    },
    {
     "name": "stderr",
     "output_type": "stream",
     "text": [
      "Epoch 126/512: 100%|████████████████████████████████████████████████████████████████████| 910/910 [00:44<00:00, 20.39it/s]\n"
     ]
    },
    {
     "name": "stdout",
     "output_type": "stream",
     "text": [
      "Epoch 126/512: Train Loss = 0.07756, Validation Loss = 0.08340, Train Accuracy = 0.79214, Validation Accuracy = 0.78444\n"
     ]
    },
    {
     "name": "stderr",
     "output_type": "stream",
     "text": [
      "Epoch 127/512: 100%|████████████████████████████████████████████████████████████████████| 910/910 [00:44<00:00, 20.41it/s]\n"
     ]
    },
    {
     "name": "stdout",
     "output_type": "stream",
     "text": [
      "Epoch 127/512: Train Loss = 0.07774, Validation Loss = 0.08366, Train Accuracy = 0.79104, Validation Accuracy = 0.78760\n"
     ]
    },
    {
     "name": "stderr",
     "output_type": "stream",
     "text": [
      "Epoch 128/512: 100%|████████████████████████████████████████████████████████████████████| 910/910 [00:44<00:00, 20.44it/s]\n"
     ]
    },
    {
     "name": "stdout",
     "output_type": "stream",
     "text": [
      "Epoch 128/512: Train Loss = 0.07712, Validation Loss = 0.09158, Train Accuracy = 0.79250, Validation Accuracy = 0.78458\n"
     ]
    },
    {
     "name": "stderr",
     "output_type": "stream",
     "text": [
      "Epoch 129/512: 100%|████████████████████████████████████████████████████████████████████| 910/910 [00:44<00:00, 20.43it/s]\n"
     ]
    },
    {
     "name": "stdout",
     "output_type": "stream",
     "text": [
      "Epoch 129/512: Train Loss = 0.07698, Validation Loss = 0.08511, Train Accuracy = 0.79398, Validation Accuracy = 0.78925\n"
     ]
    },
    {
     "name": "stderr",
     "output_type": "stream",
     "text": [
      "Epoch 130/512: 100%|████████████████████████████████████████████████████████████████████| 910/910 [00:44<00:00, 20.45it/s]\n"
     ]
    },
    {
     "name": "stdout",
     "output_type": "stream",
     "text": [
      "Epoch 130/512: Train Loss = 0.07688, Validation Loss = 0.08572, Train Accuracy = 0.79359, Validation Accuracy = 0.78774\n"
     ]
    },
    {
     "name": "stderr",
     "output_type": "stream",
     "text": [
      "Epoch 131/512: 100%|████████████████████████████████████████████████████████████████████| 910/910 [00:44<00:00, 20.34it/s]\n"
     ]
    },
    {
     "name": "stdout",
     "output_type": "stream",
     "text": [
      "Epoch 131/512: Train Loss = 0.07703, Validation Loss = 0.08293, Train Accuracy = 0.79182, Validation Accuracy = 0.79406\n"
     ]
    },
    {
     "name": "stderr",
     "output_type": "stream",
     "text": [
      "Epoch 132/512: 100%|████████████████████████████████████████████████████████████████████| 910/910 [00:44<00:00, 20.41it/s]\n"
     ]
    },
    {
     "name": "stdout",
     "output_type": "stream",
     "text": [
      "Epoch 132/512: Train Loss = 0.07727, Validation Loss = 0.08821, Train Accuracy = 0.79340, Validation Accuracy = 0.78884\n"
     ]
    },
    {
     "name": "stderr",
     "output_type": "stream",
     "text": [
      "Epoch 133/512: 100%|████████████████████████████████████████████████████████████████████| 910/910 [00:44<00:00, 20.37it/s]\n"
     ]
    },
    {
     "name": "stdout",
     "output_type": "stream",
     "text": [
      "Epoch 133/512: Train Loss = 0.07675, Validation Loss = 0.08485, Train Accuracy = 0.79362, Validation Accuracy = 0.78856\n"
     ]
    },
    {
     "name": "stderr",
     "output_type": "stream",
     "text": [
      "Epoch 134/512: 100%|████████████████████████████████████████████████████████████████████| 910/910 [00:44<00:00, 20.46it/s]\n"
     ]
    },
    {
     "name": "stdout",
     "output_type": "stream",
     "text": [
      "Epoch 134/512: Train Loss = 0.07667, Validation Loss = 0.08013, Train Accuracy = 0.79273, Validation Accuracy = 0.78911\n"
     ]
    },
    {
     "name": "stderr",
     "output_type": "stream",
     "text": [
      "Epoch 135/512: 100%|████████████████████████████████████████████████████████████████████| 910/910 [00:44<00:00, 20.40it/s]\n"
     ]
    },
    {
     "name": "stdout",
     "output_type": "stream",
     "text": [
      "Epoch 135/512: Train Loss = 0.07698, Validation Loss = 0.08226, Train Accuracy = 0.79269, Validation Accuracy = 0.78815\n"
     ]
    },
    {
     "name": "stderr",
     "output_type": "stream",
     "text": [
      "Epoch 136/512: 100%|████████████████████████████████████████████████████████████████████| 910/910 [00:44<00:00, 20.40it/s]\n"
     ]
    },
    {
     "name": "stdout",
     "output_type": "stream",
     "text": [
      "Epoch 136/512: Train Loss = 0.07585, Validation Loss = 0.08686, Train Accuracy = 0.79388, Validation Accuracy = 0.78691\n"
     ]
    },
    {
     "name": "stderr",
     "output_type": "stream",
     "text": [
      "Epoch 137/512: 100%|████████████████████████████████████████████████████████████████████| 910/910 [00:44<00:00, 20.45it/s]\n"
     ]
    },
    {
     "name": "stdout",
     "output_type": "stream",
     "text": [
      "Epoch 137/512: Train Loss = 0.07651, Validation Loss = 0.08805, Train Accuracy = 0.79292, Validation Accuracy = 0.79062\n"
     ]
    },
    {
     "name": "stderr",
     "output_type": "stream",
     "text": [
      "Epoch 138/512: 100%|████████████████████████████████████████████████████████████████████| 910/910 [00:44<00:00, 20.32it/s]\n"
     ]
    },
    {
     "name": "stdout",
     "output_type": "stream",
     "text": [
      "Epoch 138/512: Train Loss = 0.07632, Validation Loss = 0.08362, Train Accuracy = 0.79441, Validation Accuracy = 0.79062\n"
     ]
    },
    {
     "name": "stderr",
     "output_type": "stream",
     "text": [
      "Epoch 139/512: 100%|████████████████████████████████████████████████████████████████████| 910/910 [00:44<00:00, 20.34it/s]\n"
     ]
    },
    {
     "name": "stdout",
     "output_type": "stream",
     "text": [
      "Epoch 139/512: Train Loss = 0.07577, Validation Loss = 0.08202, Train Accuracy = 0.79524, Validation Accuracy = 0.79282\n"
     ]
    },
    {
     "name": "stderr",
     "output_type": "stream",
     "text": [
      "Epoch 140/512: 100%|████████████████████████████████████████████████████████████████████| 910/910 [00:44<00:00, 20.46it/s]\n"
     ]
    },
    {
     "name": "stdout",
     "output_type": "stream",
     "text": [
      "Epoch 140/512: Train Loss = 0.07567, Validation Loss = 0.08782, Train Accuracy = 0.79353, Validation Accuracy = 0.78609\n"
     ]
    },
    {
     "name": "stderr",
     "output_type": "stream",
     "text": [
      "Epoch 141/512: 100%|████████████████████████████████████████████████████████████████████| 910/910 [00:44<00:00, 20.35it/s]\n"
     ]
    },
    {
     "name": "stdout",
     "output_type": "stream",
     "text": [
      "Epoch 141/512: Train Loss = 0.07576, Validation Loss = 0.08501, Train Accuracy = 0.79476, Validation Accuracy = 0.79310\n"
     ]
    },
    {
     "name": "stderr",
     "output_type": "stream",
     "text": [
      "Epoch 142/512: 100%|████████████████████████████████████████████████████████████████████| 910/910 [00:44<00:00, 20.37it/s]\n"
     ]
    },
    {
     "name": "stdout",
     "output_type": "stream",
     "text": [
      "Epoch 142/512: Train Loss = 0.07530, Validation Loss = 0.08542, Train Accuracy = 0.79340, Validation Accuracy = 0.79186\n"
     ]
    },
    {
     "name": "stderr",
     "output_type": "stream",
     "text": [
      "Epoch 143/512: 100%|████████████████████████████████████████████████████████████████████| 910/910 [00:44<00:00, 20.44it/s]\n"
     ]
    },
    {
     "name": "stdout",
     "output_type": "stream",
     "text": [
      "Epoch 143/512: Train Loss = 0.07567, Validation Loss = 0.08392, Train Accuracy = 0.79407, Validation Accuracy = 0.78952\n"
     ]
    },
    {
     "name": "stderr",
     "output_type": "stream",
     "text": [
      "Epoch 144/512: 100%|████████████████████████████████████████████████████████████████████| 910/910 [00:44<00:00, 20.40it/s]\n"
     ]
    },
    {
     "name": "stdout",
     "output_type": "stream",
     "text": [
      "Epoch 144/512: Train Loss = 0.07477, Validation Loss = 0.08559, Train Accuracy = 0.79709, Validation Accuracy = 0.78719\n"
     ]
    },
    {
     "name": "stderr",
     "output_type": "stream",
     "text": [
      "Epoch 145/512: 100%|████████████████████████████████████████████████████████████████████| 910/910 [00:44<00:00, 20.45it/s]\n"
     ]
    },
    {
     "name": "stdout",
     "output_type": "stream",
     "text": [
      "Epoch 145/512: Train Loss = 0.07522, Validation Loss = 0.08223, Train Accuracy = 0.79668, Validation Accuracy = 0.79434\n"
     ]
    },
    {
     "name": "stderr",
     "output_type": "stream",
     "text": [
      "Epoch 146/512: 100%|████████████████████████████████████████████████████████████████████| 910/910 [00:44<00:00, 20.45it/s]\n"
     ]
    },
    {
     "name": "stdout",
     "output_type": "stream",
     "text": [
      "Epoch 146/512: Train Loss = 0.07543, Validation Loss = 0.08111, Train Accuracy = 0.79439, Validation Accuracy = 0.79365\n"
     ]
    },
    {
     "name": "stderr",
     "output_type": "stream",
     "text": [
      "Epoch 147/512:  24%|████████████████▏                                                   | 217/910 [00:10<00:34, 20.08it/s]"
     ]
    }
   ],
   "source": [
    "import argparse\n",
    "\n",
    "training_args = argparse.Namespace(**args)\n",
    "train_model(training_args, device)"
   ]
  },
  {
   "cell_type": "code",
   "execution_count": null,
   "metadata": {},
   "outputs": [],
   "source": []
  }
 ],
 "metadata": {
  "kernelspec": {
   "display_name": "Python (myenv)",
   "language": "python",
   "name": "myenv"
  },
  "language_info": {
   "codemirror_mode": {
    "name": "ipython",
    "version": 3
   },
   "file_extension": ".py",
   "mimetype": "text/x-python",
   "name": "python",
   "nbconvert_exporter": "python",
   "pygments_lexer": "ipython3",
   "version": "3.12.7"
  }
 },
 "nbformat": 4,
 "nbformat_minor": 4
}
