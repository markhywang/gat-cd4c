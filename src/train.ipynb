{
 "cells": [
  {
   "cell_type": "code",
   "execution_count": 1,
   "metadata": {},
   "outputs": [
    {
     "name": "stdout",
     "output_type": "stream",
     "text": [
      "Using device: cpu\n"
     ]
    }
   ],
   "source": [
    "import torch\n",
    "\n",
    "# Local imports\n",
    "from train import train_model"
   ]
  },
  {
   "cell_type": "code",
   "execution_count": 2,
   "metadata": {},
   "outputs": [
    {
     "name": "stdout",
     "output_type": "stream",
     "text": [
      "Using device: cuda:0\n"
     ]
    }
   ],
   "source": [
    "if torch.backends.mps.is_available():\n",
    "    device = torch.device(\"mps\")\n",
    "elif torch.cuda.is_available():\n",
    "    device = torch.device(\"cuda:0\")\n",
    "else:\n",
    "    device = torch.device(\"cpu\")\n",
    "\n",
    "print(f\"Using device: {device}\")"
   ]
  },
  {
   "cell_type": "code",
   "execution_count": 3,
   "metadata": {},
   "outputs": [],
   "source": [
    "args = {\n",
    "    \"use_small_dataset\": False,\n",
    "    \"batch_size\": 64,\n",
    "    \"stoppage_epochs\": 64,\n",
    "    \"max_epochs\": 512,\n",
    "    \"seed\": 42,\n",
    "    \"data_path\": \"../data\",\n",
    "    \"frac_train\": 0.8,\n",
    "    \"frac_validation\": 0.1,\n",
    "    \"frac_test\": 0.1,\n",
    "    \"huber_beta\": 0.5,\n",
    "    \"weight_decay\": 1e-3,\n",
    "    \"lr\": 3e-4,\n",
    "    \"scheduler_patience\": 10,\n",
    "    \"scheduler_factor\": 0.5,\n",
    "    \"hidden_size\": 96,\n",
    "    \"num_layers\": 7,\n",
    "    \"num_attn_heads\": 6,\n",
    "    \"dropout\": 0.3,\n",
    "    \"pooling_dropout\": 0.15,\n",
    "    \"pooling_dim\": 96,\n",
    "}"
   ]
  },
  {
   "cell_type": "code",
   "execution_count": null,
   "metadata": {},
   "outputs": [
    {
     "name": "stdout",
     "output_type": "stream",
     "text": [
      "Model parameters: 181635\n"
     ]
    },
    {
     "name": "stderr",
     "output_type": "stream",
     "text": [
      "Epoch 1/512: 100%|██████████████████████████████████████████████████████████████████████| 906/906 [02:31<00:00,  5.96it/s]\n"
     ]
    },
    {
     "name": "stdout",
     "output_type": "stream",
     "text": [
      "Epoch 1/512: \n",
      "Train Loss = 0.77925, Train MSE = 1.51074, Train MAE = 1.00483, Train Acc = 0.55585\n",
      "Val Loss = 0.72399, Val MSE = 1.33105, Val MAE = 0.94837, Val Acc = 0.57683\n"
     ]
    },
    {
     "name": "stderr",
     "output_type": "stream",
     "text": [
      "Epoch 2/512: 100%|██████████████████████████████████████████████████████████████████████| 906/906 [00:39<00:00, 22.88it/s]\n"
     ]
    },
    {
     "name": "stdout",
     "output_type": "stream",
     "text": [
      "Epoch 2/512: \n",
      "Train Loss = 0.73093, Train MSE = 1.37247, Train MAE = 0.95481, Train Acc = 0.58346\n",
      "Val Loss = 0.73290, Val MSE = 1.37675, Val MAE = 0.95648, Val Acc = 0.57794\n"
     ]
    },
    {
     "name": "stderr",
     "output_type": "stream",
     "text": [
      "Epoch 3/512: 100%|██████████████████████████████████████████████████████████████████████| 906/906 [00:39<00:00, 22.69it/s]\n"
     ]
    },
    {
     "name": "stdout",
     "output_type": "stream",
     "text": [
      "Epoch 3/512: \n",
      "Train Loss = 0.71781, Train MSE = 1.33745, Train MAE = 0.94127, Train Acc = 0.59111\n",
      "Val Loss = 0.69658, Val MSE = 1.27681, Val MAE = 0.91905, Val Acc = 0.60362\n"
     ]
    },
    {
     "name": "stderr",
     "output_type": "stream",
     "text": [
      "Epoch 4/512: 100%|██████████████████████████████████████████████████████████████████████| 906/906 [00:39<00:00, 22.67it/s]\n"
     ]
    },
    {
     "name": "stdout",
     "output_type": "stream",
     "text": [
      "Epoch 4/512: \n",
      "Train Loss = 0.70098, Train MSE = 1.29242, Train MAE = 0.92375, Train Acc = 0.60068\n",
      "Val Loss = 0.70246, Val MSE = 1.29556, Val MAE = 0.92614, Val Acc = 0.60417\n"
     ]
    },
    {
     "name": "stderr",
     "output_type": "stream",
     "text": [
      "Epoch 5/512: 100%|██████████████████████████████████████████████████████████████████████| 906/906 [00:40<00:00, 22.62it/s]\n"
     ]
    },
    {
     "name": "stdout",
     "output_type": "stream",
     "text": [
      "Epoch 5/512: \n",
      "Train Loss = 0.69467, Train MSE = 1.27945, Train MAE = 0.91696, Train Acc = 0.60552\n",
      "Val Loss = 0.70860, Val MSE = 1.32246, Val MAE = 0.93190, Val Acc = 0.60237\n"
     ]
    },
    {
     "name": "stderr",
     "output_type": "stream",
     "text": [
      "Epoch 6/512: 100%|██████████████████████████████████████████████████████████████████████| 906/906 [00:40<00:00, 22.55it/s]\n"
     ]
    },
    {
     "name": "stdout",
     "output_type": "stream",
     "text": [
      "Epoch 6/512: \n",
      "Train Loss = 0.68487, Train MSE = 1.25474, Train MAE = 0.90654, Train Acc = 0.61349\n",
      "Val Loss = 0.70000, Val MSE = 1.30664, Val MAE = 0.92303, Val Acc = 0.60983\n"
     ]
    },
    {
     "name": "stderr",
     "output_type": "stream",
     "text": [
      "Epoch 7/512: 100%|██████████████████████████████████████████████████████████████████████| 906/906 [00:40<00:00, 22.52it/s]\n"
     ]
    },
    {
     "name": "stdout",
     "output_type": "stream",
     "text": [
      "Epoch 7/512: \n",
      "Train Loss = 0.68160, Train MSE = 1.24396, Train MAE = 0.90333, Train Acc = 0.61321\n",
      "Val Loss = 0.68734, Val MSE = 1.26974, Val MAE = 0.90900, Val Acc = 0.61618\n"
     ]
    },
    {
     "name": "stderr",
     "output_type": "stream",
     "text": [
      "Epoch 8/512: 100%|██████████████████████████████████████████████████████████████████████| 906/906 [00:40<00:00, 22.52it/s]\n"
     ]
    },
    {
     "name": "stdout",
     "output_type": "stream",
     "text": [
      "Epoch 8/512: \n",
      "Train Loss = 0.67584, Train MSE = 1.23082, Train MAE = 0.89733, Train Acc = 0.61832\n",
      "Val Loss = 0.67124, Val MSE = 1.22902, Val MAE = 0.89259, Val Acc = 0.62364\n"
     ]
    },
    {
     "name": "stderr",
     "output_type": "stream",
     "text": [
      "Epoch 9/512: 100%|██████████████████████████████████████████████████████████████████████| 906/906 [00:40<00:00, 22.53it/s]\n"
     ]
    },
    {
     "name": "stdout",
     "output_type": "stream",
     "text": [
      "Epoch 9/512: \n",
      "Train Loss = 0.66775, Train MSE = 1.21456, Train MAE = 0.88823, Train Acc = 0.62236\n",
      "Val Loss = 0.71179, Val MSE = 1.37245, Val MAE = 0.93486, Val Acc = 0.60652\n"
     ]
    },
    {
     "name": "stderr",
     "output_type": "stream",
     "text": [
      "Epoch 10/512: 100%|█████████████████████████████████████████████████████████████████████| 906/906 [00:40<00:00, 22.58it/s]\n"
     ]
    },
    {
     "name": "stdout",
     "output_type": "stream",
     "text": [
      "Epoch 10/512: \n",
      "Train Loss = 0.66537, Train MSE = 1.21035, Train MAE = 0.88585, Train Acc = 0.62562\n",
      "Val Loss = 0.67628, Val MSE = 1.23528, Val MAE = 0.89926, Val Acc = 0.62695\n"
     ]
    },
    {
     "name": "stderr",
     "output_type": "stream",
     "text": [
      "Epoch 11/512: 100%|█████████████████████████████████████████████████████████████████████| 906/906 [00:40<00:00, 22.47it/s]\n"
     ]
    },
    {
     "name": "stdout",
     "output_type": "stream",
     "text": [
      "Epoch 11/512: \n",
      "Train Loss = 0.65724, Train MSE = 1.19311, Train MAE = 0.87734, Train Acc = 0.63161\n",
      "Val Loss = 0.66858, Val MSE = 1.21995, Val MAE = 0.89031, Val Acc = 0.62598\n"
     ]
    },
    {
     "name": "stderr",
     "output_type": "stream",
     "text": [
      "Epoch 12/512: 100%|█████████████████████████████████████████████████████████████████████| 906/906 [00:40<00:00, 22.52it/s]\n"
     ]
    },
    {
     "name": "stdout",
     "output_type": "stream",
     "text": [
      "Epoch 12/512: \n",
      "Train Loss = 0.65331, Train MSE = 1.18219, Train MAE = 0.87332, Train Acc = 0.63373\n",
      "Val Loss = 0.68298, Val MSE = 1.25732, Val MAE = 0.90601, Val Acc = 0.62101\n"
     ]
    },
    {
     "name": "stderr",
     "output_type": "stream",
     "text": [
      "Epoch 13/512: 100%|█████████████████████████████████████████████████████████████████████| 906/906 [00:40<00:00, 22.55it/s]\n"
     ]
    },
    {
     "name": "stdout",
     "output_type": "stream",
     "text": [
      "Epoch 13/512: \n",
      "Train Loss = 0.65037, Train MSE = 1.17762, Train MAE = 0.87040, Train Acc = 0.63763\n",
      "Val Loss = 0.66324, Val MSE = 1.20410, Val MAE = 0.88512, Val Acc = 0.62875\n"
     ]
    },
    {
     "name": "stderr",
     "output_type": "stream",
     "text": [
      "Epoch 14/512: 100%|█████████████████████████████████████████████████████████████████████| 906/906 [00:40<00:00, 22.59it/s]\n"
     ]
    },
    {
     "name": "stdout",
     "output_type": "stream",
     "text": [
      "Epoch 14/512: \n",
      "Train Loss = 0.64279, Train MSE = 1.16084, Train MAE = 0.86214, Train Acc = 0.64288\n",
      "Val Loss = 0.69341, Val MSE = 1.30082, Val MAE = 0.91543, Val Acc = 0.61494\n"
     ]
    },
    {
     "name": "stderr",
     "output_type": "stream",
     "text": [
      "Epoch 15/512: 100%|█████████████████████████████████████████████████████████████████████| 906/906 [00:40<00:00, 22.56it/s]\n"
     ]
    },
    {
     "name": "stdout",
     "output_type": "stream",
     "text": [
      "Epoch 15/512: \n",
      "Train Loss = 0.63927, Train MSE = 1.15541, Train MAE = 0.85814, Train Acc = 0.64583\n",
      "Val Loss = 0.66434, Val MSE = 1.21202, Val MAE = 0.88598, Val Acc = 0.62902\n"
     ]
    },
    {
     "name": "stderr",
     "output_type": "stream",
     "text": [
      "Epoch 16/512: 100%|█████████████████████████████████████████████████████████████████████| 906/906 [00:40<00:00, 22.59it/s]\n"
     ]
    },
    {
     "name": "stdout",
     "output_type": "stream",
     "text": [
      "Epoch 16/512: \n",
      "Train Loss = 0.63703, Train MSE = 1.14800, Train MAE = 0.85632, Train Acc = 0.64562\n",
      "Val Loss = 0.68576, Val MSE = 1.28293, Val MAE = 0.90764, Val Acc = 0.62226\n"
     ]
    },
    {
     "name": "stderr",
     "output_type": "stream",
     "text": [
      "Epoch 17/512: 100%|█████████████████████████████████████████████████████████████████████| 906/906 [00:40<00:00, 22.56it/s]\n"
     ]
    },
    {
     "name": "stdout",
     "output_type": "stream",
     "text": [
      "Epoch 17/512: \n",
      "Train Loss = 0.63262, Train MSE = 1.13437, Train MAE = 0.85201, Train Acc = 0.64902\n",
      "Val Loss = 0.68451, Val MSE = 1.27310, Val MAE = 0.90582, Val Acc = 0.61991\n"
     ]
    },
    {
     "name": "stderr",
     "output_type": "stream",
     "text": [
      "Epoch 18/512: 100%|█████████████████████████████████████████████████████████████████████| 906/906 [00:40<00:00, 22.59it/s]\n"
     ]
    },
    {
     "name": "stdout",
     "output_type": "stream",
     "text": [
      "Epoch 18/512: \n",
      "Train Loss = 0.63067, Train MSE = 1.13142, Train MAE = 0.84935, Train Acc = 0.65028\n",
      "Val Loss = 0.67598, Val MSE = 1.25537, Val MAE = 0.89827, Val Acc = 0.62723\n"
     ]
    },
    {
     "name": "stderr",
     "output_type": "stream",
     "text": [
      "Epoch 19/512: 100%|█████████████████████████████████████████████████████████████████████| 906/906 [00:40<00:00, 22.51it/s]\n"
     ]
    },
    {
     "name": "stdout",
     "output_type": "stream",
     "text": [
      "Epoch 19/512: \n",
      "Train Loss = 0.62839, Train MSE = 1.12817, Train MAE = 0.84703, Train Acc = 0.65361\n",
      "Val Loss = 0.65571, Val MSE = 1.20210, Val MAE = 0.87530, Val Acc = 0.63896\n"
     ]
    },
    {
     "name": "stderr",
     "output_type": "stream",
     "text": [
      "Epoch 20/512: 100%|█████████████████████████████████████████████████████████████████████| 906/906 [00:40<00:00, 22.52it/s]\n"
     ]
    },
    {
     "name": "stdout",
     "output_type": "stream",
     "text": [
      "Epoch 20/512: \n",
      "Train Loss = 0.62679, Train MSE = 1.12116, Train MAE = 0.84516, Train Acc = 0.65222\n",
      "Val Loss = 0.63098, Val MSE = 1.12409, Val MAE = 0.85054, Val Acc = 0.65084\n"
     ]
    },
    {
     "name": "stderr",
     "output_type": "stream",
     "text": [
      "Epoch 21/512: 100%|█████████████████████████████████████████████████████████████████████| 906/906 [00:40<00:00, 22.53it/s]\n"
     ]
    },
    {
     "name": "stdout",
     "output_type": "stream",
     "text": [
      "Epoch 21/512: \n",
      "Train Loss = 0.62382, Train MSE = 1.11513, Train MAE = 0.84227, Train Acc = 0.65658\n",
      "Val Loss = 0.68361, Val MSE = 1.28219, Val MAE = 0.90514, Val Acc = 0.62419\n"
     ]
    },
    {
     "name": "stderr",
     "output_type": "stream",
     "text": [
      "Epoch 22/512: 100%|█████████████████████████████████████████████████████████████████████| 906/906 [00:40<00:00, 22.60it/s]\n"
     ]
    },
    {
     "name": "stdout",
     "output_type": "stream",
     "text": [
      "Epoch 22/512: \n",
      "Train Loss = 0.62024, Train MSE = 1.11087, Train MAE = 0.83797, Train Acc = 0.65893\n",
      "Val Loss = 0.64656, Val MSE = 1.17539, Val MAE = 0.86682, Val Acc = 0.64379\n"
     ]
    },
    {
     "name": "stderr",
     "output_type": "stream",
     "text": [
      "Epoch 23/512: 100%|█████████████████████████████████████████████████████████████████████| 906/906 [00:40<00:00, 22.55it/s]\n"
     ]
    },
    {
     "name": "stdout",
     "output_type": "stream",
     "text": [
      "Epoch 23/512: \n",
      "Train Loss = 0.61800, Train MSE = 1.10266, Train MAE = 0.83599, Train Acc = 0.65908\n",
      "Val Loss = 0.63265, Val MSE = 1.12912, Val MAE = 0.85285, Val Acc = 0.64876\n"
     ]
    },
    {
     "name": "stderr",
     "output_type": "stream",
     "text": [
      "Epoch 24/512: 100%|█████████████████████████████████████████████████████████████████████| 906/906 [00:40<00:00, 22.55it/s]\n"
     ]
    },
    {
     "name": "stdout",
     "output_type": "stream",
     "text": [
      "Epoch 24/512: \n",
      "Train Loss = 0.61635, Train MSE = 1.09958, Train MAE = 0.83393, Train Acc = 0.66048\n",
      "Val Loss = 0.64752, Val MSE = 1.18929, Val MAE = 0.86690, Val Acc = 0.64297\n"
     ]
    },
    {
     "name": "stderr",
     "output_type": "stream",
     "text": [
      "Epoch 25/512: 100%|█████████████████████████████████████████████████████████████████████| 906/906 [00:40<00:00, 22.47it/s]\n"
     ]
    },
    {
     "name": "stdout",
     "output_type": "stream",
     "text": [
      "Epoch 25/512: \n",
      "Train Loss = 0.61561, Train MSE = 1.09786, Train MAE = 0.83340, Train Acc = 0.66107\n",
      "Val Loss = 0.72080, Val MSE = 1.37730, Val MAE = 0.94397, Val Acc = 0.59879\n"
     ]
    },
    {
     "name": "stderr",
     "output_type": "stream",
     "text": [
      "Epoch 26/512: 100%|█████████████████████████████████████████████████████████████████████| 906/906 [00:40<00:00, 22.53it/s]\n"
     ]
    },
    {
     "name": "stdout",
     "output_type": "stream",
     "text": [
      "Epoch 26/512: \n",
      "Train Loss = 0.61336, Train MSE = 1.08962, Train MAE = 0.83121, Train Acc = 0.66248\n",
      "Val Loss = 0.63704, Val MSE = 1.14748, Val MAE = 0.85628, Val Acc = 0.64614\n"
     ]
    },
    {
     "name": "stderr",
     "output_type": "stream",
     "text": [
      "Epoch 27/512: 100%|█████████████████████████████████████████████████████████████████████| 906/906 [00:40<00:00, 22.55it/s]\n"
     ]
    },
    {
     "name": "stdout",
     "output_type": "stream",
     "text": [
      "Epoch 27/512: \n",
      "Train Loss = 0.60857, Train MSE = 1.08229, Train MAE = 0.82587, Train Acc = 0.66823\n",
      "Val Loss = 0.66902, Val MSE = 1.24411, Val MAE = 0.89009, Val Acc = 0.62999\n"
     ]
    },
    {
     "name": "stderr",
     "output_type": "stream",
     "text": [
      "Epoch 28/512: 100%|█████████████████████████████████████████████████████████████████████| 906/906 [00:40<00:00, 22.50it/s]\n"
     ]
    },
    {
     "name": "stdout",
     "output_type": "stream",
     "text": [
      "Epoch 28/512: \n",
      "Train Loss = 0.60920, Train MSE = 1.08304, Train MAE = 0.82668, Train Acc = 0.66507\n",
      "Val Loss = 0.64301, Val MSE = 1.16761, Val MAE = 0.86262, Val Acc = 0.64421\n"
     ]
    },
    {
     "name": "stderr",
     "output_type": "stream",
     "text": [
      "Epoch 29/512: 100%|█████████████████████████████████████████████████████████████████████| 906/906 [00:40<00:00, 22.47it/s]\n"
     ]
    },
    {
     "name": "stdout",
     "output_type": "stream",
     "text": [
      "Epoch 29/512: \n",
      "Train Loss = 0.60848, Train MSE = 1.08120, Train MAE = 0.82586, Train Acc = 0.66654\n",
      "Val Loss = 0.63394, Val MSE = 1.13685, Val MAE = 0.85378, Val Acc = 0.64863\n"
     ]
    },
    {
     "name": "stderr",
     "output_type": "stream",
     "text": [
      "Epoch 30/512: 100%|█████████████████████████████████████████████████████████████████████| 906/906 [00:40<00:00, 22.59it/s]\n"
     ]
    },
    {
     "name": "stdout",
     "output_type": "stream",
     "text": [
      "Epoch 30/512: \n",
      "Train Loss = 0.60582, Train MSE = 1.07420, Train MAE = 0.82315, Train Acc = 0.66758\n",
      "Val Loss = 0.63245, Val MSE = 1.13703, Val MAE = 0.85273, Val Acc = 0.64945\n"
     ]
    },
    {
     "name": "stderr",
     "output_type": "stream",
     "text": [
      "Epoch 31/512: 100%|█████████████████████████████████████████████████████████████████████| 906/906 [00:40<00:00, 22.56it/s]\n"
     ]
    },
    {
     "name": "stdout",
     "output_type": "stream",
     "text": [
      "Epoch 31/512: \n",
      "Train Loss = 0.60483, Train MSE = 1.07156, Train MAE = 0.82201, Train Acc = 0.66735\n",
      "Val Loss = 0.67800, Val MSE = 1.27034, Val MAE = 0.89948, Val Acc = 0.62474\n"
     ]
    },
    {
     "name": "stderr",
     "output_type": "stream",
     "text": [
      "Epoch 32/512: 100%|█████████████████████████████████████████████████████████████████████| 906/906 [00:40<00:00, 22.53it/s]\n"
     ]
    },
    {
     "name": "stdout",
     "output_type": "stream",
     "text": [
      "Epoch 32/512: \n",
      "Train Loss = 0.59987, Train MSE = 1.06332, Train MAE = 0.81642, Train Acc = 0.67510\n",
      "Val Loss = 0.61303, Val MSE = 1.09954, Val MAE = 0.83073, Val Acc = 0.66934\n"
     ]
    },
    {
     "name": "stderr",
     "output_type": "stream",
     "text": [
      "Epoch 33/512: 100%|█████████████████████████████████████████████████████████████████████| 906/906 [00:40<00:00, 22.53it/s]\n"
     ]
    },
    {
     "name": "stdout",
     "output_type": "stream",
     "text": [
      "Epoch 33/512: \n",
      "Train Loss = 0.59974, Train MSE = 1.06197, Train MAE = 0.81645, Train Acc = 0.67229\n",
      "Val Loss = 0.59611, Val MSE = 1.04801, Val MAE = 0.81342, Val Acc = 0.67734\n"
     ]
    },
    {
     "name": "stderr",
     "output_type": "stream",
     "text": [
      "Epoch 34/512: 100%|█████████████████████████████████████████████████████████████████████| 906/906 [00:40<00:00, 22.55it/s]\n"
     ]
    },
    {
     "name": "stdout",
     "output_type": "stream",
     "text": [
      "Epoch 34/512: \n",
      "Train Loss = 0.59827, Train MSE = 1.05724, Train MAE = 0.81521, Train Acc = 0.67415\n",
      "Val Loss = 0.66430, Val MSE = 1.22891, Val MAE = 0.88470, Val Acc = 0.63247\n"
     ]
    },
    {
     "name": "stderr",
     "output_type": "stream",
     "text": [
      "Epoch 35/512: 100%|█████████████████████████████████████████████████████████████████████| 906/906 [00:40<00:00, 22.59it/s]\n"
     ]
    },
    {
     "name": "stdout",
     "output_type": "stream",
     "text": [
      "Epoch 35/512: \n",
      "Train Loss = 0.59637, Train MSE = 1.05324, Train MAE = 0.81300, Train Acc = 0.67448\n",
      "Val Loss = 0.60383, Val MSE = 1.06891, Val MAE = 0.82220, Val Acc = 0.67154\n"
     ]
    },
    {
     "name": "stderr",
     "output_type": "stream",
     "text": [
      "Epoch 36/512: 100%|█████████████████████████████████████████████████████████████████████| 906/906 [00:40<00:00, 22.58it/s]\n"
     ]
    },
    {
     "name": "stdout",
     "output_type": "stream",
     "text": [
      "Epoch 36/512: \n",
      "Train Loss = 0.59464, Train MSE = 1.05015, Train MAE = 0.81134, Train Acc = 0.67738\n",
      "Val Loss = 0.60426, Val MSE = 1.07189, Val MAE = 0.82244, Val Acc = 0.66947\n"
     ]
    },
    {
     "name": "stderr",
     "output_type": "stream",
     "text": [
      "Epoch 37/512: 100%|█████████████████████████████████████████████████████████████████████| 906/906 [00:40<00:00, 22.54it/s]\n"
     ]
    },
    {
     "name": "stdout",
     "output_type": "stream",
     "text": [
      "Epoch 37/512: \n",
      "Train Loss = 0.59390, Train MSE = 1.04861, Train MAE = 0.80997, Train Acc = 0.67526\n",
      "Val Loss = 0.60676, Val MSE = 1.09163, Val MAE = 0.82460, Val Acc = 0.66671\n"
     ]
    },
    {
     "name": "stderr",
     "output_type": "stream",
     "text": [
      "Epoch 38/512: 100%|█████████████████████████████████████████████████████████████████████| 906/906 [00:40<00:00, 22.61it/s]\n"
     ]
    },
    {
     "name": "stdout",
     "output_type": "stream",
     "text": [
      "Epoch 38/512: \n",
      "Train Loss = 0.59304, Train MSE = 1.04560, Train MAE = 0.80961, Train Acc = 0.67805\n",
      "Val Loss = 0.61065, Val MSE = 1.08078, Val MAE = 0.82962, Val Acc = 0.66699\n"
     ]
    },
    {
     "name": "stderr",
     "output_type": "stream",
     "text": [
      "Epoch 39/512: 100%|█████████████████████████████████████████████████████████████████████| 906/906 [00:40<00:00, 22.51it/s]\n"
     ]
    },
    {
     "name": "stdout",
     "output_type": "stream",
     "text": [
      "Epoch 39/512: \n",
      "Train Loss = 0.59128, Train MSE = 1.04141, Train MAE = 0.80776, Train Acc = 0.67941\n",
      "Val Loss = 0.57809, Val MSE = 1.01140, Val MAE = 0.79437, Val Acc = 0.68811\n"
     ]
    },
    {
     "name": "stderr",
     "output_type": "stream",
     "text": [
      "Epoch 40/512: 100%|█████████████████████████████████████████████████████████████████████| 906/906 [00:40<00:00, 22.52it/s]\n"
     ]
    },
    {
     "name": "stdout",
     "output_type": "stream",
     "text": [
      "Epoch 40/512: \n",
      "Train Loss = 0.59019, Train MSE = 1.04131, Train MAE = 0.80651, Train Acc = 0.67898\n",
      "Val Loss = 0.61976, Val MSE = 1.12094, Val MAE = 0.83926, Val Acc = 0.65746\n"
     ]
    },
    {
     "name": "stderr",
     "output_type": "stream",
     "text": [
      "Epoch 41/512: 100%|█████████████████████████████████████████████████████████████████████| 906/906 [00:40<00:00, 22.58it/s]\n"
     ]
    },
    {
     "name": "stdout",
     "output_type": "stream",
     "text": [
      "Epoch 41/512: \n",
      "Train Loss = 0.58752, Train MSE = 1.03388, Train MAE = 0.80311, Train Acc = 0.68102\n",
      "Val Loss = 0.61725, Val MSE = 1.10640, Val MAE = 0.83660, Val Acc = 0.66657\n"
     ]
    },
    {
     "name": "stderr",
     "output_type": "stream",
     "text": [
      "Epoch 42/512: 100%|█████████████████████████████████████████████████████████████████████| 906/906 [00:40<00:00, 22.52it/s]\n"
     ]
    },
    {
     "name": "stdout",
     "output_type": "stream",
     "text": [
      "Epoch 42/512: \n",
      "Train Loss = 0.59036, Train MSE = 1.03931, Train MAE = 0.80662, Train Acc = 0.68121\n",
      "Val Loss = 0.61393, Val MSE = 1.09327, Val MAE = 0.83241, Val Acc = 0.66506\n"
     ]
    },
    {
     "name": "stderr",
     "output_type": "stream",
     "text": [
      "Epoch 43/512: 100%|█████████████████████████████████████████████████████████████████████| 906/906 [00:40<00:00, 22.50it/s]\n"
     ]
    },
    {
     "name": "stdout",
     "output_type": "stream",
     "text": [
      "Epoch 43/512: \n",
      "Train Loss = 0.59066, Train MSE = 1.03994, Train MAE = 0.80715, Train Acc = 0.67879\n",
      "Val Loss = 0.60583, Val MSE = 1.07634, Val MAE = 0.82405, Val Acc = 0.67058\n"
     ]
    },
    {
     "name": "stderr",
     "output_type": "stream",
     "text": [
      "Epoch 44/512: 100%|█████████████████████████████████████████████████████████████████████| 906/906 [00:40<00:00, 22.58it/s]\n"
     ]
    },
    {
     "name": "stdout",
     "output_type": "stream",
     "text": [
      "Epoch 44/512: \n",
      "Train Loss = 0.58519, Train MSE = 1.02777, Train MAE = 0.80144, Train Acc = 0.68407\n",
      "Val Loss = 0.59950, Val MSE = 1.08321, Val MAE = 0.81655, Val Acc = 0.67610\n"
     ]
    },
    {
     "name": "stderr",
     "output_type": "stream",
     "text": [
      "Epoch 45/512: 100%|█████████████████████████████████████████████████████████████████████| 906/906 [00:40<00:00, 22.51it/s]\n"
     ]
    },
    {
     "name": "stdout",
     "output_type": "stream",
     "text": [
      "Epoch 45/512: \n",
      "Train Loss = 0.58417, Train MSE = 1.02448, Train MAE = 0.80007, Train Acc = 0.68249\n",
      "Val Loss = 0.61112, Val MSE = 1.09141, Val MAE = 0.82903, Val Acc = 0.67127\n"
     ]
    },
    {
     "name": "stderr",
     "output_type": "stream",
     "text": [
      "Epoch 46/512: 100%|█████████████████████████████████████████████████████████████████████| 906/906 [00:40<00:00, 22.55it/s]\n"
     ]
    },
    {
     "name": "stdout",
     "output_type": "stream",
     "text": [
      "Epoch 46/512: \n",
      "Train Loss = 0.58335, Train MSE = 1.02381, Train MAE = 0.79961, Train Acc = 0.68533\n",
      "Val Loss = 0.59892, Val MSE = 1.07538, Val MAE = 0.81704, Val Acc = 0.67679\n"
     ]
    },
    {
     "name": "stderr",
     "output_type": "stream",
     "text": [
      "Epoch 47/512: 100%|█████████████████████████████████████████████████████████████████████| 906/906 [00:40<00:00, 22.61it/s]\n"
     ]
    },
    {
     "name": "stdout",
     "output_type": "stream",
     "text": [
      "Epoch 47/512: \n",
      "Train Loss = 0.58253, Train MSE = 1.02241, Train MAE = 0.79848, Train Acc = 0.68485\n",
      "Val Loss = 0.65665, Val MSE = 1.20485, Val MAE = 0.87735, Val Acc = 0.63648\n"
     ]
    },
    {
     "name": "stderr",
     "output_type": "stream",
     "text": [
      "Epoch 48/512: 100%|█████████████████████████████████████████████████████████████████████| 906/906 [00:40<00:00, 22.53it/s]\n"
     ]
    },
    {
     "name": "stdout",
     "output_type": "stream",
     "text": [
      "Epoch 48/512: \n",
      "Train Loss = 0.58073, Train MSE = 1.01777, Train MAE = 0.79663, Train Acc = 0.68621\n",
      "Val Loss = 0.63143, Val MSE = 1.14088, Val MAE = 0.85157, Val Acc = 0.65691\n"
     ]
    },
    {
     "name": "stderr",
     "output_type": "stream",
     "text": [
      "Epoch 49/512: 100%|█████████████████████████████████████████████████████████████████████| 906/906 [00:40<00:00, 22.55it/s]\n"
     ]
    },
    {
     "name": "stdout",
     "output_type": "stream",
     "text": [
      "Epoch 49/512: \n",
      "Train Loss = 0.57900, Train MSE = 1.01312, Train MAE = 0.79459, Train Acc = 0.68611\n",
      "Val Loss = 0.57327, Val MSE = 1.01115, Val MAE = 0.78844, Val Acc = 0.69143\n"
     ]
    },
    {
     "name": "stderr",
     "output_type": "stream",
     "text": [
      "Epoch 50/512: 100%|█████████████████████████████████████████████████████████████████████| 906/906 [00:40<00:00, 22.49it/s]\n"
     ]
    },
    {
     "name": "stdout",
     "output_type": "stream",
     "text": [
      "Epoch 50/512: \n",
      "Train Loss = 0.57866, Train MSE = 1.01450, Train MAE = 0.79439, Train Acc = 0.68848\n",
      "Val Loss = 0.62199, Val MSE = 1.13371, Val MAE = 0.84040, Val Acc = 0.65415\n"
     ]
    },
    {
     "name": "stderr",
     "output_type": "stream",
     "text": [
      "Epoch 51/512: 100%|█████████████████████████████████████████████████████████████████████| 906/906 [00:40<00:00, 22.53it/s]\n"
     ]
    },
    {
     "name": "stdout",
     "output_type": "stream",
     "text": [
      "Epoch 51/512: \n",
      "Train Loss = 0.58041, Train MSE = 1.01619, Train MAE = 0.79627, Train Acc = 0.68715\n",
      "Val Loss = 0.60884, Val MSE = 1.10331, Val MAE = 0.82709, Val Acc = 0.67030\n"
     ]
    },
    {
     "name": "stderr",
     "output_type": "stream",
     "text": [
      "Epoch 52/512: 100%|█████████████████████████████████████████████████████████████████████| 906/906 [00:40<00:00, 22.58it/s]\n"
     ]
    },
    {
     "name": "stdout",
     "output_type": "stream",
     "text": [
      "Epoch 52/512: \n",
      "Train Loss = 0.57734, Train MSE = 1.00956, Train MAE = 0.79299, Train Acc = 0.68696\n",
      "Val Loss = 0.59169, Val MSE = 1.03752, Val MAE = 0.80943, Val Acc = 0.68135\n"
     ]
    },
    {
     "name": "stderr",
     "output_type": "stream",
     "text": [
      "Epoch 53/512: 100%|█████████████████████████████████████████████████████████████████████| 906/906 [00:40<00:00, 22.56it/s]\n"
     ]
    },
    {
     "name": "stdout",
     "output_type": "stream",
     "text": [
      "Epoch 53/512: \n",
      "Train Loss = 0.57697, Train MSE = 1.01032, Train MAE = 0.79246, Train Acc = 0.69046\n",
      "Val Loss = 0.55390, Val MSE = 0.95243, Val MAE = 0.76877, Val Acc = 0.70509\n"
     ]
    },
    {
     "name": "stderr",
     "output_type": "stream",
     "text": [
      "Epoch 54/512: 100%|█████████████████████████████████████████████████████████████████████| 906/906 [00:40<00:00, 22.59it/s]\n"
     ]
    },
    {
     "name": "stdout",
     "output_type": "stream",
     "text": [
      "Epoch 54/512: \n",
      "Train Loss = 0.57608, Train MSE = 1.00751, Train MAE = 0.79179, Train Acc = 0.68965\n",
      "Val Loss = 0.55264, Val MSE = 0.94865, Val MAE = 0.76781, Val Acc = 0.70565\n"
     ]
    },
    {
     "name": "stderr",
     "output_type": "stream",
     "text": [
      "Epoch 55/512: 100%|█████████████████████████████████████████████████████████████████████| 906/906 [00:40<00:00, 22.54it/s]\n"
     ]
    },
    {
     "name": "stdout",
     "output_type": "stream",
     "text": [
      "Epoch 55/512: \n",
      "Train Loss = 0.57672, Train MSE = 1.00805, Train MAE = 0.79224, Train Acc = 0.68744\n",
      "Val Loss = 0.60274, Val MSE = 1.06686, Val MAE = 0.82114, Val Acc = 0.66947\n"
     ]
    },
    {
     "name": "stderr",
     "output_type": "stream",
     "text": [
      "Epoch 56/512: 100%|█████████████████████████████████████████████████████████████████████| 906/906 [00:40<00:00, 22.54it/s]\n"
     ]
    },
    {
     "name": "stdout",
     "output_type": "stream",
     "text": [
      "Epoch 56/512: \n",
      "Train Loss = 0.57464, Train MSE = 1.00223, Train MAE = 0.79039, Train Acc = 0.69172\n",
      "Val Loss = 0.55735, Val MSE = 0.97087, Val MAE = 0.77232, Val Acc = 0.70730\n"
     ]
    },
    {
     "name": "stderr",
     "output_type": "stream",
     "text": [
      "Epoch 57/512: 100%|█████████████████████████████████████████████████████████████████████| 906/906 [00:40<00:00, 22.60it/s]\n"
     ]
    },
    {
     "name": "stdout",
     "output_type": "stream",
     "text": [
      "Epoch 57/512: \n",
      "Train Loss = 0.57241, Train MSE = 0.99891, Train MAE = 0.78755, Train Acc = 0.69320\n",
      "Val Loss = 0.57464, Val MSE = 1.01459, Val MAE = 0.79075, Val Acc = 0.69170\n"
     ]
    },
    {
     "name": "stderr",
     "output_type": "stream",
     "text": [
      "Epoch 58/512: 100%|█████████████████████████████████████████████████████████████████████| 906/906 [00:40<00:00, 22.56it/s]\n"
     ]
    },
    {
     "name": "stdout",
     "output_type": "stream",
     "text": [
      "Epoch 58/512: \n",
      "Train Loss = 0.57008, Train MSE = 0.99154, Train MAE = 0.78548, Train Acc = 0.69417\n",
      "Val Loss = 0.56752, Val MSE = 0.98477, Val MAE = 0.78374, Val Acc = 0.69847\n"
     ]
    },
    {
     "name": "stderr",
     "output_type": "stream",
     "text": [
      "Epoch 59/512: 100%|█████████████████████████████████████████████████████████████████████| 906/906 [00:40<00:00, 22.58it/s]\n"
     ]
    },
    {
     "name": "stdout",
     "output_type": "stream",
     "text": [
      "Epoch 59/512: \n",
      "Train Loss = 0.56953, Train MSE = 0.99216, Train MAE = 0.78508, Train Acc = 0.69448\n",
      "Val Loss = 0.55834, Val MSE = 0.96406, Val MAE = 0.77380, Val Acc = 0.70509\n"
     ]
    },
    {
     "name": "stderr",
     "output_type": "stream",
     "text": [
      "Epoch 60/512: 100%|█████████████████████████████████████████████████████████████████████| 906/906 [00:40<00:00, 22.61it/s]\n"
     ]
    },
    {
     "name": "stdout",
     "output_type": "stream",
     "text": [
      "Epoch 60/512: \n",
      "Train Loss = 0.56688, Train MSE = 0.98841, Train MAE = 0.78159, Train Acc = 0.69543\n",
      "Val Loss = 0.57827, Val MSE = 1.00719, Val MAE = 0.79477, Val Acc = 0.68590\n"
     ]
    },
    {
     "name": "stderr",
     "output_type": "stream",
     "text": [
      "Epoch 61/512: 100%|█████████████████████████████████████████████████████████████████████| 906/906 [00:40<00:00, 22.62it/s]\n"
     ]
    },
    {
     "name": "stdout",
     "output_type": "stream",
     "text": [
      "Epoch 61/512: \n",
      "Train Loss = 0.57029, Train MSE = 0.99590, Train MAE = 0.78542, Train Acc = 0.69386\n",
      "Val Loss = 0.60731, Val MSE = 1.08475, Val MAE = 0.82590, Val Acc = 0.66754\n"
     ]
    },
    {
     "name": "stderr",
     "output_type": "stream",
     "text": [
      "Epoch 62/512: 100%|█████████████████████████████████████████████████████████████████████| 906/906 [00:40<00:00, 22.50it/s]\n"
     ]
    },
    {
     "name": "stdout",
     "output_type": "stream",
     "text": [
      "Epoch 62/512: \n",
      "Train Loss = 0.56720, Train MSE = 0.98957, Train MAE = 0.78197, Train Acc = 0.69583\n",
      "Val Loss = 0.59252, Val MSE = 1.04667, Val MAE = 0.80984, Val Acc = 0.67969\n"
     ]
    },
    {
     "name": "stderr",
     "output_type": "stream",
     "text": [
      "Epoch 63/512: 100%|█████████████████████████████████████████████████████████████████████| 906/906 [00:40<00:00, 22.60it/s]\n"
     ]
    },
    {
     "name": "stdout",
     "output_type": "stream",
     "text": [
      "Epoch 63/512: \n",
      "Train Loss = 0.56669, Train MSE = 0.98661, Train MAE = 0.78144, Train Acc = 0.69591\n",
      "Val Loss = 0.59358, Val MSE = 1.05181, Val MAE = 0.81115, Val Acc = 0.68066\n"
     ]
    },
    {
     "name": "stderr",
     "output_type": "stream",
     "text": [
      "Epoch 64/512: 100%|█████████████████████████████████████████████████████████████████████| 906/906 [00:40<00:00, 22.55it/s]\n"
     ]
    },
    {
     "name": "stdout",
     "output_type": "stream",
     "text": [
      "Epoch 64/512: \n",
      "Train Loss = 0.56571, Train MSE = 0.98260, Train MAE = 0.78066, Train Acc = 0.69693\n",
      "Val Loss = 0.58673, Val MSE = 1.05969, Val MAE = 0.80288, Val Acc = 0.68866\n"
     ]
    },
    {
     "name": "stderr",
     "output_type": "stream",
     "text": [
      "Epoch 65/512: 100%|█████████████████████████████████████████████████████████████████████| 906/906 [00:40<00:00, 22.49it/s]\n"
     ]
    },
    {
     "name": "stdout",
     "output_type": "stream",
     "text": [
      "Epoch 65/512: \n",
      "Train Loss = 0.56584, Train MSE = 0.98422, Train MAE = 0.78070, Train Acc = 0.69876\n",
      "Val Loss = 0.57545, Val MSE = 1.00771, Val MAE = 0.79197, Val Acc = 0.68866\n"
     ]
    },
    {
     "name": "stderr",
     "output_type": "stream",
     "text": [
      "Epoch 66/512: 100%|█████████████████████████████████████████████████████████████████████| 906/906 [00:40<00:00, 22.46it/s]\n"
     ]
    },
    {
     "name": "stdout",
     "output_type": "stream",
     "text": [
      "Epoch 66/512: \n",
      "Train Loss = 0.56643, Train MSE = 0.98499, Train MAE = 0.78118, Train Acc = 0.69591\n",
      "Val Loss = 0.55836, Val MSE = 0.96074, Val MAE = 0.77407, Val Acc = 0.70440\n"
     ]
    },
    {
     "name": "stderr",
     "output_type": "stream",
     "text": [
      "Epoch 67/512: 100%|█████████████████████████████████████████████████████████████████████| 906/906 [00:40<00:00, 22.57it/s]\n"
     ]
    },
    {
     "name": "stdout",
     "output_type": "stream",
     "text": [
      "Epoch 67/512: \n",
      "Train Loss = 0.56440, Train MSE = 0.98110, Train MAE = 0.77939, Train Acc = 0.69959\n",
      "Val Loss = 0.59129, Val MSE = 1.05153, Val MAE = 0.80850, Val Acc = 0.68107\n"
     ]
    },
    {
     "name": "stderr",
     "output_type": "stream",
     "text": [
      "Epoch 68/512: 100%|█████████████████████████████████████████████████████████████████████| 906/906 [00:40<00:00, 22.52it/s]\n"
     ]
    },
    {
     "name": "stdout",
     "output_type": "stream",
     "text": [
      "Epoch 68/512: \n",
      "Train Loss = 0.56197, Train MSE = 0.97713, Train MAE = 0.77675, Train Acc = 0.70054\n",
      "Val Loss = 0.58080, Val MSE = 1.01991, Val MAE = 0.79755, Val Acc = 0.68853\n"
     ]
    },
    {
     "name": "stderr",
     "output_type": "stream",
     "text": [
      "Epoch 69/512: 100%|█████████████████████████████████████████████████████████████████████| 906/906 [00:40<00:00, 22.53it/s]\n"
     ]
    },
    {
     "name": "stdout",
     "output_type": "stream",
     "text": [
      "Epoch 69/512: \n",
      "Train Loss = 0.56211, Train MSE = 0.97576, Train MAE = 0.77683, Train Acc = 0.69885\n",
      "Val Loss = 0.57613, Val MSE = 1.00649, Val MAE = 0.79297, Val Acc = 0.69129\n"
     ]
    },
    {
     "name": "stderr",
     "output_type": "stream",
     "text": [
      "Epoch 70/512: 100%|█████████████████████████████████████████████████████████████████████| 906/906 [00:40<00:00, 22.58it/s]\n"
     ]
    },
    {
     "name": "stdout",
     "output_type": "stream",
     "text": [
      "Epoch 70/512: \n",
      "Train Loss = 0.55945, Train MSE = 0.96933, Train MAE = 0.77382, Train Acc = 0.70045\n",
      "Val Loss = 0.59844, Val MSE = 1.08394, Val MAE = 0.81661, Val Acc = 0.68121\n"
     ]
    },
    {
     "name": "stderr",
     "output_type": "stream",
     "text": [
      "Epoch 71/512: 100%|█████████████████████████████████████████████████████████████████████| 906/906 [00:40<00:00, 22.59it/s]\n"
     ]
    },
    {
     "name": "stdout",
     "output_type": "stream",
     "text": [
      "Epoch 71/512: \n",
      "Train Loss = 0.56149, Train MSE = 0.97593, Train MAE = 0.77594, Train Acc = 0.70073\n",
      "Val Loss = 0.54163, Val MSE = 0.92164, Val MAE = 0.75543, Val Acc = 0.71076\n"
     ]
    },
    {
     "name": "stderr",
     "output_type": "stream",
     "text": [
      "Epoch 72/512: 100%|█████████████████████████████████████████████████████████████████████| 906/906 [00:40<00:00, 22.55it/s]\n"
     ]
    },
    {
     "name": "stdout",
     "output_type": "stream",
     "text": [
      "Epoch 72/512: \n",
      "Train Loss = 0.55933, Train MSE = 0.97033, Train MAE = 0.77380, Train Acc = 0.70259\n",
      "Val Loss = 0.58593, Val MSE = 1.07746, Val MAE = 0.80207, Val Acc = 0.68742\n"
     ]
    },
    {
     "name": "stderr",
     "output_type": "stream",
     "text": [
      "Epoch 73/512: 100%|█████████████████████████████████████████████████████████████████████| 906/906 [00:40<00:00, 22.53it/s]\n"
     ]
    },
    {
     "name": "stdout",
     "output_type": "stream",
     "text": [
      "Epoch 73/512: \n",
      "Train Loss = 0.56220, Train MSE = 0.97628, Train MAE = 0.77715, Train Acc = 0.70021\n",
      "Val Loss = 0.56641, Val MSE = 1.00139, Val MAE = 0.78237, Val Acc = 0.70068\n"
     ]
    },
    {
     "name": "stderr",
     "output_type": "stream",
     "text": [
      "Epoch 74/512: 100%|█████████████████████████████████████████████████████████████████████| 906/906 [00:40<00:00, 22.49it/s]\n"
     ]
    },
    {
     "name": "stdout",
     "output_type": "stream",
     "text": [
      "Epoch 74/512: \n",
      "Train Loss = 0.55854, Train MSE = 0.96662, Train MAE = 0.77295, Train Acc = 0.70261\n",
      "Val Loss = 0.57650, Val MSE = 1.02279, Val MAE = 0.79239, Val Acc = 0.69446\n"
     ]
    },
    {
     "name": "stderr",
     "output_type": "stream",
     "text": [
      "Epoch 75/512: 100%|█████████████████████████████████████████████████████████████████████| 906/906 [00:40<00:00, 22.59it/s]\n"
     ]
    },
    {
     "name": "stdout",
     "output_type": "stream",
     "text": [
      "Epoch 75/512: \n",
      "Train Loss = 0.55938, Train MSE = 0.97057, Train MAE = 0.77377, Train Acc = 0.70080\n",
      "Val Loss = 0.55921, Val MSE = 0.97441, Val MAE = 0.77356, Val Acc = 0.70482\n"
     ]
    },
    {
     "name": "stderr",
     "output_type": "stream",
     "text": [
      "Epoch 76/512: 100%|█████████████████████████████████████████████████████████████████████| 906/906 [00:40<00:00, 22.50it/s]\n"
     ]
    },
    {
     "name": "stdout",
     "output_type": "stream",
     "text": [
      "Epoch 76/512: \n",
      "Train Loss = 0.55778, Train MSE = 0.96549, Train MAE = 0.77244, Train Acc = 0.70321\n",
      "Val Loss = 0.57412, Val MSE = 1.01364, Val MAE = 0.79027, Val Acc = 0.69515\n"
     ]
    },
    {
     "name": "stderr",
     "output_type": "stream",
     "text": [
      "Epoch 77/512: 100%|█████████████████████████████████████████████████████████████████████| 906/906 [00:40<00:00, 22.47it/s]\n"
     ]
    },
    {
     "name": "stdout",
     "output_type": "stream",
     "text": [
      "Epoch 77/512: \n",
      "Train Loss = 0.55902, Train MSE = 0.96709, Train MAE = 0.77359, Train Acc = 0.70289\n",
      "Val Loss = 0.58156, Val MSE = 1.03907, Val MAE = 0.79759, Val Acc = 0.69184\n"
     ]
    },
    {
     "name": "stderr",
     "output_type": "stream",
     "text": [
      "Epoch 78/512: 100%|█████████████████████████████████████████████████████████████████████| 906/906 [00:40<00:00, 22.56it/s]\n"
     ]
    },
    {
     "name": "stdout",
     "output_type": "stream",
     "text": [
      "Epoch 78/512: \n",
      "Train Loss = 0.55547, Train MSE = 0.95968, Train MAE = 0.76975, Train Acc = 0.70513\n",
      "Val Loss = 0.55067, Val MSE = 0.97526, Val MAE = 0.76519, Val Acc = 0.71034\n"
     ]
    },
    {
     "name": "stderr",
     "output_type": "stream",
     "text": [
      "Epoch 79/512: 100%|█████████████████████████████████████████████████████████████████████| 906/906 [00:40<00:00, 22.64it/s]\n"
     ]
    },
    {
     "name": "stdout",
     "output_type": "stream",
     "text": [
      "Epoch 79/512: \n",
      "Train Loss = 0.55443, Train MSE = 0.95756, Train MAE = 0.76879, Train Acc = 0.70553\n",
      "Val Loss = 0.57615, Val MSE = 1.01521, Val MAE = 0.79223, Val Acc = 0.69212\n"
     ]
    },
    {
     "name": "stderr",
     "output_type": "stream",
     "text": [
      "Epoch 80/512: 100%|█████████████████████████████████████████████████████████████████████| 906/906 [00:40<00:00, 22.56it/s]\n"
     ]
    },
    {
     "name": "stdout",
     "output_type": "stream",
     "text": [
      "Epoch 80/512: \n",
      "Train Loss = 0.55437, Train MSE = 0.95570, Train MAE = 0.76831, Train Acc = 0.70378\n",
      "Val Loss = 0.58446, Val MSE = 1.03401, Val MAE = 0.80158, Val Acc = 0.68936\n"
     ]
    },
    {
     "name": "stderr",
     "output_type": "stream",
     "text": [
      "Epoch 81/512: 100%|█████████████████████████████████████████████████████████████████████| 906/906 [00:40<00:00, 22.59it/s]\n"
     ]
    },
    {
     "name": "stdout",
     "output_type": "stream",
     "text": [
      "Epoch 81/512: \n",
      "Train Loss = 0.55479, Train MSE = 0.95782, Train MAE = 0.76933, Train Acc = 0.70468\n",
      "Val Loss = 0.53688, Val MSE = 0.91373, Val MAE = 0.75093, Val Acc = 0.71918\n"
     ]
    },
    {
     "name": "stderr",
     "output_type": "stream",
     "text": [
      "Epoch 82/512:   0%|                                                                               | 0/906 [00:00<?, ?it/s]"
     ]
    }
   ],
   "source": [
    "import argparse\n",
    "\n",
    "training_args = argparse.Namespace(**args)\n",
    "train_model(training_args, device)"
   ]
  },
  {
   "cell_type": "code",
   "execution_count": null,
   "metadata": {},
   "outputs": [],
   "source": []
  }
 ],
 "metadata": {
  "kernelspec": {
   "display_name": "Python (myenv)",
   "language": "python",
   "name": "myenv"
  },
  "language_info": {
   "codemirror_mode": {
    "name": "ipython",
    "version": 3
   },
   "file_extension": ".py",
   "mimetype": "text/x-python",
   "name": "python",
   "nbconvert_exporter": "python",
   "pygments_lexer": "ipython3",
   "version": "3.12.7"
  }
 },
 "nbformat": 4,
 "nbformat_minor": 4
}
