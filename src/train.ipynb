{
 "cells": [
  {
   "cell_type": "code",
   "execution_count": 1,
   "metadata": {},
   "outputs": [],
   "source": [
    "import torch\n",
    "\n",
    "# Local imports\n",
    "from train import train_model"
   ]
  },
  {
   "cell_type": "code",
   "execution_count": 2,
   "metadata": {},
   "outputs": [
    {
     "name": "stdout",
     "output_type": "stream",
     "text": [
      "/opt/miniconda3/bin/python\n",
      "3.12.2 | packaged by conda-forge | (main, Feb 16 2024, 20:50:58) [GCC 12.3.0]\n"
     ]
    }
   ],
   "source": [
    "import sys\n",
    "print(sys.executable)\n",
    "print(sys.version)"
   ]
  },
  {
   "cell_type": "code",
   "execution_count": 3,
   "metadata": {},
   "outputs": [
    {
     "name": "stdout",
     "output_type": "stream",
     "text": [
      "Using device: cuda:0\n"
     ]
    }
   ],
   "source": [
    "if torch.backends.mps.is_available():\n",
    "    device = torch.device(\"mps\")\n",
    "elif torch.cuda.is_available():\n",
    "    device = torch.device(\"cuda:0\")\n",
    "else:\n",
    "    device = torch.device(\"cpu\")\n",
    "\n",
    "print(f\"Using device: {device}\")"
   ]
  },
  {
   "cell_type": "code",
   "execution_count": 4,
   "metadata": {},
   "outputs": [],
   "source": [
    "# In your train.ipynb cell where `args` is defined:\n",
    "\n",
    "args = {\n",
    "    \"dataset\": \"DAVIS\",  # Or \"KIBA\", \"CD4C\"\n",
    "    \"data_path\": \"../data\",\n",
    "    \"protein_graph_dir\": \"../data/protein_graphs\",  # <--- ADD THIS LINE (or update existing)\n",
    "    \"model_path\": '../models/gat_cd4c_davis_graphs.pth', # Example model path\n",
    "    \"seed\": 0,\n",
    "    \"device\": \"cuda\" if torch.cuda.is_available() else \"cpu\",\n",
    "    \"batch_size\": 64, # 128\n",
    "    \"max_epochs\": 500, # 500\n",
    "    \"lr\": 1e-4,      #  1e-4\n",
    "    \"weight_decay\": 2e-4, # 2e-4\n",
    "    \"stoppage_epochs\": 32, # 32\n",
    "    \"scheduler_patience\": 10,\n",
    "    \"scheduler_factor\": 0.5,\n",
    "    \"huber_beta\": 0.5,\n",
    "    \"clip_grad_norm\": 1.0,\n",
    "    \"use_small_dataset\": False, # True for quick testing\n",
    "    \"frac_train\": 0.8,\n",
    "    \"frac_validation\": 0.1,\n",
    "    \"frac_test\": 0.1,\n",
    "    \"max_nodes\": 72, # Max nodes for padding\n",
    "    \"num_workers\": 4, # Or based on your CPU cores\n",
    "    \n",
    "    # Model architecture (these should match defaults in get_parser or be set explicitly)\n",
    "    \"hidden_size\": 256,\n",
    "    \"emb_size\": 192, \n",
    "    \"num_layers\": 8,\n",
    "    \"num_attn_heads\": 12,\n",
    "    \"dropout\": 0.1, # 0.1\n",
    "    \"mlp_dropout\": 0.2, #  0.2\n",
    "    \"pooling_dim\": 192,\n",
    "    \"mlp_hidden\": 256,\n",
    "    \"use_cross\": True, # Or False\n",
    "    # \"include_3d_drug\": False, # This is handled by getattr in train.py if not present\n",
    "}\n",
    "\n",
    "# Then this line converts it to a namespace\n",
    "# training_args = argparse.Namespace(**args) \n",
    "# train_model(training_args, device)"
   ]
  },
  {
   "cell_type": "code",
   "execution_count": 5,
   "metadata": {},
   "outputs": [
    {
     "name": "stdout",
     "output_type": "stream",
     "text": [
      "Model parameters: 5,195,733\n",
      "DEBUG load_data: Received dataset_name = 'DAVIS' (type: <class 'str'>)\n",
      "Attempting to load main interaction data from: ../data/DAVIS_dataset.csv\n",
      "Loading main interaction data from cached file: ../data/DAVIS_dataset.csv\n",
      "Dataset split: Train 20617, Validation 2577, Test 2578\n"
     ]
    },
    {
     "name": "stderr",
     "output_type": "stream",
     "text": [
      "Processing drugs: 100%|██████████| 68/68 [00:00<00:00, 628.06it/s]\n"
     ]
    },
    {
     "name": "stdout",
     "output_type": "stream",
     "text": [
      "INFO: Validating protein graph paths...\n",
      "INFO: Checking 379 unique Target_IDs from the DataFrame.\n",
      "  Processed ID 1/379: original='MYO3A', sanitized='MYO3A' -> FOUND (using sanitized): 'MYO3A.pt'\n",
      "  Processed ID 2/379: original='VEGFR2', sanitized='VEGFR2' -> FOUND (using sanitized): 'VEGFR2.pt'\n",
      "  Processed ID 3/379: original='TRKC', sanitized='TRKC' -> FOUND (using sanitized): 'TRKC.pt'\n",
      "  Processed ID 4/379: original='IKK-alpha', sanitized='IKK-alpha' -> FOUND (using sanitized): 'IKK-alpha.pt'\n",
      "  Processed ID 5/379: original='PRKCH', sanitized='PRKCH' -> FOUND (using sanitized): 'PRKCH.pt'\n",
      "  Processed ID 6/379: original='LIMK2', sanitized='LIMK2' -> FOUND (using sanitized): 'LIMK2.pt'\n",
      "  Processed ID 7/379: original='INSR', sanitized='INSR' -> FOUND (using sanitized): 'INSR.pt'\n",
      "  Processed ID 8/379: original='YANK2', sanitized='YANK2' -> FOUND (using sanitized): 'YANK2.pt'\n",
      "  Processed ID 9/379: original='PIP5K1A', sanitized='PIP5K1A' -> FOUND (using sanitized): 'PIP5K1A.pt'\n",
      "  Processed ID 10/379: original='PRKD3', sanitized='PRKD3' -> FOUND (using sanitized): 'PRKD3.pt'\n",
      "  Processed ID 11/379: original='PIP5K2B', sanitized='PIP5K2B' -> FOUND (using sanitized): 'PIP5K2B.pt'\n",
      "  Processed ID 12/379: original='PKN2', sanitized='PKN2' -> FOUND (using sanitized): 'PKN2.pt'\n",
      "  Processed ID 13/379: original='RSK3(KinDom.2-C-terminal)', sanitized='RSK3(KinDom.2-C-terminal)' -> FOUND (using sanitized): 'RSK3.pt'\n",
      "  Processed ID 14/379: original='SIK2', sanitized='SIK2' -> FOUND (using sanitized): 'SIK2.pt'\n",
      "  Processed ID 15/379: original='CAMK1', sanitized='CAMK1' -> FOUND (using sanitized): 'CAMK1.pt'\n",
      "  Processed ID 16/379: original='TEC', sanitized='TEC' -> FOUND (using sanitized): 'TEC.pt'\n",
      "  Processed ID 17/379: original='PFTAIRE2', sanitized='PFTAIRE2' -> FOUND (using sanitized): 'PFTAIRE2.pt'\n",
      "  Processed ID 18/379: original='PYK2', sanitized='PYK2' -> FOUND (using sanitized): 'PYK2.pt'\n",
      "  Processed ID 19/379: original='ADCK3', sanitized='ADCK3' -> FOUND (using sanitized): 'ADCK3.pt'\n",
      "  Processed ID 20/379: original='NEK5', sanitized='NEK5' -> FOUND (using sanitized): 'NEK5.pt'\n",
      "  Processed ID 21/379: original='FLT1', sanitized='FLT1' -> FOUND (using sanitized): 'FLT1.pt'\n",
      "  Processed ID 22/379: original='ERK5', sanitized='ERK5' -> FOUND (using sanitized): 'ERK5.pt'\n",
      "  Processed ID 23/379: original='YSK1', sanitized='YSK1' -> FOUND (using sanitized): 'YSK1.pt'\n",
      "  Processed ID 24/379: original='BMPR1A', sanitized='BMPR1A' -> FOUND (using sanitized): 'BMPR1A.pt'\n",
      "  Processed ID 25/379: original='IRAK4', sanitized='IRAK4' -> FOUND (using sanitized): 'IRAK4.pt'\n",
      "  Processed ID 26/379: original='PIK3CD', sanitized='PIK3CD' -> FOUND (using sanitized): 'PIK3CD.pt'\n",
      "  Processed ID 27/379: original='HIPK1', sanitized='HIPK1' -> FOUND (using sanitized): 'HIPK1.pt'\n",
      "  Processed ID 28/379: original='LATS1', sanitized='LATS1' -> FOUND (using sanitized): 'LATS1.pt'\n",
      "  Processed ID 29/379: original='PAK4', sanitized='PAK4' -> FOUND (using sanitized): 'PAK4.pt'\n",
      "  Processed ID 30/379: original='STK39', sanitized='STK39' -> FOUND (using sanitized): 'STK39.pt'\n",
      "  Processed ID 31/379: original='ERK4', sanitized='ERK4' -> FOUND (using sanitized): 'ERK4.pt'\n",
      "  Processed ID 32/379: original='LYN', sanitized='LYN' -> FOUND (using sanitized): 'LYN.pt'\n",
      "  Processed ID 33/379: original='MAK', sanitized='MAK' -> FOUND (using sanitized): 'MAK.pt'\n",
      "  Processed ID 34/379: original='MEK1', sanitized='MEK1' -> FOUND (using sanitized): 'MEK1.pt'\n",
      "  Processed ID 35/379: original='CLK2', sanitized='CLK2' -> FOUND (using sanitized): 'CLK2.pt'\n",
      "  Processed ID 36/379: original='PAK1', sanitized='PAK1' -> FOUND (using sanitized): 'PAK1.pt'\n",
      "  Processed ID 37/379: original='PIK3CB', sanitized='PIK3CB' -> FOUND (using sanitized): 'PIK3CB.pt'\n",
      "  Processed ID 38/379: original='PKNB(Mtuberculosis)', sanitized='PKNB(Mtuberculosis)' -> FOUND (using sanitized): 'PKNB.pt'\n",
      "  Processed ID 39/379: original='YES', sanitized='YES' -> FOUND (using sanitized): 'YES.pt'\n",
      "  Processed ID 40/379: original='DMPK', sanitized='DMPK' -> FOUND (using sanitized): 'DMPK.pt'\n",
      "  Processed ID 41/379: original='PRKCD', sanitized='PRKCD' -> FOUND (using sanitized): 'PRKCD.pt'\n",
      "  Processed ID 42/379: original='PDGFRB', sanitized='PDGFRB' -> FOUND (using sanitized): 'PDGFRB.pt'\n",
      "  Processed ID 43/379: original='SLK', sanitized='SLK' -> FOUND (using sanitized): 'SLK.pt'\n",
      "  Processed ID 44/379: original='CLK3', sanitized='CLK3' -> FOUND (using sanitized): 'CLK3.pt'\n",
      "  Processed ID 45/379: original='DAPK1', sanitized='DAPK1' -> FOUND (using sanitized): 'DAPK1.pt'\n",
      "  Processed ID 46/379: original='PLK1', sanitized='PLK1' -> FOUND (using sanitized): 'PLK1.pt'\n",
      "  Processed ID 47/379: original='SgK110', sanitized='SgK110' -> FOUND (using sanitized): 'SgK110.pt'\n",
      "  Processed ID 48/379: original='CHEK2', sanitized='CHEK2' -> FOUND (using sanitized): 'CHEK2.pt'\n",
      "  Processed ID 49/379: original='YANK3', sanitized='YANK3' -> FOUND (using sanitized): 'YANK3.pt'\n",
      "  Processed ID 50/379: original='ACVR1', sanitized='ACVR1' -> FOUND (using sanitized): 'ACVR1.pt'\n",
      "  Processed ID 51/379: original='DYRK2', sanitized='DYRK2' -> FOUND (using sanitized): 'DYRK2.pt'\n",
      "  Processed ID 52/379: original='MLK2', sanitized='MLK2' -> FOUND (using sanitized): 'MLK2.pt'\n",
      "  Processed ID 53/379: original='CSNK1A1L', sanitized='CSNK1A1L' -> FOUND (using sanitized): 'CSNK1A1L.pt'\n",
      "  Processed ID 54/379: original='NEK9', sanitized='NEK9' -> FOUND (using sanitized): 'NEK9.pt'\n",
      "  Processed ID 55/379: original='TRPM6', sanitized='TRPM6' -> FOUND (using sanitized): 'TRPM6.pt'\n",
      "  Processed ID 56/379: original='KIT(V559D-V654A)', sanitized='KIT(V559D-V654A)' -> FOUND (using sanitized): 'KIT.pt'\n",
      "  Processed ID 57/379: original='ERK3', sanitized='ERK3' -> FOUND (using sanitized): 'ERK3.pt'\n",
      "  Processed ID 58/379: original='MERTK', sanitized='MERTK' -> FOUND (using sanitized): 'MERTK.pt'\n",
      "  Processed ID 59/379: original='p38-beta', sanitized='p38-beta' -> FOUND (using sanitized): 'p38-beta.pt'\n",
      "  Processed ID 60/379: original='CAMK4', sanitized='CAMK4' -> FOUND (using sanitized): 'CAMK4.pt'\n",
      "  Processed ID 61/379: original='HIPK4', sanitized='HIPK4' -> FOUND (using sanitized): 'HIPK4.pt'\n",
      "  Processed ID 62/379: original='EPHA3', sanitized='EPHA3' -> FOUND (using sanitized): 'EPHA3.pt'\n",
      "  Processed ID 63/379: original='PCTK2', sanitized='PCTK2' -> FOUND (using sanitized): 'PCTK2.pt'\n",
      "  Processed ID 64/379: original='SNARK', sanitized='SNARK' -> FOUND (using sanitized): 'SNARK.pt'\n",
      "  Processed ID 65/379: original='QSK', sanitized='QSK' -> FOUND (using sanitized): 'QSK.pt'\n",
      "  Processed ID 66/379: original='PRKD1', sanitized='PRKD1' -> FOUND (using sanitized): 'PRKD1.pt'\n",
      "  Processed ID 67/379: original='ASK1', sanitized='ASK1' -> FOUND (using sanitized): 'ASK1.pt'\n",
      "  Processed ID 68/379: original='FGFR4', sanitized='FGFR4' -> FOUND (using sanitized): 'FGFR4.pt'\n",
      "  Processed ID 69/379: original='GRK7', sanitized='GRK7' -> FOUND (using sanitized): 'GRK7.pt'\n",
      "  Processed ID 70/379: original='RIOK1', sanitized='RIOK1' -> FOUND (using sanitized): 'RIOK1.pt'\n",
      "  Processed ID 71/379: original='JAK3(JH1domain-catalytic)', sanitized='JAK3(JH1domain-catalytic)' -> FOUND (using sanitized): 'JAK3.pt'\n",
      "  Processed ID 72/379: original='RSK1(KinDom.2-C-terminal)', sanitized='RSK1(KinDom.2-C-terminal)' -> FOUND (using sanitized): 'RSK1.pt'\n",
      "  Processed ID 73/379: original='DCAMKL2', sanitized='DCAMKL2' -> FOUND (using sanitized): 'DCAMKL2.pt'\n",
      "  Processed ID 74/379: original='CASK', sanitized='CASK' -> FOUND (using sanitized): 'CASK.pt'\n",
      "  Processed ID 75/379: original='p38-alpha', sanitized='p38-alpha' -> FOUND (using sanitized): 'p38-alpha.pt'\n",
      "  Processed ID 76/379: original='RIPK5', sanitized='RIPK5' -> FOUND (using sanitized): 'RIPK5.pt'\n",
      "  Processed ID 77/379: original='EPHA4', sanitized='EPHA4' -> FOUND (using sanitized): 'EPHA4.pt'\n",
      "  Processed ID 78/379: original='TAOK2', sanitized='TAOK2' -> FOUND (using sanitized): 'TAOK2.pt'\n",
      "  Processed ID 79/379: original='ULK2', sanitized='ULK2' -> FOUND (using sanitized): 'ULK2.pt'\n",
      "  Processed ID 80/379: original='CDKL5', sanitized='CDKL5' -> FOUND (using sanitized): 'CDKL5.pt'\n",
      "  Processed ID 81/379: original='CDK8', sanitized='CDK8' -> FOUND (using sanitized): 'CDK8.pt'\n",
      "  Processed ID 82/379: original='STK33', sanitized='STK33' -> FOUND (using sanitized): 'STK33.pt'\n",
      "  Processed ID 83/379: original='JNK1', sanitized='JNK1' -> FOUND (using sanitized): 'JNK1.pt'\n",
      "  Processed ID 84/379: original='SRMS', sanitized='SRMS' -> FOUND (using sanitized): 'SRMS.pt'\n",
      "  Processed ID 85/379: original='LCK', sanitized='LCK' -> FOUND (using sanitized): 'LCK.pt'\n",
      "  Processed ID 86/379: original='RIOK2', sanitized='RIOK2' -> FOUND (using sanitized): 'RIOK2.pt'\n",
      "  Processed ID 87/379: original='EPHB3', sanitized='EPHB3' -> FOUND (using sanitized): 'EPHB3.pt'\n",
      "  Processed ID 88/379: original='HPK1', sanitized='HPK1' -> FOUND (using sanitized): 'HPK1.pt'\n",
      "  Processed ID 89/379: original='RIOK3', sanitized='RIOK3' -> FOUND (using sanitized): 'RIOK3.pt'\n",
      "  Processed ID 90/379: original='IRAK3', sanitized='IRAK3' -> FOUND (using sanitized): 'IRAK3.pt'\n",
      "  Processed ID 91/379: original='TRKA', sanitized='TRKA' -> FOUND (using sanitized): 'TRKA.pt'\n",
      "  Processed ID 92/379: original='MUSK', sanitized='MUSK' -> FOUND (using sanitized): 'MUSK.pt'\n",
      "  Processed ID 93/379: original='SGK3', sanitized='SGK3' -> FOUND (using sanitized): 'SGK3.pt'\n",
      "  Processed ID 94/379: original='ALK', sanitized='ALK' -> FOUND (using sanitized): 'ALK.pt'\n",
      "  Processed ID 95/379: original='HUNK', sanitized='HUNK' -> FOUND (using sanitized): 'HUNK.pt'\n",
      "  Processed ID 96/379: original='PRKD2', sanitized='PRKD2' -> FOUND (using sanitized): 'PRKD2.pt'\n",
      "  Processed ID 97/379: original='CAMK1G', sanitized='CAMK1G' -> FOUND (using sanitized): 'CAMK1G.pt'\n",
      "  Processed ID 98/379: original='SRPK1', sanitized='SRPK1' -> FOUND (using sanitized): 'SRPK1.pt'\n",
      "  Processed ID 99/379: original='MEK3', sanitized='MEK3' -> FOUND (using sanitized): 'MEK3.pt'\n",
      "  Processed ID 100/379: original='ERK1', sanitized='ERK1' -> FOUND (using sanitized): 'ERK1.pt'\n",
      "  Processed ID 101/379: original='MAST1', sanitized='MAST1' -> FOUND (using sanitized): 'MAST1.pt'\n",
      "  Processed ID 102/379: original='ICK', sanitized='ICK' -> FOUND (using sanitized): 'ICK.pt'\n",
      "  Processed ID 103/379: original='ACVR2B', sanitized='ACVR2B' -> FOUND (using sanitized): 'ACVR2B.pt'\n",
      "  Processed ID 104/379: original='IKK-epsilon', sanitized='IKK-epsilon' -> FOUND (using sanitized): 'IKK-epsilon.pt'\n",
      "  Processed ID 105/379: original='PIK3CG', sanitized='PIK3CG' -> FOUND (using sanitized): 'PIK3CG.pt'\n",
      "  Processed ID 106/379: original='GCN2(KinDom2S808G)', sanitized='GCN2(KinDom2S808G)' -> FOUND (using sanitized): 'GCN2.pt'\n",
      "  Processed ID 107/379: original='ERBB2', sanitized='ERBB2' -> FOUND (using sanitized): 'ERBB2.pt'\n",
      "  Processed ID 108/379: original='TIE1', sanitized='TIE1' -> FOUND (using sanitized): 'TIE1.pt'\n",
      "  Processed ID 109/379: original='GAK', sanitized='GAK' -> FOUND (using sanitized): 'GAK.pt'\n",
      "  Processed ID 110/379: original='CAMK2B', sanitized='CAMK2B' -> FOUND (using sanitized): 'CAMK2B.pt'\n",
      "  Processed ID 111/379: original='LATS2', sanitized='LATS2' -> FOUND (using sanitized): 'LATS2.pt'\n",
      "  Processed ID 112/379: original='CAMK2G', sanitized='CAMK2G' -> FOUND (using sanitized): 'CAMK2G.pt'\n",
      "  Processed ID 113/379: original='PCTK1', sanitized='PCTK1' -> FOUND (using sanitized): 'PCTK1.pt'\n",
      "  Processed ID 114/379: original='EIF2AK1', sanitized='EIF2AK1' -> FOUND (using sanitized): 'EIF2AK1.pt'\n",
      "  Processed ID 115/379: original='ASK2', sanitized='ASK2' -> FOUND (using sanitized): 'ASK2.pt'\n",
      "  Processed ID 116/379: original='MAP3K4', sanitized='MAP3K4' -> FOUND (using sanitized): 'MAP3K4.pt'\n",
      "  Processed ID 117/379: original='MAP4K3', sanitized='MAP4K3' -> FOUND (using sanitized): 'MAP4K3.pt'\n",
      "  Processed ID 118/379: original='AXL', sanitized='AXL' -> FOUND (using sanitized): 'AXL.pt'\n",
      "  Processed ID 119/379: original='SIK', sanitized='SIK' -> FOUND (using sanitized): 'SIK.pt'\n",
      "  Processed ID 120/379: original='DMPK2', sanitized='DMPK2' -> FOUND (using sanitized): 'DMPK2.pt'\n",
      "  Processed ID 121/379: original='AKT1', sanitized='AKT1' -> FOUND (using sanitized): 'AKT1.pt'\n",
      "  Processed ID 122/379: original='HIPK3', sanitized='HIPK3' -> FOUND (using sanitized): 'HIPK3.pt'\n",
      "  Processed ID 123/379: original='ROCK1', sanitized='ROCK1' -> FOUND (using sanitized): 'ROCK1.pt'\n",
      "  Processed ID 124/379: original='ABL1p', sanitized='ABL1p' -> FOUND (using sanitized): 'ABL1p.pt'\n",
      "  Processed ID 125/379: original='AURKC', sanitized='AURKC' -> FOUND (using sanitized): 'AURKC.pt'\n",
      "  Processed ID 126/379: original='STK35', sanitized='STK35' -> FOUND (using sanitized): 'STK35.pt'\n",
      "  Processed ID 127/379: original='BRSK1', sanitized='BRSK1' -> FOUND (using sanitized): 'BRSK1.pt'\n",
      "  Processed ID 128/379: original='CSNK1G1', sanitized='CSNK1G1' -> FOUND (using sanitized): 'CSNK1G1.pt'\n",
      "  Processed ID 129/379: original='ACVR1B', sanitized='ACVR1B' -> FOUND (using sanitized): 'ACVR1B.pt'\n",
      "  Processed ID 130/379: original='FLT3(R834Q)', sanitized='FLT3(R834Q)' -> FOUND (using sanitized): 'FLT3.pt'\n",
      "  Processed ID 131/379: original='ABL2', sanitized='ABL2' -> FOUND (using sanitized): 'ABL2.pt'\n",
      "  Processed ID 132/379: original='PAK2', sanitized='PAK2' -> FOUND (using sanitized): 'PAK2.pt'\n",
      "  Processed ID 133/379: original='FGFR1', sanitized='FGFR1' -> FOUND (using sanitized): 'FGFR1.pt'\n",
      "  Processed ID 134/379: original='EPHA2', sanitized='EPHA2' -> FOUND (using sanitized): 'EPHA2.pt'\n",
      "  Processed ID 135/379: original='ERN1', sanitized='ERN1' -> FOUND (using sanitized): 'ERN1.pt'\n",
      "  Processed ID 136/379: original='EPHA6', sanitized='EPHA6' -> FOUND (using sanitized): 'EPHA6.pt'\n",
      "  Processed ID 137/379: original='LKB1', sanitized='LKB1' -> FOUND (using sanitized): 'LKB1.pt'\n",
      "  Processed ID 138/379: original='DLK', sanitized='DLK' -> FOUND (using sanitized): 'DLK.pt'\n",
      "  Processed ID 139/379: original='CDK7', sanitized='CDK7' -> FOUND (using sanitized): 'CDK7.pt'\n",
      "  Processed ID 140/379: original='MEK5', sanitized='MEK5' -> FOUND (using sanitized): 'MEK5.pt'\n",
      "  Processed ID 141/379: original='PIM1', sanitized='PIM1' -> FOUND (using sanitized): 'PIM1.pt'\n",
      "  Processed ID 142/379: original='RET(V804M)', sanitized='RET(V804M)' -> FOUND (using sanitized): 'RET.pt'\n",
      "  Processed ID 143/379: original='MAP3K2', sanitized='MAP3K2' -> FOUND (using sanitized): 'MAP3K2.pt'\n",
      "  Processed ID 144/379: original='PRKG2', sanitized='PRKG2' -> FOUND (using sanitized): 'PRKG2.pt'\n",
      "  Processed ID 145/379: original='AKT3', sanitized='AKT3' -> FOUND (using sanitized): 'AKT3.pt'\n",
      "  Processed ID 146/379: original='MAP3K15', sanitized='MAP3K15' -> FOUND (using sanitized): 'MAP3K15.pt'\n",
      "  Processed ID 147/379: original='STK16', sanitized='STK16' -> FOUND (using sanitized): 'STK16.pt'\n",
      "  Processed ID 148/379: original='MST3', sanitized='MST3' -> FOUND (using sanitized): 'MST3.pt'\n",
      "  Processed ID 149/379: original='MYLK2', sanitized='MYLK2' -> FOUND (using sanitized): 'MYLK2.pt'\n",
      "  Processed ID 150/379: original='SRC', sanitized='SRC' -> FOUND (using sanitized): 'SRC.pt'\n",
      "  Processed ID 151/379: original='RPS6KA5(KinDom.2-C-terminal)', sanitized='RPS6KA5(KinDom.2-C-terminal)' -> FOUND (using sanitized): 'RPS6KA5.pt'\n",
      "  Processed ID 152/379: original='FRK', sanitized='FRK' -> FOUND (using sanitized): 'FRK.pt'\n",
      "  Processed ID 153/379: original='GRK1', sanitized='GRK1' -> FOUND (using sanitized): 'GRK1.pt'\n",
      "  Processed ID 154/379: original='DYRK1A', sanitized='DYRK1A' -> FOUND (using sanitized): 'DYRK1A.pt'\n",
      "  Processed ID 155/379: original='TAK1', sanitized='TAK1' -> FOUND (using sanitized): 'TAK1.pt'\n",
      "  Processed ID 156/379: original='FLT4', sanitized='FLT4' -> FOUND (using sanitized): 'FLT4.pt'\n",
      "  Processed ID 157/379: original='MEK6', sanitized='MEK6' -> FOUND (using sanitized): 'MEK6.pt'\n",
      "  Processed ID 158/379: original='LRRK2(G2019S)', sanitized='LRRK2(G2019S)' -> FOUND (using sanitized): 'LRRK2.pt'\n",
      "  Processed ID 159/379: original='CAMK2D', sanitized='CAMK2D' -> FOUND (using sanitized): 'CAMK2D.pt'\n",
      "  Processed ID 160/379: original='MARK3', sanitized='MARK3' -> FOUND (using sanitized): 'MARK3.pt'\n",
      "  Processed ID 161/379: original='MST4', sanitized='MST4' -> FOUND (using sanitized): 'MST4.pt'\n",
      "  Processed ID 162/379: original='MRCKA', sanitized='MRCKA' -> FOUND (using sanitized): 'MRCKA.pt'\n",
      "  Processed ID 163/379: original='PRKX', sanitized='PRKX' -> FOUND (using sanitized): 'PRKX.pt'\n",
      "  Processed ID 164/379: original='SYK', sanitized='SYK' -> FOUND (using sanitized): 'SYK.pt'\n",
      "  Processed ID 165/379: original='p38-delta', sanitized='p38-delta' -> FOUND (using sanitized): 'p38-delta.pt'\n",
      "  Processed ID 166/379: original='TYK2(JH2domain-pseudokinase)', sanitized='TYK2(JH2domain-pseudokinase)' -> FOUND (using sanitized): 'TYK2.pt'\n",
      "  Processed ID 167/379: original='RIPK4', sanitized='RIPK4' -> FOUND (using sanitized): 'RIPK4.pt'\n",
      "  Processed ID 168/379: original='PRKG1', sanitized='PRKG1' -> FOUND (using sanitized): 'PRKG1.pt'\n",
      "  Processed ID 169/379: original='SBK1', sanitized='SBK1' -> FOUND (using sanitized): 'SBK1.pt'\n",
      "  Processed ID 170/379: original='TRKB', sanitized='TRKB' -> FOUND (using sanitized): 'TRKB.pt'\n",
      "  Processed ID 171/379: original='GSK3B', sanitized='GSK3B' -> FOUND (using sanitized): 'GSK3B.pt'\n",
      "  Processed ID 172/379: original='MRCKB', sanitized='MRCKB' -> FOUND (using sanitized): 'MRCKB.pt'\n",
      "  Processed ID 173/379: original='PAK6', sanitized='PAK6' -> FOUND (using sanitized): 'PAK6.pt'\n",
      "  Processed ID 174/379: original='FES', sanitized='FES' -> FOUND (using sanitized): 'FES.pt'\n",
      "  Processed ID 175/379: original='MST1R', sanitized='MST1R' -> FOUND (using sanitized): 'MST1R.pt'\n",
      "  Processed ID 176/379: original='AURKA', sanitized='AURKA' -> FOUND (using sanitized): 'AURKA.pt'\n",
      "  Processed ID 177/379: original='OSR1', sanitized='OSR1' -> FOUND (using sanitized): 'OSR1.pt'\n",
      "  Processed ID 178/379: original='MYO3B', sanitized='MYO3B' -> FOUND (using sanitized): 'MYO3B.pt'\n",
      "  Processed ID 179/379: original='MEK4', sanitized='MEK4' -> FOUND (using sanitized): 'MEK4.pt'\n",
      "  Processed ID 180/379: original='IRAK1', sanitized='IRAK1' -> FOUND (using sanitized): 'IRAK1.pt'\n",
      "  Processed ID 181/379: original='MKNK2', sanitized='MKNK2' -> FOUND (using sanitized): 'MKNK2.pt'\n",
      "  Processed ID 182/379: original='SRPK2', sanitized='SRPK2' -> FOUND (using sanitized): 'SRPK2.pt'\n",
      "  Processed ID 183/379: original='DYRK1B', sanitized='DYRK1B' -> FOUND (using sanitized): 'DYRK1B.pt'\n",
      "  Processed ID 184/379: original='CLK4', sanitized='CLK4' -> FOUND (using sanitized): 'CLK4.pt'\n",
      "  Processed ID 185/379: original='MYLK4', sanitized='MYLK4' -> FOUND (using sanitized): 'MYLK4.pt'\n",
      "  Processed ID 186/379: original='TNK2', sanitized='TNK2' -> FOUND (using sanitized): 'TNK2.pt'\n",
      "  Processed ID 187/379: original='EPHB1', sanitized='EPHB1' -> FOUND (using sanitized): 'EPHB1.pt'\n",
      "  Processed ID 188/379: original='MAP4K2', sanitized='MAP4K2' -> FOUND (using sanitized): 'MAP4K2.pt'\n",
      "  Processed ID 189/379: original='DCAMKL1', sanitized='DCAMKL1' -> FOUND (using sanitized): 'DCAMKL1.pt'\n",
      "  Processed ID 190/379: original='LZK', sanitized='LZK' -> FOUND (using sanitized): 'LZK.pt'\n",
      "  Processed ID 191/379: original='PIM2', sanitized='PIM2' -> FOUND (using sanitized): 'PIM2.pt'\n",
      "  Processed ID 192/379: original='NEK4', sanitized='NEK4' -> FOUND (using sanitized): 'NEK4.pt'\n",
      "  Processed ID 193/379: original='DAPK3', sanitized='DAPK3' -> FOUND (using sanitized): 'DAPK3.pt'\n",
      "  Processed ID 194/379: original='MLCK', sanitized='MLCK' -> FOUND (using sanitized): 'MLCK.pt'\n",
      "  Processed ID 195/379: original='AURKB', sanitized='AURKB' -> FOUND (using sanitized): 'AURKB.pt'\n",
      "  Processed ID 196/379: original='BLK', sanitized='BLK' -> FOUND (using sanitized): 'BLK.pt'\n",
      "  Processed ID 197/379: original='ERK2', sanitized='ERK2' -> FOUND (using sanitized): 'ERK2.pt'\n",
      "  Processed ID 198/379: original='CDK3', sanitized='CDK3' -> FOUND (using sanitized): 'CDK3.pt'\n",
      "  Processed ID 199/379: original='MARK4', sanitized='MARK4' -> FOUND (using sanitized): 'MARK4.pt'\n",
      "  Processed ID 200/379: original='PRKR', sanitized='PRKR' -> FOUND (using sanitized): 'PRKR.pt'\n",
      "  Processed ID 201/379: original='PKMYT1', sanitized='PKMYT1' -> FOUND (using sanitized): 'PKMYT1.pt'\n",
      "  Processed ID 202/379: original='ROS1', sanitized='ROS1' -> FOUND (using sanitized): 'ROS1.pt'\n",
      "  Processed ID 203/379: original='PRP4', sanitized='PRP4' -> FOUND (using sanitized): 'PRP4.pt'\n",
      "  Processed ID 204/379: original='TAOK1', sanitized='TAOK1' -> FOUND (using sanitized): 'TAOK1.pt'\n",
      "  Processed ID 205/379: original='ERBB3', sanitized='ERBB3' -> FOUND (using sanitized): 'ERBB3.pt'\n",
      "  Processed ID 206/379: original='PIP5K2C', sanitized='PIP5K2C' -> FOUND (using sanitized): 'PIP5K2C.pt'\n",
      "  Processed ID 207/379: original='TNIK', sanitized='TNIK' -> FOUND (using sanitized): 'TNIK.pt'\n",
      "  Processed ID 208/379: original='CDK11', sanitized='CDK11' -> FOUND (using sanitized): 'CDK11.pt'\n",
      "  Processed ID 209/379: original='DCAMKL3', sanitized='DCAMKL3' -> FOUND (using sanitized): 'DCAMKL3.pt'\n",
      "  Processed ID 210/379: original='MLK1', sanitized='MLK1' -> FOUND (using sanitized): 'MLK1.pt'\n",
      "  Processed ID 211/379: original='NLK', sanitized='NLK' -> FOUND (using sanitized): 'NLK.pt'\n",
      "  Processed ID 212/379: original='ACVRL1', sanitized='ACVRL1' -> FOUND (using sanitized): 'ACVRL1.pt'\n",
      "  Processed ID 213/379: original='LIMK1', sanitized='LIMK1' -> FOUND (using sanitized): 'LIMK1.pt'\n",
      "  Processed ID 214/379: original='TBK1', sanitized='TBK1' -> FOUND (using sanitized): 'TBK1.pt'\n",
      "  Processed ID 215/379: original='BMX', sanitized='BMX' -> FOUND (using sanitized): 'BMX.pt'\n",
      "  Processed ID 216/379: original='STK36', sanitized='STK36' -> FOUND (using sanitized): 'STK36.pt'\n",
      "  Processed ID 217/379: original='PRKCI', sanitized='PRKCI' -> FOUND (using sanitized): 'PRKCI.pt'\n",
      "  Processed ID 218/379: original='AMPK-alpha2', sanitized='AMPK-alpha2' -> FOUND (using sanitized): 'AMPK-alpha2.pt'\n",
      "  Processed ID 219/379: original='FER', sanitized='FER' -> FOUND (using sanitized): 'FER.pt'\n",
      "  Processed ID 220/379: original='AAK1', sanitized='AAK1' -> FOUND (using sanitized): 'AAK1.pt'\n",
      "  Processed ID 221/379: original='JNK2', sanitized='JNK2' -> FOUND (using sanitized): 'JNK2.pt'\n",
      "  Processed ID 222/379: original='CDKL3', sanitized='CDKL3' -> FOUND (using sanitized): 'CDKL3.pt'\n",
      "  Processed ID 223/379: original='NIM1', sanitized='NIM1' -> FOUND (using sanitized): 'NIM1.pt'\n",
      "  Processed ID 224/379: original='FGFR3(G697C)', sanitized='FGFR3(G697C)' -> FOUND (using sanitized): 'FGFR3.pt'\n",
      "  Processed ID 225/379: original='CAMKK2', sanitized='CAMKK2' -> FOUND (using sanitized): 'CAMKK2.pt'\n",
      "  Processed ID 226/379: original='DAPK2', sanitized='DAPK2' -> FOUND (using sanitized): 'DAPK2.pt'\n",
      "  Processed ID 227/379: original='PHKG1', sanitized='PHKG1' -> FOUND (using sanitized): 'PHKG1.pt'\n",
      "  Processed ID 228/379: original='NEK3', sanitized='NEK3' -> FOUND (using sanitized): 'NEK3.pt'\n",
      "  Processed ID 229/379: original='CDK2', sanitized='CDK2' -> FOUND (using sanitized): 'CDK2.pt'\n",
      "  Processed ID 230/379: original='VRK2', sanitized='VRK2' -> FOUND (using sanitized): 'VRK2.pt'\n",
      "  Processed ID 231/379: original='BRAF(V600E)', sanitized='BRAF(V600E)' -> FOUND (using sanitized): 'BRAF.pt'\n",
      "  Processed ID 232/379: original='EPHA7', sanitized='EPHA7' -> FOUND (using sanitized): 'EPHA7.pt'\n",
      "  Processed ID 233/379: original='BMPR2', sanitized='BMPR2' -> FOUND (using sanitized): 'BMPR2.pt'\n",
      "  Processed ID 234/379: original='CSNK1D', sanitized='CSNK1D' -> FOUND (using sanitized): 'CSNK1D.pt'\n",
      "  Processed ID 235/379: original='YSK4', sanitized='YSK4' -> FOUND (using sanitized): 'YSK4.pt'\n",
      "  Processed ID 236/379: original='CSK', sanitized='CSK' -> FOUND (using sanitized): 'CSK.pt'\n",
      "  Processed ID 237/379: original='FAK', sanitized='FAK' -> FOUND (using sanitized): 'FAK.pt'\n",
      "  Processed ID 238/379: original='RAF1', sanitized='RAF1' -> FOUND (using sanitized): 'RAF1.pt'\n",
      "  Processed ID 239/379: original='ACVR2A', sanitized='ACVR2A' -> FOUND (using sanitized): 'ACVR2A.pt'\n",
      "  Processed ID 240/379: original='DRAK1', sanitized='DRAK1' -> FOUND (using sanitized): 'DRAK1.pt'\n",
      "  Processed ID 241/379: original='MKNK1', sanitized='MKNK1' -> FOUND (using sanitized): 'MKNK1.pt'\n",
      "  Processed ID 242/379: original='WEE1', sanitized='WEE1' -> FOUND (using sanitized): 'WEE1.pt'\n",
      "  Processed ID 243/379: original='ARK5', sanitized='ARK5' -> FOUND (using sanitized): 'ARK5.pt'\n",
      "  Processed ID 244/379: original='PDPK1', sanitized='PDPK1' -> FOUND (using sanitized): 'PDPK1.pt'\n",
      "  Processed ID 245/379: original='CDKL2', sanitized='CDKL2' -> FOUND (using sanitized): 'CDKL2.pt'\n",
      "  Processed ID 246/379: original='PDGFRA', sanitized='PDGFRA' -> FOUND (using sanitized): 'PDGFRA.pt'\n",
      "  Processed ID 247/379: original='CSNK1E', sanitized='CSNK1E' -> FOUND (using sanitized): 'CSNK1E.pt'\n",
      "  Processed ID 248/379: original='PKAC-beta', sanitized='PKAC-beta' -> FOUND (using sanitized): 'PKAC-beta.pt'\n",
      "  Processed ID 249/379: original='BMPR1B', sanitized='BMPR1B' -> FOUND (using sanitized): 'BMPR1B.pt'\n",
      "  Processed ID 250/379: original='NDR1', sanitized='NDR1' -> FOUND (using sanitized): 'NDR1.pt'\n",
      "  Processed ID 251/379: original='MST1', sanitized='MST1' -> FOUND (using sanitized): 'MST1.pt'\n",
      "  Processed ID 252/379: original='EPHB2', sanitized='EPHB2' -> FOUND (using sanitized): 'EPHB2.pt'\n",
      "  Processed ID 253/379: original='NEK2', sanitized='NEK2' -> FOUND (using sanitized): 'NEK2.pt'\n",
      "  Processed ID 254/379: original='BRSK2', sanitized='BRSK2' -> FOUND (using sanitized): 'BRSK2.pt'\n",
      "  Processed ID 255/379: original='CDK9', sanitized='CDK9' -> FOUND (using sanitized): 'CDK9.pt'\n",
      "  Processed ID 256/379: original='TLK1', sanitized='TLK1' -> FOUND (using sanitized): 'TLK1.pt'\n",
      "  Processed ID 257/379: original='CSNK1G3', sanitized='CSNK1G3' -> FOUND (using sanitized): 'CSNK1G3.pt'\n",
      "  Processed ID 258/379: original='YANK1', sanitized='YANK1' -> FOUND (using sanitized): 'YANK1.pt'\n",
      "  Processed ID 259/379: original='PAK3', sanitized='PAK3' -> FOUND (using sanitized): 'PAK3.pt'\n",
      "  Processed ID 260/379: original='CSNK1G2', sanitized='CSNK1G2' -> FOUND (using sanitized): 'CSNK1G2.pt'\n",
      "  Processed ID 261/379: original='PCTK3', sanitized='PCTK3' -> FOUND (using sanitized): 'PCTK3.pt'\n",
      "  Processed ID 262/379: original='AMPK-alpha1', sanitized='AMPK-alpha1' -> FOUND (using sanitized): 'AMPK-alpha1.pt'\n",
      "  Processed ID 263/379: original='PLK2', sanitized='PLK2' -> FOUND (using sanitized): 'PLK2.pt'\n",
      "  Processed ID 264/379: original='TSSK1B', sanitized='TSSK1B' -> FOUND (using sanitized): 'TSSK1B.pt'\n",
      "  Processed ID 265/379: original='ZAK', sanitized='ZAK' -> FOUND (using sanitized): 'ZAK.pt'\n",
      "  Processed ID 266/379: original='PRKCQ', sanitized='PRKCQ' -> FOUND (using sanitized): 'PRKCQ.pt'\n",
      "  Processed ID 267/379: original='JAK2(JH1domain-catalytic)', sanitized='JAK2(JH1domain-catalytic)' -> FOUND (using sanitized): 'JAK2.pt'\n",
      "  Processed ID 268/379: original='CDKL1', sanitized='CDKL1' -> FOUND (using sanitized): 'CDKL1.pt'\n",
      "  Processed ID 269/379: original='AKT2', sanitized='AKT2' -> FOUND (using sanitized): 'AKT2.pt'\n",
      "  Processed ID 270/379: original='PLK4', sanitized='PLK4' -> FOUND (using sanitized): 'PLK4.pt'\n",
      "  Processed ID 271/379: original='CAMK1D', sanitized='CAMK1D' -> FOUND (using sanitized): 'CAMK1D.pt'\n",
      "  Processed ID 272/379: original='ADCK4', sanitized='ADCK4' -> FOUND (using sanitized): 'ADCK4.pt'\n",
      "  Processed ID 273/379: original='IKK-beta', sanitized='IKK-beta' -> FOUND (using sanitized): 'IKK-beta.pt'\n",
      "  Processed ID 274/379: original='MAPKAPK2', sanitized='MAPKAPK2' -> FOUND (using sanitized): 'MAPKAPK2.pt'\n",
      "  Processed ID 275/379: original='MAP3K3', sanitized='MAP3K3' -> FOUND (using sanitized): 'MAP3K3.pt'\n",
      "  Processed ID 276/379: original='EPHA8', sanitized='EPHA8' -> FOUND (using sanitized): 'EPHA8.pt'\n",
      "  Processed ID 277/379: original='CDC2L2', sanitized='CDC2L2' -> FOUND (using sanitized): 'CDC2L2.pt'\n",
      "  Processed ID 278/379: original='ROCK2', sanitized='ROCK2' -> FOUND (using sanitized): 'ROCK2.pt'\n",
      "  Processed ID 279/379: original='CSNK1A1', sanitized='CSNK1A1' -> FOUND (using sanitized): 'CSNK1A1.pt'\n",
      "  Processed ID 280/379: original='CDK5', sanitized='CDK5' -> FOUND (using sanitized): 'CDK5.pt'\n",
      "  Processed ID 281/379: original='CLK1', sanitized='CLK1' -> FOUND (using sanitized): 'CLK1.pt'\n",
      "  Processed ID 282/379: original='FGFR2', sanitized='FGFR2' -> FOUND (using sanitized): 'FGFR2.pt'\n",
      "  Processed ID 283/379: original='BIKE', sanitized='BIKE' -> FOUND (using sanitized): 'BIKE.pt'\n",
      "  Processed ID 284/379: original='SNRK', sanitized='SNRK' -> FOUND (using sanitized): 'SNRK.pt'\n",
      "  Processed ID 285/379: original='TYRO3', sanitized='TYRO3' -> FOUND (using sanitized): 'TYRO3.pt'\n",
      "  Processed ID 286/379: original='MLK3', sanitized='MLK3' -> FOUND (using sanitized): 'MLK3.pt'\n",
      "  Processed ID 287/379: original='TTK', sanitized='TTK' -> FOUND (using sanitized): 'TTK.pt'\n",
      "  Processed ID 288/379: original='CSNK2A2', sanitized='CSNK2A2' -> FOUND (using sanitized): 'CSNK2A2.pt'\n",
      "  Processed ID 289/379: original='MAP3K1', sanitized='MAP3K1' -> FOUND (using sanitized): 'MAP3K1.pt'\n",
      "  Processed ID 290/379: original='MELK', sanitized='MELK' -> FOUND (using sanitized): 'MELK.pt'\n",
      "  Processed ID 291/379: original='PKAC-alpha', sanitized='PKAC-alpha' -> FOUND (using sanitized): 'PKAC-alpha.pt'\n",
      "  Processed ID 292/379: original='HIPK2', sanitized='HIPK2' -> FOUND (using sanitized): 'HIPK2.pt'\n",
      "  Processed ID 293/379: original='PRKCE', sanitized='PRKCE' -> FOUND (using sanitized): 'PRKCE.pt'\n",
      "  Processed ID 294/379: original='FGR', sanitized='FGR' -> FOUND (using sanitized): 'FGR.pt'\n",
      "  Processed ID 295/379: original='MAP4K4', sanitized='MAP4K4' -> FOUND (using sanitized): 'MAP4K4.pt'\n",
      "  Processed ID 296/379: original='INSRR', sanitized='INSRR' -> FOUND (using sanitized): 'INSRR.pt'\n",
      "  Processed ID 297/379: original='CIT', sanitized='CIT' -> FOUND (using sanitized): 'CIT.pt'\n",
      "  Processed ID 298/379: original='CDC2L5', sanitized='CDC2L5' -> FOUND (using sanitized): 'CDC2L5.pt'\n",
      "  Processed ID 299/379: original='MTOR', sanitized='MTOR' -> FOUND (using sanitized): 'MTOR.pt'\n",
      "  Processed ID 300/379: original='MEK2', sanitized='MEK2' -> FOUND (using sanitized): 'MEK2.pt'\n",
      "  Processed ID 301/379: original='MKK7', sanitized='MKK7' -> FOUND (using sanitized): 'MKK7.pt'\n",
      "  Processed ID 302/379: original='ITK', sanitized='ITK' -> FOUND (using sanitized): 'ITK.pt'\n",
      "  Processed ID 303/379: original='TIE2', sanitized='TIE2' -> FOUND (using sanitized): 'TIE2.pt'\n",
      "  Processed ID 304/379: original='PHKG2', sanitized='PHKG2' -> FOUND (using sanitized): 'PHKG2.pt'\n",
      "  Processed ID 305/379: original='PIK3CA(Q546K)', sanitized='PIK3CA(Q546K)' -> FOUND (using sanitized): 'PIK3CA.pt'\n",
      "  Processed ID 306/379: original='RIPK2', sanitized='RIPK2' -> FOUND (using sanitized): 'RIPK2.pt'\n",
      "  Processed ID 307/379: original='PLK3', sanitized='PLK3' -> FOUND (using sanitized): 'PLK3.pt'\n",
      "  Processed ID 308/379: original='ERK8', sanitized='ERK8' -> FOUND (using sanitized): 'ERK8.pt'\n",
      "  Processed ID 309/379: original='JAK1(JH2domain-pseudokinase)', sanitized='JAK1(JH2domain-pseudokinase)' -> FOUND (using sanitized): 'JAK1.pt'\n",
      "  Processed ID 310/379: original='DRAK2', sanitized='DRAK2' -> FOUND (using sanitized): 'DRAK2.pt'\n",
      "  Processed ID 311/379: original='p38-gamma', sanitized='p38-gamma' -> FOUND (using sanitized): 'p38-gamma.pt'\n",
      "  Processed ID 312/379: original='MARK2', sanitized='MARK2' -> FOUND (using sanitized): 'MARK2.pt'\n",
      "  Processed ID 313/379: original='ANKK1', sanitized='ANKK1' -> FOUND (using sanitized): 'ANKK1.pt'\n",
      "  Processed ID 314/379: original='TNNI3K', sanitized='TNNI3K' -> FOUND (using sanitized): 'TNNI3K.pt'\n",
      "  Processed ID 315/379: original='S6K1', sanitized='S6K1' -> FOUND (using sanitized): 'S6K1.pt'\n",
      "  Processed ID 316/379: original='PFTK1', sanitized='PFTK1' -> FOUND (using sanitized): 'PFTK1.pt'\n",
      "  Processed ID 317/379: original='CAMKK1', sanitized='CAMKK1' -> FOUND (using sanitized): 'CAMKK1.pt'\n",
      "  Processed ID 318/379: original='JNK3', sanitized='JNK3' -> FOUND (using sanitized): 'JNK3.pt'\n",
      "  Processed ID 319/379: original='BTK', sanitized='BTK' -> FOUND (using sanitized): 'BTK.pt'\n",
      "  Processed ID 320/379: original='ZAP70', sanitized='ZAP70' -> FOUND (using sanitized): 'ZAP70.pt'\n",
      "  Processed ID 321/379: original='RPS6KA4(KinDom.2-C-terminal)', sanitized='RPS6KA4(KinDom.2-C-terminal)' -> FOUND (using sanitized): 'RPS6KA4.pt'\n",
      "  Processed ID 322/379: original='EPHA1', sanitized='EPHA1' -> FOUND (using sanitized): 'EPHA1.pt'\n",
      "  Processed ID 323/379: original='PFCDPK1(Pfalciparum)', sanitized='PFCDPK1(Pfalciparum)' -> FOUND (using sanitized): 'PFCDPK1.pt'\n",
      "  Processed ID 324/379: original='PAK7', sanitized='PAK7' -> FOUND (using sanitized): 'PAK7.pt'\n",
      "  Processed ID 325/379: original='MYLK', sanitized='MYLK' -> FOUND (using sanitized): 'MYLK.pt'\n",
      "  Processed ID 326/379: original='NEK11', sanitized='NEK11' -> FOUND (using sanitized): 'NEK11.pt'\n",
      "  Processed ID 327/379: original='PIP5K1C', sanitized='PIP5K1C' -> FOUND (using sanitized): 'PIP5K1C.pt'\n",
      "  Processed ID 328/379: original='ULK1', sanitized='ULK1' -> FOUND (using sanitized): 'ULK1.pt'\n",
      "  Processed ID 329/379: original='DDR1', sanitized='DDR1' -> FOUND (using sanitized): 'DDR1.pt'\n",
      "  Processed ID 330/379: original='TGFBR2', sanitized='TGFBR2' -> FOUND (using sanitized): 'TGFBR2.pt'\n",
      "  Processed ID 331/379: original='DDR2', sanitized='DDR2' -> FOUND (using sanitized): 'DDR2.pt'\n",
      "  Processed ID 332/379: original='CSF1R', sanitized='CSF1R' -> FOUND (using sanitized): 'CSF1R.pt'\n",
      "  Processed ID 333/379: original='PIK3C2B', sanitized='PIK3C2B' -> FOUND (using sanitized): 'PIK3C2B.pt'\n",
      "  Processed ID 334/379: original='WEE2', sanitized='WEE2' -> FOUND (using sanitized): 'WEE2.pt'\n",
      "  Processed ID 335/379: original='CDC2L1', sanitized='CDC2L1' -> FOUND (using sanitized): 'CDC2L1.pt'\n",
      "  Processed ID 336/379: original='NEK1', sanitized='NEK1' -> FOUND (using sanitized): 'NEK1.pt'\n",
      "  Processed ID 337/379: original='TLK2', sanitized='TLK2' -> FOUND (using sanitized): 'TLK2.pt'\n",
      "  Processed ID 338/379: original='BRK', sanitized='BRK' -> FOUND (using sanitized): 'BRK.pt'\n",
      "  Processed ID 339/379: original='EPHB4', sanitized='EPHB4' -> FOUND (using sanitized): 'EPHB4.pt'\n",
      "  Processed ID 340/379: original='CSNK2A1', sanitized='CSNK2A1' -> FOUND (using sanitized): 'CSNK2A1.pt'\n",
      "  Processed ID 341/379: original='TGFBR1', sanitized='TGFBR1' -> FOUND (using sanitized): 'TGFBR1.pt'\n",
      "  Processed ID 342/379: original='TAOK3', sanitized='TAOK3' -> FOUND (using sanitized): 'TAOK3.pt'\n",
      "  Processed ID 343/379: original='HCK', sanitized='HCK' -> FOUND (using sanitized): 'HCK.pt'\n",
      "  Processed ID 344/379: original='EPHA5', sanitized='EPHA5' -> FOUND (using sanitized): 'EPHA5.pt'\n",
      "  Processed ID 345/379: original='NEK7', sanitized='NEK7' -> FOUND (using sanitized): 'NEK7.pt'\n",
      "  Processed ID 346/379: original='CAMK2A', sanitized='CAMK2A' -> FOUND (using sanitized): 'CAMK2A.pt'\n",
      "  Processed ID 347/379: original='TNK1', sanitized='TNK1' -> FOUND (using sanitized): 'TNK1.pt'\n",
      "  Processed ID 348/379: original='EPHB6', sanitized='EPHB6' -> FOUND (using sanitized): 'EPHB6.pt'\n",
      "  Processed ID 349/379: original='MST2', sanitized='MST2' -> FOUND (using sanitized): 'MST2.pt'\n",
      "  Processed ID 350/379: original='RSK4(KinDom.2-C-terminal)', sanitized='RSK4(KinDom.2-C-terminal)' -> FOUND (using sanitized): 'RSK4.pt'\n",
      "  Processed ID 351/379: original='PFPK5(Pfalciparum)', sanitized='PFPK5(Pfalciparum)' -> FOUND (using sanitized): 'PFPK5.pt'\n",
      "  Processed ID 352/379: original='GSK3A', sanitized='GSK3A' -> FOUND (using sanitized): 'GSK3A.pt'\n",
      "  Processed ID 353/379: original='GRK4', sanitized='GRK4' -> FOUND (using sanitized): 'GRK4.pt'\n",
      "  Processed ID 354/379: original='NEK6', sanitized='NEK6' -> FOUND (using sanitized): 'NEK6.pt'\n",
      "  Processed ID 355/379: original='IGF1R', sanitized='IGF1R' -> FOUND (using sanitized): 'IGF1R.pt'\n",
      "  Processed ID 356/379: original='ULK3', sanitized='ULK3' -> FOUND (using sanitized): 'ULK3.pt'\n",
      "  Processed ID 357/379: original='RSK2(KinDom.1-N-terminal)', sanitized='RSK2(KinDom.1-N-terminal)' -> FOUND (using sanitized): 'RSK2.pt'\n",
      "  Processed ID 358/379: original='FYN', sanitized='FYN' -> FOUND (using sanitized): 'FYN.pt'\n",
      "  Processed ID 359/379: original='CHEK1', sanitized='CHEK1' -> FOUND (using sanitized): 'CHEK1.pt'\n",
      "  Processed ID 360/379: original='MARK1', sanitized='MARK1' -> FOUND (using sanitized): 'MARK1.pt'\n",
      "  Processed ID 361/379: original='TESK1', sanitized='TESK1' -> FOUND (using sanitized): 'TESK1.pt'\n",
      "  Processed ID 362/379: original='CDK4-cyclinD3', sanitized='CDK4-cyclinD3' -> FOUND (using sanitized): 'CDK4-cyclinD3.pt'\n",
      "  Processed ID 363/379: original='NDR2', sanitized='NDR2' -> FOUND (using sanitized): 'NDR2.pt'\n",
      "  Processed ID 364/379: original='MAPKAPK5', sanitized='MAPKAPK5' -> FOUND (using sanitized): 'MAPKAPK5.pt'\n",
      "  Processed ID 365/379: original='LTK', sanitized='LTK' -> FOUND (using sanitized): 'LTK.pt'\n",
      "  Processed ID 366/379: original='TXK', sanitized='TXK' -> FOUND (using sanitized): 'TXK.pt'\n",
      "  Processed ID 367/379: original='MINK', sanitized='MINK' -> FOUND (using sanitized): 'MINK.pt'\n",
      "  Processed ID 368/379: original='PIK4CB', sanitized='PIK4CB' -> FOUND (using sanitized): 'PIK4CB.pt'\n",
      "  Processed ID 369/379: original='SRPK3', sanitized='SRPK3' -> FOUND (using sanitized): 'SRPK3.pt'\n",
      "  Processed ID 370/379: original='PKN1', sanitized='PKN1' -> FOUND (using sanitized): 'PKN1.pt'\n",
      "  Processed ID 371/379: original='RIPK1', sanitized='RIPK1' -> FOUND (using sanitized): 'RIPK1.pt'\n",
      "  Processed ID 372/379: original='MET(Y1235D)', sanitized='MET(Y1235D)' -> FOUND (using sanitized): 'MET.pt'\n",
      "  Processed ID 373/379: original='LOK', sanitized='LOK' -> FOUND (using sanitized): 'LOK.pt'\n",
      "  Processed ID 374/379: original='PIK3C2G', sanitized='PIK3C2G' -> FOUND (using sanitized): 'PIK3C2G.pt'\n",
      "  Processed ID 375/379: original='EGFR(T790M)', sanitized='EGFR(T790M)' -> FOUND (using sanitized): 'EGFR.pt'\n",
      "  Processed ID 376/379: original='ERBB4', sanitized='ERBB4' -> FOUND (using sanitized): 'ERBB4.pt'\n",
      "  Processed ID 377/379: original='MAP4K5', sanitized='MAP4K5' -> FOUND (using sanitized): 'MAP4K5.pt'\n",
      "  Processed ID 378/379: original='PIM3', sanitized='PIM3' -> FOUND (using sanitized): 'PIM3.pt'\n",
      "  Processed ID 379/379: original='CTK', sanitized='CTK' -> FOUND (using sanitized): 'CTK.pt'\n"
     ]
    },
    {
     "name": "stderr",
     "output_type": "stream",
     "text": [
      "Processing drugs: 100%|██████████| 68/68 [00:00<00:00, 656.43it/s]\n"
     ]
    },
    {
     "name": "stdout",
     "output_type": "stream",
     "text": [
      "INFO: Validating protein graph paths...\n",
      "INFO: Checking 379 unique Target_IDs from the DataFrame.\n",
      "  Processed ID 1/379: original='TNNI3K', sanitized='TNNI3K' -> FOUND (using sanitized): 'TNNI3K.pt'\n",
      "  Processed ID 2/379: original='TLK1', sanitized='TLK1' -> FOUND (using sanitized): 'TLK1.pt'\n",
      "  Processed ID 3/379: original='CASK', sanitized='CASK' -> FOUND (using sanitized): 'CASK.pt'\n",
      "  Processed ID 4/379: original='DAPK1', sanitized='DAPK1' -> FOUND (using sanitized): 'DAPK1.pt'\n",
      "  Processed ID 5/379: original='MAP3K15', sanitized='MAP3K15' -> FOUND (using sanitized): 'MAP3K15.pt'\n",
      "  Processed ID 6/379: original='TTK', sanitized='TTK' -> FOUND (using sanitized): 'TTK.pt'\n",
      "  Processed ID 7/379: original='PDPK1', sanitized='PDPK1' -> FOUND (using sanitized): 'PDPK1.pt'\n",
      "  Processed ID 8/379: original='PKN1', sanitized='PKN1' -> FOUND (using sanitized): 'PKN1.pt'\n",
      "  Processed ID 9/379: original='JNK1', sanitized='JNK1' -> FOUND (using sanitized): 'JNK1.pt'\n",
      "  Processed ID 10/379: original='CSNK1E', sanitized='CSNK1E' -> FOUND (using sanitized): 'CSNK1E.pt'\n",
      "  Processed ID 11/379: original='STK33', sanitized='STK33' -> FOUND (using sanitized): 'STK33.pt'\n",
      "  Processed ID 12/379: original='PHKG1', sanitized='PHKG1' -> FOUND (using sanitized): 'PHKG1.pt'\n",
      "  Processed ID 13/379: original='AKT1', sanitized='AKT1' -> FOUND (using sanitized): 'AKT1.pt'\n",
      "  Processed ID 14/379: original='p38-beta', sanitized='p38-beta' -> FOUND (using sanitized): 'p38-beta.pt'\n",
      "  Processed ID 15/379: original='CSNK1G3', sanitized='CSNK1G3' -> FOUND (using sanitized): 'CSNK1G3.pt'\n",
      "  Processed ID 16/379: original='MYO3B', sanitized='MYO3B' -> FOUND (using sanitized): 'MYO3B.pt'\n",
      "  Processed ID 17/379: original='PFTK1', sanitized='PFTK1' -> FOUND (using sanitized): 'PFTK1.pt'\n",
      "  Processed ID 18/379: original='ERK2', sanitized='ERK2' -> FOUND (using sanitized): 'ERK2.pt'\n",
      "  Processed ID 19/379: original='PRKD2', sanitized='PRKD2' -> FOUND (using sanitized): 'PRKD2.pt'\n",
      "  Processed ID 20/379: original='PKN2', sanitized='PKN2' -> FOUND (using sanitized): 'PKN2.pt'\n",
      "  Processed ID 21/379: original='DMPK', sanitized='DMPK' -> FOUND (using sanitized): 'DMPK.pt'\n",
      "  Processed ID 22/379: original='CAMK2A', sanitized='CAMK2A' -> FOUND (using sanitized): 'CAMK2A.pt'\n",
      "  Processed ID 23/379: original='DAPK2', sanitized='DAPK2' -> FOUND (using sanitized): 'DAPK2.pt'\n",
      "  Processed ID 24/379: original='GRK1', sanitized='GRK1' -> FOUND (using sanitized): 'GRK1.pt'\n",
      "  Processed ID 25/379: original='LATS1', sanitized='LATS1' -> FOUND (using sanitized): 'LATS1.pt'\n",
      "  Processed ID 26/379: original='TNK1', sanitized='TNK1' -> FOUND (using sanitized): 'TNK1.pt'\n",
      "  Processed ID 27/379: original='ROS1', sanitized='ROS1' -> FOUND (using sanitized): 'ROS1.pt'\n",
      "  Processed ID 28/379: original='RIOK3', sanitized='RIOK3' -> FOUND (using sanitized): 'RIOK3.pt'\n",
      "  Processed ID 29/379: original='p38-delta', sanitized='p38-delta' -> FOUND (using sanitized): 'p38-delta.pt'\n",
      "  Processed ID 30/379: original='PAK2', sanitized='PAK2' -> FOUND (using sanitized): 'PAK2.pt'\n",
      "  Processed ID 31/379: original='ABL2', sanitized='ABL2' -> FOUND (using sanitized): 'ABL2.pt'\n",
      "  Processed ID 32/379: original='DRAK2', sanitized='DRAK2' -> FOUND (using sanitized): 'DRAK2.pt'\n",
      "  Processed ID 33/379: original='PRKD3', sanitized='PRKD3' -> FOUND (using sanitized): 'PRKD3.pt'\n",
      "  Processed ID 34/379: original='YES', sanitized='YES' -> FOUND (using sanitized): 'YES.pt'\n",
      "  Processed ID 35/379: original='PRKCH', sanitized='PRKCH' -> FOUND (using sanitized): 'PRKCH.pt'\n",
      "  Processed ID 36/379: original='FGFR4', sanitized='FGFR4' -> FOUND (using sanitized): 'FGFR4.pt'\n",
      "  Processed ID 37/379: original='TGFBR2', sanitized='TGFBR2' -> FOUND (using sanitized): 'TGFBR2.pt'\n",
      "  Processed ID 38/379: original='ERBB4', sanitized='ERBB4' -> FOUND (using sanitized): 'ERBB4.pt'\n",
      "  Processed ID 39/379: original='PRKG2', sanitized='PRKG2' -> FOUND (using sanitized): 'PRKG2.pt'\n",
      "  Processed ID 40/379: original='PCTK1', sanitized='PCTK1' -> FOUND (using sanitized): 'PCTK1.pt'\n",
      "  Processed ID 41/379: original='ERK3', sanitized='ERK3' -> FOUND (using sanitized): 'ERK3.pt'\n",
      "  Processed ID 42/379: original='BMPR2', sanitized='BMPR2' -> FOUND (using sanitized): 'BMPR2.pt'\n",
      "  Processed ID 43/379: original='JNK3', sanitized='JNK3' -> FOUND (using sanitized): 'JNK3.pt'\n",
      "  Processed ID 44/379: original='CSNK1G2', sanitized='CSNK1G2' -> FOUND (using sanitized): 'CSNK1G2.pt'\n",
      "  Processed ID 45/379: original='KIT(V559D-V654A)', sanitized='KIT(V559D-V654A)' -> FOUND (using sanitized): 'KIT.pt'\n",
      "  Processed ID 46/379: original='DCAMKL2', sanitized='DCAMKL2' -> FOUND (using sanitized): 'DCAMKL2.pt'\n",
      "  Processed ID 47/379: original='FER', sanitized='FER' -> FOUND (using sanitized): 'FER.pt'\n",
      "  Processed ID 48/379: original='DYRK1A', sanitized='DYRK1A' -> FOUND (using sanitized): 'DYRK1A.pt'\n",
      "  Processed ID 49/379: original='GRK7', sanitized='GRK7' -> FOUND (using sanitized): 'GRK7.pt'\n",
      "  Processed ID 50/379: original='PIM1', sanitized='PIM1' -> FOUND (using sanitized): 'PIM1.pt'\n",
      "  Processed ID 51/379: original='AURKB', sanitized='AURKB' -> FOUND (using sanitized): 'AURKB.pt'\n",
      "  Processed ID 52/379: original='GSK3B', sanitized='GSK3B' -> FOUND (using sanitized): 'GSK3B.pt'\n",
      "  Processed ID 53/379: original='PRKR', sanitized='PRKR' -> FOUND (using sanitized): 'PRKR.pt'\n",
      "  Processed ID 54/379: original='TSSK1B', sanitized='TSSK1B' -> FOUND (using sanitized): 'TSSK1B.pt'\n",
      "  Processed ID 55/379: original='CDKL2', sanitized='CDKL2' -> FOUND (using sanitized): 'CDKL2.pt'\n",
      "  Processed ID 56/379: original='MTOR', sanitized='MTOR' -> FOUND (using sanitized): 'MTOR.pt'\n",
      "  Processed ID 57/379: original='NIM1', sanitized='NIM1' -> FOUND (using sanitized): 'NIM1.pt'\n",
      "  Processed ID 58/379: original='PLK4', sanitized='PLK4' -> FOUND (using sanitized): 'PLK4.pt'\n",
      "  Processed ID 59/379: original='GRK4', sanitized='GRK4' -> FOUND (using sanitized): 'GRK4.pt'\n",
      "  Processed ID 60/379: original='MEK2', sanitized='MEK2' -> FOUND (using sanitized): 'MEK2.pt'\n",
      "  Processed ID 61/379: original='EPHA8', sanitized='EPHA8' -> FOUND (using sanitized): 'EPHA8.pt'\n",
      "  Processed ID 62/379: original='HIPK1', sanitized='HIPK1' -> FOUND (using sanitized): 'HIPK1.pt'\n",
      "  Processed ID 63/379: original='PAK7', sanitized='PAK7' -> FOUND (using sanitized): 'PAK7.pt'\n",
      "  Processed ID 64/379: original='PLK2', sanitized='PLK2' -> FOUND (using sanitized): 'PLK2.pt'\n",
      "  Processed ID 65/379: original='ERBB3', sanitized='ERBB3' -> FOUND (using sanitized): 'ERBB3.pt'\n",
      "  Processed ID 66/379: original='SYK', sanitized='SYK' -> FOUND (using sanitized): 'SYK.pt'\n",
      "  Processed ID 67/379: original='PCTK3', sanitized='PCTK3' -> FOUND (using sanitized): 'PCTK3.pt'\n",
      "  Processed ID 68/379: original='TNK2', sanitized='TNK2' -> FOUND (using sanitized): 'TNK2.pt'\n",
      "  Processed ID 69/379: original='TEC', sanitized='TEC' -> FOUND (using sanitized): 'TEC.pt'\n",
      "  Processed ID 70/379: original='DYRK2', sanitized='DYRK2' -> FOUND (using sanitized): 'DYRK2.pt'\n",
      "  Processed ID 71/379: original='ANKK1', sanitized='ANKK1' -> FOUND (using sanitized): 'ANKK1.pt'\n",
      "  Processed ID 72/379: original='RSK3(KinDom.2-C-terminal)', sanitized='RSK3(KinDom.2-C-terminal)' -> FOUND (using sanitized): 'RSK3.pt'\n",
      "  Processed ID 73/379: original='ULK1', sanitized='ULK1' -> FOUND (using sanitized): 'ULK1.pt'\n",
      "  Processed ID 74/379: original='AXL', sanitized='AXL' -> FOUND (using sanitized): 'AXL.pt'\n",
      "  Processed ID 75/379: original='MKK7', sanitized='MKK7' -> FOUND (using sanitized): 'MKK7.pt'\n",
      "  Processed ID 76/379: original='TYK2(JH2domain-pseudokinase)', sanitized='TYK2(JH2domain-pseudokinase)' -> FOUND (using sanitized): 'TYK2.pt'\n",
      "  Processed ID 77/379: original='MAP4K4', sanitized='MAP4K4' -> FOUND (using sanitized): 'MAP4K4.pt'\n",
      "  Processed ID 78/379: original='CAMK1G', sanitized='CAMK1G' -> FOUND (using sanitized): 'CAMK1G.pt'\n",
      "  Processed ID 79/379: original='TRKC', sanitized='TRKC' -> FOUND (using sanitized): 'TRKC.pt'\n",
      "  Processed ID 80/379: original='EPHB1', sanitized='EPHB1' -> FOUND (using sanitized): 'EPHB1.pt'\n",
      "  Processed ID 81/379: original='VEGFR2', sanitized='VEGFR2' -> FOUND (using sanitized): 'VEGFR2.pt'\n",
      "  Processed ID 82/379: original='MAP4K3', sanitized='MAP4K3' -> FOUND (using sanitized): 'MAP4K3.pt'\n",
      "  Processed ID 83/379: original='ROCK1', sanitized='ROCK1' -> FOUND (using sanitized): 'ROCK1.pt'\n",
      "  Processed ID 84/379: original='STK35', sanitized='STK35' -> FOUND (using sanitized): 'STK35.pt'\n",
      "  Processed ID 85/379: original='MAP3K1', sanitized='MAP3K1' -> FOUND (using sanitized): 'MAP3K1.pt'\n",
      "  Processed ID 86/379: original='PHKG2', sanitized='PHKG2' -> FOUND (using sanitized): 'PHKG2.pt'\n",
      "  Processed ID 87/379: original='IRAK3', sanitized='IRAK3' -> FOUND (using sanitized): 'IRAK3.pt'\n",
      "  Processed ID 88/379: original='CDC2L1', sanitized='CDC2L1' -> FOUND (using sanitized): 'CDC2L1.pt'\n",
      "  Processed ID 89/379: original='RSK1(KinDom.2-C-terminal)', sanitized='RSK1(KinDom.2-C-terminal)' -> FOUND (using sanitized): 'RSK1.pt'\n",
      "  Processed ID 90/379: original='SRPK3', sanitized='SRPK3' -> FOUND (using sanitized): 'SRPK3.pt'\n",
      "  Processed ID 91/379: original='PIK3C2G', sanitized='PIK3C2G' -> FOUND (using sanitized): 'PIK3C2G.pt'\n",
      "  Processed ID 92/379: original='BMPR1B', sanitized='BMPR1B' -> FOUND (using sanitized): 'BMPR1B.pt'\n",
      "  Processed ID 93/379: original='ASK2', sanitized='ASK2' -> FOUND (using sanitized): 'ASK2.pt'\n",
      "  Processed ID 94/379: original='GAK', sanitized='GAK' -> FOUND (using sanitized): 'GAK.pt'\n",
      "  Processed ID 95/379: original='HCK', sanitized='HCK' -> FOUND (using sanitized): 'HCK.pt'\n",
      "  Processed ID 96/379: original='AMPK-alpha2', sanitized='AMPK-alpha2' -> FOUND (using sanitized): 'AMPK-alpha2.pt'\n",
      "  Processed ID 97/379: original='TRPM6', sanitized='TRPM6' -> FOUND (using sanitized): 'TRPM6.pt'\n",
      "  Processed ID 98/379: original='TNIK', sanitized='TNIK' -> FOUND (using sanitized): 'TNIK.pt'\n",
      "  Processed ID 99/379: original='BRSK1', sanitized='BRSK1' -> FOUND (using sanitized): 'BRSK1.pt'\n",
      "  Processed ID 100/379: original='CDK8', sanitized='CDK8' -> FOUND (using sanitized): 'CDK8.pt'\n",
      "  Processed ID 101/379: original='BTK', sanitized='BTK' -> FOUND (using sanitized): 'BTK.pt'\n",
      "  Processed ID 102/379: original='LIMK1', sanitized='LIMK1' -> FOUND (using sanitized): 'LIMK1.pt'\n",
      "  Processed ID 103/379: original='AURKA', sanitized='AURKA' -> FOUND (using sanitized): 'AURKA.pt'\n",
      "  Processed ID 104/379: original='CLK3', sanitized='CLK3' -> FOUND (using sanitized): 'CLK3.pt'\n",
      "  Processed ID 105/379: original='MLK3', sanitized='MLK3' -> FOUND (using sanitized): 'MLK3.pt'\n",
      "  Processed ID 106/379: original='PKAC-beta', sanitized='PKAC-beta' -> FOUND (using sanitized): 'PKAC-beta.pt'\n",
      "  Processed ID 107/379: original='DDR1', sanitized='DDR1' -> FOUND (using sanitized): 'DDR1.pt'\n",
      "  Processed ID 108/379: original='TAOK1', sanitized='TAOK1' -> FOUND (using sanitized): 'TAOK1.pt'\n",
      "  Processed ID 109/379: original='PRKCQ', sanitized='PRKCQ' -> FOUND (using sanitized): 'PRKCQ.pt'\n",
      "  Processed ID 110/379: original='SNRK', sanitized='SNRK' -> FOUND (using sanitized): 'SNRK.pt'\n",
      "  Processed ID 111/379: original='PIP5K1C', sanitized='PIP5K1C' -> FOUND (using sanitized): 'PIP5K1C.pt'\n",
      "  Processed ID 112/379: original='SRPK2', sanitized='SRPK2' -> FOUND (using sanitized): 'SRPK2.pt'\n",
      "  Processed ID 113/379: original='NDR1', sanitized='NDR1' -> FOUND (using sanitized): 'NDR1.pt'\n",
      "  Processed ID 114/379: original='EPHB6', sanitized='EPHB6' -> FOUND (using sanitized): 'EPHB6.pt'\n",
      "  Processed ID 115/379: original='BIKE', sanitized='BIKE' -> FOUND (using sanitized): 'BIKE.pt'\n",
      "  Processed ID 116/379: original='PRKX', sanitized='PRKX' -> FOUND (using sanitized): 'PRKX.pt'\n",
      "  Processed ID 117/379: original='HIPK4', sanitized='HIPK4' -> FOUND (using sanitized): 'HIPK4.pt'\n",
      "  Processed ID 118/379: original='MST2', sanitized='MST2' -> FOUND (using sanitized): 'MST2.pt'\n",
      "  Processed ID 119/379: original='MARK2', sanitized='MARK2' -> FOUND (using sanitized): 'MARK2.pt'\n",
      "  Processed ID 120/379: original='EPHA5', sanitized='EPHA5' -> FOUND (using sanitized): 'EPHA5.pt'\n",
      "  Processed ID 121/379: original='MAPKAPK5', sanitized='MAPKAPK5' -> FOUND (using sanitized): 'MAPKAPK5.pt'\n",
      "  Processed ID 122/379: original='ULK3', sanitized='ULK3' -> FOUND (using sanitized): 'ULK3.pt'\n",
      "  Processed ID 123/379: original='LOK', sanitized='LOK' -> FOUND (using sanitized): 'LOK.pt'\n",
      "  Processed ID 124/379: original='TXK', sanitized='TXK' -> FOUND (using sanitized): 'TXK.pt'\n",
      "  Processed ID 125/379: original='PIP5K2B', sanitized='PIP5K2B' -> FOUND (using sanitized): 'PIP5K2B.pt'\n",
      "  Processed ID 126/379: original='PIM3', sanitized='PIM3' -> FOUND (using sanitized): 'PIM3.pt'\n",
      "  Processed ID 127/379: original='PIK3CB', sanitized='PIK3CB' -> FOUND (using sanitized): 'PIK3CB.pt'\n",
      "  Processed ID 128/379: original='MUSK', sanitized='MUSK' -> FOUND (using sanitized): 'MUSK.pt'\n",
      "  Processed ID 129/379: original='QSK', sanitized='QSK' -> FOUND (using sanitized): 'QSK.pt'\n",
      "  Processed ID 130/379: original='TRKA', sanitized='TRKA' -> FOUND (using sanitized): 'TRKA.pt'\n",
      "  Processed ID 131/379: original='RIPK1', sanitized='RIPK1' -> FOUND (using sanitized): 'RIPK1.pt'\n",
      "  Processed ID 132/379: original='LZK', sanitized='LZK' -> FOUND (using sanitized): 'LZK.pt'\n",
      "  Processed ID 133/379: original='CSK', sanitized='CSK' -> FOUND (using sanitized): 'CSK.pt'\n",
      "  Processed ID 134/379: original='MEK3', sanitized='MEK3' -> FOUND (using sanitized): 'MEK3.pt'\n",
      "  Processed ID 135/379: original='CSNK1G1', sanitized='CSNK1G1' -> FOUND (using sanitized): 'CSNK1G1.pt'\n",
      "  Processed ID 136/379: original='NEK4', sanitized='NEK4' -> FOUND (using sanitized): 'NEK4.pt'\n",
      "  Processed ID 137/379: original='CDK3', sanitized='CDK3' -> FOUND (using sanitized): 'CDK3.pt'\n",
      "  Processed ID 138/379: original='MAP3K4', sanitized='MAP3K4' -> FOUND (using sanitized): 'MAP3K4.pt'\n",
      "  Processed ID 139/379: original='ACVR1', sanitized='ACVR1' -> FOUND (using sanitized): 'ACVR1.pt'\n",
      "  Processed ID 140/379: original='TAOK3', sanitized='TAOK3' -> FOUND (using sanitized): 'TAOK3.pt'\n",
      "  Processed ID 141/379: original='ACVR2A', sanitized='ACVR2A' -> FOUND (using sanitized): 'ACVR2A.pt'\n",
      "  Processed ID 142/379: original='NEK1', sanitized='NEK1' -> FOUND (using sanitized): 'NEK1.pt'\n",
      "  Processed ID 143/379: original='NEK9', sanitized='NEK9' -> FOUND (using sanitized): 'NEK9.pt'\n",
      "  Processed ID 144/379: original='SRMS', sanitized='SRMS' -> FOUND (using sanitized): 'SRMS.pt'\n",
      "  Processed ID 145/379: original='INSR', sanitized='INSR' -> FOUND (using sanitized): 'INSR.pt'\n",
      "  Processed ID 146/379: original='NEK5', sanitized='NEK5' -> FOUND (using sanitized): 'NEK5.pt'\n",
      "  Processed ID 147/379: original='BRSK2', sanitized='BRSK2' -> FOUND (using sanitized): 'BRSK2.pt'\n",
      "  Processed ID 148/379: original='FGFR3(G697C)', sanitized='FGFR3(G697C)' -> FOUND (using sanitized): 'FGFR3.pt'\n",
      "  Processed ID 149/379: original='MERTK', sanitized='MERTK' -> FOUND (using sanitized): 'MERTK.pt'\n",
      "  Processed ID 150/379: original='SGK3', sanitized='SGK3' -> FOUND (using sanitized): 'SGK3.pt'\n",
      "  Processed ID 151/379: original='TIE2', sanitized='TIE2' -> FOUND (using sanitized): 'TIE2.pt'\n",
      "  Processed ID 152/379: original='ITK', sanitized='ITK' -> FOUND (using sanitized): 'ITK.pt'\n",
      "  Processed ID 153/379: original='MET(Y1235D)', sanitized='MET(Y1235D)' -> FOUND (using sanitized): 'MET.pt'\n",
      "  Processed ID 154/379: original='MYLK2', sanitized='MYLK2' -> FOUND (using sanitized): 'MYLK2.pt'\n",
      "  Processed ID 155/379: original='TESK1', sanitized='TESK1' -> FOUND (using sanitized): 'TESK1.pt'\n",
      "  Processed ID 156/379: original='CDKL3', sanitized='CDKL3' -> FOUND (using sanitized): 'CDKL3.pt'\n",
      "  Processed ID 157/379: original='EGFR(T790M)', sanitized='EGFR(T790M)' -> FOUND (using sanitized): 'EGFR.pt'\n",
      "  Processed ID 158/379: original='AKT2', sanitized='AKT2' -> FOUND (using sanitized): 'AKT2.pt'\n",
      "  Processed ID 159/379: original='JNK2', sanitized='JNK2' -> FOUND (using sanitized): 'JNK2.pt'\n",
      "  Processed ID 160/379: original='MEK1', sanitized='MEK1' -> FOUND (using sanitized): 'MEK1.pt'\n",
      "  Processed ID 161/379: original='MAK', sanitized='MAK' -> FOUND (using sanitized): 'MAK.pt'\n",
      "  Processed ID 162/379: original='PIK3C2B', sanitized='PIK3C2B' -> FOUND (using sanitized): 'PIK3C2B.pt'\n",
      "  Processed ID 163/379: original='MEK4', sanitized='MEK4' -> FOUND (using sanitized): 'MEK4.pt'\n",
      "  Processed ID 164/379: original='FGFR1', sanitized='FGFR1' -> FOUND (using sanitized): 'FGFR1.pt'\n",
      "  Processed ID 165/379: original='RET(V804M)', sanitized='RET(V804M)' -> FOUND (using sanitized): 'RET.pt'\n",
      "  Processed ID 166/379: original='CDK4-cyclinD3', sanitized='CDK4-cyclinD3' -> FOUND (using sanitized): 'CDK4-cyclinD3.pt'\n",
      "  Processed ID 167/379: original='FGFR2', sanitized='FGFR2' -> FOUND (using sanitized): 'FGFR2.pt'\n",
      "  Processed ID 168/379: original='SBK1', sanitized='SBK1' -> FOUND (using sanitized): 'SBK1.pt'\n",
      "  Processed ID 169/379: original='MAPKAPK2', sanitized='MAPKAPK2' -> FOUND (using sanitized): 'MAPKAPK2.pt'\n",
      "  Processed ID 170/379: original='PFCDPK1(Pfalciparum)', sanitized='PFCDPK1(Pfalciparum)' -> FOUND (using sanitized): 'PFCDPK1.pt'\n",
      "  Processed ID 171/379: original='RPS6KA4(KinDom.2-C-terminal)', sanitized='RPS6KA4(KinDom.2-C-terminal)' -> FOUND (using sanitized): 'RPS6KA4.pt'\n",
      "  Processed ID 172/379: original='RIOK2', sanitized='RIOK2' -> FOUND (using sanitized): 'RIOK2.pt'\n",
      "  Processed ID 173/379: original='CSNK1A1L', sanitized='CSNK1A1L' -> FOUND (using sanitized): 'CSNK1A1L.pt'\n",
      "  Processed ID 174/379: original='EPHA3', sanitized='EPHA3' -> FOUND (using sanitized): 'EPHA3.pt'\n",
      "  Processed ID 175/379: original='BMX', sanitized='BMX' -> FOUND (using sanitized): 'BMX.pt'\n",
      "  Processed ID 176/379: original='FAK', sanitized='FAK' -> FOUND (using sanitized): 'FAK.pt'\n",
      "  Processed ID 177/379: original='ERK4', sanitized='ERK4' -> FOUND (using sanitized): 'ERK4.pt'\n",
      "  Processed ID 178/379: original='MRCKA', sanitized='MRCKA' -> FOUND (using sanitized): 'MRCKA.pt'\n",
      "  Processed ID 179/379: original='MAP4K5', sanitized='MAP4K5' -> FOUND (using sanitized): 'MAP4K5.pt'\n",
      "  Processed ID 180/379: original='AAK1', sanitized='AAK1' -> FOUND (using sanitized): 'AAK1.pt'\n",
      "  Processed ID 181/379: original='MRCKB', sanitized='MRCKB' -> FOUND (using sanitized): 'MRCKB.pt'\n",
      "  Processed ID 182/379: original='PAK3', sanitized='PAK3' -> FOUND (using sanitized): 'PAK3.pt'\n",
      "  Processed ID 183/379: original='CLK1', sanitized='CLK1' -> FOUND (using sanitized): 'CLK1.pt'\n",
      "  Processed ID 184/379: original='NEK6', sanitized='NEK6' -> FOUND (using sanitized): 'NEK6.pt'\n",
      "  Processed ID 185/379: original='WEE2', sanitized='WEE2' -> FOUND (using sanitized): 'WEE2.pt'\n",
      "  Processed ID 186/379: original='MST1', sanitized='MST1' -> FOUND (using sanitized): 'MST1.pt'\n",
      "  Processed ID 187/379: original='ERK8', sanitized='ERK8' -> FOUND (using sanitized): 'ERK8.pt'\n",
      "  Processed ID 188/379: original='MYLK4', sanitized='MYLK4' -> FOUND (using sanitized): 'MYLK4.pt'\n",
      "  Processed ID 189/379: original='SLK', sanitized='SLK' -> FOUND (using sanitized): 'SLK.pt'\n",
      "  Processed ID 190/379: original='RPS6KA5(KinDom.2-C-terminal)', sanitized='RPS6KA5(KinDom.2-C-terminal)' -> FOUND (using sanitized): 'RPS6KA5.pt'\n",
      "  Processed ID 191/379: original='CSNK2A1', sanitized='CSNK2A1' -> FOUND (using sanitized): 'CSNK2A1.pt'\n",
      "  Processed ID 192/379: original='GSK3A', sanitized='GSK3A' -> FOUND (using sanitized): 'GSK3A.pt'\n",
      "  Processed ID 193/379: original='YANK3', sanitized='YANK3' -> FOUND (using sanitized): 'YANK3.pt'\n",
      "  Processed ID 194/379: original='FES', sanitized='FES' -> FOUND (using sanitized): 'FES.pt'\n",
      "  Processed ID 195/379: original='CSNK2A2', sanitized='CSNK2A2' -> FOUND (using sanitized): 'CSNK2A2.pt'\n",
      "  Processed ID 196/379: original='CDKL5', sanitized='CDKL5' -> FOUND (using sanitized): 'CDKL5.pt'\n",
      "  Processed ID 197/379: original='ARK5', sanitized='ARK5' -> FOUND (using sanitized): 'ARK5.pt'\n",
      "  Processed ID 198/379: original='TLK2', sanitized='TLK2' -> FOUND (using sanitized): 'TLK2.pt'\n",
      "  Processed ID 199/379: original='PIK3CG', sanitized='PIK3CG' -> FOUND (using sanitized): 'PIK3CG.pt'\n",
      "  Processed ID 200/379: original='PRKCE', sanitized='PRKCE' -> FOUND (using sanitized): 'PRKCE.pt'\n",
      "  Processed ID 201/379: original='MYLK', sanitized='MYLK' -> FOUND (using sanitized): 'MYLK.pt'\n",
      "  Processed ID 202/379: original='STK16', sanitized='STK16' -> FOUND (using sanitized): 'STK16.pt'\n",
      "  Processed ID 203/379: original='ERK1', sanitized='ERK1' -> FOUND (using sanitized): 'ERK1.pt'\n",
      "  Processed ID 204/379: original='ROCK2', sanitized='ROCK2' -> FOUND (using sanitized): 'ROCK2.pt'\n",
      "  Processed ID 205/379: original='S6K1', sanitized='S6K1' -> FOUND (using sanitized): 'S6K1.pt'\n",
      "  Processed ID 206/379: original='ULK2', sanitized='ULK2' -> FOUND (using sanitized): 'ULK2.pt'\n",
      "  Processed ID 207/379: original='MKNK2', sanitized='MKNK2' -> FOUND (using sanitized): 'MKNK2.pt'\n",
      "  Processed ID 208/379: original='FRK', sanitized='FRK' -> FOUND (using sanitized): 'FRK.pt'\n",
      "  Processed ID 209/379: original='DAPK3', sanitized='DAPK3' -> FOUND (using sanitized): 'DAPK3.pt'\n",
      "  Processed ID 210/379: original='RSK2(KinDom.1-N-terminal)', sanitized='RSK2(KinDom.1-N-terminal)' -> FOUND (using sanitized): 'RSK2.pt'\n",
      "  Processed ID 211/379: original='IRAK1', sanitized='IRAK1' -> FOUND (using sanitized): 'IRAK1.pt'\n",
      "  Processed ID 212/379: original='PDGFRB', sanitized='PDGFRB' -> FOUND (using sanitized): 'PDGFRB.pt'\n",
      "  Processed ID 213/379: original='RIPK4', sanitized='RIPK4' -> FOUND (using sanitized): 'RIPK4.pt'\n",
      "  Processed ID 214/379: original='MST1R', sanitized='MST1R' -> FOUND (using sanitized): 'MST1R.pt'\n",
      "  Processed ID 215/379: original='LTK', sanitized='LTK' -> FOUND (using sanitized): 'LTK.pt'\n",
      "  Processed ID 216/379: original='EPHB4', sanitized='EPHB4' -> FOUND (using sanitized): 'EPHB4.pt'\n",
      "  Processed ID 217/379: original='EPHA4', sanitized='EPHA4' -> FOUND (using sanitized): 'EPHA4.pt'\n",
      "  Processed ID 218/379: original='PCTK2', sanitized='PCTK2' -> FOUND (using sanitized): 'PCTK2.pt'\n",
      "  Processed ID 219/379: original='HIPK3', sanitized='HIPK3' -> FOUND (using sanitized): 'HIPK3.pt'\n",
      "  Processed ID 220/379: original='LIMK2', sanitized='LIMK2' -> FOUND (using sanitized): 'LIMK2.pt'\n",
      "  Processed ID 221/379: original='CAMK1', sanitized='CAMK1' -> FOUND (using sanitized): 'CAMK1.pt'\n",
      "  Processed ID 222/379: original='PKAC-alpha', sanitized='PKAC-alpha' -> FOUND (using sanitized): 'PKAC-alpha.pt'\n",
      "  Processed ID 223/379: original='MST4', sanitized='MST4' -> FOUND (using sanitized): 'MST4.pt'\n",
      "  Processed ID 224/379: original='MARK1', sanitized='MARK1' -> FOUND (using sanitized): 'MARK1.pt'\n",
      "  Processed ID 225/379: original='MLCK', sanitized='MLCK' -> FOUND (using sanitized): 'MLCK.pt'\n",
      "  Processed ID 226/379: original='ASK1', sanitized='ASK1' -> FOUND (using sanitized): 'ASK1.pt'\n",
      "  Processed ID 227/379: original='OSR1', sanitized='OSR1' -> FOUND (using sanitized): 'OSR1.pt'\n",
      "  Processed ID 228/379: original='MAST1', sanitized='MAST1' -> FOUND (using sanitized): 'MAST1.pt'\n",
      "  Processed ID 229/379: original='CDC2L2', sanitized='CDC2L2' -> FOUND (using sanitized): 'CDC2L2.pt'\n",
      "  Processed ID 230/379: original='LRRK2(G2019S)', sanitized='LRRK2(G2019S)' -> FOUND (using sanitized): 'LRRK2.pt'\n",
      "  Processed ID 231/379: original='CLK4', sanitized='CLK4' -> FOUND (using sanitized): 'CLK4.pt'\n",
      "  Processed ID 232/379: original='MLK2', sanitized='MLK2' -> FOUND (using sanitized): 'MLK2.pt'\n",
      "  Processed ID 233/379: original='JAK2(JH1domain-catalytic)', sanitized='JAK2(JH1domain-catalytic)' -> FOUND (using sanitized): 'JAK2.pt'\n",
      "  Processed ID 234/379: original='GCN2(KinDom2S808G)', sanitized='GCN2(KinDom2S808G)' -> FOUND (using sanitized): 'GCN2.pt'\n",
      "  Processed ID 235/379: original='EPHA1', sanitized='EPHA1' -> FOUND (using sanitized): 'EPHA1.pt'\n",
      "  Processed ID 236/379: original='BRAF(V600E)', sanitized='BRAF(V600E)' -> FOUND (using sanitized): 'BRAF.pt'\n",
      "  Processed ID 237/379: original='MEK5', sanitized='MEK5' -> FOUND (using sanitized): 'MEK5.pt'\n",
      "  Processed ID 238/379: original='CDK9', sanitized='CDK9' -> FOUND (using sanitized): 'CDK9.pt'\n",
      "  Processed ID 239/379: original='CAMK2B', sanitized='CAMK2B' -> FOUND (using sanitized): 'CAMK2B.pt'\n",
      "  Processed ID 240/379: original='EIF2AK1', sanitized='EIF2AK1' -> FOUND (using sanitized): 'EIF2AK1.pt'\n",
      "  Processed ID 241/379: original='MELK', sanitized='MELK' -> FOUND (using sanitized): 'MELK.pt'\n",
      "  Processed ID 242/379: original='JAK1(JH2domain-pseudokinase)', sanitized='JAK1(JH2domain-pseudokinase)' -> FOUND (using sanitized): 'JAK1.pt'\n",
      "  Processed ID 243/379: original='RAF1', sanitized='RAF1' -> FOUND (using sanitized): 'RAF1.pt'\n",
      "  Processed ID 244/379: original='ERK5', sanitized='ERK5' -> FOUND (using sanitized): 'ERK5.pt'\n",
      "  Processed ID 245/379: original='PFTAIRE2', sanitized='PFTAIRE2' -> FOUND (using sanitized): 'PFTAIRE2.pt'\n",
      "  Processed ID 246/379: original='YANK1', sanitized='YANK1' -> FOUND (using sanitized): 'YANK1.pt'\n",
      "  Processed ID 247/379: original='RIPK5', sanitized='RIPK5' -> FOUND (using sanitized): 'RIPK5.pt'\n",
      "  Processed ID 248/379: original='FGR', sanitized='FGR' -> FOUND (using sanitized): 'FGR.pt'\n",
      "  Processed ID 249/379: original='RIOK1', sanitized='RIOK1' -> FOUND (using sanitized): 'RIOK1.pt'\n",
      "  Processed ID 250/379: original='ACVR2B', sanitized='ACVR2B' -> FOUND (using sanitized): 'ACVR2B.pt'\n",
      "  Processed ID 251/379: original='IKK-epsilon', sanitized='IKK-epsilon' -> FOUND (using sanitized): 'IKK-epsilon.pt'\n",
      "  Processed ID 252/379: original='MST3', sanitized='MST3' -> FOUND (using sanitized): 'MST3.pt'\n",
      "  Processed ID 253/379: original='MLK1', sanitized='MLK1' -> FOUND (using sanitized): 'MLK1.pt'\n",
      "  Processed ID 254/379: original='CDK11', sanitized='CDK11' -> FOUND (using sanitized): 'CDK11.pt'\n",
      "  Processed ID 255/379: original='PRKCD', sanitized='PRKCD' -> FOUND (using sanitized): 'PRKCD.pt'\n",
      "  Processed ID 256/379: original='FLT3(R834Q)', sanitized='FLT3(R834Q)' -> FOUND (using sanitized): 'FLT3.pt'\n",
      "  Processed ID 257/379: original='PYK2', sanitized='PYK2' -> FOUND (using sanitized): 'PYK2.pt'\n",
      "  Processed ID 258/379: original='ICK', sanitized='ICK' -> FOUND (using sanitized): 'ICK.pt'\n",
      "  Processed ID 259/379: original='STK36', sanitized='STK36' -> FOUND (using sanitized): 'STK36.pt'\n",
      "  Processed ID 260/379: original='WEE1', sanitized='WEE1' -> FOUND (using sanitized): 'WEE1.pt'\n",
      "  Processed ID 261/379: original='CAMK2D', sanitized='CAMK2D' -> FOUND (using sanitized): 'CAMK2D.pt'\n",
      "  Processed ID 262/379: original='TIE1', sanitized='TIE1' -> FOUND (using sanitized): 'TIE1.pt'\n",
      "  Processed ID 263/379: original='INSRR', sanitized='INSRR' -> FOUND (using sanitized): 'INSRR.pt'\n",
      "  Processed ID 264/379: original='PIP5K1A', sanitized='PIP5K1A' -> FOUND (using sanitized): 'PIP5K1A.pt'\n",
      "  Processed ID 265/379: original='ALK', sanitized='ALK' -> FOUND (using sanitized): 'ALK.pt'\n",
      "  Processed ID 266/379: original='YANK2', sanitized='YANK2' -> FOUND (using sanitized): 'YANK2.pt'\n",
      "  Processed ID 267/379: original='TYRO3', sanitized='TYRO3' -> FOUND (using sanitized): 'TYRO3.pt'\n",
      "  Processed ID 268/379: original='PIK3CA(Q546K)', sanitized='PIK3CA(Q546K)' -> FOUND (using sanitized): 'PIK3CA.pt'\n",
      "  Processed ID 269/379: original='TAK1', sanitized='TAK1' -> FOUND (using sanitized): 'TAK1.pt'\n",
      "  Processed ID 270/379: original='PRP4', sanitized='PRP4' -> FOUND (using sanitized): 'PRP4.pt'\n",
      "  Processed ID 271/379: original='SIK', sanitized='SIK' -> FOUND (using sanitized): 'SIK.pt'\n",
      "  Processed ID 272/379: original='DCAMKL3', sanitized='DCAMKL3' -> FOUND (using sanitized): 'DCAMKL3.pt'\n",
      "  Processed ID 273/379: original='RSK4(KinDom.2-C-terminal)', sanitized='RSK4(KinDom.2-C-terminal)' -> FOUND (using sanitized): 'RSK4.pt'\n",
      "  Processed ID 274/379: original='MAP3K2', sanitized='MAP3K2' -> FOUND (using sanitized): 'MAP3K2.pt'\n",
      "  Processed ID 275/379: original='VRK2', sanitized='VRK2' -> FOUND (using sanitized): 'VRK2.pt'\n",
      "  Processed ID 276/379: original='HPK1', sanitized='HPK1' -> FOUND (using sanitized): 'HPK1.pt'\n",
      "  Processed ID 277/379: original='NEK2', sanitized='NEK2' -> FOUND (using sanitized): 'NEK2.pt'\n",
      "  Processed ID 278/379: original='CDK5', sanitized='CDK5' -> FOUND (using sanitized): 'CDK5.pt'\n",
      "  Processed ID 279/379: original='YSK4', sanitized='YSK4' -> FOUND (using sanitized): 'YSK4.pt'\n",
      "  Processed ID 280/379: original='MINK', sanitized='MINK' -> FOUND (using sanitized): 'MINK.pt'\n",
      "  Processed ID 281/379: original='TAOK2', sanitized='TAOK2' -> FOUND (using sanitized): 'TAOK2.pt'\n",
      "  Processed ID 282/379: original='LKB1', sanitized='LKB1' -> FOUND (using sanitized): 'LKB1.pt'\n",
      "  Processed ID 283/379: original='CAMK1D', sanitized='CAMK1D' -> FOUND (using sanitized): 'CAMK1D.pt'\n",
      "  Processed ID 284/379: original='NEK7', sanitized='NEK7' -> FOUND (using sanitized): 'NEK7.pt'\n",
      "  Processed ID 285/379: original='DDR2', sanitized='DDR2' -> FOUND (using sanitized): 'DDR2.pt'\n",
      "  Processed ID 286/379: original='ERN1', sanitized='ERN1' -> FOUND (using sanitized): 'ERN1.pt'\n",
      "  Processed ID 287/379: original='ACVR1B', sanitized='ACVR1B' -> FOUND (using sanitized): 'ACVR1B.pt'\n",
      "  Processed ID 288/379: original='MARK3', sanitized='MARK3' -> FOUND (using sanitized): 'MARK3.pt'\n",
      "  Processed ID 289/379: original='BLK', sanitized='BLK' -> FOUND (using sanitized): 'BLK.pt'\n",
      "  Processed ID 290/379: original='NLK', sanitized='NLK' -> FOUND (using sanitized): 'NLK.pt'\n",
      "  Processed ID 291/379: original='ERBB2', sanitized='ERBB2' -> FOUND (using sanitized): 'ERBB2.pt'\n",
      "  Processed ID 292/379: original='FLT1', sanitized='FLT1' -> FOUND (using sanitized): 'FLT1.pt'\n",
      "  Processed ID 293/379: original='CIT', sanitized='CIT' -> FOUND (using sanitized): 'CIT.pt'\n",
      "  Processed ID 294/379: original='EPHA2', sanitized='EPHA2' -> FOUND (using sanitized): 'EPHA2.pt'\n",
      "  Processed ID 295/379: original='PAK4', sanitized='PAK4' -> FOUND (using sanitized): 'PAK4.pt'\n",
      "  Processed ID 296/379: original='CAMK4', sanitized='CAMK4' -> FOUND (using sanitized): 'CAMK4.pt'\n",
      "  Processed ID 297/379: original='CAMKK2', sanitized='CAMKK2' -> FOUND (using sanitized): 'CAMKK2.pt'\n",
      "  Processed ID 298/379: original='MARK4', sanitized='MARK4' -> FOUND (using sanitized): 'MARK4.pt'\n",
      "  Processed ID 299/379: original='ZAK', sanitized='ZAK' -> FOUND (using sanitized): 'ZAK.pt'\n",
      "  Processed ID 300/379: original='CDKL1', sanitized='CDKL1' -> FOUND (using sanitized): 'CDKL1.pt'\n",
      "  Processed ID 301/379: original='ZAP70', sanitized='ZAP70' -> FOUND (using sanitized): 'ZAP70.pt'\n",
      "  Processed ID 302/379: original='CSNK1A1', sanitized='CSNK1A1' -> FOUND (using sanitized): 'CSNK1A1.pt'\n",
      "  Processed ID 303/379: original='IKK-beta', sanitized='IKK-beta' -> FOUND (using sanitized): 'IKK-beta.pt'\n",
      "  Processed ID 304/379: original='PKMYT1', sanitized='PKMYT1' -> FOUND (using sanitized): 'PKMYT1.pt'\n",
      "  Processed ID 305/379: original='AMPK-alpha1', sanitized='AMPK-alpha1' -> FOUND (using sanitized): 'AMPK-alpha1.pt'\n",
      "  Processed ID 306/379: original='BRK', sanitized='BRK' -> FOUND (using sanitized): 'BRK.pt'\n",
      "  Processed ID 307/379: original='PAK6', sanitized='PAK6' -> FOUND (using sanitized): 'PAK6.pt'\n",
      "  Processed ID 308/379: original='DRAK1', sanitized='DRAK1' -> FOUND (using sanitized): 'DRAK1.pt'\n",
      "  Processed ID 309/379: original='FYN', sanitized='FYN' -> FOUND (using sanitized): 'FYN.pt'\n",
      "  Processed ID 310/379: original='TGFBR1', sanitized='TGFBR1' -> FOUND (using sanitized): 'TGFBR1.pt'\n",
      "  Processed ID 311/379: original='CLK2', sanitized='CLK2' -> FOUND (using sanitized): 'CLK2.pt'\n",
      "  Processed ID 312/379: original='NDR2', sanitized='NDR2' -> FOUND (using sanitized): 'NDR2.pt'\n",
      "  Processed ID 313/379: original='MYO3A', sanitized='MYO3A' -> FOUND (using sanitized): 'MYO3A.pt'\n",
      "  Processed ID 314/379: original='IRAK4', sanitized='IRAK4' -> FOUND (using sanitized): 'IRAK4.pt'\n",
      "  Processed ID 315/379: original='ADCK3', sanitized='ADCK3' -> FOUND (using sanitized): 'ADCK3.pt'\n",
      "  Processed ID 316/379: original='MAP3K3', sanitized='MAP3K3' -> FOUND (using sanitized): 'MAP3K3.pt'\n",
      "  Processed ID 317/379: original='PDGFRA', sanitized='PDGFRA' -> FOUND (using sanitized): 'PDGFRA.pt'\n",
      "  Processed ID 318/379: original='AKT3', sanitized='AKT3' -> FOUND (using sanitized): 'AKT3.pt'\n",
      "  Processed ID 319/379: original='CTK', sanitized='CTK' -> FOUND (using sanitized): 'CTK.pt'\n",
      "  Processed ID 320/379: original='STK39', sanitized='STK39' -> FOUND (using sanitized): 'STK39.pt'\n",
      "  Processed ID 321/379: original='MKNK1', sanitized='MKNK1' -> FOUND (using sanitized): 'MKNK1.pt'\n",
      "  Processed ID 322/379: original='PIK4CB', sanitized='PIK4CB' -> FOUND (using sanitized): 'PIK4CB.pt'\n",
      "  Processed ID 323/379: original='SNARK', sanitized='SNARK' -> FOUND (using sanitized): 'SNARK.pt'\n",
      "  Processed ID 324/379: original='BMPR1A', sanitized='BMPR1A' -> FOUND (using sanitized): 'BMPR1A.pt'\n",
      "  Processed ID 325/379: original='NEK3', sanitized='NEK3' -> FOUND (using sanitized): 'NEK3.pt'\n",
      "  Processed ID 326/379: original='p38-alpha', sanitized='p38-alpha' -> FOUND (using sanitized): 'p38-alpha.pt'\n",
      "  Processed ID 327/379: original='CSNK1D', sanitized='CSNK1D' -> FOUND (using sanitized): 'CSNK1D.pt'\n",
      "  Processed ID 328/379: original='FLT4', sanitized='FLT4' -> FOUND (using sanitized): 'FLT4.pt'\n",
      "  Processed ID 329/379: original='EPHA6', sanitized='EPHA6' -> FOUND (using sanitized): 'EPHA6.pt'\n",
      "  Processed ID 330/379: original='NEK11', sanitized='NEK11' -> FOUND (using sanitized): 'NEK11.pt'\n",
      "  Processed ID 331/379: original='PFPK5(Pfalciparum)', sanitized='PFPK5(Pfalciparum)' -> FOUND (using sanitized): 'PFPK5.pt'\n",
      "  Processed ID 332/379: original='CDK7', sanitized='CDK7' -> FOUND (using sanitized): 'CDK7.pt'\n",
      "  Processed ID 333/379: original='CAMK2G', sanitized='CAMK2G' -> FOUND (using sanitized): 'CAMK2G.pt'\n",
      "  Processed ID 334/379: original='EPHA7', sanitized='EPHA7' -> FOUND (using sanitized): 'EPHA7.pt'\n",
      "  Processed ID 335/379: original='CDC2L5', sanitized='CDC2L5' -> FOUND (using sanitized): 'CDC2L5.pt'\n",
      "  Processed ID 336/379: original='CDK2', sanitized='CDK2' -> FOUND (using sanitized): 'CDK2.pt'\n",
      "  Processed ID 337/379: original='TBK1', sanitized='TBK1' -> FOUND (using sanitized): 'TBK1.pt'\n",
      "  Processed ID 338/379: original='HIPK2', sanitized='HIPK2' -> FOUND (using sanitized): 'HIPK2.pt'\n",
      "  Processed ID 339/379: original='RIPK2', sanitized='RIPK2' -> FOUND (using sanitized): 'RIPK2.pt'\n",
      "  Processed ID 340/379: original='EPHB2', sanitized='EPHB2' -> FOUND (using sanitized): 'EPHB2.pt'\n",
      "  Processed ID 341/379: original='CSF1R', sanitized='CSF1R' -> FOUND (using sanitized): 'CSF1R.pt'\n",
      "  Processed ID 342/379: original='LCK', sanitized='LCK' -> FOUND (using sanitized): 'LCK.pt'\n",
      "  Processed ID 343/379: original='MAP4K2', sanitized='MAP4K2' -> FOUND (using sanitized): 'MAP4K2.pt'\n",
      "  Processed ID 344/379: original='AURKC', sanitized='AURKC' -> FOUND (using sanitized): 'AURKC.pt'\n",
      "  Processed ID 345/379: original='PAK1', sanitized='PAK1' -> FOUND (using sanitized): 'PAK1.pt'\n",
      "  Processed ID 346/379: original='HUNK', sanitized='HUNK' -> FOUND (using sanitized): 'HUNK.pt'\n",
      "  Processed ID 347/379: original='PRKG1', sanitized='PRKG1' -> FOUND (using sanitized): 'PRKG1.pt'\n",
      "  Processed ID 348/379: original='JAK3(JH1domain-catalytic)', sanitized='JAK3(JH1domain-catalytic)' -> FOUND (using sanitized): 'JAK3.pt'\n",
      "  Processed ID 349/379: original='DYRK1B', sanitized='DYRK1B' -> FOUND (using sanitized): 'DYRK1B.pt'\n",
      "  Processed ID 350/379: original='LATS2', sanitized='LATS2' -> FOUND (using sanitized): 'LATS2.pt'\n",
      "  Processed ID 351/379: original='CHEK1', sanitized='CHEK1' -> FOUND (using sanitized): 'CHEK1.pt'\n",
      "  Processed ID 352/379: original='SIK2', sanitized='SIK2' -> FOUND (using sanitized): 'SIK2.pt'\n",
      "  Processed ID 353/379: original='CAMKK1', sanitized='CAMKK1' -> FOUND (using sanitized): 'CAMKK1.pt'\n",
      "  Processed ID 354/379: original='SgK110', sanitized='SgK110' -> FOUND (using sanitized): 'SgK110.pt'\n",
      "  Processed ID 355/379: original='TRKB', sanitized='TRKB' -> FOUND (using sanitized): 'TRKB.pt'\n",
      "  Processed ID 356/379: original='PLK1', sanitized='PLK1' -> FOUND (using sanitized): 'PLK1.pt'\n",
      "  Processed ID 357/379: original='LYN', sanitized='LYN' -> FOUND (using sanitized): 'LYN.pt'\n",
      "  Processed ID 358/379: original='SRPK1', sanitized='SRPK1' -> FOUND (using sanitized): 'SRPK1.pt'\n",
      "  Processed ID 359/379: original='PLK3', sanitized='PLK3' -> FOUND (using sanitized): 'PLK3.pt'\n",
      "  Processed ID 360/379: original='PRKD1', sanitized='PRKD1' -> FOUND (using sanitized): 'PRKD1.pt'\n",
      "  Processed ID 361/379: original='EPHB3', sanitized='EPHB3' -> FOUND (using sanitized): 'EPHB3.pt'\n",
      "  Processed ID 362/379: original='SRC', sanitized='SRC' -> FOUND (using sanitized): 'SRC.pt'\n",
      "  Processed ID 363/379: original='DMPK2', sanitized='DMPK2' -> FOUND (using sanitized): 'DMPK2.pt'\n",
      "  Processed ID 364/379: original='CHEK2', sanitized='CHEK2' -> FOUND (using sanitized): 'CHEK2.pt'\n",
      "  Processed ID 365/379: original='PIM2', sanitized='PIM2' -> FOUND (using sanitized): 'PIM2.pt'\n",
      "  Processed ID 366/379: original='PIK3CD', sanitized='PIK3CD' -> FOUND (using sanitized): 'PIK3CD.pt'\n",
      "  Processed ID 367/379: original='ACVRL1', sanitized='ACVRL1' -> FOUND (using sanitized): 'ACVRL1.pt'\n",
      "  Processed ID 368/379: original='MEK6', sanitized='MEK6' -> FOUND (using sanitized): 'MEK6.pt'\n",
      "  Processed ID 369/379: original='DCAMKL1', sanitized='DCAMKL1' -> FOUND (using sanitized): 'DCAMKL1.pt'\n",
      "  Processed ID 370/379: original='IGF1R', sanitized='IGF1R' -> FOUND (using sanitized): 'IGF1R.pt'\n",
      "  Processed ID 371/379: original='IKK-alpha', sanitized='IKK-alpha' -> FOUND (using sanitized): 'IKK-alpha.pt'\n",
      "  Processed ID 372/379: original='ADCK4', sanitized='ADCK4' -> FOUND (using sanitized): 'ADCK4.pt'\n",
      "  Processed ID 373/379: original='PIP5K2C', sanitized='PIP5K2C' -> FOUND (using sanitized): 'PIP5K2C.pt'\n",
      "  Processed ID 374/379: original='ABL1p', sanitized='ABL1p' -> FOUND (using sanitized): 'ABL1p.pt'\n",
      "  Processed ID 375/379: original='YSK1', sanitized='YSK1' -> FOUND (using sanitized): 'YSK1.pt'\n",
      "  Processed ID 376/379: original='PKNB(Mtuberculosis)', sanitized='PKNB(Mtuberculosis)' -> FOUND (using sanitized): 'PKNB.pt'\n",
      "  Processed ID 377/379: original='PRKCI', sanitized='PRKCI' -> FOUND (using sanitized): 'PRKCI.pt'\n",
      "  Processed ID 378/379: original='p38-gamma', sanitized='p38-gamma' -> FOUND (using sanitized): 'p38-gamma.pt'\n",
      "  Processed ID 379/379: original='DLK', sanitized='DLK' -> FOUND (using sanitized): 'DLK.pt'\n"
     ]
    },
    {
     "name": "stderr",
     "output_type": "stream",
     "text": [
      "Processing drugs: 100%|██████████| 68/68 [00:00<00:00, 654.45it/s]\n"
     ]
    },
    {
     "name": "stdout",
     "output_type": "stream",
     "text": [
      "INFO: Validating protein graph paths...\n",
      "INFO: Checking 379 unique Target_IDs from the DataFrame.\n",
      "  Processed ID 1/379: original='ARK5', sanitized='ARK5' -> FOUND (using sanitized): 'ARK5.pt'\n",
      "  Processed ID 2/379: original='ERBB4', sanitized='ERBB4' -> FOUND (using sanitized): 'ERBB4.pt'\n",
      "  Processed ID 3/379: original='MYO3A', sanitized='MYO3A' -> FOUND (using sanitized): 'MYO3A.pt'\n",
      "  Processed ID 4/379: original='AXL', sanitized='AXL' -> FOUND (using sanitized): 'AXL.pt'\n",
      "  Processed ID 5/379: original='S6K1', sanitized='S6K1' -> FOUND (using sanitized): 'S6K1.pt'\n",
      "  Processed ID 6/379: original='LKB1', sanitized='LKB1' -> FOUND (using sanitized): 'LKB1.pt'\n",
      "  Processed ID 7/379: original='MET(Y1235D)', sanitized='MET(Y1235D)' -> FOUND (using sanitized): 'MET.pt'\n",
      "  Processed ID 8/379: original='RET(V804M)', sanitized='RET(V804M)' -> FOUND (using sanitized): 'RET.pt'\n",
      "  Processed ID 9/379: original='SRMS', sanitized='SRMS' -> FOUND (using sanitized): 'SRMS.pt'\n",
      "  Processed ID 10/379: original='p38-beta', sanitized='p38-beta' -> FOUND (using sanitized): 'p38-beta.pt'\n",
      "  Processed ID 11/379: original='EPHA7', sanitized='EPHA7' -> FOUND (using sanitized): 'EPHA7.pt'\n",
      "  Processed ID 12/379: original='NEK4', sanitized='NEK4' -> FOUND (using sanitized): 'NEK4.pt'\n",
      "  Processed ID 13/379: original='MAP3K3', sanitized='MAP3K3' -> FOUND (using sanitized): 'MAP3K3.pt'\n",
      "  Processed ID 14/379: original='TYRO3', sanitized='TYRO3' -> FOUND (using sanitized): 'TYRO3.pt'\n",
      "  Processed ID 15/379: original='SRPK2', sanitized='SRPK2' -> FOUND (using sanitized): 'SRPK2.pt'\n",
      "  Processed ID 16/379: original='MYO3B', sanitized='MYO3B' -> FOUND (using sanitized): 'MYO3B.pt'\n",
      "  Processed ID 17/379: original='BRSK2', sanitized='BRSK2' -> FOUND (using sanitized): 'BRSK2.pt'\n",
      "  Processed ID 18/379: original='VEGFR2', sanitized='VEGFR2' -> FOUND (using sanitized): 'VEGFR2.pt'\n",
      "  Processed ID 19/379: original='ABL2', sanitized='ABL2' -> FOUND (using sanitized): 'ABL2.pt'\n",
      "  Processed ID 20/379: original='JAK1(JH2domain-pseudokinase)', sanitized='JAK1(JH2domain-pseudokinase)' -> FOUND (using sanitized): 'JAK1.pt'\n",
      "  Processed ID 21/379: original='HPK1', sanitized='HPK1' -> FOUND (using sanitized): 'HPK1.pt'\n",
      "  Processed ID 22/379: original='AAK1', sanitized='AAK1' -> FOUND (using sanitized): 'AAK1.pt'\n",
      "  Processed ID 23/379: original='TRKA', sanitized='TRKA' -> FOUND (using sanitized): 'TRKA.pt'\n",
      "  Processed ID 24/379: original='CDK8', sanitized='CDK8' -> FOUND (using sanitized): 'CDK8.pt'\n",
      "  Processed ID 25/379: original='PLK2', sanitized='PLK2' -> FOUND (using sanitized): 'PLK2.pt'\n",
      "  Processed ID 26/379: original='MAK', sanitized='MAK' -> FOUND (using sanitized): 'MAK.pt'\n",
      "  Processed ID 27/379: original='PIP5K1A', sanitized='PIP5K1A' -> FOUND (using sanitized): 'PIP5K1A.pt'\n",
      "  Processed ID 28/379: original='PRKG2', sanitized='PRKG2' -> FOUND (using sanitized): 'PRKG2.pt'\n",
      "  Processed ID 29/379: original='SRPK3', sanitized='SRPK3' -> FOUND (using sanitized): 'SRPK3.pt'\n",
      "  Processed ID 30/379: original='FLT3(R834Q)', sanitized='FLT3(R834Q)' -> FOUND (using sanitized): 'FLT3.pt'\n",
      "  Processed ID 31/379: original='EPHB6', sanitized='EPHB6' -> FOUND (using sanitized): 'EPHB6.pt'\n",
      "  Processed ID 32/379: original='CSF1R', sanitized='CSF1R' -> FOUND (using sanitized): 'CSF1R.pt'\n",
      "  Processed ID 33/379: original='TNK2', sanitized='TNK2' -> FOUND (using sanitized): 'TNK2.pt'\n",
      "  Processed ID 34/379: original='MLCK', sanitized='MLCK' -> FOUND (using sanitized): 'MLCK.pt'\n",
      "  Processed ID 35/379: original='YANK2', sanitized='YANK2' -> FOUND (using sanitized): 'YANK2.pt'\n",
      "  Processed ID 36/379: original='PYK2', sanitized='PYK2' -> FOUND (using sanitized): 'PYK2.pt'\n",
      "  Processed ID 37/379: original='MEK5', sanitized='MEK5' -> FOUND (using sanitized): 'MEK5.pt'\n",
      "  Processed ID 38/379: original='DRAK1', sanitized='DRAK1' -> FOUND (using sanitized): 'DRAK1.pt'\n",
      "  Processed ID 39/379: original='TAOK3', sanitized='TAOK3' -> FOUND (using sanitized): 'TAOK3.pt'\n",
      "  Processed ID 40/379: original='TIE1', sanitized='TIE1' -> FOUND (using sanitized): 'TIE1.pt'\n",
      "  Processed ID 41/379: original='MKNK2', sanitized='MKNK2' -> FOUND (using sanitized): 'MKNK2.pt'\n",
      "  Processed ID 42/379: original='CAMK2B', sanitized='CAMK2B' -> FOUND (using sanitized): 'CAMK2B.pt'\n",
      "  Processed ID 43/379: original='MST3', sanitized='MST3' -> FOUND (using sanitized): 'MST3.pt'\n",
      "  Processed ID 44/379: original='DCAMKL1', sanitized='DCAMKL1' -> FOUND (using sanitized): 'DCAMKL1.pt'\n",
      "  Processed ID 45/379: original='JNK1', sanitized='JNK1' -> FOUND (using sanitized): 'JNK1.pt'\n",
      "  Processed ID 46/379: original='ABL1p', sanitized='ABL1p' -> FOUND (using sanitized): 'ABL1p.pt'\n",
      "  Processed ID 47/379: original='MAP4K3', sanitized='MAP4K3' -> FOUND (using sanitized): 'MAP4K3.pt'\n",
      "  Processed ID 48/379: original='IKK-epsilon', sanitized='IKK-epsilon' -> FOUND (using sanitized): 'IKK-epsilon.pt'\n",
      "  Processed ID 49/379: original='PKN2', sanitized='PKN2' -> FOUND (using sanitized): 'PKN2.pt'\n",
      "  Processed ID 50/379: original='TXK', sanitized='TXK' -> FOUND (using sanitized): 'TXK.pt'\n",
      "  Processed ID 51/379: original='NEK7', sanitized='NEK7' -> FOUND (using sanitized): 'NEK7.pt'\n",
      "  Processed ID 52/379: original='MLK2', sanitized='MLK2' -> FOUND (using sanitized): 'MLK2.pt'\n",
      "  Processed ID 53/379: original='PIK3CD', sanitized='PIK3CD' -> FOUND (using sanitized): 'PIK3CD.pt'\n",
      "  Processed ID 54/379: original='MELK', sanitized='MELK' -> FOUND (using sanitized): 'MELK.pt'\n",
      "  Processed ID 55/379: original='MYLK', sanitized='MYLK' -> FOUND (using sanitized): 'MYLK.pt'\n",
      "  Processed ID 56/379: original='PIK3CG', sanitized='PIK3CG' -> FOUND (using sanitized): 'PIK3CG.pt'\n",
      "  Processed ID 57/379: original='PIP5K1C', sanitized='PIP5K1C' -> FOUND (using sanitized): 'PIP5K1C.pt'\n",
      "  Processed ID 58/379: original='CSNK2A2', sanitized='CSNK2A2' -> FOUND (using sanitized): 'CSNK2A2.pt'\n",
      "  Processed ID 59/379: original='BMPR2', sanitized='BMPR2' -> FOUND (using sanitized): 'BMPR2.pt'\n",
      "  Processed ID 60/379: original='IRAK1', sanitized='IRAK1' -> FOUND (using sanitized): 'IRAK1.pt'\n",
      "  Processed ID 61/379: original='TTK', sanitized='TTK' -> FOUND (using sanitized): 'TTK.pt'\n",
      "  Processed ID 62/379: original='PIK3C2B', sanitized='PIK3C2B' -> FOUND (using sanitized): 'PIK3C2B.pt'\n",
      "  Processed ID 63/379: original='CHEK2', sanitized='CHEK2' -> FOUND (using sanitized): 'CHEK2.pt'\n",
      "  Processed ID 64/379: original='DDR1', sanitized='DDR1' -> FOUND (using sanitized): 'DDR1.pt'\n",
      "  Processed ID 65/379: original='MAP3K4', sanitized='MAP3K4' -> FOUND (using sanitized): 'MAP3K4.pt'\n",
      "  Processed ID 66/379: original='STK35', sanitized='STK35' -> FOUND (using sanitized): 'STK35.pt'\n",
      "  Processed ID 67/379: original='LRRK2(G2019S)', sanitized='LRRK2(G2019S)' -> FOUND (using sanitized): 'LRRK2.pt'\n",
      "  Processed ID 68/379: original='NEK1', sanitized='NEK1' -> FOUND (using sanitized): 'NEK1.pt'\n",
      "  Processed ID 69/379: original='DAPK2', sanitized='DAPK2' -> FOUND (using sanitized): 'DAPK2.pt'\n",
      "  Processed ID 70/379: original='CLK2', sanitized='CLK2' -> FOUND (using sanitized): 'CLK2.pt'\n",
      "  Processed ID 71/379: original='FLT4', sanitized='FLT4' -> FOUND (using sanitized): 'FLT4.pt'\n",
      "  Processed ID 72/379: original='RIOK1', sanitized='RIOK1' -> FOUND (using sanitized): 'RIOK1.pt'\n",
      "  Processed ID 73/379: original='PIK3CA(Q546K)', sanitized='PIK3CA(Q546K)' -> FOUND (using sanitized): 'PIK3CA.pt'\n",
      "  Processed ID 74/379: original='PLK1', sanitized='PLK1' -> FOUND (using sanitized): 'PLK1.pt'\n",
      "  Processed ID 75/379: original='ICK', sanitized='ICK' -> FOUND (using sanitized): 'ICK.pt'\n",
      "  Processed ID 76/379: original='MST1', sanitized='MST1' -> FOUND (using sanitized): 'MST1.pt'\n",
      "  Processed ID 77/379: original='BRSK1', sanitized='BRSK1' -> FOUND (using sanitized): 'BRSK1.pt'\n",
      "  Processed ID 78/379: original='MEK2', sanitized='MEK2' -> FOUND (using sanitized): 'MEK2.pt'\n",
      "  Processed ID 79/379: original='AKT3', sanitized='AKT3' -> FOUND (using sanitized): 'AKT3.pt'\n",
      "  Processed ID 80/379: original='ERK2', sanitized='ERK2' -> FOUND (using sanitized): 'ERK2.pt'\n",
      "  Processed ID 81/379: original='JNK3', sanitized='JNK3' -> FOUND (using sanitized): 'JNK3.pt'\n",
      "  Processed ID 82/379: original='INSR', sanitized='INSR' -> FOUND (using sanitized): 'INSR.pt'\n",
      "  Processed ID 83/379: original='MYLK2', sanitized='MYLK2' -> FOUND (using sanitized): 'MYLK2.pt'\n",
      "  Processed ID 84/379: original='CDKL3', sanitized='CDKL3' -> FOUND (using sanitized): 'CDKL3.pt'\n",
      "  Processed ID 85/379: original='PRKCD', sanitized='PRKCD' -> FOUND (using sanitized): 'PRKCD.pt'\n",
      "  Processed ID 86/379: original='MEK3', sanitized='MEK3' -> FOUND (using sanitized): 'MEK3.pt'\n",
      "  Processed ID 87/379: original='AURKB', sanitized='AURKB' -> FOUND (using sanitized): 'AURKB.pt'\n",
      "  Processed ID 88/379: original='OSR1', sanitized='OSR1' -> FOUND (using sanitized): 'OSR1.pt'\n",
      "  Processed ID 89/379: original='SBK1', sanitized='SBK1' -> FOUND (using sanitized): 'SBK1.pt'\n",
      "  Processed ID 90/379: original='YANK1', sanitized='YANK1' -> FOUND (using sanitized): 'YANK1.pt'\n",
      "  Processed ID 91/379: original='AURKC', sanitized='AURKC' -> FOUND (using sanitized): 'AURKC.pt'\n",
      "  Processed ID 92/379: original='ERK5', sanitized='ERK5' -> FOUND (using sanitized): 'ERK5.pt'\n",
      "  Processed ID 93/379: original='CDK4-cyclinD3', sanitized='CDK4-cyclinD3' -> FOUND (using sanitized): 'CDK4-cyclinD3.pt'\n",
      "  Processed ID 94/379: original='CSNK1A1L', sanitized='CSNK1A1L' -> FOUND (using sanitized): 'CSNK1A1L.pt'\n",
      "  Processed ID 95/379: original='TLK2', sanitized='TLK2' -> FOUND (using sanitized): 'TLK2.pt'\n",
      "  Processed ID 96/379: original='TGFBR1', sanitized='TGFBR1' -> FOUND (using sanitized): 'TGFBR1.pt'\n",
      "  Processed ID 97/379: original='MST4', sanitized='MST4' -> FOUND (using sanitized): 'MST4.pt'\n",
      "  Processed ID 98/379: original='MRCKB', sanitized='MRCKB' -> FOUND (using sanitized): 'MRCKB.pt'\n",
      "  Processed ID 99/379: original='ROCK1', sanitized='ROCK1' -> FOUND (using sanitized): 'ROCK1.pt'\n",
      "  Processed ID 100/379: original='JNK2', sanitized='JNK2' -> FOUND (using sanitized): 'JNK2.pt'\n",
      "  Processed ID 101/379: original='ZAP70', sanitized='ZAP70' -> FOUND (using sanitized): 'ZAP70.pt'\n",
      "  Processed ID 102/379: original='DCAMKL3', sanitized='DCAMKL3' -> FOUND (using sanitized): 'DCAMKL3.pt'\n",
      "  Processed ID 103/379: original='TNK1', sanitized='TNK1' -> FOUND (using sanitized): 'TNK1.pt'\n",
      "  Processed ID 104/379: original='CDK9', sanitized='CDK9' -> FOUND (using sanitized): 'CDK9.pt'\n",
      "  Processed ID 105/379: original='ITK', sanitized='ITK' -> FOUND (using sanitized): 'ITK.pt'\n",
      "  Processed ID 106/379: original='GSK3A', sanitized='GSK3A' -> FOUND (using sanitized): 'GSK3A.pt'\n",
      "  Processed ID 107/379: original='PCTK2', sanitized='PCTK2' -> FOUND (using sanitized): 'PCTK2.pt'\n",
      "  Processed ID 108/379: original='HUNK', sanitized='HUNK' -> FOUND (using sanitized): 'HUNK.pt'\n",
      "  Processed ID 109/379: original='GAK', sanitized='GAK' -> FOUND (using sanitized): 'GAK.pt'\n",
      "  Processed ID 110/379: original='CAMK2G', sanitized='CAMK2G' -> FOUND (using sanitized): 'CAMK2G.pt'\n",
      "  Processed ID 111/379: original='DYRK1B', sanitized='DYRK1B' -> FOUND (using sanitized): 'DYRK1B.pt'\n",
      "  Processed ID 112/379: original='CSNK1G1', sanitized='CSNK1G1' -> FOUND (using sanitized): 'CSNK1G1.pt'\n",
      "  Processed ID 113/379: original='ACVR2B', sanitized='ACVR2B' -> FOUND (using sanitized): 'ACVR2B.pt'\n",
      "  Processed ID 114/379: original='RIOK3', sanitized='RIOK3' -> FOUND (using sanitized): 'RIOK3.pt'\n",
      "  Processed ID 115/379: original='ERK8', sanitized='ERK8' -> FOUND (using sanitized): 'ERK8.pt'\n",
      "  Processed ID 116/379: original='ASK2', sanitized='ASK2' -> FOUND (using sanitized): 'ASK2.pt'\n",
      "  Processed ID 117/379: original='PRKCH', sanitized='PRKCH' -> FOUND (using sanitized): 'PRKCH.pt'\n",
      "  Processed ID 118/379: original='ACVR1B', sanitized='ACVR1B' -> FOUND (using sanitized): 'ACVR1B.pt'\n",
      "  Processed ID 119/379: original='TIE2', sanitized='TIE2' -> FOUND (using sanitized): 'TIE2.pt'\n",
      "  Processed ID 120/379: original='LOK', sanitized='LOK' -> FOUND (using sanitized): 'LOK.pt'\n",
      "  Processed ID 121/379: original='LCK', sanitized='LCK' -> FOUND (using sanitized): 'LCK.pt'\n",
      "  Processed ID 122/379: original='ERK3', sanitized='ERK3' -> FOUND (using sanitized): 'ERK3.pt'\n",
      "  Processed ID 123/379: original='MAPKAPK5', sanitized='MAPKAPK5' -> FOUND (using sanitized): 'MAPKAPK5.pt'\n",
      "  Processed ID 124/379: original='TAK1', sanitized='TAK1' -> FOUND (using sanitized): 'TAK1.pt'\n",
      "  Processed ID 125/379: original='TBK1', sanitized='TBK1' -> FOUND (using sanitized): 'TBK1.pt'\n",
      "  Processed ID 126/379: original='PIM1', sanitized='PIM1' -> FOUND (using sanitized): 'PIM1.pt'\n",
      "  Processed ID 127/379: original='BMPR1B', sanitized='BMPR1B' -> FOUND (using sanitized): 'BMPR1B.pt'\n",
      "  Processed ID 128/379: original='ADCK4', sanitized='ADCK4' -> FOUND (using sanitized): 'ADCK4.pt'\n",
      "  Processed ID 129/379: original='SNARK', sanitized='SNARK' -> FOUND (using sanitized): 'SNARK.pt'\n",
      "  Processed ID 130/379: original='EGFR(T790M)', sanitized='EGFR(T790M)' -> FOUND (using sanitized): 'EGFR.pt'\n",
      "  Processed ID 131/379: original='SGK3', sanitized='SGK3' -> FOUND (using sanitized): 'SGK3.pt'\n",
      "  Processed ID 132/379: original='AMPK-alpha1', sanitized='AMPK-alpha1' -> FOUND (using sanitized): 'AMPK-alpha1.pt'\n",
      "  Processed ID 133/379: original='ADCK3', sanitized='ADCK3' -> FOUND (using sanitized): 'ADCK3.pt'\n",
      "  Processed ID 134/379: original='GSK3B', sanitized='GSK3B' -> FOUND (using sanitized): 'GSK3B.pt'\n",
      "  Processed ID 135/379: original='TSSK1B', sanitized='TSSK1B' -> FOUND (using sanitized): 'TSSK1B.pt'\n",
      "  Processed ID 136/379: original='QSK', sanitized='QSK' -> FOUND (using sanitized): 'QSK.pt'\n",
      "  Processed ID 137/379: original='ULK1', sanitized='ULK1' -> FOUND (using sanitized): 'ULK1.pt'\n",
      "  Processed ID 138/379: original='DRAK2', sanitized='DRAK2' -> FOUND (using sanitized): 'DRAK2.pt'\n",
      "  Processed ID 139/379: original='MST2', sanitized='MST2' -> FOUND (using sanitized): 'MST2.pt'\n",
      "  Processed ID 140/379: original='PAK4', sanitized='PAK4' -> FOUND (using sanitized): 'PAK4.pt'\n",
      "  Processed ID 141/379: original='p38-delta', sanitized='p38-delta' -> FOUND (using sanitized): 'p38-delta.pt'\n",
      "  Processed ID 142/379: original='FAK', sanitized='FAK' -> FOUND (using sanitized): 'FAK.pt'\n",
      "  Processed ID 143/379: original='PHKG2', sanitized='PHKG2' -> FOUND (using sanitized): 'PHKG2.pt'\n",
      "  Processed ID 144/379: original='FGFR4', sanitized='FGFR4' -> FOUND (using sanitized): 'FGFR4.pt'\n",
      "  Processed ID 145/379: original='PDGFRA', sanitized='PDGFRA' -> FOUND (using sanitized): 'PDGFRA.pt'\n",
      "  Processed ID 146/379: original='CAMKK1', sanitized='CAMKK1' -> FOUND (using sanitized): 'CAMKK1.pt'\n",
      "  Processed ID 147/379: original='FRK', sanitized='FRK' -> FOUND (using sanitized): 'FRK.pt'\n",
      "  Processed ID 148/379: original='MYLK4', sanitized='MYLK4' -> FOUND (using sanitized): 'MYLK4.pt'\n",
      "  Processed ID 149/379: original='ERN1', sanitized='ERN1' -> FOUND (using sanitized): 'ERN1.pt'\n",
      "  Processed ID 150/379: original='CIT', sanitized='CIT' -> FOUND (using sanitized): 'CIT.pt'\n",
      "  Processed ID 151/379: original='CDC2L2', sanitized='CDC2L2' -> FOUND (using sanitized): 'CDC2L2.pt'\n",
      "  Processed ID 152/379: original='BLK', sanitized='BLK' -> FOUND (using sanitized): 'BLK.pt'\n",
      "  Processed ID 153/379: original='MTOR', sanitized='MTOR' -> FOUND (using sanitized): 'MTOR.pt'\n",
      "  Processed ID 154/379: original='CDKL2', sanitized='CDKL2' -> FOUND (using sanitized): 'CDKL2.pt'\n",
      "  Processed ID 155/379: original='YES', sanitized='YES' -> FOUND (using sanitized): 'YES.pt'\n",
      "  Processed ID 156/379: original='SIK', sanitized='SIK' -> FOUND (using sanitized): 'SIK.pt'\n",
      "  Processed ID 157/379: original='BRAF(V600E)', sanitized='BRAF(V600E)' -> FOUND (using sanitized): 'BRAF.pt'\n",
      "  Processed ID 158/379: original='SRC', sanitized='SRC' -> FOUND (using sanitized): 'SRC.pt'\n",
      "  Processed ID 159/379: original='DLK', sanitized='DLK' -> FOUND (using sanitized): 'DLK.pt'\n",
      "  Processed ID 160/379: original='SNRK', sanitized='SNRK' -> FOUND (using sanitized): 'SNRK.pt'\n",
      "  Processed ID 161/379: original='PRKR', sanitized='PRKR' -> FOUND (using sanitized): 'PRKR.pt'\n",
      "  Processed ID 162/379: original='FGFR3(G697C)', sanitized='FGFR3(G697C)' -> FOUND (using sanitized): 'FGFR3.pt'\n",
      "  Processed ID 163/379: original='PAK7', sanitized='PAK7' -> FOUND (using sanitized): 'PAK7.pt'\n",
      "  Processed ID 164/379: original='ALK', sanitized='ALK' -> FOUND (using sanitized): 'ALK.pt'\n",
      "  Processed ID 165/379: original='CDC2L5', sanitized='CDC2L5' -> FOUND (using sanitized): 'CDC2L5.pt'\n",
      "  Processed ID 166/379: original='EPHA4', sanitized='EPHA4' -> FOUND (using sanitized): 'EPHA4.pt'\n",
      "  Processed ID 167/379: original='STK39', sanitized='STK39' -> FOUND (using sanitized): 'STK39.pt'\n",
      "  Processed ID 168/379: original='STK33', sanitized='STK33' -> FOUND (using sanitized): 'STK33.pt'\n",
      "  Processed ID 169/379: original='MAP3K15', sanitized='MAP3K15' -> FOUND (using sanitized): 'MAP3K15.pt'\n",
      "  Processed ID 170/379: original='CAMK4', sanitized='CAMK4' -> FOUND (using sanitized): 'CAMK4.pt'\n",
      "  Processed ID 171/379: original='TNNI3K', sanitized='TNNI3K' -> FOUND (using sanitized): 'TNNI3K.pt'\n",
      "  Processed ID 172/379: original='FLT1', sanitized='FLT1' -> FOUND (using sanitized): 'FLT1.pt'\n",
      "  Processed ID 173/379: original='FGFR2', sanitized='FGFR2' -> FOUND (using sanitized): 'FGFR2.pt'\n",
      "  Processed ID 174/379: original='PLK4', sanitized='PLK4' -> FOUND (using sanitized): 'PLK4.pt'\n",
      "  Processed ID 175/379: original='IGF1R', sanitized='IGF1R' -> FOUND (using sanitized): 'IGF1R.pt'\n",
      "  Processed ID 176/379: original='AKT2', sanitized='AKT2' -> FOUND (using sanitized): 'AKT2.pt'\n",
      "  Processed ID 177/379: original='PAK6', sanitized='PAK6' -> FOUND (using sanitized): 'PAK6.pt'\n",
      "  Processed ID 178/379: original='NEK6', sanitized='NEK6' -> FOUND (using sanitized): 'NEK6.pt'\n",
      "  Processed ID 179/379: original='EPHB1', sanitized='EPHB1' -> FOUND (using sanitized): 'EPHB1.pt'\n",
      "  Processed ID 180/379: original='PRP4', sanitized='PRP4' -> FOUND (using sanitized): 'PRP4.pt'\n",
      "  Processed ID 181/379: original='PIK3C2G', sanitized='PIK3C2G' -> FOUND (using sanitized): 'PIK3C2G.pt'\n",
      "  Processed ID 182/379: original='EPHA3', sanitized='EPHA3' -> FOUND (using sanitized): 'EPHA3.pt'\n",
      "  Processed ID 183/379: original='PRKCQ', sanitized='PRKCQ' -> FOUND (using sanitized): 'PRKCQ.pt'\n",
      "  Processed ID 184/379: original='HIPK4', sanitized='HIPK4' -> FOUND (using sanitized): 'HIPK4.pt'\n",
      "  Processed ID 185/379: original='PRKD3', sanitized='PRKD3' -> FOUND (using sanitized): 'PRKD3.pt'\n",
      "  Processed ID 186/379: original='MAP3K1', sanitized='MAP3K1' -> FOUND (using sanitized): 'MAP3K1.pt'\n",
      "  Processed ID 187/379: original='PDGFRB', sanitized='PDGFRB' -> FOUND (using sanitized): 'PDGFRB.pt'\n",
      "  Processed ID 188/379: original='MAP4K5', sanitized='MAP4K5' -> FOUND (using sanitized): 'MAP4K5.pt'\n",
      "  Processed ID 189/379: original='PAK2', sanitized='PAK2' -> FOUND (using sanitized): 'PAK2.pt'\n",
      "  Processed ID 190/379: original='PAK3', sanitized='PAK3' -> FOUND (using sanitized): 'PAK3.pt'\n",
      "  Processed ID 191/379: original='NDR1', sanitized='NDR1' -> FOUND (using sanitized): 'NDR1.pt'\n",
      "  Processed ID 192/379: original='RIPK5', sanitized='RIPK5' -> FOUND (using sanitized): 'RIPK5.pt'\n",
      "  Processed ID 193/379: original='BMX', sanitized='BMX' -> FOUND (using sanitized): 'BMX.pt'\n",
      "  Processed ID 194/379: original='PDPK1', sanitized='PDPK1' -> FOUND (using sanitized): 'PDPK1.pt'\n",
      "  Processed ID 195/379: original='CDK11', sanitized='CDK11' -> FOUND (using sanitized): 'CDK11.pt'\n",
      "  Processed ID 196/379: original='NEK3', sanitized='NEK3' -> FOUND (using sanitized): 'NEK3.pt'\n",
      "  Processed ID 197/379: original='CDKL5', sanitized='CDKL5' -> FOUND (using sanitized): 'CDKL5.pt'\n",
      "  Processed ID 198/379: original='NEK5', sanitized='NEK5' -> FOUND (using sanitized): 'NEK5.pt'\n",
      "  Processed ID 199/379: original='CSNK2A1', sanitized='CSNK2A1' -> FOUND (using sanitized): 'CSNK2A1.pt'\n",
      "  Processed ID 200/379: original='TGFBR2', sanitized='TGFBR2' -> FOUND (using sanitized): 'TGFBR2.pt'\n",
      "  Processed ID 201/379: original='HIPK1', sanitized='HIPK1' -> FOUND (using sanitized): 'HIPK1.pt'\n",
      "  Processed ID 202/379: original='PRKD1', sanitized='PRKD1' -> FOUND (using sanitized): 'PRKD1.pt'\n",
      "  Processed ID 203/379: original='ACVRL1', sanitized='ACVRL1' -> FOUND (using sanitized): 'ACVRL1.pt'\n",
      "  Processed ID 204/379: original='TLK1', sanitized='TLK1' -> FOUND (using sanitized): 'TLK1.pt'\n",
      "  Processed ID 205/379: original='RPS6KA5(KinDom.2-C-terminal)', sanitized='RPS6KA5(KinDom.2-C-terminal)' -> FOUND (using sanitized): 'RPS6KA5.pt'\n",
      "  Processed ID 206/379: original='JAK3(JH1domain-catalytic)', sanitized='JAK3(JH1domain-catalytic)' -> FOUND (using sanitized): 'JAK3.pt'\n",
      "  Processed ID 207/379: original='INSRR', sanitized='INSRR' -> FOUND (using sanitized): 'INSRR.pt'\n",
      "  Processed ID 208/379: original='MLK1', sanitized='MLK1' -> FOUND (using sanitized): 'MLK1.pt'\n",
      "  Processed ID 209/379: original='AMPK-alpha2', sanitized='AMPK-alpha2' -> FOUND (using sanitized): 'AMPK-alpha2.pt'\n",
      "  Processed ID 210/379: original='CSNK1A1', sanitized='CSNK1A1' -> FOUND (using sanitized): 'CSNK1A1.pt'\n",
      "  Processed ID 211/379: original='CAMK1D', sanitized='CAMK1D' -> FOUND (using sanitized): 'CAMK1D.pt'\n",
      "  Processed ID 212/379: original='DAPK1', sanitized='DAPK1' -> FOUND (using sanitized): 'DAPK1.pt'\n",
      "  Processed ID 213/379: original='CASK', sanitized='CASK' -> FOUND (using sanitized): 'CASK.pt'\n",
      "  Processed ID 214/379: original='ZAK', sanitized='ZAK' -> FOUND (using sanitized): 'ZAK.pt'\n",
      "  Processed ID 215/379: original='PIK3CB', sanitized='PIK3CB' -> FOUND (using sanitized): 'PIK3CB.pt'\n",
      "  Processed ID 216/379: original='EPHB3', sanitized='EPHB3' -> FOUND (using sanitized): 'EPHB3.pt'\n",
      "  Processed ID 217/379: original='CAMK2D', sanitized='CAMK2D' -> FOUND (using sanitized): 'CAMK2D.pt'\n",
      "  Processed ID 218/379: original='ANKK1', sanitized='ANKK1' -> FOUND (using sanitized): 'ANKK1.pt'\n",
      "  Processed ID 219/379: original='TESK1', sanitized='TESK1' -> FOUND (using sanitized): 'TESK1.pt'\n",
      "  Processed ID 220/379: original='SYK', sanitized='SYK' -> FOUND (using sanitized): 'SYK.pt'\n",
      "  Processed ID 221/379: original='GRK1', sanitized='GRK1' -> FOUND (using sanitized): 'GRK1.pt'\n",
      "  Processed ID 222/379: original='EIF2AK1', sanitized='EIF2AK1' -> FOUND (using sanitized): 'EIF2AK1.pt'\n",
      "  Processed ID 223/379: original='PHKG1', sanitized='PHKG1' -> FOUND (using sanitized): 'PHKG1.pt'\n",
      "  Processed ID 224/379: original='ERBB3', sanitized='ERBB3' -> FOUND (using sanitized): 'ERBB3.pt'\n",
      "  Processed ID 225/379: original='PIM3', sanitized='PIM3' -> FOUND (using sanitized): 'PIM3.pt'\n",
      "  Processed ID 226/379: original='CDKL1', sanitized='CDKL1' -> FOUND (using sanitized): 'CDKL1.pt'\n",
      "  Processed ID 227/379: original='NDR2', sanitized='NDR2' -> FOUND (using sanitized): 'NDR2.pt'\n",
      "  Processed ID 228/379: original='IKK-alpha', sanitized='IKK-alpha' -> FOUND (using sanitized): 'IKK-alpha.pt'\n",
      "  Processed ID 229/379: original='PKMYT1', sanitized='PKMYT1' -> FOUND (using sanitized): 'PKMYT1.pt'\n",
      "  Processed ID 230/379: original='STK36', sanitized='STK36' -> FOUND (using sanitized): 'STK36.pt'\n",
      "  Processed ID 231/379: original='LIMK1', sanitized='LIMK1' -> FOUND (using sanitized): 'LIMK1.pt'\n",
      "  Processed ID 232/379: original='KIT(V559D-V654A)', sanitized='KIT(V559D-V654A)' -> FOUND (using sanitized): 'KIT.pt'\n",
      "  Processed ID 233/379: original='CHEK1', sanitized='CHEK1' -> FOUND (using sanitized): 'CHEK1.pt'\n",
      "  Processed ID 234/379: original='IRAK3', sanitized='IRAK3' -> FOUND (using sanitized): 'IRAK3.pt'\n",
      "  Processed ID 235/379: original='GCN2(KinDom2S808G)', sanitized='GCN2(KinDom2S808G)' -> FOUND (using sanitized): 'GCN2.pt'\n",
      "  Processed ID 236/379: original='BTK', sanitized='BTK' -> FOUND (using sanitized): 'BTK.pt'\n",
      "  Processed ID 237/379: original='TAOK1', sanitized='TAOK1' -> FOUND (using sanitized): 'TAOK1.pt'\n",
      "  Processed ID 238/379: original='IKK-beta', sanitized='IKK-beta' -> FOUND (using sanitized): 'IKK-beta.pt'\n",
      "  Processed ID 239/379: original='NIM1', sanitized='NIM1' -> FOUND (using sanitized): 'NIM1.pt'\n",
      "  Processed ID 240/379: original='ROS1', sanitized='ROS1' -> FOUND (using sanitized): 'ROS1.pt'\n",
      "  Processed ID 241/379: original='WEE1', sanitized='WEE1' -> FOUND (using sanitized): 'WEE1.pt'\n",
      "  Processed ID 242/379: original='FGFR1', sanitized='FGFR1' -> FOUND (using sanitized): 'FGFR1.pt'\n",
      "  Processed ID 243/379: original='FER', sanitized='FER' -> FOUND (using sanitized): 'FER.pt'\n",
      "  Processed ID 244/379: original='PIK4CB', sanitized='PIK4CB' -> FOUND (using sanitized): 'PIK4CB.pt'\n",
      "  Processed ID 245/379: original='EPHB2', sanitized='EPHB2' -> FOUND (using sanitized): 'EPHB2.pt'\n",
      "  Processed ID 246/379: original='RIPK2', sanitized='RIPK2' -> FOUND (using sanitized): 'RIPK2.pt'\n",
      "  Processed ID 247/379: original='RIPK1', sanitized='RIPK1' -> FOUND (using sanitized): 'RIPK1.pt'\n",
      "  Processed ID 248/379: original='CDK2', sanitized='CDK2' -> FOUND (using sanitized): 'CDK2.pt'\n",
      "  Processed ID 249/379: original='MAP4K2', sanitized='MAP4K2' -> FOUND (using sanitized): 'MAP4K2.pt'\n",
      "  Processed ID 250/379: original='TRKB', sanitized='TRKB' -> FOUND (using sanitized): 'TRKB.pt'\n",
      "  Processed ID 251/379: original='CDK3', sanitized='CDK3' -> FOUND (using sanitized): 'CDK3.pt'\n",
      "  Processed ID 252/379: original='TEC', sanitized='TEC' -> FOUND (using sanitized): 'TEC.pt'\n",
      "  Processed ID 253/379: original='FYN', sanitized='FYN' -> FOUND (using sanitized): 'FYN.pt'\n",
      "  Processed ID 254/379: original='MAST1', sanitized='MAST1' -> FOUND (using sanitized): 'MAST1.pt'\n",
      "  Processed ID 255/379: original='CDK5', sanitized='CDK5' -> FOUND (using sanitized): 'CDK5.pt'\n",
      "  Processed ID 256/379: original='RPS6KA4(KinDom.2-C-terminal)', sanitized='RPS6KA4(KinDom.2-C-terminal)' -> FOUND (using sanitized): 'RPS6KA4.pt'\n",
      "  Processed ID 257/379: original='LATS1', sanitized='LATS1' -> FOUND (using sanitized): 'LATS1.pt'\n",
      "  Processed ID 258/379: original='MAP3K2', sanitized='MAP3K2' -> FOUND (using sanitized): 'MAP3K2.pt'\n",
      "  Processed ID 259/379: original='PFPK5(Pfalciparum)', sanitized='PFPK5(Pfalciparum)' -> FOUND (using sanitized): 'PFPK5.pt'\n",
      "  Processed ID 260/379: original='CAMK1G', sanitized='CAMK1G' -> FOUND (using sanitized): 'CAMK1G.pt'\n",
      "  Processed ID 261/379: original='TAOK2', sanitized='TAOK2' -> FOUND (using sanitized): 'TAOK2.pt'\n",
      "  Processed ID 262/379: original='MUSK', sanitized='MUSK' -> FOUND (using sanitized): 'MUSK.pt'\n",
      "  Processed ID 263/379: original='PIM2', sanitized='PIM2' -> FOUND (using sanitized): 'PIM2.pt'\n",
      "  Processed ID 264/379: original='CTK', sanitized='CTK' -> FOUND (using sanitized): 'CTK.pt'\n",
      "  Processed ID 265/379: original='DYRK1A', sanitized='DYRK1A' -> FOUND (using sanitized): 'DYRK1A.pt'\n",
      "  Processed ID 266/379: original='IRAK4', sanitized='IRAK4' -> FOUND (using sanitized): 'IRAK4.pt'\n",
      "  Processed ID 267/379: original='FGR', sanitized='FGR' -> FOUND (using sanitized): 'FGR.pt'\n",
      "  Processed ID 268/379: original='WEE2', sanitized='WEE2' -> FOUND (using sanitized): 'WEE2.pt'\n",
      "  Processed ID 269/379: original='DYRK2', sanitized='DYRK2' -> FOUND (using sanitized): 'DYRK2.pt'\n",
      "  Processed ID 270/379: original='PLK3', sanitized='PLK3' -> FOUND (using sanitized): 'PLK3.pt'\n",
      "  Processed ID 271/379: original='EPHA8', sanitized='EPHA8' -> FOUND (using sanitized): 'EPHA8.pt'\n",
      "  Processed ID 272/379: original='LATS2', sanitized='LATS2' -> FOUND (using sanitized): 'LATS2.pt'\n",
      "  Processed ID 273/379: original='PCTK1', sanitized='PCTK1' -> FOUND (using sanitized): 'PCTK1.pt'\n",
      "  Processed ID 274/379: original='NEK9', sanitized='NEK9' -> FOUND (using sanitized): 'NEK9.pt'\n",
      "  Processed ID 275/379: original='MAPKAPK2', sanitized='MAPKAPK2' -> FOUND (using sanitized): 'MAPKAPK2.pt'\n",
      "  Processed ID 276/379: original='ROCK2', sanitized='ROCK2' -> FOUND (using sanitized): 'ROCK2.pt'\n",
      "  Processed ID 277/379: original='PIP5K2C', sanitized='PIP5K2C' -> FOUND (using sanitized): 'PIP5K2C.pt'\n",
      "  Processed ID 278/379: original='ACVR2A', sanitized='ACVR2A' -> FOUND (using sanitized): 'ACVR2A.pt'\n",
      "  Processed ID 279/379: original='PRKCE', sanitized='PRKCE' -> FOUND (using sanitized): 'PRKCE.pt'\n",
      "  Processed ID 280/379: original='CLK1', sanitized='CLK1' -> FOUND (using sanitized): 'CLK1.pt'\n",
      "  Processed ID 281/379: original='YANK3', sanitized='YANK3' -> FOUND (using sanitized): 'YANK3.pt'\n",
      "  Processed ID 282/379: original='RSK3(KinDom.2-C-terminal)', sanitized='RSK3(KinDom.2-C-terminal)' -> FOUND (using sanitized): 'RSK3.pt'\n",
      "  Processed ID 283/379: original='PFCDPK1(Pfalciparum)', sanitized='PFCDPK1(Pfalciparum)' -> FOUND (using sanitized): 'PFCDPK1.pt'\n",
      "  Processed ID 284/379: original='CAMK2A', sanitized='CAMK2A' -> FOUND (using sanitized): 'CAMK2A.pt'\n",
      "  Processed ID 285/379: original='MRCKA', sanitized='MRCKA' -> FOUND (using sanitized): 'MRCKA.pt'\n",
      "  Processed ID 286/379: original='YSK1', sanitized='YSK1' -> FOUND (using sanitized): 'YSK1.pt'\n",
      "  Processed ID 287/379: original='p38-alpha', sanitized='p38-alpha' -> FOUND (using sanitized): 'p38-alpha.pt'\n",
      "  Processed ID 288/379: original='CSNK1E', sanitized='CSNK1E' -> FOUND (using sanitized): 'CSNK1E.pt'\n",
      "  Processed ID 289/379: original='MST1R', sanitized='MST1R' -> FOUND (using sanitized): 'MST1R.pt'\n",
      "  Processed ID 290/379: original='MARK2', sanitized='MARK2' -> FOUND (using sanitized): 'MARK2.pt'\n",
      "  Processed ID 291/379: original='DMPK', sanitized='DMPK' -> FOUND (using sanitized): 'DMPK.pt'\n",
      "  Processed ID 292/379: original='CDK7', sanitized='CDK7' -> FOUND (using sanitized): 'CDK7.pt'\n",
      "  Processed ID 293/379: original='EPHA6', sanitized='EPHA6' -> FOUND (using sanitized): 'EPHA6.pt'\n",
      "  Processed ID 294/379: original='STK16', sanitized='STK16' -> FOUND (using sanitized): 'STK16.pt'\n",
      "  Processed ID 295/379: original='HCK', sanitized='HCK' -> FOUND (using sanitized): 'HCK.pt'\n",
      "  Processed ID 296/379: original='RIOK2', sanitized='RIOK2' -> FOUND (using sanitized): 'RIOK2.pt'\n",
      "  Processed ID 297/379: original='PRKCI', sanitized='PRKCI' -> FOUND (using sanitized): 'PRKCI.pt'\n",
      "  Processed ID 298/379: original='PRKX', sanitized='PRKX' -> FOUND (using sanitized): 'PRKX.pt'\n",
      "  Processed ID 299/379: original='PFTAIRE2', sanitized='PFTAIRE2' -> FOUND (using sanitized): 'PFTAIRE2.pt'\n",
      "  Processed ID 300/379: original='EPHA5', sanitized='EPHA5' -> FOUND (using sanitized): 'EPHA5.pt'\n",
      "  Processed ID 301/379: original='RSK1(KinDom.2-C-terminal)', sanitized='RSK1(KinDom.2-C-terminal)' -> FOUND (using sanitized): 'RSK1.pt'\n",
      "  Processed ID 302/379: original='EPHB4', sanitized='EPHB4' -> FOUND (using sanitized): 'EPHB4.pt'\n",
      "  Processed ID 303/379: original='CSNK1G2', sanitized='CSNK1G2' -> FOUND (using sanitized): 'CSNK1G2.pt'\n",
      "  Processed ID 304/379: original='CAMK1', sanitized='CAMK1' -> FOUND (using sanitized): 'CAMK1.pt'\n",
      "  Processed ID 305/379: original='CDC2L1', sanitized='CDC2L1' -> FOUND (using sanitized): 'CDC2L1.pt'\n",
      "  Processed ID 306/379: original='MLK3', sanitized='MLK3' -> FOUND (using sanitized): 'MLK3.pt'\n",
      "  Processed ID 307/379: original='CSK', sanitized='CSK' -> FOUND (using sanitized): 'CSK.pt'\n",
      "  Processed ID 308/379: original='PKNB(Mtuberculosis)', sanitized='PKNB(Mtuberculosis)' -> FOUND (using sanitized): 'PKNB.pt'\n",
      "  Processed ID 309/379: original='BRK', sanitized='BRK' -> FOUND (using sanitized): 'BRK.pt'\n",
      "  Processed ID 310/379: original='PCTK3', sanitized='PCTK3' -> FOUND (using sanitized): 'PCTK3.pt'\n",
      "  Processed ID 311/379: original='MEK1', sanitized='MEK1' -> FOUND (using sanitized): 'MEK1.pt'\n",
      "  Processed ID 312/379: original='TNIK', sanitized='TNIK' -> FOUND (using sanitized): 'TNIK.pt'\n",
      "  Processed ID 313/379: original='ERK1', sanitized='ERK1' -> FOUND (using sanitized): 'ERK1.pt'\n",
      "  Processed ID 314/379: original='JAK2(JH1domain-catalytic)', sanitized='JAK2(JH1domain-catalytic)' -> FOUND (using sanitized): 'JAK2.pt'\n",
      "  Processed ID 315/379: original='MEK6', sanitized='MEK6' -> FOUND (using sanitized): 'MEK6.pt'\n",
      "  Processed ID 316/379: original='AURKA', sanitized='AURKA' -> FOUND (using sanitized): 'AURKA.pt'\n",
      "  Processed ID 317/379: original='LZK', sanitized='LZK' -> FOUND (using sanitized): 'LZK.pt'\n",
      "  Processed ID 318/379: original='DDR2', sanitized='DDR2' -> FOUND (using sanitized): 'DDR2.pt'\n",
      "  Processed ID 319/379: original='AKT1', sanitized='AKT1' -> FOUND (using sanitized): 'AKT1.pt'\n",
      "  Processed ID 320/379: original='MINK', sanitized='MINK' -> FOUND (using sanitized): 'MINK.pt'\n",
      "  Processed ID 321/379: original='NLK', sanitized='NLK' -> FOUND (using sanitized): 'NLK.pt'\n",
      "  Processed ID 322/379: original='p38-gamma', sanitized='p38-gamma' -> FOUND (using sanitized): 'p38-gamma.pt'\n",
      "  Processed ID 323/379: original='DMPK2', sanitized='DMPK2' -> FOUND (using sanitized): 'DMPK2.pt'\n",
      "  Processed ID 324/379: original='RAF1', sanitized='RAF1' -> FOUND (using sanitized): 'RAF1.pt'\n",
      "  Processed ID 325/379: original='TRKC', sanitized='TRKC' -> FOUND (using sanitized): 'TRKC.pt'\n",
      "  Processed ID 326/379: original='ERK4', sanitized='ERK4' -> FOUND (using sanitized): 'ERK4.pt'\n",
      "  Processed ID 327/379: original='DCAMKL2', sanitized='DCAMKL2' -> FOUND (using sanitized): 'DCAMKL2.pt'\n",
      "  Processed ID 328/379: original='RSK2(KinDom.1-N-terminal)', sanitized='RSK2(KinDom.1-N-terminal)' -> FOUND (using sanitized): 'RSK2.pt'\n",
      "  Processed ID 329/379: original='MARK1', sanitized='MARK1' -> FOUND (using sanitized): 'MARK1.pt'\n",
      "  Processed ID 330/379: original='VRK2', sanitized='VRK2' -> FOUND (using sanitized): 'VRK2.pt'\n",
      "  Processed ID 331/379: original='SLK', sanitized='SLK' -> FOUND (using sanitized): 'SLK.pt'\n",
      "  Processed ID 332/379: original='HIPK2', sanitized='HIPK2' -> FOUND (using sanitized): 'HIPK2.pt'\n",
      "  Processed ID 333/379: original='MKK7', sanitized='MKK7' -> FOUND (using sanitized): 'MKK7.pt'\n",
      "  Processed ID 334/379: original='CLK4', sanitized='CLK4' -> FOUND (using sanitized): 'CLK4.pt'\n",
      "  Processed ID 335/379: original='ASK1', sanitized='ASK1' -> FOUND (using sanitized): 'ASK1.pt'\n",
      "  Processed ID 336/379: original='TRPM6', sanitized='TRPM6' -> FOUND (using sanitized): 'TRPM6.pt'\n",
      "  Processed ID 337/379: original='NEK11', sanitized='NEK11' -> FOUND (using sanitized): 'NEK11.pt'\n",
      "  Processed ID 338/379: original='CSNK1D', sanitized='CSNK1D' -> FOUND (using sanitized): 'CSNK1D.pt'\n",
      "  Processed ID 339/379: original='LIMK2', sanitized='LIMK2' -> FOUND (using sanitized): 'LIMK2.pt'\n",
      "  Processed ID 340/379: original='RIPK4', sanitized='RIPK4' -> FOUND (using sanitized): 'RIPK4.pt'\n",
      "  Processed ID 341/379: original='PRKD2', sanitized='PRKD2' -> FOUND (using sanitized): 'PRKD2.pt'\n",
      "  Processed ID 342/379: original='ERBB2', sanitized='ERBB2' -> FOUND (using sanitized): 'ERBB2.pt'\n",
      "  Processed ID 343/379: original='NEK2', sanitized='NEK2' -> FOUND (using sanitized): 'NEK2.pt'\n",
      "  Processed ID 344/379: original='CAMKK2', sanitized='CAMKK2' -> FOUND (using sanitized): 'CAMKK2.pt'\n",
      "  Processed ID 345/379: original='CLK3', sanitized='CLK3' -> FOUND (using sanitized): 'CLK3.pt'\n",
      "  Processed ID 346/379: original='DAPK3', sanitized='DAPK3' -> FOUND (using sanitized): 'DAPK3.pt'\n",
      "  Processed ID 347/379: original='LYN', sanitized='LYN' -> FOUND (using sanitized): 'LYN.pt'\n",
      "  Processed ID 348/379: original='PKAC-beta', sanitized='PKAC-beta' -> FOUND (using sanitized): 'PKAC-beta.pt'\n",
      "  Processed ID 349/379: original='PIP5K2B', sanitized='PIP5K2B' -> FOUND (using sanitized): 'PIP5K2B.pt'\n",
      "  Processed ID 350/379: original='BIKE', sanitized='BIKE' -> FOUND (using sanitized): 'BIKE.pt'\n",
      "  Processed ID 351/379: original='GRK7', sanitized='GRK7' -> FOUND (using sanitized): 'GRK7.pt'\n",
      "  Processed ID 352/379: original='EPHA2', sanitized='EPHA2' -> FOUND (using sanitized): 'EPHA2.pt'\n",
      "  Processed ID 353/379: original='MEK4', sanitized='MEK4' -> FOUND (using sanitized): 'MEK4.pt'\n",
      "  Processed ID 354/379: original='LTK', sanitized='LTK' -> FOUND (using sanitized): 'LTK.pt'\n",
      "  Processed ID 355/379: original='RSK4(KinDom.2-C-terminal)', sanitized='RSK4(KinDom.2-C-terminal)' -> FOUND (using sanitized): 'RSK4.pt'\n",
      "  Processed ID 356/379: original='MARK4', sanitized='MARK4' -> FOUND (using sanitized): 'MARK4.pt'\n",
      "  Processed ID 357/379: original='PKN1', sanitized='PKN1' -> FOUND (using sanitized): 'PKN1.pt'\n",
      "  Processed ID 358/379: original='ULK3', sanitized='ULK3' -> FOUND (using sanitized): 'ULK3.pt'\n",
      "  Processed ID 359/379: original='PAK1', sanitized='PAK1' -> FOUND (using sanitized): 'PAK1.pt'\n",
      "  Processed ID 360/379: original='BMPR1A', sanitized='BMPR1A' -> FOUND (using sanitized): 'BMPR1A.pt'\n",
      "  Processed ID 361/379: original='PRKG1', sanitized='PRKG1' -> FOUND (using sanitized): 'PRKG1.pt'\n",
      "  Processed ID 362/379: original='ULK2', sanitized='ULK2' -> FOUND (using sanitized): 'ULK2.pt'\n",
      "  Processed ID 363/379: original='SgK110', sanitized='SgK110' -> FOUND (using sanitized): 'SgK110.pt'\n",
      "  Processed ID 364/379: original='CSNK1G3', sanitized='CSNK1G3' -> FOUND (using sanitized): 'CSNK1G3.pt'\n",
      "  Processed ID 365/379: original='GRK4', sanitized='GRK4' -> FOUND (using sanitized): 'GRK4.pt'\n",
      "  Processed ID 366/379: original='PFTK1', sanitized='PFTK1' -> FOUND (using sanitized): 'PFTK1.pt'\n",
      "  Processed ID 367/379: original='MARK3', sanitized='MARK3' -> FOUND (using sanitized): 'MARK3.pt'\n",
      "  Processed ID 368/379: original='EPHA1', sanitized='EPHA1' -> FOUND (using sanitized): 'EPHA1.pt'\n",
      "  Processed ID 369/379: original='SRPK1', sanitized='SRPK1' -> FOUND (using sanitized): 'SRPK1.pt'\n",
      "  Processed ID 370/379: original='HIPK3', sanitized='HIPK3' -> FOUND (using sanitized): 'HIPK3.pt'\n",
      "  Processed ID 371/379: original='MAP4K4', sanitized='MAP4K4' -> FOUND (using sanitized): 'MAP4K4.pt'\n",
      "  Processed ID 372/379: original='SIK2', sanitized='SIK2' -> FOUND (using sanitized): 'SIK2.pt'\n",
      "  Processed ID 373/379: original='PKAC-alpha', sanitized='PKAC-alpha' -> FOUND (using sanitized): 'PKAC-alpha.pt'\n",
      "  Processed ID 374/379: original='MKNK1', sanitized='MKNK1' -> FOUND (using sanitized): 'MKNK1.pt'\n",
      "  Processed ID 375/379: original='FES', sanitized='FES' -> FOUND (using sanitized): 'FES.pt'\n",
      "  Processed ID 376/379: original='ACVR1', sanitized='ACVR1' -> FOUND (using sanitized): 'ACVR1.pt'\n",
      "  Processed ID 377/379: original='TYK2(JH2domain-pseudokinase)', sanitized='TYK2(JH2domain-pseudokinase)' -> FOUND (using sanitized): 'TYK2.pt'\n",
      "  Processed ID 378/379: original='MERTK', sanitized='MERTK' -> FOUND (using sanitized): 'MERTK.pt'\n",
      "  Processed ID 379/379: original='YSK4', sanitized='YSK4' -> FOUND (using sanitized): 'YSK4.pt'\n",
      "Removing existing log file: ../models/gat_cd4c_davis_graphs.pth.csv\n",
      "Logging training progress to: ../models/gat_cd4c_davis_graphs.pth.csv\n"
     ]
    },
    {
     "name": "stderr",
     "output_type": "stream",
     "text": [
      "Epoch 1/500 [Train]:   1%|          | 1/162 [00:09<26:01,  9.70s/it]"
     ]
    },
    {
     "name": "stdout",
     "output_type": "stream",
     "text": [
      "Runtime error in training batch: CUDA out of memory. Tried to allocate 20.00 MiB. GPU 0 has a total capacity of 7.66 GiB of which 67.56 MiB is free. Including non-PyTorch memory, this process has 3.74 GiB memory in use. Of the allocated memory 3.40 GiB is allocated by PyTorch, and 189.47 MiB is reserved by PyTorch but unallocated. If reserved but unallocated memory is large try setting PYTORCH_CUDA_ALLOC_CONF=expandable_segments:True to avoid fragmentation.  See documentation for Memory Management  (https://pytorch.org/docs/stable/notes/cuda.html#environment-variables). Skipping batch.\n"
     ]
    },
    {
     "name": "stderr",
     "output_type": "stream",
     "text": [
      "Epoch 1/500 [Train]:   1%|          | 2/162 [00:09<11:00,  4.13s/it]"
     ]
    },
    {
     "name": "stdout",
     "output_type": "stream",
     "text": [
      "Runtime error in training batch: CUDA out of memory. Tried to allocate 32.00 MiB. GPU 0 has a total capacity of 7.66 GiB of which 72.38 MiB is free. Including non-PyTorch memory, this process has 3.74 GiB memory in use. Of the allocated memory 3.37 GiB is allocated by PyTorch, and 217.53 MiB is reserved by PyTorch but unallocated. If reserved but unallocated memory is large try setting PYTORCH_CUDA_ALLOC_CONF=expandable_segments:True to avoid fragmentation.  See documentation for Memory Management  (https://pytorch.org/docs/stable/notes/cuda.html#environment-variables). Skipping batch.\n"
     ]
    },
    {
     "name": "stderr",
     "output_type": "stream",
     "text": [
      "Epoch 1/500 [Train]:   2%|▏         | 4/162 [00:10<04:02,  1.53s/it]"
     ]
    },
    {
     "name": "stdout",
     "output_type": "stream",
     "text": [
      "Runtime error in training batch: CUDA out of memory. Tried to allocate 2.00 MiB. GPU 0 has a total capacity of 7.66 GiB of which 48.12 MiB is free. Including non-PyTorch memory, this process has 3.85 GiB memory in use. Of the allocated memory 3.51 GiB is allocated by PyTorch, and 187.07 MiB is reserved by PyTorch but unallocated. If reserved but unallocated memory is large try setting PYTORCH_CUDA_ALLOC_CONF=expandable_segments:True to avoid fragmentation.  See documentation for Memory Management  (https://pytorch.org/docs/stable/notes/cuda.html#environment-variables). Skipping batch.\n",
      "Runtime error in training batch: CUDA out of memory. Tried to allocate 2.00 MiB. GPU 0 has a total capacity of 7.66 GiB of which 48.12 MiB is free. Including non-PyTorch memory, this process has 3.85 GiB memory in use. Of the allocated memory 3.49 GiB is allocated by PyTorch, and 208.34 MiB is reserved by PyTorch but unallocated. If reserved but unallocated memory is large try setting PYTORCH_CUDA_ALLOC_CONF=expandable_segments:True to avoid fragmentation.  See documentation for Memory Management  (https://pytorch.org/docs/stable/notes/cuda.html#environment-variables). Skipping batch.\n"
     ]
    },
    {
     "name": "stderr",
     "output_type": "stream",
     "text": [
      "Epoch 1/500 [Train]:   3%|▎         | 5/162 [00:10<02:50,  1.09s/it]"
     ]
    },
    {
     "name": "stdout",
     "output_type": "stream",
     "text": [
      "Runtime error in training batch: CUDA out of memory. Tried to allocate 2.00 MiB. GPU 0 has a total capacity of 7.66 GiB of which 48.12 MiB is free. Including non-PyTorch memory, this process has 3.85 GiB memory in use. Of the allocated memory 3.49 GiB is allocated by PyTorch, and 208.20 MiB is reserved by PyTorch but unallocated. If reserved but unallocated memory is large try setting PYTORCH_CUDA_ALLOC_CONF=expandable_segments:True to avoid fragmentation.  See documentation for Memory Management  (https://pytorch.org/docs/stable/notes/cuda.html#environment-variables). Skipping batch.\n"
     ]
    },
    {
     "name": "stderr",
     "output_type": "stream",
     "text": [
      "Epoch 1/500 [Train]:   4%|▎         | 6/162 [00:11<02:07,  1.22it/s]"
     ]
    },
    {
     "name": "stdout",
     "output_type": "stream",
     "text": [
      "Runtime error in training batch: CUDA out of memory. Tried to allocate 2.00 MiB. GPU 0 has a total capacity of 7.66 GiB of which 48.31 MiB is free. Including non-PyTorch memory, this process has 3.85 GiB memory in use. Of the allocated memory 3.49 GiB is allocated by PyTorch, and 208.20 MiB is reserved by PyTorch but unallocated. If reserved but unallocated memory is large try setting PYTORCH_CUDA_ALLOC_CONF=expandable_segments:True to avoid fragmentation.  See documentation for Memory Management  (https://pytorch.org/docs/stable/notes/cuda.html#environment-variables). Skipping batch.\n"
     ]
    },
    {
     "name": "stderr",
     "output_type": "stream",
     "text": [
      "Epoch 1/500 [Train]:   4%|▍         | 7/162 [00:11<01:40,  1.54it/s]"
     ]
    },
    {
     "name": "stdout",
     "output_type": "stream",
     "text": [
      "Runtime error in training batch: CUDA out of memory. Tried to allocate 2.00 MiB. GPU 0 has a total capacity of 7.66 GiB of which 48.31 MiB is free. Including non-PyTorch memory, this process has 3.85 GiB memory in use. Of the allocated memory 3.49 GiB is allocated by PyTorch, and 208.20 MiB is reserved by PyTorch but unallocated. If reserved but unallocated memory is large try setting PYTORCH_CUDA_ALLOC_CONF=expandable_segments:True to avoid fragmentation.  See documentation for Memory Management  (https://pytorch.org/docs/stable/notes/cuda.html#environment-variables). Skipping batch.\n"
     ]
    },
    {
     "name": "stderr",
     "output_type": "stream",
     "text": [
      "Epoch 1/500 [Train]:   5%|▍         | 8/162 [00:11<01:22,  1.86it/s]"
     ]
    },
    {
     "name": "stdout",
     "output_type": "stream",
     "text": [
      "Runtime error in training batch: CUDA out of memory. Tried to allocate 2.00 MiB. GPU 0 has a total capacity of 7.66 GiB of which 48.31 MiB is free. Including non-PyTorch memory, this process has 3.85 GiB memory in use. Of the allocated memory 3.49 GiB is allocated by PyTorch, and 209.64 MiB is reserved by PyTorch but unallocated. If reserved but unallocated memory is large try setting PYTORCH_CUDA_ALLOC_CONF=expandable_segments:True to avoid fragmentation.  See documentation for Memory Management  (https://pytorch.org/docs/stable/notes/cuda.html#environment-variables). Skipping batch.\n"
     ]
    },
    {
     "name": "stderr",
     "output_type": "stream",
     "text": [
      "Epoch 1/500 [Train]:   6%|▌         | 9/162 [00:11<01:10,  2.16it/s]"
     ]
    },
    {
     "name": "stdout",
     "output_type": "stream",
     "text": [
      "Runtime error in training batch: CUDA out of memory. Tried to allocate 2.00 MiB. GPU 0 has a total capacity of 7.66 GiB of which 48.31 MiB is free. Including non-PyTorch memory, this process has 3.85 GiB memory in use. Of the allocated memory 3.49 GiB is allocated by PyTorch, and 210.02 MiB is reserved by PyTorch but unallocated. If reserved but unallocated memory is large try setting PYTORCH_CUDA_ALLOC_CONF=expandable_segments:True to avoid fragmentation.  See documentation for Memory Management  (https://pytorch.org/docs/stable/notes/cuda.html#environment-variables). Skipping batch.\n"
     ]
    },
    {
     "name": "stderr",
     "output_type": "stream",
     "text": [
      "Epoch 1/500 [Train]:   6%|▌         | 10/162 [00:12<01:02,  2.43it/s]"
     ]
    },
    {
     "name": "stdout",
     "output_type": "stream",
     "text": [
      "Runtime error in training batch: CUDA out of memory. Tried to allocate 2.00 MiB. GPU 0 has a total capacity of 7.66 GiB of which 48.44 MiB is free. Including non-PyTorch memory, this process has 3.85 GiB memory in use. Of the allocated memory 3.49 GiB is allocated by PyTorch, and 209.63 MiB is reserved by PyTorch but unallocated. If reserved but unallocated memory is large try setting PYTORCH_CUDA_ALLOC_CONF=expandable_segments:True to avoid fragmentation.  See documentation for Memory Management  (https://pytorch.org/docs/stable/notes/cuda.html#environment-variables). Skipping batch.\n"
     ]
    },
    {
     "name": "stderr",
     "output_type": "stream",
     "text": [
      "Epoch 1/500 [Train]:   7%|▋         | 11/162 [00:12<00:56,  2.66it/s]"
     ]
    },
    {
     "name": "stdout",
     "output_type": "stream",
     "text": [
      "Runtime error in training batch: CUDA out of memory. Tried to allocate 2.00 MiB. GPU 0 has a total capacity of 7.66 GiB of which 48.44 MiB is free. Including non-PyTorch memory, this process has 3.85 GiB memory in use. Of the allocated memory 3.49 GiB is allocated by PyTorch, and 209.64 MiB is reserved by PyTorch but unallocated. If reserved but unallocated memory is large try setting PYTORCH_CUDA_ALLOC_CONF=expandable_segments:True to avoid fragmentation.  See documentation for Memory Management  (https://pytorch.org/docs/stable/notes/cuda.html#environment-variables). Skipping batch.\n"
     ]
    },
    {
     "name": "stderr",
     "output_type": "stream",
     "text": [
      "Epoch 1/500 [Train]:   7%|▋         | 12/162 [00:13<01:00,  2.49it/s]"
     ]
    },
    {
     "name": "stdout",
     "output_type": "stream",
     "text": [
      "Runtime error in training batch: CUDA out of memory. Tried to allocate 20.00 MiB. GPU 0 has a total capacity of 7.66 GiB of which 50.56 MiB is free. Including non-PyTorch memory, this process has 3.85 GiB memory in use. Of the allocated memory 3.51 GiB is allocated by PyTorch, and 183.76 MiB is reserved by PyTorch but unallocated. If reserved but unallocated memory is large try setting PYTORCH_CUDA_ALLOC_CONF=expandable_segments:True to avoid fragmentation.  See documentation for Memory Management  (https://pytorch.org/docs/stable/notes/cuda.html#environment-variables). Skipping batch.\n"
     ]
    },
    {
     "name": "stderr",
     "output_type": "stream",
     "text": [
      "Epoch 1/500 [Train]:   8%|▊         | 13/162 [00:13<00:55,  2.68it/s]"
     ]
    },
    {
     "name": "stdout",
     "output_type": "stream",
     "text": [
      "Runtime error in training batch: CUDA out of memory. Tried to allocate 20.00 MiB. GPU 0 has a total capacity of 7.66 GiB of which 50.81 MiB is free. Including non-PyTorch memory, this process has 3.85 GiB memory in use. Of the allocated memory 3.51 GiB is allocated by PyTorch, and 184.47 MiB is reserved by PyTorch but unallocated. If reserved but unallocated memory is large try setting PYTORCH_CUDA_ALLOC_CONF=expandable_segments:True to avoid fragmentation.  See documentation for Memory Management  (https://pytorch.org/docs/stable/notes/cuda.html#environment-variables). Skipping batch.\n"
     ]
    },
    {
     "name": "stderr",
     "output_type": "stream",
     "text": [
      "Epoch 1/500 [Train]:   9%|▊         | 14/162 [00:13<00:52,  2.84it/s]"
     ]
    },
    {
     "name": "stdout",
     "output_type": "stream",
     "text": [
      "Runtime error in training batch: CUDA out of memory. Tried to allocate 20.00 MiB. GPU 0 has a total capacity of 7.66 GiB of which 52.81 MiB is free. Including non-PyTorch memory, this process has 3.85 GiB memory in use. Of the allocated memory 3.51 GiB is allocated by PyTorch, and 184.08 MiB is reserved by PyTorch but unallocated. If reserved but unallocated memory is large try setting PYTORCH_CUDA_ALLOC_CONF=expandable_segments:True to avoid fragmentation.  See documentation for Memory Management  (https://pytorch.org/docs/stable/notes/cuda.html#environment-variables). Skipping batch.\n"
     ]
    },
    {
     "name": "stderr",
     "output_type": "stream",
     "text": [
      "Epoch 1/500 [Train]:   9%|▉         | 15/162 [00:13<00:49,  2.96it/s]"
     ]
    },
    {
     "name": "stdout",
     "output_type": "stream",
     "text": [
      "Runtime error in training batch: CUDA out of memory. Tried to allocate 20.00 MiB. GPU 0 has a total capacity of 7.66 GiB of which 52.81 MiB is free. Including non-PyTorch memory, this process has 3.85 GiB memory in use. Of the allocated memory 3.51 GiB is allocated by PyTorch, and 184.15 MiB is reserved by PyTorch but unallocated. If reserved but unallocated memory is large try setting PYTORCH_CUDA_ALLOC_CONF=expandable_segments:True to avoid fragmentation.  See documentation for Memory Management  (https://pytorch.org/docs/stable/notes/cuda.html#environment-variables). Skipping batch.\n"
     ]
    },
    {
     "name": "stderr",
     "output_type": "stream",
     "text": [
      "Epoch 1/500 [Train]:  10%|▉         | 16/162 [00:14<00:47,  3.05it/s]"
     ]
    },
    {
     "name": "stdout",
     "output_type": "stream",
     "text": [
      "Runtime error in training batch: CUDA out of memory. Tried to allocate 20.00 MiB. GPU 0 has a total capacity of 7.66 GiB of which 52.81 MiB is free. Including non-PyTorch memory, this process has 3.85 GiB memory in use. Of the allocated memory 3.51 GiB is allocated by PyTorch, and 183.91 MiB is reserved by PyTorch but unallocated. If reserved but unallocated memory is large try setting PYTORCH_CUDA_ALLOC_CONF=expandable_segments:True to avoid fragmentation.  See documentation for Memory Management  (https://pytorch.org/docs/stable/notes/cuda.html#environment-variables). Skipping batch.\n"
     ]
    },
    {
     "name": "stderr",
     "output_type": "stream",
     "text": [
      "Epoch 1/500 [Train]:  10%|█         | 17/162 [00:14<00:46,  3.12it/s]"
     ]
    },
    {
     "name": "stdout",
     "output_type": "stream",
     "text": [
      "Runtime error in training batch: CUDA out of memory. Tried to allocate 20.00 MiB. GPU 0 has a total capacity of 7.66 GiB of which 52.81 MiB is free. Including non-PyTorch memory, this process has 3.85 GiB memory in use. Of the allocated memory 3.51 GiB is allocated by PyTorch, and 182.89 MiB is reserved by PyTorch but unallocated. If reserved but unallocated memory is large try setting PYTORCH_CUDA_ALLOC_CONF=expandable_segments:True to avoid fragmentation.  See documentation for Memory Management  (https://pytorch.org/docs/stable/notes/cuda.html#environment-variables). Skipping batch.\n"
     ]
    },
    {
     "name": "stderr",
     "output_type": "stream",
     "text": [
      "Epoch 1/500 [Train]:  11%|█         | 18/162 [00:14<00:45,  3.17it/s]"
     ]
    },
    {
     "name": "stdout",
     "output_type": "stream",
     "text": [
      "Runtime error in training batch: CUDA out of memory. Tried to allocate 20.00 MiB. GPU 0 has a total capacity of 7.66 GiB of which 63.00 MiB is free. Including non-PyTorch memory, this process has 3.85 GiB memory in use. Of the allocated memory 3.51 GiB is allocated by PyTorch, and 183.83 MiB is reserved by PyTorch but unallocated. If reserved but unallocated memory is large try setting PYTORCH_CUDA_ALLOC_CONF=expandable_segments:True to avoid fragmentation.  See documentation for Memory Management  (https://pytorch.org/docs/stable/notes/cuda.html#environment-variables). Skipping batch.\n"
     ]
    },
    {
     "name": "stderr",
     "output_type": "stream",
     "text": [
      "Epoch 1/500 [Train]:  12%|█▏        | 20/162 [00:15<00:37,  3.76it/s]"
     ]
    },
    {
     "name": "stdout",
     "output_type": "stream",
     "text": [
      "Runtime error in training batch: CUDA out of memory. Tried to allocate 2.00 MiB. GPU 0 has a total capacity of 7.66 GiB of which 49.38 MiB is free. Including non-PyTorch memory, this process has 3.87 GiB memory in use. Of the allocated memory 3.40 GiB is allocated by PyTorch, and 315.22 MiB is reserved by PyTorch but unallocated. If reserved but unallocated memory is large try setting PYTORCH_CUDA_ALLOC_CONF=expandable_segments:True to avoid fragmentation.  See documentation for Memory Management  (https://pytorch.org/docs/stable/notes/cuda.html#environment-variables). Skipping batch.\n",
      "Runtime error in training batch: CUDA out of memory. Tried to allocate 2.00 MiB. GPU 0 has a total capacity of 7.66 GiB of which 49.38 MiB is free. Including non-PyTorch memory, this process has 3.87 GiB memory in use. Of the allocated memory 3.49 GiB is allocated by PyTorch, and 229.07 MiB is reserved by PyTorch but unallocated. If reserved but unallocated memory is large try setting PYTORCH_CUDA_ALLOC_CONF=expandable_segments:True to avoid fragmentation.  See documentation for Memory Management  (https://pytorch.org/docs/stable/notes/cuda.html#environment-variables). Skipping batch.\n"
     ]
    },
    {
     "name": "stderr",
     "output_type": "stream",
     "text": [
      "Epoch 1/500 [Train]:  13%|█▎        | 21/162 [00:15<00:38,  3.66it/s]"
     ]
    },
    {
     "name": "stdout",
     "output_type": "stream",
     "text": [
      "Runtime error in training batch: CUDA out of memory. Tried to allocate 2.00 MiB. GPU 0 has a total capacity of 7.66 GiB of which 49.38 MiB is free. Including non-PyTorch memory, this process has 3.87 GiB memory in use. Of the allocated memory 3.49 GiB is allocated by PyTorch, and 228.20 MiB is reserved by PyTorch but unallocated. If reserved but unallocated memory is large try setting PYTORCH_CUDA_ALLOC_CONF=expandable_segments:True to avoid fragmentation.  See documentation for Memory Management  (https://pytorch.org/docs/stable/notes/cuda.html#environment-variables). Skipping batch.\n"
     ]
    },
    {
     "name": "stderr",
     "output_type": "stream",
     "text": [
      "Epoch 1/500 [Train]:  14%|█▎        | 22/162 [00:15<00:39,  3.56it/s]"
     ]
    },
    {
     "name": "stdout",
     "output_type": "stream",
     "text": [
      "Runtime error in training batch: CUDA out of memory. Tried to allocate 2.00 MiB. GPU 0 has a total capacity of 7.66 GiB of which 49.38 MiB is free. Including non-PyTorch memory, this process has 3.87 GiB memory in use. Of the allocated memory 3.49 GiB is allocated by PyTorch, and 227.88 MiB is reserved by PyTorch but unallocated. If reserved but unallocated memory is large try setting PYTORCH_CUDA_ALLOC_CONF=expandable_segments:True to avoid fragmentation.  See documentation for Memory Management  (https://pytorch.org/docs/stable/notes/cuda.html#environment-variables). Skipping batch.\n"
     ]
    },
    {
     "name": "stderr",
     "output_type": "stream",
     "text": [
      "Epoch 1/500 [Train]:  14%|█▍        | 23/162 [00:16<00:39,  3.49it/s]"
     ]
    },
    {
     "name": "stdout",
     "output_type": "stream",
     "text": [
      "Runtime error in training batch: CUDA out of memory. Tried to allocate 2.00 MiB. GPU 0 has a total capacity of 7.66 GiB of which 49.38 MiB is free. Including non-PyTorch memory, this process has 3.87 GiB memory in use. Of the allocated memory 3.49 GiB is allocated by PyTorch, and 229.64 MiB is reserved by PyTorch but unallocated. If reserved but unallocated memory is large try setting PYTORCH_CUDA_ALLOC_CONF=expandable_segments:True to avoid fragmentation.  See documentation for Memory Management  (https://pytorch.org/docs/stable/notes/cuda.html#environment-variables). Skipping batch.\n"
     ]
    },
    {
     "name": "stderr",
     "output_type": "stream",
     "text": [
      "Epoch 1/500 [Train]:  15%|█▍        | 24/162 [00:16<00:48,  2.85it/s]"
     ]
    },
    {
     "name": "stdout",
     "output_type": "stream",
     "text": [
      "Runtime error in training batch: CUDA out of memory. Tried to allocate 32.00 MiB. GPU 0 has a total capacity of 7.66 GiB of which 57.12 MiB is free. Including non-PyTorch memory, this process has 3.87 GiB memory in use. Of the allocated memory 3.54 GiB is allocated by PyTorch, and 175.71 MiB is reserved by PyTorch but unallocated. If reserved but unallocated memory is large try setting PYTORCH_CUDA_ALLOC_CONF=expandable_segments:True to avoid fragmentation.  See documentation for Memory Management  (https://pytorch.org/docs/stable/notes/cuda.html#environment-variables). Skipping batch.\n"
     ]
    },
    {
     "name": "stderr",
     "output_type": "stream",
     "text": [
      "Epoch 1/500 [Train]:  15%|█▌        | 25/162 [00:17<00:47,  2.90it/s]"
     ]
    },
    {
     "name": "stdout",
     "output_type": "stream",
     "text": [
      "Runtime error in training batch: CUDA out of memory. Tried to allocate 32.00 MiB. GPU 0 has a total capacity of 7.66 GiB of which 53.62 MiB is free. Including non-PyTorch memory, this process has 3.87 GiB memory in use. Of the allocated memory 3.54 GiB is allocated by PyTorch, and 176.03 MiB is reserved by PyTorch but unallocated. If reserved but unallocated memory is large try setting PYTORCH_CUDA_ALLOC_CONF=expandable_segments:True to avoid fragmentation.  See documentation for Memory Management  (https://pytorch.org/docs/stable/notes/cuda.html#environment-variables). Skipping batch.\n"
     ]
    },
    {
     "name": "stderr",
     "output_type": "stream",
     "text": [
      "Epoch 1/500 [Train]:  16%|█▌        | 26/162 [00:17<00:46,  2.95it/s]"
     ]
    },
    {
     "name": "stdout",
     "output_type": "stream",
     "text": [
      "Runtime error in training batch: CUDA out of memory. Tried to allocate 32.00 MiB. GPU 0 has a total capacity of 7.66 GiB of which 53.62 MiB is free. Including non-PyTorch memory, this process has 3.87 GiB memory in use. Of the allocated memory 3.54 GiB is allocated by PyTorch, and 175.63 MiB is reserved by PyTorch but unallocated. If reserved but unallocated memory is large try setting PYTORCH_CUDA_ALLOC_CONF=expandable_segments:True to avoid fragmentation.  See documentation for Memory Management  (https://pytorch.org/docs/stable/notes/cuda.html#environment-variables). Skipping batch.\n"
     ]
    },
    {
     "name": "stderr",
     "output_type": "stream",
     "text": [
      "Epoch 1/500 [Train]:  17%|█▋        | 27/162 [00:17<00:45,  2.99it/s]"
     ]
    },
    {
     "name": "stdout",
     "output_type": "stream",
     "text": [
      "Runtime error in training batch: CUDA out of memory. Tried to allocate 32.00 MiB. GPU 0 has a total capacity of 7.66 GiB of which 53.25 MiB is free. Including non-PyTorch memory, this process has 3.87 GiB memory in use. Of the allocated memory 3.54 GiB is allocated by PyTorch, and 177.05 MiB is reserved by PyTorch but unallocated. If reserved but unallocated memory is large try setting PYTORCH_CUDA_ALLOC_CONF=expandable_segments:True to avoid fragmentation.  See documentation for Memory Management  (https://pytorch.org/docs/stable/notes/cuda.html#environment-variables). Skipping batch.\n"
     ]
    },
    {
     "name": "stderr",
     "output_type": "stream",
     "text": [
      "Epoch 1/500 [Train]:  17%|█▋        | 28/162 [00:18<00:44,  3.02it/s]"
     ]
    },
    {
     "name": "stdout",
     "output_type": "stream",
     "text": [
      "Runtime error in training batch: CUDA out of memory. Tried to allocate 32.00 MiB. GPU 0 has a total capacity of 7.66 GiB of which 51.12 MiB is free. Including non-PyTorch memory, this process has 3.87 GiB memory in use. Of the allocated memory 3.54 GiB is allocated by PyTorch, and 176.90 MiB is reserved by PyTorch but unallocated. If reserved but unallocated memory is large try setting PYTORCH_CUDA_ALLOC_CONF=expandable_segments:True to avoid fragmentation.  See documentation for Memory Management  (https://pytorch.org/docs/stable/notes/cuda.html#environment-variables). Skipping batch.\n"
     ]
    },
    {
     "name": "stderr",
     "output_type": "stream",
     "text": [
      "Epoch 1/500 [Train]:  18%|█▊        | 29/162 [00:18<00:43,  3.04it/s]"
     ]
    },
    {
     "name": "stdout",
     "output_type": "stream",
     "text": [
      "Runtime error in training batch: CUDA out of memory. Tried to allocate 32.00 MiB. GPU 0 has a total capacity of 7.66 GiB of which 51.62 MiB is free. Including non-PyTorch memory, this process has 3.87 GiB memory in use. Of the allocated memory 3.54 GiB is allocated by PyTorch, and 177.05 MiB is reserved by PyTorch but unallocated. If reserved but unallocated memory is large try setting PYTORCH_CUDA_ALLOC_CONF=expandable_segments:True to avoid fragmentation.  See documentation for Memory Management  (https://pytorch.org/docs/stable/notes/cuda.html#environment-variables). Skipping batch.\n"
     ]
    },
    {
     "name": "stderr",
     "output_type": "stream",
     "text": [
      "Epoch 1/500 [Train]:  19%|█▊        | 30/162 [00:18<00:43,  3.05it/s]"
     ]
    },
    {
     "name": "stdout",
     "output_type": "stream",
     "text": [
      "Runtime error in training batch: CUDA out of memory. Tried to allocate 32.00 MiB. GPU 0 has a total capacity of 7.66 GiB of which 51.62 MiB is free. Including non-PyTorch memory, this process has 3.87 GiB memory in use. Of the allocated memory 3.54 GiB is allocated by PyTorch, and 175.71 MiB is reserved by PyTorch but unallocated. If reserved but unallocated memory is large try setting PYTORCH_CUDA_ALLOC_CONF=expandable_segments:True to avoid fragmentation.  See documentation for Memory Management  (https://pytorch.org/docs/stable/notes/cuda.html#environment-variables). Skipping batch.\n"
     ]
    },
    {
     "name": "stderr",
     "output_type": "stream",
     "text": [
      "Epoch 1/500 [Train]:  19%|█▉        | 31/162 [00:18<00:42,  3.06it/s]"
     ]
    },
    {
     "name": "stdout",
     "output_type": "stream",
     "text": [
      "Runtime error in training batch: CUDA out of memory. Tried to allocate 32.00 MiB. GPU 0 has a total capacity of 7.66 GiB of which 51.62 MiB is free. Including non-PyTorch memory, this process has 3.87 GiB memory in use. Of the allocated memory 3.54 GiB is allocated by PyTorch, and 176.90 MiB is reserved by PyTorch but unallocated. If reserved but unallocated memory is large try setting PYTORCH_CUDA_ALLOC_CONF=expandable_segments:True to avoid fragmentation.  See documentation for Memory Management  (https://pytorch.org/docs/stable/notes/cuda.html#environment-variables). Skipping batch.\n"
     ]
    },
    {
     "name": "stderr",
     "output_type": "stream",
     "text": [
      "Epoch 1/500 [Train]:  20%|█▉        | 32/162 [00:19<00:42,  3.06it/s]"
     ]
    },
    {
     "name": "stdout",
     "output_type": "stream",
     "text": [
      "Runtime error in training batch: CUDA out of memory. Tried to allocate 32.00 MiB. GPU 0 has a total capacity of 7.66 GiB of which 51.75 MiB is free. Including non-PyTorch memory, this process has 3.87 GiB memory in use. Of the allocated memory 3.54 GiB is allocated by PyTorch, and 175.71 MiB is reserved by PyTorch but unallocated. If reserved but unallocated memory is large try setting PYTORCH_CUDA_ALLOC_CONF=expandable_segments:True to avoid fragmentation.  See documentation for Memory Management  (https://pytorch.org/docs/stable/notes/cuda.html#environment-variables). Skipping batch.\n"
     ]
    },
    {
     "name": "stderr",
     "output_type": "stream",
     "text": [
      "Epoch 1/500 [Train]:  20%|██        | 33/162 [00:19<00:41,  3.07it/s]"
     ]
    },
    {
     "name": "stdout",
     "output_type": "stream",
     "text": [
      "Runtime error in training batch: CUDA out of memory. Tried to allocate 32.00 MiB. GPU 0 has a total capacity of 7.66 GiB of which 51.75 MiB is free. Including non-PyTorch memory, this process has 3.87 GiB memory in use. Of the allocated memory 3.54 GiB is allocated by PyTorch, and 175.71 MiB is reserved by PyTorch but unallocated. If reserved but unallocated memory is large try setting PYTORCH_CUDA_ALLOC_CONF=expandable_segments:True to avoid fragmentation.  See documentation for Memory Management  (https://pytorch.org/docs/stable/notes/cuda.html#environment-variables). Skipping batch.\n"
     ]
    },
    {
     "name": "stderr",
     "output_type": "stream",
     "text": [
      "Epoch 1/500 [Train]:  21%|██        | 34/162 [00:19<00:41,  3.07it/s]"
     ]
    },
    {
     "name": "stdout",
     "output_type": "stream",
     "text": [
      "Runtime error in training batch: CUDA out of memory. Tried to allocate 32.00 MiB. GPU 0 has a total capacity of 7.66 GiB of which 51.75 MiB is free. Including non-PyTorch memory, this process has 3.87 GiB memory in use. Of the allocated memory 3.54 GiB is allocated by PyTorch, and 175.88 MiB is reserved by PyTorch but unallocated. If reserved but unallocated memory is large try setting PYTORCH_CUDA_ALLOC_CONF=expandable_segments:True to avoid fragmentation.  See documentation for Memory Management  (https://pytorch.org/docs/stable/notes/cuda.html#environment-variables). Skipping batch.\n"
     ]
    },
    {
     "name": "stderr",
     "output_type": "stream",
     "text": [
      "Epoch 1/500 [Train]:  22%|██▏       | 35/162 [00:20<00:41,  3.07it/s]"
     ]
    },
    {
     "name": "stdout",
     "output_type": "stream",
     "text": [
      "Runtime error in training batch: CUDA out of memory. Tried to allocate 32.00 MiB. GPU 0 has a total capacity of 7.66 GiB of which 51.88 MiB is free. Including non-PyTorch memory, this process has 3.87 GiB memory in use. Of the allocated memory 3.54 GiB is allocated by PyTorch, and 177.07 MiB is reserved by PyTorch but unallocated. If reserved but unallocated memory is large try setting PYTORCH_CUDA_ALLOC_CONF=expandable_segments:True to avoid fragmentation.  See documentation for Memory Management  (https://pytorch.org/docs/stable/notes/cuda.html#environment-variables). Skipping batch.\n"
     ]
    },
    {
     "name": "stderr",
     "output_type": "stream",
     "text": [
      "Epoch 1/500 [Train]:  22%|██▏       | 36/162 [00:20<00:40,  3.08it/s]"
     ]
    },
    {
     "name": "stdout",
     "output_type": "stream",
     "text": [
      "Runtime error in training batch: CUDA out of memory. Tried to allocate 32.00 MiB. GPU 0 has a total capacity of 7.66 GiB of which 51.88 MiB is free. Including non-PyTorch memory, this process has 3.87 GiB memory in use. Of the allocated memory 3.54 GiB is allocated by PyTorch, and 175.88 MiB is reserved by PyTorch but unallocated. If reserved but unallocated memory is large try setting PYTORCH_CUDA_ALLOC_CONF=expandable_segments:True to avoid fragmentation.  See documentation for Memory Management  (https://pytorch.org/docs/stable/notes/cuda.html#environment-variables). Skipping batch.\n"
     ]
    },
    {
     "name": "stderr",
     "output_type": "stream",
     "text": [
      "Epoch 1/500 [Train]:  23%|██▎       | 37/162 [00:20<00:40,  3.08it/s]"
     ]
    },
    {
     "name": "stdout",
     "output_type": "stream",
     "text": [
      "Runtime error in training batch: CUDA out of memory. Tried to allocate 32.00 MiB. GPU 0 has a total capacity of 7.66 GiB of which 51.88 MiB is free. Including non-PyTorch memory, this process has 3.87 GiB memory in use. Of the allocated memory 3.54 GiB is allocated by PyTorch, and 175.88 MiB is reserved by PyTorch but unallocated. If reserved but unallocated memory is large try setting PYTORCH_CUDA_ALLOC_CONF=expandable_segments:True to avoid fragmentation.  See documentation for Memory Management  (https://pytorch.org/docs/stable/notes/cuda.html#environment-variables). Skipping batch.\n"
     ]
    },
    {
     "name": "stderr",
     "output_type": "stream",
     "text": [
      "Epoch 1/500 [Train]:  23%|██▎       | 38/162 [00:21<00:40,  3.08it/s]"
     ]
    },
    {
     "name": "stdout",
     "output_type": "stream",
     "text": [
      "Runtime error in training batch: CUDA out of memory. Tried to allocate 32.00 MiB. GPU 0 has a total capacity of 7.66 GiB of which 56.94 MiB is free. Including non-PyTorch memory, this process has 3.87 GiB memory in use. Of the allocated memory 3.54 GiB is allocated by PyTorch, and 174.86 MiB is reserved by PyTorch but unallocated. If reserved but unallocated memory is large try setting PYTORCH_CUDA_ALLOC_CONF=expandable_segments:True to avoid fragmentation.  See documentation for Memory Management  (https://pytorch.org/docs/stable/notes/cuda.html#environment-variables). Skipping batch.\n"
     ]
    },
    {
     "name": "stderr",
     "output_type": "stream",
     "text": [
      "Epoch 1/500 [Train]:  24%|██▍       | 39/162 [00:21<00:39,  3.08it/s]"
     ]
    },
    {
     "name": "stdout",
     "output_type": "stream",
     "text": [
      "Runtime error in training batch: CUDA out of memory. Tried to allocate 32.00 MiB. GPU 0 has a total capacity of 7.66 GiB of which 61.06 MiB is free. Including non-PyTorch memory, this process has 3.87 GiB memory in use. Of the allocated memory 3.54 GiB is allocated by PyTorch, and 175.71 MiB is reserved by PyTorch but unallocated. If reserved but unallocated memory is large try setting PYTORCH_CUDA_ALLOC_CONF=expandable_segments:True to avoid fragmentation.  See documentation for Memory Management  (https://pytorch.org/docs/stable/notes/cuda.html#environment-variables). Skipping batch.\n"
     ]
    },
    {
     "name": "stderr",
     "output_type": "stream",
     "text": [
      "Epoch 1/500 [Train]:  25%|██▍       | 40/162 [00:21<00:39,  3.08it/s]"
     ]
    },
    {
     "name": "stdout",
     "output_type": "stream",
     "text": [
      "Runtime error in training batch: CUDA out of memory. Tried to allocate 32.00 MiB. GPU 0 has a total capacity of 7.66 GiB of which 67.19 MiB is free. Including non-PyTorch memory, this process has 3.87 GiB memory in use. Of the allocated memory 3.54 GiB is allocated by PyTorch, and 175.71 MiB is reserved by PyTorch but unallocated. If reserved but unallocated memory is large try setting PYTORCH_CUDA_ALLOC_CONF=expandable_segments:True to avoid fragmentation.  See documentation for Memory Management  (https://pytorch.org/docs/stable/notes/cuda.html#environment-variables). Skipping batch.\n"
     ]
    },
    {
     "name": "stderr",
     "output_type": "stream",
     "text": [
      "Epoch 1/500 [Train]:  25%|██▌       | 41/162 [00:22<00:39,  3.08it/s]"
     ]
    },
    {
     "name": "stdout",
     "output_type": "stream",
     "text": [
      "Runtime error in training batch: CUDA out of memory. Tried to allocate 32.00 MiB. GPU 0 has a total capacity of 7.66 GiB of which 67.19 MiB is free. Including non-PyTorch memory, this process has 3.87 GiB memory in use. Of the allocated memory 3.54 GiB is allocated by PyTorch, and 175.71 MiB is reserved by PyTorch but unallocated. If reserved but unallocated memory is large try setting PYTORCH_CUDA_ALLOC_CONF=expandable_segments:True to avoid fragmentation.  See documentation for Memory Management  (https://pytorch.org/docs/stable/notes/cuda.html#environment-variables). Skipping batch.\n"
     ]
    },
    {
     "name": "stderr",
     "output_type": "stream",
     "text": [
      "Epoch 1/500 [Train]:  26%|██▌       | 42/162 [00:22<00:38,  3.08it/s]"
     ]
    },
    {
     "name": "stdout",
     "output_type": "stream",
     "text": [
      "Runtime error in training batch: CUDA out of memory. Tried to allocate 32.00 MiB. GPU 0 has a total capacity of 7.66 GiB of which 67.19 MiB is free. Including non-PyTorch memory, this process has 3.87 GiB memory in use. Of the allocated memory 3.54 GiB is allocated by PyTorch, and 175.71 MiB is reserved by PyTorch but unallocated. If reserved but unallocated memory is large try setting PYTORCH_CUDA_ALLOC_CONF=expandable_segments:True to avoid fragmentation.  See documentation for Memory Management  (https://pytorch.org/docs/stable/notes/cuda.html#environment-variables). Skipping batch.\n"
     ]
    },
    {
     "name": "stderr",
     "output_type": "stream",
     "text": [
      "Epoch 1/500 [Train]:  27%|██▋       | 43/162 [00:22<00:38,  3.08it/s]"
     ]
    },
    {
     "name": "stdout",
     "output_type": "stream",
     "text": [
      "Runtime error in training batch: CUDA out of memory. Tried to allocate 32.00 MiB. GPU 0 has a total capacity of 7.66 GiB of which 68.25 MiB is free. Including non-PyTorch memory, this process has 3.87 GiB memory in use. Of the allocated memory 3.54 GiB is allocated by PyTorch, and 175.71 MiB is reserved by PyTorch but unallocated. If reserved but unallocated memory is large try setting PYTORCH_CUDA_ALLOC_CONF=expandable_segments:True to avoid fragmentation.  See documentation for Memory Management  (https://pytorch.org/docs/stable/notes/cuda.html#environment-variables). Skipping batch.\n"
     ]
    },
    {
     "name": "stderr",
     "output_type": "stream",
     "text": [
      "Epoch 1/500 [Train]:  27%|██▋       | 44/162 [00:23<00:38,  3.08it/s]"
     ]
    },
    {
     "name": "stdout",
     "output_type": "stream",
     "text": [
      "Runtime error in training batch: CUDA out of memory. Tried to allocate 32.00 MiB. GPU 0 has a total capacity of 7.66 GiB of which 68.25 MiB is free. Including non-PyTorch memory, this process has 3.87 GiB memory in use. Of the allocated memory 3.54 GiB is allocated by PyTorch, and 175.71 MiB is reserved by PyTorch but unallocated. If reserved but unallocated memory is large try setting PYTORCH_CUDA_ALLOC_CONF=expandable_segments:True to avoid fragmentation.  See documentation for Memory Management  (https://pytorch.org/docs/stable/notes/cuda.html#environment-variables). Skipping batch.\n"
     ]
    },
    {
     "name": "stderr",
     "output_type": "stream",
     "text": [
      "Epoch 1/500 [Train]:  28%|██▊       | 45/162 [00:23<00:37,  3.08it/s]"
     ]
    },
    {
     "name": "stdout",
     "output_type": "stream",
     "text": [
      "Runtime error in training batch: CUDA out of memory. Tried to allocate 32.00 MiB. GPU 0 has a total capacity of 7.66 GiB of which 68.25 MiB is free. Including non-PyTorch memory, this process has 3.87 GiB memory in use. Of the allocated memory 3.54 GiB is allocated by PyTorch, and 175.71 MiB is reserved by PyTorch but unallocated. If reserved but unallocated memory is large try setting PYTORCH_CUDA_ALLOC_CONF=expandable_segments:True to avoid fragmentation.  See documentation for Memory Management  (https://pytorch.org/docs/stable/notes/cuda.html#environment-variables). Skipping batch.\n"
     ]
    },
    {
     "name": "stderr",
     "output_type": "stream",
     "text": [
      "Epoch 1/500 [Train]:  28%|██▊       | 46/162 [00:23<00:37,  3.08it/s]"
     ]
    },
    {
     "name": "stdout",
     "output_type": "stream",
     "text": [
      "Runtime error in training batch: CUDA out of memory. Tried to allocate 32.00 MiB. GPU 0 has a total capacity of 7.66 GiB of which 67.19 MiB is free. Including non-PyTorch memory, this process has 3.87 GiB memory in use. Of the allocated memory 3.54 GiB is allocated by PyTorch, and 175.71 MiB is reserved by PyTorch but unallocated. If reserved but unallocated memory is large try setting PYTORCH_CUDA_ALLOC_CONF=expandable_segments:True to avoid fragmentation.  See documentation for Memory Management  (https://pytorch.org/docs/stable/notes/cuda.html#environment-variables). Skipping batch.\n"
     ]
    },
    {
     "name": "stderr",
     "output_type": "stream",
     "text": [
      "Epoch 1/500 [Train]:  29%|██▉       | 47/162 [00:24<00:37,  3.08it/s]"
     ]
    },
    {
     "name": "stdout",
     "output_type": "stream",
     "text": [
      "Runtime error in training batch: CUDA out of memory. Tried to allocate 32.00 MiB. GPU 0 has a total capacity of 7.66 GiB of which 67.19 MiB is free. Including non-PyTorch memory, this process has 3.87 GiB memory in use. Of the allocated memory 3.54 GiB is allocated by PyTorch, and 175.71 MiB is reserved by PyTorch but unallocated. If reserved but unallocated memory is large try setting PYTORCH_CUDA_ALLOC_CONF=expandable_segments:True to avoid fragmentation.  See documentation for Memory Management  (https://pytorch.org/docs/stable/notes/cuda.html#environment-variables). Skipping batch.\n"
     ]
    },
    {
     "name": "stderr",
     "output_type": "stream",
     "text": [
      "Epoch 1/500 [Train]:  30%|██▉       | 48/162 [00:24<00:37,  3.08it/s]"
     ]
    },
    {
     "name": "stdout",
     "output_type": "stream",
     "text": [
      "Runtime error in training batch: CUDA out of memory. Tried to allocate 32.00 MiB. GPU 0 has a total capacity of 7.66 GiB of which 67.19 MiB is free. Including non-PyTorch memory, this process has 3.87 GiB memory in use. Of the allocated memory 3.54 GiB is allocated by PyTorch, and 175.71 MiB is reserved by PyTorch but unallocated. If reserved but unallocated memory is large try setting PYTORCH_CUDA_ALLOC_CONF=expandable_segments:True to avoid fragmentation.  See documentation for Memory Management  (https://pytorch.org/docs/stable/notes/cuda.html#environment-variables). Skipping batch.\n"
     ]
    },
    {
     "name": "stderr",
     "output_type": "stream",
     "text": [
      "Epoch 1/500 [Train]:  30%|███       | 49/162 [00:24<00:36,  3.08it/s]"
     ]
    },
    {
     "name": "stdout",
     "output_type": "stream",
     "text": [
      "Runtime error in training batch: CUDA out of memory. Tried to allocate 32.00 MiB. GPU 0 has a total capacity of 7.66 GiB of which 67.19 MiB is free. Including non-PyTorch memory, this process has 3.87 GiB memory in use. Of the allocated memory 3.54 GiB is allocated by PyTorch, and 175.71 MiB is reserved by PyTorch but unallocated. If reserved but unallocated memory is large try setting PYTORCH_CUDA_ALLOC_CONF=expandable_segments:True to avoid fragmentation.  See documentation for Memory Management  (https://pytorch.org/docs/stable/notes/cuda.html#environment-variables). Skipping batch.\n"
     ]
    },
    {
     "name": "stderr",
     "output_type": "stream",
     "text": [
      "Epoch 1/500 [Train]:  31%|███       | 50/162 [00:25<00:36,  3.06it/s]"
     ]
    },
    {
     "name": "stdout",
     "output_type": "stream",
     "text": [
      "Runtime error in training batch: CUDA out of memory. Tried to allocate 32.00 MiB. GPU 0 has a total capacity of 7.66 GiB of which 68.25 MiB is free. Including non-PyTorch memory, this process has 3.87 GiB memory in use. Of the allocated memory 3.54 GiB is allocated by PyTorch, and 175.71 MiB is reserved by PyTorch but unallocated. If reserved but unallocated memory is large try setting PYTORCH_CUDA_ALLOC_CONF=expandable_segments:True to avoid fragmentation.  See documentation for Memory Management  (https://pytorch.org/docs/stable/notes/cuda.html#environment-variables). Skipping batch.\n"
     ]
    },
    {
     "name": "stderr",
     "output_type": "stream",
     "text": [
      "Epoch 1/500 [Train]:  31%|███▏      | 51/162 [00:25<00:36,  3.06it/s]"
     ]
    },
    {
     "name": "stdout",
     "output_type": "stream",
     "text": [
      "Runtime error in training batch: CUDA out of memory. Tried to allocate 32.00 MiB. GPU 0 has a total capacity of 7.66 GiB of which 68.25 MiB is free. Including non-PyTorch memory, this process has 3.87 GiB memory in use. Of the allocated memory 3.54 GiB is allocated by PyTorch, and 175.71 MiB is reserved by PyTorch but unallocated. If reserved but unallocated memory is large try setting PYTORCH_CUDA_ALLOC_CONF=expandable_segments:True to avoid fragmentation.  See documentation for Memory Management  (https://pytorch.org/docs/stable/notes/cuda.html#environment-variables). Skipping batch.\n"
     ]
    },
    {
     "name": "stderr",
     "output_type": "stream",
     "text": [
      "Epoch 1/500 [Train]:  32%|███▏      | 52/162 [00:25<00:35,  3.06it/s]"
     ]
    },
    {
     "name": "stdout",
     "output_type": "stream",
     "text": [
      "Runtime error in training batch: CUDA out of memory. Tried to allocate 32.00 MiB. GPU 0 has a total capacity of 7.66 GiB of which 68.25 MiB is free. Including non-PyTorch memory, this process has 3.87 GiB memory in use. Of the allocated memory 3.54 GiB is allocated by PyTorch, and 175.71 MiB is reserved by PyTorch but unallocated. If reserved but unallocated memory is large try setting PYTORCH_CUDA_ALLOC_CONF=expandable_segments:True to avoid fragmentation.  See documentation for Memory Management  (https://pytorch.org/docs/stable/notes/cuda.html#environment-variables). Skipping batch.\n"
     ]
    },
    {
     "name": "stderr",
     "output_type": "stream",
     "text": [
      "Epoch 1/500 [Train]:  33%|███▎      | 53/162 [00:26<00:35,  3.07it/s]"
     ]
    },
    {
     "name": "stdout",
     "output_type": "stream",
     "text": [
      "Runtime error in training batch: CUDA out of memory. Tried to allocate 32.00 MiB. GPU 0 has a total capacity of 7.66 GiB of which 68.25 MiB is free. Including non-PyTorch memory, this process has 3.87 GiB memory in use. Of the allocated memory 3.54 GiB is allocated by PyTorch, and 175.71 MiB is reserved by PyTorch but unallocated. If reserved but unallocated memory is large try setting PYTORCH_CUDA_ALLOC_CONF=expandable_segments:True to avoid fragmentation.  See documentation for Memory Management  (https://pytorch.org/docs/stable/notes/cuda.html#environment-variables). Skipping batch.\n"
     ]
    },
    {
     "name": "stderr",
     "output_type": "stream",
     "text": [
      "Epoch 1/500 [Train]:  33%|███▎      | 54/162 [00:26<00:35,  3.06it/s]"
     ]
    },
    {
     "name": "stdout",
     "output_type": "stream",
     "text": [
      "Runtime error in training batch: CUDA out of memory. Tried to allocate 32.00 MiB. GPU 0 has a total capacity of 7.66 GiB of which 68.25 MiB is free. Including non-PyTorch memory, this process has 3.87 GiB memory in use. Of the allocated memory 3.54 GiB is allocated by PyTorch, and 175.71 MiB is reserved by PyTorch but unallocated. If reserved but unallocated memory is large try setting PYTORCH_CUDA_ALLOC_CONF=expandable_segments:True to avoid fragmentation.  See documentation for Memory Management  (https://pytorch.org/docs/stable/notes/cuda.html#environment-variables). Skipping batch.\n"
     ]
    },
    {
     "name": "stderr",
     "output_type": "stream",
     "text": [
      "Epoch 1/500 [Train]:  34%|███▍      | 55/162 [00:26<00:34,  3.06it/s]"
     ]
    },
    {
     "name": "stdout",
     "output_type": "stream",
     "text": [
      "Runtime error in training batch: CUDA out of memory. Tried to allocate 32.00 MiB. GPU 0 has a total capacity of 7.66 GiB of which 68.25 MiB is free. Including non-PyTorch memory, this process has 3.87 GiB memory in use. Of the allocated memory 3.54 GiB is allocated by PyTorch, and 175.71 MiB is reserved by PyTorch but unallocated. If reserved but unallocated memory is large try setting PYTORCH_CUDA_ALLOC_CONF=expandable_segments:True to avoid fragmentation.  See documentation for Memory Management  (https://pytorch.org/docs/stable/notes/cuda.html#environment-variables). Skipping batch.\n"
     ]
    },
    {
     "name": "stderr",
     "output_type": "stream",
     "text": [
      "Epoch 1/500 [Train]:  35%|███▍      | 56/162 [00:27<00:34,  3.06it/s]"
     ]
    },
    {
     "name": "stdout",
     "output_type": "stream",
     "text": [
      "Runtime error in training batch: CUDA out of memory. Tried to allocate 32.00 MiB. GPU 0 has a total capacity of 7.66 GiB of which 66.12 MiB is free. Including non-PyTorch memory, this process has 3.87 GiB memory in use. Of the allocated memory 3.54 GiB is allocated by PyTorch, and 175.71 MiB is reserved by PyTorch but unallocated. If reserved but unallocated memory is large try setting PYTORCH_CUDA_ALLOC_CONF=expandable_segments:True to avoid fragmentation.  See documentation for Memory Management  (https://pytorch.org/docs/stable/notes/cuda.html#environment-variables). Skipping batch.\n"
     ]
    },
    {
     "name": "stderr",
     "output_type": "stream",
     "text": [
      "Epoch 1/500 [Train]:  35%|███▌      | 57/162 [00:27<00:34,  3.05it/s]"
     ]
    },
    {
     "name": "stdout",
     "output_type": "stream",
     "text": [
      "Runtime error in training batch: CUDA out of memory. Tried to allocate 32.00 MiB. GPU 0 has a total capacity of 7.66 GiB of which 66.12 MiB is free. Including non-PyTorch memory, this process has 3.87 GiB memory in use. Of the allocated memory 3.54 GiB is allocated by PyTorch, and 175.71 MiB is reserved by PyTorch but unallocated. If reserved but unallocated memory is large try setting PYTORCH_CUDA_ALLOC_CONF=expandable_segments:True to avoid fragmentation.  See documentation for Memory Management  (https://pytorch.org/docs/stable/notes/cuda.html#environment-variables). Skipping batch.\n"
     ]
    },
    {
     "name": "stderr",
     "output_type": "stream",
     "text": [
      "Epoch 1/500 [Train]:  36%|███▌      | 58/162 [00:27<00:34,  3.05it/s]"
     ]
    },
    {
     "name": "stdout",
     "output_type": "stream",
     "text": [
      "Runtime error in training batch: CUDA out of memory. Tried to allocate 32.00 MiB. GPU 0 has a total capacity of 7.66 GiB of which 66.12 MiB is free. Including non-PyTorch memory, this process has 3.87 GiB memory in use. Of the allocated memory 3.54 GiB is allocated by PyTorch, and 175.71 MiB is reserved by PyTorch but unallocated. If reserved but unallocated memory is large try setting PYTORCH_CUDA_ALLOC_CONF=expandable_segments:True to avoid fragmentation.  See documentation for Memory Management  (https://pytorch.org/docs/stable/notes/cuda.html#environment-variables). Skipping batch.\n"
     ]
    },
    {
     "name": "stderr",
     "output_type": "stream",
     "text": [
      "Epoch 1/500 [Train]:  36%|███▋      | 59/162 [00:28<00:33,  3.06it/s]"
     ]
    },
    {
     "name": "stdout",
     "output_type": "stream",
     "text": [
      "Runtime error in training batch: CUDA out of memory. Tried to allocate 32.00 MiB. GPU 0 has a total capacity of 7.66 GiB of which 66.12 MiB is free. Including non-PyTorch memory, this process has 3.87 GiB memory in use. Of the allocated memory 3.54 GiB is allocated by PyTorch, and 175.71 MiB is reserved by PyTorch but unallocated. If reserved but unallocated memory is large try setting PYTORCH_CUDA_ALLOC_CONF=expandable_segments:True to avoid fragmentation.  See documentation for Memory Management  (https://pytorch.org/docs/stable/notes/cuda.html#environment-variables). Skipping batch.\n"
     ]
    },
    {
     "name": "stderr",
     "output_type": "stream",
     "text": [
      "Epoch 1/500 [Train]:  37%|███▋      | 60/162 [00:28<00:33,  3.06it/s]"
     ]
    },
    {
     "name": "stdout",
     "output_type": "stream",
     "text": [
      "Runtime error in training batch: CUDA out of memory. Tried to allocate 32.00 MiB. GPU 0 has a total capacity of 7.66 GiB of which 66.12 MiB is free. Including non-PyTorch memory, this process has 3.87 GiB memory in use. Of the allocated memory 3.54 GiB is allocated by PyTorch, and 175.71 MiB is reserved by PyTorch but unallocated. If reserved but unallocated memory is large try setting PYTORCH_CUDA_ALLOC_CONF=expandable_segments:True to avoid fragmentation.  See documentation for Memory Management  (https://pytorch.org/docs/stable/notes/cuda.html#environment-variables). Skipping batch.\n"
     ]
    },
    {
     "name": "stderr",
     "output_type": "stream",
     "text": [
      "Epoch 1/500 [Train]:  38%|███▊      | 61/162 [00:28<00:33,  3.06it/s]"
     ]
    },
    {
     "name": "stdout",
     "output_type": "stream",
     "text": [
      "Runtime error in training batch: CUDA out of memory. Tried to allocate 32.00 MiB. GPU 0 has a total capacity of 7.66 GiB of which 63.50 MiB is free. Including non-PyTorch memory, this process has 3.87 GiB memory in use. Of the allocated memory 3.54 GiB is allocated by PyTorch, and 175.71 MiB is reserved by PyTorch but unallocated. If reserved but unallocated memory is large try setting PYTORCH_CUDA_ALLOC_CONF=expandable_segments:True to avoid fragmentation.  See documentation for Memory Management  (https://pytorch.org/docs/stable/notes/cuda.html#environment-variables). Skipping batch.\n"
     ]
    },
    {
     "name": "stderr",
     "output_type": "stream",
     "text": [
      "Epoch 1/500 [Train]:  38%|███▊      | 62/162 [00:29<00:46,  2.13it/s]"
     ]
    },
    {
     "name": "stdout",
     "output_type": "stream",
     "text": [
      "Runtime error in training batch: CUDA out of memory. Tried to allocate 32.00 MiB. GPU 0 has a total capacity of 7.66 GiB of which 64.38 MiB is free. Including non-PyTorch memory, this process has 3.87 GiB memory in use. Of the allocated memory 3.54 GiB is allocated by PyTorch, and 175.71 MiB is reserved by PyTorch but unallocated. If reserved but unallocated memory is large try setting PYTORCH_CUDA_ALLOC_CONF=expandable_segments:True to avoid fragmentation.  See documentation for Memory Management  (https://pytorch.org/docs/stable/notes/cuda.html#environment-variables). Skipping batch.\n"
     ]
    },
    {
     "name": "stderr",
     "output_type": "stream",
     "text": [
      "\n"
     ]
    },
    {
     "ename": "KeyboardInterrupt",
     "evalue": "",
     "output_type": "error",
     "traceback": [
      "\u001b[0;31m---------------------------------------------------------------------------\u001b[0m",
      "\u001b[0;31mKeyboardInterrupt\u001b[0m                         Traceback (most recent call last)",
      "Cell \u001b[0;32mIn[5], line 4\u001b[0m\n\u001b[1;32m      1\u001b[0m \u001b[38;5;28;01mimport\u001b[39;00m \u001b[38;5;21;01margparse\u001b[39;00m\n\u001b[1;32m      3\u001b[0m training_args \u001b[38;5;241m=\u001b[39m argparse\u001b[38;5;241m.\u001b[39mNamespace(\u001b[38;5;241m*\u001b[39m\u001b[38;5;241m*\u001b[39margs)\n\u001b[0;32m----> 4\u001b[0m \u001b[43mtrain_model\u001b[49m\u001b[43m(\u001b[49m\u001b[43mtraining_args\u001b[49m\u001b[43m,\u001b[49m\u001b[43m \u001b[49m\u001b[43mdevice\u001b[49m\u001b[43m)\u001b[49m\n",
      "File \u001b[0;32m~/Documents/Projects/gat-cd4c/src/train.py:175\u001b[0m, in \u001b[0;36mtrain_model\u001b[0;34m(args, m_device)\u001b[0m\n\u001b[1;32m    172\u001b[0m (d_z, d_x, d_e, d_a, p_z, p_x_dense, p_e, p_a, labels) \u001b[38;5;241m=\u001b[39m [item\u001b[38;5;241m.\u001b[39mto(device) \u001b[38;5;28;01mfor\u001b[39;00m item \u001b[38;5;129;01min\u001b[39;00m batch]\n\u001b[1;32m    174\u001b[0m optimiser\u001b[38;5;241m.\u001b[39mzero_grad(set_to_none\u001b[38;5;241m=\u001b[39m\u001b[38;5;28;01mTrue\u001b[39;00m)\n\u001b[0;32m--> 175\u001b[0m preds \u001b[38;5;241m=\u001b[39m \u001b[43mmodel\u001b[49m\u001b[43m(\u001b[49m\u001b[43md_z\u001b[49m\u001b[43m,\u001b[49m\u001b[43m \u001b[49m\u001b[43md_x\u001b[49m\u001b[43m,\u001b[49m\u001b[43m \u001b[49m\u001b[43md_e\u001b[49m\u001b[43m,\u001b[49m\u001b[43m \u001b[49m\u001b[43md_a\u001b[49m\u001b[43m,\u001b[49m\u001b[43m \u001b[49m\u001b[43mp_z\u001b[49m\u001b[43m,\u001b[49m\u001b[43m \u001b[49m\u001b[43mp_x_dense\u001b[49m\u001b[43m,\u001b[49m\u001b[43m \u001b[49m\u001b[43mp_e\u001b[49m\u001b[43m,\u001b[49m\u001b[43m \u001b[49m\u001b[43mp_a\u001b[49m\u001b[43m)\u001b[49m\u001b[38;5;241m.\u001b[39msqueeze(\u001b[38;5;241m-\u001b[39m\u001b[38;5;241m1\u001b[39m)\n\u001b[1;32m    177\u001b[0m \u001b[38;5;28;01mif\u001b[39;00m torch\u001b[38;5;241m.\u001b[39misnan(preds)\u001b[38;5;241m.\u001b[39many():\n\u001b[1;32m    178\u001b[0m     \u001b[38;5;28mprint\u001b[39m(\u001b[38;5;124mf\u001b[39m\u001b[38;5;124m\"\u001b[39m\u001b[38;5;124mWarning: NaN detected in training predictions. Skipping batch.\u001b[39m\u001b[38;5;124m\"\u001b[39m)\n",
      "File \u001b[0;32m~/.local/lib/python3.12/site-packages/torch/nn/modules/module.py:1751\u001b[0m, in \u001b[0;36mModule._wrapped_call_impl\u001b[0;34m(self, *args, **kwargs)\u001b[0m\n\u001b[1;32m   1749\u001b[0m     \u001b[38;5;28;01mreturn\u001b[39;00m \u001b[38;5;28mself\u001b[39m\u001b[38;5;241m.\u001b[39m_compiled_call_impl(\u001b[38;5;241m*\u001b[39margs, \u001b[38;5;241m*\u001b[39m\u001b[38;5;241m*\u001b[39mkwargs)  \u001b[38;5;66;03m# type: ignore[misc]\u001b[39;00m\n\u001b[1;32m   1750\u001b[0m \u001b[38;5;28;01melse\u001b[39;00m:\n\u001b[0;32m-> 1751\u001b[0m     \u001b[38;5;28;01mreturn\u001b[39;00m \u001b[38;5;28;43mself\u001b[39;49m\u001b[38;5;241;43m.\u001b[39;49m\u001b[43m_call_impl\u001b[49m\u001b[43m(\u001b[49m\u001b[38;5;241;43m*\u001b[39;49m\u001b[43margs\u001b[49m\u001b[43m,\u001b[49m\u001b[43m \u001b[49m\u001b[38;5;241;43m*\u001b[39;49m\u001b[38;5;241;43m*\u001b[39;49m\u001b[43mkwargs\u001b[49m\u001b[43m)\u001b[49m\n",
      "File \u001b[0;32m~/.local/lib/python3.12/site-packages/torch/nn/modules/module.py:1762\u001b[0m, in \u001b[0;36mModule._call_impl\u001b[0;34m(self, *args, **kwargs)\u001b[0m\n\u001b[1;32m   1757\u001b[0m \u001b[38;5;66;03m# If we don't have any hooks, we want to skip the rest of the logic in\u001b[39;00m\n\u001b[1;32m   1758\u001b[0m \u001b[38;5;66;03m# this function, and just call forward.\u001b[39;00m\n\u001b[1;32m   1759\u001b[0m \u001b[38;5;28;01mif\u001b[39;00m \u001b[38;5;129;01mnot\u001b[39;00m (\u001b[38;5;28mself\u001b[39m\u001b[38;5;241m.\u001b[39m_backward_hooks \u001b[38;5;129;01mor\u001b[39;00m \u001b[38;5;28mself\u001b[39m\u001b[38;5;241m.\u001b[39m_backward_pre_hooks \u001b[38;5;129;01mor\u001b[39;00m \u001b[38;5;28mself\u001b[39m\u001b[38;5;241m.\u001b[39m_forward_hooks \u001b[38;5;129;01mor\u001b[39;00m \u001b[38;5;28mself\u001b[39m\u001b[38;5;241m.\u001b[39m_forward_pre_hooks\n\u001b[1;32m   1760\u001b[0m         \u001b[38;5;129;01mor\u001b[39;00m _global_backward_pre_hooks \u001b[38;5;129;01mor\u001b[39;00m _global_backward_hooks\n\u001b[1;32m   1761\u001b[0m         \u001b[38;5;129;01mor\u001b[39;00m _global_forward_hooks \u001b[38;5;129;01mor\u001b[39;00m _global_forward_pre_hooks):\n\u001b[0;32m-> 1762\u001b[0m     \u001b[38;5;28;01mreturn\u001b[39;00m \u001b[43mforward_call\u001b[49m\u001b[43m(\u001b[49m\u001b[38;5;241;43m*\u001b[39;49m\u001b[43margs\u001b[49m\u001b[43m,\u001b[49m\u001b[43m \u001b[49m\u001b[38;5;241;43m*\u001b[39;49m\u001b[38;5;241;43m*\u001b[39;49m\u001b[43mkwargs\u001b[49m\u001b[43m)\u001b[49m\n\u001b[1;32m   1764\u001b[0m result \u001b[38;5;241m=\u001b[39m \u001b[38;5;28;01mNone\u001b[39;00m\n\u001b[1;32m   1765\u001b[0m called_always_called_hooks \u001b[38;5;241m=\u001b[39m \u001b[38;5;28mset\u001b[39m()\n",
      "File \u001b[0;32m~/Documents/Projects/gat-cd4c/src/model.py:441\u001b[0m, in \u001b[0;36mDualGraphAttentionNetwork.forward\u001b[0;34m(self, d_z, d_x, d_e, d_a, p_z, p_x_dense, p_e, p_a)\u001b[0m\n\u001b[1;32m    439\u001b[0m hd \u001b[38;5;241m=\u001b[39m \u001b[38;5;28mself\u001b[39m\u001b[38;5;241m.\u001b[39mdrug_conv_initial(drug_features_prepared, d_a, d_e)\n\u001b[1;32m    440\u001b[0m \u001b[38;5;28;01mfor\u001b[39;00m layer \u001b[38;5;129;01min\u001b[39;00m \u001b[38;5;28mself\u001b[39m\u001b[38;5;241m.\u001b[39mdrug_conv_layers:\n\u001b[0;32m--> 441\u001b[0m     hd \u001b[38;5;241m=\u001b[39m \u001b[43mlayer\u001b[49m\u001b[43m(\u001b[49m\u001b[43mhd\u001b[49m\u001b[43m,\u001b[49m\u001b[43m \u001b[49m\u001b[43md_a\u001b[49m\u001b[43m,\u001b[49m\u001b[43m \u001b[49m\u001b[43md_e\u001b[49m\u001b[43m)\u001b[49m \u001b[38;5;66;03m# Output of GAT layers is `emb_size`\u001b[39;00m\n\u001b[1;32m    442\u001b[0m \u001b[38;5;66;03m# hd is now [B, N_d, emb_size]\u001b[39;00m\n\u001b[1;32m    443\u001b[0m \n\u001b[1;32m    444\u001b[0m \u001b[38;5;66;03m# --- Protein Branch ---\u001b[39;00m\n\u001b[1;32m    445\u001b[0m \u001b[38;5;28;01mif\u001b[39;00m \u001b[38;5;28mself\u001b[39m\u001b[38;5;241m.\u001b[39muse_prot_feature_prep \u001b[38;5;129;01mand\u001b[39;00m \u001b[38;5;28mself\u001b[39m\u001b[38;5;241m.\u001b[39mprot_feat_prep \u001b[38;5;129;01mis\u001b[39;00m \u001b[38;5;129;01mnot\u001b[39;00m \u001b[38;5;28;01mNone\u001b[39;00m:\n",
      "File \u001b[0;32m~/.local/lib/python3.12/site-packages/torch/nn/modules/module.py:1751\u001b[0m, in \u001b[0;36mModule._wrapped_call_impl\u001b[0;34m(self, *args, **kwargs)\u001b[0m\n\u001b[1;32m   1749\u001b[0m     \u001b[38;5;28;01mreturn\u001b[39;00m \u001b[38;5;28mself\u001b[39m\u001b[38;5;241m.\u001b[39m_compiled_call_impl(\u001b[38;5;241m*\u001b[39margs, \u001b[38;5;241m*\u001b[39m\u001b[38;5;241m*\u001b[39mkwargs)  \u001b[38;5;66;03m# type: ignore[misc]\u001b[39;00m\n\u001b[1;32m   1750\u001b[0m \u001b[38;5;28;01melse\u001b[39;00m:\n\u001b[0;32m-> 1751\u001b[0m     \u001b[38;5;28;01mreturn\u001b[39;00m \u001b[38;5;28;43mself\u001b[39;49m\u001b[38;5;241;43m.\u001b[39;49m\u001b[43m_call_impl\u001b[49m\u001b[43m(\u001b[49m\u001b[38;5;241;43m*\u001b[39;49m\u001b[43margs\u001b[49m\u001b[43m,\u001b[49m\u001b[43m \u001b[49m\u001b[38;5;241;43m*\u001b[39;49m\u001b[38;5;241;43m*\u001b[39;49m\u001b[43mkwargs\u001b[49m\u001b[43m)\u001b[49m\n",
      "File \u001b[0;32m~/.local/lib/python3.12/site-packages/torch/nn/modules/module.py:1762\u001b[0m, in \u001b[0;36mModule._call_impl\u001b[0;34m(self, *args, **kwargs)\u001b[0m\n\u001b[1;32m   1757\u001b[0m \u001b[38;5;66;03m# If we don't have any hooks, we want to skip the rest of the logic in\u001b[39;00m\n\u001b[1;32m   1758\u001b[0m \u001b[38;5;66;03m# this function, and just call forward.\u001b[39;00m\n\u001b[1;32m   1759\u001b[0m \u001b[38;5;28;01mif\u001b[39;00m \u001b[38;5;129;01mnot\u001b[39;00m (\u001b[38;5;28mself\u001b[39m\u001b[38;5;241m.\u001b[39m_backward_hooks \u001b[38;5;129;01mor\u001b[39;00m \u001b[38;5;28mself\u001b[39m\u001b[38;5;241m.\u001b[39m_backward_pre_hooks \u001b[38;5;129;01mor\u001b[39;00m \u001b[38;5;28mself\u001b[39m\u001b[38;5;241m.\u001b[39m_forward_hooks \u001b[38;5;129;01mor\u001b[39;00m \u001b[38;5;28mself\u001b[39m\u001b[38;5;241m.\u001b[39m_forward_pre_hooks\n\u001b[1;32m   1760\u001b[0m         \u001b[38;5;129;01mor\u001b[39;00m _global_backward_pre_hooks \u001b[38;5;129;01mor\u001b[39;00m _global_backward_hooks\n\u001b[1;32m   1761\u001b[0m         \u001b[38;5;129;01mor\u001b[39;00m _global_forward_hooks \u001b[38;5;129;01mor\u001b[39;00m _global_forward_pre_hooks):\n\u001b[0;32m-> 1762\u001b[0m     \u001b[38;5;28;01mreturn\u001b[39;00m \u001b[43mforward_call\u001b[49m\u001b[43m(\u001b[49m\u001b[38;5;241;43m*\u001b[39;49m\u001b[43margs\u001b[49m\u001b[43m,\u001b[49m\u001b[43m \u001b[49m\u001b[38;5;241;43m*\u001b[39;49m\u001b[38;5;241;43m*\u001b[39;49m\u001b[43mkwargs\u001b[49m\u001b[43m)\u001b[49m\n\u001b[1;32m   1764\u001b[0m result \u001b[38;5;241m=\u001b[39m \u001b[38;5;28;01mNone\u001b[39;00m\n\u001b[1;32m   1765\u001b[0m called_always_called_hooks \u001b[38;5;241m=\u001b[39m \u001b[38;5;28mset\u001b[39m()\n",
      "File \u001b[0;32m~/Documents/Projects/gat-cd4c/src/model.py:152\u001b[0m, in \u001b[0;36mGraphAttentionLayer.forward\u001b[0;34m(self, x, adj, edge_attr)\u001b[0m\n\u001b[1;32m    150\u001b[0m Q \u001b[38;5;241m=\u001b[39m \u001b[38;5;28mself\u001b[39m\u001b[38;5;241m.\u001b[39mW_q(x_proj)\u001b[38;5;241m.\u001b[39mview(B, N, \u001b[38;5;28mself\u001b[39m\u001b[38;5;241m.\u001b[39mnum_attn_heads, \u001b[38;5;28mself\u001b[39m\u001b[38;5;241m.\u001b[39mout_features_per_head)\n\u001b[1;32m    151\u001b[0m K \u001b[38;5;241m=\u001b[39m \u001b[38;5;28mself\u001b[39m\u001b[38;5;241m.\u001b[39mW_k(x_proj)\u001b[38;5;241m.\u001b[39mview(B, N, \u001b[38;5;28mself\u001b[39m\u001b[38;5;241m.\u001b[39mnum_attn_heads, \u001b[38;5;28mself\u001b[39m\u001b[38;5;241m.\u001b[39mout_features_per_head)\n\u001b[0;32m--> 152\u001b[0m V \u001b[38;5;241m=\u001b[39m \u001b[38;5;28;43mself\u001b[39;49m\u001b[38;5;241;43m.\u001b[39;49m\u001b[43mW_v\u001b[49m\u001b[43m(\u001b[49m\u001b[43mx_proj\u001b[49m\u001b[43m)\u001b[49m\u001b[38;5;241m.\u001b[39mview(B, N, \u001b[38;5;28mself\u001b[39m\u001b[38;5;241m.\u001b[39mnum_attn_heads, \u001b[38;5;28mself\u001b[39m\u001b[38;5;241m.\u001b[39mout_features_per_head)\n\u001b[1;32m    154\u001b[0m Q \u001b[38;5;241m=\u001b[39m Q\u001b[38;5;241m.\u001b[39mtranspose(\u001b[38;5;241m1\u001b[39m, \u001b[38;5;241m2\u001b[39m)  \u001b[38;5;66;03m# [B, num_heads, N, out_features_per_head]\u001b[39;00m\n\u001b[1;32m    155\u001b[0m K \u001b[38;5;241m=\u001b[39m K\u001b[38;5;241m.\u001b[39mtranspose(\u001b[38;5;241m1\u001b[39m, \u001b[38;5;241m2\u001b[39m)  \u001b[38;5;66;03m# [B, num_heads, N, out_features_per_head]\u001b[39;00m\n",
      "File \u001b[0;32m~/.local/lib/python3.12/site-packages/torch/nn/modules/module.py:1751\u001b[0m, in \u001b[0;36mModule._wrapped_call_impl\u001b[0;34m(self, *args, **kwargs)\u001b[0m\n\u001b[1;32m   1749\u001b[0m     \u001b[38;5;28;01mreturn\u001b[39;00m \u001b[38;5;28mself\u001b[39m\u001b[38;5;241m.\u001b[39m_compiled_call_impl(\u001b[38;5;241m*\u001b[39margs, \u001b[38;5;241m*\u001b[39m\u001b[38;5;241m*\u001b[39mkwargs)  \u001b[38;5;66;03m# type: ignore[misc]\u001b[39;00m\n\u001b[1;32m   1750\u001b[0m \u001b[38;5;28;01melse\u001b[39;00m:\n\u001b[0;32m-> 1751\u001b[0m     \u001b[38;5;28;01mreturn\u001b[39;00m \u001b[38;5;28;43mself\u001b[39;49m\u001b[38;5;241;43m.\u001b[39;49m\u001b[43m_call_impl\u001b[49m\u001b[43m(\u001b[49m\u001b[38;5;241;43m*\u001b[39;49m\u001b[43margs\u001b[49m\u001b[43m,\u001b[49m\u001b[43m \u001b[49m\u001b[38;5;241;43m*\u001b[39;49m\u001b[38;5;241;43m*\u001b[39;49m\u001b[43mkwargs\u001b[49m\u001b[43m)\u001b[49m\n",
      "File \u001b[0;32m~/.local/lib/python3.12/site-packages/torch/nn/modules/module.py:1762\u001b[0m, in \u001b[0;36mModule._call_impl\u001b[0;34m(self, *args, **kwargs)\u001b[0m\n\u001b[1;32m   1757\u001b[0m \u001b[38;5;66;03m# If we don't have any hooks, we want to skip the rest of the logic in\u001b[39;00m\n\u001b[1;32m   1758\u001b[0m \u001b[38;5;66;03m# this function, and just call forward.\u001b[39;00m\n\u001b[1;32m   1759\u001b[0m \u001b[38;5;28;01mif\u001b[39;00m \u001b[38;5;129;01mnot\u001b[39;00m (\u001b[38;5;28mself\u001b[39m\u001b[38;5;241m.\u001b[39m_backward_hooks \u001b[38;5;129;01mor\u001b[39;00m \u001b[38;5;28mself\u001b[39m\u001b[38;5;241m.\u001b[39m_backward_pre_hooks \u001b[38;5;129;01mor\u001b[39;00m \u001b[38;5;28mself\u001b[39m\u001b[38;5;241m.\u001b[39m_forward_hooks \u001b[38;5;129;01mor\u001b[39;00m \u001b[38;5;28mself\u001b[39m\u001b[38;5;241m.\u001b[39m_forward_pre_hooks\n\u001b[1;32m   1760\u001b[0m         \u001b[38;5;129;01mor\u001b[39;00m _global_backward_pre_hooks \u001b[38;5;129;01mor\u001b[39;00m _global_backward_hooks\n\u001b[1;32m   1761\u001b[0m         \u001b[38;5;129;01mor\u001b[39;00m _global_forward_hooks \u001b[38;5;129;01mor\u001b[39;00m _global_forward_pre_hooks):\n\u001b[0;32m-> 1762\u001b[0m     \u001b[38;5;28;01mreturn\u001b[39;00m \u001b[43mforward_call\u001b[49m\u001b[43m(\u001b[49m\u001b[38;5;241;43m*\u001b[39;49m\u001b[43margs\u001b[49m\u001b[43m,\u001b[49m\u001b[43m \u001b[49m\u001b[38;5;241;43m*\u001b[39;49m\u001b[38;5;241;43m*\u001b[39;49m\u001b[43mkwargs\u001b[49m\u001b[43m)\u001b[49m\n\u001b[1;32m   1764\u001b[0m result \u001b[38;5;241m=\u001b[39m \u001b[38;5;28;01mNone\u001b[39;00m\n\u001b[1;32m   1765\u001b[0m called_always_called_hooks \u001b[38;5;241m=\u001b[39m \u001b[38;5;28mset\u001b[39m()\n",
      "File \u001b[0;32m~/.local/lib/python3.12/site-packages/torch/nn/modules/linear.py:125\u001b[0m, in \u001b[0;36mLinear.forward\u001b[0;34m(self, input)\u001b[0m\n\u001b[1;32m    124\u001b[0m \u001b[38;5;28;01mdef\u001b[39;00m \u001b[38;5;21mforward\u001b[39m(\u001b[38;5;28mself\u001b[39m, \u001b[38;5;28minput\u001b[39m: Tensor) \u001b[38;5;241m-\u001b[39m\u001b[38;5;241m>\u001b[39m Tensor:\n\u001b[0;32m--> 125\u001b[0m     \u001b[38;5;28;01mreturn\u001b[39;00m \u001b[43mF\u001b[49m\u001b[38;5;241;43m.\u001b[39;49m\u001b[43mlinear\u001b[49m\u001b[43m(\u001b[49m\u001b[38;5;28;43minput\u001b[39;49m\u001b[43m,\u001b[49m\u001b[43m \u001b[49m\u001b[38;5;28;43mself\u001b[39;49m\u001b[38;5;241;43m.\u001b[39;49m\u001b[43mweight\u001b[49m\u001b[43m,\u001b[49m\u001b[43m \u001b[49m\u001b[38;5;28;43mself\u001b[39;49m\u001b[38;5;241;43m.\u001b[39;49m\u001b[43mbias\u001b[49m\u001b[43m)\u001b[49m\n",
      "File \u001b[0;32m~/.local/lib/python3.12/site-packages/torch/fx/traceback.py:189\u001b[0m, in \u001b[0;36mformat_stack\u001b[0;34m()\u001b[0m\n\u001b[1;32m    186\u001b[0m     \u001b[38;5;28;01mreturn\u001b[39;00m [current_meta\u001b[38;5;241m.\u001b[39mget(\u001b[38;5;124m\"\u001b[39m\u001b[38;5;124mstack_trace\u001b[39m\u001b[38;5;124m\"\u001b[39m, \u001b[38;5;124m\"\u001b[39m\u001b[38;5;124m\"\u001b[39m)]\n\u001b[1;32m    187\u001b[0m \u001b[38;5;28;01melse\u001b[39;00m:\n\u001b[1;32m    188\u001b[0m     \u001b[38;5;66;03m# fallback to traceback.format_stack()\u001b[39;00m\n\u001b[0;32m--> 189\u001b[0m     \u001b[38;5;28;01mreturn\u001b[39;00m traceback\u001b[38;5;241m.\u001b[39mformat_list(\u001b[43mtraceback\u001b[49m\u001b[38;5;241;43m.\u001b[39;49m\u001b[43mextract_stack\u001b[49m\u001b[43m(\u001b[49m\u001b[43m)\u001b[49m[:\u001b[38;5;241m-\u001b[39m\u001b[38;5;241m1\u001b[39m])\n",
      "File \u001b[0;32m/opt/miniconda3/lib/python3.12/traceback.py:232\u001b[0m, in \u001b[0;36mextract_stack\u001b[0;34m(f, limit)\u001b[0m\n\u001b[1;32m    230\u001b[0m \u001b[38;5;28;01mif\u001b[39;00m f \u001b[38;5;129;01mis\u001b[39;00m \u001b[38;5;28;01mNone\u001b[39;00m:\n\u001b[1;32m    231\u001b[0m     f \u001b[38;5;241m=\u001b[39m sys\u001b[38;5;241m.\u001b[39m_getframe()\u001b[38;5;241m.\u001b[39mf_back\n\u001b[0;32m--> 232\u001b[0m stack \u001b[38;5;241m=\u001b[39m \u001b[43mStackSummary\u001b[49m\u001b[38;5;241;43m.\u001b[39;49m\u001b[43mextract\u001b[49m\u001b[43m(\u001b[49m\u001b[43mwalk_stack\u001b[49m\u001b[43m(\u001b[49m\u001b[43mf\u001b[49m\u001b[43m)\u001b[49m\u001b[43m,\u001b[49m\u001b[43m \u001b[49m\u001b[43mlimit\u001b[49m\u001b[38;5;241;43m=\u001b[39;49m\u001b[43mlimit\u001b[49m\u001b[43m)\u001b[49m\n\u001b[1;32m    233\u001b[0m stack\u001b[38;5;241m.\u001b[39mreverse()\n\u001b[1;32m    234\u001b[0m \u001b[38;5;28;01mreturn\u001b[39;00m stack\n",
      "File \u001b[0;32m/opt/miniconda3/lib/python3.12/traceback.py:395\u001b[0m, in \u001b[0;36mStackSummary.extract\u001b[0;34m(klass, frame_gen, limit, lookup_lines, capture_locals)\u001b[0m\n\u001b[1;32m    392\u001b[0m     \u001b[38;5;28;01mfor\u001b[39;00m f, lineno \u001b[38;5;129;01min\u001b[39;00m frame_gen:\n\u001b[1;32m    393\u001b[0m         \u001b[38;5;28;01myield\u001b[39;00m f, (lineno, \u001b[38;5;28;01mNone\u001b[39;00m, \u001b[38;5;28;01mNone\u001b[39;00m, \u001b[38;5;28;01mNone\u001b[39;00m)\n\u001b[0;32m--> 395\u001b[0m \u001b[38;5;28;01mreturn\u001b[39;00m \u001b[43mklass\u001b[49m\u001b[38;5;241;43m.\u001b[39;49m\u001b[43m_extract_from_extended_frame_gen\u001b[49m\u001b[43m(\u001b[49m\n\u001b[1;32m    396\u001b[0m \u001b[43m    \u001b[49m\u001b[43mextended_frame_gen\u001b[49m\u001b[43m(\u001b[49m\u001b[43m)\u001b[49m\u001b[43m,\u001b[49m\u001b[43m \u001b[49m\u001b[43mlimit\u001b[49m\u001b[38;5;241;43m=\u001b[39;49m\u001b[43mlimit\u001b[49m\u001b[43m,\u001b[49m\u001b[43m \u001b[49m\u001b[43mlookup_lines\u001b[49m\u001b[38;5;241;43m=\u001b[39;49m\u001b[43mlookup_lines\u001b[49m\u001b[43m,\u001b[49m\n\u001b[1;32m    397\u001b[0m \u001b[43m    \u001b[49m\u001b[43mcapture_locals\u001b[49m\u001b[38;5;241;43m=\u001b[39;49m\u001b[43mcapture_locals\u001b[49m\u001b[43m)\u001b[49m\n",
      "File \u001b[0;32m/opt/miniconda3/lib/python3.12/traceback.py:434\u001b[0m, in \u001b[0;36mStackSummary._extract_from_extended_frame_gen\u001b[0;34m(klass, frame_gen, limit, lookup_lines, capture_locals)\u001b[0m\n\u001b[1;32m    430\u001b[0m     result\u001b[38;5;241m.\u001b[39mappend(FrameSummary(\n\u001b[1;32m    431\u001b[0m         filename, lineno, name, lookup_line\u001b[38;5;241m=\u001b[39m\u001b[38;5;28;01mFalse\u001b[39;00m, \u001b[38;5;28mlocals\u001b[39m\u001b[38;5;241m=\u001b[39mf_locals,\n\u001b[1;32m    432\u001b[0m         end_lineno\u001b[38;5;241m=\u001b[39mend_lineno, colno\u001b[38;5;241m=\u001b[39mcolno, end_colno\u001b[38;5;241m=\u001b[39mend_colno))\n\u001b[1;32m    433\u001b[0m \u001b[38;5;28;01mfor\u001b[39;00m filename \u001b[38;5;129;01min\u001b[39;00m fnames:\n\u001b[0;32m--> 434\u001b[0m     \u001b[43mlinecache\u001b[49m\u001b[38;5;241;43m.\u001b[39;49m\u001b[43mcheckcache\u001b[49m\u001b[43m(\u001b[49m\u001b[43mfilename\u001b[49m\u001b[43m)\u001b[49m\n\u001b[1;32m    435\u001b[0m \u001b[38;5;66;03m# If immediate lookup was desired, trigger lookups now.\u001b[39;00m\n\u001b[1;32m    436\u001b[0m \u001b[38;5;28;01mif\u001b[39;00m lookup_lines:\n",
      "File \u001b[0;32m/opt/miniconda3/lib/python3.12/linecache.py:72\u001b[0m, in \u001b[0;36mcheckcache\u001b[0;34m(filename)\u001b[0m\n\u001b[1;32m     70\u001b[0m     \u001b[38;5;28;01mcontinue\u001b[39;00m   \u001b[38;5;66;03m# no-op for files loaded via a __loader__\u001b[39;00m\n\u001b[1;32m     71\u001b[0m \u001b[38;5;28;01mtry\u001b[39;00m:\n\u001b[0;32m---> 72\u001b[0m     stat \u001b[38;5;241m=\u001b[39m \u001b[43mos\u001b[49m\u001b[38;5;241;43m.\u001b[39;49m\u001b[43mstat\u001b[49m\u001b[43m(\u001b[49m\u001b[43mfullname\u001b[49m\u001b[43m)\u001b[49m\n\u001b[1;32m     73\u001b[0m \u001b[38;5;28;01mexcept\u001b[39;00m \u001b[38;5;167;01mOSError\u001b[39;00m:\n\u001b[1;32m     74\u001b[0m     cache\u001b[38;5;241m.\u001b[39mpop(filename, \u001b[38;5;28;01mNone\u001b[39;00m)\n",
      "\u001b[0;31mKeyboardInterrupt\u001b[0m: "
     ]
    }
   ],
   "source": [
    "import argparse\n",
    "\n",
    "training_args = argparse.Namespace(**args)\n",
    "train_model(training_args, device)"
   ]
  },
  {
   "cell_type": "code",
   "execution_count": null,
   "metadata": {},
   "outputs": [
    {
     "ename": "KeyError",
     "evalue": "'train_acc'",
     "output_type": "error",
     "traceback": [
      "\u001b[0;31m---------------------------------------------------------------------------\u001b[0m",
      "\u001b[0;31mKeyError\u001b[0m                                  Traceback (most recent call last)",
      "File \u001b[0;32m/opt/miniconda3/lib/python3.12/site-packages/pandas/core/indexes/base.py:3653\u001b[0m, in \u001b[0;36mIndex.get_loc\u001b[0;34m(self, key)\u001b[0m\n\u001b[1;32m   3652\u001b[0m \u001b[38;5;28;01mtry\u001b[39;00m:\n\u001b[0;32m-> 3653\u001b[0m     \u001b[38;5;28;01mreturn\u001b[39;00m \u001b[38;5;28;43mself\u001b[39;49m\u001b[38;5;241;43m.\u001b[39;49m\u001b[43m_engine\u001b[49m\u001b[38;5;241;43m.\u001b[39;49m\u001b[43mget_loc\u001b[49m\u001b[43m(\u001b[49m\u001b[43mcasted_key\u001b[49m\u001b[43m)\u001b[49m\n\u001b[1;32m   3654\u001b[0m \u001b[38;5;28;01mexcept\u001b[39;00m \u001b[38;5;167;01mKeyError\u001b[39;00m \u001b[38;5;28;01mas\u001b[39;00m err:\n",
      "File \u001b[0;32m/opt/miniconda3/lib/python3.12/site-packages/pandas/_libs/index.pyx:147\u001b[0m, in \u001b[0;36mpandas._libs.index.IndexEngine.get_loc\u001b[0;34m()\u001b[0m\n",
      "File \u001b[0;32m/opt/miniconda3/lib/python3.12/site-packages/pandas/_libs/index.pyx:176\u001b[0m, in \u001b[0;36mpandas._libs.index.IndexEngine.get_loc\u001b[0;34m()\u001b[0m\n",
      "File \u001b[0;32mpandas/_libs/hashtable_class_helper.pxi:7080\u001b[0m, in \u001b[0;36mpandas._libs.hashtable.PyObjectHashTable.get_item\u001b[0;34m()\u001b[0m\n",
      "File \u001b[0;32mpandas/_libs/hashtable_class_helper.pxi:7088\u001b[0m, in \u001b[0;36mpandas._libs.hashtable.PyObjectHashTable.get_item\u001b[0;34m()\u001b[0m\n",
      "\u001b[0;31mKeyError\u001b[0m: 'train_acc'",
      "\nThe above exception was the direct cause of the following exception:\n",
      "\u001b[0;31mKeyError\u001b[0m                                  Traceback (most recent call last)",
      "Cell \u001b[0;32mIn[6], line 8\u001b[0m\n\u001b[1;32m      5\u001b[0m csv_path \u001b[38;5;241m=\u001b[39m \u001b[38;5;124mf\u001b[39m\u001b[38;5;124m\"\u001b[39m\u001b[38;5;132;01m{\u001b[39;00mtraining_args\u001b[38;5;241m.\u001b[39mmodel_path\u001b[38;5;132;01m}\u001b[39;00m\u001b[38;5;124m.csv\u001b[39m\u001b[38;5;124m\"\u001b[39m\n\u001b[1;32m      6\u001b[0m metrics \u001b[38;5;241m=\u001b[39m pd\u001b[38;5;241m.\u001b[39mread_csv(csv_path) \n\u001b[0;32m----> 8\u001b[0m \u001b[43mplot_loss_curves\u001b[49m\u001b[43m(\u001b[49m\u001b[43mmetrics\u001b[49m\u001b[43m)\u001b[49m\n",
      "File \u001b[0;32m~/Documents/Projects/gat-cd4c/src/utils/helper_functions.py:250\u001b[0m, in \u001b[0;36mplot_loss_curves\u001b[0;34m(results)\u001b[0m\n\u001b[1;32m    247\u001b[0m loss \u001b[38;5;241m=\u001b[39m [to_cpu_scalar(x) \u001b[38;5;28;01mfor\u001b[39;00m x \u001b[38;5;129;01min\u001b[39;00m results[\u001b[38;5;124m\"\u001b[39m\u001b[38;5;124mtrain_loss\u001b[39m\u001b[38;5;124m\"\u001b[39m]\u001b[38;5;241m.\u001b[39mtolist()]\n\u001b[1;32m    248\u001b[0m validation_loss \u001b[38;5;241m=\u001b[39m [to_cpu_scalar(x) \u001b[38;5;28;01mfor\u001b[39;00m x \u001b[38;5;129;01min\u001b[39;00m results[\u001b[38;5;124m\"\u001b[39m\u001b[38;5;124mvalidation_loss\u001b[39m\u001b[38;5;124m\"\u001b[39m]\u001b[38;5;241m.\u001b[39mtolist()]\n\u001b[0;32m--> 250\u001b[0m accuracy \u001b[38;5;241m=\u001b[39m [to_cpu_scalar(x) \u001b[38;5;28;01mfor\u001b[39;00m x \u001b[38;5;129;01min\u001b[39;00m \u001b[43mresults\u001b[49m\u001b[43m[\u001b[49m\u001b[38;5;124;43m\"\u001b[39;49m\u001b[38;5;124;43mtrain_acc\u001b[39;49m\u001b[38;5;124;43m\"\u001b[39;49m\u001b[43m]\u001b[49m\u001b[38;5;241m.\u001b[39mtolist()]\n\u001b[1;32m    251\u001b[0m validation_accuracy \u001b[38;5;241m=\u001b[39m [to_cpu_scalar(x) \u001b[38;5;28;01mfor\u001b[39;00m x \u001b[38;5;129;01min\u001b[39;00m results[\u001b[38;5;124m\"\u001b[39m\u001b[38;5;124mvalidation_acc\u001b[39m\u001b[38;5;124m\"\u001b[39m]\u001b[38;5;241m.\u001b[39mtolist()]\n\u001b[1;32m    253\u001b[0m epochs \u001b[38;5;241m=\u001b[39m \u001b[38;5;28mrange\u001b[39m(results\u001b[38;5;241m.\u001b[39mshape[\u001b[38;5;241m0\u001b[39m])\n",
      "File \u001b[0;32m/opt/miniconda3/lib/python3.12/site-packages/pandas/core/frame.py:3761\u001b[0m, in \u001b[0;36mDataFrame.__getitem__\u001b[0;34m(self, key)\u001b[0m\n\u001b[1;32m   3759\u001b[0m \u001b[38;5;28;01mif\u001b[39;00m \u001b[38;5;28mself\u001b[39m\u001b[38;5;241m.\u001b[39mcolumns\u001b[38;5;241m.\u001b[39mnlevels \u001b[38;5;241m>\u001b[39m \u001b[38;5;241m1\u001b[39m:\n\u001b[1;32m   3760\u001b[0m     \u001b[38;5;28;01mreturn\u001b[39;00m \u001b[38;5;28mself\u001b[39m\u001b[38;5;241m.\u001b[39m_getitem_multilevel(key)\n\u001b[0;32m-> 3761\u001b[0m indexer \u001b[38;5;241m=\u001b[39m \u001b[38;5;28;43mself\u001b[39;49m\u001b[38;5;241;43m.\u001b[39;49m\u001b[43mcolumns\u001b[49m\u001b[38;5;241;43m.\u001b[39;49m\u001b[43mget_loc\u001b[49m\u001b[43m(\u001b[49m\u001b[43mkey\u001b[49m\u001b[43m)\u001b[49m\n\u001b[1;32m   3762\u001b[0m \u001b[38;5;28;01mif\u001b[39;00m is_integer(indexer):\n\u001b[1;32m   3763\u001b[0m     indexer \u001b[38;5;241m=\u001b[39m [indexer]\n",
      "File \u001b[0;32m/opt/miniconda3/lib/python3.12/site-packages/pandas/core/indexes/base.py:3655\u001b[0m, in \u001b[0;36mIndex.get_loc\u001b[0;34m(self, key)\u001b[0m\n\u001b[1;32m   3653\u001b[0m     \u001b[38;5;28;01mreturn\u001b[39;00m \u001b[38;5;28mself\u001b[39m\u001b[38;5;241m.\u001b[39m_engine\u001b[38;5;241m.\u001b[39mget_loc(casted_key)\n\u001b[1;32m   3654\u001b[0m \u001b[38;5;28;01mexcept\u001b[39;00m \u001b[38;5;167;01mKeyError\u001b[39;00m \u001b[38;5;28;01mas\u001b[39;00m err:\n\u001b[0;32m-> 3655\u001b[0m     \u001b[38;5;28;01mraise\u001b[39;00m \u001b[38;5;167;01mKeyError\u001b[39;00m(key) \u001b[38;5;28;01mfrom\u001b[39;00m \u001b[38;5;21;01merr\u001b[39;00m\n\u001b[1;32m   3656\u001b[0m \u001b[38;5;28;01mexcept\u001b[39;00m \u001b[38;5;167;01mTypeError\u001b[39;00m:\n\u001b[1;32m   3657\u001b[0m     \u001b[38;5;66;03m# If we have a listlike key, _check_indexing_error will raise\u001b[39;00m\n\u001b[1;32m   3658\u001b[0m     \u001b[38;5;66;03m#  InvalidIndexError. Otherwise we fall through and re-raise\u001b[39;00m\n\u001b[1;32m   3659\u001b[0m     \u001b[38;5;66;03m#  the TypeError.\u001b[39;00m\n\u001b[1;32m   3660\u001b[0m     \u001b[38;5;28mself\u001b[39m\u001b[38;5;241m.\u001b[39m_check_indexing_error(key)\n",
      "\u001b[0;31mKeyError\u001b[0m: 'train_acc'"
     ]
    }
   ],
   "source": [
    "import pandas as pd\n",
    "\n",
    "from utils.helper_functions import plot_loss_curves\n",
    "\n",
    "csv_path = f\"{training_args.model_path}.csv\"\n",
    "metrics = pd.read_csv(csv_path) \n",
    "\n",
    "plot_loss_curves(metrics)"
   ]
  },
  {
   "cell_type": "code",
   "execution_count": null,
   "metadata": {},
   "outputs": [],
   "source": []
  }
 ],
 "metadata": {
  "kernelspec": {
   "display_name": "base",
   "language": "python",
   "name": "python3"
  },
  "language_info": {
   "codemirror_mode": {
    "name": "ipython",
    "version": 3
   },
   "file_extension": ".py",
   "mimetype": "text/x-python",
   "name": "python",
   "nbconvert_exporter": "python",
   "pygments_lexer": "ipython3",
   "version": "3.12.2"
  }
 },
 "nbformat": 4,
 "nbformat_minor": 4
}
