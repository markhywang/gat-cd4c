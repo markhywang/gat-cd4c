{
 "cells": [
  {
   "cell_type": "code",
   "execution_count": 1,
   "metadata": {},
   "outputs": [
    {
     "name": "stdout",
     "output_type": "stream",
     "text": [
      "Using device: cpu\n"
     ]
    }
   ],
   "source": [
    "import torch\n",
    "\n",
    "# Local imports\n",
    "from train import train_model"
   ]
  },
  {
   "cell_type": "code",
   "execution_count": 2,
   "metadata": {},
   "outputs": [
    {
     "name": "stdout",
     "output_type": "stream",
     "text": [
      "Using device: cuda:0\n"
     ]
    }
   ],
   "source": [
    "if torch.backends.mps.is_available():\n",
    "    device = torch.device(\"mps\")\n",
    "elif torch.cuda.is_available():\n",
    "    device = torch.device(\"cuda:0\")\n",
    "else:\n",
    "    device = torch.device(\"cpu\")\n",
    "\n",
    "print(f\"Using device: {device}\")"
   ]
  },
  {
   "cell_type": "code",
   "execution_count": 3,
   "metadata": {},
   "outputs": [],
   "source": [
    "args = {\n",
    "    \"use_small_dataset\": True,\n",
    "    \"batch_size\": 64,\n",
    "    \"stoppage_epochs\": 42,\n",
    "    \"max_epochs\": 512,\n",
    "    \"seed\": 42,\n",
    "    \"data_path\": \"../data\",\n",
    "    \"frac_train\": 0.8,\n",
    "    \"frac_validation\": 0.1,\n",
    "    \"frac_test\": 0.1,\n",
    "    \"huber_beta\": 1.0,\n",
    "    \"weight_decay\": 1e-3,\n",
    "    \"lr\": 3e-4,\n",
    "    \"scheduler_patience\": 10,\n",
    "    \"scheduler_factor\": 0.5,\n",
    "    \"hidden_size\": 96,\n",
    "    \"num_layers\": 7,\n",
    "    \"num_attn_heads\": 6,\n",
    "    \"dropout\": 0.2,\n",
    "    \"leaky_relu_slope\": 0.2,\n",
    "    \"pooling_dim\": 96,\n",
    "}"
   ]
  },
  {
   "cell_type": "code",
   "execution_count": 4,
   "metadata": {},
   "outputs": [
    {
     "name": "stdout",
     "output_type": "stream",
     "text": [
      "Model parameters: 182714\n"
     ]
    },
    {
     "name": "stderr",
     "output_type": "stream",
     "text": [
      "Epoch 1/512: 100%|██████████████████████████████████████████████████████████████████████████████████████████████████████████████████████| 910/910 [02:26<00:00,  6.20it/s]\n"
     ]
    },
    {
     "name": "stdout",
     "output_type": "stream",
     "text": [
      "Epoch 1/512: Train Loss = 0.54719, Validation Loss = 0.53964, Train Accuracy = 0.61037, Validation Accuracy = 0.59596\n"
     ]
    },
    {
     "name": "stderr",
     "output_type": "stream",
     "text": [
      "Epoch 2/512: 100%|██████████████████████████████████████████████████████████████████████████████████████████████████████████████████████| 910/910 [00:44<00:00, 20.59it/s]\n"
     ]
    },
    {
     "name": "stdout",
     "output_type": "stream",
     "text": [
      "Epoch 2/512: Train Loss = 0.53680, Validation Loss = 0.52118, Train Accuracy = 0.62087, Validation Accuracy = 0.61933\n"
     ]
    },
    {
     "name": "stderr",
     "output_type": "stream",
     "text": [
      "Epoch 3/512: 100%|██████████████████████████████████████████████████████████████████████████████████████████████████████████████████████| 910/910 [00:44<00:00, 20.59it/s]\n"
     ]
    },
    {
     "name": "stdout",
     "output_type": "stream",
     "text": [
      "Epoch 3/512: Train Loss = 0.51837, Validation Loss = 0.51151, Train Accuracy = 0.63290, Validation Accuracy = 0.64380\n"
     ]
    },
    {
     "name": "stderr",
     "output_type": "stream",
     "text": [
      "Epoch 4/512: 100%|██████████████████████████████████████████████████████████████████████████████████████████████████████████████████████| 910/910 [00:44<00:00, 20.56it/s]\n"
     ]
    },
    {
     "name": "stdout",
     "output_type": "stream",
     "text": [
      "Epoch 4/512: Train Loss = 0.50387, Validation Loss = 0.50175, Train Accuracy = 0.65005, Validation Accuracy = 0.63734\n"
     ]
    },
    {
     "name": "stderr",
     "output_type": "stream",
     "text": [
      "Epoch 5/512: 100%|██████████████████████████████████████████████████████████████████████████████████████████████████████████████████████| 910/910 [00:44<00:00, 20.48it/s]\n"
     ]
    },
    {
     "name": "stdout",
     "output_type": "stream",
     "text": [
      "Epoch 5/512: Train Loss = 0.49616, Validation Loss = 0.48750, Train Accuracy = 0.65674, Validation Accuracy = 0.66057\n"
     ]
    },
    {
     "name": "stderr",
     "output_type": "stream",
     "text": [
      "Epoch 6/512: 100%|██████████████████████████████████████████████████████████████████████████████████████████████████████████████████████| 910/910 [00:44<00:00, 20.49it/s]\n"
     ]
    },
    {
     "name": "stdout",
     "output_type": "stream",
     "text": [
      "Epoch 6/512: Train Loss = 0.48739, Validation Loss = 0.47742, Train Accuracy = 0.66257, Validation Accuracy = 0.67212\n"
     ]
    },
    {
     "name": "stderr",
     "output_type": "stream",
     "text": [
      "Epoch 7/512: 100%|██████████████████████████████████████████████████████████████████████████████████████████████████████████████████████| 910/910 [00:44<00:00, 20.54it/s]\n"
     ]
    },
    {
     "name": "stdout",
     "output_type": "stream",
     "text": [
      "Epoch 7/512: Train Loss = 0.47911, Validation Loss = 0.46099, Train Accuracy = 0.66944, Validation Accuracy = 0.68078\n"
     ]
    },
    {
     "name": "stderr",
     "output_type": "stream",
     "text": [
      "Epoch 8/512: 100%|██████████████████████████████████████████████████████████████████████████████████████████████████████████████████████| 910/910 [00:44<00:00, 20.49it/s]\n"
     ]
    },
    {
     "name": "stdout",
     "output_type": "stream",
     "text": [
      "Epoch 8/512: Train Loss = 0.46799, Validation Loss = 0.45904, Train Accuracy = 0.67803, Validation Accuracy = 0.68600\n"
     ]
    },
    {
     "name": "stderr",
     "output_type": "stream",
     "text": [
      "Epoch 9/512: 100%|██████████████████████████████████████████████████████████████████████████████████████████████████████████████████████| 910/910 [00:44<00:00, 20.49it/s]\n"
     ]
    },
    {
     "name": "stdout",
     "output_type": "stream",
     "text": [
      "Epoch 9/512: Train Loss = 0.45775, Validation Loss = 0.44153, Train Accuracy = 0.68606, Validation Accuracy = 0.69247\n"
     ]
    },
    {
     "name": "stderr",
     "output_type": "stream",
     "text": [
      "Epoch 10/512: 100%|█████████████████████████████████████████████████████████████████████████████████████████████████████████████████████| 910/910 [00:44<00:00, 20.45it/s]\n"
     ]
    },
    {
     "name": "stdout",
     "output_type": "stream",
     "text": [
      "Epoch 10/512: Train Loss = 0.45034, Validation Loss = 0.47424, Train Accuracy = 0.69175, Validation Accuracy = 0.68188\n"
     ]
    },
    {
     "name": "stderr",
     "output_type": "stream",
     "text": [
      "Epoch 11/512: 100%|█████████████████████████████████████████████████████████████████████████████████████████████████████████████████████| 910/910 [00:44<00:00, 20.39it/s]\n"
     ]
    },
    {
     "name": "stdout",
     "output_type": "stream",
     "text": [
      "Epoch 11/512: Train Loss = 0.44205, Validation Loss = 0.45264, Train Accuracy = 0.69663, Validation Accuracy = 0.69687\n"
     ]
    },
    {
     "name": "stderr",
     "output_type": "stream",
     "text": [
      "Epoch 12/512: 100%|█████████████████████████████████████████████████████████████████████████████████████████████████████████████████████| 910/910 [00:44<00:00, 20.52it/s]\n"
     ]
    },
    {
     "name": "stdout",
     "output_type": "stream",
     "text": [
      "Epoch 12/512: Train Loss = 0.43357, Validation Loss = 0.41813, Train Accuracy = 0.70371, Validation Accuracy = 0.70731\n"
     ]
    },
    {
     "name": "stderr",
     "output_type": "stream",
     "text": [
      "Epoch 13/512: 100%|█████████████████████████████████████████████████████████████████████████████████████████████████████████████████████| 910/910 [00:44<00:00, 20.58it/s]\n"
     ]
    },
    {
     "name": "stdout",
     "output_type": "stream",
     "text": [
      "Epoch 13/512: Train Loss = 0.42704, Validation Loss = 0.42893, Train Accuracy = 0.70653, Validation Accuracy = 0.71034\n"
     ]
    },
    {
     "name": "stderr",
     "output_type": "stream",
     "text": [
      "Epoch 14/512: 100%|█████████████████████████████████████████████████████████████████████████████████████████████████████████████████████| 910/910 [00:44<00:00, 20.55it/s]\n"
     ]
    },
    {
     "name": "stdout",
     "output_type": "stream",
     "text": [
      "Epoch 14/512: Train Loss = 0.42124, Validation Loss = 0.40858, Train Accuracy = 0.71115, Validation Accuracy = 0.71570\n"
     ]
    },
    {
     "name": "stderr",
     "output_type": "stream",
     "text": [
      "Epoch 15/512: 100%|█████████████████████████████████████████████████████████████████████████████████████████████████████████████████████| 910/910 [00:44<00:00, 20.49it/s]\n"
     ]
    },
    {
     "name": "stdout",
     "output_type": "stream",
     "text": [
      "Epoch 15/512: Train Loss = 0.41610, Validation Loss = 0.43144, Train Accuracy = 0.71239, Validation Accuracy = 0.70415\n"
     ]
    },
    {
     "name": "stderr",
     "output_type": "stream",
     "text": [
      "Epoch 16/512: 100%|█████████████████████████████████████████████████████████████████████████████████████████████████████████████████████| 910/910 [00:44<00:00, 20.60it/s]\n"
     ]
    },
    {
     "name": "stdout",
     "output_type": "stream",
     "text": [
      "Epoch 16/512: Train Loss = 0.41170, Validation Loss = 0.39291, Train Accuracy = 0.71637, Validation Accuracy = 0.72972\n"
     ]
    },
    {
     "name": "stderr",
     "output_type": "stream",
     "text": [
      "Epoch 17/512: 100%|█████████████████████████████████████████████████████████████████████████████████████████████████████████████████████| 910/910 [00:44<00:00, 20.47it/s]\n"
     ]
    },
    {
     "name": "stdout",
     "output_type": "stream",
     "text": [
      "Epoch 17/512: Train Loss = 0.40627, Validation Loss = 0.39726, Train Accuracy = 0.72019, Validation Accuracy = 0.72642\n"
     ]
    },
    {
     "name": "stderr",
     "output_type": "stream",
     "text": [
      "Epoch 18/512: 100%|█████████████████████████████████████████████████████████████████████████████████████████████████████████████████████| 910/910 [00:44<00:00, 20.29it/s]\n"
     ]
    },
    {
     "name": "stdout",
     "output_type": "stream",
     "text": [
      "Epoch 18/512: Train Loss = 0.40254, Validation Loss = 0.39162, Train Accuracy = 0.72203, Validation Accuracy = 0.72945\n"
     ]
    },
    {
     "name": "stderr",
     "output_type": "stream",
     "text": [
      "Epoch 19/512: 100%|█████████████████████████████████████████████████████████████████████████████████████████████████████████████████████| 910/910 [00:44<00:00, 20.50it/s]\n"
     ]
    },
    {
     "name": "stdout",
     "output_type": "stream",
     "text": [
      "Epoch 19/512: Train Loss = 0.40100, Validation Loss = 0.38396, Train Accuracy = 0.72562, Validation Accuracy = 0.73343\n"
     ]
    },
    {
     "name": "stderr",
     "output_type": "stream",
     "text": [
      "Epoch 20/512: 100%|█████████████████████████████████████████████████████████████████████████████████████████████████████████████████████| 910/910 [00:44<00:00, 20.55it/s]\n"
     ]
    },
    {
     "name": "stdout",
     "output_type": "stream",
     "text": [
      "Epoch 20/512: Train Loss = 0.39574, Validation Loss = 0.42257, Train Accuracy = 0.72954, Validation Accuracy = 0.71597\n"
     ]
    },
    {
     "name": "stderr",
     "output_type": "stream",
     "text": [
      "Epoch 21/512: 100%|█████████████████████████████████████████████████████████████████████████████████████████████████████████████████████| 910/910 [00:44<00:00, 20.39it/s]\n"
     ]
    },
    {
     "name": "stdout",
     "output_type": "stream",
     "text": [
      "Epoch 21/512: Train Loss = 0.39145, Validation Loss = 0.39635, Train Accuracy = 0.73058, Validation Accuracy = 0.72931\n"
     ]
    },
    {
     "name": "stderr",
     "output_type": "stream",
     "text": [
      "Epoch 22/512: 100%|█████████████████████████████████████████████████████████████████████████████████████████████████████████████████████| 910/910 [00:44<00:00, 20.38it/s]\n"
     ]
    },
    {
     "name": "stdout",
     "output_type": "stream",
     "text": [
      "Epoch 22/512: Train Loss = 0.38877, Validation Loss = 0.37465, Train Accuracy = 0.73115, Validation Accuracy = 0.73701\n"
     ]
    },
    {
     "name": "stderr",
     "output_type": "stream",
     "text": [
      "Epoch 23/512: 100%|█████████████████████████████████████████████████████████████████████████████████████████████████████████████████████| 910/910 [00:44<00:00, 20.40it/s]\n"
     ]
    },
    {
     "name": "stdout",
     "output_type": "stream",
     "text": [
      "Epoch 23/512: Train Loss = 0.38639, Validation Loss = 0.38010, Train Accuracy = 0.73218, Validation Accuracy = 0.73880\n"
     ]
    },
    {
     "name": "stderr",
     "output_type": "stream",
     "text": [
      "Epoch 24/512: 100%|█████████████████████████████████████████████████████████████████████████████████████████████████████████████████████| 910/910 [00:44<00:00, 20.49it/s]\n"
     ]
    },
    {
     "name": "stdout",
     "output_type": "stream",
     "text": [
      "Epoch 24/512: Train Loss = 0.38411, Validation Loss = 0.41659, Train Accuracy = 0.73505, Validation Accuracy = 0.73481\n"
     ]
    },
    {
     "name": "stderr",
     "output_type": "stream",
     "text": [
      "Epoch 25/512: 100%|█████████████████████████████████████████████████████████████████████████████████████████████████████████████████████| 910/910 [00:44<00:00, 20.49it/s]\n"
     ]
    },
    {
     "name": "stdout",
     "output_type": "stream",
     "text": [
      "Epoch 25/512: Train Loss = 0.38080, Validation Loss = 0.37573, Train Accuracy = 0.73663, Validation Accuracy = 0.74058\n"
     ]
    },
    {
     "name": "stderr",
     "output_type": "stream",
     "text": [
      "Epoch 26/512: 100%|█████████████████████████████████████████████████████████████████████████████████████████████████████████████████████| 910/910 [00:44<00:00, 20.45it/s]\n"
     ]
    },
    {
     "name": "stdout",
     "output_type": "stream",
     "text": [
      "Epoch 26/512: Train Loss = 0.37919, Validation Loss = 0.37878, Train Accuracy = 0.73717, Validation Accuracy = 0.74512\n"
     ]
    },
    {
     "name": "stderr",
     "output_type": "stream",
     "text": [
      "Epoch 27/512: 100%|█████████████████████████████████████████████████████████████████████████████████████████████████████████████████████| 910/910 [00:44<00:00, 20.37it/s]\n"
     ]
    },
    {
     "name": "stdout",
     "output_type": "stream",
     "text": [
      "Epoch 27/512: Train Loss = 0.37688, Validation Loss = 0.36758, Train Accuracy = 0.73883, Validation Accuracy = 0.74333\n"
     ]
    },
    {
     "name": "stderr",
     "output_type": "stream",
     "text": [
      "Epoch 28/512: 100%|█████████████████████████████████████████████████████████████████████████████████████████████████████████████████████| 910/910 [00:44<00:00, 20.46it/s]\n"
     ]
    },
    {
     "name": "stdout",
     "output_type": "stream",
     "text": [
      "Epoch 28/512: Train Loss = 0.37301, Validation Loss = 0.39406, Train Accuracy = 0.74164, Validation Accuracy = 0.73508\n"
     ]
    },
    {
     "name": "stderr",
     "output_type": "stream",
     "text": [
      "Epoch 29/512: 100%|█████████████████████████████████████████████████████████████████████████████████████████████████████████████████████| 910/910 [00:44<00:00, 20.39it/s]\n"
     ]
    },
    {
     "name": "stdout",
     "output_type": "stream",
     "text": [
      "Epoch 29/512: Train Loss = 0.37181, Validation Loss = 0.38233, Train Accuracy = 0.74155, Validation Accuracy = 0.73137\n"
     ]
    },
    {
     "name": "stderr",
     "output_type": "stream",
     "text": [
      "Epoch 30/512: 100%|█████████████████████████████████████████████████████████████████████████████████████████████████████████████████████| 910/910 [00:44<00:00, 20.41it/s]\n"
     ]
    },
    {
     "name": "stdout",
     "output_type": "stream",
     "text": [
      "Epoch 30/512: Train Loss = 0.37174, Validation Loss = 0.36004, Train Accuracy = 0.73861, Validation Accuracy = 0.74704\n"
     ]
    },
    {
     "name": "stderr",
     "output_type": "stream",
     "text": [
      "Epoch 31/512: 100%|█████████████████████████████████████████████████████████████████████████████████████████████████████████████████████| 910/910 [00:44<00:00, 20.47it/s]\n"
     ]
    },
    {
     "name": "stdout",
     "output_type": "stream",
     "text": [
      "Epoch 31/512: Train Loss = 0.36750, Validation Loss = 0.36992, Train Accuracy = 0.74559, Validation Accuracy = 0.74196\n"
     ]
    },
    {
     "name": "stderr",
     "output_type": "stream",
     "text": [
      "Epoch 32/512: 100%|█████████████████████████████████████████████████████████████████████████████████████████████████████████████████████| 910/910 [00:44<00:00, 20.39it/s]\n"
     ]
    },
    {
     "name": "stdout",
     "output_type": "stream",
     "text": [
      "Epoch 32/512: Train Loss = 0.36545, Validation Loss = 0.36104, Train Accuracy = 0.74552, Validation Accuracy = 0.74677\n"
     ]
    },
    {
     "name": "stderr",
     "output_type": "stream",
     "text": [
      "Epoch 33/512: 100%|█████████████████████████████████████████████████████████████████████████████████████████████████████████████████████| 910/910 [00:44<00:00, 20.52it/s]\n"
     ]
    },
    {
     "name": "stdout",
     "output_type": "stream",
     "text": [
      "Epoch 33/512: Train Loss = 0.36440, Validation Loss = 0.35561, Train Accuracy = 0.74497, Validation Accuracy = 0.75818\n"
     ]
    },
    {
     "name": "stderr",
     "output_type": "stream",
     "text": [
      "Epoch 34/512: 100%|█████████████████████████████████████████████████████████████████████████████████████████████████████████████████████| 910/910 [00:44<00:00, 20.46it/s]\n"
     ]
    },
    {
     "name": "stdout",
     "output_type": "stream",
     "text": [
      "Epoch 34/512: Train Loss = 0.36187, Validation Loss = 0.36227, Train Accuracy = 0.74609, Validation Accuracy = 0.74828\n"
     ]
    },
    {
     "name": "stderr",
     "output_type": "stream",
     "text": [
      "Epoch 35/512: 100%|█████████████████████████████████████████████████████████████████████████████████████████████████████████████████████| 910/910 [00:44<00:00, 20.42it/s]\n"
     ]
    },
    {
     "name": "stdout",
     "output_type": "stream",
     "text": [
      "Epoch 35/512: Train Loss = 0.36016, Validation Loss = 0.35538, Train Accuracy = 0.74920, Validation Accuracy = 0.75626\n"
     ]
    },
    {
     "name": "stderr",
     "output_type": "stream",
     "text": [
      "Epoch 36/512: 100%|█████████████████████████████████████████████████████████████████████████████████████████████████████████████████████| 910/910 [00:44<00:00, 20.42it/s]\n"
     ]
    },
    {
     "name": "stdout",
     "output_type": "stream",
     "text": [
      "Epoch 36/512: Train Loss = 0.35844, Validation Loss = 0.34409, Train Accuracy = 0.74882, Validation Accuracy = 0.75571\n"
     ]
    },
    {
     "name": "stderr",
     "output_type": "stream",
     "text": [
      "Epoch 37/512: 100%|█████████████████████████████████████████████████████████████████████████████████████████████████████████████████████| 910/910 [00:44<00:00, 20.54it/s]\n"
     ]
    },
    {
     "name": "stdout",
     "output_type": "stream",
     "text": [
      "Epoch 37/512: Train Loss = 0.35799, Validation Loss = 0.35359, Train Accuracy = 0.74923, Validation Accuracy = 0.75378\n"
     ]
    },
    {
     "name": "stderr",
     "output_type": "stream",
     "text": [
      "Epoch 38/512: 100%|█████████████████████████████████████████████████████████████████████████████████████████████████████████████████████| 910/910 [00:44<00:00, 20.36it/s]\n"
     ]
    },
    {
     "name": "stdout",
     "output_type": "stream",
     "text": [
      "Epoch 38/512: Train Loss = 0.35576, Validation Loss = 0.36037, Train Accuracy = 0.75019, Validation Accuracy = 0.75461\n"
     ]
    },
    {
     "name": "stderr",
     "output_type": "stream",
     "text": [
      "Epoch 39/512: 100%|█████████████████████████████████████████████████████████████████████████████████████████████████████████████████████| 910/910 [00:44<00:00, 20.42it/s]\n"
     ]
    },
    {
     "name": "stdout",
     "output_type": "stream",
     "text": [
      "Epoch 39/512: Train Loss = 0.35150, Validation Loss = 0.34869, Train Accuracy = 0.75366, Validation Accuracy = 0.75584\n"
     ]
    },
    {
     "name": "stderr",
     "output_type": "stream",
     "text": [
      "Epoch 40/512: 100%|█████████████████████████████████████████████████████████████████████████████████████████████████████████████████████| 910/910 [00:44<00:00, 20.41it/s]\n"
     ]
    },
    {
     "name": "stdout",
     "output_type": "stream",
     "text": [
      "Epoch 40/512: Train Loss = 0.35154, Validation Loss = 0.33808, Train Accuracy = 0.75387, Validation Accuracy = 0.76272\n"
     ]
    },
    {
     "name": "stderr",
     "output_type": "stream",
     "text": [
      "Epoch 41/512: 100%|█████████████████████████████████████████████████████████████████████████████████████████████████████████████████████| 910/910 [00:44<00:00, 20.51it/s]\n"
     ]
    },
    {
     "name": "stdout",
     "output_type": "stream",
     "text": [
      "Epoch 41/512: Train Loss = 0.35023, Validation Loss = 0.34360, Train Accuracy = 0.75538, Validation Accuracy = 0.75887\n"
     ]
    },
    {
     "name": "stderr",
     "output_type": "stream",
     "text": [
      "Epoch 42/512: 100%|█████████████████████████████████████████████████████████████████████████████████████████████████████████████████████| 910/910 [00:44<00:00, 20.55it/s]\n"
     ]
    },
    {
     "name": "stdout",
     "output_type": "stream",
     "text": [
      "Epoch 42/512: Train Loss = 0.35079, Validation Loss = 0.37439, Train Accuracy = 0.75361, Validation Accuracy = 0.75172\n"
     ]
    },
    {
     "name": "stderr",
     "output_type": "stream",
     "text": [
      "Epoch 43/512: 100%|█████████████████████████████████████████████████████████████████████████████████████████████████████████████████████| 910/910 [00:44<00:00, 20.44it/s]\n"
     ]
    },
    {
     "name": "stdout",
     "output_type": "stream",
     "text": [
      "Epoch 43/512: Train Loss = 0.34810, Validation Loss = 0.34829, Train Accuracy = 0.75521, Validation Accuracy = 0.75955\n"
     ]
    },
    {
     "name": "stderr",
     "output_type": "stream",
     "text": [
      "Epoch 44/512: 100%|█████████████████████████████████████████████████████████████████████████████████████████████████████████████████████| 910/910 [00:44<00:00, 20.40it/s]\n"
     ]
    },
    {
     "name": "stdout",
     "output_type": "stream",
     "text": [
      "Epoch 44/512: Train Loss = 0.34615, Validation Loss = 0.34771, Train Accuracy = 0.75719, Validation Accuracy = 0.75790\n"
     ]
    },
    {
     "name": "stderr",
     "output_type": "stream",
     "text": [
      "Epoch 45/512: 100%|█████████████████████████████████████████████████████████████████████████████████████████████████████████████████████| 910/910 [00:44<00:00, 20.43it/s]\n"
     ]
    },
    {
     "name": "stdout",
     "output_type": "stream",
     "text": [
      "Epoch 45/512: Train Loss = 0.34565, Validation Loss = 0.34685, Train Accuracy = 0.75635, Validation Accuracy = 0.76382\n"
     ]
    },
    {
     "name": "stderr",
     "output_type": "stream",
     "text": [
      "Epoch 46/512: 100%|█████████████████████████████████████████████████████████████████████████████████████████████████████████████████████| 910/910 [00:44<00:00, 20.48it/s]\n"
     ]
    },
    {
     "name": "stdout",
     "output_type": "stream",
     "text": [
      "Epoch 46/512: Train Loss = 0.34419, Validation Loss = 0.33615, Train Accuracy = 0.75738, Validation Accuracy = 0.76684\n"
     ]
    },
    {
     "name": "stderr",
     "output_type": "stream",
     "text": [
      "Epoch 47/512: 100%|█████████████████████████████████████████████████████████████████████████████████████████████████████████████████████| 910/910 [00:44<00:00, 20.53it/s]\n"
     ]
    },
    {
     "name": "stdout",
     "output_type": "stream",
     "text": [
      "Epoch 47/512: Train Loss = 0.34191, Validation Loss = 0.34544, Train Accuracy = 0.75729, Validation Accuracy = 0.76148\n"
     ]
    },
    {
     "name": "stderr",
     "output_type": "stream",
     "text": [
      "Epoch 48/512: 100%|█████████████████████████████████████████████████████████████████████████████████████████████████████████████████████| 910/910 [00:44<00:00, 20.51it/s]\n"
     ]
    },
    {
     "name": "stdout",
     "output_type": "stream",
     "text": [
      "Epoch 48/512: Train Loss = 0.34053, Validation Loss = 0.34079, Train Accuracy = 0.75824, Validation Accuracy = 0.76203\n"
     ]
    },
    {
     "name": "stderr",
     "output_type": "stream",
     "text": [
      "Epoch 49/512: 100%|█████████████████████████████████████████████████████████████████████████████████████████████████████████████████████| 910/910 [00:44<00:00, 20.51it/s]\n"
     ]
    },
    {
     "name": "stdout",
     "output_type": "stream",
     "text": [
      "Epoch 49/512: Train Loss = 0.33935, Validation Loss = 0.34715, Train Accuracy = 0.75803, Validation Accuracy = 0.76588\n"
     ]
    },
    {
     "name": "stderr",
     "output_type": "stream",
     "text": [
      "Epoch 50/512: 100%|█████████████████████████████████████████████████████████████████████████████████████████████████████████████████████| 910/910 [00:44<00:00, 20.50it/s]\n"
     ]
    },
    {
     "name": "stdout",
     "output_type": "stream",
     "text": [
      "Epoch 50/512: Train Loss = 0.33979, Validation Loss = 0.32915, Train Accuracy = 0.76133, Validation Accuracy = 0.76629\n"
     ]
    },
    {
     "name": "stderr",
     "output_type": "stream",
     "text": [
      "Epoch 51/512: 100%|█████████████████████████████████████████████████████████████████████████████████████████████████████████████████████| 910/910 [00:44<00:00, 20.46it/s]\n"
     ]
    },
    {
     "name": "stdout",
     "output_type": "stream",
     "text": [
      "Epoch 51/512: Train Loss = 0.33843, Validation Loss = 0.33459, Train Accuracy = 0.75975, Validation Accuracy = 0.76767\n"
     ]
    },
    {
     "name": "stderr",
     "output_type": "stream",
     "text": [
      "Epoch 52/512: 100%|█████████████████████████████████████████████████████████████████████████████████████████████████████████████████████| 910/910 [00:44<00:00, 20.35it/s]\n"
     ]
    },
    {
     "name": "stdout",
     "output_type": "stream",
     "text": [
      "Epoch 52/512: Train Loss = 0.33669, Validation Loss = 0.33341, Train Accuracy = 0.76221, Validation Accuracy = 0.76670\n"
     ]
    },
    {
     "name": "stderr",
     "output_type": "stream",
     "text": [
      "Epoch 53/512: 100%|█████████████████████████████████████████████████████████████████████████████████████████████████████████████████████| 910/910 [00:44<00:00, 20.43it/s]\n"
     ]
    },
    {
     "name": "stdout",
     "output_type": "stream",
     "text": [
      "Epoch 53/512: Train Loss = 0.33635, Validation Loss = 0.33470, Train Accuracy = 0.76203, Validation Accuracy = 0.76849\n"
     ]
    },
    {
     "name": "stderr",
     "output_type": "stream",
     "text": [
      "Epoch 54/512: 100%|█████████████████████████████████████████████████████████████████████████████████████████████████████████████████████| 910/910 [00:44<00:00, 20.49it/s]\n"
     ]
    },
    {
     "name": "stdout",
     "output_type": "stream",
     "text": [
      "Epoch 54/512: Train Loss = 0.33423, Validation Loss = 0.34613, Train Accuracy = 0.76307, Validation Accuracy = 0.76657\n"
     ]
    },
    {
     "name": "stderr",
     "output_type": "stream",
     "text": [
      "Epoch 55/512: 100%|█████████████████████████████████████████████████████████████████████████████████████████████████████████████████████| 910/910 [00:44<00:00, 20.50it/s]\n"
     ]
    },
    {
     "name": "stdout",
     "output_type": "stream",
     "text": [
      "Epoch 55/512: Train Loss = 0.33393, Validation Loss = 0.34602, Train Accuracy = 0.76112, Validation Accuracy = 0.76175\n"
     ]
    },
    {
     "name": "stderr",
     "output_type": "stream",
     "text": [
      "Epoch 56/512: 100%|█████████████████████████████████████████████████████████████████████████████████████████████████████████████████████| 910/910 [00:44<00:00, 20.29it/s]\n"
     ]
    },
    {
     "name": "stdout",
     "output_type": "stream",
     "text": [
      "Epoch 56/512: Train Loss = 0.33233, Validation Loss = 0.32524, Train Accuracy = 0.76344, Validation Accuracy = 0.77028\n"
     ]
    },
    {
     "name": "stderr",
     "output_type": "stream",
     "text": [
      "Epoch 57/512: 100%|█████████████████████████████████████████████████████████████████████████████████████████████████████████████████████| 910/910 [00:44<00:00, 20.32it/s]\n"
     ]
    },
    {
     "name": "stdout",
     "output_type": "stream",
     "text": [
      "Epoch 57/512: Train Loss = 0.33056, Validation Loss = 0.33214, Train Accuracy = 0.76513, Validation Accuracy = 0.77014\n"
     ]
    },
    {
     "name": "stderr",
     "output_type": "stream",
     "text": [
      "Epoch 58/512: 100%|█████████████████████████████████████████████████████████████████████████████████████████████████████████████████████| 910/910 [00:44<00:00, 20.38it/s]\n"
     ]
    },
    {
     "name": "stdout",
     "output_type": "stream",
     "text": [
      "Epoch 58/512: Train Loss = 0.33020, Validation Loss = 0.34077, Train Accuracy = 0.76551, Validation Accuracy = 0.76643\n"
     ]
    },
    {
     "name": "stderr",
     "output_type": "stream",
     "text": [
      "Epoch 59/512: 100%|█████████████████████████████████████████████████████████████████████████████████████████████████████████████████████| 910/910 [00:44<00:00, 20.48it/s]\n"
     ]
    },
    {
     "name": "stdout",
     "output_type": "stream",
     "text": [
      "Epoch 59/512: Train Loss = 0.32976, Validation Loss = 0.32889, Train Accuracy = 0.76679, Validation Accuracy = 0.77701\n"
     ]
    },
    {
     "name": "stderr",
     "output_type": "stream",
     "text": [
      "Epoch 60/512: 100%|█████████████████████████████████████████████████████████████████████████████████████████████████████████████████████| 910/910 [00:44<00:00, 20.42it/s]\n"
     ]
    },
    {
     "name": "stdout",
     "output_type": "stream",
     "text": [
      "Epoch 60/512: Train Loss = 0.32820, Validation Loss = 0.34317, Train Accuracy = 0.76709, Validation Accuracy = 0.76698\n"
     ]
    },
    {
     "name": "stderr",
     "output_type": "stream",
     "text": [
      "Epoch 61/512: 100%|█████████████████████████████████████████████████████████████████████████████████████████████████████████████████████| 910/910 [00:44<00:00, 20.44it/s]\n"
     ]
    },
    {
     "name": "stdout",
     "output_type": "stream",
     "text": [
      "Epoch 61/512: Train Loss = 0.32768, Validation Loss = 0.33703, Train Accuracy = 0.76655, Validation Accuracy = 0.76918\n"
     ]
    },
    {
     "name": "stderr",
     "output_type": "stream",
     "text": [
      "Epoch 62/512: 100%|█████████████████████████████████████████████████████████████████████████████████████████████████████████████████████| 910/910 [00:44<00:00, 20.42it/s]\n"
     ]
    },
    {
     "name": "stdout",
     "output_type": "stream",
     "text": [
      "Epoch 62/512: Train Loss = 0.32561, Validation Loss = 0.31579, Train Accuracy = 0.76635, Validation Accuracy = 0.77454\n"
     ]
    },
    {
     "name": "stderr",
     "output_type": "stream",
     "text": [
      "Epoch 63/512: 100%|█████████████████████████████████████████████████████████████████████████████████████████████████████████████████████| 910/910 [00:44<00:00, 20.42it/s]\n"
     ]
    },
    {
     "name": "stdout",
     "output_type": "stream",
     "text": [
      "Epoch 63/512: Train Loss = 0.32510, Validation Loss = 0.34145, Train Accuracy = 0.76898, Validation Accuracy = 0.77316\n"
     ]
    },
    {
     "name": "stderr",
     "output_type": "stream",
     "text": [
      "Epoch 64/512: 100%|█████████████████████████████████████████████████████████████████████████████████████████████████████████████████████| 910/910 [00:44<00:00, 20.44it/s]\n"
     ]
    },
    {
     "name": "stdout",
     "output_type": "stream",
     "text": [
      "Epoch 64/512: Train Loss = 0.32417, Validation Loss = 0.32606, Train Accuracy = 0.76917, Validation Accuracy = 0.77110\n"
     ]
    },
    {
     "name": "stderr",
     "output_type": "stream",
     "text": [
      "Epoch 65/512: 100%|█████████████████████████████████████████████████████████████████████████████████████████████████████████████████████| 910/910 [00:44<00:00, 20.40it/s]\n"
     ]
    },
    {
     "name": "stdout",
     "output_type": "stream",
     "text": [
      "Epoch 65/512: Train Loss = 0.32234, Validation Loss = 0.32610, Train Accuracy = 0.76922, Validation Accuracy = 0.77743\n"
     ]
    },
    {
     "name": "stderr",
     "output_type": "stream",
     "text": [
      "Epoch 66/512: 100%|█████████████████████████████████████████████████████████████████████████████████████████████████████████████████████| 910/910 [00:44<00:00, 20.41it/s]\n"
     ]
    },
    {
     "name": "stdout",
     "output_type": "stream",
     "text": [
      "Epoch 66/512: Train Loss = 0.32268, Validation Loss = 0.32527, Train Accuracy = 0.76923, Validation Accuracy = 0.77523\n"
     ]
    },
    {
     "name": "stderr",
     "output_type": "stream",
     "text": [
      "Epoch 67/512: 100%|█████████████████████████████████████████████████████████████████████████████████████████████████████████████████████| 910/910 [00:44<00:00, 20.36it/s]\n"
     ]
    },
    {
     "name": "stdout",
     "output_type": "stream",
     "text": [
      "Epoch 67/512: Train Loss = 0.32124, Validation Loss = 0.33107, Train Accuracy = 0.77192, Validation Accuracy = 0.77674\n"
     ]
    },
    {
     "name": "stderr",
     "output_type": "stream",
     "text": [
      "Epoch 68/512: 100%|█████████████████████████████████████████████████████████████████████████████████████████████████████████████████████| 910/910 [00:44<00:00, 20.48it/s]\n"
     ]
    },
    {
     "name": "stdout",
     "output_type": "stream",
     "text": [
      "Epoch 68/512: Train Loss = 0.32266, Validation Loss = 0.32803, Train Accuracy = 0.76917, Validation Accuracy = 0.77138\n"
     ]
    },
    {
     "name": "stderr",
     "output_type": "stream",
     "text": [
      "Epoch 69/512: 100%|█████████████████████████████████████████████████████████████████████████████████████████████████████████████████████| 910/910 [00:44<00:00, 20.57it/s]\n"
     ]
    },
    {
     "name": "stdout",
     "output_type": "stream",
     "text": [
      "Epoch 69/512: Train Loss = 0.32029, Validation Loss = 0.31650, Train Accuracy = 0.76891, Validation Accuracy = 0.77468\n"
     ]
    },
    {
     "name": "stderr",
     "output_type": "stream",
     "text": [
      "Epoch 70/512: 100%|█████████████████████████████████████████████████████████████████████████████████████████████████████████████████████| 910/910 [00:44<00:00, 20.40it/s]\n"
     ]
    },
    {
     "name": "stdout",
     "output_type": "stream",
     "text": [
      "Epoch 70/512: Train Loss = 0.31758, Validation Loss = 0.31922, Train Accuracy = 0.77269, Validation Accuracy = 0.77619\n"
     ]
    },
    {
     "name": "stderr",
     "output_type": "stream",
     "text": [
      "Epoch 71/512: 100%|█████████████████████████████████████████████████████████████████████████████████████████████████████████████████████| 910/910 [00:44<00:00, 20.41it/s]\n"
     ]
    },
    {
     "name": "stdout",
     "output_type": "stream",
     "text": [
      "Epoch 71/512: Train Loss = 0.31625, Validation Loss = 0.32064, Train Accuracy = 0.77489, Validation Accuracy = 0.78114\n"
     ]
    },
    {
     "name": "stderr",
     "output_type": "stream",
     "text": [
      "Epoch 72/512: 100%|█████████████████████████████████████████████████████████████████████████████████████████████████████████████████████| 910/910 [00:44<00:00, 20.38it/s]\n"
     ]
    },
    {
     "name": "stdout",
     "output_type": "stream",
     "text": [
      "Epoch 72/512: Train Loss = 0.31562, Validation Loss = 0.34413, Train Accuracy = 0.77336, Validation Accuracy = 0.76987\n"
     ]
    },
    {
     "name": "stderr",
     "output_type": "stream",
     "text": [
      "Epoch 73/512: 100%|█████████████████████████████████████████████████████████████████████████████████████████████████████████████████████| 910/910 [00:44<00:00, 20.47it/s]\n"
     ]
    },
    {
     "name": "stdout",
     "output_type": "stream",
     "text": [
      "Epoch 73/512: Train Loss = 0.31760, Validation Loss = 0.34443, Train Accuracy = 0.77229, Validation Accuracy = 0.77220\n"
     ]
    },
    {
     "name": "stderr",
     "output_type": "stream",
     "text": [
      "Epoch 74/512: 100%|█████████████████████████████████████████████████████████████████████████████████████████████████████████████████████| 910/910 [00:44<00:00, 20.42it/s]\n"
     ]
    },
    {
     "name": "stdout",
     "output_type": "stream",
     "text": [
      "Epoch 74/512: Train Loss = 0.31498, Validation Loss = 0.31598, Train Accuracy = 0.77647, Validation Accuracy = 0.77963\n"
     ]
    },
    {
     "name": "stderr",
     "output_type": "stream",
     "text": [
      "Epoch 75/512: 100%|█████████████████████████████████████████████████████████████████████████████████████████████████████████████████████| 910/910 [00:44<00:00, 20.44it/s]\n"
     ]
    },
    {
     "name": "stdout",
     "output_type": "stream",
     "text": [
      "Epoch 75/512: Train Loss = 0.31276, Validation Loss = 0.31893, Train Accuracy = 0.77530, Validation Accuracy = 0.77880\n"
     ]
    },
    {
     "name": "stderr",
     "output_type": "stream",
     "text": [
      "Epoch 76/512: 100%|█████████████████████████████████████████████████████████████████████████████████████████████████████████████████████| 910/910 [00:44<00:00, 20.50it/s]\n"
     ]
    },
    {
     "name": "stdout",
     "output_type": "stream",
     "text": [
      "Epoch 76/512: Train Loss = 0.31434, Validation Loss = 0.31309, Train Accuracy = 0.77386, Validation Accuracy = 0.77949\n"
     ]
    },
    {
     "name": "stderr",
     "output_type": "stream",
     "text": [
      "Epoch 77/512: 100%|█████████████████████████████████████████████████████████████████████████████████████████████████████████████████████| 910/910 [00:44<00:00, 20.36it/s]\n"
     ]
    },
    {
     "name": "stdout",
     "output_type": "stream",
     "text": [
      "Epoch 77/512: Train Loss = 0.31266, Validation Loss = 0.30943, Train Accuracy = 0.77482, Validation Accuracy = 0.78238\n"
     ]
    },
    {
     "name": "stderr",
     "output_type": "stream",
     "text": [
      "Epoch 78/512: 100%|█████████████████████████████████████████████████████████████████████████████████████████████████████████████████████| 910/910 [00:44<00:00, 20.44it/s]\n"
     ]
    },
    {
     "name": "stdout",
     "output_type": "stream",
     "text": [
      "Epoch 78/512: Train Loss = 0.31156, Validation Loss = 0.31991, Train Accuracy = 0.77580, Validation Accuracy = 0.77921\n"
     ]
    },
    {
     "name": "stderr",
     "output_type": "stream",
     "text": [
      "Epoch 79/512: 100%|█████████████████████████████████████████████████████████████████████████████████████████████████████████████████████| 910/910 [00:44<00:00, 20.45it/s]\n"
     ]
    },
    {
     "name": "stdout",
     "output_type": "stream",
     "text": [
      "Epoch 79/512: Train Loss = 0.31079, Validation Loss = 0.31569, Train Accuracy = 0.77688, Validation Accuracy = 0.78526\n"
     ]
    },
    {
     "name": "stderr",
     "output_type": "stream",
     "text": [
      "Epoch 80/512: 100%|█████████████████████████████████████████████████████████████████████████████████████████████████████████████████████| 910/910 [00:44<00:00, 20.36it/s]\n"
     ]
    },
    {
     "name": "stdout",
     "output_type": "stream",
     "text": [
      "Epoch 80/512: Train Loss = 0.30881, Validation Loss = 0.32551, Train Accuracy = 0.77791, Validation Accuracy = 0.77908\n"
     ]
    },
    {
     "name": "stderr",
     "output_type": "stream",
     "text": [
      "Epoch 81/512: 100%|█████████████████████████████████████████████████████████████████████████████████████████████████████████████████████| 910/910 [00:44<00:00, 20.42it/s]\n"
     ]
    },
    {
     "name": "stdout",
     "output_type": "stream",
     "text": [
      "Epoch 81/512: Train Loss = 0.31000, Validation Loss = 0.31361, Train Accuracy = 0.77688, Validation Accuracy = 0.78540\n"
     ]
    },
    {
     "name": "stderr",
     "output_type": "stream",
     "text": [
      "Epoch 82/512: 100%|█████████████████████████████████████████████████████████████████████████████████████████████████████████████████████| 910/910 [00:44<00:00, 20.50it/s]\n"
     ]
    },
    {
     "name": "stdout",
     "output_type": "stream",
     "text": [
      "Epoch 82/512: Train Loss = 0.30887, Validation Loss = 0.31185, Train Accuracy = 0.77735, Validation Accuracy = 0.78086\n"
     ]
    },
    {
     "name": "stderr",
     "output_type": "stream",
     "text": [
      "Epoch 83/512: 100%|█████████████████████████████████████████████████████████████████████████████████████████████████████████████████████| 910/910 [00:44<00:00, 20.52it/s]\n"
     ]
    },
    {
     "name": "stdout",
     "output_type": "stream",
     "text": [
      "Epoch 83/512: Train Loss = 0.30802, Validation Loss = 0.31311, Train Accuracy = 0.77680, Validation Accuracy = 0.78485\n"
     ]
    },
    {
     "name": "stderr",
     "output_type": "stream",
     "text": [
      "Epoch 84/512: 100%|█████████████████████████████████████████████████████████████████████████████████████████████████████████████████████| 910/910 [00:44<00:00, 20.26it/s]\n"
     ]
    },
    {
     "name": "stdout",
     "output_type": "stream",
     "text": [
      "Epoch 84/512: Train Loss = 0.30662, Validation Loss = 0.31768, Train Accuracy = 0.77752, Validation Accuracy = 0.78444\n"
     ]
    },
    {
     "name": "stderr",
     "output_type": "stream",
     "text": [
      "Epoch 85/512: 100%|█████████████████████████████████████████████████████████████████████████████████████████████████████████████████████| 910/910 [00:44<00:00, 20.40it/s]\n"
     ]
    },
    {
     "name": "stdout",
     "output_type": "stream",
     "text": [
      "Epoch 85/512: Train Loss = 0.30693, Validation Loss = 0.31399, Train Accuracy = 0.77798, Validation Accuracy = 0.78031\n"
     ]
    },
    {
     "name": "stderr",
     "output_type": "stream",
     "text": [
      "Epoch 86/512: 100%|█████████████████████████████████████████████████████████████████████████████████████████████████████████████████████| 910/910 [00:44<00:00, 20.53it/s]\n"
     ]
    },
    {
     "name": "stdout",
     "output_type": "stream",
     "text": [
      "Epoch 86/512: Train Loss = 0.30530, Validation Loss = 0.30583, Train Accuracy = 0.78104, Validation Accuracy = 0.78196\n"
     ]
    },
    {
     "name": "stderr",
     "output_type": "stream",
     "text": [
      "Epoch 87/512: 100%|█████████████████████████████████████████████████████████████████████████████████████████████████████████████████████| 910/910 [00:44<00:00, 20.45it/s]\n"
     ]
    },
    {
     "name": "stdout",
     "output_type": "stream",
     "text": [
      "Epoch 87/512: Train Loss = 0.30568, Validation Loss = 0.31392, Train Accuracy = 0.77846, Validation Accuracy = 0.78540\n"
     ]
    },
    {
     "name": "stderr",
     "output_type": "stream",
     "text": [
      "Epoch 88/512: 100%|█████████████████████████████████████████████████████████████████████████████████████████████████████████████████████| 910/910 [00:44<00:00, 20.38it/s]\n"
     ]
    },
    {
     "name": "stdout",
     "output_type": "stream",
     "text": [
      "Epoch 88/512: Train Loss = 0.30350, Validation Loss = 0.31976, Train Accuracy = 0.78066, Validation Accuracy = 0.78210\n"
     ]
    },
    {
     "name": "stderr",
     "output_type": "stream",
     "text": [
      "Epoch 89/512: 100%|█████████████████████████████████████████████████████████████████████████████████████████████████████████████████████| 910/910 [00:44<00:00, 20.37it/s]\n"
     ]
    },
    {
     "name": "stdout",
     "output_type": "stream",
     "text": [
      "Epoch 89/512: Train Loss = 0.30380, Validation Loss = 0.31696, Train Accuracy = 0.78044, Validation Accuracy = 0.78403\n"
     ]
    },
    {
     "name": "stderr",
     "output_type": "stream",
     "text": [
      "Epoch 90/512: 100%|█████████████████████████████████████████████████████████████████████████████████████████████████████████████████████| 910/910 [00:44<00:00, 20.54it/s]\n"
     ]
    },
    {
     "name": "stdout",
     "output_type": "stream",
     "text": [
      "Epoch 90/512: Train Loss = 0.30276, Validation Loss = 0.32834, Train Accuracy = 0.78140, Validation Accuracy = 0.78128\n"
     ]
    },
    {
     "name": "stderr",
     "output_type": "stream",
     "text": [
      "Epoch 91/512: 100%|█████████████████████████████████████████████████████████████████████████████████████████████████████████████████████| 910/910 [00:44<00:00, 20.52it/s]\n"
     ]
    },
    {
     "name": "stdout",
     "output_type": "stream",
     "text": [
      "Epoch 91/512: Train Loss = 0.30288, Validation Loss = 0.31503, Train Accuracy = 0.77972, Validation Accuracy = 0.78045\n"
     ]
    },
    {
     "name": "stderr",
     "output_type": "stream",
     "text": [
      "Epoch 92/512: 100%|█████████████████████████████████████████████████████████████████████████████████████████████████████████████████████| 910/910 [00:44<00:00, 20.35it/s]\n"
     ]
    },
    {
     "name": "stdout",
     "output_type": "stream",
     "text": [
      "Epoch 92/512: Train Loss = 0.30188, Validation Loss = 0.30928, Train Accuracy = 0.77949, Validation Accuracy = 0.78664\n"
     ]
    },
    {
     "name": "stderr",
     "output_type": "stream",
     "text": [
      "Epoch 93/512: 100%|█████████████████████████████████████████████████████████████████████████████████████████████████████████████████████| 910/910 [00:44<00:00, 20.43it/s]\n"
     ]
    },
    {
     "name": "stdout",
     "output_type": "stream",
     "text": [
      "Epoch 93/512: Train Loss = 0.30284, Validation Loss = 0.31238, Train Accuracy = 0.78152, Validation Accuracy = 0.78389\n"
     ]
    },
    {
     "name": "stderr",
     "output_type": "stream",
     "text": [
      "Epoch 94/512: 100%|█████████████████████████████████████████████████████████████████████████████████████████████████████████████████████| 910/910 [00:44<00:00, 20.44it/s]\n"
     ]
    },
    {
     "name": "stdout",
     "output_type": "stream",
     "text": [
      "Epoch 94/512: Train Loss = 0.30121, Validation Loss = 0.30505, Train Accuracy = 0.78023, Validation Accuracy = 0.78884\n"
     ]
    },
    {
     "name": "stderr",
     "output_type": "stream",
     "text": [
      "Epoch 95/512: 100%|█████████████████████████████████████████████████████████████████████████████████████████████████████████████████████| 910/910 [00:44<00:00, 20.45it/s]\n"
     ]
    },
    {
     "name": "stdout",
     "output_type": "stream",
     "text": [
      "Epoch 95/512: Train Loss = 0.29846, Validation Loss = 0.30635, Train Accuracy = 0.78501, Validation Accuracy = 0.78416\n"
     ]
    },
    {
     "name": "stderr",
     "output_type": "stream",
     "text": [
      "Epoch 96/512: 100%|█████████████████████████████████████████████████████████████████████████████████████████████████████████████████████| 910/910 [00:44<00:00, 20.38it/s]\n"
     ]
    },
    {
     "name": "stdout",
     "output_type": "stream",
     "text": [
      "Epoch 96/512: Train Loss = 0.29898, Validation Loss = 0.31125, Train Accuracy = 0.78254, Validation Accuracy = 0.79269\n"
     ]
    },
    {
     "name": "stderr",
     "output_type": "stream",
     "text": [
      "Epoch 97/512: 100%|█████████████████████████████████████████████████████████████████████████████████████████████████████████████████████| 910/910 [00:44<00:00, 20.31it/s]\n"
     ]
    },
    {
     "name": "stdout",
     "output_type": "stream",
     "text": [
      "Epoch 97/512: Train Loss = 0.29900, Validation Loss = 0.31350, Train Accuracy = 0.78279, Validation Accuracy = 0.78073\n"
     ]
    },
    {
     "name": "stderr",
     "output_type": "stream",
     "text": [
      "Epoch 98/512: 100%|█████████████████████████████████████████████████████████████████████████████████████████████████████████████████████| 910/910 [00:44<00:00, 20.28it/s]\n"
     ]
    },
    {
     "name": "stdout",
     "output_type": "stream",
     "text": [
      "Epoch 98/512: Train Loss = 0.29855, Validation Loss = 0.31624, Train Accuracy = 0.78350, Validation Accuracy = 0.78430\n"
     ]
    },
    {
     "name": "stderr",
     "output_type": "stream",
     "text": [
      "Epoch 99/512: 100%|█████████████████████████████████████████████████████████████████████████████████████████████████████████████████████| 910/910 [00:44<00:00, 20.45it/s]\n"
     ]
    },
    {
     "name": "stdout",
     "output_type": "stream",
     "text": [
      "Epoch 99/512: Train Loss = 0.29742, Validation Loss = 0.30213, Train Accuracy = 0.78501, Validation Accuracy = 0.78595\n"
     ]
    },
    {
     "name": "stderr",
     "output_type": "stream",
     "text": [
      "Epoch 100/512: 100%|████████████████████████████████████████████████████████████████████████████████████████████████████████████████████| 910/910 [00:44<00:00, 20.44it/s]\n"
     ]
    },
    {
     "name": "stdout",
     "output_type": "stream",
     "text": [
      "Epoch 100/512: Train Loss = 0.29635, Validation Loss = 0.31374, Train Accuracy = 0.78532, Validation Accuracy = 0.78677\n"
     ]
    },
    {
     "name": "stderr",
     "output_type": "stream",
     "text": [
      "Epoch 101/512: 100%|████████████████████████████████████████████████████████████████████████████████████████████████████████████████████| 910/910 [00:44<00:00, 20.46it/s]\n"
     ]
    },
    {
     "name": "stdout",
     "output_type": "stream",
     "text": [
      "Epoch 101/512: Train Loss = 0.29571, Validation Loss = 0.31502, Train Accuracy = 0.78484, Validation Accuracy = 0.78499\n"
     ]
    },
    {
     "name": "stderr",
     "output_type": "stream",
     "text": [
      "Epoch 102/512: 100%|████████████████████████████████████████████████████████████████████████████████████████████████████████████████████| 910/910 [00:44<00:00, 20.43it/s]\n"
     ]
    },
    {
     "name": "stdout",
     "output_type": "stream",
     "text": [
      "Epoch 102/512: Train Loss = 0.29490, Validation Loss = 0.31403, Train Accuracy = 0.78515, Validation Accuracy = 0.78334\n"
     ]
    },
    {
     "name": "stderr",
     "output_type": "stream",
     "text": [
      "Epoch 103/512: 100%|████████████████████████████████████████████████████████████████████████████████████████████████████████████████████| 910/910 [00:44<00:00, 20.35it/s]\n"
     ]
    },
    {
     "name": "stdout",
     "output_type": "stream",
     "text": [
      "Epoch 103/512: Train Loss = 0.29697, Validation Loss = 0.29758, Train Accuracy = 0.78494, Validation Accuracy = 0.78925\n"
     ]
    },
    {
     "name": "stderr",
     "output_type": "stream",
     "text": [
      "Epoch 104/512: 100%|████████████████████████████████████████████████████████████████████████████████████████████████████████████████████| 910/910 [00:44<00:00, 20.36it/s]\n"
     ]
    },
    {
     "name": "stdout",
     "output_type": "stream",
     "text": [
      "Epoch 104/512: Train Loss = 0.29389, Validation Loss = 0.30622, Train Accuracy = 0.78704, Validation Accuracy = 0.78581\n"
     ]
    },
    {
     "name": "stderr",
     "output_type": "stream",
     "text": [
      "Epoch 105/512: 100%|████████████████████████████████████████████████████████████████████████████████████████████████████████████████████| 910/910 [00:44<00:00, 20.43it/s]\n"
     ]
    },
    {
     "name": "stdout",
     "output_type": "stream",
     "text": [
      "Epoch 105/512: Train Loss = 0.29495, Validation Loss = 0.29355, Train Accuracy = 0.78408, Validation Accuracy = 0.79502\n"
     ]
    },
    {
     "name": "stderr",
     "output_type": "stream",
     "text": [
      "Epoch 106/512: 100%|████████████████████████████████████████████████████████████████████████████████████████████████████████████████████| 910/910 [00:44<00:00, 20.42it/s]\n"
     ]
    },
    {
     "name": "stdout",
     "output_type": "stream",
     "text": [
      "Epoch 106/512: Train Loss = 0.29368, Validation Loss = 0.29890, Train Accuracy = 0.78671, Validation Accuracy = 0.78664\n"
     ]
    },
    {
     "name": "stderr",
     "output_type": "stream",
     "text": [
      "Epoch 107/512: 100%|████████████████████████████████████████████████████████████████████████████████████████████████████████████████████| 910/910 [00:44<00:00, 20.43it/s]\n"
     ]
    },
    {
     "name": "stdout",
     "output_type": "stream",
     "text": [
      "Epoch 107/512: Train Loss = 0.29325, Validation Loss = 0.31429, Train Accuracy = 0.78534, Validation Accuracy = 0.79090\n"
     ]
    },
    {
     "name": "stderr",
     "output_type": "stream",
     "text": [
      "Epoch 108/512: 100%|████████████████████████████████████████████████████████████████████████████████████████████████████████████████████| 910/910 [00:44<00:00, 20.41it/s]\n"
     ]
    },
    {
     "name": "stdout",
     "output_type": "stream",
     "text": [
      "Epoch 108/512: Train Loss = 0.29252, Validation Loss = 0.30227, Train Accuracy = 0.78424, Validation Accuracy = 0.78870\n"
     ]
    },
    {
     "name": "stderr",
     "output_type": "stream",
     "text": [
      "Epoch 109/512: 100%|████████████████████████████████████████████████████████████████████████████████████████████████████████████████████| 910/910 [00:44<00:00, 20.39it/s]\n"
     ]
    },
    {
     "name": "stdout",
     "output_type": "stream",
     "text": [
      "Epoch 109/512: Train Loss = 0.29160, Validation Loss = 0.30096, Train Accuracy = 0.78822, Validation Accuracy = 0.78829\n"
     ]
    },
    {
     "name": "stderr",
     "output_type": "stream",
     "text": [
      "Epoch 110/512: 100%|████████████████████████████████████████████████████████████████████████████████████████████████████████████████████| 910/910 [00:44<00:00, 20.43it/s]\n"
     ]
    },
    {
     "name": "stdout",
     "output_type": "stream",
     "text": [
      "Epoch 110/512: Train Loss = 0.29159, Validation Loss = 0.30894, Train Accuracy = 0.78718, Validation Accuracy = 0.78691\n"
     ]
    },
    {
     "name": "stderr",
     "output_type": "stream",
     "text": [
      "Epoch 111/512: 100%|████████████████████████████████████████████████████████████████████████████████████████████████████████████████████| 910/910 [00:44<00:00, 20.43it/s]\n"
     ]
    },
    {
     "name": "stdout",
     "output_type": "stream",
     "text": [
      "Epoch 111/512: Train Loss = 0.29250, Validation Loss = 0.30632, Train Accuracy = 0.78750, Validation Accuracy = 0.78554\n"
     ]
    },
    {
     "name": "stderr",
     "output_type": "stream",
     "text": [
      "Epoch 112/512: 100%|████████████████████████████████████████████████████████████████████████████████████████████████████████████████████| 910/910 [00:44<00:00, 20.52it/s]\n"
     ]
    },
    {
     "name": "stdout",
     "output_type": "stream",
     "text": [
      "Epoch 112/512: Train Loss = 0.28883, Validation Loss = 0.30968, Train Accuracy = 0.78793, Validation Accuracy = 0.78471\n"
     ]
    },
    {
     "name": "stderr",
     "output_type": "stream",
     "text": [
      "Epoch 113/512: 100%|████████████████████████████████████████████████████████████████████████████████████████████████████████████████████| 910/910 [00:44<00:00, 20.50it/s]\n"
     ]
    },
    {
     "name": "stdout",
     "output_type": "stream",
     "text": [
      "Epoch 113/512: Train Loss = 0.29041, Validation Loss = 0.29561, Train Accuracy = 0.78749, Validation Accuracy = 0.79489\n"
     ]
    },
    {
     "name": "stderr",
     "output_type": "stream",
     "text": [
      "Epoch 114/512: 100%|████████████████████████████████████████████████████████████████████████████████████████████████████████████████████| 910/910 [00:44<00:00, 20.38it/s]\n"
     ]
    },
    {
     "name": "stdout",
     "output_type": "stream",
     "text": [
      "Epoch 114/512: Train Loss = 0.28927, Validation Loss = 0.29382, Train Accuracy = 0.78859, Validation Accuracy = 0.79007\n"
     ]
    },
    {
     "name": "stderr",
     "output_type": "stream",
     "text": [
      "Epoch 115/512: 100%|████████████████████████████████████████████████████████████████████████████████████████████████████████████████████| 910/910 [00:44<00:00, 20.50it/s]\n"
     ]
    },
    {
     "name": "stdout",
     "output_type": "stream",
     "text": [
      "Epoch 115/512: Train Loss = 0.28933, Validation Loss = 0.31475, Train Accuracy = 0.78797, Validation Accuracy = 0.78664\n"
     ]
    },
    {
     "name": "stderr",
     "output_type": "stream",
     "text": [
      "Epoch 116/512: 100%|████████████████████████████████████████████████████████████████████████████████████████████████████████████████████| 910/910 [00:44<00:00, 20.31it/s]\n"
     ]
    },
    {
     "name": "stdout",
     "output_type": "stream",
     "text": [
      "Epoch 116/512: Train Loss = 0.28786, Validation Loss = 0.30713, Train Accuracy = 0.78951, Validation Accuracy = 0.78884\n"
     ]
    },
    {
     "name": "stderr",
     "output_type": "stream",
     "text": [
      "Epoch 117/512: 100%|████████████████████████████████████████████████████████████████████████████████████████████████████████████████████| 910/910 [00:44<00:00, 20.46it/s]\n"
     ]
    },
    {
     "name": "stdout",
     "output_type": "stream",
     "text": [
      "Epoch 117/512: Train Loss = 0.28651, Validation Loss = 0.28988, Train Accuracy = 0.78962, Validation Accuracy = 0.79227\n"
     ]
    },
    {
     "name": "stderr",
     "output_type": "stream",
     "text": [
      "Epoch 118/512: 100%|████████████████████████████████████████████████████████████████████████████████████████████████████████████████████| 910/910 [00:44<00:00, 20.58it/s]\n"
     ]
    },
    {
     "name": "stdout",
     "output_type": "stream",
     "text": [
      "Epoch 118/512: Train Loss = 0.28677, Validation Loss = 0.30429, Train Accuracy = 0.78934, Validation Accuracy = 0.79406\n"
     ]
    },
    {
     "name": "stderr",
     "output_type": "stream",
     "text": [
      "Epoch 119/512: 100%|████████████████████████████████████████████████████████████████████████████████████████████████████████████████████| 910/910 [00:44<00:00, 20.45it/s]\n"
     ]
    },
    {
     "name": "stdout",
     "output_type": "stream",
     "text": [
      "Epoch 119/512: Train Loss = 0.28628, Validation Loss = 0.29847, Train Accuracy = 0.79108, Validation Accuracy = 0.79062\n"
     ]
    },
    {
     "name": "stderr",
     "output_type": "stream",
     "text": [
      "Epoch 120/512: 100%|████████████████████████████████████████████████████████████████████████████████████████████████████████████████████| 910/910 [00:44<00:00, 20.48it/s]\n"
     ]
    },
    {
     "name": "stdout",
     "output_type": "stream",
     "text": [
      "Epoch 120/512: Train Loss = 0.28581, Validation Loss = 0.29500, Train Accuracy = 0.79068, Validation Accuracy = 0.79571\n"
     ]
    },
    {
     "name": "stderr",
     "output_type": "stream",
     "text": [
      "Epoch 121/512: 100%|████████████████████████████████████████████████████████████████████████████████████████████████████████████████████| 910/910 [00:44<00:00, 20.42it/s]\n"
     ]
    },
    {
     "name": "stdout",
     "output_type": "stream",
     "text": [
      "Epoch 121/512: Train Loss = 0.28517, Validation Loss = 0.29888, Train Accuracy = 0.79041, Validation Accuracy = 0.79447\n"
     ]
    },
    {
     "name": "stderr",
     "output_type": "stream",
     "text": [
      "Epoch 122/512: 100%|████████████████████████████████████████████████████████████████████████████████████████████████████████████████████| 910/910 [00:44<00:00, 20.49it/s]\n"
     ]
    },
    {
     "name": "stdout",
     "output_type": "stream",
     "text": [
      "Epoch 122/512: Train Loss = 0.28564, Validation Loss = 0.29911, Train Accuracy = 0.78943, Validation Accuracy = 0.79255\n"
     ]
    },
    {
     "name": "stderr",
     "output_type": "stream",
     "text": [
      "Epoch 123/512: 100%|████████████████████████████████████████████████████████████████████████████████████████████████████████████████████| 910/910 [00:44<00:00, 20.47it/s]\n"
     ]
    },
    {
     "name": "stdout",
     "output_type": "stream",
     "text": [
      "Epoch 123/512: Train Loss = 0.28577, Validation Loss = 0.29371, Train Accuracy = 0.78963, Validation Accuracy = 0.79667\n"
     ]
    },
    {
     "name": "stderr",
     "output_type": "stream",
     "text": [
      "Epoch 124/512: 100%|████████████████████████████████████████████████████████████████████████████████████████████████████████████████████| 910/910 [00:44<00:00, 20.36it/s]\n"
     ]
    },
    {
     "name": "stdout",
     "output_type": "stream",
     "text": [
      "Epoch 124/512: Train Loss = 0.28355, Validation Loss = 0.30646, Train Accuracy = 0.79211, Validation Accuracy = 0.78994\n"
     ]
    },
    {
     "name": "stderr",
     "output_type": "stream",
     "text": [
      "Epoch 125/512: 100%|████████████████████████████████████████████████████████████████████████████████████████████████████████████████████| 910/910 [00:44<00:00, 20.54it/s]\n"
     ]
    },
    {
     "name": "stdout",
     "output_type": "stream",
     "text": [
      "Epoch 125/512: Train Loss = 0.28402, Validation Loss = 0.31321, Train Accuracy = 0.79298, Validation Accuracy = 0.78719\n"
     ]
    },
    {
     "name": "stderr",
     "output_type": "stream",
     "text": [
      "Epoch 126/512: 100%|████████████████████████████████████████████████████████████████████████████████████████████████████████████████████| 910/910 [00:44<00:00, 20.42it/s]\n"
     ]
    },
    {
     "name": "stdout",
     "output_type": "stream",
     "text": [
      "Epoch 126/512: Train Loss = 0.28345, Validation Loss = 0.30366, Train Accuracy = 0.79163, Validation Accuracy = 0.79379\n"
     ]
    },
    {
     "name": "stderr",
     "output_type": "stream",
     "text": [
      "Epoch 127/512: 100%|████████████████████████████████████████████████████████████████████████████████████████████████████████████████████| 910/910 [00:44<00:00, 20.39it/s]\n"
     ]
    },
    {
     "name": "stdout",
     "output_type": "stream",
     "text": [
      "Epoch 127/512: Train Loss = 0.28274, Validation Loss = 0.30266, Train Accuracy = 0.79039, Validation Accuracy = 0.78994\n"
     ]
    },
    {
     "name": "stderr",
     "output_type": "stream",
     "text": [
      "Epoch 128/512: 100%|████████████████████████████████████████████████████████████████████████████████████████████████████████████████████| 910/910 [00:44<00:00, 20.46it/s]\n"
     ]
    },
    {
     "name": "stdout",
     "output_type": "stream",
     "text": [
      "Epoch 128/512: Train Loss = 0.28205, Validation Loss = 0.29960, Train Accuracy = 0.79194, Validation Accuracy = 0.79214\n"
     ]
    },
    {
     "name": "stderr",
     "output_type": "stream",
     "text": [
      "Epoch 129/512: 100%|████████████████████████████████████████████████████████████████████████████████████████████████████████████████████| 910/910 [00:44<00:00, 20.46it/s]\n"
     ]
    },
    {
     "name": "stdout",
     "output_type": "stream",
     "text": [
      "Epoch 129/512: Train Loss = 0.28188, Validation Loss = 0.29534, Train Accuracy = 0.79027, Validation Accuracy = 0.79351\n"
     ]
    },
    {
     "name": "stderr",
     "output_type": "stream",
     "text": [
      "Epoch 130/512: 100%|████████████████████████████████████████████████████████████████████████████████████████████████████████████████████| 910/910 [00:44<00:00, 20.54it/s]\n"
     ]
    },
    {
     "name": "stdout",
     "output_type": "stream",
     "text": [
      "Epoch 130/512: Train Loss = 0.28092, Validation Loss = 0.29836, Train Accuracy = 0.79283, Validation Accuracy = 0.79475\n"
     ]
    },
    {
     "name": "stderr",
     "output_type": "stream",
     "text": [
      "Epoch 131/512: 100%|████████████████████████████████████████████████████████████████████████████████████████████████████████████████████| 910/910 [00:44<00:00, 20.40it/s]\n"
     ]
    },
    {
     "name": "stdout",
     "output_type": "stream",
     "text": [
      "Epoch 131/512: Train Loss = 0.28072, Validation Loss = 0.30063, Train Accuracy = 0.79297, Validation Accuracy = 0.79021\n"
     ]
    },
    {
     "name": "stderr",
     "output_type": "stream",
     "text": [
      "Epoch 132/512: 100%|████████████████████████████████████████████████████████████████████████████████████████████████████████████████████| 910/910 [00:44<00:00, 20.45it/s]\n"
     ]
    },
    {
     "name": "stdout",
     "output_type": "stream",
     "text": [
      "Epoch 132/512: Train Loss = 0.28049, Validation Loss = 0.29968, Train Accuracy = 0.79146, Validation Accuracy = 0.79447\n"
     ]
    },
    {
     "name": "stderr",
     "output_type": "stream",
     "text": [
      "Epoch 133/512: 100%|████████████████████████████████████████████████████████████████████████████████████████████████████████████████████| 910/910 [00:44<00:00, 20.55it/s]\n"
     ]
    },
    {
     "name": "stdout",
     "output_type": "stream",
     "text": [
      "Epoch 133/512: Train Loss = 0.28065, Validation Loss = 0.29377, Train Accuracy = 0.79185, Validation Accuracy = 0.79131\n"
     ]
    },
    {
     "name": "stderr",
     "output_type": "stream",
     "text": [
      "Epoch 134/512: 100%|████████████████████████████████████████████████████████████████████████████████████████████████████████████████████| 910/910 [00:44<00:00, 20.40it/s]\n"
     ]
    },
    {
     "name": "stdout",
     "output_type": "stream",
     "text": [
      "Epoch 134/512: Train Loss = 0.27927, Validation Loss = 0.28489, Train Accuracy = 0.79261, Validation Accuracy = 0.79571\n"
     ]
    },
    {
     "name": "stderr",
     "output_type": "stream",
     "text": [
      "Epoch 135/512: 100%|████████████████████████████████████████████████████████████████████████████████████████████████████████████████████| 910/910 [00:44<00:00, 20.41it/s]\n"
     ]
    },
    {
     "name": "stdout",
     "output_type": "stream",
     "text": [
      "Epoch 135/512: Train Loss = 0.28104, Validation Loss = 0.29359, Train Accuracy = 0.79164, Validation Accuracy = 0.79200\n"
     ]
    },
    {
     "name": "stderr",
     "output_type": "stream",
     "text": [
      "Epoch 136/512: 100%|████████████████████████████████████████████████████████████████████████████████████████████████████████████████████| 910/910 [00:44<00:00, 20.45it/s]\n"
     ]
    },
    {
     "name": "stdout",
     "output_type": "stream",
     "text": [
      "Epoch 136/512: Train Loss = 0.27808, Validation Loss = 0.30211, Train Accuracy = 0.79079, Validation Accuracy = 0.79104\n"
     ]
    },
    {
     "name": "stderr",
     "output_type": "stream",
     "text": [
      "Epoch 137/512: 100%|████████████████████████████████████████████████████████████████████████████████████████████████████████████████████| 910/910 [00:44<00:00, 20.47it/s]\n"
     ]
    },
    {
     "name": "stdout",
     "output_type": "stream",
     "text": [
      "Epoch 137/512: Train Loss = 0.27952, Validation Loss = 0.30253, Train Accuracy = 0.79479, Validation Accuracy = 0.79626\n"
     ]
    },
    {
     "name": "stderr",
     "output_type": "stream",
     "text": [
      "Epoch 138/512: 100%|████████████████████████████████████████████████████████████████████████████████████████████████████████████████████| 910/910 [00:44<00:00, 20.45it/s]\n"
     ]
    },
    {
     "name": "stdout",
     "output_type": "stream",
     "text": [
      "Epoch 138/512: Train Loss = 0.27711, Validation Loss = 0.29745, Train Accuracy = 0.79505, Validation Accuracy = 0.79214\n"
     ]
    },
    {
     "name": "stderr",
     "output_type": "stream",
     "text": [
      "Epoch 139/512: 100%|████████████████████████████████████████████████████████████████████████████████████████████████████████████████████| 910/910 [00:44<00:00, 20.47it/s]\n"
     ]
    },
    {
     "name": "stdout",
     "output_type": "stream",
     "text": [
      "Epoch 139/512: Train Loss = 0.27844, Validation Loss = 0.28818, Train Accuracy = 0.79128, Validation Accuracy = 0.79530\n"
     ]
    },
    {
     "name": "stderr",
     "output_type": "stream",
     "text": [
      "Epoch 140/512: 100%|████████████████████████████████████████████████████████████████████████████████████████████████████████████████████| 910/910 [00:44<00:00, 20.35it/s]\n"
     ]
    },
    {
     "name": "stdout",
     "output_type": "stream",
     "text": [
      "Epoch 140/512: Train Loss = 0.27844, Validation Loss = 0.30358, Train Accuracy = 0.79403, Validation Accuracy = 0.79214\n"
     ]
    },
    {
     "name": "stderr",
     "output_type": "stream",
     "text": [
      "Epoch 141/512: 100%|████████████████████████████████████████████████████████████████████████████████████████████████████████████████████| 910/910 [00:44<00:00, 20.52it/s]\n"
     ]
    },
    {
     "name": "stdout",
     "output_type": "stream",
     "text": [
      "Epoch 141/512: Train Loss = 0.27779, Validation Loss = 0.28976, Train Accuracy = 0.79338, Validation Accuracy = 0.79681\n"
     ]
    },
    {
     "name": "stderr",
     "output_type": "stream",
     "text": [
      "Epoch 142/512: 100%|████████████████████████████████████████████████████████████████████████████████████████████████████████████████████| 910/910 [00:44<00:00, 20.42it/s]\n"
     ]
    },
    {
     "name": "stdout",
     "output_type": "stream",
     "text": [
      "Epoch 142/512: Train Loss = 0.27694, Validation Loss = 0.29992, Train Accuracy = 0.79383, Validation Accuracy = 0.79337\n"
     ]
    },
    {
     "name": "stderr",
     "output_type": "stream",
     "text": [
      "Epoch 143/512: 100%|████████████████████████████████████████████████████████████████████████████████████████████████████████████████████| 910/910 [00:44<00:00, 20.61it/s]\n"
     ]
    },
    {
     "name": "stdout",
     "output_type": "stream",
     "text": [
      "Epoch 143/512: Train Loss = 0.27654, Validation Loss = 0.29551, Train Accuracy = 0.79632, Validation Accuracy = 0.79901\n"
     ]
    },
    {
     "name": "stderr",
     "output_type": "stream",
     "text": [
      "Epoch 144/512: 100%|████████████████████████████████████████████████████████████████████████████████████████████████████████████████████| 910/910 [00:44<00:00, 20.45it/s]\n"
     ]
    },
    {
     "name": "stdout",
     "output_type": "stream",
     "text": [
      "Epoch 144/512: Train Loss = 0.27491, Validation Loss = 0.29603, Train Accuracy = 0.79587, Validation Accuracy = 0.79736\n"
     ]
    },
    {
     "name": "stderr",
     "output_type": "stream",
     "text": [
      "Epoch 145/512: 100%|████████████████████████████████████████████████████████████████████████████████████████████████████████████████████| 910/910 [00:44<00:00, 20.34it/s]\n"
     ]
    },
    {
     "name": "stdout",
     "output_type": "stream",
     "text": [
      "Epoch 145/512: Train Loss = 0.27519, Validation Loss = 0.28933, Train Accuracy = 0.79558, Validation Accuracy = 0.79406\n"
     ]
    },
    {
     "name": "stderr",
     "output_type": "stream",
     "text": [
      "Epoch 146/512: 100%|████████████████████████████████████████████████████████████████████████████████████████████████████████████████████| 910/910 [00:44<00:00, 20.42it/s]\n"
     ]
    },
    {
     "name": "stdout",
     "output_type": "stream",
     "text": [
      "Epoch 146/512: Train Loss = 0.27602, Validation Loss = 0.29055, Train Accuracy = 0.79522, Validation Accuracy = 0.79681\n"
     ]
    },
    {
     "name": "stderr",
     "output_type": "stream",
     "text": [
      "Epoch 147/512: 100%|████████████████████████████████████████████████████████████████████████████████████████████████████████████████████| 910/910 [00:44<00:00, 20.40it/s]\n"
     ]
    },
    {
     "name": "stdout",
     "output_type": "stream",
     "text": [
      "Epoch 147/512: Train Loss = 0.27484, Validation Loss = 0.30383, Train Accuracy = 0.79544, Validation Accuracy = 0.79090\n"
     ]
    },
    {
     "name": "stderr",
     "output_type": "stream",
     "text": [
      "Epoch 148/512: 100%|████████████████████████████████████████████████████████████████████████████████████████████████████████████████████| 910/910 [00:44<00:00, 20.33it/s]\n"
     ]
    },
    {
     "name": "stdout",
     "output_type": "stream",
     "text": [
      "Epoch 148/512: Train Loss = 0.27344, Validation Loss = 0.28782, Train Accuracy = 0.79738, Validation Accuracy = 0.79901\n"
     ]
    },
    {
     "name": "stderr",
     "output_type": "stream",
     "text": [
      "Epoch 149/512: 100%|████████████████████████████████████████████████████████████████████████████████████████████████████████████████████| 910/910 [00:44<00:00, 20.45it/s]\n"
     ]
    },
    {
     "name": "stdout",
     "output_type": "stream",
     "text": [
      "Epoch 149/512: Train Loss = 0.27350, Validation Loss = 0.30063, Train Accuracy = 0.79714, Validation Accuracy = 0.79777\n"
     ]
    },
    {
     "name": "stderr",
     "output_type": "stream",
     "text": [
      "Epoch 150/512: 100%|████████████████████████████████████████████████████████████████████████████████████████████████████████████████████| 910/910 [00:44<00:00, 20.40it/s]\n"
     ]
    },
    {
     "name": "stdout",
     "output_type": "stream",
     "text": [
      "Epoch 150/512: Train Loss = 0.27424, Validation Loss = 0.28989, Train Accuracy = 0.79529, Validation Accuracy = 0.79489\n"
     ]
    },
    {
     "name": "stderr",
     "output_type": "stream",
     "text": [
      "Epoch 151/512: 100%|████████████████████████████████████████████████████████████████████████████████████████████████████████████████████| 910/910 [00:44<00:00, 20.43it/s]\n"
     ]
    },
    {
     "name": "stdout",
     "output_type": "stream",
     "text": [
      "Epoch 151/512: Train Loss = 0.27534, Validation Loss = 0.28669, Train Accuracy = 0.79589, Validation Accuracy = 0.79764\n"
     ]
    },
    {
     "name": "stderr",
     "output_type": "stream",
     "text": [
      "Epoch 152/512: 100%|████████████████████████████████████████████████████████████████████████████████████████████████████████████████████| 910/910 [00:44<00:00, 20.48it/s]\n"
     ]
    },
    {
     "name": "stdout",
     "output_type": "stream",
     "text": [
      "Epoch 152/512: Train Loss = 0.27309, Validation Loss = 0.29188, Train Accuracy = 0.79656, Validation Accuracy = 0.79544\n"
     ]
    },
    {
     "name": "stderr",
     "output_type": "stream",
     "text": [
      "Epoch 153/512: 100%|████████████████████████████████████████████████████████████████████████████████████████████████████████████████████| 910/910 [00:44<00:00, 20.51it/s]\n"
     ]
    },
    {
     "name": "stdout",
     "output_type": "stream",
     "text": [
      "Epoch 153/512: Train Loss = 0.27270, Validation Loss = 0.29195, Train Accuracy = 0.79677, Validation Accuracy = 0.80025\n"
     ]
    },
    {
     "name": "stderr",
     "output_type": "stream",
     "text": [
      "Epoch 154/512: 100%|████████████████████████████████████████████████████████████████████████████████████████████████████████████████████| 910/910 [00:44<00:00, 20.48it/s]\n"
     ]
    },
    {
     "name": "stdout",
     "output_type": "stream",
     "text": [
      "Epoch 154/512: Train Loss = 0.27240, Validation Loss = 0.29082, Train Accuracy = 0.79591, Validation Accuracy = 0.79502\n"
     ]
    },
    {
     "name": "stderr",
     "output_type": "stream",
     "text": [
      "Epoch 155/512: 100%|████████████████████████████████████████████████████████████████████████████████████████████████████████████████████| 910/910 [00:44<00:00, 20.42it/s]\n"
     ]
    },
    {
     "name": "stdout",
     "output_type": "stream",
     "text": [
      "Epoch 155/512: Train Loss = 0.27223, Validation Loss = 0.28430, Train Accuracy = 0.79747, Validation Accuracy = 0.80080\n"
     ]
    },
    {
     "name": "stderr",
     "output_type": "stream",
     "text": [
      "Epoch 156/512: 100%|████████████████████████████████████████████████████████████████████████████████████████████████████████████████████| 910/910 [00:44<00:00, 20.43it/s]\n"
     ]
    },
    {
     "name": "stdout",
     "output_type": "stream",
     "text": [
      "Epoch 156/512: Train Loss = 0.27210, Validation Loss = 0.28441, Train Accuracy = 0.79866, Validation Accuracy = 0.79915\n"
     ]
    },
    {
     "name": "stderr",
     "output_type": "stream",
     "text": [
      "Epoch 157/512: 100%|████████████████████████████████████████████████████████████████████████████████████████████████████████████████████| 910/910 [00:44<00:00, 20.64it/s]\n"
     ]
    },
    {
     "name": "stdout",
     "output_type": "stream",
     "text": [
      "Epoch 157/512: Train Loss = 0.27276, Validation Loss = 0.28218, Train Accuracy = 0.79730, Validation Accuracy = 0.79764\n"
     ]
    },
    {
     "name": "stderr",
     "output_type": "stream",
     "text": [
      "Epoch 158/512: 100%|████████████████████████████████████████████████████████████████████████████████████████████████████████████████████| 910/910 [00:44<00:00, 20.66it/s]\n"
     ]
    },
    {
     "name": "stdout",
     "output_type": "stream",
     "text": [
      "Epoch 158/512: Train Loss = 0.27129, Validation Loss = 0.28925, Train Accuracy = 0.79769, Validation Accuracy = 0.79970\n"
     ]
    },
    {
     "name": "stderr",
     "output_type": "stream",
     "text": [
      "Epoch 159/512: 100%|████████████████████████████████████████████████████████████████████████████████████████████████████████████████████| 910/910 [00:44<00:00, 20.62it/s]\n"
     ]
    },
    {
     "name": "stdout",
     "output_type": "stream",
     "text": [
      "Epoch 159/512: Train Loss = 0.26994, Validation Loss = 0.29210, Train Accuracy = 0.79835, Validation Accuracy = 0.80080\n"
     ]
    },
    {
     "name": "stderr",
     "output_type": "stream",
     "text": [
      "Epoch 160/512: 100%|████████████████████████████████████████████████████████████████████████████████████████████████████████████████████| 910/910 [00:44<00:00, 20.48it/s]\n"
     ]
    },
    {
     "name": "stdout",
     "output_type": "stream",
     "text": [
      "Epoch 160/512: Train Loss = 0.27037, Validation Loss = 0.28630, Train Accuracy = 0.79716, Validation Accuracy = 0.79777\n"
     ]
    },
    {
     "name": "stderr",
     "output_type": "stream",
     "text": [
      "Epoch 161/512: 100%|████████████████████████████████████████████████████████████████████████████████████████████████████████████████████| 910/910 [00:44<00:00, 20.46it/s]\n"
     ]
    },
    {
     "name": "stdout",
     "output_type": "stream",
     "text": [
      "Epoch 161/512: Train Loss = 0.27019, Validation Loss = 0.28570, Train Accuracy = 0.80053, Validation Accuracy = 0.79791\n"
     ]
    },
    {
     "name": "stderr",
     "output_type": "stream",
     "text": [
      "Epoch 162/512: 100%|████████████████████████████████████████████████████████████████████████████████████████████████████████████████████| 910/910 [00:44<00:00, 20.61it/s]\n"
     ]
    },
    {
     "name": "stdout",
     "output_type": "stream",
     "text": [
      "Epoch 162/512: Train Loss = 0.26907, Validation Loss = 0.29192, Train Accuracy = 0.79874, Validation Accuracy = 0.79379\n"
     ]
    },
    {
     "name": "stderr",
     "output_type": "stream",
     "text": [
      "Epoch 163/512: 100%|████████████████████████████████████████████████████████████████████████████████████████████████████████████████████| 910/910 [00:44<00:00, 20.50it/s]\n"
     ]
    },
    {
     "name": "stdout",
     "output_type": "stream",
     "text": [
      "Epoch 163/512: Train Loss = 0.27031, Validation Loss = 0.29316, Train Accuracy = 0.79776, Validation Accuracy = 0.79832\n"
     ]
    },
    {
     "name": "stderr",
     "output_type": "stream",
     "text": [
      "Epoch 164/512: 100%|████████████████████████████████████████████████████████████████████████████████████████████████████████████████████| 910/910 [00:44<00:00, 20.58it/s]\n"
     ]
    },
    {
     "name": "stdout",
     "output_type": "stream",
     "text": [
      "Epoch 164/512: Train Loss = 0.26873, Validation Loss = 0.28634, Train Accuracy = 0.79967, Validation Accuracy = 0.80107\n"
     ]
    },
    {
     "name": "stderr",
     "output_type": "stream",
     "text": [
      "Epoch 165/512: 100%|████████████████████████████████████████████████████████████████████████████████████████████████████████████████████| 910/910 [00:44<00:00, 20.44it/s]\n"
     ]
    },
    {
     "name": "stdout",
     "output_type": "stream",
     "text": [
      "Epoch 165/512: Train Loss = 0.26791, Validation Loss = 0.28922, Train Accuracy = 0.79867, Validation Accuracy = 0.80162\n"
     ]
    },
    {
     "name": "stderr",
     "output_type": "stream",
     "text": [
      "Epoch 166/512: 100%|████████████████████████████████████████████████████████████████████████████████████████████████████████████████████| 910/910 [00:44<00:00, 20.44it/s]\n"
     ]
    },
    {
     "name": "stdout",
     "output_type": "stream",
     "text": [
      "Epoch 166/512: Train Loss = 0.26970, Validation Loss = 0.29025, Train Accuracy = 0.79750, Validation Accuracy = 0.79874\n"
     ]
    },
    {
     "name": "stderr",
     "output_type": "stream",
     "text": [
      "Epoch 167/512: 100%|████████████████████████████████████████████████████████████████████████████████████████████████████████████████████| 910/910 [00:44<00:00, 20.57it/s]\n"
     ]
    },
    {
     "name": "stdout",
     "output_type": "stream",
     "text": [
      "Epoch 167/512: Train Loss = 0.26826, Validation Loss = 0.28454, Train Accuracy = 0.79752, Validation Accuracy = 0.79489\n"
     ]
    },
    {
     "name": "stderr",
     "output_type": "stream",
     "text": [
      "Epoch 168/512: 100%|████████████████████████████████████████████████████████████████████████████████████████████████████████████████████| 910/910 [00:44<00:00, 20.45it/s]\n"
     ]
    },
    {
     "name": "stdout",
     "output_type": "stream",
     "text": [
      "Epoch 168/512: Train Loss = 0.26763, Validation Loss = 0.28690, Train Accuracy = 0.79924, Validation Accuracy = 0.80148\n"
     ]
    },
    {
     "name": "stderr",
     "output_type": "stream",
     "text": [
      "Epoch 169/512: 100%|████████████████████████████████████████████████████████████████████████████████████████████████████████████████████| 910/910 [00:44<00:00, 20.50it/s]\n"
     ]
    },
    {
     "name": "stdout",
     "output_type": "stream",
     "text": [
      "Epoch 169/512: Train Loss = 0.26754, Validation Loss = 0.28895, Train Accuracy = 0.79993, Validation Accuracy = 0.79832\n"
     ]
    },
    {
     "name": "stderr",
     "output_type": "stream",
     "text": [
      "Epoch 170/512: 100%|████████████████████████████████████████████████████████████████████████████████████████████████████████████████████| 910/910 [00:44<00:00, 20.58it/s]\n"
     ]
    },
    {
     "name": "stdout",
     "output_type": "stream",
     "text": [
      "Epoch 170/512: Train Loss = 0.26704, Validation Loss = 0.28391, Train Accuracy = 0.80007, Validation Accuracy = 0.80052\n"
     ]
    },
    {
     "name": "stderr",
     "output_type": "stream",
     "text": [
      "Epoch 171/512: 100%|████████████████████████████████████████████████████████████████████████████████████████████████████████████████████| 910/910 [00:44<00:00, 20.54it/s]\n"
     ]
    },
    {
     "name": "stdout",
     "output_type": "stream",
     "text": [
      "Epoch 171/512: Train Loss = 0.26780, Validation Loss = 0.28757, Train Accuracy = 0.79952, Validation Accuracy = 0.80382\n"
     ]
    },
    {
     "name": "stderr",
     "output_type": "stream",
     "text": [
      "Epoch 172/512: 100%|████████████████████████████████████████████████████████████████████████████████████████████████████████████████████| 910/910 [00:44<00:00, 20.44it/s]\n"
     ]
    },
    {
     "name": "stdout",
     "output_type": "stream",
     "text": [
      "Epoch 172/512: Train Loss = 0.26612, Validation Loss = 0.28177, Train Accuracy = 0.80096, Validation Accuracy = 0.79791\n"
     ]
    },
    {
     "name": "stderr",
     "output_type": "stream",
     "text": [
      "Epoch 173/512: 100%|████████████████████████████████████████████████████████████████████████████████████████████████████████████████████| 910/910 [00:44<00:00, 20.55it/s]\n"
     ]
    },
    {
     "name": "stdout",
     "output_type": "stream",
     "text": [
      "Epoch 173/512: Train Loss = 0.26789, Validation Loss = 0.28700, Train Accuracy = 0.79940, Validation Accuracy = 0.79709\n"
     ]
    },
    {
     "name": "stderr",
     "output_type": "stream",
     "text": [
      "Epoch 174/512: 100%|████████████████████████████████████████████████████████████████████████████████████████████████████████████████████| 910/910 [00:44<00:00, 20.45it/s]\n"
     ]
    },
    {
     "name": "stdout",
     "output_type": "stream",
     "text": [
      "Epoch 174/512: Train Loss = 0.26547, Validation Loss = 0.28862, Train Accuracy = 0.80318, Validation Accuracy = 0.79736\n"
     ]
    },
    {
     "name": "stderr",
     "output_type": "stream",
     "text": [
      "Epoch 175/512: 100%|████████████████████████████████████████████████████████████████████████████████████████████████████████████████████| 910/910 [00:44<00:00, 20.60it/s]\n"
     ]
    },
    {
     "name": "stdout",
     "output_type": "stream",
     "text": [
      "Epoch 175/512: Train Loss = 0.26507, Validation Loss = 0.29118, Train Accuracy = 0.80115, Validation Accuracy = 0.80176\n"
     ]
    },
    {
     "name": "stderr",
     "output_type": "stream",
     "text": [
      "Epoch 176/512: 100%|████████████████████████████████████████████████████████████████████████████████████████████████████████████████████| 910/910 [00:44<00:00, 20.58it/s]\n"
     ]
    },
    {
     "name": "stdout",
     "output_type": "stream",
     "text": [
      "Epoch 176/512: Train Loss = 0.26476, Validation Loss = 0.28595, Train Accuracy = 0.80199, Validation Accuracy = 0.80190\n"
     ]
    },
    {
     "name": "stderr",
     "output_type": "stream",
     "text": [
      "Epoch 177/512: 100%|████████████████████████████████████████████████████████████████████████████████████████████████████████████████████| 910/910 [00:44<00:00, 20.55it/s]\n"
     ]
    },
    {
     "name": "stdout",
     "output_type": "stream",
     "text": [
      "Epoch 177/512: Train Loss = 0.26412, Validation Loss = 0.29192, Train Accuracy = 0.80101, Validation Accuracy = 0.80245\n"
     ]
    },
    {
     "name": "stderr",
     "output_type": "stream",
     "text": [
      "Epoch 178/512: 100%|████████████████████████████████████████████████████████████████████████████████████████████████████████████████████| 910/910 [00:44<00:00, 20.43it/s]\n"
     ]
    },
    {
     "name": "stdout",
     "output_type": "stream",
     "text": [
      "Epoch 178/512: Train Loss = 0.26522, Validation Loss = 0.29040, Train Accuracy = 0.80209, Validation Accuracy = 0.80121\n"
     ]
    },
    {
     "name": "stderr",
     "output_type": "stream",
     "text": [
      "Epoch 179/512: 100%|████████████████████████████████████████████████████████████████████████████████████████████████████████████████████| 910/910 [00:44<00:00, 20.45it/s]\n"
     ]
    },
    {
     "name": "stdout",
     "output_type": "stream",
     "text": [
      "Epoch 179/512: Train Loss = 0.26416, Validation Loss = 0.27787, Train Accuracy = 0.80283, Validation Accuracy = 0.80038\n"
     ]
    },
    {
     "name": "stderr",
     "output_type": "stream",
     "text": [
      "Epoch 180/512: 100%|████████████████████████████████████████████████████████████████████████████████████████████████████████████████████| 910/910 [00:44<00:00, 20.45it/s]\n"
     ]
    },
    {
     "name": "stdout",
     "output_type": "stream",
     "text": [
      "Epoch 180/512: Train Loss = 0.26275, Validation Loss = 0.28576, Train Accuracy = 0.80151, Validation Accuracy = 0.80203\n"
     ]
    },
    {
     "name": "stderr",
     "output_type": "stream",
     "text": [
      "Epoch 181/512: 100%|████████████████████████████████████████████████████████████████████████████████████████████████████████████████████| 910/910 [00:44<00:00, 20.41it/s]\n"
     ]
    },
    {
     "name": "stdout",
     "output_type": "stream",
     "text": [
      "Epoch 181/512: Train Loss = 0.26472, Validation Loss = 0.29331, Train Accuracy = 0.80123, Validation Accuracy = 0.80190\n"
     ]
    },
    {
     "name": "stderr",
     "output_type": "stream",
     "text": [
      "Epoch 182/512: 100%|████████████████████████████████████████████████████████████████████████████████████████████████████████████████████| 910/910 [00:44<00:00, 20.55it/s]\n"
     ]
    },
    {
     "name": "stdout",
     "output_type": "stream",
     "text": [
      "Epoch 182/512: Train Loss = 0.26381, Validation Loss = 0.28483, Train Accuracy = 0.80075, Validation Accuracy = 0.80190\n"
     ]
    },
    {
     "name": "stderr",
     "output_type": "stream",
     "text": [
      "Epoch 183/512: 100%|████████████████████████████████████████████████████████████████████████████████████████████████████████████████████| 910/910 [00:44<00:00, 20.53it/s]\n"
     ]
    },
    {
     "name": "stdout",
     "output_type": "stream",
     "text": [
      "Epoch 183/512: Train Loss = 0.26272, Validation Loss = 0.29213, Train Accuracy = 0.80299, Validation Accuracy = 0.79805\n"
     ]
    },
    {
     "name": "stderr",
     "output_type": "stream",
     "text": [
      "Epoch 184/512: 100%|████████████████████████████████████████████████████████████████████████████████████████████████████████████████████| 910/910 [00:44<00:00, 20.56it/s]\n"
     ]
    },
    {
     "name": "stdout",
     "output_type": "stream",
     "text": [
      "Epoch 184/512: Train Loss = 0.26369, Validation Loss = 0.28387, Train Accuracy = 0.80354, Validation Accuracy = 0.79887\n"
     ]
    },
    {
     "name": "stderr",
     "output_type": "stream",
     "text": [
      "Epoch 185/512: 100%|████████████████████████████████████████████████████████████████████████████████████████████████████████████████████| 910/910 [00:44<00:00, 20.54it/s]\n"
     ]
    },
    {
     "name": "stdout",
     "output_type": "stream",
     "text": [
      "Epoch 185/512: Train Loss = 0.26233, Validation Loss = 0.27809, Train Accuracy = 0.80314, Validation Accuracy = 0.80355\n"
     ]
    },
    {
     "name": "stderr",
     "output_type": "stream",
     "text": [
      "Epoch 186/512: 100%|████████████████████████████████████████████████████████████████████████████████████████████████████████████████████| 910/910 [00:44<00:00, 20.45it/s]\n"
     ]
    },
    {
     "name": "stdout",
     "output_type": "stream",
     "text": [
      "Epoch 186/512: Train Loss = 0.26338, Validation Loss = 0.29613, Train Accuracy = 0.80144, Validation Accuracy = 0.80038\n"
     ]
    },
    {
     "name": "stderr",
     "output_type": "stream",
     "text": [
      "Epoch 187/512: 100%|████████████████████████████████████████████████████████████████████████████████████████████████████████████████████| 910/910 [00:44<00:00, 20.52it/s]\n"
     ]
    },
    {
     "name": "stdout",
     "output_type": "stream",
     "text": [
      "Epoch 187/512: Train Loss = 0.26339, Validation Loss = 0.28034, Train Accuracy = 0.80227, Validation Accuracy = 0.80066\n"
     ]
    },
    {
     "name": "stderr",
     "output_type": "stream",
     "text": [
      "Epoch 188/512: 100%|████████████████████████████████████████████████████████████████████████████████████████████████████████████████████| 910/910 [00:44<00:00, 20.55it/s]\n"
     ]
    },
    {
     "name": "stdout",
     "output_type": "stream",
     "text": [
      "Epoch 188/512: Train Loss = 0.26143, Validation Loss = 0.28058, Train Accuracy = 0.80230, Validation Accuracy = 0.79997\n"
     ]
    },
    {
     "name": "stderr",
     "output_type": "stream",
     "text": [
      "Epoch 189/512: 100%|████████████████████████████████████████████████████████████████████████████████████████████████████████████████████| 910/910 [00:44<00:00, 20.61it/s]\n"
     ]
    },
    {
     "name": "stdout",
     "output_type": "stream",
     "text": [
      "Epoch 189/512: Train Loss = 0.26148, Validation Loss = 0.28465, Train Accuracy = 0.80355, Validation Accuracy = 0.80107\n"
     ]
    },
    {
     "name": "stderr",
     "output_type": "stream",
     "text": [
      "Epoch 190/512: 100%|████████████████████████████████████████████████████████████████████████████████████████████████████████████████████| 910/910 [00:44<00:00, 20.57it/s]\n"
     ]
    },
    {
     "name": "stdout",
     "output_type": "stream",
     "text": [
      "Epoch 190/512: Train Loss = 0.26035, Validation Loss = 0.28913, Train Accuracy = 0.80450, Validation Accuracy = 0.80231\n"
     ]
    },
    {
     "name": "stderr",
     "output_type": "stream",
     "text": [
      "Epoch 191/512: 100%|████████████████████████████████████████████████████████████████████████████████████████████████████████████████████| 910/910 [00:44<00:00, 20.51it/s]\n"
     ]
    },
    {
     "name": "stdout",
     "output_type": "stream",
     "text": [
      "Epoch 191/512: Train Loss = 0.26042, Validation Loss = 0.28419, Train Accuracy = 0.80402, Validation Accuracy = 0.80368\n"
     ]
    },
    {
     "name": "stderr",
     "output_type": "stream",
     "text": [
      "Epoch 192/512: 100%|████████████████████████████████████████████████████████████████████████████████████████████████████████████████████| 910/910 [00:44<00:00, 20.46it/s]\n"
     ]
    },
    {
     "name": "stdout",
     "output_type": "stream",
     "text": [
      "Epoch 192/512: Train Loss = 0.25992, Validation Loss = 0.28568, Train Accuracy = 0.80582, Validation Accuracy = 0.80052\n"
     ]
    },
    {
     "name": "stderr",
     "output_type": "stream",
     "text": [
      "Epoch 193/512: 100%|████████████████████████████████████████████████████████████████████████████████████████████████████████████████████| 910/910 [00:44<00:00, 20.56it/s]\n"
     ]
    },
    {
     "name": "stdout",
     "output_type": "stream",
     "text": [
      "Epoch 193/512: Train Loss = 0.25933, Validation Loss = 0.28698, Train Accuracy = 0.80656, Validation Accuracy = 0.80300\n"
     ]
    },
    {
     "name": "stderr",
     "output_type": "stream",
     "text": [
      "Epoch 194/512: 100%|████████████████████████████████████████████████████████████████████████████████████████████████████████████████████| 910/910 [00:44<00:00, 20.56it/s]\n"
     ]
    },
    {
     "name": "stdout",
     "output_type": "stream",
     "text": [
      "Epoch 194/512: Train Loss = 0.26064, Validation Loss = 0.28842, Train Accuracy = 0.80314, Validation Accuracy = 0.80011\n"
     ]
    },
    {
     "name": "stderr",
     "output_type": "stream",
     "text": [
      "Epoch 195/512: 100%|████████████████████████████████████████████████████████████████████████████████████████████████████████████████████| 910/910 [00:44<00:00, 20.45it/s]\n"
     ]
    },
    {
     "name": "stdout",
     "output_type": "stream",
     "text": [
      "Epoch 195/512: Train Loss = 0.26042, Validation Loss = 0.28185, Train Accuracy = 0.80240, Validation Accuracy = 0.80135\n"
     ]
    },
    {
     "name": "stderr",
     "output_type": "stream",
     "text": [
      "Epoch 196/512: 100%|████████████████████████████████████████████████████████████████████████████████████████████████████████████████████| 910/910 [00:44<00:00, 20.48it/s]\n"
     ]
    },
    {
     "name": "stdout",
     "output_type": "stream",
     "text": [
      "Epoch 196/512: Train Loss = 0.26059, Validation Loss = 0.27775, Train Accuracy = 0.80321, Validation Accuracy = 0.79654\n"
     ]
    },
    {
     "name": "stderr",
     "output_type": "stream",
     "text": [
      "Epoch 197/512: 100%|████████████████████████████████████████████████████████████████████████████████████████████████████████████████████| 910/910 [00:44<00:00, 20.48it/s]\n"
     ]
    },
    {
     "name": "stdout",
     "output_type": "stream",
     "text": [
      "Epoch 197/512: Train Loss = 0.26020, Validation Loss = 0.28238, Train Accuracy = 0.80472, Validation Accuracy = 0.80602\n"
     ]
    },
    {
     "name": "stderr",
     "output_type": "stream",
     "text": [
      "Epoch 198/512: 100%|████████████████████████████████████████████████████████████████████████████████████████████████████████████████████| 910/910 [00:44<00:00, 20.45it/s]\n"
     ]
    },
    {
     "name": "stdout",
     "output_type": "stream",
     "text": [
      "Epoch 198/512: Train Loss = 0.26046, Validation Loss = 0.28520, Train Accuracy = 0.80443, Validation Accuracy = 0.79764\n"
     ]
    },
    {
     "name": "stderr",
     "output_type": "stream",
     "text": [
      "Epoch 199/512: 100%|████████████████████████████████████████████████████████████████████████████████████████████████████████████████████| 910/910 [00:44<00:00, 20.41it/s]\n"
     ]
    },
    {
     "name": "stdout",
     "output_type": "stream",
     "text": [
      "Epoch 199/512: Train Loss = 0.26080, Validation Loss = 0.29266, Train Accuracy = 0.80249, Validation Accuracy = 0.79791\n"
     ]
    },
    {
     "name": "stderr",
     "output_type": "stream",
     "text": [
      "Epoch 200/512: 100%|████████████████████████████████████████████████████████████████████████████████████████████████████████████████████| 910/910 [00:44<00:00, 20.59it/s]\n"
     ]
    },
    {
     "name": "stdout",
     "output_type": "stream",
     "text": [
      "Epoch 200/512: Train Loss = 0.25822, Validation Loss = 0.28288, Train Accuracy = 0.80512, Validation Accuracy = 0.80478\n"
     ]
    },
    {
     "name": "stderr",
     "output_type": "stream",
     "text": [
      "Epoch 201/512: 100%|████████████████████████████████████████████████████████████████████████████████████████████████████████████████████| 910/910 [00:44<00:00, 20.55it/s]\n"
     ]
    },
    {
     "name": "stdout",
     "output_type": "stream",
     "text": [
      "Epoch 201/512: Train Loss = 0.25799, Validation Loss = 0.28426, Train Accuracy = 0.80495, Validation Accuracy = 0.80162\n"
     ]
    },
    {
     "name": "stderr",
     "output_type": "stream",
     "text": [
      "Epoch 202/512: 100%|████████████████████████████████████████████████████████████████████████████████████████████████████████████████████| 910/910 [00:44<00:00, 20.43it/s]\n"
     ]
    },
    {
     "name": "stdout",
     "output_type": "stream",
     "text": [
      "Epoch 202/512: Train Loss = 0.25888, Validation Loss = 0.28249, Train Accuracy = 0.80393, Validation Accuracy = 0.80313\n"
     ]
    },
    {
     "name": "stderr",
     "output_type": "stream",
     "text": [
      "Epoch 203/512: 100%|████████████████████████████████████████████████████████████████████████████████████████████████████████████████████| 910/910 [00:44<00:00, 20.32it/s]\n"
     ]
    },
    {
     "name": "stdout",
     "output_type": "stream",
     "text": [
      "Epoch 203/512: Train Loss = 0.25812, Validation Loss = 0.27694, Train Accuracy = 0.80457, Validation Accuracy = 0.80300\n"
     ]
    },
    {
     "name": "stderr",
     "output_type": "stream",
     "text": [
      "Epoch 204/512: 100%|████████████████████████████████████████████████████████████████████████████████████████████████████████████████████| 910/910 [00:44<00:00, 20.41it/s]\n"
     ]
    },
    {
     "name": "stdout",
     "output_type": "stream",
     "text": [
      "Epoch 204/512: Train Loss = 0.25650, Validation Loss = 0.28990, Train Accuracy = 0.80481, Validation Accuracy = 0.80355\n"
     ]
    },
    {
     "name": "stderr",
     "output_type": "stream",
     "text": [
      "Epoch 205/512: 100%|████████████████████████████████████████████████████████████████████████████████████████████████████████████████████| 910/910 [00:44<00:00, 20.52it/s]\n"
     ]
    },
    {
     "name": "stdout",
     "output_type": "stream",
     "text": [
      "Epoch 205/512: Train Loss = 0.25816, Validation Loss = 0.28492, Train Accuracy = 0.80608, Validation Accuracy = 0.80286\n"
     ]
    },
    {
     "name": "stderr",
     "output_type": "stream",
     "text": [
      "Epoch 206/512: 100%|████████████████████████████████████████████████████████████████████████████████████████████████████████████████████| 910/910 [00:44<00:00, 20.55it/s]\n"
     ]
    },
    {
     "name": "stdout",
     "output_type": "stream",
     "text": [
      "Epoch 206/512: Train Loss = 0.25747, Validation Loss = 0.27727, Train Accuracy = 0.80620, Validation Accuracy = 0.80300\n"
     ]
    },
    {
     "name": "stderr",
     "output_type": "stream",
     "text": [
      "Epoch 207/512: 100%|████████████████████████████████████████████████████████████████████████████████████████████████████████████████████| 910/910 [00:44<00:00, 20.49it/s]\n"
     ]
    },
    {
     "name": "stdout",
     "output_type": "stream",
     "text": [
      "Epoch 207/512: Train Loss = 0.25782, Validation Loss = 0.27821, Train Accuracy = 0.80553, Validation Accuracy = 0.80423\n"
     ]
    },
    {
     "name": "stderr",
     "output_type": "stream",
     "text": [
      "Epoch 208/512: 100%|████████████████████████████████████████████████████████████████████████████████████████████████████████████████████| 910/910 [00:44<00:00, 20.40it/s]\n"
     ]
    },
    {
     "name": "stdout",
     "output_type": "stream",
     "text": [
      "Epoch 208/512: Train Loss = 0.25726, Validation Loss = 0.28240, Train Accuracy = 0.80672, Validation Accuracy = 0.80671\n"
     ]
    },
    {
     "name": "stderr",
     "output_type": "stream",
     "text": [
      "Epoch 209/512: 100%|████████████████████████████████████████████████████████████████████████████████████████████████████████████████████| 910/910 [00:44<00:00, 20.39it/s]\n"
     ]
    },
    {
     "name": "stdout",
     "output_type": "stream",
     "text": [
      "Epoch 209/512: Train Loss = 0.25707, Validation Loss = 0.29938, Train Accuracy = 0.80706, Validation Accuracy = 0.79475\n"
     ]
    },
    {
     "name": "stderr",
     "output_type": "stream",
     "text": [
      "Epoch 210/512: 100%|████████████████████████████████████████████████████████████████████████████████████████████████████████████████████| 910/910 [00:44<00:00, 20.49it/s]\n"
     ]
    },
    {
     "name": "stdout",
     "output_type": "stream",
     "text": [
      "Epoch 210/512: Train Loss = 0.25663, Validation Loss = 0.26694, Train Accuracy = 0.80677, Validation Accuracy = 0.80520\n"
     ]
    },
    {
     "name": "stderr",
     "output_type": "stream",
     "text": [
      "Epoch 211/512: 100%|████████████████████████████████████████████████████████████████████████████████████████████████████████████████████| 910/910 [00:44<00:00, 20.45it/s]\n"
     ]
    },
    {
     "name": "stdout",
     "output_type": "stream",
     "text": [
      "Epoch 211/512: Train Loss = 0.25567, Validation Loss = 0.27998, Train Accuracy = 0.80591, Validation Accuracy = 0.80712\n"
     ]
    },
    {
     "name": "stderr",
     "output_type": "stream",
     "text": [
      "Epoch 212/512: 100%|████████████████████████████████████████████████████████████████████████████████████████████████████████████████████| 910/910 [00:44<00:00, 20.40it/s]\n"
     ]
    },
    {
     "name": "stdout",
     "output_type": "stream",
     "text": [
      "Epoch 212/512: Train Loss = 0.25523, Validation Loss = 0.27338, Train Accuracy = 0.80610, Validation Accuracy = 0.80396\n"
     ]
    },
    {
     "name": "stderr",
     "output_type": "stream",
     "text": [
      "Epoch 213/512: 100%|████████████████████████████████████████████████████████████████████████████████████████████████████████████████████| 910/910 [00:44<00:00, 20.48it/s]\n"
     ]
    },
    {
     "name": "stdout",
     "output_type": "stream",
     "text": [
      "Epoch 213/512: Train Loss = 0.25644, Validation Loss = 0.27288, Train Accuracy = 0.80493, Validation Accuracy = 0.80575\n"
     ]
    },
    {
     "name": "stderr",
     "output_type": "stream",
     "text": [
      "Epoch 214/512: 100%|████████████████████████████████████████████████████████████████████████████████████████████████████████████████████| 910/910 [00:44<00:00, 20.51it/s]\n"
     ]
    },
    {
     "name": "stdout",
     "output_type": "stream",
     "text": [
      "Epoch 214/512: Train Loss = 0.25555, Validation Loss = 0.28000, Train Accuracy = 0.80843, Validation Accuracy = 0.80575\n"
     ]
    },
    {
     "name": "stderr",
     "output_type": "stream",
     "text": [
      "Epoch 215/512: 100%|████████████████████████████████████████████████████████████████████████████████████████████████████████████████████| 910/910 [00:44<00:00, 20.53it/s]\n"
     ]
    },
    {
     "name": "stdout",
     "output_type": "stream",
     "text": [
      "Epoch 215/512: Train Loss = 0.25540, Validation Loss = 0.29448, Train Accuracy = 0.80670, Validation Accuracy = 0.79777\n"
     ]
    },
    {
     "name": "stderr",
     "output_type": "stream",
     "text": [
      "Epoch 216/512: 100%|████████████████████████████████████████████████████████████████████████████████████████████████████████████████████| 910/910 [00:44<00:00, 20.58it/s]\n"
     ]
    },
    {
     "name": "stdout",
     "output_type": "stream",
     "text": [
      "Epoch 216/512: Train Loss = 0.25505, Validation Loss = 0.28259, Train Accuracy = 0.80816, Validation Accuracy = 0.80066\n"
     ]
    },
    {
     "name": "stderr",
     "output_type": "stream",
     "text": [
      "Epoch 217/512: 100%|████████████████████████████████████████████████████████████████████████████████████████████████████████████████████| 910/910 [00:44<00:00, 20.61it/s]\n"
     ]
    },
    {
     "name": "stdout",
     "output_type": "stream",
     "text": [
      "Epoch 217/512: Train Loss = 0.25575, Validation Loss = 0.27523, Train Accuracy = 0.80704, Validation Accuracy = 0.80588\n"
     ]
    },
    {
     "name": "stderr",
     "output_type": "stream",
     "text": [
      "Epoch 218/512: 100%|████████████████████████████████████████████████████████████████████████████████████████████████████████████████████| 910/910 [00:44<00:00, 20.44it/s]\n"
     ]
    },
    {
     "name": "stdout",
     "output_type": "stream",
     "text": [
      "Epoch 218/512: Train Loss = 0.25574, Validation Loss = 0.27871, Train Accuracy = 0.80697, Validation Accuracy = 0.80286\n"
     ]
    },
    {
     "name": "stderr",
     "output_type": "stream",
     "text": [
      "Epoch 219/512: 100%|████████████████████████████████████████████████████████████████████████████████████████████████████████████████████| 910/910 [00:44<00:00, 20.46it/s]\n"
     ]
    },
    {
     "name": "stdout",
     "output_type": "stream",
     "text": [
      "Epoch 219/512: Train Loss = 0.25451, Validation Loss = 0.28361, Train Accuracy = 0.80730, Validation Accuracy = 0.80368\n"
     ]
    },
    {
     "name": "stderr",
     "output_type": "stream",
     "text": [
      "Epoch 220/512: 100%|████████████████████████████████████████████████████████████████████████████████████████████████████████████████████| 910/910 [00:44<00:00, 20.44it/s]\n"
     ]
    },
    {
     "name": "stdout",
     "output_type": "stream",
     "text": [
      "Epoch 220/512: Train Loss = 0.25469, Validation Loss = 0.27316, Train Accuracy = 0.80794, Validation Accuracy = 0.80341\n"
     ]
    },
    {
     "name": "stderr",
     "output_type": "stream",
     "text": [
      "Epoch 221/512: 100%|████████████████████████████████████████████████████████████████████████████████████████████████████████████████████| 910/910 [00:44<00:00, 20.49it/s]\n"
     ]
    },
    {
     "name": "stdout",
     "output_type": "stream",
     "text": [
      "Epoch 221/512: Train Loss = 0.25522, Validation Loss = 0.28544, Train Accuracy = 0.80716, Validation Accuracy = 0.79915\n"
     ]
    },
    {
     "name": "stderr",
     "output_type": "stream",
     "text": [
      "Epoch 222/512: 100%|████████████████████████████████████████████████████████████████████████████████████████████████████████████████████| 910/910 [00:44<00:00, 20.44it/s]\n"
     ]
    },
    {
     "name": "stdout",
     "output_type": "stream",
     "text": [
      "Epoch 222/512: Train Loss = 0.25324, Validation Loss = 0.28787, Train Accuracy = 0.80797, Validation Accuracy = 0.80217\n"
     ]
    },
    {
     "name": "stderr",
     "output_type": "stream",
     "text": [
      "Epoch 223/512: 100%|████████████████████████████████████████████████████████████████████████████████████████████████████████████████████| 910/910 [00:44<00:00, 20.48it/s]\n"
     ]
    },
    {
     "name": "stdout",
     "output_type": "stream",
     "text": [
      "Epoch 223/512: Train Loss = 0.25511, Validation Loss = 0.28325, Train Accuracy = 0.80642, Validation Accuracy = 0.80671\n"
     ]
    },
    {
     "name": "stderr",
     "output_type": "stream",
     "text": [
      "Epoch 224/512: 100%|████████████████████████████████████████████████████████████████████████████████████████████████████████████████████| 910/910 [00:44<00:00, 20.41it/s]\n"
     ]
    },
    {
     "name": "stdout",
     "output_type": "stream",
     "text": [
      "Epoch 224/512: Train Loss = 0.25424, Validation Loss = 0.27863, Train Accuracy = 0.80632, Validation Accuracy = 0.80300\n"
     ]
    },
    {
     "name": "stderr",
     "output_type": "stream",
     "text": [
      "Epoch 225/512: 100%|████████████████████████████████████████████████████████████████████████████████████████████████████████████████████| 910/910 [00:44<00:00, 20.40it/s]\n"
     ]
    },
    {
     "name": "stdout",
     "output_type": "stream",
     "text": [
      "Epoch 225/512: Train Loss = 0.25259, Validation Loss = 0.27794, Train Accuracy = 0.80761, Validation Accuracy = 0.80341\n"
     ]
    },
    {
     "name": "stderr",
     "output_type": "stream",
     "text": [
      "Epoch 226/512: 100%|████████████████████████████████████████████████████████████████████████████████████████████████████████████████████| 910/910 [00:44<00:00, 20.47it/s]\n"
     ]
    },
    {
     "name": "stdout",
     "output_type": "stream",
     "text": [
      "Epoch 226/512: Train Loss = 0.25318, Validation Loss = 0.28317, Train Accuracy = 0.80917, Validation Accuracy = 0.79984\n"
     ]
    },
    {
     "name": "stderr",
     "output_type": "stream",
     "text": [
      "Epoch 227/512: 100%|████████████████████████████████████████████████████████████████████████████████████████████████████████████████████| 910/910 [00:44<00:00, 20.56it/s]\n"
     ]
    },
    {
     "name": "stdout",
     "output_type": "stream",
     "text": [
      "Epoch 227/512: Train Loss = 0.25212, Validation Loss = 0.28134, Train Accuracy = 0.80783, Validation Accuracy = 0.80616\n"
     ]
    },
    {
     "name": "stderr",
     "output_type": "stream",
     "text": [
      "Epoch 228/512: 100%|████████████████████████████████████████████████████████████████████████████████████████████████████████████████████| 910/910 [00:44<00:00, 20.47it/s]\n"
     ]
    },
    {
     "name": "stdout",
     "output_type": "stream",
     "text": [
      "Epoch 228/512: Train Loss = 0.25186, Validation Loss = 0.28120, Train Accuracy = 0.80835, Validation Accuracy = 0.80561\n"
     ]
    },
    {
     "name": "stderr",
     "output_type": "stream",
     "text": [
      "Epoch 229/512: 100%|████████████████████████████████████████████████████████████████████████████████████████████████████████████████████| 910/910 [00:44<00:00, 20.49it/s]\n"
     ]
    },
    {
     "name": "stdout",
     "output_type": "stream",
     "text": [
      "Epoch 229/512: Train Loss = 0.25280, Validation Loss = 0.27334, Train Accuracy = 0.80840, Validation Accuracy = 0.80575\n"
     ]
    },
    {
     "name": "stderr",
     "output_type": "stream",
     "text": [
      "Epoch 230/512: 100%|████████████████████████████████████████████████████████████████████████████████████████████████████████████████████| 910/910 [00:44<00:00, 20.48it/s]\n"
     ]
    },
    {
     "name": "stdout",
     "output_type": "stream",
     "text": [
      "Epoch 230/512: Train Loss = 0.25201, Validation Loss = 0.27948, Train Accuracy = 0.80806, Validation Accuracy = 0.80520\n"
     ]
    },
    {
     "name": "stderr",
     "output_type": "stream",
     "text": [
      "Epoch 231/512: 100%|████████████████████████████████████████████████████████████████████████████████████████████████████████████████████| 910/910 [00:44<00:00, 20.43it/s]\n"
     ]
    },
    {
     "name": "stdout",
     "output_type": "stream",
     "text": [
      "Epoch 231/512: Train Loss = 0.25164, Validation Loss = 0.27157, Train Accuracy = 0.80871, Validation Accuracy = 0.80822\n"
     ]
    },
    {
     "name": "stderr",
     "output_type": "stream",
     "text": [
      "Epoch 232/512: 100%|████████████████████████████████████████████████████████████████████████████████████████████████████████████████████| 910/910 [00:44<00:00, 20.52it/s]\n"
     ]
    },
    {
     "name": "stdout",
     "output_type": "stream",
     "text": [
      "Epoch 232/512: Train Loss = 0.25270, Validation Loss = 0.27297, Train Accuracy = 0.80924, Validation Accuracy = 0.80423\n"
     ]
    },
    {
     "name": "stderr",
     "output_type": "stream",
     "text": [
      "Epoch 233/512: 100%|████████████████████████████████████████████████████████████████████████████████████████████████████████████████████| 910/910 [00:44<00:00, 20.56it/s]\n"
     ]
    },
    {
     "name": "stdout",
     "output_type": "stream",
     "text": [
      "Epoch 233/512: Train Loss = 0.25169, Validation Loss = 0.29074, Train Accuracy = 0.80880, Validation Accuracy = 0.79832\n"
     ]
    },
    {
     "name": "stderr",
     "output_type": "stream",
     "text": [
      "Epoch 234/512: 100%|████████████████████████████████████████████████████████████████████████████████████████████████████████████████████| 910/910 [00:44<00:00, 20.46it/s]\n"
     ]
    },
    {
     "name": "stdout",
     "output_type": "stream",
     "text": [
      "Epoch 234/512: Train Loss = 0.25169, Validation Loss = 0.28099, Train Accuracy = 0.80878, Validation Accuracy = 0.80712\n"
     ]
    },
    {
     "name": "stderr",
     "output_type": "stream",
     "text": [
      "Epoch 235/512: 100%|████████████████████████████████████████████████████████████████████████████████████████████████████████████████████| 910/910 [00:44<00:00, 20.46it/s]\n"
     ]
    },
    {
     "name": "stdout",
     "output_type": "stream",
     "text": [
      "Epoch 235/512: Train Loss = 0.25154, Validation Loss = 0.26688, Train Accuracy = 0.81008, Validation Accuracy = 0.80547\n"
     ]
    },
    {
     "name": "stderr",
     "output_type": "stream",
     "text": [
      "Epoch 236/512: 100%|████████████████████████████████████████████████████████████████████████████████████████████████████████████████████| 910/910 [00:44<00:00, 20.53it/s]\n"
     ]
    },
    {
     "name": "stdout",
     "output_type": "stream",
     "text": [
      "Epoch 236/512: Train Loss = 0.25209, Validation Loss = 0.27157, Train Accuracy = 0.80776, Validation Accuracy = 0.80767\n"
     ]
    },
    {
     "name": "stderr",
     "output_type": "stream",
     "text": [
      "Epoch 237/512: 100%|████████████████████████████████████████████████████████████████████████████████████████████████████████████████████| 910/910 [00:44<00:00, 20.51it/s]\n"
     ]
    },
    {
     "name": "stdout",
     "output_type": "stream",
     "text": [
      "Epoch 237/512: Train Loss = 0.25052, Validation Loss = 0.28280, Train Accuracy = 0.80854, Validation Accuracy = 0.80286\n"
     ]
    },
    {
     "name": "stderr",
     "output_type": "stream",
     "text": [
      "Epoch 238/512: 100%|████████████████████████████████████████████████████████████████████████████████████████████████████████████████████| 910/910 [00:44<00:00, 20.52it/s]\n"
     ]
    },
    {
     "name": "stdout",
     "output_type": "stream",
     "text": [
      "Epoch 238/512: Train Loss = 0.25182, Validation Loss = 0.27619, Train Accuracy = 0.80744, Validation Accuracy = 0.80685\n"
     ]
    },
    {
     "name": "stderr",
     "output_type": "stream",
     "text": [
      "Epoch 239/512: 100%|████████████████████████████████████████████████████████████████████████████████████████████████████████████████████| 910/910 [00:44<00:00, 20.54it/s]\n"
     ]
    },
    {
     "name": "stdout",
     "output_type": "stream",
     "text": [
      "Epoch 239/512: Train Loss = 0.25057, Validation Loss = 0.27843, Train Accuracy = 0.80843, Validation Accuracy = 0.80286\n"
     ]
    },
    {
     "name": "stderr",
     "output_type": "stream",
     "text": [
      "Epoch 240/512: 100%|████████████████████████████████████████████████████████████████████████████████████████████████████████████████████| 910/910 [00:44<00:00, 20.51it/s]\n"
     ]
    },
    {
     "name": "stdout",
     "output_type": "stream",
     "text": [
      "Epoch 240/512: Train Loss = 0.25113, Validation Loss = 0.27786, Train Accuracy = 0.80831, Validation Accuracy = 0.80588\n"
     ]
    },
    {
     "name": "stderr",
     "output_type": "stream",
     "text": [
      "Epoch 241/512: 100%|████████████████████████████████████████████████████████████████████████████████████████████████████████████████████| 910/910 [00:44<00:00, 20.53it/s]\n"
     ]
    },
    {
     "name": "stdout",
     "output_type": "stream",
     "text": [
      "Epoch 241/512: Train Loss = 0.24927, Validation Loss = 0.27859, Train Accuracy = 0.80876, Validation Accuracy = 0.80396\n"
     ]
    },
    {
     "name": "stderr",
     "output_type": "stream",
     "text": [
      "Epoch 242/512: 100%|████████████████████████████████████████████████████████████████████████████████████████████████████████████████████| 910/910 [00:44<00:00, 20.44it/s]\n"
     ]
    },
    {
     "name": "stdout",
     "output_type": "stream",
     "text": [
      "Epoch 242/512: Train Loss = 0.25065, Validation Loss = 0.27082, Train Accuracy = 0.80763, Validation Accuracy = 0.80245\n"
     ]
    },
    {
     "name": "stderr",
     "output_type": "stream",
     "text": [
      "Epoch 243/512: 100%|████████████████████████████████████████████████████████████████████████████████████████████████████████████████████| 910/910 [00:44<00:00, 20.57it/s]\n"
     ]
    },
    {
     "name": "stdout",
     "output_type": "stream",
     "text": [
      "Epoch 243/512: Train Loss = 0.24967, Validation Loss = 0.27915, Train Accuracy = 0.81003, Validation Accuracy = 0.80272\n"
     ]
    },
    {
     "name": "stderr",
     "output_type": "stream",
     "text": [
      "Epoch 244/512: 100%|████████████████████████████████████████████████████████████████████████████████████████████████████████████████████| 910/910 [00:44<00:00, 20.47it/s]\n"
     ]
    },
    {
     "name": "stdout",
     "output_type": "stream",
     "text": [
      "Epoch 244/512: Train Loss = 0.24904, Validation Loss = 0.27384, Train Accuracy = 0.80917, Validation Accuracy = 0.80492\n"
     ]
    },
    {
     "name": "stderr",
     "output_type": "stream",
     "text": [
      "Epoch 245/512: 100%|████████████████████████████████████████████████████████████████████████████████████████████████████████████████████| 910/910 [00:44<00:00, 20.56it/s]\n"
     ]
    },
    {
     "name": "stdout",
     "output_type": "stream",
     "text": [
      "Epoch 245/512: Train Loss = 0.24827, Validation Loss = 0.27448, Train Accuracy = 0.80971, Validation Accuracy = 0.80437\n"
     ]
    },
    {
     "name": "stderr",
     "output_type": "stream",
     "text": [
      "Epoch 246/512: 100%|████████████████████████████████████████████████████████████████████████████████████████████████████████████████████| 910/910 [00:44<00:00, 20.61it/s]\n"
     ]
    },
    {
     "name": "stdout",
     "output_type": "stream",
     "text": [
      "Epoch 246/512: Train Loss = 0.25046, Validation Loss = 0.28415, Train Accuracy = 0.80881, Validation Accuracy = 0.79970\n"
     ]
    },
    {
     "name": "stderr",
     "output_type": "stream",
     "text": [
      "Epoch 247/512: 100%|████████████████████████████████████████████████████████████████████████████████████████████████████████████████████| 910/910 [00:44<00:00, 20.51it/s]\n"
     ]
    },
    {
     "name": "stdout",
     "output_type": "stream",
     "text": [
      "Epoch 247/512: Train Loss = 0.24938, Validation Loss = 0.28435, Train Accuracy = 0.80868, Validation Accuracy = 0.80121\n"
     ]
    },
    {
     "name": "stderr",
     "output_type": "stream",
     "text": [
      "Epoch 248/512: 100%|████████████████████████████████████████████████████████████████████████████████████████████████████████████████████| 910/910 [00:44<00:00, 20.49it/s]\n"
     ]
    },
    {
     "name": "stdout",
     "output_type": "stream",
     "text": [
      "Epoch 248/512: Train Loss = 0.24855, Validation Loss = 0.27062, Train Accuracy = 0.81012, Validation Accuracy = 0.80588\n"
     ]
    },
    {
     "name": "stderr",
     "output_type": "stream",
     "text": [
      "Epoch 249/512: 100%|████████████████████████████████████████████████████████████████████████████████████████████████████████████████████| 910/910 [00:44<00:00, 20.45it/s]\n"
     ]
    },
    {
     "name": "stdout",
     "output_type": "stream",
     "text": [
      "Epoch 249/512: Train Loss = 0.24840, Validation Loss = 0.27653, Train Accuracy = 0.81210, Validation Accuracy = 0.80451\n"
     ]
    },
    {
     "name": "stderr",
     "output_type": "stream",
     "text": [
      "Epoch 250/512: 100%|████████████████████████████████████████████████████████████████████████████████████████████████████████████████████| 910/910 [00:44<00:00, 20.44it/s]\n"
     ]
    },
    {
     "name": "stdout",
     "output_type": "stream",
     "text": [
      "Epoch 250/512: Train Loss = 0.24861, Validation Loss = 0.27917, Train Accuracy = 0.80998, Validation Accuracy = 0.80616\n"
     ]
    },
    {
     "name": "stderr",
     "output_type": "stream",
     "text": [
      "Epoch 251/512: 100%|████████████████████████████████████████████████████████████████████████████████████████████████████████████████████| 910/910 [00:44<00:00, 20.37it/s]\n"
     ]
    },
    {
     "name": "stdout",
     "output_type": "stream",
     "text": [
      "Epoch 251/512: Train Loss = 0.24871, Validation Loss = 0.27019, Train Accuracy = 0.80945, Validation Accuracy = 0.80465\n"
     ]
    },
    {
     "name": "stderr",
     "output_type": "stream",
     "text": [
      "Epoch 252/512: 100%|████████████████████████████████████████████████████████████████████████████████████████████████████████████████████| 910/910 [00:44<00:00, 20.59it/s]\n"
     ]
    },
    {
     "name": "stdout",
     "output_type": "stream",
     "text": [
      "Epoch 252/512: Train Loss = 0.24678, Validation Loss = 0.27303, Train Accuracy = 0.81201, Validation Accuracy = 0.80767\n"
     ]
    },
    {
     "name": "stderr",
     "output_type": "stream",
     "text": [
      "Epoch 253/512: 100%|████████████████████████████████████████████████████████████████████████████████████████████████████████████████████| 910/910 [00:44<00:00, 20.42it/s]\n"
     ]
    },
    {
     "name": "stdout",
     "output_type": "stream",
     "text": [
      "Epoch 253/512: Train Loss = 0.24916, Validation Loss = 0.26581, Train Accuracy = 0.81045, Validation Accuracy = 0.80671\n"
     ]
    },
    {
     "name": "stderr",
     "output_type": "stream",
     "text": [
      "Epoch 254/512: 100%|████████████████████████████████████████████████████████████████████████████████████████████████████████████████████| 910/910 [00:44<00:00, 20.57it/s]\n"
     ]
    },
    {
     "name": "stdout",
     "output_type": "stream",
     "text": [
      "Epoch 254/512: Train Loss = 0.24746, Validation Loss = 0.27822, Train Accuracy = 0.80938, Validation Accuracy = 0.80575\n"
     ]
    },
    {
     "name": "stderr",
     "output_type": "stream",
     "text": [
      "Epoch 255/512: 100%|████████████████████████████████████████████████████████████████████████████████████████████████████████████████████| 910/910 [00:44<00:00, 20.44it/s]\n"
     ]
    },
    {
     "name": "stdout",
     "output_type": "stream",
     "text": [
      "Epoch 255/512: Train Loss = 0.24711, Validation Loss = 0.27280, Train Accuracy = 0.81197, Validation Accuracy = 0.80355\n"
     ]
    },
    {
     "name": "stderr",
     "output_type": "stream",
     "text": [
      "Epoch 256/512: 100%|████████████████████████████████████████████████████████████████████████████████████████████████████████████████████| 910/910 [00:44<00:00, 20.44it/s]\n"
     ]
    },
    {
     "name": "stdout",
     "output_type": "stream",
     "text": [
      "Epoch 256/512: Train Loss = 0.24921, Validation Loss = 0.28333, Train Accuracy = 0.80869, Validation Accuracy = 0.80382\n"
     ]
    },
    {
     "name": "stderr",
     "output_type": "stream",
     "text": [
      "Epoch 257/512: 100%|████████████████████████████████████████████████████████████████████████████████████████████████████████████████████| 910/910 [00:44<00:00, 20.49it/s]\n"
     ]
    },
    {
     "name": "stdout",
     "output_type": "stream",
     "text": [
      "Epoch 257/512: Train Loss = 0.24681, Validation Loss = 0.27525, Train Accuracy = 0.81228, Validation Accuracy = 0.80492\n"
     ]
    },
    {
     "name": "stderr",
     "output_type": "stream",
     "text": [
      "Epoch 258/512: 100%|████████████████████████████████████████████████████████████████████████████████████████████████████████████████████| 910/910 [00:44<00:00, 20.53it/s]\n"
     ]
    },
    {
     "name": "stdout",
     "output_type": "stream",
     "text": [
      "Epoch 258/512: Train Loss = 0.24702, Validation Loss = 0.26895, Train Accuracy = 0.81050, Validation Accuracy = 0.80987\n"
     ]
    },
    {
     "name": "stderr",
     "output_type": "stream",
     "text": [
      "Epoch 259/512: 100%|████████████████████████████████████████████████████████████████████████████████████████████████████████████████████| 910/910 [00:44<00:00, 20.42it/s]\n"
     ]
    },
    {
     "name": "stdout",
     "output_type": "stream",
     "text": [
      "Epoch 259/512: Train Loss = 0.24784, Validation Loss = 0.27057, Train Accuracy = 0.81124, Validation Accuracy = 0.80795\n"
     ]
    },
    {
     "name": "stderr",
     "output_type": "stream",
     "text": [
      "Epoch 260/512: 100%|████████████████████████████████████████████████████████████████████████████████████████████████████████████████████| 910/910 [00:44<00:00, 20.46it/s]\n"
     ]
    },
    {
     "name": "stdout",
     "output_type": "stream",
     "text": [
      "Epoch 260/512: Train Loss = 0.24665, Validation Loss = 0.27667, Train Accuracy = 0.81191, Validation Accuracy = 0.80506\n"
     ]
    },
    {
     "name": "stderr",
     "output_type": "stream",
     "text": [
      "Epoch 261/512: 100%|████████████████████████████████████████████████████████████████████████████████████████████████████████████████████| 910/910 [00:44<00:00, 20.45it/s]\n"
     ]
    },
    {
     "name": "stdout",
     "output_type": "stream",
     "text": [
      "Epoch 261/512: Train Loss = 0.24785, Validation Loss = 0.27479, Train Accuracy = 0.81070, Validation Accuracy = 0.80657\n"
     ]
    },
    {
     "name": "stderr",
     "output_type": "stream",
     "text": [
      "Epoch 262/512: 100%|████████████████████████████████████████████████████████████████████████████████████████████████████████████████████| 910/910 [00:44<00:00, 20.51it/s]\n"
     ]
    },
    {
     "name": "stdout",
     "output_type": "stream",
     "text": [
      "Epoch 262/512: Train Loss = 0.24681, Validation Loss = 0.29214, Train Accuracy = 0.81032, Validation Accuracy = 0.79874\n"
     ]
    },
    {
     "name": "stderr",
     "output_type": "stream",
     "text": [
      "Epoch 263/512: 100%|████████████████████████████████████████████████████████████████████████████████████████████████████████████████████| 910/910 [00:44<00:00, 20.59it/s]\n"
     ]
    },
    {
     "name": "stdout",
     "output_type": "stream",
     "text": [
      "Epoch 263/512: Train Loss = 0.24626, Validation Loss = 0.26920, Train Accuracy = 0.81082, Validation Accuracy = 0.80382\n"
     ]
    },
    {
     "name": "stderr",
     "output_type": "stream",
     "text": [
      "Epoch 264/512: 100%|████████████████████████████████████████████████████████████████████████████████████████████████████████████████████| 910/910 [00:44<00:00, 20.45it/s]\n"
     ]
    },
    {
     "name": "stdout",
     "output_type": "stream",
     "text": [
      "Epoch 264/512: Train Loss = 0.24704, Validation Loss = 0.27471, Train Accuracy = 0.81007, Validation Accuracy = 0.80561\n"
     ]
    },
    {
     "name": "stderr",
     "output_type": "stream",
     "text": [
      "Epoch 265/512: 100%|████████████████████████████████████████████████████████████████████████████████████████████████████████████████████| 910/910 [00:44<00:00, 20.59it/s]\n"
     ]
    },
    {
     "name": "stdout",
     "output_type": "stream",
     "text": [
      "Epoch 265/512: Train Loss = 0.24555, Validation Loss = 0.27054, Train Accuracy = 0.81328, Validation Accuracy = 0.80561\n"
     ]
    },
    {
     "name": "stderr",
     "output_type": "stream",
     "text": [
      "Epoch 266/512: 100%|████████████████████████████████████████████████████████████████████████████████████████████████████████████████████| 910/910 [00:44<00:00, 20.41it/s]\n"
     ]
    },
    {
     "name": "stdout",
     "output_type": "stream",
     "text": [
      "Epoch 266/512: Train Loss = 0.24586, Validation Loss = 0.26327, Train Accuracy = 0.81271, Validation Accuracy = 0.80740\n"
     ]
    },
    {
     "name": "stderr",
     "output_type": "stream",
     "text": [
      "Epoch 267/512: 100%|████████████████████████████████████████████████████████████████████████████████████████████████████████████████████| 910/910 [00:44<00:00, 20.46it/s]\n"
     ]
    },
    {
     "name": "stdout",
     "output_type": "stream",
     "text": [
      "Epoch 267/512: Train Loss = 0.24481, Validation Loss = 0.27508, Train Accuracy = 0.81189, Validation Accuracy = 0.80698\n"
     ]
    },
    {
     "name": "stderr",
     "output_type": "stream",
     "text": [
      "Epoch 268/512: 100%|████████████████████████████████████████████████████████████████████████████████████████████████████████████████████| 910/910 [00:44<00:00, 20.49it/s]\n"
     ]
    },
    {
     "name": "stdout",
     "output_type": "stream",
     "text": [
      "Epoch 268/512: Train Loss = 0.24582, Validation Loss = 0.27471, Train Accuracy = 0.81218, Validation Accuracy = 0.80932\n"
     ]
    },
    {
     "name": "stderr",
     "output_type": "stream",
     "text": [
      "Epoch 269/512: 100%|████████████████████████████████████████████████████████████████████████████████████████████████████████████████████| 910/910 [00:44<00:00, 20.51it/s]\n"
     ]
    },
    {
     "name": "stdout",
     "output_type": "stream",
     "text": [
      "Epoch 269/512: Train Loss = 0.24604, Validation Loss = 0.26438, Train Accuracy = 0.81026, Validation Accuracy = 0.80561\n"
     ]
    },
    {
     "name": "stderr",
     "output_type": "stream",
     "text": [
      "Epoch 270/512: 100%|████████████████████████████████████████████████████████████████████████████████████████████████████████████████████| 910/910 [00:44<00:00, 20.42it/s]\n"
     ]
    },
    {
     "name": "stdout",
     "output_type": "stream",
     "text": [
      "Epoch 270/512: Train Loss = 0.24485, Validation Loss = 0.27050, Train Accuracy = 0.81309, Validation Accuracy = 0.80987\n"
     ]
    },
    {
     "name": "stderr",
     "output_type": "stream",
     "text": [
      "Epoch 271/512: 100%|████████████████████████████████████████████████████████████████████████████████████████████████████████████████████| 910/910 [00:44<00:00, 20.57it/s]\n"
     ]
    },
    {
     "name": "stdout",
     "output_type": "stream",
     "text": [
      "Epoch 271/512: Train Loss = 0.24508, Validation Loss = 0.27741, Train Accuracy = 0.81270, Validation Accuracy = 0.80066\n"
     ]
    },
    {
     "name": "stderr",
     "output_type": "stream",
     "text": [
      "Epoch 272/512: 100%|████████████████████████████████████████████████████████████████████████████████████████████████████████████████████| 910/910 [00:44<00:00, 20.51it/s]\n"
     ]
    },
    {
     "name": "stdout",
     "output_type": "stream",
     "text": [
      "Epoch 272/512: Train Loss = 0.24506, Validation Loss = 0.27173, Train Accuracy = 0.81225, Validation Accuracy = 0.80616\n"
     ]
    },
    {
     "name": "stderr",
     "output_type": "stream",
     "text": [
      "Epoch 273/512: 100%|████████████████████████████████████████████████████████████████████████████████████████████████████████████████████| 910/910 [00:44<00:00, 20.45it/s]\n"
     ]
    },
    {
     "name": "stdout",
     "output_type": "stream",
     "text": [
      "Epoch 273/512: Train Loss = 0.24439, Validation Loss = 0.27252, Train Accuracy = 0.81263, Validation Accuracy = 0.81028\n"
     ]
    },
    {
     "name": "stderr",
     "output_type": "stream",
     "text": [
      "Epoch 274/512: 100%|████████████████████████████████████████████████████████████████████████████████████████████████████████████████████| 910/910 [00:44<00:00, 20.52it/s]\n"
     ]
    },
    {
     "name": "stdout",
     "output_type": "stream",
     "text": [
      "Epoch 274/512: Train Loss = 0.24437, Validation Loss = 0.26659, Train Accuracy = 0.81387, Validation Accuracy = 0.80685\n"
     ]
    },
    {
     "name": "stderr",
     "output_type": "stream",
     "text": [
      "Epoch 275/512: 100%|████████████████████████████████████████████████████████████████████████████████████████████████████████████████████| 910/910 [00:44<00:00, 20.54it/s]\n"
     ]
    },
    {
     "name": "stdout",
     "output_type": "stream",
     "text": [
      "Epoch 275/512: Train Loss = 0.24545, Validation Loss = 0.27168, Train Accuracy = 0.81325, Validation Accuracy = 0.80588\n"
     ]
    },
    {
     "name": "stderr",
     "output_type": "stream",
     "text": [
      "Epoch 276/512: 100%|████████████████████████████████████████████████████████████████████████████████████████████████████████████████████| 910/910 [00:44<00:00, 20.47it/s]\n"
     ]
    },
    {
     "name": "stdout",
     "output_type": "stream",
     "text": [
      "Epoch 276/512: Train Loss = 0.24373, Validation Loss = 0.27246, Train Accuracy = 0.81335, Validation Accuracy = 0.80877\n"
     ]
    },
    {
     "name": "stderr",
     "output_type": "stream",
     "text": [
      "Epoch 277/512: 100%|████████████████████████████████████████████████████████████████████████████████████████████████████████████████████| 910/910 [00:44<00:00, 20.29it/s]\n"
     ]
    },
    {
     "name": "stdout",
     "output_type": "stream",
     "text": [
      "Epoch 277/512: Train Loss = 0.24228, Validation Loss = 0.28063, Train Accuracy = 0.81319, Validation Accuracy = 0.80685\n"
     ]
    },
    {
     "name": "stderr",
     "output_type": "stream",
     "text": [
      "Epoch 278/512: 100%|████████████████████████████████████████████████████████████████████████████████████████████████████████████████████| 910/910 [00:44<00:00, 20.57it/s]\n"
     ]
    },
    {
     "name": "stdout",
     "output_type": "stream",
     "text": [
      "Epoch 278/512: Train Loss = 0.24337, Validation Loss = 0.27103, Train Accuracy = 0.81242, Validation Accuracy = 0.80410\n"
     ]
    },
    {
     "name": "stderr",
     "output_type": "stream",
     "text": [
      "Epoch 279/512: 100%|████████████████████████████████████████████████████████████████████████████████████████████████████████████████████| 910/910 [00:44<00:00, 20.41it/s]\n"
     ]
    },
    {
     "name": "stdout",
     "output_type": "stream",
     "text": [
      "Epoch 279/512: Train Loss = 0.24289, Validation Loss = 0.27705, Train Accuracy = 0.81302, Validation Accuracy = 0.80973\n"
     ]
    },
    {
     "name": "stderr",
     "output_type": "stream",
     "text": [
      "Epoch 280/512: 100%|████████████████████████████████████████████████████████████████████████████████████████████████████████████████████| 910/910 [00:44<00:00, 20.33it/s]\n"
     ]
    },
    {
     "name": "stdout",
     "output_type": "stream",
     "text": [
      "Epoch 280/512: Train Loss = 0.24296, Validation Loss = 0.26961, Train Accuracy = 0.81357, Validation Accuracy = 0.80643\n"
     ]
    },
    {
     "name": "stderr",
     "output_type": "stream",
     "text": [
      "Epoch 281/512: 100%|████████████████████████████████████████████████████████████████████████████████████████████████████████████████████| 910/910 [00:44<00:00, 20.55it/s]\n"
     ]
    },
    {
     "name": "stdout",
     "output_type": "stream",
     "text": [
      "Epoch 281/512: Train Loss = 0.24473, Validation Loss = 0.27375, Train Accuracy = 0.81172, Validation Accuracy = 0.80781\n"
     ]
    },
    {
     "name": "stderr",
     "output_type": "stream",
     "text": [
      "Epoch 282/512: 100%|████████████████████████████████████████████████████████████████████████████████████████████████████████████████████| 910/910 [00:44<00:00, 20.50it/s]\n"
     ]
    },
    {
     "name": "stdout",
     "output_type": "stream",
     "text": [
      "Epoch 282/512: Train Loss = 0.24372, Validation Loss = 0.27544, Train Accuracy = 0.81507, Validation Accuracy = 0.80478\n"
     ]
    },
    {
     "name": "stderr",
     "output_type": "stream",
     "text": [
      "Epoch 283/512: 100%|████████████████████████████████████████████████████████████████████████████████████████████████████████████████████| 910/910 [00:44<00:00, 20.60it/s]\n"
     ]
    },
    {
     "name": "stdout",
     "output_type": "stream",
     "text": [
      "Epoch 283/512: Train Loss = 0.24335, Validation Loss = 0.27602, Train Accuracy = 0.81359, Validation Accuracy = 0.80451\n"
     ]
    },
    {
     "name": "stderr",
     "output_type": "stream",
     "text": [
      "Epoch 284/512: 100%|████████████████████████████████████████████████████████████████████████████████████████████████████████████████████| 910/910 [00:44<00:00, 20.49it/s]\n"
     ]
    },
    {
     "name": "stdout",
     "output_type": "stream",
     "text": [
      "Epoch 284/512: Train Loss = 0.24181, Validation Loss = 0.26629, Train Accuracy = 0.81393, Validation Accuracy = 0.81400\n"
     ]
    },
    {
     "name": "stderr",
     "output_type": "stream",
     "text": [
      "Epoch 285/512: 100%|████████████████████████████████████████████████████████████████████████████████████████████████████████████████████| 910/910 [00:44<00:00, 20.27it/s]\n"
     ]
    },
    {
     "name": "stdout",
     "output_type": "stream",
     "text": [
      "Epoch 285/512: Train Loss = 0.24267, Validation Loss = 0.27296, Train Accuracy = 0.81426, Validation Accuracy = 0.80808\n"
     ]
    },
    {
     "name": "stderr",
     "output_type": "stream",
     "text": [
      "Epoch 286/512: 100%|████████████████████████████████████████████████████████████████████████████████████████████████████████████████████| 910/910 [00:44<00:00, 20.23it/s]\n"
     ]
    },
    {
     "name": "stdout",
     "output_type": "stream",
     "text": [
      "Epoch 286/512: Train Loss = 0.24245, Validation Loss = 0.27019, Train Accuracy = 0.81450, Validation Accuracy = 0.80973\n"
     ]
    },
    {
     "name": "stderr",
     "output_type": "stream",
     "text": [
      "Epoch 287/512: 100%|████████████████████████████████████████████████████████████████████████████████████████████████████████████████████| 910/910 [00:44<00:00, 20.36it/s]\n"
     ]
    },
    {
     "name": "stdout",
     "output_type": "stream",
     "text": [
      "Epoch 287/512: Train Loss = 0.24272, Validation Loss = 0.26323, Train Accuracy = 0.81381, Validation Accuracy = 0.80863\n"
     ]
    },
    {
     "name": "stderr",
     "output_type": "stream",
     "text": [
      "Epoch 288/512: 100%|████████████████████████████████████████████████████████████████████████████████████████████████████████████████████| 910/910 [00:44<00:00, 20.41it/s]\n"
     ]
    },
    {
     "name": "stdout",
     "output_type": "stream",
     "text": [
      "Epoch 288/512: Train Loss = 0.24389, Validation Loss = 0.26446, Train Accuracy = 0.81240, Validation Accuracy = 0.81207\n"
     ]
    },
    {
     "name": "stderr",
     "output_type": "stream",
     "text": [
      "Epoch 289/512: 100%|████████████████████████████████████████████████████████████████████████████████████████████████████████████████████| 910/910 [00:44<00:00, 20.36it/s]\n"
     ]
    },
    {
     "name": "stdout",
     "output_type": "stream",
     "text": [
      "Epoch 289/512: Train Loss = 0.24223, Validation Loss = 0.26689, Train Accuracy = 0.81261, Validation Accuracy = 0.80767\n"
     ]
    },
    {
     "name": "stderr",
     "output_type": "stream",
     "text": [
      "Epoch 290/512: 100%|████████████████████████████████████████████████████████████████████████████████████████████████████████████████████| 910/910 [00:44<00:00, 20.66it/s]\n"
     ]
    },
    {
     "name": "stdout",
     "output_type": "stream",
     "text": [
      "Epoch 290/512: Train Loss = 0.24040, Validation Loss = 0.27723, Train Accuracy = 0.81703, Validation Accuracy = 0.81180\n"
     ]
    },
    {
     "name": "stderr",
     "output_type": "stream",
     "text": [
      "Epoch 291/512: 100%|████████████████████████████████████████████████████████████████████████████████████████████████████████████████████| 910/910 [00:44<00:00, 20.55it/s]\n"
     ]
    },
    {
     "name": "stdout",
     "output_type": "stream",
     "text": [
      "Epoch 291/512: Train Loss = 0.24217, Validation Loss = 0.27006, Train Accuracy = 0.81443, Validation Accuracy = 0.80822\n"
     ]
    },
    {
     "name": "stderr",
     "output_type": "stream",
     "text": [
      "Epoch 292/512: 100%|████████████████████████████████████████████████████████████████████████████████████████████████████████████████████| 910/910 [00:44<00:00, 20.60it/s]\n"
     ]
    },
    {
     "name": "stdout",
     "output_type": "stream",
     "text": [
      "Epoch 292/512: Train Loss = 0.24196, Validation Loss = 0.26642, Train Accuracy = 0.81460, Validation Accuracy = 0.80547\n"
     ]
    },
    {
     "name": "stderr",
     "output_type": "stream",
     "text": [
      "Epoch 293/512: 100%|████████████████████████████████████████████████████████████████████████████████████████████████████████████████████| 910/910 [00:44<00:00, 20.54it/s]\n"
     ]
    },
    {
     "name": "stdout",
     "output_type": "stream",
     "text": [
      "Epoch 293/512: Train Loss = 0.24138, Validation Loss = 0.26598, Train Accuracy = 0.81215, Validation Accuracy = 0.81111\n"
     ]
    },
    {
     "name": "stderr",
     "output_type": "stream",
     "text": [
      "Epoch 294/512: 100%|████████████████████████████████████████████████████████████████████████████████████████████████████████████████████| 910/910 [00:44<00:00, 20.24it/s]\n"
     ]
    },
    {
     "name": "stdout",
     "output_type": "stream",
     "text": [
      "Epoch 294/512: Train Loss = 0.24183, Validation Loss = 0.29281, Train Accuracy = 0.81417, Validation Accuracy = 0.80080\n"
     ]
    },
    {
     "name": "stderr",
     "output_type": "stream",
     "text": [
      "Epoch 295/512: 100%|████████████████████████████████████████████████████████████████████████████████████████████████████████████████████| 910/910 [00:44<00:00, 20.62it/s]\n"
     ]
    },
    {
     "name": "stdout",
     "output_type": "stream",
     "text": [
      "Epoch 295/512: Train Loss = 0.24039, Validation Loss = 0.26583, Train Accuracy = 0.81383, Validation Accuracy = 0.80850\n"
     ]
    },
    {
     "name": "stderr",
     "output_type": "stream",
     "text": [
      "Epoch 296/512: 100%|████████████████████████████████████████████████████████████████████████████████████████████████████████████████████| 910/910 [00:44<00:00, 20.36it/s]\n"
     ]
    },
    {
     "name": "stdout",
     "output_type": "stream",
     "text": [
      "Epoch 296/512: Train Loss = 0.24124, Validation Loss = 0.27454, Train Accuracy = 0.81581, Validation Accuracy = 0.80850\n"
     ]
    },
    {
     "name": "stderr",
     "output_type": "stream",
     "text": [
      "Epoch 297/512: 100%|████████████████████████████████████████████████████████████████████████████████████████████████████████████████████| 910/910 [00:44<00:00, 20.33it/s]\n"
     ]
    },
    {
     "name": "stdout",
     "output_type": "stream",
     "text": [
      "Epoch 297/512: Train Loss = 0.24099, Validation Loss = 0.27243, Train Accuracy = 0.81550, Validation Accuracy = 0.81015\n"
     ]
    },
    {
     "name": "stderr",
     "output_type": "stream",
     "text": [
      "Epoch 298/512: 100%|████████████████████████████████████████████████████████████████████████████████████████████████████████████████████| 910/910 [00:44<00:00, 20.42it/s]\n"
     ]
    },
    {
     "name": "stdout",
     "output_type": "stream",
     "text": [
      "Epoch 298/512: Train Loss = 0.24048, Validation Loss = 0.26901, Train Accuracy = 0.81591, Validation Accuracy = 0.80877\n"
     ]
    },
    {
     "name": "stderr",
     "output_type": "stream",
     "text": [
      "Epoch 299/512: 100%|████████████████████████████████████████████████████████████████████████████████████████████████████████████████████| 910/910 [00:44<00:00, 20.38it/s]\n"
     ]
    },
    {
     "name": "stdout",
     "output_type": "stream",
     "text": [
      "Epoch 299/512: Train Loss = 0.24171, Validation Loss = 0.26384, Train Accuracy = 0.81373, Validation Accuracy = 0.81358\n"
     ]
    },
    {
     "name": "stderr",
     "output_type": "stream",
     "text": [
      "Epoch 300/512: 100%|████████████████████████████████████████████████████████████████████████████████████████████████████████████████████| 910/910 [00:44<00:00, 20.30it/s]\n"
     ]
    },
    {
     "name": "stdout",
     "output_type": "stream",
     "text": [
      "Epoch 300/512: Train Loss = 0.24086, Validation Loss = 0.27429, Train Accuracy = 0.81426, Validation Accuracy = 0.80767\n"
     ]
    },
    {
     "name": "stderr",
     "output_type": "stream",
     "text": [
      "Epoch 301/512: 100%|████████████████████████████████████████████████████████████████████████████████████████████████████████████████████| 910/910 [00:44<00:00, 20.59it/s]\n"
     ]
    },
    {
     "name": "stdout",
     "output_type": "stream",
     "text": [
      "Epoch 301/512: Train Loss = 0.24068, Validation Loss = 0.27214, Train Accuracy = 0.81356, Validation Accuracy = 0.80836\n"
     ]
    },
    {
     "name": "stderr",
     "output_type": "stream",
     "text": [
      "Epoch 302/512: 100%|████████████████████████████████████████████████████████████████████████████████████████████████████████████████████| 910/910 [00:44<00:00, 20.58it/s]\n"
     ]
    },
    {
     "name": "stdout",
     "output_type": "stream",
     "text": [
      "Epoch 302/512: Train Loss = 0.23075, Validation Loss = 0.26502, Train Accuracy = 0.82122, Validation Accuracy = 0.81235\n"
     ]
    },
    {
     "name": "stderr",
     "output_type": "stream",
     "text": [
      "Epoch 303/512: 100%|████████████████████████████████████████████████████████████████████████████████████████████████████████████████████| 910/910 [00:44<00:00, 20.29it/s]\n"
     ]
    },
    {
     "name": "stdout",
     "output_type": "stream",
     "text": [
      "Epoch 303/512: Train Loss = 0.23015, Validation Loss = 0.26689, Train Accuracy = 0.81985, Validation Accuracy = 0.81083\n"
     ]
    },
    {
     "name": "stderr",
     "output_type": "stream",
     "text": [
      "Epoch 304/512: 100%|████████████████████████████████████████████████████████████████████████████████████████████████████████████████████| 910/910 [00:44<00:00, 20.30it/s]\n"
     ]
    },
    {
     "name": "stdout",
     "output_type": "stream",
     "text": [
      "Epoch 304/512: Train Loss = 0.22990, Validation Loss = 0.26449, Train Accuracy = 0.82211, Validation Accuracy = 0.81207\n"
     ]
    },
    {
     "name": "stderr",
     "output_type": "stream",
     "text": [
      "Epoch 305/512: 100%|████████████████████████████████████████████████████████████████████████████████████████████████████████████████████| 910/910 [00:44<00:00, 20.38it/s]\n"
     ]
    },
    {
     "name": "stdout",
     "output_type": "stream",
     "text": [
      "Epoch 305/512: Train Loss = 0.22940, Validation Loss = 0.26002, Train Accuracy = 0.81988, Validation Accuracy = 0.81276\n"
     ]
    },
    {
     "name": "stderr",
     "output_type": "stream",
     "text": [
      "Epoch 306/512: 100%|████████████████████████████████████████████████████████████████████████████████████████████████████████████████████| 910/910 [00:45<00:00, 20.19it/s]\n"
     ]
    },
    {
     "name": "stdout",
     "output_type": "stream",
     "text": [
      "Epoch 306/512: Train Loss = 0.22886, Validation Loss = 0.26006, Train Accuracy = 0.82153, Validation Accuracy = 0.81633\n"
     ]
    },
    {
     "name": "stderr",
     "output_type": "stream",
     "text": [
      "Epoch 307/512: 100%|████████████████████████████████████████████████████████████████████████████████████████████████████████████████████| 910/910 [00:44<00:00, 20.43it/s]\n"
     ]
    },
    {
     "name": "stdout",
     "output_type": "stream",
     "text": [
      "Epoch 307/512: Train Loss = 0.22987, Validation Loss = 0.25972, Train Accuracy = 0.82223, Validation Accuracy = 0.81633\n"
     ]
    },
    {
     "name": "stderr",
     "output_type": "stream",
     "text": [
      "Epoch 308/512: 100%|████████████████████████████████████████████████████████████████████████████████████████████████████████████████████| 910/910 [00:44<00:00, 20.22it/s]\n"
     ]
    },
    {
     "name": "stdout",
     "output_type": "stream",
     "text": [
      "Epoch 308/512: Train Loss = 0.22686, Validation Loss = 0.26372, Train Accuracy = 0.82163, Validation Accuracy = 0.81358\n"
     ]
    },
    {
     "name": "stderr",
     "output_type": "stream",
     "text": [
      "Epoch 309/512: 100%|████████████████████████████████████████████████████████████████████████████████████████████████████████████████████| 910/910 [00:44<00:00, 20.56it/s]\n"
     ]
    },
    {
     "name": "stdout",
     "output_type": "stream",
     "text": [
      "Epoch 309/512: Train Loss = 0.22799, Validation Loss = 0.26435, Train Accuracy = 0.82050, Validation Accuracy = 0.81042\n"
     ]
    },
    {
     "name": "stderr",
     "output_type": "stream",
     "text": [
      "Epoch 310/512: 100%|████████████████████████████████████████████████████████████████████████████████████████████████████████████████████| 910/910 [00:44<00:00, 20.28it/s]\n"
     ]
    },
    {
     "name": "stdout",
     "output_type": "stream",
     "text": [
      "Epoch 310/512: Train Loss = 0.22786, Validation Loss = 0.25987, Train Accuracy = 0.82122, Validation Accuracy = 0.81400\n"
     ]
    },
    {
     "name": "stderr",
     "output_type": "stream",
     "text": [
      "Epoch 311/512: 100%|████████████████████████████████████████████████████████████████████████████████████████████████████████████████████| 910/910 [00:44<00:00, 20.55it/s]\n"
     ]
    },
    {
     "name": "stdout",
     "output_type": "stream",
     "text": [
      "Epoch 311/512: Train Loss = 0.22827, Validation Loss = 0.26878, Train Accuracy = 0.82266, Validation Accuracy = 0.81166\n"
     ]
    },
    {
     "name": "stderr",
     "output_type": "stream",
     "text": [
      "Epoch 312/512: 100%|████████████████████████████████████████████████████████████████████████████████████████████████████████████████████| 910/910 [00:44<00:00, 20.38it/s]\n"
     ]
    },
    {
     "name": "stdout",
     "output_type": "stream",
     "text": [
      "Epoch 312/512: Train Loss = 0.22850, Validation Loss = 0.26065, Train Accuracy = 0.82248, Validation Accuracy = 0.80781\n"
     ]
    },
    {
     "name": "stderr",
     "output_type": "stream",
     "text": [
      "Epoch 313/512: 100%|████████████████████████████████████████████████████████████████████████████████████████████████████████████████████| 910/910 [00:44<00:00, 20.42it/s]\n"
     ]
    },
    {
     "name": "stdout",
     "output_type": "stream",
     "text": [
      "Epoch 313/512: Train Loss = 0.22726, Validation Loss = 0.26109, Train Accuracy = 0.82120, Validation Accuracy = 0.81125\n"
     ]
    },
    {
     "name": "stderr",
     "output_type": "stream",
     "text": [
      "Epoch 314/512: 100%|████████████████████████████████████████████████████████████████████████████████████████████████████████████████████| 910/910 [00:44<00:00, 20.39it/s]\n"
     ]
    },
    {
     "name": "stdout",
     "output_type": "stream",
     "text": [
      "Epoch 314/512: Train Loss = 0.22683, Validation Loss = 0.26338, Train Accuracy = 0.82146, Validation Accuracy = 0.81111\n"
     ]
    },
    {
     "name": "stderr",
     "output_type": "stream",
     "text": [
      "Epoch 315/512: 100%|████████████████████████████████████████████████████████████████████████████████████████████████████████████████████| 910/910 [00:44<00:00, 20.51it/s]\n"
     ]
    },
    {
     "name": "stdout",
     "output_type": "stream",
     "text": [
      "Epoch 315/512: Train Loss = 0.22732, Validation Loss = 0.26940, Train Accuracy = 0.82406, Validation Accuracy = 0.81056\n"
     ]
    },
    {
     "name": "stderr",
     "output_type": "stream",
     "text": [
      "Epoch 316/512: 100%|████████████████████████████████████████████████████████████████████████████████████████████████████████████████████| 910/910 [00:44<00:00, 20.42it/s]\n"
     ]
    },
    {
     "name": "stdout",
     "output_type": "stream",
     "text": [
      "Epoch 316/512: Train Loss = 0.22754, Validation Loss = 0.26324, Train Accuracy = 0.82256, Validation Accuracy = 0.81564\n"
     ]
    },
    {
     "name": "stderr",
     "output_type": "stream",
     "text": [
      "Epoch 317/512: 100%|████████████████████████████████████████████████████████████████████████████████████████████████████████████████████| 910/910 [00:44<00:00, 20.37it/s]\n"
     ]
    },
    {
     "name": "stdout",
     "output_type": "stream",
     "text": [
      "Epoch 317/512: Train Loss = 0.22651, Validation Loss = 0.26803, Train Accuracy = 0.82380, Validation Accuracy = 0.81317\n"
     ]
    },
    {
     "name": "stderr",
     "output_type": "stream",
     "text": [
      "Epoch 318/512: 100%|████████████████████████████████████████████████████████████████████████████████████████████████████████████████████| 910/910 [00:44<00:00, 20.37it/s]\n"
     ]
    },
    {
     "name": "stdout",
     "output_type": "stream",
     "text": [
      "Epoch 318/512: Train Loss = 0.22607, Validation Loss = 0.25961, Train Accuracy = 0.82375, Validation Accuracy = 0.81400\n"
     ]
    },
    {
     "name": "stderr",
     "output_type": "stream",
     "text": [
      "Epoch 319/512: 100%|████████████████████████████████████████████████████████████████████████████████████████████████████████████████████| 910/910 [00:44<00:00, 20.33it/s]\n"
     ]
    },
    {
     "name": "stdout",
     "output_type": "stream",
     "text": [
      "Epoch 319/512: Train Loss = 0.22717, Validation Loss = 0.25920, Train Accuracy = 0.82187, Validation Accuracy = 0.81441\n"
     ]
    },
    {
     "name": "stderr",
     "output_type": "stream",
     "text": [
      "Epoch 320/512: 100%|████████████████████████████████████████████████████████████████████████████████████████████████████████████████████| 910/910 [00:44<00:00, 20.58it/s]\n"
     ]
    },
    {
     "name": "stdout",
     "output_type": "stream",
     "text": [
      "Epoch 320/512: Train Loss = 0.22724, Validation Loss = 0.27014, Train Accuracy = 0.82323, Validation Accuracy = 0.81097\n"
     ]
    },
    {
     "name": "stderr",
     "output_type": "stream",
     "text": [
      "Epoch 321/512: 100%|████████████████████████████████████████████████████████████████████████████████████████████████████████████████████| 910/910 [00:44<00:00, 20.54it/s]\n"
     ]
    },
    {
     "name": "stdout",
     "output_type": "stream",
     "text": [
      "Epoch 321/512: Train Loss = 0.22527, Validation Loss = 0.25958, Train Accuracy = 0.82679, Validation Accuracy = 0.81221\n"
     ]
    },
    {
     "name": "stderr",
     "output_type": "stream",
     "text": [
      "Epoch 322/512: 100%|████████████████████████████████████████████████████████████████████████████████████████████████████████████████████| 910/910 [00:44<00:00, 20.40it/s]\n"
     ]
    },
    {
     "name": "stdout",
     "output_type": "stream",
     "text": [
      "Epoch 322/512: Train Loss = 0.22440, Validation Loss = 0.26531, Train Accuracy = 0.82309, Validation Accuracy = 0.81193\n"
     ]
    },
    {
     "name": "stderr",
     "output_type": "stream",
     "text": [
      "Epoch 323/512: 100%|████████████████████████████████████████████████████████████████████████████████████████████████████████████████████| 910/910 [00:44<00:00, 20.66it/s]\n"
     ]
    },
    {
     "name": "stdout",
     "output_type": "stream",
     "text": [
      "Epoch 323/512: Train Loss = 0.22644, Validation Loss = 0.26138, Train Accuracy = 0.82294, Validation Accuracy = 0.81358\n"
     ]
    },
    {
     "name": "stderr",
     "output_type": "stream",
     "text": [
      "Epoch 324/512: 100%|████████████████████████████████████████████████████████████████████████████████████████████████████████████████████| 910/910 [00:44<00:00, 20.40it/s]\n"
     ]
    },
    {
     "name": "stdout",
     "output_type": "stream",
     "text": [
      "Epoch 324/512: Train Loss = 0.22541, Validation Loss = 0.26119, Train Accuracy = 0.82150, Validation Accuracy = 0.81317\n"
     ]
    },
    {
     "name": "stderr",
     "output_type": "stream",
     "text": [
      "Epoch 325/512: 100%|████████████████████████████████████████████████████████████████████████████████████████████████████████████████████| 910/910 [00:44<00:00, 20.37it/s]\n"
     ]
    },
    {
     "name": "stdout",
     "output_type": "stream",
     "text": [
      "Epoch 325/512: Train Loss = 0.22627, Validation Loss = 0.25895, Train Accuracy = 0.82189, Validation Accuracy = 0.81441\n"
     ]
    },
    {
     "name": "stderr",
     "output_type": "stream",
     "text": [
      "Epoch 326/512: 100%|████████████████████████████████████████████████████████████████████████████████████████████████████████████████████| 910/910 [00:44<00:00, 20.48it/s]\n"
     ]
    },
    {
     "name": "stdout",
     "output_type": "stream",
     "text": [
      "Epoch 326/512: Train Loss = 0.22614, Validation Loss = 0.26309, Train Accuracy = 0.82296, Validation Accuracy = 0.81454\n"
     ]
    },
    {
     "name": "stderr",
     "output_type": "stream",
     "text": [
      "Epoch 327/512: 100%|████████████████████████████████████████████████████████████████████████████████████████████████████████████████████| 910/910 [00:44<00:00, 20.24it/s]\n"
     ]
    },
    {
     "name": "stdout",
     "output_type": "stream",
     "text": [
      "Epoch 327/512: Train Loss = 0.22602, Validation Loss = 0.26113, Train Accuracy = 0.82387, Validation Accuracy = 0.81482\n"
     ]
    },
    {
     "name": "stderr",
     "output_type": "stream",
     "text": [
      "Epoch 328/512: 100%|████████████████████████████████████████████████████████████████████████████████████████████████████████████████████| 910/910 [00:44<00:00, 20.32it/s]\n"
     ]
    },
    {
     "name": "stdout",
     "output_type": "stream",
     "text": [
      "Epoch 328/512: Train Loss = 0.22569, Validation Loss = 0.27106, Train Accuracy = 0.82194, Validation Accuracy = 0.80946\n"
     ]
    },
    {
     "name": "stderr",
     "output_type": "stream",
     "text": [
      "Epoch 329/512: 100%|████████████████████████████████████████████████████████████████████████████████████████████████████████████████████| 910/910 [00:44<00:00, 20.37it/s]\n"
     ]
    },
    {
     "name": "stdout",
     "output_type": "stream",
     "text": [
      "Epoch 329/512: Train Loss = 0.22560, Validation Loss = 0.26606, Train Accuracy = 0.82266, Validation Accuracy = 0.81606\n"
     ]
    },
    {
     "name": "stderr",
     "output_type": "stream",
     "text": [
      "Epoch 330/512: 100%|████████████████████████████████████████████████████████████████████████████████████████████████████████████████████| 910/910 [00:44<00:00, 20.41it/s]\n"
     ]
    },
    {
     "name": "stdout",
     "output_type": "stream",
     "text": [
      "Epoch 330/512: Train Loss = 0.22457, Validation Loss = 0.25971, Train Accuracy = 0.82248, Validation Accuracy = 0.81606\n"
     ]
    },
    {
     "name": "stderr",
     "output_type": "stream",
     "text": [
      "Epoch 331/512: 100%|████████████████████████████████████████████████████████████████████████████████████████████████████████████████████| 910/910 [00:44<00:00, 20.47it/s]\n"
     ]
    },
    {
     "name": "stdout",
     "output_type": "stream",
     "text": [
      "Epoch 331/512: Train Loss = 0.22623, Validation Loss = 0.25870, Train Accuracy = 0.82244, Validation Accuracy = 0.81262\n"
     ]
    },
    {
     "name": "stderr",
     "output_type": "stream",
     "text": [
      "Epoch 332/512: 100%|████████████████████████████████████████████████████████████████████████████████████████████████████████████████████| 910/910 [00:44<00:00, 20.30it/s]\n"
     ]
    },
    {
     "name": "stdout",
     "output_type": "stream",
     "text": [
      "Epoch 332/512: Train Loss = 0.22517, Validation Loss = 0.26481, Train Accuracy = 0.82440, Validation Accuracy = 0.81702\n"
     ]
    },
    {
     "name": "stderr",
     "output_type": "stream",
     "text": [
      "Epoch 333/512: 100%|████████████████████████████████████████████████████████████████████████████████████████████████████████████████████| 910/910 [00:44<00:00, 20.44it/s]\n"
     ]
    },
    {
     "name": "stdout",
     "output_type": "stream",
     "text": [
      "Epoch 333/512: Train Loss = 0.22456, Validation Loss = 0.26449, Train Accuracy = 0.82280, Validation Accuracy = 0.81523\n"
     ]
    },
    {
     "name": "stderr",
     "output_type": "stream",
     "text": [
      "Epoch 334/512: 100%|████████████████████████████████████████████████████████████████████████████████████████████████████████████████████| 910/910 [00:44<00:00, 20.53it/s]\n"
     ]
    },
    {
     "name": "stdout",
     "output_type": "stream",
     "text": [
      "Epoch 334/512: Train Loss = 0.22099, Validation Loss = 0.26229, Train Accuracy = 0.82598, Validation Accuracy = 0.81839\n"
     ]
    },
    {
     "name": "stderr",
     "output_type": "stream",
     "text": [
      "Epoch 335/512: 100%|████████████████████████████████████████████████████████████████████████████████████████████████████████████████████| 910/910 [00:44<00:00, 20.43it/s]\n"
     ]
    },
    {
     "name": "stdout",
     "output_type": "stream",
     "text": [
      "Epoch 335/512: Train Loss = 0.21787, Validation Loss = 0.26220, Train Accuracy = 0.82720, Validation Accuracy = 0.81674\n"
     ]
    },
    {
     "name": "stderr",
     "output_type": "stream",
     "text": [
      "Epoch 336/512: 100%|████████████████████████████████████████████████████████████████████████████████████████████████████████████████████| 910/910 [00:44<00:00, 20.39it/s]\n"
     ]
    },
    {
     "name": "stdout",
     "output_type": "stream",
     "text": [
      "Epoch 336/512: Train Loss = 0.21864, Validation Loss = 0.25711, Train Accuracy = 0.82777, Validation Accuracy = 0.82046\n"
     ]
    },
    {
     "name": "stderr",
     "output_type": "stream",
     "text": [
      "Epoch 337/512: 100%|████████████████████████████████████████████████████████████████████████████████████████████████████████████████████| 910/910 [00:44<00:00, 20.46it/s]\n"
     ]
    },
    {
     "name": "stdout",
     "output_type": "stream",
     "text": [
      "Epoch 337/512: Train Loss = 0.21886, Validation Loss = 0.26002, Train Accuracy = 0.82847, Validation Accuracy = 0.81441\n"
     ]
    },
    {
     "name": "stderr",
     "output_type": "stream",
     "text": [
      "Epoch 338/512: 100%|████████████████████████████████████████████████████████████████████████████████████████████████████████████████████| 910/910 [00:44<00:00, 20.37it/s]\n"
     ]
    },
    {
     "name": "stdout",
     "output_type": "stream",
     "text": [
      "Epoch 338/512: Train Loss = 0.21783, Validation Loss = 0.25948, Train Accuracy = 0.82768, Validation Accuracy = 0.81509\n"
     ]
    },
    {
     "name": "stderr",
     "output_type": "stream",
     "text": [
      "Epoch 339/512: 100%|████████████████████████████████████████████████████████████████████████████████████████████████████████████████████| 910/910 [00:44<00:00, 20.24it/s]\n"
     ]
    },
    {
     "name": "stdout",
     "output_type": "stream",
     "text": [
      "Epoch 339/512: Train Loss = 0.21943, Validation Loss = 0.25757, Train Accuracy = 0.82552, Validation Accuracy = 0.81592\n"
     ]
    },
    {
     "name": "stderr",
     "output_type": "stream",
     "text": [
      "Epoch 340/512: 100%|████████████████████████████████████████████████████████████████████████████████████████████████████████████████████| 910/910 [00:44<00:00, 20.48it/s]\n"
     ]
    },
    {
     "name": "stdout",
     "output_type": "stream",
     "text": [
      "Epoch 340/512: Train Loss = 0.21869, Validation Loss = 0.25727, Train Accuracy = 0.82631, Validation Accuracy = 0.81853\n"
     ]
    },
    {
     "name": "stderr",
     "output_type": "stream",
     "text": [
      "Epoch 341/512: 100%|████████████████████████████████████████████████████████████████████████████████████████████████████████████████████| 910/910 [00:44<00:00, 20.28it/s]\n"
     ]
    },
    {
     "name": "stdout",
     "output_type": "stream",
     "text": [
      "Epoch 341/512: Train Loss = 0.21925, Validation Loss = 0.25543, Train Accuracy = 0.82636, Validation Accuracy = 0.81894\n"
     ]
    },
    {
     "name": "stderr",
     "output_type": "stream",
     "text": [
      "Epoch 342/512: 100%|████████████████████████████████████████████████████████████████████████████████████████████████████████████████████| 910/910 [00:44<00:00, 20.38it/s]\n"
     ]
    },
    {
     "name": "stdout",
     "output_type": "stream",
     "text": [
      "Epoch 342/512: Train Loss = 0.21837, Validation Loss = 0.25877, Train Accuracy = 0.82820, Validation Accuracy = 0.81592\n"
     ]
    },
    {
     "name": "stderr",
     "output_type": "stream",
     "text": [
      "Epoch 343/512: 100%|████████████████████████████████████████████████████████████████████████████████████████████████████████████████████| 910/910 [00:44<00:00, 20.54it/s]\n"
     ]
    },
    {
     "name": "stdout",
     "output_type": "stream",
     "text": [
      "Epoch 343/512: Train Loss = 0.21748, Validation Loss = 0.25848, Train Accuracy = 0.82691, Validation Accuracy = 0.81716\n"
     ]
    },
    {
     "name": "stderr",
     "output_type": "stream",
     "text": [
      "Epoch 344/512: 100%|████████████████████████████████████████████████████████████████████████████████████████████████████████████████████| 910/910 [00:44<00:00, 20.49it/s]\n"
     ]
    },
    {
     "name": "stdout",
     "output_type": "stream",
     "text": [
      "Epoch 344/512: Train Loss = 0.21789, Validation Loss = 0.25803, Train Accuracy = 0.82636, Validation Accuracy = 0.81716\n"
     ]
    },
    {
     "name": "stderr",
     "output_type": "stream",
     "text": [
      "Epoch 345/512: 100%|████████████████████████████████████████████████████████████████████████████████████████████████████████████████████| 910/910 [00:44<00:00, 20.34it/s]\n"
     ]
    },
    {
     "name": "stdout",
     "output_type": "stream",
     "text": [
      "Epoch 345/512: Train Loss = 0.21833, Validation Loss = 0.25924, Train Accuracy = 0.82832, Validation Accuracy = 0.81661\n"
     ]
    },
    {
     "name": "stderr",
     "output_type": "stream",
     "text": [
      "Epoch 346/512: 100%|████████████████████████████████████████████████████████████████████████████████████████████████████████████████████| 910/910 [00:44<00:00, 20.44it/s]\n"
     ]
    },
    {
     "name": "stdout",
     "output_type": "stream",
     "text": [
      "Epoch 346/512: Train Loss = 0.21835, Validation Loss = 0.25645, Train Accuracy = 0.82612, Validation Accuracy = 0.81578\n"
     ]
    },
    {
     "name": "stderr",
     "output_type": "stream",
     "text": [
      "Epoch 347/512: 100%|████████████████████████████████████████████████████████████████████████████████████████████████████████████████████| 910/910 [00:44<00:00, 20.25it/s]\n"
     ]
    },
    {
     "name": "stdout",
     "output_type": "stream",
     "text": [
      "Epoch 347/512: Train Loss = 0.21773, Validation Loss = 0.26148, Train Accuracy = 0.82763, Validation Accuracy = 0.81674\n"
     ]
    },
    {
     "name": "stderr",
     "output_type": "stream",
     "text": [
      "Epoch 348/512: 100%|████████████████████████████████████████████████████████████████████████████████████████████████████████████████████| 910/910 [00:44<00:00, 20.42it/s]\n"
     ]
    },
    {
     "name": "stdout",
     "output_type": "stream",
     "text": [
      "Epoch 348/512: Train Loss = 0.21754, Validation Loss = 0.25805, Train Accuracy = 0.82765, Validation Accuracy = 0.81647\n"
     ]
    },
    {
     "name": "stderr",
     "output_type": "stream",
     "text": [
      "Epoch 349/512: 100%|████████████████████████████████████████████████████████████████████████████████████████████████████████████████████| 910/910 [00:44<00:00, 20.48it/s]\n"
     ]
    },
    {
     "name": "stdout",
     "output_type": "stream",
     "text": [
      "Epoch 349/512: Train Loss = 0.21700, Validation Loss = 0.25912, Train Accuracy = 0.82670, Validation Accuracy = 0.81400\n"
     ]
    },
    {
     "name": "stderr",
     "output_type": "stream",
     "text": [
      "Epoch 350/512: 100%|████████████████████████████████████████████████████████████████████████████████████████████████████████████████████| 910/910 [00:44<00:00, 20.38it/s]\n"
     ]
    },
    {
     "name": "stdout",
     "output_type": "stream",
     "text": [
      "Epoch 350/512: Train Loss = 0.21800, Validation Loss = 0.25818, Train Accuracy = 0.82644, Validation Accuracy = 0.81317\n"
     ]
    },
    {
     "name": "stderr",
     "output_type": "stream",
     "text": [
      "Epoch 351/512: 100%|████████████████████████████████████████████████████████████████████████████████████████████████████████████████████| 910/910 [00:44<00:00, 20.64it/s]\n"
     ]
    },
    {
     "name": "stdout",
     "output_type": "stream",
     "text": [
      "Epoch 351/512: Train Loss = 0.21572, Validation Loss = 0.25793, Train Accuracy = 0.82890, Validation Accuracy = 0.81867\n"
     ]
    },
    {
     "name": "stderr",
     "output_type": "stream",
     "text": [
      "Epoch 352/512: 100%|████████████████████████████████████████████████████████████████████████████████████████████████████████████████████| 910/910 [00:44<00:00, 20.54it/s]\n"
     ]
    },
    {
     "name": "stdout",
     "output_type": "stream",
     "text": [
      "Epoch 352/512: Train Loss = 0.21767, Validation Loss = 0.25622, Train Accuracy = 0.82856, Validation Accuracy = 0.81262\n"
     ]
    },
    {
     "name": "stderr",
     "output_type": "stream",
     "text": [
      "Epoch 353/512: 100%|████████████████████████████████████████████████████████████████████████████████████████████████████████████████████| 910/910 [00:44<00:00, 20.43it/s]\n"
     ]
    },
    {
     "name": "stdout",
     "output_type": "stream",
     "text": [
      "Epoch 353/512: Train Loss = 0.21829, Validation Loss = 0.25601, Train Accuracy = 0.82876, Validation Accuracy = 0.81413\n"
     ]
    },
    {
     "name": "stderr",
     "output_type": "stream",
     "text": [
      "Epoch 354/512: 100%|████████████████████████████████████████████████████████████████████████████████████████████████████████████████████| 910/910 [00:44<00:00, 20.39it/s]\n"
     ]
    },
    {
     "name": "stdout",
     "output_type": "stream",
     "text": [
      "Epoch 354/512: Train Loss = 0.21749, Validation Loss = 0.25983, Train Accuracy = 0.82803, Validation Accuracy = 0.81345\n"
     ]
    },
    {
     "name": "stderr",
     "output_type": "stream",
     "text": [
      "Epoch 355/512: 100%|████████████████████████████████████████████████████████████████████████████████████████████████████████████████████| 910/910 [00:44<00:00, 20.47it/s]\n"
     ]
    },
    {
     "name": "stdout",
     "output_type": "stream",
     "text": [
      "Epoch 355/512: Train Loss = 0.21749, Validation Loss = 0.25961, Train Accuracy = 0.82541, Validation Accuracy = 0.81290\n"
     ]
    },
    {
     "name": "stderr",
     "output_type": "stream",
     "text": [
      "Epoch 356/512: 100%|████████████████████████████████████████████████████████████████████████████████████████████████████████████████████| 910/910 [00:43<00:00, 20.77it/s]\n"
     ]
    },
    {
     "name": "stdout",
     "output_type": "stream",
     "text": [
      "Epoch 356/512: Train Loss = 0.21805, Validation Loss = 0.25772, Train Accuracy = 0.82693, Validation Accuracy = 0.81606\n"
     ]
    },
    {
     "name": "stderr",
     "output_type": "stream",
     "text": [
      "Epoch 357/512: 100%|████████████████████████████████████████████████████████████████████████████████████████████████████████████████████| 910/910 [00:44<00:00, 20.49it/s]\n"
     ]
    },
    {
     "name": "stdout",
     "output_type": "stream",
     "text": [
      "Epoch 357/512: Train Loss = 0.21721, Validation Loss = 0.25699, Train Accuracy = 0.82864, Validation Accuracy = 0.81509\n"
     ]
    },
    {
     "name": "stderr",
     "output_type": "stream",
     "text": [
      "Epoch 358/512: 100%|████████████████████████████████████████████████████████████████████████████████████████████████████████████████████| 910/910 [00:44<00:00, 20.55it/s]\n"
     ]
    },
    {
     "name": "stdout",
     "output_type": "stream",
     "text": [
      "Epoch 358/512: Train Loss = 0.21704, Validation Loss = 0.25675, Train Accuracy = 0.82736, Validation Accuracy = 0.81400\n"
     ]
    },
    {
     "name": "stderr",
     "output_type": "stream",
     "text": [
      "Epoch 359/512: 100%|████████████████████████████████████████████████████████████████████████████████████████████████████████████████████| 910/910 [00:44<00:00, 20.41it/s]\n"
     ]
    },
    {
     "name": "stdout",
     "output_type": "stream",
     "text": [
      "Epoch 359/512: Train Loss = 0.21684, Validation Loss = 0.25697, Train Accuracy = 0.82796, Validation Accuracy = 0.81578\n"
     ]
    },
    {
     "name": "stderr",
     "output_type": "stream",
     "text": [
      "Epoch 360/512: 100%|████████████████████████████████████████████████████████████████████████████████████████████████████████████████████| 910/910 [00:44<00:00, 20.51it/s]\n"
     ]
    },
    {
     "name": "stdout",
     "output_type": "stream",
     "text": [
      "Epoch 360/512: Train Loss = 0.21640, Validation Loss = 0.25646, Train Accuracy = 0.82925, Validation Accuracy = 0.81674\n"
     ]
    },
    {
     "name": "stderr",
     "output_type": "stream",
     "text": [
      "Epoch 361/512: 100%|████████████████████████████████████████████████████████████████████████████████████████████████████████████████████| 910/910 [00:44<00:00, 20.43it/s]\n"
     ]
    },
    {
     "name": "stdout",
     "output_type": "stream",
     "text": [
      "Epoch 361/512: Train Loss = 0.21700, Validation Loss = 0.25233, Train Accuracy = 0.82689, Validation Accuracy = 0.81647\n"
     ]
    },
    {
     "name": "stderr",
     "output_type": "stream",
     "text": [
      "Epoch 362/512: 100%|████████████████████████████████████████████████████████████████████████████████████████████████████████████████████| 910/910 [00:44<00:00, 20.55it/s]\n"
     ]
    },
    {
     "name": "stdout",
     "output_type": "stream",
     "text": [
      "Epoch 362/512: Train Loss = 0.21785, Validation Loss = 0.25746, Train Accuracy = 0.82663, Validation Accuracy = 0.81743\n"
     ]
    },
    {
     "name": "stderr",
     "output_type": "stream",
     "text": [
      "Epoch 363/512: 100%|████████████████████████████████████████████████████████████████████████████████████████████████████████████████████| 910/910 [00:44<00:00, 20.24it/s]\n"
     ]
    },
    {
     "name": "stdout",
     "output_type": "stream",
     "text": [
      "Epoch 363/512: Train Loss = 0.21422, Validation Loss = 0.25560, Train Accuracy = 0.82808, Validation Accuracy = 0.81881\n"
     ]
    },
    {
     "name": "stderr",
     "output_type": "stream",
     "text": [
      "Epoch 364/512: 100%|████████████████████████████████████████████████████████████████████████████████████████████████████████████████████| 910/910 [00:44<00:00, 20.54it/s]\n"
     ]
    },
    {
     "name": "stdout",
     "output_type": "stream",
     "text": [
      "Epoch 364/512: Train Loss = 0.21367, Validation Loss = 0.26008, Train Accuracy = 0.82804, Validation Accuracy = 0.81881\n"
     ]
    },
    {
     "name": "stderr",
     "output_type": "stream",
     "text": [
      "Epoch 365/512: 100%|████████████████████████████████████████████████████████████████████████████████████████████████████████████████████| 910/910 [00:44<00:00, 20.28it/s]\n"
     ]
    },
    {
     "name": "stdout",
     "output_type": "stream",
     "text": [
      "Epoch 365/512: Train Loss = 0.21399, Validation Loss = 0.25872, Train Accuracy = 0.83114, Validation Accuracy = 0.81661\n"
     ]
    },
    {
     "name": "stderr",
     "output_type": "stream",
     "text": [
      "Epoch 366/512: 100%|████████████████████████████████████████████████████████████████████████████████████████████████████████████████████| 910/910 [00:44<00:00, 20.54it/s]\n"
     ]
    },
    {
     "name": "stdout",
     "output_type": "stream",
     "text": [
      "Epoch 366/512: Train Loss = 0.21464, Validation Loss = 0.25706, Train Accuracy = 0.82840, Validation Accuracy = 0.81619\n"
     ]
    },
    {
     "name": "stderr",
     "output_type": "stream",
     "text": [
      "Epoch 367/512: 100%|████████████████████████████████████████████████████████████████████████████████████████████████████████████████████| 910/910 [00:44<00:00, 20.31it/s]\n"
     ]
    },
    {
     "name": "stdout",
     "output_type": "stream",
     "text": [
      "Epoch 367/512: Train Loss = 0.21438, Validation Loss = 0.25664, Train Accuracy = 0.82956, Validation Accuracy = 0.81757\n"
     ]
    },
    {
     "name": "stderr",
     "output_type": "stream",
     "text": [
      "Epoch 368/512: 100%|████████████████████████████████████████████████████████████████████████████████████████████████████████████████████| 910/910 [00:44<00:00, 20.30it/s]\n"
     ]
    },
    {
     "name": "stdout",
     "output_type": "stream",
     "text": [
      "Epoch 368/512: Train Loss = 0.21341, Validation Loss = 0.25617, Train Accuracy = 0.83052, Validation Accuracy = 0.81798\n"
     ]
    },
    {
     "name": "stderr",
     "output_type": "stream",
     "text": [
      "Epoch 369/512: 100%|████████████████████████████████████████████████████████████████████████████████████████████████████████████████████| 910/910 [00:44<00:00, 20.52it/s]\n"
     ]
    },
    {
     "name": "stdout",
     "output_type": "stream",
     "text": [
      "Epoch 369/512: Train Loss = 0.21503, Validation Loss = 0.25589, Train Accuracy = 0.82811, Validation Accuracy = 0.81688\n"
     ]
    },
    {
     "name": "stderr",
     "output_type": "stream",
     "text": [
      "Epoch 370/512: 100%|████████████████████████████████████████████████████████████████████████████████████████████████████████████████████| 910/910 [00:44<00:00, 20.28it/s]\n"
     ]
    },
    {
     "name": "stdout",
     "output_type": "stream",
     "text": [
      "Epoch 370/512: Train Loss = 0.21302, Validation Loss = 0.25714, Train Accuracy = 0.83212, Validation Accuracy = 0.81674\n"
     ]
    },
    {
     "name": "stderr",
     "output_type": "stream",
     "text": [
      "Epoch 371/512: 100%|████████████████████████████████████████████████████████████████████████████████████████████████████████████████████| 910/910 [00:44<00:00, 20.62it/s]\n"
     ]
    },
    {
     "name": "stdout",
     "output_type": "stream",
     "text": [
      "Epoch 371/512: Train Loss = 0.21277, Validation Loss = 0.25830, Train Accuracy = 0.82923, Validation Accuracy = 0.81771\n"
     ]
    },
    {
     "name": "stderr",
     "output_type": "stream",
     "text": [
      "Epoch 372/512: 100%|████████████████████████████████████████████████████████████████████████████████████████████████████████████████████| 910/910 [00:44<00:00, 20.55it/s]\n"
     ]
    },
    {
     "name": "stdout",
     "output_type": "stream",
     "text": [
      "Epoch 372/512: Train Loss = 0.21202, Validation Loss = 0.25702, Train Accuracy = 0.83059, Validation Accuracy = 0.81564\n"
     ]
    },
    {
     "name": "stderr",
     "output_type": "stream",
     "text": [
      "Epoch 373/512: 100%|████████████████████████████████████████████████████████████████████████████████████████████████████████████████████| 910/910 [00:44<00:00, 20.32it/s]\n"
     ]
    },
    {
     "name": "stdout",
     "output_type": "stream",
     "text": [
      "Epoch 373/512: Train Loss = 0.21265, Validation Loss = 0.25629, Train Accuracy = 0.83053, Validation Accuracy = 0.81619\n"
     ]
    },
    {
     "name": "stderr",
     "output_type": "stream",
     "text": [
      "Epoch 374/512: 100%|████████████████████████████████████████████████████████████████████████████████████████████████████████████████████| 910/910 [00:44<00:00, 20.57it/s]\n"
     ]
    },
    {
     "name": "stdout",
     "output_type": "stream",
     "text": [
      "Epoch 374/512: Train Loss = 0.21284, Validation Loss = 0.25519, Train Accuracy = 0.83095, Validation Accuracy = 0.81482\n"
     ]
    },
    {
     "name": "stderr",
     "output_type": "stream",
     "text": [
      "Epoch 375/512: 100%|████████████████████████████████████████████████████████████████████████████████████████████████████████████████████| 910/910 [00:43<00:00, 20.74it/s]\n"
     ]
    },
    {
     "name": "stdout",
     "output_type": "stream",
     "text": [
      "Epoch 375/512: Train Loss = 0.21514, Validation Loss = 0.25692, Train Accuracy = 0.82799, Validation Accuracy = 0.81784\n"
     ]
    },
    {
     "name": "stderr",
     "output_type": "stream",
     "text": [
      "Epoch 376/512: 100%|████████████████████████████████████████████████████████████████████████████████████████████████████████████████████| 910/910 [00:44<00:00, 20.65it/s]\n"
     ]
    },
    {
     "name": "stdout",
     "output_type": "stream",
     "text": [
      "Epoch 376/512: Train Loss = 0.21336, Validation Loss = 0.25801, Train Accuracy = 0.82964, Validation Accuracy = 0.81619\n"
     ]
    },
    {
     "name": "stderr",
     "output_type": "stream",
     "text": [
      "Epoch 377/512: 100%|████████████████████████████████████████████████████████████████████████████████████████████████████████████████████| 910/910 [00:44<00:00, 20.58it/s]\n"
     ]
    },
    {
     "name": "stdout",
     "output_type": "stream",
     "text": [
      "Epoch 377/512: Train Loss = 0.21411, Validation Loss = 0.25729, Train Accuracy = 0.82909, Validation Accuracy = 0.81702\n"
     ]
    },
    {
     "name": "stderr",
     "output_type": "stream",
     "text": [
      "Epoch 378/512: 100%|████████████████████████████████████████████████████████████████████████████████████████████████████████████████████| 910/910 [00:44<00:00, 20.28it/s]\n"
     ]
    },
    {
     "name": "stdout",
     "output_type": "stream",
     "text": [
      "Epoch 378/512: Train Loss = 0.21282, Validation Loss = 0.25660, Train Accuracy = 0.83090, Validation Accuracy = 0.81826\n"
     ]
    },
    {
     "name": "stderr",
     "output_type": "stream",
     "text": [
      "Epoch 379/512: 100%|████████████████████████████████████████████████████████████████████████████████████████████████████████████████████| 910/910 [00:44<00:00, 20.45it/s]\n"
     ]
    },
    {
     "name": "stdout",
     "output_type": "stream",
     "text": [
      "Epoch 379/512: Train Loss = 0.21272, Validation Loss = 0.25713, Train Accuracy = 0.83153, Validation Accuracy = 0.81908\n"
     ]
    },
    {
     "name": "stderr",
     "output_type": "stream",
     "text": [
      "Epoch 380/512: 100%|████████████████████████████████████████████████████████████████████████████████████████████████████████████████████| 910/910 [00:44<00:00, 20.40it/s]\n"
     ]
    },
    {
     "name": "stdout",
     "output_type": "stream",
     "text": [
      "Epoch 380/512: Train Loss = 0.21394, Validation Loss = 0.25565, Train Accuracy = 0.82803, Validation Accuracy = 0.81633\n"
     ]
    },
    {
     "name": "stderr",
     "output_type": "stream",
     "text": [
      "Epoch 381/512: 100%|████████████████████████████████████████████████████████████████████████████████████████████████████████████████████| 910/910 [00:44<00:00, 20.33it/s]\n"
     ]
    },
    {
     "name": "stdout",
     "output_type": "stream",
     "text": [
      "Epoch 381/512: Train Loss = 0.21309, Validation Loss = 0.25774, Train Accuracy = 0.83072, Validation Accuracy = 0.81784\n"
     ]
    },
    {
     "name": "stderr",
     "output_type": "stream",
     "text": [
      "Epoch 382/512: 100%|████████████████████████████████████████████████████████████████████████████████████████████████████████████████████| 910/910 [00:44<00:00, 20.43it/s]\n"
     ]
    },
    {
     "name": "stdout",
     "output_type": "stream",
     "text": [
      "Epoch 382/512: Train Loss = 0.21240, Validation Loss = 0.25810, Train Accuracy = 0.83009, Validation Accuracy = 0.81606\n"
     ]
    },
    {
     "name": "stderr",
     "output_type": "stream",
     "text": [
      "Epoch 383/512: 100%|████████████████████████████████████████████████████████████████████████████████████████████████████████████████████| 910/910 [00:44<00:00, 20.29it/s]\n"
     ]
    },
    {
     "name": "stdout",
     "output_type": "stream",
     "text": [
      "Epoch 383/512: Train Loss = 0.21343, Validation Loss = 0.25594, Train Accuracy = 0.82770, Validation Accuracy = 0.81578\n"
     ]
    },
    {
     "name": "stderr",
     "output_type": "stream",
     "text": [
      "Epoch 384/512: 100%|████████████████████████████████████████████████████████████████████████████████████████████████████████████████████| 910/910 [00:44<00:00, 20.50it/s]\n"
     ]
    },
    {
     "name": "stdout",
     "output_type": "stream",
     "text": [
      "Epoch 384/512: Train Loss = 0.21047, Validation Loss = 0.25503, Train Accuracy = 0.83138, Validation Accuracy = 0.81702\n"
     ]
    },
    {
     "name": "stderr",
     "output_type": "stream",
     "text": [
      "Epoch 385/512: 100%|████████████████████████████████████████████████████████████████████████████████████████████████████████████████████| 910/910 [00:44<00:00, 20.45it/s]\n"
     ]
    },
    {
     "name": "stdout",
     "output_type": "stream",
     "text": [
      "Epoch 385/512: Train Loss = 0.21116, Validation Loss = 0.25663, Train Accuracy = 0.83198, Validation Accuracy = 0.81454\n"
     ]
    },
    {
     "name": "stderr",
     "output_type": "stream",
     "text": [
      "Epoch 386/512: 100%|████████████████████████████████████████████████████████████████████████████████████████████████████████████████████| 910/910 [00:44<00:00, 20.39it/s]\n"
     ]
    },
    {
     "name": "stdout",
     "output_type": "stream",
     "text": [
      "Epoch 386/512: Train Loss = 0.21174, Validation Loss = 0.25552, Train Accuracy = 0.82976, Validation Accuracy = 0.81771\n"
     ]
    },
    {
     "name": "stderr",
     "output_type": "stream",
     "text": [
      "Epoch 387/512: 100%|████████████████████████████████████████████████████████████████████████████████████████████████████████████████████| 910/910 [00:44<00:00, 20.24it/s]\n"
     ]
    },
    {
     "name": "stdout",
     "output_type": "stream",
     "text": [
      "Epoch 387/512: Train Loss = 0.21169, Validation Loss = 0.25637, Train Accuracy = 0.83079, Validation Accuracy = 0.81798\n"
     ]
    },
    {
     "name": "stderr",
     "output_type": "stream",
     "text": [
      "Epoch 388/512: 100%|████████████████████████████████████████████████████████████████████████████████████████████████████████████████████| 910/910 [00:44<00:00, 20.48it/s]\n"
     ]
    },
    {
     "name": "stdout",
     "output_type": "stream",
     "text": [
      "Epoch 388/512: Train Loss = 0.21061, Validation Loss = 0.25525, Train Accuracy = 0.83258, Validation Accuracy = 0.81702\n"
     ]
    },
    {
     "name": "stderr",
     "output_type": "stream",
     "text": [
      "Epoch 389/512: 100%|████████████████████████████████████████████████████████████████████████████████████████████████████████████████████| 910/910 [00:44<00:00, 20.46it/s]\n"
     ]
    },
    {
     "name": "stdout",
     "output_type": "stream",
     "text": [
      "Epoch 389/512: Train Loss = 0.21139, Validation Loss = 0.25653, Train Accuracy = 0.82954, Validation Accuracy = 0.81564\n"
     ]
    },
    {
     "name": "stderr",
     "output_type": "stream",
     "text": [
      "Epoch 390/512: 100%|████████████████████████████████████████████████████████████████████████████████████████████████████████████████████| 910/910 [00:44<00:00, 20.40it/s]\n"
     ]
    },
    {
     "name": "stdout",
     "output_type": "stream",
     "text": [
      "Epoch 390/512: Train Loss = 0.21058, Validation Loss = 0.25949, Train Accuracy = 0.83239, Validation Accuracy = 0.81537\n"
     ]
    },
    {
     "name": "stderr",
     "output_type": "stream",
     "text": [
      "Epoch 391/512: 100%|████████████████████████████████████████████████████████████████████████████████████████████████████████████████████| 910/910 [00:44<00:00, 20.35it/s]\n"
     ]
    },
    {
     "name": "stdout",
     "output_type": "stream",
     "text": [
      "Epoch 391/512: Train Loss = 0.21227, Validation Loss = 0.25494, Train Accuracy = 0.83072, Validation Accuracy = 0.81592\n"
     ]
    },
    {
     "name": "stderr",
     "output_type": "stream",
     "text": [
      "Epoch 392/512: 100%|████████████████████████████████████████████████████████████████████████████████████████████████████████████████████| 910/910 [00:44<00:00, 20.52it/s]\n"
     ]
    },
    {
     "name": "stdout",
     "output_type": "stream",
     "text": [
      "Epoch 392/512: Train Loss = 0.21040, Validation Loss = 0.25743, Train Accuracy = 0.83220, Validation Accuracy = 0.81826\n"
     ]
    },
    {
     "name": "stderr",
     "output_type": "stream",
     "text": [
      "Epoch 393/512: 100%|████████████████████████████████████████████████████████████████████████████████████████████████████████████████████| 910/910 [00:44<00:00, 20.35it/s]\n"
     ]
    },
    {
     "name": "stdout",
     "output_type": "stream",
     "text": [
      "Epoch 393/512: Train Loss = 0.21230, Validation Loss = 0.25689, Train Accuracy = 0.83093, Validation Accuracy = 0.81619\n"
     ]
    },
    {
     "name": "stderr",
     "output_type": "stream",
     "text": [
      "Epoch 394/512: 100%|████████████████████████████████████████████████████████████████████████████████████████████████████████████████████| 910/910 [00:44<00:00, 20.40it/s]\n"
     ]
    },
    {
     "name": "stdout",
     "output_type": "stream",
     "text": [
      "Epoch 394/512: Train Loss = 0.21241, Validation Loss = 0.25498, Train Accuracy = 0.82983, Validation Accuracy = 0.81674\n"
     ]
    },
    {
     "name": "stderr",
     "output_type": "stream",
     "text": [
      "Epoch 395/512: 100%|████████████████████████████████████████████████████████████████████████████████████████████████████████████████████| 910/910 [00:44<00:00, 20.44it/s]\n"
     ]
    },
    {
     "name": "stdout",
     "output_type": "stream",
     "text": [
      "Epoch 395/512: Train Loss = 0.21175, Validation Loss = 0.25624, Train Accuracy = 0.83131, Validation Accuracy = 0.81674\n"
     ]
    },
    {
     "name": "stderr",
     "output_type": "stream",
     "text": [
      "Epoch 396/512: 100%|████████████████████████████████████████████████████████████████████████████████████████████████████████████████████| 910/910 [00:44<00:00, 20.48it/s]\n"
     ]
    },
    {
     "name": "stdout",
     "output_type": "stream",
     "text": [
      "Epoch 396/512: Train Loss = 0.21100, Validation Loss = 0.25535, Train Accuracy = 0.83212, Validation Accuracy = 0.81661\n"
     ]
    },
    {
     "name": "stderr",
     "output_type": "stream",
     "text": [
      "Epoch 397/512: 100%|████████████████████████████████████████████████████████████████████████████████████████████████████████████████████| 910/910 [00:44<00:00, 20.42it/s]\n"
     ]
    },
    {
     "name": "stdout",
     "output_type": "stream",
     "text": [
      "Epoch 397/512: Train Loss = 0.21136, Validation Loss = 0.25757, Train Accuracy = 0.83273, Validation Accuracy = 0.81647\n"
     ]
    },
    {
     "name": "stderr",
     "output_type": "stream",
     "text": [
      "Epoch 398/512: 100%|████████████████████████████████████████████████████████████████████████████████████████████████████████████████████| 910/910 [00:44<00:00, 20.26it/s]\n"
     ]
    },
    {
     "name": "stdout",
     "output_type": "stream",
     "text": [
      "Epoch 398/512: Train Loss = 0.21037, Validation Loss = 0.25574, Train Accuracy = 0.83167, Validation Accuracy = 0.81784\n"
     ]
    },
    {
     "name": "stderr",
     "output_type": "stream",
     "text": [
      "Epoch 399/512: 100%|████████████████████████████████████████████████████████████████████████████████████████████████████████████████████| 910/910 [00:44<00:00, 20.64it/s]\n"
     ]
    },
    {
     "name": "stdout",
     "output_type": "stream",
     "text": [
      "Epoch 399/512: Train Loss = 0.21161, Validation Loss = 0.25655, Train Accuracy = 0.83122, Validation Accuracy = 0.81729\n"
     ]
    },
    {
     "name": "stderr",
     "output_type": "stream",
     "text": [
      "Epoch 400/512: 100%|████████████████████████████████████████████████████████████████████████████████████████████████████████████████████| 910/910 [00:44<00:00, 20.29it/s]\n"
     ]
    },
    {
     "name": "stdout",
     "output_type": "stream",
     "text": [
      "Epoch 400/512: Train Loss = 0.21103, Validation Loss = 0.25709, Train Accuracy = 0.83200, Validation Accuracy = 0.81784\n"
     ]
    },
    {
     "name": "stderr",
     "output_type": "stream",
     "text": [
      "Epoch 401/512: 100%|████████████████████████████████████████████████████████████████████████████████████████████████████████████████████| 910/910 [00:44<00:00, 20.42it/s]\n"
     ]
    },
    {
     "name": "stdout",
     "output_type": "stream",
     "text": [
      "Epoch 401/512: Train Loss = 0.21183, Validation Loss = 0.25443, Train Accuracy = 0.83201, Validation Accuracy = 0.81812\n"
     ]
    },
    {
     "name": "stderr",
     "output_type": "stream",
     "text": [
      "Epoch 402/512: 100%|████████████████████████████████████████████████████████████████████████████████████████████████████████████████████| 910/910 [00:44<00:00, 20.36it/s]\n"
     ]
    },
    {
     "name": "stdout",
     "output_type": "stream",
     "text": [
      "Epoch 402/512: Train Loss = 0.21154, Validation Loss = 0.25563, Train Accuracy = 0.83177, Validation Accuracy = 0.81441\n"
     ]
    },
    {
     "name": "stderr",
     "output_type": "stream",
     "text": [
      "Epoch 403/512: 100%|████████████████████████████████████████████████████████████████████████████████████████████████████████████████████| 910/910 [00:44<00:00, 20.42it/s]\n"
     ]
    },
    {
     "name": "stdout",
     "output_type": "stream",
     "text": [
      "Epoch 403/512: Train Loss = 0.21059, Validation Loss = 0.25517, Train Accuracy = 0.83162, Validation Accuracy = 0.81619\n"
     ]
    },
    {
     "data": {
      "image/png": "[encoded data removed]",
      "text/plain": [
       "<Figure size 1500x700 with 2 Axes>"
      ]
     },
     "metadata": {},
     "output_type": "display_data"
    }
   ],
   "source": [
    "import argparse\n",
    "\n",
    "training_args = argparse.Namespace(**args)\n",
    "train_model(training_args, device)"
   ]
  },
  {
   "cell_type": "code",
   "execution_count": null,
   "metadata": {},
   "outputs": [],
   "source": []
  }
 ],
 "metadata": {
  "kernelspec": {
   "display_name": "Python (myenv)",
   "language": "python",
   "name": "myenv"
  },
  "language_info": {
   "codemirror_mode": {
    "name": "ipython",
    "version": 3
   },
   "file_extension": ".py",
   "mimetype": "text/x-python",
   "name": "python",
   "nbconvert_exporter": "python",
   "pygments_lexer": "ipython3",
   "version": "3.12.7"
  }
 },
 "nbformat": 4,
 "nbformat_minor": 4
}
