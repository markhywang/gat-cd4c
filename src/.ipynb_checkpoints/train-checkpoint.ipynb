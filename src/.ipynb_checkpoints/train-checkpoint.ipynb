{
 "cells": [
  {
   "cell_type": "code",
   "execution_count": 1,
   "metadata": {},
   "outputs": [
    {
     "name": "stdout",
     "output_type": "stream",
     "text": [
      "Using device: cpu\n"
     ]
    }
   ],
   "source": [
    "import torch\n",
    "\n",
    "# Local imports\n",
    "from train import train_model"
   ]
  },
  {
   "cell_type": "code",
   "execution_count": 2,
   "metadata": {},
   "outputs": [
    {
     "name": "stdout",
     "output_type": "stream",
     "text": [
      "Using device: cuda:0\n"
     ]
    }
   ],
   "source": [
    "if torch.backends.mps.is_available():\n",
    "    device = torch.device(\"mps\")\n",
    "elif torch.cuda.is_available():\n",
    "    device = torch.device(\"cuda:0\")\n",
    "else:\n",
    "    device = torch.device(\"cpu\")\n",
    "\n",
    "print(f\"Using device: {device}\")"
   ]
  },
  {
   "cell_type": "code",
   "execution_count": 3,
   "metadata": {},
   "outputs": [],
   "source": [
    "args = {\n",
    "    \"use_small_dataset\": True,\n",
    "    \"batch_size\": 64,\n",
    "    \"stoppage_epochs\": 42,\n",
    "    \"max_epochs\": 2,\n",
    "    \"seed\": 42,\n",
    "    \"data_path\": \"../data\",\n",
    "    \"frac_train\": 0.8,\n",
    "    \"frac_validation\": 0.1,\n",
    "    \"frac_test\": 0.1,\n",
    "    \"huber_beta\": 2.0,\n",
    "    \"weight_decay\": 1e-3,\n",
    "    \"lr\": 3e-4,\n",
    "    \"scheduler_patience\": 10,\n",
    "    \"scheduler_factor\": 0.5,\n",
    "    \"hidden_size\": 96,\n",
    "    \"num_layers\": 7,\n",
    "    \"num_attn_heads\": 6,\n",
    "    \"dropout\": 0.2,\n",
    "    \"leaky_relu_slope\": 0.2,\n",
    "    \"pooling_dim\": 96,\n",
    "}"
   ]
  },
  {
   "cell_type": "code",
   "execution_count": 4,
   "metadata": {},
   "outputs": [
    {
     "name": "stdout",
     "output_type": "stream",
     "text": [
      "Model parameters: 182714\n"
     ]
    },
    {
     "name": "stderr",
     "output_type": "stream",
     "text": [
      "Epoch 1/512: 100%|██████████████████████████████████████████████████████████████████████| 910/910 [02:35<00:00,  5.84it/s]\n"
     ]
    },
    {
     "name": "stdout",
     "output_type": "stream",
     "text": [
      "Epoch 1/512: \n",
      "Train Loss = 0.32948, Train MSE = 1.33976, Train MAE = 0.94078, Train Acc = 0.59302\n",
      "Val Loss = 0.32289, Val MSE = 1.31338, Val MAE = 0.93278, Val Acc = 0.60104\n"
     ]
    },
    {
     "name": "stderr",
     "output_type": "stream",
     "text": [
      "Epoch 2/512: 100%|██████████████████████████████████████████████████████████████████████| 910/910 [00:44<00:00, 20.54it/s]\n"
     ]
    },
    {
     "name": "stdout",
     "output_type": "stream",
     "text": [
      "Epoch 2/512: \n",
      "Train Loss = 0.32184, Train MSE = 1.30736, Train MAE = 0.92894, Train Acc = 0.59962\n",
      "Val Loss = 0.31297, Val MSE = 1.27246, Val MAE = 0.91325, Val Acc = 0.61122\n"
     ]
    },
    {
     "name": "stderr",
     "output_type": "stream",
     "text": [
      "Epoch 3/512: 100%|██████████████████████████████████████████████████████████████████████| 910/910 [00:44<00:00, 20.37it/s]\n"
     ]
    },
    {
     "name": "stdout",
     "output_type": "stream",
     "text": [
      "Epoch 3/512: \n",
      "Train Loss = 0.30883, Train MSE = 1.25383, Train MAE = 0.90676, Train Acc = 0.61228\n",
      "Val Loss = 0.30859, Val MSE = 1.25262, Val MAE = 0.90552, Val Acc = 0.61259\n"
     ]
    },
    {
     "name": "stderr",
     "output_type": "stream",
     "text": [
      "Epoch 4/512: 100%|██████████████████████████████████████████████████████████████████████| 910/910 [00:44<00:00, 20.37it/s]\n"
     ]
    },
    {
     "name": "stdout",
     "output_type": "stream",
     "text": [
      "Epoch 4/512: \n",
      "Train Loss = 0.29955, Train MSE = 1.21566, Train MAE = 0.89041, Train Acc = 0.62192\n",
      "Val Loss = 0.29189, Val MSE = 1.18589, Val MAE = 0.87662, Val Acc = 0.63211\n"
     ]
    },
    {
     "name": "stderr",
     "output_type": "stream",
     "text": [
      "Epoch 5/512: 100%|██████████████████████████████████████████████████████████████████████| 910/910 [00:44<00:00, 20.31it/s]\n"
     ]
    },
    {
     "name": "stdout",
     "output_type": "stream",
     "text": [
      "Epoch 5/512: \n",
      "Train Loss = 0.29164, Train MSE = 1.18339, Train MAE = 0.87792, Train Acc = 0.62878\n",
      "Val Loss = 0.28605, Val MSE = 1.16434, Val MAE = 0.86093, Val Acc = 0.63981\n"
     ]
    },
    {
     "name": "stderr",
     "output_type": "stream",
     "text": [
      "Epoch 6/512: 100%|██████████████████████████████████████████████████████████████████████| 910/910 [00:44<00:00, 20.28it/s]\n"
     ]
    },
    {
     "name": "stdout",
     "output_type": "stream",
     "text": [
      "Epoch 6/512: \n",
      "Train Loss = 0.28418, Train MSE = 1.15242, Train MAE = 0.86382, Train Acc = 0.63904\n",
      "Val Loss = 0.27287, Val MSE = 1.10674, Val MAE = 0.84227, Val Acc = 0.65219\n"
     ]
    },
    {
     "name": "stderr",
     "output_type": "stream",
     "text": [
      "Epoch 7/512: 100%|██████████████████████████████████████████████████████████████████████| 910/910 [00:45<00:00, 20.19it/s]\n"
     ]
    },
    {
     "name": "stdout",
     "output_type": "stream",
     "text": [
      "Epoch 7/512: \n",
      "Train Loss = 0.27647, Train MSE = 1.12146, Train MAE = 0.84994, Train Acc = 0.64950\n",
      "Val Loss = 0.26426, Val MSE = 1.07282, Val MAE = 0.82260, Val Acc = 0.66318\n"
     ]
    },
    {
     "name": "stderr",
     "output_type": "stream",
     "text": [
      "Epoch 8/512: 100%|██████████████████████████████████████████████████████████████████████| 910/910 [00:44<00:00, 20.24it/s]\n"
     ]
    },
    {
     "name": "stdout",
     "output_type": "stream",
     "text": [
      "Epoch 8/512: \n",
      "Train Loss = 0.26837, Train MSE = 1.08859, Train MAE = 0.83432, Train Acc = 0.65963\n",
      "Val Loss = 0.26435, Val MSE = 1.07473, Val MAE = 0.81666, Val Acc = 0.67061\n"
     ]
    },
    {
     "name": "stderr",
     "output_type": "stream",
     "text": [
      "Epoch 9/512: 100%|██████████████████████████████████████████████████████████████████████| 910/910 [00:44<00:00, 20.27it/s]\n"
     ]
    },
    {
     "name": "stdout",
     "output_type": "stream",
     "text": [
      "Epoch 9/512: \n",
      "Train Loss = 0.26168, Train MSE = 1.06055, Train MAE = 0.82418, Train Acc = 0.66554\n",
      "Val Loss = 0.25731, Val MSE = 1.04535, Val MAE = 0.80994, Val Acc = 0.67803\n"
     ]
    },
    {
     "name": "stderr",
     "output_type": "stream",
     "text": [
      "Epoch 10/512: 100%|█████████████████████████████████████████████████████████████████████| 910/910 [00:44<00:00, 20.26it/s]\n"
     ]
    },
    {
     "name": "stdout",
     "output_type": "stream",
     "text": [
      "Epoch 10/512: \n",
      "Train Loss = 0.25693, Train MSE = 1.04154, Train MAE = 0.81319, Train Acc = 0.67284\n",
      "Val Loss = 0.26665, Val MSE = 1.08523, Val MAE = 0.83329, Val Acc = 0.66098\n"
     ]
    },
    {
     "name": "stderr",
     "output_type": "stream",
     "text": [
      "Epoch 11/512: 100%|█████████████████████████████████████████████████████████████████████| 910/910 [00:44<00:00, 20.27it/s]\n"
     ]
    },
    {
     "name": "stdout",
     "output_type": "stream",
     "text": [
      "Epoch 11/512: \n",
      "Train Loss = 0.25176, Train MSE = 1.02007, Train MAE = 0.80493, Train Acc = 0.67966\n",
      "Val Loss = 0.25505, Val MSE = 1.03845, Val MAE = 0.80230, Val Acc = 0.67624\n"
     ]
    },
    {
     "name": "stderr",
     "output_type": "stream",
     "text": [
      "Epoch 12/512: 100%|█████████████████████████████████████████████████████████████████████| 910/910 [00:44<00:00, 20.32it/s]\n"
     ]
    },
    {
     "name": "stdout",
     "output_type": "stream",
     "text": [
      "Epoch 12/512: \n",
      "Train Loss = 0.24815, Train MSE = 1.00535, Train MAE = 0.79804, Train Acc = 0.68578\n",
      "Val Loss = 0.24631, Val MSE = 1.00107, Val MAE = 0.79129, Val Acc = 0.68834\n"
     ]
    },
    {
     "name": "stderr",
     "output_type": "stream",
     "text": [
      "Epoch 13/512: 100%|█████████████████████████████████████████████████████████████████████| 910/910 [00:44<00:00, 20.30it/s]\n"
     ]
    },
    {
     "name": "stdout",
     "output_type": "stream",
     "text": [
      "Epoch 13/512: \n",
      "Train Loss = 0.24557, Train MSE = 0.99455, Train MAE = 0.79431, Train Acc = 0.68568\n",
      "Val Loss = 0.24198, Val MSE = 0.98474, Val MAE = 0.78034, Val Acc = 0.69150\n"
     ]
    },
    {
     "name": "stderr",
     "output_type": "stream",
     "text": [
      "Epoch 14/512: 100%|█████████████████████████████████████████████████████████████████████| 910/910 [00:44<00:00, 20.34it/s]\n"
     ]
    },
    {
     "name": "stdout",
     "output_type": "stream",
     "text": [
      "Epoch 14/512: \n",
      "Train Loss = 0.24176, Train MSE = 0.97932, Train MAE = 0.78654, Train Acc = 0.69255\n",
      "Val Loss = 0.24838, Val MSE = 1.00953, Val MAE = 0.79633, Val Acc = 0.68655\n"
     ]
    },
    {
     "name": "stderr",
     "output_type": "stream",
     "text": [
      "Epoch 15/512: 100%|█████████████████████████████████████████████████████████████████████| 910/910 [00:44<00:00, 20.32it/s]\n"
     ]
    },
    {
     "name": "stdout",
     "output_type": "stream",
     "text": [
      "Epoch 15/512: \n",
      "Train Loss = 0.23853, Train MSE = 0.96593, Train MAE = 0.78119, Train Acc = 0.69664\n",
      "Val Loss = 0.23452, Val MSE = 0.95063, Val MAE = 0.77132, Val Acc = 0.70319\n"
     ]
    },
    {
     "name": "stderr",
     "output_type": "stream",
     "text": [
      "Epoch 16/512: 100%|█████████████████████████████████████████████████████████████████████| 910/910 [00:45<00:00, 20.22it/s]\n"
     ]
    },
    {
     "name": "stdout",
     "output_type": "stream",
     "text": [
      "Epoch 16/512: \n",
      "Train Loss = 0.23533, Train MSE = 0.95258, Train MAE = 0.77493, Train Acc = 0.69944\n",
      "Val Loss = 0.22860, Val MSE = 0.92749, Val MAE = 0.75832, Val Acc = 0.70883\n"
     ]
    },
    {
     "name": "stderr",
     "output_type": "stream",
     "text": [
      "Epoch 17/512: 100%|█████████████████████████████████████████████████████████████████████| 910/910 [00:44<00:00, 20.29it/s]\n"
     ]
    },
    {
     "name": "stdout",
     "output_type": "stream",
     "text": [
      "Epoch 17/512: \n",
      "Train Loss = 0.23394, Train MSE = 0.94669, Train MAE = 0.77260, Train Acc = 0.70104\n",
      "Val Loss = 0.22590, Val MSE = 0.91714, Val MAE = 0.75365, Val Acc = 0.71268\n"
     ]
    },
    {
     "name": "stderr",
     "output_type": "stream",
     "text": [
      "Epoch 18/512: 100%|█████████████████████████████████████████████████████████████████████| 910/910 [00:44<00:00, 20.24it/s]\n"
     ]
    },
    {
     "name": "stdout",
     "output_type": "stream",
     "text": [
      "Epoch 18/512: \n",
      "Train Loss = 0.23131, Train MSE = 0.93603, Train MAE = 0.76682, Train Acc = 0.70489\n",
      "Val Loss = 0.22786, Val MSE = 0.92494, Val MAE = 0.75471, Val Acc = 0.71281\n"
     ]
    },
    {
     "name": "stderr",
     "output_type": "stream",
     "text": [
      "Epoch 19/512: 100%|█████████████████████████████████████████████████████████████████████| 910/910 [00:44<00:00, 20.32it/s]\n"
     ]
    },
    {
     "name": "stdout",
     "output_type": "stream",
     "text": [
      "Epoch 19/512: \n",
      "Train Loss = 0.22980, Train MSE = 0.92983, Train MAE = 0.76461, Train Acc = 0.70419\n",
      "Val Loss = 0.22482, Val MSE = 0.91257, Val MAE = 0.74878, Val Acc = 0.71666\n"
     ]
    },
    {
     "name": "stderr",
     "output_type": "stream",
     "text": [
      "Epoch 20/512: 100%|█████████████████████████████████████████████████████████████████████| 910/910 [00:44<00:00, 20.30it/s]\n"
     ]
    },
    {
     "name": "stdout",
     "output_type": "stream",
     "text": [
      "Epoch 20/512: \n",
      "Train Loss = 0.22676, Train MSE = 0.91737, Train MAE = 0.75917, Train Acc = 0.70960\n",
      "Val Loss = 0.22665, Val MSE = 0.91956, Val MAE = 0.75684, Val Acc = 0.71158\n"
     ]
    },
    {
     "name": "stderr",
     "output_type": "stream",
     "text": [
      "Epoch 21/512: 100%|█████████████████████████████████████████████████████████████████████| 910/910 [00:44<00:00, 20.40it/s]\n"
     ]
    },
    {
     "name": "stdout",
     "output_type": "stream",
     "text": [
      "Epoch 21/512: \n",
      "Train Loss = 0.22387, Train MSE = 0.90548, Train MAE = 0.75432, Train Acc = 0.71404\n",
      "Val Loss = 0.22869, Val MSE = 0.92857, Val MAE = 0.76137, Val Acc = 0.71020\n"
     ]
    },
    {
     "name": "stderr",
     "output_type": "stream",
     "text": [
      "Epoch 22/512: 100%|█████████████████████████████████████████████████████████████████████| 910/910 [00:44<00:00, 20.44it/s]\n"
     ]
    },
    {
     "name": "stdout",
     "output_type": "stream",
     "text": [
      "Epoch 22/512: \n",
      "Train Loss = 0.22214, Train MSE = 0.89857, Train MAE = 0.75112, Train Acc = 0.71630\n",
      "Val Loss = 0.22157, Val MSE = 0.89820, Val MAE = 0.74858, Val Acc = 0.71584\n"
     ]
    },
    {
     "name": "stderr",
     "output_type": "stream",
     "text": [
      "Epoch 23/512: 100%|█████████████████████████████████████████████████████████████████████| 910/910 [00:44<00:00, 20.28it/s]\n"
     ]
    },
    {
     "name": "stdout",
     "output_type": "stream",
     "text": [
      "Epoch 23/512: \n",
      "Train Loss = 0.21929, Train MSE = 0.88651, Train MAE = 0.74575, Train Acc = 0.72251\n",
      "Val Loss = 0.22724, Val MSE = 0.92335, Val MAE = 0.75456, Val Acc = 0.71144\n"
     ]
    },
    {
     "name": "stderr",
     "output_type": "stream",
     "text": [
      "Epoch 24/512: 100%|█████████████████████████████████████████████████████████████████████| 910/910 [00:44<00:00, 20.23it/s]\n"
     ]
    },
    {
     "name": "stdout",
     "output_type": "stream",
     "text": [
      "Epoch 24/512: \n",
      "Train Loss = 0.21909, Train MSE = 0.88591, Train MAE = 0.74466, Train Acc = 0.71947\n",
      "Val Loss = 0.23783, Val MSE = 0.96737, Val MAE = 0.77966, Val Acc = 0.69659\n"
     ]
    },
    {
     "name": "stderr",
     "output_type": "stream",
     "text": [
      "Epoch 25/512: 100%|█████████████████████████████████████████████████████████████████████| 910/910 [00:44<00:00, 20.39it/s]\n"
     ]
    },
    {
     "name": "stdout",
     "output_type": "stream",
     "text": [
      "Epoch 25/512: \n",
      "Train Loss = 0.21725, Train MSE = 0.87836, Train MAE = 0.74104, Train Acc = 0.72251\n",
      "Val Loss = 0.21792, Val MSE = 0.88406, Val MAE = 0.73951, Val Acc = 0.72161\n"
     ]
    },
    {
     "name": "stderr",
     "output_type": "stream",
     "text": [
      "Epoch 26/512: 100%|█████████████████████████████████████████████████████████████████████| 910/910 [00:44<00:00, 20.30it/s]\n"
     ]
    },
    {
     "name": "stdout",
     "output_type": "stream",
     "text": [
      "Epoch 26/512: \n",
      "Train Loss = 0.21460, Train MSE = 0.86792, Train MAE = 0.73622, Train Acc = 0.72536\n",
      "Val Loss = 0.21783, Val MSE = 0.88311, Val MAE = 0.73830, Val Acc = 0.72752\n"
     ]
    },
    {
     "name": "stderr",
     "output_type": "stream",
     "text": [
      "Epoch 27/512: 100%|█████████████████████████████████████████████████████████████████████| 910/910 [00:44<00:00, 20.26it/s]\n"
     ]
    },
    {
     "name": "stdout",
     "output_type": "stream",
     "text": [
      "Epoch 27/512: \n",
      "Train Loss = 0.21365, Train MSE = 0.86358, Train MAE = 0.73468, Train Acc = 0.72601\n",
      "Val Loss = 0.22250, Val MSE = 0.90368, Val MAE = 0.74274, Val Acc = 0.72134\n"
     ]
    },
    {
     "name": "stderr",
     "output_type": "stream",
     "text": [
      "Epoch 28/512: 100%|█████████████████████████████████████████████████████████████████████| 910/910 [00:45<00:00, 20.15it/s]\n"
     ]
    },
    {
     "name": "stdout",
     "output_type": "stream",
     "text": [
      "Epoch 28/512: \n",
      "Train Loss = 0.21203, Train MSE = 0.85679, Train MAE = 0.73082, Train Acc = 0.72857\n",
      "Val Loss = 0.21735, Val MSE = 0.88180, Val MAE = 0.73465, Val Acc = 0.72862\n"
     ]
    },
    {
     "name": "stderr",
     "output_type": "stream",
     "text": [
      "Epoch 29/512: 100%|█████████████████████████████████████████████████████████████████████| 910/910 [00:45<00:00, 20.15it/s]\n"
     ]
    },
    {
     "name": "stdout",
     "output_type": "stream",
     "text": [
      "Epoch 29/512: \n",
      "Train Loss = 0.21201, Train MSE = 0.85695, Train MAE = 0.73111, Train Acc = 0.72835\n",
      "Val Loss = 0.22112, Val MSE = 0.89911, Val MAE = 0.74321, Val Acc = 0.71845\n"
     ]
    },
    {
     "name": "stderr",
     "output_type": "stream",
     "text": [
      "Epoch 30/512: 100%|█████████████████████████████████████████████████████████████████████| 910/910 [00:44<00:00, 20.22it/s]\n"
     ]
    },
    {
     "name": "stdout",
     "output_type": "stream",
     "text": [
      "Epoch 30/512: \n",
      "Train Loss = 0.21042, Train MSE = 0.85014, Train MAE = 0.72931, Train Acc = 0.73031\n",
      "Val Loss = 0.20330, Val MSE = 0.82379, Val MAE = 0.70796, Val Acc = 0.74155\n"
     ]
    },
    {
     "name": "stderr",
     "output_type": "stream",
     "text": [
      "Epoch 31/512: 100%|█████████████████████████████████████████████████████████████████████| 910/910 [00:45<00:00, 20.17it/s]\n"
     ]
    },
    {
     "name": "stdout",
     "output_type": "stream",
     "text": [
      "Epoch 31/512: \n",
      "Train Loss = 0.20856, Train MSE = 0.84287, Train MAE = 0.72458, Train Acc = 0.73413\n",
      "Val Loss = 0.21138, Val MSE = 0.85715, Val MAE = 0.72697, Val Acc = 0.72972\n"
     ]
    },
    {
     "name": "stderr",
     "output_type": "stream",
     "text": [
      "Epoch 32/512: 100%|█████████████████████████████████████████████████████████████████████| 910/910 [00:44<00:00, 20.30it/s]\n"
     ]
    },
    {
     "name": "stdout",
     "output_type": "stream",
     "text": [
      "Epoch 32/512: \n",
      "Train Loss = 0.20698, Train MSE = 0.83588, Train MAE = 0.72195, Train Acc = 0.73512\n",
      "Val Loss = 0.20546, Val MSE = 0.83208, Val MAE = 0.71428, Val Acc = 0.73783\n"
     ]
    },
    {
     "name": "stderr",
     "output_type": "stream",
     "text": [
      "Epoch 33/512: 100%|█████████████████████████████████████████████████████████████████████| 910/910 [00:45<00:00, 20.21it/s]\n"
     ]
    },
    {
     "name": "stdout",
     "output_type": "stream",
     "text": [
      "Epoch 33/512: \n",
      "Train Loss = 0.20611, Train MSE = 0.83273, Train MAE = 0.72022, Train Acc = 0.73804\n",
      "Val Loss = 0.20570, Val MSE = 0.83429, Val MAE = 0.70967, Val Acc = 0.74402\n"
     ]
    },
    {
     "name": "stderr",
     "output_type": "stream",
     "text": [
      "Epoch 34/512: 100%|█████████████████████████████████████████████████████████████████████| 910/910 [00:44<00:00, 20.34it/s]\n"
     ]
    },
    {
     "name": "stdout",
     "output_type": "stream",
     "text": [
      "Epoch 34/512: \n",
      "Train Loss = 0.20349, Train MSE = 0.82192, Train MAE = 0.71535, Train Acc = 0.74069\n",
      "Val Loss = 0.20811, Val MSE = 0.84428, Val MAE = 0.71553, Val Acc = 0.74058\n"
     ]
    },
    {
     "name": "stderr",
     "output_type": "stream",
     "text": [
      "Epoch 35/512: 100%|█████████████████████████████████████████████████████████████████████| 910/910 [00:44<00:00, 20.37it/s]\n"
     ]
    },
    {
     "name": "stdout",
     "output_type": "stream",
     "text": [
      "Epoch 35/512: \n",
      "Train Loss = 0.20356, Train MSE = 0.82217, Train MAE = 0.71551, Train Acc = 0.74060\n",
      "Val Loss = 0.20978, Val MSE = 0.85152, Val MAE = 0.72152, Val Acc = 0.73481\n"
     ]
    },
    {
     "name": "stderr",
     "output_type": "stream",
     "text": [
      "Epoch 36/512: 100%|█████████████████████████████████████████████████████████████████████| 910/910 [00:44<00:00, 20.33it/s]\n"
     ]
    },
    {
     "name": "stdout",
     "output_type": "stream",
     "text": [
      "Epoch 36/512: \n",
      "Train Loss = 0.20335, Train MSE = 0.82129, Train MAE = 0.71409, Train Acc = 0.74231\n",
      "Val Loss = 0.19870, Val MSE = 0.80477, Val MAE = 0.69968, Val Acc = 0.74691\n"
     ]
    },
    {
     "name": "stderr",
     "output_type": "stream",
     "text": [
      "Epoch 37/512: 100%|█████████████████████████████████████████████████████████████████████| 910/910 [00:44<00:00, 20.36it/s]\n"
     ]
    },
    {
     "name": "stdout",
     "output_type": "stream",
     "text": [
      "Epoch 37/512: \n",
      "Train Loss = 0.20201, Train MSE = 0.81577, Train MAE = 0.71244, Train Acc = 0.74255\n",
      "Val Loss = 0.20562, Val MSE = 0.83317, Val MAE = 0.71779, Val Acc = 0.73770\n"
     ]
    },
    {
     "name": "stderr",
     "output_type": "stream",
     "text": [
      "Epoch 38/512: 100%|█████████████████████████████████████████████████████████████████████| 910/910 [00:44<00:00, 20.36it/s]\n"
     ]
    },
    {
     "name": "stdout",
     "output_type": "stream",
     "text": [
      "Epoch 38/512: \n",
      "Train Loss = 0.20058, Train MSE = 0.80982, Train MAE = 0.71039, Train Acc = 0.74392\n",
      "Val Loss = 0.20235, Val MSE = 0.82080, Val MAE = 0.70683, Val Acc = 0.74677\n"
     ]
    },
    {
     "name": "stderr",
     "output_type": "stream",
     "text": [
      "Epoch 39/512: 100%|█████████████████████████████████████████████████████████████████████| 910/910 [00:44<00:00, 20.31it/s]\n"
     ]
    },
    {
     "name": "stdout",
     "output_type": "stream",
     "text": [
      "Epoch 39/512: \n",
      "Train Loss = 0.19833, Train MSE = 0.80055, Train MAE = 0.70490, Train Acc = 0.74861\n",
      "Val Loss = 0.20273, Val MSE = 0.82217, Val MAE = 0.70837, Val Acc = 0.74457\n"
     ]
    },
    {
     "name": "stderr",
     "output_type": "stream",
     "text": [
      "Epoch 40/512: 100%|█████████████████████████████████████████████████████████████████████| 910/910 [00:44<00:00, 20.27it/s]\n"
     ]
    },
    {
     "name": "stdout",
     "output_type": "stream",
     "text": [
      "Epoch 40/512: \n",
      "Train Loss = 0.19831, Train MSE = 0.80077, Train MAE = 0.70589, Train Acc = 0.74689\n",
      "Val Loss = 0.19372, Val MSE = 0.78423, Val MAE = 0.68722, Val Acc = 0.75406\n"
     ]
    },
    {
     "name": "stderr",
     "output_type": "stream",
     "text": [
      "Epoch 41/512: 100%|█████████████████████████████████████████████████████████████████████| 910/910 [00:44<00:00, 20.27it/s]\n"
     ]
    },
    {
     "name": "stdout",
     "output_type": "stream",
     "text": [
      "Epoch 41/512: \n",
      "Train Loss = 0.19800, Train MSE = 0.79951, Train MAE = 0.70373, Train Acc = 0.74750\n",
      "Val Loss = 0.19569, Val MSE = 0.79182, Val MAE = 0.69733, Val Acc = 0.75584\n"
     ]
    },
    {
     "name": "stderr",
     "output_type": "stream",
     "text": [
      "Epoch 42/512: 100%|█████████████████████████████████████████████████████████████████████| 910/910 [00:45<00:00, 20.16it/s]\n"
     ]
    },
    {
     "name": "stdout",
     "output_type": "stream",
     "text": [
      "Epoch 42/512: \n",
      "Train Loss = 0.19739, Train MSE = 0.79696, Train MAE = 0.70378, Train Acc = 0.74803\n",
      "Val Loss = 0.20087, Val MSE = 0.81489, Val MAE = 0.69941, Val Acc = 0.74567\n"
     ]
    },
    {
     "name": "stderr",
     "output_type": "stream",
     "text": [
      "Epoch 43/512: 100%|█████████████████████████████████████████████████████████████████████| 910/910 [00:44<00:00, 20.37it/s]\n"
     ]
    },
    {
     "name": "stdout",
     "output_type": "stream",
     "text": [
      "Epoch 43/512: \n",
      "Train Loss = 0.19662, Train MSE = 0.79403, Train MAE = 0.70116, Train Acc = 0.74939\n",
      "Val Loss = 0.19868, Val MSE = 0.80549, Val MAE = 0.70234, Val Acc = 0.74993\n"
     ]
    },
    {
     "name": "stderr",
     "output_type": "stream",
     "text": [
      "Epoch 44/512: 100%|█████████████████████████████████████████████████████████████████████| 910/910 [00:44<00:00, 20.27it/s]\n"
     ]
    },
    {
     "name": "stdout",
     "output_type": "stream",
     "text": [
      "Epoch 44/512: \n",
      "Train Loss = 0.19500, Train MSE = 0.78696, Train MAE = 0.69840, Train Acc = 0.75339\n",
      "Val Loss = 0.20473, Val MSE = 0.83023, Val MAE = 0.70620, Val Acc = 0.74787\n"
     ]
    },
    {
     "name": "stderr",
     "output_type": "stream",
     "text": [
      "Epoch 45/512: 100%|█████████████████████████████████████████████████████████████████████| 910/910 [00:44<00:00, 20.35it/s]\n"
     ]
    },
    {
     "name": "stdout",
     "output_type": "stream",
     "text": [
      "Epoch 45/512: \n",
      "Train Loss = 0.19461, Train MSE = 0.78574, Train MAE = 0.69867, Train Acc = 0.75157\n",
      "Val Loss = 0.20332, Val MSE = 0.82516, Val MAE = 0.70516, Val Acc = 0.74663\n"
     ]
    },
    {
     "name": "stderr",
     "output_type": "stream",
     "text": [
      "Epoch 46/512: 100%|█████████████████████████████████████████████████████████████████████| 910/910 [00:44<00:00, 20.33it/s]\n"
     ]
    },
    {
     "name": "stdout",
     "output_type": "stream",
     "text": [
      "Epoch 46/512: \n",
      "Train Loss = 0.19465, Train MSE = 0.78554, Train MAE = 0.69830, Train Acc = 0.75045\n",
      "Val Loss = 0.19418, Val MSE = 0.78720, Val MAE = 0.68893, Val Acc = 0.75529\n"
     ]
    },
    {
     "name": "stderr",
     "output_type": "stream",
     "text": [
      "Epoch 47/512: 100%|█████████████████████████████████████████████████████████████████████| 910/910 [00:44<00:00, 20.30it/s]\n"
     ]
    },
    {
     "name": "stdout",
     "output_type": "stream",
     "text": [
      "Epoch 47/512: \n",
      "Train Loss = 0.19263, Train MSE = 0.77726, Train MAE = 0.69459, Train Acc = 0.75464\n",
      "Val Loss = 0.19935, Val MSE = 0.80908, Val MAE = 0.70138, Val Acc = 0.74801\n"
     ]
    },
    {
     "name": "stderr",
     "output_type": "stream",
     "text": [
      "Epoch 48/512: 100%|█████████████████████████████████████████████████████████████████████| 910/910 [00:45<00:00, 20.13it/s]\n"
     ]
    },
    {
     "name": "stdout",
     "output_type": "stream",
     "text": [
      "Epoch 48/512: \n",
      "Train Loss = 0.19080, Train MSE = 0.76990, Train MAE = 0.69073, Train Acc = 0.75812\n",
      "Val Loss = 0.19052, Val MSE = 0.77162, Val MAE = 0.68018, Val Acc = 0.76175\n"
     ]
    },
    {
     "name": "stderr",
     "output_type": "stream",
     "text": [
      "Epoch 49/512: 100%|█████████████████████████████████████████████████████████████████████| 910/910 [00:45<00:00, 20.21it/s]\n"
     ]
    },
    {
     "name": "stdout",
     "output_type": "stream",
     "text": [
      "Epoch 49/512: \n",
      "Train Loss = 0.19045, Train MSE = 0.76870, Train MAE = 0.68912, Train Acc = 0.75746\n",
      "Val Loss = 0.20766, Val MSE = 0.84313, Val MAE = 0.71045, Val Acc = 0.74402\n"
     ]
    },
    {
     "name": "stderr",
     "output_type": "stream",
     "text": [
      "Epoch 50/512: 100%|█████████████████████████████████████████████████████████████████████| 910/910 [00:45<00:00, 20.19it/s]\n"
     ]
    },
    {
     "name": "stdout",
     "output_type": "stream",
     "text": [
      "Epoch 50/512: \n",
      "Train Loss = 0.19022, Train MSE = 0.76761, Train MAE = 0.68993, Train Acc = 0.75647\n",
      "Val Loss = 0.19119, Val MSE = 0.77422, Val MAE = 0.68347, Val Acc = 0.75722\n"
     ]
    },
    {
     "name": "stderr",
     "output_type": "stream",
     "text": [
      "Epoch 51/512: 100%|█████████████████████████████████████████████████████████████████████| 910/910 [00:44<00:00, 20.27it/s]\n"
     ]
    },
    {
     "name": "stdout",
     "output_type": "stream",
     "text": [
      "Epoch 51/512: \n",
      "Train Loss = 0.18994, Train MSE = 0.76662, Train MAE = 0.68891, Train Acc = 0.75853\n",
      "Val Loss = 0.19891, Val MSE = 0.80652, Val MAE = 0.70174, Val Acc = 0.75062\n"
     ]
    },
    {
     "name": "stderr",
     "output_type": "stream",
     "text": [
      "Epoch 52/512: 100%|█████████████████████████████████████████████████████████████████████| 910/910 [00:44<00:00, 20.33it/s]\n"
     ]
    },
    {
     "name": "stdout",
     "output_type": "stream",
     "text": [
      "Epoch 52/512: \n",
      "Train Loss = 0.18911, Train MSE = 0.76291, Train MAE = 0.68763, Train Acc = 0.75818\n",
      "Val Loss = 0.19290, Val MSE = 0.78215, Val MAE = 0.68659, Val Acc = 0.75708\n"
     ]
    },
    {
     "name": "stderr",
     "output_type": "stream",
     "text": [
      "Epoch 53/512: 100%|█████████████████████████████████████████████████████████████████████| 910/910 [00:44<00:00, 20.28it/s]\n"
     ]
    },
    {
     "name": "stdout",
     "output_type": "stream",
     "text": [
      "Epoch 53/512: \n",
      "Train Loss = 0.18804, Train MSE = 0.75861, Train MAE = 0.68521, Train Acc = 0.75939\n",
      "Val Loss = 0.19244, Val MSE = 0.78041, Val MAE = 0.68296, Val Acc = 0.75942\n"
     ]
    },
    {
     "name": "stderr",
     "output_type": "stream",
     "text": [
      "Epoch 54/512: 100%|█████████████████████████████████████████████████████████████████████| 910/910 [00:44<00:00, 20.24it/s]\n"
     ]
    },
    {
     "name": "stdout",
     "output_type": "stream",
     "text": [
      "Epoch 54/512: \n",
      "Train Loss = 0.18730, Train MSE = 0.75569, Train MAE = 0.68376, Train Acc = 0.75961\n",
      "Val Loss = 0.19089, Val MSE = 0.77347, Val MAE = 0.68265, Val Acc = 0.75845\n"
     ]
    },
    {
     "name": "stderr",
     "output_type": "stream",
     "text": [
      "Epoch 55/512: 100%|█████████████████████████████████████████████████████████████████████| 910/910 [00:44<00:00, 20.34it/s]\n"
     ]
    },
    {
     "name": "stdout",
     "output_type": "stream",
     "text": [
      "Epoch 55/512: \n",
      "Train Loss = 0.18641, Train MSE = 0.75228, Train MAE = 0.68155, Train Acc = 0.76128\n",
      "Val Loss = 0.19213, Val MSE = 0.77940, Val MAE = 0.68720, Val Acc = 0.75323\n"
     ]
    },
    {
     "name": "stderr",
     "output_type": "stream",
     "text": [
      "Epoch 56/512: 100%|█████████████████████████████████████████████████████████████████████| 910/910 [00:44<00:00, 20.30it/s]\n"
     ]
    },
    {
     "name": "stdout",
     "output_type": "stream",
     "text": [
      "Epoch 56/512: \n",
      "Train Loss = 0.18581, Train MSE = 0.74968, Train MAE = 0.67979, Train Acc = 0.76435\n",
      "Val Loss = 0.19108, Val MSE = 0.77422, Val MAE = 0.68109, Val Acc = 0.76698\n"
     ]
    },
    {
     "name": "stderr",
     "output_type": "stream",
     "text": [
      "Epoch 57/512: 100%|█████████████████████████████████████████████████████████████████████| 910/910 [00:44<00:00, 20.27it/s]\n"
     ]
    },
    {
     "name": "stdout",
     "output_type": "stream",
     "text": [
      "Epoch 57/512: \n",
      "Train Loss = 0.18620, Train MSE = 0.75096, Train MAE = 0.68121, Train Acc = 0.76219\n",
      "Val Loss = 0.19512, Val MSE = 0.79151, Val MAE = 0.69412, Val Acc = 0.75598\n"
     ]
    },
    {
     "name": "stderr",
     "output_type": "stream",
     "text": [
      "Epoch 58/512: 100%|█████████████████████████████████████████████████████████████████████| 910/910 [00:44<00:00, 20.27it/s]\n"
     ]
    },
    {
     "name": "stdout",
     "output_type": "stream",
     "text": [
      "Epoch 58/512: \n",
      "Train Loss = 0.18345, Train MSE = 0.73980, Train MAE = 0.67685, Train Acc = 0.76557\n",
      "Val Loss = 0.18925, Val MSE = 0.76726, Val MAE = 0.67896, Val Acc = 0.76244\n"
     ]
    },
    {
     "name": "stderr",
     "output_type": "stream",
     "text": [
      "Epoch 59/512: 100%|█████████████████████████████████████████████████████████████████████| 910/910 [00:44<00:00, 20.31it/s]\n"
     ]
    },
    {
     "name": "stdout",
     "output_type": "stream",
     "text": [
      "Epoch 59/512: \n",
      "Train Loss = 0.18398, Train MSE = 0.74217, Train MAE = 0.67694, Train Acc = 0.76447\n",
      "Val Loss = 0.20086, Val MSE = 0.81585, Val MAE = 0.69564, Val Acc = 0.75089\n"
     ]
    },
    {
     "name": "stderr",
     "output_type": "stream",
     "text": [
      "Epoch 60/512: 100%|█████████████████████████████████████████████████████████████████████| 910/910 [00:45<00:00, 20.20it/s]\n"
     ]
    },
    {
     "name": "stdout",
     "output_type": "stream",
     "text": [
      "Epoch 60/512: \n",
      "Train Loss = 0.18405, Train MSE = 0.74248, Train MAE = 0.67762, Train Acc = 0.76489\n",
      "Val Loss = 0.19504, Val MSE = 0.79040, Val MAE = 0.69505, Val Acc = 0.75474\n"
     ]
    },
    {
     "name": "stderr",
     "output_type": "stream",
     "text": [
      "Epoch 61/512: 100%|█████████████████████████████████████████████████████████████████████| 910/910 [00:44<00:00, 20.38it/s]\n"
     ]
    },
    {
     "name": "stdout",
     "output_type": "stream",
     "text": [
      "Epoch 61/512: \n",
      "Train Loss = 0.18271, Train MSE = 0.73678, Train MAE = 0.67511, Train Acc = 0.76990\n",
      "Val Loss = 0.19304, Val MSE = 0.78293, Val MAE = 0.68418, Val Acc = 0.76024\n"
     ]
    },
    {
     "name": "stderr",
     "output_type": "stream",
     "text": [
      "Epoch 62/512: 100%|█████████████████████████████████████████████████████████████████████| 910/910 [00:44<00:00, 20.32it/s]\n"
     ]
    },
    {
     "name": "stdout",
     "output_type": "stream",
     "text": [
      "Epoch 62/512: \n",
      "Train Loss = 0.18261, Train MSE = 0.73629, Train MAE = 0.67513, Train Acc = 0.76716\n",
      "Val Loss = 0.18434, Val MSE = 0.74680, Val MAE = 0.67086, Val Acc = 0.77165\n"
     ]
    },
    {
     "name": "stderr",
     "output_type": "stream",
     "text": [
      "Epoch 63/512: 100%|█████████████████████████████████████████████████████████████████████| 910/910 [00:44<00:00, 20.32it/s]\n"
     ]
    },
    {
     "name": "stdout",
     "output_type": "stream",
     "text": [
      "Epoch 63/512: \n",
      "Train Loss = 0.18140, Train MSE = 0.73157, Train MAE = 0.67268, Train Acc = 0.77015\n",
      "Val Loss = 0.19029, Val MSE = 0.77161, Val MAE = 0.67858, Val Acc = 0.76684\n"
     ]
    },
    {
     "name": "stderr",
     "output_type": "stream",
     "text": [
      "Epoch 64/512: 100%|█████████████████████████████████████████████████████████████████████| 910/910 [00:44<00:00, 20.33it/s]\n"
     ]
    },
    {
     "name": "stdout",
     "output_type": "stream",
     "text": [
      "Epoch 64/512: \n",
      "Train Loss = 0.18050, Train MSE = 0.72790, Train MAE = 0.67074, Train Acc = 0.77049\n",
      "Val Loss = 0.19209, Val MSE = 0.77960, Val MAE = 0.68130, Val Acc = 0.76478\n"
     ]
    },
    {
     "name": "stderr",
     "output_type": "stream",
     "text": [
      "Epoch 65/512: 100%|█████████████████████████████████████████████████████████████████████| 910/910 [00:45<00:00, 20.19it/s]\n"
     ]
    },
    {
     "name": "stdout",
     "output_type": "stream",
     "text": [
      "Epoch 65/512: \n",
      "Train Loss = 0.18071, Train MSE = 0.72880, Train MAE = 0.67044, Train Acc = 0.77109\n",
      "Val Loss = 0.18417, Val MSE = 0.74653, Val MAE = 0.66807, Val Acc = 0.77248\n"
     ]
    },
    {
     "name": "stderr",
     "output_type": "stream",
     "text": [
      "Epoch 66/512: 100%|█████████████████████████████████████████████████████████████████████| 910/910 [00:44<00:00, 20.26it/s]\n"
     ]
    },
    {
     "name": "stdout",
     "output_type": "stream",
     "text": [
      "Epoch 66/512: \n",
      "Train Loss = 0.17946, Train MSE = 0.72378, Train MAE = 0.66759, Train Acc = 0.77384\n",
      "Val Loss = 0.18853, Val MSE = 0.76493, Val MAE = 0.67707, Val Acc = 0.76657\n"
     ]
    },
    {
     "name": "stderr",
     "output_type": "stream",
     "text": [
      "Epoch 67/512: 100%|█████████████████████████████████████████████████████████████████████| 910/910 [00:45<00:00, 20.22it/s]\n"
     ]
    },
    {
     "name": "stdout",
     "output_type": "stream",
     "text": [
      "Epoch 67/512: \n",
      "Train Loss = 0.17963, Train MSE = 0.72424, Train MAE = 0.66626, Train Acc = 0.77353\n",
      "Val Loss = 0.19097, Val MSE = 0.77490, Val MAE = 0.67920, Val Acc = 0.76244\n"
     ]
    },
    {
     "name": "stderr",
     "output_type": "stream",
     "text": [
      "Epoch 68/512: 100%|█████████████████████████████████████████████████████████████████████| 910/910 [00:44<00:00, 20.31it/s]\n"
     ]
    },
    {
     "name": "stdout",
     "output_type": "stream",
     "text": [
      "Epoch 68/512: \n",
      "Train Loss = 0.17894, Train MSE = 0.72148, Train MAE = 0.66771, Train Acc = 0.77197\n",
      "Val Loss = 0.18263, Val MSE = 0.73957, Val MAE = 0.66393, Val Acc = 0.77165\n"
     ]
    },
    {
     "name": "stderr",
     "output_type": "stream",
     "text": [
      "Epoch 69/512: 100%|█████████████████████████████████████████████████████████████████████| 910/910 [00:45<00:00, 20.20it/s]\n"
     ]
    },
    {
     "name": "stdout",
     "output_type": "stream",
     "text": [
      "Epoch 69/512: \n",
      "Train Loss = 0.17857, Train MSE = 0.71981, Train MAE = 0.66684, Train Acc = 0.77233\n",
      "Val Loss = 0.18138, Val MSE = 0.73375, Val MAE = 0.66228, Val Acc = 0.77413\n"
     ]
    },
    {
     "name": "stderr",
     "output_type": "stream",
     "text": [
      "Epoch 70/512: 100%|█████████████████████████████████████████████████████████████████████| 910/910 [00:44<00:00, 20.34it/s]\n"
     ]
    },
    {
     "name": "stdout",
     "output_type": "stream",
     "text": [
      "Epoch 70/512: \n",
      "Train Loss = 0.17823, Train MSE = 0.71830, Train MAE = 0.66574, Train Acc = 0.77200\n",
      "Val Loss = 0.18431, Val MSE = 0.74669, Val MAE = 0.66966, Val Acc = 0.77083\n"
     ]
    },
    {
     "name": "stderr",
     "output_type": "stream",
     "text": [
      "Epoch 71/512: 100%|█████████████████████████████████████████████████████████████████████| 910/910 [00:44<00:00, 20.27it/s]\n"
     ]
    },
    {
     "name": "stdout",
     "output_type": "stream",
     "text": [
      "Epoch 71/512: \n",
      "Train Loss = 0.17746, Train MSE = 0.71541, Train MAE = 0.66410, Train Acc = 0.77489\n",
      "Val Loss = 0.19307, Val MSE = 0.78335, Val MAE = 0.68902, Val Acc = 0.75543\n"
     ]
    },
    {
     "name": "stderr",
     "output_type": "stream",
     "text": [
      "Epoch 72/512: 100%|█████████████████████████████████████████████████████████████████████| 910/910 [00:44<00:00, 20.23it/s]\n"
     ]
    },
    {
     "name": "stdout",
     "output_type": "stream",
     "text": [
      "Epoch 72/512: \n",
      "Train Loss = 0.17702, Train MSE = 0.71355, Train MAE = 0.66288, Train Acc = 0.77449\n",
      "Val Loss = 0.19445, Val MSE = 0.78904, Val MAE = 0.69242, Val Acc = 0.75694\n"
     ]
    },
    {
     "name": "stderr",
     "output_type": "stream",
     "text": [
      "Epoch 73/512: 100%|█████████████████████████████████████████████████████████████████████| 910/910 [00:44<00:00, 20.36it/s]\n"
     ]
    },
    {
     "name": "stdout",
     "output_type": "stream",
     "text": [
      "Epoch 73/512: \n",
      "Train Loss = 0.17724, Train MSE = 0.71481, Train MAE = 0.66308, Train Acc = 0.77362\n",
      "Val Loss = 0.20111, Val MSE = 0.81697, Val MAE = 0.70641, Val Acc = 0.74801\n"
     ]
    },
    {
     "name": "stderr",
     "output_type": "stream",
     "text": [
      "Epoch 74/512: 100%|█████████████████████████████████████████████████████████████████████| 910/910 [00:45<00:00, 20.20it/s]\n"
     ]
    },
    {
     "name": "stdout",
     "output_type": "stream",
     "text": [
      "Epoch 74/512: \n",
      "Train Loss = 0.17569, Train MSE = 0.70845, Train MAE = 0.65989, Train Acc = 0.77858\n",
      "Val Loss = 0.18095, Val MSE = 0.73372, Val MAE = 0.66064, Val Acc = 0.77234\n"
     ]
    },
    {
     "name": "stderr",
     "output_type": "stream",
     "text": [
      "Epoch 75/512: 100%|█████████████████████████████████████████████████████████████████████| 910/910 [00:44<00:00, 20.25it/s]\n"
     ]
    },
    {
     "name": "stdout",
     "output_type": "stream",
     "text": [
      "Epoch 75/512: \n",
      "Train Loss = 0.17556, Train MSE = 0.70758, Train MAE = 0.65918, Train Acc = 0.77784\n",
      "Val Loss = 0.18263, Val MSE = 0.74021, Val MAE = 0.66202, Val Acc = 0.77701\n"
     ]
    },
    {
     "name": "stderr",
     "output_type": "stream",
     "text": [
      "Epoch 76/512: 100%|█████████████████████████████████████████████████████████████████████| 910/910 [00:44<00:00, 20.25it/s]\n"
     ]
    },
    {
     "name": "stdout",
     "output_type": "stream",
     "text": [
      "Epoch 76/512: \n",
      "Train Loss = 0.17645, Train MSE = 0.71162, Train MAE = 0.66230, Train Acc = 0.77585\n",
      "Val Loss = 0.18062, Val MSE = 0.73133, Val MAE = 0.66084, Val Acc = 0.77536\n"
     ]
    },
    {
     "name": "stderr",
     "output_type": "stream",
     "text": [
      "Epoch 77/512: 100%|█████████████████████████████████████████████████████████████████████| 910/910 [00:44<00:00, 20.28it/s]\n"
     ]
    },
    {
     "name": "stdout",
     "output_type": "stream",
     "text": [
      "Epoch 77/512: \n",
      "Train Loss = 0.17390, Train MSE = 0.70078, Train MAE = 0.65698, Train Acc = 0.77960\n",
      "Val Loss = 0.18410, Val MSE = 0.74627, Val MAE = 0.67000, Val Acc = 0.76863\n"
     ]
    },
    {
     "name": "stderr",
     "output_type": "stream",
     "text": [
      "Epoch 78/512: 100%|█████████████████████████████████████████████████████████████████████| 910/910 [00:44<00:00, 20.25it/s]\n"
     ]
    },
    {
     "name": "stdout",
     "output_type": "stream",
     "text": [
      "Epoch 78/512: \n",
      "Train Loss = 0.17453, Train MSE = 0.70367, Train MAE = 0.65758, Train Acc = 0.78008\n",
      "Val Loss = 0.18420, Val MSE = 0.74612, Val MAE = 0.66745, Val Acc = 0.77124\n"
     ]
    },
    {
     "name": "stderr",
     "output_type": "stream",
     "text": [
      "Epoch 79/512: 100%|█████████████████████████████████████████████████████████████████████| 910/910 [00:44<00:00, 20.28it/s]\n"
     ]
    },
    {
     "name": "stdout",
     "output_type": "stream",
     "text": [
      "Epoch 79/512: \n",
      "Train Loss = 0.17459, Train MSE = 0.70382, Train MAE = 0.65803, Train Acc = 0.77723\n",
      "Val Loss = 0.18044, Val MSE = 0.73093, Val MAE = 0.65909, Val Acc = 0.77921\n"
     ]
    },
    {
     "name": "stderr",
     "output_type": "stream",
     "text": [
      "Epoch 80/512: 100%|█████████████████████████████████████████████████████████████████████| 910/910 [00:45<00:00, 20.19it/s]\n"
     ]
    },
    {
     "name": "stdout",
     "output_type": "stream",
     "text": [
      "Epoch 80/512: \n",
      "Train Loss = 0.17355, Train MSE = 0.69957, Train MAE = 0.65613, Train Acc = 0.78242\n",
      "Val Loss = 0.18448, Val MSE = 0.74702, Val MAE = 0.67146, Val Acc = 0.76767\n"
     ]
    },
    {
     "name": "stderr",
     "output_type": "stream",
     "text": [
      "Epoch 81/512: 100%|█████████████████████████████████████████████████████████████████████| 910/910 [00:44<00:00, 20.33it/s]\n"
     ]
    },
    {
     "name": "stdout",
     "output_type": "stream",
     "text": [
      "Epoch 81/512: \n",
      "Train Loss = 0.17325, Train MSE = 0.69823, Train MAE = 0.65460, Train Acc = 0.78041\n",
      "Val Loss = 0.17986, Val MSE = 0.72852, Val MAE = 0.65973, Val Acc = 0.77454\n"
     ]
    },
    {
     "name": "stderr",
     "output_type": "stream",
     "text": [
      "Epoch 82/512: 100%|█████████████████████████████████████████████████████████████████████| 910/910 [00:44<00:00, 20.30it/s]\n"
     ]
    },
    {
     "name": "stdout",
     "output_type": "stream",
     "text": [
      "Epoch 82/512: \n",
      "Train Loss = 0.17183, Train MSE = 0.69223, Train MAE = 0.65237, Train Acc = 0.78181\n",
      "Val Loss = 0.17684, Val MSE = 0.71625, Val MAE = 0.65209, Val Acc = 0.78361\n"
     ]
    },
    {
     "name": "stderr",
     "output_type": "stream",
     "text": [
      "Epoch 83/512: 100%|█████████████████████████████████████████████████████████████████████| 910/910 [00:44<00:00, 20.22it/s]\n"
     ]
    },
    {
     "name": "stdout",
     "output_type": "stream",
     "text": [
      "Epoch 83/512: \n",
      "Train Loss = 0.17240, Train MSE = 0.69488, Train MAE = 0.65323, Train Acc = 0.78159\n",
      "Val Loss = 0.18022, Val MSE = 0.72952, Val MAE = 0.66320, Val Acc = 0.77316\n"
     ]
    },
    {
     "name": "stderr",
     "output_type": "stream",
     "text": [
      "Epoch 84/512: 100%|█████████████████████████████████████████████████████████████████████| 910/910 [00:44<00:00, 20.24it/s]\n"
     ]
    },
    {
     "name": "stdout",
     "output_type": "stream",
     "text": [
      "Epoch 84/512: \n",
      "Train Loss = 0.17131, Train MSE = 0.69044, Train MAE = 0.65260, Train Acc = 0.78465\n",
      "Val Loss = 0.17903, Val MSE = 0.72592, Val MAE = 0.65871, Val Acc = 0.77619\n"
     ]
    },
    {
     "name": "stderr",
     "output_type": "stream",
     "text": [
      "Epoch 85/512: 100%|█████████████████████████████████████████████████████████████████████| 910/910 [00:45<00:00, 20.15it/s]\n"
     ]
    },
    {
     "name": "stdout",
     "output_type": "stream",
     "text": [
      "Epoch 85/512: \n",
      "Train Loss = 0.17068, Train MSE = 0.68767, Train MAE = 0.65063, Train Acc = 0.78353\n",
      "Val Loss = 0.18932, Val MSE = 0.76760, Val MAE = 0.68511, Val Acc = 0.76065\n"
     ]
    },
    {
     "name": "stderr",
     "output_type": "stream",
     "text": [
      "Epoch 86/512: 100%|█████████████████████████████████████████████████████████████████████| 910/910 [00:44<00:00, 20.40it/s]\n"
     ]
    },
    {
     "name": "stdout",
     "output_type": "stream",
     "text": [
      "Epoch 86/512: \n",
      "Train Loss = 0.17028, Train MSE = 0.68605, Train MAE = 0.64977, Train Acc = 0.78505\n",
      "Val Loss = 0.18484, Val MSE = 0.74893, Val MAE = 0.66940, Val Acc = 0.77674\n"
     ]
    },
    {
     "name": "stderr",
     "output_type": "stream",
     "text": [
      "Epoch 87/512: 100%|█████████████████████████████████████████████████████████████████████| 910/910 [00:45<00:00, 20.21it/s]\n"
     ]
    },
    {
     "name": "stdout",
     "output_type": "stream",
     "text": [
      "Epoch 87/512: \n",
      "Train Loss = 0.17042, Train MSE = 0.68647, Train MAE = 0.65018, Train Acc = 0.78441\n",
      "Val Loss = 0.17475, Val MSE = 0.70728, Val MAE = 0.64862, Val Acc = 0.78664\n"
     ]
    },
    {
     "name": "stderr",
     "output_type": "stream",
     "text": [
      "Epoch 88/512: 100%|█████████████████████████████████████████████████████████████████████| 910/910 [00:45<00:00, 20.18it/s]\n"
     ]
    },
    {
     "name": "stdout",
     "output_type": "stream",
     "text": [
      "Epoch 88/512: \n",
      "Train Loss = 0.16904, Train MSE = 0.68121, Train MAE = 0.64743, Train Acc = 0.78604\n",
      "Val Loss = 0.17590, Val MSE = 0.71241, Val MAE = 0.64857, Val Acc = 0.78842\n"
     ]
    },
    {
     "name": "stderr",
     "output_type": "stream",
     "text": [
      "Epoch 89/512: 100%|█████████████████████████████████████████████████████████████████████| 910/910 [00:44<00:00, 20.29it/s]\n"
     ]
    },
    {
     "name": "stdout",
     "output_type": "stream",
     "text": [
      "Epoch 89/512: \n",
      "Train Loss = 0.16865, Train MSE = 0.67946, Train MAE = 0.64586, Train Acc = 0.78577\n",
      "Val Loss = 0.17566, Val MSE = 0.71051, Val MAE = 0.65440, Val Acc = 0.78045\n"
     ]
    },
    {
     "name": "stderr",
     "output_type": "stream",
     "text": [
      "Epoch 90/512: 100%|█████████████████████████████████████████████████████████████████████| 910/910 [00:45<00:00, 20.21it/s]\n"
     ]
    },
    {
     "name": "stdout",
     "output_type": "stream",
     "text": [
      "Epoch 90/512: \n",
      "Train Loss = 0.16876, Train MSE = 0.68020, Train MAE = 0.64733, Train Acc = 0.78594\n",
      "Val Loss = 0.18942, Val MSE = 0.76864, Val MAE = 0.68321, Val Acc = 0.76079\n"
     ]
    },
    {
     "name": "stderr",
     "output_type": "stream",
     "text": [
      "Epoch 91/512: 100%|█████████████████████████████████████████████████████████████████████| 910/910 [00:44<00:00, 20.24it/s]\n"
     ]
    },
    {
     "name": "stdout",
     "output_type": "stream",
     "text": [
      "Epoch 91/512: \n",
      "Train Loss = 0.16867, Train MSE = 0.67953, Train MAE = 0.64641, Train Acc = 0.78534\n",
      "Val Loss = 0.18860, Val MSE = 0.76537, Val MAE = 0.67843, Val Acc = 0.76217\n"
     ]
    },
    {
     "name": "stderr",
     "output_type": "stream",
     "text": [
      "Epoch 92/512: 100%|█████████████████████████████████████████████████████████████████████| 910/910 [00:44<00:00, 20.34it/s]\n"
     ]
    },
    {
     "name": "stdout",
     "output_type": "stream",
     "text": [
      "Epoch 92/512: \n",
      "Train Loss = 0.16856, Train MSE = 0.67891, Train MAE = 0.64577, Train Acc = 0.78623\n",
      "Val Loss = 0.17955, Val MSE = 0.72787, Val MAE = 0.65918, Val Acc = 0.78196\n"
     ]
    },
    {
     "name": "stderr",
     "output_type": "stream",
     "text": [
      "Epoch 93/512: 100%|█████████████████████████████████████████████████████████████████████| 910/910 [00:44<00:00, 20.23it/s]\n"
     ]
    },
    {
     "name": "stdout",
     "output_type": "stream",
     "text": [
      "Epoch 93/512: \n",
      "Train Loss = 0.16784, Train MSE = 0.67613, Train MAE = 0.64553, Train Acc = 0.78881\n",
      "Val Loss = 0.17004, Val MSE = 0.68723, Val MAE = 0.63685, Val Acc = 0.79076\n"
     ]
    },
    {
     "name": "stderr",
     "output_type": "stream",
     "text": [
      "Epoch 94/512: 100%|█████████████████████████████████████████████████████████████████████| 910/910 [00:44<00:00, 20.26it/s]\n"
     ]
    },
    {
     "name": "stdout",
     "output_type": "stream",
     "text": [
      "Epoch 94/512: \n",
      "Train Loss = 0.16730, Train MSE = 0.67418, Train MAE = 0.64342, Train Acc = 0.78817\n",
      "Val Loss = 0.17769, Val MSE = 0.72112, Val MAE = 0.65263, Val Acc = 0.78609\n"
     ]
    },
    {
     "name": "stderr",
     "output_type": "stream",
     "text": [
      "Epoch 95/512: 100%|█████████████████████████████████████████████████████████████████████| 910/910 [00:44<00:00, 20.31it/s]\n"
     ]
    },
    {
     "name": "stdout",
     "output_type": "stream",
     "text": [
      "Epoch 95/512: \n",
      "Train Loss = 0.16687, Train MSE = 0.67218, Train MAE = 0.64264, Train Acc = 0.78889\n",
      "Val Loss = 0.17967, Val MSE = 0.72869, Val MAE = 0.65796, Val Acc = 0.77688\n"
     ]
    },
    {
     "name": "stderr",
     "output_type": "stream",
     "text": [
      "Epoch 96/512: 100%|█████████████████████████████████████████████████████████████████████| 910/910 [00:44<00:00, 20.29it/s]\n"
     ]
    },
    {
     "name": "stdout",
     "output_type": "stream",
     "text": [
      "Epoch 96/512: \n",
      "Train Loss = 0.16671, Train MSE = 0.67158, Train MAE = 0.64158, Train Acc = 0.78943\n",
      "Val Loss = 0.18365, Val MSE = 0.74473, Val MAE = 0.66465, Val Acc = 0.77371\n"
     ]
    },
    {
     "name": "stderr",
     "output_type": "stream",
     "text": [
      "Epoch 97/512: 100%|█████████████████████████████████████████████████████████████████████| 910/910 [00:44<00:00, 20.27it/s]\n"
     ]
    },
    {
     "name": "stdout",
     "output_type": "stream",
     "text": [
      "Epoch 97/512: \n",
      "Train Loss = 0.16652, Train MSE = 0.67085, Train MAE = 0.64134, Train Acc = 0.79032\n",
      "Val Loss = 0.17759, Val MSE = 0.71965, Val MAE = 0.65281, Val Acc = 0.78045\n"
     ]
    },
    {
     "name": "stderr",
     "output_type": "stream",
     "text": [
      "Epoch 98/512: 100%|█████████████████████████████████████████████████████████████████████| 910/910 [00:44<00:00, 20.31it/s]\n"
     ]
    },
    {
     "name": "stdout",
     "output_type": "stream",
     "text": [
      "Epoch 98/512: \n",
      "Train Loss = 0.16676, Train MSE = 0.67209, Train MAE = 0.64156, Train Acc = 0.78967\n",
      "Val Loss = 0.18107, Val MSE = 0.73336, Val MAE = 0.66087, Val Acc = 0.77399\n"
     ]
    },
    {
     "name": "stderr",
     "output_type": "stream",
     "text": [
      "Epoch 99/512: 100%|█████████████████████████████████████████████████████████████████████| 910/910 [00:44<00:00, 20.35it/s]\n"
     ]
    },
    {
     "name": "stdout",
     "output_type": "stream",
     "text": [
      "Epoch 99/512: \n",
      "Train Loss = 0.16543, Train MSE = 0.66642, Train MAE = 0.63923, Train Acc = 0.79104\n",
      "Val Loss = 0.18014, Val MSE = 0.73057, Val MAE = 0.65449, Val Acc = 0.78320\n"
     ]
    },
    {
     "name": "stderr",
     "output_type": "stream",
     "text": [
      "Epoch 100/512: 100%|████████████████████████████████████████████████████████████████████| 910/910 [00:45<00:00, 20.21it/s]\n"
     ]
    },
    {
     "name": "stdout",
     "output_type": "stream",
     "text": [
      "Epoch 100/512: \n",
      "Train Loss = 0.16508, Train MSE = 0.66492, Train MAE = 0.63812, Train Acc = 0.79121\n",
      "Val Loss = 0.17842, Val MSE = 0.72363, Val MAE = 0.65646, Val Acc = 0.78183\n"
     ]
    },
    {
     "name": "stderr",
     "output_type": "stream",
     "text": [
      "Epoch 101/512: 100%|████████████████████████████████████████████████████████████████████| 910/910 [00:44<00:00, 20.24it/s]\n"
     ]
    },
    {
     "name": "stdout",
     "output_type": "stream",
     "text": [
      "Epoch 101/512: \n",
      "Train Loss = 0.16585, Train MSE = 0.66820, Train MAE = 0.63995, Train Acc = 0.79094\n",
      "Val Loss = 0.17296, Val MSE = 0.70086, Val MAE = 0.64220, Val Acc = 0.78719\n"
     ]
    },
    {
     "name": "stderr",
     "output_type": "stream",
     "text": [
      "Epoch 102/512: 100%|████████████████████████████████████████████████████████████████████| 910/910 [00:44<00:00, 20.26it/s]\n"
     ]
    },
    {
     "name": "stdout",
     "output_type": "stream",
     "text": [
      "Epoch 102/512: \n",
      "Train Loss = 0.16499, Train MSE = 0.66424, Train MAE = 0.63877, Train Acc = 0.79158\n",
      "Val Loss = 0.17948, Val MSE = 0.72794, Val MAE = 0.65970, Val Acc = 0.77949\n"
     ]
    },
    {
     "name": "stderr",
     "output_type": "stream",
     "text": [
      "Epoch 103/512: 100%|████████████████████████████████████████████████████████████████████| 910/910 [00:44<00:00, 20.25it/s]\n"
     ]
    },
    {
     "name": "stdout",
     "output_type": "stream",
     "text": [
      "Epoch 103/512: \n",
      "Train Loss = 0.16360, Train MSE = 0.65882, Train MAE = 0.63426, Train Acc = 0.79417\n",
      "Val Loss = 0.17691, Val MSE = 0.71646, Val MAE = 0.65438, Val Acc = 0.78265\n"
     ]
    },
    {
     "name": "stderr",
     "output_type": "stream",
     "text": [
      "Epoch 104/512: 100%|████████████████████████████████████████████████████████████████████| 910/910 [00:44<00:00, 20.30it/s]\n"
     ]
    },
    {
     "name": "stdout",
     "output_type": "stream",
     "text": [
      "Epoch 104/512: \n",
      "Train Loss = 0.16448, Train MSE = 0.66252, Train MAE = 0.63759, Train Acc = 0.79304\n",
      "Val Loss = 0.17900, Val MSE = 0.72557, Val MAE = 0.65118, Val Acc = 0.78554\n"
     ]
    },
    {
     "name": "stderr",
     "output_type": "stream",
     "text": [
      "Epoch 105/512: 100%|████████████████████████████████████████████████████████████████████| 910/910 [00:44<00:00, 20.29it/s]\n"
     ]
    },
    {
     "name": "stdout",
     "output_type": "stream",
     "text": [
      "Epoch 105/512: \n",
      "Train Loss = 0.16374, Train MSE = 0.65948, Train MAE = 0.63569, Train Acc = 0.79273\n",
      "Val Loss = 0.17370, Val MSE = 0.70305, Val MAE = 0.64947, Val Acc = 0.78513\n"
     ]
    },
    {
     "name": "stderr",
     "output_type": "stream",
     "text": [
      "Epoch 106/512: 100%|████████████████████████████████████████████████████████████████████| 910/910 [00:44<00:00, 20.27it/s]\n"
     ]
    },
    {
     "name": "stdout",
     "output_type": "stream",
     "text": [
      "Epoch 106/512: \n",
      "Train Loss = 0.16435, Train MSE = 0.66223, Train MAE = 0.63722, Train Acc = 0.79226\n",
      "Val Loss = 0.17312, Val MSE = 0.70030, Val MAE = 0.64534, Val Acc = 0.78966\n"
     ]
    },
    {
     "name": "stderr",
     "output_type": "stream",
     "text": [
      "Epoch 107/512: 100%|████████████████████████████████████████████████████████████████████| 910/910 [00:44<00:00, 20.36it/s]\n"
     ]
    },
    {
     "name": "stdout",
     "output_type": "stream",
     "text": [
      "Epoch 107/512: \n",
      "Train Loss = 0.16221, Train MSE = 0.65323, Train MAE = 0.63321, Train Acc = 0.79560\n",
      "Val Loss = 0.18429, Val MSE = 0.74755, Val MAE = 0.66716, Val Acc = 0.77674\n"
     ]
    },
    {
     "name": "stderr",
     "output_type": "stream",
     "text": [
      "Epoch 108/512: 100%|████████████████████████████████████████████████████████████████████| 910/910 [00:45<00:00, 20.20it/s]\n"
     ]
    },
    {
     "name": "stdout",
     "output_type": "stream",
     "text": [
      "Epoch 108/512: \n",
      "Train Loss = 0.16277, Train MSE = 0.65557, Train MAE = 0.63410, Train Acc = 0.79601\n",
      "Val Loss = 0.18002, Val MSE = 0.72931, Val MAE = 0.65533, Val Acc = 0.77976\n"
     ]
    },
    {
     "name": "stderr",
     "output_type": "stream",
     "text": [
      "Epoch 109/512: 100%|████████████████████████████████████████████████████████████████████| 910/910 [00:45<00:00, 20.22it/s]\n"
     ]
    },
    {
     "name": "stdout",
     "output_type": "stream",
     "text": [
      "Epoch 109/512: \n",
      "Train Loss = 0.16215, Train MSE = 0.65317, Train MAE = 0.63314, Train Acc = 0.79646\n",
      "Val Loss = 0.17495, Val MSE = 0.70884, Val MAE = 0.64785, Val Acc = 0.78952\n"
     ]
    },
    {
     "name": "stderr",
     "output_type": "stream",
     "text": [
      "Epoch 110/512: 100%|████████████████████████████████████████████████████████████████████| 910/910 [00:44<00:00, 20.30it/s]\n"
     ]
    },
    {
     "name": "stdout",
     "output_type": "stream",
     "text": [
      "Epoch 110/512: \n",
      "Train Loss = 0.16210, Train MSE = 0.65275, Train MAE = 0.63217, Train Acc = 0.79646\n",
      "Val Loss = 0.17746, Val MSE = 0.71975, Val MAE = 0.65175, Val Acc = 0.78774\n"
     ]
    },
    {
     "name": "stderr",
     "output_type": "stream",
     "text": [
      "Epoch 111/512: 100%|████████████████████████████████████████████████████████████████████| 910/910 [00:44<00:00, 20.40it/s]\n"
     ]
    },
    {
     "name": "stdout",
     "output_type": "stream",
     "text": [
      "Epoch 111/512: \n",
      "Train Loss = 0.16251, Train MSE = 0.65476, Train MAE = 0.63288, Train Acc = 0.79706\n",
      "Val Loss = 0.17897, Val MSE = 0.72589, Val MAE = 0.66148, Val Acc = 0.77688\n"
     ]
    },
    {
     "name": "stderr",
     "output_type": "stream",
     "text": [
      "Epoch 112/512: 100%|████████████████████████████████████████████████████████████████████| 910/910 [00:44<00:00, 20.28it/s]\n"
     ]
    },
    {
     "name": "stdout",
     "output_type": "stream",
     "text": [
      "Epoch 112/512: \n",
      "Train Loss = 0.16266, Train MSE = 0.65507, Train MAE = 0.63262, Train Acc = 0.79405\n",
      "Val Loss = 0.17252, Val MSE = 0.69908, Val MAE = 0.64532, Val Acc = 0.79337\n"
     ]
    },
    {
     "name": "stderr",
     "output_type": "stream",
     "text": [
      "Epoch 113/512: 100%|████████████████████████████████████████████████████████████████████| 910/910 [00:44<00:00, 20.31it/s]\n"
     ]
    },
    {
     "name": "stdout",
     "output_type": "stream",
     "text": [
      "Epoch 113/512: \n",
      "Train Loss = 0.16227, Train MSE = 0.65379, Train MAE = 0.63231, Train Acc = 0.79525\n",
      "Val Loss = 0.16793, Val MSE = 0.67965, Val MAE = 0.63220, Val Acc = 0.79626\n"
     ]
    },
    {
     "name": "stderr",
     "output_type": "stream",
     "text": [
      "Epoch 114/512: 100%|████████████████████████████████████████████████████████████████████| 910/910 [00:44<00:00, 20.37it/s]\n"
     ]
    },
    {
     "name": "stdout",
     "output_type": "stream",
     "text": [
      "Epoch 114/512: \n",
      "Train Loss = 0.16050, Train MSE = 0.64621, Train MAE = 0.62989, Train Acc = 0.79699\n",
      "Val Loss = 0.16975, Val MSE = 0.68695, Val MAE = 0.63393, Val Acc = 0.79530\n"
     ]
    },
    {
     "name": "stderr",
     "output_type": "stream",
     "text": [
      "Epoch 115/512: 100%|████████████████████████████████████████████████████████████████████| 910/910 [00:45<00:00, 20.22it/s]\n"
     ]
    },
    {
     "name": "stdout",
     "output_type": "stream",
     "text": [
      "Epoch 115/512: \n",
      "Train Loss = 0.16099, Train MSE = 0.64848, Train MAE = 0.62919, Train Acc = 0.79867\n",
      "Val Loss = 0.18433, Val MSE = 0.74816, Val MAE = 0.66575, Val Acc = 0.77550\n"
     ]
    },
    {
     "name": "stderr",
     "output_type": "stream",
     "text": [
      "Epoch 116/512: 100%|████████████████████████████████████████████████████████████████████| 910/910 [00:45<00:00, 20.17it/s]\n"
     ]
    },
    {
     "name": "stdout",
     "output_type": "stream",
     "text": [
      "Epoch 116/512: \n",
      "Train Loss = 0.16046, Train MSE = 0.64646, Train MAE = 0.62911, Train Acc = 0.79795\n",
      "Val Loss = 0.17524, Val MSE = 0.71003, Val MAE = 0.64633, Val Acc = 0.78732\n"
     ]
    },
    {
     "name": "stderr",
     "output_type": "stream",
     "text": [
      "Epoch 117/512: 100%|████████████████████████████████████████████████████████████████████| 910/910 [00:45<00:00, 20.19it/s]\n"
     ]
    },
    {
     "name": "stdout",
     "output_type": "stream",
     "text": [
      "Epoch 117/512: \n",
      "Train Loss = 0.16065, Train MSE = 0.64716, Train MAE = 0.62884, Train Acc = 0.79958\n",
      "Val Loss = 0.16637, Val MSE = 0.67353, Val MAE = 0.62976, Val Acc = 0.79571\n"
     ]
    },
    {
     "name": "stderr",
     "output_type": "stream",
     "text": [
      "Epoch 118/512: 100%|████████████████████████████████████████████████████████████████████| 910/910 [00:44<00:00, 20.30it/s]\n"
     ]
    },
    {
     "name": "stdout",
     "output_type": "stream",
     "text": [
      "Epoch 118/512: \n",
      "Train Loss = 0.16001, Train MSE = 0.64473, Train MAE = 0.62711, Train Acc = 0.79988\n",
      "Val Loss = 0.17074, Val MSE = 0.69134, Val MAE = 0.63930, Val Acc = 0.79241\n"
     ]
    },
    {
     "name": "stderr",
     "output_type": "stream",
     "text": [
      "Epoch 119/512: 100%|████████████████████████████████████████████████████████████████████| 910/910 [00:44<00:00, 20.34it/s]\n"
     ]
    },
    {
     "name": "stdout",
     "output_type": "stream",
     "text": [
      "Epoch 119/512: \n",
      "Train Loss = 0.16022, Train MSE = 0.64503, Train MAE = 0.62951, Train Acc = 0.79831\n",
      "Val Loss = 0.17114, Val MSE = 0.69331, Val MAE = 0.64251, Val Acc = 0.79090\n"
     ]
    },
    {
     "name": "stderr",
     "output_type": "stream",
     "text": [
      "Epoch 120/512: 100%|████████████████████████████████████████████████████████████████████| 910/910 [00:44<00:00, 20.34it/s]\n"
     ]
    },
    {
     "name": "stdout",
     "output_type": "stream",
     "text": [
      "Epoch 120/512: \n",
      "Train Loss = 0.15924, Train MSE = 0.64090, Train MAE = 0.62658, Train Acc = 0.79945\n",
      "Val Loss = 0.17498, Val MSE = 0.70942, Val MAE = 0.64735, Val Acc = 0.78870\n"
     ]
    },
    {
     "name": "stderr",
     "output_type": "stream",
     "text": [
      "Epoch 121/512: 100%|████████████████████████████████████████████████████████████████████| 910/910 [00:44<00:00, 20.26it/s]\n"
     ]
    },
    {
     "name": "stdout",
     "output_type": "stream",
     "text": [
      "Epoch 121/512: \n",
      "Train Loss = 0.15934, Train MSE = 0.64169, Train MAE = 0.62660, Train Acc = 0.80007\n",
      "Val Loss = 0.16869, Val MSE = 0.68286, Val MAE = 0.63524, Val Acc = 0.79599\n"
     ]
    },
    {
     "name": "stderr",
     "output_type": "stream",
     "text": [
      "Epoch 122/512: 100%|████████████████████████████████████████████████████████████████████| 910/910 [00:44<00:00, 20.25it/s]\n"
     ]
    },
    {
     "name": "stdout",
     "output_type": "stream",
     "text": [
      "Epoch 122/512: \n",
      "Train Loss = 0.15967, Train MSE = 0.64292, Train MAE = 0.62708, Train Acc = 0.79847\n",
      "Val Loss = 0.17226, Val MSE = 0.69766, Val MAE = 0.64040, Val Acc = 0.79145\n"
     ]
    },
    {
     "name": "stderr",
     "output_type": "stream",
     "text": [
      "Epoch 123/512: 100%|████████████████████████████████████████████████████████████████████| 910/910 [00:44<00:00, 20.31it/s]\n"
     ]
    },
    {
     "name": "stdout",
     "output_type": "stream",
     "text": [
      "Epoch 123/512: \n",
      "Train Loss = 0.15955, Train MSE = 0.64257, Train MAE = 0.62714, Train Acc = 0.79869\n",
      "Val Loss = 0.16870, Val MSE = 0.68197, Val MAE = 0.63469, Val Acc = 0.79750\n"
     ]
    },
    {
     "name": "stderr",
     "output_type": "stream",
     "text": [
      "Epoch 124/512: 100%|████████████████████████████████████████████████████████████████████| 910/910 [00:44<00:00, 20.35it/s]\n"
     ]
    },
    {
     "name": "stdout",
     "output_type": "stream",
     "text": [
      "Epoch 124/512: \n",
      "Train Loss = 0.15848, Train MSE = 0.63812, Train MAE = 0.62539, Train Acc = 0.80189\n",
      "Val Loss = 0.17683, Val MSE = 0.71756, Val MAE = 0.64887, Val Acc = 0.78884\n"
     ]
    },
    {
     "name": "stderr",
     "output_type": "stream",
     "text": [
      "Epoch 125/512: 100%|████████████████████████████████████████████████████████████████████| 910/910 [00:45<00:00, 20.22it/s]\n"
     ]
    },
    {
     "name": "stdout",
     "output_type": "stream",
     "text": [
      "Epoch 125/512: \n",
      "Train Loss = 0.15829, Train MSE = 0.63717, Train MAE = 0.62429, Train Acc = 0.80142\n",
      "Val Loss = 0.18012, Val MSE = 0.73112, Val MAE = 0.65565, Val Acc = 0.78691\n"
     ]
    },
    {
     "name": "stderr",
     "output_type": "stream",
     "text": [
      "Epoch 126/512: 100%|████████████████████████████████████████████████████████████████████| 910/910 [00:44<00:00, 20.34it/s]\n"
     ]
    },
    {
     "name": "stdout",
     "output_type": "stream",
     "text": [
      "Epoch 126/512: \n",
      "Train Loss = 0.15846, Train MSE = 0.63825, Train MAE = 0.62502, Train Acc = 0.80302\n",
      "Val Loss = 0.16979, Val MSE = 0.68803, Val MAE = 0.63668, Val Acc = 0.79544\n"
     ]
    },
    {
     "name": "stderr",
     "output_type": "stream",
     "text": [
      "Epoch 127/512: 100%|████████████████████████████████████████████████████████████████████| 910/910 [00:45<00:00, 20.22it/s]\n"
     ]
    },
    {
     "name": "stdout",
     "output_type": "stream",
     "text": [
      "Epoch 127/512: \n",
      "Train Loss = 0.15862, Train MSE = 0.63854, Train MAE = 0.62470, Train Acc = 0.80025\n",
      "Val Loss = 0.17775, Val MSE = 0.72073, Val MAE = 0.65058, Val Acc = 0.78925\n"
     ]
    },
    {
     "name": "stderr",
     "output_type": "stream",
     "text": [
      "Epoch 128/512: 100%|████████████████████████████████████████████████████████████████████| 910/910 [00:45<00:00, 20.21it/s]\n"
     ]
    },
    {
     "name": "stdout",
     "output_type": "stream",
     "text": [
      "Epoch 128/512: \n",
      "Train Loss = 0.15805, Train MSE = 0.63638, Train MAE = 0.62324, Train Acc = 0.80275\n",
      "Val Loss = 0.17682, Val MSE = 0.71714, Val MAE = 0.64722, Val Acc = 0.79062\n"
     ]
    },
    {
     "name": "stderr",
     "output_type": "stream",
     "text": [
      "Epoch 129/512: 100%|████████████████████████████████████████████████████████████████████| 910/910 [00:44<00:00, 20.23it/s]\n"
     ]
    },
    {
     "name": "stdout",
     "output_type": "stream",
     "text": [
      "Epoch 129/512: \n",
      "Train Loss = 0.15794, Train MSE = 0.63594, Train MAE = 0.62358, Train Acc = 0.80245\n",
      "Val Loss = 0.16546, Val MSE = 0.67031, Val MAE = 0.62658, Val Acc = 0.80066\n"
     ]
    },
    {
     "name": "stderr",
     "output_type": "stream",
     "text": [
      "Epoch 130/512: 100%|████████████████████████████████████████████████████████████████████| 910/910 [00:44<00:00, 20.25it/s]\n"
     ]
    },
    {
     "name": "stdout",
     "output_type": "stream",
     "text": [
      "Epoch 130/512: \n",
      "Train Loss = 0.15652, Train MSE = 0.63038, Train MAE = 0.61988, Train Acc = 0.80302\n",
      "Val Loss = 0.17764, Val MSE = 0.72051, Val MAE = 0.65102, Val Acc = 0.78636\n"
     ]
    },
    {
     "name": "stderr",
     "output_type": "stream",
     "text": [
      "Epoch 131/512: 100%|████████████████████████████████████████████████████████████████████| 910/910 [00:44<00:00, 20.29it/s]\n"
     ]
    },
    {
     "name": "stdout",
     "output_type": "stream",
     "text": [
      "Epoch 131/512: \n",
      "Train Loss = 0.15706, Train MSE = 0.63231, Train MAE = 0.62160, Train Acc = 0.80209\n",
      "Val Loss = 0.16587, Val MSE = 0.67155, Val MAE = 0.63256, Val Acc = 0.80396\n"
     ]
    },
    {
     "name": "stderr",
     "output_type": "stream",
     "text": [
      "Epoch 132/512: 100%|████████████████████████████████████████████████████████████████████| 910/910 [00:44<00:00, 20.35it/s]\n"
     ]
    },
    {
     "name": "stdout",
     "output_type": "stream",
     "text": [
      "Epoch 132/512: \n",
      "Train Loss = 0.15659, Train MSE = 0.63046, Train MAE = 0.62046, Train Acc = 0.80318\n",
      "Val Loss = 0.17203, Val MSE = 0.69770, Val MAE = 0.64053, Val Acc = 0.79172\n"
     ]
    },
    {
     "name": "stderr",
     "output_type": "stream",
     "text": [
      "Epoch 133/512: 100%|████████████████████████████████████████████████████████████████████| 910/910 [00:44<00:00, 20.41it/s]\n"
     ]
    },
    {
     "name": "stdout",
     "output_type": "stream",
     "text": [
      "Epoch 133/512: \n",
      "Train Loss = 0.15699, Train MSE = 0.63192, Train MAE = 0.62191, Train Acc = 0.80225\n",
      "Val Loss = 0.17225, Val MSE = 0.69841, Val MAE = 0.64006, Val Acc = 0.79846\n"
     ]
    },
    {
     "name": "stderr",
     "output_type": "stream",
     "text": [
      "Epoch 134/512: 100%|████████████████████████████████████████████████████████████████████| 910/910 [00:45<00:00, 20.22it/s]\n"
     ]
    },
    {
     "name": "stdout",
     "output_type": "stream",
     "text": [
      "Epoch 134/512: \n",
      "Train Loss = 0.15607, Train MSE = 0.62804, Train MAE = 0.62011, Train Acc = 0.80431\n",
      "Val Loss = 0.16206, Val MSE = 0.65551, Val MAE = 0.62410, Val Acc = 0.80850\n"
     ]
    },
    {
     "name": "stderr",
     "output_type": "stream",
     "text": [
      "Epoch 135/512: 100%|████████████████████████████████████████████████████████████████████| 910/910 [00:44<00:00, 20.23it/s]\n"
     ]
    },
    {
     "name": "stdout",
     "output_type": "stream",
     "text": [
      "Epoch 135/512: \n",
      "Train Loss = 0.15538, Train MSE = 0.62554, Train MAE = 0.61822, Train Acc = 0.80555\n",
      "Val Loss = 0.16413, Val MSE = 0.66403, Val MAE = 0.62606, Val Acc = 0.80258\n"
     ]
    },
    {
     "name": "stderr",
     "output_type": "stream",
     "text": [
      "Epoch 136/512: 100%|████████████████████████████████████████████████████████████████████| 910/910 [00:44<00:00, 20.27it/s]\n"
     ]
    },
    {
     "name": "stdout",
     "output_type": "stream",
     "text": [
      "Epoch 136/512: \n",
      "Train Loss = 0.15548, Train MSE = 0.62580, Train MAE = 0.61851, Train Acc = 0.80464\n",
      "Val Loss = 0.17286, Val MSE = 0.70059, Val MAE = 0.64095, Val Acc = 0.79447\n"
     ]
    },
    {
     "name": "stderr",
     "output_type": "stream",
     "text": [
      "Epoch 137/512: 100%|████████████████████████████████████████████████████████████████████| 910/910 [00:44<00:00, 20.29it/s]\n"
     ]
    },
    {
     "name": "stdout",
     "output_type": "stream",
     "text": [
      "Epoch 137/512: \n",
      "Train Loss = 0.15558, Train MSE = 0.62643, Train MAE = 0.61844, Train Acc = 0.80665\n",
      "Val Loss = 0.17739, Val MSE = 0.72028, Val MAE = 0.65151, Val Acc = 0.78801\n"
     ]
    },
    {
     "name": "stderr",
     "output_type": "stream",
     "text": [
      "Epoch 138/512: 100%|████████████████████████████████████████████████████████████████████| 910/910 [00:44<00:00, 20.25it/s]\n"
     ]
    },
    {
     "name": "stdout",
     "output_type": "stream",
     "text": [
      "Epoch 138/512: \n",
      "Train Loss = 0.15465, Train MSE = 0.62261, Train MAE = 0.61673, Train Acc = 0.80706\n",
      "Val Loss = 0.16459, Val MSE = 0.66612, Val MAE = 0.62982, Val Acc = 0.80575\n"
     ]
    },
    {
     "name": "stderr",
     "output_type": "stream",
     "text": [
      "Epoch 139/512: 100%|████████████████████████████████████████████████████████████████████| 910/910 [00:45<00:00, 20.19it/s]\n"
     ]
    },
    {
     "name": "stdout",
     "output_type": "stream",
     "text": [
      "Epoch 139/512: \n",
      "Train Loss = 0.15501, Train MSE = 0.62417, Train MAE = 0.61772, Train Acc = 0.80551\n",
      "Val Loss = 0.17180, Val MSE = 0.69602, Val MAE = 0.64162, Val Acc = 0.79324\n"
     ]
    },
    {
     "name": "stderr",
     "output_type": "stream",
     "text": [
      "Epoch 140/512: 100%|████████████████████████████████████████████████████████████████████| 910/910 [00:44<00:00, 20.26it/s]\n"
     ]
    },
    {
     "name": "stdout",
     "output_type": "stream",
     "text": [
      "Epoch 140/512: \n",
      "Train Loss = 0.15501, Train MSE = 0.62402, Train MAE = 0.61854, Train Acc = 0.80570\n",
      "Val Loss = 0.17311, Val MSE = 0.70162, Val MAE = 0.64352, Val Acc = 0.79159\n"
     ]
    },
    {
     "name": "stderr",
     "output_type": "stream",
     "text": [
      "Epoch 141/512: 100%|████████████████████████████████████████████████████████████████████| 910/910 [00:44<00:00, 20.28it/s]\n"
     ]
    },
    {
     "name": "stdout",
     "output_type": "stream",
     "text": [
      "Epoch 141/512: \n",
      "Train Loss = 0.15533, Train MSE = 0.62566, Train MAE = 0.61768, Train Acc = 0.80775\n",
      "Val Loss = 0.17023, Val MSE = 0.68966, Val MAE = 0.63829, Val Acc = 0.79571\n"
     ]
    },
    {
     "name": "stderr",
     "output_type": "stream",
     "text": [
      "Epoch 142/512: 100%|████████████████████████████████████████████████████████████████████| 910/910 [00:44<00:00, 20.37it/s]\n"
     ]
    },
    {
     "name": "stdout",
     "output_type": "stream",
     "text": [
      "Epoch 142/512: \n",
      "Train Loss = 0.15428, Train MSE = 0.62106, Train MAE = 0.61605, Train Acc = 0.80562\n",
      "Val Loss = 0.17486, Val MSE = 0.70860, Val MAE = 0.64429, Val Acc = 0.79172\n"
     ]
    },
    {
     "name": "stderr",
     "output_type": "stream",
     "text": [
      "Epoch 143/512: 100%|████████████████████████████████████████████████████████████████████| 910/910 [00:44<00:00, 20.29it/s]\n"
     ]
    },
    {
     "name": "stdout",
     "output_type": "stream",
     "text": [
      "Epoch 143/512: \n",
      "Train Loss = 0.15368, Train MSE = 0.61828, Train MAE = 0.61423, Train Acc = 0.80852\n",
      "Val Loss = 0.17080, Val MSE = 0.69184, Val MAE = 0.63770, Val Acc = 0.79530\n"
     ]
    },
    {
     "name": "stderr",
     "output_type": "stream",
     "text": [
      "Epoch 144/512: 100%|████████████████████████████████████████████████████████████████████| 910/910 [00:44<00:00, 20.32it/s]\n"
     ]
    },
    {
     "name": "stdout",
     "output_type": "stream",
     "text": [
      "Epoch 144/512: \n",
      "Train Loss = 0.15341, Train MSE = 0.61742, Train MAE = 0.61554, Train Acc = 0.80854\n",
      "Val Loss = 0.16897, Val MSE = 0.68530, Val MAE = 0.63201, Val Acc = 0.80327\n"
     ]
    },
    {
     "name": "stderr",
     "output_type": "stream",
     "text": [
      "Epoch 145/512: 100%|████████████████████████████████████████████████████████████████████| 910/910 [00:44<00:00, 20.27it/s]\n"
     ]
    },
    {
     "name": "stdout",
     "output_type": "stream",
     "text": [
      "Epoch 145/512: \n",
      "Train Loss = 0.15374, Train MSE = 0.61900, Train MAE = 0.61427, Train Acc = 0.80660\n",
      "Val Loss = 0.16616, Val MSE = 0.67286, Val MAE = 0.63068, Val Acc = 0.80272\n"
     ]
    },
    {
     "name": "stderr",
     "output_type": "stream",
     "text": [
      "Epoch 146/512: 100%|████████████████████████████████████████████████████████████████████| 910/910 [00:44<00:00, 20.28it/s]\n"
     ]
    },
    {
     "name": "stdout",
     "output_type": "stream",
     "text": [
      "Epoch 146/512: \n",
      "Train Loss = 0.15390, Train MSE = 0.61960, Train MAE = 0.61510, Train Acc = 0.80737\n",
      "Val Loss = 0.16237, Val MSE = 0.65672, Val MAE = 0.62186, Val Acc = 0.80643\n"
     ]
    },
    {
     "name": "stderr",
     "output_type": "stream",
     "text": [
      "Epoch 147/512: 100%|████████████████████████████████████████████████████████████████████| 910/910 [00:44<00:00, 20.42it/s]\n"
     ]
    },
    {
     "name": "stdout",
     "output_type": "stream",
     "text": [
      "Epoch 147/512: \n",
      "Train Loss = 0.15320, Train MSE = 0.61652, Train MAE = 0.61290, Train Acc = 0.80960\n",
      "Val Loss = 0.16988, Val MSE = 0.68888, Val MAE = 0.64120, Val Acc = 0.79227\n"
     ]
    },
    {
     "name": "stderr",
     "output_type": "stream",
     "text": [
      "Epoch 148/512: 100%|████████████████████████████████████████████████████████████████████| 910/910 [00:44<00:00, 20.25it/s]\n"
     ]
    },
    {
     "name": "stdout",
     "output_type": "stream",
     "text": [
      "Epoch 148/512: \n",
      "Train Loss = 0.15289, Train MSE = 0.61541, Train MAE = 0.61285, Train Acc = 0.80959\n",
      "Val Loss = 0.16206, Val MSE = 0.65535, Val MAE = 0.62266, Val Acc = 0.80313\n"
     ]
    },
    {
     "name": "stderr",
     "output_type": "stream",
     "text": [
      "Epoch 149/512: 100%|████████████████████████████████████████████████████████████████████| 910/910 [00:44<00:00, 20.37it/s]\n"
     ]
    },
    {
     "name": "stdout",
     "output_type": "stream",
     "text": [
      "Epoch 149/512: \n",
      "Train Loss = 0.15183, Train MSE = 0.61100, Train MAE = 0.61138, Train Acc = 0.81053\n",
      "Val Loss = 0.17384, Val MSE = 0.70453, Val MAE = 0.64481, Val Acc = 0.79681\n"
     ]
    },
    {
     "name": "stderr",
     "output_type": "stream",
     "text": [
      "Epoch 150/512: 100%|████████████████████████████████████████████████████████████████████| 910/910 [00:44<00:00, 20.32it/s]\n"
     ]
    },
    {
     "name": "stdout",
     "output_type": "stream",
     "text": [
      "Epoch 150/512: \n",
      "Train Loss = 0.15171, Train MSE = 0.61099, Train MAE = 0.61084, Train Acc = 0.81142\n",
      "Val Loss = 0.16708, Val MSE = 0.67647, Val MAE = 0.62903, Val Acc = 0.80121\n"
     ]
    },
    {
     "name": "stderr",
     "output_type": "stream",
     "text": [
      "Epoch 151/512: 100%|████████████████████████████████████████████████████████████████████| 910/910 [00:44<00:00, 20.33it/s]\n"
     ]
    },
    {
     "name": "stdout",
     "output_type": "stream",
     "text": [
      "Epoch 151/512: \n",
      "Train Loss = 0.15225, Train MSE = 0.61299, Train MAE = 0.61193, Train Acc = 0.80890\n",
      "Val Loss = 0.16319, Val MSE = 0.66078, Val MAE = 0.62272, Val Acc = 0.80561\n"
     ]
    },
    {
     "name": "stderr",
     "output_type": "stream",
     "text": [
      "Epoch 152/512: 100%|████████████████████████████████████████████████████████████████████| 910/910 [00:44<00:00, 20.31it/s]\n"
     ]
    },
    {
     "name": "stdout",
     "output_type": "stream",
     "text": [
      "Epoch 152/512: \n",
      "Train Loss = 0.15289, Train MSE = 0.61543, Train MAE = 0.61387, Train Acc = 0.80953\n",
      "Val Loss = 0.16010, Val MSE = 0.64734, Val MAE = 0.61496, Val Acc = 0.80808\n"
     ]
    },
    {
     "name": "stderr",
     "output_type": "stream",
     "text": [
      "Epoch 153/512: 100%|████████████████████████████████████████████████████████████████████| 910/910 [00:44<00:00, 20.34it/s]\n"
     ]
    },
    {
     "name": "stdout",
     "output_type": "stream",
     "text": [
      "Epoch 153/512: \n",
      "Train Loss = 0.15206, Train MSE = 0.61202, Train MAE = 0.61178, Train Acc = 0.81082\n",
      "Val Loss = 0.17245, Val MSE = 0.69876, Val MAE = 0.63958, Val Acc = 0.79434\n"
     ]
    },
    {
     "name": "stderr",
     "output_type": "stream",
     "text": [
      "Epoch 154/512: 100%|████████████████████████████████████████████████████████████████████| 910/910 [00:44<00:00, 20.23it/s]\n"
     ]
    },
    {
     "name": "stdout",
     "output_type": "stream",
     "text": [
      "Epoch 154/512: \n",
      "Train Loss = 0.15210, Train MSE = 0.61241, Train MAE = 0.61060, Train Acc = 0.81237\n",
      "Val Loss = 0.16266, Val MSE = 0.65783, Val MAE = 0.62287, Val Acc = 0.80382\n"
     ]
    },
    {
     "name": "stderr",
     "output_type": "stream",
     "text": [
      "Epoch 155/512: 100%|████████████████████████████████████████████████████████████████████| 910/910 [00:45<00:00, 20.21it/s]\n"
     ]
    },
    {
     "name": "stdout",
     "output_type": "stream",
     "text": [
      "Epoch 155/512: \n",
      "Train Loss = 0.15131, Train MSE = 0.60892, Train MAE = 0.60969, Train Acc = 0.81031\n",
      "Val Loss = 0.16323, Val MSE = 0.65972, Val MAE = 0.62171, Val Acc = 0.80162\n"
     ]
    },
    {
     "name": "stderr",
     "output_type": "stream",
     "text": [
      "Epoch 156/512: 100%|████████████████████████████████████████████████████████████████████| 910/910 [00:44<00:00, 20.38it/s]\n"
     ]
    },
    {
     "name": "stdout",
     "output_type": "stream",
     "text": [
      "Epoch 156/512: \n",
      "Train Loss = 0.15104, Train MSE = 0.60784, Train MAE = 0.60891, Train Acc = 0.81112\n",
      "Val Loss = 0.16914, Val MSE = 0.68482, Val MAE = 0.64014, Val Acc = 0.79351\n"
     ]
    },
    {
     "name": "stderr",
     "output_type": "stream",
     "text": [
      "Epoch 157/512: 100%|████████████████████████████████████████████████████████████████████| 910/910 [00:44<00:00, 20.37it/s]\n"
     ]
    },
    {
     "name": "stdout",
     "output_type": "stream",
     "text": [
      "Epoch 157/512: \n",
      "Train Loss = 0.15141, Train MSE = 0.60932, Train MAE = 0.61081, Train Acc = 0.81204\n",
      "Val Loss = 0.16655, Val MSE = 0.67436, Val MAE = 0.62732, Val Acc = 0.80217\n"
     ]
    },
    {
     "name": "stderr",
     "output_type": "stream",
     "text": [
      "Epoch 158/512: 100%|████████████████████████████████████████████████████████████████████| 910/910 [00:44<00:00, 20.36it/s]\n"
     ]
    },
    {
     "name": "stdout",
     "output_type": "stream",
     "text": [
      "Epoch 158/512: \n",
      "Train Loss = 0.15119, Train MSE = 0.60844, Train MAE = 0.60949, Train Acc = 0.81216\n",
      "Val Loss = 0.16662, Val MSE = 0.67519, Val MAE = 0.62746, Val Acc = 0.80602\n"
     ]
    },
    {
     "name": "stderr",
     "output_type": "stream",
     "text": [
      "Epoch 159/512: 100%|████████████████████████████████████████████████████████████████████| 910/910 [00:45<00:00, 20.19it/s]\n"
     ]
    },
    {
     "name": "stdout",
     "output_type": "stream",
     "text": [
      "Epoch 159/512: \n",
      "Train Loss = 0.15005, Train MSE = 0.60395, Train MAE = 0.60610, Train Acc = 0.81459\n",
      "Val Loss = 0.16845, Val MSE = 0.68198, Val MAE = 0.63169, Val Acc = 0.80437\n"
     ]
    },
    {
     "name": "stderr",
     "output_type": "stream",
     "text": [
      "Epoch 160/512: 100%|████████████████████████████████████████████████████████████████████| 910/910 [00:44<00:00, 20.32it/s]\n"
     ]
    },
    {
     "name": "stdout",
     "output_type": "stream",
     "text": [
      "Epoch 160/512: \n",
      "Train Loss = 0.15026, Train MSE = 0.60454, Train MAE = 0.60774, Train Acc = 0.81368\n",
      "Val Loss = 0.16080, Val MSE = 0.65098, Val MAE = 0.61876, Val Acc = 0.80781\n"
     ]
    },
    {
     "name": "stderr",
     "output_type": "stream",
     "text": [
      "Epoch 161/512: 100%|████████████████████████████████████████████████████████████████████| 910/910 [00:45<00:00, 20.17it/s]\n"
     ]
    },
    {
     "name": "stdout",
     "output_type": "stream",
     "text": [
      "Epoch 161/512: \n",
      "Train Loss = 0.15119, Train MSE = 0.60877, Train MAE = 0.60978, Train Acc = 0.81060\n",
      "Val Loss = 0.16260, Val MSE = 0.65768, Val MAE = 0.62052, Val Acc = 0.80547\n"
     ]
    },
    {
     "name": "stderr",
     "output_type": "stream",
     "text": [
      "Epoch 162/512: 100%|████████████████████████████████████████████████████████████████████| 910/910 [00:45<00:00, 20.19it/s]\n"
     ]
    },
    {
     "name": "stdout",
     "output_type": "stream",
     "text": [
      "Epoch 162/512: \n",
      "Train Loss = 0.14992, Train MSE = 0.60356, Train MAE = 0.60646, Train Acc = 0.81402\n",
      "Val Loss = 0.16981, Val MSE = 0.68835, Val MAE = 0.63720, Val Acc = 0.79929\n"
     ]
    },
    {
     "name": "stderr",
     "output_type": "stream",
     "text": [
      "Epoch 163/512: 100%|████████████████████████████████████████████████████████████████████| 910/910 [00:44<00:00, 20.30it/s]\n"
     ]
    },
    {
     "name": "stdout",
     "output_type": "stream",
     "text": [
      "Epoch 163/512: \n",
      "Train Loss = 0.15016, Train MSE = 0.60411, Train MAE = 0.60792, Train Acc = 0.81423\n",
      "Val Loss = 0.16793, Val MSE = 0.68040, Val MAE = 0.62979, Val Acc = 0.80162\n"
     ]
    },
    {
     "name": "stderr",
     "output_type": "stream",
     "text": [
      "Epoch 164/512: 100%|████████████████████████████████████████████████████████████████████| 910/910 [00:44<00:00, 20.31it/s]\n"
     ]
    },
    {
     "name": "stdout",
     "output_type": "stream",
     "text": [
      "Epoch 164/512: \n",
      "Train Loss = 0.14906, Train MSE = 0.59983, Train MAE = 0.60554, Train Acc = 0.81615\n",
      "Val Loss = 0.16630, Val MSE = 0.67310, Val MAE = 0.62950, Val Acc = 0.80410\n"
     ]
    },
    {
     "name": "stderr",
     "output_type": "stream",
     "text": [
      "Epoch 165/512: 100%|████████████████████████████████████████████████████████████████████| 910/910 [00:44<00:00, 20.24it/s]\n"
     ]
    },
    {
     "name": "stdout",
     "output_type": "stream",
     "text": [
      "Epoch 165/512: \n",
      "Train Loss = 0.14904, Train MSE = 0.59983, Train MAE = 0.60523, Train Acc = 0.81591\n",
      "Val Loss = 0.15797, Val MSE = 0.63913, Val MAE = 0.61085, Val Acc = 0.81152\n"
     ]
    },
    {
     "name": "stderr",
     "output_type": "stream",
     "text": [
      "Epoch 166/512: 100%|████████████████████████████████████████████████████████████████████| 910/910 [00:44<00:00, 20.25it/s]\n"
     ]
    },
    {
     "name": "stdout",
     "output_type": "stream",
     "text": [
      "Epoch 166/512: \n",
      "Train Loss = 0.14914, Train MSE = 0.60011, Train MAE = 0.60591, Train Acc = 0.81503\n",
      "Val Loss = 0.16768, Val MSE = 0.67900, Val MAE = 0.62889, Val Acc = 0.80011\n"
     ]
    },
    {
     "name": "stderr",
     "output_type": "stream",
     "text": [
      "Epoch 167/512: 100%|████████████████████████████████████████████████████████████████████| 910/910 [00:44<00:00, 20.31it/s]\n"
     ]
    },
    {
     "name": "stdout",
     "output_type": "stream",
     "text": [
      "Epoch 167/512: \n",
      "Train Loss = 0.14924, Train MSE = 0.60066, Train MAE = 0.60550, Train Acc = 0.81395\n",
      "Val Loss = 0.16320, Val MSE = 0.66026, Val MAE = 0.62230, Val Acc = 0.80643\n"
     ]
    },
    {
     "name": "stderr",
     "output_type": "stream",
     "text": [
      "Epoch 168/512: 100%|████████████████████████████████████████████████████████████████████| 910/910 [00:44<00:00, 20.25it/s]\n"
     ]
    },
    {
     "name": "stdout",
     "output_type": "stream",
     "text": [
      "Epoch 168/512: \n",
      "Train Loss = 0.14945, Train MSE = 0.60144, Train MAE = 0.60717, Train Acc = 0.81522\n",
      "Val Loss = 0.16564, Val MSE = 0.67010, Val MAE = 0.62602, Val Acc = 0.80272\n"
     ]
    },
    {
     "name": "stderr",
     "output_type": "stream",
     "text": [
      "Epoch 169/512: 100%|████████████████████████████████████████████████████████████████████| 910/910 [00:45<00:00, 20.21it/s]\n"
     ]
    },
    {
     "name": "stdout",
     "output_type": "stream",
     "text": [
      "Epoch 169/512: \n",
      "Train Loss = 0.14943, Train MSE = 0.60123, Train MAE = 0.60704, Train Acc = 0.81443\n",
      "Val Loss = 0.16402, Val MSE = 0.66385, Val MAE = 0.62292, Val Acc = 0.80685\n"
     ]
    },
    {
     "name": "stderr",
     "output_type": "stream",
     "text": [
      "Epoch 170/512: 100%|████████████████████████████████████████████████████████████████████| 910/910 [00:44<00:00, 20.35it/s]\n"
     ]
    },
    {
     "name": "stdout",
     "output_type": "stream",
     "text": [
      "Epoch 170/512: \n",
      "Train Loss = 0.14900, Train MSE = 0.59969, Train MAE = 0.60524, Train Acc = 0.81591\n",
      "Val Loss = 0.15927, Val MSE = 0.64449, Val MAE = 0.61265, Val Acc = 0.81235\n"
     ]
    },
    {
     "name": "stderr",
     "output_type": "stream",
     "text": [
      "Epoch 171/512: 100%|████████████████████████████████████████████████████████████████████| 910/910 [00:44<00:00, 20.24it/s]\n"
     ]
    },
    {
     "name": "stdout",
     "output_type": "stream",
     "text": [
      "Epoch 171/512: \n",
      "Train Loss = 0.14863, Train MSE = 0.59832, Train MAE = 0.60322, Train Acc = 0.81601\n",
      "Val Loss = 0.16382, Val MSE = 0.66346, Val MAE = 0.62560, Val Acc = 0.80561\n"
     ]
    },
    {
     "name": "stderr",
     "output_type": "stream",
     "text": [
      "Epoch 172/512: 100%|████████████████████████████████████████████████████████████████████| 910/910 [00:44<00:00, 20.38it/s]\n"
     ]
    },
    {
     "name": "stdout",
     "output_type": "stream",
     "text": [
      "Epoch 172/512: \n",
      "Train Loss = 0.14813, Train MSE = 0.59607, Train MAE = 0.60336, Train Acc = 0.81624\n",
      "Val Loss = 0.16048, Val MSE = 0.64918, Val MAE = 0.62035, Val Acc = 0.81125\n"
     ]
    },
    {
     "name": "stderr",
     "output_type": "stream",
     "text": [
      "Epoch 173/512: 100%|████████████████████████████████████████████████████████████████████| 910/910 [00:44<00:00, 20.31it/s]\n"
     ]
    },
    {
     "name": "stdout",
     "output_type": "stream",
     "text": [
      "Epoch 173/512: \n",
      "Train Loss = 0.14777, Train MSE = 0.59467, Train MAE = 0.60168, Train Acc = 0.81660\n",
      "Val Loss = 0.16119, Val MSE = 0.65212, Val MAE = 0.61729, Val Acc = 0.81070\n"
     ]
    },
    {
     "name": "stderr",
     "output_type": "stream",
     "text": [
      "Epoch 174/512: 100%|████████████████████████████████████████████████████████████████████| 910/910 [00:44<00:00, 20.32it/s]\n"
     ]
    },
    {
     "name": "stdout",
     "output_type": "stream",
     "text": [
      "Epoch 174/512: \n",
      "Train Loss = 0.14711, Train MSE = 0.59213, Train MAE = 0.60014, Train Acc = 0.81756\n",
      "Val Loss = 0.16459, Val MSE = 0.66634, Val MAE = 0.62412, Val Acc = 0.80245\n"
     ]
    },
    {
     "name": "stderr",
     "output_type": "stream",
     "text": [
      "Epoch 175/512: 100%|████████████████████████████████████████████████████████████████████| 910/910 [00:44<00:00, 20.30it/s]\n"
     ]
    },
    {
     "name": "stdout",
     "output_type": "stream",
     "text": [
      "Epoch 175/512: \n",
      "Train Loss = 0.14835, Train MSE = 0.59708, Train MAE = 0.60386, Train Acc = 0.81625\n",
      "Val Loss = 0.16846, Val MSE = 0.68277, Val MAE = 0.63779, Val Acc = 0.79255\n"
     ]
    },
    {
     "name": "stderr",
     "output_type": "stream",
     "text": [
      "Epoch 176/512: 100%|████████████████████████████████████████████████████████████████████| 910/910 [00:45<00:00, 20.15it/s]\n"
     ]
    },
    {
     "name": "stdout",
     "output_type": "stream",
     "text": [
      "Epoch 176/512: \n",
      "Train Loss = 0.14859, Train MSE = 0.59810, Train MAE = 0.60397, Train Acc = 0.81643\n",
      "Val Loss = 0.16780, Val MSE = 0.68066, Val MAE = 0.62867, Val Acc = 0.80203\n"
     ]
    },
    {
     "name": "stderr",
     "output_type": "stream",
     "text": [
      "Epoch 177/512: 100%|████████████████████████████████████████████████████████████████████| 910/910 [00:45<00:00, 20.20it/s]\n"
     ]
    },
    {
     "name": "stdout",
     "output_type": "stream",
     "text": [
      "Epoch 177/512: \n",
      "Train Loss = 0.14712, Train MSE = 0.59189, Train MAE = 0.60122, Train Acc = 0.81612\n",
      "Val Loss = 0.16483, Val MSE = 0.66754, Val MAE = 0.62518, Val Acc = 0.80726\n"
     ]
    },
    {
     "name": "stderr",
     "output_type": "stream",
     "text": [
      "Epoch 178/512: 100%|████████████████████████████████████████████████████████████████████| 910/910 [00:44<00:00, 20.30it/s]\n"
     ]
    },
    {
     "name": "stdout",
     "output_type": "stream",
     "text": [
      "Epoch 178/512: \n",
      "Train Loss = 0.14696, Train MSE = 0.59134, Train MAE = 0.59997, Train Acc = 0.81842\n",
      "Val Loss = 0.16648, Val MSE = 0.67454, Val MAE = 0.62923, Val Acc = 0.80231\n"
     ]
    },
    {
     "name": "stderr",
     "output_type": "stream",
     "text": [
      "Epoch 179/512: 100%|████████████████████████████████████████████████████████████████████| 910/910 [00:45<00:00, 20.07it/s]\n"
     ]
    },
    {
     "name": "stdout",
     "output_type": "stream",
     "text": [
      "Epoch 179/512: \n",
      "Train Loss = 0.14743, Train MSE = 0.59339, Train MAE = 0.60163, Train Acc = 0.81773\n",
      "Val Loss = 0.16374, Val MSE = 0.66310, Val MAE = 0.62659, Val Acc = 0.80011\n"
     ]
    },
    {
     "name": "stderr",
     "output_type": "stream",
     "text": [
      "Epoch 180/512: 100%|████████████████████████████████████████████████████████████████████| 910/910 [00:45<00:00, 20.19it/s]\n"
     ]
    },
    {
     "name": "stdout",
     "output_type": "stream",
     "text": [
      "Epoch 180/512: \n",
      "Train Loss = 0.14607, Train MSE = 0.58791, Train MAE = 0.59860, Train Acc = 0.82095\n",
      "Val Loss = 0.17037, Val MSE = 0.69096, Val MAE = 0.63588, Val Acc = 0.79626\n"
     ]
    },
    {
     "name": "stderr",
     "output_type": "stream",
     "text": [
      "Epoch 181/512: 100%|████████████████████████████████████████████████████████████████████| 910/910 [00:44<00:00, 20.34it/s]\n"
     ]
    },
    {
     "name": "stdout",
     "output_type": "stream",
     "text": [
      "Epoch 181/512: \n",
      "Train Loss = 0.14656, Train MSE = 0.58957, Train MAE = 0.60029, Train Acc = 0.81842\n",
      "Val Loss = 0.16473, Val MSE = 0.66793, Val MAE = 0.62316, Val Acc = 0.80492\n"
     ]
    },
    {
     "name": "stderr",
     "output_type": "stream",
     "text": [
      "Epoch 182/512: 100%|████████████████████████████████████████████████████████████████████| 910/910 [00:44<00:00, 20.34it/s]\n"
     ]
    },
    {
     "name": "stdout",
     "output_type": "stream",
     "text": [
      "Epoch 182/512: \n",
      "Train Loss = 0.14678, Train MSE = 0.59052, Train MAE = 0.60055, Train Acc = 0.81773\n",
      "Val Loss = 0.16973, Val MSE = 0.68786, Val MAE = 0.63425, Val Acc = 0.80217\n"
     ]
    },
    {
     "name": "stderr",
     "output_type": "stream",
     "text": [
      "Epoch 183/512: 100%|████████████████████████████████████████████████████████████████████| 910/910 [00:44<00:00, 20.28it/s]\n"
     ]
    },
    {
     "name": "stdout",
     "output_type": "stream",
     "text": [
      "Epoch 183/512: \n",
      "Train Loss = 0.14729, Train MSE = 0.59283, Train MAE = 0.60115, Train Acc = 0.81739\n",
      "Val Loss = 0.16270, Val MSE = 0.65907, Val MAE = 0.61894, Val Acc = 0.80863\n"
     ]
    },
    {
     "name": "stderr",
     "output_type": "stream",
     "text": [
      "Epoch 184/512: 100%|████████████████████████████████████████████████████████████████████| 910/910 [00:44<00:00, 20.29it/s]\n"
     ]
    },
    {
     "name": "stdout",
     "output_type": "stream",
     "text": [
      "Epoch 184/512: \n",
      "Train Loss = 0.14618, Train MSE = 0.58814, Train MAE = 0.59933, Train Acc = 0.81990\n",
      "Val Loss = 0.16015, Val MSE = 0.64835, Val MAE = 0.61939, Val Acc = 0.80960\n"
     ]
    },
    {
     "name": "stderr",
     "output_type": "stream",
     "text": [
      "Epoch 185/512: 100%|████████████████████████████████████████████████████████████████████| 910/910 [00:44<00:00, 20.32it/s]\n"
     ]
    },
    {
     "name": "stdout",
     "output_type": "stream",
     "text": [
      "Epoch 185/512: \n",
      "Train Loss = 0.14505, Train MSE = 0.58374, Train MAE = 0.59563, Train Acc = 0.82249\n",
      "Val Loss = 0.15709, Val MSE = 0.63579, Val MAE = 0.60762, Val Acc = 0.81523\n"
     ]
    },
    {
     "name": "stderr",
     "output_type": "stream",
     "text": [
      "Epoch 186/512: 100%|████████████████████████████████████████████████████████████████████| 910/910 [00:44<00:00, 20.30it/s]\n"
     ]
    },
    {
     "name": "stdout",
     "output_type": "stream",
     "text": [
      "Epoch 186/512: \n",
      "Train Loss = 0.14461, Train MSE = 0.58207, Train MAE = 0.59504, Train Acc = 0.82266\n",
      "Val Loss = 0.16193, Val MSE = 0.65545, Val MAE = 0.62015, Val Acc = 0.80575\n"
     ]
    },
    {
     "name": "stderr",
     "output_type": "stream",
     "text": [
      "Epoch 187/512: 100%|████████████████████████████████████████████████████████████████████| 910/910 [00:45<00:00, 20.21it/s]\n"
     ]
    },
    {
     "name": "stdout",
     "output_type": "stream",
     "text": [
      "Epoch 187/512: \n",
      "Train Loss = 0.14566, Train MSE = 0.58631, Train MAE = 0.59750, Train Acc = 0.82100\n",
      "Val Loss = 0.16000, Val MSE = 0.64800, Val MAE = 0.61647, Val Acc = 0.81125\n"
     ]
    },
    {
     "name": "stderr",
     "output_type": "stream",
     "text": [
      "Epoch 188/512: 100%|████████████████████████████████████████████████████████████████████| 910/910 [00:44<00:00, 20.24it/s]\n"
     ]
    },
    {
     "name": "stdout",
     "output_type": "stream",
     "text": [
      "Epoch 188/512: \n",
      "Train Loss = 0.14585, Train MSE = 0.58713, Train MAE = 0.59828, Train Acc = 0.82043\n",
      "Val Loss = 0.15627, Val MSE = 0.63172, Val MAE = 0.60930, Val Acc = 0.81578\n"
     ]
    },
    {
     "name": "stderr",
     "output_type": "stream",
     "text": [
      "Epoch 189/512: 100%|████████████████████████████████████████████████████████████████████| 910/910 [00:44<00:00, 20.32it/s]\n"
     ]
    },
    {
     "name": "stdout",
     "output_type": "stream",
     "text": [
      "Epoch 189/512: \n",
      "Train Loss = 0.14586, Train MSE = 0.58715, Train MAE = 0.59712, Train Acc = 0.81993\n",
      "Val Loss = 0.16073, Val MSE = 0.65134, Val MAE = 0.61475, Val Acc = 0.80918\n"
     ]
    },
    {
     "name": "stderr",
     "output_type": "stream",
     "text": [
      "Epoch 190/512: 100%|████████████████████████████████████████████████████████████████████| 910/910 [00:44<00:00, 20.32it/s]\n"
     ]
    },
    {
     "name": "stdout",
     "output_type": "stream",
     "text": [
      "Epoch 190/512: \n",
      "Train Loss = 0.14526, Train MSE = 0.58437, Train MAE = 0.59703, Train Acc = 0.82201\n",
      "Val Loss = 0.16251, Val MSE = 0.65743, Val MAE = 0.62504, Val Acc = 0.80327\n"
     ]
    },
    {
     "name": "stderr",
     "output_type": "stream",
     "text": [
      "Epoch 191/512: 100%|████████████████████████████████████████████████████████████████████| 910/910 [00:45<00:00, 20.20it/s]\n"
     ]
    },
    {
     "name": "stdout",
     "output_type": "stream",
     "text": [
      "Epoch 191/512: \n",
      "Train Loss = 0.14493, Train MSE = 0.58308, Train MAE = 0.59509, Train Acc = 0.82167\n",
      "Val Loss = 0.15517, Val MSE = 0.62778, Val MAE = 0.60463, Val Acc = 0.81482\n"
     ]
    },
    {
     "name": "stderr",
     "output_type": "stream",
     "text": [
      "Epoch 192/512: 100%|████████████████████████████████████████████████████████████████████| 910/910 [00:44<00:00, 20.38it/s]\n"
     ]
    },
    {
     "name": "stdout",
     "output_type": "stream",
     "text": [
      "Epoch 192/512: \n",
      "Train Loss = 0.14497, Train MSE = 0.58332, Train MAE = 0.59596, Train Acc = 0.82266\n",
      "Val Loss = 0.15960, Val MSE = 0.64600, Val MAE = 0.61626, Val Acc = 0.81180\n"
     ]
    },
    {
     "name": "stderr",
     "output_type": "stream",
     "text": [
      "Epoch 193/512: 100%|████████████████████████████████████████████████████████████████████| 910/910 [00:44<00:00, 20.42it/s]\n"
     ]
    },
    {
     "name": "stdout",
     "output_type": "stream",
     "text": [
      "Epoch 193/512: \n",
      "Train Loss = 0.14388, Train MSE = 0.57902, Train MAE = 0.59340, Train Acc = 0.82363\n",
      "Val Loss = 0.15976, Val MSE = 0.64649, Val MAE = 0.61365, Val Acc = 0.81138\n"
     ]
    },
    {
     "name": "stderr",
     "output_type": "stream",
     "text": [
      "Epoch 194/512: 100%|████████████████████████████████████████████████████████████████████| 910/910 [00:45<00:00, 20.21it/s]\n"
     ]
    },
    {
     "name": "stdout",
     "output_type": "stream",
     "text": [
      "Epoch 194/512: \n",
      "Train Loss = 0.14521, Train MSE = 0.58431, Train MAE = 0.59746, Train Acc = 0.82211\n",
      "Val Loss = 0.16278, Val MSE = 0.65963, Val MAE = 0.62146, Val Acc = 0.80423\n"
     ]
    },
    {
     "name": "stderr",
     "output_type": "stream",
     "text": [
      "Epoch 195/512: 100%|████████████████████████████████████████████████████████████████████| 910/910 [00:45<00:00, 20.19it/s]\n"
     ]
    },
    {
     "name": "stdout",
     "output_type": "stream",
     "text": [
      "Epoch 195/512: \n",
      "Train Loss = 0.14373, Train MSE = 0.57816, Train MAE = 0.59430, Train Acc = 0.82232\n",
      "Val Loss = 0.15644, Val MSE = 0.63327, Val MAE = 0.60821, Val Acc = 0.81400\n"
     ]
    },
    {
     "name": "stderr",
     "output_type": "stream",
     "text": [
      "Epoch 196/512: 100%|████████████████████████████████████████████████████████████████████| 910/910 [00:44<00:00, 20.31it/s]\n"
     ]
    },
    {
     "name": "stdout",
     "output_type": "stream",
     "text": [
      "Epoch 196/512: \n",
      "Train Loss = 0.14493, Train MSE = 0.58322, Train MAE = 0.59568, Train Acc = 0.82095\n",
      "Val Loss = 0.15634, Val MSE = 0.63238, Val MAE = 0.60868, Val Acc = 0.81963\n"
     ]
    },
    {
     "name": "stderr",
     "output_type": "stream",
     "text": [
      "Epoch 197/512: 100%|████████████████████████████████████████████████████████████████████| 910/910 [00:44<00:00, 20.22it/s]\n"
     ]
    },
    {
     "name": "stdout",
     "output_type": "stream",
     "text": [
      "Epoch 197/512: \n",
      "Train Loss = 0.14412, Train MSE = 0.57994, Train MAE = 0.59491, Train Acc = 0.82380\n",
      "Val Loss = 0.15804, Val MSE = 0.64002, Val MAE = 0.60988, Val Acc = 0.81193\n"
     ]
    },
    {
     "name": "stderr",
     "output_type": "stream",
     "text": [
      "Epoch 198/512: 100%|████████████████████████████████████████████████████████████████████| 910/910 [00:44<00:00, 20.30it/s]\n"
     ]
    },
    {
     "name": "stdout",
     "output_type": "stream",
     "text": [
      "Epoch 198/512: \n",
      "Train Loss = 0.14356, Train MSE = 0.57731, Train MAE = 0.59347, Train Acc = 0.82320\n",
      "Val Loss = 0.16505, Val MSE = 0.66895, Val MAE = 0.62804, Val Acc = 0.80533\n"
     ]
    },
    {
     "name": "stderr",
     "output_type": "stream",
     "text": [
      "Epoch 199/512: 100%|████████████████████████████████████████████████████████████████████| 910/910 [00:44<00:00, 20.35it/s]\n"
     ]
    },
    {
     "name": "stdout",
     "output_type": "stream",
     "text": [
      "Epoch 199/512: \n",
      "Train Loss = 0.14370, Train MSE = 0.57814, Train MAE = 0.59309, Train Acc = 0.82361\n",
      "Val Loss = 0.15739, Val MSE = 0.63769, Val MAE = 0.60815, Val Acc = 0.81509\n"
     ]
    },
    {
     "name": "stderr",
     "output_type": "stream",
     "text": [
      "Epoch 200/512: 100%|████████████████████████████████████████████████████████████████████| 910/910 [00:44<00:00, 20.28it/s]\n"
     ]
    },
    {
     "name": "stdout",
     "output_type": "stream",
     "text": [
      "Epoch 200/512: \n",
      "Train Loss = 0.14343, Train MSE = 0.57700, Train MAE = 0.59210, Train Acc = 0.82311\n",
      "Val Loss = 0.16054, Val MSE = 0.65046, Val MAE = 0.61479, Val Acc = 0.80946\n"
     ]
    },
    {
     "name": "stderr",
     "output_type": "stream",
     "text": [
      "Epoch 201/512: 100%|████████████████████████████████████████████████████████████████████| 910/910 [00:44<00:00, 20.23it/s]\n"
     ]
    },
    {
     "name": "stdout",
     "output_type": "stream",
     "text": [
      "Epoch 201/512: \n",
      "Train Loss = 0.14398, Train MSE = 0.57929, Train MAE = 0.59399, Train Acc = 0.82366\n",
      "Val Loss = 0.16201, Val MSE = 0.65561, Val MAE = 0.61698, Val Acc = 0.80767\n"
     ]
    },
    {
     "name": "stderr",
     "output_type": "stream",
     "text": [
      "Epoch 202/512: 100%|████████████████████████████████████████████████████████████████████| 910/910 [00:44<00:00, 20.29it/s]\n"
     ]
    },
    {
     "name": "stdout",
     "output_type": "stream",
     "text": [
      "Epoch 202/512: \n",
      "Train Loss = 0.14280, Train MSE = 0.57434, Train MAE = 0.59281, Train Acc = 0.82406\n",
      "Val Loss = 0.15762, Val MSE = 0.63721, Val MAE = 0.60935, Val Acc = 0.81400\n"
     ]
    },
    {
     "name": "stderr",
     "output_type": "stream",
     "text": [
      "Epoch 203/512: 100%|████████████████████████████████████████████████████████████████████| 910/910 [00:44<00:00, 20.24it/s]\n"
     ]
    },
    {
     "name": "stdout",
     "output_type": "stream",
     "text": [
      "Epoch 203/512: \n",
      "Train Loss = 0.14262, Train MSE = 0.57377, Train MAE = 0.59137, Train Acc = 0.82437\n",
      "Val Loss = 0.15913, Val MSE = 0.64403, Val MAE = 0.61294, Val Acc = 0.81138\n"
     ]
    },
    {
     "name": "stderr",
     "output_type": "stream",
     "text": [
      "Epoch 204/512: 100%|████████████████████████████████████████████████████████████████████| 910/910 [00:44<00:00, 20.31it/s]\n"
     ]
    },
    {
     "name": "stdout",
     "output_type": "stream",
     "text": [
      "Epoch 204/512: \n",
      "Train Loss = 0.14279, Train MSE = 0.57434, Train MAE = 0.59279, Train Acc = 0.82430\n",
      "Val Loss = 0.16190, Val MSE = 0.65613, Val MAE = 0.61977, Val Acc = 0.80753\n"
     ]
    },
    {
     "name": "stderr",
     "output_type": "stream",
     "text": [
      "Epoch 205/512: 100%|████████████████████████████████████████████████████████████████████| 910/910 [00:45<00:00, 20.15it/s]\n"
     ]
    },
    {
     "name": "stdout",
     "output_type": "stream",
     "text": [
      "Epoch 205/512: \n",
      "Train Loss = 0.14301, Train MSE = 0.57533, Train MAE = 0.59074, Train Acc = 0.82509\n",
      "Val Loss = 0.16415, Val MSE = 0.66480, Val MAE = 0.62574, Val Acc = 0.80162\n"
     ]
    },
    {
     "name": "stderr",
     "output_type": "stream",
     "text": [
      "Epoch 206/512: 100%|████████████████████████████████████████████████████████████████████| 910/910 [00:45<00:00, 20.15it/s]\n"
     ]
    },
    {
     "name": "stdout",
     "output_type": "stream",
     "text": [
      "Epoch 206/512: \n",
      "Train Loss = 0.14358, Train MSE = 0.57748, Train MAE = 0.59346, Train Acc = 0.82318\n",
      "Val Loss = 0.15902, Val MSE = 0.64289, Val MAE = 0.61371, Val Acc = 0.81125\n"
     ]
    },
    {
     "name": "stderr",
     "output_type": "stream",
     "text": [
      "Epoch 207/512: 100%|████████████████████████████████████████████████████████████████████| 910/910 [00:44<00:00, 20.36it/s]\n"
     ]
    },
    {
     "name": "stdout",
     "output_type": "stream",
     "text": [
      "Epoch 207/512: \n",
      "Train Loss = 0.14279, Train MSE = 0.57423, Train MAE = 0.59241, Train Acc = 0.82330\n",
      "Val Loss = 0.15897, Val MSE = 0.64404, Val MAE = 0.61297, Val Acc = 0.81248\n"
     ]
    },
    {
     "name": "stderr",
     "output_type": "stream",
     "text": [
      "Epoch 208/512: 100%|████████████████████████████████████████████████████████████████████| 910/910 [00:44<00:00, 20.23it/s]\n"
     ]
    },
    {
     "name": "stdout",
     "output_type": "stream",
     "text": [
      "Epoch 208/512: \n",
      "Train Loss = 0.14263, Train MSE = 0.57376, Train MAE = 0.59154, Train Acc = 0.82280\n",
      "Val Loss = 0.16016, Val MSE = 0.64875, Val MAE = 0.61366, Val Acc = 0.81193\n"
     ]
    },
    {
     "name": "stderr",
     "output_type": "stream",
     "text": [
      "Epoch 209/512: 100%|████████████████████████████████████████████████████████████████████| 910/910 [00:44<00:00, 20.25it/s]\n"
     ]
    },
    {
     "name": "stdout",
     "output_type": "stream",
     "text": [
      "Epoch 209/512: \n",
      "Train Loss = 0.14189, Train MSE = 0.57071, Train MAE = 0.58974, Train Acc = 0.82524\n",
      "Val Loss = 0.16450, Val MSE = 0.66607, Val MAE = 0.62328, Val Acc = 0.80740\n"
     ]
    },
    {
     "name": "stderr",
     "output_type": "stream",
     "text": [
      "Epoch 210/512: 100%|████████████████████████████████████████████████████████████████████| 910/910 [00:44<00:00, 20.30it/s]\n"
     ]
    },
    {
     "name": "stdout",
     "output_type": "stream",
     "text": [
      "Epoch 210/512: \n",
      "Train Loss = 0.14188, Train MSE = 0.57093, Train MAE = 0.58871, Train Acc = 0.82682\n",
      "Val Loss = 0.15423, Val MSE = 0.62465, Val MAE = 0.60524, Val Acc = 0.82032\n"
     ]
    },
    {
     "name": "stderr",
     "output_type": "stream",
     "text": [
      "Epoch 211/512: 100%|████████████████████████████████████████████████████████████████████| 910/910 [00:44<00:00, 20.31it/s]\n"
     ]
    },
    {
     "name": "stdout",
     "output_type": "stream",
     "text": [
      "Epoch 211/512: \n",
      "Train Loss = 0.14175, Train MSE = 0.57041, Train MAE = 0.58895, Train Acc = 0.82516\n",
      "Val Loss = 0.16278, Val MSE = 0.65922, Val MAE = 0.62393, Val Acc = 0.80767\n"
     ]
    },
    {
     "name": "stderr",
     "output_type": "stream",
     "text": [
      "Epoch 212/512: 100%|████████████████████████████████████████████████████████████████████| 910/910 [00:44<00:00, 20.31it/s]\n"
     ]
    },
    {
     "name": "stdout",
     "output_type": "stream",
     "text": [
      "Epoch 212/512: \n",
      "Train Loss = 0.14177, Train MSE = 0.57021, Train MAE = 0.58866, Train Acc = 0.82591\n",
      "Val Loss = 0.15885, Val MSE = 0.64387, Val MAE = 0.61321, Val Acc = 0.81331\n"
     ]
    },
    {
     "name": "stderr",
     "output_type": "stream",
     "text": [
      "Epoch 213/512: 100%|████████████████████████████████████████████████████████████████████| 910/910 [00:44<00:00, 20.27it/s]\n"
     ]
    },
    {
     "name": "stdout",
     "output_type": "stream",
     "text": [
      "Epoch 213/512: \n",
      "Train Loss = 0.14187, Train MSE = 0.57081, Train MAE = 0.58826, Train Acc = 0.82687\n",
      "Val Loss = 0.15665, Val MSE = 0.63464, Val MAE = 0.60905, Val Acc = 0.81372\n"
     ]
    },
    {
     "name": "stderr",
     "output_type": "stream",
     "text": [
      "Epoch 214/512: 100%|████████████████████████████████████████████████████████████████████| 910/910 [00:45<00:00, 20.15it/s]\n"
     ]
    },
    {
     "name": "stdout",
     "output_type": "stream",
     "text": [
      "Epoch 214/512: \n",
      "Train Loss = 0.14110, Train MSE = 0.56748, Train MAE = 0.58728, Train Acc = 0.82705\n",
      "Val Loss = 0.15663, Val MSE = 0.63436, Val MAE = 0.60753, Val Acc = 0.81674\n"
     ]
    },
    {
     "name": "stderr",
     "output_type": "stream",
     "text": [
      "Epoch 215/512: 100%|████████████████████████████████████████████████████████████████████| 910/910 [00:44<00:00, 20.48it/s]\n"
     ]
    },
    {
     "name": "stdout",
     "output_type": "stream",
     "text": [
      "Epoch 215/512: \n",
      "Train Loss = 0.14099, Train MSE = 0.56729, Train MAE = 0.58720, Train Acc = 0.82887\n",
      "Val Loss = 0.16930, Val MSE = 0.68724, Val MAE = 0.63640, Val Acc = 0.79860\n"
     ]
    },
    {
     "name": "stderr",
     "output_type": "stream",
     "text": [
      "Epoch 216/512: 100%|████████████████████████████████████████████████████████████████████| 910/910 [00:45<00:00, 20.21it/s]\n"
     ]
    },
    {
     "name": "stdout",
     "output_type": "stream",
     "text": [
      "Epoch 216/512: \n",
      "Train Loss = 0.14155, Train MSE = 0.56944, Train MAE = 0.58809, Train Acc = 0.82634\n",
      "Val Loss = 0.15950, Val MSE = 0.64672, Val MAE = 0.61488, Val Acc = 0.80877\n"
     ]
    },
    {
     "name": "stderr",
     "output_type": "stream",
     "text": [
      "Epoch 217/512: 100%|████████████████████████████████████████████████████████████████████| 910/910 [00:44<00:00, 20.27it/s]\n"
     ]
    },
    {
     "name": "stdout",
     "output_type": "stream",
     "text": [
      "Epoch 217/512: \n",
      "Train Loss = 0.14146, Train MSE = 0.56902, Train MAE = 0.58791, Train Acc = 0.82717\n",
      "Val Loss = 0.15567, Val MSE = 0.63068, Val MAE = 0.60622, Val Acc = 0.81345\n"
     ]
    },
    {
     "name": "stderr",
     "output_type": "stream",
     "text": [
      "Epoch 218/512: 100%|████████████████████████████████████████████████████████████████████| 910/910 [00:45<00:00, 20.20it/s]\n"
     ]
    },
    {
     "name": "stdout",
     "output_type": "stream",
     "text": [
      "Epoch 218/512: \n",
      "Train Loss = 0.14081, Train MSE = 0.56633, Train MAE = 0.58736, Train Acc = 0.82779\n",
      "Val Loss = 0.16297, Val MSE = 0.66070, Val MAE = 0.61965, Val Acc = 0.81125\n"
     ]
    },
    {
     "name": "stderr",
     "output_type": "stream",
     "text": [
      "Epoch 219/512: 100%|████████████████████████████████████████████████████████████████████| 910/910 [00:44<00:00, 20.22it/s]\n"
     ]
    },
    {
     "name": "stdout",
     "output_type": "stream",
     "text": [
      "Epoch 219/512: \n",
      "Train Loss = 0.14027, Train MSE = 0.56393, Train MAE = 0.58646, Train Acc = 0.82706\n",
      "Val Loss = 0.16028, Val MSE = 0.64882, Val MAE = 0.61585, Val Acc = 0.81427\n"
     ]
    },
    {
     "name": "stderr",
     "output_type": "stream",
     "text": [
      "Epoch 220/512: 100%|████████████████████████████████████████████████████████████████████| 910/910 [00:44<00:00, 20.35it/s]\n"
     ]
    },
    {
     "name": "stdout",
     "output_type": "stream",
     "text": [
      "Epoch 220/512: \n",
      "Train Loss = 0.14051, Train MSE = 0.56521, Train MAE = 0.58652, Train Acc = 0.82870\n",
      "Val Loss = 0.16019, Val MSE = 0.64875, Val MAE = 0.61473, Val Acc = 0.80850\n"
     ]
    },
    {
     "name": "stderr",
     "output_type": "stream",
     "text": [
      "Epoch 221/512: 100%|████████████████████████████████████████████████████████████████████| 910/910 [00:44<00:00, 20.26it/s]\n"
     ]
    },
    {
     "name": "stdout",
     "output_type": "stream",
     "text": [
      "Epoch 221/512: \n",
      "Train Loss = 0.14096, Train MSE = 0.56712, Train MAE = 0.58651, Train Acc = 0.82761\n",
      "Val Loss = 0.16422, Val MSE = 0.66520, Val MAE = 0.62550, Val Acc = 0.80506\n"
     ]
    },
    {
     "name": "stderr",
     "output_type": "stream",
     "text": [
      "Epoch 222/512: 100%|████████████████████████████████████████████████████████████████████| 910/910 [00:44<00:00, 20.35it/s]\n"
     ]
    },
    {
     "name": "stdout",
     "output_type": "stream",
     "text": [
      "Epoch 222/512: \n",
      "Train Loss = 0.14006, Train MSE = 0.56316, Train MAE = 0.58615, Train Acc = 0.83012\n",
      "Val Loss = 0.16684, Val MSE = 0.67647, Val MAE = 0.62890, Val Acc = 0.79942\n"
     ]
    },
    {
     "name": "stderr",
     "output_type": "stream",
     "text": [
      "Epoch 223/512: 100%|████████████████████████████████████████████████████████████████████| 910/910 [00:44<00:00, 20.28it/s]\n"
     ]
    },
    {
     "name": "stdout",
     "output_type": "stream",
     "text": [
      "Epoch 223/512: \n",
      "Train Loss = 0.14020, Train MSE = 0.56401, Train MAE = 0.58548, Train Acc = 0.82799\n",
      "Val Loss = 0.15806, Val MSE = 0.63999, Val MAE = 0.61263, Val Acc = 0.81303\n"
     ]
    },
    {
     "name": "stderr",
     "output_type": "stream",
     "text": [
      "Epoch 224/512: 100%|████████████████████████████████████████████████████████████████████| 910/910 [00:44<00:00, 20.31it/s]\n"
     ]
    },
    {
     "name": "stdout",
     "output_type": "stream",
     "text": [
      "Epoch 224/512: \n",
      "Train Loss = 0.14041, Train MSE = 0.56465, Train MAE = 0.58613, Train Acc = 0.82722\n",
      "Val Loss = 0.16234, Val MSE = 0.65880, Val MAE = 0.62029, Val Acc = 0.81028\n"
     ]
    },
    {
     "name": "stderr",
     "output_type": "stream",
     "text": [
      "Epoch 225/512: 100%|████████████████████████████████████████████████████████████████████| 910/910 [00:44<00:00, 20.28it/s]\n"
     ]
    },
    {
     "name": "stdout",
     "output_type": "stream",
     "text": [
      "Epoch 225/512: \n",
      "Train Loss = 0.13902, Train MSE = 0.55901, Train MAE = 0.58280, Train Acc = 0.83005\n",
      "Val Loss = 0.15779, Val MSE = 0.63874, Val MAE = 0.60968, Val Acc = 0.81537\n"
     ]
    },
    {
     "name": "stderr",
     "output_type": "stream",
     "text": [
      "Epoch 226/512: 100%|████████████████████████████████████████████████████████████████████| 910/910 [00:44<00:00, 20.23it/s]\n"
     ]
    },
    {
     "name": "stdout",
     "output_type": "stream",
     "text": [
      "Epoch 226/512: \n",
      "Train Loss = 0.13882, Train MSE = 0.55854, Train MAE = 0.58159, Train Acc = 0.83071\n",
      "Val Loss = 0.16052, Val MSE = 0.65068, Val MAE = 0.61804, Val Acc = 0.81290\n"
     ]
    },
    {
     "name": "stderr",
     "output_type": "stream",
     "text": [
      "Epoch 227/512: 100%|████████████████████████████████████████████████████████████████████| 910/910 [00:44<00:00, 20.26it/s]\n"
     ]
    },
    {
     "name": "stdout",
     "output_type": "stream",
     "text": [
      "Epoch 227/512: \n",
      "Train Loss = 0.14046, Train MSE = 0.56479, Train MAE = 0.58668, Train Acc = 0.82868\n",
      "Val Loss = 0.15429, Val MSE = 0.62454, Val MAE = 0.60489, Val Acc = 0.81963\n"
     ]
    },
    {
     "name": "stderr",
     "output_type": "stream",
     "text": [
      "Epoch 228/512: 100%|████████████████████████████████████████████████████████████████████| 910/910 [00:44<00:00, 20.25it/s]\n"
     ]
    },
    {
     "name": "stdout",
     "output_type": "stream",
     "text": [
      "Epoch 228/512: \n",
      "Train Loss = 0.13891, Train MSE = 0.55873, Train MAE = 0.58293, Train Acc = 0.82854\n",
      "Val Loss = 0.15833, Val MSE = 0.64143, Val MAE = 0.61209, Val Acc = 0.81303\n"
     ]
    },
    {
     "name": "stderr",
     "output_type": "stream",
     "text": [
      "Epoch 229/512: 100%|████████████████████████████████████████████████████████████████████| 910/910 [00:44<00:00, 20.32it/s]\n"
     ]
    },
    {
     "name": "stdout",
     "output_type": "stream",
     "text": [
      "Epoch 229/512: \n",
      "Train Loss = 0.14047, Train MSE = 0.56497, Train MAE = 0.58648, Train Acc = 0.82840\n",
      "Val Loss = 0.15566, Val MSE = 0.62994, Val MAE = 0.60770, Val Acc = 0.81991\n"
     ]
    },
    {
     "name": "stderr",
     "output_type": "stream",
     "text": [
      "Epoch 230/512: 100%|████████████████████████████████████████████████████████████████████| 910/910 [00:44<00:00, 20.33it/s]\n"
     ]
    },
    {
     "name": "stdout",
     "output_type": "stream",
     "text": [
      "Epoch 230/512: \n",
      "Train Loss = 0.13871, Train MSE = 0.55809, Train MAE = 0.58160, Train Acc = 0.83016\n",
      "Val Loss = 0.15936, Val MSE = 0.64558, Val MAE = 0.61344, Val Acc = 0.81262\n"
     ]
    },
    {
     "name": "stderr",
     "output_type": "stream",
     "text": [
      "Epoch 231/512: 100%|████████████████████████████████████████████████████████████████████| 910/910 [00:44<00:00, 20.37it/s]\n"
     ]
    },
    {
     "name": "stdout",
     "output_type": "stream",
     "text": [
      "Epoch 231/512: \n",
      "Train Loss = 0.13960, Train MSE = 0.56161, Train MAE = 0.58251, Train Acc = 0.83033\n",
      "Val Loss = 0.15355, Val MSE = 0.62123, Val MAE = 0.60372, Val Acc = 0.81729\n"
     ]
    },
    {
     "name": "stderr",
     "output_type": "stream",
     "text": [
      "Epoch 232/512: 100%|████████████████████████████████████████████████████████████████████| 910/910 [00:44<00:00, 20.29it/s]\n"
     ]
    },
    {
     "name": "stdout",
     "output_type": "stream",
     "text": [
      "Epoch 232/512: \n",
      "Train Loss = 0.13839, Train MSE = 0.55642, Train MAE = 0.58245, Train Acc = 0.82978\n",
      "Val Loss = 0.15505, Val MSE = 0.62739, Val MAE = 0.60605, Val Acc = 0.81771\n"
     ]
    },
    {
     "name": "stderr",
     "output_type": "stream",
     "text": [
      "Epoch 233/512: 100%|████████████████████████████████████████████████████████████████████| 910/910 [00:44<00:00, 20.35it/s]\n"
     ]
    },
    {
     "name": "stdout",
     "output_type": "stream",
     "text": [
      "Epoch 233/512: \n",
      "Train Loss = 0.13864, Train MSE = 0.55760, Train MAE = 0.58211, Train Acc = 0.83234\n",
      "Val Loss = 0.17051, Val MSE = 0.69055, Val MAE = 0.63751, Val Acc = 0.79695\n"
     ]
    },
    {
     "name": "stderr",
     "output_type": "stream",
     "text": [
      "Epoch 234/512: 100%|████████████████████████████████████████████████████████████████████| 910/910 [00:44<00:00, 20.38it/s]\n"
     ]
    },
    {
     "name": "stdout",
     "output_type": "stream",
     "text": [
      "Epoch 234/512: \n",
      "Train Loss = 0.13834, Train MSE = 0.55634, Train MAE = 0.58205, Train Acc = 0.83143\n",
      "Val Loss = 0.16173, Val MSE = 0.65566, Val MAE = 0.61850, Val Acc = 0.80795\n"
     ]
    },
    {
     "name": "stderr",
     "output_type": "stream",
     "text": [
      "Epoch 235/512: 100%|████████████████████████████████████████████████████████████████████| 910/910 [00:44<00:00, 20.25it/s]\n"
     ]
    },
    {
     "name": "stdout",
     "output_type": "stream",
     "text": [
      "Epoch 235/512: \n",
      "Train Loss = 0.13967, Train MSE = 0.56163, Train MAE = 0.58412, Train Acc = 0.82782\n",
      "Val Loss = 0.15582, Val MSE = 0.63045, Val MAE = 0.61067, Val Acc = 0.81578\n"
     ]
    },
    {
     "name": "stderr",
     "output_type": "stream",
     "text": [
      "Epoch 236/512: 100%|████████████████████████████████████████████████████████████████████| 910/910 [00:44<00:00, 20.29it/s]\n"
     ]
    },
    {
     "name": "stdout",
     "output_type": "stream",
     "text": [
      "Epoch 236/512: \n",
      "Train Loss = 0.13849, Train MSE = 0.55690, Train MAE = 0.58155, Train Acc = 0.83083\n",
      "Val Loss = 0.15757, Val MSE = 0.63826, Val MAE = 0.61117, Val Acc = 0.81564\n"
     ]
    },
    {
     "name": "stderr",
     "output_type": "stream",
     "text": [
      "Epoch 237/512: 100%|████████████████████████████████████████████████████████████████████| 910/910 [00:44<00:00, 20.37it/s]\n"
     ]
    },
    {
     "name": "stdout",
     "output_type": "stream",
     "text": [
      "Epoch 237/512: \n",
      "Train Loss = 0.13797, Train MSE = 0.55480, Train MAE = 0.58072, Train Acc = 0.83313\n",
      "Val Loss = 0.15708, Val MSE = 0.63550, Val MAE = 0.61055, Val Acc = 0.81290\n"
     ]
    },
    {
     "name": "stderr",
     "output_type": "stream",
     "text": [
      "Epoch 238/512: 100%|████████████████████████████████████████████████████████████████████| 910/910 [00:44<00:00, 20.28it/s]\n"
     ]
    },
    {
     "name": "stdout",
     "output_type": "stream",
     "text": [
      "Epoch 238/512: \n",
      "Train Loss = 0.13817, Train MSE = 0.55540, Train MAE = 0.58161, Train Acc = 0.83100\n",
      "Val Loss = 0.16152, Val MSE = 0.65437, Val MAE = 0.61789, Val Acc = 0.80850\n"
     ]
    },
    {
     "name": "stderr",
     "output_type": "stream",
     "text": [
      "Epoch 239/512: 100%|████████████████████████████████████████████████████████████████████| 910/910 [00:44<00:00, 20.28it/s]\n"
     ]
    },
    {
     "name": "stdout",
     "output_type": "stream",
     "text": [
      "Epoch 239/512: \n",
      "Train Loss = 0.13768, Train MSE = 0.55347, Train MAE = 0.58039, Train Acc = 0.83279\n",
      "Val Loss = 0.15705, Val MSE = 0.63663, Val MAE = 0.60818, Val Acc = 0.81441\n"
     ]
    },
    {
     "name": "stderr",
     "output_type": "stream",
     "text": [
      "Epoch 240/512: 100%|████████████████████████████████████████████████████████████████████| 910/910 [00:44<00:00, 20.38it/s]\n"
     ]
    },
    {
     "name": "stdout",
     "output_type": "stream",
     "text": [
      "Epoch 240/512: \n",
      "Train Loss = 0.13827, Train MSE = 0.55605, Train MAE = 0.58148, Train Acc = 0.83354\n",
      "Val Loss = 0.16225, Val MSE = 0.65747, Val MAE = 0.62265, Val Acc = 0.80341\n"
     ]
    },
    {
     "name": "stderr",
     "output_type": "stream",
     "text": [
      "Epoch 241/512: 100%|████████████████████████████████████████████████████████████████████| 910/910 [00:44<00:00, 20.30it/s]\n"
     ]
    },
    {
     "name": "stdout",
     "output_type": "stream",
     "text": [
      "Epoch 241/512: \n",
      "Train Loss = 0.13879, Train MSE = 0.55806, Train MAE = 0.58329, Train Acc = 0.83119\n",
      "Val Loss = 0.15840, Val MSE = 0.64179, Val MAE = 0.61144, Val Acc = 0.81207\n"
     ]
    },
    {
     "name": "stderr",
     "output_type": "stream",
     "text": [
      "Epoch 242/512: 100%|████████████████████████████████████████████████████████████████████| 910/910 [00:44<00:00, 20.37it/s]\n"
     ]
    },
    {
     "name": "stdout",
     "output_type": "stream",
     "text": [
      "Epoch 242/512: \n",
      "Train Loss = 0.13872, Train MSE = 0.55793, Train MAE = 0.58116, Train Acc = 0.83145\n",
      "Val Loss = 0.15525, Val MSE = 0.62807, Val MAE = 0.60441, Val Acc = 0.81757\n"
     ]
    },
    {
     "name": "stderr",
     "output_type": "stream",
     "text": [
      "Epoch 243/512: 100%|████████████████████████████████████████████████████████████████████| 910/910 [00:44<00:00, 20.37it/s]\n"
     ]
    },
    {
     "name": "stdout",
     "output_type": "stream",
     "text": [
      "Epoch 243/512: \n",
      "Train Loss = 0.13839, Train MSE = 0.55666, Train MAE = 0.58150, Train Acc = 0.83067\n",
      "Val Loss = 0.15907, Val MSE = 0.64396, Val MAE = 0.61173, Val Acc = 0.81468\n"
     ]
    },
    {
     "name": "stderr",
     "output_type": "stream",
     "text": [
      "Epoch 244/512: 100%|████████████████████████████████████████████████████████████████████| 910/910 [00:44<00:00, 20.35it/s]\n"
     ]
    },
    {
     "name": "stdout",
     "output_type": "stream",
     "text": [
      "Epoch 244/512: \n",
      "Train Loss = 0.13709, Train MSE = 0.55126, Train MAE = 0.57844, Train Acc = 0.83428\n",
      "Val Loss = 0.15789, Val MSE = 0.64041, Val MAE = 0.61108, Val Acc = 0.81606\n"
     ]
    },
    {
     "name": "stderr",
     "output_type": "stream",
     "text": [
      "Epoch 245/512: 100%|████████████████████████████████████████████████████████████████████| 910/910 [00:44<00:00, 20.37it/s]\n"
     ]
    },
    {
     "name": "stdout",
     "output_type": "stream",
     "text": [
      "Epoch 245/512: \n",
      "Train Loss = 0.13729, Train MSE = 0.55198, Train MAE = 0.57874, Train Acc = 0.83272\n",
      "Val Loss = 0.16516, Val MSE = 0.66997, Val MAE = 0.62495, Val Acc = 0.80987\n"
     ]
    },
    {
     "name": "stderr",
     "output_type": "stream",
     "text": [
      "Epoch 246/512: 100%|████████████████████████████████████████████████████████████████████| 910/910 [00:44<00:00, 20.34it/s]\n"
     ]
    },
    {
     "name": "stdout",
     "output_type": "stream",
     "text": [
      "Epoch 246/512: \n",
      "Train Loss = 0.13702, Train MSE = 0.55098, Train MAE = 0.57903, Train Acc = 0.83335\n",
      "Val Loss = 0.15760, Val MSE = 0.63816, Val MAE = 0.61261, Val Acc = 0.81454\n"
     ]
    },
    {
     "name": "stderr",
     "output_type": "stream",
     "text": [
      "Epoch 247/512: 100%|████████████████████████████████████████████████████████████████████| 910/910 [00:44<00:00, 20.29it/s]\n"
     ]
    },
    {
     "name": "stdout",
     "output_type": "stream",
     "text": [
      "Epoch 247/512: \n",
      "Train Loss = 0.13709, Train MSE = 0.55118, Train MAE = 0.57911, Train Acc = 0.83277\n",
      "Val Loss = 0.15854, Val MSE = 0.64267, Val MAE = 0.61236, Val Acc = 0.80685\n"
     ]
    },
    {
     "name": "stderr",
     "output_type": "stream",
     "text": [
      "Epoch 248/512: 100%|████████████████████████████████████████████████████████████████████| 910/910 [00:44<00:00, 20.31it/s]\n"
     ]
    },
    {
     "name": "stdout",
     "output_type": "stream",
     "text": [
      "Epoch 248/512: \n",
      "Train Loss = 0.13705, Train MSE = 0.55112, Train MAE = 0.57842, Train Acc = 0.83408\n",
      "Val Loss = 0.15348, Val MSE = 0.62057, Val MAE = 0.60205, Val Acc = 0.81798\n"
     ]
    },
    {
     "name": "stderr",
     "output_type": "stream",
     "text": [
      "Epoch 249/512: 100%|████████████████████████████████████████████████████████████████████| 910/910 [00:44<00:00, 20.32it/s]\n"
     ]
    },
    {
     "name": "stdout",
     "output_type": "stream",
     "text": [
      "Epoch 249/512: \n",
      "Train Loss = 0.13721, Train MSE = 0.55164, Train MAE = 0.57939, Train Acc = 0.83371\n",
      "Val Loss = 0.15459, Val MSE = 0.62515, Val MAE = 0.60458, Val Acc = 0.81523\n"
     ]
    },
    {
     "name": "stderr",
     "output_type": "stream",
     "text": [
      "Epoch 250/512: 100%|████████████████████████████████████████████████████████████████████| 910/910 [00:44<00:00, 20.31it/s]\n"
     ]
    },
    {
     "name": "stdout",
     "output_type": "stream",
     "text": [
      "Epoch 250/512: \n",
      "Train Loss = 0.13735, Train MSE = 0.55251, Train MAE = 0.57923, Train Acc = 0.83373\n",
      "Val Loss = 0.15633, Val MSE = 0.63260, Val MAE = 0.60892, Val Acc = 0.81345\n"
     ]
    },
    {
     "name": "stderr",
     "output_type": "stream",
     "text": [
      "Epoch 251/512: 100%|████████████████████████████████████████████████████████████████████| 910/910 [00:44<00:00, 20.29it/s]\n"
     ]
    },
    {
     "name": "stdout",
     "output_type": "stream",
     "text": [
      "Epoch 251/512: \n",
      "Train Loss = 0.13742, Train MSE = 0.55273, Train MAE = 0.57909, Train Acc = 0.83316\n",
      "Val Loss = 0.15658, Val MSE = 0.63368, Val MAE = 0.60752, Val Acc = 0.81564\n"
     ]
    },
    {
     "name": "stderr",
     "output_type": "stream",
     "text": [
      "Epoch 252/512: 100%|████████████████████████████████████████████████████████████████████| 910/910 [00:44<00:00, 20.26it/s]\n"
     ]
    },
    {
     "name": "stdout",
     "output_type": "stream",
     "text": [
      "Epoch 252/512: \n",
      "Train Loss = 0.13714, Train MSE = 0.55151, Train MAE = 0.57923, Train Acc = 0.83306\n",
      "Val Loss = 0.15517, Val MSE = 0.62749, Val MAE = 0.60423, Val Acc = 0.81881\n"
     ]
    },
    {
     "name": "stderr",
     "output_type": "stream",
     "text": [
      "Epoch 253/512: 100%|████████████████████████████████████████████████████████████████████| 910/910 [00:45<00:00, 20.21it/s]\n"
     ]
    },
    {
     "name": "stdout",
     "output_type": "stream",
     "text": [
      "Epoch 253/512: \n",
      "Train Loss = 0.13736, Train MSE = 0.55256, Train MAE = 0.57909, Train Acc = 0.83320\n",
      "Val Loss = 0.15327, Val MSE = 0.62017, Val MAE = 0.60364, Val Acc = 0.82059\n"
     ]
    },
    {
     "name": "stderr",
     "output_type": "stream",
     "text": [
      "Epoch 254/512: 100%|████████████████████████████████████████████████████████████████████| 910/910 [00:44<00:00, 20.30it/s]\n"
     ]
    },
    {
     "name": "stdout",
     "output_type": "stream",
     "text": [
      "Epoch 254/512: \n",
      "Train Loss = 0.13649, Train MSE = 0.54868, Train MAE = 0.57704, Train Acc = 0.83322\n",
      "Val Loss = 0.16335, Val MSE = 0.66218, Val MAE = 0.62332, Val Acc = 0.80685\n"
     ]
    },
    {
     "name": "stderr",
     "output_type": "stream",
     "text": [
      "Epoch 255/512: 100%|████████████████████████████████████████████████████████████████████| 910/910 [00:44<00:00, 20.31it/s]\n"
     ]
    },
    {
     "name": "stdout",
     "output_type": "stream",
     "text": [
      "Epoch 255/512: \n",
      "Train Loss = 0.13597, Train MSE = 0.54657, Train MAE = 0.57612, Train Acc = 0.83444\n",
      "Val Loss = 0.15576, Val MSE = 0.63120, Val MAE = 0.60544, Val Acc = 0.81661\n"
     ]
    },
    {
     "name": "stderr",
     "output_type": "stream",
     "text": [
      "Epoch 256/512: 100%|████████████████████████████████████████████████████████████████████| 910/910 [00:44<00:00, 20.28it/s]\n"
     ]
    },
    {
     "name": "stdout",
     "output_type": "stream",
     "text": [
      "Epoch 256/512: \n",
      "Train Loss = 0.13598, Train MSE = 0.54678, Train MAE = 0.57679, Train Acc = 0.83727\n",
      "Val Loss = 0.15845, Val MSE = 0.64208, Val MAE = 0.60822, Val Acc = 0.81537\n"
     ]
    },
    {
     "name": "stderr",
     "output_type": "stream",
     "text": [
      "Epoch 257/512: 100%|████████████████████████████████████████████████████████████████████| 910/910 [00:44<00:00, 20.30it/s]\n"
     ]
    },
    {
     "name": "stdout",
     "output_type": "stream",
     "text": [
      "Epoch 257/512: \n",
      "Train Loss = 0.13719, Train MSE = 0.55186, Train MAE = 0.57880, Train Acc = 0.83299\n",
      "Val Loss = 0.15774, Val MSE = 0.63855, Val MAE = 0.61195, Val Acc = 0.81400\n"
     ]
    },
    {
     "name": "stderr",
     "output_type": "stream",
     "text": [
      "Epoch 258/512: 100%|████████████████████████████████████████████████████████████████████| 910/910 [00:44<00:00, 20.29it/s]\n"
     ]
    },
    {
     "name": "stdout",
     "output_type": "stream",
     "text": [
      "Epoch 258/512: \n",
      "Train Loss = 0.13552, Train MSE = 0.54499, Train MAE = 0.57553, Train Acc = 0.83528\n",
      "Val Loss = 0.15471, Val MSE = 0.62668, Val MAE = 0.60439, Val Acc = 0.82059\n"
     ]
    },
    {
     "name": "stderr",
     "output_type": "stream",
     "text": [
      "Epoch 259/512: 100%|████████████████████████████████████████████████████████████████████| 910/910 [00:44<00:00, 20.26it/s]\n"
     ]
    },
    {
     "name": "stdout",
     "output_type": "stream",
     "text": [
      "Epoch 259/512: \n",
      "Train Loss = 0.13646, Train MSE = 0.54872, Train MAE = 0.57581, Train Acc = 0.83432\n",
      "Val Loss = 0.16080, Val MSE = 0.65091, Val MAE = 0.61691, Val Acc = 0.81235\n"
     ]
    },
    {
     "name": "stderr",
     "output_type": "stream",
     "text": [
      "Epoch 260/512: 100%|████████████████████████████████████████████████████████████████████| 910/910 [00:44<00:00, 20.29it/s]\n"
     ]
    },
    {
     "name": "stdout",
     "output_type": "stream",
     "text": [
      "Epoch 260/512: \n",
      "Train Loss = 0.13517, Train MSE = 0.54344, Train MAE = 0.57477, Train Acc = 0.83557\n",
      "Val Loss = 0.15658, Val MSE = 0.63445, Val MAE = 0.60910, Val Acc = 0.81427\n"
     ]
    },
    {
     "name": "stderr",
     "output_type": "stream",
     "text": [
      "Epoch 261/512: 100%|████████████████████████████████████████████████████████████████████| 910/910 [00:44<00:00, 20.35it/s]\n"
     ]
    },
    {
     "name": "stdout",
     "output_type": "stream",
     "text": [
      "Epoch 261/512: \n",
      "Train Loss = 0.13597, Train MSE = 0.54694, Train MAE = 0.57549, Train Acc = 0.83619\n",
      "Val Loss = 0.15464, Val MSE = 0.62657, Val MAE = 0.60375, Val Acc = 0.82101\n"
     ]
    },
    {
     "name": "stderr",
     "output_type": "stream",
     "text": [
      "Epoch 262/512: 100%|████████████████████████████████████████████████████████████████████| 910/910 [00:44<00:00, 20.30it/s]\n"
     ]
    },
    {
     "name": "stdout",
     "output_type": "stream",
     "text": [
      "Epoch 262/512: \n",
      "Train Loss = 0.13504, Train MSE = 0.54289, Train MAE = 0.57495, Train Acc = 0.83560\n",
      "Val Loss = 0.16060, Val MSE = 0.65086, Val MAE = 0.61586, Val Acc = 0.80918\n"
     ]
    },
    {
     "name": "stderr",
     "output_type": "stream",
     "text": [
      "Epoch 263/512: 100%|████████████████████████████████████████████████████████████████████| 910/910 [00:44<00:00, 20.31it/s]\n"
     ]
    },
    {
     "name": "stdout",
     "output_type": "stream",
     "text": [
      "Epoch 263/512: \n",
      "Train Loss = 0.13650, Train MSE = 0.54866, Train MAE = 0.57784, Train Acc = 0.83320\n",
      "Val Loss = 0.15079, Val MSE = 0.60947, Val MAE = 0.59898, Val Acc = 0.81991\n"
     ]
    },
    {
     "name": "stderr",
     "output_type": "stream",
     "text": [
      "Epoch 264/512: 100%|████████████████████████████████████████████████████████████████████| 910/910 [00:44<00:00, 20.36it/s]\n"
     ]
    },
    {
     "name": "stdout",
     "output_type": "stream",
     "text": [
      "Epoch 264/512: \n",
      "Train Loss = 0.13613, Train MSE = 0.54736, Train MAE = 0.57661, Train Acc = 0.83332\n",
      "Val Loss = 0.15497, Val MSE = 0.62728, Val MAE = 0.60545, Val Acc = 0.81482\n"
     ]
    },
    {
     "name": "stderr",
     "output_type": "stream",
     "text": [
      "Epoch 265/512: 100%|████████████████████████████████████████████████████████████████████| 910/910 [00:44<00:00, 20.42it/s]\n"
     ]
    },
    {
     "name": "stdout",
     "output_type": "stream",
     "text": [
      "Epoch 265/512: \n",
      "Train Loss = 0.13495, Train MSE = 0.54259, Train MAE = 0.57356, Train Acc = 0.83660\n",
      "Val Loss = 0.15353, Val MSE = 0.62078, Val MAE = 0.60420, Val Acc = 0.81729\n"
     ]
    },
    {
     "name": "stderr",
     "output_type": "stream",
     "text": [
      "Epoch 266/512: 100%|████████████████████████████████████████████████████████████████████| 910/910 [00:44<00:00, 20.30it/s]\n"
     ]
    },
    {
     "name": "stdout",
     "output_type": "stream",
     "text": [
      "Epoch 266/512: \n",
      "Train Loss = 0.13494, Train MSE = 0.54232, Train MAE = 0.57463, Train Acc = 0.83652\n",
      "Val Loss = 0.15015, Val MSE = 0.60752, Val MAE = 0.59494, Val Acc = 0.82403\n"
     ]
    },
    {
     "name": "stderr",
     "output_type": "stream",
     "text": [
      "Epoch 267/512: 100%|████████████████████████████████████████████████████████████████████| 910/910 [00:44<00:00, 20.28it/s]\n"
     ]
    },
    {
     "name": "stdout",
     "output_type": "stream",
     "text": [
      "Epoch 267/512: \n",
      "Train Loss = 0.13593, Train MSE = 0.54671, Train MAE = 0.57574, Train Acc = 0.83473\n",
      "Val Loss = 0.15778, Val MSE = 0.63884, Val MAE = 0.60895, Val Acc = 0.81716\n"
     ]
    },
    {
     "name": "stderr",
     "output_type": "stream",
     "text": [
      "Epoch 268/512: 100%|████████████████████████████████████████████████████████████████████| 910/910 [00:45<00:00, 20.18it/s]\n"
     ]
    },
    {
     "name": "stdout",
     "output_type": "stream",
     "text": [
      "Epoch 268/512: \n",
      "Train Loss = 0.13473, Train MSE = 0.54157, Train MAE = 0.57434, Train Acc = 0.83688\n",
      "Val Loss = 0.15340, Val MSE = 0.62120, Val MAE = 0.60171, Val Acc = 0.81936\n"
     ]
    },
    {
     "name": "stderr",
     "output_type": "stream",
     "text": [
      "Epoch 269/512: 100%|████████████████████████████████████████████████████████████████████| 910/910 [00:44<00:00, 20.31it/s]\n"
     ]
    },
    {
     "name": "stdout",
     "output_type": "stream",
     "text": [
      "Epoch 269/512: \n",
      "Train Loss = 0.13456, Train MSE = 0.54089, Train MAE = 0.57303, Train Acc = 0.83564\n",
      "Val Loss = 0.15061, Val MSE = 0.60999, Val MAE = 0.59529, Val Acc = 0.82114\n"
     ]
    },
    {
     "name": "stderr",
     "output_type": "stream",
     "text": [
      "Epoch 270/512: 100%|████████████████████████████████████████████████████████████████████| 910/910 [00:44<00:00, 20.39it/s]\n"
     ]
    },
    {
     "name": "stdout",
     "output_type": "stream",
     "text": [
      "Epoch 270/512: \n",
      "Train Loss = 0.13536, Train MSE = 0.54424, Train MAE = 0.57497, Train Acc = 0.83693\n",
      "Val Loss = 0.15505, Val MSE = 0.62773, Val MAE = 0.60394, Val Acc = 0.81936\n"
     ]
    },
    {
     "name": "stderr",
     "output_type": "stream",
     "text": [
      "Epoch 271/512: 100%|████████████████████████████████████████████████████████████████████| 910/910 [00:44<00:00, 20.22it/s]\n"
     ]
    },
    {
     "name": "stdout",
     "output_type": "stream",
     "text": [
      "Epoch 271/512: \n",
      "Train Loss = 0.13455, Train MSE = 0.54079, Train MAE = 0.57271, Train Acc = 0.83665\n",
      "Val Loss = 0.15293, Val MSE = 0.61817, Val MAE = 0.60237, Val Acc = 0.81496\n"
     ]
    },
    {
     "name": "stderr",
     "output_type": "stream",
     "text": [
      "Epoch 272/512: 100%|████████████████████████████████████████████████████████████████████| 910/910 [00:44<00:00, 20.29it/s]\n"
     ]
    },
    {
     "name": "stdout",
     "output_type": "stream",
     "text": [
      "Epoch 272/512: \n",
      "Train Loss = 0.13505, Train MSE = 0.54294, Train MAE = 0.57454, Train Acc = 0.83696\n",
      "Val Loss = 0.15642, Val MSE = 0.63293, Val MAE = 0.60769, Val Acc = 0.81427\n"
     ]
    },
    {
     "name": "stderr",
     "output_type": "stream",
     "text": [
      "Epoch 273/512: 100%|████████████████████████████████████████████████████████████████████| 910/910 [00:44<00:00, 20.28it/s]\n"
     ]
    },
    {
     "name": "stdout",
     "output_type": "stream",
     "text": [
      "Epoch 273/512: \n",
      "Train Loss = 0.13433, Train MSE = 0.54015, Train MAE = 0.57143, Train Acc = 0.83830\n",
      "Val Loss = 0.15650, Val MSE = 0.63347, Val MAE = 0.60676, Val Acc = 0.81248\n"
     ]
    },
    {
     "name": "stderr",
     "output_type": "stream",
     "text": [
      "Epoch 274/512: 100%|████████████████████████████████████████████████████████████████████| 910/910 [00:45<00:00, 20.18it/s]\n"
     ]
    },
    {
     "name": "stdout",
     "output_type": "stream",
     "text": [
      "Epoch 274/512: \n",
      "Train Loss = 0.13394, Train MSE = 0.53848, Train MAE = 0.57060, Train Acc = 0.83808\n",
      "Val Loss = 0.15516, Val MSE = 0.62716, Val MAE = 0.60631, Val Acc = 0.81963\n"
     ]
    },
    {
     "name": "stderr",
     "output_type": "stream",
     "text": [
      "Epoch 275/512: 100%|████████████████████████████████████████████████████████████████████| 910/910 [00:44<00:00, 20.35it/s]\n"
     ]
    },
    {
     "name": "stdout",
     "output_type": "stream",
     "text": [
      "Epoch 275/512: \n",
      "Train Loss = 0.13493, Train MSE = 0.54243, Train MAE = 0.57373, Train Acc = 0.83695\n",
      "Val Loss = 0.15606, Val MSE = 0.63171, Val MAE = 0.60717, Val Acc = 0.81386\n"
     ]
    },
    {
     "name": "stderr",
     "output_type": "stream",
     "text": [
      "Epoch 276/512: 100%|████████████████████████████████████████████████████████████████████| 910/910 [00:44<00:00, 20.26it/s]\n"
     ]
    },
    {
     "name": "stdout",
     "output_type": "stream",
     "text": [
      "Epoch 276/512: \n",
      "Train Loss = 0.13417, Train MSE = 0.53934, Train MAE = 0.57111, Train Acc = 0.83588\n",
      "Val Loss = 0.14916, Val MSE = 0.60312, Val MAE = 0.59390, Val Acc = 0.82334\n"
     ]
    },
    {
     "name": "stderr",
     "output_type": "stream",
     "text": [
      "Epoch 277/512: 100%|████████████████████████████████████████████████████████████████████| 910/910 [00:44<00:00, 20.51it/s]\n"
     ]
    },
    {
     "name": "stdout",
     "output_type": "stream",
     "text": [
      "Epoch 277/512: \n",
      "Train Loss = 0.13327, Train MSE = 0.53580, Train MAE = 0.57021, Train Acc = 0.83846\n",
      "Val Loss = 0.16207, Val MSE = 0.65599, Val MAE = 0.61951, Val Acc = 0.80478\n"
     ]
    },
    {
     "name": "stderr",
     "output_type": "stream",
     "text": [
      "Epoch 278/512: 100%|████████████████████████████████████████████████████████████████████| 910/910 [00:44<00:00, 20.28it/s]\n"
     ]
    },
    {
     "name": "stdout",
     "output_type": "stream",
     "text": [
      "Epoch 278/512: \n",
      "Train Loss = 0.13398, Train MSE = 0.53897, Train MAE = 0.57152, Train Acc = 0.83844\n",
      "Val Loss = 0.15602, Val MSE = 0.63214, Val MAE = 0.60528, Val Acc = 0.82004\n"
     ]
    },
    {
     "name": "stderr",
     "output_type": "stream",
     "text": [
      "Epoch 279/512: 100%|████████████████████████████████████████████████████████████████████| 910/910 [00:44<00:00, 20.30it/s]\n"
     ]
    },
    {
     "name": "stdout",
     "output_type": "stream",
     "text": [
      "Epoch 279/512: \n",
      "Train Loss = 0.13284, Train MSE = 0.53399, Train MAE = 0.56957, Train Acc = 0.83870\n",
      "Val Loss = 0.16067, Val MSE = 0.65030, Val MAE = 0.61568, Val Acc = 0.81606\n"
     ]
    },
    {
     "name": "stderr",
     "output_type": "stream",
     "text": [
      "Epoch 280/512: 100%|████████████████████████████████████████████████████████████████████| 910/910 [00:44<00:00, 20.27it/s]\n"
     ]
    },
    {
     "name": "stdout",
     "output_type": "stream",
     "text": [
      "Epoch 280/512: \n",
      "Train Loss = 0.13304, Train MSE = 0.53487, Train MAE = 0.56890, Train Acc = 0.83969\n",
      "Val Loss = 0.15519, Val MSE = 0.62830, Val MAE = 0.60306, Val Acc = 0.81633\n"
     ]
    },
    {
     "name": "stderr",
     "output_type": "stream",
     "text": [
      "Epoch 281/512: 100%|████████████████████████████████████████████████████████████████████| 910/910 [00:44<00:00, 20.29it/s]\n"
     ]
    },
    {
     "name": "stdout",
     "output_type": "stream",
     "text": [
      "Epoch 281/512: \n",
      "Train Loss = 0.13313, Train MSE = 0.53508, Train MAE = 0.57014, Train Acc = 0.83964\n",
      "Val Loss = 0.16420, Val MSE = 0.66566, Val MAE = 0.62275, Val Acc = 0.80547\n"
     ]
    },
    {
     "name": "stderr",
     "output_type": "stream",
     "text": [
      "Epoch 282/512: 100%|████████████████████████████████████████████████████████████████████| 910/910 [00:44<00:00, 20.26it/s]\n"
     ]
    },
    {
     "name": "stdout",
     "output_type": "stream",
     "text": [
      "Epoch 282/512: \n",
      "Train Loss = 0.13411, Train MSE = 0.53922, Train MAE = 0.57175, Train Acc = 0.83767\n",
      "Val Loss = 0.15520, Val MSE = 0.62836, Val MAE = 0.60440, Val Acc = 0.81262\n"
     ]
    },
    {
     "name": "stderr",
     "output_type": "stream",
     "text": [
      "Epoch 283/512: 100%|████████████████████████████████████████████████████████████████████| 910/910 [00:45<00:00, 20.20it/s]\n"
     ]
    },
    {
     "name": "stdout",
     "output_type": "stream",
     "text": [
      "Epoch 283/512: \n",
      "Train Loss = 0.13323, Train MSE = 0.53581, Train MAE = 0.56986, Train Acc = 0.83982\n",
      "Val Loss = 0.16002, Val MSE = 0.64748, Val MAE = 0.61741, Val Acc = 0.80712\n"
     ]
    },
    {
     "name": "stderr",
     "output_type": "stream",
     "text": [
      "Epoch 284/512: 100%|████████████████████████████████████████████████████████████████████| 910/910 [00:44<00:00, 20.26it/s]\n"
     ]
    },
    {
     "name": "stdout",
     "output_type": "stream",
     "text": [
      "Epoch 284/512: \n",
      "Train Loss = 0.13324, Train MSE = 0.53568, Train MAE = 0.57091, Train Acc = 0.83798\n",
      "Val Loss = 0.15470, Val MSE = 0.62703, Val MAE = 0.60401, Val Acc = 0.82073\n"
     ]
    },
    {
     "name": "stderr",
     "output_type": "stream",
     "text": [
      "Epoch 285/512: 100%|████████████████████████████████████████████████████████████████████| 910/910 [00:44<00:00, 20.32it/s]\n"
     ]
    },
    {
     "name": "stdout",
     "output_type": "stream",
     "text": [
      "Epoch 285/512: \n",
      "Train Loss = 0.13307, Train MSE = 0.53504, Train MAE = 0.56914, Train Acc = 0.83928\n",
      "Val Loss = 0.15710, Val MSE = 0.63549, Val MAE = 0.60694, Val Acc = 0.81908\n"
     ]
    },
    {
     "name": "stderr",
     "output_type": "stream",
     "text": [
      "Epoch 286/512: 100%|████████████████████████████████████████████████████████████████████| 910/910 [00:44<00:00, 20.31it/s]\n"
     ]
    },
    {
     "name": "stdout",
     "output_type": "stream",
     "text": [
      "Epoch 286/512: \n",
      "Train Loss = 0.13317, Train MSE = 0.53528, Train MAE = 0.57016, Train Acc = 0.83844\n",
      "Val Loss = 0.15191, Val MSE = 0.61491, Val MAE = 0.59993, Val Acc = 0.81771\n"
     ]
    },
    {
     "name": "stderr",
     "output_type": "stream",
     "text": [
      "Epoch 287/512: 100%|████████████████████████████████████████████████████████████████████| 910/910 [00:44<00:00, 20.22it/s]\n"
     ]
    },
    {
     "name": "stdout",
     "output_type": "stream",
     "text": [
      "Epoch 287/512: \n",
      "Train Loss = 0.13440, Train MSE = 0.54029, Train MAE = 0.57276, Train Acc = 0.83727\n",
      "Val Loss = 0.14952, Val MSE = 0.60463, Val MAE = 0.59391, Val Acc = 0.82169\n"
     ]
    },
    {
     "name": "stderr",
     "output_type": "stream",
     "text": [
      "Epoch 288/512: 100%|████████████████████████████████████████████████████████████████████| 910/910 [00:44<00:00, 20.27it/s]\n"
     ]
    },
    {
     "name": "stdout",
     "output_type": "stream",
     "text": [
      "Epoch 288/512: \n",
      "Train Loss = 0.13321, Train MSE = 0.53556, Train MAE = 0.56925, Train Acc = 0.83823\n",
      "Val Loss = 0.15202, Val MSE = 0.61507, Val MAE = 0.60004, Val Acc = 0.81812\n"
     ]
    },
    {
     "name": "stderr",
     "output_type": "stream",
     "text": [
      "Epoch 289/512: 100%|████████████████████████████████████████████████████████████████████| 910/910 [00:45<00:00, 20.22it/s]\n"
     ]
    },
    {
     "name": "stdout",
     "output_type": "stream",
     "text": [
      "Epoch 289/512: \n",
      "Train Loss = 0.13191, Train MSE = 0.53048, Train MAE = 0.56666, Train Acc = 0.84134\n",
      "Val Loss = 0.15809, Val MSE = 0.64034, Val MAE = 0.61480, Val Acc = 0.81125\n"
     ]
    },
    {
     "name": "stderr",
     "output_type": "stream",
     "text": [
      "Epoch 290/512: 100%|████████████████████████████████████████████████████████████████████| 910/910 [00:44<00:00, 20.23it/s]\n"
     ]
    },
    {
     "name": "stdout",
     "output_type": "stream",
     "text": [
      "Epoch 290/512: \n",
      "Train Loss = 0.13271, Train MSE = 0.53350, Train MAE = 0.56909, Train Acc = 0.84002\n",
      "Val Loss = 0.15779, Val MSE = 0.63931, Val MAE = 0.60879, Val Acc = 0.81661\n"
     ]
    },
    {
     "name": "stderr",
     "output_type": "stream",
     "text": [
      "Epoch 291/512: 100%|████████████████████████████████████████████████████████████████████| 910/910 [00:44<00:00, 20.30it/s]\n"
     ]
    },
    {
     "name": "stdout",
     "output_type": "stream",
     "text": [
      "Epoch 291/512: \n",
      "Train Loss = 0.13300, Train MSE = 0.53480, Train MAE = 0.56930, Train Acc = 0.83987\n",
      "Val Loss = 0.15313, Val MSE = 0.61946, Val MAE = 0.60221, Val Acc = 0.81894\n"
     ]
    },
    {
     "name": "stderr",
     "output_type": "stream",
     "text": [
      "Epoch 292/512: 100%|████████████████████████████████████████████████████████████████████| 910/910 [00:44<00:00, 20.30it/s]\n"
     ]
    },
    {
     "name": "stdout",
     "output_type": "stream",
     "text": [
      "Epoch 292/512: \n",
      "Train Loss = 0.13268, Train MSE = 0.53349, Train MAE = 0.56895, Train Acc = 0.83969\n",
      "Val Loss = 0.15127, Val MSE = 0.61176, Val MAE = 0.59503, Val Acc = 0.82403\n"
     ]
    },
    {
     "name": "stderr",
     "output_type": "stream",
     "text": [
      "Epoch 293/512: 100%|████████████████████████████████████████████████████████████████████| 910/910 [00:44<00:00, 20.37it/s]\n"
     ]
    },
    {
     "name": "stdout",
     "output_type": "stream",
     "text": [
      "Epoch 293/512: \n",
      "Train Loss = 0.13190, Train MSE = 0.53030, Train MAE = 0.56726, Train Acc = 0.83932\n",
      "Val Loss = 0.15359, Val MSE = 0.62212, Val MAE = 0.60258, Val Acc = 0.81963\n"
     ]
    },
    {
     "name": "stderr",
     "output_type": "stream",
     "text": [
      "Epoch 294/512: 100%|████████████████████████████████████████████████████████████████████| 910/910 [00:44<00:00, 20.35it/s]\n"
     ]
    },
    {
     "name": "stdout",
     "output_type": "stream",
     "text": [
      "Epoch 294/512: \n",
      "Train Loss = 0.13332, Train MSE = 0.53615, Train MAE = 0.56955, Train Acc = 0.84059\n",
      "Val Loss = 0.16731, Val MSE = 0.67872, Val MAE = 0.62692, Val Acc = 0.80423\n"
     ]
    },
    {
     "name": "stderr",
     "output_type": "stream",
     "text": [
      "Epoch 295/512: 100%|████████████████████████████████████████████████████████████████████| 910/910 [00:44<00:00, 20.26it/s]\n"
     ]
    },
    {
     "name": "stdout",
     "output_type": "stream",
     "text": [
      "Epoch 295/512: \n",
      "Train Loss = 0.13192, Train MSE = 0.53036, Train MAE = 0.56751, Train Acc = 0.83959\n",
      "Val Loss = 0.15656, Val MSE = 0.63343, Val MAE = 0.61021, Val Acc = 0.81331\n"
     ]
    },
    {
     "name": "stderr",
     "output_type": "stream",
     "text": [
      "Epoch 296/512: 100%|████████████████████████████████████████████████████████████████████| 910/910 [00:44<00:00, 20.39it/s]\n"
     ]
    },
    {
     "name": "stdout",
     "output_type": "stream",
     "text": [
      "Epoch 296/512: \n",
      "Train Loss = 0.13271, Train MSE = 0.53339, Train MAE = 0.56864, Train Acc = 0.84038\n",
      "Val Loss = 0.15282, Val MSE = 0.61779, Val MAE = 0.60231, Val Acc = 0.81839\n"
     ]
    },
    {
     "name": "stderr",
     "output_type": "stream",
     "text": [
      "Epoch 297/512: 100%|████████████████████████████████████████████████████████████████████| 910/910 [00:44<00:00, 20.26it/s]\n"
     ]
    },
    {
     "name": "stdout",
     "output_type": "stream",
     "text": [
      "Epoch 297/512: \n",
      "Train Loss = 0.13228, Train MSE = 0.53157, Train MAE = 0.56771, Train Acc = 0.83999\n",
      "Val Loss = 0.15598, Val MSE = 0.63074, Val MAE = 0.60764, Val Acc = 0.81619\n"
     ]
    },
    {
     "name": "stderr",
     "output_type": "stream",
     "text": [
      "Epoch 298/512: 100%|████████████████████████████████████████████████████████████████████| 910/910 [00:44<00:00, 20.37it/s]\n"
     ]
    },
    {
     "name": "stdout",
     "output_type": "stream",
     "text": [
      "Epoch 298/512: \n",
      "Train Loss = 0.13106, Train MSE = 0.52674, Train MAE = 0.56522, Train Acc = 0.84241\n",
      "Val Loss = 0.15335, Val MSE = 0.61972, Val MAE = 0.60262, Val Acc = 0.82018\n"
     ]
    },
    {
     "name": "stderr",
     "output_type": "stream",
     "text": [
      "Epoch 299/512: 100%|████████████████████████████████████████████████████████████████████| 910/910 [00:44<00:00, 20.34it/s]\n"
     ]
    },
    {
     "name": "stdout",
     "output_type": "stream",
     "text": [
      "Epoch 299/512: \n",
      "Train Loss = 0.13315, Train MSE = 0.53516, Train MAE = 0.56962, Train Acc = 0.83755\n",
      "Val Loss = 0.15288, Val MSE = 0.61778, Val MAE = 0.60428, Val Acc = 0.81441\n"
     ]
    },
    {
     "name": "stderr",
     "output_type": "stream",
     "text": [
      "Epoch 300/512: 100%|████████████████████████████████████████████████████████████████████| 910/910 [00:44<00:00, 20.27it/s]\n"
     ]
    },
    {
     "name": "stdout",
     "output_type": "stream",
     "text": [
      "Epoch 300/512: \n",
      "Train Loss = 0.13247, Train MSE = 0.53251, Train MAE = 0.56807, Train Acc = 0.84069\n",
      "Val Loss = 0.15713, Val MSE = 0.63559, Val MAE = 0.61042, Val Acc = 0.81276\n"
     ]
    },
    {
     "name": "stderr",
     "output_type": "stream",
     "text": [
      "Epoch 301/512: 100%|████████████████████████████████████████████████████████████████████| 910/910 [00:44<00:00, 20.24it/s]\n"
     ]
    },
    {
     "name": "stdout",
     "output_type": "stream",
     "text": [
      "Epoch 301/512: \n",
      "Train Loss = 0.13132, Train MSE = 0.52792, Train MAE = 0.56513, Train Acc = 0.84152\n",
      "Val Loss = 0.15651, Val MSE = 0.63335, Val MAE = 0.60713, Val Acc = 0.81564\n"
     ]
    },
    {
     "name": "stderr",
     "output_type": "stream",
     "text": [
      "Epoch 302/512: 100%|████████████████████████████████████████████████████████████████████| 910/910 [00:44<00:00, 20.31it/s]\n"
     ]
    },
    {
     "name": "stdout",
     "output_type": "stream",
     "text": [
      "Epoch 302/512: \n",
      "Train Loss = 0.13116, Train MSE = 0.52737, Train MAE = 0.56478, Train Acc = 0.84105\n",
      "Val Loss = 0.15232, Val MSE = 0.61576, Val MAE = 0.60120, Val Acc = 0.81894\n"
     ]
    },
    {
     "name": "stderr",
     "output_type": "stream",
     "text": [
      "Epoch 303/512: 100%|████████████████████████████████████████████████████████████████████| 910/910 [00:44<00:00, 20.35it/s]\n"
     ]
    },
    {
     "name": "stdout",
     "output_type": "stream",
     "text": [
      "Epoch 303/512: \n",
      "Train Loss = 0.13166, Train MSE = 0.52909, Train MAE = 0.56626, Train Acc = 0.84059\n",
      "Val Loss = 0.15544, Val MSE = 0.62910, Val MAE = 0.60705, Val Acc = 0.81551\n"
     ]
    },
    {
     "name": "stderr",
     "output_type": "stream",
     "text": [
      "Epoch 304/512: 100%|████████████████████████████████████████████████████████████████████| 910/910 [00:44<00:00, 20.28it/s]\n"
     ]
    },
    {
     "name": "stdout",
     "output_type": "stream",
     "text": [
      "Epoch 304/512: \n",
      "Train Loss = 0.13196, Train MSE = 0.53061, Train MAE = 0.56718, Train Acc = 0.84074\n",
      "Val Loss = 0.15530, Val MSE = 0.62818, Val MAE = 0.60934, Val Acc = 0.81317\n"
     ]
    },
    {
     "name": "stderr",
     "output_type": "stream",
     "text": [
      "Epoch 305/512: 100%|████████████████████████████████████████████████████████████████████| 910/910 [00:44<00:00, 20.28it/s]\n"
     ]
    },
    {
     "name": "stdout",
     "output_type": "stream",
     "text": [
      "Epoch 305/512: \n",
      "Train Loss = 0.13212, Train MSE = 0.53119, Train MAE = 0.56801, Train Acc = 0.83997\n",
      "Val Loss = 0.15324, Val MSE = 0.62032, Val MAE = 0.59957, Val Acc = 0.82032\n"
     ]
    },
    {
     "name": "stderr",
     "output_type": "stream",
     "text": [
      "Epoch 306/512: 100%|████████████████████████████████████████████████████████████████████| 910/910 [00:45<00:00, 20.20it/s]\n"
     ]
    },
    {
     "name": "stdout",
     "output_type": "stream",
     "text": [
      "Epoch 306/512: \n",
      "Train Loss = 0.13197, Train MSE = 0.53054, Train MAE = 0.56687, Train Acc = 0.84069\n",
      "Val Loss = 0.15291, Val MSE = 0.61866, Val MAE = 0.59802, Val Acc = 0.81894\n"
     ]
    },
    {
     "name": "stderr",
     "output_type": "stream",
     "text": [
      "Epoch 307/512: 100%|████████████████████████████████████████████████████████████████████| 910/910 [00:44<00:00, 20.34it/s]\n"
     ]
    },
    {
     "name": "stdout",
     "output_type": "stream",
     "text": [
      "Epoch 307/512: \n",
      "Train Loss = 0.13161, Train MSE = 0.52897, Train MAE = 0.56575, Train Acc = 0.84134\n",
      "Val Loss = 0.15388, Val MSE = 0.62237, Val MAE = 0.60508, Val Acc = 0.82156\n"
     ]
    },
    {
     "name": "stderr",
     "output_type": "stream",
     "text": [
      "Epoch 308/512: 100%|████████████████████████████████████████████████████████████████████| 910/910 [00:44<00:00, 20.29it/s]\n"
     ]
    },
    {
     "name": "stdout",
     "output_type": "stream",
     "text": [
      "Epoch 308/512: \n",
      "Train Loss = 0.13175, Train MSE = 0.52972, Train MAE = 0.56615, Train Acc = 0.84081\n",
      "Val Loss = 0.15328, Val MSE = 0.62070, Val MAE = 0.60271, Val Acc = 0.81702\n"
     ]
    },
    {
     "name": "stderr",
     "output_type": "stream",
     "text": [
      "Epoch 309/512: 100%|████████████████████████████████████████████████████████████████████| 910/910 [00:44<00:00, 20.35it/s]\n"
     ]
    },
    {
     "name": "stdout",
     "output_type": "stream",
     "text": [
      "Epoch 309/512: \n",
      "Train Loss = 0.13035, Train MSE = 0.52398, Train MAE = 0.56410, Train Acc = 0.84413\n",
      "Val Loss = 0.15454, Val MSE = 0.62528, Val MAE = 0.60824, Val Acc = 0.81578\n"
     ]
    },
    {
     "name": "stderr",
     "output_type": "stream",
     "text": [
      "Epoch 310/512: 100%|████████████████████████████████████████████████████████████████████| 910/910 [00:44<00:00, 20.34it/s]\n"
     ]
    },
    {
     "name": "stdout",
     "output_type": "stream",
     "text": [
      "Epoch 310/512: \n",
      "Train Loss = 0.13165, Train MSE = 0.52911, Train MAE = 0.56642, Train Acc = 0.84145\n",
      "Val Loss = 0.15059, Val MSE = 0.60857, Val MAE = 0.59701, Val Acc = 0.82541\n"
     ]
    },
    {
     "name": "stderr",
     "output_type": "stream",
     "text": [
      "Epoch 311/512: 100%|████████████████████████████████████████████████████████████████████| 910/910 [00:44<00:00, 20.31it/s]\n"
     ]
    },
    {
     "name": "stdout",
     "output_type": "stream",
     "text": [
      "Epoch 311/512: \n",
      "Train Loss = 0.13162, Train MSE = 0.52914, Train MAE = 0.56593, Train Acc = 0.84179\n",
      "Val Loss = 0.16241, Val MSE = 0.65767, Val MAE = 0.62450, Val Acc = 0.80135\n"
     ]
    },
    {
     "name": "stderr",
     "output_type": "stream",
     "text": [
      "Epoch 312/512: 100%|████████████████████████████████████████████████████████████████████| 910/910 [00:44<00:00, 20.27it/s]\n"
     ]
    },
    {
     "name": "stdout",
     "output_type": "stream",
     "text": [
      "Epoch 312/512: \n",
      "Train Loss = 0.13054, Train MSE = 0.52460, Train MAE = 0.56369, Train Acc = 0.84329\n",
      "Val Loss = 0.16142, Val MSE = 0.65267, Val MAE = 0.62446, Val Acc = 0.80327\n"
     ]
    },
    {
     "name": "stderr",
     "output_type": "stream",
     "text": [
      "Epoch 313/512: 100%|████████████████████████████████████████████████████████████████████| 910/910 [00:44<00:00, 20.33it/s]\n"
     ]
    },
    {
     "name": "stdout",
     "output_type": "stream",
     "text": [
      "Epoch 313/512: \n",
      "Train Loss = 0.13193, Train MSE = 0.53037, Train MAE = 0.56753, Train Acc = 0.84128\n",
      "Val Loss = 0.14975, Val MSE = 0.60535, Val MAE = 0.59348, Val Acc = 0.81881\n"
     ]
    },
    {
     "name": "stderr",
     "output_type": "stream",
     "text": [
      "Epoch 314/512: 100%|████████████████████████████████████████████████████████████████████| 910/910 [00:44<00:00, 20.32it/s]\n"
     ]
    },
    {
     "name": "stdout",
     "output_type": "stream",
     "text": [
      "Epoch 314/512: \n",
      "Train Loss = 0.13065, Train MSE = 0.52514, Train MAE = 0.56511, Train Acc = 0.84293\n",
      "Val Loss = 0.15570, Val MSE = 0.63019, Val MAE = 0.60383, Val Acc = 0.81991\n"
     ]
    },
    {
     "name": "stderr",
     "output_type": "stream",
     "text": [
      "Epoch 315/512: 100%|████████████████████████████████████████████████████████████████████| 910/910 [00:44<00:00, 20.26it/s]\n"
     ]
    },
    {
     "name": "stdout",
     "output_type": "stream",
     "text": [
      "Epoch 315/512: \n",
      "Train Loss = 0.13153, Train MSE = 0.52859, Train MAE = 0.56663, Train Acc = 0.84086\n",
      "Val Loss = 0.15222, Val MSE = 0.61587, Val MAE = 0.59835, Val Acc = 0.82114\n"
     ]
    },
    {
     "name": "stderr",
     "output_type": "stream",
     "text": [
      "Epoch 316/512: 100%|████████████████████████████████████████████████████████████████████| 910/910 [00:44<00:00, 20.31it/s]\n"
     ]
    },
    {
     "name": "stdout",
     "output_type": "stream",
     "text": [
      "Epoch 316/512: \n",
      "Train Loss = 0.13096, Train MSE = 0.52652, Train MAE = 0.56475, Train Acc = 0.84330\n",
      "Val Loss = 0.15254, Val MSE = 0.61760, Val MAE = 0.59997, Val Acc = 0.82376\n"
     ]
    },
    {
     "name": "stderr",
     "output_type": "stream",
     "text": [
      "Epoch 317/512: 100%|████████████████████████████████████████████████████████████████████| 910/910 [00:44<00:00, 20.31it/s]\n"
     ]
    },
    {
     "name": "stdout",
     "output_type": "stream",
     "text": [
      "Epoch 317/512: \n",
      "Train Loss = 0.13085, Train MSE = 0.52599, Train MAE = 0.56479, Train Acc = 0.84403\n",
      "Val Loss = 0.15755, Val MSE = 0.63795, Val MAE = 0.60881, Val Acc = 0.81564\n"
     ]
    },
    {
     "name": "stderr",
     "output_type": "stream",
     "text": [
      "Epoch 318/512: 100%|████████████████████████████████████████████████████████████████████| 910/910 [00:44<00:00, 20.25it/s]\n"
     ]
    },
    {
     "name": "stdout",
     "output_type": "stream",
     "text": [
      "Epoch 318/512: \n",
      "Train Loss = 0.13063, Train MSE = 0.52515, Train MAE = 0.56388, Train Acc = 0.84270\n",
      "Val Loss = 0.15521, Val MSE = 0.62757, Val MAE = 0.60805, Val Acc = 0.81372\n"
     ]
    },
    {
     "ename": "TypeError",
     "evalue": "can't convert cuda:0 device type tensor to numpy. Use Tensor.cpu() to copy the tensor to host memory first.",
     "output_type": "error",
     "traceback": [
      "\u001b[0;31m---------------------------------------------------------------------------\u001b[0m",
      "\u001b[0;31mTypeError\u001b[0m                                 Traceback (most recent call last)",
      "Cell \u001b[0;32mIn[4], line 4\u001b[0m\n\u001b[1;32m      1\u001b[0m \u001b[38;5;28;01mimport\u001b[39;00m \u001b[38;5;21;01margparse\u001b[39;00m\n\u001b[1;32m      3\u001b[0m training_args \u001b[38;5;241m=\u001b[39m argparse\u001b[38;5;241m.\u001b[39mNamespace(\u001b[38;5;241m*\u001b[39m\u001b[38;5;241m*\u001b[39margs)\n\u001b[0;32m----> 4\u001b[0m train_model(training_args, device)\n",
      "File \u001b[0;32m~/gat-cd4c/src/train.py:113\u001b[0m, in \u001b[0;36mtrain_model\u001b[0;34m(args, m_device)\u001b[0m\n\u001b[1;32m    110\u001b[0m         \u001b[38;5;28;01mif\u001b[39;00m no_validation_loss_improvement \u001b[38;5;241m==\u001b[39m args\u001b[38;5;241m.\u001b[39mstoppage_epochs:\n\u001b[1;32m    111\u001b[0m             \u001b[38;5;28;01mbreak\u001b[39;00m\n\u001b[0;32m--> 113\u001b[0m plot_loss_curves(metrics_df)\n",
      "File \u001b[0;32m~/gat-cd4c/src/utils/helper_functions.py:156\u001b[0m, in \u001b[0;36mplot_loss_curves\u001b[0;34m(results)\u001b[0m\n\u001b[1;32m    154\u001b[0m \u001b[38;5;66;03m# Plot accuracy\u001b[39;00m\n\u001b[1;32m    155\u001b[0m plt\u001b[38;5;241m.\u001b[39msubplot(\u001b[38;5;241m1\u001b[39m, \u001b[38;5;241m2\u001b[39m, \u001b[38;5;241m2\u001b[39m)\n\u001b[0;32m--> 156\u001b[0m plt\u001b[38;5;241m.\u001b[39mplot(epochs, accuracy, label\u001b[38;5;241m=\u001b[39m\u001b[38;5;124m\"\u001b[39m\u001b[38;5;124mtrain_accuracy\u001b[39m\u001b[38;5;124m\"\u001b[39m)\n\u001b[1;32m    157\u001b[0m plt\u001b[38;5;241m.\u001b[39mplot(epochs, validation_accuracy, label\u001b[38;5;241m=\u001b[39m\u001b[38;5;124m\"\u001b[39m\u001b[38;5;124mvalidation_accuracy\u001b[39m\u001b[38;5;124m\"\u001b[39m)\n\u001b[1;32m    158\u001b[0m plt\u001b[38;5;241m.\u001b[39mtitle(\u001b[38;5;124m\"\u001b[39m\u001b[38;5;124mAccuracy\u001b[39m\u001b[38;5;124m\"\u001b[39m)\n",
      "File \u001b[0;32m/scratch/local3/2024/aguo/miniconda3/lib/python3.12/site-packages/matplotlib/pyplot.py:3827\u001b[0m, in \u001b[0;36mplot\u001b[0;34m(scalex, scaley, data, *args, **kwargs)\u001b[0m\n\u001b[1;32m   3819\u001b[0m \u001b[38;5;129m@_copy_docstring_and_deprecators\u001b[39m(Axes\u001b[38;5;241m.\u001b[39mplot)\n\u001b[1;32m   3820\u001b[0m \u001b[38;5;28;01mdef\u001b[39;00m \u001b[38;5;21mplot\u001b[39m(\n\u001b[1;32m   3821\u001b[0m     \u001b[38;5;241m*\u001b[39margs: \u001b[38;5;28mfloat\u001b[39m \u001b[38;5;241m|\u001b[39m ArrayLike \u001b[38;5;241m|\u001b[39m \u001b[38;5;28mstr\u001b[39m,\n\u001b[0;32m   (...)\u001b[0m\n\u001b[1;32m   3825\u001b[0m     \u001b[38;5;241m*\u001b[39m\u001b[38;5;241m*\u001b[39mkwargs,\n\u001b[1;32m   3826\u001b[0m ) \u001b[38;5;241m-\u001b[39m\u001b[38;5;241m>\u001b[39m \u001b[38;5;28mlist\u001b[39m[Line2D]:\n\u001b[0;32m-> 3827\u001b[0m     \u001b[38;5;28;01mreturn\u001b[39;00m gca()\u001b[38;5;241m.\u001b[39mplot(\n\u001b[1;32m   3828\u001b[0m         \u001b[38;5;241m*\u001b[39margs,\n\u001b[1;32m   3829\u001b[0m         scalex\u001b[38;5;241m=\u001b[39mscalex,\n\u001b[1;32m   3830\u001b[0m         scaley\u001b[38;5;241m=\u001b[39mscaley,\n\u001b[1;32m   3831\u001b[0m         \u001b[38;5;241m*\u001b[39m\u001b[38;5;241m*\u001b[39m({\u001b[38;5;124m\"\u001b[39m\u001b[38;5;124mdata\u001b[39m\u001b[38;5;124m\"\u001b[39m: data} \u001b[38;5;28;01mif\u001b[39;00m data \u001b[38;5;129;01mis\u001b[39;00m \u001b[38;5;129;01mnot\u001b[39;00m \u001b[38;5;28;01mNone\u001b[39;00m \u001b[38;5;28;01melse\u001b[39;00m {}),\n\u001b[1;32m   3832\u001b[0m         \u001b[38;5;241m*\u001b[39m\u001b[38;5;241m*\u001b[39mkwargs,\n\u001b[1;32m   3833\u001b[0m     )\n",
      "File \u001b[0;32m/scratch/local3/2024/aguo/miniconda3/lib/python3.12/site-packages/matplotlib/axes/_axes.py:1777\u001b[0m, in \u001b[0;36mAxes.plot\u001b[0;34m(self, scalex, scaley, data, *args, **kwargs)\u001b[0m\n\u001b[1;32m   1534\u001b[0m \u001b[38;5;250m\u001b[39m\u001b[38;5;124;03m\"\"\"\u001b[39;00m\n\u001b[1;32m   1535\u001b[0m \u001b[38;5;124;03mPlot y versus x as lines and/or markers.\u001b[39;00m\n\u001b[1;32m   1536\u001b[0m \n\u001b[0;32m   (...)\u001b[0m\n\u001b[1;32m   1774\u001b[0m \u001b[38;5;124;03m(``'green'``) or hex strings (``'#008000'``).\u001b[39;00m\n\u001b[1;32m   1775\u001b[0m \u001b[38;5;124;03m\"\"\"\u001b[39;00m\n\u001b[1;32m   1776\u001b[0m kwargs \u001b[38;5;241m=\u001b[39m cbook\u001b[38;5;241m.\u001b[39mnormalize_kwargs(kwargs, mlines\u001b[38;5;241m.\u001b[39mLine2D)\n\u001b[0;32m-> 1777\u001b[0m lines \u001b[38;5;241m=\u001b[39m [\u001b[38;5;241m*\u001b[39m\u001b[38;5;28mself\u001b[39m\u001b[38;5;241m.\u001b[39m_get_lines(\u001b[38;5;28mself\u001b[39m, \u001b[38;5;241m*\u001b[39margs, data\u001b[38;5;241m=\u001b[39mdata, \u001b[38;5;241m*\u001b[39m\u001b[38;5;241m*\u001b[39mkwargs)]\n\u001b[1;32m   1778\u001b[0m \u001b[38;5;28;01mfor\u001b[39;00m line \u001b[38;5;129;01min\u001b[39;00m lines:\n\u001b[1;32m   1779\u001b[0m     \u001b[38;5;28mself\u001b[39m\u001b[38;5;241m.\u001b[39madd_line(line)\n",
      "File \u001b[0;32m/scratch/local3/2024/aguo/miniconda3/lib/python3.12/site-packages/matplotlib/axes/_base.py:297\u001b[0m, in \u001b[0;36m_process_plot_var_args.__call__\u001b[0;34m(self, axes, data, return_kwargs, *args, **kwargs)\u001b[0m\n\u001b[1;32m    295\u001b[0m     this \u001b[38;5;241m+\u001b[39m\u001b[38;5;241m=\u001b[39m args[\u001b[38;5;241m0\u001b[39m],\n\u001b[1;32m    296\u001b[0m     args \u001b[38;5;241m=\u001b[39m args[\u001b[38;5;241m1\u001b[39m:]\n\u001b[0;32m--> 297\u001b[0m \u001b[38;5;28;01myield from\u001b[39;00m \u001b[38;5;28mself\u001b[39m\u001b[38;5;241m.\u001b[39m_plot_args(\n\u001b[1;32m    298\u001b[0m     axes, this, kwargs, ambiguous_fmt_datakey\u001b[38;5;241m=\u001b[39mambiguous_fmt_datakey,\n\u001b[1;32m    299\u001b[0m     return_kwargs\u001b[38;5;241m=\u001b[39mreturn_kwargs\n\u001b[1;32m    300\u001b[0m )\n",
      "File \u001b[0;32m/scratch/local3/2024/aguo/miniconda3/lib/python3.12/site-packages/matplotlib/axes/_base.py:484\u001b[0m, in \u001b[0;36m_process_plot_var_args._plot_args\u001b[0;34m(self, axes, tup, kwargs, return_kwargs, ambiguous_fmt_datakey)\u001b[0m\n\u001b[1;32m    482\u001b[0m \u001b[38;5;28;01mif\u001b[39;00m \u001b[38;5;28mlen\u001b[39m(xy) \u001b[38;5;241m==\u001b[39m \u001b[38;5;241m2\u001b[39m:\n\u001b[1;32m    483\u001b[0m     x \u001b[38;5;241m=\u001b[39m _check_1d(xy[\u001b[38;5;241m0\u001b[39m])\n\u001b[0;32m--> 484\u001b[0m     y \u001b[38;5;241m=\u001b[39m _check_1d(xy[\u001b[38;5;241m1\u001b[39m])\n\u001b[1;32m    485\u001b[0m \u001b[38;5;28;01melse\u001b[39;00m:\n\u001b[1;32m    486\u001b[0m     x, y \u001b[38;5;241m=\u001b[39m index_of(xy[\u001b[38;5;241m-\u001b[39m\u001b[38;5;241m1\u001b[39m])\n",
      "File \u001b[0;32m/scratch/local3/2024/aguo/miniconda3/lib/python3.12/site-packages/matplotlib/cbook.py:1368\u001b[0m, in \u001b[0;36m_check_1d\u001b[0;34m(x)\u001b[0m\n\u001b[1;32m   1362\u001b[0m \u001b[38;5;66;03m# plot requires `shape` and `ndim`.  If passed an\u001b[39;00m\n\u001b[1;32m   1363\u001b[0m \u001b[38;5;66;03m# object that doesn't provide them, then force to numpy array.\u001b[39;00m\n\u001b[1;32m   1364\u001b[0m \u001b[38;5;66;03m# Note this will strip unit information.\u001b[39;00m\n\u001b[1;32m   1365\u001b[0m \u001b[38;5;28;01mif\u001b[39;00m (\u001b[38;5;129;01mnot\u001b[39;00m \u001b[38;5;28mhasattr\u001b[39m(x, \u001b[38;5;124m'\u001b[39m\u001b[38;5;124mshape\u001b[39m\u001b[38;5;124m'\u001b[39m) \u001b[38;5;129;01mor\u001b[39;00m\n\u001b[1;32m   1366\u001b[0m         \u001b[38;5;129;01mnot\u001b[39;00m \u001b[38;5;28mhasattr\u001b[39m(x, \u001b[38;5;124m'\u001b[39m\u001b[38;5;124mndim\u001b[39m\u001b[38;5;124m'\u001b[39m) \u001b[38;5;129;01mor\u001b[39;00m\n\u001b[1;32m   1367\u001b[0m         \u001b[38;5;28mlen\u001b[39m(x\u001b[38;5;241m.\u001b[39mshape) \u001b[38;5;241m<\u001b[39m \u001b[38;5;241m1\u001b[39m):\n\u001b[0;32m-> 1368\u001b[0m     \u001b[38;5;28;01mreturn\u001b[39;00m np\u001b[38;5;241m.\u001b[39matleast_1d(x)\n\u001b[1;32m   1369\u001b[0m \u001b[38;5;28;01melse\u001b[39;00m:\n\u001b[1;32m   1370\u001b[0m     \u001b[38;5;28;01mreturn\u001b[39;00m x\n",
      "File \u001b[0;32m/scratch/local3/2024/aguo/miniconda3/lib/python3.12/site-packages/numpy/_core/shape_base.py:64\u001b[0m, in \u001b[0;36matleast_1d\u001b[0;34m(*arys)\u001b[0m\n\u001b[1;32m     24\u001b[0m \u001b[38;5;250m\u001b[39m\u001b[38;5;124;03m\"\"\"\u001b[39;00m\n\u001b[1;32m     25\u001b[0m \u001b[38;5;124;03mConvert inputs to arrays with at least one dimension.\u001b[39;00m\n\u001b[1;32m     26\u001b[0m \n\u001b[0;32m   (...)\u001b[0m\n\u001b[1;32m     61\u001b[0m \n\u001b[1;32m     62\u001b[0m \u001b[38;5;124;03m\"\"\"\u001b[39;00m\n\u001b[1;32m     63\u001b[0m \u001b[38;5;28;01mif\u001b[39;00m \u001b[38;5;28mlen\u001b[39m(arys) \u001b[38;5;241m==\u001b[39m \u001b[38;5;241m1\u001b[39m:\n\u001b[0;32m---> 64\u001b[0m     result \u001b[38;5;241m=\u001b[39m asanyarray(arys[\u001b[38;5;241m0\u001b[39m])\n\u001b[1;32m     65\u001b[0m     \u001b[38;5;28;01mif\u001b[39;00m result\u001b[38;5;241m.\u001b[39mndim \u001b[38;5;241m==\u001b[39m \u001b[38;5;241m0\u001b[39m:\n\u001b[1;32m     66\u001b[0m         result \u001b[38;5;241m=\u001b[39m result\u001b[38;5;241m.\u001b[39mreshape(\u001b[38;5;241m1\u001b[39m)\n",
      "File \u001b[0;32m/scratch/local3/2024/aguo/miniconda3/lib/python3.12/site-packages/torch/_tensor.py:1149\u001b[0m, in \u001b[0;36mTensor.__array__\u001b[0;34m(self, dtype)\u001b[0m\n\u001b[1;32m   1147\u001b[0m     \u001b[38;5;28;01mreturn\u001b[39;00m handle_torch_function(Tensor\u001b[38;5;241m.\u001b[39m__array__, (\u001b[38;5;28mself\u001b[39m,), \u001b[38;5;28mself\u001b[39m, dtype\u001b[38;5;241m=\u001b[39mdtype)\n\u001b[1;32m   1148\u001b[0m \u001b[38;5;28;01mif\u001b[39;00m dtype \u001b[38;5;129;01mis\u001b[39;00m \u001b[38;5;28;01mNone\u001b[39;00m:\n\u001b[0;32m-> 1149\u001b[0m     \u001b[38;5;28;01mreturn\u001b[39;00m \u001b[38;5;28mself\u001b[39m\u001b[38;5;241m.\u001b[39mnumpy()\n\u001b[1;32m   1150\u001b[0m \u001b[38;5;28;01melse\u001b[39;00m:\n\u001b[1;32m   1151\u001b[0m     \u001b[38;5;28;01mreturn\u001b[39;00m \u001b[38;5;28mself\u001b[39m\u001b[38;5;241m.\u001b[39mnumpy()\u001b[38;5;241m.\u001b[39mastype(dtype, copy\u001b[38;5;241m=\u001b[39m\u001b[38;5;28;01mFalse\u001b[39;00m)\n",
      "\u001b[0;31mTypeError\u001b[0m: can't convert cuda:0 device type tensor to numpy. Use Tensor.cpu() to copy the tensor to host memory first."
     ]
    },
    {
     "data": {
      "image/png": "[encoded data removed]",
      "text/plain": [
       "<Figure size 1500x700 with 2 Axes>"
      ]
     },
     "metadata": {},
     "output_type": "display_data"
    }
   ],
   "source": [
    "import argparse\n",
    "\n",
    "training_args = argparse.Namespace(**args)\n",
    "train_model(training_args, device)"
   ]
  },
  {
   "cell_type": "code",
   "execution_count": null,
   "metadata": {},
   "outputs": [],
   "source": []
  }
 ],
 "metadata": {
  "kernelspec": {
   "display_name": "Python (myenv)",
   "language": "python",
   "name": "myenv"
  },
  "language_info": {
   "codemirror_mode": {
    "name": "ipython",
    "version": 3
   },
   "file_extension": ".py",
   "mimetype": "text/x-python",
   "name": "python",
   "nbconvert_exporter": "python",
   "pygments_lexer": "ipython3",
   "version": "3.12.7"
  }
 },
 "nbformat": 4,
 "nbformat_minor": 4
}
