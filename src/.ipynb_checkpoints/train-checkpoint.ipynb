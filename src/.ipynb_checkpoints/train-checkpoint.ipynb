{
 "cells": [
  {
   "cell_type": "code",
   "execution_count": 1,
   "metadata": {},
   "outputs": [
    {
     "name": "stdout",
     "output_type": "stream",
     "text": [
      "Using device: cpu\n"
     ]
    }
   ],
   "source": [
    "import torch\n",
    "\n",
    "# Local imports\n",
    "from train import train_model"
   ]
  },
  {
   "cell_type": "code",
   "execution_count": 2,
   "metadata": {},
   "outputs": [
    {
     "name": "stdout",
     "output_type": "stream",
     "text": [
      "Using device: cuda\n"
     ]
    }
   ],
   "source": [
    "if torch.backends.mps.is_available():\n",
    "    device = torch.device(\"mps\")\n",
    "elif torch.cuda.is_available():\n",
    "    device = torch.device(\"cuda\")\n",
    "else:\n",
    "    device = torch.device(\"cpu\")\n",
    "\n",
    "print(f\"Using device: {device}\")"
   ]
  },
  {
   "cell_type": "code",
   "execution_count": 3,
   "metadata": {},
   "outputs": [],
   "source": [
    "args = {\n",
    "    \"use_small_dataset\": False,\n",
    "    \"batch_size\": 128,\n",
    "    \"stoppage_epochs\": 128,\n",
    "    \"max_epochs\": 512,\n",
    "    \"seed\": 42,\n",
    "    \"data_path\": \"../data\",\n",
    "    \"frac_train\": 0.8,\n",
    "    \"frac_validation\": 0.1,\n",
    "    \"frac_test\": 0.1,\n",
    "    \"huber_beta\": 1.0,\n",
    "    \"weight_decay\": 1e-3,\n",
    "    \"lr\": 3e-4,\n",
    "    \"scheduler_patience\": 10,\n",
    "    \"scheduler_factor\": 0.5,\n",
    "    \"hidden_size\": 128,\n",
    "    \"num_layers\": 8,\n",
    "    \"num_attn_heads\": 8,\n",
    "    \"dropout\": 0.1,\n",
    "    \"leaky_relu_slope\": 0.2,\n",
    "    \"pooling_dim\": 128,\n",
    "}"
   ]
  },
  {
   "cell_type": "code",
   "execution_count": null,
   "metadata": {},
   "outputs": [
    {
     "name": "stdout",
     "output_type": "stream",
     "text": [
      "Model parameters: 307763\n"
     ]
    },
    {
     "name": "stderr",
     "output_type": "stream",
     "text": [
      "Epoch 1/512: 100%|█████████████████████████████████████████████████████████████████████████████████████████████| 455/455 [02:22<00:00,  3.19it/s]\n"
     ]
    },
    {
     "name": "stdout",
     "output_type": "stream",
     "text": [
      "Epoch 1/512: Train Loss = 1.04191, Validation Loss = 0.54340, Train Accuracy = 0.59267, Validation Accuracy = 0.59692\n"
     ]
    },
    {
     "name": "stderr",
     "output_type": "stream",
     "text": [
      "Epoch 2/512: 100%|█████████████████████████████████████████████████████████████████████████████████████████████| 455/455 [00:30<00:00, 14.80it/s]\n"
     ]
    },
    {
     "name": "stdout",
     "output_type": "stream",
     "text": [
      "Epoch 2/512: Train Loss = 0.53969, Validation Loss = 0.53573, Train Accuracy = 0.61790, Validation Accuracy = 0.61369\n"
     ]
    },
    {
     "name": "stderr",
     "output_type": "stream",
     "text": [
      "Epoch 3/512: 100%|█████████████████████████████████████████████████████████████████████████████████████████████| 455/455 [00:30<00:00, 14.72it/s]\n"
     ]
    },
    {
     "name": "stdout",
     "output_type": "stream",
     "text": [
      "Epoch 3/512: Train Loss = 0.53769, Validation Loss = 0.54287, Train Accuracy = 0.61984, Validation Accuracy = 0.61218\n"
     ]
    },
    {
     "name": "stderr",
     "output_type": "stream",
     "text": [
      "Epoch 4/512: 100%|█████████████████████████████████████████████████████████████████████████████████████████████| 455/455 [00:31<00:00, 14.67it/s]\n"
     ]
    },
    {
     "name": "stdout",
     "output_type": "stream",
     "text": [
      "Epoch 4/512: Train Loss = 0.53397, Validation Loss = 0.53228, Train Accuracy = 0.62429, Validation Accuracy = 0.61520\n"
     ]
    },
    {
     "name": "stderr",
     "output_type": "stream",
     "text": [
      "Epoch 5/512: 100%|█████████████████████████████████████████████████████████████████████████████████████████████| 455/455 [00:30<00:00, 14.68it/s]\n"
     ]
    },
    {
     "name": "stdout",
     "output_type": "stream",
     "text": [
      "Epoch 5/512: Train Loss = 0.52915, Validation Loss = 0.52820, Train Accuracy = 0.62704, Validation Accuracy = 0.61892\n"
     ]
    },
    {
     "name": "stderr",
     "output_type": "stream",
     "text": [
      "Epoch 6/512: 100%|█████████████████████████████████████████████████████████████████████████████████████████████| 455/455 [00:31<00:00, 14.65it/s]\n"
     ]
    },
    {
     "name": "stdout",
     "output_type": "stream",
     "text": [
      "Epoch 6/512: Train Loss = 0.52569, Validation Loss = 0.52827, Train Accuracy = 0.62933, Validation Accuracy = 0.63101\n"
     ]
    },
    {
     "name": "stderr",
     "output_type": "stream",
     "text": [
      "Epoch 7/512: 100%|█████████████████████████████████████████████████████████████████████████████████████████████| 455/455 [00:31<00:00, 14.67it/s]\n"
     ]
    },
    {
     "name": "stdout",
     "output_type": "stream",
     "text": [
      "Epoch 7/512: Train Loss = 0.51984, Validation Loss = 0.51530, Train Accuracy = 0.63701, Validation Accuracy = 0.63610\n"
     ]
    },
    {
     "name": "stderr",
     "output_type": "stream",
     "text": [
      "Epoch 8/512: 100%|█████████████████████████████████████████████████████████████████████████████████████████████| 455/455 [00:31<00:00, 14.63it/s]\n"
     ]
    },
    {
     "name": "stdout",
     "output_type": "stream",
     "text": [
      "Epoch 8/512: Train Loss = 0.51540, Validation Loss = 0.51126, Train Accuracy = 0.64041, Validation Accuracy = 0.64160\n"
     ]
    },
    {
     "name": "stderr",
     "output_type": "stream",
     "text": [
      "Epoch 9/512: 100%|█████████████████████████████████████████████████████████████████████████████████████████████| 455/455 [00:30<00:00, 14.69it/s]\n"
     ]
    },
    {
     "name": "stdout",
     "output_type": "stream",
     "text": [
      "Epoch 9/512: Train Loss = 0.51106, Validation Loss = 0.55457, Train Accuracy = 0.64397, Validation Accuracy = 0.62662\n"
     ]
    },
    {
     "name": "stderr",
     "output_type": "stream",
     "text": [
      "Epoch 10/512: 100%|████████████████████████████████████████████████████████████████████████████████████████████| 455/455 [00:31<00:00, 14.66it/s]\n"
     ]
    },
    {
     "name": "stdout",
     "output_type": "stream",
     "text": [
      "Epoch 10/512: Train Loss = 0.50717, Validation Loss = 0.50939, Train Accuracy = 0.64648, Validation Accuracy = 0.64779\n"
     ]
    },
    {
     "name": "stderr",
     "output_type": "stream",
     "text": [
      "Epoch 11/512: 100%|████████████████████████████████████████████████████████████████████████████████████████████| 455/455 [00:31<00:00, 14.66it/s]\n"
     ]
    },
    {
     "name": "stdout",
     "output_type": "stream",
     "text": [
      "Epoch 11/512: Train Loss = 0.50115, Validation Loss = 0.49709, Train Accuracy = 0.65423, Validation Accuracy = 0.65136\n"
     ]
    },
    {
     "name": "stderr",
     "output_type": "stream",
     "text": [
      "Epoch 12/512: 100%|████████████████████████████████████████████████████████████████████████████████████████████| 455/455 [00:31<00:00, 14.66it/s]\n"
     ]
    },
    {
     "name": "stdout",
     "output_type": "stream",
     "text": [
      "Epoch 12/512: Train Loss = 0.48900, Validation Loss = 0.48840, Train Accuracy = 0.66519, Validation Accuracy = 0.67075\n"
     ]
    },
    {
     "name": "stderr",
     "output_type": "stream",
     "text": [
      "Epoch 13/512: 100%|████████████████████████████████████████████████████████████████████████████████████████████| 455/455 [00:31<00:00, 14.63it/s]\n"
     ]
    },
    {
     "name": "stdout",
     "output_type": "stream",
     "text": [
      "Epoch 13/512: Train Loss = 0.47602, Validation Loss = 0.46762, Train Accuracy = 0.67585, Validation Accuracy = 0.67418\n"
     ]
    },
    {
     "name": "stderr",
     "output_type": "stream",
     "text": [
      "Epoch 14/512: 100%|████████████████████████████████████████████████████████████████████████████████████████████| 455/455 [00:31<00:00, 14.65it/s]\n"
     ]
    },
    {
     "name": "stdout",
     "output_type": "stream",
     "text": [
      "Epoch 14/512: Train Loss = 0.46378, Validation Loss = 0.45884, Train Accuracy = 0.68405, Validation Accuracy = 0.68559\n"
     ]
    },
    {
     "name": "stderr",
     "output_type": "stream",
     "text": [
      "Epoch 15/512: 100%|████████████████████████████████████████████████████████████████████████████████████████████| 455/455 [00:31<00:00, 14.66it/s]\n"
     ]
    },
    {
     "name": "stdout",
     "output_type": "stream",
     "text": [
      "Epoch 15/512: Train Loss = 0.45571, Validation Loss = 0.45477, Train Accuracy = 0.69242, Validation Accuracy = 0.68477\n"
     ]
    },
    {
     "name": "stderr",
     "output_type": "stream",
     "text": [
      "Epoch 16/512: 100%|████████████████████████████████████████████████████████████████████████████████████████████| 455/455 [00:31<00:00, 14.64it/s]\n"
     ]
    },
    {
     "name": "stdout",
     "output_type": "stream",
     "text": [
      "Epoch 16/512: Train Loss = 0.44454, Validation Loss = 0.43422, Train Accuracy = 0.69712, Validation Accuracy = 0.69370\n"
     ]
    },
    {
     "name": "stderr",
     "output_type": "stream",
     "text": [
      "Epoch 17/512: 100%|████████████████████████████████████████████████████████████████████████████████████████████| 455/455 [00:31<00:00, 14.67it/s]\n"
     ]
    },
    {
     "name": "stdout",
     "output_type": "stream",
     "text": [
      "Epoch 17/512: Train Loss = 0.43851, Validation Loss = 0.46223, Train Accuracy = 0.69969, Validation Accuracy = 0.68930\n"
     ]
    },
    {
     "name": "stderr",
     "output_type": "stream",
     "text": [
      "Epoch 18/512: 100%|████████████████████████████████████████████████████████████████████████████████████████████| 455/455 [00:31<00:00, 14.63it/s]\n"
     ]
    },
    {
     "name": "stdout",
     "output_type": "stream",
     "text": [
      "Epoch 18/512: Train Loss = 0.43005, Validation Loss = 0.41590, Train Accuracy = 0.70737, Validation Accuracy = 0.70951\n"
     ]
    },
    {
     "name": "stderr",
     "output_type": "stream",
     "text": [
      "Epoch 19/512: 100%|████████████████████████████████████████████████████████████████████████████████████████████| 455/455 [00:31<00:00, 14.65it/s]\n"
     ]
    },
    {
     "name": "stdout",
     "output_type": "stream",
     "text": [
      "Epoch 19/512: Train Loss = 0.42335, Validation Loss = 0.41659, Train Accuracy = 0.71098, Validation Accuracy = 0.71199\n"
     ]
    },
    {
     "name": "stderr",
     "output_type": "stream",
     "text": [
      "Epoch 20/512: 100%|████████████████████████████████████████████████████████████████████████████████████████████| 455/455 [00:31<00:00, 14.67it/s]\n"
     ]
    },
    {
     "name": "stdout",
     "output_type": "stream",
     "text": [
      "Epoch 20/512: Train Loss = 0.41691, Validation Loss = 0.41207, Train Accuracy = 0.71544, Validation Accuracy = 0.71529\n"
     ]
    },
    {
     "name": "stderr",
     "output_type": "stream",
     "text": [
      "Epoch 21/512: 100%|████████████████████████████████████████████████████████████████████████████████████████████| 455/455 [00:31<00:00, 14.65it/s]\n"
     ]
    },
    {
     "name": "stdout",
     "output_type": "stream",
     "text": [
      "Epoch 21/512: Train Loss = 0.41190, Validation Loss = 0.41912, Train Accuracy = 0.71740, Validation Accuracy = 0.71831\n"
     ]
    },
    {
     "name": "stderr",
     "output_type": "stream",
     "text": [
      "Epoch 22/512: 100%|████████████████████████████████████████████████████████████████████████████████████████████| 455/455 [00:31<00:00, 14.67it/s]\n"
     ]
    },
    {
     "name": "stdout",
     "output_type": "stream",
     "text": [
      "Epoch 22/512: Train Loss = 0.40493, Validation Loss = 0.41941, Train Accuracy = 0.72345, Validation Accuracy = 0.72120\n"
     ]
    },
    {
     "name": "stderr",
     "output_type": "stream",
     "text": [
      "Epoch 23/512: 100%|████████████████████████████████████████████████████████████████████████████████████████████| 455/455 [00:30<00:00, 14.70it/s]\n"
     ]
    },
    {
     "name": "stdout",
     "output_type": "stream",
     "text": [
      "Epoch 23/512: Train Loss = 0.40073, Validation Loss = 0.38730, Train Accuracy = 0.72641, Validation Accuracy = 0.72807\n"
     ]
    },
    {
     "name": "stderr",
     "output_type": "stream",
     "text": [
      "Epoch 24/512: 100%|████████████████████████████████████████████████████████████████████████████████████████████| 455/455 [00:31<00:00, 14.66it/s]\n"
     ]
    },
    {
     "name": "stdout",
     "output_type": "stream",
     "text": [
      "Epoch 24/512: Train Loss = 0.39784, Validation Loss = 0.38545, Train Accuracy = 0.72756, Validation Accuracy = 0.73316\n"
     ]
    },
    {
     "name": "stderr",
     "output_type": "stream",
     "text": [
      "Epoch 25/512: 100%|████████████████████████████████████████████████████████████████████████████████████████████| 455/455 [00:31<00:00, 14.63it/s]\n"
     ]
    },
    {
     "name": "stdout",
     "output_type": "stream",
     "text": [
      "Epoch 25/512: Train Loss = 0.38973, Validation Loss = 0.37938, Train Accuracy = 0.73263, Validation Accuracy = 0.73206\n"
     ]
    },
    {
     "name": "stderr",
     "output_type": "stream",
     "text": [
      "Epoch 26/512: 100%|████████████████████████████████████████████████████████████████████████████████████████████| 455/455 [00:31<00:00, 14.68it/s]\n"
     ]
    },
    {
     "name": "stdout",
     "output_type": "stream",
     "text": [
      "Epoch 26/512: Train Loss = 0.38808, Validation Loss = 0.40005, Train Accuracy = 0.73289, Validation Accuracy = 0.72354\n"
     ]
    },
    {
     "name": "stderr",
     "output_type": "stream",
     "text": [
      "Epoch 27/512: 100%|████████████████████████████████████████████████████████████████████████████████████████████| 455/455 [00:31<00:00, 14.66it/s]\n"
     ]
    },
    {
     "name": "stdout",
     "output_type": "stream",
     "text": [
      "Epoch 27/512: Train Loss = 0.38282, Validation Loss = 0.38359, Train Accuracy = 0.73425, Validation Accuracy = 0.73165\n"
     ]
    },
    {
     "name": "stderr",
     "output_type": "stream",
     "text": [
      "Epoch 28/512: 100%|████████████████████████████████████████████████████████████████████████████████████████████| 455/455 [00:31<00:00, 14.63it/s]\n"
     ]
    },
    {
     "name": "stdout",
     "output_type": "stream",
     "text": [
      "Epoch 28/512: Train Loss = 0.37850, Validation Loss = 0.38114, Train Accuracy = 0.73825, Validation Accuracy = 0.73068\n"
     ]
    },
    {
     "name": "stderr",
     "output_type": "stream",
     "text": [
      "Epoch 29/512: 100%|████████████████████████████████████████████████████████████████████████████████████████████| 455/455 [00:31<00:00, 14.64it/s]\n"
     ]
    },
    {
     "name": "stdout",
     "output_type": "stream",
     "text": [
      "Epoch 29/512: Train Loss = 0.37503, Validation Loss = 0.36877, Train Accuracy = 0.74083, Validation Accuracy = 0.73563\n"
     ]
    },
    {
     "name": "stderr",
     "output_type": "stream",
     "text": [
      "Epoch 30/512: 100%|████████████████████████████████████████████████████████████████████████████████████████████| 455/455 [00:31<00:00, 14.65it/s]\n"
     ]
    },
    {
     "name": "stdout",
     "output_type": "stream",
     "text": [
      "Epoch 30/512: Train Loss = 0.37225, Validation Loss = 0.37081, Train Accuracy = 0.74083, Validation Accuracy = 0.73673\n"
     ]
    },
    {
     "name": "stderr",
     "output_type": "stream",
     "text": [
      "Epoch 31/512: 100%|████████████████████████████████████████████████████████████████████████████████████████████| 455/455 [00:31<00:00, 14.65it/s]\n"
     ]
    },
    {
     "name": "stdout",
     "output_type": "stream",
     "text": [
      "Epoch 31/512: Train Loss = 0.37031, Validation Loss = 0.38918, Train Accuracy = 0.74303, Validation Accuracy = 0.73013\n"
     ]
    },
    {
     "name": "stderr",
     "output_type": "stream",
     "text": [
      "Epoch 32/512: 100%|████████████████████████████████████████████████████████████████████████████████████████████| 455/455 [00:31<00:00, 14.65it/s]\n"
     ]
    },
    {
     "name": "stdout",
     "output_type": "stream",
     "text": [
      "Epoch 32/512: Train Loss = 0.36413, Validation Loss = 0.38815, Train Accuracy = 0.74822, Validation Accuracy = 0.73302\n"
     ]
    },
    {
     "name": "stderr",
     "output_type": "stream",
     "text": [
      "Epoch 33/512: 100%|████████████████████████████████████████████████████████████████████████████████████████████| 455/455 [00:31<00:00, 14.66it/s]\n"
     ]
    },
    {
     "name": "stdout",
     "output_type": "stream",
     "text": [
      "Epoch 33/512: Train Loss = 0.36252, Validation Loss = 0.36179, Train Accuracy = 0.74691, Validation Accuracy = 0.74072\n"
     ]
    },
    {
     "name": "stderr",
     "output_type": "stream",
     "text": [
      "Epoch 34/512: 100%|████████████████████████████████████████████████████████████████████████████████████████████| 455/455 [00:31<00:00, 14.63it/s]\n"
     ]
    },
    {
     "name": "stdout",
     "output_type": "stream",
     "text": [
      "Epoch 34/512: Train Loss = 0.36002, Validation Loss = 0.38336, Train Accuracy = 0.75014, Validation Accuracy = 0.73508\n"
     ]
    },
    {
     "name": "stderr",
     "output_type": "stream",
     "text": [
      "Epoch 35/512: 100%|████████████████████████████████████████████████████████████████████████████████████████████| 455/455 [00:31<00:00, 14.64it/s]\n"
     ]
    },
    {
     "name": "stdout",
     "output_type": "stream",
     "text": [
      "Epoch 35/512: Train Loss = 0.35745, Validation Loss = 0.35421, Train Accuracy = 0.75002, Validation Accuracy = 0.74168\n"
     ]
    },
    {
     "name": "stderr",
     "output_type": "stream",
     "text": [
      "Epoch 36/512: 100%|████████████████████████████████████████████████████████████████████████████████████████████| 455/455 [00:31<00:00, 14.65it/s]\n"
     ]
    },
    {
     "name": "stdout",
     "output_type": "stream",
     "text": [
      "Epoch 36/512: Train Loss = 0.35288, Validation Loss = 0.37289, Train Accuracy = 0.75239, Validation Accuracy = 0.74278\n"
     ]
    },
    {
     "name": "stderr",
     "output_type": "stream",
     "text": [
      "Epoch 37/512: 100%|████████████████████████████████████████████████████████████████████████████████████████████| 455/455 [00:31<00:00, 14.64it/s]\n"
     ]
    },
    {
     "name": "stdout",
     "output_type": "stream",
     "text": [
      "Epoch 37/512: Train Loss = 0.35109, Validation Loss = 0.39568, Train Accuracy = 0.75258, Validation Accuracy = 0.73041\n"
     ]
    },
    {
     "name": "stderr",
     "output_type": "stream",
     "text": [
      "Epoch 38/512: 100%|████████████████████████████████████████████████████████████████████████████████████████████| 455/455 [00:31<00:00, 14.67it/s]\n"
     ]
    },
    {
     "name": "stdout",
     "output_type": "stream",
     "text": [
      "Epoch 38/512: Train Loss = 0.34729, Validation Loss = 0.37924, Train Accuracy = 0.75468, Validation Accuracy = 0.74031\n"
     ]
    },
    {
     "name": "stderr",
     "output_type": "stream",
     "text": [
      "Epoch 39/512: 100%|████████████████████████████████████████████████████████████████████████████████████████████| 455/455 [00:31<00:00, 14.67it/s]\n"
     ]
    },
    {
     "name": "stdout",
     "output_type": "stream",
     "text": [
      "Epoch 39/512: Train Loss = 0.34397, Validation Loss = 0.35123, Train Accuracy = 0.75763, Validation Accuracy = 0.74649\n"
     ]
    },
    {
     "name": "stderr",
     "output_type": "stream",
     "text": [
      "Epoch 40/512: 100%|████████████████████████████████████████████████████████████████████████████████████████████| 455/455 [00:31<00:00, 14.63it/s]\n"
     ]
    },
    {
     "name": "stdout",
     "output_type": "stream",
     "text": [
      "Epoch 40/512: Train Loss = 0.34148, Validation Loss = 0.36563, Train Accuracy = 0.76035, Validation Accuracy = 0.74704\n"
     ]
    },
    {
     "name": "stderr",
     "output_type": "stream",
     "text": [
      "Epoch 41/512: 100%|████████████████████████████████████████████████████████████████████████████████████████████| 455/455 [00:31<00:00, 14.65it/s]\n"
     ]
    },
    {
     "name": "stdout",
     "output_type": "stream",
     "text": [
      "Epoch 41/512: Train Loss = 0.33917, Validation Loss = 0.35698, Train Accuracy = 0.76126, Validation Accuracy = 0.75626\n"
     ]
    },
    {
     "name": "stderr",
     "output_type": "stream",
     "text": [
      "Epoch 42/512: 100%|████████████████████████████████████████████████████████████████████████████████████████████| 455/455 [00:31<00:00, 14.66it/s]\n"
     ]
    },
    {
     "name": "stdout",
     "output_type": "stream",
     "text": [
      "Epoch 42/512: Train Loss = 0.33698, Validation Loss = 0.34608, Train Accuracy = 0.76117, Validation Accuracy = 0.75392\n"
     ]
    },
    {
     "name": "stderr",
     "output_type": "stream",
     "text": [
      "Epoch 43/512: 100%|████████████████████████████████████████████████████████████████████████████████████████████| 455/455 [00:31<00:00, 14.67it/s]\n"
     ]
    },
    {
     "name": "stdout",
     "output_type": "stream",
     "text": [
      "Epoch 43/512: Train Loss = 0.33546, Validation Loss = 0.39175, Train Accuracy = 0.76066, Validation Accuracy = 0.74333\n"
     ]
    },
    {
     "name": "stderr",
     "output_type": "stream",
     "text": [
      "Epoch 44/512: 100%|████████████████████████████████████████████████████████████████████████████████████████████| 455/455 [00:31<00:00, 14.64it/s]\n"
     ]
    },
    {
     "name": "stdout",
     "output_type": "stream",
     "text": [
      "Epoch 44/512: Train Loss = 0.33535, Validation Loss = 0.35933, Train Accuracy = 0.76264, Validation Accuracy = 0.75254\n"
     ]
    },
    {
     "name": "stderr",
     "output_type": "stream",
     "text": [
      "Epoch 45/512: 100%|████████████████████████████████████████████████████████████████████████████████████████████| 455/455 [00:31<00:00, 14.66it/s]\n"
     ]
    },
    {
     "name": "stdout",
     "output_type": "stream",
     "text": [
      "Epoch 45/512: Train Loss = 0.33243, Validation Loss = 0.35157, Train Accuracy = 0.76398, Validation Accuracy = 0.75103\n"
     ]
    },
    {
     "name": "stderr",
     "output_type": "stream",
     "text": [
      "Epoch 46/512: 100%|████████████████████████████████████████████████████████████████████████████████████████████| 455/455 [00:31<00:00, 14.68it/s]\n"
     ]
    },
    {
     "name": "stdout",
     "output_type": "stream",
     "text": [
      "Epoch 46/512: Train Loss = 0.32921, Validation Loss = 0.34278, Train Accuracy = 0.76497, Validation Accuracy = 0.76024\n"
     ]
    },
    {
     "name": "stderr",
     "output_type": "stream",
     "text": [
      "Epoch 47/512: 100%|████████████████████████████████████████████████████████████████████████████████████████████| 455/455 [00:31<00:00, 14.65it/s]\n"
     ]
    },
    {
     "name": "stdout",
     "output_type": "stream",
     "text": [
      "Epoch 47/512: Train Loss = 0.32690, Validation Loss = 0.34987, Train Accuracy = 0.76891, Validation Accuracy = 0.75516\n"
     ]
    },
    {
     "name": "stderr",
     "output_type": "stream",
     "text": [
      "Epoch 48/512: 100%|████████████████████████████████████████████████████████████████████████████████████████████| 455/455 [00:31<00:00, 14.65it/s]\n"
     ]
    },
    {
     "name": "stdout",
     "output_type": "stream",
     "text": [
      "Epoch 48/512: Train Loss = 0.32318, Validation Loss = 0.34510, Train Accuracy = 0.76853, Validation Accuracy = 0.76203\n"
     ]
    },
    {
     "name": "stderr",
     "output_type": "stream",
     "text": [
      "Epoch 49/512: 100%|████████████████████████████████████████████████████████████████████████████████████████████| 455/455 [00:31<00:00, 14.66it/s]\n"
     ]
    },
    {
     "name": "stdout",
     "output_type": "stream",
     "text": [
      "Epoch 49/512: Train Loss = 0.32349, Validation Loss = 0.33502, Train Accuracy = 0.76977, Validation Accuracy = 0.76354\n"
     ]
    },
    {
     "name": "stderr",
     "output_type": "stream",
     "text": [
      "Epoch 50/512: 100%|████████████████████████████████████████████████████████████████████████████████████████████| 455/455 [00:31<00:00, 14.65it/s]\n"
     ]
    },
    {
     "name": "stdout",
     "output_type": "stream",
     "text": [
      "Epoch 50/512: Train Loss = 0.32028, Validation Loss = 0.33201, Train Accuracy = 0.77078, Validation Accuracy = 0.75887\n"
     ]
    },
    {
     "name": "stderr",
     "output_type": "stream",
     "text": [
      "Epoch 51/512: 100%|████████████████████████████████████████████████████████████████████████████████████████████| 455/455 [00:31<00:00, 14.66it/s]\n"
     ]
    },
    {
     "name": "stdout",
     "output_type": "stream",
     "text": [
      "Epoch 51/512: Train Loss = 0.31908, Validation Loss = 0.35811, Train Accuracy = 0.77205, Validation Accuracy = 0.75419\n"
     ]
    },
    {
     "name": "stderr",
     "output_type": "stream",
     "text": [
      "Epoch 52/512: 100%|████████████████████████████████████████████████████████████████████████████████████████████| 455/455 [00:31<00:00, 14.66it/s]\n"
     ]
    },
    {
     "name": "stdout",
     "output_type": "stream",
     "text": [
      "Epoch 52/512: Train Loss = 0.31742, Validation Loss = 0.35055, Train Accuracy = 0.77332, Validation Accuracy = 0.75708\n"
     ]
    },
    {
     "name": "stderr",
     "output_type": "stream",
     "text": [
      "Epoch 53/512: 100%|████████████████████████████████████████████████████████████████████████████████████████████| 455/455 [00:31<00:00, 14.66it/s]\n"
     ]
    },
    {
     "name": "stdout",
     "output_type": "stream",
     "text": [
      "Epoch 53/512: Train Loss = 0.31497, Validation Loss = 0.35259, Train Accuracy = 0.77269, Validation Accuracy = 0.75612\n"
     ]
    },
    {
     "name": "stderr",
     "output_type": "stream",
     "text": [
      "Epoch 54/512: 100%|████████████████████████████████████████████████████████████████████████████████████████████| 455/455 [00:31<00:00, 14.63it/s]\n"
     ]
    },
    {
     "name": "stdout",
     "output_type": "stream",
     "text": [
      "Epoch 54/512: Train Loss = 0.31346, Validation Loss = 0.32101, Train Accuracy = 0.77479, Validation Accuracy = 0.76547\n"
     ]
    },
    {
     "name": "stderr",
     "output_type": "stream",
     "text": [
      "Epoch 55/512: 100%|████████████████████████████████████████████████████████████████████████████████████████████| 455/455 [00:31<00:00, 14.65it/s]\n"
     ]
    },
    {
     "name": "stdout",
     "output_type": "stream",
     "text": [
      "Epoch 55/512: Train Loss = 0.31108, Validation Loss = 0.35385, Train Accuracy = 0.77425, Validation Accuracy = 0.75694\n"
     ]
    },
    {
     "name": "stderr",
     "output_type": "stream",
     "text": [
      "Epoch 56/512: 100%|████████████████████████████████████████████████████████████████████████████████████████████| 455/455 [00:31<00:00, 14.64it/s]\n"
     ]
    },
    {
     "name": "stdout",
     "output_type": "stream",
     "text": [
      "Epoch 56/512: Train Loss = 0.31067, Validation Loss = 0.33755, Train Accuracy = 0.77518, Validation Accuracy = 0.76230\n"
     ]
    },
    {
     "name": "stderr",
     "output_type": "stream",
     "text": [
      "Epoch 57/512: 100%|████████████████████████████████████████████████████████████████████████████████████████████| 455/455 [00:31<00:00, 14.65it/s]\n"
     ]
    },
    {
     "name": "stdout",
     "output_type": "stream",
     "text": [
      "Epoch 57/512: Train Loss = 0.31081, Validation Loss = 0.32821, Train Accuracy = 0.77604, Validation Accuracy = 0.76684\n"
     ]
    },
    {
     "name": "stderr",
     "output_type": "stream",
     "text": [
      "Epoch 58/512: 100%|████████████████████████████████████████████████████████████████████████████████████████████| 455/455 [00:31<00:00, 14.64it/s]\n"
     ]
    },
    {
     "name": "stdout",
     "output_type": "stream",
     "text": [
      "Epoch 58/512: Train Loss = 0.30726, Validation Loss = 0.34654, Train Accuracy = 0.77747, Validation Accuracy = 0.76107\n"
     ]
    },
    {
     "name": "stderr",
     "output_type": "stream",
     "text": [
      "Epoch 59/512: 100%|████████████████████████████████████████████████████████████████████████████████████████████| 455/455 [00:31<00:00, 14.63it/s]\n"
     ]
    },
    {
     "name": "stdout",
     "output_type": "stream",
     "text": [
      "Epoch 59/512: Train Loss = 0.30581, Validation Loss = 0.35362, Train Accuracy = 0.77860, Validation Accuracy = 0.76450\n"
     ]
    },
    {
     "name": "stderr",
     "output_type": "stream",
     "text": [
      "Epoch 60/512: 100%|████████████████████████████████████████████████████████████████████████████████████████████| 455/455 [00:31<00:00, 14.65it/s]\n"
     ]
    },
    {
     "name": "stdout",
     "output_type": "stream",
     "text": [
      "Epoch 60/512: Train Loss = 0.30452, Validation Loss = 0.33682, Train Accuracy = 0.77941, Validation Accuracy = 0.76148\n"
     ]
    },
    {
     "name": "stderr",
     "output_type": "stream",
     "text": [
      "Epoch 61/512: 100%|████████████████████████████████████████████████████████████████████████████████████████████| 455/455 [00:31<00:00, 14.62it/s]\n"
     ]
    },
    {
     "name": "stdout",
     "output_type": "stream",
     "text": [
      "Epoch 61/512: Train Loss = 0.30170, Validation Loss = 0.34266, Train Accuracy = 0.78001, Validation Accuracy = 0.76478\n"
     ]
    },
    {
     "name": "stderr",
     "output_type": "stream",
     "text": [
      "Epoch 62/512: 100%|████████████████████████████████████████████████████████████████████████████████████████████| 455/455 [00:31<00:00, 14.66it/s]\n"
     ]
    },
    {
     "name": "stdout",
     "output_type": "stream",
     "text": [
      "Epoch 62/512: Train Loss = 0.30077, Validation Loss = 0.34086, Train Accuracy = 0.78106, Validation Accuracy = 0.76519\n"
     ]
    },
    {
     "name": "stderr",
     "output_type": "stream",
     "text": [
      "Epoch 63/512: 100%|████████████████████████████████████████████████████████████████████████████████████████████| 455/455 [00:31<00:00, 14.64it/s]\n"
     ]
    },
    {
     "name": "stdout",
     "output_type": "stream",
     "text": [
      "Epoch 63/512: Train Loss = 0.29919, Validation Loss = 0.34983, Train Accuracy = 0.78221, Validation Accuracy = 0.75983\n"
     ]
    },
    {
     "name": "stderr",
     "output_type": "stream",
     "text": [
      "Epoch 64/512: 100%|████████████████████████████████████████████████████████████████████████████████████████████| 455/455 [00:31<00:00, 14.66it/s]\n"
     ]
    },
    {
     "name": "stdout",
     "output_type": "stream",
     "text": [
      "Epoch 64/512: Train Loss = 0.29798, Validation Loss = 0.33204, Train Accuracy = 0.78218, Validation Accuracy = 0.76863\n"
     ]
    },
    {
     "name": "stderr",
     "output_type": "stream",
     "text": [
      "Epoch 65/512: 100%|████████████████████████████████████████████████████████████████████████████████████████████| 455/455 [00:31<00:00, 14.65it/s]\n"
     ]
    },
    {
     "name": "stdout",
     "output_type": "stream",
     "text": [
      "Epoch 65/512: Train Loss = 0.29522, Validation Loss = 0.34772, Train Accuracy = 0.78353, Validation Accuracy = 0.75997\n"
     ]
    },
    {
     "name": "stderr",
     "output_type": "stream",
     "text": [
      "Epoch 66/512: 100%|████████████████████████████████████████████████████████████████████████████████████████████| 455/455 [00:31<00:00, 14.64it/s]\n"
     ]
    },
    {
     "name": "stdout",
     "output_type": "stream",
     "text": [
      "Epoch 66/512: Train Loss = 0.29559, Validation Loss = 0.31866, Train Accuracy = 0.78492, Validation Accuracy = 0.77014\n"
     ]
    },
    {
     "name": "stderr",
     "output_type": "stream",
     "text": [
      "Epoch 67/512: 100%|████████████████████████████████████████████████████████████████████████████████████████████| 455/455 [00:31<00:00, 14.65it/s]\n"
     ]
    },
    {
     "name": "stdout",
     "output_type": "stream",
     "text": [
      "Epoch 67/512: Train Loss = 0.29436, Validation Loss = 0.34420, Train Accuracy = 0.78448, Validation Accuracy = 0.75969\n"
     ]
    },
    {
     "name": "stderr",
     "output_type": "stream",
     "text": [
      "Epoch 68/512: 100%|████████████████████████████████████████████████████████████████████████████████████████████| 455/455 [00:31<00:00, 14.67it/s]\n"
     ]
    },
    {
     "name": "stdout",
     "output_type": "stream",
     "text": [
      "Epoch 68/512: Train Loss = 0.29256, Validation Loss = 0.33664, Train Accuracy = 0.78659, Validation Accuracy = 0.76698\n"
     ]
    },
    {
     "name": "stderr",
     "output_type": "stream",
     "text": [
      "Epoch 69/512: 100%|████████████████████████████████████████████████████████████████████████████████████████████| 455/455 [00:31<00:00, 14.65it/s]\n"
     ]
    },
    {
     "name": "stdout",
     "output_type": "stream",
     "text": [
      "Epoch 69/512: Train Loss = 0.29023, Validation Loss = 0.34047, Train Accuracy = 0.78599, Validation Accuracy = 0.76244\n"
     ]
    },
    {
     "name": "stderr",
     "output_type": "stream",
     "text": [
      "Epoch 70/512: 100%|████████████████████████████████████████████████████████████████████████████████████████████| 455/455 [00:30<00:00, 14.68it/s]\n"
     ]
    },
    {
     "name": "stdout",
     "output_type": "stream",
     "text": [
      "Epoch 70/512: Train Loss = 0.28965, Validation Loss = 0.31542, Train Accuracy = 0.78752, Validation Accuracy = 0.77330\n"
     ]
    },
    {
     "name": "stderr",
     "output_type": "stream",
     "text": [
      "Epoch 71/512: 100%|████████████████████████████████████████████████████████████████████████████████████████████| 455/455 [00:31<00:00, 14.65it/s]\n"
     ]
    },
    {
     "name": "stdout",
     "output_type": "stream",
     "text": [
      "Epoch 71/512: Train Loss = 0.28968, Validation Loss = 0.35919, Train Accuracy = 0.78864, Validation Accuracy = 0.75790\n"
     ]
    },
    {
     "name": "stderr",
     "output_type": "stream",
     "text": [
      "Epoch 72/512: 100%|████████████████████████████████████████████████████████████████████████████████████████████| 455/455 [00:31<00:00, 14.67it/s]\n"
     ]
    },
    {
     "name": "stdout",
     "output_type": "stream",
     "text": [
      "Epoch 72/512: Train Loss = 0.28716, Validation Loss = 0.32978, Train Accuracy = 0.78898, Validation Accuracy = 0.76698\n"
     ]
    },
    {
     "name": "stderr",
     "output_type": "stream",
     "text": [
      "Epoch 73/512: 100%|████████████████████████████████████████████████████████████████████████████████████████████| 455/455 [00:31<00:00, 14.65it/s]\n"
     ]
    },
    {
     "name": "stdout",
     "output_type": "stream",
     "text": [
      "Epoch 73/512: Train Loss = 0.28481, Validation Loss = 0.32176, Train Accuracy = 0.79250, Validation Accuracy = 0.77468\n"
     ]
    },
    {
     "name": "stderr",
     "output_type": "stream",
     "text": [
      "Epoch 74/512: 100%|████████████████████████████████████████████████████████████████████████████████████████████| 455/455 [00:31<00:00, 14.66it/s]\n"
     ]
    },
    {
     "name": "stdout",
     "output_type": "stream",
     "text": [
      "Epoch 74/512: Train Loss = 0.28384, Validation Loss = 0.34170, Train Accuracy = 0.79068, Validation Accuracy = 0.77206\n"
     ]
    },
    {
     "name": "stderr",
     "output_type": "stream",
     "text": [
      "Epoch 75/512: 100%|████████████████████████████████████████████████████████████████████████████████████████████| 455/455 [00:31<00:00, 14.65it/s]\n"
     ]
    },
    {
     "name": "stdout",
     "output_type": "stream",
     "text": [
      "Epoch 75/512: Train Loss = 0.28331, Validation Loss = 0.35249, Train Accuracy = 0.79135, Validation Accuracy = 0.76684\n"
     ]
    },
    {
     "name": "stderr",
     "output_type": "stream",
     "text": [
      "Epoch 76/512: 100%|████████████████████████████████████████████████████████████████████████████████████████████| 455/455 [00:31<00:00, 14.65it/s]\n"
     ]
    },
    {
     "name": "stdout",
     "output_type": "stream",
     "text": [
      "Epoch 76/512: Train Loss = 0.28205, Validation Loss = 0.30328, Train Accuracy = 0.79228, Validation Accuracy = 0.77866\n"
     ]
    },
    {
     "name": "stderr",
     "output_type": "stream",
     "text": [
      "Epoch 77/512: 100%|████████████████████████████████████████████████████████████████████████████████████████████| 455/455 [00:31<00:00, 14.67it/s]\n"
     ]
    },
    {
     "name": "stdout",
     "output_type": "stream",
     "text": [
      "Epoch 77/512: Train Loss = 0.28078, Validation Loss = 0.32312, Train Accuracy = 0.79128, Validation Accuracy = 0.77578\n"
     ]
    },
    {
     "name": "stderr",
     "output_type": "stream",
     "text": [
      "Epoch 78/512: 100%|████████████████████████████████████████████████████████████████████████████████████████████| 455/455 [00:31<00:00, 14.67it/s]\n"
     ]
    },
    {
     "name": "stdout",
     "output_type": "stream",
     "text": [
      "Epoch 78/512: Train Loss = 0.28063, Validation Loss = 0.31781, Train Accuracy = 0.79379, Validation Accuracy = 0.77880\n"
     ]
    },
    {
     "name": "stderr",
     "output_type": "stream",
     "text": [
      "Epoch 79/512: 100%|████████████████████████████████████████████████████████████████████████████████████████████| 455/455 [00:31<00:00, 14.65it/s]\n"
     ]
    },
    {
     "name": "stdout",
     "output_type": "stream",
     "text": [
      "Epoch 79/512: Train Loss = 0.27916, Validation Loss = 0.30618, Train Accuracy = 0.79329, Validation Accuracy = 0.77715\n"
     ]
    },
    {
     "name": "stderr",
     "output_type": "stream",
     "text": [
      "Epoch 80/512: 100%|████████████████████████████████████████████████████████████████████████████████████████████| 455/455 [00:31<00:00, 14.64it/s]\n"
     ]
    },
    {
     "name": "stdout",
     "output_type": "stream",
     "text": [
      "Epoch 80/512: Train Loss = 0.27738, Validation Loss = 0.30946, Train Accuracy = 0.79577, Validation Accuracy = 0.78031\n"
     ]
    },
    {
     "name": "stderr",
     "output_type": "stream",
     "text": [
      "Epoch 81/512: 100%|████████████████████████████████████████████████████████████████████████████████████████████| 455/455 [00:31<00:00, 14.67it/s]\n"
     ]
    },
    {
     "name": "stdout",
     "output_type": "stream",
     "text": [
      "Epoch 81/512: Train Loss = 0.27822, Validation Loss = 0.33554, Train Accuracy = 0.79429, Validation Accuracy = 0.77193\n"
     ]
    },
    {
     "name": "stderr",
     "output_type": "stream",
     "text": [
      "Epoch 82/512: 100%|████████████████████████████████████████████████████████████████████████████████████████████| 455/455 [00:31<00:00, 14.62it/s]\n"
     ]
    },
    {
     "name": "stdout",
     "output_type": "stream",
     "text": [
      "Epoch 82/512: Train Loss = 0.27570, Validation Loss = 0.30170, Train Accuracy = 0.79585, Validation Accuracy = 0.78073\n"
     ]
    },
    {
     "name": "stderr",
     "output_type": "stream",
     "text": [
      "Epoch 83/512: 100%|████████████████████████████████████████████████████████████████████████████████████████████| 455/455 [00:31<00:00, 14.65it/s]\n"
     ]
    },
    {
     "name": "stdout",
     "output_type": "stream",
     "text": [
      "Epoch 83/512: Train Loss = 0.27520, Validation Loss = 0.33318, Train Accuracy = 0.79726, Validation Accuracy = 0.77193\n"
     ]
    },
    {
     "name": "stderr",
     "output_type": "stream",
     "text": [
      "Epoch 84/512: 100%|████████████████████████████████████████████████████████████████████████████████████████████| 455/455 [00:31<00:00, 14.64it/s]\n"
     ]
    },
    {
     "name": "stdout",
     "output_type": "stream",
     "text": [
      "Epoch 84/512: Train Loss = 0.27330, Validation Loss = 0.31507, Train Accuracy = 0.79823, Validation Accuracy = 0.77550\n"
     ]
    },
    {
     "name": "stderr",
     "output_type": "stream",
     "text": [
      "Epoch 85/512: 100%|████████████████████████████████████████████████████████████████████████████████████████████| 455/455 [00:31<00:00, 14.66it/s]\n"
     ]
    },
    {
     "name": "stdout",
     "output_type": "stream",
     "text": [
      "Epoch 85/512: Train Loss = 0.27231, Validation Loss = 0.31037, Train Accuracy = 0.79756, Validation Accuracy = 0.77976\n"
     ]
    },
    {
     "name": "stderr",
     "output_type": "stream",
     "text": [
      "Epoch 86/512: 100%|████████████████████████████████████████████████████████████████████████████████████████████| 455/455 [00:31<00:00, 14.67it/s]\n"
     ]
    },
    {
     "name": "stdout",
     "output_type": "stream",
     "text": [
      "Epoch 86/512: Train Loss = 0.27142, Validation Loss = 0.36338, Train Accuracy = 0.79972, Validation Accuracy = 0.76725\n"
     ]
    },
    {
     "name": "stderr",
     "output_type": "stream",
     "text": [
      "Epoch 87/512: 100%|████████████████████████████████████████████████████████████████████████████████████████████| 455/455 [00:31<00:00, 14.64it/s]\n"
     ]
    },
    {
     "name": "stdout",
     "output_type": "stream",
     "text": [
      "Epoch 87/512: Train Loss = 0.27053, Validation Loss = 0.33802, Train Accuracy = 0.80062, Validation Accuracy = 0.77220\n"
     ]
    },
    {
     "name": "stderr",
     "output_type": "stream",
     "text": [
      "Epoch 88/512: 100%|████████████████████████████████████████████████████████████████████████████████████████████| 455/455 [00:30<00:00, 14.68it/s]\n"
     ]
    },
    {
     "name": "stdout",
     "output_type": "stream",
     "text": [
      "Epoch 88/512: Train Loss = 0.26971, Validation Loss = 0.32922, Train Accuracy = 0.79969, Validation Accuracy = 0.77454\n"
     ]
    },
    {
     "name": "stderr",
     "output_type": "stream",
     "text": [
      "Epoch 89/512: 100%|█████████████████████████████████████████████████████████████████████████████| 455/455 [00:31<00:00, 14.66it/s]\n"
     ]
    },
    {
     "name": "stdout",
     "output_type": "stream",
     "text": [
      "Epoch 89/512: Train Loss = 0.26937, Validation Loss = 0.31778, Train Accuracy = 0.79905, Validation Accuracy = 0.77935\n"
     ]
    },
    {
     "name": "stderr",
     "output_type": "stream",
     "text": [
      "Epoch 90/512: 100%|█████████████████████████████████████████████████████████████████████████████| 455/455 [00:31<00:00, 14.65it/s]\n"
     ]
    },
    {
     "name": "stdout",
     "output_type": "stream",
     "text": [
      "Epoch 90/512: Train Loss = 0.26767, Validation Loss = 0.33499, Train Accuracy = 0.79962, Validation Accuracy = 0.76739\n"
     ]
    },
    {
     "name": "stderr",
     "output_type": "stream",
     "text": [
      "Epoch 91/512: 100%|█████████████████████████████████████████████████████████████████████████████| 455/455 [00:31<00:00, 14.63it/s]\n"
     ]
    },
    {
     "name": "stdout",
     "output_type": "stream",
     "text": [
      "Epoch 91/512: Train Loss = 0.26636, Validation Loss = 0.33296, Train Accuracy = 0.80056, Validation Accuracy = 0.77894\n"
     ]
    },
    {
     "name": "stderr",
     "output_type": "stream",
     "text": [
      "Epoch 92/512: 100%|█████████████████████████████████████████████████████████████████████████████| 455/455 [00:31<00:00, 14.63it/s]\n"
     ]
    },
    {
     "name": "stdout",
     "output_type": "stream",
     "text": [
      "Epoch 92/512: Train Loss = 0.26645, Validation Loss = 0.34116, Train Accuracy = 0.80108, Validation Accuracy = 0.77000\n"
     ]
    },
    {
     "name": "stderr",
     "output_type": "stream",
     "text": [
      "Epoch 93/512: 100%|█████████████████████████████████████████████████████████████████████████████| 455/455 [00:31<00:00, 14.65it/s]\n"
     ]
    },
    {
     "name": "stdout",
     "output_type": "stream",
     "text": [
      "Epoch 93/512: Train Loss = 0.26349, Validation Loss = 0.31729, Train Accuracy = 0.80232, Validation Accuracy = 0.78141\n"
     ]
    },
    {
     "name": "stderr",
     "output_type": "stream",
     "text": [
      "Epoch 94/512: 100%|█████████████████████████████████████████████████████████████████████████████| 455/455 [00:31<00:00, 14.63it/s]\n"
     ]
    },
    {
     "name": "stdout",
     "output_type": "stream",
     "text": [
      "Epoch 94/512: Train Loss = 0.26441, Validation Loss = 0.31136, Train Accuracy = 0.80094, Validation Accuracy = 0.78196\n"
     ]
    },
    {
     "name": "stderr",
     "output_type": "stream",
     "text": [
      "Epoch 95/512: 100%|█████████████████████████████████████████████████████████████████████████████| 455/455 [00:31<00:00, 14.65it/s]\n"
     ]
    },
    {
     "name": "stdout",
     "output_type": "stream",
     "text": [
      "Epoch 95/512: Train Loss = 0.26227, Validation Loss = 0.31562, Train Accuracy = 0.80184, Validation Accuracy = 0.78183\n"
     ]
    },
    {
     "name": "stderr",
     "output_type": "stream",
     "text": [
      "Epoch 96/512: 100%|█████████████████████████████████████████████████████████████████████████████| 455/455 [00:31<00:00, 14.67it/s]\n"
     ]
    },
    {
     "name": "stdout",
     "output_type": "stream",
     "text": [
      "Epoch 96/512: Train Loss = 0.26116, Validation Loss = 0.32542, Train Accuracy = 0.80457, Validation Accuracy = 0.77509\n"
     ]
    },
    {
     "name": "stderr",
     "output_type": "stream",
     "text": [
      "Epoch 97/512: 100%|█████████████████████████████████████████████████████████████████████████████| 455/455 [00:30<00:00, 14.69it/s]\n"
     ]
    },
    {
     "name": "stdout",
     "output_type": "stream",
     "text": [
      "Epoch 97/512: Train Loss = 0.26066, Validation Loss = 0.32592, Train Accuracy = 0.80398, Validation Accuracy = 0.77674\n"
     ]
    },
    {
     "name": "stderr",
     "output_type": "stream",
     "text": [
      "Epoch 98/512: 100%|█████████████████████████████████████████████████████████████████████████████| 455/455 [00:31<00:00, 14.64it/s]\n"
     ]
    },
    {
     "name": "stdout",
     "output_type": "stream",
     "text": [
      "Epoch 98/512: Train Loss = 0.25940, Validation Loss = 0.31683, Train Accuracy = 0.80364, Validation Accuracy = 0.78018\n"
     ]
    },
    {
     "name": "stderr",
     "output_type": "stream",
     "text": [
      "Epoch 99/512: 100%|█████████████████████████████████████████████████████████████████████████████| 455/455 [00:31<00:00, 14.66it/s]\n"
     ]
    },
    {
     "name": "stdout",
     "output_type": "stream",
     "text": [
      "Epoch 99/512: Train Loss = 0.25983, Validation Loss = 0.30018, Train Accuracy = 0.80577, Validation Accuracy = 0.78293\n"
     ]
    },
    {
     "name": "stderr",
     "output_type": "stream",
     "text": [
      "Epoch 100/512: 100%|████████████████████████████████████████████████████████████████████████████| 455/455 [00:31<00:00, 14.66it/s]\n"
     ]
    },
    {
     "name": "stdout",
     "output_type": "stream",
     "text": [
      "Epoch 100/512: Train Loss = 0.25972, Validation Loss = 0.32159, Train Accuracy = 0.80326, Validation Accuracy = 0.77880\n"
     ]
    },
    {
     "name": "stderr",
     "output_type": "stream",
     "text": [
      "Epoch 101/512: 100%|████████████████████████████████████████████████████████████████████████████| 455/455 [00:31<00:00, 14.65it/s]\n"
     ]
    },
    {
     "name": "stdout",
     "output_type": "stream",
     "text": [
      "Epoch 101/512: Train Loss = 0.25709, Validation Loss = 0.30828, Train Accuracy = 0.80582, Validation Accuracy = 0.78224\n"
     ]
    },
    {
     "name": "stderr",
     "output_type": "stream",
     "text": [
      "Epoch 102/512: 100%|████████████████████████████████████████████████████████████████████████████| 455/455 [00:31<00:00, 14.66it/s]\n"
     ]
    },
    {
     "name": "stdout",
     "output_type": "stream",
     "text": [
      "Epoch 102/512: Train Loss = 0.25629, Validation Loss = 0.30112, Train Accuracy = 0.80787, Validation Accuracy = 0.78526\n"
     ]
    },
    {
     "name": "stderr",
     "output_type": "stream",
     "text": [
      "Epoch 103/512: 100%|████████████████████████████████████████████████████████████████████████████| 455/455 [00:31<00:00, 14.67it/s]\n"
     ]
    },
    {
     "name": "stdout",
     "output_type": "stream",
     "text": [
      "Epoch 103/512: Train Loss = 0.25587, Validation Loss = 0.31779, Train Accuracy = 0.80666, Validation Accuracy = 0.78389\n"
     ]
    },
    {
     "name": "stderr",
     "output_type": "stream",
     "text": [
      "Epoch 104/512: 100%|████████████████████████████████████████████████████████████████████████████| 455/455 [00:31<00:00, 14.62it/s]\n"
     ]
    },
    {
     "name": "stdout",
     "output_type": "stream",
     "text": [
      "Epoch 104/512: Train Loss = 0.25399, Validation Loss = 0.32896, Train Accuracy = 0.80780, Validation Accuracy = 0.77701\n"
     ]
    },
    {
     "name": "stderr",
     "output_type": "stream",
     "text": [
      "Epoch 105/512: 100%|████████████████████████████████████████████████████████████████████████████| 455/455 [00:31<00:00, 14.65it/s]\n"
     ]
    },
    {
     "name": "stdout",
     "output_type": "stream",
     "text": [
      "Epoch 105/512: Train Loss = 0.25425, Validation Loss = 0.33016, Train Accuracy = 0.80826, Validation Accuracy = 0.78251\n"
     ]
    },
    {
     "name": "stderr",
     "output_type": "stream",
     "text": [
      "Epoch 106/512: 100%|████████████████████████████████████████████████████████████████████████████| 455/455 [00:31<00:00, 14.65it/s]\n"
     ]
    },
    {
     "name": "stdout",
     "output_type": "stream",
     "text": [
      "Epoch 106/512: Train Loss = 0.25533, Validation Loss = 0.30497, Train Accuracy = 0.80691, Validation Accuracy = 0.78568\n"
     ]
    },
    {
     "name": "stderr",
     "output_type": "stream",
     "text": [
      "Epoch 107/512: 100%|████████████████████████████████████████████████████████████████████████████| 455/455 [00:31<00:00, 14.65it/s]\n"
     ]
    },
    {
     "name": "stdout",
     "output_type": "stream",
     "text": [
      "Epoch 107/512: Train Loss = 0.25313, Validation Loss = 0.31474, Train Accuracy = 0.80868, Validation Accuracy = 0.78636\n"
     ]
    },
    {
     "name": "stderr",
     "output_type": "stream",
     "text": [
      "Epoch 108/512: 100%|████████████████████████████████████████████████████████████████████████████| 455/455 [00:31<00:00, 14.65it/s]\n"
     ]
    },
    {
     "name": "stdout",
     "output_type": "stream",
     "text": [
      "Epoch 108/512: Train Loss = 0.25129, Validation Loss = 0.30352, Train Accuracy = 0.81067, Validation Accuracy = 0.78801\n"
     ]
    },
    {
     "name": "stderr",
     "output_type": "stream",
     "text": [
      "Epoch 109/512: 100%|████████████████████████████████████████████████████████████████████████████| 455/455 [00:31<00:00, 14.66it/s]\n"
     ]
    },
    {
     "name": "stdout",
     "output_type": "stream",
     "text": [
      "Epoch 109/512: Train Loss = 0.25128, Validation Loss = 0.32514, Train Accuracy = 0.80842, Validation Accuracy = 0.78306\n"
     ]
    },
    {
     "name": "stderr",
     "output_type": "stream",
     "text": [
      "Epoch 110/512: 100%|████████████████████████████████████████████████████████████████████████████| 455/455 [00:31<00:00, 14.65it/s]\n"
     ]
    },
    {
     "name": "stdout",
     "output_type": "stream",
     "text": [
      "Epoch 110/512: Train Loss = 0.24964, Validation Loss = 0.31320, Train Accuracy = 0.81081, Validation Accuracy = 0.78031\n"
     ]
    },
    {
     "name": "stderr",
     "output_type": "stream",
     "text": [
      "Epoch 111/512: 100%|████████████████████████████████████████████████████████████████████████████| 455/455 [00:30<00:00, 14.70it/s]\n"
     ]
    },
    {
     "name": "stdout",
     "output_type": "stream",
     "text": [
      "Epoch 111/512: Train Loss = 0.24955, Validation Loss = 0.30525, Train Accuracy = 0.80967, Validation Accuracy = 0.78746\n"
     ]
    },
    {
     "name": "stderr",
     "output_type": "stream",
     "text": [
      "Epoch 112/512: 100%|████████████████████████████████████████████████████████████████████████████| 455/455 [00:31<00:00, 14.65it/s]\n"
     ]
    },
    {
     "name": "stdout",
     "output_type": "stream",
     "text": [
      "Epoch 112/512: Train Loss = 0.24752, Validation Loss = 0.30858, Train Accuracy = 0.81105, Validation Accuracy = 0.79214\n"
     ]
    },
    {
     "name": "stderr",
     "output_type": "stream",
     "text": [
      "Epoch 113/512: 100%|████████████████████████████████████████████████████████████████████████████| 455/455 [00:31<00:00, 14.62it/s]\n"
     ]
    },
    {
     "name": "stdout",
     "output_type": "stream",
     "text": [
      "Epoch 113/512: Train Loss = 0.24780, Validation Loss = 0.31235, Train Accuracy = 0.81096, Validation Accuracy = 0.78719\n"
     ]
    },
    {
     "name": "stderr",
     "output_type": "stream",
     "text": [
      "Epoch 114/512: 100%|████████████████████████████████████████████████████████████████████████████| 455/455 [00:31<00:00, 14.65it/s]\n"
     ]
    },
    {
     "name": "stdout",
     "output_type": "stream",
     "text": [
      "Epoch 114/512: Train Loss = 0.24908, Validation Loss = 0.31104, Train Accuracy = 0.81185, Validation Accuracy = 0.78293\n"
     ]
    },
    {
     "name": "stderr",
     "output_type": "stream",
     "text": [
      "Epoch 115/512: 100%|████████████████████████████████████████████████████████████████████████████| 455/455 [00:31<00:00, 14.67it/s]\n"
     ]
    },
    {
     "name": "stdout",
     "output_type": "stream",
     "text": [
      "Epoch 115/512: Train Loss = 0.24727, Validation Loss = 0.34868, Train Accuracy = 0.81067, Validation Accuracy = 0.77481\n"
     ]
    },
    {
     "name": "stderr",
     "output_type": "stream",
     "text": [
      "Epoch 116/512: 100%|████████████████████████████████████████████████████████████████████████████| 455/455 [00:31<00:00, 14.67it/s]\n"
     ]
    },
    {
     "name": "stdout",
     "output_type": "stream",
     "text": [
      "Epoch 116/512: Train Loss = 0.24636, Validation Loss = 0.29692, Train Accuracy = 0.81165, Validation Accuracy = 0.78471\n"
     ]
    },
    {
     "name": "stderr",
     "output_type": "stream",
     "text": [
      "Epoch 117/512: 100%|████████████████████████████████████████████████████████████████████████████| 455/455 [00:31<00:00, 14.64it/s]\n"
     ]
    },
    {
     "name": "stdout",
     "output_type": "stream",
     "text": [
      "Epoch 117/512: Train Loss = 0.24455, Validation Loss = 0.29886, Train Accuracy = 0.81474, Validation Accuracy = 0.78719\n"
     ]
    },
    {
     "name": "stderr",
     "output_type": "stream",
     "text": [
      "Epoch 122/512: 100%|████████████████████████████████████████████████████████████████████████████| 455/455 [00:31<00:00, 14.65it/s]\n"
     ]
    },
    {
     "name": "stdout",
     "output_type": "stream",
     "text": [
      "Epoch 122/512: Train Loss = 0.24231, Validation Loss = 0.28927, Train Accuracy = 0.81447, Validation Accuracy = 0.79695\n"
     ]
    },
    {
     "name": "stderr",
     "output_type": "stream",
     "text": [
      "Epoch 123/512: 100%|████████████████████████████████████████████████████████████████████████████| 455/455 [00:31<00:00, 14.63it/s]\n"
     ]
    },
    {
     "name": "stdout",
     "output_type": "stream",
     "text": [
      "Epoch 123/512: Train Loss = 0.24019, Validation Loss = 0.31644, Train Accuracy = 0.81460, Validation Accuracy = 0.78719\n"
     ]
    },
    {
     "name": "stderr",
     "output_type": "stream",
     "text": [
      "Epoch 124/512: 100%|████████████████████████████████████████████████████████████████████████████| 455/455 [00:31<00:00, 14.65it/s]\n"
     ]
    },
    {
     "name": "stdout",
     "output_type": "stream",
     "text": [
      "Epoch 124/512: Train Loss = 0.23954, Validation Loss = 0.29901, Train Accuracy = 0.81527, Validation Accuracy = 0.78897\n"
     ]
    },
    {
     "name": "stderr",
     "output_type": "stream",
     "text": [
      "Epoch 125/512: 100%|████████████████████████████████████████████████████████████████████████████| 455/455 [00:30<00:00, 14.68it/s]\n"
     ]
    },
    {
     "name": "stdout",
     "output_type": "stream",
     "text": [
      "Epoch 125/512: Train Loss = 0.23858, Validation Loss = 0.28997, Train Accuracy = 0.81704, Validation Accuracy = 0.79255\n"
     ]
    },
    {
     "name": "stderr",
     "output_type": "stream",
     "text": [
      "Epoch 126/512: 100%|████████████████████████████████████████████████████████████████████████████| 455/455 [00:31<00:00, 14.65it/s]\n"
     ]
    },
    {
     "name": "stdout",
     "output_type": "stream",
     "text": [
      "Epoch 126/512: Train Loss = 0.23851, Validation Loss = 0.29709, Train Accuracy = 0.81966, Validation Accuracy = 0.79530\n"
     ]
    },
    {
     "name": "stderr",
     "output_type": "stream",
     "text": [
      "Epoch 127/512: 100%|████████████████████████████████████████████████████████████████████████████| 455/455 [00:31<00:00, 14.67it/s]\n"
     ]
    },
    {
     "name": "stdout",
     "output_type": "stream",
     "text": [
      "Epoch 127/512: Train Loss = 0.24051, Validation Loss = 0.29984, Train Accuracy = 0.81533, Validation Accuracy = 0.78361\n"
     ]
    },
    {
     "name": "stderr",
     "output_type": "stream",
     "text": [
      "Epoch 128/512: 100%|████████████████████████████████████████████████████████████████████████████| 455/455 [00:31<00:00, 14.61it/s]\n"
     ]
    },
    {
     "name": "stdout",
     "output_type": "stream",
     "text": [
      "Epoch 128/512: Train Loss = 0.23698, Validation Loss = 0.31787, Train Accuracy = 0.81747, Validation Accuracy = 0.78334\n"
     ]
    },
    {
     "name": "stderr",
     "output_type": "stream",
     "text": [
      "Epoch 129/512: 100%|████████████████████████████████████████████████████████████████████████████| 455/455 [00:31<00:00, 14.64it/s]\n"
     ]
    },
    {
     "name": "stdout",
     "output_type": "stream",
     "text": [
      "Epoch 129/512: Train Loss = 0.23763, Validation Loss = 0.30416, Train Accuracy = 0.81579, Validation Accuracy = 0.79434\n"
     ]
    },
    {
     "name": "stderr",
     "output_type": "stream",
     "text": [
      "Epoch 130/512: 100%|████████████████████████████████████████████████████████████████████████████| 455/455 [00:31<00:00, 14.62it/s]\n"
     ]
    },
    {
     "name": "stdout",
     "output_type": "stream",
     "text": [
      "Epoch 130/512: Train Loss = 0.23709, Validation Loss = 0.29442, Train Accuracy = 0.81921, Validation Accuracy = 0.79282\n"
     ]
    },
    {
     "name": "stderr",
     "output_type": "stream",
     "text": [
      "Epoch 131/512: 100%|████████████████████████████████████████████████████████████████████████████| 455/455 [00:31<00:00, 14.64it/s]\n"
     ]
    },
    {
     "name": "stdout",
     "output_type": "stream",
     "text": [
      "Epoch 131/512: Train Loss = 0.23611, Validation Loss = 0.28873, Train Accuracy = 0.81775, Validation Accuracy = 0.79434\n"
     ]
    },
    {
     "name": "stderr",
     "output_type": "stream",
     "text": [
      "Epoch 132/512: 100%|████████████████████████████████████████████████████████████████████████████| 455/455 [00:30<00:00, 14.68it/s]\n"
     ]
    },
    {
     "name": "stdout",
     "output_type": "stream",
     "text": [
      "Epoch 132/512: Train Loss = 0.23553, Validation Loss = 0.29645, Train Accuracy = 0.81863, Validation Accuracy = 0.78897\n"
     ]
    },
    {
     "name": "stderr",
     "output_type": "stream",
     "text": [
      "Epoch 133/512: 100%|████████████████████████████████████████████████████████████████████████████| 455/455 [00:31<00:00, 14.67it/s]\n"
     ]
    },
    {
     "name": "stdout",
     "output_type": "stream",
     "text": [
      "Epoch 133/512: Train Loss = 0.23513, Validation Loss = 0.30067, Train Accuracy = 0.81790, Validation Accuracy = 0.79145\n"
     ]
    },
    {
     "name": "stderr",
     "output_type": "stream",
     "text": [
      "Epoch 134/512: 100%|████████████████████████████████████████████████████████████████████████████| 455/455 [00:31<00:00, 14.63it/s]\n"
     ]
    },
    {
     "name": "stdout",
     "output_type": "stream",
     "text": [
      "Epoch 134/512: Train Loss = 0.23417, Validation Loss = 0.31394, Train Accuracy = 0.81914, Validation Accuracy = 0.78526\n"
     ]
    },
    {
     "name": "stderr",
     "output_type": "stream",
     "text": [
      "Epoch 135/512: 100%|████████████████████████████████████████████████████████████████████████████| 455/455 [00:31<00:00, 14.67it/s]\n"
     ]
    },
    {
     "name": "stdout",
     "output_type": "stream",
     "text": [
      "Epoch 135/512: Train Loss = 0.23361, Validation Loss = 0.31775, Train Accuracy = 0.81931, Validation Accuracy = 0.77963\n"
     ]
    },
    {
     "name": "stderr",
     "output_type": "stream",
     "text": [
      "Epoch 136/512: 100%|████████████████████████████████████████████████████████████████████████████| 455/455 [00:31<00:00, 14.65it/s]\n"
     ]
    },
    {
     "name": "stdout",
     "output_type": "stream",
     "text": [
      "Epoch 136/512: Train Loss = 0.23178, Validation Loss = 0.28780, Train Accuracy = 0.81971, Validation Accuracy = 0.79530\n"
     ]
    },
    {
     "name": "stderr",
     "output_type": "stream",
     "text": [
      "Epoch 137/512: 100%|████████████████████████████████████████████████████████████████████████████| 455/455 [00:31<00:00, 14.67it/s]\n"
     ]
    },
    {
     "name": "stdout",
     "output_type": "stream",
     "text": [
      "Epoch 137/512: Train Loss = 0.23241, Validation Loss = 0.28641, Train Accuracy = 0.82016, Validation Accuracy = 0.79544\n"
     ]
    },
    {
     "name": "stderr",
     "output_type": "stream",
     "text": [
      "Epoch 138/512: 100%|████████████████████████████████████████████████████████████████████████████| 455/455 [00:31<00:00, 14.65it/s]\n"
     ]
    },
    {
     "name": "stdout",
     "output_type": "stream",
     "text": [
      "Epoch 138/512: Train Loss = 0.23145, Validation Loss = 0.29310, Train Accuracy = 0.82019, Validation Accuracy = 0.79654\n"
     ]
    },
    {
     "name": "stderr",
     "output_type": "stream",
     "text": [
      "Epoch 139/512: 100%|████████████████████████████████████████████████████████████████████████████| 455/455 [00:31<00:00, 14.65it/s]\n"
     ]
    },
    {
     "name": "stdout",
     "output_type": "stream",
     "text": [
      "Epoch 139/512: Train Loss = 0.23134, Validation Loss = 0.28202, Train Accuracy = 0.82058, Validation Accuracy = 0.79612\n"
     ]
    },
    {
     "name": "stderr",
     "output_type": "stream",
     "text": [
      "Epoch 140/512: 100%|████████████████████████████████████████████████████████████████████████████| 455/455 [00:31<00:00, 14.63it/s]\n"
     ]
    },
    {
     "name": "stdout",
     "output_type": "stream",
     "text": [
      "Epoch 140/512: Train Loss = 0.23294, Validation Loss = 0.30729, Train Accuracy = 0.81911, Validation Accuracy = 0.79159\n"
     ]
    },
    {
     "name": "stderr",
     "output_type": "stream",
     "text": [
      "Epoch 141/512: 100%|████████████████████████████████████████████████████████████████████████████| 455/455 [00:31<00:00, 14.65it/s]\n"
     ]
    },
    {
     "name": "stdout",
     "output_type": "stream",
     "text": [
      "Epoch 141/512: Train Loss = 0.23108, Validation Loss = 0.27904, Train Accuracy = 0.82038, Validation Accuracy = 0.79722\n"
     ]
    },
    {
     "name": "stderr",
     "output_type": "stream",
     "text": [
      "Epoch 142/512: 100%|████████████████████████████████████████████████████████████████████████████| 455/455 [00:31<00:00, 14.68it/s]\n"
     ]
    },
    {
     "name": "stdout",
     "output_type": "stream",
     "text": [
      "Epoch 142/512: Train Loss = 0.22995, Validation Loss = 0.31170, Train Accuracy = 0.82241, Validation Accuracy = 0.78801\n"
     ]
    },
    {
     "name": "stderr",
     "output_type": "stream",
     "text": [
      "Epoch 143/512: 100%|████████████████████████████████████████████████████████████████████████████| 455/455 [00:31<00:00, 14.63it/s]\n"
     ]
    },
    {
     "name": "stdout",
     "output_type": "stream",
     "text": [
      "Epoch 143/512: Train Loss = 0.23039, Validation Loss = 0.31454, Train Accuracy = 0.82110, Validation Accuracy = 0.78513\n"
     ]
    },
    {
     "name": "stderr",
     "output_type": "stream",
     "text": [
      "Epoch 144/512: 100%|████████████████████████████████████████████████████████████████████████████| 455/455 [00:31<00:00, 14.65it/s]\n"
     ]
    },
    {
     "name": "stdout",
     "output_type": "stream",
     "text": [
      "Epoch 144/512: Train Loss = 0.22869, Validation Loss = 0.29476, Train Accuracy = 0.82304, Validation Accuracy = 0.78815\n"
     ]
    },
    {
     "name": "stderr",
     "output_type": "stream",
     "text": [
      "Epoch 145/512: 100%|████████████████████████████████████████████████████████████████████████████| 455/455 [00:31<00:00, 14.67it/s]\n"
     ]
    },
    {
     "name": "stdout",
     "output_type": "stream",
     "text": [
      "Epoch 145/512: Train Loss = 0.22745, Validation Loss = 0.28916, Train Accuracy = 0.82289, Validation Accuracy = 0.79351\n"
     ]
    },
    {
     "name": "stderr",
     "output_type": "stream",
     "text": [
      "Epoch 146/512: 100%|████████████████████████████████████████████████████████████████████████████| 455/455 [00:31<00:00, 14.66it/s]\n"
     ]
    },
    {
     "name": "stdout",
     "output_type": "stream",
     "text": [
      "Epoch 146/512: Train Loss = 0.23060, Validation Loss = 0.31759, Train Accuracy = 0.82101, Validation Accuracy = 0.78513\n"
     ]
    },
    {
     "name": "stderr",
     "output_type": "stream",
     "text": [
      "Epoch 147/512: 100%|████████████████████████████████████████████████████████████████████████████| 455/455 [00:31<00:00, 14.64it/s]\n"
     ]
    },
    {
     "name": "stdout",
     "output_type": "stream",
     "text": [
      "Epoch 147/512: Train Loss = 0.22742, Validation Loss = 0.28523, Train Accuracy = 0.82194, Validation Accuracy = 0.79626\n"
     ]
    },
    {
     "name": "stderr",
     "output_type": "stream",
     "text": [
      "Epoch 148/512: 100%|████████████████████████████████████████████████████████████████████████████| 455/455 [00:31<00:00, 14.67it/s]\n"
     ]
    },
    {
     "name": "stdout",
     "output_type": "stream",
     "text": [
      "Epoch 148/512: Train Loss = 0.22641, Validation Loss = 0.30068, Train Accuracy = 0.82153, Validation Accuracy = 0.78911\n"
     ]
    },
    {
     "name": "stderr",
     "output_type": "stream",
     "text": [
      "Epoch 149/512: 100%|████████████████████████████████████████████████████████████████████████████| 455/455 [00:31<00:00, 14.66it/s]\n"
     ]
    },
    {
     "name": "stdout",
     "output_type": "stream",
     "text": [
      "Epoch 149/512: Train Loss = 0.22749, Validation Loss = 0.30984, Train Accuracy = 0.82180, Validation Accuracy = 0.79406\n"
     ]
    },
    {
     "name": "stderr",
     "output_type": "stream",
     "text": [
      "Epoch 150/512: 100%|████████████████████████████████████████████████████████████████████████████| 455/455 [00:31<00:00, 14.66it/s]\n"
     ]
    },
    {
     "name": "stdout",
     "output_type": "stream",
     "text": [
      "Epoch 150/512: Train Loss = 0.22637, Validation Loss = 0.32049, Train Accuracy = 0.82316, Validation Accuracy = 0.78348\n"
     ]
    },
    {
     "name": "stderr",
     "output_type": "stream",
     "text": [
      "Epoch 151/512: 100%|████████████████████████████████████████████████████████████████████████████| 455/455 [00:31<00:00, 14.63it/s]\n"
     ]
    },
    {
     "name": "stdout",
     "output_type": "stream",
     "text": [
      "Epoch 151/512: Train Loss = 0.22514, Validation Loss = 0.28411, Train Accuracy = 0.82321, Validation Accuracy = 0.79117\n"
     ]
    },
    {
     "name": "stderr",
     "output_type": "stream",
     "text": [
      "Epoch 152/512: 100%|████████████████████████████████████████████████████████████████████████████| 455/455 [00:31<00:00, 14.65it/s]\n"
     ]
    },
    {
     "name": "stdout",
     "output_type": "stream",
     "text": [
      "Epoch 152/512: Train Loss = 0.22641, Validation Loss = 0.29309, Train Accuracy = 0.82297, Validation Accuracy = 0.78897\n"
     ]
    },
    {
     "name": "stderr",
     "output_type": "stream",
     "text": [
      "Epoch 153/512: 100%|████████████████████████████████████████████████████████████████████████████| 455/455 [00:31<00:00, 14.65it/s]\n"
     ]
    },
    {
     "name": "stdout",
     "output_type": "stream",
     "text": [
      "Epoch 153/512: Train Loss = 0.22405, Validation Loss = 0.27066, Train Accuracy = 0.82327, Validation Accuracy = 0.79805\n"
     ]
    },
    {
     "name": "stderr",
     "output_type": "stream",
     "text": [
      "Epoch 154/512: 100%|████████████████████████████████████████████████████████████████████████████| 455/455 [00:31<00:00, 14.66it/s]\n"
     ]
    },
    {
     "name": "stdout",
     "output_type": "stream",
     "text": [
      "Epoch 154/512: Train Loss = 0.22424, Validation Loss = 0.26756, Train Accuracy = 0.82385, Validation Accuracy = 0.80272\n"
     ]
    },
    {
     "name": "stderr",
     "output_type": "stream",
     "text": [
      "Epoch 155/512: 100%|████████████████████████████████████████████████████████████████████████████| 455/455 [00:31<00:00, 14.62it/s]\n"
     ]
    },
    {
     "name": "stdout",
     "output_type": "stream",
     "text": [
      "Epoch 155/512: Train Loss = 0.22451, Validation Loss = 0.28210, Train Accuracy = 0.82419, Validation Accuracy = 0.79709\n"
     ]
    },
    {
     "name": "stderr",
     "output_type": "stream",
     "text": [
      "Epoch 156/512: 100%|████████████████████████████████████████████████████████████████████████████| 455/455 [00:31<00:00, 14.61it/s]\n"
     ]
    },
    {
     "name": "stdout",
     "output_type": "stream",
     "text": [
      "Epoch 156/512: Train Loss = 0.22360, Validation Loss = 0.28738, Train Accuracy = 0.82644, Validation Accuracy = 0.79722\n"
     ]
    },
    {
     "name": "stderr",
     "output_type": "stream",
     "text": [
      "Epoch 157/512: 100%|████████████████████████████████████████████████████████████████████████████| 455/455 [00:31<00:00, 14.64it/s]\n"
     ]
    },
    {
     "name": "stdout",
     "output_type": "stream",
     "text": [
      "Epoch 157/512: Train Loss = 0.22490, Validation Loss = 0.30749, Train Accuracy = 0.82318, Validation Accuracy = 0.78787\n"
     ]
    },
    {
     "name": "stderr",
     "output_type": "stream",
     "text": [
      "Epoch 158/512: 100%|████████████████████████████████████████████████████████████████████████████| 455/455 [00:31<00:00, 14.63it/s]\n"
     ]
    },
    {
     "name": "stdout",
     "output_type": "stream",
     "text": [
      "Epoch 158/512: Train Loss = 0.22157, Validation Loss = 0.29785, Train Accuracy = 0.82644, Validation Accuracy = 0.79447\n"
     ]
    },
    {
     "name": "stderr",
     "output_type": "stream",
     "text": [
      "Epoch 159/512: 100%|████████████████████████████████████████████████████████████████████████████| 455/455 [00:31<00:00, 14.65it/s]\n"
     ]
    },
    {
     "name": "stdout",
     "output_type": "stream",
     "text": [
      "Epoch 159/512: Train Loss = 0.22199, Validation Loss = 0.30346, Train Accuracy = 0.82615, Validation Accuracy = 0.78980\n"
     ]
    },
    {
     "name": "stderr",
     "output_type": "stream",
     "text": [
      "Epoch 160/512: 100%|████████████████████████████████████████████████████████████████████████████| 455/455 [00:31<00:00, 14.64it/s]\n"
     ]
    },
    {
     "name": "stdout",
     "output_type": "stream",
     "text": [
      "Epoch 160/512: Train Loss = 0.22127, Validation Loss = 0.33446, Train Accuracy = 0.82643, Validation Accuracy = 0.77770\n"
     ]
    },
    {
     "name": "stderr",
     "output_type": "stream",
     "text": [
      "Epoch 161/512: 100%|████████████████████████████████████████████████████████████████████████████| 455/455 [00:31<00:00, 14.65it/s]\n"
     ]
    },
    {
     "name": "stdout",
     "output_type": "stream",
     "text": [
      "Epoch 161/512: Train Loss = 0.22116, Validation Loss = 0.31153, Train Accuracy = 0.82648, Validation Accuracy = 0.78829\n"
     ]
    },
    {
     "name": "stderr",
     "output_type": "stream",
     "text": [
      "Epoch 162/512: 100%|████████████████████████████████████████████████████████████████████████████| 455/455 [00:31<00:00, 14.65it/s]\n"
     ]
    },
    {
     "name": "stdout",
     "output_type": "stream",
     "text": [
      "Epoch 162/512: Train Loss = 0.22045, Validation Loss = 0.29137, Train Accuracy = 0.82555, Validation Accuracy = 0.79585\n"
     ]
    },
    {
     "name": "stderr",
     "output_type": "stream",
     "text": [
      "Epoch 163/512: 100%|████████████████████████████████████████████████████████████████████████████| 455/455 [00:31<00:00, 14.67it/s]\n"
     ]
    },
    {
     "name": "stdout",
     "output_type": "stream",
     "text": [
      "Epoch 163/512: Train Loss = 0.21933, Validation Loss = 0.30018, Train Accuracy = 0.82787, Validation Accuracy = 0.79145\n"
     ]
    },
    {
     "name": "stderr",
     "output_type": "stream",
     "text": [
      "Epoch 164/512: 100%|████████████████████████████████████████████████████████████████████████████| 455/455 [00:31<00:00, 14.64it/s]\n"
     ]
    },
    {
     "name": "stdout",
     "output_type": "stream",
     "text": [
      "Epoch 164/512: Train Loss = 0.22036, Validation Loss = 0.28634, Train Accuracy = 0.82724, Validation Accuracy = 0.79695\n"
     ]
    },
    {
     "name": "stderr",
     "output_type": "stream",
     "text": [
      "Epoch 165/512: 100%|████████████████████████████████████████████████████████████████████████████| 455/455 [00:31<00:00, 14.66it/s]\n"
     ]
    },
    {
     "name": "stdout",
     "output_type": "stream",
     "text": [
      "Epoch 165/512: Train Loss = 0.21978, Validation Loss = 0.27954, Train Accuracy = 0.82581, Validation Accuracy = 0.80410\n"
     ]
    },
    {
     "name": "stderr",
     "output_type": "stream",
     "text": [
      "Epoch 166/512: 100%|████████████████████████████████████████████████████████████████████████████| 455/455 [00:31<00:00, 14.67it/s]\n"
     ]
    },
    {
     "name": "stdout",
     "output_type": "stream",
     "text": [
      "Epoch 166/512: Train Loss = 0.21986, Validation Loss = 0.28422, Train Accuracy = 0.82595, Validation Accuracy = 0.79227\n"
     ]
    },
    {
     "name": "stderr",
     "output_type": "stream",
     "text": [
      "Epoch 167/512: 100%|████████████████████████████████████████████████████████████████████████████| 455/455 [00:31<00:00, 14.66it/s]\n"
     ]
    },
    {
     "name": "stdout",
     "output_type": "stream",
     "text": [
      "Epoch 167/512: Train Loss = 0.21851, Validation Loss = 0.27997, Train Accuracy = 0.82749, Validation Accuracy = 0.80341\n"
     ]
    },
    {
     "name": "stderr",
     "output_type": "stream",
     "text": [
      "Epoch 168/512: 100%|████████████████████████████████████████████████████████████████████████████| 455/455 [00:31<00:00, 14.64it/s]\n"
     ]
    },
    {
     "name": "stdout",
     "output_type": "stream",
     "text": [
      "Epoch 168/512: Train Loss = 0.21954, Validation Loss = 0.29411, Train Accuracy = 0.82720, Validation Accuracy = 0.79227\n"
     ]
    },
    {
     "name": "stderr",
     "output_type": "stream",
     "text": [
      "Epoch 169/512: 100%|████████████████████████████████████████████████████████████████████████████| 455/455 [00:31<00:00, 14.66it/s]\n"
     ]
    },
    {
     "name": "stdout",
     "output_type": "stream",
     "text": [
      "Epoch 169/512: Train Loss = 0.21688, Validation Loss = 0.33295, Train Accuracy = 0.82925, Validation Accuracy = 0.78842\n"
     ]
    },
    {
     "name": "stderr",
     "output_type": "stream",
     "text": [
      "Epoch 170/512: 100%|████████████████████████████████████████████████████████████████████████████| 455/455 [00:31<00:00, 14.64it/s]\n"
     ]
    },
    {
     "name": "stdout",
     "output_type": "stream",
     "text": [
      "Epoch 170/512: Train Loss = 0.21742, Validation Loss = 0.27910, Train Accuracy = 0.82880, Validation Accuracy = 0.80286\n"
     ]
    },
    {
     "name": "stderr",
     "output_type": "stream",
     "text": [
      "Epoch 171/512: 100%|████████████████████████████████████████████████████████████████████████████| 455/455 [00:31<00:00, 14.65it/s]\n"
     ]
    },
    {
     "name": "stdout",
     "output_type": "stream",
     "text": [
      "Epoch 171/512: Train Loss = 0.21793, Validation Loss = 0.32168, Train Accuracy = 0.82854, Validation Accuracy = 0.77976\n"
     ]
    },
    {
     "name": "stderr",
     "output_type": "stream",
     "text": [
      "Epoch 172/512: 100%|████████████████████████████████████████████████████████████████████████████| 455/455 [00:31<00:00, 14.65it/s]\n"
     ]
    },
    {
     "name": "stdout",
     "output_type": "stream",
     "text": [
      "Epoch 172/512: Train Loss = 0.21620, Validation Loss = 0.28335, Train Accuracy = 0.82803, Validation Accuracy = 0.79970\n"
     ]
    },
    {
     "name": "stderr",
     "output_type": "stream",
     "text": [
      "Epoch 173/512: 100%|████████████████████████████████████████████████████████████████████████████| 455/455 [00:31<00:00, 14.64it/s]\n"
     ]
    },
    {
     "name": "stdout",
     "output_type": "stream",
     "text": [
      "Epoch 173/512: Train Loss = 0.21486, Validation Loss = 0.26711, Train Accuracy = 0.82727, Validation Accuracy = 0.80423\n"
     ]
    },
    {
     "name": "stderr",
     "output_type": "stream",
     "text": [
      "Epoch 174/512: 100%|████████████████████████████████████████████████████████████████████████████| 455/455 [00:31<00:00, 14.64it/s]\n"
     ]
    },
    {
     "name": "stdout",
     "output_type": "stream",
     "text": [
      "Epoch 174/512: Train Loss = 0.21701, Validation Loss = 0.28339, Train Accuracy = 0.82724, Validation Accuracy = 0.79489\n"
     ]
    },
    {
     "name": "stderr",
     "output_type": "stream",
     "text": [
      "Epoch 175/512: 100%|████████████████████████████████████████████████████████████████████████████| 455/455 [00:31<00:00, 14.64it/s]\n"
     ]
    },
    {
     "name": "stdout",
     "output_type": "stream",
     "text": [
      "Epoch 175/512: Train Loss = 0.21394, Validation Loss = 0.27269, Train Accuracy = 0.82986, Validation Accuracy = 0.80740\n"
     ]
    },
    {
     "name": "stderr",
     "output_type": "stream",
     "text": [
      "Epoch 176/512: 100%|████████████████████████████████████████████████████████████████████████████| 455/455 [00:31<00:00, 14.67it/s]\n"
     ]
    },
    {
     "name": "stdout",
     "output_type": "stream",
     "text": [
      "Epoch 176/512: Train Loss = 0.21406, Validation Loss = 0.28319, Train Accuracy = 0.83163, Validation Accuracy = 0.80410\n"
     ]
    },
    {
     "name": "stderr",
     "output_type": "stream",
     "text": [
      "Epoch 177/512: 100%|████████████████████████████████████████████████████████████████████████████| 455/455 [00:31<00:00, 14.62it/s]\n"
     ]
    },
    {
     "name": "stdout",
     "output_type": "stream",
     "text": [
      "Epoch 177/512: Train Loss = 0.21388, Validation Loss = 0.28373, Train Accuracy = 0.83074, Validation Accuracy = 0.80025\n"
     ]
    },
    {
     "name": "stderr",
     "output_type": "stream",
     "text": [
      "Epoch 178/512: 100%|████████████████████████████████████████████████████████████████████████████| 455/455 [00:31<00:00, 14.65it/s]\n"
     ]
    },
    {
     "name": "stdout",
     "output_type": "stream",
     "text": [
      "Epoch 178/512: Train Loss = 0.21387, Validation Loss = 0.29303, Train Accuracy = 0.83055, Validation Accuracy = 0.79764\n"
     ]
    },
    {
     "name": "stderr",
     "output_type": "stream",
     "text": [
      "Epoch 179/512: 100%|████████████████████████████████████████████████████████████████████████████| 455/455 [00:31<00:00, 14.64it/s]\n"
     ]
    },
    {
     "name": "stdout",
     "output_type": "stream",
     "text": [
      "Epoch 179/512: Train Loss = 0.21469, Validation Loss = 0.29197, Train Accuracy = 0.82940, Validation Accuracy = 0.80066\n"
     ]
    },
    {
     "name": "stderr",
     "output_type": "stream",
     "text": [
      "Epoch 180/512: 100%|████████████████████████████████████████████████████████████████████████████| 455/455 [00:31<00:00, 14.64it/s]\n"
     ]
    },
    {
     "name": "stdout",
     "output_type": "stream",
     "text": [
      "Epoch 180/512: Train Loss = 0.21313, Validation Loss = 0.33060, Train Accuracy = 0.83163, Validation Accuracy = 0.77523\n"
     ]
    },
    {
     "name": "stderr",
     "output_type": "stream",
     "text": [
      "Epoch 181/512: 100%|████████████████████████████████████████████████████████████████████████████| 455/455 [00:31<00:00, 14.62it/s]\n"
     ]
    },
    {
     "name": "stdout",
     "output_type": "stream",
     "text": [
      "Epoch 181/512: Train Loss = 0.21310, Validation Loss = 0.29603, Train Accuracy = 0.83253, Validation Accuracy = 0.79159\n"
     ]
    },
    {
     "name": "stderr",
     "output_type": "stream",
     "text": [
      "Epoch 182/512: 100%|████████████████████████████████████████████████████████████████████████████| 455/455 [00:31<00:00, 14.67it/s]\n"
     ]
    },
    {
     "name": "stdout",
     "output_type": "stream",
     "text": [
      "Epoch 182/512: Train Loss = 0.21150, Validation Loss = 0.28961, Train Accuracy = 0.83127, Validation Accuracy = 0.79764\n"
     ]
    },
    {
     "name": "stderr",
     "output_type": "stream",
     "text": [
      "Epoch 183/512: 100%|████████████████████████████████████████████████████████████████████████████| 455/455 [00:31<00:00, 14.66it/s]\n"
     ]
    },
    {
     "name": "stdout",
     "output_type": "stream",
     "text": [
      "Epoch 183/512: Train Loss = 0.21277, Validation Loss = 0.27615, Train Accuracy = 0.82976, Validation Accuracy = 0.79970\n"
     ]
    },
    {
     "name": "stderr",
     "output_type": "stream",
     "text": [
      "Epoch 184/512: 100%|████████████████████████████████████████████████████████████████████████████| 455/455 [00:31<00:00, 14.64it/s]\n"
     ]
    },
    {
     "name": "stdout",
     "output_type": "stream",
     "text": [
      "Epoch 184/512: Train Loss = 0.21247, Validation Loss = 0.27763, Train Accuracy = 0.82847, Validation Accuracy = 0.80437\n"
     ]
    },
    {
     "name": "stderr",
     "output_type": "stream",
     "text": [
      "Epoch 185/512: 100%|████████████████████████████████████████████████████████████████████████████| 455/455 [00:31<00:00, 14.64it/s]\n"
     ]
    },
    {
     "name": "stdout",
     "output_type": "stream",
     "text": [
      "Epoch 185/512: Train Loss = 0.21230, Validation Loss = 0.30396, Train Accuracy = 0.82999, Validation Accuracy = 0.79104\n"
     ]
    },
    {
     "name": "stderr",
     "output_type": "stream",
     "text": [
      "Epoch 186/512: 100%|████████████████████████████████████████████████████████████████████████████| 455/455 [00:31<00:00, 14.66it/s]\n"
     ]
    },
    {
     "name": "stdout",
     "output_type": "stream",
     "text": [
      "Epoch 186/512: Train Loss = 0.21106, Validation Loss = 0.27238, Train Accuracy = 0.83139, Validation Accuracy = 0.80245\n"
     ]
    },
    {
     "name": "stderr",
     "output_type": "stream",
     "text": [
      "Epoch 187/512: 100%|████████████████████████████████████████████████████████████████████████████| 455/455 [00:31<00:00, 14.65it/s]\n"
     ]
    },
    {
     "name": "stdout",
     "output_type": "stream",
     "text": [
      "Epoch 187/512: Train Loss = 0.21118, Validation Loss = 0.25843, Train Accuracy = 0.83119, Validation Accuracy = 0.81070\n"
     ]
    },
    {
     "name": "stderr",
     "output_type": "stream",
     "text": [
      "Epoch 188/512: 100%|████████████████████████████████████████████████████████████████████████████| 455/455 [00:31<00:00, 14.65it/s]\n"
     ]
    },
    {
     "name": "stdout",
     "output_type": "stream",
     "text": [
      "Epoch 188/512: Train Loss = 0.21031, Validation Loss = 0.29215, Train Accuracy = 0.83258, Validation Accuracy = 0.79324\n"
     ]
    },
    {
     "name": "stderr",
     "output_type": "stream",
     "text": [
      "Epoch 189/512: 100%|████████████████████████████████████████████████████████████████████████████| 455/455 [00:31<00:00, 14.62it/s]\n"
     ]
    },
    {
     "name": "stdout",
     "output_type": "stream",
     "text": [
      "Epoch 189/512: Train Loss = 0.21088, Validation Loss = 0.28486, Train Accuracy = 0.83002, Validation Accuracy = 0.79544\n"
     ]
    },
    {
     "name": "stderr",
     "output_type": "stream",
     "text": [
      "Epoch 190/512: 100%|████████████████████████████████████████████████████████████████████████████| 455/455 [00:31<00:00, 14.65it/s]\n"
     ]
    },
    {
     "name": "stdout",
     "output_type": "stream",
     "text": [
      "Epoch 190/512: Train Loss = 0.20895, Validation Loss = 0.30660, Train Accuracy = 0.83268, Validation Accuracy = 0.79379\n"
     ]
    },
    {
     "name": "stderr",
     "output_type": "stream",
     "text": [
      "Epoch 191/512: 100%|████████████████████████████████████████████████████████████████████████████| 455/455 [00:31<00:00, 14.65it/s]\n"
     ]
    },
    {
     "name": "stdout",
     "output_type": "stream",
     "text": [
      "Epoch 191/512: Train Loss = 0.20755, Validation Loss = 0.26049, Train Accuracy = 0.83349, Validation Accuracy = 0.80478\n"
     ]
    },
    {
     "name": "stderr",
     "output_type": "stream",
     "text": [
      "Epoch 192/512: 100%|████████████████████████████████████████████████████████████████████████████| 455/455 [00:31<00:00, 14.67it/s]\n"
     ]
    },
    {
     "name": "stdout",
     "output_type": "stream",
     "text": [
      "Epoch 192/512: Train Loss = 0.20804, Validation Loss = 0.27207, Train Accuracy = 0.83239, Validation Accuracy = 0.80533\n"
     ]
    },
    {
     "name": "stderr",
     "output_type": "stream",
     "text": [
      "Epoch 193/512: 100%|████████████████████████████████████████████████████████████████████████████| 455/455 [00:31<00:00, 14.66it/s]\n"
     ]
    },
    {
     "name": "stdout",
     "output_type": "stream",
     "text": [
      "Epoch 193/512: Train Loss = 0.20668, Validation Loss = 0.26784, Train Accuracy = 0.83359, Validation Accuracy = 0.80355\n"
     ]
    },
    {
     "name": "stderr",
     "output_type": "stream",
     "text": [
      "Epoch 194/512: 100%|████████████████████████████████████████████████████████████████████████████| 455/455 [00:31<00:00, 14.66it/s]\n"
     ]
    },
    {
     "name": "stdout",
     "output_type": "stream",
     "text": [
      "Epoch 194/512: Train Loss = 0.20759, Validation Loss = 0.26625, Train Accuracy = 0.83337, Validation Accuracy = 0.80671\n"
     ]
    },
    {
     "name": "stderr",
     "output_type": "stream",
     "text": [
      "Epoch 195/512: 100%|████████████████████████████████████████████████████████████████████████████| 455/455 [00:31<00:00, 14.67it/s]\n"
     ]
    },
    {
     "name": "stdout",
     "output_type": "stream",
     "text": [
      "Epoch 195/512: Train Loss = 0.20738, Validation Loss = 0.28145, Train Accuracy = 0.83420, Validation Accuracy = 0.80093\n"
     ]
    },
    {
     "name": "stderr",
     "output_type": "stream",
     "text": [
      "Epoch 196/512: 100%|████████████████████████████████████████████████████████████████████████████| 455/455 [00:31<00:00, 14.67it/s]\n"
     ]
    },
    {
     "name": "stdout",
     "output_type": "stream",
     "text": [
      "Epoch 196/512: Train Loss = 0.20692, Validation Loss = 0.27872, Train Accuracy = 0.83414, Validation Accuracy = 0.79874\n"
     ]
    },
    {
     "name": "stderr",
     "output_type": "stream",
     "text": [
      "Epoch 197/512: 100%|████████████████████████████████████████████████████████████████████████████| 455/455 [00:31<00:00, 14.62it/s]\n"
     ]
    },
    {
     "name": "stdout",
     "output_type": "stream",
     "text": [
      "Epoch 197/512: Train Loss = 0.20717, Validation Loss = 0.27205, Train Accuracy = 0.83562, Validation Accuracy = 0.80437\n"
     ]
    },
    {
     "name": "stderr",
     "output_type": "stream",
     "text": [
      "Epoch 198/512: 100%|████████████████████████████████████████████████████████████████████████████| 455/455 [00:31<00:00, 14.65it/s]\n"
     ]
    },
    {
     "name": "stdout",
     "output_type": "stream",
     "text": [
      "Epoch 198/512: Train Loss = 0.20615, Validation Loss = 0.27449, Train Accuracy = 0.83481, Validation Accuracy = 0.80657\n"
     ]
    },
    {
     "name": "stderr",
     "output_type": "stream",
     "text": [
      "Epoch 199/512: 100%|████████████████████████████████████████████████████████████████████████████| 455/455 [00:31<00:00, 14.65it/s]\n"
     ]
    },
    {
     "name": "stdout",
     "output_type": "stream",
     "text": [
      "Epoch 199/512: Train Loss = 0.20583, Validation Loss = 0.27975, Train Accuracy = 0.83349, Validation Accuracy = 0.79777\n"
     ]
    },
    {
     "name": "stderr",
     "output_type": "stream",
     "text": [
      "Epoch 200/512: 100%|████████████████████████████████████████████████████████████████████████████| 455/455 [00:31<00:00, 14.62it/s]\n"
     ]
    },
    {
     "name": "stdout",
     "output_type": "stream",
     "text": [
      "Epoch 200/512: Train Loss = 0.20749, Validation Loss = 0.26835, Train Accuracy = 0.83291, Validation Accuracy = 0.81015\n"
     ]
    },
    {
     "name": "stderr",
     "output_type": "stream",
     "text": [
      "Epoch 201/512: 100%|████████████████████████████████████████████████████████████████████████████| 455/455 [00:30<00:00, 14.68it/s]\n"
     ]
    },
    {
     "name": "stdout",
     "output_type": "stream",
     "text": [
      "Epoch 201/512: Train Loss = 0.20515, Validation Loss = 0.26235, Train Accuracy = 0.83397, Validation Accuracy = 0.80946\n"
     ]
    },
    {
     "name": "stderr",
     "output_type": "stream",
     "text": [
      "Epoch 202/512: 100%|████████████████████████████████████████████████████████████████████████████| 455/455 [00:31<00:00, 14.63it/s]\n"
     ]
    },
    {
     "name": "stdout",
     "output_type": "stream",
     "text": [
      "Epoch 202/512: Train Loss = 0.20300, Validation Loss = 0.28409, Train Accuracy = 0.83402, Validation Accuracy = 0.80767\n"
     ]
    },
    {
     "name": "stderr",
     "output_type": "stream",
     "text": [
      "Epoch 203/512: 100%|████████████████████████████████████████████████████████████████████████████| 455/455 [00:31<00:00, 14.62it/s]\n"
     ]
    },
    {
     "name": "stdout",
     "output_type": "stream",
     "text": [
      "Epoch 203/512: Train Loss = 0.20592, Validation Loss = 0.27968, Train Accuracy = 0.83337, Validation Accuracy = 0.80121\n"
     ]
    },
    {
     "name": "stderr",
     "output_type": "stream",
     "text": [
      "Epoch 204/512: 100%|████████████████████████████████████████████████████████████████████████████| 455/455 [00:31<00:00, 14.64it/s]\n"
     ]
    },
    {
     "name": "stdout",
     "output_type": "stream",
     "text": [
      "Epoch 204/512: Train Loss = 0.20360, Validation Loss = 0.27923, Train Accuracy = 0.83545, Validation Accuracy = 0.80382\n"
     ]
    },
    {
     "name": "stderr",
     "output_type": "stream",
     "text": [
      "Epoch 205/512: 100%|████████████████████████████████████████████████████████████████████████████| 455/455 [00:31<00:00, 14.66it/s]\n"
     ]
    },
    {
     "name": "stdout",
     "output_type": "stream",
     "text": [
      "Epoch 205/512: Train Loss = 0.20461, Validation Loss = 0.27052, Train Accuracy = 0.83480, Validation Accuracy = 0.80231\n"
     ]
    },
    {
     "name": "stderr",
     "output_type": "stream",
     "text": [
      "Epoch 206/512: 100%|████████████████████████████████████████████████████████████████████████████| 455/455 [00:31<00:00, 14.64it/s]\n"
     ]
    },
    {
     "name": "stdout",
     "output_type": "stream",
     "text": [
      "Epoch 206/512: Train Loss = 0.20397, Validation Loss = 0.29035, Train Accuracy = 0.83464, Validation Accuracy = 0.80162\n"
     ]
    },
    {
     "name": "stderr",
     "output_type": "stream",
     "text": [
      "Epoch 207/512: 100%|████████████████████████████████████████████████████████████████████████████| 455/455 [00:31<00:00, 14.66it/s]\n"
     ]
    },
    {
     "name": "stdout",
     "output_type": "stream",
     "text": [
      "Epoch 207/512: Train Loss = 0.20355, Validation Loss = 0.27987, Train Accuracy = 0.83557, Validation Accuracy = 0.79997\n"
     ]
    },
    {
     "name": "stderr",
     "output_type": "stream",
     "text": [
      "Epoch 208/512: 100%|████████████████████████████████████████████████████████████████████████████| 455/455 [00:31<00:00, 14.67it/s]\n"
     ]
    },
    {
     "name": "stdout",
     "output_type": "stream",
     "text": [
      "Epoch 208/512: Train Loss = 0.20268, Validation Loss = 0.26047, Train Accuracy = 0.83480, Validation Accuracy = 0.80410\n"
     ]
    },
    {
     "name": "stderr",
     "output_type": "stream",
     "text": [
      "Epoch 209/512: 100%|████████████████████████████████████████████████████████████████████████████| 455/455 [00:31<00:00, 14.64it/s]\n"
     ]
    },
    {
     "name": "stdout",
     "output_type": "stream",
     "text": [
      "Epoch 209/512: Train Loss = 0.20272, Validation Loss = 0.27677, Train Accuracy = 0.83540, Validation Accuracy = 0.80575\n"
     ]
    },
    {
     "name": "stderr",
     "output_type": "stream",
     "text": [
      "Epoch 210/512: 100%|████████████████████████████████████████████████████████████████████████████| 455/455 [00:31<00:00, 14.66it/s]\n"
     ]
    },
    {
     "name": "stdout",
     "output_type": "stream",
     "text": [
      "Epoch 210/512: Train Loss = 0.20169, Validation Loss = 0.28332, Train Accuracy = 0.83421, Validation Accuracy = 0.80410\n"
     ]
    },
    {
     "name": "stderr",
     "output_type": "stream",
     "text": [
      "Epoch 211/512: 100%|████████████████████████████████████████████████████████████████████████████| 455/455 [00:31<00:00, 14.67it/s]\n"
     ]
    },
    {
     "name": "stdout",
     "output_type": "stream",
     "text": [
      "Epoch 211/512: Train Loss = 0.20245, Validation Loss = 0.29105, Train Accuracy = 0.83485, Validation Accuracy = 0.79832\n"
     ]
    },
    {
     "name": "stderr",
     "output_type": "stream",
     "text": [
      "Epoch 212/512: 100%|████████████████████████████████████████████████████████████████████████████| 455/455 [00:31<00:00, 14.66it/s]\n"
     ]
    },
    {
     "name": "stdout",
     "output_type": "stream",
     "text": [
      "Epoch 212/512: Train Loss = 0.20145, Validation Loss = 0.26404, Train Accuracy = 0.83497, Validation Accuracy = 0.81180\n"
     ]
    },
    {
     "name": "stderr",
     "output_type": "stream",
     "text": [
      "Epoch 213/512: 100%|████████████████████████████████████████████████████████████████████████████| 455/455 [00:31<00:00, 14.65it/s]\n"
     ]
    },
    {
     "name": "stdout",
     "output_type": "stream",
     "text": [
      "Epoch 213/512: Train Loss = 0.20194, Validation Loss = 0.27753, Train Accuracy = 0.83660, Validation Accuracy = 0.80423\n"
     ]
    },
    {
     "name": "stderr",
     "output_type": "stream",
     "text": [
      "Epoch 214/512: 100%|████████████████████████████████████████████████████████████████████████████| 455/455 [00:31<00:00, 14.63it/s]\n"
     ]
    },
    {
     "name": "stdout",
     "output_type": "stream",
     "text": [
      "Epoch 214/512: Train Loss = 0.20129, Validation Loss = 0.28557, Train Accuracy = 0.83652, Validation Accuracy = 0.80052\n"
     ]
    },
    {
     "name": "stderr",
     "output_type": "stream",
     "text": [
      "Epoch 215/512: 100%|████████████████████████████████████████████████████████████████████████████| 455/455 [00:31<00:00, 14.65it/s]\n"
     ]
    },
    {
     "name": "stdout",
     "output_type": "stream",
     "text": [
      "Epoch 215/512: Train Loss = 0.20154, Validation Loss = 0.27156, Train Accuracy = 0.83483, Validation Accuracy = 0.80547\n"
     ]
    },
    {
     "name": "stderr",
     "output_type": "stream",
     "text": [
      "Epoch 216/512: 100%|████████████████████████████████████████████████████████████████████████████| 455/455 [00:31<00:00, 14.65it/s]\n"
     ]
    },
    {
     "name": "stdout",
     "output_type": "stream",
     "text": [
      "Epoch 216/512: Train Loss = 0.20002, Validation Loss = 0.30374, Train Accuracy = 0.83622, Validation Accuracy = 0.79984\n"
     ]
    },
    {
     "name": "stderr",
     "output_type": "stream",
     "text": [
      "Epoch 217/512: 100%|████████████████████████████████████████████████████████████████████████████| 455/455 [00:31<00:00, 14.63it/s]\n"
     ]
    },
    {
     "name": "stdout",
     "output_type": "stream",
     "text": [
      "Epoch 217/512: Train Loss = 0.19875, Validation Loss = 0.25695, Train Accuracy = 0.83784, Validation Accuracy = 0.80918\n"
     ]
    },
    {
     "name": "stderr",
     "output_type": "stream",
     "text": [
      "Epoch 218/512: 100%|████████████████████████████████████████████████████████████████████████████| 455/455 [00:30<00:00, 14.68it/s]\n"
     ]
    },
    {
     "name": "stdout",
     "output_type": "stream",
     "text": [
      "Epoch 218/512: Train Loss = 0.19887, Validation Loss = 0.26178, Train Accuracy = 0.83617, Validation Accuracy = 0.81235\n"
     ]
    },
    {
     "name": "stderr",
     "output_type": "stream",
     "text": [
      "Epoch 219/512: 100%|████████████████████████████████████████████████████████████████████████████| 455/455 [00:31<00:00, 14.64it/s]\n"
     ]
    },
    {
     "name": "stdout",
     "output_type": "stream",
     "text": [
      "Epoch 219/512: Train Loss = 0.19878, Validation Loss = 0.25868, Train Accuracy = 0.83877, Validation Accuracy = 0.80932\n"
     ]
    },
    {
     "name": "stderr",
     "output_type": "stream",
     "text": [
      "Epoch 220/512: 100%|████████████████████████████████████████████████████████████████████████████| 455/455 [00:31<00:00, 14.64it/s]\n"
     ]
    },
    {
     "name": "stdout",
     "output_type": "stream",
     "text": [
      "Epoch 220/512: Train Loss = 0.19876, Validation Loss = 0.28058, Train Accuracy = 0.83784, Validation Accuracy = 0.79984\n"
     ]
    },
    {
     "name": "stderr",
     "output_type": "stream",
     "text": [
      "Epoch 221/512: 100%|████████████████████████████████████████████████████████████████████████████| 455/455 [00:31<00:00, 14.65it/s]\n"
     ]
    },
    {
     "name": "stdout",
     "output_type": "stream",
     "text": [
      "Epoch 221/512: Train Loss = 0.20007, Validation Loss = 0.27178, Train Accuracy = 0.83658, Validation Accuracy = 0.80217\n"
     ]
    },
    {
     "name": "stderr",
     "output_type": "stream",
     "text": [
      "Epoch 222/512: 100%|████████████████████████████████████████████████████████████████████████████| 455/455 [00:31<00:00, 14.64it/s]\n"
     ]
    },
    {
     "name": "stdout",
     "output_type": "stream",
     "text": [
      "Epoch 222/512: Train Loss = 0.19816, Validation Loss = 0.29596, Train Accuracy = 0.83672, Validation Accuracy = 0.79695\n"
     ]
    },
    {
     "name": "stderr",
     "output_type": "stream",
     "text": [
      "Epoch 223/512: 100%|████████████████████████████████████████████████████████████████████████████| 455/455 [00:31<00:00, 14.67it/s]\n"
     ]
    },
    {
     "name": "stdout",
     "output_type": "stream",
     "text": [
      "Epoch 223/512: Train Loss = 0.19914, Validation Loss = 0.29575, Train Accuracy = 0.83695, Validation Accuracy = 0.79777\n"
     ]
    },
    {
     "name": "stderr",
     "output_type": "stream",
     "text": [
      "Epoch 224/512: 100%|████████████████████████████████████████████████████████████████████████████| 455/455 [00:31<00:00, 14.66it/s]\n"
     ]
    },
    {
     "name": "stdout",
     "output_type": "stream",
     "text": [
      "Epoch 224/512: Train Loss = 0.19834, Validation Loss = 0.25547, Train Accuracy = 0.83829, Validation Accuracy = 0.81180\n"
     ]
    },
    {
     "name": "stderr",
     "output_type": "stream",
     "text": [
      "Epoch 225/512: 100%|████████████████████████████████████████████████████████████████████████████| 455/455 [00:31<00:00, 14.65it/s]\n"
     ]
    },
    {
     "name": "stdout",
     "output_type": "stream",
     "text": [
      "Epoch 225/512: Train Loss = 0.19696, Validation Loss = 0.28347, Train Accuracy = 0.83968, Validation Accuracy = 0.80258\n"
     ]
    },
    {
     "name": "stderr",
     "output_type": "stream",
     "text": [
      "Epoch 226/512: 100%|████████████████████████████████████████████████████████████████████████████| 455/455 [00:31<00:00, 14.66it/s]\n"
     ]
    },
    {
     "name": "stdout",
     "output_type": "stream",
     "text": [
      "Epoch 226/512: Train Loss = 0.19794, Validation Loss = 0.27454, Train Accuracy = 0.83774, Validation Accuracy = 0.80080\n"
     ]
    },
    {
     "name": "stderr",
     "output_type": "stream",
     "text": [
      "Epoch 227/512: 100%|████████████████████████████████████████████████████████████████████████████| 455/455 [00:31<00:00, 14.66it/s]\n"
     ]
    },
    {
     "name": "stdout",
     "output_type": "stream",
     "text": [
      "Epoch 227/512: Train Loss = 0.19754, Validation Loss = 0.27429, Train Accuracy = 0.83873, Validation Accuracy = 0.80533\n"
     ]
    },
    {
     "name": "stderr",
     "output_type": "stream",
     "text": [
      "Epoch 228/512: 100%|████████████████████████████████████████████████████████████████████████████| 455/455 [00:31<00:00, 14.67it/s]\n"
     ]
    },
    {
     "name": "stdout",
     "output_type": "stream",
     "text": [
      "Epoch 228/512: Train Loss = 0.19699, Validation Loss = 0.25506, Train Accuracy = 0.83927, Validation Accuracy = 0.81729\n"
     ]
    },
    {
     "name": "stderr",
     "output_type": "stream",
     "text": [
      "Epoch 229/512: 100%|████████████████████████████████████████████████████████████████████████████| 455/455 [00:31<00:00, 14.65it/s]\n"
     ]
    },
    {
     "name": "stdout",
     "output_type": "stream",
     "text": [
      "Epoch 229/512: Train Loss = 0.19594, Validation Loss = 0.27596, Train Accuracy = 0.83877, Validation Accuracy = 0.81193\n"
     ]
    },
    {
     "name": "stderr",
     "output_type": "stream",
     "text": [
      "Epoch 230/512: 100%|████████████████████████████████████████████████████████████████████████████| 455/455 [00:31<00:00, 14.66it/s]\n"
     ]
    },
    {
     "name": "stdout",
     "output_type": "stream",
     "text": [
      "Epoch 230/512: Train Loss = 0.19502, Validation Loss = 0.27755, Train Accuracy = 0.83885, Validation Accuracy = 0.80300\n"
     ]
    },
    {
     "name": "stderr",
     "output_type": "stream",
     "text": [
      "Epoch 231/512: 100%|████████████████████████████████████████████████████████████████████████████| 455/455 [00:31<00:00, 14.65it/s]\n"
     ]
    },
    {
     "name": "stdout",
     "output_type": "stream",
     "text": [
      "Epoch 231/512: Train Loss = 0.19569, Validation Loss = 0.26938, Train Accuracy = 0.84078, Validation Accuracy = 0.80217\n"
     ]
    },
    {
     "name": "stderr",
     "output_type": "stream",
     "text": [
      "Epoch 232/512: 100%|████████████████████████████████████████████████████████████████████████████| 455/455 [00:31<00:00, 14.64it/s]\n"
     ]
    },
    {
     "name": "stdout",
     "output_type": "stream",
     "text": [
      "Epoch 232/512: Train Loss = 0.19689, Validation Loss = 0.27838, Train Accuracy = 0.83947, Validation Accuracy = 0.80121\n"
     ]
    },
    {
     "name": "stderr",
     "output_type": "stream",
     "text": [
      "Epoch 233/512: 100%|████████████████████████████████████████████████████████████████████████████| 455/455 [00:31<00:00, 14.64it/s]\n"
     ]
    },
    {
     "name": "stdout",
     "output_type": "stream",
     "text": [
      "Epoch 233/512: Train Loss = 0.19590, Validation Loss = 0.25545, Train Accuracy = 0.83940, Validation Accuracy = 0.81166\n"
     ]
    },
    {
     "name": "stderr",
     "output_type": "stream",
     "text": [
      "Epoch 234/512: 100%|████████████████████████████████████████████████████████████████████████████| 455/455 [00:31<00:00, 14.64it/s]\n"
     ]
    },
    {
     "name": "stdout",
     "output_type": "stream",
     "text": [
      "Epoch 234/512: Train Loss = 0.19610, Validation Loss = 0.28164, Train Accuracy = 0.83985, Validation Accuracy = 0.80520\n"
     ]
    },
    {
     "name": "stderr",
     "output_type": "stream",
     "text": [
      "Epoch 235/512: 100%|████████████████████████████████████████████████████████████████████████████| 455/455 [00:31<00:00, 14.65it/s]\n"
     ]
    },
    {
     "name": "stdout",
     "output_type": "stream",
     "text": [
      "Epoch 235/512: Train Loss = 0.19515, Validation Loss = 0.28254, Train Accuracy = 0.83930, Validation Accuracy = 0.79997\n"
     ]
    },
    {
     "name": "stderr",
     "output_type": "stream",
     "text": [
      "Epoch 236/512: 100%|████████████████████████████████████████████████████████████████████████████| 455/455 [00:31<00:00, 14.65it/s]\n"
     ]
    },
    {
     "name": "stdout",
     "output_type": "stream",
     "text": [
      "Epoch 236/512: Train Loss = 0.19388, Validation Loss = 0.25763, Train Accuracy = 0.84093, Validation Accuracy = 0.81248\n"
     ]
    },
    {
     "name": "stderr",
     "output_type": "stream",
     "text": [
      "Epoch 237/512: 100%|████████████████████████████████████████████████████████████████████████████| 455/455 [00:30<00:00, 14.68it/s]\n"
     ]
    },
    {
     "name": "stdout",
     "output_type": "stream",
     "text": [
      "Epoch 237/512: Train Loss = 0.19451, Validation Loss = 0.27076, Train Accuracy = 0.84030, Validation Accuracy = 0.80492\n"
     ]
    },
    {
     "name": "stderr",
     "output_type": "stream",
     "text": [
      "Epoch 238/512: 100%|████████████████████████████████████████████████████████████████████████████| 455/455 [00:31<00:00, 14.67it/s]\n"
     ]
    },
    {
     "name": "stdout",
     "output_type": "stream",
     "text": [
      "Epoch 238/512: Train Loss = 0.19426, Validation Loss = 0.28043, Train Accuracy = 0.83966, Validation Accuracy = 0.80630\n"
     ]
    },
    {
     "name": "stderr",
     "output_type": "stream",
     "text": [
      "Epoch 239/512: 100%|████████████████████████████████████████████████████████████████████████████| 455/455 [00:31<00:00, 14.65it/s]\n"
     ]
    },
    {
     "name": "stdout",
     "output_type": "stream",
     "text": [
      "Epoch 239/512: Train Loss = 0.19338, Validation Loss = 0.28251, Train Accuracy = 0.84000, Validation Accuracy = 0.80822\n"
     ]
    },
    {
     "name": "stderr",
     "output_type": "stream",
     "text": [
      "Epoch 240/512: 100%|████████████████████████████████████████████████████████████████████████████| 455/455 [00:31<00:00, 14.66it/s]\n"
     ]
    },
    {
     "name": "stdout",
     "output_type": "stream",
     "text": [
      "Epoch 240/512: Train Loss = 0.19380, Validation Loss = 0.28808, Train Accuracy = 0.84124, Validation Accuracy = 0.80011\n"
     ]
    },
    {
     "name": "stderr",
     "output_type": "stream",
     "text": [
      "Epoch 241/512: 100%|████████████████████████████████████████████████████████████████████████████| 455/455 [00:31<00:00, 14.63it/s]\n"
     ]
    },
    {
     "name": "stdout",
     "output_type": "stream",
     "text": [
      "Epoch 241/512: Train Loss = 0.19410, Validation Loss = 0.28590, Train Accuracy = 0.83956, Validation Accuracy = 0.80217\n"
     ]
    },
    {
     "name": "stderr",
     "output_type": "stream",
     "text": [
      "Epoch 242/512: 100%|████████████████████████████████████████████████████████████████████████████| 455/455 [00:31<00:00, 14.64it/s]\n"
     ]
    },
    {
     "name": "stdout",
     "output_type": "stream",
     "text": [
      "Epoch 242/512: Train Loss = 0.19468, Validation Loss = 0.28920, Train Accuracy = 0.84011, Validation Accuracy = 0.79640\n"
     ]
    },
    {
     "name": "stderr",
     "output_type": "stream",
     "text": [
      "Epoch 243/512: 100%|████████████████████████████████████████████████████████████████████████████| 455/455 [00:31<00:00, 14.65it/s]\n"
     ]
    },
    {
     "name": "stdout",
     "output_type": "stream",
     "text": [
      "Epoch 243/512: Train Loss = 0.19241, Validation Loss = 0.26713, Train Accuracy = 0.84107, Validation Accuracy = 0.80946\n"
     ]
    },
    {
     "name": "stderr",
     "output_type": "stream",
     "text": [
      "Epoch 244/512: 100%|████████████████████████████████████████████████████████████████████████████| 455/455 [00:31<00:00, 14.65it/s]\n"
     ]
    },
    {
     "name": "stdout",
     "output_type": "stream",
     "text": [
      "Epoch 244/512: Train Loss = 0.19315, Validation Loss = 0.27466, Train Accuracy = 0.83914, Validation Accuracy = 0.80588\n"
     ]
    },
    {
     "name": "stderr",
     "output_type": "stream",
     "text": [
      "Epoch 245/512: 100%|████████████████████████████████████████████████████████████████████████████| 455/455 [00:31<00:00, 14.63it/s]\n"
     ]
    },
    {
     "name": "stdout",
     "output_type": "stream",
     "text": [
      "Epoch 245/512: Train Loss = 0.19285, Validation Loss = 0.28706, Train Accuracy = 0.84014, Validation Accuracy = 0.79984\n"
     ]
    },
    {
     "name": "stderr",
     "output_type": "stream",
     "text": [
      "Epoch 246/512: 100%|████████████████████████████████████████████████████████████████████████████| 455/455 [00:31<00:00, 14.66it/s]\n"
     ]
    },
    {
     "name": "stdout",
     "output_type": "stream",
     "text": [
      "Epoch 246/512: Train Loss = 0.19137, Validation Loss = 0.26527, Train Accuracy = 0.84380, Validation Accuracy = 0.80850\n"
     ]
    },
    {
     "name": "stderr",
     "output_type": "stream",
     "text": [
      "Epoch 247/512: 100%|████████████████████████████████████████████████████████████████████████████| 455/455 [00:31<00:00, 14.64it/s]\n"
     ]
    },
    {
     "name": "stdout",
     "output_type": "stream",
     "text": [
      "Epoch 247/512: Train Loss = 0.19060, Validation Loss = 0.27438, Train Accuracy = 0.84313, Validation Accuracy = 0.80726\n"
     ]
    },
    {
     "name": "stderr",
     "output_type": "stream",
     "text": [
      "Epoch 248/512: 100%|████████████████████████████████████████████████████████████████████████████| 455/455 [00:31<00:00, 14.67it/s]\n"
     ]
    },
    {
     "name": "stdout",
     "output_type": "stream",
     "text": [
      "Epoch 248/512: Train Loss = 0.19159, Validation Loss = 0.26739, Train Accuracy = 0.84131, Validation Accuracy = 0.80451\n"
     ]
    },
    {
     "name": "stderr",
     "output_type": "stream",
     "text": [
      "Epoch 249/512: 100%|████████████████████████████████████████████████████████████████████████████| 455/455 [00:31<00:00, 14.65it/s]\n"
     ]
    },
    {
     "name": "stdout",
     "output_type": "stream",
     "text": [
      "Epoch 249/512: Train Loss = 0.19163, Validation Loss = 0.29069, Train Accuracy = 0.84124, Validation Accuracy = 0.79929\n"
     ]
    },
    {
     "name": "stderr",
     "output_type": "stream",
     "text": [
      "Epoch 250/512: 100%|████████████████████████████████████████████████████████████████████████████| 455/455 [00:31<00:00, 14.66it/s]\n"
     ]
    },
    {
     "name": "stdout",
     "output_type": "stream",
     "text": [
      "Epoch 250/512: Train Loss = 0.19070, Validation Loss = 0.28063, Train Accuracy = 0.84222, Validation Accuracy = 0.80492\n"
     ]
    },
    {
     "name": "stderr",
     "output_type": "stream",
     "text": [
      "Epoch 251/512: 100%|████████████████████████████████████████████████████████████████████████████| 455/455 [00:31<00:00, 14.63it/s]\n"
     ]
    },
    {
     "name": "stdout",
     "output_type": "stream",
     "text": [
      "Epoch 251/512: Train Loss = 0.19090, Validation Loss = 0.26280, Train Accuracy = 0.84183, Validation Accuracy = 0.80918\n"
     ]
    },
    {
     "name": "stderr",
     "output_type": "stream",
     "text": [
      "Epoch 252/512: 100%|████████████████████████████████████████████████████████████████████████████| 455/455 [00:30<00:00, 14.68it/s]\n"
     ]
    },
    {
     "name": "stdout",
     "output_type": "stream",
     "text": [
      "Epoch 252/512: Train Loss = 0.19040, Validation Loss = 0.28967, Train Accuracy = 0.84128, Validation Accuracy = 0.80011\n"
     ]
    },
    {
     "name": "stderr",
     "output_type": "stream",
     "text": [
      "Epoch 253/512: 100%|████████████████████████████████████████████████████████████████████████████| 455/455 [00:31<00:00, 14.64it/s]\n"
     ]
    },
    {
     "name": "stdout",
     "output_type": "stream",
     "text": [
      "Epoch 253/512: Train Loss = 0.19042, Validation Loss = 0.25667, Train Accuracy = 0.84081, Validation Accuracy = 0.81496\n"
     ]
    },
    {
     "name": "stderr",
     "output_type": "stream",
     "text": [
      "Epoch 254/512: 100%|████████████████████████████████████████████████████████████████████████████| 455/455 [00:31<00:00, 14.62it/s]\n"
     ]
    },
    {
     "name": "stdout",
     "output_type": "stream",
     "text": [
      "Epoch 254/512: Train Loss = 0.19018, Validation Loss = 0.25579, Train Accuracy = 0.84348, Validation Accuracy = 0.81070\n"
     ]
    },
    {
     "name": "stderr",
     "output_type": "stream",
     "text": [
      "Epoch 255/512: 100%|████████████████████████████████████████████████████████████████████████████| 455/455 [00:31<00:00, 14.65it/s]\n"
     ]
    },
    {
     "name": "stdout",
     "output_type": "stream",
     "text": [
      "Epoch 255/512: Train Loss = 0.18962, Validation Loss = 0.28048, Train Accuracy = 0.84408, Validation Accuracy = 0.80272\n"
     ]
    },
    {
     "name": "stderr",
     "output_type": "stream",
     "text": [
      "Epoch 256/512: 100%|████████████████████████████████████████████████████████████████████████████| 455/455 [00:31<00:00, 14.65it/s]\n"
     ]
    },
    {
     "name": "stdout",
     "output_type": "stream",
     "text": [
      "Epoch 256/512: Train Loss = 0.18942, Validation Loss = 0.25522, Train Accuracy = 0.84308, Validation Accuracy = 0.81125\n"
     ]
    },
    {
     "name": "stderr",
     "output_type": "stream",
     "text": [
      "Epoch 257/512: 100%|████████████████████████████████████████████████████████████████████████████| 455/455 [00:31<00:00, 14.65it/s]\n"
     ]
    },
    {
     "name": "stdout",
     "output_type": "stream",
     "text": [
      "Epoch 257/512: Train Loss = 0.18839, Validation Loss = 0.27709, Train Accuracy = 0.84397, Validation Accuracy = 0.80698\n"
     ]
    },
    {
     "name": "stderr",
     "output_type": "stream",
     "text": [
      "Epoch 258/512: 100%|████████████████████████████████████████████████████████████████████████████| 455/455 [00:31<00:00, 14.65it/s]\n"
     ]
    },
    {
     "name": "stdout",
     "output_type": "stream",
     "text": [
      "Epoch 258/512: Train Loss = 0.18820, Validation Loss = 0.26488, Train Accuracy = 0.84403, Validation Accuracy = 0.80863\n"
     ]
    },
    {
     "name": "stderr",
     "output_type": "stream",
     "text": [
      "Epoch 259/512: 100%|████████████████████████████████████████████████████████████████████████████| 455/455 [00:31<00:00, 14.67it/s]\n"
     ]
    },
    {
     "name": "stdout",
     "output_type": "stream",
     "text": [
      "Epoch 259/512: Train Loss = 0.18911, Validation Loss = 0.27092, Train Accuracy = 0.84267, Validation Accuracy = 0.80671\n"
     ]
    },
    {
     "name": "stderr",
     "output_type": "stream",
     "text": [
      "Epoch 260/512: 100%|████████████████████████████████████████████████████████████████████████████| 455/455 [00:31<00:00, 14.66it/s]\n"
     ]
    },
    {
     "name": "stdout",
     "output_type": "stream",
     "text": [
      "Epoch 260/512: Train Loss = 0.18768, Validation Loss = 0.27536, Train Accuracy = 0.84322, Validation Accuracy = 0.80561\n"
     ]
    },
    {
     "name": "stderr",
     "output_type": "stream",
     "text": [
      "Epoch 261/512: 100%|████████████████████████████████████████████████████████████████████████████| 455/455 [00:31<00:00, 14.64it/s]\n"
     ]
    },
    {
     "name": "stdout",
     "output_type": "stream",
     "text": [
      "Epoch 261/512: Train Loss = 0.18794, Validation Loss = 0.27617, Train Accuracy = 0.84428, Validation Accuracy = 0.80245\n"
     ]
    },
    {
     "name": "stderr",
     "output_type": "stream",
     "text": [
      "Epoch 262/512: 100%|████████████████████████████████████████████████████████████████████████████| 455/455 [00:31<00:00, 14.63it/s]\n"
     ]
    },
    {
     "name": "stdout",
     "output_type": "stream",
     "text": [
      "Epoch 262/512: Train Loss = 0.18867, Validation Loss = 0.30636, Train Accuracy = 0.84432, Validation Accuracy = 0.78650\n"
     ]
    },
    {
     "name": "stderr",
     "output_type": "stream",
     "text": [
      "Epoch 263/512: 100%|████████████████████████████████████████████████████████████████████████████| 455/455 [00:30<00:00, 14.69it/s]\n"
     ]
    },
    {
     "name": "stdout",
     "output_type": "stream",
     "text": [
      "Epoch 263/512: Train Loss = 0.18737, Validation Loss = 0.25104, Train Accuracy = 0.84329, Validation Accuracy = 0.81523\n"
     ]
    },
    {
     "name": "stderr",
     "output_type": "stream",
     "text": [
      "Epoch 264/512: 100%|████████████████████████████████████████████████████████████████████████████| 455/455 [00:31<00:00, 14.65it/s]\n"
     ]
    },
    {
     "name": "stdout",
     "output_type": "stream",
     "text": [
      "Epoch 264/512: Train Loss = 0.18801, Validation Loss = 0.24677, Train Accuracy = 0.84351, Validation Accuracy = 0.81743\n"
     ]
    },
    {
     "name": "stderr",
     "output_type": "stream",
     "text": [
      "Epoch 265/512: 100%|████████████████████████████████████████████████████████████████████████████| 455/455 [00:31<00:00, 14.64it/s]\n"
     ]
    },
    {
     "name": "stdout",
     "output_type": "stream",
     "text": [
      "Epoch 265/512: Train Loss = 0.18769, Validation Loss = 0.26908, Train Accuracy = 0.84306, Validation Accuracy = 0.80561\n"
     ]
    },
    {
     "name": "stderr",
     "output_type": "stream",
     "text": [
      "Epoch 266/512: 100%|████████████████████████████████████████████████████████████████████████████| 455/455 [00:31<00:00, 14.67it/s]\n"
     ]
    },
    {
     "name": "stdout",
     "output_type": "stream",
     "text": [
      "Epoch 266/512: Train Loss = 0.18744, Validation Loss = 0.28510, Train Accuracy = 0.84375, Validation Accuracy = 0.80368\n"
     ]
    },
    {
     "name": "stderr",
     "output_type": "stream",
     "text": [
      "Epoch 267/512: 100%|████████████████████████████████████████████████████████████████████████████| 455/455 [00:31<00:00, 14.64it/s]\n"
     ]
    },
    {
     "name": "stdout",
     "output_type": "stream",
     "text": [
      "Epoch 267/512: Train Loss = 0.18653, Validation Loss = 0.30042, Train Accuracy = 0.84413, Validation Accuracy = 0.80025\n"
     ]
    },
    {
     "name": "stderr",
     "output_type": "stream",
     "text": [
      "Epoch 268/512: 100%|████████████████████████████████████████████████████████████████████████████| 455/455 [00:31<00:00, 14.65it/s]\n"
     ]
    },
    {
     "name": "stdout",
     "output_type": "stream",
     "text": [
      "Epoch 268/512: Train Loss = 0.18612, Validation Loss = 0.30516, Train Accuracy = 0.84559, Validation Accuracy = 0.79420\n"
     ]
    },
    {
     "name": "stderr",
     "output_type": "stream",
     "text": [
      "Epoch 269/512: 100%|████████████████████████████████████████████████████████████████████████████| 455/455 [00:31<00:00, 14.65it/s]\n"
     ]
    },
    {
     "name": "stdout",
     "output_type": "stream",
     "text": [
      "Epoch 269/512: Train Loss = 0.18666, Validation Loss = 0.25680, Train Accuracy = 0.84413, Validation Accuracy = 0.81606\n"
     ]
    },
    {
     "name": "stderr",
     "output_type": "stream",
     "text": [
      "Epoch 270/512: 100%|████████████████████████████████████████████████████████████████████████████| 455/455 [00:30<00:00, 14.68it/s]\n"
     ]
    },
    {
     "name": "stdout",
     "output_type": "stream",
     "text": [
      "Epoch 270/512: Train Loss = 0.18456, Validation Loss = 0.27142, Train Accuracy = 0.84540, Validation Accuracy = 0.80492\n"
     ]
    },
    {
     "name": "stderr",
     "output_type": "stream",
     "text": [
      "Epoch 271/512: 100%|████████████████████████████████████████████████████████████████████████████| 455/455 [00:30<00:00, 14.68it/s]\n"
     ]
    },
    {
     "name": "stdout",
     "output_type": "stream",
     "text": [
      "Epoch 271/512: Train Loss = 0.18547, Validation Loss = 0.29716, Train Accuracy = 0.84459, Validation Accuracy = 0.79502\n"
     ]
    },
    {
     "name": "stderr",
     "output_type": "stream",
     "text": [
      "Epoch 272/512: 100%|████████████████████████████████████████████████████████████████████████████| 455/455 [00:31<00:00, 14.67it/s]\n"
     ]
    },
    {
     "name": "stdout",
     "output_type": "stream",
     "text": [
      "Epoch 272/512: Train Loss = 0.18578, Validation Loss = 0.25947, Train Accuracy = 0.84458, Validation Accuracy = 0.81152\n"
     ]
    },
    {
     "name": "stderr",
     "output_type": "stream",
     "text": [
      "Epoch 273/512: 100%|████████████████████████████████████████████████████████████████████████████| 455/455 [00:31<00:00, 14.65it/s]\n"
     ]
    },
    {
     "name": "stdout",
     "output_type": "stream",
     "text": [
      "Epoch 273/512: Train Loss = 0.18420, Validation Loss = 0.27737, Train Accuracy = 0.84602, Validation Accuracy = 0.80547\n"
     ]
    },
    {
     "name": "stderr",
     "output_type": "stream",
     "text": [
      "Epoch 274/512: 100%|████████████████████████████████████████████████████████████████████████████| 455/455 [00:31<00:00, 14.64it/s]\n"
     ]
    },
    {
     "name": "stdout",
     "output_type": "stream",
     "text": [
      "Epoch 274/512: Train Loss = 0.18759, Validation Loss = 0.29428, Train Accuracy = 0.84330, Validation Accuracy = 0.80080\n"
     ]
    },
    {
     "name": "stderr",
     "output_type": "stream",
     "text": [
      "Epoch 275/512: 100%|████████████████████████████████████████████████████████████████████████████| 455/455 [00:31<00:00, 14.66it/s]\n"
     ]
    },
    {
     "name": "stdout",
     "output_type": "stream",
     "text": [
      "Epoch 275/512: Train Loss = 0.18525, Validation Loss = 0.25530, Train Accuracy = 0.84566, Validation Accuracy = 0.81056\n"
     ]
    },
    {
     "name": "stderr",
     "output_type": "stream",
     "text": [
      "Epoch 276/512: 100%|████████████████████████████████████████████████████████████████████████████| 455/455 [00:31<00:00, 14.67it/s]\n"
     ]
    },
    {
     "name": "stdout",
     "output_type": "stream",
     "text": [
      "Epoch 276/512: Train Loss = 0.18487, Validation Loss = 0.26133, Train Accuracy = 0.84550, Validation Accuracy = 0.80973\n"
     ]
    },
    {
     "name": "stderr",
     "output_type": "stream",
     "text": [
      "Epoch 277/512: 100%|████████████████████████████████████████████████████████████████████████████| 455/455 [00:31<00:00, 14.65it/s]\n"
     ]
    },
    {
     "name": "stdout",
     "output_type": "stream",
     "text": [
      "Epoch 277/512: Train Loss = 0.18431, Validation Loss = 0.26114, Train Accuracy = 0.84683, Validation Accuracy = 0.81125\n"
     ]
    },
    {
     "name": "stderr",
     "output_type": "stream",
     "text": [
      "Epoch 278/512: 100%|████████████████████████████████████████████████████████████████████████████| 455/455 [00:31<00:00, 14.66it/s]\n"
     ]
    },
    {
     "name": "stdout",
     "output_type": "stream",
     "text": [
      "Epoch 278/512: Train Loss = 0.18403, Validation Loss = 0.26347, Train Accuracy = 0.84650, Validation Accuracy = 0.81207\n"
     ]
    },
    {
     "name": "stderr",
     "output_type": "stream",
     "text": [
      "Epoch 279/512: 100%|████████████████████████████████████████████████████████████████████████████| 455/455 [00:31<00:00, 14.64it/s]\n"
     ]
    },
    {
     "name": "stdout",
     "output_type": "stream",
     "text": [
      "Epoch 279/512: Train Loss = 0.18432, Validation Loss = 0.27271, Train Accuracy = 0.84669, Validation Accuracy = 0.80836\n"
     ]
    },
    {
     "name": "stderr",
     "output_type": "stream",
     "text": [
      "Epoch 280/512: 100%|████████████████████████████████████████████████████████████████████████████| 455/455 [00:31<00:00, 14.65it/s]\n"
     ]
    },
    {
     "name": "stdout",
     "output_type": "stream",
     "text": [
      "Epoch 280/512: Train Loss = 0.18389, Validation Loss = 0.26979, Train Accuracy = 0.84576, Validation Accuracy = 0.81028\n"
     ]
    },
    {
     "name": "stderr",
     "output_type": "stream",
     "text": [
      "Epoch 281/512: 100%|████████████████████████████████████████████████████████████████████████████| 455/455 [00:31<00:00, 14.66it/s]\n"
     ]
    },
    {
     "name": "stdout",
     "output_type": "stream",
     "text": [
      "Epoch 281/512: Train Loss = 0.18362, Validation Loss = 0.26090, Train Accuracy = 0.84717, Validation Accuracy = 0.81509\n"
     ]
    },
    {
     "name": "stderr",
     "output_type": "stream",
     "text": [
      "Epoch 282/512: 100%|████████████████████████████████████████████████████████████████████████████| 455/455 [00:31<00:00, 14.64it/s]\n"
     ]
    },
    {
     "name": "stdout",
     "output_type": "stream",
     "text": [
      "Epoch 282/512: Train Loss = 0.18264, Validation Loss = 0.27672, Train Accuracy = 0.84765, Validation Accuracy = 0.80465\n"
     ]
    },
    {
     "name": "stderr",
     "output_type": "stream",
     "text": [
      "Epoch 283/512: 100%|████████████████████████████████████████████████████████████████████████████| 455/455 [00:31<00:00, 14.64it/s]\n"
     ]
    },
    {
     "name": "stdout",
     "output_type": "stream",
     "text": [
      "Epoch 283/512: Train Loss = 0.18379, Validation Loss = 0.25872, Train Accuracy = 0.84650, Validation Accuracy = 0.81248\n"
     ]
    },
    {
     "name": "stderr",
     "output_type": "stream",
     "text": [
      "Epoch 284/512: 100%|████████████████████████████████████████████████████████████████████████████| 455/455 [00:31<00:00, 14.64it/s]\n"
     ]
    },
    {
     "name": "stdout",
     "output_type": "stream",
     "text": [
      "Epoch 284/512: Train Loss = 0.18376, Validation Loss = 0.26673, Train Accuracy = 0.84569, Validation Accuracy = 0.81056\n"
     ]
    },
    {
     "name": "stderr",
     "output_type": "stream",
     "text": [
      "Epoch 285/512: 100%|████████████████████████████████████████████████████████████████████████████| 455/455 [00:31<00:00, 14.63it/s]\n"
     ]
    },
    {
     "name": "stdout",
     "output_type": "stream",
     "text": [
      "Epoch 285/512: Train Loss = 0.18192, Validation Loss = 0.27424, Train Accuracy = 0.84607, Validation Accuracy = 0.80327\n"
     ]
    },
    {
     "name": "stderr",
     "output_type": "stream",
     "text": [
      "Epoch 286/512: 100%|████████████████████████████████████████████████████████████████████████████| 455/455 [00:31<00:00, 14.65it/s]\n"
     ]
    },
    {
     "name": "stdout",
     "output_type": "stream",
     "text": [
      "Epoch 286/512: Train Loss = 0.18164, Validation Loss = 0.28782, Train Accuracy = 0.84712, Validation Accuracy = 0.80176\n"
     ]
    },
    {
     "name": "stderr",
     "output_type": "stream",
     "text": [
      "Epoch 287/512: 100%|████████████████████████████████████████████████████████████████████████████| 455/455 [00:31<00:00, 14.65it/s]\n"
     ]
    },
    {
     "name": "stdout",
     "output_type": "stream",
     "text": [
      "Epoch 287/512: Train Loss = 0.18279, Validation Loss = 0.26916, Train Accuracy = 0.84672, Validation Accuracy = 0.80561\n"
     ]
    },
    {
     "name": "stderr",
     "output_type": "stream",
     "text": [
      "Epoch 288/512: 100%|████████████████████████████████████████████████████████████████████████████| 455/455 [00:31<00:00, 14.63it/s]\n"
     ]
    },
    {
     "name": "stdout",
     "output_type": "stream",
     "text": [
      "Epoch 288/512: Train Loss = 0.18259, Validation Loss = 0.24669, Train Accuracy = 0.84757, Validation Accuracy = 0.81633\n"
     ]
    },
    {
     "name": "stderr",
     "output_type": "stream",
     "text": [
      "Epoch 289/512: 100%|████████████████████████████████████████████████████████████████████████████| 455/455 [00:31<00:00, 14.65it/s]\n"
     ]
    },
    {
     "name": "stdout",
     "output_type": "stream",
     "text": [
      "Epoch 289/512: Train Loss = 0.18328, Validation Loss = 0.24937, Train Accuracy = 0.84588, Validation Accuracy = 0.81317\n"
     ]
    },
    {
     "name": "stderr",
     "output_type": "stream",
     "text": [
      "Epoch 290/512: 100%|████████████████████████████████████████████████████████████████████████████| 455/455 [00:31<00:00, 14.64it/s]\n"
     ]
    },
    {
     "name": "stdout",
     "output_type": "stream",
     "text": [
      "Epoch 290/512: Train Loss = 0.18120, Validation Loss = 0.29240, Train Accuracy = 0.84722, Validation Accuracy = 0.80190\n"
     ]
    },
    {
     "name": "stderr",
     "output_type": "stream",
     "text": [
      "Epoch 291/512: 100%|████████████████████████████████████████████████████████████████████████████| 455/455 [00:31<00:00, 14.66it/s]\n"
     ]
    },
    {
     "name": "stdout",
     "output_type": "stream",
     "text": [
      "Epoch 291/512: Train Loss = 0.18071, Validation Loss = 0.26177, Train Accuracy = 0.84729, Validation Accuracy = 0.81180\n"
     ]
    },
    {
     "name": "stderr",
     "output_type": "stream",
     "text": [
      "Epoch 292/512: 100%|████████████████████████████████████████████████████████████████████████████| 455/455 [00:31<00:00, 14.65it/s]\n"
     ]
    },
    {
     "name": "stdout",
     "output_type": "stream",
     "text": [
      "Epoch 292/512: Train Loss = 0.18067, Validation Loss = 0.27935, Train Accuracy = 0.84891, Validation Accuracy = 0.80451\n"
     ]
    },
    {
     "name": "stderr",
     "output_type": "stream",
     "text": [
      "Epoch 293/512: 100%|████████████████████████████████████████████████████████████████████████████| 455/455 [00:31<00:00, 14.64it/s]\n"
     ]
    },
    {
     "name": "stdout",
     "output_type": "stream",
     "text": [
      "Epoch 293/512: Train Loss = 0.18196, Validation Loss = 0.26492, Train Accuracy = 0.84638, Validation Accuracy = 0.81523\n"
     ]
    },
    {
     "name": "stderr",
     "output_type": "stream",
     "text": [
      "Epoch 294/512: 100%|████████████████████████████████████████████████████████████████████████████| 455/455 [00:31<00:00, 14.65it/s]\n"
     ]
    },
    {
     "name": "stdout",
     "output_type": "stream",
     "text": [
      "Epoch 294/512: Train Loss = 0.18137, Validation Loss = 0.26823, Train Accuracy = 0.84707, Validation Accuracy = 0.80946\n"
     ]
    },
    {
     "name": "stderr",
     "output_type": "stream",
     "text": [
      "Epoch 295/512: 100%|████████████████████████████████████████████████████████████████████████████| 455/455 [00:31<00:00, 14.65it/s]\n"
     ]
    },
    {
     "name": "stdout",
     "output_type": "stream",
     "text": [
      "Epoch 295/512: Train Loss = 0.17955, Validation Loss = 0.29140, Train Accuracy = 0.84947, Validation Accuracy = 0.80176\n"
     ]
    },
    {
     "name": "stderr",
     "output_type": "stream",
     "text": [
      "Epoch 296/512: 100%|████████████████████████████████████████████████████████████████████████████| 455/455 [00:31<00:00, 14.65it/s]\n"
     ]
    },
    {
     "name": "stdout",
     "output_type": "stream",
     "text": [
      "Epoch 296/512: Train Loss = 0.17949, Validation Loss = 0.26367, Train Accuracy = 0.84946, Validation Accuracy = 0.80616\n"
     ]
    },
    {
     "name": "stderr",
     "output_type": "stream",
     "text": [
      "Epoch 297/512: 100%|████████████████████████████████████████████████████████████████████████████| 455/455 [00:31<00:00, 14.67it/s]\n"
     ]
    },
    {
     "name": "stdout",
     "output_type": "stream",
     "text": [
      "Epoch 297/512: Train Loss = 0.17995, Validation Loss = 0.27400, Train Accuracy = 0.84940, Validation Accuracy = 0.81070\n"
     ]
    },
    {
     "name": "stderr",
     "output_type": "stream",
     "text": [
      "Epoch 298/512: 100%|████████████████████████████████████████████████████████████████████████████| 455/455 [00:31<00:00, 14.67it/s]\n"
     ]
    },
    {
     "name": "stdout",
     "output_type": "stream",
     "text": [
      "Epoch 298/512: Train Loss = 0.18029, Validation Loss = 0.25372, Train Accuracy = 0.84805, Validation Accuracy = 0.81757\n"
     ]
    },
    {
     "name": "stderr",
     "output_type": "stream",
     "text": [
      "Epoch 299/512: 100%|████████████████████████████████████████████████████████████████████████████| 455/455 [00:31<00:00, 14.65it/s]\n"
     ]
    },
    {
     "name": "stdout",
     "output_type": "stream",
     "text": [
      "Epoch 299/512: Train Loss = 0.18064, Validation Loss = 0.25867, Train Accuracy = 0.84765, Validation Accuracy = 0.81028\n"
     ]
    },
    {
     "name": "stderr",
     "output_type": "stream",
     "text": [
      "Epoch 300/512: 100%|████████████████████████████████████████████████████████████████████████████| 455/455 [00:31<00:00, 14.63it/s]\n"
     ]
    },
    {
     "name": "stdout",
     "output_type": "stream",
     "text": [
      "Epoch 300/512: Train Loss = 0.17914, Validation Loss = 0.27547, Train Accuracy = 0.84765, Validation Accuracy = 0.81015\n"
     ]
    },
    {
     "name": "stderr",
     "output_type": "stream",
     "text": [
      "Epoch 301/512: 100%|████████████████████████████████████████████████████████████████████████████| 455/455 [00:31<00:00, 14.65it/s]\n"
     ]
    },
    {
     "name": "stdout",
     "output_type": "stream",
     "text": [
      "Epoch 301/512: Train Loss = 0.17860, Validation Loss = 0.28681, Train Accuracy = 0.85071, Validation Accuracy = 0.79887\n"
     ]
    },
    {
     "name": "stderr",
     "output_type": "stream",
     "text": [
      "Epoch 302/512: 100%|████████████████████████████████████████████████████████████████████████████| 455/455 [00:31<00:00, 14.64it/s]\n"
     ]
    },
    {
     "name": "stdout",
     "output_type": "stream",
     "text": [
      "Epoch 302/512: Train Loss = 0.18028, Validation Loss = 0.26968, Train Accuracy = 0.84873, Validation Accuracy = 0.81331\n"
     ]
    },
    {
     "name": "stderr",
     "output_type": "stream",
     "text": [
      "Epoch 303/512: 100%|████████████████████████████████████████████████████████████████████████████| 455/455 [00:31<00:00, 14.65it/s]\n"
     ]
    },
    {
     "name": "stdout",
     "output_type": "stream",
     "text": [
      "Epoch 303/512: Train Loss = 0.17709, Validation Loss = 0.28315, Train Accuracy = 0.84989, Validation Accuracy = 0.80863\n"
     ]
    },
    {
     "name": "stderr",
     "output_type": "stream",
     "text": [
      "Epoch 304/512: 100%|████████████████████████████████████████████████████████████████████████████| 455/455 [00:31<00:00, 14.64it/s]\n"
     ]
    },
    {
     "name": "stdout",
     "output_type": "stream",
     "text": [
      "Epoch 304/512: Train Loss = 0.17967, Validation Loss = 0.27211, Train Accuracy = 0.84872, Validation Accuracy = 0.80396\n"
     ]
    },
    {
     "name": "stderr",
     "output_type": "stream",
     "text": [
      "Epoch 305/512: 100%|████████████████████████████████████████████████████████████████████████████| 455/455 [00:31<00:00, 14.64it/s]\n"
     ]
    },
    {
     "name": "stdout",
     "output_type": "stream",
     "text": [
      "Epoch 305/512: Train Loss = 0.17952, Validation Loss = 0.26364, Train Accuracy = 0.84860, Validation Accuracy = 0.80602\n"
     ]
    },
    {
     "name": "stderr",
     "output_type": "stream",
     "text": [
      "Epoch 306/512: 100%|████████████████████████████████████████████████████████████████████████████| 455/455 [00:31<00:00, 14.65it/s]\n"
     ]
    },
    {
     "name": "stdout",
     "output_type": "stream",
     "text": [
      "Epoch 306/512: Train Loss = 0.17819, Validation Loss = 0.26597, Train Accuracy = 0.84947, Validation Accuracy = 0.80960\n"
     ]
    },
    {
     "name": "stderr",
     "output_type": "stream",
     "text": [
      "Epoch 307/512: 100%|████████████████████████████████████████████████████████████████████████████| 455/455 [00:31<00:00, 14.65it/s]\n"
     ]
    },
    {
     "name": "stdout",
     "output_type": "stream",
     "text": [
      "Epoch 307/512: Train Loss = 0.17828, Validation Loss = 0.28041, Train Accuracy = 0.84760, Validation Accuracy = 0.80657\n"
     ]
    },
    {
     "name": "stderr",
     "output_type": "stream",
     "text": [
      "Epoch 308/512: 100%|████████████████████████████████████████████████████████████████████████████| 455/455 [00:31<00:00, 14.63it/s]\n"
     ]
    },
    {
     "name": "stdout",
     "output_type": "stream",
     "text": [
      "Epoch 308/512: Train Loss = 0.17807, Validation Loss = 0.26265, Train Accuracy = 0.84952, Validation Accuracy = 0.80630\n"
     ]
    },
    {
     "name": "stderr",
     "output_type": "stream",
     "text": [
      "Epoch 309/512: 100%|████████████████████████████████████████████████████████████████████████████| 455/455 [00:31<00:00, 14.63it/s]\n"
     ]
    },
    {
     "name": "stdout",
     "output_type": "stream",
     "text": [
      "Epoch 309/512: Train Loss = 0.17799, Validation Loss = 0.24907, Train Accuracy = 0.85007, Validation Accuracy = 0.81523\n"
     ]
    },
    {
     "name": "stderr",
     "output_type": "stream",
     "text": [
      "Epoch 310/512: 100%|████████████████████████████████████████████████████████████████████████████| 455/455 [00:31<00:00, 14.65it/s]\n"
     ]
    },
    {
     "name": "stdout",
     "output_type": "stream",
     "text": [
      "Epoch 310/512: Train Loss = 0.17784, Validation Loss = 0.26139, Train Accuracy = 0.84858, Validation Accuracy = 0.80822\n"
     ]
    },
    {
     "name": "stderr",
     "output_type": "stream",
     "text": [
      "Epoch 311/512: 100%|████████████████████████████████████████████████████████████████████████████| 455/455 [00:31<00:00, 14.62it/s]\n"
     ]
    },
    {
     "name": "stdout",
     "output_type": "stream",
     "text": [
      "Epoch 311/512: Train Loss = 0.17751, Validation Loss = 0.28763, Train Accuracy = 0.84911, Validation Accuracy = 0.79874\n"
     ]
    },
    {
     "name": "stderr",
     "output_type": "stream",
     "text": [
      "Epoch 312/512: 100%|████████████████████████████████████████████████████████████████████████████| 455/455 [00:31<00:00, 14.63it/s]\n"
     ]
    },
    {
     "name": "stdout",
     "output_type": "stream",
     "text": [
      "Epoch 312/512: Train Loss = 0.17704, Validation Loss = 0.27058, Train Accuracy = 0.85085, Validation Accuracy = 0.80960\n"
     ]
    },
    {
     "name": "stderr",
     "output_type": "stream",
     "text": [
      "Epoch 313/512: 100%|████████████████████████████████████████████████████████████████████████████| 455/455 [00:31<00:00, 14.64it/s]\n"
     ]
    },
    {
     "name": "stdout",
     "output_type": "stream",
     "text": [
      "Epoch 313/512: Train Loss = 0.17727, Validation Loss = 0.28193, Train Accuracy = 0.84968, Validation Accuracy = 0.80107\n"
     ]
    },
    {
     "name": "stderr",
     "output_type": "stream",
     "text": [
      "Epoch 314/512: 100%|████████████████████████████████████████████████████████████████████████████| 455/455 [00:31<00:00, 14.65it/s]\n"
     ]
    },
    {
     "name": "stdout",
     "output_type": "stream",
     "text": [
      "Epoch 314/512: Train Loss = 0.17734, Validation Loss = 0.24421, Train Accuracy = 0.84922, Validation Accuracy = 0.81317\n"
     ]
    },
    {
     "name": "stderr",
     "output_type": "stream",
     "text": [
      "Epoch 315/512: 100%|████████████████████████████████████████████████████████████████████████████| 455/455 [00:31<00:00, 14.65it/s]\n"
     ]
    },
    {
     "name": "stdout",
     "output_type": "stream",
     "text": [
      "Epoch 315/512: Train Loss = 0.17709, Validation Loss = 0.25749, Train Accuracy = 0.84961, Validation Accuracy = 0.81633\n"
     ]
    },
    {
     "name": "stderr",
     "output_type": "stream",
     "text": [
      "Epoch 316/512: 100%|████████████████████████████████████████████████████████████████████████████| 455/455 [00:31<00:00, 14.64it/s]\n"
     ]
    },
    {
     "name": "stdout",
     "output_type": "stream",
     "text": [
      "Epoch 316/512: Train Loss = 0.17625, Validation Loss = 0.24991, Train Accuracy = 0.85057, Validation Accuracy = 0.81908\n"
     ]
    },
    {
     "name": "stderr",
     "output_type": "stream",
     "text": [
      "Epoch 317/512: 100%|████████████████████████████████████████████████████████████████████████████| 455/455 [00:31<00:00, 14.64it/s]\n"
     ]
    },
    {
     "name": "stdout",
     "output_type": "stream",
     "text": [
      "Epoch 317/512: Train Loss = 0.17552, Validation Loss = 0.26660, Train Accuracy = 0.85025, Validation Accuracy = 0.81317\n"
     ]
    },
    {
     "name": "stderr",
     "output_type": "stream",
     "text": [
      "Epoch 318/512: 100%|████████████████████████████████████████████████████████████████████████████| 455/455 [00:31<00:00, 14.65it/s]\n"
     ]
    },
    {
     "name": "stdout",
     "output_type": "stream",
     "text": [
      "Epoch 318/512: Train Loss = 0.17675, Validation Loss = 0.25633, Train Accuracy = 0.84942, Validation Accuracy = 0.81688\n"
     ]
    },
    {
     "name": "stderr",
     "output_type": "stream",
     "text": [
      "Epoch 319/512: 100%|████████████████████████████████████████████████████████████████████████████| 455/455 [00:31<00:00, 14.65it/s]\n"
     ]
    },
    {
     "name": "stdout",
     "output_type": "stream",
     "text": [
      "Epoch 319/512: Train Loss = 0.17581, Validation Loss = 0.27495, Train Accuracy = 0.85104, Validation Accuracy = 0.80423\n"
     ]
    },
    {
     "name": "stderr",
     "output_type": "stream",
     "text": [
      "Epoch 324/512: 100%|████████████████████████████████████████████████████████████████████████████| 455/455 [00:31<00:00, 14.66it/s]\n"
     ]
    },
    {
     "name": "stdout",
     "output_type": "stream",
     "text": [
      "Epoch 324/512: Train Loss = 0.17494, Validation Loss = 0.26357, Train Accuracy = 0.85253, Validation Accuracy = 0.81606\n"
     ]
    },
    {
     "name": "stderr",
     "output_type": "stream",
     "text": [
      "Epoch 325/512: 100%|████████████████████████████████████████████████████████████████████████████| 455/455 [00:31<00:00, 14.66it/s]\n"
     ]
    },
    {
     "name": "stdout",
     "output_type": "stream",
     "text": [
      "Epoch 325/512: Train Loss = 0.17439, Validation Loss = 0.26038, Train Accuracy = 0.85057, Validation Accuracy = 0.81193\n"
     ]
    },
    {
     "name": "stderr",
     "output_type": "stream",
     "text": [
      "Epoch 326/512: 100%|████████████████████████████████████████████████████████████████████████████| 455/455 [00:31<00:00, 14.64it/s]\n"
     ]
    },
    {
     "name": "stdout",
     "output_type": "stream",
     "text": [
      "Epoch 326/512: Train Loss = 0.17432, Validation Loss = 0.24915, Train Accuracy = 0.85227, Validation Accuracy = 0.81606\n"
     ]
    },
    {
     "name": "stderr",
     "output_type": "stream",
     "text": [
      "Epoch 327/512: 100%|████████████████████████████████████████████████████████████████████████████| 455/455 [00:31<00:00, 14.65it/s]\n"
     ]
    },
    {
     "name": "stdout",
     "output_type": "stream",
     "text": [
      "Epoch 327/512: Train Loss = 0.17386, Validation Loss = 0.28119, Train Accuracy = 0.85143, Validation Accuracy = 0.80066\n"
     ]
    },
    {
     "name": "stderr",
     "output_type": "stream",
     "text": [
      "Epoch 328/512: 100%|████████████████████████████████████████████████████████████████████████████| 455/455 [00:30<00:00, 14.69it/s]\n"
     ]
    },
    {
     "name": "stdout",
     "output_type": "stream",
     "text": [
      "Epoch 328/512: Train Loss = 0.17441, Validation Loss = 0.26228, Train Accuracy = 0.85178, Validation Accuracy = 0.81221\n"
     ]
    },
    {
     "name": "stderr",
     "output_type": "stream",
     "text": [
      "Epoch 329/512: 100%|████████████████████████████████████████████████████████████████████████████| 455/455 [00:31<00:00, 14.65it/s]\n"
     ]
    },
    {
     "name": "stdout",
     "output_type": "stream",
     "text": [
      "Epoch 329/512: Train Loss = 0.17454, Validation Loss = 0.27130, Train Accuracy = 0.85136, Validation Accuracy = 0.81345\n"
     ]
    },
    {
     "name": "stderr",
     "output_type": "stream",
     "text": [
      "Epoch 330/512: 100%|████████████████████████████████████████████████████████████████████████████| 455/455 [00:31<00:00, 14.67it/s]\n"
     ]
    },
    {
     "name": "stdout",
     "output_type": "stream",
     "text": [
      "Epoch 330/512: Train Loss = 0.17421, Validation Loss = 0.29317, Train Accuracy = 0.85236, Validation Accuracy = 0.80066\n"
     ]
    },
    {
     "name": "stderr",
     "output_type": "stream",
     "text": [
      "Epoch 331/512: 100%|████████████████████████████████████████████████████████████████████████████| 455/455 [00:31<00:00, 14.64it/s]\n"
     ]
    },
    {
     "name": "stdout",
     "output_type": "stream",
     "text": [
      "Epoch 331/512: Train Loss = 0.17258, Validation Loss = 0.26387, Train Accuracy = 0.85157, Validation Accuracy = 0.81248\n"
     ]
    },
    {
     "name": "stderr",
     "output_type": "stream",
     "text": [
      "Epoch 332/512: 100%|████████████████████████████████████████████████████████████████████████████| 455/455 [00:31<00:00, 14.65it/s]\n"
     ]
    },
    {
     "name": "stdout",
     "output_type": "stream",
     "text": [
      "Epoch 332/512: Train Loss = 0.17366, Validation Loss = 0.26479, Train Accuracy = 0.85210, Validation Accuracy = 0.81303\n"
     ]
    },
    {
     "name": "stderr",
     "output_type": "stream",
     "text": [
      "Epoch 333/512: 100%|████████████████████████████████████████████████████████████████████████████| 455/455 [00:31<00:00, 14.64it/s]\n"
     ]
    },
    {
     "name": "stdout",
     "output_type": "stream",
     "text": [
      "Epoch 333/512: Train Loss = 0.17274, Validation Loss = 0.26963, Train Accuracy = 0.85392, Validation Accuracy = 0.80382\n"
     ]
    },
    {
     "name": "stderr",
     "output_type": "stream",
     "text": [
      "Epoch 334/512: 100%|████████████████████████████████████████████████████████████████████████████| 455/455 [00:31<00:00, 14.66it/s]\n"
     ]
    },
    {
     "name": "stdout",
     "output_type": "stream",
     "text": [
      "Epoch 334/512: Train Loss = 0.17389, Validation Loss = 0.25329, Train Accuracy = 0.85205, Validation Accuracy = 0.81881\n"
     ]
    },
    {
     "name": "stderr",
     "output_type": "stream",
     "text": [
      "Epoch 335/512: 100%|████████████████████████████████████████████████████████████████████████████| 455/455 [00:31<00:00, 14.65it/s]\n"
     ]
    },
    {
     "name": "stdout",
     "output_type": "stream",
     "text": [
      "Epoch 335/512: Train Loss = 0.17289, Validation Loss = 0.30957, Train Accuracy = 0.85293, Validation Accuracy = 0.78897\n"
     ]
    },
    {
     "name": "stderr",
     "output_type": "stream",
     "text": [
      "Epoch 336/512: 100%|████████████████████████████████████████████████████████████████████████████| 455/455 [00:31<00:00, 14.66it/s]\n"
     ]
    },
    {
     "name": "stdout",
     "output_type": "stream",
     "text": [
      "Epoch 336/512: Train Loss = 0.17390, Validation Loss = 0.25932, Train Accuracy = 0.85466, Validation Accuracy = 0.81551\n"
     ]
    },
    {
     "name": "stderr",
     "output_type": "stream",
     "text": [
      "Epoch 337/512: 100%|████████████████████████████████████████████████████████████████████████████| 455/455 [00:31<00:00, 14.63it/s]\n"
     ]
    },
    {
     "name": "stdout",
     "output_type": "stream",
     "text": [
      "Epoch 337/512: Train Loss = 0.17311, Validation Loss = 0.27253, Train Accuracy = 0.85166, Validation Accuracy = 0.80795\n"
     ]
    },
    {
     "name": "stderr",
     "output_type": "stream",
     "text": [
      "Epoch 338/512: 100%|████████████████████████████████████████████████████████████████████████████| 455/455 [00:31<00:00, 14.65it/s]\n"
     ]
    },
    {
     "name": "stdout",
     "output_type": "stream",
     "text": [
      "Epoch 338/512: Train Loss = 0.17229, Validation Loss = 0.27382, Train Accuracy = 0.85260, Validation Accuracy = 0.80410\n"
     ]
    },
    {
     "name": "stderr",
     "output_type": "stream",
     "text": [
      "Epoch 339/512: 100%|████████████████████████████████████████████████████████████████████████████| 455/455 [00:31<00:00, 14.66it/s]\n"
     ]
    },
    {
     "name": "stdout",
     "output_type": "stream",
     "text": [
      "Epoch 339/512: Train Loss = 0.17441, Validation Loss = 0.28743, Train Accuracy = 0.85111, Validation Accuracy = 0.80176\n"
     ]
    },
    {
     "name": "stderr",
     "output_type": "stream",
     "text": [
      "Epoch 340/512: 100%|████████████████████████████████████████████████████████████████████████████| 455/455 [00:31<00:00, 14.67it/s]\n"
     ]
    },
    {
     "name": "stdout",
     "output_type": "stream",
     "text": [
      "Epoch 340/512: Train Loss = 0.17293, Validation Loss = 0.27475, Train Accuracy = 0.85097, Validation Accuracy = 0.80643\n"
     ]
    },
    {
     "name": "stderr",
     "output_type": "stream",
     "text": [
      "Epoch 341/512: 100%|████████████████████████████████████████████████████████████████████████████| 455/455 [00:30<00:00, 14.69it/s]\n"
     ]
    },
    {
     "name": "stdout",
     "output_type": "stream",
     "text": [
      "Epoch 341/512: Train Loss = 0.17212, Validation Loss = 0.27260, Train Accuracy = 0.85427, Validation Accuracy = 0.80877\n"
     ]
    },
    {
     "name": "stderr",
     "output_type": "stream",
     "text": [
      "Epoch 342/512: 100%|████████████████████████████████████████████████████████████████████████████| 455/455 [00:31<00:00, 14.64it/s]\n"
     ]
    },
    {
     "name": "stdout",
     "output_type": "stream",
     "text": [
      "Epoch 342/512: Train Loss = 0.17231, Validation Loss = 0.25284, Train Accuracy = 0.85276, Validation Accuracy = 0.81578\n"
     ]
    },
    {
     "name": "stderr",
     "output_type": "stream",
     "text": [
      "Epoch 343/512: 100%|████████████████████████████████████████████████████████████████████████████| 455/455 [00:31<00:00, 14.64it/s]\n"
     ]
    },
    {
     "name": "stdout",
     "output_type": "stream",
     "text": [
      "Epoch 343/512: Train Loss = 0.17248, Validation Loss = 0.25254, Train Accuracy = 0.85262, Validation Accuracy = 0.81729\n"
     ]
    },
    {
     "name": "stderr",
     "output_type": "stream",
     "text": [
      "Epoch 344/512: 100%|████████████████████████████████████████████████████████████████████████████| 455/455 [00:31<00:00, 14.64it/s]\n"
     ]
    },
    {
     "name": "stdout",
     "output_type": "stream",
     "text": [
      "Epoch 344/512: Train Loss = 0.17130, Validation Loss = 0.24949, Train Accuracy = 0.85361, Validation Accuracy = 0.81647\n"
     ]
    },
    {
     "name": "stderr",
     "output_type": "stream",
     "text": [
      "Epoch 345/512: 100%|████████████████████████████████████████████████████████████████████████████| 455/455 [00:31<00:00, 14.67it/s]\n"
     ]
    },
    {
     "name": "stdout",
     "output_type": "stream",
     "text": [
      "Epoch 345/512: Train Loss = 0.17093, Validation Loss = 0.26050, Train Accuracy = 0.85508, Validation Accuracy = 0.81221\n"
     ]
    },
    {
     "name": "stderr",
     "output_type": "stream",
     "text": [
      "Epoch 346/512: 100%|████████████████████████████████████████████████████████████████████████████| 455/455 [00:31<00:00, 14.64it/s]\n"
     ]
    },
    {
     "name": "stdout",
     "output_type": "stream",
     "text": [
      "Epoch 346/512: Train Loss = 0.17011, Validation Loss = 0.26367, Train Accuracy = 0.85461, Validation Accuracy = 0.81083\n"
     ]
    },
    {
     "name": "stderr",
     "output_type": "stream",
     "text": [
      "Epoch 347/512: 100%|████████████████████████████████████████████████████████████████████████████| 455/455 [00:31<00:00, 14.65it/s]\n"
     ]
    },
    {
     "name": "stdout",
     "output_type": "stream",
     "text": [
      "Epoch 347/512: Train Loss = 0.17129, Validation Loss = 0.26065, Train Accuracy = 0.85138, Validation Accuracy = 0.81097\n"
     ]
    },
    {
     "name": "stderr",
     "output_type": "stream",
     "text": [
      "Epoch 348/512: 100%|████████████████████████████████████████████████████████████████████████████| 455/455 [00:31<00:00, 14.65it/s]\n"
     ]
    },
    {
     "name": "stdout",
     "output_type": "stream",
     "text": [
      "Epoch 348/512: Train Loss = 0.17157, Validation Loss = 0.28139, Train Accuracy = 0.85351, Validation Accuracy = 0.80506\n"
     ]
    },
    {
     "name": "stderr",
     "output_type": "stream",
     "text": [
      "Epoch 349/512: 100%|████████████████████████████████████████████████████████████████████████████| 455/455 [00:31<00:00, 14.66it/s]\n"
     ]
    },
    {
     "name": "stdout",
     "output_type": "stream",
     "text": [
      "Epoch 349/512: Train Loss = 0.17124, Validation Loss = 0.25425, Train Accuracy = 0.85164, Validation Accuracy = 0.81771\n"
     ]
    },
    {
     "name": "stderr",
     "output_type": "stream",
     "text": [
      "Epoch 350/512: 100%|████████████████████████████████████████████████████████████████████████████| 455/455 [00:31<00:00, 14.67it/s]\n"
     ]
    },
    {
     "name": "stdout",
     "output_type": "stream",
     "text": [
      "Epoch 350/512: Train Loss = 0.17074, Validation Loss = 0.27495, Train Accuracy = 0.85411, Validation Accuracy = 0.80767\n"
     ]
    },
    {
     "name": "stderr",
     "output_type": "stream",
     "text": [
      "Epoch 351/512: 100%|████████████████████████████████████████████████████████████████████████████| 455/455 [00:31<00:00, 14.63it/s]\n"
     ]
    },
    {
     "name": "stdout",
     "output_type": "stream",
     "text": [
      "Epoch 351/512: Train Loss = 0.17052, Validation Loss = 0.25338, Train Accuracy = 0.85346, Validation Accuracy = 0.81551\n"
     ]
    },
    {
     "name": "stderr",
     "output_type": "stream",
     "text": [
      "Epoch 352/512: 100%|████████████████████████████████████████████████████████████████████████████| 455/455 [00:30<00:00, 14.69it/s]\n"
     ]
    },
    {
     "name": "stdout",
     "output_type": "stream",
     "text": [
      "Epoch 352/512: Train Loss = 0.17012, Validation Loss = 0.24837, Train Accuracy = 0.85571, Validation Accuracy = 0.82169\n"
     ]
    },
    {
     "name": "stderr",
     "output_type": "stream",
     "text": [
      "Epoch 353/512: 100%|████████████████████████████████████████████████████████████████████████████| 455/455 [00:31<00:00, 14.64it/s]\n"
     ]
    },
    {
     "name": "stdout",
     "output_type": "stream",
     "text": [
      "Epoch 353/512: Train Loss = 0.17098, Validation Loss = 0.27054, Train Accuracy = 0.85337, Validation Accuracy = 0.80726\n"
     ]
    },
    {
     "name": "stderr",
     "output_type": "stream",
     "text": [
      "Epoch 354/512: 100%|████████████████████████████████████████████████████████████████████████████| 455/455 [00:31<00:00, 14.64it/s]\n"
     ]
    },
    {
     "name": "stdout",
     "output_type": "stream",
     "text": [
      "Epoch 354/512: Train Loss = 0.16990, Validation Loss = 0.27013, Train Accuracy = 0.85420, Validation Accuracy = 0.80891\n"
     ]
    },
    {
     "name": "stderr",
     "output_type": "stream",
     "text": [
      "Epoch 355/512: 100%|████████████████████████████████████████████████████████████████████████████| 455/455 [00:31<00:00, 14.64it/s]\n"
     ]
    },
    {
     "name": "stdout",
     "output_type": "stream",
     "text": [
      "Epoch 355/512: Train Loss = 0.17006, Validation Loss = 0.24673, Train Accuracy = 0.85506, Validation Accuracy = 0.81908\n"
     ]
    },
    {
     "name": "stderr",
     "output_type": "stream",
     "text": [
      "Epoch 356/512: 100%|████████████████████████████████████████████████████████████████████████████| 455/455 [00:31<00:00, 14.65it/s]\n"
     ]
    },
    {
     "name": "stdout",
     "output_type": "stream",
     "text": [
      "Epoch 356/512: Train Loss = 0.17016, Validation Loss = 0.22993, Train Accuracy = 0.85229, Validation Accuracy = 0.83063\n"
     ]
    },
    {
     "name": "stderr",
     "output_type": "stream",
     "text": [
      "Epoch 357/512: 100%|████████████████████████████████████████████████████████████████████████████| 455/455 [00:31<00:00, 14.66it/s]\n"
     ]
    },
    {
     "name": "stdout",
     "output_type": "stream",
     "text": [
      "Epoch 357/512: Train Loss = 0.16937, Validation Loss = 0.25130, Train Accuracy = 0.85539, Validation Accuracy = 0.81936\n"
     ]
    },
    {
     "name": "stderr",
     "output_type": "stream",
     "text": [
      "Epoch 358/512: 100%|████████████████████████████████████████████████████████████████████████████| 455/455 [00:31<00:00, 14.65it/s]\n"
     ]
    },
    {
     "name": "stdout",
     "output_type": "stream",
     "text": [
      "Epoch 358/512: Train Loss = 0.17020, Validation Loss = 0.25722, Train Accuracy = 0.85449, Validation Accuracy = 0.80973\n"
     ]
    },
    {
     "name": "stderr",
     "output_type": "stream",
     "text": [
      "Epoch 359/512: 100%|████████████████████████████████████████████████████████████████████████████| 455/455 [00:31<00:00, 14.64it/s]\n"
     ]
    },
    {
     "name": "stdout",
     "output_type": "stream",
     "text": [
      "Epoch 359/512: Train Loss = 0.16861, Validation Loss = 0.27358, Train Accuracy = 0.85389, Validation Accuracy = 0.80877\n"
     ]
    },
    {
     "name": "stderr",
     "output_type": "stream",
     "text": [
      "Epoch 360/512: 100%|████████████████████████████████████████████████████████████████████████████| 455/455 [00:31<00:00, 14.65it/s]\n"
     ]
    },
    {
     "name": "stdout",
     "output_type": "stream",
     "text": [
      "Epoch 360/512: Train Loss = 0.16883, Validation Loss = 0.27595, Train Accuracy = 0.85372, Validation Accuracy = 0.81070\n"
     ]
    },
    {
     "name": "stderr",
     "output_type": "stream",
     "text": [
      "Epoch 361/512: 100%|████████████████████████████████████████████████████████████████████████████| 455/455 [00:31<00:00, 14.64it/s]\n"
     ]
    },
    {
     "name": "stdout",
     "output_type": "stream",
     "text": [
      "Epoch 361/512: Train Loss = 0.16846, Validation Loss = 0.25161, Train Accuracy = 0.85581, Validation Accuracy = 0.81881\n"
     ]
    },
    {
     "name": "stderr",
     "output_type": "stream",
     "text": [
      "Epoch 362/512: 100%|████████████████████████████████████████████████████████████████████████████| 455/455 [00:31<00:00, 14.66it/s]\n"
     ]
    },
    {
     "name": "stdout",
     "output_type": "stream",
     "text": [
      "Epoch 362/512: Train Loss = 0.16861, Validation Loss = 0.26913, Train Accuracy = 0.85496, Validation Accuracy = 0.80740\n"
     ]
    },
    {
     "name": "stderr",
     "output_type": "stream",
     "text": [
      "Epoch 363/512: 100%|████████████████████████████████████████████████████████████████████████████| 455/455 [00:31<00:00, 14.64it/s]\n"
     ]
    },
    {
     "name": "stdout",
     "output_type": "stream",
     "text": [
      "Epoch 363/512: Train Loss = 0.16968, Validation Loss = 0.25950, Train Accuracy = 0.85294, Validation Accuracy = 0.81564\n"
     ]
    },
    {
     "name": "stderr",
     "output_type": "stream",
     "text": [
      "Epoch 364/512: 100%|████████████████████████████████████████████████████████████████████████████| 455/455 [00:30<00:00, 14.68it/s]\n"
     ]
    },
    {
     "name": "stdout",
     "output_type": "stream",
     "text": [
      "Epoch 364/512: Train Loss = 0.16966, Validation Loss = 0.27273, Train Accuracy = 0.85303, Validation Accuracy = 0.80437\n"
     ]
    },
    {
     "name": "stderr",
     "output_type": "stream",
     "text": [
      "Epoch 365/512: 100%|████████████████████████████████████████████████████████████████████████████| 455/455 [00:31<00:00, 14.64it/s]\n"
     ]
    },
    {
     "name": "stdout",
     "output_type": "stream",
     "text": [
      "Epoch 365/512: Train Loss = 0.16769, Validation Loss = 0.26079, Train Accuracy = 0.85451, Validation Accuracy = 0.80946\n"
     ]
    },
    {
     "name": "stderr",
     "output_type": "stream",
     "text": [
      "Epoch 366/512: 100%|████████████████████████████████████████████████████████████████████████████| 455/455 [00:31<00:00, 14.64it/s]\n"
     ]
    },
    {
     "name": "stdout",
     "output_type": "stream",
     "text": [
      "Epoch 366/512: Train Loss = 0.16875, Validation Loss = 0.25168, Train Accuracy = 0.85576, Validation Accuracy = 0.81482\n"
     ]
    },
    {
     "name": "stderr",
     "output_type": "stream",
     "text": [
      "Epoch 367/512: 100%|████████████████████████████████████████████████████████████████████████████| 455/455 [00:31<00:00, 14.64it/s]\n"
     ]
    },
    {
     "name": "stdout",
     "output_type": "stream",
     "text": [
      "Epoch 367/512: Train Loss = 0.16717, Validation Loss = 0.25735, Train Accuracy = 0.85489, Validation Accuracy = 0.81125\n"
     ]
    },
    {
     "name": "stderr",
     "output_type": "stream",
     "text": [
      "Epoch 368/512: 100%|████████████████████████████████████████████████████████████████████████████| 455/455 [00:31<00:00, 14.64it/s]\n"
     ]
    },
    {
     "name": "stdout",
     "output_type": "stream",
     "text": [
      "Epoch 368/512: Train Loss = 0.16741, Validation Loss = 0.28609, Train Accuracy = 0.85478, Validation Accuracy = 0.79832\n"
     ]
    },
    {
     "name": "stderr",
     "output_type": "stream",
     "text": [
      "Epoch 369/512: 100%|████████████████████████████████████████████████████████████████████████████| 455/455 [00:31<00:00, 14.67it/s]\n"
     ]
    },
    {
     "name": "stdout",
     "output_type": "stream",
     "text": [
      "Epoch 369/512: Train Loss = 0.16783, Validation Loss = 0.26584, Train Accuracy = 0.85528, Validation Accuracy = 0.81509\n"
     ]
    },
    {
     "name": "stderr",
     "output_type": "stream",
     "text": [
      "Epoch 370/512: 100%|████████████████████████████████████████████████████████████████████████████| 455/455 [00:31<00:00, 14.67it/s]\n"
     ]
    },
    {
     "name": "stdout",
     "output_type": "stream",
     "text": [
      "Epoch 370/512: Train Loss = 0.16816, Validation Loss = 0.28698, Train Accuracy = 0.85441, Validation Accuracy = 0.80190\n"
     ]
    },
    {
     "name": "stderr",
     "output_type": "stream",
     "text": [
      "Epoch 371/512: 100%|████████████████████████████████████████████████████████████████████████████| 455/455 [00:31<00:00, 14.65it/s]\n"
     ]
    },
    {
     "name": "stdout",
     "output_type": "stream",
     "text": [
      "Epoch 371/512: Train Loss = 0.16874, Validation Loss = 0.26031, Train Accuracy = 0.85382, Validation Accuracy = 0.81221\n"
     ]
    },
    {
     "name": "stderr",
     "output_type": "stream",
     "text": [
      "Epoch 372/512: 100%|████████████████████████████████████████████████████████████████████████████| 455/455 [00:31<00:00, 14.63it/s]\n"
     ]
    },
    {
     "name": "stdout",
     "output_type": "stream",
     "text": [
      "Epoch 372/512: Train Loss = 0.16822, Validation Loss = 0.28019, Train Accuracy = 0.85520, Validation Accuracy = 0.80478\n"
     ]
    },
    {
     "name": "stderr",
     "output_type": "stream",
     "text": [
      "Epoch 373/512: 100%|████████████████████████████████████████████████████████████████████████████| 455/455 [00:30<00:00, 14.68it/s]\n"
     ]
    },
    {
     "name": "stdout",
     "output_type": "stream",
     "text": [
      "Epoch 373/512: Train Loss = 0.16731, Validation Loss = 0.24874, Train Accuracy = 0.85607, Validation Accuracy = 0.81702\n"
     ]
    },
    {
     "name": "stderr",
     "output_type": "stream",
     "text": [
      "Epoch 374/512: 100%|████████████████████████████████████████████████████████████████████████████| 455/455 [00:31<00:00, 14.63it/s]\n"
     ]
    },
    {
     "name": "stdout",
     "output_type": "stream",
     "text": [
      "Epoch 374/512: Train Loss = 0.16901, Validation Loss = 0.27677, Train Accuracy = 0.85336, Validation Accuracy = 0.80561\n"
     ]
    },
    {
     "name": "stderr",
     "output_type": "stream",
     "text": [
      "Epoch 375/512: 100%|████████████████████████████████████████████████████████████████████████████| 455/455 [00:31<00:00, 14.66it/s]\n"
     ]
    },
    {
     "name": "stdout",
     "output_type": "stream",
     "text": [
      "Epoch 375/512: Train Loss = 0.16586, Validation Loss = 0.26226, Train Accuracy = 0.85549, Validation Accuracy = 0.81221\n"
     ]
    },
    {
     "name": "stderr",
     "output_type": "stream",
     "text": [
      "Epoch 376/512: 100%|████████████████████████████████████████████████████████████████████████████| 455/455 [00:31<00:00, 14.65it/s]\n"
     ]
    },
    {
     "name": "stdout",
     "output_type": "stream",
     "text": [
      "Epoch 376/512: Train Loss = 0.16630, Validation Loss = 0.25870, Train Accuracy = 0.85669, Validation Accuracy = 0.81509\n"
     ]
    },
    {
     "name": "stderr",
     "output_type": "stream",
     "text": [
      "Epoch 377/512: 100%|████████████████████████████████████████████████████████████████████████████| 455/455 [00:31<00:00, 14.66it/s]\n"
     ]
    },
    {
     "name": "stdout",
     "output_type": "stream",
     "text": [
      "Epoch 377/512: Train Loss = 0.16631, Validation Loss = 0.25457, Train Accuracy = 0.85655, Validation Accuracy = 0.81647\n"
     ]
    },
    {
     "name": "stderr",
     "output_type": "stream",
     "text": [
      "Epoch 378/512: 100%|████████████████████████████████████████████████████████████████████████████| 455/455 [00:31<00:00, 14.67it/s]\n"
     ]
    },
    {
     "name": "stdout",
     "output_type": "stream",
     "text": [
      "Epoch 378/512: Train Loss = 0.16581, Validation Loss = 0.26860, Train Accuracy = 0.85655, Validation Accuracy = 0.81138\n"
     ]
    },
    {
     "name": "stderr",
     "output_type": "stream",
     "text": [
      "Epoch 379/512: 100%|████████████████████████████████████████████████████████████████████████████| 455/455 [00:31<00:00, 14.63it/s]\n"
     ]
    },
    {
     "name": "stdout",
     "output_type": "stream",
     "text": [
      "Epoch 379/512: Train Loss = 0.16653, Validation Loss = 0.26022, Train Accuracy = 0.85420, Validation Accuracy = 0.80685\n"
     ]
    },
    {
     "name": "stderr",
     "output_type": "stream",
     "text": [
      "Epoch 380/512: 100%|████████████████████████████████████████████████████████████████████████████| 455/455 [00:31<00:00, 14.67it/s]\n"
     ]
    },
    {
     "name": "stdout",
     "output_type": "stream",
     "text": [
      "Epoch 380/512: Train Loss = 0.16578, Validation Loss = 0.27236, Train Accuracy = 0.85647, Validation Accuracy = 0.80602\n"
     ]
    },
    {
     "name": "stderr",
     "output_type": "stream",
     "text": [
      "Epoch 381/512: 100%|████████████████████████████████████████████████████████████████████████████| 455/455 [00:31<00:00, 14.66it/s]\n"
     ]
    },
    {
     "name": "stdout",
     "output_type": "stream",
     "text": [
      "Epoch 381/512: Train Loss = 0.16575, Validation Loss = 0.25634, Train Accuracy = 0.85569, Validation Accuracy = 0.81537\n"
     ]
    },
    {
     "name": "stderr",
     "output_type": "stream",
     "text": [
      "Epoch 382/512: 100%|████████████████████████████████████████████████████████████████████████████| 455/455 [00:31<00:00, 14.65it/s]\n"
     ]
    },
    {
     "name": "stdout",
     "output_type": "stream",
     "text": [
      "Epoch 382/512: Train Loss = 0.16653, Validation Loss = 0.27765, Train Accuracy = 0.85418, Validation Accuracy = 0.80698\n"
     ]
    },
    {
     "name": "stderr",
     "output_type": "stream",
     "text": [
      "Epoch 383/512: 100%|████████████████████████████████████████████████████████████████████████████| 455/455 [00:30<00:00, 14.68it/s]\n"
     ]
    },
    {
     "name": "stdout",
     "output_type": "stream",
     "text": [
      "Epoch 383/512: Train Loss = 0.16534, Validation Loss = 0.26865, Train Accuracy = 0.85635, Validation Accuracy = 0.80726\n"
     ]
    },
    {
     "name": "stderr",
     "output_type": "stream",
     "text": [
      "Epoch 389/512: 100%|████████████████████████████████████████████████████████████████████████████| 455/455 [00:31<00:00, 14.68it/s]\n"
     ]
    },
    {
     "name": "stdout",
     "output_type": "stream",
     "text": [
      "Epoch 389/512: Train Loss = 0.16450, Validation Loss = 0.27858, Train Accuracy = 0.85728, Validation Accuracy = 0.80616\n"
     ]
    },
    {
     "name": "stderr",
     "output_type": "stream",
     "text": [
      "Epoch 390/512: 100%|████████████████████████████████████████████████████████████████████████████| 455/455 [00:31<00:00, 14.66it/s]\n"
     ]
    },
    {
     "name": "stdout",
     "output_type": "stream",
     "text": [
      "Epoch 390/512: Train Loss = 0.16448, Validation Loss = 0.25553, Train Accuracy = 0.85709, Validation Accuracy = 0.81152\n"
     ]
    },
    {
     "name": "stderr",
     "output_type": "stream",
     "text": [
      "Epoch 391/512: 100%|████████████████████████████████████████████████████████████████████████████| 455/455 [00:30<00:00, 14.69it/s]\n"
     ]
    },
    {
     "name": "stdout",
     "output_type": "stream",
     "text": [
      "Epoch 391/512: Train Loss = 0.16429, Validation Loss = 0.25840, Train Accuracy = 0.85771, Validation Accuracy = 0.81235\n"
     ]
    },
    {
     "name": "stderr",
     "output_type": "stream",
     "text": [
      "Epoch 392/512: 100%|████████████████████████████████████████████████████████████████████████████| 455/455 [00:31<00:00, 14.67it/s]\n"
     ]
    },
    {
     "name": "stdout",
     "output_type": "stream",
     "text": [
      "Epoch 392/512: Train Loss = 0.16351, Validation Loss = 0.25183, Train Accuracy = 0.85783, Validation Accuracy = 0.82266\n"
     ]
    },
    {
     "name": "stderr",
     "output_type": "stream",
     "text": [
      "Epoch 393/512: 100%|████████████████████████████████████████████████████████████████████████████| 455/455 [00:31<00:00, 14.65it/s]\n"
     ]
    },
    {
     "name": "stdout",
     "output_type": "stream",
     "text": [
      "Epoch 393/512: Train Loss = 0.16417, Validation Loss = 0.26170, Train Accuracy = 0.85834, Validation Accuracy = 0.81276\n"
     ]
    },
    {
     "name": "stderr",
     "output_type": "stream",
     "text": [
      "Epoch 394/512: 100%|████████████████████████████████████████████████████████████████████████████| 455/455 [00:30<00:00, 14.68it/s]\n"
     ]
    },
    {
     "name": "stdout",
     "output_type": "stream",
     "text": [
      "Epoch 394/512: Train Loss = 0.16389, Validation Loss = 0.25756, Train Accuracy = 0.85540, Validation Accuracy = 0.81496\n"
     ]
    },
    {
     "name": "stderr",
     "output_type": "stream",
     "text": [
      "Epoch 395/512: 100%|████████████████████████████████████████████████████████████████████████████| 455/455 [00:30<00:00, 14.70it/s]\n"
     ]
    },
    {
     "name": "stdout",
     "output_type": "stream",
     "text": [
      "Epoch 395/512: Train Loss = 0.16414, Validation Loss = 0.25161, Train Accuracy = 0.85779, Validation Accuracy = 0.81592\n"
     ]
    },
    {
     "name": "stderr",
     "output_type": "stream",
     "text": [
      "Epoch 396/512: 100%|████████████████████████████████████████████████████████████████████████████| 455/455 [00:30<00:00, 14.68it/s]\n"
     ]
    },
    {
     "name": "stdout",
     "output_type": "stream",
     "text": [
      "Epoch 396/512: Train Loss = 0.16510, Validation Loss = 0.27129, Train Accuracy = 0.85703, Validation Accuracy = 0.81028\n"
     ]
    },
    {
     "name": "stderr",
     "output_type": "stream",
     "text": [
      "Epoch 397/512: 100%|████████████████████████████████████████████████████████████████████████████| 455/455 [00:31<00:00, 14.67it/s]\n"
     ]
    },
    {
     "name": "stdout",
     "output_type": "stream",
     "text": [
      "Epoch 397/512: Train Loss = 0.16386, Validation Loss = 0.25502, Train Accuracy = 0.85757, Validation Accuracy = 0.82004\n"
     ]
    },
    {
     "name": "stderr",
     "output_type": "stream",
     "text": [
      "Epoch 398/512: 100%|████████████████████████████████████████████████████████████████████████████| 455/455 [00:30<00:00, 14.70it/s]\n"
     ]
    },
    {
     "name": "stdout",
     "output_type": "stream",
     "text": [
      "Epoch 398/512: Train Loss = 0.16399, Validation Loss = 0.25153, Train Accuracy = 0.85757, Validation Accuracy = 0.81949\n"
     ]
    },
    {
     "name": "stderr",
     "output_type": "stream",
     "text": [
      "Epoch 399/512: 100%|████████████████████████████████████████████████████████████████████████████| 455/455 [00:30<00:00, 14.72it/s]\n"
     ]
    },
    {
     "name": "stdout",
     "output_type": "stream",
     "text": [
      "Epoch 399/512: Train Loss = 0.16473, Validation Loss = 0.27635, Train Accuracy = 0.85728, Validation Accuracy = 0.80850\n"
     ]
    },
    {
     "name": "stderr",
     "output_type": "stream",
     "text": [
      "Epoch 400/512: 100%|████████████████████████████████████████████████████████████████████████████| 455/455 [00:30<00:00, 14.68it/s]\n"
     ]
    },
    {
     "name": "stdout",
     "output_type": "stream",
     "text": [
      "Epoch 400/512: Train Loss = 0.16387, Validation Loss = 0.26210, Train Accuracy = 0.85685, Validation Accuracy = 0.81235\n"
     ]
    },
    {
     "name": "stderr",
     "output_type": "stream",
     "text": [
      "Epoch 401/512: 100%|████████████████████████████████████████████████████████████████████████████| 455/455 [00:30<00:00, 14.70it/s]\n"
     ]
    },
    {
     "name": "stdout",
     "output_type": "stream",
     "text": [
      "Epoch 401/512: Train Loss = 0.16427, Validation Loss = 0.25835, Train Accuracy = 0.85803, Validation Accuracy = 0.81784\n"
     ]
    },
    {
     "name": "stderr",
     "output_type": "stream",
     "text": [
      "Epoch 402/512: 100%|████████████████████████████████████████████████████████████████████████████| 455/455 [00:30<00:00, 14.69it/s]\n"
     ]
    },
    {
     "name": "stdout",
     "output_type": "stream",
     "text": [
      "Epoch 402/512: Train Loss = 0.16280, Validation Loss = 0.27997, Train Accuracy = 0.85616, Validation Accuracy = 0.80863\n"
     ]
    },
    {
     "name": "stderr",
     "output_type": "stream",
     "text": [
      "Epoch 403/512: 100%|████████████████████████████████████████████████████████████████████████████| 455/455 [00:30<00:00, 14.73it/s]\n"
     ]
    },
    {
     "name": "stdout",
     "output_type": "stream",
     "text": [
      "Epoch 403/512: Train Loss = 0.16293, Validation Loss = 0.27127, Train Accuracy = 0.85795, Validation Accuracy = 0.80960\n"
     ]
    },
    {
     "name": "stderr",
     "output_type": "stream",
     "text": [
      "Epoch 404/512: 100%|████████████████████████████████████████████████████████████████████████████| 455/455 [00:30<00:00, 14.68it/s]\n"
     ]
    },
    {
     "name": "stdout",
     "output_type": "stream",
     "text": [
      "Epoch 404/512: Train Loss = 0.16396, Validation Loss = 0.25034, Train Accuracy = 0.85679, Validation Accuracy = 0.81729\n"
     ]
    },
    {
     "name": "stderr",
     "output_type": "stream",
     "text": [
      "Epoch 405/512: 100%|████████████████████████████████████████████████████████████████████████████| 455/455 [00:30<00:00, 14.72it/s]\n"
     ]
    },
    {
     "name": "stdout",
     "output_type": "stream",
     "text": [
      "Epoch 405/512: Train Loss = 0.16274, Validation Loss = 0.24906, Train Accuracy = 0.85841, Validation Accuracy = 0.81702\n"
     ]
    },
    {
     "name": "stderr",
     "output_type": "stream",
     "text": [
      "Epoch 406/512: 100%|████████████████████████████████████████████████████████████████████████████| 455/455 [00:30<00:00, 14.71it/s]\n"
     ]
    },
    {
     "name": "stdout",
     "output_type": "stream",
     "text": [
      "Epoch 406/512: Train Loss = 0.16221, Validation Loss = 0.24863, Train Accuracy = 0.85877, Validation Accuracy = 0.82128\n"
     ]
    },
    {
     "name": "stderr",
     "output_type": "stream",
     "text": [
      "Epoch 407/512: 100%|████████████████████████████████████████████████████████████████████████████| 455/455 [00:30<00:00, 14.71it/s]\n"
     ]
    },
    {
     "name": "stdout",
     "output_type": "stream",
     "text": [
      "Epoch 407/512: Train Loss = 0.16387, Validation Loss = 0.24734, Train Accuracy = 0.85844, Validation Accuracy = 0.82293\n"
     ]
    },
    {
     "name": "stderr",
     "output_type": "stream",
     "text": [
      "Epoch 408/512: 100%|████████████████████████████████████████████████████████████████████████████| 455/455 [00:30<00:00, 14.69it/s]\n"
     ]
    },
    {
     "name": "stdout",
     "output_type": "stream",
     "text": [
      "Epoch 408/512: Train Loss = 0.16196, Validation Loss = 0.25441, Train Accuracy = 0.85807, Validation Accuracy = 0.81839\n"
     ]
    },
    {
     "name": "stderr",
     "output_type": "stream",
     "text": [
      "Epoch 409/512: 100%|████████████████████████████████████████████████████████████████████████████| 455/455 [00:31<00:00, 14.67it/s]\n"
     ]
    },
    {
     "name": "stdout",
     "output_type": "stream",
     "text": [
      "Epoch 409/512: Train Loss = 0.16105, Validation Loss = 0.26705, Train Accuracy = 0.86028, Validation Accuracy = 0.81592\n"
     ]
    },
    {
     "name": "stderr",
     "output_type": "stream",
     "text": [
      "Epoch 410/512: 100%|████████████████████████████████████████████████████████████████████████████| 455/455 [00:31<00:00, 14.66it/s]\n"
     ]
    },
    {
     "name": "stdout",
     "output_type": "stream",
     "text": [
      "Epoch 410/512: Train Loss = 0.16204, Validation Loss = 0.28778, Train Accuracy = 0.85917, Validation Accuracy = 0.80355\n"
     ]
    },
    {
     "name": "stderr",
     "output_type": "stream",
     "text": [
      "Epoch 411/512: 100%|████████████████████████████████████████████████████████████████████████████| 455/455 [00:31<00:00, 14.68it/s]\n"
     ]
    },
    {
     "name": "stdout",
     "output_type": "stream",
     "text": [
      "Epoch 411/512: Train Loss = 0.16286, Validation Loss = 0.26919, Train Accuracy = 0.85757, Validation Accuracy = 0.80616\n"
     ]
    },
    {
     "name": "stderr",
     "output_type": "stream",
     "text": [
      "Epoch 412/512: 100%|████████████████████████████████████████████████████████████████████████████| 455/455 [00:31<00:00, 14.67it/s]\n"
     ]
    },
    {
     "name": "stdout",
     "output_type": "stream",
     "text": [
      "Epoch 412/512: Train Loss = 0.16128, Validation Loss = 0.26990, Train Accuracy = 0.85903, Validation Accuracy = 0.81001\n"
     ]
    },
    {
     "name": "stderr",
     "output_type": "stream",
     "text": [
      "Epoch 413/512: 100%|████████████████████████████████████████████████████████████████████████████| 455/455 [00:30<00:00, 14.70it/s]\n"
     ]
    },
    {
     "name": "stdout",
     "output_type": "stream",
     "text": [
      "Epoch 413/512: Train Loss = 0.16134, Validation Loss = 0.25683, Train Accuracy = 0.85855, Validation Accuracy = 0.81537\n"
     ]
    },
    {
     "name": "stderr",
     "output_type": "stream",
     "text": [
      "Epoch 414/512: 100%|████████████████████████████████████████████████████████████████████████████| 455/455 [00:30<00:00, 14.72it/s]\n"
     ]
    },
    {
     "name": "stdout",
     "output_type": "stream",
     "text": [
      "Epoch 414/512: Train Loss = 0.16065, Validation Loss = 0.26413, Train Accuracy = 0.86078, Validation Accuracy = 0.81345\n"
     ]
    },
    {
     "name": "stderr",
     "output_type": "stream",
     "text": [
      "Epoch 415/512: 100%|████████████████████████████████████████████████████████████████████████████| 455/455 [00:30<00:00, 14.68it/s]\n"
     ]
    },
    {
     "name": "stdout",
     "output_type": "stream",
     "text": [
      "Epoch 415/512: Train Loss = 0.16261, Validation Loss = 0.26300, Train Accuracy = 0.85741, Validation Accuracy = 0.81221\n"
     ]
    },
    {
     "name": "stderr",
     "output_type": "stream",
     "text": [
      "Epoch 416/512: 100%|████████████████████████████████████████████████████████████████████████████| 455/455 [00:30<00:00, 14.68it/s]\n"
     ]
    },
    {
     "name": "stdout",
     "output_type": "stream",
     "text": [
      "Epoch 416/512: Train Loss = 0.16151, Validation Loss = 0.24741, Train Accuracy = 0.85705, Validation Accuracy = 0.81551\n"
     ]
    },
    {
     "name": "stderr",
     "output_type": "stream",
     "text": [
      "Epoch 417/512: 100%|████████████████████████████████████████████████████████████████████████████| 455/455 [00:30<00:00, 14.69it/s]\n"
     ]
    },
    {
     "name": "stdout",
     "output_type": "stream",
     "text": [
      "Epoch 417/512: Train Loss = 0.16169, Validation Loss = 0.25259, Train Accuracy = 0.85824, Validation Accuracy = 0.81551\n"
     ]
    },
    {
     "name": "stderr",
     "output_type": "stream",
     "text": [
      "Epoch 418/512: 100%|████████████████████████████████████████████████████████████████████████████| 455/455 [00:30<00:00, 14.72it/s]\n"
     ]
    },
    {
     "name": "stdout",
     "output_type": "stream",
     "text": [
      "Epoch 418/512: Train Loss = 0.16182, Validation Loss = 0.27048, Train Accuracy = 0.86001, Validation Accuracy = 0.80973\n"
     ]
    },
    {
     "name": "stderr",
     "output_type": "stream",
     "text": [
      "Epoch 419/512: 100%|████████████████████████████████████████████████████████████████████████████| 455/455 [00:30<00:00, 14.69it/s]\n"
     ]
    },
    {
     "name": "stdout",
     "output_type": "stream",
     "text": [
      "Epoch 419/512: Train Loss = 0.16150, Validation Loss = 0.25486, Train Accuracy = 0.85716, Validation Accuracy = 0.81413\n"
     ]
    },
    {
     "name": "stderr",
     "output_type": "stream",
     "text": [
      "Epoch 420/512: 100%|████████████████████████████████████████████████████████████████████████████| 455/455 [00:30<00:00, 14.69it/s]\n"
     ]
    },
    {
     "name": "stdout",
     "output_type": "stream",
     "text": [
      "Epoch 420/512: Train Loss = 0.16074, Validation Loss = 0.27644, Train Accuracy = 0.85813, Validation Accuracy = 0.80588\n"
     ]
    },
    {
     "name": "stderr",
     "output_type": "stream",
     "text": [
      "Epoch 421/512: 100%|████████████████████████████████████████████████████████████████████████████| 455/455 [00:30<00:00, 14.71it/s]\n"
     ]
    },
    {
     "name": "stdout",
     "output_type": "stream",
     "text": [
      "Epoch 421/512: Train Loss = 0.15911, Validation Loss = 0.27040, Train Accuracy = 0.85963, Validation Accuracy = 0.81221\n"
     ]
    },
    {
     "name": "stderr",
     "output_type": "stream",
     "text": [
      "Epoch 422/512: 100%|████████████████████████████████████████████████████████████████████████████| 455/455 [00:30<00:00, 14.72it/s]\n"
     ]
    },
    {
     "name": "stdout",
     "output_type": "stream",
     "text": [
      "Epoch 422/512: Train Loss = 0.16093, Validation Loss = 0.24944, Train Accuracy = 0.86027, Validation Accuracy = 0.81826\n"
     ]
    },
    {
     "name": "stderr",
     "output_type": "stream",
     "text": [
      "Epoch 423/512: 100%|████████████████████████████████████████████████████████████████████████████| 455/455 [00:30<00:00, 14.73it/s]\n"
     ]
    },
    {
     "name": "stdout",
     "output_type": "stream",
     "text": [
      "Epoch 423/512: Train Loss = 0.15966, Validation Loss = 0.27424, Train Accuracy = 0.85906, Validation Accuracy = 0.79887\n"
     ]
    },
    {
     "name": "stderr",
     "output_type": "stream",
     "text": [
      "Epoch 424/512: 100%|████████████████████████████████████████████████████████████████████████████| 455/455 [00:30<00:00, 14.70it/s]\n"
     ]
    },
    {
     "name": "stdout",
     "output_type": "stream",
     "text": [
      "Epoch 424/512: Train Loss = 0.16111, Validation Loss = 0.25569, Train Accuracy = 0.85783, Validation Accuracy = 0.81496\n"
     ]
    },
    {
     "name": "stderr",
     "output_type": "stream",
     "text": [
      "Epoch 425/512: 100%|████████████████████████████████████████████████████████████████████████████| 455/455 [00:30<00:00, 14.70it/s]\n"
     ]
    },
    {
     "name": "stdout",
     "output_type": "stream",
     "text": [
      "Epoch 425/512: Train Loss = 0.16134, Validation Loss = 0.26518, Train Accuracy = 0.85949, Validation Accuracy = 0.81180\n"
     ]
    },
    {
     "name": "stderr",
     "output_type": "stream",
     "text": [
      "Epoch 426/512: 100%|████████████████████████████████████████████████████████████████████████████| 455/455 [00:30<00:00, 14.73it/s]\n"
     ]
    },
    {
     "name": "stdout",
     "output_type": "stream",
     "text": [
      "Epoch 426/512: Train Loss = 0.16080, Validation Loss = 0.24576, Train Accuracy = 0.85827, Validation Accuracy = 0.81991\n"
     ]
    },
    {
     "name": "stderr",
     "output_type": "stream",
     "text": [
      "Epoch 427/512: 100%|████████████████████████████████████████████████████████████████████████████| 455/455 [00:30<00:00, 14.70it/s]\n"
     ]
    },
    {
     "name": "stdout",
     "output_type": "stream",
     "text": [
      "Epoch 427/512: Train Loss = 0.15951, Validation Loss = 0.25519, Train Accuracy = 0.85946, Validation Accuracy = 0.81881\n"
     ]
    },
    {
     "name": "stderr",
     "output_type": "stream",
     "text": [
      "Epoch 428/512: 100%|████████████████████████████████████████████████████████████████████████████| 455/455 [00:30<00:00, 14.70it/s]\n"
     ]
    },
    {
     "name": "stdout",
     "output_type": "stream",
     "text": [
      "Epoch 428/512: Train Loss = 0.16043, Validation Loss = 0.28707, Train Accuracy = 0.85889, Validation Accuracy = 0.79997\n"
     ]
    },
    {
     "name": "stderr",
     "output_type": "stream",
     "text": [
      "Epoch 429/512: 100%|████████████████████████████████████████████████████████████████████████████| 455/455 [00:30<00:00, 14.69it/s]\n"
     ]
    },
    {
     "name": "stdout",
     "output_type": "stream",
     "text": [
      "Epoch 429/512: Train Loss = 0.16098, Validation Loss = 0.24635, Train Accuracy = 0.85848, Validation Accuracy = 0.81908\n"
     ]
    },
    {
     "name": "stderr",
     "output_type": "stream",
     "text": [
      "Epoch 430/512: 100%|████████████████████████████████████████████████████████████████████████████| 455/455 [00:30<00:00, 14.71it/s]\n"
     ]
    },
    {
     "name": "stdout",
     "output_type": "stream",
     "text": [
      "Epoch 430/512: Train Loss = 0.15921, Validation Loss = 0.27368, Train Accuracy = 0.86016, Validation Accuracy = 0.80657\n"
     ]
    },
    {
     "name": "stderr",
     "output_type": "stream",
     "text": [
      "Epoch 431/512: 100%|████████████████████████████████████████████████████████████████████████████| 455/455 [00:30<00:00, 14.71it/s]\n"
     ]
    },
    {
     "name": "stdout",
     "output_type": "stream",
     "text": [
      "Epoch 431/512: Train Loss = 0.15836, Validation Loss = 0.25399, Train Accuracy = 0.86049, Validation Accuracy = 0.81661\n"
     ]
    },
    {
     "name": "stderr",
     "output_type": "stream",
     "text": [
      "Epoch 432/512: 100%|████████████████████████████████████████████████████████████████████████████| 455/455 [00:30<00:00, 14.72it/s]\n"
     ]
    },
    {
     "name": "stdout",
     "output_type": "stream",
     "text": [
      "Epoch 432/512: Train Loss = 0.16074, Validation Loss = 0.28753, Train Accuracy = 0.85820, Validation Accuracy = 0.80011\n"
     ]
    },
    {
     "name": "stderr",
     "output_type": "stream",
     "text": [
      "Epoch 433/512: 100%|████████████████████████████████████████████████████████████████████████████| 455/455 [00:30<00:00, 14.70it/s]\n"
     ]
    },
    {
     "name": "stdout",
     "output_type": "stream",
     "text": [
      "Epoch 433/512: Train Loss = 0.16007, Validation Loss = 0.28193, Train Accuracy = 0.85844, Validation Accuracy = 0.79764\n"
     ]
    },
    {
     "name": "stderr",
     "output_type": "stream",
     "text": [
      "Epoch 434/512: 100%|████████████████████████████████████████████████████████████████████████████| 455/455 [00:30<00:00, 14.69it/s]\n"
     ]
    },
    {
     "name": "stdout",
     "output_type": "stream",
     "text": [
      "Epoch 434/512: Train Loss = 0.15913, Validation Loss = 0.26353, Train Accuracy = 0.86109, Validation Accuracy = 0.81290\n"
     ]
    },
    {
     "name": "stderr",
     "output_type": "stream",
     "text": [
      "Epoch 435/512: 100%|████████████████████████████████████████████████████████████████████████████| 455/455 [00:30<00:00, 14.71it/s]\n"
     ]
    },
    {
     "name": "stdout",
     "output_type": "stream",
     "text": [
      "Epoch 435/512: Train Loss = 0.15863, Validation Loss = 0.27441, Train Accuracy = 0.85764, Validation Accuracy = 0.80698\n"
     ]
    },
    {
     "name": "stderr",
     "output_type": "stream",
     "text": [
      "Epoch 436/512: 100%|████████████████████████████████████████████████████████████████████████████| 455/455 [00:30<00:00, 14.73it/s]\n"
     ]
    },
    {
     "name": "stdout",
     "output_type": "stream",
     "text": [
      "Epoch 436/512: Train Loss = 0.15916, Validation Loss = 0.26524, Train Accuracy = 0.85874, Validation Accuracy = 0.80685\n"
     ]
    },
    {
     "name": "stderr",
     "output_type": "stream",
     "text": [
      "Epoch 437/512: 100%|████████████████████████████████████████████████████████████████████████████| 455/455 [00:30<00:00, 14.69it/s]\n"
     ]
    },
    {
     "name": "stdout",
     "output_type": "stream",
     "text": [
      "Epoch 437/512: Train Loss = 0.15892, Validation Loss = 0.24778, Train Accuracy = 0.85934, Validation Accuracy = 0.82197\n"
     ]
    },
    {
     "name": "stderr",
     "output_type": "stream",
     "text": [
      "Epoch 438/512: 100%|████████████████████████████████████████████████████████████████████████████| 455/455 [00:30<00:00, 14.68it/s]\n"
     ]
    },
    {
     "name": "stdout",
     "output_type": "stream",
     "text": [
      "Epoch 438/512: Train Loss = 0.15741, Validation Loss = 0.25554, Train Accuracy = 0.86169, Validation Accuracy = 0.81839\n"
     ]
    },
    {
     "name": "stderr",
     "output_type": "stream",
     "text": [
      "Epoch 439/512: 100%|████████████████████████████████████████████████████████████████████████████| 455/455 [00:30<00:00, 14.70it/s]\n"
     ]
    },
    {
     "name": "stdout",
     "output_type": "stream",
     "text": [
      "Epoch 439/512: Train Loss = 0.15848, Validation Loss = 0.25512, Train Accuracy = 0.86037, Validation Accuracy = 0.81372\n"
     ]
    },
    {
     "name": "stderr",
     "output_type": "stream",
     "text": [
      "Epoch 440/512: 100%|████████████████████████████████████████████████████████████████████████████| 455/455 [00:30<00:00, 14.70it/s]\n"
     ]
    },
    {
     "name": "stdout",
     "output_type": "stream",
     "text": [
      "Epoch 440/512: Train Loss = 0.15916, Validation Loss = 0.28149, Train Accuracy = 0.86006, Validation Accuracy = 0.80025\n"
     ]
    },
    {
     "name": "stderr",
     "output_type": "stream",
     "text": [
      "Epoch 441/512: 100%|████████████████████████████████████████████████████████████████████████████| 455/455 [00:30<00:00, 14.72it/s]\n"
     ]
    },
    {
     "name": "stdout",
     "output_type": "stream",
     "text": [
      "Epoch 441/512: Train Loss = 0.15869, Validation Loss = 0.24633, Train Accuracy = 0.85865, Validation Accuracy = 0.81716\n"
     ]
    },
    {
     "name": "stderr",
     "output_type": "stream",
     "text": [
      "Epoch 442/512: 100%|████████████████████████████████████████████████████████████████████████████| 455/455 [00:30<00:00, 14.71it/s]\n"
     ]
    },
    {
     "name": "stdout",
     "output_type": "stream",
     "text": [
      "Epoch 442/512: Train Loss = 0.15802, Validation Loss = 0.24346, Train Accuracy = 0.85977, Validation Accuracy = 0.82334\n"
     ]
    },
    {
     "name": "stderr",
     "output_type": "stream",
     "text": [
      "Epoch 443/512: 100%|████████████████████████████████████████████████████████████████████████████| 455/455 [00:30<00:00, 14.72it/s]\n"
     ]
    },
    {
     "name": "stdout",
     "output_type": "stream",
     "text": [
      "Epoch 443/512: Train Loss = 0.15900, Validation Loss = 0.26693, Train Accuracy = 0.85896, Validation Accuracy = 0.81138\n"
     ]
    },
    {
     "name": "stderr",
     "output_type": "stream",
     "text": [
      "Epoch 444/512: 100%|████████████████████████████████████████████████████████████████████████████| 455/455 [00:30<00:00, 14.69it/s]\n"
     ]
    },
    {
     "name": "stdout",
     "output_type": "stream",
     "text": [
      "Epoch 444/512: Train Loss = 0.15963, Validation Loss = 0.25790, Train Accuracy = 0.85815, Validation Accuracy = 0.82114\n"
     ]
    },
    {
     "name": "stderr",
     "output_type": "stream",
     "text": [
      "Epoch 445/512: 100%|████████████████████████████████████████████████████████████████████████████| 455/455 [00:30<00:00, 14.69it/s]\n"
     ]
    },
    {
     "name": "stdout",
     "output_type": "stream",
     "text": [
      "Epoch 445/512: Train Loss = 0.15728, Validation Loss = 0.26727, Train Accuracy = 0.86131, Validation Accuracy = 0.81207\n"
     ]
    },
    {
     "name": "stderr",
     "output_type": "stream",
     "text": [
      "Epoch 446/512: 100%|████████████████████████████████████████████████████████████████████████████| 455/455 [00:30<00:00, 14.71it/s]\n"
     ]
    },
    {
     "name": "stdout",
     "output_type": "stream",
     "text": [
      "Epoch 446/512: Train Loss = 0.15750, Validation Loss = 0.24861, Train Accuracy = 0.86171, Validation Accuracy = 0.81606\n"
     ]
    },
    {
     "name": "stderr",
     "output_type": "stream",
     "text": [
      "Epoch 447/512: 100%|████████████████████████████████████████████████████████████████████████████| 455/455 [00:30<00:00, 14.71it/s]\n"
     ]
    },
    {
     "name": "stdout",
     "output_type": "stream",
     "text": [
      "Epoch 447/512: Train Loss = 0.15775, Validation Loss = 0.25048, Train Accuracy = 0.86037, Validation Accuracy = 0.81977\n"
     ]
    },
    {
     "name": "stderr",
     "output_type": "stream",
     "text": [
      "Epoch 448/512: 100%|████████████████████████████████████████████████████████████████████████████| 455/455 [00:46<00:00,  9.81it/s]\n"
     ]
    },
    {
     "name": "stdout",
     "output_type": "stream",
     "text": [
      "Epoch 448/512: Train Loss = 0.15595, Validation Loss = 0.27217, Train Accuracy = 0.86259, Validation Accuracy = 0.80533\n"
     ]
    },
    {
     "name": "stderr",
     "output_type": "stream",
     "text": [
      "Epoch 449/512: 100%|████████████████████████████████████████████████████████████████████████████| 455/455 [00:47<00:00,  9.49it/s]\n"
     ]
    },
    {
     "name": "stdout",
     "output_type": "stream",
     "text": [
      "Epoch 449/512: Train Loss = 0.15877, Validation Loss = 0.25714, Train Accuracy = 0.86001, Validation Accuracy = 0.81523\n"
     ]
    },
    {
     "name": "stderr",
     "output_type": "stream",
     "text": [
      "Epoch 450/512: 100%|████████████████████████████████████████████████████████████████████████████| 455/455 [00:48<00:00,  9.46it/s]\n"
     ]
    },
    {
     "name": "stdout",
     "output_type": "stream",
     "text": [
      "Epoch 450/512: Train Loss = 0.15722, Validation Loss = 0.26917, Train Accuracy = 0.86090, Validation Accuracy = 0.80753\n"
     ]
    },
    {
     "name": "stderr",
     "output_type": "stream",
     "text": [
      "Epoch 451/512: 100%|████████████████████████████████████████████████████████████████████████████| 455/455 [00:49<00:00,  9.10it/s]\n"
     ]
    },
    {
     "name": "stdout",
     "output_type": "stream",
     "text": [
      "Epoch 451/512: Train Loss = 0.15681, Validation Loss = 0.26853, Train Accuracy = 0.86142, Validation Accuracy = 0.81290\n"
     ]
    },
    {
     "name": "stderr",
     "output_type": "stream",
     "text": [
      "Epoch 452/512: 100%|████████████████████████████████████████████████████████████████████████████| 455/455 [00:42<00:00, 10.64it/s]\n"
     ]
    },
    {
     "name": "stdout",
     "output_type": "stream",
     "text": [
      "Epoch 452/512: Train Loss = 0.15757, Validation Loss = 0.27456, Train Accuracy = 0.86023, Validation Accuracy = 0.80685\n"
     ]
    },
    {
     "name": "stderr",
     "output_type": "stream",
     "text": [
      "Epoch 453/512: 100%|████████████████████████████████████████████████████████████████████████████| 455/455 [00:47<00:00,  9.66it/s]\n"
     ]
    },
    {
     "name": "stdout",
     "output_type": "stream",
     "text": [
      "Epoch 453/512: Train Loss = 0.15642, Validation Loss = 0.25202, Train Accuracy = 0.85992, Validation Accuracy = 0.82211\n"
     ]
    },
    {
     "name": "stderr",
     "output_type": "stream",
     "text": [
      "Epoch 454/512: 100%|████████████████████████████████████████████████████████████████████████████| 455/455 [00:45<00:00,  9.94it/s]\n"
     ]
    },
    {
     "name": "stdout",
     "output_type": "stream",
     "text": [
      "Epoch 454/512: Train Loss = 0.15576, Validation Loss = 0.24556, Train Accuracy = 0.86183, Validation Accuracy = 0.81991\n"
     ]
    },
    {
     "name": "stderr",
     "output_type": "stream",
     "text": [
      "Epoch 455/512: 100%|████████████████████████████████████████████████████████████████████████████| 455/455 [00:47<00:00,  9.66it/s]\n"
     ]
    },
    {
     "name": "stdout",
     "output_type": "stream",
     "text": [
      "Epoch 455/512: Train Loss = 0.15661, Validation Loss = 0.26707, Train Accuracy = 0.86125, Validation Accuracy = 0.80877\n"
     ]
    },
    {
     "name": "stderr",
     "output_type": "stream",
     "text": [
      "Epoch 456/512:  23%|█████████████████▌                                                          | 105/455 [00:12<00:36,  9.47it/s]"
     ]
    }
   ],
   "source": [
    "import argparse\n",
    "\n",
    "training_args = argparse.Namespace(**args)\n",
    "train_model(training_args, device)"
   ]
  },
  {
   "cell_type": "code",
   "execution_count": null,
   "metadata": {},
   "outputs": [],
   "source": []
  }
 ],
 "metadata": {
  "kernelspec": {
   "display_name": "Python (myenv)",
   "language": "python",
   "name": "myenv"
  },
  "language_info": {
   "codemirror_mode": {
    "name": "ipython",
    "version": 3
   },
   "file_extension": ".py",
   "mimetype": "text/x-python",
   "name": "python",
   "nbconvert_exporter": "python",
   "pygments_lexer": "ipython3",
   "version": "3.12.7"
  }
 },
 "nbformat": 4,
 "nbformat_minor": 4
}
