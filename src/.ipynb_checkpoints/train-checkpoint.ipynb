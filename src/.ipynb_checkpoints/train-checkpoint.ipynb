{
 "cells": [
  {
   "cell_type": "code",
   "execution_count": 1,
   "metadata": {},
   "outputs": [
    {
     "name": "stdout",
     "output_type": "stream",
     "text": [
      "Using device: cpu\n"
     ]
    }
   ],
   "source": [
    "import torch\n",
    "\n",
    "# Local imports\n",
    "from train import train_model"
   ]
  },
  {
   "cell_type": "code",
   "execution_count": 2,
   "metadata": {},
   "outputs": [
    {
     "name": "stdout",
     "output_type": "stream",
     "text": [
      "Using device: cuda:0\n"
     ]
    }
   ],
   "source": [
    "if torch.backends.mps.is_available():\n",
    "    device = torch.device(\"mps\")\n",
    "elif torch.cuda.is_available():\n",
    "    device = torch.device(\"cuda:0\")\n",
    "else:\n",
    "    device = torch.device(\"cpu\")\n",
    "\n",
    "print(f\"Using device: {device}\")"
   ]
  },
  {
   "cell_type": "code",
   "execution_count": 3,
   "metadata": {},
   "outputs": [],
   "source": [
    "args = {\n",
    "    \"use_small_dataset\": True,\n",
    "    \"batch_size\": 64,\n",
    "    \"stoppage_epochs\": 128,\n",
    "    \"max_epochs\": 512,\n",
    "    \"seed\": 42,\n",
    "    \"data_path\": \"../data\",\n",
    "    \"frac_train\": 0.8,\n",
    "    \"frac_validation\": 0.1,\n",
    "    \"frac_test\": 0.1,\n",
    "    \"huber_beta\": 0.5,\n",
    "    \"weight_decay\": 1e-3,\n",
    "    \"lr\": 3e-4,\n",
    "    \"scheduler_patience\": 10,\n",
    "    \"scheduler_factor\": 0.5,\n",
    "    \"hidden_size\": 96,\n",
    "    \"num_layers\": 7,\n",
    "    \"num_attn_heads\": 6,\n",
    "    \"dropout\": 0.2,\n",
    "    \"pooling_dropout\": 0.0,\n",
    "    \"pooling_dim\": 96,\n",
    "}"
   ]
  },
  {
   "cell_type": "code",
   "execution_count": 4,
   "metadata": {},
   "outputs": [
    {
     "name": "stdout",
     "output_type": "stream",
     "text": [
      "Model parameters: 391199\n"
     ]
    },
    {
     "name": "stderr",
     "output_type": "stream",
     "text": [
      "Epoch 1/512: 100%|████████████████████████████████████████████████████████████████████████| 63/63 [00:11<00:00,  5.50it/s]\n"
     ]
    },
    {
     "name": "stdout",
     "output_type": "stream",
     "text": [
      "Epoch 1/512: \n",
      "Train Loss = 0.78400, Train MSE = 1.54135, Train MAE = 1.01003, Train Acc = 0.56399\n",
      "Val Loss = 0.71898, Val MSE = 1.33737, Val MAE = 0.94707, Val Acc = 0.60159\n"
     ]
    },
    {
     "name": "stderr",
     "output_type": "stream",
     "text": [
      "Epoch 2/512: 100%|████████████████████████████████████████████████████████████████████████| 63/63 [00:04<00:00, 13.17it/s]\n"
     ]
    },
    {
     "name": "stdout",
     "output_type": "stream",
     "text": [
      "Epoch 2/512: \n",
      "Train Loss = 0.71430, Train MSE = 1.33115, Train MAE = 0.93747, Train Acc = 0.59512\n",
      "Val Loss = 0.69612, Val MSE = 1.28488, Val MAE = 0.91949, Val Acc = 0.59363\n"
     ]
    },
    {
     "name": "stderr",
     "output_type": "stream",
     "text": [
      "Epoch 3/512: 100%|████████████████████████████████████████████████████████████████████████| 63/63 [00:04<00:00, 13.16it/s]\n"
     ]
    },
    {
     "name": "stdout",
     "output_type": "stream",
     "text": [
      "Epoch 3/512: \n",
      "Train Loss = 0.71216, Train MSE = 1.32509, Train MAE = 0.93399, Train Acc = 0.59188\n",
      "Val Loss = 0.70180, Val MSE = 1.31290, Val MAE = 0.92269, Val Acc = 0.62151\n"
     ]
    },
    {
     "name": "stderr",
     "output_type": "stream",
     "text": [
      "Epoch 4/512: 100%|████████████████████████████████████████████████████████████████████████| 63/63 [00:04<00:00, 13.05it/s]\n"
     ]
    },
    {
     "name": "stdout",
     "output_type": "stream",
     "text": [
      "Epoch 4/512: \n",
      "Train Loss = 0.70462, Train MSE = 1.31877, Train MAE = 0.92793, Train Acc = 0.60832\n",
      "Val Loss = 0.70446, Val MSE = 1.31550, Val MAE = 0.92943, Val Acc = 0.59761\n"
     ]
    },
    {
     "name": "stderr",
     "output_type": "stream",
     "text": [
      "Epoch 5/512: 100%|████████████████████████████████████████████████████████████████████████| 63/63 [00:04<00:00, 13.07it/s]\n"
     ]
    },
    {
     "name": "stdout",
     "output_type": "stream",
     "text": [
      "Epoch 5/512: \n",
      "Train Loss = 0.69630, Train MSE = 1.30412, Train MAE = 0.91671, Train Acc = 0.60632\n",
      "Val Loss = 0.71247, Val MSE = 1.37809, Val MAE = 0.93252, Val Acc = 0.61952\n"
     ]
    },
    {
     "name": "stderr",
     "output_type": "stream",
     "text": [
      "Epoch 6/512: 100%|████████████████████████████████████████████████████████████████████████| 63/63 [00:04<00:00, 13.02it/s]\n"
     ]
    },
    {
     "name": "stdout",
     "output_type": "stream",
     "text": [
      "Epoch 6/512: \n",
      "Train Loss = 0.70776, Train MSE = 1.32717, Train MAE = 0.93063, Train Acc = 0.60259\n",
      "Val Loss = 0.71958, Val MSE = 1.37598, Val MAE = 0.93987, Val Acc = 0.61753\n"
     ]
    },
    {
     "name": "stderr",
     "output_type": "stream",
     "text": [
      "Epoch 7/512: 100%|████████████████████████████████████████████████████████████████████████| 63/63 [00:04<00:00, 13.00it/s]\n"
     ]
    },
    {
     "name": "stdout",
     "output_type": "stream",
     "text": [
      "Epoch 7/512: \n",
      "Train Loss = 0.69974, Train MSE = 1.29527, Train MAE = 0.92314, Train Acc = 0.60533\n",
      "Val Loss = 0.71132, Val MSE = 1.35166, Val MAE = 0.93296, Val Acc = 0.62351\n"
     ]
    },
    {
     "name": "stderr",
     "output_type": "stream",
     "text": [
      "Epoch 8/512: 100%|████████████████████████████████████████████████████████████████████████| 63/63 [00:04<00:00, 13.04it/s]\n"
     ]
    },
    {
     "name": "stdout",
     "output_type": "stream",
     "text": [
      "Epoch 8/512: \n",
      "Train Loss = 0.69538, Train MSE = 1.27783, Train MAE = 0.91938, Train Acc = 0.61130\n",
      "Val Loss = 0.69223, Val MSE = 1.31838, Val MAE = 0.91028, Val Acc = 0.62151\n"
     ]
    },
    {
     "name": "stderr",
     "output_type": "stream",
     "text": [
      "Epoch 9/512: 100%|████████████████████████████████████████████████████████████████████████| 63/63 [00:04<00:00, 12.99it/s]\n"
     ]
    },
    {
     "name": "stdout",
     "output_type": "stream",
     "text": [
      "Epoch 9/512: \n",
      "Train Loss = 0.68850, Train MSE = 1.28051, Train MAE = 0.91040, Train Acc = 0.62201\n",
      "Val Loss = 0.69046, Val MSE = 1.30040, Val MAE = 0.91049, Val Acc = 0.61952\n"
     ]
    },
    {
     "name": "stderr",
     "output_type": "stream",
     "text": [
      "Epoch 10/512: 100%|███████████████████████████████████████████████████████████████████████| 63/63 [00:04<00:00, 13.06it/s]\n"
     ]
    },
    {
     "name": "stdout",
     "output_type": "stream",
     "text": [
      "Epoch 10/512: \n",
      "Train Loss = 0.67890, Train MSE = 1.25518, Train MAE = 0.90118, Train Acc = 0.62201\n",
      "Val Loss = 0.67984, Val MSE = 1.27421, Val MAE = 0.90161, Val Acc = 0.62948\n"
     ]
    },
    {
     "name": "stderr",
     "output_type": "stream",
     "text": [
      "Epoch 11/512: 100%|███████████████████████████████████████████████████████████████████████| 63/63 [00:04<00:00, 13.06it/s]\n"
     ]
    },
    {
     "name": "stdout",
     "output_type": "stream",
     "text": [
      "Epoch 11/512: \n",
      "Train Loss = 0.68966, Train MSE = 1.28123, Train MAE = 0.91249, Train Acc = 0.61205\n",
      "Val Loss = 0.68388, Val MSE = 1.26504, Val MAE = 0.90758, Val Acc = 0.61355\n"
     ]
    },
    {
     "name": "stderr",
     "output_type": "stream",
     "text": [
      "Epoch 12/512: 100%|███████████████████████████████████████████████████████████████████████| 63/63 [00:04<00:00, 13.01it/s]\n"
     ]
    },
    {
     "name": "stdout",
     "output_type": "stream",
     "text": [
      "Epoch 12/512: \n",
      "Train Loss = 0.69378, Train MSE = 1.28867, Train MAE = 0.91472, Train Acc = 0.61280\n",
      "Val Loss = 0.68739, Val MSE = 1.27214, Val MAE = 0.91103, Val Acc = 0.60159\n"
     ]
    },
    {
     "name": "stderr",
     "output_type": "stream",
     "text": [
      "Epoch 13/512: 100%|███████████████████████████████████████████████████████████████████████| 63/63 [00:04<00:00, 13.00it/s]\n"
     ]
    },
    {
     "name": "stdout",
     "output_type": "stream",
     "text": [
      "Epoch 13/512: \n",
      "Train Loss = 0.68807, Train MSE = 1.26123, Train MAE = 0.91149, Train Acc = 0.61106\n",
      "Val Loss = 0.68189, Val MSE = 1.27948, Val MAE = 0.90197, Val Acc = 0.62749\n"
     ]
    },
    {
     "name": "stderr",
     "output_type": "stream",
     "text": [
      "Epoch 14/512: 100%|███████████████████████████████████████████████████████████████████████| 63/63 [00:04<00:00, 13.00it/s]\n"
     ]
    },
    {
     "name": "stdout",
     "output_type": "stream",
     "text": [
      "Epoch 14/512: \n",
      "Train Loss = 0.68868, Train MSE = 1.28129, Train MAE = 0.91063, Train Acc = 0.62027\n",
      "Val Loss = 0.67771, Val MSE = 1.25180, Val MAE = 0.89851, Val Acc = 0.62151\n"
     ]
    },
    {
     "name": "stderr",
     "output_type": "stream",
     "text": [
      "Epoch 15/512: 100%|███████████████████████████████████████████████████████████████████████| 63/63 [00:04<00:00, 12.98it/s]\n"
     ]
    },
    {
     "name": "stdout",
     "output_type": "stream",
     "text": [
      "Epoch 15/512: \n",
      "Train Loss = 0.68781, Train MSE = 1.27729, Train MAE = 0.91004, Train Acc = 0.61753\n",
      "Val Loss = 0.68552, Val MSE = 1.27622, Val MAE = 0.90547, Val Acc = 0.61554\n"
     ]
    },
    {
     "name": "stderr",
     "output_type": "stream",
     "text": [
      "Epoch 16/512: 100%|███████████████████████████████████████████████████████████████████████| 63/63 [00:04<00:00, 13.00it/s]\n"
     ]
    },
    {
     "name": "stdout",
     "output_type": "stream",
     "text": [
      "Epoch 16/512: \n",
      "Train Loss = 0.68149, Train MSE = 1.25635, Train MAE = 0.90313, Train Acc = 0.61130\n",
      "Val Loss = 0.67937, Val MSE = 1.26165, Val MAE = 0.90160, Val Acc = 0.62151\n"
     ]
    },
    {
     "name": "stderr",
     "output_type": "stream",
     "text": [
      "Epoch 17/512: 100%|███████████████████████████████████████████████████████████████████████| 63/63 [00:04<00:00, 12.98it/s]\n"
     ]
    },
    {
     "name": "stdout",
     "output_type": "stream",
     "text": [
      "Epoch 17/512: \n",
      "Train Loss = 0.69881, Train MSE = 1.30778, Train MAE = 0.92178, Train Acc = 0.61230\n",
      "Val Loss = 0.70600, Val MSE = 1.30195, Val MAE = 0.93196, Val Acc = 0.60359\n"
     ]
    },
    {
     "name": "stderr",
     "output_type": "stream",
     "text": [
      "Epoch 18/512: 100%|███████████████████████████████████████████████████████████████████████| 63/63 [00:04<00:00, 12.99it/s]\n"
     ]
    },
    {
     "name": "stdout",
     "output_type": "stream",
     "text": [
      "Epoch 18/512: \n",
      "Train Loss = 0.68518, Train MSE = 1.26835, Train MAE = 0.90724, Train Acc = 0.61355\n",
      "Val Loss = 0.67702, Val MSE = 1.25076, Val MAE = 0.90024, Val Acc = 0.62151\n"
     ]
    },
    {
     "name": "stderr",
     "output_type": "stream",
     "text": [
      "Epoch 19/512: 100%|███████████████████████████████████████████████████████████████████████| 63/63 [00:04<00:00, 13.02it/s]\n"
     ]
    },
    {
     "name": "stdout",
     "output_type": "stream",
     "text": [
      "Epoch 19/512: \n",
      "Train Loss = 0.68366, Train MSE = 1.26439, Train MAE = 0.90415, Train Acc = 0.61703\n",
      "Val Loss = 0.68373, Val MSE = 1.28835, Val MAE = 0.90133, Val Acc = 0.61753\n"
     ]
    },
    {
     "name": "stderr",
     "output_type": "stream",
     "text": [
      "Epoch 20/512: 100%|███████████████████████████████████████████████████████████████████████| 63/63 [00:04<00:00, 12.98it/s]\n"
     ]
    },
    {
     "name": "stdout",
     "output_type": "stream",
     "text": [
      "Epoch 20/512: \n",
      "Train Loss = 0.68078, Train MSE = 1.24579, Train MAE = 0.90280, Train Acc = 0.61330\n",
      "Val Loss = 0.68748, Val MSE = 1.27016, Val MAE = 0.90858, Val Acc = 0.61155\n"
     ]
    },
    {
     "name": "stderr",
     "output_type": "stream",
     "text": [
      "Epoch 21/512: 100%|███████████████████████████████████████████████████████████████████████| 63/63 [00:04<00:00, 12.99it/s]\n"
     ]
    },
    {
     "name": "stdout",
     "output_type": "stream",
     "text": [
      "Epoch 21/512: \n",
      "Train Loss = 0.68701, Train MSE = 1.26912, Train MAE = 0.90847, Train Acc = 0.61230\n",
      "Val Loss = 0.68133, Val MSE = 1.24953, Val MAE = 0.90416, Val Acc = 0.60757\n"
     ]
    },
    {
     "name": "stderr",
     "output_type": "stream",
     "text": [
      "Epoch 22/512: 100%|███████████████████████████████████████████████████████████████████████| 63/63 [00:04<00:00, 12.97it/s]\n"
     ]
    },
    {
     "name": "stdout",
     "output_type": "stream",
     "text": [
      "Epoch 22/512: \n",
      "Train Loss = 0.67758, Train MSE = 1.25108, Train MAE = 0.89883, Train Acc = 0.62326\n",
      "Val Loss = 0.67979, Val MSE = 1.27545, Val MAE = 0.89956, Val Acc = 0.62351\n"
     ]
    },
    {
     "name": "stderr",
     "output_type": "stream",
     "text": [
      "Epoch 23/512: 100%|███████████████████████████████████████████████████████████████████████| 63/63 [00:04<00:00, 13.01it/s]\n"
     ]
    },
    {
     "name": "stdout",
     "output_type": "stream",
     "text": [
      "Epoch 23/512: \n",
      "Train Loss = 0.68141, Train MSE = 1.26010, Train MAE = 0.90341, Train Acc = 0.62375\n",
      "Val Loss = 0.67864, Val MSE = 1.27177, Val MAE = 0.89791, Val Acc = 0.62351\n"
     ]
    },
    {
     "name": "stderr",
     "output_type": "stream",
     "text": [
      "Epoch 24/512: 100%|███████████████████████████████████████████████████████████████████████| 63/63 [00:04<00:00, 12.96it/s]\n"
     ]
    },
    {
     "name": "stdout",
     "output_type": "stream",
     "text": [
      "Epoch 24/512: \n",
      "Train Loss = 0.66982, Train MSE = 1.22650, Train MAE = 0.89009, Train Acc = 0.62176\n",
      "Val Loss = 0.66941, Val MSE = 1.24457, Val MAE = 0.89029, Val Acc = 0.62351\n"
     ]
    },
    {
     "name": "stderr",
     "output_type": "stream",
     "text": [
      "Epoch 25/512: 100%|███████████████████████████████████████████████████████████████████████| 63/63 [00:04<00:00, 13.02it/s]\n"
     ]
    },
    {
     "name": "stdout",
     "output_type": "stream",
     "text": [
      "Epoch 25/512: \n",
      "Train Loss = 0.68106, Train MSE = 1.25448, Train MAE = 0.90239, Train Acc = 0.62226\n",
      "Val Loss = 0.67295, Val MSE = 1.25490, Val MAE = 0.89358, Val Acc = 0.62550\n"
     ]
    },
    {
     "name": "stderr",
     "output_type": "stream",
     "text": [
      "Epoch 26/512: 100%|███████████████████████████████████████████████████████████████████████| 63/63 [00:04<00:00, 12.95it/s]\n"
     ]
    },
    {
     "name": "stdout",
     "output_type": "stream",
     "text": [
      "Epoch 26/512: \n",
      "Train Loss = 0.67570, Train MSE = 1.25175, Train MAE = 0.89632, Train Acc = 0.62301\n",
      "Val Loss = 0.69697, Val MSE = 1.34642, Val MAE = 0.91635, Val Acc = 0.61952\n"
     ]
    },
    {
     "name": "stderr",
     "output_type": "stream",
     "text": [
      "Epoch 27/512: 100%|███████████████████████████████████████████████████████████████████████| 63/63 [00:04<00:00, 13.03it/s]\n"
     ]
    },
    {
     "name": "stdout",
     "output_type": "stream",
     "text": [
      "Epoch 27/512: \n",
      "Train Loss = 0.68021, Train MSE = 1.25234, Train MAE = 0.90200, Train Acc = 0.62151\n",
      "Val Loss = 0.67161, Val MSE = 1.24986, Val MAE = 0.89198, Val Acc = 0.62550\n"
     ]
    },
    {
     "name": "stderr",
     "output_type": "stream",
     "text": [
      "Epoch 28/512: 100%|███████████████████████████████████████████████████████████████████████| 63/63 [00:04<00:00, 12.98it/s]\n"
     ]
    },
    {
     "name": "stdout",
     "output_type": "stream",
     "text": [
      "Epoch 28/512: \n",
      "Train Loss = 0.67436, Train MSE = 1.24454, Train MAE = 0.89415, Train Acc = 0.62251\n",
      "Val Loss = 0.66231, Val MSE = 1.21997, Val MAE = 0.88362, Val Acc = 0.63546\n"
     ]
    },
    {
     "name": "stderr",
     "output_type": "stream",
     "text": [
      "Epoch 29/512: 100%|███████████████████████████████████████████████████████████████████████| 63/63 [00:04<00:00, 12.95it/s]\n"
     ]
    },
    {
     "name": "stdout",
     "output_type": "stream",
     "text": [
      "Epoch 29/512: \n",
      "Train Loss = 0.67430, Train MSE = 1.23477, Train MAE = 0.89578, Train Acc = 0.62351\n",
      "Val Loss = 0.67027, Val MSE = 1.22920, Val MAE = 0.89366, Val Acc = 0.63147\n"
     ]
    },
    {
     "name": "stderr",
     "output_type": "stream",
     "text": [
      "Epoch 30/512: 100%|███████████████████████████████████████████████████████████████████████| 63/63 [00:04<00:00, 12.91it/s]\n"
     ]
    },
    {
     "name": "stdout",
     "output_type": "stream",
     "text": [
      "Epoch 30/512: \n",
      "Train Loss = 0.67465, Train MSE = 1.24230, Train MAE = 0.89551, Train Acc = 0.62375\n",
      "Val Loss = 0.67291, Val MSE = 1.24780, Val MAE = 0.89401, Val Acc = 0.61753\n"
     ]
    },
    {
     "name": "stderr",
     "output_type": "stream",
     "text": [
      "Epoch 31/512: 100%|███████████████████████████████████████████████████████████████████████| 63/63 [00:04<00:00, 13.01it/s]\n"
     ]
    },
    {
     "name": "stdout",
     "output_type": "stream",
     "text": [
      "Epoch 31/512: \n",
      "Train Loss = 0.67414, Train MSE = 1.23809, Train MAE = 0.89575, Train Acc = 0.62077\n",
      "Val Loss = 0.65983, Val MSE = 1.21380, Val MAE = 0.88077, Val Acc = 0.64143\n"
     ]
    },
    {
     "name": "stderr",
     "output_type": "stream",
     "text": [
      "Epoch 32/512: 100%|███████████████████████████████████████████████████████████████████████| 63/63 [00:04<00:00, 13.00it/s]\n"
     ]
    },
    {
     "name": "stdout",
     "output_type": "stream",
     "text": [
      "Epoch 32/512: \n",
      "Train Loss = 0.68113, Train MSE = 1.25455, Train MAE = 0.90239, Train Acc = 0.61230\n",
      "Val Loss = 0.66088, Val MSE = 1.23006, Val MAE = 0.88017, Val Acc = 0.62948\n"
     ]
    },
    {
     "name": "stderr",
     "output_type": "stream",
     "text": [
      "Epoch 33/512: 100%|███████████████████████████████████████████████████████████████████████| 63/63 [00:04<00:00, 12.96it/s]\n"
     ]
    },
    {
     "name": "stdout",
     "output_type": "stream",
     "text": [
      "Epoch 33/512: \n",
      "Train Loss = 0.66995, Train MSE = 1.22408, Train MAE = 0.89157, Train Acc = 0.62276\n",
      "Val Loss = 0.66702, Val MSE = 1.25790, Val MAE = 0.88648, Val Acc = 0.63147\n"
     ]
    },
    {
     "name": "stderr",
     "output_type": "stream",
     "text": [
      "Epoch 34/512: 100%|███████████████████████████████████████████████████████████████████████| 63/63 [00:04<00:00, 12.98it/s]\n"
     ]
    },
    {
     "name": "stdout",
     "output_type": "stream",
     "text": [
      "Epoch 34/512: \n",
      "Train Loss = 0.66788, Train MSE = 1.23102, Train MAE = 0.88984, Train Acc = 0.62799\n",
      "Val Loss = 0.65252, Val MSE = 1.22025, Val MAE = 0.87240, Val Acc = 0.64741\n"
     ]
    },
    {
     "name": "stderr",
     "output_type": "stream",
     "text": [
      "Epoch 35/512: 100%|███████████████████████████████████████████████████████████████████████| 63/63 [00:04<00:00, 12.96it/s]\n"
     ]
    },
    {
     "name": "stdout",
     "output_type": "stream",
     "text": [
      "Epoch 35/512: \n",
      "Train Loss = 0.67488, Train MSE = 1.23912, Train MAE = 0.89569, Train Acc = 0.62351\n",
      "Val Loss = 0.67429, Val MSE = 1.29358, Val MAE = 0.89084, Val Acc = 0.63347\n"
     ]
    },
    {
     "name": "stderr",
     "output_type": "stream",
     "text": [
      "Epoch 36/512: 100%|███████████████████████████████████████████████████████████████████████| 63/63 [00:04<00:00, 12.93it/s]\n"
     ]
    },
    {
     "name": "stdout",
     "output_type": "stream",
     "text": [
      "Epoch 36/512: \n",
      "Train Loss = 0.66507, Train MSE = 1.22489, Train MAE = 0.88597, Train Acc = 0.63247\n",
      "Val Loss = 0.64889, Val MSE = 1.19785, Val MAE = 0.86753, Val Acc = 0.63546\n"
     ]
    },
    {
     "name": "stderr",
     "output_type": "stream",
     "text": [
      "Epoch 37/512: 100%|███████████████████████████████████████████████████████████████████████| 63/63 [00:04<00:00, 12.98it/s]\n"
     ]
    },
    {
     "name": "stdout",
     "output_type": "stream",
     "text": [
      "Epoch 37/512: \n",
      "Train Loss = 0.65289, Train MSE = 1.20504, Train MAE = 0.87189, Train Acc = 0.64368\n",
      "Val Loss = 0.65564, Val MSE = 1.23807, Val MAE = 0.87407, Val Acc = 0.65538\n"
     ]
    },
    {
     "name": "stderr",
     "output_type": "stream",
     "text": [
      "Epoch 38/512: 100%|███████████████████████████████████████████████████████████████████████| 63/63 [00:04<00:00, 12.97it/s]\n"
     ]
    },
    {
     "name": "stdout",
     "output_type": "stream",
     "text": [
      "Epoch 38/512: \n",
      "Train Loss = 0.66089, Train MSE = 1.21950, Train MAE = 0.88138, Train Acc = 0.63222\n",
      "Val Loss = 0.67043, Val MSE = 1.29398, Val MAE = 0.88790, Val Acc = 0.65538\n"
     ]
    },
    {
     "name": "stderr",
     "output_type": "stream",
     "text": [
      "Epoch 39/512: 100%|███████████████████████████████████████████████████████████████████████| 63/63 [00:04<00:00, 12.99it/s]\n"
     ]
    },
    {
     "name": "stdout",
     "output_type": "stream",
     "text": [
      "Epoch 39/512: \n",
      "Train Loss = 0.66454, Train MSE = 1.22327, Train MAE = 0.88599, Train Acc = 0.63172\n",
      "Val Loss = 0.64556, Val MSE = 1.20993, Val MAE = 0.86274, Val Acc = 0.65538\n"
     ]
    },
    {
     "name": "stderr",
     "output_type": "stream",
     "text": [
      "Epoch 40/512: 100%|███████████████████████████████████████████████████████████████████████| 63/63 [00:04<00:00, 12.93it/s]\n"
     ]
    },
    {
     "name": "stdout",
     "output_type": "stream",
     "text": [
      "Epoch 40/512: \n",
      "Train Loss = 0.66149, Train MSE = 1.21198, Train MAE = 0.88162, Train Acc = 0.63098\n",
      "Val Loss = 0.64776, Val MSE = 1.19693, Val MAE = 0.86908, Val Acc = 0.64343\n"
     ]
    },
    {
     "name": "stderr",
     "output_type": "stream",
     "text": [
      "Epoch 41/512: 100%|███████████████████████████████████████████████████████████████████████| 63/63 [00:04<00:00, 12.92it/s]\n"
     ]
    },
    {
     "name": "stdout",
     "output_type": "stream",
     "text": [
      "Epoch 41/512: \n",
      "Train Loss = 0.65206, Train MSE = 1.18812, Train MAE = 0.87245, Train Acc = 0.63870\n",
      "Val Loss = 0.64646, Val MSE = 1.21805, Val MAE = 0.86529, Val Acc = 0.65538\n"
     ]
    },
    {
     "name": "stderr",
     "output_type": "stream",
     "text": [
      "Epoch 42/512: 100%|███████████████████████████████████████████████████████████████████████| 63/63 [00:04<00:00, 13.00it/s]\n"
     ]
    },
    {
     "name": "stdout",
     "output_type": "stream",
     "text": [
      "Epoch 42/512: \n",
      "Train Loss = 0.65242, Train MSE = 1.19581, Train MAE = 0.87243, Train Acc = 0.63770\n",
      "Val Loss = 0.63516, Val MSE = 1.19970, Val MAE = 0.85061, Val Acc = 0.66135\n"
     ]
    },
    {
     "name": "stderr",
     "output_type": "stream",
     "text": [
      "Epoch 43/512: 100%|███████████████████████████████████████████████████████████████████████| 63/63 [00:04<00:00, 12.94it/s]\n"
     ]
    },
    {
     "name": "stdout",
     "output_type": "stream",
     "text": [
      "Epoch 43/512: \n",
      "Train Loss = 0.65057, Train MSE = 1.19513, Train MAE = 0.86972, Train Acc = 0.64542\n",
      "Val Loss = 0.62438, Val MSE = 1.16191, Val MAE = 0.84150, Val Acc = 0.65538\n"
     ]
    },
    {
     "name": "stderr",
     "output_type": "stream",
     "text": [
      "Epoch 44/512: 100%|███████████████████████████████████████████████████████████████████████| 63/63 [00:04<00:00, 12.97it/s]\n"
     ]
    },
    {
     "name": "stdout",
     "output_type": "stream",
     "text": [
      "Epoch 44/512: \n",
      "Train Loss = 0.63989, Train MSE = 1.16613, Train MAE = 0.85902, Train Acc = 0.64442\n",
      "Val Loss = 0.61009, Val MSE = 1.13362, Val MAE = 0.82403, Val Acc = 0.67729\n"
     ]
    },
    {
     "name": "stderr",
     "output_type": "stream",
     "text": [
      "Epoch 45/512: 100%|███████████████████████████████████████████████████████████████████████| 63/63 [00:04<00:00, 12.98it/s]\n"
     ]
    },
    {
     "name": "stdout",
     "output_type": "stream",
     "text": [
      "Epoch 45/512: \n",
      "Train Loss = 0.64550, Train MSE = 1.18353, Train MAE = 0.86434, Train Acc = 0.64417\n",
      "Val Loss = 0.63212, Val MSE = 1.19128, Val MAE = 0.84976, Val Acc = 0.65538\n"
     ]
    },
    {
     "name": "stderr",
     "output_type": "stream",
     "text": [
      "Epoch 46/512: 100%|███████████████████████████████████████████████████████████████████████| 63/63 [00:04<00:00, 12.90it/s]\n"
     ]
    },
    {
     "name": "stdout",
     "output_type": "stream",
     "text": [
      "Epoch 46/512: \n",
      "Train Loss = 0.64470, Train MSE = 1.17772, Train MAE = 0.86392, Train Acc = 0.64766\n",
      "Val Loss = 0.60934, Val MSE = 1.11489, Val MAE = 0.82452, Val Acc = 0.67530\n"
     ]
    },
    {
     "name": "stderr",
     "output_type": "stream",
     "text": [
      "Epoch 47/512: 100%|███████████████████████████████████████████████████████████████████████| 63/63 [00:04<00:00, 12.96it/s]\n"
     ]
    },
    {
     "name": "stdout",
     "output_type": "stream",
     "text": [
      "Epoch 47/512: \n",
      "Train Loss = 0.63495, Train MSE = 1.15490, Train MAE = 0.85432, Train Acc = 0.65513\n",
      "Val Loss = 0.62710, Val MSE = 1.17121, Val MAE = 0.84232, Val Acc = 0.66135\n"
     ]
    },
    {
     "name": "stderr",
     "output_type": "stream",
     "text": [
      "Epoch 48/512: 100%|███████████████████████████████████████████████████████████████████████| 63/63 [00:04<00:00, 12.91it/s]\n"
     ]
    },
    {
     "name": "stdout",
     "output_type": "stream",
     "text": [
      "Epoch 48/512: \n",
      "Train Loss = 0.64111, Train MSE = 1.16502, Train MAE = 0.86051, Train Acc = 0.64492\n",
      "Val Loss = 0.60109, Val MSE = 1.10346, Val MAE = 0.81770, Val Acc = 0.68924\n"
     ]
    },
    {
     "name": "stderr",
     "output_type": "stream",
     "text": [
      "Epoch 49/512: 100%|███████████████████████████████████████████████████████████████████████| 63/63 [00:04<00:00, 12.95it/s]\n"
     ]
    },
    {
     "name": "stdout",
     "output_type": "stream",
     "text": [
      "Epoch 49/512: \n",
      "Train Loss = 0.63056, Train MSE = 1.14764, Train MAE = 0.84775, Train Acc = 0.65214\n",
      "Val Loss = 0.60945, Val MSE = 1.15135, Val MAE = 0.82406, Val Acc = 0.68924\n"
     ]
    },
    {
     "name": "stderr",
     "output_type": "stream",
     "text": [
      "Epoch 50/512: 100%|███████████████████████████████████████████████████████████████████████| 63/63 [00:04<00:00, 12.94it/s]\n"
     ]
    },
    {
     "name": "stdout",
     "output_type": "stream",
     "text": [
      "Epoch 50/512: \n",
      "Train Loss = 0.63727, Train MSE = 1.16385, Train MAE = 0.85528, Train Acc = 0.64841\n",
      "Val Loss = 0.59660, Val MSE = 1.09776, Val MAE = 0.80976, Val Acc = 0.70319\n"
     ]
    },
    {
     "name": "stderr",
     "output_type": "stream",
     "text": [
      "Epoch 51/512: 100%|███████████████████████████████████████████████████████████████████████| 63/63 [00:04<00:00, 12.97it/s]\n"
     ]
    },
    {
     "name": "stdout",
     "output_type": "stream",
     "text": [
      "Epoch 51/512: \n",
      "Train Loss = 0.62365, Train MSE = 1.13414, Train MAE = 0.84151, Train Acc = 0.65737\n",
      "Val Loss = 0.59403, Val MSE = 1.10176, Val MAE = 0.80790, Val Acc = 0.67928\n"
     ]
    },
    {
     "name": "stderr",
     "output_type": "stream",
     "text": [
      "Epoch 52/512: 100%|███████████████████████████████████████████████████████████████████████| 63/63 [00:04<00:00, 13.00it/s]\n"
     ]
    },
    {
     "name": "stdout",
     "output_type": "stream",
     "text": [
      "Epoch 52/512: \n",
      "Train Loss = 0.62918, Train MSE = 1.14383, Train MAE = 0.84740, Train Acc = 0.65438\n",
      "Val Loss = 0.59778, Val MSE = 1.11622, Val MAE = 0.81129, Val Acc = 0.67131\n"
     ]
    },
    {
     "name": "stderr",
     "output_type": "stream",
     "text": [
      "Epoch 53/512: 100%|███████████████████████████████████████████████████████████████████████| 63/63 [00:04<00:00, 12.97it/s]\n"
     ]
    },
    {
     "name": "stdout",
     "output_type": "stream",
     "text": [
      "Epoch 53/512: \n",
      "Train Loss = 0.62950, Train MSE = 1.14369, Train MAE = 0.84810, Train Acc = 0.65588\n",
      "Val Loss = 0.58067, Val MSE = 1.07805, Val MAE = 0.79360, Val Acc = 0.69323\n"
     ]
    },
    {
     "name": "stderr",
     "output_type": "stream",
     "text": [
      "Epoch 54/512: 100%|███████████████████████████████████████████████████████████████████████| 63/63 [00:04<00:00, 12.96it/s]\n"
     ]
    },
    {
     "name": "stdout",
     "output_type": "stream",
     "text": [
      "Epoch 54/512: \n",
      "Train Loss = 0.62233, Train MSE = 1.13016, Train MAE = 0.84143, Train Acc = 0.66160\n",
      "Val Loss = 0.61715, Val MSE = 1.16531, Val MAE = 0.83435, Val Acc = 0.67331\n"
     ]
    },
    {
     "name": "stderr",
     "output_type": "stream",
     "text": [
      "Epoch 55/512: 100%|███████████████████████████████████████████████████████████████████████| 63/63 [00:04<00:00, 12.97it/s]\n"
     ]
    },
    {
     "name": "stdout",
     "output_type": "stream",
     "text": [
      "Epoch 55/512: \n",
      "Train Loss = 0.61727, Train MSE = 1.12279, Train MAE = 0.83564, Train Acc = 0.66559\n",
      "Val Loss = 0.61612, Val MSE = 1.18323, Val MAE = 0.82660, Val Acc = 0.67530\n"
     ]
    },
    {
     "name": "stderr",
     "output_type": "stream",
     "text": [
      "Epoch 56/512: 100%|███████████████████████████████████████████████████████████████████████| 63/63 [00:04<00:00, 12.93it/s]\n"
     ]
    },
    {
     "name": "stdout",
     "output_type": "stream",
     "text": [
      "Epoch 56/512: \n",
      "Train Loss = 0.61922, Train MSE = 1.12607, Train MAE = 0.83791, Train Acc = 0.66235\n",
      "Val Loss = 0.59565, Val MSE = 1.12003, Val MAE = 0.80937, Val Acc = 0.69323\n"
     ]
    },
    {
     "name": "stderr",
     "output_type": "stream",
     "text": [
      "Epoch 57/512: 100%|███████████████████████████████████████████████████████████████████████| 63/63 [00:04<00:00, 12.95it/s]\n"
     ]
    },
    {
     "name": "stdout",
     "output_type": "stream",
     "text": [
      "Epoch 57/512: \n",
      "Train Loss = 0.62603, Train MSE = 1.15035, Train MAE = 0.84339, Train Acc = 0.66011\n",
      "Val Loss = 0.59921, Val MSE = 1.11518, Val MAE = 0.81362, Val Acc = 0.67331\n"
     ]
    },
    {
     "name": "stderr",
     "output_type": "stream",
     "text": [
      "Epoch 58/512: 100%|███████████████████████████████████████████████████████████████████████| 63/63 [00:04<00:00, 12.90it/s]\n"
     ]
    },
    {
     "name": "stdout",
     "output_type": "stream",
     "text": [
      "Epoch 58/512: \n",
      "Train Loss = 0.61653, Train MSE = 1.12478, Train MAE = 0.83340, Train Acc = 0.66285\n",
      "Val Loss = 0.61395, Val MSE = 1.17574, Val MAE = 0.82756, Val Acc = 0.67729\n"
     ]
    },
    {
     "name": "stderr",
     "output_type": "stream",
     "text": [
      "Epoch 59/512: 100%|███████████████████████████████████████████████████████████████████████| 63/63 [00:04<00:00, 12.97it/s]\n"
     ]
    },
    {
     "name": "stdout",
     "output_type": "stream",
     "text": [
      "Epoch 59/512: \n",
      "Train Loss = 0.61853, Train MSE = 1.12013, Train MAE = 0.83622, Train Acc = 0.65812\n",
      "Val Loss = 0.58397, Val MSE = 1.08562, Val MAE = 0.79825, Val Acc = 0.69323\n"
     ]
    },
    {
     "name": "stderr",
     "output_type": "stream",
     "text": [
      "Epoch 60/512: 100%|███████████████████████████████████████████████████████████████████████| 63/63 [00:04<00:00, 12.93it/s]\n"
     ]
    },
    {
     "name": "stdout",
     "output_type": "stream",
     "text": [
      "Epoch 60/512: \n",
      "Train Loss = 0.60937, Train MSE = 1.09887, Train MAE = 0.82640, Train Acc = 0.66708\n",
      "Val Loss = 0.57343, Val MSE = 1.06966, Val MAE = 0.78367, Val Acc = 0.70916\n"
     ]
    },
    {
     "name": "stderr",
     "output_type": "stream",
     "text": [
      "Epoch 61/512: 100%|███████████████████████████████████████████████████████████████████████| 63/63 [00:04<00:00, 13.00it/s]\n"
     ]
    },
    {
     "name": "stdout",
     "output_type": "stream",
     "text": [
      "Epoch 61/512: \n",
      "Train Loss = 0.62033, Train MSE = 1.12300, Train MAE = 0.83848, Train Acc = 0.66160\n",
      "Val Loss = 0.60936, Val MSE = 1.16529, Val MAE = 0.82394, Val Acc = 0.68127\n"
     ]
    },
    {
     "name": "stderr",
     "output_type": "stream",
     "text": [
      "Epoch 62/512: 100%|███████████████████████████████████████████████████████████████████████| 63/63 [00:04<00:00, 12.95it/s]\n"
     ]
    },
    {
     "name": "stdout",
     "output_type": "stream",
     "text": [
      "Epoch 62/512: \n",
      "Train Loss = 0.62322, Train MSE = 1.13545, Train MAE = 0.84070, Train Acc = 0.65737\n",
      "Val Loss = 0.57438, Val MSE = 1.05649, Val MAE = 0.78722, Val Acc = 0.68924\n"
     ]
    },
    {
     "name": "stderr",
     "output_type": "stream",
     "text": [
      "Epoch 63/512: 100%|███████████████████████████████████████████████████████████████████████| 63/63 [00:04<00:00, 12.96it/s]\n"
     ]
    },
    {
     "name": "stdout",
     "output_type": "stream",
     "text": [
      "Epoch 63/512: \n",
      "Train Loss = 0.60215, Train MSE = 1.07705, Train MAE = 0.81952, Train Acc = 0.66658\n",
      "Val Loss = 0.57067, Val MSE = 1.04911, Val MAE = 0.78338, Val Acc = 0.70120\n"
     ]
    },
    {
     "name": "stderr",
     "output_type": "stream",
     "text": [
      "Epoch 64/512: 100%|███████████████████████████████████████████████████████████████████████| 63/63 [00:04<00:00, 12.99it/s]\n"
     ]
    },
    {
     "name": "stdout",
     "output_type": "stream",
     "text": [
      "Epoch 64/512: \n",
      "Train Loss = 0.60484, Train MSE = 1.09190, Train MAE = 0.82212, Train Acc = 0.67107\n",
      "Val Loss = 0.59330, Val MSE = 1.12515, Val MAE = 0.80386, Val Acc = 0.68127\n"
     ]
    },
    {
     "name": "stderr",
     "output_type": "stream",
     "text": [
      "Epoch 65/512: 100%|███████████████████████████████████████████████████████████████████████| 63/63 [00:04<00:00, 12.95it/s]\n"
     ]
    },
    {
     "name": "stdout",
     "output_type": "stream",
     "text": [
      "Epoch 65/512: \n",
      "Train Loss = 0.60377, Train MSE = 1.08991, Train MAE = 0.81957, Train Acc = 0.67405\n",
      "Val Loss = 0.58533, Val MSE = 1.08471, Val MAE = 0.79702, Val Acc = 0.67530\n"
     ]
    },
    {
     "name": "stderr",
     "output_type": "stream",
     "text": [
      "Epoch 66/512: 100%|███████████████████████████████████████████████████████████████████████| 63/63 [00:04<00:00, 13.00it/s]\n"
     ]
    },
    {
     "name": "stdout",
     "output_type": "stream",
     "text": [
      "Epoch 66/512: \n",
      "Train Loss = 0.61544, Train MSE = 1.11839, Train MAE = 0.83235, Train Acc = 0.66434\n",
      "Val Loss = 0.57167, Val MSE = 1.04795, Val MAE = 0.78607, Val Acc = 0.69721\n"
     ]
    },
    {
     "name": "stderr",
     "output_type": "stream",
     "text": [
      "Epoch 67/512: 100%|███████████████████████████████████████████████████████████████████████| 63/63 [00:04<00:00, 12.89it/s]\n"
     ]
    },
    {
     "name": "stdout",
     "output_type": "stream",
     "text": [
      "Epoch 67/512: \n",
      "Train Loss = 0.60628, Train MSE = 1.08600, Train MAE = 0.82464, Train Acc = 0.67505\n",
      "Val Loss = 0.56774, Val MSE = 1.03953, Val MAE = 0.78316, Val Acc = 0.71713\n"
     ]
    },
    {
     "name": "stderr",
     "output_type": "stream",
     "text": [
      "Epoch 68/512: 100%|███████████████████████████████████████████████████████████████████████| 63/63 [00:04<00:00, 13.01it/s]\n"
     ]
    },
    {
     "name": "stdout",
     "output_type": "stream",
     "text": [
      "Epoch 68/512: \n",
      "Train Loss = 0.59874, Train MSE = 1.08080, Train MAE = 0.81405, Train Acc = 0.67231\n",
      "Val Loss = 0.56343, Val MSE = 1.03424, Val MAE = 0.77644, Val Acc = 0.71713\n"
     ]
    },
    {
     "name": "stderr",
     "output_type": "stream",
     "text": [
      "Epoch 69/512: 100%|███████████████████████████████████████████████████████████████████████| 63/63 [00:04<00:00, 13.01it/s]\n"
     ]
    },
    {
     "name": "stdout",
     "output_type": "stream",
     "text": [
      "Epoch 69/512: \n",
      "Train Loss = 0.59857, Train MSE = 1.07833, Train MAE = 0.81511, Train Acc = 0.68127\n",
      "Val Loss = 0.57192, Val MSE = 1.07369, Val MAE = 0.78208, Val Acc = 0.69323\n"
     ]
    },
    {
     "name": "stderr",
     "output_type": "stream",
     "text": [
      "Epoch 70/512: 100%|███████████████████████████████████████████████████████████████████████| 63/63 [00:04<00:00, 12.92it/s]\n"
     ]
    },
    {
     "name": "stdout",
     "output_type": "stream",
     "text": [
      "Epoch 70/512: \n",
      "Train Loss = 0.59366, Train MSE = 1.06804, Train MAE = 0.80844, Train Acc = 0.68476\n",
      "Val Loss = 0.56607, Val MSE = 1.07176, Val MAE = 0.77711, Val Acc = 0.71514\n"
     ]
    },
    {
     "name": "stderr",
     "output_type": "stream",
     "text": [
      "Epoch 71/512: 100%|███████████████████████████████████████████████████████████████████████| 63/63 [00:04<00:00, 12.94it/s]\n"
     ]
    },
    {
     "name": "stdout",
     "output_type": "stream",
     "text": [
      "Epoch 71/512: \n",
      "Train Loss = 0.60344, Train MSE = 1.10044, Train MAE = 0.81885, Train Acc = 0.67854\n",
      "Val Loss = 0.55619, Val MSE = 1.01892, Val MAE = 0.76645, Val Acc = 0.71116\n"
     ]
    },
    {
     "name": "stderr",
     "output_type": "stream",
     "text": [
      "Epoch 72/512: 100%|███████████████████████████████████████████████████████████████████████| 63/63 [00:04<00:00, 12.97it/s]\n"
     ]
    },
    {
     "name": "stdout",
     "output_type": "stream",
     "text": [
      "Epoch 72/512: \n",
      "Train Loss = 0.59404, Train MSE = 1.06724, Train MAE = 0.81024, Train Acc = 0.67654\n",
      "Val Loss = 0.56009, Val MSE = 1.02935, Val MAE = 0.77247, Val Acc = 0.71713\n"
     ]
    },
    {
     "name": "stderr",
     "output_type": "stream",
     "text": [
      "Epoch 73/512: 100%|███████████████████████████████████████████████████████████████████████| 63/63 [00:04<00:00, 12.99it/s]\n"
     ]
    },
    {
     "name": "stdout",
     "output_type": "stream",
     "text": [
      "Epoch 73/512: \n",
      "Train Loss = 0.60203, Train MSE = 1.08553, Train MAE = 0.81815, Train Acc = 0.67231\n",
      "Val Loss = 0.55809, Val MSE = 1.02373, Val MAE = 0.76817, Val Acc = 0.70916\n"
     ]
    },
    {
     "name": "stderr",
     "output_type": "stream",
     "text": [
      "Epoch 74/512: 100%|███████████████████████████████████████████████████████████████████████| 63/63 [00:04<00:00, 13.04it/s]\n"
     ]
    },
    {
     "name": "stdout",
     "output_type": "stream",
     "text": [
      "Epoch 74/512: \n",
      "Train Loss = 0.59965, Train MSE = 1.08131, Train MAE = 0.81511, Train Acc = 0.67829\n",
      "Val Loss = 0.55973, Val MSE = 1.00578, Val MAE = 0.77290, Val Acc = 0.70319\n"
     ]
    },
    {
     "name": "stderr",
     "output_type": "stream",
     "text": [
      "Epoch 75/512: 100%|███████████████████████████████████████████████████████████████████████| 63/63 [00:04<00:00, 12.99it/s]\n"
     ]
    },
    {
     "name": "stdout",
     "output_type": "stream",
     "text": [
      "Epoch 75/512: \n",
      "Train Loss = 0.61300, Train MSE = 1.10817, Train MAE = 0.83000, Train Acc = 0.66260\n",
      "Val Loss = 0.58314, Val MSE = 1.09335, Val MAE = 0.79424, Val Acc = 0.69920\n"
     ]
    },
    {
     "name": "stderr",
     "output_type": "stream",
     "text": [
      "Epoch 76/512: 100%|███████████████████████████████████████████████████████████████████████| 63/63 [00:04<00:00, 12.89it/s]\n"
     ]
    },
    {
     "name": "stdout",
     "output_type": "stream",
     "text": [
      "Epoch 76/512: \n",
      "Train Loss = 0.59003, Train MSE = 1.05911, Train MAE = 0.80624, Train Acc = 0.68053\n",
      "Val Loss = 0.55195, Val MSE = 0.99830, Val MAE = 0.76457, Val Acc = 0.72510\n"
     ]
    },
    {
     "name": "stderr",
     "output_type": "stream",
     "text": [
      "Epoch 77/512: 100%|███████████████████████████████████████████████████████████████████████| 63/63 [00:04<00:00, 12.96it/s]\n"
     ]
    },
    {
     "name": "stdout",
     "output_type": "stream",
     "text": [
      "Epoch 77/512: \n",
      "Train Loss = 0.58793, Train MSE = 1.05249, Train MAE = 0.80440, Train Acc = 0.68252\n",
      "Val Loss = 0.56841, Val MSE = 1.02975, Val MAE = 0.78187, Val Acc = 0.71315\n"
     ]
    },
    {
     "name": "stderr",
     "output_type": "stream",
     "text": [
      "Epoch 78/512: 100%|███████████████████████████████████████████████████████████████████████| 63/63 [00:04<00:00, 12.86it/s]\n"
     ]
    },
    {
     "name": "stdout",
     "output_type": "stream",
     "text": [
      "Epoch 78/512: \n",
      "Train Loss = 0.58360, Train MSE = 1.04941, Train MAE = 0.79816, Train Acc = 0.68650\n",
      "Val Loss = 0.56473, Val MSE = 1.04977, Val MAE = 0.77957, Val Acc = 0.72311\n"
     ]
    },
    {
     "name": "stderr",
     "output_type": "stream",
     "text": [
      "Epoch 79/512: 100%|███████████████████████████████████████████████████████████████████████| 63/63 [00:04<00:00, 12.88it/s]\n"
     ]
    },
    {
     "name": "stdout",
     "output_type": "stream",
     "text": [
      "Epoch 79/512: \n",
      "Train Loss = 0.59093, Train MSE = 1.06222, Train MAE = 0.80570, Train Acc = 0.67928\n",
      "Val Loss = 0.54709, Val MSE = 0.99732, Val MAE = 0.75772, Val Acc = 0.73705\n"
     ]
    },
    {
     "name": "stderr",
     "output_type": "stream",
     "text": [
      "Epoch 80/512: 100%|███████████████████████████████████████████████████████████████████████| 63/63 [00:04<00:00, 12.86it/s]\n"
     ]
    },
    {
     "name": "stdout",
     "output_type": "stream",
     "text": [
      "Epoch 80/512: \n",
      "Train Loss = 0.59179, Train MSE = 1.07185, Train MAE = 0.80709, Train Acc = 0.67928\n",
      "Val Loss = 0.56710, Val MSE = 1.06171, Val MAE = 0.77554, Val Acc = 0.69522\n"
     ]
    },
    {
     "name": "stderr",
     "output_type": "stream",
     "text": [
      "Epoch 81/512: 100%|███████████████████████████████████████████████████████████████████████| 63/63 [00:04<00:00, 12.80it/s]\n"
     ]
    },
    {
     "name": "stdout",
     "output_type": "stream",
     "text": [
      "Epoch 81/512: \n",
      "Train Loss = 0.58129, Train MSE = 1.04568, Train MAE = 0.79631, Train Acc = 0.69173\n",
      "Val Loss = 0.54134, Val MSE = 1.00123, Val MAE = 0.74827, Val Acc = 0.71713\n"
     ]
    },
    {
     "name": "stderr",
     "output_type": "stream",
     "text": [
      "Epoch 82/512: 100%|███████████████████████████████████████████████████████████████████████| 63/63 [00:04<00:00, 12.86it/s]\n"
     ]
    },
    {
     "name": "stdout",
     "output_type": "stream",
     "text": [
      "Epoch 82/512: \n",
      "Train Loss = 0.58171, Train MSE = 1.05072, Train MAE = 0.79512, Train Acc = 0.68476\n",
      "Val Loss = 0.55051, Val MSE = 0.99092, Val MAE = 0.76422, Val Acc = 0.71713\n"
     ]
    },
    {
     "name": "stderr",
     "output_type": "stream",
     "text": [
      "Epoch 83/512: 100%|███████████████████████████████████████████████████████████████████████| 63/63 [00:04<00:00, 12.89it/s]\n"
     ]
    },
    {
     "name": "stdout",
     "output_type": "stream",
     "text": [
      "Epoch 83/512: \n",
      "Train Loss = 0.58833, Train MSE = 1.04777, Train MAE = 0.80455, Train Acc = 0.68974\n",
      "Val Loss = 0.53726, Val MSE = 0.96271, Val MAE = 0.74798, Val Acc = 0.74303\n"
     ]
    },
    {
     "name": "stderr",
     "output_type": "stream",
     "text": [
      "Epoch 84/512: 100%|███████████████████████████████████████████████████████████████████████| 63/63 [00:04<00:00, 12.99it/s]\n"
     ]
    },
    {
     "name": "stdout",
     "output_type": "stream",
     "text": [
      "Epoch 84/512: \n",
      "Train Loss = 0.59177, Train MSE = 1.06402, Train MAE = 0.80808, Train Acc = 0.68501\n",
      "Val Loss = 0.55305, Val MSE = 0.99012, Val MAE = 0.76383, Val Acc = 0.72112\n"
     ]
    },
    {
     "name": "stderr",
     "output_type": "stream",
     "text": [
      "Epoch 85/512: 100%|███████████████████████████████████████████████████████████████████████| 63/63 [00:04<00:00, 12.84it/s]\n"
     ]
    },
    {
     "name": "stdout",
     "output_type": "stream",
     "text": [
      "Epoch 85/512: \n",
      "Train Loss = 0.59335, Train MSE = 1.07415, Train MAE = 0.80818, Train Acc = 0.68376\n",
      "Val Loss = 0.53768, Val MSE = 0.98989, Val MAE = 0.74454, Val Acc = 0.73904\n"
     ]
    },
    {
     "name": "stderr",
     "output_type": "stream",
     "text": [
      "Epoch 86/512: 100%|███████████████████████████████████████████████████████████████████████| 63/63 [00:04<00:00, 12.91it/s]\n"
     ]
    },
    {
     "name": "stdout",
     "output_type": "stream",
     "text": [
      "Epoch 86/512: \n",
      "Train Loss = 0.58362, Train MSE = 1.04726, Train MAE = 0.79899, Train Acc = 0.68825\n",
      "Val Loss = 0.56083, Val MSE = 1.04620, Val MAE = 0.76922, Val Acc = 0.70319\n"
     ]
    },
    {
     "name": "stderr",
     "output_type": "stream",
     "text": [
      "Epoch 87/512: 100%|███████████████████████████████████████████████████████████████████████| 63/63 [00:04<00:00, 12.89it/s]\n"
     ]
    },
    {
     "name": "stdout",
     "output_type": "stream",
     "text": [
      "Epoch 87/512: \n",
      "Train Loss = 0.57635, Train MSE = 1.02305, Train MAE = 0.79270, Train Acc = 0.69796\n",
      "Val Loss = 0.55803, Val MSE = 1.02766, Val MAE = 0.76758, Val Acc = 0.71116\n"
     ]
    },
    {
     "name": "stderr",
     "output_type": "stream",
     "text": [
      "Epoch 88/512: 100%|███████████████████████████████████████████████████████████████████████| 63/63 [00:04<00:00, 12.80it/s]\n"
     ]
    },
    {
     "name": "stdout",
     "output_type": "stream",
     "text": [
      "Epoch 88/512: \n",
      "Train Loss = 0.58750, Train MSE = 1.04436, Train MAE = 0.80373, Train Acc = 0.68675\n",
      "Val Loss = 0.55267, Val MSE = 1.00947, Val MAE = 0.76063, Val Acc = 0.70319\n"
     ]
    },
    {
     "name": "stderr",
     "output_type": "stream",
     "text": [
      "Epoch 89/512: 100%|███████████████████████████████████████████████████████████████████████| 63/63 [00:04<00:00, 12.85it/s]\n"
     ]
    },
    {
     "name": "stdout",
     "output_type": "stream",
     "text": [
      "Epoch 89/512: \n",
      "Train Loss = 0.57727, Train MSE = 1.03357, Train MAE = 0.79087, Train Acc = 0.69622\n",
      "Val Loss = 0.54443, Val MSE = 0.99710, Val MAE = 0.75443, Val Acc = 0.71713\n"
     ]
    },
    {
     "name": "stderr",
     "output_type": "stream",
     "text": [
      "Epoch 90/512: 100%|███████████████████████████████████████████████████████████████████████| 63/63 [00:04<00:00, 12.87it/s]\n"
     ]
    },
    {
     "name": "stdout",
     "output_type": "stream",
     "text": [
      "Epoch 90/512: \n",
      "Train Loss = 0.58006, Train MSE = 1.05128, Train MAE = 0.79457, Train Acc = 0.69895\n",
      "Val Loss = 0.55301, Val MSE = 1.01748, Val MAE = 0.76071, Val Acc = 0.70518\n"
     ]
    },
    {
     "name": "stderr",
     "output_type": "stream",
     "text": [
      "Epoch 91/512: 100%|███████████████████████████████████████████████████████████████████████| 63/63 [00:04<00:00, 12.98it/s]\n"
     ]
    },
    {
     "name": "stdout",
     "output_type": "stream",
     "text": [
      "Epoch 91/512: \n",
      "Train Loss = 0.57436, Train MSE = 1.02718, Train MAE = 0.78807, Train Acc = 0.69099\n",
      "Val Loss = 0.54044, Val MSE = 0.98790, Val MAE = 0.74617, Val Acc = 0.70120\n"
     ]
    },
    {
     "name": "stderr",
     "output_type": "stream",
     "text": [
      "Epoch 92/512: 100%|███████████████████████████████████████████████████████████████████████| 63/63 [00:04<00:00, 12.87it/s]\n"
     ]
    },
    {
     "name": "stdout",
     "output_type": "stream",
     "text": [
      "Epoch 92/512: \n",
      "Train Loss = 0.57369, Train MSE = 1.02021, Train MAE = 0.78844, Train Acc = 0.68775\n",
      "Val Loss = 0.53895, Val MSE = 0.96988, Val MAE = 0.74952, Val Acc = 0.72709\n"
     ]
    },
    {
     "name": "stderr",
     "output_type": "stream",
     "text": [
      "Epoch 93/512: 100%|███████████████████████████████████████████████████████████████████████| 63/63 [00:04<00:00, 13.03it/s]\n"
     ]
    },
    {
     "name": "stdout",
     "output_type": "stream",
     "text": [
      "Epoch 93/512: \n",
      "Train Loss = 0.58935, Train MSE = 1.06072, Train MAE = 0.80577, Train Acc = 0.68675\n",
      "Val Loss = 0.54844, Val MSE = 0.99576, Val MAE = 0.76228, Val Acc = 0.73307\n"
     ]
    },
    {
     "name": "stderr",
     "output_type": "stream",
     "text": [
      "Epoch 94/512: 100%|███████████████████████████████████████████████████████████████████████| 63/63 [00:04<00:00, 12.98it/s]\n"
     ]
    },
    {
     "name": "stdout",
     "output_type": "stream",
     "text": [
      "Epoch 94/512: \n",
      "Train Loss = 0.57879, Train MSE = 1.02832, Train MAE = 0.79262, Train Acc = 0.68177\n",
      "Val Loss = 0.54028, Val MSE = 0.96987, Val MAE = 0.74984, Val Acc = 0.71514\n"
     ]
    },
    {
     "name": "stderr",
     "output_type": "stream",
     "text": [
      "Epoch 95/512: 100%|███████████████████████████████████████████████████████████████████████| 63/63 [00:04<00:00, 13.00it/s]\n"
     ]
    },
    {
     "name": "stdout",
     "output_type": "stream",
     "text": [
      "Epoch 95/512: \n",
      "Train Loss = 0.57678, Train MSE = 1.03442, Train MAE = 0.78982, Train Acc = 0.69447\n",
      "Val Loss = 0.54995, Val MSE = 1.00187, Val MAE = 0.75663, Val Acc = 0.70120\n"
     ]
    },
    {
     "name": "stderr",
     "output_type": "stream",
     "text": [
      "Epoch 96/512: 100%|███████████████████████████████████████████████████████████████████████| 63/63 [00:04<00:00, 12.99it/s]\n"
     ]
    },
    {
     "name": "stdout",
     "output_type": "stream",
     "text": [
      "Epoch 96/512: \n",
      "Train Loss = 0.57855, Train MSE = 1.04351, Train MAE = 0.79288, Train Acc = 0.69348\n",
      "Val Loss = 0.53544, Val MSE = 0.96194, Val MAE = 0.74335, Val Acc = 0.71912\n"
     ]
    },
    {
     "name": "stderr",
     "output_type": "stream",
     "text": [
      "Epoch 97/512: 100%|███████████████████████████████████████████████████████████████████████| 63/63 [00:04<00:00, 12.90it/s]\n"
     ]
    },
    {
     "name": "stdout",
     "output_type": "stream",
     "text": [
      "Epoch 97/512: \n",
      "Train Loss = 0.57648, Train MSE = 1.02605, Train MAE = 0.79021, Train Acc = 0.69099\n",
      "Val Loss = 0.53770, Val MSE = 0.97013, Val MAE = 0.75044, Val Acc = 0.72709\n"
     ]
    },
    {
     "name": "stderr",
     "output_type": "stream",
     "text": [
      "Epoch 98/512: 100%|███████████████████████████████████████████████████████████████████████| 63/63 [00:04<00:00, 12.92it/s]\n"
     ]
    },
    {
     "name": "stdout",
     "output_type": "stream",
     "text": [
      "Epoch 98/512: \n",
      "Train Loss = 0.57403, Train MSE = 1.03391, Train MAE = 0.78862, Train Acc = 0.69771\n",
      "Val Loss = 0.54159, Val MSE = 0.97592, Val MAE = 0.75362, Val Acc = 0.71713\n"
     ]
    },
    {
     "name": "stderr",
     "output_type": "stream",
     "text": [
      "Epoch 99/512: 100%|███████████████████████████████████████████████████████████████████████| 63/63 [00:04<00:00, 12.94it/s]\n"
     ]
    },
    {
     "name": "stdout",
     "output_type": "stream",
     "text": [
      "Epoch 99/512: \n",
      "Train Loss = 0.56539, Train MSE = 1.00505, Train MAE = 0.77925, Train Acc = 0.70219\n",
      "Val Loss = 0.54444, Val MSE = 0.98884, Val MAE = 0.75672, Val Acc = 0.71912\n"
     ]
    },
    {
     "name": "stderr",
     "output_type": "stream",
     "text": [
      "Epoch 100/512: 100%|██████████████████████████████████████████████████████████████████████| 63/63 [00:04<00:00, 12.96it/s]\n"
     ]
    },
    {
     "name": "stdout",
     "output_type": "stream",
     "text": [
      "Epoch 100/512: \n",
      "Train Loss = 0.57367, Train MSE = 1.02868, Train MAE = 0.78621, Train Acc = 0.69497\n",
      "Val Loss = 0.53145, Val MSE = 0.96282, Val MAE = 0.74157, Val Acc = 0.72908\n"
     ]
    },
    {
     "name": "stderr",
     "output_type": "stream",
     "text": [
      "Epoch 101/512: 100%|██████████████████████████████████████████████████████████████████████| 63/63 [00:04<00:00, 12.88it/s]\n"
     ]
    },
    {
     "name": "stdout",
     "output_type": "stream",
     "text": [
      "Epoch 101/512: \n",
      "Train Loss = 0.57674, Train MSE = 1.03637, Train MAE = 0.79062, Train Acc = 0.69746\n",
      "Val Loss = 0.53496, Val MSE = 0.96281, Val MAE = 0.74559, Val Acc = 0.72112\n"
     ]
    },
    {
     "name": "stderr",
     "output_type": "stream",
     "text": [
      "Epoch 102/512: 100%|██████████████████████████████████████████████████████████████████████| 63/63 [00:04<00:00, 12.98it/s]\n"
     ]
    },
    {
     "name": "stdout",
     "output_type": "stream",
     "text": [
      "Epoch 102/512: \n",
      "Train Loss = 0.57253, Train MSE = 1.02518, Train MAE = 0.78501, Train Acc = 0.69497\n",
      "Val Loss = 0.53793, Val MSE = 0.96870, Val MAE = 0.75053, Val Acc = 0.71315\n"
     ]
    },
    {
     "name": "stderr",
     "output_type": "stream",
     "text": [
      "Epoch 103/512: 100%|██████████████████████████████████████████████████████████████████████| 63/63 [00:04<00:00, 12.92it/s]\n"
     ]
    },
    {
     "name": "stdout",
     "output_type": "stream",
     "text": [
      "Epoch 103/512: \n",
      "Train Loss = 0.57539, Train MSE = 1.02067, Train MAE = 0.78896, Train Acc = 0.69074\n",
      "Val Loss = 0.54255, Val MSE = 0.98246, Val MAE = 0.74913, Val Acc = 0.71116\n"
     ]
    },
    {
     "name": "stderr",
     "output_type": "stream",
     "text": [
      "Epoch 104/512: 100%|██████████████████████████████████████████████████████████████████████| 63/63 [00:04<00:00, 12.93it/s]\n"
     ]
    },
    {
     "name": "stdout",
     "output_type": "stream",
     "text": [
      "Epoch 104/512: \n",
      "Train Loss = 0.56682, Train MSE = 1.01092, Train MAE = 0.78001, Train Acc = 0.70144\n",
      "Val Loss = 0.53702, Val MSE = 0.97292, Val MAE = 0.74967, Val Acc = 0.71713\n"
     ]
    },
    {
     "name": "stderr",
     "output_type": "stream",
     "text": [
      "Epoch 105/512: 100%|██████████████████████████████████████████████████████████████████████| 63/63 [00:04<00:00, 12.95it/s]\n"
     ]
    },
    {
     "name": "stdout",
     "output_type": "stream",
     "text": [
      "Epoch 105/512: \n",
      "Train Loss = 0.56476, Train MSE = 1.00574, Train MAE = 0.77818, Train Acc = 0.70219\n",
      "Val Loss = 0.53308, Val MSE = 0.96488, Val MAE = 0.74265, Val Acc = 0.72311\n"
     ]
    },
    {
     "name": "stderr",
     "output_type": "stream",
     "text": [
      "Epoch 106/512: 100%|██████████████████████████████████████████████████████████████████████| 63/63 [00:04<00:00, 13.02it/s]\n"
     ]
    },
    {
     "name": "stdout",
     "output_type": "stream",
     "text": [
      "Epoch 106/512: \n",
      "Train Loss = 0.57558, Train MSE = 1.02812, Train MAE = 0.78832, Train Acc = 0.69198\n",
      "Val Loss = 0.52724, Val MSE = 0.95505, Val MAE = 0.73772, Val Acc = 0.71315\n"
     ]
    },
    {
     "name": "stderr",
     "output_type": "stream",
     "text": [
      "Epoch 107/512: 100%|██████████████████████████████████████████████████████████████████████| 63/63 [00:04<00:00, 13.00it/s]\n"
     ]
    },
    {
     "name": "stdout",
     "output_type": "stream",
     "text": [
      "Epoch 107/512: \n",
      "Train Loss = 0.57736, Train MSE = 1.02748, Train MAE = 0.79150, Train Acc = 0.69572\n",
      "Val Loss = 0.53020, Val MSE = 0.94885, Val MAE = 0.74227, Val Acc = 0.72311\n"
     ]
    },
    {
     "name": "stderr",
     "output_type": "stream",
     "text": [
      "Epoch 108/512: 100%|██████████████████████████████████████████████████████████████████████| 63/63 [00:04<00:00, 12.99it/s]\n"
     ]
    },
    {
     "name": "stdout",
     "output_type": "stream",
     "text": [
      "Epoch 108/512: \n",
      "Train Loss = 0.55742, Train MSE = 0.99033, Train MAE = 0.76990, Train Acc = 0.70418\n",
      "Val Loss = 0.53320, Val MSE = 0.95480, Val MAE = 0.74500, Val Acc = 0.73108\n"
     ]
    },
    {
     "name": "stderr",
     "output_type": "stream",
     "text": [
      "Epoch 109/512: 100%|██████████████████████████████████████████████████████████████████████| 63/63 [00:04<00:00, 12.98it/s]\n"
     ]
    },
    {
     "name": "stdout",
     "output_type": "stream",
     "text": [
      "Epoch 109/512: \n",
      "Train Loss = 0.56242, Train MSE = 0.99874, Train MAE = 0.77613, Train Acc = 0.70244\n",
      "Val Loss = 0.51978, Val MSE = 0.93126, Val MAE = 0.72828, Val Acc = 0.71912\n"
     ]
    },
    {
     "name": "stderr",
     "output_type": "stream",
     "text": [
      "Epoch 110/512: 100%|██████████████████████████████████████████████████████████████████████| 63/63 [00:04<00:00, 12.99it/s]\n"
     ]
    },
    {
     "name": "stdout",
     "output_type": "stream",
     "text": [
      "Epoch 110/512: \n",
      "Train Loss = 0.56219, Train MSE = 1.00640, Train MAE = 0.77528, Train Acc = 0.70095\n",
      "Val Loss = 0.52269, Val MSE = 0.94047, Val MAE = 0.73133, Val Acc = 0.72709\n"
     ]
    },
    {
     "name": "stderr",
     "output_type": "stream",
     "text": [
      "Epoch 111/512: 100%|██████████████████████████████████████████████████████████████████████| 63/63 [00:04<00:00, 13.02it/s]\n"
     ]
    },
    {
     "name": "stdout",
     "output_type": "stream",
     "text": [
      "Epoch 111/512: \n",
      "Train Loss = 0.55803, Train MSE = 0.99777, Train MAE = 0.76996, Train Acc = 0.70369\n",
      "Val Loss = 0.53206, Val MSE = 0.96225, Val MAE = 0.74251, Val Acc = 0.72709\n"
     ]
    },
    {
     "name": "stderr",
     "output_type": "stream",
     "text": [
      "Epoch 112/512: 100%|██████████████████████████████████████████████████████████████████████| 63/63 [00:04<00:00, 12.98it/s]\n"
     ]
    },
    {
     "name": "stdout",
     "output_type": "stream",
     "text": [
      "Epoch 112/512: \n",
      "Train Loss = 0.55140, Train MSE = 0.97599, Train MAE = 0.76448, Train Acc = 0.70593\n",
      "Val Loss = 0.53772, Val MSE = 0.97754, Val MAE = 0.75114, Val Acc = 0.73307\n"
     ]
    },
    {
     "name": "stderr",
     "output_type": "stream",
     "text": [
      "Epoch 113/512: 100%|██████████████████████████████████████████████████████████████████████| 63/63 [00:04<00:00, 12.96it/s]\n"
     ]
    },
    {
     "name": "stdout",
     "output_type": "stream",
     "text": [
      "Epoch 113/512: \n",
      "Train Loss = 0.56435, Train MSE = 1.00787, Train MAE = 0.77784, Train Acc = 0.70344\n",
      "Val Loss = 0.53352, Val MSE = 0.96664, Val MAE = 0.74091, Val Acc = 0.71514\n"
     ]
    },
    {
     "name": "stderr",
     "output_type": "stream",
     "text": [
      "Epoch 114/512: 100%|██████████████████████████████████████████████████████████████████████| 63/63 [00:04<00:00, 12.99it/s]\n"
     ]
    },
    {
     "name": "stdout",
     "output_type": "stream",
     "text": [
      "Epoch 114/512: \n",
      "Train Loss = 0.55212, Train MSE = 0.97818, Train MAE = 0.76537, Train Acc = 0.70891\n",
      "Val Loss = 0.53407, Val MSE = 0.96489, Val MAE = 0.74223, Val Acc = 0.71116\n"
     ]
    },
    {
     "name": "stderr",
     "output_type": "stream",
     "text": [
      "Epoch 115/512: 100%|██████████████████████████████████████████████████████████████████████| 63/63 [00:04<00:00, 12.95it/s]\n"
     ]
    },
    {
     "name": "stdout",
     "output_type": "stream",
     "text": [
      "Epoch 115/512: \n",
      "Train Loss = 0.56065, Train MSE = 0.99541, Train MAE = 0.77341, Train Acc = 0.70393\n",
      "Val Loss = 0.54185, Val MSE = 0.97689, Val MAE = 0.75377, Val Acc = 0.71912\n"
     ]
    },
    {
     "name": "stderr",
     "output_type": "stream",
     "text": [
      "Epoch 116/512: 100%|██████████████████████████████████████████████████████████████████████| 63/63 [00:04<00:00, 12.89it/s]\n"
     ]
    },
    {
     "name": "stdout",
     "output_type": "stream",
     "text": [
      "Epoch 116/512: \n",
      "Train Loss = 0.56112, Train MSE = 0.99840, Train MAE = 0.77346, Train Acc = 0.70219\n",
      "Val Loss = 0.52205, Val MSE = 0.92639, Val MAE = 0.73245, Val Acc = 0.73307\n"
     ]
    },
    {
     "name": "stderr",
     "output_type": "stream",
     "text": [
      "Epoch 117/512: 100%|██████████████████████████████████████████████████████████████████████| 63/63 [00:04<00:00, 12.96it/s]\n"
     ]
    },
    {
     "name": "stdout",
     "output_type": "stream",
     "text": [
      "Epoch 117/512: \n",
      "Train Loss = 0.56086, Train MSE = 1.00237, Train MAE = 0.77432, Train Acc = 0.70169\n",
      "Val Loss = 0.52549, Val MSE = 0.93639, Val MAE = 0.73719, Val Acc = 0.72510\n"
     ]
    },
    {
     "name": "stderr",
     "output_type": "stream",
     "text": [
      "Epoch 118/512: 100%|██████████████████████████████████████████████████████████████████████| 63/63 [00:04<00:00, 12.87it/s]\n"
     ]
    },
    {
     "name": "stdout",
     "output_type": "stream",
     "text": [
      "Epoch 118/512: \n",
      "Train Loss = 0.55919, Train MSE = 0.99607, Train MAE = 0.77172, Train Acc = 0.70717\n",
      "Val Loss = 0.51981, Val MSE = 0.92896, Val MAE = 0.72751, Val Acc = 0.73307\n"
     ]
    },
    {
     "name": "stderr",
     "output_type": "stream",
     "text": [
      "Epoch 119/512: 100%|██████████████████████████████████████████████████████████████████████| 63/63 [00:04<00:00, 12.88it/s]\n"
     ]
    },
    {
     "name": "stdout",
     "output_type": "stream",
     "text": [
      "Epoch 119/512: \n",
      "Train Loss = 0.54772, Train MSE = 0.96563, Train MAE = 0.76027, Train Acc = 0.71365\n",
      "Val Loss = 0.52184, Val MSE = 0.94301, Val MAE = 0.73074, Val Acc = 0.72908\n"
     ]
    },
    {
     "name": "stderr",
     "output_type": "stream",
     "text": [
      "Epoch 120/512: 100%|██████████████████████████████████████████████████████████████████████| 63/63 [00:04<00:00, 12.93it/s]\n"
     ]
    },
    {
     "name": "stdout",
     "output_type": "stream",
     "text": [
      "Epoch 120/512: \n",
      "Train Loss = 0.55641, Train MSE = 0.98833, Train MAE = 0.76794, Train Acc = 0.70792\n",
      "Val Loss = 0.51746, Val MSE = 0.91705, Val MAE = 0.72843, Val Acc = 0.73307\n"
     ]
    },
    {
     "name": "stderr",
     "output_type": "stream",
     "text": [
      "Epoch 121/512: 100%|██████████████████████████████████████████████████████████████████████| 63/63 [00:04<00:00, 12.98it/s]\n"
     ]
    },
    {
     "name": "stdout",
     "output_type": "stream",
     "text": [
      "Epoch 121/512: \n",
      "Train Loss = 0.55462, Train MSE = 0.98359, Train MAE = 0.76847, Train Acc = 0.70966\n",
      "Val Loss = 0.51390, Val MSE = 0.92077, Val MAE = 0.72138, Val Acc = 0.72908\n"
     ]
    },
    {
     "name": "stderr",
     "output_type": "stream",
     "text": [
      "Epoch 122/512: 100%|██████████████████████████████████████████████████████████████████████| 63/63 [00:04<00:00, 12.93it/s]\n"
     ]
    },
    {
     "name": "stdout",
     "output_type": "stream",
     "text": [
      "Epoch 122/512: \n",
      "Train Loss = 0.55842, Train MSE = 0.98466, Train MAE = 0.77199, Train Acc = 0.70468\n",
      "Val Loss = 0.52444, Val MSE = 0.93485, Val MAE = 0.73294, Val Acc = 0.73904\n"
     ]
    },
    {
     "name": "stderr",
     "output_type": "stream",
     "text": [
      "Epoch 123/512: 100%|██████████████████████████████████████████████████████████████████████| 63/63 [00:04<00:00, 12.97it/s]\n"
     ]
    },
    {
     "name": "stdout",
     "output_type": "stream",
     "text": [
      "Epoch 123/512: \n",
      "Train Loss = 0.55878, Train MSE = 0.99312, Train MAE = 0.77164, Train Acc = 0.70468\n",
      "Val Loss = 0.52522, Val MSE = 0.94178, Val MAE = 0.73499, Val Acc = 0.73108\n"
     ]
    },
    {
     "name": "stderr",
     "output_type": "stream",
     "text": [
      "Epoch 124/512: 100%|██████████████████████████████████████████████████████████████████████| 63/63 [00:04<00:00, 13.00it/s]\n"
     ]
    },
    {
     "name": "stdout",
     "output_type": "stream",
     "text": [
      "Epoch 124/512: \n",
      "Train Loss = 0.55727, Train MSE = 0.99182, Train MAE = 0.76958, Train Acc = 0.70618\n",
      "Val Loss = 0.52868, Val MSE = 0.95028, Val MAE = 0.73806, Val Acc = 0.72311\n"
     ]
    },
    {
     "name": "stderr",
     "output_type": "stream",
     "text": [
      "Epoch 125/512: 100%|██████████████████████████████████████████████████████████████████████| 63/63 [00:04<00:00, 12.89it/s]\n"
     ]
    },
    {
     "name": "stdout",
     "output_type": "stream",
     "text": [
      "Epoch 125/512: \n",
      "Train Loss = 0.55785, Train MSE = 0.99085, Train MAE = 0.77081, Train Acc = 0.70966\n",
      "Val Loss = 0.52478, Val MSE = 0.94670, Val MAE = 0.73442, Val Acc = 0.71116\n"
     ]
    },
    {
     "name": "stderr",
     "output_type": "stream",
     "text": [
      "Epoch 126/512: 100%|██████████████████████████████████████████████████████████████████████| 63/63 [00:04<00:00, 12.98it/s]\n"
     ]
    },
    {
     "name": "stdout",
     "output_type": "stream",
     "text": [
      "Epoch 126/512: \n",
      "Train Loss = 0.55410, Train MSE = 0.98472, Train MAE = 0.76650, Train Acc = 0.71315\n",
      "Val Loss = 0.52444, Val MSE = 0.93292, Val MAE = 0.73651, Val Acc = 0.73506\n"
     ]
    },
    {
     "name": "stderr",
     "output_type": "stream",
     "text": [
      "Epoch 127/512: 100%|██████████████████████████████████████████████████████████████████████| 63/63 [00:04<00:00, 12.93it/s]\n"
     ]
    },
    {
     "name": "stdout",
     "output_type": "stream",
     "text": [
      "Epoch 127/512: \n",
      "Train Loss = 0.54603, Train MSE = 0.96600, Train MAE = 0.75844, Train Acc = 0.71688\n",
      "Val Loss = 0.51035, Val MSE = 0.91378, Val MAE = 0.71723, Val Acc = 0.73307\n"
     ]
    },
    {
     "name": "stderr",
     "output_type": "stream",
     "text": [
      "Epoch 128/512: 100%|██████████████████████████████████████████████████████████████████████| 63/63 [00:04<00:00, 12.89it/s]\n"
     ]
    },
    {
     "name": "stdout",
     "output_type": "stream",
     "text": [
      "Epoch 128/512: \n",
      "Train Loss = 0.55059, Train MSE = 0.98160, Train MAE = 0.76240, Train Acc = 0.71937\n",
      "Val Loss = 0.51379, Val MSE = 0.92049, Val MAE = 0.72231, Val Acc = 0.73904\n"
     ]
    },
    {
     "name": "stderr",
     "output_type": "stream",
     "text": [
      "Epoch 129/512: 100%|██████████████████████████████████████████████████████████████████████| 63/63 [00:04<00:00, 12.85it/s]\n"
     ]
    },
    {
     "name": "stdout",
     "output_type": "stream",
     "text": [
      "Epoch 129/512: \n",
      "Train Loss = 0.55083, Train MSE = 0.96593, Train MAE = 0.76263, Train Acc = 0.70916\n",
      "Val Loss = 0.51531, Val MSE = 0.92750, Val MAE = 0.72397, Val Acc = 0.73904\n"
     ]
    },
    {
     "name": "stderr",
     "output_type": "stream",
     "text": [
      "Epoch 130/512: 100%|██████████████████████████████████████████████████████████████████████| 63/63 [00:04<00:00, 12.93it/s]\n"
     ]
    },
    {
     "name": "stdout",
     "output_type": "stream",
     "text": [
      "Epoch 130/512: \n",
      "Train Loss = 0.56058, Train MSE = 1.00248, Train MAE = 0.77295, Train Acc = 0.70543\n",
      "Val Loss = 0.51674, Val MSE = 0.92506, Val MAE = 0.72799, Val Acc = 0.74303\n"
     ]
    },
    {
     "name": "stderr",
     "output_type": "stream",
     "text": [
      "Epoch 131/512: 100%|██████████████████████████████████████████████████████████████████████| 63/63 [00:04<00:00, 12.92it/s]\n"
     ]
    },
    {
     "name": "stdout",
     "output_type": "stream",
     "text": [
      "Epoch 131/512: \n",
      "Train Loss = 0.54443, Train MSE = 0.96838, Train MAE = 0.75522, Train Acc = 0.71838\n",
      "Val Loss = 0.52433, Val MSE = 0.93123, Val MAE = 0.73458, Val Acc = 0.72908\n"
     ]
    },
    {
     "name": "stderr",
     "output_type": "stream",
     "text": [
      "Epoch 132/512: 100%|██████████████████████████████████████████████████████████████████████| 63/63 [00:04<00:00, 12.96it/s]\n"
     ]
    },
    {
     "name": "stdout",
     "output_type": "stream",
     "text": [
      "Epoch 132/512: \n",
      "Train Loss = 0.55472, Train MSE = 0.99941, Train MAE = 0.76634, Train Acc = 0.71290\n",
      "Val Loss = 0.51602, Val MSE = 0.92335, Val MAE = 0.72664, Val Acc = 0.72709\n"
     ]
    },
    {
     "name": "stderr",
     "output_type": "stream",
     "text": [
      "Epoch 133/512: 100%|██████████████████████████████████████████████████████████████████████| 63/63 [00:04<00:00, 12.95it/s]\n"
     ]
    },
    {
     "name": "stdout",
     "output_type": "stream",
     "text": [
      "Epoch 133/512: \n",
      "Train Loss = 0.54876, Train MSE = 0.97872, Train MAE = 0.76084, Train Acc = 0.71091\n",
      "Val Loss = 0.51259, Val MSE = 0.92945, Val MAE = 0.71815, Val Acc = 0.72510\n"
     ]
    },
    {
     "name": "stderr",
     "output_type": "stream",
     "text": [
      "Epoch 134/512: 100%|██████████████████████████████████████████████████████████████████████| 63/63 [00:04<00:00, 12.97it/s]\n"
     ]
    },
    {
     "name": "stdout",
     "output_type": "stream",
     "text": [
      "Epoch 134/512: \n",
      "Train Loss = 0.55815, Train MSE = 1.00133, Train MAE = 0.77047, Train Acc = 0.70941\n",
      "Val Loss = 0.51917, Val MSE = 0.93079, Val MAE = 0.72853, Val Acc = 0.73904\n"
     ]
    },
    {
     "name": "stderr",
     "output_type": "stream",
     "text": [
      "Epoch 135/512: 100%|██████████████████████████████████████████████████████████████████████| 63/63 [00:04<00:00, 12.96it/s]\n"
     ]
    },
    {
     "name": "stdout",
     "output_type": "stream",
     "text": [
      "Epoch 135/512: \n",
      "Train Loss = 0.54209, Train MSE = 0.95462, Train MAE = 0.75346, Train Acc = 0.71838\n",
      "Val Loss = 0.51120, Val MSE = 0.91568, Val MAE = 0.71837, Val Acc = 0.74701\n"
     ]
    },
    {
     "name": "stderr",
     "output_type": "stream",
     "text": [
      "Epoch 136/512: 100%|██████████████████████████████████████████████████████████████████████| 63/63 [00:04<00:00, 12.93it/s]\n"
     ]
    },
    {
     "name": "stdout",
     "output_type": "stream",
     "text": [
      "Epoch 136/512: \n",
      "Train Loss = 0.54442, Train MSE = 0.96940, Train MAE = 0.75710, Train Acc = 0.72585\n",
      "Val Loss = 0.52194, Val MSE = 0.93560, Val MAE = 0.73353, Val Acc = 0.73904\n"
     ]
    },
    {
     "name": "stderr",
     "output_type": "stream",
     "text": [
      "Epoch 137/512: 100%|██████████████████████████████████████████████████████████████████████| 63/63 [00:04<00:00, 13.03it/s]\n"
     ]
    },
    {
     "name": "stdout",
     "output_type": "stream",
     "text": [
      "Epoch 137/512: \n",
      "Train Loss = 0.54639, Train MSE = 0.96677, Train MAE = 0.75826, Train Acc = 0.71713\n",
      "Val Loss = 0.53903, Val MSE = 0.96664, Val MAE = 0.75295, Val Acc = 0.73506\n"
     ]
    },
    {
     "name": "stderr",
     "output_type": "stream",
     "text": [
      "Epoch 138/512: 100%|██████████████████████████████████████████████████████████████████████| 63/63 [00:04<00:00, 12.86it/s]\n"
     ]
    },
    {
     "name": "stdout",
     "output_type": "stream",
     "text": [
      "Epoch 138/512: \n",
      "Train Loss = 0.54918, Train MSE = 0.96340, Train MAE = 0.76222, Train Acc = 0.71140\n",
      "Val Loss = 0.52349, Val MSE = 0.92095, Val MAE = 0.73598, Val Acc = 0.73307\n"
     ]
    },
    {
     "name": "stderr",
     "output_type": "stream",
     "text": [
      "Epoch 139/512: 100%|██████████████████████████████████████████████████████████████████████| 63/63 [00:04<00:00, 12.99it/s]\n"
     ]
    },
    {
     "name": "stdout",
     "output_type": "stream",
     "text": [
      "Epoch 139/512: \n",
      "Train Loss = 0.55079, Train MSE = 0.97684, Train MAE = 0.76233, Train Acc = 0.70991\n",
      "Val Loss = 0.52530, Val MSE = 0.93474, Val MAE = 0.73576, Val Acc = 0.73506\n"
     ]
    },
    {
     "name": "stderr",
     "output_type": "stream",
     "text": [
      "Epoch 140/512: 100%|██████████████████████████████████████████████████████████████████████| 63/63 [00:04<00:00, 12.90it/s]\n"
     ]
    },
    {
     "name": "stdout",
     "output_type": "stream",
     "text": [
      "Epoch 140/512: \n",
      "Train Loss = 0.55630, Train MSE = 0.99164, Train MAE = 0.76800, Train Acc = 0.71290\n",
      "Val Loss = 0.51619, Val MSE = 0.91761, Val MAE = 0.72671, Val Acc = 0.74303\n"
     ]
    },
    {
     "name": "stderr",
     "output_type": "stream",
     "text": [
      "Epoch 141/512: 100%|██████████████████████████████████████████████████████████████████████| 63/63 [00:04<00:00, 13.01it/s]\n"
     ]
    },
    {
     "name": "stdout",
     "output_type": "stream",
     "text": [
      "Epoch 141/512: \n",
      "Train Loss = 0.52512, Train MSE = 0.91898, Train MAE = 0.73616, Train Acc = 0.72958\n",
      "Val Loss = 0.53190, Val MSE = 0.97428, Val MAE = 0.74247, Val Acc = 0.74303\n"
     ]
    },
    {
     "name": "stderr",
     "output_type": "stream",
     "text": [
      "Epoch 142/512: 100%|██████████████████████████████████████████████████████████████████████| 63/63 [00:04<00:00, 13.02it/s]\n"
     ]
    },
    {
     "name": "stdout",
     "output_type": "stream",
     "text": [
      "Epoch 142/512: \n",
      "Train Loss = 0.54264, Train MSE = 0.95929, Train MAE = 0.75414, Train Acc = 0.71638\n",
      "Val Loss = 0.52012, Val MSE = 0.93961, Val MAE = 0.72609, Val Acc = 0.73705\n"
     ]
    },
    {
     "name": "stderr",
     "output_type": "stream",
     "text": [
      "Epoch 143/512: 100%|██████████████████████████████████████████████████████████████████████| 63/63 [00:04<00:00, 12.94it/s]\n"
     ]
    },
    {
     "name": "stdout",
     "output_type": "stream",
     "text": [
      "Epoch 143/512: \n",
      "Train Loss = 0.54191, Train MSE = 0.94748, Train MAE = 0.75478, Train Acc = 0.72112\n",
      "Val Loss = 0.50542, Val MSE = 0.90047, Val MAE = 0.71360, Val Acc = 0.74502\n"
     ]
    },
    {
     "name": "stderr",
     "output_type": "stream",
     "text": [
      "Epoch 144/512: 100%|██████████████████████████████████████████████████████████████████████| 63/63 [00:04<00:00, 12.96it/s]\n"
     ]
    },
    {
     "name": "stdout",
     "output_type": "stream",
     "text": [
      "Epoch 144/512: \n",
      "Train Loss = 0.54764, Train MSE = 0.96825, Train MAE = 0.75967, Train Acc = 0.71539\n",
      "Val Loss = 0.51703, Val MSE = 0.92270, Val MAE = 0.72563, Val Acc = 0.73506\n"
     ]
    },
    {
     "name": "stderr",
     "output_type": "stream",
     "text": [
      "Epoch 145/512: 100%|██████████████████████████████████████████████████████████████████████| 63/63 [00:04<00:00, 12.95it/s]\n"
     ]
    },
    {
     "name": "stdout",
     "output_type": "stream",
     "text": [
      "Epoch 145/512: \n",
      "Train Loss = 0.54699, Train MSE = 0.97321, Train MAE = 0.75948, Train Acc = 0.71887\n",
      "Val Loss = 0.50749, Val MSE = 0.90052, Val MAE = 0.71853, Val Acc = 0.73904\n"
     ]
    },
    {
     "name": "stderr",
     "output_type": "stream",
     "text": [
      "Epoch 146/512: 100%|██████████████████████████████████████████████████████████████████████| 63/63 [00:04<00:00, 12.92it/s]\n"
     ]
    },
    {
     "name": "stdout",
     "output_type": "stream",
     "text": [
      "Epoch 146/512: \n",
      "Train Loss = 0.54160, Train MSE = 0.95035, Train MAE = 0.75382, Train Acc = 0.71863\n",
      "Val Loss = 0.52557, Val MSE = 0.91801, Val MAE = 0.73809, Val Acc = 0.73108\n"
     ]
    },
    {
     "name": "stderr",
     "output_type": "stream",
     "text": [
      "Epoch 147/512: 100%|██████████████████████████████████████████████████████████████████████| 63/63 [00:04<00:00, 12.94it/s]\n"
     ]
    },
    {
     "name": "stdout",
     "output_type": "stream",
     "text": [
      "Epoch 147/512: \n",
      "Train Loss = 0.54608, Train MSE = 0.96715, Train MAE = 0.75816, Train Acc = 0.72211\n",
      "Val Loss = 0.50936, Val MSE = 0.90495, Val MAE = 0.71864, Val Acc = 0.74104\n"
     ]
    },
    {
     "name": "stderr",
     "output_type": "stream",
     "text": [
      "Epoch 148/512: 100%|██████████████████████████████████████████████████████████████████████| 63/63 [00:04<00:00, 12.92it/s]\n"
     ]
    },
    {
     "name": "stdout",
     "output_type": "stream",
     "text": [
      "Epoch 148/512: \n",
      "Train Loss = 0.54676, Train MSE = 0.96972, Train MAE = 0.75844, Train Acc = 0.71813\n",
      "Val Loss = 0.51788, Val MSE = 0.92779, Val MAE = 0.72648, Val Acc = 0.73307\n"
     ]
    },
    {
     "name": "stderr",
     "output_type": "stream",
     "text": [
      "Epoch 149/512: 100%|██████████████████████████████████████████████████████████████████████| 63/63 [00:04<00:00, 12.97it/s]\n"
     ]
    },
    {
     "name": "stdout",
     "output_type": "stream",
     "text": [
      "Epoch 149/512: \n",
      "Train Loss = 0.53940, Train MSE = 0.95073, Train MAE = 0.75131, Train Acc = 0.71638\n",
      "Val Loss = 0.48844, Val MSE = 0.86578, Val MAE = 0.69105, Val Acc = 0.74303\n"
     ]
    },
    {
     "name": "stderr",
     "output_type": "stream",
     "text": [
      "Epoch 150/512: 100%|██████████████████████████████████████████████████████████████████████| 63/63 [00:04<00:00, 12.94it/s]\n"
     ]
    },
    {
     "name": "stdout",
     "output_type": "stream",
     "text": [
      "Epoch 150/512: \n",
      "Train Loss = 0.54206, Train MSE = 0.96393, Train MAE = 0.75133, Train Acc = 0.71912\n",
      "Val Loss = 0.50808, Val MSE = 0.88723, Val MAE = 0.71809, Val Acc = 0.74303\n"
     ]
    },
    {
     "name": "stderr",
     "output_type": "stream",
     "text": [
      "Epoch 151/512: 100%|██████████████████████████████████████████████████████████████████████| 63/63 [00:04<00:00, 12.95it/s]\n"
     ]
    },
    {
     "name": "stdout",
     "output_type": "stream",
     "text": [
      "Epoch 151/512: \n",
      "Train Loss = 0.53951, Train MSE = 0.95301, Train MAE = 0.75101, Train Acc = 0.71838\n",
      "Val Loss = 0.50587, Val MSE = 0.88664, Val MAE = 0.71605, Val Acc = 0.74104\n"
     ]
    },
    {
     "name": "stderr",
     "output_type": "stream",
     "text": [
      "Epoch 152/512: 100%|██████████████████████████████████████████████████████████████████████| 63/63 [00:04<00:00, 12.91it/s]\n"
     ]
    },
    {
     "name": "stdout",
     "output_type": "stream",
     "text": [
      "Epoch 152/512: \n",
      "Train Loss = 0.54371, Train MSE = 0.96201, Train MAE = 0.75654, Train Acc = 0.71838\n",
      "Val Loss = 0.50387, Val MSE = 0.87797, Val MAE = 0.71623, Val Acc = 0.74701\n"
     ]
    },
    {
     "name": "stderr",
     "output_type": "stream",
     "text": [
      "Epoch 153/512: 100%|██████████████████████████████████████████████████████████████████████| 63/63 [00:04<00:00, 12.93it/s]\n"
     ]
    },
    {
     "name": "stdout",
     "output_type": "stream",
     "text": [
      "Epoch 153/512: \n",
      "Train Loss = 0.53937, Train MSE = 0.95266, Train MAE = 0.75012, Train Acc = 0.72062\n",
      "Val Loss = 0.50284, Val MSE = 0.90020, Val MAE = 0.71132, Val Acc = 0.73307\n"
     ]
    },
    {
     "name": "stderr",
     "output_type": "stream",
     "text": [
      "Epoch 154/512: 100%|██████████████████████████████████████████████████████████████████████| 63/63 [00:04<00:00, 12.94it/s]\n"
     ]
    },
    {
     "name": "stdout",
     "output_type": "stream",
     "text": [
      "Epoch 154/512: \n",
      "Train Loss = 0.52335, Train MSE = 0.92979, Train MAE = 0.73267, Train Acc = 0.73207\n",
      "Val Loss = 0.50343, Val MSE = 0.88952, Val MAE = 0.71253, Val Acc = 0.73506\n"
     ]
    },
    {
     "name": "stderr",
     "output_type": "stream",
     "text": [
      "Epoch 155/512: 100%|██████████████████████████████████████████████████████████████████████| 63/63 [00:04<00:00, 12.79it/s]\n"
     ]
    },
    {
     "name": "stdout",
     "output_type": "stream",
     "text": [
      "Epoch 155/512: \n",
      "Train Loss = 0.52284, Train MSE = 0.92058, Train MAE = 0.73242, Train Acc = 0.73357\n",
      "Val Loss = 0.50191, Val MSE = 0.90253, Val MAE = 0.71021, Val Acc = 0.73705\n"
     ]
    },
    {
     "name": "stderr",
     "output_type": "stream",
     "text": [
      "Epoch 156/512: 100%|██████████████████████████████████████████████████████████████████████| 63/63 [00:04<00:00, 12.98it/s]\n"
     ]
    },
    {
     "name": "stdout",
     "output_type": "stream",
     "text": [
      "Epoch 156/512: \n",
      "Train Loss = 0.53038, Train MSE = 0.92887, Train MAE = 0.74129, Train Acc = 0.72933\n",
      "Val Loss = 0.50405, Val MSE = 0.89234, Val MAE = 0.71386, Val Acc = 0.74900\n"
     ]
    },
    {
     "name": "stderr",
     "output_type": "stream",
     "text": [
      "Epoch 157/512: 100%|██████████████████████████████████████████████████████████████████████| 63/63 [00:04<00:00, 12.93it/s]\n"
     ]
    },
    {
     "name": "stdout",
     "output_type": "stream",
     "text": [
      "Epoch 157/512: \n",
      "Train Loss = 0.53055, Train MSE = 0.94335, Train MAE = 0.73831, Train Acc = 0.72809\n",
      "Val Loss = 0.50650, Val MSE = 0.89669, Val MAE = 0.71694, Val Acc = 0.74502\n"
     ]
    },
    {
     "name": "stderr",
     "output_type": "stream",
     "text": [
      "Epoch 158/512: 100%|██████████████████████████████████████████████████████████████████████| 63/63 [00:04<00:00, 12.93it/s]\n"
     ]
    },
    {
     "name": "stdout",
     "output_type": "stream",
     "text": [
      "Epoch 158/512: \n",
      "Train Loss = 0.52638, Train MSE = 0.91997, Train MAE = 0.73601, Train Acc = 0.72859\n",
      "Val Loss = 0.50145, Val MSE = 0.88769, Val MAE = 0.70995, Val Acc = 0.74303\n"
     ]
    },
    {
     "name": "stderr",
     "output_type": "stream",
     "text": [
      "Epoch 159/512: 100%|██████████████████████████████████████████████████████████████████████| 63/63 [00:04<00:00, 12.92it/s]\n"
     ]
    },
    {
     "name": "stdout",
     "output_type": "stream",
     "text": [
      "Epoch 159/512: \n",
      "Train Loss = 0.52239, Train MSE = 0.90950, Train MAE = 0.73168, Train Acc = 0.72859\n",
      "Val Loss = 0.50370, Val MSE = 0.87819, Val MAE = 0.71554, Val Acc = 0.74303\n"
     ]
    },
    {
     "name": "stderr",
     "output_type": "stream",
     "text": [
      "Epoch 160/512: 100%|██████████████████████████████████████████████████████████████████████| 63/63 [00:04<00:00, 12.96it/s]\n"
     ]
    },
    {
     "name": "stdout",
     "output_type": "stream",
     "text": [
      "Epoch 160/512: \n",
      "Train Loss = 0.53970, Train MSE = 0.95163, Train MAE = 0.75059, Train Acc = 0.72037\n",
      "Val Loss = 0.49886, Val MSE = 0.87863, Val MAE = 0.70792, Val Acc = 0.75100\n"
     ]
    },
    {
     "name": "stderr",
     "output_type": "stream",
     "text": [
      "Epoch 161/512: 100%|██████████████████████████████████████████████████████████████████████| 63/63 [00:04<00:00, 12.94it/s]\n"
     ]
    },
    {
     "name": "stdout",
     "output_type": "stream",
     "text": [
      "Epoch 161/512: \n",
      "Train Loss = 0.52878, Train MSE = 0.92363, Train MAE = 0.73832, Train Acc = 0.73058\n",
      "Val Loss = 0.50570, Val MSE = 0.89436, Val MAE = 0.71509, Val Acc = 0.74502\n"
     ]
    },
    {
     "name": "stderr",
     "output_type": "stream",
     "text": [
      "Epoch 162/512: 100%|██████████████████████████████████████████████████████████████████████| 63/63 [00:04<00:00, 13.00it/s]\n"
     ]
    },
    {
     "name": "stdout",
     "output_type": "stream",
     "text": [
      "Epoch 162/512: \n",
      "Train Loss = 0.53160, Train MSE = 0.93217, Train MAE = 0.74348, Train Acc = 0.72261\n",
      "Val Loss = 0.49719, Val MSE = 0.87598, Val MAE = 0.70444, Val Acc = 0.74502\n"
     ]
    },
    {
     "name": "stderr",
     "output_type": "stream",
     "text": [
      "Epoch 163/512: 100%|██████████████████████████████████████████████████████████████████████| 63/63 [00:04<00:00, 13.03it/s]\n"
     ]
    },
    {
     "name": "stdout",
     "output_type": "stream",
     "text": [
      "Epoch 163/512: \n",
      "Train Loss = 0.53010, Train MSE = 0.92989, Train MAE = 0.74154, Train Acc = 0.72311\n",
      "Val Loss = 0.49375, Val MSE = 0.86817, Val MAE = 0.70119, Val Acc = 0.75299\n"
     ]
    },
    {
     "name": "stderr",
     "output_type": "stream",
     "text": [
      "Epoch 164/512: 100%|██████████████████████████████████████████████████████████████████████| 63/63 [00:04<00:00, 12.98it/s]\n"
     ]
    },
    {
     "name": "stdout",
     "output_type": "stream",
     "text": [
      "Epoch 164/512: \n",
      "Train Loss = 0.52479, Train MSE = 0.92400, Train MAE = 0.73525, Train Acc = 0.72610\n",
      "Val Loss = 0.49648, Val MSE = 0.87638, Val MAE = 0.70551, Val Acc = 0.74303\n"
     ]
    },
    {
     "name": "stderr",
     "output_type": "stream",
     "text": [
      "Epoch 165/512: 100%|██████████████████████████████████████████████████████████████████████| 63/63 [00:04<00:00, 12.97it/s]\n"
     ]
    },
    {
     "name": "stdout",
     "output_type": "stream",
     "text": [
      "Epoch 165/512: \n",
      "Train Loss = 0.52485, Train MSE = 0.92154, Train MAE = 0.73443, Train Acc = 0.73456\n",
      "Val Loss = 0.49572, Val MSE = 0.87196, Val MAE = 0.70397, Val Acc = 0.74502\n"
     ]
    },
    {
     "name": "stderr",
     "output_type": "stream",
     "text": [
      "Epoch 166/512: 100%|██████████████████████████████████████████████████████████████████████| 63/63 [00:04<00:00, 12.99it/s]\n"
     ]
    },
    {
     "name": "stdout",
     "output_type": "stream",
     "text": [
      "Epoch 166/512: \n",
      "Train Loss = 0.52233, Train MSE = 0.91610, Train MAE = 0.73125, Train Acc = 0.72983\n",
      "Val Loss = 0.49594, Val MSE = 0.87424, Val MAE = 0.70417, Val Acc = 0.74502\n"
     ]
    },
    {
     "name": "stderr",
     "output_type": "stream",
     "text": [
      "Epoch 167/512: 100%|██████████████████████████████████████████████████████████████████████| 63/63 [00:04<00:00, 12.91it/s]\n"
     ]
    },
    {
     "name": "stdout",
     "output_type": "stream",
     "text": [
      "Epoch 167/512: \n",
      "Train Loss = 0.52330, Train MSE = 0.92575, Train MAE = 0.73264, Train Acc = 0.73182\n",
      "Val Loss = 0.50202, Val MSE = 0.88192, Val MAE = 0.71246, Val Acc = 0.74502\n"
     ]
    },
    {
     "name": "stderr",
     "output_type": "stream",
     "text": [
      "Epoch 168/512: 100%|██████████████████████████████████████████████████████████████████████| 63/63 [00:04<00:00, 13.03it/s]\n"
     ]
    },
    {
     "name": "stdout",
     "output_type": "stream",
     "text": [
      "Epoch 168/512: \n",
      "Train Loss = 0.52752, Train MSE = 0.92378, Train MAE = 0.73683, Train Acc = 0.72261\n",
      "Val Loss = 0.49220, Val MSE = 0.86012, Val MAE = 0.69803, Val Acc = 0.75498\n"
     ]
    },
    {
     "name": "stderr",
     "output_type": "stream",
     "text": [
      "Epoch 169/512: 100%|██████████████████████████████████████████████████████████████████████| 63/63 [00:04<00:00, 12.99it/s]\n"
     ]
    },
    {
     "name": "stdout",
     "output_type": "stream",
     "text": [
      "Epoch 169/512: \n",
      "Train Loss = 0.52239, Train MSE = 0.92021, Train MAE = 0.72956, Train Acc = 0.72734\n",
      "Val Loss = 0.49396, Val MSE = 0.87418, Val MAE = 0.70020, Val Acc = 0.75299\n"
     ]
    },
    {
     "name": "stderr",
     "output_type": "stream",
     "text": [
      "Epoch 170/512: 100%|██████████████████████████████████████████████████████████████████████| 63/63 [00:04<00:00, 12.95it/s]\n"
     ]
    },
    {
     "name": "stdout",
     "output_type": "stream",
     "text": [
      "Epoch 170/512: \n",
      "Train Loss = 0.51915, Train MSE = 0.90322, Train MAE = 0.72918, Train Acc = 0.73780\n",
      "Val Loss = 0.49746, Val MSE = 0.88055, Val MAE = 0.70463, Val Acc = 0.73904\n"
     ]
    },
    {
     "name": "stderr",
     "output_type": "stream",
     "text": [
      "Epoch 171/512: 100%|██████████████████████████████████████████████████████████████████████| 63/63 [00:04<00:00, 13.01it/s]\n"
     ]
    },
    {
     "name": "stdout",
     "output_type": "stream",
     "text": [
      "Epoch 171/512: \n",
      "Train Loss = 0.52115, Train MSE = 0.92126, Train MAE = 0.73023, Train Acc = 0.73157\n",
      "Val Loss = 0.49985, Val MSE = 0.87146, Val MAE = 0.70983, Val Acc = 0.74701\n"
     ]
    },
    {
     "name": "stderr",
     "output_type": "stream",
     "text": [
      "Epoch 172/512: 100%|██████████████████████████████████████████████████████████████████████| 63/63 [00:04<00:00, 13.02it/s]\n"
     ]
    },
    {
     "name": "stdout",
     "output_type": "stream",
     "text": [
      "Epoch 172/512: \n",
      "Train Loss = 0.53103, Train MSE = 0.94220, Train MAE = 0.74136, Train Acc = 0.72385\n",
      "Val Loss = 0.49387, Val MSE = 0.85609, Val MAE = 0.69987, Val Acc = 0.75100\n"
     ]
    },
    {
     "name": "stderr",
     "output_type": "stream",
     "text": [
      "Epoch 173/512: 100%|██████████████████████████████████████████████████████████████████████| 63/63 [00:04<00:00, 12.95it/s]\n"
     ]
    },
    {
     "name": "stdout",
     "output_type": "stream",
     "text": [
      "Epoch 173/512: \n",
      "Train Loss = 0.53440, Train MSE = 0.94024, Train MAE = 0.74528, Train Acc = 0.72385\n",
      "Val Loss = 0.49348, Val MSE = 0.86949, Val MAE = 0.69732, Val Acc = 0.74701\n"
     ]
    },
    {
     "name": "stderr",
     "output_type": "stream",
     "text": [
      "Epoch 174/512: 100%|██████████████████████████████████████████████████████████████████████| 63/63 [00:04<00:00, 13.03it/s]\n"
     ]
    },
    {
     "name": "stdout",
     "output_type": "stream",
     "text": [
      "Epoch 174/512: \n",
      "Train Loss = 0.52669, Train MSE = 0.92641, Train MAE = 0.73604, Train Acc = 0.73381\n",
      "Val Loss = 0.49037, Val MSE = 0.84356, Val MAE = 0.69679, Val Acc = 0.75498\n"
     ]
    },
    {
     "name": "stderr",
     "output_type": "stream",
     "text": [
      "Epoch 175/512: 100%|██████████████████████████████████████████████████████████████████████| 63/63 [00:04<00:00, 13.03it/s]\n"
     ]
    },
    {
     "name": "stdout",
     "output_type": "stream",
     "text": [
      "Epoch 175/512: \n",
      "Train Loss = 0.52176, Train MSE = 0.91654, Train MAE = 0.73105, Train Acc = 0.73531\n",
      "Val Loss = 0.49813, Val MSE = 0.87662, Val MAE = 0.70552, Val Acc = 0.74502\n"
     ]
    },
    {
     "name": "stderr",
     "output_type": "stream",
     "text": [
      "Epoch 176/512: 100%|██████████████████████████████████████████████████████████████████████| 63/63 [00:04<00:00, 13.02it/s]\n"
     ]
    },
    {
     "name": "stdout",
     "output_type": "stream",
     "text": [
      "Epoch 176/512: \n",
      "Train Loss = 0.51866, Train MSE = 0.90741, Train MAE = 0.72787, Train Acc = 0.73630\n",
      "Val Loss = 0.50259, Val MSE = 0.88812, Val MAE = 0.71025, Val Acc = 0.75697\n"
     ]
    },
    {
     "name": "stderr",
     "output_type": "stream",
     "text": [
      "Epoch 177/512: 100%|██████████████████████████████████████████████████████████████████████| 63/63 [00:04<00:00, 12.93it/s]\n"
     ]
    },
    {
     "name": "stdout",
     "output_type": "stream",
     "text": [
      "Epoch 177/512: \n",
      "Train Loss = 0.51319, Train MSE = 0.89955, Train MAE = 0.72174, Train Acc = 0.73979\n",
      "Val Loss = 0.48866, Val MSE = 0.84957, Val MAE = 0.69477, Val Acc = 0.75100\n"
     ]
    },
    {
     "name": "stderr",
     "output_type": "stream",
     "text": [
      "Epoch 178/512: 100%|██████████████████████████████████████████████████████████████████████| 63/63 [00:04<00:00, 12.99it/s]\n"
     ]
    },
    {
     "name": "stdout",
     "output_type": "stream",
     "text": [
      "Epoch 178/512: \n",
      "Train Loss = 0.51971, Train MSE = 0.91508, Train MAE = 0.72933, Train Acc = 0.74153\n",
      "Val Loss = 0.48940, Val MSE = 0.84606, Val MAE = 0.69723, Val Acc = 0.75697\n"
     ]
    },
    {
     "name": "stderr",
     "output_type": "stream",
     "text": [
      "Epoch 179/512: 100%|██████████████████████████████████████████████████████████████████████| 63/63 [00:04<00:00, 12.99it/s]\n"
     ]
    },
    {
     "name": "stdout",
     "output_type": "stream",
     "text": [
      "Epoch 179/512: \n",
      "Train Loss = 0.51757, Train MSE = 0.89973, Train MAE = 0.72579, Train Acc = 0.73357\n",
      "Val Loss = 0.48597, Val MSE = 0.84541, Val MAE = 0.69223, Val Acc = 0.74701\n"
     ]
    },
    {
     "name": "stderr",
     "output_type": "stream",
     "text": [
      "Epoch 180/512: 100%|██████████████████████████████████████████████████████████████████████| 63/63 [00:04<00:00, 12.85it/s]\n"
     ]
    },
    {
     "name": "stdout",
     "output_type": "stream",
     "text": [
      "Epoch 180/512: \n",
      "Train Loss = 0.51969, Train MSE = 0.90231, Train MAE = 0.72978, Train Acc = 0.73406\n",
      "Val Loss = 0.48935, Val MSE = 0.84259, Val MAE = 0.69759, Val Acc = 0.74104\n"
     ]
    },
    {
     "name": "stderr",
     "output_type": "stream",
     "text": [
      "Epoch 181/512: 100%|██████████████████████████████████████████████████████████████████████| 63/63 [00:04<00:00, 12.95it/s]\n"
     ]
    },
    {
     "name": "stdout",
     "output_type": "stream",
     "text": [
      "Epoch 181/512: \n",
      "Train Loss = 0.52095, Train MSE = 0.90917, Train MAE = 0.73135, Train Acc = 0.73506\n",
      "Val Loss = 0.48630, Val MSE = 0.84509, Val MAE = 0.69173, Val Acc = 0.72908\n"
     ]
    },
    {
     "name": "stderr",
     "output_type": "stream",
     "text": [
      "Epoch 182/512: 100%|██████████████████████████████████████████████████████████████████████| 63/63 [00:04<00:00, 12.94it/s]\n"
     ]
    },
    {
     "name": "stdout",
     "output_type": "stream",
     "text": [
      "Epoch 182/512: \n",
      "Train Loss = 0.51561, Train MSE = 0.89939, Train MAE = 0.72436, Train Acc = 0.72834\n",
      "Val Loss = 0.48964, Val MSE = 0.84732, Val MAE = 0.69868, Val Acc = 0.73705\n"
     ]
    },
    {
     "name": "stderr",
     "output_type": "stream",
     "text": [
      "Epoch 183/512: 100%|██████████████████████████████████████████████████████████████████████| 63/63 [00:04<00:00, 12.91it/s]\n"
     ]
    },
    {
     "name": "stdout",
     "output_type": "stream",
     "text": [
      "Epoch 183/512: \n",
      "Train Loss = 0.51151, Train MSE = 0.89007, Train MAE = 0.72087, Train Acc = 0.73929\n",
      "Val Loss = 0.48832, Val MSE = 0.84026, Val MAE = 0.69286, Val Acc = 0.74104\n"
     ]
    },
    {
     "name": "stderr",
     "output_type": "stream",
     "text": [
      "Epoch 184/512: 100%|██████████████████████████████████████████████████████████████████████| 63/63 [00:04<00:00, 12.96it/s]\n"
     ]
    },
    {
     "name": "stdout",
     "output_type": "stream",
     "text": [
      "Epoch 184/512: \n",
      "Train Loss = 0.51821, Train MSE = 0.92246, Train MAE = 0.72514, Train Acc = 0.73630\n",
      "Val Loss = 0.48658, Val MSE = 0.84446, Val MAE = 0.69307, Val Acc = 0.75697\n"
     ]
    },
    {
     "name": "stderr",
     "output_type": "stream",
     "text": [
      "Epoch 185/512: 100%|██████████████████████████████████████████████████████████████████████| 63/63 [00:04<00:00, 12.90it/s]\n"
     ]
    },
    {
     "name": "stdout",
     "output_type": "stream",
     "text": [
      "Epoch 185/512: \n",
      "Train Loss = 0.52062, Train MSE = 0.90758, Train MAE = 0.72993, Train Acc = 0.73680\n",
      "Val Loss = 0.48926, Val MSE = 0.84909, Val MAE = 0.69863, Val Acc = 0.74900\n"
     ]
    },
    {
     "name": "stderr",
     "output_type": "stream",
     "text": [
      "Epoch 186/512: 100%|██████████████████████████████████████████████████████████████████████| 63/63 [00:04<00:00, 12.87it/s]\n"
     ]
    },
    {
     "name": "stdout",
     "output_type": "stream",
     "text": [
      "Epoch 186/512: \n",
      "Train Loss = 0.51906, Train MSE = 0.90851, Train MAE = 0.72861, Train Acc = 0.73506\n",
      "Val Loss = 0.48231, Val MSE = 0.83789, Val MAE = 0.69025, Val Acc = 0.74701\n"
     ]
    },
    {
     "name": "stderr",
     "output_type": "stream",
     "text": [
      "Epoch 187/512: 100%|██████████████████████████████████████████████████████████████████████| 63/63 [00:04<00:00, 12.92it/s]\n"
     ]
    },
    {
     "name": "stdout",
     "output_type": "stream",
     "text": [
      "Epoch 187/512: \n",
      "Train Loss = 0.51288, Train MSE = 0.89412, Train MAE = 0.72307, Train Acc = 0.74029\n",
      "Val Loss = 0.48034, Val MSE = 0.84072, Val MAE = 0.68661, Val Acc = 0.75896\n"
     ]
    },
    {
     "name": "stderr",
     "output_type": "stream",
     "text": [
      "Epoch 188/512: 100%|██████████████████████████████████████████████████████████████████████| 63/63 [00:04<00:00, 12.92it/s]\n"
     ]
    },
    {
     "name": "stdout",
     "output_type": "stream",
     "text": [
      "Epoch 188/512: \n",
      "Train Loss = 0.52723, Train MSE = 0.93312, Train MAE = 0.73852, Train Acc = 0.73581\n",
      "Val Loss = 0.48564, Val MSE = 0.83923, Val MAE = 0.69460, Val Acc = 0.75100\n"
     ]
    },
    {
     "name": "stderr",
     "output_type": "stream",
     "text": [
      "Epoch 189/512: 100%|██████████████████████████████████████████████████████████████████████| 63/63 [00:04<00:00, 12.88it/s]\n"
     ]
    },
    {
     "name": "stdout",
     "output_type": "stream",
     "text": [
      "Epoch 189/512: \n",
      "Train Loss = 0.51231, Train MSE = 0.89682, Train MAE = 0.72084, Train Acc = 0.73879\n",
      "Val Loss = 0.48307, Val MSE = 0.82501, Val MAE = 0.69336, Val Acc = 0.76096\n"
     ]
    },
    {
     "name": "stderr",
     "output_type": "stream",
     "text": [
      "Epoch 190/512: 100%|██████████████████████████████████████████████████████████████████████| 63/63 [00:04<00:00, 12.79it/s]\n"
     ]
    },
    {
     "name": "stdout",
     "output_type": "stream",
     "text": [
      "Epoch 190/512: \n",
      "Train Loss = 0.52988, Train MSE = 0.94293, Train MAE = 0.73981, Train Acc = 0.73357\n",
      "Val Loss = 0.48734, Val MSE = 0.83965, Val MAE = 0.69452, Val Acc = 0.75697\n"
     ]
    },
    {
     "name": "stderr",
     "output_type": "stream",
     "text": [
      "Epoch 191/512: 100%|██████████████████████████████████████████████████████████████████████| 63/63 [00:04<00:00, 12.91it/s]\n"
     ]
    },
    {
     "name": "stdout",
     "output_type": "stream",
     "text": [
      "Epoch 191/512: \n",
      "Train Loss = 0.51601, Train MSE = 0.90105, Train MAE = 0.72591, Train Acc = 0.73730\n",
      "Val Loss = 0.47962, Val MSE = 0.83060, Val MAE = 0.68677, Val Acc = 0.75896\n"
     ]
    },
    {
     "name": "stderr",
     "output_type": "stream",
     "text": [
      "Epoch 192/512: 100%|██████████████████████████████████████████████████████████████████████| 63/63 [00:04<00:00, 12.92it/s]\n"
     ]
    },
    {
     "name": "stdout",
     "output_type": "stream",
     "text": [
      "Epoch 192/512: \n",
      "Train Loss = 0.51865, Train MSE = 0.90770, Train MAE = 0.72714, Train Acc = 0.73581\n",
      "Val Loss = 0.48626, Val MSE = 0.83856, Val MAE = 0.69382, Val Acc = 0.76494\n"
     ]
    },
    {
     "name": "stderr",
     "output_type": "stream",
     "text": [
      "Epoch 193/512: 100%|██████████████████████████████████████████████████████████████████████| 63/63 [00:04<00:00, 12.97it/s]\n"
     ]
    },
    {
     "name": "stdout",
     "output_type": "stream",
     "text": [
      "Epoch 193/512: \n",
      "Train Loss = 0.52213, Train MSE = 0.92484, Train MAE = 0.73110, Train Acc = 0.73680\n",
      "Val Loss = 0.48001, Val MSE = 0.81810, Val MAE = 0.68851, Val Acc = 0.76096\n"
     ]
    },
    {
     "name": "stderr",
     "output_type": "stream",
     "text": [
      "Epoch 194/512: 100%|██████████████████████████████████████████████████████████████████████| 63/63 [00:04<00:00, 12.96it/s]\n"
     ]
    },
    {
     "name": "stdout",
     "output_type": "stream",
     "text": [
      "Epoch 194/512: \n",
      "Train Loss = 0.52729, Train MSE = 0.92791, Train MAE = 0.73746, Train Acc = 0.72908\n",
      "Val Loss = 0.48867, Val MSE = 0.85051, Val MAE = 0.69793, Val Acc = 0.75896\n"
     ]
    },
    {
     "name": "stderr",
     "output_type": "stream",
     "text": [
      "Epoch 195/512: 100%|██████████████████████████████████████████████████████████████████████| 63/63 [00:04<00:00, 12.87it/s]\n"
     ]
    },
    {
     "name": "stdout",
     "output_type": "stream",
     "text": [
      "Epoch 195/512: \n",
      "Train Loss = 0.50847, Train MSE = 0.88989, Train MAE = 0.71692, Train Acc = 0.74477\n",
      "Val Loss = 0.48191, Val MSE = 0.83428, Val MAE = 0.68902, Val Acc = 0.74701\n"
     ]
    },
    {
     "name": "stderr",
     "output_type": "stream",
     "text": [
      "Epoch 196/512: 100%|██████████████████████████████████████████████████████████████████████| 63/63 [00:04<00:00, 12.95it/s]\n"
     ]
    },
    {
     "name": "stdout",
     "output_type": "stream",
     "text": [
      "Epoch 196/512: \n",
      "Train Loss = 0.51089, Train MSE = 0.89023, Train MAE = 0.71911, Train Acc = 0.73954\n",
      "Val Loss = 0.48192, Val MSE = 0.83446, Val MAE = 0.68895, Val Acc = 0.76295\n"
     ]
    },
    {
     "name": "stderr",
     "output_type": "stream",
     "text": [
      "Epoch 197/512: 100%|██████████████████████████████████████████████████████████████████████| 63/63 [00:04<00:00, 12.92it/s]\n"
     ]
    },
    {
     "name": "stdout",
     "output_type": "stream",
     "text": [
      "Epoch 197/512: \n",
      "Train Loss = 0.51125, Train MSE = 0.89698, Train MAE = 0.71914, Train Acc = 0.74577\n",
      "Val Loss = 0.48006, Val MSE = 0.83797, Val MAE = 0.68601, Val Acc = 0.74900\n"
     ]
    },
    {
     "name": "stderr",
     "output_type": "stream",
     "text": [
      "Epoch 198/512: 100%|██████████████████████████████████████████████████████████████████████| 63/63 [00:04<00:00, 12.95it/s]\n"
     ]
    },
    {
     "name": "stdout",
     "output_type": "stream",
     "text": [
      "Epoch 198/512: \n",
      "Train Loss = 0.49705, Train MSE = 0.85276, Train MAE = 0.70519, Train Acc = 0.75125\n",
      "Val Loss = 0.48472, Val MSE = 0.82943, Val MAE = 0.69327, Val Acc = 0.75299\n"
     ]
    },
    {
     "name": "stderr",
     "output_type": "stream",
     "text": [
      "Epoch 199/512: 100%|██████████████████████████████████████████████████████████████████████| 63/63 [00:04<00:00, 13.03it/s]\n"
     ]
    },
    {
     "name": "stdout",
     "output_type": "stream",
     "text": [
      "Epoch 199/512: \n",
      "Train Loss = 0.51541, Train MSE = 0.90610, Train MAE = 0.72484, Train Acc = 0.73680\n",
      "Val Loss = 0.48420, Val MSE = 0.83694, Val MAE = 0.69250, Val Acc = 0.75697\n"
     ]
    },
    {
     "name": "stderr",
     "output_type": "stream",
     "text": [
      "Epoch 200/512: 100%|██████████████████████████████████████████████████████████████████████| 63/63 [00:04<00:00, 12.86it/s]\n"
     ]
    },
    {
     "name": "stdout",
     "output_type": "stream",
     "text": [
      "Epoch 200/512: \n",
      "Train Loss = 0.50791, Train MSE = 0.88093, Train MAE = 0.71700, Train Acc = 0.74701\n",
      "Val Loss = 0.48296, Val MSE = 0.83712, Val MAE = 0.69123, Val Acc = 0.75299\n"
     ]
    },
    {
     "name": "stderr",
     "output_type": "stream",
     "text": [
      "Epoch 201/512: 100%|██████████████████████████████████████████████████████████████████████| 63/63 [00:04<00:00, 12.92it/s]\n"
     ]
    },
    {
     "name": "stdout",
     "output_type": "stream",
     "text": [
      "Epoch 201/512: \n",
      "Train Loss = 0.51471, Train MSE = 0.91520, Train MAE = 0.72246, Train Acc = 0.73282\n",
      "Val Loss = 0.48185, Val MSE = 0.82528, Val MAE = 0.69126, Val Acc = 0.75498\n"
     ]
    },
    {
     "name": "stderr",
     "output_type": "stream",
     "text": [
      "Epoch 202/512: 100%|██████████████████████████████████████████████████████████████████████| 63/63 [00:04<00:00, 12.85it/s]\n"
     ]
    },
    {
     "name": "stdout",
     "output_type": "stream",
     "text": [
      "Epoch 202/512: \n",
      "Train Loss = 0.51508, Train MSE = 0.90447, Train MAE = 0.72272, Train Acc = 0.73904\n",
      "Val Loss = 0.48022, Val MSE = 0.81973, Val MAE = 0.68688, Val Acc = 0.75697\n"
     ]
    },
    {
     "name": "stderr",
     "output_type": "stream",
     "text": [
      "Epoch 203/512: 100%|██████████████████████████████████████████████████████████████████████| 63/63 [00:04<00:00, 12.97it/s]\n"
     ]
    },
    {
     "name": "stdout",
     "output_type": "stream",
     "text": [
      "Epoch 203/512: \n",
      "Train Loss = 0.50758, Train MSE = 0.88702, Train MAE = 0.71647, Train Acc = 0.74128\n",
      "Val Loss = 0.47927, Val MSE = 0.82874, Val MAE = 0.68531, Val Acc = 0.75100\n"
     ]
    },
    {
     "name": "stderr",
     "output_type": "stream",
     "text": [
      "Epoch 204/512: 100%|██████████████████████████████████████████████████████████████████████| 63/63 [00:04<00:00, 12.93it/s]\n"
     ]
    },
    {
     "name": "stdout",
     "output_type": "stream",
     "text": [
      "Epoch 204/512: \n",
      "Train Loss = 0.50708, Train MSE = 0.88741, Train MAE = 0.71482, Train Acc = 0.74303\n",
      "Val Loss = 0.48281, Val MSE = 0.84416, Val MAE = 0.68848, Val Acc = 0.75299\n"
     ]
    },
    {
     "name": "stderr",
     "output_type": "stream",
     "text": [
      "Epoch 205/512: 100%|██████████████████████████████████████████████████████████████████████| 63/63 [00:04<00:00, 12.84it/s]\n"
     ]
    },
    {
     "name": "stdout",
     "output_type": "stream",
     "text": [
      "Epoch 205/512: \n",
      "Train Loss = 0.50492, Train MSE = 0.88307, Train MAE = 0.71393, Train Acc = 0.74851\n",
      "Val Loss = 0.47966, Val MSE = 0.82958, Val MAE = 0.68706, Val Acc = 0.75498\n"
     ]
    },
    {
     "name": "stderr",
     "output_type": "stream",
     "text": [
      "Epoch 206/512: 100%|██████████████████████████████████████████████████████████████████████| 63/63 [00:04<00:00, 12.95it/s]\n"
     ]
    },
    {
     "name": "stdout",
     "output_type": "stream",
     "text": [
      "Epoch 206/512: \n",
      "Train Loss = 0.50936, Train MSE = 0.88081, Train MAE = 0.71895, Train Acc = 0.73904\n",
      "Val Loss = 0.48184, Val MSE = 0.83274, Val MAE = 0.68981, Val Acc = 0.75896\n"
     ]
    },
    {
     "name": "stderr",
     "output_type": "stream",
     "text": [
      "Epoch 207/512: 100%|██████████████████████████████████████████████████████████████████████| 63/63 [00:04<00:00, 12.97it/s]\n"
     ]
    },
    {
     "name": "stdout",
     "output_type": "stream",
     "text": [
      "Epoch 207/512: \n",
      "Train Loss = 0.50990, Train MSE = 0.88552, Train MAE = 0.71906, Train Acc = 0.74253\n",
      "Val Loss = 0.47781, Val MSE = 0.82620, Val MAE = 0.68492, Val Acc = 0.75697\n"
     ]
    },
    {
     "name": "stderr",
     "output_type": "stream",
     "text": [
      "Epoch 208/512: 100%|██████████████████████████████████████████████████████████████████████| 63/63 [00:04<00:00, 13.01it/s]\n"
     ]
    },
    {
     "name": "stdout",
     "output_type": "stream",
     "text": [
      "Epoch 208/512: \n",
      "Train Loss = 0.51544, Train MSE = 0.90740, Train MAE = 0.72141, Train Acc = 0.73506\n",
      "Val Loss = 0.47254, Val MSE = 0.81210, Val MAE = 0.68057, Val Acc = 0.75299\n"
     ]
    },
    {
     "name": "stderr",
     "output_type": "stream",
     "text": [
      "Epoch 209/512: 100%|██████████████████████████████████████████████████████████████████████| 63/63 [00:04<00:00, 13.03it/s]\n"
     ]
    },
    {
     "name": "stdout",
     "output_type": "stream",
     "text": [
      "Epoch 209/512: \n",
      "Train Loss = 0.50991, Train MSE = 0.89417, Train MAE = 0.71872, Train Acc = 0.74402\n",
      "Val Loss = 0.47287, Val MSE = 0.80743, Val MAE = 0.67921, Val Acc = 0.76693\n"
     ]
    },
    {
     "name": "stderr",
     "output_type": "stream",
     "text": [
      "Epoch 210/512: 100%|██████████████████████████████████████████████████████████████████████| 63/63 [00:04<00:00, 13.00it/s]\n"
     ]
    },
    {
     "name": "stdout",
     "output_type": "stream",
     "text": [
      "Epoch 210/512: \n",
      "Train Loss = 0.49996, Train MSE = 0.87605, Train MAE = 0.70558, Train Acc = 0.74826\n",
      "Val Loss = 0.47424, Val MSE = 0.80613, Val MAE = 0.68211, Val Acc = 0.75498\n"
     ]
    },
    {
     "name": "stderr",
     "output_type": "stream",
     "text": [
      "Epoch 211/512: 100%|██████████████████████████████████████████████████████████████████████| 63/63 [00:04<00:00, 12.99it/s]\n"
     ]
    },
    {
     "name": "stdout",
     "output_type": "stream",
     "text": [
      "Epoch 211/512: \n",
      "Train Loss = 0.49784, Train MSE = 0.86518, Train MAE = 0.70670, Train Acc = 0.75498\n",
      "Val Loss = 0.47363, Val MSE = 0.81146, Val MAE = 0.68118, Val Acc = 0.76693\n"
     ]
    },
    {
     "name": "stderr",
     "output_type": "stream",
     "text": [
      "Epoch 212/512: 100%|██████████████████████████████████████████████████████████████████████| 63/63 [00:04<00:00, 12.97it/s]\n"
     ]
    },
    {
     "name": "stdout",
     "output_type": "stream",
     "text": [
      "Epoch 212/512: \n",
      "Train Loss = 0.49581, Train MSE = 0.84981, Train MAE = 0.70445, Train Acc = 0.75349\n",
      "Val Loss = 0.47086, Val MSE = 0.80489, Val MAE = 0.67799, Val Acc = 0.76494\n"
     ]
    },
    {
     "name": "stderr",
     "output_type": "stream",
     "text": [
      "Epoch 213/512: 100%|██████████████████████████████████████████████████████████████████████| 63/63 [00:04<00:00, 12.99it/s]\n"
     ]
    },
    {
     "name": "stdout",
     "output_type": "stream",
     "text": [
      "Epoch 213/512: \n",
      "Train Loss = 0.50136, Train MSE = 0.87085, Train MAE = 0.70791, Train Acc = 0.74552\n",
      "Val Loss = 0.47308, Val MSE = 0.81137, Val MAE = 0.68046, Val Acc = 0.75299\n"
     ]
    },
    {
     "name": "stderr",
     "output_type": "stream",
     "text": [
      "Epoch 214/512: 100%|██████████████████████████████████████████████████████████████████████| 63/63 [00:04<00:00, 12.97it/s]\n"
     ]
    },
    {
     "name": "stdout",
     "output_type": "stream",
     "text": [
      "Epoch 214/512: \n",
      "Train Loss = 0.50354, Train MSE = 0.89023, Train MAE = 0.71256, Train Acc = 0.74751\n",
      "Val Loss = 0.47436, Val MSE = 0.81546, Val MAE = 0.68139, Val Acc = 0.76096\n"
     ]
    },
    {
     "name": "stderr",
     "output_type": "stream",
     "text": [
      "Epoch 215/512: 100%|██████████████████████████████████████████████████████████████████████| 63/63 [00:04<00:00, 13.03it/s]\n"
     ]
    },
    {
     "name": "stdout",
     "output_type": "stream",
     "text": [
      "Epoch 215/512: \n",
      "Train Loss = 0.50103, Train MSE = 0.87414, Train MAE = 0.70984, Train Acc = 0.75498\n",
      "Val Loss = 0.47820, Val MSE = 0.82002, Val MAE = 0.68692, Val Acc = 0.76096\n"
     ]
    },
    {
     "name": "stderr",
     "output_type": "stream",
     "text": [
      "Epoch 216/512: 100%|██████████████████████████████████████████████████████████████████████| 63/63 [00:04<00:00, 13.01it/s]\n"
     ]
    },
    {
     "name": "stdout",
     "output_type": "stream",
     "text": [
      "Epoch 216/512: \n",
      "Train Loss = 0.51260, Train MSE = 0.90461, Train MAE = 0.72116, Train Acc = 0.73855\n",
      "Val Loss = 0.47598, Val MSE = 0.81853, Val MAE = 0.68378, Val Acc = 0.76693\n"
     ]
    },
    {
     "name": "stderr",
     "output_type": "stream",
     "text": [
      "Epoch 217/512: 100%|██████████████████████████████████████████████████████████████████████| 63/63 [00:04<00:00, 12.95it/s]\n"
     ]
    },
    {
     "name": "stdout",
     "output_type": "stream",
     "text": [
      "Epoch 217/512: \n",
      "Train Loss = 0.49814, Train MSE = 0.86954, Train MAE = 0.70472, Train Acc = 0.75523\n",
      "Val Loss = 0.47634, Val MSE = 0.81865, Val MAE = 0.68388, Val Acc = 0.74502\n"
     ]
    },
    {
     "name": "stderr",
     "output_type": "stream",
     "text": [
      "Epoch 218/512: 100%|██████████████████████████████████████████████████████████████████████| 63/63 [00:04<00:00, 12.97it/s]\n"
     ]
    },
    {
     "name": "stdout",
     "output_type": "stream",
     "text": [
      "Epoch 218/512: \n",
      "Train Loss = 0.50135, Train MSE = 0.86860, Train MAE = 0.70896, Train Acc = 0.74701\n",
      "Val Loss = 0.47587, Val MSE = 0.81881, Val MAE = 0.68265, Val Acc = 0.75697\n"
     ]
    },
    {
     "name": "stderr",
     "output_type": "stream",
     "text": [
      "Epoch 219/512: 100%|██████████████████████████████████████████████████████████████████████| 63/63 [00:04<00:00, 13.02it/s]\n"
     ]
    },
    {
     "name": "stdout",
     "output_type": "stream",
     "text": [
      "Epoch 219/512: \n",
      "Train Loss = 0.50474, Train MSE = 0.88933, Train MAE = 0.71159, Train Acc = 0.74178\n",
      "Val Loss = 0.47728, Val MSE = 0.82108, Val MAE = 0.68522, Val Acc = 0.75498\n"
     ]
    },
    {
     "name": "stderr",
     "output_type": "stream",
     "text": [
      "Epoch 220/512: 100%|██████████████████████████████████████████████████████████████████████| 63/63 [00:04<00:00, 12.94it/s]\n"
     ]
    },
    {
     "name": "stdout",
     "output_type": "stream",
     "text": [
      "Epoch 220/512: \n",
      "Train Loss = 0.49696, Train MSE = 0.86298, Train MAE = 0.70511, Train Acc = 0.74925\n",
      "Val Loss = 0.47354, Val MSE = 0.81832, Val MAE = 0.67983, Val Acc = 0.76295\n"
     ]
    },
    {
     "name": "stderr",
     "output_type": "stream",
     "text": [
      "Epoch 221/512: 100%|██████████████████████████████████████████████████████████████████████| 63/63 [00:04<00:00, 12.97it/s]\n"
     ]
    },
    {
     "name": "stdout",
     "output_type": "stream",
     "text": [
      "Epoch 221/512: \n",
      "Train Loss = 0.50356, Train MSE = 0.88590, Train MAE = 0.71123, Train Acc = 0.74751\n",
      "Val Loss = 0.47113, Val MSE = 0.81012, Val MAE = 0.67695, Val Acc = 0.76295\n"
     ]
    },
    {
     "name": "stderr",
     "output_type": "stream",
     "text": [
      "Epoch 222/512: 100%|██████████████████████████████████████████████████████████████████████| 63/63 [00:04<00:00, 13.03it/s]\n"
     ]
    },
    {
     "name": "stdout",
     "output_type": "stream",
     "text": [
      "Epoch 222/512: \n",
      "Train Loss = 0.50056, Train MSE = 0.86549, Train MAE = 0.70943, Train Acc = 0.75075\n",
      "Val Loss = 0.47215, Val MSE = 0.80904, Val MAE = 0.67839, Val Acc = 0.75896\n"
     ]
    },
    {
     "name": "stderr",
     "output_type": "stream",
     "text": [
      "Epoch 223/512: 100%|██████████████████████████████████████████████████████████████████████| 63/63 [00:04<00:00, 13.03it/s]\n"
     ]
    },
    {
     "name": "stdout",
     "output_type": "stream",
     "text": [
      "Epoch 223/512: \n",
      "Train Loss = 0.49577, Train MSE = 0.86197, Train MAE = 0.70339, Train Acc = 0.75523\n",
      "Val Loss = 0.47450, Val MSE = 0.81643, Val MAE = 0.68128, Val Acc = 0.75896\n"
     ]
    },
    {
     "name": "stderr",
     "output_type": "stream",
     "text": [
      "Epoch 224/512: 100%|██████████████████████████████████████████████████████████████████████| 63/63 [00:04<00:00, 13.00it/s]\n"
     ]
    },
    {
     "name": "stdout",
     "output_type": "stream",
     "text": [
      "Epoch 224/512: \n",
      "Train Loss = 0.50222, Train MSE = 0.87909, Train MAE = 0.70937, Train Acc = 0.74402\n",
      "Val Loss = 0.47344, Val MSE = 0.81308, Val MAE = 0.68007, Val Acc = 0.75896\n"
     ]
    },
    {
     "name": "stderr",
     "output_type": "stream",
     "text": [
      "Epoch 225/512: 100%|██████████████████████████████████████████████████████████████████████| 63/63 [00:04<00:00, 13.03it/s]\n"
     ]
    },
    {
     "name": "stdout",
     "output_type": "stream",
     "text": [
      "Epoch 225/512: \n",
      "Train Loss = 0.50437, Train MSE = 0.88294, Train MAE = 0.71174, Train Acc = 0.74328\n",
      "Val Loss = 0.47317, Val MSE = 0.81038, Val MAE = 0.68010, Val Acc = 0.75697\n"
     ]
    },
    {
     "name": "stderr",
     "output_type": "stream",
     "text": [
      "Epoch 226/512: 100%|██████████████████████████████████████████████████████████████████████| 63/63 [00:04<00:00, 13.03it/s]\n"
     ]
    },
    {
     "name": "stdout",
     "output_type": "stream",
     "text": [
      "Epoch 226/512: \n",
      "Train Loss = 0.49671, Train MSE = 0.85824, Train MAE = 0.70442, Train Acc = 0.74502\n",
      "Val Loss = 0.47207, Val MSE = 0.80809, Val MAE = 0.67861, Val Acc = 0.75896\n"
     ]
    },
    {
     "name": "stderr",
     "output_type": "stream",
     "text": [
      "Epoch 227/512: 100%|██████████████████████████████████████████████████████████████████████| 63/63 [00:04<00:00, 12.98it/s]\n"
     ]
    },
    {
     "name": "stdout",
     "output_type": "stream",
     "text": [
      "Epoch 227/512: \n",
      "Train Loss = 0.50533, Train MSE = 0.88164, Train MAE = 0.71288, Train Acc = 0.74751\n",
      "Val Loss = 0.47320, Val MSE = 0.81411, Val MAE = 0.67949, Val Acc = 0.75896\n"
     ]
    },
    {
     "name": "stderr",
     "output_type": "stream",
     "text": [
      "Epoch 228/512: 100%|██████████████████████████████████████████████████████████████████████| 63/63 [00:04<00:00, 12.95it/s]\n"
     ]
    },
    {
     "name": "stdout",
     "output_type": "stream",
     "text": [
      "Epoch 228/512: \n",
      "Train Loss = 0.50475, Train MSE = 0.88327, Train MAE = 0.71371, Train Acc = 0.74826\n",
      "Val Loss = 0.47225, Val MSE = 0.81062, Val MAE = 0.67790, Val Acc = 0.76494\n"
     ]
    },
    {
     "name": "stderr",
     "output_type": "stream",
     "text": [
      "Epoch 229/512: 100%|██████████████████████████████████████████████████████████████████████| 63/63 [00:04<00:00, 12.80it/s]\n"
     ]
    },
    {
     "name": "stdout",
     "output_type": "stream",
     "text": [
      "Epoch 229/512: \n",
      "Train Loss = 0.50102, Train MSE = 0.87525, Train MAE = 0.70818, Train Acc = 0.74452\n",
      "Val Loss = 0.47210, Val MSE = 0.80945, Val MAE = 0.67784, Val Acc = 0.75697\n"
     ]
    },
    {
     "name": "stderr",
     "output_type": "stream",
     "text": [
      "Epoch 230/512: 100%|██████████████████████████████████████████████████████████████████████| 63/63 [00:04<00:00, 12.87it/s]\n"
     ]
    },
    {
     "name": "stdout",
     "output_type": "stream",
     "text": [
      "Epoch 230/512: \n",
      "Train Loss = 0.49659, Train MSE = 0.86375, Train MAE = 0.70447, Train Acc = 0.75299\n",
      "Val Loss = 0.47158, Val MSE = 0.80733, Val MAE = 0.67758, Val Acc = 0.75299\n"
     ]
    },
    {
     "name": "stderr",
     "output_type": "stream",
     "text": [
      "Epoch 231/512: 100%|██████████████████████████████████████████████████████████████████████| 63/63 [00:04<00:00, 12.90it/s]\n"
     ]
    },
    {
     "name": "stdout",
     "output_type": "stream",
     "text": [
      "Epoch 231/512: \n",
      "Train Loss = 0.49819, Train MSE = 0.86104, Train MAE = 0.70496, Train Acc = 0.74751\n",
      "Val Loss = 0.47367, Val MSE = 0.81336, Val MAE = 0.68002, Val Acc = 0.75697\n"
     ]
    },
    {
     "name": "stderr",
     "output_type": "stream",
     "text": [
      "Epoch 232/512: 100%|██████████████████████████████████████████████████████████████████████| 63/63 [00:04<00:00, 12.97it/s]\n"
     ]
    },
    {
     "name": "stdout",
     "output_type": "stream",
     "text": [
      "Epoch 232/512: \n",
      "Train Loss = 0.49509, Train MSE = 0.85746, Train MAE = 0.70260, Train Acc = 0.74950\n",
      "Val Loss = 0.47422, Val MSE = 0.81486, Val MAE = 0.68062, Val Acc = 0.75896\n"
     ]
    },
    {
     "name": "stderr",
     "output_type": "stream",
     "text": [
      "Epoch 233/512: 100%|██████████████████████████████████████████████████████████████████████| 63/63 [00:04<00:00, 12.96it/s]\n"
     ]
    },
    {
     "name": "stdout",
     "output_type": "stream",
     "text": [
      "Epoch 233/512: \n",
      "Train Loss = 0.50878, Train MSE = 0.90760, Train MAE = 0.71686, Train Acc = 0.74353\n",
      "Val Loss = 0.47364, Val MSE = 0.81182, Val MAE = 0.67975, Val Acc = 0.75697\n"
     ]
    },
    {
     "name": "stderr",
     "output_type": "stream",
     "text": [
      "Epoch 234/512: 100%|██████████████████████████████████████████████████████████████████████| 63/63 [00:04<00:00, 13.03it/s]\n"
     ]
    },
    {
     "name": "stdout",
     "output_type": "stream",
     "text": [
      "Epoch 234/512: \n",
      "Train Loss = 0.50800, Train MSE = 0.89473, Train MAE = 0.71568, Train Acc = 0.74153\n",
      "Val Loss = 0.47357, Val MSE = 0.81168, Val MAE = 0.67990, Val Acc = 0.75896\n"
     ]
    },
    {
     "name": "stderr",
     "output_type": "stream",
     "text": [
      "Epoch 235/512: 100%|██████████████████████████████████████████████████████████████████████| 63/63 [00:04<00:00, 12.89it/s]\n"
     ]
    },
    {
     "name": "stdout",
     "output_type": "stream",
     "text": [
      "Epoch 235/512: \n",
      "Train Loss = 0.49151, Train MSE = 0.84432, Train MAE = 0.69900, Train Acc = 0.75199\n",
      "Val Loss = 0.47363, Val MSE = 0.81065, Val MAE = 0.67893, Val Acc = 0.76096\n"
     ]
    },
    {
     "name": "stderr",
     "output_type": "stream",
     "text": [
      "Epoch 236/512: 100%|██████████████████████████████████████████████████████████████████████| 63/63 [00:04<00:00, 12.84it/s]\n"
     ]
    },
    {
     "name": "stdout",
     "output_type": "stream",
     "text": [
      "Epoch 236/512: \n",
      "Train Loss = 0.50814, Train MSE = 0.88581, Train MAE = 0.71736, Train Acc = 0.74104\n",
      "Val Loss = 0.47395, Val MSE = 0.81408, Val MAE = 0.68012, Val Acc = 0.75896\n"
     ]
    },
    {
     "name": "stderr",
     "output_type": "stream",
     "text": [
      "Epoch 237/512: 100%|██████████████████████████████████████████████████████████████████████| 63/63 [00:04<00:00, 12.81it/s]\n"
     ]
    },
    {
     "name": "stdout",
     "output_type": "stream",
     "text": [
      "Epoch 237/512: \n",
      "Train Loss = 0.50142, Train MSE = 0.87903, Train MAE = 0.70847, Train Acc = 0.74776\n",
      "Val Loss = 0.47510, Val MSE = 0.81939, Val MAE = 0.68112, Val Acc = 0.76494\n"
     ]
    },
    {
     "name": "stderr",
     "output_type": "stream",
     "text": [
      "Epoch 238/512: 100%|██████████████████████████████████████████████████████████████████████| 63/63 [00:04<00:00, 12.98it/s]\n"
     ]
    },
    {
     "name": "stdout",
     "output_type": "stream",
     "text": [
      "Epoch 238/512: \n",
      "Train Loss = 0.49891, Train MSE = 0.86884, Train MAE = 0.70634, Train Acc = 0.74427\n",
      "Val Loss = 0.47324, Val MSE = 0.80997, Val MAE = 0.67869, Val Acc = 0.75299\n"
     ]
    },
    {
     "name": "stderr",
     "output_type": "stream",
     "text": [
      "Epoch 239/512: 100%|██████████████████████████████████████████████████████████████████████| 63/63 [00:04<00:00, 12.94it/s]\n"
     ]
    },
    {
     "name": "stdout",
     "output_type": "stream",
     "text": [
      "Epoch 239/512: \n",
      "Train Loss = 0.50298, Train MSE = 0.87751, Train MAE = 0.70980, Train Acc = 0.75025\n",
      "Val Loss = 0.47315, Val MSE = 0.80901, Val MAE = 0.67895, Val Acc = 0.75697\n"
     ]
    },
    {
     "name": "stderr",
     "output_type": "stream",
     "text": [
      "Epoch 240/512: 100%|██████████████████████████████████████████████████████████████████████| 63/63 [00:04<00:00, 12.94it/s]\n"
     ]
    },
    {
     "name": "stdout",
     "output_type": "stream",
     "text": [
      "Epoch 240/512: \n",
      "Train Loss = 0.49687, Train MSE = 0.86853, Train MAE = 0.70615, Train Acc = 0.75872\n",
      "Val Loss = 0.47273, Val MSE = 0.80876, Val MAE = 0.67821, Val Acc = 0.75498\n"
     ]
    },
    {
     "name": "stderr",
     "output_type": "stream",
     "text": [
      "Epoch 241/512: 100%|██████████████████████████████████████████████████████████████████████| 63/63 [00:04<00:00, 12.93it/s]\n"
     ]
    },
    {
     "name": "stdout",
     "output_type": "stream",
     "text": [
      "Epoch 241/512: \n",
      "Train Loss = 0.49316, Train MSE = 0.85215, Train MAE = 0.70029, Train Acc = 0.75423\n",
      "Val Loss = 0.47308, Val MSE = 0.80965, Val MAE = 0.67886, Val Acc = 0.76295\n"
     ]
    },
    {
     "name": "stderr",
     "output_type": "stream",
     "text": [
      "Epoch 242/512: 100%|██████████████████████████████████████████████████████████████████████| 63/63 [00:04<00:00, 12.98it/s]\n"
     ]
    },
    {
     "name": "stdout",
     "output_type": "stream",
     "text": [
      "Epoch 242/512: \n",
      "Train Loss = 0.50269, Train MSE = 0.87789, Train MAE = 0.71070, Train Acc = 0.74552\n",
      "Val Loss = 0.47305, Val MSE = 0.80977, Val MAE = 0.67878, Val Acc = 0.75896\n"
     ]
    },
    {
     "name": "stderr",
     "output_type": "stream",
     "text": [
      "Epoch 243/512: 100%|██████████████████████████████████████████████████████████████████████| 63/63 [00:04<00:00, 12.99it/s]\n"
     ]
    },
    {
     "name": "stdout",
     "output_type": "stream",
     "text": [
      "Epoch 243/512: \n",
      "Train Loss = 0.49651, Train MSE = 0.84836, Train MAE = 0.70463, Train Acc = 0.74726\n",
      "Val Loss = 0.47239, Val MSE = 0.80898, Val MAE = 0.67738, Val Acc = 0.76295\n"
     ]
    },
    {
     "name": "stderr",
     "output_type": "stream",
     "text": [
      "Epoch 244/512: 100%|██████████████████████████████████████████████████████████████████████| 63/63 [00:04<00:00, 12.97it/s]\n"
     ]
    },
    {
     "name": "stdout",
     "output_type": "stream",
     "text": [
      "Epoch 244/512: \n",
      "Train Loss = 0.50311, Train MSE = 0.87585, Train MAE = 0.71068, Train Acc = 0.74776\n",
      "Val Loss = 0.47408, Val MSE = 0.81484, Val MAE = 0.67983, Val Acc = 0.75498\n"
     ]
    },
    {
     "name": "stderr",
     "output_type": "stream",
     "text": [
      "Epoch 245/512: 100%|██████████████████████████████████████████████████████████████████████| 63/63 [00:04<00:00, 12.98it/s]\n"
     ]
    },
    {
     "name": "stdout",
     "output_type": "stream",
     "text": [
      "Epoch 245/512: \n",
      "Train Loss = 0.49567, Train MSE = 0.86188, Train MAE = 0.70293, Train Acc = 0.75473\n",
      "Val Loss = 0.47390, Val MSE = 0.81310, Val MAE = 0.67942, Val Acc = 0.75498\n"
     ]
    },
    {
     "name": "stderr",
     "output_type": "stream",
     "text": [
      "Epoch 246/512: 100%|██████████████████████████████████████████████████████████████████████| 63/63 [00:04<00:00, 12.84it/s]\n"
     ]
    },
    {
     "name": "stdout",
     "output_type": "stream",
     "text": [
      "Epoch 246/512: \n",
      "Train Loss = 0.50563, Train MSE = 0.86656, Train MAE = 0.71485, Train Acc = 0.74427\n",
      "Val Loss = 0.47352, Val MSE = 0.81200, Val MAE = 0.67952, Val Acc = 0.76295\n"
     ]
    },
    {
     "name": "stderr",
     "output_type": "stream",
     "text": [
      "Epoch 247/512: 100%|██████████████████████████████████████████████████████████████████████| 63/63 [00:04<00:00, 12.90it/s]\n"
     ]
    },
    {
     "name": "stdout",
     "output_type": "stream",
     "text": [
      "Epoch 247/512: \n",
      "Train Loss = 0.49219, Train MSE = 0.85136, Train MAE = 0.70003, Train Acc = 0.75722\n",
      "Val Loss = 0.47327, Val MSE = 0.81150, Val MAE = 0.67924, Val Acc = 0.75896\n"
     ]
    },
    {
     "name": "stderr",
     "output_type": "stream",
     "text": [
      "Epoch 248/512: 100%|██████████████████████████████████████████████████████████████████████| 63/63 [00:04<00:00, 12.90it/s]\n"
     ]
    },
    {
     "name": "stdout",
     "output_type": "stream",
     "text": [
      "Epoch 248/512: \n",
      "Train Loss = 0.49066, Train MSE = 0.84488, Train MAE = 0.69740, Train Acc = 0.74950\n",
      "Val Loss = 0.47369, Val MSE = 0.81517, Val MAE = 0.67884, Val Acc = 0.75896\n"
     ]
    },
    {
     "name": "stderr",
     "output_type": "stream",
     "text": [
      "Epoch 249/512: 100%|██████████████████████████████████████████████████████████████████████| 63/63 [00:04<00:00, 12.92it/s]\n"
     ]
    },
    {
     "name": "stdout",
     "output_type": "stream",
     "text": [
      "Epoch 249/512: \n",
      "Train Loss = 0.50363, Train MSE = 0.88517, Train MAE = 0.71206, Train Acc = 0.75075\n",
      "Val Loss = 0.47306, Val MSE = 0.81229, Val MAE = 0.67825, Val Acc = 0.75697\n"
     ]
    },
    {
     "name": "stderr",
     "output_type": "stream",
     "text": [
      "Epoch 250/512: 100%|██████████████████████████████████████████████████████████████████████| 63/63 [00:04<00:00, 12.90it/s]\n"
     ]
    },
    {
     "name": "stdout",
     "output_type": "stream",
     "text": [
      "Epoch 250/512: \n",
      "Train Loss = 0.50261, Train MSE = 0.86909, Train MAE = 0.71060, Train Acc = 0.74875\n",
      "Val Loss = 0.47405, Val MSE = 0.81391, Val MAE = 0.67969, Val Acc = 0.75299\n"
     ]
    },
    {
     "name": "stderr",
     "output_type": "stream",
     "text": [
      "Epoch 251/512: 100%|██████████████████████████████████████████████████████████████████████| 63/63 [00:04<00:00, 12.97it/s]\n"
     ]
    },
    {
     "name": "stdout",
     "output_type": "stream",
     "text": [
      "Epoch 251/512: \n",
      "Train Loss = 0.50309, Train MSE = 0.87221, Train MAE = 0.71121, Train Acc = 0.74776\n",
      "Val Loss = 0.47376, Val MSE = 0.81320, Val MAE = 0.67970, Val Acc = 0.75299\n"
     ]
    },
    {
     "name": "stderr",
     "output_type": "stream",
     "text": [
      "Epoch 252/512: 100%|██████████████████████████████████████████████████████████████████████| 63/63 [00:04<00:00, 12.85it/s]\n"
     ]
    },
    {
     "name": "stdout",
     "output_type": "stream",
     "text": [
      "Epoch 252/512: \n",
      "Train Loss = 0.49903, Train MSE = 0.87204, Train MAE = 0.70583, Train Acc = 0.75125\n",
      "Val Loss = 0.47363, Val MSE = 0.81297, Val MAE = 0.67939, Val Acc = 0.76096\n"
     ]
    },
    {
     "name": "stderr",
     "output_type": "stream",
     "text": [
      "Epoch 253/512: 100%|██████████████████████████████████████████████████████████████████████| 63/63 [00:04<00:00, 12.96it/s]\n"
     ]
    },
    {
     "name": "stdout",
     "output_type": "stream",
     "text": [
      "Epoch 253/512: \n",
      "Train Loss = 0.50040, Train MSE = 0.87124, Train MAE = 0.70909, Train Acc = 0.75448\n",
      "Val Loss = 0.47371, Val MSE = 0.81265, Val MAE = 0.67917, Val Acc = 0.75697\n"
     ]
    },
    {
     "name": "stderr",
     "output_type": "stream",
     "text": [
      "Epoch 254/512: 100%|██████████████████████████████████████████████████████████████████████| 63/63 [00:04<00:00, 12.94it/s]\n"
     ]
    },
    {
     "name": "stdout",
     "output_type": "stream",
     "text": [
      "Epoch 254/512: \n",
      "Train Loss = 0.50638, Train MSE = 0.88892, Train MAE = 0.71440, Train Acc = 0.75149\n",
      "Val Loss = 0.47336, Val MSE = 0.81252, Val MAE = 0.67857, Val Acc = 0.75896\n"
     ]
    },
    {
     "name": "stderr",
     "output_type": "stream",
     "text": [
      "Epoch 255/512: 100%|██████████████████████████████████████████████████████████████████████| 63/63 [00:04<00:00, 12.91it/s]\n"
     ]
    },
    {
     "name": "stdout",
     "output_type": "stream",
     "text": [
      "Epoch 255/512: \n",
      "Train Loss = 0.50549, Train MSE = 0.88039, Train MAE = 0.71503, Train Acc = 0.75149\n",
      "Val Loss = 0.47339, Val MSE = 0.81242, Val MAE = 0.67883, Val Acc = 0.75498\n"
     ]
    },
    {
     "name": "stderr",
     "output_type": "stream",
     "text": [
      "Epoch 256/512: 100%|██████████████████████████████████████████████████████████████████████| 63/63 [00:04<00:00, 12.97it/s]\n"
     ]
    },
    {
     "name": "stdout",
     "output_type": "stream",
     "text": [
      "Epoch 256/512: \n",
      "Train Loss = 0.49250, Train MSE = 0.86002, Train MAE = 0.69855, Train Acc = 0.75498\n",
      "Val Loss = 0.47281, Val MSE = 0.81081, Val MAE = 0.67797, Val Acc = 0.75697\n"
     ]
    },
    {
     "name": "stderr",
     "output_type": "stream",
     "text": [
      "Epoch 257/512: 100%|██████████████████████████████████████████████████████████████████████| 63/63 [00:04<00:00, 12.79it/s]\n"
     ]
    },
    {
     "name": "stdout",
     "output_type": "stream",
     "text": [
      "Epoch 257/512: \n",
      "Train Loss = 0.49869, Train MSE = 0.86794, Train MAE = 0.70499, Train Acc = 0.75249\n",
      "Val Loss = 0.47181, Val MSE = 0.80859, Val MAE = 0.67697, Val Acc = 0.75896\n"
     ]
    },
    {
     "name": "stderr",
     "output_type": "stream",
     "text": [
      "Epoch 258/512: 100%|██████████████████████████████████████████████████████████████████████| 63/63 [00:04<00:00, 12.95it/s]\n"
     ]
    },
    {
     "name": "stdout",
     "output_type": "stream",
     "text": [
      "Epoch 258/512: \n",
      "Train Loss = 0.50348, Train MSE = 0.87214, Train MAE = 0.71127, Train Acc = 0.74577\n",
      "Val Loss = 0.47122, Val MSE = 0.80776, Val MAE = 0.67625, Val Acc = 0.75697\n"
     ]
    },
    {
     "name": "stderr",
     "output_type": "stream",
     "text": [
      "Epoch 259/512: 100%|██████████████████████████████████████████████████████████████████████| 63/63 [00:04<00:00, 12.95it/s]\n"
     ]
    },
    {
     "name": "stdout",
     "output_type": "stream",
     "text": [
      "Epoch 259/512: \n",
      "Train Loss = 0.50786, Train MSE = 0.88777, Train MAE = 0.71598, Train Acc = 0.74079\n",
      "Val Loss = 0.47206, Val MSE = 0.80931, Val MAE = 0.67738, Val Acc = 0.76096\n"
     ]
    },
    {
     "name": "stderr",
     "output_type": "stream",
     "text": [
      "Epoch 260/512: 100%|██████████████████████████████████████████████████████████████████████| 63/63 [00:04<00:00, 12.77it/s]\n"
     ]
    },
    {
     "name": "stdout",
     "output_type": "stream",
     "text": [
      "Epoch 260/512: \n",
      "Train Loss = 0.49660, Train MSE = 0.86567, Train MAE = 0.70510, Train Acc = 0.75299\n",
      "Val Loss = 0.47205, Val MSE = 0.81027, Val MAE = 0.67735, Val Acc = 0.76096\n"
     ]
    },
    {
     "name": "stderr",
     "output_type": "stream",
     "text": [
      "Epoch 261/512: 100%|██████████████████████████████████████████████████████████████████████| 63/63 [00:04<00:00, 12.87it/s]\n"
     ]
    },
    {
     "name": "stdout",
     "output_type": "stream",
     "text": [
      "Epoch 261/512: \n",
      "Train Loss = 0.49307, Train MSE = 0.84843, Train MAE = 0.70084, Train Acc = 0.75872\n",
      "Val Loss = 0.47243, Val MSE = 0.81069, Val MAE = 0.67793, Val Acc = 0.75896\n"
     ]
    },
    {
     "name": "stderr",
     "output_type": "stream",
     "text": [
      "Epoch 262/512: 100%|██████████████████████████████████████████████████████████████████████| 63/63 [00:04<00:00, 12.85it/s]\n"
     ]
    },
    {
     "name": "stdout",
     "output_type": "stream",
     "text": [
      "Epoch 262/512: \n",
      "Train Loss = 0.50021, Train MSE = 0.87687, Train MAE = 0.70714, Train Acc = 0.74303\n",
      "Val Loss = 0.47249, Val MSE = 0.81070, Val MAE = 0.67809, Val Acc = 0.75697\n"
     ]
    },
    {
     "name": "stderr",
     "output_type": "stream",
     "text": [
      "Epoch 263/512: 100%|██████████████████████████████████████████████████████████████████████| 63/63 [00:04<00:00, 12.84it/s]\n"
     ]
    },
    {
     "name": "stdout",
     "output_type": "stream",
     "text": [
      "Epoch 263/512: \n",
      "Train Loss = 0.50094, Train MSE = 0.87785, Train MAE = 0.70935, Train Acc = 0.74875\n",
      "Val Loss = 0.47227, Val MSE = 0.81001, Val MAE = 0.67772, Val Acc = 0.75697\n"
     ]
    },
    {
     "name": "stderr",
     "output_type": "stream",
     "text": [
      "Epoch 264/512: 100%|██████████████████████████████████████████████████████████████████████| 63/63 [00:04<00:00, 12.65it/s]\n"
     ]
    },
    {
     "name": "stdout",
     "output_type": "stream",
     "text": [
      "Epoch 264/512: \n",
      "Train Loss = 0.50460, Train MSE = 0.88515, Train MAE = 0.71183, Train Acc = 0.74128\n",
      "Val Loss = 0.47265, Val MSE = 0.81189, Val MAE = 0.67795, Val Acc = 0.75498\n"
     ]
    },
    {
     "name": "stderr",
     "output_type": "stream",
     "text": [
      "Epoch 265/512: 100%|██████████████████████████████████████████████████████████████████████| 63/63 [00:05<00:00, 12.55it/s]\n"
     ]
    },
    {
     "name": "stdout",
     "output_type": "stream",
     "text": [
      "Epoch 265/512: \n",
      "Train Loss = 0.50999, Train MSE = 0.89630, Train MAE = 0.71813, Train Acc = 0.75050\n",
      "Val Loss = 0.47237, Val MSE = 0.81022, Val MAE = 0.67753, Val Acc = 0.75697\n"
     ]
    },
    {
     "name": "stderr",
     "output_type": "stream",
     "text": [
      "Epoch 266/512: 100%|██████████████████████████████████████████████████████████████████████| 63/63 [00:04<00:00, 12.72it/s]\n"
     ]
    },
    {
     "name": "stdout",
     "output_type": "stream",
     "text": [
      "Epoch 266/512: \n",
      "Train Loss = 0.50257, Train MSE = 0.88091, Train MAE = 0.70991, Train Acc = 0.74925\n",
      "Val Loss = 0.47253, Val MSE = 0.81062, Val MAE = 0.67736, Val Acc = 0.75896\n"
     ]
    },
    {
     "name": "stderr",
     "output_type": "stream",
     "text": [
      "Epoch 267/512: 100%|██████████████████████████████████████████████████████████████████████| 63/63 [00:04<00:00, 12.83it/s]\n"
     ]
    },
    {
     "name": "stdout",
     "output_type": "stream",
     "text": [
      "Epoch 267/512: \n",
      "Train Loss = 0.49414, Train MSE = 0.85788, Train MAE = 0.69992, Train Acc = 0.75249\n",
      "Val Loss = 0.47306, Val MSE = 0.81184, Val MAE = 0.67800, Val Acc = 0.75896\n"
     ]
    },
    {
     "name": "stderr",
     "output_type": "stream",
     "text": [
      "Epoch 268/512: 100%|██████████████████████████████████████████████████████████████████████| 63/63 [00:04<00:00, 13.05it/s]\n"
     ]
    },
    {
     "name": "stdout",
     "output_type": "stream",
     "text": [
      "Epoch 268/512: \n",
      "Train Loss = 0.50141, Train MSE = 0.88505, Train MAE = 0.70931, Train Acc = 0.75398\n",
      "Val Loss = 0.47294, Val MSE = 0.81066, Val MAE = 0.67802, Val Acc = 0.75697\n"
     ]
    },
    {
     "name": "stderr",
     "output_type": "stream",
     "text": [
      "Epoch 269/512: 100%|██████████████████████████████████████████████████████████████████████| 63/63 [00:04<00:00, 12.92it/s]\n"
     ]
    },
    {
     "name": "stdout",
     "output_type": "stream",
     "text": [
      "Epoch 269/512: \n",
      "Train Loss = 0.50355, Train MSE = 0.88756, Train MAE = 0.71101, Train Acc = 0.74701\n",
      "Val Loss = 0.47292, Val MSE = 0.81009, Val MAE = 0.67830, Val Acc = 0.75697\n"
     ]
    },
    {
     "name": "stderr",
     "output_type": "stream",
     "text": [
      "Epoch 270/512: 100%|██████████████████████████████████████████████████████████████████████| 63/63 [00:04<00:00, 13.00it/s]\n"
     ]
    },
    {
     "name": "stdout",
     "output_type": "stream",
     "text": [
      "Epoch 270/512: \n",
      "Train Loss = 0.49640, Train MSE = 0.86211, Train MAE = 0.70420, Train Acc = 0.75349\n",
      "Val Loss = 0.47319, Val MSE = 0.81327, Val MAE = 0.67842, Val Acc = 0.75896\n"
     ]
    },
    {
     "name": "stderr",
     "output_type": "stream",
     "text": [
      "Epoch 271/512: 100%|██████████████████████████████████████████████████████████████████████| 63/63 [00:04<00:00, 12.95it/s]\n"
     ]
    },
    {
     "name": "stdout",
     "output_type": "stream",
     "text": [
      "Epoch 271/512: \n",
      "Train Loss = 0.49438, Train MSE = 0.86579, Train MAE = 0.70091, Train Acc = 0.75000\n",
      "Val Loss = 0.47310, Val MSE = 0.81344, Val MAE = 0.67839, Val Acc = 0.75697\n"
     ]
    },
    {
     "name": "stderr",
     "output_type": "stream",
     "text": [
      "Epoch 272/512: 100%|██████████████████████████████████████████████████████████████████████| 63/63 [00:04<00:00, 13.00it/s]\n"
     ]
    },
    {
     "name": "stdout",
     "output_type": "stream",
     "text": [
      "Epoch 272/512: \n",
      "Train Loss = 0.50010, Train MSE = 0.87913, Train MAE = 0.70707, Train Acc = 0.75025\n",
      "Val Loss = 0.47289, Val MSE = 0.81224, Val MAE = 0.67809, Val Acc = 0.75896\n"
     ]
    },
    {
     "name": "stderr",
     "output_type": "stream",
     "text": [
      "Epoch 273/512: 100%|██████████████████████████████████████████████████████████████████████| 63/63 [00:04<00:00, 12.91it/s]\n"
     ]
    },
    {
     "name": "stdout",
     "output_type": "stream",
     "text": [
      "Epoch 273/512: \n",
      "Train Loss = 0.48795, Train MSE = 0.84020, Train MAE = 0.69430, Train Acc = 0.75448\n",
      "Val Loss = 0.47255, Val MSE = 0.81032, Val MAE = 0.67773, Val Acc = 0.75697\n"
     ]
    },
    {
     "name": "stderr",
     "output_type": "stream",
     "text": [
      "Epoch 274/512: 100%|██████████████████████████████████████████████████████████████████████| 63/63 [00:04<00:00, 12.98it/s]\n"
     ]
    },
    {
     "name": "stdout",
     "output_type": "stream",
     "text": [
      "Epoch 274/512: \n",
      "Train Loss = 0.49874, Train MSE = 0.86690, Train MAE = 0.70659, Train Acc = 0.74875\n",
      "Val Loss = 0.47272, Val MSE = 0.81023, Val MAE = 0.67802, Val Acc = 0.75697\n"
     ]
    },
    {
     "name": "stderr",
     "output_type": "stream",
     "text": [
      "Epoch 275/512: 100%|██████████████████████████████████████████████████████████████████████| 63/63 [00:04<00:00, 13.00it/s]\n"
     ]
    },
    {
     "name": "stdout",
     "output_type": "stream",
     "text": [
      "Epoch 275/512: \n",
      "Train Loss = 0.50905, Train MSE = 0.90290, Train MAE = 0.71793, Train Acc = 0.74701\n",
      "Val Loss = 0.47265, Val MSE = 0.81108, Val MAE = 0.67795, Val Acc = 0.75697\n"
     ]
    },
    {
     "name": "stderr",
     "output_type": "stream",
     "text": [
      "Epoch 276/512: 100%|██████████████████████████████████████████████████████████████████████| 63/63 [00:04<00:00, 12.97it/s]\n"
     ]
    },
    {
     "name": "stdout",
     "output_type": "stream",
     "text": [
      "Epoch 276/512: \n",
      "Train Loss = 0.50176, Train MSE = 0.87403, Train MAE = 0.70979, Train Acc = 0.75199\n",
      "Val Loss = 0.47228, Val MSE = 0.80900, Val MAE = 0.67758, Val Acc = 0.75498\n"
     ]
    },
    {
     "name": "stderr",
     "output_type": "stream",
     "text": [
      "Epoch 277/512: 100%|██████████████████████████████████████████████████████████████████████| 63/63 [00:04<00:00, 12.94it/s]\n"
     ]
    },
    {
     "name": "stdout",
     "output_type": "stream",
     "text": [
      "Epoch 277/512: \n",
      "Train Loss = 0.50642, Train MSE = 0.88267, Train MAE = 0.71471, Train Acc = 0.74651\n",
      "Val Loss = 0.47252, Val MSE = 0.81035, Val MAE = 0.67787, Val Acc = 0.75697\n"
     ]
    },
    {
     "name": "stderr",
     "output_type": "stream",
     "text": [
      "Epoch 278/512: 100%|██████████████████████████████████████████████████████████████████████| 63/63 [00:04<00:00, 12.94it/s]\n"
     ]
    },
    {
     "name": "stdout",
     "output_type": "stream",
     "text": [
      "Epoch 278/512: \n",
      "Train Loss = 0.49449, Train MSE = 0.86195, Train MAE = 0.70206, Train Acc = 0.74975\n",
      "Val Loss = 0.47257, Val MSE = 0.81020, Val MAE = 0.67796, Val Acc = 0.75896\n"
     ]
    },
    {
     "name": "stderr",
     "output_type": "stream",
     "text": [
      "Epoch 279/512: 100%|██████████████████████████████████████████████████████████████████████| 63/63 [00:04<00:00, 12.94it/s]\n"
     ]
    },
    {
     "name": "stdout",
     "output_type": "stream",
     "text": [
      "Epoch 279/512: \n",
      "Train Loss = 0.49996, Train MSE = 0.87577, Train MAE = 0.70796, Train Acc = 0.74950\n",
      "Val Loss = 0.47242, Val MSE = 0.80971, Val MAE = 0.67783, Val Acc = 0.75896\n"
     ]
    },
    {
     "name": "stderr",
     "output_type": "stream",
     "text": [
      "Epoch 280/512: 100%|██████████████████████████████████████████████████████████████████████| 63/63 [00:04<00:00, 12.91it/s]\n"
     ]
    },
    {
     "name": "stdout",
     "output_type": "stream",
     "text": [
      "Epoch 280/512: \n",
      "Train Loss = 0.49996, Train MSE = 0.86998, Train MAE = 0.70849, Train Acc = 0.75199\n",
      "Val Loss = 0.47215, Val MSE = 0.80918, Val MAE = 0.67750, Val Acc = 0.75697\n"
     ]
    },
    {
     "name": "stderr",
     "output_type": "stream",
     "text": [
      "Epoch 281/512: 100%|██████████████████████████████████████████████████████████████████████| 63/63 [00:04<00:00, 12.99it/s]\n"
     ]
    },
    {
     "name": "stdout",
     "output_type": "stream",
     "text": [
      "Epoch 281/512: \n",
      "Train Loss = 0.49811, Train MSE = 0.86561, Train MAE = 0.70626, Train Acc = 0.74950\n",
      "Val Loss = 0.47212, Val MSE = 0.80890, Val MAE = 0.67749, Val Acc = 0.75697\n"
     ]
    },
    {
     "name": "stderr",
     "output_type": "stream",
     "text": [
      "Epoch 282/512: 100%|██████████████████████████████████████████████████████████████████████| 63/63 [00:04<00:00, 12.96it/s]\n"
     ]
    },
    {
     "name": "stdout",
     "output_type": "stream",
     "text": [
      "Epoch 282/512: \n",
      "Train Loss = 0.51145, Train MSE = 0.89777, Train MAE = 0.72094, Train Acc = 0.74228\n",
      "Val Loss = 0.47194, Val MSE = 0.80808, Val MAE = 0.67726, Val Acc = 0.75896\n"
     ]
    },
    {
     "name": "stderr",
     "output_type": "stream",
     "text": [
      "Epoch 283/512: 100%|██████████████████████████████████████████████████████████████████████| 63/63 [00:04<00:00, 12.96it/s]\n"
     ]
    },
    {
     "name": "stdout",
     "output_type": "stream",
     "text": [
      "Epoch 283/512: \n",
      "Train Loss = 0.50307, Train MSE = 0.87323, Train MAE = 0.71214, Train Acc = 0.74626\n",
      "Val Loss = 0.47181, Val MSE = 0.80853, Val MAE = 0.67702, Val Acc = 0.75697\n"
     ]
    },
    {
     "name": "stderr",
     "output_type": "stream",
     "text": [
      "Epoch 284/512: 100%|██████████████████████████████████████████████████████████████████████| 63/63 [00:04<00:00, 12.96it/s]\n"
     ]
    },
    {
     "name": "stdout",
     "output_type": "stream",
     "text": [
      "Epoch 284/512: \n",
      "Train Loss = 0.49528, Train MSE = 0.85584, Train MAE = 0.70434, Train Acc = 0.75498\n",
      "Val Loss = 0.47179, Val MSE = 0.80869, Val MAE = 0.67704, Val Acc = 0.75697\n"
     ]
    },
    {
     "name": "stderr",
     "output_type": "stream",
     "text": [
      "Epoch 285/512: 100%|██████████████████████████████████████████████████████████████████████| 63/63 [00:04<00:00, 12.95it/s]\n"
     ]
    },
    {
     "name": "stdout",
     "output_type": "stream",
     "text": [
      "Epoch 285/512: \n",
      "Train Loss = 0.49870, Train MSE = 0.86779, Train MAE = 0.70553, Train Acc = 0.75174\n",
      "Val Loss = 0.47175, Val MSE = 0.80875, Val MAE = 0.67690, Val Acc = 0.75697\n"
     ]
    },
    {
     "name": "stderr",
     "output_type": "stream",
     "text": [
      "Epoch 286/512: 100%|██████████████████████████████████████████████████████████████████████| 63/63 [00:04<00:00, 12.96it/s]\n"
     ]
    },
    {
     "name": "stdout",
     "output_type": "stream",
     "text": [
      "Epoch 286/512: \n",
      "Train Loss = 0.50353, Train MSE = 0.87718, Train MAE = 0.71227, Train Acc = 0.74701\n",
      "Val Loss = 0.47175, Val MSE = 0.80841, Val MAE = 0.67690, Val Acc = 0.75697\n"
     ]
    },
    {
     "name": "stderr",
     "output_type": "stream",
     "text": [
      "Epoch 287/512: 100%|██████████████████████████████████████████████████████████████████████| 63/63 [00:04<00:00, 13.02it/s]\n"
     ]
    },
    {
     "name": "stdout",
     "output_type": "stream",
     "text": [
      "Epoch 287/512: \n",
      "Train Loss = 0.50167, Train MSE = 0.87149, Train MAE = 0.70859, Train Acc = 0.74079\n",
      "Val Loss = 0.47177, Val MSE = 0.80904, Val MAE = 0.67681, Val Acc = 0.75896\n"
     ]
    },
    {
     "name": "stderr",
     "output_type": "stream",
     "text": [
      "Epoch 288/512: 100%|██████████████████████████████████████████████████████████████████████| 63/63 [00:04<00:00, 13.03it/s]\n"
     ]
    },
    {
     "name": "stdout",
     "output_type": "stream",
     "text": [
      "Epoch 288/512: \n",
      "Train Loss = 0.50721, Train MSE = 0.89163, Train MAE = 0.71611, Train Acc = 0.74851\n",
      "Val Loss = 0.47181, Val MSE = 0.80922, Val MAE = 0.67692, Val Acc = 0.75896\n"
     ]
    },
    {
     "name": "stderr",
     "output_type": "stream",
     "text": [
      "Epoch 289/512: 100%|██████████████████████████████████████████████████████████████████████| 63/63 [00:04<00:00, 12.98it/s]\n"
     ]
    },
    {
     "name": "stdout",
     "output_type": "stream",
     "text": [
      "Epoch 289/512: \n",
      "Train Loss = 0.50254, Train MSE = 0.87302, Train MAE = 0.71077, Train Acc = 0.74826\n",
      "Val Loss = 0.47189, Val MSE = 0.80967, Val MAE = 0.67705, Val Acc = 0.75896\n"
     ]
    },
    {
     "name": "stderr",
     "output_type": "stream",
     "text": [
      "Epoch 290/512: 100%|██████████████████████████████████████████████████████████████████████| 63/63 [00:04<00:00, 12.94it/s]\n"
     ]
    },
    {
     "name": "stdout",
     "output_type": "stream",
     "text": [
      "Epoch 290/512: \n",
      "Train Loss = 0.50151, Train MSE = 0.86717, Train MAE = 0.70947, Train Acc = 0.74104\n",
      "Val Loss = 0.47202, Val MSE = 0.80971, Val MAE = 0.67730, Val Acc = 0.75896\n"
     ]
    },
    {
     "name": "stderr",
     "output_type": "stream",
     "text": [
      "Epoch 291/512: 100%|██████████████████████████████████████████████████████████████████████| 63/63 [00:04<00:00, 12.97it/s]\n"
     ]
    },
    {
     "name": "stdout",
     "output_type": "stream",
     "text": [
      "Epoch 291/512: \n",
      "Train Loss = 0.49825, Train MSE = 0.86745, Train MAE = 0.70481, Train Acc = 0.75224\n",
      "Val Loss = 0.47201, Val MSE = 0.80942, Val MAE = 0.67732, Val Acc = 0.75896\n"
     ]
    },
    {
     "name": "stderr",
     "output_type": "stream",
     "text": [
      "Epoch 292/512: 100%|██████████████████████████████████████████████████████████████████████| 63/63 [00:04<00:00, 12.89it/s]\n"
     ]
    },
    {
     "name": "stdout",
     "output_type": "stream",
     "text": [
      "Epoch 292/512: \n",
      "Train Loss = 0.49512, Train MSE = 0.85847, Train MAE = 0.70235, Train Acc = 0.75398\n",
      "Val Loss = 0.47203, Val MSE = 0.80942, Val MAE = 0.67737, Val Acc = 0.75896\n"
     ]
    },
    {
     "name": "stderr",
     "output_type": "stream",
     "text": [
      "Epoch 293/512: 100%|██████████████████████████████████████████████████████████████████████| 63/63 [00:04<00:00, 12.90it/s]\n"
     ]
    },
    {
     "name": "stdout",
     "output_type": "stream",
     "text": [
      "Epoch 293/512: \n",
      "Train Loss = 0.50859, Train MSE = 0.90257, Train MAE = 0.71505, Train Acc = 0.74502\n",
      "Val Loss = 0.47192, Val MSE = 0.80879, Val MAE = 0.67726, Val Acc = 0.75896\n"
     ]
    },
    {
     "name": "stderr",
     "output_type": "stream",
     "text": [
      "Epoch 294/512: 100%|██████████████████████████████████████████████████████████████████████| 63/63 [00:04<00:00, 12.84it/s]\n"
     ]
    },
    {
     "name": "stdout",
     "output_type": "stream",
     "text": [
      "Epoch 294/512: \n",
      "Train Loss = 0.49805, Train MSE = 0.87382, Train MAE = 0.70520, Train Acc = 0.75224\n",
      "Val Loss = 0.47211, Val MSE = 0.80957, Val MAE = 0.67753, Val Acc = 0.75896\n"
     ]
    },
    {
     "name": "stderr",
     "output_type": "stream",
     "text": [
      "Epoch 295/512: 100%|██████████████████████████████████████████████████████████████████████| 63/63 [00:04<00:00, 12.69it/s]\n"
     ]
    },
    {
     "name": "stdout",
     "output_type": "stream",
     "text": [
      "Epoch 295/512: \n",
      "Train Loss = 0.49965, Train MSE = 0.87511, Train MAE = 0.70638, Train Acc = 0.75224\n",
      "Val Loss = 0.47205, Val MSE = 0.80961, Val MAE = 0.67738, Val Acc = 0.75896\n"
     ]
    },
    {
     "name": "stderr",
     "output_type": "stream",
     "text": [
      "Epoch 296/512: 100%|██████████████████████████████████████████████████████████████████████| 63/63 [00:04<00:00, 12.87it/s]\n"
     ]
    },
    {
     "name": "stdout",
     "output_type": "stream",
     "text": [
      "Epoch 296/512: \n",
      "Train Loss = 0.50055, Train MSE = 0.87180, Train MAE = 0.70918, Train Acc = 0.75000\n",
      "Val Loss = 0.47204, Val MSE = 0.80970, Val MAE = 0.67739, Val Acc = 0.75896\n"
     ]
    },
    {
     "name": "stderr",
     "output_type": "stream",
     "text": [
      "Epoch 297/512: 100%|██████████████████████████████████████████████████████████████████████| 63/63 [00:04<00:00, 12.69it/s]\n"
     ]
    },
    {
     "name": "stdout",
     "output_type": "stream",
     "text": [
      "Epoch 297/512: \n",
      "Train Loss = 0.49447, Train MSE = 0.85351, Train MAE = 0.70259, Train Acc = 0.75672\n",
      "Val Loss = 0.47203, Val MSE = 0.80941, Val MAE = 0.67739, Val Acc = 0.75896\n"
     ]
    },
    {
     "name": "stderr",
     "output_type": "stream",
     "text": [
      "Epoch 298/512: 100%|██████████████████████████████████████████████████████████████████████| 63/63 [00:04<00:00, 12.90it/s]\n"
     ]
    },
    {
     "name": "stdout",
     "output_type": "stream",
     "text": [
      "Epoch 298/512: \n",
      "Train Loss = 0.49931, Train MSE = 0.86535, Train MAE = 0.70773, Train Acc = 0.75398\n",
      "Val Loss = 0.47208, Val MSE = 0.80987, Val MAE = 0.67739, Val Acc = 0.75896\n"
     ]
    },
    {
     "name": "stderr",
     "output_type": "stream",
     "text": [
      "Epoch 299/512: 100%|██████████████████████████████████████████████████████████████████████| 63/63 [00:04<00:00, 12.91it/s]\n"
     ]
    },
    {
     "name": "stdout",
     "output_type": "stream",
     "text": [
      "Epoch 299/512: \n",
      "Train Loss = 0.49768, Train MSE = 0.86841, Train MAE = 0.70605, Train Acc = 0.75423\n",
      "Val Loss = 0.47200, Val MSE = 0.80947, Val MAE = 0.67734, Val Acc = 0.75896\n"
     ]
    },
    {
     "name": "stderr",
     "output_type": "stream",
     "text": [
      "Epoch 300/512: 100%|██████████████████████████████████████████████████████████████████████| 63/63 [00:04<00:00, 12.98it/s]\n"
     ]
    },
    {
     "name": "stdout",
     "output_type": "stream",
     "text": [
      "Epoch 300/512: \n",
      "Train Loss = 0.49097, Train MSE = 0.85107, Train MAE = 0.69697, Train Acc = 0.75548\n",
      "Val Loss = 0.47202, Val MSE = 0.80956, Val MAE = 0.67736, Val Acc = 0.75896\n"
     ]
    },
    {
     "name": "stderr",
     "output_type": "stream",
     "text": [
      "Epoch 301/512: 100%|██████████████████████████████████████████████████████████████████████| 63/63 [00:04<00:00, 13.00it/s]\n"
     ]
    },
    {
     "name": "stdout",
     "output_type": "stream",
     "text": [
      "Epoch 301/512: \n",
      "Train Loss = 0.50270, Train MSE = 0.87194, Train MAE = 0.71021, Train Acc = 0.73979\n",
      "Val Loss = 0.47206, Val MSE = 0.80952, Val MAE = 0.67744, Val Acc = 0.75896\n"
     ]
    },
    {
     "name": "stderr",
     "output_type": "stream",
     "text": [
      "Epoch 302/512: 100%|██████████████████████████████████████████████████████████████████████| 63/63 [00:04<00:00, 13.03it/s]\n"
     ]
    },
    {
     "name": "stdout",
     "output_type": "stream",
     "text": [
      "Epoch 302/512: \n",
      "Train Loss = 0.50406, Train MSE = 0.87186, Train MAE = 0.71209, Train Acc = 0.74502\n",
      "Val Loss = 0.47204, Val MSE = 0.80936, Val MAE = 0.67748, Val Acc = 0.75896\n"
     ]
    },
    {
     "name": "stderr",
     "output_type": "stream",
     "text": [
      "Epoch 303/512: 100%|██████████████████████████████████████████████████████████████████████| 63/63 [00:04<00:00, 13.00it/s]\n"
     ]
    },
    {
     "name": "stdout",
     "output_type": "stream",
     "text": [
      "Epoch 303/512: \n",
      "Train Loss = 0.51105, Train MSE = 0.90037, Train MAE = 0.71783, Train Acc = 0.74303\n",
      "Val Loss = 0.47201, Val MSE = 0.80921, Val MAE = 0.67746, Val Acc = 0.75896\n"
     ]
    },
    {
     "name": "stderr",
     "output_type": "stream",
     "text": [
      "Epoch 304/512: 100%|██████████████████████████████████████████████████████████████████████| 63/63 [00:04<00:00, 12.97it/s]\n"
     ]
    },
    {
     "name": "stdout",
     "output_type": "stream",
     "text": [
      "Epoch 304/512: \n",
      "Train Loss = 0.48932, Train MSE = 0.83850, Train MAE = 0.69921, Train Acc = 0.75598\n",
      "Val Loss = 0.47203, Val MSE = 0.80934, Val MAE = 0.67748, Val Acc = 0.75896\n"
     ]
    },
    {
     "name": "stderr",
     "output_type": "stream",
     "text": [
      "Epoch 305/512: 100%|██████████████████████████████████████████████████████████████████████| 63/63 [00:04<00:00, 12.99it/s]\n"
     ]
    },
    {
     "name": "stdout",
     "output_type": "stream",
     "text": [
      "Epoch 305/512: \n",
      "Train Loss = 0.49019, Train MSE = 0.85178, Train MAE = 0.69715, Train Acc = 0.75647\n",
      "Val Loss = 0.47200, Val MSE = 0.80922, Val MAE = 0.67747, Val Acc = 0.75896\n"
     ]
    },
    {
     "name": "stderr",
     "output_type": "stream",
     "text": [
      "Epoch 306/512: 100%|██████████████████████████████████████████████████████████████████████| 63/63 [00:04<00:00, 12.98it/s]\n"
     ]
    },
    {
     "name": "stdout",
     "output_type": "stream",
     "text": [
      "Epoch 306/512: \n",
      "Train Loss = 0.50509, Train MSE = 0.88546, Train MAE = 0.71471, Train Acc = 0.75000\n",
      "Val Loss = 0.47200, Val MSE = 0.80931, Val MAE = 0.67745, Val Acc = 0.75896\n"
     ]
    },
    {
     "name": "stderr",
     "output_type": "stream",
     "text": [
      "Epoch 307/512: 100%|██████████████████████████████████████████████████████████████████████| 63/63 [00:04<00:00, 12.96it/s]\n"
     ]
    },
    {
     "name": "stdout",
     "output_type": "stream",
     "text": [
      "Epoch 307/512: \n",
      "Train Loss = 0.49926, Train MSE = 0.88716, Train MAE = 0.70598, Train Acc = 0.75199\n",
      "Val Loss = 0.47196, Val MSE = 0.80924, Val MAE = 0.67739, Val Acc = 0.75896\n"
     ]
    },
    {
     "name": "stderr",
     "output_type": "stream",
     "text": [
      "Epoch 308/512: 100%|██████████████████████████████████████████████████████████████████████| 63/63 [00:04<00:00, 12.97it/s]\n"
     ]
    },
    {
     "name": "stdout",
     "output_type": "stream",
     "text": [
      "Epoch 308/512: \n",
      "Train Loss = 0.49572, Train MSE = 0.86277, Train MAE = 0.70366, Train Acc = 0.74900\n",
      "Val Loss = 0.47195, Val MSE = 0.80911, Val MAE = 0.67739, Val Acc = 0.75896\n"
     ]
    },
    {
     "name": "stderr",
     "output_type": "stream",
     "text": [
      "Epoch 309/512: 100%|██████████████████████████████████████████████████████████████████████| 63/63 [00:04<00:00, 13.02it/s]\n"
     ]
    },
    {
     "name": "stdout",
     "output_type": "stream",
     "text": [
      "Epoch 309/512: \n",
      "Train Loss = 0.50446, Train MSE = 0.88528, Train MAE = 0.71366, Train Acc = 0.74676\n",
      "Val Loss = 0.47194, Val MSE = 0.80913, Val MAE = 0.67737, Val Acc = 0.75896\n"
     ]
    },
    {
     "name": "stderr",
     "output_type": "stream",
     "text": [
      "Epoch 310/512: 100%|██████████████████████████████████████████████████████████████████████| 63/63 [00:04<00:00, 12.91it/s]\n"
     ]
    },
    {
     "name": "stdout",
     "output_type": "stream",
     "text": [
      "Epoch 310/512: \n",
      "Train Loss = 0.48964, Train MSE = 0.85476, Train MAE = 0.69607, Train Acc = 0.75946\n",
      "Val Loss = 0.47195, Val MSE = 0.80911, Val MAE = 0.67741, Val Acc = 0.75896\n"
     ]
    },
    {
     "name": "stderr",
     "output_type": "stream",
     "text": [
      "Epoch 311/512: 100%|██████████████████████████████████████████████████████████████████████| 63/63 [00:04<00:00, 12.98it/s]\n"
     ]
    },
    {
     "name": "stdout",
     "output_type": "stream",
     "text": [
      "Epoch 311/512: \n",
      "Train Loss = 0.49548, Train MSE = 0.86772, Train MAE = 0.70247, Train Acc = 0.75374\n",
      "Val Loss = 0.47193, Val MSE = 0.80911, Val MAE = 0.67738, Val Acc = 0.75896\n"
     ]
    },
    {
     "name": "stderr",
     "output_type": "stream",
     "text": [
      "Epoch 312/512: 100%|██████████████████████████████████████████████████████████████████████| 63/63 [00:04<00:00, 12.95it/s]\n"
     ]
    },
    {
     "name": "stdout",
     "output_type": "stream",
     "text": [
      "Epoch 312/512: \n",
      "Train Loss = 0.49782, Train MSE = 0.87277, Train MAE = 0.70465, Train Acc = 0.74975\n",
      "Val Loss = 0.47192, Val MSE = 0.80918, Val MAE = 0.67735, Val Acc = 0.75896\n"
     ]
    },
    {
     "name": "stderr",
     "output_type": "stream",
     "text": [
      "Epoch 313/512: 100%|██████████████████████████████████████████████████████████████████████| 63/63 [00:04<00:00, 12.92it/s]\n"
     ]
    },
    {
     "name": "stdout",
     "output_type": "stream",
     "text": [
      "Epoch 313/512: \n",
      "Train Loss = 0.49411, Train MSE = 0.86815, Train MAE = 0.69988, Train Acc = 0.75050\n",
      "Val Loss = 0.47191, Val MSE = 0.80908, Val MAE = 0.67735, Val Acc = 0.75896\n"
     ]
    },
    {
     "name": "stderr",
     "output_type": "stream",
     "text": [
      "Epoch 314/512: 100%|██████████████████████████████████████████████████████████████████████| 63/63 [00:04<00:00, 13.00it/s]\n"
     ]
    },
    {
     "name": "stdout",
     "output_type": "stream",
     "text": [
      "Epoch 314/512: \n",
      "Train Loss = 0.49278, Train MSE = 0.84681, Train MAE = 0.70007, Train Acc = 0.75448\n",
      "Val Loss = 0.47192, Val MSE = 0.80914, Val MAE = 0.67737, Val Acc = 0.75896\n"
     ]
    },
    {
     "name": "stderr",
     "output_type": "stream",
     "text": [
      "Epoch 315/512: 100%|██████████████████████████████████████████████████████████████████████| 63/63 [00:04<00:00, 12.95it/s]\n"
     ]
    },
    {
     "name": "stdout",
     "output_type": "stream",
     "text": [
      "Epoch 315/512: \n",
      "Train Loss = 0.49720, Train MSE = 0.86202, Train MAE = 0.70413, Train Acc = 0.75075\n",
      "Val Loss = 0.47193, Val MSE = 0.80922, Val MAE = 0.67736, Val Acc = 0.75896\n"
     ]
    },
    {
     "name": "stderr",
     "output_type": "stream",
     "text": [
      "Epoch 316/512: 100%|██████████████████████████████████████████████████████████████████████| 63/63 [00:04<00:00, 12.95it/s]\n"
     ]
    },
    {
     "name": "stdout",
     "output_type": "stream",
     "text": [
      "Epoch 316/512: \n",
      "Train Loss = 0.50083, Train MSE = 0.87040, Train MAE = 0.70930, Train Acc = 0.74726\n",
      "Val Loss = 0.47190, Val MSE = 0.80911, Val MAE = 0.67734, Val Acc = 0.75896\n"
     ]
    },
    {
     "name": "stderr",
     "output_type": "stream",
     "text": [
      "Epoch 317/512: 100%|██████████████████████████████████████████████████████████████████████| 63/63 [00:04<00:00, 12.95it/s]\n"
     ]
    },
    {
     "name": "stdout",
     "output_type": "stream",
     "text": [
      "Epoch 317/512: \n",
      "Train Loss = 0.49374, Train MSE = 0.85888, Train MAE = 0.70197, Train Acc = 0.75598\n",
      "Val Loss = 0.47189, Val MSE = 0.80901, Val MAE = 0.67735, Val Acc = 0.75896\n"
     ]
    },
    {
     "name": "stderr",
     "output_type": "stream",
     "text": [
      "Epoch 318/512: 100%|██████████████████████████████████████████████████████████████████████| 63/63 [00:04<00:00, 13.03it/s]\n"
     ]
    },
    {
     "name": "stdout",
     "output_type": "stream",
     "text": [
      "Epoch 318/512: \n",
      "Train Loss = 0.49120, Train MSE = 0.85363, Train MAE = 0.69798, Train Acc = 0.74950\n",
      "Val Loss = 0.47191, Val MSE = 0.80901, Val MAE = 0.67738, Val Acc = 0.75896\n"
     ]
    },
    {
     "name": "stderr",
     "output_type": "stream",
     "text": [
      "Epoch 319/512: 100%|██████████████████████████████████████████████████████████████████████| 63/63 [00:04<00:00, 12.95it/s]\n"
     ]
    },
    {
     "name": "stdout",
     "output_type": "stream",
     "text": [
      "Epoch 319/512: \n",
      "Train Loss = 0.49946, Train MSE = 0.87294, Train MAE = 0.70722, Train Acc = 0.74477\n",
      "Val Loss = 0.47193, Val MSE = 0.80907, Val MAE = 0.67740, Val Acc = 0.75896\n"
     ]
    },
    {
     "name": "stderr",
     "output_type": "stream",
     "text": [
      "Epoch 320/512: 100%|██████████████████████████████████████████████████████████████████████| 63/63 [00:04<00:00, 12.93it/s]\n"
     ]
    },
    {
     "name": "stdout",
     "output_type": "stream",
     "text": [
      "Epoch 320/512: \n",
      "Train Loss = 0.50428, Train MSE = 0.88347, Train MAE = 0.71213, Train Acc = 0.74253\n",
      "Val Loss = 0.47192, Val MSE = 0.80904, Val MAE = 0.67739, Val Acc = 0.75896\n"
     ]
    },
    {
     "name": "stderr",
     "output_type": "stream",
     "text": [
      "Epoch 321/512: 100%|██████████████████████████████████████████████████████████████████████| 63/63 [00:04<00:00, 12.94it/s]\n"
     ]
    },
    {
     "name": "stdout",
     "output_type": "stream",
     "text": [
      "Epoch 321/512: \n",
      "Train Loss = 0.49095, Train MSE = 0.85531, Train MAE = 0.69799, Train Acc = 0.75647\n",
      "Val Loss = 0.47190, Val MSE = 0.80899, Val MAE = 0.67737, Val Acc = 0.75896\n"
     ]
    },
    {
     "name": "stderr",
     "output_type": "stream",
     "text": [
      "Epoch 322/512: 100%|██████████████████████████████████████████████████████████████████████| 63/63 [00:04<00:00, 12.99it/s]\n"
     ]
    },
    {
     "name": "stdout",
     "output_type": "stream",
     "text": [
      "Epoch 322/512: \n",
      "Train Loss = 0.49622, Train MSE = 0.85312, Train MAE = 0.70407, Train Acc = 0.74801\n",
      "Val Loss = 0.47190, Val MSE = 0.80895, Val MAE = 0.67737, Val Acc = 0.75896\n"
     ]
    },
    {
     "name": "stderr",
     "output_type": "stream",
     "text": [
      "Epoch 323/512: 100%|██████████████████████████████████████████████████████████████████████| 63/63 [00:04<00:00, 12.98it/s]\n"
     ]
    },
    {
     "name": "stdout",
     "output_type": "stream",
     "text": [
      "Epoch 323/512: \n",
      "Train Loss = 0.49729, Train MSE = 0.86821, Train MAE = 0.70346, Train Acc = 0.75274\n",
      "Val Loss = 0.47189, Val MSE = 0.80889, Val MAE = 0.67737, Val Acc = 0.75896\n"
     ]
    },
    {
     "name": "stderr",
     "output_type": "stream",
     "text": [
      "Epoch 324/512: 100%|██████████████████████████████████████████████████████████████████████| 63/63 [00:04<00:00, 12.99it/s]\n"
     ]
    },
    {
     "name": "stdout",
     "output_type": "stream",
     "text": [
      "Epoch 324/512: \n",
      "Train Loss = 0.49995, Train MSE = 0.87166, Train MAE = 0.70793, Train Acc = 0.75075\n",
      "Val Loss = 0.47189, Val MSE = 0.80891, Val MAE = 0.67737, Val Acc = 0.75896\n"
     ]
    },
    {
     "name": "stderr",
     "output_type": "stream",
     "text": [
      "Epoch 325/512: 100%|██████████████████████████████████████████████████████████████████████| 63/63 [00:04<00:00, 12.98it/s]\n"
     ]
    },
    {
     "name": "stdout",
     "output_type": "stream",
     "text": [
      "Epoch 325/512: \n",
      "Train Loss = 0.49465, Train MSE = 0.85882, Train MAE = 0.70172, Train Acc = 0.75623\n",
      "Val Loss = 0.47189, Val MSE = 0.80891, Val MAE = 0.67737, Val Acc = 0.75896\n"
     ]
    },
    {
     "name": "stderr",
     "output_type": "stream",
     "text": [
      "Epoch 326/512: 100%|██████████████████████████████████████████████████████████████████████| 63/63 [00:04<00:00, 12.96it/s]\n"
     ]
    },
    {
     "name": "stdout",
     "output_type": "stream",
     "text": [
      "Epoch 326/512: \n",
      "Train Loss = 0.50788, Train MSE = 0.89111, Train MAE = 0.71659, Train Acc = 0.75050\n",
      "Val Loss = 0.47190, Val MSE = 0.80893, Val MAE = 0.67738, Val Acc = 0.75896\n"
     ]
    },
    {
     "name": "stderr",
     "output_type": "stream",
     "text": [
      "Epoch 327/512: 100%|██████████████████████████████████████████████████████████████████████| 63/63 [00:04<00:00, 12.97it/s]\n"
     ]
    },
    {
     "name": "stdout",
     "output_type": "stream",
     "text": [
      "Epoch 327/512: \n",
      "Train Loss = 0.49527, Train MSE = 0.85558, Train MAE = 0.70221, Train Acc = 0.75374\n",
      "Val Loss = 0.47191, Val MSE = 0.80895, Val MAE = 0.67740, Val Acc = 0.75896\n"
     ]
    },
    {
     "name": "stderr",
     "output_type": "stream",
     "text": [
      "Epoch 328/512: 100%|██████████████████████████████████████████████████████████████████████| 63/63 [00:04<00:00, 12.92it/s]\n"
     ]
    },
    {
     "name": "stdout",
     "output_type": "stream",
     "text": [
      "Epoch 328/512: \n",
      "Train Loss = 0.49183, Train MSE = 0.84561, Train MAE = 0.69794, Train Acc = 0.75573\n",
      "Val Loss = 0.47192, Val MSE = 0.80897, Val MAE = 0.67741, Val Acc = 0.75896\n"
     ]
    },
    {
     "name": "stderr",
     "output_type": "stream",
     "text": [
      "Epoch 329/512: 100%|██████████████████████████████████████████████████████████████████████| 63/63 [00:04<00:00, 12.85it/s]\n"
     ]
    },
    {
     "name": "stdout",
     "output_type": "stream",
     "text": [
      "Epoch 329/512: \n",
      "Train Loss = 0.49391, Train MSE = 0.85347, Train MAE = 0.70034, Train Acc = 0.75747\n",
      "Val Loss = 0.47192, Val MSE = 0.80897, Val MAE = 0.67741, Val Acc = 0.75896\n"
     ]
    },
    {
     "name": "stderr",
     "output_type": "stream",
     "text": [
      "Epoch 330/512: 100%|██████████████████████████████████████████████████████████████████████| 63/63 [00:04<00:00, 12.97it/s]\n"
     ]
    },
    {
     "name": "stdout",
     "output_type": "stream",
     "text": [
      "Epoch 330/512: \n",
      "Train Loss = 0.49513, Train MSE = 0.86135, Train MAE = 0.70120, Train Acc = 0.74851\n",
      "Val Loss = 0.47191, Val MSE = 0.80894, Val MAE = 0.67740, Val Acc = 0.75896\n"
     ]
    },
    {
     "name": "stderr",
     "output_type": "stream",
     "text": [
      "Epoch 331/512: 100%|██████████████████████████████████████████████████████████████████████| 63/63 [00:04<00:00, 12.87it/s]\n"
     ]
    },
    {
     "name": "stdout",
     "output_type": "stream",
     "text": [
      "Epoch 331/512: \n",
      "Train Loss = 0.48985, Train MSE = 0.85062, Train MAE = 0.69724, Train Acc = 0.76220\n",
      "Val Loss = 0.47191, Val MSE = 0.80896, Val MAE = 0.67739, Val Acc = 0.75896\n"
     ]
    },
    {
     "name": "stderr",
     "output_type": "stream",
     "text": [
      "Epoch 332/512: 100%|██████████████████████████████████████████████████████████████████████| 63/63 [00:04<00:00, 12.96it/s]\n"
     ]
    },
    {
     "name": "stdout",
     "output_type": "stream",
     "text": [
      "Epoch 332/512: \n",
      "Train Loss = 0.49896, Train MSE = 0.87026, Train MAE = 0.70811, Train Acc = 0.75174\n",
      "Val Loss = 0.47190, Val MSE = 0.80896, Val MAE = 0.67738, Val Acc = 0.75896\n"
     ]
    },
    {
     "name": "stderr",
     "output_type": "stream",
     "text": [
      "Epoch 333/512: 100%|██████████████████████████████████████████████████████████████████████| 63/63 [00:04<00:00, 12.82it/s]\n"
     ]
    },
    {
     "name": "stdout",
     "output_type": "stream",
     "text": [
      "Epoch 333/512: \n",
      "Train Loss = 0.48991, Train MSE = 0.84529, Train MAE = 0.69624, Train Acc = 0.75946\n",
      "Val Loss = 0.47190, Val MSE = 0.80893, Val MAE = 0.67739, Val Acc = 0.75896\n"
     ]
    },
    {
     "name": "stderr",
     "output_type": "stream",
     "text": [
      "Epoch 334/512: 100%|██████████████████████████████████████████████████████████████████████| 63/63 [00:04<00:00, 12.83it/s]\n"
     ]
    },
    {
     "name": "stdout",
     "output_type": "stream",
     "text": [
      "Epoch 334/512: \n",
      "Train Loss = 0.49287, Train MSE = 0.85580, Train MAE = 0.70042, Train Acc = 0.75423\n",
      "Val Loss = 0.47190, Val MSE = 0.80895, Val MAE = 0.67738, Val Acc = 0.75896\n"
     ]
    },
    {
     "name": "stderr",
     "output_type": "stream",
     "text": [
      "Epoch 335/512: 100%|██████████████████████████████████████████████████████████████████████| 63/63 [00:04<00:00, 12.93it/s]\n"
     ]
    },
    {
     "name": "stdout",
     "output_type": "stream",
     "text": [
      "Epoch 335/512: \n",
      "Train Loss = 0.50713, Train MSE = 0.87843, Train MAE = 0.71648, Train Acc = 0.74353\n",
      "Val Loss = 0.47190, Val MSE = 0.80896, Val MAE = 0.67738, Val Acc = 0.75896\n"
     ]
    },
    {
     "name": "stderr",
     "output_type": "stream",
     "text": [
      "Epoch 336/512: 100%|██████████████████████████████████████████████████████████████████████| 63/63 [00:04<00:00, 12.70it/s]\n"
     ]
    },
    {
     "name": "stdout",
     "output_type": "stream",
     "text": [
      "Epoch 336/512: \n",
      "Train Loss = 0.49583, Train MSE = 0.85929, Train MAE = 0.70393, Train Acc = 0.75174\n",
      "Val Loss = 0.47189, Val MSE = 0.80893, Val MAE = 0.67736, Val Acc = 0.75896\n"
     ]
    },
    {
     "name": "stderr",
     "output_type": "stream",
     "text": [
      "Epoch 337/512: 100%|██████████████████████████████████████████████████████████████████████| 63/63 [00:04<00:00, 13.00it/s]\n"
     ]
    },
    {
     "name": "stdout",
     "output_type": "stream",
     "text": [
      "Epoch 337/512: \n",
      "Train Loss = 0.50737, Train MSE = 0.88401, Train MAE = 0.71454, Train Acc = 0.74427\n",
      "Val Loss = 0.47189, Val MSE = 0.80893, Val MAE = 0.67737, Val Acc = 0.75896\n"
     ]
    },
    {
     "name": "stderr",
     "output_type": "stream",
     "text": [
      "Epoch 338/512: 100%|██████████████████████████████████████████████████████████████████████| 63/63 [00:04<00:00, 12.95it/s]\n"
     ]
    },
    {
     "name": "stdout",
     "output_type": "stream",
     "text": [
      "Epoch 338/512: \n",
      "Train Loss = 0.50099, Train MSE = 0.87457, Train MAE = 0.70736, Train Acc = 0.74826\n",
      "Val Loss = 0.47189, Val MSE = 0.80893, Val MAE = 0.67737, Val Acc = 0.75896\n"
     ]
    },
    {
     "name": "stderr",
     "output_type": "stream",
     "text": [
      "Epoch 339/512: 100%|██████████████████████████████████████████████████████████████████████| 63/63 [00:04<00:00, 12.87it/s]\n"
     ]
    },
    {
     "name": "stdout",
     "output_type": "stream",
     "text": [
      "Epoch 339/512: \n",
      "Train Loss = 0.50936, Train MSE = 0.89348, Train MAE = 0.71821, Train Acc = 0.74826\n",
      "Val Loss = 0.47189, Val MSE = 0.80890, Val MAE = 0.67737, Val Acc = 0.75896\n"
     ]
    },
    {
     "name": "stderr",
     "output_type": "stream",
     "text": [
      "Epoch 340/512: 100%|██████████████████████████████████████████████████████████████████████| 63/63 [00:04<00:00, 12.96it/s]\n"
     ]
    },
    {
     "name": "stdout",
     "output_type": "stream",
     "text": [
      "Epoch 340/512: \n",
      "Train Loss = 0.50150, Train MSE = 0.86706, Train MAE = 0.70965, Train Acc = 0.74801\n",
      "Val Loss = 0.47188, Val MSE = 0.80889, Val MAE = 0.67736, Val Acc = 0.75896\n"
     ]
    },
    {
     "data": {
      "image/png": "[encoded data removed]",
      "text/plain": [
       "<Figure size 1500x700 with 2 Axes>"
      ]
     },
     "metadata": {},
     "output_type": "display_data"
    }
   ],
   "source": [
    "import argparse\n",
    "\n",
    "training_args = argparse.Namespace(**args)\n",
    "train_model(training_args, device)"
   ]
  },
  {
   "cell_type": "code",
   "execution_count": null,
   "metadata": {},
   "outputs": [],
   "source": []
  }
 ],
 "metadata": {
  "kernelspec": {
   "display_name": "Python (myenv)",
   "language": "python",
   "name": "myenv"
  },
  "language_info": {
   "codemirror_mode": {
    "name": "ipython",
    "version": 3
   },
   "file_extension": ".py",
   "mimetype": "text/x-python",
   "name": "python",
   "nbconvert_exporter": "python",
   "pygments_lexer": "ipython3",
   "version": "3.12.7"
  }
 },
 "nbformat": 4,
 "nbformat_minor": 4
}
