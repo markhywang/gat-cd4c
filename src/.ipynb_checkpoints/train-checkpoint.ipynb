{
 "cells": [
  {
   "cell_type": "code",
   "execution_count": 1,
   "metadata": {},
   "outputs": [
    {
     "name": "stdout",
     "output_type": "stream",
     "text": [
      "Using device: cpu\n"
     ]
    }
   ],
   "source": [
    "import torch\n",
    "\n",
    "# Local imports\n",
    "from train import train_model"
   ]
  },
  {
   "cell_type": "code",
   "execution_count": 2,
   "metadata": {},
   "outputs": [
    {
     "name": "stdout",
     "output_type": "stream",
     "text": [
      "Using device: cuda:0\n"
     ]
    }
   ],
   "source": [
    "if torch.backends.mps.is_available():\n",
    "    device = torch.device(\"mps\")\n",
    "elif torch.cuda.is_available():\n",
    "    device = torch.device(\"cuda:0\")\n",
    "else:\n",
    "    device = torch.device(\"cpu\")\n",
    "\n",
    "print(f\"Using device: {device}\")"
   ]
  },
  {
   "cell_type": "code",
   "execution_count": 3,
   "metadata": {},
   "outputs": [],
   "source": [
    "args = {\n",
    "    \"use_small_dataset\": False,\n",
    "    \"batch_size\": 64,\n",
    "    \"stoppage_epochs\": 64,\n",
    "    \"max_epochs\": 512,\n",
    "    \"seed\": 0,\n",
    "    \"data_path\": \"../data\",\n",
    "    \"frac_train\": 0.8,\n",
    "    \"frac_validation\": 0.1,\n",
    "    \"frac_test\": 0.1,\n",
    "    \"huber_beta\": 0.5,\n",
    "    \"weight_decay\": 1e-3,\n",
    "    \"lr\": 3e-4,\n",
    "    \"scheduler_patience\": 10,\n",
    "    \"scheduler_factor\": 0.5,\n",
    "    \"hidden_size\": 96,\n",
    "    \"num_layers\": 8,\n",
    "    \"num_attn_heads\": 6,\n",
    "    \"dropout\": 0.2,\n",
    "    \"pooling_dropout\": 0.1,\n",
    "    \"pooling_dim\": 96,\n",
    "}"
   ]
  },
  {
   "cell_type": "code",
   "execution_count": null,
   "metadata": {},
   "outputs": [
    {
     "name": "stdout",
     "output_type": "stream",
     "text": [
      "Model parameters: 181635\n"
     ]
    },
    {
     "name": "stderr",
     "output_type": "stream",
     "text": [
      "Epoch 1/512: 100%|██████████████████████████████████████████████████████████████████████| 906/906 [02:31<00:00,  5.97it/s]\n"
     ]
    },
    {
     "name": "stdout",
     "output_type": "stream",
     "text": [
      "Epoch 1/512: \n",
      "Train Loss = 0.77925, Train MSE = 1.51074, Train MAE = 1.00483, Train Acc = 0.55585\n",
      "Val Loss = 0.72399, Val MSE = 1.33105, Val MAE = 0.94837, Val Acc = 0.57683\n"
     ]
    },
    {
     "name": "stderr",
     "output_type": "stream",
     "text": [
      "Epoch 2/512: 100%|██████████████████████████████████████████████████████████████████████| 906/906 [00:39<00:00, 22.98it/s]\n"
     ]
    },
    {
     "name": "stdout",
     "output_type": "stream",
     "text": [
      "Epoch 2/512: \n",
      "Train Loss = 0.73093, Train MSE = 1.37247, Train MAE = 0.95481, Train Acc = 0.58346\n",
      "Val Loss = 0.73290, Val MSE = 1.37675, Val MAE = 0.95648, Val Acc = 0.57794\n"
     ]
    },
    {
     "name": "stderr",
     "output_type": "stream",
     "text": [
      "Epoch 3/512: 100%|██████████████████████████████████████████████████████████████████████| 906/906 [00:39<00:00, 22.69it/s]\n"
     ]
    },
    {
     "name": "stdout",
     "output_type": "stream",
     "text": [
      "Epoch 3/512: \n",
      "Train Loss = 0.71781, Train MSE = 1.33745, Train MAE = 0.94127, Train Acc = 0.59111\n",
      "Val Loss = 0.69658, Val MSE = 1.27681, Val MAE = 0.91905, Val Acc = 0.60362\n"
     ]
    },
    {
     "name": "stderr",
     "output_type": "stream",
     "text": [
      "Epoch 4/512: 100%|██████████████████████████████████████████████████████████████████████| 906/906 [00:40<00:00, 22.64it/s]\n"
     ]
    },
    {
     "name": "stdout",
     "output_type": "stream",
     "text": [
      "Epoch 4/512: \n",
      "Train Loss = 0.70098, Train MSE = 1.29242, Train MAE = 0.92375, Train Acc = 0.60068\n",
      "Val Loss = 0.70246, Val MSE = 1.29556, Val MAE = 0.92614, Val Acc = 0.60417\n"
     ]
    },
    {
     "name": "stderr",
     "output_type": "stream",
     "text": [
      "Epoch 5/512: 100%|██████████████████████████████████████████████████████████████████████| 906/906 [00:39<00:00, 22.69it/s]\n"
     ]
    },
    {
     "name": "stdout",
     "output_type": "stream",
     "text": [
      "Epoch 5/512: \n",
      "Train Loss = 0.69467, Train MSE = 1.27945, Train MAE = 0.91696, Train Acc = 0.60552\n",
      "Val Loss = 0.70860, Val MSE = 1.32246, Val MAE = 0.93190, Val Acc = 0.60237\n"
     ]
    },
    {
     "name": "stderr",
     "output_type": "stream",
     "text": [
      "Epoch 6/512: 100%|██████████████████████████████████████████████████████████████████████| 906/906 [00:39<00:00, 22.65it/s]\n"
     ]
    },
    {
     "name": "stdout",
     "output_type": "stream",
     "text": [
      "Epoch 6/512: \n",
      "Train Loss = 0.68487, Train MSE = 1.25474, Train MAE = 0.90654, Train Acc = 0.61349\n",
      "Val Loss = 0.70000, Val MSE = 1.30664, Val MAE = 0.92303, Val Acc = 0.60983\n"
     ]
    },
    {
     "name": "stderr",
     "output_type": "stream",
     "text": [
      "Epoch 7/512: 100%|██████████████████████████████████████████████████████████████████████| 906/906 [00:40<00:00, 22.59it/s]\n"
     ]
    },
    {
     "name": "stdout",
     "output_type": "stream",
     "text": [
      "Epoch 7/512: \n",
      "Train Loss = 0.68160, Train MSE = 1.24396, Train MAE = 0.90333, Train Acc = 0.61321\n",
      "Val Loss = 0.68734, Val MSE = 1.26974, Val MAE = 0.90900, Val Acc = 0.61618\n"
     ]
    },
    {
     "name": "stderr",
     "output_type": "stream",
     "text": [
      "Epoch 8/512: 100%|██████████████████████████████████████████████████████████████████████| 906/906 [00:40<00:00, 22.59it/s]\n"
     ]
    },
    {
     "name": "stdout",
     "output_type": "stream",
     "text": [
      "Epoch 8/512: \n",
      "Train Loss = 0.67584, Train MSE = 1.23082, Train MAE = 0.89733, Train Acc = 0.61832\n",
      "Val Loss = 0.67124, Val MSE = 1.22902, Val MAE = 0.89259, Val Acc = 0.62364\n"
     ]
    },
    {
     "name": "stderr",
     "output_type": "stream",
     "text": [
      "Epoch 9/512: 100%|██████████████████████████████████████████████████████████████████████| 906/906 [00:40<00:00, 22.50it/s]\n"
     ]
    },
    {
     "name": "stdout",
     "output_type": "stream",
     "text": [
      "Epoch 9/512: \n",
      "Train Loss = 0.66775, Train MSE = 1.21456, Train MAE = 0.88823, Train Acc = 0.62236\n",
      "Val Loss = 0.71179, Val MSE = 1.37245, Val MAE = 0.93486, Val Acc = 0.60652\n"
     ]
    },
    {
     "name": "stderr",
     "output_type": "stream",
     "text": [
      "Epoch 10/512: 100%|█████████████████████████████████████████████████████████████████████| 906/906 [00:40<00:00, 22.58it/s]\n"
     ]
    },
    {
     "name": "stdout",
     "output_type": "stream",
     "text": [
      "Epoch 10/512: \n",
      "Train Loss = 0.66537, Train MSE = 1.21035, Train MAE = 0.88585, Train Acc = 0.62562\n",
      "Val Loss = 0.67628, Val MSE = 1.23528, Val MAE = 0.89926, Val Acc = 0.62695\n"
     ]
    },
    {
     "name": "stderr",
     "output_type": "stream",
     "text": [
      "Epoch 11/512: 100%|█████████████████████████████████████████████████████████████████████| 906/906 [00:40<00:00, 22.52it/s]\n"
     ]
    },
    {
     "name": "stdout",
     "output_type": "stream",
     "text": [
      "Epoch 11/512: \n",
      "Train Loss = 0.65724, Train MSE = 1.19311, Train MAE = 0.87734, Train Acc = 0.63161\n",
      "Val Loss = 0.66858, Val MSE = 1.21995, Val MAE = 0.89031, Val Acc = 0.62598\n"
     ]
    },
    {
     "name": "stderr",
     "output_type": "stream",
     "text": [
      "Epoch 12/512: 100%|█████████████████████████████████████████████████████████████████████| 906/906 [00:40<00:00, 22.61it/s]\n"
     ]
    },
    {
     "name": "stdout",
     "output_type": "stream",
     "text": [
      "Epoch 12/512: \n",
      "Train Loss = 0.65331, Train MSE = 1.18219, Train MAE = 0.87332, Train Acc = 0.63373\n",
      "Val Loss = 0.68298, Val MSE = 1.25732, Val MAE = 0.90601, Val Acc = 0.62101\n"
     ]
    },
    {
     "name": "stderr",
     "output_type": "stream",
     "text": [
      "Epoch 13/512: 100%|█████████████████████████████████████████████████████████████████████| 906/906 [00:40<00:00, 22.52it/s]\n"
     ]
    },
    {
     "name": "stdout",
     "output_type": "stream",
     "text": [
      "Epoch 13/512: \n",
      "Train Loss = 0.65037, Train MSE = 1.17762, Train MAE = 0.87040, Train Acc = 0.63763\n",
      "Val Loss = 0.66324, Val MSE = 1.20410, Val MAE = 0.88512, Val Acc = 0.62875\n"
     ]
    },
    {
     "name": "stderr",
     "output_type": "stream",
     "text": [
      "Epoch 14/512: 100%|█████████████████████████████████████████████████████████████████████| 906/906 [00:40<00:00, 22.59it/s]\n"
     ]
    },
    {
     "name": "stdout",
     "output_type": "stream",
     "text": [
      "Epoch 14/512: \n",
      "Train Loss = 0.64279, Train MSE = 1.16084, Train MAE = 0.86214, Train Acc = 0.64288\n",
      "Val Loss = 0.69341, Val MSE = 1.30082, Val MAE = 0.91543, Val Acc = 0.61494\n"
     ]
    },
    {
     "name": "stderr",
     "output_type": "stream",
     "text": [
      "Epoch 15/512: 100%|█████████████████████████████████████████████████████████████████████| 906/906 [00:40<00:00, 22.53it/s]\n"
     ]
    },
    {
     "name": "stdout",
     "output_type": "stream",
     "text": [
      "Epoch 15/512: \n",
      "Train Loss = 0.63927, Train MSE = 1.15541, Train MAE = 0.85814, Train Acc = 0.64583\n",
      "Val Loss = 0.66434, Val MSE = 1.21202, Val MAE = 0.88598, Val Acc = 0.62902\n"
     ]
    },
    {
     "name": "stderr",
     "output_type": "stream",
     "text": [
      "Epoch 16/512: 100%|█████████████████████████████████████████████████████████████████████| 906/906 [00:40<00:00, 22.65it/s]\n"
     ]
    },
    {
     "name": "stdout",
     "output_type": "stream",
     "text": [
      "Epoch 16/512: \n",
      "Train Loss = 0.63703, Train MSE = 1.14800, Train MAE = 0.85632, Train Acc = 0.64562\n",
      "Val Loss = 0.68576, Val MSE = 1.28293, Val MAE = 0.90764, Val Acc = 0.62226\n"
     ]
    },
    {
     "name": "stderr",
     "output_type": "stream",
     "text": [
      "Epoch 17/512: 100%|█████████████████████████████████████████████████████████████████████| 906/906 [00:40<00:00, 22.59it/s]\n"
     ]
    },
    {
     "name": "stdout",
     "output_type": "stream",
     "text": [
      "Epoch 17/512: \n",
      "Train Loss = 0.63262, Train MSE = 1.13437, Train MAE = 0.85201, Train Acc = 0.64902\n",
      "Val Loss = 0.68451, Val MSE = 1.27310, Val MAE = 0.90582, Val Acc = 0.61991\n"
     ]
    },
    {
     "name": "stderr",
     "output_type": "stream",
     "text": [
      "Epoch 18/512: 100%|█████████████████████████████████████████████████████████████████████| 906/906 [00:40<00:00, 22.52it/s]\n"
     ]
    },
    {
     "name": "stdout",
     "output_type": "stream",
     "text": [
      "Epoch 18/512: \n",
      "Train Loss = 0.63067, Train MSE = 1.13142, Train MAE = 0.84935, Train Acc = 0.65028\n",
      "Val Loss = 0.67598, Val MSE = 1.25537, Val MAE = 0.89827, Val Acc = 0.62723\n"
     ]
    },
    {
     "name": "stderr",
     "output_type": "stream",
     "text": [
      "Epoch 19/512: 100%|█████████████████████████████████████████████████████████████████████| 906/906 [00:40<00:00, 22.61it/s]\n"
     ]
    },
    {
     "name": "stdout",
     "output_type": "stream",
     "text": [
      "Epoch 19/512: \n",
      "Train Loss = 0.62839, Train MSE = 1.12817, Train MAE = 0.84703, Train Acc = 0.65361\n",
      "Val Loss = 0.65571, Val MSE = 1.20210, Val MAE = 0.87530, Val Acc = 0.63896\n"
     ]
    },
    {
     "name": "stderr",
     "output_type": "stream",
     "text": [
      "Epoch 20/512: 100%|█████████████████████████████████████████████████████████████████████| 906/906 [00:40<00:00, 22.64it/s]\n"
     ]
    },
    {
     "name": "stdout",
     "output_type": "stream",
     "text": [
      "Epoch 20/512: \n",
      "Train Loss = 0.62679, Train MSE = 1.12116, Train MAE = 0.84516, Train Acc = 0.65222\n",
      "Val Loss = 0.63098, Val MSE = 1.12409, Val MAE = 0.85054, Val Acc = 0.65084\n"
     ]
    },
    {
     "name": "stderr",
     "output_type": "stream",
     "text": [
      "Epoch 21/512: 100%|█████████████████████████████████████████████████████████████████████| 906/906 [00:40<00:00, 22.62it/s]\n"
     ]
    },
    {
     "name": "stdout",
     "output_type": "stream",
     "text": [
      "Epoch 21/512: \n",
      "Train Loss = 0.62382, Train MSE = 1.11513, Train MAE = 0.84227, Train Acc = 0.65658\n",
      "Val Loss = 0.68361, Val MSE = 1.28219, Val MAE = 0.90514, Val Acc = 0.62419\n"
     ]
    },
    {
     "name": "stderr",
     "output_type": "stream",
     "text": [
      "Epoch 22/512: 100%|█████████████████████████████████████████████████████████████████████| 906/906 [00:40<00:00, 22.59it/s]\n"
     ]
    },
    {
     "name": "stdout",
     "output_type": "stream",
     "text": [
      "Epoch 22/512: \n",
      "Train Loss = 0.62024, Train MSE = 1.11087, Train MAE = 0.83797, Train Acc = 0.65893\n",
      "Val Loss = 0.64656, Val MSE = 1.17539, Val MAE = 0.86682, Val Acc = 0.64379\n"
     ]
    },
    {
     "name": "stderr",
     "output_type": "stream",
     "text": [
      "Epoch 23/512: 100%|█████████████████████████████████████████████████████████████████████| 906/906 [00:40<00:00, 22.60it/s]\n"
     ]
    },
    {
     "name": "stdout",
     "output_type": "stream",
     "text": [
      "Epoch 23/512: \n",
      "Train Loss = 0.61800, Train MSE = 1.10266, Train MAE = 0.83599, Train Acc = 0.65908\n",
      "Val Loss = 0.63265, Val MSE = 1.12912, Val MAE = 0.85285, Val Acc = 0.64876\n"
     ]
    },
    {
     "name": "stderr",
     "output_type": "stream",
     "text": [
      "Epoch 24/512: 100%|█████████████████████████████████████████████████████████████████████| 906/906 [00:40<00:00, 22.53it/s]\n"
     ]
    },
    {
     "name": "stdout",
     "output_type": "stream",
     "text": [
      "Epoch 24/512: \n",
      "Train Loss = 0.61635, Train MSE = 1.09958, Train MAE = 0.83393, Train Acc = 0.66048\n",
      "Val Loss = 0.64752, Val MSE = 1.18929, Val MAE = 0.86690, Val Acc = 0.64297\n"
     ]
    },
    {
     "name": "stderr",
     "output_type": "stream",
     "text": [
      "Epoch 25/512: 100%|█████████████████████████████████████████████████████████████████████| 906/906 [00:40<00:00, 22.52it/s]\n"
     ]
    },
    {
     "name": "stdout",
     "output_type": "stream",
     "text": [
      "Epoch 25/512: \n",
      "Train Loss = 0.61561, Train MSE = 1.09786, Train MAE = 0.83340, Train Acc = 0.66107\n",
      "Val Loss = 0.72080, Val MSE = 1.37730, Val MAE = 0.94397, Val Acc = 0.59879\n"
     ]
    },
    {
     "name": "stderr",
     "output_type": "stream",
     "text": [
      "Epoch 26/512: 100%|█████████████████████████████████████████████████████████████████████| 906/906 [00:40<00:00, 22.53it/s]\n"
     ]
    },
    {
     "name": "stdout",
     "output_type": "stream",
     "text": [
      "Epoch 26/512: \n",
      "Train Loss = 0.61336, Train MSE = 1.08962, Train MAE = 0.83121, Train Acc = 0.66248\n",
      "Val Loss = 0.63704, Val MSE = 1.14748, Val MAE = 0.85628, Val Acc = 0.64614\n"
     ]
    },
    {
     "name": "stderr",
     "output_type": "stream",
     "text": [
      "Epoch 27/512: 100%|█████████████████████████████████████████████████████████████████████| 906/906 [00:40<00:00, 22.57it/s]\n"
     ]
    },
    {
     "name": "stdout",
     "output_type": "stream",
     "text": [
      "Epoch 27/512: \n",
      "Train Loss = 0.60857, Train MSE = 1.08229, Train MAE = 0.82587, Train Acc = 0.66823\n",
      "Val Loss = 0.66902, Val MSE = 1.24411, Val MAE = 0.89009, Val Acc = 0.62999\n"
     ]
    },
    {
     "name": "stderr",
     "output_type": "stream",
     "text": [
      "Epoch 28/512: 100%|█████████████████████████████████████████████████████████████████████| 906/906 [00:40<00:00, 22.47it/s]\n"
     ]
    },
    {
     "name": "stdout",
     "output_type": "stream",
     "text": [
      "Epoch 28/512: \n",
      "Train Loss = 0.60920, Train MSE = 1.08304, Train MAE = 0.82668, Train Acc = 0.66507\n",
      "Val Loss = 0.64301, Val MSE = 1.16761, Val MAE = 0.86262, Val Acc = 0.64421\n"
     ]
    },
    {
     "name": "stderr",
     "output_type": "stream",
     "text": [
      "Epoch 29/512: 100%|█████████████████████████████████████████████████████████████████████| 906/906 [00:40<00:00, 22.59it/s]\n"
     ]
    },
    {
     "name": "stdout",
     "output_type": "stream",
     "text": [
      "Epoch 29/512: \n",
      "Train Loss = 0.60848, Train MSE = 1.08120, Train MAE = 0.82586, Train Acc = 0.66654\n",
      "Val Loss = 0.63394, Val MSE = 1.13685, Val MAE = 0.85378, Val Acc = 0.64863\n"
     ]
    },
    {
     "name": "stderr",
     "output_type": "stream",
     "text": [
      "Epoch 30/512: 100%|█████████████████████████████████████████████████████████████████████| 906/906 [00:40<00:00, 22.56it/s]\n"
     ]
    },
    {
     "name": "stdout",
     "output_type": "stream",
     "text": [
      "Epoch 30/512: \n",
      "Train Loss = 0.60582, Train MSE = 1.07420, Train MAE = 0.82315, Train Acc = 0.66758\n",
      "Val Loss = 0.63245, Val MSE = 1.13703, Val MAE = 0.85273, Val Acc = 0.64945\n"
     ]
    },
    {
     "name": "stderr",
     "output_type": "stream",
     "text": [
      "Epoch 31/512: 100%|█████████████████████████████████████████████████████████████████████| 906/906 [00:40<00:00, 22.60it/s]\n"
     ]
    },
    {
     "name": "stdout",
     "output_type": "stream",
     "text": [
      "Epoch 31/512: \n",
      "Train Loss = 0.60483, Train MSE = 1.07156, Train MAE = 0.82201, Train Acc = 0.66735\n",
      "Val Loss = 0.67800, Val MSE = 1.27034, Val MAE = 0.89948, Val Acc = 0.62474\n"
     ]
    },
    {
     "name": "stderr",
     "output_type": "stream",
     "text": [
      "Epoch 32/512: 100%|█████████████████████████████████████████████████████████████████████| 906/906 [00:40<00:00, 22.63it/s]\n"
     ]
    },
    {
     "name": "stdout",
     "output_type": "stream",
     "text": [
      "Epoch 32/512: \n",
      "Train Loss = 0.59987, Train MSE = 1.06332, Train MAE = 0.81642, Train Acc = 0.67510\n",
      "Val Loss = 0.61303, Val MSE = 1.09954, Val MAE = 0.83073, Val Acc = 0.66934\n"
     ]
    },
    {
     "name": "stderr",
     "output_type": "stream",
     "text": [
      "Epoch 33/512: 100%|█████████████████████████████████████████████████████████████████████| 906/906 [00:40<00:00, 22.58it/s]\n"
     ]
    },
    {
     "name": "stdout",
     "output_type": "stream",
     "text": [
      "Epoch 33/512: \n",
      "Train Loss = 0.59974, Train MSE = 1.06197, Train MAE = 0.81645, Train Acc = 0.67229\n",
      "Val Loss = 0.59611, Val MSE = 1.04801, Val MAE = 0.81342, Val Acc = 0.67734\n"
     ]
    },
    {
     "name": "stderr",
     "output_type": "stream",
     "text": [
      "Epoch 34/512: 100%|█████████████████████████████████████████████████████████████████████| 906/906 [00:40<00:00, 22.49it/s]\n"
     ]
    },
    {
     "name": "stdout",
     "output_type": "stream",
     "text": [
      "Epoch 34/512: \n",
      "Train Loss = 0.59827, Train MSE = 1.05724, Train MAE = 0.81521, Train Acc = 0.67415\n",
      "Val Loss = 0.66430, Val MSE = 1.22891, Val MAE = 0.88470, Val Acc = 0.63247\n"
     ]
    },
    {
     "name": "stderr",
     "output_type": "stream",
     "text": [
      "Epoch 35/512: 100%|█████████████████████████████████████████████████████████████████████| 906/906 [00:40<00:00, 22.64it/s]\n"
     ]
    },
    {
     "name": "stdout",
     "output_type": "stream",
     "text": [
      "Epoch 35/512: \n",
      "Train Loss = 0.59637, Train MSE = 1.05324, Train MAE = 0.81300, Train Acc = 0.67448\n",
      "Val Loss = 0.60383, Val MSE = 1.06891, Val MAE = 0.82220, Val Acc = 0.67154\n"
     ]
    },
    {
     "name": "stderr",
     "output_type": "stream",
     "text": [
      "Epoch 36/512: 100%|█████████████████████████████████████████████████████████████████████| 906/906 [00:39<00:00, 22.67it/s]\n"
     ]
    },
    {
     "name": "stdout",
     "output_type": "stream",
     "text": [
      "Epoch 36/512: \n",
      "Train Loss = 0.59464, Train MSE = 1.05015, Train MAE = 0.81134, Train Acc = 0.67738\n",
      "Val Loss = 0.60426, Val MSE = 1.07189, Val MAE = 0.82244, Val Acc = 0.66947\n"
     ]
    },
    {
     "name": "stderr",
     "output_type": "stream",
     "text": [
      "Epoch 37/512: 100%|█████████████████████████████████████████████████████████████████████| 906/906 [00:40<00:00, 22.53it/s]\n"
     ]
    },
    {
     "name": "stdout",
     "output_type": "stream",
     "text": [
      "Epoch 37/512: \n",
      "Train Loss = 0.59390, Train MSE = 1.04861, Train MAE = 0.80997, Train Acc = 0.67526\n",
      "Val Loss = 0.60676, Val MSE = 1.09163, Val MAE = 0.82460, Val Acc = 0.66671\n"
     ]
    },
    {
     "name": "stderr",
     "output_type": "stream",
     "text": [
      "Epoch 38/512: 100%|█████████████████████████████████████████████████████████████████████| 906/906 [00:40<00:00, 22.63it/s]\n"
     ]
    },
    {
     "name": "stdout",
     "output_type": "stream",
     "text": [
      "Epoch 38/512: \n",
      "Train Loss = 0.59304, Train MSE = 1.04560, Train MAE = 0.80961, Train Acc = 0.67805\n",
      "Val Loss = 0.61065, Val MSE = 1.08078, Val MAE = 0.82962, Val Acc = 0.66699\n"
     ]
    },
    {
     "name": "stderr",
     "output_type": "stream",
     "text": [
      "Epoch 39/512: 100%|█████████████████████████████████████████████████████████████████████| 906/906 [00:40<00:00, 22.51it/s]\n"
     ]
    },
    {
     "name": "stdout",
     "output_type": "stream",
     "text": [
      "Epoch 39/512: \n",
      "Train Loss = 0.59128, Train MSE = 1.04141, Train MAE = 0.80776, Train Acc = 0.67941\n",
      "Val Loss = 0.57809, Val MSE = 1.01140, Val MAE = 0.79437, Val Acc = 0.68811\n"
     ]
    },
    {
     "name": "stderr",
     "output_type": "stream",
     "text": [
      "Epoch 40/512: 100%|█████████████████████████████████████████████████████████████████████| 906/906 [00:40<00:00, 22.54it/s]\n"
     ]
    },
    {
     "name": "stdout",
     "output_type": "stream",
     "text": [
      "Epoch 40/512: \n",
      "Train Loss = 0.59019, Train MSE = 1.04131, Train MAE = 0.80651, Train Acc = 0.67898\n",
      "Val Loss = 0.61976, Val MSE = 1.12094, Val MAE = 0.83926, Val Acc = 0.65746\n"
     ]
    },
    {
     "name": "stderr",
     "output_type": "stream",
     "text": [
      "Epoch 41/512: 100%|█████████████████████████████████████████████████████████████████████| 906/906 [00:40<00:00, 22.60it/s]\n"
     ]
    },
    {
     "name": "stdout",
     "output_type": "stream",
     "text": [
      "Epoch 41/512: \n",
      "Train Loss = 0.58752, Train MSE = 1.03388, Train MAE = 0.80311, Train Acc = 0.68102\n",
      "Val Loss = 0.61725, Val MSE = 1.10640, Val MAE = 0.83660, Val Acc = 0.66657\n"
     ]
    },
    {
     "name": "stderr",
     "output_type": "stream",
     "text": [
      "Epoch 42/512: 100%|█████████████████████████████████████████████████████████████████████| 906/906 [00:40<00:00, 22.61it/s]\n"
     ]
    },
    {
     "name": "stdout",
     "output_type": "stream",
     "text": [
      "Epoch 42/512: \n",
      "Train Loss = 0.59036, Train MSE = 1.03931, Train MAE = 0.80662, Train Acc = 0.68121\n",
      "Val Loss = 0.61393, Val MSE = 1.09327, Val MAE = 0.83241, Val Acc = 0.66506\n"
     ]
    },
    {
     "name": "stderr",
     "output_type": "stream",
     "text": [
      "Epoch 43/512: 100%|█████████████████████████████████████████████████████████████████████| 906/906 [00:40<00:00, 22.57it/s]\n"
     ]
    },
    {
     "name": "stdout",
     "output_type": "stream",
     "text": [
      "Epoch 43/512: \n",
      "Train Loss = 0.59066, Train MSE = 1.03994, Train MAE = 0.80715, Train Acc = 0.67879\n",
      "Val Loss = 0.60583, Val MSE = 1.07634, Val MAE = 0.82405, Val Acc = 0.67058\n"
     ]
    },
    {
     "name": "stderr",
     "output_type": "stream",
     "text": [
      "Epoch 44/512: 100%|█████████████████████████████████████████████████████████████████████| 906/906 [00:40<00:00, 22.52it/s]\n"
     ]
    },
    {
     "name": "stdout",
     "output_type": "stream",
     "text": [
      "Epoch 44/512: \n",
      "Train Loss = 0.58519, Train MSE = 1.02777, Train MAE = 0.80144, Train Acc = 0.68407\n",
      "Val Loss = 0.59950, Val MSE = 1.08321, Val MAE = 0.81655, Val Acc = 0.67610\n"
     ]
    },
    {
     "name": "stderr",
     "output_type": "stream",
     "text": [
      "Epoch 45/512: 100%|█████████████████████████████████████████████████████████████████████| 906/906 [00:40<00:00, 22.55it/s]\n"
     ]
    },
    {
     "name": "stdout",
     "output_type": "stream",
     "text": [
      "Epoch 45/512: \n",
      "Train Loss = 0.58417, Train MSE = 1.02448, Train MAE = 0.80007, Train Acc = 0.68249\n",
      "Val Loss = 0.61112, Val MSE = 1.09141, Val MAE = 0.82903, Val Acc = 0.67127\n"
     ]
    },
    {
     "name": "stderr",
     "output_type": "stream",
     "text": [
      "Epoch 46/512: 100%|█████████████████████████████████████████████████████████████████████| 906/906 [00:40<00:00, 22.56it/s]\n"
     ]
    },
    {
     "name": "stdout",
     "output_type": "stream",
     "text": [
      "Epoch 46/512: \n",
      "Train Loss = 0.58335, Train MSE = 1.02381, Train MAE = 0.79961, Train Acc = 0.68533\n",
      "Val Loss = 0.59892, Val MSE = 1.07538, Val MAE = 0.81704, Val Acc = 0.67679\n"
     ]
    },
    {
     "name": "stderr",
     "output_type": "stream",
     "text": [
      "Epoch 47/512: 100%|█████████████████████████████████████████████████████████████████████| 906/906 [00:40<00:00, 22.62it/s]\n"
     ]
    },
    {
     "name": "stdout",
     "output_type": "stream",
     "text": [
      "Epoch 47/512: \n",
      "Train Loss = 0.58253, Train MSE = 1.02241, Train MAE = 0.79848, Train Acc = 0.68485\n",
      "Val Loss = 0.65665, Val MSE = 1.20485, Val MAE = 0.87735, Val Acc = 0.63648\n"
     ]
    },
    {
     "name": "stderr",
     "output_type": "stream",
     "text": [
      "Epoch 48/512: 100%|█████████████████████████████████████████████████████████████████████| 906/906 [00:40<00:00, 22.59it/s]\n"
     ]
    },
    {
     "name": "stdout",
     "output_type": "stream",
     "text": [
      "Epoch 48/512: \n",
      "Train Loss = 0.58073, Train MSE = 1.01777, Train MAE = 0.79663, Train Acc = 0.68621\n",
      "Val Loss = 0.63143, Val MSE = 1.14088, Val MAE = 0.85157, Val Acc = 0.65691\n"
     ]
    },
    {
     "name": "stderr",
     "output_type": "stream",
     "text": [
      "Epoch 49/512: 100%|█████████████████████████████████████████████████████████████████████| 906/906 [00:40<00:00, 22.59it/s]\n"
     ]
    },
    {
     "name": "stdout",
     "output_type": "stream",
     "text": [
      "Epoch 49/512: \n",
      "Train Loss = 0.57900, Train MSE = 1.01312, Train MAE = 0.79459, Train Acc = 0.68611\n",
      "Val Loss = 0.57327, Val MSE = 1.01115, Val MAE = 0.78844, Val Acc = 0.69143\n"
     ]
    },
    {
     "name": "stderr",
     "output_type": "stream",
     "text": [
      "Epoch 50/512: 100%|█████████████████████████████████████████████████████████████████████| 906/906 [00:40<00:00, 22.50it/s]\n"
     ]
    },
    {
     "name": "stdout",
     "output_type": "stream",
     "text": [
      "Epoch 50/512: \n",
      "Train Loss = 0.57866, Train MSE = 1.01450, Train MAE = 0.79439, Train Acc = 0.68848\n",
      "Val Loss = 0.62199, Val MSE = 1.13371, Val MAE = 0.84040, Val Acc = 0.65415\n"
     ]
    },
    {
     "name": "stderr",
     "output_type": "stream",
     "text": [
      "Epoch 51/512: 100%|█████████████████████████████████████████████████████████████████████| 906/906 [00:40<00:00, 22.56it/s]\n"
     ]
    },
    {
     "name": "stdout",
     "output_type": "stream",
     "text": [
      "Epoch 51/512: \n",
      "Train Loss = 0.58041, Train MSE = 1.01619, Train MAE = 0.79627, Train Acc = 0.68715\n",
      "Val Loss = 0.60884, Val MSE = 1.10331, Val MAE = 0.82709, Val Acc = 0.67030\n"
     ]
    },
    {
     "name": "stderr",
     "output_type": "stream",
     "text": [
      "Epoch 52/512: 100%|█████████████████████████████████████████████████████████████████████| 906/906 [00:40<00:00, 22.59it/s]\n"
     ]
    },
    {
     "name": "stdout",
     "output_type": "stream",
     "text": [
      "Epoch 52/512: \n",
      "Train Loss = 0.57734, Train MSE = 1.00956, Train MAE = 0.79299, Train Acc = 0.68696\n",
      "Val Loss = 0.59169, Val MSE = 1.03752, Val MAE = 0.80943, Val Acc = 0.68135\n"
     ]
    },
    {
     "name": "stderr",
     "output_type": "stream",
     "text": [
      "Epoch 53/512: 100%|█████████████████████████████████████████████████████████████████████| 906/906 [00:40<00:00, 22.51it/s]\n"
     ]
    },
    {
     "name": "stdout",
     "output_type": "stream",
     "text": [
      "Epoch 53/512: \n",
      "Train Loss = 0.57697, Train MSE = 1.01032, Train MAE = 0.79246, Train Acc = 0.69046\n",
      "Val Loss = 0.55390, Val MSE = 0.95243, Val MAE = 0.76877, Val Acc = 0.70509\n"
     ]
    },
    {
     "name": "stderr",
     "output_type": "stream",
     "text": [
      "Epoch 54/512: 100%|█████████████████████████████████████████████████████████████████████| 906/906 [00:40<00:00, 22.49it/s]\n"
     ]
    },
    {
     "name": "stdout",
     "output_type": "stream",
     "text": [
      "Epoch 54/512: \n",
      "Train Loss = 0.57608, Train MSE = 1.00751, Train MAE = 0.79179, Train Acc = 0.68965\n",
      "Val Loss = 0.55264, Val MSE = 0.94865, Val MAE = 0.76781, Val Acc = 0.70565\n"
     ]
    },
    {
     "name": "stderr",
     "output_type": "stream",
     "text": [
      "Epoch 55/512: 100%|█████████████████████████████████████████████████████████████████████| 906/906 [00:40<00:00, 22.60it/s]\n"
     ]
    },
    {
     "name": "stdout",
     "output_type": "stream",
     "text": [
      "Epoch 55/512: \n",
      "Train Loss = 0.57672, Train MSE = 1.00805, Train MAE = 0.79224, Train Acc = 0.68744\n",
      "Val Loss = 0.60274, Val MSE = 1.06686, Val MAE = 0.82114, Val Acc = 0.66947\n"
     ]
    },
    {
     "name": "stderr",
     "output_type": "stream",
     "text": [
      "Epoch 56/512: 100%|█████████████████████████████████████████████████████████████████████| 906/906 [00:40<00:00, 22.61it/s]\n"
     ]
    },
    {
     "name": "stdout",
     "output_type": "stream",
     "text": [
      "Epoch 56/512: \n",
      "Train Loss = 0.57464, Train MSE = 1.00223, Train MAE = 0.79039, Train Acc = 0.69172\n",
      "Val Loss = 0.55735, Val MSE = 0.97087, Val MAE = 0.77232, Val Acc = 0.70730\n"
     ]
    },
    {
     "name": "stderr",
     "output_type": "stream",
     "text": [
      "Epoch 57/512: 100%|█████████████████████████████████████████████████████████████████████| 906/906 [00:40<00:00, 22.61it/s]\n"
     ]
    },
    {
     "name": "stdout",
     "output_type": "stream",
     "text": [
      "Epoch 57/512: \n",
      "Train Loss = 0.57241, Train MSE = 0.99891, Train MAE = 0.78755, Train Acc = 0.69320\n",
      "Val Loss = 0.57464, Val MSE = 1.01459, Val MAE = 0.79075, Val Acc = 0.69170\n"
     ]
    },
    {
     "name": "stderr",
     "output_type": "stream",
     "text": [
      "Epoch 58/512: 100%|█████████████████████████████████████████████████████████████████████| 906/906 [00:40<00:00, 22.51it/s]\n"
     ]
    },
    {
     "name": "stdout",
     "output_type": "stream",
     "text": [
      "Epoch 58/512: \n",
      "Train Loss = 0.57008, Train MSE = 0.99154, Train MAE = 0.78548, Train Acc = 0.69417\n",
      "Val Loss = 0.56752, Val MSE = 0.98477, Val MAE = 0.78374, Val Acc = 0.69847\n"
     ]
    },
    {
     "name": "stderr",
     "output_type": "stream",
     "text": [
      "Epoch 59/512: 100%|█████████████████████████████████████████████████████████████████████| 906/906 [00:40<00:00, 22.59it/s]\n"
     ]
    },
    {
     "name": "stdout",
     "output_type": "stream",
     "text": [
      "Epoch 59/512: \n",
      "Train Loss = 0.56953, Train MSE = 0.99216, Train MAE = 0.78508, Train Acc = 0.69448\n",
      "Val Loss = 0.55834, Val MSE = 0.96406, Val MAE = 0.77380, Val Acc = 0.70509\n"
     ]
    },
    {
     "name": "stderr",
     "output_type": "stream",
     "text": [
      "Epoch 60/512: 100%|█████████████████████████████████████████████████████████████████████| 906/906 [00:40<00:00, 22.56it/s]\n"
     ]
    },
    {
     "name": "stdout",
     "output_type": "stream",
     "text": [
      "Epoch 60/512: \n",
      "Train Loss = 0.56688, Train MSE = 0.98841, Train MAE = 0.78159, Train Acc = 0.69543\n",
      "Val Loss = 0.57827, Val MSE = 1.00719, Val MAE = 0.79477, Val Acc = 0.68590\n"
     ]
    },
    {
     "name": "stderr",
     "output_type": "stream",
     "text": [
      "Epoch 61/512: 100%|█████████████████████████████████████████████████████████████████████| 906/906 [00:40<00:00, 22.59it/s]\n"
     ]
    },
    {
     "name": "stdout",
     "output_type": "stream",
     "text": [
      "Epoch 61/512: \n",
      "Train Loss = 0.57029, Train MSE = 0.99590, Train MAE = 0.78542, Train Acc = 0.69386\n",
      "Val Loss = 0.60731, Val MSE = 1.08475, Val MAE = 0.82590, Val Acc = 0.66754\n"
     ]
    },
    {
     "name": "stderr",
     "output_type": "stream",
     "text": [
      "Epoch 62/512: 100%|█████████████████████████████████████████████████████████████████████| 906/906 [00:40<00:00, 22.54it/s]\n"
     ]
    },
    {
     "name": "stdout",
     "output_type": "stream",
     "text": [
      "Epoch 62/512: \n",
      "Train Loss = 0.56720, Train MSE = 0.98957, Train MAE = 0.78197, Train Acc = 0.69583\n",
      "Val Loss = 0.59252, Val MSE = 1.04667, Val MAE = 0.80984, Val Acc = 0.67969\n"
     ]
    },
    {
     "name": "stderr",
     "output_type": "stream",
     "text": [
      "Epoch 63/512: 100%|█████████████████████████████████████████████████████████████████████| 906/906 [00:39<00:00, 22.67it/s]\n"
     ]
    },
    {
     "name": "stdout",
     "output_type": "stream",
     "text": [
      "Epoch 63/512: \n",
      "Train Loss = 0.56669, Train MSE = 0.98661, Train MAE = 0.78144, Train Acc = 0.69591\n",
      "Val Loss = 0.59358, Val MSE = 1.05181, Val MAE = 0.81115, Val Acc = 0.68066\n"
     ]
    },
    {
     "name": "stderr",
     "output_type": "stream",
     "text": [
      "Epoch 64/512: 100%|█████████████████████████████████████████████████████████████████████| 906/906 [00:40<00:00, 22.56it/s]\n"
     ]
    },
    {
     "name": "stdout",
     "output_type": "stream",
     "text": [
      "Epoch 64/512: \n",
      "Train Loss = 0.56571, Train MSE = 0.98260, Train MAE = 0.78066, Train Acc = 0.69693\n",
      "Val Loss = 0.58673, Val MSE = 1.05969, Val MAE = 0.80288, Val Acc = 0.68866\n"
     ]
    },
    {
     "name": "stderr",
     "output_type": "stream",
     "text": [
      "Epoch 65/512: 100%|█████████████████████████████████████████████████████████████████████| 906/906 [00:40<00:00, 22.59it/s]\n"
     ]
    },
    {
     "name": "stdout",
     "output_type": "stream",
     "text": [
      "Epoch 65/512: \n",
      "Train Loss = 0.56584, Train MSE = 0.98422, Train MAE = 0.78070, Train Acc = 0.69876\n",
      "Val Loss = 0.57545, Val MSE = 1.00771, Val MAE = 0.79197, Val Acc = 0.68866\n"
     ]
    },
    {
     "name": "stderr",
     "output_type": "stream",
     "text": [
      "Epoch 66/512: 100%|█████████████████████████████████████████████████████████████████████| 906/906 [00:40<00:00, 22.56it/s]\n"
     ]
    },
    {
     "name": "stdout",
     "output_type": "stream",
     "text": [
      "Epoch 66/512: \n",
      "Train Loss = 0.56643, Train MSE = 0.98499, Train MAE = 0.78118, Train Acc = 0.69591\n",
      "Val Loss = 0.55836, Val MSE = 0.96074, Val MAE = 0.77407, Val Acc = 0.70440\n"
     ]
    },
    {
     "name": "stderr",
     "output_type": "stream",
     "text": [
      "Epoch 67/512: 100%|█████████████████████████████████████████████████████████████████████| 906/906 [00:40<00:00, 22.52it/s]\n"
     ]
    },
    {
     "name": "stdout",
     "output_type": "stream",
     "text": [
      "Epoch 67/512: \n",
      "Train Loss = 0.56440, Train MSE = 0.98110, Train MAE = 0.77939, Train Acc = 0.69959\n",
      "Val Loss = 0.59129, Val MSE = 1.05153, Val MAE = 0.80850, Val Acc = 0.68107\n"
     ]
    },
    {
     "name": "stderr",
     "output_type": "stream",
     "text": [
      "Epoch 68/512: 100%|█████████████████████████████████████████████████████████████████████| 906/906 [00:40<00:00, 22.58it/s]\n"
     ]
    },
    {
     "name": "stdout",
     "output_type": "stream",
     "text": [
      "Epoch 68/512: \n",
      "Train Loss = 0.56197, Train MSE = 0.97713, Train MAE = 0.77675, Train Acc = 0.70054\n",
      "Val Loss = 0.58080, Val MSE = 1.01991, Val MAE = 0.79755, Val Acc = 0.68853\n"
     ]
    },
    {
     "name": "stderr",
     "output_type": "stream",
     "text": [
      "Epoch 69/512: 100%|█████████████████████████████████████████████████████████████████████| 906/906 [00:40<00:00, 22.59it/s]\n"
     ]
    },
    {
     "name": "stdout",
     "output_type": "stream",
     "text": [
      "Epoch 69/512: \n",
      "Train Loss = 0.56211, Train MSE = 0.97576, Train MAE = 0.77683, Train Acc = 0.69885\n",
      "Val Loss = 0.57613, Val MSE = 1.00649, Val MAE = 0.79297, Val Acc = 0.69129\n"
     ]
    },
    {
     "name": "stderr",
     "output_type": "stream",
     "text": [
      "Epoch 70/512: 100%|█████████████████████████████████████████████████████████████████████| 906/906 [00:40<00:00, 22.59it/s]\n"
     ]
    },
    {
     "name": "stdout",
     "output_type": "stream",
     "text": [
      "Epoch 70/512: \n",
      "Train Loss = 0.55945, Train MSE = 0.96933, Train MAE = 0.77382, Train Acc = 0.70045\n",
      "Val Loss = 0.59844, Val MSE = 1.08394, Val MAE = 0.81661, Val Acc = 0.68121\n"
     ]
    },
    {
     "name": "stderr",
     "output_type": "stream",
     "text": [
      "Epoch 71/512: 100%|█████████████████████████████████████████████████████████████████████| 906/906 [00:40<00:00, 22.61it/s]\n"
     ]
    },
    {
     "name": "stdout",
     "output_type": "stream",
     "text": [
      "Epoch 71/512: \n",
      "Train Loss = 0.56149, Train MSE = 0.97593, Train MAE = 0.77594, Train Acc = 0.70073\n",
      "Val Loss = 0.54163, Val MSE = 0.92164, Val MAE = 0.75543, Val Acc = 0.71076\n"
     ]
    },
    {
     "name": "stderr",
     "output_type": "stream",
     "text": [
      "Epoch 72/512: 100%|█████████████████████████████████████████████████████████████████████| 906/906 [00:40<00:00, 22.55it/s]\n"
     ]
    },
    {
     "name": "stdout",
     "output_type": "stream",
     "text": [
      "Epoch 72/512: \n",
      "Train Loss = 0.55933, Train MSE = 0.97033, Train MAE = 0.77380, Train Acc = 0.70259\n",
      "Val Loss = 0.58593, Val MSE = 1.07746, Val MAE = 0.80207, Val Acc = 0.68742\n"
     ]
    },
    {
     "name": "stderr",
     "output_type": "stream",
     "text": [
      "Epoch 73/512: 100%|█████████████████████████████████████████████████████████████████████| 906/906 [00:40<00:00, 22.61it/s]\n"
     ]
    },
    {
     "name": "stdout",
     "output_type": "stream",
     "text": [
      "Epoch 73/512: \n",
      "Train Loss = 0.56220, Train MSE = 0.97628, Train MAE = 0.77715, Train Acc = 0.70021\n",
      "Val Loss = 0.56641, Val MSE = 1.00139, Val MAE = 0.78237, Val Acc = 0.70068\n"
     ]
    },
    {
     "name": "stderr",
     "output_type": "stream",
     "text": [
      "Epoch 74/512: 100%|█████████████████████████████████████████████████████████████████████| 906/906 [00:40<00:00, 22.52it/s]\n"
     ]
    },
    {
     "name": "stdout",
     "output_type": "stream",
     "text": [
      "Epoch 74/512: \n",
      "Train Loss = 0.55854, Train MSE = 0.96662, Train MAE = 0.77295, Train Acc = 0.70261\n",
      "Val Loss = 0.57650, Val MSE = 1.02279, Val MAE = 0.79239, Val Acc = 0.69446\n"
     ]
    },
    {
     "name": "stderr",
     "output_type": "stream",
     "text": [
      "Epoch 75/512: 100%|█████████████████████████████████████████████████████████████████████| 906/906 [00:40<00:00, 22.55it/s]\n"
     ]
    },
    {
     "name": "stdout",
     "output_type": "stream",
     "text": [
      "Epoch 75/512: \n",
      "Train Loss = 0.55938, Train MSE = 0.97057, Train MAE = 0.77377, Train Acc = 0.70080\n",
      "Val Loss = 0.55921, Val MSE = 0.97441, Val MAE = 0.77356, Val Acc = 0.70482\n"
     ]
    },
    {
     "name": "stderr",
     "output_type": "stream",
     "text": [
      "Epoch 76/512: 100%|█████████████████████████████████████████████████████████████████████| 906/906 [00:40<00:00, 22.53it/s]\n"
     ]
    },
    {
     "name": "stdout",
     "output_type": "stream",
     "text": [
      "Epoch 76/512: \n",
      "Train Loss = 0.55778, Train MSE = 0.96549, Train MAE = 0.77244, Train Acc = 0.70321\n",
      "Val Loss = 0.57412, Val MSE = 1.01364, Val MAE = 0.79027, Val Acc = 0.69515\n"
     ]
    },
    {
     "name": "stderr",
     "output_type": "stream",
     "text": [
      "Epoch 77/512: 100%|█████████████████████████████████████████████████████████████████████| 906/906 [00:40<00:00, 22.51it/s]\n"
     ]
    },
    {
     "name": "stdout",
     "output_type": "stream",
     "text": [
      "Epoch 77/512: \n",
      "Train Loss = 0.55902, Train MSE = 0.96709, Train MAE = 0.77359, Train Acc = 0.70289\n",
      "Val Loss = 0.58156, Val MSE = 1.03907, Val MAE = 0.79759, Val Acc = 0.69184\n"
     ]
    },
    {
     "name": "stderr",
     "output_type": "stream",
     "text": [
      "Epoch 78/512: 100%|█████████████████████████████████████████████████████████████████████| 906/906 [00:40<00:00, 22.61it/s]\n"
     ]
    },
    {
     "name": "stdout",
     "output_type": "stream",
     "text": [
      "Epoch 78/512: \n",
      "Train Loss = 0.55547, Train MSE = 0.95968, Train MAE = 0.76975, Train Acc = 0.70513\n",
      "Val Loss = 0.55067, Val MSE = 0.97526, Val MAE = 0.76519, Val Acc = 0.71034\n"
     ]
    },
    {
     "name": "stderr",
     "output_type": "stream",
     "text": [
      "Epoch 79/512: 100%|█████████████████████████████████████████████████████████████████████| 906/906 [00:40<00:00, 22.51it/s]\n"
     ]
    },
    {
     "name": "stdout",
     "output_type": "stream",
     "text": [
      "Epoch 79/512: \n",
      "Train Loss = 0.55443, Train MSE = 0.95756, Train MAE = 0.76879, Train Acc = 0.70553\n",
      "Val Loss = 0.57615, Val MSE = 1.01521, Val MAE = 0.79223, Val Acc = 0.69212\n"
     ]
    },
    {
     "name": "stderr",
     "output_type": "stream",
     "text": [
      "Epoch 80/512: 100%|█████████████████████████████████████████████████████████████████████| 906/906 [00:40<00:00, 22.60it/s]\n"
     ]
    },
    {
     "name": "stdout",
     "output_type": "stream",
     "text": [
      "Epoch 80/512: \n",
      "Train Loss = 0.55437, Train MSE = 0.95570, Train MAE = 0.76831, Train Acc = 0.70378\n",
      "Val Loss = 0.58446, Val MSE = 1.03401, Val MAE = 0.80158, Val Acc = 0.68936\n"
     ]
    },
    {
     "name": "stderr",
     "output_type": "stream",
     "text": [
      "Epoch 81/512: 100%|█████████████████████████████████████████████████████████████████████| 906/906 [00:40<00:00, 22.60it/s]\n"
     ]
    },
    {
     "name": "stdout",
     "output_type": "stream",
     "text": [
      "Epoch 81/512: \n",
      "Train Loss = 0.55479, Train MSE = 0.95782, Train MAE = 0.76933, Train Acc = 0.70468\n",
      "Val Loss = 0.53688, Val MSE = 0.91373, Val MAE = 0.75093, Val Acc = 0.71918\n"
     ]
    },
    {
     "name": "stderr",
     "output_type": "stream",
     "text": [
      "Epoch 82/512: 100%|█████████████████████████████████████████████████████████████████████| 906/906 [00:40<00:00, 22.54it/s]\n"
     ]
    },
    {
     "name": "stdout",
     "output_type": "stream",
     "text": [
      "Epoch 82/512: \n",
      "Train Loss = 0.55516, Train MSE = 0.96056, Train MAE = 0.76929, Train Acc = 0.70423\n",
      "Val Loss = 0.55897, Val MSE = 0.98253, Val MAE = 0.77399, Val Acc = 0.70440\n"
     ]
    },
    {
     "name": "stderr",
     "output_type": "stream",
     "text": [
      "Epoch 83/512: 100%|█████████████████████████████████████████████████████████████████████| 906/906 [00:40<00:00, 22.56it/s]\n"
     ]
    },
    {
     "name": "stdout",
     "output_type": "stream",
     "text": [
      "Epoch 83/512: \n",
      "Train Loss = 0.55393, Train MSE = 0.95582, Train MAE = 0.76810, Train Acc = 0.70668\n",
      "Val Loss = 0.54674, Val MSE = 0.95161, Val MAE = 0.76158, Val Acc = 0.71642\n"
     ]
    },
    {
     "name": "stderr",
     "output_type": "stream",
     "text": [
      "Epoch 84/512: 100%|█████████████████████████████████████████████████████████████████████| 906/906 [00:40<00:00, 22.52it/s]\n"
     ]
    },
    {
     "name": "stdout",
     "output_type": "stream",
     "text": [
      "Epoch 84/512: \n",
      "Train Loss = 0.55265, Train MSE = 0.95352, Train MAE = 0.76650, Train Acc = 0.70673\n",
      "Val Loss = 0.53441, Val MSE = 0.90964, Val MAE = 0.74838, Val Acc = 0.72387\n"
     ]
    },
    {
     "name": "stderr",
     "output_type": "stream",
     "text": [
      "Epoch 85/512: 100%|█████████████████████████████████████████████████████████████████████| 906/906 [00:40<00:00, 22.61it/s]\n"
     ]
    },
    {
     "name": "stdout",
     "output_type": "stream",
     "text": [
      "Epoch 85/512: \n",
      "Train Loss = 0.55061, Train MSE = 0.94744, Train MAE = 0.76477, Train Acc = 0.70787\n",
      "Val Loss = 0.56820, Val MSE = 0.98321, Val MAE = 0.78489, Val Acc = 0.70081\n"
     ]
    },
    {
     "name": "stderr",
     "output_type": "stream",
     "text": [
      "Epoch 86/512: 100%|█████████████████████████████████████████████████████████████████████| 906/906 [00:40<00:00, 22.58it/s]\n"
     ]
    },
    {
     "name": "stdout",
     "output_type": "stream",
     "text": [
      "Epoch 86/512: \n",
      "Train Loss = 0.55157, Train MSE = 0.94881, Train MAE = 0.76594, Train Acc = 0.70608\n",
      "Val Loss = 0.54182, Val MSE = 0.93257, Val MAE = 0.75566, Val Acc = 0.71573\n"
     ]
    },
    {
     "name": "stderr",
     "output_type": "stream",
     "text": [
      "Epoch 87/512: 100%|█████████████████████████████████████████████████████████████████████| 906/906 [00:40<00:00, 22.60it/s]\n"
     ]
    },
    {
     "name": "stdout",
     "output_type": "stream",
     "text": [
      "Epoch 87/512: \n",
      "Train Loss = 0.55436, Train MSE = 0.95505, Train MAE = 0.76892, Train Acc = 0.70537\n",
      "Val Loss = 0.54660, Val MSE = 0.93365, Val MAE = 0.76132, Val Acc = 0.71241\n"
     ]
    },
    {
     "name": "stderr",
     "output_type": "stream",
     "text": [
      "Epoch 88/512: 100%|█████████████████████████████████████████████████████████████████████| 906/906 [00:40<00:00, 22.54it/s]\n"
     ]
    },
    {
     "name": "stdout",
     "output_type": "stream",
     "text": [
      "Epoch 88/512: \n",
      "Train Loss = 0.54942, Train MSE = 0.94452, Train MAE = 0.76335, Train Acc = 0.70927\n",
      "Val Loss = 0.58785, Val MSE = 1.04594, Val MAE = 0.80521, Val Acc = 0.68287\n"
     ]
    },
    {
     "name": "stderr",
     "output_type": "stream",
     "text": [
      "Epoch 89/512: 100%|█████████████████████████████████████████████████████████████████████| 906/906 [00:40<00:00, 22.65it/s]\n"
     ]
    },
    {
     "name": "stdout",
     "output_type": "stream",
     "text": [
      "Epoch 89/512: \n",
      "Train Loss = 0.55358, Train MSE = 0.95519, Train MAE = 0.76779, Train Acc = 0.70551\n",
      "Val Loss = 0.54838, Val MSE = 0.95171, Val MAE = 0.76393, Val Acc = 0.71296\n"
     ]
    },
    {
     "name": "stderr",
     "output_type": "stream",
     "text": [
      "Epoch 90/512: 100%|█████████████████████████████████████████████████████████████████████| 906/906 [00:40<00:00, 22.62it/s]\n"
     ]
    },
    {
     "name": "stdout",
     "output_type": "stream",
     "text": [
      "Epoch 90/512: \n",
      "Train Loss = 0.55238, Train MSE = 0.95412, Train MAE = 0.76664, Train Acc = 0.70830\n",
      "Val Loss = 0.62651, Val MSE = 1.14988, Val MAE = 0.84633, Val Acc = 0.66519\n"
     ]
    },
    {
     "name": "stderr",
     "output_type": "stream",
     "text": [
      "Epoch 91/512: 100%|█████████████████████████████████████████████████████████████████████| 906/906 [00:40<00:00, 22.53it/s]\n"
     ]
    },
    {
     "name": "stdout",
     "output_type": "stream",
     "text": [
      "Epoch 91/512: \n",
      "Train Loss = 0.54856, Train MSE = 0.94637, Train MAE = 0.76273, Train Acc = 0.71070\n",
      "Val Loss = 0.52274, Val MSE = 0.87835, Val MAE = 0.73622, Val Acc = 0.72967\n"
     ]
    },
    {
     "name": "stderr",
     "output_type": "stream",
     "text": [
      "Epoch 92/512: 100%|█████████████████████████████████████████████████████████████████████| 906/906 [00:40<00:00, 22.55it/s]\n"
     ]
    },
    {
     "name": "stdout",
     "output_type": "stream",
     "text": [
      "Epoch 92/512: \n",
      "Train Loss = 0.54688, Train MSE = 0.93896, Train MAE = 0.76119, Train Acc = 0.71112\n",
      "Val Loss = 0.53203, Val MSE = 0.91994, Val MAE = 0.74475, Val Acc = 0.72332\n"
     ]
    },
    {
     "name": "stderr",
     "output_type": "stream",
     "text": [
      "Epoch 93/512: 100%|█████████████████████████████████████████████████████████████████████| 906/906 [00:40<00:00, 22.59it/s]\n"
     ]
    },
    {
     "name": "stdout",
     "output_type": "stream",
     "text": [
      "Epoch 93/512: \n",
      "Train Loss = 0.54562, Train MSE = 0.93970, Train MAE = 0.75926, Train Acc = 0.71077\n",
      "Val Loss = 0.57008, Val MSE = 1.00960, Val MAE = 0.78626, Val Acc = 0.69653\n"
     ]
    },
    {
     "name": "stderr",
     "output_type": "stream",
     "text": [
      "Epoch 94/512: 100%|█████████████████████████████████████████████████████████████████████| 906/906 [00:39<00:00, 22.65it/s]\n"
     ]
    },
    {
     "name": "stdout",
     "output_type": "stream",
     "text": [
      "Epoch 94/512: \n",
      "Train Loss = 0.54724, Train MSE = 0.94080, Train MAE = 0.76094, Train Acc = 0.70863\n",
      "Val Loss = 0.53879, Val MSE = 0.92227, Val MAE = 0.75192, Val Acc = 0.71932\n"
     ]
    },
    {
     "name": "stderr",
     "output_type": "stream",
     "text": [
      "Epoch 95/512: 100%|█████████████████████████████████████████████████████████████████████| 906/906 [00:40<00:00, 22.50it/s]\n"
     ]
    },
    {
     "name": "stdout",
     "output_type": "stream",
     "text": [
      "Epoch 95/512: \n",
      "Train Loss = 0.54626, Train MSE = 0.93840, Train MAE = 0.76033, Train Acc = 0.71248\n",
      "Val Loss = 0.51465, Val MSE = 0.86637, Val MAE = 0.72689, Val Acc = 0.73768\n"
     ]
    },
    {
     "name": "stderr",
     "output_type": "stream",
     "text": [
      "Epoch 96/512: 100%|█████████████████████████████████████████████████████████████████████| 906/906 [00:40<00:00, 22.57it/s]\n"
     ]
    },
    {
     "name": "stdout",
     "output_type": "stream",
     "text": [
      "Epoch 96/512: \n",
      "Train Loss = 0.54669, Train MSE = 0.94071, Train MAE = 0.76055, Train Acc = 0.71250\n",
      "Val Loss = 0.54488, Val MSE = 0.95420, Val MAE = 0.75936, Val Acc = 0.71462\n"
     ]
    },
    {
     "name": "stderr",
     "output_type": "stream",
     "text": [
      "Epoch 97/512: 100%|█████████████████████████████████████████████████████████████████████| 906/906 [00:40<00:00, 22.55it/s]\n"
     ]
    },
    {
     "name": "stdout",
     "output_type": "stream",
     "text": [
      "Epoch 97/512: \n",
      "Train Loss = 0.54547, Train MSE = 0.93904, Train MAE = 0.75905, Train Acc = 0.71208\n",
      "Val Loss = 0.56879, Val MSE = 1.00619, Val MAE = 0.78524, Val Acc = 0.69874\n"
     ]
    },
    {
     "name": "stderr",
     "output_type": "stream",
     "text": [
      "Epoch 98/512: 100%|█████████████████████████████████████████████████████████████████████| 906/906 [00:40<00:00, 22.53it/s]\n"
     ]
    },
    {
     "name": "stdout",
     "output_type": "stream",
     "text": [
      "Epoch 98/512: \n",
      "Train Loss = 0.54562, Train MSE = 0.93660, Train MAE = 0.75954, Train Acc = 0.71150\n",
      "Val Loss = 0.56149, Val MSE = 0.98451, Val MAE = 0.77684, Val Acc = 0.70399\n"
     ]
    },
    {
     "name": "stderr",
     "output_type": "stream",
     "text": [
      "Epoch 99/512: 100%|█████████████████████████████████████████████████████████████████████| 906/906 [00:40<00:00, 22.61it/s]\n"
     ]
    },
    {
     "name": "stdout",
     "output_type": "stream",
     "text": [
      "Epoch 99/512: \n",
      "Train Loss = 0.54459, Train MSE = 0.93610, Train MAE = 0.75835, Train Acc = 0.71334\n",
      "Val Loss = 0.54540, Val MSE = 0.96629, Val MAE = 0.75969, Val Acc = 0.71365\n"
     ]
    },
    {
     "name": "stderr",
     "output_type": "stream",
     "text": [
      "Epoch 100/512: 100%|████████████████████████████████████████████████████████████████████| 906/906 [00:40<00:00, 22.57it/s]\n"
     ]
    },
    {
     "name": "stdout",
     "output_type": "stream",
     "text": [
      "Epoch 100/512: \n",
      "Train Loss = 0.54283, Train MSE = 0.93170, Train MAE = 0.75638, Train Acc = 0.71388\n",
      "Val Loss = 0.52032, Val MSE = 0.87417, Val MAE = 0.73262, Val Acc = 0.73229\n"
     ]
    },
    {
     "name": "stderr",
     "output_type": "stream",
     "text": [
      "Epoch 101/512: 100%|████████████████████████████████████████████████████████████████████| 906/906 [00:40<00:00, 22.57it/s]\n"
     ]
    },
    {
     "name": "stdout",
     "output_type": "stream",
     "text": [
      "Epoch 101/512: \n",
      "Train Loss = 0.54132, Train MSE = 0.92945, Train MAE = 0.75442, Train Acc = 0.71662\n",
      "Val Loss = 0.55395, Val MSE = 0.97005, Val MAE = 0.76821, Val Acc = 0.70924\n"
     ]
    },
    {
     "name": "stderr",
     "output_type": "stream",
     "text": [
      "Epoch 102/512: 100%|████████████████████████████████████████████████████████████████████| 906/906 [00:40<00:00, 22.58it/s]\n"
     ]
    },
    {
     "name": "stdout",
     "output_type": "stream",
     "text": [
      "Epoch 102/512: \n",
      "Train Loss = 0.54509, Train MSE = 0.93748, Train MAE = 0.75855, Train Acc = 0.71117\n",
      "Val Loss = 0.57167, Val MSE = 1.00215, Val MAE = 0.78806, Val Acc = 0.69584\n"
     ]
    },
    {
     "name": "stderr",
     "output_type": "stream",
     "text": [
      "Epoch 103/512: 100%|████████████████████████████████████████████████████████████████████| 906/906 [00:40<00:00, 22.55it/s]\n"
     ]
    },
    {
     "name": "stdout",
     "output_type": "stream",
     "text": [
      "Epoch 103/512: \n",
      "Train Loss = 0.54100, Train MSE = 0.92804, Train MAE = 0.75448, Train Acc = 0.71452\n",
      "Val Loss = 0.52759, Val MSE = 0.88768, Val MAE = 0.74179, Val Acc = 0.72525\n"
     ]
    },
    {
     "name": "stderr",
     "output_type": "stream",
     "text": [
      "Epoch 104/512: 100%|████████████████████████████████████████████████████████████████████| 906/906 [00:40<00:00, 22.58it/s]\n"
     ]
    },
    {
     "name": "stdout",
     "output_type": "stream",
     "text": [
      "Epoch 104/512: \n",
      "Train Loss = 0.54250, Train MSE = 0.93109, Train MAE = 0.75623, Train Acc = 0.71417\n",
      "Val Loss = 0.52881, Val MSE = 0.91726, Val MAE = 0.74169, Val Acc = 0.72594\n"
     ]
    },
    {
     "name": "stderr",
     "output_type": "stream",
     "text": [
      "Epoch 105/512: 100%|████████████████████████████████████████████████████████████████████| 906/906 [00:40<00:00, 22.55it/s]\n"
     ]
    },
    {
     "name": "stdout",
     "output_type": "stream",
     "text": [
      "Epoch 105/512: \n",
      "Train Loss = 0.54067, Train MSE = 0.92893, Train MAE = 0.75394, Train Acc = 0.71612\n",
      "Val Loss = 0.56096, Val MSE = 1.01283, Val MAE = 0.77551, Val Acc = 0.70855\n"
     ]
    },
    {
     "name": "stderr",
     "output_type": "stream",
     "text": [
      "Epoch 106/512: 100%|████████████████████████████████████████████████████████████████████| 906/906 [00:40<00:00, 22.58it/s]\n"
     ]
    },
    {
     "name": "stdout",
     "output_type": "stream",
     "text": [
      "Epoch 106/512: \n",
      "Train Loss = 0.54215, Train MSE = 0.93020, Train MAE = 0.75565, Train Acc = 0.71393\n",
      "Val Loss = 0.52161, Val MSE = 0.89286, Val MAE = 0.73415, Val Acc = 0.73271\n"
     ]
    },
    {
     "name": "stderr",
     "output_type": "stream",
     "text": [
      "Epoch 107/512: 100%|████████████████████████████████████████████████████████████████████| 906/906 [00:40<00:00, 22.63it/s]\n"
     ]
    },
    {
     "name": "stdout",
     "output_type": "stream",
     "text": [
      "Epoch 107/512: \n",
      "Train Loss = 0.54040, Train MSE = 0.92688, Train MAE = 0.75372, Train Acc = 0.71569\n",
      "Val Loss = 0.55127, Val MSE = 0.96878, Val MAE = 0.76513, Val Acc = 0.71324\n"
     ]
    },
    {
     "name": "stderr",
     "output_type": "stream",
     "text": [
      "Epoch 108/512: 100%|████████████████████████████████████████████████████████████████████| 906/906 [00:40<00:00, 22.57it/s]\n"
     ]
    },
    {
     "name": "stdout",
     "output_type": "stream",
     "text": [
      "Epoch 108/512: \n",
      "Train Loss = 0.53892, Train MSE = 0.92516, Train MAE = 0.75182, Train Acc = 0.71669\n",
      "Val Loss = 0.54209, Val MSE = 0.92575, Val MAE = 0.75623, Val Acc = 0.71379\n"
     ]
    },
    {
     "name": "stderr",
     "output_type": "stream",
     "text": [
      "Epoch 109/512: 100%|████████████████████████████████████████████████████████████████████| 906/906 [00:40<00:00, 22.61it/s]\n"
     ]
    },
    {
     "name": "stdout",
     "output_type": "stream",
     "text": [
      "Epoch 109/512: \n",
      "Train Loss = 0.53885, Train MSE = 0.92268, Train MAE = 0.75212, Train Acc = 0.71590\n",
      "Val Loss = 0.55587, Val MSE = 0.98022, Val MAE = 0.77098, Val Acc = 0.71324\n"
     ]
    },
    {
     "name": "stderr",
     "output_type": "stream",
     "text": [
      "Epoch 110/512: 100%|████████████████████████████████████████████████████████████████████| 906/906 [00:40<00:00, 22.62it/s]\n"
     ]
    },
    {
     "name": "stdout",
     "output_type": "stream",
     "text": [
      "Epoch 110/512: \n",
      "Train Loss = 0.53739, Train MSE = 0.92013, Train MAE = 0.75076, Train Acc = 0.71802\n",
      "Val Loss = 0.54205, Val MSE = 0.94015, Val MAE = 0.75548, Val Acc = 0.71904\n"
     ]
    },
    {
     "name": "stderr",
     "output_type": "stream",
     "text": [
      "Epoch 111/512: 100%|████████████████████████████████████████████████████████████████████| 906/906 [00:40<00:00, 22.59it/s]\n"
     ]
    },
    {
     "name": "stdout",
     "output_type": "stream",
     "text": [
      "Epoch 111/512: \n",
      "Train Loss = 0.53810, Train MSE = 0.92209, Train MAE = 0.75117, Train Acc = 0.71788\n",
      "Val Loss = 0.56921, Val MSE = 1.01221, Val MAE = 0.78517, Val Acc = 0.69943\n"
     ]
    },
    {
     "name": "stderr",
     "output_type": "stream",
     "text": [
      "Epoch 112/512: 100%|████████████████████████████████████████████████████████████████████| 906/906 [00:40<00:00, 22.52it/s]\n"
     ]
    },
    {
     "name": "stdout",
     "output_type": "stream",
     "text": [
      "Epoch 112/512: \n",
      "Train Loss = 0.53917, Train MSE = 0.92387, Train MAE = 0.75262, Train Acc = 0.71566\n",
      "Val Loss = 0.56217, Val MSE = 0.97450, Val MAE = 0.77796, Val Acc = 0.70358\n"
     ]
    },
    {
     "name": "stderr",
     "output_type": "stream",
     "text": [
      "Epoch 113/512: 100%|████████████████████████████████████████████████████████████████████| 906/906 [00:40<00:00, 22.59it/s]\n"
     ]
    },
    {
     "name": "stdout",
     "output_type": "stream",
     "text": [
      "Epoch 113/512: \n",
      "Train Loss = 0.53924, Train MSE = 0.92593, Train MAE = 0.75245, Train Acc = 0.71650\n",
      "Val Loss = 0.56627, Val MSE = 0.99579, Val MAE = 0.78209, Val Acc = 0.69888\n"
     ]
    },
    {
     "name": "stderr",
     "output_type": "stream",
     "text": [
      "Epoch 114/512: 100%|████████████████████████████████████████████████████████████████████| 906/906 [00:40<00:00, 22.55it/s]\n"
     ]
    },
    {
     "name": "stdout",
     "output_type": "stream",
     "text": [
      "Epoch 114/512: \n",
      "Train Loss = 0.53896, Train MSE = 0.92260, Train MAE = 0.75215, Train Acc = 0.71595\n",
      "Val Loss = 0.53809, Val MSE = 0.93511, Val MAE = 0.75231, Val Acc = 0.72125\n"
     ]
    },
    {
     "name": "stderr",
     "output_type": "stream",
     "text": [
      "Epoch 115/512: 100%|████████████████████████████████████████████████████████████████████| 906/906 [00:40<00:00, 22.52it/s]\n"
     ]
    },
    {
     "name": "stdout",
     "output_type": "stream",
     "text": [
      "Epoch 115/512: \n",
      "Train Loss = 0.53666, Train MSE = 0.91910, Train MAE = 0.74960, Train Acc = 0.71875\n",
      "Val Loss = 0.54317, Val MSE = 0.94646, Val MAE = 0.75676, Val Acc = 0.71476\n"
     ]
    },
    {
     "name": "stderr",
     "output_type": "stream",
     "text": [
      "Epoch 116/512: 100%|████████████████████████████████████████████████████████████████████| 906/906 [00:40<00:00, 22.61it/s]\n"
     ]
    },
    {
     "name": "stdout",
     "output_type": "stream",
     "text": [
      "Epoch 116/512: \n",
      "Train Loss = 0.53540, Train MSE = 0.91487, Train MAE = 0.74872, Train Acc = 0.71956\n",
      "Val Loss = 0.54531, Val MSE = 0.96045, Val MAE = 0.75928, Val Acc = 0.71600\n"
     ]
    },
    {
     "name": "stderr",
     "output_type": "stream",
     "text": [
      "Epoch 117/512: 100%|████████████████████████████████████████████████████████████████████| 906/906 [00:40<00:00, 22.61it/s]\n"
     ]
    },
    {
     "name": "stdout",
     "output_type": "stream",
     "text": [
      "Epoch 117/512: \n",
      "Train Loss = 0.53587, Train MSE = 0.91590, Train MAE = 0.74881, Train Acc = 0.72033\n",
      "Val Loss = 0.51473, Val MSE = 0.86749, Val MAE = 0.72641, Val Acc = 0.73243\n"
     ]
    },
    {
     "name": "stderr",
     "output_type": "stream",
     "text": [
      "Epoch 118/512: 100%|████████████████████████████████████████████████████████████████████| 906/906 [00:40<00:00, 22.52it/s]\n"
     ]
    },
    {
     "name": "stdout",
     "output_type": "stream",
     "text": [
      "Epoch 118/512: \n",
      "Train Loss = 0.53547, Train MSE = 0.91508, Train MAE = 0.74844, Train Acc = 0.71951\n",
      "Val Loss = 0.56350, Val MSE = 0.98991, Val MAE = 0.77882, Val Acc = 0.70371\n"
     ]
    },
    {
     "name": "stderr",
     "output_type": "stream",
     "text": [
      "Epoch 119/512: 100%|████████████████████████████████████████████████████████████████████| 906/906 [00:40<00:00, 22.59it/s]\n"
     ]
    },
    {
     "name": "stdout",
     "output_type": "stream",
     "text": [
      "Epoch 119/512: \n",
      "Train Loss = 0.53534, Train MSE = 0.91523, Train MAE = 0.74844, Train Acc = 0.71894\n",
      "Val Loss = 0.56240, Val MSE = 0.98787, Val MAE = 0.77820, Val Acc = 0.70523\n"
     ]
    },
    {
     "name": "stderr",
     "output_type": "stream",
     "text": [
      "Epoch 120/512: 100%|████████████████████████████████████████████████████████████████████| 906/906 [00:40<00:00, 22.57it/s]\n"
     ]
    },
    {
     "name": "stdout",
     "output_type": "stream",
     "text": [
      "Epoch 120/512: \n",
      "Train Loss = 0.53547, Train MSE = 0.91853, Train MAE = 0.74819, Train Acc = 0.71971\n",
      "Val Loss = 0.53909, Val MSE = 0.93286, Val MAE = 0.75309, Val Acc = 0.72001\n"
     ]
    },
    {
     "name": "stderr",
     "output_type": "stream",
     "text": [
      "Epoch 121/512: 100%|████████████████████████████████████████████████████████████████████| 906/906 [00:40<00:00, 22.57it/s]\n"
     ]
    },
    {
     "name": "stdout",
     "output_type": "stream",
     "text": [
      "Epoch 121/512: \n",
      "Train Loss = 0.53420, Train MSE = 0.91169, Train MAE = 0.74727, Train Acc = 0.71968\n",
      "Val Loss = 0.52515, Val MSE = 0.90901, Val MAE = 0.73802, Val Acc = 0.73077\n"
     ]
    },
    {
     "name": "stderr",
     "output_type": "stream",
     "text": [
      "Epoch 122/512: 100%|████████████████████████████████████████████████████████████████████| 906/906 [00:40<00:00, 22.60it/s]\n"
     ]
    },
    {
     "name": "stdout",
     "output_type": "stream",
     "text": [
      "Epoch 122/512: \n",
      "Train Loss = 0.53306, Train MSE = 0.91185, Train MAE = 0.74591, Train Acc = 0.72056\n",
      "Val Loss = 0.55193, Val MSE = 0.95283, Val MAE = 0.76580, Val Acc = 0.70910\n"
     ]
    },
    {
     "name": "stderr",
     "output_type": "stream",
     "text": [
      "Epoch 123/512: 100%|████████████████████████████████████████████████████████████████████| 906/906 [00:40<00:00, 22.56it/s]\n"
     ]
    },
    {
     "name": "stdout",
     "output_type": "stream",
     "text": [
      "Epoch 123/512: \n",
      "Train Loss = 0.53394, Train MSE = 0.91202, Train MAE = 0.74669, Train Acc = 0.72049\n",
      "Val Loss = 0.54151, Val MSE = 0.95113, Val MAE = 0.75578, Val Acc = 0.71918\n"
     ]
    },
    {
     "name": "stderr",
     "output_type": "stream",
     "text": [
      "Epoch 124/512: 100%|████████████████████████████████████████████████████████████████████| 906/906 [00:40<00:00, 22.61it/s]\n"
     ]
    },
    {
     "name": "stdout",
     "output_type": "stream",
     "text": [
      "Epoch 124/512: \n",
      "Train Loss = 0.53422, Train MSE = 0.91169, Train MAE = 0.74743, Train Acc = 0.71954\n",
      "Val Loss = 0.58389, Val MSE = 1.06030, Val MAE = 0.79990, Val Acc = 0.69515\n"
     ]
    },
    {
     "name": "stderr",
     "output_type": "stream",
     "text": [
      "Epoch 125/512: 100%|████████████████████████████████████████████████████████████████████| 906/906 [00:40<00:00, 22.58it/s]\n"
     ]
    },
    {
     "name": "stdout",
     "output_type": "stream",
     "text": [
      "Epoch 125/512: \n",
      "Train Loss = 0.52919, Train MSE = 0.90285, Train MAE = 0.74189, Train Acc = 0.72434\n",
      "Val Loss = 0.53362, Val MSE = 0.90248, Val MAE = 0.74741, Val Acc = 0.71890\n"
     ]
    },
    {
     "name": "stderr",
     "output_type": "stream",
     "text": [
      "Epoch 126/512: 100%|████████████████████████████████████████████████████████████████████| 906/906 [00:40<00:00, 22.59it/s]\n"
     ]
    },
    {
     "name": "stdout",
     "output_type": "stream",
     "text": [
      "Epoch 126/512: \n",
      "Train Loss = 0.53258, Train MSE = 0.90915, Train MAE = 0.74525, Train Acc = 0.72137\n",
      "Val Loss = 0.54362, Val MSE = 0.95355, Val MAE = 0.75726, Val Acc = 0.71862\n"
     ]
    },
    {
     "name": "stderr",
     "output_type": "stream",
     "text": [
      "Epoch 127/512: 100%|████████████████████████████████████████████████████████████████████| 906/906 [00:40<00:00, 22.50it/s]\n"
     ]
    },
    {
     "name": "stdout",
     "output_type": "stream",
     "text": [
      "Epoch 127/512: \n",
      "Train Loss = 0.53113, Train MSE = 0.90647, Train MAE = 0.74370, Train Acc = 0.72215\n",
      "Val Loss = 0.56449, Val MSE = 0.98711, Val MAE = 0.77976, Val Acc = 0.69943\n"
     ]
    },
    {
     "name": "stderr",
     "output_type": "stream",
     "text": [
      "Epoch 128/512: 100%|████████████████████████████████████████████████████████████████████| 906/906 [00:40<00:00, 22.63it/s]\n"
     ]
    },
    {
     "name": "stdout",
     "output_type": "stream",
     "text": [
      "Epoch 128/512: \n",
      "Train Loss = 0.52791, Train MSE = 0.89945, Train MAE = 0.74045, Train Acc = 0.72520\n",
      "Val Loss = 0.54015, Val MSE = 0.93574, Val MAE = 0.75363, Val Acc = 0.72070\n"
     ]
    },
    {
     "name": "stderr",
     "output_type": "stream",
     "text": [
      "Epoch 129/512: 100%|████████████████████████████████████████████████████████████████████| 906/906 [00:40<00:00, 22.46it/s]\n"
     ]
    },
    {
     "name": "stdout",
     "output_type": "stream",
     "text": [
      "Epoch 129/512: \n",
      "Train Loss = 0.53143, Train MSE = 0.90739, Train MAE = 0.74423, Train Acc = 0.72325\n",
      "Val Loss = 0.53429, Val MSE = 0.91026, Val MAE = 0.74839, Val Acc = 0.72484\n"
     ]
    },
    {
     "name": "stderr",
     "output_type": "stream",
     "text": [
      "Epoch 130/512: 100%|████████████████████████████████████████████████████████████████████| 906/906 [00:40<00:00, 22.58it/s]\n"
     ]
    },
    {
     "name": "stdout",
     "output_type": "stream",
     "text": [
      "Epoch 130/512: \n",
      "Train Loss = 0.52966, Train MSE = 0.90409, Train MAE = 0.74211, Train Acc = 0.72254\n",
      "Val Loss = 0.53430, Val MSE = 0.92323, Val MAE = 0.74719, Val Acc = 0.72235\n"
     ]
    },
    {
     "name": "stderr",
     "output_type": "stream",
     "text": [
      "Epoch 131/512: 100%|████████████████████████████████████████████████████████████████████| 906/906 [00:40<00:00, 22.60it/s]\n"
     ]
    },
    {
     "name": "stdout",
     "output_type": "stream",
     "text": [
      "Epoch 131/512: \n",
      "Train Loss = 0.52923, Train MSE = 0.90279, Train MAE = 0.74206, Train Acc = 0.72458\n",
      "Val Loss = 0.51664, Val MSE = 0.88583, Val MAE = 0.72879, Val Acc = 0.73354\n"
     ]
    },
    {
     "name": "stderr",
     "output_type": "stream",
     "text": [
      "Epoch 132/512: 100%|████████████████████████████████████████████████████████████████████| 906/906 [00:40<00:00, 22.59it/s]\n"
     ]
    },
    {
     "name": "stdout",
     "output_type": "stream",
     "text": [
      "Epoch 132/512: \n",
      "Train Loss = 0.52940, Train MSE = 0.90315, Train MAE = 0.74215, Train Acc = 0.72444\n",
      "Val Loss = 0.54191, Val MSE = 0.92975, Val MAE = 0.75613, Val Acc = 0.71862\n"
     ]
    },
    {
     "name": "stderr",
     "output_type": "stream",
     "text": [
      "Epoch 133/512: 100%|████████████████████████████████████████████████████████████████████| 906/906 [00:40<00:00, 22.56it/s]\n"
     ]
    },
    {
     "name": "stdout",
     "output_type": "stream",
     "text": [
      "Epoch 133/512: \n",
      "Train Loss = 0.53045, Train MSE = 0.90478, Train MAE = 0.74340, Train Acc = 0.72272\n",
      "Val Loss = 0.51417, Val MSE = 0.87398, Val MAE = 0.72627, Val Acc = 0.73505\n"
     ]
    },
    {
     "name": "stderr",
     "output_type": "stream",
     "text": [
      "Epoch 134/512: 100%|████████████████████████████████████████████████████████████████████| 906/906 [00:40<00:00, 22.52it/s]\n"
     ]
    },
    {
     "name": "stdout",
     "output_type": "stream",
     "text": [
      "Epoch 134/512: \n",
      "Train Loss = 0.52950, Train MSE = 0.90021, Train MAE = 0.74226, Train Acc = 0.72308\n",
      "Val Loss = 0.53274, Val MSE = 0.91194, Val MAE = 0.74608, Val Acc = 0.72346\n"
     ]
    },
    {
     "name": "stderr",
     "output_type": "stream",
     "text": [
      "Epoch 135/512: 100%|████████████████████████████████████████████████████████████████████| 906/906 [00:40<00:00, 22.52it/s]\n"
     ]
    },
    {
     "name": "stdout",
     "output_type": "stream",
     "text": [
      "Epoch 135/512: \n",
      "Train Loss = 0.52968, Train MSE = 0.90081, Train MAE = 0.74274, Train Acc = 0.72353\n",
      "Val Loss = 0.56102, Val MSE = 1.00637, Val MAE = 0.77640, Val Acc = 0.70841\n"
     ]
    },
    {
     "name": "stderr",
     "output_type": "stream",
     "text": [
      "Epoch 136/512: 100%|████████████████████████████████████████████████████████████████████| 906/906 [00:40<00:00, 22.57it/s]\n"
     ]
    },
    {
     "name": "stdout",
     "output_type": "stream",
     "text": [
      "Epoch 136/512: \n",
      "Train Loss = 0.52751, Train MSE = 0.89869, Train MAE = 0.74005, Train Acc = 0.72449\n",
      "Val Loss = 0.57375, Val MSE = 1.01134, Val MAE = 0.79030, Val Acc = 0.69916\n"
     ]
    },
    {
     "name": "stderr",
     "output_type": "stream",
     "text": [
      "Epoch 137/512: 100%|████████████████████████████████████████████████████████████████████| 906/906 [00:40<00:00, 22.60it/s]\n"
     ]
    },
    {
     "name": "stdout",
     "output_type": "stream",
     "text": [
      "Epoch 137/512: \n",
      "Train Loss = 0.52843, Train MSE = 0.90032, Train MAE = 0.74076, Train Acc = 0.72530\n",
      "Val Loss = 0.52284, Val MSE = 0.89599, Val MAE = 0.73528, Val Acc = 0.72884\n"
     ]
    },
    {
     "name": "stderr",
     "output_type": "stream",
     "text": [
      "Epoch 138/512: 100%|████████████████████████████████████████████████████████████████████| 906/906 [00:40<00:00, 22.46it/s]\n"
     ]
    },
    {
     "name": "stdout",
     "output_type": "stream",
     "text": [
      "Epoch 138/512: \n",
      "Train Loss = 0.52586, Train MSE = 0.89556, Train MAE = 0.73833, Train Acc = 0.72686\n",
      "Val Loss = 0.51972, Val MSE = 0.88699, Val MAE = 0.73184, Val Acc = 0.73464\n"
     ]
    },
    {
     "name": "stderr",
     "output_type": "stream",
     "text": [
      "Epoch 139/512: 100%|████████████████████████████████████████████████████████████████████| 906/906 [00:40<00:00, 22.52it/s]\n"
     ]
    },
    {
     "name": "stdout",
     "output_type": "stream",
     "text": [
      "Epoch 139/512: \n",
      "Train Loss = 0.52796, Train MSE = 0.89800, Train MAE = 0.74036, Train Acc = 0.72527\n",
      "Val Loss = 0.53340, Val MSE = 0.92371, Val MAE = 0.74608, Val Acc = 0.72470\n"
     ]
    },
    {
     "name": "stderr",
     "output_type": "stream",
     "text": [
      "Epoch 140/512: 100%|████████████████████████████████████████████████████████████████████| 906/906 [00:40<00:00, 22.58it/s]\n"
     ]
    },
    {
     "name": "stdout",
     "output_type": "stream",
     "text": [
      "Epoch 140/512: \n",
      "Train Loss = 0.52776, Train MSE = 0.89836, Train MAE = 0.74015, Train Acc = 0.72491\n",
      "Val Loss = 0.50615, Val MSE = 0.84768, Val MAE = 0.71723, Val Acc = 0.74292\n"
     ]
    },
    {
     "name": "stderr",
     "output_type": "stream",
     "text": [
      "Epoch 141/512: 100%|████████████████████████████████████████████████████████████████████| 906/906 [00:40<00:00, 22.55it/s]\n"
     ]
    },
    {
     "name": "stdout",
     "output_type": "stream",
     "text": [
      "Epoch 141/512: \n",
      "Train Loss = 0.52723, Train MSE = 0.89764, Train MAE = 0.73987, Train Acc = 0.72648\n",
      "Val Loss = 0.52524, Val MSE = 0.90052, Val MAE = 0.73824, Val Acc = 0.73146\n"
     ]
    },
    {
     "name": "stderr",
     "output_type": "stream",
     "text": [
      "Epoch 142/512: 100%|████████████████████████████████████████████████████████████████████| 906/906 [00:40<00:00, 22.56it/s]\n"
     ]
    },
    {
     "name": "stdout",
     "output_type": "stream",
     "text": [
      "Epoch 142/512: \n",
      "Train Loss = 0.52676, Train MSE = 0.89770, Train MAE = 0.73879, Train Acc = 0.72667\n",
      "Val Loss = 0.52963, Val MSE = 0.92297, Val MAE = 0.74265, Val Acc = 0.72732\n"
     ]
    },
    {
     "name": "stderr",
     "output_type": "stream",
     "text": [
      "Epoch 143/512: 100%|████████████████████████████████████████████████████████████████████| 906/906 [00:40<00:00, 22.56it/s]\n"
     ]
    },
    {
     "name": "stdout",
     "output_type": "stream",
     "text": [
      "Epoch 143/512: \n",
      "Train Loss = 0.52465, Train MSE = 0.89144, Train MAE = 0.73684, Train Acc = 0.72605\n",
      "Val Loss = 0.52312, Val MSE = 0.89813, Val MAE = 0.73592, Val Acc = 0.73257\n"
     ]
    },
    {
     "name": "stderr",
     "output_type": "stream",
     "text": [
      "Epoch 144/512: 100%|████████████████████████████████████████████████████████████████████| 906/906 [00:40<00:00, 22.51it/s]\n"
     ]
    },
    {
     "name": "stdout",
     "output_type": "stream",
     "text": [
      "Epoch 144/512: \n",
      "Train Loss = 0.52595, Train MSE = 0.89335, Train MAE = 0.73868, Train Acc = 0.72510\n",
      "Val Loss = 0.50102, Val MSE = 0.84988, Val MAE = 0.71214, Val Acc = 0.74541\n"
     ]
    },
    {
     "name": "stderr",
     "output_type": "stream",
     "text": [
      "Epoch 145/512: 100%|████████████████████████████████████████████████████████████████████| 906/906 [00:40<00:00, 22.47it/s]\n"
     ]
    },
    {
     "name": "stdout",
     "output_type": "stream",
     "text": [
      "Epoch 145/512: \n",
      "Train Loss = 0.52392, Train MSE = 0.88963, Train MAE = 0.73608, Train Acc = 0.72750\n",
      "Val Loss = 0.51682, Val MSE = 0.88461, Val MAE = 0.72925, Val Acc = 0.73505\n"
     ]
    },
    {
     "name": "stderr",
     "output_type": "stream",
     "text": [
      "Epoch 146/512: 100%|████████████████████████████████████████████████████████████████████| 906/906 [00:40<00:00, 22.61it/s]\n"
     ]
    },
    {
     "name": "stdout",
     "output_type": "stream",
     "text": [
      "Epoch 146/512: \n",
      "Train Loss = 0.52611, Train MSE = 0.89444, Train MAE = 0.73830, Train Acc = 0.72575\n",
      "Val Loss = 0.52521, Val MSE = 0.88587, Val MAE = 0.73826, Val Acc = 0.72539\n"
     ]
    },
    {
     "name": "stderr",
     "output_type": "stream",
     "text": [
      "Epoch 147/512: 100%|████████████████████████████████████████████████████████████████████| 906/906 [00:40<00:00, 22.55it/s]\n"
     ]
    },
    {
     "name": "stdout",
     "output_type": "stream",
     "text": [
      "Epoch 147/512: \n",
      "Train Loss = 0.52651, Train MSE = 0.89541, Train MAE = 0.73898, Train Acc = 0.72696\n",
      "Val Loss = 0.50857, Val MSE = 0.86246, Val MAE = 0.72038, Val Acc = 0.74500\n"
     ]
    },
    {
     "name": "stderr",
     "output_type": "stream",
     "text": [
      "Epoch 148/512: 100%|████████████████████████████████████████████████████████████████████| 906/906 [00:40<00:00, 22.61it/s]\n"
     ]
    },
    {
     "name": "stdout",
     "output_type": "stream",
     "text": [
      "Epoch 148/512: \n",
      "Train Loss = 0.52665, Train MSE = 0.89766, Train MAE = 0.73910, Train Acc = 0.72611\n",
      "Val Loss = 0.50401, Val MSE = 0.85024, Val MAE = 0.71523, Val Acc = 0.74030\n"
     ]
    },
    {
     "name": "stderr",
     "output_type": "stream",
     "text": [
      "Epoch 149/512: 100%|████████████████████████████████████████████████████████████████████| 906/906 [00:40<00:00, 22.49it/s]\n"
     ]
    },
    {
     "name": "stdout",
     "output_type": "stream",
     "text": [
      "Epoch 149/512: \n",
      "Train Loss = 0.52645, Train MSE = 0.89769, Train MAE = 0.73907, Train Acc = 0.72763\n",
      "Val Loss = 0.53935, Val MSE = 0.92903, Val MAE = 0.75333, Val Acc = 0.71862\n"
     ]
    },
    {
     "name": "stderr",
     "output_type": "stream",
     "text": [
      "Epoch 150/512: 100%|████████████████████████████████████████████████████████████████████| 906/906 [00:40<00:00, 22.51it/s]\n"
     ]
    },
    {
     "name": "stdout",
     "output_type": "stream",
     "text": [
      "Epoch 150/512: \n",
      "Train Loss = 0.52269, Train MSE = 0.88918, Train MAE = 0.73453, Train Acc = 0.72693\n",
      "Val Loss = 0.49176, Val MSE = 0.83725, Val MAE = 0.70113, Val Acc = 0.75148\n"
     ]
    },
    {
     "name": "stderr",
     "output_type": "stream",
     "text": [
      "Epoch 151/512: 100%|████████████████████████████████████████████████████████████████████| 906/906 [00:40<00:00, 22.61it/s]\n"
     ]
    },
    {
     "name": "stdout",
     "output_type": "stream",
     "text": [
      "Epoch 151/512: \n",
      "Train Loss = 0.52224, Train MSE = 0.88613, Train MAE = 0.73454, Train Acc = 0.72981\n",
      "Val Loss = 0.51482, Val MSE = 0.88580, Val MAE = 0.72646, Val Acc = 0.73878\n"
     ]
    },
    {
     "name": "stderr",
     "output_type": "stream",
     "text": [
      "Epoch 152/512: 100%|████████████████████████████████████████████████████████████████████| 906/906 [00:40<00:00, 22.56it/s]\n"
     ]
    },
    {
     "name": "stdout",
     "output_type": "stream",
     "text": [
      "Epoch 152/512: \n",
      "Train Loss = 0.52088, Train MSE = 0.88237, Train MAE = 0.73296, Train Acc = 0.72857\n",
      "Val Loss = 0.54443, Val MSE = 0.94092, Val MAE = 0.75883, Val Acc = 0.71573\n"
     ]
    },
    {
     "name": "stderr",
     "output_type": "stream",
     "text": [
      "Epoch 153/512: 100%|████████████████████████████████████████████████████████████████████| 906/906 [00:40<00:00, 22.56it/s]\n"
     ]
    },
    {
     "name": "stdout",
     "output_type": "stream",
     "text": [
      "Epoch 153/512: \n",
      "Train Loss = 0.52192, Train MSE = 0.88566, Train MAE = 0.73415, Train Acc = 0.72889\n",
      "Val Loss = 0.53846, Val MSE = 0.92348, Val MAE = 0.75253, Val Acc = 0.71918\n"
     ]
    },
    {
     "name": "stderr",
     "output_type": "stream",
     "text": [
      "Epoch 154/512: 100%|████████████████████████████████████████████████████████████████████| 906/906 [00:40<00:00, 22.54it/s]\n"
     ]
    },
    {
     "name": "stdout",
     "output_type": "stream",
     "text": [
      "Epoch 154/512: \n",
      "Train Loss = 0.52201, Train MSE = 0.88936, Train MAE = 0.73378, Train Acc = 0.72900\n",
      "Val Loss = 0.49843, Val MSE = 0.83364, Val MAE = 0.70930, Val Acc = 0.74679\n"
     ]
    },
    {
     "name": "stderr",
     "output_type": "stream",
     "text": [
      "Epoch 155/512: 100%|████████████████████████████████████████████████████████████████████| 906/906 [00:40<00:00, 22.57it/s]\n"
     ]
    },
    {
     "name": "stdout",
     "output_type": "stream",
     "text": [
      "Epoch 155/512: \n",
      "Train Loss = 0.52214, Train MSE = 0.88488, Train MAE = 0.73427, Train Acc = 0.72881\n",
      "Val Loss = 0.54340, Val MSE = 0.97032, Val MAE = 0.75783, Val Acc = 0.72014\n"
     ]
    },
    {
     "name": "stderr",
     "output_type": "stream",
     "text": [
      "Epoch 156/512: 100%|████████████████████████████████████████████████████████████████████| 906/906 [00:40<00:00, 22.55it/s]\n"
     ]
    },
    {
     "name": "stdout",
     "output_type": "stream",
     "text": [
      "Epoch 156/512: \n",
      "Train Loss = 0.52147, Train MSE = 0.88871, Train MAE = 0.73356, Train Acc = 0.72995\n",
      "Val Loss = 0.52696, Val MSE = 0.90499, Val MAE = 0.73990, Val Acc = 0.73022\n"
     ]
    },
    {
     "name": "stderr",
     "output_type": "stream",
     "text": [
      "Epoch 157/512: 100%|████████████████████████████████████████████████████████████████████| 906/906 [00:40<00:00, 22.63it/s]\n"
     ]
    },
    {
     "name": "stdout",
     "output_type": "stream",
     "text": [
      "Epoch 157/512: \n",
      "Train Loss = 0.51938, Train MSE = 0.87877, Train MAE = 0.73157, Train Acc = 0.73169\n",
      "Val Loss = 0.54524, Val MSE = 0.96551, Val MAE = 0.75839, Val Acc = 0.71973\n"
     ]
    },
    {
     "name": "stderr",
     "output_type": "stream",
     "text": [
      "Epoch 158/512: 100%|████████████████████████████████████████████████████████████████████| 906/906 [00:40<00:00, 22.59it/s]\n"
     ]
    },
    {
     "name": "stdout",
     "output_type": "stream",
     "text": [
      "Epoch 158/512: \n",
      "Train Loss = 0.52099, Train MSE = 0.88445, Train MAE = 0.73316, Train Acc = 0.73152\n",
      "Val Loss = 0.51368, Val MSE = 0.86729, Val MAE = 0.72563, Val Acc = 0.73892\n"
     ]
    },
    {
     "name": "stderr",
     "output_type": "stream",
     "text": [
      "Epoch 159/512: 100%|████████████████████████████████████████████████████████████████████| 906/906 [00:40<00:00, 22.58it/s]\n"
     ]
    },
    {
     "name": "stdout",
     "output_type": "stream",
     "text": [
      "Epoch 159/512: \n",
      "Train Loss = 0.51970, Train MSE = 0.87809, Train MAE = 0.73183, Train Acc = 0.72984\n",
      "Val Loss = 0.52491, Val MSE = 0.90280, Val MAE = 0.73737, Val Acc = 0.73174\n"
     ]
    },
    {
     "name": "stderr",
     "output_type": "stream",
     "text": [
      "Epoch 160/512: 100%|████████████████████████████████████████████████████████████████████| 906/906 [00:40<00:00, 22.52it/s]\n"
     ]
    },
    {
     "name": "stdout",
     "output_type": "stream",
     "text": [
      "Epoch 160/512: \n",
      "Train Loss = 0.52009, Train MSE = 0.88188, Train MAE = 0.73233, Train Acc = 0.73043\n",
      "Val Loss = 0.52369, Val MSE = 0.91816, Val MAE = 0.73671, Val Acc = 0.73464\n"
     ]
    },
    {
     "name": "stderr",
     "output_type": "stream",
     "text": [
      "Epoch 161/512: 100%|████████████████████████████████████████████████████████████████████| 906/906 [00:40<00:00, 22.54it/s]\n"
     ]
    },
    {
     "name": "stdout",
     "output_type": "stream",
     "text": [
      "Epoch 161/512: \n",
      "Train Loss = 0.52094, Train MSE = 0.88255, Train MAE = 0.73326, Train Acc = 0.73020\n",
      "Val Loss = 0.49305, Val MSE = 0.82255, Val MAE = 0.70423, Val Acc = 0.75135\n"
     ]
    },
    {
     "name": "stderr",
     "output_type": "stream",
     "text": [
      "Epoch 162/512: 100%|████████████████████████████████████████████████████████████████████| 906/906 [00:40<00:00, 22.60it/s]\n"
     ]
    },
    {
     "name": "stdout",
     "output_type": "stream",
     "text": [
      "Epoch 162/512: \n",
      "Train Loss = 0.52250, Train MSE = 0.88565, Train MAE = 0.73468, Train Acc = 0.72820\n",
      "Val Loss = 0.50659, Val MSE = 0.84641, Val MAE = 0.71898, Val Acc = 0.74141\n"
     ]
    },
    {
     "name": "stderr",
     "output_type": "stream",
     "text": [
      "Epoch 163/512: 100%|████████████████████████████████████████████████████████████████████| 906/906 [00:40<00:00, 22.54it/s]\n"
     ]
    },
    {
     "name": "stdout",
     "output_type": "stream",
     "text": [
      "Epoch 163/512: \n",
      "Train Loss = 0.51995, Train MSE = 0.88278, Train MAE = 0.73173, Train Acc = 0.72996\n",
      "Val Loss = 0.51282, Val MSE = 0.87266, Val MAE = 0.72483, Val Acc = 0.74486\n"
     ]
    },
    {
     "name": "stderr",
     "output_type": "stream",
     "text": [
      "Epoch 164/512: 100%|████████████████████████████████████████████████████████████████████| 906/906 [00:40<00:00, 22.53it/s]\n"
     ]
    },
    {
     "name": "stdout",
     "output_type": "stream",
     "text": [
      "Epoch 164/512: \n",
      "Train Loss = 0.51924, Train MSE = 0.88005, Train MAE = 0.73109, Train Acc = 0.73005\n",
      "Val Loss = 0.54210, Val MSE = 0.94575, Val MAE = 0.75620, Val Acc = 0.71752\n"
     ]
    },
    {
     "name": "stderr",
     "output_type": "stream",
     "text": [
      "Epoch 165/512: 100%|████████████████████████████████████████████████████████████████████| 906/906 [00:40<00:00, 22.60it/s]\n"
     ]
    },
    {
     "name": "stdout",
     "output_type": "stream",
     "text": [
      "Epoch 165/512: \n",
      "Train Loss = 0.52095, Train MSE = 0.88363, Train MAE = 0.73290, Train Acc = 0.72996\n",
      "Val Loss = 0.51017, Val MSE = 0.85923, Val MAE = 0.72253, Val Acc = 0.73933\n"
     ]
    },
    {
     "name": "stderr",
     "output_type": "stream",
     "text": [
      "Epoch 166/512: 100%|████████████████████████████████████████████████████████████████████| 906/906 [00:40<00:00, 22.58it/s]\n"
     ]
    },
    {
     "name": "stdout",
     "output_type": "stream",
     "text": [
      "Epoch 166/512: \n",
      "Train Loss = 0.51838, Train MSE = 0.87684, Train MAE = 0.73024, Train Acc = 0.73167\n",
      "Val Loss = 0.52249, Val MSE = 0.89938, Val MAE = 0.73597, Val Acc = 0.72981\n"
     ]
    },
    {
     "name": "stderr",
     "output_type": "stream",
     "text": [
      "Epoch 167/512: 100%|████████████████████████████████████████████████████████████████████| 906/906 [00:40<00:00, 22.57it/s]\n"
     ]
    },
    {
     "name": "stdout",
     "output_type": "stream",
     "text": [
      "Epoch 167/512: \n",
      "Train Loss = 0.51686, Train MSE = 0.87452, Train MAE = 0.72883, Train Acc = 0.73253\n",
      "Val Loss = 0.54567, Val MSE = 0.95360, Val MAE = 0.76007, Val Acc = 0.71655\n"
     ]
    },
    {
     "name": "stderr",
     "output_type": "stream",
     "text": [
      "Epoch 168/512: 100%|████████████████████████████████████████████████████████████████████| 906/906 [00:40<00:00, 22.56it/s]\n"
     ]
    },
    {
     "name": "stdout",
     "output_type": "stream",
     "text": [
      "Epoch 168/512: \n",
      "Train Loss = 0.51713, Train MSE = 0.87499, Train MAE = 0.72891, Train Acc = 0.73236\n",
      "Val Loss = 0.52327, Val MSE = 0.89775, Val MAE = 0.73584, Val Acc = 0.73077\n"
     ]
    },
    {
     "name": "stderr",
     "output_type": "stream",
     "text": [
      "Epoch 169/512: 100%|████████████████████████████████████████████████████████████████████| 906/906 [00:39<00:00, 22.68it/s]\n"
     ]
    },
    {
     "name": "stdout",
     "output_type": "stream",
     "text": [
      "Epoch 169/512: \n",
      "Train Loss = 0.51724, Train MSE = 0.87443, Train MAE = 0.72934, Train Acc = 0.73134\n",
      "Val Loss = 0.52632, Val MSE = 0.89931, Val MAE = 0.73935, Val Acc = 0.72926\n"
     ]
    },
    {
     "name": "stderr",
     "output_type": "stream",
     "text": [
      "Epoch 170/512: 100%|████████████████████████████████████████████████████████████████████| 906/906 [00:40<00:00, 22.62it/s]\n"
     ]
    },
    {
     "name": "stdout",
     "output_type": "stream",
     "text": [
      "Epoch 170/512: \n",
      "Train Loss = 0.51540, Train MSE = 0.87024, Train MAE = 0.72690, Train Acc = 0.73126\n",
      "Val Loss = 0.50343, Val MSE = 0.84270, Val MAE = 0.71501, Val Acc = 0.74265\n"
     ]
    },
    {
     "name": "stderr",
     "output_type": "stream",
     "text": [
      "Epoch 171/512: 100%|████████████████████████████████████████████████████████████████████| 906/906 [00:40<00:00, 22.59it/s]\n"
     ]
    },
    {
     "name": "stdout",
     "output_type": "stream",
     "text": [
      "Epoch 171/512: \n",
      "Train Loss = 0.51667, Train MSE = 0.87312, Train MAE = 0.72852, Train Acc = 0.73445\n",
      "Val Loss = 0.56419, Val MSE = 1.00598, Val MAE = 0.77951, Val Acc = 0.70661\n"
     ]
    },
    {
     "name": "stderr",
     "output_type": "stream",
     "text": [
      "Epoch 172/512: 100%|████████████████████████████████████████████████████████████████████| 906/906 [00:39<00:00, 22.67it/s]\n"
     ]
    },
    {
     "name": "stdout",
     "output_type": "stream",
     "text": [
      "Epoch 172/512: \n",
      "Train Loss = 0.51514, Train MSE = 0.87104, Train MAE = 0.72688, Train Acc = 0.73421\n",
      "Val Loss = 0.57991, Val MSE = 1.02884, Val MAE = 0.79645, Val Acc = 0.69543\n"
     ]
    },
    {
     "name": "stderr",
     "output_type": "stream",
     "text": [
      "Epoch 173/512: 100%|████████████████████████████████████████████████████████████████████| 906/906 [00:40<00:00, 22.64it/s]\n"
     ]
    },
    {
     "name": "stdout",
     "output_type": "stream",
     "text": [
      "Epoch 173/512: \n",
      "Train Loss = 0.51568, Train MSE = 0.87232, Train MAE = 0.72766, Train Acc = 0.73397\n",
      "Val Loss = 0.52696, Val MSE = 0.89218, Val MAE = 0.73969, Val Acc = 0.72691\n"
     ]
    },
    {
     "name": "stderr",
     "output_type": "stream",
     "text": [
      "Epoch 174/512: 100%|████████████████████████████████████████████████████████████████████| 906/906 [00:40<00:00, 22.62it/s]\n"
     ]
    },
    {
     "name": "stdout",
     "output_type": "stream",
     "text": [
      "Epoch 174/512: \n",
      "Train Loss = 0.51834, Train MSE = 0.87956, Train MAE = 0.73026, Train Acc = 0.73190\n",
      "Val Loss = 0.56324, Val MSE = 0.99058, Val MAE = 0.77927, Val Acc = 0.70730\n"
     ]
    },
    {
     "name": "stderr",
     "output_type": "stream",
     "text": [
      "Epoch 175/512: 100%|████████████████████████████████████████████████████████████████████| 906/906 [00:40<00:00, 22.63it/s]\n"
     ]
    },
    {
     "name": "stdout",
     "output_type": "stream",
     "text": [
      "Epoch 175/512: \n",
      "Train Loss = 0.51590, Train MSE = 0.87359, Train MAE = 0.72762, Train Acc = 0.73435\n",
      "Val Loss = 0.56263, Val MSE = 0.99764, Val MAE = 0.77875, Val Acc = 0.70358\n"
     ]
    },
    {
     "name": "stderr",
     "output_type": "stream",
     "text": [
      "Epoch 176/512: 100%|████████████████████████████████████████████████████████████████████| 906/906 [00:39<00:00, 22.67it/s]\n"
     ]
    },
    {
     "name": "stdout",
     "output_type": "stream",
     "text": [
      "Epoch 176/512: \n",
      "Train Loss = 0.51495, Train MSE = 0.87105, Train MAE = 0.72672, Train Acc = 0.73459\n",
      "Val Loss = 0.51160, Val MSE = 0.85422, Val MAE = 0.72465, Val Acc = 0.74292\n"
     ]
    },
    {
     "name": "stderr",
     "output_type": "stream",
     "text": [
      "Epoch 177/512: 100%|████████████████████████████████████████████████████████████████████| 906/906 [00:40<00:00, 22.58it/s]\n"
     ]
    },
    {
     "name": "stdout",
     "output_type": "stream",
     "text": [
      "Epoch 177/512: \n",
      "Train Loss = 0.51471, Train MSE = 0.86940, Train MAE = 0.72607, Train Acc = 0.73395\n",
      "Val Loss = 0.54631, Val MSE = 0.95213, Val MAE = 0.76099, Val Acc = 0.71793\n"
     ]
    },
    {
     "name": "stderr",
     "output_type": "stream",
     "text": [
      "Epoch 178/512: 100%|████████████████████████████████████████████████████████████████████| 906/906 [00:40<00:00, 22.64it/s]\n"
     ]
    },
    {
     "name": "stdout",
     "output_type": "stream",
     "text": [
      "Epoch 178/512: \n",
      "Train Loss = 0.51588, Train MSE = 0.87207, Train MAE = 0.72763, Train Acc = 0.73209\n",
      "Val Loss = 0.53006, Val MSE = 0.90047, Val MAE = 0.74300, Val Acc = 0.72691\n"
     ]
    },
    {
     "name": "stderr",
     "output_type": "stream",
     "text": [
      "Epoch 179/512: 100%|████████████████████████████████████████████████████████████████████| 906/906 [00:39<00:00, 22.71it/s]\n"
     ]
    },
    {
     "name": "stdout",
     "output_type": "stream",
     "text": [
      "Epoch 179/512: \n",
      "Train Loss = 0.51398, Train MSE = 0.86810, Train MAE = 0.72527, Train Acc = 0.73248\n",
      "Val Loss = 0.47902, Val MSE = 0.78417, Val MAE = 0.68962, Val Acc = 0.76198\n"
     ]
    },
    {
     "name": "stderr",
     "output_type": "stream",
     "text": [
      "Epoch 180/512: 100%|████████████████████████████████████████████████████████████████████| 906/906 [00:40<00:00, 22.58it/s]\n"
     ]
    },
    {
     "name": "stdout",
     "output_type": "stream",
     "text": [
      "Epoch 180/512: \n",
      "Train Loss = 0.51295, Train MSE = 0.86493, Train MAE = 0.72461, Train Acc = 0.73711\n",
      "Val Loss = 0.48443, Val MSE = 0.80085, Val MAE = 0.69429, Val Acc = 0.75148\n"
     ]
    },
    {
     "name": "stderr",
     "output_type": "stream",
     "text": [
      "Epoch 181/512: 100%|████████████████████████████████████████████████████████████████████| 906/906 [00:40<00:00, 22.64it/s]\n"
     ]
    },
    {
     "name": "stdout",
     "output_type": "stream",
     "text": [
      "Epoch 181/512: \n",
      "Train Loss = 0.51698, Train MSE = 0.87486, Train MAE = 0.72867, Train Acc = 0.73288\n",
      "Val Loss = 0.52516, Val MSE = 0.91440, Val MAE = 0.73800, Val Acc = 0.73312\n"
     ]
    },
    {
     "name": "stderr",
     "output_type": "stream",
     "text": [
      "Epoch 182/512: 100%|████████████████████████████████████████████████████████████████████| 906/906 [00:40<00:00, 22.58it/s]\n"
     ]
    },
    {
     "name": "stdout",
     "output_type": "stream",
     "text": [
      "Epoch 182/512: \n",
      "Train Loss = 0.51666, Train MSE = 0.87374, Train MAE = 0.72819, Train Acc = 0.73267\n",
      "Val Loss = 0.53289, Val MSE = 0.93017, Val MAE = 0.74595, Val Acc = 0.72843\n"
     ]
    },
    {
     "name": "stderr",
     "output_type": "stream",
     "text": [
      "Epoch 183/512: 100%|████████████████████████████████████████████████████████████████████| 906/906 [00:40<00:00, 22.58it/s]\n"
     ]
    },
    {
     "name": "stdout",
     "output_type": "stream",
     "text": [
      "Epoch 183/512: \n",
      "Train Loss = 0.51171, Train MSE = 0.86522, Train MAE = 0.72299, Train Acc = 0.73578\n",
      "Val Loss = 0.48768, Val MSE = 0.81405, Val MAE = 0.69736, Val Acc = 0.75466\n"
     ]
    },
    {
     "name": "stderr",
     "output_type": "stream",
     "text": [
      "Epoch 184/512: 100%|████████████████████████████████████████████████████████████████████| 906/906 [00:40<00:00, 22.61it/s]\n"
     ]
    },
    {
     "name": "stdout",
     "output_type": "stream",
     "text": [
      "Epoch 184/512: \n",
      "Train Loss = 0.51119, Train MSE = 0.86327, Train MAE = 0.72273, Train Acc = 0.73675\n",
      "Val Loss = 0.51220, Val MSE = 0.86402, Val MAE = 0.72469, Val Acc = 0.73961\n"
     ]
    },
    {
     "name": "stderr",
     "output_type": "stream",
     "text": [
      "Epoch 185/512: 100%|████████████████████████████████████████████████████████████████████| 906/906 [00:40<00:00, 22.57it/s]\n"
     ]
    },
    {
     "name": "stdout",
     "output_type": "stream",
     "text": [
      "Epoch 185/512: \n",
      "Train Loss = 0.51470, Train MSE = 0.87016, Train MAE = 0.72651, Train Acc = 0.73528\n",
      "Val Loss = 0.52299, Val MSE = 0.88751, Val MAE = 0.73589, Val Acc = 0.72649\n"
     ]
    },
    {
     "name": "stderr",
     "output_type": "stream",
     "text": [
      "Epoch 186/512: 100%|████████████████████████████████████████████████████████████████████| 906/906 [00:40<00:00, 22.60it/s]\n"
     ]
    },
    {
     "name": "stdout",
     "output_type": "stream",
     "text": [
      "Epoch 186/512: \n",
      "Train Loss = 0.51500, Train MSE = 0.87082, Train MAE = 0.72673, Train Acc = 0.73340\n",
      "Val Loss = 0.50199, Val MSE = 0.85043, Val MAE = 0.71322, Val Acc = 0.74472\n"
     ]
    },
    {
     "name": "stderr",
     "output_type": "stream",
     "text": [
      "Epoch 187/512: 100%|████████████████████████████████████████████████████████████████████| 906/906 [00:40<00:00, 22.63it/s]\n"
     ]
    },
    {
     "name": "stdout",
     "output_type": "stream",
     "text": [
      "Epoch 187/512: \n",
      "Train Loss = 0.51360, Train MSE = 0.86777, Train MAE = 0.72469, Train Acc = 0.73383\n",
      "Val Loss = 0.53831, Val MSE = 0.91457, Val MAE = 0.75207, Val Acc = 0.71973\n"
     ]
    },
    {
     "name": "stderr",
     "output_type": "stream",
     "text": [
      "Epoch 188/512: 100%|████████████████████████████████████████████████████████████████████| 906/906 [00:40<00:00, 22.57it/s]\n"
     ]
    },
    {
     "name": "stdout",
     "output_type": "stream",
     "text": [
      "Epoch 188/512: \n",
      "Train Loss = 0.51411, Train MSE = 0.86812, Train MAE = 0.72592, Train Acc = 0.73505\n",
      "Val Loss = 0.52619, Val MSE = 0.89359, Val MAE = 0.73988, Val Acc = 0.72801\n"
     ]
    },
    {
     "name": "stderr",
     "output_type": "stream",
     "text": [
      "Epoch 189/512: 100%|████████████████████████████████████████████████████████████████████| 906/906 [00:40<00:00, 22.61it/s]\n"
     ]
    },
    {
     "name": "stdout",
     "output_type": "stream",
     "text": [
      "Epoch 189/512: \n",
      "Train Loss = 0.51414, Train MSE = 0.86775, Train MAE = 0.72607, Train Acc = 0.73442\n",
      "Val Loss = 0.50798, Val MSE = 0.88677, Val MAE = 0.71923, Val Acc = 0.74334\n"
     ]
    },
    {
     "name": "stderr",
     "output_type": "stream",
     "text": [
      "Epoch 190/512: 100%|████████████████████████████████████████████████████████████████████| 906/906 [00:40<00:00, 22.58it/s]\n"
     ]
    },
    {
     "name": "stdout",
     "output_type": "stream",
     "text": [
      "Epoch 190/512: \n",
      "Train Loss = 0.51143, Train MSE = 0.86275, Train MAE = 0.72286, Train Acc = 0.73625\n",
      "Val Loss = 0.53215, Val MSE = 0.92962, Val MAE = 0.74576, Val Acc = 0.73008\n"
     ]
    },
    {
     "name": "stderr",
     "output_type": "stream",
     "text": [
      "Epoch 191/512: 100%|████████████████████████████████████████████████████████████████████| 906/906 [00:39<00:00, 22.65it/s]\n"
     ]
    },
    {
     "name": "stdout",
     "output_type": "stream",
     "text": [
      "Epoch 191/512: \n",
      "Train Loss = 0.51138, Train MSE = 0.86290, Train MAE = 0.72261, Train Acc = 0.73699\n",
      "Val Loss = 0.53209, Val MSE = 0.91125, Val MAE = 0.74567, Val Acc = 0.72511\n"
     ]
    },
    {
     "name": "stderr",
     "output_type": "stream",
     "text": [
      "Epoch 192/512: 100%|████████████████████████████████████████████████████████████████████| 906/906 [00:40<00:00, 22.55it/s]\n"
     ]
    },
    {
     "name": "stdout",
     "output_type": "stream",
     "text": [
      "Epoch 192/512: \n",
      "Train Loss = 0.51079, Train MSE = 0.86301, Train MAE = 0.72215, Train Acc = 0.73599\n",
      "Val Loss = 0.54482, Val MSE = 0.94567, Val MAE = 0.75863, Val Acc = 0.71945\n"
     ]
    },
    {
     "name": "stderr",
     "output_type": "stream",
     "text": [
      "Epoch 193/512: 100%|████████████████████████████████████████████████████████████████████| 906/906 [00:40<00:00, 22.60it/s]\n"
     ]
    },
    {
     "name": "stdout",
     "output_type": "stream",
     "text": [
      "Epoch 193/512: \n",
      "Train Loss = 0.51295, Train MSE = 0.86857, Train MAE = 0.72438, Train Acc = 0.73395\n",
      "Val Loss = 0.53992, Val MSE = 0.92073, Val MAE = 0.75363, Val Acc = 0.71807\n"
     ]
    },
    {
     "name": "stderr",
     "output_type": "stream",
     "text": [
      "Epoch 194/512: 100%|████████████████████████████████████████████████████████████████████| 906/906 [00:40<00:00, 22.52it/s]\n"
     ]
    },
    {
     "name": "stdout",
     "output_type": "stream",
     "text": [
      "Epoch 194/512: \n",
      "Train Loss = 0.51011, Train MSE = 0.85808, Train MAE = 0.72165, Train Acc = 0.73721\n",
      "Val Loss = 0.50612, Val MSE = 0.84274, Val MAE = 0.71773, Val Acc = 0.73809\n"
     ]
    },
    {
     "name": "stderr",
     "output_type": "stream",
     "text": [
      "Epoch 195/512: 100%|████████████████████████████████████████████████████████████████████| 906/906 [00:40<00:00, 22.57it/s]\n"
     ]
    },
    {
     "name": "stdout",
     "output_type": "stream",
     "text": [
      "Epoch 195/512: \n",
      "Train Loss = 0.50970, Train MSE = 0.85871, Train MAE = 0.72115, Train Acc = 0.73783\n",
      "Val Loss = 0.51551, Val MSE = 0.89148, Val MAE = 0.72690, Val Acc = 0.73947\n"
     ]
    },
    {
     "name": "stderr",
     "output_type": "stream",
     "text": [
      "Epoch 196/512: 100%|████████████████████████████████████████████████████████████████████| 906/906 [00:40<00:00, 22.54it/s]\n"
     ]
    },
    {
     "name": "stdout",
     "output_type": "stream",
     "text": [
      "Epoch 196/512: \n",
      "Train Loss = 0.51180, Train MSE = 0.86379, Train MAE = 0.72298, Train Acc = 0.73521\n",
      "Val Loss = 0.54071, Val MSE = 0.92815, Val MAE = 0.75531, Val Acc = 0.72014\n"
     ]
    },
    {
     "name": "stderr",
     "output_type": "stream",
     "text": [
      "Epoch 197/512: 100%|████████████████████████████████████████████████████████████████████| 906/906 [00:40<00:00, 22.50it/s]\n"
     ]
    },
    {
     "name": "stdout",
     "output_type": "stream",
     "text": [
      "Epoch 197/512: \n",
      "Train Loss = 0.50982, Train MSE = 0.85851, Train MAE = 0.72167, Train Acc = 0.73845\n",
      "Val Loss = 0.51075, Val MSE = 0.86850, Val MAE = 0.72304, Val Acc = 0.73754\n"
     ]
    },
    {
     "name": "stderr",
     "output_type": "stream",
     "text": [
      "Epoch 198/512: 100%|████████████████████████████████████████████████████████████████████| 906/906 [00:40<00:00, 22.55it/s]\n"
     ]
    },
    {
     "name": "stdout",
     "output_type": "stream",
     "text": [
      "Epoch 198/512: \n",
      "Train Loss = 0.50923, Train MSE = 0.85887, Train MAE = 0.72062, Train Acc = 0.73704\n",
      "Val Loss = 0.52604, Val MSE = 0.91011, Val MAE = 0.73944, Val Acc = 0.72939\n"
     ]
    },
    {
     "name": "stderr",
     "output_type": "stream",
     "text": [
      "Epoch 199/512: 100%|████████████████████████████████████████████████████████████████████| 906/906 [00:40<00:00, 22.65it/s]\n"
     ]
    },
    {
     "name": "stdout",
     "output_type": "stream",
     "text": [
      "Epoch 199/512: \n",
      "Train Loss = 0.51136, Train MSE = 0.86514, Train MAE = 0.72276, Train Acc = 0.73612\n",
      "Val Loss = 0.48532, Val MSE = 0.79540, Val MAE = 0.69563, Val Acc = 0.75494\n"
     ]
    },
    {
     "name": "stderr",
     "output_type": "stream",
     "text": [
      "Epoch 200/512: 100%|████████████████████████████████████████████████████████████████████| 906/906 [00:40<00:00, 22.60it/s]\n"
     ]
    },
    {
     "name": "stdout",
     "output_type": "stream",
     "text": [
      "Epoch 200/512: \n",
      "Train Loss = 0.51293, Train MSE = 0.86617, Train MAE = 0.72432, Train Acc = 0.73545\n",
      "Val Loss = 0.51934, Val MSE = 0.88203, Val MAE = 0.73226, Val Acc = 0.73574\n"
     ]
    },
    {
     "name": "stderr",
     "output_type": "stream",
     "text": [
      "Epoch 201/512: 100%|████████████████████████████████████████████████████████████████████| 906/906 [00:40<00:00, 22.63it/s]\n"
     ]
    },
    {
     "name": "stdout",
     "output_type": "stream",
     "text": [
      "Epoch 201/512: \n",
      "Train Loss = 0.51156, Train MSE = 0.86176, Train MAE = 0.72316, Train Acc = 0.73635\n",
      "Val Loss = 0.49513, Val MSE = 0.83074, Val MAE = 0.70557, Val Acc = 0.75204\n"
     ]
    },
    {
     "name": "stderr",
     "output_type": "stream",
     "text": [
      "Epoch 202/512: 100%|████████████████████████████████████████████████████████████████████| 906/906 [00:40<00:00, 22.50it/s]\n"
     ]
    },
    {
     "name": "stdout",
     "output_type": "stream",
     "text": [
      "Epoch 202/512: \n",
      "Train Loss = 0.50778, Train MSE = 0.85492, Train MAE = 0.71890, Train Acc = 0.73738\n",
      "Val Loss = 0.50671, Val MSE = 0.84671, Val MAE = 0.71912, Val Acc = 0.74389\n"
     ]
    },
    {
     "name": "stderr",
     "output_type": "stream",
     "text": [
      "Epoch 203/512: 100%|████████████████████████████████████████████████████████████████████| 906/906 [00:40<00:00, 22.47it/s]\n"
     ]
    },
    {
     "name": "stdout",
     "output_type": "stream",
     "text": [
      "Epoch 203/512: \n",
      "Train Loss = 0.50704, Train MSE = 0.85167, Train MAE = 0.71845, Train Acc = 0.73975\n",
      "Val Loss = 0.52192, Val MSE = 0.90832, Val MAE = 0.73458, Val Acc = 0.73671\n"
     ]
    },
    {
     "name": "stderr",
     "output_type": "stream",
     "text": [
      "Epoch 204/512: 100%|████████████████████████████████████████████████████████████████████| 906/906 [00:40<00:00, 22.58it/s]\n"
     ]
    },
    {
     "name": "stdout",
     "output_type": "stream",
     "text": [
      "Epoch 204/512: \n",
      "Train Loss = 0.50981, Train MSE = 0.85950, Train MAE = 0.72106, Train Acc = 0.73782\n",
      "Val Loss = 0.53039, Val MSE = 0.91130, Val MAE = 0.74336, Val Acc = 0.72346\n"
     ]
    },
    {
     "name": "stderr",
     "output_type": "stream",
     "text": [
      "Epoch 205/512: 100%|████████████████████████████████████████████████████████████████████| 906/906 [00:40<00:00, 22.56it/s]\n"
     ]
    },
    {
     "name": "stdout",
     "output_type": "stream",
     "text": [
      "Epoch 205/512: \n",
      "Train Loss = 0.50789, Train MSE = 0.85459, Train MAE = 0.71932, Train Acc = 0.73920\n",
      "Val Loss = 0.50445, Val MSE = 0.83232, Val MAE = 0.71606, Val Acc = 0.74527\n"
     ]
    },
    {
     "name": "stderr",
     "output_type": "stream",
     "text": [
      "Epoch 206/512: 100%|████████████████████████████████████████████████████████████████████| 906/906 [00:40<00:00, 22.54it/s]\n"
     ]
    },
    {
     "name": "stdout",
     "output_type": "stream",
     "text": [
      "Epoch 206/512: \n",
      "Train Loss = 0.50727, Train MSE = 0.85357, Train MAE = 0.71847, Train Acc = 0.74087\n",
      "Val Loss = 0.49475, Val MSE = 0.82150, Val MAE = 0.70538, Val Acc = 0.75204\n"
     ]
    },
    {
     "name": "stderr",
     "output_type": "stream",
     "text": [
      "Epoch 207/512: 100%|████████████████████████████████████████████████████████████████████| 906/906 [00:40<00:00, 22.61it/s]\n"
     ]
    },
    {
     "name": "stdout",
     "output_type": "stream",
     "text": [
      "Epoch 207/512: \n",
      "Train Loss = 0.50892, Train MSE = 0.85649, Train MAE = 0.71968, Train Acc = 0.73795\n",
      "Val Loss = 0.51155, Val MSE = 0.86293, Val MAE = 0.72304, Val Acc = 0.74016\n"
     ]
    },
    {
     "name": "stderr",
     "output_type": "stream",
     "text": [
      "Epoch 208/512: 100%|████████████████████████████████████████████████████████████████████| 906/906 [00:40<00:00, 22.57it/s]\n"
     ]
    },
    {
     "name": "stdout",
     "output_type": "stream",
     "text": [
      "Epoch 208/512: \n",
      "Train Loss = 0.50628, Train MSE = 0.85260, Train MAE = 0.71729, Train Acc = 0.74009\n",
      "Val Loss = 0.50904, Val MSE = 0.86388, Val MAE = 0.72103, Val Acc = 0.73933\n"
     ]
    },
    {
     "name": "stderr",
     "output_type": "stream",
     "text": [
      "Epoch 209/512: 100%|████████████████████████████████████████████████████████████████████| 906/906 [00:40<00:00, 22.55it/s]\n"
     ]
    },
    {
     "name": "stdout",
     "output_type": "stream",
     "text": [
      "Epoch 209/512: \n",
      "Train Loss = 0.50685, Train MSE = 0.85226, Train MAE = 0.71814, Train Acc = 0.74008\n",
      "Val Loss = 0.51156, Val MSE = 0.87067, Val MAE = 0.72333, Val Acc = 0.74113\n"
     ]
    },
    {
     "name": "stderr",
     "output_type": "stream",
     "text": [
      "Epoch 210/512: 100%|████████████████████████████████████████████████████████████████████| 906/906 [00:40<00:00, 22.58it/s]\n"
     ]
    },
    {
     "name": "stdout",
     "output_type": "stream",
     "text": [
      "Epoch 210/512: \n",
      "Train Loss = 0.50634, Train MSE = 0.85164, Train MAE = 0.71745, Train Acc = 0.73913\n",
      "Val Loss = 0.50557, Val MSE = 0.84285, Val MAE = 0.71699, Val Acc = 0.74196\n"
     ]
    },
    {
     "name": "stderr",
     "output_type": "stream",
     "text": [
      "Epoch 211/512: 100%|████████████████████████████████████████████████████████████████████| 906/906 [00:40<00:00, 22.55it/s]\n"
     ]
    },
    {
     "name": "stdout",
     "output_type": "stream",
     "text": [
      "Epoch 211/512: \n",
      "Train Loss = 0.50756, Train MSE = 0.85377, Train MAE = 0.71900, Train Acc = 0.73878\n",
      "Val Loss = 0.49365, Val MSE = 0.81873, Val MAE = 0.70444, Val Acc = 0.74914\n"
     ]
    },
    {
     "name": "stderr",
     "output_type": "stream",
     "text": [
      "Epoch 212/512: 100%|████████████████████████████████████████████████████████████████████| 906/906 [00:40<00:00, 22.56it/s]\n"
     ]
    },
    {
     "name": "stdout",
     "output_type": "stream",
     "text": [
      "Epoch 212/512: \n",
      "Train Loss = 0.50725, Train MSE = 0.85259, Train MAE = 0.71802, Train Acc = 0.73816\n",
      "Val Loss = 0.53841, Val MSE = 0.92926, Val MAE = 0.75211, Val Acc = 0.72691\n"
     ]
    },
    {
     "name": "stderr",
     "output_type": "stream",
     "text": [
      "Epoch 213/512: 100%|████████████████████████████████████████████████████████████████████| 906/906 [00:40<00:00, 22.61it/s]\n"
     ]
    },
    {
     "name": "stdout",
     "output_type": "stream",
     "text": [
      "Epoch 213/512: \n",
      "Train Loss = 0.50764, Train MSE = 0.85282, Train MAE = 0.71889, Train Acc = 0.73927\n",
      "Val Loss = 0.49257, Val MSE = 0.81598, Val MAE = 0.70322, Val Acc = 0.74886\n"
     ]
    },
    {
     "name": "stderr",
     "output_type": "stream",
     "text": [
      "Epoch 214/512: 100%|████████████████████████████████████████████████████████████████████| 906/906 [00:40<00:00, 22.57it/s]\n"
     ]
    },
    {
     "name": "stdout",
     "output_type": "stream",
     "text": [
      "Epoch 214/512: \n",
      "Train Loss = 0.50797, Train MSE = 0.85489, Train MAE = 0.71897, Train Acc = 0.73811\n",
      "Val Loss = 0.50278, Val MSE = 0.85662, Val MAE = 0.71401, Val Acc = 0.74872\n"
     ]
    },
    {
     "name": "stderr",
     "output_type": "stream",
     "text": [
      "Epoch 215/512: 100%|████████████████████████████████████████████████████████████████████| 906/906 [00:40<00:00, 22.53it/s]\n"
     ]
    },
    {
     "name": "stdout",
     "output_type": "stream",
     "text": [
      "Epoch 215/512: \n",
      "Train Loss = 0.50703, Train MSE = 0.84979, Train MAE = 0.71828, Train Acc = 0.73883\n",
      "Val Loss = 0.50687, Val MSE = 0.85236, Val MAE = 0.71918, Val Acc = 0.74237\n"
     ]
    },
    {
     "name": "stderr",
     "output_type": "stream",
     "text": [
      "Epoch 216/512: 100%|████████████████████████████████████████████████████████████████████| 906/906 [00:40<00:00, 22.60it/s]\n"
     ]
    },
    {
     "name": "stdout",
     "output_type": "stream",
     "text": [
      "Epoch 216/512: \n",
      "Train Loss = 0.50675, Train MSE = 0.85215, Train MAE = 0.71789, Train Acc = 0.73980\n",
      "Val Loss = 0.51221, Val MSE = 0.86064, Val MAE = 0.72508, Val Acc = 0.74058\n"
     ]
    },
    {
     "name": "stderr",
     "output_type": "stream",
     "text": [
      "Epoch 217/512: 100%|████████████████████████████████████████████████████████████████████| 906/906 [00:40<00:00, 22.63it/s]\n"
     ]
    },
    {
     "name": "stdout",
     "output_type": "stream",
     "text": [
      "Epoch 217/512: \n",
      "Train Loss = 0.50542, Train MSE = 0.84939, Train MAE = 0.71637, Train Acc = 0.74096\n",
      "Val Loss = 0.48591, Val MSE = 0.80202, Val MAE = 0.69678, Val Acc = 0.75535\n"
     ]
    },
    {
     "name": "stderr",
     "output_type": "stream",
     "text": [
      "Epoch 218/512: 100%|████████████████████████████████████████████████████████████████████| 906/906 [00:40<00:00, 22.50it/s]\n"
     ]
    },
    {
     "name": "stdout",
     "output_type": "stream",
     "text": [
      "Epoch 218/512: \n",
      "Train Loss = 0.50802, Train MSE = 0.85618, Train MAE = 0.71906, Train Acc = 0.73952\n",
      "Val Loss = 0.50189, Val MSE = 0.83824, Val MAE = 0.71423, Val Acc = 0.74734\n"
     ]
    },
    {
     "name": "stderr",
     "output_type": "stream",
     "text": [
      "Epoch 219/512: 100%|████████████████████████████████████████████████████████████████████| 906/906 [00:40<00:00, 22.53it/s]\n"
     ]
    },
    {
     "name": "stdout",
     "output_type": "stream",
     "text": [
      "Epoch 219/512: \n",
      "Train Loss = 0.50652, Train MSE = 0.85259, Train MAE = 0.71716, Train Acc = 0.74016\n",
      "Val Loss = 0.50863, Val MSE = 0.86932, Val MAE = 0.72074, Val Acc = 0.74513\n"
     ]
    },
    {
     "name": "stderr",
     "output_type": "stream",
     "text": [
      "Epoch 220/512: 100%|████████████████████████████████████████████████████████████████████| 906/906 [00:40<00:00, 22.60it/s]\n"
     ]
    },
    {
     "name": "stdout",
     "output_type": "stream",
     "text": [
      "Epoch 220/512: \n",
      "Train Loss = 0.50390, Train MSE = 0.84814, Train MAE = 0.71407, Train Acc = 0.74127\n",
      "Val Loss = 0.51436, Val MSE = 0.85913, Val MAE = 0.72742, Val Acc = 0.73933\n"
     ]
    },
    {
     "name": "stderr",
     "output_type": "stream",
     "text": [
      "Epoch 221/512: 100%|████████████████████████████████████████████████████████████████████| 906/906 [00:39<00:00, 22.67it/s]\n"
     ]
    },
    {
     "name": "stdout",
     "output_type": "stream",
     "text": [
      "Epoch 221/512: \n",
      "Train Loss = 0.50442, Train MSE = 0.84610, Train MAE = 0.71555, Train Acc = 0.74142\n",
      "Val Loss = 0.50268, Val MSE = 0.83776, Val MAE = 0.71398, Val Acc = 0.74500\n"
     ]
    },
    {
     "name": "stderr",
     "output_type": "stream",
     "text": [
      "Epoch 222/512: 100%|████████████████████████████████████████████████████████████████████| 906/906 [00:40<00:00, 22.59it/s]\n"
     ]
    },
    {
     "name": "stdout",
     "output_type": "stream",
     "text": [
      "Epoch 222/512: \n",
      "Train Loss = 0.50363, Train MSE = 0.84414, Train MAE = 0.71443, Train Acc = 0.74090\n",
      "Val Loss = 0.48735, Val MSE = 0.82271, Val MAE = 0.69801, Val Acc = 0.75949\n"
     ]
    },
    {
     "name": "stderr",
     "output_type": "stream",
     "text": [
      "Epoch 223/512: 100%|████████████████████████████████████████████████████████████████████| 906/906 [00:40<00:00, 22.64it/s]\n"
     ]
    },
    {
     "name": "stdout",
     "output_type": "stream",
     "text": [
      "Epoch 223/512: \n",
      "Train Loss = 0.50435, Train MSE = 0.84649, Train MAE = 0.71554, Train Acc = 0.74144\n",
      "Val Loss = 0.53956, Val MSE = 0.95649, Val MAE = 0.75468, Val Acc = 0.72622\n"
     ]
    },
    {
     "name": "stderr",
     "output_type": "stream",
     "text": [
      "Epoch 224/512: 100%|████████████████████████████████████████████████████████████████████| 906/906 [00:40<00:00, 22.51it/s]\n"
     ]
    },
    {
     "name": "stdout",
     "output_type": "stream",
     "text": [
      "Epoch 224/512: \n",
      "Train Loss = 0.50558, Train MSE = 0.84974, Train MAE = 0.71663, Train Acc = 0.74127\n",
      "Val Loss = 0.46281, Val MSE = 0.76499, Val MAE = 0.67173, Val Acc = 0.77357\n"
     ]
    },
    {
     "name": "stderr",
     "output_type": "stream",
     "text": [
      "Epoch 225/512: 100%|████████████████████████████████████████████████████████████████████| 906/906 [00:40<00:00, 22.49it/s]\n"
     ]
    },
    {
     "name": "stdout",
     "output_type": "stream",
     "text": [
      "Epoch 225/512: \n",
      "Train Loss = 0.50597, Train MSE = 0.85067, Train MAE = 0.71691, Train Acc = 0.73958\n",
      "Val Loss = 0.53449, Val MSE = 0.91203, Val MAE = 0.74889, Val Acc = 0.72332\n"
     ]
    },
    {
     "name": "stderr",
     "output_type": "stream",
     "text": [
      "Epoch 226/512: 100%|████████████████████████████████████████████████████████████████████| 906/906 [00:40<00:00, 22.51it/s]\n"
     ]
    },
    {
     "name": "stdout",
     "output_type": "stream",
     "text": [
      "Epoch 226/512: \n",
      "Train Loss = 0.50161, Train MSE = 0.84165, Train MAE = 0.71229, Train Acc = 0.74320\n",
      "Val Loss = 0.50463, Val MSE = 0.83572, Val MAE = 0.71756, Val Acc = 0.74596\n"
     ]
    },
    {
     "name": "stderr",
     "output_type": "stream",
     "text": [
      "Epoch 227/512: 100%|████████████████████████████████████████████████████████████████████| 906/906 [00:39<00:00, 22.66it/s]\n"
     ]
    },
    {
     "name": "stdout",
     "output_type": "stream",
     "text": [
      "Epoch 227/512: \n",
      "Train Loss = 0.50350, Train MSE = 0.84677, Train MAE = 0.71433, Train Acc = 0.74104\n",
      "Val Loss = 0.51279, Val MSE = 0.86720, Val MAE = 0.72478, Val Acc = 0.73561\n"
     ]
    },
    {
     "name": "stderr",
     "output_type": "stream",
     "text": [
      "Epoch 228/512: 100%|████████████████████████████████████████████████████████████████████| 906/906 [00:40<00:00, 22.59it/s]\n"
     ]
    },
    {
     "name": "stdout",
     "output_type": "stream",
     "text": [
      "Epoch 228/512: \n",
      "Train Loss = 0.50355, Train MSE = 0.84548, Train MAE = 0.71439, Train Acc = 0.74244\n",
      "Val Loss = 0.49242, Val MSE = 0.81760, Val MAE = 0.70406, Val Acc = 0.75217\n"
     ]
    },
    {
     "name": "stderr",
     "output_type": "stream",
     "text": [
      "Epoch 229/512: 100%|████████████████████████████████████████████████████████████████████| 906/906 [00:40<00:00, 22.59it/s]\n"
     ]
    },
    {
     "name": "stdout",
     "output_type": "stream",
     "text": [
      "Epoch 229/512: \n",
      "Train Loss = 0.50497, Train MSE = 0.84822, Train MAE = 0.71563, Train Acc = 0.73944\n",
      "Val Loss = 0.49538, Val MSE = 0.82063, Val MAE = 0.70663, Val Acc = 0.75162\n"
     ]
    },
    {
     "name": "stderr",
     "output_type": "stream",
     "text": [
      "Epoch 230/512: 100%|████████████████████████████████████████████████████████████████████| 906/906 [00:40<00:00, 22.49it/s]\n"
     ]
    },
    {
     "name": "stdout",
     "output_type": "stream",
     "text": [
      "Epoch 230/512: \n",
      "Train Loss = 0.50287, Train MSE = 0.84571, Train MAE = 0.71359, Train Acc = 0.74386\n",
      "Val Loss = 0.49471, Val MSE = 0.81040, Val MAE = 0.70659, Val Acc = 0.75176\n"
     ]
    },
    {
     "name": "stderr",
     "output_type": "stream",
     "text": [
      "Epoch 231/512: 100%|████████████████████████████████████████████████████████████████████| 906/906 [00:40<00:00, 22.56it/s]\n"
     ]
    },
    {
     "name": "stdout",
     "output_type": "stream",
     "text": [
      "Epoch 231/512: \n",
      "Train Loss = 0.49819, Train MSE = 0.83294, Train MAE = 0.70872, Train Acc = 0.74563\n",
      "Val Loss = 0.51600, Val MSE = 0.86164, Val MAE = 0.72831, Val Acc = 0.73409\n"
     ]
    },
    {
     "name": "stderr",
     "output_type": "stream",
     "text": [
      "Epoch 232/512: 100%|████████████████████████████████████████████████████████████████████| 906/906 [00:40<00:00, 22.58it/s]\n"
     ]
    },
    {
     "name": "stdout",
     "output_type": "stream",
     "text": [
      "Epoch 232/512: \n",
      "Train Loss = 0.50203, Train MSE = 0.84095, Train MAE = 0.71266, Train Acc = 0.74341\n",
      "Val Loss = 0.50759, Val MSE = 0.84017, Val MAE = 0.72066, Val Acc = 0.74072\n"
     ]
    },
    {
     "name": "stderr",
     "output_type": "stream",
     "text": [
      "Epoch 233/512: 100%|████████████████████████████████████████████████████████████████████| 906/906 [00:40<00:00, 22.55it/s]\n"
     ]
    },
    {
     "name": "stdout",
     "output_type": "stream",
     "text": [
      "Epoch 233/512: \n",
      "Train Loss = 0.50393, Train MSE = 0.84616, Train MAE = 0.71488, Train Acc = 0.74187\n",
      "Val Loss = 0.48931, Val MSE = 0.80129, Val MAE = 0.70049, Val Acc = 0.75535\n"
     ]
    },
    {
     "name": "stderr",
     "output_type": "stream",
     "text": [
      "Epoch 234/512: 100%|████████████████████████████████████████████████████████████████████| 906/906 [00:40<00:00, 22.53it/s]\n"
     ]
    },
    {
     "name": "stdout",
     "output_type": "stream",
     "text": [
      "Epoch 234/512: \n",
      "Train Loss = 0.50442, Train MSE = 0.84950, Train MAE = 0.71553, Train Acc = 0.74225\n",
      "Val Loss = 0.49239, Val MSE = 0.80970, Val MAE = 0.70372, Val Acc = 0.75093\n"
     ]
    },
    {
     "name": "stderr",
     "output_type": "stream",
     "text": [
      "Epoch 235/512: 100%|████████████████████████████████████████████████████████████████████| 906/906 [00:40<00:00, 22.56it/s]\n"
     ]
    },
    {
     "name": "stdout",
     "output_type": "stream",
     "text": [
      "Epoch 235/512: \n",
      "Train Loss = 0.50051, Train MSE = 0.84088, Train MAE = 0.71082, Train Acc = 0.74415\n",
      "Val Loss = 0.51948, Val MSE = 0.87986, Val MAE = 0.73213, Val Acc = 0.73409\n"
     ]
    },
    {
     "name": "stderr",
     "output_type": "stream",
     "text": [
      "Epoch 236/512: 100%|████████████████████████████████████████████████████████████████████| 906/906 [00:40<00:00, 22.59it/s]\n"
     ]
    },
    {
     "name": "stdout",
     "output_type": "stream",
     "text": [
      "Epoch 236/512: \n",
      "Train Loss = 0.50560, Train MSE = 0.84943, Train MAE = 0.71702, Train Acc = 0.74047\n",
      "Val Loss = 0.51553, Val MSE = 0.86814, Val MAE = 0.72858, Val Acc = 0.73713\n"
     ]
    },
    {
     "name": "stderr",
     "output_type": "stream",
     "text": [
      "Epoch 237/512: 100%|████████████████████████████████████████████████████████████████████| 906/906 [00:40<00:00, 22.52it/s]\n"
     ]
    },
    {
     "name": "stdout",
     "output_type": "stream",
     "text": [
      "Epoch 237/512: \n",
      "Train Loss = 0.50195, Train MSE = 0.84464, Train MAE = 0.71252, Train Acc = 0.74179\n",
      "Val Loss = 0.51816, Val MSE = 0.86349, Val MAE = 0.73168, Val Acc = 0.73436\n"
     ]
    },
    {
     "name": "stderr",
     "output_type": "stream",
     "text": [
      "Epoch 238/512: 100%|████████████████████████████████████████████████████████████████████| 906/906 [00:40<00:00, 22.47it/s]\n"
     ]
    },
    {
     "name": "stdout",
     "output_type": "stream",
     "text": [
      "Epoch 238/512: \n",
      "Train Loss = 0.50162, Train MSE = 0.84050, Train MAE = 0.71237, Train Acc = 0.74417\n",
      "Val Loss = 0.49028, Val MSE = 0.79995, Val MAE = 0.70096, Val Acc = 0.75273\n"
     ]
    },
    {
     "name": "stderr",
     "output_type": "stream",
     "text": [
      "Epoch 239/512: 100%|████████████████████████████████████████████████████████████████████| 906/906 [00:39<00:00, 22.65it/s]\n"
     ]
    },
    {
     "name": "stdout",
     "output_type": "stream",
     "text": [
      "Epoch 239/512: \n",
      "Train Loss = 0.49974, Train MSE = 0.83795, Train MAE = 0.71026, Train Acc = 0.74375\n",
      "Val Loss = 0.53799, Val MSE = 0.93948, Val MAE = 0.75221, Val Acc = 0.72056\n"
     ]
    },
    {
     "name": "stderr",
     "output_type": "stream",
     "text": [
      "Epoch 240/512: 100%|████████████████████████████████████████████████████████████████████| 906/906 [00:40<00:00, 22.53it/s]\n"
     ]
    },
    {
     "name": "stdout",
     "output_type": "stream",
     "text": [
      "Epoch 240/512: \n",
      "Train Loss = 0.50283, Train MSE = 0.84532, Train MAE = 0.71355, Train Acc = 0.74267\n",
      "Val Loss = 0.57143, Val MSE = 1.02320, Val MAE = 0.78829, Val Acc = 0.69971\n"
     ]
    },
    {
     "name": "stderr",
     "output_type": "stream",
     "text": [
      "Epoch 241/512: 100%|████████████████████████████████████████████████████████████████████| 906/906 [00:40<00:00, 22.50it/s]\n"
     ]
    },
    {
     "name": "stdout",
     "output_type": "stream",
     "text": [
      "Epoch 241/512: \n",
      "Train Loss = 0.50129, Train MSE = 0.84218, Train MAE = 0.71156, Train Acc = 0.74477\n",
      "Val Loss = 0.49844, Val MSE = 0.82770, Val MAE = 0.70966, Val Acc = 0.74569\n"
     ]
    },
    {
     "name": "stderr",
     "output_type": "stream",
     "text": [
      "Epoch 242/512: 100%|████████████████████████████████████████████████████████████████████| 906/906 [00:40<00:00, 22.57it/s]\n"
     ]
    },
    {
     "name": "stdout",
     "output_type": "stream",
     "text": [
      "Epoch 242/512: \n",
      "Train Loss = 0.50368, Train MSE = 0.84888, Train MAE = 0.71429, Train Acc = 0.74149\n",
      "Val Loss = 0.49703, Val MSE = 0.82585, Val MAE = 0.70790, Val Acc = 0.74845\n"
     ]
    },
    {
     "name": "stderr",
     "output_type": "stream",
     "text": [
      "Epoch 243/512: 100%|████████████████████████████████████████████████████████████████████| 906/906 [00:39<00:00, 22.71it/s]\n"
     ]
    },
    {
     "name": "stdout",
     "output_type": "stream",
     "text": [
      "Epoch 243/512: \n",
      "Train Loss = 0.49237, Train MSE = 0.82325, Train MAE = 0.70219, Train Acc = 0.75038\n",
      "Val Loss = 0.48736, Val MSE = 0.81218, Val MAE = 0.69767, Val Acc = 0.75853\n"
     ]
    },
    {
     "name": "stderr",
     "output_type": "stream",
     "text": [
      "Epoch 244/512: 100%|████████████████████████████████████████████████████████████████████| 906/906 [00:40<00:00, 22.53it/s]\n"
     ]
    },
    {
     "name": "stdout",
     "output_type": "stream",
     "text": [
      "Epoch 244/512: \n",
      "Train Loss = 0.49426, Train MSE = 0.82669, Train MAE = 0.70435, Train Acc = 0.74827\n",
      "Val Loss = 0.48293, Val MSE = 0.79259, Val MAE = 0.69313, Val Acc = 0.76142\n"
     ]
    },
    {
     "name": "stderr",
     "output_type": "stream",
     "text": [
      "Epoch 245/512: 100%|████████████████████████████████████████████████████████████████████| 906/906 [00:40<00:00, 22.55it/s]\n"
     ]
    },
    {
     "name": "stdout",
     "output_type": "stream",
     "text": [
      "Epoch 245/512: \n",
      "Train Loss = 0.49172, Train MSE = 0.82080, Train MAE = 0.70132, Train Acc = 0.75119\n",
      "Val Loss = 0.47963, Val MSE = 0.78209, Val MAE = 0.69030, Val Acc = 0.76018\n"
     ]
    },
    {
     "name": "stderr",
     "output_type": "stream",
     "text": [
      "Epoch 246/512: 100%|████████████████████████████████████████████████████████████████████| 906/906 [00:40<00:00, 22.57it/s]\n"
     ]
    },
    {
     "name": "stdout",
     "output_type": "stream",
     "text": [
      "Epoch 246/512: \n",
      "Train Loss = 0.49058, Train MSE = 0.82020, Train MAE = 0.70049, Train Acc = 0.75178\n",
      "Val Loss = 0.50315, Val MSE = 0.85007, Val MAE = 0.71516, Val Acc = 0.74458\n"
     ]
    },
    {
     "name": "stderr",
     "output_type": "stream",
     "text": [
      "Epoch 247/512: 100%|████████████████████████████████████████████████████████████████████| 906/906 [00:40<00:00, 22.52it/s]\n"
     ]
    },
    {
     "name": "stdout",
     "output_type": "stream",
     "text": [
      "Epoch 247/512: \n",
      "Train Loss = 0.49044, Train MSE = 0.82089, Train MAE = 0.69980, Train Acc = 0.75173\n",
      "Val Loss = 0.48187, Val MSE = 0.79352, Val MAE = 0.69235, Val Acc = 0.76073\n"
     ]
    },
    {
     "name": "stderr",
     "output_type": "stream",
     "text": [
      "Epoch 248/512: 100%|████████████████████████████████████████████████████████████████████| 906/906 [00:40<00:00, 22.58it/s]\n"
     ]
    },
    {
     "name": "stdout",
     "output_type": "stream",
     "text": [
      "Epoch 248/512: \n",
      "Train Loss = 0.48786, Train MSE = 0.81371, Train MAE = 0.69733, Train Acc = 0.75338\n",
      "Val Loss = 0.48869, Val MSE = 0.80444, Val MAE = 0.69927, Val Acc = 0.75563\n"
     ]
    },
    {
     "name": "stderr",
     "output_type": "stream",
     "text": [
      "Epoch 249/512: 100%|████████████████████████████████████████████████████████████████████| 906/906 [00:40<00:00, 22.57it/s]\n"
     ]
    },
    {
     "name": "stdout",
     "output_type": "stream",
     "text": [
      "Epoch 249/512: \n",
      "Train Loss = 0.49272, Train MSE = 0.82402, Train MAE = 0.70238, Train Acc = 0.74990\n",
      "Val Loss = 0.51499, Val MSE = 0.87402, Val MAE = 0.72776, Val Acc = 0.73906\n"
     ]
    },
    {
     "name": "stderr",
     "output_type": "stream",
     "text": [
      "Epoch 250/512: 100%|████████████████████████████████████████████████████████████████████| 906/906 [00:40<00:00, 22.55it/s]\n"
     ]
    },
    {
     "name": "stdout",
     "output_type": "stream",
     "text": [
      "Epoch 250/512: \n",
      "Train Loss = 0.48930, Train MSE = 0.81583, Train MAE = 0.69886, Train Acc = 0.75167\n",
      "Val Loss = 0.50614, Val MSE = 0.86463, Val MAE = 0.71824, Val Acc = 0.74417\n"
     ]
    },
    {
     "name": "stderr",
     "output_type": "stream",
     "text": [
      "Epoch 251/512: 100%|████████████████████████████████████████████████████████████████████| 906/906 [00:40<00:00, 22.55it/s]\n"
     ]
    },
    {
     "name": "stdout",
     "output_type": "stream",
     "text": [
      "Epoch 251/512: \n",
      "Train Loss = 0.49133, Train MSE = 0.81828, Train MAE = 0.70156, Train Acc = 0.74881\n",
      "Val Loss = 0.48052, Val MSE = 0.78998, Val MAE = 0.69056, Val Acc = 0.76101\n"
     ]
    },
    {
     "name": "stderr",
     "output_type": "stream",
     "text": [
      "Epoch 252/512: 100%|████████████████████████████████████████████████████████████████████| 906/906 [00:40<00:00, 22.60it/s]\n"
     ]
    },
    {
     "name": "stdout",
     "output_type": "stream",
     "text": [
      "Epoch 252/512: \n",
      "Train Loss = 0.48998, Train MSE = 0.81738, Train MAE = 0.69960, Train Acc = 0.75186\n",
      "Val Loss = 0.49164, Val MSE = 0.82750, Val MAE = 0.70222, Val Acc = 0.75535\n"
     ]
    },
    {
     "name": "stderr",
     "output_type": "stream",
     "text": [
      "Epoch 253/512: 100%|████████████████████████████████████████████████████████████████████| 906/906 [00:40<00:00, 22.55it/s]\n"
     ]
    },
    {
     "name": "stdout",
     "output_type": "stream",
     "text": [
      "Epoch 253/512: \n",
      "Train Loss = 0.48908, Train MSE = 0.81658, Train MAE = 0.69842, Train Acc = 0.75285\n",
      "Val Loss = 0.50989, Val MSE = 0.85654, Val MAE = 0.72260, Val Acc = 0.74223\n"
     ]
    },
    {
     "name": "stderr",
     "output_type": "stream",
     "text": [
      "Epoch 254/512: 100%|████████████████████████████████████████████████████████████████████| 906/906 [00:40<00:00, 22.51it/s]\n"
     ]
    },
    {
     "name": "stdout",
     "output_type": "stream",
     "text": [
      "Epoch 254/512: \n",
      "Train Loss = 0.48909, Train MSE = 0.81656, Train MAE = 0.69872, Train Acc = 0.75319\n",
      "Val Loss = 0.49739, Val MSE = 0.83415, Val MAE = 0.70833, Val Acc = 0.75024\n"
     ]
    },
    {
     "name": "stderr",
     "output_type": "stream",
     "text": [
      "Epoch 255/512: 100%|████████████████████████████████████████████████████████████████████| 906/906 [00:40<00:00, 22.57it/s]\n"
     ]
    },
    {
     "name": "stdout",
     "output_type": "stream",
     "text": [
      "Epoch 255/512: \n",
      "Train Loss = 0.48900, Train MSE = 0.81383, Train MAE = 0.69891, Train Acc = 0.75357\n",
      "Val Loss = 0.51655, Val MSE = 0.87027, Val MAE = 0.72948, Val Acc = 0.73933\n"
     ]
    },
    {
     "name": "stderr",
     "output_type": "stream",
     "text": [
      "Epoch 256/512: 100%|████████████████████████████████████████████████████████████████████| 906/906 [00:40<00:00, 22.55it/s]\n"
     ]
    },
    {
     "name": "stdout",
     "output_type": "stream",
     "text": [
      "Epoch 256/512: \n",
      "Train Loss = 0.48727, Train MSE = 0.81002, Train MAE = 0.69713, Train Acc = 0.75290\n",
      "Val Loss = 0.50670, Val MSE = 0.86362, Val MAE = 0.71854, Val Acc = 0.74168\n"
     ]
    },
    {
     "name": "stderr",
     "output_type": "stream",
     "text": [
      "Epoch 257/512: 100%|████████████████████████████████████████████████████████████████████| 906/906 [00:40<00:00, 22.51it/s]\n"
     ]
    },
    {
     "name": "stdout",
     "output_type": "stream",
     "text": [
      "Epoch 257/512: \n",
      "Train Loss = 0.48928, Train MSE = 0.81552, Train MAE = 0.69890, Train Acc = 0.75262\n",
      "Val Loss = 0.49389, Val MSE = 0.82898, Val MAE = 0.70445, Val Acc = 0.75397\n"
     ]
    },
    {
     "name": "stderr",
     "output_type": "stream",
     "text": [
      "Epoch 258/512: 100%|████████████████████████████████████████████████████████████████████| 906/906 [00:40<00:00, 22.52it/s]\n"
     ]
    },
    {
     "name": "stdout",
     "output_type": "stream",
     "text": [
      "Epoch 258/512: \n",
      "Train Loss = 0.48760, Train MSE = 0.81093, Train MAE = 0.69735, Train Acc = 0.75278\n",
      "Val Loss = 0.48129, Val MSE = 0.79202, Val MAE = 0.69108, Val Acc = 0.76170\n"
     ]
    },
    {
     "name": "stderr",
     "output_type": "stream",
     "text": [
      "Epoch 259/512: 100%|████████████████████████████████████████████████████████████████████| 906/906 [00:40<00:00, 22.53it/s]\n"
     ]
    },
    {
     "name": "stdout",
     "output_type": "stream",
     "text": [
      "Epoch 259/512: \n",
      "Train Loss = 0.48774, Train MSE = 0.81239, Train MAE = 0.69696, Train Acc = 0.75556\n",
      "Val Loss = 0.48788, Val MSE = 0.81620, Val MAE = 0.69806, Val Acc = 0.75880\n"
     ]
    },
    {
     "name": "stderr",
     "output_type": "stream",
     "text": [
      "Epoch 260/512: 100%|████████████████████████████████████████████████████████████████████| 906/906 [00:40<00:00, 22.63it/s]\n"
     ]
    },
    {
     "name": "stdout",
     "output_type": "stream",
     "text": [
      "Epoch 260/512: \n",
      "Train Loss = 0.48985, Train MSE = 0.81814, Train MAE = 0.69952, Train Acc = 0.75173\n",
      "Val Loss = 0.49091, Val MSE = 0.81774, Val MAE = 0.70218, Val Acc = 0.75204\n"
     ]
    },
    {
     "name": "stderr",
     "output_type": "stream",
     "text": [
      "Epoch 261/512: 100%|████████████████████████████████████████████████████████████████████| 906/906 [00:40<00:00, 22.58it/s]\n"
     ]
    },
    {
     "name": "stdout",
     "output_type": "stream",
     "text": [
      "Epoch 261/512: \n",
      "Train Loss = 0.48673, Train MSE = 0.81079, Train MAE = 0.69618, Train Acc = 0.75532\n",
      "Val Loss = 0.49316, Val MSE = 0.83094, Val MAE = 0.70479, Val Acc = 0.75190\n"
     ]
    },
    {
     "name": "stderr",
     "output_type": "stream",
     "text": [
      "Epoch 262/512: 100%|████████████████████████████████████████████████████████████████████| 906/906 [00:40<00:00, 22.54it/s]\n"
     ]
    },
    {
     "name": "stdout",
     "output_type": "stream",
     "text": [
      "Epoch 262/512: \n",
      "Train Loss = 0.48766, Train MSE = 0.81479, Train MAE = 0.69683, Train Acc = 0.75319\n",
      "Val Loss = 0.47218, Val MSE = 0.77711, Val MAE = 0.68245, Val Acc = 0.76667\n"
     ]
    },
    {
     "name": "stderr",
     "output_type": "stream",
     "text": [
      "Epoch 263/512: 100%|████████████████████████████████████████████████████████████████████| 906/906 [00:40<00:00, 22.54it/s]\n"
     ]
    },
    {
     "name": "stdout",
     "output_type": "stream",
     "text": [
      "Epoch 263/512: \n",
      "Train Loss = 0.48614, Train MSE = 0.80834, Train MAE = 0.69543, Train Acc = 0.75264\n",
      "Val Loss = 0.51190, Val MSE = 0.87493, Val MAE = 0.72382, Val Acc = 0.74141\n"
     ]
    },
    {
     "name": "stderr",
     "output_type": "stream",
     "text": [
      "Epoch 264/512: 100%|████████████████████████████████████████████████████████████████████| 906/906 [00:40<00:00, 22.48it/s]\n"
     ]
    },
    {
     "name": "stdout",
     "output_type": "stream",
     "text": [
      "Epoch 264/512: \n",
      "Train Loss = 0.48951, Train MSE = 0.81735, Train MAE = 0.69909, Train Acc = 0.75198\n",
      "Val Loss = 0.50540, Val MSE = 0.84888, Val MAE = 0.71736, Val Acc = 0.74210\n"
     ]
    },
    {
     "name": "stderr",
     "output_type": "stream",
     "text": [
      "Epoch 265/512: 100%|████████████████████████████████████████████████████████████████████| 906/906 [00:40<00:00, 22.58it/s]\n"
     ]
    },
    {
     "name": "stdout",
     "output_type": "stream",
     "text": [
      "Epoch 265/512: \n",
      "Train Loss = 0.48739, Train MSE = 0.81040, Train MAE = 0.69689, Train Acc = 0.75368\n",
      "Val Loss = 0.46753, Val MSE = 0.75735, Val MAE = 0.67701, Val Acc = 0.77081\n"
     ]
    },
    {
     "name": "stderr",
     "output_type": "stream",
     "text": [
      "Epoch 266/512: 100%|████████████████████████████████████████████████████████████████████| 906/906 [00:40<00:00, 22.56it/s]\n"
     ]
    },
    {
     "name": "stdout",
     "output_type": "stream",
     "text": [
      "Epoch 266/512: \n",
      "Train Loss = 0.48716, Train MSE = 0.81332, Train MAE = 0.69642, Train Acc = 0.75488\n",
      "Val Loss = 0.49336, Val MSE = 0.82788, Val MAE = 0.70492, Val Acc = 0.75425\n"
     ]
    },
    {
     "name": "stderr",
     "output_type": "stream",
     "text": [
      "Epoch 267/512: 100%|████████████████████████████████████████████████████████████████████| 906/906 [00:40<00:00, 22.60it/s]\n"
     ]
    },
    {
     "name": "stdout",
     "output_type": "stream",
     "text": [
      "Epoch 267/512: \n",
      "Train Loss = 0.48591, Train MSE = 0.81099, Train MAE = 0.69509, Train Acc = 0.75511\n",
      "Val Loss = 0.47033, Val MSE = 0.76379, Val MAE = 0.68010, Val Acc = 0.76736\n"
     ]
    },
    {
     "name": "stderr",
     "output_type": "stream",
     "text": [
      "Epoch 268/512: 100%|████████████████████████████████████████████████████████████████████| 906/906 [00:40<00:00, 22.59it/s]\n"
     ]
    },
    {
     "name": "stdout",
     "output_type": "stream",
     "text": [
      "Epoch 268/512: \n",
      "Train Loss = 0.48595, Train MSE = 0.81016, Train MAE = 0.69508, Train Acc = 0.75433\n",
      "Val Loss = 0.47118, Val MSE = 0.77286, Val MAE = 0.68074, Val Acc = 0.76695\n"
     ]
    },
    {
     "name": "stderr",
     "output_type": "stream",
     "text": [
      "Epoch 269/512: 100%|████████████████████████████████████████████████████████████████████| 906/906 [00:40<00:00, 22.63it/s]\n"
     ]
    },
    {
     "name": "stdout",
     "output_type": "stream",
     "text": [
      "Epoch 269/512: \n",
      "Train Loss = 0.48679, Train MSE = 0.80847, Train MAE = 0.69679, Train Acc = 0.75416\n",
      "Val Loss = 0.47566, Val MSE = 0.78222, Val MAE = 0.68530, Val Acc = 0.76626\n"
     ]
    },
    {
     "name": "stderr",
     "output_type": "stream",
     "text": [
      "Epoch 270/512: 100%|████████████████████████████████████████████████████████████████████| 906/906 [00:40<00:00, 22.48it/s]\n"
     ]
    },
    {
     "name": "stdout",
     "output_type": "stream",
     "text": [
      "Epoch 270/512: \n",
      "Train Loss = 0.48780, Train MSE = 0.81232, Train MAE = 0.69706, Train Acc = 0.75376\n",
      "Val Loss = 0.49059, Val MSE = 0.81992, Val MAE = 0.70177, Val Acc = 0.75507\n"
     ]
    },
    {
     "name": "stderr",
     "output_type": "stream",
     "text": [
      "Epoch 271/512: 100%|████████████████████████████████████████████████████████████████████| 906/906 [00:40<00:00, 22.57it/s]\n"
     ]
    },
    {
     "name": "stdout",
     "output_type": "stream",
     "text": [
      "Epoch 271/512: \n",
      "Train Loss = 0.48600, Train MSE = 0.80828, Train MAE = 0.69564, Train Acc = 0.75485\n",
      "Val Loss = 0.49144, Val MSE = 0.81797, Val MAE = 0.70166, Val Acc = 0.75452\n"
     ]
    },
    {
     "name": "stderr",
     "output_type": "stream",
     "text": [
      "Epoch 272/512: 100%|████████████████████████████████████████████████████████████████████| 906/906 [00:39<00:00, 22.66it/s]\n"
     ]
    },
    {
     "name": "stdout",
     "output_type": "stream",
     "text": [
      "Epoch 272/512: \n",
      "Train Loss = 0.48529, Train MSE = 0.80677, Train MAE = 0.69465, Train Acc = 0.75690\n",
      "Val Loss = 0.49929, Val MSE = 0.83709, Val MAE = 0.71084, Val Acc = 0.75024\n"
     ]
    },
    {
     "name": "stderr",
     "output_type": "stream",
     "text": [
      "Epoch 273/512: 100%|████████████████████████████████████████████████████████████████████| 906/906 [00:40<00:00, 22.61it/s]\n"
     ]
    },
    {
     "name": "stdout",
     "output_type": "stream",
     "text": [
      "Epoch 273/512: \n",
      "Train Loss = 0.48680, Train MSE = 0.80946, Train MAE = 0.69644, Train Acc = 0.75487\n",
      "Val Loss = 0.46249, Val MSE = 0.75423, Val MAE = 0.67182, Val Acc = 0.77565\n"
     ]
    },
    {
     "name": "stderr",
     "output_type": "stream",
     "text": [
      "Epoch 274/512: 100%|████████████████████████████████████████████████████████████████████| 906/906 [00:40<00:00, 22.62it/s]\n"
     ]
    },
    {
     "name": "stdout",
     "output_type": "stream",
     "text": [
      "Epoch 274/512: \n",
      "Train Loss = 0.48664, Train MSE = 0.81133, Train MAE = 0.69567, Train Acc = 0.75343\n",
      "Val Loss = 0.46587, Val MSE = 0.75718, Val MAE = 0.67535, Val Acc = 0.77247\n"
     ]
    },
    {
     "name": "stderr",
     "output_type": "stream",
     "text": [
      "Epoch 275/512: 100%|████████████████████████████████████████████████████████████████████| 906/906 [00:40<00:00, 22.51it/s]\n"
     ]
    },
    {
     "name": "stdout",
     "output_type": "stream",
     "text": [
      "Epoch 275/512: \n",
      "Train Loss = 0.48808, Train MSE = 0.81366, Train MAE = 0.69808, Train Acc = 0.75438\n",
      "Val Loss = 0.47526, Val MSE = 0.77644, Val MAE = 0.68557, Val Acc = 0.76736\n"
     ]
    },
    {
     "name": "stderr",
     "output_type": "stream",
     "text": [
      "Epoch 276/512: 100%|████████████████████████████████████████████████████████████████████| 906/906 [00:40<00:00, 22.60it/s]\n"
     ]
    },
    {
     "name": "stdout",
     "output_type": "stream",
     "text": [
      "Epoch 276/512: \n",
      "Train Loss = 0.48753, Train MSE = 0.81011, Train MAE = 0.69736, Train Acc = 0.75243\n",
      "Val Loss = 0.48008, Val MSE = 0.79124, Val MAE = 0.69124, Val Acc = 0.75991\n"
     ]
    },
    {
     "name": "stderr",
     "output_type": "stream",
     "text": [
      "Epoch 277/512: 100%|████████████████████████████████████████████████████████████████████| 906/906 [00:40<00:00, 22.57it/s]\n"
     ]
    },
    {
     "name": "stdout",
     "output_type": "stream",
     "text": [
      "Epoch 277/512: \n",
      "Train Loss = 0.48578, Train MSE = 0.80674, Train MAE = 0.69528, Train Acc = 0.75406\n",
      "Val Loss = 0.47702, Val MSE = 0.77955, Val MAE = 0.68750, Val Acc = 0.76612\n"
     ]
    },
    {
     "name": "stderr",
     "output_type": "stream",
     "text": [
      "Epoch 278/512: 100%|████████████████████████████████████████████████████████████████████| 906/906 [00:40<00:00, 22.57it/s]\n"
     ]
    },
    {
     "name": "stdout",
     "output_type": "stream",
     "text": [
      "Epoch 278/512: \n",
      "Train Loss = 0.48665, Train MSE = 0.80870, Train MAE = 0.69613, Train Acc = 0.75393\n",
      "Val Loss = 0.49499, Val MSE = 0.82168, Val MAE = 0.70701, Val Acc = 0.75397\n"
     ]
    },
    {
     "name": "stderr",
     "output_type": "stream",
     "text": [
      "Epoch 279/512: 100%|████████████████████████████████████████████████████████████████████| 906/906 [00:40<00:00, 22.53it/s]\n"
     ]
    },
    {
     "name": "stdout",
     "output_type": "stream",
     "text": [
      "Epoch 279/512: \n",
      "Train Loss = 0.48366, Train MSE = 0.80381, Train MAE = 0.69294, Train Acc = 0.75547\n",
      "Val Loss = 0.48911, Val MSE = 0.82667, Val MAE = 0.70031, Val Acc = 0.75811\n"
     ]
    },
    {
     "name": "stderr",
     "output_type": "stream",
     "text": [
      "Epoch 280/512: 100%|████████████████████████████████████████████████████████████████████| 906/906 [00:40<00:00, 22.55it/s]\n"
     ]
    },
    {
     "name": "stdout",
     "output_type": "stream",
     "text": [
      "Epoch 280/512: \n",
      "Train Loss = 0.48582, Train MSE = 0.80860, Train MAE = 0.69526, Train Acc = 0.75585\n",
      "Val Loss = 0.49548, Val MSE = 0.81794, Val MAE = 0.70676, Val Acc = 0.75148\n"
     ]
    },
    {
     "name": "stderr",
     "output_type": "stream",
     "text": [
      "Epoch 281/512: 100%|████████████████████████████████████████████████████████████████████| 906/906 [00:40<00:00, 22.51it/s]\n"
     ]
    },
    {
     "name": "stdout",
     "output_type": "stream",
     "text": [
      "Epoch 281/512: \n",
      "Train Loss = 0.48545, Train MSE = 0.80829, Train MAE = 0.69478, Train Acc = 0.75471\n",
      "Val Loss = 0.46859, Val MSE = 0.76695, Val MAE = 0.67774, Val Acc = 0.77109\n"
     ]
    },
    {
     "name": "stderr",
     "output_type": "stream",
     "text": [
      "Epoch 282/512: 100%|████████████████████████████████████████████████████████████████████| 906/906 [00:40<00:00, 22.57it/s]\n"
     ]
    },
    {
     "name": "stdout",
     "output_type": "stream",
     "text": [
      "Epoch 282/512: \n",
      "Train Loss = 0.48619, Train MSE = 0.81008, Train MAE = 0.69543, Train Acc = 0.75444\n",
      "Val Loss = 0.47281, Val MSE = 0.77162, Val MAE = 0.68263, Val Acc = 0.76419\n"
     ]
    },
    {
     "name": "stderr",
     "output_type": "stream",
     "text": [
      "Epoch 283/512: 100%|████████████████████████████████████████████████████████████████████| 906/906 [00:40<00:00, 22.56it/s]\n"
     ]
    },
    {
     "name": "stdout",
     "output_type": "stream",
     "text": [
      "Epoch 283/512: \n",
      "Train Loss = 0.48649, Train MSE = 0.81047, Train MAE = 0.69582, Train Acc = 0.75444\n",
      "Val Loss = 0.47493, Val MSE = 0.77633, Val MAE = 0.68534, Val Acc = 0.76764\n"
     ]
    },
    {
     "name": "stderr",
     "output_type": "stream",
     "text": [
      "Epoch 284/512: 100%|████████████████████████████████████████████████████████████████████| 906/906 [00:40<00:00, 22.51it/s]\n"
     ]
    },
    {
     "name": "stdout",
     "output_type": "stream",
     "text": [
      "Epoch 284/512: \n",
      "Train Loss = 0.48482, Train MSE = 0.80773, Train MAE = 0.69409, Train Acc = 0.75645\n",
      "Val Loss = 0.50607, Val MSE = 0.86562, Val MAE = 0.71807, Val Acc = 0.74872\n"
     ]
    },
    {
     "name": "stderr",
     "output_type": "stream",
     "text": [
      "Epoch 285/512: 100%|████████████████████████████████████████████████████████████████████| 906/906 [00:40<00:00, 22.51it/s]\n"
     ]
    },
    {
     "name": "stdout",
     "output_type": "stream",
     "text": [
      "Epoch 285/512: \n",
      "Train Loss = 0.48323, Train MSE = 0.80119, Train MAE = 0.69240, Train Acc = 0.75545\n",
      "Val Loss = 0.46904, Val MSE = 0.76333, Val MAE = 0.67856, Val Acc = 0.76722\n"
     ]
    },
    {
     "name": "stderr",
     "output_type": "stream",
     "text": [
      "Epoch 286/512: 100%|████████████████████████████████████████████████████████████████████| 906/906 [00:40<00:00, 22.58it/s]\n"
     ]
    },
    {
     "name": "stdout",
     "output_type": "stream",
     "text": [
      "Epoch 286/512: \n",
      "Train Loss = 0.48582, Train MSE = 0.80938, Train MAE = 0.69500, Train Acc = 0.75485\n",
      "Val Loss = 0.47738, Val MSE = 0.78437, Val MAE = 0.68733, Val Acc = 0.76543\n"
     ]
    },
    {
     "name": "stderr",
     "output_type": "stream",
     "text": [
      "Epoch 287/512: 100%|████████████████████████████████████████████████████████████████████| 906/906 [00:40<00:00, 22.58it/s]\n"
     ]
    },
    {
     "name": "stdout",
     "output_type": "stream",
     "text": [
      "Epoch 287/512: \n",
      "Train Loss = 0.48513, Train MSE = 0.80671, Train MAE = 0.69447, Train Acc = 0.75770\n",
      "Val Loss = 0.46953, Val MSE = 0.76640, Val MAE = 0.67883, Val Acc = 0.77150\n"
     ]
    },
    {
     "name": "stderr",
     "output_type": "stream",
     "text": [
      "Epoch 288/512: 100%|████████████████████████████████████████████████████████████████████| 906/906 [00:40<00:00, 22.55it/s]\n"
     ]
    },
    {
     "name": "stdout",
     "output_type": "stream",
     "text": [
      "Epoch 288/512: \n",
      "Train Loss = 0.48336, Train MSE = 0.80363, Train MAE = 0.69270, Train Acc = 0.75682\n",
      "Val Loss = 0.48335, Val MSE = 0.80721, Val MAE = 0.69352, Val Acc = 0.76142\n"
     ]
    },
    {
     "name": "stderr",
     "output_type": "stream",
     "text": [
      "Epoch 289/512: 100%|████████████████████████████████████████████████████████████████████| 906/906 [00:40<00:00, 22.57it/s]\n"
     ]
    },
    {
     "name": "stdout",
     "output_type": "stream",
     "text": [
      "Epoch 289/512: \n",
      "Train Loss = 0.48704, Train MSE = 0.81182, Train MAE = 0.69622, Train Acc = 0.75357\n",
      "Val Loss = 0.48795, Val MSE = 0.80534, Val MAE = 0.69939, Val Acc = 0.75507\n"
     ]
    },
    {
     "name": "stderr",
     "output_type": "stream",
     "text": [
      "Epoch 290/512: 100%|████████████████████████████████████████████████████████████████████| 906/906 [00:40<00:00, 22.49it/s]\n"
     ]
    },
    {
     "name": "stdout",
     "output_type": "stream",
     "text": [
      "Epoch 290/512: \n",
      "Train Loss = 0.48390, Train MSE = 0.80602, Train MAE = 0.69301, Train Acc = 0.75709\n",
      "Val Loss = 0.48914, Val MSE = 0.82323, Val MAE = 0.69988, Val Acc = 0.75784\n"
     ]
    },
    {
     "name": "stderr",
     "output_type": "stream",
     "text": [
      "Epoch 291/512: 100%|████████████████████████████████████████████████████████████████████| 906/906 [00:40<00:00, 22.53it/s]\n"
     ]
    },
    {
     "name": "stdout",
     "output_type": "stream",
     "text": [
      "Epoch 291/512: \n",
      "Train Loss = 0.48367, Train MSE = 0.80417, Train MAE = 0.69307, Train Acc = 0.75740\n",
      "Val Loss = 0.51404, Val MSE = 0.86899, Val MAE = 0.72665, Val Acc = 0.73864\n"
     ]
    },
    {
     "name": "stderr",
     "output_type": "stream",
     "text": [
      "Epoch 292/512: 100%|████████████████████████████████████████████████████████████████████| 906/906 [00:40<00:00, 22.54it/s]\n"
     ]
    },
    {
     "name": "stdout",
     "output_type": "stream",
     "text": [
      "Epoch 292/512: \n",
      "Train Loss = 0.48384, Train MSE = 0.80441, Train MAE = 0.69295, Train Acc = 0.75528\n",
      "Val Loss = 0.51216, Val MSE = 0.85908, Val MAE = 0.72416, Val Acc = 0.74154\n"
     ]
    },
    {
     "name": "stderr",
     "output_type": "stream",
     "text": [
      "Epoch 293/512: 100%|████████████████████████████████████████████████████████████████████| 906/906 [00:40<00:00, 22.62it/s]\n"
     ]
    },
    {
     "name": "stdout",
     "output_type": "stream",
     "text": [
      "Epoch 293/512: \n",
      "Train Loss = 0.48326, Train MSE = 0.80133, Train MAE = 0.69244, Train Acc = 0.75649\n",
      "Val Loss = 0.49108, Val MSE = 0.81659, Val MAE = 0.70157, Val Acc = 0.75604\n"
     ]
    },
    {
     "name": "stderr",
     "output_type": "stream",
     "text": [
      "Epoch 294/512: 100%|████████████████████████████████████████████████████████████████████| 906/906 [00:40<00:00, 22.52it/s]\n"
     ]
    },
    {
     "name": "stdout",
     "output_type": "stream",
     "text": [
      "Epoch 294/512: \n",
      "Train Loss = 0.48219, Train MSE = 0.80115, Train MAE = 0.69107, Train Acc = 0.75609\n",
      "Val Loss = 0.48232, Val MSE = 0.80365, Val MAE = 0.69202, Val Acc = 0.76198\n"
     ]
    },
    {
     "name": "stderr",
     "output_type": "stream",
     "text": [
      "Epoch 295/512: 100%|████████████████████████████████████████████████████████████████████| 906/906 [00:40<00:00, 22.58it/s]\n"
     ]
    },
    {
     "name": "stdout",
     "output_type": "stream",
     "text": [
      "Epoch 295/512: \n",
      "Train Loss = 0.48488, Train MSE = 0.80688, Train MAE = 0.69368, Train Acc = 0.75473\n",
      "Val Loss = 0.50234, Val MSE = 0.83256, Val MAE = 0.71411, Val Acc = 0.74638\n"
     ]
    },
    {
     "name": "stderr",
     "output_type": "stream",
     "text": [
      "Epoch 296/512: 100%|████████████████████████████████████████████████████████████████████| 906/906 [00:40<00:00, 22.56it/s]\n"
     ]
    },
    {
     "name": "stdout",
     "output_type": "stream",
     "text": [
      "Epoch 296/512: \n",
      "Train Loss = 0.48608, Train MSE = 0.80601, Train MAE = 0.69554, Train Acc = 0.75368\n",
      "Val Loss = 0.48460, Val MSE = 0.80440, Val MAE = 0.69561, Val Acc = 0.76004\n"
     ]
    },
    {
     "name": "stderr",
     "output_type": "stream",
     "text": [
      "Epoch 297/512: 100%|████████████████████████████████████████████████████████████████████| 906/906 [00:40<00:00, 22.53it/s]\n"
     ]
    },
    {
     "name": "stdout",
     "output_type": "stream",
     "text": [
      "Epoch 297/512: \n",
      "Train Loss = 0.48221, Train MSE = 0.80165, Train MAE = 0.69123, Train Acc = 0.75747\n",
      "Val Loss = 0.49184, Val MSE = 0.82423, Val MAE = 0.70258, Val Acc = 0.75590\n"
     ]
    },
    {
     "name": "stderr",
     "output_type": "stream",
     "text": [
      "Epoch 298/512: 100%|████████████████████████████████████████████████████████████████████| 906/906 [00:40<00:00, 22.55it/s]\n"
     ]
    },
    {
     "name": "stdout",
     "output_type": "stream",
     "text": [
      "Epoch 298/512: \n",
      "Train Loss = 0.48290, Train MSE = 0.79988, Train MAE = 0.69213, Train Acc = 0.75739\n",
      "Val Loss = 0.49975, Val MSE = 0.84297, Val MAE = 0.71110, Val Acc = 0.74734\n"
     ]
    },
    {
     "name": "stderr",
     "output_type": "stream",
     "text": [
      "Epoch 299/512:  35%|████████████████████████                                            | 321/906 [00:14<00:26, 22.48it/s]"
     ]
    }
   ],
   "source": [
    "import argparse\n",
    "\n",
    "training_args = argparse.Namespace(**args)\n",
    "train_model(training_args, device)"
   ]
  },
  {
   "cell_type": "code",
   "execution_count": null,
   "metadata": {},
   "outputs": [],
   "source": []
  }
 ],
 "metadata": {
  "kernelspec": {
   "display_name": "Python (myenv)",
   "language": "python",
   "name": "myenv"
  },
  "language_info": {
   "codemirror_mode": {
    "name": "ipython",
    "version": 3
   },
   "file_extension": ".py",
   "mimetype": "text/x-python",
   "name": "python",
   "nbconvert_exporter": "python",
   "pygments_lexer": "ipython3",
   "version": "3.12.7"
  }
 },
 "nbformat": 4,
 "nbformat_minor": 4
}
