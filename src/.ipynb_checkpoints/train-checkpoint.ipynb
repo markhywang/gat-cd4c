{
 "cells": [
  {
   "cell_type": "code",
   "execution_count": 1,
   "metadata": {},
   "outputs": [
    {
     "name": "stderr",
     "output_type": "stream",
     "text": [
      "/scratch/local3/2024/aguo/miniconda3/lib/python3.12/site-packages/tqdm/auto.py:21: TqdmWarning: IProgress not found. Please update jupyter and ipywidgets. See https://ipywidgets.readthedocs.io/en/stable/user_install.html\n",
      "  from .autonotebook import tqdm as notebook_tqdm\n"
     ]
    }
   ],
   "source": [
    "import torch\n",
    "\n",
    "# Local imports\n",
    "from train import train_model"
   ]
  },
  {
   "cell_type": "code",
   "execution_count": 2,
   "metadata": {},
   "outputs": [
    {
     "name": "stdout",
     "output_type": "stream",
     "text": [
      "Using device: cuda:0\n"
     ]
    }
   ],
   "source": [
    "if torch.backends.mps.is_available():\n",
    "    device = torch.device(\"mps\")\n",
    "elif torch.cuda.is_available():\n",
    "    device = torch.device(\"cuda:0\")\n",
    "else:\n",
    "    device = torch.device(\"cpu\")\n",
    "\n",
    "print(f\"Using device: {device}\")"
   ]
  },
  {
   "cell_type": "code",
   "execution_count": 3,
   "metadata": {},
   "outputs": [],
   "source": [
    "args = {\n",
    "    \"use_small_dataset\": True,\n",
    "    \"batch_size\": 24,\n",
    "    \"stoppage_epochs\": 32,\n",
    "    \"max_epochs\": 512,\n",
    "    \"seed\": 0,\n",
    "    \"data_path\": \"../data\",\n",
    "    \"protein_graph_dir\": \"../data/protein_graphs\",\n",
    "    \"frac_train\": 0.8,\n",
    "    \"frac_validation\": 0.1,\n",
    "    \"frac_test\": 0.1,\n",
    "    \"huber_beta\": 0.5,\n",
    "    \"weight_decay\": 1e-3,\n",
    "    \"lr\": 3e-4,\n",
    "    \"scheduler_patience\": 12,\n",
    "    \"scheduler_factor\": 0.5,\n",
    "    \"hidden_size\": 128,\n",
    "    \"emb_size\": 128,\n",
    "    \"num_layers\": 4,\n",
    "    \"num_attn_heads\": 8,\n",
    "    \"dropout\": 0.2,\n",
    "    \"pooling_dim\": 128,\n",
    "    \"mlp_hidden\": 128,\n",
    "    \"max_nodes\": 192, # Max number of amino acids\n",
    "}"
   ]
  },
  {
   "cell_type": "code",
   "execution_count": null,
   "metadata": {},
   "outputs": [
    {
     "name": "stdout",
     "output_type": "stream",
     "text": [
      "Model parameters: 678480\n"
     ]
    },
    {
     "name": "stderr",
     "output_type": "stream",
     "text": [
      "Epoch 1/512: 100%|████████████████████████████████████████████████████████████████████████████████████████████████████████████████████████████████████| 168/168 [01:44<00:00,  1.60it/s]\n"
     ]
    },
    {
     "name": "stdout",
     "output_type": "stream",
     "text": [
      "Epoch 1/512: Train Loss=1.37178, MSE=5.04681, MAE=1.60164, Acc=0.44746 | Val Loss=0.76765, MSE=1.42407, MAE=0.99478, Acc=0.53386\n"
     ]
    },
    {
     "name": "stderr",
     "output_type": "stream",
     "text": [
      "Epoch 2/512: 100%|████████████████████████████████████████████████████████████████████████████████████████████████████████████████████████████████████| 168/168 [00:40<00:00,  4.18it/s]\n"
     ]
    },
    {
     "name": "stdout",
     "output_type": "stream",
     "text": [
      "Epoch 2/512: Train Loss=0.83456, MSE=1.74605, MAE=1.06139, Acc=0.54532 | Val Loss=0.72150, MSE=1.37385, MAE=0.94295, Acc=0.57968\n"
     ]
    },
    {
     "name": "stderr",
     "output_type": "stream",
     "text": [
      "Epoch 3/512: 100%|████████████████████████████████████████████████████████████████████████████████████████████████████████████████████████████████████| 168/168 [00:39<00:00,  4.29it/s]\n"
     ]
    },
    {
     "name": "stdout",
     "output_type": "stream",
     "text": [
      "Epoch 3/512: Train Loss=0.79963, MSE=1.63060, MAE=1.02402, Acc=0.55428 | Val Loss=0.74391, MSE=1.39158, MAE=0.97052, Acc=0.56175\n"
     ]
    },
    {
     "name": "stderr",
     "output_type": "stream",
     "text": [
      "Epoch 4/512: 100%|████████████████████████████████████████████████████████████████████████████████████████████████████████████████████████████████████| 168/168 [00:40<00:00,  4.14it/s]\n"
     ]
    },
    {
     "name": "stdout",
     "output_type": "stream",
     "text": [
      "Epoch 4/512: Train Loss=0.78786, MSE=1.59316, MAE=1.01221, Acc=0.56399 | Val Loss=0.69838, MSE=1.26299, MAE=0.92168, Acc=0.60558\n"
     ]
    },
    {
     "name": "stderr",
     "output_type": "stream",
     "text": [
      "Epoch 5/512: 100%|████████████████████████████████████████████████████████████████████████████████████████████████████████████████████████████████████| 168/168 [00:39<00:00,  4.31it/s]\n"
     ]
    },
    {
     "name": "stdout",
     "output_type": "stream",
     "text": [
      "Epoch 5/512: Train Loss=0.78262, MSE=1.58442, MAE=1.00678, Acc=0.56848 | Val Loss=0.70851, MSE=1.31785, MAE=0.93096, Acc=0.59163\n"
     ]
    },
    {
     "name": "stderr",
     "output_type": "stream",
     "text": [
      "Epoch 6/512: 100%|████████████████████████████████████████████████████████████████████████████████████████████████████████████████████████████████████| 168/168 [00:40<00:00,  4.18it/s]\n"
     ]
    },
    {
     "name": "stdout",
     "output_type": "stream",
     "text": [
      "Epoch 6/512: Train Loss=0.77642, MSE=1.55474, MAE=1.00062, Acc=0.57819 | Val Loss=0.70547, MSE=1.27695, MAE=0.93260, Acc=0.59761\n"
     ]
    },
    {
     "name": "stderr",
     "output_type": "stream",
     "text": [
      "Epoch 7/512: 100%|████████████████████████████████████████████████████████████████████████████████████████████████████████████████████████████████████| 168/168 [00:40<00:00,  4.15it/s]\n"
     ]
    },
    {
     "name": "stdout",
     "output_type": "stream",
     "text": [
      "Epoch 7/512: Train Loss=0.75695, MSE=1.49828, MAE=0.98083, Acc=0.57495 | Val Loss=0.69643, MSE=1.23837, MAE=0.92128, Acc=0.60558\n"
     ]
    },
    {
     "name": "stderr",
     "output_type": "stream",
     "text": [
      "Epoch 8/512: 100%|████████████████████████████████████████████████████████████████████████████████████████████████████████████████████████████████████| 168/168 [00:39<00:00,  4.22it/s]\n"
     ]
    },
    {
     "name": "stdout",
     "output_type": "stream",
     "text": [
      "Epoch 8/512: Train Loss=0.75985, MSE=1.50824, MAE=0.98383, Acc=0.57943 | Val Loss=0.75647, MSE=1.49631, MAE=0.97736, Acc=0.58964\n"
     ]
    },
    {
     "name": "stderr",
     "output_type": "stream",
     "text": [
      "Epoch 9/512: 100%|████████████████████████████████████████████████████████████████████████████████████████████████████████████████████████████████████| 168/168 [00:39<00:00,  4.25it/s]\n"
     ]
    },
    {
     "name": "stdout",
     "output_type": "stream",
     "text": [
      "Epoch 9/512: Train Loss=0.76063, MSE=1.50806, MAE=0.98393, Acc=0.57968 | Val Loss=0.71322, MSE=1.29656, MAE=0.93827, Acc=0.57769\n"
     ]
    },
    {
     "name": "stderr",
     "output_type": "stream",
     "text": [
      "Epoch 10/512: 100%|███████████████████████████████████████████████████████████████████████████████████████████████████████████████████████████████████| 168/168 [00:39<00:00,  4.22it/s]\n"
     ]
    },
    {
     "name": "stdout",
     "output_type": "stream",
     "text": [
      "Epoch 10/512: Train Loss=0.73799, MSE=1.44113, MAE=0.96038, Acc=0.59238 | Val Loss=0.67112, MSE=1.17975, MAE=0.89360, Acc=0.60757\n"
     ]
    },
    {
     "name": "stderr",
     "output_type": "stream",
     "text": [
      "Epoch 11/512: 100%|███████████████████████████████████████████████████████████████████████████████████████████████████████████████████████████████████| 168/168 [00:40<00:00,  4.15it/s]\n"
     ]
    },
    {
     "name": "stdout",
     "output_type": "stream",
     "text": [
      "Epoch 11/512: Train Loss=0.75095, MSE=1.46248, MAE=0.97442, Acc=0.58192 | Val Loss=0.70851, MSE=1.27000, MAE=0.93235, Acc=0.59363\n"
     ]
    },
    {
     "name": "stderr",
     "output_type": "stream",
     "text": [
      "Epoch 12/512: 100%|███████████████████████████████████████████████████████████████████████████████████████████████████████████████████████████████████| 168/168 [00:39<00:00,  4.23it/s]\n"
     ]
    },
    {
     "name": "stdout",
     "output_type": "stream",
     "text": [
      "Epoch 12/512: Train Loss=0.74399, MSE=1.47032, MAE=0.96627, Acc=0.59387 | Val Loss=0.69641, MSE=1.25566, MAE=0.92027, Acc=0.59761\n"
     ]
    },
    {
     "name": "stderr",
     "output_type": "stream",
     "text": [
      "Epoch 13/512: 100%|███████████████████████████████████████████████████████████████████████████████████████████████████████████████████████████████████| 168/168 [00:39<00:00,  4.23it/s]\n"
     ]
    },
    {
     "name": "stdout",
     "output_type": "stream",
     "text": [
      "Epoch 13/512: Train Loss=0.73646, MSE=1.44411, MAE=0.95956, Acc=0.59861 | Val Loss=0.67208, MSE=1.17796, MAE=0.89414, Acc=0.61355\n"
     ]
    },
    {
     "name": "stderr",
     "output_type": "stream",
     "text": [
      "Epoch 14/512: 100%|███████████████████████████████████████████████████████████████████████████████████████████████████████████████████████████████████| 168/168 [00:39<00:00,  4.22it/s]\n"
     ]
    },
    {
     "name": "stdout",
     "output_type": "stream",
     "text": [
      "Epoch 14/512: Train Loss=0.72771, MSE=1.41433, MAE=0.95091, Acc=0.59761 | Val Loss=0.70106, MSE=1.25001, MAE=0.92714, Acc=0.59562\n"
     ]
    },
    {
     "name": "stderr",
     "output_type": "stream",
     "text": [
      "Epoch 15/512: 100%|███████████████████████████████████████████████████████████████████████████████████████████████████████████████████████████████████| 168/168 [00:39<00:00,  4.29it/s]\n"
     ]
    },
    {
     "name": "stdout",
     "output_type": "stream",
     "text": [
      "Epoch 15/512: Train Loss=0.71479, MSE=1.37618, MAE=0.93733, Acc=0.60558 | Val Loss=0.67597, MSE=1.21066, MAE=0.90086, Acc=0.60558\n"
     ]
    },
    {
     "name": "stderr",
     "output_type": "stream",
     "text": [
      "Epoch 16/512:  14%|██████████████████▊                                                                                                                 | 24/168 [00:07<00:26,  5.44it/s]"
     ]
    }
   ],
   "source": [
    "import argparse\n",
    "\n",
    "training_args = argparse.Namespace(**args)\n",
    "train_model(training_args, device)"
   ]
  },
  {
   "cell_type": "code",
   "execution_count": null,
   "metadata": {},
   "outputs": [],
   "source": []
  },
  {
   "cell_type": "code",
   "execution_count": null,
   "metadata": {},
   "outputs": [],
   "source": []
  }
 ],
 "metadata": {
  "kernelspec": {
   "display_name": "Python (myenv)",
   "language": "python",
   "name": "myenv"
  },
  "language_info": {
   "codemirror_mode": {
    "name": "ipython",
    "version": 3
   },
   "file_extension": ".py",
   "mimetype": "text/x-python",
   "name": "python",
   "nbconvert_exporter": "python",
   "pygments_lexer": "ipython3",
   "version": "3.12.7"
  }
 },
 "nbformat": 4,
 "nbformat_minor": 4
}
