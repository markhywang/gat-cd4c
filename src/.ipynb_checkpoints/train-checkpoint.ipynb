{
 "cells": [
  {
   "cell_type": "code",
   "execution_count": 1,
   "metadata": {},
   "outputs": [
    {
     "name": "stdout",
     "output_type": "stream",
     "text": [
      "Using device: cpu\n"
     ]
    }
   ],
   "source": [
    "import torch\n",
    "\n",
    "# Local imports\n",
    "from train import train_model"
   ]
  },
  {
   "cell_type": "code",
   "execution_count": 2,
   "metadata": {},
   "outputs": [
    {
     "name": "stdout",
     "output_type": "stream",
     "text": [
      "Using device: cuda:0\n"
     ]
    }
   ],
   "source": [
    "if torch.backends.mps.is_available():\n",
    "    device = torch.device(\"mps\")\n",
    "elif torch.cuda.is_available():\n",
    "    device = torch.device(\"cuda:0\")\n",
    "else:\n",
    "    device = torch.device(\"cpu\")\n",
    "\n",
    "print(f\"Using device: {device}\")"
   ]
  },
  {
   "cell_type": "code",
   "execution_count": 3,
   "metadata": {},
   "outputs": [],
   "source": [
    "args = {\n",
    "    \"use_small_dataset\": False,\n",
    "    \"batch_size\": 64,\n",
    "    \"stoppage_epochs\": 128,\n",
    "    \"max_epochs\": 512,\n",
    "    \"seed\": 42,\n",
    "    \"data_path\": \"../data\",\n",
    "    \"frac_train\": 0.8,\n",
    "    \"frac_validation\": 0.1,\n",
    "    \"frac_test\": 0.1,\n",
    "    \"huber_beta\": 1.0,\n",
    "    \"weight_decay\": 1e-4,\n",
    "    \"lr\": 3e-4,\n",
    "    \"scheduler_patience\": 10,\n",
    "    \"scheduler_factor\": 0.5,\n",
    "    \"hidden_size\": 96,\n",
    "    \"num_layers\": 7,\n",
    "    \"num_attn_heads\": 6,\n",
    "    \"dropout\": 0.22,\n",
    "    \"leaky_relu_slope\": 0.2,\n",
    "    \"pooling_dim\": 96,\n",
    "}"
   ]
  },
  {
   "cell_type": "code",
   "execution_count": 4,
   "metadata": {},
   "outputs": [
    {
     "name": "stdout",
     "output_type": "stream",
     "text": [
      "Model parameters: 174867\n"
     ]
    },
    {
     "name": "stderr",
     "output_type": "stream",
     "text": [
      "Epoch 1/512: 100%|████████████████████████████████████████████████████████████████████████████████████████████████████████████| 910/910 [02:38<00:00,  5.73it/s]\n"
     ]
    },
    {
     "name": "stdout",
     "output_type": "stream",
     "text": [
      "Epoch 1/512: Train Loss = 0.54652, Validation Loss = 0.51966, Train Accuracy = 0.60694, Validation Accuracy = 0.62387\n"
     ]
    },
    {
     "name": "stderr",
     "output_type": "stream",
     "text": [
      "Epoch 2/512: 100%|████████████████████████████████████████████████████████████████████████████████████████████████████████████| 910/910 [00:26<00:00, 34.01it/s]\n"
     ]
    },
    {
     "name": "stdout",
     "output_type": "stream",
     "text": [
      "Epoch 2/512: Train Loss = 0.51894, Validation Loss = 0.52291, Train Accuracy = 0.62948, Validation Accuracy = 0.61644\n"
     ]
    },
    {
     "name": "stderr",
     "output_type": "stream",
     "text": [
      "Epoch 3/512: 100%|████████████████████████████████████████████████████████████████████████████████████████████████████████████| 910/910 [00:27<00:00, 33.55it/s]\n"
     ]
    },
    {
     "name": "stdout",
     "output_type": "stream",
     "text": [
      "Epoch 3/512: Train Loss = 0.49827, Validation Loss = 0.49968, Train Accuracy = 0.64684, Validation Accuracy = 0.65384\n"
     ]
    },
    {
     "name": "stderr",
     "output_type": "stream",
     "text": [
      "Epoch 4/512: 100%|████████████████████████████████████████████████████████████████████████████████████████████████████████████| 910/910 [00:27<00:00, 33.38it/s]\n"
     ]
    },
    {
     "name": "stdout",
     "output_type": "stream",
     "text": [
      "Epoch 4/512: Train Loss = 0.48033, Validation Loss = 0.47766, Train Accuracy = 0.66468, Validation Accuracy = 0.67597\n"
     ]
    },
    {
     "name": "stderr",
     "output_type": "stream",
     "text": [
      "Epoch 5/512: 100%|████████████████████████████████████████████████████████████████████████████████████████████████████████████| 910/910 [00:27<00:00, 33.21it/s]\n"
     ]
    },
    {
     "name": "stdout",
     "output_type": "stream",
     "text": [
      "Epoch 5/512: Train Loss = 0.46684, Validation Loss = 0.45143, Train Accuracy = 0.67449, Validation Accuracy = 0.68284\n"
     ]
    },
    {
     "name": "stderr",
     "output_type": "stream",
     "text": [
      "Epoch 6/512: 100%|████████████████████████████████████████████████████████████████████████████████████████████████████████████| 910/910 [00:27<00:00, 33.46it/s]\n"
     ]
    },
    {
     "name": "stdout",
     "output_type": "stream",
     "text": [
      "Epoch 6/512: Train Loss = 0.45709, Validation Loss = 0.44227, Train Accuracy = 0.68118, Validation Accuracy = 0.68600\n"
     ]
    },
    {
     "name": "stderr",
     "output_type": "stream",
     "text": [
      "Epoch 7/512: 100%|████████████████████████████████████████████████████████████████████████████████████████████████████████████| 910/910 [00:27<00:00, 33.37it/s]\n"
     ]
    },
    {
     "name": "stdout",
     "output_type": "stream",
     "text": [
      "Epoch 7/512: Train Loss = 0.44725, Validation Loss = 0.43096, Train Accuracy = 0.68826, Validation Accuracy = 0.69453\n"
     ]
    },
    {
     "name": "stderr",
     "output_type": "stream",
     "text": [
      "Epoch 8/512: 100%|████████████████████████████████████████████████████████████████████████████████████████████████████████████| 910/910 [00:27<00:00, 33.37it/s]\n"
     ]
    },
    {
     "name": "stdout",
     "output_type": "stream",
     "text": [
      "Epoch 8/512: Train Loss = 0.44132, Validation Loss = 0.42065, Train Accuracy = 0.69276, Validation Accuracy = 0.69852\n"
     ]
    },
    {
     "name": "stderr",
     "output_type": "stream",
     "text": [
      "Epoch 9/512: 100%|████████████████████████████████████████████████████████████████████████████████████████████████████████████| 910/910 [00:27<00:00, 33.15it/s]\n"
     ]
    },
    {
     "name": "stdout",
     "output_type": "stream",
     "text": [
      "Epoch 9/512: Train Loss = 0.43612, Validation Loss = 0.41924, Train Accuracy = 0.69594, Validation Accuracy = 0.70250\n"
     ]
    },
    {
     "name": "stderr",
     "output_type": "stream",
     "text": [
      "Epoch 10/512: 100%|███████████████████████████████████████████████████████████████████████████████████████████████████████████| 910/910 [00:27<00:00, 33.19it/s]\n"
     ]
    },
    {
     "name": "stdout",
     "output_type": "stream",
     "text": [
      "Epoch 10/512: Train Loss = 0.42785, Validation Loss = 0.42610, Train Accuracy = 0.70176, Validation Accuracy = 0.69590\n"
     ]
    },
    {
     "name": "stderr",
     "output_type": "stream",
     "text": [
      "Epoch 11/512: 100%|███████████████████████████████████████████████████████████████████████████████████████████████████████████| 910/910 [00:27<00:00, 33.32it/s]\n"
     ]
    },
    {
     "name": "stdout",
     "output_type": "stream",
     "text": [
      "Epoch 11/512: Train Loss = 0.42366, Validation Loss = 0.43407, Train Accuracy = 0.70439, Validation Accuracy = 0.69714\n"
     ]
    },
    {
     "name": "stderr",
     "output_type": "stream",
     "text": [
      "Epoch 12/512: 100%|███████████████████████████████████████████████████████████████████████████████████████████████████████████| 910/910 [00:27<00:00, 33.35it/s]\n"
     ]
    },
    {
     "name": "stdout",
     "output_type": "stream",
     "text": [
      "Epoch 12/512: Train Loss = 0.41754, Validation Loss = 0.40521, Train Accuracy = 0.70714, Validation Accuracy = 0.70415\n"
     ]
    },
    {
     "name": "stderr",
     "output_type": "stream",
     "text": [
      "Epoch 13/512: 100%|███████████████████████████████████████████████████████████████████████████████████████████████████████████| 910/910 [00:27<00:00, 33.45it/s]\n"
     ]
    },
    {
     "name": "stdout",
     "output_type": "stream",
     "text": [
      "Epoch 13/512: Train Loss = 0.41425, Validation Loss = 0.39563, Train Accuracy = 0.70864, Validation Accuracy = 0.71295\n"
     ]
    },
    {
     "name": "stderr",
     "output_type": "stream",
     "text": [
      "Epoch 14/512: 100%|███████████████████████████████████████████████████████████████████████████████████████████████████████████| 910/910 [00:27<00:00, 33.31it/s]\n"
     ]
    },
    {
     "name": "stdout",
     "output_type": "stream",
     "text": [
      "Epoch 14/512: Train Loss = 0.40942, Validation Loss = 0.39686, Train Accuracy = 0.71357, Validation Accuracy = 0.71144\n"
     ]
    },
    {
     "name": "stderr",
     "output_type": "stream",
     "text": [
      "Epoch 15/512: 100%|███████████████████████████████████████████████████████████████████████████████████████████████████████████| 910/910 [00:27<00:00, 33.12it/s]\n"
     ]
    },
    {
     "name": "stdout",
     "output_type": "stream",
     "text": [
      "Epoch 15/512: Train Loss = 0.40671, Validation Loss = 0.40168, Train Accuracy = 0.71318, Validation Accuracy = 0.71048\n"
     ]
    },
    {
     "name": "stderr",
     "output_type": "stream",
     "text": [
      "Epoch 16/512: 100%|███████████████████████████████████████████████████████████████████████████████████████████████████████████| 910/910 [00:27<00:00, 33.22it/s]\n"
     ]
    },
    {
     "name": "stdout",
     "output_type": "stream",
     "text": [
      "Epoch 16/512: Train Loss = 0.40224, Validation Loss = 0.39276, Train Accuracy = 0.71764, Validation Accuracy = 0.72202\n"
     ]
    },
    {
     "name": "stderr",
     "output_type": "stream",
     "text": [
      "Epoch 17/512: 100%|███████████████████████████████████████████████████████████████████████████████████████████████████████████| 910/910 [00:27<00:00, 33.17it/s]\n"
     ]
    },
    {
     "name": "stdout",
     "output_type": "stream",
     "text": [
      "Epoch 17/512: Train Loss = 0.40019, Validation Loss = 0.40503, Train Accuracy = 0.71902, Validation Accuracy = 0.71034\n"
     ]
    },
    {
     "name": "stderr",
     "output_type": "stream",
     "text": [
      "Epoch 18/512: 100%|███████████████████████████████████████████████████████████████████████████████████████████████████████████| 910/910 [00:27<00:00, 33.09it/s]\n"
     ]
    },
    {
     "name": "stdout",
     "output_type": "stream",
     "text": [
      "Epoch 18/512: Train Loss = 0.39689, Validation Loss = 0.39044, Train Accuracy = 0.71971, Validation Accuracy = 0.71831\n"
     ]
    },
    {
     "name": "stderr",
     "output_type": "stream",
     "text": [
      "Epoch 19/512: 100%|███████████████████████████████████████████████████████████████████████████████████████████████████████████| 910/910 [00:27<00:00, 33.12it/s]\n"
     ]
    },
    {
     "name": "stdout",
     "output_type": "stream",
     "text": [
      "Epoch 19/512: Train Loss = 0.39498, Validation Loss = 0.39625, Train Accuracy = 0.72167, Validation Accuracy = 0.72601\n"
     ]
    },
    {
     "name": "stderr",
     "output_type": "stream",
     "text": [
      "Epoch 20/512: 100%|███████████████████████████████████████████████████████████████████████████████████████████████████████████| 910/910 [00:27<00:00, 33.21it/s]\n"
     ]
    },
    {
     "name": "stdout",
     "output_type": "stream",
     "text": [
      "Epoch 20/512: Train Loss = 0.39227, Validation Loss = 0.38670, Train Accuracy = 0.72345, Validation Accuracy = 0.72766\n"
     ]
    },
    {
     "name": "stderr",
     "output_type": "stream",
     "text": [
      "Epoch 21/512: 100%|███████████████████████████████████████████████████████████████████████████████████████████████████████████| 910/910 [00:27<00:00, 33.24it/s]\n"
     ]
    },
    {
     "name": "stdout",
     "output_type": "stream",
     "text": [
      "Epoch 21/512: Train Loss = 0.38792, Validation Loss = 0.39580, Train Accuracy = 0.72596, Validation Accuracy = 0.72065\n"
     ]
    },
    {
     "name": "stderr",
     "output_type": "stream",
     "text": [
      "Epoch 22/512: 100%|███████████████████████████████████████████████████████████████████████████████████████████████████████████| 910/910 [00:27<00:00, 33.14it/s]\n"
     ]
    },
    {
     "name": "stdout",
     "output_type": "stream",
     "text": [
      "Epoch 22/512: Train Loss = 0.38558, Validation Loss = 0.38197, Train Accuracy = 0.72789, Validation Accuracy = 0.72436\n"
     ]
    },
    {
     "name": "stderr",
     "output_type": "stream",
     "text": [
      "Epoch 23/512: 100%|███████████████████████████████████████████████████████████████████████████████████████████████████████████| 910/910 [00:27<00:00, 33.29it/s]\n"
     ]
    },
    {
     "name": "stdout",
     "output_type": "stream",
     "text": [
      "Epoch 23/512: Train Loss = 0.38493, Validation Loss = 0.38549, Train Accuracy = 0.72737, Validation Accuracy = 0.73068\n"
     ]
    },
    {
     "name": "stderr",
     "output_type": "stream",
     "text": [
      "Epoch 24/512: 100%|███████████████████████████████████████████████████████████████████████████████████████████████████████████| 910/910 [00:27<00:00, 33.15it/s]\n"
     ]
    },
    {
     "name": "stdout",
     "output_type": "stream",
     "text": [
      "Epoch 24/512: Train Loss = 0.38197, Validation Loss = 0.39288, Train Accuracy = 0.73017, Validation Accuracy = 0.71831\n"
     ]
    },
    {
     "name": "stderr",
     "output_type": "stream",
     "text": [
      "Epoch 25/512: 100%|███████████████████████████████████████████████████████████████████████████████████████████████████████████| 910/910 [00:27<00:00, 33.33it/s]\n"
     ]
    },
    {
     "name": "stdout",
     "output_type": "stream",
     "text": [
      "Epoch 25/512: Train Loss = 0.37905, Validation Loss = 0.37311, Train Accuracy = 0.73187, Validation Accuracy = 0.73247\n"
     ]
    },
    {
     "name": "stderr",
     "output_type": "stream",
     "text": [
      "Epoch 26/512: 100%|███████████████████████████████████████████████████████████████████████████████████████████████████████████| 910/910 [00:27<00:00, 33.46it/s]\n"
     ]
    },
    {
     "name": "stdout",
     "output_type": "stream",
     "text": [
      "Epoch 26/512: Train Loss = 0.37710, Validation Loss = 0.36681, Train Accuracy = 0.73217, Validation Accuracy = 0.73935\n"
     ]
    },
    {
     "name": "stderr",
     "output_type": "stream",
     "text": [
      "Epoch 27/512: 100%|███████████████████████████████████████████████████████████████████████████████████████████████████████████| 910/910 [00:27<00:00, 33.14it/s]\n"
     ]
    },
    {
     "name": "stdout",
     "output_type": "stream",
     "text": [
      "Epoch 27/512: Train Loss = 0.37444, Validation Loss = 0.38420, Train Accuracy = 0.73517, Validation Accuracy = 0.73330\n"
     ]
    },
    {
     "name": "stderr",
     "output_type": "stream",
     "text": [
      "Epoch 28/512: 100%|███████████████████████████████████████████████████████████████████████████████████████████████████████████| 910/910 [00:27<00:00, 33.24it/s]\n"
     ]
    },
    {
     "name": "stdout",
     "output_type": "stream",
     "text": [
      "Epoch 28/512: Train Loss = 0.37307, Validation Loss = 0.36615, Train Accuracy = 0.73658, Validation Accuracy = 0.73660\n"
     ]
    },
    {
     "name": "stderr",
     "output_type": "stream",
     "text": [
      "Epoch 29/512: 100%|███████████████████████████████████████████████████████████████████████████████████████████████████████████| 910/910 [00:27<00:00, 33.14it/s]\n"
     ]
    },
    {
     "name": "stdout",
     "output_type": "stream",
     "text": [
      "Epoch 29/512: Train Loss = 0.36982, Validation Loss = 0.36945, Train Accuracy = 0.73925, Validation Accuracy = 0.74457\n"
     ]
    },
    {
     "name": "stderr",
     "output_type": "stream",
     "text": [
      "Epoch 30/512: 100%|███████████████████████████████████████████████████████████████████████████████████████████████████████████| 910/910 [00:27<00:00, 33.08it/s]\n"
     ]
    },
    {
     "name": "stdout",
     "output_type": "stream",
     "text": [
      "Epoch 30/512: Train Loss = 0.36993, Validation Loss = 0.36574, Train Accuracy = 0.73749, Validation Accuracy = 0.73632\n"
     ]
    },
    {
     "name": "stderr",
     "output_type": "stream",
     "text": [
      "Epoch 31/512: 100%|███████████████████████████████████████████████████████████████████████████████████████████████████████████| 910/910 [00:27<00:00, 33.29it/s]\n"
     ]
    },
    {
     "name": "stdout",
     "output_type": "stream",
     "text": [
      "Epoch 31/512: Train Loss = 0.36702, Validation Loss = 0.38288, Train Accuracy = 0.74133, Validation Accuracy = 0.73398\n"
     ]
    },
    {
     "name": "stderr",
     "output_type": "stream",
     "text": [
      "Epoch 32/512: 100%|███████████████████████████████████████████████████████████████████████████████████████████████████████████| 910/910 [00:27<00:00, 33.08it/s]\n"
     ]
    },
    {
     "name": "stdout",
     "output_type": "stream",
     "text": [
      "Epoch 32/512: Train Loss = 0.36438, Validation Loss = 0.37672, Train Accuracy = 0.74182, Validation Accuracy = 0.73550\n"
     ]
    },
    {
     "name": "stderr",
     "output_type": "stream",
     "text": [
      "Epoch 33/512: 100%|███████████████████████████████████████████████████████████████████████████████████████████████████████████| 910/910 [00:27<00:00, 33.02it/s]\n"
     ]
    },
    {
     "name": "stdout",
     "output_type": "stream",
     "text": [
      "Epoch 33/512: Train Loss = 0.36264, Validation Loss = 0.35326, Train Accuracy = 0.74294, Validation Accuracy = 0.74773\n"
     ]
    },
    {
     "name": "stderr",
     "output_type": "stream",
     "text": [
      "Epoch 34/512: 100%|███████████████████████████████████████████████████████████████████████████████████████████████████████████| 910/910 [00:27<00:00, 33.10it/s]\n"
     ]
    },
    {
     "name": "stdout",
     "output_type": "stream",
     "text": [
      "Epoch 34/512: Train Loss = 0.35862, Validation Loss = 0.36412, Train Accuracy = 0.74478, Validation Accuracy = 0.74594\n"
     ]
    },
    {
     "name": "stderr",
     "output_type": "stream",
     "text": [
      "Epoch 35/512: 100%|███████████████████████████████████████████████████████████████████████████████████████████████████████████| 910/910 [00:27<00:00, 33.21it/s]\n"
     ]
    },
    {
     "name": "stdout",
     "output_type": "stream",
     "text": [
      "Epoch 35/512: Train Loss = 0.35965, Validation Loss = 0.35368, Train Accuracy = 0.74365, Validation Accuracy = 0.74883\n"
     ]
    },
    {
     "name": "stderr",
     "output_type": "stream",
     "text": [
      "Epoch 36/512: 100%|███████████████████████████████████████████████████████████████████████████████████████████████████████████| 910/910 [00:27<00:00, 33.31it/s]\n"
     ]
    },
    {
     "name": "stdout",
     "output_type": "stream",
     "text": [
      "Epoch 36/512: Train Loss = 0.35665, Validation Loss = 0.35240, Train Accuracy = 0.74703, Validation Accuracy = 0.75062\n"
     ]
    },
    {
     "name": "stderr",
     "output_type": "stream",
     "text": [
      "Epoch 37/512: 100%|███████████████████████████████████████████████████████████████████████████████████████████████████████████| 910/910 [00:27<00:00, 33.04it/s]\n"
     ]
    },
    {
     "name": "stdout",
     "output_type": "stream",
     "text": [
      "Epoch 37/512: Train Loss = 0.35500, Validation Loss = 0.35791, Train Accuracy = 0.74805, Validation Accuracy = 0.74512\n"
     ]
    },
    {
     "name": "stderr",
     "output_type": "stream",
     "text": [
      "Epoch 38/512: 100%|███████████████████████████████████████████████████████████████████████████████████████████████████████████| 910/910 [00:27<00:00, 33.21it/s]\n"
     ]
    },
    {
     "name": "stdout",
     "output_type": "stream",
     "text": [
      "Epoch 38/512: Train Loss = 0.35344, Validation Loss = 0.34889, Train Accuracy = 0.74825, Validation Accuracy = 0.74911\n"
     ]
    },
    {
     "name": "stderr",
     "output_type": "stream",
     "text": [
      "Epoch 39/512: 100%|███████████████████████████████████████████████████████████████████████████████████████████████████████████| 910/910 [00:27<00:00, 33.09it/s]\n"
     ]
    },
    {
     "name": "stdout",
     "output_type": "stream",
     "text": [
      "Epoch 39/512: Train Loss = 0.35235, Validation Loss = 0.34719, Train Accuracy = 0.74944, Validation Accuracy = 0.75502\n"
     ]
    },
    {
     "name": "stderr",
     "output_type": "stream",
     "text": [
      "Epoch 40/512: 100%|███████████████████████████████████████████████████████████████████████████████████████████████████████████| 910/910 [00:27<00:00, 33.35it/s]\n"
     ]
    },
    {
     "name": "stdout",
     "output_type": "stream",
     "text": [
      "Epoch 40/512: Train Loss = 0.35066, Validation Loss = 0.35244, Train Accuracy = 0.75085, Validation Accuracy = 0.75241\n"
     ]
    },
    {
     "name": "stderr",
     "output_type": "stream",
     "text": [
      "Epoch 41/512: 100%|███████████████████████████████████████████████████████████████████████████████████████████████████████████| 910/910 [00:27<00:00, 33.17it/s]\n"
     ]
    },
    {
     "name": "stdout",
     "output_type": "stream",
     "text": [
      "Epoch 41/512: Train Loss = 0.34875, Validation Loss = 0.34677, Train Accuracy = 0.75174, Validation Accuracy = 0.75763\n"
     ]
    },
    {
     "name": "stderr",
     "output_type": "stream",
     "text": [
      "Epoch 42/512: 100%|███████████████████████████████████████████████████████████████████████████████████████████████████████████| 910/910 [00:27<00:00, 33.02it/s]\n"
     ]
    },
    {
     "name": "stdout",
     "output_type": "stream",
     "text": [
      "Epoch 42/512: Train Loss = 0.34687, Validation Loss = 0.34520, Train Accuracy = 0.75148, Validation Accuracy = 0.75735\n"
     ]
    },
    {
     "name": "stderr",
     "output_type": "stream",
     "text": [
      "Epoch 43/512: 100%|███████████████████████████████████████████████████████████████████████████████████████████████████████████| 910/910 [00:27<00:00, 33.03it/s]\n"
     ]
    },
    {
     "name": "stdout",
     "output_type": "stream",
     "text": [
      "Epoch 43/512: Train Loss = 0.34601, Validation Loss = 0.33546, Train Accuracy = 0.75232, Validation Accuracy = 0.76340\n"
     ]
    },
    {
     "name": "stderr",
     "output_type": "stream",
     "text": [
      "Epoch 44/512: 100%|███████████████████████████████████████████████████████████████████████████████████████████████████████████| 910/910 [00:27<00:00, 33.09it/s]\n"
     ]
    },
    {
     "name": "stdout",
     "output_type": "stream",
     "text": [
      "Epoch 44/512: Train Loss = 0.34474, Validation Loss = 0.34126, Train Accuracy = 0.75459, Validation Accuracy = 0.76327\n"
     ]
    },
    {
     "name": "stderr",
     "output_type": "stream",
     "text": [
      "Epoch 45/512: 100%|███████████████████████████████████████████████████████████████████████████████████████████████████████████| 910/910 [00:27<00:00, 33.34it/s]\n"
     ]
    },
    {
     "name": "stdout",
     "output_type": "stream",
     "text": [
      "Epoch 45/512: Train Loss = 0.34379, Validation Loss = 0.35129, Train Accuracy = 0.75332, Validation Accuracy = 0.75722\n"
     ]
    },
    {
     "name": "stderr",
     "output_type": "stream",
     "text": [
      "Epoch 46/512: 100%|███████████████████████████████████████████████████████████████████████████████████████████████████████████| 910/910 [00:27<00:00, 33.26it/s]\n"
     ]
    },
    {
     "name": "stdout",
     "output_type": "stream",
     "text": [
      "Epoch 46/512: Train Loss = 0.34107, Validation Loss = 0.34471, Train Accuracy = 0.75626, Validation Accuracy = 0.75406\n"
     ]
    },
    {
     "name": "stderr",
     "output_type": "stream",
     "text": [
      "Epoch 47/512: 100%|███████████████████████████████████████████████████████████████████████████████████████████████████████████| 910/910 [00:27<00:00, 33.29it/s]\n"
     ]
    },
    {
     "name": "stdout",
     "output_type": "stream",
     "text": [
      "Epoch 47/512: Train Loss = 0.34270, Validation Loss = 0.34652, Train Accuracy = 0.75666, Validation Accuracy = 0.76162\n"
     ]
    },
    {
     "name": "stderr",
     "output_type": "stream",
     "text": [
      "Epoch 48/512: 100%|███████████████████████████████████████████████████████████████████████████████████████████████████████████| 910/910 [00:27<00:00, 33.01it/s]\n"
     ]
    },
    {
     "name": "stdout",
     "output_type": "stream",
     "text": [
      "Epoch 48/512: Train Loss = 0.34121, Validation Loss = 0.33924, Train Accuracy = 0.75655, Validation Accuracy = 0.75942\n"
     ]
    },
    {
     "name": "stderr",
     "output_type": "stream",
     "text": [
      "Epoch 49/512: 100%|███████████████████████████████████████████████████████████████████████████████████████████████████████████| 910/910 [00:27<00:00, 32.92it/s]\n"
     ]
    },
    {
     "name": "stdout",
     "output_type": "stream",
     "text": [
      "Epoch 49/512: Train Loss = 0.33810, Validation Loss = 0.34168, Train Accuracy = 0.75705, Validation Accuracy = 0.76065\n"
     ]
    },
    {
     "name": "stderr",
     "output_type": "stream",
     "text": [
      "Epoch 50/512: 100%|███████████████████████████████████████████████████████████████████████████████████████████████████████████| 910/910 [00:27<00:00, 33.12it/s]\n"
     ]
    },
    {
     "name": "stdout",
     "output_type": "stream",
     "text": [
      "Epoch 50/512: Train Loss = 0.33586, Validation Loss = 0.33594, Train Accuracy = 0.75910, Validation Accuracy = 0.75777\n"
     ]
    },
    {
     "name": "stderr",
     "output_type": "stream",
     "text": [
      "Epoch 51/512: 100%|███████████████████████████████████████████████████████████████████████████████████████████████████████████| 910/910 [00:27<00:00, 32.90it/s]\n"
     ]
    },
    {
     "name": "stdout",
     "output_type": "stream",
     "text": [
      "Epoch 51/512: Train Loss = 0.33605, Validation Loss = 0.33158, Train Accuracy = 0.75954, Validation Accuracy = 0.76038\n"
     ]
    },
    {
     "name": "stderr",
     "output_type": "stream",
     "text": [
      "Epoch 52/512: 100%|███████████████████████████████████████████████████████████████████████████████████████████████████████████| 910/910 [00:27<00:00, 33.23it/s]\n"
     ]
    },
    {
     "name": "stdout",
     "output_type": "stream",
     "text": [
      "Epoch 52/512: Train Loss = 0.33496, Validation Loss = 0.33604, Train Accuracy = 0.75923, Validation Accuracy = 0.76203\n"
     ]
    },
    {
     "name": "stderr",
     "output_type": "stream",
     "text": [
      "Epoch 53/512: 100%|███████████████████████████████████████████████████████████████████████████████████████████████████████████| 910/910 [00:27<00:00, 33.19it/s]\n"
     ]
    },
    {
     "name": "stdout",
     "output_type": "stream",
     "text": [
      "Epoch 53/512: Train Loss = 0.33404, Validation Loss = 0.33302, Train Accuracy = 0.76021, Validation Accuracy = 0.76272\n"
     ]
    },
    {
     "name": "stderr",
     "output_type": "stream",
     "text": [
      "Epoch 54/512: 100%|███████████████████████████████████████████████████████████████████████████████████████████████████████████| 910/910 [00:27<00:00, 33.06it/s]\n"
     ]
    },
    {
     "name": "stdout",
     "output_type": "stream",
     "text": [
      "Epoch 54/512: Train Loss = 0.33236, Validation Loss = 0.33097, Train Accuracy = 0.76116, Validation Accuracy = 0.76849\n"
     ]
    },
    {
     "name": "stderr",
     "output_type": "stream",
     "text": [
      "Epoch 55/512: 100%|███████████████████████████████████████████████████████████████████████████████████████████████████████████| 910/910 [00:27<00:00, 33.03it/s]\n"
     ]
    },
    {
     "name": "stdout",
     "output_type": "stream",
     "text": [
      "Epoch 55/512: Train Loss = 0.33201, Validation Loss = 0.34193, Train Accuracy = 0.76243, Validation Accuracy = 0.76079\n"
     ]
    },
    {
     "name": "stderr",
     "output_type": "stream",
     "text": [
      "Epoch 56/512: 100%|███████████████████████████████████████████████████████████████████████████████████████████████████████████| 910/910 [00:27<00:00, 33.27it/s]\n"
     ]
    },
    {
     "name": "stdout",
     "output_type": "stream",
     "text": [
      "Epoch 56/512: Train Loss = 0.33167, Validation Loss = 0.34103, Train Accuracy = 0.76136, Validation Accuracy = 0.76010\n"
     ]
    },
    {
     "name": "stderr",
     "output_type": "stream",
     "text": [
      "Epoch 57/512: 100%|███████████████████████████████████████████████████████████████████████████████████████████████████████████| 910/910 [00:27<00:00, 33.21it/s]\n"
     ]
    },
    {
     "name": "stdout",
     "output_type": "stream",
     "text": [
      "Epoch 57/512: Train Loss = 0.32842, Validation Loss = 0.33006, Train Accuracy = 0.76439, Validation Accuracy = 0.76327\n"
     ]
    },
    {
     "name": "stderr",
     "output_type": "stream",
     "text": [
      "Epoch 58/512: 100%|███████████████████████████████████████████████████████████████████████████████████████████████████████████| 910/910 [00:27<00:00, 33.19it/s]\n"
     ]
    },
    {
     "name": "stdout",
     "output_type": "stream",
     "text": [
      "Epoch 58/512: Train Loss = 0.32844, Validation Loss = 0.33215, Train Accuracy = 0.76355, Validation Accuracy = 0.76932\n"
     ]
    },
    {
     "name": "stderr",
     "output_type": "stream",
     "text": [
      "Epoch 59/512: 100%|███████████████████████████████████████████████████████████████████████████████████████████████████████████| 910/910 [00:27<00:00, 33.37it/s]\n"
     ]
    },
    {
     "name": "stdout",
     "output_type": "stream",
     "text": [
      "Epoch 59/512: Train Loss = 0.32706, Validation Loss = 0.33476, Train Accuracy = 0.76355, Validation Accuracy = 0.76107\n"
     ]
    },
    {
     "name": "stderr",
     "output_type": "stream",
     "text": [
      "Epoch 60/512: 100%|███████████████████████████████████████████████████████████████████████████████████████████████████████████| 910/910 [00:27<00:00, 33.10it/s]\n"
     ]
    },
    {
     "name": "stdout",
     "output_type": "stream",
     "text": [
      "Epoch 60/512: Train Loss = 0.32573, Validation Loss = 0.33528, Train Accuracy = 0.76435, Validation Accuracy = 0.76698\n"
     ]
    },
    {
     "name": "stderr",
     "output_type": "stream",
     "text": [
      "Epoch 61/512: 100%|███████████████████████████████████████████████████████████████████████████████████████████████████████████| 910/910 [00:27<00:00, 32.99it/s]\n"
     ]
    },
    {
     "name": "stdout",
     "output_type": "stream",
     "text": [
      "Epoch 61/512: Train Loss = 0.32468, Validation Loss = 0.32963, Train Accuracy = 0.76731, Validation Accuracy = 0.77179\n"
     ]
    },
    {
     "name": "stderr",
     "output_type": "stream",
     "text": [
      "Epoch 62/512: 100%|███████████████████████████████████████████████████████████████████████████████████████████████████████████| 910/910 [00:27<00:00, 33.53it/s]\n"
     ]
    },
    {
     "name": "stdout",
     "output_type": "stream",
     "text": [
      "Epoch 62/512: Train Loss = 0.32351, Validation Loss = 0.31815, Train Accuracy = 0.76539, Validation Accuracy = 0.77124\n"
     ]
    },
    {
     "name": "stderr",
     "output_type": "stream",
     "text": [
      "Epoch 63/512: 100%|███████████████████████████████████████████████████████████████████████████████████████████████████████████| 910/910 [00:27<00:00, 33.24it/s]\n"
     ]
    },
    {
     "name": "stdout",
     "output_type": "stream",
     "text": [
      "Epoch 63/512: Train Loss = 0.32436, Validation Loss = 0.34252, Train Accuracy = 0.76470, Validation Accuracy = 0.75708\n"
     ]
    },
    {
     "name": "stderr",
     "output_type": "stream",
     "text": [
      "Epoch 64/512: 100%|███████████████████████████████████████████████████████████████████████████████████████████████████████████| 910/910 [00:27<00:00, 33.30it/s]\n"
     ]
    },
    {
     "name": "stdout",
     "output_type": "stream",
     "text": [
      "Epoch 64/512: Train Loss = 0.32314, Validation Loss = 0.32856, Train Accuracy = 0.76571, Validation Accuracy = 0.76725\n"
     ]
    },
    {
     "name": "stderr",
     "output_type": "stream",
     "text": [
      "Epoch 65/512: 100%|███████████████████████████████████████████████████████████████████████████████████████████████████████████| 910/910 [00:27<00:00, 33.29it/s]\n"
     ]
    },
    {
     "name": "stdout",
     "output_type": "stream",
     "text": [
      "Epoch 65/512: Train Loss = 0.32023, Validation Loss = 0.33800, Train Accuracy = 0.76611, Validation Accuracy = 0.76698\n"
     ]
    },
    {
     "name": "stderr",
     "output_type": "stream",
     "text": [
      "Epoch 66/512: 100%|███████████████████████████████████████████████████████████████████████████████████████████████████████████| 910/910 [00:27<00:00, 33.24it/s]\n"
     ]
    },
    {
     "name": "stdout",
     "output_type": "stream",
     "text": [
      "Epoch 66/512: Train Loss = 0.32025, Validation Loss = 0.32545, Train Accuracy = 0.76810, Validation Accuracy = 0.77358\n"
     ]
    },
    {
     "name": "stderr",
     "output_type": "stream",
     "text": [
      "Epoch 67/512: 100%|███████████████████████████████████████████████████████████████████████████████████████████████████████████| 910/910 [00:27<00:00, 33.23it/s]\n"
     ]
    },
    {
     "name": "stdout",
     "output_type": "stream",
     "text": [
      "Epoch 67/512: Train Loss = 0.31885, Validation Loss = 0.31973, Train Accuracy = 0.76726, Validation Accuracy = 0.77193\n"
     ]
    },
    {
     "name": "stderr",
     "output_type": "stream",
     "text": [
      "Epoch 68/512: 100%|███████████████████████████████████████████████████████████████████████████████████████████████████████████| 910/910 [00:27<00:00, 33.33it/s]\n"
     ]
    },
    {
     "name": "stdout",
     "output_type": "stream",
     "text": [
      "Epoch 68/512: Train Loss = 0.31951, Validation Loss = 0.32688, Train Accuracy = 0.76850, Validation Accuracy = 0.77385\n"
     ]
    },
    {
     "name": "stderr",
     "output_type": "stream",
     "text": [
      "Epoch 69/512: 100%|███████████████████████████████████████████████████████████████████████████████████████████████████████████| 910/910 [00:27<00:00, 33.24it/s]\n"
     ]
    },
    {
     "name": "stdout",
     "output_type": "stream",
     "text": [
      "Epoch 69/512: Train Loss = 0.31762, Validation Loss = 0.31640, Train Accuracy = 0.76848, Validation Accuracy = 0.77083\n"
     ]
    },
    {
     "name": "stderr",
     "output_type": "stream",
     "text": [
      "Epoch 70/512: 100%|███████████████████████████████████████████████████████████████████████████████████████████████████████████| 910/910 [00:27<00:00, 33.26it/s]\n"
     ]
    },
    {
     "name": "stdout",
     "output_type": "stream",
     "text": [
      "Epoch 70/512: Train Loss = 0.31614, Validation Loss = 0.33065, Train Accuracy = 0.76975, Validation Accuracy = 0.77055\n"
     ]
    },
    {
     "name": "stderr",
     "output_type": "stream",
     "text": [
      "Epoch 71/512: 100%|███████████████████████████████████████████████████████████████████████████████████████████████████████████| 910/910 [00:27<00:00, 33.54it/s]\n"
     ]
    },
    {
     "name": "stdout",
     "output_type": "stream",
     "text": [
      "Epoch 71/512: Train Loss = 0.31720, Validation Loss = 0.32528, Train Accuracy = 0.77087, Validation Accuracy = 0.77069\n"
     ]
    },
    {
     "name": "stderr",
     "output_type": "stream",
     "text": [
      "Epoch 72/512: 100%|███████████████████████████████████████████████████████████████████████████████████████████████████████████| 910/910 [00:27<00:00, 33.03it/s]\n"
     ]
    },
    {
     "name": "stdout",
     "output_type": "stream",
     "text": [
      "Epoch 72/512: Train Loss = 0.31516, Validation Loss = 0.33305, Train Accuracy = 0.76978, Validation Accuracy = 0.76890\n"
     ]
    },
    {
     "name": "stderr",
     "output_type": "stream",
     "text": [
      "Epoch 73/512: 100%|███████████████████████████████████████████████████████████████████████████████████████████████████████████| 910/910 [00:27<00:00, 32.92it/s]\n"
     ]
    },
    {
     "name": "stdout",
     "output_type": "stream",
     "text": [
      "Epoch 73/512: Train Loss = 0.31499, Validation Loss = 0.32437, Train Accuracy = 0.77040, Validation Accuracy = 0.77440\n"
     ]
    },
    {
     "name": "stderr",
     "output_type": "stream",
     "text": [
      "Epoch 74/512: 100%|███████████████████████████████████████████████████████████████████████████████████████████████████████████| 910/910 [00:27<00:00, 33.31it/s]\n"
     ]
    },
    {
     "name": "stdout",
     "output_type": "stream",
     "text": [
      "Epoch 74/512: Train Loss = 0.31437, Validation Loss = 0.33012, Train Accuracy = 0.77303, Validation Accuracy = 0.76258\n"
     ]
    },
    {
     "name": "stderr",
     "output_type": "stream",
     "text": [
      "Epoch 75/512: 100%|███████████████████████████████████████████████████████████████████████████████████████████████████████████| 910/910 [00:27<00:00, 33.36it/s]\n"
     ]
    },
    {
     "name": "stdout",
     "output_type": "stream",
     "text": [
      "Epoch 75/512: Train Loss = 0.31431, Validation Loss = 0.33768, Train Accuracy = 0.77135, Validation Accuracy = 0.77000\n"
     ]
    },
    {
     "name": "stderr",
     "output_type": "stream",
     "text": [
      "Epoch 76/512: 100%|███████████████████████████████████████████████████████████████████████████████████████████████████████████| 910/910 [00:27<00:00, 33.43it/s]\n"
     ]
    },
    {
     "name": "stdout",
     "output_type": "stream",
     "text": [
      "Epoch 76/512: Train Loss = 0.31330, Validation Loss = 0.33309, Train Accuracy = 0.77418, Validation Accuracy = 0.76739\n"
     ]
    },
    {
     "name": "stderr",
     "output_type": "stream",
     "text": [
      "Epoch 77/512: 100%|███████████████████████████████████████████████████████████████████████████████████████████████████████████| 910/910 [00:27<00:00, 33.19it/s]\n"
     ]
    },
    {
     "name": "stdout",
     "output_type": "stream",
     "text": [
      "Epoch 77/512: Train Loss = 0.31167, Validation Loss = 0.32257, Train Accuracy = 0.77485, Validation Accuracy = 0.77591\n"
     ]
    },
    {
     "name": "stderr",
     "output_type": "stream",
     "text": [
      "Epoch 78/512: 100%|███████████████████████████████████████████████████████████████████████████████████████████████████████████| 910/910 [00:27<00:00, 33.22it/s]\n"
     ]
    },
    {
     "name": "stdout",
     "output_type": "stream",
     "text": [
      "Epoch 78/512: Train Loss = 0.31119, Validation Loss = 0.33047, Train Accuracy = 0.77279, Validation Accuracy = 0.77275\n"
     ]
    },
    {
     "name": "stderr",
     "output_type": "stream",
     "text": [
      "Epoch 79/512: 100%|███████████████████████████████████████████████████████████████████████████████████████████████████████████| 910/910 [00:27<00:00, 33.29it/s]\n"
     ]
    },
    {
     "name": "stdout",
     "output_type": "stream",
     "text": [
      "Epoch 79/512: Train Loss = 0.31041, Validation Loss = 0.31514, Train Accuracy = 0.77302, Validation Accuracy = 0.77536\n"
     ]
    },
    {
     "name": "stderr",
     "output_type": "stream",
     "text": [
      "Epoch 80/512: 100%|███████████████████████████████████████████████████████████████████████████████████████████████████████████| 910/910 [00:27<00:00, 33.21it/s]\n"
     ]
    },
    {
     "name": "stdout",
     "output_type": "stream",
     "text": [
      "Epoch 80/512: Train Loss = 0.31066, Validation Loss = 0.32350, Train Accuracy = 0.77317, Validation Accuracy = 0.77688\n"
     ]
    },
    {
     "name": "stderr",
     "output_type": "stream",
     "text": [
      "Epoch 81/512: 100%|███████████████████████████████████████████████████████████████████████████████████████████████████████████| 910/910 [00:27<00:00, 33.05it/s]\n"
     ]
    },
    {
     "name": "stdout",
     "output_type": "stream",
     "text": [
      "Epoch 81/512: Train Loss = 0.30997, Validation Loss = 0.32694, Train Accuracy = 0.77475, Validation Accuracy = 0.77069\n"
     ]
    },
    {
     "name": "stderr",
     "output_type": "stream",
     "text": [
      "Epoch 82/512: 100%|███████████████████████████████████████████████████████████████████████████████████████████████████████████| 910/910 [00:27<00:00, 33.30it/s]\n"
     ]
    },
    {
     "name": "stdout",
     "output_type": "stream",
     "text": [
      "Epoch 82/512: Train Loss = 0.30965, Validation Loss = 0.31389, Train Accuracy = 0.77412, Validation Accuracy = 0.78224\n"
     ]
    },
    {
     "name": "stderr",
     "output_type": "stream",
     "text": [
      "Epoch 83/512: 100%|███████████████████████████████████████████████████████████████████████████████████████████████████████████| 910/910 [00:27<00:00, 33.04it/s]\n"
     ]
    },
    {
     "name": "stdout",
     "output_type": "stream",
     "text": [
      "Epoch 83/512: Train Loss = 0.30894, Validation Loss = 0.31568, Train Accuracy = 0.77480, Validation Accuracy = 0.78169\n"
     ]
    },
    {
     "name": "stderr",
     "output_type": "stream",
     "text": [
      "Epoch 84/512: 100%|███████████████████████████████████████████████████████████████████████████████████████████████████████████| 910/910 [00:27<00:00, 33.13it/s]\n"
     ]
    },
    {
     "name": "stdout",
     "output_type": "stream",
     "text": [
      "Epoch 84/512: Train Loss = 0.30669, Validation Loss = 0.31821, Train Accuracy = 0.77527, Validation Accuracy = 0.77220\n"
     ]
    },
    {
     "name": "stderr",
     "output_type": "stream",
     "text": [
      "Epoch 85/512: 100%|███████████████████████████████████████████████████████████████████████████████████████████████████████████| 910/910 [00:27<00:00, 33.22it/s]\n"
     ]
    },
    {
     "name": "stdout",
     "output_type": "stream",
     "text": [
      "Epoch 85/512: Train Loss = 0.30765, Validation Loss = 0.31190, Train Accuracy = 0.77456, Validation Accuracy = 0.78045\n"
     ]
    },
    {
     "name": "stderr",
     "output_type": "stream",
     "text": [
      "Epoch 86/512: 100%|███████████████████████████████████████████████████████████████████████████████████████████████████████████| 910/910 [00:27<00:00, 33.23it/s]\n"
     ]
    },
    {
     "name": "stdout",
     "output_type": "stream",
     "text": [
      "Epoch 86/512: Train Loss = 0.30743, Validation Loss = 0.32131, Train Accuracy = 0.77434, Validation Accuracy = 0.77853\n"
     ]
    },
    {
     "name": "stderr",
     "output_type": "stream",
     "text": [
      "Epoch 87/512: 100%|███████████████████████████████████████████████████████████████████████████████████████████████████████████| 910/910 [00:27<00:00, 33.53it/s]\n"
     ]
    },
    {
     "name": "stdout",
     "output_type": "stream",
     "text": [
      "Epoch 87/512: Train Loss = 0.30601, Validation Loss = 0.31886, Train Accuracy = 0.77625, Validation Accuracy = 0.77193\n"
     ]
    },
    {
     "name": "stderr",
     "output_type": "stream",
     "text": [
      "Epoch 88/512: 100%|███████████████████████████████████████████████████████████████████████████████████████████████████████████| 910/910 [00:27<00:00, 33.15it/s]\n"
     ]
    },
    {
     "name": "stdout",
     "output_type": "stream",
     "text": [
      "Epoch 88/512: Train Loss = 0.30516, Validation Loss = 0.33693, Train Accuracy = 0.77609, Validation Accuracy = 0.76835\n"
     ]
    },
    {
     "name": "stderr",
     "output_type": "stream",
     "text": [
      "Epoch 89/512: 100%|███████████████████████████████████████████████████████████████████████████████████████████████████████████| 910/910 [00:27<00:00, 32.86it/s]\n"
     ]
    },
    {
     "name": "stdout",
     "output_type": "stream",
     "text": [
      "Epoch 89/512: Train Loss = 0.30487, Validation Loss = 0.31182, Train Accuracy = 0.77668, Validation Accuracy = 0.77674\n"
     ]
    },
    {
     "name": "stderr",
     "output_type": "stream",
     "text": [
      "Epoch 90/512: 100%|███████████████████████████████████████████████████████████████████████████████████████████████████████████| 910/910 [00:27<00:00, 33.08it/s]\n"
     ]
    },
    {
     "name": "stdout",
     "output_type": "stream",
     "text": [
      "Epoch 90/512: Train Loss = 0.30301, Validation Loss = 0.31746, Train Accuracy = 0.77839, Validation Accuracy = 0.77921\n"
     ]
    },
    {
     "name": "stderr",
     "output_type": "stream",
     "text": [
      "Epoch 91/512: 100%|███████████████████████████████████████████████████████████████████████████████████████████████████████████| 910/910 [00:27<00:00, 33.22it/s]\n"
     ]
    },
    {
     "name": "stdout",
     "output_type": "stream",
     "text": [
      "Epoch 91/512: Train Loss = 0.30150, Validation Loss = 0.33001, Train Accuracy = 0.77917, Validation Accuracy = 0.77468\n"
     ]
    },
    {
     "name": "stderr",
     "output_type": "stream",
     "text": [
      "Epoch 92/512: 100%|███████████████████████████████████████████████████████████████████████████████████████████████████████████| 910/910 [00:27<00:00, 33.19it/s]\n"
     ]
    },
    {
     "name": "stdout",
     "output_type": "stream",
     "text": [
      "Epoch 92/512: Train Loss = 0.30344, Validation Loss = 0.30906, Train Accuracy = 0.77838, Validation Accuracy = 0.77880\n"
     ]
    },
    {
     "name": "stderr",
     "output_type": "stream",
     "text": [
      "Epoch 93/512: 100%|███████████████████████████████████████████████████████████████████████████████████████████████████████████| 910/910 [00:27<00:00, 33.12it/s]\n"
     ]
    },
    {
     "name": "stdout",
     "output_type": "stream",
     "text": [
      "Epoch 93/512: Train Loss = 0.30136, Validation Loss = 0.30897, Train Accuracy = 0.77750, Validation Accuracy = 0.77481\n"
     ]
    },
    {
     "name": "stderr",
     "output_type": "stream",
     "text": [
      "Epoch 94/512: 100%|███████████████████████████████████████████████████████████████████████████████████████████████████████████| 910/910 [00:27<00:00, 33.23it/s]\n"
     ]
    },
    {
     "name": "stdout",
     "output_type": "stream",
     "text": [
      "Epoch 94/512: Train Loss = 0.30202, Validation Loss = 0.31454, Train Accuracy = 0.77781, Validation Accuracy = 0.77619\n"
     ]
    },
    {
     "name": "stderr",
     "output_type": "stream",
     "text": [
      "Epoch 95/512: 100%|███████████████████████████████████████████████████████████████████████████████████████████████████████████| 910/910 [00:27<00:00, 33.20it/s]\n"
     ]
    },
    {
     "name": "stdout",
     "output_type": "stream",
     "text": [
      "Epoch 95/512: Train Loss = 0.30168, Validation Loss = 0.30832, Train Accuracy = 0.78077, Validation Accuracy = 0.78348\n"
     ]
    },
    {
     "name": "stderr",
     "output_type": "stream",
     "text": [
      "Epoch 96/512: 100%|███████████████████████████████████████████████████████████████████████████████████████████████████████████| 910/910 [00:27<00:00, 33.21it/s]\n"
     ]
    },
    {
     "name": "stdout",
     "output_type": "stream",
     "text": [
      "Epoch 96/512: Train Loss = 0.30044, Validation Loss = 0.30616, Train Accuracy = 0.77784, Validation Accuracy = 0.77715\n"
     ]
    },
    {
     "name": "stderr",
     "output_type": "stream",
     "text": [
      "Epoch 97/512: 100%|███████████████████████████████████████████████████████████████████████████████████████████████████████████| 910/910 [00:27<00:00, 33.06it/s]\n"
     ]
    },
    {
     "name": "stdout",
     "output_type": "stream",
     "text": [
      "Epoch 97/512: Train Loss = 0.29959, Validation Loss = 0.29896, Train Accuracy = 0.78108, Validation Accuracy = 0.78279\n"
     ]
    },
    {
     "name": "stderr",
     "output_type": "stream",
     "text": [
      "Epoch 98/512: 100%|███████████████████████████████████████████████████████████████████████████████████████████████████████████| 910/910 [00:27<00:00, 33.43it/s]\n"
     ]
    },
    {
     "name": "stdout",
     "output_type": "stream",
     "text": [
      "Epoch 98/512: Train Loss = 0.29880, Validation Loss = 0.31283, Train Accuracy = 0.77979, Validation Accuracy = 0.77880\n"
     ]
    },
    {
     "name": "stderr",
     "output_type": "stream",
     "text": [
      "Epoch 99/512: 100%|███████████████████████████████████████████████████████████████████████████████████████████████████████████| 910/910 [00:27<00:00, 33.29it/s]\n"
     ]
    },
    {
     "name": "stdout",
     "output_type": "stream",
     "text": [
      "Epoch 99/512: Train Loss = 0.29929, Validation Loss = 0.31525, Train Accuracy = 0.78083, Validation Accuracy = 0.78183\n"
     ]
    },
    {
     "name": "stderr",
     "output_type": "stream",
     "text": [
      "Epoch 100/512: 100%|██████████████████████████████████████████████████████████████████████████████████████████████████████████| 910/910 [00:27<00:00, 33.09it/s]\n"
     ]
    },
    {
     "name": "stdout",
     "output_type": "stream",
     "text": [
      "Epoch 100/512: Train Loss = 0.29946, Validation Loss = 0.32561, Train Accuracy = 0.78030, Validation Accuracy = 0.77564\n"
     ]
    },
    {
     "name": "stderr",
     "output_type": "stream",
     "text": [
      "Epoch 101/512: 100%|██████████████████████████████████████████████████████████████████████████████████████████████████████████| 910/910 [00:27<00:00, 33.07it/s]\n"
     ]
    },
    {
     "name": "stdout",
     "output_type": "stream",
     "text": [
      "Epoch 101/512: Train Loss = 0.29707, Validation Loss = 0.32187, Train Accuracy = 0.78041, Validation Accuracy = 0.77798\n"
     ]
    },
    {
     "name": "stderr",
     "output_type": "stream",
     "text": [
      "Epoch 102/512: 100%|██████████████████████████████████████████████████████████████████████████████████████████████████████████| 910/910 [00:27<00:00, 33.12it/s]\n"
     ]
    },
    {
     "name": "stdout",
     "output_type": "stream",
     "text": [
      "Epoch 102/512: Train Loss = 0.29755, Validation Loss = 0.30668, Train Accuracy = 0.78233, Validation Accuracy = 0.78361\n"
     ]
    },
    {
     "name": "stderr",
     "output_type": "stream",
     "text": [
      "Epoch 103/512: 100%|██████████████████████████████████████████████████████████████████████████████████████████████████████████| 910/910 [00:27<00:00, 33.15it/s]\n"
     ]
    },
    {
     "name": "stdout",
     "output_type": "stream",
     "text": [
      "Epoch 103/512: Train Loss = 0.29826, Validation Loss = 0.31312, Train Accuracy = 0.78190, Validation Accuracy = 0.78183\n"
     ]
    },
    {
     "name": "stderr",
     "output_type": "stream",
     "text": [
      "Epoch 104/512: 100%|██████████████████████████████████████████████████████████████████████████████████████████████████████████| 910/910 [00:27<00:00, 33.34it/s]\n"
     ]
    },
    {
     "name": "stdout",
     "output_type": "stream",
     "text": [
      "Epoch 104/512: Train Loss = 0.29726, Validation Loss = 0.30741, Train Accuracy = 0.78132, Validation Accuracy = 0.78361\n"
     ]
    },
    {
     "name": "stderr",
     "output_type": "stream",
     "text": [
      "Epoch 105/512: 100%|██████████████████████████████████████████████████████████████████████████████████████████████████████████| 910/910 [00:27<00:00, 33.06it/s]\n"
     ]
    },
    {
     "name": "stdout",
     "output_type": "stream",
     "text": [
      "Epoch 105/512: Train Loss = 0.29533, Validation Loss = 0.30927, Train Accuracy = 0.78451, Validation Accuracy = 0.78389\n"
     ]
    },
    {
     "name": "stderr",
     "output_type": "stream",
     "text": [
      "Epoch 106/512: 100%|██████████████████████████████████████████████████████████████████████████████████████████████████████████| 910/910 [00:27<00:00, 33.38it/s]\n"
     ]
    },
    {
     "name": "stdout",
     "output_type": "stream",
     "text": [
      "Epoch 106/512: Train Loss = 0.29531, Validation Loss = 0.30550, Train Accuracy = 0.78317, Validation Accuracy = 0.78265\n"
     ]
    },
    {
     "name": "stderr",
     "output_type": "stream",
     "text": [
      "Epoch 107/512: 100%|██████████████████████████████████████████████████████████████████████████████████████████████████████████| 910/910 [00:27<00:00, 33.14it/s]\n"
     ]
    },
    {
     "name": "stdout",
     "output_type": "stream",
     "text": [
      "Epoch 107/512: Train Loss = 0.29509, Validation Loss = 0.30196, Train Accuracy = 0.78118, Validation Accuracy = 0.78403\n"
     ]
    },
    {
     "name": "stderr",
     "output_type": "stream",
     "text": [
      "Epoch 108/512: 100%|██████████████████████████████████████████████████████████████████████████████████████████████████████████| 910/910 [00:27<00:00, 32.89it/s]\n"
     ]
    },
    {
     "name": "stdout",
     "output_type": "stream",
     "text": [
      "Epoch 108/512: Train Loss = 0.29320, Validation Loss = 0.30426, Train Accuracy = 0.78238, Validation Accuracy = 0.78609\n"
     ]
    },
    {
     "name": "stderr",
     "output_type": "stream",
     "text": [
      "Epoch 109/512: 100%|██████████████████████████████████████████████████████████████████████████████████████████████████████████| 910/910 [00:27<00:00, 33.37it/s]\n"
     ]
    },
    {
     "name": "stdout",
     "output_type": "stream",
     "text": [
      "Epoch 109/512: Train Loss = 0.29350, Validation Loss = 0.30432, Train Accuracy = 0.78527, Validation Accuracy = 0.78416\n"
     ]
    },
    {
     "name": "stderr",
     "output_type": "stream",
     "text": [
      "Epoch 110/512: 100%|██████████████████████████████████████████████████████████████████████████████████████████████████████████| 910/910 [00:27<00:00, 33.26it/s]\n"
     ]
    },
    {
     "name": "stdout",
     "output_type": "stream",
     "text": [
      "Epoch 110/512: Train Loss = 0.29281, Validation Loss = 0.31503, Train Accuracy = 0.78537, Validation Accuracy = 0.78141\n"
     ]
    },
    {
     "name": "stderr",
     "output_type": "stream",
     "text": [
      "Epoch 111/512: 100%|██████████████████████████████████████████████████████████████████████████████████████████████████████████| 910/910 [00:27<00:00, 33.13it/s]\n"
     ]
    },
    {
     "name": "stdout",
     "output_type": "stream",
     "text": [
      "Epoch 111/512: Train Loss = 0.29296, Validation Loss = 0.30805, Train Accuracy = 0.78235, Validation Accuracy = 0.78251\n"
     ]
    },
    {
     "name": "stderr",
     "output_type": "stream",
     "text": [
      "Epoch 112/512: 100%|██████████████████████████████████████████████████████████████████████████████████████████████████████████| 910/910 [00:27<00:00, 33.14it/s]\n"
     ]
    },
    {
     "name": "stdout",
     "output_type": "stream",
     "text": [
      "Epoch 112/512: Train Loss = 0.29302, Validation Loss = 0.31102, Train Accuracy = 0.78410, Validation Accuracy = 0.77688\n"
     ]
    },
    {
     "name": "stderr",
     "output_type": "stream",
     "text": [
      "Epoch 113/512: 100%|██████████████████████████████████████████████████████████████████████████████████████████████████████████| 910/910 [00:27<00:00, 33.40it/s]\n"
     ]
    },
    {
     "name": "stdout",
     "output_type": "stream",
     "text": [
      "Epoch 113/512: Train Loss = 0.29157, Validation Loss = 0.30461, Train Accuracy = 0.78510, Validation Accuracy = 0.78265\n"
     ]
    },
    {
     "name": "stderr",
     "output_type": "stream",
     "text": [
      "Epoch 114/512: 100%|██████████████████████████████████████████████████████████████████████████████████████████████████████████| 910/910 [00:27<00:00, 33.08it/s]\n"
     ]
    },
    {
     "name": "stdout",
     "output_type": "stream",
     "text": [
      "Epoch 114/512: Train Loss = 0.29178, Validation Loss = 0.30105, Train Accuracy = 0.78578, Validation Accuracy = 0.78513\n"
     ]
    },
    {
     "name": "stderr",
     "output_type": "stream",
     "text": [
      "Epoch 115/512: 100%|██████████████████████████████████████████████████████████████████████████████████████████████████████████| 910/910 [00:27<00:00, 33.18it/s]\n"
     ]
    },
    {
     "name": "stdout",
     "output_type": "stream",
     "text": [
      "Epoch 115/512: Train Loss = 0.29209, Validation Loss = 0.30712, Train Accuracy = 0.78331, Validation Accuracy = 0.78705\n"
     ]
    },
    {
     "name": "stderr",
     "output_type": "stream",
     "text": [
      "Epoch 116/512: 100%|██████████████████████████████████████████████████████████████████████████████████████████████████████████| 910/910 [00:27<00:00, 33.21it/s]\n"
     ]
    },
    {
     "name": "stdout",
     "output_type": "stream",
     "text": [
      "Epoch 116/512: Train Loss = 0.28990, Validation Loss = 0.30366, Train Accuracy = 0.78529, Validation Accuracy = 0.78732\n"
     ]
    },
    {
     "name": "stderr",
     "output_type": "stream",
     "text": [
      "Epoch 117/512: 100%|██████████████████████████████████████████████████████████████████████████████████████████████████████████| 910/910 [00:27<00:00, 33.17it/s]\n"
     ]
    },
    {
     "name": "stdout",
     "output_type": "stream",
     "text": [
      "Epoch 117/512: Train Loss = 0.29031, Validation Loss = 0.31893, Train Accuracy = 0.78659, Validation Accuracy = 0.78980\n"
     ]
    },
    {
     "name": "stderr",
     "output_type": "stream",
     "text": [
      "Epoch 118/512: 100%|██████████████████████████████████████████████████████████████████████████████████████████████████████████| 910/910 [00:27<00:00, 33.28it/s]\n"
     ]
    },
    {
     "name": "stdout",
     "output_type": "stream",
     "text": [
      "Epoch 118/512: Train Loss = 0.28955, Validation Loss = 0.31865, Train Accuracy = 0.78506, Validation Accuracy = 0.78293\n"
     ]
    },
    {
     "name": "stderr",
     "output_type": "stream",
     "text": [
      "Epoch 119/512: 100%|██████████████████████████████████████████████████████████████████████████████████████████████████████████| 910/910 [00:27<00:00, 33.14it/s]\n"
     ]
    },
    {
     "name": "stdout",
     "output_type": "stream",
     "text": [
      "Epoch 119/512: Train Loss = 0.28953, Validation Loss = 0.31494, Train Accuracy = 0.78726, Validation Accuracy = 0.78348\n"
     ]
    },
    {
     "name": "stderr",
     "output_type": "stream",
     "text": [
      "Epoch 120/512: 100%|██████████████████████████████████████████████████████████████████████████████████████████████████████████| 910/910 [00:27<00:00, 33.27it/s]\n"
     ]
    },
    {
     "name": "stdout",
     "output_type": "stream",
     "text": [
      "Epoch 120/512: Train Loss = 0.28662, Validation Loss = 0.30921, Train Accuracy = 0.78957, Validation Accuracy = 0.78293\n"
     ]
    },
    {
     "name": "stderr",
     "output_type": "stream",
     "text": [
      "Epoch 121/512: 100%|██████████████████████████████████████████████████████████████████████████████████████████████████████████| 910/910 [00:27<00:00, 33.04it/s]\n"
     ]
    },
    {
     "name": "stdout",
     "output_type": "stream",
     "text": [
      "Epoch 121/512: Train Loss = 0.28864, Validation Loss = 0.30891, Train Accuracy = 0.78707, Validation Accuracy = 0.78265\n"
     ]
    },
    {
     "name": "stderr",
     "output_type": "stream",
     "text": [
      "Epoch 122/512: 100%|██████████████████████████████████████████████████████████████████████████████████████████████████████████| 910/910 [00:27<00:00, 33.03it/s]\n"
     ]
    },
    {
     "name": "stdout",
     "output_type": "stream",
     "text": [
      "Epoch 122/512: Train Loss = 0.28816, Validation Loss = 0.29828, Train Accuracy = 0.78814, Validation Accuracy = 0.78966\n"
     ]
    },
    {
     "name": "stderr",
     "output_type": "stream",
     "text": [
      "Epoch 123/512: 100%|██████████████████████████████████████████████████████████████████████████████████████████████████████████| 910/910 [00:27<00:00, 33.08it/s]\n"
     ]
    },
    {
     "name": "stdout",
     "output_type": "stream",
     "text": [
      "Epoch 123/512: Train Loss = 0.28695, Validation Loss = 0.29787, Train Accuracy = 0.78704, Validation Accuracy = 0.78279\n"
     ]
    },
    {
     "name": "stderr",
     "output_type": "stream",
     "text": [
      "Epoch 124/512: 100%|██████████████████████████████████████████████████████████████████████████████████████████████████████████| 910/910 [00:27<00:00, 33.21it/s]\n"
     ]
    },
    {
     "name": "stdout",
     "output_type": "stream",
     "text": [
      "Epoch 124/512: Train Loss = 0.28657, Validation Loss = 0.29863, Train Accuracy = 0.78903, Validation Accuracy = 0.78787\n"
     ]
    },
    {
     "name": "stderr",
     "output_type": "stream",
     "text": [
      "Epoch 125/512: 100%|██████████████████████████████████████████████████████████████████████████████████████████████████████████| 910/910 [00:27<00:00, 33.17it/s]\n"
     ]
    },
    {
     "name": "stdout",
     "output_type": "stream",
     "text": [
      "Epoch 125/512: Train Loss = 0.28530, Validation Loss = 0.30461, Train Accuracy = 0.78865, Validation Accuracy = 0.79007\n"
     ]
    },
    {
     "name": "stderr",
     "output_type": "stream",
     "text": [
      "Epoch 126/512: 100%|██████████████████████████████████████████████████████████████████████████████████████████████████████████| 910/910 [00:27<00:00, 33.20it/s]\n"
     ]
    },
    {
     "name": "stdout",
     "output_type": "stream",
     "text": [
      "Epoch 126/512: Train Loss = 0.28678, Validation Loss = 0.30636, Train Accuracy = 0.78786, Validation Accuracy = 0.78911\n"
     ]
    },
    {
     "name": "stderr",
     "output_type": "stream",
     "text": [
      "Epoch 127/512: 100%|██████████████████████████████████████████████████████████████████████████████████████████████████████████| 910/910 [00:27<00:00, 33.23it/s]\n"
     ]
    },
    {
     "name": "stdout",
     "output_type": "stream",
     "text": [
      "Epoch 127/512: Train Loss = 0.28713, Validation Loss = 0.29589, Train Accuracy = 0.78690, Validation Accuracy = 0.78994\n"
     ]
    },
    {
     "name": "stderr",
     "output_type": "stream",
     "text": [
      "Epoch 128/512: 100%|██████████████████████████████████████████████████████████████████████████████████████████████████████████| 910/910 [00:27<00:00, 33.10it/s]\n"
     ]
    },
    {
     "name": "stdout",
     "output_type": "stream",
     "text": [
      "Epoch 128/512: Train Loss = 0.28559, Validation Loss = 0.29514, Train Accuracy = 0.78817, Validation Accuracy = 0.79351\n"
     ]
    },
    {
     "name": "stderr",
     "output_type": "stream",
     "text": [
      "Epoch 129/512: 100%|██████████████████████████████████████████████████████████████████████████████████████████████████████████| 910/910 [00:27<00:00, 33.20it/s]\n"
     ]
    },
    {
     "name": "stdout",
     "output_type": "stream",
     "text": [
      "Epoch 129/512: Train Loss = 0.28429, Validation Loss = 0.30039, Train Accuracy = 0.78989, Validation Accuracy = 0.78842\n"
     ]
    },
    {
     "name": "stderr",
     "output_type": "stream",
     "text": [
      "Epoch 130/512: 100%|██████████████████████████████████████████████████████████████████████████████████████████████████████████| 910/910 [00:27<00:00, 33.17it/s]\n"
     ]
    },
    {
     "name": "stdout",
     "output_type": "stream",
     "text": [
      "Epoch 130/512: Train Loss = 0.28359, Validation Loss = 0.30244, Train Accuracy = 0.78884, Validation Accuracy = 0.79337\n"
     ]
    },
    {
     "name": "stderr",
     "output_type": "stream",
     "text": [
      "Epoch 131/512: 100%|██████████████████████████████████████████████████████████████████████████████████████████████████████████| 910/910 [00:27<00:00, 33.08it/s]\n"
     ]
    },
    {
     "name": "stdout",
     "output_type": "stream",
     "text": [
      "Epoch 131/512: Train Loss = 0.28404, Validation Loss = 0.29857, Train Accuracy = 0.78977, Validation Accuracy = 0.79227\n"
     ]
    },
    {
     "name": "stderr",
     "output_type": "stream",
     "text": [
      "Epoch 132/512: 100%|██████████████████████████████████████████████████████████████████████████████████████████████████████████| 910/910 [00:27<00:00, 33.19it/s]\n"
     ]
    },
    {
     "name": "stdout",
     "output_type": "stream",
     "text": [
      "Epoch 132/512: Train Loss = 0.28413, Validation Loss = 0.30476, Train Accuracy = 0.78967, Validation Accuracy = 0.79076\n"
     ]
    },
    {
     "name": "stderr",
     "output_type": "stream",
     "text": [
      "Epoch 133/512: 100%|██████████████████████████████████████████████████████████████████████████████████████████████████████████| 910/910 [00:27<00:00, 33.23it/s]\n"
     ]
    },
    {
     "name": "stdout",
     "output_type": "stream",
     "text": [
      "Epoch 133/512: Train Loss = 0.28243, Validation Loss = 0.30734, Train Accuracy = 0.78755, Validation Accuracy = 0.78980\n"
     ]
    },
    {
     "name": "stderr",
     "output_type": "stream",
     "text": [
      "Epoch 134/512: 100%|██████████████████████████████████████████████████████████████████████████████████████████████████████████| 910/910 [00:27<00:00, 33.32it/s]\n"
     ]
    },
    {
     "name": "stdout",
     "output_type": "stream",
     "text": [
      "Epoch 134/512: Train Loss = 0.28240, Validation Loss = 0.29468, Train Accuracy = 0.79135, Validation Accuracy = 0.79186\n"
     ]
    },
    {
     "name": "stderr",
     "output_type": "stream",
     "text": [
      "Epoch 135/512: 100%|██████████████████████████████████████████████████████████████████████████████████████████████████████████| 910/910 [00:27<00:00, 33.01it/s]\n"
     ]
    },
    {
     "name": "stdout",
     "output_type": "stream",
     "text": [
      "Epoch 135/512: Train Loss = 0.28268, Validation Loss = 0.29933, Train Accuracy = 0.78872, Validation Accuracy = 0.78842\n"
     ]
    },
    {
     "name": "stderr",
     "output_type": "stream",
     "text": [
      "Epoch 136/512: 100%|██████████████████████████████████████████████████████████████████████████████████████████████████████████| 910/910 [00:27<00:00, 33.42it/s]\n"
     ]
    },
    {
     "name": "stdout",
     "output_type": "stream",
     "text": [
      "Epoch 136/512: Train Loss = 0.28340, Validation Loss = 0.30182, Train Accuracy = 0.78932, Validation Accuracy = 0.79007\n"
     ]
    },
    {
     "name": "stderr",
     "output_type": "stream",
     "text": [
      "Epoch 137/512: 100%|██████████████████████████████████████████████████████████████████████████████████████████████████████████| 910/910 [00:27<00:00, 33.34it/s]\n"
     ]
    },
    {
     "name": "stdout",
     "output_type": "stream",
     "text": [
      "Epoch 137/512: Train Loss = 0.28124, Validation Loss = 0.29816, Train Accuracy = 0.79056, Validation Accuracy = 0.78925\n"
     ]
    },
    {
     "name": "stderr",
     "output_type": "stream",
     "text": [
      "Epoch 138/512: 100%|██████████████████████████████████████████████████████████████████████████████████████████████████████████| 910/910 [00:27<00:00, 33.31it/s]\n"
     ]
    },
    {
     "name": "stdout",
     "output_type": "stream",
     "text": [
      "Epoch 138/512: Train Loss = 0.28121, Validation Loss = 0.30206, Train Accuracy = 0.79104, Validation Accuracy = 0.78897\n"
     ]
    },
    {
     "name": "stderr",
     "output_type": "stream",
     "text": [
      "Epoch 139/512: 100%|██████████████████████████████████████████████████████████████████████████████████████████████████████████| 910/910 [00:27<00:00, 33.25it/s]\n"
     ]
    },
    {
     "name": "stdout",
     "output_type": "stream",
     "text": [
      "Epoch 139/512: Train Loss = 0.28113, Validation Loss = 0.29297, Train Accuracy = 0.79061, Validation Accuracy = 0.79310\n"
     ]
    },
    {
     "name": "stderr",
     "output_type": "stream",
     "text": [
      "Epoch 140/512: 100%|██████████████████████████████████████████████████████████████████████████████████████████████████████████| 910/910 [00:27<00:00, 33.37it/s]\n"
     ]
    },
    {
     "name": "stdout",
     "output_type": "stream",
     "text": [
      "Epoch 140/512: Train Loss = 0.28102, Validation Loss = 0.29324, Train Accuracy = 0.79345, Validation Accuracy = 0.79200\n"
     ]
    },
    {
     "name": "stderr",
     "output_type": "stream",
     "text": [
      "Epoch 141/512: 100%|██████████████████████████████████████████████████████████████████████████████████████████████████████████| 910/910 [00:27<00:00, 33.35it/s]\n"
     ]
    },
    {
     "name": "stdout",
     "output_type": "stream",
     "text": [
      "Epoch 141/512: Train Loss = 0.27927, Validation Loss = 0.29343, Train Accuracy = 0.79154, Validation Accuracy = 0.79296\n"
     ]
    },
    {
     "name": "stderr",
     "output_type": "stream",
     "text": [
      "Epoch 142/512: 100%|██████████████████████████████████████████████████████████████████████████████████████████████████████████| 910/910 [00:27<00:00, 33.28it/s]\n"
     ]
    },
    {
     "name": "stdout",
     "output_type": "stream",
     "text": [
      "Epoch 142/512: Train Loss = 0.27911, Validation Loss = 0.29320, Train Accuracy = 0.79316, Validation Accuracy = 0.79544\n"
     ]
    },
    {
     "name": "stderr",
     "output_type": "stream",
     "text": [
      "Epoch 143/512: 100%|██████████████████████████████████████████████████████████████████████████████████████████████████████████| 910/910 [00:27<00:00, 33.23it/s]\n"
     ]
    },
    {
     "name": "stdout",
     "output_type": "stream",
     "text": [
      "Epoch 143/512: Train Loss = 0.27798, Validation Loss = 0.29640, Train Accuracy = 0.79319, Validation Accuracy = 0.79475\n"
     ]
    },
    {
     "name": "stderr",
     "output_type": "stream",
     "text": [
      "Epoch 144/512: 100%|██████████████████████████████████████████████████████████████████████████████████████████████████████████| 910/910 [00:27<00:00, 33.27it/s]\n"
     ]
    },
    {
     "name": "stdout",
     "output_type": "stream",
     "text": [
      "Epoch 144/512: Train Loss = 0.27756, Validation Loss = 0.29173, Train Accuracy = 0.79295, Validation Accuracy = 0.79599\n"
     ]
    },
    {
     "name": "stderr",
     "output_type": "stream",
     "text": [
      "Epoch 145/512: 100%|██████████████████████████████████████████████████████████████████████████████████████████████████████████| 910/910 [00:27<00:00, 33.11it/s]\n"
     ]
    },
    {
     "name": "stdout",
     "output_type": "stream",
     "text": [
      "Epoch 145/512: Train Loss = 0.27769, Validation Loss = 0.29992, Train Accuracy = 0.79419, Validation Accuracy = 0.79090\n"
     ]
    },
    {
     "name": "stderr",
     "output_type": "stream",
     "text": [
      "Epoch 146/512: 100%|██████████████████████████████████████████████████████████████████████████████████████████████████████████| 910/910 [00:27<00:00, 33.63it/s]\n"
     ]
    },
    {
     "name": "stdout",
     "output_type": "stream",
     "text": [
      "Epoch 146/512: Train Loss = 0.27841, Validation Loss = 0.29008, Train Accuracy = 0.79185, Validation Accuracy = 0.79076\n"
     ]
    },
    {
     "name": "stderr",
     "output_type": "stream",
     "text": [
      "Epoch 147/512: 100%|██████████████████████████████████████████████████████████████████████████████████████████████████████████| 910/910 [00:27<00:00, 33.05it/s]\n"
     ]
    },
    {
     "name": "stdout",
     "output_type": "stream",
     "text": [
      "Epoch 147/512: Train Loss = 0.27783, Validation Loss = 0.29283, Train Accuracy = 0.79199, Validation Accuracy = 0.79420\n"
     ]
    },
    {
     "name": "stderr",
     "output_type": "stream",
     "text": [
      "Epoch 148/512: 100%|██████████████████████████████████████████████████████████████████████████████████████████████████████████| 910/910 [00:27<00:00, 33.17it/s]\n"
     ]
    },
    {
     "name": "stdout",
     "output_type": "stream",
     "text": [
      "Epoch 148/512: Train Loss = 0.27786, Validation Loss = 0.32200, Train Accuracy = 0.79213, Validation Accuracy = 0.78114\n"
     ]
    },
    {
     "name": "stderr",
     "output_type": "stream",
     "text": [
      "Epoch 149/512: 100%|██████████████████████████████████████████████████████████████████████████████████████████████████████████| 910/910 [00:27<00:00, 33.23it/s]\n"
     ]
    },
    {
     "name": "stdout",
     "output_type": "stream",
     "text": [
      "Epoch 149/512: Train Loss = 0.27670, Validation Loss = 0.29196, Train Accuracy = 0.79273, Validation Accuracy = 0.79819\n"
     ]
    },
    {
     "name": "stderr",
     "output_type": "stream",
     "text": [
      "Epoch 150/512: 100%|██████████████████████████████████████████████████████████████████████████████████████████████████████████| 910/910 [00:27<00:00, 33.15it/s]\n"
     ]
    },
    {
     "name": "stdout",
     "output_type": "stream",
     "text": [
      "Epoch 150/512: Train Loss = 0.27755, Validation Loss = 0.29813, Train Accuracy = 0.79290, Validation Accuracy = 0.79571\n"
     ]
    },
    {
     "name": "stderr",
     "output_type": "stream",
     "text": [
      "Epoch 151/512: 100%|██████████████████████████████████████████████████████████████████████████████████████████████████████████| 910/910 [00:27<00:00, 33.14it/s]\n"
     ]
    },
    {
     "name": "stdout",
     "output_type": "stream",
     "text": [
      "Epoch 151/512: Train Loss = 0.27770, Validation Loss = 0.29319, Train Accuracy = 0.79398, Validation Accuracy = 0.78911\n"
     ]
    },
    {
     "name": "stderr",
     "output_type": "stream",
     "text": [
      "Epoch 152/512: 100%|██████████████████████████████████████████████████████████████████████████████████████████████████████████| 910/910 [00:27<00:00, 33.20it/s]\n"
     ]
    },
    {
     "name": "stdout",
     "output_type": "stream",
     "text": [
      "Epoch 152/512: Train Loss = 0.27710, Validation Loss = 0.29023, Train Accuracy = 0.79396, Validation Accuracy = 0.79832\n"
     ]
    },
    {
     "name": "stderr",
     "output_type": "stream",
     "text": [
      "Epoch 153/512: 100%|██████████████████████████████████████████████████████████████████████████████████████████████████████████| 910/910 [00:27<00:00, 33.30it/s]\n"
     ]
    },
    {
     "name": "stdout",
     "output_type": "stream",
     "text": [
      "Epoch 153/512: Train Loss = 0.27535, Validation Loss = 0.30359, Train Accuracy = 0.79622, Validation Accuracy = 0.78966\n"
     ]
    },
    {
     "name": "stderr",
     "output_type": "stream",
     "text": [
      "Epoch 154/512: 100%|██████████████████████████████████████████████████████████████████████████████████████████████████████████| 910/910 [00:27<00:00, 32.95it/s]\n"
     ]
    },
    {
     "name": "stdout",
     "output_type": "stream",
     "text": [
      "Epoch 154/512: Train Loss = 0.27667, Validation Loss = 0.29088, Train Accuracy = 0.79470, Validation Accuracy = 0.79145\n"
     ]
    },
    {
     "name": "stderr",
     "output_type": "stream",
     "text": [
      "Epoch 155/512: 100%|██████████████████████████████████████████████████████████████████████████████████████████████████████████| 910/910 [00:27<00:00, 33.07it/s]\n"
     ]
    },
    {
     "name": "stdout",
     "output_type": "stream",
     "text": [
      "Epoch 155/512: Train Loss = 0.27478, Validation Loss = 0.29210, Train Accuracy = 0.79488, Validation Accuracy = 0.79227\n"
     ]
    },
    {
     "name": "stderr",
     "output_type": "stream",
     "text": [
      "Epoch 156/512: 100%|██████████████████████████████████████████████████████████████████████████████████████████████████████████| 910/910 [00:27<00:00, 33.09it/s]\n"
     ]
    },
    {
     "name": "stdout",
     "output_type": "stream",
     "text": [
      "Epoch 156/512: Train Loss = 0.27612, Validation Loss = 0.29815, Train Accuracy = 0.79316, Validation Accuracy = 0.79255\n"
     ]
    },
    {
     "name": "stderr",
     "output_type": "stream",
     "text": [
      "Epoch 157/512: 100%|██████████████████████████████████████████████████████████████████████████████████████████████████████████| 910/910 [00:27<00:00, 33.31it/s]\n"
     ]
    },
    {
     "name": "stdout",
     "output_type": "stream",
     "text": [
      "Epoch 157/512: Train Loss = 0.27421, Validation Loss = 0.29503, Train Accuracy = 0.79445, Validation Accuracy = 0.79667\n"
     ]
    },
    {
     "name": "stderr",
     "output_type": "stream",
     "text": [
      "Epoch 158/512: 100%|██████████████████████████████████████████████████████████████████████████████████████████████████████████| 910/910 [00:27<00:00, 33.16it/s]\n"
     ]
    },
    {
     "name": "stdout",
     "output_type": "stream",
     "text": [
      "Epoch 158/512: Train Loss = 0.27313, Validation Loss = 0.29240, Train Accuracy = 0.79486, Validation Accuracy = 0.79172\n"
     ]
    },
    {
     "name": "stderr",
     "output_type": "stream",
     "text": [
      "Epoch 159/512: 100%|██████████████████████████████████████████████████████████████████████████████████████████████████████████| 910/910 [00:27<00:00, 33.31it/s]\n"
     ]
    },
    {
     "name": "stdout",
     "output_type": "stream",
     "text": [
      "Epoch 159/512: Train Loss = 0.27444, Validation Loss = 0.29987, Train Accuracy = 0.79561, Validation Accuracy = 0.79557\n"
     ]
    },
    {
     "name": "stderr",
     "output_type": "stream",
     "text": [
      "Epoch 160/512: 100%|██████████████████████████████████████████████████████████████████████████████████████████████████████████| 910/910 [00:27<00:00, 33.20it/s]\n"
     ]
    },
    {
     "name": "stdout",
     "output_type": "stream",
     "text": [
      "Epoch 160/512: Train Loss = 0.27406, Validation Loss = 0.29642, Train Accuracy = 0.79685, Validation Accuracy = 0.79351\n"
     ]
    },
    {
     "name": "stderr",
     "output_type": "stream",
     "text": [
      "Epoch 161/512: 100%|██████████████████████████████████████████████████████████████████████████████████████████████████████████| 910/910 [00:27<00:00, 33.28it/s]\n"
     ]
    },
    {
     "name": "stdout",
     "output_type": "stream",
     "text": [
      "Epoch 161/512: Train Loss = 0.27396, Validation Loss = 0.29363, Train Accuracy = 0.79544, Validation Accuracy = 0.79447\n"
     ]
    },
    {
     "name": "stderr",
     "output_type": "stream",
     "text": [
      "Epoch 162/512: 100%|██████████████████████████████████████████████████████████████████████████████████████████████████████████| 910/910 [00:27<00:00, 33.17it/s]\n"
     ]
    },
    {
     "name": "stdout",
     "output_type": "stream",
     "text": [
      "Epoch 162/512: Train Loss = 0.27224, Validation Loss = 0.28378, Train Accuracy = 0.79775, Validation Accuracy = 0.79599\n"
     ]
    },
    {
     "name": "stderr",
     "output_type": "stream",
     "text": [
      "Epoch 163/512: 100%|██████████████████████████████████████████████████████████████████████████████████████████████████████████| 910/910 [00:27<00:00, 33.41it/s]\n"
     ]
    },
    {
     "name": "stdout",
     "output_type": "stream",
     "text": [
      "Epoch 163/512: Train Loss = 0.27391, Validation Loss = 0.29102, Train Accuracy = 0.79505, Validation Accuracy = 0.79200\n"
     ]
    },
    {
     "name": "stderr",
     "output_type": "stream",
     "text": [
      "Epoch 164/512: 100%|██████████████████████████████████████████████████████████████████████████████████████████████████████████| 910/910 [00:27<00:00, 33.29it/s]\n"
     ]
    },
    {
     "name": "stdout",
     "output_type": "stream",
     "text": [
      "Epoch 164/512: Train Loss = 0.27216, Validation Loss = 0.29141, Train Accuracy = 0.79491, Validation Accuracy = 0.79324\n"
     ]
    },
    {
     "name": "stderr",
     "output_type": "stream",
     "text": [
      "Epoch 165/512: 100%|██████████████████████████████████████████████████████████████████████████████████████████████████████████| 910/910 [00:27<00:00, 33.37it/s]\n"
     ]
    },
    {
     "name": "stdout",
     "output_type": "stream",
     "text": [
      "Epoch 165/512: Train Loss = 0.27210, Validation Loss = 0.29715, Train Accuracy = 0.79797, Validation Accuracy = 0.79447\n"
     ]
    },
    {
     "name": "stderr",
     "output_type": "stream",
     "text": [
      "Epoch 166/512: 100%|██████████████████████████████████████████████████████████████████████████████████████████████████████████| 910/910 [00:27<00:00, 33.09it/s]\n"
     ]
    },
    {
     "name": "stdout",
     "output_type": "stream",
     "text": [
      "Epoch 166/512: Train Loss = 0.27128, Validation Loss = 0.29818, Train Accuracy = 0.79476, Validation Accuracy = 0.80121\n"
     ]
    },
    {
     "name": "stderr",
     "output_type": "stream",
     "text": [
      "Epoch 167/512: 100%|██████████████████████████████████████████████████████████████████████████████████████████████████████████| 910/910 [00:27<00:00, 33.08it/s]\n"
     ]
    },
    {
     "name": "stdout",
     "output_type": "stream",
     "text": [
      "Epoch 167/512: Train Loss = 0.27105, Validation Loss = 0.28386, Train Accuracy = 0.79598, Validation Accuracy = 0.80025\n"
     ]
    },
    {
     "name": "stderr",
     "output_type": "stream",
     "text": [
      "Epoch 168/512: 100%|██████████████████████████████████████████████████████████████████████████████████████████████████████████| 910/910 [00:27<00:00, 33.11it/s]\n"
     ]
    },
    {
     "name": "stdout",
     "output_type": "stream",
     "text": [
      "Epoch 168/512: Train Loss = 0.27125, Validation Loss = 0.30125, Train Accuracy = 0.79644, Validation Accuracy = 0.79736\n"
     ]
    },
    {
     "name": "stderr",
     "output_type": "stream",
     "text": [
      "Epoch 169/512: 100%|██████████████████████████████████████████████████████████████████████████████████████████████████████████| 910/910 [00:27<00:00, 33.28it/s]\n"
     ]
    },
    {
     "name": "stdout",
     "output_type": "stream",
     "text": [
      "Epoch 169/512: Train Loss = 0.27018, Validation Loss = 0.29753, Train Accuracy = 0.79776, Validation Accuracy = 0.80025\n"
     ]
    },
    {
     "name": "stderr",
     "output_type": "stream",
     "text": [
      "Epoch 170/512: 100%|██████████████████████████████████████████████████████████████████████████████████████████████████████████| 910/910 [00:27<00:00, 33.03it/s]\n"
     ]
    },
    {
     "name": "stdout",
     "output_type": "stream",
     "text": [
      "Epoch 170/512: Train Loss = 0.27130, Validation Loss = 0.30161, Train Accuracy = 0.79845, Validation Accuracy = 0.78609\n"
     ]
    },
    {
     "name": "stderr",
     "output_type": "stream",
     "text": [
      "Epoch 171/512: 100%|██████████████████████████████████████████████████████████████████████████████████████████████████████████| 910/910 [00:27<00:00, 33.12it/s]\n"
     ]
    },
    {
     "name": "stdout",
     "output_type": "stream",
     "text": [
      "Epoch 171/512: Train Loss = 0.27151, Validation Loss = 0.28931, Train Accuracy = 0.79613, Validation Accuracy = 0.79351\n"
     ]
    },
    {
     "name": "stderr",
     "output_type": "stream",
     "text": [
      "Epoch 172/512: 100%|██████████████████████████████████████████████████████████████████████████████████████████████████████████| 910/910 [00:27<00:00, 33.25it/s]\n"
     ]
    },
    {
     "name": "stdout",
     "output_type": "stream",
     "text": [
      "Epoch 172/512: Train Loss = 0.27051, Validation Loss = 0.28798, Train Accuracy = 0.79826, Validation Accuracy = 0.79860\n"
     ]
    },
    {
     "name": "stderr",
     "output_type": "stream",
     "text": [
      "Epoch 173/512: 100%|██████████████████████████████████████████████████████████████████████████████████████████████████████████| 910/910 [00:27<00:00, 33.09it/s]\n"
     ]
    },
    {
     "name": "stdout",
     "output_type": "stream",
     "text": [
      "Epoch 173/512: Train Loss = 0.26974, Validation Loss = 0.28794, Train Accuracy = 0.79898, Validation Accuracy = 0.79516\n"
     ]
    },
    {
     "name": "stderr",
     "output_type": "stream",
     "text": [
      "Epoch 174/512: 100%|██████████████████████████████████████████████████████████████████████████████████████████████████████████| 910/910 [00:27<00:00, 33.12it/s]\n"
     ]
    },
    {
     "name": "stdout",
     "output_type": "stream",
     "text": [
      "Epoch 174/512: Train Loss = 0.27055, Validation Loss = 0.30173, Train Accuracy = 0.79804, Validation Accuracy = 0.78815\n"
     ]
    },
    {
     "name": "stderr",
     "output_type": "stream",
     "text": [
      "Epoch 175/512: 100%|██████████████████████████████████████████████████████████████████████████████████████████████████████████| 910/910 [00:27<00:00, 33.08it/s]\n"
     ]
    },
    {
     "name": "stdout",
     "output_type": "stream",
     "text": [
      "Epoch 175/512: Train Loss = 0.27028, Validation Loss = 0.28205, Train Accuracy = 0.79627, Validation Accuracy = 0.79970\n"
     ]
    },
    {
     "name": "stderr",
     "output_type": "stream",
     "text": [
      "Epoch 176/512: 100%|██████████████████████████████████████████████████████████████████████████████████████████████████████████| 910/910 [00:27<00:00, 33.28it/s]\n"
     ]
    },
    {
     "name": "stdout",
     "output_type": "stream",
     "text": [
      "Epoch 176/512: Train Loss = 0.27038, Validation Loss = 0.28625, Train Accuracy = 0.79635, Validation Accuracy = 0.79214\n"
     ]
    },
    {
     "name": "stderr",
     "output_type": "stream",
     "text": [
      "Epoch 177/512: 100%|██████████████████████████████████████████████████████████████████████████████████████████████████████████| 910/910 [00:27<00:00, 33.13it/s]\n"
     ]
    },
    {
     "name": "stdout",
     "output_type": "stream",
     "text": [
      "Epoch 177/512: Train Loss = 0.26933, Validation Loss = 0.28298, Train Accuracy = 0.79747, Validation Accuracy = 0.79887\n"
     ]
    },
    {
     "name": "stderr",
     "output_type": "stream",
     "text": [
      "Epoch 178/512: 100%|██████████████████████████████████████████████████████████████████████████████████████████████████████████| 910/910 [00:27<00:00, 33.46it/s]\n"
     ]
    },
    {
     "name": "stdout",
     "output_type": "stream",
     "text": [
      "Epoch 178/512: Train Loss = 0.26918, Validation Loss = 0.28821, Train Accuracy = 0.79836, Validation Accuracy = 0.80038\n"
     ]
    },
    {
     "name": "stderr",
     "output_type": "stream",
     "text": [
      "Epoch 179/512: 100%|██████████████████████████████████████████████████████████████████████████████████████████████████████████| 910/910 [00:27<00:00, 33.06it/s]\n"
     ]
    },
    {
     "name": "stdout",
     "output_type": "stream",
     "text": [
      "Epoch 179/512: Train Loss = 0.26755, Validation Loss = 0.29127, Train Accuracy = 0.79871, Validation Accuracy = 0.80217\n"
     ]
    },
    {
     "name": "stderr",
     "output_type": "stream",
     "text": [
      "Epoch 180/512: 100%|██████████████████████████████████████████████████████████████████████████████████████████████████████████| 910/910 [00:27<00:00, 33.25it/s]\n"
     ]
    },
    {
     "name": "stdout",
     "output_type": "stream",
     "text": [
      "Epoch 180/512: Train Loss = 0.26902, Validation Loss = 0.29405, Train Accuracy = 0.79850, Validation Accuracy = 0.79681\n"
     ]
    },
    {
     "name": "stderr",
     "output_type": "stream",
     "text": [
      "Epoch 181/512: 100%|██████████████████████████████████████████████████████████████████████████████████████████████████████████| 910/910 [00:27<00:00, 33.16it/s]\n"
     ]
    },
    {
     "name": "stdout",
     "output_type": "stream",
     "text": [
      "Epoch 181/512: Train Loss = 0.26658, Validation Loss = 0.28284, Train Accuracy = 0.79768, Validation Accuracy = 0.79764\n"
     ]
    },
    {
     "name": "stderr",
     "output_type": "stream",
     "text": [
      "Epoch 182/512: 100%|██████████████████████████████████████████████████████████████████████████████████████████████████████████| 910/910 [00:27<00:00, 33.08it/s]\n"
     ]
    },
    {
     "name": "stdout",
     "output_type": "stream",
     "text": [
      "Epoch 182/512: Train Loss = 0.26781, Validation Loss = 0.28732, Train Accuracy = 0.79915, Validation Accuracy = 0.79791\n"
     ]
    },
    {
     "name": "stderr",
     "output_type": "stream",
     "text": [
      "Epoch 183/512: 100%|██████████████████████████████████████████████████████████████████████████████████████████████████████████| 910/910 [00:27<00:00, 33.19it/s]\n"
     ]
    },
    {
     "name": "stdout",
     "output_type": "stream",
     "text": [
      "Epoch 183/512: Train Loss = 0.26664, Validation Loss = 0.29429, Train Accuracy = 0.79982, Validation Accuracy = 0.79131\n"
     ]
    },
    {
     "name": "stderr",
     "output_type": "stream",
     "text": [
      "Epoch 184/512: 100%|██████████████████████████████████████████████████████████████████████████████████████████████████████████| 910/910 [00:27<00:00, 33.38it/s]\n"
     ]
    },
    {
     "name": "stdout",
     "output_type": "stream",
     "text": [
      "Epoch 184/512: Train Loss = 0.26756, Validation Loss = 0.27512, Train Accuracy = 0.79941, Validation Accuracy = 0.79997\n"
     ]
    },
    {
     "name": "stderr",
     "output_type": "stream",
     "text": [
      "Epoch 185/512: 100%|██████████████████████████████████████████████████████████████████████████████████████████████████████████| 910/910 [00:27<00:00, 33.36it/s]\n"
     ]
    },
    {
     "name": "stdout",
     "output_type": "stream",
     "text": [
      "Epoch 185/512: Train Loss = 0.26817, Validation Loss = 0.28401, Train Accuracy = 0.79671, Validation Accuracy = 0.79750\n"
     ]
    },
    {
     "name": "stderr",
     "output_type": "stream",
     "text": [
      "Epoch 186/512: 100%|██████████████████████████████████████████████████████████████████████████████████████████████████████████| 910/910 [00:27<00:00, 33.22it/s]\n"
     ]
    },
    {
     "name": "stdout",
     "output_type": "stream",
     "text": [
      "Epoch 186/512: Train Loss = 0.26624, Validation Loss = 0.28588, Train Accuracy = 0.80056, Validation Accuracy = 0.79791\n"
     ]
    },
    {
     "name": "stderr",
     "output_type": "stream",
     "text": [
      "Epoch 187/512: 100%|██████████████████████████████████████████████████████████████████████████████████████████████████████████| 910/910 [00:27<00:00, 33.15it/s]\n"
     ]
    },
    {
     "name": "stdout",
     "output_type": "stream",
     "text": [
      "Epoch 187/512: Train Loss = 0.26462, Validation Loss = 0.29131, Train Accuracy = 0.80082, Validation Accuracy = 0.79640\n"
     ]
    },
    {
     "name": "stderr",
     "output_type": "stream",
     "text": [
      "Epoch 188/512: 100%|██████████████████████████████████████████████████████████████████████████████████████████████████████████| 910/910 [00:27<00:00, 33.14it/s]\n"
     ]
    },
    {
     "name": "stdout",
     "output_type": "stream",
     "text": [
      "Epoch 188/512: Train Loss = 0.26425, Validation Loss = 0.29070, Train Accuracy = 0.80082, Validation Accuracy = 0.79571\n"
     ]
    },
    {
     "name": "stderr",
     "output_type": "stream",
     "text": [
      "Epoch 189/512: 100%|██████████████████████████████████████████████████████████████████████████████████████████████████████████| 910/910 [00:27<00:00, 33.04it/s]\n"
     ]
    },
    {
     "name": "stdout",
     "output_type": "stream",
     "text": [
      "Epoch 189/512: Train Loss = 0.26640, Validation Loss = 0.29207, Train Accuracy = 0.79993, Validation Accuracy = 0.79819\n"
     ]
    },
    {
     "name": "stderr",
     "output_type": "stream",
     "text": [
      "Epoch 190/512: 100%|██████████████████████████████████████████████████████████████████████████████████████████████████████████| 910/910 [00:27<00:00, 33.12it/s]\n"
     ]
    },
    {
     "name": "stdout",
     "output_type": "stream",
     "text": [
      "Epoch 190/512: Train Loss = 0.26392, Validation Loss = 0.28817, Train Accuracy = 0.80139, Validation Accuracy = 0.79695\n"
     ]
    },
    {
     "name": "stderr",
     "output_type": "stream",
     "text": [
      "Epoch 191/512: 100%|██████████████████████████████████████████████████████████████████████████████████████████████████████████| 910/910 [00:27<00:00, 33.10it/s]\n"
     ]
    },
    {
     "name": "stdout",
     "output_type": "stream",
     "text": [
      "Epoch 191/512: Train Loss = 0.26449, Validation Loss = 0.28581, Train Accuracy = 0.80287, Validation Accuracy = 0.80011\n"
     ]
    },
    {
     "name": "stderr",
     "output_type": "stream",
     "text": [
      "Epoch 192/512: 100%|██████████████████████████████████████████████████████████████████████████████████████████████████████████| 910/910 [00:27<00:00, 33.05it/s]\n"
     ]
    },
    {
     "name": "stdout",
     "output_type": "stream",
     "text": [
      "Epoch 192/512: Train Loss = 0.26404, Validation Loss = 0.28278, Train Accuracy = 0.80092, Validation Accuracy = 0.80148\n"
     ]
    },
    {
     "name": "stderr",
     "output_type": "stream",
     "text": [
      "Epoch 193/512: 100%|██████████████████████████████████████████████████████████████████████████████████████████████████████████| 910/910 [00:27<00:00, 33.17it/s]\n"
     ]
    },
    {
     "name": "stdout",
     "output_type": "stream",
     "text": [
      "Epoch 193/512: Train Loss = 0.26409, Validation Loss = 0.28911, Train Accuracy = 0.80257, Validation Accuracy = 0.79571\n"
     ]
    },
    {
     "name": "stderr",
     "output_type": "stream",
     "text": [
      "Epoch 194/512: 100%|██████████████████████████████████████████████████████████████████████████████████████████████████████████| 910/910 [00:27<00:00, 33.04it/s]\n"
     ]
    },
    {
     "name": "stdout",
     "output_type": "stream",
     "text": [
      "Epoch 194/512: Train Loss = 0.26480, Validation Loss = 0.27254, Train Accuracy = 0.80070, Validation Accuracy = 0.80396\n"
     ]
    },
    {
     "name": "stderr",
     "output_type": "stream",
     "text": [
      "Epoch 195/512: 100%|██████████████████████████████████████████████████████████████████████████████████████████████████████████| 910/910 [00:27<00:00, 33.13it/s]\n"
     ]
    },
    {
     "name": "stdout",
     "output_type": "stream",
     "text": [
      "Epoch 195/512: Train Loss = 0.26499, Validation Loss = 0.28500, Train Accuracy = 0.79948, Validation Accuracy = 0.80107\n"
     ]
    },
    {
     "name": "stderr",
     "output_type": "stream",
     "text": [
      "Epoch 196/512: 100%|██████████████████████████████████████████████████████████████████████████████████████████████████████████| 910/910 [00:27<00:00, 33.42it/s]\n"
     ]
    },
    {
     "name": "stdout",
     "output_type": "stream",
     "text": [
      "Epoch 196/512: Train Loss = 0.26455, Validation Loss = 0.28745, Train Accuracy = 0.80111, Validation Accuracy = 0.79832\n"
     ]
    },
    {
     "name": "stderr",
     "output_type": "stream",
     "text": [
      "Epoch 197/512: 100%|██████████████████████████████████████████████████████████████████████████████████████████████████████████| 910/910 [00:27<00:00, 33.30it/s]\n"
     ]
    },
    {
     "name": "stdout",
     "output_type": "stream",
     "text": [
      "Epoch 197/512: Train Loss = 0.26308, Validation Loss = 0.28158, Train Accuracy = 0.80211, Validation Accuracy = 0.80080\n"
     ]
    },
    {
     "name": "stderr",
     "output_type": "stream",
     "text": [
      "Epoch 198/512: 100%|██████████████████████████████████████████████████████████████████████████████████████████████████████████| 910/910 [00:27<00:00, 33.36it/s]\n"
     ]
    },
    {
     "name": "stdout",
     "output_type": "stream",
     "text": [
      "Epoch 198/512: Train Loss = 0.26283, Validation Loss = 0.28364, Train Accuracy = 0.80252, Validation Accuracy = 0.80272\n"
     ]
    },
    {
     "name": "stderr",
     "output_type": "stream",
     "text": [
      "Epoch 199/512: 100%|██████████████████████████████████████████████████████████████████████████████████████████████████████████| 910/910 [00:27<00:00, 32.96it/s]\n"
     ]
    },
    {
     "name": "stdout",
     "output_type": "stream",
     "text": [
      "Epoch 199/512: Train Loss = 0.26245, Validation Loss = 0.28653, Train Accuracy = 0.80113, Validation Accuracy = 0.79750\n"
     ]
    },
    {
     "name": "stderr",
     "output_type": "stream",
     "text": [
      "Epoch 200/512: 100%|██████████████████████████████████████████████████████████████████████████████████████████████████████████| 910/910 [00:27<00:00, 33.21it/s]\n"
     ]
    },
    {
     "name": "stdout",
     "output_type": "stream",
     "text": [
      "Epoch 200/512: Train Loss = 0.26282, Validation Loss = 0.28689, Train Accuracy = 0.80225, Validation Accuracy = 0.79667\n"
     ]
    },
    {
     "name": "stderr",
     "output_type": "stream",
     "text": [
      "Epoch 201/512: 100%|██████████████████████████████████████████████████████████████████████████████████████████████████████████| 910/910 [00:27<00:00, 33.39it/s]\n"
     ]
    },
    {
     "name": "stdout",
     "output_type": "stream",
     "text": [
      "Epoch 201/512: Train Loss = 0.26220, Validation Loss = 0.28147, Train Accuracy = 0.80302, Validation Accuracy = 0.79956\n"
     ]
    },
    {
     "name": "stderr",
     "output_type": "stream",
     "text": [
      "Epoch 202/512: 100%|██████████████████████████████████████████████████████████████████████████████████████████████████████████| 910/910 [00:27<00:00, 32.86it/s]\n"
     ]
    },
    {
     "name": "stdout",
     "output_type": "stream",
     "text": [
      "Epoch 202/512: Train Loss = 0.26391, Validation Loss = 0.27500, Train Accuracy = 0.80070, Validation Accuracy = 0.80190\n"
     ]
    },
    {
     "name": "stderr",
     "output_type": "stream",
     "text": [
      "Epoch 203/512: 100%|██████████████████████████████████████████████████████████████████████████████████████████████████████████| 910/910 [00:27<00:00, 33.27it/s]\n"
     ]
    },
    {
     "name": "stdout",
     "output_type": "stream",
     "text": [
      "Epoch 203/512: Train Loss = 0.26313, Validation Loss = 0.28190, Train Accuracy = 0.80175, Validation Accuracy = 0.79984\n"
     ]
    },
    {
     "name": "stderr",
     "output_type": "stream",
     "text": [
      "Epoch 204/512: 100%|██████████████████████████████████████████████████████████████████████████████████████████████████████████| 910/910 [00:27<00:00, 33.11it/s]\n"
     ]
    },
    {
     "name": "stdout",
     "output_type": "stream",
     "text": [
      "Epoch 204/512: Train Loss = 0.26087, Validation Loss = 0.29186, Train Accuracy = 0.80287, Validation Accuracy = 0.79406\n"
     ]
    },
    {
     "name": "stderr",
     "output_type": "stream",
     "text": [
      "Epoch 205/512: 100%|██████████████████████████████████████████████████████████████████████████████████████████████████████████| 910/910 [00:27<00:00, 33.17it/s]\n"
     ]
    },
    {
     "name": "stdout",
     "output_type": "stream",
     "text": [
      "Epoch 205/512: Train Loss = 0.26184, Validation Loss = 0.28815, Train Accuracy = 0.80414, Validation Accuracy = 0.79626\n"
     ]
    },
    {
     "name": "stderr",
     "output_type": "stream",
     "text": [
      "Epoch 206/512: 100%|██████████████████████████████████████████████████████████████████████████████████████████████████████████| 910/910 [00:27<00:00, 33.15it/s]\n"
     ]
    },
    {
     "name": "stdout",
     "output_type": "stream",
     "text": [
      "Epoch 206/512: Train Loss = 0.26143, Validation Loss = 0.27542, Train Accuracy = 0.80165, Validation Accuracy = 0.80327\n"
     ]
    },
    {
     "name": "stderr",
     "output_type": "stream",
     "text": [
      "Epoch 207/512: 100%|██████████████████████████████████████████████████████████████████████████████████████████████████████████| 910/910 [00:27<00:00, 32.98it/s]\n"
     ]
    },
    {
     "name": "stdout",
     "output_type": "stream",
     "text": [
      "Epoch 207/512: Train Loss = 0.26097, Validation Loss = 0.28914, Train Accuracy = 0.80419, Validation Accuracy = 0.80217\n"
     ]
    },
    {
     "name": "stderr",
     "output_type": "stream",
     "text": [
      "Epoch 208/512: 100%|██████████████████████████████████████████████████████████████████████████████████████████████████████████| 910/910 [00:27<00:00, 33.31it/s]\n"
     ]
    },
    {
     "name": "stdout",
     "output_type": "stream",
     "text": [
      "Epoch 208/512: Train Loss = 0.26091, Validation Loss = 0.28368, Train Accuracy = 0.80237, Validation Accuracy = 0.80341\n"
     ]
    },
    {
     "name": "stderr",
     "output_type": "stream",
     "text": [
      "Epoch 209/512: 100%|██████████████████████████████████████████████████████████████████████████████████████████████████████████| 910/910 [00:27<00:00, 33.22it/s]\n"
     ]
    },
    {
     "name": "stdout",
     "output_type": "stream",
     "text": [
      "Epoch 209/512: Train Loss = 0.26026, Validation Loss = 0.27483, Train Accuracy = 0.80462, Validation Accuracy = 0.80671\n"
     ]
    },
    {
     "name": "stderr",
     "output_type": "stream",
     "text": [
      "Epoch 210/512: 100%|██████████████████████████████████████████████████████████████████████████████████████████████████████████| 910/910 [00:27<00:00, 33.27it/s]\n"
     ]
    },
    {
     "name": "stdout",
     "output_type": "stream",
     "text": [
      "Epoch 210/512: Train Loss = 0.26110, Validation Loss = 0.29939, Train Accuracy = 0.80385, Validation Accuracy = 0.79640\n"
     ]
    },
    {
     "name": "stderr",
     "output_type": "stream",
     "text": [
      "Epoch 211/512: 100%|██████████████████████████████████████████████████████████████████████████████████████████████████████████| 910/910 [00:27<00:00, 33.35it/s]\n"
     ]
    },
    {
     "name": "stdout",
     "output_type": "stream",
     "text": [
      "Epoch 211/512: Train Loss = 0.26023, Validation Loss = 0.28408, Train Accuracy = 0.80391, Validation Accuracy = 0.79832\n"
     ]
    },
    {
     "name": "stderr",
     "output_type": "stream",
     "text": [
      "Epoch 212/512: 100%|██████████████████████████████████████████████████████████████████████████████████████████████████████████| 910/910 [00:27<00:00, 32.99it/s]\n"
     ]
    },
    {
     "name": "stdout",
     "output_type": "stream",
     "text": [
      "Epoch 212/512: Train Loss = 0.26012, Validation Loss = 0.28142, Train Accuracy = 0.80409, Validation Accuracy = 0.80231\n"
     ]
    },
    {
     "name": "stderr",
     "output_type": "stream",
     "text": [
      "Epoch 213/512: 100%|██████████████████████████████████████████████████████████████████████████████████████████████████████████| 910/910 [00:27<00:00, 33.04it/s]\n"
     ]
    },
    {
     "name": "stdout",
     "output_type": "stream",
     "text": [
      "Epoch 213/512: Train Loss = 0.26103, Validation Loss = 0.27089, Train Accuracy = 0.80335, Validation Accuracy = 0.80726\n"
     ]
    },
    {
     "name": "stderr",
     "output_type": "stream",
     "text": [
      "Epoch 214/512: 100%|██████████████████████████████████████████████████████████████████████████████████████████████████████████| 910/910 [00:27<00:00, 33.10it/s]\n"
     ]
    },
    {
     "name": "stdout",
     "output_type": "stream",
     "text": [
      "Epoch 214/512: Train Loss = 0.25960, Validation Loss = 0.27812, Train Accuracy = 0.80281, Validation Accuracy = 0.80300\n"
     ]
    },
    {
     "name": "stderr",
     "output_type": "stream",
     "text": [
      "Epoch 215/512: 100%|██████████████████████████████████████████████████████████████████████████████████████████████████████████| 910/910 [00:27<00:00, 32.91it/s]\n"
     ]
    },
    {
     "name": "stdout",
     "output_type": "stream",
     "text": [
      "Epoch 215/512: Train Loss = 0.25871, Validation Loss = 0.28617, Train Accuracy = 0.80331, Validation Accuracy = 0.80602\n"
     ]
    },
    {
     "name": "stderr",
     "output_type": "stream",
     "text": [
      "Epoch 216/512: 100%|██████████████████████████████████████████████████████████████████████████████████████████████████████████| 910/910 [00:27<00:00, 33.09it/s]\n"
     ]
    },
    {
     "name": "stdout",
     "output_type": "stream",
     "text": [
      "Epoch 216/512: Train Loss = 0.25878, Validation Loss = 0.28577, Train Accuracy = 0.80321, Validation Accuracy = 0.79832\n"
     ]
    },
    {
     "name": "stderr",
     "output_type": "stream",
     "text": [
      "Epoch 217/512: 100%|██████████████████████████████████████████████████████████████████████████████████████████████████████████| 910/910 [00:27<00:00, 33.20it/s]\n"
     ]
    },
    {
     "name": "stdout",
     "output_type": "stream",
     "text": [
      "Epoch 217/512: Train Loss = 0.25790, Validation Loss = 0.27611, Train Accuracy = 0.80421, Validation Accuracy = 0.80286\n"
     ]
    },
    {
     "name": "stderr",
     "output_type": "stream",
     "text": [
      "Epoch 218/512: 100%|██████████████████████████████████████████████████████████████████████████████████████████████████████████| 910/910 [00:27<00:00, 32.97it/s]\n"
     ]
    },
    {
     "name": "stdout",
     "output_type": "stream",
     "text": [
      "Epoch 218/512: Train Loss = 0.25903, Validation Loss = 0.29256, Train Accuracy = 0.80376, Validation Accuracy = 0.78829\n"
     ]
    },
    {
     "name": "stderr",
     "output_type": "stream",
     "text": [
      "Epoch 219/512: 100%|██████████████████████████████████████████████████████████████████████████████████████████████████████████| 910/910 [00:27<00:00, 33.27it/s]\n"
     ]
    },
    {
     "name": "stdout",
     "output_type": "stream",
     "text": [
      "Epoch 219/512: Train Loss = 0.25863, Validation Loss = 0.29096, Train Accuracy = 0.80452, Validation Accuracy = 0.79887\n"
     ]
    },
    {
     "name": "stderr",
     "output_type": "stream",
     "text": [
      "Epoch 220/512: 100%|██████████████████████████████████████████████████████████████████████████████████████████████████████████| 910/910 [00:27<00:00, 33.08it/s]\n"
     ]
    },
    {
     "name": "stdout",
     "output_type": "stream",
     "text": [
      "Epoch 220/512: Train Loss = 0.25918, Validation Loss = 0.27510, Train Accuracy = 0.80424, Validation Accuracy = 0.80327\n"
     ]
    },
    {
     "name": "stderr",
     "output_type": "stream",
     "text": [
      "Epoch 221/512: 100%|██████████████████████████████████████████████████████████████████████████████████████████████████████████| 910/910 [00:27<00:00, 33.53it/s]\n"
     ]
    },
    {
     "name": "stdout",
     "output_type": "stream",
     "text": [
      "Epoch 221/512: Train Loss = 0.25640, Validation Loss = 0.29146, Train Accuracy = 0.80589, Validation Accuracy = 0.79544\n"
     ]
    },
    {
     "name": "stderr",
     "output_type": "stream",
     "text": [
      "Epoch 222/512: 100%|██████████████████████████████████████████████████████████████████████████████████████████████████████████| 910/910 [00:27<00:00, 33.34it/s]\n"
     ]
    },
    {
     "name": "stdout",
     "output_type": "stream",
     "text": [
      "Epoch 222/512: Train Loss = 0.25786, Validation Loss = 0.28374, Train Accuracy = 0.80434, Validation Accuracy = 0.79832\n"
     ]
    },
    {
     "name": "stderr",
     "output_type": "stream",
     "text": [
      "Epoch 223/512: 100%|██████████████████████████████████████████████████████████████████████████████████████████████████████████| 910/910 [00:27<00:00, 33.24it/s]\n"
     ]
    },
    {
     "name": "stdout",
     "output_type": "stream",
     "text": [
      "Epoch 223/512: Train Loss = 0.25850, Validation Loss = 0.28080, Train Accuracy = 0.80459, Validation Accuracy = 0.79956\n"
     ]
    },
    {
     "name": "stderr",
     "output_type": "stream",
     "text": [
      "Epoch 224/512: 100%|██████████████████████████████████████████████████████████████████████████████████████████████████████████| 910/910 [00:27<00:00, 33.33it/s]\n"
     ]
    },
    {
     "name": "stdout",
     "output_type": "stream",
     "text": [
      "Epoch 224/512: Train Loss = 0.25708, Validation Loss = 0.27891, Train Accuracy = 0.80520, Validation Accuracy = 0.80190\n"
     ]
    },
    {
     "name": "stderr",
     "output_type": "stream",
     "text": [
      "Epoch 225/512: 100%|██████████████████████████████████████████████████████████████████████████████████████████████████████████| 910/910 [00:27<00:00, 33.09it/s]\n"
     ]
    },
    {
     "name": "stdout",
     "output_type": "stream",
     "text": [
      "Epoch 225/512: Train Loss = 0.25644, Validation Loss = 0.28807, Train Accuracy = 0.80402, Validation Accuracy = 0.79970\n"
     ]
    },
    {
     "name": "stderr",
     "output_type": "stream",
     "text": [
      "Epoch 226/512: 100%|██████████████████████████████████████████████████████████████████████████████████████████████████████████| 910/910 [00:27<00:00, 33.17it/s]\n"
     ]
    },
    {
     "name": "stdout",
     "output_type": "stream",
     "text": [
      "Epoch 226/512: Train Loss = 0.25829, Validation Loss = 0.27985, Train Accuracy = 0.80440, Validation Accuracy = 0.80038\n"
     ]
    },
    {
     "name": "stderr",
     "output_type": "stream",
     "text": [
      "Epoch 227/512: 100%|██████████████████████████████████████████████████████████████████████████████████████████████████████████| 910/910 [00:27<00:00, 33.04it/s]\n"
     ]
    },
    {
     "name": "stdout",
     "output_type": "stream",
     "text": [
      "Epoch 227/512: Train Loss = 0.25680, Validation Loss = 0.29556, Train Accuracy = 0.80431, Validation Accuracy = 0.79929\n"
     ]
    },
    {
     "name": "stderr",
     "output_type": "stream",
     "text": [
      "Epoch 228/512: 100%|██████████████████████████████████████████████████████████████████████████████████████████████████████████| 910/910 [00:27<00:00, 33.07it/s]\n"
     ]
    },
    {
     "name": "stdout",
     "output_type": "stream",
     "text": [
      "Epoch 228/512: Train Loss = 0.25574, Validation Loss = 0.28691, Train Accuracy = 0.80455, Validation Accuracy = 0.79887\n"
     ]
    },
    {
     "name": "stderr",
     "output_type": "stream",
     "text": [
      "Epoch 229/512: 100%|██████████████████████████████████████████████████████████████████████████████████████████████████████████| 910/910 [00:27<00:00, 33.26it/s]\n"
     ]
    },
    {
     "name": "stdout",
     "output_type": "stream",
     "text": [
      "Epoch 229/512: Train Loss = 0.25721, Validation Loss = 0.29508, Train Accuracy = 0.80412, Validation Accuracy = 0.79447\n"
     ]
    },
    {
     "name": "stderr",
     "output_type": "stream",
     "text": [
      "Epoch 230/512: 100%|██████████████████████████████████████████████████████████████████████████████████████████████████████████| 910/910 [00:27<00:00, 33.28it/s]\n"
     ]
    },
    {
     "name": "stdout",
     "output_type": "stream",
     "text": [
      "Epoch 230/512: Train Loss = 0.25639, Validation Loss = 0.29119, Train Accuracy = 0.80536, Validation Accuracy = 0.79709\n"
     ]
    },
    {
     "name": "stderr",
     "output_type": "stream",
     "text": [
      "Epoch 231/512: 100%|██████████████████████████████████████████████████████████████████████████████████████████████████████████| 910/910 [00:27<00:00, 33.27it/s]\n"
     ]
    },
    {
     "name": "stdout",
     "output_type": "stream",
     "text": [
      "Epoch 231/512: Train Loss = 0.25512, Validation Loss = 0.28298, Train Accuracy = 0.80737, Validation Accuracy = 0.80575\n"
     ]
    },
    {
     "name": "stderr",
     "output_type": "stream",
     "text": [
      "Epoch 232/512: 100%|██████████████████████████████████████████████████████████████████████████████████████████████████████████| 910/910 [00:27<00:00, 33.13it/s]\n"
     ]
    },
    {
     "name": "stdout",
     "output_type": "stream",
     "text": [
      "Epoch 232/512: Train Loss = 0.25571, Validation Loss = 0.27363, Train Accuracy = 0.80483, Validation Accuracy = 0.80286\n"
     ]
    },
    {
     "name": "stderr",
     "output_type": "stream",
     "text": [
      "Epoch 233/512: 100%|██████████████████████████████████████████████████████████████████████████████████████████████████████████| 910/910 [00:27<00:00, 33.30it/s]\n"
     ]
    },
    {
     "name": "stdout",
     "output_type": "stream",
     "text": [
      "Epoch 233/512: Train Loss = 0.25557, Validation Loss = 0.28229, Train Accuracy = 0.80642, Validation Accuracy = 0.80355\n"
     ]
    },
    {
     "name": "stderr",
     "output_type": "stream",
     "text": [
      "Epoch 234/512: 100%|██████████████████████████████████████████████████████████████████████████████████████████████████████████| 910/910 [00:27<00:00, 33.10it/s]\n"
     ]
    },
    {
     "name": "stdout",
     "output_type": "stream",
     "text": [
      "Epoch 234/512: Train Loss = 0.25534, Validation Loss = 0.28316, Train Accuracy = 0.80644, Validation Accuracy = 0.80107\n"
     ]
    },
    {
     "name": "stderr",
     "output_type": "stream",
     "text": [
      "Epoch 235/512: 100%|██████████████████████████████████████████████████████████████████████████████████████████████████████████| 910/910 [00:27<00:00, 33.31it/s]\n"
     ]
    },
    {
     "name": "stdout",
     "output_type": "stream",
     "text": [
      "Epoch 235/512: Train Loss = 0.25614, Validation Loss = 0.27663, Train Accuracy = 0.80685, Validation Accuracy = 0.80602\n"
     ]
    },
    {
     "name": "stderr",
     "output_type": "stream",
     "text": [
      "Epoch 236/512: 100%|██████████████████████████████████████████████████████████████████████████████████████████████████████████| 910/910 [00:27<00:00, 33.29it/s]\n"
     ]
    },
    {
     "name": "stdout",
     "output_type": "stream",
     "text": [
      "Epoch 236/512: Train Loss = 0.25552, Validation Loss = 0.27866, Train Accuracy = 0.80663, Validation Accuracy = 0.80203\n"
     ]
    },
    {
     "name": "stderr",
     "output_type": "stream",
     "text": [
      "Epoch 237/512: 100%|██████████████████████████████████████████████████████████████████████████████████████████████████████████| 910/910 [00:27<00:00, 33.24it/s]\n"
     ]
    },
    {
     "name": "stdout",
     "output_type": "stream",
     "text": [
      "Epoch 237/512: Train Loss = 0.25450, Validation Loss = 0.28522, Train Accuracy = 0.80742, Validation Accuracy = 0.79585\n"
     ]
    },
    {
     "name": "stderr",
     "output_type": "stream",
     "text": [
      "Epoch 238/512: 100%|██████████████████████████████████████████████████████████████████████████████████████████████████████████| 910/910 [00:27<00:00, 33.25it/s]\n"
     ]
    },
    {
     "name": "stdout",
     "output_type": "stream",
     "text": [
      "Epoch 238/512: Train Loss = 0.25444, Validation Loss = 0.28924, Train Accuracy = 0.80644, Validation Accuracy = 0.80025\n"
     ]
    },
    {
     "name": "stderr",
     "output_type": "stream",
     "text": [
      "Epoch 239/512: 100%|██████████████████████████████████████████████████████████████████████████████████████████████████████████| 910/910 [00:27<00:00, 33.27it/s]\n"
     ]
    },
    {
     "name": "stdout",
     "output_type": "stream",
     "text": [
      "Epoch 239/512: Train Loss = 0.25458, Validation Loss = 0.28699, Train Accuracy = 0.80608, Validation Accuracy = 0.79956\n"
     ]
    },
    {
     "name": "stderr",
     "output_type": "stream",
     "text": [
      "Epoch 240/512: 100%|██████████████████████████████████████████████████████████████████████████████████████████████████████████| 910/910 [00:27<00:00, 33.16it/s]\n"
     ]
    },
    {
     "name": "stdout",
     "output_type": "stream",
     "text": [
      "Epoch 240/512: Train Loss = 0.25332, Validation Loss = 0.27589, Train Accuracy = 0.80661, Validation Accuracy = 0.80176\n"
     ]
    },
    {
     "name": "stderr",
     "output_type": "stream",
     "text": [
      "Epoch 241/512: 100%|██████████████████████████████████████████████████████████████████████████████████████████████████████████| 910/910 [00:27<00:00, 32.97it/s]\n"
     ]
    },
    {
     "name": "stdout",
     "output_type": "stream",
     "text": [
      "Epoch 241/512: Train Loss = 0.25443, Validation Loss = 0.29669, Train Accuracy = 0.80696, Validation Accuracy = 0.78994\n"
     ]
    },
    {
     "name": "stderr",
     "output_type": "stream",
     "text": [
      "Epoch 242/512: 100%|██████████████████████████████████████████████████████████████████████████████████████████████████████████| 910/910 [00:27<00:00, 33.42it/s]\n"
     ]
    },
    {
     "name": "stdout",
     "output_type": "stream",
     "text": [
      "Epoch 242/512: Train Loss = 0.25240, Validation Loss = 0.28992, Train Accuracy = 0.80754, Validation Accuracy = 0.79434\n"
     ]
    },
    {
     "name": "stderr",
     "output_type": "stream",
     "text": [
      "Epoch 243/512: 100%|██████████████████████████████████████████████████████████████████████████████████████████████████████████| 910/910 [00:27<00:00, 33.06it/s]\n"
     ]
    },
    {
     "name": "stdout",
     "output_type": "stream",
     "text": [
      "Epoch 243/512: Train Loss = 0.25288, Validation Loss = 0.27457, Train Accuracy = 0.80754, Validation Accuracy = 0.80382\n"
     ]
    },
    {
     "name": "stderr",
     "output_type": "stream",
     "text": [
      "Epoch 244/512: 100%|██████████████████████████████████████████████████████████████████████████████████████████████████████████| 910/910 [00:27<00:00, 33.13it/s]\n"
     ]
    },
    {
     "name": "stdout",
     "output_type": "stream",
     "text": [
      "Epoch 244/512: Train Loss = 0.25359, Validation Loss = 0.27775, Train Accuracy = 0.80524, Validation Accuracy = 0.80423\n"
     ]
    },
    {
     "name": "stderr",
     "output_type": "stream",
     "text": [
      "Epoch 245/512: 100%|██████████████████████████████████████████████████████████████████████████████████████████████████████████| 910/910 [00:27<00:00, 32.92it/s]\n"
     ]
    },
    {
     "name": "stdout",
     "output_type": "stream",
     "text": [
      "Epoch 245/512: Train Loss = 0.25111, Validation Loss = 0.28883, Train Accuracy = 0.80883, Validation Accuracy = 0.80135\n"
     ]
    },
    {
     "name": "stderr",
     "output_type": "stream",
     "text": [
      "Epoch 246/512: 100%|██████████████████████████████████████████████████████████████████████████████████████████████████████████| 910/910 [00:27<00:00, 33.17it/s]\n"
     ]
    },
    {
     "name": "stdout",
     "output_type": "stream",
     "text": [
      "Epoch 246/512: Train Loss = 0.25237, Validation Loss = 0.28300, Train Accuracy = 0.80835, Validation Accuracy = 0.80547\n"
     ]
    },
    {
     "name": "stderr",
     "output_type": "stream",
     "text": [
      "Epoch 247/512: 100%|██████████████████████████████████████████████████████████████████████████████████████████████████████████| 910/910 [00:27<00:00, 33.33it/s]\n"
     ]
    },
    {
     "name": "stdout",
     "output_type": "stream",
     "text": [
      "Epoch 247/512: Train Loss = 0.25275, Validation Loss = 0.28482, Train Accuracy = 0.80847, Validation Accuracy = 0.80176\n"
     ]
    },
    {
     "name": "stderr",
     "output_type": "stream",
     "text": [
      "Epoch 248/512: 100%|██████████████████████████████████████████████████████████████████████████████████████████████████████████| 910/910 [00:27<00:00, 33.46it/s]\n"
     ]
    },
    {
     "name": "stdout",
     "output_type": "stream",
     "text": [
      "Epoch 248/512: Train Loss = 0.25199, Validation Loss = 0.27117, Train Accuracy = 0.80744, Validation Accuracy = 0.80643\n"
     ]
    },
    {
     "name": "stderr",
     "output_type": "stream",
     "text": [
      "Epoch 249/512: 100%|██████████████████████████████████████████████████████████████████████████████████████████████████████████| 910/910 [00:27<00:00, 33.14it/s]\n"
     ]
    },
    {
     "name": "stdout",
     "output_type": "stream",
     "text": [
      "Epoch 249/512: Train Loss = 0.25011, Validation Loss = 0.27344, Train Accuracy = 0.80910, Validation Accuracy = 0.80327\n"
     ]
    },
    {
     "name": "stderr",
     "output_type": "stream",
     "text": [
      "Epoch 250/512: 100%|██████████████████████████████████████████████████████████████████████████████████████████████████████████| 910/910 [00:27<00:00, 33.08it/s]\n"
     ]
    },
    {
     "name": "stdout",
     "output_type": "stream",
     "text": [
      "Epoch 250/512: Train Loss = 0.25311, Validation Loss = 0.27395, Train Accuracy = 0.80565, Validation Accuracy = 0.80506\n"
     ]
    },
    {
     "name": "stderr",
     "output_type": "stream",
     "text": [
      "Epoch 251/512: 100%|██████████████████████████████████████████████████████████████████████████████████████████████████████████| 910/910 [00:27<00:00, 33.21it/s]\n"
     ]
    },
    {
     "name": "stdout",
     "output_type": "stream",
     "text": [
      "Epoch 251/512: Train Loss = 0.25211, Validation Loss = 0.27238, Train Accuracy = 0.80699, Validation Accuracy = 0.80327\n"
     ]
    },
    {
     "name": "stderr",
     "output_type": "stream",
     "text": [
      "Epoch 252/512: 100%|██████████████████████████████████████████████████████████████████████████████████████████████████████████| 910/910 [00:27<00:00, 33.55it/s]\n"
     ]
    },
    {
     "name": "stdout",
     "output_type": "stream",
     "text": [
      "Epoch 252/512: Train Loss = 0.25134, Validation Loss = 0.27845, Train Accuracy = 0.80727, Validation Accuracy = 0.80740\n"
     ]
    },
    {
     "name": "stderr",
     "output_type": "stream",
     "text": [
      "Epoch 253/512: 100%|██████████████████████████████████████████████████████████████████████████████████████████████████████████| 910/910 [00:27<00:00, 33.25it/s]\n"
     ]
    },
    {
     "name": "stdout",
     "output_type": "stream",
     "text": [
      "Epoch 253/512: Train Loss = 0.25189, Validation Loss = 0.28777, Train Accuracy = 0.80819, Validation Accuracy = 0.80602\n"
     ]
    },
    {
     "name": "stderr",
     "output_type": "stream",
     "text": [
      "Epoch 254/512: 100%|██████████████████████████████████████████████████████████████████████████████████████████████████████████| 910/910 [00:27<00:00, 32.83it/s]\n"
     ]
    },
    {
     "name": "stdout",
     "output_type": "stream",
     "text": [
      "Epoch 254/512: Train Loss = 0.25153, Validation Loss = 0.28063, Train Accuracy = 0.80746, Validation Accuracy = 0.80712\n"
     ]
    },
    {
     "name": "stderr",
     "output_type": "stream",
     "text": [
      "Epoch 255/512: 100%|██████████████████████████████████████████████████████████████████████████████████████████████████████████| 910/910 [00:27<00:00, 33.08it/s]\n"
     ]
    },
    {
     "name": "stdout",
     "output_type": "stream",
     "text": [
      "Epoch 255/512: Train Loss = 0.24947, Validation Loss = 0.26986, Train Accuracy = 0.80978, Validation Accuracy = 0.80877\n"
     ]
    },
    {
     "name": "stderr",
     "output_type": "stream",
     "text": [
      "Epoch 256/512: 100%|██████████████████████████████████████████████████████████████████████████████████████████████████████████| 910/910 [00:27<00:00, 33.38it/s]\n"
     ]
    },
    {
     "name": "stdout",
     "output_type": "stream",
     "text": [
      "Epoch 256/512: Train Loss = 0.25090, Validation Loss = 0.27868, Train Accuracy = 0.80749, Validation Accuracy = 0.80313\n"
     ]
    },
    {
     "name": "stderr",
     "output_type": "stream",
     "text": [
      "Epoch 257/512: 100%|██████████████████████████████████████████████████████████████████████████████████████████████████████████| 910/910 [00:27<00:00, 33.50it/s]\n"
     ]
    },
    {
     "name": "stdout",
     "output_type": "stream",
     "text": [
      "Epoch 257/512: Train Loss = 0.25121, Validation Loss = 0.27984, Train Accuracy = 0.80711, Validation Accuracy = 0.80313\n"
     ]
    },
    {
     "name": "stderr",
     "output_type": "stream",
     "text": [
      "Epoch 258/512: 100%|██████████████████████████████████████████████████████████████████████████████████████████████████████████| 910/910 [00:27<00:00, 33.26it/s]\n"
     ]
    },
    {
     "name": "stdout",
     "output_type": "stream",
     "text": [
      "Epoch 258/512: Train Loss = 0.25026, Validation Loss = 0.28123, Train Accuracy = 0.80907, Validation Accuracy = 0.80478\n"
     ]
    },
    {
     "name": "stderr",
     "output_type": "stream",
     "text": [
      "Epoch 259/512: 100%|██████████████████████████████████████████████████████████████████████████████████████████████████████████| 910/910 [00:27<00:00, 33.30it/s]\n"
     ]
    },
    {
     "name": "stdout",
     "output_type": "stream",
     "text": [
      "Epoch 259/512: Train Loss = 0.24942, Validation Loss = 0.27728, Train Accuracy = 0.80993, Validation Accuracy = 0.80671\n"
     ]
    },
    {
     "name": "stderr",
     "output_type": "stream",
     "text": [
      "Epoch 260/512: 100%|██████████████████████████████████████████████████████████████████████████████████████████████████████████| 910/910 [00:27<00:00, 32.97it/s]\n"
     ]
    },
    {
     "name": "stdout",
     "output_type": "stream",
     "text": [
      "Epoch 260/512: Train Loss = 0.25002, Validation Loss = 0.28132, Train Accuracy = 0.80658, Validation Accuracy = 0.80465\n"
     ]
    },
    {
     "name": "stderr",
     "output_type": "stream",
     "text": [
      "Epoch 261/512: 100%|██████████████████████████████████████████████████████████████████████████████████████████████████████████| 910/910 [00:27<00:00, 33.50it/s]\n"
     ]
    },
    {
     "name": "stdout",
     "output_type": "stream",
     "text": [
      "Epoch 261/512: Train Loss = 0.25027, Validation Loss = 0.27686, Train Accuracy = 0.80809, Validation Accuracy = 0.80506\n"
     ]
    },
    {
     "name": "stderr",
     "output_type": "stream",
     "text": [
      "Epoch 262/512: 100%|██████████████████████████████████████████████████████████████████████████████████████████████████████████| 910/910 [00:27<00:00, 33.23it/s]\n"
     ]
    },
    {
     "name": "stdout",
     "output_type": "stream",
     "text": [
      "Epoch 262/512: Train Loss = 0.24925, Validation Loss = 0.27915, Train Accuracy = 0.80923, Validation Accuracy = 0.80327\n"
     ]
    },
    {
     "name": "stderr",
     "output_type": "stream",
     "text": [
      "Epoch 263/512: 100%|██████████████████████████████████████████████████████████████████████████████████████████████████████████| 910/910 [00:27<00:00, 33.20it/s]\n"
     ]
    },
    {
     "name": "stdout",
     "output_type": "stream",
     "text": [
      "Epoch 263/512: Train Loss = 0.24868, Validation Loss = 0.27851, Train Accuracy = 0.80967, Validation Accuracy = 0.80698\n"
     ]
    },
    {
     "name": "stderr",
     "output_type": "stream",
     "text": [
      "Epoch 264/512: 100%|██████████████████████████████████████████████████████████████████████████████████████████████████████████| 910/910 [00:27<00:00, 33.26it/s]\n"
     ]
    },
    {
     "name": "stdout",
     "output_type": "stream",
     "text": [
      "Epoch 264/512: Train Loss = 0.25016, Validation Loss = 0.28200, Train Accuracy = 0.80957, Validation Accuracy = 0.79599\n"
     ]
    },
    {
     "name": "stderr",
     "output_type": "stream",
     "text": [
      "Epoch 265/512: 100%|██████████████████████████████████████████████████████████████████████████████████████████████████████████| 910/910 [00:27<00:00, 33.15it/s]\n"
     ]
    },
    {
     "name": "stdout",
     "output_type": "stream",
     "text": [
      "Epoch 265/512: Train Loss = 0.25006, Validation Loss = 0.27834, Train Accuracy = 0.80888, Validation Accuracy = 0.80561\n"
     ]
    },
    {
     "name": "stderr",
     "output_type": "stream",
     "text": [
      "Epoch 266/512: 100%|██████████████████████████████████████████████████████████████████████████████████████████████████████████| 910/910 [00:27<00:00, 33.37it/s]\n"
     ]
    },
    {
     "name": "stdout",
     "output_type": "stream",
     "text": [
      "Epoch 266/512: Train Loss = 0.24863, Validation Loss = 0.28740, Train Accuracy = 0.80869, Validation Accuracy = 0.80547\n"
     ]
    },
    {
     "name": "stderr",
     "output_type": "stream",
     "text": [
      "Epoch 267/512: 100%|██████████████████████████████████████████████████████████████████████████████████████████████████████████| 910/910 [00:27<00:00, 33.07it/s]\n"
     ]
    },
    {
     "name": "stdout",
     "output_type": "stream",
     "text": [
      "Epoch 267/512: Train Loss = 0.24914, Validation Loss = 0.28811, Train Accuracy = 0.81182, Validation Accuracy = 0.79626\n"
     ]
    },
    {
     "name": "stderr",
     "output_type": "stream",
     "text": [
      "Epoch 268/512: 100%|██████████████████████████████████████████████████████████████████████████████████████████████████████████| 910/910 [00:27<00:00, 33.43it/s]\n"
     ]
    },
    {
     "name": "stdout",
     "output_type": "stream",
     "text": [
      "Epoch 268/512: Train Loss = 0.24981, Validation Loss = 0.27691, Train Accuracy = 0.80907, Validation Accuracy = 0.80753\n"
     ]
    },
    {
     "name": "stderr",
     "output_type": "stream",
     "text": [
      "Epoch 269/512: 100%|██████████████████████████████████████████████████████████████████████████████████████████████████████████| 910/910 [00:27<00:00, 33.28it/s]\n"
     ]
    },
    {
     "name": "stdout",
     "output_type": "stream",
     "text": [
      "Epoch 269/512: Train Loss = 0.24866, Validation Loss = 0.27627, Train Accuracy = 0.80919, Validation Accuracy = 0.80822\n"
     ]
    },
    {
     "name": "stderr",
     "output_type": "stream",
     "text": [
      "Epoch 270/512: 100%|██████████████████████████████████████████████████████████████████████████████████████████████████████████| 910/910 [00:27<00:00, 33.32it/s]\n"
     ]
    },
    {
     "name": "stdout",
     "output_type": "stream",
     "text": [
      "Epoch 270/512: Train Loss = 0.24932, Validation Loss = 0.27760, Train Accuracy = 0.80943, Validation Accuracy = 0.80795\n"
     ]
    },
    {
     "name": "stderr",
     "output_type": "stream",
     "text": [
      "Epoch 271/512: 100%|██████████████████████████████████████████████████████████████████████████████████████████████████████████| 910/910 [00:27<00:00, 33.01it/s]\n"
     ]
    },
    {
     "name": "stdout",
     "output_type": "stream",
     "text": [
      "Epoch 271/512: Train Loss = 0.24810, Validation Loss = 0.27836, Train Accuracy = 0.80923, Validation Accuracy = 0.80671\n"
     ]
    },
    {
     "name": "stderr",
     "output_type": "stream",
     "text": [
      "Epoch 272/512: 100%|██████████████████████████████████████████████████████████████████████████████████████████████████████████| 910/910 [00:27<00:00, 33.14it/s]\n"
     ]
    },
    {
     "name": "stdout",
     "output_type": "stream",
     "text": [
      "Epoch 272/512: Train Loss = 0.24771, Validation Loss = 0.27303, Train Accuracy = 0.81148, Validation Accuracy = 0.80712\n"
     ]
    },
    {
     "name": "stderr",
     "output_type": "stream",
     "text": [
      "Epoch 273/512: 100%|██████████████████████████████████████████████████████████████████████████████████████████████████████████| 910/910 [00:27<00:00, 33.24it/s]\n"
     ]
    },
    {
     "name": "stdout",
     "output_type": "stream",
     "text": [
      "Epoch 273/512: Train Loss = 0.24809, Validation Loss = 0.27365, Train Accuracy = 0.80919, Validation Accuracy = 0.80657\n"
     ]
    },
    {
     "name": "stderr",
     "output_type": "stream",
     "text": [
      "Epoch 274/512: 100%|██████████████████████████████████████████████████████████████████████████████████████████████████████████| 910/910 [00:27<00:00, 33.15it/s]\n"
     ]
    },
    {
     "name": "stdout",
     "output_type": "stream",
     "text": [
      "Epoch 274/512: Train Loss = 0.24834, Validation Loss = 0.27804, Train Accuracy = 0.80923, Validation Accuracy = 0.80671\n"
     ]
    },
    {
     "name": "stderr",
     "output_type": "stream",
     "text": [
      "Epoch 275/512: 100%|██████████████████████████████████████████████████████████████████████████████████████████████████████████| 910/910 [00:27<00:00, 33.23it/s]\n"
     ]
    },
    {
     "name": "stdout",
     "output_type": "stream",
     "text": [
      "Epoch 275/512: Train Loss = 0.24780, Validation Loss = 0.27755, Train Accuracy = 0.81113, Validation Accuracy = 0.80451\n"
     ]
    },
    {
     "name": "stderr",
     "output_type": "stream",
     "text": [
      "Epoch 276/512: 100%|██████████████████████████████████████████████████████████████████████████████████████████████████████████| 910/910 [00:27<00:00, 33.15it/s]\n"
     ]
    },
    {
     "name": "stdout",
     "output_type": "stream",
     "text": [
      "Epoch 276/512: Train Loss = 0.24647, Validation Loss = 0.27543, Train Accuracy = 0.81158, Validation Accuracy = 0.81166\n"
     ]
    },
    {
     "name": "stderr",
     "output_type": "stream",
     "text": [
      "Epoch 277/512: 100%|██████████████████████████████████████████████████████████████████████████████████████████████████████████| 910/910 [00:27<00:00, 33.46it/s]\n"
     ]
    },
    {
     "name": "stdout",
     "output_type": "stream",
     "text": [
      "Epoch 277/512: Train Loss = 0.24824, Validation Loss = 0.27719, Train Accuracy = 0.81053, Validation Accuracy = 0.81303\n"
     ]
    },
    {
     "name": "stderr",
     "output_type": "stream",
     "text": [
      "Epoch 278/512: 100%|██████████████████████████████████████████████████████████████████████████████████████████████████████████| 910/910 [00:27<00:00, 33.35it/s]\n"
     ]
    },
    {
     "name": "stdout",
     "output_type": "stream",
     "text": [
      "Epoch 278/512: Train Loss = 0.24632, Validation Loss = 0.28947, Train Accuracy = 0.81204, Validation Accuracy = 0.80506\n"
     ]
    },
    {
     "name": "stderr",
     "output_type": "stream",
     "text": [
      "Epoch 279/512: 100%|██████████████████████████████████████████████████████████████████████████████████████████████████████████| 910/910 [00:27<00:00, 33.23it/s]\n"
     ]
    },
    {
     "name": "stdout",
     "output_type": "stream",
     "text": [
      "Epoch 279/512: Train Loss = 0.24673, Validation Loss = 0.27924, Train Accuracy = 0.80996, Validation Accuracy = 0.81276\n"
     ]
    },
    {
     "name": "stderr",
     "output_type": "stream",
     "text": [
      "Epoch 280/512: 100%|██████████████████████████████████████████████████████████████████████████████████████████████████████████| 910/910 [00:27<00:00, 32.71it/s]\n"
     ]
    },
    {
     "name": "stdout",
     "output_type": "stream",
     "text": [
      "Epoch 280/512: Train Loss = 0.24821, Validation Loss = 0.27068, Train Accuracy = 0.81053, Validation Accuracy = 0.80946\n"
     ]
    },
    {
     "name": "stderr",
     "output_type": "stream",
     "text": [
      "Epoch 281/512: 100%|██████████████████████████████████████████████████████████████████████████████████████████████████████████| 910/910 [00:27<00:00, 33.24it/s]\n"
     ]
    },
    {
     "name": "stdout",
     "output_type": "stream",
     "text": [
      "Epoch 281/512: Train Loss = 0.24681, Validation Loss = 0.27647, Train Accuracy = 0.81010, Validation Accuracy = 0.80836\n"
     ]
    },
    {
     "name": "stderr",
     "output_type": "stream",
     "text": [
      "Epoch 282/512: 100%|██████████████████████████████████████████████████████████████████████████████████████████████████████████| 910/910 [00:27<00:00, 33.03it/s]\n"
     ]
    },
    {
     "name": "stdout",
     "output_type": "stream",
     "text": [
      "Epoch 282/512: Train Loss = 0.24579, Validation Loss = 0.27616, Train Accuracy = 0.81285, Validation Accuracy = 0.81070\n"
     ]
    },
    {
     "name": "stderr",
     "output_type": "stream",
     "text": [
      "Epoch 283/512: 100%|██████████████████████████████████████████████████████████████████████████████████████████████████████████| 910/910 [00:27<00:00, 33.64it/s]\n"
     ]
    },
    {
     "name": "stdout",
     "output_type": "stream",
     "text": [
      "Epoch 283/512: Train Loss = 0.24421, Validation Loss = 0.29333, Train Accuracy = 0.81240, Validation Accuracy = 0.80368\n"
     ]
    },
    {
     "name": "stderr",
     "output_type": "stream",
     "text": [
      "Epoch 284/512: 100%|██████████████████████████████████████████████████████████████████████████████████████████████████████████| 910/910 [00:27<00:00, 33.14it/s]\n"
     ]
    },
    {
     "name": "stdout",
     "output_type": "stream",
     "text": [
      "Epoch 284/512: Train Loss = 0.24610, Validation Loss = 0.29038, Train Accuracy = 0.81148, Validation Accuracy = 0.80011\n"
     ]
    },
    {
     "name": "stderr",
     "output_type": "stream",
     "text": [
      "Epoch 285/512: 100%|██████████████████████████████████████████████████████████████████████████████████████████████████████████| 910/910 [00:27<00:00, 32.93it/s]\n"
     ]
    },
    {
     "name": "stdout",
     "output_type": "stream",
     "text": [
      "Epoch 285/512: Train Loss = 0.24624, Validation Loss = 0.29035, Train Accuracy = 0.81065, Validation Accuracy = 0.79819\n"
     ]
    },
    {
     "name": "stderr",
     "output_type": "stream",
     "text": [
      "Epoch 286/512: 100%|██████████████████████████████████████████████████████████████████████████████████████████████████████████| 910/910 [00:27<00:00, 32.95it/s]\n"
     ]
    },
    {
     "name": "stdout",
     "output_type": "stream",
     "text": [
      "Epoch 286/512: Train Loss = 0.24558, Validation Loss = 0.27503, Train Accuracy = 0.81168, Validation Accuracy = 0.80643\n"
     ]
    },
    {
     "name": "stderr",
     "output_type": "stream",
     "text": [
      "Epoch 287/512: 100%|██████████████████████████████████████████████████████████████████████████████████████████████████████████| 910/910 [00:27<00:00, 32.98it/s]\n"
     ]
    },
    {
     "name": "stdout",
     "output_type": "stream",
     "text": [
      "Epoch 287/512: Train Loss = 0.24509, Validation Loss = 0.27586, Train Accuracy = 0.81065, Validation Accuracy = 0.80368\n"
     ]
    },
    {
     "name": "stderr",
     "output_type": "stream",
     "text": [
      "Epoch 288/512: 100%|██████████████████████████████████████████████████████████████████████████████████████████████████████████| 910/910 [00:27<00:00, 33.11it/s]\n"
     ]
    },
    {
     "name": "stdout",
     "output_type": "stream",
     "text": [
      "Epoch 288/512: Train Loss = 0.24640, Validation Loss = 0.28114, Train Accuracy = 0.81168, Validation Accuracy = 0.80863\n"
     ]
    },
    {
     "name": "stderr",
     "output_type": "stream",
     "text": [
      "Epoch 289/512: 100%|██████████████████████████████████████████████████████████████████████████████████████████████████████████| 910/910 [00:27<00:00, 33.21it/s]\n"
     ]
    },
    {
     "name": "stdout",
     "output_type": "stream",
     "text": [
      "Epoch 289/512: Train Loss = 0.24595, Validation Loss = 0.27760, Train Accuracy = 0.81077, Validation Accuracy = 0.80643\n"
     ]
    },
    {
     "name": "stderr",
     "output_type": "stream",
     "text": [
      "Epoch 290/512: 100%|██████████████████████████████████████████████████████████████████████████████████████████████████████████| 910/910 [00:27<00:00, 33.55it/s]\n"
     ]
    },
    {
     "name": "stdout",
     "output_type": "stream",
     "text": [
      "Epoch 290/512: Train Loss = 0.24561, Validation Loss = 0.27777, Train Accuracy = 0.81089, Validation Accuracy = 0.80836\n"
     ]
    },
    {
     "name": "stderr",
     "output_type": "stream",
     "text": [
      "Epoch 291/512: 100%|██████████████████████████████████████████████████████████████████████████████████████████████████████████| 910/910 [00:27<00:00, 33.20it/s]\n"
     ]
    },
    {
     "name": "stdout",
     "output_type": "stream",
     "text": [
      "Epoch 291/512: Train Loss = 0.24300, Validation Loss = 0.28004, Train Accuracy = 0.81429, Validation Accuracy = 0.80341\n"
     ]
    },
    {
     "name": "stderr",
     "output_type": "stream",
     "text": [
      "Epoch 292/512: 100%|██████████████████████████████████████████████████████████████████████████████████████████████████████████| 910/910 [00:27<00:00, 33.19it/s]\n"
     ]
    },
    {
     "name": "stdout",
     "output_type": "stream",
     "text": [
      "Epoch 292/512: Train Loss = 0.24468, Validation Loss = 0.27006, Train Accuracy = 0.81139, Validation Accuracy = 0.80685\n"
     ]
    },
    {
     "name": "stderr",
     "output_type": "stream",
     "text": [
      "Epoch 293/512: 100%|██████████████████████████████████████████████████████████████████████████████████████████████████████████| 910/910 [00:27<00:00, 33.04it/s]\n"
     ]
    },
    {
     "name": "stdout",
     "output_type": "stream",
     "text": [
      "Epoch 293/512: Train Loss = 0.24471, Validation Loss = 0.27425, Train Accuracy = 0.81096, Validation Accuracy = 0.80905\n"
     ]
    },
    {
     "name": "stderr",
     "output_type": "stream",
     "text": [
      "Epoch 294/512: 100%|██████████████████████████████████████████████████████████████████████████████████████████████████████████| 910/910 [00:27<00:00, 33.18it/s]\n"
     ]
    },
    {
     "name": "stdout",
     "output_type": "stream",
     "text": [
      "Epoch 294/512: Train Loss = 0.24420, Validation Loss = 0.27154, Train Accuracy = 0.81265, Validation Accuracy = 0.81138\n"
     ]
    },
    {
     "name": "stderr",
     "output_type": "stream",
     "text": [
      "Epoch 295/512: 100%|██████████████████████████████████████████████████████████████████████████████████████████████████████████| 910/910 [00:27<00:00, 33.13it/s]\n"
     ]
    },
    {
     "name": "stdout",
     "output_type": "stream",
     "text": [
      "Epoch 295/512: Train Loss = 0.24509, Validation Loss = 0.27616, Train Accuracy = 0.81326, Validation Accuracy = 0.80987\n"
     ]
    },
    {
     "name": "stderr",
     "output_type": "stream",
     "text": [
      "Epoch 296/512: 100%|██████████████████████████████████████████████████████████████████████████████████████████████████████████| 910/910 [00:27<00:00, 33.46it/s]\n"
     ]
    },
    {
     "name": "stdout",
     "output_type": "stream",
     "text": [
      "Epoch 296/512: Train Loss = 0.24450, Validation Loss = 0.26466, Train Accuracy = 0.81244, Validation Accuracy = 0.81523\n"
     ]
    },
    {
     "name": "stderr",
     "output_type": "stream",
     "text": [
      "Epoch 297/512: 100%|██████████████████████████████████████████████████████████████████████████████████████████████████████████| 910/910 [00:27<00:00, 33.32it/s]\n"
     ]
    },
    {
     "name": "stdout",
     "output_type": "stream",
     "text": [
      "Epoch 297/512: Train Loss = 0.24384, Validation Loss = 0.29092, Train Accuracy = 0.81316, Validation Accuracy = 0.80190\n"
     ]
    },
    {
     "name": "stderr",
     "output_type": "stream",
     "text": [
      "Epoch 298/512: 100%|██████████████████████████████████████████████████████████████████████████████████████████████████████████| 910/910 [00:27<00:00, 33.32it/s]\n"
     ]
    },
    {
     "name": "stdout",
     "output_type": "stream",
     "text": [
      "Epoch 298/512: Train Loss = 0.24413, Validation Loss = 0.28122, Train Accuracy = 0.81294, Validation Accuracy = 0.80025\n"
     ]
    },
    {
     "name": "stderr",
     "output_type": "stream",
     "text": [
      "Epoch 299/512: 100%|██████████████████████████████████████████████████████████████████████████████████████████████████████████| 910/910 [00:27<00:00, 33.16it/s]\n"
     ]
    },
    {
     "name": "stdout",
     "output_type": "stream",
     "text": [
      "Epoch 299/512: Train Loss = 0.24470, Validation Loss = 0.26923, Train Accuracy = 0.81234, Validation Accuracy = 0.81097\n"
     ]
    },
    {
     "name": "stderr",
     "output_type": "stream",
     "text": [
      "Epoch 300/512: 100%|██████████████████████████████████████████████████████████████████████████████████████████████████████████| 910/910 [00:27<00:00, 33.24it/s]\n"
     ]
    },
    {
     "name": "stdout",
     "output_type": "stream",
     "text": [
      "Epoch 300/512: Train Loss = 0.24307, Validation Loss = 0.28197, Train Accuracy = 0.81252, Validation Accuracy = 0.80767\n"
     ]
    },
    {
     "name": "stderr",
     "output_type": "stream",
     "text": [
      "Epoch 301/512: 100%|██████████████████████████████████████████████████████████████████████████████████████████████████████████| 910/910 [00:27<00:00, 33.33it/s]\n"
     ]
    },
    {
     "name": "stdout",
     "output_type": "stream",
     "text": [
      "Epoch 301/512: Train Loss = 0.24403, Validation Loss = 0.27139, Train Accuracy = 0.81075, Validation Accuracy = 0.80850\n"
     ]
    },
    {
     "name": "stderr",
     "output_type": "stream",
     "text": [
      "Epoch 302/512: 100%|██████████████████████████████████████████████████████████████████████████████████████████████████████████| 910/910 [00:27<00:00, 32.99it/s]\n"
     ]
    },
    {
     "name": "stdout",
     "output_type": "stream",
     "text": [
      "Epoch 302/512: Train Loss = 0.24292, Validation Loss = 0.28174, Train Accuracy = 0.81333, Validation Accuracy = 0.80176\n"
     ]
    },
    {
     "name": "stderr",
     "output_type": "stream",
     "text": [
      "Epoch 303/512: 100%|██████████████████████████████████████████████████████████████████████████████████████████████████████████| 910/910 [00:27<00:00, 33.10it/s]\n"
     ]
    },
    {
     "name": "stdout",
     "output_type": "stream",
     "text": [
      "Epoch 303/512: Train Loss = 0.24210, Validation Loss = 0.26992, Train Accuracy = 0.81328, Validation Accuracy = 0.81001\n"
     ]
    },
    {
     "name": "stderr",
     "output_type": "stream",
     "text": [
      "Epoch 304/512: 100%|██████████████████████████████████████████████████████████████████████████████████████████████████████████| 910/910 [00:27<00:00, 33.14it/s]\n"
     ]
    },
    {
     "name": "stdout",
     "output_type": "stream",
     "text": [
      "Epoch 304/512: Train Loss = 0.24286, Validation Loss = 0.26891, Train Accuracy = 0.81278, Validation Accuracy = 0.81248\n"
     ]
    },
    {
     "name": "stderr",
     "output_type": "stream",
     "text": [
      "Epoch 305/512: 100%|██████████████████████████████████████████████████████████████████████████████████████████████████████████| 910/910 [00:27<00:00, 33.27it/s]\n"
     ]
    },
    {
     "name": "stdout",
     "output_type": "stream",
     "text": [
      "Epoch 305/512: Train Loss = 0.24394, Validation Loss = 0.26813, Train Accuracy = 0.81356, Validation Accuracy = 0.81028\n"
     ]
    },
    {
     "name": "stderr",
     "output_type": "stream",
     "text": [
      "Epoch 306/512: 100%|██████████████████████████████████████████████████████████████████████████████████████████████████████████| 910/910 [00:27<00:00, 33.25it/s]\n"
     ]
    },
    {
     "name": "stdout",
     "output_type": "stream",
     "text": [
      "Epoch 306/512: Train Loss = 0.24244, Validation Loss = 0.26797, Train Accuracy = 0.81397, Validation Accuracy = 0.80918\n"
     ]
    },
    {
     "name": "stderr",
     "output_type": "stream",
     "text": [
      "Epoch 307/512: 100%|██████████████████████████████████████████████████████████████████████████████████████████████████████████| 910/910 [00:27<00:00, 33.10it/s]\n"
     ]
    },
    {
     "name": "stdout",
     "output_type": "stream",
     "text": [
      "Epoch 307/512: Train Loss = 0.24281, Validation Loss = 0.27994, Train Accuracy = 0.81352, Validation Accuracy = 0.80217\n"
     ]
    },
    {
     "name": "stderr",
     "output_type": "stream",
     "text": [
      "Epoch 308/512: 100%|██████████████████████████████████████████████████████████████████████████████████████████████████████████| 910/910 [00:27<00:00, 33.22it/s]\n"
     ]
    },
    {
     "name": "stdout",
     "output_type": "stream",
     "text": [
      "Epoch 308/512: Train Loss = 0.24168, Validation Loss = 0.27072, Train Accuracy = 0.81278, Validation Accuracy = 0.81509\n"
     ]
    },
    {
     "name": "stderr",
     "output_type": "stream",
     "text": [
      "Epoch 309/512: 100%|██████████████████████████████████████████████████████████████████████████████████████████████████████████| 910/910 [00:27<00:00, 33.42it/s]\n"
     ]
    },
    {
     "name": "stdout",
     "output_type": "stream",
     "text": [
      "Epoch 309/512: Train Loss = 0.24254, Validation Loss = 0.27905, Train Accuracy = 0.81258, Validation Accuracy = 0.80533\n"
     ]
    },
    {
     "name": "stderr",
     "output_type": "stream",
     "text": [
      "Epoch 310/512: 100%|██████████████████████████████████████████████████████████████████████████████████████████████████████████| 910/910 [00:27<00:00, 33.15it/s]\n"
     ]
    },
    {
     "name": "stdout",
     "output_type": "stream",
     "text": [
      "Epoch 310/512: Train Loss = 0.24281, Validation Loss = 0.27695, Train Accuracy = 0.81244, Validation Accuracy = 0.80753\n"
     ]
    },
    {
     "name": "stderr",
     "output_type": "stream",
     "text": [
      "Epoch 311/512: 100%|██████████████████████████████████████████████████████████████████████████████████████████████████████████| 910/910 [00:27<00:00, 33.31it/s]\n"
     ]
    },
    {
     "name": "stdout",
     "output_type": "stream",
     "text": [
      "Epoch 311/512: Train Loss = 0.24155, Validation Loss = 0.27814, Train Accuracy = 0.81562, Validation Accuracy = 0.80973\n"
     ]
    },
    {
     "name": "stderr",
     "output_type": "stream",
     "text": [
      "Epoch 312/512: 100%|██████████████████████████████████████████████████████████████████████████████████████████████████████████| 910/910 [00:27<00:00, 33.28it/s]\n"
     ]
    },
    {
     "name": "stdout",
     "output_type": "stream",
     "text": [
      "Epoch 312/512: Train Loss = 0.24222, Validation Loss = 0.27930, Train Accuracy = 0.81115, Validation Accuracy = 0.80973\n"
     ]
    },
    {
     "name": "stderr",
     "output_type": "stream",
     "text": [
      "Epoch 313/512: 100%|██████████████████████████████████████████████████████████████████████████████████████████████████████████| 910/910 [00:27<00:00, 33.25it/s]\n"
     ]
    },
    {
     "name": "stdout",
     "output_type": "stream",
     "text": [
      "Epoch 313/512: Train Loss = 0.24174, Validation Loss = 0.27836, Train Accuracy = 0.81509, Validation Accuracy = 0.80630\n"
     ]
    },
    {
     "name": "stderr",
     "output_type": "stream",
     "text": [
      "Epoch 314/512: 100%|██████████████████████████████████████████████████████████████████████████████████████████████████████████| 910/910 [00:27<00:00, 33.18it/s]\n"
     ]
    },
    {
     "name": "stdout",
     "output_type": "stream",
     "text": [
      "Epoch 314/512: Train Loss = 0.24273, Validation Loss = 0.27874, Train Accuracy = 0.81450, Validation Accuracy = 0.81262\n"
     ]
    },
    {
     "name": "stderr",
     "output_type": "stream",
     "text": [
      "Epoch 315/512: 100%|██████████████████████████████████████████████████████████████████████████████████████████████████████████| 910/910 [00:27<00:00, 33.13it/s]\n"
     ]
    },
    {
     "name": "stdout",
     "output_type": "stream",
     "text": [
      "Epoch 315/512: Train Loss = 0.24218, Validation Loss = 0.26654, Train Accuracy = 0.81344, Validation Accuracy = 0.81441\n"
     ]
    },
    {
     "name": "stderr",
     "output_type": "stream",
     "text": [
      "Epoch 316/512: 100%|██████████████████████████████████████████████████████████████████████████████████████████████████████████| 910/910 [00:27<00:00, 33.28it/s]\n"
     ]
    },
    {
     "name": "stdout",
     "output_type": "stream",
     "text": [
      "Epoch 316/512: Train Loss = 0.24120, Validation Loss = 0.27779, Train Accuracy = 0.81349, Validation Accuracy = 0.80850\n"
     ]
    },
    {
     "name": "stderr",
     "output_type": "stream",
     "text": [
      "Epoch 317/512: 100%|██████████████████████████████████████████████████████████████████████████████████████████████████████████| 910/910 [00:27<00:00, 32.91it/s]\n"
     ]
    },
    {
     "name": "stdout",
     "output_type": "stream",
     "text": [
      "Epoch 317/512: Train Loss = 0.24202, Validation Loss = 0.27718, Train Accuracy = 0.81251, Validation Accuracy = 0.80863\n"
     ]
    },
    {
     "name": "stderr",
     "output_type": "stream",
     "text": [
      "Epoch 318/512: 100%|██████████████████████████████████████████████████████████████████████████████████████████████████████████| 910/910 [00:27<00:00, 33.11it/s]\n"
     ]
    },
    {
     "name": "stdout",
     "output_type": "stream",
     "text": [
      "Epoch 318/512: Train Loss = 0.24089, Validation Loss = 0.28202, Train Accuracy = 0.81326, Validation Accuracy = 0.80066\n"
     ]
    },
    {
     "name": "stderr",
     "output_type": "stream",
     "text": [
      "Epoch 319/512: 100%|██████████████████████████████████████████████████████████████████████████████████████████████████████████| 910/910 [00:27<00:00, 33.36it/s]\n"
     ]
    },
    {
     "name": "stdout",
     "output_type": "stream",
     "text": [
      "Epoch 319/512: Train Loss = 0.24093, Validation Loss = 0.28393, Train Accuracy = 0.81196, Validation Accuracy = 0.79901\n"
     ]
    },
    {
     "name": "stderr",
     "output_type": "stream",
     "text": [
      "Epoch 320/512: 100%|██████████████████████████████████████████████████████████████████████████████████████████████████████████| 910/910 [00:27<00:00, 33.11it/s]\n"
     ]
    },
    {
     "name": "stdout",
     "output_type": "stream",
     "text": [
      "Epoch 320/512: Train Loss = 0.23982, Validation Loss = 0.26677, Train Accuracy = 0.81484, Validation Accuracy = 0.81193\n"
     ]
    },
    {
     "name": "stderr",
     "output_type": "stream",
     "text": [
      "Epoch 321/512: 100%|██████████████████████████████████████████████████████████████████████████████████████████████████████████| 910/910 [00:27<00:00, 33.18it/s]\n"
     ]
    },
    {
     "name": "stdout",
     "output_type": "stream",
     "text": [
      "Epoch 321/512: Train Loss = 0.24083, Validation Loss = 0.27330, Train Accuracy = 0.81423, Validation Accuracy = 0.81248\n"
     ]
    },
    {
     "name": "stderr",
     "output_type": "stream",
     "text": [
      "Epoch 322/512: 100%|██████████████████████████████████████████████████████████████████████████████████████████████████████████| 910/910 [00:27<00:00, 33.11it/s]\n"
     ]
    },
    {
     "name": "stdout",
     "output_type": "stream",
     "text": [
      "Epoch 322/512: Train Loss = 0.24103, Validation Loss = 0.27901, Train Accuracy = 0.81297, Validation Accuracy = 0.80918\n"
     ]
    },
    {
     "name": "stderr",
     "output_type": "stream",
     "text": [
      "Epoch 323/512: 100%|██████████████████████████████████████████████████████████████████████████████████████████████████████████| 910/910 [00:27<00:00, 33.36it/s]\n"
     ]
    },
    {
     "name": "stdout",
     "output_type": "stream",
     "text": [
      "Epoch 323/512: Train Loss = 0.24074, Validation Loss = 0.26967, Train Accuracy = 0.81280, Validation Accuracy = 0.81056\n"
     ]
    },
    {
     "name": "stderr",
     "output_type": "stream",
     "text": [
      "Epoch 324/512: 100%|██████████████████████████████████████████████████████████████████████████████████████████████████████████| 910/910 [00:27<00:00, 33.19it/s]\n"
     ]
    },
    {
     "name": "stdout",
     "output_type": "stream",
     "text": [
      "Epoch 324/512: Train Loss = 0.24107, Validation Loss = 0.27017, Train Accuracy = 0.81433, Validation Accuracy = 0.81454\n"
     ]
    },
    {
     "name": "stderr",
     "output_type": "stream",
     "text": [
      "Epoch 325/512: 100%|██████████████████████████████████████████████████████████████████████████████████████████████████████████| 910/910 [00:27<00:00, 33.20it/s]\n"
     ]
    },
    {
     "name": "stdout",
     "output_type": "stream",
     "text": [
      "Epoch 325/512: Train Loss = 0.23986, Validation Loss = 0.26606, Train Accuracy = 0.81478, Validation Accuracy = 0.81083\n"
     ]
    },
    {
     "name": "stderr",
     "output_type": "stream",
     "text": [
      "Epoch 326/512: 100%|██████████████████████████████████████████████████████████████████████████████████████████████████████████| 910/910 [00:27<00:00, 33.28it/s]\n"
     ]
    },
    {
     "name": "stdout",
     "output_type": "stream",
     "text": [
      "Epoch 326/512: Train Loss = 0.24049, Validation Loss = 0.26925, Train Accuracy = 0.81503, Validation Accuracy = 0.80905\n"
     ]
    },
    {
     "name": "stderr",
     "output_type": "stream",
     "text": [
      "Epoch 327/512: 100%|██████████████████████████████████████████████████████████████████████████████████████████████████████████| 910/910 [00:27<00:00, 33.06it/s]\n"
     ]
    },
    {
     "name": "stdout",
     "output_type": "stream",
     "text": [
      "Epoch 327/512: Train Loss = 0.23988, Validation Loss = 0.26971, Train Accuracy = 0.81674, Validation Accuracy = 0.81386\n"
     ]
    },
    {
     "name": "stderr",
     "output_type": "stream",
     "text": [
      "Epoch 328/512: 100%|██████████████████████████████████████████████████████████████████████████████████████████████████████████| 910/910 [00:27<00:00, 33.21it/s]\n"
     ]
    },
    {
     "name": "stdout",
     "output_type": "stream",
     "text": [
      "Epoch 328/512: Train Loss = 0.23938, Validation Loss = 0.27341, Train Accuracy = 0.81222, Validation Accuracy = 0.81042\n"
     ]
    },
    {
     "name": "stderr",
     "output_type": "stream",
     "text": [
      "Epoch 329/512: 100%|██████████████████████████████████████████████████████████████████████████████████████████████████████████| 910/910 [00:27<00:00, 33.14it/s]\n"
     ]
    },
    {
     "name": "stdout",
     "output_type": "stream",
     "text": [
      "Epoch 329/512: Train Loss = 0.24055, Validation Loss = 0.27544, Train Accuracy = 0.81381, Validation Accuracy = 0.80836\n"
     ]
    },
    {
     "name": "stderr",
     "output_type": "stream",
     "text": [
      "Epoch 330/512: 100%|██████████████████████████████████████████████████████████████████████████████████████████████████████████| 910/910 [00:27<00:00, 33.25it/s]\n"
     ]
    },
    {
     "name": "stdout",
     "output_type": "stream",
     "text": [
      "Epoch 330/512: Train Loss = 0.24034, Validation Loss = 0.27629, Train Accuracy = 0.81187, Validation Accuracy = 0.80905\n"
     ]
    },
    {
     "name": "stderr",
     "output_type": "stream",
     "text": [
      "Epoch 331/512: 100%|██████████████████████████████████████████████████████████████████████████████████████████████████████████| 910/910 [00:27<00:00, 33.15it/s]\n"
     ]
    },
    {
     "name": "stdout",
     "output_type": "stream",
     "text": [
      "Epoch 331/512: Train Loss = 0.23943, Validation Loss = 0.27014, Train Accuracy = 0.81448, Validation Accuracy = 0.81331\n"
     ]
    },
    {
     "name": "stderr",
     "output_type": "stream",
     "text": [
      "Epoch 332/512: 100%|██████████████████████████████████████████████████████████████████████████████████████████████████████████| 910/910 [00:27<00:00, 33.10it/s]\n"
     ]
    },
    {
     "name": "stdout",
     "output_type": "stream",
     "text": [
      "Epoch 332/512: Train Loss = 0.23888, Validation Loss = 0.27157, Train Accuracy = 0.81507, Validation Accuracy = 0.80437\n"
     ]
    },
    {
     "name": "stderr",
     "output_type": "stream",
     "text": [
      "Epoch 333/512: 100%|██████████████████████████████████████████████████████████████████████████████████████████████████████████| 910/910 [00:27<00:00, 33.13it/s]\n"
     ]
    },
    {
     "name": "stdout",
     "output_type": "stream",
     "text": [
      "Epoch 333/512: Train Loss = 0.23889, Validation Loss = 0.27064, Train Accuracy = 0.81484, Validation Accuracy = 0.80918\n"
     ]
    },
    {
     "name": "stderr",
     "output_type": "stream",
     "text": [
      "Epoch 334/512: 100%|██████████████████████████████████████████████████████████████████████████████████████████████████████████| 910/910 [00:27<00:00, 33.36it/s]\n"
     ]
    },
    {
     "name": "stdout",
     "output_type": "stream",
     "text": [
      "Epoch 334/512: Train Loss = 0.23855, Validation Loss = 0.28013, Train Accuracy = 0.81581, Validation Accuracy = 0.80863\n"
     ]
    },
    {
     "name": "stderr",
     "output_type": "stream",
     "text": [
      "Epoch 335/512: 100%|██████████████████████████████████████████████████████████████████████████████████████████████████████████| 910/910 [00:27<00:00, 33.39it/s]\n"
     ]
    },
    {
     "name": "stdout",
     "output_type": "stream",
     "text": [
      "Epoch 335/512: Train Loss = 0.23837, Validation Loss = 0.26449, Train Accuracy = 0.81438, Validation Accuracy = 0.80877\n"
     ]
    },
    {
     "name": "stderr",
     "output_type": "stream",
     "text": [
      "Epoch 336/512: 100%|██████████████████████████████████████████████████████████████████████████████████████████████████████████| 910/910 [00:27<00:00, 33.35it/s]\n"
     ]
    },
    {
     "name": "stdout",
     "output_type": "stream",
     "text": [
      "Epoch 336/512: Train Loss = 0.23912, Validation Loss = 0.27459, Train Accuracy = 0.81304, Validation Accuracy = 0.80657\n"
     ]
    },
    {
     "name": "stderr",
     "output_type": "stream",
     "text": [
      "Epoch 337/512: 100%|██████████████████████████████████████████████████████████████████████████████████████████████████████████| 910/910 [00:27<00:00, 33.29it/s]\n"
     ]
    },
    {
     "name": "stdout",
     "output_type": "stream",
     "text": [
      "Epoch 337/512: Train Loss = 0.23864, Validation Loss = 0.27339, Train Accuracy = 0.81706, Validation Accuracy = 0.80891\n"
     ]
    },
    {
     "name": "stderr",
     "output_type": "stream",
     "text": [
      "Epoch 338/512: 100%|██████████████████████████████████████████████████████████████████████████████████████████████████████████| 910/910 [00:27<00:00, 33.20it/s]\n"
     ]
    },
    {
     "name": "stdout",
     "output_type": "stream",
     "text": [
      "Epoch 338/512: Train Loss = 0.23827, Validation Loss = 0.28056, Train Accuracy = 0.81500, Validation Accuracy = 0.80905\n"
     ]
    },
    {
     "name": "stderr",
     "output_type": "stream",
     "text": [
      "Epoch 339/512: 100%|██████████████████████████████████████████████████████████████████████████████████████████████████████████| 910/910 [00:27<00:00, 33.48it/s]\n"
     ]
    },
    {
     "name": "stdout",
     "output_type": "stream",
     "text": [
      "Epoch 339/512: Train Loss = 0.23915, Validation Loss = 0.27603, Train Accuracy = 0.81570, Validation Accuracy = 0.80616\n"
     ]
    },
    {
     "name": "stderr",
     "output_type": "stream",
     "text": [
      "Epoch 340/512: 100%|██████████████████████████████████████████████████████████████████████████████████████████████████████████| 910/910 [00:27<00:00, 33.14it/s]\n"
     ]
    },
    {
     "name": "stdout",
     "output_type": "stream",
     "text": [
      "Epoch 340/512: Train Loss = 0.23857, Validation Loss = 0.27881, Train Accuracy = 0.81644, Validation Accuracy = 0.80643\n"
     ]
    },
    {
     "name": "stderr",
     "output_type": "stream",
     "text": [
      "Epoch 341/512: 100%|██████████████████████████████████████████████████████████████████████████████████████████████████████████| 910/910 [00:27<00:00, 33.13it/s]\n"
     ]
    },
    {
     "name": "stdout",
     "output_type": "stream",
     "text": [
      "Epoch 341/512: Train Loss = 0.23869, Validation Loss = 0.28597, Train Accuracy = 0.81440, Validation Accuracy = 0.80630\n"
     ]
    },
    {
     "name": "stderr",
     "output_type": "stream",
     "text": [
      "Epoch 342/512: 100%|██████████████████████████████████████████████████████████████████████████████████████████████████████████| 910/910 [00:27<00:00, 33.34it/s]\n"
     ]
    },
    {
     "name": "stdout",
     "output_type": "stream",
     "text": [
      "Epoch 342/512: Train Loss = 0.23719, Validation Loss = 0.27107, Train Accuracy = 0.81548, Validation Accuracy = 0.80946\n"
     ]
    },
    {
     "name": "stderr",
     "output_type": "stream",
     "text": [
      "Epoch 343/512: 100%|██████████████████████████████████████████████████████████████████████████████████████████████████████████| 910/910 [00:27<00:00, 33.07it/s]\n"
     ]
    },
    {
     "name": "stdout",
     "output_type": "stream",
     "text": [
      "Epoch 343/512: Train Loss = 0.23799, Validation Loss = 0.27010, Train Accuracy = 0.81632, Validation Accuracy = 0.81400\n"
     ]
    },
    {
     "name": "stderr",
     "output_type": "stream",
     "text": [
      "Epoch 344/512: 100%|██████████████████████████████████████████████████████████████████████████████████████████████████████████| 910/910 [00:27<00:00, 33.01it/s]\n"
     ]
    },
    {
     "name": "stdout",
     "output_type": "stream",
     "text": [
      "Epoch 344/512: Train Loss = 0.23695, Validation Loss = 0.27920, Train Accuracy = 0.81759, Validation Accuracy = 0.80465\n"
     ]
    },
    {
     "name": "stderr",
     "output_type": "stream",
     "text": [
      "Epoch 345/512: 100%|██████████████████████████████████████████████████████████████████████████████████████████████████████████| 910/910 [00:27<00:00, 33.15it/s]\n"
     ]
    },
    {
     "name": "stdout",
     "output_type": "stream",
     "text": [
      "Epoch 345/512: Train Loss = 0.23656, Validation Loss = 0.26862, Train Accuracy = 0.81612, Validation Accuracy = 0.81221\n"
     ]
    },
    {
     "name": "stderr",
     "output_type": "stream",
     "text": [
      "Epoch 346/512: 100%|██████████████████████████████████████████████████████████████████████████████████████████████████████████| 910/910 [00:27<00:00, 33.00it/s]\n"
     ]
    },
    {
     "name": "stdout",
     "output_type": "stream",
     "text": [
      "Epoch 346/512: Train Loss = 0.23916, Validation Loss = 0.27508, Train Accuracy = 0.81548, Validation Accuracy = 0.81235\n"
     ]
    },
    {
     "name": "stderr",
     "output_type": "stream",
     "text": [
      "Epoch 347/512: 100%|██████████████████████████████████████████████████████████████████████████████████████████████████████████| 910/910 [00:27<00:00, 33.14it/s]\n"
     ]
    },
    {
     "name": "stdout",
     "output_type": "stream",
     "text": [
      "Epoch 347/512: Train Loss = 0.23725, Validation Loss = 0.27151, Train Accuracy = 0.81622, Validation Accuracy = 0.81028\n"
     ]
    },
    {
     "name": "stderr",
     "output_type": "stream",
     "text": [
      "Epoch 348/512: 100%|██████████████████████████████████████████████████████████████████████████████████████████████████████████| 910/910 [00:27<00:00, 33.27it/s]\n"
     ]
    },
    {
     "name": "stdout",
     "output_type": "stream",
     "text": [
      "Epoch 348/512: Train Loss = 0.23738, Validation Loss = 0.27379, Train Accuracy = 0.81644, Validation Accuracy = 0.80341\n"
     ]
    },
    {
     "name": "stderr",
     "output_type": "stream",
     "text": [
      "Epoch 349/512: 100%|██████████████████████████████████████████████████████████████████████████████████████████████████████████| 910/910 [00:27<00:00, 33.43it/s]\n"
     ]
    },
    {
     "name": "stdout",
     "output_type": "stream",
     "text": [
      "Epoch 349/512: Train Loss = 0.23696, Validation Loss = 0.27187, Train Accuracy = 0.81605, Validation Accuracy = 0.81235\n"
     ]
    },
    {
     "name": "stderr",
     "output_type": "stream",
     "text": [
      "Epoch 350/512: 100%|██████████████████████████████████████████████████████████████████████████████████████████████████████████| 910/910 [00:27<00:00, 32.95it/s]\n"
     ]
    },
    {
     "name": "stdout",
     "output_type": "stream",
     "text": [
      "Epoch 350/512: Train Loss = 0.23749, Validation Loss = 0.26837, Train Accuracy = 0.81658, Validation Accuracy = 0.80932\n"
     ]
    },
    {
     "name": "stderr",
     "output_type": "stream",
     "text": [
      "Epoch 351/512: 100%|██████████████████████████████████████████████████████████████████████████████████████████████████████████| 910/910 [00:27<00:00, 33.13it/s]\n"
     ]
    },
    {
     "name": "stdout",
     "output_type": "stream",
     "text": [
      "Epoch 351/512: Train Loss = 0.23694, Validation Loss = 0.27296, Train Accuracy = 0.81821, Validation Accuracy = 0.79970\n"
     ]
    },
    {
     "name": "stderr",
     "output_type": "stream",
     "text": [
      "Epoch 352/512: 100%|██████████████████████████████████████████████████████████████████████████████████████████████████████████| 910/910 [00:27<00:00, 33.17it/s]\n"
     ]
    },
    {
     "name": "stdout",
     "output_type": "stream",
     "text": [
      "Epoch 352/512: Train Loss = 0.23684, Validation Loss = 0.26206, Train Accuracy = 0.81608, Validation Accuracy = 0.81509\n"
     ]
    },
    {
     "name": "stderr",
     "output_type": "stream",
     "text": [
      "Epoch 353/512: 100%|██████████████████████████████████████████████████████████████████████████████████████████████████████████| 910/910 [00:27<00:00, 33.19it/s]\n"
     ]
    },
    {
     "name": "stdout",
     "output_type": "stream",
     "text": [
      "Epoch 353/512: Train Loss = 0.23564, Validation Loss = 0.27593, Train Accuracy = 0.81708, Validation Accuracy = 0.81290\n"
     ]
    },
    {
     "name": "stderr",
     "output_type": "stream",
     "text": [
      "Epoch 354/512: 100%|██████████████████████████████████████████████████████████████████████████████████████████████████████████| 910/910 [00:27<00:00, 33.07it/s]\n"
     ]
    },
    {
     "name": "stdout",
     "output_type": "stream",
     "text": [
      "Epoch 354/512: Train Loss = 0.23537, Validation Loss = 0.27161, Train Accuracy = 0.81648, Validation Accuracy = 0.80918\n"
     ]
    },
    {
     "name": "stderr",
     "output_type": "stream",
     "text": [
      "Epoch 355/512: 100%|██████████████████████████████████████████████████████████████████████████████████████████████████████████| 910/910 [00:27<00:00, 33.06it/s]\n"
     ]
    },
    {
     "name": "stdout",
     "output_type": "stream",
     "text": [
      "Epoch 355/512: Train Loss = 0.23748, Validation Loss = 0.26475, Train Accuracy = 0.81577, Validation Accuracy = 0.81193\n"
     ]
    },
    {
     "name": "stderr",
     "output_type": "stream",
     "text": [
      "Epoch 356/512: 100%|██████████████████████████████████████████████████████████████████████████████████████████████████████████| 910/910 [00:27<00:00, 33.02it/s]\n"
     ]
    },
    {
     "name": "stdout",
     "output_type": "stream",
     "text": [
      "Epoch 356/512: Train Loss = 0.23539, Validation Loss = 0.27400, Train Accuracy = 0.81789, Validation Accuracy = 0.80616\n"
     ]
    },
    {
     "name": "stderr",
     "output_type": "stream",
     "text": [
      "Epoch 357/512: 100%|██████████████████████████████████████████████████████████████████████████████████████████████████████████| 910/910 [00:27<00:00, 33.10it/s]\n"
     ]
    },
    {
     "name": "stdout",
     "output_type": "stream",
     "text": [
      "Epoch 357/512: Train Loss = 0.23675, Validation Loss = 0.28307, Train Accuracy = 0.81495, Validation Accuracy = 0.80685\n"
     ]
    },
    {
     "name": "stderr",
     "output_type": "stream",
     "text": [
      "Epoch 358/512: 100%|██████████████████████████████████████████████████████████████████████████████████████████████████████████| 910/910 [00:27<00:00, 33.20it/s]\n"
     ]
    },
    {
     "name": "stdout",
     "output_type": "stream",
     "text": [
      "Epoch 358/512: Train Loss = 0.23689, Validation Loss = 0.26163, Train Accuracy = 0.81526, Validation Accuracy = 0.81468\n"
     ]
    },
    {
     "name": "stderr",
     "output_type": "stream",
     "text": [
      "Epoch 359/512: 100%|██████████████████████████████████████████████████████████████████████████████████████████████████████████| 910/910 [00:27<00:00, 33.16it/s]\n"
     ]
    },
    {
     "name": "stdout",
     "output_type": "stream",
     "text": [
      "Epoch 359/512: Train Loss = 0.23615, Validation Loss = 0.27290, Train Accuracy = 0.81649, Validation Accuracy = 0.81138\n"
     ]
    },
    {
     "name": "stderr",
     "output_type": "stream",
     "text": [
      "Epoch 360/512: 100%|██████████████████████████████████████████████████████████████████████████████████████████████████████████| 910/910 [00:27<00:00, 33.13it/s]\n"
     ]
    },
    {
     "name": "stdout",
     "output_type": "stream",
     "text": [
      "Epoch 360/512: Train Loss = 0.23619, Validation Loss = 0.26996, Train Accuracy = 0.81832, Validation Accuracy = 0.81441\n"
     ]
    },
    {
     "name": "stderr",
     "output_type": "stream",
     "text": [
      "Epoch 361/512: 100%|██████████████████████████████████████████████████████████████████████████████████████████████████████████| 910/910 [00:27<00:00, 33.30it/s]\n"
     ]
    },
    {
     "name": "stdout",
     "output_type": "stream",
     "text": [
      "Epoch 361/512: Train Loss = 0.23493, Validation Loss = 0.26919, Train Accuracy = 0.81880, Validation Accuracy = 0.81166\n"
     ]
    },
    {
     "name": "stderr",
     "output_type": "stream",
     "text": [
      "Epoch 362/512: 100%|██████████████████████████████████████████████████████████████████████████████████████████████████████████| 910/910 [00:27<00:00, 33.28it/s]\n"
     ]
    },
    {
     "name": "stdout",
     "output_type": "stream",
     "text": [
      "Epoch 362/512: Train Loss = 0.23597, Validation Loss = 0.27089, Train Accuracy = 0.81716, Validation Accuracy = 0.81125\n"
     ]
    },
    {
     "name": "stderr",
     "output_type": "stream",
     "text": [
      "Epoch 363/512: 100%|██████████████████████████████████████████████████████████████████████████████████████████████████████████| 910/910 [00:27<00:00, 33.13it/s]\n"
     ]
    },
    {
     "name": "stdout",
     "output_type": "stream",
     "text": [
      "Epoch 363/512: Train Loss = 0.23548, Validation Loss = 0.28002, Train Accuracy = 0.81613, Validation Accuracy = 0.80313\n"
     ]
    },
    {
     "name": "stderr",
     "output_type": "stream",
     "text": [
      "Epoch 364/512: 100%|██████████████████████████████████████████████████████████████████████████████████████████████████████████| 910/910 [00:27<00:00, 32.95it/s]\n"
     ]
    },
    {
     "name": "stdout",
     "output_type": "stream",
     "text": [
      "Epoch 364/512: Train Loss = 0.23450, Validation Loss = 0.26995, Train Accuracy = 0.81680, Validation Accuracy = 0.81248\n"
     ]
    },
    {
     "name": "stderr",
     "output_type": "stream",
     "text": [
      "Epoch 365/512: 100%|██████████████████████████████████████████████████████████████████████████████████████████████████████████| 910/910 [00:27<00:00, 33.20it/s]\n"
     ]
    },
    {
     "name": "stdout",
     "output_type": "stream",
     "text": [
      "Epoch 365/512: Train Loss = 0.23525, Validation Loss = 0.27841, Train Accuracy = 0.81840, Validation Accuracy = 0.81015\n"
     ]
    },
    {
     "name": "stderr",
     "output_type": "stream",
     "text": [
      "Epoch 366/512: 100%|██████████████████████████████████████████████████████████████████████████████████████████████████████████| 910/910 [00:27<00:00, 33.21it/s]\n"
     ]
    },
    {
     "name": "stdout",
     "output_type": "stream",
     "text": [
      "Epoch 366/512: Train Loss = 0.23486, Validation Loss = 0.27152, Train Accuracy = 0.81562, Validation Accuracy = 0.81180\n"
     ]
    },
    {
     "name": "stderr",
     "output_type": "stream",
     "text": [
      "Epoch 367/512: 100%|██████████████████████████████████████████████████████████████████████████████████████████████████████████| 910/910 [00:27<00:00, 33.18it/s]\n"
     ]
    },
    {
     "name": "stdout",
     "output_type": "stream",
     "text": [
      "Epoch 367/512: Train Loss = 0.23459, Validation Loss = 0.26787, Train Accuracy = 0.81754, Validation Accuracy = 0.81111\n"
     ]
    },
    {
     "name": "stderr",
     "output_type": "stream",
     "text": [
      "Epoch 368/512: 100%|██████████████████████████████████████████████████████████████████████████████████████████████████████████| 910/910 [00:27<00:00, 33.26it/s]\n"
     ]
    },
    {
     "name": "stdout",
     "output_type": "stream",
     "text": [
      "Epoch 368/512: Train Loss = 0.23509, Validation Loss = 0.29225, Train Accuracy = 0.81591, Validation Accuracy = 0.80272\n"
     ]
    },
    {
     "name": "stderr",
     "output_type": "stream",
     "text": [
      "Epoch 369/512: 100%|██████████████████████████████████████████████████████████████████████████████████████████████████████████| 910/910 [00:27<00:00, 33.33it/s]\n"
     ]
    },
    {
     "name": "stdout",
     "output_type": "stream",
     "text": [
      "Epoch 369/512: Train Loss = 0.23340, Validation Loss = 0.26029, Train Accuracy = 0.81708, Validation Accuracy = 0.82073\n"
     ]
    },
    {
     "name": "stderr",
     "output_type": "stream",
     "text": [
      "Epoch 370/512: 100%|██████████████████████████████████████████████████████████████████████████████████████████████████████████| 910/910 [00:27<00:00, 33.12it/s]\n"
     ]
    },
    {
     "name": "stdout",
     "output_type": "stream",
     "text": [
      "Epoch 370/512: Train Loss = 0.23423, Validation Loss = 0.27452, Train Accuracy = 0.81930, Validation Accuracy = 0.80932\n"
     ]
    },
    {
     "name": "stderr",
     "output_type": "stream",
     "text": [
      "Epoch 371/512: 100%|██████████████████████████████████████████████████████████████████████████████████████████████████████████| 910/910 [00:27<00:00, 33.57it/s]\n"
     ]
    },
    {
     "name": "stdout",
     "output_type": "stream",
     "text": [
      "Epoch 371/512: Train Loss = 0.23429, Validation Loss = 0.27690, Train Accuracy = 0.81706, Validation Accuracy = 0.80382\n"
     ]
    },
    {
     "name": "stderr",
     "output_type": "stream",
     "text": [
      "Epoch 372/512: 100%|██████████████████████████████████████████████████████████████████████████████████████████████████████████| 910/910 [00:27<00:00, 33.13it/s]\n"
     ]
    },
    {
     "name": "stdout",
     "output_type": "stream",
     "text": [
      "Epoch 372/512: Train Loss = 0.23329, Validation Loss = 0.26968, Train Accuracy = 0.81840, Validation Accuracy = 0.81152\n"
     ]
    },
    {
     "name": "stderr",
     "output_type": "stream",
     "text": [
      "Epoch 373/512: 100%|██████████████████████████████████████████████████████████████████████████████████████████████████████████| 910/910 [00:27<00:00, 33.33it/s]\n"
     ]
    },
    {
     "name": "stdout",
     "output_type": "stream",
     "text": [
      "Epoch 373/512: Train Loss = 0.23358, Validation Loss = 0.26571, Train Accuracy = 0.81627, Validation Accuracy = 0.81345\n"
     ]
    },
    {
     "name": "stderr",
     "output_type": "stream",
     "text": [
      "Epoch 374/512: 100%|██████████████████████████████████████████████████████████████████████████████████████████████████████████| 910/910 [00:27<00:00, 33.26it/s]\n"
     ]
    },
    {
     "name": "stdout",
     "output_type": "stream",
     "text": [
      "Epoch 374/512: Train Loss = 0.23362, Validation Loss = 0.27356, Train Accuracy = 0.81787, Validation Accuracy = 0.81908\n"
     ]
    },
    {
     "name": "stderr",
     "output_type": "stream",
     "text": [
      "Epoch 375/512: 100%|██████████████████████████████████████████████████████████████████████████████████████████████████████████| 910/910 [00:27<00:00, 33.21it/s]\n"
     ]
    },
    {
     "name": "stdout",
     "output_type": "stream",
     "text": [
      "Epoch 375/512: Train Loss = 0.23348, Validation Loss = 0.27117, Train Accuracy = 0.81749, Validation Accuracy = 0.81028\n"
     ]
    },
    {
     "name": "stderr",
     "output_type": "stream",
     "text": [
      "Epoch 376/512: 100%|██████████████████████████████████████████████████████████████████████████████████████████████████████████| 910/910 [00:27<00:00, 33.34it/s]\n"
     ]
    },
    {
     "name": "stdout",
     "output_type": "stream",
     "text": [
      "Epoch 376/512: Train Loss = 0.23460, Validation Loss = 0.27167, Train Accuracy = 0.81682, Validation Accuracy = 0.81083\n"
     ]
    },
    {
     "name": "stderr",
     "output_type": "stream",
     "text": [
      "Epoch 377/512: 100%|██████████████████████████████████████████████████████████████████████████████████████████████████████████| 910/910 [00:27<00:00, 33.05it/s]\n"
     ]
    },
    {
     "name": "stdout",
     "output_type": "stream",
     "text": [
      "Epoch 377/512: Train Loss = 0.23466, Validation Loss = 0.28621, Train Accuracy = 0.81713, Validation Accuracy = 0.80630\n"
     ]
    },
    {
     "name": "stderr",
     "output_type": "stream",
     "text": [
      "Epoch 378/512: 100%|██████████████████████████████████████████████████████████████████████████████████████████████████████████| 910/910 [00:27<00:00, 33.10it/s]\n"
     ]
    },
    {
     "name": "stdout",
     "output_type": "stream",
     "text": [
      "Epoch 378/512: Train Loss = 0.23432, Validation Loss = 0.27898, Train Accuracy = 0.81651, Validation Accuracy = 0.80506\n"
     ]
    },
    {
     "name": "stderr",
     "output_type": "stream",
     "text": [
      "Epoch 379/512: 100%|██████████████████████████████████████████████████████████████████████████████████████████████████████████| 910/910 [00:27<00:00, 33.19it/s]\n"
     ]
    },
    {
     "name": "stdout",
     "output_type": "stream",
     "text": [
      "Epoch 379/512: Train Loss = 0.23491, Validation Loss = 0.26873, Train Accuracy = 0.81739, Validation Accuracy = 0.80960\n"
     ]
    },
    {
     "name": "stderr",
     "output_type": "stream",
     "text": [
      "Epoch 380/512: 100%|██████████████████████████████████████████████████████████████████████████████████████████████████████████| 910/910 [00:27<00:00, 33.33it/s]\n"
     ]
    },
    {
     "name": "stdout",
     "output_type": "stream",
     "text": [
      "Epoch 380/512: Train Loss = 0.23387, Validation Loss = 0.27861, Train Accuracy = 0.82010, Validation Accuracy = 0.81166\n"
     ]
    },
    {
     "name": "stderr",
     "output_type": "stream",
     "text": [
      "Epoch 381/512: 100%|██████████████████████████████████████████████████████████████████████████████████████████████████████████| 910/910 [00:27<00:00, 33.28it/s]\n"
     ]
    },
    {
     "name": "stdout",
     "output_type": "stream",
     "text": [
      "Epoch 381/512: Train Loss = 0.23393, Validation Loss = 0.26137, Train Accuracy = 0.81997, Validation Accuracy = 0.81771\n"
     ]
    },
    {
     "name": "stderr",
     "output_type": "stream",
     "text": [
      "Epoch 382/512: 100%|██████████████████████████████████████████████████████████████████████████████████████████████████████████| 910/910 [00:27<00:00, 33.29it/s]\n"
     ]
    },
    {
     "name": "stdout",
     "output_type": "stream",
     "text": [
      "Epoch 382/512: Train Loss = 0.23337, Validation Loss = 0.25433, Train Accuracy = 0.81682, Validation Accuracy = 0.81784\n"
     ]
    },
    {
     "name": "stderr",
     "output_type": "stream",
     "text": [
      "Epoch 383/512: 100%|██████████████████████████████████████████████████████████████████████████████████████████████████████████| 910/910 [00:27<00:00, 33.06it/s]\n"
     ]
    },
    {
     "name": "stdout",
     "output_type": "stream",
     "text": [
      "Epoch 383/512: Train Loss = 0.23348, Validation Loss = 0.27006, Train Accuracy = 0.81787, Validation Accuracy = 0.81028\n"
     ]
    },
    {
     "name": "stderr",
     "output_type": "stream",
     "text": [
      "Epoch 384/512: 100%|██████████████████████████████████████████████████████████████████████████████████████████████████████████| 910/910 [00:27<00:00, 33.35it/s]\n"
     ]
    },
    {
     "name": "stdout",
     "output_type": "stream",
     "text": [
      "Epoch 384/512: Train Loss = 0.22570, Validation Loss = 0.26395, Train Accuracy = 0.82297, Validation Accuracy = 0.81551\n"
     ]
    },
    {
     "name": "stderr",
     "output_type": "stream",
     "text": [
      "Epoch 385/512: 100%|██████████████████████████████████████████████████████████████████████████████████████████████████████████| 910/910 [00:27<00:00, 33.31it/s]\n"
     ]
    },
    {
     "name": "stdout",
     "output_type": "stream",
     "text": [
      "Epoch 385/512: Train Loss = 0.22417, Validation Loss = 0.26163, Train Accuracy = 0.82258, Validation Accuracy = 0.81661\n"
     ]
    },
    {
     "name": "stderr",
     "output_type": "stream",
     "text": [
      "Epoch 386/512: 100%|██████████████████████████████████████████████████████████████████████████████████████████████████████████| 910/910 [00:27<00:00, 33.35it/s]\n"
     ]
    },
    {
     "name": "stdout",
     "output_type": "stream",
     "text": [
      "Epoch 386/512: Train Loss = 0.22257, Validation Loss = 0.27893, Train Accuracy = 0.82555, Validation Accuracy = 0.80973\n"
     ]
    },
    {
     "name": "stderr",
     "output_type": "stream",
     "text": [
      "Epoch 387/512: 100%|██████████████████████████████████████████████████████████████████████████████████████████████████████████| 910/910 [00:27<00:00, 33.28it/s]\n"
     ]
    },
    {
     "name": "stdout",
     "output_type": "stream",
     "text": [
      "Epoch 387/512: Train Loss = 0.22404, Validation Loss = 0.26249, Train Accuracy = 0.82399, Validation Accuracy = 0.81564\n"
     ]
    },
    {
     "name": "stderr",
     "output_type": "stream",
     "text": [
      "Epoch 388/512: 100%|██████████████████████████████████████████████████████████████████████████████████████████████████████████| 910/910 [00:27<00:00, 33.22it/s]\n"
     ]
    },
    {
     "name": "stdout",
     "output_type": "stream",
     "text": [
      "Epoch 388/512: Train Loss = 0.22099, Validation Loss = 0.27726, Train Accuracy = 0.82595, Validation Accuracy = 0.80588\n"
     ]
    },
    {
     "name": "stderr",
     "output_type": "stream",
     "text": [
      "Epoch 389/512: 100%|██████████████████████████████████████████████████████████████████████████████████████████████████████████| 910/910 [00:27<00:00, 33.28it/s]\n"
     ]
    },
    {
     "name": "stdout",
     "output_type": "stream",
     "text": [
      "Epoch 389/512: Train Loss = 0.22306, Validation Loss = 0.26279, Train Accuracy = 0.82230, Validation Accuracy = 0.81688\n"
     ]
    },
    {
     "name": "stderr",
     "output_type": "stream",
     "text": [
      "Epoch 390/512: 100%|██████████████████████████████████████████████████████████████████████████████████████████████████████████| 910/910 [00:27<00:00, 33.24it/s]\n"
     ]
    },
    {
     "name": "stdout",
     "output_type": "stream",
     "text": [
      "Epoch 390/512: Train Loss = 0.22225, Validation Loss = 0.26880, Train Accuracy = 0.82447, Validation Accuracy = 0.81702\n"
     ]
    },
    {
     "name": "stderr",
     "output_type": "stream",
     "text": [
      "Epoch 391/512: 100%|██████████████████████████████████████████████████████████████████████████████████████████████████████████| 910/910 [00:27<00:00, 33.34it/s]\n"
     ]
    },
    {
     "name": "stdout",
     "output_type": "stream",
     "text": [
      "Epoch 391/512: Train Loss = 0.22128, Validation Loss = 0.26958, Train Accuracy = 0.82497, Validation Accuracy = 0.81303\n"
     ]
    },
    {
     "name": "stderr",
     "output_type": "stream",
     "text": [
      "Epoch 392/512: 100%|██████████████████████████████████████████████████████████████████████████████████████████████████████████| 910/910 [00:27<00:00, 33.10it/s]\n"
     ]
    },
    {
     "name": "stdout",
     "output_type": "stream",
     "text": [
      "Epoch 392/512: Train Loss = 0.22317, Validation Loss = 0.25640, Train Accuracy = 0.82622, Validation Accuracy = 0.81949\n"
     ]
    },
    {
     "name": "stderr",
     "output_type": "stream",
     "text": [
      "Epoch 393/512: 100%|██████████████████████████████████████████████████████████████████████████████████████████████████████████| 910/910 [00:27<00:00, 33.37it/s]\n"
     ]
    },
    {
     "name": "stdout",
     "output_type": "stream",
     "text": [
      "Epoch 393/512: Train Loss = 0.22135, Validation Loss = 0.26267, Train Accuracy = 0.82548, Validation Accuracy = 0.81798\n"
     ]
    },
    {
     "name": "stderr",
     "output_type": "stream",
     "text": [
      "Epoch 394/512: 100%|██████████████████████████████████████████████████████████████████████████████████████████████████████████| 910/910 [00:27<00:00, 33.16it/s]\n"
     ]
    },
    {
     "name": "stdout",
     "output_type": "stream",
     "text": [
      "Epoch 394/512: Train Loss = 0.22246, Validation Loss = 0.26417, Train Accuracy = 0.82442, Validation Accuracy = 0.81372\n"
     ]
    },
    {
     "name": "stderr",
     "output_type": "stream",
     "text": [
      "Epoch 395/512: 100%|██████████████████████████████████████████████████████████████████████████████████████████████████████████| 910/910 [00:27<00:00, 33.28it/s]\n"
     ]
    },
    {
     "name": "stdout",
     "output_type": "stream",
     "text": [
      "Epoch 395/512: Train Loss = 0.22237, Validation Loss = 0.25833, Train Accuracy = 0.82404, Validation Accuracy = 0.81386\n"
     ]
    },
    {
     "name": "stderr",
     "output_type": "stream",
     "text": [
      "Epoch 396/512: 100%|██████████████████████████████████████████████████████████████████████████████████████████████████████████| 910/910 [00:27<00:00, 33.30it/s]\n"
     ]
    },
    {
     "name": "stdout",
     "output_type": "stream",
     "text": [
      "Epoch 396/512: Train Loss = 0.22172, Validation Loss = 0.26144, Train Accuracy = 0.82564, Validation Accuracy = 0.82156\n"
     ]
    },
    {
     "name": "stderr",
     "output_type": "stream",
     "text": [
      "Epoch 397/512: 100%|██████████████████████████████████████████████████████████████████████████████████████████████████████████| 910/910 [00:27<00:00, 33.34it/s]\n"
     ]
    },
    {
     "name": "stdout",
     "output_type": "stream",
     "text": [
      "Epoch 397/512: Train Loss = 0.22086, Validation Loss = 0.26486, Train Accuracy = 0.82603, Validation Accuracy = 0.81345\n"
     ]
    },
    {
     "name": "stderr",
     "output_type": "stream",
     "text": [
      "Epoch 398/512: 100%|██████████████████████████████████████████████████████████████████████████████████████████████████████████| 910/910 [00:27<00:00, 33.26it/s]\n"
     ]
    },
    {
     "name": "stdout",
     "output_type": "stream",
     "text": [
      "Epoch 398/512: Train Loss = 0.22167, Validation Loss = 0.26701, Train Accuracy = 0.82507, Validation Accuracy = 0.81138\n"
     ]
    },
    {
     "name": "stderr",
     "output_type": "stream",
     "text": [
      "Epoch 399/512: 100%|██████████████████████████████████████████████████████████████████████████████████████████████████████████| 910/910 [00:27<00:00, 33.27it/s]\n"
     ]
    },
    {
     "name": "stdout",
     "output_type": "stream",
     "text": [
      "Epoch 399/512: Train Loss = 0.22142, Validation Loss = 0.27917, Train Accuracy = 0.82474, Validation Accuracy = 0.81097\n"
     ]
    },
    {
     "name": "stderr",
     "output_type": "stream",
     "text": [
      "Epoch 400/512: 100%|██████████████████████████████████████████████████████████████████████████████████████████████████████████| 910/910 [00:27<00:00, 33.38it/s]\n"
     ]
    },
    {
     "name": "stdout",
     "output_type": "stream",
     "text": [
      "Epoch 400/512: Train Loss = 0.22117, Validation Loss = 0.27618, Train Accuracy = 0.82545, Validation Accuracy = 0.80905\n"
     ]
    },
    {
     "name": "stderr",
     "output_type": "stream",
     "text": [
      "Epoch 401/512: 100%|██████████████████████████████████████████████████████████████████████████████████████████████████████████| 910/910 [00:27<00:00, 33.15it/s]\n"
     ]
    },
    {
     "name": "stdout",
     "output_type": "stream",
     "text": [
      "Epoch 401/512: Train Loss = 0.22100, Validation Loss = 0.27321, Train Accuracy = 0.82505, Validation Accuracy = 0.80891\n"
     ]
    },
    {
     "name": "stderr",
     "output_type": "stream",
     "text": [
      "Epoch 402/512: 100%|██████████████████████████████████████████████████████████████████████████████████████████████████████████| 910/910 [00:27<00:00, 33.38it/s]\n"
     ]
    },
    {
     "name": "stdout",
     "output_type": "stream",
     "text": [
      "Epoch 402/512: Train Loss = 0.22073, Validation Loss = 0.26985, Train Accuracy = 0.82483, Validation Accuracy = 0.81400\n"
     ]
    },
    {
     "name": "stderr",
     "output_type": "stream",
     "text": [
      "Epoch 403/512: 100%|██████████████████████████████████████████████████████████████████████████████████████████████████████████| 910/910 [00:27<00:00, 33.28it/s]\n"
     ]
    },
    {
     "name": "stdout",
     "output_type": "stream",
     "text": [
      "Epoch 403/512: Train Loss = 0.22112, Validation Loss = 0.27102, Train Accuracy = 0.82507, Validation Accuracy = 0.81193\n"
     ]
    },
    {
     "name": "stderr",
     "output_type": "stream",
     "text": [
      "Epoch 404/512: 100%|██████████████████████████████████████████████████████████████████████████████████████████████████████████| 910/910 [00:27<00:00, 33.28it/s]\n"
     ]
    },
    {
     "name": "stdout",
     "output_type": "stream",
     "text": [
      "Epoch 404/512: Train Loss = 0.22042, Validation Loss = 0.27092, Train Accuracy = 0.82588, Validation Accuracy = 0.81276\n"
     ]
    },
    {
     "name": "stderr",
     "output_type": "stream",
     "text": [
      "Epoch 405/512: 100%|██████████████████████████████████████████████████████████████████████████████████████████████████████████| 910/910 [00:27<00:00, 33.16it/s]\n"
     ]
    },
    {
     "name": "stdout",
     "output_type": "stream",
     "text": [
      "Epoch 405/512: Train Loss = 0.22029, Validation Loss = 0.26651, Train Accuracy = 0.82605, Validation Accuracy = 0.81056\n"
     ]
    },
    {
     "name": "stderr",
     "output_type": "stream",
     "text": [
      "Epoch 406/512: 100%|██████████████████████████████████████████████████████████████████████████████████████████████████████████| 910/910 [00:27<00:00, 32.99it/s]\n"
     ]
    },
    {
     "name": "stdout",
     "output_type": "stream",
     "text": [
      "Epoch 406/512: Train Loss = 0.22080, Validation Loss = 0.26705, Train Accuracy = 0.82631, Validation Accuracy = 0.81454\n"
     ]
    },
    {
     "name": "stderr",
     "output_type": "stream",
     "text": [
      "Epoch 407/512: 100%|██████████████████████████████████████████████████████████████████████████████████████████████████████████| 910/910 [00:27<00:00, 33.25it/s]\n"
     ]
    },
    {
     "name": "stdout",
     "output_type": "stream",
     "text": [
      "Epoch 407/512: Train Loss = 0.21928, Validation Loss = 0.27666, Train Accuracy = 0.82796, Validation Accuracy = 0.81070\n"
     ]
    },
    {
     "name": "stderr",
     "output_type": "stream",
     "text": [
      "Epoch 408/512: 100%|██████████████████████████████████████████████████████████████████████████████████████████████████████████| 910/910 [00:27<00:00, 33.01it/s]\n"
     ]
    },
    {
     "name": "stdout",
     "output_type": "stream",
     "text": [
      "Epoch 408/512: Train Loss = 0.22046, Validation Loss = 0.26739, Train Accuracy = 0.82617, Validation Accuracy = 0.81853\n"
     ]
    },
    {
     "name": "stderr",
     "output_type": "stream",
     "text": [
      "Epoch 409/512: 100%|██████████████████████████████████████████████████████████████████████████████████████████████████████████| 910/910 [00:27<00:00, 33.18it/s]\n"
     ]
    },
    {
     "name": "stdout",
     "output_type": "stream",
     "text": [
      "Epoch 409/512: Train Loss = 0.22083, Validation Loss = 0.26470, Train Accuracy = 0.82447, Validation Accuracy = 0.81798\n"
     ]
    },
    {
     "name": "stderr",
     "output_type": "stream",
     "text": [
      "Epoch 410/512: 100%|██████████████████████████████████████████████████████████████████████████████████████████████████████████| 910/910 [00:27<00:00, 33.21it/s]\n"
     ]
    },
    {
     "name": "stdout",
     "output_type": "stream",
     "text": [
      "Epoch 410/512: Train Loss = 0.22043, Validation Loss = 0.25772, Train Accuracy = 0.82545, Validation Accuracy = 0.81592\n"
     ]
    },
    {
     "name": "stderr",
     "output_type": "stream",
     "text": [
      "Epoch 411/512: 100%|██████████████████████████████████████████████████████████████████████████████████████████████████████████| 910/910 [00:27<00:00, 33.14it/s]\n"
     ]
    },
    {
     "name": "stdout",
     "output_type": "stream",
     "text": [
      "Epoch 411/512: Train Loss = 0.21944, Validation Loss = 0.26529, Train Accuracy = 0.82646, Validation Accuracy = 0.81070\n"
     ]
    },
    {
     "name": "stderr",
     "output_type": "stream",
     "text": [
      "Epoch 412/512: 100%|██████████████████████████████████████████████████████████████████████████████████████████████████████████| 910/910 [00:27<00:00, 33.01it/s]\n"
     ]
    },
    {
     "name": "stdout",
     "output_type": "stream",
     "text": [
      "Epoch 412/512: Train Loss = 0.22028, Validation Loss = 0.26233, Train Accuracy = 0.82689, Validation Accuracy = 0.81757\n"
     ]
    },
    {
     "name": "stderr",
     "output_type": "stream",
     "text": [
      "Epoch 413/512: 100%|██████████████████████████████████████████████████████████████████████████████████████████████████████████| 910/910 [00:27<00:00, 33.22it/s]\n"
     ]
    },
    {
     "name": "stdout",
     "output_type": "stream",
     "text": [
      "Epoch 413/512: Train Loss = 0.21903, Validation Loss = 0.26566, Train Accuracy = 0.82643, Validation Accuracy = 0.81317\n"
     ]
    },
    {
     "name": "stderr",
     "output_type": "stream",
     "text": [
      "Epoch 414/512: 100%|██████████████████████████████████████████████████████████████████████████████████████████████████████████| 910/910 [00:27<00:00, 33.20it/s]\n"
     ]
    },
    {
     "name": "stdout",
     "output_type": "stream",
     "text": [
      "Epoch 414/512: Train Loss = 0.21857, Validation Loss = 0.26108, Train Accuracy = 0.82644, Validation Accuracy = 0.81509\n"
     ]
    },
    {
     "name": "stderr",
     "output_type": "stream",
     "text": [
      "Epoch 415/512: 100%|██████████████████████████████████████████████████████████████████████████████████████████████████████████| 910/910 [00:27<00:00, 33.34it/s]\n"
     ]
    },
    {
     "name": "stdout",
     "output_type": "stream",
     "text": [
      "Epoch 415/512: Train Loss = 0.21869, Validation Loss = 0.26835, Train Accuracy = 0.82660, Validation Accuracy = 0.81400\n"
     ]
    },
    {
     "name": "stderr",
     "output_type": "stream",
     "text": [
      "Epoch 416/512: 100%|██████████████████████████████████████████████████████████████████████████████████████████████████████████| 910/910 [00:27<00:00, 33.25it/s]\n"
     ]
    },
    {
     "name": "stdout",
     "output_type": "stream",
     "text": [
      "Epoch 416/512: Train Loss = 0.21930, Validation Loss = 0.26553, Train Accuracy = 0.82705, Validation Accuracy = 0.81262\n"
     ]
    },
    {
     "name": "stderr",
     "output_type": "stream",
     "text": [
      "Epoch 417/512: 100%|██████████████████████████████████████████████████████████████████████████████████████████████████████████| 910/910 [00:27<00:00, 33.29it/s]\n"
     ]
    },
    {
     "name": "stdout",
     "output_type": "stream",
     "text": [
      "Epoch 417/512: Train Loss = 0.22042, Validation Loss = 0.26539, Train Accuracy = 0.82478, Validation Accuracy = 0.81729\n"
     ]
    },
    {
     "name": "stderr",
     "output_type": "stream",
     "text": [
      "Epoch 418/512: 100%|██████████████████████████████████████████████████████████████████████████████████████████████████████████| 910/910 [00:27<00:00, 33.03it/s]\n"
     ]
    },
    {
     "name": "stdout",
     "output_type": "stream",
     "text": [
      "Epoch 418/512: Train Loss = 0.21927, Validation Loss = 0.26754, Train Accuracy = 0.82748, Validation Accuracy = 0.81400\n"
     ]
    },
    {
     "name": "stderr",
     "output_type": "stream",
     "text": [
      "Epoch 419/512: 100%|██████████████████████████████████████████████████████████████████████████████████████████████████████████| 910/910 [00:27<00:00, 33.37it/s]\n"
     ]
    },
    {
     "name": "stdout",
     "output_type": "stream",
     "text": [
      "Epoch 419/512: Train Loss = 0.21937, Validation Loss = 0.25770, Train Accuracy = 0.82718, Validation Accuracy = 0.81633\n"
     ]
    },
    {
     "name": "stderr",
     "output_type": "stream",
     "text": [
      "Epoch 420/512: 100%|██████████████████████████████████████████████████████████████████████████████████████████████████████████| 910/910 [00:27<00:00, 33.18it/s]\n"
     ]
    },
    {
     "name": "stdout",
     "output_type": "stream",
     "text": [
      "Epoch 420/512: Train Loss = 0.22006, Validation Loss = 0.26464, Train Accuracy = 0.82534, Validation Accuracy = 0.81358\n"
     ]
    },
    {
     "name": "stderr",
     "output_type": "stream",
     "text": [
      "Epoch 421/512: 100%|██████████████████████████████████████████████████████████████████████████████████████████████████████████| 910/910 [00:27<00:00, 33.32it/s]\n"
     ]
    },
    {
     "name": "stdout",
     "output_type": "stream",
     "text": [
      "Epoch 421/512: Train Loss = 0.21885, Validation Loss = 0.26942, Train Accuracy = 0.82801, Validation Accuracy = 0.81070\n"
     ]
    },
    {
     "name": "stderr",
     "output_type": "stream",
     "text": [
      "Epoch 422/512: 100%|██████████████████████████████████████████████████████████████████████████████████████████████████████████| 910/910 [00:27<00:00, 33.20it/s]\n"
     ]
    },
    {
     "name": "stdout",
     "output_type": "stream",
     "text": [
      "Epoch 422/512: Train Loss = 0.21897, Validation Loss = 0.27163, Train Accuracy = 0.82744, Validation Accuracy = 0.81207\n"
     ]
    },
    {
     "name": "stderr",
     "output_type": "stream",
     "text": [
      "Epoch 423/512: 100%|██████████████████████████████████████████████████████████████████████████████████████████████████████████| 910/910 [00:27<00:00, 33.18it/s]\n"
     ]
    },
    {
     "name": "stdout",
     "output_type": "stream",
     "text": [
      "Epoch 423/512: Train Loss = 0.21961, Validation Loss = 0.28087, Train Accuracy = 0.82593, Validation Accuracy = 0.80850\n"
     ]
    },
    {
     "name": "stderr",
     "output_type": "stream",
     "text": [
      "Epoch 424/512: 100%|██████████████████████████████████████████████████████████████████████████████████████████████████████████| 910/910 [00:27<00:00, 33.34it/s]\n"
     ]
    },
    {
     "name": "stdout",
     "output_type": "stream",
     "text": [
      "Epoch 424/512: Train Loss = 0.21775, Validation Loss = 0.26169, Train Accuracy = 0.82782, Validation Accuracy = 0.81441\n"
     ]
    },
    {
     "name": "stderr",
     "output_type": "stream",
     "text": [
      "Epoch 425/512: 100%|██████████████████████████████████████████████████████████████████████████████████████████████████████████| 910/910 [00:27<00:00, 33.09it/s]\n"
     ]
    },
    {
     "name": "stdout",
     "output_type": "stream",
     "text": [
      "Epoch 425/512: Train Loss = 0.21840, Validation Loss = 0.26976, Train Accuracy = 0.82724, Validation Accuracy = 0.81276\n"
     ]
    },
    {
     "name": "stderr",
     "output_type": "stream",
     "text": [
      "Epoch 426/512: 100%|██████████████████████████████████████████████████████████████████████████████████████████████████████████| 910/910 [00:27<00:00, 33.39it/s]\n"
     ]
    },
    {
     "name": "stdout",
     "output_type": "stream",
     "text": [
      "Epoch 426/512: Train Loss = 0.21897, Validation Loss = 0.26337, Train Accuracy = 0.82746, Validation Accuracy = 0.81688\n"
     ]
    },
    {
     "name": "stderr",
     "output_type": "stream",
     "text": [
      "Epoch 427/512: 100%|██████████████████████████████████████████████████████████████████████████████████████████████████████████| 910/910 [00:27<00:00, 33.19it/s]\n"
     ]
    },
    {
     "name": "stdout",
     "output_type": "stream",
     "text": [
      "Epoch 427/512: Train Loss = 0.21865, Validation Loss = 0.27360, Train Accuracy = 0.82538, Validation Accuracy = 0.81028\n"
     ]
    },
    {
     "name": "stderr",
     "output_type": "stream",
     "text": [
      "Epoch 428/512: 100%|██████████████████████████████████████████████████████████████████████████████████████████████████████████| 910/910 [00:27<00:00, 33.28it/s]\n"
     ]
    },
    {
     "name": "stdout",
     "output_type": "stream",
     "text": [
      "Epoch 428/512: Train Loss = 0.21860, Validation Loss = 0.26767, Train Accuracy = 0.82698, Validation Accuracy = 0.81345\n"
     ]
    },
    {
     "name": "stderr",
     "output_type": "stream",
     "text": [
      "Epoch 429/512: 100%|██████████████████████████████████████████████████████████████████████████████████████████████████████████| 910/910 [00:27<00:00, 33.32it/s]\n"
     ]
    },
    {
     "name": "stdout",
     "output_type": "stream",
     "text": [
      "Epoch 429/512: Train Loss = 0.21756, Validation Loss = 0.26216, Train Accuracy = 0.82591, Validation Accuracy = 0.81400\n"
     ]
    },
    {
     "name": "stderr",
     "output_type": "stream",
     "text": [
      "Epoch 430/512: 100%|██████████████████████████████████████████████████████████████████████████████████████████████████████████| 910/910 [00:27<00:00, 33.21it/s]\n"
     ]
    },
    {
     "name": "stdout",
     "output_type": "stream",
     "text": [
      "Epoch 430/512: Train Loss = 0.21854, Validation Loss = 0.26069, Train Accuracy = 0.82502, Validation Accuracy = 0.81454\n"
     ]
    },
    {
     "name": "stderr",
     "output_type": "stream",
     "text": [
      "Epoch 431/512: 100%|██████████████████████████████████████████████████████████████████████████████████████████████████████████| 910/910 [00:27<00:00, 33.14it/s]\n"
     ]
    },
    {
     "name": "stdout",
     "output_type": "stream",
     "text": [
      "Epoch 431/512: Train Loss = 0.21804, Validation Loss = 0.27218, Train Accuracy = 0.82981, Validation Accuracy = 0.80905\n"
     ]
    },
    {
     "name": "stderr",
     "output_type": "stream",
     "text": [
      "Epoch 432/512: 100%|██████████████████████████████████████████████████████████████████████████████████████████████████████████| 910/910 [00:27<00:00, 33.29it/s]\n"
     ]
    },
    {
     "name": "stdout",
     "output_type": "stream",
     "text": [
      "Epoch 432/512: Train Loss = 0.21805, Validation Loss = 0.28228, Train Accuracy = 0.82598, Validation Accuracy = 0.80850\n"
     ]
    },
    {
     "name": "stderr",
     "output_type": "stream",
     "text": [
      "Epoch 433/512: 100%|██████████████████████████████████████████████████████████████████████████████████████████████████████████| 910/910 [00:27<00:00, 33.16it/s]\n"
     ]
    },
    {
     "name": "stdout",
     "output_type": "stream",
     "text": [
      "Epoch 433/512: Train Loss = 0.21766, Validation Loss = 0.27096, Train Accuracy = 0.82796, Validation Accuracy = 0.81248\n"
     ]
    },
    {
     "name": "stderr",
     "output_type": "stream",
     "text": [
      "Epoch 434/512: 100%|██████████████████████████████████████████████████████████████████████████████████████████████████████████| 910/910 [00:27<00:00, 33.11it/s]\n"
     ]
    },
    {
     "name": "stdout",
     "output_type": "stream",
     "text": [
      "Epoch 434/512: Train Loss = 0.21738, Validation Loss = 0.26638, Train Accuracy = 0.82722, Validation Accuracy = 0.81248\n"
     ]
    },
    {
     "name": "stderr",
     "output_type": "stream",
     "text": [
      "Epoch 435/512: 100%|██████████████████████████████████████████████████████████████████████████████████████████████████████████| 910/910 [00:27<00:00, 33.13it/s]\n"
     ]
    },
    {
     "name": "stdout",
     "output_type": "stream",
     "text": [
      "Epoch 435/512: Train Loss = 0.21778, Validation Loss = 0.27222, Train Accuracy = 0.82870, Validation Accuracy = 0.81372\n"
     ]
    },
    {
     "name": "stderr",
     "output_type": "stream",
     "text": [
      "Epoch 436/512: 100%|██████████████████████████████████████████████████████████████████████████████████████████████████████████| 910/910 [00:27<00:00, 33.34it/s]\n"
     ]
    },
    {
     "name": "stdout",
     "output_type": "stream",
     "text": [
      "Epoch 436/512: Train Loss = 0.21927, Validation Loss = 0.25887, Train Accuracy = 0.82696, Validation Accuracy = 0.81482\n"
     ]
    },
    {
     "name": "stderr",
     "output_type": "stream",
     "text": [
      "Epoch 437/512: 100%|██████████████████████████████████████████████████████████████████████████████████████████████████████████| 910/910 [00:27<00:00, 32.94it/s]\n"
     ]
    },
    {
     "name": "stdout",
     "output_type": "stream",
     "text": [
      "Epoch 437/512: Train Loss = 0.21749, Validation Loss = 0.26263, Train Accuracy = 0.82650, Validation Accuracy = 0.81454\n"
     ]
    },
    {
     "name": "stderr",
     "output_type": "stream",
     "text": [
      "Epoch 438/512: 100%|██████████████████████████████████████████████████████████████████████████████████████████████████████████| 910/910 [00:27<00:00, 33.28it/s]\n"
     ]
    },
    {
     "name": "stdout",
     "output_type": "stream",
     "text": [
      "Epoch 438/512: Train Loss = 0.21890, Validation Loss = 0.25924, Train Accuracy = 0.82500, Validation Accuracy = 0.81867\n"
     ]
    },
    {
     "name": "stderr",
     "output_type": "stream",
     "text": [
      "Epoch 439/512: 100%|██████████████████████████████████████████████████████████████████████████████████████████████████████████| 910/910 [00:27<00:00, 33.29it/s]\n"
     ]
    },
    {
     "name": "stdout",
     "output_type": "stream",
     "text": [
      "Epoch 439/512: Train Loss = 0.21777, Validation Loss = 0.28106, Train Accuracy = 0.82684, Validation Accuracy = 0.81056\n"
     ]
    },
    {
     "name": "stderr",
     "output_type": "stream",
     "text": [
      "Epoch 440/512: 100%|██████████████████████████████████████████████████████████████████████████████████████████████████████████| 910/910 [00:27<00:00, 33.37it/s]\n"
     ]
    },
    {
     "name": "stdout",
     "output_type": "stream",
     "text": [
      "Epoch 440/512: Train Loss = 0.21749, Validation Loss = 0.26472, Train Accuracy = 0.82651, Validation Accuracy = 0.81248\n"
     ]
    },
    {
     "name": "stderr",
     "output_type": "stream",
     "text": [
      "Epoch 441/512: 100%|██████████████████████████████████████████████████████████████████████████████████████████████████████████| 910/910 [00:27<00:00, 33.31it/s]\n"
     ]
    },
    {
     "name": "stdout",
     "output_type": "stream",
     "text": [
      "Epoch 441/512: Train Loss = 0.21725, Validation Loss = 0.26606, Train Accuracy = 0.82715, Validation Accuracy = 0.81798\n"
     ]
    },
    {
     "name": "stderr",
     "output_type": "stream",
     "text": [
      "Epoch 442/512: 100%|██████████████████████████████████████████████████████████████████████████████████████████████████████████| 910/910 [00:27<00:00, 33.38it/s]\n"
     ]
    },
    {
     "name": "stdout",
     "output_type": "stream",
     "text": [
      "Epoch 442/512: Train Loss = 0.21804, Validation Loss = 0.26448, Train Accuracy = 0.82634, Validation Accuracy = 0.81729\n"
     ]
    },
    {
     "name": "stderr",
     "output_type": "stream",
     "text": [
      "Epoch 443/512: 100%|██████████████████████████████████████████████████████████████████████████████████████████████████████████| 910/910 [00:27<00:00, 33.38it/s]\n"
     ]
    },
    {
     "name": "stdout",
     "output_type": "stream",
     "text": [
      "Epoch 443/512: Train Loss = 0.21751, Validation Loss = 0.25818, Train Accuracy = 0.82672, Validation Accuracy = 0.81867\n"
     ]
    },
    {
     "name": "stderr",
     "output_type": "stream",
     "text": [
      "Epoch 444/512: 100%|██████████████████████████████████████████████████████████████████████████████████████████████████████████| 910/910 [00:27<00:00, 33.14it/s]\n"
     ]
    },
    {
     "name": "stdout",
     "output_type": "stream",
     "text": [
      "Epoch 444/512: Train Loss = 0.21776, Validation Loss = 0.27790, Train Accuracy = 0.82564, Validation Accuracy = 0.80740\n"
     ]
    },
    {
     "name": "stderr",
     "output_type": "stream",
     "text": [
      "Epoch 445/512: 100%|██████████████████████████████████████████████████████████████████████████████████████████████████████████| 910/910 [00:27<00:00, 33.23it/s]\n"
     ]
    },
    {
     "name": "stdout",
     "output_type": "stream",
     "text": [
      "Epoch 445/512: Train Loss = 0.21822, Validation Loss = 0.27047, Train Accuracy = 0.82851, Validation Accuracy = 0.81427\n"
     ]
    },
    {
     "name": "stderr",
     "output_type": "stream",
     "text": [
      "Epoch 446/512: 100%|██████████████████████████████████████████████████████████████████████████████████████████████████████████| 910/910 [00:27<00:00, 33.56it/s]\n"
     ]
    },
    {
     "name": "stdout",
     "output_type": "stream",
     "text": [
      "Epoch 446/512: Train Loss = 0.21698, Validation Loss = 0.25446, Train Accuracy = 0.82785, Validation Accuracy = 0.82224\n"
     ]
    },
    {
     "name": "stderr",
     "output_type": "stream",
     "text": [
      "Epoch 447/512: 100%|██████████████████████████████████████████████████████████████████████████████████████████████████████████| 910/910 [00:27<00:00, 33.09it/s]\n"
     ]
    },
    {
     "name": "stdout",
     "output_type": "stream",
     "text": [
      "Epoch 447/512: Train Loss = 0.21649, Validation Loss = 0.26455, Train Accuracy = 0.82670, Validation Accuracy = 0.81826\n"
     ]
    },
    {
     "name": "stderr",
     "output_type": "stream",
     "text": [
      "Epoch 448/512: 100%|██████████████████████████████████████████████████████████████████████████████████████████████████████████| 910/910 [00:27<00:00, 32.99it/s]\n"
     ]
    },
    {
     "name": "stdout",
     "output_type": "stream",
     "text": [
      "Epoch 448/512: Train Loss = 0.21751, Validation Loss = 0.26776, Train Accuracy = 0.82657, Validation Accuracy = 0.80946\n"
     ]
    },
    {
     "name": "stderr",
     "output_type": "stream",
     "text": [
      "Epoch 449/512: 100%|██████████████████████████████████████████████████████████████████████████████████████████████████████████| 910/910 [00:27<00:00, 33.26it/s]\n"
     ]
    },
    {
     "name": "stdout",
     "output_type": "stream",
     "text": [
      "Epoch 449/512: Train Loss = 0.21686, Validation Loss = 0.26061, Train Accuracy = 0.82684, Validation Accuracy = 0.81716\n"
     ]
    },
    {
     "name": "stderr",
     "output_type": "stream",
     "text": [
      "Epoch 450/512: 100%|██████████████████████████████████████████████████████████████████████████████████████████████████████████| 910/910 [00:27<00:00, 33.19it/s]\n"
     ]
    },
    {
     "name": "stdout",
     "output_type": "stream",
     "text": [
      "Epoch 450/512: Train Loss = 0.21761, Validation Loss = 0.26450, Train Accuracy = 0.82744, Validation Accuracy = 0.81331\n"
     ]
    },
    {
     "name": "stderr",
     "output_type": "stream",
     "text": [
      "Epoch 451/512: 100%|██████████████████████████████████████████████████████████████████████████████████████████████████████████| 910/910 [00:27<00:00, 33.00it/s]\n"
     ]
    },
    {
     "name": "stdout",
     "output_type": "stream",
     "text": [
      "Epoch 451/512: Train Loss = 0.21706, Validation Loss = 0.26813, Train Accuracy = 0.82675, Validation Accuracy = 0.81661\n"
     ]
    },
    {
     "name": "stderr",
     "output_type": "stream",
     "text": [
      "Epoch 452/512: 100%|██████████████████████████████████████████████████████████████████████████████████████████████████████████| 910/910 [00:27<00:00, 33.21it/s]\n"
     ]
    },
    {
     "name": "stdout",
     "output_type": "stream",
     "text": [
      "Epoch 452/512: Train Loss = 0.21737, Validation Loss = 0.27623, Train Accuracy = 0.82619, Validation Accuracy = 0.80533\n"
     ]
    },
    {
     "name": "stderr",
     "output_type": "stream",
     "text": [
      "Epoch 453/512: 100%|██████████████████████████████████████████████████████████████████████████████████████████████████████████| 910/910 [00:27<00:00, 33.24it/s]\n"
     ]
    },
    {
     "name": "stdout",
     "output_type": "stream",
     "text": [
      "Epoch 453/512: Train Loss = 0.21849, Validation Loss = 0.26065, Train Accuracy = 0.82698, Validation Accuracy = 0.81688\n"
     ]
    },
    {
     "name": "stderr",
     "output_type": "stream",
     "text": [
      "Epoch 454/512: 100%|██████████████████████████████████████████████████████████████████████████████████████████████████████████| 910/910 [00:27<00:00, 33.29it/s]\n"
     ]
    },
    {
     "name": "stdout",
     "output_type": "stream",
     "text": [
      "Epoch 454/512: Train Loss = 0.21711, Validation Loss = 0.26964, Train Accuracy = 0.82674, Validation Accuracy = 0.81441\n"
     ]
    },
    {
     "name": "stderr",
     "output_type": "stream",
     "text": [
      "Epoch 455/512: 100%|██████████████████████████████████████████████████████████████████████████████████████████████████████████| 910/910 [00:27<00:00, 33.08it/s]\n"
     ]
    },
    {
     "name": "stdout",
     "output_type": "stream",
     "text": [
      "Epoch 455/512: Train Loss = 0.21721, Validation Loss = 0.26289, Train Accuracy = 0.82672, Validation Accuracy = 0.81812\n"
     ]
    },
    {
     "name": "stderr",
     "output_type": "stream",
     "text": [
      "Epoch 456/512: 100%|██████████████████████████████████████████████████████████████████████████████████████████████████████████| 910/910 [00:27<00:00, 33.16it/s]\n"
     ]
    },
    {
     "name": "stdout",
     "output_type": "stream",
     "text": [
      "Epoch 456/512: Train Loss = 0.21714, Validation Loss = 0.27070, Train Accuracy = 0.82689, Validation Accuracy = 0.81290\n"
     ]
    },
    {
     "name": "stderr",
     "output_type": "stream",
     "text": [
      "Epoch 457/512: 100%|██████████████████████████████████████████████████████████████████████████████████████████████████████████| 910/910 [00:27<00:00, 33.17it/s]\n"
     ]
    },
    {
     "name": "stdout",
     "output_type": "stream",
     "text": [
      "Epoch 457/512: Train Loss = 0.21614, Validation Loss = 0.26347, Train Accuracy = 0.82863, Validation Accuracy = 0.81619\n"
     ]
    },
    {
     "name": "stderr",
     "output_type": "stream",
     "text": [
      "Epoch 458/512: 100%|██████████████████████████████████████████████████████████████████████████████████████████████████████████| 910/910 [00:27<00:00, 33.31it/s]\n"
     ]
    },
    {
     "name": "stdout",
     "output_type": "stream",
     "text": [
      "Epoch 458/512: Train Loss = 0.21596, Validation Loss = 0.25841, Train Accuracy = 0.82840, Validation Accuracy = 0.81564\n"
     ]
    },
    {
     "name": "stderr",
     "output_type": "stream",
     "text": [
      "Epoch 459/512: 100%|██████████████████████████████████████████████████████████████████████████████████████████████████████████| 910/910 [00:27<00:00, 32.81it/s]\n"
     ]
    },
    {
     "name": "stdout",
     "output_type": "stream",
     "text": [
      "Epoch 459/512: Train Loss = 0.21548, Validation Loss = 0.27688, Train Accuracy = 0.82906, Validation Accuracy = 0.80973\n"
     ]
    },
    {
     "name": "stderr",
     "output_type": "stream",
     "text": [
      "Epoch 460/512: 100%|██████████████████████████████████████████████████████████████████████████████████████████████████████████| 910/910 [00:27<00:00, 33.22it/s]\n"
     ]
    },
    {
     "name": "stdout",
     "output_type": "stream",
     "text": [
      "Epoch 460/512: Train Loss = 0.21637, Validation Loss = 0.26815, Train Accuracy = 0.82522, Validation Accuracy = 0.81235\n"
     ]
    },
    {
     "name": "stderr",
     "output_type": "stream",
     "text": [
      "Epoch 461/512: 100%|██████████████████████████████████████████████████████████████████████████████████████████████████████████| 910/910 [00:27<00:00, 33.02it/s]\n"
     ]
    },
    {
     "name": "stdout",
     "output_type": "stream",
     "text": [
      "Epoch 461/512: Train Loss = 0.21682, Validation Loss = 0.25493, Train Accuracy = 0.82699, Validation Accuracy = 0.81991\n"
     ]
    },
    {
     "name": "stderr",
     "output_type": "stream",
     "text": [
      "Epoch 462/512: 100%|██████████████████████████████████████████████████████████████████████████████████████████████████████████| 910/910 [00:27<00:00, 33.25it/s]\n"
     ]
    },
    {
     "name": "stdout",
     "output_type": "stream",
     "text": [
      "Epoch 462/512: Train Loss = 0.21589, Validation Loss = 0.26598, Train Accuracy = 0.82931, Validation Accuracy = 0.81454\n"
     ]
    },
    {
     "name": "stderr",
     "output_type": "stream",
     "text": [
      "Epoch 463/512: 100%|██████████████████████████████████████████████████████████████████████████████████████████████████████████| 910/910 [00:27<00:00, 33.13it/s]\n"
     ]
    },
    {
     "name": "stdout",
     "output_type": "stream",
     "text": [
      "Epoch 463/512: Train Loss = 0.21622, Validation Loss = 0.26477, Train Accuracy = 0.82799, Validation Accuracy = 0.81537\n"
     ]
    },
    {
     "name": "stderr",
     "output_type": "stream",
     "text": [
      "Epoch 464/512: 100%|██████████████████████████████████████████████████████████████████████████████████████████████████████████| 910/910 [00:27<00:00, 33.43it/s]\n"
     ]
    },
    {
     "name": "stdout",
     "output_type": "stream",
     "text": [
      "Epoch 464/512: Train Loss = 0.21612, Validation Loss = 0.26572, Train Accuracy = 0.82717, Validation Accuracy = 0.81729\n"
     ]
    },
    {
     "name": "stderr",
     "output_type": "stream",
     "text": [
      "Epoch 465/512: 100%|██████████████████████████████████████████████████████████████████████████████████████████████████████████| 910/910 [00:27<00:00, 33.00it/s]\n"
     ]
    },
    {
     "name": "stdout",
     "output_type": "stream",
     "text": [
      "Epoch 465/512: Train Loss = 0.21618, Validation Loss = 0.26571, Train Accuracy = 0.82828, Validation Accuracy = 0.81551\n"
     ]
    },
    {
     "name": "stderr",
     "output_type": "stream",
     "text": [
      "Epoch 466/512: 100%|██████████████████████████████████████████████████████████████████████████████████████████████████████████| 910/910 [00:27<00:00, 33.18it/s]\n"
     ]
    },
    {
     "name": "stdout",
     "output_type": "stream",
     "text": [
      "Epoch 466/512: Train Loss = 0.21555, Validation Loss = 0.26479, Train Accuracy = 0.82871, Validation Accuracy = 0.81757\n"
     ]
    },
    {
     "name": "stderr",
     "output_type": "stream",
     "text": [
      "Epoch 467/512: 100%|██████████████████████████████████████████████████████████████████████████████████████████████████████████| 910/910 [00:27<00:00, 33.34it/s]\n"
     ]
    },
    {
     "name": "stdout",
     "output_type": "stream",
     "text": [
      "Epoch 467/512: Train Loss = 0.21472, Validation Loss = 0.26298, Train Accuracy = 0.82985, Validation Accuracy = 0.81743\n"
     ]
    },
    {
     "name": "stderr",
     "output_type": "stream",
     "text": [
      "Epoch 468/512: 100%|██████████████████████████████████████████████████████████████████████████████████████████████████████████| 910/910 [00:27<00:00, 33.34it/s]\n"
     ]
    },
    {
     "name": "stdout",
     "output_type": "stream",
     "text": [
      "Epoch 468/512: Train Loss = 0.21506, Validation Loss = 0.26453, Train Accuracy = 0.82803, Validation Accuracy = 0.81221\n"
     ]
    },
    {
     "name": "stderr",
     "output_type": "stream",
     "text": [
      "Epoch 469/512: 100%|██████████████████████████████████████████████████████████████████████████████████████████████████████████| 910/910 [00:27<00:00, 33.10it/s]\n"
     ]
    },
    {
     "name": "stdout",
     "output_type": "stream",
     "text": [
      "Epoch 469/512: Train Loss = 0.21570, Validation Loss = 0.27804, Train Accuracy = 0.82792, Validation Accuracy = 0.80822\n"
     ]
    },
    {
     "name": "stderr",
     "output_type": "stream",
     "text": [
      "Epoch 470/512: 100%|██████████████████████████████████████████████████████████████████████████████████████████████████████████| 910/910 [00:27<00:00, 33.19it/s]\n"
     ]
    },
    {
     "name": "stdout",
     "output_type": "stream",
     "text": [
      "Epoch 470/512: Train Loss = 0.21688, Validation Loss = 0.25651, Train Accuracy = 0.82679, Validation Accuracy = 0.81812\n"
     ]
    },
    {
     "name": "stderr",
     "output_type": "stream",
     "text": [
      "Epoch 471/512: 100%|██████████████████████████████████████████████████████████████████████████████████████████████████████████| 910/910 [00:27<00:00, 33.28it/s]\n"
     ]
    },
    {
     "name": "stdout",
     "output_type": "stream",
     "text": [
      "Epoch 471/512: Train Loss = 0.21653, Validation Loss = 0.26710, Train Accuracy = 0.82839, Validation Accuracy = 0.81633\n"
     ]
    },
    {
     "name": "stderr",
     "output_type": "stream",
     "text": [
      "Epoch 472/512: 100%|██████████████████████████████████████████████████████████████████████████████████████████████████████████| 910/910 [00:27<00:00, 33.11it/s]\n"
     ]
    },
    {
     "name": "stdout",
     "output_type": "stream",
     "text": [
      "Epoch 472/512: Train Loss = 0.21490, Validation Loss = 0.27397, Train Accuracy = 0.82889, Validation Accuracy = 0.80918\n"
     ]
    },
    {
     "name": "stderr",
     "output_type": "stream",
     "text": [
      "Epoch 473/512: 100%|██████████████████████████████████████████████████████████████████████████████████████████████████████████| 910/910 [00:27<00:00, 33.12it/s]\n"
     ]
    },
    {
     "name": "stdout",
     "output_type": "stream",
     "text": [
      "Epoch 473/512: Train Loss = 0.21593, Validation Loss = 0.26547, Train Accuracy = 0.82737, Validation Accuracy = 0.81221\n"
     ]
    },
    {
     "name": "stderr",
     "output_type": "stream",
     "text": [
      "Epoch 474/512: 100%|██████████████████████████████████████████████████████████████████████████████████████████████████████████| 910/910 [00:27<00:00, 33.14it/s]\n"
     ]
    },
    {
     "name": "stdout",
     "output_type": "stream",
     "text": [
      "Epoch 474/512: Train Loss = 0.21548, Validation Loss = 0.26944, Train Accuracy = 0.82885, Validation Accuracy = 0.81936\n"
     ]
    },
    {
     "name": "stderr",
     "output_type": "stream",
     "text": [
      "Epoch 475/512: 100%|██████████████████████████████████████████████████████████████████████████████████████████████████████████| 910/910 [00:27<00:00, 32.89it/s]\n"
     ]
    },
    {
     "name": "stdout",
     "output_type": "stream",
     "text": [
      "Epoch 475/512: Train Loss = 0.21483, Validation Loss = 0.26644, Train Accuracy = 0.82820, Validation Accuracy = 0.81592\n"
     ]
    },
    {
     "name": "stderr",
     "output_type": "stream",
     "text": [
      "Epoch 476/512: 100%|██████████████████████████████████████████████████████████████████████████████████████████████████████████| 910/910 [00:27<00:00, 33.44it/s]\n"
     ]
    },
    {
     "name": "stdout",
     "output_type": "stream",
     "text": [
      "Epoch 476/512: Train Loss = 0.21573, Validation Loss = 0.26923, Train Accuracy = 0.82696, Validation Accuracy = 0.81262\n"
     ]
    },
    {
     "name": "stderr",
     "output_type": "stream",
     "text": [
      "Epoch 477/512: 100%|██████████████████████████████████████████████████████████████████████████████████████████████████████████| 910/910 [00:27<00:00, 33.03it/s]\n"
     ]
    },
    {
     "name": "stdout",
     "output_type": "stream",
     "text": [
      "Epoch 477/512: Train Loss = 0.21561, Validation Loss = 0.26340, Train Accuracy = 0.82904, Validation Accuracy = 0.81331\n"
     ]
    },
    {
     "name": "stderr",
     "output_type": "stream",
     "text": [
      "Epoch 478/512: 100%|██████████████████████████████████████████████████████████████████████████████████████████████████████████| 910/910 [00:27<00:00, 33.36it/s]\n"
     ]
    },
    {
     "name": "stdout",
     "output_type": "stream",
     "text": [
      "Epoch 478/512: Train Loss = 0.21586, Validation Loss = 0.26365, Train Accuracy = 0.82657, Validation Accuracy = 0.81125\n"
     ]
    },
    {
     "name": "stderr",
     "output_type": "stream",
     "text": [
      "Epoch 479/512: 100%|██████████████████████████████████████████████████████████████████████████████████████████████████████████| 910/910 [00:27<00:00, 33.30it/s]\n"
     ]
    },
    {
     "name": "stdout",
     "output_type": "stream",
     "text": [
      "Epoch 479/512: Train Loss = 0.21095, Validation Loss = 0.26166, Train Accuracy = 0.82852, Validation Accuracy = 0.81509\n"
     ]
    },
    {
     "name": "stderr",
     "output_type": "stream",
     "text": [
      "Epoch 480/512: 100%|██████████████████████████████████████████████████████████████████████████████████████████████████████████| 910/910 [00:27<00:00, 33.00it/s]\n"
     ]
    },
    {
     "name": "stdout",
     "output_type": "stream",
     "text": [
      "Epoch 480/512: Train Loss = 0.21079, Validation Loss = 0.27119, Train Accuracy = 0.83239, Validation Accuracy = 0.80863\n"
     ]
    },
    {
     "name": "stderr",
     "output_type": "stream",
     "text": [
      "Epoch 481/512: 100%|██████████████████████████████████████████████████████████████████████████████████████████████████████████| 910/910 [00:27<00:00, 33.09it/s]\n"
     ]
    },
    {
     "name": "stdout",
     "output_type": "stream",
     "text": [
      "Epoch 481/512: Train Loss = 0.21086, Validation Loss = 0.26340, Train Accuracy = 0.83069, Validation Accuracy = 0.81372\n"
     ]
    },
    {
     "name": "stderr",
     "output_type": "stream",
     "text": [
      "Epoch 482/512: 100%|██████████████████████████████████████████████████████████████████████████████████████████████████████████| 910/910 [00:27<00:00, 33.10it/s]\n"
     ]
    },
    {
     "name": "stdout",
     "output_type": "stream",
     "text": [
      "Epoch 482/512: Train Loss = 0.20990, Validation Loss = 0.26444, Train Accuracy = 0.82971, Validation Accuracy = 0.81386\n"
     ]
    },
    {
     "name": "stderr",
     "output_type": "stream",
     "text": [
      "Epoch 483/512: 100%|██████████████████████████████████████████████████████████████████████████████████████████████████████████| 910/910 [00:27<00:00, 32.99it/s]\n"
     ]
    },
    {
     "name": "stdout",
     "output_type": "stream",
     "text": [
      "Epoch 483/512: Train Loss = 0.21041, Validation Loss = 0.26744, Train Accuracy = 0.83163, Validation Accuracy = 0.81290\n"
     ]
    },
    {
     "name": "stderr",
     "output_type": "stream",
     "text": [
      "Epoch 484/512: 100%|██████████████████████████████████████████████████████████████████████████████████████████████████████████| 910/910 [00:27<00:00, 33.09it/s]\n"
     ]
    },
    {
     "name": "stdout",
     "output_type": "stream",
     "text": [
      "Epoch 484/512: Train Loss = 0.20996, Validation Loss = 0.26330, Train Accuracy = 0.83110, Validation Accuracy = 0.81303\n"
     ]
    },
    {
     "name": "stderr",
     "output_type": "stream",
     "text": [
      "Epoch 485/512: 100%|██████████████████████████████████████████████████████████████████████████████████████████████████████████| 910/910 [00:27<00:00, 33.57it/s]\n"
     ]
    },
    {
     "name": "stdout",
     "output_type": "stream",
     "text": [
      "Epoch 485/512: Train Loss = 0.20851, Validation Loss = 0.26304, Train Accuracy = 0.83213, Validation Accuracy = 0.81262\n"
     ]
    },
    {
     "name": "stderr",
     "output_type": "stream",
     "text": [
      "Epoch 486/512: 100%|██████████████████████████████████████████████████████████████████████████████████████████████████████████| 910/910 [00:27<00:00, 33.22it/s]\n"
     ]
    },
    {
     "name": "stdout",
     "output_type": "stream",
     "text": [
      "Epoch 486/512: Train Loss = 0.20932, Validation Loss = 0.26042, Train Accuracy = 0.83332, Validation Accuracy = 0.81633\n"
     ]
    },
    {
     "name": "stderr",
     "output_type": "stream",
     "text": [
      "Epoch 487/512: 100%|██████████████████████████████████████████████████████████████████████████████████████████████████████████| 910/910 [00:27<00:00, 33.16it/s]\n"
     ]
    },
    {
     "name": "stdout",
     "output_type": "stream",
     "text": [
      "Epoch 487/512: Train Loss = 0.20895, Validation Loss = 0.26560, Train Accuracy = 0.83282, Validation Accuracy = 0.81303\n"
     ]
    },
    {
     "name": "stderr",
     "output_type": "stream",
     "text": [
      "Epoch 488/512: 100%|██████████████████████████████████████████████████████████████████████████████████████████████████████████| 910/910 [00:27<00:00, 33.19it/s]\n"
     ]
    },
    {
     "name": "stdout",
     "output_type": "stream",
     "text": [
      "Epoch 488/512: Train Loss = 0.20938, Validation Loss = 0.25767, Train Accuracy = 0.83246, Validation Accuracy = 0.81729\n"
     ]
    },
    {
     "name": "stderr",
     "output_type": "stream",
     "text": [
      "Epoch 489/512: 100%|██████████████████████████████████████████████████████████████████████████████████████████████████████████| 910/910 [00:27<00:00, 33.23it/s]\n"
     ]
    },
    {
     "name": "stdout",
     "output_type": "stream",
     "text": [
      "Epoch 489/512: Train Loss = 0.20823, Validation Loss = 0.26047, Train Accuracy = 0.83218, Validation Accuracy = 0.81839\n"
     ]
    },
    {
     "name": "stderr",
     "output_type": "stream",
     "text": [
      "Epoch 490/512: 100%|██████████████████████████████████████████████████████████████████████████████████████████████████████████| 910/910 [00:27<00:00, 33.22it/s]\n"
     ]
    },
    {
     "name": "stdout",
     "output_type": "stream",
     "text": [
      "Epoch 490/512: Train Loss = 0.20943, Validation Loss = 0.25777, Train Accuracy = 0.83131, Validation Accuracy = 0.81908\n"
     ]
    },
    {
     "name": "stderr",
     "output_type": "stream",
     "text": [
      "Epoch 491/512: 100%|██████████████████████████████████████████████████████████████████████████████████████████████████████████| 910/910 [00:27<00:00, 33.18it/s]\n"
     ]
    },
    {
     "name": "stdout",
     "output_type": "stream",
     "text": [
      "Epoch 491/512: Train Loss = 0.20995, Validation Loss = 0.26319, Train Accuracy = 0.83151, Validation Accuracy = 0.81551\n"
     ]
    },
    {
     "name": "stderr",
     "output_type": "stream",
     "text": [
      "Epoch 492/512: 100%|██████████████████████████████████████████████████████████████████████████████████████████████████████████| 910/910 [00:27<00:00, 33.38it/s]\n"
     ]
    },
    {
     "name": "stdout",
     "output_type": "stream",
     "text": [
      "Epoch 492/512: Train Loss = 0.20925, Validation Loss = 0.27131, Train Accuracy = 0.83365, Validation Accuracy = 0.81331\n"
     ]
    },
    {
     "name": "stderr",
     "output_type": "stream",
     "text": [
      "Epoch 493/512: 100%|██████████████████████████████████████████████████████████████████████████████████████████████████████████| 910/910 [00:27<00:00, 33.35it/s]\n"
     ]
    },
    {
     "name": "stdout",
     "output_type": "stream",
     "text": [
      "Epoch 493/512: Train Loss = 0.20786, Validation Loss = 0.26211, Train Accuracy = 0.83186, Validation Accuracy = 0.81290\n"
     ]
    },
    {
     "name": "stderr",
     "output_type": "stream",
     "text": [
      "Epoch 494/512: 100%|██████████████████████████████████████████████████████████████████████████████████████████████████████████| 910/910 [00:27<00:00, 33.24it/s]\n"
     ]
    },
    {
     "name": "stdout",
     "output_type": "stream",
     "text": [
      "Epoch 494/512: Train Loss = 0.20942, Validation Loss = 0.26689, Train Accuracy = 0.83267, Validation Accuracy = 0.81331\n"
     ]
    },
    {
     "name": "stderr",
     "output_type": "stream",
     "text": [
      "Epoch 495/512: 100%|██████████████████████████████████████████████████████████████████████████████████████████████████████████| 910/910 [00:27<00:00, 33.00it/s]\n"
     ]
    },
    {
     "name": "stdout",
     "output_type": "stream",
     "text": [
      "Epoch 495/512: Train Loss = 0.20857, Validation Loss = 0.25964, Train Accuracy = 0.83189, Validation Accuracy = 0.81564\n"
     ]
    },
    {
     "name": "stderr",
     "output_type": "stream",
     "text": [
      "Epoch 496/512: 100%|██████████████████████████████████████████████████████████████████████████████████████████████████████████| 910/910 [00:27<00:00, 33.29it/s]\n"
     ]
    },
    {
     "name": "stdout",
     "output_type": "stream",
     "text": [
      "Epoch 496/512: Train Loss = 0.20874, Validation Loss = 0.26048, Train Accuracy = 0.83229, Validation Accuracy = 0.81784\n"
     ]
    },
    {
     "name": "stderr",
     "output_type": "stream",
     "text": [
      "Epoch 497/512: 100%|██████████████████████████████████████████████████████████████████████████████████████████████████████████| 910/910 [00:27<00:00, 33.17it/s]\n"
     ]
    },
    {
     "name": "stdout",
     "output_type": "stream",
     "text": [
      "Epoch 497/512: Train Loss = 0.20915, Validation Loss = 0.25888, Train Accuracy = 0.83208, Validation Accuracy = 0.81606\n"
     ]
    },
    {
     "name": "stderr",
     "output_type": "stream",
     "text": [
      "Epoch 498/512: 100%|██████████████████████████████████████████████████████████████████████████████████████████████████████████| 910/910 [00:27<00:00, 33.01it/s]\n"
     ]
    },
    {
     "name": "stdout",
     "output_type": "stream",
     "text": [
      "Epoch 498/512: Train Loss = 0.20897, Validation Loss = 0.26272, Train Accuracy = 0.83243, Validation Accuracy = 0.81578\n"
     ]
    },
    {
     "name": "stderr",
     "output_type": "stream",
     "text": [
      "Epoch 499/512: 100%|██████████████████████████████████████████████████████████████████████████████████████████████████████████| 910/910 [00:27<00:00, 33.25it/s]\n"
     ]
    },
    {
     "name": "stdout",
     "output_type": "stream",
     "text": [
      "Epoch 499/512: Train Loss = 0.20885, Validation Loss = 0.27188, Train Accuracy = 0.83157, Validation Accuracy = 0.81262\n"
     ]
    },
    {
     "name": "stderr",
     "output_type": "stream",
     "text": [
      "Epoch 500/512: 100%|██████████████████████████████████████████████████████████████████████████████████████████████████████████| 910/910 [00:27<00:00, 32.97it/s]\n"
     ]
    },
    {
     "name": "stdout",
     "output_type": "stream",
     "text": [
      "Epoch 500/512: Train Loss = 0.20855, Validation Loss = 0.26405, Train Accuracy = 0.83217, Validation Accuracy = 0.81413\n"
     ]
    },
    {
     "name": "stderr",
     "output_type": "stream",
     "text": [
      "Epoch 501/512: 100%|██████████████████████████████████████████████████████████████████████████████████████████████████████████| 910/910 [00:27<00:00, 33.17it/s]\n"
     ]
    },
    {
     "name": "stdout",
     "output_type": "stream",
     "text": [
      "Epoch 501/512: Train Loss = 0.20842, Validation Loss = 0.25949, Train Accuracy = 0.83122, Validation Accuracy = 0.81454\n"
     ]
    },
    {
     "name": "stderr",
     "output_type": "stream",
     "text": [
      "Epoch 502/512: 100%|██████████████████████████████████████████████████████████████████████████████████████████████████████████| 910/910 [00:27<00:00, 33.07it/s]\n"
     ]
    },
    {
     "name": "stdout",
     "output_type": "stream",
     "text": [
      "Epoch 502/512: Train Loss = 0.20828, Validation Loss = 0.26271, Train Accuracy = 0.83237, Validation Accuracy = 0.81454\n"
     ]
    },
    {
     "name": "stderr",
     "output_type": "stream",
     "text": [
      "Epoch 503/512: 100%|██████████████████████████████████████████████████████████████████████████████████████████████████████████| 910/910 [00:27<00:00, 33.08it/s]\n"
     ]
    },
    {
     "name": "stdout",
     "output_type": "stream",
     "text": [
      "Epoch 503/512: Train Loss = 0.20740, Validation Loss = 0.26851, Train Accuracy = 0.83256, Validation Accuracy = 0.81551\n"
     ]
    },
    {
     "name": "stderr",
     "output_type": "stream",
     "text": [
      "Epoch 504/512: 100%|██████████████████████████████████████████████████████████████████████████████████████████████████████████| 910/910 [00:27<00:00, 33.15it/s]\n"
     ]
    },
    {
     "name": "stdout",
     "output_type": "stream",
     "text": [
      "Epoch 504/512: Train Loss = 0.20777, Validation Loss = 0.26166, Train Accuracy = 0.83249, Validation Accuracy = 0.82073\n"
     ]
    },
    {
     "name": "stderr",
     "output_type": "stream",
     "text": [
      "Epoch 505/512: 100%|██████████████████████████████████████████████████████████████████████████████████████████████████████████| 910/910 [00:27<00:00, 33.14it/s]\n"
     ]
    },
    {
     "name": "stdout",
     "output_type": "stream",
     "text": [
      "Epoch 505/512: Train Loss = 0.20841, Validation Loss = 0.26119, Train Accuracy = 0.83277, Validation Accuracy = 0.81454\n"
     ]
    },
    {
     "name": "stderr",
     "output_type": "stream",
     "text": [
      "Epoch 506/512: 100%|██████████████████████████████████████████████████████████████████████████████████████████████████████████| 910/910 [00:27<00:00, 33.06it/s]\n"
     ]
    },
    {
     "name": "stdout",
     "output_type": "stream",
     "text": [
      "Epoch 506/512: Train Loss = 0.20786, Validation Loss = 0.26668, Train Accuracy = 0.83229, Validation Accuracy = 0.81372\n"
     ]
    },
    {
     "name": "stderr",
     "output_type": "stream",
     "text": [
      "Epoch 507/512: 100%|██████████████████████████████████████████████████████████████████████████████████████████████████████████| 910/910 [00:27<00:00, 33.02it/s]\n"
     ]
    },
    {
     "name": "stdout",
     "output_type": "stream",
     "text": [
      "Epoch 507/512: Train Loss = 0.20823, Validation Loss = 0.26190, Train Accuracy = 0.83208, Validation Accuracy = 0.81509\n"
     ]
    },
    {
     "name": "stderr",
     "output_type": "stream",
     "text": [
      "Epoch 508/512: 100%|██████████████████████████████████████████████████████████████████████████████████████████████████████████| 910/910 [00:27<00:00, 33.19it/s]\n"
     ]
    },
    {
     "name": "stdout",
     "output_type": "stream",
     "text": [
      "Epoch 508/512: Train Loss = 0.20830, Validation Loss = 0.26742, Train Accuracy = 0.83323, Validation Accuracy = 0.81578\n"
     ]
    },
    {
     "name": "stderr",
     "output_type": "stream",
     "text": [
      "Epoch 509/512: 100%|██████████████████████████████████████████████████████████████████████████████████████████████████████████| 910/910 [00:27<00:00, 33.01it/s]\n"
     ]
    },
    {
     "name": "stdout",
     "output_type": "stream",
     "text": [
      "Epoch 509/512: Train Loss = 0.20845, Validation Loss = 0.26958, Train Accuracy = 0.83215, Validation Accuracy = 0.81331\n"
     ]
    },
    {
     "name": "stderr",
     "output_type": "stream",
     "text": [
      "Epoch 510/512: 100%|██████████████████████████████████████████████████████████████████████████████████████████████████████████| 910/910 [00:27<00:00, 33.22it/s]\n"
     ]
    },
    {
     "name": "stdout",
     "output_type": "stream",
     "text": [
      "Epoch 510/512: Train Loss = 0.20847, Validation Loss = 0.25680, Train Accuracy = 0.83313, Validation Accuracy = 0.81729\n"
     ]
    },
    {
     "data": {
      "image/png": "[encoded data removed]",
      "text/plain": [
       "<Figure size 1500x700 with 2 Axes>"
      ]
     },
     "metadata": {},
     "output_type": "display_data"
    }
   ],
   "source": [
    "import argparse\n",
    "\n",
    "training_args = argparse.Namespace(**args)\n",
    "train_model(training_args, device)"
   ]
  },
  {
   "cell_type": "code",
   "execution_count": null,
   "metadata": {},
   "outputs": [],
   "source": []
  }
 ],
 "metadata": {
  "kernelspec": {
   "display_name": "Python (myenv)",
   "language": "python",
   "name": "myenv"
  },
  "language_info": {
   "codemirror_mode": {
    "name": "ipython",
    "version": 3
   },
   "file_extension": ".py",
   "mimetype": "text/x-python",
   "name": "python",
   "nbconvert_exporter": "python",
   "pygments_lexer": "ipython3",
   "version": "3.12.7"
  }
 },
 "nbformat": 4,
 "nbformat_minor": 4
}
