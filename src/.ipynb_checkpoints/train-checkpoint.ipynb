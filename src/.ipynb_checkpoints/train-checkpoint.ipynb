{
 "cells": [
  {
   "cell_type": "code",
   "execution_count": 1,
   "metadata": {},
   "outputs": [
    {
     "name": "stdout",
     "output_type": "stream",
     "text": [
      "Using device: cpu\n"
     ]
    }
   ],
   "source": [
    "import torch\n",
    "\n",
    "# Local imports\n",
    "from train import train_model"
   ]
  },
  {
   "cell_type": "code",
   "execution_count": 2,
   "metadata": {},
   "outputs": [
    {
     "name": "stdout",
     "output_type": "stream",
     "text": [
      "Using device: cuda:0\n"
     ]
    }
   ],
   "source": [
    "if torch.backends.mps.is_available():\n",
    "    device = torch.device(\"mps\")\n",
    "elif torch.cuda.is_available():\n",
    "    device = torch.device(\"cuda:0\")\n",
    "else:\n",
    "    device = torch.device(\"cpu\")\n",
    "\n",
    "print(f\"Using device: {device}\")"
   ]
  },
  {
   "cell_type": "code",
   "execution_count": 3,
   "metadata": {},
   "outputs": [],
   "source": [
    "args = {\n",
    "    \"use_small_dataset\": True,\n",
    "    \"batch_size\": 64,\n",
    "    \"stoppage_epochs\": 128,\n",
    "    \"max_epochs\": 512,\n",
    "    \"seed\": 42,\n",
    "    \"data_path\": \"../data\",\n",
    "    \"frac_train\": 0.8,\n",
    "    \"frac_validation\": 0.1,\n",
    "    \"frac_test\": 0.1,\n",
    "    \"huber_beta\": 0.5,\n",
    "    \"weight_decay\": 1e-3,\n",
    "    \"lr\": 3e-4,\n",
    "    \"scheduler_patience\": 10,\n",
    "    \"scheduler_factor\": 0.5,\n",
    "    \"hidden_size\": 96,\n",
    "    \"num_layers\": 7,\n",
    "    \"num_attn_heads\": 6,\n",
    "    \"dropout\": 0.2,\n",
    "    \"pooling_dropout\": 0.1,\n",
    "    \"pooling_dim\": 96,\n",
    "}"
   ]
  },
  {
   "cell_type": "code",
   "execution_count": 4,
   "metadata": {},
   "outputs": [
    {
     "name": "stdout",
     "output_type": "stream",
     "text": [
      "Model parameters: 182906\n"
     ]
    },
    {
     "name": "stderr",
     "output_type": "stream",
     "text": [
      "Epoch 1/512: 100%|████████████████████████████████████████████████████████████████████████| 63/63 [00:10<00:00,  6.26it/s]\n"
     ]
    },
    {
     "name": "stdout",
     "output_type": "stream",
     "text": [
      "Epoch 1/512: \n",
      "Train Loss = 0.86919, Train MSE = 1.87910, Train MAE = 1.09386, Train Acc = 0.53611\n",
      "Val Loss = 0.78970, Val MSE = 1.59419, Val MAE = 1.00841, Val Acc = 0.54582\n"
     ]
    },
    {
     "name": "stderr",
     "output_type": "stream",
     "text": [
      "Epoch 2/512: 100%|████████████████████████████████████████████████████████████████████████| 63/63 [00:02<00:00, 21.63it/s]\n"
     ]
    },
    {
     "name": "stdout",
     "output_type": "stream",
     "text": [
      "Epoch 2/512: \n",
      "Train Loss = 0.74404, Train MSE = 1.43479, Train MAE = 0.96658, Train Acc = 0.58167\n",
      "Val Loss = 0.75983, Val MSE = 1.50713, Val MAE = 0.98363, Val Acc = 0.58765\n"
     ]
    },
    {
     "name": "stderr",
     "output_type": "stream",
     "text": [
      "Epoch 3/512: 100%|████████████████████████████████████████████████████████████████████████| 63/63 [00:02<00:00, 21.54it/s]\n"
     ]
    },
    {
     "name": "stdout",
     "output_type": "stream",
     "text": [
      "Epoch 3/512: \n",
      "Train Loss = 0.72149, Train MSE = 1.37230, Train MAE = 0.94465, Train Acc = 0.59786\n",
      "Val Loss = 0.74045, Val MSE = 1.44756, Val MAE = 0.95877, Val Acc = 0.59960\n"
     ]
    },
    {
     "name": "stderr",
     "output_type": "stream",
     "text": [
      "Epoch 4/512: 100%|████████████████████████████████████████████████████████████████████████| 63/63 [00:02<00:00, 21.30it/s]\n"
     ]
    },
    {
     "name": "stdout",
     "output_type": "stream",
     "text": [
      "Epoch 4/512: \n",
      "Train Loss = 0.71444, Train MSE = 1.34877, Train MAE = 0.93641, Train Acc = 0.58790\n",
      "Val Loss = 0.70300, Val MSE = 1.33450, Val MAE = 0.92255, Val Acc = 0.61155\n"
     ]
    },
    {
     "name": "stderr",
     "output_type": "stream",
     "text": [
      "Epoch 5/512: 100%|████████████████████████████████████████████████████████████████████████| 63/63 [00:02<00:00, 21.21it/s]\n"
     ]
    },
    {
     "name": "stdout",
     "output_type": "stream",
     "text": [
      "Epoch 5/512: \n",
      "Train Loss = 0.70636, Train MSE = 1.31436, Train MAE = 0.92966, Train Acc = 0.60184\n",
      "Val Loss = 0.69000, Val MSE = 1.29753, Val MAE = 0.91113, Val Acc = 0.61554\n"
     ]
    },
    {
     "name": "stderr",
     "output_type": "stream",
     "text": [
      "Epoch 6/512: 100%|████████████████████████████████████████████████████████████████████████| 63/63 [00:02<00:00, 21.39it/s]\n"
     ]
    },
    {
     "name": "stdout",
     "output_type": "stream",
     "text": [
      "Epoch 6/512: \n",
      "Train Loss = 0.70434, Train MSE = 1.31736, Train MAE = 0.92748, Train Acc = 0.60508\n",
      "Val Loss = 0.70806, Val MSE = 1.33755, Val MAE = 0.92852, Val Acc = 0.59761\n"
     ]
    },
    {
     "name": "stderr",
     "output_type": "stream",
     "text": [
      "Epoch 7/512: 100%|████████████████████████████████████████████████████████████████████████| 63/63 [00:02<00:00, 21.41it/s]\n"
     ]
    },
    {
     "name": "stdout",
     "output_type": "stream",
     "text": [
      "Epoch 7/512: \n",
      "Train Loss = 0.69488, Train MSE = 1.29613, Train MAE = 0.91631, Train Acc = 0.60408\n",
      "Val Loss = 0.69460, Val MSE = 1.33014, Val MAE = 0.91103, Val Acc = 0.63147\n"
     ]
    },
    {
     "name": "stderr",
     "output_type": "stream",
     "text": [
      "Epoch 8/512: 100%|████████████████████████████████████████████████████████████████████████| 63/63 [00:02<00:00, 21.66it/s]\n"
     ]
    },
    {
     "name": "stdout",
     "output_type": "stream",
     "text": [
      "Epoch 8/512: \n",
      "Train Loss = 0.69315, Train MSE = 1.28952, Train MAE = 0.91601, Train Acc = 0.61031\n",
      "Val Loss = 0.66760, Val MSE = 1.23147, Val MAE = 0.88693, Val Acc = 0.61753\n"
     ]
    },
    {
     "name": "stderr",
     "output_type": "stream",
     "text": [
      "Epoch 9/512: 100%|████████████████████████████████████████████████████████████████████████| 63/63 [00:02<00:00, 21.49it/s]\n"
     ]
    },
    {
     "name": "stdout",
     "output_type": "stream",
     "text": [
      "Epoch 9/512: \n",
      "Train Loss = 0.69324, Train MSE = 1.29191, Train MAE = 0.91523, Train Acc = 0.61529\n",
      "Val Loss = 0.70024, Val MSE = 1.34153, Val MAE = 0.91973, Val Acc = 0.62351\n"
     ]
    },
    {
     "name": "stderr",
     "output_type": "stream",
     "text": [
      "Epoch 10/512: 100%|███████████████████████████████████████████████████████████████████████| 63/63 [00:02<00:00, 21.20it/s]\n"
     ]
    },
    {
     "name": "stdout",
     "output_type": "stream",
     "text": [
      "Epoch 10/512: \n",
      "Train Loss = 0.69083, Train MSE = 1.27929, Train MAE = 0.91314, Train Acc = 0.61031\n",
      "Val Loss = 0.69307, Val MSE = 1.32845, Val MAE = 0.91250, Val Acc = 0.62749\n"
     ]
    },
    {
     "name": "stderr",
     "output_type": "stream",
     "text": [
      "Epoch 11/512: 100%|███████████████████████████████████████████████████████████████████████| 63/63 [00:02<00:00, 21.63it/s]\n"
     ]
    },
    {
     "name": "stdout",
     "output_type": "stream",
     "text": [
      "Epoch 11/512: \n",
      "Train Loss = 0.69865, Train MSE = 1.30398, Train MAE = 0.92100, Train Acc = 0.60608\n",
      "Val Loss = 0.69077, Val MSE = 1.28658, Val MAE = 0.91363, Val Acc = 0.62351\n"
     ]
    },
    {
     "name": "stderr",
     "output_type": "stream",
     "text": [
      "Epoch 12/512: 100%|███████████████████████████████████████████████████████████████████████| 63/63 [00:02<00:00, 21.38it/s]\n"
     ]
    },
    {
     "name": "stdout",
     "output_type": "stream",
     "text": [
      "Epoch 12/512: \n",
      "Train Loss = 0.68858, Train MSE = 1.26960, Train MAE = 0.91175, Train Acc = 0.61678\n",
      "Val Loss = 0.67346, Val MSE = 1.29074, Val MAE = 0.88914, Val Acc = 0.64343\n"
     ]
    },
    {
     "name": "stderr",
     "output_type": "stream",
     "text": [
      "Epoch 13/512: 100%|███████████████████████████████████████████████████████████████████████| 63/63 [00:02<00:00, 21.23it/s]\n"
     ]
    },
    {
     "name": "stdout",
     "output_type": "stream",
     "text": [
      "Epoch 13/512: \n",
      "Train Loss = 0.68041, Train MSE = 1.26121, Train MAE = 0.90222, Train Acc = 0.62450\n",
      "Val Loss = 0.67591, Val MSE = 1.29328, Val MAE = 0.89501, Val Acc = 0.63745\n"
     ]
    },
    {
     "name": "stderr",
     "output_type": "stream",
     "text": [
      "Epoch 14/512: 100%|███████████████████████████████████████████████████████████████████████| 63/63 [00:02<00:00, 21.35it/s]\n"
     ]
    },
    {
     "name": "stdout",
     "output_type": "stream",
     "text": [
      "Epoch 14/512: \n",
      "Train Loss = 0.67381, Train MSE = 1.24583, Train MAE = 0.89508, Train Acc = 0.62126\n",
      "Val Loss = 0.69259, Val MSE = 1.31660, Val MAE = 0.91585, Val Acc = 0.62351\n"
     ]
    },
    {
     "name": "stderr",
     "output_type": "stream",
     "text": [
      "Epoch 15/512: 100%|███████████████████████████████████████████████████████████████████████| 63/63 [00:02<00:00, 21.41it/s]\n"
     ]
    },
    {
     "name": "stdout",
     "output_type": "stream",
     "text": [
      "Epoch 15/512: \n",
      "Train Loss = 0.67246, Train MSE = 1.24859, Train MAE = 0.89377, Train Acc = 0.62326\n",
      "Val Loss = 0.66439, Val MSE = 1.24548, Val MAE = 0.88231, Val Acc = 0.62151\n"
     ]
    },
    {
     "name": "stderr",
     "output_type": "stream",
     "text": [
      "Epoch 16/512: 100%|███████████████████████████████████████████████████████████████████████| 63/63 [00:03<00:00, 20.95it/s]\n"
     ]
    },
    {
     "name": "stdout",
     "output_type": "stream",
     "text": [
      "Epoch 16/512: \n",
      "Train Loss = 0.66490, Train MSE = 1.21677, Train MAE = 0.88595, Train Acc = 0.63919\n",
      "Val Loss = 0.64971, Val MSE = 1.21539, Val MAE = 0.86857, Val Acc = 0.65737\n"
     ]
    },
    {
     "name": "stderr",
     "output_type": "stream",
     "text": [
      "Epoch 17/512: 100%|███████████████████████████████████████████████████████████████████████| 63/63 [00:02<00:00, 21.11it/s]\n"
     ]
    },
    {
     "name": "stdout",
     "output_type": "stream",
     "text": [
      "Epoch 17/512: \n",
      "Train Loss = 0.65601, Train MSE = 1.21106, Train MAE = 0.87662, Train Acc = 0.63546\n",
      "Val Loss = 0.65215, Val MSE = 1.22304, Val MAE = 0.86684, Val Acc = 0.65339\n"
     ]
    },
    {
     "name": "stderr",
     "output_type": "stream",
     "text": [
      "Epoch 18/512: 100%|███████████████████████████████████████████████████████████████████████| 63/63 [00:02<00:00, 21.39it/s]\n"
     ]
    },
    {
     "name": "stdout",
     "output_type": "stream",
     "text": [
      "Epoch 18/512: \n",
      "Train Loss = 0.65079, Train MSE = 1.20073, Train MAE = 0.87056, Train Acc = 0.64218\n",
      "Val Loss = 0.64061, Val MSE = 1.19218, Val MAE = 0.85799, Val Acc = 0.65538\n"
     ]
    },
    {
     "name": "stderr",
     "output_type": "stream",
     "text": [
      "Epoch 19/512: 100%|███████████████████████████████████████████████████████████████████████| 63/63 [00:02<00:00, 21.15it/s]\n"
     ]
    },
    {
     "name": "stdout",
     "output_type": "stream",
     "text": [
      "Epoch 19/512: \n",
      "Train Loss = 0.66161, Train MSE = 1.22226, Train MAE = 0.88286, Train Acc = 0.63795\n",
      "Val Loss = 0.67556, Val MSE = 1.31964, Val MAE = 0.89415, Val Acc = 0.63745\n"
     ]
    },
    {
     "name": "stderr",
     "output_type": "stream",
     "text": [
      "Epoch 20/512: 100%|███████████████████████████████████████████████████████████████████████| 63/63 [00:03<00:00, 20.80it/s]\n"
     ]
    },
    {
     "name": "stdout",
     "output_type": "stream",
     "text": [
      "Epoch 20/512: \n",
      "Train Loss = 0.65085, Train MSE = 1.19423, Train MAE = 0.87022, Train Acc = 0.64666\n",
      "Val Loss = 0.65545, Val MSE = 1.23066, Val MAE = 0.87281, Val Acc = 0.62749\n"
     ]
    },
    {
     "name": "stderr",
     "output_type": "stream",
     "text": [
      "Epoch 21/512: 100%|███████████████████████████████████████████████████████████████████████| 63/63 [00:03<00:00, 20.98it/s]\n"
     ]
    },
    {
     "name": "stdout",
     "output_type": "stream",
     "text": [
      "Epoch 21/512: \n",
      "Train Loss = 0.64625, Train MSE = 1.18784, Train MAE = 0.86615, Train Acc = 0.64567\n",
      "Val Loss = 0.71591, Val MSE = 1.42415, Val MAE = 0.93833, Val Acc = 0.61753\n"
     ]
    },
    {
     "name": "stderr",
     "output_type": "stream",
     "text": [
      "Epoch 22/512: 100%|███████████████████████████████████████████████████████████████████████| 63/63 [00:03<00:00, 20.92it/s]\n"
     ]
    },
    {
     "name": "stdout",
     "output_type": "stream",
     "text": [
      "Epoch 22/512: \n",
      "Train Loss = 0.65947, Train MSE = 1.21782, Train MAE = 0.87963, Train Acc = 0.63496\n",
      "Val Loss = 0.66824, Val MSE = 1.26015, Val MAE = 0.88652, Val Acc = 0.64343\n"
     ]
    },
    {
     "name": "stderr",
     "output_type": "stream",
     "text": [
      "Epoch 23/512: 100%|███████████████████████████████████████████████████████████████████████| 63/63 [00:02<00:00, 21.37it/s]\n"
     ]
    },
    {
     "name": "stdout",
     "output_type": "stream",
     "text": [
      "Epoch 23/512: \n",
      "Train Loss = 0.64508, Train MSE = 1.18537, Train MAE = 0.86350, Train Acc = 0.64841\n",
      "Val Loss = 0.64378, Val MSE = 1.20382, Val MAE = 0.86164, Val Acc = 0.64741\n"
     ]
    },
    {
     "name": "stderr",
     "output_type": "stream",
     "text": [
      "Epoch 24/512: 100%|███████████████████████████████████████████████████████████████████████| 63/63 [00:02<00:00, 21.51it/s]\n"
     ]
    },
    {
     "name": "stdout",
     "output_type": "stream",
     "text": [
      "Epoch 24/512: \n",
      "Train Loss = 0.65220, Train MSE = 1.19810, Train MAE = 0.87197, Train Acc = 0.64368\n",
      "Val Loss = 0.63512, Val MSE = 1.16314, Val MAE = 0.85485, Val Acc = 0.64940\n"
     ]
    },
    {
     "name": "stderr",
     "output_type": "stream",
     "text": [
      "Epoch 25/512: 100%|███████████████████████████████████████████████████████████████████████| 63/63 [00:02<00:00, 21.09it/s]\n"
     ]
    },
    {
     "name": "stdout",
     "output_type": "stream",
     "text": [
      "Epoch 25/512: \n",
      "Train Loss = 0.63329, Train MSE = 1.15883, Train MAE = 0.85158, Train Acc = 0.65563\n",
      "Val Loss = 0.63992, Val MSE = 1.20791, Val MAE = 0.85612, Val Acc = 0.65737\n"
     ]
    },
    {
     "name": "stderr",
     "output_type": "stream",
     "text": [
      "Epoch 26/512: 100%|███████████████████████████████████████████████████████████████████████| 63/63 [00:02<00:00, 21.31it/s]\n"
     ]
    },
    {
     "name": "stdout",
     "output_type": "stream",
     "text": [
      "Epoch 26/512: \n",
      "Train Loss = 0.63324, Train MSE = 1.15871, Train MAE = 0.85143, Train Acc = 0.65911\n",
      "Val Loss = 0.63307, Val MSE = 1.15357, Val MAE = 0.85258, Val Acc = 0.65139\n"
     ]
    },
    {
     "name": "stderr",
     "output_type": "stream",
     "text": [
      "Epoch 27/512: 100%|███████████████████████████████████████████████████████████████████████| 63/63 [00:02<00:00, 21.33it/s]\n"
     ]
    },
    {
     "name": "stdout",
     "output_type": "stream",
     "text": [
      "Epoch 27/512: \n",
      "Train Loss = 0.63831, Train MSE = 1.16667, Train MAE = 0.85690, Train Acc = 0.65189\n",
      "Val Loss = 0.63235, Val MSE = 1.15770, Val MAE = 0.84889, Val Acc = 0.65538\n"
     ]
    },
    {
     "name": "stderr",
     "output_type": "stream",
     "text": [
      "Epoch 28/512: 100%|███████████████████████████████████████████████████████████████████████| 63/63 [00:03<00:00, 20.89it/s]\n"
     ]
    },
    {
     "name": "stdout",
     "output_type": "stream",
     "text": [
      "Epoch 28/512: \n",
      "Train Loss = 0.62882, Train MSE = 1.13183, Train MAE = 0.84778, Train Acc = 0.65339\n",
      "Val Loss = 0.62081, Val MSE = 1.14273, Val MAE = 0.83852, Val Acc = 0.66534\n"
     ]
    },
    {
     "name": "stderr",
     "output_type": "stream",
     "text": [
      "Epoch 29/512: 100%|███████████████████████████████████████████████████████████████████████| 63/63 [00:02<00:00, 21.41it/s]\n"
     ]
    },
    {
     "name": "stdout",
     "output_type": "stream",
     "text": [
      "Epoch 29/512: \n",
      "Train Loss = 0.63065, Train MSE = 1.13858, Train MAE = 0.85097, Train Acc = 0.65662\n",
      "Val Loss = 0.68445, Val MSE = 1.32983, Val MAE = 0.90376, Val Acc = 0.62749\n"
     ]
    },
    {
     "name": "stderr",
     "output_type": "stream",
     "text": [
      "Epoch 30/512: 100%|███████████████████████████████████████████████████████████████████████| 63/63 [00:03<00:00, 20.90it/s]\n"
     ]
    },
    {
     "name": "stdout",
     "output_type": "stream",
     "text": [
      "Epoch 30/512: \n",
      "Train Loss = 0.62678, Train MSE = 1.13461, Train MAE = 0.84450, Train Acc = 0.65090\n",
      "Val Loss = 0.62817, Val MSE = 1.14646, Val MAE = 0.84593, Val Acc = 0.66534\n"
     ]
    },
    {
     "name": "stderr",
     "output_type": "stream",
     "text": [
      "Epoch 31/512: 100%|███████████████████████████████████████████████████████████████████████| 63/63 [00:02<00:00, 21.25it/s]\n"
     ]
    },
    {
     "name": "stdout",
     "output_type": "stream",
     "text": [
      "Epoch 31/512: \n",
      "Train Loss = 0.63236, Train MSE = 1.15392, Train MAE = 0.84997, Train Acc = 0.65090\n",
      "Val Loss = 0.61437, Val MSE = 1.11676, Val MAE = 0.83221, Val Acc = 0.67530\n"
     ]
    },
    {
     "name": "stderr",
     "output_type": "stream",
     "text": [
      "Epoch 32/512: 100%|███████████████████████████████████████████████████████████████████████| 63/63 [00:02<00:00, 21.19it/s]\n"
     ]
    },
    {
     "name": "stdout",
     "output_type": "stream",
     "text": [
      "Epoch 32/512: \n",
      "Train Loss = 0.61757, Train MSE = 1.12177, Train MAE = 0.83450, Train Acc = 0.66683\n",
      "Val Loss = 0.63737, Val MSE = 1.18689, Val MAE = 0.85405, Val Acc = 0.64542\n"
     ]
    },
    {
     "name": "stderr",
     "output_type": "stream",
     "text": [
      "Epoch 33/512: 100%|███████████████████████████████████████████████████████████████████████| 63/63 [00:02<00:00, 21.22it/s]\n"
     ]
    },
    {
     "name": "stdout",
     "output_type": "stream",
     "text": [
      "Epoch 33/512: \n",
      "Train Loss = 0.61235, Train MSE = 1.10789, Train MAE = 0.82948, Train Acc = 0.66658\n",
      "Val Loss = 0.62352, Val MSE = 1.13577, Val MAE = 0.84216, Val Acc = 0.66335\n"
     ]
    },
    {
     "name": "stderr",
     "output_type": "stream",
     "text": [
      "Epoch 34/512: 100%|███████████████████████████████████████████████████████████████████████| 63/63 [00:03<00:00, 20.86it/s]\n"
     ]
    },
    {
     "name": "stdout",
     "output_type": "stream",
     "text": [
      "Epoch 34/512: \n",
      "Train Loss = 0.61513, Train MSE = 1.10906, Train MAE = 0.83391, Train Acc = 0.66185\n",
      "Val Loss = 0.61662, Val MSE = 1.12397, Val MAE = 0.83254, Val Acc = 0.65538\n"
     ]
    },
    {
     "name": "stderr",
     "output_type": "stream",
     "text": [
      "Epoch 35/512: 100%|███████████████████████████████████████████████████████████████████████| 63/63 [00:02<00:00, 21.05it/s]\n"
     ]
    },
    {
     "name": "stdout",
     "output_type": "stream",
     "text": [
      "Epoch 35/512: \n",
      "Train Loss = 0.61025, Train MSE = 1.10031, Train MAE = 0.82692, Train Acc = 0.66833\n",
      "Val Loss = 0.60123, Val MSE = 1.08776, Val MAE = 0.81749, Val Acc = 0.67530\n"
     ]
    },
    {
     "name": "stderr",
     "output_type": "stream",
     "text": [
      "Epoch 36/512: 100%|███████████████████████████████████████████████████████████████████████| 63/63 [00:02<00:00, 21.02it/s]\n"
     ]
    },
    {
     "name": "stdout",
     "output_type": "stream",
     "text": [
      "Epoch 36/512: \n",
      "Train Loss = 0.60120, Train MSE = 1.07658, Train MAE = 0.81717, Train Acc = 0.67057\n",
      "Val Loss = 0.60793, Val MSE = 1.08616, Val MAE = 0.82486, Val Acc = 0.67530\n"
     ]
    },
    {
     "name": "stderr",
     "output_type": "stream",
     "text": [
      "Epoch 37/512: 100%|███████████████████████████████████████████████████████████████████████| 63/63 [00:02<00:00, 21.22it/s]\n"
     ]
    },
    {
     "name": "stdout",
     "output_type": "stream",
     "text": [
      "Epoch 37/512: \n",
      "Train Loss = 0.60385, Train MSE = 1.08369, Train MAE = 0.81989, Train Acc = 0.67082\n",
      "Val Loss = 0.60453, Val MSE = 1.10114, Val MAE = 0.82192, Val Acc = 0.66135\n"
     ]
    },
    {
     "name": "stderr",
     "output_type": "stream",
     "text": [
      "Epoch 38/512: 100%|███████████████████████████████████████████████████████████████████████| 63/63 [00:02<00:00, 21.03it/s]\n"
     ]
    },
    {
     "name": "stdout",
     "output_type": "stream",
     "text": [
      "Epoch 38/512: \n",
      "Train Loss = 0.60596, Train MSE = 1.09491, Train MAE = 0.82107, Train Acc = 0.67206\n",
      "Val Loss = 0.63164, Val MSE = 1.14809, Val MAE = 0.85058, Val Acc = 0.65339\n"
     ]
    },
    {
     "name": "stderr",
     "output_type": "stream",
     "text": [
      "Epoch 39/512: 100%|███████████████████████████████████████████████████████████████████████| 63/63 [00:03<00:00, 20.99it/s]\n"
     ]
    },
    {
     "name": "stdout",
     "output_type": "stream",
     "text": [
      "Epoch 39/512: \n",
      "Train Loss = 0.60189, Train MSE = 1.07905, Train MAE = 0.81822, Train Acc = 0.67181\n",
      "Val Loss = 0.61307, Val MSE = 1.09297, Val MAE = 0.82842, Val Acc = 0.66733\n"
     ]
    },
    {
     "name": "stderr",
     "output_type": "stream",
     "text": [
      "Epoch 40/512: 100%|███████████████████████████████████████████████████████████████████████| 63/63 [00:02<00:00, 21.11it/s]\n"
     ]
    },
    {
     "name": "stdout",
     "output_type": "stream",
     "text": [
      "Epoch 40/512: \n",
      "Train Loss = 0.60112, Train MSE = 1.07773, Train MAE = 0.81678, Train Acc = 0.67256\n",
      "Val Loss = 0.59957, Val MSE = 1.04983, Val MAE = 0.81583, Val Acc = 0.66335\n"
     ]
    },
    {
     "name": "stderr",
     "output_type": "stream",
     "text": [
      "Epoch 41/512: 100%|███████████████████████████████████████████████████████████████████████| 63/63 [00:02<00:00, 21.29it/s]\n"
     ]
    },
    {
     "name": "stdout",
     "output_type": "stream",
     "text": [
      "Epoch 41/512: \n",
      "Train Loss = 0.60094, Train MSE = 1.06854, Train MAE = 0.81811, Train Acc = 0.67181\n",
      "Val Loss = 0.59442, Val MSE = 1.05142, Val MAE = 0.80840, Val Acc = 0.67729\n"
     ]
    },
    {
     "name": "stderr",
     "output_type": "stream",
     "text": [
      "Epoch 42/512: 100%|███████████████████████████████████████████████████████████████████████| 63/63 [00:03<00:00, 20.92it/s]\n"
     ]
    },
    {
     "name": "stdout",
     "output_type": "stream",
     "text": [
      "Epoch 42/512: \n",
      "Train Loss = 0.59361, Train MSE = 1.05788, Train MAE = 0.80933, Train Acc = 0.67231\n",
      "Val Loss = 0.58408, Val MSE = 1.02128, Val MAE = 0.79883, Val Acc = 0.67928\n"
     ]
    },
    {
     "name": "stderr",
     "output_type": "stream",
     "text": [
      "Epoch 43/512: 100%|███████████████████████████████████████████████████████████████████████| 63/63 [00:02<00:00, 21.26it/s]\n"
     ]
    },
    {
     "name": "stdout",
     "output_type": "stream",
     "text": [
      "Epoch 43/512: \n",
      "Train Loss = 0.60201, Train MSE = 1.07128, Train MAE = 0.81897, Train Acc = 0.66708\n",
      "Val Loss = 0.59932, Val MSE = 1.05748, Val MAE = 0.82004, Val Acc = 0.68327\n"
     ]
    },
    {
     "name": "stderr",
     "output_type": "stream",
     "text": [
      "Epoch 44/512: 100%|███████████████████████████████████████████████████████████████████████| 63/63 [00:02<00:00, 21.07it/s]\n"
     ]
    },
    {
     "name": "stdout",
     "output_type": "stream",
     "text": [
      "Epoch 44/512: \n",
      "Train Loss = 0.58938, Train MSE = 1.04850, Train MAE = 0.80550, Train Acc = 0.68177\n",
      "Val Loss = 0.60883, Val MSE = 1.06536, Val MAE = 0.82903, Val Acc = 0.66335\n"
     ]
    },
    {
     "name": "stderr",
     "output_type": "stream",
     "text": [
      "Epoch 45/512: 100%|███████████████████████████████████████████████████████████████████████| 63/63 [00:03<00:00, 20.61it/s]\n"
     ]
    },
    {
     "name": "stdout",
     "output_type": "stream",
     "text": [
      "Epoch 45/512: \n",
      "Train Loss = 0.59763, Train MSE = 1.06578, Train MAE = 0.81394, Train Acc = 0.67629\n",
      "Val Loss = 0.58770, Val MSE = 1.02970, Val MAE = 0.80671, Val Acc = 0.67131\n"
     ]
    },
    {
     "name": "stderr",
     "output_type": "stream",
     "text": [
      "Epoch 46/512: 100%|███████████████████████████████████████████████████████████████████████| 63/63 [00:02<00:00, 21.45it/s]\n"
     ]
    },
    {
     "name": "stdout",
     "output_type": "stream",
     "text": [
      "Epoch 46/512: \n",
      "Train Loss = 0.59127, Train MSE = 1.04688, Train MAE = 0.80738, Train Acc = 0.67555\n",
      "Val Loss = 0.57162, Val MSE = 0.98129, Val MAE = 0.78822, Val Acc = 0.68526\n"
     ]
    },
    {
     "name": "stderr",
     "output_type": "stream",
     "text": [
      "Epoch 47/512: 100%|███████████████████████████████████████████████████████████████████████| 63/63 [00:02<00:00, 21.02it/s]\n"
     ]
    },
    {
     "name": "stdout",
     "output_type": "stream",
     "text": [
      "Epoch 47/512: \n",
      "Train Loss = 0.58587, Train MSE = 1.03351, Train MAE = 0.80172, Train Acc = 0.68476\n",
      "Val Loss = 0.58028, Val MSE = 1.01560, Val MAE = 0.79837, Val Acc = 0.68924\n"
     ]
    },
    {
     "name": "stderr",
     "output_type": "stream",
     "text": [
      "Epoch 48/512: 100%|███████████████████████████████████████████████████████████████████████| 63/63 [00:02<00:00, 21.17it/s]\n"
     ]
    },
    {
     "name": "stdout",
     "output_type": "stream",
     "text": [
      "Epoch 48/512: \n",
      "Train Loss = 0.57701, Train MSE = 1.00586, Train MAE = 0.79266, Train Acc = 0.68800\n",
      "Val Loss = 0.57783, Val MSE = 1.00113, Val MAE = 0.79646, Val Acc = 0.69124\n"
     ]
    },
    {
     "name": "stderr",
     "output_type": "stream",
     "text": [
      "Epoch 49/512: 100%|███████████████████████████████████████████████████████████████████████| 63/63 [00:02<00:00, 21.10it/s]\n"
     ]
    },
    {
     "name": "stdout",
     "output_type": "stream",
     "text": [
      "Epoch 49/512: \n",
      "Train Loss = 0.58487, Train MSE = 1.03128, Train MAE = 0.80085, Train Acc = 0.68302\n",
      "Val Loss = 0.57493, Val MSE = 0.99958, Val MAE = 0.79167, Val Acc = 0.68526\n"
     ]
    },
    {
     "name": "stderr",
     "output_type": "stream",
     "text": [
      "Epoch 50/512: 100%|███████████████████████████████████████████████████████████████████████| 63/63 [00:02<00:00, 21.21it/s]\n"
     ]
    },
    {
     "name": "stdout",
     "output_type": "stream",
     "text": [
      "Epoch 50/512: \n",
      "Train Loss = 0.57784, Train MSE = 1.01746, Train MAE = 0.79288, Train Acc = 0.68800\n",
      "Val Loss = 0.57540, Val MSE = 0.99185, Val MAE = 0.79292, Val Acc = 0.69323\n"
     ]
    },
    {
     "name": "stderr",
     "output_type": "stream",
     "text": [
      "Epoch 51/512: 100%|███████████████████████████████████████████████████████████████████████| 63/63 [00:02<00:00, 21.26it/s]\n"
     ]
    },
    {
     "name": "stdout",
     "output_type": "stream",
     "text": [
      "Epoch 51/512: \n",
      "Train Loss = 0.58214, Train MSE = 1.02875, Train MAE = 0.79707, Train Acc = 0.68401\n",
      "Val Loss = 0.56143, Val MSE = 0.96534, Val MAE = 0.77687, Val Acc = 0.69323\n"
     ]
    },
    {
     "name": "stderr",
     "output_type": "stream",
     "text": [
      "Epoch 52/512: 100%|███████████████████████████████████████████████████████████████████████| 63/63 [00:03<00:00, 20.83it/s]\n"
     ]
    },
    {
     "name": "stdout",
     "output_type": "stream",
     "text": [
      "Epoch 52/512: \n",
      "Train Loss = 0.57633, Train MSE = 1.00929, Train MAE = 0.79187, Train Acc = 0.68875\n",
      "Val Loss = 0.55526, Val MSE = 0.95217, Val MAE = 0.76987, Val Acc = 0.70120\n"
     ]
    },
    {
     "name": "stderr",
     "output_type": "stream",
     "text": [
      "Epoch 53/512: 100%|███████████████████████████████████████████████████████████████████████| 63/63 [00:03<00:00, 20.79it/s]\n"
     ]
    },
    {
     "name": "stdout",
     "output_type": "stream",
     "text": [
      "Epoch 53/512: \n",
      "Train Loss = 0.57578, Train MSE = 1.01274, Train MAE = 0.79114, Train Acc = 0.69248\n",
      "Val Loss = 0.57172, Val MSE = 0.98663, Val MAE = 0.79215, Val Acc = 0.68725\n"
     ]
    },
    {
     "name": "stderr",
     "output_type": "stream",
     "text": [
      "Epoch 54/512: 100%|███████████████████████████████████████████████████████████████████████| 63/63 [00:03<00:00, 20.98it/s]\n"
     ]
    },
    {
     "name": "stdout",
     "output_type": "stream",
     "text": [
      "Epoch 54/512: \n",
      "Train Loss = 0.57009, Train MSE = 0.99905, Train MAE = 0.78576, Train Acc = 0.69223\n",
      "Val Loss = 0.55306, Val MSE = 0.95021, Val MAE = 0.76789, Val Acc = 0.68526\n"
     ]
    },
    {
     "name": "stderr",
     "output_type": "stream",
     "text": [
      "Epoch 55/512: 100%|███████████████████████████████████████████████████████████████████████| 63/63 [00:02<00:00, 21.07it/s]\n"
     ]
    },
    {
     "name": "stdout",
     "output_type": "stream",
     "text": [
      "Epoch 55/512: \n",
      "Train Loss = 0.57149, Train MSE = 1.00555, Train MAE = 0.78675, Train Acc = 0.68875\n",
      "Val Loss = 0.56837, Val MSE = 0.97899, Val MAE = 0.78787, Val Acc = 0.68526\n"
     ]
    },
    {
     "name": "stderr",
     "output_type": "stream",
     "text": [
      "Epoch 56/512: 100%|███████████████████████████████████████████████████████████████████████| 63/63 [00:02<00:00, 21.32it/s]\n"
     ]
    },
    {
     "name": "stdout",
     "output_type": "stream",
     "text": [
      "Epoch 56/512: \n",
      "Train Loss = 0.56881, Train MSE = 0.99464, Train MAE = 0.78370, Train Acc = 0.69622\n",
      "Val Loss = 0.55888, Val MSE = 0.96765, Val MAE = 0.77579, Val Acc = 0.69522\n"
     ]
    },
    {
     "name": "stderr",
     "output_type": "stream",
     "text": [
      "Epoch 57/512: 100%|███████████████████████████████████████████████████████████████████████| 63/63 [00:02<00:00, 21.04it/s]\n"
     ]
    },
    {
     "name": "stdout",
     "output_type": "stream",
     "text": [
      "Epoch 57/512: \n",
      "Train Loss = 0.55613, Train MSE = 0.96926, Train MAE = 0.77041, Train Acc = 0.70070\n",
      "Val Loss = 0.59826, Val MSE = 1.05902, Val MAE = 0.81917, Val Acc = 0.68725\n"
     ]
    },
    {
     "name": "stderr",
     "output_type": "stream",
     "text": [
      "Epoch 58/512: 100%|███████████████████████████████████████████████████████████████████████| 63/63 [00:02<00:00, 21.11it/s]\n"
     ]
    },
    {
     "name": "stdout",
     "output_type": "stream",
     "text": [
      "Epoch 58/512: \n",
      "Train Loss = 0.56634, Train MSE = 0.99359, Train MAE = 0.77917, Train Acc = 0.68949\n",
      "Val Loss = 0.55974, Val MSE = 0.95329, Val MAE = 0.77556, Val Acc = 0.69124\n"
     ]
    },
    {
     "name": "stderr",
     "output_type": "stream",
     "text": [
      "Epoch 59/512: 100%|███████████████████████████████████████████████████████████████████████| 63/63 [00:02<00:00, 21.16it/s]\n"
     ]
    },
    {
     "name": "stdout",
     "output_type": "stream",
     "text": [
      "Epoch 59/512: \n",
      "Train Loss = 0.56104, Train MSE = 0.98794, Train MAE = 0.77496, Train Acc = 0.70095\n",
      "Val Loss = 0.53352, Val MSE = 0.89970, Val MAE = 0.74575, Val Acc = 0.71713\n"
     ]
    },
    {
     "name": "stderr",
     "output_type": "stream",
     "text": [
      "Epoch 60/512: 100%|███████████████████████████████████████████████████████████████████████| 63/63 [00:02<00:00, 21.22it/s]\n"
     ]
    },
    {
     "name": "stdout",
     "output_type": "stream",
     "text": [
      "Epoch 60/512: \n",
      "Train Loss = 0.56652, Train MSE = 0.99150, Train MAE = 0.78126, Train Acc = 0.69622\n",
      "Val Loss = 0.59210, Val MSE = 1.05284, Val MAE = 0.80896, Val Acc = 0.68725\n"
     ]
    },
    {
     "name": "stderr",
     "output_type": "stream",
     "text": [
      "Epoch 61/512: 100%|███████████████████████████████████████████████████████████████████████| 63/63 [00:03<00:00, 20.94it/s]\n"
     ]
    },
    {
     "name": "stdout",
     "output_type": "stream",
     "text": [
      "Epoch 61/512: \n",
      "Train Loss = 0.56343, Train MSE = 0.98103, Train MAE = 0.77918, Train Acc = 0.69895\n",
      "Val Loss = 0.55893, Val MSE = 0.97496, Val MAE = 0.77525, Val Acc = 0.69522\n"
     ]
    },
    {
     "name": "stderr",
     "output_type": "stream",
     "text": [
      "Epoch 62/512: 100%|███████████████████████████████████████████████████████████████████████| 63/63 [00:02<00:00, 21.18it/s]\n"
     ]
    },
    {
     "name": "stdout",
     "output_type": "stream",
     "text": [
      "Epoch 62/512: \n",
      "Train Loss = 0.55096, Train MSE = 0.95259, Train MAE = 0.76589, Train Acc = 0.71290\n",
      "Val Loss = 0.55618, Val MSE = 0.95297, Val MAE = 0.77326, Val Acc = 0.72112\n"
     ]
    },
    {
     "name": "stderr",
     "output_type": "stream",
     "text": [
      "Epoch 63/512: 100%|███████████████████████████████████████████████████████████████████████| 63/63 [00:03<00:00, 20.70it/s]\n"
     ]
    },
    {
     "name": "stdout",
     "output_type": "stream",
     "text": [
      "Epoch 63/512: \n",
      "Train Loss = 0.56587, Train MSE = 0.98486, Train MAE = 0.78010, Train Acc = 0.69796\n",
      "Val Loss = 0.56086, Val MSE = 0.98205, Val MAE = 0.77811, Val Acc = 0.70518\n"
     ]
    },
    {
     "name": "stderr",
     "output_type": "stream",
     "text": [
      "Epoch 64/512: 100%|███████████████████████████████████████████████████████████████████████| 63/63 [00:02<00:00, 21.25it/s]\n"
     ]
    },
    {
     "name": "stdout",
     "output_type": "stream",
     "text": [
      "Epoch 64/512: \n",
      "Train Loss = 0.55451, Train MSE = 0.96662, Train MAE = 0.76825, Train Acc = 0.70344\n",
      "Val Loss = 0.54200, Val MSE = 0.92220, Val MAE = 0.75718, Val Acc = 0.72112\n"
     ]
    },
    {
     "name": "stderr",
     "output_type": "stream",
     "text": [
      "Epoch 65/512: 100%|███████████████████████████████████████████████████████████████████████| 63/63 [00:03<00:00, 20.98it/s]\n"
     ]
    },
    {
     "name": "stdout",
     "output_type": "stream",
     "text": [
      "Epoch 65/512: \n",
      "Train Loss = 0.54981, Train MSE = 0.94583, Train MAE = 0.76413, Train Acc = 0.70269\n",
      "Val Loss = 0.54705, Val MSE = 0.94365, Val MAE = 0.76299, Val Acc = 0.69920\n"
     ]
    },
    {
     "name": "stderr",
     "output_type": "stream",
     "text": [
      "Epoch 66/512: 100%|███████████████████████████████████████████████████████████████████████| 63/63 [00:03<00:00, 20.82it/s]\n"
     ]
    },
    {
     "name": "stdout",
     "output_type": "stream",
     "text": [
      "Epoch 66/512: \n",
      "Train Loss = 0.54691, Train MSE = 0.94858, Train MAE = 0.75967, Train Acc = 0.70966\n",
      "Val Loss = 0.54590, Val MSE = 0.92615, Val MAE = 0.76458, Val Acc = 0.69920\n"
     ]
    },
    {
     "name": "stderr",
     "output_type": "stream",
     "text": [
      "Epoch 67/512: 100%|███████████████████████████████████████████████████████████████████████| 63/63 [00:03<00:00, 20.98it/s]\n"
     ]
    },
    {
     "name": "stdout",
     "output_type": "stream",
     "text": [
      "Epoch 67/512: \n",
      "Train Loss = 0.53765, Train MSE = 0.92647, Train MAE = 0.75079, Train Acc = 0.71738\n",
      "Val Loss = 0.53666, Val MSE = 0.91820, Val MAE = 0.75147, Val Acc = 0.71315\n"
     ]
    },
    {
     "name": "stderr",
     "output_type": "stream",
     "text": [
      "Epoch 68/512: 100%|███████████████████████████████████████████████████████████████████████| 63/63 [00:02<00:00, 21.05it/s]\n"
     ]
    },
    {
     "name": "stdout",
     "output_type": "stream",
     "text": [
      "Epoch 68/512: \n",
      "Train Loss = 0.55127, Train MSE = 0.96150, Train MAE = 0.76476, Train Acc = 0.70916\n",
      "Val Loss = 0.54707, Val MSE = 0.93460, Val MAE = 0.76459, Val Acc = 0.69920\n"
     ]
    },
    {
     "name": "stderr",
     "output_type": "stream",
     "text": [
      "Epoch 69/512: 100%|███████████████████████████████████████████████████████████████████████| 63/63 [00:02<00:00, 21.04it/s]\n"
     ]
    },
    {
     "name": "stdout",
     "output_type": "stream",
     "text": [
      "Epoch 69/512: \n",
      "Train Loss = 0.55460, Train MSE = 0.96895, Train MAE = 0.76871, Train Acc = 0.70717\n",
      "Val Loss = 0.54176, Val MSE = 0.91831, Val MAE = 0.75567, Val Acc = 0.71912\n"
     ]
    },
    {
     "name": "stderr",
     "output_type": "stream",
     "text": [
      "Epoch 70/512: 100%|███████████████████████████████████████████████████████████████████████| 63/63 [00:03<00:00, 20.92it/s]\n"
     ]
    },
    {
     "name": "stdout",
     "output_type": "stream",
     "text": [
      "Epoch 70/512: \n",
      "Train Loss = 0.55389, Train MSE = 0.96263, Train MAE = 0.76844, Train Acc = 0.70618\n",
      "Val Loss = 0.52986, Val MSE = 0.91120, Val MAE = 0.74092, Val Acc = 0.73506\n"
     ]
    },
    {
     "name": "stderr",
     "output_type": "stream",
     "text": [
      "Epoch 71/512: 100%|███████████████████████████████████████████████████████████████████████| 63/63 [00:02<00:00, 21.03it/s]\n"
     ]
    },
    {
     "name": "stdout",
     "output_type": "stream",
     "text": [
      "Epoch 71/512: \n",
      "Train Loss = 0.54280, Train MSE = 0.93824, Train MAE = 0.75581, Train Acc = 0.71763\n",
      "Val Loss = 0.52878, Val MSE = 0.91674, Val MAE = 0.74061, Val Acc = 0.71514\n"
     ]
    },
    {
     "name": "stderr",
     "output_type": "stream",
     "text": [
      "Epoch 72/512: 100%|███████████████████████████████████████████████████████████████████████| 63/63 [00:02<00:00, 21.05it/s]\n"
     ]
    },
    {
     "name": "stdout",
     "output_type": "stream",
     "text": [
      "Epoch 72/512: \n",
      "Train Loss = 0.54373, Train MSE = 0.93271, Train MAE = 0.75717, Train Acc = 0.71215\n",
      "Val Loss = 0.53110, Val MSE = 0.91430, Val MAE = 0.74427, Val Acc = 0.71912\n"
     ]
    },
    {
     "name": "stderr",
     "output_type": "stream",
     "text": [
      "Epoch 73/512: 100%|███████████████████████████████████████████████████████████████████████| 63/63 [00:02<00:00, 21.15it/s]\n"
     ]
    },
    {
     "name": "stdout",
     "output_type": "stream",
     "text": [
      "Epoch 73/512: \n",
      "Train Loss = 0.53744, Train MSE = 0.93723, Train MAE = 0.74990, Train Acc = 0.72161\n",
      "Val Loss = 0.54696, Val MSE = 0.95640, Val MAE = 0.76334, Val Acc = 0.72908\n"
     ]
    },
    {
     "name": "stderr",
     "output_type": "stream",
     "text": [
      "Epoch 74/512: 100%|███████████████████████████████████████████████████████████████████████| 63/63 [00:02<00:00, 21.39it/s]\n"
     ]
    },
    {
     "name": "stdout",
     "output_type": "stream",
     "text": [
      "Epoch 74/512: \n",
      "Train Loss = 0.54396, Train MSE = 0.94342, Train MAE = 0.75737, Train Acc = 0.71091\n",
      "Val Loss = 0.53952, Val MSE = 0.93695, Val MAE = 0.74864, Val Acc = 0.71315\n"
     ]
    },
    {
     "name": "stderr",
     "output_type": "stream",
     "text": [
      "Epoch 75/512: 100%|███████████████████████████████████████████████████████████████████████| 63/63 [00:02<00:00, 21.19it/s]\n"
     ]
    },
    {
     "name": "stdout",
     "output_type": "stream",
     "text": [
      "Epoch 75/512: \n",
      "Train Loss = 0.54271, Train MSE = 0.94441, Train MAE = 0.75449, Train Acc = 0.71165\n",
      "Val Loss = 0.51521, Val MSE = 0.87976, Val MAE = 0.72493, Val Acc = 0.72709\n"
     ]
    },
    {
     "name": "stderr",
     "output_type": "stream",
     "text": [
      "Epoch 76/512: 100%|███████████████████████████████████████████████████████████████████████| 63/63 [00:03<00:00, 20.90it/s]\n"
     ]
    },
    {
     "name": "stdout",
     "output_type": "stream",
     "text": [
      "Epoch 76/512: \n",
      "Train Loss = 0.53444, Train MSE = 0.92213, Train MAE = 0.74624, Train Acc = 0.71439\n",
      "Val Loss = 0.53772, Val MSE = 0.92224, Val MAE = 0.75015, Val Acc = 0.70916\n"
     ]
    },
    {
     "name": "stderr",
     "output_type": "stream",
     "text": [
      "Epoch 77/512: 100%|███████████████████████████████████████████████████████████████████████| 63/63 [00:02<00:00, 21.11it/s]\n"
     ]
    },
    {
     "name": "stdout",
     "output_type": "stream",
     "text": [
      "Epoch 77/512: \n",
      "Train Loss = 0.54430, Train MSE = 0.94480, Train MAE = 0.75720, Train Acc = 0.71788\n",
      "Val Loss = 0.52086, Val MSE = 0.89311, Val MAE = 0.73532, Val Acc = 0.72709\n"
     ]
    },
    {
     "name": "stderr",
     "output_type": "stream",
     "text": [
      "Epoch 78/512: 100%|███████████████████████████████████████████████████████████████████████| 63/63 [00:03<00:00, 20.80it/s]\n"
     ]
    },
    {
     "name": "stdout",
     "output_type": "stream",
     "text": [
      "Epoch 78/512: \n",
      "Train Loss = 0.53285, Train MSE = 0.92393, Train MAE = 0.74348, Train Acc = 0.71738\n",
      "Val Loss = 0.53810, Val MSE = 0.93206, Val MAE = 0.74963, Val Acc = 0.71514\n"
     ]
    },
    {
     "name": "stderr",
     "output_type": "stream",
     "text": [
      "Epoch 79/512: 100%|███████████████████████████████████████████████████████████████████████| 63/63 [00:02<00:00, 21.11it/s]\n"
     ]
    },
    {
     "name": "stdout",
     "output_type": "stream",
     "text": [
      "Epoch 79/512: \n",
      "Train Loss = 0.52824, Train MSE = 0.91460, Train MAE = 0.73965, Train Acc = 0.72585\n",
      "Val Loss = 0.50567, Val MSE = 0.85330, Val MAE = 0.71616, Val Acc = 0.72510\n"
     ]
    },
    {
     "name": "stderr",
     "output_type": "stream",
     "text": [
      "Epoch 80/512: 100%|███████████████████████████████████████████████████████████████████████| 63/63 [00:03<00:00, 20.86it/s]\n"
     ]
    },
    {
     "name": "stdout",
     "output_type": "stream",
     "text": [
      "Epoch 80/512: \n",
      "Train Loss = 0.52366, Train MSE = 0.90133, Train MAE = 0.73550, Train Acc = 0.73182\n",
      "Val Loss = 0.50708, Val MSE = 0.85229, Val MAE = 0.71676, Val Acc = 0.71713\n"
     ]
    },
    {
     "name": "stderr",
     "output_type": "stream",
     "text": [
      "Epoch 81/512: 100%|███████████████████████████████████████████████████████████████████████| 63/63 [00:02<00:00, 21.40it/s]\n"
     ]
    },
    {
     "name": "stdout",
     "output_type": "stream",
     "text": [
      "Epoch 81/512: \n",
      "Train Loss = 0.51684, Train MSE = 0.88366, Train MAE = 0.72781, Train Acc = 0.72958\n",
      "Val Loss = 0.52383, Val MSE = 0.89733, Val MAE = 0.73576, Val Acc = 0.72908\n"
     ]
    },
    {
     "name": "stderr",
     "output_type": "stream",
     "text": [
      "Epoch 82/512: 100%|███████████████████████████████████████████████████████████████████████| 63/63 [00:02<00:00, 21.09it/s]\n"
     ]
    },
    {
     "name": "stdout",
     "output_type": "stream",
     "text": [
      "Epoch 82/512: \n",
      "Train Loss = 0.52765, Train MSE = 0.91474, Train MAE = 0.73951, Train Acc = 0.72610\n",
      "Val Loss = 0.51112, Val MSE = 0.88239, Val MAE = 0.72053, Val Acc = 0.73705\n"
     ]
    },
    {
     "name": "stderr",
     "output_type": "stream",
     "text": [
      "Epoch 83/512: 100%|███████████████████████████████████████████████████████████████████████| 63/63 [00:03<00:00, 20.89it/s]\n"
     ]
    },
    {
     "name": "stdout",
     "output_type": "stream",
     "text": [
      "Epoch 83/512: \n",
      "Train Loss = 0.52808, Train MSE = 0.91636, Train MAE = 0.73919, Train Acc = 0.72610\n",
      "Val Loss = 0.52847, Val MSE = 0.91456, Val MAE = 0.74112, Val Acc = 0.72510\n"
     ]
    },
    {
     "name": "stderr",
     "output_type": "stream",
     "text": [
      "Epoch 84/512: 100%|███████████████████████████████████████████████████████████████████████| 63/63 [00:03<00:00, 20.98it/s]\n"
     ]
    },
    {
     "name": "stdout",
     "output_type": "stream",
     "text": [
      "Epoch 84/512: \n",
      "Train Loss = 0.51837, Train MSE = 0.89328, Train MAE = 0.73030, Train Acc = 0.73506\n",
      "Val Loss = 0.50043, Val MSE = 0.84327, Val MAE = 0.70771, Val Acc = 0.73904\n"
     ]
    },
    {
     "name": "stderr",
     "output_type": "stream",
     "text": [
      "Epoch 85/512: 100%|███████████████████████████████████████████████████████████████████████| 63/63 [00:03<00:00, 20.83it/s]\n"
     ]
    },
    {
     "name": "stdout",
     "output_type": "stream",
     "text": [
      "Epoch 85/512: \n",
      "Train Loss = 0.51324, Train MSE = 0.87990, Train MAE = 0.72438, Train Acc = 0.73730\n",
      "Val Loss = 0.50327, Val MSE = 0.85186, Val MAE = 0.71129, Val Acc = 0.72908\n"
     ]
    },
    {
     "name": "stderr",
     "output_type": "stream",
     "text": [
      "Epoch 86/512: 100%|███████████████████████████████████████████████████████████████████████| 63/63 [00:03<00:00, 20.94it/s]\n"
     ]
    },
    {
     "name": "stdout",
     "output_type": "stream",
     "text": [
      "Epoch 86/512: \n",
      "Train Loss = 0.51939, Train MSE = 0.89401, Train MAE = 0.73037, Train Acc = 0.73406\n",
      "Val Loss = 0.50200, Val MSE = 0.85597, Val MAE = 0.71329, Val Acc = 0.74303\n"
     ]
    },
    {
     "name": "stderr",
     "output_type": "stream",
     "text": [
      "Epoch 87/512: 100%|███████████████████████████████████████████████████████████████████████| 63/63 [00:02<00:00, 21.27it/s]\n"
     ]
    },
    {
     "name": "stdout",
     "output_type": "stream",
     "text": [
      "Epoch 87/512: \n",
      "Train Loss = 0.52574, Train MSE = 0.90017, Train MAE = 0.73755, Train Acc = 0.72560\n",
      "Val Loss = 0.49032, Val MSE = 0.81975, Val MAE = 0.69803, Val Acc = 0.75697\n"
     ]
    },
    {
     "name": "stderr",
     "output_type": "stream",
     "text": [
      "Epoch 88/512: 100%|███████████████████████████████████████████████████████████████████████| 63/63 [00:02<00:00, 21.19it/s]\n"
     ]
    },
    {
     "name": "stdout",
     "output_type": "stream",
     "text": [
      "Epoch 88/512: \n",
      "Train Loss = 0.51506, Train MSE = 0.88803, Train MAE = 0.72360, Train Acc = 0.73755\n",
      "Val Loss = 0.50009, Val MSE = 0.84601, Val MAE = 0.71170, Val Acc = 0.73108\n"
     ]
    },
    {
     "name": "stderr",
     "output_type": "stream",
     "text": [
      "Epoch 89/512: 100%|███████████████████████████████████████████████████████████████████████| 63/63 [00:02<00:00, 21.08it/s]\n"
     ]
    },
    {
     "name": "stdout",
     "output_type": "stream",
     "text": [
      "Epoch 89/512: \n",
      "Train Loss = 0.51759, Train MSE = 0.88690, Train MAE = 0.72885, Train Acc = 0.73357\n",
      "Val Loss = 0.51097, Val MSE = 0.86187, Val MAE = 0.71887, Val Acc = 0.73705\n"
     ]
    },
    {
     "name": "stderr",
     "output_type": "stream",
     "text": [
      "Epoch 90/512: 100%|███████████████████████████████████████████████████████████████████████| 63/63 [00:03<00:00, 20.91it/s]\n"
     ]
    },
    {
     "name": "stdout",
     "output_type": "stream",
     "text": [
      "Epoch 90/512: \n",
      "Train Loss = 0.51947, Train MSE = 0.89282, Train MAE = 0.72985, Train Acc = 0.73581\n",
      "Val Loss = 0.49764, Val MSE = 0.83743, Val MAE = 0.70675, Val Acc = 0.74502\n"
     ]
    },
    {
     "name": "stderr",
     "output_type": "stream",
     "text": [
      "Epoch 91/512: 100%|███████████████████████████████████████████████████████████████████████| 63/63 [00:03<00:00, 20.92it/s]\n"
     ]
    },
    {
     "name": "stdout",
     "output_type": "stream",
     "text": [
      "Epoch 91/512: \n",
      "Train Loss = 0.51996, Train MSE = 0.90060, Train MAE = 0.73075, Train Acc = 0.72983\n",
      "Val Loss = 0.50236, Val MSE = 0.85085, Val MAE = 0.71357, Val Acc = 0.73705\n"
     ]
    },
    {
     "name": "stderr",
     "output_type": "stream",
     "text": [
      "Epoch 92/512: 100%|███████████████████████████████████████████████████████████████████████| 63/63 [00:02<00:00, 21.26it/s]\n"
     ]
    },
    {
     "name": "stdout",
     "output_type": "stream",
     "text": [
      "Epoch 92/512: \n",
      "Train Loss = 0.49969, Train MSE = 0.85068, Train MAE = 0.70923, Train Acc = 0.74029\n",
      "Val Loss = 0.51235, Val MSE = 0.87758, Val MAE = 0.72270, Val Acc = 0.72510\n"
     ]
    },
    {
     "name": "stderr",
     "output_type": "stream",
     "text": [
      "Epoch 93/512: 100%|███████████████████████████████████████████████████████████████████████| 63/63 [00:03<00:00, 20.96it/s]\n"
     ]
    },
    {
     "name": "stdout",
     "output_type": "stream",
     "text": [
      "Epoch 93/512: \n",
      "Train Loss = 0.51215, Train MSE = 0.88218, Train MAE = 0.72249, Train Acc = 0.73929\n",
      "Val Loss = 0.48709, Val MSE = 0.82345, Val MAE = 0.69345, Val Acc = 0.75299\n"
     ]
    },
    {
     "name": "stderr",
     "output_type": "stream",
     "text": [
      "Epoch 94/512: 100%|███████████████████████████████████████████████████████████████████████| 63/63 [00:03<00:00, 20.78it/s]\n"
     ]
    },
    {
     "name": "stdout",
     "output_type": "stream",
     "text": [
      "Epoch 94/512: \n",
      "Train Loss = 0.50653, Train MSE = 0.87017, Train MAE = 0.71707, Train Acc = 0.73456\n",
      "Val Loss = 0.50805, Val MSE = 0.87871, Val MAE = 0.71836, Val Acc = 0.73307\n"
     ]
    },
    {
     "name": "stderr",
     "output_type": "stream",
     "text": [
      "Epoch 95/512: 100%|███████████████████████████████████████████████████████████████████████| 63/63 [00:03<00:00, 20.96it/s]\n"
     ]
    },
    {
     "name": "stdout",
     "output_type": "stream",
     "text": [
      "Epoch 95/512: \n",
      "Train Loss = 0.50661, Train MSE = 0.85948, Train MAE = 0.71708, Train Acc = 0.74004\n",
      "Val Loss = 0.50754, Val MSE = 0.86478, Val MAE = 0.71692, Val Acc = 0.73108\n"
     ]
    },
    {
     "name": "stderr",
     "output_type": "stream",
     "text": [
      "Epoch 96/512: 100%|███████████████████████████████████████████████████████████████████████| 63/63 [00:02<00:00, 21.21it/s]\n"
     ]
    },
    {
     "name": "stdout",
     "output_type": "stream",
     "text": [
      "Epoch 96/512: \n",
      "Train Loss = 0.50737, Train MSE = 0.87877, Train MAE = 0.71660, Train Acc = 0.73680\n",
      "Val Loss = 0.49167, Val MSE = 0.82485, Val MAE = 0.69966, Val Acc = 0.74701\n"
     ]
    },
    {
     "name": "stderr",
     "output_type": "stream",
     "text": [
      "Epoch 97/512: 100%|███████████████████████████████████████████████████████████████████████| 63/63 [00:02<00:00, 21.11it/s]\n"
     ]
    },
    {
     "name": "stdout",
     "output_type": "stream",
     "text": [
      "Epoch 97/512: \n",
      "Train Loss = 0.50614, Train MSE = 0.87362, Train MAE = 0.71554, Train Acc = 0.74278\n",
      "Val Loss = 0.48882, Val MSE = 0.81438, Val MAE = 0.69763, Val Acc = 0.73904\n"
     ]
    },
    {
     "name": "stderr",
     "output_type": "stream",
     "text": [
      "Epoch 98/512: 100%|███████████████████████████████████████████████████████████████████████| 63/63 [00:02<00:00, 21.17it/s]\n"
     ]
    },
    {
     "name": "stdout",
     "output_type": "stream",
     "text": [
      "Epoch 98/512: \n",
      "Train Loss = 0.50134, Train MSE = 0.85341, Train MAE = 0.71104, Train Acc = 0.74502\n",
      "Val Loss = 0.48768, Val MSE = 0.83288, Val MAE = 0.69427, Val Acc = 0.75100\n"
     ]
    },
    {
     "name": "stderr",
     "output_type": "stream",
     "text": [
      "Epoch 99/512: 100%|███████████████████████████████████████████████████████████████████████| 63/63 [00:03<00:00, 20.82it/s]\n"
     ]
    },
    {
     "name": "stdout",
     "output_type": "stream",
     "text": [
      "Epoch 99/512: \n",
      "Train Loss = 0.49775, Train MSE = 0.84848, Train MAE = 0.70550, Train Acc = 0.74427\n",
      "Val Loss = 0.48594, Val MSE = 0.82107, Val MAE = 0.69447, Val Acc = 0.75100\n"
     ]
    },
    {
     "name": "stderr",
     "output_type": "stream",
     "text": [
      "Epoch 100/512: 100%|██████████████████████████████████████████████████████████████████████| 63/63 [00:02<00:00, 21.01it/s]\n"
     ]
    },
    {
     "name": "stdout",
     "output_type": "stream",
     "text": [
      "Epoch 100/512: \n",
      "Train Loss = 0.51254, Train MSE = 0.88736, Train MAE = 0.72130, Train Acc = 0.73332\n",
      "Val Loss = 0.51795, Val MSE = 0.88478, Val MAE = 0.72678, Val Acc = 0.72908\n"
     ]
    },
    {
     "name": "stderr",
     "output_type": "stream",
     "text": [
      "Epoch 101/512: 100%|██████████████████████████████████████████████████████████████████████| 63/63 [00:02<00:00, 21.19it/s]\n"
     ]
    },
    {
     "name": "stdout",
     "output_type": "stream",
     "text": [
      "Epoch 101/512: \n",
      "Train Loss = 0.49977, Train MSE = 0.85857, Train MAE = 0.70920, Train Acc = 0.75050\n",
      "Val Loss = 0.48823, Val MSE = 0.82913, Val MAE = 0.69923, Val Acc = 0.75697\n"
     ]
    },
    {
     "name": "stderr",
     "output_type": "stream",
     "text": [
      "Epoch 102/512: 100%|██████████████████████████████████████████████████████████████████████| 63/63 [00:02<00:00, 21.49it/s]\n"
     ]
    },
    {
     "name": "stdout",
     "output_type": "stream",
     "text": [
      "Epoch 102/512: \n",
      "Train Loss = 0.49650, Train MSE = 0.85508, Train MAE = 0.70420, Train Acc = 0.74751\n",
      "Val Loss = 0.48500, Val MSE = 0.82518, Val MAE = 0.69571, Val Acc = 0.75697\n"
     ]
    },
    {
     "name": "stderr",
     "output_type": "stream",
     "text": [
      "Epoch 103/512: 100%|██████████████████████████████████████████████████████████████████████| 63/63 [00:02<00:00, 21.24it/s]\n"
     ]
    },
    {
     "name": "stdout",
     "output_type": "stream",
     "text": [
      "Epoch 103/512: \n",
      "Train Loss = 0.49631, Train MSE = 0.84791, Train MAE = 0.70455, Train Acc = 0.75349\n",
      "Val Loss = 0.47726, Val MSE = 0.79937, Val MAE = 0.68364, Val Acc = 0.75498\n"
     ]
    },
    {
     "name": "stderr",
     "output_type": "stream",
     "text": [
      "Epoch 104/512: 100%|██████████████████████████████████████████████████████████████████████| 63/63 [00:03<00:00, 20.88it/s]\n"
     ]
    },
    {
     "name": "stdout",
     "output_type": "stream",
     "text": [
      "Epoch 104/512: \n",
      "Train Loss = 0.50044, Train MSE = 0.84800, Train MAE = 0.71050, Train Acc = 0.74377\n",
      "Val Loss = 0.48998, Val MSE = 0.83883, Val MAE = 0.69952, Val Acc = 0.74104\n"
     ]
    },
    {
     "name": "stderr",
     "output_type": "stream",
     "text": [
      "Epoch 105/512: 100%|██████████████████████████████████████████████████████████████████████| 63/63 [00:03<00:00, 20.59it/s]\n"
     ]
    },
    {
     "name": "stdout",
     "output_type": "stream",
     "text": [
      "Epoch 105/512: \n",
      "Train Loss = 0.50007, Train MSE = 0.86098, Train MAE = 0.70986, Train Acc = 0.75374\n",
      "Val Loss = 0.49168, Val MSE = 0.82760, Val MAE = 0.70284, Val Acc = 0.75100\n"
     ]
    },
    {
     "name": "stderr",
     "output_type": "stream",
     "text": [
      "Epoch 106/512: 100%|██████████████████████████████████████████████████████████████████████| 63/63 [00:02<00:00, 21.24it/s]\n"
     ]
    },
    {
     "name": "stdout",
     "output_type": "stream",
     "text": [
      "Epoch 106/512: \n",
      "Train Loss = 0.49484, Train MSE = 0.84090, Train MAE = 0.70444, Train Acc = 0.74427\n",
      "Val Loss = 0.48044, Val MSE = 0.79891, Val MAE = 0.68521, Val Acc = 0.75100\n"
     ]
    },
    {
     "name": "stderr",
     "output_type": "stream",
     "text": [
      "Epoch 107/512: 100%|██████████████████████████████████████████████████████████████████████| 63/63 [00:02<00:00, 21.13it/s]\n"
     ]
    },
    {
     "name": "stdout",
     "output_type": "stream",
     "text": [
      "Epoch 107/512: \n",
      "Train Loss = 0.49655, Train MSE = 0.84576, Train MAE = 0.70567, Train Acc = 0.74826\n",
      "Val Loss = 0.47587, Val MSE = 0.78897, Val MAE = 0.68525, Val Acc = 0.75697\n"
     ]
    },
    {
     "name": "stderr",
     "output_type": "stream",
     "text": [
      "Epoch 108/512: 100%|██████████████████████████████████████████████████████████████████████| 63/63 [00:02<00:00, 21.12it/s]\n"
     ]
    },
    {
     "name": "stdout",
     "output_type": "stream",
     "text": [
      "Epoch 108/512: \n",
      "Train Loss = 0.48556, Train MSE = 0.82151, Train MAE = 0.69282, Train Acc = 0.75423\n",
      "Val Loss = 0.48152, Val MSE = 0.79439, Val MAE = 0.68694, Val Acc = 0.74303\n"
     ]
    },
    {
     "name": "stderr",
     "output_type": "stream",
     "text": [
      "Epoch 109/512: 100%|██████████████████████████████████████████████████████████████████████| 63/63 [00:03<00:00, 20.91it/s]\n"
     ]
    },
    {
     "name": "stdout",
     "output_type": "stream",
     "text": [
      "Epoch 109/512: \n",
      "Train Loss = 0.49249, Train MSE = 0.82999, Train MAE = 0.70085, Train Acc = 0.74577\n",
      "Val Loss = 0.48279, Val MSE = 0.81692, Val MAE = 0.69117, Val Acc = 0.73705\n"
     ]
    },
    {
     "name": "stderr",
     "output_type": "stream",
     "text": [
      "Epoch 110/512: 100%|██████████████████████████████████████████████████████████████████████| 63/63 [00:02<00:00, 21.07it/s]\n"
     ]
    },
    {
     "name": "stdout",
     "output_type": "stream",
     "text": [
      "Epoch 110/512: \n",
      "Train Loss = 0.48972, Train MSE = 0.82749, Train MAE = 0.69855, Train Acc = 0.75075\n",
      "Val Loss = 0.48216, Val MSE = 0.81849, Val MAE = 0.68938, Val Acc = 0.75498\n"
     ]
    },
    {
     "name": "stderr",
     "output_type": "stream",
     "text": [
      "Epoch 111/512: 100%|██████████████████████████████████████████████████████████████████████| 63/63 [00:02<00:00, 21.06it/s]\n"
     ]
    },
    {
     "name": "stdout",
     "output_type": "stream",
     "text": [
      "Epoch 111/512: \n",
      "Train Loss = 0.49171, Train MSE = 0.84807, Train MAE = 0.69929, Train Acc = 0.75274\n",
      "Val Loss = 0.47459, Val MSE = 0.80488, Val MAE = 0.68324, Val Acc = 0.74900\n"
     ]
    },
    {
     "name": "stderr",
     "output_type": "stream",
     "text": [
      "Epoch 112/512: 100%|██████████████████████████████████████████████████████████████████████| 63/63 [00:02<00:00, 21.26it/s]\n"
     ]
    },
    {
     "name": "stdout",
     "output_type": "stream",
     "text": [
      "Epoch 112/512: \n",
      "Train Loss = 0.48815, Train MSE = 0.82812, Train MAE = 0.69605, Train Acc = 0.74701\n",
      "Val Loss = 0.48528, Val MSE = 0.82277, Val MAE = 0.69288, Val Acc = 0.74900\n"
     ]
    },
    {
     "name": "stderr",
     "output_type": "stream",
     "text": [
      "Epoch 113/512: 100%|██████████████████████████████████████████████████████████████████████| 63/63 [00:03<00:00, 20.95it/s]\n"
     ]
    },
    {
     "name": "stdout",
     "output_type": "stream",
     "text": [
      "Epoch 113/512: \n",
      "Train Loss = 0.48839, Train MSE = 0.83284, Train MAE = 0.69633, Train Acc = 0.75125\n",
      "Val Loss = 0.46404, Val MSE = 0.77736, Val MAE = 0.67158, Val Acc = 0.73904\n"
     ]
    },
    {
     "name": "stderr",
     "output_type": "stream",
     "text": [
      "Epoch 114/512: 100%|██████████████████████████████████████████████████████████████████████| 63/63 [00:03<00:00, 20.89it/s]\n"
     ]
    },
    {
     "name": "stdout",
     "output_type": "stream",
     "text": [
      "Epoch 114/512: \n",
      "Train Loss = 0.48855, Train MSE = 0.81995, Train MAE = 0.69875, Train Acc = 0.75199\n",
      "Val Loss = 0.47669, Val MSE = 0.79053, Val MAE = 0.68113, Val Acc = 0.73705\n"
     ]
    },
    {
     "name": "stderr",
     "output_type": "stream",
     "text": [
      "Epoch 115/512: 100%|██████████████████████████████████████████████████████████████████████| 63/63 [00:03<00:00, 20.81it/s]\n"
     ]
    },
    {
     "name": "stdout",
     "output_type": "stream",
     "text": [
      "Epoch 115/512: \n",
      "Train Loss = 0.47975, Train MSE = 0.81505, Train MAE = 0.68607, Train Acc = 0.75647\n",
      "Val Loss = 0.46350, Val MSE = 0.77375, Val MAE = 0.66830, Val Acc = 0.74502\n"
     ]
    },
    {
     "name": "stderr",
     "output_type": "stream",
     "text": [
      "Epoch 116/512: 100%|██████████████████████████████████████████████████████████████████████| 63/63 [00:03<00:00, 20.88it/s]\n"
     ]
    },
    {
     "name": "stdout",
     "output_type": "stream",
     "text": [
      "Epoch 116/512: \n",
      "Train Loss = 0.49226, Train MSE = 0.84276, Train MAE = 0.69988, Train Acc = 0.74950\n",
      "Val Loss = 0.47303, Val MSE = 0.79672, Val MAE = 0.68173, Val Acc = 0.76096\n"
     ]
    },
    {
     "name": "stderr",
     "output_type": "stream",
     "text": [
      "Epoch 117/512: 100%|██████████████████████████████████████████████████████████████████████| 63/63 [00:02<00:00, 21.43it/s]\n"
     ]
    },
    {
     "name": "stdout",
     "output_type": "stream",
     "text": [
      "Epoch 117/512: \n",
      "Train Loss = 0.49086, Train MSE = 0.84226, Train MAE = 0.69856, Train Acc = 0.75349\n",
      "Val Loss = 0.47282, Val MSE = 0.78902, Val MAE = 0.68016, Val Acc = 0.75896\n"
     ]
    },
    {
     "name": "stderr",
     "output_type": "stream",
     "text": [
      "Epoch 118/512: 100%|██████████████████████████████████████████████████████████████████████| 63/63 [00:03<00:00, 20.80it/s]\n"
     ]
    },
    {
     "name": "stdout",
     "output_type": "stream",
     "text": [
      "Epoch 118/512: \n",
      "Train Loss = 0.49407, Train MSE = 0.84177, Train MAE = 0.70278, Train Acc = 0.75075\n",
      "Val Loss = 0.46628, Val MSE = 0.77910, Val MAE = 0.67100, Val Acc = 0.75896\n"
     ]
    },
    {
     "name": "stderr",
     "output_type": "stream",
     "text": [
      "Epoch 119/512: 100%|██████████████████████████████████████████████████████████████████████| 63/63 [00:03<00:00, 20.97it/s]\n"
     ]
    },
    {
     "name": "stdout",
     "output_type": "stream",
     "text": [
      "Epoch 119/512: \n",
      "Train Loss = 0.48119, Train MSE = 0.81913, Train MAE = 0.68847, Train Acc = 0.76942\n",
      "Val Loss = 0.46306, Val MSE = 0.76612, Val MAE = 0.66893, Val Acc = 0.76295\n"
     ]
    },
    {
     "name": "stderr",
     "output_type": "stream",
     "text": [
      "Epoch 120/512: 100%|██████████████████████████████████████████████████████████████████████| 63/63 [00:03<00:00, 20.75it/s]\n"
     ]
    },
    {
     "name": "stdout",
     "output_type": "stream",
     "text": [
      "Epoch 120/512: \n",
      "Train Loss = 0.48107, Train MSE = 0.81381, Train MAE = 0.68945, Train Acc = 0.76668\n",
      "Val Loss = 0.45414, Val MSE = 0.75442, Val MAE = 0.65915, Val Acc = 0.77888\n"
     ]
    },
    {
     "name": "stderr",
     "output_type": "stream",
     "text": [
      "Epoch 121/512: 100%|██████████████████████████████████████████████████████████████████████| 63/63 [00:03<00:00, 20.76it/s]\n"
     ]
    },
    {
     "name": "stdout",
     "output_type": "stream",
     "text": [
      "Epoch 121/512: \n",
      "Train Loss = 0.47302, Train MSE = 0.79098, Train MAE = 0.68100, Train Acc = 0.76643\n",
      "Val Loss = 0.47101, Val MSE = 0.78902, Val MAE = 0.67950, Val Acc = 0.75896\n"
     ]
    },
    {
     "name": "stderr",
     "output_type": "stream",
     "text": [
      "Epoch 122/512: 100%|██████████████████████████████████████████████████████████████████████| 63/63 [00:03<00:00, 20.82it/s]\n"
     ]
    },
    {
     "name": "stdout",
     "output_type": "stream",
     "text": [
      "Epoch 122/512: \n",
      "Train Loss = 0.47432, Train MSE = 0.80014, Train MAE = 0.68278, Train Acc = 0.76494\n",
      "Val Loss = 0.46410, Val MSE = 0.78411, Val MAE = 0.67112, Val Acc = 0.76494\n"
     ]
    },
    {
     "name": "stderr",
     "output_type": "stream",
     "text": [
      "Epoch 123/512: 100%|██████████████████████████████████████████████████████████████████████| 63/63 [00:03<00:00, 20.67it/s]\n"
     ]
    },
    {
     "name": "stdout",
     "output_type": "stream",
     "text": [
      "Epoch 123/512: \n",
      "Train Loss = 0.47805, Train MSE = 0.80849, Train MAE = 0.68660, Train Acc = 0.76718\n",
      "Val Loss = 0.46922, Val MSE = 0.79624, Val MAE = 0.67519, Val Acc = 0.76693\n"
     ]
    },
    {
     "name": "stderr",
     "output_type": "stream",
     "text": [
      "Epoch 124/512: 100%|██████████████████████████████████████████████████████████████████████| 63/63 [00:02<00:00, 21.34it/s]\n"
     ]
    },
    {
     "name": "stdout",
     "output_type": "stream",
     "text": [
      "Epoch 124/512: \n",
      "Train Loss = 0.48578, Train MSE = 0.83160, Train MAE = 0.69259, Train Acc = 0.75872\n",
      "Val Loss = 0.46586, Val MSE = 0.76931, Val MAE = 0.67295, Val Acc = 0.75896\n"
     ]
    },
    {
     "name": "stderr",
     "output_type": "stream",
     "text": [
      "Epoch 125/512: 100%|██████████████████████████████████████████████████████████████████████| 63/63 [00:03<00:00, 20.74it/s]\n"
     ]
    },
    {
     "name": "stdout",
     "output_type": "stream",
     "text": [
      "Epoch 125/512: \n",
      "Train Loss = 0.46335, Train MSE = 0.77646, Train MAE = 0.66897, Train Acc = 0.77316\n",
      "Val Loss = 0.46939, Val MSE = 0.79979, Val MAE = 0.67145, Val Acc = 0.74701\n"
     ]
    },
    {
     "name": "stderr",
     "output_type": "stream",
     "text": [
      "Epoch 126/512: 100%|██████████████████████████████████████████████████████████████████████| 63/63 [00:03<00:00, 20.90it/s]\n"
     ]
    },
    {
     "name": "stdout",
     "output_type": "stream",
     "text": [
      "Epoch 126/512: \n",
      "Train Loss = 0.46664, Train MSE = 0.78512, Train MAE = 0.67457, Train Acc = 0.77166\n",
      "Val Loss = 0.46050, Val MSE = 0.77564, Val MAE = 0.66646, Val Acc = 0.76892\n"
     ]
    },
    {
     "name": "stderr",
     "output_type": "stream",
     "text": [
      "Epoch 127/512: 100%|██████████████████████████████████████████████████████████████████████| 63/63 [00:02<00:00, 21.20it/s]\n"
     ]
    },
    {
     "name": "stdout",
     "output_type": "stream",
     "text": [
      "Epoch 127/512: \n",
      "Train Loss = 0.47533, Train MSE = 0.79987, Train MAE = 0.68301, Train Acc = 0.76096\n",
      "Val Loss = 0.45954, Val MSE = 0.76875, Val MAE = 0.66455, Val Acc = 0.77291\n"
     ]
    },
    {
     "name": "stderr",
     "output_type": "stream",
     "text": [
      "Epoch 128/512: 100%|██████████████████████████████████████████████████████████████████████| 63/63 [00:02<00:00, 21.41it/s]\n"
     ]
    },
    {
     "name": "stdout",
     "output_type": "stream",
     "text": [
      "Epoch 128/512: \n",
      "Train Loss = 0.47250, Train MSE = 0.79529, Train MAE = 0.67942, Train Acc = 0.76494\n",
      "Val Loss = 0.45891, Val MSE = 0.77193, Val MAE = 0.66326, Val Acc = 0.76693\n"
     ]
    },
    {
     "name": "stderr",
     "output_type": "stream",
     "text": [
      "Epoch 129/512: 100%|██████████████████████████████████████████████████████████████████████| 63/63 [00:02<00:00, 21.15it/s]\n"
     ]
    },
    {
     "name": "stdout",
     "output_type": "stream",
     "text": [
      "Epoch 129/512: \n",
      "Train Loss = 0.48756, Train MSE = 0.83171, Train MAE = 0.69507, Train Acc = 0.76046\n",
      "Val Loss = 0.45958, Val MSE = 0.77813, Val MAE = 0.66708, Val Acc = 0.76693\n"
     ]
    },
    {
     "name": "stderr",
     "output_type": "stream",
     "text": [
      "Epoch 130/512: 100%|██████████████████████████████████████████████████████████████████████| 63/63 [00:02<00:00, 21.40it/s]\n"
     ]
    },
    {
     "name": "stdout",
     "output_type": "stream",
     "text": [
      "Epoch 130/512: \n",
      "Train Loss = 0.47529, Train MSE = 0.79751, Train MAE = 0.68228, Train Acc = 0.76544\n",
      "Val Loss = 0.44700, Val MSE = 0.74823, Val MAE = 0.65242, Val Acc = 0.77092\n"
     ]
    },
    {
     "name": "stderr",
     "output_type": "stream",
     "text": [
      "Epoch 131/512: 100%|██████████████████████████████████████████████████████████████████████| 63/63 [00:03<00:00, 20.42it/s]\n"
     ]
    },
    {
     "name": "stdout",
     "output_type": "stream",
     "text": [
      "Epoch 131/512: \n",
      "Train Loss = 0.47236, Train MSE = 0.78936, Train MAE = 0.68061, Train Acc = 0.77117\n",
      "Val Loss = 0.47381, Val MSE = 0.80838, Val MAE = 0.68303, Val Acc = 0.75100\n"
     ]
    },
    {
     "name": "stderr",
     "output_type": "stream",
     "text": [
      "Epoch 132/512: 100%|██████████████████████████████████████████████████████████████████████| 63/63 [00:02<00:00, 21.04it/s]\n"
     ]
    },
    {
     "name": "stdout",
     "output_type": "stream",
     "text": [
      "Epoch 132/512: \n",
      "Train Loss = 0.47808, Train MSE = 0.82265, Train MAE = 0.68544, Train Acc = 0.76743\n",
      "Val Loss = 0.46132, Val MSE = 0.77731, Val MAE = 0.66717, Val Acc = 0.78287\n"
     ]
    },
    {
     "name": "stderr",
     "output_type": "stream",
     "text": [
      "Epoch 133/512: 100%|██████████████████████████████████████████████████████████████████████| 63/63 [00:02<00:00, 21.16it/s]\n"
     ]
    },
    {
     "name": "stdout",
     "output_type": "stream",
     "text": [
      "Epoch 133/512: \n",
      "Train Loss = 0.47162, Train MSE = 0.78948, Train MAE = 0.67938, Train Acc = 0.77017\n",
      "Val Loss = 0.46801, Val MSE = 0.79501, Val MAE = 0.67660, Val Acc = 0.78884\n"
     ]
    },
    {
     "name": "stderr",
     "output_type": "stream",
     "text": [
      "Epoch 134/512: 100%|██████████████████████████████████████████████████████████████████████| 63/63 [00:02<00:00, 21.19it/s]\n"
     ]
    },
    {
     "name": "stdout",
     "output_type": "stream",
     "text": [
      "Epoch 134/512: \n",
      "Train Loss = 0.47009, Train MSE = 0.80073, Train MAE = 0.67696, Train Acc = 0.77266\n",
      "Val Loss = 0.45445, Val MSE = 0.77198, Val MAE = 0.65850, Val Acc = 0.78287\n"
     ]
    },
    {
     "name": "stderr",
     "output_type": "stream",
     "text": [
      "Epoch 135/512: 100%|██████████████████████████████████████████████████████████████████████| 63/63 [00:02<00:00, 21.00it/s]\n"
     ]
    },
    {
     "name": "stdout",
     "output_type": "stream",
     "text": [
      "Epoch 135/512: \n",
      "Train Loss = 0.46296, Train MSE = 0.78155, Train MAE = 0.66928, Train Acc = 0.77565\n",
      "Val Loss = 0.46274, Val MSE = 0.77596, Val MAE = 0.66919, Val Acc = 0.76295\n"
     ]
    },
    {
     "name": "stderr",
     "output_type": "stream",
     "text": [
      "Epoch 136/512: 100%|██████████████████████████████████████████████████████████████████████| 63/63 [00:02<00:00, 21.14it/s]\n"
     ]
    },
    {
     "name": "stdout",
     "output_type": "stream",
     "text": [
      "Epoch 136/512: \n",
      "Train Loss = 0.46847, Train MSE = 0.78977, Train MAE = 0.67503, Train Acc = 0.77216\n",
      "Val Loss = 0.44377, Val MSE = 0.73972, Val MAE = 0.64964, Val Acc = 0.79283\n"
     ]
    },
    {
     "name": "stderr",
     "output_type": "stream",
     "text": [
      "Epoch 137/512: 100%|██████████████████████████████████████████████████████████████████████| 63/63 [00:02<00:00, 21.36it/s]\n"
     ]
    },
    {
     "name": "stdout",
     "output_type": "stream",
     "text": [
      "Epoch 137/512: \n",
      "Train Loss = 0.46257, Train MSE = 0.77937, Train MAE = 0.66874, Train Acc = 0.77216\n",
      "Val Loss = 0.45734, Val MSE = 0.76590, Val MAE = 0.66493, Val Acc = 0.78088\n"
     ]
    },
    {
     "name": "stderr",
     "output_type": "stream",
     "text": [
      "Epoch 138/512: 100%|██████████████████████████████████████████████████████████████████████| 63/63 [00:02<00:00, 21.17it/s]\n"
     ]
    },
    {
     "name": "stdout",
     "output_type": "stream",
     "text": [
      "Epoch 138/512: \n",
      "Train Loss = 0.45652, Train MSE = 0.75650, Train MAE = 0.66089, Train Acc = 0.77615\n",
      "Val Loss = 0.45650, Val MSE = 0.76347, Val MAE = 0.66061, Val Acc = 0.76494\n"
     ]
    },
    {
     "name": "stderr",
     "output_type": "stream",
     "text": [
      "Epoch 139/512: 100%|██████████████████████████████████████████████████████████████████████| 63/63 [00:02<00:00, 21.36it/s]\n"
     ]
    },
    {
     "name": "stdout",
     "output_type": "stream",
     "text": [
      "Epoch 139/512: \n",
      "Train Loss = 0.46858, Train MSE = 0.78452, Train MAE = 0.67519, Train Acc = 0.77117\n",
      "Val Loss = 0.46554, Val MSE = 0.77427, Val MAE = 0.67568, Val Acc = 0.77689\n"
     ]
    },
    {
     "name": "stderr",
     "output_type": "stream",
     "text": [
      "Epoch 140/512: 100%|██████████████████████████████████████████████████████████████████████| 63/63 [00:02<00:00, 21.24it/s]\n"
     ]
    },
    {
     "name": "stdout",
     "output_type": "stream",
     "text": [
      "Epoch 140/512: \n",
      "Train Loss = 0.45367, Train MSE = 0.75783, Train MAE = 0.65882, Train Acc = 0.77888\n",
      "Val Loss = 0.45163, Val MSE = 0.75150, Val MAE = 0.65582, Val Acc = 0.76494\n"
     ]
    },
    {
     "name": "stderr",
     "output_type": "stream",
     "text": [
      "Epoch 141/512: 100%|██████████████████████████████████████████████████████████████████████| 63/63 [00:02<00:00, 21.05it/s]\n"
     ]
    },
    {
     "name": "stdout",
     "output_type": "stream",
     "text": [
      "Epoch 141/512: \n",
      "Train Loss = 0.45903, Train MSE = 0.76895, Train MAE = 0.66441, Train Acc = 0.78536\n",
      "Val Loss = 0.47337, Val MSE = 0.78737, Val MAE = 0.67923, Val Acc = 0.73904\n"
     ]
    },
    {
     "name": "stderr",
     "output_type": "stream",
     "text": [
      "Epoch 142/512: 100%|██████████████████████████████████████████████████████████████████████| 63/63 [00:03<00:00, 20.66it/s]\n"
     ]
    },
    {
     "name": "stdout",
     "output_type": "stream",
     "text": [
      "Epoch 142/512: \n",
      "Train Loss = 0.46945, Train MSE = 0.79268, Train MAE = 0.67576, Train Acc = 0.77042\n",
      "Val Loss = 0.46059, Val MSE = 0.75697, Val MAE = 0.66748, Val Acc = 0.76494\n"
     ]
    },
    {
     "name": "stderr",
     "output_type": "stream",
     "text": [
      "Epoch 143/512: 100%|██████████████████████████████████████████████████████████████████████| 63/63 [00:03<00:00, 20.93it/s]\n"
     ]
    },
    {
     "name": "stdout",
     "output_type": "stream",
     "text": [
      "Epoch 143/512: \n",
      "Train Loss = 0.46989, Train MSE = 0.79271, Train MAE = 0.67699, Train Acc = 0.77266\n",
      "Val Loss = 0.46935, Val MSE = 0.81055, Val MAE = 0.67677, Val Acc = 0.76892\n"
     ]
    },
    {
     "name": "stderr",
     "output_type": "stream",
     "text": [
      "Epoch 144/512: 100%|██████████████████████████████████████████████████████████████████████| 63/63 [00:02<00:00, 21.46it/s]\n"
     ]
    },
    {
     "name": "stdout",
     "output_type": "stream",
     "text": [
      "Epoch 144/512: \n",
      "Train Loss = 0.45707, Train MSE = 0.75594, Train MAE = 0.66319, Train Acc = 0.77341\n",
      "Val Loss = 0.45751, Val MSE = 0.77834, Val MAE = 0.66225, Val Acc = 0.78088\n"
     ]
    },
    {
     "name": "stderr",
     "output_type": "stream",
     "text": [
      "Epoch 145/512: 100%|██████████████████████████████████████████████████████████████████████| 63/63 [00:03<00:00, 20.98it/s]\n"
     ]
    },
    {
     "name": "stdout",
     "output_type": "stream",
     "text": [
      "Epoch 145/512: \n",
      "Train Loss = 0.45636, Train MSE = 0.75921, Train MAE = 0.66278, Train Acc = 0.77913\n",
      "Val Loss = 0.45876, Val MSE = 0.77323, Val MAE = 0.66367, Val Acc = 0.78088\n"
     ]
    },
    {
     "name": "stderr",
     "output_type": "stream",
     "text": [
      "Epoch 146/512: 100%|██████████████████████████████████████████████████████████████████████| 63/63 [00:02<00:00, 21.08it/s]\n"
     ]
    },
    {
     "name": "stdout",
     "output_type": "stream",
     "text": [
      "Epoch 146/512: \n",
      "Train Loss = 0.46080, Train MSE = 0.77013, Train MAE = 0.66806, Train Acc = 0.77839\n",
      "Val Loss = 0.44873, Val MSE = 0.76804, Val MAE = 0.65349, Val Acc = 0.78287\n"
     ]
    },
    {
     "name": "stderr",
     "output_type": "stream",
     "text": [
      "Epoch 147/512: 100%|██████████████████████████████████████████████████████████████████████| 63/63 [00:02<00:00, 21.01it/s]\n"
     ]
    },
    {
     "name": "stdout",
     "output_type": "stream",
     "text": [
      "Epoch 147/512: \n",
      "Train Loss = 0.46009, Train MSE = 0.77311, Train MAE = 0.66651, Train Acc = 0.77664\n",
      "Val Loss = 0.46387, Val MSE = 0.78244, Val MAE = 0.67012, Val Acc = 0.77888\n"
     ]
    },
    {
     "name": "stderr",
     "output_type": "stream",
     "text": [
      "Epoch 148/512: 100%|██████████████████████████████████████████████████████████████████████| 63/63 [00:02<00:00, 21.31it/s]\n"
     ]
    },
    {
     "name": "stdout",
     "output_type": "stream",
     "text": [
      "Epoch 148/512: \n",
      "Train Loss = 0.46394, Train MSE = 0.78106, Train MAE = 0.66969, Train Acc = 0.77764\n",
      "Val Loss = 0.45628, Val MSE = 0.77445, Val MAE = 0.66223, Val Acc = 0.78088\n"
     ]
    },
    {
     "name": "stderr",
     "output_type": "stream",
     "text": [
      "Epoch 149/512: 100%|██████████████████████████████████████████████████████████████████████| 63/63 [00:02<00:00, 21.01it/s]\n"
     ]
    },
    {
     "name": "stdout",
     "output_type": "stream",
     "text": [
      "Epoch 149/512: \n",
      "Train Loss = 0.45037, Train MSE = 0.74798, Train MAE = 0.65411, Train Acc = 0.78013\n",
      "Val Loss = 0.48396, Val MSE = 0.81322, Val MAE = 0.69387, Val Acc = 0.75299\n"
     ]
    },
    {
     "name": "stderr",
     "output_type": "stream",
     "text": [
      "Epoch 150/512: 100%|██████████████████████████████████████████████████████████████████████| 63/63 [00:03<00:00, 20.67it/s]\n"
     ]
    },
    {
     "name": "stdout",
     "output_type": "stream",
     "text": [
      "Epoch 150/512: \n",
      "Train Loss = 0.44882, Train MSE = 0.74134, Train MAE = 0.65461, Train Acc = 0.78287\n",
      "Val Loss = 0.45652, Val MSE = 0.78264, Val MAE = 0.66139, Val Acc = 0.77092\n"
     ]
    },
    {
     "name": "stderr",
     "output_type": "stream",
     "text": [
      "Epoch 151/512: 100%|██████████████████████████████████████████████████████████████████████| 63/63 [00:03<00:00, 20.98it/s]\n"
     ]
    },
    {
     "name": "stdout",
     "output_type": "stream",
     "text": [
      "Epoch 151/512: \n",
      "Train Loss = 0.46568, Train MSE = 0.77196, Train MAE = 0.67164, Train Acc = 0.77963\n",
      "Val Loss = 0.45594, Val MSE = 0.77918, Val MAE = 0.66177, Val Acc = 0.77291\n"
     ]
    },
    {
     "name": "stderr",
     "output_type": "stream",
     "text": [
      "Epoch 152/512: 100%|██████████████████████████████████████████████████████████████████████| 63/63 [00:02<00:00, 21.42it/s]\n"
     ]
    },
    {
     "name": "stdout",
     "output_type": "stream",
     "text": [
      "Epoch 152/512: \n",
      "Train Loss = 0.45839, Train MSE = 0.76365, Train MAE = 0.66449, Train Acc = 0.78237\n",
      "Val Loss = 0.45265, Val MSE = 0.75679, Val MAE = 0.65563, Val Acc = 0.76693\n"
     ]
    },
    {
     "name": "stderr",
     "output_type": "stream",
     "text": [
      "Epoch 153/512: 100%|██████████████████████████████████████████████████████████████████████| 63/63 [00:02<00:00, 21.29it/s]\n"
     ]
    },
    {
     "name": "stdout",
     "output_type": "stream",
     "text": [
      "Epoch 153/512: \n",
      "Train Loss = 0.45878, Train MSE = 0.76736, Train MAE = 0.66597, Train Acc = 0.77839\n",
      "Val Loss = 0.44261, Val MSE = 0.73223, Val MAE = 0.64753, Val Acc = 0.77291\n"
     ]
    },
    {
     "name": "stderr",
     "output_type": "stream",
     "text": [
      "Epoch 154/512: 100%|██████████████████████████████████████████████████████████████████████| 63/63 [00:03<00:00, 20.90it/s]\n"
     ]
    },
    {
     "name": "stdout",
     "output_type": "stream",
     "text": [
      "Epoch 154/512: \n",
      "Train Loss = 0.44667, Train MSE = 0.74334, Train MAE = 0.65184, Train Acc = 0.78959\n",
      "Val Loss = 0.44581, Val MSE = 0.74402, Val MAE = 0.64842, Val Acc = 0.78088\n"
     ]
    },
    {
     "name": "stderr",
     "output_type": "stream",
     "text": [
      "Epoch 155/512: 100%|██████████████████████████████████████████████████████████████████████| 63/63 [00:02<00:00, 21.42it/s]\n"
     ]
    },
    {
     "name": "stdout",
     "output_type": "stream",
     "text": [
      "Epoch 155/512: \n",
      "Train Loss = 0.45474, Train MSE = 0.76481, Train MAE = 0.65837, Train Acc = 0.77839\n",
      "Val Loss = 0.45906, Val MSE = 0.76237, Val MAE = 0.66759, Val Acc = 0.78685\n"
     ]
    },
    {
     "name": "stderr",
     "output_type": "stream",
     "text": [
      "Epoch 156/512: 100%|██████████████████████████████████████████████████████████████████████| 63/63 [00:02<00:00, 21.17it/s]\n"
     ]
    },
    {
     "name": "stdout",
     "output_type": "stream",
     "text": [
      "Epoch 156/512: \n",
      "Train Loss = 0.45276, Train MSE = 0.75795, Train MAE = 0.65818, Train Acc = 0.78137\n",
      "Val Loss = 0.46898, Val MSE = 0.80630, Val MAE = 0.67830, Val Acc = 0.76892\n"
     ]
    },
    {
     "name": "stderr",
     "output_type": "stream",
     "text": [
      "Epoch 157/512: 100%|██████████████████████████████████████████████████████████████████████| 63/63 [00:02<00:00, 21.10it/s]\n"
     ]
    },
    {
     "name": "stdout",
     "output_type": "stream",
     "text": [
      "Epoch 157/512: \n",
      "Train Loss = 0.45180, Train MSE = 0.75079, Train MAE = 0.65785, Train Acc = 0.78735\n",
      "Val Loss = 0.44556, Val MSE = 0.74720, Val MAE = 0.64942, Val Acc = 0.78287\n"
     ]
    },
    {
     "name": "stderr",
     "output_type": "stream",
     "text": [
      "Epoch 158/512: 100%|██████████████████████████████████████████████████████████████████████| 63/63 [00:02<00:00, 21.16it/s]\n"
     ]
    },
    {
     "name": "stdout",
     "output_type": "stream",
     "text": [
      "Epoch 158/512: \n",
      "Train Loss = 0.45572, Train MSE = 0.76531, Train MAE = 0.66139, Train Acc = 0.77789\n",
      "Val Loss = 0.45249, Val MSE = 0.77016, Val MAE = 0.65670, Val Acc = 0.76892\n"
     ]
    },
    {
     "name": "stderr",
     "output_type": "stream",
     "text": [
      "Epoch 159/512: 100%|██████████████████████████████████████████████████████████████████████| 63/63 [00:02<00:00, 21.34it/s]\n"
     ]
    },
    {
     "name": "stdout",
     "output_type": "stream",
     "text": [
      "Epoch 159/512: \n",
      "Train Loss = 0.44402, Train MSE = 0.74317, Train MAE = 0.64840, Train Acc = 0.78810\n",
      "Val Loss = 0.44512, Val MSE = 0.74544, Val MAE = 0.64794, Val Acc = 0.77490\n"
     ]
    },
    {
     "name": "stderr",
     "output_type": "stream",
     "text": [
      "Epoch 160/512: 100%|██████████████████████████████████████████████████████████████████████| 63/63 [00:02<00:00, 21.02it/s]\n"
     ]
    },
    {
     "name": "stdout",
     "output_type": "stream",
     "text": [
      "Epoch 160/512: \n",
      "Train Loss = 0.45278, Train MSE = 0.75447, Train MAE = 0.65830, Train Acc = 0.78287\n",
      "Val Loss = 0.45034, Val MSE = 0.75726, Val MAE = 0.65538, Val Acc = 0.79084\n"
     ]
    },
    {
     "name": "stderr",
     "output_type": "stream",
     "text": [
      "Epoch 161/512: 100%|██████████████████████████████████████████████████████████████████████| 63/63 [00:03<00:00, 20.95it/s]\n"
     ]
    },
    {
     "name": "stdout",
     "output_type": "stream",
     "text": [
      "Epoch 161/512: \n",
      "Train Loss = 0.45327, Train MSE = 0.75153, Train MAE = 0.65874, Train Acc = 0.78312\n",
      "Val Loss = 0.45908, Val MSE = 0.77027, Val MAE = 0.66564, Val Acc = 0.77888\n"
     ]
    },
    {
     "name": "stderr",
     "output_type": "stream",
     "text": [
      "Epoch 162/512: 100%|██████████████████████████████████████████████████████████████████████| 63/63 [00:02<00:00, 21.29it/s]\n"
     ]
    },
    {
     "name": "stdout",
     "output_type": "stream",
     "text": [
      "Epoch 162/512: \n",
      "Train Loss = 0.44777, Train MSE = 0.74571, Train MAE = 0.65208, Train Acc = 0.78760\n",
      "Val Loss = 0.44825, Val MSE = 0.76258, Val MAE = 0.65320, Val Acc = 0.78287\n"
     ]
    },
    {
     "name": "stderr",
     "output_type": "stream",
     "text": [
      "Epoch 163/512: 100%|██████████████████████████████████████████████████████████████████████| 63/63 [00:02<00:00, 21.31it/s]\n"
     ]
    },
    {
     "name": "stdout",
     "output_type": "stream",
     "text": [
      "Epoch 163/512: \n",
      "Train Loss = 0.45011, Train MSE = 0.74764, Train MAE = 0.65450, Train Acc = 0.78685\n",
      "Val Loss = 0.44793, Val MSE = 0.74377, Val MAE = 0.65034, Val Acc = 0.78486\n"
     ]
    },
    {
     "name": "stderr",
     "output_type": "stream",
     "text": [
      "Epoch 164/512: 100%|██████████████████████████████████████████████████████████████████████| 63/63 [00:02<00:00, 21.22it/s]\n"
     ]
    },
    {
     "name": "stdout",
     "output_type": "stream",
     "text": [
      "Epoch 164/512: \n",
      "Train Loss = 0.44059, Train MSE = 0.73575, Train MAE = 0.64417, Train Acc = 0.78810\n",
      "Val Loss = 0.43941, Val MSE = 0.73403, Val MAE = 0.64435, Val Acc = 0.78486\n"
     ]
    },
    {
     "name": "stderr",
     "output_type": "stream",
     "text": [
      "Epoch 165/512: 100%|██████████████████████████████████████████████████████████████████████| 63/63 [00:02<00:00, 21.13it/s]\n"
     ]
    },
    {
     "name": "stdout",
     "output_type": "stream",
     "text": [
      "Epoch 165/512: \n",
      "Train Loss = 0.44560, Train MSE = 0.74821, Train MAE = 0.64907, Train Acc = 0.78287\n",
      "Val Loss = 0.45093, Val MSE = 0.75506, Val MAE = 0.65585, Val Acc = 0.79482\n"
     ]
    },
    {
     "name": "stderr",
     "output_type": "stream",
     "text": [
      "Epoch 166/512: 100%|██████████████████████████████████████████████████████████████████████| 63/63 [00:02<00:00, 21.02it/s]\n"
     ]
    },
    {
     "name": "stdout",
     "output_type": "stream",
     "text": [
      "Epoch 166/512: \n",
      "Train Loss = 0.44959, Train MSE = 0.74534, Train MAE = 0.65584, Train Acc = 0.78461\n",
      "Val Loss = 0.44452, Val MSE = 0.74619, Val MAE = 0.64832, Val Acc = 0.77888\n"
     ]
    },
    {
     "name": "stderr",
     "output_type": "stream",
     "text": [
      "Epoch 167/512: 100%|██████████████████████████████████████████████████████████████████████| 63/63 [00:02<00:00, 21.23it/s]\n"
     ]
    },
    {
     "name": "stdout",
     "output_type": "stream",
     "text": [
      "Epoch 167/512: \n",
      "Train Loss = 0.44409, Train MSE = 0.73873, Train MAE = 0.64737, Train Acc = 0.78710\n",
      "Val Loss = 0.45724, Val MSE = 0.75087, Val MAE = 0.66268, Val Acc = 0.76096\n"
     ]
    },
    {
     "name": "stderr",
     "output_type": "stream",
     "text": [
      "Epoch 168/512: 100%|██████████████████████████████████████████████████████████████████████| 63/63 [00:02<00:00, 21.41it/s]\n"
     ]
    },
    {
     "name": "stdout",
     "output_type": "stream",
     "text": [
      "Epoch 168/512: \n",
      "Train Loss = 0.45727, Train MSE = 0.76661, Train MAE = 0.66274, Train Acc = 0.78312\n",
      "Val Loss = 0.43942, Val MSE = 0.74282, Val MAE = 0.64248, Val Acc = 0.78685\n"
     ]
    },
    {
     "name": "stderr",
     "output_type": "stream",
     "text": [
      "Epoch 169/512: 100%|██████████████████████████████████████████████████████████████████████| 63/63 [00:02<00:00, 21.23it/s]\n"
     ]
    },
    {
     "name": "stdout",
     "output_type": "stream",
     "text": [
      "Epoch 169/512: \n",
      "Train Loss = 0.43859, Train MSE = 0.73760, Train MAE = 0.64141, Train Acc = 0.79308\n",
      "Val Loss = 0.44275, Val MSE = 0.74089, Val MAE = 0.64597, Val Acc = 0.77689\n"
     ]
    },
    {
     "name": "stderr",
     "output_type": "stream",
     "text": [
      "Epoch 170/512: 100%|██████████████████████████████████████████████████████████████████████| 63/63 [00:03<00:00, 20.75it/s]\n"
     ]
    },
    {
     "name": "stdout",
     "output_type": "stream",
     "text": [
      "Epoch 170/512: \n",
      "Train Loss = 0.45331, Train MSE = 0.76125, Train MAE = 0.65777, Train Acc = 0.78063\n",
      "Val Loss = 0.43936, Val MSE = 0.73646, Val MAE = 0.64231, Val Acc = 0.80279\n"
     ]
    },
    {
     "name": "stderr",
     "output_type": "stream",
     "text": [
      "Epoch 171/512: 100%|██████████████████████████████████████████████████████████████████████| 63/63 [00:02<00:00, 21.25it/s]\n"
     ]
    },
    {
     "name": "stdout",
     "output_type": "stream",
     "text": [
      "Epoch 171/512: \n",
      "Train Loss = 0.44086, Train MSE = 0.73056, Train MAE = 0.64491, Train Acc = 0.78884\n",
      "Val Loss = 0.43403, Val MSE = 0.72624, Val MAE = 0.63590, Val Acc = 0.78287\n"
     ]
    },
    {
     "name": "stderr",
     "output_type": "stream",
     "text": [
      "Epoch 172/512: 100%|██████████████████████████████████████████████████████████████████████| 63/63 [00:03<00:00, 20.98it/s]\n"
     ]
    },
    {
     "name": "stdout",
     "output_type": "stream",
     "text": [
      "Epoch 172/512: \n",
      "Train Loss = 0.44278, Train MSE = 0.74145, Train MAE = 0.64547, Train Acc = 0.78860\n",
      "Val Loss = 0.44310, Val MSE = 0.74608, Val MAE = 0.64490, Val Acc = 0.80080\n"
     ]
    },
    {
     "name": "stderr",
     "output_type": "stream",
     "text": [
      "Epoch 173/512: 100%|██████████████████████████████████████████████████████████████████████| 63/63 [00:02<00:00, 21.25it/s]\n"
     ]
    },
    {
     "name": "stdout",
     "output_type": "stream",
     "text": [
      "Epoch 173/512: \n",
      "Train Loss = 0.44180, Train MSE = 0.74400, Train MAE = 0.64633, Train Acc = 0.79756\n",
      "Val Loss = 0.43347, Val MSE = 0.72842, Val MAE = 0.63908, Val Acc = 0.79283\n"
     ]
    },
    {
     "name": "stderr",
     "output_type": "stream",
     "text": [
      "Epoch 174/512: 100%|██████████████████████████████████████████████████████████████████████| 63/63 [00:02<00:00, 21.08it/s]\n"
     ]
    },
    {
     "name": "stdout",
     "output_type": "stream",
     "text": [
      "Epoch 174/512: \n",
      "Train Loss = 0.44323, Train MSE = 0.74333, Train MAE = 0.64723, Train Acc = 0.78735\n",
      "Val Loss = 0.43989, Val MSE = 0.73474, Val MAE = 0.64340, Val Acc = 0.80080\n"
     ]
    },
    {
     "name": "stderr",
     "output_type": "stream",
     "text": [
      "Epoch 175/512: 100%|██████████████████████████████████████████████████████████████████████| 63/63 [00:02<00:00, 21.40it/s]\n"
     ]
    },
    {
     "name": "stdout",
     "output_type": "stream",
     "text": [
      "Epoch 175/512: \n",
      "Train Loss = 0.44798, Train MSE = 0.75126, Train MAE = 0.65322, Train Acc = 0.78635\n",
      "Val Loss = 0.44563, Val MSE = 0.74357, Val MAE = 0.65069, Val Acc = 0.78884\n"
     ]
    },
    {
     "name": "stderr",
     "output_type": "stream",
     "text": [
      "Epoch 176/512: 100%|██████████████████████████████████████████████████████████████████████| 63/63 [00:03<00:00, 20.78it/s]\n"
     ]
    },
    {
     "name": "stdout",
     "output_type": "stream",
     "text": [
      "Epoch 176/512: \n",
      "Train Loss = 0.43144, Train MSE = 0.71276, Train MAE = 0.63482, Train Acc = 0.79980\n",
      "Val Loss = 0.43663, Val MSE = 0.72564, Val MAE = 0.64369, Val Acc = 0.79681\n"
     ]
    },
    {
     "name": "stderr",
     "output_type": "stream",
     "text": [
      "Epoch 177/512: 100%|██████████████████████████████████████████████████████████████████████| 63/63 [00:02<00:00, 21.21it/s]\n"
     ]
    },
    {
     "name": "stdout",
     "output_type": "stream",
     "text": [
      "Epoch 177/512: \n",
      "Train Loss = 0.43078, Train MSE = 0.71777, Train MAE = 0.63366, Train Acc = 0.80080\n",
      "Val Loss = 0.43821, Val MSE = 0.74077, Val MAE = 0.64412, Val Acc = 0.77490\n"
     ]
    },
    {
     "name": "stderr",
     "output_type": "stream",
     "text": [
      "Epoch 178/512: 100%|██████████████████████████████████████████████████████████████████████| 63/63 [00:03<00:00, 20.74it/s]\n"
     ]
    },
    {
     "name": "stdout",
     "output_type": "stream",
     "text": [
      "Epoch 178/512: \n",
      "Train Loss = 0.43989, Train MSE = 0.72948, Train MAE = 0.64453, Train Acc = 0.78511\n",
      "Val Loss = 0.43116, Val MSE = 0.71529, Val MAE = 0.63260, Val Acc = 0.80279\n"
     ]
    },
    {
     "name": "stderr",
     "output_type": "stream",
     "text": [
      "Epoch 179/512: 100%|██████████████████████████████████████████████████████████████████████| 63/63 [00:02<00:00, 21.00it/s]\n"
     ]
    },
    {
     "name": "stdout",
     "output_type": "stream",
     "text": [
      "Epoch 179/512: \n",
      "Train Loss = 0.44527, Train MSE = 0.74074, Train MAE = 0.65120, Train Acc = 0.78586\n",
      "Val Loss = 0.43171, Val MSE = 0.70813, Val MAE = 0.63396, Val Acc = 0.79283\n"
     ]
    },
    {
     "name": "stderr",
     "output_type": "stream",
     "text": [
      "Epoch 180/512: 100%|██████████████████████████████████████████████████████████████████████| 63/63 [00:03<00:00, 20.77it/s]\n"
     ]
    },
    {
     "name": "stdout",
     "output_type": "stream",
     "text": [
      "Epoch 180/512: \n",
      "Train Loss = 0.43582, Train MSE = 0.71297, Train MAE = 0.63921, Train Acc = 0.79283\n",
      "Val Loss = 0.43553, Val MSE = 0.70913, Val MAE = 0.63983, Val Acc = 0.80080\n"
     ]
    },
    {
     "name": "stderr",
     "output_type": "stream",
     "text": [
      "Epoch 181/512: 100%|██████████████████████████████████████████████████████████████████████| 63/63 [00:02<00:00, 21.31it/s]\n"
     ]
    },
    {
     "name": "stdout",
     "output_type": "stream",
     "text": [
      "Epoch 181/512: \n",
      "Train Loss = 0.43277, Train MSE = 0.72105, Train MAE = 0.63590, Train Acc = 0.79955\n",
      "Val Loss = 0.43138, Val MSE = 0.71640, Val MAE = 0.63569, Val Acc = 0.79482\n"
     ]
    },
    {
     "name": "stderr",
     "output_type": "stream",
     "text": [
      "Epoch 182/512: 100%|██████████████████████████████████████████████████████████████████████| 63/63 [00:02<00:00, 21.30it/s]\n"
     ]
    },
    {
     "name": "stdout",
     "output_type": "stream",
     "text": [
      "Epoch 182/512: \n",
      "Train Loss = 0.44736, Train MSE = 0.74530, Train MAE = 0.65218, Train Acc = 0.78934\n",
      "Val Loss = 0.42155, Val MSE = 0.68584, Val MAE = 0.62345, Val Acc = 0.81474\n"
     ]
    },
    {
     "name": "stderr",
     "output_type": "stream",
     "text": [
      "Epoch 183/512: 100%|██████████████████████████████████████████████████████████████████████| 63/63 [00:02<00:00, 21.08it/s]\n"
     ]
    },
    {
     "name": "stdout",
     "output_type": "stream",
     "text": [
      "Epoch 183/512: \n",
      "Train Loss = 0.43419, Train MSE = 0.73510, Train MAE = 0.63649, Train Acc = 0.79930\n",
      "Val Loss = 0.43751, Val MSE = 0.70464, Val MAE = 0.64094, Val Acc = 0.78287\n"
     ]
    },
    {
     "name": "stderr",
     "output_type": "stream",
     "text": [
      "Epoch 184/512: 100%|██████████████████████████████████████████████████████████████████████| 63/63 [00:02<00:00, 21.17it/s]\n"
     ]
    },
    {
     "name": "stdout",
     "output_type": "stream",
     "text": [
      "Epoch 184/512: \n",
      "Train Loss = 0.43584, Train MSE = 0.72557, Train MAE = 0.63857, Train Acc = 0.78984\n",
      "Val Loss = 0.43517, Val MSE = 0.71728, Val MAE = 0.63668, Val Acc = 0.79681\n"
     ]
    },
    {
     "name": "stderr",
     "output_type": "stream",
     "text": [
      "Epoch 185/512: 100%|██████████████████████████████████████████████████████████████████████| 63/63 [00:02<00:00, 21.26it/s]\n"
     ]
    },
    {
     "name": "stdout",
     "output_type": "stream",
     "text": [
      "Epoch 185/512: \n",
      "Train Loss = 0.43305, Train MSE = 0.71604, Train MAE = 0.63803, Train Acc = 0.80403\n",
      "Val Loss = 0.44384, Val MSE = 0.74248, Val MAE = 0.64378, Val Acc = 0.79482\n"
     ]
    },
    {
     "name": "stderr",
     "output_type": "stream",
     "text": [
      "Epoch 186/512: 100%|██████████████████████████████████████████████████████████████████████| 63/63 [00:03<00:00, 20.87it/s]\n"
     ]
    },
    {
     "name": "stdout",
     "output_type": "stream",
     "text": [
      "Epoch 186/512: \n",
      "Train Loss = 0.42697, Train MSE = 0.69688, Train MAE = 0.63185, Train Acc = 0.80378\n",
      "Val Loss = 0.44083, Val MSE = 0.75317, Val MAE = 0.64258, Val Acc = 0.77888\n"
     ]
    },
    {
     "name": "stderr",
     "output_type": "stream",
     "text": [
      "Epoch 187/512: 100%|██████████████████████████████████████████████████████████████████████| 63/63 [00:02<00:00, 21.02it/s]\n"
     ]
    },
    {
     "name": "stdout",
     "output_type": "stream",
     "text": [
      "Epoch 187/512: \n",
      "Train Loss = 0.44808, Train MSE = 0.75045, Train MAE = 0.65415, Train Acc = 0.79109\n",
      "Val Loss = 0.44357, Val MSE = 0.73925, Val MAE = 0.64599, Val Acc = 0.77689\n"
     ]
    },
    {
     "name": "stderr",
     "output_type": "stream",
     "text": [
      "Epoch 188/512: 100%|██████████████████████████████████████████████████████████████████████| 63/63 [00:02<00:00, 21.41it/s]\n"
     ]
    },
    {
     "name": "stdout",
     "output_type": "stream",
     "text": [
      "Epoch 188/512: \n",
      "Train Loss = 0.43329, Train MSE = 0.71903, Train MAE = 0.63643, Train Acc = 0.79856\n",
      "Val Loss = 0.42526, Val MSE = 0.69556, Val MAE = 0.62765, Val Acc = 0.79283\n"
     ]
    },
    {
     "name": "stderr",
     "output_type": "stream",
     "text": [
      "Epoch 189/512: 100%|██████████████████████████████████████████████████████████████████████| 63/63 [00:02<00:00, 21.27it/s]\n"
     ]
    },
    {
     "name": "stdout",
     "output_type": "stream",
     "text": [
      "Epoch 189/512: \n",
      "Train Loss = 0.41794, Train MSE = 0.68506, Train MAE = 0.61889, Train Acc = 0.80179\n",
      "Val Loss = 0.42271, Val MSE = 0.68414, Val MAE = 0.62480, Val Acc = 0.79880\n"
     ]
    },
    {
     "name": "stderr",
     "output_type": "stream",
     "text": [
      "Epoch 190/512: 100%|██████████████████████████████████████████████████████████████████████| 63/63 [00:02<00:00, 21.30it/s]\n"
     ]
    },
    {
     "name": "stdout",
     "output_type": "stream",
     "text": [
      "Epoch 190/512: \n",
      "Train Loss = 0.42039, Train MSE = 0.68831, Train MAE = 0.62438, Train Acc = 0.81250\n",
      "Val Loss = 0.42934, Val MSE = 0.70640, Val MAE = 0.63145, Val Acc = 0.80677\n"
     ]
    },
    {
     "name": "stderr",
     "output_type": "stream",
     "text": [
      "Epoch 191/512: 100%|██████████████████████████████████████████████████████████████████████| 63/63 [00:02<00:00, 21.43it/s]\n"
     ]
    },
    {
     "name": "stdout",
     "output_type": "stream",
     "text": [
      "Epoch 191/512: \n",
      "Train Loss = 0.43100, Train MSE = 0.71488, Train MAE = 0.63550, Train Acc = 0.80403\n",
      "Val Loss = 0.44015, Val MSE = 0.74655, Val MAE = 0.63986, Val Acc = 0.76892\n"
     ]
    },
    {
     "name": "stderr",
     "output_type": "stream",
     "text": [
      "Epoch 192/512: 100%|██████████████████████████████████████████████████████████████████████| 63/63 [00:02<00:00, 21.23it/s]\n"
     ]
    },
    {
     "name": "stdout",
     "output_type": "stream",
     "text": [
      "Epoch 192/512: \n",
      "Train Loss = 0.43085, Train MSE = 0.71302, Train MAE = 0.63350, Train Acc = 0.79930\n",
      "Val Loss = 0.43978, Val MSE = 0.72381, Val MAE = 0.64006, Val Acc = 0.78685\n"
     ]
    },
    {
     "name": "stderr",
     "output_type": "stream",
     "text": [
      "Epoch 193/512: 100%|██████████████████████████████████████████████████████████████████████| 63/63 [00:03<00:00, 20.53it/s]\n"
     ]
    },
    {
     "name": "stdout",
     "output_type": "stream",
     "text": [
      "Epoch 193/512: \n",
      "Train Loss = 0.42801, Train MSE = 0.70140, Train MAE = 0.63201, Train Acc = 0.79905\n",
      "Val Loss = 0.43439, Val MSE = 0.72461, Val MAE = 0.63639, Val Acc = 0.78685\n"
     ]
    },
    {
     "name": "stderr",
     "output_type": "stream",
     "text": [
      "Epoch 194/512: 100%|██████████████████████████████████████████████████████████████████████| 63/63 [00:03<00:00, 20.80it/s]\n"
     ]
    },
    {
     "name": "stdout",
     "output_type": "stream",
     "text": [
      "Epoch 194/512: \n",
      "Train Loss = 0.41734, Train MSE = 0.68480, Train MAE = 0.61960, Train Acc = 0.80428\n",
      "Val Loss = 0.42633, Val MSE = 0.70579, Val MAE = 0.62671, Val Acc = 0.80478\n"
     ]
    },
    {
     "name": "stderr",
     "output_type": "stream",
     "text": [
      "Epoch 195/512: 100%|██████████████████████████████████████████████████████████████████████| 63/63 [00:02<00:00, 21.15it/s]\n"
     ]
    },
    {
     "name": "stdout",
     "output_type": "stream",
     "text": [
      "Epoch 195/512: \n",
      "Train Loss = 0.43133, Train MSE = 0.70866, Train MAE = 0.63583, Train Acc = 0.80030\n",
      "Val Loss = 0.43636, Val MSE = 0.72240, Val MAE = 0.63913, Val Acc = 0.79681\n"
     ]
    },
    {
     "name": "stderr",
     "output_type": "stream",
     "text": [
      "Epoch 196/512: 100%|██████████████████████████████████████████████████████████████████████| 63/63 [00:02<00:00, 21.18it/s]\n"
     ]
    },
    {
     "name": "stdout",
     "output_type": "stream",
     "text": [
      "Epoch 196/512: \n",
      "Train Loss = 0.43500, Train MSE = 0.72200, Train MAE = 0.63945, Train Acc = 0.79358\n",
      "Val Loss = 0.43296, Val MSE = 0.71386, Val MAE = 0.63385, Val Acc = 0.78685\n"
     ]
    },
    {
     "name": "stderr",
     "output_type": "stream",
     "text": [
      "Epoch 197/512: 100%|██████████████████████████████████████████████████████████████████████| 63/63 [00:02<00:00, 21.12it/s]\n"
     ]
    },
    {
     "name": "stdout",
     "output_type": "stream",
     "text": [
      "Epoch 197/512: \n",
      "Train Loss = 0.42514, Train MSE = 0.69586, Train MAE = 0.62890, Train Acc = 0.80329\n",
      "Val Loss = 0.42479, Val MSE = 0.70346, Val MAE = 0.62536, Val Acc = 0.79880\n"
     ]
    },
    {
     "name": "stderr",
     "output_type": "stream",
     "text": [
      "Epoch 198/512: 100%|██████████████████████████████████████████████████████████████████████| 63/63 [00:03<00:00, 20.68it/s]\n"
     ]
    },
    {
     "name": "stdout",
     "output_type": "stream",
     "text": [
      "Epoch 198/512: \n",
      "Train Loss = 0.42518, Train MSE = 0.70282, Train MAE = 0.62863, Train Acc = 0.80752\n",
      "Val Loss = 0.44208, Val MSE = 0.74434, Val MAE = 0.64667, Val Acc = 0.78287\n"
     ]
    },
    {
     "name": "stderr",
     "output_type": "stream",
     "text": [
      "Epoch 199/512: 100%|██████████████████████████████████████████████████████████████████████| 63/63 [00:02<00:00, 21.33it/s]\n"
     ]
    },
    {
     "name": "stdout",
     "output_type": "stream",
     "text": [
      "Epoch 199/512: \n",
      "Train Loss = 0.42985, Train MSE = 0.71282, Train MAE = 0.63364, Train Acc = 0.80229\n",
      "Val Loss = 0.44906, Val MSE = 0.77292, Val MAE = 0.65018, Val Acc = 0.76693\n"
     ]
    },
    {
     "name": "stderr",
     "output_type": "stream",
     "text": [
      "Epoch 200/512: 100%|██████████████████████████████████████████████████████████████████████| 63/63 [00:02<00:00, 21.00it/s]\n"
     ]
    },
    {
     "name": "stdout",
     "output_type": "stream",
     "text": [
      "Epoch 200/512: \n",
      "Train Loss = 0.42783, Train MSE = 0.70708, Train MAE = 0.63076, Train Acc = 0.79532\n",
      "Val Loss = 0.43187, Val MSE = 0.72520, Val MAE = 0.63368, Val Acc = 0.80279\n"
     ]
    },
    {
     "name": "stderr",
     "output_type": "stream",
     "text": [
      "Epoch 201/512: 100%|██████████████████████████████████████████████████████████████████████| 63/63 [00:02<00:00, 21.20it/s]\n"
     ]
    },
    {
     "name": "stdout",
     "output_type": "stream",
     "text": [
      "Epoch 201/512: \n",
      "Train Loss = 0.42724, Train MSE = 0.69683, Train MAE = 0.63100, Train Acc = 0.80478\n",
      "Val Loss = 0.42286, Val MSE = 0.69304, Val MAE = 0.62367, Val Acc = 0.80478\n"
     ]
    },
    {
     "name": "stderr",
     "output_type": "stream",
     "text": [
      "Epoch 202/512: 100%|██████████████████████████████████████████████████████████████████████| 63/63 [00:02<00:00, 21.50it/s]\n"
     ]
    },
    {
     "name": "stdout",
     "output_type": "stream",
     "text": [
      "Epoch 202/512: \n",
      "Train Loss = 0.42790, Train MSE = 0.69983, Train MAE = 0.63086, Train Acc = 0.79980\n",
      "Val Loss = 0.43007, Val MSE = 0.70973, Val MAE = 0.63541, Val Acc = 0.79880\n"
     ]
    },
    {
     "name": "stderr",
     "output_type": "stream",
     "text": [
      "Epoch 203/512: 100%|██████████████████████████████████████████████████████████████████████| 63/63 [00:02<00:00, 21.30it/s]\n"
     ]
    },
    {
     "name": "stdout",
     "output_type": "stream",
     "text": [
      "Epoch 203/512: \n",
      "Train Loss = 0.42493, Train MSE = 0.70693, Train MAE = 0.62675, Train Acc = 0.80105\n",
      "Val Loss = 0.41961, Val MSE = 0.69080, Val MAE = 0.62182, Val Acc = 0.80279\n"
     ]
    },
    {
     "name": "stderr",
     "output_type": "stream",
     "text": [
      "Epoch 204/512: 100%|██████████████████████████████████████████████████████████████████████| 63/63 [00:03<00:00, 20.77it/s]\n"
     ]
    },
    {
     "name": "stdout",
     "output_type": "stream",
     "text": [
      "Epoch 204/512: \n",
      "Train Loss = 0.41944, Train MSE = 0.68826, Train MAE = 0.62176, Train Acc = 0.80852\n",
      "Val Loss = 0.42221, Val MSE = 0.69413, Val MAE = 0.62513, Val Acc = 0.79283\n"
     ]
    },
    {
     "name": "stderr",
     "output_type": "stream",
     "text": [
      "Epoch 205/512: 100%|██████████████████████████████████████████████████████████████████████| 63/63 [00:02<00:00, 21.20it/s]\n"
     ]
    },
    {
     "name": "stdout",
     "output_type": "stream",
     "text": [
      "Epoch 205/512: \n",
      "Train Loss = 0.43442, Train MSE = 0.71419, Train MAE = 0.63823, Train Acc = 0.79308\n",
      "Val Loss = 0.43008, Val MSE = 0.71769, Val MAE = 0.63092, Val Acc = 0.80478\n"
     ]
    },
    {
     "name": "stderr",
     "output_type": "stream",
     "text": [
      "Epoch 206/512: 100%|██████████████████████████████████████████████████████████████████████| 63/63 [00:02<00:00, 21.43it/s]\n"
     ]
    },
    {
     "name": "stdout",
     "output_type": "stream",
     "text": [
      "Epoch 206/512: \n",
      "Train Loss = 0.41083, Train MSE = 0.66241, Train MAE = 0.61276, Train Acc = 0.81175\n",
      "Val Loss = 0.41176, Val MSE = 0.67101, Val MAE = 0.61244, Val Acc = 0.80876\n"
     ]
    },
    {
     "name": "stderr",
     "output_type": "stream",
     "text": [
      "Epoch 207/512: 100%|██████████████████████████████████████████████████████████████████████| 63/63 [00:03<00:00, 20.68it/s]\n"
     ]
    },
    {
     "name": "stdout",
     "output_type": "stream",
     "text": [
      "Epoch 207/512: \n",
      "Train Loss = 0.40448, Train MSE = 0.66126, Train MAE = 0.60450, Train Acc = 0.81200\n",
      "Val Loss = 0.41906, Val MSE = 0.69362, Val MAE = 0.62166, Val Acc = 0.81474\n"
     ]
    },
    {
     "name": "stderr",
     "output_type": "stream",
     "text": [
      "Epoch 208/512: 100%|██████████████████████████████████████████████████████████████████████| 63/63 [00:02<00:00, 21.23it/s]\n"
     ]
    },
    {
     "name": "stdout",
     "output_type": "stream",
     "text": [
      "Epoch 208/512: \n",
      "Train Loss = 0.40968, Train MSE = 0.67498, Train MAE = 0.60962, Train Acc = 0.81175\n",
      "Val Loss = 0.41906, Val MSE = 0.68473, Val MAE = 0.62115, Val Acc = 0.82470\n"
     ]
    },
    {
     "name": "stderr",
     "output_type": "stream",
     "text": [
      "Epoch 209/512: 100%|██████████████████████████████████████████████████████████████████████| 63/63 [00:02<00:00, 21.18it/s]\n"
     ]
    },
    {
     "name": "stdout",
     "output_type": "stream",
     "text": [
      "Epoch 209/512: \n",
      "Train Loss = 0.40395, Train MSE = 0.66456, Train MAE = 0.60419, Train Acc = 0.81698\n",
      "Val Loss = 0.41498, Val MSE = 0.67922, Val MAE = 0.61781, Val Acc = 0.80677\n"
     ]
    },
    {
     "name": "stderr",
     "output_type": "stream",
     "text": [
      "Epoch 210/512: 100%|██████████████████████████████████████████████████████████████████████| 63/63 [00:02<00:00, 21.02it/s]\n"
     ]
    },
    {
     "name": "stdout",
     "output_type": "stream",
     "text": [
      "Epoch 210/512: \n",
      "Train Loss = 0.40105, Train MSE = 0.65146, Train MAE = 0.60266, Train Acc = 0.81375\n",
      "Val Loss = 0.41437, Val MSE = 0.66919, Val MAE = 0.61717, Val Acc = 0.82072\n"
     ]
    },
    {
     "name": "stderr",
     "output_type": "stream",
     "text": [
      "Epoch 211/512: 100%|██████████████████████████████████████████████████████████████████████| 63/63 [00:02<00:00, 21.02it/s]\n"
     ]
    },
    {
     "name": "stdout",
     "output_type": "stream",
     "text": [
      "Epoch 211/512: \n",
      "Train Loss = 0.40163, Train MSE = 0.65036, Train MAE = 0.60130, Train Acc = 0.81350\n",
      "Val Loss = 0.42443, Val MSE = 0.69473, Val MAE = 0.62571, Val Acc = 0.80478\n"
     ]
    },
    {
     "name": "stderr",
     "output_type": "stream",
     "text": [
      "Epoch 212/512: 100%|██████████████████████████████████████████████████████████████████████| 63/63 [00:03<00:00, 20.84it/s]\n"
     ]
    },
    {
     "name": "stdout",
     "output_type": "stream",
     "text": [
      "Epoch 212/512: \n",
      "Train Loss = 0.39891, Train MSE = 0.64706, Train MAE = 0.59942, Train Acc = 0.81848\n",
      "Val Loss = 0.41407, Val MSE = 0.67428, Val MAE = 0.61406, Val Acc = 0.80876\n"
     ]
    },
    {
     "name": "stderr",
     "output_type": "stream",
     "text": [
      "Epoch 213/512: 100%|██████████████████████████████████████████████████████████████████████| 63/63 [00:02<00:00, 21.41it/s]\n"
     ]
    },
    {
     "name": "stdout",
     "output_type": "stream",
     "text": [
      "Epoch 213/512: \n",
      "Train Loss = 0.40278, Train MSE = 0.65535, Train MAE = 0.60253, Train Acc = 0.81848\n",
      "Val Loss = 0.41270, Val MSE = 0.66248, Val MAE = 0.61203, Val Acc = 0.80478\n"
     ]
    },
    {
     "name": "stderr",
     "output_type": "stream",
     "text": [
      "Epoch 214/512: 100%|██████████████████████████████████████████████████████████████████████| 63/63 [00:02<00:00, 21.10it/s]\n"
     ]
    },
    {
     "name": "stdout",
     "output_type": "stream",
     "text": [
      "Epoch 214/512: \n",
      "Train Loss = 0.39769, Train MSE = 0.64261, Train MAE = 0.59800, Train Acc = 0.81648\n",
      "Val Loss = 0.41429, Val MSE = 0.67463, Val MAE = 0.61469, Val Acc = 0.82470\n"
     ]
    },
    {
     "name": "stderr",
     "output_type": "stream",
     "text": [
      "Epoch 215/512: 100%|██████████████████████████████████████████████████████████████████████| 63/63 [00:03<00:00, 20.88it/s]\n"
     ]
    },
    {
     "name": "stdout",
     "output_type": "stream",
     "text": [
      "Epoch 215/512: \n",
      "Train Loss = 0.39931, Train MSE = 0.64610, Train MAE = 0.59763, Train Acc = 0.81300\n",
      "Val Loss = 0.41470, Val MSE = 0.68007, Val MAE = 0.61983, Val Acc = 0.81873\n"
     ]
    },
    {
     "name": "stderr",
     "output_type": "stream",
     "text": [
      "Epoch 216/512: 100%|██████████████████████████████████████████████████████████████████████| 63/63 [00:02<00:00, 21.36it/s]\n"
     ]
    },
    {
     "name": "stdout",
     "output_type": "stream",
     "text": [
      "Epoch 216/512: \n",
      "Train Loss = 0.40847, Train MSE = 0.66247, Train MAE = 0.60918, Train Acc = 0.81499\n",
      "Val Loss = 0.41608, Val MSE = 0.67566, Val MAE = 0.61900, Val Acc = 0.80080\n"
     ]
    },
    {
     "name": "stderr",
     "output_type": "stream",
     "text": [
      "Epoch 217/512: 100%|██████████████████████████████████████████████████████████████████████| 63/63 [00:02<00:00, 21.39it/s]\n"
     ]
    },
    {
     "name": "stdout",
     "output_type": "stream",
     "text": [
      "Epoch 217/512: \n",
      "Train Loss = 0.39603, Train MSE = 0.63908, Train MAE = 0.59483, Train Acc = 0.82321\n",
      "Val Loss = 0.40274, Val MSE = 0.65212, Val MAE = 0.60223, Val Acc = 0.81873\n"
     ]
    },
    {
     "name": "stderr",
     "output_type": "stream",
     "text": [
      "Epoch 218/512: 100%|██████████████████████████████████████████████████████████████████████| 63/63 [00:03<00:00, 20.96it/s]\n"
     ]
    },
    {
     "name": "stdout",
     "output_type": "stream",
     "text": [
      "Epoch 218/512: \n",
      "Train Loss = 0.39845, Train MSE = 0.64579, Train MAE = 0.59794, Train Acc = 0.81574\n",
      "Val Loss = 0.40825, Val MSE = 0.66311, Val MAE = 0.60943, Val Acc = 0.80876\n"
     ]
    },
    {
     "name": "stderr",
     "output_type": "stream",
     "text": [
      "Epoch 219/512: 100%|██████████████████████████████████████████████████████████████████████| 63/63 [00:03<00:00, 20.82it/s]\n"
     ]
    },
    {
     "name": "stdout",
     "output_type": "stream",
     "text": [
      "Epoch 219/512: \n",
      "Train Loss = 0.40544, Train MSE = 0.65482, Train MAE = 0.60705, Train Acc = 0.81200\n",
      "Val Loss = 0.41861, Val MSE = 0.67817, Val MAE = 0.62042, Val Acc = 0.81076\n"
     ]
    },
    {
     "name": "stderr",
     "output_type": "stream",
     "text": [
      "Epoch 220/512: 100%|██████████████████████████████████████████████████████████████████████| 63/63 [00:02<00:00, 21.15it/s]\n"
     ]
    },
    {
     "name": "stdout",
     "output_type": "stream",
     "text": [
      "Epoch 220/512: \n",
      "Train Loss = 0.40214, Train MSE = 0.65059, Train MAE = 0.60330, Train Acc = 0.81399\n",
      "Val Loss = 0.41240, Val MSE = 0.66274, Val MAE = 0.61469, Val Acc = 0.80876\n"
     ]
    },
    {
     "name": "stderr",
     "output_type": "stream",
     "text": [
      "Epoch 221/512: 100%|██████████████████████████████████████████████████████████████████████| 63/63 [00:02<00:00, 21.12it/s]\n"
     ]
    },
    {
     "name": "stdout",
     "output_type": "stream",
     "text": [
      "Epoch 221/512: \n",
      "Train Loss = 0.40540, Train MSE = 0.65461, Train MAE = 0.60750, Train Acc = 0.81773\n",
      "Val Loss = 0.40957, Val MSE = 0.65596, Val MAE = 0.61143, Val Acc = 0.80677\n"
     ]
    },
    {
     "name": "stderr",
     "output_type": "stream",
     "text": [
      "Epoch 222/512: 100%|██████████████████████████████████████████████████████████████████████| 63/63 [00:03<00:00, 20.61it/s]\n"
     ]
    },
    {
     "name": "stdout",
     "output_type": "stream",
     "text": [
      "Epoch 222/512: \n",
      "Train Loss = 0.39300, Train MSE = 0.62541, Train MAE = 0.59419, Train Acc = 0.82520\n",
      "Val Loss = 0.41410, Val MSE = 0.67129, Val MAE = 0.61403, Val Acc = 0.81076\n"
     ]
    },
    {
     "name": "stderr",
     "output_type": "stream",
     "text": [
      "Epoch 223/512: 100%|██████████████████████████████████████████████████████████████████████| 63/63 [00:02<00:00, 21.02it/s]\n"
     ]
    },
    {
     "name": "stdout",
     "output_type": "stream",
     "text": [
      "Epoch 223/512: \n",
      "Train Loss = 0.40007, Train MSE = 0.63893, Train MAE = 0.60217, Train Acc = 0.82047\n",
      "Val Loss = 0.42113, Val MSE = 0.69207, Val MAE = 0.62356, Val Acc = 0.80876\n"
     ]
    },
    {
     "name": "stderr",
     "output_type": "stream",
     "text": [
      "Epoch 224/512: 100%|██████████████████████████████████████████████████████████████████████| 63/63 [00:03<00:00, 21.00it/s]\n"
     ]
    },
    {
     "name": "stdout",
     "output_type": "stream",
     "text": [
      "Epoch 224/512: \n",
      "Train Loss = 0.39748, Train MSE = 0.64712, Train MAE = 0.59565, Train Acc = 0.81599\n",
      "Val Loss = 0.40990, Val MSE = 0.66593, Val MAE = 0.61036, Val Acc = 0.81076\n"
     ]
    },
    {
     "name": "stderr",
     "output_type": "stream",
     "text": [
      "Epoch 225/512: 100%|██████████████████████████████████████████████████████████████████████| 63/63 [00:03<00:00, 20.77it/s]\n"
     ]
    },
    {
     "name": "stdout",
     "output_type": "stream",
     "text": [
      "Epoch 225/512: \n",
      "Train Loss = 0.39640, Train MSE = 0.64989, Train MAE = 0.59541, Train Acc = 0.81574\n",
      "Val Loss = 0.41339, Val MSE = 0.67143, Val MAE = 0.62002, Val Acc = 0.81275\n"
     ]
    },
    {
     "name": "stderr",
     "output_type": "stream",
     "text": [
      "Epoch 226/512: 100%|██████████████████████████████████████████████████████████████████████| 63/63 [00:03<00:00, 20.73it/s]\n"
     ]
    },
    {
     "name": "stdout",
     "output_type": "stream",
     "text": [
      "Epoch 226/512: \n",
      "Train Loss = 0.40104, Train MSE = 0.65235, Train MAE = 0.60059, Train Acc = 0.81748\n",
      "Val Loss = 0.41366, Val MSE = 0.67821, Val MAE = 0.61456, Val Acc = 0.81873\n"
     ]
    },
    {
     "name": "stderr",
     "output_type": "stream",
     "text": [
      "Epoch 227/512: 100%|██████████████████████████████████████████████████████████████████████| 63/63 [00:02<00:00, 21.07it/s]\n"
     ]
    },
    {
     "name": "stdout",
     "output_type": "stream",
     "text": [
      "Epoch 227/512: \n",
      "Train Loss = 0.39900, Train MSE = 0.65219, Train MAE = 0.59858, Train Acc = 0.82047\n",
      "Val Loss = 0.41154, Val MSE = 0.66865, Val MAE = 0.61055, Val Acc = 0.82072\n"
     ]
    },
    {
     "name": "stderr",
     "output_type": "stream",
     "text": [
      "Epoch 228/512: 100%|██████████████████████████████████████████████████████████████████████| 63/63 [00:03<00:00, 20.61it/s]\n"
     ]
    },
    {
     "name": "stdout",
     "output_type": "stream",
     "text": [
      "Epoch 228/512: \n",
      "Train Loss = 0.39536, Train MSE = 0.63735, Train MAE = 0.59525, Train Acc = 0.82122\n",
      "Val Loss = 0.40564, Val MSE = 0.65210, Val MAE = 0.60712, Val Acc = 0.81873\n"
     ]
    },
    {
     "name": "stderr",
     "output_type": "stream",
     "text": [
      "Epoch 229/512: 100%|██████████████████████████████████████████████████████████████████████| 63/63 [00:02<00:00, 21.43it/s]\n"
     ]
    },
    {
     "name": "stdout",
     "output_type": "stream",
     "text": [
      "Epoch 229/512: \n",
      "Train Loss = 0.39986, Train MSE = 0.65787, Train MAE = 0.60016, Train Acc = 0.81922\n",
      "Val Loss = 0.40504, Val MSE = 0.65344, Val MAE = 0.60655, Val Acc = 0.81076\n"
     ]
    },
    {
     "name": "stderr",
     "output_type": "stream",
     "text": [
      "Epoch 230/512: 100%|██████████████████████████████████████████████████████████████████████| 63/63 [00:02<00:00, 21.17it/s]\n"
     ]
    },
    {
     "name": "stdout",
     "output_type": "stream",
     "text": [
      "Epoch 230/512: \n",
      "Train Loss = 0.38989, Train MSE = 0.62490, Train MAE = 0.59053, Train Acc = 0.82221\n",
      "Val Loss = 0.41897, Val MSE = 0.67717, Val MAE = 0.62068, Val Acc = 0.80876\n"
     ]
    },
    {
     "name": "stderr",
     "output_type": "stream",
     "text": [
      "Epoch 231/512: 100%|██████████████████████████████████████████████████████████████████████| 63/63 [00:03<00:00, 20.98it/s]\n"
     ]
    },
    {
     "name": "stdout",
     "output_type": "stream",
     "text": [
      "Epoch 231/512: \n",
      "Train Loss = 0.39061, Train MSE = 0.62276, Train MAE = 0.59049, Train Acc = 0.82445\n",
      "Val Loss = 0.41550, Val MSE = 0.67508, Val MAE = 0.61820, Val Acc = 0.81275\n"
     ]
    },
    {
     "name": "stderr",
     "output_type": "stream",
     "text": [
      "Epoch 232/512: 100%|██████████████████████████████████████████████████████████████████████| 63/63 [00:02<00:00, 21.18it/s]\n"
     ]
    },
    {
     "name": "stdout",
     "output_type": "stream",
     "text": [
      "Epoch 232/512: \n",
      "Train Loss = 0.39788, Train MSE = 0.64770, Train MAE = 0.59705, Train Acc = 0.81773\n",
      "Val Loss = 0.40413, Val MSE = 0.66122, Val MAE = 0.60444, Val Acc = 0.81474\n"
     ]
    },
    {
     "name": "stderr",
     "output_type": "stream",
     "text": [
      "Epoch 233/512: 100%|██████████████████████████████████████████████████████████████████████| 63/63 [00:03<00:00, 20.86it/s]\n"
     ]
    },
    {
     "name": "stdout",
     "output_type": "stream",
     "text": [
      "Epoch 233/512: \n",
      "Train Loss = 0.40224, Train MSE = 0.65591, Train MAE = 0.60192, Train Acc = 0.81723\n",
      "Val Loss = 0.40866, Val MSE = 0.66146, Val MAE = 0.60635, Val Acc = 0.81673\n"
     ]
    },
    {
     "name": "stderr",
     "output_type": "stream",
     "text": [
      "Epoch 234/512: 100%|██████████████████████████████████████████████████████████████████████| 63/63 [00:03<00:00, 20.96it/s]\n"
     ]
    },
    {
     "name": "stdout",
     "output_type": "stream",
     "text": [
      "Epoch 234/512: \n",
      "Train Loss = 0.39348, Train MSE = 0.63201, Train MAE = 0.59301, Train Acc = 0.81823\n",
      "Val Loss = 0.41235, Val MSE = 0.66699, Val MAE = 0.61044, Val Acc = 0.80080\n"
     ]
    },
    {
     "name": "stderr",
     "output_type": "stream",
     "text": [
      "Epoch 235/512: 100%|██████████████████████████████████████████████████████████████████████| 63/63 [00:02<00:00, 21.29it/s]\n"
     ]
    },
    {
     "name": "stdout",
     "output_type": "stream",
     "text": [
      "Epoch 235/512: \n",
      "Train Loss = 0.40075, Train MSE = 0.65036, Train MAE = 0.60058, Train Acc = 0.81325\n",
      "Val Loss = 0.40953, Val MSE = 0.66966, Val MAE = 0.60710, Val Acc = 0.81076\n"
     ]
    },
    {
     "name": "stderr",
     "output_type": "stream",
     "text": [
      "Epoch 236/512: 100%|██████████████████████████████████████████████████████████████████████| 63/63 [00:02<00:00, 21.25it/s]\n"
     ]
    },
    {
     "name": "stdout",
     "output_type": "stream",
     "text": [
      "Epoch 236/512: \n",
      "Train Loss = 0.40244, Train MSE = 0.65716, Train MAE = 0.60330, Train Acc = 0.81375\n",
      "Val Loss = 0.41857, Val MSE = 0.69235, Val MAE = 0.62012, Val Acc = 0.79681\n"
     ]
    },
    {
     "name": "stderr",
     "output_type": "stream",
     "text": [
      "Epoch 237/512: 100%|██████████████████████████████████████████████████████████████████████| 63/63 [00:02<00:00, 21.04it/s]\n"
     ]
    },
    {
     "name": "stdout",
     "output_type": "stream",
     "text": [
      "Epoch 237/512: \n",
      "Train Loss = 0.39682, Train MSE = 0.63691, Train MAE = 0.59744, Train Acc = 0.82146\n",
      "Val Loss = 0.40884, Val MSE = 0.66429, Val MAE = 0.61188, Val Acc = 0.79681\n"
     ]
    },
    {
     "name": "stderr",
     "output_type": "stream",
     "text": [
      "Epoch 238/512: 100%|██████████████████████████████████████████████████████████████████████| 63/63 [00:02<00:00, 21.02it/s]\n"
     ]
    },
    {
     "name": "stdout",
     "output_type": "stream",
     "text": [
      "Epoch 238/512: \n",
      "Train Loss = 0.39288, Train MSE = 0.62990, Train MAE = 0.59276, Train Acc = 0.82445\n",
      "Val Loss = 0.41704, Val MSE = 0.68185, Val MAE = 0.61786, Val Acc = 0.79482\n"
     ]
    },
    {
     "name": "stderr",
     "output_type": "stream",
     "text": [
      "Epoch 239/512: 100%|██████████████████████████████████████████████████████████████████████| 63/63 [00:02<00:00, 21.37it/s]\n"
     ]
    },
    {
     "name": "stdout",
     "output_type": "stream",
     "text": [
      "Epoch 239/512: \n",
      "Train Loss = 0.39970, Train MSE = 0.64838, Train MAE = 0.60061, Train Acc = 0.81823\n",
      "Val Loss = 0.40792, Val MSE = 0.65779, Val MAE = 0.60966, Val Acc = 0.81474\n"
     ]
    },
    {
     "name": "stderr",
     "output_type": "stream",
     "text": [
      "Epoch 240/512: 100%|██████████████████████████████████████████████████████████████████████| 63/63 [00:02<00:00, 21.07it/s]\n"
     ]
    },
    {
     "name": "stdout",
     "output_type": "stream",
     "text": [
      "Epoch 240/512: \n",
      "Train Loss = 0.39010, Train MSE = 0.62555, Train MAE = 0.58929, Train Acc = 0.82346\n",
      "Val Loss = 0.40918, Val MSE = 0.65374, Val MAE = 0.61041, Val Acc = 0.81873\n"
     ]
    },
    {
     "name": "stderr",
     "output_type": "stream",
     "text": [
      "Epoch 241/512: 100%|██████████████████████████████████████████████████████████████████████| 63/63 [00:02<00:00, 21.13it/s]\n"
     ]
    },
    {
     "name": "stdout",
     "output_type": "stream",
     "text": [
      "Epoch 241/512: \n",
      "Train Loss = 0.39407, Train MSE = 0.63415, Train MAE = 0.59326, Train Acc = 0.82271\n",
      "Val Loss = 0.41808, Val MSE = 0.68894, Val MAE = 0.61937, Val Acc = 0.80478\n"
     ]
    },
    {
     "name": "stderr",
     "output_type": "stream",
     "text": [
      "Epoch 242/512: 100%|██████████████████████████████████████████████████████████████████████| 63/63 [00:02<00:00, 21.35it/s]\n"
     ]
    },
    {
     "name": "stdout",
     "output_type": "stream",
     "text": [
      "Epoch 242/512: \n",
      "Train Loss = 0.38969, Train MSE = 0.63505, Train MAE = 0.58824, Train Acc = 0.82819\n",
      "Val Loss = 0.40573, Val MSE = 0.65695, Val MAE = 0.60542, Val Acc = 0.81076\n"
     ]
    },
    {
     "name": "stderr",
     "output_type": "stream",
     "text": [
      "Epoch 243/512: 100%|██████████████████████████████████████████████████████████████████████| 63/63 [00:03<00:00, 20.88it/s]\n"
     ]
    },
    {
     "name": "stdout",
     "output_type": "stream",
     "text": [
      "Epoch 243/512: \n",
      "Train Loss = 0.38377, Train MSE = 0.61246, Train MAE = 0.58142, Train Acc = 0.82744\n",
      "Val Loss = 0.40960, Val MSE = 0.66252, Val MAE = 0.61085, Val Acc = 0.81275\n"
     ]
    },
    {
     "name": "stderr",
     "output_type": "stream",
     "text": [
      "Epoch 244/512: 100%|██████████████████████████████████████████████████████████████████████| 63/63 [00:03<00:00, 20.64it/s]\n"
     ]
    },
    {
     "name": "stdout",
     "output_type": "stream",
     "text": [
      "Epoch 244/512: \n",
      "Train Loss = 0.38922, Train MSE = 0.63954, Train MAE = 0.58471, Train Acc = 0.82893\n",
      "Val Loss = 0.40658, Val MSE = 0.65941, Val MAE = 0.60540, Val Acc = 0.81076\n"
     ]
    },
    {
     "name": "stderr",
     "output_type": "stream",
     "text": [
      "Epoch 245/512: 100%|██████████████████████████████████████████████████████████████████████| 63/63 [00:02<00:00, 21.23it/s]\n"
     ]
    },
    {
     "name": "stdout",
     "output_type": "stream",
     "text": [
      "Epoch 245/512: \n",
      "Train Loss = 0.38320, Train MSE = 0.61495, Train MAE = 0.58173, Train Acc = 0.83043\n",
      "Val Loss = 0.40914, Val MSE = 0.67153, Val MAE = 0.60852, Val Acc = 0.80677\n"
     ]
    },
    {
     "name": "stderr",
     "output_type": "stream",
     "text": [
      "Epoch 246/512: 100%|██████████████████████████████████████████████████████████████████████| 63/63 [00:02<00:00, 21.21it/s]\n"
     ]
    },
    {
     "name": "stdout",
     "output_type": "stream",
     "text": [
      "Epoch 246/512: \n",
      "Train Loss = 0.38844, Train MSE = 0.62971, Train MAE = 0.58701, Train Acc = 0.82644\n",
      "Val Loss = 0.40590, Val MSE = 0.66211, Val MAE = 0.60444, Val Acc = 0.81076\n"
     ]
    },
    {
     "name": "stderr",
     "output_type": "stream",
     "text": [
      "Epoch 247/512: 100%|██████████████████████████████████████████████████████████████████████| 63/63 [00:03<00:00, 20.91it/s]\n"
     ]
    },
    {
     "name": "stdout",
     "output_type": "stream",
     "text": [
      "Epoch 247/512: \n",
      "Train Loss = 0.37565, Train MSE = 0.59944, Train MAE = 0.57405, Train Acc = 0.83665\n",
      "Val Loss = 0.41037, Val MSE = 0.66993, Val MAE = 0.60984, Val Acc = 0.80876\n"
     ]
    },
    {
     "name": "stderr",
     "output_type": "stream",
     "text": [
      "Epoch 248/512: 100%|██████████████████████████████████████████████████████████████████████| 63/63 [00:02<00:00, 21.25it/s]\n"
     ]
    },
    {
     "name": "stdout",
     "output_type": "stream",
     "text": [
      "Epoch 248/512: \n",
      "Train Loss = 0.38763, Train MSE = 0.62488, Train MAE = 0.58610, Train Acc = 0.82844\n",
      "Val Loss = 0.40515, Val MSE = 0.65395, Val MAE = 0.60542, Val Acc = 0.81673\n"
     ]
    },
    {
     "name": "stderr",
     "output_type": "stream",
     "text": [
      "Epoch 249/512: 100%|██████████████████████████████████████████████████████████████████████| 63/63 [00:02<00:00, 21.26it/s]\n"
     ]
    },
    {
     "name": "stdout",
     "output_type": "stream",
     "text": [
      "Epoch 249/512: \n",
      "Train Loss = 0.38131, Train MSE = 0.61214, Train MAE = 0.57856, Train Acc = 0.82595\n",
      "Val Loss = 0.40444, Val MSE = 0.65379, Val MAE = 0.60356, Val Acc = 0.80677\n"
     ]
    },
    {
     "name": "stderr",
     "output_type": "stream",
     "text": [
      "Epoch 250/512: 100%|██████████████████████████████████████████████████████████████████████| 63/63 [00:02<00:00, 21.31it/s]\n"
     ]
    },
    {
     "name": "stdout",
     "output_type": "stream",
     "text": [
      "Epoch 250/512: \n",
      "Train Loss = 0.38213, Train MSE = 0.61091, Train MAE = 0.58058, Train Acc = 0.83093\n",
      "Val Loss = 0.40587, Val MSE = 0.66515, Val MAE = 0.60442, Val Acc = 0.80478\n"
     ]
    },
    {
     "name": "stderr",
     "output_type": "stream",
     "text": [
      "Epoch 251/512: 100%|██████████████████████████████████████████████████████████████████████| 63/63 [00:02<00:00, 21.25it/s]\n"
     ]
    },
    {
     "name": "stdout",
     "output_type": "stream",
     "text": [
      "Epoch 251/512: \n",
      "Train Loss = 0.38572, Train MSE = 0.62607, Train MAE = 0.58218, Train Acc = 0.82346\n",
      "Val Loss = 0.40364, Val MSE = 0.65684, Val MAE = 0.60395, Val Acc = 0.81474\n"
     ]
    },
    {
     "name": "stderr",
     "output_type": "stream",
     "text": [
      "Epoch 252/512: 100%|██████████████████████████████████████████████████████████████████████| 63/63 [00:02<00:00, 21.12it/s]\n"
     ]
    },
    {
     "name": "stdout",
     "output_type": "stream",
     "text": [
      "Epoch 252/512: \n",
      "Train Loss = 0.37997, Train MSE = 0.61118, Train MAE = 0.57780, Train Acc = 0.83142\n",
      "Val Loss = 0.40304, Val MSE = 0.64948, Val MAE = 0.60209, Val Acc = 0.81275\n"
     ]
    },
    {
     "name": "stderr",
     "output_type": "stream",
     "text": [
      "Epoch 253/512: 100%|██████████████████████████████████████████████████████████████████████| 63/63 [00:02<00:00, 21.12it/s]\n"
     ]
    },
    {
     "name": "stdout",
     "output_type": "stream",
     "text": [
      "Epoch 253/512: \n",
      "Train Loss = 0.38189, Train MSE = 0.61593, Train MAE = 0.57947, Train Acc = 0.82819\n",
      "Val Loss = 0.40740, Val MSE = 0.65774, Val MAE = 0.60739, Val Acc = 0.81673\n"
     ]
    },
    {
     "name": "stderr",
     "output_type": "stream",
     "text": [
      "Epoch 254/512: 100%|██████████████████████████████████████████████████████████████████████| 63/63 [00:02<00:00, 21.21it/s]\n"
     ]
    },
    {
     "name": "stdout",
     "output_type": "stream",
     "text": [
      "Epoch 254/512: \n",
      "Train Loss = 0.39205, Train MSE = 0.63761, Train MAE = 0.59068, Train Acc = 0.82221\n",
      "Val Loss = 0.40813, Val MSE = 0.66586, Val MAE = 0.60828, Val Acc = 0.81275\n"
     ]
    },
    {
     "name": "stderr",
     "output_type": "stream",
     "text": [
      "Epoch 255/512: 100%|██████████████████████████████████████████████████████████████████████| 63/63 [00:02<00:00, 21.13it/s]\n"
     ]
    },
    {
     "name": "stdout",
     "output_type": "stream",
     "text": [
      "Epoch 255/512: \n",
      "Train Loss = 0.38031, Train MSE = 0.62031, Train MAE = 0.57753, Train Acc = 0.83043\n",
      "Val Loss = 0.40390, Val MSE = 0.65431, Val MAE = 0.60091, Val Acc = 0.81275\n"
     ]
    },
    {
     "name": "stderr",
     "output_type": "stream",
     "text": [
      "Epoch 256/512: 100%|██████████████████████████████████████████████████████████████████████| 63/63 [00:02<00:00, 21.36it/s]\n"
     ]
    },
    {
     "name": "stdout",
     "output_type": "stream",
     "text": [
      "Epoch 256/512: \n",
      "Train Loss = 0.37799, Train MSE = 0.61171, Train MAE = 0.57460, Train Acc = 0.83192\n",
      "Val Loss = 0.40549, Val MSE = 0.65701, Val MAE = 0.60542, Val Acc = 0.81873\n"
     ]
    },
    {
     "name": "stderr",
     "output_type": "stream",
     "text": [
      "Epoch 257/512: 100%|██████████████████████████████████████████████████████████████████████| 63/63 [00:02<00:00, 21.30it/s]\n"
     ]
    },
    {
     "name": "stdout",
     "output_type": "stream",
     "text": [
      "Epoch 257/512: \n",
      "Train Loss = 0.37768, Train MSE = 0.60773, Train MAE = 0.57410, Train Acc = 0.83391\n",
      "Val Loss = 0.40878, Val MSE = 0.66885, Val MAE = 0.60865, Val Acc = 0.80478\n"
     ]
    },
    {
     "name": "stderr",
     "output_type": "stream",
     "text": [
      "Epoch 258/512: 100%|██████████████████████████████████████████████████████████████████████| 63/63 [00:02<00:00, 21.23it/s]\n"
     ]
    },
    {
     "name": "stdout",
     "output_type": "stream",
     "text": [
      "Epoch 258/512: \n",
      "Train Loss = 0.39235, Train MSE = 0.63415, Train MAE = 0.59144, Train Acc = 0.82395\n",
      "Val Loss = 0.40239, Val MSE = 0.65134, Val MAE = 0.60152, Val Acc = 0.80279\n"
     ]
    },
    {
     "name": "stderr",
     "output_type": "stream",
     "text": [
      "Epoch 259/512: 100%|██████████████████████████████████████████████████████████████████████| 63/63 [00:03<00:00, 20.67it/s]\n"
     ]
    },
    {
     "name": "stdout",
     "output_type": "stream",
     "text": [
      "Epoch 259/512: \n",
      "Train Loss = 0.38591, Train MSE = 0.62706, Train MAE = 0.58362, Train Acc = 0.83192\n",
      "Val Loss = 0.40418, Val MSE = 0.65688, Val MAE = 0.60466, Val Acc = 0.80876\n"
     ]
    },
    {
     "name": "stderr",
     "output_type": "stream",
     "text": [
      "Epoch 260/512: 100%|██████████████████████████████████████████████████████████████████████| 63/63 [00:02<00:00, 21.13it/s]\n"
     ]
    },
    {
     "name": "stdout",
     "output_type": "stream",
     "text": [
      "Epoch 260/512: \n",
      "Train Loss = 0.37323, Train MSE = 0.59740, Train MAE = 0.56974, Train Acc = 0.83865\n",
      "Val Loss = 0.39952, Val MSE = 0.64247, Val MAE = 0.59821, Val Acc = 0.80876\n"
     ]
    },
    {
     "name": "stderr",
     "output_type": "stream",
     "text": [
      "Epoch 261/512: 100%|██████████████████████████████████████████████████████████████████████| 63/63 [00:02<00:00, 21.15it/s]\n"
     ]
    },
    {
     "name": "stdout",
     "output_type": "stream",
     "text": [
      "Epoch 261/512: \n",
      "Train Loss = 0.37903, Train MSE = 0.60945, Train MAE = 0.57539, Train Acc = 0.83093\n",
      "Val Loss = 0.40287, Val MSE = 0.65381, Val MAE = 0.60334, Val Acc = 0.81076\n"
     ]
    },
    {
     "name": "stderr",
     "output_type": "stream",
     "text": [
      "Epoch 262/512: 100%|██████████████████████████████████████████████████████████████████████| 63/63 [00:02<00:00, 21.41it/s]\n"
     ]
    },
    {
     "name": "stdout",
     "output_type": "stream",
     "text": [
      "Epoch 262/512: \n",
      "Train Loss = 0.38406, Train MSE = 0.62642, Train MAE = 0.58146, Train Acc = 0.82719\n",
      "Val Loss = 0.39917, Val MSE = 0.64786, Val MAE = 0.59878, Val Acc = 0.81673\n"
     ]
    },
    {
     "name": "stderr",
     "output_type": "stream",
     "text": [
      "Epoch 263/512: 100%|██████████████████████████████████████████████████████████████████████| 63/63 [00:02<00:00, 21.33it/s]\n"
     ]
    },
    {
     "name": "stdout",
     "output_type": "stream",
     "text": [
      "Epoch 263/512: \n",
      "Train Loss = 0.38225, Train MSE = 0.61554, Train MAE = 0.57931, Train Acc = 0.82819\n",
      "Val Loss = 0.40506, Val MSE = 0.65858, Val MAE = 0.60581, Val Acc = 0.80279\n"
     ]
    },
    {
     "name": "stderr",
     "output_type": "stream",
     "text": [
      "Epoch 264/512: 100%|██████████████████████████████████████████████████████████████████████| 63/63 [00:03<00:00, 20.96it/s]\n"
     ]
    },
    {
     "name": "stdout",
     "output_type": "stream",
     "text": [
      "Epoch 264/512: \n",
      "Train Loss = 0.36805, Train MSE = 0.59082, Train MAE = 0.56362, Train Acc = 0.83541\n",
      "Val Loss = 0.40130, Val MSE = 0.65222, Val MAE = 0.60082, Val Acc = 0.80876\n"
     ]
    },
    {
     "name": "stderr",
     "output_type": "stream",
     "text": [
      "Epoch 265/512: 100%|██████████████████████████████████████████████████████████████████████| 63/63 [00:02<00:00, 21.34it/s]\n"
     ]
    },
    {
     "name": "stdout",
     "output_type": "stream",
     "text": [
      "Epoch 265/512: \n",
      "Train Loss = 0.37826, Train MSE = 0.60963, Train MAE = 0.57472, Train Acc = 0.82918\n",
      "Val Loss = 0.39944, Val MSE = 0.64223, Val MAE = 0.59903, Val Acc = 0.80677\n"
     ]
    },
    {
     "name": "stderr",
     "output_type": "stream",
     "text": [
      "Epoch 266/512: 100%|██████████████████████████████████████████████████████████████████████| 63/63 [00:02<00:00, 21.45it/s]\n"
     ]
    },
    {
     "name": "stdout",
     "output_type": "stream",
     "text": [
      "Epoch 266/512: \n",
      "Train Loss = 0.38014, Train MSE = 0.61412, Train MAE = 0.57769, Train Acc = 0.83068\n",
      "Val Loss = 0.40297, Val MSE = 0.65456, Val MAE = 0.60260, Val Acc = 0.80478\n"
     ]
    },
    {
     "name": "stderr",
     "output_type": "stream",
     "text": [
      "Epoch 267/512: 100%|██████████████████████████████████████████████████████████████████████| 63/63 [00:02<00:00, 21.26it/s]\n"
     ]
    },
    {
     "name": "stdout",
     "output_type": "stream",
     "text": [
      "Epoch 267/512: \n",
      "Train Loss = 0.37663, Train MSE = 0.60052, Train MAE = 0.57273, Train Acc = 0.83317\n",
      "Val Loss = 0.40194, Val MSE = 0.65406, Val MAE = 0.60123, Val Acc = 0.80876\n"
     ]
    },
    {
     "name": "stderr",
     "output_type": "stream",
     "text": [
      "Epoch 268/512: 100%|██████████████████████████████████████████████████████████████████████| 63/63 [00:02<00:00, 21.40it/s]\n"
     ]
    },
    {
     "name": "stdout",
     "output_type": "stream",
     "text": [
      "Epoch 268/512: \n",
      "Train Loss = 0.38097, Train MSE = 0.61206, Train MAE = 0.57943, Train Acc = 0.83118\n",
      "Val Loss = 0.40058, Val MSE = 0.65087, Val MAE = 0.60043, Val Acc = 0.81076\n"
     ]
    },
    {
     "name": "stderr",
     "output_type": "stream",
     "text": [
      "Epoch 269/512: 100%|██████████████████████████████████████████████████████████████████████| 63/63 [00:02<00:00, 21.13it/s]\n"
     ]
    },
    {
     "name": "stdout",
     "output_type": "stream",
     "text": [
      "Epoch 269/512: \n",
      "Train Loss = 0.38722, Train MSE = 0.63009, Train MAE = 0.58472, Train Acc = 0.82321\n",
      "Val Loss = 0.39860, Val MSE = 0.64331, Val MAE = 0.59927, Val Acc = 0.81275\n"
     ]
    },
    {
     "name": "stderr",
     "output_type": "stream",
     "text": [
      "Epoch 270/512: 100%|██████████████████████████████████████████████████████████████████████| 63/63 [00:02<00:00, 21.30it/s]\n"
     ]
    },
    {
     "name": "stdout",
     "output_type": "stream",
     "text": [
      "Epoch 270/512: \n",
      "Train Loss = 0.37762, Train MSE = 0.60807, Train MAE = 0.57446, Train Acc = 0.83317\n",
      "Val Loss = 0.40039, Val MSE = 0.64495, Val MAE = 0.60149, Val Acc = 0.81076\n"
     ]
    },
    {
     "name": "stderr",
     "output_type": "stream",
     "text": [
      "Epoch 271/512: 100%|██████████████████████████████████████████████████████████████████████| 63/63 [00:03<00:00, 20.91it/s]\n"
     ]
    },
    {
     "name": "stdout",
     "output_type": "stream",
     "text": [
      "Epoch 271/512: \n",
      "Train Loss = 0.36909, Train MSE = 0.58159, Train MAE = 0.56566, Train Acc = 0.83466\n",
      "Val Loss = 0.40142, Val MSE = 0.64801, Val MAE = 0.60108, Val Acc = 0.80677\n"
     ]
    },
    {
     "name": "stderr",
     "output_type": "stream",
     "text": [
      "Epoch 272/512: 100%|██████████████████████████████████████████████████████████████████████| 63/63 [00:02<00:00, 21.30it/s]\n"
     ]
    },
    {
     "name": "stdout",
     "output_type": "stream",
     "text": [
      "Epoch 272/512: \n",
      "Train Loss = 0.37408, Train MSE = 0.60051, Train MAE = 0.57009, Train Acc = 0.83242\n",
      "Val Loss = 0.40293, Val MSE = 0.65016, Val MAE = 0.60263, Val Acc = 0.80677\n"
     ]
    },
    {
     "name": "stderr",
     "output_type": "stream",
     "text": [
      "Epoch 273/512: 100%|██████████████████████████████████████████████████████████████████████| 63/63 [00:02<00:00, 21.52it/s]\n"
     ]
    },
    {
     "name": "stdout",
     "output_type": "stream",
     "text": [
      "Epoch 273/512: \n",
      "Train Loss = 0.38598, Train MSE = 0.62360, Train MAE = 0.58348, Train Acc = 0.82918\n",
      "Val Loss = 0.40103, Val MSE = 0.64358, Val MAE = 0.60144, Val Acc = 0.81474\n"
     ]
    },
    {
     "name": "stderr",
     "output_type": "stream",
     "text": [
      "Epoch 274/512: 100%|██████████████████████████████████████████████████████████████████████| 63/63 [00:02<00:00, 21.03it/s]\n"
     ]
    },
    {
     "name": "stdout",
     "output_type": "stream",
     "text": [
      "Epoch 274/512: \n",
      "Train Loss = 0.38592, Train MSE = 0.62183, Train MAE = 0.58500, Train Acc = 0.82595\n",
      "Val Loss = 0.40358, Val MSE = 0.65364, Val MAE = 0.60243, Val Acc = 0.80876\n"
     ]
    },
    {
     "name": "stderr",
     "output_type": "stream",
     "text": [
      "Epoch 275/512: 100%|██████████████████████████████████████████████████████████████████████| 63/63 [00:02<00:00, 21.21it/s]\n"
     ]
    },
    {
     "name": "stdout",
     "output_type": "stream",
     "text": [
      "Epoch 275/512: \n",
      "Train Loss = 0.38010, Train MSE = 0.61638, Train MAE = 0.57820, Train Acc = 0.83242\n",
      "Val Loss = 0.40504, Val MSE = 0.66010, Val MAE = 0.60493, Val Acc = 0.80876\n"
     ]
    },
    {
     "name": "stderr",
     "output_type": "stream",
     "text": [
      "Epoch 276/512: 100%|██████████████████████████████████████████████████████████████████████| 63/63 [00:02<00:00, 21.31it/s]\n"
     ]
    },
    {
     "name": "stdout",
     "output_type": "stream",
     "text": [
      "Epoch 276/512: \n",
      "Train Loss = 0.37412, Train MSE = 0.60112, Train MAE = 0.57129, Train Acc = 0.83765\n",
      "Val Loss = 0.39958, Val MSE = 0.64426, Val MAE = 0.60016, Val Acc = 0.82072\n"
     ]
    },
    {
     "name": "stderr",
     "output_type": "stream",
     "text": [
      "Epoch 277/512: 100%|██████████████████████████████████████████████████████████████████████| 63/63 [00:02<00:00, 21.33it/s]\n"
     ]
    },
    {
     "name": "stdout",
     "output_type": "stream",
     "text": [
      "Epoch 277/512: \n",
      "Train Loss = 0.36204, Train MSE = 0.57141, Train MAE = 0.55904, Train Acc = 0.83989\n",
      "Val Loss = 0.40121, Val MSE = 0.64846, Val MAE = 0.60139, Val Acc = 0.80677\n"
     ]
    },
    {
     "name": "stderr",
     "output_type": "stream",
     "text": [
      "Epoch 278/512: 100%|██████████████████████████████████████████████████████████████████████| 63/63 [00:02<00:00, 21.39it/s]\n"
     ]
    },
    {
     "name": "stdout",
     "output_type": "stream",
     "text": [
      "Epoch 278/512: \n",
      "Train Loss = 0.37518, Train MSE = 0.60238, Train MAE = 0.57180, Train Acc = 0.83541\n",
      "Val Loss = 0.40228, Val MSE = 0.64996, Val MAE = 0.60224, Val Acc = 0.81076\n"
     ]
    },
    {
     "name": "stderr",
     "output_type": "stream",
     "text": [
      "Epoch 279/512: 100%|██████████████████████████████████████████████████████████████████████| 63/63 [00:02<00:00, 21.35it/s]\n"
     ]
    },
    {
     "name": "stdout",
     "output_type": "stream",
     "text": [
      "Epoch 279/512: \n",
      "Train Loss = 0.37550, Train MSE = 0.59258, Train MAE = 0.57449, Train Acc = 0.83267\n",
      "Val Loss = 0.39931, Val MSE = 0.64330, Val MAE = 0.59980, Val Acc = 0.80677\n"
     ]
    },
    {
     "name": "stderr",
     "output_type": "stream",
     "text": [
      "Epoch 280/512: 100%|██████████████████████████████████████████████████████████████████████| 63/63 [00:02<00:00, 21.22it/s]\n"
     ]
    },
    {
     "name": "stdout",
     "output_type": "stream",
     "text": [
      "Epoch 280/512: \n",
      "Train Loss = 0.37116, Train MSE = 0.59417, Train MAE = 0.56840, Train Acc = 0.83466\n",
      "Val Loss = 0.40125, Val MSE = 0.64938, Val MAE = 0.60043, Val Acc = 0.80876\n"
     ]
    },
    {
     "name": "stderr",
     "output_type": "stream",
     "text": [
      "Epoch 281/512: 100%|██████████████████████████████████████████████████████████████████████| 63/63 [00:02<00:00, 21.28it/s]\n"
     ]
    },
    {
     "name": "stdout",
     "output_type": "stream",
     "text": [
      "Epoch 281/512: \n",
      "Train Loss = 0.36768, Train MSE = 0.58782, Train MAE = 0.56280, Train Acc = 0.83889\n",
      "Val Loss = 0.40166, Val MSE = 0.65102, Val MAE = 0.60160, Val Acc = 0.80876\n"
     ]
    },
    {
     "name": "stderr",
     "output_type": "stream",
     "text": [
      "Epoch 282/512: 100%|██████████████████████████████████████████████████████████████████████| 63/63 [00:02<00:00, 21.33it/s]\n"
     ]
    },
    {
     "name": "stdout",
     "output_type": "stream",
     "text": [
      "Epoch 282/512: \n",
      "Train Loss = 0.37546, Train MSE = 0.60474, Train MAE = 0.57255, Train Acc = 0.83840\n",
      "Val Loss = 0.40204, Val MSE = 0.65053, Val MAE = 0.60238, Val Acc = 0.80677\n"
     ]
    },
    {
     "name": "stderr",
     "output_type": "stream",
     "text": [
      "Epoch 283/512: 100%|██████████████████████████████████████████████████████████████████████| 63/63 [00:02<00:00, 21.07it/s]\n"
     ]
    },
    {
     "name": "stdout",
     "output_type": "stream",
     "text": [
      "Epoch 283/512: \n",
      "Train Loss = 0.37723, Train MSE = 0.60212, Train MAE = 0.57615, Train Acc = 0.83740\n",
      "Val Loss = 0.40088, Val MSE = 0.64781, Val MAE = 0.59984, Val Acc = 0.81275\n"
     ]
    },
    {
     "name": "stderr",
     "output_type": "stream",
     "text": [
      "Epoch 284/512: 100%|██████████████████████████████████████████████████████████████████████| 63/63 [00:02<00:00, 21.26it/s]\n"
     ]
    },
    {
     "name": "stdout",
     "output_type": "stream",
     "text": [
      "Epoch 284/512: \n",
      "Train Loss = 0.38215, Train MSE = 0.62405, Train MAE = 0.57891, Train Acc = 0.82869\n",
      "Val Loss = 0.39744, Val MSE = 0.63760, Val MAE = 0.59676, Val Acc = 0.81275\n"
     ]
    },
    {
     "name": "stderr",
     "output_type": "stream",
     "text": [
      "Epoch 285/512: 100%|██████████████████████████████████████████████████████████████████████| 63/63 [00:02<00:00, 21.04it/s]\n"
     ]
    },
    {
     "name": "stdout",
     "output_type": "stream",
     "text": [
      "Epoch 285/512: \n",
      "Train Loss = 0.38202, Train MSE = 0.61906, Train MAE = 0.57959, Train Acc = 0.82893\n",
      "Val Loss = 0.40112, Val MSE = 0.64715, Val MAE = 0.60078, Val Acc = 0.81076\n"
     ]
    },
    {
     "name": "stderr",
     "output_type": "stream",
     "text": [
      "Epoch 286/512: 100%|██████████████████████████████████████████████████████████████████████| 63/63 [00:02<00:00, 21.39it/s]\n"
     ]
    },
    {
     "name": "stdout",
     "output_type": "stream",
     "text": [
      "Epoch 286/512: \n",
      "Train Loss = 0.37719, Train MSE = 0.61501, Train MAE = 0.57318, Train Acc = 0.83640\n",
      "Val Loss = 0.40025, Val MSE = 0.64435, Val MAE = 0.59991, Val Acc = 0.80677\n"
     ]
    },
    {
     "name": "stderr",
     "output_type": "stream",
     "text": [
      "Epoch 287/512: 100%|██████████████████████████████████████████████████████████████████████| 63/63 [00:02<00:00, 21.09it/s]\n"
     ]
    },
    {
     "name": "stdout",
     "output_type": "stream",
     "text": [
      "Epoch 287/512: \n",
      "Train Loss = 0.37481, Train MSE = 0.59953, Train MAE = 0.57157, Train Acc = 0.83889\n",
      "Val Loss = 0.39985, Val MSE = 0.64462, Val MAE = 0.59893, Val Acc = 0.80876\n"
     ]
    },
    {
     "name": "stderr",
     "output_type": "stream",
     "text": [
      "Epoch 288/512: 100%|██████████████████████████████████████████████████████████████████████| 63/63 [00:02<00:00, 21.25it/s]\n"
     ]
    },
    {
     "name": "stdout",
     "output_type": "stream",
     "text": [
      "Epoch 288/512: \n",
      "Train Loss = 0.38040, Train MSE = 0.61179, Train MAE = 0.57781, Train Acc = 0.82694\n",
      "Val Loss = 0.39960, Val MSE = 0.64513, Val MAE = 0.59904, Val Acc = 0.81076\n"
     ]
    },
    {
     "name": "stderr",
     "output_type": "stream",
     "text": [
      "Epoch 289/512: 100%|██████████████████████████████████████████████████████████████████████| 63/63 [00:02<00:00, 21.35it/s]\n"
     ]
    },
    {
     "name": "stdout",
     "output_type": "stream",
     "text": [
      "Epoch 289/512: \n",
      "Train Loss = 0.37554, Train MSE = 0.60666, Train MAE = 0.57294, Train Acc = 0.83491\n",
      "Val Loss = 0.39935, Val MSE = 0.64512, Val MAE = 0.59879, Val Acc = 0.81076\n"
     ]
    },
    {
     "name": "stderr",
     "output_type": "stream",
     "text": [
      "Epoch 290/512: 100%|██████████████████████████████████████████████████████████████████████| 63/63 [00:02<00:00, 21.46it/s]\n"
     ]
    },
    {
     "name": "stdout",
     "output_type": "stream",
     "text": [
      "Epoch 290/512: \n",
      "Train Loss = 0.37269, Train MSE = 0.60364, Train MAE = 0.56811, Train Acc = 0.83640\n",
      "Val Loss = 0.40029, Val MSE = 0.64796, Val MAE = 0.59975, Val Acc = 0.80677\n"
     ]
    },
    {
     "name": "stderr",
     "output_type": "stream",
     "text": [
      "Epoch 291/512: 100%|██████████████████████████████████████████████████████████████████████| 63/63 [00:02<00:00, 21.27it/s]\n"
     ]
    },
    {
     "name": "stdout",
     "output_type": "stream",
     "text": [
      "Epoch 291/512: \n",
      "Train Loss = 0.37541, Train MSE = 0.61082, Train MAE = 0.56986, Train Acc = 0.83416\n",
      "Val Loss = 0.39930, Val MSE = 0.64469, Val MAE = 0.59880, Val Acc = 0.81474\n"
     ]
    },
    {
     "name": "stderr",
     "output_type": "stream",
     "text": [
      "Epoch 292/512: 100%|██████████████████████████████████████████████████████████████████████| 63/63 [00:02<00:00, 21.30it/s]\n"
     ]
    },
    {
     "name": "stdout",
     "output_type": "stream",
     "text": [
      "Epoch 292/512: \n",
      "Train Loss = 0.37408, Train MSE = 0.60069, Train MAE = 0.57161, Train Acc = 0.83765\n",
      "Val Loss = 0.40026, Val MSE = 0.64667, Val MAE = 0.59955, Val Acc = 0.81474\n"
     ]
    },
    {
     "name": "stderr",
     "output_type": "stream",
     "text": [
      "Epoch 293/512: 100%|██████████████████████████████████████████████████████████████████████| 63/63 [00:02<00:00, 21.28it/s]\n"
     ]
    },
    {
     "name": "stdout",
     "output_type": "stream",
     "text": [
      "Epoch 293/512: \n",
      "Train Loss = 0.36959, Train MSE = 0.59238, Train MAE = 0.56635, Train Acc = 0.83541\n",
      "Val Loss = 0.40044, Val MSE = 0.64846, Val MAE = 0.59968, Val Acc = 0.81076\n"
     ]
    },
    {
     "name": "stderr",
     "output_type": "stream",
     "text": [
      "Epoch 294/512: 100%|██████████████████████████████████████████████████████████████████████| 63/63 [00:02<00:00, 21.44it/s]\n"
     ]
    },
    {
     "name": "stdout",
     "output_type": "stream",
     "text": [
      "Epoch 294/512: \n",
      "Train Loss = 0.37469, Train MSE = 0.60576, Train MAE = 0.57115, Train Acc = 0.83640\n",
      "Val Loss = 0.40042, Val MSE = 0.64840, Val MAE = 0.59979, Val Acc = 0.80876\n"
     ]
    },
    {
     "name": "stderr",
     "output_type": "stream",
     "text": [
      "Epoch 295/512: 100%|██████████████████████████████████████████████████████████████████████| 63/63 [00:02<00:00, 21.37it/s]\n"
     ]
    },
    {
     "name": "stdout",
     "output_type": "stream",
     "text": [
      "Epoch 295/512: \n",
      "Train Loss = 0.36572, Train MSE = 0.58255, Train MAE = 0.56205, Train Acc = 0.83516\n",
      "Val Loss = 0.39929, Val MSE = 0.64472, Val MAE = 0.59843, Val Acc = 0.81474\n"
     ]
    },
    {
     "name": "stderr",
     "output_type": "stream",
     "text": [
      "Epoch 296/512: 100%|██████████████████████████████████████████████████████████████████████| 63/63 [00:02<00:00, 21.33it/s]\n"
     ]
    },
    {
     "name": "stdout",
     "output_type": "stream",
     "text": [
      "Epoch 296/512: \n",
      "Train Loss = 0.37608, Train MSE = 0.60817, Train MAE = 0.57420, Train Acc = 0.83790\n",
      "Val Loss = 0.39997, Val MSE = 0.64658, Val MAE = 0.59916, Val Acc = 0.80478\n"
     ]
    },
    {
     "name": "stderr",
     "output_type": "stream",
     "text": [
      "Epoch 297/512: 100%|██████████████████████████████████████████████████████████████████████| 63/63 [00:02<00:00, 21.50it/s]\n"
     ]
    },
    {
     "name": "stdout",
     "output_type": "stream",
     "text": [
      "Epoch 297/512: \n",
      "Train Loss = 0.36640, Train MSE = 0.58816, Train MAE = 0.56339, Train Acc = 0.83964\n",
      "Val Loss = 0.39954, Val MSE = 0.64486, Val MAE = 0.59891, Val Acc = 0.80876\n"
     ]
    },
    {
     "name": "stderr",
     "output_type": "stream",
     "text": [
      "Epoch 298/512: 100%|██████████████████████████████████████████████████████████████████████| 63/63 [00:02<00:00, 21.41it/s]\n"
     ]
    },
    {
     "name": "stdout",
     "output_type": "stream",
     "text": [
      "Epoch 298/512: \n",
      "Train Loss = 0.36724, Train MSE = 0.58329, Train MAE = 0.56443, Train Acc = 0.83591\n",
      "Val Loss = 0.39950, Val MSE = 0.64669, Val MAE = 0.59896, Val Acc = 0.81076\n"
     ]
    },
    {
     "name": "stderr",
     "output_type": "stream",
     "text": [
      "Epoch 299/512: 100%|██████████████████████████████████████████████████████████████████████| 63/63 [00:02<00:00, 21.07it/s]\n"
     ]
    },
    {
     "name": "stdout",
     "output_type": "stream",
     "text": [
      "Epoch 299/512: \n",
      "Train Loss = 0.36965, Train MSE = 0.59093, Train MAE = 0.56536, Train Acc = 0.84313\n",
      "Val Loss = 0.40017, Val MSE = 0.64779, Val MAE = 0.59963, Val Acc = 0.80478\n"
     ]
    },
    {
     "name": "stderr",
     "output_type": "stream",
     "text": [
      "Epoch 300/512: 100%|██████████████████████████████████████████████████████████████████████| 63/63 [00:03<00:00, 20.87it/s]\n"
     ]
    },
    {
     "name": "stdout",
     "output_type": "stream",
     "text": [
      "Epoch 300/512: \n",
      "Train Loss = 0.38868, Train MSE = 0.63565, Train MAE = 0.58616, Train Acc = 0.82694\n",
      "Val Loss = 0.39931, Val MSE = 0.64515, Val MAE = 0.59876, Val Acc = 0.80876\n"
     ]
    },
    {
     "name": "stderr",
     "output_type": "stream",
     "text": [
      "Epoch 301/512: 100%|██████████████████████████████████████████████████████████████████████| 63/63 [00:02<00:00, 21.38it/s]\n"
     ]
    },
    {
     "name": "stdout",
     "output_type": "stream",
     "text": [
      "Epoch 301/512: \n",
      "Train Loss = 0.37419, Train MSE = 0.59429, Train MAE = 0.57209, Train Acc = 0.83367\n",
      "Val Loss = 0.39925, Val MSE = 0.64489, Val MAE = 0.59866, Val Acc = 0.80876\n"
     ]
    },
    {
     "name": "stderr",
     "output_type": "stream",
     "text": [
      "Epoch 302/512: 100%|██████████████████████████████████████████████████████████████████████| 63/63 [00:03<00:00, 20.89it/s]\n"
     ]
    },
    {
     "name": "stdout",
     "output_type": "stream",
     "text": [
      "Epoch 302/512: \n",
      "Train Loss = 0.37623, Train MSE = 0.59823, Train MAE = 0.57355, Train Acc = 0.82794\n",
      "Val Loss = 0.40000, Val MSE = 0.64679, Val MAE = 0.59933, Val Acc = 0.80677\n"
     ]
    },
    {
     "name": "stderr",
     "output_type": "stream",
     "text": [
      "Epoch 303/512: 100%|██████████████████████████████████████████████████████████████████████| 63/63 [00:02<00:00, 21.09it/s]\n"
     ]
    },
    {
     "name": "stdout",
     "output_type": "stream",
     "text": [
      "Epoch 303/512: \n",
      "Train Loss = 0.37315, Train MSE = 0.59790, Train MAE = 0.57052, Train Acc = 0.83292\n",
      "Val Loss = 0.39987, Val MSE = 0.64606, Val MAE = 0.59900, Val Acc = 0.80876\n"
     ]
    },
    {
     "name": "stderr",
     "output_type": "stream",
     "text": [
      "Epoch 304/512: 100%|██████████████████████████████████████████████████████████████████████| 63/63 [00:03<00:00, 20.74it/s]\n"
     ]
    },
    {
     "name": "stdout",
     "output_type": "stream",
     "text": [
      "Epoch 304/512: \n",
      "Train Loss = 0.37470, Train MSE = 0.60209, Train MAE = 0.57157, Train Acc = 0.82346\n",
      "Val Loss = 0.39997, Val MSE = 0.64634, Val MAE = 0.59931, Val Acc = 0.81076\n"
     ]
    },
    {
     "name": "stderr",
     "output_type": "stream",
     "text": [
      "Epoch 305/512: 100%|██████████████████████████████████████████████████████████████████████| 63/63 [00:03<00:00, 20.71it/s]\n"
     ]
    },
    {
     "name": "stdout",
     "output_type": "stream",
     "text": [
      "Epoch 305/512: \n",
      "Train Loss = 0.36476, Train MSE = 0.57996, Train MAE = 0.56066, Train Acc = 0.84288\n",
      "Val Loss = 0.40122, Val MSE = 0.65061, Val MAE = 0.60073, Val Acc = 0.80677\n"
     ]
    },
    {
     "name": "stderr",
     "output_type": "stream",
     "text": [
      "Epoch 306/512: 100%|██████████████████████████████████████████████████████████████████████| 63/63 [00:02<00:00, 21.29it/s]\n"
     ]
    },
    {
     "name": "stdout",
     "output_type": "stream",
     "text": [
      "Epoch 306/512: \n",
      "Train Loss = 0.36745, Train MSE = 0.58957, Train MAE = 0.56280, Train Acc = 0.83815\n",
      "Val Loss = 0.40055, Val MSE = 0.64836, Val MAE = 0.60021, Val Acc = 0.80876\n"
     ]
    },
    {
     "name": "stderr",
     "output_type": "stream",
     "text": [
      "Epoch 307/512: 100%|██████████████████████████████████████████████████████████████████████| 63/63 [00:02<00:00, 21.04it/s]\n"
     ]
    },
    {
     "name": "stdout",
     "output_type": "stream",
     "text": [
      "Epoch 307/512: \n",
      "Train Loss = 0.36118, Train MSE = 0.57545, Train MAE = 0.55528, Train Acc = 0.84238\n",
      "Val Loss = 0.40011, Val MSE = 0.64614, Val MAE = 0.59987, Val Acc = 0.81076\n"
     ]
    },
    {
     "name": "stderr",
     "output_type": "stream",
     "text": [
      "Epoch 308/512: 100%|██████████████████████████████████████████████████████████████████████| 63/63 [00:02<00:00, 21.33it/s]\n"
     ]
    },
    {
     "name": "stdout",
     "output_type": "stream",
     "text": [
      "Epoch 308/512: \n",
      "Train Loss = 0.37600, Train MSE = 0.60016, Train MAE = 0.57402, Train Acc = 0.83690\n",
      "Val Loss = 0.40040, Val MSE = 0.64655, Val MAE = 0.60018, Val Acc = 0.81076\n"
     ]
    },
    {
     "name": "stderr",
     "output_type": "stream",
     "text": [
      "Epoch 309/512: 100%|██████████████████████████████████████████████████████████████████████| 63/63 [00:02<00:00, 21.52it/s]\n"
     ]
    },
    {
     "name": "stdout",
     "output_type": "stream",
     "text": [
      "Epoch 309/512: \n",
      "Train Loss = 0.37224, Train MSE = 0.59626, Train MAE = 0.56946, Train Acc = 0.83491\n",
      "Val Loss = 0.40061, Val MSE = 0.64734, Val MAE = 0.60047, Val Acc = 0.80478\n"
     ]
    },
    {
     "name": "stderr",
     "output_type": "stream",
     "text": [
      "Epoch 310/512: 100%|██████████████████████████████████████████████████████████████████████| 63/63 [00:02<00:00, 21.23it/s]\n"
     ]
    },
    {
     "name": "stdout",
     "output_type": "stream",
     "text": [
      "Epoch 310/512: \n",
      "Train Loss = 0.37392, Train MSE = 0.60566, Train MAE = 0.57109, Train Acc = 0.83765\n",
      "Val Loss = 0.40049, Val MSE = 0.64715, Val MAE = 0.60012, Val Acc = 0.80677\n"
     ]
    },
    {
     "name": "stderr",
     "output_type": "stream",
     "text": [
      "Epoch 311/512: 100%|██████████████████████████████████████████████████████████████████████| 63/63 [00:02<00:00, 21.18it/s]\n"
     ]
    },
    {
     "name": "stdout",
     "output_type": "stream",
     "text": [
      "Epoch 311/512: \n",
      "Train Loss = 0.37631, Train MSE = 0.60503, Train MAE = 0.57300, Train Acc = 0.82943\n",
      "Val Loss = 0.40010, Val MSE = 0.64620, Val MAE = 0.59944, Val Acc = 0.80279\n"
     ]
    },
    {
     "name": "stderr",
     "output_type": "stream",
     "text": [
      "Epoch 312/512: 100%|██████████████████████████████████████████████████████████████████████| 63/63 [00:02<00:00, 21.52it/s]\n"
     ]
    },
    {
     "name": "stdout",
     "output_type": "stream",
     "text": [
      "Epoch 312/512: \n",
      "Train Loss = 0.38188, Train MSE = 0.61807, Train MAE = 0.58044, Train Acc = 0.82869\n",
      "Val Loss = 0.39902, Val MSE = 0.64224, Val MAE = 0.59853, Val Acc = 0.80876\n"
     ]
    },
    {
     "name": "stderr",
     "output_type": "stream",
     "text": [
      "Epoch 313/512: 100%|██████████████████████████████████████████████████████████████████████| 63/63 [00:02<00:00, 21.46it/s]\n"
     ]
    },
    {
     "name": "stdout",
     "output_type": "stream",
     "text": [
      "Epoch 313/512: \n",
      "Train Loss = 0.36135, Train MSE = 0.57091, Train MAE = 0.55702, Train Acc = 0.84512\n",
      "Val Loss = 0.39983, Val MSE = 0.64506, Val MAE = 0.59912, Val Acc = 0.80478\n"
     ]
    },
    {
     "name": "stderr",
     "output_type": "stream",
     "text": [
      "Epoch 314/512: 100%|██████████████████████████████████████████████████████████████████████| 63/63 [00:02<00:00, 21.55it/s]\n"
     ]
    },
    {
     "name": "stdout",
     "output_type": "stream",
     "text": [
      "Epoch 314/512: \n",
      "Train Loss = 0.36896, Train MSE = 0.58984, Train MAE = 0.56447, Train Acc = 0.83765\n",
      "Val Loss = 0.40074, Val MSE = 0.64794, Val MAE = 0.59988, Val Acc = 0.80677\n"
     ]
    },
    {
     "name": "stderr",
     "output_type": "stream",
     "text": [
      "Epoch 315/512: 100%|██████████████████████████████████████████████████████████████████████| 63/63 [00:02<00:00, 21.31it/s]\n"
     ]
    },
    {
     "name": "stdout",
     "output_type": "stream",
     "text": [
      "Epoch 315/512: \n",
      "Train Loss = 0.37504, Train MSE = 0.59915, Train MAE = 0.57347, Train Acc = 0.82644\n",
      "Val Loss = 0.40114, Val MSE = 0.64873, Val MAE = 0.60032, Val Acc = 0.80478\n"
     ]
    },
    {
     "name": "stderr",
     "output_type": "stream",
     "text": [
      "Epoch 316/512: 100%|██████████████████████████████████████████████████████████████████████| 63/63 [00:02<00:00, 21.17it/s]\n"
     ]
    },
    {
     "name": "stdout",
     "output_type": "stream",
     "text": [
      "Epoch 316/512: \n",
      "Train Loss = 0.36688, Train MSE = 0.58952, Train MAE = 0.56317, Train Acc = 0.83964\n",
      "Val Loss = 0.39990, Val MSE = 0.64619, Val MAE = 0.59905, Val Acc = 0.80478\n"
     ]
    },
    {
     "name": "stderr",
     "output_type": "stream",
     "text": [
      "Epoch 317/512: 100%|██████████████████████████████████████████████████████████████████████| 63/63 [00:02<00:00, 21.34it/s]\n"
     ]
    },
    {
     "name": "stdout",
     "output_type": "stream",
     "text": [
      "Epoch 317/512: \n",
      "Train Loss = 0.38117, Train MSE = 0.61625, Train MAE = 0.57720, Train Acc = 0.82869\n",
      "Val Loss = 0.40057, Val MSE = 0.64817, Val MAE = 0.59942, Val Acc = 0.80876\n"
     ]
    },
    {
     "name": "stderr",
     "output_type": "stream",
     "text": [
      "Epoch 318/512: 100%|██████████████████████████████████████████████████████████████████████| 63/63 [00:03<00:00, 20.87it/s]\n"
     ]
    },
    {
     "name": "stdout",
     "output_type": "stream",
     "text": [
      "Epoch 318/512: \n",
      "Train Loss = 0.36751, Train MSE = 0.58437, Train MAE = 0.56397, Train Acc = 0.84188\n",
      "Val Loss = 0.40123, Val MSE = 0.65033, Val MAE = 0.59998, Val Acc = 0.81076\n"
     ]
    },
    {
     "name": "stderr",
     "output_type": "stream",
     "text": [
      "Epoch 319/512: 100%|██████████████████████████████████████████████████████████████████████| 63/63 [00:03<00:00, 20.79it/s]\n"
     ]
    },
    {
     "name": "stdout",
     "output_type": "stream",
     "text": [
      "Epoch 319/512: \n",
      "Train Loss = 0.37208, Train MSE = 0.59906, Train MAE = 0.56844, Train Acc = 0.83640\n",
      "Val Loss = 0.40012, Val MSE = 0.64725, Val MAE = 0.59887, Val Acc = 0.81076\n"
     ]
    },
    {
     "name": "stderr",
     "output_type": "stream",
     "text": [
      "Epoch 320/512: 100%|██████████████████████████████████████████████████████████████████████| 63/63 [00:02<00:00, 21.22it/s]\n"
     ]
    },
    {
     "name": "stdout",
     "output_type": "stream",
     "text": [
      "Epoch 320/512: \n",
      "Train Loss = 0.37363, Train MSE = 0.59647, Train MAE = 0.57068, Train Acc = 0.83317\n",
      "Val Loss = 0.39965, Val MSE = 0.64556, Val MAE = 0.59844, Val Acc = 0.80677\n"
     ]
    },
    {
     "name": "stderr",
     "output_type": "stream",
     "text": [
      "Epoch 321/512: 100%|██████████████████████████████████████████████████████████████████████| 63/63 [00:03<00:00, 20.85it/s]\n"
     ]
    },
    {
     "name": "stdout",
     "output_type": "stream",
     "text": [
      "Epoch 321/512: \n",
      "Train Loss = 0.37721, Train MSE = 0.60876, Train MAE = 0.57492, Train Acc = 0.83640\n",
      "Val Loss = 0.39990, Val MSE = 0.64616, Val MAE = 0.59861, Val Acc = 0.80478\n"
     ]
    },
    {
     "name": "stderr",
     "output_type": "stream",
     "text": [
      "Epoch 322/512: 100%|██████████████████████████████████████████████████████████████████████| 63/63 [00:02<00:00, 21.41it/s]\n"
     ]
    },
    {
     "name": "stdout",
     "output_type": "stream",
     "text": [
      "Epoch 322/512: \n",
      "Train Loss = 0.36728, Train MSE = 0.58440, Train MAE = 0.56267, Train Acc = 0.83416\n",
      "Val Loss = 0.39995, Val MSE = 0.64595, Val MAE = 0.59877, Val Acc = 0.80478\n"
     ]
    },
    {
     "name": "stderr",
     "output_type": "stream",
     "text": [
      "Epoch 323/512: 100%|██████████████████████████████████████████████████████████████████████| 63/63 [00:02<00:00, 21.26it/s]\n"
     ]
    },
    {
     "name": "stdout",
     "output_type": "stream",
     "text": [
      "Epoch 323/512: \n",
      "Train Loss = 0.37434, Train MSE = 0.60195, Train MAE = 0.57104, Train Acc = 0.83715\n",
      "Val Loss = 0.40027, Val MSE = 0.64738, Val MAE = 0.59898, Val Acc = 0.80279\n"
     ]
    },
    {
     "name": "stderr",
     "output_type": "stream",
     "text": [
      "Epoch 324/512: 100%|██████████████████████████████████████████████████████████████████████| 63/63 [00:02<00:00, 21.25it/s]\n"
     ]
    },
    {
     "name": "stdout",
     "output_type": "stream",
     "text": [
      "Epoch 324/512: \n",
      "Train Loss = 0.37426, Train MSE = 0.60043, Train MAE = 0.57141, Train Acc = 0.83068\n",
      "Val Loss = 0.40012, Val MSE = 0.64658, Val MAE = 0.59892, Val Acc = 0.80279\n"
     ]
    },
    {
     "name": "stderr",
     "output_type": "stream",
     "text": [
      "Epoch 325/512: 100%|██████████████████████████████████████████████████████████████████████| 63/63 [00:02<00:00, 21.34it/s]\n"
     ]
    },
    {
     "name": "stdout",
     "output_type": "stream",
     "text": [
      "Epoch 325/512: \n",
      "Train Loss = 0.36623, Train MSE = 0.58271, Train MAE = 0.56272, Train Acc = 0.83889\n",
      "Val Loss = 0.39980, Val MSE = 0.64562, Val MAE = 0.59862, Val Acc = 0.80677\n"
     ]
    },
    {
     "name": "stderr",
     "output_type": "stream",
     "text": [
      "Epoch 326/512: 100%|██████████████████████████████████████████████████████████████████████| 63/63 [00:02<00:00, 21.20it/s]\n"
     ]
    },
    {
     "name": "stdout",
     "output_type": "stream",
     "text": [
      "Epoch 326/512: \n",
      "Train Loss = 0.37831, Train MSE = 0.61252, Train MAE = 0.57478, Train Acc = 0.83192\n",
      "Val Loss = 0.39979, Val MSE = 0.64567, Val MAE = 0.59848, Val Acc = 0.80677\n"
     ]
    },
    {
     "name": "stderr",
     "output_type": "stream",
     "text": [
      "Epoch 327/512: 100%|██████████████████████████████████████████████████████████████████████| 63/63 [00:03<00:00, 20.88it/s]\n"
     ]
    },
    {
     "name": "stdout",
     "output_type": "stream",
     "text": [
      "Epoch 327/512: \n",
      "Train Loss = 0.36913, Train MSE = 0.59551, Train MAE = 0.56464, Train Acc = 0.84039\n",
      "Val Loss = 0.39961, Val MSE = 0.64469, Val MAE = 0.59839, Val Acc = 0.80279\n"
     ]
    },
    {
     "name": "stderr",
     "output_type": "stream",
     "text": [
      "Epoch 328/512: 100%|██████████████████████████████████████████████████████████████████████| 63/63 [00:03<00:00, 20.68it/s]\n"
     ]
    },
    {
     "name": "stdout",
     "output_type": "stream",
     "text": [
      "Epoch 328/512: \n",
      "Train Loss = 0.37483, Train MSE = 0.60220, Train MAE = 0.57178, Train Acc = 0.83516\n",
      "Val Loss = 0.40006, Val MSE = 0.64643, Val MAE = 0.59872, Val Acc = 0.80677\n"
     ]
    },
    {
     "name": "stderr",
     "output_type": "stream",
     "text": [
      "Epoch 329/512: 100%|██████████████████████████████████████████████████████████████████████| 63/63 [00:02<00:00, 21.26it/s]\n"
     ]
    },
    {
     "name": "stdout",
     "output_type": "stream",
     "text": [
      "Epoch 329/512: \n",
      "Train Loss = 0.37494, Train MSE = 0.60043, Train MAE = 0.57276, Train Acc = 0.83840\n",
      "Val Loss = 0.40038, Val MSE = 0.64747, Val MAE = 0.59901, Val Acc = 0.80677\n"
     ]
    },
    {
     "name": "stderr",
     "output_type": "stream",
     "text": [
      "Epoch 330/512: 100%|██████████████████████████████████████████████████████████████████████| 63/63 [00:02<00:00, 21.34it/s]\n"
     ]
    },
    {
     "name": "stdout",
     "output_type": "stream",
     "text": [
      "Epoch 330/512: \n",
      "Train Loss = 0.37430, Train MSE = 0.59641, Train MAE = 0.57183, Train Acc = 0.83566\n",
      "Val Loss = 0.40003, Val MSE = 0.64635, Val MAE = 0.59863, Val Acc = 0.80677\n"
     ]
    },
    {
     "name": "stderr",
     "output_type": "stream",
     "text": [
      "Epoch 331/512: 100%|██████████████████████████████████████████████████████████████████████| 63/63 [00:02<00:00, 21.39it/s]\n"
     ]
    },
    {
     "name": "stdout",
     "output_type": "stream",
     "text": [
      "Epoch 331/512: \n",
      "Train Loss = 0.36867, Train MSE = 0.58355, Train MAE = 0.56542, Train Acc = 0.84089\n",
      "Val Loss = 0.39991, Val MSE = 0.64602, Val MAE = 0.59850, Val Acc = 0.80677\n"
     ]
    },
    {
     "name": "stderr",
     "output_type": "stream",
     "text": [
      "Epoch 332/512: 100%|██████████████████████████████████████████████████████████████████████| 63/63 [00:02<00:00, 21.37it/s]\n"
     ]
    },
    {
     "name": "stdout",
     "output_type": "stream",
     "text": [
      "Epoch 332/512: \n",
      "Train Loss = 0.37780, Train MSE = 0.60789, Train MAE = 0.57497, Train Acc = 0.83043\n",
      "Val Loss = 0.39974, Val MSE = 0.64572, Val MAE = 0.59841, Val Acc = 0.80677\n"
     ]
    },
    {
     "name": "stderr",
     "output_type": "stream",
     "text": [
      "Epoch 333/512: 100%|██████████████████████████████████████████████████████████████████████| 63/63 [00:02<00:00, 21.26it/s]\n"
     ]
    },
    {
     "name": "stdout",
     "output_type": "stream",
     "text": [
      "Epoch 333/512: \n",
      "Train Loss = 0.36818, Train MSE = 0.58765, Train MAE = 0.56418, Train Acc = 0.83242\n",
      "Val Loss = 0.39982, Val MSE = 0.64583, Val MAE = 0.59848, Val Acc = 0.80478\n"
     ]
    },
    {
     "name": "stderr",
     "output_type": "stream",
     "text": [
      "Epoch 334/512: 100%|██████████████████████████████████████████████████████████████████████| 63/63 [00:02<00:00, 21.09it/s]\n"
     ]
    },
    {
     "name": "stdout",
     "output_type": "stream",
     "text": [
      "Epoch 334/512: \n",
      "Train Loss = 0.37443, Train MSE = 0.60185, Train MAE = 0.57026, Train Acc = 0.83118\n",
      "Val Loss = 0.39982, Val MSE = 0.64573, Val MAE = 0.59844, Val Acc = 0.80478\n"
     ]
    },
    {
     "name": "stderr",
     "output_type": "stream",
     "text": [
      "Epoch 335/512: 100%|██████████████████████████████████████████████████████████████████████| 63/63 [00:02<00:00, 21.33it/s]\n"
     ]
    },
    {
     "name": "stdout",
     "output_type": "stream",
     "text": [
      "Epoch 335/512: \n",
      "Train Loss = 0.37203, Train MSE = 0.59749, Train MAE = 0.56694, Train Acc = 0.83367\n",
      "Val Loss = 0.40024, Val MSE = 0.64713, Val MAE = 0.59888, Val Acc = 0.80677\n"
     ]
    },
    {
     "name": "stderr",
     "output_type": "stream",
     "text": [
      "Epoch 336/512: 100%|██████████████████████████████████████████████████████████████████████| 63/63 [00:02<00:00, 21.05it/s]\n"
     ]
    },
    {
     "name": "stdout",
     "output_type": "stream",
     "text": [
      "Epoch 336/512: \n",
      "Train Loss = 0.37111, Train MSE = 0.59509, Train MAE = 0.56779, Train Acc = 0.83765\n",
      "Val Loss = 0.39994, Val MSE = 0.64627, Val MAE = 0.59861, Val Acc = 0.80677\n"
     ]
    },
    {
     "name": "stderr",
     "output_type": "stream",
     "text": [
      "Epoch 337/512: 100%|██████████████████████████████████████████████████████████████████████| 63/63 [00:03<00:00, 20.98it/s]\n"
     ]
    },
    {
     "name": "stdout",
     "output_type": "stream",
     "text": [
      "Epoch 337/512: \n",
      "Train Loss = 0.36945, Train MSE = 0.58345, Train MAE = 0.56707, Train Acc = 0.84114\n",
      "Val Loss = 0.40001, Val MSE = 0.64637, Val MAE = 0.59872, Val Acc = 0.80677\n"
     ]
    },
    {
     "name": "stderr",
     "output_type": "stream",
     "text": [
      "Epoch 338/512: 100%|██████████████████████████████████████████████████████████████████████| 63/63 [00:03<00:00, 20.88it/s]\n"
     ]
    },
    {
     "name": "stdout",
     "output_type": "stream",
     "text": [
      "Epoch 338/512: \n",
      "Train Loss = 0.36704, Train MSE = 0.59611, Train MAE = 0.56282, Train Acc = 0.84412\n",
      "Val Loss = 0.39986, Val MSE = 0.64594, Val MAE = 0.59861, Val Acc = 0.80677\n"
     ]
    },
    {
     "name": "stderr",
     "output_type": "stream",
     "text": [
      "Epoch 339/512: 100%|██████████████████████████████████████████████████████████████████████| 63/63 [00:03<00:00, 20.93it/s]\n"
     ]
    },
    {
     "name": "stdout",
     "output_type": "stream",
     "text": [
      "Epoch 339/512: \n",
      "Train Loss = 0.36856, Train MSE = 0.58682, Train MAE = 0.56332, Train Acc = 0.82844\n",
      "Val Loss = 0.39978, Val MSE = 0.64586, Val MAE = 0.59855, Val Acc = 0.80677\n"
     ]
    },
    {
     "name": "stderr",
     "output_type": "stream",
     "text": [
      "Epoch 340/512: 100%|██████████████████████████████████████████████████████████████████████| 63/63 [00:02<00:00, 21.22it/s]\n"
     ]
    },
    {
     "name": "stdout",
     "output_type": "stream",
     "text": [
      "Epoch 340/512: \n",
      "Train Loss = 0.37220, Train MSE = 0.59984, Train MAE = 0.56814, Train Acc = 0.82968\n",
      "Val Loss = 0.39955, Val MSE = 0.64524, Val MAE = 0.59833, Val Acc = 0.80677\n"
     ]
    },
    {
     "name": "stderr",
     "output_type": "stream",
     "text": [
      "Epoch 341/512: 100%|██████████████████████████████████████████████████████████████████████| 63/63 [00:02<00:00, 21.11it/s]\n"
     ]
    },
    {
     "name": "stdout",
     "output_type": "stream",
     "text": [
      "Epoch 341/512: \n",
      "Train Loss = 0.37792, Train MSE = 0.60984, Train MAE = 0.57505, Train Acc = 0.82769\n",
      "Val Loss = 0.39949, Val MSE = 0.64515, Val MAE = 0.59824, Val Acc = 0.80677\n"
     ]
    },
    {
     "name": "stderr",
     "output_type": "stream",
     "text": [
      "Epoch 342/512: 100%|██████████████████████████████████████████████████████████████████████| 63/63 [00:03<00:00, 20.90it/s]\n"
     ]
    },
    {
     "name": "stdout",
     "output_type": "stream",
     "text": [
      "Epoch 342/512: \n",
      "Train Loss = 0.36374, Train MSE = 0.57526, Train MAE = 0.55878, Train Acc = 0.83989\n",
      "Val Loss = 0.39936, Val MSE = 0.64467, Val MAE = 0.59814, Val Acc = 0.80677\n"
     ]
    },
    {
     "name": "stderr",
     "output_type": "stream",
     "text": [
      "Epoch 343/512: 100%|██████████████████████████████████████████████████████████████████████| 63/63 [00:02<00:00, 21.33it/s]\n"
     ]
    },
    {
     "name": "stdout",
     "output_type": "stream",
     "text": [
      "Epoch 343/512: \n",
      "Train Loss = 0.36757, Train MSE = 0.58788, Train MAE = 0.56423, Train Acc = 0.83591\n",
      "Val Loss = 0.39943, Val MSE = 0.64486, Val MAE = 0.59825, Val Acc = 0.80677\n"
     ]
    },
    {
     "name": "stderr",
     "output_type": "stream",
     "text": [
      "Epoch 344/512: 100%|██████████████████████████████████████████████████████████████████████| 63/63 [00:02<00:00, 21.19it/s]\n"
     ]
    },
    {
     "name": "stdout",
     "output_type": "stream",
     "text": [
      "Epoch 344/512: \n",
      "Train Loss = 0.37282, Train MSE = 0.59888, Train MAE = 0.56990, Train Acc = 0.83516\n",
      "Val Loss = 0.39940, Val MSE = 0.64471, Val MAE = 0.59825, Val Acc = 0.80677\n"
     ]
    },
    {
     "name": "stderr",
     "output_type": "stream",
     "text": [
      "Epoch 345/512: 100%|██████████████████████████████████████████████████████████████████████| 63/63 [00:02<00:00, 21.12it/s]\n"
     ]
    },
    {
     "name": "stdout",
     "output_type": "stream",
     "text": [
      "Epoch 345/512: \n",
      "Train Loss = 0.37861, Train MSE = 0.62004, Train MAE = 0.57430, Train Acc = 0.83118\n",
      "Val Loss = 0.39935, Val MSE = 0.64462, Val MAE = 0.59821, Val Acc = 0.80677\n"
     ]
    },
    {
     "name": "stderr",
     "output_type": "stream",
     "text": [
      "Epoch 346/512: 100%|██████████████████████████████████████████████████████████████████████| 63/63 [00:02<00:00, 21.16it/s]\n"
     ]
    },
    {
     "name": "stdout",
     "output_type": "stream",
     "text": [
      "Epoch 346/512: \n",
      "Train Loss = 0.36360, Train MSE = 0.58260, Train MAE = 0.55816, Train Acc = 0.84114\n",
      "Val Loss = 0.39943, Val MSE = 0.64497, Val MAE = 0.59828, Val Acc = 0.80478\n"
     ]
    },
    {
     "name": "stderr",
     "output_type": "stream",
     "text": [
      "Epoch 347/512: 100%|██████████████████████████████████████████████████████████████████████| 63/63 [00:02<00:00, 21.44it/s]\n"
     ]
    },
    {
     "name": "stdout",
     "output_type": "stream",
     "text": [
      "Epoch 347/512: \n",
      "Train Loss = 0.37583, Train MSE = 0.61089, Train MAE = 0.57209, Train Acc = 0.83342\n",
      "Val Loss = 0.39938, Val MSE = 0.64483, Val MAE = 0.59821, Val Acc = 0.80478\n"
     ]
    },
    {
     "name": "stderr",
     "output_type": "stream",
     "text": [
      "Epoch 348/512: 100%|██████████████████████████████████████████████████████████████████████| 63/63 [00:02<00:00, 21.24it/s]\n"
     ]
    },
    {
     "name": "stdout",
     "output_type": "stream",
     "text": [
      "Epoch 348/512: \n",
      "Train Loss = 0.37149, Train MSE = 0.59393, Train MAE = 0.56820, Train Acc = 0.83790\n",
      "Val Loss = 0.39944, Val MSE = 0.64507, Val MAE = 0.59826, Val Acc = 0.80677\n"
     ]
    },
    {
     "name": "stderr",
     "output_type": "stream",
     "text": [
      "Epoch 349/512: 100%|██████████████████████████████████████████████████████████████████████| 63/63 [00:02<00:00, 21.33it/s]\n"
     ]
    },
    {
     "name": "stdout",
     "output_type": "stream",
     "text": [
      "Epoch 349/512: \n",
      "Train Loss = 0.37905, Train MSE = 0.61908, Train MAE = 0.57650, Train Acc = 0.83690\n",
      "Val Loss = 0.39949, Val MSE = 0.64512, Val MAE = 0.59830, Val Acc = 0.80677\n"
     ]
    },
    {
     "name": "stderr",
     "output_type": "stream",
     "text": [
      "Epoch 350/512: 100%|██████████████████████████████████████████████████████████████████████| 63/63 [00:02<00:00, 21.37it/s]\n"
     ]
    },
    {
     "name": "stdout",
     "output_type": "stream",
     "text": [
      "Epoch 350/512: \n",
      "Train Loss = 0.37302, Train MSE = 0.60061, Train MAE = 0.56852, Train Acc = 0.83118\n",
      "Val Loss = 0.39950, Val MSE = 0.64512, Val MAE = 0.59834, Val Acc = 0.80677\n"
     ]
    },
    {
     "name": "stderr",
     "output_type": "stream",
     "text": [
      "Epoch 351/512: 100%|██████████████████████████████████████████████████████████████████████| 63/63 [00:02<00:00, 21.26it/s]\n"
     ]
    },
    {
     "name": "stdout",
     "output_type": "stream",
     "text": [
      "Epoch 351/512: \n",
      "Train Loss = 0.37543, Train MSE = 0.60223, Train MAE = 0.57435, Train Acc = 0.83267\n",
      "Val Loss = 0.39943, Val MSE = 0.64494, Val MAE = 0.59826, Val Acc = 0.80677\n"
     ]
    },
    {
     "name": "stderr",
     "output_type": "stream",
     "text": [
      "Epoch 352/512: 100%|██████████████████████████████████████████████████████████████████████| 63/63 [00:02<00:00, 21.10it/s]\n"
     ]
    },
    {
     "name": "stdout",
     "output_type": "stream",
     "text": [
      "Epoch 352/512: \n",
      "Train Loss = 0.36643, Train MSE = 0.57895, Train MAE = 0.56204, Train Acc = 0.84387\n",
      "Val Loss = 0.39949, Val MSE = 0.64509, Val MAE = 0.59830, Val Acc = 0.80677\n"
     ]
    },
    {
     "name": "stderr",
     "output_type": "stream",
     "text": [
      "Epoch 353/512: 100%|██████████████████████████████████████████████████████████████████████| 63/63 [00:03<00:00, 20.85it/s]\n"
     ]
    },
    {
     "name": "stdout",
     "output_type": "stream",
     "text": [
      "Epoch 353/512: \n",
      "Train Loss = 0.38076, Train MSE = 0.62384, Train MAE = 0.57768, Train Acc = 0.83167\n",
      "Val Loss = 0.39944, Val MSE = 0.64502, Val MAE = 0.59823, Val Acc = 0.80677\n"
     ]
    },
    {
     "name": "stderr",
     "output_type": "stream",
     "text": [
      "Epoch 354/512: 100%|██████████████████████████████████████████████████████████████████████| 63/63 [00:02<00:00, 21.27it/s]\n"
     ]
    },
    {
     "name": "stdout",
     "output_type": "stream",
     "text": [
      "Epoch 354/512: \n",
      "Train Loss = 0.36567, Train MSE = 0.57820, Train MAE = 0.56057, Train Acc = 0.83242\n",
      "Val Loss = 0.39957, Val MSE = 0.64544, Val MAE = 0.59835, Val Acc = 0.80677\n"
     ]
    },
    {
     "name": "stderr",
     "output_type": "stream",
     "text": [
      "Epoch 355/512: 100%|██████████████████████████████████████████████████████████████████████| 63/63 [00:02<00:00, 21.12it/s]\n"
     ]
    },
    {
     "name": "stdout",
     "output_type": "stream",
     "text": [
      "Epoch 355/512: \n",
      "Train Loss = 0.37405, Train MSE = 0.59609, Train MAE = 0.57145, Train Acc = 0.82943\n",
      "Val Loss = 0.39961, Val MSE = 0.64557, Val MAE = 0.59839, Val Acc = 0.80677\n"
     ]
    },
    {
     "name": "stderr",
     "output_type": "stream",
     "text": [
      "Epoch 356/512: 100%|██████████████████████████████████████████████████████████████████████| 63/63 [00:02<00:00, 21.27it/s]\n"
     ]
    },
    {
     "name": "stdout",
     "output_type": "stream",
     "text": [
      "Epoch 356/512: \n",
      "Train Loss = 0.36337, Train MSE = 0.57703, Train MAE = 0.56021, Train Acc = 0.84163\n",
      "Val Loss = 0.39966, Val MSE = 0.64570, Val MAE = 0.59846, Val Acc = 0.80677\n"
     ]
    },
    {
     "name": "stderr",
     "output_type": "stream",
     "text": [
      "Epoch 357/512: 100%|██████████████████████████████████████████████████████████████████████| 63/63 [00:02<00:00, 21.48it/s]\n"
     ]
    },
    {
     "name": "stdout",
     "output_type": "stream",
     "text": [
      "Epoch 357/512: \n",
      "Train Loss = 0.37339, Train MSE = 0.59671, Train MAE = 0.57015, Train Acc = 0.82869\n",
      "Val Loss = 0.39974, Val MSE = 0.64594, Val MAE = 0.59854, Val Acc = 0.80876\n"
     ]
    },
    {
     "name": "stderr",
     "output_type": "stream",
     "text": [
      "Epoch 358/512: 100%|██████████████████████████████████████████████████████████████████████| 63/63 [00:02<00:00, 21.28it/s]\n"
     ]
    },
    {
     "name": "stdout",
     "output_type": "stream",
     "text": [
      "Epoch 358/512: \n",
      "Train Loss = 0.37257, Train MSE = 0.59615, Train MAE = 0.57059, Train Acc = 0.83889\n",
      "Val Loss = 0.39970, Val MSE = 0.64576, Val MAE = 0.59850, Val Acc = 0.80677\n"
     ]
    },
    {
     "name": "stderr",
     "output_type": "stream",
     "text": [
      "Epoch 359/512: 100%|██████████████████████████████████████████████████████████████████████| 63/63 [00:02<00:00, 21.24it/s]\n"
     ]
    },
    {
     "name": "stdout",
     "output_type": "stream",
     "text": [
      "Epoch 359/512: \n",
      "Train Loss = 0.36182, Train MSE = 0.58046, Train MAE = 0.55709, Train Acc = 0.84761\n",
      "Val Loss = 0.39969, Val MSE = 0.64570, Val MAE = 0.59851, Val Acc = 0.80677\n"
     ]
    },
    {
     "name": "stderr",
     "output_type": "stream",
     "text": [
      "Epoch 360/512: 100%|██████████████████████████████████████████████████████████████████████| 63/63 [00:02<00:00, 21.40it/s]\n"
     ]
    },
    {
     "name": "stdout",
     "output_type": "stream",
     "text": [
      "Epoch 360/512: \n",
      "Train Loss = 0.37219, Train MSE = 0.59750, Train MAE = 0.56971, Train Acc = 0.83516\n",
      "Val Loss = 0.39965, Val MSE = 0.64564, Val MAE = 0.59846, Val Acc = 0.80677\n"
     ]
    },
    {
     "name": "stderr",
     "output_type": "stream",
     "text": [
      "Epoch 361/512: 100%|██████████████████████████████████████████████████████████████████████| 63/63 [00:02<00:00, 21.16it/s]\n"
     ]
    },
    {
     "name": "stdout",
     "output_type": "stream",
     "text": [
      "Epoch 361/512: \n",
      "Train Loss = 0.37006, Train MSE = 0.59252, Train MAE = 0.56640, Train Acc = 0.83416\n",
      "Val Loss = 0.39962, Val MSE = 0.64554, Val MAE = 0.59844, Val Acc = 0.80677\n"
     ]
    },
    {
     "name": "stderr",
     "output_type": "stream",
     "text": [
      "Epoch 362/512: 100%|██████████████████████████████████████████████████████████████████████| 63/63 [00:02<00:00, 21.07it/s]\n"
     ]
    },
    {
     "name": "stdout",
     "output_type": "stream",
     "text": [
      "Epoch 362/512: \n",
      "Train Loss = 0.37508, Train MSE = 0.60711, Train MAE = 0.57047, Train Acc = 0.83242\n",
      "Val Loss = 0.39953, Val MSE = 0.64529, Val MAE = 0.59837, Val Acc = 0.80677\n"
     ]
    },
    {
     "name": "stderr",
     "output_type": "stream",
     "text": [
      "Epoch 363/512: 100%|██████████████████████████████████████████████████████████████████████| 63/63 [00:03<00:00, 20.96it/s]\n"
     ]
    },
    {
     "name": "stdout",
     "output_type": "stream",
     "text": [
      "Epoch 363/512: \n",
      "Train Loss = 0.36948, Train MSE = 0.59085, Train MAE = 0.56593, Train Acc = 0.84338\n",
      "Val Loss = 0.39956, Val MSE = 0.64541, Val MAE = 0.59840, Val Acc = 0.80677\n"
     ]
    },
    {
     "name": "stderr",
     "output_type": "stream",
     "text": [
      "Epoch 364/512: 100%|██████████████████████████████████████████████████████████████████████| 63/63 [00:02<00:00, 21.26it/s]\n"
     ]
    },
    {
     "name": "stdout",
     "output_type": "stream",
     "text": [
      "Epoch 364/512: \n",
      "Train Loss = 0.37015, Train MSE = 0.59343, Train MAE = 0.56713, Train Acc = 0.83391\n",
      "Val Loss = 0.39958, Val MSE = 0.64547, Val MAE = 0.59842, Val Acc = 0.80677\n"
     ]
    },
    {
     "name": "stderr",
     "output_type": "stream",
     "text": [
      "Epoch 365/512: 100%|██████████████████████████████████████████████████████████████████████| 63/63 [00:03<00:00, 20.84it/s]\n"
     ]
    },
    {
     "name": "stdout",
     "output_type": "stream",
     "text": [
      "Epoch 365/512: \n",
      "Train Loss = 0.37499, Train MSE = 0.60476, Train MAE = 0.57132, Train Acc = 0.83093\n",
      "Val Loss = 0.39956, Val MSE = 0.64545, Val MAE = 0.59841, Val Acc = 0.80677\n"
     ]
    },
    {
     "name": "stderr",
     "output_type": "stream",
     "text": [
      "Epoch 366/512: 100%|██████████████████████████████████████████████████████████████████████| 63/63 [00:02<00:00, 21.30it/s]\n"
     ]
    },
    {
     "name": "stdout",
     "output_type": "stream",
     "text": [
      "Epoch 366/512: \n",
      "Train Loss = 0.36095, Train MSE = 0.57225, Train MAE = 0.55726, Train Acc = 0.84537\n",
      "Val Loss = 0.39958, Val MSE = 0.64548, Val MAE = 0.59842, Val Acc = 0.80677\n"
     ]
    },
    {
     "name": "stderr",
     "output_type": "stream",
     "text": [
      "Epoch 367/512: 100%|██████████████████████████████████████████████████████████████████████| 63/63 [00:02<00:00, 21.27it/s]\n"
     ]
    },
    {
     "name": "stdout",
     "output_type": "stream",
     "text": [
      "Epoch 367/512: \n",
      "Train Loss = 0.37876, Train MSE = 0.60999, Train MAE = 0.57693, Train Acc = 0.83118\n",
      "Val Loss = 0.39959, Val MSE = 0.64553, Val MAE = 0.59843, Val Acc = 0.80677\n"
     ]
    },
    {
     "name": "stderr",
     "output_type": "stream",
     "text": [
      "Epoch 368/512: 100%|██████████████████████████████████████████████████████████████████████| 63/63 [00:02<00:00, 21.34it/s]\n"
     ]
    },
    {
     "name": "stdout",
     "output_type": "stream",
     "text": [
      "Epoch 368/512: \n",
      "Train Loss = 0.36505, Train MSE = 0.58541, Train MAE = 0.55986, Train Acc = 0.84238\n",
      "Val Loss = 0.39959, Val MSE = 0.64549, Val MAE = 0.59843, Val Acc = 0.80677\n"
     ]
    },
    {
     "name": "stderr",
     "output_type": "stream",
     "text": [
      "Epoch 369/512: 100%|██████████████████████████████████████████████████████████████████████| 63/63 [00:02<00:00, 21.01it/s]\n"
     ]
    },
    {
     "name": "stdout",
     "output_type": "stream",
     "text": [
      "Epoch 369/512: \n",
      "Train Loss = 0.38109, Train MSE = 0.62042, Train MAE = 0.57913, Train Acc = 0.82744\n",
      "Val Loss = 0.39957, Val MSE = 0.64544, Val MAE = 0.59841, Val Acc = 0.80677\n"
     ]
    },
    {
     "name": "stderr",
     "output_type": "stream",
     "text": [
      "Epoch 370/512: 100%|██████████████████████████████████████████████████████████████████████| 63/63 [00:02<00:00, 21.29it/s]\n"
     ]
    },
    {
     "name": "stdout",
     "output_type": "stream",
     "text": [
      "Epoch 370/512: \n",
      "Train Loss = 0.37210, Train MSE = 0.59740, Train MAE = 0.56992, Train Acc = 0.83591\n",
      "Val Loss = 0.39956, Val MSE = 0.64542, Val MAE = 0.59840, Val Acc = 0.80677\n"
     ]
    },
    {
     "name": "stderr",
     "output_type": "stream",
     "text": [
      "Epoch 371/512: 100%|██████████████████████████████████████████████████████████████████████| 63/63 [00:02<00:00, 21.30it/s]\n"
     ]
    },
    {
     "name": "stdout",
     "output_type": "stream",
     "text": [
      "Epoch 371/512: \n",
      "Train Loss = 0.36927, Train MSE = 0.59070, Train MAE = 0.56662, Train Acc = 0.83815\n",
      "Val Loss = 0.39952, Val MSE = 0.64530, Val MAE = 0.59837, Val Acc = 0.80677\n"
     ]
    },
    {
     "name": "stderr",
     "output_type": "stream",
     "text": [
      "Epoch 372/512: 100%|██████████████████████████████████████████████████████████████████████| 63/63 [00:02<00:00, 21.38it/s]\n"
     ]
    },
    {
     "name": "stdout",
     "output_type": "stream",
     "text": [
      "Epoch 372/512: \n",
      "Train Loss = 0.37092, Train MSE = 0.59093, Train MAE = 0.56606, Train Acc = 0.83640\n",
      "Val Loss = 0.39950, Val MSE = 0.64522, Val MAE = 0.59835, Val Acc = 0.80677\n"
     ]
    },
    {
     "name": "stderr",
     "output_type": "stream",
     "text": [
      "Epoch 373/512: 100%|██████████████████████████████████████████████████████████████████████| 63/63 [00:02<00:00, 21.22it/s]\n"
     ]
    },
    {
     "name": "stdout",
     "output_type": "stream",
     "text": [
      "Epoch 373/512: \n",
      "Train Loss = 0.37522, Train MSE = 0.60911, Train MAE = 0.57301, Train Acc = 0.83740\n",
      "Val Loss = 0.39949, Val MSE = 0.64519, Val MAE = 0.59833, Val Acc = 0.80677\n"
     ]
    },
    {
     "name": "stderr",
     "output_type": "stream",
     "text": [
      "Epoch 374/512: 100%|██████████████████████████████████████████████████████████████████████| 63/63 [00:02<00:00, 21.09it/s]\n"
     ]
    },
    {
     "name": "stdout",
     "output_type": "stream",
     "text": [
      "Epoch 374/512: \n",
      "Train Loss = 0.36450, Train MSE = 0.58356, Train MAE = 0.56105, Train Acc = 0.84512\n",
      "Val Loss = 0.39948, Val MSE = 0.64516, Val MAE = 0.59833, Val Acc = 0.80677\n"
     ]
    },
    {
     "name": "stderr",
     "output_type": "stream",
     "text": [
      "Epoch 375/512: 100%|██████████████████████████████████████████████████████████████████████| 63/63 [00:02<00:00, 21.10it/s]\n"
     ]
    },
    {
     "name": "stdout",
     "output_type": "stream",
     "text": [
      "Epoch 375/512: \n",
      "Train Loss = 0.37183, Train MSE = 0.58777, Train MAE = 0.56896, Train Acc = 0.84114\n",
      "Val Loss = 0.39952, Val MSE = 0.64529, Val MAE = 0.59836, Val Acc = 0.80677\n"
     ]
    },
    {
     "name": "stderr",
     "output_type": "stream",
     "text": [
      "Epoch 376/512: 100%|██████████████████████████████████████████████████████████████████████| 63/63 [00:02<00:00, 21.12it/s]\n"
     ]
    },
    {
     "name": "stdout",
     "output_type": "stream",
     "text": [
      "Epoch 376/512: \n",
      "Train Loss = 0.37419, Train MSE = 0.60437, Train MAE = 0.57035, Train Acc = 0.83815\n",
      "Val Loss = 0.39956, Val MSE = 0.64540, Val MAE = 0.59840, Val Acc = 0.80677\n"
     ]
    },
    {
     "name": "stderr",
     "output_type": "stream",
     "text": [
      "Epoch 377/512: 100%|██████████████████████████████████████████████████████████████████████| 63/63 [00:02<00:00, 21.26it/s]\n"
     ]
    },
    {
     "name": "stdout",
     "output_type": "stream",
     "text": [
      "Epoch 377/512: \n",
      "Train Loss = 0.36591, Train MSE = 0.58160, Train MAE = 0.56208, Train Acc = 0.83939\n",
      "Val Loss = 0.39956, Val MSE = 0.64539, Val MAE = 0.59840, Val Acc = 0.80677\n"
     ]
    },
    {
     "name": "stderr",
     "output_type": "stream",
     "text": [
      "Epoch 378/512: 100%|██████████████████████████████████████████████████████████████████████| 63/63 [00:02<00:00, 21.30it/s]\n"
     ]
    },
    {
     "name": "stdout",
     "output_type": "stream",
     "text": [
      "Epoch 378/512: \n",
      "Train Loss = 0.37093, Train MSE = 0.59153, Train MAE = 0.56877, Train Acc = 0.84014\n",
      "Val Loss = 0.39956, Val MSE = 0.64542, Val MAE = 0.59841, Val Acc = 0.80677\n"
     ]
    },
    {
     "name": "stderr",
     "output_type": "stream",
     "text": [
      "Epoch 379/512: 100%|██████████████████████████████████████████████████████████████████████| 63/63 [00:02<00:00, 21.34it/s]\n"
     ]
    },
    {
     "name": "stdout",
     "output_type": "stream",
     "text": [
      "Epoch 379/512: \n",
      "Train Loss = 0.37652, Train MSE = 0.60686, Train MAE = 0.57259, Train Acc = 0.82719\n",
      "Val Loss = 0.39956, Val MSE = 0.64540, Val MAE = 0.59841, Val Acc = 0.80677\n"
     ]
    },
    {
     "name": "stderr",
     "output_type": "stream",
     "text": [
      "Epoch 380/512: 100%|██████████████████████████████████████████████████████████████████████| 63/63 [00:02<00:00, 21.13it/s]\n"
     ]
    },
    {
     "name": "stdout",
     "output_type": "stream",
     "text": [
      "Epoch 380/512: \n",
      "Train Loss = 0.37405, Train MSE = 0.60121, Train MAE = 0.57004, Train Acc = 0.83317\n",
      "Val Loss = 0.39958, Val MSE = 0.64545, Val MAE = 0.59843, Val Acc = 0.80677\n"
     ]
    },
    {
     "name": "stderr",
     "output_type": "stream",
     "text": [
      "Epoch 381/512: 100%|██████████████████████████████████████████████████████████████████████| 63/63 [00:02<00:00, 21.44it/s]\n"
     ]
    },
    {
     "name": "stdout",
     "output_type": "stream",
     "text": [
      "Epoch 381/512: \n",
      "Train Loss = 0.37737, Train MSE = 0.60939, Train MAE = 0.57358, Train Acc = 0.82869\n",
      "Val Loss = 0.39960, Val MSE = 0.64551, Val MAE = 0.59845, Val Acc = 0.80876\n"
     ]
    },
    {
     "name": "stderr",
     "output_type": "stream",
     "text": [
      "Epoch 382/512: 100%|██████████████████████████████████████████████████████████████████████| 63/63 [00:02<00:00, 21.13it/s]\n"
     ]
    },
    {
     "name": "stdout",
     "output_type": "stream",
     "text": [
      "Epoch 382/512: \n",
      "Train Loss = 0.36337, Train MSE = 0.57330, Train MAE = 0.55955, Train Acc = 0.84437\n",
      "Val Loss = 0.39959, Val MSE = 0.64550, Val MAE = 0.59844, Val Acc = 0.80677\n"
     ]
    },
    {
     "name": "stderr",
     "output_type": "stream",
     "text": [
      "Epoch 383/512: 100%|██████████████████████████████████████████████████████████████████████| 63/63 [00:02<00:00, 21.53it/s]\n"
     ]
    },
    {
     "name": "stdout",
     "output_type": "stream",
     "text": [
      "Epoch 383/512: \n",
      "Train Loss = 0.37320, Train MSE = 0.59627, Train MAE = 0.56844, Train Acc = 0.83242\n",
      "Val Loss = 0.39961, Val MSE = 0.64554, Val MAE = 0.59846, Val Acc = 0.80677\n"
     ]
    },
    {
     "name": "stderr",
     "output_type": "stream",
     "text": [
      "Epoch 384/512: 100%|██████████████████████████████████████████████████████████████████████| 63/63 [00:02<00:00, 21.05it/s]\n"
     ]
    },
    {
     "name": "stdout",
     "output_type": "stream",
     "text": [
      "Epoch 384/512: \n",
      "Train Loss = 0.36331, Train MSE = 0.57551, Train MAE = 0.56001, Train Acc = 0.84114\n",
      "Val Loss = 0.39960, Val MSE = 0.64552, Val MAE = 0.59846, Val Acc = 0.80677\n"
     ]
    },
    {
     "name": "stderr",
     "output_type": "stream",
     "text": [
      "Epoch 385/512: 100%|██████████████████████████████████████████████████████████████████████| 63/63 [00:02<00:00, 21.34it/s]\n"
     ]
    },
    {
     "name": "stdout",
     "output_type": "stream",
     "text": [
      "Epoch 385/512: \n",
      "Train Loss = 0.35958, Train MSE = 0.57180, Train MAE = 0.55506, Train Acc = 0.84487\n",
      "Val Loss = 0.39961, Val MSE = 0.64555, Val MAE = 0.59847, Val Acc = 0.80677\n"
     ]
    },
    {
     "name": "stderr",
     "output_type": "stream",
     "text": [
      "Epoch 386/512: 100%|██████████████████████████████████████████████████████████████████████| 63/63 [00:02<00:00, 21.20it/s]\n"
     ]
    },
    {
     "name": "stdout",
     "output_type": "stream",
     "text": [
      "Epoch 386/512: \n",
      "Train Loss = 0.37272, Train MSE = 0.59831, Train MAE = 0.56894, Train Acc = 0.83516\n",
      "Val Loss = 0.39962, Val MSE = 0.64555, Val MAE = 0.59847, Val Acc = 0.80677\n"
     ]
    },
    {
     "name": "stderr",
     "output_type": "stream",
     "text": [
      "Epoch 387/512: 100%|██████████████████████████████████████████████████████████████████████| 63/63 [00:02<00:00, 21.31it/s]\n"
     ]
    },
    {
     "name": "stdout",
     "output_type": "stream",
     "text": [
      "Epoch 387/512: \n",
      "Train Loss = 0.37137, Train MSE = 0.59562, Train MAE = 0.56876, Train Acc = 0.83690\n",
      "Val Loss = 0.39964, Val MSE = 0.64560, Val MAE = 0.59849, Val Acc = 0.80677\n"
     ]
    },
    {
     "name": "stderr",
     "output_type": "stream",
     "text": [
      "Epoch 388/512: 100%|██████████████████████████████████████████████████████████████████████| 63/63 [00:02<00:00, 21.44it/s]\n"
     ]
    },
    {
     "name": "stdout",
     "output_type": "stream",
     "text": [
      "Epoch 388/512: \n",
      "Train Loss = 0.37186, Train MSE = 0.60183, Train MAE = 0.56810, Train Acc = 0.83491\n",
      "Val Loss = 0.39964, Val MSE = 0.64561, Val MAE = 0.59849, Val Acc = 0.80677\n"
     ]
    },
    {
     "name": "stderr",
     "output_type": "stream",
     "text": [
      "Epoch 389/512: 100%|██████████████████████████████████████████████████████████████████████| 63/63 [00:02<00:00, 21.38it/s]\n"
     ]
    },
    {
     "name": "stdout",
     "output_type": "stream",
     "text": [
      "Epoch 389/512: \n",
      "Train Loss = 0.37597, Train MSE = 0.60667, Train MAE = 0.57455, Train Acc = 0.83790\n",
      "Val Loss = 0.39964, Val MSE = 0.64561, Val MAE = 0.59849, Val Acc = 0.80677\n"
     ]
    },
    {
     "name": "stderr",
     "output_type": "stream",
     "text": [
      "Epoch 390/512: 100%|██████████████████████████████████████████████████████████████████████| 63/63 [00:02<00:00, 21.40it/s]\n"
     ]
    },
    {
     "name": "stdout",
     "output_type": "stream",
     "text": [
      "Epoch 390/512: \n",
      "Train Loss = 0.37369, Train MSE = 0.60167, Train MAE = 0.57093, Train Acc = 0.83640\n",
      "Val Loss = 0.39964, Val MSE = 0.64562, Val MAE = 0.59850, Val Acc = 0.80677\n"
     ]
    },
    {
     "name": "stderr",
     "output_type": "stream",
     "text": [
      "Epoch 391/512: 100%|██████████████████████████████████████████████████████████████████████| 63/63 [00:02<00:00, 21.02it/s]\n"
     ]
    },
    {
     "name": "stdout",
     "output_type": "stream",
     "text": [
      "Epoch 391/512: \n",
      "Train Loss = 0.36892, Train MSE = 0.58874, Train MAE = 0.56633, Train Acc = 0.84238\n",
      "Val Loss = 0.39961, Val MSE = 0.64554, Val MAE = 0.59847, Val Acc = 0.80677\n"
     ]
    },
    {
     "name": "stderr",
     "output_type": "stream",
     "text": [
      "Epoch 392/512: 100%|██████████████████████████████████████████████████████████████████████| 63/63 [00:02<00:00, 21.17it/s]\n"
     ]
    },
    {
     "name": "stdout",
     "output_type": "stream",
     "text": [
      "Epoch 392/512: \n",
      "Train Loss = 0.37791, Train MSE = 0.61342, Train MAE = 0.57419, Train Acc = 0.83516\n",
      "Val Loss = 0.39964, Val MSE = 0.64560, Val MAE = 0.59850, Val Acc = 0.80876\n"
     ]
    },
    {
     "name": "stderr",
     "output_type": "stream",
     "text": [
      "Epoch 393/512: 100%|██████████████████████████████████████████████████████████████████████| 63/63 [00:02<00:00, 21.36it/s]\n"
     ]
    },
    {
     "name": "stdout",
     "output_type": "stream",
     "text": [
      "Epoch 393/512: \n",
      "Train Loss = 0.36958, Train MSE = 0.59391, Train MAE = 0.56545, Train Acc = 0.83914\n",
      "Val Loss = 0.39964, Val MSE = 0.64561, Val MAE = 0.59849, Val Acc = 0.80677\n"
     ]
    },
    {
     "name": "stderr",
     "output_type": "stream",
     "text": [
      "Epoch 394/512: 100%|██████████████████████████████████████████████████████████████████████| 63/63 [00:02<00:00, 21.45it/s]\n"
     ]
    },
    {
     "name": "stdout",
     "output_type": "stream",
     "text": [
      "Epoch 394/512: \n",
      "Train Loss = 0.37468, Train MSE = 0.60124, Train MAE = 0.57085, Train Acc = 0.83317\n",
      "Val Loss = 0.39964, Val MSE = 0.64562, Val MAE = 0.59850, Val Acc = 0.80677\n"
     ]
    },
    {
     "name": "stderr",
     "output_type": "stream",
     "text": [
      "Epoch 395/512: 100%|██████████████████████████████████████████████████████████████████████| 63/63 [00:02<00:00, 21.49it/s]\n"
     ]
    },
    {
     "name": "stdout",
     "output_type": "stream",
     "text": [
      "Epoch 395/512: \n",
      "Train Loss = 0.36349, Train MSE = 0.58198, Train MAE = 0.55965, Train Acc = 0.83989\n",
      "Val Loss = 0.39962, Val MSE = 0.64555, Val MAE = 0.59848, Val Acc = 0.80677\n"
     ]
    },
    {
     "name": "stderr",
     "output_type": "stream",
     "text": [
      "Epoch 396/512: 100%|██████████████████████████████████████████████████████████████████████| 63/63 [00:02<00:00, 21.52it/s]\n"
     ]
    },
    {
     "name": "stdout",
     "output_type": "stream",
     "text": [
      "Epoch 396/512: \n",
      "Train Loss = 0.37039, Train MSE = 0.59478, Train MAE = 0.56644, Train Acc = 0.83640\n",
      "Val Loss = 0.39961, Val MSE = 0.64550, Val MAE = 0.59847, Val Acc = 0.80677\n"
     ]
    },
    {
     "name": "stderr",
     "output_type": "stream",
     "text": [
      "Epoch 397/512: 100%|██████████████████████████████████████████████████████████████████████| 63/63 [00:02<00:00, 21.53it/s]\n"
     ]
    },
    {
     "name": "stdout",
     "output_type": "stream",
     "text": [
      "Epoch 397/512: \n",
      "Train Loss = 0.36871, Train MSE = 0.59124, Train MAE = 0.56455, Train Acc = 0.83466\n",
      "Val Loss = 0.39961, Val MSE = 0.64551, Val MAE = 0.59847, Val Acc = 0.80677\n"
     ]
    },
    {
     "name": "stderr",
     "output_type": "stream",
     "text": [
      "Epoch 398/512: 100%|██████████████████████████████████████████████████████████████████████| 63/63 [00:02<00:00, 21.24it/s]\n"
     ]
    },
    {
     "name": "stdout",
     "output_type": "stream",
     "text": [
      "Epoch 398/512: \n",
      "Train Loss = 0.36501, Train MSE = 0.58793, Train MAE = 0.55994, Train Acc = 0.83914\n",
      "Val Loss = 0.39962, Val MSE = 0.64554, Val MAE = 0.59848, Val Acc = 0.80677\n"
     ]
    },
    {
     "name": "stderr",
     "output_type": "stream",
     "text": [
      "Epoch 399/512: 100%|██████████████████████████████████████████████████████████████████████| 63/63 [00:02<00:00, 21.29it/s]\n"
     ]
    },
    {
     "name": "stdout",
     "output_type": "stream",
     "text": [
      "Epoch 399/512: \n",
      "Train Loss = 0.37420, Train MSE = 0.60453, Train MAE = 0.57097, Train Acc = 0.83342\n",
      "Val Loss = 0.39962, Val MSE = 0.64556, Val MAE = 0.59849, Val Acc = 0.80677\n"
     ]
    },
    {
     "name": "stderr",
     "output_type": "stream",
     "text": [
      "Epoch 400/512: 100%|██████████████████████████████████████████████████████████████████████| 63/63 [00:02<00:00, 21.38it/s]\n"
     ]
    },
    {
     "name": "stdout",
     "output_type": "stream",
     "text": [
      "Epoch 400/512: \n",
      "Train Loss = 0.37760, Train MSE = 0.60371, Train MAE = 0.57645, Train Acc = 0.83790\n",
      "Val Loss = 0.39963, Val MSE = 0.64558, Val MAE = 0.59850, Val Acc = 0.80677\n"
     ]
    },
    {
     "name": "stderr",
     "output_type": "stream",
     "text": [
      "Epoch 401/512: 100%|██████████████████████████████████████████████████████████████████████| 63/63 [00:02<00:00, 21.02it/s]\n"
     ]
    },
    {
     "name": "stdout",
     "output_type": "stream",
     "text": [
      "Epoch 401/512: \n",
      "Train Loss = 0.38068, Train MSE = 0.61828, Train MAE = 0.57872, Train Acc = 0.82570\n",
      "Val Loss = 0.39962, Val MSE = 0.64557, Val MAE = 0.59849, Val Acc = 0.80876\n"
     ]
    },
    {
     "name": "stderr",
     "output_type": "stream",
     "text": [
      "Epoch 402/512: 100%|██████████████████████████████████████████████████████████████████████| 63/63 [00:02<00:00, 21.28it/s]\n"
     ]
    },
    {
     "name": "stdout",
     "output_type": "stream",
     "text": [
      "Epoch 402/512: \n",
      "Train Loss = 0.36818, Train MSE = 0.59234, Train MAE = 0.56274, Train Acc = 0.83342\n",
      "Val Loss = 0.39963, Val MSE = 0.64558, Val MAE = 0.59850, Val Acc = 0.80677\n"
     ]
    },
    {
     "name": "stderr",
     "output_type": "stream",
     "text": [
      "Epoch 403/512: 100%|██████████████████████████████████████████████████████████████████████| 63/63 [00:02<00:00, 21.20it/s]\n"
     ]
    },
    {
     "name": "stdout",
     "output_type": "stream",
     "text": [
      "Epoch 403/512: \n",
      "Train Loss = 0.36998, Train MSE = 0.59699, Train MAE = 0.56616, Train Acc = 0.84238\n",
      "Val Loss = 0.39963, Val MSE = 0.64559, Val MAE = 0.59850, Val Acc = 0.80876\n"
     ]
    },
    {
     "name": "stderr",
     "output_type": "stream",
     "text": [
      "Epoch 404/512: 100%|██████████████████████████████████████████████████████████████████████| 63/63 [00:03<00:00, 20.99it/s]\n"
     ]
    },
    {
     "name": "stdout",
     "output_type": "stream",
     "text": [
      "Epoch 404/512: \n",
      "Train Loss = 0.36853, Train MSE = 0.59515, Train MAE = 0.56404, Train Acc = 0.84039\n",
      "Val Loss = 0.39965, Val MSE = 0.64564, Val MAE = 0.59851, Val Acc = 0.80876\n"
     ]
    },
    {
     "name": "stderr",
     "output_type": "stream",
     "text": [
      "Epoch 405/512: 100%|██████████████████████████████████████████████████████████████████████| 63/63 [00:02<00:00, 21.10it/s]\n"
     ]
    },
    {
     "name": "stdout",
     "output_type": "stream",
     "text": [
      "Epoch 405/512: \n",
      "Train Loss = 0.37761, Train MSE = 0.61504, Train MAE = 0.57375, Train Acc = 0.82993\n",
      "Val Loss = 0.39965, Val MSE = 0.64564, Val MAE = 0.59852, Val Acc = 0.80876\n"
     ]
    },
    {
     "name": "stderr",
     "output_type": "stream",
     "text": [
      "Epoch 406/512: 100%|██████████████████████████████████████████████████████████████████████| 63/63 [00:02<00:00, 21.24it/s]\n"
     ]
    },
    {
     "name": "stdout",
     "output_type": "stream",
     "text": [
      "Epoch 406/512: \n",
      "Train Loss = 0.36675, Train MSE = 0.58634, Train MAE = 0.56260, Train Acc = 0.84064\n",
      "Val Loss = 0.39963, Val MSE = 0.64560, Val MAE = 0.59851, Val Acc = 0.80876\n"
     ]
    },
    {
     "name": "stderr",
     "output_type": "stream",
     "text": [
      "Epoch 407/512: 100%|██████████████████████████████████████████████████████████████████████| 63/63 [00:02<00:00, 21.37it/s]\n"
     ]
    },
    {
     "name": "stdout",
     "output_type": "stream",
     "text": [
      "Epoch 407/512: \n",
      "Train Loss = 0.37440, Train MSE = 0.59962, Train MAE = 0.57130, Train Acc = 0.82968\n",
      "Val Loss = 0.39962, Val MSE = 0.64557, Val MAE = 0.59849, Val Acc = 0.80876\n"
     ]
    },
    {
     "name": "stderr",
     "output_type": "stream",
     "text": [
      "Epoch 408/512: 100%|██████████████████████████████████████████████████████████████████████| 63/63 [00:02<00:00, 21.27it/s]\n"
     ]
    },
    {
     "name": "stdout",
     "output_type": "stream",
     "text": [
      "Epoch 408/512: \n",
      "Train Loss = 0.36867, Train MSE = 0.58620, Train MAE = 0.56598, Train Acc = 0.83665\n",
      "Val Loss = 0.39963, Val MSE = 0.64559, Val MAE = 0.59850, Val Acc = 0.80876\n"
     ]
    },
    {
     "name": "stderr",
     "output_type": "stream",
     "text": [
      "Epoch 409/512: 100%|██████████████████████████████████████████████████████████████████████| 63/63 [00:02<00:00, 21.54it/s]\n"
     ]
    },
    {
     "name": "stdout",
     "output_type": "stream",
     "text": [
      "Epoch 409/512: \n",
      "Train Loss = 0.37011, Train MSE = 0.59216, Train MAE = 0.56737, Train Acc = 0.83491\n",
      "Val Loss = 0.39963, Val MSE = 0.64559, Val MAE = 0.59850, Val Acc = 0.80876\n"
     ]
    },
    {
     "name": "stderr",
     "output_type": "stream",
     "text": [
      "Epoch 410/512: 100%|██████████████████████████████████████████████████████████████████████| 63/63 [00:03<00:00, 20.87it/s]\n"
     ]
    },
    {
     "name": "stdout",
     "output_type": "stream",
     "text": [
      "Epoch 410/512: \n",
      "Train Loss = 0.37322, Train MSE = 0.60523, Train MAE = 0.56976, Train Acc = 0.83292\n",
      "Val Loss = 0.39963, Val MSE = 0.64559, Val MAE = 0.59850, Val Acc = 0.80876\n"
     ]
    },
    {
     "name": "stderr",
     "output_type": "stream",
     "text": [
      "Epoch 411/512: 100%|██████████████████████████████████████████████████████████████████████| 63/63 [00:02<00:00, 21.04it/s]\n"
     ]
    },
    {
     "name": "stdout",
     "output_type": "stream",
     "text": [
      "Epoch 411/512: \n",
      "Train Loss = 0.37568, Train MSE = 0.60748, Train MAE = 0.57183, Train Acc = 0.83441\n",
      "Val Loss = 0.39963, Val MSE = 0.64559, Val MAE = 0.59850, Val Acc = 0.80876\n"
     ]
    },
    {
     "name": "stderr",
     "output_type": "stream",
     "text": [
      "Epoch 412/512: 100%|██████████████████████████████████████████████████████████████████████| 63/63 [00:03<00:00, 20.79it/s]\n"
     ]
    },
    {
     "name": "stdout",
     "output_type": "stream",
     "text": [
      "Epoch 412/512: \n",
      "Train Loss = 0.36783, Train MSE = 0.58939, Train MAE = 0.56325, Train Acc = 0.83740\n",
      "Val Loss = 0.39963, Val MSE = 0.64559, Val MAE = 0.59850, Val Acc = 0.80677\n"
     ]
    },
    {
     "data": {
      "image/png": "[encoded data removed]",
      "text/plain": [
       "<Figure size 1500x700 with 2 Axes>"
      ]
     },
     "metadata": {},
     "output_type": "display_data"
    }
   ],
   "source": [
    "import argparse\n",
    "\n",
    "training_args = argparse.Namespace(**args)\n",
    "train_model(training_args, device)"
   ]
  },
  {
   "cell_type": "code",
   "execution_count": null,
   "metadata": {},
   "outputs": [],
   "source": []
  }
 ],
 "metadata": {
  "kernelspec": {
   "display_name": "Python (myenv)",
   "language": "python",
   "name": "myenv"
  },
  "language_info": {
   "codemirror_mode": {
    "name": "ipython",
    "version": 3
   },
   "file_extension": ".py",
   "mimetype": "text/x-python",
   "name": "python",
   "nbconvert_exporter": "python",
   "pygments_lexer": "ipython3",
   "version": "3.12.7"
  }
 },
 "nbformat": 4,
 "nbformat_minor": 4
}
