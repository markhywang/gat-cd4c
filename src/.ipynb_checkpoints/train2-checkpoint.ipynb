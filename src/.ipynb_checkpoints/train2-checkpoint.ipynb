{
 "cells": [
  {
   "cell_type": "code",
   "execution_count": 1,
   "metadata": {},
   "outputs": [],
   "source": [
    "# Copy of train.ipynb (run on GPU 1)"
   ]
  },
  {
   "cell_type": "code",
   "execution_count": 2,
   "metadata": {},
   "outputs": [
    {
     "name": "stdout",
     "output_type": "stream",
     "text": [
      "Using device: cpu\n"
     ]
    }
   ],
   "source": [
    "import torch\n",
    "\n",
    "# Local imports\n",
    "from train import train_model"
   ]
  },
  {
   "cell_type": "code",
   "execution_count": 3,
   "metadata": {},
   "outputs": [
    {
     "name": "stdout",
     "output_type": "stream",
     "text": [
      "Using device: cuda:1\n"
     ]
    }
   ],
   "source": [
    "if torch.backends.mps.is_available():\n",
    "    device = torch.device(\"mps\")\n",
    "elif torch.cuda.is_available():\n",
    "    device = torch.device(\"cuda:1\")\n",
    "else:\n",
    "    device = torch.device(\"cpu\")\n",
    "\n",
    "print(f\"Using device: {device}\")"
   ]
  },
  {
   "cell_type": "code",
   "execution_count": 4,
   "metadata": {},
   "outputs": [],
   "source": [
    "args = {\n",
    "    \"use_small_dataset\": False,\n",
    "    \"batch_size\": 64,\n",
    "    \"stoppage_epochs\": 42,\n",
    "    \"max_epochs\": 512,\n",
    "    \"seed\": 42,\n",
    "    \"data_path\": \"../data\",\n",
    "    \"frac_train\": 0.8,\n",
    "    \"frac_validation\": 0.1,\n",
    "    \"frac_test\": 0.1,\n",
    "    \"huber_beta\": 1.0,\n",
    "    \"weight_decay\": 1e-3,\n",
    "    \"lr\": 3e-4,\n",
    "    \"scheduler_patience\": 10,\n",
    "    \"scheduler_factor\": 0.5,\n",
    "    \"hidden_size\": 96,\n",
    "    \"num_layers\": 7,\n",
    "    \"num_attn_heads\": 6,\n",
    "    \"dropout\": 0.2,\n",
    "    \"leaky_relu_slope\": 0.2,\n",
    "    \"pooling_dim\": 96,\n",
    "}"
   ]
  },
  {
   "cell_type": "code",
   "execution_count": null,
   "metadata": {},
   "outputs": [
    {
     "name": "stdout",
     "output_type": "stream",
     "text": [
      "Model parameters: 182714\n"
     ]
    },
    {
     "name": "stderr",
     "output_type": "stream",
     "text": [
      "Epoch 1/512: 100%|██████████████████████████████████████████████████████████████████████| 910/910 [02:35<00:00,  5.86it/s]\n"
     ]
    },
    {
     "name": "stdout",
     "output_type": "stream",
     "text": [
      "Epoch 1/512: \n",
      "Train Loss = 0.71958, Train MSE = 1.35435, Train MAE = 0.94275, Train Acc = 0.59327\n",
      "Val Loss = 0.71184, Val MSE = 1.32551, Val MAE = 0.93541, Val Acc = 0.60008\n"
     ]
    },
    {
     "name": "stderr",
     "output_type": "stream",
     "text": [
      "Epoch 2/512: 100%|██████████████████████████████████████████████████████████████████████| 910/910 [00:44<00:00, 20.63it/s]\n"
     ]
    },
    {
     "name": "stdout",
     "output_type": "stream",
     "text": [
      "Epoch 2/512: \n",
      "Train Loss = 0.71015, Train MSE = 1.32622, Train MAE = 0.93297, Train Acc = 0.59699\n",
      "Val Loss = 0.70549, Val MSE = 1.30830, Val MAE = 0.92837, Val Acc = 0.60201\n"
     ]
    },
    {
     "name": "stderr",
     "output_type": "stream",
     "text": [
      "Epoch 3/512: 100%|██████████████████████████████████████████████████████████████████████| 910/910 [00:44<00:00, 20.32it/s]\n"
     ]
    },
    {
     "name": "stdout",
     "output_type": "stream",
     "text": [
      "Epoch 3/512: \n",
      "Train Loss = 0.69376, Train MSE = 1.28384, Train MAE = 0.91585, Train Acc = 0.60831\n",
      "Val Loss = 0.69495, Val MSE = 1.29084, Val MAE = 0.91676, Val Acc = 0.60833\n"
     ]
    },
    {
     "name": "stderr",
     "output_type": "stream",
     "text": [
      "Epoch 4/512: 100%|██████████████████████████████████████████████████████████████████████| 910/910 [00:44<00:00, 20.32it/s]\n"
     ]
    },
    {
     "name": "stdout",
     "output_type": "stream",
     "text": [
      "Epoch 4/512: \n",
      "Train Loss = 0.68034, Train MSE = 1.25072, Train MAE = 0.90160, Train Acc = 0.61608\n",
      "Val Loss = 0.66788, Val MSE = 1.22103, Val MAE = 0.88880, Val Acc = 0.62428\n"
     ]
    },
    {
     "name": "stderr",
     "output_type": "stream",
     "text": [
      "Epoch 5/512: 100%|██████████████████████████████████████████████████████████████████████| 910/910 [00:44<00:00, 20.34it/s]\n"
     ]
    },
    {
     "name": "stdout",
     "output_type": "stream",
     "text": [
      "Epoch 5/512: \n",
      "Train Loss = 0.66849, Train MSE = 1.22354, Train MAE = 0.88920, Train Acc = 0.62371\n",
      "Val Loss = 0.64941, Val MSE = 1.18305, Val MAE = 0.86881, Val Acc = 0.63610\n"
     ]
    },
    {
     "name": "stderr",
     "output_type": "stream",
     "text": [
      "Epoch 6/512: 100%|██████████████████████████████████████████████████████████████████████| 910/910 [00:44<00:00, 20.32it/s]\n"
     ]
    },
    {
     "name": "stdout",
     "output_type": "stream",
     "text": [
      "Epoch 6/512: \n",
      "Train Loss = 0.65863, Train MSE = 1.20110, Train MAE = 0.87875, Train Acc = 0.63127\n",
      "Val Loss = 0.65110, Val MSE = 1.17808, Val MAE = 0.87136, Val Acc = 0.63363\n"
     ]
    },
    {
     "name": "stderr",
     "output_type": "stream",
     "text": [
      "Epoch 7/512: 100%|██████████████████████████████████████████████████████████████████████| 910/910 [00:44<00:00, 20.34it/s]\n"
     ]
    },
    {
     "name": "stdout",
     "output_type": "stream",
     "text": [
      "Epoch 7/512: \n",
      "Train Loss = 0.64840, Train MSE = 1.17712, Train MAE = 0.86809, Train Acc = 0.63954\n",
      "Val Loss = 0.63521, Val MSE = 1.15547, Val MAE = 0.85454, Val Acc = 0.65109\n"
     ]
    },
    {
     "name": "stderr",
     "output_type": "stream",
     "text": [
      "Epoch 8/512: 100%|██████████████████████████████████████████████████████████████████████| 910/910 [00:44<00:00, 20.36it/s]\n"
     ]
    },
    {
     "name": "stdout",
     "output_type": "stream",
     "text": [
      "Epoch 8/512: \n",
      "Train Loss = 0.63804, Train MSE = 1.15553, Train MAE = 0.85714, Train Acc = 0.64648\n",
      "Val Loss = 0.62675, Val MSE = 1.13656, Val MAE = 0.84549, Val Acc = 0.65521\n"
     ]
    },
    {
     "name": "stderr",
     "output_type": "stream",
     "text": [
      "Epoch 9/512: 100%|██████████████████████████████████████████████████████████████████████| 910/910 [00:44<00:00, 20.30it/s]\n"
     ]
    },
    {
     "name": "stdout",
     "output_type": "stream",
     "text": [
      "Epoch 9/512: \n",
      "Train Loss = 0.62848, Train MSE = 1.13300, Train MAE = 0.84685, Train Acc = 0.65320\n",
      "Val Loss = 0.63327, Val MSE = 1.15373, Val MAE = 0.85230, Val Acc = 0.65232\n"
     ]
    },
    {
     "name": "stderr",
     "output_type": "stream",
     "text": [
      "Epoch 10/512: 100%|█████████████████████████████████████████████████████████████████████| 910/910 [00:44<00:00, 20.30it/s]\n"
     ]
    },
    {
     "name": "stdout",
     "output_type": "stream",
     "text": [
      "Epoch 10/512: \n",
      "Train Loss = 0.62106, Train MSE = 1.11557, Train MAE = 0.83936, Train Acc = 0.65925\n",
      "Val Loss = 0.64672, Val MSE = 1.19070, Val MAE = 0.86709, Val Acc = 0.64765\n"
     ]
    },
    {
     "name": "stderr",
     "output_type": "stream",
     "text": [
      "Epoch 11/512: 100%|█████████████████████████████████████████████████████████████████████| 910/910 [00:44<00:00, 20.47it/s]\n"
     ]
    },
    {
     "name": "stdout",
     "output_type": "stream",
     "text": [
      "Epoch 11/512: \n",
      "Train Loss = 0.61359, Train MSE = 1.09958, Train MAE = 0.83116, Train Acc = 0.66409\n",
      "Val Loss = 0.64461, Val MSE = 1.19146, Val MAE = 0.86410, Val Acc = 0.64462\n"
     ]
    },
    {
     "name": "stderr",
     "output_type": "stream",
     "text": [
      "Epoch 12/512: 100%|█████████████████████████████████████████████████████████████████████| 910/910 [00:44<00:00, 20.45it/s]\n"
     ]
    },
    {
     "name": "stdout",
     "output_type": "stream",
     "text": [
      "Epoch 12/512: \n",
      "Train Loss = 0.60689, Train MSE = 1.08320, Train MAE = 0.82410, Train Acc = 0.66832\n",
      "Val Loss = 0.61361, Val MSE = 1.10428, Val MAE = 0.83099, Val Acc = 0.65397\n"
     ]
    },
    {
     "name": "stderr",
     "output_type": "stream",
     "text": [
      "Epoch 13/512: 100%|█████████████████████████████████████████████████████████████████████| 910/910 [00:44<00:00, 20.41it/s]\n"
     ]
    },
    {
     "name": "stdout",
     "output_type": "stream",
     "text": [
      "Epoch 13/512: \n",
      "Train Loss = 0.60212, Train MSE = 1.07179, Train MAE = 0.81931, Train Acc = 0.67234\n",
      "Val Loss = 0.62172, Val MSE = 1.13292, Val MAE = 0.83907, Val Acc = 0.65397\n"
     ]
    },
    {
     "name": "stderr",
     "output_type": "stream",
     "text": [
      "Epoch 14/512: 100%|█████████████████████████████████████████████████████████████████████| 910/910 [00:44<00:00, 20.40it/s]\n"
     ]
    },
    {
     "name": "stdout",
     "output_type": "stream",
     "text": [
      "Epoch 14/512: \n",
      "Train Loss = 0.59767, Train MSE = 1.06180, Train MAE = 0.81444, Train Acc = 0.67557\n",
      "Val Loss = 0.59555, Val MSE = 1.06070, Val MAE = 0.81264, Val Acc = 0.67707\n"
     ]
    },
    {
     "name": "stderr",
     "output_type": "stream",
     "text": [
      "Epoch 15/512: 100%|█████████████████████████████████████████████████████████████████████| 910/910 [00:44<00:00, 20.31it/s]\n"
     ]
    },
    {
     "name": "stdout",
     "output_type": "stream",
     "text": [
      "Epoch 15/512: \n",
      "Train Loss = 0.59313, Train MSE = 1.04929, Train MAE = 0.81010, Train Acc = 0.67807\n",
      "Val Loss = 0.62777, Val MSE = 1.14035, Val MAE = 0.84716, Val Acc = 0.66057\n"
     ]
    },
    {
     "name": "stderr",
     "output_type": "stream",
     "text": [
      "Epoch 16/512: 100%|█████████████████████████████████████████████████████████████████████| 910/910 [00:44<00:00, 20.34it/s]\n"
     ]
    },
    {
     "name": "stdout",
     "output_type": "stream",
     "text": [
      "Epoch 16/512: \n",
      "Train Loss = 0.58623, Train MSE = 1.03359, Train MAE = 0.80246, Train Acc = 0.68355\n",
      "Val Loss = 0.56738, Val MSE = 0.98720, Val MAE = 0.78192, Val Acc = 0.69370\n"
     ]
    },
    {
     "name": "stderr",
     "output_type": "stream",
     "text": [
      "Epoch 17/512: 100%|█████████████████████████████████████████████████████████████████████| 910/910 [00:44<00:00, 20.41it/s]\n"
     ]
    },
    {
     "name": "stdout",
     "output_type": "stream",
     "text": [
      "Epoch 17/512: \n",
      "Train Loss = 0.58239, Train MSE = 1.02473, Train MAE = 0.79851, Train Acc = 0.68687\n",
      "Val Loss = 0.61215, Val MSE = 1.11778, Val MAE = 0.82939, Val Acc = 0.66813\n"
     ]
    },
    {
     "name": "stderr",
     "output_type": "stream",
     "text": [
      "Epoch 18/512: 100%|█████████████████████████████████████████████████████████████████████| 910/910 [00:44<00:00, 20.36it/s]\n"
     ]
    },
    {
     "name": "stdout",
     "output_type": "stream",
     "text": [
      "Epoch 18/512: \n",
      "Train Loss = 0.57797, Train MSE = 1.01453, Train MAE = 0.79344, Train Acc = 0.68752\n",
      "Val Loss = 0.57057, Val MSE = 1.00532, Val MAE = 0.78500, Val Acc = 0.69453\n"
     ]
    },
    {
     "name": "stderr",
     "output_type": "stream",
     "text": [
      "Epoch 19/512: 100%|█████████████████████████████████████████████████████████████████████| 910/910 [00:44<00:00, 20.45it/s]\n"
     ]
    },
    {
     "name": "stdout",
     "output_type": "stream",
     "text": [
      "Epoch 19/512: \n",
      "Train Loss = 0.57689, Train MSE = 1.01098, Train MAE = 0.79293, Train Acc = 0.68967\n",
      "Val Loss = 0.58929, Val MSE = 1.05125, Val MAE = 0.80689, Val Acc = 0.68381\n"
     ]
    },
    {
     "name": "stderr",
     "output_type": "stream",
     "text": [
      "Epoch 20/512: 100%|█████████████████████████████████████████████████████████████████████| 910/910 [00:44<00:00, 20.33it/s]\n"
     ]
    },
    {
     "name": "stdout",
     "output_type": "stream",
     "text": [
      "Epoch 20/512: \n",
      "Train Loss = 0.57222, Train MSE = 1.00287, Train MAE = 0.78757, Train Acc = 0.69432\n",
      "Val Loss = 0.66042, Val MSE = 1.22187, Val MAE = 0.88074, Val Acc = 0.63445\n"
     ]
    },
    {
     "name": "stderr",
     "output_type": "stream",
     "text": [
      "Epoch 21/512: 100%|█████████████████████████████████████████████████████████████████████| 910/910 [00:44<00:00, 20.34it/s]\n"
     ]
    },
    {
     "name": "stdout",
     "output_type": "stream",
     "text": [
      "Epoch 21/512: \n",
      "Train Loss = 0.56675, Train MSE = 0.98767, Train MAE = 0.78208, Train Acc = 0.69668\n",
      "Val Loss = 0.65385, Val MSE = 1.21259, Val MAE = 0.87369, Val Acc = 0.64256\n"
     ]
    },
    {
     "name": "stderr",
     "output_type": "stream",
     "text": [
      "Epoch 22/512: 100%|█████████████████████████████████████████████████████████████████████| 910/910 [00:44<00:00, 20.35it/s]\n"
     ]
    },
    {
     "name": "stdout",
     "output_type": "stream",
     "text": [
      "Epoch 22/512: \n",
      "Train Loss = 0.56691, Train MSE = 0.98849, Train MAE = 0.78221, Train Acc = 0.69632\n",
      "Val Loss = 0.57209, Val MSE = 1.00414, Val MAE = 0.78709, Val Acc = 0.68958\n"
     ]
    },
    {
     "name": "stderr",
     "output_type": "stream",
     "text": [
      "Epoch 23/512: 100%|█████████████████████████████████████████████████████████████████████| 910/910 [00:44<00:00, 20.36it/s]\n"
     ]
    },
    {
     "name": "stdout",
     "output_type": "stream",
     "text": [
      "Epoch 23/512: \n",
      "Train Loss = 0.56141, Train MSE = 0.97634, Train MAE = 0.77619, Train Acc = 0.70116\n",
      "Val Loss = 0.60428, Val MSE = 1.08646, Val MAE = 0.82167, Val Acc = 0.67198\n"
     ]
    },
    {
     "name": "stderr",
     "output_type": "stream",
     "text": [
      "Epoch 24/512: 100%|█████████████████████████████████████████████████████████████████████| 910/910 [00:44<00:00, 20.37it/s]\n"
     ]
    },
    {
     "name": "stdout",
     "output_type": "stream",
     "text": [
      "Epoch 24/512: \n",
      "Train Loss = 0.56021, Train MSE = 0.97475, Train MAE = 0.77512, Train Acc = 0.70113\n",
      "Val Loss = 0.60177, Val MSE = 1.07696, Val MAE = 0.81987, Val Acc = 0.67308\n"
     ]
    },
    {
     "name": "stderr",
     "output_type": "stream",
     "text": [
      "Epoch 25/512: 100%|█████████████████████████████████████████████████████████████████████| 910/910 [00:44<00:00, 20.41it/s]\n"
     ]
    },
    {
     "name": "stdout",
     "output_type": "stream",
     "text": [
      "Epoch 25/512: \n",
      "Train Loss = 0.55539, Train MSE = 0.96387, Train MAE = 0.76989, Train Acc = 0.70402\n",
      "Val Loss = 0.58084, Val MSE = 1.02244, Val MAE = 0.79752, Val Acc = 0.68930\n"
     ]
    },
    {
     "name": "stderr",
     "output_type": "stream",
     "text": [
      "Epoch 26/512: 100%|█████████████████████████████████████████████████████████████████████| 910/910 [00:44<00:00, 20.36it/s]\n"
     ]
    },
    {
     "name": "stdout",
     "output_type": "stream",
     "text": [
      "Epoch 26/512: \n",
      "Train Loss = 0.55247, Train MSE = 0.95519, Train MAE = 0.76706, Train Acc = 0.70548\n",
      "Val Loss = 0.58989, Val MSE = 1.04842, Val MAE = 0.80655, Val Acc = 0.68092\n"
     ]
    },
    {
     "name": "stderr",
     "output_type": "stream",
     "text": [
      "Epoch 27/512: 100%|█████████████████████████████████████████████████████████████████████| 910/910 [00:44<00:00, 20.39it/s]\n"
     ]
    },
    {
     "name": "stdout",
     "output_type": "stream",
     "text": [
      "Epoch 27/512: \n",
      "Train Loss = 0.55228, Train MSE = 0.95629, Train MAE = 0.76660, Train Acc = 0.70658\n",
      "Val Loss = 0.59360, Val MSE = 1.05367, Val MAE = 0.81114, Val Acc = 0.68023\n"
     ]
    },
    {
     "name": "stderr",
     "output_type": "stream",
     "text": [
      "Epoch 28/512: 100%|█████████████████████████████████████████████████████████████████████| 910/910 [00:44<00:00, 20.35it/s]\n"
     ]
    },
    {
     "name": "stdout",
     "output_type": "stream",
     "text": [
      "Epoch 28/512: \n",
      "Train Loss = 0.54997, Train MSE = 0.94916, Train MAE = 0.76399, Train Acc = 0.70811\n",
      "Val Loss = 0.68736, Val MSE = 1.30497, Val MAE = 0.90957, Val Acc = 0.62167\n"
     ]
    },
    {
     "name": "stderr",
     "output_type": "stream",
     "text": [
      "Epoch 29/512:  92%|███████████████████████████████████████████████████████████████▌     | 838/910 [00:41<00:03, 19.44it/s]"
     ]
    }
   ],
   "source": [
    "import argparse\n",
    "\n",
    "training_args = argparse.Namespace(**args)\n",
    "train_model(training_args, device)"
   ]
  },
  {
   "cell_type": "code",
   "execution_count": null,
   "metadata": {},
   "outputs": [],
   "source": []
  }
 ],
 "metadata": {
  "kernelspec": {
   "display_name": "Python (myenv)",
   "language": "python",
   "name": "myenv"
  },
  "language_info": {
   "codemirror_mode": {
    "name": "ipython",
    "version": 3
   },
   "file_extension": ".py",
   "mimetype": "text/x-python",
   "name": "python",
   "nbconvert_exporter": "python",
   "pygments_lexer": "ipython3",
   "version": "3.12.7"
  }
 },
 "nbformat": 4,
 "nbformat_minor": 4
}
