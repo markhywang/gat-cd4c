{
 "cells": [
  {
   "cell_type": "code",
   "execution_count": 1,
   "metadata": {},
   "outputs": [],
   "source": [
    "# Copy of train.ipynb (run on GPU 1)"
   ]
  },
  {
   "cell_type": "code",
   "execution_count": 2,
   "metadata": {},
   "outputs": [
    {
     "name": "stdout",
     "output_type": "stream",
     "text": [
      "Using device: cpu\n"
     ]
    }
   ],
   "source": [
    "import torch\n",
    "\n",
    "# Local imports\n",
    "from train import train_model"
   ]
  },
  {
   "cell_type": "code",
   "execution_count": 3,
   "metadata": {},
   "outputs": [
    {
     "name": "stdout",
     "output_type": "stream",
     "text": [
      "Using device: cuda:1\n"
     ]
    }
   ],
   "source": [
    "if torch.backends.mps.is_available():\n",
    "    device = torch.device(\"mps\")\n",
    "elif torch.cuda.is_available():\n",
    "    device = torch.device(\"cuda:1\")\n",
    "else:\n",
    "    device = torch.device(\"cpu\")\n",
    "\n",
    "print(f\"Using device: {device}\")"
   ]
  },
  {
   "cell_type": "code",
   "execution_count": 4,
   "metadata": {},
   "outputs": [],
   "source": [
    "args = {\n",
    "    \"use_small_dataset\": True,\n",
    "    \"batch_size\": 64,\n",
    "    \"stoppage_epochs\": 128,\n",
    "    \"max_epochs\": 512,\n",
    "    \"seed\": 42,\n",
    "    \"data_path\": \"../data\",\n",
    "    \"frac_train\": 0.8,\n",
    "    \"frac_validation\": 0.1,\n",
    "    \"frac_test\": 0.1,\n",
    "    \"huber_beta\": 0.5,\n",
    "    \"weight_decay\": 1e-3,\n",
    "    \"lr\": 3e-4,\n",
    "    \"scheduler_patience\": 10,\n",
    "    \"scheduler_factor\": 0.5,\n",
    "    \"hidden_size\": 96,\n",
    "    \"num_layers\": 7,\n",
    "    \"num_attn_heads\": 6,\n",
    "    \"dropout\": 0.2,\n",
    "    \"pooling_dropout\": 0.1,\n",
    "    \"pooling_dim\": 96,\n",
    "}"
   ]
  },
  {
   "cell_type": "code",
   "execution_count": null,
   "metadata": {},
   "outputs": [
    {
     "name": "stdout",
     "output_type": "stream",
     "text": [
      "Model parameters: 1057629\n"
     ]
    },
    {
     "name": "stderr",
     "output_type": "stream",
     "text": [
      "Epoch 1/512: 100%|████████████████████████████████████████████████████████████████████████| 63/63 [00:11<00:00,  5.54it/s]\n"
     ]
    },
    {
     "name": "stdout",
     "output_type": "stream",
     "text": [
      "Epoch 1/512: \n",
      "Train Loss = 0.81578, Train MSE = 1.68797, Train MAE = 1.04030, Train Acc = 0.55528\n",
      "Val Loss = 0.98529, Val MSE = 2.28413, Val MAE = 1.21489, Val Acc = 0.48406\n"
     ]
    },
    {
     "name": "stderr",
     "output_type": "stream",
     "text": [
      "Epoch 2/512: 100%|████████████████████████████████████████████████████████████████████████| 63/63 [00:04<00:00, 12.74it/s]\n"
     ]
    },
    {
     "name": "stdout",
     "output_type": "stream",
     "text": [
      "Epoch 2/512: \n",
      "Train Loss = 0.73122, Train MSE = 1.39622, Train MAE = 0.95394, Train Acc = 0.58591\n",
      "Val Loss = 0.88525, Val MSE = 1.96216, Val MAE = 1.11276, Val Acc = 0.52191\n"
     ]
    },
    {
     "name": "stderr",
     "output_type": "stream",
     "text": [
      "Epoch 3/512: 100%|████████████████████████████████████████████████████████████████████████| 63/63 [00:04<00:00, 12.80it/s]\n"
     ]
    },
    {
     "name": "stdout",
     "output_type": "stream",
     "text": [
      "Epoch 3/512: \n",
      "Train Loss = 0.72688, Train MSE = 1.37736, Train MAE = 0.94986, Train Acc = 0.59487\n",
      "Val Loss = 0.89084, Val MSE = 1.93595, Val MAE = 1.11988, Val Acc = 0.51793\n"
     ]
    },
    {
     "name": "stderr",
     "output_type": "stream",
     "text": [
      "Epoch 4/512: 100%|████████████████████████████████████████████████████████████████████████| 63/63 [00:04<00:00, 12.67it/s]\n"
     ]
    },
    {
     "name": "stdout",
     "output_type": "stream",
     "text": [
      "Epoch 4/512: \n",
      "Train Loss = 0.71342, Train MSE = 1.34098, Train MAE = 0.93654, Train Acc = 0.60359\n",
      "Val Loss = 0.91736, Val MSE = 2.05010, Val MAE = 1.14597, Val Acc = 0.51793\n"
     ]
    },
    {
     "name": "stderr",
     "output_type": "stream",
     "text": [
      "Epoch 5/512: 100%|████████████████████████████████████████████████████████████████████████| 63/63 [00:04<00:00, 12.68it/s]\n"
     ]
    },
    {
     "name": "stdout",
     "output_type": "stream",
     "text": [
      "Epoch 5/512: \n",
      "Train Loss = 0.72686, Train MSE = 1.38178, Train MAE = 0.95114, Train Acc = 0.60060\n",
      "Val Loss = 0.84480, Val MSE = 1.81899, Val MAE = 1.06905, Val Acc = 0.55578\n"
     ]
    },
    {
     "name": "stderr",
     "output_type": "stream",
     "text": [
      "Epoch 6/512: 100%|████████████████████████████████████████████████████████████████████████| 63/63 [00:04<00:00, 12.74it/s]\n"
     ]
    },
    {
     "name": "stdout",
     "output_type": "stream",
     "text": [
      "Epoch 6/512: \n",
      "Train Loss = 0.70745, Train MSE = 1.32375, Train MAE = 0.93167, Train Acc = 0.60359\n",
      "Val Loss = 0.81536, Val MSE = 1.71095, Val MAE = 1.04132, Val Acc = 0.55777\n"
     ]
    },
    {
     "name": "stderr",
     "output_type": "stream",
     "text": [
      "Epoch 7/512: 100%|████████████████████████████████████████████████████████████████████████| 63/63 [00:04<00:00, 12.66it/s]\n"
     ]
    },
    {
     "name": "stdout",
     "output_type": "stream",
     "text": [
      "Epoch 7/512: \n",
      "Train Loss = 0.70564, Train MSE = 1.33013, Train MAE = 0.92826, Train Acc = 0.61031\n",
      "Val Loss = 0.94548, Val MSE = 2.13548, Val MAE = 1.17381, Val Acc = 0.50000\n"
     ]
    },
    {
     "name": "stderr",
     "output_type": "stream",
     "text": [
      "Epoch 8/512: 100%|████████████████████████████████████████████████████████████████████████| 63/63 [00:04<00:00, 12.65it/s]\n"
     ]
    },
    {
     "name": "stdout",
     "output_type": "stream",
     "text": [
      "Epoch 8/512: \n",
      "Train Loss = 0.72192, Train MSE = 1.36993, Train MAE = 0.94616, Train Acc = 0.59885\n",
      "Val Loss = 0.76699, Val MSE = 1.60643, Val MAE = 0.98975, Val Acc = 0.59562\n"
     ]
    },
    {
     "name": "stderr",
     "output_type": "stream",
     "text": [
      "Epoch 9/512: 100%|████████████████████████████████████████████████████████████████████████| 63/63 [00:05<00:00, 12.54it/s]\n"
     ]
    },
    {
     "name": "stdout",
     "output_type": "stream",
     "text": [
      "Epoch 9/512: \n",
      "Train Loss = 0.69996, Train MSE = 1.30751, Train MAE = 0.92230, Train Acc = 0.61305\n",
      "Val Loss = 0.89516, Val MSE = 1.98885, Val MAE = 1.12141, Val Acc = 0.52191\n"
     ]
    },
    {
     "name": "stderr",
     "output_type": "stream",
     "text": [
      "Epoch 10/512: 100%|███████████████████████████████████████████████████████████████████████| 63/63 [00:05<00:00, 12.56it/s]\n"
     ]
    },
    {
     "name": "stdout",
     "output_type": "stream",
     "text": [
      "Epoch 10/512: \n",
      "Train Loss = 0.70997, Train MSE = 1.33419, Train MAE = 0.93322, Train Acc = 0.60408\n",
      "Val Loss = 0.86561, Val MSE = 1.92213, Val MAE = 1.09037, Val Acc = 0.54183\n"
     ]
    },
    {
     "name": "stderr",
     "output_type": "stream",
     "text": [
      "Epoch 11/512: 100%|███████████████████████████████████████████████████████████████████████| 63/63 [00:05<00:00, 12.51it/s]\n"
     ]
    },
    {
     "name": "stdout",
     "output_type": "stream",
     "text": [
      "Epoch 11/512: \n",
      "Train Loss = 0.69617, Train MSE = 1.30474, Train MAE = 0.91798, Train Acc = 0.61280\n",
      "Val Loss = 0.80336, Val MSE = 1.72442, Val MAE = 1.02585, Val Acc = 0.56972\n"
     ]
    },
    {
     "name": "stderr",
     "output_type": "stream",
     "text": [
      "Epoch 12/512: 100%|███████████████████████████████████████████████████████████████████████| 63/63 [00:05<00:00, 12.46it/s]\n"
     ]
    },
    {
     "name": "stdout",
     "output_type": "stream",
     "text": [
      "Epoch 12/512: \n",
      "Train Loss = 0.69801, Train MSE = 1.31267, Train MAE = 0.92135, Train Acc = 0.61230\n",
      "Val Loss = 0.77950, Val MSE = 1.65292, Val MAE = 1.00020, Val Acc = 0.57968\n"
     ]
    },
    {
     "name": "stderr",
     "output_type": "stream",
     "text": [
      "Epoch 13/512: 100%|███████████████████████████████████████████████████████████████████████| 63/63 [00:05<00:00, 12.51it/s]\n"
     ]
    },
    {
     "name": "stdout",
     "output_type": "stream",
     "text": [
      "Epoch 13/512: \n",
      "Train Loss = 0.69145, Train MSE = 1.28878, Train MAE = 0.91440, Train Acc = 0.62126\n",
      "Val Loss = 0.81636, Val MSE = 1.78153, Val MAE = 1.03988, Val Acc = 0.58367\n"
     ]
    },
    {
     "name": "stderr",
     "output_type": "stream",
     "text": [
      "Epoch 14/512: 100%|███████████████████████████████████████████████████████████████████████| 63/63 [00:05<00:00, 12.51it/s]\n"
     ]
    },
    {
     "name": "stdout",
     "output_type": "stream",
     "text": [
      "Epoch 14/512: \n",
      "Train Loss = 0.67842, Train MSE = 1.24690, Train MAE = 0.90002, Train Acc = 0.61703\n",
      "Val Loss = 0.82275, Val MSE = 1.81101, Val MAE = 1.04581, Val Acc = 0.57769\n"
     ]
    },
    {
     "name": "stderr",
     "output_type": "stream",
     "text": [
      "Epoch 15/512: 100%|███████████████████████████████████████████████████████████████████████| 63/63 [00:05<00:00, 12.56it/s]\n"
     ]
    },
    {
     "name": "stdout",
     "output_type": "stream",
     "text": [
      "Epoch 15/512: \n",
      "Train Loss = 0.69095, Train MSE = 1.28491, Train MAE = 0.91415, Train Acc = 0.61803\n",
      "Val Loss = 0.91385, Val MSE = 2.07290, Val MAE = 1.14041, Val Acc = 0.51992\n"
     ]
    },
    {
     "name": "stderr",
     "output_type": "stream",
     "text": [
      "Epoch 16/512: 100%|███████████████████████████████████████████████████████████████████████| 63/63 [00:05<00:00, 12.53it/s]\n"
     ]
    },
    {
     "name": "stdout",
     "output_type": "stream",
     "text": [
      "Epoch 16/512: \n",
      "Train Loss = 0.68860, Train MSE = 1.27140, Train MAE = 0.91138, Train Acc = 0.62102\n",
      "Val Loss = 0.89077, Val MSE = 2.06622, Val MAE = 1.11027, Val Acc = 0.53386\n"
     ]
    },
    {
     "name": "stderr",
     "output_type": "stream",
     "text": [
      "Epoch 17/512: 100%|███████████████████████████████████████████████████████████████████████| 63/63 [00:05<00:00, 12.56it/s]\n"
     ]
    },
    {
     "name": "stdout",
     "output_type": "stream",
     "text": [
      "Epoch 17/512: \n",
      "Train Loss = 0.68342, Train MSE = 1.25907, Train MAE = 0.90553, Train Acc = 0.61579\n",
      "Val Loss = 0.79645, Val MSE = 1.68837, Val MAE = 1.02067, Val Acc = 0.58765\n"
     ]
    },
    {
     "name": "stderr",
     "output_type": "stream",
     "text": [
      "Epoch 18/512: 100%|███████████████████████████████████████████████████████████████████████| 63/63 [00:04<00:00, 12.62it/s]\n"
     ]
    },
    {
     "name": "stdout",
     "output_type": "stream",
     "text": [
      "Epoch 18/512: \n",
      "Train Loss = 0.67698, Train MSE = 1.25134, Train MAE = 0.89888, Train Acc = 0.62425\n",
      "Val Loss = 0.86820, Val MSE = 1.94743, Val MAE = 1.09337, Val Acc = 0.55378\n"
     ]
    },
    {
     "name": "stderr",
     "output_type": "stream",
     "text": [
      "Epoch 19/512: 100%|███████████████████████████████████████████████████████████████████████| 63/63 [00:05<00:00, 12.55it/s]\n"
     ]
    },
    {
     "name": "stdout",
     "output_type": "stream",
     "text": [
      "Epoch 19/512: \n",
      "Train Loss = 0.67968, Train MSE = 1.25837, Train MAE = 0.90158, Train Acc = 0.62400\n",
      "Val Loss = 0.83590, Val MSE = 1.83705, Val MAE = 1.05841, Val Acc = 0.56972\n"
     ]
    },
    {
     "name": "stderr",
     "output_type": "stream",
     "text": [
      "Epoch 20/512: 100%|███████████████████████████████████████████████████████████████████████| 63/63 [00:05<00:00, 12.60it/s]\n"
     ]
    },
    {
     "name": "stdout",
     "output_type": "stream",
     "text": [
      "Epoch 20/512: \n",
      "Train Loss = 0.68831, Train MSE = 1.28240, Train MAE = 0.91014, Train Acc = 0.61977\n",
      "Val Loss = 0.79252, Val MSE = 1.66341, Val MAE = 1.01632, Val Acc = 0.57769\n"
     ]
    },
    {
     "name": "stderr",
     "output_type": "stream",
     "text": [
      "Epoch 21/512: 100%|███████████████████████████████████████████████████████████████████████| 63/63 [00:05<00:00, 12.56it/s]\n"
     ]
    },
    {
     "name": "stdout",
     "output_type": "stream",
     "text": [
      "Epoch 21/512: \n",
      "Train Loss = 0.68074, Train MSE = 1.26526, Train MAE = 0.90242, Train Acc = 0.62326\n",
      "Val Loss = 0.80071, Val MSE = 1.72683, Val MAE = 1.02291, Val Acc = 0.58964\n"
     ]
    },
    {
     "name": "stderr",
     "output_type": "stream",
     "text": [
      "Epoch 22/512: 100%|███████████████████████████████████████████████████████████████████████| 63/63 [00:05<00:00, 12.57it/s]\n"
     ]
    },
    {
     "name": "stdout",
     "output_type": "stream",
     "text": [
      "Epoch 22/512: \n",
      "Train Loss = 0.67883, Train MSE = 1.25170, Train MAE = 0.90033, Train Acc = 0.62475\n",
      "Val Loss = 0.77698, Val MSE = 1.63388, Val MAE = 1.00071, Val Acc = 0.59163\n"
     ]
    },
    {
     "name": "stderr",
     "output_type": "stream",
     "text": [
      "Epoch 23/512: 100%|███████████████████████████████████████████████████████████████████████| 63/63 [00:05<00:00, 12.58it/s]\n"
     ]
    },
    {
     "name": "stdout",
     "output_type": "stream",
     "text": [
      "Epoch 23/512: \n",
      "Train Loss = 0.66727, Train MSE = 1.21608, Train MAE = 0.88949, Train Acc = 0.62774\n",
      "Val Loss = 0.82251, Val MSE = 1.78242, Val MAE = 1.04541, Val Acc = 0.58167\n"
     ]
    },
    {
     "name": "stderr",
     "output_type": "stream",
     "text": [
      "Epoch 24/512: 100%|███████████████████████████████████████████████████████████████████████| 63/63 [00:04<00:00, 12.64it/s]\n"
     ]
    },
    {
     "name": "stdout",
     "output_type": "stream",
     "text": [
      "Epoch 24/512: \n",
      "Train Loss = 0.67476, Train MSE = 1.24960, Train MAE = 0.89465, Train Acc = 0.62126\n",
      "Val Loss = 0.84389, Val MSE = 1.82314, Val MAE = 1.06782, Val Acc = 0.56375\n"
     ]
    },
    {
     "name": "stderr",
     "output_type": "stream",
     "text": [
      "Epoch 25/512: 100%|███████████████████████████████████████████████████████████████████████| 63/63 [00:04<00:00, 12.66it/s]\n"
     ]
    },
    {
     "name": "stdout",
     "output_type": "stream",
     "text": [
      "Epoch 25/512: \n",
      "Train Loss = 0.66826, Train MSE = 1.21580, Train MAE = 0.89086, Train Acc = 0.63023\n",
      "Val Loss = 0.96467, Val MSE = 2.24833, Val MAE = 1.19081, Val Acc = 0.47610\n"
     ]
    },
    {
     "name": "stderr",
     "output_type": "stream",
     "text": [
      "Epoch 26/512: 100%|███████████████████████████████████████████████████████████████████████| 63/63 [00:04<00:00, 12.64it/s]\n"
     ]
    },
    {
     "name": "stdout",
     "output_type": "stream",
     "text": [
      "Epoch 26/512: \n",
      "Train Loss = 0.66091, Train MSE = 1.20634, Train MAE = 0.88169, Train Acc = 0.63272\n",
      "Val Loss = 0.86592, Val MSE = 1.90474, Val MAE = 1.09232, Val Acc = 0.55378\n"
     ]
    },
    {
     "name": "stderr",
     "output_type": "stream",
     "text": [
      "Epoch 27/512: 100%|███████████████████████████████████████████████████████████████████████| 63/63 [00:05<00:00, 12.58it/s]\n"
     ]
    },
    {
     "name": "stdout",
     "output_type": "stream",
     "text": [
      "Epoch 27/512: \n",
      "Train Loss = 0.66600, Train MSE = 1.22412, Train MAE = 0.88646, Train Acc = 0.62550\n",
      "Val Loss = 0.80685, Val MSE = 1.74288, Val MAE = 1.03212, Val Acc = 0.58167\n"
     ]
    },
    {
     "name": "stderr",
     "output_type": "stream",
     "text": [
      "Epoch 28/512: 100%|███████████████████████████████████████████████████████████████████████| 63/63 [00:05<00:00, 12.60it/s]\n"
     ]
    },
    {
     "name": "stdout",
     "output_type": "stream",
     "text": [
      "Epoch 28/512: \n",
      "Train Loss = 0.67023, Train MSE = 1.22669, Train MAE = 0.89066, Train Acc = 0.61977\n",
      "Val Loss = 0.96516, Val MSE = 2.27806, Val MAE = 1.18963, Val Acc = 0.48207\n"
     ]
    },
    {
     "name": "stderr",
     "output_type": "stream",
     "text": [
      "Epoch 29/512: 100%|███████████████████████████████████████████████████████████████████████| 63/63 [00:04<00:00, 12.60it/s]\n"
     ]
    },
    {
     "name": "stdout",
     "output_type": "stream",
     "text": [
      "Epoch 29/512: \n",
      "Train Loss = 0.66237, Train MSE = 1.20817, Train MAE = 0.88268, Train Acc = 0.62973\n",
      "Val Loss = 0.86204, Val MSE = 1.90668, Val MAE = 1.08783, Val Acc = 0.55378\n"
     ]
    },
    {
     "name": "stderr",
     "output_type": "stream",
     "text": [
      "Epoch 30/512: 100%|███████████████████████████████████████████████████████████████████████| 63/63 [00:05<00:00, 12.57it/s]\n"
     ]
    },
    {
     "name": "stdout",
     "output_type": "stream",
     "text": [
      "Epoch 30/512: \n",
      "Train Loss = 0.65826, Train MSE = 1.21153, Train MAE = 0.87973, Train Acc = 0.63919\n",
      "Val Loss = 0.86754, Val MSE = 1.93026, Val MAE = 1.09344, Val Acc = 0.56375\n"
     ]
    },
    {
     "name": "stderr",
     "output_type": "stream",
     "text": [
      "Epoch 31/512: 100%|███████████████████████████████████████████████████████████████████████| 63/63 [00:04<00:00, 12.62it/s]\n"
     ]
    },
    {
     "name": "stdout",
     "output_type": "stream",
     "text": [
      "Epoch 31/512: \n",
      "Train Loss = 0.65030, Train MSE = 1.18220, Train MAE = 0.87080, Train Acc = 0.64193\n",
      "Val Loss = 0.88015, Val MSE = 1.96993, Val MAE = 1.10665, Val Acc = 0.54582\n"
     ]
    },
    {
     "name": "stderr",
     "output_type": "stream",
     "text": [
      "Epoch 32/512: 100%|███████████████████████████████████████████████████████████████████████| 63/63 [00:04<00:00, 12.62it/s]\n"
     ]
    },
    {
     "name": "stdout",
     "output_type": "stream",
     "text": [
      "Epoch 32/512: \n",
      "Train Loss = 0.65907, Train MSE = 1.19974, Train MAE = 0.88087, Train Acc = 0.62874\n",
      "Val Loss = 0.78381, Val MSE = 1.65859, Val MAE = 1.00761, Val Acc = 0.59761\n"
     ]
    },
    {
     "name": "stderr",
     "output_type": "stream",
     "text": [
      "Epoch 33/512: 100%|███████████████████████████████████████████████████████████████████████| 63/63 [00:04<00:00, 12.63it/s]\n"
     ]
    },
    {
     "name": "stdout",
     "output_type": "stream",
     "text": [
      "Epoch 33/512: \n",
      "Train Loss = 0.65026, Train MSE = 1.19717, Train MAE = 0.86975, Train Acc = 0.63944\n",
      "Val Loss = 0.83488, Val MSE = 1.80928, Val MAE = 1.05891, Val Acc = 0.57171\n"
     ]
    },
    {
     "name": "stderr",
     "output_type": "stream",
     "text": [
      "Epoch 34/512:  29%|████████████████████▎                                                  | 18/63 [00:01<00:03, 12.81it/s]"
     ]
    }
   ],
   "source": [
    "import argparse\n",
    "\n",
    "training_args = argparse.Namespace(**args)\n",
    "train_model(training_args, device)"
   ]
  },
  {
   "cell_type": "code",
   "execution_count": null,
   "metadata": {},
   "outputs": [],
   "source": []
  }
 ],
 "metadata": {
  "kernelspec": {
   "display_name": "Python (myenv)",
   "language": "python",
   "name": "myenv"
  },
  "language_info": {
   "codemirror_mode": {
    "name": "ipython",
    "version": 3
   },
   "file_extension": ".py",
   "mimetype": "text/x-python",
   "name": "python",
   "nbconvert_exporter": "python",
   "pygments_lexer": "ipython3",
   "version": "3.12.7"
  }
 },
 "nbformat": 4,
 "nbformat_minor": 4
}
