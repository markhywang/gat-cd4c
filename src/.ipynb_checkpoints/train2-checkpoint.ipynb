{
 "cells": [
  {
   "cell_type": "code",
   "execution_count": 1,
   "metadata": {},
   "outputs": [],
   "source": [
    "# Copy of train.ipynb (run on GPU 1)"
   ]
  },
  {
   "cell_type": "code",
   "execution_count": 2,
   "metadata": {},
   "outputs": [
    {
     "name": "stdout",
     "output_type": "stream",
     "text": [
      "Using device: cpu\n"
     ]
    }
   ],
   "source": [
    "import torch\n",
    "\n",
    "# Local imports\n",
    "from train import train_model"
   ]
  },
  {
   "cell_type": "code",
   "execution_count": 3,
   "metadata": {},
   "outputs": [
    {
     "name": "stdout",
     "output_type": "stream",
     "text": [
      "Using device: cuda:1\n"
     ]
    }
   ],
   "source": [
    "if torch.backends.mps.is_available():\n",
    "    device = torch.device(\"mps\")\n",
    "elif torch.cuda.is_available():\n",
    "    device = torch.device(\"cuda:1\")\n",
    "else:\n",
    "    device = torch.device(\"cpu\")\n",
    "\n",
    "print(f\"Using device: {device}\")"
   ]
  },
  {
   "cell_type": "code",
   "execution_count": 4,
   "metadata": {},
   "outputs": [],
   "source": [
    "args = {\n",
    "    \"use_small_dataset\": False,\n",
    "    \"batch_size\": 64,\n",
    "    \"stoppage_epochs\": 42,\n",
    "    \"max_epochs\": 512,\n",
    "    \"seed\": 42,\n",
    "    \"data_path\": \"../data\",\n",
    "    \"frac_train\": 0.8,\n",
    "    \"frac_validation\": 0.1,\n",
    "    \"frac_test\": 0.1,\n",
    "    \"huber_beta\": 0.5,\n",
    "    \"weight_decay\": 1e-3,\n",
    "    \"lr\": 3e-4,\n",
    "    \"scheduler_patience\": 10,\n",
    "    \"scheduler_factor\": 0.5,\n",
    "    \"hidden_size\": 96,\n",
    "    \"num_layers\": 7,\n",
    "    \"num_attn_heads\": 6,\n",
    "    \"dropout\": 0.2,\n",
    "    \"leaky_relu_slope\": 0.2,\n",
    "    \"pooling_dim\": 96,\n",
    "}"
   ]
  },
  {
   "cell_type": "code",
   "execution_count": 5,
   "metadata": {},
   "outputs": [
    {
     "name": "stdout",
     "output_type": "stream",
     "text": [
      "Model parameters: 182714\n"
     ]
    },
    {
     "name": "stderr",
     "output_type": "stream",
     "text": [
      "Epoch 1/512: 100%|██████████████████████████████████████████████████████████████████████| 910/910 [02:35<00:00,  5.83it/s]\n"
     ]
    },
    {
     "name": "stdout",
     "output_type": "stream",
     "text": [
      "Epoch 1/512: \n",
      "Train Loss = 0.54639, Train MSE = 1.34578, Train MAE = 0.94134, Train Acc = 0.59363\n",
      "Val Loss = 0.54426, Val MSE = 1.34014, Val MAE = 0.94123, Val Acc = 0.59458\n"
     ]
    },
    {
     "name": "stderr",
     "output_type": "stream",
     "text": [
      "Epoch 2/512: 100%|██████████████████████████████████████████████████████████████████████| 910/910 [00:44<00:00, 20.55it/s]\n"
     ]
    },
    {
     "name": "stdout",
     "output_type": "stream",
     "text": [
      "Epoch 2/512: \n",
      "Train Loss = 0.53954, Train MSE = 1.32525, Train MAE = 0.93306, Train Acc = 0.59858\n",
      "Val Loss = 0.53420, Val MSE = 1.30637, Val MAE = 0.92860, Val Acc = 0.60173\n"
     ]
    },
    {
     "name": "stderr",
     "output_type": "stream",
     "text": [
      "Epoch 3/512: 100%|██████████████████████████████████████████████████████████████████████| 910/910 [00:44<00:00, 20.35it/s]\n"
     ]
    },
    {
     "name": "stdout",
     "output_type": "stream",
     "text": [
      "Epoch 3/512: \n",
      "Train Loss = 0.52893, Train MSE = 1.29326, Train MAE = 0.92134, Train Acc = 0.60348\n",
      "Val Loss = 0.51817, Val MSE = 1.25862, Val MAE = 0.90968, Val Acc = 0.60957\n"
     ]
    },
    {
     "name": "stderr",
     "output_type": "stream",
     "text": [
      "Epoch 4/512: 100%|██████████████████████████████████████████████████████████████████████| 910/910 [00:45<00:00, 20.21it/s]\n"
     ]
    },
    {
     "name": "stdout",
     "output_type": "stream",
     "text": [
      "Epoch 4/512: \n",
      "Train Loss = 0.51056, Train MSE = 1.24200, Train MAE = 0.89935, Train Acc = 0.61720\n",
      "Val Loss = 0.50757, Val MSE = 1.23726, Val MAE = 0.89593, Val Acc = 0.62167\n"
     ]
    },
    {
     "name": "stderr",
     "output_type": "stream",
     "text": [
      "Epoch 5/512: 100%|██████████████████████████████████████████████████████████████████████| 910/910 [00:45<00:00, 20.18it/s]\n"
     ]
    },
    {
     "name": "stdout",
     "output_type": "stream",
     "text": [
      "Epoch 5/512: \n",
      "Train Loss = 0.49703, Train MSE = 1.20333, Train MAE = 0.88368, Train Acc = 0.62677\n",
      "Val Loss = 0.49678, Val MSE = 1.21701, Val MAE = 0.88023, Val Acc = 0.62978\n"
     ]
    },
    {
     "name": "stderr",
     "output_type": "stream",
     "text": [
      "Epoch 6/512: 100%|██████████████████████████████████████████████████████████████████████| 910/910 [00:45<00:00, 20.17it/s]\n"
     ]
    },
    {
     "name": "stdout",
     "output_type": "stream",
     "text": [
      "Epoch 6/512: \n",
      "Train Loss = 0.48243, Train MSE = 1.16370, Train MAE = 0.86617, Train Acc = 0.63962\n",
      "Val Loss = 0.47044, Val MSE = 1.12778, Val MAE = 0.84904, Val Acc = 0.64339\n"
     ]
    },
    {
     "name": "stderr",
     "output_type": "stream",
     "text": [
      "Epoch 7/512: 100%|██████████████████████████████████████████████████████████████████████| 910/910 [00:45<00:00, 20.08it/s]\n"
     ]
    },
    {
     "name": "stdout",
     "output_type": "stream",
     "text": [
      "Epoch 7/512: \n",
      "Train Loss = 0.47069, Train MSE = 1.13167, Train MAE = 0.85202, Train Acc = 0.64902\n",
      "Val Loss = 0.46663, Val MSE = 1.12395, Val MAE = 0.84562, Val Acc = 0.64985\n"
     ]
    },
    {
     "name": "stderr",
     "output_type": "stream",
     "text": [
      "Epoch 8/512: 100%|██████████████████████████████████████████████████████████████████████| 910/910 [00:45<00:00, 20.11it/s]\n"
     ]
    },
    {
     "name": "stdout",
     "output_type": "stream",
     "text": [
      "Epoch 8/512: \n",
      "Train Loss = 0.46158, Train MSE = 1.10784, Train MAE = 0.84060, Train Acc = 0.65683\n",
      "Val Loss = 0.45073, Val MSE = 1.08471, Val MAE = 0.82483, Val Acc = 0.66566\n"
     ]
    },
    {
     "name": "stderr",
     "output_type": "stream",
     "text": [
      "Epoch 9/512: 100%|██████████████████████████████████████████████████████████████████████| 910/910 [00:44<00:00, 20.23it/s]\n"
     ]
    },
    {
     "name": "stdout",
     "output_type": "stream",
     "text": [
      "Epoch 9/512: \n",
      "Train Loss = 0.45260, Train MSE = 1.08201, Train MAE = 0.83047, Train Acc = 0.66425\n",
      "Val Loss = 0.44840, Val MSE = 1.07494, Val MAE = 0.82249, Val Acc = 0.66428\n"
     ]
    },
    {
     "name": "stderr",
     "output_type": "stream",
     "text": [
      "Epoch 10/512: 100%|█████████████████████████████████████████████████████████████████████| 910/910 [00:45<00:00, 20.19it/s]\n"
     ]
    },
    {
     "name": "stdout",
     "output_type": "stream",
     "text": [
      "Epoch 10/512: \n",
      "Train Loss = 0.44806, Train MSE = 1.07324, Train MAE = 0.82341, Train Acc = 0.66698\n",
      "Val Loss = 0.45612, Val MSE = 1.10125, Val MAE = 0.83261, Val Acc = 0.66263\n"
     ]
    },
    {
     "name": "stderr",
     "output_type": "stream",
     "text": [
      "Epoch 11/512: 100%|█████████████████████████████████████████████████████████████████████| 910/910 [00:45<00:00, 20.13it/s]\n"
     ]
    },
    {
     "name": "stdout",
     "output_type": "stream",
     "text": [
      "Epoch 11/512: \n",
      "Train Loss = 0.43971, Train MSE = 1.04897, Train MAE = 0.81337, Train Acc = 0.67406\n",
      "Val Loss = 0.45084, Val MSE = 1.08927, Val MAE = 0.82249, Val Acc = 0.66580\n"
     ]
    },
    {
     "name": "stderr",
     "output_type": "stream",
     "text": [
      "Epoch 12/512: 100%|█████████████████████████████████████████████████████████████████████| 910/910 [00:44<00:00, 20.23it/s]\n"
     ]
    },
    {
     "name": "stdout",
     "output_type": "stream",
     "text": [
      "Epoch 12/512: \n",
      "Train Loss = 0.43529, Train MSE = 1.03726, Train MAE = 0.80879, Train Acc = 0.67681\n",
      "Val Loss = 0.43350, Val MSE = 1.03681, Val MAE = 0.80258, Val Acc = 0.67707\n"
     ]
    },
    {
     "name": "stderr",
     "output_type": "stream",
     "text": [
      "Epoch 13/512: 100%|█████████████████████████████████████████████████████████████████████| 910/910 [00:44<00:00, 20.27it/s]\n"
     ]
    },
    {
     "name": "stdout",
     "output_type": "stream",
     "text": [
      "Epoch 13/512: \n",
      "Train Loss = 0.43110, Train MSE = 1.02734, Train MAE = 0.80346, Train Acc = 0.68265\n",
      "Val Loss = 0.44734, Val MSE = 1.09059, Val MAE = 0.81762, Val Acc = 0.67294\n"
     ]
    },
    {
     "name": "stderr",
     "output_type": "stream",
     "text": [
      "Epoch 14/512: 100%|█████████████████████████████████████████████████████████████████████| 910/910 [00:44<00:00, 20.22it/s]\n"
     ]
    },
    {
     "name": "stdout",
     "output_type": "stream",
     "text": [
      "Epoch 14/512: \n",
      "Train Loss = 0.42551, Train MSE = 1.01136, Train MAE = 0.79650, Train Acc = 0.68860\n",
      "Val Loss = 0.41581, Val MSE = 0.98789, Val MAE = 0.78218, Val Acc = 0.69508\n"
     ]
    },
    {
     "name": "stderr",
     "output_type": "stream",
     "text": [
      "Epoch 15/512: 100%|█████████████████████████████████████████████████████████████████████| 910/910 [00:44<00:00, 20.23it/s]\n"
     ]
    },
    {
     "name": "stdout",
     "output_type": "stream",
     "text": [
      "Epoch 15/512: \n",
      "Train Loss = 0.42025, Train MSE = 0.99672, Train MAE = 0.79046, Train Acc = 0.69108\n",
      "Val Loss = 0.41773, Val MSE = 0.99303, Val MAE = 0.78747, Val Acc = 0.69068\n"
     ]
    },
    {
     "name": "stderr",
     "output_type": "stream",
     "text": [
      "Epoch 16/512: 100%|█████████████████████████████████████████████████████████████████████| 910/910 [00:45<00:00, 20.12it/s]\n"
     ]
    },
    {
     "name": "stdout",
     "output_type": "stream",
     "text": [
      "Epoch 16/512: \n",
      "Train Loss = 0.41641, Train MSE = 0.98540, Train MAE = 0.78577, Train Acc = 0.69199\n",
      "Val Loss = 0.40562, Val MSE = 0.96144, Val MAE = 0.76848, Val Acc = 0.70621\n"
     ]
    },
    {
     "name": "stderr",
     "output_type": "stream",
     "text": [
      "Epoch 17/512: 100%|█████████████████████████████████████████████████████████████████████| 910/910 [00:45<00:00, 20.19it/s]\n"
     ]
    },
    {
     "name": "stdout",
     "output_type": "stream",
     "text": [
      "Epoch 17/512: \n",
      "Train Loss = 0.41123, Train MSE = 0.97391, Train MAE = 0.77874, Train Acc = 0.69699\n",
      "Val Loss = 0.41243, Val MSE = 0.98301, Val MAE = 0.77583, Val Acc = 0.69728\n"
     ]
    },
    {
     "name": "stderr",
     "output_type": "stream",
     "text": [
      "Epoch 18/512: 100%|█████████████████████████████████████████████████████████████████████| 910/910 [00:44<00:00, 20.24it/s]\n"
     ]
    },
    {
     "name": "stdout",
     "output_type": "stream",
     "text": [
      "Epoch 18/512: \n",
      "Train Loss = 0.40951, Train MSE = 0.96902, Train MAE = 0.77695, Train Acc = 0.69943\n",
      "Val Loss = 0.40744, Val MSE = 0.96837, Val MAE = 0.77060, Val Acc = 0.70058\n"
     ]
    },
    {
     "name": "stderr",
     "output_type": "stream",
     "text": [
      "Epoch 19/512: 100%|█████████████████████████████████████████████████████████████████████| 910/910 [00:45<00:00, 20.18it/s]\n"
     ]
    },
    {
     "name": "stdout",
     "output_type": "stream",
     "text": [
      "Epoch 19/512: \n",
      "Train Loss = 0.40586, Train MSE = 0.95827, Train MAE = 0.77197, Train Acc = 0.70219\n",
      "Val Loss = 0.41273, Val MSE = 0.98357, Val MAE = 0.77762, Val Acc = 0.69962\n"
     ]
    },
    {
     "name": "stderr",
     "output_type": "stream",
     "text": [
      "Epoch 20/512: 100%|█████████████████████████████████████████████████████████████████████| 910/910 [00:45<00:00, 20.19it/s]\n"
     ]
    },
    {
     "name": "stdout",
     "output_type": "stream",
     "text": [
      "Epoch 20/512: \n",
      "Train Loss = 0.40307, Train MSE = 0.95131, Train MAE = 0.76945, Train Acc = 0.70555\n",
      "Val Loss = 0.40697, Val MSE = 0.96568, Val MAE = 0.77363, Val Acc = 0.69989\n"
     ]
    },
    {
     "name": "stderr",
     "output_type": "stream",
     "text": [
      "Epoch 21/512: 100%|█████████████████████████████████████████████████████████████████████| 910/910 [00:44<00:00, 20.28it/s]\n"
     ]
    },
    {
     "name": "stdout",
     "output_type": "stream",
     "text": [
      "Epoch 21/512: \n",
      "Train Loss = 0.39637, Train MSE = 0.93364, Train MAE = 0.76114, Train Acc = 0.71134\n",
      "Val Loss = 0.39447, Val MSE = 0.93335, Val MAE = 0.75657, Val Acc = 0.71323\n"
     ]
    },
    {
     "name": "stderr",
     "output_type": "stream",
     "text": [
      "Epoch 22/512: 100%|█████████████████████████████████████████████████████████████████████| 910/910 [00:44<00:00, 20.30it/s]\n"
     ]
    },
    {
     "name": "stdout",
     "output_type": "stream",
     "text": [
      "Epoch 22/512: \n",
      "Train Loss = 0.39280, Train MSE = 0.92457, Train MAE = 0.75679, Train Acc = 0.71374\n",
      "Val Loss = 0.39021, Val MSE = 0.92625, Val MAE = 0.74914, Val Acc = 0.72202\n"
     ]
    },
    {
     "name": "stderr",
     "output_type": "stream",
     "text": [
      "Epoch 23/512: 100%|█████████████████████████████████████████████████████████████████████| 910/910 [00:45<00:00, 20.19it/s]\n"
     ]
    },
    {
     "name": "stdout",
     "output_type": "stream",
     "text": [
      "Epoch 23/512: \n",
      "Train Loss = 0.39191, Train MSE = 0.92082, Train MAE = 0.75538, Train Acc = 0.71347\n",
      "Val Loss = 0.39117, Val MSE = 0.92805, Val MAE = 0.75132, Val Acc = 0.71529\n"
     ]
    },
    {
     "name": "stderr",
     "output_type": "stream",
     "text": [
      "Epoch 24/512: 100%|█████████████████████████████████████████████████████████████████████| 910/910 [00:45<00:00, 20.19it/s]\n"
     ]
    },
    {
     "name": "stdout",
     "output_type": "stream",
     "text": [
      "Epoch 24/512: \n",
      "Train Loss = 0.38887, Train MSE = 0.91366, Train MAE = 0.75172, Train Acc = 0.71704\n",
      "Val Loss = 0.42268, Val MSE = 1.00919, Val MAE = 0.79417, Val Acc = 0.69205\n"
     ]
    },
    {
     "name": "stderr",
     "output_type": "stream",
     "text": [
      "Epoch 25/512: 100%|█████████████████████████████████████████████████████████████████████| 910/910 [00:44<00:00, 20.29it/s]\n"
     ]
    },
    {
     "name": "stdout",
     "output_type": "stream",
     "text": [
      "Epoch 25/512: \n",
      "Train Loss = 0.38563, Train MSE = 0.90498, Train MAE = 0.74753, Train Acc = 0.71953\n",
      "Val Loss = 0.39624, Val MSE = 0.93693, Val MAE = 0.76052, Val Acc = 0.70951\n"
     ]
    },
    {
     "name": "stderr",
     "output_type": "stream",
     "text": [
      "Epoch 26/512: 100%|█████████████████████████████████████████████████████████████████████| 910/910 [00:45<00:00, 20.22it/s]\n"
     ]
    },
    {
     "name": "stdout",
     "output_type": "stream",
     "text": [
      "Epoch 26/512: \n",
      "Train Loss = 0.38517, Train MSE = 0.90335, Train MAE = 0.74745, Train Acc = 0.71965\n",
      "Val Loss = 0.39580, Val MSE = 0.93775, Val MAE = 0.75929, Val Acc = 0.71226\n"
     ]
    },
    {
     "name": "stderr",
     "output_type": "stream",
     "text": [
      "Epoch 27/512: 100%|█████████████████████████████████████████████████████████████████████| 910/910 [00:45<00:00, 20.18it/s]\n"
     ]
    },
    {
     "name": "stdout",
     "output_type": "stream",
     "text": [
      "Epoch 27/512: \n",
      "Train Loss = 0.38116, Train MSE = 0.89318, Train MAE = 0.74217, Train Acc = 0.72447\n",
      "Val Loss = 0.39739, Val MSE = 0.94017, Val MAE = 0.76304, Val Acc = 0.71020\n"
     ]
    },
    {
     "name": "stderr",
     "output_type": "stream",
     "text": [
      "Epoch 28/512: 100%|█████████████████████████████████████████████████████████████████████| 910/910 [00:45<00:00, 20.11it/s]\n"
     ]
    },
    {
     "name": "stdout",
     "output_type": "stream",
     "text": [
      "Epoch 28/512: \n",
      "Train Loss = 0.38044, Train MSE = 0.89057, Train MAE = 0.74181, Train Acc = 0.72462\n",
      "Val Loss = 0.38842, Val MSE = 0.91614, Val MAE = 0.75228, Val Acc = 0.71680\n"
     ]
    },
    {
     "name": "stderr",
     "output_type": "stream",
     "text": [
      "Epoch 29/512: 100%|█████████████████████████████████████████████████████████████████████| 910/910 [00:45<00:00, 20.12it/s]\n"
     ]
    },
    {
     "name": "stdout",
     "output_type": "stream",
     "text": [
      "Epoch 29/512: \n",
      "Train Loss = 0.37766, Train MSE = 0.88396, Train MAE = 0.73750, Train Acc = 0.72624\n",
      "Val Loss = 0.39014, Val MSE = 0.92203, Val MAE = 0.75230, Val Acc = 0.71611\n"
     ]
    },
    {
     "name": "stderr",
     "output_type": "stream",
     "text": [
      "Epoch 30/512: 100%|█████████████████████████████████████████████████████████████████████| 910/910 [00:44<00:00, 20.23it/s]\n"
     ]
    },
    {
     "name": "stdout",
     "output_type": "stream",
     "text": [
      "Epoch 30/512: \n",
      "Train Loss = 0.37501, Train MSE = 0.87609, Train MAE = 0.73431, Train Acc = 0.72820\n",
      "Val Loss = 0.38294, Val MSE = 0.90170, Val MAE = 0.74480, Val Acc = 0.72216\n"
     ]
    },
    {
     "name": "stderr",
     "output_type": "stream",
     "text": [
      "Epoch 31/512: 100%|█████████████████████████████████████████████████████████████████████| 910/910 [00:45<00:00, 20.06it/s]\n"
     ]
    },
    {
     "name": "stdout",
     "output_type": "stream",
     "text": [
      "Epoch 31/512: \n",
      "Train Loss = 0.37356, Train MSE = 0.87306, Train MAE = 0.73301, Train Acc = 0.73010\n",
      "Val Loss = 0.39310, Val MSE = 0.92709, Val MAE = 0.75805, Val Acc = 0.71171\n"
     ]
    },
    {
     "name": "stderr",
     "output_type": "stream",
     "text": [
      "Epoch 32/512: 100%|█████████████████████████████████████████████████████████████████████| 910/910 [00:44<00:00, 20.23it/s]\n"
     ]
    },
    {
     "name": "stdout",
     "output_type": "stream",
     "text": [
      "Epoch 32/512: \n",
      "Train Loss = 0.36932, Train MSE = 0.86305, Train MAE = 0.72772, Train Acc = 0.73541\n",
      "Val Loss = 0.36810, Val MSE = 0.86499, Val MAE = 0.72390, Val Acc = 0.73907\n"
     ]
    },
    {
     "name": "stderr",
     "output_type": "stream",
     "text": [
      "Epoch 33/512: 100%|█████████████████████████████████████████████████████████████████████| 910/910 [00:45<00:00, 20.09it/s]\n"
     ]
    },
    {
     "name": "stdout",
     "output_type": "stream",
     "text": [
      "Epoch 33/512: \n",
      "Train Loss = 0.36797, Train MSE = 0.85824, Train MAE = 0.72596, Train Acc = 0.73480\n",
      "Val Loss = 0.36876, Val MSE = 0.86842, Val MAE = 0.72366, Val Acc = 0.73825\n"
     ]
    },
    {
     "name": "stderr",
     "output_type": "stream",
     "text": [
      "Epoch 34/512: 100%|█████████████████████████████████████████████████████████████████████| 910/910 [00:44<00:00, 20.25it/s]\n"
     ]
    },
    {
     "name": "stdout",
     "output_type": "stream",
     "text": [
      "Epoch 34/512: \n",
      "Train Loss = 0.36646, Train MSE = 0.85398, Train MAE = 0.72414, Train Acc = 0.73657\n",
      "Val Loss = 0.36424, Val MSE = 0.85552, Val MAE = 0.71958, Val Acc = 0.74526\n"
     ]
    },
    {
     "name": "stderr",
     "output_type": "stream",
     "text": [
      "Epoch 35/512: 100%|█████████████████████████████████████████████████████████████████████| 910/910 [00:44<00:00, 20.30it/s]\n"
     ]
    },
    {
     "name": "stdout",
     "output_type": "stream",
     "text": [
      "Epoch 35/512: \n",
      "Train Loss = 0.36350, Train MSE = 0.84529, Train MAE = 0.72076, Train Acc = 0.73780\n",
      "Val Loss = 0.36665, Val MSE = 0.86315, Val MAE = 0.72145, Val Acc = 0.74155\n"
     ]
    },
    {
     "name": "stderr",
     "output_type": "stream",
     "text": [
      "Epoch 36/512: 100%|█████████████████████████████████████████████████████████████████████| 910/910 [00:44<00:00, 20.26it/s]\n"
     ]
    },
    {
     "name": "stdout",
     "output_type": "stream",
     "text": [
      "Epoch 36/512: \n",
      "Train Loss = 0.36342, Train MSE = 0.84597, Train MAE = 0.72033, Train Acc = 0.73945\n",
      "Val Loss = 0.36549, Val MSE = 0.86100, Val MAE = 0.72157, Val Acc = 0.74017\n"
     ]
    },
    {
     "name": "stderr",
     "output_type": "stream",
     "text": [
      "Epoch 37/512: 100%|█████████████████████████████████████████████████████████████████████| 910/910 [00:44<00:00, 20.27it/s]\n"
     ]
    },
    {
     "name": "stdout",
     "output_type": "stream",
     "text": [
      "Epoch 37/512: \n",
      "Train Loss = 0.36107, Train MSE = 0.84008, Train MAE = 0.71709, Train Acc = 0.74176\n",
      "Val Loss = 0.37436, Val MSE = 0.87947, Val MAE = 0.73564, Val Acc = 0.73192\n"
     ]
    },
    {
     "name": "stderr",
     "output_type": "stream",
     "text": [
      "Epoch 38/512: 100%|█████████████████████████████████████████████████████████████████████| 910/910 [00:44<00:00, 20.23it/s]\n"
     ]
    },
    {
     "name": "stdout",
     "output_type": "stream",
     "text": [
      "Epoch 38/512: \n",
      "Train Loss = 0.36063, Train MSE = 0.83839, Train MAE = 0.71619, Train Acc = 0.74198\n",
      "Val Loss = 0.37575, Val MSE = 0.88364, Val MAE = 0.73590, Val Acc = 0.72574\n"
     ]
    },
    {
     "name": "stderr",
     "output_type": "stream",
     "text": [
      "Epoch 39/512: 100%|█████████████████████████████████████████████████████████████████████| 910/910 [00:44<00:00, 20.25it/s]\n"
     ]
    },
    {
     "name": "stdout",
     "output_type": "stream",
     "text": [
      "Epoch 39/512: \n",
      "Train Loss = 0.35648, Train MSE = 0.82732, Train MAE = 0.71212, Train Acc = 0.74573\n",
      "Val Loss = 0.35826, Val MSE = 0.83894, Val MAE = 0.71104, Val Acc = 0.74333\n"
     ]
    },
    {
     "name": "stderr",
     "output_type": "stream",
     "text": [
      "Epoch 40/512: 100%|█████████████████████████████████████████████████████████████████████| 910/910 [00:45<00:00, 20.16it/s]\n"
     ]
    },
    {
     "name": "stdout",
     "output_type": "stream",
     "text": [
      "Epoch 40/512: \n",
      "Train Loss = 0.35493, Train MSE = 0.82415, Train MAE = 0.70942, Train Acc = 0.74578\n",
      "Val Loss = 0.34764, Val MSE = 0.80913, Val MAE = 0.69871, Val Acc = 0.75337\n"
     ]
    },
    {
     "name": "stderr",
     "output_type": "stream",
     "text": [
      "Epoch 41/512: 100%|█████████████████████████████████████████████████████████████████████| 910/910 [00:45<00:00, 20.22it/s]\n"
     ]
    },
    {
     "name": "stdout",
     "output_type": "stream",
     "text": [
      "Epoch 41/512: \n",
      "Train Loss = 0.35348, Train MSE = 0.81988, Train MAE = 0.70772, Train Acc = 0.74717\n",
      "Val Loss = 0.34830, Val MSE = 0.81262, Val MAE = 0.70003, Val Acc = 0.75337\n"
     ]
    },
    {
     "name": "stderr",
     "output_type": "stream",
     "text": [
      "Epoch 42/512: 100%|█████████████████████████████████████████████████████████████████████| 910/910 [00:45<00:00, 20.18it/s]\n"
     ]
    },
    {
     "name": "stdout",
     "output_type": "stream",
     "text": [
      "Epoch 42/512: \n",
      "Train Loss = 0.35397, Train MSE = 0.82161, Train MAE = 0.70869, Train Acc = 0.74712\n",
      "Val Loss = 0.39459, Val MSE = 0.95061, Val MAE = 0.75434, Val Acc = 0.72450\n"
     ]
    },
    {
     "name": "stderr",
     "output_type": "stream",
     "text": [
      "Epoch 43/512: 100%|█████████████████████████████████████████████████████████████████████| 910/910 [00:44<00:00, 20.32it/s]\n"
     ]
    },
    {
     "name": "stdout",
     "output_type": "stream",
     "text": [
      "Epoch 43/512: \n",
      "Train Loss = 0.35012, Train MSE = 0.81290, Train MAE = 0.70337, Train Acc = 0.75031\n",
      "Val Loss = 0.35447, Val MSE = 0.82761, Val MAE = 0.70919, Val Acc = 0.74924\n"
     ]
    },
    {
     "name": "stderr",
     "output_type": "stream",
     "text": [
      "Epoch 44/512: 100%|█████████████████████████████████████████████████████████████████████| 910/910 [00:44<00:00, 20.34it/s]\n"
     ]
    },
    {
     "name": "stdout",
     "output_type": "stream",
     "text": [
      "Epoch 44/512: \n",
      "Train Loss = 0.35018, Train MSE = 0.81084, Train MAE = 0.70396, Train Acc = 0.75193\n",
      "Val Loss = 0.35815, Val MSE = 0.84193, Val MAE = 0.71005, Val Acc = 0.75048\n"
     ]
    },
    {
     "name": "stderr",
     "output_type": "stream",
     "text": [
      "Epoch 45/512: 100%|█████████████████████████████████████████████████████████████████████| 910/910 [00:44<00:00, 20.33it/s]\n"
     ]
    },
    {
     "name": "stdout",
     "output_type": "stream",
     "text": [
      "Epoch 45/512: \n",
      "Train Loss = 0.34913, Train MSE = 0.80667, Train MAE = 0.70335, Train Acc = 0.75128\n",
      "Val Loss = 0.36629, Val MSE = 0.86817, Val MAE = 0.71840, Val Acc = 0.74223\n"
     ]
    },
    {
     "name": "stderr",
     "output_type": "stream",
     "text": [
      "Epoch 46/512: 100%|█████████████████████████████████████████████████████████████████████| 910/910 [00:44<00:00, 20.25it/s]\n"
     ]
    },
    {
     "name": "stdout",
     "output_type": "stream",
     "text": [
      "Epoch 46/512: \n",
      "Train Loss = 0.34838, Train MSE = 0.80646, Train MAE = 0.70100, Train Acc = 0.75167\n",
      "Val Loss = 0.34255, Val MSE = 0.79637, Val MAE = 0.69081, Val Acc = 0.75323\n"
     ]
    },
    {
     "name": "stderr",
     "output_type": "stream",
     "text": [
      "Epoch 47/512: 100%|█████████████████████████████████████████████████████████████████████| 910/910 [00:45<00:00, 20.15it/s]\n"
     ]
    },
    {
     "name": "stdout",
     "output_type": "stream",
     "text": [
      "Epoch 47/512: \n",
      "Train Loss = 0.34388, Train MSE = 0.79534, Train MAE = 0.69530, Train Acc = 0.75557\n",
      "Val Loss = 0.35913, Val MSE = 0.84591, Val MAE = 0.71120, Val Acc = 0.74388\n"
     ]
    },
    {
     "name": "stderr",
     "output_type": "stream",
     "text": [
      "Epoch 48/512: 100%|█████████████████████████████████████████████████████████████████████| 910/910 [00:45<00:00, 20.10it/s]\n"
     ]
    },
    {
     "name": "stdout",
     "output_type": "stream",
     "text": [
      "Epoch 48/512: \n",
      "Train Loss = 0.34382, Train MSE = 0.79494, Train MAE = 0.69552, Train Acc = 0.75678\n",
      "Val Loss = 0.35360, Val MSE = 0.82926, Val MAE = 0.70410, Val Acc = 0.75241\n"
     ]
    },
    {
     "name": "stderr",
     "output_type": "stream",
     "text": [
      "Epoch 49/512: 100%|█████████████████████████████████████████████████████████████████████| 910/910 [00:45<00:00, 20.17it/s]\n"
     ]
    },
    {
     "name": "stdout",
     "output_type": "stream",
     "text": [
      "Epoch 49/512: \n",
      "Train Loss = 0.34207, Train MSE = 0.79052, Train MAE = 0.69286, Train Acc = 0.75688\n",
      "Val Loss = 0.36919, Val MSE = 0.87173, Val MAE = 0.72343, Val Acc = 0.73660\n"
     ]
    },
    {
     "name": "stderr",
     "output_type": "stream",
     "text": [
      "Epoch 50/512: 100%|█████████████████████████████████████████████████████████████████████| 910/910 [00:45<00:00, 20.16it/s]\n"
     ]
    },
    {
     "name": "stdout",
     "output_type": "stream",
     "text": [
      "Epoch 50/512: \n",
      "Train Loss = 0.34142, Train MSE = 0.78748, Train MAE = 0.69278, Train Acc = 0.75635\n",
      "Val Loss = 0.34818, Val MSE = 0.81416, Val MAE = 0.69765, Val Acc = 0.75296\n"
     ]
    },
    {
     "name": "stderr",
     "output_type": "stream",
     "text": [
      "Epoch 51/512: 100%|█████████████████████████████████████████████████████████████████████| 910/910 [00:45<00:00, 20.18it/s]\n"
     ]
    },
    {
     "name": "stdout",
     "output_type": "stream",
     "text": [
      "Epoch 51/512: \n",
      "Train Loss = 0.34033, Train MSE = 0.78524, Train MAE = 0.69149, Train Acc = 0.75868\n",
      "Val Loss = 0.34167, Val MSE = 0.79914, Val MAE = 0.69012, Val Acc = 0.76203\n"
     ]
    },
    {
     "name": "stderr",
     "output_type": "stream",
     "text": [
      "Epoch 52/512: 100%|█████████████████████████████████████████████████████████████████████| 910/910 [00:44<00:00, 20.31it/s]\n"
     ]
    },
    {
     "name": "stdout",
     "output_type": "stream",
     "text": [
      "Epoch 52/512: \n",
      "Train Loss = 0.33859, Train MSE = 0.78030, Train MAE = 0.68913, Train Acc = 0.75899\n",
      "Val Loss = 0.34971, Val MSE = 0.81709, Val MAE = 0.70128, Val Acc = 0.75089\n"
     ]
    },
    {
     "name": "stderr",
     "output_type": "stream",
     "text": [
      "Epoch 53/512: 100%|█████████████████████████████████████████████████████████████████████| 910/910 [00:45<00:00, 20.19it/s]\n"
     ]
    },
    {
     "name": "stdout",
     "output_type": "stream",
     "text": [
      "Epoch 53/512: \n",
      "Train Loss = 0.33836, Train MSE = 0.78156, Train MAE = 0.68866, Train Acc = 0.76105\n",
      "Val Loss = 0.34565, Val MSE = 0.80399, Val MAE = 0.69551, Val Acc = 0.75681\n"
     ]
    },
    {
     "name": "stderr",
     "output_type": "stream",
     "text": [
      "Epoch 54/512: 100%|█████████████████████████████████████████████████████████████████████| 910/910 [00:44<00:00, 20.27it/s]\n"
     ]
    },
    {
     "name": "stdout",
     "output_type": "stream",
     "text": [
      "Epoch 54/512: \n",
      "Train Loss = 0.33592, Train MSE = 0.77467, Train MAE = 0.68550, Train Acc = 0.76377\n",
      "Val Loss = 0.34812, Val MSE = 0.81583, Val MAE = 0.69878, Val Acc = 0.75364\n"
     ]
    },
    {
     "name": "stderr",
     "output_type": "stream",
     "text": [
      "Epoch 55/512: 100%|█████████████████████████████████████████████████████████████████████| 910/910 [00:45<00:00, 20.16it/s]\n"
     ]
    },
    {
     "name": "stdout",
     "output_type": "stream",
     "text": [
      "Epoch 55/512: \n",
      "Train Loss = 0.33646, Train MSE = 0.77446, Train MAE = 0.68655, Train Acc = 0.76205\n",
      "Val Loss = 0.33952, Val MSE = 0.79040, Val MAE = 0.68685, Val Acc = 0.76230\n"
     ]
    },
    {
     "name": "stderr",
     "output_type": "stream",
     "text": [
      "Epoch 56/512: 100%|█████████████████████████████████████████████████████████████████████| 910/910 [00:44<00:00, 20.34it/s]\n"
     ]
    },
    {
     "name": "stdout",
     "output_type": "stream",
     "text": [
      "Epoch 56/512: \n",
      "Train Loss = 0.33502, Train MSE = 0.77220, Train MAE = 0.68492, Train Acc = 0.76394\n",
      "Val Loss = 0.33487, Val MSE = 0.77620, Val MAE = 0.68394, Val Acc = 0.76547\n"
     ]
    },
    {
     "name": "stderr",
     "output_type": "stream",
     "text": [
      "Epoch 57/512: 100%|█████████████████████████████████████████████████████████████████████| 910/910 [00:45<00:00, 20.16it/s]\n"
     ]
    },
    {
     "name": "stdout",
     "output_type": "stream",
     "text": [
      "Epoch 57/512: \n",
      "Train Loss = 0.33348, Train MSE = 0.76736, Train MAE = 0.68299, Train Acc = 0.76429\n",
      "Val Loss = 0.34026, Val MSE = 0.79416, Val MAE = 0.68832, Val Acc = 0.76244\n"
     ]
    },
    {
     "name": "stderr",
     "output_type": "stream",
     "text": [
      "Epoch 58/512: 100%|█████████████████████████████████████████████████████████████████████| 910/910 [00:45<00:00, 20.18it/s]\n"
     ]
    },
    {
     "name": "stdout",
     "output_type": "stream",
     "text": [
      "Epoch 58/512: \n",
      "Train Loss = 0.33281, Train MSE = 0.76489, Train MAE = 0.68166, Train Acc = 0.76348\n",
      "Val Loss = 0.35724, Val MSE = 0.83318, Val MAE = 0.71289, Val Acc = 0.74471\n"
     ]
    },
    {
     "name": "stderr",
     "output_type": "stream",
     "text": [
      "Epoch 59/512: 100%|█████████████████████████████████████████████████████████████████████| 910/910 [00:45<00:00, 20.20it/s]\n"
     ]
    },
    {
     "name": "stdout",
     "output_type": "stream",
     "text": [
      "Epoch 59/512: \n",
      "Train Loss = 0.32915, Train MSE = 0.75622, Train MAE = 0.67746, Train Acc = 0.76800\n",
      "Val Loss = 0.36050, Val MSE = 0.85348, Val MAE = 0.71105, Val Acc = 0.74746\n"
     ]
    },
    {
     "name": "stderr",
     "output_type": "stream",
     "text": [
      "Epoch 60/512: 100%|█████████████████████████████████████████████████████████████████████| 910/910 [00:45<00:00, 20.18it/s]\n"
     ]
    },
    {
     "name": "stdout",
     "output_type": "stream",
     "text": [
      "Epoch 60/512: \n",
      "Train Loss = 0.33110, Train MSE = 0.76248, Train MAE = 0.67951, Train Acc = 0.76831\n",
      "Val Loss = 0.35493, Val MSE = 0.83040, Val MAE = 0.70925, Val Acc = 0.74691\n"
     ]
    },
    {
     "name": "stderr",
     "output_type": "stream",
     "text": [
      "Epoch 61/512: 100%|█████████████████████████████████████████████████████████████████████| 910/910 [00:44<00:00, 20.34it/s]\n"
     ]
    },
    {
     "name": "stdout",
     "output_type": "stream",
     "text": [
      "Epoch 61/512: \n",
      "Train Loss = 0.33043, Train MSE = 0.75942, Train MAE = 0.67867, Train Acc = 0.76679\n",
      "Val Loss = 0.34578, Val MSE = 0.81129, Val MAE = 0.69478, Val Acc = 0.75914\n"
     ]
    },
    {
     "name": "stderr",
     "output_type": "stream",
     "text": [
      "Epoch 62/512: 100%|█████████████████████████████████████████████████████████████████████| 910/910 [00:44<00:00, 20.24it/s]\n"
     ]
    },
    {
     "name": "stdout",
     "output_type": "stream",
     "text": [
      "Epoch 62/512: \n",
      "Train Loss = 0.32823, Train MSE = 0.75353, Train MAE = 0.67576, Train Acc = 0.76915\n",
      "Val Loss = 0.33777, Val MSE = 0.78481, Val MAE = 0.68741, Val Acc = 0.76065\n"
     ]
    },
    {
     "name": "stderr",
     "output_type": "stream",
     "text": [
      "Epoch 63/512: 100%|█████████████████████████████████████████████████████████████████████| 910/910 [00:44<00:00, 20.27it/s]\n"
     ]
    },
    {
     "name": "stdout",
     "output_type": "stream",
     "text": [
      "Epoch 63/512: \n",
      "Train Loss = 0.32807, Train MSE = 0.75358, Train MAE = 0.67508, Train Acc = 0.76990\n",
      "Val Loss = 0.34197, Val MSE = 0.79820, Val MAE = 0.69012, Val Acc = 0.76093\n"
     ]
    },
    {
     "name": "stderr",
     "output_type": "stream",
     "text": [
      "Epoch 64/512: 100%|█████████████████████████████████████████████████████████████████████| 910/910 [00:45<00:00, 20.21it/s]\n"
     ]
    },
    {
     "name": "stdout",
     "output_type": "stream",
     "text": [
      "Epoch 64/512: \n",
      "Train Loss = 0.32853, Train MSE = 0.75459, Train MAE = 0.67648, Train Acc = 0.76844\n",
      "Val Loss = 0.34477, Val MSE = 0.80317, Val MAE = 0.69631, Val Acc = 0.75571\n"
     ]
    },
    {
     "name": "stderr",
     "output_type": "stream",
     "text": [
      "Epoch 65/512: 100%|█████████████████████████████████████████████████████████████████████| 910/910 [00:45<00:00, 20.11it/s]\n"
     ]
    },
    {
     "name": "stdout",
     "output_type": "stream",
     "text": [
      "Epoch 65/512: \n",
      "Train Loss = 0.32566, Train MSE = 0.74760, Train MAE = 0.67257, Train Acc = 0.77176\n",
      "Val Loss = 0.33699, Val MSE = 0.78659, Val MAE = 0.68301, Val Acc = 0.76615\n"
     ]
    },
    {
     "name": "stderr",
     "output_type": "stream",
     "text": [
      "Epoch 66/512: 100%|█████████████████████████████████████████████████████████████████████| 910/910 [00:45<00:00, 20.15it/s]\n"
     ]
    },
    {
     "name": "stdout",
     "output_type": "stream",
     "text": [
      "Epoch 66/512: \n",
      "Train Loss = 0.32456, Train MSE = 0.74455, Train MAE = 0.67049, Train Acc = 0.77241\n",
      "Val Loss = 0.35234, Val MSE = 0.82630, Val MAE = 0.70330, Val Acc = 0.74869\n"
     ]
    },
    {
     "name": "stderr",
     "output_type": "stream",
     "text": [
      "Epoch 67/512: 100%|█████████████████████████████████████████████████████████████████████| 910/910 [00:45<00:00, 20.19it/s]\n"
     ]
    },
    {
     "name": "stdout",
     "output_type": "stream",
     "text": [
      "Epoch 67/512: \n",
      "Train Loss = 0.32458, Train MSE = 0.74364, Train MAE = 0.67194, Train Acc = 0.77178\n",
      "Val Loss = 0.33421, Val MSE = 0.78339, Val MAE = 0.67810, Val Acc = 0.76780\n"
     ]
    },
    {
     "name": "stderr",
     "output_type": "stream",
     "text": [
      "Epoch 68/512: 100%|█████████████████████████████████████████████████████████████████████| 910/910 [00:45<00:00, 20.11it/s]\n"
     ]
    },
    {
     "name": "stdout",
     "output_type": "stream",
     "text": [
      "Epoch 68/512: \n",
      "Train Loss = 0.32401, Train MSE = 0.74408, Train MAE = 0.67055, Train Acc = 0.77406\n",
      "Val Loss = 0.33097, Val MSE = 0.77037, Val MAE = 0.67517, Val Acc = 0.77028\n"
     ]
    },
    {
     "name": "stderr",
     "output_type": "stream",
     "text": [
      "Epoch 69/512: 100%|█████████████████████████████████████████████████████████████████████| 910/910 [00:45<00:00, 20.20it/s]\n"
     ]
    },
    {
     "name": "stdout",
     "output_type": "stream",
     "text": [
      "Epoch 69/512: \n",
      "Train Loss = 0.32206, Train MSE = 0.73787, Train MAE = 0.66854, Train Acc = 0.77597\n",
      "Val Loss = 0.32732, Val MSE = 0.76020, Val MAE = 0.67270, Val Acc = 0.77468\n"
     ]
    },
    {
     "name": "stderr",
     "output_type": "stream",
     "text": [
      "Epoch 70/512: 100%|█████████████████████████████████████████████████████████████████████| 910/910 [00:44<00:00, 20.25it/s]\n"
     ]
    },
    {
     "name": "stdout",
     "output_type": "stream",
     "text": [
      "Epoch 70/512: \n",
      "Train Loss = 0.32102, Train MSE = 0.73483, Train MAE = 0.66704, Train Acc = 0.77503\n",
      "Val Loss = 0.33360, Val MSE = 0.78243, Val MAE = 0.67807, Val Acc = 0.76560\n"
     ]
    },
    {
     "name": "stderr",
     "output_type": "stream",
     "text": [
      "Epoch 71/512: 100%|█████████████████████████████████████████████████████████████████████| 910/910 [00:44<00:00, 20.22it/s]\n"
     ]
    },
    {
     "name": "stdout",
     "output_type": "stream",
     "text": [
      "Epoch 71/512: \n",
      "Train Loss = 0.31968, Train MSE = 0.73140, Train MAE = 0.66466, Train Acc = 0.77492\n",
      "Val Loss = 0.33179, Val MSE = 0.76847, Val MAE = 0.67968, Val Acc = 0.76615\n"
     ]
    },
    {
     "name": "stderr",
     "output_type": "stream",
     "text": [
      "Epoch 72/512: 100%|█████████████████████████████████████████████████████████████████████| 910/910 [00:45<00:00, 20.21it/s]\n"
     ]
    },
    {
     "name": "stdout",
     "output_type": "stream",
     "text": [
      "Epoch 72/512: \n",
      "Train Loss = 0.31887, Train MSE = 0.72995, Train MAE = 0.66349, Train Acc = 0.77704\n",
      "Val Loss = 0.34204, Val MSE = 0.79783, Val MAE = 0.69173, Val Acc = 0.75928\n"
     ]
    },
    {
     "name": "stderr",
     "output_type": "stream",
     "text": [
      "Epoch 73/512: 100%|█████████████████████████████████████████████████████████████████████| 910/910 [00:45<00:00, 20.18it/s]\n"
     ]
    },
    {
     "name": "stdout",
     "output_type": "stream",
     "text": [
      "Epoch 73/512: \n",
      "Train Loss = 0.31910, Train MSE = 0.73065, Train MAE = 0.66387, Train Acc = 0.77609\n",
      "Val Loss = 0.35503, Val MSE = 0.83230, Val MAE = 0.70772, Val Acc = 0.74718\n"
     ]
    },
    {
     "name": "stderr",
     "output_type": "stream",
     "text": [
      "Epoch 74/512: 100%|█████████████████████████████████████████████████████████████████████| 910/910 [00:45<00:00, 20.16it/s]\n"
     ]
    },
    {
     "name": "stdout",
     "output_type": "stream",
     "text": [
      "Epoch 74/512: \n",
      "Train Loss = 0.31828, Train MSE = 0.72752, Train MAE = 0.66375, Train Acc = 0.77711\n",
      "Val Loss = 0.33558, Val MSE = 0.78586, Val MAE = 0.68010, Val Acc = 0.76890\n"
     ]
    },
    {
     "name": "stderr",
     "output_type": "stream",
     "text": [
      "Epoch 75/512: 100%|█████████████████████████████████████████████████████████████████████| 910/910 [00:45<00:00, 20.21it/s]\n"
     ]
    },
    {
     "name": "stdout",
     "output_type": "stream",
     "text": [
      "Epoch 75/512: \n",
      "Train Loss = 0.31610, Train MSE = 0.72243, Train MAE = 0.66002, Train Acc = 0.77886\n",
      "Val Loss = 0.33200, Val MSE = 0.77124, Val MAE = 0.67815, Val Acc = 0.76959\n"
     ]
    },
    {
     "name": "stderr",
     "output_type": "stream",
     "text": [
      "Epoch 76/512: 100%|█████████████████████████████████████████████████████████████████████| 910/910 [00:45<00:00, 20.17it/s]\n"
     ]
    },
    {
     "name": "stdout",
     "output_type": "stream",
     "text": [
      "Epoch 76/512: \n",
      "Train Loss = 0.31734, Train MSE = 0.72711, Train MAE = 0.66184, Train Acc = 0.77810\n",
      "Val Loss = 0.32705, Val MSE = 0.75855, Val MAE = 0.67069, Val Acc = 0.76973\n"
     ]
    },
    {
     "name": "stderr",
     "output_type": "stream",
     "text": [
      "Epoch 77/512: 100%|█████████████████████████████████████████████████████████████████████| 910/910 [00:45<00:00, 20.19it/s]\n"
     ]
    },
    {
     "name": "stdout",
     "output_type": "stream",
     "text": [
      "Epoch 77/512: \n",
      "Train Loss = 0.31657, Train MSE = 0.72307, Train MAE = 0.66098, Train Acc = 0.77740\n",
      "Val Loss = 0.32373, Val MSE = 0.74996, Val MAE = 0.66566, Val Acc = 0.77179\n"
     ]
    },
    {
     "name": "stderr",
     "output_type": "stream",
     "text": [
      "Epoch 78/512: 100%|█████████████████████████████████████████████████████████████████████| 910/910 [00:44<00:00, 20.24it/s]\n"
     ]
    },
    {
     "name": "stdout",
     "output_type": "stream",
     "text": [
      "Epoch 78/512: \n",
      "Train Loss = 0.31416, Train MSE = 0.71768, Train MAE = 0.65789, Train Acc = 0.78192\n",
      "Val Loss = 0.33357, Val MSE = 0.77722, Val MAE = 0.67837, Val Acc = 0.76739\n"
     ]
    },
    {
     "name": "stderr",
     "output_type": "stream",
     "text": [
      "Epoch 79/512: 100%|█████████████████████████████████████████████████████████████████████| 910/910 [00:44<00:00, 20.26it/s]\n"
     ]
    },
    {
     "name": "stdout",
     "output_type": "stream",
     "text": [
      "Epoch 79/512: \n",
      "Train Loss = 0.31464, Train MSE = 0.71931, Train MAE = 0.65863, Train Acc = 0.78204\n",
      "Val Loss = 0.32967, Val MSE = 0.76765, Val MAE = 0.67426, Val Acc = 0.77152\n"
     ]
    },
    {
     "name": "stderr",
     "output_type": "stream",
     "text": [
      "Epoch 80/512: 100%|█████████████████████████████████████████████████████████████████████| 910/910 [00:45<00:00, 20.17it/s]\n"
     ]
    },
    {
     "name": "stdout",
     "output_type": "stream",
     "text": [
      "Epoch 80/512: \n",
      "Train Loss = 0.31351, Train MSE = 0.71546, Train MAE = 0.65710, Train Acc = 0.78130\n",
      "Val Loss = 0.33716, Val MSE = 0.78588, Val MAE = 0.68478, Val Acc = 0.76120\n"
     ]
    },
    {
     "name": "stderr",
     "output_type": "stream",
     "text": [
      "Epoch 81/512: 100%|█████████████████████████████████████████████████████████████████████| 910/910 [00:45<00:00, 20.20it/s]\n"
     ]
    },
    {
     "name": "stdout",
     "output_type": "stream",
     "text": [
      "Epoch 81/512: \n",
      "Train Loss = 0.31427, Train MSE = 0.71735, Train MAE = 0.65802, Train Acc = 0.78073\n",
      "Val Loss = 0.32271, Val MSE = 0.74251, Val MAE = 0.66662, Val Acc = 0.77000\n"
     ]
    },
    {
     "name": "stderr",
     "output_type": "stream",
     "text": [
      "Epoch 82/512: 100%|█████████████████████████████████████████████████████████████████████| 910/910 [00:44<00:00, 20.26it/s]\n"
     ]
    },
    {
     "name": "stdout",
     "output_type": "stream",
     "text": [
      "Epoch 82/512: \n",
      "Train Loss = 0.31344, Train MSE = 0.71514, Train MAE = 0.65732, Train Acc = 0.78085\n",
      "Val Loss = 0.31489, Val MSE = 0.72822, Val MAE = 0.65597, Val Acc = 0.78403\n"
     ]
    },
    {
     "name": "stderr",
     "output_type": "stream",
     "text": [
      "Epoch 83/512: 100%|█████████████████████████████████████████████████████████████████████| 910/910 [00:45<00:00, 20.18it/s]\n"
     ]
    },
    {
     "name": "stdout",
     "output_type": "stream",
     "text": [
      "Epoch 83/512: \n",
      "Train Loss = 0.31060, Train MSE = 0.70774, Train MAE = 0.65316, Train Acc = 0.78370\n",
      "Val Loss = 0.32875, Val MSE = 0.76029, Val MAE = 0.67655, Val Acc = 0.77179\n"
     ]
    },
    {
     "name": "stderr",
     "output_type": "stream",
     "text": [
      "Epoch 84/512: 100%|█████████████████████████████████████████████████████████████████████| 910/910 [00:45<00:00, 20.15it/s]\n"
     ]
    },
    {
     "name": "stdout",
     "output_type": "stream",
     "text": [
      "Epoch 84/512: \n",
      "Train Loss = 0.31117, Train MSE = 0.70947, Train MAE = 0.65368, Train Acc = 0.78231\n",
      "Val Loss = 0.32565, Val MSE = 0.75817, Val MAE = 0.66841, Val Acc = 0.77124\n"
     ]
    },
    {
     "name": "stderr",
     "output_type": "stream",
     "text": [
      "Epoch 85/512: 100%|█████████████████████████████████████████████████████████████████████| 910/910 [00:45<00:00, 20.16it/s]\n"
     ]
    },
    {
     "name": "stdout",
     "output_type": "stream",
     "text": [
      "Epoch 85/512: \n",
      "Train Loss = 0.31137, Train MSE = 0.71037, Train MAE = 0.65436, Train Acc = 0.78396\n",
      "Val Loss = 0.33207, Val MSE = 0.76996, Val MAE = 0.67981, Val Acc = 0.76808\n"
     ]
    },
    {
     "name": "stderr",
     "output_type": "stream",
     "text": [
      "Epoch 86/512: 100%|█████████████████████████████████████████████████████████████████████| 910/910 [00:45<00:00, 20.19it/s]\n"
     ]
    },
    {
     "name": "stdout",
     "output_type": "stream",
     "text": [
      "Epoch 86/512: \n",
      "Train Loss = 0.31007, Train MSE = 0.70603, Train MAE = 0.65324, Train Acc = 0.78477\n",
      "Val Loss = 0.32221, Val MSE = 0.74562, Val MAE = 0.66568, Val Acc = 0.77770\n"
     ]
    },
    {
     "name": "stderr",
     "output_type": "stream",
     "text": [
      "Epoch 87/512: 100%|█████████████████████████████████████████████████████████████████████| 910/910 [00:44<00:00, 20.23it/s]\n"
     ]
    },
    {
     "name": "stdout",
     "output_type": "stream",
     "text": [
      "Epoch 87/512: \n",
      "Train Loss = 0.30993, Train MSE = 0.70551, Train MAE = 0.65211, Train Acc = 0.78383\n",
      "Val Loss = 0.32210, Val MSE = 0.74686, Val MAE = 0.66504, Val Acc = 0.77853\n"
     ]
    },
    {
     "name": "stderr",
     "output_type": "stream",
     "text": [
      "Epoch 88/512: 100%|█████████████████████████████████████████████████████████████████████| 910/910 [00:45<00:00, 20.20it/s]\n"
     ]
    },
    {
     "name": "stdout",
     "output_type": "stream",
     "text": [
      "Epoch 88/512: \n",
      "Train Loss = 0.30878, Train MSE = 0.70279, Train MAE = 0.65060, Train Acc = 0.78434\n",
      "Val Loss = 0.32713, Val MSE = 0.76106, Val MAE = 0.67185, Val Acc = 0.77660\n"
     ]
    },
    {
     "name": "stderr",
     "output_type": "stream",
     "text": [
      "Epoch 89/512: 100%|█████████████████████████████████████████████████████████████████████| 910/910 [00:45<00:00, 20.11it/s]\n"
     ]
    },
    {
     "name": "stdout",
     "output_type": "stream",
     "text": [
      "Epoch 89/512: \n",
      "Train Loss = 0.30716, Train MSE = 0.69830, Train MAE = 0.64883, Train Acc = 0.78673\n",
      "Val Loss = 0.31481, Val MSE = 0.72859, Val MAE = 0.65571, Val Acc = 0.78622\n"
     ]
    },
    {
     "name": "stderr",
     "output_type": "stream",
     "text": [
      "Epoch 90/512: 100%|█████████████████████████████████████████████████████████████████████| 910/910 [00:44<00:00, 20.30it/s]\n"
     ]
    },
    {
     "name": "stdout",
     "output_type": "stream",
     "text": [
      "Epoch 90/512: \n",
      "Train Loss = 0.30720, Train MSE = 0.69959, Train MAE = 0.64940, Train Acc = 0.78810\n",
      "Val Loss = 0.34625, Val MSE = 0.80668, Val MAE = 0.69990, Val Acc = 0.75749\n"
     ]
    },
    {
     "name": "stderr",
     "output_type": "stream",
     "text": [
      "Epoch 91/512: 100%|█████████████████████████████████████████████████████████████████████| 910/910 [00:45<00:00, 20.19it/s]\n"
     ]
    },
    {
     "name": "stdout",
     "output_type": "stream",
     "text": [
      "Epoch 91/512: \n",
      "Train Loss = 0.30561, Train MSE = 0.69508, Train MAE = 0.64618, Train Acc = 0.78785\n",
      "Val Loss = 0.34079, Val MSE = 0.79174, Val MAE = 0.69148, Val Acc = 0.75859\n"
     ]
    },
    {
     "name": "stderr",
     "output_type": "stream",
     "text": [
      "Epoch 92/512: 100%|█████████████████████████████████████████████████████████████████████| 910/910 [00:44<00:00, 20.26it/s]\n"
     ]
    },
    {
     "name": "stdout",
     "output_type": "stream",
     "text": [
      "Epoch 92/512: \n",
      "Train Loss = 0.30416, Train MSE = 0.69142, Train MAE = 0.64476, Train Acc = 0.78888\n",
      "Val Loss = 0.33142, Val MSE = 0.77049, Val MAE = 0.67790, Val Acc = 0.77165\n"
     ]
    },
    {
     "name": "stderr",
     "output_type": "stream",
     "text": [
      "Epoch 93/512: 100%|█████████████████████████████████████████████████████████████████████| 910/910 [00:45<00:00, 20.13it/s]\n"
     ]
    },
    {
     "name": "stdout",
     "output_type": "stream",
     "text": [
      "Epoch 93/512: \n",
      "Train Loss = 0.30452, Train MSE = 0.69276, Train MAE = 0.64567, Train Acc = 0.78982\n",
      "Val Loss = 0.30873, Val MSE = 0.71136, Val MAE = 0.64803, Val Acc = 0.79035\n"
     ]
    },
    {
     "name": "stderr",
     "output_type": "stream",
     "text": [
      "Epoch 94/512: 100%|█████████████████████████████████████████████████████████████████████| 910/910 [00:44<00:00, 20.25it/s]\n"
     ]
    },
    {
     "name": "stdout",
     "output_type": "stream",
     "text": [
      "Epoch 94/512: \n",
      "Train Loss = 0.30452, Train MSE = 0.69174, Train MAE = 0.64513, Train Acc = 0.78948\n",
      "Val Loss = 0.31490, Val MSE = 0.72752, Val MAE = 0.65689, Val Acc = 0.78554\n"
     ]
    },
    {
     "name": "stderr",
     "output_type": "stream",
     "text": [
      "Epoch 95/512: 100%|█████████████████████████████████████████████████████████████████████| 910/910 [00:44<00:00, 20.26it/s]\n"
     ]
    },
    {
     "name": "stdout",
     "output_type": "stream",
     "text": [
      "Epoch 95/512: \n",
      "Train Loss = 0.30323, Train MSE = 0.68834, Train MAE = 0.64395, Train Acc = 0.79013\n",
      "Val Loss = 0.31634, Val MSE = 0.73013, Val MAE = 0.65617, Val Acc = 0.77825\n"
     ]
    },
    {
     "name": "stderr",
     "output_type": "stream",
     "text": [
      "Epoch 96/512: 100%|█████████████████████████████████████████████████████████████████████| 910/910 [00:45<00:00, 20.10it/s]\n"
     ]
    },
    {
     "name": "stdout",
     "output_type": "stream",
     "text": [
      "Epoch 96/512: \n",
      "Train Loss = 0.30287, Train MSE = 0.68790, Train MAE = 0.64313, Train Acc = 0.79121\n",
      "Val Loss = 0.32542, Val MSE = 0.76014, Val MAE = 0.66844, Val Acc = 0.77688\n"
     ]
    },
    {
     "name": "stderr",
     "output_type": "stream",
     "text": [
      "Epoch 97/512: 100%|█████████████████████████████████████████████████████████████████████| 910/910 [00:45<00:00, 20.22it/s]\n"
     ]
    },
    {
     "name": "stdout",
     "output_type": "stream",
     "text": [
      "Epoch 97/512: \n",
      "Train Loss = 0.30191, Train MSE = 0.68488, Train MAE = 0.64296, Train Acc = 0.79159\n",
      "Val Loss = 0.32258, Val MSE = 0.74543, Val MAE = 0.66771, Val Acc = 0.77743\n"
     ]
    },
    {
     "name": "stderr",
     "output_type": "stream",
     "text": [
      "Epoch 98/512: 100%|█████████████████████████████████████████████████████████████████████| 910/910 [00:45<00:00, 20.13it/s]\n"
     ]
    },
    {
     "name": "stdout",
     "output_type": "stream",
     "text": [
      "Epoch 98/512: \n",
      "Train Loss = 0.30235, Train MSE = 0.68740, Train MAE = 0.64210, Train Acc = 0.79089\n",
      "Val Loss = 0.31882, Val MSE = 0.74002, Val MAE = 0.66189, Val Acc = 0.78045\n"
     ]
    },
    {
     "name": "stderr",
     "output_type": "stream",
     "text": [
      "Epoch 99/512: 100%|█████████████████████████████████████████████████████████████████████| 910/910 [00:44<00:00, 20.22it/s]\n"
     ]
    },
    {
     "name": "stdout",
     "output_type": "stream",
     "text": [
      "Epoch 99/512: \n",
      "Train Loss = 0.30058, Train MSE = 0.68209, Train MAE = 0.64017, Train Acc = 0.79259\n",
      "Val Loss = 0.32374, Val MSE = 0.75534, Val MAE = 0.66479, Val Acc = 0.77385\n"
     ]
    },
    {
     "name": "stderr",
     "output_type": "stream",
     "text": [
      "Epoch 100/512: 100%|████████████████████████████████████████████████████████████████████| 910/910 [00:45<00:00, 20.20it/s]\n"
     ]
    },
    {
     "name": "stdout",
     "output_type": "stream",
     "text": [
      "Epoch 100/512: \n",
      "Train Loss = 0.29862, Train MSE = 0.67810, Train MAE = 0.63800, Train Acc = 0.79563\n",
      "Val Loss = 0.32246, Val MSE = 0.74613, Val MAE = 0.66481, Val Acc = 0.77605\n"
     ]
    },
    {
     "name": "stderr",
     "output_type": "stream",
     "text": [
      "Epoch 101/512: 100%|████████████████████████████████████████████████████████████████████| 910/910 [00:45<00:00, 20.17it/s]\n"
     ]
    },
    {
     "name": "stdout",
     "output_type": "stream",
     "text": [
      "Epoch 101/512: \n",
      "Train Loss = 0.29988, Train MSE = 0.68072, Train MAE = 0.63927, Train Acc = 0.79197\n",
      "Val Loss = 0.31539, Val MSE = 0.73139, Val MAE = 0.65565, Val Acc = 0.78361\n"
     ]
    },
    {
     "name": "stderr",
     "output_type": "stream",
     "text": [
      "Epoch 102/512: 100%|████████████████████████████████████████████████████████████████████| 910/910 [00:45<00:00, 20.16it/s]\n"
     ]
    },
    {
     "name": "stdout",
     "output_type": "stream",
     "text": [
      "Epoch 102/512: \n",
      "Train Loss = 0.29920, Train MSE = 0.67822, Train MAE = 0.63858, Train Acc = 0.79367\n",
      "Val Loss = 0.32244, Val MSE = 0.74794, Val MAE = 0.66451, Val Acc = 0.77729\n"
     ]
    },
    {
     "name": "stderr",
     "output_type": "stream",
     "text": [
      "Epoch 103/512: 100%|████████████████████████████████████████████████████████████████████| 910/910 [00:44<00:00, 20.28it/s]\n"
     ]
    },
    {
     "name": "stdout",
     "output_type": "stream",
     "text": [
      "Epoch 103/512: \n",
      "Train Loss = 0.29965, Train MSE = 0.68025, Train MAE = 0.63920, Train Acc = 0.79512\n",
      "Val Loss = 0.31278, Val MSE = 0.72198, Val MAE = 0.65254, Val Acc = 0.78348\n"
     ]
    },
    {
     "name": "stderr",
     "output_type": "stream",
     "text": [
      "Epoch 104/512: 100%|████████████████████████████████████████████████████████████████████| 910/910 [00:44<00:00, 20.30it/s]\n"
     ]
    },
    {
     "name": "stdout",
     "output_type": "stream",
     "text": [
      "Epoch 104/512: \n",
      "Train Loss = 0.29818, Train MSE = 0.67625, Train MAE = 0.63732, Train Acc = 0.79482\n",
      "Val Loss = 0.32059, Val MSE = 0.74296, Val MAE = 0.66424, Val Acc = 0.78141\n"
     ]
    },
    {
     "name": "stderr",
     "output_type": "stream",
     "text": [
      "Epoch 105/512: 100%|████████████████████████████████████████████████████████████████████| 910/910 [00:45<00:00, 20.14it/s]\n"
     ]
    },
    {
     "name": "stdout",
     "output_type": "stream",
     "text": [
      "Epoch 105/512: \n",
      "Train Loss = 0.29762, Train MSE = 0.67489, Train MAE = 0.63682, Train Acc = 0.79553\n",
      "Val Loss = 0.31397, Val MSE = 0.72488, Val MAE = 0.65570, Val Acc = 0.78361\n"
     ]
    },
    {
     "name": "stderr",
     "output_type": "stream",
     "text": [
      "Epoch 106/512: 100%|████████████████████████████████████████████████████████████████████| 910/910 [00:44<00:00, 20.24it/s]\n"
     ]
    },
    {
     "name": "stdout",
     "output_type": "stream",
     "text": [
      "Epoch 106/512: \n",
      "Train Loss = 0.29720, Train MSE = 0.67392, Train MAE = 0.63592, Train Acc = 0.79532\n",
      "Val Loss = 0.31109, Val MSE = 0.71808, Val MAE = 0.64980, Val Acc = 0.78485\n"
     ]
    },
    {
     "name": "stderr",
     "output_type": "stream",
     "text": [
      "Epoch 107/512: 100%|████████████████████████████████████████████████████████████████████| 910/910 [00:44<00:00, 20.23it/s]\n"
     ]
    },
    {
     "name": "stdout",
     "output_type": "stream",
     "text": [
      "Epoch 107/512: \n",
      "Train Loss = 0.29531, Train MSE = 0.66841, Train MAE = 0.63393, Train Acc = 0.79787\n",
      "Val Loss = 0.31588, Val MSE = 0.73354, Val MAE = 0.65657, Val Acc = 0.78636\n"
     ]
    },
    {
     "name": "stderr",
     "output_type": "stream",
     "text": [
      "Epoch 108/512: 100%|████████████████████████████████████████████████████████████████████| 910/910 [00:45<00:00, 20.19it/s]\n"
     ]
    },
    {
     "name": "stdout",
     "output_type": "stream",
     "text": [
      "Epoch 108/512: \n",
      "Train Loss = 0.29490, Train MSE = 0.66832, Train MAE = 0.63269, Train Acc = 0.79816\n",
      "Val Loss = 0.31562, Val MSE = 0.72962, Val MAE = 0.65749, Val Acc = 0.78348\n"
     ]
    },
    {
     "name": "stderr",
     "output_type": "stream",
     "text": [
      "Epoch 109/512: 100%|████████████████████████████████████████████████████████████████████| 910/910 [00:45<00:00, 20.22it/s]\n"
     ]
    },
    {
     "name": "stdout",
     "output_type": "stream",
     "text": [
      "Epoch 109/512: \n",
      "Train Loss = 0.29547, Train MSE = 0.67029, Train MAE = 0.63329, Train Acc = 0.79785\n",
      "Val Loss = 0.32120, Val MSE = 0.74426, Val MAE = 0.66431, Val Acc = 0.77564\n"
     ]
    },
    {
     "name": "stderr",
     "output_type": "stream",
     "text": [
      "Epoch 110/512: 100%|████████████████████████████████████████████████████████████████████| 910/910 [00:45<00:00, 20.13it/s]\n"
     ]
    },
    {
     "name": "stdout",
     "output_type": "stream",
     "text": [
      "Epoch 110/512: \n",
      "Train Loss = 0.29525, Train MSE = 0.66872, Train MAE = 0.63332, Train Acc = 0.79627\n",
      "Val Loss = 0.31905, Val MSE = 0.74495, Val MAE = 0.66032, Val Acc = 0.78375\n"
     ]
    },
    {
     "name": "stderr",
     "output_type": "stream",
     "text": [
      "Epoch 111/512: 100%|████████████████████████████████████████████████████████████████████| 910/910 [00:44<00:00, 20.30it/s]\n"
     ]
    },
    {
     "name": "stdout",
     "output_type": "stream",
     "text": [
      "Epoch 111/512: \n",
      "Train Loss = 0.29440, Train MSE = 0.66645, Train MAE = 0.63281, Train Acc = 0.79898\n",
      "Val Loss = 0.31491, Val MSE = 0.72691, Val MAE = 0.65778, Val Acc = 0.78774\n"
     ]
    },
    {
     "name": "stderr",
     "output_type": "stream",
     "text": [
      "Epoch 112/512: 100%|████████████████████████████████████████████████████████████████████| 910/910 [00:45<00:00, 20.21it/s]\n"
     ]
    },
    {
     "name": "stdout",
     "output_type": "stream",
     "text": [
      "Epoch 112/512: \n",
      "Train Loss = 0.29452, Train MSE = 0.66675, Train MAE = 0.63262, Train Acc = 0.79775\n",
      "Val Loss = 0.31201, Val MSE = 0.71927, Val MAE = 0.65349, Val Acc = 0.78664\n"
     ]
    },
    {
     "name": "stderr",
     "output_type": "stream",
     "text": [
      "Epoch 113/512: 100%|████████████████████████████████████████████████████████████████████| 910/910 [00:44<00:00, 20.36it/s]\n"
     ]
    },
    {
     "name": "stdout",
     "output_type": "stream",
     "text": [
      "Epoch 113/512: \n",
      "Train Loss = 0.29346, Train MSE = 0.66421, Train MAE = 0.63180, Train Acc = 0.79910\n",
      "Val Loss = 0.31122, Val MSE = 0.71887, Val MAE = 0.65029, Val Acc = 0.78458\n"
     ]
    },
    {
     "name": "stderr",
     "output_type": "stream",
     "text": [
      "Epoch 114/512: 100%|████████████████████████████████████████████████████████████████████| 910/910 [00:45<00:00, 20.19it/s]\n"
     ]
    },
    {
     "name": "stdout",
     "output_type": "stream",
     "text": [
      "Epoch 114/512: \n",
      "Train Loss = 0.29254, Train MSE = 0.66130, Train MAE = 0.62972, Train Acc = 0.79836\n",
      "Val Loss = 0.30975, Val MSE = 0.71806, Val MAE = 0.64899, Val Acc = 0.78939\n"
     ]
    },
    {
     "name": "stderr",
     "output_type": "stream",
     "text": [
      "Epoch 115/512: 100%|████████████████████████████████████████████████████████████████████| 910/910 [00:45<00:00, 20.11it/s]\n"
     ]
    },
    {
     "name": "stdout",
     "output_type": "stream",
     "text": [
      "Epoch 115/512: \n",
      "Train Loss = 0.29287, Train MSE = 0.66356, Train MAE = 0.63019, Train Acc = 0.80000\n",
      "Val Loss = 0.31823, Val MSE = 0.74015, Val MAE = 0.66003, Val Acc = 0.78609\n"
     ]
    },
    {
     "name": "stderr",
     "output_type": "stream",
     "text": [
      "Epoch 116/512: 100%|████████████████████████████████████████████████████████████████████| 910/910 [00:45<00:00, 20.00it/s]\n"
     ]
    },
    {
     "name": "stdout",
     "output_type": "stream",
     "text": [
      "Epoch 116/512: \n",
      "Train Loss = 0.29204, Train MSE = 0.66196, Train MAE = 0.62815, Train Acc = 0.80053\n",
      "Val Loss = 0.30803, Val MSE = 0.71234, Val MAE = 0.64639, Val Acc = 0.78939\n"
     ]
    },
    {
     "name": "stderr",
     "output_type": "stream",
     "text": [
      "Epoch 117/512: 100%|████████████████████████████████████████████████████████████████████| 910/910 [00:44<00:00, 20.27it/s]\n"
     ]
    },
    {
     "name": "stdout",
     "output_type": "stream",
     "text": [
      "Epoch 117/512: \n",
      "Train Loss = 0.29193, Train MSE = 0.66034, Train MAE = 0.62933, Train Acc = 0.80137\n",
      "Val Loss = 0.30637, Val MSE = 0.70715, Val MAE = 0.64377, Val Acc = 0.79200\n"
     ]
    },
    {
     "name": "stderr",
     "output_type": "stream",
     "text": [
      "Epoch 118/512: 100%|████████████████████████████████████████████████████████████████████| 910/910 [00:45<00:00, 20.18it/s]\n"
     ]
    },
    {
     "name": "stdout",
     "output_type": "stream",
     "text": [
      "Epoch 118/512: \n",
      "Train Loss = 0.29151, Train MSE = 0.65830, Train MAE = 0.62884, Train Acc = 0.79993\n",
      "Val Loss = 0.32401, Val MSE = 0.75432, Val MAE = 0.66688, Val Acc = 0.77674\n"
     ]
    },
    {
     "name": "stderr",
     "output_type": "stream",
     "text": [
      "Epoch 119/512: 100%|████████████████████████████████████████████████████████████████████| 910/910 [00:44<00:00, 20.24it/s]\n"
     ]
    },
    {
     "name": "stdout",
     "output_type": "stream",
     "text": [
      "Epoch 119/512: \n",
      "Train Loss = 0.28995, Train MSE = 0.65477, Train MAE = 0.62636, Train Acc = 0.80049\n",
      "Val Loss = 0.32309, Val MSE = 0.74538, Val MAE = 0.66803, Val Acc = 0.77248\n"
     ]
    },
    {
     "name": "stderr",
     "output_type": "stream",
     "text": [
      "Epoch 120/512: 100%|████████████████████████████████████████████████████████████████████| 910/910 [00:45<00:00, 20.21it/s]\n"
     ]
    },
    {
     "name": "stdout",
     "output_type": "stream",
     "text": [
      "Epoch 120/512: \n",
      "Train Loss = 0.28955, Train MSE = 0.65438, Train MAE = 0.62621, Train Acc = 0.80269\n",
      "Val Loss = 0.31720, Val MSE = 0.73309, Val MAE = 0.65914, Val Acc = 0.78045\n"
     ]
    },
    {
     "name": "stderr",
     "output_type": "stream",
     "text": [
      "Epoch 121/512: 100%|████████████████████████████████████████████████████████████████████| 910/910 [00:44<00:00, 20.23it/s]\n"
     ]
    },
    {
     "name": "stdout",
     "output_type": "stream",
     "text": [
      "Epoch 121/512: \n",
      "Train Loss = 0.28882, Train MSE = 0.65270, Train MAE = 0.62491, Train Acc = 0.80350\n",
      "Val Loss = 0.32297, Val MSE = 0.74726, Val MAE = 0.66930, Val Acc = 0.77660\n"
     ]
    },
    {
     "name": "stderr",
     "output_type": "stream",
     "text": [
      "Epoch 122/512: 100%|████████████████████████████████████████████████████████████████████| 910/910 [00:45<00:00, 20.22it/s]\n"
     ]
    },
    {
     "name": "stdout",
     "output_type": "stream",
     "text": [
      "Epoch 122/512: \n",
      "Train Loss = 0.28840, Train MSE = 0.65215, Train MAE = 0.62428, Train Acc = 0.80464\n",
      "Val Loss = 0.31775, Val MSE = 0.73829, Val MAE = 0.65994, Val Acc = 0.78568\n"
     ]
    },
    {
     "name": "stderr",
     "output_type": "stream",
     "text": [
      "Epoch 123/512: 100%|████████████████████████████████████████████████████████████████████| 910/910 [00:44<00:00, 20.26it/s]\n"
     ]
    },
    {
     "name": "stdout",
     "output_type": "stream",
     "text": [
      "Epoch 123/512: \n",
      "Train Loss = 0.28816, Train MSE = 0.65014, Train MAE = 0.62422, Train Acc = 0.80330\n",
      "Val Loss = 0.30804, Val MSE = 0.70939, Val MAE = 0.64916, Val Acc = 0.78966\n"
     ]
    },
    {
     "name": "stderr",
     "output_type": "stream",
     "text": [
      "Epoch 124/512: 100%|████████████████████████████████████████████████████████████████████| 910/910 [00:44<00:00, 20.28it/s]\n"
     ]
    },
    {
     "name": "stdout",
     "output_type": "stream",
     "text": [
      "Epoch 124/512: \n",
      "Train Loss = 0.28794, Train MSE = 0.65094, Train MAE = 0.62452, Train Acc = 0.80539\n",
      "Val Loss = 0.32253, Val MSE = 0.75297, Val MAE = 0.66369, Val Acc = 0.78224\n"
     ]
    },
    {
     "name": "stderr",
     "output_type": "stream",
     "text": [
      "Epoch 125/512: 100%|████████████████████████████████████████████████████████████████████| 910/910 [00:45<00:00, 20.22it/s]\n"
     ]
    },
    {
     "name": "stdout",
     "output_type": "stream",
     "text": [
      "Epoch 125/512: \n",
      "Train Loss = 0.28778, Train MSE = 0.65035, Train MAE = 0.62379, Train Acc = 0.80445\n",
      "Val Loss = 0.30664, Val MSE = 0.70808, Val MAE = 0.64579, Val Acc = 0.79392\n"
     ]
    },
    {
     "name": "stderr",
     "output_type": "stream",
     "text": [
      "Epoch 126/512: 100%|████████████████████████████████████████████████████████████████████| 910/910 [00:44<00:00, 20.30it/s]\n"
     ]
    },
    {
     "name": "stdout",
     "output_type": "stream",
     "text": [
      "Epoch 126/512: \n",
      "Train Loss = 0.28807, Train MSE = 0.64976, Train MAE = 0.62397, Train Acc = 0.80275\n",
      "Val Loss = 0.30456, Val MSE = 0.70191, Val MAE = 0.64236, Val Acc = 0.79475\n"
     ]
    },
    {
     "name": "stderr",
     "output_type": "stream",
     "text": [
      "Epoch 127/512: 100%|████████████████████████████████████████████████████████████████████| 910/910 [00:45<00:00, 20.08it/s]\n"
     ]
    },
    {
     "name": "stdout",
     "output_type": "stream",
     "text": [
      "Epoch 127/512: \n",
      "Train Loss = 0.28744, Train MSE = 0.64805, Train MAE = 0.62367, Train Acc = 0.80379\n",
      "Val Loss = 0.30600, Val MSE = 0.70932, Val MAE = 0.64262, Val Acc = 0.79337\n"
     ]
    },
    {
     "name": "stderr",
     "output_type": "stream",
     "text": [
      "Epoch 128/512: 100%|████████████████████████████████████████████████████████████████████| 910/910 [00:45<00:00, 20.15it/s]\n"
     ]
    },
    {
     "name": "stdout",
     "output_type": "stream",
     "text": [
      "Epoch 128/512: \n",
      "Train Loss = 0.28657, Train MSE = 0.64603, Train MAE = 0.62239, Train Acc = 0.80446\n",
      "Val Loss = 0.31144, Val MSE = 0.72353, Val MAE = 0.64971, Val Acc = 0.79255\n"
     ]
    },
    {
     "name": "stderr",
     "output_type": "stream",
     "text": [
      "Epoch 129/512: 100%|████████████████████████████████████████████████████████████████████| 910/910 [00:45<00:00, 20.21it/s]\n"
     ]
    },
    {
     "name": "stdout",
     "output_type": "stream",
     "text": [
      "Epoch 129/512: \n",
      "Train Loss = 0.28549, Train MSE = 0.64311, Train MAE = 0.62122, Train Acc = 0.80556\n",
      "Val Loss = 0.31063, Val MSE = 0.71972, Val MAE = 0.65061, Val Acc = 0.78760\n"
     ]
    },
    {
     "name": "stderr",
     "output_type": "stream",
     "text": [
      "Epoch 130/512: 100%|████████████████████████████████████████████████████████████████████| 910/910 [00:44<00:00, 20.23it/s]\n"
     ]
    },
    {
     "name": "stdout",
     "output_type": "stream",
     "text": [
      "Epoch 130/512: \n",
      "Train Loss = 0.28521, Train MSE = 0.64410, Train MAE = 0.61967, Train Acc = 0.80637\n",
      "Val Loss = 0.30837, Val MSE = 0.71164, Val MAE = 0.64811, Val Acc = 0.79296\n"
     ]
    },
    {
     "name": "stderr",
     "output_type": "stream",
     "text": [
      "Epoch 131/512: 100%|████████████████████████████████████████████████████████████████████| 910/910 [00:44<00:00, 20.30it/s]\n"
     ]
    },
    {
     "name": "stdout",
     "output_type": "stream",
     "text": [
      "Epoch 131/512: \n",
      "Train Loss = 0.28488, Train MSE = 0.64239, Train MAE = 0.61995, Train Acc = 0.80613\n",
      "Val Loss = 0.29863, Val MSE = 0.68623, Val MAE = 0.63429, Val Acc = 0.80465\n"
     ]
    },
    {
     "name": "stderr",
     "output_type": "stream",
     "text": [
      "Epoch 132/512: 100%|████████████████████████████████████████████████████████████████████| 910/910 [00:44<00:00, 20.24it/s]\n"
     ]
    },
    {
     "name": "stdout",
     "output_type": "stream",
     "text": [
      "Epoch 132/512: \n",
      "Train Loss = 0.28330, Train MSE = 0.63976, Train MAE = 0.61804, Train Acc = 0.80885\n",
      "Val Loss = 0.30436, Val MSE = 0.70280, Val MAE = 0.63999, Val Acc = 0.79475\n"
     ]
    },
    {
     "name": "stderr",
     "output_type": "stream",
     "text": [
      "Epoch 133/512: 100%|████████████████████████████████████████████████████████████████████| 910/910 [00:45<00:00, 20.19it/s]\n"
     ]
    },
    {
     "name": "stdout",
     "output_type": "stream",
     "text": [
      "Epoch 133/512: \n",
      "Train Loss = 0.28318, Train MSE = 0.63754, Train MAE = 0.61790, Train Acc = 0.80642\n",
      "Val Loss = 0.30580, Val MSE = 0.70765, Val MAE = 0.64204, Val Acc = 0.79255\n"
     ]
    },
    {
     "name": "stderr",
     "output_type": "stream",
     "text": [
      "Epoch 134/512: 100%|████████████████████████████████████████████████████████████████████| 910/910 [00:44<00:00, 20.23it/s]\n"
     ]
    },
    {
     "name": "stdout",
     "output_type": "stream",
     "text": [
      "Epoch 134/512: \n",
      "Train Loss = 0.28351, Train MSE = 0.63837, Train MAE = 0.61823, Train Acc = 0.80646\n",
      "Val Loss = 0.29312, Val MSE = 0.66977, Val MAE = 0.62616, Val Acc = 0.80038\n"
     ]
    },
    {
     "name": "stderr",
     "output_type": "stream",
     "text": [
      "Epoch 135/512: 100%|████████████████████████████████████████████████████████████████████| 910/910 [00:45<00:00, 20.08it/s]\n"
     ]
    },
    {
     "name": "stdout",
     "output_type": "stream",
     "text": [
      "Epoch 135/512: \n",
      "Train Loss = 0.28348, Train MSE = 0.63923, Train MAE = 0.61759, Train Acc = 0.80728\n",
      "Val Loss = 0.29882, Val MSE = 0.68596, Val MAE = 0.63487, Val Acc = 0.79626\n"
     ]
    },
    {
     "name": "stderr",
     "output_type": "stream",
     "text": [
      "Epoch 136/512: 100%|████████████████████████████████████████████████████████████████████| 910/910 [00:45<00:00, 20.18it/s]\n"
     ]
    },
    {
     "name": "stdout",
     "output_type": "stream",
     "text": [
      "Epoch 136/512: \n",
      "Train Loss = 0.28394, Train MSE = 0.64026, Train MAE = 0.61921, Train Acc = 0.80826\n",
      "Val Loss = 0.30027, Val MSE = 0.69354, Val MAE = 0.63585, Val Acc = 0.79434\n"
     ]
    },
    {
     "name": "stderr",
     "output_type": "stream",
     "text": [
      "Epoch 137/512: 100%|████████████████████████████████████████████████████████████████████| 910/910 [00:44<00:00, 20.24it/s]\n"
     ]
    },
    {
     "name": "stdout",
     "output_type": "stream",
     "text": [
      "Epoch 137/512: \n",
      "Train Loss = 0.28255, Train MSE = 0.63739, Train MAE = 0.61726, Train Acc = 0.81053\n",
      "Val Loss = 0.32002, Val MSE = 0.74400, Val MAE = 0.66271, Val Acc = 0.78073\n"
     ]
    },
    {
     "name": "stderr",
     "output_type": "stream",
     "text": [
      "Epoch 138/512: 100%|████████████████████████████████████████████████████████████████████| 910/910 [00:45<00:00, 20.20it/s]\n"
     ]
    },
    {
     "name": "stdout",
     "output_type": "stream",
     "text": [
      "Epoch 138/512: \n",
      "Train Loss = 0.28302, Train MSE = 0.63919, Train MAE = 0.61768, Train Acc = 0.81075\n",
      "Val Loss = 0.29894, Val MSE = 0.68741, Val MAE = 0.63512, Val Acc = 0.79997\n"
     ]
    },
    {
     "name": "stderr",
     "output_type": "stream",
     "text": [
      "Epoch 139/512: 100%|████████████████████████████████████████████████████████████████████| 910/910 [00:45<00:00, 20.17it/s]\n"
     ]
    },
    {
     "name": "stdout",
     "output_type": "stream",
     "text": [
      "Epoch 139/512: \n",
      "Train Loss = 0.28117, Train MSE = 0.63316, Train MAE = 0.61480, Train Acc = 0.80955\n",
      "Val Loss = 0.30057, Val MSE = 0.68954, Val MAE = 0.63693, Val Acc = 0.79626\n"
     ]
    },
    {
     "name": "stderr",
     "output_type": "stream",
     "text": [
      "Epoch 140/512: 100%|████████████████████████████████████████████████████████████████████| 910/910 [00:45<00:00, 20.19it/s]\n"
     ]
    },
    {
     "name": "stdout",
     "output_type": "stream",
     "text": [
      "Epoch 140/512: \n",
      "Train Loss = 0.28138, Train MSE = 0.63318, Train MAE = 0.61520, Train Acc = 0.81017\n",
      "Val Loss = 0.31314, Val MSE = 0.72174, Val MAE = 0.65361, Val Acc = 0.78636\n"
     ]
    },
    {
     "name": "stderr",
     "output_type": "stream",
     "text": [
      "Epoch 141/512: 100%|████████████████████████████████████████████████████████████████████| 910/910 [00:44<00:00, 20.25it/s]\n"
     ]
    },
    {
     "name": "stdout",
     "output_type": "stream",
     "text": [
      "Epoch 141/512: \n",
      "Train Loss = 0.28075, Train MSE = 0.63162, Train MAE = 0.61474, Train Acc = 0.81005\n",
      "Val Loss = 0.29979, Val MSE = 0.68737, Val MAE = 0.63773, Val Acc = 0.79929\n"
     ]
    },
    {
     "name": "stderr",
     "output_type": "stream",
     "text": [
      "Epoch 142/512: 100%|████████████████████████████████████████████████████████████████████| 910/910 [00:45<00:00, 20.21it/s]\n"
     ]
    },
    {
     "name": "stdout",
     "output_type": "stream",
     "text": [
      "Epoch 142/512: \n",
      "Train Loss = 0.28170, Train MSE = 0.63569, Train MAE = 0.61559, Train Acc = 0.81020\n",
      "Val Loss = 0.30473, Val MSE = 0.70806, Val MAE = 0.64136, Val Acc = 0.79502\n"
     ]
    },
    {
     "name": "stderr",
     "output_type": "stream",
     "text": [
      "Epoch 143/512: 100%|████████████████████████████████████████████████████████████████████| 910/910 [00:44<00:00, 20.25it/s]\n"
     ]
    },
    {
     "name": "stdout",
     "output_type": "stream",
     "text": [
      "Epoch 143/512: \n",
      "Train Loss = 0.27974, Train MSE = 0.63054, Train MAE = 0.61208, Train Acc = 0.81103\n",
      "Val Loss = 0.29910, Val MSE = 0.68896, Val MAE = 0.63414, Val Acc = 0.79846\n"
     ]
    },
    {
     "name": "stderr",
     "output_type": "stream",
     "text": [
      "Epoch 144/512: 100%|████████████████████████████████████████████████████████████████████| 910/910 [00:44<00:00, 20.28it/s]\n"
     ]
    },
    {
     "name": "stdout",
     "output_type": "stream",
     "text": [
      "Epoch 144/512: \n",
      "Train Loss = 0.28043, Train MSE = 0.63140, Train MAE = 0.61373, Train Acc = 0.81170\n",
      "Val Loss = 0.29618, Val MSE = 0.68024, Val MAE = 0.63065, Val Acc = 0.80135\n"
     ]
    },
    {
     "name": "stderr",
     "output_type": "stream",
     "text": [
      "Epoch 145/512: 100%|████████████████████████████████████████████████████████████████████| 910/910 [00:45<00:00, 20.19it/s]\n"
     ]
    },
    {
     "name": "stdout",
     "output_type": "stream",
     "text": [
      "Epoch 145/512: \n",
      "Train Loss = 0.27923, Train MSE = 0.62828, Train MAE = 0.61262, Train Acc = 0.81125\n",
      "Val Loss = 0.29625, Val MSE = 0.68185, Val MAE = 0.63064, Val Acc = 0.79887\n"
     ]
    },
    {
     "name": "stderr",
     "output_type": "stream",
     "text": [
      "Epoch 146/512: 100%|████████████████████████████████████████████████████████████████████| 910/910 [00:44<00:00, 20.26it/s]\n"
     ]
    },
    {
     "name": "stdout",
     "output_type": "stream",
     "text": [
      "Epoch 146/512: \n",
      "Train Loss = 0.27839, Train MSE = 0.62573, Train MAE = 0.61133, Train Acc = 0.81232\n",
      "Val Loss = 0.30100, Val MSE = 0.69373, Val MAE = 0.63616, Val Acc = 0.79530\n"
     ]
    },
    {
     "name": "stderr",
     "output_type": "stream",
     "text": [
      "Epoch 147/512: 100%|████████████████████████████████████████████████████████████████████| 910/910 [00:44<00:00, 20.30it/s]\n"
     ]
    },
    {
     "name": "stdout",
     "output_type": "stream",
     "text": [
      "Epoch 147/512: \n",
      "Train Loss = 0.27884, Train MSE = 0.62691, Train MAE = 0.61180, Train Acc = 0.81057\n",
      "Val Loss = 0.31760, Val MSE = 0.73159, Val MAE = 0.66364, Val Acc = 0.78265\n"
     ]
    },
    {
     "name": "stderr",
     "output_type": "stream",
     "text": [
      "Epoch 148/512: 100%|████████████████████████████████████████████████████████████████████| 910/910 [00:44<00:00, 20.32it/s]\n"
     ]
    },
    {
     "name": "stdout",
     "output_type": "stream",
     "text": [
      "Epoch 148/512: \n",
      "Train Loss = 0.27807, Train MSE = 0.62583, Train MAE = 0.61106, Train Acc = 0.81328\n",
      "Val Loss = 0.29857, Val MSE = 0.68548, Val MAE = 0.63559, Val Acc = 0.79750\n"
     ]
    },
    {
     "name": "stderr",
     "output_type": "stream",
     "text": [
      "Epoch 149/512: 100%|████████████████████████████████████████████████████████████████████| 910/910 [00:45<00:00, 20.19it/s]\n"
     ]
    },
    {
     "name": "stdout",
     "output_type": "stream",
     "text": [
      "Epoch 149/512: \n",
      "Train Loss = 0.27794, Train MSE = 0.62446, Train MAE = 0.61102, Train Acc = 0.81149\n",
      "Val Loss = 0.30656, Val MSE = 0.70915, Val MAE = 0.64330, Val Acc = 0.78870\n"
     ]
    },
    {
     "name": "stderr",
     "output_type": "stream",
     "text": [
      "Epoch 150/512: 100%|████████████████████████████████████████████████████████████████████| 910/910 [00:44<00:00, 20.26it/s]\n"
     ]
    },
    {
     "name": "stdout",
     "output_type": "stream",
     "text": [
      "Epoch 150/512: \n",
      "Train Loss = 0.27783, Train MSE = 0.62536, Train MAE = 0.61079, Train Acc = 0.81344\n",
      "Val Loss = 0.30431, Val MSE = 0.70585, Val MAE = 0.63997, Val Acc = 0.79337\n"
     ]
    },
    {
     "name": "stderr",
     "output_type": "stream",
     "text": [
      "Epoch 151/512: 100%|████████████████████████████████████████████████████████████████████| 910/910 [00:45<00:00, 20.18it/s]\n"
     ]
    },
    {
     "name": "stdout",
     "output_type": "stream",
     "text": [
      "Epoch 151/512: \n",
      "Train Loss = 0.27823, Train MSE = 0.62536, Train MAE = 0.61122, Train Acc = 0.81139\n",
      "Val Loss = 0.29675, Val MSE = 0.68034, Val MAE = 0.63275, Val Acc = 0.79997\n"
     ]
    },
    {
     "name": "stderr",
     "output_type": "stream",
     "text": [
      "Epoch 152/512: 100%|████████████████████████████████████████████████████████████████████| 910/910 [00:44<00:00, 20.31it/s]\n"
     ]
    },
    {
     "name": "stdout",
     "output_type": "stream",
     "text": [
      "Epoch 152/512: \n",
      "Train Loss = 0.27661, Train MSE = 0.62095, Train MAE = 0.60833, Train Acc = 0.81290\n",
      "Val Loss = 0.28756, Val MSE = 0.65588, Val MAE = 0.62001, Val Acc = 0.80245\n"
     ]
    },
    {
     "name": "stderr",
     "output_type": "stream",
     "text": [
      "Epoch 153/512: 100%|████████████████████████████████████████████████████████████████████| 910/910 [00:45<00:00, 20.18it/s]\n"
     ]
    },
    {
     "name": "stdout",
     "output_type": "stream",
     "text": [
      "Epoch 153/512: \n",
      "Train Loss = 0.27647, Train MSE = 0.62172, Train MAE = 0.60903, Train Acc = 0.81553\n",
      "Val Loss = 0.30592, Val MSE = 0.70788, Val MAE = 0.64367, Val Acc = 0.79764\n"
     ]
    },
    {
     "name": "stderr",
     "output_type": "stream",
     "text": [
      "Epoch 154/512: 100%|████████████████████████████████████████████████████████████████████| 910/910 [00:45<00:00, 20.21it/s]\n"
     ]
    },
    {
     "name": "stdout",
     "output_type": "stream",
     "text": [
      "Epoch 154/512: \n",
      "Train Loss = 0.27667, Train MSE = 0.62179, Train MAE = 0.60863, Train Acc = 0.81445\n",
      "Val Loss = 0.30415, Val MSE = 0.70031, Val MAE = 0.64168, Val Acc = 0.79159\n"
     ]
    },
    {
     "name": "stderr",
     "output_type": "stream",
     "text": [
      "Epoch 155/512: 100%|████████████████████████████████████████████████████████████████████| 910/910 [00:44<00:00, 20.32it/s]\n"
     ]
    },
    {
     "name": "stdout",
     "output_type": "stream",
     "text": [
      "Epoch 155/512: \n",
      "Train Loss = 0.27641, Train MSE = 0.62098, Train MAE = 0.60892, Train Acc = 0.81424\n",
      "Val Loss = 0.30558, Val MSE = 0.70199, Val MAE = 0.64425, Val Acc = 0.79241\n"
     ]
    },
    {
     "name": "stderr",
     "output_type": "stream",
     "text": [
      "Epoch 156/512: 100%|████████████████████████████████████████████████████████████████████| 910/910 [00:44<00:00, 20.30it/s]\n"
     ]
    },
    {
     "name": "stdout",
     "output_type": "stream",
     "text": [
      "Epoch 156/512: \n",
      "Train Loss = 0.27601, Train MSE = 0.61960, Train MAE = 0.60861, Train Acc = 0.81366\n",
      "Val Loss = 0.30664, Val MSE = 0.70974, Val MAE = 0.64493, Val Acc = 0.79269\n"
     ]
    },
    {
     "name": "stderr",
     "output_type": "stream",
     "text": [
      "Epoch 157/512: 100%|████████████████████████████████████████████████████████████████████| 910/910 [00:44<00:00, 20.32it/s]\n"
     ]
    },
    {
     "name": "stdout",
     "output_type": "stream",
     "text": [
      "Epoch 157/512: \n",
      "Train Loss = 0.27584, Train MSE = 0.61991, Train MAE = 0.60774, Train Acc = 0.81447\n",
      "Val Loss = 0.29615, Val MSE = 0.68027, Val MAE = 0.63077, Val Acc = 0.80245\n"
     ]
    },
    {
     "name": "stderr",
     "output_type": "stream",
     "text": [
      "Epoch 158/512: 100%|████████████████████████████████████████████████████████████████████| 910/910 [00:45<00:00, 20.15it/s]\n"
     ]
    },
    {
     "name": "stdout",
     "output_type": "stream",
     "text": [
      "Epoch 158/512: \n",
      "Train Loss = 0.27488, Train MSE = 0.61725, Train MAE = 0.60728, Train Acc = 0.81579\n",
      "Val Loss = 0.29958, Val MSE = 0.69140, Val MAE = 0.63409, Val Acc = 0.79819\n"
     ]
    },
    {
     "name": "stderr",
     "output_type": "stream",
     "text": [
      "Epoch 159/512: 100%|████████████████████████████████████████████████████████████████████| 910/910 [00:44<00:00, 20.30it/s]\n"
     ]
    },
    {
     "name": "stdout",
     "output_type": "stream",
     "text": [
      "Epoch 159/512: \n",
      "Train Loss = 0.27290, Train MSE = 0.61291, Train MAE = 0.60340, Train Acc = 0.81785\n",
      "Val Loss = 0.29830, Val MSE = 0.68636, Val MAE = 0.63289, Val Acc = 0.79984\n"
     ]
    },
    {
     "name": "stderr",
     "output_type": "stream",
     "text": [
      "Epoch 160/512: 100%|████████████████████████████████████████████████████████████████████| 910/910 [00:45<00:00, 20.14it/s]\n"
     ]
    },
    {
     "name": "stdout",
     "output_type": "stream",
     "text": [
      "Epoch 160/512: \n",
      "Train Loss = 0.27441, Train MSE = 0.61582, Train MAE = 0.60586, Train Acc = 0.81419\n",
      "Val Loss = 0.29703, Val MSE = 0.68371, Val MAE = 0.63170, Val Acc = 0.79860\n"
     ]
    },
    {
     "name": "stderr",
     "output_type": "stream",
     "text": [
      "Epoch 161/512: 100%|████████████████████████████████████████████████████████████████████| 910/910 [00:45<00:00, 20.08it/s]\n"
     ]
    },
    {
     "name": "stdout",
     "output_type": "stream",
     "text": [
      "Epoch 161/512: \n",
      "Train Loss = 0.27477, Train MSE = 0.61725, Train MAE = 0.60593, Train Acc = 0.81435\n",
      "Val Loss = 0.29008, Val MSE = 0.66484, Val MAE = 0.62307, Val Acc = 0.80712\n"
     ]
    },
    {
     "name": "stderr",
     "output_type": "stream",
     "text": [
      "Epoch 162/512: 100%|████████████████████████████████████████████████████████████████████| 910/910 [00:44<00:00, 20.26it/s]\n"
     ]
    },
    {
     "name": "stdout",
     "output_type": "stream",
     "text": [
      "Epoch 162/512: \n",
      "Train Loss = 0.27344, Train MSE = 0.61365, Train MAE = 0.60473, Train Acc = 0.81641\n",
      "Val Loss = 0.30095, Val MSE = 0.69214, Val MAE = 0.63695, Val Acc = 0.79599\n"
     ]
    },
    {
     "name": "stderr",
     "output_type": "stream",
     "text": [
      "Epoch 163/512: 100%|████████████████████████████████████████████████████████████████████| 910/910 [00:44<00:00, 20.22it/s]\n"
     ]
    },
    {
     "name": "stdout",
     "output_type": "stream",
     "text": [
      "Epoch 163/512: \n",
      "Train Loss = 0.27146, Train MSE = 0.60885, Train MAE = 0.60227, Train Acc = 0.81833\n",
      "Val Loss = 0.29953, Val MSE = 0.69179, Val MAE = 0.63288, Val Acc = 0.79709\n"
     ]
    },
    {
     "name": "stderr",
     "output_type": "stream",
     "text": [
      "Epoch 164/512: 100%|████████████████████████████████████████████████████████████████████| 910/910 [00:45<00:00, 20.18it/s]\n"
     ]
    },
    {
     "name": "stdout",
     "output_type": "stream",
     "text": [
      "Epoch 164/512: \n",
      "Train Loss = 0.27159, Train MSE = 0.60917, Train MAE = 0.60148, Train Acc = 0.81735\n",
      "Val Loss = 0.30449, Val MSE = 0.70584, Val MAE = 0.63917, Val Acc = 0.79351\n"
     ]
    },
    {
     "name": "stderr",
     "output_type": "stream",
     "text": [
      "Epoch 165/512: 100%|████████████████████████████████████████████████████████████████████| 910/910 [00:44<00:00, 20.24it/s]\n"
     ]
    },
    {
     "name": "stdout",
     "output_type": "stream",
     "text": [
      "Epoch 165/512: \n",
      "Train Loss = 0.27212, Train MSE = 0.61071, Train MAE = 0.60247, Train Acc = 0.81777\n",
      "Val Loss = 0.30255, Val MSE = 0.69365, Val MAE = 0.63900, Val Acc = 0.79131\n"
     ]
    },
    {
     "name": "stderr",
     "output_type": "stream",
     "text": [
      "Epoch 166/512: 100%|████████████████████████████████████████████████████████████████████| 910/910 [00:45<00:00, 20.22it/s]\n"
     ]
    },
    {
     "name": "stdout",
     "output_type": "stream",
     "text": [
      "Epoch 166/512: \n",
      "Train Loss = 0.27215, Train MSE = 0.61079, Train MAE = 0.60254, Train Acc = 0.81749\n",
      "Val Loss = 0.30240, Val MSE = 0.69722, Val MAE = 0.63832, Val Acc = 0.79351\n"
     ]
    },
    {
     "name": "stderr",
     "output_type": "stream",
     "text": [
      "Epoch 167/512: 100%|████████████████████████████████████████████████████████████████████| 910/910 [00:45<00:00, 20.22it/s]\n"
     ]
    },
    {
     "name": "stdout",
     "output_type": "stream",
     "text": [
      "Epoch 167/512: \n",
      "Train Loss = 0.27153, Train MSE = 0.60965, Train MAE = 0.60188, Train Acc = 0.81857\n",
      "Val Loss = 0.29577, Val MSE = 0.68064, Val MAE = 0.63002, Val Acc = 0.79901\n"
     ]
    },
    {
     "name": "stderr",
     "output_type": "stream",
     "text": [
      "Epoch 168/512: 100%|████████████████████████████████████████████████████████████████████| 910/910 [00:45<00:00, 20.12it/s]\n"
     ]
    },
    {
     "name": "stdout",
     "output_type": "stream",
     "text": [
      "Epoch 168/512: \n",
      "Train Loss = 0.27261, Train MSE = 0.61134, Train MAE = 0.60337, Train Acc = 0.81639\n",
      "Val Loss = 0.30407, Val MSE = 0.70170, Val MAE = 0.63956, Val Acc = 0.79035\n"
     ]
    },
    {
     "name": "stderr",
     "output_type": "stream",
     "text": [
      "Epoch 169/512: 100%|████████████████████████████████████████████████████████████████████| 910/910 [00:45<00:00, 20.18it/s]\n"
     ]
    },
    {
     "name": "stdout",
     "output_type": "stream",
     "text": [
      "Epoch 169/512: \n",
      "Train Loss = 0.27190, Train MSE = 0.61001, Train MAE = 0.60282, Train Acc = 0.81909\n",
      "Val Loss = 0.29462, Val MSE = 0.67471, Val MAE = 0.62883, Val Acc = 0.79970\n"
     ]
    },
    {
     "name": "stderr",
     "output_type": "stream",
     "text": [
      "Epoch 170/512: 100%|████████████████████████████████████████████████████████████████████| 910/910 [00:44<00:00, 20.26it/s]\n"
     ]
    },
    {
     "name": "stdout",
     "output_type": "stream",
     "text": [
      "Epoch 170/512: \n",
      "Train Loss = 0.27155, Train MSE = 0.60878, Train MAE = 0.60273, Train Acc = 0.81919\n",
      "Val Loss = 0.30922, Val MSE = 0.71465, Val MAE = 0.64970, Val Acc = 0.79090\n"
     ]
    },
    {
     "name": "stderr",
     "output_type": "stream",
     "text": [
      "Epoch 171/512: 100%|████████████████████████████████████████████████████████████████████| 910/910 [00:44<00:00, 20.24it/s]\n"
     ]
    },
    {
     "name": "stdout",
     "output_type": "stream",
     "text": [
      "Epoch 171/512: \n",
      "Train Loss = 0.27123, Train MSE = 0.60850, Train MAE = 0.60179, Train Acc = 0.81866\n",
      "Val Loss = 0.30127, Val MSE = 0.69694, Val MAE = 0.63679, Val Acc = 0.79764\n"
     ]
    },
    {
     "name": "stderr",
     "output_type": "stream",
     "text": [
      "Epoch 172/512: 100%|████████████████████████████████████████████████████████████████████| 910/910 [00:44<00:00, 20.25it/s]\n"
     ]
    },
    {
     "name": "stdout",
     "output_type": "stream",
     "text": [
      "Epoch 172/512: \n",
      "Train Loss = 0.26992, Train MSE = 0.60517, Train MAE = 0.59991, Train Acc = 0.81902\n",
      "Val Loss = 0.28461, Val MSE = 0.64917, Val MAE = 0.61573, Val Acc = 0.80795\n"
     ]
    },
    {
     "name": "stderr",
     "output_type": "stream",
     "text": [
      "Epoch 173/512: 100%|████████████████████████████████████████████████████████████████████| 910/910 [00:44<00:00, 20.31it/s]\n"
     ]
    },
    {
     "name": "stdout",
     "output_type": "stream",
     "text": [
      "Epoch 173/512: \n",
      "Train Loss = 0.26982, Train MSE = 0.60442, Train MAE = 0.59983, Train Acc = 0.81936\n",
      "Val Loss = 0.29391, Val MSE = 0.67392, Val MAE = 0.62892, Val Acc = 0.80286\n"
     ]
    },
    {
     "name": "stderr",
     "output_type": "stream",
     "text": [
      "Epoch 174/512: 100%|████████████████████████████████████████████████████████████████████| 910/910 [00:44<00:00, 20.26it/s]\n"
     ]
    },
    {
     "name": "stdout",
     "output_type": "stream",
     "text": [
      "Epoch 174/512: \n",
      "Train Loss = 0.27023, Train MSE = 0.60690, Train MAE = 0.60026, Train Acc = 0.82081\n",
      "Val Loss = 0.29819, Val MSE = 0.68803, Val MAE = 0.63335, Val Acc = 0.79750\n"
     ]
    },
    {
     "name": "stderr",
     "output_type": "stream",
     "text": [
      "Epoch 175/512: 100%|████████████████████████████████████████████████████████████████████| 910/910 [00:45<00:00, 20.15it/s]\n"
     ]
    },
    {
     "name": "stdout",
     "output_type": "stream",
     "text": [
      "Epoch 175/512: \n",
      "Train Loss = 0.26987, Train MSE = 0.60534, Train MAE = 0.60009, Train Acc = 0.82034\n",
      "Val Loss = 0.29328, Val MSE = 0.67402, Val MAE = 0.62721, Val Acc = 0.80465\n"
     ]
    },
    {
     "name": "stderr",
     "output_type": "stream",
     "text": [
      "Epoch 176/512: 100%|████████████████████████████████████████████████████████████████████| 910/910 [00:45<00:00, 20.22it/s]\n"
     ]
    },
    {
     "name": "stdout",
     "output_type": "stream",
     "text": [
      "Epoch 176/512: \n",
      "Train Loss = 0.26851, Train MSE = 0.60164, Train MAE = 0.59802, Train Acc = 0.82065\n",
      "Val Loss = 0.30288, Val MSE = 0.70017, Val MAE = 0.64006, Val Acc = 0.79461\n"
     ]
    },
    {
     "name": "stderr",
     "output_type": "stream",
     "text": [
      "Epoch 177/512: 100%|████████████████████████████████████████████████████████████████████| 910/910 [00:45<00:00, 20.19it/s]\n"
     ]
    },
    {
     "name": "stdout",
     "output_type": "stream",
     "text": [
      "Epoch 177/512: \n",
      "Train Loss = 0.26803, Train MSE = 0.59994, Train MAE = 0.59670, Train Acc = 0.81919\n",
      "Val Loss = 0.29607, Val MSE = 0.68360, Val MAE = 0.62963, Val Acc = 0.79832\n"
     ]
    },
    {
     "name": "stderr",
     "output_type": "stream",
     "text": [
      "Epoch 178/512: 100%|████████████████████████████████████████████████████████████████████| 910/910 [00:45<00:00, 20.12it/s]\n"
     ]
    },
    {
     "name": "stdout",
     "output_type": "stream",
     "text": [
      "Epoch 178/512: \n",
      "Train Loss = 0.26834, Train MSE = 0.60054, Train MAE = 0.59830, Train Acc = 0.82155\n",
      "Val Loss = 0.29729, Val MSE = 0.68240, Val MAE = 0.63381, Val Acc = 0.79970\n"
     ]
    },
    {
     "name": "stderr",
     "output_type": "stream",
     "text": [
      "Epoch 179/512: 100%|████████████████████████████████████████████████████████████████████| 910/910 [00:45<00:00, 20.11it/s]\n"
     ]
    },
    {
     "name": "stdout",
     "output_type": "stream",
     "text": [
      "Epoch 179/512: \n",
      "Train Loss = 0.26828, Train MSE = 0.60089, Train MAE = 0.59699, Train Acc = 0.82086\n",
      "Val Loss = 0.28786, Val MSE = 0.65839, Val MAE = 0.62137, Val Acc = 0.80946\n"
     ]
    },
    {
     "name": "stderr",
     "output_type": "stream",
     "text": [
      "Epoch 180/512: 100%|████████████████████████████████████████████████████████████████████| 910/910 [00:44<00:00, 20.30it/s]\n"
     ]
    },
    {
     "name": "stdout",
     "output_type": "stream",
     "text": [
      "Epoch 180/512: \n",
      "Train Loss = 0.26874, Train MSE = 0.60242, Train MAE = 0.59851, Train Acc = 0.82100\n",
      "Val Loss = 0.29991, Val MSE = 0.69383, Val MAE = 0.63359, Val Acc = 0.79612\n"
     ]
    },
    {
     "name": "stderr",
     "output_type": "stream",
     "text": [
      "Epoch 181/512: 100%|████████████████████████████████████████████████████████████████████| 910/910 [00:45<00:00, 20.19it/s]\n"
     ]
    },
    {
     "name": "stdout",
     "output_type": "stream",
     "text": [
      "Epoch 181/512: \n",
      "Train Loss = 0.26872, Train MSE = 0.60145, Train MAE = 0.59848, Train Acc = 0.82046\n",
      "Val Loss = 0.29291, Val MSE = 0.67367, Val MAE = 0.62594, Val Acc = 0.80657\n"
     ]
    },
    {
     "name": "stderr",
     "output_type": "stream",
     "text": [
      "Epoch 182/512: 100%|████████████████████████████████████████████████████████████████████| 910/910 [00:45<00:00, 20.18it/s]\n"
     ]
    },
    {
     "name": "stdout",
     "output_type": "stream",
     "text": [
      "Epoch 182/512: \n",
      "Train Loss = 0.26832, Train MSE = 0.60082, Train MAE = 0.59860, Train Acc = 0.82199\n",
      "Val Loss = 0.29379, Val MSE = 0.67625, Val MAE = 0.62732, Val Acc = 0.80176\n"
     ]
    },
    {
     "name": "stderr",
     "output_type": "stream",
     "text": [
      "Epoch 183/512: 100%|████████████████████████████████████████████████████████████████████| 910/910 [00:45<00:00, 20.22it/s]\n"
     ]
    },
    {
     "name": "stdout",
     "output_type": "stream",
     "text": [
      "Epoch 183/512: \n",
      "Train Loss = 0.26754, Train MSE = 0.60007, Train MAE = 0.59646, Train Acc = 0.82223\n",
      "Val Loss = 0.28706, Val MSE = 0.65579, Val MAE = 0.61912, Val Acc = 0.80740\n"
     ]
    },
    {
     "name": "stderr",
     "output_type": "stream",
     "text": [
      "Epoch 184/512: 100%|████████████████████████████████████████████████████████████████████| 910/910 [00:44<00:00, 20.30it/s]\n"
     ]
    },
    {
     "name": "stdout",
     "output_type": "stream",
     "text": [
      "Epoch 184/512: \n",
      "Train Loss = 0.26795, Train MSE = 0.60058, Train MAE = 0.59720, Train Acc = 0.82296\n",
      "Val Loss = 0.30077, Val MSE = 0.69526, Val MAE = 0.63488, Val Acc = 0.79489\n"
     ]
    },
    {
     "name": "stderr",
     "output_type": "stream",
     "text": [
      "Epoch 185/512: 100%|████████████████████████████████████████████████████████████████████| 910/910 [00:44<00:00, 20.27it/s]\n"
     ]
    },
    {
     "name": "stdout",
     "output_type": "stream",
     "text": [
      "Epoch 185/512: \n",
      "Train Loss = 0.26667, Train MSE = 0.59680, Train MAE = 0.59561, Train Acc = 0.82409\n",
      "Val Loss = 0.29383, Val MSE = 0.67651, Val MAE = 0.62565, Val Acc = 0.80066\n"
     ]
    },
    {
     "name": "stderr",
     "output_type": "stream",
     "text": [
      "Epoch 186/512: 100%|████████████████████████████████████████████████████████████████████| 910/910 [00:45<00:00, 20.14it/s]\n"
     ]
    },
    {
     "name": "stdout",
     "output_type": "stream",
     "text": [
      "Epoch 186/512: \n",
      "Train Loss = 0.26631, Train MSE = 0.59657, Train MAE = 0.59573, Train Acc = 0.82428\n",
      "Val Loss = 0.29337, Val MSE = 0.67271, Val MAE = 0.62798, Val Acc = 0.80616\n"
     ]
    },
    {
     "name": "stderr",
     "output_type": "stream",
     "text": [
      "Epoch 187/512: 100%|████████████████████████████████████████████████████████████████████| 910/910 [00:45<00:00, 20.21it/s]\n"
     ]
    },
    {
     "name": "stdout",
     "output_type": "stream",
     "text": [
      "Epoch 187/512: \n",
      "Train Loss = 0.26616, Train MSE = 0.59705, Train MAE = 0.59595, Train Acc = 0.82644\n",
      "Val Loss = 0.28677, Val MSE = 0.65523, Val MAE = 0.61935, Val Acc = 0.80767\n"
     ]
    },
    {
     "name": "stderr",
     "output_type": "stream",
     "text": [
      "Epoch 188/512: 100%|████████████████████████████████████████████████████████████████████| 910/910 [00:44<00:00, 20.34it/s]\n"
     ]
    },
    {
     "name": "stdout",
     "output_type": "stream",
     "text": [
      "Epoch 188/512: \n",
      "Train Loss = 0.26559, Train MSE = 0.59372, Train MAE = 0.59487, Train Acc = 0.82328\n",
      "Val Loss = 0.28945, Val MSE = 0.66380, Val MAE = 0.62114, Val Acc = 0.80533\n"
     ]
    },
    {
     "name": "stderr",
     "output_type": "stream",
     "text": [
      "Epoch 189/512: 100%|████████████████████████████████████████████████████████████████████| 910/910 [00:44<00:00, 20.26it/s]\n"
     ]
    },
    {
     "name": "stdout",
     "output_type": "stream",
     "text": [
      "Epoch 189/512: \n",
      "Train Loss = 0.26462, Train MSE = 0.59127, Train MAE = 0.59230, Train Acc = 0.82440\n",
      "Val Loss = 0.30290, Val MSE = 0.69922, Val MAE = 0.63992, Val Acc = 0.79406\n"
     ]
    },
    {
     "name": "stderr",
     "output_type": "stream",
     "text": [
      "Epoch 190/512: 100%|████████████████████████████████████████████████████████████████████| 910/910 [00:45<00:00, 20.17it/s]\n"
     ]
    },
    {
     "name": "stdout",
     "output_type": "stream",
     "text": [
      "Epoch 190/512: \n",
      "Train Loss = 0.26466, Train MSE = 0.59128, Train MAE = 0.59404, Train Acc = 0.82442\n",
      "Val Loss = 0.28289, Val MSE = 0.64846, Val MAE = 0.61387, Val Acc = 0.81633\n"
     ]
    },
    {
     "name": "stderr",
     "output_type": "stream",
     "text": [
      "Epoch 191/512: 100%|████████████████████████████████████████████████████████████████████| 910/910 [00:44<00:00, 20.25it/s]\n"
     ]
    },
    {
     "name": "stdout",
     "output_type": "stream",
     "text": [
      "Epoch 191/512: \n",
      "Train Loss = 0.26424, Train MSE = 0.59152, Train MAE = 0.59274, Train Acc = 0.82535\n",
      "Val Loss = 0.29009, Val MSE = 0.66585, Val MAE = 0.62314, Val Acc = 0.80533\n"
     ]
    },
    {
     "name": "stderr",
     "output_type": "stream",
     "text": [
      "Epoch 192/512: 100%|████████████████████████████████████████████████████████████████████| 910/910 [00:44<00:00, 20.26it/s]\n"
     ]
    },
    {
     "name": "stdout",
     "output_type": "stream",
     "text": [
      "Epoch 192/512: \n",
      "Train Loss = 0.26410, Train MSE = 0.59069, Train MAE = 0.59215, Train Acc = 0.82480\n",
      "Val Loss = 0.28705, Val MSE = 0.65781, Val MAE = 0.61843, Val Acc = 0.81083\n"
     ]
    },
    {
     "name": "stderr",
     "output_type": "stream",
     "text": [
      "Epoch 193/512: 100%|████████████████████████████████████████████████████████████████████| 910/910 [00:45<00:00, 20.18it/s]\n"
     ]
    },
    {
     "name": "stdout",
     "output_type": "stream",
     "text": [
      "Epoch 193/512: \n",
      "Train Loss = 0.26305, Train MSE = 0.58748, Train MAE = 0.59068, Train Acc = 0.82620\n",
      "Val Loss = 0.29074, Val MSE = 0.66969, Val MAE = 0.62175, Val Acc = 0.80712\n"
     ]
    },
    {
     "name": "stderr",
     "output_type": "stream",
     "text": [
      "Epoch 194/512: 100%|████████████████████████████████████████████████████████████████████| 910/910 [00:45<00:00, 20.16it/s]\n"
     ]
    },
    {
     "name": "stdout",
     "output_type": "stream",
     "text": [
      "Epoch 194/512: \n",
      "Train Loss = 0.26317, Train MSE = 0.58697, Train MAE = 0.59091, Train Acc = 0.82335\n",
      "Val Loss = 0.28795, Val MSE = 0.66158, Val MAE = 0.61978, Val Acc = 0.80698\n"
     ]
    },
    {
     "name": "stderr",
     "output_type": "stream",
     "text": [
      "Epoch 195/512: 100%|████████████████████████████████████████████████████████████████████| 910/910 [00:44<00:00, 20.29it/s]\n"
     ]
    },
    {
     "name": "stdout",
     "output_type": "stream",
     "text": [
      "Epoch 195/512: \n",
      "Train Loss = 0.26423, Train MSE = 0.59158, Train MAE = 0.59298, Train Acc = 0.82581\n",
      "Val Loss = 0.29305, Val MSE = 0.67438, Val MAE = 0.62646, Val Acc = 0.80465\n"
     ]
    },
    {
     "name": "stderr",
     "output_type": "stream",
     "text": [
      "Epoch 196/512: 100%|████████████████████████████████████████████████████████████████████| 910/910 [00:45<00:00, 20.12it/s]\n"
     ]
    },
    {
     "name": "stdout",
     "output_type": "stream",
     "text": [
      "Epoch 196/512: \n",
      "Train Loss = 0.26259, Train MSE = 0.58775, Train MAE = 0.59015, Train Acc = 0.82634\n",
      "Val Loss = 0.28910, Val MSE = 0.66368, Val MAE = 0.62065, Val Acc = 0.80753\n"
     ]
    },
    {
     "name": "stderr",
     "output_type": "stream",
     "text": [
      "Epoch 197/512: 100%|████████████████████████████████████████████████████████████████████| 910/910 [00:44<00:00, 20.30it/s]\n"
     ]
    },
    {
     "name": "stdout",
     "output_type": "stream",
     "text": [
      "Epoch 197/512: \n",
      "Train Loss = 0.26196, Train MSE = 0.58539, Train MAE = 0.58942, Train Acc = 0.82782\n",
      "Val Loss = 0.28707, Val MSE = 0.65869, Val MAE = 0.61765, Val Acc = 0.80740\n"
     ]
    },
    {
     "name": "stderr",
     "output_type": "stream",
     "text": [
      "Epoch 198/512: 100%|████████████████████████████████████████████████████████████████████| 910/910 [00:44<00:00, 20.26it/s]\n"
     ]
    },
    {
     "name": "stdout",
     "output_type": "stream",
     "text": [
      "Epoch 198/512: \n",
      "Train Loss = 0.26430, Train MSE = 0.59104, Train MAE = 0.59261, Train Acc = 0.82459\n",
      "Val Loss = 0.29264, Val MSE = 0.67527, Val MAE = 0.62621, Val Acc = 0.80753\n"
     ]
    },
    {
     "name": "stderr",
     "output_type": "stream",
     "text": [
      "Epoch 199/512: 100%|████████████████████████████████████████████████████████████████████| 910/910 [00:44<00:00, 20.23it/s]\n"
     ]
    },
    {
     "name": "stdout",
     "output_type": "stream",
     "text": [
      "Epoch 199/512: \n",
      "Train Loss = 0.26364, Train MSE = 0.58931, Train MAE = 0.59202, Train Acc = 0.82550\n",
      "Val Loss = 0.28982, Val MSE = 0.66451, Val MAE = 0.62313, Val Acc = 0.80506\n"
     ]
    },
    {
     "name": "stderr",
     "output_type": "stream",
     "text": [
      "Epoch 200/512: 100%|████████████████████████████████████████████████████████████████████| 910/910 [00:45<00:00, 20.20it/s]\n"
     ]
    },
    {
     "name": "stdout",
     "output_type": "stream",
     "text": [
      "Epoch 200/512: \n",
      "Train Loss = 0.26036, Train MSE = 0.58117, Train MAE = 0.58723, Train Acc = 0.82871\n",
      "Val Loss = 0.28652, Val MSE = 0.65670, Val MAE = 0.61819, Val Acc = 0.81056\n"
     ]
    },
    {
     "name": "stderr",
     "output_type": "stream",
     "text": [
      "Epoch 201/512: 100%|████████████████████████████████████████████████████████████████████| 910/910 [00:45<00:00, 20.22it/s]\n"
     ]
    },
    {
     "name": "stdout",
     "output_type": "stream",
     "text": [
      "Epoch 201/512: \n",
      "Train Loss = 0.26168, Train MSE = 0.58483, Train MAE = 0.58849, Train Acc = 0.82514\n",
      "Val Loss = 0.28188, Val MSE = 0.64446, Val MAE = 0.61025, Val Acc = 0.81235\n"
     ]
    },
    {
     "name": "stderr",
     "output_type": "stream",
     "text": [
      "Epoch 202/512: 100%|████████████████████████████████████████████████████████████████████| 910/910 [00:44<00:00, 20.26it/s]\n"
     ]
    },
    {
     "name": "stdout",
     "output_type": "stream",
     "text": [
      "Epoch 202/512: \n",
      "Train Loss = 0.26241, Train MSE = 0.58570, Train MAE = 0.59042, Train Acc = 0.82669\n",
      "Val Loss = 0.28969, Val MSE = 0.66515, Val MAE = 0.62066, Val Acc = 0.80712\n"
     ]
    },
    {
     "name": "stderr",
     "output_type": "stream",
     "text": [
      "Epoch 203/512: 100%|████████████████████████████████████████████████████████████████████| 910/910 [00:44<00:00, 20.28it/s]\n"
     ]
    },
    {
     "name": "stdout",
     "output_type": "stream",
     "text": [
      "Epoch 203/512: \n",
      "Train Loss = 0.25834, Train MSE = 0.57610, Train MAE = 0.58436, Train Acc = 0.83052\n",
      "Val Loss = 0.28377, Val MSE = 0.64831, Val MAE = 0.61504, Val Acc = 0.81083\n"
     ]
    },
    {
     "name": "stderr",
     "output_type": "stream",
     "text": [
      "Epoch 204/512: 100%|████████████████████████████████████████████████████████████████████| 910/910 [00:45<00:00, 20.19it/s]\n"
     ]
    },
    {
     "name": "stdout",
     "output_type": "stream",
     "text": [
      "Epoch 204/512: \n",
      "Train Loss = 0.26204, Train MSE = 0.58501, Train MAE = 0.58979, Train Acc = 0.82595\n",
      "Val Loss = 0.29207, Val MSE = 0.67177, Val MAE = 0.62552, Val Acc = 0.80575\n"
     ]
    },
    {
     "name": "stderr",
     "output_type": "stream",
     "text": [
      "Epoch 205/512: 100%|████████████████████████████████████████████████████████████████████| 910/910 [00:45<00:00, 20.10it/s]\n"
     ]
    },
    {
     "name": "stdout",
     "output_type": "stream",
     "text": [
      "Epoch 205/512: \n",
      "Train Loss = 0.25994, Train MSE = 0.58054, Train MAE = 0.58667, Train Acc = 0.82949\n",
      "Val Loss = 0.29245, Val MSE = 0.66848, Val MAE = 0.62704, Val Acc = 0.80245\n"
     ]
    },
    {
     "name": "stderr",
     "output_type": "stream",
     "text": [
      "Epoch 206/512: 100%|████████████████████████████████████████████████████████████████████| 910/910 [00:44<00:00, 20.24it/s]\n"
     ]
    },
    {
     "name": "stdout",
     "output_type": "stream",
     "text": [
      "Epoch 206/512: \n",
      "Train Loss = 0.25998, Train MSE = 0.58009, Train MAE = 0.58708, Train Acc = 0.82935\n",
      "Val Loss = 0.28722, Val MSE = 0.65768, Val MAE = 0.62004, Val Acc = 0.80973\n"
     ]
    },
    {
     "name": "stderr",
     "output_type": "stream",
     "text": [
      "Epoch 207/512: 100%|████████████████████████████████████████████████████████████████████| 910/910 [00:45<00:00, 20.15it/s]\n"
     ]
    },
    {
     "name": "stdout",
     "output_type": "stream",
     "text": [
      "Epoch 207/512: \n",
      "Train Loss = 0.26077, Train MSE = 0.58115, Train MAE = 0.58760, Train Acc = 0.82699\n",
      "Val Loss = 0.27926, Val MSE = 0.63810, Val MAE = 0.60760, Val Acc = 0.81619\n"
     ]
    },
    {
     "name": "stderr",
     "output_type": "stream",
     "text": [
      "Epoch 208/512: 100%|████████████████████████████████████████████████████████████████████| 910/910 [00:45<00:00, 20.22it/s]\n"
     ]
    },
    {
     "name": "stdout",
     "output_type": "stream",
     "text": [
      "Epoch 208/512: \n",
      "Train Loss = 0.26122, Train MSE = 0.58426, Train MAE = 0.58791, Train Acc = 0.82737\n",
      "Val Loss = 0.27838, Val MSE = 0.63510, Val MAE = 0.60754, Val Acc = 0.81729\n"
     ]
    },
    {
     "name": "stderr",
     "output_type": "stream",
     "text": [
      "Epoch 209/512: 100%|████████████████████████████████████████████████████████████████████| 910/910 [00:44<00:00, 20.30it/s]\n"
     ]
    },
    {
     "name": "stdout",
     "output_type": "stream",
     "text": [
      "Epoch 209/512: \n",
      "Train Loss = 0.26137, Train MSE = 0.58290, Train MAE = 0.58869, Train Acc = 0.82715\n",
      "Val Loss = 0.30030, Val MSE = 0.69553, Val MAE = 0.63639, Val Acc = 0.79915\n"
     ]
    },
    {
     "name": "stderr",
     "output_type": "stream",
     "text": [
      "Epoch 210/512: 100%|████████████████████████████████████████████████████████████████████| 910/910 [00:44<00:00, 20.25it/s]\n"
     ]
    },
    {
     "name": "stdout",
     "output_type": "stream",
     "text": [
      "Epoch 210/512: \n",
      "Train Loss = 0.25986, Train MSE = 0.58065, Train MAE = 0.58639, Train Acc = 0.82913\n",
      "Val Loss = 0.28395, Val MSE = 0.64680, Val MAE = 0.61710, Val Acc = 0.81193\n"
     ]
    },
    {
     "name": "stderr",
     "output_type": "stream",
     "text": [
      "Epoch 211/512: 100%|████████████████████████████████████████████████████████████████████| 910/910 [00:44<00:00, 20.25it/s]\n"
     ]
    },
    {
     "name": "stdout",
     "output_type": "stream",
     "text": [
      "Epoch 211/512: \n",
      "Train Loss = 0.25965, Train MSE = 0.57946, Train MAE = 0.58602, Train Acc = 0.82779\n",
      "Val Loss = 0.29275, Val MSE = 0.67162, Val MAE = 0.62806, Val Acc = 0.80506\n"
     ]
    },
    {
     "name": "stderr",
     "output_type": "stream",
     "text": [
      "Epoch 212/512: 100%|████████████████████████████████████████████████████████████████████| 910/910 [00:44<00:00, 20.23it/s]\n"
     ]
    },
    {
     "name": "stdout",
     "output_type": "stream",
     "text": [
      "Epoch 212/512: \n",
      "Train Loss = 0.25988, Train MSE = 0.57974, Train MAE = 0.58629, Train Acc = 0.82870\n",
      "Val Loss = 0.28661, Val MSE = 0.65729, Val MAE = 0.61648, Val Acc = 0.80698\n"
     ]
    },
    {
     "name": "stderr",
     "output_type": "stream",
     "text": [
      "Epoch 213/512: 100%|████████████████████████████████████████████████████████████████████| 910/910 [00:45<00:00, 20.13it/s]\n"
     ]
    },
    {
     "name": "stdout",
     "output_type": "stream",
     "text": [
      "Epoch 213/512: \n",
      "Train Loss = 0.26014, Train MSE = 0.58042, Train MAE = 0.58743, Train Acc = 0.82852\n",
      "Val Loss = 0.27992, Val MSE = 0.63742, Val MAE = 0.60914, Val Acc = 0.81180\n"
     ]
    },
    {
     "name": "stderr",
     "output_type": "stream",
     "text": [
      "Epoch 214/512: 100%|████████████████████████████████████████████████████████████████████| 910/910 [00:44<00:00, 20.35it/s]\n"
     ]
    },
    {
     "name": "stdout",
     "output_type": "stream",
     "text": [
      "Epoch 214/512: \n",
      "Train Loss = 0.26029, Train MSE = 0.58079, Train MAE = 0.58696, Train Acc = 0.82768\n",
      "Val Loss = 0.28914, Val MSE = 0.66624, Val MAE = 0.61907, Val Acc = 0.80671\n"
     ]
    },
    {
     "name": "stderr",
     "output_type": "stream",
     "text": [
      "Epoch 215/512: 100%|████████████████████████████████████████████████████████████████████| 910/910 [00:44<00:00, 20.25it/s]\n"
     ]
    },
    {
     "name": "stdout",
     "output_type": "stream",
     "text": [
      "Epoch 215/512: \n",
      "Train Loss = 0.25047, Train MSE = 0.55766, Train MAE = 0.57321, Train Acc = 0.83737\n",
      "Val Loss = 0.28168, Val MSE = 0.64850, Val MAE = 0.61058, Val Acc = 0.81894\n"
     ]
    },
    {
     "name": "stderr",
     "output_type": "stream",
     "text": [
      "Epoch 216/512: 100%|████████████████████████████████████████████████████████████████████| 910/910 [00:44<00:00, 20.25it/s]\n"
     ]
    },
    {
     "name": "stdout",
     "output_type": "stream",
     "text": [
      "Epoch 216/512: \n",
      "Train Loss = 0.24840, Train MSE = 0.55211, Train MAE = 0.57148, Train Acc = 0.83963\n",
      "Val Loss = 0.29120, Val MSE = 0.67101, Val MAE = 0.62286, Val Acc = 0.80561\n"
     ]
    },
    {
     "name": "stderr",
     "output_type": "stream",
     "text": [
      "Epoch 217/512: 100%|████████████████████████████████████████████████████████████████████| 910/910 [00:45<00:00, 20.16it/s]\n"
     ]
    },
    {
     "name": "stdout",
     "output_type": "stream",
     "text": [
      "Epoch 217/512: \n",
      "Train Loss = 0.24693, Train MSE = 0.54865, Train MAE = 0.56829, Train Acc = 0.83939\n",
      "Val Loss = 0.27974, Val MSE = 0.64091, Val MAE = 0.60871, Val Acc = 0.81551\n"
     ]
    },
    {
     "name": "stderr",
     "output_type": "stream",
     "text": [
      "Epoch 218/512: 100%|████████████████████████████████████████████████████████████████████| 910/910 [00:45<00:00, 20.15it/s]\n"
     ]
    },
    {
     "name": "stdout",
     "output_type": "stream",
     "text": [
      "Epoch 218/512: \n",
      "Train Loss = 0.24556, Train MSE = 0.54524, Train MAE = 0.56659, Train Acc = 0.84210\n",
      "Val Loss = 0.27716, Val MSE = 0.63327, Val MAE = 0.60561, Val Acc = 0.81688\n"
     ]
    },
    {
     "name": "stderr",
     "output_type": "stream",
     "text": [
      "Epoch 219/512: 100%|████████████████████████████████████████████████████████████████████| 910/910 [00:44<00:00, 20.30it/s]\n"
     ]
    },
    {
     "name": "stdout",
     "output_type": "stream",
     "text": [
      "Epoch 219/512: \n",
      "Train Loss = 0.24681, Train MSE = 0.54825, Train MAE = 0.56843, Train Acc = 0.84133\n",
      "Val Loss = 0.29048, Val MSE = 0.66944, Val MAE = 0.62228, Val Acc = 0.80451\n"
     ]
    },
    {
     "name": "stderr",
     "output_type": "stream",
     "text": [
      "Epoch 220/512: 100%|████████████████████████████████████████████████████████████████████| 910/910 [00:44<00:00, 20.24it/s]\n"
     ]
    },
    {
     "name": "stdout",
     "output_type": "stream",
     "text": [
      "Epoch 220/512: \n",
      "Train Loss = 0.24624, Train MSE = 0.54701, Train MAE = 0.56778, Train Acc = 0.84093\n",
      "Val Loss = 0.28200, Val MSE = 0.64725, Val MAE = 0.61189, Val Acc = 0.81592\n"
     ]
    },
    {
     "name": "stderr",
     "output_type": "stream",
     "text": [
      "Epoch 221/512: 100%|████████████████████████████████████████████████████████████████████| 910/910 [00:44<00:00, 20.37it/s]\n"
     ]
    },
    {
     "name": "stdout",
     "output_type": "stream",
     "text": [
      "Epoch 221/512: \n",
      "Train Loss = 0.24497, Train MSE = 0.54516, Train MAE = 0.56575, Train Acc = 0.84188\n",
      "Val Loss = 0.28178, Val MSE = 0.64510, Val MAE = 0.61222, Val Acc = 0.81221\n"
     ]
    },
    {
     "name": "stderr",
     "output_type": "stream",
     "text": [
      "Epoch 222/512: 100%|████████████████████████████████████████████████████████████████████| 910/910 [00:45<00:00, 20.19it/s]\n"
     ]
    },
    {
     "name": "stdout",
     "output_type": "stream",
     "text": [
      "Epoch 222/512: \n",
      "Train Loss = 0.24514, Train MSE = 0.54436, Train MAE = 0.56624, Train Acc = 0.84286\n",
      "Val Loss = 0.28288, Val MSE = 0.64858, Val MAE = 0.61327, Val Acc = 0.81290\n"
     ]
    },
    {
     "name": "stderr",
     "output_type": "stream",
     "text": [
      "Epoch 223/512: 100%|████████████████████████████████████████████████████████████████████| 910/910 [00:44<00:00, 20.27it/s]\n"
     ]
    },
    {
     "name": "stdout",
     "output_type": "stream",
     "text": [
      "Epoch 223/512: \n",
      "Train Loss = 0.24407, Train MSE = 0.54300, Train MAE = 0.56428, Train Acc = 0.84336\n",
      "Val Loss = 0.27642, Val MSE = 0.63208, Val MAE = 0.60445, Val Acc = 0.81991\n"
     ]
    },
    {
     "name": "stderr",
     "output_type": "stream",
     "text": [
      "Epoch 224/512: 100%|████████████████████████████████████████████████████████████████████| 910/910 [00:45<00:00, 20.21it/s]\n"
     ]
    },
    {
     "name": "stdout",
     "output_type": "stream",
     "text": [
      "Epoch 224/512: \n",
      "Train Loss = 0.24477, Train MSE = 0.54249, Train MAE = 0.56577, Train Acc = 0.84231\n",
      "Val Loss = 0.28142, Val MSE = 0.64577, Val MAE = 0.61213, Val Acc = 0.81674\n"
     ]
    },
    {
     "name": "stderr",
     "output_type": "stream",
     "text": [
      "Epoch 225/512: 100%|████████████████████████████████████████████████████████████████████| 910/910 [00:45<00:00, 20.16it/s]\n"
     ]
    },
    {
     "name": "stdout",
     "output_type": "stream",
     "text": [
      "Epoch 225/512: \n",
      "Train Loss = 0.24457, Train MSE = 0.54290, Train MAE = 0.56530, Train Acc = 0.84198\n",
      "Val Loss = 0.27743, Val MSE = 0.63539, Val MAE = 0.60499, Val Acc = 0.81881\n"
     ]
    },
    {
     "name": "stderr",
     "output_type": "stream",
     "text": [
      "Epoch 226/512: 100%|████████████████████████████████████████████████████████████████████| 910/910 [00:44<00:00, 20.23it/s]\n"
     ]
    },
    {
     "name": "stdout",
     "output_type": "stream",
     "text": [
      "Epoch 226/512: \n",
      "Train Loss = 0.24507, Train MSE = 0.54379, Train MAE = 0.56580, Train Acc = 0.84231\n",
      "Val Loss = 0.28013, Val MSE = 0.64194, Val MAE = 0.60875, Val Acc = 0.81633\n"
     ]
    },
    {
     "name": "stderr",
     "output_type": "stream",
     "text": [
      "Epoch 227/512: 100%|████████████████████████████████████████████████████████████████████| 910/910 [00:44<00:00, 20.26it/s]\n"
     ]
    },
    {
     "name": "stdout",
     "output_type": "stream",
     "text": [
      "Epoch 227/512: \n",
      "Train Loss = 0.24443, Train MSE = 0.54237, Train MAE = 0.56492, Train Acc = 0.84392\n",
      "Val Loss = 0.27775, Val MSE = 0.63652, Val MAE = 0.60569, Val Acc = 0.81839\n"
     ]
    },
    {
     "name": "stderr",
     "output_type": "stream",
     "text": [
      "Epoch 228/512: 100%|████████████████████████████████████████████████████████████████████| 910/910 [00:44<00:00, 20.23it/s]\n"
     ]
    },
    {
     "name": "stdout",
     "output_type": "stream",
     "text": [
      "Epoch 228/512: \n",
      "Train Loss = 0.24432, Train MSE = 0.54260, Train MAE = 0.56500, Train Acc = 0.84330\n",
      "Val Loss = 0.28391, Val MSE = 0.65492, Val MAE = 0.61288, Val Acc = 0.81345\n"
     ]
    },
    {
     "name": "stderr",
     "output_type": "stream",
     "text": [
      "Epoch 229/512: 100%|████████████████████████████████████████████████████████████████████| 910/910 [00:44<00:00, 20.25it/s]\n"
     ]
    },
    {
     "name": "stdout",
     "output_type": "stream",
     "text": [
      "Epoch 229/512: \n",
      "Train Loss = 0.24476, Train MSE = 0.54309, Train MAE = 0.56561, Train Acc = 0.84208\n",
      "Val Loss = 0.27262, Val MSE = 0.62325, Val MAE = 0.59896, Val Acc = 0.82224\n"
     ]
    },
    {
     "name": "stderr",
     "output_type": "stream",
     "text": [
      "Epoch 230/512: 100%|████████████████████████████████████████████████████████████████████| 910/910 [00:45<00:00, 20.21it/s]\n"
     ]
    },
    {
     "name": "stdout",
     "output_type": "stream",
     "text": [
      "Epoch 230/512: \n",
      "Train Loss = 0.24403, Train MSE = 0.54212, Train MAE = 0.56430, Train Acc = 0.84342\n",
      "Val Loss = 0.28380, Val MSE = 0.65054, Val MAE = 0.61583, Val Acc = 0.81400\n"
     ]
    },
    {
     "name": "stderr",
     "output_type": "stream",
     "text": [
      "Epoch 231/512: 100%|████████████████████████████████████████████████████████████████████| 910/910 [00:45<00:00, 20.21it/s]\n"
     ]
    },
    {
     "name": "stdout",
     "output_type": "stream",
     "text": [
      "Epoch 231/512: \n",
      "Train Loss = 0.24270, Train MSE = 0.53854, Train MAE = 0.56314, Train Acc = 0.84421\n",
      "Val Loss = 0.27105, Val MSE = 0.61756, Val MAE = 0.59799, Val Acc = 0.82128\n"
     ]
    },
    {
     "name": "stderr",
     "output_type": "stream",
     "text": [
      "Epoch 232/512: 100%|████████████████████████████████████████████████████████████████████| 910/910 [00:44<00:00, 20.28it/s]\n"
     ]
    },
    {
     "name": "stdout",
     "output_type": "stream",
     "text": [
      "Epoch 232/512: \n",
      "Train Loss = 0.24301, Train MSE = 0.53881, Train MAE = 0.56399, Train Acc = 0.84421\n",
      "Val Loss = 0.27362, Val MSE = 0.62377, Val MAE = 0.60218, Val Acc = 0.82128\n"
     ]
    },
    {
     "name": "stderr",
     "output_type": "stream",
     "text": [
      "Epoch 233/512: 100%|████████████████████████████████████████████████████████████████████| 910/910 [00:44<00:00, 20.24it/s]\n"
     ]
    },
    {
     "name": "stdout",
     "output_type": "stream",
     "text": [
      "Epoch 233/512: \n",
      "Train Loss = 0.24194, Train MSE = 0.53634, Train MAE = 0.56260, Train Acc = 0.84492\n",
      "Val Loss = 0.28026, Val MSE = 0.64228, Val MAE = 0.60814, Val Acc = 0.81413\n"
     ]
    },
    {
     "name": "stderr",
     "output_type": "stream",
     "text": [
      "Epoch 234/512: 100%|████████████████████████████████████████████████████████████████████| 910/910 [00:44<00:00, 20.23it/s]\n"
     ]
    },
    {
     "name": "stdout",
     "output_type": "stream",
     "text": [
      "Epoch 234/512: \n",
      "Train Loss = 0.24317, Train MSE = 0.53931, Train MAE = 0.56418, Train Acc = 0.84411\n",
      "Val Loss = 0.28263, Val MSE = 0.64740, Val MAE = 0.61316, Val Acc = 0.81193\n"
     ]
    },
    {
     "name": "stderr",
     "output_type": "stream",
     "text": [
      "Epoch 235/512: 100%|████████████████████████████████████████████████████████████████████| 910/910 [00:45<00:00, 20.17it/s]\n"
     ]
    },
    {
     "name": "stdout",
     "output_type": "stream",
     "text": [
      "Epoch 235/512: \n",
      "Train Loss = 0.24226, Train MSE = 0.53706, Train MAE = 0.56233, Train Acc = 0.84451\n",
      "Val Loss = 0.27743, Val MSE = 0.63284, Val MAE = 0.60581, Val Acc = 0.81812\n"
     ]
    },
    {
     "name": "stderr",
     "output_type": "stream",
     "text": [
      "Epoch 236/512: 100%|████████████████████████████████████████████████████████████████████| 910/910 [00:44<00:00, 20.24it/s]\n"
     ]
    },
    {
     "name": "stdout",
     "output_type": "stream",
     "text": [
      "Epoch 236/512: \n",
      "Train Loss = 0.24252, Train MSE = 0.53723, Train MAE = 0.56228, Train Acc = 0.84382\n",
      "Val Loss = 0.26915, Val MSE = 0.61350, Val MAE = 0.59529, Val Acc = 0.82816\n"
     ]
    },
    {
     "name": "stderr",
     "output_type": "stream",
     "text": [
      "Epoch 237/512: 100%|████████████████████████████████████████████████████████████████████| 910/910 [00:44<00:00, 20.24it/s]\n"
     ]
    },
    {
     "name": "stdout",
     "output_type": "stream",
     "text": [
      "Epoch 237/512: \n",
      "Train Loss = 0.24282, Train MSE = 0.53797, Train MAE = 0.56389, Train Acc = 0.84420\n",
      "Val Loss = 0.27545, Val MSE = 0.62860, Val MAE = 0.60454, Val Acc = 0.81757\n"
     ]
    },
    {
     "name": "stderr",
     "output_type": "stream",
     "text": [
      "Epoch 238/512: 100%|████████████████████████████████████████████████████████████████████| 910/910 [00:44<00:00, 20.27it/s]\n"
     ]
    },
    {
     "name": "stdout",
     "output_type": "stream",
     "text": [
      "Epoch 238/512: \n",
      "Train Loss = 0.24230, Train MSE = 0.53733, Train MAE = 0.56288, Train Acc = 0.84645\n",
      "Val Loss = 0.27415, Val MSE = 0.62498, Val MAE = 0.60330, Val Acc = 0.82032\n"
     ]
    },
    {
     "name": "stderr",
     "output_type": "stream",
     "text": [
      "Epoch 239/512: 100%|████████████████████████████████████████████████████████████████████| 910/910 [00:44<00:00, 20.25it/s]\n"
     ]
    },
    {
     "name": "stdout",
     "output_type": "stream",
     "text": [
      "Epoch 239/512: \n",
      "Train Loss = 0.24199, Train MSE = 0.53604, Train MAE = 0.56268, Train Acc = 0.84610\n",
      "Val Loss = 0.27789, Val MSE = 0.63586, Val MAE = 0.60808, Val Acc = 0.81881\n"
     ]
    },
    {
     "name": "stderr",
     "output_type": "stream",
     "text": [
      "Epoch 240/512: 100%|████████████████████████████████████████████████████████████████████| 910/910 [00:44<00:00, 20.33it/s]\n"
     ]
    },
    {
     "name": "stdout",
     "output_type": "stream",
     "text": [
      "Epoch 240/512: \n",
      "Train Loss = 0.24143, Train MSE = 0.53436, Train MAE = 0.56147, Train Acc = 0.84526\n",
      "Val Loss = 0.27690, Val MSE = 0.63272, Val MAE = 0.60597, Val Acc = 0.82334\n"
     ]
    },
    {
     "name": "stderr",
     "output_type": "stream",
     "text": [
      "Epoch 241/512: 100%|████████████████████████████████████████████████████████████████████| 910/910 [00:44<00:00, 20.35it/s]\n"
     ]
    },
    {
     "name": "stdout",
     "output_type": "stream",
     "text": [
      "Epoch 241/512: \n",
      "Train Loss = 0.24265, Train MSE = 0.53754, Train MAE = 0.56254, Train Acc = 0.84384\n",
      "Val Loss = 0.27337, Val MSE = 0.62463, Val MAE = 0.60084, Val Acc = 0.82554\n"
     ]
    },
    {
     "name": "stderr",
     "output_type": "stream",
     "text": [
      "Epoch 242/512: 100%|████████████████████████████████████████████████████████████████████| 910/910 [00:45<00:00, 20.20it/s]\n"
     ]
    },
    {
     "name": "stdout",
     "output_type": "stream",
     "text": [
      "Epoch 242/512: \n",
      "Train Loss = 0.24163, Train MSE = 0.53665, Train MAE = 0.56110, Train Acc = 0.84482\n",
      "Val Loss = 0.27177, Val MSE = 0.61954, Val MAE = 0.59703, Val Acc = 0.82279\n"
     ]
    },
    {
     "name": "stderr",
     "output_type": "stream",
     "text": [
      "Epoch 243/512: 100%|████████████████████████████████████████████████████████████████████| 910/910 [00:44<00:00, 20.24it/s]\n"
     ]
    },
    {
     "name": "stdout",
     "output_type": "stream",
     "text": [
      "Epoch 243/512: \n",
      "Train Loss = 0.24042, Train MSE = 0.53257, Train MAE = 0.56025, Train Acc = 0.84688\n",
      "Val Loss = 0.28078, Val MSE = 0.64185, Val MAE = 0.61127, Val Acc = 0.81743\n"
     ]
    },
    {
     "name": "stderr",
     "output_type": "stream",
     "text": [
      "Epoch 244/512: 100%|████████████████████████████████████████████████████████████████████| 910/910 [00:44<00:00, 20.34it/s]\n"
     ]
    },
    {
     "name": "stdout",
     "output_type": "stream",
     "text": [
      "Epoch 244/512: \n",
      "Train Loss = 0.24176, Train MSE = 0.53531, Train MAE = 0.56186, Train Acc = 0.84528\n",
      "Val Loss = 0.27488, Val MSE = 0.62948, Val MAE = 0.60179, Val Acc = 0.81977\n"
     ]
    },
    {
     "name": "stderr",
     "output_type": "stream",
     "text": [
      "Epoch 245/512: 100%|████████████████████████████████████████████████████████████████████| 910/910 [00:44<00:00, 20.30it/s]\n"
     ]
    },
    {
     "name": "stdout",
     "output_type": "stream",
     "text": [
      "Epoch 245/512: \n",
      "Train Loss = 0.24149, Train MSE = 0.53484, Train MAE = 0.56194, Train Acc = 0.84542\n",
      "Val Loss = 0.27894, Val MSE = 0.63899, Val MAE = 0.60798, Val Acc = 0.81936\n"
     ]
    },
    {
     "name": "stderr",
     "output_type": "stream",
     "text": [
      "Epoch 246/512: 100%|████████████████████████████████████████████████████████████████████| 910/910 [00:44<00:00, 20.31it/s]\n"
     ]
    },
    {
     "name": "stdout",
     "output_type": "stream",
     "text": [
      "Epoch 246/512: \n",
      "Train Loss = 0.24071, Train MSE = 0.53302, Train MAE = 0.56007, Train Acc = 0.84535\n",
      "Val Loss = 0.28257, Val MSE = 0.64748, Val MAE = 0.61334, Val Acc = 0.81427\n"
     ]
    },
    {
     "name": "stderr",
     "output_type": "stream",
     "text": [
      "Epoch 247/512: 100%|████████████████████████████████████████████████████████████████████| 910/910 [00:44<00:00, 20.26it/s]\n"
     ]
    },
    {
     "name": "stdout",
     "output_type": "stream",
     "text": [
      "Epoch 247/512: \n",
      "Train Loss = 0.24123, Train MSE = 0.53468, Train MAE = 0.56118, Train Acc = 0.84561\n",
      "Val Loss = 0.27478, Val MSE = 0.62743, Val MAE = 0.60290, Val Acc = 0.82348\n"
     ]
    },
    {
     "name": "stderr",
     "output_type": "stream",
     "text": [
      "Epoch 248/512: 100%|████████████████████████████████████████████████████████████████████| 910/910 [00:44<00:00, 20.29it/s]\n"
     ]
    },
    {
     "name": "stdout",
     "output_type": "stream",
     "text": [
      "Epoch 248/512: \n",
      "Train Loss = 0.24116, Train MSE = 0.53464, Train MAE = 0.56105, Train Acc = 0.84710\n",
      "Val Loss = 0.27007, Val MSE = 0.61598, Val MAE = 0.59533, Val Acc = 0.82472\n"
     ]
    },
    {
     "name": "stderr",
     "output_type": "stream",
     "text": [
      "Epoch 249/512: 100%|████████████████████████████████████████████████████████████████████| 910/910 [00:44<00:00, 20.25it/s]\n"
     ]
    },
    {
     "name": "stdout",
     "output_type": "stream",
     "text": [
      "Epoch 249/512: \n",
      "Train Loss = 0.23985, Train MSE = 0.53129, Train MAE = 0.55889, Train Acc = 0.84729\n",
      "Val Loss = 0.27916, Val MSE = 0.63931, Val MAE = 0.60698, Val Acc = 0.81688\n"
     ]
    },
    {
     "name": "stderr",
     "output_type": "stream",
     "text": [
      "Epoch 250/512: 100%|████████████████████████████████████████████████████████████████████| 910/910 [00:44<00:00, 20.28it/s]\n"
     ]
    },
    {
     "name": "stdout",
     "output_type": "stream",
     "text": [
      "Epoch 250/512: \n",
      "Train Loss = 0.24016, Train MSE = 0.53177, Train MAE = 0.55920, Train Acc = 0.84586\n",
      "Val Loss = 0.27643, Val MSE = 0.63171, Val MAE = 0.60404, Val Acc = 0.81674\n"
     ]
    },
    {
     "name": "stderr",
     "output_type": "stream",
     "text": [
      "Epoch 251/512: 100%|████████████████████████████████████████████████████████████████████| 910/910 [00:44<00:00, 20.33it/s]\n"
     ]
    },
    {
     "name": "stdout",
     "output_type": "stream",
     "text": [
      "Epoch 251/512: \n",
      "Train Loss = 0.24037, Train MSE = 0.53153, Train MAE = 0.55981, Train Acc = 0.84566\n",
      "Val Loss = 0.27517, Val MSE = 0.62713, Val MAE = 0.60369, Val Acc = 0.81798\n"
     ]
    },
    {
     "name": "stderr",
     "output_type": "stream",
     "text": [
      "Epoch 252/512: 100%|████████████████████████████████████████████████████████████████████| 910/910 [00:45<00:00, 20.07it/s]\n"
     ]
    },
    {
     "name": "stdout",
     "output_type": "stream",
     "text": [
      "Epoch 252/512: \n",
      "Train Loss = 0.24046, Train MSE = 0.53228, Train MAE = 0.56080, Train Acc = 0.84640\n",
      "Val Loss = 0.27271, Val MSE = 0.62023, Val MAE = 0.60039, Val Acc = 0.82128\n"
     ]
    },
    {
     "name": "stderr",
     "output_type": "stream",
     "text": [
      "Epoch 253/512: 100%|████████████████████████████████████████████████████████████████████| 910/910 [00:44<00:00, 20.25it/s]\n"
     ]
    },
    {
     "name": "stdout",
     "output_type": "stream",
     "text": [
      "Epoch 253/512: \n",
      "Train Loss = 0.23888, Train MSE = 0.52902, Train MAE = 0.55685, Train Acc = 0.84720\n",
      "Val Loss = 0.27173, Val MSE = 0.61885, Val MAE = 0.59867, Val Acc = 0.82197\n"
     ]
    },
    {
     "name": "stderr",
     "output_type": "stream",
     "text": [
      "Epoch 254/512: 100%|████████████████████████████████████████████████████████████████████| 910/910 [00:44<00:00, 20.27it/s]\n"
     ]
    },
    {
     "name": "stdout",
     "output_type": "stream",
     "text": [
      "Epoch 254/512: \n",
      "Train Loss = 0.23948, Train MSE = 0.53002, Train MAE = 0.55872, Train Acc = 0.84810\n",
      "Val Loss = 0.27820, Val MSE = 0.63769, Val MAE = 0.60571, Val Acc = 0.81619\n"
     ]
    },
    {
     "name": "stderr",
     "output_type": "stream",
     "text": [
      "Epoch 255/512: 100%|████████████████████████████████████████████████████████████████████| 910/910 [00:44<00:00, 20.26it/s]\n"
     ]
    },
    {
     "name": "stdout",
     "output_type": "stream",
     "text": [
      "Epoch 255/512: \n",
      "Train Loss = 0.23977, Train MSE = 0.53112, Train MAE = 0.55920, Train Acc = 0.84707\n",
      "Val Loss = 0.27080, Val MSE = 0.61803, Val MAE = 0.59764, Val Acc = 0.82252\n"
     ]
    },
    {
     "name": "stderr",
     "output_type": "stream",
     "text": [
      "Epoch 256/512: 100%|████████████████████████████████████████████████████████████████████| 910/910 [00:44<00:00, 20.24it/s]\n"
     ]
    },
    {
     "name": "stdout",
     "output_type": "stream",
     "text": [
      "Epoch 256/512: \n",
      "Train Loss = 0.23895, Train MSE = 0.52890, Train MAE = 0.55815, Train Acc = 0.84789\n",
      "Val Loss = 0.27654, Val MSE = 0.63369, Val MAE = 0.60221, Val Acc = 0.82101\n"
     ]
    },
    {
     "name": "stderr",
     "output_type": "stream",
     "text": [
      "Epoch 257/512: 100%|████████████████████████████████████████████████████████████████████| 910/910 [00:45<00:00, 20.15it/s]\n"
     ]
    },
    {
     "name": "stdout",
     "output_type": "stream",
     "text": [
      "Epoch 257/512: \n",
      "Train Loss = 0.23863, Train MSE = 0.52760, Train MAE = 0.55771, Train Acc = 0.84755\n",
      "Val Loss = 0.27380, Val MSE = 0.62432, Val MAE = 0.60187, Val Acc = 0.82444\n"
     ]
    },
    {
     "name": "stderr",
     "output_type": "stream",
     "text": [
      "Epoch 258/512: 100%|████████████████████████████████████████████████████████████████████| 910/910 [00:45<00:00, 20.22it/s]\n"
     ]
    },
    {
     "name": "stdout",
     "output_type": "stream",
     "text": [
      "Epoch 258/512: \n",
      "Train Loss = 0.23990, Train MSE = 0.53105, Train MAE = 0.55961, Train Acc = 0.84703\n",
      "Val Loss = 0.26887, Val MSE = 0.61399, Val MAE = 0.59298, Val Acc = 0.82431\n"
     ]
    },
    {
     "name": "stderr",
     "output_type": "stream",
     "text": [
      "Epoch 259/512: 100%|████████████████████████████████████████████████████████████████████| 910/910 [00:45<00:00, 20.12it/s]\n"
     ]
    },
    {
     "name": "stdout",
     "output_type": "stream",
     "text": [
      "Epoch 259/512: \n",
      "Train Loss = 0.23957, Train MSE = 0.53015, Train MAE = 0.55815, Train Acc = 0.84537\n",
      "Val Loss = 0.27899, Val MSE = 0.63868, Val MAE = 0.60848, Val Acc = 0.81784\n"
     ]
    },
    {
     "name": "stderr",
     "output_type": "stream",
     "text": [
      "Epoch 260/512: 100%|████████████████████████████████████████████████████████████████████| 910/910 [00:44<00:00, 20.31it/s]\n"
     ]
    },
    {
     "name": "stdout",
     "output_type": "stream",
     "text": [
      "Epoch 260/512: \n",
      "Train Loss = 0.23887, Train MSE = 0.52907, Train MAE = 0.55759, Train Acc = 0.84798\n",
      "Val Loss = 0.28060, Val MSE = 0.64035, Val MAE = 0.61199, Val Acc = 0.81647\n"
     ]
    },
    {
     "name": "stderr",
     "output_type": "stream",
     "text": [
      "Epoch 261/512: 100%|████████████████████████████████████████████████████████████████████| 910/910 [00:45<00:00, 20.18it/s]\n"
     ]
    },
    {
     "name": "stdout",
     "output_type": "stream",
     "text": [
      "Epoch 261/512: \n",
      "Train Loss = 0.23967, Train MSE = 0.53104, Train MAE = 0.55870, Train Acc = 0.84676\n",
      "Val Loss = 0.27415, Val MSE = 0.62617, Val MAE = 0.60091, Val Acc = 0.82087\n"
     ]
    },
    {
     "name": "stderr",
     "output_type": "stream",
     "text": [
      "Epoch 262/512: 100%|████████████████████████████████████████████████████████████████████| 910/910 [00:44<00:00, 20.25it/s]\n"
     ]
    },
    {
     "name": "stdout",
     "output_type": "stream",
     "text": [
      "Epoch 262/512: \n",
      "Train Loss = 0.23799, Train MSE = 0.52686, Train MAE = 0.55680, Train Acc = 0.84892\n",
      "Val Loss = 0.27366, Val MSE = 0.62517, Val MAE = 0.59934, Val Acc = 0.82238\n"
     ]
    },
    {
     "name": "stderr",
     "output_type": "stream",
     "text": [
      "Epoch 263/512: 100%|████████████████████████████████████████████████████████████████████| 910/910 [00:44<00:00, 20.30it/s]\n"
     ]
    },
    {
     "name": "stdout",
     "output_type": "stream",
     "text": [
      "Epoch 263/512: \n",
      "Train Loss = 0.23869, Train MSE = 0.52779, Train MAE = 0.55789, Train Acc = 0.84834\n",
      "Val Loss = 0.27206, Val MSE = 0.61982, Val MAE = 0.59822, Val Acc = 0.82348\n"
     ]
    },
    {
     "name": "stderr",
     "output_type": "stream",
     "text": [
      "Epoch 264/512: 100%|████████████████████████████████████████████████████████████████████| 910/910 [00:44<00:00, 20.31it/s]\n"
     ]
    },
    {
     "name": "stdout",
     "output_type": "stream",
     "text": [
      "Epoch 264/512: \n",
      "Train Loss = 0.23939, Train MSE = 0.52916, Train MAE = 0.55919, Train Acc = 0.84712\n",
      "Val Loss = 0.26973, Val MSE = 0.61369, Val MAE = 0.59695, Val Acc = 0.82554\n"
     ]
    },
    {
     "name": "stderr",
     "output_type": "stream",
     "text": [
      "Epoch 265/512: 100%|████████████████████████████████████████████████████████████████████| 910/910 [00:45<00:00, 20.17it/s]\n"
     ]
    },
    {
     "name": "stdout",
     "output_type": "stream",
     "text": [
      "Epoch 265/512: \n",
      "Train Loss = 0.23843, Train MSE = 0.52754, Train MAE = 0.55767, Train Acc = 0.84904\n",
      "Val Loss = 0.27475, Val MSE = 0.62708, Val MAE = 0.60228, Val Acc = 0.81881\n"
     ]
    },
    {
     "name": "stderr",
     "output_type": "stream",
     "text": [
      "Epoch 266/512: 100%|████████████████████████████████████████████████████████████████████| 910/910 [00:45<00:00, 20.20it/s]\n"
     ]
    },
    {
     "name": "stdout",
     "output_type": "stream",
     "text": [
      "Epoch 266/512: \n",
      "Train Loss = 0.23846, Train MSE = 0.52737, Train MAE = 0.55725, Train Acc = 0.84712\n",
      "Val Loss = 0.26787, Val MSE = 0.61005, Val MAE = 0.59350, Val Acc = 0.82802\n"
     ]
    },
    {
     "name": "stderr",
     "output_type": "stream",
     "text": [
      "Epoch 267/512: 100%|████████████████████████████████████████████████████████████████████| 910/910 [00:45<00:00, 20.18it/s]\n"
     ]
    },
    {
     "name": "stdout",
     "output_type": "stream",
     "text": [
      "Epoch 267/512: \n",
      "Train Loss = 0.23894, Train MSE = 0.52842, Train MAE = 0.55786, Train Acc = 0.84653\n",
      "Val Loss = 0.27077, Val MSE = 0.61806, Val MAE = 0.59625, Val Acc = 0.82114\n"
     ]
    },
    {
     "name": "stderr",
     "output_type": "stream",
     "text": [
      "Epoch 268/512: 100%|████████████████████████████████████████████████████████████████████| 910/910 [00:44<00:00, 20.25it/s]\n"
     ]
    },
    {
     "name": "stdout",
     "output_type": "stream",
     "text": [
      "Epoch 268/512: \n",
      "Train Loss = 0.23812, Train MSE = 0.52630, Train MAE = 0.55758, Train Acc = 0.84842\n",
      "Val Loss = 0.27858, Val MSE = 0.63477, Val MAE = 0.60961, Val Acc = 0.81633\n"
     ]
    },
    {
     "name": "stderr",
     "output_type": "stream",
     "text": [
      "Epoch 269/512: 100%|████████████████████████████████████████████████████████████████████| 910/910 [00:44<00:00, 20.28it/s]\n"
     ]
    },
    {
     "name": "stdout",
     "output_type": "stream",
     "text": [
      "Epoch 269/512: \n",
      "Train Loss = 0.23798, Train MSE = 0.52577, Train MAE = 0.55737, Train Acc = 0.84775\n",
      "Val Loss = 0.26705, Val MSE = 0.60661, Val MAE = 0.59238, Val Acc = 0.82692\n"
     ]
    },
    {
     "name": "stderr",
     "output_type": "stream",
     "text": [
      "Epoch 270/512: 100%|████████████████████████████████████████████████████████████████████| 910/910 [00:45<00:00, 20.17it/s]\n"
     ]
    },
    {
     "name": "stdout",
     "output_type": "stream",
     "text": [
      "Epoch 270/512: \n",
      "Train Loss = 0.23784, Train MSE = 0.52569, Train MAE = 0.55668, Train Acc = 0.84885\n",
      "Val Loss = 0.27121, Val MSE = 0.61784, Val MAE = 0.59777, Val Acc = 0.82376\n"
     ]
    },
    {
     "name": "stderr",
     "output_type": "stream",
     "text": [
      "Epoch 271/512: 100%|████████████████████████████████████████████████████████████████████| 910/910 [00:45<00:00, 20.21it/s]\n"
     ]
    },
    {
     "name": "stdout",
     "output_type": "stream",
     "text": [
      "Epoch 271/512: \n",
      "Train Loss = 0.23766, Train MSE = 0.52492, Train MAE = 0.55687, Train Acc = 0.84934\n",
      "Val Loss = 0.27032, Val MSE = 0.61435, Val MAE = 0.59657, Val Acc = 0.82499\n"
     ]
    },
    {
     "name": "stderr",
     "output_type": "stream",
     "text": [
      "Epoch 272/512: 100%|████████████████████████████████████████████████████████████████████| 910/910 [00:44<00:00, 20.24it/s]\n"
     ]
    },
    {
     "name": "stdout",
     "output_type": "stream",
     "text": [
      "Epoch 272/512: \n",
      "Train Loss = 0.23750, Train MSE = 0.52495, Train MAE = 0.55592, Train Acc = 0.84958\n",
      "Val Loss = 0.27757, Val MSE = 0.63479, Val MAE = 0.60677, Val Acc = 0.82046\n"
     ]
    },
    {
     "name": "stderr",
     "output_type": "stream",
     "text": [
      "Epoch 273/512: 100%|████████████████████████████████████████████████████████████████████| 910/910 [00:45<00:00, 20.07it/s]\n"
     ]
    },
    {
     "name": "stdout",
     "output_type": "stream",
     "text": [
      "Epoch 273/512: \n",
      "Train Loss = 0.23790, Train MSE = 0.52554, Train MAE = 0.55671, Train Acc = 0.84825\n",
      "Val Loss = 0.28057, Val MSE = 0.64391, Val MAE = 0.60922, Val Acc = 0.81523\n"
     ]
    },
    {
     "name": "stderr",
     "output_type": "stream",
     "text": [
      "Epoch 274/512: 100%|████████████████████████████████████████████████████████████████████| 910/910 [00:44<00:00, 20.33it/s]\n"
     ]
    },
    {
     "name": "stdout",
     "output_type": "stream",
     "text": [
      "Epoch 274/512: \n",
      "Train Loss = 0.23607, Train MSE = 0.52179, Train MAE = 0.55384, Train Acc = 0.85117\n",
      "Val Loss = 0.27154, Val MSE = 0.61771, Val MAE = 0.59850, Val Acc = 0.82279\n"
     ]
    },
    {
     "name": "stderr",
     "output_type": "stream",
     "text": [
      "Epoch 275/512: 100%|████████████████████████████████████████████████████████████████████| 910/910 [00:44<00:00, 20.23it/s]\n"
     ]
    },
    {
     "name": "stdout",
     "output_type": "stream",
     "text": [
      "Epoch 275/512: \n",
      "Train Loss = 0.23734, Train MSE = 0.52488, Train MAE = 0.55508, Train Acc = 0.84820\n",
      "Val Loss = 0.27346, Val MSE = 0.62422, Val MAE = 0.60223, Val Acc = 0.82197\n"
     ]
    },
    {
     "name": "stderr",
     "output_type": "stream",
     "text": [
      "Epoch 276/512: 100%|████████████████████████████████████████████████████████████████████| 910/910 [00:44<00:00, 20.39it/s]\n"
     ]
    },
    {
     "name": "stdout",
     "output_type": "stream",
     "text": [
      "Epoch 276/512: \n",
      "Train Loss = 0.23657, Train MSE = 0.52394, Train MAE = 0.55416, Train Acc = 0.84965\n",
      "Val Loss = 0.27891, Val MSE = 0.64013, Val MAE = 0.60740, Val Acc = 0.81661\n"
     ]
    },
    {
     "name": "stderr",
     "output_type": "stream",
     "text": [
      "Epoch 277/512: 100%|████████████████████████████████████████████████████████████████████| 910/910 [00:45<00:00, 20.19it/s]\n"
     ]
    },
    {
     "name": "stdout",
     "output_type": "stream",
     "text": [
      "Epoch 277/512: \n",
      "Train Loss = 0.23759, Train MSE = 0.52487, Train MAE = 0.55595, Train Acc = 0.84940\n",
      "Val Loss = 0.27496, Val MSE = 0.63046, Val MAE = 0.60130, Val Acc = 0.82293\n"
     ]
    },
    {
     "name": "stderr",
     "output_type": "stream",
     "text": [
      "Epoch 278/512: 100%|████████████████████████████████████████████████████████████████████| 910/910 [00:45<00:00, 20.19it/s]\n"
     ]
    },
    {
     "name": "stdout",
     "output_type": "stream",
     "text": [
      "Epoch 278/512: \n",
      "Train Loss = 0.23574, Train MSE = 0.52078, Train MAE = 0.55329, Train Acc = 0.85073\n",
      "Val Loss = 0.27079, Val MSE = 0.61684, Val MAE = 0.59843, Val Acc = 0.82472\n"
     ]
    },
    {
     "name": "stderr",
     "output_type": "stream",
     "text": [
      "Epoch 279/512: 100%|████████████████████████████████████████████████████████████████████| 910/910 [00:45<00:00, 20.16it/s]\n"
     ]
    },
    {
     "name": "stdout",
     "output_type": "stream",
     "text": [
      "Epoch 279/512: \n",
      "Train Loss = 0.23528, Train MSE = 0.52013, Train MAE = 0.55306, Train Acc = 0.85174\n",
      "Val Loss = 0.27062, Val MSE = 0.61805, Val MAE = 0.59588, Val Acc = 0.82541\n"
     ]
    },
    {
     "name": "stderr",
     "output_type": "stream",
     "text": [
      "Epoch 280/512: 100%|████████████████████████████████████████████████████████████████████| 910/910 [00:44<00:00, 20.26it/s]\n"
     ]
    },
    {
     "name": "stdout",
     "output_type": "stream",
     "text": [
      "Epoch 280/512: \n",
      "Train Loss = 0.23624, Train MSE = 0.52237, Train MAE = 0.55440, Train Acc = 0.85001\n",
      "Val Loss = 0.27816, Val MSE = 0.63826, Val MAE = 0.60606, Val Acc = 0.81853\n"
     ]
    },
    {
     "name": "stderr",
     "output_type": "stream",
     "text": [
      "Epoch 281/512: 100%|████████████████████████████████████████████████████████████████████| 910/910 [00:44<00:00, 20.27it/s]\n"
     ]
    },
    {
     "name": "stdout",
     "output_type": "stream",
     "text": [
      "Epoch 281/512: \n",
      "Train Loss = 0.23622, Train MSE = 0.52256, Train MAE = 0.55336, Train Acc = 0.84977\n",
      "Val Loss = 0.27409, Val MSE = 0.62689, Val MAE = 0.60196, Val Acc = 0.82156\n"
     ]
    },
    {
     "name": "stderr",
     "output_type": "stream",
     "text": [
      "Epoch 282/512: 100%|████████████████████████████████████████████████████████████████████| 910/910 [00:44<00:00, 20.24it/s]\n"
     ]
    },
    {
     "name": "stdout",
     "output_type": "stream",
     "text": [
      "Epoch 282/512: \n",
      "Train Loss = 0.23659, Train MSE = 0.52297, Train MAE = 0.55488, Train Acc = 0.84911\n",
      "Val Loss = 0.27208, Val MSE = 0.62043, Val MAE = 0.59993, Val Acc = 0.82114\n"
     ]
    },
    {
     "name": "stderr",
     "output_type": "stream",
     "text": [
      "Epoch 283/512: 100%|████████████████████████████████████████████████████████████████████| 910/910 [00:44<00:00, 20.25it/s]\n"
     ]
    },
    {
     "name": "stdout",
     "output_type": "stream",
     "text": [
      "Epoch 283/512: \n",
      "Train Loss = 0.23544, Train MSE = 0.52080, Train MAE = 0.55255, Train Acc = 0.85298\n",
      "Val Loss = 0.27164, Val MSE = 0.62209, Val MAE = 0.59723, Val Acc = 0.82362\n"
     ]
    },
    {
     "name": "stderr",
     "output_type": "stream",
     "text": [
      "Epoch 284/512: 100%|████████████████████████████████████████████████████████████████████| 910/910 [00:45<00:00, 20.21it/s]\n"
     ]
    },
    {
     "name": "stdout",
     "output_type": "stream",
     "text": [
      "Epoch 284/512: \n",
      "Train Loss = 0.23778, Train MSE = 0.52699, Train MAE = 0.55607, Train Acc = 0.85026\n",
      "Val Loss = 0.26782, Val MSE = 0.60943, Val MAE = 0.59210, Val Acc = 0.82692\n"
     ]
    },
    {
     "name": "stderr",
     "output_type": "stream",
     "text": [
      "Epoch 285/512: 100%|████████████████████████████████████████████████████████████████████| 910/910 [00:44<00:00, 20.23it/s]\n"
     ]
    },
    {
     "name": "stdout",
     "output_type": "stream",
     "text": [
      "Epoch 285/512: \n",
      "Train Loss = 0.23765, Train MSE = 0.52599, Train MAE = 0.55625, Train Acc = 0.84961\n",
      "Val Loss = 0.26316, Val MSE = 0.59830, Val MAE = 0.58583, Val Acc = 0.83338\n"
     ]
    },
    {
     "name": "stderr",
     "output_type": "stream",
     "text": [
      "Epoch 286/512: 100%|████████████████████████████████████████████████████████████████████| 910/910 [00:45<00:00, 20.17it/s]\n"
     ]
    },
    {
     "name": "stdout",
     "output_type": "stream",
     "text": [
      "Epoch 286/512: \n",
      "Train Loss = 0.23591, Train MSE = 0.52067, Train MAE = 0.55334, Train Acc = 0.84928\n",
      "Val Loss = 0.26620, Val MSE = 0.60577, Val MAE = 0.59004, Val Acc = 0.82843\n"
     ]
    },
    {
     "name": "stderr",
     "output_type": "stream",
     "text": [
      "Epoch 287/512: 100%|████████████████████████████████████████████████████████████████████| 910/910 [00:44<00:00, 20.24it/s]\n"
     ]
    },
    {
     "name": "stdout",
     "output_type": "stream",
     "text": [
      "Epoch 287/512: \n",
      "Train Loss = 0.23632, Train MSE = 0.52237, Train MAE = 0.55477, Train Acc = 0.85052\n",
      "Val Loss = 0.26949, Val MSE = 0.61212, Val MAE = 0.59688, Val Acc = 0.82431\n"
     ]
    },
    {
     "name": "stderr",
     "output_type": "stream",
     "text": [
      "Epoch 288/512: 100%|████████████████████████████████████████████████████████████████████| 910/910 [00:45<00:00, 20.20it/s]\n"
     ]
    },
    {
     "name": "stdout",
     "output_type": "stream",
     "text": [
      "Epoch 288/512: \n",
      "Train Loss = 0.23448, Train MSE = 0.51762, Train MAE = 0.55127, Train Acc = 0.85088\n",
      "Val Loss = 0.27454, Val MSE = 0.62747, Val MAE = 0.60162, Val Acc = 0.82004\n"
     ]
    },
    {
     "name": "stderr",
     "output_type": "stream",
     "text": [
      "Epoch 289/512: 100%|████████████████████████████████████████████████████████████████████| 910/910 [00:45<00:00, 20.20it/s]\n"
     ]
    },
    {
     "name": "stdout",
     "output_type": "stream",
     "text": [
      "Epoch 289/512: \n",
      "Train Loss = 0.23579, Train MSE = 0.52159, Train MAE = 0.55307, Train Acc = 0.85133\n",
      "Val Loss = 0.27157, Val MSE = 0.62004, Val MAE = 0.59747, Val Acc = 0.82211\n"
     ]
    },
    {
     "name": "stderr",
     "output_type": "stream",
     "text": [
      "Epoch 290/512: 100%|████████████████████████████████████████████████████████████████████| 910/910 [00:44<00:00, 20.31it/s]\n"
     ]
    },
    {
     "name": "stdout",
     "output_type": "stream",
     "text": [
      "Epoch 290/512: \n",
      "Train Loss = 0.23513, Train MSE = 0.52006, Train MAE = 0.55272, Train Acc = 0.85087\n",
      "Val Loss = 0.27289, Val MSE = 0.62245, Val MAE = 0.59991, Val Acc = 0.82087\n"
     ]
    },
    {
     "name": "stderr",
     "output_type": "stream",
     "text": [
      "Epoch 291/512: 100%|████████████████████████████████████████████████████████████████████| 910/910 [00:44<00:00, 20.33it/s]\n"
     ]
    },
    {
     "name": "stdout",
     "output_type": "stream",
     "text": [
      "Epoch 291/512: \n",
      "Train Loss = 0.23665, Train MSE = 0.52334, Train MAE = 0.55489, Train Acc = 0.84872\n",
      "Val Loss = 0.27248, Val MSE = 0.62292, Val MAE = 0.59874, Val Acc = 0.82403\n"
     ]
    },
    {
     "name": "stderr",
     "output_type": "stream",
     "text": [
      "Epoch 292/512: 100%|████████████████████████████████████████████████████████████████████| 910/910 [00:44<00:00, 20.29it/s]\n"
     ]
    },
    {
     "name": "stdout",
     "output_type": "stream",
     "text": [
      "Epoch 292/512: \n",
      "Train Loss = 0.23408, Train MSE = 0.51621, Train MAE = 0.55172, Train Acc = 0.85212\n",
      "Val Loss = 0.26417, Val MSE = 0.59950, Val MAE = 0.58886, Val Acc = 0.83228\n"
     ]
    },
    {
     "name": "stderr",
     "output_type": "stream",
     "text": [
      "Epoch 293/512: 100%|████████████████████████████████████████████████████████████████████| 910/910 [00:45<00:00, 20.20it/s]\n"
     ]
    },
    {
     "name": "stdout",
     "output_type": "stream",
     "text": [
      "Epoch 293/512: \n",
      "Train Loss = 0.23443, Train MSE = 0.51757, Train MAE = 0.55170, Train Acc = 0.85148\n",
      "Val Loss = 0.26692, Val MSE = 0.60846, Val MAE = 0.58969, Val Acc = 0.82706\n"
     ]
    },
    {
     "name": "stderr",
     "output_type": "stream",
     "text": [
      "Epoch 294/512: 100%|████████████████████████████████████████████████████████████████████| 910/910 [00:44<00:00, 20.25it/s]\n"
     ]
    },
    {
     "name": "stdout",
     "output_type": "stream",
     "text": [
      "Epoch 294/512: \n",
      "Train Loss = 0.23492, Train MSE = 0.51857, Train MAE = 0.55250, Train Acc = 0.85052\n",
      "Val Loss = 0.27588, Val MSE = 0.63363, Val MAE = 0.60012, Val Acc = 0.81936\n"
     ]
    },
    {
     "name": "stderr",
     "output_type": "stream",
     "text": [
      "Epoch 295/512: 100%|████████████████████████████████████████████████████████████████████| 910/910 [00:45<00:00, 20.21it/s]\n"
     ]
    },
    {
     "name": "stdout",
     "output_type": "stream",
     "text": [
      "Epoch 295/512: \n",
      "Train Loss = 0.23535, Train MSE = 0.52015, Train MAE = 0.55311, Train Acc = 0.85023\n",
      "Val Loss = 0.26826, Val MSE = 0.61156, Val MAE = 0.59320, Val Acc = 0.82513\n"
     ]
    },
    {
     "name": "stderr",
     "output_type": "stream",
     "text": [
      "Epoch 296/512: 100%|████████████████████████████████████████████████████████████████████| 910/910 [00:44<00:00, 20.25it/s]\n"
     ]
    },
    {
     "name": "stdout",
     "output_type": "stream",
     "text": [
      "Epoch 296/512: \n",
      "Train Loss = 0.23462, Train MSE = 0.51846, Train MAE = 0.55219, Train Acc = 0.85310\n",
      "Val Loss = 0.27483, Val MSE = 0.62877, Val MAE = 0.60224, Val Acc = 0.82101\n"
     ]
    },
    {
     "name": "stderr",
     "output_type": "stream",
     "text": [
      "Epoch 297/512: 100%|████████████████████████████████████████████████████████████████████| 910/910 [00:44<00:00, 20.26it/s]\n"
     ]
    },
    {
     "name": "stdout",
     "output_type": "stream",
     "text": [
      "Epoch 297/512: \n",
      "Train Loss = 0.23464, Train MSE = 0.51795, Train MAE = 0.55196, Train Acc = 0.85006\n",
      "Val Loss = 0.27420, Val MSE = 0.62957, Val MAE = 0.60023, Val Acc = 0.82348\n"
     ]
    },
    {
     "name": "stderr",
     "output_type": "stream",
     "text": [
      "Epoch 298/512: 100%|████████████████████████████████████████████████████████████████████| 910/910 [00:44<00:00, 20.25it/s]\n"
     ]
    },
    {
     "name": "stdout",
     "output_type": "stream",
     "text": [
      "Epoch 298/512: \n",
      "Train Loss = 0.23424, Train MSE = 0.51756, Train MAE = 0.55147, Train Acc = 0.85360\n",
      "Val Loss = 0.26854, Val MSE = 0.61464, Val MAE = 0.59350, Val Acc = 0.82802\n"
     ]
    },
    {
     "name": "stderr",
     "output_type": "stream",
     "text": [
      "Epoch 299/512: 100%|████████████████████████████████████████████████████████████████████| 910/910 [00:45<00:00, 20.21it/s]\n"
     ]
    },
    {
     "name": "stdout",
     "output_type": "stream",
     "text": [
      "Epoch 299/512: \n",
      "Train Loss = 0.23562, Train MSE = 0.52108, Train MAE = 0.55348, Train Acc = 0.85233\n",
      "Val Loss = 0.26601, Val MSE = 0.60654, Val MAE = 0.59148, Val Acc = 0.83187\n"
     ]
    },
    {
     "name": "stderr",
     "output_type": "stream",
     "text": [
      "Epoch 300/512: 100%|████████████████████████████████████████████████████████████████████| 910/910 [00:44<00:00, 20.27it/s]\n"
     ]
    },
    {
     "name": "stdout",
     "output_type": "stream",
     "text": [
      "Epoch 300/512: \n",
      "Train Loss = 0.23520, Train MSE = 0.51951, Train MAE = 0.55270, Train Acc = 0.85020\n",
      "Val Loss = 0.27194, Val MSE = 0.62191, Val MAE = 0.59822, Val Acc = 0.82472\n"
     ]
    },
    {
     "name": "stderr",
     "output_type": "stream",
     "text": [
      "Epoch 301/512: 100%|████████████████████████████████████████████████████████████████████| 910/910 [00:44<00:00, 20.27it/s]\n"
     ]
    },
    {
     "name": "stdout",
     "output_type": "stream",
     "text": [
      "Epoch 301/512: \n",
      "Train Loss = 0.23491, Train MSE = 0.51913, Train MAE = 0.55141, Train Acc = 0.85014\n",
      "Val Loss = 0.27192, Val MSE = 0.62345, Val MAE = 0.59527, Val Acc = 0.82211\n"
     ]
    },
    {
     "name": "stderr",
     "output_type": "stream",
     "text": [
      "Epoch 302/512: 100%|████████████████████████████████████████████████████████████████████| 910/910 [00:44<00:00, 20.30it/s]\n"
     ]
    },
    {
     "name": "stdout",
     "output_type": "stream",
     "text": [
      "Epoch 302/512: \n",
      "Train Loss = 0.23378, Train MSE = 0.51648, Train MAE = 0.55107, Train Acc = 0.85339\n",
      "Val Loss = 0.26591, Val MSE = 0.60471, Val MAE = 0.58982, Val Acc = 0.82871\n"
     ]
    },
    {
     "name": "stderr",
     "output_type": "stream",
     "text": [
      "Epoch 303/512: 100%|████████████████████████████████████████████████████████████████████| 910/910 [00:45<00:00, 20.21it/s]\n"
     ]
    },
    {
     "name": "stdout",
     "output_type": "stream",
     "text": [
      "Epoch 303/512: \n",
      "Train Loss = 0.23281, Train MSE = 0.51333, Train MAE = 0.54999, Train Acc = 0.85377\n",
      "Val Loss = 0.26867, Val MSE = 0.61316, Val MAE = 0.59213, Val Acc = 0.82719\n"
     ]
    },
    {
     "name": "stderr",
     "output_type": "stream",
     "text": [
      "Epoch 304/512: 100%|████████████████████████████████████████████████████████████████████| 910/910 [00:44<00:00, 20.24it/s]\n"
     ]
    },
    {
     "name": "stdout",
     "output_type": "stream",
     "text": [
      "Epoch 304/512: \n",
      "Train Loss = 0.23400, Train MSE = 0.51738, Train MAE = 0.55112, Train Acc = 0.85253\n",
      "Val Loss = 0.27081, Val MSE = 0.61860, Val MAE = 0.59781, Val Acc = 0.82554\n"
     ]
    },
    {
     "name": "stderr",
     "output_type": "stream",
     "text": [
      "Epoch 305/512: 100%|████████████████████████████████████████████████████████████████████| 910/910 [00:45<00:00, 20.18it/s]\n"
     ]
    },
    {
     "name": "stdout",
     "output_type": "stream",
     "text": [
      "Epoch 305/512: \n",
      "Train Loss = 0.23326, Train MSE = 0.51541, Train MAE = 0.55044, Train Acc = 0.85351\n",
      "Val Loss = 0.27046, Val MSE = 0.61905, Val MAE = 0.59522, Val Acc = 0.82706\n"
     ]
    },
    {
     "name": "stderr",
     "output_type": "stream",
     "text": [
      "Epoch 306/512: 100%|████████████████████████████████████████████████████████████████████| 910/910 [00:44<00:00, 20.30it/s]\n"
     ]
    },
    {
     "name": "stdout",
     "output_type": "stream",
     "text": [
      "Epoch 306/512: \n",
      "Train Loss = 0.23308, Train MSE = 0.51525, Train MAE = 0.54909, Train Acc = 0.85392\n",
      "Val Loss = 0.26861, Val MSE = 0.61354, Val MAE = 0.59374, Val Acc = 0.82857\n"
     ]
    },
    {
     "name": "stderr",
     "output_type": "stream",
     "text": [
      "Epoch 307/512: 100%|████████████████████████████████████████████████████████████████████| 910/910 [00:44<00:00, 20.28it/s]\n"
     ]
    },
    {
     "name": "stdout",
     "output_type": "stream",
     "text": [
      "Epoch 307/512: \n",
      "Train Loss = 0.23337, Train MSE = 0.51543, Train MAE = 0.55102, Train Acc = 0.85411\n",
      "Val Loss = 0.27142, Val MSE = 0.61879, Val MAE = 0.59856, Val Acc = 0.82417\n"
     ]
    },
    {
     "name": "stderr",
     "output_type": "stream",
     "text": [
      "Epoch 308/512: 100%|████████████████████████████████████████████████████████████████████| 910/910 [00:44<00:00, 20.28it/s]\n"
     ]
    },
    {
     "name": "stdout",
     "output_type": "stream",
     "text": [
      "Epoch 308/512: \n",
      "Train Loss = 0.23330, Train MSE = 0.51501, Train MAE = 0.54997, Train Acc = 0.85200\n",
      "Val Loss = 0.26911, Val MSE = 0.61398, Val MAE = 0.59428, Val Acc = 0.82596\n"
     ]
    },
    {
     "name": "stderr",
     "output_type": "stream",
     "text": [
      "Epoch 309/512: 100%|████████████████████████████████████████████████████████████████████| 910/910 [00:45<00:00, 20.22it/s]\n"
     ]
    },
    {
     "name": "stdout",
     "output_type": "stream",
     "text": [
      "Epoch 309/512: \n",
      "Train Loss = 0.23370, Train MSE = 0.51589, Train MAE = 0.55056, Train Acc = 0.85181\n",
      "Val Loss = 0.27272, Val MSE = 0.62349, Val MAE = 0.59811, Val Acc = 0.81881\n"
     ]
    },
    {
     "name": "stderr",
     "output_type": "stream",
     "text": [
      "Epoch 310/512: 100%|████████████████████████████████████████████████████████████████████| 910/910 [00:44<00:00, 20.30it/s]\n"
     ]
    },
    {
     "name": "stdout",
     "output_type": "stream",
     "text": [
      "Epoch 310/512: \n",
      "Train Loss = 0.23297, Train MSE = 0.51367, Train MAE = 0.54942, Train Acc = 0.85210\n",
      "Val Loss = 0.26650, Val MSE = 0.60728, Val MAE = 0.58946, Val Acc = 0.82596\n"
     ]
    },
    {
     "name": "stderr",
     "output_type": "stream",
     "text": [
      "Epoch 311/512: 100%|████████████████████████████████████████████████████████████████████| 910/910 [00:45<00:00, 20.18it/s]\n"
     ]
    },
    {
     "name": "stdout",
     "output_type": "stream",
     "text": [
      "Epoch 311/512: \n",
      "Train Loss = 0.23340, Train MSE = 0.51597, Train MAE = 0.54976, Train Acc = 0.85392\n",
      "Val Loss = 0.27167, Val MSE = 0.61890, Val MAE = 0.59836, Val Acc = 0.82252\n"
     ]
    },
    {
     "name": "stderr",
     "output_type": "stream",
     "text": [
      "Epoch 312/512: 100%|████████████████████████████████████████████████████████████████████| 910/910 [00:44<00:00, 20.33it/s]\n"
     ]
    },
    {
     "name": "stdout",
     "output_type": "stream",
     "text": [
      "Epoch 312/512: \n",
      "Train Loss = 0.23348, Train MSE = 0.51571, Train MAE = 0.55081, Train Acc = 0.85319\n",
      "Val Loss = 0.27149, Val MSE = 0.61746, Val MAE = 0.59871, Val Acc = 0.82499\n"
     ]
    },
    {
     "name": "stderr",
     "output_type": "stream",
     "text": [
      "Epoch 313/512: 100%|████████████████████████████████████████████████████████████████████| 910/910 [00:44<00:00, 20.23it/s]\n"
     ]
    },
    {
     "name": "stdout",
     "output_type": "stream",
     "text": [
      "Epoch 313/512: \n",
      "Train Loss = 0.23239, Train MSE = 0.51286, Train MAE = 0.54899, Train Acc = 0.85276\n",
      "Val Loss = 0.26454, Val MSE = 0.60256, Val MAE = 0.58755, Val Acc = 0.83049\n"
     ]
    },
    {
     "name": "stderr",
     "output_type": "stream",
     "text": [
      "Epoch 314/512: 100%|████████████████████████████████████████████████████████████████████| 910/910 [00:44<00:00, 20.26it/s]\n"
     ]
    },
    {
     "name": "stdout",
     "output_type": "stream",
     "text": [
      "Epoch 314/512: \n",
      "Train Loss = 0.23319, Train MSE = 0.51464, Train MAE = 0.54999, Train Acc = 0.85253\n",
      "Val Loss = 0.27003, Val MSE = 0.61733, Val MAE = 0.59334, Val Acc = 0.82692\n"
     ]
    },
    {
     "name": "stderr",
     "output_type": "stream",
     "text": [
      "Epoch 315/512: 100%|████████████████████████████████████████████████████████████████████| 910/910 [00:44<00:00, 20.37it/s]\n"
     ]
    },
    {
     "name": "stdout",
     "output_type": "stream",
     "text": [
      "Epoch 315/512: \n",
      "Train Loss = 0.23306, Train MSE = 0.51457, Train MAE = 0.55006, Train Acc = 0.85322\n",
      "Val Loss = 0.27616, Val MSE = 0.63367, Val MAE = 0.60170, Val Acc = 0.81936\n"
     ]
    },
    {
     "name": "stderr",
     "output_type": "stream",
     "text": [
      "Epoch 316/512: 100%|████████████████████████████████████████████████████████████████████| 910/910 [00:45<00:00, 20.22it/s]\n"
     ]
    },
    {
     "name": "stdout",
     "output_type": "stream",
     "text": [
      "Epoch 316/512: \n",
      "Train Loss = 0.23286, Train MSE = 0.51389, Train MAE = 0.54914, Train Acc = 0.85367\n",
      "Val Loss = 0.27685, Val MSE = 0.63216, Val MAE = 0.60430, Val Acc = 0.82101\n"
     ]
    },
    {
     "name": "stderr",
     "output_type": "stream",
     "text": [
      "Epoch 317/512: 100%|████████████████████████████████████████████████████████████████████| 910/910 [00:45<00:00, 20.13it/s]\n"
     ]
    },
    {
     "name": "stdout",
     "output_type": "stream",
     "text": [
      "Epoch 317/512: \n",
      "Train Loss = 0.23185, Train MSE = 0.51127, Train MAE = 0.54838, Train Acc = 0.85468\n",
      "Val Loss = 0.27208, Val MSE = 0.62304, Val MAE = 0.59619, Val Acc = 0.82362\n"
     ]
    },
    {
     "name": "stderr",
     "output_type": "stream",
     "text": [
      "Epoch 318/512: 100%|████████████████████████████████████████████████████████████████████| 910/910 [00:45<00:00, 19.89it/s]\n"
     ]
    },
    {
     "name": "stdout",
     "output_type": "stream",
     "text": [
      "Epoch 318/512: \n",
      "Train Loss = 0.23268, Train MSE = 0.51330, Train MAE = 0.54865, Train Acc = 0.85236\n",
      "Val Loss = 0.26691, Val MSE = 0.60648, Val MAE = 0.59200, Val Acc = 0.82692\n"
     ]
    },
    {
     "name": "stderr",
     "output_type": "stream",
     "text": [
      "Epoch 319/512: 100%|████████████████████████████████████████████████████████████████████| 910/910 [00:45<00:00, 19.89it/s]\n"
     ]
    },
    {
     "name": "stdout",
     "output_type": "stream",
     "text": [
      "Epoch 319/512: \n",
      "Train Loss = 0.23371, Train MSE = 0.51635, Train MAE = 0.55078, Train Acc = 0.85284\n",
      "Val Loss = 0.26942, Val MSE = 0.61538, Val MAE = 0.59369, Val Acc = 0.82444\n"
     ]
    },
    {
     "name": "stderr",
     "output_type": "stream",
     "text": [
      "Epoch 320/512: 100%|████████████████████████████████████████████████████████████████████| 910/910 [00:45<00:00, 20.03it/s]\n"
     ]
    },
    {
     "name": "stdout",
     "output_type": "stream",
     "text": [
      "Epoch 320/512: \n",
      "Train Loss = 0.23248, Train MSE = 0.51280, Train MAE = 0.54934, Train Acc = 0.85317\n",
      "Val Loss = 0.27583, Val MSE = 0.63189, Val MAE = 0.60266, Val Acc = 0.81771\n"
     ]
    },
    {
     "name": "stderr",
     "output_type": "stream",
     "text": [
      "Epoch 321/512: 100%|████████████████████████████████████████████████████████████████████| 910/910 [00:45<00:00, 19.97it/s]\n"
     ]
    },
    {
     "name": "stdout",
     "output_type": "stream",
     "text": [
      "Epoch 321/512: \n",
      "Train Loss = 0.23220, Train MSE = 0.51331, Train MAE = 0.54797, Train Acc = 0.85332\n",
      "Val Loss = 0.27790, Val MSE = 0.63556, Val MAE = 0.60636, Val Acc = 0.81729\n"
     ]
    },
    {
     "name": "stderr",
     "output_type": "stream",
     "text": [
      "Epoch 322/512: 100%|████████████████████████████████████████████████████████████████████| 910/910 [00:45<00:00, 19.93it/s]\n"
     ]
    },
    {
     "name": "stdout",
     "output_type": "stream",
     "text": [
      "Epoch 322/512: \n",
      "Train Loss = 0.23149, Train MSE = 0.51152, Train MAE = 0.54681, Train Acc = 0.85539\n",
      "Val Loss = 0.27033, Val MSE = 0.61550, Val MAE = 0.59726, Val Acc = 0.82334\n"
     ]
    },
    {
     "name": "stderr",
     "output_type": "stream",
     "text": [
      "Epoch 323/512: 100%|████████████████████████████████████████████████████████████████████| 910/910 [00:45<00:00, 20.00it/s]\n"
     ]
    },
    {
     "name": "stdout",
     "output_type": "stream",
     "text": [
      "Epoch 323/512: \n",
      "Train Loss = 0.23132, Train MSE = 0.51040, Train MAE = 0.54693, Train Acc = 0.85459\n",
      "Val Loss = 0.27264, Val MSE = 0.62450, Val MAE = 0.59795, Val Acc = 0.82472\n"
     ]
    },
    {
     "name": "stderr",
     "output_type": "stream",
     "text": [
      "Epoch 324/512: 100%|████████████████████████████████████████████████████████████████████| 910/910 [00:45<00:00, 19.98it/s]\n"
     ]
    },
    {
     "name": "stdout",
     "output_type": "stream",
     "text": [
      "Epoch 324/512: \n",
      "Train Loss = 0.23259, Train MSE = 0.51238, Train MAE = 0.54895, Train Acc = 0.85229\n",
      "Val Loss = 0.26448, Val MSE = 0.60118, Val MAE = 0.58772, Val Acc = 0.82541\n"
     ]
    },
    {
     "name": "stderr",
     "output_type": "stream",
     "text": [
      "Epoch 325/512: 100%|████████████████████████████████████████████████████████████████████| 910/910 [00:45<00:00, 20.14it/s]\n"
     ]
    },
    {
     "name": "stdout",
     "output_type": "stream",
     "text": [
      "Epoch 325/512: \n",
      "Train Loss = 0.23231, Train MSE = 0.51220, Train MAE = 0.54874, Train Acc = 0.85425\n",
      "Val Loss = 0.27237, Val MSE = 0.62302, Val MAE = 0.59762, Val Acc = 0.82059\n"
     ]
    },
    {
     "name": "stderr",
     "output_type": "stream",
     "text": [
      "Epoch 326/512: 100%|████████████████████████████████████████████████████████████████████| 910/910 [00:45<00:00, 20.00it/s]\n"
     ]
    },
    {
     "name": "stdout",
     "output_type": "stream",
     "text": [
      "Epoch 326/512: \n",
      "Train Loss = 0.23093, Train MSE = 0.50911, Train MAE = 0.54661, Train Acc = 0.85501\n",
      "Val Loss = 0.26760, Val MSE = 0.61207, Val MAE = 0.59032, Val Acc = 0.82664\n"
     ]
    },
    {
     "name": "stderr",
     "output_type": "stream",
     "text": [
      "Epoch 327/512: 100%|████████████████████████████████████████████████████████████████████| 910/910 [00:45<00:00, 19.98it/s]\n"
     ]
    },
    {
     "name": "stdout",
     "output_type": "stream",
     "text": [
      "Epoch 327/512: \n",
      "Train Loss = 0.23165, Train MSE = 0.51088, Train MAE = 0.54761, Train Acc = 0.85355\n",
      "Val Loss = 0.26927, Val MSE = 0.61490, Val MAE = 0.59426, Val Acc = 0.82431\n"
     ]
    },
    {
     "ename": "TypeError",
     "evalue": "can't convert cuda:1 device type tensor to numpy. Use Tensor.cpu() to copy the tensor to host memory first.",
     "output_type": "error",
     "traceback": [
      "\u001b[0;31m---------------------------------------------------------------------------\u001b[0m",
      "\u001b[0;31mTypeError\u001b[0m                                 Traceback (most recent call last)",
      "Cell \u001b[0;32mIn[5], line 4\u001b[0m\n\u001b[1;32m      1\u001b[0m \u001b[38;5;28;01mimport\u001b[39;00m \u001b[38;5;21;01margparse\u001b[39;00m\n\u001b[1;32m      3\u001b[0m training_args \u001b[38;5;241m=\u001b[39m argparse\u001b[38;5;241m.\u001b[39mNamespace(\u001b[38;5;241m*\u001b[39m\u001b[38;5;241m*\u001b[39margs)\n\u001b[0;32m----> 4\u001b[0m train_model(training_args, device)\n",
      "File \u001b[0;32m~/gat-cd4c/src/train.py:113\u001b[0m, in \u001b[0;36mtrain_model\u001b[0;34m(args, m_device)\u001b[0m\n\u001b[1;32m    110\u001b[0m         \u001b[38;5;28;01mif\u001b[39;00m no_validation_loss_improvement \u001b[38;5;241m==\u001b[39m args\u001b[38;5;241m.\u001b[39mstoppage_epochs:\n\u001b[1;32m    111\u001b[0m             \u001b[38;5;28;01mbreak\u001b[39;00m\n\u001b[0;32m--> 113\u001b[0m plot_loss_curves(metrics_df)\n",
      "File \u001b[0;32m~/gat-cd4c/src/utils/helper_functions.py:156\u001b[0m, in \u001b[0;36mplot_loss_curves\u001b[0;34m(results)\u001b[0m\n\u001b[1;32m    154\u001b[0m \u001b[38;5;66;03m# Plot accuracy\u001b[39;00m\n\u001b[1;32m    155\u001b[0m plt\u001b[38;5;241m.\u001b[39msubplot(\u001b[38;5;241m1\u001b[39m, \u001b[38;5;241m2\u001b[39m, \u001b[38;5;241m2\u001b[39m)\n\u001b[0;32m--> 156\u001b[0m plt\u001b[38;5;241m.\u001b[39mplot(epochs, accuracy, label\u001b[38;5;241m=\u001b[39m\u001b[38;5;124m\"\u001b[39m\u001b[38;5;124mtrain_accuracy\u001b[39m\u001b[38;5;124m\"\u001b[39m)\n\u001b[1;32m    157\u001b[0m plt\u001b[38;5;241m.\u001b[39mplot(epochs, validation_accuracy, label\u001b[38;5;241m=\u001b[39m\u001b[38;5;124m\"\u001b[39m\u001b[38;5;124mvalidation_accuracy\u001b[39m\u001b[38;5;124m\"\u001b[39m)\n\u001b[1;32m    158\u001b[0m plt\u001b[38;5;241m.\u001b[39mtitle(\u001b[38;5;124m\"\u001b[39m\u001b[38;5;124mAccuracy\u001b[39m\u001b[38;5;124m\"\u001b[39m)\n",
      "File \u001b[0;32m/scratch/local3/2024/aguo/miniconda3/lib/python3.12/site-packages/matplotlib/pyplot.py:3827\u001b[0m, in \u001b[0;36mplot\u001b[0;34m(scalex, scaley, data, *args, **kwargs)\u001b[0m\n\u001b[1;32m   3819\u001b[0m \u001b[38;5;129m@_copy_docstring_and_deprecators\u001b[39m(Axes\u001b[38;5;241m.\u001b[39mplot)\n\u001b[1;32m   3820\u001b[0m \u001b[38;5;28;01mdef\u001b[39;00m \u001b[38;5;21mplot\u001b[39m(\n\u001b[1;32m   3821\u001b[0m     \u001b[38;5;241m*\u001b[39margs: \u001b[38;5;28mfloat\u001b[39m \u001b[38;5;241m|\u001b[39m ArrayLike \u001b[38;5;241m|\u001b[39m \u001b[38;5;28mstr\u001b[39m,\n\u001b[0;32m   (...)\u001b[0m\n\u001b[1;32m   3825\u001b[0m     \u001b[38;5;241m*\u001b[39m\u001b[38;5;241m*\u001b[39mkwargs,\n\u001b[1;32m   3826\u001b[0m ) \u001b[38;5;241m-\u001b[39m\u001b[38;5;241m>\u001b[39m \u001b[38;5;28mlist\u001b[39m[Line2D]:\n\u001b[0;32m-> 3827\u001b[0m     \u001b[38;5;28;01mreturn\u001b[39;00m gca()\u001b[38;5;241m.\u001b[39mplot(\n\u001b[1;32m   3828\u001b[0m         \u001b[38;5;241m*\u001b[39margs,\n\u001b[1;32m   3829\u001b[0m         scalex\u001b[38;5;241m=\u001b[39mscalex,\n\u001b[1;32m   3830\u001b[0m         scaley\u001b[38;5;241m=\u001b[39mscaley,\n\u001b[1;32m   3831\u001b[0m         \u001b[38;5;241m*\u001b[39m\u001b[38;5;241m*\u001b[39m({\u001b[38;5;124m\"\u001b[39m\u001b[38;5;124mdata\u001b[39m\u001b[38;5;124m\"\u001b[39m: data} \u001b[38;5;28;01mif\u001b[39;00m data \u001b[38;5;129;01mis\u001b[39;00m \u001b[38;5;129;01mnot\u001b[39;00m \u001b[38;5;28;01mNone\u001b[39;00m \u001b[38;5;28;01melse\u001b[39;00m {}),\n\u001b[1;32m   3832\u001b[0m         \u001b[38;5;241m*\u001b[39m\u001b[38;5;241m*\u001b[39mkwargs,\n\u001b[1;32m   3833\u001b[0m     )\n",
      "File \u001b[0;32m/scratch/local3/2024/aguo/miniconda3/lib/python3.12/site-packages/matplotlib/axes/_axes.py:1777\u001b[0m, in \u001b[0;36mAxes.plot\u001b[0;34m(self, scalex, scaley, data, *args, **kwargs)\u001b[0m\n\u001b[1;32m   1534\u001b[0m \u001b[38;5;250m\u001b[39m\u001b[38;5;124;03m\"\"\"\u001b[39;00m\n\u001b[1;32m   1535\u001b[0m \u001b[38;5;124;03mPlot y versus x as lines and/or markers.\u001b[39;00m\n\u001b[1;32m   1536\u001b[0m \n\u001b[0;32m   (...)\u001b[0m\n\u001b[1;32m   1774\u001b[0m \u001b[38;5;124;03m(``'green'``) or hex strings (``'#008000'``).\u001b[39;00m\n\u001b[1;32m   1775\u001b[0m \u001b[38;5;124;03m\"\"\"\u001b[39;00m\n\u001b[1;32m   1776\u001b[0m kwargs \u001b[38;5;241m=\u001b[39m cbook\u001b[38;5;241m.\u001b[39mnormalize_kwargs(kwargs, mlines\u001b[38;5;241m.\u001b[39mLine2D)\n\u001b[0;32m-> 1777\u001b[0m lines \u001b[38;5;241m=\u001b[39m [\u001b[38;5;241m*\u001b[39m\u001b[38;5;28mself\u001b[39m\u001b[38;5;241m.\u001b[39m_get_lines(\u001b[38;5;28mself\u001b[39m, \u001b[38;5;241m*\u001b[39margs, data\u001b[38;5;241m=\u001b[39mdata, \u001b[38;5;241m*\u001b[39m\u001b[38;5;241m*\u001b[39mkwargs)]\n\u001b[1;32m   1778\u001b[0m \u001b[38;5;28;01mfor\u001b[39;00m line \u001b[38;5;129;01min\u001b[39;00m lines:\n\u001b[1;32m   1779\u001b[0m     \u001b[38;5;28mself\u001b[39m\u001b[38;5;241m.\u001b[39madd_line(line)\n",
      "File \u001b[0;32m/scratch/local3/2024/aguo/miniconda3/lib/python3.12/site-packages/matplotlib/axes/_base.py:297\u001b[0m, in \u001b[0;36m_process_plot_var_args.__call__\u001b[0;34m(self, axes, data, return_kwargs, *args, **kwargs)\u001b[0m\n\u001b[1;32m    295\u001b[0m     this \u001b[38;5;241m+\u001b[39m\u001b[38;5;241m=\u001b[39m args[\u001b[38;5;241m0\u001b[39m],\n\u001b[1;32m    296\u001b[0m     args \u001b[38;5;241m=\u001b[39m args[\u001b[38;5;241m1\u001b[39m:]\n\u001b[0;32m--> 297\u001b[0m \u001b[38;5;28;01myield from\u001b[39;00m \u001b[38;5;28mself\u001b[39m\u001b[38;5;241m.\u001b[39m_plot_args(\n\u001b[1;32m    298\u001b[0m     axes, this, kwargs, ambiguous_fmt_datakey\u001b[38;5;241m=\u001b[39mambiguous_fmt_datakey,\n\u001b[1;32m    299\u001b[0m     return_kwargs\u001b[38;5;241m=\u001b[39mreturn_kwargs\n\u001b[1;32m    300\u001b[0m )\n",
      "File \u001b[0;32m/scratch/local3/2024/aguo/miniconda3/lib/python3.12/site-packages/matplotlib/axes/_base.py:484\u001b[0m, in \u001b[0;36m_process_plot_var_args._plot_args\u001b[0;34m(self, axes, tup, kwargs, return_kwargs, ambiguous_fmt_datakey)\u001b[0m\n\u001b[1;32m    482\u001b[0m \u001b[38;5;28;01mif\u001b[39;00m \u001b[38;5;28mlen\u001b[39m(xy) \u001b[38;5;241m==\u001b[39m \u001b[38;5;241m2\u001b[39m:\n\u001b[1;32m    483\u001b[0m     x \u001b[38;5;241m=\u001b[39m _check_1d(xy[\u001b[38;5;241m0\u001b[39m])\n\u001b[0;32m--> 484\u001b[0m     y \u001b[38;5;241m=\u001b[39m _check_1d(xy[\u001b[38;5;241m1\u001b[39m])\n\u001b[1;32m    485\u001b[0m \u001b[38;5;28;01melse\u001b[39;00m:\n\u001b[1;32m    486\u001b[0m     x, y \u001b[38;5;241m=\u001b[39m index_of(xy[\u001b[38;5;241m-\u001b[39m\u001b[38;5;241m1\u001b[39m])\n",
      "File \u001b[0;32m/scratch/local3/2024/aguo/miniconda3/lib/python3.12/site-packages/matplotlib/cbook.py:1368\u001b[0m, in \u001b[0;36m_check_1d\u001b[0;34m(x)\u001b[0m\n\u001b[1;32m   1362\u001b[0m \u001b[38;5;66;03m# plot requires `shape` and `ndim`.  If passed an\u001b[39;00m\n\u001b[1;32m   1363\u001b[0m \u001b[38;5;66;03m# object that doesn't provide them, then force to numpy array.\u001b[39;00m\n\u001b[1;32m   1364\u001b[0m \u001b[38;5;66;03m# Note this will strip unit information.\u001b[39;00m\n\u001b[1;32m   1365\u001b[0m \u001b[38;5;28;01mif\u001b[39;00m (\u001b[38;5;129;01mnot\u001b[39;00m \u001b[38;5;28mhasattr\u001b[39m(x, \u001b[38;5;124m'\u001b[39m\u001b[38;5;124mshape\u001b[39m\u001b[38;5;124m'\u001b[39m) \u001b[38;5;129;01mor\u001b[39;00m\n\u001b[1;32m   1366\u001b[0m         \u001b[38;5;129;01mnot\u001b[39;00m \u001b[38;5;28mhasattr\u001b[39m(x, \u001b[38;5;124m'\u001b[39m\u001b[38;5;124mndim\u001b[39m\u001b[38;5;124m'\u001b[39m) \u001b[38;5;129;01mor\u001b[39;00m\n\u001b[1;32m   1367\u001b[0m         \u001b[38;5;28mlen\u001b[39m(x\u001b[38;5;241m.\u001b[39mshape) \u001b[38;5;241m<\u001b[39m \u001b[38;5;241m1\u001b[39m):\n\u001b[0;32m-> 1368\u001b[0m     \u001b[38;5;28;01mreturn\u001b[39;00m np\u001b[38;5;241m.\u001b[39matleast_1d(x)\n\u001b[1;32m   1369\u001b[0m \u001b[38;5;28;01melse\u001b[39;00m:\n\u001b[1;32m   1370\u001b[0m     \u001b[38;5;28;01mreturn\u001b[39;00m x\n",
      "File \u001b[0;32m/scratch/local3/2024/aguo/miniconda3/lib/python3.12/site-packages/numpy/_core/shape_base.py:64\u001b[0m, in \u001b[0;36matleast_1d\u001b[0;34m(*arys)\u001b[0m\n\u001b[1;32m     24\u001b[0m \u001b[38;5;250m\u001b[39m\u001b[38;5;124;03m\"\"\"\u001b[39;00m\n\u001b[1;32m     25\u001b[0m \u001b[38;5;124;03mConvert inputs to arrays with at least one dimension.\u001b[39;00m\n\u001b[1;32m     26\u001b[0m \n\u001b[0;32m   (...)\u001b[0m\n\u001b[1;32m     61\u001b[0m \n\u001b[1;32m     62\u001b[0m \u001b[38;5;124;03m\"\"\"\u001b[39;00m\n\u001b[1;32m     63\u001b[0m \u001b[38;5;28;01mif\u001b[39;00m \u001b[38;5;28mlen\u001b[39m(arys) \u001b[38;5;241m==\u001b[39m \u001b[38;5;241m1\u001b[39m:\n\u001b[0;32m---> 64\u001b[0m     result \u001b[38;5;241m=\u001b[39m asanyarray(arys[\u001b[38;5;241m0\u001b[39m])\n\u001b[1;32m     65\u001b[0m     \u001b[38;5;28;01mif\u001b[39;00m result\u001b[38;5;241m.\u001b[39mndim \u001b[38;5;241m==\u001b[39m \u001b[38;5;241m0\u001b[39m:\n\u001b[1;32m     66\u001b[0m         result \u001b[38;5;241m=\u001b[39m result\u001b[38;5;241m.\u001b[39mreshape(\u001b[38;5;241m1\u001b[39m)\n",
      "File \u001b[0;32m/scratch/local3/2024/aguo/miniconda3/lib/python3.12/site-packages/torch/_tensor.py:1149\u001b[0m, in \u001b[0;36mTensor.__array__\u001b[0;34m(self, dtype)\u001b[0m\n\u001b[1;32m   1147\u001b[0m     \u001b[38;5;28;01mreturn\u001b[39;00m handle_torch_function(Tensor\u001b[38;5;241m.\u001b[39m__array__, (\u001b[38;5;28mself\u001b[39m,), \u001b[38;5;28mself\u001b[39m, dtype\u001b[38;5;241m=\u001b[39mdtype)\n\u001b[1;32m   1148\u001b[0m \u001b[38;5;28;01mif\u001b[39;00m dtype \u001b[38;5;129;01mis\u001b[39;00m \u001b[38;5;28;01mNone\u001b[39;00m:\n\u001b[0;32m-> 1149\u001b[0m     \u001b[38;5;28;01mreturn\u001b[39;00m \u001b[38;5;28mself\u001b[39m\u001b[38;5;241m.\u001b[39mnumpy()\n\u001b[1;32m   1150\u001b[0m \u001b[38;5;28;01melse\u001b[39;00m:\n\u001b[1;32m   1151\u001b[0m     \u001b[38;5;28;01mreturn\u001b[39;00m \u001b[38;5;28mself\u001b[39m\u001b[38;5;241m.\u001b[39mnumpy()\u001b[38;5;241m.\u001b[39mastype(dtype, copy\u001b[38;5;241m=\u001b[39m\u001b[38;5;28;01mFalse\u001b[39;00m)\n",
      "\u001b[0;31mTypeError\u001b[0m: can't convert cuda:1 device type tensor to numpy. Use Tensor.cpu() to copy the tensor to host memory first."
     ]
    },
    {
     "data": {
      "image/png": "[encoded data removed]",
      "text/plain": [
       "<Figure size 1500x700 with 2 Axes>"
      ]
     },
     "metadata": {},
     "output_type": "display_data"
    }
   ],
   "source": [
    "import argparse\n",
    "\n",
    "training_args = argparse.Namespace(**args)\n",
    "train_model(training_args, device)"
   ]
  },
  {
   "cell_type": "code",
   "execution_count": null,
   "metadata": {},
   "outputs": [],
   "source": []
  }
 ],
 "metadata": {
  "kernelspec": {
   "display_name": "Python (myenv)",
   "language": "python",
   "name": "myenv"
  },
  "language_info": {
   "codemirror_mode": {
    "name": "ipython",
    "version": 3
   },
   "file_extension": ".py",
   "mimetype": "text/x-python",
   "name": "python",
   "nbconvert_exporter": "python",
   "pygments_lexer": "ipython3",
   "version": "3.12.7"
  }
 },
 "nbformat": 4,
 "nbformat_minor": 4
}
