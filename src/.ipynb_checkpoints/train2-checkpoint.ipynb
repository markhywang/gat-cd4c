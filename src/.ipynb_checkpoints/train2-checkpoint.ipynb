{
 "cells": [
  {
   "cell_type": "code",
   "execution_count": 1,
   "metadata": {},
   "outputs": [],
   "source": [
    "# Copy of train.ipynb (run on GPU 1)"
   ]
  },
  {
   "cell_type": "code",
   "execution_count": 2,
   "metadata": {},
   "outputs": [
    {
     "name": "stdout",
     "output_type": "stream",
     "text": [
      "Using device: cpu\n"
     ]
    }
   ],
   "source": [
    "import torch\n",
    "\n",
    "# Local imports\n",
    "from train import train_model"
   ]
  },
  {
   "cell_type": "code",
   "execution_count": 3,
   "metadata": {},
   "outputs": [
    {
     "name": "stdout",
     "output_type": "stream",
     "text": [
      "Using device: cuda:1\n"
     ]
    }
   ],
   "source": [
    "if torch.backends.mps.is_available():\n",
    "    device = torch.device(\"mps\")\n",
    "elif torch.cuda.is_available():\n",
    "    device = torch.device(\"cuda:1\")\n",
    "else:\n",
    "    device = torch.device(\"cpu\")\n",
    "\n",
    "print(f\"Using device: {device}\")"
   ]
  },
  {
   "cell_type": "code",
   "execution_count": 4,
   "metadata": {},
   "outputs": [],
   "source": [
    "args = {\n",
    "    \"use_small_dataset\": False,\n",
    "    \"batch_size\": 64,\n",
    "    \"stoppage_epochs\": 128,\n",
    "    \"max_epochs\": 512,\n",
    "    \"seed\": 42,\n",
    "    \"data_path\": \"../data\",\n",
    "    \"frac_train\": 0.8,\n",
    "    \"frac_validation\": 0.1,\n",
    "    \"frac_test\": 0.1,\n",
    "    \"huber_beta\": 1.0,\n",
    "    \"weight_decay\": 1e-3,\n",
    "    \"lr\": 3e-4,\n",
    "    \"scheduler_patience\": 10,\n",
    "    \"scheduler_factor\": 0.5,\n",
    "    \"hidden_size\": 96,\n",
    "    \"num_layers\": 7,\n",
    "    \"num_attn_heads\": 6,\n",
    "    \"dropout\": 0.15,\n",
    "    \"leaky_relu_slope\": 0.2,\n",
    "    \"pooling_dim\": 96,\n",
    "}"
   ]
  },
  {
   "cell_type": "code",
   "execution_count": 5,
   "metadata": {},
   "outputs": [
    {
     "name": "stdout",
     "output_type": "stream",
     "text": [
      "Model parameters: 174867\n"
     ]
    },
    {
     "name": "stderr",
     "output_type": "stream",
     "text": [
      "Epoch 1/512: 100%|████████████████████████████████████████████████████████████████████████████████████████████████████████████| 910/910 [02:38<00:00,  5.74it/s]\n"
     ]
    },
    {
     "name": "stdout",
     "output_type": "stream",
     "text": [
      "Epoch 1/512: Train Loss = 0.54566, Validation Loss = 0.52291, Train Accuracy = 0.60704, Validation Accuracy = 0.62497\n"
     ]
    },
    {
     "name": "stderr",
     "output_type": "stream",
     "text": [
      "Epoch 2/512: 100%|████████████████████████████████████████████████████████████████████████████████████████████████████████████| 910/910 [00:27<00:00, 33.32it/s]\n"
     ]
    },
    {
     "name": "stdout",
     "output_type": "stream",
     "text": [
      "Epoch 2/512: Train Loss = 0.51489, Validation Loss = 0.50042, Train Accuracy = 0.63333, Validation Accuracy = 0.63610\n"
     ]
    },
    {
     "name": "stderr",
     "output_type": "stream",
     "text": [
      "Epoch 3/512: 100%|████████████████████████████████████████████████████████████████████████████████████████████████████████████| 910/910 [00:27<00:00, 33.44it/s]\n"
     ]
    },
    {
     "name": "stdout",
     "output_type": "stream",
     "text": [
      "Epoch 3/512: Train Loss = 0.49314, Validation Loss = 0.49308, Train Accuracy = 0.65301, Validation Accuracy = 0.65260\n"
     ]
    },
    {
     "name": "stderr",
     "output_type": "stream",
     "text": [
      "Epoch 4/512: 100%|████████████████████████████████████████████████████████████████████████████████████████████████████████████| 910/910 [00:27<00:00, 33.19it/s]\n"
     ]
    },
    {
     "name": "stdout",
     "output_type": "stream",
     "text": [
      "Epoch 4/512: Train Loss = 0.47690, Validation Loss = 0.47635, Train Accuracy = 0.66583, Validation Accuracy = 0.67899\n"
     ]
    },
    {
     "name": "stderr",
     "output_type": "stream",
     "text": [
      "Epoch 5/512: 100%|████████████████████████████████████████████████████████████████████████████████████████████████████████████| 910/910 [00:27<00:00, 33.15it/s]\n"
     ]
    },
    {
     "name": "stdout",
     "output_type": "stream",
     "text": [
      "Epoch 5/512: Train Loss = 0.46297, Validation Loss = 0.44252, Train Accuracy = 0.67664, Validation Accuracy = 0.68312\n"
     ]
    },
    {
     "name": "stderr",
     "output_type": "stream",
     "text": [
      "Epoch 6/512: 100%|████████████████████████████████████████████████████████████████████████████████████████████████████████████| 910/910 [00:27<00:00, 33.40it/s]\n"
     ]
    },
    {
     "name": "stdout",
     "output_type": "stream",
     "text": [
      "Epoch 6/512: Train Loss = 0.45043, Validation Loss = 0.43050, Train Accuracy = 0.68413, Validation Accuracy = 0.69577\n"
     ]
    },
    {
     "name": "stderr",
     "output_type": "stream",
     "text": [
      "Epoch 7/512: 100%|████████████████████████████████████████████████████████████████████████████████████████████████████████████| 910/910 [00:27<00:00, 33.21it/s]\n"
     ]
    },
    {
     "name": "stdout",
     "output_type": "stream",
     "text": [
      "Epoch 7/512: Train Loss = 0.43892, Validation Loss = 0.41791, Train Accuracy = 0.69252, Validation Accuracy = 0.70580\n"
     ]
    },
    {
     "name": "stderr",
     "output_type": "stream",
     "text": [
      "Epoch 8/512: 100%|████████████████████████████████████████████████████████████████████████████████████████████████████████████| 910/910 [00:27<00:00, 33.10it/s]\n"
     ]
    },
    {
     "name": "stdout",
     "output_type": "stream",
     "text": [
      "Epoch 8/512: Train Loss = 0.43018, Validation Loss = 0.40607, Train Accuracy = 0.70015, Validation Accuracy = 0.71061\n"
     ]
    },
    {
     "name": "stderr",
     "output_type": "stream",
     "text": [
      "Epoch 9/512: 100%|████████████████████████████████████████████████████████████████████████████████████████████████████████████| 910/910 [00:27<00:00, 33.16it/s]\n"
     ]
    },
    {
     "name": "stdout",
     "output_type": "stream",
     "text": [
      "Epoch 9/512: Train Loss = 0.42365, Validation Loss = 0.41162, Train Accuracy = 0.70340, Validation Accuracy = 0.70745\n"
     ]
    },
    {
     "name": "stderr",
     "output_type": "stream",
     "text": [
      "Epoch 10/512: 100%|███████████████████████████████████████████████████████████████████████████████████████████████████████████| 910/910 [00:27<00:00, 33.12it/s]\n"
     ]
    },
    {
     "name": "stdout",
     "output_type": "stream",
     "text": [
      "Epoch 10/512: Train Loss = 0.41492, Validation Loss = 0.40418, Train Accuracy = 0.70933, Validation Accuracy = 0.71405\n"
     ]
    },
    {
     "name": "stderr",
     "output_type": "stream",
     "text": [
      "Epoch 11/512: 100%|███████████████████████████████████████████████████████████████████████████████████████████████████████████| 910/910 [00:27<00:00, 33.26it/s]\n"
     ]
    },
    {
     "name": "stdout",
     "output_type": "stream",
     "text": [
      "Epoch 11/512: Train Loss = 0.41032, Validation Loss = 0.40787, Train Accuracy = 0.71309, Validation Accuracy = 0.71474\n"
     ]
    },
    {
     "name": "stderr",
     "output_type": "stream",
     "text": [
      "Epoch 12/512: 100%|███████████████████████████████████████████████████████████████████████████████████████████████████████████| 910/910 [00:27<00:00, 33.17it/s]\n"
     ]
    },
    {
     "name": "stdout",
     "output_type": "stream",
     "text": [
      "Epoch 12/512: Train Loss = 0.40365, Validation Loss = 0.38660, Train Accuracy = 0.71783, Validation Accuracy = 0.72519\n"
     ]
    },
    {
     "name": "stderr",
     "output_type": "stream",
     "text": [
      "Epoch 13/512: 100%|███████████████████████████████████████████████████████████████████████████████████████████████████████████| 910/910 [00:27<00:00, 33.21it/s]\n"
     ]
    },
    {
     "name": "stdout",
     "output_type": "stream",
     "text": [
      "Epoch 13/512: Train Loss = 0.39797, Validation Loss = 0.38004, Train Accuracy = 0.72160, Validation Accuracy = 0.73330\n"
     ]
    },
    {
     "name": "stderr",
     "output_type": "stream",
     "text": [
      "Epoch 14/512: 100%|███████████████████████████████████████████████████████████████████████████████████████████████████████████| 910/910 [00:27<00:00, 33.28it/s]\n"
     ]
    },
    {
     "name": "stdout",
     "output_type": "stream",
     "text": [
      "Epoch 14/512: Train Loss = 0.39368, Validation Loss = 0.37583, Train Accuracy = 0.72417, Validation Accuracy = 0.72958\n"
     ]
    },
    {
     "name": "stderr",
     "output_type": "stream",
     "text": [
      "Epoch 15/512: 100%|███████████████████████████████████████████████████████████████████████████████████████████████████████████| 910/910 [00:27<00:00, 33.16it/s]\n"
     ]
    },
    {
     "name": "stdout",
     "output_type": "stream",
     "text": [
      "Epoch 15/512: Train Loss = 0.38869, Validation Loss = 0.38243, Train Accuracy = 0.72852, Validation Accuracy = 0.72876\n"
     ]
    },
    {
     "name": "stderr",
     "output_type": "stream",
     "text": [
      "Epoch 16/512: 100%|███████████████████████████████████████████████████████████████████████████████████████████████████████████| 910/910 [00:27<00:00, 33.16it/s]\n"
     ]
    },
    {
     "name": "stdout",
     "output_type": "stream",
     "text": [
      "Epoch 16/512: Train Loss = 0.38396, Validation Loss = 0.36776, Train Accuracy = 0.73112, Validation Accuracy = 0.73825\n"
     ]
    },
    {
     "name": "stderr",
     "output_type": "stream",
     "text": [
      "Epoch 17/512: 100%|███████████████████████████████████████████████████████████████████████████████████████████████████████████| 910/910 [00:27<00:00, 33.23it/s]\n"
     ]
    },
    {
     "name": "stdout",
     "output_type": "stream",
     "text": [
      "Epoch 17/512: Train Loss = 0.38068, Validation Loss = 0.37074, Train Accuracy = 0.73306, Validation Accuracy = 0.73701\n"
     ]
    },
    {
     "name": "stderr",
     "output_type": "stream",
     "text": [
      "Epoch 18/512: 100%|███████████████████████████████████████████████████████████████████████████████████████████████████████████| 910/910 [00:27<00:00, 33.24it/s]\n"
     ]
    },
    {
     "name": "stdout",
     "output_type": "stream",
     "text": [
      "Epoch 18/512: Train Loss = 0.37777, Validation Loss = 0.36589, Train Accuracy = 0.73694, Validation Accuracy = 0.74402\n"
     ]
    },
    {
     "name": "stderr",
     "output_type": "stream",
     "text": [
      "Epoch 19/512: 100%|███████████████████████████████████████████████████████████████████████████████████████████████████████████| 910/910 [00:27<00:00, 33.17it/s]\n"
     ]
    },
    {
     "name": "stdout",
     "output_type": "stream",
     "text": [
      "Epoch 19/512: Train Loss = 0.37362, Validation Loss = 0.36439, Train Accuracy = 0.73651, Validation Accuracy = 0.74223\n"
     ]
    },
    {
     "name": "stderr",
     "output_type": "stream",
     "text": [
      "Epoch 20/512: 100%|███████████████████████████████████████████████████████████████████████████████████████████████████████████| 910/910 [00:27<00:00, 33.24it/s]\n"
     ]
    },
    {
     "name": "stdout",
     "output_type": "stream",
     "text": [
      "Epoch 20/512: Train Loss = 0.36900, Validation Loss = 0.35541, Train Accuracy = 0.74198, Validation Accuracy = 0.74746\n"
     ]
    },
    {
     "name": "stderr",
     "output_type": "stream",
     "text": [
      "Epoch 21/512: 100%|███████████████████████████████████████████████████████████████████████████████████████████████████████████| 910/910 [00:27<00:00, 33.15it/s]\n"
     ]
    },
    {
     "name": "stdout",
     "output_type": "stream",
     "text": [
      "Epoch 21/512: Train Loss = 0.36568, Validation Loss = 0.36472, Train Accuracy = 0.74292, Validation Accuracy = 0.74306\n"
     ]
    },
    {
     "name": "stderr",
     "output_type": "stream",
     "text": [
      "Epoch 22/512: 100%|███████████████████████████████████████████████████████████████████████████████████████████████████████████| 910/910 [00:27<00:00, 32.97it/s]\n"
     ]
    },
    {
     "name": "stdout",
     "output_type": "stream",
     "text": [
      "Epoch 22/512: Train Loss = 0.36184, Validation Loss = 0.35493, Train Accuracy = 0.74409, Validation Accuracy = 0.74292\n"
     ]
    },
    {
     "name": "stderr",
     "output_type": "stream",
     "text": [
      "Epoch 23/512: 100%|███████████████████████████████████████████████████████████████████████████████████████████████████████████| 910/910 [00:27<00:00, 33.10it/s]\n"
     ]
    },
    {
     "name": "stdout",
     "output_type": "stream",
     "text": [
      "Epoch 23/512: Train Loss = 0.36066, Validation Loss = 0.34916, Train Accuracy = 0.74901, Validation Accuracy = 0.75474\n"
     ]
    },
    {
     "name": "stderr",
     "output_type": "stream",
     "text": [
      "Epoch 24/512: 100%|███████████████████████████████████████████████████████████████████████████████████████████████████████████| 910/910 [00:27<00:00, 32.98it/s]\n"
     ]
    },
    {
     "name": "stdout",
     "output_type": "stream",
     "text": [
      "Epoch 24/512: Train Loss = 0.35740, Validation Loss = 0.35575, Train Accuracy = 0.74944, Validation Accuracy = 0.74663\n"
     ]
    },
    {
     "name": "stderr",
     "output_type": "stream",
     "text": [
      "Epoch 25/512: 100%|███████████████████████████████████████████████████████████████████████████████████████████████████████████| 910/910 [00:27<00:00, 32.88it/s]\n"
     ]
    },
    {
     "name": "stdout",
     "output_type": "stream",
     "text": [
      "Epoch 25/512: Train Loss = 0.35302, Validation Loss = 0.33903, Train Accuracy = 0.75030, Validation Accuracy = 0.75969\n"
     ]
    },
    {
     "name": "stderr",
     "output_type": "stream",
     "text": [
      "Epoch 26/512: 100%|███████████████████████████████████████████████████████████████████████████████████████████████████████████| 910/910 [00:27<00:00, 33.22it/s]\n"
     ]
    },
    {
     "name": "stdout",
     "output_type": "stream",
     "text": [
      "Epoch 26/512: Train Loss = 0.34967, Validation Loss = 0.33497, Train Accuracy = 0.75408, Validation Accuracy = 0.75612\n"
     ]
    },
    {
     "name": "stderr",
     "output_type": "stream",
     "text": [
      "Epoch 27/512: 100%|███████████████████████████████████████████████████████████████████████████████████████████████████████████| 910/910 [00:27<00:00, 32.77it/s]\n"
     ]
    },
    {
     "name": "stdout",
     "output_type": "stream",
     "text": [
      "Epoch 27/512: Train Loss = 0.34691, Validation Loss = 0.35023, Train Accuracy = 0.75413, Validation Accuracy = 0.75089\n"
     ]
    },
    {
     "name": "stderr",
     "output_type": "stream",
     "text": [
      "Epoch 28/512: 100%|███████████████████████████████████████████████████████████████████████████████████████████████████████████| 910/910 [00:27<00:00, 33.37it/s]\n"
     ]
    },
    {
     "name": "stdout",
     "output_type": "stream",
     "text": [
      "Epoch 28/512: Train Loss = 0.34636, Validation Loss = 0.32871, Train Accuracy = 0.75487, Validation Accuracy = 0.76285\n"
     ]
    },
    {
     "name": "stderr",
     "output_type": "stream",
     "text": [
      "Epoch 29/512: 100%|███████████████████████████████████████████████████████████████████████████████████████████████████████████| 910/910 [00:27<00:00, 33.05it/s]\n"
     ]
    },
    {
     "name": "stdout",
     "output_type": "stream",
     "text": [
      "Epoch 29/512: Train Loss = 0.34193, Validation Loss = 0.32982, Train Accuracy = 0.75763, Validation Accuracy = 0.76052\n"
     ]
    },
    {
     "name": "stderr",
     "output_type": "stream",
     "text": [
      "Epoch 30/512: 100%|███████████████████████████████████████████████████████████████████████████████████████████████████████████| 910/910 [00:27<00:00, 33.37it/s]\n"
     ]
    },
    {
     "name": "stdout",
     "output_type": "stream",
     "text": [
      "Epoch 30/512: Train Loss = 0.34207, Validation Loss = 0.35106, Train Accuracy = 0.75655, Validation Accuracy = 0.74567\n"
     ]
    },
    {
     "name": "stderr",
     "output_type": "stream",
     "text": [
      "Epoch 31/512: 100%|███████████████████████████████████████████████████████████████████████████████████████████████████████████| 910/910 [00:27<00:00, 33.33it/s]\n"
     ]
    },
    {
     "name": "stdout",
     "output_type": "stream",
     "text": [
      "Epoch 31/512: Train Loss = 0.33770, Validation Loss = 0.33501, Train Accuracy = 0.75824, Validation Accuracy = 0.76313\n"
     ]
    },
    {
     "name": "stderr",
     "output_type": "stream",
     "text": [
      "Epoch 32/512: 100%|███████████████████████████████████████████████████████████████████████████████████████████████████████████| 910/910 [00:27<00:00, 33.10it/s]\n"
     ]
    },
    {
     "name": "stdout",
     "output_type": "stream",
     "text": [
      "Epoch 32/512: Train Loss = 0.33627, Validation Loss = 0.34184, Train Accuracy = 0.75930, Validation Accuracy = 0.75818\n"
     ]
    },
    {
     "name": "stderr",
     "output_type": "stream",
     "text": [
      "Epoch 33/512: 100%|███████████████████████████████████████████████████████████████████████████████████████████████████████████| 910/910 [00:27<00:00, 32.96it/s]\n"
     ]
    },
    {
     "name": "stdout",
     "output_type": "stream",
     "text": [
      "Epoch 33/512: Train Loss = 0.33499, Validation Loss = 0.32264, Train Accuracy = 0.76267, Validation Accuracy = 0.76464\n"
     ]
    },
    {
     "name": "stderr",
     "output_type": "stream",
     "text": [
      "Epoch 34/512: 100%|███████████████████████████████████████████████████████████████████████████████████████████████████████████| 910/910 [00:27<00:00, 33.02it/s]\n"
     ]
    },
    {
     "name": "stdout",
     "output_type": "stream",
     "text": [
      "Epoch 34/512: Train Loss = 0.33240, Validation Loss = 0.32165, Train Accuracy = 0.75946, Validation Accuracy = 0.76849\n"
     ]
    },
    {
     "name": "stderr",
     "output_type": "stream",
     "text": [
      "Epoch 35/512: 100%|███████████████████████████████████████████████████████████████████████████████████████████████████████████| 910/910 [00:27<00:00, 33.29it/s]\n"
     ]
    },
    {
     "name": "stdout",
     "output_type": "stream",
     "text": [
      "Epoch 35/512: Train Loss = 0.32931, Validation Loss = 0.32377, Train Accuracy = 0.76427, Validation Accuracy = 0.76547\n"
     ]
    },
    {
     "name": "stderr",
     "output_type": "stream",
     "text": [
      "Epoch 36/512: 100%|███████████████████████████████████████████████████████████████████████████████████████████████████████████| 910/910 [00:27<00:00, 33.14it/s]\n"
     ]
    },
    {
     "name": "stdout",
     "output_type": "stream",
     "text": [
      "Epoch 36/512: Train Loss = 0.32687, Validation Loss = 0.31674, Train Accuracy = 0.76657, Validation Accuracy = 0.76712\n"
     ]
    },
    {
     "name": "stderr",
     "output_type": "stream",
     "text": [
      "Epoch 37/512: 100%|███████████████████████████████████████████████████████████████████████████████████████████████████████████| 910/910 [00:27<00:00, 32.92it/s]\n"
     ]
    },
    {
     "name": "stdout",
     "output_type": "stream",
     "text": [
      "Epoch 37/512: Train Loss = 0.32548, Validation Loss = 0.32222, Train Accuracy = 0.76666, Validation Accuracy = 0.76657\n"
     ]
    },
    {
     "name": "stderr",
     "output_type": "stream",
     "text": [
      "Epoch 38/512: 100%|███████████████████████████████████████████████████████████████████████████████████████████████████████████| 910/910 [00:27<00:00, 33.13it/s]\n"
     ]
    },
    {
     "name": "stdout",
     "output_type": "stream",
     "text": [
      "Epoch 38/512: Train Loss = 0.32535, Validation Loss = 0.31627, Train Accuracy = 0.76757, Validation Accuracy = 0.77303\n"
     ]
    },
    {
     "name": "stderr",
     "output_type": "stream",
     "text": [
      "Epoch 39/512: 100%|███████████████████████████████████████████████████████████████████████████████████████████████████████████| 910/910 [00:27<00:00, 33.09it/s]\n"
     ]
    },
    {
     "name": "stdout",
     "output_type": "stream",
     "text": [
      "Epoch 39/512: Train Loss = 0.32240, Validation Loss = 0.32579, Train Accuracy = 0.76906, Validation Accuracy = 0.76437\n"
     ]
    },
    {
     "name": "stderr",
     "output_type": "stream",
     "text": [
      "Epoch 40/512: 100%|███████████████████████████████████████████████████████████████████████████████████████████████████████████| 910/910 [00:27<00:00, 33.12it/s]\n"
     ]
    },
    {
     "name": "stdout",
     "output_type": "stream",
     "text": [
      "Epoch 40/512: Train Loss = 0.32189, Validation Loss = 0.31816, Train Accuracy = 0.77164, Validation Accuracy = 0.77399\n"
     ]
    },
    {
     "name": "stderr",
     "output_type": "stream",
     "text": [
      "Epoch 41/512: 100%|███████████████████████████████████████████████████████████████████████████████████████████████████████████| 910/910 [00:27<00:00, 33.15it/s]\n"
     ]
    },
    {
     "name": "stdout",
     "output_type": "stream",
     "text": [
      "Epoch 41/512: Train Loss = 0.31915, Validation Loss = 0.31985, Train Accuracy = 0.76808, Validation Accuracy = 0.76560\n"
     ]
    },
    {
     "name": "stderr",
     "output_type": "stream",
     "text": [
      "Epoch 42/512: 100%|███████████████████████████████████████████████████████████████████████████████████████████████████████████| 910/910 [00:27<00:00, 33.04it/s]\n"
     ]
    },
    {
     "name": "stdout",
     "output_type": "stream",
     "text": [
      "Epoch 42/512: Train Loss = 0.31747, Validation Loss = 0.31671, Train Accuracy = 0.77195, Validation Accuracy = 0.77138\n"
     ]
    },
    {
     "name": "stderr",
     "output_type": "stream",
     "text": [
      "Epoch 43/512: 100%|███████████████████████████████████████████████████████████████████████████████████████████████████████████| 910/910 [00:27<00:00, 32.91it/s]\n"
     ]
    },
    {
     "name": "stdout",
     "output_type": "stream",
     "text": [
      "Epoch 43/512: Train Loss = 0.31819, Validation Loss = 0.30569, Train Accuracy = 0.76965, Validation Accuracy = 0.77770\n"
     ]
    },
    {
     "name": "stderr",
     "output_type": "stream",
     "text": [
      "Epoch 44/512: 100%|███████████████████████████████████████████████████████████████████████████████████████████████████████████| 910/910 [00:27<00:00, 33.26it/s]\n"
     ]
    },
    {
     "name": "stdout",
     "output_type": "stream",
     "text": [
      "Epoch 44/512: Train Loss = 0.31567, Validation Loss = 0.31199, Train Accuracy = 0.77157, Validation Accuracy = 0.77825\n"
     ]
    },
    {
     "name": "stderr",
     "output_type": "stream",
     "text": [
      "Epoch 45/512: 100%|███████████████████████████████████████████████████████████████████████████████████████████████████████████| 910/910 [00:27<00:00, 33.15it/s]\n"
     ]
    },
    {
     "name": "stdout",
     "output_type": "stream",
     "text": [
      "Epoch 45/512: Train Loss = 0.31370, Validation Loss = 0.31876, Train Accuracy = 0.77339, Validation Accuracy = 0.77234\n"
     ]
    },
    {
     "name": "stderr",
     "output_type": "stream",
     "text": [
      "Epoch 46/512: 100%|███████████████████████████████████████████████████████████████████████████████████████████████████████████| 910/910 [00:27<00:00, 33.23it/s]\n"
     ]
    },
    {
     "name": "stdout",
     "output_type": "stream",
     "text": [
      "Epoch 46/512: Train Loss = 0.31250, Validation Loss = 0.30658, Train Accuracy = 0.77546, Validation Accuracy = 0.77633\n"
     ]
    },
    {
     "name": "stderr",
     "output_type": "stream",
     "text": [
      "Epoch 47/512: 100%|███████████████████████████████████████████████████████████████████████████████████████████████████████████| 910/910 [00:27<00:00, 33.32it/s]\n"
     ]
    },
    {
     "name": "stdout",
     "output_type": "stream",
     "text": [
      "Epoch 47/512: Train Loss = 0.31096, Validation Loss = 0.31406, Train Accuracy = 0.77509, Validation Accuracy = 0.77413\n"
     ]
    },
    {
     "name": "stderr",
     "output_type": "stream",
     "text": [
      "Epoch 48/512: 100%|███████████████████████████████████████████████████████████████████████████████████████████████████████████| 910/910 [00:27<00:00, 33.32it/s]\n"
     ]
    },
    {
     "name": "stdout",
     "output_type": "stream",
     "text": [
      "Epoch 48/512: Train Loss = 0.30994, Validation Loss = 0.30636, Train Accuracy = 0.77455, Validation Accuracy = 0.77825\n"
     ]
    },
    {
     "name": "stderr",
     "output_type": "stream",
     "text": [
      "Epoch 49/512: 100%|███████████████████████████████████████████████████████████████████████████████████████████████████████████| 910/910 [00:27<00:00, 32.94it/s]\n"
     ]
    },
    {
     "name": "stdout",
     "output_type": "stream",
     "text": [
      "Epoch 49/512: Train Loss = 0.30815, Validation Loss = 0.29742, Train Accuracy = 0.77666, Validation Accuracy = 0.77990\n"
     ]
    },
    {
     "name": "stderr",
     "output_type": "stream",
     "text": [
      "Epoch 50/512: 100%|███████████████████████████████████████████████████████████████████████████████████████████████████████████| 910/910 [00:27<00:00, 33.30it/s]\n"
     ]
    },
    {
     "name": "stdout",
     "output_type": "stream",
     "text": [
      "Epoch 50/512: Train Loss = 0.30733, Validation Loss = 0.30176, Train Accuracy = 0.77678, Validation Accuracy = 0.77550\n"
     ]
    },
    {
     "name": "stderr",
     "output_type": "stream",
     "text": [
      "Epoch 51/512: 100%|███████████████████████████████████████████████████████████████████████████████████████████████████████████| 910/910 [00:27<00:00, 32.54it/s]\n"
     ]
    },
    {
     "name": "stdout",
     "output_type": "stream",
     "text": [
      "Epoch 51/512: Train Loss = 0.30603, Validation Loss = 0.30072, Train Accuracy = 0.77851, Validation Accuracy = 0.77743\n"
     ]
    },
    {
     "name": "stderr",
     "output_type": "stream",
     "text": [
      "Epoch 52/512: 100%|███████████████████████████████████████████████████████████████████████████████████████████████████████████| 910/910 [00:27<00:00, 33.11it/s]\n"
     ]
    },
    {
     "name": "stdout",
     "output_type": "stream",
     "text": [
      "Epoch 52/512: Train Loss = 0.30580, Validation Loss = 0.30292, Train Accuracy = 0.77846, Validation Accuracy = 0.77578\n"
     ]
    },
    {
     "name": "stderr",
     "output_type": "stream",
     "text": [
      "Epoch 53/512: 100%|███████████████████████████████████████████████████████████████████████████████████████████████████████████| 910/910 [00:27<00:00, 33.11it/s]\n"
     ]
    },
    {
     "name": "stdout",
     "output_type": "stream",
     "text": [
      "Epoch 53/512: Train Loss = 0.30359, Validation Loss = 0.30026, Train Accuracy = 0.78061, Validation Accuracy = 0.78059\n"
     ]
    },
    {
     "name": "stderr",
     "output_type": "stream",
     "text": [
      "Epoch 54/512: 100%|███████████████████████████████████████████████████████████████████████████████████████████████████████████| 910/910 [00:27<00:00, 32.97it/s]\n"
     ]
    },
    {
     "name": "stdout",
     "output_type": "stream",
     "text": [
      "Epoch 54/512: Train Loss = 0.30281, Validation Loss = 0.29829, Train Accuracy = 0.78094, Validation Accuracy = 0.78155\n"
     ]
    },
    {
     "name": "stderr",
     "output_type": "stream",
     "text": [
      "Epoch 55/512: 100%|███████████████████████████████████████████████████████████████████████████████████████████████████████████| 910/910 [00:27<00:00, 33.21it/s]\n"
     ]
    },
    {
     "name": "stdout",
     "output_type": "stream",
     "text": [
      "Epoch 55/512: Train Loss = 0.30175, Validation Loss = 0.30263, Train Accuracy = 0.78068, Validation Accuracy = 0.78279\n"
     ]
    },
    {
     "name": "stderr",
     "output_type": "stream",
     "text": [
      "Epoch 56/512: 100%|███████████████████████████████████████████████████████████████████████████████████████████████████████████| 910/910 [00:27<00:00, 33.29it/s]\n"
     ]
    },
    {
     "name": "stdout",
     "output_type": "stream",
     "text": [
      "Epoch 56/512: Train Loss = 0.30274, Validation Loss = 0.31001, Train Accuracy = 0.78010, Validation Accuracy = 0.77894\n"
     ]
    },
    {
     "name": "stderr",
     "output_type": "stream",
     "text": [
      "Epoch 57/512: 100%|███████████████████████████████████████████████████████████████████████████████████████████████████████████| 910/910 [00:27<00:00, 33.12it/s]\n"
     ]
    },
    {
     "name": "stdout",
     "output_type": "stream",
     "text": [
      "Epoch 57/512: Train Loss = 0.29871, Validation Loss = 0.29026, Train Accuracy = 0.78309, Validation Accuracy = 0.78581\n"
     ]
    },
    {
     "name": "stderr",
     "output_type": "stream",
     "text": [
      "Epoch 58/512: 100%|███████████████████████████████████████████████████████████████████████████████████████████████████████████| 910/910 [00:27<00:00, 33.31it/s]\n"
     ]
    },
    {
     "name": "stdout",
     "output_type": "stream",
     "text": [
      "Epoch 58/512: Train Loss = 0.29932, Validation Loss = 0.30364, Train Accuracy = 0.78173, Validation Accuracy = 0.78485\n"
     ]
    },
    {
     "name": "stderr",
     "output_type": "stream",
     "text": [
      "Epoch 59/512: 100%|███████████████████████████████████████████████████████████████████████████████████████████████████████████| 910/910 [00:27<00:00, 33.27it/s]\n"
     ]
    },
    {
     "name": "stdout",
     "output_type": "stream",
     "text": [
      "Epoch 59/512: Train Loss = 0.29746, Validation Loss = 0.29939, Train Accuracy = 0.78334, Validation Accuracy = 0.78265\n"
     ]
    },
    {
     "name": "stderr",
     "output_type": "stream",
     "text": [
      "Epoch 60/512: 100%|███████████████████████████████████████████████████████████████████████████████████████████████████████████| 910/910 [00:27<00:00, 33.31it/s]\n"
     ]
    },
    {
     "name": "stdout",
     "output_type": "stream",
     "text": [
      "Epoch 60/512: Train Loss = 0.29583, Validation Loss = 0.30713, Train Accuracy = 0.78546, Validation Accuracy = 0.77440\n"
     ]
    },
    {
     "name": "stderr",
     "output_type": "stream",
     "text": [
      "Epoch 61/512: 100%|███████████████████████████████████████████████████████████████████████████████████████████████████████████| 910/910 [00:27<00:00, 33.05it/s]\n"
     ]
    },
    {
     "name": "stdout",
     "output_type": "stream",
     "text": [
      "Epoch 61/512: Train Loss = 0.29485, Validation Loss = 0.29659, Train Accuracy = 0.78676, Validation Accuracy = 0.79035\n"
     ]
    },
    {
     "name": "stderr",
     "output_type": "stream",
     "text": [
      "Epoch 62/512: 100%|███████████████████████████████████████████████████████████████████████████████████████████████████████████| 910/910 [00:27<00:00, 33.24it/s]\n"
     ]
    },
    {
     "name": "stdout",
     "output_type": "stream",
     "text": [
      "Epoch 62/512: Train Loss = 0.29420, Validation Loss = 0.30539, Train Accuracy = 0.78456, Validation Accuracy = 0.78128\n"
     ]
    },
    {
     "name": "stderr",
     "output_type": "stream",
     "text": [
      "Epoch 63/512: 100%|███████████████████████████████████████████████████████████████████████████████████████████████████████████| 910/910 [00:27<00:00, 33.20it/s]\n"
     ]
    },
    {
     "name": "stdout",
     "output_type": "stream",
     "text": [
      "Epoch 63/512: Train Loss = 0.29325, Validation Loss = 0.29949, Train Accuracy = 0.78561, Validation Accuracy = 0.77701\n"
     ]
    },
    {
     "name": "stderr",
     "output_type": "stream",
     "text": [
      "Epoch 64/512: 100%|███████████████████████████████████████████████████████████████████████████████████████████████████████████| 910/910 [00:27<00:00, 32.98it/s]\n"
     ]
    },
    {
     "name": "stdout",
     "output_type": "stream",
     "text": [
      "Epoch 64/512: Train Loss = 0.29242, Validation Loss = 0.29049, Train Accuracy = 0.78632, Validation Accuracy = 0.78842\n"
     ]
    },
    {
     "name": "stderr",
     "output_type": "stream",
     "text": [
      "Epoch 65/512: 100%|███████████████████████████████████████████████████████████████████████████████████████████████████████████| 910/910 [00:27<00:00, 33.11it/s]\n"
     ]
    },
    {
     "name": "stdout",
     "output_type": "stream",
     "text": [
      "Epoch 65/512: Train Loss = 0.29184, Validation Loss = 0.29525, Train Accuracy = 0.78730, Validation Accuracy = 0.78444\n"
     ]
    },
    {
     "name": "stderr",
     "output_type": "stream",
     "text": [
      "Epoch 66/512: 100%|███████████████████████████████████████████████████████████████████████████████████████████████████████████| 910/910 [00:27<00:00, 33.24it/s]\n"
     ]
    },
    {
     "name": "stdout",
     "output_type": "stream",
     "text": [
      "Epoch 66/512: Train Loss = 0.29138, Validation Loss = 0.29204, Train Accuracy = 0.78792, Validation Accuracy = 0.78952\n"
     ]
    },
    {
     "name": "stderr",
     "output_type": "stream",
     "text": [
      "Epoch 67/512: 100%|███████████████████████████████████████████████████████████████████████████████████████████████████████████| 910/910 [00:27<00:00, 33.25it/s]\n"
     ]
    },
    {
     "name": "stdout",
     "output_type": "stream",
     "text": [
      "Epoch 67/512: Train Loss = 0.28997, Validation Loss = 0.29439, Train Accuracy = 0.78771, Validation Accuracy = 0.78403\n"
     ]
    },
    {
     "name": "stderr",
     "output_type": "stream",
     "text": [
      "Epoch 68/512: 100%|███████████████████████████████████████████████████████████████████████████████████████████████████████████| 910/910 [00:27<00:00, 33.24it/s]\n"
     ]
    },
    {
     "name": "stdout",
     "output_type": "stream",
     "text": [
      "Epoch 68/512: Train Loss = 0.28849, Validation Loss = 0.28723, Train Accuracy = 0.78953, Validation Accuracy = 0.79392\n"
     ]
    },
    {
     "name": "stderr",
     "output_type": "stream",
     "text": [
      "Epoch 69/512: 100%|███████████████████████████████████████████████████████████████████████████████████████████████████████████| 910/910 [00:27<00:00, 33.15it/s]\n"
     ]
    },
    {
     "name": "stdout",
     "output_type": "stream",
     "text": [
      "Epoch 69/512: Train Loss = 0.28895, Validation Loss = 0.29026, Train Accuracy = 0.79027, Validation Accuracy = 0.78719\n"
     ]
    },
    {
     "name": "stderr",
     "output_type": "stream",
     "text": [
      "Epoch 70/512: 100%|███████████████████████████████████████████████████████████████████████████████████████████████████████████| 910/910 [00:27<00:00, 33.29it/s]\n"
     ]
    },
    {
     "name": "stdout",
     "output_type": "stream",
     "text": [
      "Epoch 70/512: Train Loss = 0.28636, Validation Loss = 0.29149, Train Accuracy = 0.78979, Validation Accuracy = 0.79159\n"
     ]
    },
    {
     "name": "stderr",
     "output_type": "stream",
     "text": [
      "Epoch 71/512: 100%|███████████████████████████████████████████████████████████████████████████████████████████████████████████| 910/910 [00:27<00:00, 33.16it/s]\n"
     ]
    },
    {
     "name": "stdout",
     "output_type": "stream",
     "text": [
      "Epoch 71/512: Train Loss = 0.28621, Validation Loss = 0.28864, Train Accuracy = 0.78962, Validation Accuracy = 0.78513\n"
     ]
    },
    {
     "name": "stderr",
     "output_type": "stream",
     "text": [
      "Epoch 72/512: 100%|███████████████████████████████████████████████████████████████████████████████████████████████████████████| 910/910 [00:27<00:00, 32.93it/s]\n"
     ]
    },
    {
     "name": "stdout",
     "output_type": "stream",
     "text": [
      "Epoch 72/512: Train Loss = 0.28499, Validation Loss = 0.29019, Train Accuracy = 0.78943, Validation Accuracy = 0.79447\n"
     ]
    },
    {
     "name": "stderr",
     "output_type": "stream",
     "text": [
      "Epoch 73/512: 100%|███████████████████████████████████████████████████████████████████████████████████████████████████████████| 910/910 [00:27<00:00, 33.14it/s]\n"
     ]
    },
    {
     "name": "stdout",
     "output_type": "stream",
     "text": [
      "Epoch 73/512: Train Loss = 0.28380, Validation Loss = 0.29044, Train Accuracy = 0.79135, Validation Accuracy = 0.79172\n"
     ]
    },
    {
     "name": "stderr",
     "output_type": "stream",
     "text": [
      "Epoch 74/512: 100%|███████████████████████████████████████████████████████████████████████████████████████████████████████████| 910/910 [00:27<00:00, 33.34it/s]\n"
     ]
    },
    {
     "name": "stdout",
     "output_type": "stream",
     "text": [
      "Epoch 74/512: Train Loss = 0.28439, Validation Loss = 0.29878, Train Accuracy = 0.79159, Validation Accuracy = 0.77578\n"
     ]
    },
    {
     "name": "stderr",
     "output_type": "stream",
     "text": [
      "Epoch 75/512: 100%|███████████████████████████████████████████████████████████████████████████████████████████████████████████| 910/910 [00:27<00:00, 33.18it/s]\n"
     ]
    },
    {
     "name": "stdout",
     "output_type": "stream",
     "text": [
      "Epoch 75/512: Train Loss = 0.28380, Validation Loss = 0.28722, Train Accuracy = 0.79211, Validation Accuracy = 0.79282\n"
     ]
    },
    {
     "name": "stderr",
     "output_type": "stream",
     "text": [
      "Epoch 76/512: 100%|███████████████████████████████████████████████████████████████████████████████████████████████████████████| 910/910 [00:27<00:00, 32.99it/s]\n"
     ]
    },
    {
     "name": "stdout",
     "output_type": "stream",
     "text": [
      "Epoch 76/512: Train Loss = 0.28058, Validation Loss = 0.29287, Train Accuracy = 0.79347, Validation Accuracy = 0.78787\n"
     ]
    },
    {
     "name": "stderr",
     "output_type": "stream",
     "text": [
      "Epoch 77/512: 100%|███████████████████████████████████████████████████████████████████████████████████████████████████████████| 910/910 [00:27<00:00, 33.33it/s]\n"
     ]
    },
    {
     "name": "stdout",
     "output_type": "stream",
     "text": [
      "Epoch 77/512: Train Loss = 0.28002, Validation Loss = 0.28715, Train Accuracy = 0.79419, Validation Accuracy = 0.79530\n"
     ]
    },
    {
     "name": "stderr",
     "output_type": "stream",
     "text": [
      "Epoch 78/512: 100%|███████████████████████████████████████████████████████████████████████████████████████████████████████████| 910/910 [00:27<00:00, 33.14it/s]\n"
     ]
    },
    {
     "name": "stdout",
     "output_type": "stream",
     "text": [
      "Epoch 78/512: Train Loss = 0.28009, Validation Loss = 0.28623, Train Accuracy = 0.79199, Validation Accuracy = 0.79571\n"
     ]
    },
    {
     "name": "stderr",
     "output_type": "stream",
     "text": [
      "Epoch 79/512: 100%|███████████████████████████████████████████████████████████████████████████████████████████████████████████| 910/910 [00:27<00:00, 33.08it/s]\n"
     ]
    },
    {
     "name": "stdout",
     "output_type": "stream",
     "text": [
      "Epoch 79/512: Train Loss = 0.28090, Validation Loss = 0.28339, Train Accuracy = 0.79018, Validation Accuracy = 0.78966\n"
     ]
    },
    {
     "name": "stderr",
     "output_type": "stream",
     "text": [
      "Epoch 80/512: 100%|███████████████████████████████████████████████████████████████████████████████████████████████████████████| 910/910 [00:27<00:00, 32.89it/s]\n"
     ]
    },
    {
     "name": "stdout",
     "output_type": "stream",
     "text": [
      "Epoch 80/512: Train Loss = 0.27927, Validation Loss = 0.28285, Train Accuracy = 0.79396, Validation Accuracy = 0.78897\n"
     ]
    },
    {
     "name": "stderr",
     "output_type": "stream",
     "text": [
      "Epoch 81/512: 100%|███████████████████████████████████████████████████████████████████████████████████████████████████████████| 910/910 [00:27<00:00, 33.14it/s]\n"
     ]
    },
    {
     "name": "stdout",
     "output_type": "stream",
     "text": [
      "Epoch 81/512: Train Loss = 0.27894, Validation Loss = 0.28648, Train Accuracy = 0.79434, Validation Accuracy = 0.79131\n"
     ]
    },
    {
     "name": "stderr",
     "output_type": "stream",
     "text": [
      "Epoch 82/512: 100%|███████████████████████████████████████████████████████████████████████████████████████████████████████████| 910/910 [00:27<00:00, 33.17it/s]\n"
     ]
    },
    {
     "name": "stdout",
     "output_type": "stream",
     "text": [
      "Epoch 82/512: Train Loss = 0.27742, Validation Loss = 0.28717, Train Accuracy = 0.79312, Validation Accuracy = 0.79475\n"
     ]
    },
    {
     "name": "stderr",
     "output_type": "stream",
     "text": [
      "Epoch 83/512: 100%|███████████████████████████████████████████████████████████████████████████████████████████████████████████| 910/910 [00:27<00:00, 33.03it/s]\n"
     ]
    },
    {
     "name": "stdout",
     "output_type": "stream",
     "text": [
      "Epoch 83/512: Train Loss = 0.27800, Validation Loss = 0.28348, Train Accuracy = 0.79429, Validation Accuracy = 0.79296\n"
     ]
    },
    {
     "name": "stderr",
     "output_type": "stream",
     "text": [
      "Epoch 84/512: 100%|███████████████████████████████████████████████████████████████████████████████████████████████████████████| 910/910 [00:27<00:00, 33.20it/s]\n"
     ]
    },
    {
     "name": "stdout",
     "output_type": "stream",
     "text": [
      "Epoch 84/512: Train Loss = 0.27716, Validation Loss = 0.28872, Train Accuracy = 0.79398, Validation Accuracy = 0.79145\n"
     ]
    },
    {
     "name": "stderr",
     "output_type": "stream",
     "text": [
      "Epoch 85/512: 100%|███████████████████████████████████████████████████████████████████████████████████████████████████████████| 910/910 [00:27<00:00, 33.23it/s]\n"
     ]
    },
    {
     "name": "stdout",
     "output_type": "stream",
     "text": [
      "Epoch 85/512: Train Loss = 0.27569, Validation Loss = 0.27811, Train Accuracy = 0.79498, Validation Accuracy = 0.79599\n"
     ]
    },
    {
     "name": "stderr",
     "output_type": "stream",
     "text": [
      "Epoch 86/512: 100%|███████████████████████████████████████████████████████████████████████████████████████████████████████████| 910/910 [00:27<00:00, 33.29it/s]\n"
     ]
    },
    {
     "name": "stdout",
     "output_type": "stream",
     "text": [
      "Epoch 86/512: Train Loss = 0.27523, Validation Loss = 0.28809, Train Accuracy = 0.79465, Validation Accuracy = 0.79062\n"
     ]
    },
    {
     "name": "stderr",
     "output_type": "stream",
     "text": [
      "Epoch 87/512: 100%|███████████████████████████████████████████████████████████████████████████████████████████████████████████| 910/910 [00:27<00:00, 33.19it/s]\n"
     ]
    },
    {
     "name": "stdout",
     "output_type": "stream",
     "text": [
      "Epoch 87/512: Train Loss = 0.27305, Validation Loss = 0.28437, Train Accuracy = 0.79809, Validation Accuracy = 0.79324\n"
     ]
    },
    {
     "name": "stderr",
     "output_type": "stream",
     "text": [
      "Epoch 88/512: 100%|███████████████████████████████████████████████████████████████████████████████████████████████████████████| 910/910 [00:27<00:00, 32.97it/s]\n"
     ]
    },
    {
     "name": "stdout",
     "output_type": "stream",
     "text": [
      "Epoch 88/512: Train Loss = 0.27453, Validation Loss = 0.28460, Train Accuracy = 0.79637, Validation Accuracy = 0.79310\n"
     ]
    },
    {
     "name": "stderr",
     "output_type": "stream",
     "text": [
      "Epoch 89/512: 100%|███████████████████████████████████████████████████████████████████████████████████████████████████████████| 910/910 [00:27<00:00, 32.97it/s]\n"
     ]
    },
    {
     "name": "stdout",
     "output_type": "stream",
     "text": [
      "Epoch 89/512: Train Loss = 0.27105, Validation Loss = 0.27820, Train Accuracy = 0.79871, Validation Accuracy = 0.79612\n"
     ]
    },
    {
     "name": "stderr",
     "output_type": "stream",
     "text": [
      "Epoch 90/512: 100%|███████████████████████████████████████████████████████████████████████████████████████████████████████████| 910/910 [00:27<00:00, 33.12it/s]\n"
     ]
    },
    {
     "name": "stdout",
     "output_type": "stream",
     "text": [
      "Epoch 90/512: Train Loss = 0.27032, Validation Loss = 0.28457, Train Accuracy = 0.79704, Validation Accuracy = 0.79516\n"
     ]
    },
    {
     "name": "stderr",
     "output_type": "stream",
     "text": [
      "Epoch 91/512: 100%|███████████████████████████████████████████████████████████████████████████████████████████████████████████| 910/910 [00:27<00:00, 32.95it/s]\n"
     ]
    },
    {
     "name": "stdout",
     "output_type": "stream",
     "text": [
      "Epoch 91/512: Train Loss = 0.27097, Validation Loss = 0.28707, Train Accuracy = 0.79742, Validation Accuracy = 0.79447\n"
     ]
    },
    {
     "name": "stderr",
     "output_type": "stream",
     "text": [
      "Epoch 92/512: 100%|███████████████████████████████████████████████████████████████████████████████████████████████████████████| 910/910 [00:27<00:00, 33.09it/s]\n"
     ]
    },
    {
     "name": "stdout",
     "output_type": "stream",
     "text": [
      "Epoch 92/512: Train Loss = 0.27095, Validation Loss = 0.28220, Train Accuracy = 0.79668, Validation Accuracy = 0.79104\n"
     ]
    },
    {
     "name": "stderr",
     "output_type": "stream",
     "text": [
      "Epoch 93/512: 100%|███████████████████████████████████████████████████████████████████████████████████████████████████████████| 910/910 [00:27<00:00, 33.25it/s]\n"
     ]
    },
    {
     "name": "stdout",
     "output_type": "stream",
     "text": [
      "Epoch 93/512: Train Loss = 0.27179, Validation Loss = 0.28144, Train Accuracy = 0.79814, Validation Accuracy = 0.79819\n"
     ]
    },
    {
     "name": "stderr",
     "output_type": "stream",
     "text": [
      "Epoch 94/512: 100%|███████████████████████████████████████████████████████████████████████████████████████████████████████████| 910/910 [00:27<00:00, 33.08it/s]\n"
     ]
    },
    {
     "name": "stdout",
     "output_type": "stream",
     "text": [
      "Epoch 94/512: Train Loss = 0.26956, Validation Loss = 0.27545, Train Accuracy = 0.79917, Validation Accuracy = 0.79324\n"
     ]
    },
    {
     "name": "stderr",
     "output_type": "stream",
     "text": [
      "Epoch 95/512: 100%|███████████████████████████████████████████████████████████████████████████████████████████████████████████| 910/910 [00:27<00:00, 33.17it/s]\n"
     ]
    },
    {
     "name": "stdout",
     "output_type": "stream",
     "text": [
      "Epoch 95/512: Train Loss = 0.26985, Validation Loss = 0.27817, Train Accuracy = 0.79795, Validation Accuracy = 0.79887\n"
     ]
    },
    {
     "name": "stderr",
     "output_type": "stream",
     "text": [
      "Epoch 96/512: 100%|███████████████████████████████████████████████████████████████████████████████████████████████████████████| 910/910 [00:27<00:00, 33.13it/s]\n"
     ]
    },
    {
     "name": "stdout",
     "output_type": "stream",
     "text": [
      "Epoch 96/512: Train Loss = 0.26818, Validation Loss = 0.27636, Train Accuracy = 0.79938, Validation Accuracy = 0.80093\n"
     ]
    },
    {
     "name": "stderr",
     "output_type": "stream",
     "text": [
      "Epoch 97/512: 100%|███████████████████████████████████████████████████████████████████████████████████████████████████████████| 910/910 [00:27<00:00, 33.38it/s]\n"
     ]
    },
    {
     "name": "stdout",
     "output_type": "stream",
     "text": [
      "Epoch 97/512: Train Loss = 0.26763, Validation Loss = 0.26993, Train Accuracy = 0.79972, Validation Accuracy = 0.79874\n"
     ]
    },
    {
     "name": "stderr",
     "output_type": "stream",
     "text": [
      "Epoch 98/512: 100%|███████████████████████████████████████████████████████████████████████████████████████████████████████████| 910/910 [00:27<00:00, 33.20it/s]\n"
     ]
    },
    {
     "name": "stdout",
     "output_type": "stream",
     "text": [
      "Epoch 98/512: Train Loss = 0.26637, Validation Loss = 0.28907, Train Accuracy = 0.80204, Validation Accuracy = 0.79736\n"
     ]
    },
    {
     "name": "stderr",
     "output_type": "stream",
     "text": [
      "Epoch 99/512: 100%|███████████████████████████████████████████████████████████████████████████████████████████████████████████| 910/910 [00:27<00:00, 33.32it/s]\n"
     ]
    },
    {
     "name": "stdout",
     "output_type": "stream",
     "text": [
      "Epoch 99/512: Train Loss = 0.26644, Validation Loss = 0.27503, Train Accuracy = 0.79903, Validation Accuracy = 0.79599\n"
     ]
    },
    {
     "name": "stderr",
     "output_type": "stream",
     "text": [
      "Epoch 100/512: 100%|██████████████████████████████████████████████████████████████████████████████████████████████████████████| 910/910 [00:27<00:00, 33.04it/s]\n"
     ]
    },
    {
     "name": "stdout",
     "output_type": "stream",
     "text": [
      "Epoch 100/512: Train Loss = 0.26586, Validation Loss = 0.27578, Train Accuracy = 0.80168, Validation Accuracy = 0.79860\n"
     ]
    },
    {
     "name": "stderr",
     "output_type": "stream",
     "text": [
      "Epoch 101/512: 100%|██████████████████████████████████████████████████████████████████████████████████████████████████████████| 910/910 [00:27<00:00, 33.14it/s]\n"
     ]
    },
    {
     "name": "stdout",
     "output_type": "stream",
     "text": [
      "Epoch 101/512: Train Loss = 0.26562, Validation Loss = 0.28462, Train Accuracy = 0.80144, Validation Accuracy = 0.80135\n"
     ]
    },
    {
     "name": "stderr",
     "output_type": "stream",
     "text": [
      "Epoch 102/512: 100%|██████████████████████████████████████████████████████████████████████████████████████████████████████████| 910/910 [00:27<00:00, 33.12it/s]\n"
     ]
    },
    {
     "name": "stdout",
     "output_type": "stream",
     "text": [
      "Epoch 102/512: Train Loss = 0.26381, Validation Loss = 0.26790, Train Accuracy = 0.80144, Validation Accuracy = 0.80162\n"
     ]
    },
    {
     "name": "stderr",
     "output_type": "stream",
     "text": [
      "Epoch 103/512: 100%|██████████████████████████████████████████████████████████████████████████████████████████████████████████| 910/910 [00:27<00:00, 33.13it/s]\n"
     ]
    },
    {
     "name": "stdout",
     "output_type": "stream",
     "text": [
      "Epoch 103/512: Train Loss = 0.26346, Validation Loss = 0.27448, Train Accuracy = 0.80132, Validation Accuracy = 0.80093\n"
     ]
    },
    {
     "name": "stderr",
     "output_type": "stream",
     "text": [
      "Epoch 104/512: 100%|██████████████████████████████████████████████████████████████████████████████████████████████████████████| 910/910 [00:27<00:00, 33.17it/s]\n"
     ]
    },
    {
     "name": "stdout",
     "output_type": "stream",
     "text": [
      "Epoch 104/512: Train Loss = 0.26460, Validation Loss = 0.27742, Train Accuracy = 0.80082, Validation Accuracy = 0.80423\n"
     ]
    },
    {
     "name": "stderr",
     "output_type": "stream",
     "text": [
      "Epoch 105/512: 100%|██████████████████████████████████████████████████████████████████████████████████████████████████████████| 910/910 [00:27<00:00, 33.02it/s]\n"
     ]
    },
    {
     "name": "stdout",
     "output_type": "stream",
     "text": [
      "Epoch 105/512: Train Loss = 0.26488, Validation Loss = 0.27958, Train Accuracy = 0.80202, Validation Accuracy = 0.80203\n"
     ]
    },
    {
     "name": "stderr",
     "output_type": "stream",
     "text": [
      "Epoch 106/512: 100%|██████████████████████████████████████████████████████████████████████████████████████████████████████████| 910/910 [00:27<00:00, 33.31it/s]\n"
     ]
    },
    {
     "name": "stdout",
     "output_type": "stream",
     "text": [
      "Epoch 106/512: Train Loss = 0.26347, Validation Loss = 0.28365, Train Accuracy = 0.80254, Validation Accuracy = 0.79475\n"
     ]
    },
    {
     "name": "stderr",
     "output_type": "stream",
     "text": [
      "Epoch 107/512: 100%|██████████████████████████████████████████████████████████████████████████████████████████████████████████| 910/910 [00:27<00:00, 33.17it/s]\n"
     ]
    },
    {
     "name": "stdout",
     "output_type": "stream",
     "text": [
      "Epoch 107/512: Train Loss = 0.26152, Validation Loss = 0.27189, Train Accuracy = 0.80481, Validation Accuracy = 0.80203\n"
     ]
    },
    {
     "name": "stderr",
     "output_type": "stream",
     "text": [
      "Epoch 108/512: 100%|██████████████████████████████████████████████████████████████████████████████████████████████████████████| 910/910 [00:27<00:00, 33.30it/s]\n"
     ]
    },
    {
     "name": "stdout",
     "output_type": "stream",
     "text": [
      "Epoch 108/512: Train Loss = 0.26257, Validation Loss = 0.27187, Train Accuracy = 0.80268, Validation Accuracy = 0.80245\n"
     ]
    },
    {
     "name": "stderr",
     "output_type": "stream",
     "text": [
      "Epoch 109/512: 100%|██████████████████████████████████████████████████████████████████████████████████████████████████████████| 910/910 [00:27<00:00, 33.09it/s]\n"
     ]
    },
    {
     "name": "stdout",
     "output_type": "stream",
     "text": [
      "Epoch 109/512: Train Loss = 0.26241, Validation Loss = 0.26987, Train Accuracy = 0.80227, Validation Accuracy = 0.80547\n"
     ]
    },
    {
     "name": "stderr",
     "output_type": "stream",
     "text": [
      "Epoch 110/512: 100%|██████████████████████████████████████████████████████████████████████████████████████████████████████████| 910/910 [00:27<00:00, 33.05it/s]\n"
     ]
    },
    {
     "name": "stdout",
     "output_type": "stream",
     "text": [
      "Epoch 110/512: Train Loss = 0.26093, Validation Loss = 0.27740, Train Accuracy = 0.80302, Validation Accuracy = 0.79887\n"
     ]
    },
    {
     "name": "stderr",
     "output_type": "stream",
     "text": [
      "Epoch 111/512: 100%|██████████████████████████████████████████████████████████████████████████████████████████████████████████| 910/910 [00:27<00:00, 33.04it/s]\n"
     ]
    },
    {
     "name": "stdout",
     "output_type": "stream",
     "text": [
      "Epoch 111/512: Train Loss = 0.25925, Validation Loss = 0.27184, Train Accuracy = 0.80410, Validation Accuracy = 0.80643\n"
     ]
    },
    {
     "name": "stderr",
     "output_type": "stream",
     "text": [
      "Epoch 112/512: 100%|██████████████████████████████████████████████████████████████████████████████████████████████████████████| 910/910 [00:27<00:00, 33.06it/s]\n"
     ]
    },
    {
     "name": "stdout",
     "output_type": "stream",
     "text": [
      "Epoch 112/512: Train Loss = 0.25929, Validation Loss = 0.27122, Train Accuracy = 0.80355, Validation Accuracy = 0.80327\n"
     ]
    },
    {
     "name": "stderr",
     "output_type": "stream",
     "text": [
      "Epoch 113/512: 100%|██████████████████████████████████████████████████████████████████████████████████████████████████████████| 910/910 [00:27<00:00, 33.00it/s]\n"
     ]
    },
    {
     "name": "stdout",
     "output_type": "stream",
     "text": [
      "Epoch 113/512: Train Loss = 0.25962, Validation Loss = 0.27007, Train Accuracy = 0.80385, Validation Accuracy = 0.80245\n"
     ]
    },
    {
     "name": "stderr",
     "output_type": "stream",
     "text": [
      "Epoch 114/512: 100%|██████████████████████████████████████████████████████████████████████████████████████████████████████████| 910/910 [00:27<00:00, 33.24it/s]\n"
     ]
    },
    {
     "name": "stdout",
     "output_type": "stream",
     "text": [
      "Epoch 114/512: Train Loss = 0.25924, Validation Loss = 0.26721, Train Accuracy = 0.80386, Validation Accuracy = 0.80231\n"
     ]
    },
    {
     "name": "stderr",
     "output_type": "stream",
     "text": [
      "Epoch 115/512: 100%|██████████████████████████████████████████████████████████████████████████████████████████████████████████| 910/910 [00:27<00:00, 33.17it/s]\n"
     ]
    },
    {
     "name": "stdout",
     "output_type": "stream",
     "text": [
      "Epoch 115/512: Train Loss = 0.25765, Validation Loss = 0.27443, Train Accuracy = 0.80457, Validation Accuracy = 0.79832\n"
     ]
    },
    {
     "name": "stderr",
     "output_type": "stream",
     "text": [
      "Epoch 116/512: 100%|██████████████████████████████████████████████████████████████████████████████████████████████████████████| 910/910 [00:27<00:00, 33.11it/s]\n"
     ]
    },
    {
     "name": "stdout",
     "output_type": "stream",
     "text": [
      "Epoch 116/512: Train Loss = 0.25773, Validation Loss = 0.27294, Train Accuracy = 0.80601, Validation Accuracy = 0.80025\n"
     ]
    },
    {
     "name": "stderr",
     "output_type": "stream",
     "text": [
      "Epoch 117/512: 100%|██████████████████████████████████████████████████████████████████████████████████████████████████████████| 910/910 [00:27<00:00, 33.43it/s]\n"
     ]
    },
    {
     "name": "stdout",
     "output_type": "stream",
     "text": [
      "Epoch 117/512: Train Loss = 0.25783, Validation Loss = 0.26935, Train Accuracy = 0.80577, Validation Accuracy = 0.80698\n"
     ]
    },
    {
     "name": "stderr",
     "output_type": "stream",
     "text": [
      "Epoch 118/512: 100%|██████████████████████████████████████████████████████████████████████████████████████████████████████████| 910/910 [00:27<00:00, 33.15it/s]\n"
     ]
    },
    {
     "name": "stdout",
     "output_type": "stream",
     "text": [
      "Epoch 118/512: Train Loss = 0.25593, Validation Loss = 0.27196, Train Accuracy = 0.80582, Validation Accuracy = 0.80465\n"
     ]
    },
    {
     "name": "stderr",
     "output_type": "stream",
     "text": [
      "Epoch 119/512: 100%|██████████████████████████████████████████████████████████████████████████████████████████████████████████| 910/910 [00:27<00:00, 33.24it/s]\n"
     ]
    },
    {
     "name": "stdout",
     "output_type": "stream",
     "text": [
      "Epoch 119/512: Train Loss = 0.25645, Validation Loss = 0.26786, Train Accuracy = 0.80568, Validation Accuracy = 0.79805\n"
     ]
    },
    {
     "name": "stderr",
     "output_type": "stream",
     "text": [
      "Epoch 120/512: 100%|██████████████████████████████████████████████████████████████████████████████████████████████████████████| 910/910 [00:27<00:00, 32.92it/s]\n"
     ]
    },
    {
     "name": "stdout",
     "output_type": "stream",
     "text": [
      "Epoch 120/512: Train Loss = 0.25468, Validation Loss = 0.27418, Train Accuracy = 0.80689, Validation Accuracy = 0.79764\n"
     ]
    },
    {
     "name": "stderr",
     "output_type": "stream",
     "text": [
      "Epoch 121/512: 100%|██████████████████████████████████████████████████████████████████████████████████████████████████████████| 910/910 [00:27<00:00, 32.95it/s]\n"
     ]
    },
    {
     "name": "stdout",
     "output_type": "stream",
     "text": [
      "Epoch 121/512: Train Loss = 0.25585, Validation Loss = 0.27254, Train Accuracy = 0.80802, Validation Accuracy = 0.80616\n"
     ]
    },
    {
     "name": "stderr",
     "output_type": "stream",
     "text": [
      "Epoch 122/512: 100%|██████████████████████████████████████████████████████████████████████████████████████████████████████████| 910/910 [00:27<00:00, 32.91it/s]\n"
     ]
    },
    {
     "name": "stdout",
     "output_type": "stream",
     "text": [
      "Epoch 122/512: Train Loss = 0.25571, Validation Loss = 0.26636, Train Accuracy = 0.80606, Validation Accuracy = 0.80822\n"
     ]
    },
    {
     "name": "stderr",
     "output_type": "stream",
     "text": [
      "Epoch 123/512: 100%|██████████████████████████████████████████████████████████████████████████████████████████████████████████| 910/910 [00:27<00:00, 33.14it/s]\n"
     ]
    },
    {
     "name": "stdout",
     "output_type": "stream",
     "text": [
      "Epoch 123/512: Train Loss = 0.25466, Validation Loss = 0.26807, Train Accuracy = 0.80718, Validation Accuracy = 0.80396\n"
     ]
    },
    {
     "name": "stderr",
     "output_type": "stream",
     "text": [
      "Epoch 124/512: 100%|██████████████████████████████████████████████████████████████████████████████████████████████████████████| 910/910 [00:27<00:00, 33.19it/s]\n"
     ]
    },
    {
     "name": "stdout",
     "output_type": "stream",
     "text": [
      "Epoch 124/512: Train Loss = 0.25477, Validation Loss = 0.26822, Train Accuracy = 0.80543, Validation Accuracy = 0.80190\n"
     ]
    },
    {
     "name": "stderr",
     "output_type": "stream",
     "text": [
      "Epoch 125/512: 100%|██████████████████████████████████████████████████████████████████████████████████████████████████████████| 910/910 [00:27<00:00, 33.03it/s]\n"
     ]
    },
    {
     "name": "stdout",
     "output_type": "stream",
     "text": [
      "Epoch 125/512: Train Loss = 0.25417, Validation Loss = 0.27135, Train Accuracy = 0.80868, Validation Accuracy = 0.79860\n"
     ]
    },
    {
     "name": "stderr",
     "output_type": "stream",
     "text": [
      "Epoch 126/512: 100%|██████████████████████████████████████████████████████████████████████████████████████████████████████████| 910/910 [00:27<00:00, 33.18it/s]\n"
     ]
    },
    {
     "name": "stdout",
     "output_type": "stream",
     "text": [
      "Epoch 126/512: Train Loss = 0.25198, Validation Loss = 0.26171, Train Accuracy = 0.80821, Validation Accuracy = 0.80891\n"
     ]
    },
    {
     "name": "stderr",
     "output_type": "stream",
     "text": [
      "Epoch 127/512: 100%|██████████████████████████████████████████████████████████████████████████████████████████████████████████| 910/910 [00:27<00:00, 33.24it/s]\n"
     ]
    },
    {
     "name": "stdout",
     "output_type": "stream",
     "text": [
      "Epoch 127/512: Train Loss = 0.25271, Validation Loss = 0.26336, Train Accuracy = 0.80838, Validation Accuracy = 0.80795\n"
     ]
    },
    {
     "name": "stderr",
     "output_type": "stream",
     "text": [
      "Epoch 128/512: 100%|██████████████████████████████████████████████████████████████████████████████████████████████████████████| 910/910 [00:27<00:00, 33.23it/s]\n"
     ]
    },
    {
     "name": "stdout",
     "output_type": "stream",
     "text": [
      "Epoch 128/512: Train Loss = 0.25271, Validation Loss = 0.26711, Train Accuracy = 0.80880, Validation Accuracy = 0.80313\n"
     ]
    },
    {
     "name": "stderr",
     "output_type": "stream",
     "text": [
      "Epoch 129/512: 100%|██████████████████████████████████████████████████████████████████████████████████████████████████████████| 910/910 [00:27<00:00, 33.16it/s]\n"
     ]
    },
    {
     "name": "stdout",
     "output_type": "stream",
     "text": [
      "Epoch 129/512: Train Loss = 0.25199, Validation Loss = 0.26583, Train Accuracy = 0.80898, Validation Accuracy = 0.80602\n"
     ]
    },
    {
     "name": "stderr",
     "output_type": "stream",
     "text": [
      "Epoch 130/512: 100%|██████████████████████████████████████████████████████████████████████████████████████████████████████████| 910/910 [00:27<00:00, 33.01it/s]\n"
     ]
    },
    {
     "name": "stdout",
     "output_type": "stream",
     "text": [
      "Epoch 130/512: Train Loss = 0.25209, Validation Loss = 0.26773, Train Accuracy = 0.80699, Validation Accuracy = 0.80781\n"
     ]
    },
    {
     "name": "stderr",
     "output_type": "stream",
     "text": [
      "Epoch 131/512: 100%|██████████████████████████████████████████████████████████████████████████████████████████████████████████| 910/910 [00:27<00:00, 33.43it/s]\n"
     ]
    },
    {
     "name": "stdout",
     "output_type": "stream",
     "text": [
      "Epoch 131/512: Train Loss = 0.25109, Validation Loss = 0.26408, Train Accuracy = 0.81036, Validation Accuracy = 0.80712\n"
     ]
    },
    {
     "name": "stderr",
     "output_type": "stream",
     "text": [
      "Epoch 132/512: 100%|██████████████████████████████████████████████████████████████████████████████████████████████████████████| 910/910 [00:27<00:00, 32.99it/s]\n"
     ]
    },
    {
     "name": "stdout",
     "output_type": "stream",
     "text": [
      "Epoch 132/512: Train Loss = 0.25137, Validation Loss = 0.26198, Train Accuracy = 0.80795, Validation Accuracy = 0.80698\n"
     ]
    },
    {
     "name": "stderr",
     "output_type": "stream",
     "text": [
      "Epoch 133/512: 100%|██████████████████████████████████████████████████████████████████████████████████████████████████████████| 910/910 [00:27<00:00, 33.12it/s]\n"
     ]
    },
    {
     "name": "stdout",
     "output_type": "stream",
     "text": [
      "Epoch 133/512: Train Loss = 0.24924, Validation Loss = 0.27633, Train Accuracy = 0.80831, Validation Accuracy = 0.80781\n"
     ]
    },
    {
     "name": "stderr",
     "output_type": "stream",
     "text": [
      "Epoch 134/512: 100%|██████████████████████████████████████████████████████████████████████████████████████████████████████████| 910/910 [00:27<00:00, 33.01it/s]\n"
     ]
    },
    {
     "name": "stdout",
     "output_type": "stream",
     "text": [
      "Epoch 134/512: Train Loss = 0.24978, Validation Loss = 0.26428, Train Accuracy = 0.81117, Validation Accuracy = 0.80465\n"
     ]
    },
    {
     "name": "stderr",
     "output_type": "stream",
     "text": [
      "Epoch 135/512: 100%|██████████████████████████████████████████████████████████████████████████████████████████████████████████| 910/910 [00:27<00:00, 33.41it/s]\n"
     ]
    },
    {
     "name": "stdout",
     "output_type": "stream",
     "text": [
      "Epoch 135/512: Train Loss = 0.25039, Validation Loss = 0.26419, Train Accuracy = 0.80917, Validation Accuracy = 0.80588\n"
     ]
    },
    {
     "name": "stderr",
     "output_type": "stream",
     "text": [
      "Epoch 136/512: 100%|██████████████████████████████████████████████████████████████████████████████████████████████████████████| 910/910 [00:27<00:00, 33.11it/s]\n"
     ]
    },
    {
     "name": "stdout",
     "output_type": "stream",
     "text": [
      "Epoch 136/512: Train Loss = 0.24962, Validation Loss = 0.27093, Train Accuracy = 0.80998, Validation Accuracy = 0.80327\n"
     ]
    },
    {
     "name": "stderr",
     "output_type": "stream",
     "text": [
      "Epoch 137/512: 100%|██████████████████████████████████████████████████████████████████████████████████████████████████████████| 910/910 [00:27<00:00, 33.35it/s]\n"
     ]
    },
    {
     "name": "stdout",
     "output_type": "stream",
     "text": [
      "Epoch 137/512: Train Loss = 0.24881, Validation Loss = 0.26854, Train Accuracy = 0.81041, Validation Accuracy = 0.81028\n"
     ]
    },
    {
     "name": "stderr",
     "output_type": "stream",
     "text": [
      "Epoch 138/512: 100%|██████████████████████████████████████████████████████████████████████████████████████████████████████████| 910/910 [00:27<00:00, 33.27it/s]\n"
     ]
    },
    {
     "name": "stdout",
     "output_type": "stream",
     "text": [
      "Epoch 138/512: Train Loss = 0.24750, Validation Loss = 0.27037, Train Accuracy = 0.81118, Validation Accuracy = 0.80190\n"
     ]
    },
    {
     "name": "stderr",
     "output_type": "stream",
     "text": [
      "Epoch 139/512: 100%|██████████████████████████████████████████████████████████████████████████████████████████████████████████| 910/910 [00:27<00:00, 33.43it/s]\n"
     ]
    },
    {
     "name": "stdout",
     "output_type": "stream",
     "text": [
      "Epoch 139/512: Train Loss = 0.24836, Validation Loss = 0.26604, Train Accuracy = 0.81019, Validation Accuracy = 0.80451\n"
     ]
    },
    {
     "name": "stderr",
     "output_type": "stream",
     "text": [
      "Epoch 140/512: 100%|██████████████████████████████████████████████████████████████████████████████████████████████████████████| 910/910 [00:27<00:00, 33.18it/s]\n"
     ]
    },
    {
     "name": "stdout",
     "output_type": "stream",
     "text": [
      "Epoch 140/512: Train Loss = 0.24757, Validation Loss = 0.26113, Train Accuracy = 0.81110, Validation Accuracy = 0.80863\n"
     ]
    },
    {
     "name": "stderr",
     "output_type": "stream",
     "text": [
      "Epoch 141/512: 100%|██████████████████████████████████████████████████████████████████████████████████████████████████████████| 910/910 [00:27<00:00, 33.18it/s]\n"
     ]
    },
    {
     "name": "stdout",
     "output_type": "stream",
     "text": [
      "Epoch 141/512: Train Loss = 0.24767, Validation Loss = 0.26147, Train Accuracy = 0.81130, Validation Accuracy = 0.80905\n"
     ]
    },
    {
     "name": "stderr",
     "output_type": "stream",
     "text": [
      "Epoch 142/512: 100%|██████████████████████████████████████████████████████████████████████████████████████████████████████████| 910/910 [00:27<00:00, 33.26it/s]\n"
     ]
    },
    {
     "name": "stdout",
     "output_type": "stream",
     "text": [
      "Epoch 142/512: Train Loss = 0.24744, Validation Loss = 0.26392, Train Accuracy = 0.81098, Validation Accuracy = 0.81235\n"
     ]
    },
    {
     "name": "stderr",
     "output_type": "stream",
     "text": [
      "Epoch 143/512: 100%|██████████████████████████████████████████████████████████████████████████████████████████████████████████| 910/910 [00:27<00:00, 33.38it/s]\n"
     ]
    },
    {
     "name": "stdout",
     "output_type": "stream",
     "text": [
      "Epoch 143/512: Train Loss = 0.24579, Validation Loss = 0.26630, Train Accuracy = 0.81077, Validation Accuracy = 0.80575\n"
     ]
    },
    {
     "name": "stderr",
     "output_type": "stream",
     "text": [
      "Epoch 144/512: 100%|██████████████████████████████████████████████████████████████████████████████████████████████████████████| 910/910 [00:27<00:00, 33.02it/s]\n"
     ]
    },
    {
     "name": "stdout",
     "output_type": "stream",
     "text": [
      "Epoch 144/512: Train Loss = 0.24749, Validation Loss = 0.27190, Train Accuracy = 0.81100, Validation Accuracy = 0.80657\n"
     ]
    },
    {
     "name": "stderr",
     "output_type": "stream",
     "text": [
      "Epoch 145/512: 100%|██████████████████████████████████████████████████████████████████████████████████████████████████████████| 910/910 [00:27<00:00, 33.01it/s]\n"
     ]
    },
    {
     "name": "stdout",
     "output_type": "stream",
     "text": [
      "Epoch 145/512: Train Loss = 0.24730, Validation Loss = 0.26390, Train Accuracy = 0.81309, Validation Accuracy = 0.80272\n"
     ]
    },
    {
     "name": "stderr",
     "output_type": "stream",
     "text": [
      "Epoch 146/512: 100%|██████████████████████████████████████████████████████████████████████████████████████████████████████████| 910/910 [00:27<00:00, 33.24it/s]\n"
     ]
    },
    {
     "name": "stdout",
     "output_type": "stream",
     "text": [
      "Epoch 146/512: Train Loss = 0.24682, Validation Loss = 0.26570, Train Accuracy = 0.81120, Validation Accuracy = 0.80795\n"
     ]
    },
    {
     "name": "stderr",
     "output_type": "stream",
     "text": [
      "Epoch 147/512: 100%|██████████████████████████████████████████████████████████████████████████████████████████████████████████| 910/910 [00:27<00:00, 33.06it/s]\n"
     ]
    },
    {
     "name": "stdout",
     "output_type": "stream",
     "text": [
      "Epoch 147/512: Train Loss = 0.24601, Validation Loss = 0.27122, Train Accuracy = 0.81124, Validation Accuracy = 0.80478\n"
     ]
    },
    {
     "name": "stderr",
     "output_type": "stream",
     "text": [
      "Epoch 148/512: 100%|██████████████████████████████████████████████████████████████████████████████████████████████████████████| 910/910 [00:27<00:00, 33.04it/s]\n"
     ]
    },
    {
     "name": "stdout",
     "output_type": "stream",
     "text": [
      "Epoch 148/512: Train Loss = 0.24558, Validation Loss = 0.27913, Train Accuracy = 0.81289, Validation Accuracy = 0.80107\n"
     ]
    },
    {
     "name": "stderr",
     "output_type": "stream",
     "text": [
      "Epoch 149/512: 100%|██████████████████████████████████████████████████████████████████████████████████████████████████████████| 910/910 [00:27<00:00, 33.26it/s]\n"
     ]
    },
    {
     "name": "stdout",
     "output_type": "stream",
     "text": [
      "Epoch 149/512: Train Loss = 0.24590, Validation Loss = 0.26736, Train Accuracy = 0.81173, Validation Accuracy = 0.80520\n"
     ]
    },
    {
     "name": "stderr",
     "output_type": "stream",
     "text": [
      "Epoch 150/512: 100%|██████████████████████████████████████████████████████████████████████████████████████████████████████████| 910/910 [00:27<00:00, 33.06it/s]\n"
     ]
    },
    {
     "name": "stdout",
     "output_type": "stream",
     "text": [
      "Epoch 150/512: Train Loss = 0.24441, Validation Loss = 0.26043, Train Accuracy = 0.81161, Validation Accuracy = 0.80698\n"
     ]
    },
    {
     "name": "stderr",
     "output_type": "stream",
     "text": [
      "Epoch 151/512: 100%|██████████████████████████████████████████████████████████████████████████████████████████████████████████| 910/910 [00:27<00:00, 33.36it/s]\n"
     ]
    },
    {
     "name": "stdout",
     "output_type": "stream",
     "text": [
      "Epoch 151/512: Train Loss = 0.24308, Validation Loss = 0.26401, Train Accuracy = 0.81294, Validation Accuracy = 0.79929\n"
     ]
    },
    {
     "name": "stderr",
     "output_type": "stream",
     "text": [
      "Epoch 152/512: 100%|██████████████████████████████████████████████████████████████████████████████████████████████████████████| 910/910 [00:27<00:00, 32.92it/s]\n"
     ]
    },
    {
     "name": "stdout",
     "output_type": "stream",
     "text": [
      "Epoch 152/512: Train Loss = 0.24391, Validation Loss = 0.25963, Train Accuracy = 0.81359, Validation Accuracy = 0.80808\n"
     ]
    },
    {
     "name": "stderr",
     "output_type": "stream",
     "text": [
      "Epoch 153/512: 100%|██████████████████████████████████████████████████████████████████████████████████████████████████████████| 910/910 [00:27<00:00, 33.30it/s]\n"
     ]
    },
    {
     "name": "stdout",
     "output_type": "stream",
     "text": [
      "Epoch 153/512: Train Loss = 0.24268, Validation Loss = 0.26784, Train Accuracy = 0.81419, Validation Accuracy = 0.80822\n"
     ]
    },
    {
     "name": "stderr",
     "output_type": "stream",
     "text": [
      "Epoch 154/512: 100%|██████████████████████████████████████████████████████████████████████████████████████████████████████████| 910/910 [00:27<00:00, 32.80it/s]\n"
     ]
    },
    {
     "name": "stdout",
     "output_type": "stream",
     "text": [
      "Epoch 154/512: Train Loss = 0.24370, Validation Loss = 0.26160, Train Accuracy = 0.81333, Validation Accuracy = 0.81180\n"
     ]
    },
    {
     "name": "stderr",
     "output_type": "stream",
     "text": [
      "Epoch 155/512: 100%|██████████████████████████████████████████████████████████████████████████████████████████████████████████| 910/910 [00:27<00:00, 32.96it/s]\n"
     ]
    },
    {
     "name": "stdout",
     "output_type": "stream",
     "text": [
      "Epoch 155/512: Train Loss = 0.24260, Validation Loss = 0.26442, Train Accuracy = 0.81366, Validation Accuracy = 0.80781\n"
     ]
    },
    {
     "name": "stderr",
     "output_type": "stream",
     "text": [
      "Epoch 156/512: 100%|██████████████████████████████████████████████████████████████████████████████████████████████████████████| 910/910 [00:27<00:00, 33.14it/s]\n"
     ]
    },
    {
     "name": "stdout",
     "output_type": "stream",
     "text": [
      "Epoch 156/512: Train Loss = 0.24339, Validation Loss = 0.25894, Train Accuracy = 0.81206, Validation Accuracy = 0.80616\n"
     ]
    },
    {
     "name": "stderr",
     "output_type": "stream",
     "text": [
      "Epoch 157/512: 100%|██████████████████████████████████████████████████████████████████████████████████████████████████████████| 910/910 [00:27<00:00, 33.03it/s]\n"
     ]
    },
    {
     "name": "stdout",
     "output_type": "stream",
     "text": [
      "Epoch 157/512: Train Loss = 0.24178, Validation Loss = 0.25443, Train Accuracy = 0.81469, Validation Accuracy = 0.81207\n"
     ]
    },
    {
     "name": "stderr",
     "output_type": "stream",
     "text": [
      "Epoch 158/512: 100%|██████████████████████████████████████████████████████████████████████████████████████████████████████████| 910/910 [00:27<00:00, 33.20it/s]\n"
     ]
    },
    {
     "name": "stdout",
     "output_type": "stream",
     "text": [
      "Epoch 158/512: Train Loss = 0.24274, Validation Loss = 0.25746, Train Accuracy = 0.81615, Validation Accuracy = 0.80973\n"
     ]
    },
    {
     "name": "stderr",
     "output_type": "stream",
     "text": [
      "Epoch 159/512: 100%|██████████████████████████████████████████████████████████████████████████████████████████████████████████| 910/910 [00:27<00:00, 32.91it/s]\n"
     ]
    },
    {
     "name": "stdout",
     "output_type": "stream",
     "text": [
      "Epoch 159/512: Train Loss = 0.24182, Validation Loss = 0.26802, Train Accuracy = 0.81514, Validation Accuracy = 0.80740\n"
     ]
    },
    {
     "name": "stderr",
     "output_type": "stream",
     "text": [
      "Epoch 160/512: 100%|██████████████████████████████████████████████████████████████████████████████████████████████████████████| 910/910 [00:27<00:00, 33.05it/s]\n"
     ]
    },
    {
     "name": "stdout",
     "output_type": "stream",
     "text": [
      "Epoch 160/512: Train Loss = 0.24123, Validation Loss = 0.25931, Train Accuracy = 0.81371, Validation Accuracy = 0.80286\n"
     ]
    },
    {
     "name": "stderr",
     "output_type": "stream",
     "text": [
      "Epoch 161/512: 100%|██████████████████████████████████████████████████████████████████████████████████████████████████████████| 910/910 [00:27<00:00, 33.16it/s]\n"
     ]
    },
    {
     "name": "stdout",
     "output_type": "stream",
     "text": [
      "Epoch 161/512: Train Loss = 0.24156, Validation Loss = 0.26524, Train Accuracy = 0.81472, Validation Accuracy = 0.81262\n"
     ]
    },
    {
     "name": "stderr",
     "output_type": "stream",
     "text": [
      "Epoch 162/512: 100%|██████████████████████████████████████████████████████████████████████████████████████████████████████████| 910/910 [00:27<00:00, 33.20it/s]\n"
     ]
    },
    {
     "name": "stdout",
     "output_type": "stream",
     "text": [
      "Epoch 162/512: Train Loss = 0.23991, Validation Loss = 0.25945, Train Accuracy = 0.81589, Validation Accuracy = 0.80960\n"
     ]
    },
    {
     "name": "stderr",
     "output_type": "stream",
     "text": [
      "Epoch 163/512: 100%|██████████████████████████████████████████████████████████████████████████████████████████████████████████| 910/910 [00:27<00:00, 33.11it/s]\n"
     ]
    },
    {
     "name": "stdout",
     "output_type": "stream",
     "text": [
      "Epoch 163/512: Train Loss = 0.24038, Validation Loss = 0.26310, Train Accuracy = 0.81421, Validation Accuracy = 0.80973\n"
     ]
    },
    {
     "name": "stderr",
     "output_type": "stream",
     "text": [
      "Epoch 164/512: 100%|██████████████████████████████████████████████████████████████████████████████████████████████████████████| 910/910 [00:27<00:00, 32.99it/s]\n"
     ]
    },
    {
     "name": "stdout",
     "output_type": "stream",
     "text": [
      "Epoch 164/512: Train Loss = 0.24063, Validation Loss = 0.25957, Train Accuracy = 0.81471, Validation Accuracy = 0.81331\n"
     ]
    },
    {
     "name": "stderr",
     "output_type": "stream",
     "text": [
      "Epoch 165/512: 100%|██████████████████████████████████████████████████████████████████████████████████████████████████████████| 910/910 [00:27<00:00, 33.02it/s]\n"
     ]
    },
    {
     "name": "stdout",
     "output_type": "stream",
     "text": [
      "Epoch 165/512: Train Loss = 0.24069, Validation Loss = 0.26341, Train Accuracy = 0.81301, Validation Accuracy = 0.81413\n"
     ]
    },
    {
     "name": "stderr",
     "output_type": "stream",
     "text": [
      "Epoch 166/512: 100%|██████████████████████████████████████████████████████████████████████████████████████████████████████████| 910/910 [00:27<00:00, 32.91it/s]\n"
     ]
    },
    {
     "name": "stdout",
     "output_type": "stream",
     "text": [
      "Epoch 166/512: Train Loss = 0.23863, Validation Loss = 0.25718, Train Accuracy = 0.81646, Validation Accuracy = 0.81111\n"
     ]
    },
    {
     "name": "stderr",
     "output_type": "stream",
     "text": [
      "Epoch 167/512: 100%|██████████████████████████████████████████████████████████████████████████████████████████████████████████| 910/910 [00:27<00:00, 33.27it/s]\n"
     ]
    },
    {
     "name": "stdout",
     "output_type": "stream",
     "text": [
      "Epoch 167/512: Train Loss = 0.23866, Validation Loss = 0.26019, Train Accuracy = 0.81500, Validation Accuracy = 0.81166\n"
     ]
    },
    {
     "name": "stderr",
     "output_type": "stream",
     "text": [
      "Epoch 168/512: 100%|██████████████████████████████████████████████████████████████████████████████████████████████████████████| 910/910 [00:27<00:00, 32.81it/s]\n"
     ]
    },
    {
     "name": "stdout",
     "output_type": "stream",
     "text": [
      "Epoch 168/512: Train Loss = 0.23869, Validation Loss = 0.26895, Train Accuracy = 0.81416, Validation Accuracy = 0.80740\n"
     ]
    },
    {
     "name": "stderr",
     "output_type": "stream",
     "text": [
      "Epoch 169/512: 100%|██████████████████████████████████████████████████████████████████████████████████████████████████████████| 910/910 [00:27<00:00, 33.37it/s]\n"
     ]
    },
    {
     "name": "stdout",
     "output_type": "stream",
     "text": [
      "Epoch 169/512: Train Loss = 0.23862, Validation Loss = 0.26475, Train Accuracy = 0.81656, Validation Accuracy = 0.80506\n"
     ]
    },
    {
     "name": "stderr",
     "output_type": "stream",
     "text": [
      "Epoch 170/512: 100%|██████████████████████████████████████████████████████████████████████████████████████████████████████████| 910/910 [00:27<00:00, 32.96it/s]\n"
     ]
    },
    {
     "name": "stdout",
     "output_type": "stream",
     "text": [
      "Epoch 170/512: Train Loss = 0.23876, Validation Loss = 0.26432, Train Accuracy = 0.81686, Validation Accuracy = 0.80478\n"
     ]
    },
    {
     "name": "stderr",
     "output_type": "stream",
     "text": [
      "Epoch 171/512: 100%|██████████████████████████████████████████████████████████████████████████████████████████████████████████| 910/910 [00:27<00:00, 33.40it/s]\n"
     ]
    },
    {
     "name": "stdout",
     "output_type": "stream",
     "text": [
      "Epoch 171/512: Train Loss = 0.23740, Validation Loss = 0.25730, Train Accuracy = 0.81524, Validation Accuracy = 0.81482\n"
     ]
    },
    {
     "name": "stderr",
     "output_type": "stream",
     "text": [
      "Epoch 172/512: 100%|██████████████████████████████████████████████████████████████████████████████████████████████████████████| 910/910 [00:27<00:00, 33.04it/s]\n"
     ]
    },
    {
     "name": "stdout",
     "output_type": "stream",
     "text": [
      "Epoch 172/512: Train Loss = 0.23685, Validation Loss = 0.25781, Train Accuracy = 0.81570, Validation Accuracy = 0.81358\n"
     ]
    },
    {
     "name": "stderr",
     "output_type": "stream",
     "text": [
      "Epoch 173/512: 100%|██████████████████████████████████████████████████████████████████████████████████████████████████████████| 910/910 [00:27<00:00, 33.23it/s]\n"
     ]
    },
    {
     "name": "stdout",
     "output_type": "stream",
     "text": [
      "Epoch 173/512: Train Loss = 0.23877, Validation Loss = 0.25633, Train Accuracy = 0.81550, Validation Accuracy = 0.81083\n"
     ]
    },
    {
     "name": "stderr",
     "output_type": "stream",
     "text": [
      "Epoch 174/512: 100%|██████████████████████████████████████████████████████████████████████████████████████████████████████████| 910/910 [00:27<00:00, 32.90it/s]\n"
     ]
    },
    {
     "name": "stdout",
     "output_type": "stream",
     "text": [
      "Epoch 174/512: Train Loss = 0.23798, Validation Loss = 0.25687, Train Accuracy = 0.81512, Validation Accuracy = 0.81248\n"
     ]
    },
    {
     "name": "stderr",
     "output_type": "stream",
     "text": [
      "Epoch 175/512: 100%|██████████████████████████████████████████████████████████████████████████████████████████████████████████| 910/910 [00:27<00:00, 33.23it/s]\n"
     ]
    },
    {
     "name": "stdout",
     "output_type": "stream",
     "text": [
      "Epoch 175/512: Train Loss = 0.23648, Validation Loss = 0.25332, Train Accuracy = 0.81675, Validation Accuracy = 0.81097\n"
     ]
    },
    {
     "name": "stderr",
     "output_type": "stream",
     "text": [
      "Epoch 176/512: 100%|██████████████████████████████████████████████████████████████████████████████████████████████████████████| 910/910 [00:27<00:00, 33.15it/s]\n"
     ]
    },
    {
     "name": "stdout",
     "output_type": "stream",
     "text": [
      "Epoch 176/512: Train Loss = 0.23593, Validation Loss = 0.25651, Train Accuracy = 0.81641, Validation Accuracy = 0.81138\n"
     ]
    },
    {
     "name": "stderr",
     "output_type": "stream",
     "text": [
      "Epoch 177/512: 100%|██████████████████████████████████████████████████████████████████████████████████████████████████████████| 910/910 [00:27<00:00, 32.85it/s]\n"
     ]
    },
    {
     "name": "stdout",
     "output_type": "stream",
     "text": [
      "Epoch 177/512: Train Loss = 0.23570, Validation Loss = 0.25495, Train Accuracy = 0.81629, Validation Accuracy = 0.81180\n"
     ]
    },
    {
     "name": "stderr",
     "output_type": "stream",
     "text": [
      "Epoch 178/512: 100%|██████████████████████████████████████████████████████████████████████████████████████████████████████████| 910/910 [00:27<00:00, 32.93it/s]\n"
     ]
    },
    {
     "name": "stdout",
     "output_type": "stream",
     "text": [
      "Epoch 178/512: Train Loss = 0.23790, Validation Loss = 0.26389, Train Accuracy = 0.81553, Validation Accuracy = 0.81166\n"
     ]
    },
    {
     "name": "stderr",
     "output_type": "stream",
     "text": [
      "Epoch 179/512: 100%|██████████████████████████████████████████████████████████████████████████████████████████████████████████| 910/910 [00:27<00:00, 33.20it/s]\n"
     ]
    },
    {
     "name": "stdout",
     "output_type": "stream",
     "text": [
      "Epoch 179/512: Train Loss = 0.23462, Validation Loss = 0.25684, Train Accuracy = 0.81849, Validation Accuracy = 0.81441\n"
     ]
    },
    {
     "name": "stderr",
     "output_type": "stream",
     "text": [
      "Epoch 180/512: 100%|██████████████████████████████████████████████████████████████████████████████████████████████████████████| 910/910 [00:27<00:00, 33.17it/s]\n"
     ]
    },
    {
     "name": "stdout",
     "output_type": "stream",
     "text": [
      "Epoch 180/512: Train Loss = 0.23518, Validation Loss = 0.25900, Train Accuracy = 0.81868, Validation Accuracy = 0.81276\n"
     ]
    },
    {
     "name": "stderr",
     "output_type": "stream",
     "text": [
      "Epoch 181/512: 100%|██████████████████████████████████████████████████████████████████████████████████████████████████████████| 910/910 [00:27<00:00, 32.96it/s]\n"
     ]
    },
    {
     "name": "stdout",
     "output_type": "stream",
     "text": [
      "Epoch 181/512: Train Loss = 0.23432, Validation Loss = 0.25451, Train Accuracy = 0.81682, Validation Accuracy = 0.80822\n"
     ]
    },
    {
     "name": "stderr",
     "output_type": "stream",
     "text": [
      "Epoch 182/512: 100%|██████████████████████████████████████████████████████████████████████████████████████████████████████████| 910/910 [00:27<00:00, 33.10it/s]\n"
     ]
    },
    {
     "name": "stdout",
     "output_type": "stream",
     "text": [
      "Epoch 182/512: Train Loss = 0.23564, Validation Loss = 0.26095, Train Accuracy = 0.81759, Validation Accuracy = 0.81303\n"
     ]
    },
    {
     "name": "stderr",
     "output_type": "stream",
     "text": [
      "Epoch 183/512: 100%|██████████████████████████████████████████████████████████████████████████████████████████████████████████| 910/910 [00:27<00:00, 33.17it/s]\n"
     ]
    },
    {
     "name": "stdout",
     "output_type": "stream",
     "text": [
      "Epoch 183/512: Train Loss = 0.23412, Validation Loss = 0.25423, Train Accuracy = 0.81814, Validation Accuracy = 0.81180\n"
     ]
    },
    {
     "name": "stderr",
     "output_type": "stream",
     "text": [
      "Epoch 184/512: 100%|██████████████████████████████████████████████████████████████████████████████████████████████████████████| 910/910 [00:27<00:00, 33.40it/s]\n"
     ]
    },
    {
     "name": "stdout",
     "output_type": "stream",
     "text": [
      "Epoch 184/512: Train Loss = 0.23483, Validation Loss = 0.24838, Train Accuracy = 0.82040, Validation Accuracy = 0.81578\n"
     ]
    },
    {
     "name": "stderr",
     "output_type": "stream",
     "text": [
      "Epoch 185/512: 100%|██████████████████████████████████████████████████████████████████████████████████████████████████████████| 910/910 [00:27<00:00, 33.10it/s]\n"
     ]
    },
    {
     "name": "stdout",
     "output_type": "stream",
     "text": [
      "Epoch 185/512: Train Loss = 0.23420, Validation Loss = 0.25286, Train Accuracy = 0.81729, Validation Accuracy = 0.81152\n"
     ]
    },
    {
     "name": "stderr",
     "output_type": "stream",
     "text": [
      "Epoch 186/512: 100%|██████████████████████████████████████████████████████████████████████████████████████████████████████████| 910/910 [00:27<00:00, 33.32it/s]\n"
     ]
    },
    {
     "name": "stdout",
     "output_type": "stream",
     "text": [
      "Epoch 186/512: Train Loss = 0.23306, Validation Loss = 0.25573, Train Accuracy = 0.81990, Validation Accuracy = 0.81400\n"
     ]
    },
    {
     "name": "stderr",
     "output_type": "stream",
     "text": [
      "Epoch 187/512: 100%|██████████████████████████████████████████████████████████████████████████████████████████████████████████| 910/910 [00:27<00:00, 33.01it/s]\n"
     ]
    },
    {
     "name": "stdout",
     "output_type": "stream",
     "text": [
      "Epoch 187/512: Train Loss = 0.23285, Validation Loss = 0.25157, Train Accuracy = 0.81952, Validation Accuracy = 0.81221\n"
     ]
    },
    {
     "name": "stderr",
     "output_type": "stream",
     "text": [
      "Epoch 188/512: 100%|██████████████████████████████████████████████████████████████████████████████████████████████████████████| 910/910 [00:27<00:00, 33.46it/s]\n"
     ]
    },
    {
     "name": "stdout",
     "output_type": "stream",
     "text": [
      "Epoch 188/512: Train Loss = 0.23234, Validation Loss = 0.25605, Train Accuracy = 0.81961, Validation Accuracy = 0.80836\n"
     ]
    },
    {
     "name": "stderr",
     "output_type": "stream",
     "text": [
      "Epoch 189/512: 100%|██████████████████████████████████████████████████████████████████████████████████████████████████████████| 910/910 [00:27<00:00, 32.92it/s]\n"
     ]
    },
    {
     "name": "stdout",
     "output_type": "stream",
     "text": [
      "Epoch 189/512: Train Loss = 0.23408, Validation Loss = 0.25761, Train Accuracy = 0.81895, Validation Accuracy = 0.80960\n"
     ]
    },
    {
     "name": "stderr",
     "output_type": "stream",
     "text": [
      "Epoch 190/512: 100%|██████████████████████████████████████████████████████████████████████████████████████████████████████████| 910/910 [00:27<00:00, 33.12it/s]\n"
     ]
    },
    {
     "name": "stdout",
     "output_type": "stream",
     "text": [
      "Epoch 190/512: Train Loss = 0.23134, Validation Loss = 0.26538, Train Accuracy = 0.82003, Validation Accuracy = 0.80891\n"
     ]
    },
    {
     "name": "stderr",
     "output_type": "stream",
     "text": [
      "Epoch 191/512: 100%|██████████████████████████████████████████████████████████████████████████████████████████████████████████| 910/910 [00:27<00:00, 33.12it/s]\n"
     ]
    },
    {
     "name": "stdout",
     "output_type": "stream",
     "text": [
      "Epoch 191/512: Train Loss = 0.23155, Validation Loss = 0.25202, Train Accuracy = 0.82017, Validation Accuracy = 0.81028\n"
     ]
    },
    {
     "name": "stderr",
     "output_type": "stream",
     "text": [
      "Epoch 192/512: 100%|██████████████████████████████████████████████████████████████████████████████████████████████████████████| 910/910 [00:27<00:00, 32.99it/s]\n"
     ]
    },
    {
     "name": "stdout",
     "output_type": "stream",
     "text": [
      "Epoch 192/512: Train Loss = 0.23241, Validation Loss = 0.25384, Train Accuracy = 0.81921, Validation Accuracy = 0.81372\n"
     ]
    },
    {
     "name": "stderr",
     "output_type": "stream",
     "text": [
      "Epoch 193/512: 100%|██████████████████████████████████████████████████████████████████████████████████████████████████████████| 910/910 [00:27<00:00, 33.21it/s]\n"
     ]
    },
    {
     "name": "stdout",
     "output_type": "stream",
     "text": [
      "Epoch 193/512: Train Loss = 0.23225, Validation Loss = 0.25992, Train Accuracy = 0.81770, Validation Accuracy = 0.81523\n"
     ]
    },
    {
     "name": "stderr",
     "output_type": "stream",
     "text": [
      "Epoch 194/512: 100%|██████████████████████████████████████████████████████████████████████████████████████████████████████████| 910/910 [00:27<00:00, 33.03it/s]\n"
     ]
    },
    {
     "name": "stdout",
     "output_type": "stream",
     "text": [
      "Epoch 194/512: Train Loss = 0.23068, Validation Loss = 0.25609, Train Accuracy = 0.81892, Validation Accuracy = 0.81345\n"
     ]
    },
    {
     "name": "stderr",
     "output_type": "stream",
     "text": [
      "Epoch 195/512: 100%|██████████████████████████████████████████████████████████████████████████████████████████████████████████| 910/910 [00:27<00:00, 33.40it/s]\n"
     ]
    },
    {
     "name": "stdout",
     "output_type": "stream",
     "text": [
      "Epoch 195/512: Train Loss = 0.23040, Validation Loss = 0.25734, Train Accuracy = 0.81981, Validation Accuracy = 0.81083\n"
     ]
    },
    {
     "name": "stderr",
     "output_type": "stream",
     "text": [
      "Epoch 196/512: 100%|██████████████████████████████████████████████████████████████████████████████████████████████████████████| 910/910 [00:27<00:00, 33.02it/s]\n"
     ]
    },
    {
     "name": "stdout",
     "output_type": "stream",
     "text": [
      "Epoch 196/512: Train Loss = 0.23064, Validation Loss = 0.25186, Train Accuracy = 0.82050, Validation Accuracy = 0.81564\n"
     ]
    },
    {
     "name": "stderr",
     "output_type": "stream",
     "text": [
      "Epoch 197/512: 100%|██████████████████████████████████████████████████████████████████████████████████████████████████████████| 910/910 [00:27<00:00, 33.10it/s]\n"
     ]
    },
    {
     "name": "stdout",
     "output_type": "stream",
     "text": [
      "Epoch 197/512: Train Loss = 0.23050, Validation Loss = 0.25584, Train Accuracy = 0.81808, Validation Accuracy = 0.81592\n"
     ]
    },
    {
     "name": "stderr",
     "output_type": "stream",
     "text": [
      "Epoch 198/512: 100%|██████████████████████████████████████████████████████████████████████████████████████████████████████████| 910/910 [00:27<00:00, 32.97it/s]\n"
     ]
    },
    {
     "name": "stdout",
     "output_type": "stream",
     "text": [
      "Epoch 198/512: Train Loss = 0.23029, Validation Loss = 0.25288, Train Accuracy = 0.82088, Validation Accuracy = 0.81358\n"
     ]
    },
    {
     "name": "stderr",
     "output_type": "stream",
     "text": [
      "Epoch 199/512: 100%|██████████████████████████████████████████████████████████████████████████████████████████████████████████| 910/910 [00:27<00:00, 32.99it/s]\n"
     ]
    },
    {
     "name": "stdout",
     "output_type": "stream",
     "text": [
      "Epoch 199/512: Train Loss = 0.23039, Validation Loss = 0.25226, Train Accuracy = 0.81973, Validation Accuracy = 0.81427\n"
     ]
    },
    {
     "name": "stderr",
     "output_type": "stream",
     "text": [
      "Epoch 200/512: 100%|██████████████████████████████████████████████████████████████████████████████████████████████████████████| 910/910 [00:27<00:00, 33.19it/s]\n"
     ]
    },
    {
     "name": "stdout",
     "output_type": "stream",
     "text": [
      "Epoch 200/512: Train Loss = 0.22898, Validation Loss = 0.25594, Train Accuracy = 0.82122, Validation Accuracy = 0.81496\n"
     ]
    },
    {
     "name": "stderr",
     "output_type": "stream",
     "text": [
      "Epoch 201/512: 100%|██████████████████████████████████████████████████████████████████████████████████████████████████████████| 910/910 [00:27<00:00, 33.12it/s]\n"
     ]
    },
    {
     "name": "stdout",
     "output_type": "stream",
     "text": [
      "Epoch 201/512: Train Loss = 0.22930, Validation Loss = 0.25685, Train Accuracy = 0.82125, Validation Accuracy = 0.81606\n"
     ]
    },
    {
     "name": "stderr",
     "output_type": "stream",
     "text": [
      "Epoch 202/512: 100%|██████████████████████████████████████████████████████████████████████████████████████████████████████████| 910/910 [00:27<00:00, 33.09it/s]\n"
     ]
    },
    {
     "name": "stdout",
     "output_type": "stream",
     "text": [
      "Epoch 202/512: Train Loss = 0.22987, Validation Loss = 0.25242, Train Accuracy = 0.82328, Validation Accuracy = 0.81509\n"
     ]
    },
    {
     "name": "stderr",
     "output_type": "stream",
     "text": [
      "Epoch 203/512: 100%|██████████████████████████████████████████████████████████████████████████████████████████████████████████| 910/910 [00:27<00:00, 33.18it/s]\n"
     ]
    },
    {
     "name": "stdout",
     "output_type": "stream",
     "text": [
      "Epoch 203/512: Train Loss = 0.22878, Validation Loss = 0.24601, Train Accuracy = 0.82117, Validation Accuracy = 0.81180\n"
     ]
    },
    {
     "name": "stderr",
     "output_type": "stream",
     "text": [
      "Epoch 204/512: 100%|██████████████████████████████████████████████████████████████████████████████████████████████████████████| 910/910 [00:27<00:00, 33.25it/s]\n"
     ]
    },
    {
     "name": "stdout",
     "output_type": "stream",
     "text": [
      "Epoch 204/512: Train Loss = 0.22888, Validation Loss = 0.25167, Train Accuracy = 0.82026, Validation Accuracy = 0.81592\n"
     ]
    },
    {
     "name": "stderr",
     "output_type": "stream",
     "text": [
      "Epoch 205/512: 100%|██████████████████████████████████████████████████████████████████████████████████████████████████████████| 910/910 [00:27<00:00, 33.35it/s]\n"
     ]
    },
    {
     "name": "stdout",
     "output_type": "stream",
     "text": [
      "Epoch 205/512: Train Loss = 0.22893, Validation Loss = 0.25056, Train Accuracy = 0.82077, Validation Accuracy = 0.81661\n"
     ]
    },
    {
     "name": "stderr",
     "output_type": "stream",
     "text": [
      "Epoch 206/512: 100%|██████████████████████████████████████████████████████████████████████████████████████████████████████████| 910/910 [00:27<00:00, 33.22it/s]\n"
     ]
    },
    {
     "name": "stdout",
     "output_type": "stream",
     "text": [
      "Epoch 206/512: Train Loss = 0.22801, Validation Loss = 0.26530, Train Accuracy = 0.82060, Validation Accuracy = 0.80355\n"
     ]
    },
    {
     "name": "stderr",
     "output_type": "stream",
     "text": [
      "Epoch 207/512: 100%|██████████████████████████████████████████████████████████████████████████████████████████████████████████| 910/910 [00:27<00:00, 33.34it/s]\n"
     ]
    },
    {
     "name": "stdout",
     "output_type": "stream",
     "text": [
      "Epoch 207/512: Train Loss = 0.22798, Validation Loss = 0.25208, Train Accuracy = 0.82315, Validation Accuracy = 0.81812\n"
     ]
    },
    {
     "name": "stderr",
     "output_type": "stream",
     "text": [
      "Epoch 208/512: 100%|██████████████████████████████████████████████████████████████████████████████████████████████████████████| 910/910 [00:27<00:00, 33.13it/s]\n"
     ]
    },
    {
     "name": "stdout",
     "output_type": "stream",
     "text": [
      "Epoch 208/512: Train Loss = 0.22810, Validation Loss = 0.24979, Train Accuracy = 0.82095, Validation Accuracy = 0.81358\n"
     ]
    },
    {
     "name": "stderr",
     "output_type": "stream",
     "text": [
      "Epoch 209/512: 100%|██████████████████████████████████████████████████████████████████████████████████████████████████████████| 910/910 [00:27<00:00, 33.33it/s]\n"
     ]
    },
    {
     "name": "stdout",
     "output_type": "stream",
     "text": [
      "Epoch 209/512: Train Loss = 0.22859, Validation Loss = 0.24794, Train Accuracy = 0.81904, Validation Accuracy = 0.81688\n"
     ]
    },
    {
     "name": "stderr",
     "output_type": "stream",
     "text": [
      "Epoch 210/512: 100%|██████████████████████████████████████████████████████████████████████████████████████████████████████████| 910/910 [00:27<00:00, 33.28it/s]\n"
     ]
    },
    {
     "name": "stdout",
     "output_type": "stream",
     "text": [
      "Epoch 210/512: Train Loss = 0.22796, Validation Loss = 0.25132, Train Accuracy = 0.82280, Validation Accuracy = 0.82046\n"
     ]
    },
    {
     "name": "stderr",
     "output_type": "stream",
     "text": [
      "Epoch 211/512: 100%|██████████████████████████████████████████████████████████████████████████████████████████████████████████| 910/910 [00:27<00:00, 33.22it/s]\n"
     ]
    },
    {
     "name": "stdout",
     "output_type": "stream",
     "text": [
      "Epoch 211/512: Train Loss = 0.22756, Validation Loss = 0.25292, Train Accuracy = 0.82079, Validation Accuracy = 0.81358\n"
     ]
    },
    {
     "name": "stderr",
     "output_type": "stream",
     "text": [
      "Epoch 212/512: 100%|██████████████████████████████████████████████████████████████████████████████████████████████████████████| 910/910 [00:27<00:00, 32.94it/s]\n"
     ]
    },
    {
     "name": "stdout",
     "output_type": "stream",
     "text": [
      "Epoch 212/512: Train Loss = 0.22697, Validation Loss = 0.24947, Train Accuracy = 0.82321, Validation Accuracy = 0.81578\n"
     ]
    },
    {
     "name": "stderr",
     "output_type": "stream",
     "text": [
      "Epoch 213/512: 100%|██████████████████████████████████████████████████████████████████████████████████████████████████████████| 910/910 [00:27<00:00, 33.19it/s]\n"
     ]
    },
    {
     "name": "stdout",
     "output_type": "stream",
     "text": [
      "Epoch 213/512: Train Loss = 0.22556, Validation Loss = 0.25328, Train Accuracy = 0.82306, Validation Accuracy = 0.81358\n"
     ]
    },
    {
     "name": "stderr",
     "output_type": "stream",
     "text": [
      "Epoch 214/512: 100%|██████████████████████████████████████████████████████████████████████████████████████████████████████████| 910/910 [00:27<00:00, 33.04it/s]\n"
     ]
    },
    {
     "name": "stdout",
     "output_type": "stream",
     "text": [
      "Epoch 214/512: Train Loss = 0.22747, Validation Loss = 0.25927, Train Accuracy = 0.82261, Validation Accuracy = 0.81221\n"
     ]
    },
    {
     "name": "stderr",
     "output_type": "stream",
     "text": [
      "Epoch 215/512: 100%|██████████████████████████████████████████████████████████████████████████████████████████████████████████| 910/910 [00:27<00:00, 33.16it/s]\n"
     ]
    },
    {
     "name": "stdout",
     "output_type": "stream",
     "text": [
      "Epoch 215/512: Train Loss = 0.22716, Validation Loss = 0.26438, Train Accuracy = 0.82402, Validation Accuracy = 0.81317\n"
     ]
    },
    {
     "name": "stderr",
     "output_type": "stream",
     "text": [
      "Epoch 216/512: 100%|██████████████████████████████████████████████████████████████████████████████████████████████████████████| 910/910 [00:27<00:00, 33.24it/s]\n"
     ]
    },
    {
     "name": "stdout",
     "output_type": "stream",
     "text": [
      "Epoch 216/512: Train Loss = 0.22592, Validation Loss = 0.25208, Train Accuracy = 0.82421, Validation Accuracy = 0.81358\n"
     ]
    },
    {
     "name": "stderr",
     "output_type": "stream",
     "text": [
      "Epoch 217/512: 100%|██████████████████████████████████████████████████████████████████████████████████████████████████████████| 910/910 [00:27<00:00, 33.32it/s]\n"
     ]
    },
    {
     "name": "stdout",
     "output_type": "stream",
     "text": [
      "Epoch 217/512: Train Loss = 0.22572, Validation Loss = 0.25407, Train Accuracy = 0.82368, Validation Accuracy = 0.81001\n"
     ]
    },
    {
     "name": "stderr",
     "output_type": "stream",
     "text": [
      "Epoch 218/512: 100%|██████████████████████████████████████████████████████████████████████████████████████████████████████████| 910/910 [00:27<00:00, 32.92it/s]\n"
     ]
    },
    {
     "name": "stdout",
     "output_type": "stream",
     "text": [
      "Epoch 218/512: Train Loss = 0.22603, Validation Loss = 0.25100, Train Accuracy = 0.82344, Validation Accuracy = 0.81551\n"
     ]
    },
    {
     "name": "stderr",
     "output_type": "stream",
     "text": [
      "Epoch 219/512: 100%|██████████████████████████████████████████████████████████████████████████████████████████████████████████| 910/910 [00:27<00:00, 33.10it/s]\n"
     ]
    },
    {
     "name": "stdout",
     "output_type": "stream",
     "text": [
      "Epoch 219/512: Train Loss = 0.22504, Validation Loss = 0.25509, Train Accuracy = 0.82290, Validation Accuracy = 0.81592\n"
     ]
    },
    {
     "name": "stderr",
     "output_type": "stream",
     "text": [
      "Epoch 220/512: 100%|██████████████████████████████████████████████████████████████████████████████████████████████████████████| 910/910 [00:27<00:00, 33.15it/s]\n"
     ]
    },
    {
     "name": "stdout",
     "output_type": "stream",
     "text": [
      "Epoch 220/512: Train Loss = 0.22610, Validation Loss = 0.24623, Train Accuracy = 0.82165, Validation Accuracy = 0.81839\n"
     ]
    },
    {
     "name": "stderr",
     "output_type": "stream",
     "text": [
      "Epoch 221/512: 100%|██████████████████████████████████████████████████████████████████████████████████████████████████████████| 910/910 [00:27<00:00, 33.35it/s]\n"
     ]
    },
    {
     "name": "stdout",
     "output_type": "stream",
     "text": [
      "Epoch 221/512: Train Loss = 0.22490, Validation Loss = 0.26057, Train Accuracy = 0.82510, Validation Accuracy = 0.81015\n"
     ]
    },
    {
     "name": "stderr",
     "output_type": "stream",
     "text": [
      "Epoch 222/512: 100%|██████████████████████████████████████████████████████████████████████████████████████████████████████████| 910/910 [00:27<00:00, 32.99it/s]\n"
     ]
    },
    {
     "name": "stdout",
     "output_type": "stream",
     "text": [
      "Epoch 222/512: Train Loss = 0.22564, Validation Loss = 0.25464, Train Accuracy = 0.82352, Validation Accuracy = 0.80616\n"
     ]
    },
    {
     "name": "stderr",
     "output_type": "stream",
     "text": [
      "Epoch 223/512: 100%|██████████████████████████████████████████████████████████████████████████████████████████████████████████| 910/910 [00:27<00:00, 33.20it/s]\n"
     ]
    },
    {
     "name": "stdout",
     "output_type": "stream",
     "text": [
      "Epoch 223/512: Train Loss = 0.22562, Validation Loss = 0.25440, Train Accuracy = 0.82435, Validation Accuracy = 0.81262\n"
     ]
    },
    {
     "name": "stderr",
     "output_type": "stream",
     "text": [
      "Epoch 224/512: 100%|██████████████████████████████████████████████████████████████████████████████████████████████████████████| 910/910 [00:27<00:00, 33.13it/s]\n"
     ]
    },
    {
     "name": "stdout",
     "output_type": "stream",
     "text": [
      "Epoch 224/512: Train Loss = 0.22443, Validation Loss = 0.24888, Train Accuracy = 0.82409, Validation Accuracy = 0.81468\n"
     ]
    },
    {
     "name": "stderr",
     "output_type": "stream",
     "text": [
      "Epoch 225/512: 100%|██████████████████████████████████████████████████████████████████████████████████████████████████████████| 910/910 [00:27<00:00, 32.97it/s]\n"
     ]
    },
    {
     "name": "stdout",
     "output_type": "stream",
     "text": [
      "Epoch 225/512: Train Loss = 0.22491, Validation Loss = 0.24550, Train Accuracy = 0.82402, Validation Accuracy = 0.81922\n"
     ]
    },
    {
     "name": "stderr",
     "output_type": "stream",
     "text": [
      "Epoch 226/512: 100%|██████████████████████████████████████████████████████████████████████████████████████████████████████████| 910/910 [00:27<00:00, 33.14it/s]\n"
     ]
    },
    {
     "name": "stdout",
     "output_type": "stream",
     "text": [
      "Epoch 226/512: Train Loss = 0.22432, Validation Loss = 0.25397, Train Accuracy = 0.82469, Validation Accuracy = 0.81454\n"
     ]
    },
    {
     "name": "stderr",
     "output_type": "stream",
     "text": [
      "Epoch 227/512: 100%|██████████████████████████████████████████████████████████████████████████████████████████████████████████| 910/910 [00:27<00:00, 33.07it/s]\n"
     ]
    },
    {
     "name": "stdout",
     "output_type": "stream",
     "text": [
      "Epoch 227/512: Train Loss = 0.22379, Validation Loss = 0.25823, Train Accuracy = 0.82376, Validation Accuracy = 0.81661\n"
     ]
    },
    {
     "name": "stderr",
     "output_type": "stream",
     "text": [
      "Epoch 228/512: 100%|██████████████████████████████████████████████████████████████████████████████████████████████████████████| 910/910 [00:27<00:00, 33.19it/s]\n"
     ]
    },
    {
     "name": "stdout",
     "output_type": "stream",
     "text": [
      "Epoch 228/512: Train Loss = 0.22335, Validation Loss = 0.25461, Train Accuracy = 0.82440, Validation Accuracy = 0.81358\n"
     ]
    },
    {
     "name": "stderr",
     "output_type": "stream",
     "text": [
      "Epoch 229/512: 100%|██████████████████████████████████████████████████████████████████████████████████████████████████████████| 910/910 [00:27<00:00, 33.26it/s]\n"
     ]
    },
    {
     "name": "stdout",
     "output_type": "stream",
     "text": [
      "Epoch 229/512: Train Loss = 0.22350, Validation Loss = 0.26909, Train Accuracy = 0.82526, Validation Accuracy = 0.80795\n"
     ]
    },
    {
     "name": "stderr",
     "output_type": "stream",
     "text": [
      "Epoch 230/512: 100%|██████████████████████████████████████████████████████████████████████████████████████████████████████████| 910/910 [00:27<00:00, 33.03it/s]\n"
     ]
    },
    {
     "name": "stdout",
     "output_type": "stream",
     "text": [
      "Epoch 230/512: Train Loss = 0.22505, Validation Loss = 0.24853, Train Accuracy = 0.82275, Validation Accuracy = 0.81826\n"
     ]
    },
    {
     "name": "stderr",
     "output_type": "stream",
     "text": [
      "Epoch 231/512: 100%|██████████████████████████████████████████████████████████████████████████████████████████████████████████| 910/910 [00:27<00:00, 33.22it/s]\n"
     ]
    },
    {
     "name": "stdout",
     "output_type": "stream",
     "text": [
      "Epoch 231/512: Train Loss = 0.22261, Validation Loss = 0.25626, Train Accuracy = 0.82516, Validation Accuracy = 0.81798\n"
     ]
    },
    {
     "name": "stderr",
     "output_type": "stream",
     "text": [
      "Epoch 232/512: 100%|██████████████████████████████████████████████████████████████████████████████████████████████████████████| 910/910 [00:27<00:00, 33.18it/s]\n"
     ]
    },
    {
     "name": "stdout",
     "output_type": "stream",
     "text": [
      "Epoch 232/512: Train Loss = 0.22420, Validation Loss = 0.24860, Train Accuracy = 0.82352, Validation Accuracy = 0.81427\n"
     ]
    },
    {
     "name": "stderr",
     "output_type": "stream",
     "text": [
      "Epoch 233/512: 100%|██████████████████████████████████████████████████████████████████████████████████████████████████████████| 910/910 [00:27<00:00, 32.92it/s]\n"
     ]
    },
    {
     "name": "stdout",
     "output_type": "stream",
     "text": [
      "Epoch 233/512: Train Loss = 0.22180, Validation Loss = 0.25100, Train Accuracy = 0.82464, Validation Accuracy = 0.81537\n"
     ]
    },
    {
     "name": "stderr",
     "output_type": "stream",
     "text": [
      "Epoch 234/512: 100%|██████████████████████████████████████████████████████████████████████████████████████████████████████████| 910/910 [00:27<00:00, 33.06it/s]\n"
     ]
    },
    {
     "name": "stdout",
     "output_type": "stream",
     "text": [
      "Epoch 234/512: Train Loss = 0.22399, Validation Loss = 0.25021, Train Accuracy = 0.82455, Validation Accuracy = 0.82046\n"
     ]
    },
    {
     "name": "stderr",
     "output_type": "stream",
     "text": [
      "Epoch 235/512: 100%|██████████████████████████████████████████████████████████████████████████████████████████████████████████| 910/910 [00:27<00:00, 33.14it/s]\n"
     ]
    },
    {
     "name": "stdout",
     "output_type": "stream",
     "text": [
      "Epoch 235/512: Train Loss = 0.22133, Validation Loss = 0.25090, Train Accuracy = 0.82605, Validation Accuracy = 0.81372\n"
     ]
    },
    {
     "name": "stderr",
     "output_type": "stream",
     "text": [
      "Epoch 236/512: 100%|██████████████████████████████████████████████████████████████████████████████████████████████████████████| 910/910 [00:27<00:00, 33.15it/s]\n"
     ]
    },
    {
     "name": "stdout",
     "output_type": "stream",
     "text": [
      "Epoch 236/512: Train Loss = 0.22188, Validation Loss = 0.25073, Train Accuracy = 0.82562, Validation Accuracy = 0.81674\n"
     ]
    },
    {
     "name": "stderr",
     "output_type": "stream",
     "text": [
      "Epoch 237/512: 100%|██████████████████████████████████████████████████████████████████████████████████████████████████████████| 910/910 [00:27<00:00, 33.37it/s]\n"
     ]
    },
    {
     "name": "stdout",
     "output_type": "stream",
     "text": [
      "Epoch 237/512: Train Loss = 0.22249, Validation Loss = 0.25338, Train Accuracy = 0.82644, Validation Accuracy = 0.81070\n"
     ]
    },
    {
     "name": "stderr",
     "output_type": "stream",
     "text": [
      "Epoch 238/512: 100%|██████████████████████████████████████████████████████████████████████████████████████████████████████████| 910/910 [00:27<00:00, 32.97it/s]\n"
     ]
    },
    {
     "name": "stdout",
     "output_type": "stream",
     "text": [
      "Epoch 238/512: Train Loss = 0.22108, Validation Loss = 0.25310, Train Accuracy = 0.82481, Validation Accuracy = 0.81523\n"
     ]
    },
    {
     "name": "stderr",
     "output_type": "stream",
     "text": [
      "Epoch 239/512: 100%|██████████████████████████████████████████████████████████████████████████████████████████████████████████| 910/910 [00:27<00:00, 33.16it/s]\n"
     ]
    },
    {
     "name": "stdout",
     "output_type": "stream",
     "text": [
      "Epoch 239/512: Train Loss = 0.22244, Validation Loss = 0.25172, Train Accuracy = 0.82641, Validation Accuracy = 0.81963\n"
     ]
    },
    {
     "name": "stderr",
     "output_type": "stream",
     "text": [
      "Epoch 240/512: 100%|██████████████████████████████████████████████████████████████████████████████████████████████████████████| 910/910 [00:27<00:00, 32.94it/s]\n"
     ]
    },
    {
     "name": "stdout",
     "output_type": "stream",
     "text": [
      "Epoch 240/512: Train Loss = 0.22210, Validation Loss = 0.24618, Train Accuracy = 0.82443, Validation Accuracy = 0.81949\n"
     ]
    },
    {
     "name": "stderr",
     "output_type": "stream",
     "text": [
      "Epoch 241/512: 100%|██████████████████████████████████████████████████████████████████████████████████████████████████████████| 910/910 [00:27<00:00, 33.18it/s]\n"
     ]
    },
    {
     "name": "stdout",
     "output_type": "stream",
     "text": [
      "Epoch 241/512: Train Loss = 0.22275, Validation Loss = 0.25437, Train Accuracy = 0.82481, Validation Accuracy = 0.81193\n"
     ]
    },
    {
     "name": "stderr",
     "output_type": "stream",
     "text": [
      "Epoch 242/512: 100%|██████████████████████████████████████████████████████████████████████████████████████████████████████████| 910/910 [00:27<00:00, 33.36it/s]\n"
     ]
    },
    {
     "name": "stdout",
     "output_type": "stream",
     "text": [
      "Epoch 242/512: Train Loss = 0.22083, Validation Loss = 0.25475, Train Accuracy = 0.82703, Validation Accuracy = 0.81839\n"
     ]
    },
    {
     "name": "stderr",
     "output_type": "stream",
     "text": [
      "Epoch 243/512: 100%|██████████████████████████████████████████████████████████████████████████████████████████████████████████| 910/910 [00:27<00:00, 32.80it/s]\n"
     ]
    },
    {
     "name": "stdout",
     "output_type": "stream",
     "text": [
      "Epoch 243/512: Train Loss = 0.22124, Validation Loss = 0.24425, Train Accuracy = 0.82476, Validation Accuracy = 0.81798\n"
     ]
    },
    {
     "name": "stderr",
     "output_type": "stream",
     "text": [
      "Epoch 244/512: 100%|██████████████████████████████████████████████████████████████████████████████████████████████████████████| 910/910 [00:27<00:00, 33.26it/s]\n"
     ]
    },
    {
     "name": "stdout",
     "output_type": "stream",
     "text": [
      "Epoch 244/512: Train Loss = 0.22049, Validation Loss = 0.24623, Train Accuracy = 0.82564, Validation Accuracy = 0.81413\n"
     ]
    },
    {
     "name": "stderr",
     "output_type": "stream",
     "text": [
      "Epoch 245/512: 100%|██████████████████████████████████████████████████████████████████████████████████████████████████████████| 910/910 [00:27<00:00, 33.31it/s]\n"
     ]
    },
    {
     "name": "stdout",
     "output_type": "stream",
     "text": [
      "Epoch 245/512: Train Loss = 0.22151, Validation Loss = 0.25184, Train Accuracy = 0.82703, Validation Accuracy = 0.81386\n"
     ]
    },
    {
     "name": "stderr",
     "output_type": "stream",
     "text": [
      "Epoch 246/512: 100%|██████████████████████████████████████████████████████████████████████████████████████████████████████████| 910/910 [00:27<00:00, 33.07it/s]\n"
     ]
    },
    {
     "name": "stdout",
     "output_type": "stream",
     "text": [
      "Epoch 246/512: Train Loss = 0.21991, Validation Loss = 0.24550, Train Accuracy = 0.82469, Validation Accuracy = 0.81702\n"
     ]
    },
    {
     "name": "stderr",
     "output_type": "stream",
     "text": [
      "Epoch 247/512: 100%|██████████████████████████████████████████████████████████████████████████████████████████████████████████| 910/910 [00:27<00:00, 33.16it/s]\n"
     ]
    },
    {
     "name": "stdout",
     "output_type": "stream",
     "text": [
      "Epoch 247/512: Train Loss = 0.22088, Validation Loss = 0.25529, Train Accuracy = 0.82629, Validation Accuracy = 0.81400\n"
     ]
    },
    {
     "name": "stderr",
     "output_type": "stream",
     "text": [
      "Epoch 248/512: 100%|██████████████████████████████████████████████████████████████████████████████████████████████████████████| 910/910 [00:27<00:00, 32.67it/s]\n"
     ]
    },
    {
     "name": "stdout",
     "output_type": "stream",
     "text": [
      "Epoch 248/512: Train Loss = 0.22036, Validation Loss = 0.24748, Train Accuracy = 0.82354, Validation Accuracy = 0.81716\n"
     ]
    },
    {
     "name": "stderr",
     "output_type": "stream",
     "text": [
      "Epoch 249/512: 100%|██████████████████████████████████████████████████████████████████████████████████████████████████████████| 910/910 [00:27<00:00, 33.12it/s]\n"
     ]
    },
    {
     "name": "stdout",
     "output_type": "stream",
     "text": [
      "Epoch 249/512: Train Loss = 0.21990, Validation Loss = 0.24819, Train Accuracy = 0.82667, Validation Accuracy = 0.82004\n"
     ]
    },
    {
     "name": "stderr",
     "output_type": "stream",
     "text": [
      "Epoch 250/512: 100%|██████████████████████████████████████████████████████████████████████████████████████████████████████████| 910/910 [00:27<00:00, 33.20it/s]\n"
     ]
    },
    {
     "name": "stdout",
     "output_type": "stream",
     "text": [
      "Epoch 250/512: Train Loss = 0.21944, Validation Loss = 0.24690, Train Accuracy = 0.82615, Validation Accuracy = 0.81454\n"
     ]
    },
    {
     "name": "stderr",
     "output_type": "stream",
     "text": [
      "Epoch 251/512: 100%|██████████████████████████████████████████████████████████████████████████████████████████████████████████| 910/910 [00:27<00:00, 33.08it/s]\n"
     ]
    },
    {
     "name": "stdout",
     "output_type": "stream",
     "text": [
      "Epoch 251/512: Train Loss = 0.21912, Validation Loss = 0.24822, Train Accuracy = 0.82720, Validation Accuracy = 0.81386\n"
     ]
    },
    {
     "name": "stderr",
     "output_type": "stream",
     "text": [
      "Epoch 252/512: 100%|██████████████████████████████████████████████████████████████████████████████████████████████████████████| 910/910 [00:27<00:00, 33.32it/s]\n"
     ]
    },
    {
     "name": "stdout",
     "output_type": "stream",
     "text": [
      "Epoch 252/512: Train Loss = 0.21849, Validation Loss = 0.25306, Train Accuracy = 0.82663, Validation Accuracy = 0.81564\n"
     ]
    },
    {
     "name": "stderr",
     "output_type": "stream",
     "text": [
      "Epoch 253/512: 100%|██████████████████████████████████████████████████████████████████████████████████████████████████████████| 910/910 [00:27<00:00, 33.05it/s]\n"
     ]
    },
    {
     "name": "stdout",
     "output_type": "stream",
     "text": [
      "Epoch 253/512: Train Loss = 0.21874, Validation Loss = 0.25795, Train Accuracy = 0.82602, Validation Accuracy = 0.81661\n"
     ]
    },
    {
     "name": "stderr",
     "output_type": "stream",
     "text": [
      "Epoch 254/512: 100%|██████████████████████████████████████████████████████████████████████████████████████████████████████████| 910/910 [00:27<00:00, 32.97it/s]\n"
     ]
    },
    {
     "name": "stdout",
     "output_type": "stream",
     "text": [
      "Epoch 254/512: Train Loss = 0.21959, Validation Loss = 0.24627, Train Accuracy = 0.82724, Validation Accuracy = 0.82032\n"
     ]
    },
    {
     "name": "stderr",
     "output_type": "stream",
     "text": [
      "Epoch 255/512: 100%|██████████████████████████████████████████████████████████████████████████████████████████████████████████| 910/910 [00:27<00:00, 33.07it/s]\n"
     ]
    },
    {
     "name": "stdout",
     "output_type": "stream",
     "text": [
      "Epoch 255/512: Train Loss = 0.21782, Validation Loss = 0.24388, Train Accuracy = 0.82717, Validation Accuracy = 0.81743\n"
     ]
    },
    {
     "name": "stderr",
     "output_type": "stream",
     "text": [
      "Epoch 256/512: 100%|██████████████████████████████████████████████████████████████████████████████████████████████████████████| 910/910 [00:27<00:00, 33.25it/s]\n"
     ]
    },
    {
     "name": "stdout",
     "output_type": "stream",
     "text": [
      "Epoch 256/512: Train Loss = 0.21877, Validation Loss = 0.25074, Train Accuracy = 0.82834, Validation Accuracy = 0.81977\n"
     ]
    },
    {
     "name": "stderr",
     "output_type": "stream",
     "text": [
      "Epoch 257/512: 100%|██████████████████████████████████████████████████████████████████████████████████████████████████████████| 910/910 [00:27<00:00, 33.41it/s]\n"
     ]
    },
    {
     "name": "stdout",
     "output_type": "stream",
     "text": [
      "Epoch 257/512: Train Loss = 0.21868, Validation Loss = 0.24756, Train Accuracy = 0.82653, Validation Accuracy = 0.81578\n"
     ]
    },
    {
     "name": "stderr",
     "output_type": "stream",
     "text": [
      "Epoch 258/512: 100%|██████████████████████████████████████████████████████████████████████████████████████████████████████████| 910/910 [00:27<00:00, 33.38it/s]\n"
     ]
    },
    {
     "name": "stdout",
     "output_type": "stream",
     "text": [
      "Epoch 258/512: Train Loss = 0.21871, Validation Loss = 0.25525, Train Accuracy = 0.82696, Validation Accuracy = 0.81358\n"
     ]
    },
    {
     "name": "stderr",
     "output_type": "stream",
     "text": [
      "Epoch 259/512: 100%|██████████████████████████████████████████████████████████████████████████████████████████████████████████| 910/910 [00:27<00:00, 33.01it/s]\n"
     ]
    },
    {
     "name": "stdout",
     "output_type": "stream",
     "text": [
      "Epoch 259/512: Train Loss = 0.21919, Validation Loss = 0.25058, Train Accuracy = 0.82703, Validation Accuracy = 0.81812\n"
     ]
    },
    {
     "name": "stderr",
     "output_type": "stream",
     "text": [
      "Epoch 260/512: 100%|██████████████████████████████████████████████████████████████████████████████████████████████████████████| 910/910 [00:27<00:00, 33.09it/s]\n"
     ]
    },
    {
     "name": "stdout",
     "output_type": "stream",
     "text": [
      "Epoch 260/512: Train Loss = 0.21857, Validation Loss = 0.24862, Train Accuracy = 0.82784, Validation Accuracy = 0.81496\n"
     ]
    },
    {
     "name": "stderr",
     "output_type": "stream",
     "text": [
      "Epoch 261/512: 100%|██████████████████████████████████████████████████████████████████████████████████████████████████████████| 910/910 [00:27<00:00, 33.27it/s]\n"
     ]
    },
    {
     "name": "stdout",
     "output_type": "stream",
     "text": [
      "Epoch 261/512: Train Loss = 0.21714, Validation Loss = 0.25189, Train Accuracy = 0.82926, Validation Accuracy = 0.81867\n"
     ]
    },
    {
     "name": "stderr",
     "output_type": "stream",
     "text": [
      "Epoch 262/512: 100%|██████████████████████████████████████████████████████████████████████████████████████████████████████████| 910/910 [00:27<00:00, 32.99it/s]\n"
     ]
    },
    {
     "name": "stdout",
     "output_type": "stream",
     "text": [
      "Epoch 262/512: Train Loss = 0.21798, Validation Loss = 0.25250, Train Accuracy = 0.82686, Validation Accuracy = 0.81716\n"
     ]
    },
    {
     "name": "stderr",
     "output_type": "stream",
     "text": [
      "Epoch 263/512: 100%|██████████████████████████████████████████████████████████████████████████████████████████████████████████| 910/910 [00:27<00:00, 33.12it/s]\n"
     ]
    },
    {
     "name": "stdout",
     "output_type": "stream",
     "text": [
      "Epoch 263/512: Train Loss = 0.21784, Validation Loss = 0.24574, Train Accuracy = 0.82808, Validation Accuracy = 0.82114\n"
     ]
    },
    {
     "name": "stderr",
     "output_type": "stream",
     "text": [
      "Epoch 264/512: 100%|██████████████████████████████████████████████████████████████████████████████████████████████████████████| 910/910 [00:27<00:00, 33.27it/s]\n"
     ]
    },
    {
     "name": "stdout",
     "output_type": "stream",
     "text": [
      "Epoch 264/512: Train Loss = 0.21628, Validation Loss = 0.24686, Train Accuracy = 0.82813, Validation Accuracy = 0.81138\n"
     ]
    },
    {
     "name": "stderr",
     "output_type": "stream",
     "text": [
      "Epoch 265/512: 100%|██████████████████████████████████████████████████████████████████████████████████████████████████████████| 910/910 [00:27<00:00, 33.25it/s]\n"
     ]
    },
    {
     "name": "stdout",
     "output_type": "stream",
     "text": [
      "Epoch 265/512: Train Loss = 0.21701, Validation Loss = 0.24134, Train Accuracy = 0.82636, Validation Accuracy = 0.82334\n"
     ]
    },
    {
     "name": "stderr",
     "output_type": "stream",
     "text": [
      "Epoch 266/512: 100%|██████████████████████████████████████████████████████████████████████████████████████████████████████████| 910/910 [00:27<00:00, 33.20it/s]\n"
     ]
    },
    {
     "name": "stdout",
     "output_type": "stream",
     "text": [
      "Epoch 266/512: Train Loss = 0.21639, Validation Loss = 0.25477, Train Accuracy = 0.82823, Validation Accuracy = 0.81468\n"
     ]
    },
    {
     "name": "stderr",
     "output_type": "stream",
     "text": [
      "Epoch 267/512: 100%|██████████████████████████████████████████████████████████████████████████████████████████████████████████| 910/910 [00:27<00:00, 32.98it/s]\n"
     ]
    },
    {
     "name": "stdout",
     "output_type": "stream",
     "text": [
      "Epoch 267/512: Train Loss = 0.21674, Validation Loss = 0.25279, Train Accuracy = 0.82784, Validation Accuracy = 0.81991\n"
     ]
    },
    {
     "name": "stderr",
     "output_type": "stream",
     "text": [
      "Epoch 268/512: 100%|██████████████████████████████████████████████████████████████████████████████████████████████████████████| 910/910 [00:27<00:00, 33.23it/s]\n"
     ]
    },
    {
     "name": "stdout",
     "output_type": "stream",
     "text": [
      "Epoch 268/512: Train Loss = 0.21578, Validation Loss = 0.24908, Train Accuracy = 0.82791, Validation Accuracy = 0.81922\n"
     ]
    },
    {
     "name": "stderr",
     "output_type": "stream",
     "text": [
      "Epoch 269/512: 100%|██████████████████████████████████████████████████████████████████████████████████████████████████████████| 910/910 [00:27<00:00, 33.17it/s]\n"
     ]
    },
    {
     "name": "stdout",
     "output_type": "stream",
     "text": [
      "Epoch 269/512: Train Loss = 0.21810, Validation Loss = 0.24584, Train Accuracy = 0.82712, Validation Accuracy = 0.81633\n"
     ]
    },
    {
     "name": "stderr",
     "output_type": "stream",
     "text": [
      "Epoch 270/512: 100%|██████████████████████████████████████████████████████████████████████████████████████████████████████████| 910/910 [00:27<00:00, 33.10it/s]\n"
     ]
    },
    {
     "name": "stdout",
     "output_type": "stream",
     "text": [
      "Epoch 270/512: Train Loss = 0.21622, Validation Loss = 0.25330, Train Accuracy = 0.82868, Validation Accuracy = 0.81509\n"
     ]
    },
    {
     "name": "stderr",
     "output_type": "stream",
     "text": [
      "Epoch 271/512: 100%|██████████████████████████████████████████████████████████████████████████████████████████████████████████| 910/910 [00:27<00:00, 33.07it/s]\n"
     ]
    },
    {
     "name": "stdout",
     "output_type": "stream",
     "text": [
      "Epoch 271/512: Train Loss = 0.21604, Validation Loss = 0.24101, Train Accuracy = 0.82873, Validation Accuracy = 0.81496\n"
     ]
    },
    {
     "name": "stderr",
     "output_type": "stream",
     "text": [
      "Epoch 272/512: 100%|██████████████████████████████████████████████████████████████████████████████████████████████████████████| 910/910 [00:27<00:00, 33.34it/s]\n"
     ]
    },
    {
     "name": "stdout",
     "output_type": "stream",
     "text": [
      "Epoch 272/512: Train Loss = 0.21620, Validation Loss = 0.24987, Train Accuracy = 0.82706, Validation Accuracy = 0.81661\n"
     ]
    },
    {
     "name": "stderr",
     "output_type": "stream",
     "text": [
      "Epoch 273/512: 100%|██████████████████████████████████████████████████████████████████████████████████████████████████████████| 910/910 [00:27<00:00, 33.20it/s]\n"
     ]
    },
    {
     "name": "stdout",
     "output_type": "stream",
     "text": [
      "Epoch 273/512: Train Loss = 0.21538, Validation Loss = 0.24768, Train Accuracy = 0.82930, Validation Accuracy = 0.82197\n"
     ]
    },
    {
     "name": "stderr",
     "output_type": "stream",
     "text": [
      "Epoch 274/512: 100%|██████████████████████████████████████████████████████████████████████████████████████████████████████████| 910/910 [00:27<00:00, 32.78it/s]\n"
     ]
    },
    {
     "name": "stdout",
     "output_type": "stream",
     "text": [
      "Epoch 274/512: Train Loss = 0.21688, Validation Loss = 0.24802, Train Accuracy = 0.82777, Validation Accuracy = 0.81551\n"
     ]
    },
    {
     "name": "stderr",
     "output_type": "stream",
     "text": [
      "Epoch 275/512: 100%|██████████████████████████████████████████████████████████████████████████████████████████████████████████| 910/910 [00:27<00:00, 33.22it/s]\n"
     ]
    },
    {
     "name": "stdout",
     "output_type": "stream",
     "text": [
      "Epoch 275/512: Train Loss = 0.21537, Validation Loss = 0.24644, Train Accuracy = 0.82760, Validation Accuracy = 0.81853\n"
     ]
    },
    {
     "name": "stderr",
     "output_type": "stream",
     "text": [
      "Epoch 276/512: 100%|██████████████████████████████████████████████████████████████████████████████████████████████████████████| 910/910 [00:27<00:00, 33.23it/s]\n"
     ]
    },
    {
     "name": "stdout",
     "output_type": "stream",
     "text": [
      "Epoch 276/512: Train Loss = 0.21464, Validation Loss = 0.24574, Train Accuracy = 0.82868, Validation Accuracy = 0.81647\n"
     ]
    },
    {
     "name": "stderr",
     "output_type": "stream",
     "text": [
      "Epoch 277/512: 100%|██████████████████████████████████████████████████████████████████████████████████████████████████████████| 910/910 [00:27<00:00, 33.14it/s]\n"
     ]
    },
    {
     "name": "stdout",
     "output_type": "stream",
     "text": [
      "Epoch 277/512: Train Loss = 0.21571, Validation Loss = 0.24717, Train Accuracy = 0.82662, Validation Accuracy = 0.81963\n"
     ]
    },
    {
     "name": "stderr",
     "output_type": "stream",
     "text": [
      "Epoch 278/512: 100%|██████████████████████████████████████████████████████████████████████████████████████████████████████████| 910/910 [00:27<00:00, 33.16it/s]\n"
     ]
    },
    {
     "name": "stdout",
     "output_type": "stream",
     "text": [
      "Epoch 278/512: Train Loss = 0.21576, Validation Loss = 0.25498, Train Accuracy = 0.82858, Validation Accuracy = 0.81523\n"
     ]
    },
    {
     "name": "stderr",
     "output_type": "stream",
     "text": [
      "Epoch 279/512: 100%|██████████████████████████████████████████████████████████████████████████████████████████████████████████| 910/910 [00:27<00:00, 32.88it/s]\n"
     ]
    },
    {
     "name": "stdout",
     "output_type": "stream",
     "text": [
      "Epoch 279/512: Train Loss = 0.21591, Validation Loss = 0.24629, Train Accuracy = 0.83029, Validation Accuracy = 0.81949\n"
     ]
    },
    {
     "name": "stderr",
     "output_type": "stream",
     "text": [
      "Epoch 280/512: 100%|██████████████████████████████████████████████████████████████████████████████████████████████████████████| 910/910 [00:27<00:00, 33.09it/s]\n"
     ]
    },
    {
     "name": "stdout",
     "output_type": "stream",
     "text": [
      "Epoch 280/512: Train Loss = 0.21381, Validation Loss = 0.24606, Train Accuracy = 0.82775, Validation Accuracy = 0.81839\n"
     ]
    },
    {
     "name": "stderr",
     "output_type": "stream",
     "text": [
      "Epoch 281/512: 100%|██████████████████████████████████████████████████████████████████████████████████████████████████████████| 910/910 [00:27<00:00, 32.90it/s]\n"
     ]
    },
    {
     "name": "stdout",
     "output_type": "stream",
     "text": [
      "Epoch 281/512: Train Loss = 0.21491, Validation Loss = 0.24350, Train Accuracy = 0.82962, Validation Accuracy = 0.81867\n"
     ]
    },
    {
     "name": "stderr",
     "output_type": "stream",
     "text": [
      "Epoch 282/512: 100%|██████████████████████████████████████████████████████████████████████████████████████████████████████████| 910/910 [00:27<00:00, 33.56it/s]\n"
     ]
    },
    {
     "name": "stdout",
     "output_type": "stream",
     "text": [
      "Epoch 282/512: Train Loss = 0.21410, Validation Loss = 0.25415, Train Accuracy = 0.82952, Validation Accuracy = 0.81853\n"
     ]
    },
    {
     "name": "stderr",
     "output_type": "stream",
     "text": [
      "Epoch 283/512: 100%|██████████████████████████████████████████████████████████████████████████████████████████████████████████| 910/910 [00:27<00:00, 33.24it/s]\n"
     ]
    },
    {
     "name": "stdout",
     "output_type": "stream",
     "text": [
      "Epoch 283/512: Train Loss = 0.21452, Validation Loss = 0.24600, Train Accuracy = 0.82907, Validation Accuracy = 0.82348\n"
     ]
    },
    {
     "name": "stderr",
     "output_type": "stream",
     "text": [
      "Epoch 284/512: 100%|██████████████████████████████████████████████████████████████████████████████████████████████████████████| 910/910 [00:27<00:00, 32.94it/s]\n"
     ]
    },
    {
     "name": "stdout",
     "output_type": "stream",
     "text": [
      "Epoch 284/512: Train Loss = 0.21481, Validation Loss = 0.24756, Train Accuracy = 0.82949, Validation Accuracy = 0.82114\n"
     ]
    },
    {
     "name": "stderr",
     "output_type": "stream",
     "text": [
      "Epoch 285/512: 100%|██████████████████████████████████████████████████████████████████████████████████████████████████████████| 910/910 [00:27<00:00, 32.90it/s]\n"
     ]
    },
    {
     "name": "stdout",
     "output_type": "stream",
     "text": [
      "Epoch 285/512: Train Loss = 0.21346, Validation Loss = 0.24040, Train Accuracy = 0.82964, Validation Accuracy = 0.81509\n"
     ]
    },
    {
     "name": "stderr",
     "output_type": "stream",
     "text": [
      "Epoch 286/512: 100%|██████████████████████████████████████████████████████████████████████████████████████████████████████████| 910/910 [00:27<00:00, 32.87it/s]\n"
     ]
    },
    {
     "name": "stdout",
     "output_type": "stream",
     "text": [
      "Epoch 286/512: Train Loss = 0.21502, Validation Loss = 0.24277, Train Accuracy = 0.82944, Validation Accuracy = 0.81936\n"
     ]
    },
    {
     "name": "stderr",
     "output_type": "stream",
     "text": [
      "Epoch 287/512: 100%|██████████████████████████████████████████████████████████████████████████████████████████████████████████| 910/910 [00:27<00:00, 33.00it/s]\n"
     ]
    },
    {
     "name": "stdout",
     "output_type": "stream",
     "text": [
      "Epoch 287/512: Train Loss = 0.21426, Validation Loss = 0.24382, Train Accuracy = 0.82904, Validation Accuracy = 0.81812\n"
     ]
    },
    {
     "name": "stderr",
     "output_type": "stream",
     "text": [
      "Epoch 288/512: 100%|██████████████████████████████████████████████████████████████████████████████████████████████████████████| 910/910 [00:27<00:00, 33.09it/s]\n"
     ]
    },
    {
     "name": "stdout",
     "output_type": "stream",
     "text": [
      "Epoch 288/512: Train Loss = 0.21376, Validation Loss = 0.25152, Train Accuracy = 0.83084, Validation Accuracy = 0.81496\n"
     ]
    },
    {
     "name": "stderr",
     "output_type": "stream",
     "text": [
      "Epoch 289/512: 100%|██████████████████████████████████████████████████████████████████████████████████████████████████████████| 910/910 [00:27<00:00, 33.38it/s]\n"
     ]
    },
    {
     "name": "stdout",
     "output_type": "stream",
     "text": [
      "Epoch 289/512: Train Loss = 0.21368, Validation Loss = 0.25087, Train Accuracy = 0.82701, Validation Accuracy = 0.82142\n"
     ]
    },
    {
     "name": "stderr",
     "output_type": "stream",
     "text": [
      "Epoch 290/512: 100%|██████████████████████████████████████████████████████████████████████████████████████████████████████████| 910/910 [00:27<00:00, 33.35it/s]\n"
     ]
    },
    {
     "name": "stdout",
     "output_type": "stream",
     "text": [
      "Epoch 290/512: Train Loss = 0.21315, Validation Loss = 0.24192, Train Accuracy = 0.82921, Validation Accuracy = 0.82114\n"
     ]
    },
    {
     "name": "stderr",
     "output_type": "stream",
     "text": [
      "Epoch 291/512: 100%|██████████████████████████████████████████████████████████████████████████████████████████████████████████| 910/910 [00:27<00:00, 33.25it/s]\n"
     ]
    },
    {
     "name": "stdout",
     "output_type": "stream",
     "text": [
      "Epoch 291/512: Train Loss = 0.21221, Validation Loss = 0.24901, Train Accuracy = 0.83139, Validation Accuracy = 0.81661\n"
     ]
    },
    {
     "name": "stderr",
     "output_type": "stream",
     "text": [
      "Epoch 292/512: 100%|██████████████████████████████████████████████████████████████████████████████████████████████████████████| 910/910 [00:27<00:00, 32.95it/s]\n"
     ]
    },
    {
     "name": "stdout",
     "output_type": "stream",
     "text": [
      "Epoch 292/512: Train Loss = 0.21326, Validation Loss = 0.24465, Train Accuracy = 0.82971, Validation Accuracy = 0.81688\n"
     ]
    },
    {
     "name": "stderr",
     "output_type": "stream",
     "text": [
      "Epoch 293/512: 100%|██████████████████████████████████████████████████████████████████████████████████████████████████████████| 910/910 [00:27<00:00, 33.13it/s]\n"
     ]
    },
    {
     "name": "stdout",
     "output_type": "stream",
     "text": [
      "Epoch 293/512: Train Loss = 0.21312, Validation Loss = 0.24236, Train Accuracy = 0.82892, Validation Accuracy = 0.81977\n"
     ]
    },
    {
     "name": "stderr",
     "output_type": "stream",
     "text": [
      "Epoch 294/512: 100%|██████████████████████████████████████████████████████████████████████████████████████████████████████████| 910/910 [00:27<00:00, 32.96it/s]\n"
     ]
    },
    {
     "name": "stdout",
     "output_type": "stream",
     "text": [
      "Epoch 294/512: Train Loss = 0.21249, Validation Loss = 0.24259, Train Accuracy = 0.82942, Validation Accuracy = 0.82293\n"
     ]
    },
    {
     "name": "stderr",
     "output_type": "stream",
     "text": [
      "Epoch 295/512: 100%|██████████████████████████████████████████████████████████████████████████████████████████████████████████| 910/910 [00:27<00:00, 33.28it/s]\n"
     ]
    },
    {
     "name": "stdout",
     "output_type": "stream",
     "text": [
      "Epoch 295/512: Train Loss = 0.21238, Validation Loss = 0.25191, Train Accuracy = 0.82973, Validation Accuracy = 0.81771\n"
     ]
    },
    {
     "name": "stderr",
     "output_type": "stream",
     "text": [
      "Epoch 296/512: 100%|██████████████████████████████████████████████████████████████████████████████████████████████████████████| 910/910 [00:27<00:00, 33.26it/s]\n"
     ]
    },
    {
     "name": "stdout",
     "output_type": "stream",
     "text": [
      "Epoch 296/512: Train Loss = 0.21234, Validation Loss = 0.24341, Train Accuracy = 0.83055, Validation Accuracy = 0.82238\n"
     ]
    },
    {
     "name": "stderr",
     "output_type": "stream",
     "text": [
      "Epoch 297/512: 100%|██████████████████████████████████████████████████████████████████████████████████████████████████████████| 910/910 [00:27<00:00, 33.12it/s]\n"
     ]
    },
    {
     "name": "stdout",
     "output_type": "stream",
     "text": [
      "Epoch 297/512: Train Loss = 0.21224, Validation Loss = 0.25360, Train Accuracy = 0.83239, Validation Accuracy = 0.81743\n"
     ]
    },
    {
     "name": "stderr",
     "output_type": "stream",
     "text": [
      "Epoch 298/512: 100%|██████████████████████████████████████████████████████████████████████████████████████████████████████████| 910/910 [00:27<00:00, 33.11it/s]\n"
     ]
    },
    {
     "name": "stdout",
     "output_type": "stream",
     "text": [
      "Epoch 298/512: Train Loss = 0.21135, Validation Loss = 0.24579, Train Accuracy = 0.83151, Validation Accuracy = 0.82142\n"
     ]
    },
    {
     "name": "stderr",
     "output_type": "stream",
     "text": [
      "Epoch 299/512: 100%|██████████████████████████████████████████████████████████████████████████████████████████████████████████| 910/910 [00:27<00:00, 33.04it/s]\n"
     ]
    },
    {
     "name": "stdout",
     "output_type": "stream",
     "text": [
      "Epoch 299/512: Train Loss = 0.21218, Validation Loss = 0.24541, Train Accuracy = 0.82952, Validation Accuracy = 0.81592\n"
     ]
    },
    {
     "name": "stderr",
     "output_type": "stream",
     "text": [
      "Epoch 300/512: 100%|██████████████████████████████████████████████████████████████████████████████████████████████████████████| 910/910 [00:27<00:00, 32.89it/s]\n"
     ]
    },
    {
     "name": "stdout",
     "output_type": "stream",
     "text": [
      "Epoch 300/512: Train Loss = 0.21305, Validation Loss = 0.24491, Train Accuracy = 0.82926, Validation Accuracy = 0.82252\n"
     ]
    },
    {
     "name": "stderr",
     "output_type": "stream",
     "text": [
      "Epoch 301/512: 100%|██████████████████████████████████████████████████████████████████████████████████████████████████████████| 910/910 [00:27<00:00, 33.10it/s]\n"
     ]
    },
    {
     "name": "stdout",
     "output_type": "stream",
     "text": [
      "Epoch 301/512: Train Loss = 0.21260, Validation Loss = 0.24324, Train Accuracy = 0.83004, Validation Accuracy = 0.82238\n"
     ]
    },
    {
     "name": "stderr",
     "output_type": "stream",
     "text": [
      "Epoch 302/512: 100%|██████████████████████████████████████████████████████████████████████████████████████████████████████████| 910/910 [00:27<00:00, 32.84it/s]\n"
     ]
    },
    {
     "name": "stdout",
     "output_type": "stream",
     "text": [
      "Epoch 302/512: Train Loss = 0.21246, Validation Loss = 0.24718, Train Accuracy = 0.83095, Validation Accuracy = 0.82403\n"
     ]
    },
    {
     "name": "stderr",
     "output_type": "stream",
     "text": [
      "Epoch 303/512: 100%|██████████████████████████████████████████████████████████████████████████████████████████████████████████| 910/910 [00:27<00:00, 33.15it/s]\n"
     ]
    },
    {
     "name": "stdout",
     "output_type": "stream",
     "text": [
      "Epoch 303/512: Train Loss = 0.21140, Validation Loss = 0.24501, Train Accuracy = 0.83143, Validation Accuracy = 0.82293\n"
     ]
    },
    {
     "name": "stderr",
     "output_type": "stream",
     "text": [
      "Epoch 304/512: 100%|██████████████████████████████████████████████████████████████████████████████████████████████████████████| 910/910 [00:27<00:00, 33.40it/s]\n"
     ]
    },
    {
     "name": "stdout",
     "output_type": "stream",
     "text": [
      "Epoch 304/512: Train Loss = 0.21127, Validation Loss = 0.24325, Train Accuracy = 0.83103, Validation Accuracy = 0.82046\n"
     ]
    },
    {
     "name": "stderr",
     "output_type": "stream",
     "text": [
      "Epoch 305/512: 100%|██████████████████████████████████████████████████████████████████████████████████████████████████████████| 910/910 [00:27<00:00, 33.20it/s]\n"
     ]
    },
    {
     "name": "stdout",
     "output_type": "stream",
     "text": [
      "Epoch 305/512: Train Loss = 0.21172, Validation Loss = 0.24619, Train Accuracy = 0.83028, Validation Accuracy = 0.81798\n"
     ]
    },
    {
     "name": "stderr",
     "output_type": "stream",
     "text": [
      "Epoch 306/512: 100%|██████████████████████████████████████████████████████████████████████████████████████████████████████████| 910/910 [00:27<00:00, 33.05it/s]\n"
     ]
    },
    {
     "name": "stdout",
     "output_type": "stream",
     "text": [
      "Epoch 306/512: Train Loss = 0.21120, Validation Loss = 0.24238, Train Accuracy = 0.82945, Validation Accuracy = 0.81441\n"
     ]
    },
    {
     "name": "stderr",
     "output_type": "stream",
     "text": [
      "Epoch 307/512: 100%|██████████████████████████████████████████████████████████████████████████████████████████████████████████| 910/910 [00:27<00:00, 33.16it/s]\n"
     ]
    },
    {
     "name": "stdout",
     "output_type": "stream",
     "text": [
      "Epoch 307/512: Train Loss = 0.21098, Validation Loss = 0.25160, Train Accuracy = 0.83206, Validation Accuracy = 0.81688\n"
     ]
    },
    {
     "name": "stderr",
     "output_type": "stream",
     "text": [
      "Epoch 308/512: 100%|██████████████████████████████████████████████████████████████████████████████████████████████████████████| 910/910 [00:27<00:00, 33.32it/s]\n"
     ]
    },
    {
     "name": "stdout",
     "output_type": "stream",
     "text": [
      "Epoch 308/512: Train Loss = 0.20916, Validation Loss = 0.24621, Train Accuracy = 0.83160, Validation Accuracy = 0.81537\n"
     ]
    },
    {
     "name": "stderr",
     "output_type": "stream",
     "text": [
      "Epoch 309/512: 100%|██████████████████████████████████████████████████████████████████████████████████████████████████████████| 910/910 [00:27<00:00, 33.06it/s]\n"
     ]
    },
    {
     "name": "stdout",
     "output_type": "stream",
     "text": [
      "Epoch 309/512: Train Loss = 0.21081, Validation Loss = 0.24134, Train Accuracy = 0.83167, Validation Accuracy = 0.82197\n"
     ]
    },
    {
     "name": "stderr",
     "output_type": "stream",
     "text": [
      "Epoch 310/512: 100%|██████████████████████████████████████████████████████████████████████████████████████████████████████████| 910/910 [00:27<00:00, 33.26it/s]\n"
     ]
    },
    {
     "name": "stdout",
     "output_type": "stream",
     "text": [
      "Epoch 310/512: Train Loss = 0.20951, Validation Loss = 0.24424, Train Accuracy = 0.83174, Validation Accuracy = 0.82032\n"
     ]
    },
    {
     "name": "stderr",
     "output_type": "stream",
     "text": [
      "Epoch 311/512: 100%|██████████████████████████████████████████████████████████████████████████████████████████████████████████| 910/910 [00:27<00:00, 33.04it/s]\n"
     ]
    },
    {
     "name": "stdout",
     "output_type": "stream",
     "text": [
      "Epoch 311/512: Train Loss = 0.21115, Validation Loss = 0.24984, Train Accuracy = 0.83091, Validation Accuracy = 0.81881\n"
     ]
    },
    {
     "name": "stderr",
     "output_type": "stream",
     "text": [
      "Epoch 312/512: 100%|██████████████████████████████████████████████████████████████████████████████████████████████████████████| 910/910 [00:27<00:00, 33.33it/s]\n"
     ]
    },
    {
     "name": "stdout",
     "output_type": "stream",
     "text": [
      "Epoch 312/512: Train Loss = 0.21080, Validation Loss = 0.25385, Train Accuracy = 0.83016, Validation Accuracy = 0.82046\n"
     ]
    },
    {
     "name": "stderr",
     "output_type": "stream",
     "text": [
      "Epoch 313/512: 100%|██████████████████████████████████████████████████████████████████████████████████████████████████████████| 910/910 [00:27<00:00, 33.27it/s]\n"
     ]
    },
    {
     "name": "stdout",
     "output_type": "stream",
     "text": [
      "Epoch 313/512: Train Loss = 0.20954, Validation Loss = 0.24387, Train Accuracy = 0.83138, Validation Accuracy = 0.82238\n"
     ]
    },
    {
     "name": "stderr",
     "output_type": "stream",
     "text": [
      "Epoch 314/512: 100%|██████████████████████████████████████████████████████████████████████████████████████████████████████████| 910/910 [00:27<00:00, 32.97it/s]\n"
     ]
    },
    {
     "name": "stdout",
     "output_type": "stream",
     "text": [
      "Epoch 314/512: Train Loss = 0.21018, Validation Loss = 0.24403, Train Accuracy = 0.83182, Validation Accuracy = 0.82046\n"
     ]
    },
    {
     "name": "stderr",
     "output_type": "stream",
     "text": [
      "Epoch 315/512: 100%|██████████████████████████████████████████████████████████████████████████████████████████████████████████| 910/910 [00:27<00:00, 33.04it/s]\n"
     ]
    },
    {
     "name": "stdout",
     "output_type": "stream",
     "text": [
      "Epoch 315/512: Train Loss = 0.20954, Validation Loss = 0.24061, Train Accuracy = 0.83236, Validation Accuracy = 0.81977\n"
     ]
    },
    {
     "name": "stderr",
     "output_type": "stream",
     "text": [
      "Epoch 316/512: 100%|██████████████████████████████████████████████████████████████████████████████████████████████████████████| 910/910 [00:27<00:00, 32.64it/s]\n"
     ]
    },
    {
     "name": "stdout",
     "output_type": "stream",
     "text": [
      "Epoch 316/512: Train Loss = 0.20962, Validation Loss = 0.24706, Train Accuracy = 0.83114, Validation Accuracy = 0.82224\n"
     ]
    },
    {
     "name": "stderr",
     "output_type": "stream",
     "text": [
      "Epoch 317/512: 100%|██████████████████████████████████████████████████████████████████████████████████████████████████████████| 910/910 [00:27<00:00, 33.04it/s]\n"
     ]
    },
    {
     "name": "stdout",
     "output_type": "stream",
     "text": [
      "Epoch 317/512: Train Loss = 0.20978, Validation Loss = 0.24784, Train Accuracy = 0.83133, Validation Accuracy = 0.82637\n"
     ]
    },
    {
     "name": "stderr",
     "output_type": "stream",
     "text": [
      "Epoch 318/512: 100%|██████████████████████████████████████████████████████████████████████████████████████████████████████████| 910/910 [00:27<00:00, 33.20it/s]\n"
     ]
    },
    {
     "name": "stdout",
     "output_type": "stream",
     "text": [
      "Epoch 318/512: Train Loss = 0.20763, Validation Loss = 0.24226, Train Accuracy = 0.83102, Validation Accuracy = 0.81977\n"
     ]
    },
    {
     "name": "stderr",
     "output_type": "stream",
     "text": [
      "Epoch 319/512: 100%|██████████████████████████████████████████████████████████████████████████████████████████████████████████| 910/910 [00:27<00:00, 32.90it/s]\n"
     ]
    },
    {
     "name": "stdout",
     "output_type": "stream",
     "text": [
      "Epoch 319/512: Train Loss = 0.20938, Validation Loss = 0.23911, Train Accuracy = 0.83098, Validation Accuracy = 0.82238\n"
     ]
    },
    {
     "name": "stderr",
     "output_type": "stream",
     "text": [
      "Epoch 320/512: 100%|██████████████████████████████████████████████████████████████████████████████████████████████████████████| 910/910 [00:27<00:00, 33.15it/s]\n"
     ]
    },
    {
     "name": "stdout",
     "output_type": "stream",
     "text": [
      "Epoch 320/512: Train Loss = 0.20791, Validation Loss = 0.24100, Train Accuracy = 0.83126, Validation Accuracy = 0.82197\n"
     ]
    },
    {
     "name": "stderr",
     "output_type": "stream",
     "text": [
      "Epoch 321/512: 100%|██████████████████████████████████████████████████████████████████████████████████████████████████████████| 910/910 [00:27<00:00, 33.15it/s]\n"
     ]
    },
    {
     "name": "stdout",
     "output_type": "stream",
     "text": [
      "Epoch 321/512: Train Loss = 0.20755, Validation Loss = 0.25089, Train Accuracy = 0.83330, Validation Accuracy = 0.81908\n"
     ]
    },
    {
     "name": "stderr",
     "output_type": "stream",
     "text": [
      "Epoch 322/512: 100%|██████████████████████████████████████████████████████████████████████████████████████████████████████████| 910/910 [00:27<00:00, 32.99it/s]\n"
     ]
    },
    {
     "name": "stdout",
     "output_type": "stream",
     "text": [
      "Epoch 322/512: Train Loss = 0.20918, Validation Loss = 0.24177, Train Accuracy = 0.83114, Validation Accuracy = 0.82073\n"
     ]
    },
    {
     "name": "stderr",
     "output_type": "stream",
     "text": [
      "Epoch 323/512: 100%|██████████████████████████████████████████████████████████████████████████████████████████████████████████| 910/910 [00:27<00:00, 33.28it/s]\n"
     ]
    },
    {
     "name": "stdout",
     "output_type": "stream",
     "text": [
      "Epoch 323/512: Train Loss = 0.20958, Validation Loss = 0.24146, Train Accuracy = 0.83196, Validation Accuracy = 0.82073\n"
     ]
    },
    {
     "name": "stderr",
     "output_type": "stream",
     "text": [
      "Epoch 324/512: 100%|██████████████████████████████████████████████████████████████████████████████████████████████████████████| 910/910 [00:27<00:00, 32.98it/s]\n"
     ]
    },
    {
     "name": "stdout",
     "output_type": "stream",
     "text": [
      "Epoch 324/512: Train Loss = 0.20809, Validation Loss = 0.24510, Train Accuracy = 0.83268, Validation Accuracy = 0.82169\n"
     ]
    },
    {
     "name": "stderr",
     "output_type": "stream",
     "text": [
      "Epoch 325/512: 100%|██████████████████████████████████████████████████████████████████████████████████████████████████████████| 910/910 [00:27<00:00, 33.23it/s]\n"
     ]
    },
    {
     "name": "stdout",
     "output_type": "stream",
     "text": [
      "Epoch 325/512: Train Loss = 0.20907, Validation Loss = 0.25272, Train Accuracy = 0.83193, Validation Accuracy = 0.82114\n"
     ]
    },
    {
     "name": "stderr",
     "output_type": "stream",
     "text": [
      "Epoch 326/512: 100%|██████████████████████████████████████████████████████████████████████████████████████████████████████████| 910/910 [00:27<00:00, 33.16it/s]\n"
     ]
    },
    {
     "name": "stdout",
     "output_type": "stream",
     "text": [
      "Epoch 326/512: Train Loss = 0.20812, Validation Loss = 0.24448, Train Accuracy = 0.83411, Validation Accuracy = 0.82046\n"
     ]
    },
    {
     "name": "stderr",
     "output_type": "stream",
     "text": [
      "Epoch 327/512: 100%|██████████████████████████████████████████████████████████████████████████████████████████████████████████| 910/910 [00:27<00:00, 33.03it/s]\n"
     ]
    },
    {
     "name": "stdout",
     "output_type": "stream",
     "text": [
      "Epoch 327/512: Train Loss = 0.20751, Validation Loss = 0.24831, Train Accuracy = 0.83231, Validation Accuracy = 0.81578\n"
     ]
    },
    {
     "name": "stderr",
     "output_type": "stream",
     "text": [
      "Epoch 328/512: 100%|██████████████████████████████████████████████████████████████████████████████████████████████████████████| 910/910 [00:27<00:00, 33.03it/s]\n"
     ]
    },
    {
     "name": "stdout",
     "output_type": "stream",
     "text": [
      "Epoch 328/512: Train Loss = 0.20670, Validation Loss = 0.24350, Train Accuracy = 0.83265, Validation Accuracy = 0.81867\n"
     ]
    },
    {
     "name": "stderr",
     "output_type": "stream",
     "text": [
      "Epoch 329/512: 100%|██████████████████████████████████████████████████████████████████████████████████████████████████████████| 910/910 [00:27<00:00, 33.00it/s]\n"
     ]
    },
    {
     "name": "stdout",
     "output_type": "stream",
     "text": [
      "Epoch 329/512: Train Loss = 0.20913, Validation Loss = 0.24896, Train Accuracy = 0.83201, Validation Accuracy = 0.82073\n"
     ]
    },
    {
     "name": "stderr",
     "output_type": "stream",
     "text": [
      "Epoch 330/512: 100%|██████████████████████████████████████████████████████████████████████████████████████████████████████████| 910/910 [00:27<00:00, 33.06it/s]\n"
     ]
    },
    {
     "name": "stdout",
     "output_type": "stream",
     "text": [
      "Epoch 330/512: Train Loss = 0.20799, Validation Loss = 0.24947, Train Accuracy = 0.83294, Validation Accuracy = 0.82101\n"
     ]
    },
    {
     "name": "stderr",
     "output_type": "stream",
     "text": [
      "Epoch 331/512: 100%|██████████████████████████████████████████████████████████████████████████████████████████████████████████| 910/910 [00:27<00:00, 33.04it/s]\n"
     ]
    },
    {
     "name": "stdout",
     "output_type": "stream",
     "text": [
      "Epoch 331/512: Train Loss = 0.20684, Validation Loss = 0.24555, Train Accuracy = 0.83163, Validation Accuracy = 0.81963\n"
     ]
    },
    {
     "name": "stderr",
     "output_type": "stream",
     "text": [
      "Epoch 332/512: 100%|██████████████████████████████████████████████████████████████████████████████████████████████████████████| 910/910 [00:27<00:00, 32.99it/s]\n"
     ]
    },
    {
     "name": "stdout",
     "output_type": "stream",
     "text": [
      "Epoch 332/512: Train Loss = 0.20843, Validation Loss = 0.24610, Train Accuracy = 0.83151, Validation Accuracy = 0.82128\n"
     ]
    },
    {
     "name": "stderr",
     "output_type": "stream",
     "text": [
      "Epoch 333/512: 100%|██████████████████████████████████████████████████████████████████████████████████████████████████████████| 910/910 [00:27<00:00, 33.17it/s]\n"
     ]
    },
    {
     "name": "stdout",
     "output_type": "stream",
     "text": [
      "Epoch 333/512: Train Loss = 0.20785, Validation Loss = 0.24039, Train Accuracy = 0.83119, Validation Accuracy = 0.81977\n"
     ]
    },
    {
     "name": "stderr",
     "output_type": "stream",
     "text": [
      "Epoch 334/512: 100%|██████████████████████████████████████████████████████████████████████████████████████████████████████████| 910/910 [00:27<00:00, 33.16it/s]\n"
     ]
    },
    {
     "name": "stdout",
     "output_type": "stream",
     "text": [
      "Epoch 334/512: Train Loss = 0.20675, Validation Loss = 0.24700, Train Accuracy = 0.83363, Validation Accuracy = 0.82362\n"
     ]
    },
    {
     "name": "stderr",
     "output_type": "stream",
     "text": [
      "Epoch 335/512: 100%|██████████████████████████████████████████████████████████████████████████████████████████████████████████| 910/910 [00:27<00:00, 33.22it/s]\n"
     ]
    },
    {
     "name": "stdout",
     "output_type": "stream",
     "text": [
      "Epoch 335/512: Train Loss = 0.20797, Validation Loss = 0.24622, Train Accuracy = 0.83182, Validation Accuracy = 0.82018\n"
     ]
    },
    {
     "name": "stderr",
     "output_type": "stream",
     "text": [
      "Epoch 336/512: 100%|██████████████████████████████████████████████████████████████████████████████████████████████████████████| 910/910 [00:27<00:00, 33.08it/s]\n"
     ]
    },
    {
     "name": "stdout",
     "output_type": "stream",
     "text": [
      "Epoch 336/512: Train Loss = 0.20646, Validation Loss = 0.25327, Train Accuracy = 0.83194, Validation Accuracy = 0.81894\n"
     ]
    },
    {
     "name": "stderr",
     "output_type": "stream",
     "text": [
      "Epoch 337/512: 100%|██████████████████████████████████████████████████████████████████████████████████████████████████████████| 910/910 [00:27<00:00, 32.90it/s]\n"
     ]
    },
    {
     "name": "stdout",
     "output_type": "stream",
     "text": [
      "Epoch 337/512: Train Loss = 0.20705, Validation Loss = 0.24301, Train Accuracy = 0.83255, Validation Accuracy = 0.82183\n"
     ]
    },
    {
     "name": "stderr",
     "output_type": "stream",
     "text": [
      "Epoch 338/512: 100%|██████████████████████████████████████████████████████████████████████████████████████████████████████████| 910/910 [00:27<00:00, 33.09it/s]\n"
     ]
    },
    {
     "name": "stdout",
     "output_type": "stream",
     "text": [
      "Epoch 338/512: Train Loss = 0.20765, Validation Loss = 0.24755, Train Accuracy = 0.83306, Validation Accuracy = 0.81826\n"
     ]
    },
    {
     "name": "stderr",
     "output_type": "stream",
     "text": [
      "Epoch 339/512: 100%|██████████████████████████████████████████████████████████████████████████████████████████████████████████| 910/910 [00:27<00:00, 33.14it/s]\n"
     ]
    },
    {
     "name": "stdout",
     "output_type": "stream",
     "text": [
      "Epoch 339/512: Train Loss = 0.20654, Validation Loss = 0.24053, Train Accuracy = 0.83404, Validation Accuracy = 0.81949\n"
     ]
    },
    {
     "name": "stderr",
     "output_type": "stream",
     "text": [
      "Epoch 340/512: 100%|██████████████████████████████████████████████████████████████████████████████████████████████████████████| 910/910 [00:27<00:00, 33.15it/s]\n"
     ]
    },
    {
     "name": "stdout",
     "output_type": "stream",
     "text": [
      "Epoch 340/512: Train Loss = 0.20709, Validation Loss = 0.24226, Train Accuracy = 0.83258, Validation Accuracy = 0.82169\n"
     ]
    },
    {
     "name": "stderr",
     "output_type": "stream",
     "text": [
      "Epoch 341/512: 100%|██████████████████████████████████████████████████████████████████████████████████████████████████████████| 910/910 [00:27<00:00, 33.28it/s]\n"
     ]
    },
    {
     "name": "stdout",
     "output_type": "stream",
     "text": [
      "Epoch 341/512: Train Loss = 0.20659, Validation Loss = 0.24693, Train Accuracy = 0.83294, Validation Accuracy = 0.81977\n"
     ]
    },
    {
     "name": "stderr",
     "output_type": "stream",
     "text": [
      "Epoch 342/512: 100%|██████████████████████████████████████████████████████████████████████████████████████████████████████████| 910/910 [00:27<00:00, 33.13it/s]\n"
     ]
    },
    {
     "name": "stdout",
     "output_type": "stream",
     "text": [
      "Epoch 342/512: Train Loss = 0.20606, Validation Loss = 0.24564, Train Accuracy = 0.83428, Validation Accuracy = 0.82334\n"
     ]
    },
    {
     "name": "stderr",
     "output_type": "stream",
     "text": [
      "Epoch 343/512: 100%|██████████████████████████████████████████████████████████████████████████████████████████████████████████| 910/910 [00:27<00:00, 33.10it/s]\n"
     ]
    },
    {
     "name": "stdout",
     "output_type": "stream",
     "text": [
      "Epoch 343/512: Train Loss = 0.20588, Validation Loss = 0.25635, Train Accuracy = 0.83383, Validation Accuracy = 0.81977\n"
     ]
    },
    {
     "name": "stderr",
     "output_type": "stream",
     "text": [
      "Epoch 344/512: 100%|██████████████████████████████████████████████████████████████████████████████████████████████████████████| 910/910 [00:27<00:00, 33.02it/s]\n"
     ]
    },
    {
     "name": "stdout",
     "output_type": "stream",
     "text": [
      "Epoch 344/512: Train Loss = 0.20648, Validation Loss = 0.23665, Train Accuracy = 0.83351, Validation Accuracy = 0.82376\n"
     ]
    },
    {
     "name": "stderr",
     "output_type": "stream",
     "text": [
      "Epoch 345/512: 100%|██████████████████████████████████████████████████████████████████████████████████████████████████████████| 910/910 [00:27<00:00, 33.09it/s]\n"
     ]
    },
    {
     "name": "stdout",
     "output_type": "stream",
     "text": [
      "Epoch 345/512: Train Loss = 0.20603, Validation Loss = 0.24263, Train Accuracy = 0.83347, Validation Accuracy = 0.82279\n"
     ]
    },
    {
     "name": "stderr",
     "output_type": "stream",
     "text": [
      "Epoch 346/512: 100%|██████████████████████████████████████████████████████████████████████████████████████████████████████████| 910/910 [00:27<00:00, 33.07it/s]\n"
     ]
    },
    {
     "name": "stdout",
     "output_type": "stream",
     "text": [
      "Epoch 346/512: Train Loss = 0.20527, Validation Loss = 0.24754, Train Accuracy = 0.83401, Validation Accuracy = 0.82348\n"
     ]
    },
    {
     "name": "stderr",
     "output_type": "stream",
     "text": [
      "Epoch 347/512: 100%|██████████████████████████████████████████████████████████████████████████████████████████████████████████| 910/910 [00:27<00:00, 33.10it/s]\n"
     ]
    },
    {
     "name": "stdout",
     "output_type": "stream",
     "text": [
      "Epoch 347/512: Train Loss = 0.20628, Validation Loss = 0.23828, Train Accuracy = 0.83268, Validation Accuracy = 0.82142\n"
     ]
    },
    {
     "name": "stderr",
     "output_type": "stream",
     "text": [
      "Epoch 348/512: 100%|██████████████████████████████████████████████████████████████████████████████████████████████████████████| 910/910 [00:27<00:00, 33.07it/s]\n"
     ]
    },
    {
     "name": "stdout",
     "output_type": "stream",
     "text": [
      "Epoch 348/512: Train Loss = 0.20590, Validation Loss = 0.23732, Train Accuracy = 0.83404, Validation Accuracy = 0.82238\n"
     ]
    },
    {
     "name": "stderr",
     "output_type": "stream",
     "text": [
      "Epoch 349/512: 100%|██████████████████████████████████████████████████████████████████████████████████████████████████████████| 910/910 [00:27<00:00, 33.08it/s]\n"
     ]
    },
    {
     "name": "stdout",
     "output_type": "stream",
     "text": [
      "Epoch 349/512: Train Loss = 0.20474, Validation Loss = 0.24053, Train Accuracy = 0.83371, Validation Accuracy = 0.82183\n"
     ]
    },
    {
     "name": "stderr",
     "output_type": "stream",
     "text": [
      "Epoch 350/512: 100%|██████████████████████████████████████████████████████████████████████████████████████████████████████████| 910/910 [00:27<00:00, 33.20it/s]\n"
     ]
    },
    {
     "name": "stdout",
     "output_type": "stream",
     "text": [
      "Epoch 350/512: Train Loss = 0.20513, Validation Loss = 0.24376, Train Accuracy = 0.83320, Validation Accuracy = 0.82266\n"
     ]
    },
    {
     "name": "stderr",
     "output_type": "stream",
     "text": [
      "Epoch 351/512: 100%|██████████████████████████████████████████████████████████████████████████████████████████████████████████| 910/910 [00:27<00:00, 33.31it/s]\n"
     ]
    },
    {
     "name": "stdout",
     "output_type": "stream",
     "text": [
      "Epoch 351/512: Train Loss = 0.20572, Validation Loss = 0.23975, Train Accuracy = 0.83280, Validation Accuracy = 0.82073\n"
     ]
    },
    {
     "name": "stderr",
     "output_type": "stream",
     "text": [
      "Epoch 352/512: 100%|██████████████████████████████████████████████████████████████████████████████████████████████████████████| 910/910 [00:27<00:00, 33.29it/s]\n"
     ]
    },
    {
     "name": "stdout",
     "output_type": "stream",
     "text": [
      "Epoch 352/512: Train Loss = 0.20542, Validation Loss = 0.24451, Train Accuracy = 0.83380, Validation Accuracy = 0.82444\n"
     ]
    },
    {
     "name": "stderr",
     "output_type": "stream",
     "text": [
      "Epoch 353/512: 100%|██████████████████████████████████████████████████████████████████████████████████████████████████████████| 910/910 [00:27<00:00, 32.99it/s]\n"
     ]
    },
    {
     "name": "stdout",
     "output_type": "stream",
     "text": [
      "Epoch 353/512: Train Loss = 0.20473, Validation Loss = 0.24773, Train Accuracy = 0.83456, Validation Accuracy = 0.82101\n"
     ]
    },
    {
     "name": "stderr",
     "output_type": "stream",
     "text": [
      "Epoch 354/512: 100%|██████████████████████████████████████████████████████████████████████████████████████████████████████████| 910/910 [00:27<00:00, 32.98it/s]\n"
     ]
    },
    {
     "name": "stdout",
     "output_type": "stream",
     "text": [
      "Epoch 354/512: Train Loss = 0.20477, Validation Loss = 0.24154, Train Accuracy = 0.83478, Validation Accuracy = 0.82582\n"
     ]
    },
    {
     "name": "stderr",
     "output_type": "stream",
     "text": [
      "Epoch 355/512: 100%|██████████████████████████████████████████████████████████████████████████████████████████████████████████| 910/910 [00:27<00:00, 33.05it/s]\n"
     ]
    },
    {
     "name": "stdout",
     "output_type": "stream",
     "text": [
      "Epoch 355/512: Train Loss = 0.20608, Validation Loss = 0.24005, Train Accuracy = 0.83280, Validation Accuracy = 0.81963\n"
     ]
    },
    {
     "name": "stderr",
     "output_type": "stream",
     "text": [
      "Epoch 356/512: 100%|██████████████████████████████████████████████████████████████████████████████████████████████████████████| 910/910 [00:27<00:00, 33.11it/s]\n"
     ]
    },
    {
     "name": "stdout",
     "output_type": "stream",
     "text": [
      "Epoch 356/512: Train Loss = 0.20399, Validation Loss = 0.23743, Train Accuracy = 0.83347, Validation Accuracy = 0.82843\n"
     ]
    },
    {
     "name": "stderr",
     "output_type": "stream",
     "text": [
      "Epoch 357/512: 100%|██████████████████████████████████████████████████████████████████████████████████████████████████████████| 910/910 [00:27<00:00, 33.21it/s]\n"
     ]
    },
    {
     "name": "stdout",
     "output_type": "stream",
     "text": [
      "Epoch 357/512: Train Loss = 0.20507, Validation Loss = 0.24352, Train Accuracy = 0.83420, Validation Accuracy = 0.82472\n"
     ]
    },
    {
     "name": "stderr",
     "output_type": "stream",
     "text": [
      "Epoch 358/512: 100%|██████████████████████████████████████████████████████████████████████████████████████████████████████████| 910/910 [00:27<00:00, 33.11it/s]\n"
     ]
    },
    {
     "name": "stdout",
     "output_type": "stream",
     "text": [
      "Epoch 358/512: Train Loss = 0.20496, Validation Loss = 0.23752, Train Accuracy = 0.83512, Validation Accuracy = 0.82389\n"
     ]
    },
    {
     "name": "stderr",
     "output_type": "stream",
     "text": [
      "Epoch 359/512: 100%|██████████████████████████████████████████████████████████████████████████████████████████████████████████| 910/910 [00:27<00:00, 32.96it/s]\n"
     ]
    },
    {
     "name": "stdout",
     "output_type": "stream",
     "text": [
      "Epoch 359/512: Train Loss = 0.20339, Validation Loss = 0.24260, Train Accuracy = 0.83665, Validation Accuracy = 0.82472\n"
     ]
    },
    {
     "name": "stderr",
     "output_type": "stream",
     "text": [
      "Epoch 360/512: 100%|██████████████████████████████████████████████████████████████████████████████████████████████████████████| 910/910 [00:27<00:00, 33.29it/s]\n"
     ]
    },
    {
     "name": "stdout",
     "output_type": "stream",
     "text": [
      "Epoch 360/512: Train Loss = 0.20490, Validation Loss = 0.24367, Train Accuracy = 0.83392, Validation Accuracy = 0.82596\n"
     ]
    },
    {
     "name": "stderr",
     "output_type": "stream",
     "text": [
      "Epoch 361/512: 100%|██████████████████████████████████████████████████████████████████████████████████████████████████████████| 910/910 [00:27<00:00, 33.13it/s]\n"
     ]
    },
    {
     "name": "stdout",
     "output_type": "stream",
     "text": [
      "Epoch 361/512: Train Loss = 0.20369, Validation Loss = 0.24008, Train Accuracy = 0.83626, Validation Accuracy = 0.82582\n"
     ]
    },
    {
     "name": "stderr",
     "output_type": "stream",
     "text": [
      "Epoch 362/512: 100%|██████████████████████████████████████████████████████████████████████████████████████████████████████████| 910/910 [00:27<00:00, 32.92it/s]\n"
     ]
    },
    {
     "name": "stdout",
     "output_type": "stream",
     "text": [
      "Epoch 362/512: Train Loss = 0.20222, Validation Loss = 0.23842, Train Accuracy = 0.83445, Validation Accuracy = 0.82142\n"
     ]
    },
    {
     "name": "stderr",
     "output_type": "stream",
     "text": [
      "Epoch 363/512: 100%|██████████████████████████████████████████████████████████████████████████████████████████████████████████| 910/910 [00:27<00:00, 33.05it/s]\n"
     ]
    },
    {
     "name": "stdout",
     "output_type": "stream",
     "text": [
      "Epoch 363/512: Train Loss = 0.20406, Validation Loss = 0.23925, Train Accuracy = 0.83447, Validation Accuracy = 0.82334\n"
     ]
    },
    {
     "name": "stderr",
     "output_type": "stream",
     "text": [
      "Epoch 364/512: 100%|██████████████████████████████████████████████████████████████████████████████████████████████████████████| 910/910 [00:27<00:00, 33.18it/s]\n"
     ]
    },
    {
     "name": "stdout",
     "output_type": "stream",
     "text": [
      "Epoch 364/512: Train Loss = 0.20288, Validation Loss = 0.24027, Train Accuracy = 0.83660, Validation Accuracy = 0.82169\n"
     ]
    },
    {
     "name": "stderr",
     "output_type": "stream",
     "text": [
      "Epoch 365/512: 100%|██████████████████████████████████████████████████████████████████████████████████████████████████████████| 910/910 [00:27<00:00, 33.25it/s]\n"
     ]
    },
    {
     "name": "stdout",
     "output_type": "stream",
     "text": [
      "Epoch 365/512: Train Loss = 0.20449, Validation Loss = 0.24214, Train Accuracy = 0.83466, Validation Accuracy = 0.82321\n"
     ]
    },
    {
     "name": "stderr",
     "output_type": "stream",
     "text": [
      "Epoch 366/512: 100%|██████████████████████████████████████████████████████████████████████████████████████████████████████████| 910/910 [00:27<00:00, 33.05it/s]\n"
     ]
    },
    {
     "name": "stdout",
     "output_type": "stream",
     "text": [
      "Epoch 366/512: Train Loss = 0.20323, Validation Loss = 0.23534, Train Accuracy = 0.83373, Validation Accuracy = 0.82018\n"
     ]
    },
    {
     "name": "stderr",
     "output_type": "stream",
     "text": [
      "Epoch 367/512: 100%|██████████████████████████████████████████████████████████████████████████████████████████████████████████| 910/910 [00:27<00:00, 33.26it/s]\n"
     ]
    },
    {
     "name": "stdout",
     "output_type": "stream",
     "text": [
      "Epoch 367/512: Train Loss = 0.20304, Validation Loss = 0.24576, Train Accuracy = 0.83502, Validation Accuracy = 0.81729\n"
     ]
    },
    {
     "name": "stderr",
     "output_type": "stream",
     "text": [
      "Epoch 368/512: 100%|██████████████████████████████████████████████████████████████████████████████████████████████████████████| 910/910 [00:27<00:00, 33.27it/s]\n"
     ]
    },
    {
     "name": "stdout",
     "output_type": "stream",
     "text": [
      "Epoch 368/512: Train Loss = 0.20461, Validation Loss = 0.24824, Train Accuracy = 0.83550, Validation Accuracy = 0.82266\n"
     ]
    },
    {
     "name": "stderr",
     "output_type": "stream",
     "text": [
      "Epoch 369/512: 100%|██████████████████████████████████████████████████████████████████████████████████████████████████████████| 910/910 [00:27<00:00, 33.13it/s]\n"
     ]
    },
    {
     "name": "stdout",
     "output_type": "stream",
     "text": [
      "Epoch 369/512: Train Loss = 0.20424, Validation Loss = 0.24248, Train Accuracy = 0.83514, Validation Accuracy = 0.82321\n"
     ]
    },
    {
     "name": "stderr",
     "output_type": "stream",
     "text": [
      "Epoch 370/512: 100%|██████████████████████████████████████████████████████████████████████████████████████████████████████████| 910/910 [00:27<00:00, 33.07it/s]\n"
     ]
    },
    {
     "name": "stdout",
     "output_type": "stream",
     "text": [
      "Epoch 370/512: Train Loss = 0.20315, Validation Loss = 0.24231, Train Accuracy = 0.83566, Validation Accuracy = 0.82431\n"
     ]
    },
    {
     "name": "stderr",
     "output_type": "stream",
     "text": [
      "Epoch 371/512: 100%|██████████████████████████████████████████████████████████████████████████████████████████████████████████| 910/910 [00:27<00:00, 33.04it/s]\n"
     ]
    },
    {
     "name": "stdout",
     "output_type": "stream",
     "text": [
      "Epoch 371/512: Train Loss = 0.20346, Validation Loss = 0.24025, Train Accuracy = 0.83497, Validation Accuracy = 0.82004\n"
     ]
    },
    {
     "name": "stderr",
     "output_type": "stream",
     "text": [
      "Epoch 372/512: 100%|██████████████████████████████████████████████████████████████████████████████████████████████████████████| 910/910 [00:27<00:00, 32.97it/s]\n"
     ]
    },
    {
     "name": "stdout",
     "output_type": "stream",
     "text": [
      "Epoch 372/512: Train Loss = 0.20287, Validation Loss = 0.24392, Train Accuracy = 0.83518, Validation Accuracy = 0.82046\n"
     ]
    },
    {
     "name": "stderr",
     "output_type": "stream",
     "text": [
      "Epoch 373/512: 100%|██████████████████████████████████████████████████████████████████████████████████████████████████████████| 910/910 [00:27<00:00, 33.21it/s]\n"
     ]
    },
    {
     "name": "stdout",
     "output_type": "stream",
     "text": [
      "Epoch 373/512: Train Loss = 0.20282, Validation Loss = 0.24251, Train Accuracy = 0.83504, Validation Accuracy = 0.82224\n"
     ]
    },
    {
     "name": "stderr",
     "output_type": "stream",
     "text": [
      "Epoch 374/512: 100%|██████████████████████████████████████████████████████████████████████████████████████████████████████████| 910/910 [00:27<00:00, 33.06it/s]\n"
     ]
    },
    {
     "name": "stdout",
     "output_type": "stream",
     "text": [
      "Epoch 374/512: Train Loss = 0.19418, Validation Loss = 0.23859, Train Accuracy = 0.83897, Validation Accuracy = 0.82527\n"
     ]
    },
    {
     "name": "stderr",
     "output_type": "stream",
     "text": [
      "Epoch 375/512: 100%|██████████████████████████████████████████████████████████████████████████████████████████████████████████| 910/910 [00:27<00:00, 33.11it/s]\n"
     ]
    },
    {
     "name": "stdout",
     "output_type": "stream",
     "text": [
      "Epoch 375/512: Train Loss = 0.19232, Validation Loss = 0.23659, Train Accuracy = 0.84179, Validation Accuracy = 0.82486\n"
     ]
    },
    {
     "name": "stderr",
     "output_type": "stream",
     "text": [
      "Epoch 376/512: 100%|██████████████████████████████████████████████████████████████████████████████████████████████████████████| 910/910 [00:27<00:00, 33.14it/s]\n"
     ]
    },
    {
     "name": "stdout",
     "output_type": "stream",
     "text": [
      "Epoch 376/512: Train Loss = 0.19281, Validation Loss = 0.24084, Train Accuracy = 0.84205, Validation Accuracy = 0.82376\n"
     ]
    },
    {
     "name": "stderr",
     "output_type": "stream",
     "text": [
      "Epoch 377/512: 100%|██████████████████████████████████████████████████████████████████████████████████████████████████████████| 910/910 [00:27<00:00, 33.08it/s]\n"
     ]
    },
    {
     "name": "stdout",
     "output_type": "stream",
     "text": [
      "Epoch 377/512: Train Loss = 0.19191, Validation Loss = 0.23623, Train Accuracy = 0.84088, Validation Accuracy = 0.82678\n"
     ]
    },
    {
     "name": "stderr",
     "output_type": "stream",
     "text": [
      "Epoch 378/512: 100%|██████████████████████████████████████████████████████████████████████████████████████████████████████████| 910/910 [00:27<00:00, 33.27it/s]\n"
     ]
    },
    {
     "name": "stdout",
     "output_type": "stream",
     "text": [
      "Epoch 378/512: Train Loss = 0.19096, Validation Loss = 0.24081, Train Accuracy = 0.84301, Validation Accuracy = 0.82692\n"
     ]
    },
    {
     "name": "stderr",
     "output_type": "stream",
     "text": [
      "Epoch 379/512: 100%|██████████████████████████████████████████████████████████████████████████████████████████████████████████| 910/910 [00:27<00:00, 33.16it/s]\n"
     ]
    },
    {
     "name": "stdout",
     "output_type": "stream",
     "text": [
      "Epoch 379/512: Train Loss = 0.19130, Validation Loss = 0.23511, Train Accuracy = 0.84193, Validation Accuracy = 0.82554\n"
     ]
    },
    {
     "name": "stderr",
     "output_type": "stream",
     "text": [
      "Epoch 380/512: 100%|██████████████████████████████████████████████████████████████████████████████████████████████████████████| 910/910 [00:27<00:00, 33.18it/s]\n"
     ]
    },
    {
     "name": "stdout",
     "output_type": "stream",
     "text": [
      "Epoch 380/512: Train Loss = 0.19201, Validation Loss = 0.23729, Train Accuracy = 0.84126, Validation Accuracy = 0.82596\n"
     ]
    },
    {
     "name": "stderr",
     "output_type": "stream",
     "text": [
      "Epoch 381/512: 100%|██████████████████████████████████████████████████████████████████████████████████████████████████████████| 910/910 [00:27<00:00, 33.33it/s]\n"
     ]
    },
    {
     "name": "stdout",
     "output_type": "stream",
     "text": [
      "Epoch 381/512: Train Loss = 0.19125, Validation Loss = 0.23904, Train Accuracy = 0.84067, Validation Accuracy = 0.82458\n"
     ]
    },
    {
     "name": "stderr",
     "output_type": "stream",
     "text": [
      "Epoch 382/512: 100%|██████████████████████████████████████████████████████████████████████████████████████████████████████████| 910/910 [00:27<00:00, 32.94it/s]\n"
     ]
    },
    {
     "name": "stdout",
     "output_type": "stream",
     "text": [
      "Epoch 382/512: Train Loss = 0.19094, Validation Loss = 0.23465, Train Accuracy = 0.84061, Validation Accuracy = 0.82348\n"
     ]
    },
    {
     "name": "stderr",
     "output_type": "stream",
     "text": [
      "Epoch 383/512: 100%|██████████████████████████████████████████████████████████████████████████████████████████████████████████| 910/910 [00:27<00:00, 33.32it/s]\n"
     ]
    },
    {
     "name": "stdout",
     "output_type": "stream",
     "text": [
      "Epoch 383/512: Train Loss = 0.19016, Validation Loss = 0.23538, Train Accuracy = 0.84159, Validation Accuracy = 0.82458\n"
     ]
    },
    {
     "name": "stderr",
     "output_type": "stream",
     "text": [
      "Epoch 384/512: 100%|██████████████████████████████████████████████████████████████████████████████████████████████████████████| 910/910 [00:27<00:00, 33.26it/s]\n"
     ]
    },
    {
     "name": "stdout",
     "output_type": "stream",
     "text": [
      "Epoch 384/512: Train Loss = 0.19074, Validation Loss = 0.23621, Train Accuracy = 0.84141, Validation Accuracy = 0.82719\n"
     ]
    },
    {
     "name": "stderr",
     "output_type": "stream",
     "text": [
      "Epoch 385/512: 100%|██████████████████████████████████████████████████████████████████████████████████████████████████████████| 910/910 [00:27<00:00, 33.15it/s]\n"
     ]
    },
    {
     "name": "stdout",
     "output_type": "stream",
     "text": [
      "Epoch 385/512: Train Loss = 0.18950, Validation Loss = 0.24020, Train Accuracy = 0.84241, Validation Accuracy = 0.82321\n"
     ]
    },
    {
     "name": "stderr",
     "output_type": "stream",
     "text": [
      "Epoch 386/512: 100%|██████████████████████████████████████████████████████████████████████████████████████████████████████████| 910/910 [00:27<00:00, 33.05it/s]\n"
     ]
    },
    {
     "name": "stdout",
     "output_type": "stream",
     "text": [
      "Epoch 386/512: Train Loss = 0.19028, Validation Loss = 0.23807, Train Accuracy = 0.84253, Validation Accuracy = 0.82376\n"
     ]
    },
    {
     "name": "stderr",
     "output_type": "stream",
     "text": [
      "Epoch 387/512: 100%|██████████████████████████████████████████████████████████████████████████████████████████████████████████| 910/910 [00:27<00:00, 32.89it/s]\n"
     ]
    },
    {
     "name": "stdout",
     "output_type": "stream",
     "text": [
      "Epoch 387/512: Train Loss = 0.19006, Validation Loss = 0.23600, Train Accuracy = 0.84239, Validation Accuracy = 0.82568\n"
     ]
    },
    {
     "name": "stderr",
     "output_type": "stream",
     "text": [
      "Epoch 388/512: 100%|██████████████████████████████████████████████████████████████████████████████████████████████████████████| 910/910 [00:27<00:00, 33.13it/s]\n"
     ]
    },
    {
     "name": "stdout",
     "output_type": "stream",
     "text": [
      "Epoch 388/512: Train Loss = 0.19003, Validation Loss = 0.23534, Train Accuracy = 0.84456, Validation Accuracy = 0.82761\n"
     ]
    },
    {
     "name": "stderr",
     "output_type": "stream",
     "text": [
      "Epoch 389/512: 100%|██████████████████████████████████████████████████████████████████████████████████████████████████████████| 910/910 [00:27<00:00, 33.03it/s]\n"
     ]
    },
    {
     "name": "stdout",
     "output_type": "stream",
     "text": [
      "Epoch 389/512: Train Loss = 0.18989, Validation Loss = 0.23413, Train Accuracy = 0.84299, Validation Accuracy = 0.82554\n"
     ]
    },
    {
     "name": "stderr",
     "output_type": "stream",
     "text": [
      "Epoch 390/512: 100%|██████████████████████████████████████████████████████████████████████████████████████████████████████████| 910/910 [00:27<00:00, 33.32it/s]\n"
     ]
    },
    {
     "name": "stdout",
     "output_type": "stream",
     "text": [
      "Epoch 390/512: Train Loss = 0.19057, Validation Loss = 0.23660, Train Accuracy = 0.84177, Validation Accuracy = 0.82623\n"
     ]
    },
    {
     "name": "stderr",
     "output_type": "stream",
     "text": [
      "Epoch 391/512: 100%|██████████████████████████████████████████████████████████████████████████████████████████████████████████| 910/910 [00:27<00:00, 33.13it/s]\n"
     ]
    },
    {
     "name": "stdout",
     "output_type": "stream",
     "text": [
      "Epoch 391/512: Train Loss = 0.18980, Validation Loss = 0.23656, Train Accuracy = 0.84196, Validation Accuracy = 0.82747\n"
     ]
    },
    {
     "name": "stderr",
     "output_type": "stream",
     "text": [
      "Epoch 392/512: 100%|██████████████████████████████████████████████████████████████████████████████████████████████████████████| 910/910 [00:27<00:00, 33.32it/s]\n"
     ]
    },
    {
     "name": "stdout",
     "output_type": "stream",
     "text": [
      "Epoch 392/512: Train Loss = 0.18986, Validation Loss = 0.23418, Train Accuracy = 0.84368, Validation Accuracy = 0.82651\n"
     ]
    },
    {
     "name": "stderr",
     "output_type": "stream",
     "text": [
      "Epoch 393/512: 100%|██████████████████████████████████████████████████████████████████████████████████████████████████████████| 910/910 [00:27<00:00, 33.05it/s]\n"
     ]
    },
    {
     "name": "stdout",
     "output_type": "stream",
     "text": [
      "Epoch 393/512: Train Loss = 0.18997, Validation Loss = 0.23474, Train Accuracy = 0.84284, Validation Accuracy = 0.82582\n"
     ]
    },
    {
     "name": "stderr",
     "output_type": "stream",
     "text": [
      "Epoch 394/512: 100%|██████████████████████████████████████████████████████████████████████████████████████████████████████████| 910/910 [00:27<00:00, 33.18it/s]\n"
     ]
    },
    {
     "name": "stdout",
     "output_type": "stream",
     "text": [
      "Epoch 394/512: Train Loss = 0.18876, Validation Loss = 0.23666, Train Accuracy = 0.84279, Validation Accuracy = 0.82884\n"
     ]
    },
    {
     "name": "stderr",
     "output_type": "stream",
     "text": [
      "Epoch 395/512: 100%|██████████████████████████████████████████████████████████████████████████████████████████████████████████| 910/910 [00:27<00:00, 33.34it/s]\n"
     ]
    },
    {
     "name": "stdout",
     "output_type": "stream",
     "text": [
      "Epoch 395/512: Train Loss = 0.19015, Validation Loss = 0.23753, Train Accuracy = 0.84370, Validation Accuracy = 0.82706\n"
     ]
    },
    {
     "name": "stderr",
     "output_type": "stream",
     "text": [
      "Epoch 396/512: 100%|██████████████████████████████████████████████████████████████████████████████████████████████████████████| 910/910 [00:27<00:00, 33.18it/s]\n"
     ]
    },
    {
     "name": "stdout",
     "output_type": "stream",
     "text": [
      "Epoch 396/512: Train Loss = 0.18882, Validation Loss = 0.23895, Train Accuracy = 0.84293, Validation Accuracy = 0.82582\n"
     ]
    },
    {
     "name": "stderr",
     "output_type": "stream",
     "text": [
      "Epoch 397/512: 100%|██████████████████████████████████████████████████████████████████████████████████████████████████████████| 910/910 [00:27<00:00, 32.83it/s]\n"
     ]
    },
    {
     "name": "stdout",
     "output_type": "stream",
     "text": [
      "Epoch 397/512: Train Loss = 0.18874, Validation Loss = 0.23604, Train Accuracy = 0.84205, Validation Accuracy = 0.82334\n"
     ]
    },
    {
     "name": "stderr",
     "output_type": "stream",
     "text": [
      "Epoch 398/512: 100%|██████████████████████████████████████████████████████████████████████████████████████████████████████████| 910/910 [00:27<00:00, 33.21it/s]\n"
     ]
    },
    {
     "name": "stdout",
     "output_type": "stream",
     "text": [
      "Epoch 398/512: Train Loss = 0.18908, Validation Loss = 0.23635, Train Accuracy = 0.84148, Validation Accuracy = 0.82733\n"
     ]
    },
    {
     "name": "stderr",
     "output_type": "stream",
     "text": [
      "Epoch 399/512: 100%|██████████████████████████████████████████████████████████████████████████████████████████████████████████| 910/910 [00:27<00:00, 33.13it/s]\n"
     ]
    },
    {
     "name": "stdout",
     "output_type": "stream",
     "text": [
      "Epoch 399/512: Train Loss = 0.18944, Validation Loss = 0.24046, Train Accuracy = 0.84269, Validation Accuracy = 0.82733\n"
     ]
    },
    {
     "name": "stderr",
     "output_type": "stream",
     "text": [
      "Epoch 400/512: 100%|██████████████████████████████████████████████████████████████████████████████████████████████████████████| 910/910 [00:27<00:00, 33.31it/s]\n"
     ]
    },
    {
     "name": "stdout",
     "output_type": "stream",
     "text": [
      "Epoch 400/512: Train Loss = 0.18799, Validation Loss = 0.23793, Train Accuracy = 0.84311, Validation Accuracy = 0.82142\n"
     ]
    },
    {
     "name": "stderr",
     "output_type": "stream",
     "text": [
      "Epoch 401/512: 100%|██████████████████████████████████████████████████████████████████████████████████████████████████████████| 910/910 [00:27<00:00, 33.16it/s]\n"
     ]
    },
    {
     "name": "stdout",
     "output_type": "stream",
     "text": [
      "Epoch 401/512: Train Loss = 0.18931, Validation Loss = 0.23652, Train Accuracy = 0.84396, Validation Accuracy = 0.82637\n"
     ]
    },
    {
     "name": "stderr",
     "output_type": "stream",
     "text": [
      "Epoch 402/512: 100%|██████████████████████████████████████████████████████████████████████████████████████████████████████████| 910/910 [00:27<00:00, 33.07it/s]\n"
     ]
    },
    {
     "name": "stdout",
     "output_type": "stream",
     "text": [
      "Epoch 402/512: Train Loss = 0.18914, Validation Loss = 0.23757, Train Accuracy = 0.84311, Validation Accuracy = 0.82761\n"
     ]
    },
    {
     "name": "stderr",
     "output_type": "stream",
     "text": [
      "Epoch 403/512: 100%|██████████████████████████████████████████████████████████████████████████████████████████████████████████| 910/910 [00:27<00:00, 33.15it/s]\n"
     ]
    },
    {
     "name": "stdout",
     "output_type": "stream",
     "text": [
      "Epoch 403/512: Train Loss = 0.18828, Validation Loss = 0.23748, Train Accuracy = 0.84274, Validation Accuracy = 0.82884\n"
     ]
    },
    {
     "name": "stderr",
     "output_type": "stream",
     "text": [
      "Epoch 404/512: 100%|██████████████████████████████████████████████████████████████████████████████████████████████████████████| 910/910 [00:27<00:00, 32.94it/s]\n"
     ]
    },
    {
     "name": "stdout",
     "output_type": "stream",
     "text": [
      "Epoch 404/512: Train Loss = 0.18914, Validation Loss = 0.23292, Train Accuracy = 0.84294, Validation Accuracy = 0.82554\n"
     ]
    },
    {
     "name": "stderr",
     "output_type": "stream",
     "text": [
      "Epoch 405/512: 100%|██████████████████████████████████████████████████████████████████████████████████████████████████████████| 910/910 [00:27<00:00, 33.30it/s]\n"
     ]
    },
    {
     "name": "stdout",
     "output_type": "stream",
     "text": [
      "Epoch 405/512: Train Loss = 0.18836, Validation Loss = 0.23287, Train Accuracy = 0.84346, Validation Accuracy = 0.82389\n"
     ]
    },
    {
     "name": "stderr",
     "output_type": "stream",
     "text": [
      "Epoch 406/512: 100%|██████████████████████████████████████████████████████████████████████████████████████████████████████████| 910/910 [00:27<00:00, 33.23it/s]\n"
     ]
    },
    {
     "name": "stdout",
     "output_type": "stream",
     "text": [
      "Epoch 406/512: Train Loss = 0.18809, Validation Loss = 0.23411, Train Accuracy = 0.84188, Validation Accuracy = 0.82362\n"
     ]
    },
    {
     "name": "stderr",
     "output_type": "stream",
     "text": [
      "Epoch 407/512: 100%|██████████████████████████████████████████████████████████████████████████████████████████████████████████| 910/910 [00:27<00:00, 33.00it/s]\n"
     ]
    },
    {
     "name": "stdout",
     "output_type": "stream",
     "text": [
      "Epoch 407/512: Train Loss = 0.18756, Validation Loss = 0.23937, Train Accuracy = 0.84265, Validation Accuracy = 0.82939\n"
     ]
    },
    {
     "name": "stderr",
     "output_type": "stream",
     "text": [
      "Epoch 408/512: 100%|██████████████████████████████████████████████████████████████████████████████████████████████████████████| 910/910 [00:27<00:00, 32.93it/s]\n"
     ]
    },
    {
     "name": "stdout",
     "output_type": "stream",
     "text": [
      "Epoch 408/512: Train Loss = 0.18765, Validation Loss = 0.23858, Train Accuracy = 0.84365, Validation Accuracy = 0.82706\n"
     ]
    },
    {
     "name": "stderr",
     "output_type": "stream",
     "text": [
      "Epoch 409/512: 100%|██████████████████████████████████████████████████████████████████████████████████████████████████████████| 910/910 [00:27<00:00, 33.10it/s]\n"
     ]
    },
    {
     "name": "stdout",
     "output_type": "stream",
     "text": [
      "Epoch 409/512: Train Loss = 0.18836, Validation Loss = 0.23123, Train Accuracy = 0.84207, Validation Accuracy = 0.82774\n"
     ]
    },
    {
     "name": "stderr",
     "output_type": "stream",
     "text": [
      "Epoch 410/512: 100%|██████████████████████████████████████████████████████████████████████████████████████████████████████████| 910/910 [00:27<00:00, 33.02it/s]\n"
     ]
    },
    {
     "name": "stdout",
     "output_type": "stream",
     "text": [
      "Epoch 410/512: Train Loss = 0.18875, Validation Loss = 0.23019, Train Accuracy = 0.84482, Validation Accuracy = 0.82816\n"
     ]
    },
    {
     "name": "stderr",
     "output_type": "stream",
     "text": [
      "Epoch 411/512: 100%|██████████████████████████████████████████████████████████████████████████████████████████████████████████| 910/910 [00:27<00:00, 33.17it/s]\n"
     ]
    },
    {
     "name": "stdout",
     "output_type": "stream",
     "text": [
      "Epoch 411/512: Train Loss = 0.18791, Validation Loss = 0.23467, Train Accuracy = 0.84384, Validation Accuracy = 0.82417\n"
     ]
    },
    {
     "name": "stderr",
     "output_type": "stream",
     "text": [
      "Epoch 412/512: 100%|██████████████████████████████████████████████████████████████████████████████████████████████████████████| 910/910 [00:27<00:00, 33.45it/s]\n"
     ]
    },
    {
     "name": "stdout",
     "output_type": "stream",
     "text": [
      "Epoch 412/512: Train Loss = 0.18853, Validation Loss = 0.23655, Train Accuracy = 0.84272, Validation Accuracy = 0.82266\n"
     ]
    },
    {
     "name": "stderr",
     "output_type": "stream",
     "text": [
      "Epoch 413/512: 100%|██████████████████████████████████████████████████████████████████████████████████████████████████████████| 910/910 [00:27<00:00, 33.13it/s]\n"
     ]
    },
    {
     "name": "stdout",
     "output_type": "stream",
     "text": [
      "Epoch 413/512: Train Loss = 0.18759, Validation Loss = 0.23774, Train Accuracy = 0.84483, Validation Accuracy = 0.82747\n"
     ]
    },
    {
     "name": "stderr",
     "output_type": "stream",
     "text": [
      "Epoch 414/512: 100%|██████████████████████████████████████████████████████████████████████████████████████████████████████████| 910/910 [00:27<00:00, 33.30it/s]\n"
     ]
    },
    {
     "name": "stdout",
     "output_type": "stream",
     "text": [
      "Epoch 414/512: Train Loss = 0.18760, Validation Loss = 0.23041, Train Accuracy = 0.84301, Validation Accuracy = 0.82747\n"
     ]
    },
    {
     "name": "stderr",
     "output_type": "stream",
     "text": [
      "Epoch 415/512: 100%|██████████████████████████████████████████████████████████████████████████████████████████████████████████| 910/910 [00:27<00:00, 33.00it/s]\n"
     ]
    },
    {
     "name": "stdout",
     "output_type": "stream",
     "text": [
      "Epoch 415/512: Train Loss = 0.18897, Validation Loss = 0.23702, Train Accuracy = 0.84270, Validation Accuracy = 0.82678\n"
     ]
    },
    {
     "name": "stderr",
     "output_type": "stream",
     "text": [
      "Epoch 416/512: 100%|██████████████████████████████████████████████████████████████████████████████████████████████████████████| 910/910 [00:27<00:00, 33.15it/s]\n"
     ]
    },
    {
     "name": "stdout",
     "output_type": "stream",
     "text": [
      "Epoch 416/512: Train Loss = 0.18664, Validation Loss = 0.23365, Train Accuracy = 0.84378, Validation Accuracy = 0.82499\n"
     ]
    },
    {
     "name": "stderr",
     "output_type": "stream",
     "text": [
      "Epoch 417/512: 100%|██████████████████████████████████████████████████████████████████████████████████████████████████████████| 910/910 [00:27<00:00, 33.02it/s]\n"
     ]
    },
    {
     "name": "stdout",
     "output_type": "stream",
     "text": [
      "Epoch 417/512: Train Loss = 0.18764, Validation Loss = 0.23733, Train Accuracy = 0.84317, Validation Accuracy = 0.82554\n"
     ]
    },
    {
     "name": "stderr",
     "output_type": "stream",
     "text": [
      "Epoch 418/512: 100%|██████████████████████████████████████████████████████████████████████████████████████████████████████████| 910/910 [00:27<00:00, 33.27it/s]\n"
     ]
    },
    {
     "name": "stdout",
     "output_type": "stream",
     "text": [
      "Epoch 418/512: Train Loss = 0.18790, Validation Loss = 0.23350, Train Accuracy = 0.84473, Validation Accuracy = 0.82774\n"
     ]
    },
    {
     "name": "stderr",
     "output_type": "stream",
     "text": [
      "Epoch 419/512: 100%|██████████████████████████████████████████████████████████████████████████████████████████████████████████| 910/910 [00:27<00:00, 33.11it/s]\n"
     ]
    },
    {
     "name": "stdout",
     "output_type": "stream",
     "text": [
      "Epoch 419/512: Train Loss = 0.18719, Validation Loss = 0.23342, Train Accuracy = 0.84226, Validation Accuracy = 0.82692\n"
     ]
    },
    {
     "name": "stderr",
     "output_type": "stream",
     "text": [
      "Epoch 420/512: 100%|██████████████████████████████████████████████████████████████████████████████████████████████████████████| 910/910 [00:27<00:00, 33.05it/s]\n"
     ]
    },
    {
     "name": "stdout",
     "output_type": "stream",
     "text": [
      "Epoch 420/512: Train Loss = 0.18728, Validation Loss = 0.23428, Train Accuracy = 0.84286, Validation Accuracy = 0.82486\n"
     ]
    },
    {
     "name": "stderr",
     "output_type": "stream",
     "text": [
      "Epoch 421/512: 100%|██████████████████████████████████████████████████████████████████████████████████████████████████████████| 910/910 [00:27<00:00, 32.87it/s]\n"
     ]
    },
    {
     "name": "stdout",
     "output_type": "stream",
     "text": [
      "Epoch 421/512: Train Loss = 0.18696, Validation Loss = 0.23468, Train Accuracy = 0.84409, Validation Accuracy = 0.82568\n"
     ]
    },
    {
     "name": "stderr",
     "output_type": "stream",
     "text": [
      "Epoch 422/512: 100%|██████████████████████████████████████████████████████████████████████████████████████████████████████████| 910/910 [00:27<00:00, 33.24it/s]\n"
     ]
    },
    {
     "name": "stdout",
     "output_type": "stream",
     "text": [
      "Epoch 422/512: Train Loss = 0.18713, Validation Loss = 0.23690, Train Accuracy = 0.84397, Validation Accuracy = 0.82651\n"
     ]
    },
    {
     "name": "stderr",
     "output_type": "stream",
     "text": [
      "Epoch 423/512: 100%|██████████████████████████████████████████████████████████████████████████████████████████████████████████| 910/910 [00:27<00:00, 33.08it/s]\n"
     ]
    },
    {
     "name": "stdout",
     "output_type": "stream",
     "text": [
      "Epoch 423/512: Train Loss = 0.18619, Validation Loss = 0.23891, Train Accuracy = 0.84542, Validation Accuracy = 0.82637\n"
     ]
    },
    {
     "name": "stderr",
     "output_type": "stream",
     "text": [
      "Epoch 424/512: 100%|██████████████████████████████████████████████████████████████████████████████████████████████████████████| 910/910 [00:27<00:00, 33.15it/s]\n"
     ]
    },
    {
     "name": "stdout",
     "output_type": "stream",
     "text": [
      "Epoch 424/512: Train Loss = 0.18759, Validation Loss = 0.23475, Train Accuracy = 0.84344, Validation Accuracy = 0.82816\n"
     ]
    },
    {
     "name": "stderr",
     "output_type": "stream",
     "text": [
      "Epoch 425/512: 100%|██████████████████████████████████████████████████████████████████████████████████████████████████████████| 910/910 [00:27<00:00, 33.15it/s]\n"
     ]
    },
    {
     "name": "stdout",
     "output_type": "stream",
     "text": [
      "Epoch 425/512: Train Loss = 0.18653, Validation Loss = 0.23141, Train Accuracy = 0.84561, Validation Accuracy = 0.82870\n"
     ]
    },
    {
     "name": "stderr",
     "output_type": "stream",
     "text": [
      "Epoch 426/512: 100%|██████████████████████████████████████████████████████████████████████████████████████████████████████████| 910/910 [00:27<00:00, 33.31it/s]\n"
     ]
    },
    {
     "name": "stdout",
     "output_type": "stream",
     "text": [
      "Epoch 426/512: Train Loss = 0.18692, Validation Loss = 0.23811, Train Accuracy = 0.84308, Validation Accuracy = 0.82706\n"
     ]
    },
    {
     "name": "stderr",
     "output_type": "stream",
     "text": [
      "Epoch 427/512: 100%|██████████████████████████████████████████████████████████████████████████████████████████████████████████| 910/910 [00:27<00:00, 33.06it/s]\n"
     ]
    },
    {
     "name": "stdout",
     "output_type": "stream",
     "text": [
      "Epoch 427/512: Train Loss = 0.18601, Validation Loss = 0.23511, Train Accuracy = 0.84263, Validation Accuracy = 0.82802\n"
     ]
    },
    {
     "name": "stderr",
     "output_type": "stream",
     "text": [
      "Epoch 428/512: 100%|██████████████████████████████████████████████████████████████████████████████████████████████████████████| 910/910 [00:27<00:00, 33.05it/s]\n"
     ]
    },
    {
     "name": "stdout",
     "output_type": "stream",
     "text": [
      "Epoch 428/512: Train Loss = 0.18669, Validation Loss = 0.23243, Train Accuracy = 0.84397, Validation Accuracy = 0.82870\n"
     ]
    },
    {
     "name": "stderr",
     "output_type": "stream",
     "text": [
      "Epoch 429/512: 100%|██████████████████████████████████████████████████████████████████████████████████████████████████████████| 910/910 [00:27<00:00, 33.05it/s]\n"
     ]
    },
    {
     "name": "stdout",
     "output_type": "stream",
     "text": [
      "Epoch 429/512: Train Loss = 0.18607, Validation Loss = 0.22949, Train Accuracy = 0.84461, Validation Accuracy = 0.82802\n"
     ]
    },
    {
     "name": "stderr",
     "output_type": "stream",
     "text": [
      "Epoch 430/512: 100%|██████████████████████████████████████████████████████████████████████████████████████████████████████████| 910/910 [00:27<00:00, 33.26it/s]\n"
     ]
    },
    {
     "name": "stdout",
     "output_type": "stream",
     "text": [
      "Epoch 430/512: Train Loss = 0.18654, Validation Loss = 0.23560, Train Accuracy = 0.84399, Validation Accuracy = 0.82788\n"
     ]
    },
    {
     "name": "stderr",
     "output_type": "stream",
     "text": [
      "Epoch 431/512: 100%|██████████████████████████████████████████████████████████████████████████████████████████████████████████| 910/910 [00:27<00:00, 33.04it/s]\n"
     ]
    },
    {
     "name": "stdout",
     "output_type": "stream",
     "text": [
      "Epoch 431/512: Train Loss = 0.18734, Validation Loss = 0.23770, Train Accuracy = 0.84348, Validation Accuracy = 0.82980\n"
     ]
    },
    {
     "name": "stderr",
     "output_type": "stream",
     "text": [
      "Epoch 432/512: 100%|██████████████████████████████████████████████████████████████████████████████████████████████████████████| 910/910 [00:27<00:00, 33.22it/s]\n"
     ]
    },
    {
     "name": "stdout",
     "output_type": "stream",
     "text": [
      "Epoch 432/512: Train Loss = 0.18623, Validation Loss = 0.24245, Train Accuracy = 0.84399, Validation Accuracy = 0.82444\n"
     ]
    },
    {
     "name": "stderr",
     "output_type": "stream",
     "text": [
      "Epoch 433/512: 100%|██████████████████████████████████████████████████████████████████████████████████████████████████████████| 910/910 [00:27<00:00, 33.14it/s]\n"
     ]
    },
    {
     "name": "stdout",
     "output_type": "stream",
     "text": [
      "Epoch 433/512: Train Loss = 0.18654, Validation Loss = 0.23627, Train Accuracy = 0.84226, Validation Accuracy = 0.82692\n"
     ]
    },
    {
     "name": "stderr",
     "output_type": "stream",
     "text": [
      "Epoch 434/512: 100%|██████████████████████████████████████████████████████████████████████████████████████████████████████████| 910/910 [00:27<00:00, 33.27it/s]\n"
     ]
    },
    {
     "name": "stdout",
     "output_type": "stream",
     "text": [
      "Epoch 434/512: Train Loss = 0.18683, Validation Loss = 0.23101, Train Accuracy = 0.84528, Validation Accuracy = 0.82692\n"
     ]
    },
    {
     "name": "stderr",
     "output_type": "stream",
     "text": [
      "Epoch 435/512: 100%|██████████████████████████████████████████████████████████████████████████████████████████████████████████| 910/910 [00:27<00:00, 33.06it/s]\n"
     ]
    },
    {
     "name": "stdout",
     "output_type": "stream",
     "text": [
      "Epoch 435/512: Train Loss = 0.18618, Validation Loss = 0.24141, Train Accuracy = 0.84538, Validation Accuracy = 0.82733\n"
     ]
    },
    {
     "name": "stderr",
     "output_type": "stream",
     "text": [
      "Epoch 436/512: 100%|██████████████████████████████████████████████████████████████████████████████████████████████████████████| 910/910 [00:27<00:00, 32.89it/s]\n"
     ]
    },
    {
     "name": "stdout",
     "output_type": "stream",
     "text": [
      "Epoch 436/512: Train Loss = 0.18670, Validation Loss = 0.23230, Train Accuracy = 0.84480, Validation Accuracy = 0.82678\n"
     ]
    },
    {
     "name": "stderr",
     "output_type": "stream",
     "text": [
      "Epoch 437/512: 100%|██████████████████████████████████████████████████████████████████████████████████████████████████████████| 910/910 [00:27<00:00, 33.14it/s]\n"
     ]
    },
    {
     "name": "stdout",
     "output_type": "stream",
     "text": [
      "Epoch 437/512: Train Loss = 0.18590, Validation Loss = 0.23184, Train Accuracy = 0.84612, Validation Accuracy = 0.83090\n"
     ]
    },
    {
     "name": "stderr",
     "output_type": "stream",
     "text": [
      "Epoch 438/512: 100%|██████████████████████████████████████████████████████████████████████████████████████████████████████████| 910/910 [00:27<00:00, 33.25it/s]\n"
     ]
    },
    {
     "name": "stdout",
     "output_type": "stream",
     "text": [
      "Epoch 438/512: Train Loss = 0.18647, Validation Loss = 0.23426, Train Accuracy = 0.84430, Validation Accuracy = 0.82706\n"
     ]
    },
    {
     "name": "stderr",
     "output_type": "stream",
     "text": [
      "Epoch 439/512: 100%|██████████████████████████████████████████████████████████████████████████████████████████████████████████| 910/910 [00:27<00:00, 33.23it/s]\n"
     ]
    },
    {
     "name": "stdout",
     "output_type": "stream",
     "text": [
      "Epoch 439/512: Train Loss = 0.18616, Validation Loss = 0.23179, Train Accuracy = 0.84387, Validation Accuracy = 0.82527\n"
     ]
    },
    {
     "name": "stderr",
     "output_type": "stream",
     "text": [
      "Epoch 440/512: 100%|██████████████████████████████████████████████████████████████████████████████████████████████████████████| 910/910 [00:27<00:00, 33.16it/s]\n"
     ]
    },
    {
     "name": "stdout",
     "output_type": "stream",
     "text": [
      "Epoch 440/512: Train Loss = 0.18515, Validation Loss = 0.23530, Train Accuracy = 0.84765, Validation Accuracy = 0.82389\n"
     ]
    },
    {
     "name": "stderr",
     "output_type": "stream",
     "text": [
      "Epoch 441/512: 100%|██████████████████████████████████████████████████████████████████████████████████████████████████████████| 910/910 [00:27<00:00, 33.28it/s]\n"
     ]
    },
    {
     "name": "stdout",
     "output_type": "stream",
     "text": [
      "Epoch 441/512: Train Loss = 0.18558, Validation Loss = 0.23697, Train Accuracy = 0.84468, Validation Accuracy = 0.82651\n"
     ]
    },
    {
     "name": "stderr",
     "output_type": "stream",
     "text": [
      "Epoch 442/512: 100%|██████████████████████████████████████████████████████████████████████████████████████████████████████████| 910/910 [00:27<00:00, 33.33it/s]\n"
     ]
    },
    {
     "name": "stdout",
     "output_type": "stream",
     "text": [
      "Epoch 442/512: Train Loss = 0.18677, Validation Loss = 0.23883, Train Accuracy = 0.84346, Validation Accuracy = 0.82486\n"
     ]
    },
    {
     "name": "stderr",
     "output_type": "stream",
     "text": [
      "Epoch 443/512: 100%|██████████████████████████████████████████████████████████████████████████████████████████████████████████| 910/910 [00:27<00:00, 33.22it/s]\n"
     ]
    },
    {
     "name": "stdout",
     "output_type": "stream",
     "text": [
      "Epoch 443/512: Train Loss = 0.18672, Validation Loss = 0.23545, Train Accuracy = 0.84293, Validation Accuracy = 0.82870\n"
     ]
    },
    {
     "name": "stderr",
     "output_type": "stream",
     "text": [
      "Epoch 444/512: 100%|██████████████████████████████████████████████████████████████████████████████████████████████████████████| 910/910 [00:27<00:00, 33.20it/s]\n"
     ]
    },
    {
     "name": "stdout",
     "output_type": "stream",
     "text": [
      "Epoch 444/512: Train Loss = 0.18612, Validation Loss = 0.23724, Train Accuracy = 0.84571, Validation Accuracy = 0.82706\n"
     ]
    },
    {
     "name": "stderr",
     "output_type": "stream",
     "text": [
      "Epoch 445/512: 100%|██████████████████████████████████████████████████████████████████████████████████████████████████████████| 910/910 [00:27<00:00, 33.36it/s]\n"
     ]
    },
    {
     "name": "stdout",
     "output_type": "stream",
     "text": [
      "Epoch 445/512: Train Loss = 0.18674, Validation Loss = 0.24050, Train Accuracy = 0.84396, Validation Accuracy = 0.82719\n"
     ]
    },
    {
     "name": "stderr",
     "output_type": "stream",
     "text": [
      "Epoch 446/512: 100%|██████████████████████████████████████████████████████████████████████████████████████████████████████████| 910/910 [00:27<00:00, 32.82it/s]\n"
     ]
    },
    {
     "name": "stdout",
     "output_type": "stream",
     "text": [
      "Epoch 446/512: Train Loss = 0.18626, Validation Loss = 0.23201, Train Accuracy = 0.84550, Validation Accuracy = 0.82733\n"
     ]
    },
    {
     "name": "stderr",
     "output_type": "stream",
     "text": [
      "Epoch 447/512: 100%|██████████████████████████████████████████████████████████████████████████████████████████████████████████| 910/910 [00:27<00:00, 32.87it/s]\n"
     ]
    },
    {
     "name": "stdout",
     "output_type": "stream",
     "text": [
      "Epoch 447/512: Train Loss = 0.18676, Validation Loss = 0.24083, Train Accuracy = 0.84454, Validation Accuracy = 0.82953\n"
     ]
    },
    {
     "name": "stderr",
     "output_type": "stream",
     "text": [
      "Epoch 448/512: 100%|██████████████████████████████████████████████████████████████████████████████████████████████████████████| 910/910 [00:27<00:00, 33.06it/s]\n"
     ]
    },
    {
     "name": "stdout",
     "output_type": "stream",
     "text": [
      "Epoch 448/512: Train Loss = 0.18594, Validation Loss = 0.23247, Train Accuracy = 0.84468, Validation Accuracy = 0.82582\n"
     ]
    },
    {
     "name": "stderr",
     "output_type": "stream",
     "text": [
      "Epoch 449/512: 100%|██████████████████████████████████████████████████████████████████████████████████████████████████████████| 910/910 [00:27<00:00, 33.23it/s]\n"
     ]
    },
    {
     "name": "stdout",
     "output_type": "stream",
     "text": [
      "Epoch 449/512: Train Loss = 0.18572, Validation Loss = 0.24091, Train Accuracy = 0.84485, Validation Accuracy = 0.82211\n"
     ]
    },
    {
     "name": "stderr",
     "output_type": "stream",
     "text": [
      "Epoch 450/512: 100%|██████████████████████████████████████████████████████████████████████████████████████████████████████████| 910/910 [00:27<00:00, 33.15it/s]\n"
     ]
    },
    {
     "name": "stdout",
     "output_type": "stream",
     "text": [
      "Epoch 450/512: Train Loss = 0.18619, Validation Loss = 0.23719, Train Accuracy = 0.84525, Validation Accuracy = 0.82596\n"
     ]
    },
    {
     "name": "stderr",
     "output_type": "stream",
     "text": [
      "Epoch 451/512: 100%|██████████████████████████████████████████████████████████████████████████████████████████████████████████| 910/910 [00:27<00:00, 33.25it/s]\n"
     ]
    },
    {
     "name": "stdout",
     "output_type": "stream",
     "text": [
      "Epoch 451/512: Train Loss = 0.18465, Validation Loss = 0.23369, Train Accuracy = 0.84592, Validation Accuracy = 0.82816\n"
     ]
    },
    {
     "name": "stderr",
     "output_type": "stream",
     "text": [
      "Epoch 452/512: 100%|██████████████████████████████████████████████████████████████████████████████████████████████████████████| 910/910 [00:27<00:00, 33.14it/s]\n"
     ]
    },
    {
     "name": "stdout",
     "output_type": "stream",
     "text": [
      "Epoch 452/512: Train Loss = 0.18590, Validation Loss = 0.23266, Train Accuracy = 0.84540, Validation Accuracy = 0.82843\n"
     ]
    },
    {
     "name": "stderr",
     "output_type": "stream",
     "text": [
      "Epoch 453/512: 100%|██████████████████████████████████████████████████████████████████████████████████████████████████████████| 910/910 [00:27<00:00, 33.39it/s]\n"
     ]
    },
    {
     "name": "stdout",
     "output_type": "stream",
     "text": [
      "Epoch 453/512: Train Loss = 0.18488, Validation Loss = 0.23235, Train Accuracy = 0.84538, Validation Accuracy = 0.83022\n"
     ]
    },
    {
     "name": "stderr",
     "output_type": "stream",
     "text": [
      "Epoch 454/512: 100%|██████████████████████████████████████████████████████████████████████████████████████████████████████████| 910/910 [00:27<00:00, 33.12it/s]\n"
     ]
    },
    {
     "name": "stdout",
     "output_type": "stream",
     "text": [
      "Epoch 454/512: Train Loss = 0.18490, Validation Loss = 0.23392, Train Accuracy = 0.84612, Validation Accuracy = 0.82953\n"
     ]
    },
    {
     "name": "stderr",
     "output_type": "stream",
     "text": [
      "Epoch 455/512: 100%|██████████████████████████████████████████████████████████████████████████████████████████████████████████| 910/910 [00:27<00:00, 33.38it/s]\n"
     ]
    },
    {
     "name": "stdout",
     "output_type": "stream",
     "text": [
      "Epoch 455/512: Train Loss = 0.18539, Validation Loss = 0.23022, Train Accuracy = 0.84358, Validation Accuracy = 0.82678\n"
     ]
    },
    {
     "name": "stderr",
     "output_type": "stream",
     "text": [
      "Epoch 456/512: 100%|██████████████████████████████████████████████████████████████████████████████████████████████████████████| 910/910 [00:27<00:00, 33.22it/s]\n"
     ]
    },
    {
     "name": "stdout",
     "output_type": "stream",
     "text": [
      "Epoch 456/512: Train Loss = 0.18475, Validation Loss = 0.23520, Train Accuracy = 0.84463, Validation Accuracy = 0.82486\n"
     ]
    },
    {
     "name": "stderr",
     "output_type": "stream",
     "text": [
      "Epoch 457/512: 100%|██████████████████████████████████████████████████████████████████████████████████████████████████████████| 910/910 [00:27<00:00, 33.05it/s]\n"
     ]
    },
    {
     "name": "stdout",
     "output_type": "stream",
     "text": [
      "Epoch 457/512: Train Loss = 0.18512, Validation Loss = 0.23214, Train Accuracy = 0.84561, Validation Accuracy = 0.83090\n"
     ]
    },
    {
     "name": "stderr",
     "output_type": "stream",
     "text": [
      "Epoch 458/512: 100%|██████████████████████████████████████████████████████████████████████████████████████████████████████████| 910/910 [00:27<00:00, 33.05it/s]\n"
     ]
    },
    {
     "name": "stdout",
     "output_type": "stream",
     "text": [
      "Epoch 458/512: Train Loss = 0.18498, Validation Loss = 0.23233, Train Accuracy = 0.84497, Validation Accuracy = 0.82733\n"
     ]
    },
    {
     "name": "stderr",
     "output_type": "stream",
     "text": [
      "Epoch 459/512: 100%|██████████████████████████████████████████████████████████████████████████████████████████████████████████| 910/910 [00:27<00:00, 33.09it/s]\n"
     ]
    },
    {
     "name": "stdout",
     "output_type": "stream",
     "text": [
      "Epoch 459/512: Train Loss = 0.18518, Validation Loss = 0.23245, Train Accuracy = 0.84549, Validation Accuracy = 0.82664\n"
     ]
    },
    {
     "name": "stderr",
     "output_type": "stream",
     "text": [
      "Epoch 460/512: 100%|██████████████████████████████████████████████████████████████████████████████████████████████████████████| 910/910 [00:27<00:00, 33.19it/s]\n"
     ]
    },
    {
     "name": "stdout",
     "output_type": "stream",
     "text": [
      "Epoch 460/512: Train Loss = 0.18534, Validation Loss = 0.23360, Train Accuracy = 0.84413, Validation Accuracy = 0.82774\n"
     ]
    },
    {
     "name": "stderr",
     "output_type": "stream",
     "text": [
      "Epoch 461/512: 100%|██████████████████████████████████████████████████████████████████████████████████████████████████████████| 910/910 [00:27<00:00, 32.94it/s]\n"
     ]
    },
    {
     "name": "stdout",
     "output_type": "stream",
     "text": [
      "Epoch 461/512: Train Loss = 0.18426, Validation Loss = 0.23218, Train Accuracy = 0.84468, Validation Accuracy = 0.83118\n"
     ]
    },
    {
     "name": "stderr",
     "output_type": "stream",
     "text": [
      "Epoch 462/512: 100%|██████████████████████████████████████████████████████████████████████████████████████████████████████████| 910/910 [00:27<00:00, 33.19it/s]\n"
     ]
    },
    {
     "name": "stdout",
     "output_type": "stream",
     "text": [
      "Epoch 462/512: Train Loss = 0.18444, Validation Loss = 0.23486, Train Accuracy = 0.84641, Validation Accuracy = 0.83022\n"
     ]
    },
    {
     "name": "stderr",
     "output_type": "stream",
     "text": [
      "Epoch 463/512: 100%|██████████████████████████████████████████████████████████████████████████████████████████████████████████| 910/910 [00:27<00:00, 33.20it/s]\n"
     ]
    },
    {
     "name": "stdout",
     "output_type": "stream",
     "text": [
      "Epoch 463/512: Train Loss = 0.18466, Validation Loss = 0.23366, Train Accuracy = 0.84409, Validation Accuracy = 0.82719\n"
     ]
    },
    {
     "name": "stderr",
     "output_type": "stream",
     "text": [
      "Epoch 464/512: 100%|██████████████████████████████████████████████████████████████████████████████████████████████████████████| 910/910 [00:27<00:00, 32.89it/s]\n"
     ]
    },
    {
     "name": "stdout",
     "output_type": "stream",
     "text": [
      "Epoch 464/512: Train Loss = 0.18549, Validation Loss = 0.23476, Train Accuracy = 0.84435, Validation Accuracy = 0.82692\n"
     ]
    },
    {
     "name": "stderr",
     "output_type": "stream",
     "text": [
      "Epoch 465/512: 100%|██████████████████████████████████████████████████████████████████████████████████████████████████████████| 910/910 [00:27<00:00, 33.02it/s]\n"
     ]
    },
    {
     "name": "stdout",
     "output_type": "stream",
     "text": [
      "Epoch 465/512: Train Loss = 0.18478, Validation Loss = 0.23654, Train Accuracy = 0.84609, Validation Accuracy = 0.82664\n"
     ]
    },
    {
     "name": "stderr",
     "output_type": "stream",
     "text": [
      "Epoch 466/512: 100%|██████████████████████████████████████████████████████████████████████████████████████████████████████████| 910/910 [00:27<00:00, 33.12it/s]\n"
     ]
    },
    {
     "name": "stdout",
     "output_type": "stream",
     "text": [
      "Epoch 466/512: Train Loss = 0.18430, Validation Loss = 0.23620, Train Accuracy = 0.84640, Validation Accuracy = 0.82761\n"
     ]
    },
    {
     "name": "stderr",
     "output_type": "stream",
     "text": [
      "Epoch 467/512: 100%|██████████████████████████████████████████████████████████████████████████████████████████████████████████| 910/910 [00:27<00:00, 33.20it/s]\n"
     ]
    },
    {
     "name": "stdout",
     "output_type": "stream",
     "text": [
      "Epoch 467/512: Train Loss = 0.18516, Validation Loss = 0.23429, Train Accuracy = 0.84533, Validation Accuracy = 0.82623\n"
     ]
    },
    {
     "name": "stderr",
     "output_type": "stream",
     "text": [
      "Epoch 468/512: 100%|██████████████████████████████████████████████████████████████████████████████████████████████████████████| 910/910 [00:27<00:00, 32.96it/s]\n"
     ]
    },
    {
     "name": "stdout",
     "output_type": "stream",
     "text": [
      "Epoch 468/512: Train Loss = 0.18427, Validation Loss = 0.23334, Train Accuracy = 0.84519, Validation Accuracy = 0.82953\n"
     ]
    },
    {
     "name": "stderr",
     "output_type": "stream",
     "text": [
      "Epoch 469/512: 100%|██████████████████████████████████████████████████████████████████████████████████████████████████████████| 910/910 [00:27<00:00, 33.19it/s]\n"
     ]
    },
    {
     "name": "stdout",
     "output_type": "stream",
     "text": [
      "Epoch 469/512: Train Loss = 0.18310, Validation Loss = 0.23247, Train Accuracy = 0.84592, Validation Accuracy = 0.82967\n"
     ]
    },
    {
     "name": "stderr",
     "output_type": "stream",
     "text": [
      "Epoch 470/512: 100%|██████████████████████████████████████████████████████████████████████████████████████████████████████████| 910/910 [00:27<00:00, 33.10it/s]\n"
     ]
    },
    {
     "name": "stdout",
     "output_type": "stream",
     "text": [
      "Epoch 470/512: Train Loss = 0.18526, Validation Loss = 0.23216, Train Accuracy = 0.84476, Validation Accuracy = 0.82884\n"
     ]
    },
    {
     "name": "stderr",
     "output_type": "stream",
     "text": [
      "Epoch 471/512: 100%|██████████████████████████████████████████████████████████████████████████████████████████████████████████| 910/910 [00:27<00:00, 33.00it/s]\n"
     ]
    },
    {
     "name": "stdout",
     "output_type": "stream",
     "text": [
      "Epoch 471/512: Train Loss = 0.18526, Validation Loss = 0.23499, Train Accuracy = 0.84483, Validation Accuracy = 0.82774\n"
     ]
    },
    {
     "name": "stderr",
     "output_type": "stream",
     "text": [
      "Epoch 472/512: 100%|██████████████████████████████████████████████████████████████████████████████████████████████████████████| 910/910 [00:27<00:00, 32.94it/s]\n"
     ]
    },
    {
     "name": "stdout",
     "output_type": "stream",
     "text": [
      "Epoch 472/512: Train Loss = 0.18344, Validation Loss = 0.23419, Train Accuracy = 0.84641, Validation Accuracy = 0.82527\n"
     ]
    },
    {
     "name": "stderr",
     "output_type": "stream",
     "text": [
      "Epoch 473/512: 100%|██████████████████████████████████████████████████████████████████████████████████████████████████████████| 910/910 [00:27<00:00, 33.07it/s]\n"
     ]
    },
    {
     "name": "stdout",
     "output_type": "stream",
     "text": [
      "Epoch 473/512: Train Loss = 0.18481, Validation Loss = 0.22931, Train Accuracy = 0.84476, Validation Accuracy = 0.82925\n"
     ]
    },
    {
     "name": "stderr",
     "output_type": "stream",
     "text": [
      "Epoch 474/512: 100%|██████████████████████████████████████████████████████████████████████████████████████████████████████████| 910/910 [00:27<00:00, 32.98it/s]\n"
     ]
    },
    {
     "name": "stdout",
     "output_type": "stream",
     "text": [
      "Epoch 474/512: Train Loss = 0.18397, Validation Loss = 0.23806, Train Accuracy = 0.84499, Validation Accuracy = 0.82870\n"
     ]
    },
    {
     "name": "stderr",
     "output_type": "stream",
     "text": [
      "Epoch 475/512: 100%|██████████████████████████████████████████████████████████████████████████████████████████████████████████| 910/910 [00:27<00:00, 33.13it/s]\n"
     ]
    },
    {
     "name": "stdout",
     "output_type": "stream",
     "text": [
      "Epoch 475/512: Train Loss = 0.18519, Validation Loss = 0.23037, Train Accuracy = 0.84540, Validation Accuracy = 0.83049\n"
     ]
    },
    {
     "name": "stderr",
     "output_type": "stream",
     "text": [
      "Epoch 476/512: 100%|██████████████████████████████████████████████████████████████████████████████████████████████████████████| 910/910 [00:27<00:00, 33.35it/s]\n"
     ]
    },
    {
     "name": "stdout",
     "output_type": "stream",
     "text": [
      "Epoch 476/512: Train Loss = 0.18441, Validation Loss = 0.23338, Train Accuracy = 0.84588, Validation Accuracy = 0.83049\n"
     ]
    },
    {
     "name": "stderr",
     "output_type": "stream",
     "text": [
      "Epoch 477/512: 100%|██████████████████████████████████████████████████████████████████████████████████████████████████████████| 910/910 [00:27<00:00, 32.97it/s]\n"
     ]
    },
    {
     "name": "stdout",
     "output_type": "stream",
     "text": [
      "Epoch 477/512: Train Loss = 0.18418, Validation Loss = 0.23356, Train Accuracy = 0.84458, Validation Accuracy = 0.82953\n"
     ]
    },
    {
     "name": "stderr",
     "output_type": "stream",
     "text": [
      "Epoch 478/512: 100%|██████████████████████████████████████████████████████████████████████████████████████████████████████████| 910/910 [00:27<00:00, 33.19it/s]\n"
     ]
    },
    {
     "name": "stdout",
     "output_type": "stream",
     "text": [
      "Epoch 478/512: Train Loss = 0.18419, Validation Loss = 0.23624, Train Accuracy = 0.84516, Validation Accuracy = 0.82857\n"
     ]
    },
    {
     "name": "stderr",
     "output_type": "stream",
     "text": [
      "Epoch 479/512: 100%|██████████████████████████████████████████████████████████████████████████████████████████████████████████| 910/910 [00:27<00:00, 32.94it/s]\n"
     ]
    },
    {
     "name": "stdout",
     "output_type": "stream",
     "text": [
      "Epoch 479/512: Train Loss = 0.18471, Validation Loss = 0.22989, Train Accuracy = 0.84562, Validation Accuracy = 0.82857\n"
     ]
    },
    {
     "name": "stderr",
     "output_type": "stream",
     "text": [
      "Epoch 480/512: 100%|██████████████████████████████████████████████████████████████████████████████████████████████████████████| 910/910 [00:27<00:00, 33.28it/s]\n"
     ]
    },
    {
     "name": "stdout",
     "output_type": "stream",
     "text": [
      "Epoch 480/512: Train Loss = 0.18459, Validation Loss = 0.23306, Train Accuracy = 0.84597, Validation Accuracy = 0.82967\n"
     ]
    },
    {
     "name": "stderr",
     "output_type": "stream",
     "text": [
      "Epoch 481/512: 100%|██████████████████████████████████████████████████████████████████████████████████████████████████████████| 910/910 [00:27<00:00, 33.19it/s]\n"
     ]
    },
    {
     "name": "stdout",
     "output_type": "stream",
     "text": [
      "Epoch 481/512: Train Loss = 0.17911, Validation Loss = 0.23400, Train Accuracy = 0.84822, Validation Accuracy = 0.82788\n"
     ]
    },
    {
     "name": "stderr",
     "output_type": "stream",
     "text": [
      "Epoch 482/512: 100%|██████████████████████████████████████████████████████████████████████████████████████████████████████████| 910/910 [00:27<00:00, 33.00it/s]\n"
     ]
    },
    {
     "name": "stdout",
     "output_type": "stream",
     "text": [
      "Epoch 482/512: Train Loss = 0.17830, Validation Loss = 0.23413, Train Accuracy = 0.84727, Validation Accuracy = 0.82925\n"
     ]
    },
    {
     "name": "stderr",
     "output_type": "stream",
     "text": [
      "Epoch 483/512: 100%|██████████████████████████████████████████████████████████████████████████████████████████████████████████| 910/910 [00:27<00:00, 33.16it/s]\n"
     ]
    },
    {
     "name": "stdout",
     "output_type": "stream",
     "text": [
      "Epoch 483/512: Train Loss = 0.17782, Validation Loss = 0.23333, Train Accuracy = 0.84904, Validation Accuracy = 0.83077\n"
     ]
    },
    {
     "name": "stderr",
     "output_type": "stream",
     "text": [
      "Epoch 484/512: 100%|██████████████████████████████████████████████████████████████████████████████████████████████████████████| 910/910 [00:27<00:00, 33.27it/s]\n"
     ]
    },
    {
     "name": "stdout",
     "output_type": "stream",
     "text": [
      "Epoch 484/512: Train Loss = 0.17883, Validation Loss = 0.22932, Train Accuracy = 0.84867, Validation Accuracy = 0.82857\n"
     ]
    },
    {
     "name": "stderr",
     "output_type": "stream",
     "text": [
      "Epoch 485/512: 100%|██████████████████████████████████████████████████████████████████████████████████████████████████████████| 910/910 [00:27<00:00, 32.94it/s]\n"
     ]
    },
    {
     "name": "stdout",
     "output_type": "stream",
     "text": [
      "Epoch 485/512: Train Loss = 0.17924, Validation Loss = 0.22982, Train Accuracy = 0.84892, Validation Accuracy = 0.83008\n"
     ]
    },
    {
     "name": "stderr",
     "output_type": "stream",
     "text": [
      "Epoch 486/512: 100%|██████████████████████████████████████████████████████████████████████████████████████████████████████████| 910/910 [00:27<00:00, 33.26it/s]\n"
     ]
    },
    {
     "name": "stdout",
     "output_type": "stream",
     "text": [
      "Epoch 486/512: Train Loss = 0.17862, Validation Loss = 0.23064, Train Accuracy = 0.84827, Validation Accuracy = 0.82843\n"
     ]
    },
    {
     "name": "stderr",
     "output_type": "stream",
     "text": [
      "Epoch 487/512: 100%|██████████████████████████████████████████████████████████████████████████████████████████████████████████| 910/910 [00:27<00:00, 33.17it/s]\n"
     ]
    },
    {
     "name": "stdout",
     "output_type": "stream",
     "text": [
      "Epoch 487/512: Train Loss = 0.17804, Validation Loss = 0.23334, Train Accuracy = 0.85002, Validation Accuracy = 0.82706\n"
     ]
    },
    {
     "name": "stderr",
     "output_type": "stream",
     "text": [
      "Epoch 488/512: 100%|██████████████████████████████████████████████████████████████████████████████████████████████████████████| 910/910 [00:27<00:00, 32.97it/s]\n"
     ]
    },
    {
     "name": "stdout",
     "output_type": "stream",
     "text": [
      "Epoch 488/512: Train Loss = 0.17867, Validation Loss = 0.22917, Train Accuracy = 0.84763, Validation Accuracy = 0.82884\n"
     ]
    },
    {
     "name": "stderr",
     "output_type": "stream",
     "text": [
      "Epoch 489/512: 100%|██████████████████████████████████████████████████████████████████████████████████████████████████████████| 910/910 [00:27<00:00, 33.10it/s]\n"
     ]
    },
    {
     "name": "stdout",
     "output_type": "stream",
     "text": [
      "Epoch 489/512: Train Loss = 0.17863, Validation Loss = 0.22699, Train Accuracy = 0.84798, Validation Accuracy = 0.82912\n"
     ]
    },
    {
     "name": "stderr",
     "output_type": "stream",
     "text": [
      "Epoch 490/512: 100%|██████████████████████████████████████████████████████████████████████████████████████████████████████████| 910/910 [00:27<00:00, 32.91it/s]\n"
     ]
    },
    {
     "name": "stdout",
     "output_type": "stream",
     "text": [
      "Epoch 490/512: Train Loss = 0.17781, Validation Loss = 0.23275, Train Accuracy = 0.85013, Validation Accuracy = 0.82637\n"
     ]
    },
    {
     "name": "stderr",
     "output_type": "stream",
     "text": [
      "Epoch 491/512: 100%|██████████████████████████████████████████████████████████████████████████████████████████████████████████| 910/910 [00:27<00:00, 33.39it/s]\n"
     ]
    },
    {
     "name": "stdout",
     "output_type": "stream",
     "text": [
      "Epoch 491/512: Train Loss = 0.17702, Validation Loss = 0.23257, Train Accuracy = 0.84970, Validation Accuracy = 0.82802\n"
     ]
    },
    {
     "name": "stderr",
     "output_type": "stream",
     "text": [
      "Epoch 492/512: 100%|██████████████████████████████████████████████████████████████████████████████████████████████████████████| 910/910 [00:27<00:00, 33.21it/s]\n"
     ]
    },
    {
     "name": "stdout",
     "output_type": "stream",
     "text": [
      "Epoch 492/512: Train Loss = 0.17706, Validation Loss = 0.23173, Train Accuracy = 0.85117, Validation Accuracy = 0.82568\n"
     ]
    },
    {
     "name": "stderr",
     "output_type": "stream",
     "text": [
      "Epoch 493/512: 100%|██████████████████████████████████████████████████████████████████████████████████████████████████████████| 910/910 [00:27<00:00, 33.13it/s]\n"
     ]
    },
    {
     "name": "stdout",
     "output_type": "stream",
     "text": [
      "Epoch 493/512: Train Loss = 0.17788, Validation Loss = 0.23147, Train Accuracy = 0.84885, Validation Accuracy = 0.82719\n"
     ]
    },
    {
     "name": "stderr",
     "output_type": "stream",
     "text": [
      "Epoch 494/512: 100%|██████████████████████████████████████████████████████████████████████████████████████████████████████████| 910/910 [00:27<00:00, 33.16it/s]\n"
     ]
    },
    {
     "name": "stdout",
     "output_type": "stream",
     "text": [
      "Epoch 494/512: Train Loss = 0.17902, Validation Loss = 0.23150, Train Accuracy = 0.84750, Validation Accuracy = 0.82884\n"
     ]
    },
    {
     "name": "stderr",
     "output_type": "stream",
     "text": [
      "Epoch 495/512: 100%|██████████████████████████████████████████████████████████████████████████████████████████████████████████| 910/910 [00:27<00:00, 33.06it/s]\n"
     ]
    },
    {
     "name": "stdout",
     "output_type": "stream",
     "text": [
      "Epoch 495/512: Train Loss = 0.17738, Validation Loss = 0.22955, Train Accuracy = 0.84738, Validation Accuracy = 0.82596\n"
     ]
    },
    {
     "name": "stderr",
     "output_type": "stream",
     "text": [
      "Epoch 496/512: 100%|██████████████████████████████████████████████████████████████████████████████████████████████████████████| 910/910 [00:27<00:00, 33.03it/s]\n"
     ]
    },
    {
     "name": "stdout",
     "output_type": "stream",
     "text": [
      "Epoch 496/512: Train Loss = 0.17735, Validation Loss = 0.23223, Train Accuracy = 0.85035, Validation Accuracy = 0.82706\n"
     ]
    },
    {
     "name": "stderr",
     "output_type": "stream",
     "text": [
      "Epoch 497/512: 100%|██████████████████████████████████████████████████████████████████████████████████████████████████████████| 910/910 [00:27<00:00, 33.12it/s]\n"
     ]
    },
    {
     "name": "stdout",
     "output_type": "stream",
     "text": [
      "Epoch 497/512: Train Loss = 0.17862, Validation Loss = 0.22713, Train Accuracy = 0.84925, Validation Accuracy = 0.82829\n"
     ]
    },
    {
     "name": "stderr",
     "output_type": "stream",
     "text": [
      "Epoch 498/512: 100%|██████████████████████████████████████████████████████████████████████████████████████████████████████████| 910/910 [00:27<00:00, 32.98it/s]\n"
     ]
    },
    {
     "name": "stdout",
     "output_type": "stream",
     "text": [
      "Epoch 498/512: Train Loss = 0.17751, Validation Loss = 0.23185, Train Accuracy = 0.84916, Validation Accuracy = 0.82980\n"
     ]
    },
    {
     "name": "stderr",
     "output_type": "stream",
     "text": [
      "Epoch 499/512: 100%|██████████████████████████████████████████████████████████████████████████████████████████████████████████| 910/910 [00:27<00:00, 32.89it/s]\n"
     ]
    },
    {
     "name": "stdout",
     "output_type": "stream",
     "text": [
      "Epoch 499/512: Train Loss = 0.17673, Validation Loss = 0.23262, Train Accuracy = 0.85068, Validation Accuracy = 0.82994\n"
     ]
    },
    {
     "name": "stderr",
     "output_type": "stream",
     "text": [
      "Epoch 500/512: 100%|██████████████████████████████████████████████████████████████████████████████████████████████████████████| 910/910 [00:27<00:00, 32.94it/s]\n"
     ]
    },
    {
     "name": "stdout",
     "output_type": "stream",
     "text": [
      "Epoch 500/512: Train Loss = 0.17703, Validation Loss = 0.23264, Train Accuracy = 0.84901, Validation Accuracy = 0.83132\n"
     ]
    },
    {
     "name": "stderr",
     "output_type": "stream",
     "text": [
      "Epoch 501/512: 100%|██████████████████████████████████████████████████████████████████████████████████████████████████████████| 910/910 [00:27<00:00, 33.06it/s]\n"
     ]
    },
    {
     "name": "stdout",
     "output_type": "stream",
     "text": [
      "Epoch 501/512: Train Loss = 0.17866, Validation Loss = 0.23012, Train Accuracy = 0.84729, Validation Accuracy = 0.82939\n"
     ]
    },
    {
     "name": "stderr",
     "output_type": "stream",
     "text": [
      "Epoch 502/512: 100%|██████████████████████████████████████████████████████████████████████████████████████████████████████████| 910/910 [00:27<00:00, 33.08it/s]\n"
     ]
    },
    {
     "name": "stdout",
     "output_type": "stream",
     "text": [
      "Epoch 502/512: Train Loss = 0.17701, Validation Loss = 0.22904, Train Accuracy = 0.84789, Validation Accuracy = 0.83022\n"
     ]
    },
    {
     "name": "stderr",
     "output_type": "stream",
     "text": [
      "Epoch 503/512: 100%|██████████████████████████████████████████████████████████████████████████████████████████████████████████| 910/910 [00:27<00:00, 33.20it/s]\n"
     ]
    },
    {
     "name": "stdout",
     "output_type": "stream",
     "text": [
      "Epoch 503/512: Train Loss = 0.17704, Validation Loss = 0.23332, Train Accuracy = 0.84851, Validation Accuracy = 0.82898\n"
     ]
    },
    {
     "name": "stderr",
     "output_type": "stream",
     "text": [
      "Epoch 504/512: 100%|██████████████████████████████████████████████████████████████████████████████████████████████████████████| 910/910 [00:27<00:00, 33.01it/s]\n"
     ]
    },
    {
     "name": "stdout",
     "output_type": "stream",
     "text": [
      "Epoch 504/512: Train Loss = 0.17731, Validation Loss = 0.23221, Train Accuracy = 0.84851, Validation Accuracy = 0.83077\n"
     ]
    },
    {
     "name": "stderr",
     "output_type": "stream",
     "text": [
      "Epoch 505/512: 100%|██████████████████████████████████████████████████████████████████████████████████████████████████████████| 910/910 [00:27<00:00, 33.00it/s]\n"
     ]
    },
    {
     "name": "stdout",
     "output_type": "stream",
     "text": [
      "Epoch 505/512: Train Loss = 0.17797, Validation Loss = 0.22698, Train Accuracy = 0.84870, Validation Accuracy = 0.82912\n"
     ]
    },
    {
     "name": "stderr",
     "output_type": "stream",
     "text": [
      "Epoch 506/512: 100%|██████████████████████████████████████████████████████████████████████████████████████████████████████████| 910/910 [00:27<00:00, 33.03it/s]\n"
     ]
    },
    {
     "name": "stdout",
     "output_type": "stream",
     "text": [
      "Epoch 506/512: Train Loss = 0.17668, Validation Loss = 0.23090, Train Accuracy = 0.84839, Validation Accuracy = 0.83104\n"
     ]
    },
    {
     "name": "stderr",
     "output_type": "stream",
     "text": [
      "Epoch 507/512: 100%|██████████████████████████████████████████████████████████████████████████████████████████████████████████| 910/910 [00:27<00:00, 33.28it/s]\n"
     ]
    },
    {
     "name": "stdout",
     "output_type": "stream",
     "text": [
      "Epoch 507/512: Train Loss = 0.17731, Validation Loss = 0.22861, Train Accuracy = 0.84928, Validation Accuracy = 0.82829\n"
     ]
    },
    {
     "name": "stderr",
     "output_type": "stream",
     "text": [
      "Epoch 508/512: 100%|██████████████████████████████████████████████████████████████████████████████████████████████████████████| 910/910 [00:27<00:00, 33.02it/s]\n"
     ]
    },
    {
     "name": "stdout",
     "output_type": "stream",
     "text": [
      "Epoch 508/512: Train Loss = 0.17692, Validation Loss = 0.23514, Train Accuracy = 0.85014, Validation Accuracy = 0.82802\n"
     ]
    },
    {
     "name": "stderr",
     "output_type": "stream",
     "text": [
      "Epoch 509/512: 100%|██████████████████████████████████████████████████████████████████████████████████████████████████████████| 910/910 [00:26<00:00, 33.99it/s]\n"
     ]
    },
    {
     "name": "stdout",
     "output_type": "stream",
     "text": [
      "Epoch 509/512: Train Loss = 0.17629, Validation Loss = 0.23339, Train Accuracy = 0.84990, Validation Accuracy = 0.82568\n"
     ]
    },
    {
     "name": "stderr",
     "output_type": "stream",
     "text": [
      "Epoch 510/512: 100%|██████████████████████████████████████████████████████████████████████████████████████████████████████████| 910/910 [00:25<00:00, 35.01it/s]\n"
     ]
    },
    {
     "name": "stdout",
     "output_type": "stream",
     "text": [
      "Epoch 510/512: Train Loss = 0.17714, Validation Loss = 0.22851, Train Accuracy = 0.84932, Validation Accuracy = 0.82953\n"
     ]
    },
    {
     "name": "stderr",
     "output_type": "stream",
     "text": [
      "Epoch 511/512: 100%|██████████████████████████████████████████████████████████████████████████████████████████████████████████| 910/910 [00:25<00:00, 35.17it/s]\n"
     ]
    },
    {
     "name": "stdout",
     "output_type": "stream",
     "text": [
      "Epoch 511/512: Train Loss = 0.17572, Validation Loss = 0.22818, Train Accuracy = 0.85080, Validation Accuracy = 0.82925\n"
     ]
    },
    {
     "name": "stderr",
     "output_type": "stream",
     "text": [
      "Epoch 512/512: 100%|██████████████████████████████████████████████████████████████████████████████████████████████████████████| 910/910 [00:26<00:00, 34.85it/s]\n"
     ]
    },
    {
     "name": "stdout",
     "output_type": "stream",
     "text": [
      "Epoch 512/512: Train Loss = 0.17509, Validation Loss = 0.23194, Train Accuracy = 0.85117, Validation Accuracy = 0.83173\n"
     ]
    },
    {
     "data": {
      "image/png": "[encoded data removed]",
      "text/plain": [
       "<Figure size 1500x700 with 2 Axes>"
      ]
     },
     "metadata": {},
     "output_type": "display_data"
    }
   ],
   "source": [
    "import argparse\n",
    "\n",
    "training_args = argparse.Namespace(**args)\n",
    "train_model(training_args, device)"
   ]
  },
  {
   "cell_type": "code",
   "execution_count": null,
   "metadata": {},
   "outputs": [],
   "source": []
  }
 ],
 "metadata": {
  "kernelspec": {
   "display_name": "Python (myenv)",
   "language": "python",
   "name": "myenv"
  },
  "language_info": {
   "codemirror_mode": {
    "name": "ipython",
    "version": 3
   },
   "file_extension": ".py",
   "mimetype": "text/x-python",
   "name": "python",
   "nbconvert_exporter": "python",
   "pygments_lexer": "ipython3",
   "version": "3.12.7"
  }
 },
 "nbformat": 4,
 "nbformat_minor": 4
}
