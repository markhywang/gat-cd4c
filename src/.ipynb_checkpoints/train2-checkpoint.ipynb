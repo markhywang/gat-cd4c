{
 "cells": [
  {
   "cell_type": "code",
   "execution_count": 1,
   "metadata": {},
   "outputs": [],
   "source": [
    "# Copy of train.ipynb (run on GPU 1)"
   ]
  },
  {
   "cell_type": "code",
   "execution_count": 2,
   "metadata": {},
   "outputs": [
    {
     "name": "stdout",
     "output_type": "stream",
     "text": [
      "Using device: cpu\n"
     ]
    }
   ],
   "source": [
    "import torch\n",
    "\n",
    "# Local imports\n",
    "from train import train_model"
   ]
  },
  {
   "cell_type": "code",
   "execution_count": 3,
   "metadata": {},
   "outputs": [
    {
     "name": "stdout",
     "output_type": "stream",
     "text": [
      "Using device: cuda:1\n"
     ]
    }
   ],
   "source": [
    "if torch.backends.mps.is_available():\n",
    "    device = torch.device(\"mps\")\n",
    "elif torch.cuda.is_available():\n",
    "    device = torch.device(\"cuda:1\")\n",
    "else:\n",
    "    device = torch.device(\"cpu\")\n",
    "\n",
    "print(f\"Using device: {device}\")"
   ]
  },
  {
   "cell_type": "code",
   "execution_count": 4,
   "metadata": {},
   "outputs": [],
   "source": [
    "args = {\n",
    "    \"use_small_dataset\": False,\n",
    "    \"batch_size\": 128,\n",
    "    \"stoppage_epochs\": 16,\n",
    "    \"max_epochs\": 128,\n",
    "    \"seed\": 42,\n",
    "    \"data_path\": \"../data\",\n",
    "    \"frac_train\": 0.7,\n",
    "    \"frac_validation\": 0.15,\n",
    "    \"frac_test\": 0.15,\n",
    "    \"huber_beta\": 1.0,\n",
    "    \"weight_decay\": 1e-4,\n",
    "    \"lr\": 1e-3,\n",
    "    \"scheduler_patience\": 10,\n",
    "    \"scheduler_factor\": 0.5,\n",
    "    \"hidden_size\": 128,\n",
    "    \"num_layers\": 6,\n",
    "    \"num_attn_heads\": 8,\n",
    "    \"dropout\": 0.1,\n",
    "    \"leaky_relu_slope\": 0.2,\n",
    "    \"pooling_dim\": 128,\n",
    "}"
   ]
  },
  {
   "cell_type": "code",
   "execution_count": 5,
   "metadata": {},
   "outputs": [
    {
     "name": "stdout",
     "output_type": "stream",
     "text": [
      "Model parameters: 239923\n"
     ]
    },
    {
     "name": "stderr",
     "output_type": "stream",
     "text": [
      "Epoch 1/128: 100%|████████████████████████████████████████████████████████████████████████████████████████████████████████████| 398/398 [02:02<00:00,  3.25it/s]\n"
     ]
    },
    {
     "name": "stdout",
     "output_type": "stream",
     "text": [
      "Epoch 1/128: Train Loss = 0.79729, Validation Loss = 0.57996, Train Accuracy = 0.56960, Validation Accuracy = 0.56658\n"
     ]
    },
    {
     "name": "stderr",
     "output_type": "stream",
     "text": [
      "Epoch 2/128: 100%|████████████████████████████████████████████████████████████████████████████████████████████████████████████| 398/398 [00:20<00:00, 19.45it/s]\n"
     ]
    },
    {
     "name": "stdout",
     "output_type": "stream",
     "text": [
      "Epoch 2/128: Train Loss = 0.55558, Validation Loss = 0.55222, Train Accuracy = 0.59513, Validation Accuracy = 0.60590\n"
     ]
    },
    {
     "name": "stderr",
     "output_type": "stream",
     "text": [
      "Epoch 3/128: 100%|████████████████████████████████████████████████████████████████████████████████████████████████████████████| 398/398 [00:20<00:00, 19.39it/s]\n"
     ]
    },
    {
     "name": "stdout",
     "output_type": "stream",
     "text": [
      "Epoch 3/128: Train Loss = 0.54822, Validation Loss = 0.56138, Train Accuracy = 0.60485, Validation Accuracy = 0.59692\n"
     ]
    },
    {
     "name": "stderr",
     "output_type": "stream",
     "text": [
      "Epoch 4/128: 100%|████████████████████████████████████████████████████████████████████████████████████████████████████████████| 398/398 [00:20<00:00, 19.25it/s]\n"
     ]
    },
    {
     "name": "stdout",
     "output_type": "stream",
     "text": [
      "Epoch 4/128: Train Loss = 0.54441, Validation Loss = 0.55483, Train Accuracy = 0.60919, Validation Accuracy = 0.60636\n"
     ]
    },
    {
     "name": "stderr",
     "output_type": "stream",
     "text": [
      "Epoch 5/128: 100%|████████████████████████████████████████████████████████████████████████████████████████████████████████████| 398/398 [00:20<00:00, 19.10it/s]\n"
     ]
    },
    {
     "name": "stdout",
     "output_type": "stream",
     "text": [
      "Epoch 5/128: Train Loss = 0.53770, Validation Loss = 0.54556, Train Accuracy = 0.61764, Validation Accuracy = 0.61186\n"
     ]
    },
    {
     "name": "stderr",
     "output_type": "stream",
     "text": [
      "Epoch 6/128: 100%|████████████████████████████████████████████████████████████████████████████████████████████████████████████| 398/398 [00:20<00:00, 19.16it/s]\n"
     ]
    },
    {
     "name": "stdout",
     "output_type": "stream",
     "text": [
      "Epoch 6/128: Train Loss = 0.53384, Validation Loss = 0.52411, Train Accuracy = 0.62251, Validation Accuracy = 0.62652\n"
     ]
    },
    {
     "name": "stderr",
     "output_type": "stream",
     "text": [
      "Epoch 7/128: 100%|████████████████████████████████████████████████████████████████████████████████████████████████████████████| 398/398 [00:20<00:00, 19.18it/s]\n"
     ]
    },
    {
     "name": "stdout",
     "output_type": "stream",
     "text": [
      "Epoch 7/128: Train Loss = 0.53072, Validation Loss = 0.53619, Train Accuracy = 0.62361, Validation Accuracy = 0.62881\n"
     ]
    },
    {
     "name": "stderr",
     "output_type": "stream",
     "text": [
      "Epoch 8/128: 100%|████████████████████████████████████████████████████████████████████████████████████████████████████████████| 398/398 [00:20<00:00, 19.11it/s]\n"
     ]
    },
    {
     "name": "stdout",
     "output_type": "stream",
     "text": [
      "Epoch 8/128: Train Loss = 0.52822, Validation Loss = 0.54557, Train Accuracy = 0.62634, Validation Accuracy = 0.61947\n"
     ]
    },
    {
     "name": "stderr",
     "output_type": "stream",
     "text": [
      "Epoch 9/128: 100%|████████████████████████████████████████████████████████████████████████████████████████████████████████████| 398/398 [00:20<00:00, 19.17it/s]\n"
     ]
    },
    {
     "name": "stdout",
     "output_type": "stream",
     "text": [
      "Epoch 9/128: Train Loss = 0.52701, Validation Loss = 0.54560, Train Accuracy = 0.62891, Validation Accuracy = 0.61947\n"
     ]
    },
    {
     "name": "stderr",
     "output_type": "stream",
     "text": [
      "Epoch 10/128: 100%|███████████████████████████████████████████████████████████████████████████████████████████████████████████| 398/398 [00:20<00:00, 19.19it/s]\n"
     ]
    },
    {
     "name": "stdout",
     "output_type": "stream",
     "text": [
      "Epoch 10/128: Train Loss = 0.52347, Validation Loss = 0.53071, Train Accuracy = 0.62928, Validation Accuracy = 0.62817\n"
     ]
    },
    {
     "name": "stderr",
     "output_type": "stream",
     "text": [
      "Epoch 11/128: 100%|███████████████████████████████████████████████████████████████████████████████████████████████████████████| 398/398 [00:20<00:00, 19.25it/s]\n"
     ]
    },
    {
     "name": "stdout",
     "output_type": "stream",
     "text": [
      "Epoch 11/128: Train Loss = 0.52365, Validation Loss = 0.56420, Train Accuracy = 0.63103, Validation Accuracy = 0.60865\n"
     ]
    },
    {
     "name": "stderr",
     "output_type": "stream",
     "text": [
      "Epoch 12/128: 100%|███████████████████████████████████████████████████████████████████████████████████████████████████████████| 398/398 [00:20<00:00, 19.31it/s]\n"
     ]
    },
    {
     "name": "stdout",
     "output_type": "stream",
     "text": [
      "Epoch 12/128: Train Loss = 0.52174, Validation Loss = 0.51972, Train Accuracy = 0.62985, Validation Accuracy = 0.63367\n"
     ]
    },
    {
     "name": "stderr",
     "output_type": "stream",
     "text": [
      "Epoch 13/128: 100%|███████████████████████████████████████████████████████████████████████████████████████████████████████████| 398/398 [00:20<00:00, 19.19it/s]\n"
     ]
    },
    {
     "name": "stdout",
     "output_type": "stream",
     "text": [
      "Epoch 13/128: Train Loss = 0.51563, Validation Loss = 0.53792, Train Accuracy = 0.63848, Validation Accuracy = 0.63496\n"
     ]
    },
    {
     "name": "stderr",
     "output_type": "stream",
     "text": [
      "Epoch 14/128: 100%|███████████████████████████████████████████████████████████████████████████████████████████████████████████| 398/398 [00:20<00:00, 19.32it/s]\n"
     ]
    },
    {
     "name": "stdout",
     "output_type": "stream",
     "text": [
      "Epoch 14/128: Train Loss = 0.51362, Validation Loss = 0.54476, Train Accuracy = 0.63899, Validation Accuracy = 0.62332\n"
     ]
    },
    {
     "name": "stderr",
     "output_type": "stream",
     "text": [
      "Epoch 15/128: 100%|███████████████████████████████████████████████████████████████████████████████████████████████████████████| 398/398 [00:20<00:00, 19.29it/s]\n"
     ]
    },
    {
     "name": "stdout",
     "output_type": "stream",
     "text": [
      "Epoch 15/128: Train Loss = 0.51165, Validation Loss = 0.58453, Train Accuracy = 0.64282, Validation Accuracy = 0.60214\n"
     ]
    },
    {
     "name": "stderr",
     "output_type": "stream",
     "text": [
      "Epoch 16/128: 100%|███████████████████████████████████████████████████████████████████████████████████████████████████████████| 398/398 [00:20<00:00, 19.75it/s]\n"
     ]
    },
    {
     "name": "stdout",
     "output_type": "stream",
     "text": [
      "Epoch 16/128: Train Loss = 0.50788, Validation Loss = 0.52671, Train Accuracy = 0.64541, Validation Accuracy = 0.63468\n"
     ]
    },
    {
     "name": "stderr",
     "output_type": "stream",
     "text": [
      "Epoch 17/128: 100%|███████████████████████████████████████████████████████████████████████████████████████████████████████████| 398/398 [00:20<00:00, 19.30it/s]\n"
     ]
    },
    {
     "name": "stdout",
     "output_type": "stream",
     "text": [
      "Epoch 17/128: Train Loss = 0.50526, Validation Loss = 0.54472, Train Accuracy = 0.64832, Validation Accuracy = 0.62322\n"
     ]
    },
    {
     "name": "stderr",
     "output_type": "stream",
     "text": [
      "Epoch 18/128: 100%|███████████████████████████████████████████████████████████████████████████████████████████████████████████| 398/398 [00:20<00:00, 19.72it/s]\n"
     ]
    },
    {
     "name": "stdout",
     "output_type": "stream",
     "text": [
      "Epoch 18/128: Train Loss = 0.50292, Validation Loss = 0.54623, Train Accuracy = 0.65328, Validation Accuracy = 0.62295\n"
     ]
    },
    {
     "name": "stderr",
     "output_type": "stream",
     "text": [
      "Epoch 19/128: 100%|███████████████████████████████████████████████████████████████████████████████████████████████████████████| 398/398 [00:20<00:00, 19.59it/s]\n"
     ]
    },
    {
     "name": "stdout",
     "output_type": "stream",
     "text": [
      "Epoch 19/128: Train Loss = 0.49822, Validation Loss = 0.58971, Train Accuracy = 0.65615, Validation Accuracy = 0.60774\n"
     ]
    },
    {
     "name": "stderr",
     "output_type": "stream",
     "text": [
      "Epoch 20/128: 100%|███████████████████████████████████████████████████████████████████████████████████████████████████████████| 398/398 [00:20<00:00, 19.45it/s]\n"
     ]
    },
    {
     "name": "stdout",
     "output_type": "stream",
     "text": [
      "Epoch 20/128: Train Loss = 0.49322, Validation Loss = 0.50734, Train Accuracy = 0.65900, Validation Accuracy = 0.65200\n"
     ]
    },
    {
     "name": "stderr",
     "output_type": "stream",
     "text": [
      "Epoch 21/128: 100%|███████████████████████████████████████████████████████████████████████████████████████████████████████████| 398/398 [00:20<00:00, 19.41it/s]\n"
     ]
    },
    {
     "name": "stdout",
     "output_type": "stream",
     "text": [
      "Epoch 21/128: Train Loss = 0.49171, Validation Loss = 0.52534, Train Accuracy = 0.66240, Validation Accuracy = 0.63807\n"
     ]
    },
    {
     "name": "stderr",
     "output_type": "stream",
     "text": [
      "Epoch 22/128: 100%|███████████████████████████████████████████████████████████████████████████████████████████████████████████| 398/398 [00:20<00:00, 19.49it/s]\n"
     ]
    },
    {
     "name": "stdout",
     "output_type": "stream",
     "text": [
      "Epoch 22/128: Train Loss = 0.48655, Validation Loss = 0.48119, Train Accuracy = 0.66650, Validation Accuracy = 0.66346\n"
     ]
    },
    {
     "name": "stderr",
     "output_type": "stream",
     "text": [
      "Epoch 23/128: 100%|███████████████████████████████████████████████████████████████████████████████████████████████████████████| 398/398 [00:20<00:00, 19.36it/s]\n"
     ]
    },
    {
     "name": "stdout",
     "output_type": "stream",
     "text": [
      "Epoch 23/128: Train Loss = 0.48292, Validation Loss = 0.46576, Train Accuracy = 0.67008, Validation Accuracy = 0.67226\n"
     ]
    },
    {
     "name": "stderr",
     "output_type": "stream",
     "text": [
      "Epoch 24/128: 100%|███████████████████████████████████████████████████████████████████████████████████████████████████████████| 398/398 [00:20<00:00, 19.42it/s]\n"
     ]
    },
    {
     "name": "stdout",
     "output_type": "stream",
     "text": [
      "Epoch 24/128: Train Loss = 0.47876, Validation Loss = 0.46887, Train Accuracy = 0.67232, Validation Accuracy = 0.66758\n"
     ]
    },
    {
     "name": "stderr",
     "output_type": "stream",
     "text": [
      "Epoch 25/128: 100%|███████████████████████████████████████████████████████████████████████████████████████████████████████████| 398/398 [00:20<00:00, 19.41it/s]\n"
     ]
    },
    {
     "name": "stdout",
     "output_type": "stream",
     "text": [
      "Epoch 25/128: Train Loss = 0.47555, Validation Loss = 0.47967, Train Accuracy = 0.67153, Validation Accuracy = 0.67189\n"
     ]
    },
    {
     "name": "stderr",
     "output_type": "stream",
     "text": [
      "Epoch 26/128: 100%|███████████████████████████████████████████████████████████████████████████████████████████████████████████| 398/398 [00:20<00:00, 19.40it/s]\n"
     ]
    },
    {
     "name": "stdout",
     "output_type": "stream",
     "text": [
      "Epoch 26/128: Train Loss = 0.47091, Validation Loss = 0.48337, Train Accuracy = 0.67532, Validation Accuracy = 0.66978\n"
     ]
    },
    {
     "name": "stderr",
     "output_type": "stream",
     "text": [
      "Epoch 27/128: 100%|███████████████████████████████████████████████████████████████████████████████████████████████████████████| 398/398 [00:20<00:00, 19.39it/s]\n"
     ]
    },
    {
     "name": "stdout",
     "output_type": "stream",
     "text": [
      "Epoch 27/128: Train Loss = 0.46733, Validation Loss = 0.49730, Train Accuracy = 0.67886, Validation Accuracy = 0.64715\n"
     ]
    },
    {
     "name": "stderr",
     "output_type": "stream",
     "text": [
      "Epoch 28/128: 100%|███████████████████████████████████████████████████████████████████████████████████████████████████████████| 398/398 [00:20<00:00, 19.41it/s]\n"
     ]
    },
    {
     "name": "stdout",
     "output_type": "stream",
     "text": [
      "Epoch 28/128: Train Loss = 0.46390, Validation Loss = 0.46433, Train Accuracy = 0.68114, Validation Accuracy = 0.67556\n"
     ]
    },
    {
     "name": "stderr",
     "output_type": "stream",
     "text": [
      "Epoch 29/128: 100%|███████████████████████████████████████████████████████████████████████████████████████████████████████████| 398/398 [00:20<00:00, 19.40it/s]\n"
     ]
    },
    {
     "name": "stdout",
     "output_type": "stream",
     "text": [
      "Epoch 29/128: Train Loss = 0.46105, Validation Loss = 0.48035, Train Accuracy = 0.68165, Validation Accuracy = 0.66337\n"
     ]
    },
    {
     "name": "stderr",
     "output_type": "stream",
     "text": [
      "Epoch 30/128: 100%|███████████████████████████████████████████████████████████████████████████████████████████████████████████| 398/398 [00:20<00:00, 19.40it/s]\n"
     ]
    },
    {
     "name": "stdout",
     "output_type": "stream",
     "text": [
      "Epoch 30/128: Train Loss = 0.45926, Validation Loss = 0.48611, Train Accuracy = 0.68412, Validation Accuracy = 0.66932\n"
     ]
    },
    {
     "name": "stderr",
     "output_type": "stream",
     "text": [
      "Epoch 31/128: 100%|███████████████████████████████████████████████████████████████████████████████████████████████████████████| 398/398 [00:20<00:00, 19.37it/s]\n"
     ]
    },
    {
     "name": "stdout",
     "output_type": "stream",
     "text": [
      "Epoch 31/128: Train Loss = 0.45406, Validation Loss = 0.45147, Train Accuracy = 0.68868, Validation Accuracy = 0.68738\n"
     ]
    },
    {
     "name": "stderr",
     "output_type": "stream",
     "text": [
      "Epoch 32/128: 100%|███████████████████████████████████████████████████████████████████████████████████████████████████████████| 398/398 [00:20<00:00, 19.44it/s]\n"
     ]
    },
    {
     "name": "stdout",
     "output_type": "stream",
     "text": [
      "Epoch 32/128: Train Loss = 0.45236, Validation Loss = 0.52000, Train Accuracy = 0.68934, Validation Accuracy = 0.65814\n"
     ]
    },
    {
     "name": "stderr",
     "output_type": "stream",
     "text": [
      "Epoch 33/128: 100%|███████████████████████████████████████████████████████████████████████████████████████████████████████████| 398/398 [00:20<00:00, 19.32it/s]\n"
     ]
    },
    {
     "name": "stdout",
     "output_type": "stream",
     "text": [
      "Epoch 33/128: Train Loss = 0.44931, Validation Loss = 0.48192, Train Accuracy = 0.69372, Validation Accuracy = 0.67711\n"
     ]
    },
    {
     "name": "stderr",
     "output_type": "stream",
     "text": [
      "Epoch 34/128: 100%|███████████████████████████████████████████████████████████████████████████████████████████████████████████| 398/398 [00:20<00:00, 19.43it/s]\n"
     ]
    },
    {
     "name": "stdout",
     "output_type": "stream",
     "text": [
      "Epoch 34/128: Train Loss = 0.44989, Validation Loss = 0.49667, Train Accuracy = 0.69198, Validation Accuracy = 0.66822\n"
     ]
    },
    {
     "name": "stderr",
     "output_type": "stream",
     "text": [
      "Epoch 35/128: 100%|███████████████████████████████████████████████████████████████████████████████████████████████████████████| 398/398 [00:20<00:00, 19.41it/s]\n"
     ]
    },
    {
     "name": "stdout",
     "output_type": "stream",
     "text": [
      "Epoch 35/128: Train Loss = 0.44509, Validation Loss = 0.44703, Train Accuracy = 0.69657, Validation Accuracy = 0.69114\n"
     ]
    },
    {
     "name": "stderr",
     "output_type": "stream",
     "text": [
      "Epoch 36/128: 100%|███████████████████████████████████████████████████████████████████████████████████████████████████████████| 398/398 [00:20<00:00, 19.46it/s]\n"
     ]
    },
    {
     "name": "stdout",
     "output_type": "stream",
     "text": [
      "Epoch 36/128: Train Loss = 0.44540, Validation Loss = 0.47950, Train Accuracy = 0.69616, Validation Accuracy = 0.67913\n"
     ]
    },
    {
     "name": "stderr",
     "output_type": "stream",
     "text": [
      "Epoch 37/128: 100%|███████████████████████████████████████████████████████████████████████████████████████████████████████████| 398/398 [00:20<00:00, 19.44it/s]\n"
     ]
    },
    {
     "name": "stdout",
     "output_type": "stream",
     "text": [
      "Epoch 37/128: Train Loss = 0.44177, Validation Loss = 0.45881, Train Accuracy = 0.69820, Validation Accuracy = 0.68536\n"
     ]
    },
    {
     "name": "stderr",
     "output_type": "stream",
     "text": [
      "Epoch 38/128: 100%|███████████████████████████████████████████████████████████████████████████████████████████████████████████| 398/398 [00:20<00:00, 19.38it/s]\n"
     ]
    },
    {
     "name": "stdout",
     "output_type": "stream",
     "text": [
      "Epoch 38/128: Train Loss = 0.44107, Validation Loss = 0.46196, Train Accuracy = 0.69761, Validation Accuracy = 0.69169\n"
     ]
    },
    {
     "name": "stderr",
     "output_type": "stream",
     "text": [
      "Epoch 39/128: 100%|███████████████████████████████████████████████████████████████████████████████████████████████████████████| 398/398 [00:20<00:00, 19.40it/s]\n"
     ]
    },
    {
     "name": "stdout",
     "output_type": "stream",
     "text": [
      "Epoch 39/128: Train Loss = 0.43706, Validation Loss = 0.44160, Train Accuracy = 0.70111, Validation Accuracy = 0.69709\n"
     ]
    },
    {
     "name": "stderr",
     "output_type": "stream",
     "text": [
      "Epoch 40/128: 100%|███████████████████████████████████████████████████████████████████████████████████████████████████████████| 398/398 [00:20<00:00, 19.46it/s]\n"
     ]
    },
    {
     "name": "stdout",
     "output_type": "stream",
     "text": [
      "Epoch 40/128: Train Loss = 0.43487, Validation Loss = 0.45714, Train Accuracy = 0.70459, Validation Accuracy = 0.68536\n"
     ]
    },
    {
     "name": "stderr",
     "output_type": "stream",
     "text": [
      "Epoch 41/128: 100%|███████████████████████████████████████████████████████████████████████████████████████████████████████████| 398/398 [00:20<00:00, 19.40it/s]\n"
     ]
    },
    {
     "name": "stdout",
     "output_type": "stream",
     "text": [
      "Epoch 41/128: Train Loss = 0.43203, Validation Loss = 0.44881, Train Accuracy = 0.70478, Validation Accuracy = 0.69490\n"
     ]
    },
    {
     "name": "stderr",
     "output_type": "stream",
     "text": [
      "Epoch 42/128: 100%|███████████████████████████████████████████████████████████████████████████████████████████████████████████| 398/398 [00:20<00:00, 19.34it/s]\n"
     ]
    },
    {
     "name": "stdout",
     "output_type": "stream",
     "text": [
      "Epoch 42/128: Train Loss = 0.42731, Validation Loss = 0.42475, Train Accuracy = 0.70773, Validation Accuracy = 0.70644\n"
     ]
    },
    {
     "name": "stderr",
     "output_type": "stream",
     "text": [
      "Epoch 43/128: 100%|███████████████████████████████████████████████████████████████████████████████████████████████████████████| 398/398 [00:20<00:00, 19.48it/s]\n"
     ]
    },
    {
     "name": "stdout",
     "output_type": "stream",
     "text": [
      "Epoch 43/128: Train Loss = 0.42706, Validation Loss = 0.45565, Train Accuracy = 0.70741, Validation Accuracy = 0.70067\n"
     ]
    },
    {
     "name": "stderr",
     "output_type": "stream",
     "text": [
      "Epoch 44/128: 100%|███████████████████████████████████████████████████████████████████████████████████████████████████████████| 398/398 [00:20<00:00, 19.44it/s]\n"
     ]
    },
    {
     "name": "stdout",
     "output_type": "stream",
     "text": [
      "Epoch 44/128: Train Loss = 0.42512, Validation Loss = 0.44818, Train Accuracy = 0.70985, Validation Accuracy = 0.69609\n"
     ]
    },
    {
     "name": "stderr",
     "output_type": "stream",
     "text": [
      "Epoch 45/128: 100%|███████████████████████████████████████████████████████████████████████████████████████████████████████████| 398/398 [00:20<00:00, 19.44it/s]\n"
     ]
    },
    {
     "name": "stdout",
     "output_type": "stream",
     "text": [
      "Epoch 45/128: Train Loss = 0.42437, Validation Loss = 0.45801, Train Accuracy = 0.71089, Validation Accuracy = 0.69819\n"
     ]
    },
    {
     "name": "stderr",
     "output_type": "stream",
     "text": [
      "Epoch 46/128: 100%|███████████████████████████████████████████████████████████████████████████████████████████████████████████| 398/398 [00:20<00:00, 19.41it/s]\n"
     ]
    },
    {
     "name": "stdout",
     "output_type": "stream",
     "text": [
      "Epoch 46/128: Train Loss = 0.41764, Validation Loss = 0.42309, Train Accuracy = 0.71515, Validation Accuracy = 0.71066\n"
     ]
    },
    {
     "name": "stderr",
     "output_type": "stream",
     "text": [
      "Epoch 47/128: 100%|███████████████████████████████████████████████████████████████████████████████████████████████████████████| 398/398 [00:20<00:00, 19.33it/s]\n"
     ]
    },
    {
     "name": "stdout",
     "output_type": "stream",
     "text": [
      "Epoch 47/128: Train Loss = 0.41607, Validation Loss = 0.41880, Train Accuracy = 0.71490, Validation Accuracy = 0.71029\n"
     ]
    },
    {
     "name": "stderr",
     "output_type": "stream",
     "text": [
      "Epoch 48/128: 100%|███████████████████████████████████████████████████████████████████████████████████████████████████████████| 398/398 [00:20<00:00, 19.44it/s]\n"
     ]
    },
    {
     "name": "stdout",
     "output_type": "stream",
     "text": [
      "Epoch 48/128: Train Loss = 0.41288, Validation Loss = 0.43627, Train Accuracy = 0.71621, Validation Accuracy = 0.69847\n"
     ]
    },
    {
     "name": "stderr",
     "output_type": "stream",
     "text": [
      "Epoch 49/128: 100%|███████████████████████████████████████████████████████████████████████████████████████████████████████████| 398/398 [00:20<00:00, 19.45it/s]\n"
     ]
    },
    {
     "name": "stdout",
     "output_type": "stream",
     "text": [
      "Epoch 49/128: Train Loss = 0.41232, Validation Loss = 0.45015, Train Accuracy = 0.71667, Validation Accuracy = 0.69920\n"
     ]
    },
    {
     "name": "stderr",
     "output_type": "stream",
     "text": [
      "Epoch 50/128: 100%|███████████████████████████████████████████████████████████████████████████████████████████████████████████| 398/398 [00:20<00:00, 19.35it/s]\n"
     ]
    },
    {
     "name": "stdout",
     "output_type": "stream",
     "text": [
      "Epoch 50/128: Train Loss = 0.41769, Validation Loss = 0.44983, Train Accuracy = 0.71403, Validation Accuracy = 0.69370\n"
     ]
    },
    {
     "name": "stderr",
     "output_type": "stream",
     "text": [
      "Epoch 51/128: 100%|███████████████████████████████████████████████████████████████████████████████████████████████████████████| 398/398 [00:20<00:00, 19.47it/s]\n"
     ]
    },
    {
     "name": "stdout",
     "output_type": "stream",
     "text": [
      "Epoch 51/128: Train Loss = 0.41086, Validation Loss = 0.42579, Train Accuracy = 0.72046, Validation Accuracy = 0.70947\n"
     ]
    },
    {
     "name": "stderr",
     "output_type": "stream",
     "text": [
      "Epoch 52/128: 100%|███████████████████████████████████████████████████████████████████████████████████████████████████████████| 398/398 [00:20<00:00, 19.42it/s]\n"
     ]
    },
    {
     "name": "stdout",
     "output_type": "stream",
     "text": [
      "Epoch 52/128: Train Loss = 0.40603, Validation Loss = 0.40981, Train Accuracy = 0.72036, Validation Accuracy = 0.71020\n"
     ]
    },
    {
     "name": "stderr",
     "output_type": "stream",
     "text": [
      "Epoch 53/128: 100%|███████████████████████████████████████████████████████████████████████████████████████████████████████████| 398/398 [00:20<00:00, 19.33it/s]\n"
     ]
    },
    {
     "name": "stdout",
     "output_type": "stream",
     "text": [
      "Epoch 53/128: Train Loss = 0.41047, Validation Loss = 0.42998, Train Accuracy = 0.71885, Validation Accuracy = 0.71029\n"
     ]
    },
    {
     "name": "stderr",
     "output_type": "stream",
     "text": [
      "Epoch 54/128: 100%|███████████████████████████████████████████████████████████████████████████████████████████████████████████| 398/398 [00:20<00:00, 19.49it/s]\n"
     ]
    },
    {
     "name": "stdout",
     "output_type": "stream",
     "text": [
      "Epoch 54/128: Train Loss = 0.40474, Validation Loss = 0.42556, Train Accuracy = 0.72248, Validation Accuracy = 0.70938\n"
     ]
    },
    {
     "name": "stderr",
     "output_type": "stream",
     "text": [
      "Epoch 55/128: 100%|███████████████████████████████████████████████████████████████████████████████████████████████████████████| 398/398 [00:20<00:00, 19.40it/s]\n"
     ]
    },
    {
     "name": "stdout",
     "output_type": "stream",
     "text": [
      "Epoch 55/128: Train Loss = 0.40747, Validation Loss = 0.41666, Train Accuracy = 0.72073, Validation Accuracy = 0.71121\n"
     ]
    },
    {
     "name": "stderr",
     "output_type": "stream",
     "text": [
      "Epoch 56/128: 100%|███████████████████████████████████████████████████████████████████████████████████████████████████████████| 398/398 [00:20<00:00, 19.34it/s]\n"
     ]
    },
    {
     "name": "stdout",
     "output_type": "stream",
     "text": [
      "Epoch 56/128: Train Loss = 0.40124, Validation Loss = 0.39902, Train Accuracy = 0.72103, Validation Accuracy = 0.71680\n"
     ]
    },
    {
     "name": "stderr",
     "output_type": "stream",
     "text": [
      "Epoch 57/128: 100%|███████████████████████████████████████████████████████████████████████████████████████████████████████████| 398/398 [00:20<00:00, 19.48it/s]\n"
     ]
    },
    {
     "name": "stdout",
     "output_type": "stream",
     "text": [
      "Epoch 57/128: Train Loss = 0.39854, Validation Loss = 0.39315, Train Accuracy = 0.72376, Validation Accuracy = 0.72221\n"
     ]
    },
    {
     "name": "stderr",
     "output_type": "stream",
     "text": [
      "Epoch 58/128: 100%|███████████████████████████████████████████████████████████████████████████████████████████████████████████| 398/398 [00:20<00:00, 19.44it/s]\n"
     ]
    },
    {
     "name": "stdout",
     "output_type": "stream",
     "text": [
      "Epoch 58/128: Train Loss = 0.39762, Validation Loss = 0.42621, Train Accuracy = 0.72446, Validation Accuracy = 0.70626\n"
     ]
    },
    {
     "name": "stderr",
     "output_type": "stream",
     "text": [
      "Epoch 59/128: 100%|███████████████████████████████████████████████████████████████████████████████████████████████████████████| 398/398 [00:20<00:00, 19.40it/s]\n"
     ]
    },
    {
     "name": "stdout",
     "output_type": "stream",
     "text": [
      "Epoch 59/128: Train Loss = 0.40221, Validation Loss = 0.42340, Train Accuracy = 0.72281, Validation Accuracy = 0.71286\n"
     ]
    },
    {
     "name": "stderr",
     "output_type": "stream",
     "text": [
      "Epoch 60/128: 100%|███████████████████████████████████████████████████████████████████████████████████████████████████████████| 398/398 [00:20<00:00, 19.37it/s]\n"
     ]
    },
    {
     "name": "stdout",
     "output_type": "stream",
     "text": [
      "Epoch 60/128: Train Loss = 0.39796, Validation Loss = 0.39445, Train Accuracy = 0.72552, Validation Accuracy = 0.72367\n"
     ]
    },
    {
     "name": "stderr",
     "output_type": "stream",
     "text": [
      "Epoch 61/128: 100%|███████████████████████████████████████████████████████████████████████████████████████████████████████████| 398/398 [00:20<00:00, 19.43it/s]\n"
     ]
    },
    {
     "name": "stdout",
     "output_type": "stream",
     "text": [
      "Epoch 61/128: Train Loss = 0.39411, Validation Loss = 0.41557, Train Accuracy = 0.72633, Validation Accuracy = 0.71772\n"
     ]
    },
    {
     "name": "stderr",
     "output_type": "stream",
     "text": [
      "Epoch 62/128: 100%|███████████████████████████████████████████████████████████████████████████████████████████████████████████| 398/398 [00:20<00:00, 19.40it/s]\n"
     ]
    },
    {
     "name": "stdout",
     "output_type": "stream",
     "text": [
      "Epoch 62/128: Train Loss = 0.39445, Validation Loss = 0.47202, Train Accuracy = 0.72560, Validation Accuracy = 0.70250\n"
     ]
    },
    {
     "name": "stderr",
     "output_type": "stream",
     "text": [
      "Epoch 63/128: 100%|███████████████████████████████████████████████████████████████████████████████████████████████████████████| 398/398 [00:20<00:00, 19.42it/s]\n"
     ]
    },
    {
     "name": "stdout",
     "output_type": "stream",
     "text": [
      "Epoch 63/128: Train Loss = 0.39052, Validation Loss = 0.41677, Train Accuracy = 0.72729, Validation Accuracy = 0.71992\n"
     ]
    },
    {
     "name": "stderr",
     "output_type": "stream",
     "text": [
      "Epoch 64/128: 100%|███████████████████████████████████████████████████████████████████████████████████████████████████████████| 398/398 [00:20<00:00, 19.38it/s]\n"
     ]
    },
    {
     "name": "stdout",
     "output_type": "stream",
     "text": [
      "Epoch 64/128: Train Loss = 0.38903, Validation Loss = 0.42400, Train Accuracy = 0.73299, Validation Accuracy = 0.71093\n"
     ]
    },
    {
     "name": "stderr",
     "output_type": "stream",
     "text": [
      "Epoch 65/128: 100%|███████████████████████████████████████████████████████████████████████████████████████████████████████████| 398/398 [00:20<00:00, 19.35it/s]\n"
     ]
    },
    {
     "name": "stdout",
     "output_type": "stream",
     "text": [
      "Epoch 65/128: Train Loss = 0.38780, Validation Loss = 0.44105, Train Accuracy = 0.73130, Validation Accuracy = 0.70763\n"
     ]
    },
    {
     "name": "stderr",
     "output_type": "stream",
     "text": [
      "Epoch 66/128: 100%|███████████████████████████████████████████████████████████████████████████████████████████████████████████| 398/398 [00:20<00:00, 19.41it/s]\n"
     ]
    },
    {
     "name": "stdout",
     "output_type": "stream",
     "text": [
      "Epoch 66/128: Train Loss = 0.38592, Validation Loss = 0.39362, Train Accuracy = 0.73189, Validation Accuracy = 0.72441\n"
     ]
    },
    {
     "name": "stderr",
     "output_type": "stream",
     "text": [
      "Epoch 67/128: 100%|███████████████████████████████████████████████████████████████████████████████████████████████████████████| 398/398 [00:20<00:00, 19.43it/s]\n"
     ]
    },
    {
     "name": "stdout",
     "output_type": "stream",
     "text": [
      "Epoch 67/128: Train Loss = 0.38708, Validation Loss = 0.40200, Train Accuracy = 0.73108, Validation Accuracy = 0.72331\n"
     ]
    },
    {
     "name": "stderr",
     "output_type": "stream",
     "text": [
      "Epoch 68/128: 100%|███████████████████████████████████████████████████████████████████████████████████████████████████████████| 398/398 [00:20<00:00, 19.38it/s]\n"
     ]
    },
    {
     "name": "stdout",
     "output_type": "stream",
     "text": [
      "Epoch 68/128: Train Loss = 0.38813, Validation Loss = 0.43671, Train Accuracy = 0.72941, Validation Accuracy = 0.71084\n"
     ]
    },
    {
     "name": "stderr",
     "output_type": "stream",
     "text": [
      "Epoch 69/128: 100%|███████████████████████████████████████████████████████████████████████████████████████████████████████████| 398/398 [00:20<00:00, 19.40it/s]\n"
     ]
    },
    {
     "name": "stdout",
     "output_type": "stream",
     "text": [
      "Epoch 69/128: Train Loss = 0.38689, Validation Loss = 0.40762, Train Accuracy = 0.73326, Validation Accuracy = 0.71827\n"
     ]
    },
    {
     "name": "stderr",
     "output_type": "stream",
     "text": [
      "Epoch 70/128: 100%|███████████████████████████████████████████████████████████████████████████████████████████████████████████| 398/398 [00:20<00:00, 19.45it/s]\n"
     ]
    },
    {
     "name": "stdout",
     "output_type": "stream",
     "text": [
      "Epoch 70/128: Train Loss = 0.38288, Validation Loss = 0.39120, Train Accuracy = 0.73405, Validation Accuracy = 0.72523\n"
     ]
    },
    {
     "name": "stderr",
     "output_type": "stream",
     "text": [
      "Epoch 71/128: 100%|███████████████████████████████████████████████████████████████████████████████████████████████████████████| 398/398 [00:20<00:00, 19.44it/s]\n"
     ]
    },
    {
     "name": "stdout",
     "output_type": "stream",
     "text": [
      "Epoch 71/128: Train Loss = 0.38001, Validation Loss = 0.39559, Train Accuracy = 0.73513, Validation Accuracy = 0.72771\n"
     ]
    },
    {
     "name": "stderr",
     "output_type": "stream",
     "text": [
      "Epoch 72/128: 100%|███████████████████████████████████████████████████████████████████████████████████████████████████████████| 398/398 [00:20<00:00, 19.46it/s]\n"
     ]
    },
    {
     "name": "stdout",
     "output_type": "stream",
     "text": [
      "Epoch 72/128: Train Loss = 0.37869, Validation Loss = 0.41416, Train Accuracy = 0.73729, Validation Accuracy = 0.72688\n"
     ]
    },
    {
     "name": "stderr",
     "output_type": "stream",
     "text": [
      "Epoch 73/128: 100%|███████████████████████████████████████████████████████████████████████████████████████████████████████████| 398/398 [00:20<00:00, 19.37it/s]\n"
     ]
    },
    {
     "name": "stdout",
     "output_type": "stream",
     "text": [
      "Epoch 73/128: Train Loss = 0.38178, Validation Loss = 0.43575, Train Accuracy = 0.73611, Validation Accuracy = 0.71231\n"
     ]
    },
    {
     "name": "stderr",
     "output_type": "stream",
     "text": [
      "Epoch 74/128: 100%|███████████████████████████████████████████████████████████████████████████████████████████████████████████| 398/398 [00:20<00:00, 19.46it/s]\n"
     ]
    },
    {
     "name": "stdout",
     "output_type": "stream",
     "text": [
      "Epoch 74/128: Train Loss = 0.37514, Validation Loss = 0.37886, Train Accuracy = 0.73904, Validation Accuracy = 0.73394\n"
     ]
    },
    {
     "name": "stderr",
     "output_type": "stream",
     "text": [
      "Epoch 75/128: 100%|███████████████████████████████████████████████████████████████████████████████████████████████████████████| 398/398 [00:20<00:00, 19.40it/s]\n"
     ]
    },
    {
     "name": "stdout",
     "output_type": "stream",
     "text": [
      "Epoch 75/128: Train Loss = 0.37553, Validation Loss = 0.39070, Train Accuracy = 0.73851, Validation Accuracy = 0.73091\n"
     ]
    },
    {
     "name": "stderr",
     "output_type": "stream",
     "text": [
      "Epoch 76/128: 100%|███████████████████████████████████████████████████████████████████████████████████████████████████████████| 398/398 [00:20<00:00, 19.45it/s]\n"
     ]
    },
    {
     "name": "stdout",
     "output_type": "stream",
     "text": [
      "Epoch 76/128: Train Loss = 0.37352, Validation Loss = 0.39664, Train Accuracy = 0.74065, Validation Accuracy = 0.72596\n"
     ]
    },
    {
     "name": "stderr",
     "output_type": "stream",
     "text": [
      "Epoch 77/128: 100%|███████████████████████████████████████████████████████████████████████████████████████████████████████████| 398/398 [00:20<00:00, 19.48it/s]\n"
     ]
    },
    {
     "name": "stdout",
     "output_type": "stream",
     "text": [
      "Epoch 77/128: Train Loss = 0.37488, Validation Loss = 0.41296, Train Accuracy = 0.74074, Validation Accuracy = 0.72001\n"
     ]
    },
    {
     "name": "stderr",
     "output_type": "stream",
     "text": [
      "Epoch 78/128: 100%|███████████████████████████████████████████████████████████████████████████████████████████████████████████| 398/398 [00:20<00:00, 19.46it/s]\n"
     ]
    },
    {
     "name": "stdout",
     "output_type": "stream",
     "text": [
      "Epoch 78/128: Train Loss = 0.37300, Validation Loss = 0.37877, Train Accuracy = 0.74149, Validation Accuracy = 0.74008\n"
     ]
    },
    {
     "name": "stderr",
     "output_type": "stream",
     "text": [
      "Epoch 79/128: 100%|███████████████████████████████████████████████████████████████████████████████████████████████████████████| 398/398 [00:20<00:00, 19.46it/s]\n"
     ]
    },
    {
     "name": "stdout",
     "output_type": "stream",
     "text": [
      "Epoch 79/128: Train Loss = 0.36792, Validation Loss = 0.39623, Train Accuracy = 0.74234, Validation Accuracy = 0.73266\n"
     ]
    },
    {
     "name": "stderr",
     "output_type": "stream",
     "text": [
      "Epoch 80/128: 100%|███████████████████████████████████████████████████████████████████████████████████████████████████████████| 398/398 [00:20<00:00, 19.43it/s]\n"
     ]
    },
    {
     "name": "stdout",
     "output_type": "stream",
     "text": [
      "Epoch 80/128: Train Loss = 0.36867, Validation Loss = 0.39713, Train Accuracy = 0.74550, Validation Accuracy = 0.72761\n"
     ]
    },
    {
     "name": "stderr",
     "output_type": "stream",
     "text": [
      "Epoch 81/128: 100%|███████████████████████████████████████████████████████████████████████████████████████████████████████████| 398/398 [00:20<00:00, 19.45it/s]\n"
     ]
    },
    {
     "name": "stdout",
     "output_type": "stream",
     "text": [
      "Epoch 81/128: Train Loss = 0.36655, Validation Loss = 0.39927, Train Accuracy = 0.74554, Validation Accuracy = 0.73366\n"
     ]
    },
    {
     "name": "stderr",
     "output_type": "stream",
     "text": [
      "Epoch 82/128: 100%|███████████████████████████████████████████████████████████████████████████████████████████████████████████| 398/398 [00:20<00:00, 19.43it/s]\n"
     ]
    },
    {
     "name": "stdout",
     "output_type": "stream",
     "text": [
      "Epoch 82/128: Train Loss = 0.36770, Validation Loss = 0.40758, Train Accuracy = 0.74503, Validation Accuracy = 0.72853\n"
     ]
    },
    {
     "name": "stderr",
     "output_type": "stream",
     "text": [
      "Epoch 83/128: 100%|███████████████████████████████████████████████████████████████████████████████████████████████████████████| 398/398 [00:20<00:00, 19.43it/s]\n"
     ]
    },
    {
     "name": "stdout",
     "output_type": "stream",
     "text": [
      "Epoch 83/128: Train Loss = 0.36803, Validation Loss = 0.38948, Train Accuracy = 0.74294, Validation Accuracy = 0.73229\n"
     ]
    },
    {
     "name": "stderr",
     "output_type": "stream",
     "text": [
      "Epoch 84/128: 100%|███████████████████████████████████████████████████████████████████████████████████████████████████████████| 398/398 [00:20<00:00, 19.47it/s]\n"
     ]
    },
    {
     "name": "stdout",
     "output_type": "stream",
     "text": [
      "Epoch 84/128: Train Loss = 0.36519, Validation Loss = 0.37384, Train Accuracy = 0.74591, Validation Accuracy = 0.74255\n"
     ]
    },
    {
     "name": "stderr",
     "output_type": "stream",
     "text": [
      "Epoch 85/128: 100%|███████████████████████████████████████████████████████████████████████████████████████████████████████████| 398/398 [00:20<00:00, 19.44it/s]\n"
     ]
    },
    {
     "name": "stdout",
     "output_type": "stream",
     "text": [
      "Epoch 85/128: Train Loss = 0.36620, Validation Loss = 0.43888, Train Accuracy = 0.74416, Validation Accuracy = 0.71478\n"
     ]
    },
    {
     "name": "stderr",
     "output_type": "stream",
     "text": [
      "Epoch 86/128: 100%|███████████████████████████████████████████████████████████████████████████████████████████████████████████| 398/398 [00:20<00:00, 19.39it/s]\n"
     ]
    },
    {
     "name": "stdout",
     "output_type": "stream",
     "text": [
      "Epoch 86/128: Train Loss = 0.36733, Validation Loss = 0.39349, Train Accuracy = 0.74581, Validation Accuracy = 0.72954\n"
     ]
    },
    {
     "name": "stderr",
     "output_type": "stream",
     "text": [
      "Epoch 87/128: 100%|███████████████████████████████████████████████████████████████████████████████████████████████████████████| 398/398 [00:20<00:00, 19.51it/s]\n"
     ]
    },
    {
     "name": "stdout",
     "output_type": "stream",
     "text": [
      "Epoch 87/128: Train Loss = 0.36357, Validation Loss = 0.39258, Train Accuracy = 0.74420, Validation Accuracy = 0.73724\n"
     ]
    },
    {
     "name": "stderr",
     "output_type": "stream",
     "text": [
      "Epoch 88/128: 100%|███████████████████████████████████████████████████████████████████████████████████████████████████████████| 398/398 [00:20<00:00, 19.41it/s]\n"
     ]
    },
    {
     "name": "stdout",
     "output_type": "stream",
     "text": [
      "Epoch 88/128: Train Loss = 0.36304, Validation Loss = 0.38130, Train Accuracy = 0.74776, Validation Accuracy = 0.73605\n"
     ]
    },
    {
     "name": "stderr",
     "output_type": "stream",
     "text": [
      "Epoch 89/128: 100%|███████████████████████████████████████████████████████████████████████████████████████████████████████████| 398/398 [00:20<00:00, 19.45it/s]\n"
     ]
    },
    {
     "name": "stdout",
     "output_type": "stream",
     "text": [
      "Epoch 89/128: Train Loss = 0.35994, Validation Loss = 0.40336, Train Accuracy = 0.74797, Validation Accuracy = 0.73000\n"
     ]
    },
    {
     "name": "stderr",
     "output_type": "stream",
     "text": [
      "Epoch 90/128: 100%|███████████████████████████████████████████████████████████████████████████████████████████████████████████| 398/398 [00:20<00:00, 19.45it/s]\n"
     ]
    },
    {
     "name": "stdout",
     "output_type": "stream",
     "text": [
      "Epoch 90/128: Train Loss = 0.36287, Validation Loss = 0.38557, Train Accuracy = 0.74858, Validation Accuracy = 0.73788\n"
     ]
    },
    {
     "name": "stderr",
     "output_type": "stream",
     "text": [
      "Epoch 91/128: 100%|███████████████████████████████████████████████████████████████████████████████████████████████████████████| 398/398 [00:20<00:00, 19.43it/s]\n"
     ]
    },
    {
     "name": "stdout",
     "output_type": "stream",
     "text": [
      "Epoch 91/128: Train Loss = 0.35860, Validation Loss = 0.40175, Train Accuracy = 0.75041, Validation Accuracy = 0.73110\n"
     ]
    },
    {
     "name": "stderr",
     "output_type": "stream",
     "text": [
      "Epoch 92/128: 100%|███████████████████████████████████████████████████████████████████████████████████████████████████████████| 398/398 [00:20<00:00, 19.42it/s]\n"
     ]
    },
    {
     "name": "stdout",
     "output_type": "stream",
     "text": [
      "Epoch 92/128: Train Loss = 0.35603, Validation Loss = 0.37886, Train Accuracy = 0.75070, Validation Accuracy = 0.74136\n"
     ]
    },
    {
     "name": "stderr",
     "output_type": "stream",
     "text": [
      "Epoch 93/128: 100%|███████████████████████████████████████████████████████████████████████████████████████████████████████████| 398/398 [00:20<00:00, 19.39it/s]\n"
     ]
    },
    {
     "name": "stdout",
     "output_type": "stream",
     "text": [
      "Epoch 93/128: Train Loss = 0.35590, Validation Loss = 0.37761, Train Accuracy = 0.75302, Validation Accuracy = 0.74045\n"
     ]
    },
    {
     "name": "stderr",
     "output_type": "stream",
     "text": [
      "Epoch 94/128: 100%|███████████████████████████████████████████████████████████████████████████████████████████████████████████| 398/398 [00:20<00:00, 19.41it/s]\n"
     ]
    },
    {
     "name": "stdout",
     "output_type": "stream",
     "text": [
      "Epoch 94/128: Train Loss = 0.35246, Validation Loss = 0.38815, Train Accuracy = 0.75467, Validation Accuracy = 0.73825\n"
     ]
    },
    {
     "name": "stderr",
     "output_type": "stream",
     "text": [
      "Epoch 95/128: 100%|███████████████████████████████████████████████████████████████████████████████████████████████████████████| 398/398 [00:20<00:00, 19.49it/s]\n"
     ]
    },
    {
     "name": "stdout",
     "output_type": "stream",
     "text": [
      "Epoch 95/128: Train Loss = 0.35248, Validation Loss = 0.39708, Train Accuracy = 0.75357, Validation Accuracy = 0.73760\n"
     ]
    },
    {
     "name": "stderr",
     "output_type": "stream",
     "text": [
      "Epoch 96/128: 100%|███████████████████████████████████████████████████████████████████████████████████████████████████████████| 398/398 [00:20<00:00, 19.39it/s]\n"
     ]
    },
    {
     "name": "stdout",
     "output_type": "stream",
     "text": [
      "Epoch 96/128: Train Loss = 0.35179, Validation Loss = 0.37923, Train Accuracy = 0.75392, Validation Accuracy = 0.74677\n"
     ]
    },
    {
     "name": "stderr",
     "output_type": "stream",
     "text": [
      "Epoch 97/128: 100%|███████████████████████████████████████████████████████████████████████████████████████████████████████████| 398/398 [00:20<00:00, 19.40it/s]\n"
     ]
    },
    {
     "name": "stdout",
     "output_type": "stream",
     "text": [
      "Epoch 97/128: Train Loss = 0.35006, Validation Loss = 0.36822, Train Accuracy = 0.75439, Validation Accuracy = 0.74035\n"
     ]
    },
    {
     "name": "stderr",
     "output_type": "stream",
     "text": [
      "Epoch 98/128: 100%|███████████████████████████████████████████████████████████████████████████████████████████████████████████| 398/398 [00:20<00:00, 19.43it/s]\n"
     ]
    },
    {
     "name": "stdout",
     "output_type": "stream",
     "text": [
      "Epoch 98/128: Train Loss = 0.35041, Validation Loss = 0.38642, Train Accuracy = 0.75451, Validation Accuracy = 0.73614\n"
     ]
    },
    {
     "name": "stderr",
     "output_type": "stream",
     "text": [
      "Epoch 99/128: 100%|███████████████████████████████████████████████████████████████████████████████████████████████████████████| 398/398 [00:20<00:00, 19.42it/s]\n"
     ]
    },
    {
     "name": "stdout",
     "output_type": "stream",
     "text": [
      "Epoch 99/128: Train Loss = 0.35124, Validation Loss = 0.37893, Train Accuracy = 0.75536, Validation Accuracy = 0.74228\n"
     ]
    },
    {
     "name": "stderr",
     "output_type": "stream",
     "text": [
      "Epoch 100/128: 100%|██████████████████████████████████████████████████████████████████████████████████████████████████████████| 398/398 [00:20<00:00, 19.40it/s]\n"
     ]
    },
    {
     "name": "stdout",
     "output_type": "stream",
     "text": [
      "Epoch 100/128: Train Loss = 0.34906, Validation Loss = 0.36413, Train Accuracy = 0.75363, Validation Accuracy = 0.74860\n"
     ]
    },
    {
     "name": "stderr",
     "output_type": "stream",
     "text": [
      "Epoch 101/128: 100%|██████████████████████████████████████████████████████████████████████████████████████████████████████████| 398/398 [00:20<00:00, 19.37it/s]\n"
     ]
    },
    {
     "name": "stdout",
     "output_type": "stream",
     "text": [
      "Epoch 101/128: Train Loss = 0.34536, Validation Loss = 0.39384, Train Accuracy = 0.75689, Validation Accuracy = 0.73779\n"
     ]
    },
    {
     "name": "stderr",
     "output_type": "stream",
     "text": [
      "Epoch 102/128: 100%|██████████████████████████████████████████████████████████████████████████████████████████████████████████| 398/398 [00:20<00:00, 19.37it/s]\n"
     ]
    },
    {
     "name": "stdout",
     "output_type": "stream",
     "text": [
      "Epoch 102/128: Train Loss = 0.35085, Validation Loss = 0.37623, Train Accuracy = 0.75522, Validation Accuracy = 0.73815\n"
     ]
    },
    {
     "name": "stderr",
     "output_type": "stream",
     "text": [
      "Epoch 103/128: 100%|██████████████████████████████████████████████████████████████████████████████████████████████████████████| 398/398 [00:20<00:00, 19.41it/s]\n"
     ]
    },
    {
     "name": "stdout",
     "output_type": "stream",
     "text": [
      "Epoch 103/128: Train Loss = 0.34510, Validation Loss = 0.39573, Train Accuracy = 0.75864, Validation Accuracy = 0.73238\n"
     ]
    },
    {
     "name": "stderr",
     "output_type": "stream",
     "text": [
      "Epoch 104/128: 100%|██████████████████████████████████████████████████████████████████████████████████████████████████████████| 398/398 [00:20<00:00, 19.47it/s]\n"
     ]
    },
    {
     "name": "stdout",
     "output_type": "stream",
     "text": [
      "Epoch 104/128: Train Loss = 0.34493, Validation Loss = 0.35289, Train Accuracy = 0.75760, Validation Accuracy = 0.75218\n"
     ]
    },
    {
     "name": "stderr",
     "output_type": "stream",
     "text": [
      "Epoch 105/128: 100%|██████████████████████████████████████████████████████████████████████████████████████████████████████████| 398/398 [00:20<00:00, 19.41it/s]\n"
     ]
    },
    {
     "name": "stdout",
     "output_type": "stream",
     "text": [
      "Epoch 105/128: Train Loss = 0.34467, Validation Loss = 0.37935, Train Accuracy = 0.75956, Validation Accuracy = 0.74549\n"
     ]
    },
    {
     "name": "stderr",
     "output_type": "stream",
     "text": [
      "Epoch 106/128: 100%|██████████████████████████████████████████████████████████████████████████████████████████████████████████| 398/398 [00:20<00:00, 19.54it/s]\n"
     ]
    },
    {
     "name": "stdout",
     "output_type": "stream",
     "text": [
      "Epoch 106/128: Train Loss = 0.34120, Validation Loss = 0.35818, Train Accuracy = 0.76023, Validation Accuracy = 0.75593\n"
     ]
    },
    {
     "name": "stderr",
     "output_type": "stream",
     "text": [
      "Epoch 107/128: 100%|██████████████████████████████████████████████████████████████████████████████████████████████████████████| 398/398 [00:20<00:00, 19.43it/s]\n"
     ]
    },
    {
     "name": "stdout",
     "output_type": "stream",
     "text": [
      "Epoch 107/128: Train Loss = 0.34211, Validation Loss = 0.38408, Train Accuracy = 0.75921, Validation Accuracy = 0.74045\n"
     ]
    },
    {
     "name": "stderr",
     "output_type": "stream",
     "text": [
      "Epoch 108/128: 100%|██████████████████████████████████████████████████████████████████████████████████████████████████████████| 398/398 [00:20<00:00, 19.50it/s]\n"
     ]
    },
    {
     "name": "stdout",
     "output_type": "stream",
     "text": [
      "Epoch 108/128: Train Loss = 0.34814, Validation Loss = 0.39076, Train Accuracy = 0.75610, Validation Accuracy = 0.74155\n"
     ]
    },
    {
     "name": "stderr",
     "output_type": "stream",
     "text": [
      "Epoch 109/128: 100%|██████████████████████████████████████████████████████████████████████████████████████████████████████████| 398/398 [00:20<00:00, 19.47it/s]\n"
     ]
    },
    {
     "name": "stdout",
     "output_type": "stream",
     "text": [
      "Epoch 109/128: Train Loss = 0.34076, Validation Loss = 0.35253, Train Accuracy = 0.76162, Validation Accuracy = 0.75813\n"
     ]
    },
    {
     "name": "stderr",
     "output_type": "stream",
     "text": [
      "Epoch 110/128: 100%|██████████████████████████████████████████████████████████████████████████████████████████████████████████| 398/398 [00:20<00:00, 19.57it/s]\n"
     ]
    },
    {
     "name": "stdout",
     "output_type": "stream",
     "text": [
      "Epoch 110/128: Train Loss = 0.34139, Validation Loss = 0.37960, Train Accuracy = 0.76017, Validation Accuracy = 0.74622\n"
     ]
    },
    {
     "name": "stderr",
     "output_type": "stream",
     "text": [
      "Epoch 111/128: 100%|██████████████████████████████████████████████████████████████████████████████████████████████████████████| 398/398 [00:20<00:00, 19.52it/s]\n"
     ]
    },
    {
     "name": "stdout",
     "output_type": "stream",
     "text": [
      "Epoch 111/128: Train Loss = 0.33911, Validation Loss = 0.37700, Train Accuracy = 0.76168, Validation Accuracy = 0.74695\n"
     ]
    },
    {
     "name": "stderr",
     "output_type": "stream",
     "text": [
      "Epoch 112/128: 100%|██████████████████████████████████████████████████████████████████████████████████████████████████████████| 398/398 [00:20<00:00, 19.58it/s]\n"
     ]
    },
    {
     "name": "stdout",
     "output_type": "stream",
     "text": [
      "Epoch 112/128: Train Loss = 0.33907, Validation Loss = 0.39667, Train Accuracy = 0.76125, Validation Accuracy = 0.73641\n"
     ]
    },
    {
     "name": "stderr",
     "output_type": "stream",
     "text": [
      "Epoch 113/128: 100%|██████████████████████████████████████████████████████████████████████████████████████████████████████████| 398/398 [00:20<00:00, 19.54it/s]\n"
     ]
    },
    {
     "name": "stdout",
     "output_type": "stream",
     "text": [
      "Epoch 113/128: Train Loss = 0.33716, Validation Loss = 0.36997, Train Accuracy = 0.76160, Validation Accuracy = 0.75584\n"
     ]
    },
    {
     "name": "stderr",
     "output_type": "stream",
     "text": [
      "Epoch 114/128: 100%|██████████████████████████████████████████████████████████████████████████████████████████████████████████| 398/398 [00:20<00:00, 19.60it/s]\n"
     ]
    },
    {
     "name": "stdout",
     "output_type": "stream",
     "text": [
      "Epoch 114/128: Train Loss = 0.33736, Validation Loss = 0.38527, Train Accuracy = 0.76308, Validation Accuracy = 0.74741\n"
     ]
    },
    {
     "name": "stderr",
     "output_type": "stream",
     "text": [
      "Epoch 115/128: 100%|██████████████████████████████████████████████████████████████████████████████████████████████████████████| 398/398 [00:20<00:00, 19.57it/s]\n"
     ]
    },
    {
     "name": "stdout",
     "output_type": "stream",
     "text": [
      "Epoch 115/128: Train Loss = 0.33612, Validation Loss = 0.35047, Train Accuracy = 0.76323, Validation Accuracy = 0.75905\n"
     ]
    },
    {
     "name": "stderr",
     "output_type": "stream",
     "text": [
      "Epoch 116/128: 100%|██████████████████████████████████████████████████████████████████████████████████████████████████████████| 398/398 [00:20<00:00, 19.62it/s]\n"
     ]
    },
    {
     "name": "stdout",
     "output_type": "stream",
     "text": [
      "Epoch 116/128: Train Loss = 0.33614, Validation Loss = 0.38113, Train Accuracy = 0.76392, Validation Accuracy = 0.74769\n"
     ]
    },
    {
     "name": "stderr",
     "output_type": "stream",
     "text": [
      "Epoch 117/128: 100%|██████████████████████████████████████████████████████████████████████████████████████████████████████████| 398/398 [00:20<00:00, 19.55it/s]\n"
     ]
    },
    {
     "name": "stdout",
     "output_type": "stream",
     "text": [
      "Epoch 117/128: Train Loss = 0.33358, Validation Loss = 0.34991, Train Accuracy = 0.76647, Validation Accuracy = 0.75685\n"
     ]
    },
    {
     "name": "stderr",
     "output_type": "stream",
     "text": [
      "Epoch 118/128: 100%|██████████████████████████████████████████████████████████████████████████████████████████████████████████| 398/398 [00:20<00:00, 19.59it/s]\n"
     ]
    },
    {
     "name": "stdout",
     "output_type": "stream",
     "text": [
      "Epoch 118/128: Train Loss = 0.33138, Validation Loss = 0.35192, Train Accuracy = 0.76526, Validation Accuracy = 0.75511\n"
     ]
    },
    {
     "name": "stderr",
     "output_type": "stream",
     "text": [
      "Epoch 119/128: 100%|██████████████████████████████████████████████████████████████████████████████████████████████████████████| 398/398 [00:20<00:00, 19.64it/s]\n"
     ]
    },
    {
     "name": "stdout",
     "output_type": "stream",
     "text": [
      "Epoch 119/128: Train Loss = 0.33421, Validation Loss = 0.38372, Train Accuracy = 0.76459, Validation Accuracy = 0.74219\n"
     ]
    },
    {
     "name": "stderr",
     "output_type": "stream",
     "text": [
      "Epoch 120/128: 100%|██████████████████████████████████████████████████████████████████████████████████████████████████████████| 398/398 [00:20<00:00, 19.61it/s]\n"
     ]
    },
    {
     "name": "stdout",
     "output_type": "stream",
     "text": [
      "Epoch 120/128: Train Loss = 0.33268, Validation Loss = 0.38246, Train Accuracy = 0.76186, Validation Accuracy = 0.74943\n"
     ]
    },
    {
     "name": "stderr",
     "output_type": "stream",
     "text": [
      "Epoch 121/128: 100%|██████████████████████████████████████████████████████████████████████████████████████████████████████████| 398/398 [00:20<00:00, 19.61it/s]\n"
     ]
    },
    {
     "name": "stdout",
     "output_type": "stream",
     "text": [
      "Epoch 121/128: Train Loss = 0.33215, Validation Loss = 0.36392, Train Accuracy = 0.76643, Validation Accuracy = 0.74888\n"
     ]
    },
    {
     "name": "stderr",
     "output_type": "stream",
     "text": [
      "Epoch 122/128: 100%|██████████████████████████████████████████████████████████████████████████████████████████████████████████| 398/398 [00:20<00:00, 19.64it/s]\n"
     ]
    },
    {
     "name": "stdout",
     "output_type": "stream",
     "text": [
      "Epoch 122/128: Train Loss = 0.32954, Validation Loss = 0.36359, Train Accuracy = 0.76612, Validation Accuracy = 0.75080\n"
     ]
    },
    {
     "name": "stderr",
     "output_type": "stream",
     "text": [
      "Epoch 123/128: 100%|██████████████████████████████████████████████████████████████████████████████████████████████████████████| 398/398 [00:20<00:00, 19.61it/s]\n"
     ]
    },
    {
     "name": "stdout",
     "output_type": "stream",
     "text": [
      "Epoch 123/128: Train Loss = 0.32990, Validation Loss = 0.38013, Train Accuracy = 0.76763, Validation Accuracy = 0.74714\n"
     ]
    },
    {
     "name": "stderr",
     "output_type": "stream",
     "text": [
      "Epoch 124/128: 100%|██████████████████████████████████████████████████████████████████████████████████████████████████████████| 398/398 [00:20<00:00, 19.63it/s]\n"
     ]
    },
    {
     "name": "stdout",
     "output_type": "stream",
     "text": [
      "Epoch 124/128: Train Loss = 0.32865, Validation Loss = 0.35481, Train Accuracy = 0.76844, Validation Accuracy = 0.75703\n"
     ]
    },
    {
     "name": "stderr",
     "output_type": "stream",
     "text": [
      "Epoch 125/128: 100%|██████████████████████████████████████████████████████████████████████████████████████████████████████████| 398/398 [00:20<00:00, 19.56it/s]\n"
     ]
    },
    {
     "name": "stdout",
     "output_type": "stream",
     "text": [
      "Epoch 125/128: Train Loss = 0.32729, Validation Loss = 0.36027, Train Accuracy = 0.77024, Validation Accuracy = 0.74824\n"
     ]
    },
    {
     "name": "stderr",
     "output_type": "stream",
     "text": [
      "Epoch 126/128: 100%|██████████████████████████████████████████████████████████████████████████████████████████████████████████| 398/398 [00:20<00:00, 19.66it/s]\n"
     ]
    },
    {
     "name": "stdout",
     "output_type": "stream",
     "text": [
      "Epoch 126/128: Train Loss = 0.32917, Validation Loss = 0.41893, Train Accuracy = 0.76539, Validation Accuracy = 0.72697\n"
     ]
    },
    {
     "name": "stderr",
     "output_type": "stream",
     "text": [
      "Epoch 127/128: 100%|██████████████████████████████████████████████████████████████████████████████████████████████████████████| 398/398 [00:20<00:00, 19.62it/s]\n"
     ]
    },
    {
     "name": "stdout",
     "output_type": "stream",
     "text": [
      "Epoch 127/128: Train Loss = 0.32486, Validation Loss = 0.36642, Train Accuracy = 0.76948, Validation Accuracy = 0.75639\n"
     ]
    },
    {
     "name": "stderr",
     "output_type": "stream",
     "text": [
      "Epoch 128/128: 100%|██████████████████████████████████████████████████████████████████████████████████████████████████████████| 398/398 [00:20<00:00, 19.67it/s]\n"
     ]
    },
    {
     "name": "stdout",
     "output_type": "stream",
     "text": [
      "Epoch 128/128: Train Loss = 0.32496, Validation Loss = 0.33537, Train Accuracy = 0.77070, Validation Accuracy = 0.76886\n"
     ]
    },
    {
     "data": {
      "image/png": "[encoded data removed]",
      "text/plain": [
       "<Figure size 1500x700 with 2 Axes>"
      ]
     },
     "metadata": {},
     "output_type": "display_data"
    }
   ],
   "source": [
    "import argparse\n",
    "\n",
    "training_args = argparse.Namespace(**args)\n",
    "train_model(training_args, device)"
   ]
  },
  {
   "cell_type": "code",
   "execution_count": null,
   "metadata": {},
   "outputs": [],
   "source": []
  }
 ],
 "metadata": {
  "kernelspec": {
   "display_name": "Python (myenv)",
   "language": "python",
   "name": "myenv"
  },
  "language_info": {
   "codemirror_mode": {
    "name": "ipython",
    "version": 3
   },
   "file_extension": ".py",
   "mimetype": "text/x-python",
   "name": "python",
   "nbconvert_exporter": "python",
   "pygments_lexer": "ipython3",
   "version": "3.12.7"
  }
 },
 "nbformat": 4,
 "nbformat_minor": 4
}
