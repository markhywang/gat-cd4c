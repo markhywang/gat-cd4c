{
 "cells": [
  {
   "cell_type": "code",
   "execution_count": 1,
   "metadata": {},
   "outputs": [],
   "source": [
    "# Copy of train.ipynb (run on GPU 1)"
   ]
  },
  {
   "cell_type": "code",
   "execution_count": 2,
   "metadata": {},
   "outputs": [
    {
     "name": "stdout",
     "output_type": "stream",
     "text": [
      "Using device: cpu\n"
     ]
    }
   ],
   "source": [
    "import torch\n",
    "\n",
    "# Local imports\n",
    "from train import train_model"
   ]
  },
  {
   "cell_type": "code",
   "execution_count": 3,
   "metadata": {},
   "outputs": [
    {
     "name": "stdout",
     "output_type": "stream",
     "text": [
      "Using device: cuda:1\n"
     ]
    }
   ],
   "source": [
    "if torch.backends.mps.is_available():\n",
    "    device = torch.device(\"mps\")\n",
    "elif torch.cuda.is_available():\n",
    "    device = torch.device(\"cuda:1\")\n",
    "else:\n",
    "    device = torch.device(\"cpu\")\n",
    "\n",
    "print(f\"Using device: {device}\")"
   ]
  },
  {
   "cell_type": "code",
   "execution_count": 4,
   "metadata": {},
   "outputs": [],
   "source": [
    "args = {\n",
    "    \"use_small_dataset\": True,\n",
    "    \"batch_size\": 64,\n",
    "    \"stoppage_epochs\": 64,\n",
    "    \"max_epochs\": 512,\n",
    "    \"seed\": 42,\n",
    "    \"data_path\": \"../data\",\n",
    "    \"frac_train\": 0.8,\n",
    "    \"frac_validation\": 0.1,\n",
    "    \"frac_test\": 0.1,\n",
    "    \"huber_beta\": 0.5,\n",
    "    \"weight_decay\": 1e-3,\n",
    "    \"lr\": 3e-4,\n",
    "    \"scheduler_patience\": 10,\n",
    "    \"scheduler_factor\": 0.5,\n",
    "    \"hidden_size\": 96,\n",
    "    \"num_layers\": 7,\n",
    "    \"num_attn_heads\": 6,\n",
    "    \"dropout\": 0.2,\n",
    "    \"pooling_dropout\": 0.0,\n",
    "    \"pooling_dim\": 96,\n",
    "}"
   ]
  },
  {
   "cell_type": "code",
   "execution_count": null,
   "metadata": {},
   "outputs": [
    {
     "name": "stdout",
     "output_type": "stream",
     "text": [
      "Model parameters: 182906\n"
     ]
    },
    {
     "name": "stderr",
     "output_type": "stream",
     "text": [
      "Epoch 1/512: 100%|████████████████████████████████████████████████████████████████████████| 63/63 [00:09<00:00,  6.32it/s]\n"
     ]
    },
    {
     "name": "stdout",
     "output_type": "stream",
     "text": [
      "Epoch 1/512: \n",
      "Train Loss = 0.87592, Train MSE = 1.89772, Train MAE = 1.10157, Train Acc = 0.53386\n",
      "Val Loss = 0.83179, Val MSE = 1.73499, Val MAE = 1.05478, Val Acc = 0.52988\n"
     ]
    },
    {
     "name": "stderr",
     "output_type": "stream",
     "text": [
      "Epoch 2/512: 100%|████████████████████████████████████████████████████████████████████████| 63/63 [00:02<00:00, 21.22it/s]\n"
     ]
    },
    {
     "name": "stdout",
     "output_type": "stream",
     "text": [
      "Epoch 2/512: \n",
      "Train Loss = 0.75143, Train MSE = 1.46430, Train MAE = 0.97349, Train Acc = 0.58192\n",
      "Val Loss = 0.73625, Val MSE = 1.41810, Val MAE = 0.95867, Val Acc = 0.60159\n"
     ]
    },
    {
     "name": "stderr",
     "output_type": "stream",
     "text": [
      "Epoch 3/512: 100%|████████████████████████████████████████████████████████████████████████| 63/63 [00:02<00:00, 21.54it/s]\n"
     ]
    },
    {
     "name": "stdout",
     "output_type": "stream",
     "text": [
      "Epoch 3/512: \n",
      "Train Loss = 0.71578, Train MSE = 1.35283, Train MAE = 0.93868, Train Acc = 0.60134\n",
      "Val Loss = 0.72587, Val MSE = 1.41725, Val MAE = 0.94326, Val Acc = 0.60956\n"
     ]
    },
    {
     "name": "stderr",
     "output_type": "stream",
     "text": [
      "Epoch 4/512: 100%|████████████████████████████████████████████████████████████████████████| 63/63 [00:02<00:00, 21.39it/s]\n"
     ]
    },
    {
     "name": "stdout",
     "output_type": "stream",
     "text": [
      "Epoch 4/512: \n",
      "Train Loss = 0.71791, Train MSE = 1.35462, Train MAE = 0.94127, Train Acc = 0.59786\n",
      "Val Loss = 0.73832, Val MSE = 1.44380, Val MAE = 0.95764, Val Acc = 0.59562\n"
     ]
    },
    {
     "name": "stderr",
     "output_type": "stream",
     "text": [
      "Epoch 5/512: 100%|████████████████████████████████████████████████████████████████████████| 63/63 [00:02<00:00, 21.13it/s]\n"
     ]
    },
    {
     "name": "stdout",
     "output_type": "stream",
     "text": [
      "Epoch 5/512: \n",
      "Train Loss = 0.69638, Train MSE = 1.28605, Train MAE = 0.91960, Train Acc = 0.60931\n",
      "Val Loss = 0.69836, Val MSE = 1.34363, Val MAE = 0.91816, Val Acc = 0.63147\n"
     ]
    },
    {
     "name": "stderr",
     "output_type": "stream",
     "text": [
      "Epoch 6/512: 100%|████████████████████████████████████████████████████████████████████████| 63/63 [00:02<00:00, 21.49it/s]\n"
     ]
    },
    {
     "name": "stdout",
     "output_type": "stream",
     "text": [
      "Epoch 6/512: \n",
      "Train Loss = 0.68627, Train MSE = 1.26438, Train MAE = 0.90839, Train Acc = 0.60956\n",
      "Val Loss = 0.69166, Val MSE = 1.31175, Val MAE = 0.91192, Val Acc = 0.62550\n"
     ]
    },
    {
     "name": "stderr",
     "output_type": "stream",
     "text": [
      "Epoch 7/512: 100%|████████████████████████████████████████████████████████████████████████| 63/63 [00:02<00:00, 21.33it/s]\n"
     ]
    },
    {
     "name": "stdout",
     "output_type": "stream",
     "text": [
      "Epoch 7/512: \n",
      "Train Loss = 0.69503, Train MSE = 1.29690, Train MAE = 0.91716, Train Acc = 0.61130\n",
      "Val Loss = 0.69030, Val MSE = 1.30382, Val MAE = 0.90957, Val Acc = 0.62550\n"
     ]
    },
    {
     "name": "stderr",
     "output_type": "stream",
     "text": [
      "Epoch 8/512: 100%|████████████████████████████████████████████████████████████████████████| 63/63 [00:02<00:00, 21.16it/s]\n"
     ]
    },
    {
     "name": "stdout",
     "output_type": "stream",
     "text": [
      "Epoch 8/512: \n",
      "Train Loss = 0.68879, Train MSE = 1.27529, Train MAE = 0.91147, Train Acc = 0.61628\n",
      "Val Loss = 0.67796, Val MSE = 1.26065, Val MAE = 0.89834, Val Acc = 0.62351\n"
     ]
    },
    {
     "name": "stderr",
     "output_type": "stream",
     "text": [
      "Epoch 9/512: 100%|████████████████████████████████████████████████████████████████████████| 63/63 [00:02<00:00, 21.35it/s]\n"
     ]
    },
    {
     "name": "stdout",
     "output_type": "stream",
     "text": [
      "Epoch 9/512: \n",
      "Train Loss = 0.67933, Train MSE = 1.25573, Train MAE = 0.90032, Train Acc = 0.62351\n",
      "Val Loss = 0.68288, Val MSE = 1.28152, Val MAE = 0.90138, Val Acc = 0.62749\n"
     ]
    },
    {
     "name": "stderr",
     "output_type": "stream",
     "text": [
      "Epoch 10/512: 100%|███████████████████████████████████████████████████████████████████████| 63/63 [00:02<00:00, 21.19it/s]\n"
     ]
    },
    {
     "name": "stdout",
     "output_type": "stream",
     "text": [
      "Epoch 10/512: \n",
      "Train Loss = 0.67030, Train MSE = 1.22492, Train MAE = 0.89284, Train Acc = 0.62674\n",
      "Val Loss = 0.65667, Val MSE = 1.21567, Val MAE = 0.87424, Val Acc = 0.63347\n"
     ]
    },
    {
     "name": "stderr",
     "output_type": "stream",
     "text": [
      "Epoch 11/512: 100%|███████████████████████████████████████████████████████████████████████| 63/63 [00:02<00:00, 21.11it/s]\n"
     ]
    },
    {
     "name": "stdout",
     "output_type": "stream",
     "text": [
      "Epoch 11/512: \n",
      "Train Loss = 0.66534, Train MSE = 1.22004, Train MAE = 0.88649, Train Acc = 0.62849\n",
      "Val Loss = 0.65873, Val MSE = 1.21720, Val MAE = 0.87817, Val Acc = 0.62749\n"
     ]
    },
    {
     "name": "stderr",
     "output_type": "stream",
     "text": [
      "Epoch 12/512: 100%|███████████████████████████████████████████████████████████████████████| 63/63 [00:03<00:00, 20.78it/s]\n"
     ]
    },
    {
     "name": "stdout",
     "output_type": "stream",
     "text": [
      "Epoch 12/512: \n",
      "Train Loss = 0.65935, Train MSE = 1.20999, Train MAE = 0.88041, Train Acc = 0.64193\n",
      "Val Loss = 0.68004, Val MSE = 1.32422, Val MAE = 0.89614, Val Acc = 0.62550\n"
     ]
    },
    {
     "name": "stderr",
     "output_type": "stream",
     "text": [
      "Epoch 13/512: 100%|███████████████████████████████████████████████████████████████████████| 63/63 [00:03<00:00, 20.98it/s]\n"
     ]
    },
    {
     "name": "stdout",
     "output_type": "stream",
     "text": [
      "Epoch 13/512: \n",
      "Train Loss = 0.66268, Train MSE = 1.21773, Train MAE = 0.88361, Train Acc = 0.63421\n",
      "Val Loss = 0.66683, Val MSE = 1.26169, Val MAE = 0.88490, Val Acc = 0.63944\n"
     ]
    },
    {
     "name": "stderr",
     "output_type": "stream",
     "text": [
      "Epoch 14/512: 100%|███████████████████████████████████████████████████████████████████████| 63/63 [00:02<00:00, 21.14it/s]\n"
     ]
    },
    {
     "name": "stdout",
     "output_type": "stream",
     "text": [
      "Epoch 14/512: \n",
      "Train Loss = 0.64989, Train MSE = 1.18463, Train MAE = 0.86992, Train Acc = 0.64392\n",
      "Val Loss = 0.67420, Val MSE = 1.27890, Val MAE = 0.89310, Val Acc = 0.63147\n"
     ]
    },
    {
     "name": "stderr",
     "output_type": "stream",
     "text": [
      "Epoch 15/512: 100%|███████████████████████████████████████████████████████████████████████| 63/63 [00:02<00:00, 21.09it/s]\n"
     ]
    },
    {
     "name": "stdout",
     "output_type": "stream",
     "text": [
      "Epoch 15/512: \n",
      "Train Loss = 0.63898, Train MSE = 1.16873, Train MAE = 0.85837, Train Acc = 0.64890\n",
      "Val Loss = 0.63796, Val MSE = 1.18075, Val MAE = 0.85549, Val Acc = 0.64741\n"
     ]
    },
    {
     "name": "stderr",
     "output_type": "stream",
     "text": [
      "Epoch 16/512: 100%|███████████████████████████████████████████████████████████████████████| 63/63 [00:02<00:00, 21.07it/s]\n"
     ]
    },
    {
     "name": "stdout",
     "output_type": "stream",
     "text": [
      "Epoch 16/512: \n",
      "Train Loss = 0.63935, Train MSE = 1.16837, Train MAE = 0.85904, Train Acc = 0.65712\n",
      "Val Loss = 0.63905, Val MSE = 1.19840, Val MAE = 0.85771, Val Acc = 0.67131\n"
     ]
    },
    {
     "name": "stderr",
     "output_type": "stream",
     "text": [
      "Epoch 17/512: 100%|███████████████████████████████████████████████████████████████████████| 63/63 [00:02<00:00, 21.10it/s]\n"
     ]
    },
    {
     "name": "stdout",
     "output_type": "stream",
     "text": [
      "Epoch 17/512: \n",
      "Train Loss = 0.63308, Train MSE = 1.16283, Train MAE = 0.85213, Train Acc = 0.65862\n",
      "Val Loss = 0.64102, Val MSE = 1.20185, Val MAE = 0.85732, Val Acc = 0.65538\n"
     ]
    },
    {
     "name": "stderr",
     "output_type": "stream",
     "text": [
      "Epoch 18/512: 100%|███████████████████████████████████████████████████████████████████████| 63/63 [00:02<00:00, 21.08it/s]\n"
     ]
    },
    {
     "name": "stdout",
     "output_type": "stream",
     "text": [
      "Epoch 18/512: \n",
      "Train Loss = 0.62899, Train MSE = 1.15534, Train MAE = 0.84784, Train Acc = 0.65588\n",
      "Val Loss = 0.65804, Val MSE = 1.25075, Val MAE = 0.87540, Val Acc = 0.64343\n"
     ]
    },
    {
     "name": "stderr",
     "output_type": "stream",
     "text": [
      "Epoch 19/512: 100%|███████████████████████████████████████████████████████████████████████| 63/63 [00:02<00:00, 21.07it/s]\n"
     ]
    },
    {
     "name": "stdout",
     "output_type": "stream",
     "text": [
      "Epoch 19/512: \n",
      "Train Loss = 0.63451, Train MSE = 1.16433, Train MAE = 0.85457, Train Acc = 0.65488\n",
      "Val Loss = 0.64763, Val MSE = 1.24108, Val MAE = 0.86303, Val Acc = 0.66135\n"
     ]
    },
    {
     "name": "stderr",
     "output_type": "stream",
     "text": [
      "Epoch 20/512: 100%|███████████████████████████████████████████████████████████████████████| 63/63 [00:03<00:00, 20.80it/s]\n"
     ]
    },
    {
     "name": "stdout",
     "output_type": "stream",
     "text": [
      "Epoch 20/512: \n",
      "Train Loss = 0.62696, Train MSE = 1.14330, Train MAE = 0.84592, Train Acc = 0.65986\n",
      "Val Loss = 0.63235, Val MSE = 1.17987, Val MAE = 0.84611, Val Acc = 0.65139\n"
     ]
    },
    {
     "name": "stderr",
     "output_type": "stream",
     "text": [
      "Epoch 21/512: 100%|███████████████████████████████████████████████████████████████████████| 63/63 [00:03<00:00, 20.78it/s]\n"
     ]
    },
    {
     "name": "stdout",
     "output_type": "stream",
     "text": [
      "Epoch 21/512: \n",
      "Train Loss = 0.61771, Train MSE = 1.11821, Train MAE = 0.83583, Train Acc = 0.66360\n",
      "Val Loss = 0.71723, Val MSE = 1.41154, Val MAE = 0.94028, Val Acc = 0.60359\n"
     ]
    },
    {
     "name": "stderr",
     "output_type": "stream",
     "text": [
      "Epoch 22/512: 100%|███████████████████████████████████████████████████████████████████████| 63/63 [00:03<00:00, 20.89it/s]\n"
     ]
    },
    {
     "name": "stdout",
     "output_type": "stream",
     "text": [
      "Epoch 22/512: \n",
      "Train Loss = 0.63020, Train MSE = 1.16134, Train MAE = 0.84845, Train Acc = 0.65812\n",
      "Val Loss = 0.65626, Val MSE = 1.22214, Val MAE = 0.87456, Val Acc = 0.64542\n"
     ]
    },
    {
     "name": "stderr",
     "output_type": "stream",
     "text": [
      "Epoch 23/512: 100%|███████████████████████████████████████████████████████████████████████| 63/63 [00:03<00:00, 20.78it/s]\n"
     ]
    },
    {
     "name": "stdout",
     "output_type": "stream",
     "text": [
      "Epoch 23/512: \n",
      "Train Loss = 0.62567, Train MSE = 1.14112, Train MAE = 0.84387, Train Acc = 0.66061\n",
      "Val Loss = 0.62409, Val MSE = 1.16393, Val MAE = 0.84147, Val Acc = 0.67530\n"
     ]
    },
    {
     "name": "stderr",
     "output_type": "stream",
     "text": [
      "Epoch 24/512: 100%|███████████████████████████████████████████████████████████████████████| 63/63 [00:03<00:00, 20.68it/s]\n"
     ]
    },
    {
     "name": "stdout",
     "output_type": "stream",
     "text": [
      "Epoch 24/512: \n",
      "Train Loss = 0.60742, Train MSE = 1.09486, Train MAE = 0.82537, Train Acc = 0.67306\n",
      "Val Loss = 0.62676, Val MSE = 1.16714, Val MAE = 0.84077, Val Acc = 0.65339\n"
     ]
    },
    {
     "name": "stderr",
     "output_type": "stream",
     "text": [
      "Epoch 25/512: 100%|███████████████████████████████████████████████████████████████████████| 63/63 [00:03<00:00, 20.72it/s]\n"
     ]
    },
    {
     "name": "stdout",
     "output_type": "stream",
     "text": [
      "Epoch 25/512: \n",
      "Train Loss = 0.60707, Train MSE = 1.09964, Train MAE = 0.82262, Train Acc = 0.67231\n",
      "Val Loss = 0.62005, Val MSE = 1.15354, Val MAE = 0.83404, Val Acc = 0.66932\n"
     ]
    },
    {
     "name": "stderr",
     "output_type": "stream",
     "text": [
      "Epoch 26/512: 100%|███████████████████████████████████████████████████████████████████████| 63/63 [00:03<00:00, 20.60it/s]\n"
     ]
    },
    {
     "name": "stdout",
     "output_type": "stream",
     "text": [
      "Epoch 26/512: \n",
      "Train Loss = 0.59969, Train MSE = 1.08687, Train MAE = 0.81641, Train Acc = 0.68551\n",
      "Val Loss = 0.62151, Val MSE = 1.14858, Val MAE = 0.84072, Val Acc = 0.66932\n"
     ]
    },
    {
     "name": "stderr",
     "output_type": "stream",
     "text": [
      "Epoch 27/512: 100%|███████████████████████████████████████████████████████████████████████| 63/63 [00:03<00:00, 20.66it/s]\n"
     ]
    },
    {
     "name": "stdout",
     "output_type": "stream",
     "text": [
      "Epoch 27/512: \n",
      "Train Loss = 0.60711, Train MSE = 1.09900, Train MAE = 0.82460, Train Acc = 0.66957\n",
      "Val Loss = 0.63470, Val MSE = 1.18362, Val MAE = 0.85178, Val Acc = 0.65737\n"
     ]
    },
    {
     "name": "stderr",
     "output_type": "stream",
     "text": [
      "Epoch 28/512: 100%|███████████████████████████████████████████████████████████████████████| 63/63 [00:03<00:00, 20.50it/s]\n"
     ]
    },
    {
     "name": "stdout",
     "output_type": "stream",
     "text": [
      "Epoch 28/512: \n",
      "Train Loss = 0.59558, Train MSE = 1.07668, Train MAE = 0.81184, Train Acc = 0.68576\n",
      "Val Loss = 0.61340, Val MSE = 1.14293, Val MAE = 0.82763, Val Acc = 0.68725\n"
     ]
    },
    {
     "name": "stderr",
     "output_type": "stream",
     "text": [
      "Epoch 29/512: 100%|███████████████████████████████████████████████████████████████████████| 63/63 [00:03<00:00, 20.57it/s]\n"
     ]
    },
    {
     "name": "stdout",
     "output_type": "stream",
     "text": [
      "Epoch 29/512: \n",
      "Train Loss = 0.59135, Train MSE = 1.06325, Train MAE = 0.80918, Train Acc = 0.68426\n",
      "Val Loss = 0.62946, Val MSE = 1.17898, Val MAE = 0.84818, Val Acc = 0.65936\n"
     ]
    },
    {
     "name": "stderr",
     "output_type": "stream",
     "text": [
      "Epoch 30/512: 100%|███████████████████████████████████████████████████████████████████████| 63/63 [00:03<00:00, 20.72it/s]\n"
     ]
    },
    {
     "name": "stdout",
     "output_type": "stream",
     "text": [
      "Epoch 30/512: \n",
      "Train Loss = 0.59943, Train MSE = 1.08241, Train MAE = 0.81623, Train Acc = 0.67978\n",
      "Val Loss = 0.61117, Val MSE = 1.11836, Val MAE = 0.82772, Val Acc = 0.66733\n"
     ]
    },
    {
     "name": "stderr",
     "output_type": "stream",
     "text": [
      "Epoch 31/512: 100%|███████████████████████████████████████████████████████████████████████| 63/63 [00:03<00:00, 20.71it/s]\n"
     ]
    },
    {
     "name": "stdout",
     "output_type": "stream",
     "text": [
      "Epoch 31/512: \n",
      "Train Loss = 0.59134, Train MSE = 1.05607, Train MAE = 0.80765, Train Acc = 0.68700\n",
      "Val Loss = 0.62809, Val MSE = 1.18730, Val MAE = 0.84738, Val Acc = 0.66733\n"
     ]
    },
    {
     "name": "stderr",
     "output_type": "stream",
     "text": [
      "Epoch 32/512: 100%|███████████████████████████████████████████████████████████████████████| 63/63 [00:03<00:00, 20.80it/s]\n"
     ]
    },
    {
     "name": "stdout",
     "output_type": "stream",
     "text": [
      "Epoch 32/512: \n",
      "Train Loss = 0.58973, Train MSE = 1.05496, Train MAE = 0.80609, Train Acc = 0.68327\n",
      "Val Loss = 0.60088, Val MSE = 1.09807, Val MAE = 0.81664, Val Acc = 0.68327\n"
     ]
    },
    {
     "name": "stderr",
     "output_type": "stream",
     "text": [
      "Epoch 33/512: 100%|███████████████████████████████████████████████████████████████████████| 63/63 [00:03<00:00, 20.97it/s]\n"
     ]
    },
    {
     "name": "stdout",
     "output_type": "stream",
     "text": [
      "Epoch 33/512: \n",
      "Train Loss = 0.58336, Train MSE = 1.04217, Train MAE = 0.79897, Train Acc = 0.68152\n",
      "Val Loss = 0.59577, Val MSE = 1.10832, Val MAE = 0.81156, Val Acc = 0.68127\n"
     ]
    },
    {
     "name": "stderr",
     "output_type": "stream",
     "text": [
      "Epoch 34/512: 100%|███████████████████████████████████████████████████████████████████████| 63/63 [00:03<00:00, 20.73it/s]\n"
     ]
    },
    {
     "name": "stdout",
     "output_type": "stream",
     "text": [
      "Epoch 34/512: \n",
      "Train Loss = 0.57829, Train MSE = 1.03412, Train MAE = 0.79327, Train Acc = 0.68949\n",
      "Val Loss = 0.60357, Val MSE = 1.12692, Val MAE = 0.81705, Val Acc = 0.68526\n"
     ]
    },
    {
     "name": "stderr",
     "output_type": "stream",
     "text": [
      "Epoch 35/512: 100%|███████████████████████████████████████████████████████████████████████| 63/63 [00:03<00:00, 20.43it/s]\n"
     ]
    },
    {
     "name": "stdout",
     "output_type": "stream",
     "text": [
      "Epoch 35/512: \n",
      "Train Loss = 0.57436, Train MSE = 1.02695, Train MAE = 0.78790, Train Acc = 0.69522\n",
      "Val Loss = 0.58725, Val MSE = 1.07413, Val MAE = 0.79935, Val Acc = 0.67331\n"
     ]
    },
    {
     "name": "stderr",
     "output_type": "stream",
     "text": [
      "Epoch 36/512: 100%|███████████████████████████████████████████████████████████████████████| 63/63 [00:03<00:00, 20.90it/s]\n"
     ]
    },
    {
     "name": "stdout",
     "output_type": "stream",
     "text": [
      "Epoch 36/512: \n",
      "Train Loss = 0.57105, Train MSE = 1.01348, Train MAE = 0.78710, Train Acc = 0.69522\n",
      "Val Loss = 0.61803, Val MSE = 1.15258, Val MAE = 0.83411, Val Acc = 0.67331\n"
     ]
    },
    {
     "name": "stderr",
     "output_type": "stream",
     "text": [
      "Epoch 37/512: 100%|███████████████████████████████████████████████████████████████████████| 63/63 [00:03<00:00, 20.59it/s]\n"
     ]
    },
    {
     "name": "stdout",
     "output_type": "stream",
     "text": [
      "Epoch 37/512: \n",
      "Train Loss = 0.57636, Train MSE = 1.03536, Train MAE = 0.79282, Train Acc = 0.69422\n",
      "Val Loss = 0.60095, Val MSE = 1.11777, Val MAE = 0.81878, Val Acc = 0.68725\n"
     ]
    },
    {
     "name": "stderr",
     "output_type": "stream",
     "text": [
      "Epoch 38/512: 100%|███████████████████████████████████████████████████████████████████████| 63/63 [00:03<00:00, 20.67it/s]\n"
     ]
    },
    {
     "name": "stdout",
     "output_type": "stream",
     "text": [
      "Epoch 38/512: \n",
      "Train Loss = 0.56822, Train MSE = 1.01244, Train MAE = 0.78134, Train Acc = 0.69995\n",
      "Val Loss = 0.57311, Val MSE = 1.03669, Val MAE = 0.78749, Val Acc = 0.69721\n"
     ]
    },
    {
     "name": "stderr",
     "output_type": "stream",
     "text": [
      "Epoch 39/512: 100%|███████████████████████████████████████████████████████████████████████| 63/63 [00:03<00:00, 20.52it/s]\n"
     ]
    },
    {
     "name": "stdout",
     "output_type": "stream",
     "text": [
      "Epoch 39/512: \n",
      "Train Loss = 0.56095, Train MSE = 0.99551, Train MAE = 0.77420, Train Acc = 0.69671\n",
      "Val Loss = 0.60070, Val MSE = 1.12074, Val MAE = 0.81664, Val Acc = 0.69124\n"
     ]
    },
    {
     "name": "stderr",
     "output_type": "stream",
     "text": [
      "Epoch 40/512: 100%|███████████████████████████████████████████████████████████████████████| 63/63 [00:03<00:00, 20.60it/s]\n"
     ]
    },
    {
     "name": "stdout",
     "output_type": "stream",
     "text": [
      "Epoch 40/512: \n",
      "Train Loss = 0.55733, Train MSE = 0.97938, Train MAE = 0.77168, Train Acc = 0.70767\n",
      "Val Loss = 0.58805, Val MSE = 1.06787, Val MAE = 0.80294, Val Acc = 0.69522\n"
     ]
    },
    {
     "name": "stderr",
     "output_type": "stream",
     "text": [
      "Epoch 41/512: 100%|███████████████████████████████████████████████████████████████████████| 63/63 [00:03<00:00, 20.89it/s]\n"
     ]
    },
    {
     "name": "stdout",
     "output_type": "stream",
     "text": [
      "Epoch 41/512: \n",
      "Train Loss = 0.57536, Train MSE = 1.02404, Train MAE = 0.79137, Train Acc = 0.70020\n",
      "Val Loss = 0.58277, Val MSE = 1.06668, Val MAE = 0.79523, Val Acc = 0.67729\n"
     ]
    },
    {
     "name": "stderr",
     "output_type": "stream",
     "text": [
      "Epoch 42/512: 100%|███████████████████████████████████████████████████████████████████████| 63/63 [00:03<00:00, 20.88it/s]\n"
     ]
    },
    {
     "name": "stdout",
     "output_type": "stream",
     "text": [
      "Epoch 42/512: \n",
      "Train Loss = 0.55377, Train MSE = 0.97581, Train MAE = 0.76706, Train Acc = 0.71638\n",
      "Val Loss = 0.57288, Val MSE = 1.03178, Val MAE = 0.78626, Val Acc = 0.69323\n"
     ]
    },
    {
     "name": "stderr",
     "output_type": "stream",
     "text": [
      "Epoch 43/512: 100%|███████████████████████████████████████████████████████████████████████| 63/63 [00:03<00:00, 20.19it/s]\n"
     ]
    },
    {
     "name": "stdout",
     "output_type": "stream",
     "text": [
      "Epoch 43/512: \n",
      "Train Loss = 0.55968, Train MSE = 0.99684, Train MAE = 0.77404, Train Acc = 0.70742\n",
      "Val Loss = 0.56670, Val MSE = 1.03656, Val MAE = 0.77947, Val Acc = 0.69323\n"
     ]
    },
    {
     "name": "stderr",
     "output_type": "stream",
     "text": [
      "Epoch 44/512: 100%|███████████████████████████████████████████████████████████████████████| 63/63 [00:03<00:00, 20.67it/s]\n"
     ]
    },
    {
     "name": "stdout",
     "output_type": "stream",
     "text": [
      "Epoch 44/512: \n",
      "Train Loss = 0.56225, Train MSE = 0.99579, Train MAE = 0.77662, Train Acc = 0.70891\n",
      "Val Loss = 0.59475, Val MSE = 1.09622, Val MAE = 0.81286, Val Acc = 0.68327\n"
     ]
    },
    {
     "name": "stderr",
     "output_type": "stream",
     "text": [
      "Epoch 45/512: 100%|███████████████████████████████████████████████████████████████████████| 63/63 [00:03<00:00, 20.66it/s]\n"
     ]
    },
    {
     "name": "stdout",
     "output_type": "stream",
     "text": [
      "Epoch 45/512: \n",
      "Train Loss = 0.55204, Train MSE = 0.96821, Train MAE = 0.76804, Train Acc = 0.72211\n",
      "Val Loss = 0.56492, Val MSE = 1.03183, Val MAE = 0.77871, Val Acc = 0.71315\n"
     ]
    },
    {
     "name": "stderr",
     "output_type": "stream",
     "text": [
      "Epoch 46/512: 100%|███████████████████████████████████████████████████████████████████████| 63/63 [00:03<00:00, 20.88it/s]\n"
     ]
    },
    {
     "name": "stdout",
     "output_type": "stream",
     "text": [
      "Epoch 46/512: \n",
      "Train Loss = 0.55897, Train MSE = 0.99395, Train MAE = 0.77291, Train Acc = 0.70493\n",
      "Val Loss = 0.57598, Val MSE = 1.03180, Val MAE = 0.79063, Val Acc = 0.69323\n"
     ]
    },
    {
     "name": "stderr",
     "output_type": "stream",
     "text": [
      "Epoch 47/512: 100%|███████████████████████████████████████████████████████████████████████| 63/63 [00:03<00:00, 20.57it/s]\n"
     ]
    },
    {
     "name": "stdout",
     "output_type": "stream",
     "text": [
      "Epoch 47/512: \n",
      "Train Loss = 0.54985, Train MSE = 0.96534, Train MAE = 0.76360, Train Acc = 0.71066\n",
      "Val Loss = 0.57127, Val MSE = 1.02733, Val MAE = 0.78388, Val Acc = 0.69721\n"
     ]
    },
    {
     "name": "stderr",
     "output_type": "stream",
     "text": [
      "Epoch 48/512: 100%|███████████████████████████████████████████████████████████████████████| 63/63 [00:03<00:00, 20.95it/s]\n"
     ]
    },
    {
     "name": "stdout",
     "output_type": "stream",
     "text": [
      "Epoch 48/512: \n",
      "Train Loss = 0.52693, Train MSE = 0.92305, Train MAE = 0.73947, Train Acc = 0.72709\n",
      "Val Loss = 0.55049, Val MSE = 0.99162, Val MAE = 0.76389, Val Acc = 0.70717\n"
     ]
    },
    {
     "name": "stderr",
     "output_type": "stream",
     "text": [
      "Epoch 49/512: 100%|███████████████████████████████████████████████████████████████████████| 63/63 [00:03<00:00, 20.93it/s]\n"
     ]
    },
    {
     "name": "stdout",
     "output_type": "stream",
     "text": [
      "Epoch 49/512: \n",
      "Train Loss = 0.52649, Train MSE = 0.91315, Train MAE = 0.73827, Train Acc = 0.72659\n",
      "Val Loss = 0.54048, Val MSE = 0.96333, Val MAE = 0.75159, Val Acc = 0.71116\n"
     ]
    },
    {
     "name": "stderr",
     "output_type": "stream",
     "text": [
      "Epoch 50/512: 100%|███████████████████████████████████████████████████████████████████████| 63/63 [00:03<00:00, 20.94it/s]\n"
     ]
    },
    {
     "name": "stdout",
     "output_type": "stream",
     "text": [
      "Epoch 50/512: \n",
      "Train Loss = 0.53563, Train MSE = 0.93362, Train MAE = 0.74698, Train Acc = 0.71788\n",
      "Val Loss = 0.53606, Val MSE = 0.95923, Val MAE = 0.74804, Val Acc = 0.71514\n"
     ]
    },
    {
     "name": "stderr",
     "output_type": "stream",
     "text": [
      "Epoch 51/512: 100%|███████████████████████████████████████████████████████████████████████| 63/63 [00:03<00:00, 20.92it/s]\n"
     ]
    },
    {
     "name": "stdout",
     "output_type": "stream",
     "text": [
      "Epoch 51/512: \n",
      "Train Loss = 0.53555, Train MSE = 0.93344, Train MAE = 0.74937, Train Acc = 0.72361\n",
      "Val Loss = 0.55261, Val MSE = 0.99688, Val MAE = 0.76535, Val Acc = 0.72112\n"
     ]
    },
    {
     "name": "stderr",
     "output_type": "stream",
     "text": [
      "Epoch 52/512: 100%|███████████████████████████████████████████████████████████████████████| 63/63 [00:03<00:00, 20.40it/s]\n"
     ]
    },
    {
     "name": "stdout",
     "output_type": "stream",
     "text": [
      "Epoch 52/512: \n",
      "Train Loss = 0.53326, Train MSE = 0.93129, Train MAE = 0.74550, Train Acc = 0.72410\n",
      "Val Loss = 0.53487, Val MSE = 0.95426, Val MAE = 0.74239, Val Acc = 0.71116\n"
     ]
    },
    {
     "name": "stderr",
     "output_type": "stream",
     "text": [
      "Epoch 53/512: 100%|███████████████████████████████████████████████████████████████████████| 63/63 [00:03<00:00, 20.96it/s]\n"
     ]
    },
    {
     "name": "stdout",
     "output_type": "stream",
     "text": [
      "Epoch 53/512: \n",
      "Train Loss = 0.53008, Train MSE = 0.92156, Train MAE = 0.74260, Train Acc = 0.72211\n",
      "Val Loss = 0.55972, Val MSE = 1.00817, Val MAE = 0.77333, Val Acc = 0.71514\n"
     ]
    },
    {
     "name": "stderr",
     "output_type": "stream",
     "text": [
      "Epoch 54/512: 100%|███████████████████████████████████████████████████████████████████████| 63/63 [00:02<00:00, 21.08it/s]\n"
     ]
    },
    {
     "name": "stdout",
     "output_type": "stream",
     "text": [
      "Epoch 54/512: \n",
      "Train Loss = 0.53202, Train MSE = 0.92830, Train MAE = 0.74337, Train Acc = 0.72161\n",
      "Val Loss = 0.55790, Val MSE = 0.99289, Val MAE = 0.77138, Val Acc = 0.69323\n"
     ]
    },
    {
     "name": "stderr",
     "output_type": "stream",
     "text": [
      "Epoch 55/512: 100%|███████████████████████████████████████████████████████████████████████| 63/63 [00:03<00:00, 20.86it/s]\n"
     ]
    },
    {
     "name": "stdout",
     "output_type": "stream",
     "text": [
      "Epoch 55/512: \n",
      "Train Loss = 0.52892, Train MSE = 0.91737, Train MAE = 0.74096, Train Acc = 0.71937\n",
      "Val Loss = 0.53279, Val MSE = 0.93498, Val MAE = 0.74391, Val Acc = 0.72908\n"
     ]
    },
    {
     "name": "stderr",
     "output_type": "stream",
     "text": [
      "Epoch 56/512: 100%|███████████████████████████████████████████████████████████████████████| 63/63 [00:02<00:00, 21.22it/s]\n"
     ]
    },
    {
     "name": "stdout",
     "output_type": "stream",
     "text": [
      "Epoch 56/512: \n",
      "Train Loss = 0.52333, Train MSE = 0.90127, Train MAE = 0.73553, Train Acc = 0.72460\n",
      "Val Loss = 0.53822, Val MSE = 0.96789, Val MAE = 0.74565, Val Acc = 0.71116\n"
     ]
    },
    {
     "name": "stderr",
     "output_type": "stream",
     "text": [
      "Epoch 57/512: 100%|███████████████████████████████████████████████████████████████████████| 63/63 [00:02<00:00, 21.12it/s]\n"
     ]
    },
    {
     "name": "stdout",
     "output_type": "stream",
     "text": [
      "Epoch 57/512: \n",
      "Train Loss = 0.51872, Train MSE = 0.89216, Train MAE = 0.73070, Train Acc = 0.72883\n",
      "Val Loss = 0.54651, Val MSE = 0.98747, Val MAE = 0.75625, Val Acc = 0.71116\n"
     ]
    },
    {
     "name": "stderr",
     "output_type": "stream",
     "text": [
      "Epoch 58/512: 100%|███████████████████████████████████████████████████████████████████████| 63/63 [00:02<00:00, 21.06it/s]\n"
     ]
    },
    {
     "name": "stdout",
     "output_type": "stream",
     "text": [
      "Epoch 58/512: \n",
      "Train Loss = 0.52060, Train MSE = 0.90183, Train MAE = 0.73213, Train Acc = 0.73182\n",
      "Val Loss = 0.52100, Val MSE = 0.91969, Val MAE = 0.72767, Val Acc = 0.71514\n"
     ]
    },
    {
     "name": "stderr",
     "output_type": "stream",
     "text": [
      "Epoch 59/512: 100%|███████████████████████████████████████████████████████████████████████| 63/63 [00:03<00:00, 20.90it/s]\n"
     ]
    },
    {
     "name": "stdout",
     "output_type": "stream",
     "text": [
      "Epoch 59/512: \n",
      "Train Loss = 0.51352, Train MSE = 0.88438, Train MAE = 0.72559, Train Acc = 0.73257\n",
      "Val Loss = 0.52391, Val MSE = 0.92215, Val MAE = 0.73258, Val Acc = 0.71514\n"
     ]
    },
    {
     "name": "stderr",
     "output_type": "stream",
     "text": [
      "Epoch 60/512: 100%|███████████████████████████████████████████████████████████████████████| 63/63 [00:03<00:00, 20.77it/s]\n"
     ]
    },
    {
     "name": "stdout",
     "output_type": "stream",
     "text": [
      "Epoch 60/512: \n",
      "Train Loss = 0.51414, Train MSE = 0.88411, Train MAE = 0.72658, Train Acc = 0.73954\n",
      "Val Loss = 0.58426, Val MSE = 1.08698, Val MAE = 0.79764, Val Acc = 0.69522\n"
     ]
    },
    {
     "name": "stderr",
     "output_type": "stream",
     "text": [
      "Epoch 61/512: 100%|███████████████████████████████████████████████████████████████████████| 63/63 [00:02<00:00, 21.07it/s]\n"
     ]
    },
    {
     "name": "stdout",
     "output_type": "stream",
     "text": [
      "Epoch 61/512: \n",
      "Train Loss = 0.50648, Train MSE = 0.86800, Train MAE = 0.71654, Train Acc = 0.73805\n",
      "Val Loss = 0.52243, Val MSE = 0.92862, Val MAE = 0.72902, Val Acc = 0.72908\n"
     ]
    },
    {
     "name": "stderr",
     "output_type": "stream",
     "text": [
      "Epoch 62/512: 100%|███████████████████████████████████████████████████████████████████████| 63/63 [00:02<00:00, 21.14it/s]\n"
     ]
    },
    {
     "name": "stdout",
     "output_type": "stream",
     "text": [
      "Epoch 62/512: \n",
      "Train Loss = 0.50899, Train MSE = 0.87498, Train MAE = 0.71865, Train Acc = 0.74079\n",
      "Val Loss = 0.52564, Val MSE = 0.93389, Val MAE = 0.73705, Val Acc = 0.72510\n"
     ]
    },
    {
     "name": "stderr",
     "output_type": "stream",
     "text": [
      "Epoch 63/512: 100%|███████████████████████████████████████████████████████████████████████| 63/63 [00:02<00:00, 21.17it/s]\n"
     ]
    },
    {
     "name": "stdout",
     "output_type": "stream",
     "text": [
      "Epoch 63/512: \n",
      "Train Loss = 0.50721, Train MSE = 0.87153, Train MAE = 0.71770, Train Acc = 0.74054\n",
      "Val Loss = 0.53332, Val MSE = 0.96369, Val MAE = 0.74215, Val Acc = 0.72112\n"
     ]
    },
    {
     "name": "stderr",
     "output_type": "stream",
     "text": [
      "Epoch 64/512: 100%|███████████████████████████████████████████████████████████████████████| 63/63 [00:02<00:00, 21.31it/s]\n"
     ]
    },
    {
     "name": "stdout",
     "output_type": "stream",
     "text": [
      "Epoch 64/512: \n",
      "Train Loss = 0.50324, Train MSE = 0.86567, Train MAE = 0.71281, Train Acc = 0.74377\n",
      "Val Loss = 0.52109, Val MSE = 0.93862, Val MAE = 0.72694, Val Acc = 0.72112\n"
     ]
    },
    {
     "name": "stderr",
     "output_type": "stream",
     "text": [
      "Epoch 65/512: 100%|███████████████████████████████████████████████████████████████████████| 63/63 [00:02<00:00, 21.30it/s]\n"
     ]
    },
    {
     "name": "stdout",
     "output_type": "stream",
     "text": [
      "Epoch 65/512: \n",
      "Train Loss = 0.49344, Train MSE = 0.84355, Train MAE = 0.70315, Train Acc = 0.75398\n",
      "Val Loss = 0.53873, Val MSE = 0.97237, Val MAE = 0.75014, Val Acc = 0.73307\n"
     ]
    },
    {
     "name": "stderr",
     "output_type": "stream",
     "text": [
      "Epoch 66/512: 100%|███████████████████████████████████████████████████████████████████████| 63/63 [00:02<00:00, 21.05it/s]\n"
     ]
    },
    {
     "name": "stdout",
     "output_type": "stream",
     "text": [
      "Epoch 66/512: \n",
      "Train Loss = 0.49209, Train MSE = 0.84303, Train MAE = 0.70033, Train Acc = 0.74900\n",
      "Val Loss = 0.54730, Val MSE = 1.00876, Val MAE = 0.75796, Val Acc = 0.71713\n"
     ]
    },
    {
     "name": "stderr",
     "output_type": "stream",
     "text": [
      "Epoch 67/512: 100%|███████████████████████████████████████████████████████████████████████| 63/63 [00:03<00:00, 20.97it/s]\n"
     ]
    },
    {
     "name": "stdout",
     "output_type": "stream",
     "text": [
      "Epoch 67/512: \n",
      "Train Loss = 0.49464, Train MSE = 0.84083, Train MAE = 0.70507, Train Acc = 0.75000\n",
      "Val Loss = 0.50043, Val MSE = 0.87772, Val MAE = 0.70621, Val Acc = 0.72908\n"
     ]
    },
    {
     "name": "stderr",
     "output_type": "stream",
     "text": [
      "Epoch 68/512: 100%|███████████████████████████████████████████████████████████████████████| 63/63 [00:02<00:00, 21.14it/s]\n"
     ]
    },
    {
     "name": "stdout",
     "output_type": "stream",
     "text": [
      "Epoch 68/512: \n",
      "Train Loss = 0.48840, Train MSE = 0.82757, Train MAE = 0.69774, Train Acc = 0.75199\n",
      "Val Loss = 0.50688, Val MSE = 0.88387, Val MAE = 0.71491, Val Acc = 0.72510\n"
     ]
    },
    {
     "name": "stderr",
     "output_type": "stream",
     "text": [
      "Epoch 69/512: 100%|███████████████████████████████████████████████████████████████████████| 63/63 [00:02<00:00, 21.27it/s]\n"
     ]
    },
    {
     "name": "stdout",
     "output_type": "stream",
     "text": [
      "Epoch 69/512: \n",
      "Train Loss = 0.49446, Train MSE = 0.83938, Train MAE = 0.70397, Train Acc = 0.74577\n",
      "Val Loss = 0.51151, Val MSE = 0.89805, Val MAE = 0.71675, Val Acc = 0.72709\n"
     ]
    },
    {
     "name": "stderr",
     "output_type": "stream",
     "text": [
      "Epoch 70/512: 100%|███████████████████████████████████████████████████████████████████████| 63/63 [00:02<00:00, 21.13it/s]\n"
     ]
    },
    {
     "name": "stdout",
     "output_type": "stream",
     "text": [
      "Epoch 70/512: \n",
      "Train Loss = 0.48591, Train MSE = 0.82921, Train MAE = 0.69411, Train Acc = 0.75872\n",
      "Val Loss = 0.49058, Val MSE = 0.85584, Val MAE = 0.69778, Val Acc = 0.75299\n"
     ]
    },
    {
     "name": "stderr",
     "output_type": "stream",
     "text": [
      "Epoch 71/512: 100%|███████████████████████████████████████████████████████████████████████| 63/63 [00:02<00:00, 21.24it/s]\n"
     ]
    },
    {
     "name": "stdout",
     "output_type": "stream",
     "text": [
      "Epoch 71/512: \n",
      "Train Loss = 0.48361, Train MSE = 0.82275, Train MAE = 0.69184, Train Acc = 0.75822\n",
      "Val Loss = 0.49107, Val MSE = 0.85627, Val MAE = 0.69699, Val Acc = 0.74701\n"
     ]
    },
    {
     "name": "stderr",
     "output_type": "stream",
     "text": [
      "Epoch 72/512: 100%|███████████████████████████████████████████████████████████████████████| 63/63 [00:02<00:00, 21.15it/s]\n"
     ]
    },
    {
     "name": "stdout",
     "output_type": "stream",
     "text": [
      "Epoch 72/512: \n",
      "Train Loss = 0.48667, Train MSE = 0.82525, Train MAE = 0.69387, Train Acc = 0.75025\n",
      "Val Loss = 0.51019, Val MSE = 0.88660, Val MAE = 0.71893, Val Acc = 0.74104\n"
     ]
    },
    {
     "name": "stderr",
     "output_type": "stream",
     "text": [
      "Epoch 73/512: 100%|███████████████████████████████████████████████████████████████████████| 63/63 [00:02<00:00, 21.25it/s]\n"
     ]
    },
    {
     "name": "stdout",
     "output_type": "stream",
     "text": [
      "Epoch 73/512: \n",
      "Train Loss = 0.47669, Train MSE = 0.79679, Train MAE = 0.68421, Train Acc = 0.75921\n",
      "Val Loss = 0.51426, Val MSE = 0.91667, Val MAE = 0.72356, Val Acc = 0.74104\n"
     ]
    },
    {
     "name": "stderr",
     "output_type": "stream",
     "text": [
      "Epoch 74/512: 100%|███████████████████████████████████████████████████████████████████████| 63/63 [00:02<00:00, 21.11it/s]\n"
     ]
    },
    {
     "name": "stdout",
     "output_type": "stream",
     "text": [
      "Epoch 74/512: \n",
      "Train Loss = 0.48426, Train MSE = 0.82205, Train MAE = 0.69256, Train Acc = 0.76046\n",
      "Val Loss = 0.53559, Val MSE = 0.95334, Val MAE = 0.74919, Val Acc = 0.74502\n"
     ]
    },
    {
     "name": "stderr",
     "output_type": "stream",
     "text": [
      "Epoch 75/512: 100%|███████████████████████████████████████████████████████████████████████| 63/63 [00:03<00:00, 20.90it/s]\n"
     ]
    },
    {
     "name": "stdout",
     "output_type": "stream",
     "text": [
      "Epoch 75/512: \n",
      "Train Loss = 0.48486, Train MSE = 0.81921, Train MAE = 0.69364, Train Acc = 0.75797\n",
      "Val Loss = 0.50522, Val MSE = 0.88814, Val MAE = 0.71381, Val Acc = 0.73904\n"
     ]
    },
    {
     "name": "stderr",
     "output_type": "stream",
     "text": [
      "Epoch 76/512: 100%|███████████████████████████████████████████████████████████████████████| 63/63 [00:02<00:00, 21.30it/s]\n"
     ]
    },
    {
     "name": "stdout",
     "output_type": "stream",
     "text": [
      "Epoch 76/512: \n",
      "Train Loss = 0.47428, Train MSE = 0.79875, Train MAE = 0.68266, Train Acc = 0.76643\n",
      "Val Loss = 0.50246, Val MSE = 0.88153, Val MAE = 0.70961, Val Acc = 0.73506\n"
     ]
    },
    {
     "name": "stderr",
     "output_type": "stream",
     "text": [
      "Epoch 77/512: 100%|███████████████████████████████████████████████████████████████████████| 63/63 [00:03<00:00, 20.93it/s]\n"
     ]
    },
    {
     "name": "stdout",
     "output_type": "stream",
     "text": [
      "Epoch 77/512: \n",
      "Train Loss = 0.48281, Train MSE = 0.82084, Train MAE = 0.69190, Train Acc = 0.75772\n",
      "Val Loss = 0.50273, Val MSE = 0.88340, Val MAE = 0.71356, Val Acc = 0.74502\n"
     ]
    },
    {
     "name": "stderr",
     "output_type": "stream",
     "text": [
      "Epoch 78/512: 100%|███████████████████████████████████████████████████████████████████████| 63/63 [00:02<00:00, 21.20it/s]\n"
     ]
    },
    {
     "name": "stdout",
     "output_type": "stream",
     "text": [
      "Epoch 78/512: \n",
      "Train Loss = 0.46817, Train MSE = 0.78859, Train MAE = 0.67608, Train Acc = 0.77017\n",
      "Val Loss = 0.50523, Val MSE = 0.88917, Val MAE = 0.71111, Val Acc = 0.74104\n"
     ]
    },
    {
     "name": "stderr",
     "output_type": "stream",
     "text": [
      "Epoch 79/512: 100%|███████████████████████████████████████████████████████████████████████| 63/63 [00:02<00:00, 21.11it/s]\n"
     ]
    },
    {
     "name": "stdout",
     "output_type": "stream",
     "text": [
      "Epoch 79/512: \n",
      "Train Loss = 0.48186, Train MSE = 0.82051, Train MAE = 0.69038, Train Acc = 0.76519\n",
      "Val Loss = 0.49967, Val MSE = 0.88828, Val MAE = 0.71003, Val Acc = 0.75498\n"
     ]
    },
    {
     "name": "stderr",
     "output_type": "stream",
     "text": [
      "Epoch 80/512: 100%|███████████████████████████████████████████████████████████████████████| 63/63 [00:03<00:00, 20.89it/s]\n"
     ]
    },
    {
     "name": "stdout",
     "output_type": "stream",
     "text": [
      "Epoch 80/512: \n",
      "Train Loss = 0.48105, Train MSE = 0.81796, Train MAE = 0.68892, Train Acc = 0.75996\n",
      "Val Loss = 0.48587, Val MSE = 0.82457, Val MAE = 0.68989, Val Acc = 0.74303\n"
     ]
    },
    {
     "name": "stderr",
     "output_type": "stream",
     "text": [
      "Epoch 81/512: 100%|███████████████████████████████████████████████████████████████████████| 63/63 [00:02<00:00, 21.16it/s]\n"
     ]
    },
    {
     "name": "stdout",
     "output_type": "stream",
     "text": [
      "Epoch 81/512: \n",
      "Train Loss = 0.46941, Train MSE = 0.78565, Train MAE = 0.67653, Train Acc = 0.76718\n",
      "Val Loss = 0.51790, Val MSE = 0.91930, Val MAE = 0.73094, Val Acc = 0.73506\n"
     ]
    },
    {
     "name": "stderr",
     "output_type": "stream",
     "text": [
      "Epoch 82/512: 100%|███████████████████████████████████████████████████████████████████████| 63/63 [00:03<00:00, 20.90it/s]\n"
     ]
    },
    {
     "name": "stdout",
     "output_type": "stream",
     "text": [
      "Epoch 82/512: \n",
      "Train Loss = 0.47065, Train MSE = 0.79231, Train MAE = 0.67865, Train Acc = 0.76793\n",
      "Val Loss = 0.47771, Val MSE = 0.82268, Val MAE = 0.68360, Val Acc = 0.76096\n"
     ]
    },
    {
     "name": "stderr",
     "output_type": "stream",
     "text": [
      "Epoch 83/512: 100%|███████████████████████████████████████████████████████████████████████| 63/63 [00:02<00:00, 21.19it/s]\n"
     ]
    },
    {
     "name": "stdout",
     "output_type": "stream",
     "text": [
      "Epoch 83/512: \n",
      "Train Loss = 0.46852, Train MSE = 0.78138, Train MAE = 0.67614, Train Acc = 0.77017\n",
      "Val Loss = 0.47120, Val MSE = 0.79910, Val MAE = 0.67749, Val Acc = 0.76096\n"
     ]
    },
    {
     "name": "stderr",
     "output_type": "stream",
     "text": [
      "Epoch 84/512: 100%|███████████████████████████████████████████████████████████████████████| 63/63 [00:02<00:00, 21.31it/s]\n"
     ]
    },
    {
     "name": "stdout",
     "output_type": "stream",
     "text": [
      "Epoch 84/512: \n",
      "Train Loss = 0.46024, Train MSE = 0.76532, Train MAE = 0.66646, Train Acc = 0.77415\n",
      "Val Loss = 0.47542, Val MSE = 0.81172, Val MAE = 0.67748, Val Acc = 0.75498\n"
     ]
    },
    {
     "name": "stderr",
     "output_type": "stream",
     "text": [
      "Epoch 85/512: 100%|███████████████████████████████████████████████████████████████████████| 63/63 [00:02<00:00, 21.27it/s]\n"
     ]
    },
    {
     "name": "stdout",
     "output_type": "stream",
     "text": [
      "Epoch 85/512: \n",
      "Train Loss = 0.46520, Train MSE = 0.76971, Train MAE = 0.67317, Train Acc = 0.77042\n",
      "Val Loss = 0.47396, Val MSE = 0.81618, Val MAE = 0.67927, Val Acc = 0.77092\n"
     ]
    },
    {
     "name": "stderr",
     "output_type": "stream",
     "text": [
      "Epoch 86/512: 100%|███████████████████████████████████████████████████████████████████████| 63/63 [00:02<00:00, 21.23it/s]\n"
     ]
    },
    {
     "name": "stdout",
     "output_type": "stream",
     "text": [
      "Epoch 86/512: \n",
      "Train Loss = 0.46565, Train MSE = 0.77756, Train MAE = 0.67252, Train Acc = 0.77366\n",
      "Val Loss = 0.50917, Val MSE = 0.89418, Val MAE = 0.71743, Val Acc = 0.73904\n"
     ]
    },
    {
     "name": "stderr",
     "output_type": "stream",
     "text": [
      "Epoch 87/512: 100%|███████████████████████████████████████████████████████████████████████| 63/63 [00:02<00:00, 21.27it/s]\n"
     ]
    },
    {
     "name": "stdout",
     "output_type": "stream",
     "text": [
      "Epoch 87/512: \n",
      "Train Loss = 0.46874, Train MSE = 0.78915, Train MAE = 0.67536, Train Acc = 0.76768\n",
      "Val Loss = 0.47923, Val MSE = 0.83330, Val MAE = 0.68185, Val Acc = 0.75896\n"
     ]
    },
    {
     "name": "stderr",
     "output_type": "stream",
     "text": [
      "Epoch 88/512: 100%|███████████████████████████████████████████████████████████████████████| 63/63 [00:03<00:00, 20.60it/s]\n"
     ]
    },
    {
     "name": "stdout",
     "output_type": "stream",
     "text": [
      "Epoch 88/512: \n",
      "Train Loss = 0.45596, Train MSE = 0.76062, Train MAE = 0.66017, Train Acc = 0.77291\n",
      "Val Loss = 0.48164, Val MSE = 0.83075, Val MAE = 0.68670, Val Acc = 0.76096\n"
     ]
    },
    {
     "name": "stderr",
     "output_type": "stream",
     "text": [
      "Epoch 89/512: 100%|███████████████████████████████████████████████████████████████████████| 63/63 [00:02<00:00, 21.04it/s]\n"
     ]
    },
    {
     "name": "stdout",
     "output_type": "stream",
     "text": [
      "Epoch 89/512: \n",
      "Train Loss = 0.46119, Train MSE = 0.76476, Train MAE = 0.66866, Train Acc = 0.77565\n",
      "Val Loss = 0.48502, Val MSE = 0.82068, Val MAE = 0.69040, Val Acc = 0.73705\n"
     ]
    },
    {
     "name": "stderr",
     "output_type": "stream",
     "text": [
      "Epoch 90/512: 100%|███████████████████████████████████████████████████████████████████████| 63/63 [00:02<00:00, 21.07it/s]\n"
     ]
    },
    {
     "name": "stdout",
     "output_type": "stream",
     "text": [
      "Epoch 90/512: \n",
      "Train Loss = 0.45366, Train MSE = 0.76074, Train MAE = 0.66014, Train Acc = 0.77988\n",
      "Val Loss = 0.50359, Val MSE = 0.87409, Val MAE = 0.71179, Val Acc = 0.74303\n"
     ]
    },
    {
     "name": "stderr",
     "output_type": "stream",
     "text": [
      "Epoch 91/512: 100%|███████████████████████████████████████████████████████████████████████| 63/63 [00:02<00:00, 21.15it/s]\n"
     ]
    },
    {
     "name": "stdout",
     "output_type": "stream",
     "text": [
      "Epoch 91/512: \n",
      "Train Loss = 0.46428, Train MSE = 0.77518, Train MAE = 0.67175, Train Acc = 0.77291\n",
      "Val Loss = 0.49237, Val MSE = 0.86334, Val MAE = 0.69889, Val Acc = 0.75498\n"
     ]
    },
    {
     "name": "stderr",
     "output_type": "stream",
     "text": [
      "Epoch 92/512: 100%|███████████████████████████████████████████████████████████████████████| 63/63 [00:03<00:00, 20.43it/s]\n"
     ]
    },
    {
     "name": "stdout",
     "output_type": "stream",
     "text": [
      "Epoch 92/512: \n",
      "Train Loss = 0.45728, Train MSE = 0.75883, Train MAE = 0.66471, Train Acc = 0.77888\n",
      "Val Loss = 0.49782, Val MSE = 0.86377, Val MAE = 0.70336, Val Acc = 0.75100\n"
     ]
    },
    {
     "name": "stderr",
     "output_type": "stream",
     "text": [
      "Epoch 93/512: 100%|███████████████████████████████████████████████████████████████████████| 63/63 [00:02<00:00, 21.27it/s]\n"
     ]
    },
    {
     "name": "stdout",
     "output_type": "stream",
     "text": [
      "Epoch 93/512: \n",
      "Train Loss = 0.45264, Train MSE = 0.74866, Train MAE = 0.65775, Train Acc = 0.77590\n",
      "Val Loss = 0.46606, Val MSE = 0.80071, Val MAE = 0.67198, Val Acc = 0.76096\n"
     ]
    },
    {
     "name": "stderr",
     "output_type": "stream",
     "text": [
      "Epoch 94/512: 100%|███████████████████████████████████████████████████████████████████████| 63/63 [00:02<00:00, 21.12it/s]\n"
     ]
    },
    {
     "name": "stdout",
     "output_type": "stream",
     "text": [
      "Epoch 94/512: \n",
      "Train Loss = 0.45566, Train MSE = 0.75394, Train MAE = 0.66193, Train Acc = 0.77415\n",
      "Val Loss = 0.49978, Val MSE = 0.88000, Val MAE = 0.70581, Val Acc = 0.73108\n"
     ]
    },
    {
     "name": "stderr",
     "output_type": "stream",
     "text": [
      "Epoch 95/512: 100%|███████████████████████████████████████████████████████████████████████| 63/63 [00:03<00:00, 20.95it/s]\n"
     ]
    },
    {
     "name": "stdout",
     "output_type": "stream",
     "text": [
      "Epoch 95/512: \n",
      "Train Loss = 0.45935, Train MSE = 0.76088, Train MAE = 0.66664, Train Acc = 0.77316\n",
      "Val Loss = 0.49029, Val MSE = 0.85125, Val MAE = 0.69833, Val Acc = 0.74701\n"
     ]
    },
    {
     "name": "stderr",
     "output_type": "stream",
     "text": [
      "Epoch 96/512: 100%|███████████████████████████████████████████████████████████████████████| 63/63 [00:03<00:00, 20.93it/s]\n"
     ]
    },
    {
     "name": "stdout",
     "output_type": "stream",
     "text": [
      "Epoch 96/512: \n",
      "Train Loss = 0.45596, Train MSE = 0.75710, Train MAE = 0.66318, Train Acc = 0.77764\n",
      "Val Loss = 0.47124, Val MSE = 0.81895, Val MAE = 0.67562, Val Acc = 0.75697\n"
     ]
    },
    {
     "name": "stderr",
     "output_type": "stream",
     "text": [
      "Epoch 97/512: 100%|███████████████████████████████████████████████████████████████████████| 63/63 [00:02<00:00, 21.11it/s]\n"
     ]
    },
    {
     "name": "stdout",
     "output_type": "stream",
     "text": [
      "Epoch 97/512: \n",
      "Train Loss = 0.45444, Train MSE = 0.75090, Train MAE = 0.66144, Train Acc = 0.77789\n",
      "Val Loss = 0.47052, Val MSE = 0.81751, Val MAE = 0.67287, Val Acc = 0.76892\n"
     ]
    },
    {
     "name": "stderr",
     "output_type": "stream",
     "text": [
      "Epoch 98/512: 100%|███████████████████████████████████████████████████████████████████████| 63/63 [00:02<00:00, 21.30it/s]\n"
     ]
    },
    {
     "name": "stdout",
     "output_type": "stream",
     "text": [
      "Epoch 98/512: \n",
      "Train Loss = 0.44266, Train MSE = 0.72836, Train MAE = 0.64803, Train Acc = 0.78909\n",
      "Val Loss = 0.47598, Val MSE = 0.82342, Val MAE = 0.68477, Val Acc = 0.77689\n"
     ]
    },
    {
     "name": "stderr",
     "output_type": "stream",
     "text": [
      "Epoch 99/512: 100%|███████████████████████████████████████████████████████████████████████| 63/63 [00:02<00:00, 21.11it/s]\n"
     ]
    },
    {
     "name": "stdout",
     "output_type": "stream",
     "text": [
      "Epoch 99/512: \n",
      "Train Loss = 0.44445, Train MSE = 0.72627, Train MAE = 0.65058, Train Acc = 0.78586\n",
      "Val Loss = 0.47339, Val MSE = 0.81115, Val MAE = 0.67829, Val Acc = 0.76295\n"
     ]
    },
    {
     "name": "stderr",
     "output_type": "stream",
     "text": [
      "Epoch 100/512: 100%|██████████████████████████████████████████████████████████████████████| 63/63 [00:02<00:00, 21.29it/s]\n"
     ]
    },
    {
     "name": "stdout",
     "output_type": "stream",
     "text": [
      "Epoch 100/512: \n",
      "Train Loss = 0.44522, Train MSE = 0.73962, Train MAE = 0.65163, Train Acc = 0.78088\n",
      "Val Loss = 0.51357, Val MSE = 0.88090, Val MAE = 0.72270, Val Acc = 0.74104\n"
     ]
    },
    {
     "name": "stderr",
     "output_type": "stream",
     "text": [
      "Epoch 101/512: 100%|██████████████████████████████████████████████████████████████████████| 63/63 [00:03<00:00, 20.94it/s]\n"
     ]
    },
    {
     "name": "stdout",
     "output_type": "stream",
     "text": [
      "Epoch 101/512: \n",
      "Train Loss = 0.44214, Train MSE = 0.72586, Train MAE = 0.64633, Train Acc = 0.79333\n",
      "Val Loss = 0.46507, Val MSE = 0.80417, Val MAE = 0.67057, Val Acc = 0.77490\n"
     ]
    },
    {
     "name": "stderr",
     "output_type": "stream",
     "text": [
      "Epoch 102/512: 100%|██████████████████████████████████████████████████████████████████████| 63/63 [00:03<00:00, 20.90it/s]\n"
     ]
    },
    {
     "name": "stdout",
     "output_type": "stream",
     "text": [
      "Epoch 102/512: \n",
      "Train Loss = 0.43424, Train MSE = 0.70940, Train MAE = 0.63875, Train Acc = 0.79059\n",
      "Val Loss = 0.48016, Val MSE = 0.84898, Val MAE = 0.68592, Val Acc = 0.75299\n"
     ]
    },
    {
     "name": "stderr",
     "output_type": "stream",
     "text": [
      "Epoch 103/512: 100%|██████████████████████████████████████████████████████████████████████| 63/63 [00:03<00:00, 20.61it/s]\n"
     ]
    },
    {
     "name": "stdout",
     "output_type": "stream",
     "text": [
      "Epoch 103/512: \n",
      "Train Loss = 0.43756, Train MSE = 0.72303, Train MAE = 0.64051, Train Acc = 0.78984\n",
      "Val Loss = 0.47353, Val MSE = 0.80967, Val MAE = 0.68127, Val Acc = 0.76693\n"
     ]
    },
    {
     "name": "stderr",
     "output_type": "stream",
     "text": [
      "Epoch 104/512: 100%|██████████████████████████████████████████████████████████████████████| 63/63 [00:03<00:00, 20.89it/s]\n"
     ]
    },
    {
     "name": "stdout",
     "output_type": "stream",
     "text": [
      "Epoch 104/512: \n",
      "Train Loss = 0.43394, Train MSE = 0.70833, Train MAE = 0.63730, Train Acc = 0.79582\n",
      "Val Loss = 0.46765, Val MSE = 0.80511, Val MAE = 0.67706, Val Acc = 0.78088\n"
     ]
    },
    {
     "name": "stderr",
     "output_type": "stream",
     "text": [
      "Epoch 105/512: 100%|██████████████████████████████████████████████████████████████████████| 63/63 [00:02<00:00, 21.21it/s]\n"
     ]
    },
    {
     "name": "stdout",
     "output_type": "stream",
     "text": [
      "Epoch 105/512: \n",
      "Train Loss = 0.43696, Train MSE = 0.72294, Train MAE = 0.64117, Train Acc = 0.79432\n",
      "Val Loss = 0.46925, Val MSE = 0.80173, Val MAE = 0.68047, Val Acc = 0.79283\n"
     ]
    },
    {
     "name": "stderr",
     "output_type": "stream",
     "text": [
      "Epoch 106/512: 100%|██████████████████████████████████████████████████████████████████████| 63/63 [00:02<00:00, 21.07it/s]\n"
     ]
    },
    {
     "name": "stdout",
     "output_type": "stream",
     "text": [
      "Epoch 106/512: \n",
      "Train Loss = 0.43553, Train MSE = 0.71776, Train MAE = 0.64028, Train Acc = 0.79407\n",
      "Val Loss = 0.47689, Val MSE = 0.81461, Val MAE = 0.68541, Val Acc = 0.76693\n"
     ]
    },
    {
     "name": "stderr",
     "output_type": "stream",
     "text": [
      "Epoch 107/512: 100%|██████████████████████████████████████████████████████████████████████| 63/63 [00:02<00:00, 21.11it/s]\n"
     ]
    },
    {
     "name": "stdout",
     "output_type": "stream",
     "text": [
      "Epoch 107/512: \n",
      "Train Loss = 0.42814, Train MSE = 0.70027, Train MAE = 0.63245, Train Acc = 0.79233\n",
      "Val Loss = 0.48916, Val MSE = 0.85191, Val MAE = 0.69903, Val Acc = 0.74900\n"
     ]
    },
    {
     "name": "stderr",
     "output_type": "stream",
     "text": [
      "Epoch 108/512: 100%|██████████████████████████████████████████████████████████████████████| 63/63 [00:02<00:00, 21.36it/s]\n"
     ]
    },
    {
     "name": "stdout",
     "output_type": "stream",
     "text": [
      "Epoch 108/512: \n",
      "Train Loss = 0.43815, Train MSE = 0.71530, Train MAE = 0.64329, Train Acc = 0.78362\n",
      "Val Loss = 0.45975, Val MSE = 0.78338, Val MAE = 0.66320, Val Acc = 0.77689\n"
     ]
    },
    {
     "name": "stderr",
     "output_type": "stream",
     "text": [
      "Epoch 109/512: 100%|██████████████████████████████████████████████████████████████████████| 63/63 [00:02<00:00, 21.06it/s]\n"
     ]
    },
    {
     "name": "stdout",
     "output_type": "stream",
     "text": [
      "Epoch 109/512: \n",
      "Train Loss = 0.43282, Train MSE = 0.71017, Train MAE = 0.63644, Train Acc = 0.79258\n",
      "Val Loss = 0.45811, Val MSE = 0.78444, Val MAE = 0.66392, Val Acc = 0.77888\n"
     ]
    },
    {
     "name": "stderr",
     "output_type": "stream",
     "text": [
      "Epoch 110/512: 100%|██████████████████████████████████████████████████████████████████████| 63/63 [00:03<00:00, 20.96it/s]\n"
     ]
    },
    {
     "name": "stdout",
     "output_type": "stream",
     "text": [
      "Epoch 110/512: \n",
      "Train Loss = 0.43746, Train MSE = 0.72229, Train MAE = 0.64182, Train Acc = 0.78884\n",
      "Val Loss = 0.48956, Val MSE = 0.85780, Val MAE = 0.69442, Val Acc = 0.73904\n"
     ]
    },
    {
     "name": "stderr",
     "output_type": "stream",
     "text": [
      "Epoch 111/512: 100%|██████████████████████████████████████████████████████████████████████| 63/63 [00:02<00:00, 21.04it/s]\n"
     ]
    },
    {
     "name": "stdout",
     "output_type": "stream",
     "text": [
      "Epoch 111/512: \n",
      "Train Loss = 0.43677, Train MSE = 0.71927, Train MAE = 0.64055, Train Acc = 0.78860\n",
      "Val Loss = 0.47687, Val MSE = 0.84407, Val MAE = 0.68404, Val Acc = 0.75299\n"
     ]
    },
    {
     "name": "stderr",
     "output_type": "stream",
     "text": [
      "Epoch 112/512: 100%|██████████████████████████████████████████████████████████████████████| 63/63 [00:02<00:00, 21.01it/s]\n"
     ]
    },
    {
     "name": "stdout",
     "output_type": "stream",
     "text": [
      "Epoch 112/512: \n",
      "Train Loss = 0.43570, Train MSE = 0.70945, Train MAE = 0.64073, Train Acc = 0.78959\n",
      "Val Loss = 0.46839, Val MSE = 0.80744, Val MAE = 0.67298, Val Acc = 0.76494\n"
     ]
    },
    {
     "name": "stderr",
     "output_type": "stream",
     "text": [
      "Epoch 113/512: 100%|██████████████████████████████████████████████████████████████████████| 63/63 [00:02<00:00, 21.01it/s]\n"
     ]
    },
    {
     "name": "stdout",
     "output_type": "stream",
     "text": [
      "Epoch 113/512: \n",
      "Train Loss = 0.43147, Train MSE = 0.70603, Train MAE = 0.63587, Train Acc = 0.79283\n",
      "Val Loss = 0.46137, Val MSE = 0.77793, Val MAE = 0.66559, Val Acc = 0.77092\n"
     ]
    },
    {
     "name": "stderr",
     "output_type": "stream",
     "text": [
      "Epoch 114/512: 100%|██████████████████████████████████████████████████████████████████████| 63/63 [00:02<00:00, 21.04it/s]\n"
     ]
    },
    {
     "name": "stdout",
     "output_type": "stream",
     "text": [
      "Epoch 114/512: \n",
      "Train Loss = 0.43110, Train MSE = 0.71141, Train MAE = 0.63510, Train Acc = 0.79607\n",
      "Val Loss = 0.44241, Val MSE = 0.74919, Val MAE = 0.64742, Val Acc = 0.77490\n"
     ]
    },
    {
     "name": "stderr",
     "output_type": "stream",
     "text": [
      "Epoch 115/512: 100%|██████████████████████████████████████████████████████████████████████| 63/63 [00:02<00:00, 21.02it/s]\n"
     ]
    },
    {
     "name": "stdout",
     "output_type": "stream",
     "text": [
      "Epoch 115/512: \n",
      "Train Loss = 0.42050, Train MSE = 0.68243, Train MAE = 0.62386, Train Acc = 0.79507\n",
      "Val Loss = 0.46759, Val MSE = 0.79792, Val MAE = 0.67502, Val Acc = 0.77291\n"
     ]
    },
    {
     "name": "stderr",
     "output_type": "stream",
     "text": [
      "Epoch 116/512: 100%|██████████████████████████████████████████████████████████████████████| 63/63 [00:02<00:00, 21.23it/s]\n"
     ]
    },
    {
     "name": "stdout",
     "output_type": "stream",
     "text": [
      "Epoch 116/512: \n",
      "Train Loss = 0.42877, Train MSE = 0.70463, Train MAE = 0.63208, Train Acc = 0.79532\n",
      "Val Loss = 0.46683, Val MSE = 0.79685, Val MAE = 0.67049, Val Acc = 0.77689\n"
     ]
    },
    {
     "name": "stderr",
     "output_type": "stream",
     "text": [
      "Epoch 117/512: 100%|██████████████████████████████████████████████████████████████████████| 63/63 [00:02<00:00, 21.02it/s]\n"
     ]
    },
    {
     "name": "stdout",
     "output_type": "stream",
     "text": [
      "Epoch 117/512: \n",
      "Train Loss = 0.42493, Train MSE = 0.69494, Train MAE = 0.62804, Train Acc = 0.80403\n",
      "Val Loss = 0.47863, Val MSE = 0.82697, Val MAE = 0.68740, Val Acc = 0.76693\n"
     ]
    },
    {
     "name": "stderr",
     "output_type": "stream",
     "text": [
      "Epoch 118/512: 100%|██████████████████████████████████████████████████████████████████████| 63/63 [00:02<00:00, 21.22it/s]\n"
     ]
    },
    {
     "name": "stdout",
     "output_type": "stream",
     "text": [
      "Epoch 118/512: \n",
      "Train Loss = 0.42486, Train MSE = 0.69507, Train MAE = 0.62689, Train Acc = 0.80005\n",
      "Val Loss = 0.45869, Val MSE = 0.78512, Val MAE = 0.66615, Val Acc = 0.78287\n"
     ]
    },
    {
     "name": "stderr",
     "output_type": "stream",
     "text": [
      "Epoch 119/512: 100%|██████████████████████████████████████████████████████████████████████| 63/63 [00:02<00:00, 21.05it/s]\n"
     ]
    },
    {
     "name": "stdout",
     "output_type": "stream",
     "text": [
      "Epoch 119/512: \n",
      "Train Loss = 0.42788, Train MSE = 0.69599, Train MAE = 0.63088, Train Acc = 0.79582\n",
      "Val Loss = 0.46268, Val MSE = 0.78950, Val MAE = 0.66526, Val Acc = 0.78287\n"
     ]
    },
    {
     "name": "stderr",
     "output_type": "stream",
     "text": [
      "Epoch 120/512: 100%|██████████████████████████████████████████████████████████████████████| 63/63 [00:02<00:00, 21.24it/s]\n"
     ]
    },
    {
     "name": "stdout",
     "output_type": "stream",
     "text": [
      "Epoch 120/512: \n",
      "Train Loss = 0.41902, Train MSE = 0.68162, Train MAE = 0.62178, Train Acc = 0.80179\n",
      "Val Loss = 0.45923, Val MSE = 0.78739, Val MAE = 0.66709, Val Acc = 0.78884\n"
     ]
    },
    {
     "name": "stderr",
     "output_type": "stream",
     "text": [
      "Epoch 121/512: 100%|██████████████████████████████████████████████████████████████████████| 63/63 [00:02<00:00, 21.26it/s]\n"
     ]
    },
    {
     "name": "stdout",
     "output_type": "stream",
     "text": [
      "Epoch 121/512: \n",
      "Train Loss = 0.41847, Train MSE = 0.68103, Train MAE = 0.62046, Train Acc = 0.80005\n",
      "Val Loss = 0.47228, Val MSE = 0.81859, Val MAE = 0.67781, Val Acc = 0.77092\n"
     ]
    },
    {
     "name": "stderr",
     "output_type": "stream",
     "text": [
      "Epoch 122/512: 100%|██████████████████████████████████████████████████████████████████████| 63/63 [00:03<00:00, 20.91it/s]\n"
     ]
    },
    {
     "name": "stdout",
     "output_type": "stream",
     "text": [
      "Epoch 122/512: \n",
      "Train Loss = 0.42222, Train MSE = 0.68500, Train MAE = 0.62571, Train Acc = 0.80179\n",
      "Val Loss = 0.46350, Val MSE = 0.78603, Val MAE = 0.66999, Val Acc = 0.77888\n"
     ]
    },
    {
     "name": "stderr",
     "output_type": "stream",
     "text": [
      "Epoch 123/512: 100%|██████████████████████████████████████████████████████████████████████| 63/63 [00:03<00:00, 20.90it/s]\n"
     ]
    },
    {
     "name": "stdout",
     "output_type": "stream",
     "text": [
      "Epoch 123/512: \n",
      "Train Loss = 0.41756, Train MSE = 0.67819, Train MAE = 0.62119, Train Acc = 0.80603\n",
      "Val Loss = 0.46448, Val MSE = 0.79220, Val MAE = 0.66931, Val Acc = 0.76494\n"
     ]
    },
    {
     "name": "stderr",
     "output_type": "stream",
     "text": [
      "Epoch 124/512: 100%|██████████████████████████████████████████████████████████████████████| 63/63 [00:03<00:00, 20.85it/s]\n"
     ]
    },
    {
     "name": "stdout",
     "output_type": "stream",
     "text": [
      "Epoch 124/512: \n",
      "Train Loss = 0.43177, Train MSE = 0.70812, Train MAE = 0.63539, Train Acc = 0.79358\n",
      "Val Loss = 0.45597, Val MSE = 0.78396, Val MAE = 0.65985, Val Acc = 0.77888\n"
     ]
    },
    {
     "name": "stderr",
     "output_type": "stream",
     "text": [
      "Epoch 125/512: 100%|██████████████████████████████████████████████████████████████████████| 63/63 [00:02<00:00, 21.29it/s]\n"
     ]
    },
    {
     "name": "stdout",
     "output_type": "stream",
     "text": [
      "Epoch 125/512: \n",
      "Train Loss = 0.41949, Train MSE = 0.68503, Train MAE = 0.62140, Train Acc = 0.79930\n",
      "Val Loss = 0.44672, Val MSE = 0.75177, Val MAE = 0.65299, Val Acc = 0.78884\n"
     ]
    },
    {
     "name": "stderr",
     "output_type": "stream",
     "text": [
      "Epoch 126/512: 100%|██████████████████████████████████████████████████████████████████████| 63/63 [00:02<00:00, 21.07it/s]\n"
     ]
    },
    {
     "name": "stdout",
     "output_type": "stream",
     "text": [
      "Epoch 126/512: \n",
      "Train Loss = 0.42052, Train MSE = 0.68160, Train MAE = 0.62398, Train Acc = 0.80204\n",
      "Val Loss = 0.45308, Val MSE = 0.77157, Val MAE = 0.65888, Val Acc = 0.78685\n"
     ]
    },
    {
     "name": "stderr",
     "output_type": "stream",
     "text": [
      "Epoch 127/512: 100%|██████████████████████████████████████████████████████████████████████| 63/63 [00:03<00:00, 20.74it/s]\n"
     ]
    },
    {
     "name": "stdout",
     "output_type": "stream",
     "text": [
      "Epoch 127/512: \n",
      "Train Loss = 0.41680, Train MSE = 0.67048, Train MAE = 0.61945, Train Acc = 0.80553\n",
      "Val Loss = 0.46461, Val MSE = 0.79087, Val MAE = 0.67018, Val Acc = 0.77092\n"
     ]
    },
    {
     "name": "stderr",
     "output_type": "stream",
     "text": [
      "Epoch 128/512: 100%|██████████████████████████████████████████████████████████████████████| 63/63 [00:02<00:00, 21.29it/s]\n"
     ]
    },
    {
     "name": "stdout",
     "output_type": "stream",
     "text": [
      "Epoch 128/512: \n",
      "Train Loss = 0.42141, Train MSE = 0.67989, Train MAE = 0.62575, Train Acc = 0.79980\n",
      "Val Loss = 0.46284, Val MSE = 0.81184, Val MAE = 0.66615, Val Acc = 0.78685\n"
     ]
    },
    {
     "name": "stderr",
     "output_type": "stream",
     "text": [
      "Epoch 129/512: 100%|██████████████████████████████████████████████████████████████████████| 63/63 [00:02<00:00, 21.13it/s]\n"
     ]
    },
    {
     "name": "stdout",
     "output_type": "stream",
     "text": [
      "Epoch 129/512: \n",
      "Train Loss = 0.41211, Train MSE = 0.66606, Train MAE = 0.61530, Train Acc = 0.81150\n",
      "Val Loss = 0.45486, Val MSE = 0.77258, Val MAE = 0.65976, Val Acc = 0.78088\n"
     ]
    },
    {
     "name": "stderr",
     "output_type": "stream",
     "text": [
      "Epoch 130/512: 100%|██████████████████████████████████████████████████████████████████████| 63/63 [00:02<00:00, 21.02it/s]\n"
     ]
    },
    {
     "name": "stdout",
     "output_type": "stream",
     "text": [
      "Epoch 130/512: \n",
      "Train Loss = 0.42048, Train MSE = 0.68499, Train MAE = 0.62300, Train Acc = 0.79432\n",
      "Val Loss = 0.46231, Val MSE = 0.80146, Val MAE = 0.66545, Val Acc = 0.77291\n"
     ]
    },
    {
     "name": "stderr",
     "output_type": "stream",
     "text": [
      "Epoch 131/512: 100%|██████████████████████████████████████████████████████████████████████| 63/63 [00:03<00:00, 20.55it/s]\n"
     ]
    },
    {
     "name": "stdout",
     "output_type": "stream",
     "text": [
      "Epoch 131/512: \n",
      "Train Loss = 0.42302, Train MSE = 0.68540, Train MAE = 0.62699, Train Acc = 0.80080\n",
      "Val Loss = 0.46452, Val MSE = 0.79658, Val MAE = 0.66981, Val Acc = 0.76892\n"
     ]
    },
    {
     "name": "stderr",
     "output_type": "stream",
     "text": [
      "Epoch 132/512: 100%|██████████████████████████████████████████████████████████████████████| 63/63 [00:02<00:00, 21.22it/s]\n"
     ]
    },
    {
     "name": "stdout",
     "output_type": "stream",
     "text": [
      "Epoch 132/512: \n",
      "Train Loss = 0.41237, Train MSE = 0.65759, Train MAE = 0.61530, Train Acc = 0.80528\n",
      "Val Loss = 0.45962, Val MSE = 0.78300, Val MAE = 0.66441, Val Acc = 0.77291\n"
     ]
    },
    {
     "name": "stderr",
     "output_type": "stream",
     "text": [
      "Epoch 133/512: 100%|██████████████████████████████████████████████████████████████████████| 63/63 [00:02<00:00, 21.17it/s]\n"
     ]
    },
    {
     "name": "stdout",
     "output_type": "stream",
     "text": [
      "Epoch 133/512: \n",
      "Train Loss = 0.41093, Train MSE = 0.66592, Train MAE = 0.61266, Train Acc = 0.80702\n",
      "Val Loss = 0.45193, Val MSE = 0.75525, Val MAE = 0.65825, Val Acc = 0.78685\n"
     ]
    },
    {
     "name": "stderr",
     "output_type": "stream",
     "text": [
      "Epoch 134/512: 100%|██████████████████████████████████████████████████████████████████████| 63/63 [00:02<00:00, 21.12it/s]\n"
     ]
    },
    {
     "name": "stdout",
     "output_type": "stream",
     "text": [
      "Epoch 134/512: \n",
      "Train Loss = 0.41057, Train MSE = 0.66525, Train MAE = 0.61257, Train Acc = 0.80976\n",
      "Val Loss = 0.47506, Val MSE = 0.81210, Val MAE = 0.68303, Val Acc = 0.75697\n"
     ]
    },
    {
     "name": "stderr",
     "output_type": "stream",
     "text": [
      "Epoch 135/512: 100%|██████████████████████████████████████████████████████████████████████| 63/63 [00:02<00:00, 21.03it/s]\n"
     ]
    },
    {
     "name": "stdout",
     "output_type": "stream",
     "text": [
      "Epoch 135/512: \n",
      "Train Loss = 0.40890, Train MSE = 0.65931, Train MAE = 0.61074, Train Acc = 0.81051\n",
      "Val Loss = 0.45309, Val MSE = 0.76815, Val MAE = 0.65532, Val Acc = 0.78287\n"
     ]
    },
    {
     "name": "stderr",
     "output_type": "stream",
     "text": [
      "Epoch 136/512: 100%|██████████████████████████████████████████████████████████████████████| 63/63 [00:03<00:00, 20.38it/s]\n"
     ]
    },
    {
     "name": "stdout",
     "output_type": "stream",
     "text": [
      "Epoch 136/512: \n",
      "Train Loss = 0.41010, Train MSE = 0.66201, Train MAE = 0.61170, Train Acc = 0.80578\n",
      "Val Loss = 0.45498, Val MSE = 0.78111, Val MAE = 0.65757, Val Acc = 0.76892\n"
     ]
    },
    {
     "name": "stderr",
     "output_type": "stream",
     "text": [
      "Epoch 137/512: 100%|██████████████████████████████████████████████████████████████████████| 63/63 [00:02<00:00, 21.20it/s]\n"
     ]
    },
    {
     "name": "stdout",
     "output_type": "stream",
     "text": [
      "Epoch 137/512: \n",
      "Train Loss = 0.40570, Train MSE = 0.65368, Train MAE = 0.60690, Train Acc = 0.81474\n",
      "Val Loss = 0.44197, Val MSE = 0.74634, Val MAE = 0.64622, Val Acc = 0.78884\n"
     ]
    },
    {
     "name": "stderr",
     "output_type": "stream",
     "text": [
      "Epoch 138/512:  90%|███████████████████████████████████████████████████████████████▎      | 57/63 [00:02<00:00, 21.29it/s]"
     ]
    }
   ],
   "source": [
    "import argparse\n",
    "\n",
    "training_args = argparse.Namespace(**args)\n",
    "train_model(training_args, device)"
   ]
  },
  {
   "cell_type": "code",
   "execution_count": null,
   "metadata": {},
   "outputs": [],
   "source": []
  }
 ],
 "metadata": {
  "kernelspec": {
   "display_name": "Python (myenv)",
   "language": "python",
   "name": "myenv"
  },
  "language_info": {
   "codemirror_mode": {
    "name": "ipython",
    "version": 3
   },
   "file_extension": ".py",
   "mimetype": "text/x-python",
   "name": "python",
   "nbconvert_exporter": "python",
   "pygments_lexer": "ipython3",
   "version": "3.12.7"
  }
 },
 "nbformat": 4,
 "nbformat_minor": 4
}
