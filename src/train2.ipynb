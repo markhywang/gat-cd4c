{
 "cells": [
  {
   "cell_type": "code",
   "execution_count": 1,
   "metadata": {},
   "outputs": [],
   "source": [
    "# Copy of train.ipynb (run on GPU 1)"
   ]
  },
  {
   "cell_type": "code",
   "execution_count": 2,
   "metadata": {},
   "outputs": [
    {
     "name": "stdout",
     "output_type": "stream",
     "text": [
      "Using device: cpu\n"
     ]
    }
   ],
   "source": [
    "import torch\n",
    "\n",
    "# Local imports\n",
    "from train import train_model"
   ]
  },
  {
   "cell_type": "code",
   "execution_count": 3,
   "metadata": {},
   "outputs": [
    {
     "name": "stdout",
     "output_type": "stream",
     "text": [
      "Using device: cuda:1\n"
     ]
    }
   ],
   "source": [
    "if torch.backends.mps.is_available():\n",
    "    device = torch.device(\"mps\")\n",
    "elif torch.cuda.is_available():\n",
    "    device = torch.device(\"cuda:1\")\n",
    "else:\n",
    "    device = torch.device(\"cpu\")\n",
    "\n",
    "print(f\"Using device: {device}\")"
   ]
  },
  {
   "cell_type": "code",
   "execution_count": 4,
   "metadata": {},
   "outputs": [],
   "source": [
    "args = {\n",
    "    \"use_small_dataset\": True,\n",
    "    \"batch_size\": 64,\n",
    "    \"stoppage_epochs\": 128,\n",
    "    \"max_epochs\": 512,\n",
    "    \"seed\": 42,\n",
    "    \"data_path\": \"../data\",\n",
    "    \"frac_train\": 0.8,\n",
    "    \"frac_validation\": 0.1,\n",
    "    \"frac_test\": 0.1,\n",
    "    \"huber_beta\": 0.5,\n",
    "    \"weight_decay\": 1e-3,\n",
    "    \"lr\": 3e-4,\n",
    "    \"scheduler_patience\": 10,\n",
    "    \"scheduler_factor\": 0.5,\n",
    "    \"hidden_size\": 96,\n",
    "    \"num_layers\": 7,\n",
    "    \"num_attn_heads\": 6,\n",
    "    \"dropout\": 0.2,\n",
    "    \"pooling_dropout\": 0.1,\n",
    "    \"pooling_dim\": 96,\n",
    "}"
   ]
  },
  {
   "cell_type": "code",
   "execution_count": null,
   "metadata": {},
   "outputs": [
    {
     "name": "stdout",
     "output_type": "stream",
     "text": [
      "Model parameters: 182908\n"
     ]
    },
    {
     "name": "stderr",
     "output_type": "stream",
     "text": [
      "Epoch 1/512: 100%|████████████████████████████████████████████████████████████████████████| 63/63 [00:09<00:00,  6.32it/s]\n"
     ]
    },
    {
     "name": "stdout",
     "output_type": "stream",
     "text": [
      "Epoch 1/512: \n",
      "Train Loss = 0.77803, Train MSE = 1.54278, Train MAE = 1.00286, Train Acc = 0.56823\n",
      "Val Loss = 0.75363, Val MSE = 1.49419, Val MAE = 0.97375, Val Acc = 0.58964\n"
     ]
    },
    {
     "name": "stderr",
     "output_type": "stream",
     "text": [
      "Epoch 2/512: 100%|████████████████████████████████████████████████████████████████████████| 63/63 [00:03<00:00, 20.76it/s]\n"
     ]
    },
    {
     "name": "stdout",
     "output_type": "stream",
     "text": [
      "Epoch 2/512: \n",
      "Train Loss = 0.72140, Train MSE = 1.35839, Train MAE = 0.94362, Train Acc = 0.59014\n",
      "Val Loss = 0.73415, Val MSE = 1.41007, Val MAE = 0.95702, Val Acc = 0.59761\n"
     ]
    },
    {
     "name": "stderr",
     "output_type": "stream",
     "text": [
      "Epoch 3/512: 100%|████████████████████████████████████████████████████████████████████████| 63/63 [00:03<00:00, 20.84it/s]\n"
     ]
    },
    {
     "name": "stdout",
     "output_type": "stream",
     "text": [
      "Epoch 3/512: \n",
      "Train Loss = 0.71188, Train MSE = 1.33352, Train MAE = 0.93485, Train Acc = 0.60060\n",
      "Val Loss = 0.70269, Val MSE = 1.32670, Val MAE = 0.92488, Val Acc = 0.61554\n"
     ]
    },
    {
     "name": "stderr",
     "output_type": "stream",
     "text": [
      "Epoch 4/512: 100%|████████████████████████████████████████████████████████████████████████| 63/63 [00:03<00:00, 20.74it/s]\n"
     ]
    },
    {
     "name": "stdout",
     "output_type": "stream",
     "text": [
      "Epoch 4/512: \n",
      "Train Loss = 0.70896, Train MSE = 1.32063, Train MAE = 0.93128, Train Acc = 0.60110\n",
      "Val Loss = 0.70433, Val MSE = 1.33556, Val MAE = 0.92498, Val Acc = 0.62151\n"
     ]
    },
    {
     "name": "stderr",
     "output_type": "stream",
     "text": [
      "Epoch 5/512: 100%|████████████████████████████████████████████████████████████████████████| 63/63 [00:02<00:00, 21.07it/s]\n"
     ]
    },
    {
     "name": "stdout",
     "output_type": "stream",
     "text": [
      "Epoch 5/512: \n",
      "Train Loss = 0.69598, Train MSE = 1.28102, Train MAE = 0.91956, Train Acc = 0.60632\n",
      "Val Loss = 0.69823, Val MSE = 1.32171, Val MAE = 0.91921, Val Acc = 0.62550\n"
     ]
    },
    {
     "name": "stderr",
     "output_type": "stream",
     "text": [
      "Epoch 6/512: 100%|████████████████████████████████████████████████████████████████████████| 63/63 [00:03<00:00, 20.60it/s]\n"
     ]
    },
    {
     "name": "stdout",
     "output_type": "stream",
     "text": [
      "Epoch 6/512: \n",
      "Train Loss = 0.70304, Train MSE = 1.30639, Train MAE = 0.92521, Train Acc = 0.60533\n",
      "Val Loss = 0.71564, Val MSE = 1.38126, Val MAE = 0.93499, Val Acc = 0.62151\n"
     ]
    },
    {
     "name": "stderr",
     "output_type": "stream",
     "text": [
      "Epoch 7/512: 100%|████████████████████████████████████████████████████████████████████████| 63/63 [00:03<00:00, 20.54it/s]\n"
     ]
    },
    {
     "name": "stdout",
     "output_type": "stream",
     "text": [
      "Epoch 7/512: \n",
      "Train Loss = 0.70318, Train MSE = 1.32436, Train MAE = 0.92492, Train Acc = 0.60359\n",
      "Val Loss = 0.69248, Val MSE = 1.29228, Val MAE = 0.91474, Val Acc = 0.61554\n"
     ]
    },
    {
     "name": "stderr",
     "output_type": "stream",
     "text": [
      "Epoch 8/512: 100%|████████████████████████████████████████████████████████████████████████| 63/63 [00:03<00:00, 20.37it/s]\n"
     ]
    },
    {
     "name": "stdout",
     "output_type": "stream",
     "text": [
      "Epoch 8/512: \n",
      "Train Loss = 0.69328, Train MSE = 1.28969, Train MAE = 0.91542, Train Acc = 0.61255\n",
      "Val Loss = 0.69518, Val MSE = 1.30870, Val MAE = 0.91486, Val Acc = 0.60956\n"
     ]
    },
    {
     "name": "stderr",
     "output_type": "stream",
     "text": [
      "Epoch 9/512: 100%|████████████████████████████████████████████████████████████████████████| 63/63 [00:03<00:00, 20.57it/s]\n"
     ]
    },
    {
     "name": "stdout",
     "output_type": "stream",
     "text": [
      "Epoch 9/512: \n",
      "Train Loss = 0.68795, Train MSE = 1.27320, Train MAE = 0.90907, Train Acc = 0.60857\n",
      "Val Loss = 0.69635, Val MSE = 1.33240, Val MAE = 0.91515, Val Acc = 0.63347\n"
     ]
    },
    {
     "name": "stderr",
     "output_type": "stream",
     "text": [
      "Epoch 10/512: 100%|███████████████████████████████████████████████████████████████████████| 63/63 [00:03<00:00, 20.67it/s]\n"
     ]
    },
    {
     "name": "stdout",
     "output_type": "stream",
     "text": [
      "Epoch 10/512: \n",
      "Train Loss = 0.69376, Train MSE = 1.29512, Train MAE = 0.91477, Train Acc = 0.61130\n",
      "Val Loss = 0.70560, Val MSE = 1.30615, Val MAE = 0.93004, Val Acc = 0.59363\n"
     ]
    },
    {
     "name": "stderr",
     "output_type": "stream",
     "text": [
      "Epoch 11/512: 100%|███████████████████████████████████████████████████████████████████████| 63/63 [00:03<00:00, 20.94it/s]\n"
     ]
    },
    {
     "name": "stdout",
     "output_type": "stream",
     "text": [
      "Epoch 11/512: \n",
      "Train Loss = 0.69225, Train MSE = 1.27903, Train MAE = 0.91425, Train Acc = 0.61155\n",
      "Val Loss = 0.68621, Val MSE = 1.28861, Val MAE = 0.90543, Val Acc = 0.61355\n"
     ]
    },
    {
     "name": "stderr",
     "output_type": "stream",
     "text": [
      "Epoch 12/512: 100%|███████████████████████████████████████████████████████████████████████| 63/63 [00:03<00:00, 20.73it/s]\n"
     ]
    },
    {
     "name": "stdout",
     "output_type": "stream",
     "text": [
      "Epoch 12/512: \n",
      "Train Loss = 0.67837, Train MSE = 1.24732, Train MAE = 0.89910, Train Acc = 0.61853\n",
      "Val Loss = 0.69243, Val MSE = 1.32838, Val MAE = 0.91043, Val Acc = 0.62550\n"
     ]
    },
    {
     "name": "stderr",
     "output_type": "stream",
     "text": [
      "Epoch 13/512: 100%|███████████████████████████████████████████████████████████████████████| 63/63 [00:03<00:00, 20.64it/s]\n"
     ]
    },
    {
     "name": "stdout",
     "output_type": "stream",
     "text": [
      "Epoch 13/512: \n",
      "Train Loss = 0.68132, Train MSE = 1.25631, Train MAE = 0.90297, Train Acc = 0.61031\n",
      "Val Loss = 0.68795, Val MSE = 1.28612, Val MAE = 0.90852, Val Acc = 0.61753\n"
     ]
    },
    {
     "name": "stderr",
     "output_type": "stream",
     "text": [
      "Epoch 14/512: 100%|███████████████████████████████████████████████████████████████████████| 63/63 [00:03<00:00, 20.82it/s]\n"
     ]
    },
    {
     "name": "stdout",
     "output_type": "stream",
     "text": [
      "Epoch 14/512: \n",
      "Train Loss = 0.68950, Train MSE = 1.27835, Train MAE = 0.91250, Train Acc = 0.61853\n",
      "Val Loss = 0.68164, Val MSE = 1.27749, Val MAE = 0.90155, Val Acc = 0.62151\n"
     ]
    },
    {
     "name": "stderr",
     "output_type": "stream",
     "text": [
      "Epoch 15/512: 100%|███████████████████████████████████████████████████████████████████████| 63/63 [00:03<00:00, 20.41it/s]\n"
     ]
    },
    {
     "name": "stdout",
     "output_type": "stream",
     "text": [
      "Epoch 15/512: \n",
      "Train Loss = 0.67655, Train MSE = 1.24911, Train MAE = 0.89819, Train Acc = 0.62425\n",
      "Val Loss = 0.67624, Val MSE = 1.25448, Val MAE = 0.89629, Val Acc = 0.62550\n"
     ]
    },
    {
     "name": "stderr",
     "output_type": "stream",
     "text": [
      "Epoch 16/512: 100%|███████████████████████████████████████████████████████████████████████| 63/63 [00:03<00:00, 20.46it/s]\n"
     ]
    },
    {
     "name": "stdout",
     "output_type": "stream",
     "text": [
      "Epoch 16/512: \n",
      "Train Loss = 0.67587, Train MSE = 1.24290, Train MAE = 0.89840, Train Acc = 0.62500\n",
      "Val Loss = 0.67000, Val MSE = 1.25055, Val MAE = 0.88987, Val Acc = 0.62749\n"
     ]
    },
    {
     "name": "stderr",
     "output_type": "stream",
     "text": [
      "Epoch 17/512: 100%|███████████████████████████████████████████████████████████████████████| 63/63 [00:03<00:00, 20.45it/s]\n"
     ]
    },
    {
     "name": "stdout",
     "output_type": "stream",
     "text": [
      "Epoch 17/512: \n",
      "Train Loss = 0.67383, Train MSE = 1.24700, Train MAE = 0.89392, Train Acc = 0.62226\n",
      "Val Loss = 0.67620, Val MSE = 1.24981, Val MAE = 0.89867, Val Acc = 0.61753\n"
     ]
    },
    {
     "name": "stderr",
     "output_type": "stream",
     "text": [
      "Epoch 18/512: 100%|███████████████████████████████████████████████████████████████████████| 63/63 [00:03<00:00, 20.64it/s]\n"
     ]
    },
    {
     "name": "stdout",
     "output_type": "stream",
     "text": [
      "Epoch 18/512: \n",
      "Train Loss = 0.67366, Train MSE = 1.25140, Train MAE = 0.89480, Train Acc = 0.63098\n",
      "Val Loss = 0.68740, Val MSE = 1.31298, Val MAE = 0.90526, Val Acc = 0.62948\n"
     ]
    },
    {
     "name": "stderr",
     "output_type": "stream",
     "text": [
      "Epoch 19/512: 100%|███████████████████████████████████████████████████████████████████████| 63/63 [00:03<00:00, 20.38it/s]\n"
     ]
    },
    {
     "name": "stdout",
     "output_type": "stream",
     "text": [
      "Epoch 19/512: \n",
      "Train Loss = 0.67490, Train MSE = 1.24986, Train MAE = 0.89591, Train Acc = 0.62500\n",
      "Val Loss = 0.67589, Val MSE = 1.26337, Val MAE = 0.89890, Val Acc = 0.61355\n"
     ]
    },
    {
     "name": "stderr",
     "output_type": "stream",
     "text": [
      "Epoch 20/512: 100%|███████████████████████████████████████████████████████████████████████| 63/63 [00:03<00:00, 20.54it/s]\n"
     ]
    },
    {
     "name": "stdout",
     "output_type": "stream",
     "text": [
      "Epoch 20/512: \n",
      "Train Loss = 0.66302, Train MSE = 1.21370, Train MAE = 0.88317, Train Acc = 0.63272\n",
      "Val Loss = 0.68159, Val MSE = 1.29363, Val MAE = 0.89818, Val Acc = 0.61952\n"
     ]
    },
    {
     "name": "stderr",
     "output_type": "stream",
     "text": [
      "Epoch 21/512: 100%|███████████████████████████████████████████████████████████████████████| 63/63 [00:03<00:00, 20.59it/s]\n"
     ]
    },
    {
     "name": "stdout",
     "output_type": "stream",
     "text": [
      "Epoch 21/512: \n",
      "Train Loss = 0.66256, Train MSE = 1.21425, Train MAE = 0.88321, Train Acc = 0.63347\n",
      "Val Loss = 0.66230, Val MSE = 1.24300, Val MAE = 0.87709, Val Acc = 0.62550\n"
     ]
    },
    {
     "name": "stderr",
     "output_type": "stream",
     "text": [
      "Epoch 22/512: 100%|███████████████████████████████████████████████████████████████████████| 63/63 [00:03<00:00, 20.65it/s]\n"
     ]
    },
    {
     "name": "stdout",
     "output_type": "stream",
     "text": [
      "Epoch 22/512: \n",
      "Train Loss = 0.66577, Train MSE = 1.21906, Train MAE = 0.88650, Train Acc = 0.63322\n",
      "Val Loss = 0.69039, Val MSE = 1.33064, Val MAE = 0.90600, Val Acc = 0.61952\n"
     ]
    },
    {
     "name": "stderr",
     "output_type": "stream",
     "text": [
      "Epoch 23/512: 100%|███████████████████████████████████████████████████████████████████████| 63/63 [00:03<00:00, 20.57it/s]\n"
     ]
    },
    {
     "name": "stdout",
     "output_type": "stream",
     "text": [
      "Epoch 23/512: \n",
      "Train Loss = 0.66126, Train MSE = 1.20510, Train MAE = 0.88067, Train Acc = 0.62525\n",
      "Val Loss = 0.65061, Val MSE = 1.20782, Val MAE = 0.86829, Val Acc = 0.63745\n"
     ]
    },
    {
     "name": "stderr",
     "output_type": "stream",
     "text": [
      "Epoch 24/512: 100%|███████████████████████████████████████████████████████████████████████| 63/63 [00:03<00:00, 20.48it/s]\n"
     ]
    },
    {
     "name": "stdout",
     "output_type": "stream",
     "text": [
      "Epoch 24/512: \n",
      "Train Loss = 0.65403, Train MSE = 1.20004, Train MAE = 0.87358, Train Acc = 0.63621\n",
      "Val Loss = 0.65717, Val MSE = 1.22941, Val MAE = 0.87525, Val Acc = 0.63347\n"
     ]
    },
    {
     "name": "stderr",
     "output_type": "stream",
     "text": [
      "Epoch 25/512: 100%|███████████████████████████████████████████████████████████████████████| 63/63 [00:03<00:00, 20.48it/s]\n"
     ]
    },
    {
     "name": "stdout",
     "output_type": "stream",
     "text": [
      "Epoch 25/512: \n",
      "Train Loss = 0.65485, Train MSE = 1.19694, Train MAE = 0.87380, Train Acc = 0.63820\n",
      "Val Loss = 0.66493, Val MSE = 1.24924, Val MAE = 0.88232, Val Acc = 0.63147\n"
     ]
    },
    {
     "name": "stderr",
     "output_type": "stream",
     "text": [
      "Epoch 26/512: 100%|███████████████████████████████████████████████████████████████████████| 63/63 [00:03<00:00, 20.77it/s]\n"
     ]
    },
    {
     "name": "stdout",
     "output_type": "stream",
     "text": [
      "Epoch 26/512: \n",
      "Train Loss = 0.66316, Train MSE = 1.21828, Train MAE = 0.88376, Train Acc = 0.63670\n",
      "Val Loss = 0.67570, Val MSE = 1.29026, Val MAE = 0.89280, Val Acc = 0.63745\n"
     ]
    },
    {
     "name": "stderr",
     "output_type": "stream",
     "text": [
      "Epoch 27/512: 100%|███████████████████████████████████████████████████████████████████████| 63/63 [00:03<00:00, 20.48it/s]\n"
     ]
    },
    {
     "name": "stdout",
     "output_type": "stream",
     "text": [
      "Epoch 27/512: \n",
      "Train Loss = 0.64763, Train MSE = 1.18228, Train MAE = 0.86628, Train Acc = 0.64069\n",
      "Val Loss = 0.64553, Val MSE = 1.21097, Val MAE = 0.86030, Val Acc = 0.62948\n"
     ]
    },
    {
     "name": "stderr",
     "output_type": "stream",
     "text": [
      "Epoch 28/512: 100%|███████████████████████████████████████████████████████████████████████| 63/63 [00:03<00:00, 20.66it/s]\n"
     ]
    },
    {
     "name": "stdout",
     "output_type": "stream",
     "text": [
      "Epoch 28/512: \n",
      "Train Loss = 0.63748, Train MSE = 1.15884, Train MAE = 0.85653, Train Acc = 0.65015\n",
      "Val Loss = 0.65238, Val MSE = 1.25262, Val MAE = 0.86913, Val Acc = 0.64542\n"
     ]
    },
    {
     "name": "stderr",
     "output_type": "stream",
     "text": [
      "Epoch 29/512: 100%|███████████████████████████████████████████████████████████████████████| 63/63 [00:03<00:00, 20.62it/s]\n"
     ]
    },
    {
     "name": "stdout",
     "output_type": "stream",
     "text": [
      "Epoch 29/512: \n",
      "Train Loss = 0.64987, Train MSE = 1.17817, Train MAE = 0.87054, Train Acc = 0.63695\n",
      "Val Loss = 0.63512, Val MSE = 1.16195, Val MAE = 0.85253, Val Acc = 0.64542\n"
     ]
    },
    {
     "name": "stderr",
     "output_type": "stream",
     "text": [
      "Epoch 30/512: 100%|███████████████████████████████████████████████████████████████████████| 63/63 [00:03<00:00, 20.96it/s]\n"
     ]
    },
    {
     "name": "stdout",
     "output_type": "stream",
     "text": [
      "Epoch 30/512: \n",
      "Train Loss = 0.63391, Train MSE = 1.14727, Train MAE = 0.85171, Train Acc = 0.64816\n",
      "Val Loss = 0.62966, Val MSE = 1.13996, Val MAE = 0.84822, Val Acc = 0.64542\n"
     ]
    },
    {
     "name": "stderr",
     "output_type": "stream",
     "text": [
      "Epoch 31/512: 100%|███████████████████████████████████████████████████████████████████████| 63/63 [00:03<00:00, 20.86it/s]\n"
     ]
    },
    {
     "name": "stdout",
     "output_type": "stream",
     "text": [
      "Epoch 31/512: \n",
      "Train Loss = 0.63246, Train MSE = 1.14419, Train MAE = 0.84951, Train Acc = 0.64965\n",
      "Val Loss = 0.62339, Val MSE = 1.14572, Val MAE = 0.84327, Val Acc = 0.64143\n"
     ]
    },
    {
     "name": "stderr",
     "output_type": "stream",
     "text": [
      "Epoch 32/512: 100%|███████████████████████████████████████████████████████████████████████| 63/63 [00:03<00:00, 20.81it/s]\n"
     ]
    },
    {
     "name": "stdout",
     "output_type": "stream",
     "text": [
      "Epoch 32/512: \n",
      "Train Loss = 0.62976, Train MSE = 1.12969, Train MAE = 0.84847, Train Acc = 0.65339\n",
      "Val Loss = 0.65516, Val MSE = 1.23374, Val MAE = 0.87577, Val Acc = 0.63944\n"
     ]
    },
    {
     "name": "stderr",
     "output_type": "stream",
     "text": [
      "Epoch 33/512: 100%|███████████████████████████████████████████████████████████████████████| 63/63 [00:03<00:00, 20.69it/s]\n"
     ]
    },
    {
     "name": "stdout",
     "output_type": "stream",
     "text": [
      "Epoch 33/512: \n",
      "Train Loss = 0.62337, Train MSE = 1.13133, Train MAE = 0.84174, Train Acc = 0.66285\n",
      "Val Loss = 0.62022, Val MSE = 1.15520, Val MAE = 0.83827, Val Acc = 0.65936\n"
     ]
    },
    {
     "name": "stderr",
     "output_type": "stream",
     "text": [
      "Epoch 34/512: 100%|███████████████████████████████████████████████████████████████████████| 63/63 [00:02<00:00, 21.02it/s]\n"
     ]
    },
    {
     "name": "stdout",
     "output_type": "stream",
     "text": [
      "Epoch 34/512: \n",
      "Train Loss = 0.62199, Train MSE = 1.11371, Train MAE = 0.84102, Train Acc = 0.65662\n",
      "Val Loss = 0.61445, Val MSE = 1.12905, Val MAE = 0.83081, Val Acc = 0.65936\n"
     ]
    },
    {
     "name": "stderr",
     "output_type": "stream",
     "text": [
      "Epoch 35/512: 100%|███████████████████████████████████████████████████████████████████████| 63/63 [00:03<00:00, 20.86it/s]\n"
     ]
    },
    {
     "name": "stdout",
     "output_type": "stream",
     "text": [
      "Epoch 35/512: \n",
      "Train Loss = 0.61315, Train MSE = 1.09882, Train MAE = 0.83114, Train Acc = 0.66335\n",
      "Val Loss = 0.61413, Val MSE = 1.12550, Val MAE = 0.82758, Val Acc = 0.66135\n"
     ]
    },
    {
     "name": "stderr",
     "output_type": "stream",
     "text": [
      "Epoch 36/512: 100%|███████████████████████████████████████████████████████████████████████| 63/63 [00:03<00:00, 20.74it/s]\n"
     ]
    },
    {
     "name": "stdout",
     "output_type": "stream",
     "text": [
      "Epoch 36/512: \n",
      "Train Loss = 0.62066, Train MSE = 1.12390, Train MAE = 0.83852, Train Acc = 0.65712\n",
      "Val Loss = 0.61310, Val MSE = 1.10873, Val MAE = 0.83122, Val Acc = 0.65737\n"
     ]
    },
    {
     "name": "stderr",
     "output_type": "stream",
     "text": [
      "Epoch 37/512: 100%|███████████████████████████████████████████████████████████████████████| 63/63 [00:03<00:00, 20.71it/s]\n"
     ]
    },
    {
     "name": "stdout",
     "output_type": "stream",
     "text": [
      "Epoch 37/512: \n",
      "Train Loss = 0.60472, Train MSE = 1.07414, Train MAE = 0.82322, Train Acc = 0.67356\n",
      "Val Loss = 0.59305, Val MSE = 1.06452, Val MAE = 0.80897, Val Acc = 0.68327\n"
     ]
    },
    {
     "name": "stderr",
     "output_type": "stream",
     "text": [
      "Epoch 38/512: 100%|███████████████████████████████████████████████████████████████████████| 63/63 [00:03<00:00, 20.26it/s]\n"
     ]
    },
    {
     "name": "stdout",
     "output_type": "stream",
     "text": [
      "Epoch 38/512: \n",
      "Train Loss = 0.60228, Train MSE = 1.06665, Train MAE = 0.81937, Train Acc = 0.66932\n",
      "Val Loss = 0.61797, Val MSE = 1.15043, Val MAE = 0.83659, Val Acc = 0.65538\n"
     ]
    },
    {
     "name": "stderr",
     "output_type": "stream",
     "text": [
      "Epoch 39/512: 100%|███████████████████████████████████████████████████████████████████████| 63/63 [00:03<00:00, 20.63it/s]\n"
     ]
    },
    {
     "name": "stdout",
     "output_type": "stream",
     "text": [
      "Epoch 39/512: \n",
      "Train Loss = 0.59108, Train MSE = 1.05073, Train MAE = 0.80710, Train Acc = 0.67829\n",
      "Val Loss = 0.59267, Val MSE = 1.07099, Val MAE = 0.80613, Val Acc = 0.65339\n"
     ]
    },
    {
     "name": "stderr",
     "output_type": "stream",
     "text": [
      "Epoch 40/512: 100%|███████████████████████████████████████████████████████████████████████| 63/63 [00:03<00:00, 20.71it/s]\n"
     ]
    },
    {
     "name": "stdout",
     "output_type": "stream",
     "text": [
      "Epoch 40/512: \n",
      "Train Loss = 0.59337, Train MSE = 1.06468, Train MAE = 0.81010, Train Acc = 0.68003\n",
      "Val Loss = 0.60232, Val MSE = 1.08030, Val MAE = 0.82292, Val Acc = 0.67530\n"
     ]
    },
    {
     "name": "stderr",
     "output_type": "stream",
     "text": [
      "Epoch 41/512: 100%|███████████████████████████████████████████████████████████████████████| 63/63 [00:03<00:00, 20.52it/s]\n"
     ]
    },
    {
     "name": "stdout",
     "output_type": "stream",
     "text": [
      "Epoch 41/512: \n",
      "Train Loss = 0.60541, Train MSE = 1.08101, Train MAE = 0.82154, Train Acc = 0.66957\n",
      "Val Loss = 0.59732, Val MSE = 1.06513, Val MAE = 0.81261, Val Acc = 0.65936\n"
     ]
    },
    {
     "name": "stderr",
     "output_type": "stream",
     "text": [
      "Epoch 42/512: 100%|███████████████████████████████████████████████████████████████████████| 63/63 [00:03<00:00, 20.45it/s]\n"
     ]
    },
    {
     "name": "stdout",
     "output_type": "stream",
     "text": [
      "Epoch 42/512: \n",
      "Train Loss = 0.58294, Train MSE = 1.02572, Train MAE = 0.79826, Train Acc = 0.68053\n",
      "Val Loss = 0.57762, Val MSE = 1.04223, Val MAE = 0.79108, Val Acc = 0.67729\n"
     ]
    },
    {
     "name": "stderr",
     "output_type": "stream",
     "text": [
      "Epoch 43/512: 100%|███████████████████████████████████████████████████████████████████████| 63/63 [00:03<00:00, 20.39it/s]\n"
     ]
    },
    {
     "name": "stdout",
     "output_type": "stream",
     "text": [
      "Epoch 43/512: \n",
      "Train Loss = 0.58460, Train MSE = 1.04123, Train MAE = 0.79912, Train Acc = 0.68675\n",
      "Val Loss = 0.58510, Val MSE = 1.06464, Val MAE = 0.80013, Val Acc = 0.69721\n"
     ]
    },
    {
     "name": "stderr",
     "output_type": "stream",
     "text": [
      "Epoch 44/512: 100%|███████████████████████████████████████████████████████████████████████| 63/63 [00:03<00:00, 20.66it/s]\n"
     ]
    },
    {
     "name": "stdout",
     "output_type": "stream",
     "text": [
      "Epoch 44/512: \n",
      "Train Loss = 0.58164, Train MSE = 1.03500, Train MAE = 0.79712, Train Acc = 0.68625\n",
      "Val Loss = 0.58723, Val MSE = 1.06907, Val MAE = 0.80362, Val Acc = 0.66335\n"
     ]
    },
    {
     "name": "stderr",
     "output_type": "stream",
     "text": [
      "Epoch 45/512: 100%|███████████████████████████████████████████████████████████████████████| 63/63 [00:03<00:00, 20.94it/s]\n"
     ]
    },
    {
     "name": "stdout",
     "output_type": "stream",
     "text": [
      "Epoch 45/512: \n",
      "Train Loss = 0.58325, Train MSE = 1.04097, Train MAE = 0.79748, Train Acc = 0.68725\n",
      "Val Loss = 0.57134, Val MSE = 1.02850, Val MAE = 0.78809, Val Acc = 0.68127\n"
     ]
    },
    {
     "name": "stderr",
     "output_type": "stream",
     "text": [
      "Epoch 46/512: 100%|███████████████████████████████████████████████████████████████████████| 63/63 [00:03<00:00, 20.68it/s]\n"
     ]
    },
    {
     "name": "stdout",
     "output_type": "stream",
     "text": [
      "Epoch 46/512: \n",
      "Train Loss = 0.58064, Train MSE = 1.02865, Train MAE = 0.79565, Train Acc = 0.68177\n",
      "Val Loss = 0.58539, Val MSE = 1.05112, Val MAE = 0.79979, Val Acc = 0.68127\n"
     ]
    },
    {
     "name": "stderr",
     "output_type": "stream",
     "text": [
      "Epoch 47/512: 100%|███████████████████████████████████████████████████████████████████████| 63/63 [00:03<00:00, 20.86it/s]\n"
     ]
    },
    {
     "name": "stdout",
     "output_type": "stream",
     "text": [
      "Epoch 47/512: \n",
      "Train Loss = 0.57581, Train MSE = 1.01322, Train MAE = 0.78970, Train Acc = 0.68376\n",
      "Val Loss = 0.56149, Val MSE = 1.01269, Val MAE = 0.77142, Val Acc = 0.68924\n"
     ]
    },
    {
     "name": "stderr",
     "output_type": "stream",
     "text": [
      "Epoch 48/512: 100%|███████████████████████████████████████████████████████████████████████| 63/63 [00:03<00:00, 20.73it/s]\n"
     ]
    },
    {
     "name": "stdout",
     "output_type": "stream",
     "text": [
      "Epoch 48/512: \n",
      "Train Loss = 0.56750, Train MSE = 0.99852, Train MAE = 0.78395, Train Acc = 0.70120\n",
      "Val Loss = 0.55798, Val MSE = 0.98238, Val MAE = 0.77364, Val Acc = 0.69721\n"
     ]
    },
    {
     "name": "stderr",
     "output_type": "stream",
     "text": [
      "Epoch 49/512: 100%|███████████████████████████████████████████████████████████████████████| 63/63 [00:02<00:00, 21.09it/s]\n"
     ]
    },
    {
     "name": "stdout",
     "output_type": "stream",
     "text": [
      "Epoch 49/512: \n",
      "Train Loss = 0.56402, Train MSE = 0.98535, Train MAE = 0.77947, Train Acc = 0.69622\n",
      "Val Loss = 0.55319, Val MSE = 0.98750, Val MAE = 0.76719, Val Acc = 0.69721\n"
     ]
    },
    {
     "name": "stderr",
     "output_type": "stream",
     "text": [
      "Epoch 50/512: 100%|███████████████████████████████████████████████████████████████████████| 63/63 [00:03<00:00, 20.72it/s]\n"
     ]
    },
    {
     "name": "stdout",
     "output_type": "stream",
     "text": [
      "Epoch 50/512: \n",
      "Train Loss = 0.57509, Train MSE = 1.01001, Train MAE = 0.78935, Train Acc = 0.68476\n",
      "Val Loss = 0.56209, Val MSE = 0.99465, Val MAE = 0.77707, Val Acc = 0.69522\n"
     ]
    },
    {
     "name": "stderr",
     "output_type": "stream",
     "text": [
      "Epoch 51/512: 100%|███████████████████████████████████████████████████████████████████████| 63/63 [00:03<00:00, 20.52it/s]\n"
     ]
    },
    {
     "name": "stdout",
     "output_type": "stream",
     "text": [
      "Epoch 51/512: \n",
      "Train Loss = 0.56542, Train MSE = 0.99297, Train MAE = 0.78005, Train Acc = 0.70269\n",
      "Val Loss = 0.55609, Val MSE = 0.96260, Val MAE = 0.77227, Val Acc = 0.70518\n"
     ]
    },
    {
     "name": "stderr",
     "output_type": "stream",
     "text": [
      "Epoch 52/512: 100%|███████████████████████████████████████████████████████████████████████| 63/63 [00:03<00:00, 20.74it/s]\n"
     ]
    },
    {
     "name": "stdout",
     "output_type": "stream",
     "text": [
      "Epoch 52/512: \n",
      "Train Loss = 0.55661, Train MSE = 0.96923, Train MAE = 0.77099, Train Acc = 0.70045\n",
      "Val Loss = 0.55485, Val MSE = 0.98512, Val MAE = 0.76943, Val Acc = 0.70120\n"
     ]
    },
    {
     "name": "stderr",
     "output_type": "stream",
     "text": [
      "Epoch 53/512: 100%|███████████████████████████████████████████████████████████████████████| 63/63 [00:03<00:00, 20.68it/s]\n"
     ]
    },
    {
     "name": "stdout",
     "output_type": "stream",
     "text": [
      "Epoch 53/512: \n",
      "Train Loss = 0.56125, Train MSE = 0.98026, Train MAE = 0.77646, Train Acc = 0.69920\n",
      "Val Loss = 0.57074, Val MSE = 1.03403, Val MAE = 0.78161, Val Acc = 0.66932\n"
     ]
    },
    {
     "name": "stderr",
     "output_type": "stream",
     "text": [
      "Epoch 54/512: 100%|███████████████████████████████████████████████████████████████████████| 63/63 [00:03<00:00, 20.62it/s]\n"
     ]
    },
    {
     "name": "stdout",
     "output_type": "stream",
     "text": [
      "Epoch 54/512: \n",
      "Train Loss = 0.55452, Train MSE = 0.97078, Train MAE = 0.76709, Train Acc = 0.69846\n",
      "Val Loss = 0.55574, Val MSE = 0.96730, Val MAE = 0.76964, Val Acc = 0.69323\n"
     ]
    },
    {
     "name": "stderr",
     "output_type": "stream",
     "text": [
      "Epoch 55/512: 100%|███████████████████████████████████████████████████████████████████████| 63/63 [00:03<00:00, 20.83it/s]\n"
     ]
    },
    {
     "name": "stdout",
     "output_type": "stream",
     "text": [
      "Epoch 55/512: \n",
      "Train Loss = 0.55509, Train MSE = 0.96749, Train MAE = 0.76885, Train Acc = 0.70618\n",
      "Val Loss = 0.54928, Val MSE = 0.96601, Val MAE = 0.76472, Val Acc = 0.70916\n"
     ]
    },
    {
     "name": "stderr",
     "output_type": "stream",
     "text": [
      "Epoch 56/512: 100%|███████████████████████████████████████████████████████████████████████| 63/63 [00:03<00:00, 20.46it/s]\n"
     ]
    },
    {
     "name": "stdout",
     "output_type": "stream",
     "text": [
      "Epoch 56/512: \n",
      "Train Loss = 0.54515, Train MSE = 0.94067, Train MAE = 0.75888, Train Acc = 0.70692\n",
      "Val Loss = 0.55477, Val MSE = 0.97770, Val MAE = 0.77044, Val Acc = 0.70916\n"
     ]
    },
    {
     "name": "stderr",
     "output_type": "stream",
     "text": [
      "Epoch 57/512: 100%|███████████████████████████████████████████████████████████████████████| 63/63 [00:03<00:00, 20.73it/s]\n"
     ]
    },
    {
     "name": "stdout",
     "output_type": "stream",
     "text": [
      "Epoch 57/512: \n",
      "Train Loss = 0.54829, Train MSE = 0.95823, Train MAE = 0.76103, Train Acc = 0.70991\n",
      "Val Loss = 0.55261, Val MSE = 0.98551, Val MAE = 0.76689, Val Acc = 0.68924\n"
     ]
    },
    {
     "name": "stderr",
     "output_type": "stream",
     "text": [
      "Epoch 58/512: 100%|███████████████████████████████████████████████████████████████████████| 63/63 [00:03<00:00, 20.62it/s]\n"
     ]
    },
    {
     "name": "stdout",
     "output_type": "stream",
     "text": [
      "Epoch 58/512: \n",
      "Train Loss = 0.54824, Train MSE = 0.96037, Train MAE = 0.76070, Train Acc = 0.70991\n",
      "Val Loss = 0.55373, Val MSE = 0.97261, Val MAE = 0.76701, Val Acc = 0.70120\n"
     ]
    },
    {
     "name": "stderr",
     "output_type": "stream",
     "text": [
      "Epoch 59/512: 100%|███████████████████████████████████████████████████████████████████████| 63/63 [00:03<00:00, 20.51it/s]\n"
     ]
    },
    {
     "name": "stdout",
     "output_type": "stream",
     "text": [
      "Epoch 59/512: \n",
      "Train Loss = 0.54294, Train MSE = 0.95156, Train MAE = 0.75483, Train Acc = 0.71464\n",
      "Val Loss = 0.54665, Val MSE = 0.95892, Val MAE = 0.75837, Val Acc = 0.70916\n"
     ]
    },
    {
     "name": "stderr",
     "output_type": "stream",
     "text": [
      "Epoch 60/512: 100%|███████████████████████████████████████████████████████████████████████| 63/63 [00:03<00:00, 20.64it/s]\n"
     ]
    },
    {
     "name": "stdout",
     "output_type": "stream",
     "text": [
      "Epoch 60/512: \n",
      "Train Loss = 0.54737, Train MSE = 0.95304, Train MAE = 0.75845, Train Acc = 0.70767\n",
      "Val Loss = 0.55950, Val MSE = 0.98366, Val MAE = 0.77593, Val Acc = 0.70120\n"
     ]
    },
    {
     "name": "stderr",
     "output_type": "stream",
     "text": [
      "Epoch 61/512: 100%|███████████████████████████████████████████████████████████████████████| 63/63 [00:02<00:00, 21.03it/s]\n"
     ]
    },
    {
     "name": "stdout",
     "output_type": "stream",
     "text": [
      "Epoch 61/512: \n",
      "Train Loss = 0.53810, Train MSE = 0.94086, Train MAE = 0.74914, Train Acc = 0.71962\n",
      "Val Loss = 0.54463, Val MSE = 0.94177, Val MAE = 0.75990, Val Acc = 0.69721\n"
     ]
    },
    {
     "name": "stderr",
     "output_type": "stream",
     "text": [
      "Epoch 62/512: 100%|███████████████████████████████████████████████████████████████████████| 63/63 [00:03<00:00, 20.38it/s]\n"
     ]
    },
    {
     "name": "stdout",
     "output_type": "stream",
     "text": [
      "Epoch 62/512: \n",
      "Train Loss = 0.54385, Train MSE = 0.94364, Train MAE = 0.75721, Train Acc = 0.71539\n",
      "Val Loss = 0.54379, Val MSE = 0.94798, Val MAE = 0.75542, Val Acc = 0.68725\n"
     ]
    },
    {
     "name": "stderr",
     "output_type": "stream",
     "text": [
      "Epoch 63/512: 100%|███████████████████████████████████████████████████████████████████████| 63/63 [00:03<00:00, 20.90it/s]\n"
     ]
    },
    {
     "name": "stdout",
     "output_type": "stream",
     "text": [
      "Epoch 63/512: \n",
      "Train Loss = 0.53887, Train MSE = 0.92788, Train MAE = 0.75127, Train Acc = 0.71688\n",
      "Val Loss = 0.56081, Val MSE = 0.98334, Val MAE = 0.77748, Val Acc = 0.68924\n"
     ]
    },
    {
     "name": "stderr",
     "output_type": "stream",
     "text": [
      "Epoch 64/512: 100%|███████████████████████████████████████████████████████████████████████| 63/63 [00:03<00:00, 20.69it/s]\n"
     ]
    },
    {
     "name": "stdout",
     "output_type": "stream",
     "text": [
      "Epoch 64/512: \n",
      "Train Loss = 0.54058, Train MSE = 0.94206, Train MAE = 0.75247, Train Acc = 0.71041\n",
      "Val Loss = 0.53999, Val MSE = 0.94370, Val MAE = 0.75390, Val Acc = 0.71514\n"
     ]
    },
    {
     "name": "stderr",
     "output_type": "stream",
     "text": [
      "Epoch 65/512: 100%|███████████████████████████████████████████████████████████████████████| 63/63 [00:02<00:00, 21.02it/s]\n"
     ]
    },
    {
     "name": "stdout",
     "output_type": "stream",
     "text": [
      "Epoch 65/512: \n",
      "Train Loss = 0.54171, Train MSE = 0.94276, Train MAE = 0.75603, Train Acc = 0.71614\n",
      "Val Loss = 0.55981, Val MSE = 0.99661, Val MAE = 0.77545, Val Acc = 0.69920\n"
     ]
    },
    {
     "name": "stderr",
     "output_type": "stream",
     "text": [
      "Epoch 66/512: 100%|███████████████████████████████████████████████████████████████████████| 63/63 [00:03<00:00, 20.96it/s]\n"
     ]
    },
    {
     "name": "stdout",
     "output_type": "stream",
     "text": [
      "Epoch 66/512: \n",
      "Train Loss = 0.53296, Train MSE = 0.91672, Train MAE = 0.74490, Train Acc = 0.72062\n",
      "Val Loss = 0.54160, Val MSE = 0.93968, Val MAE = 0.75617, Val Acc = 0.69721\n"
     ]
    },
    {
     "name": "stderr",
     "output_type": "stream",
     "text": [
      "Epoch 67/512: 100%|███████████████████████████████████████████████████████████████████████| 63/63 [00:03<00:00, 20.83it/s]\n"
     ]
    },
    {
     "name": "stdout",
     "output_type": "stream",
     "text": [
      "Epoch 67/512: \n",
      "Train Loss = 0.52821, Train MSE = 0.90744, Train MAE = 0.73899, Train Acc = 0.72286\n",
      "Val Loss = 0.56226, Val MSE = 1.02139, Val MAE = 0.77811, Val Acc = 0.68725\n"
     ]
    },
    {
     "name": "stderr",
     "output_type": "stream",
     "text": [
      "Epoch 68/512: 100%|███████████████████████████████████████████████████████████████████████| 63/63 [00:02<00:00, 21.09it/s]\n"
     ]
    },
    {
     "name": "stdout",
     "output_type": "stream",
     "text": [
      "Epoch 68/512: \n",
      "Train Loss = 0.53822, Train MSE = 0.92986, Train MAE = 0.75119, Train Acc = 0.71414\n",
      "Val Loss = 0.55039, Val MSE = 0.96230, Val MAE = 0.76532, Val Acc = 0.70319\n"
     ]
    },
    {
     "name": "stderr",
     "output_type": "stream",
     "text": [
      "Epoch 69/512: 100%|███████████████████████████████████████████████████████████████████████| 63/63 [00:03<00:00, 20.71it/s]\n"
     ]
    },
    {
     "name": "stdout",
     "output_type": "stream",
     "text": [
      "Epoch 69/512: \n",
      "Train Loss = 0.52972, Train MSE = 0.91093, Train MAE = 0.74148, Train Acc = 0.72585\n",
      "Val Loss = 0.54322, Val MSE = 0.93405, Val MAE = 0.75417, Val Acc = 0.69323\n"
     ]
    },
    {
     "name": "stderr",
     "output_type": "stream",
     "text": [
      "Epoch 70/512: 100%|███████████████████████████████████████████████████████████████████████| 63/63 [00:03<00:00, 20.71it/s]\n"
     ]
    },
    {
     "name": "stdout",
     "output_type": "stream",
     "text": [
      "Epoch 70/512: \n",
      "Train Loss = 0.52566, Train MSE = 0.90323, Train MAE = 0.73693, Train Acc = 0.72311\n",
      "Val Loss = 0.53601, Val MSE = 0.91960, Val MAE = 0.75128, Val Acc = 0.71315\n"
     ]
    },
    {
     "name": "stderr",
     "output_type": "stream",
     "text": [
      "Epoch 71/512: 100%|███████████████████████████████████████████████████████████████████████| 63/63 [00:03<00:00, 20.55it/s]\n"
     ]
    },
    {
     "name": "stdout",
     "output_type": "stream",
     "text": [
      "Epoch 71/512: \n",
      "Train Loss = 0.53092, Train MSE = 0.92885, Train MAE = 0.74176, Train Acc = 0.72535\n",
      "Val Loss = 0.55210, Val MSE = 0.97088, Val MAE = 0.76661, Val Acc = 0.71116\n"
     ]
    },
    {
     "name": "stderr",
     "output_type": "stream",
     "text": [
      "Epoch 72/512: 100%|███████████████████████████████████████████████████████████████████████| 63/63 [00:03<00:00, 20.89it/s]\n"
     ]
    },
    {
     "name": "stdout",
     "output_type": "stream",
     "text": [
      "Epoch 72/512: \n",
      "Train Loss = 0.52292, Train MSE = 0.90124, Train MAE = 0.73358, Train Acc = 0.72385\n",
      "Val Loss = 0.56439, Val MSE = 1.01981, Val MAE = 0.78053, Val Acc = 0.69323\n"
     ]
    },
    {
     "name": "stderr",
     "output_type": "stream",
     "text": [
      "Epoch 73/512: 100%|███████████████████████████████████████████████████████████████████████| 63/63 [00:03<00:00, 20.90it/s]\n"
     ]
    },
    {
     "name": "stdout",
     "output_type": "stream",
     "text": [
      "Epoch 73/512: \n",
      "Train Loss = 0.51337, Train MSE = 0.88654, Train MAE = 0.72206, Train Acc = 0.73456\n",
      "Val Loss = 0.53192, Val MSE = 0.92043, Val MAE = 0.74693, Val Acc = 0.72709\n"
     ]
    },
    {
     "name": "stderr",
     "output_type": "stream",
     "text": [
      "Epoch 74/512: 100%|███████████████████████████████████████████████████████████████████████| 63/63 [00:03<00:00, 20.40it/s]\n"
     ]
    },
    {
     "name": "stdout",
     "output_type": "stream",
     "text": [
      "Epoch 74/512: \n",
      "Train Loss = 0.52099, Train MSE = 0.89953, Train MAE = 0.73128, Train Acc = 0.72460\n",
      "Val Loss = 0.53770, Val MSE = 0.95930, Val MAE = 0.74988, Val Acc = 0.72311\n"
     ]
    },
    {
     "name": "stderr",
     "output_type": "stream",
     "text": [
      "Epoch 75/512: 100%|███████████████████████████████████████████████████████████████████████| 63/63 [00:03<00:00, 20.49it/s]\n"
     ]
    },
    {
     "name": "stdout",
     "output_type": "stream",
     "text": [
      "Epoch 75/512: \n",
      "Train Loss = 0.52468, Train MSE = 0.91400, Train MAE = 0.73450, Train Acc = 0.72112\n",
      "Val Loss = 0.54067, Val MSE = 0.96366, Val MAE = 0.75253, Val Acc = 0.71315\n"
     ]
    },
    {
     "name": "stderr",
     "output_type": "stream",
     "text": [
      "Epoch 76/512: 100%|███████████████████████████████████████████████████████████████████████| 63/63 [00:03<00:00, 20.52it/s]\n"
     ]
    },
    {
     "name": "stdout",
     "output_type": "stream",
     "text": [
      "Epoch 76/512: \n",
      "Train Loss = 0.51738, Train MSE = 0.89619, Train MAE = 0.72635, Train Acc = 0.72709\n",
      "Val Loss = 0.52911, Val MSE = 0.93291, Val MAE = 0.74177, Val Acc = 0.72112\n"
     ]
    },
    {
     "name": "stderr",
     "output_type": "stream",
     "text": [
      "Epoch 77/512: 100%|███████████████████████████████████████████████████████████████████████| 63/63 [00:03<00:00, 20.83it/s]\n"
     ]
    },
    {
     "name": "stdout",
     "output_type": "stream",
     "text": [
      "Epoch 77/512: \n",
      "Train Loss = 0.51648, Train MSE = 0.88189, Train MAE = 0.72717, Train Acc = 0.73381\n",
      "Val Loss = 0.53157, Val MSE = 0.92679, Val MAE = 0.74204, Val Acc = 0.71713\n"
     ]
    },
    {
     "name": "stderr",
     "output_type": "stream",
     "text": [
      "Epoch 78/512: 100%|███████████████████████████████████████████████████████████████████████| 63/63 [00:03<00:00, 20.63it/s]\n"
     ]
    },
    {
     "name": "stdout",
     "output_type": "stream",
     "text": [
      "Epoch 78/512: \n",
      "Train Loss = 0.51538, Train MSE = 0.89690, Train MAE = 0.72498, Train Acc = 0.73830\n",
      "Val Loss = 0.51421, Val MSE = 0.90488, Val MAE = 0.72228, Val Acc = 0.71713\n"
     ]
    },
    {
     "name": "stderr",
     "output_type": "stream",
     "text": [
      "Epoch 79/512: 100%|███████████████████████████████████████████████████████████████████████| 63/63 [00:03<00:00, 20.36it/s]\n"
     ]
    },
    {
     "name": "stdout",
     "output_type": "stream",
     "text": [
      "Epoch 79/512: \n",
      "Train Loss = 0.51226, Train MSE = 0.87777, Train MAE = 0.72238, Train Acc = 0.73606\n",
      "Val Loss = 0.52770, Val MSE = 0.91406, Val MAE = 0.74414, Val Acc = 0.73307\n"
     ]
    },
    {
     "name": "stderr",
     "output_type": "stream",
     "text": [
      "Epoch 80/512: 100%|███████████████████████████████████████████████████████████████████████| 63/63 [00:03<00:00, 20.72it/s]\n"
     ]
    },
    {
     "name": "stdout",
     "output_type": "stream",
     "text": [
      "Epoch 80/512: \n",
      "Train Loss = 0.51683, Train MSE = 0.88653, Train MAE = 0.72798, Train Acc = 0.72933\n",
      "Val Loss = 0.52866, Val MSE = 0.92618, Val MAE = 0.74247, Val Acc = 0.72311\n"
     ]
    },
    {
     "name": "stderr",
     "output_type": "stream",
     "text": [
      "Epoch 81/512: 100%|███████████████████████████████████████████████████████████████████████| 63/63 [00:03<00:00, 20.84it/s]\n"
     ]
    },
    {
     "name": "stdout",
     "output_type": "stream",
     "text": [
      "Epoch 81/512: \n",
      "Train Loss = 0.52237, Train MSE = 0.89109, Train MAE = 0.73500, Train Acc = 0.72161\n",
      "Val Loss = 0.52129, Val MSE = 0.89711, Val MAE = 0.73059, Val Acc = 0.71116\n"
     ]
    },
    {
     "name": "stderr",
     "output_type": "stream",
     "text": [
      "Epoch 82/512: 100%|███████████████████████████████████████████████████████████████████████| 63/63 [00:03<00:00, 20.79it/s]\n"
     ]
    },
    {
     "name": "stdout",
     "output_type": "stream",
     "text": [
      "Epoch 82/512: \n",
      "Train Loss = 0.51095, Train MSE = 0.86967, Train MAE = 0.72042, Train Acc = 0.73108\n",
      "Val Loss = 0.52604, Val MSE = 0.91202, Val MAE = 0.73642, Val Acc = 0.72510\n"
     ]
    },
    {
     "name": "stderr",
     "output_type": "stream",
     "text": [
      "Epoch 83/512: 100%|███████████████████████████████████████████████████████████████████████| 63/63 [00:02<00:00, 21.08it/s]\n"
     ]
    },
    {
     "name": "stdout",
     "output_type": "stream",
     "text": [
      "Epoch 83/512: \n",
      "Train Loss = 0.52338, Train MSE = 0.90662, Train MAE = 0.73392, Train Acc = 0.72859\n",
      "Val Loss = 0.52273, Val MSE = 0.91604, Val MAE = 0.73655, Val Acc = 0.73108\n"
     ]
    },
    {
     "name": "stderr",
     "output_type": "stream",
     "text": [
      "Epoch 84/512: 100%|███████████████████████████████████████████████████████████████████████| 63/63 [00:03<00:00, 20.73it/s]\n"
     ]
    },
    {
     "name": "stdout",
     "output_type": "stream",
     "text": [
      "Epoch 84/512: \n",
      "Train Loss = 0.50761, Train MSE = 0.87473, Train MAE = 0.71730, Train Acc = 0.73581\n",
      "Val Loss = 0.52762, Val MSE = 0.93312, Val MAE = 0.73831, Val Acc = 0.72510\n"
     ]
    },
    {
     "name": "stderr",
     "output_type": "stream",
     "text": [
      "Epoch 85/512: 100%|███████████████████████████████████████████████████████████████████████| 63/63 [00:03<00:00, 20.60it/s]\n"
     ]
    },
    {
     "name": "stdout",
     "output_type": "stream",
     "text": [
      "Epoch 85/512: \n",
      "Train Loss = 0.50724, Train MSE = 0.86820, Train MAE = 0.71650, Train Acc = 0.73705\n",
      "Val Loss = 0.51943, Val MSE = 0.89695, Val MAE = 0.73099, Val Acc = 0.73705\n"
     ]
    },
    {
     "name": "stderr",
     "output_type": "stream",
     "text": [
      "Epoch 86/512: 100%|███████████████████████████████████████████████████████████████████████| 63/63 [00:03<00:00, 20.80it/s]\n"
     ]
    },
    {
     "name": "stdout",
     "output_type": "stream",
     "text": [
      "Epoch 86/512: \n",
      "Train Loss = 0.49625, Train MSE = 0.84242, Train MAE = 0.70418, Train Acc = 0.74851\n",
      "Val Loss = 0.56308, Val MSE = 0.99846, Val MAE = 0.77878, Val Acc = 0.72311\n"
     ]
    },
    {
     "name": "stderr",
     "output_type": "stream",
     "text": [
      "Epoch 87/512: 100%|███████████████████████████████████████████████████████████████████████| 63/63 [00:03<00:00, 20.83it/s]\n"
     ]
    },
    {
     "name": "stdout",
     "output_type": "stream",
     "text": [
      "Epoch 87/512: \n",
      "Train Loss = 0.50714, Train MSE = 0.86640, Train MAE = 0.71644, Train Acc = 0.74253\n",
      "Val Loss = 0.51617, Val MSE = 0.88906, Val MAE = 0.72644, Val Acc = 0.73904\n"
     ]
    },
    {
     "name": "stderr",
     "output_type": "stream",
     "text": [
      "Epoch 88/512: 100%|███████████████████████████████████████████████████████████████████████| 63/63 [00:03<00:00, 20.78it/s]\n"
     ]
    },
    {
     "name": "stdout",
     "output_type": "stream",
     "text": [
      "Epoch 88/512: \n",
      "Train Loss = 0.49898, Train MSE = 0.85813, Train MAE = 0.70646, Train Acc = 0.74427\n",
      "Val Loss = 0.52134, Val MSE = 0.91971, Val MAE = 0.73451, Val Acc = 0.72908\n"
     ]
    },
    {
     "name": "stderr",
     "output_type": "stream",
     "text": [
      "Epoch 89/512: 100%|███████████████████████████████████████████████████████████████████████| 63/63 [00:03<00:00, 20.45it/s]\n"
     ]
    },
    {
     "name": "stdout",
     "output_type": "stream",
     "text": [
      "Epoch 89/512: \n",
      "Train Loss = 0.50269, Train MSE = 0.85959, Train MAE = 0.71239, Train Acc = 0.74701\n",
      "Val Loss = 0.51943, Val MSE = 0.90168, Val MAE = 0.73028, Val Acc = 0.72112\n"
     ]
    },
    {
     "name": "stderr",
     "output_type": "stream",
     "text": [
      "Epoch 90/512: 100%|███████████████████████████████████████████████████████████████████████| 63/63 [00:03<00:00, 20.96it/s]\n"
     ]
    },
    {
     "name": "stdout",
     "output_type": "stream",
     "text": [
      "Epoch 90/512: \n",
      "Train Loss = 0.50467, Train MSE = 0.87399, Train MAE = 0.71190, Train Acc = 0.74328\n",
      "Val Loss = 0.52157, Val MSE = 0.91243, Val MAE = 0.73196, Val Acc = 0.71315\n"
     ]
    },
    {
     "name": "stderr",
     "output_type": "stream",
     "text": [
      "Epoch 91/512: 100%|███████████████████████████████████████████████████████████████████████| 63/63 [00:03<00:00, 20.90it/s]\n"
     ]
    },
    {
     "name": "stdout",
     "output_type": "stream",
     "text": [
      "Epoch 91/512: \n",
      "Train Loss = 0.49912, Train MSE = 0.84832, Train MAE = 0.70837, Train Acc = 0.74726\n",
      "Val Loss = 0.51087, Val MSE = 0.88884, Val MAE = 0.71913, Val Acc = 0.72510\n"
     ]
    },
    {
     "name": "stderr",
     "output_type": "stream",
     "text": [
      "Epoch 92/512: 100%|███████████████████████████████████████████████████████████████████████| 63/63 [00:03<00:00, 20.91it/s]\n"
     ]
    },
    {
     "name": "stdout",
     "output_type": "stream",
     "text": [
      "Epoch 92/512: \n",
      "Train Loss = 0.49749, Train MSE = 0.85809, Train MAE = 0.70581, Train Acc = 0.75050\n",
      "Val Loss = 0.51828, Val MSE = 0.91391, Val MAE = 0.72456, Val Acc = 0.71713\n"
     ]
    },
    {
     "name": "stderr",
     "output_type": "stream",
     "text": [
      "Epoch 93/512: 100%|███████████████████████████████████████████████████████████████████████| 63/63 [00:03<00:00, 20.78it/s]\n"
     ]
    },
    {
     "name": "stdout",
     "output_type": "stream",
     "text": [
      "Epoch 93/512: \n",
      "Train Loss = 0.49231, Train MSE = 0.84199, Train MAE = 0.70050, Train Acc = 0.75423\n",
      "Val Loss = 0.50710, Val MSE = 0.86014, Val MAE = 0.71667, Val Acc = 0.74303\n"
     ]
    },
    {
     "name": "stderr",
     "output_type": "stream",
     "text": [
      "Epoch 94/512: 100%|███████████████████████████████████████████████████████████████████████| 63/63 [00:03<00:00, 20.84it/s]\n"
     ]
    },
    {
     "name": "stdout",
     "output_type": "stream",
     "text": [
      "Epoch 94/512: \n",
      "Train Loss = 0.49461, Train MSE = 0.84350, Train MAE = 0.70390, Train Acc = 0.74776\n",
      "Val Loss = 0.55595, Val MSE = 1.00251, Val MAE = 0.76932, Val Acc = 0.71116\n"
     ]
    },
    {
     "name": "stderr",
     "output_type": "stream",
     "text": [
      "Epoch 95/512: 100%|███████████████████████████████████████████████████████████████████████| 63/63 [00:03<00:00, 20.65it/s]\n"
     ]
    },
    {
     "name": "stdout",
     "output_type": "stream",
     "text": [
      "Epoch 95/512: \n",
      "Train Loss = 0.50857, Train MSE = 0.86983, Train MAE = 0.71836, Train Acc = 0.74054\n",
      "Val Loss = 0.51607, Val MSE = 0.89672, Val MAE = 0.72688, Val Acc = 0.73705\n"
     ]
    },
    {
     "name": "stderr",
     "output_type": "stream",
     "text": [
      "Epoch 96/512: 100%|███████████████████████████████████████████████████████████████████████| 63/63 [00:03<00:00, 20.76it/s]\n"
     ]
    },
    {
     "name": "stdout",
     "output_type": "stream",
     "text": [
      "Epoch 96/512: \n",
      "Train Loss = 0.50643, Train MSE = 0.87428, Train MAE = 0.71593, Train Acc = 0.73929\n",
      "Val Loss = 0.50234, Val MSE = 0.85323, Val MAE = 0.71007, Val Acc = 0.74303\n"
     ]
    },
    {
     "name": "stderr",
     "output_type": "stream",
     "text": [
      "Epoch 97/512: 100%|███████████████████████████████████████████████████████████████████████| 63/63 [00:03<00:00, 20.39it/s]\n"
     ]
    },
    {
     "name": "stdout",
     "output_type": "stream",
     "text": [
      "Epoch 97/512: \n",
      "Train Loss = 0.50722, Train MSE = 0.87113, Train MAE = 0.71757, Train Acc = 0.73904\n",
      "Val Loss = 0.51344, Val MSE = 0.89953, Val MAE = 0.72175, Val Acc = 0.73705\n"
     ]
    },
    {
     "name": "stderr",
     "output_type": "stream",
     "text": [
      "Epoch 98/512: 100%|███████████████████████████████████████████████████████████████████████| 63/63 [00:03<00:00, 20.76it/s]\n"
     ]
    },
    {
     "name": "stdout",
     "output_type": "stream",
     "text": [
      "Epoch 98/512: \n",
      "Train Loss = 0.50277, Train MSE = 0.86138, Train MAE = 0.71202, Train Acc = 0.74651\n",
      "Val Loss = 0.53792, Val MSE = 0.95770, Val MAE = 0.74973, Val Acc = 0.71514\n"
     ]
    },
    {
     "name": "stderr",
     "output_type": "stream",
     "text": [
      "Epoch 99/512: 100%|███████████████████████████████████████████████████████████████████████| 63/63 [00:03<00:00, 20.82it/s]\n"
     ]
    },
    {
     "name": "stdout",
     "output_type": "stream",
     "text": [
      "Epoch 99/512: \n",
      "Train Loss = 0.49238, Train MSE = 0.84252, Train MAE = 0.70053, Train Acc = 0.75249\n",
      "Val Loss = 0.51654, Val MSE = 0.89436, Val MAE = 0.72461, Val Acc = 0.72311\n"
     ]
    },
    {
     "name": "stderr",
     "output_type": "stream",
     "text": [
      "Epoch 100/512: 100%|██████████████████████████████████████████████████████████████████████| 63/63 [00:03<00:00, 20.86it/s]\n"
     ]
    },
    {
     "name": "stdout",
     "output_type": "stream",
     "text": [
      "Epoch 100/512: \n",
      "Train Loss = 0.49703, Train MSE = 0.85105, Train MAE = 0.70540, Train Acc = 0.74402\n",
      "Val Loss = 0.51665, Val MSE = 0.89729, Val MAE = 0.72769, Val Acc = 0.72709\n"
     ]
    },
    {
     "name": "stderr",
     "output_type": "stream",
     "text": [
      "Epoch 101/512: 100%|██████████████████████████████████████████████████████████████████████| 63/63 [00:03<00:00, 20.84it/s]\n"
     ]
    },
    {
     "name": "stdout",
     "output_type": "stream",
     "text": [
      "Epoch 101/512: \n",
      "Train Loss = 0.48578, Train MSE = 0.83262, Train MAE = 0.69377, Train Acc = 0.76220\n",
      "Val Loss = 0.49904, Val MSE = 0.85311, Val MAE = 0.70929, Val Acc = 0.74900\n"
     ]
    },
    {
     "name": "stderr",
     "output_type": "stream",
     "text": [
      "Epoch 102/512: 100%|██████████████████████████████████████████████████████████████████████| 63/63 [00:03<00:00, 20.92it/s]\n"
     ]
    },
    {
     "name": "stdout",
     "output_type": "stream",
     "text": [
      "Epoch 102/512: \n",
      "Train Loss = 0.46842, Train MSE = 0.78772, Train MAE = 0.67219, Train Acc = 0.76220\n",
      "Val Loss = 0.50277, Val MSE = 0.87096, Val MAE = 0.71284, Val Acc = 0.74303\n"
     ]
    },
    {
     "name": "stderr",
     "output_type": "stream",
     "text": [
      "Epoch 103/512: 100%|██████████████████████████████████████████████████████████████████████| 63/63 [00:03<00:00, 20.65it/s]\n"
     ]
    },
    {
     "name": "stdout",
     "output_type": "stream",
     "text": [
      "Epoch 103/512: \n",
      "Train Loss = 0.49366, Train MSE = 0.84874, Train MAE = 0.70165, Train Acc = 0.75324\n",
      "Val Loss = 0.50831, Val MSE = 0.87418, Val MAE = 0.71917, Val Acc = 0.72709\n"
     ]
    },
    {
     "name": "stderr",
     "output_type": "stream",
     "text": [
      "Epoch 104/512: 100%|██████████████████████████████████████████████████████████████████████| 63/63 [00:03<00:00, 20.93it/s]\n"
     ]
    },
    {
     "name": "stdout",
     "output_type": "stream",
     "text": [
      "Epoch 104/512: \n",
      "Train Loss = 0.48362, Train MSE = 0.82997, Train MAE = 0.69027, Train Acc = 0.75921\n",
      "Val Loss = 0.51342, Val MSE = 0.88488, Val MAE = 0.72500, Val Acc = 0.73904\n"
     ]
    },
    {
     "name": "stderr",
     "output_type": "stream",
     "text": [
      "Epoch 105/512: 100%|██████████████████████████████████████████████████████████████████████| 63/63 [00:03<00:00, 21.00it/s]\n"
     ]
    },
    {
     "name": "stdout",
     "output_type": "stream",
     "text": [
      "Epoch 105/512: \n",
      "Train Loss = 0.48271, Train MSE = 0.81567, Train MAE = 0.69173, Train Acc = 0.75996\n",
      "Val Loss = 0.51646, Val MSE = 0.89468, Val MAE = 0.72934, Val Acc = 0.73705\n"
     ]
    },
    {
     "name": "stderr",
     "output_type": "stream",
     "text": [
      "Epoch 106/512: 100%|██████████████████████████████████████████████████████████████████████| 63/63 [00:03<00:00, 20.80it/s]\n"
     ]
    },
    {
     "name": "stdout",
     "output_type": "stream",
     "text": [
      "Epoch 106/512: \n",
      "Train Loss = 0.47992, Train MSE = 0.82145, Train MAE = 0.68682, Train Acc = 0.75623\n",
      "Val Loss = 0.50709, Val MSE = 0.88343, Val MAE = 0.71465, Val Acc = 0.73904\n"
     ]
    },
    {
     "name": "stderr",
     "output_type": "stream",
     "text": [
      "Epoch 107/512: 100%|██████████████████████████████████████████████████████████████████████| 63/63 [00:03<00:00, 20.31it/s]\n"
     ]
    },
    {
     "name": "stdout",
     "output_type": "stream",
     "text": [
      "Epoch 107/512: \n",
      "Train Loss = 0.48495, Train MSE = 0.81481, Train MAE = 0.69243, Train Acc = 0.75523\n",
      "Val Loss = 0.50979, Val MSE = 0.86956, Val MAE = 0.72057, Val Acc = 0.74900\n"
     ]
    },
    {
     "name": "stderr",
     "output_type": "stream",
     "text": [
      "Epoch 108/512: 100%|██████████████████████████████████████████████████████████████████████| 63/63 [00:03<00:00, 20.86it/s]\n"
     ]
    },
    {
     "name": "stdout",
     "output_type": "stream",
     "text": [
      "Epoch 108/512: \n",
      "Train Loss = 0.48732, Train MSE = 0.83812, Train MAE = 0.69356, Train Acc = 0.75398\n",
      "Val Loss = 0.49807, Val MSE = 0.84500, Val MAE = 0.70572, Val Acc = 0.74104\n"
     ]
    },
    {
     "name": "stderr",
     "output_type": "stream",
     "text": [
      "Epoch 109/512: 100%|██████████████████████████████████████████████████████████████████████| 63/63 [00:03<00:00, 20.67it/s]\n"
     ]
    },
    {
     "name": "stdout",
     "output_type": "stream",
     "text": [
      "Epoch 109/512: \n",
      "Train Loss = 0.47996, Train MSE = 0.82009, Train MAE = 0.68526, Train Acc = 0.75946\n",
      "Val Loss = 0.50963, Val MSE = 0.87815, Val MAE = 0.71857, Val Acc = 0.73904\n"
     ]
    },
    {
     "name": "stderr",
     "output_type": "stream",
     "text": [
      "Epoch 110/512: 100%|██████████████████████████████████████████████████████████████████████| 63/63 [00:03<00:00, 20.56it/s]\n"
     ]
    },
    {
     "name": "stdout",
     "output_type": "stream",
     "text": [
      "Epoch 110/512: \n",
      "Train Loss = 0.48694, Train MSE = 0.83147, Train MAE = 0.69482, Train Acc = 0.75623\n",
      "Val Loss = 0.50060, Val MSE = 0.85478, Val MAE = 0.70726, Val Acc = 0.74502\n"
     ]
    },
    {
     "name": "stderr",
     "output_type": "stream",
     "text": [
      "Epoch 111/512: 100%|██████████████████████████████████████████████████████████████████████| 63/63 [00:03<00:00, 20.57it/s]\n"
     ]
    },
    {
     "name": "stdout",
     "output_type": "stream",
     "text": [
      "Epoch 111/512: \n",
      "Train Loss = 0.48281, Train MSE = 0.82245, Train MAE = 0.69032, Train Acc = 0.75847\n",
      "Val Loss = 0.50088, Val MSE = 0.85359, Val MAE = 0.71397, Val Acc = 0.74900\n"
     ]
    },
    {
     "name": "stderr",
     "output_type": "stream",
     "text": [
      "Epoch 112/512: 100%|██████████████████████████████████████████████████████████████████████| 63/63 [00:03<00:00, 21.00it/s]\n"
     ]
    },
    {
     "name": "stdout",
     "output_type": "stream",
     "text": [
      "Epoch 112/512: \n",
      "Train Loss = 0.47550, Train MSE = 0.80939, Train MAE = 0.68224, Train Acc = 0.76868\n",
      "Val Loss = 0.51921, Val MSE = 0.90099, Val MAE = 0.73008, Val Acc = 0.71514\n"
     ]
    },
    {
     "name": "stderr",
     "output_type": "stream",
     "text": [
      "Epoch 113/512: 100%|██████████████████████████████████████████████████████████████████████| 63/63 [00:03<00:00, 20.96it/s]\n"
     ]
    },
    {
     "name": "stdout",
     "output_type": "stream",
     "text": [
      "Epoch 113/512: \n",
      "Train Loss = 0.46929, Train MSE = 0.80044, Train MAE = 0.67488, Train Acc = 0.76643\n",
      "Val Loss = 0.50155, Val MSE = 0.85856, Val MAE = 0.70947, Val Acc = 0.73705\n"
     ]
    },
    {
     "name": "stderr",
     "output_type": "stream",
     "text": [
      "Epoch 114/512: 100%|██████████████████████████████████████████████████████████████████████| 63/63 [00:03<00:00, 20.92it/s]\n"
     ]
    },
    {
     "name": "stdout",
     "output_type": "stream",
     "text": [
      "Epoch 114/512: \n",
      "Train Loss = 0.46638, Train MSE = 0.79320, Train MAE = 0.67222, Train Acc = 0.77141\n",
      "Val Loss = 0.49728, Val MSE = 0.85707, Val MAE = 0.70602, Val Acc = 0.76295\n"
     ]
    },
    {
     "name": "stderr",
     "output_type": "stream",
     "text": [
      "Epoch 115/512: 100%|██████████████████████████████████████████████████████████████████████| 63/63 [00:03<00:00, 20.73it/s]\n"
     ]
    },
    {
     "name": "stdout",
     "output_type": "stream",
     "text": [
      "Epoch 115/512: \n",
      "Train Loss = 0.45984, Train MSE = 0.76921, Train MAE = 0.66436, Train Acc = 0.76967\n",
      "Val Loss = 0.49174, Val MSE = 0.84463, Val MAE = 0.70051, Val Acc = 0.74701\n"
     ]
    },
    {
     "name": "stderr",
     "output_type": "stream",
     "text": [
      "Epoch 116/512: 100%|██████████████████████████████████████████████████████████████████████| 63/63 [00:03<00:00, 20.40it/s]\n"
     ]
    },
    {
     "name": "stdout",
     "output_type": "stream",
     "text": [
      "Epoch 116/512: \n",
      "Train Loss = 0.46209, Train MSE = 0.77474, Train MAE = 0.66885, Train Acc = 0.77341\n",
      "Val Loss = 0.49709, Val MSE = 0.86846, Val MAE = 0.70571, Val Acc = 0.74900\n"
     ]
    },
    {
     "name": "stderr",
     "output_type": "stream",
     "text": [
      "Epoch 117/512: 100%|██████████████████████████████████████████████████████████████████████| 63/63 [00:03<00:00, 20.77it/s]\n"
     ]
    },
    {
     "name": "stdout",
     "output_type": "stream",
     "text": [
      "Epoch 117/512: \n",
      "Train Loss = 0.46094, Train MSE = 0.77413, Train MAE = 0.66578, Train Acc = 0.77216\n",
      "Val Loss = 0.48660, Val MSE = 0.83262, Val MAE = 0.69546, Val Acc = 0.77092\n"
     ]
    },
    {
     "name": "stderr",
     "output_type": "stream",
     "text": [
      "Epoch 118/512: 100%|██████████████████████████████████████████████████████████████████████| 63/63 [00:03<00:00, 20.39it/s]\n"
     ]
    },
    {
     "name": "stdout",
     "output_type": "stream",
     "text": [
      "Epoch 118/512: \n",
      "Train Loss = 0.46582, Train MSE = 0.78935, Train MAE = 0.67254, Train Acc = 0.76992\n",
      "Val Loss = 0.48758, Val MSE = 0.82347, Val MAE = 0.69507, Val Acc = 0.76494\n"
     ]
    },
    {
     "name": "stderr",
     "output_type": "stream",
     "text": [
      "Epoch 119/512: 100%|██████████████████████████████████████████████████████████████████████| 63/63 [00:02<00:00, 21.03it/s]\n"
     ]
    },
    {
     "name": "stdout",
     "output_type": "stream",
     "text": [
      "Epoch 119/512: \n",
      "Train Loss = 0.46059, Train MSE = 0.77424, Train MAE = 0.66539, Train Acc = 0.76967\n",
      "Val Loss = 0.48659, Val MSE = 0.82423, Val MAE = 0.69382, Val Acc = 0.75299\n"
     ]
    },
    {
     "name": "stderr",
     "output_type": "stream",
     "text": [
      "Epoch 120/512: 100%|██████████████████████████████████████████████████████████████████████| 63/63 [00:03<00:00, 20.80it/s]\n"
     ]
    },
    {
     "name": "stdout",
     "output_type": "stream",
     "text": [
      "Epoch 120/512: \n",
      "Train Loss = 0.45574, Train MSE = 0.76986, Train MAE = 0.66005, Train Acc = 0.77789\n",
      "Val Loss = 0.48733, Val MSE = 0.82176, Val MAE = 0.69709, Val Acc = 0.75498\n"
     ]
    },
    {
     "name": "stderr",
     "output_type": "stream",
     "text": [
      "Epoch 121/512: 100%|██████████████████████████████████████████████████████████████████████| 63/63 [00:03<00:00, 20.74it/s]\n"
     ]
    },
    {
     "name": "stdout",
     "output_type": "stream",
     "text": [
      "Epoch 121/512: \n",
      "Train Loss = 0.45226, Train MSE = 0.75467, Train MAE = 0.65832, Train Acc = 0.78436\n",
      "Val Loss = 0.49394, Val MSE = 0.85221, Val MAE = 0.70351, Val Acc = 0.75299\n"
     ]
    },
    {
     "name": "stderr",
     "output_type": "stream",
     "text": [
      "Epoch 122/512: 100%|██████████████████████████████████████████████████████████████████████| 63/63 [00:03<00:00, 20.69it/s]\n"
     ]
    },
    {
     "name": "stdout",
     "output_type": "stream",
     "text": [
      "Epoch 122/512: \n",
      "Train Loss = 0.45457, Train MSE = 0.75924, Train MAE = 0.65990, Train Acc = 0.77789\n",
      "Val Loss = 0.49645, Val MSE = 0.85370, Val MAE = 0.70254, Val Acc = 0.75100\n"
     ]
    },
    {
     "name": "stderr",
     "output_type": "stream",
     "text": [
      "Epoch 123/512: 100%|██████████████████████████████████████████████████████████████████████| 63/63 [00:03<00:00, 20.34it/s]\n"
     ]
    },
    {
     "name": "stdout",
     "output_type": "stream",
     "text": [
      "Epoch 123/512: \n",
      "Train Loss = 0.47407, Train MSE = 0.80562, Train MAE = 0.68175, Train Acc = 0.77117\n",
      "Val Loss = 0.48772, Val MSE = 0.83591, Val MAE = 0.69772, Val Acc = 0.76892\n"
     ]
    },
    {
     "name": "stderr",
     "output_type": "stream",
     "text": [
      "Epoch 124/512: 100%|██████████████████████████████████████████████████████████████████████| 63/63 [00:03<00:00, 20.81it/s]\n"
     ]
    },
    {
     "name": "stdout",
     "output_type": "stream",
     "text": [
      "Epoch 124/512: \n",
      "Train Loss = 0.45710, Train MSE = 0.77230, Train MAE = 0.66216, Train Acc = 0.77764\n",
      "Val Loss = 0.48718, Val MSE = 0.83467, Val MAE = 0.69498, Val Acc = 0.75896\n"
     ]
    },
    {
     "name": "stderr",
     "output_type": "stream",
     "text": [
      "Epoch 125/512: 100%|██████████████████████████████████████████████████████████████████████| 63/63 [00:02<00:00, 21.25it/s]\n"
     ]
    },
    {
     "name": "stdout",
     "output_type": "stream",
     "text": [
      "Epoch 125/512: \n",
      "Train Loss = 0.44655, Train MSE = 0.74616, Train MAE = 0.64840, Train Acc = 0.78113\n",
      "Val Loss = 0.49033, Val MSE = 0.83595, Val MAE = 0.69629, Val Acc = 0.75498\n"
     ]
    },
    {
     "name": "stderr",
     "output_type": "stream",
     "text": [
      "Epoch 126/512: 100%|██████████████████████████████████████████████████████████████████████| 63/63 [00:03<00:00, 20.89it/s]\n"
     ]
    },
    {
     "name": "stdout",
     "output_type": "stream",
     "text": [
      "Epoch 126/512: \n",
      "Train Loss = 0.45102, Train MSE = 0.75061, Train MAE = 0.65578, Train Acc = 0.78063\n",
      "Val Loss = 0.48994, Val MSE = 0.84060, Val MAE = 0.69812, Val Acc = 0.76892\n"
     ]
    },
    {
     "name": "stderr",
     "output_type": "stream",
     "text": [
      "Epoch 127/512: 100%|██████████████████████████████████████████████████████████████████████| 63/63 [00:03<00:00, 20.94it/s]\n"
     ]
    },
    {
     "name": "stdout",
     "output_type": "stream",
     "text": [
      "Epoch 127/512: \n",
      "Train Loss = 0.45150, Train MSE = 0.75895, Train MAE = 0.65671, Train Acc = 0.78063\n",
      "Val Loss = 0.48476, Val MSE = 0.82914, Val MAE = 0.69338, Val Acc = 0.76693\n"
     ]
    },
    {
     "name": "stderr",
     "output_type": "stream",
     "text": [
      "Epoch 128/512: 100%|██████████████████████████████████████████████████████████████████████| 63/63 [00:03<00:00, 20.81it/s]\n"
     ]
    },
    {
     "name": "stdout",
     "output_type": "stream",
     "text": [
      "Epoch 128/512: \n",
      "Train Loss = 0.45629, Train MSE = 0.77461, Train MAE = 0.66158, Train Acc = 0.77789\n",
      "Val Loss = 0.49232, Val MSE = 0.83809, Val MAE = 0.70042, Val Acc = 0.75697\n"
     ]
    },
    {
     "name": "stderr",
     "output_type": "stream",
     "text": [
      "Epoch 129/512: 100%|██████████████████████████████████████████████████████████████████████| 63/63 [00:03<00:00, 20.80it/s]\n"
     ]
    },
    {
     "name": "stdout",
     "output_type": "stream",
     "text": [
      "Epoch 129/512: \n",
      "Train Loss = 0.45764, Train MSE = 0.77806, Train MAE = 0.66154, Train Acc = 0.77839\n",
      "Val Loss = 0.47760, Val MSE = 0.80976, Val MAE = 0.68430, Val Acc = 0.76295\n"
     ]
    },
    {
     "name": "stderr",
     "output_type": "stream",
     "text": [
      "Epoch 130/512: 100%|██████████████████████████████████████████████████████████████████████| 63/63 [00:03<00:00, 20.75it/s]\n"
     ]
    },
    {
     "name": "stdout",
     "output_type": "stream",
     "text": [
      "Epoch 130/512: \n",
      "Train Loss = 0.45637, Train MSE = 0.77456, Train MAE = 0.65944, Train Acc = 0.77415\n",
      "Val Loss = 0.47329, Val MSE = 0.80107, Val MAE = 0.67822, Val Acc = 0.75697\n"
     ]
    },
    {
     "name": "stderr",
     "output_type": "stream",
     "text": [
      "Epoch 131/512: 100%|██████████████████████████████████████████████████████████████████████| 63/63 [00:03<00:00, 20.73it/s]\n"
     ]
    },
    {
     "name": "stdout",
     "output_type": "stream",
     "text": [
      "Epoch 131/512: \n",
      "Train Loss = 0.45637, Train MSE = 0.77179, Train MAE = 0.66071, Train Acc = 0.77540\n",
      "Val Loss = 0.48821, Val MSE = 0.83564, Val MAE = 0.70005, Val Acc = 0.76494\n"
     ]
    },
    {
     "name": "stderr",
     "output_type": "stream",
     "text": [
      "Epoch 132/512: 100%|██████████████████████████████████████████████████████████████████████| 63/63 [00:03<00:00, 20.94it/s]\n"
     ]
    },
    {
     "name": "stdout",
     "output_type": "stream",
     "text": [
      "Epoch 132/512: \n",
      "Train Loss = 0.44341, Train MSE = 0.74397, Train MAE = 0.64595, Train Acc = 0.78212\n",
      "Val Loss = 0.49385, Val MSE = 0.84725, Val MAE = 0.70489, Val Acc = 0.76892\n"
     ]
    },
    {
     "name": "stderr",
     "output_type": "stream",
     "text": [
      "Epoch 133/512: 100%|██████████████████████████████████████████████████████████████████████| 63/63 [00:03<00:00, 20.63it/s]\n"
     ]
    },
    {
     "name": "stdout",
     "output_type": "stream",
     "text": [
      "Epoch 133/512: \n",
      "Train Loss = 0.44832, Train MSE = 0.76082, Train MAE = 0.65247, Train Acc = 0.77864\n",
      "Val Loss = 0.47473, Val MSE = 0.80501, Val MAE = 0.68350, Val Acc = 0.77490\n"
     ]
    },
    {
     "name": "stderr",
     "output_type": "stream",
     "text": [
      "Epoch 134/512: 100%|██████████████████████████████████████████████████████████████████████| 63/63 [00:03<00:00, 20.82it/s]\n"
     ]
    },
    {
     "name": "stdout",
     "output_type": "stream",
     "text": [
      "Epoch 134/512: \n",
      "Train Loss = 0.44300, Train MSE = 0.74369, Train MAE = 0.64646, Train Acc = 0.79208\n",
      "Val Loss = 0.47973, Val MSE = 0.83205, Val MAE = 0.68928, Val Acc = 0.76494\n"
     ]
    },
    {
     "name": "stderr",
     "output_type": "stream",
     "text": [
      "Epoch 135/512: 100%|██████████████████████████████████████████████████████████████████████| 63/63 [00:03<00:00, 20.97it/s]\n"
     ]
    },
    {
     "name": "stdout",
     "output_type": "stream",
     "text": [
      "Epoch 135/512: \n",
      "Train Loss = 0.45155, Train MSE = 0.75967, Train MAE = 0.65571, Train Acc = 0.78411\n",
      "Val Loss = 0.47552, Val MSE = 0.81297, Val MAE = 0.68094, Val Acc = 0.76096\n"
     ]
    },
    {
     "name": "stderr",
     "output_type": "stream",
     "text": [
      "Epoch 136/512: 100%|██████████████████████████████████████████████████████████████████████| 63/63 [00:03<00:00, 20.36it/s]\n"
     ]
    },
    {
     "name": "stdout",
     "output_type": "stream",
     "text": [
      "Epoch 136/512: \n",
      "Train Loss = 0.46370, Train MSE = 0.77429, Train MAE = 0.67088, Train Acc = 0.77590\n",
      "Val Loss = 0.47393, Val MSE = 0.80310, Val MAE = 0.67991, Val Acc = 0.76693\n"
     ]
    },
    {
     "name": "stderr",
     "output_type": "stream",
     "text": [
      "Epoch 137/512: 100%|██████████████████████████████████████████████████████████████████████| 63/63 [00:02<00:00, 21.11it/s]\n"
     ]
    },
    {
     "name": "stdout",
     "output_type": "stream",
     "text": [
      "Epoch 137/512: \n",
      "Train Loss = 0.44984, Train MSE = 0.75435, Train MAE = 0.65417, Train Acc = 0.78486\n",
      "Val Loss = 0.47044, Val MSE = 0.80635, Val MAE = 0.67839, Val Acc = 0.76693\n"
     ]
    },
    {
     "name": "stderr",
     "output_type": "stream",
     "text": [
      "Epoch 138/512: 100%|██████████████████████████████████████████████████████████████████████| 63/63 [00:03<00:00, 20.37it/s]\n"
     ]
    },
    {
     "name": "stdout",
     "output_type": "stream",
     "text": [
      "Epoch 138/512: \n",
      "Train Loss = 0.44917, Train MSE = 0.75033, Train MAE = 0.65417, Train Acc = 0.78088\n",
      "Val Loss = 0.47245, Val MSE = 0.80741, Val MAE = 0.67833, Val Acc = 0.76693\n"
     ]
    },
    {
     "name": "stderr",
     "output_type": "stream",
     "text": [
      "Epoch 139/512: 100%|██████████████████████████████████████████████████████████████████████| 63/63 [00:03<00:00, 20.68it/s]\n"
     ]
    },
    {
     "name": "stdout",
     "output_type": "stream",
     "text": [
      "Epoch 139/512: \n",
      "Train Loss = 0.44654, Train MSE = 0.74856, Train MAE = 0.65104, Train Acc = 0.78536\n",
      "Val Loss = 0.47600, Val MSE = 0.81449, Val MAE = 0.68395, Val Acc = 0.76693\n"
     ]
    },
    {
     "name": "stderr",
     "output_type": "stream",
     "text": [
      "Epoch 140/512: 100%|██████████████████████████████████████████████████████████████████████| 63/63 [00:03<00:00, 20.72it/s]\n"
     ]
    },
    {
     "name": "stdout",
     "output_type": "stream",
     "text": [
      "Epoch 140/512: \n",
      "Train Loss = 0.44279, Train MSE = 0.74537, Train MAE = 0.64568, Train Acc = 0.78860\n",
      "Val Loss = 0.46896, Val MSE = 0.78585, Val MAE = 0.67559, Val Acc = 0.77888\n"
     ]
    },
    {
     "name": "stderr",
     "output_type": "stream",
     "text": [
      "Epoch 141/512: 100%|██████████████████████████████████████████████████████████████████████| 63/63 [00:03<00:00, 20.63it/s]\n"
     ]
    },
    {
     "name": "stdout",
     "output_type": "stream",
     "text": [
      "Epoch 141/512: \n",
      "Train Loss = 0.44711, Train MSE = 0.74789, Train MAE = 0.65273, Train Acc = 0.79133\n",
      "Val Loss = 0.46754, Val MSE = 0.79588, Val MAE = 0.67539, Val Acc = 0.78884\n"
     ]
    },
    {
     "name": "stderr",
     "output_type": "stream",
     "text": [
      "Epoch 142/512: 100%|██████████████████████████████████████████████████████████████████████| 63/63 [00:03<00:00, 20.68it/s]\n"
     ]
    },
    {
     "name": "stdout",
     "output_type": "stream",
     "text": [
      "Epoch 142/512: \n",
      "Train Loss = 0.45358, Train MSE = 0.76697, Train MAE = 0.65856, Train Acc = 0.78287\n",
      "Val Loss = 0.47642, Val MSE = 0.81810, Val MAE = 0.68450, Val Acc = 0.77689\n"
     ]
    },
    {
     "name": "stderr",
     "output_type": "stream",
     "text": [
      "Epoch 143/512: 100%|██████████████████████████████████████████████████████████████████████| 63/63 [00:03<00:00, 20.79it/s]\n"
     ]
    },
    {
     "name": "stdout",
     "output_type": "stream",
     "text": [
      "Epoch 143/512: \n",
      "Train Loss = 0.45088, Train MSE = 0.76251, Train MAE = 0.65365, Train Acc = 0.77490\n",
      "Val Loss = 0.46757, Val MSE = 0.79302, Val MAE = 0.67437, Val Acc = 0.77888\n"
     ]
    },
    {
     "name": "stderr",
     "output_type": "stream",
     "text": [
      "Epoch 144/512: 100%|██████████████████████████████████████████████████████████████████████| 63/63 [00:02<00:00, 21.05it/s]\n"
     ]
    },
    {
     "name": "stdout",
     "output_type": "stream",
     "text": [
      "Epoch 144/512: \n",
      "Train Loss = 0.44777, Train MSE = 0.75403, Train MAE = 0.65011, Train Acc = 0.78212\n",
      "Val Loss = 0.46955, Val MSE = 0.79246, Val MAE = 0.67644, Val Acc = 0.76494\n"
     ]
    },
    {
     "name": "stderr",
     "output_type": "stream",
     "text": [
      "Epoch 145/512: 100%|██████████████████████████████████████████████████████████████████████| 63/63 [00:03<00:00, 20.95it/s]\n"
     ]
    },
    {
     "name": "stdout",
     "output_type": "stream",
     "text": [
      "Epoch 145/512: \n",
      "Train Loss = 0.44769, Train MSE = 0.74497, Train MAE = 0.65184, Train Acc = 0.78710\n",
      "Val Loss = 0.47247, Val MSE = 0.81372, Val MAE = 0.67944, Val Acc = 0.76892\n"
     ]
    },
    {
     "name": "stderr",
     "output_type": "stream",
     "text": [
      "Epoch 146/512: 100%|██████████████████████████████████████████████████████████████████████| 63/63 [00:03<00:00, 20.80it/s]\n"
     ]
    },
    {
     "name": "stdout",
     "output_type": "stream",
     "text": [
      "Epoch 146/512: \n",
      "Train Loss = 0.43656, Train MSE = 0.73511, Train MAE = 0.63857, Train Acc = 0.79880\n",
      "Val Loss = 0.47712, Val MSE = 0.82383, Val MAE = 0.68548, Val Acc = 0.76693\n"
     ]
    },
    {
     "name": "stderr",
     "output_type": "stream",
     "text": [
      "Epoch 147/512: 100%|██████████████████████████████████████████████████████████████████████| 63/63 [00:03<00:00, 20.88it/s]\n"
     ]
    },
    {
     "name": "stdout",
     "output_type": "stream",
     "text": [
      "Epoch 147/512: \n",
      "Train Loss = 0.44543, Train MSE = 0.74862, Train MAE = 0.64950, Train Acc = 0.78934\n",
      "Val Loss = 0.47022, Val MSE = 0.80494, Val MAE = 0.67690, Val Acc = 0.78884\n"
     ]
    },
    {
     "name": "stderr",
     "output_type": "stream",
     "text": [
      "Epoch 148/512: 100%|██████████████████████████████████████████████████████████████████████| 63/63 [00:03<00:00, 20.51it/s]\n"
     ]
    },
    {
     "name": "stdout",
     "output_type": "stream",
     "text": [
      "Epoch 148/512: \n",
      "Train Loss = 0.43876, Train MSE = 0.73138, Train MAE = 0.64330, Train Acc = 0.79084\n",
      "Val Loss = 0.47853, Val MSE = 0.83176, Val MAE = 0.68385, Val Acc = 0.75299\n"
     ]
    },
    {
     "name": "stderr",
     "output_type": "stream",
     "text": [
      "Epoch 149/512: 100%|██████████████████████████████████████████████████████████████████████| 63/63 [00:03<00:00, 20.82it/s]\n"
     ]
    },
    {
     "name": "stdout",
     "output_type": "stream",
     "text": [
      "Epoch 149/512: \n",
      "Train Loss = 0.45014, Train MSE = 0.74990, Train MAE = 0.65625, Train Acc = 0.78436\n",
      "Val Loss = 0.46416, Val MSE = 0.79166, Val MAE = 0.67171, Val Acc = 0.76494\n"
     ]
    },
    {
     "name": "stderr",
     "output_type": "stream",
     "text": [
      "Epoch 150/512: 100%|██████████████████████████████████████████████████████████████████████| 63/63 [00:02<00:00, 21.03it/s]\n"
     ]
    },
    {
     "name": "stdout",
     "output_type": "stream",
     "text": [
      "Epoch 150/512: \n",
      "Train Loss = 0.44748, Train MSE = 0.74434, Train MAE = 0.65200, Train Acc = 0.77938\n",
      "Val Loss = 0.47120, Val MSE = 0.80660, Val MAE = 0.67870, Val Acc = 0.76693\n"
     ]
    },
    {
     "name": "stderr",
     "output_type": "stream",
     "text": [
      "Epoch 151/512: 100%|██████████████████████████████████████████████████████████████████████| 63/63 [00:02<00:00, 21.14it/s]\n"
     ]
    },
    {
     "name": "stdout",
     "output_type": "stream",
     "text": [
      "Epoch 151/512: \n",
      "Train Loss = 0.44876, Train MSE = 0.74914, Train MAE = 0.65284, Train Acc = 0.78362\n",
      "Val Loss = 0.48476, Val MSE = 0.84229, Val MAE = 0.68994, Val Acc = 0.75498\n"
     ]
    },
    {
     "name": "stderr",
     "output_type": "stream",
     "text": [
      "Epoch 152/512: 100%|██████████████████████████████████████████████████████████████████████| 63/63 [00:02<00:00, 21.18it/s]\n"
     ]
    },
    {
     "name": "stdout",
     "output_type": "stream",
     "text": [
      "Epoch 152/512: \n",
      "Train Loss = 0.44223, Train MSE = 0.74268, Train MAE = 0.64563, Train Acc = 0.78486\n",
      "Val Loss = 0.47324, Val MSE = 0.81271, Val MAE = 0.67932, Val Acc = 0.77689\n"
     ]
    },
    {
     "name": "stderr",
     "output_type": "stream",
     "text": [
      "Epoch 153/512: 100%|██████████████████████████████████████████████████████████████████████| 63/63 [00:03<00:00, 20.85it/s]\n"
     ]
    },
    {
     "name": "stdout",
     "output_type": "stream",
     "text": [
      "Epoch 153/512: \n",
      "Train Loss = 0.43983, Train MSE = 0.73188, Train MAE = 0.64438, Train Acc = 0.79283\n",
      "Val Loss = 0.47652, Val MSE = 0.81742, Val MAE = 0.68294, Val Acc = 0.76892\n"
     ]
    },
    {
     "name": "stderr",
     "output_type": "stream",
     "text": [
      "Epoch 154/512: 100%|██████████████████████████████████████████████████████████████████████| 63/63 [00:03<00:00, 20.85it/s]\n"
     ]
    },
    {
     "name": "stdout",
     "output_type": "stream",
     "text": [
      "Epoch 154/512: \n",
      "Train Loss = 0.43710, Train MSE = 0.72795, Train MAE = 0.63892, Train Acc = 0.78561\n",
      "Val Loss = 0.47602, Val MSE = 0.81663, Val MAE = 0.68156, Val Acc = 0.76295\n"
     ]
    },
    {
     "name": "stderr",
     "output_type": "stream",
     "text": [
      "Epoch 155/512: 100%|██████████████████████████████████████████████████████████████████████| 63/63 [00:03<00:00, 20.69it/s]\n"
     ]
    },
    {
     "name": "stdout",
     "output_type": "stream",
     "text": [
      "Epoch 155/512: \n",
      "Train Loss = 0.43687, Train MSE = 0.73035, Train MAE = 0.64032, Train Acc = 0.78835\n",
      "Val Loss = 0.46563, Val MSE = 0.78459, Val MAE = 0.67209, Val Acc = 0.77490\n"
     ]
    },
    {
     "name": "stderr",
     "output_type": "stream",
     "text": [
      "Epoch 156/512: 100%|██████████████████████████████████████████████████████████████████████| 63/63 [00:02<00:00, 21.06it/s]\n"
     ]
    },
    {
     "name": "stdout",
     "output_type": "stream",
     "text": [
      "Epoch 156/512: \n",
      "Train Loss = 0.44403, Train MSE = 0.74869, Train MAE = 0.64697, Train Acc = 0.77963\n",
      "Val Loss = 0.47109, Val MSE = 0.80425, Val MAE = 0.68006, Val Acc = 0.77689\n"
     ]
    },
    {
     "name": "stderr",
     "output_type": "stream",
     "text": [
      "Epoch 157/512: 100%|██████████████████████████████████████████████████████████████████████| 63/63 [00:03<00:00, 20.58it/s]\n"
     ]
    },
    {
     "name": "stdout",
     "output_type": "stream",
     "text": [
      "Epoch 157/512: \n",
      "Train Loss = 0.44583, Train MSE = 0.74349, Train MAE = 0.65022, Train Acc = 0.78785\n",
      "Val Loss = 0.46931, Val MSE = 0.79830, Val MAE = 0.67617, Val Acc = 0.76892\n"
     ]
    },
    {
     "name": "stderr",
     "output_type": "stream",
     "text": [
      "Epoch 158/512: 100%|██████████████████████████████████████████████████████████████████████| 63/63 [00:03<00:00, 20.93it/s]\n"
     ]
    },
    {
     "name": "stdout",
     "output_type": "stream",
     "text": [
      "Epoch 158/512: \n",
      "Train Loss = 0.43769, Train MSE = 0.73599, Train MAE = 0.64027, Train Acc = 0.78486\n",
      "Val Loss = 0.46465, Val MSE = 0.78538, Val MAE = 0.67043, Val Acc = 0.78685\n"
     ]
    },
    {
     "name": "stderr",
     "output_type": "stream",
     "text": [
      "Epoch 159/512: 100%|██████████████████████████████████████████████████████████████████████| 63/63 [00:02<00:00, 21.00it/s]\n"
     ]
    },
    {
     "name": "stdout",
     "output_type": "stream",
     "text": [
      "Epoch 159/512: \n",
      "Train Loss = 0.42993, Train MSE = 0.71930, Train MAE = 0.63198, Train Acc = 0.79382\n",
      "Val Loss = 0.46827, Val MSE = 0.79897, Val MAE = 0.67564, Val Acc = 0.78486\n"
     ]
    },
    {
     "name": "stderr",
     "output_type": "stream",
     "text": [
      "Epoch 160/512: 100%|██████████████████████████████████████████████████████████████████████| 63/63 [00:03<00:00, 20.60it/s]\n"
     ]
    },
    {
     "name": "stdout",
     "output_type": "stream",
     "text": [
      "Epoch 160/512: \n",
      "Train Loss = 0.43507, Train MSE = 0.72781, Train MAE = 0.63731, Train Acc = 0.79208\n",
      "Val Loss = 0.46395, Val MSE = 0.79464, Val MAE = 0.66922, Val Acc = 0.78088\n"
     ]
    },
    {
     "name": "stderr",
     "output_type": "stream",
     "text": [
      "Epoch 161/512: 100%|██████████████████████████████████████████████████████████████████████| 63/63 [00:03<00:00, 20.52it/s]\n"
     ]
    },
    {
     "name": "stdout",
     "output_type": "stream",
     "text": [
      "Epoch 161/512: \n",
      "Train Loss = 0.43017, Train MSE = 0.71483, Train MAE = 0.63257, Train Acc = 0.79432\n",
      "Val Loss = 0.46276, Val MSE = 0.78402, Val MAE = 0.66711, Val Acc = 0.77888\n"
     ]
    },
    {
     "name": "stderr",
     "output_type": "stream",
     "text": [
      "Epoch 162/512: 100%|██████████████████████████████████████████████████████████████████████| 63/63 [00:03<00:00, 20.53it/s]\n"
     ]
    },
    {
     "name": "stdout",
     "output_type": "stream",
     "text": [
      "Epoch 162/512: \n",
      "Train Loss = 0.43177, Train MSE = 0.72276, Train MAE = 0.63458, Train Acc = 0.79831\n",
      "Val Loss = 0.46324, Val MSE = 0.79220, Val MAE = 0.66856, Val Acc = 0.77291\n"
     ]
    },
    {
     "name": "stderr",
     "output_type": "stream",
     "text": [
      "Epoch 163/512: 100%|██████████████████████████████████████████████████████████████████████| 63/63 [00:03<00:00, 20.39it/s]\n"
     ]
    },
    {
     "name": "stdout",
     "output_type": "stream",
     "text": [
      "Epoch 163/512: \n",
      "Train Loss = 0.43154, Train MSE = 0.71654, Train MAE = 0.63359, Train Acc = 0.79557\n",
      "Val Loss = 0.46852, Val MSE = 0.79604, Val MAE = 0.67378, Val Acc = 0.77092\n"
     ]
    },
    {
     "name": "stderr",
     "output_type": "stream",
     "text": [
      "Epoch 164/512: 100%|██████████████████████████████████████████████████████████████████████| 63/63 [00:03<00:00, 20.83it/s]\n"
     ]
    },
    {
     "name": "stdout",
     "output_type": "stream",
     "text": [
      "Epoch 164/512: \n",
      "Train Loss = 0.42835, Train MSE = 0.71023, Train MAE = 0.63108, Train Acc = 0.79582\n",
      "Val Loss = 0.46173, Val MSE = 0.77680, Val MAE = 0.67121, Val Acc = 0.77490\n"
     ]
    },
    {
     "name": "stderr",
     "output_type": "stream",
     "text": [
      "Epoch 165/512: 100%|██████████████████████████████████████████████████████████████████████| 63/63 [00:03<00:00, 20.44it/s]\n"
     ]
    },
    {
     "name": "stdout",
     "output_type": "stream",
     "text": [
      "Epoch 165/512: \n",
      "Train Loss = 0.43359, Train MSE = 0.72004, Train MAE = 0.63668, Train Acc = 0.79358\n",
      "Val Loss = 0.47014, Val MSE = 0.80308, Val MAE = 0.67589, Val Acc = 0.77092\n"
     ]
    },
    {
     "name": "stderr",
     "output_type": "stream",
     "text": [
      "Epoch 166/512: 100%|██████████████████████████████████████████████████████████████████████| 63/63 [00:03<00:00, 20.61it/s]\n"
     ]
    },
    {
     "name": "stdout",
     "output_type": "stream",
     "text": [
      "Epoch 166/512: \n",
      "Train Loss = 0.42728, Train MSE = 0.70600, Train MAE = 0.63024, Train Acc = 0.80254\n",
      "Val Loss = 0.46704, Val MSE = 0.79799, Val MAE = 0.67367, Val Acc = 0.78088\n"
     ]
    },
    {
     "name": "stderr",
     "output_type": "stream",
     "text": [
      "Epoch 167/512: 100%|██████████████████████████████████████████████████████████████████████| 63/63 [00:03<00:00, 20.55it/s]\n"
     ]
    },
    {
     "name": "stdout",
     "output_type": "stream",
     "text": [
      "Epoch 167/512: \n",
      "Train Loss = 0.43613, Train MSE = 0.73085, Train MAE = 0.63967, Train Acc = 0.79133\n",
      "Val Loss = 0.45763, Val MSE = 0.76709, Val MAE = 0.66122, Val Acc = 0.79084\n"
     ]
    },
    {
     "name": "stderr",
     "output_type": "stream",
     "text": [
      "Epoch 168/512: 100%|██████████████████████████████████████████████████████████████████████| 63/63 [00:03<00:00, 20.84it/s]\n"
     ]
    },
    {
     "name": "stdout",
     "output_type": "stream",
     "text": [
      "Epoch 168/512: \n",
      "Train Loss = 0.42673, Train MSE = 0.69880, Train MAE = 0.62843, Train Acc = 0.79133\n",
      "Val Loss = 0.46002, Val MSE = 0.78077, Val MAE = 0.66489, Val Acc = 0.78287\n"
     ]
    },
    {
     "name": "stderr",
     "output_type": "stream",
     "text": [
      "Epoch 169/512: 100%|██████████████████████████████████████████████████████████████████████| 63/63 [00:03<00:00, 20.52it/s]\n"
     ]
    },
    {
     "name": "stdout",
     "output_type": "stream",
     "text": [
      "Epoch 169/512: \n",
      "Train Loss = 0.43417, Train MSE = 0.72997, Train MAE = 0.63639, Train Acc = 0.79233\n",
      "Val Loss = 0.46287, Val MSE = 0.78379, Val MAE = 0.66958, Val Acc = 0.77490\n"
     ]
    },
    {
     "name": "stderr",
     "output_type": "stream",
     "text": [
      "Epoch 170/512: 100%|██████████████████████████████████████████████████████████████████████| 63/63 [00:02<00:00, 21.04it/s]\n"
     ]
    },
    {
     "name": "stdout",
     "output_type": "stream",
     "text": [
      "Epoch 170/512: \n",
      "Train Loss = 0.43215, Train MSE = 0.71915, Train MAE = 0.63590, Train Acc = 0.79507\n",
      "Val Loss = 0.45681, Val MSE = 0.76874, Val MAE = 0.66019, Val Acc = 0.78287\n"
     ]
    },
    {
     "name": "stderr",
     "output_type": "stream",
     "text": [
      "Epoch 171/512: 100%|██████████████████████████████████████████████████████████████████████| 63/63 [00:03<00:00, 20.41it/s]\n"
     ]
    },
    {
     "name": "stdout",
     "output_type": "stream",
     "text": [
      "Epoch 171/512: \n",
      "Train Loss = 0.42850, Train MSE = 0.71396, Train MAE = 0.63035, Train Acc = 0.79582\n",
      "Val Loss = 0.45592, Val MSE = 0.77174, Val MAE = 0.66163, Val Acc = 0.79084\n"
     ]
    },
    {
     "name": "stderr",
     "output_type": "stream",
     "text": [
      "Epoch 172/512: 100%|██████████████████████████████████████████████████████████████████████| 63/63 [00:03<00:00, 20.80it/s]\n"
     ]
    },
    {
     "name": "stdout",
     "output_type": "stream",
     "text": [
      "Epoch 172/512: \n",
      "Train Loss = 0.42448, Train MSE = 0.70256, Train MAE = 0.62528, Train Acc = 0.79980\n",
      "Val Loss = 0.46476, Val MSE = 0.79810, Val MAE = 0.67041, Val Acc = 0.77689\n"
     ]
    },
    {
     "name": "stderr",
     "output_type": "stream",
     "text": [
      "Epoch 173/512: 100%|██████████████████████████████████████████████████████████████████████| 63/63 [00:03<00:00, 20.51it/s]\n"
     ]
    },
    {
     "name": "stdout",
     "output_type": "stream",
     "text": [
      "Epoch 173/512: \n",
      "Train Loss = 0.43290, Train MSE = 0.71978, Train MAE = 0.63571, Train Acc = 0.79109\n",
      "Val Loss = 0.46344, Val MSE = 0.78843, Val MAE = 0.67114, Val Acc = 0.78287\n"
     ]
    },
    {
     "name": "stderr",
     "output_type": "stream",
     "text": [
      "Epoch 174/512: 100%|██████████████████████████████████████████████████████████████████████| 63/63 [00:03<00:00, 20.61it/s]\n"
     ]
    },
    {
     "name": "stdout",
     "output_type": "stream",
     "text": [
      "Epoch 174/512: \n",
      "Train Loss = 0.42782, Train MSE = 0.71558, Train MAE = 0.63015, Train Acc = 0.80129\n",
      "Val Loss = 0.46296, Val MSE = 0.78874, Val MAE = 0.66790, Val Acc = 0.77291\n"
     ]
    },
    {
     "name": "stderr",
     "output_type": "stream",
     "text": [
      "Epoch 175/512: 100%|██████████████████████████████████████████████████████████████████████| 63/63 [00:03<00:00, 20.84it/s]\n"
     ]
    },
    {
     "name": "stdout",
     "output_type": "stream",
     "text": [
      "Epoch 175/512: \n",
      "Train Loss = 0.42672, Train MSE = 0.72389, Train MAE = 0.62733, Train Acc = 0.80304\n",
      "Val Loss = 0.45791, Val MSE = 0.77822, Val MAE = 0.66109, Val Acc = 0.77888\n"
     ]
    },
    {
     "name": "stderr",
     "output_type": "stream",
     "text": [
      "Epoch 176/512: 100%|██████████████████████████████████████████████████████████████████████| 63/63 [00:03<00:00, 20.59it/s]\n"
     ]
    },
    {
     "name": "stdout",
     "output_type": "stream",
     "text": [
      "Epoch 176/512: \n",
      "Train Loss = 0.43228, Train MSE = 0.72563, Train MAE = 0.63421, Train Acc = 0.79756\n",
      "Val Loss = 0.45885, Val MSE = 0.78279, Val MAE = 0.66459, Val Acc = 0.79283\n"
     ]
    },
    {
     "name": "stderr",
     "output_type": "stream",
     "text": [
      "Epoch 177/512: 100%|██████████████████████████████████████████████████████████████████████| 63/63 [00:03<00:00, 20.66it/s]\n"
     ]
    },
    {
     "name": "stdout",
     "output_type": "stream",
     "text": [
      "Epoch 177/512: \n",
      "Train Loss = 0.43248, Train MSE = 0.72373, Train MAE = 0.63501, Train Acc = 0.79333\n",
      "Val Loss = 0.45436, Val MSE = 0.76846, Val MAE = 0.65946, Val Acc = 0.79084\n"
     ]
    },
    {
     "name": "stderr",
     "output_type": "stream",
     "text": [
      "Epoch 178/512: 100%|██████████████████████████████████████████████████████████████████████| 63/63 [00:03<00:00, 20.79it/s]\n"
     ]
    },
    {
     "name": "stdout",
     "output_type": "stream",
     "text": [
      "Epoch 178/512: \n",
      "Train Loss = 0.42604, Train MSE = 0.70874, Train MAE = 0.62828, Train Acc = 0.80204\n",
      "Val Loss = 0.45937, Val MSE = 0.78631, Val MAE = 0.66464, Val Acc = 0.77888\n"
     ]
    },
    {
     "name": "stderr",
     "output_type": "stream",
     "text": [
      "Epoch 179/512: 100%|██████████████████████████████████████████████████████████████████████| 63/63 [00:02<00:00, 21.03it/s]\n"
     ]
    },
    {
     "name": "stdout",
     "output_type": "stream",
     "text": [
      "Epoch 179/512: \n",
      "Train Loss = 0.42760, Train MSE = 0.71243, Train MAE = 0.62953, Train Acc = 0.80030\n",
      "Val Loss = 0.45872, Val MSE = 0.78123, Val MAE = 0.66237, Val Acc = 0.77092\n"
     ]
    },
    {
     "name": "stderr",
     "output_type": "stream",
     "text": [
      "Epoch 180/512: 100%|██████████████████████████████████████████████████████████████████████| 63/63 [00:03<00:00, 20.95it/s]\n"
     ]
    },
    {
     "name": "stdout",
     "output_type": "stream",
     "text": [
      "Epoch 180/512: \n",
      "Train Loss = 0.43140, Train MSE = 0.72433, Train MAE = 0.63309, Train Acc = 0.79358\n",
      "Val Loss = 0.46275, Val MSE = 0.78947, Val MAE = 0.66708, Val Acc = 0.78685\n"
     ]
    },
    {
     "name": "stderr",
     "output_type": "stream",
     "text": [
      "Epoch 181/512: 100%|██████████████████████████████████████████████████████████████████████| 63/63 [00:03<00:00, 20.67it/s]\n"
     ]
    },
    {
     "name": "stdout",
     "output_type": "stream",
     "text": [
      "Epoch 181/512: \n",
      "Train Loss = 0.43515, Train MSE = 0.73293, Train MAE = 0.63804, Train Acc = 0.79880\n",
      "Val Loss = 0.45545, Val MSE = 0.77454, Val MAE = 0.66023, Val Acc = 0.79482\n"
     ]
    },
    {
     "name": "stderr",
     "output_type": "stream",
     "text": [
      "Epoch 182/512: 100%|██████████████████████████████████████████████████████████████████████| 63/63 [00:03<00:00, 20.83it/s]\n"
     ]
    },
    {
     "name": "stdout",
     "output_type": "stream",
     "text": [
      "Epoch 182/512: \n",
      "Train Loss = 0.42172, Train MSE = 0.70393, Train MAE = 0.62267, Train Acc = 0.80852\n",
      "Val Loss = 0.45676, Val MSE = 0.77665, Val MAE = 0.66158, Val Acc = 0.79084\n"
     ]
    },
    {
     "name": "stderr",
     "output_type": "stream",
     "text": [
      "Epoch 183/512: 100%|██████████████████████████████████████████████████████████████████████| 63/63 [00:03<00:00, 20.73it/s]\n"
     ]
    },
    {
     "name": "stdout",
     "output_type": "stream",
     "text": [
      "Epoch 183/512: \n",
      "Train Loss = 0.42571, Train MSE = 0.71065, Train MAE = 0.62725, Train Acc = 0.80428\n",
      "Val Loss = 0.45428, Val MSE = 0.76615, Val MAE = 0.65840, Val Acc = 0.78884\n"
     ]
    },
    {
     "name": "stderr",
     "output_type": "stream",
     "text": [
      "Epoch 184/512: 100%|██████████████████████████████████████████████████████████████████████| 63/63 [00:03<00:00, 20.68it/s]\n"
     ]
    },
    {
     "name": "stdout",
     "output_type": "stream",
     "text": [
      "Epoch 184/512: \n",
      "Train Loss = 0.42995, Train MSE = 0.72153, Train MAE = 0.63344, Train Acc = 0.80204\n",
      "Val Loss = 0.45998, Val MSE = 0.78373, Val MAE = 0.66705, Val Acc = 0.78088\n"
     ]
    },
    {
     "name": "stderr",
     "output_type": "stream",
     "text": [
      "Epoch 185/512: 100%|██████████████████████████████████████████████████████████████████████| 63/63 [00:03<00:00, 20.89it/s]\n"
     ]
    },
    {
     "name": "stdout",
     "output_type": "stream",
     "text": [
      "Epoch 185/512: \n",
      "Train Loss = 0.43400, Train MSE = 0.72522, Train MAE = 0.63686, Train Acc = 0.79955\n",
      "Val Loss = 0.45847, Val MSE = 0.78006, Val MAE = 0.66582, Val Acc = 0.78685\n"
     ]
    },
    {
     "name": "stderr",
     "output_type": "stream",
     "text": [
      "Epoch 186/512: 100%|██████████████████████████████████████████████████████████████████████| 63/63 [00:03<00:00, 20.87it/s]\n"
     ]
    },
    {
     "name": "stdout",
     "output_type": "stream",
     "text": [
      "Epoch 186/512: \n",
      "Train Loss = 0.42865, Train MSE = 0.71786, Train MAE = 0.62982, Train Acc = 0.79806\n",
      "Val Loss = 0.46158, Val MSE = 0.78474, Val MAE = 0.66668, Val Acc = 0.78287\n"
     ]
    },
    {
     "name": "stderr",
     "output_type": "stream",
     "text": [
      "Epoch 187/512: 100%|██████████████████████████████████████████████████████████████████████| 63/63 [00:02<00:00, 21.06it/s]\n"
     ]
    },
    {
     "name": "stdout",
     "output_type": "stream",
     "text": [
      "Epoch 187/512: \n",
      "Train Loss = 0.43263, Train MSE = 0.71753, Train MAE = 0.63597, Train Acc = 0.80304\n",
      "Val Loss = 0.46222, Val MSE = 0.78606, Val MAE = 0.66633, Val Acc = 0.78287\n"
     ]
    },
    {
     "name": "stderr",
     "output_type": "stream",
     "text": [
      "Epoch 188/512: 100%|██████████████████████████████████████████████████████████████████████| 63/63 [00:03<00:00, 20.86it/s]\n"
     ]
    },
    {
     "name": "stdout",
     "output_type": "stream",
     "text": [
      "Epoch 188/512: \n",
      "Train Loss = 0.42522, Train MSE = 0.70616, Train MAE = 0.62773, Train Acc = 0.79856\n",
      "Val Loss = 0.46286, Val MSE = 0.79075, Val MAE = 0.66675, Val Acc = 0.78287\n"
     ]
    },
    {
     "name": "stderr",
     "output_type": "stream",
     "text": [
      "Epoch 189/512: 100%|██████████████████████████████████████████████████████████████████████| 63/63 [00:03<00:00, 20.28it/s]\n"
     ]
    },
    {
     "name": "stdout",
     "output_type": "stream",
     "text": [
      "Epoch 189/512: \n",
      "Train Loss = 0.41859, Train MSE = 0.69151, Train MAE = 0.62062, Train Acc = 0.80752\n",
      "Val Loss = 0.46393, Val MSE = 0.78935, Val MAE = 0.66842, Val Acc = 0.78884\n"
     ]
    },
    {
     "name": "stderr",
     "output_type": "stream",
     "text": [
      "Epoch 190/512: 100%|██████████████████████████████████████████████████████████████████████| 63/63 [00:03<00:00, 20.77it/s]\n"
     ]
    },
    {
     "name": "stdout",
     "output_type": "stream",
     "text": [
      "Epoch 190/512: \n",
      "Train Loss = 0.43175, Train MSE = 0.71691, Train MAE = 0.63445, Train Acc = 0.79233\n",
      "Val Loss = 0.45381, Val MSE = 0.76870, Val MAE = 0.65824, Val Acc = 0.78287\n"
     ]
    },
    {
     "name": "stderr",
     "output_type": "stream",
     "text": [
      "Epoch 191/512: 100%|██████████████████████████████████████████████████████████████████████| 63/63 [00:03<00:00, 20.85it/s]\n"
     ]
    },
    {
     "name": "stdout",
     "output_type": "stream",
     "text": [
      "Epoch 191/512: \n",
      "Train Loss = 0.41411, Train MSE = 0.68499, Train MAE = 0.61395, Train Acc = 0.80652\n",
      "Val Loss = 0.45938, Val MSE = 0.78439, Val MAE = 0.66710, Val Acc = 0.77888\n"
     ]
    },
    {
     "name": "stderr",
     "output_type": "stream",
     "text": [
      "Epoch 192/512: 100%|██████████████████████████████████████████████████████████████████████| 63/63 [00:03<00:00, 20.85it/s]\n"
     ]
    },
    {
     "name": "stdout",
     "output_type": "stream",
     "text": [
      "Epoch 192/512: \n",
      "Train Loss = 0.42897, Train MSE = 0.71961, Train MAE = 0.63096, Train Acc = 0.79905\n",
      "Val Loss = 0.45470, Val MSE = 0.78115, Val MAE = 0.65865, Val Acc = 0.77689\n"
     ]
    },
    {
     "name": "stderr",
     "output_type": "stream",
     "text": [
      "Epoch 193/512: 100%|██████████████████████████████████████████████████████████████████████| 63/63 [00:03<00:00, 20.82it/s]\n"
     ]
    },
    {
     "name": "stdout",
     "output_type": "stream",
     "text": [
      "Epoch 193/512: \n",
      "Train Loss = 0.42753, Train MSE = 0.71034, Train MAE = 0.62962, Train Acc = 0.80354\n",
      "Val Loss = 0.45891, Val MSE = 0.78361, Val MAE = 0.66483, Val Acc = 0.77888\n"
     ]
    },
    {
     "name": "stderr",
     "output_type": "stream",
     "text": [
      "Epoch 194/512: 100%|██████████████████████████████████████████████████████████████████████| 63/63 [00:03<00:00, 20.84it/s]\n"
     ]
    },
    {
     "name": "stdout",
     "output_type": "stream",
     "text": [
      "Epoch 194/512: \n",
      "Train Loss = 0.42463, Train MSE = 0.70580, Train MAE = 0.62610, Train Acc = 0.79532\n",
      "Val Loss = 0.46037, Val MSE = 0.78461, Val MAE = 0.66652, Val Acc = 0.78486\n"
     ]
    },
    {
     "name": "stderr",
     "output_type": "stream",
     "text": [
      "Epoch 195/512: 100%|██████████████████████████████████████████████████████████████████████| 63/63 [00:03<00:00, 20.69it/s]\n"
     ]
    },
    {
     "name": "stdout",
     "output_type": "stream",
     "text": [
      "Epoch 195/512: \n",
      "Train Loss = 0.42762, Train MSE = 0.70536, Train MAE = 0.63126, Train Acc = 0.79308\n",
      "Val Loss = 0.46205, Val MSE = 0.80000, Val MAE = 0.66867, Val Acc = 0.78486\n"
     ]
    },
    {
     "name": "stderr",
     "output_type": "stream",
     "text": [
      "Epoch 196/512: 100%|██████████████████████████████████████████████████████████████████████| 63/63 [00:03<00:00, 20.48it/s]\n"
     ]
    },
    {
     "name": "stdout",
     "output_type": "stream",
     "text": [
      "Epoch 196/512: \n",
      "Train Loss = 0.42151, Train MSE = 0.69338, Train MAE = 0.62400, Train Acc = 0.80279\n",
      "Val Loss = 0.46407, Val MSE = 0.79746, Val MAE = 0.67118, Val Acc = 0.77490\n"
     ]
    },
    {
     "name": "stderr",
     "output_type": "stream",
     "text": [
      "Epoch 197/512: 100%|██████████████████████████████████████████████████████████████████████| 63/63 [00:03<00:00, 20.69it/s]\n"
     ]
    },
    {
     "name": "stdout",
     "output_type": "stream",
     "text": [
      "Epoch 197/512: \n",
      "Train Loss = 0.42268, Train MSE = 0.70392, Train MAE = 0.62430, Train Acc = 0.80254\n",
      "Val Loss = 0.45849, Val MSE = 0.79227, Val MAE = 0.66250, Val Acc = 0.78486\n"
     ]
    },
    {
     "name": "stderr",
     "output_type": "stream",
     "text": [
      "Epoch 198/512: 100%|██████████████████████████████████████████████████████████████████████| 63/63 [00:03<00:00, 20.22it/s]\n"
     ]
    },
    {
     "name": "stdout",
     "output_type": "stream",
     "text": [
      "Epoch 198/512: \n",
      "Train Loss = 0.42264, Train MSE = 0.70967, Train MAE = 0.62456, Train Acc = 0.80129\n",
      "Val Loss = 0.46348, Val MSE = 0.80523, Val MAE = 0.66924, Val Acc = 0.79482\n"
     ]
    },
    {
     "name": "stderr",
     "output_type": "stream",
     "text": [
      "Epoch 199/512: 100%|██████████████████████████████████████████████████████████████████████| 63/63 [00:03<00:00, 20.52it/s]\n"
     ]
    },
    {
     "name": "stdout",
     "output_type": "stream",
     "text": [
      "Epoch 199/512: \n",
      "Train Loss = 0.42491, Train MSE = 0.70773, Train MAE = 0.62719, Train Acc = 0.80254\n",
      "Val Loss = 0.45284, Val MSE = 0.76767, Val MAE = 0.65822, Val Acc = 0.79482\n"
     ]
    },
    {
     "name": "stderr",
     "output_type": "stream",
     "text": [
      "Epoch 200/512: 100%|██████████████████████████████████████████████████████████████████████| 63/63 [00:03<00:00, 20.81it/s]\n"
     ]
    },
    {
     "name": "stdout",
     "output_type": "stream",
     "text": [
      "Epoch 200/512: \n",
      "Train Loss = 0.41519, Train MSE = 0.68115, Train MAE = 0.61601, Train Acc = 0.80603\n",
      "Val Loss = 0.45635, Val MSE = 0.77882, Val MAE = 0.66155, Val Acc = 0.78486\n"
     ]
    },
    {
     "name": "stderr",
     "output_type": "stream",
     "text": [
      "Epoch 201/512: 100%|██████████████████████████████████████████████████████████████████████| 63/63 [00:03<00:00, 20.87it/s]\n"
     ]
    },
    {
     "name": "stdout",
     "output_type": "stream",
     "text": [
      "Epoch 201/512: \n",
      "Train Loss = 0.42549, Train MSE = 0.71152, Train MAE = 0.62807, Train Acc = 0.80080\n",
      "Val Loss = 0.45514, Val MSE = 0.77306, Val MAE = 0.66045, Val Acc = 0.78486\n"
     ]
    },
    {
     "name": "stderr",
     "output_type": "stream",
     "text": [
      "Epoch 202/512: 100%|██████████████████████████████████████████████████████████████████████| 63/63 [00:03<00:00, 20.81it/s]\n"
     ]
    },
    {
     "name": "stdout",
     "output_type": "stream",
     "text": [
      "Epoch 202/512: \n",
      "Train Loss = 0.43549, Train MSE = 0.72966, Train MAE = 0.63772, Train Acc = 0.79507\n",
      "Val Loss = 0.46666, Val MSE = 0.79904, Val MAE = 0.67493, Val Acc = 0.77490\n"
     ]
    },
    {
     "name": "stderr",
     "output_type": "stream",
     "text": [
      "Epoch 203/512: 100%|██████████████████████████████████████████████████████████████████████| 63/63 [00:03<00:00, 20.88it/s]\n"
     ]
    },
    {
     "name": "stdout",
     "output_type": "stream",
     "text": [
      "Epoch 203/512: \n",
      "Train Loss = 0.41803, Train MSE = 0.69754, Train MAE = 0.61951, Train Acc = 0.81076\n",
      "Val Loss = 0.45489, Val MSE = 0.77385, Val MAE = 0.66054, Val Acc = 0.78486\n"
     ]
    },
    {
     "name": "stderr",
     "output_type": "stream",
     "text": [
      "Epoch 204/512: 100%|██████████████████████████████████████████████████████████████████████| 63/63 [00:03<00:00, 20.78it/s]\n"
     ]
    },
    {
     "name": "stdout",
     "output_type": "stream",
     "text": [
      "Epoch 204/512: \n",
      "Train Loss = 0.41235, Train MSE = 0.68734, Train MAE = 0.61390, Train Acc = 0.81300\n",
      "Val Loss = 0.45427, Val MSE = 0.77228, Val MAE = 0.65941, Val Acc = 0.79681\n"
     ]
    },
    {
     "name": "stderr",
     "output_type": "stream",
     "text": [
      "Epoch 205/512: 100%|██████████████████████████████████████████████████████████████████████| 63/63 [00:03<00:00, 20.74it/s]\n"
     ]
    },
    {
     "name": "stdout",
     "output_type": "stream",
     "text": [
      "Epoch 205/512: \n",
      "Train Loss = 0.41958, Train MSE = 0.68976, Train MAE = 0.62103, Train Acc = 0.80453\n",
      "Val Loss = 0.45581, Val MSE = 0.77654, Val MAE = 0.66193, Val Acc = 0.79681\n"
     ]
    },
    {
     "name": "stderr",
     "output_type": "stream",
     "text": [
      "Epoch 206/512: 100%|██████████████████████████████████████████████████████████████████████| 63/63 [00:03<00:00, 20.27it/s]\n"
     ]
    },
    {
     "name": "stdout",
     "output_type": "stream",
     "text": [
      "Epoch 206/512: \n",
      "Train Loss = 0.41194, Train MSE = 0.69073, Train MAE = 0.61256, Train Acc = 0.80951\n",
      "Val Loss = 0.45761, Val MSE = 0.77680, Val MAE = 0.66360, Val Acc = 0.78685\n"
     ]
    },
    {
     "name": "stderr",
     "output_type": "stream",
     "text": [
      "Epoch 207/512: 100%|██████████████████████████████████████████████████████████████████████| 63/63 [00:02<00:00, 21.19it/s]\n"
     ]
    },
    {
     "name": "stdout",
     "output_type": "stream",
     "text": [
      "Epoch 207/512: \n",
      "Train Loss = 0.41692, Train MSE = 0.69643, Train MAE = 0.61621, Train Acc = 0.80752\n",
      "Val Loss = 0.45766, Val MSE = 0.77645, Val MAE = 0.66267, Val Acc = 0.78685\n"
     ]
    },
    {
     "name": "stderr",
     "output_type": "stream",
     "text": [
      "Epoch 208/512: 100%|██████████████████████████████████████████████████████████████████████| 63/63 [00:03<00:00, 20.75it/s]\n"
     ]
    },
    {
     "name": "stdout",
     "output_type": "stream",
     "text": [
      "Epoch 208/512: \n",
      "Train Loss = 0.42316, Train MSE = 0.71221, Train MAE = 0.62406, Train Acc = 0.80603\n",
      "Val Loss = 0.46218, Val MSE = 0.78645, Val MAE = 0.67002, Val Acc = 0.78884\n"
     ]
    },
    {
     "name": "stderr",
     "output_type": "stream",
     "text": [
      "Epoch 209/512: 100%|██████████████████████████████████████████████████████████████████████| 63/63 [00:03<00:00, 20.79it/s]\n"
     ]
    },
    {
     "name": "stdout",
     "output_type": "stream",
     "text": [
      "Epoch 209/512: \n",
      "Train Loss = 0.41740, Train MSE = 0.69132, Train MAE = 0.61796, Train Acc = 0.80254\n",
      "Val Loss = 0.45628, Val MSE = 0.77430, Val MAE = 0.66169, Val Acc = 0.78685\n"
     ]
    },
    {
     "name": "stderr",
     "output_type": "stream",
     "text": [
      "Epoch 210/512: 100%|██████████████████████████████████████████████████████████████████████| 63/63 [00:03<00:00, 20.88it/s]\n"
     ]
    },
    {
     "name": "stdout",
     "output_type": "stream",
     "text": [
      "Epoch 210/512: \n",
      "Train Loss = 0.40968, Train MSE = 0.67346, Train MAE = 0.60945, Train Acc = 0.81051\n",
      "Val Loss = 0.45680, Val MSE = 0.77660, Val MAE = 0.66321, Val Acc = 0.79482\n"
     ]
    },
    {
     "name": "stderr",
     "output_type": "stream",
     "text": [
      "Epoch 211/512: 100%|██████████████████████████████████████████████████████████████████████| 63/63 [00:03<00:00, 20.25it/s]\n"
     ]
    },
    {
     "name": "stdout",
     "output_type": "stream",
     "text": [
      "Epoch 211/512: \n",
      "Train Loss = 0.41523, Train MSE = 0.68591, Train MAE = 0.61561, Train Acc = 0.80652\n",
      "Val Loss = 0.45789, Val MSE = 0.77660, Val MAE = 0.66294, Val Acc = 0.78088\n"
     ]
    },
    {
     "name": "stderr",
     "output_type": "stream",
     "text": [
      "Epoch 212/512: 100%|██████████████████████████████████████████████████████████████████████| 63/63 [00:03<00:00, 20.18it/s]\n"
     ]
    },
    {
     "name": "stdout",
     "output_type": "stream",
     "text": [
      "Epoch 212/512: \n",
      "Train Loss = 0.41959, Train MSE = 0.69297, Train MAE = 0.62215, Train Acc = 0.80204\n",
      "Val Loss = 0.45708, Val MSE = 0.77861, Val MAE = 0.66205, Val Acc = 0.79084\n"
     ]
    },
    {
     "name": "stderr",
     "output_type": "stream",
     "text": [
      "Epoch 213/512: 100%|██████████████████████████████████████████████████████████████████████| 63/63 [00:03<00:00, 19.66it/s]\n"
     ]
    },
    {
     "name": "stdout",
     "output_type": "stream",
     "text": [
      "Epoch 213/512: \n",
      "Train Loss = 0.42031, Train MSE = 0.69080, Train MAE = 0.62235, Train Acc = 0.80329\n",
      "Val Loss = 0.45567, Val MSE = 0.77017, Val MAE = 0.66125, Val Acc = 0.77888\n"
     ]
    },
    {
     "name": "stderr",
     "output_type": "stream",
     "text": [
      "Epoch 214/512: 100%|██████████████████████████████████████████████████████████████████████| 63/63 [00:03<00:00, 20.36it/s]\n"
     ]
    },
    {
     "name": "stdout",
     "output_type": "stream",
     "text": [
      "Epoch 214/512: \n",
      "Train Loss = 0.41324, Train MSE = 0.67684, Train MAE = 0.61515, Train Acc = 0.80702\n",
      "Val Loss = 0.45312, Val MSE = 0.76148, Val MAE = 0.65847, Val Acc = 0.78088\n"
     ]
    },
    {
     "name": "stderr",
     "output_type": "stream",
     "text": [
      "Epoch 215/512:  83%|█████████████████████████████████████████████████████████▊            | 52/63 [00:02<00:00, 19.23it/s]"
     ]
    }
   ],
   "source": [
    "import argparse\n",
    "\n",
    "training_args = argparse.Namespace(**args)\n",
    "train_model(training_args, device)"
   ]
  },
  {
   "cell_type": "code",
   "execution_count": null,
   "metadata": {},
   "outputs": [],
   "source": []
  }
 ],
 "metadata": {
  "kernelspec": {
   "display_name": "Python (myenv)",
   "language": "python",
   "name": "myenv"
  },
  "language_info": {
   "codemirror_mode": {
    "name": "ipython",
    "version": 3
   },
   "file_extension": ".py",
   "mimetype": "text/x-python",
   "name": "python",
   "nbconvert_exporter": "python",
   "pygments_lexer": "ipython3",
   "version": "3.12.7"
  }
 },
 "nbformat": 4,
 "nbformat_minor": 4
}
