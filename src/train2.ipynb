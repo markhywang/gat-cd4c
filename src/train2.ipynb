{
 "cells": [
  {
   "cell_type": "code",
   "execution_count": 1,
   "metadata": {},
   "outputs": [],
   "source": [
    "# Copy of train.ipynb (run on GPU 1)"
   ]
  },
  {
   "cell_type": "code",
   "execution_count": 2,
   "metadata": {},
   "outputs": [
    {
     "name": "stdout",
     "output_type": "stream",
     "text": [
      "Using device: cpu\n"
     ]
    }
   ],
   "source": [
    "import torch\n",
    "\n",
    "# Local imports\n",
    "from train import train_model"
   ]
  },
  {
   "cell_type": "code",
   "execution_count": 3,
   "metadata": {},
   "outputs": [
    {
     "name": "stdout",
     "output_type": "stream",
     "text": [
      "Using device: cuda:1\n"
     ]
    }
   ],
   "source": [
    "if torch.backends.mps.is_available():\n",
    "    device = torch.device(\"mps\")\n",
    "elif torch.cuda.is_available():\n",
    "    device = torch.device(\"cuda:1\")\n",
    "else:\n",
    "    device = torch.device(\"cpu\")\n",
    "\n",
    "print(f\"Using device: {device}\")"
   ]
  },
  {
   "cell_type": "code",
   "execution_count": 4,
   "metadata": {},
   "outputs": [],
   "source": [
    "args = {\n",
    "    \"use_small_dataset\": False,\n",
    "    \"batch_size\": 64,\n",
    "    \"stoppage_epochs\": 42,\n",
    "    \"max_epochs\": 512,\n",
    "    \"seed\": 42,\n",
    "    \"data_path\": \"../data\",\n",
    "    \"frac_train\": 0.8,\n",
    "    \"frac_validation\": 0.1,\n",
    "    \"frac_test\": 0.1,\n",
    "    \"huber_beta\": 1.0,\n",
    "    \"weight_decay\": 1e-3,\n",
    "    \"lr\": 3e-4,\n",
    "    \"scheduler_patience\": 10,\n",
    "    \"scheduler_factor\": 0.5,\n",
    "    \"hidden_size\": 96,\n",
    "    \"num_layers\": 7,\n",
    "    \"num_attn_heads\": 6,\n",
    "    \"dropout\": 0.2,\n",
    "    \"leaky_relu_slope\": 0.2,\n",
    "    \"pooling_dim\": 96,\n",
    "}"
   ]
  },
  {
   "cell_type": "code",
   "execution_count": null,
   "metadata": {},
   "outputs": [
    {
     "name": "stdout",
     "output_type": "stream",
     "text": [
      "Model parameters: 182714\n"
     ]
    },
    {
     "name": "stderr",
     "output_type": "stream",
     "text": [
      "Epoch 1/512: 100%|██████████████████████████████████████████████████████████████████████| 910/910 [02:26<00:00,  6.21it/s]\n"
     ]
    },
    {
     "name": "stdout",
     "output_type": "stream",
     "text": [
      "Epoch 1/512: \n",
      "Train Loss = 0.54719, Train MSE = 1.35007, Train MAE = 0.94193, Train Acc = 0.59307\n",
      "Val Loss = 0.53964, Val MSE = 1.32543, Val MAE = 0.93577, Val Acc = 0.59967\n"
     ]
    },
    {
     "name": "stderr",
     "output_type": "stream",
     "text": [
      "Epoch 2/512: 100%|██████████████████████████████████████████████████████████████████████| 910/910 [00:44<00:00, 20.50it/s]\n"
     ]
    },
    {
     "name": "stdout",
     "output_type": "stream",
     "text": [
      "Epoch 2/512: \n",
      "Train Loss = 0.53680, Train MSE = 1.31659, Train MAE = 0.93043, Train Acc = 0.59996\n",
      "Val Loss = 0.52118, Val MSE = 1.27187, Val MAE = 0.91314, Val Acc = 0.61163\n"
     ]
    },
    {
     "name": "stderr",
     "output_type": "stream",
     "text": [
      "Epoch 3/512: 100%|██████████████████████████████████████████████████████████████████████| 910/910 [00:44<00:00, 20.25it/s]\n"
     ]
    },
    {
     "name": "stdout",
     "output_type": "stream",
     "text": [
      "Epoch 3/512: \n",
      "Train Loss = 0.51837, Train MSE = 1.26351, Train MAE = 0.90885, Train Acc = 0.61247\n",
      "Val Loss = 0.51151, Val MSE = 1.23975, Val MAE = 0.90052, Val Acc = 0.61507\n"
     ]
    },
    {
     "name": "stderr",
     "output_type": "stream",
     "text": [
      "Epoch 4/512: 100%|██████████████████████████████████████████████████████████████████████| 910/910 [00:44<00:00, 20.25it/s]\n"
     ]
    },
    {
     "name": "stdout",
     "output_type": "stream",
     "text": [
      "Epoch 4/512: \n",
      "Train Loss = 0.50387, Train MSE = 1.22301, Train MAE = 0.89142, Train Acc = 0.62239\n",
      "Val Loss = 0.50175, Val MSE = 1.21275, Val MAE = 0.88973, Val Acc = 0.62345\n"
     ]
    },
    {
     "name": "stderr",
     "output_type": "stream",
     "text": [
      "Epoch 5/512: 100%|██████████████████████████████████████████████████████████████████████| 910/910 [00:44<00:00, 20.30it/s]\n"
     ]
    },
    {
     "name": "stdout",
     "output_type": "stream",
     "text": [
      "Epoch 5/512: \n",
      "Train Loss = 0.49616, Train MSE = 1.20120, Train MAE = 0.88240, Train Acc = 0.62787\n",
      "Val Loss = 0.48750, Val MSE = 1.18904, Val MAE = 0.86998, Val Acc = 0.64078\n"
     ]
    },
    {
     "name": "stderr",
     "output_type": "stream",
     "text": [
      "Epoch 6/512: 100%|██████████████████████████████████████████████████████████████████████| 910/910 [00:44<00:00, 20.33it/s]\n"
     ]
    },
    {
     "name": "stdout",
     "output_type": "stream",
     "text": [
      "Epoch 6/512: \n",
      "Train Loss = 0.48739, Train MSE = 1.17826, Train MAE = 0.87169, Train Acc = 0.63481\n",
      "Val Loss = 0.47742, Val MSE = 1.14549, Val MAE = 0.86063, Val Acc = 0.64064\n"
     ]
    },
    {
     "name": "stderr",
     "output_type": "stream",
     "text": [
      "Epoch 7/512: 100%|██████████████████████████████████████████████████████████████████████| 910/910 [00:45<00:00, 20.21it/s]\n"
     ]
    },
    {
     "name": "stdout",
     "output_type": "stream",
     "text": [
      "Epoch 7/512: \n",
      "Train Loss = 0.47911, Train MSE = 1.15477, Train MAE = 0.86274, Train Acc = 0.64332\n",
      "Val Loss = 0.46099, Val MSE = 1.11087, Val MAE = 0.83909, Val Acc = 0.65782\n"
     ]
    },
    {
     "name": "stderr",
     "output_type": "stream",
     "text": [
      "Epoch 8/512: 100%|██████████████████████████████████████████████████████████████████████| 910/910 [00:44<00:00, 20.34it/s]\n"
     ]
    },
    {
     "name": "stdout",
     "output_type": "stream",
     "text": [
      "Epoch 8/512: \n",
      "Train Loss = 0.46799, Train MSE = 1.12664, Train MAE = 0.84889, Train Acc = 0.65193\n",
      "Val Loss = 0.45904, Val MSE = 1.10858, Val MAE = 0.83605, Val Acc = 0.65727\n"
     ]
    },
    {
     "name": "stderr",
     "output_type": "stream",
     "text": [
      "Epoch 9/512: 100%|██████████████████████████████████████████████████████████████████████| 910/910 [00:44<00:00, 20.34it/s]\n"
     ]
    },
    {
     "name": "stdout",
     "output_type": "stream",
     "text": [
      "Epoch 9/512: \n",
      "Train Loss = 0.45775, Train MSE = 1.09881, Train MAE = 0.83627, Train Acc = 0.66076\n",
      "Val Loss = 0.44153, Val MSE = 1.06095, Val MAE = 0.81344, Val Acc = 0.67432\n"
     ]
    },
    {
     "name": "stderr",
     "output_type": "stream",
     "text": [
      "Epoch 10/512: 100%|█████████████████████████████████████████████████████████████████████| 910/910 [00:44<00:00, 20.36it/s]\n"
     ]
    },
    {
     "name": "stdout",
     "output_type": "stream",
     "text": [
      "Epoch 10/512: \n",
      "Train Loss = 0.45034, Train MSE = 1.07819, Train MAE = 0.82732, Train Acc = 0.66523\n",
      "Val Loss = 0.47424, Val MSE = 1.15365, Val MAE = 0.85371, Val Acc = 0.64792\n"
     ]
    },
    {
     "name": "stderr",
     "output_type": "stream",
     "text": [
      "Epoch 11/512: 100%|█████████████████████████████████████████████████████████████████████| 910/910 [00:44<00:00, 20.33it/s]\n"
     ]
    },
    {
     "name": "stdout",
     "output_type": "stream",
     "text": [
      "Epoch 11/512: \n",
      "Train Loss = 0.44205, Train MSE = 1.05577, Train MAE = 0.81750, Train Acc = 0.67303\n",
      "Val Loss = 0.45264, Val MSE = 1.09820, Val MAE = 0.82571, Val Acc = 0.66593\n"
     ]
    },
    {
     "name": "stderr",
     "output_type": "stream",
     "text": [
      "Epoch 12/512: 100%|█████████████████████████████████████████████████████████████████████| 910/910 [00:44<00:00, 20.38it/s]\n"
     ]
    },
    {
     "name": "stdout",
     "output_type": "stream",
     "text": [
      "Epoch 12/512: \n",
      "Train Loss = 0.43357, Train MSE = 1.03411, Train MAE = 0.80638, Train Acc = 0.67949\n",
      "Val Loss = 0.41813, Val MSE = 0.99208, Val MAE = 0.78652, Val Acc = 0.68862\n"
     ]
    },
    {
     "name": "stderr",
     "output_type": "stream",
     "text": [
      "Epoch 13/512: 100%|█████████████████████████████████████████████████████████████████████| 910/910 [00:44<00:00, 20.30it/s]\n"
     ]
    },
    {
     "name": "stdout",
     "output_type": "stream",
     "text": [
      "Epoch 13/512: \n",
      "Train Loss = 0.42704, Train MSE = 1.01515, Train MAE = 0.79899, Train Acc = 0.68565\n",
      "Val Loss = 0.42893, Val MSE = 1.02955, Val MAE = 0.79898, Val Acc = 0.68614\n"
     ]
    },
    {
     "name": "stderr",
     "output_type": "stream",
     "text": [
      "Epoch 14/512: 100%|█████████████████████████████████████████████████████████████████████| 910/910 [00:44<00:00, 20.39it/s]\n"
     ]
    },
    {
     "name": "stdout",
     "output_type": "stream",
     "text": [
      "Epoch 14/512: \n",
      "Train Loss = 0.42124, Train MSE = 1.00038, Train MAE = 0.79158, Train Acc = 0.69053\n",
      "Val Loss = 0.40858, Val MSE = 0.96879, Val MAE = 0.77430, Val Acc = 0.70058\n"
     ]
    },
    {
     "name": "stderr",
     "output_type": "stream",
     "text": [
      "Epoch 15/512: 100%|█████████████████████████████████████████████████████████████████████| 910/910 [00:44<00:00, 20.41it/s]\n"
     ]
    },
    {
     "name": "stdout",
     "output_type": "stream",
     "text": [
      "Epoch 15/512: \n",
      "Train Loss = 0.41610, Train MSE = 0.98536, Train MAE = 0.78609, Train Acc = 0.69319\n",
      "Val Loss = 0.43144, Val MSE = 1.02897, Val MAE = 0.80562, Val Acc = 0.68229\n"
     ]
    },
    {
     "name": "stderr",
     "output_type": "stream",
     "text": [
      "Epoch 16/512: 100%|█████████████████████████████████████████████████████████████████████| 910/910 [00:44<00:00, 20.37it/s]\n"
     ]
    },
    {
     "name": "stdout",
     "output_type": "stream",
     "text": [
      "Epoch 16/512: \n",
      "Train Loss = 0.41170, Train MSE = 0.97370, Train MAE = 0.78103, Train Acc = 0.69847\n",
      "Val Loss = 0.39291, Val MSE = 0.92403, Val MAE = 0.75682, Val Acc = 0.71226\n"
     ]
    },
    {
     "name": "stderr",
     "output_type": "stream",
     "text": [
      "Epoch 17/512: 100%|█████████████████████████████████████████████████████████████████████| 910/910 [00:44<00:00, 20.32it/s]\n"
     ]
    },
    {
     "name": "stdout",
     "output_type": "stream",
     "text": [
      "Epoch 17/512: \n",
      "Train Loss = 0.40627, Train MSE = 0.96039, Train MAE = 0.77382, Train Acc = 0.70362\n",
      "Val Loss = 0.39726, Val MSE = 0.94043, Val MAE = 0.75950, Val Acc = 0.71268\n"
     ]
    },
    {
     "name": "stderr",
     "output_type": "stream",
     "text": [
      "Epoch 18/512: 100%|█████████████████████████████████████████████████████████████████████| 910/910 [00:44<00:00, 20.30it/s]\n"
     ]
    },
    {
     "name": "stdout",
     "output_type": "stream",
     "text": [
      "Epoch 18/512: \n",
      "Train Loss = 0.40254, Train MSE = 0.94894, Train MAE = 0.76931, Train Acc = 0.70568\n",
      "Val Loss = 0.39162, Val MSE = 0.92425, Val MAE = 0.75205, Val Acc = 0.71584\n"
     ]
    },
    {
     "name": "stderr",
     "output_type": "stream",
     "text": [
      "Epoch 19/512: 100%|█████████████████████████████████████████████████████████████████████| 910/910 [00:44<00:00, 20.44it/s]\n"
     ]
    },
    {
     "name": "stdout",
     "output_type": "stream",
     "text": [
      "Epoch 19/512: \n",
      "Train Loss = 0.40100, Train MSE = 0.94546, Train MAE = 0.76704, Train Acc = 0.70670\n",
      "Val Loss = 0.38396, Val MSE = 0.89990, Val MAE = 0.74286, Val Acc = 0.71749\n"
     ]
    },
    {
     "name": "stderr",
     "output_type": "stream",
     "text": [
      "Epoch 20/512: 100%|█████████████████████████████████████████████████████████████████████| 910/910 [00:44<00:00, 20.38it/s]\n"
     ]
    },
    {
     "name": "stdout",
     "output_type": "stream",
     "text": [
      "Epoch 20/512: \n",
      "Train Loss = 0.39574, Train MSE = 0.93145, Train MAE = 0.76044, Train Acc = 0.71190\n",
      "Val Loss = 0.42257, Val MSE = 1.00600, Val MAE = 0.79368, Val Acc = 0.68394\n"
     ]
    },
    {
     "name": "stderr",
     "output_type": "stream",
     "text": [
      "Epoch 21/512: 100%|█████████████████████████████████████████████████████████████████████| 910/910 [00:44<00:00, 20.41it/s]\n"
     ]
    },
    {
     "name": "stdout",
     "output_type": "stream",
     "text": [
      "Epoch 21/512: \n",
      "Train Loss = 0.39145, Train MSE = 0.91907, Train MAE = 0.75575, Train Acc = 0.71551\n",
      "Val Loss = 0.39635, Val MSE = 0.93329, Val MAE = 0.76212, Val Acc = 0.71034\n"
     ]
    },
    {
     "name": "stderr",
     "output_type": "stream",
     "text": [
      "Epoch 22/512: 100%|█████████████████████████████████████████████████████████████████████| 910/910 [00:44<00:00, 20.39it/s]\n"
     ]
    },
    {
     "name": "stdout",
     "output_type": "stream",
     "text": [
      "Epoch 22/512: \n",
      "Train Loss = 0.38877, Train MSE = 0.91268, Train MAE = 0.75218, Train Acc = 0.71606\n",
      "Val Loss = 0.37465, Val MSE = 0.87722, Val MAE = 0.73270, Val Acc = 0.72903\n"
     ]
    },
    {
     "name": "stderr",
     "output_type": "stream",
     "text": [
      "Epoch 23/512:  65%|████████████████████████████████████████████▌                        | 588/910 [00:28<00:16, 20.05it/s]"
     ]
    }
   ],
   "source": [
    "import argparse\n",
    "\n",
    "training_args = argparse.Namespace(**args)\n",
    "train_model(training_args, device)"
   ]
  },
  {
   "cell_type": "code",
   "execution_count": null,
   "metadata": {},
   "outputs": [],
   "source": []
  }
 ],
 "metadata": {
  "kernelspec": {
   "display_name": "Python (myenv)",
   "language": "python",
   "name": "myenv"
  },
  "language_info": {
   "codemirror_mode": {
    "name": "ipython",
    "version": 3
   },
   "file_extension": ".py",
   "mimetype": "text/x-python",
   "name": "python",
   "nbconvert_exporter": "python",
   "pygments_lexer": "ipython3",
   "version": "3.12.7"
  }
 },
 "nbformat": 4,
 "nbformat_minor": 4
}
