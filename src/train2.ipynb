{
 "cells": [
  {
   "cell_type": "code",
   "execution_count": 1,
   "metadata": {},
   "outputs": [],
   "source": [
    "# Copy of train.ipynb (run on GPU 1)"
   ]
  },
  {
   "cell_type": "code",
   "execution_count": 2,
   "metadata": {},
   "outputs": [
    {
     "name": "stdout",
     "output_type": "stream",
     "text": [
      "Using device: cpu\n"
     ]
    }
   ],
   "source": [
    "import torch\n",
    "\n",
    "# Local imports\n",
    "from train import train_model"
   ]
  },
  {
   "cell_type": "code",
   "execution_count": 3,
   "metadata": {},
   "outputs": [
    {
     "name": "stdout",
     "output_type": "stream",
     "text": [
      "Using device: cuda:1\n"
     ]
    }
   ],
   "source": [
    "if torch.backends.mps.is_available():\n",
    "    device = torch.device(\"mps\")\n",
    "elif torch.cuda.is_available():\n",
    "    device = torch.device(\"cuda:1\")\n",
    "else:\n",
    "    device = torch.device(\"cpu\")\n",
    "\n",
    "print(f\"Using device: {device}\")"
   ]
  },
  {
   "cell_type": "code",
   "execution_count": 4,
   "metadata": {},
   "outputs": [],
   "source": [
    "args = {\n",
    "    \"use_small_dataset\": False,\n",
    "    \"batch_size\": 64,\n",
    "    \"stoppage_epochs\": 64,\n",
    "    \"max_epochs\": 512,\n",
    "    \"seed\": 42,\n",
    "    \"data_path\": \"../data\",\n",
    "    \"frac_train\": 0.8,\n",
    "    \"frac_validation\": 0.1,\n",
    "    \"frac_test\": 0.1,\n",
    "    \"huber_beta\": 0.5,\n",
    "    \"weight_decay\": 1e-3,\n",
    "    \"lr\": 3e-4,\n",
    "    \"scheduler_patience\": 10,\n",
    "    \"scheduler_factor\": 0.5,\n",
    "    \"hidden_size\": 96,\n",
    "    \"num_layers\": 7,\n",
    "    \"num_attn_heads\": 6,\n",
    "    \"dropout\": 0.2,\n",
    "    \"pooling_dropout\": 0.1,\n",
    "    \"pooling_dim\": 96,\n",
    "}"
   ]
  },
  {
   "cell_type": "code",
   "execution_count": null,
   "metadata": {},
   "outputs": [
    {
     "name": "stdout",
     "output_type": "stream",
     "text": [
      "Model parameters: 181635\n"
     ]
    },
    {
     "name": "stderr",
     "output_type": "stream",
     "text": [
      "Epoch 1/512: 100%|██████████████████████████████████████████████████████████████████████| 906/906 [02:22<00:00,  6.36it/s]\n"
     ]
    },
    {
     "name": "stdout",
     "output_type": "stream",
     "text": [
      "Epoch 1/512: \n",
      "Train Loss = 0.75984, Train MSE = 1.46063, Train MAE = 0.98476, Train Acc = 0.56884\n",
      "Val Loss = 0.72340, Val MSE = 1.33789, Val MAE = 0.94704, Val Acc = 0.58305\n"
     ]
    },
    {
     "name": "stderr",
     "output_type": "stream",
     "text": [
      "Epoch 2/512: 100%|██████████████████████████████████████████████████████████████████████| 906/906 [00:40<00:00, 22.49it/s]\n"
     ]
    },
    {
     "name": "stdout",
     "output_type": "stream",
     "text": [
      "Epoch 2/512: \n",
      "Train Loss = 0.71390, Train MSE = 1.33083, Train MAE = 0.93723, Train Acc = 0.59639\n",
      "Val Loss = 0.69230, Val MSE = 1.25548, Val MAE = 0.91461, Val Acc = 0.60141\n"
     ]
    },
    {
     "name": "stderr",
     "output_type": "stream",
     "text": [
      "Epoch 3/512: 100%|██████████████████████████████████████████████████████████████████████| 906/906 [00:40<00:00, 22.15it/s]\n"
     ]
    },
    {
     "name": "stdout",
     "output_type": "stream",
     "text": [
      "Epoch 3/512: \n",
      "Train Loss = 0.69720, Train MSE = 1.28785, Train MAE = 0.91937, Train Acc = 0.60503\n",
      "Val Loss = 0.68277, Val MSE = 1.23370, Val MAE = 0.90486, Val Acc = 0.60251\n"
     ]
    },
    {
     "name": "stderr",
     "output_type": "stream",
     "text": [
      "Epoch 4/512: 100%|██████████████████████████████████████████████████████████████████████| 906/906 [00:40<00:00, 22.10it/s]\n"
     ]
    },
    {
     "name": "stdout",
     "output_type": "stream",
     "text": [
      "Epoch 4/512: \n",
      "Train Loss = 0.68689, Train MSE = 1.26051, Train MAE = 0.90861, Train Acc = 0.61266\n",
      "Val Loss = 0.67208, Val MSE = 1.20311, Val MAE = 0.89409, Val Acc = 0.60748\n"
     ]
    },
    {
     "name": "stderr",
     "output_type": "stream",
     "text": [
      "Epoch 5/512: 100%|██████████████████████████████████████████████████████████████████████| 906/906 [00:40<00:00, 22.16it/s]\n"
     ]
    },
    {
     "name": "stdout",
     "output_type": "stream",
     "text": [
      "Epoch 5/512: \n",
      "Train Loss = 0.67973, Train MSE = 1.24262, Train MAE = 0.90113, Train Acc = 0.61708\n",
      "Val Loss = 0.66379, Val MSE = 1.18895, Val MAE = 0.88603, Val Acc = 0.61590\n"
     ]
    },
    {
     "name": "stderr",
     "output_type": "stream",
     "text": [
      "Epoch 6/512: 100%|██████████████████████████████████████████████████████████████████████| 906/906 [00:41<00:00, 22.10it/s]\n"
     ]
    },
    {
     "name": "stdout",
     "output_type": "stream",
     "text": [
      "Epoch 6/512: \n",
      "Train Loss = 0.67004, Train MSE = 1.21883, Train MAE = 0.89068, Train Acc = 0.62317\n",
      "Val Loss = 0.65843, Val MSE = 1.17041, Val MAE = 0.88033, Val Acc = 0.62198\n"
     ]
    },
    {
     "name": "stderr",
     "output_type": "stream",
     "text": [
      "Epoch 7/512: 100%|██████████████████████████████████████████████████████████████████████| 906/906 [00:40<00:00, 22.16it/s]\n"
     ]
    },
    {
     "name": "stdout",
     "output_type": "stream",
     "text": [
      "Epoch 7/512: \n",
      "Train Loss = 0.66558, Train MSE = 1.20639, Train MAE = 0.88657, Train Acc = 0.62683\n",
      "Val Loss = 0.64993, Val MSE = 1.15929, Val MAE = 0.87123, Val Acc = 0.63109\n"
     ]
    },
    {
     "name": "stderr",
     "output_type": "stream",
     "text": [
      "Epoch 8/512: 100%|██████████████████████████████████████████████████████████████████████| 906/906 [00:40<00:00, 22.18it/s]\n"
     ]
    },
    {
     "name": "stdout",
     "output_type": "stream",
     "text": [
      "Epoch 8/512: \n",
      "Train Loss = 0.66036, Train MSE = 1.19548, Train MAE = 0.88078, Train Acc = 0.62881\n",
      "Val Loss = 0.64892, Val MSE = 1.15204, Val MAE = 0.86890, Val Acc = 0.63082\n"
     ]
    },
    {
     "name": "stderr",
     "output_type": "stream",
     "text": [
      "Epoch 9/512: 100%|██████████████████████████████████████████████████████████████████████| 906/906 [00:40<00:00, 22.22it/s]\n"
     ]
    },
    {
     "name": "stdout",
     "output_type": "stream",
     "text": [
      "Epoch 9/512: \n",
      "Train Loss = 0.65495, Train MSE = 1.18510, Train MAE = 0.87486, Train Acc = 0.63206\n",
      "Val Loss = 0.63926, Val MSE = 1.13374, Val MAE = 0.85907, Val Acc = 0.63772\n"
     ]
    },
    {
     "name": "stderr",
     "output_type": "stream",
     "text": [
      "Epoch 10/512: 100%|█████████████████████████████████████████████████████████████████████| 906/906 [00:40<00:00, 22.29it/s]\n"
     ]
    },
    {
     "name": "stdout",
     "output_type": "stream",
     "text": [
      "Epoch 10/512: \n",
      "Train Loss = 0.65216, Train MSE = 1.17721, Train MAE = 0.87200, Train Acc = 0.63401\n",
      "Val Loss = 0.63364, Val MSE = 1.12650, Val MAE = 0.85325, Val Acc = 0.64269\n"
     ]
    },
    {
     "name": "stderr",
     "output_type": "stream",
     "text": [
      "Epoch 11/512: 100%|█████████████████████████████████████████████████████████████████████| 906/906 [00:40<00:00, 22.26it/s]\n"
     ]
    },
    {
     "name": "stdout",
     "output_type": "stream",
     "text": [
      "Epoch 11/512: \n",
      "Train Loss = 0.64829, Train MSE = 1.16872, Train MAE = 0.86804, Train Acc = 0.63763\n",
      "Val Loss = 0.62785, Val MSE = 1.11044, Val MAE = 0.84774, Val Acc = 0.64669\n"
     ]
    },
    {
     "name": "stderr",
     "output_type": "stream",
     "text": [
      "Epoch 12/512: 100%|█████████████████████████████████████████████████████████████████████| 906/906 [00:40<00:00, 22.21it/s]\n"
     ]
    },
    {
     "name": "stdout",
     "output_type": "stream",
     "text": [
      "Epoch 12/512: \n",
      "Train Loss = 0.64210, Train MSE = 1.15477, Train MAE = 0.86129, Train Acc = 0.64224\n",
      "Val Loss = 0.62929, Val MSE = 1.11914, Val MAE = 0.84906, Val Acc = 0.65139\n"
     ]
    },
    {
     "name": "stderr",
     "output_type": "stream",
     "text": [
      "Epoch 13/512: 100%|█████████████████████████████████████████████████████████████████████| 906/906 [00:40<00:00, 22.29it/s]\n"
     ]
    },
    {
     "name": "stdout",
     "output_type": "stream",
     "text": [
      "Epoch 13/512: \n",
      "Train Loss = 0.64021, Train MSE = 1.15297, Train MAE = 0.85949, Train Acc = 0.64369\n",
      "Val Loss = 0.62023, Val MSE = 1.09187, Val MAE = 0.83854, Val Acc = 0.65525\n"
     ]
    },
    {
     "name": "stderr",
     "output_type": "stream",
     "text": [
      "Epoch 14/512: 100%|█████████████████████████████████████████████████████████████████████| 906/906 [00:40<00:00, 22.31it/s]\n"
     ]
    },
    {
     "name": "stdout",
     "output_type": "stream",
     "text": [
      "Epoch 14/512: \n",
      "Train Loss = 0.63479, Train MSE = 1.14003, Train MAE = 0.85356, Train Acc = 0.64692\n",
      "Val Loss = 0.61342, Val MSE = 1.07926, Val MAE = 0.83161, Val Acc = 0.65995\n"
     ]
    },
    {
     "name": "stderr",
     "output_type": "stream",
     "text": [
      "Epoch 15/512: 100%|█████████████████████████████████████████████████████████████████████| 906/906 [00:40<00:00, 22.33it/s]\n"
     ]
    },
    {
     "name": "stdout",
     "output_type": "stream",
     "text": [
      "Epoch 15/512: \n",
      "Train Loss = 0.63252, Train MSE = 1.13688, Train MAE = 0.85095, Train Acc = 0.64928\n",
      "Val Loss = 0.61178, Val MSE = 1.07277, Val MAE = 0.83051, Val Acc = 0.65677\n"
     ]
    },
    {
     "name": "stderr",
     "output_type": "stream",
     "text": [
      "Epoch 16/512: 100%|█████████████████████████████████████████████████████████████████████| 906/906 [00:40<00:00, 22.22it/s]\n"
     ]
    },
    {
     "name": "stdout",
     "output_type": "stream",
     "text": [
      "Epoch 16/512: \n",
      "Train Loss = 0.62841, Train MSE = 1.12792, Train MAE = 0.84651, Train Acc = 0.65175\n",
      "Val Loss = 0.61566, Val MSE = 1.08441, Val MAE = 0.83429, Val Acc = 0.65774\n"
     ]
    },
    {
     "name": "stderr",
     "output_type": "stream",
     "text": [
      "Epoch 17/512: 100%|█████████████████████████████████████████████████████████████████████| 906/906 [00:40<00:00, 22.24it/s]\n"
     ]
    },
    {
     "name": "stdout",
     "output_type": "stream",
     "text": [
      "Epoch 17/512: \n",
      "Train Loss = 0.62288, Train MSE = 1.11421, Train MAE = 0.84105, Train Acc = 0.65565\n",
      "Val Loss = 0.60002, Val MSE = 1.05447, Val MAE = 0.81677, Val Acc = 0.66437\n"
     ]
    },
    {
     "name": "stderr",
     "output_type": "stream",
     "text": [
      "Epoch 18/512: 100%|█████████████████████████████████████████████████████████████████████| 906/906 [00:40<00:00, 22.25it/s]\n"
     ]
    },
    {
     "name": "stdout",
     "output_type": "stream",
     "text": [
      "Epoch 18/512: \n",
      "Train Loss = 0.62220, Train MSE = 1.11261, Train MAE = 0.83992, Train Acc = 0.65577\n",
      "Val Loss = 0.60205, Val MSE = 1.05434, Val MAE = 0.81931, Val Acc = 0.66519\n"
     ]
    },
    {
     "name": "stderr",
     "output_type": "stream",
     "text": [
      "Epoch 19/512: 100%|█████████████████████████████████████████████████████████████████████| 906/906 [00:40<00:00, 22.26it/s]\n"
     ]
    },
    {
     "name": "stdout",
     "output_type": "stream",
     "text": [
      "Epoch 19/512: \n",
      "Train Loss = 0.61956, Train MSE = 1.10570, Train MAE = 0.83750, Train Acc = 0.65722\n",
      "Val Loss = 0.59286, Val MSE = 1.02943, Val MAE = 0.80976, Val Acc = 0.67030\n"
     ]
    },
    {
     "name": "stderr",
     "output_type": "stream",
     "text": [
      "Epoch 20/512: 100%|█████████████████████████████████████████████████████████████████████| 906/906 [00:40<00:00, 22.29it/s]\n"
     ]
    },
    {
     "name": "stdout",
     "output_type": "stream",
     "text": [
      "Epoch 20/512: \n",
      "Train Loss = 0.61383, Train MSE = 1.09245, Train MAE = 0.83129, Train Acc = 0.66135\n",
      "Val Loss = 0.59805, Val MSE = 1.04511, Val MAE = 0.81479, Val Acc = 0.66920\n"
     ]
    },
    {
     "name": "stderr",
     "output_type": "stream",
     "text": [
      "Epoch 21/512: 100%|█████████████████████████████████████████████████████████████████████| 906/906 [00:40<00:00, 22.27it/s]\n"
     ]
    },
    {
     "name": "stdout",
     "output_type": "stream",
     "text": [
      "Epoch 21/512: \n",
      "Train Loss = 0.61157, Train MSE = 1.08908, Train MAE = 0.82888, Train Acc = 0.66492\n",
      "Val Loss = 0.59228, Val MSE = 1.03286, Val MAE = 0.80797, Val Acc = 0.67472\n"
     ]
    },
    {
     "name": "stderr",
     "output_type": "stream",
     "text": [
      "Epoch 22/512: 100%|█████████████████████████████████████████████████████████████████████| 906/906 [00:40<00:00, 22.24it/s]\n"
     ]
    },
    {
     "name": "stdout",
     "output_type": "stream",
     "text": [
      "Epoch 22/512: \n",
      "Train Loss = 0.61041, Train MSE = 1.08544, Train MAE = 0.82754, Train Acc = 0.66475\n",
      "Val Loss = 0.58741, Val MSE = 1.02208, Val MAE = 0.80307, Val Acc = 0.67237\n"
     ]
    },
    {
     "name": "stderr",
     "output_type": "stream",
     "text": [
      "Epoch 23/512: 100%|█████████████████████████████████████████████████████████████████████| 906/906 [00:40<00:00, 22.22it/s]\n"
     ]
    },
    {
     "name": "stdout",
     "output_type": "stream",
     "text": [
      "Epoch 23/512: \n",
      "Train Loss = 0.60594, Train MSE = 1.07393, Train MAE = 0.82264, Train Acc = 0.66718\n",
      "Val Loss = 0.59008, Val MSE = 1.03252, Val MAE = 0.80563, Val Acc = 0.67375\n"
     ]
    },
    {
     "name": "stderr",
     "output_type": "stream",
     "text": [
      "Epoch 24/512: 100%|█████████████████████████████████████████████████████████████████████| 906/906 [00:40<00:00, 22.33it/s]\n"
     ]
    },
    {
     "name": "stdout",
     "output_type": "stream",
     "text": [
      "Epoch 24/512: \n",
      "Train Loss = 0.60655, Train MSE = 1.07927, Train MAE = 0.82347, Train Acc = 0.66811\n",
      "Val Loss = 0.59127, Val MSE = 1.04104, Val MAE = 0.80676, Val Acc = 0.67431\n"
     ]
    },
    {
     "name": "stderr",
     "output_type": "stream",
     "text": [
      "Epoch 25/512: 100%|█████████████████████████████████████████████████████████████████████| 906/906 [00:40<00:00, 22.30it/s]\n"
     ]
    },
    {
     "name": "stdout",
     "output_type": "stream",
     "text": [
      "Epoch 25/512: \n",
      "Train Loss = 0.60365, Train MSE = 1.07120, Train MAE = 0.82028, Train Acc = 0.66977\n",
      "Val Loss = 0.59391, Val MSE = 1.02269, Val MAE = 0.81202, Val Acc = 0.66851\n"
     ]
    },
    {
     "name": "stderr",
     "output_type": "stream",
     "text": [
      "Epoch 26/512: 100%|█████████████████████████████████████████████████████████████████████| 906/906 [00:40<00:00, 22.31it/s]\n"
     ]
    },
    {
     "name": "stdout",
     "output_type": "stream",
     "text": [
      "Epoch 26/512: \n",
      "Train Loss = 0.59993, Train MSE = 1.06208, Train MAE = 0.81670, Train Acc = 0.67272\n",
      "Val Loss = 0.58843, Val MSE = 1.01695, Val MAE = 0.80472, Val Acc = 0.67417\n"
     ]
    },
    {
     "name": "stderr",
     "output_type": "stream",
     "text": [
      "Epoch 27/512: 100%|█████████████████████████████████████████████████████████████████████| 906/906 [00:40<00:00, 22.23it/s]\n"
     ]
    },
    {
     "name": "stdout",
     "output_type": "stream",
     "text": [
      "Epoch 27/512: \n",
      "Train Loss = 0.59901, Train MSE = 1.06148, Train MAE = 0.81566, Train Acc = 0.67396\n",
      "Val Loss = 0.57725, Val MSE = 0.99189, Val MAE = 0.79318, Val Acc = 0.67748\n"
     ]
    },
    {
     "name": "stderr",
     "output_type": "stream",
     "text": [
      "Epoch 28/512: 100%|█████████████████████████████████████████████████████████████████████| 906/906 [00:40<00:00, 22.19it/s]\n"
     ]
    },
    {
     "name": "stdout",
     "output_type": "stream",
     "text": [
      "Epoch 28/512: \n",
      "Train Loss = 0.59529, Train MSE = 1.05090, Train MAE = 0.81167, Train Acc = 0.67494\n",
      "Val Loss = 0.57437, Val MSE = 0.99464, Val MAE = 0.78961, Val Acc = 0.67941\n"
     ]
    },
    {
     "name": "stderr",
     "output_type": "stream",
     "text": [
      "Epoch 29/512: 100%|█████████████████████████████████████████████████████████████████████| 906/906 [00:40<00:00, 22.33it/s]\n"
     ]
    },
    {
     "name": "stdout",
     "output_type": "stream",
     "text": [
      "Epoch 29/512: \n",
      "Train Loss = 0.59429, Train MSE = 1.04962, Train MAE = 0.81064, Train Acc = 0.67596\n",
      "Val Loss = 0.57358, Val MSE = 0.98660, Val MAE = 0.78940, Val Acc = 0.68383\n"
     ]
    },
    {
     "name": "stderr",
     "output_type": "stream",
     "text": [
      "Epoch 30/512: 100%|█████████████████████████████████████████████████████████████████████| 906/906 [00:40<00:00, 22.19it/s]\n"
     ]
    },
    {
     "name": "stdout",
     "output_type": "stream",
     "text": [
      "Epoch 30/512: \n",
      "Train Loss = 0.59270, Train MSE = 1.04676, Train MAE = 0.80904, Train Acc = 0.67671\n",
      "Val Loss = 0.56910, Val MSE = 0.97482, Val MAE = 0.78457, Val Acc = 0.68673\n"
     ]
    },
    {
     "name": "stderr",
     "output_type": "stream",
     "text": [
      "Epoch 31/512: 100%|█████████████████████████████████████████████████████████████████████| 906/906 [00:40<00:00, 22.28it/s]\n"
     ]
    },
    {
     "name": "stdout",
     "output_type": "stream",
     "text": [
      "Epoch 31/512: \n",
      "Train Loss = 0.59043, Train MSE = 1.04064, Train MAE = 0.80662, Train Acc = 0.67924\n",
      "Val Loss = 0.57770, Val MSE = 1.00519, Val MAE = 0.79317, Val Acc = 0.68604\n"
     ]
    },
    {
     "name": "stderr",
     "output_type": "stream",
     "text": [
      "Epoch 32/512: 100%|█████████████████████████████████████████████████████████████████████| 906/906 [00:40<00:00, 22.31it/s]\n"
     ]
    },
    {
     "name": "stdout",
     "output_type": "stream",
     "text": [
      "Epoch 32/512: \n",
      "Train Loss = 0.58887, Train MSE = 1.03952, Train MAE = 0.80514, Train Acc = 0.68206\n",
      "Val Loss = 0.55982, Val MSE = 0.96288, Val MAE = 0.77397, Val Acc = 0.69888\n"
     ]
    },
    {
     "name": "stderr",
     "output_type": "stream",
     "text": [
      "Epoch 33/512: 100%|█████████████████████████████████████████████████████████████████████| 906/906 [00:40<00:00, 22.26it/s]\n"
     ]
    },
    {
     "name": "stdout",
     "output_type": "stream",
     "text": [
      "Epoch 33/512: \n",
      "Train Loss = 0.58753, Train MSE = 1.03480, Train MAE = 0.80342, Train Acc = 0.68123\n",
      "Val Loss = 0.56379, Val MSE = 0.97211, Val MAE = 0.77873, Val Acc = 0.69253\n"
     ]
    },
    {
     "name": "stderr",
     "output_type": "stream",
     "text": [
      "Epoch 34/512: 100%|█████████████████████████████████████████████████████████████████████| 906/906 [00:40<00:00, 22.21it/s]\n"
     ]
    },
    {
     "name": "stdout",
     "output_type": "stream",
     "text": [
      "Epoch 34/512: \n",
      "Train Loss = 0.58678, Train MSE = 1.03132, Train MAE = 0.80251, Train Acc = 0.68114\n",
      "Val Loss = 0.56048, Val MSE = 0.96097, Val MAE = 0.77512, Val Acc = 0.69529\n"
     ]
    },
    {
     "name": "stderr",
     "output_type": "stream",
     "text": [
      "Epoch 35/512: 100%|█████████████████████████████████████████████████████████████████████| 906/906 [00:40<00:00, 22.24it/s]\n"
     ]
    },
    {
     "name": "stdout",
     "output_type": "stream",
     "text": [
      "Epoch 35/512: \n",
      "Train Loss = 0.58950, Train MSE = 1.03943, Train MAE = 0.80594, Train Acc = 0.68116\n",
      "Val Loss = 0.56167, Val MSE = 0.96655, Val MAE = 0.77602, Val Acc = 0.69681\n"
     ]
    },
    {
     "name": "stderr",
     "output_type": "stream",
     "text": [
      "Epoch 36/512: 100%|█████████████████████████████████████████████████████████████████████| 906/906 [00:40<00:00, 22.21it/s]\n"
     ]
    },
    {
     "name": "stdout",
     "output_type": "stream",
     "text": [
      "Epoch 36/512: \n",
      "Train Loss = 0.58183, Train MSE = 1.02112, Train MAE = 0.79714, Train Acc = 0.68449\n",
      "Val Loss = 0.55984, Val MSE = 0.96245, Val MAE = 0.77457, Val Acc = 0.69667\n"
     ]
    },
    {
     "name": "stderr",
     "output_type": "stream",
     "text": [
      "Epoch 37/512: 100%|█████████████████████████████████████████████████████████████████████| 906/906 [00:40<00:00, 22.30it/s]\n"
     ]
    },
    {
     "name": "stdout",
     "output_type": "stream",
     "text": [
      "Epoch 37/512: \n",
      "Train Loss = 0.58168, Train MSE = 1.02000, Train MAE = 0.79735, Train Acc = 0.68432\n",
      "Val Loss = 0.55508, Val MSE = 0.95514, Val MAE = 0.77012, Val Acc = 0.69778\n"
     ]
    },
    {
     "name": "stderr",
     "output_type": "stream",
     "text": [
      "Epoch 38/512: 100%|█████████████████████████████████████████████████████████████████████| 906/906 [00:40<00:00, 22.27it/s]\n"
     ]
    },
    {
     "name": "stdout",
     "output_type": "stream",
     "text": [
      "Epoch 38/512: \n",
      "Train Loss = 0.58071, Train MSE = 1.01981, Train MAE = 0.79665, Train Acc = 0.68677\n",
      "Val Loss = 0.56578, Val MSE = 0.96494, Val MAE = 0.78142, Val Acc = 0.69377\n"
     ]
    },
    {
     "name": "stderr",
     "output_type": "stream",
     "text": [
      "Epoch 39/512: 100%|█████████████████████████████████████████████████████████████████████| 906/906 [00:40<00:00, 22.19it/s]\n"
     ]
    },
    {
     "name": "stdout",
     "output_type": "stream",
     "text": [
      "Epoch 39/512: \n",
      "Train Loss = 0.58087, Train MSE = 1.01763, Train MAE = 0.79643, Train Acc = 0.68613\n",
      "Val Loss = 0.55630, Val MSE = 0.95494, Val MAE = 0.77037, Val Acc = 0.69667\n"
     ]
    },
    {
     "name": "stderr",
     "output_type": "stream",
     "text": [
      "Epoch 40/512: 100%|█████████████████████████████████████████████████████████████████████| 906/906 [00:40<00:00, 22.21it/s]\n"
     ]
    },
    {
     "name": "stdout",
     "output_type": "stream",
     "text": [
      "Epoch 40/512: \n",
      "Train Loss = 0.57504, Train MSE = 1.00515, Train MAE = 0.79079, Train Acc = 0.69225\n",
      "Val Loss = 0.54663, Val MSE = 0.92383, Val MAE = 0.76060, Val Acc = 0.70868\n"
     ]
    },
    {
     "name": "stderr",
     "output_type": "stream",
     "text": [
      "Epoch 41/512: 100%|█████████████████████████████████████████████████████████████████████| 906/906 [00:40<00:00, 22.25it/s]\n"
     ]
    },
    {
     "name": "stdout",
     "output_type": "stream",
     "text": [
      "Epoch 41/512: \n",
      "Train Loss = 0.57498, Train MSE = 1.00307, Train MAE = 0.79053, Train Acc = 0.69106\n",
      "Val Loss = 0.54791, Val MSE = 0.93366, Val MAE = 0.76129, Val Acc = 0.70261\n"
     ]
    },
    {
     "name": "stderr",
     "output_type": "stream",
     "text": [
      "Epoch 42/512: 100%|█████████████████████████████████████████████████████████████████████| 906/906 [00:40<00:00, 22.18it/s]\n"
     ]
    },
    {
     "name": "stdout",
     "output_type": "stream",
     "text": [
      "Epoch 42/512: \n",
      "Train Loss = 0.57507, Train MSE = 1.00426, Train MAE = 0.79094, Train Acc = 0.68936\n",
      "Val Loss = 0.54670, Val MSE = 0.93027, Val MAE = 0.75952, Val Acc = 0.70206\n"
     ]
    },
    {
     "name": "stderr",
     "output_type": "stream",
     "text": [
      "Epoch 43/512: 100%|█████████████████████████████████████████████████████████████████████| 906/906 [00:40<00:00, 22.26it/s]\n"
     ]
    },
    {
     "name": "stdout",
     "output_type": "stream",
     "text": [
      "Epoch 43/512: \n",
      "Train Loss = 0.57678, Train MSE = 1.00889, Train MAE = 0.79189, Train Acc = 0.68839\n",
      "Val Loss = 0.53922, Val MSE = 0.91992, Val MAE = 0.75260, Val Acc = 0.70896\n"
     ]
    },
    {
     "name": "stderr",
     "output_type": "stream",
     "text": [
      "Epoch 44/512: 100%|█████████████████████████████████████████████████████████████████████| 906/906 [00:40<00:00, 22.21it/s]\n"
     ]
    },
    {
     "name": "stdout",
     "output_type": "stream",
     "text": [
      "Epoch 44/512: \n",
      "Train Loss = 0.57261, Train MSE = 0.99924, Train MAE = 0.78751, Train Acc = 0.69039\n",
      "Val Loss = 0.54211, Val MSE = 0.91519, Val MAE = 0.75597, Val Acc = 0.71062\n"
     ]
    },
    {
     "name": "stderr",
     "output_type": "stream",
     "text": [
      "Epoch 45/512: 100%|█████████████████████████████████████████████████████████████████████| 906/906 [00:40<00:00, 22.27it/s]\n"
     ]
    },
    {
     "name": "stdout",
     "output_type": "stream",
     "text": [
      "Epoch 45/512: \n",
      "Train Loss = 0.57381, Train MSE = 1.00166, Train MAE = 0.78928, Train Acc = 0.69056\n",
      "Val Loss = 0.54593, Val MSE = 0.92051, Val MAE = 0.76131, Val Acc = 0.70786\n"
     ]
    },
    {
     "name": "stderr",
     "output_type": "stream",
     "text": [
      "Epoch 46/512: 100%|█████████████████████████████████████████████████████████████████████| 906/906 [00:40<00:00, 22.25it/s]\n"
     ]
    },
    {
     "name": "stdout",
     "output_type": "stream",
     "text": [
      "Epoch 46/512: \n",
      "Train Loss = 0.57182, Train MSE = 0.99659, Train MAE = 0.78730, Train Acc = 0.69215\n",
      "Val Loss = 0.54319, Val MSE = 0.91865, Val MAE = 0.75700, Val Acc = 0.70951\n"
     ]
    },
    {
     "name": "stderr",
     "output_type": "stream",
     "text": [
      "Epoch 47/512: 100%|█████████████████████████████████████████████████████████████████████| 906/906 [00:40<00:00, 22.23it/s]\n"
     ]
    },
    {
     "name": "stdout",
     "output_type": "stream",
     "text": [
      "Epoch 47/512: \n",
      "Train Loss = 0.56810, Train MSE = 0.98538, Train MAE = 0.78340, Train Acc = 0.69552\n",
      "Val Loss = 0.53995, Val MSE = 0.91717, Val MAE = 0.75364, Val Acc = 0.71269\n"
     ]
    },
    {
     "name": "stderr",
     "output_type": "stream",
     "text": [
      "Epoch 48/512: 100%|█████████████████████████████████████████████████████████████████████| 906/906 [00:40<00:00, 22.36it/s]\n"
     ]
    },
    {
     "name": "stdout",
     "output_type": "stream",
     "text": [
      "Epoch 48/512: \n",
      "Train Loss = 0.56862, Train MSE = 0.99223, Train MAE = 0.78354, Train Acc = 0.69491\n",
      "Val Loss = 0.54083, Val MSE = 0.91064, Val MAE = 0.75473, Val Acc = 0.71117\n"
     ]
    },
    {
     "name": "stderr",
     "output_type": "stream",
     "text": [
      "Epoch 49/512: 100%|█████████████████████████████████████████████████████████████████████| 906/906 [00:40<00:00, 22.30it/s]\n"
     ]
    },
    {
     "name": "stdout",
     "output_type": "stream",
     "text": [
      "Epoch 49/512: \n",
      "Train Loss = 0.56815, Train MSE = 0.98769, Train MAE = 0.78326, Train Acc = 0.69536\n",
      "Val Loss = 0.53810, Val MSE = 0.91374, Val MAE = 0.75152, Val Acc = 0.71434\n"
     ]
    },
    {
     "name": "stderr",
     "output_type": "stream",
     "text": [
      "Epoch 50/512: 100%|█████████████████████████████████████████████████████████████████████| 906/906 [00:40<00:00, 22.19it/s]\n"
     ]
    },
    {
     "name": "stdout",
     "output_type": "stream",
     "text": [
      "Epoch 50/512: \n",
      "Train Loss = 0.56517, Train MSE = 0.98245, Train MAE = 0.77995, Train Acc = 0.69786\n",
      "Val Loss = 0.53999, Val MSE = 0.91170, Val MAE = 0.75448, Val Acc = 0.71393\n"
     ]
    },
    {
     "name": "stderr",
     "output_type": "stream",
     "text": [
      "Epoch 51/512: 100%|█████████████████████████████████████████████████████████████████████| 906/906 [00:40<00:00, 22.29it/s]\n"
     ]
    },
    {
     "name": "stdout",
     "output_type": "stream",
     "text": [
      "Epoch 51/512: \n",
      "Train Loss = 0.56812, Train MSE = 0.98971, Train MAE = 0.78284, Train Acc = 0.69458\n",
      "Val Loss = 0.53298, Val MSE = 0.89638, Val MAE = 0.74680, Val Acc = 0.71310\n"
     ]
    },
    {
     "name": "stderr",
     "output_type": "stream",
     "text": [
      "Epoch 52/512: 100%|█████████████████████████████████████████████████████████████████████| 906/906 [00:40<00:00, 22.17it/s]\n"
     ]
    },
    {
     "name": "stdout",
     "output_type": "stream",
     "text": [
      "Epoch 52/512: \n",
      "Train Loss = 0.55962, Train MSE = 0.96847, Train MAE = 0.77421, Train Acc = 0.70166\n",
      "Val Loss = 0.52890, Val MSE = 0.89930, Val MAE = 0.74261, Val Acc = 0.72387\n"
     ]
    },
    {
     "name": "stderr",
     "output_type": "stream",
     "text": [
      "Epoch 53/512: 100%|█████████████████████████████████████████████████████████████████████| 906/906 [00:40<00:00, 22.17it/s]\n"
     ]
    },
    {
     "name": "stdout",
     "output_type": "stream",
     "text": [
      "Epoch 53/512: \n",
      "Train Loss = 0.56244, Train MSE = 0.97377, Train MAE = 0.77742, Train Acc = 0.69857\n",
      "Val Loss = 0.52685, Val MSE = 0.88106, Val MAE = 0.74011, Val Acc = 0.72180\n"
     ]
    },
    {
     "name": "stderr",
     "output_type": "stream",
     "text": [
      "Epoch 54/512: 100%|█████████████████████████████████████████████████████████████████████| 906/906 [00:40<00:00, 22.24it/s]\n"
     ]
    },
    {
     "name": "stdout",
     "output_type": "stream",
     "text": [
      "Epoch 54/512: \n",
      "Train Loss = 0.55903, Train MSE = 0.96816, Train MAE = 0.77373, Train Acc = 0.70351\n",
      "Val Loss = 0.52782, Val MSE = 0.88135, Val MAE = 0.74140, Val Acc = 0.71987\n"
     ]
    },
    {
     "name": "stderr",
     "output_type": "stream",
     "text": [
      "Epoch 55/512: 100%|█████████████████████████████████████████████████████████████████████| 906/906 [00:40<00:00, 22.24it/s]\n"
     ]
    },
    {
     "name": "stdout",
     "output_type": "stream",
     "text": [
      "Epoch 55/512: \n",
      "Train Loss = 0.56212, Train MSE = 0.97465, Train MAE = 0.77691, Train Acc = 0.69978\n",
      "Val Loss = 0.53050, Val MSE = 0.90063, Val MAE = 0.74305, Val Acc = 0.71987\n"
     ]
    },
    {
     "name": "stderr",
     "output_type": "stream",
     "text": [
      "Epoch 56/512: 100%|█████████████████████████████████████████████████████████████████████| 906/906 [00:40<00:00, 22.20it/s]\n"
     ]
    },
    {
     "name": "stdout",
     "output_type": "stream",
     "text": [
      "Epoch 56/512: \n",
      "Train Loss = 0.56303, Train MSE = 0.97746, Train MAE = 0.77788, Train Acc = 0.69885\n",
      "Val Loss = 0.53414, Val MSE = 0.90472, Val MAE = 0.74740, Val Acc = 0.71448\n"
     ]
    },
    {
     "name": "stderr",
     "output_type": "stream",
     "text": [
      "Epoch 57/512: 100%|█████████████████████████████████████████████████████████████████████| 906/906 [00:40<00:00, 22.25it/s]\n"
     ]
    },
    {
     "name": "stdout",
     "output_type": "stream",
     "text": [
      "Epoch 57/512: \n",
      "Train Loss = 0.55736, Train MSE = 0.96523, Train MAE = 0.77155, Train Acc = 0.70247\n",
      "Val Loss = 0.52318, Val MSE = 0.86934, Val MAE = 0.73656, Val Acc = 0.72180\n"
     ]
    },
    {
     "name": "stderr",
     "output_type": "stream",
     "text": [
      "Epoch 58/512: 100%|█████████████████████████████████████████████████████████████████████| 906/906 [00:40<00:00, 22.27it/s]\n"
     ]
    },
    {
     "name": "stdout",
     "output_type": "stream",
     "text": [
      "Epoch 58/512: \n",
      "Train Loss = 0.55626, Train MSE = 0.96085, Train MAE = 0.77063, Train Acc = 0.70418\n",
      "Val Loss = 0.52299, Val MSE = 0.88082, Val MAE = 0.73506, Val Acc = 0.72304\n"
     ]
    },
    {
     "name": "stderr",
     "output_type": "stream",
     "text": [
      "Epoch 59/512: 100%|█████████████████████████████████████████████████████████████████████| 906/906 [00:40<00:00, 22.23it/s]\n"
     ]
    },
    {
     "name": "stdout",
     "output_type": "stream",
     "text": [
      "Epoch 59/512: \n",
      "Train Loss = 0.55272, Train MSE = 0.95297, Train MAE = 0.76679, Train Acc = 0.70575\n",
      "Val Loss = 0.52283, Val MSE = 0.87464, Val MAE = 0.73589, Val Acc = 0.72539\n"
     ]
    },
    {
     "name": "stderr",
     "output_type": "stream",
     "text": [
      "Epoch 60/512: 100%|█████████████████████████████████████████████████████████████████████| 906/906 [00:40<00:00, 22.26it/s]\n"
     ]
    },
    {
     "name": "stdout",
     "output_type": "stream",
     "text": [
      "Epoch 60/512: \n",
      "Train Loss = 0.55541, Train MSE = 0.96018, Train MAE = 0.76963, Train Acc = 0.70420\n",
      "Val Loss = 0.52848, Val MSE = 0.88532, Val MAE = 0.74115, Val Acc = 0.71642\n"
     ]
    },
    {
     "name": "stderr",
     "output_type": "stream",
     "text": [
      "Epoch 61/512: 100%|█████████████████████████████████████████████████████████████████████| 906/906 [00:40<00:00, 22.25it/s]\n"
     ]
    },
    {
     "name": "stdout",
     "output_type": "stream",
     "text": [
      "Epoch 61/512: \n",
      "Train Loss = 0.55660, Train MSE = 0.96216, Train MAE = 0.77102, Train Acc = 0.70330\n",
      "Val Loss = 0.52515, Val MSE = 0.88513, Val MAE = 0.73728, Val Acc = 0.72221\n"
     ]
    },
    {
     "name": "stderr",
     "output_type": "stream",
     "text": [
      "Epoch 62/512: 100%|█████████████████████████████████████████████████████████████████████| 906/906 [00:40<00:00, 22.28it/s]\n"
     ]
    },
    {
     "name": "stdout",
     "output_type": "stream",
     "text": [
      "Epoch 62/512: \n",
      "Train Loss = 0.55480, Train MSE = 0.95797, Train MAE = 0.76882, Train Acc = 0.70551\n",
      "Val Loss = 0.52342, Val MSE = 0.87244, Val MAE = 0.73650, Val Acc = 0.72580\n"
     ]
    },
    {
     "name": "stderr",
     "output_type": "stream",
     "text": [
      "Epoch 63/512: 100%|█████████████████████████████████████████████████████████████████████| 906/906 [00:40<00:00, 22.30it/s]\n"
     ]
    },
    {
     "name": "stdout",
     "output_type": "stream",
     "text": [
      "Epoch 63/512: \n",
      "Train Loss = 0.55172, Train MSE = 0.95315, Train MAE = 0.76547, Train Acc = 0.70661\n",
      "Val Loss = 0.52383, Val MSE = 0.87240, Val MAE = 0.73708, Val Acc = 0.72056\n"
     ]
    },
    {
     "name": "stderr",
     "output_type": "stream",
     "text": [
      "Epoch 64/512: 100%|█████████████████████████████████████████████████████████████████████| 906/906 [00:40<00:00, 22.20it/s]\n"
     ]
    },
    {
     "name": "stdout",
     "output_type": "stream",
     "text": [
      "Epoch 64/512: \n",
      "Train Loss = 0.54930, Train MSE = 0.94380, Train MAE = 0.76355, Train Acc = 0.70799\n",
      "Val Loss = 0.51633, Val MSE = 0.86470, Val MAE = 0.72816, Val Acc = 0.72939\n"
     ]
    },
    {
     "name": "stderr",
     "output_type": "stream",
     "text": [
      "Epoch 65/512: 100%|█████████████████████████████████████████████████████████████████████| 906/906 [00:40<00:00, 22.19it/s]\n"
     ]
    },
    {
     "name": "stdout",
     "output_type": "stream",
     "text": [
      "Epoch 65/512: \n",
      "Train Loss = 0.55158, Train MSE = 0.94987, Train MAE = 0.76567, Train Acc = 0.70477\n",
      "Val Loss = 0.51451, Val MSE = 0.85785, Val MAE = 0.72633, Val Acc = 0.73036\n"
     ]
    },
    {
     "name": "stderr",
     "output_type": "stream",
     "text": [
      "Epoch 66/512: 100%|█████████████████████████████████████████████████████████████████████| 906/906 [00:40<00:00, 22.23it/s]\n"
     ]
    },
    {
     "name": "stdout",
     "output_type": "stream",
     "text": [
      "Epoch 66/512: \n",
      "Train Loss = 0.54963, Train MSE = 0.94650, Train MAE = 0.76367, Train Acc = 0.70786\n",
      "Val Loss = 0.51757, Val MSE = 0.86520, Val MAE = 0.73001, Val Acc = 0.73022\n"
     ]
    },
    {
     "name": "stderr",
     "output_type": "stream",
     "text": [
      "Epoch 67/512:  21%|██████████████▌                                                      | 192/906 [00:08<00:32, 22.25it/s]"
     ]
    }
   ],
   "source": [
    "import argparse\n",
    "\n",
    "training_args = argparse.Namespace(**args)\n",
    "train_model(training_args, device)"
   ]
  },
  {
   "cell_type": "code",
   "execution_count": null,
   "metadata": {},
   "outputs": [],
   "source": []
  }
 ],
 "metadata": {
  "kernelspec": {
   "display_name": "Python (myenv)",
   "language": "python",
   "name": "myenv"
  },
  "language_info": {
   "codemirror_mode": {
    "name": "ipython",
    "version": 3
   },
   "file_extension": ".py",
   "mimetype": "text/x-python",
   "name": "python",
   "nbconvert_exporter": "python",
   "pygments_lexer": "ipython3",
   "version": "3.12.7"
  }
 },
 "nbformat": 4,
 "nbformat_minor": 4
}
