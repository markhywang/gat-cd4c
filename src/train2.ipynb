{
 "cells": [
  {
   "cell_type": "code",
   "execution_count": 1,
   "metadata": {},
   "outputs": [],
   "source": [
    "# Copy of train.ipynb (run on GPU 1)"
   ]
  },
  {
   "cell_type": "code",
   "execution_count": 2,
   "metadata": {},
   "outputs": [
    {
     "name": "stdout",
     "output_type": "stream",
     "text": [
      "Using device: cuda:1\n"
     ]
    }
   ],
   "source": [
    "import torch\n",
    "\n",
    "# Local imports\n",
    "from train import train_model"
   ]
  },
  {
   "cell_type": "code",
   "execution_count": 3,
   "metadata": {},
   "outputs": [
    {
     "name": "stdout",
     "output_type": "stream",
     "text": [
      "Using device: cuda:1\n"
     ]
    }
   ],
   "source": [
    "if torch.backends.mps.is_available():\n",
    "    device = torch.device(\"mps\")\n",
    "elif torch.cuda.is_available():\n",
    "    device = torch.device(\"cuda:1\")\n",
    "else:\n",
    "    device = torch.device(\"cpu\")\n",
    "\n",
    "print(f\"Using device: {device}\")"
   ]
  },
  {
   "cell_type": "code",
   "execution_count": 4,
   "metadata": {},
   "outputs": [],
   "source": [
    "args = {\n",
    "    \"use_small_dataset\": False,\n",
    "    \"batch_size\": 64,\n",
    "    \"stoppage_epochs\": 512,\n",
    "    \"max_epochs\": 512,\n",
    "    \"seed\": 42,\n",
    "    \"data_path\": \"../data\",\n",
    "    \"frac_train\": 0.7,\n",
    "    \"frac_validation\": 0.15,\n",
    "    \"frac_test\": 0.15,\n",
    "    \"huber_beta\": 1.0,\n",
    "    \"weight_decay\": 1e-4,\n",
    "    \"lr\": 1e-3,\n",
    "    \"scheduler_patience\": 10,\n",
    "    \"scheduler_factor\": 0.5,\n",
    "    \"hidden_size\": 96,\n",
    "    \"num_layers\": 4,\n",
    "    \"num_attn_heads\": 6,\n",
    "    \"dropout\": 0.1,\n",
    "    \"leaky_relu_slope\": 0.2,\n",
    "    \"pooling_dim\": 96,\n",
    "}\n"
   ]
  },
  {
   "cell_type": "code",
   "execution_count": null,
   "metadata": {},
   "outputs": [
    {
     "name": "stdout",
     "output_type": "stream",
     "text": [
      "Model parameters: 113875\n"
     ]
    },
    {
     "name": "stderr",
     "output_type": "stream",
     "text": [
      "Epoch 1/512: 100%|███████████████████████████████████████████████████████| 796/796 [01:58<00:00,  6.72it/s]\n"
     ]
    },
    {
     "name": "stdout",
     "output_type": "stream",
     "text": [
      "Epoch 1/512: Train Loss = 0.86407, Validation Loss = 0.56300, Train Accuracy = 0.59153, Validation Accuracy = 0.57859\n"
     ]
    },
    {
     "name": "stderr",
     "output_type": "stream",
     "text": [
      "Epoch 2/512: 100%|███████████████████████████████████████████████████████| 796/796 [00:15<00:00, 50.95it/s]\n"
     ]
    },
    {
     "name": "stdout",
     "output_type": "stream",
     "text": [
      "Epoch 2/512: Train Loss = 0.55196, Validation Loss = 0.53128, Train Accuracy = 0.60304, Validation Accuracy = 0.60792\n"
     ]
    },
    {
     "name": "stderr",
     "output_type": "stream",
     "text": [
      "Epoch 3/512: 100%|███████████████████████████████████████████████████████| 796/796 [00:15<00:00, 51.57it/s]\n"
     ]
    },
    {
     "name": "stdout",
     "output_type": "stream",
     "text": [
      "Epoch 3/512: Train Loss = 0.54962, Validation Loss = 0.52739, Train Accuracy = 0.60768, Validation Accuracy = 0.61323\n"
     ]
    },
    {
     "name": "stderr",
     "output_type": "stream",
     "text": [
      "Epoch 4/512: 100%|███████████████████████████████████████████████████████| 796/796 [00:15<00:00, 51.34it/s]\n"
     ]
    },
    {
     "name": "stdout",
     "output_type": "stream",
     "text": [
      "Epoch 4/512: Train Loss = 0.54495, Validation Loss = 0.52877, Train Accuracy = 0.61298, Validation Accuracy = 0.61571\n"
     ]
    },
    {
     "name": "stderr",
     "output_type": "stream",
     "text": [
      "Epoch 5/512: 100%|███████████████████████████████████████████████████████| 796/796 [00:15<00:00, 51.09it/s]\n"
     ]
    },
    {
     "name": "stdout",
     "output_type": "stream",
     "text": [
      "Epoch 5/512: Train Loss = 0.53897, Validation Loss = 0.51769, Train Accuracy = 0.61308, Validation Accuracy = 0.62442\n"
     ]
    },
    {
     "name": "stderr",
     "output_type": "stream",
     "text": [
      "Epoch 6/512: 100%|███████████████████████████████████████████████████████| 796/796 [00:15<00:00, 51.21it/s]\n"
     ]
    },
    {
     "name": "stdout",
     "output_type": "stream",
     "text": [
      "Epoch 6/512: Train Loss = 0.53766, Validation Loss = 0.54636, Train Accuracy = 0.61614, Validation Accuracy = 0.58730\n"
     ]
    },
    {
     "name": "stderr",
     "output_type": "stream",
     "text": [
      "Epoch 7/512: 100%|███████████████████████████████████████████████████████| 796/796 [00:15<00:00, 50.88it/s]\n"
     ]
    },
    {
     "name": "stdout",
     "output_type": "stream",
     "text": [
      "Epoch 7/512: Train Loss = 0.53306, Validation Loss = 0.51436, Train Accuracy = 0.61758, Validation Accuracy = 0.62222\n"
     ]
    },
    {
     "name": "stderr",
     "output_type": "stream",
     "text": [
      "Epoch 8/512: 100%|███████████████████████████████████████████████████████| 796/796 [00:15<00:00, 50.62it/s]\n"
     ]
    },
    {
     "name": "stdout",
     "output_type": "stream",
     "text": [
      "Epoch 8/512: Train Loss = 0.53088, Validation Loss = 0.51217, Train Accuracy = 0.62180, Validation Accuracy = 0.62607\n"
     ]
    },
    {
     "name": "stderr",
     "output_type": "stream",
     "text": [
      "Epoch 9/512: 100%|███████████████████████████████████████████████████████| 796/796 [00:15<00:00, 50.79it/s]\n"
     ]
    },
    {
     "name": "stdout",
     "output_type": "stream",
     "text": [
      "Epoch 9/512: Train Loss = 0.52698, Validation Loss = 0.50452, Train Accuracy = 0.62528, Validation Accuracy = 0.63074\n"
     ]
    },
    {
     "name": "stderr",
     "output_type": "stream",
     "text": [
      "Epoch 10/512: 100%|██████████████████████████████████████████████████████| 796/796 [00:15<00:00, 50.38it/s]\n"
     ]
    },
    {
     "name": "stdout",
     "output_type": "stream",
     "text": [
      "Epoch 10/512: Train Loss = 0.52450, Validation Loss = 0.50111, Train Accuracy = 0.63009, Validation Accuracy = 0.64265\n"
     ]
    },
    {
     "name": "stderr",
     "output_type": "stream",
     "text": [
      "Epoch 11/512: 100%|██████████████████████████████████████████████████████| 796/796 [00:15<00:00, 50.71it/s]\n"
     ]
    },
    {
     "name": "stdout",
     "output_type": "stream",
     "text": [
      "Epoch 11/512: Train Loss = 0.52324, Validation Loss = 0.51059, Train Accuracy = 0.63284, Validation Accuracy = 0.63514\n"
     ]
    },
    {
     "name": "stderr",
     "output_type": "stream",
     "text": [
      "Epoch 12/512: 100%|██████████████████████████████████████████████████████| 796/796 [00:15<00:00, 50.24it/s]\n"
     ]
    },
    {
     "name": "stdout",
     "output_type": "stream",
     "text": [
      "Epoch 12/512: Train Loss = 0.51993, Validation Loss = 0.49482, Train Accuracy = 0.63661, Validation Accuracy = 0.64916\n"
     ]
    },
    {
     "name": "stderr",
     "output_type": "stream",
     "text": [
      "Epoch 13/512: 100%|██████████████████████████████████████████████████████| 796/796 [00:15<00:00, 50.72it/s]\n"
     ]
    },
    {
     "name": "stdout",
     "output_type": "stream",
     "text": [
      "Epoch 13/512: Train Loss = 0.51821, Validation Loss = 0.48902, Train Accuracy = 0.63798, Validation Accuracy = 0.65466\n"
     ]
    },
    {
     "name": "stderr",
     "output_type": "stream",
     "text": [
      "Epoch 14/512: 100%|██████████████████████████████████████████████████████| 796/796 [00:15<00:00, 50.81it/s]\n"
     ]
    },
    {
     "name": "stdout",
     "output_type": "stream",
     "text": [
      "Epoch 14/512: Train Loss = 0.51508, Validation Loss = 0.51344, Train Accuracy = 0.64242, Validation Accuracy = 0.62561\n"
     ]
    },
    {
     "name": "stderr",
     "output_type": "stream",
     "text": [
      "Epoch 15/512: 100%|██████████████████████████████████████████████████████| 796/796 [00:15<00:00, 50.76it/s]\n"
     ]
    },
    {
     "name": "stdout",
     "output_type": "stream",
     "text": [
      "Epoch 15/512: Train Loss = 0.51244, Validation Loss = 0.48435, Train Accuracy = 0.64468, Validation Accuracy = 0.66025\n"
     ]
    },
    {
     "name": "stderr",
     "output_type": "stream",
     "text": [
      "Epoch 16/512: 100%|██████████████████████████████████████████████████████| 796/796 [00:15<00:00, 50.83it/s]\n"
     ]
    },
    {
     "name": "stdout",
     "output_type": "stream",
     "text": [
      "Epoch 16/512: Train Loss = 0.50845, Validation Loss = 0.48190, Train Accuracy = 0.64796, Validation Accuracy = 0.65594\n"
     ]
    },
    {
     "name": "stderr",
     "output_type": "stream",
     "text": [
      "Epoch 17/512: 100%|██████████████████████████████████████████████████████| 796/796 [00:15<00:00, 50.02it/s]\n"
     ]
    },
    {
     "name": "stdout",
     "output_type": "stream",
     "text": [
      "Epoch 17/512: Train Loss = 0.50677, Validation Loss = 0.47782, Train Accuracy = 0.64790, Validation Accuracy = 0.65869\n"
     ]
    },
    {
     "name": "stderr",
     "output_type": "stream",
     "text": [
      "Epoch 18/512: 100%|██████████████████████████████████████████████████████| 796/796 [00:15<00:00, 50.84it/s]\n"
     ]
    },
    {
     "name": "stdout",
     "output_type": "stream",
     "text": [
      "Epoch 18/512: Train Loss = 0.50252, Validation Loss = 0.47039, Train Accuracy = 0.65089, Validation Accuracy = 0.66960\n"
     ]
    },
    {
     "name": "stderr",
     "output_type": "stream",
     "text": [
      "Epoch 19/512: 100%|██████████████████████████████████████████████████████| 796/796 [00:15<00:00, 50.36it/s]\n"
     ]
    },
    {
     "name": "stdout",
     "output_type": "stream",
     "text": [
      "Epoch 19/512: Train Loss = 0.50008, Validation Loss = 0.47007, Train Accuracy = 0.65476, Validation Accuracy = 0.66942\n"
     ]
    },
    {
     "name": "stderr",
     "output_type": "stream",
     "text": [
      "Epoch 20/512: 100%|██████████████████████████████████████████████████████| 796/796 [00:15<00:00, 50.73it/s]\n"
     ]
    },
    {
     "name": "stdout",
     "output_type": "stream",
     "text": [
      "Epoch 20/512: Train Loss = 0.49898, Validation Loss = 0.47023, Train Accuracy = 0.65383, Validation Accuracy = 0.66566\n"
     ]
    },
    {
     "name": "stderr",
     "output_type": "stream",
     "text": [
      "Epoch 21/512: 100%|██████████████████████████████████████████████████████| 796/796 [00:15<00:00, 50.89it/s]\n"
     ]
    },
    {
     "name": "stdout",
     "output_type": "stream",
     "text": [
      "Epoch 21/512: Train Loss = 0.49537, Validation Loss = 0.47305, Train Accuracy = 0.65696, Validation Accuracy = 0.66208\n"
     ]
    },
    {
     "name": "stderr",
     "output_type": "stream",
     "text": [
      "Epoch 22/512: 100%|██████████████████████████████████████████████████████| 796/796 [00:14<00:00, 53.07it/s]\n"
     ]
    },
    {
     "name": "stdout",
     "output_type": "stream",
     "text": [
      "Epoch 22/512: Train Loss = 0.49368, Validation Loss = 0.49072, Train Accuracy = 0.66016, Validation Accuracy = 0.64632\n"
     ]
    },
    {
     "name": "stderr",
     "output_type": "stream",
     "text": [
      "Epoch 23/512: 100%|██████████████████████████████████████████████████████| 796/796 [00:15<00:00, 49.82it/s]\n"
     ]
    },
    {
     "name": "stdout",
     "output_type": "stream",
     "text": [
      "Epoch 23/512: Train Loss = 0.49062, Validation Loss = 0.45832, Train Accuracy = 0.66163, Validation Accuracy = 0.67308\n"
     ]
    },
    {
     "name": "stderr",
     "output_type": "stream",
     "text": [
      "Epoch 24/512: 100%|██████████████████████████████████████████████████████| 796/796 [00:14<00:00, 54.35it/s]\n"
     ]
    },
    {
     "name": "stdout",
     "output_type": "stream",
     "text": [
      "Epoch 24/512: Train Loss = 0.48748, Validation Loss = 0.46455, Train Accuracy = 0.66038, Validation Accuracy = 0.67061\n"
     ]
    },
    {
     "name": "stderr",
     "output_type": "stream",
     "text": [
      "Epoch 25/512: 100%|██████████████████████████████████████████████████████| 796/796 [00:15<00:00, 50.54it/s]\n"
     ]
    },
    {
     "name": "stdout",
     "output_type": "stream",
     "text": [
      "Epoch 25/512: Train Loss = 0.48396, Validation Loss = 0.46115, Train Accuracy = 0.66468, Validation Accuracy = 0.66978\n"
     ]
    },
    {
     "name": "stderr",
     "output_type": "stream",
     "text": [
      "Epoch 26/512: 100%|██████████████████████████████████████████████████████| 796/796 [00:14<00:00, 53.37it/s]\n"
     ]
    },
    {
     "name": "stdout",
     "output_type": "stream",
     "text": [
      "Epoch 26/512: Train Loss = 0.48121, Validation Loss = 0.45780, Train Accuracy = 0.66595, Validation Accuracy = 0.67647\n"
     ]
    },
    {
     "name": "stderr",
     "output_type": "stream",
     "text": [
      "Epoch 27/512: 100%|██████████████████████████████████████████████████████| 796/796 [00:15<00:00, 51.27it/s]\n"
     ]
    },
    {
     "name": "stdout",
     "output_type": "stream",
     "text": [
      "Epoch 27/512: Train Loss = 0.47893, Validation Loss = 0.44794, Train Accuracy = 0.66888, Validation Accuracy = 0.68142\n"
     ]
    },
    {
     "name": "stderr",
     "output_type": "stream",
     "text": [
      "Epoch 28/512: 100%|██████████████████████████████████████████████████████| 796/796 [00:15<00:00, 50.36it/s]\n"
     ]
    },
    {
     "name": "stdout",
     "output_type": "stream",
     "text": [
      "Epoch 28/512: Train Loss = 0.47761, Validation Loss = 0.45395, Train Accuracy = 0.66817, Validation Accuracy = 0.67840\n"
     ]
    },
    {
     "name": "stderr",
     "output_type": "stream",
     "text": [
      "Epoch 29/512: 100%|██████████████████████████████████████████████████████| 796/796 [00:15<00:00, 52.45it/s]\n"
     ]
    },
    {
     "name": "stdout",
     "output_type": "stream",
     "text": [
      "Epoch 29/512: Train Loss = 0.47593, Validation Loss = 0.45367, Train Accuracy = 0.67171, Validation Accuracy = 0.67840\n"
     ]
    },
    {
     "name": "stderr",
     "output_type": "stream",
     "text": [
      "Epoch 30/512: 100%|██████████████████████████████████████████████████████| 796/796 [00:15<00:00, 52.11it/s]\n"
     ]
    },
    {
     "name": "stdout",
     "output_type": "stream",
     "text": [
      "Epoch 30/512: Train Loss = 0.47429, Validation Loss = 0.43675, Train Accuracy = 0.67155, Validation Accuracy = 0.69077\n"
     ]
    },
    {
     "name": "stderr",
     "output_type": "stream",
     "text": [
      "Epoch 31/512: 100%|██████████████████████████████████████████████████████| 796/796 [00:15<00:00, 51.36it/s]\n"
     ]
    },
    {
     "name": "stdout",
     "output_type": "stream",
     "text": [
      "Epoch 31/512: Train Loss = 0.47118, Validation Loss = 0.44044, Train Accuracy = 0.67414, Validation Accuracy = 0.68582\n"
     ]
    },
    {
     "name": "stderr",
     "output_type": "stream",
     "text": [
      "Epoch 32/512: 100%|██████████████████████████████████████████████████████| 796/796 [00:15<00:00, 50.22it/s]\n"
     ]
    },
    {
     "name": "stdout",
     "output_type": "stream",
     "text": [
      "Epoch 32/512: Train Loss = 0.47029, Validation Loss = 0.43606, Train Accuracy = 0.67261, Validation Accuracy = 0.69233\n"
     ]
    },
    {
     "name": "stderr",
     "output_type": "stream",
     "text": [
      "Epoch 33/512: 100%|██████████████████████████████████████████████████████| 796/796 [00:15<00:00, 52.61it/s]\n"
     ]
    },
    {
     "name": "stdout",
     "output_type": "stream",
     "text": [
      "Epoch 33/512: Train Loss = 0.47026, Validation Loss = 0.44182, Train Accuracy = 0.67241, Validation Accuracy = 0.68546\n"
     ]
    },
    {
     "name": "stderr",
     "output_type": "stream",
     "text": [
      "Epoch 34/512: 100%|██████████████████████████████████████████████████████| 796/796 [00:15<00:00, 51.80it/s]\n"
     ]
    },
    {
     "name": "stdout",
     "output_type": "stream",
     "text": [
      "Epoch 34/512: Train Loss = 0.46920, Validation Loss = 0.43549, Train Accuracy = 0.67353, Validation Accuracy = 0.69114\n"
     ]
    },
    {
     "name": "stderr",
     "output_type": "stream",
     "text": [
      "Epoch 35/512: 100%|██████████████████████████████████████████████████████| 796/796 [00:14<00:00, 53.66it/s]\n"
     ]
    },
    {
     "name": "stdout",
     "output_type": "stream",
     "text": [
      "Epoch 35/512: Train Loss = 0.46719, Validation Loss = 0.44115, Train Accuracy = 0.67373, Validation Accuracy = 0.68976\n"
     ]
    },
    {
     "name": "stderr",
     "output_type": "stream",
     "text": [
      "Epoch 36/512: 100%|██████████████████████████████████████████████████████| 796/796 [00:14<00:00, 53.23it/s]\n"
     ]
    }
   ],
   "source": [
    "import argparse\n",
    "\n",
    "training_args = argparse.Namespace(**args)\n",
    "train_model(training_args, device)"
   ]
  },
  {
   "cell_type": "code",
   "execution_count": null,
   "metadata": {},
   "outputs": [],
   "source": []
  }
 ],
 "metadata": {
  "kernelspec": {
   "display_name": "Python (myenv)",
   "language": "python",
   "name": "myenv"
  },
  "language_info": {
   "codemirror_mode": {
    "name": "ipython",
    "version": 3
   },
   "file_extension": ".py",
   "mimetype": "text/x-python",
   "name": "python",
   "nbconvert_exporter": "python",
   "pygments_lexer": "ipython3",
   "version": "3.12.7"
  }
 },
 "nbformat": 4,
 "nbformat_minor": 4
}
